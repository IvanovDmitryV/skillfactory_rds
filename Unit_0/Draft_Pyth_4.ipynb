{
 "cells": [
  {
   "cell_type": "code",
   "execution_count": 1,
   "metadata": {},
   "outputs": [],
   "source": [
    "def square(x):    \n",
    "    return x**2    "
   ]
  },
  {
   "cell_type": "markdown",
   "metadata": {},
   "source": [
    "Теперь попробуйте вы. Посчитайте квадрат 20. Для этого вызовите функцию square для 20 и запишите результат в переменную square_result"
   ]
  },
  {
   "cell_type": "code",
   "execution_count": 2,
   "metadata": {},
   "outputs": [
    {
     "name": "stdout",
     "output_type": "stream",
     "text": [
      "400\n"
     ]
    }
   ],
   "source": [
    "def square(x):\n",
    "    return x**2\n",
    "\n",
    "square_result = square(20)\n",
    "\n",
    "print(square_result)"
   ]
  },
  {
   "cell_type": "markdown",
   "metadata": {},
   "source": [
    "Напишите функцию power, которая возводит первый аргумент в степень второго аргумента. Например, power(2, 3) должен вернуть 8, а power(4, 2) - 16"
   ]
  },
  {
   "cell_type": "code",
   "execution_count": null,
   "metadata": {},
   "outputs": [],
   "source": [
    "def power(x,y):\n",
    "    return (x**y)\n"
   ]
  },
  {
   "cell_type": "markdown",
   "metadata": {},
   "source": [
    "Постройте функцию get_median, которая принимает на вход список чисел и возвращает медиану, например, для этого списка.\n",
    "\n",
    "get_median([5, 2, 1, 3, 4]) должен вернуть 3\n",
    "get_median([3, 3, 7, 9]) должен вернуть 5"
   ]
  },
  {
   "cell_type": "code",
   "execution_count": 27,
   "metadata": {},
   "outputs": [],
   "source": [
    "x = [5, 2, 1, 3, 4]"
   ]
  },
  {
   "cell_type": "code",
   "execution_count": 15,
   "metadata": {},
   "outputs": [],
   "source": [
    "x = [3, 3, 7, 9]"
   ]
  },
  {
   "cell_type": "code",
   "execution_count": 29,
   "metadata": {},
   "outputs": [
    {
     "data": {
      "text/plain": [
       "3"
      ]
     },
     "execution_count": 29,
     "metadata": {},
     "output_type": "execute_result"
    }
   ],
   "source": [
    "def get_median(lst):\n",
    "    lst.sort()\n",
    "    l = len(lst) \n",
    "    if l%2 == 0:\n",
    "        return((lst[l//2-1]+lst[l//2])/2)\n",
    "    else:\n",
    "        return(lst[l//2])\n",
    "    \n",
    "    \n",
    "get_median(x)"
   ]
  },
  {
   "cell_type": "markdown",
   "metadata": {},
   "source": [
    "Перепишите код ниже, определив функцию avg_orders(user_db), которая возвращает среднее число заказов по данным в базе. Затем выведите на экран результат вызова этой функции для user_db\n",
    "\n"
   ]
  },
  {
   "cell_type": "code",
   "execution_count": 30,
   "metadata": {},
   "outputs": [
    {
     "name": "stdout",
     "output_type": "stream",
     "text": [
      "29.0\n"
     ]
    }
   ],
   "source": [
    "user_db = [{'orders': 12}, {'orders': 30}, {'orders': 45}]\n",
    "\n",
    "# перепишите эту часть\n",
    "def avg_orders(user_db):\n",
    "    order_sum = sum([user['orders'] for user in user_db])\n",
    "    orders_per_user = order_sum/len(user_db)\n",
    "    return(orders_per_user)\n",
    "print(avg_orders(user_db))"
   ]
  },
  {
   "cell_type": "markdown",
   "metadata": {},
   "source": [
    "Определите функцию get_euro_rate, которая возвращает случайное число от 65 до 85. Перепишите to_euro из примера выше, чтобы вместо постоянного exchange_rate 70 она использовала get_euro_rate\n",
    "\n",
    "Для выполнения задания вам потребуется функция random() из модуля random, которая возвращает случайное число от 0 до 1"
   ]
  },
  {
   "cell_type": "code",
   "execution_count": 38,
   "metadata": {},
   "outputs": [
    {
     "name": "stdout",
     "output_type": "stream",
     "text": [
      "78.12987788520877\n"
     ]
    }
   ],
   "source": [
    "def get_euro_rate():\n",
    "    from random import random\n",
    "    print(65 + (85-65)*random())\n",
    "\n",
    "def to_euro(price):  \n",
    "    exchange_rate =  get_euro_rate() \n",
    "    rounded = round(price/exchange_rate, 2)  \n",
    "    return '€' + str(rounded)"
   ]
  },
  {
   "cell_type": "code",
   "execution_count": 39,
   "metadata": {},
   "outputs": [],
   "source": [
    "#****************************************************************************************************"
   ]
  },
  {
   "cell_type": "code",
   "execution_count": 40,
   "metadata": {},
   "outputs": [
    {
     "name": "stdout",
     "output_type": "stream",
     "text": [
      "Hello\n"
     ]
    }
   ],
   "source": [
    "# Определим функцию, которая печатает \"привет\"  \n",
    "def say_hello():  \n",
    "    print(\"Hello\")  \n",
    "  \n",
    "# Мы можем положить её в другую переменную  \n",
    "greetings = say_hello  \n",
    "  \n",
    "# И она сработает так же, как исходная say_hello  \n",
    "greetings()  \n",
    "# => Hello  "
   ]
  },
  {
   "cell_type": "code",
   "execution_count": 41,
   "metadata": {},
   "outputs": [
    {
     "name": "stdout",
     "output_type": "stream",
     "text": [
      "I'm using <function double_string at 0x000002185748D3A8>\n"
     ]
    },
    {
     "data": {
      "text/plain": [
       "'hellohello'"
      ]
     },
     "execution_count": 41,
     "metadata": {},
     "output_type": "execute_result"
    }
   ],
   "source": [
    "def apply_the_operation(operation, argument):  \n",
    "    print(\"I'm using\", operation)  \n",
    "    return operation(argument)  \n",
    "  \n",
    "  \n",
    "def double_string(string):  \n",
    "    return string*2  \n",
    "  \n",
    "# передаём функцию double_string в apply_the_operation  \n",
    "apply_the_operation(double_string, 'hello')  \n",
    "# => I'm using <function double_string at 0x7f4c34265378>  \n",
    "# 'hellohello' "
   ]
  },
  {
   "cell_type": "code",
   "execution_count": 42,
   "metadata": {},
   "outputs": [
    {
     "name": "stdout",
     "output_type": "stream",
     "text": [
      "10\n"
     ]
    }
   ],
   "source": [
    "all_the = sum\n",
    "magic = range\n",
    "print(all_the(magic(5)))"
   ]
  },
  {
   "cell_type": "code",
   "execution_count": 43,
   "metadata": {},
   "outputs": [
    {
     "data": {
      "text/plain": [
       "['Mr. Boris', 'Mr. Ivan', 'Mr. Bob']"
      ]
     },
     "execution_count": 43,
     "metadata": {},
     "output_type": "execute_result"
    }
   ],
   "source": [
    "# => Определим функцию polite_name, которая делает вежливым одно имя \n",
    "def polite_name(name):  \n",
    "    return 'Mr. ' + name   \n",
    "  \n",
    "guests = [\"Boris\", \"Ivan\", \"Bob\"]\n",
    "guest_iterator = map(polite_name, guests)  # здесь мы применили polite_name к каждому имени  \n",
    "list(guest_iterator)  # вывoд  \n",
    "# => ['Mr. Boris', 'Mr. Ivan', 'Mr. Bob']  "
   ]
  },
  {
   "cell_type": "code",
   "execution_count": 44,
   "metadata": {},
   "outputs": [
    {
     "data": {
      "text/plain": [
       "[10.0, 1.0, 4.2, 0.73]"
      ]
     },
     "execution_count": 44,
     "metadata": {},
     "output_type": "execute_result"
    }
   ],
   "source": [
    "num_strings = [\"10\", \"1\", \"4.2\", \"0.73\"]  \n",
    "  \n",
    "list(map(float, num_strings))  \n",
    "# => [10.0, 1.0, 4.2, 0.73]  "
   ]
  },
  {
   "cell_type": "code",
   "execution_count": 46,
   "metadata": {},
   "outputs": [
    {
     "data": {
      "text/plain": [
       "[3, 3, 4, 2, 3]"
      ]
     },
     "execution_count": 46,
     "metadata": {},
     "output_type": "execute_result"
    }
   ],
   "source": [
    "word_sizes = list(map(len, [\"all\", \"you\", \"need\", \"is\", \"map\"]))\n",
    "word_sizes"
   ]
  },
  {
   "cell_type": "markdown",
   "metadata": {},
   "source": [
    "Если вы обратили внимание, в предыдущих частях модуля у вас было несколько заданий с функцией normalize. Нормализацию часто применяют в машинном обучении, приводят данные к виду, когда среднее значение равно 0, а стандартное отклонение — 1.\n",
    "\n",
    "Определите функцию normalize с тремя аргументами:\n",
    "\n",
    "numbers — список чисел;\n",
    "mean — число, необязательный аргумент, по умолчанию 0;\n",
    "std — число, необязательный аргумент, по умолчанию 1.\n",
    "Функция должна для каждого числа из numbers вычитать mean и полученный результат делить на std. На выходе ожидается список из этих новых чисел. normalize([10, 20])\n",
    "\n",
    "=> [10, 20]\n",
    "\n",
    "normalize([10, 20], std=2)\n",
    "\n",
    "=> [5, 10]\n",
    "\n",
    "normalize([10, 20], mean=15)\n",
    "\n",
    "=> [-5, 5]"
   ]
  },
  {
   "cell_type": "code",
   "execution_count": 1,
   "metadata": {},
   "outputs": [],
   "source": [
    "def normalize(numbers, mean = 0, std = 1):\n",
    "    result = []\n",
    "    for num in numbers:\n",
    "        result.append((num-mean)/std)\n",
    "    return result"
   ]
  },
  {
   "cell_type": "code",
   "execution_count": 2,
   "metadata": {},
   "outputs": [
    {
     "data": {
      "text/plain": [
       "[2.0, 10.0, 12.0, 4.0]"
      ]
     },
     "execution_count": 2,
     "metadata": {},
     "output_type": "execute_result"
    }
   ],
   "source": [
    "normalize([1,5,6,2],std = 0.5)"
   ]
  },
  {
   "cell_type": "code",
   "execution_count": 3,
   "metadata": {},
   "outputs": [
    {
     "name": "stdout",
     "output_type": "stream",
     "text": [
      "2\n",
      "96\n",
      "720\n"
     ]
    }
   ],
   "source": [
    "def multiply(*args):  \n",
    "    product = 1  \n",
    "    for num in args:  \n",
    "        product *= num  \n",
    "    return product   \n",
    "  \n",
    "print(multiply(2))  \n",
    "# => 2  \n",
    "print(multiply(8, 3, 4))  \n",
    "# => 96  \n",
    "print(multiply(1, 2, 3, 4, 5, 6))  \n",
    "# => 720   "
   ]
  },
  {
   "cell_type": "markdown",
   "metadata": {},
   "source": [
    "Теперь немного практики для закрепления. Определите функцию sum_args, которая суммирует все свои аргументы. Например, sum_args(10, 15, -4) должна возвращать 21"
   ]
  },
  {
   "cell_type": "code",
   "execution_count": 4,
   "metadata": {},
   "outputs": [
    {
     "data": {
      "text/plain": [
       "21"
      ]
     },
     "execution_count": 4,
     "metadata": {},
     "output_type": "execute_result"
    }
   ],
   "source": [
    "def sum_args(*args):\n",
    "    result = 0\n",
    "    for num in args:\n",
    "        result += num\n",
    "    return result\n",
    "\n",
    "sum_args(10, 15, -4)"
   ]
  },
  {
   "cell_type": "code",
   "execution_count": 5,
   "metadata": {},
   "outputs": [
    {
     "name": "stdout",
     "output_type": "stream",
     "text": [
      "school :  skillfactory\n",
      "school :  skillfactory\n",
      "course :  analytics\n",
      "language :  python\n"
     ]
    }
   ],
   "source": [
    "def print_config(**kwargs):  \n",
    "    for key, value in kwargs.items():  \n",
    "        print(key, \": \", value)  \n",
    "  \n",
    "  \n",
    "print_config(school=\"skillfactory\")  \n",
    "# => school :  skillfactory  \n",
    "print_config(school=\"skillfactory\", course=\"analytics\", language=\"python\")  \n",
    "# => school :  skillfactory  \n",
    "# course :  analytics  \n",
    "# language :  python  "
   ]
  },
  {
   "cell_type": "code",
   "execution_count": 6,
   "metadata": {},
   "outputs": [
    {
     "name": "stdout",
     "output_type": "stream",
     "text": [
      "verbose :  True\n",
      "mode :  constant\n",
      "verbose mode\n"
     ]
    }
   ],
   "source": [
    "def show_keys(**kwargs):\n",
    "    for key, value in kwargs.items():  \n",
    "        print(key, \": \", value)  \n",
    "    print(' '.join(kwargs.keys()))\n",
    "\n",
    "show_keys(verbose=True, mode='constant')"
   ]
  },
  {
   "cell_type": "markdown",
   "metadata": {},
   "source": [
    "Определите функцию count_letters(sentence, average), которая считает количество букв в строке без учёта пробелов. У функции должен быть необязательный булевый аргумент average, который по умолчанию равен False. Если он равен True, то функция должна возвращать количество букв в среднем на слово.\n",
    "\n",
    "count_letters(\"Beep boop\") # => 8\n",
    "count_letters(\"Beep boop\", average=True) # => 4\n",
    "count_letters(\"I will build my own theme park\") # => 24\n",
    "count_letters(\"I will build my own theme park\", average=True) # => 3.429\n",
    "\n",
    "Словом считается любая последовательность символов, отделённая пробелами или границами предложения. Cреднюю длину слова можно не округлять"
   ]
  },
  {
   "cell_type": "code",
   "execution_count": 18,
   "metadata": {},
   "outputs": [],
   "source": [
    "def count_letters(sentence, average = False):\n",
    "    list_of_words = sentence.split()\n",
    "    if average : return sum(map(len,list_of_words))/len(list_of_words)\n",
    "    else: return sum(map(len,list_of_words))"
   ]
  },
  {
   "cell_type": "markdown",
   "metadata": {},
   "source": [
    "Чему равно выражение?"
   ]
  },
  {
   "cell_type": "code",
   "execution_count": 23,
   "metadata": {},
   "outputs": [
    {
     "data": {
      "text/plain": [
       "'a'"
      ]
     },
     "execution_count": 23,
     "metadata": {},
     "output_type": "execute_result"
    }
   ],
   "source": [
    "words = [\"sofa\", \"suitcase\", \"valise\", \"picture\", \"basket\", \"carton\", \"doggie\"]\n",
    "list(map(lambda w: sorted(w)[0], words))[5]"
   ]
  },
  {
   "cell_type": "markdown",
   "metadata": {},
   "source": [
    "Напишите функцию always(n), которая возвращает функцию, которая в свою очередь возвращает n. Например,  \n",
    "\n",
    "five = always(5)  \n",
    "five() # должно вернуть 5"
   ]
  },
  {
   "cell_type": "code",
   "execution_count": 29,
   "metadata": {},
   "outputs": [],
   "source": [
    "def always(n):\n",
    "    def func(): return n\n",
    "    return func"
   ]
  },
  {
   "cell_type": "code",
   "execution_count": 30,
   "metadata": {},
   "outputs": [
    {
     "data": {
      "text/plain": [
       "5"
      ]
     },
     "execution_count": 30,
     "metadata": {},
     "output_type": "execute_result"
    }
   ],
   "source": [
    "five = always(5)\n",
    "five() # должно вернуть 5"
   ]
  },
  {
   "cell_type": "code",
   "execution_count": null,
   "metadata": {},
   "outputs": [],
   "source": []
  }
 ],
 "metadata": {
  "kernelspec": {
   "display_name": "Python 3",
   "language": "python",
   "name": "python3"
  },
  "language_info": {
   "codemirror_mode": {
    "name": "ipython",
    "version": 3
   },
   "file_extension": ".py",
   "mimetype": "text/x-python",
   "name": "python",
   "nbconvert_exporter": "python",
   "pygments_lexer": "ipython3",
   "version": "3.7.4"
  }
 },
 "nbformat": 4,
 "nbformat_minor": 2
}
