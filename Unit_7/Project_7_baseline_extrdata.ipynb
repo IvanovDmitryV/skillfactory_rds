{
 "cells": [
  {
   "cell_type": "code",
   "execution_count": 1,
   "metadata": {
    "papermill": {
     "duration": 0.040939,
     "end_time": "2020-12-08T20:05:54.086807",
     "exception": false,
     "start_time": "2020-12-08T20:05:54.045868",
     "status": "completed"
    },
    "tags": []
   },
   "outputs": [],
   "source": [
    "# <img src=\"https://whatcar.vn/media/2018/09/car-lot-940x470.jpg\"/>"
   ]
  },
  {
   "cell_type": "markdown",
   "metadata": {
    "papermill": {
     "duration": 0.040939,
     "end_time": "2020-12-08T20:05:54.086807",
     "exception": false,
     "start_time": "2020-12-08T20:05:54.045868",
     "status": "completed"
    },
    "tags": []
   },
   "source": [
    "## Прогнозирование стоимости автомобиля по характеристикам\n",
    "*Этот Ноутбук является Примером/Шаблоном (Baseline) к этому соревнованию и не служит готовым решением!*   \n",
    "Вы можете использовать его как основу для построения своего решения.\n",
    "\n",
    "\n",
    "> **baseline** создается больше как шаблон, где можно посмотреть как происходит обращение с входящими данными и что нужно получить на выходе. При этом МЛ начинка может быть достаточно простой. Это помогает быстрее приступить к самому МЛ, а не тратить ценное время на чисто инженерные задачи. \n",
    "Также baseline является хорошей опорной точкой по метрике. Если твое решение хуже baseline - ты явно делаешь что-то не то и стоит попробовать другой путь) "
   ]
  },
  {
   "cell_type": "markdown",
   "metadata": {
    "papermill": {
     "duration": 0.038262,
     "end_time": "2020-12-08T20:05:54.162809",
     "exception": false,
     "start_time": "2020-12-08T20:05:54.124547",
     "status": "completed"
    },
    "tags": []
   },
   "source": [
    "Помним, что по условию соревнования, нам нужно самостоятельно собрать обучающий датасет. В этом ноутбуке мы не будем рассматривать сбор данных. Предположим, что мы уже все собрали и просто подключили свой датасет через \"Add Data\", чтобы приступить к самому ML."
   ]
  },
  {
   "cell_type": "code",
   "execution_count": 72,
   "metadata": {
    "_cell_guid": "b1076dfc-b9ad-4769-8c92-a6c4dae69d19",
    "_uuid": "8f2839f25d086af736a60e9eeb907d3b93b6e0e5",
    "execution": {
     "iopub.execute_input": "2020-12-08T20:05:54.245832Z",
     "iopub.status.busy": "2020-12-08T20:05:54.245054Z",
     "iopub.status.idle": "2020-12-08T20:05:55.424297Z",
     "shell.execute_reply": "2020-12-08T20:05:55.423631Z"
    },
    "papermill": {
     "duration": 1.22345,
     "end_time": "2020-12-08T20:05:55.424430",
     "exception": false,
     "start_time": "2020-12-08T20:05:54.200980",
     "status": "completed"
    },
    "tags": []
   },
   "outputs": [],
   "source": [
    "import numpy as np # linear algebra\n",
    "import pandas as pd # data processing, CSV file I/O (e.g. pd.read_csv)\n",
    "import sys\n",
    "import re\n",
    "\n",
    "from sklearn.model_selection import train_test_split\n",
    "from sklearn.model_selection import KFold\n",
    "from tqdm.notebook import tqdm\n",
    "from catboost import CatBoostRegressor\n",
    "from sklearn.preprocessing import LabelEncoder\n",
    "\n",
    "import warnings\n",
    "warnings.filterwarnings(\"ignore\")"
   ]
  },
  {
   "cell_type": "code",
   "execution_count": 3,
   "metadata": {
    "_kg_hide-input": true,
    "execution": {
     "iopub.execute_input": "2020-12-08T20:05:55.505807Z",
     "iopub.status.busy": "2020-12-08T20:05:55.504955Z",
     "iopub.status.idle": "2020-12-08T20:05:55.508661Z",
     "shell.execute_reply": "2020-12-08T20:05:55.509419Z"
    },
    "papermill": {
     "duration": 0.047476,
     "end_time": "2020-12-08T20:05:55.509609",
     "exception": false,
     "start_time": "2020-12-08T20:05:55.462133",
     "status": "completed"
    },
    "tags": []
   },
   "outputs": [
    {
     "name": "stdout",
     "output_type": "stream",
     "text": [
      "Python       : 3.7.4 (default, Aug  9 2019, 18:34:13) [MSC v.1915 64 bit (AMD64)]\n",
      "Numpy        : 1.16.5\n"
     ]
    }
   ],
   "source": [
    "print('Python       :', sys.version.split('\\n')[0])\n",
    "print('Numpy        :', np.__version__)"
   ]
  },
  {
   "cell_type": "code",
   "execution_count": 4,
   "metadata": {
    "_kg_hide-input": true,
    "execution": {
     "iopub.execute_input": "2020-12-08T20:05:55.591902Z",
     "iopub.status.busy": "2020-12-08T20:05:55.591156Z",
     "iopub.status.idle": "2020-12-08T20:05:58.511932Z",
     "shell.execute_reply": "2020-12-08T20:05:58.511308Z"
    },
    "papermill": {
     "duration": 2.963379,
     "end_time": "2020-12-08T20:05:58.512066",
     "exception": false,
     "start_time": "2020-12-08T20:05:55.548687",
     "status": "completed"
    },
    "tags": []
   },
   "outputs": [],
   "source": [
    "# зафиксируем версию пакетов, чтобы эксперименты были воспроизводимы:\n",
    "# !pip freeze > requirements.txt"
   ]
  },
  {
   "cell_type": "code",
   "execution_count": 5,
   "metadata": {
    "execution": {
     "iopub.execute_input": "2020-12-08T20:05:58.593444Z",
     "iopub.status.busy": "2020-12-08T20:05:58.592700Z",
     "iopub.status.idle": "2020-12-08T20:05:58.595401Z",
     "shell.execute_reply": "2020-12-08T20:05:58.595988Z"
    },
    "papermill": {
     "duration": 0.045995,
     "end_time": "2020-12-08T20:05:58.596162",
     "exception": false,
     "start_time": "2020-12-08T20:05:58.550167",
     "status": "completed"
    },
    "tags": []
   },
   "outputs": [],
   "source": [
    "# всегда фиксируйте RANDOM_SEED, чтобы ваши эксперименты были воспроизводимы!\n",
    "RANDOM_SEED = 42"
   ]
  },
  {
   "cell_type": "code",
   "execution_count": 6,
   "metadata": {
    "_kg_hide-input": true,
    "execution": {
     "iopub.execute_input": "2020-12-08T20:05:58.677713Z",
     "iopub.status.busy": "2020-12-08T20:05:58.676998Z",
     "iopub.status.idle": "2020-12-08T20:05:58.679323Z",
     "shell.execute_reply": "2020-12-08T20:05:58.680052Z"
    },
    "papermill": {
     "duration": 0.046187,
     "end_time": "2020-12-08T20:05:58.680204",
     "exception": false,
     "start_time": "2020-12-08T20:05:58.634017",
     "status": "completed"
    },
    "tags": []
   },
   "outputs": [],
   "source": [
    "def mape(y_true, y_pred):\n",
    "    return np.mean(np.abs((y_pred-y_true)/y_true))"
   ]
  },
  {
   "cell_type": "markdown",
   "metadata": {
    "papermill": {
     "duration": 0.037845,
     "end_time": "2020-12-08T20:05:58.756136",
     "exception": false,
     "start_time": "2020-12-08T20:05:58.718291",
     "status": "completed"
    },
    "tags": []
   },
   "source": [
    "# Setup"
   ]
  },
  {
   "cell_type": "code",
   "execution_count": 7,
   "metadata": {
    "execution": {
     "iopub.execute_input": "2020-12-08T20:05:58.838389Z",
     "iopub.status.busy": "2020-12-08T20:05:58.837433Z",
     "iopub.status.idle": "2020-12-08T20:05:58.840400Z",
     "shell.execute_reply": "2020-12-08T20:05:58.839704Z"
    },
    "papermill": {
     "duration": 0.046269,
     "end_time": "2020-12-08T20:05:58.840525",
     "exception": false,
     "start_time": "2020-12-08T20:05:58.794256",
     "status": "completed"
    },
    "tags": []
   },
   "outputs": [],
   "source": [
    "VERSION    = 16\n",
    "DIR  = './Project_7_data/' # подключил к ноутбуку внешний датасет\n",
    "VAL_SIZE   = 0.20   # 20%\n",
    "\n",
    "marks_for_parsing = ['SKODA', 'AUDI', 'HONDA', 'VOLVO', 'BMW', 'NISSAN', 'INFINITI',\n",
    "       'MERCEDES', 'TOYOTA', 'LEXUS', 'VOLKSWAGEN', 'MITSUBISHI']"
   ]
  },
  {
   "cell_type": "markdown",
   "metadata": {
    "papermill": {
     "duration": 0.038545,
     "end_time": "2020-12-08T20:05:58.917218",
     "exception": false,
     "start_time": "2020-12-08T20:05:58.878673",
     "status": "completed"
    },
    "tags": []
   },
   "source": [
    "# Data"
   ]
  },
  {
   "cell_type": "code",
   "execution_count": 8,
   "metadata": {
    "execution": {
     "iopub.execute_input": "2020-12-08T20:05:59.003837Z",
     "iopub.status.busy": "2020-12-08T20:05:58.999070Z",
     "iopub.status.idle": "2020-12-08T20:05:59.737382Z",
     "shell.execute_reply": "2020-12-08T20:05:59.736785Z"
    },
    "papermill": {
     "duration": 0.781896,
     "end_time": "2020-12-08T20:05:59.737512",
     "exception": false,
     "start_time": "2020-12-08T20:05:58.955616",
     "status": "completed"
    },
    "tags": []
   },
   "outputs": [],
   "source": [
    "# !ls '../input'"
   ]
  },
  {
   "cell_type": "code",
   "execution_count": 9,
   "metadata": {
    "_cell_guid": "79c7e3d0-c299-4dcb-8224-4455121ee9b0",
    "_uuid": "d629ff2d2480ee46fbb7e2d37f6b5fab8052498a",
    "execution": {
     "iopub.execute_input": "2020-12-08T20:05:59.826929Z",
     "iopub.status.busy": "2020-12-08T20:05:59.826111Z",
     "iopub.status.idle": "2020-12-08T20:06:12.408413Z",
     "shell.execute_reply": "2020-12-08T20:06:12.407709Z"
    },
    "papermill": {
     "duration": 12.631911,
     "end_time": "2020-12-08T20:06:12.408539",
     "exception": false,
     "start_time": "2020-12-08T20:05:59.776628",
     "status": "completed"
    },
    "tags": []
   },
   "outputs": [],
   "source": [
    "train = pd.read_csv('./Preproject_7_data/all_auto_ru_09_09_2020.csv') # датасет для обучения модели \n",
    "test = pd.read_csv(DIR+'test.csv')\n",
    "sample_submission = pd.read_csv(DIR+'sample_submission.csv')\n",
    "\n",
    "train_1 = pd.read_csv(DIR+'auto_ru_2020_09_09.csv') # датасет для обучения модели\n",
    "train_2 = pd.read_csv(DIR+'auto_ru_2020_10_19.csv') # датасет для обучения модели\n",
    "train_3 = pd.read_csv(DIR+'auto_ru_2021_08_13.csv') # датасет для обучения модели\n",
    "train_4 = pd.read_csv(DIR+'auto_ru_2021_08_29.csv') # датасет для обучения модели\n",
    "train_5 = pd.read_csv(DIR+'auto_ru_2021_10_01.csv') # датасет для обучения модели"
   ]
  },
  {
   "cell_type": "code",
   "execution_count": 10,
   "metadata": {
    "execution": {
     "iopub.execute_input": "2020-12-08T20:06:12.524409Z",
     "iopub.status.busy": "2020-12-08T20:06:12.509676Z",
     "iopub.status.idle": "2020-12-08T20:06:12.541977Z",
     "shell.execute_reply": "2020-12-08T20:06:12.542555Z"
    },
    "papermill": {
     "duration": 0.095591,
     "end_time": "2020-12-08T20:06:12.542726",
     "exception": false,
     "start_time": "2020-12-08T20:06:12.447135",
     "status": "completed"
    },
    "tags": []
   },
   "outputs": [],
   "source": [
    "# train.head(5)"
   ]
  },
  {
   "cell_type": "code",
   "execution_count": 11,
   "metadata": {
    "execution": {
     "iopub.execute_input": "2020-12-08T20:06:12.626622Z",
     "iopub.status.busy": "2020-12-08T20:06:12.625921Z",
     "iopub.status.idle": "2020-12-08T20:06:12.801395Z",
     "shell.execute_reply": "2020-12-08T20:06:12.800680Z"
    },
    "papermill": {
     "duration": 0.219581,
     "end_time": "2020-12-08T20:06:12.801516",
     "exception": false,
     "start_time": "2020-12-08T20:06:12.581935",
     "status": "completed"
    },
    "tags": []
   },
   "outputs": [],
   "source": [
    "# train_1.info()"
   ]
  },
  {
   "cell_type": "code",
   "execution_count": 12,
   "metadata": {
    "execution": {
     "iopub.execute_input": "2020-12-08T20:06:12.913004Z",
     "iopub.status.busy": "2020-12-08T20:06:12.911915Z",
     "iopub.status.idle": "2020-12-08T20:06:12.916377Z",
     "shell.execute_reply": "2020-12-08T20:06:12.916901Z"
    },
    "papermill": {
     "duration": 0.075868,
     "end_time": "2020-12-08T20:06:12.917066",
     "exception": false,
     "start_time": "2020-12-08T20:06:12.841198",
     "status": "completed"
    },
    "tags": []
   },
   "outputs": [],
   "source": [
    "# test.head(5)"
   ]
  },
  {
   "cell_type": "code",
   "execution_count": 13,
   "metadata": {
    "execution": {
     "iopub.execute_input": "2020-12-08T20:06:13.101214Z",
     "iopub.status.busy": "2020-12-08T20:06:13.100445Z",
     "iopub.status.idle": "2020-12-08T20:06:13.115243Z",
     "shell.execute_reply": "2020-12-08T20:06:13.115837Z"
    },
    "papermill": {
     "duration": 0.158478,
     "end_time": "2020-12-08T20:06:13.115998",
     "exception": false,
     "start_time": "2020-12-08T20:06:12.957520",
     "status": "completed"
    },
    "tags": []
   },
   "outputs": [],
   "source": [
    "# test.info()"
   ]
  },
  {
   "cell_type": "markdown",
   "metadata": {
    "papermill": {
     "duration": 0.040755,
     "end_time": "2020-12-08T20:06:13.198871",
     "exception": false,
     "start_time": "2020-12-08T20:06:13.158116",
     "status": "completed"
    },
    "tags": []
   },
   "source": [
    "## Data Preprocessing"
   ]
  },
  {
   "cell_type": "code",
   "execution_count": 14,
   "metadata": {
    "execution": {
     "iopub.execute_input": "2020-12-08T20:06:13.286794Z",
     "iopub.status.busy": "2020-12-08T20:06:13.285708Z",
     "iopub.status.idle": "2020-12-08T20:06:13.288965Z",
     "shell.execute_reply": "2020-12-08T20:06:13.288278Z"
    },
    "papermill": {
     "duration": 0.048916,
     "end_time": "2020-12-08T20:06:13.289097",
     "exception": false,
     "start_time": "2020-12-08T20:06:13.240181",
     "status": "completed"
    },
    "tags": []
   },
   "outputs": [],
   "source": [
    "# ... "
   ]
  },
  {
   "cell_type": "code",
   "execution_count": 15,
   "metadata": {
    "execution": {
     "iopub.execute_input": "2020-12-08T20:06:13.379349Z",
     "iopub.status.busy": "2020-12-08T20:06:13.378619Z",
     "iopub.status.idle": "2020-12-08T20:06:13.470205Z",
     "shell.execute_reply": "2020-12-08T20:06:13.470768Z"
    },
    "papermill": {
     "duration": 0.140649,
     "end_time": "2020-12-08T20:06:13.470935",
     "exception": false,
     "start_time": "2020-12-08T20:06:13.330286",
     "status": "completed"
    },
    "tags": []
   },
   "outputs": [],
   "source": [
    "train.dropna(subset=['productionDate','mileage'], inplace=True)\n",
    "train.dropna(subset=['price'], inplace=True)"
   ]
  },
  {
   "cell_type": "code",
   "execution_count": 16,
   "metadata": {},
   "outputs": [],
   "source": [
    "train_1.dropna(subset=['productionDate','mileage'], inplace=True)\n",
    "train_1.dropna(subset=['price'], inplace=True)\n",
    "train_2.dropna(subset=['productionDate','mileage'], inplace=True)\n",
    "train_2.dropna(subset=['price'], inplace=True)\n",
    "train_3.dropna(subset=['productionDate','mileage'], inplace=True)\n",
    "train_3.dropna(subset=['price'], inplace=True)\n",
    "train_4.dropna(subset=['productionDate','mileage'], inplace=True)\n",
    "train_4.dropna(subset=['price'], inplace=True)\n",
    "train_5.dropna(subset=['productionDate','mileage'], inplace=True)\n",
    "train_5.dropna(subset=['price'], inplace=True)"
   ]
  },
  {
   "cell_type": "code",
   "execution_count": 17,
   "metadata": {
    "execution": {
     "iopub.execute_input": "2020-12-08T20:06:13.563864Z",
     "iopub.status.busy": "2020-12-08T20:06:13.559461Z",
     "iopub.status.idle": "2020-12-08T20:06:13.568346Z",
     "shell.execute_reply": "2020-12-08T20:06:13.568904Z"
    },
    "papermill": {
     "duration": 0.056755,
     "end_time": "2020-12-08T20:06:13.569063",
     "exception": false,
     "start_time": "2020-12-08T20:06:13.512308",
     "status": "completed"
    },
    "tags": []
   },
   "outputs": [],
   "source": [
    "# для baseline просто возьму пару схожих признаков без полной обработки\n",
    "columns = ['bodyType', 'brand', 'productionDate', 'engineDisplacement', 'mileage']\n",
    "df_train = train[columns]\n",
    "df_test = test[columns]\n",
    "\n",
    "df_train_1 = train_1[columns]\n",
    "df_train_2 = train_2[columns]\n",
    "df_train_3 = train_3[columns]\n",
    "df_train_4 = train_4[columns]\n",
    "df_train_5 = train_5[columns]"
   ]
  },
  {
   "cell_type": "code",
   "execution_count": 42,
   "metadata": {
    "execution": {
     "iopub.execute_input": "2020-12-08T20:06:13.656803Z",
     "iopub.status.busy": "2020-12-08T20:06:13.655867Z",
     "iopub.status.idle": "2020-12-08T20:06:13.658395Z",
     "shell.execute_reply": "2020-12-08T20:06:13.658942Z"
    },
    "papermill": {
     "duration": 0.048894,
     "end_time": "2020-12-08T20:06:13.659104",
     "exception": false,
     "start_time": "2020-12-08T20:06:13.610210",
     "status": "completed"
    },
    "tags": []
   },
   "outputs": [],
   "source": [
    "y = train['price']\n",
    "\n",
    "y_1 = train_1['price']\n",
    "y_2 = train_2['price']\n",
    "y_3 = train_3['price']\n",
    "y_4 = train_4['price']\n",
    "y_5 = train_5['price']"
   ]
  },
  {
   "cell_type": "markdown",
   "metadata": {
    "papermill": {
     "duration": 0.04078,
     "end_time": "2020-12-08T20:06:13.741356",
     "exception": false,
     "start_time": "2020-12-08T20:06:13.700576",
     "status": "completed"
    },
    "tags": []
   },
   "source": [
    "## Label Encoding"
   ]
  },
  {
   "cell_type": "code",
   "execution_count": 37,
   "metadata": {
    "execution": {
     "iopub.execute_input": "2020-12-08T20:06:13.835613Z",
     "iopub.status.busy": "2020-12-08T20:06:13.834351Z",
     "iopub.status.idle": "2020-12-08T20:06:13.864169Z",
     "shell.execute_reply": "2020-12-08T20:06:13.863443Z"
    },
    "papermill": {
     "duration": 0.078435,
     "end_time": "2020-12-08T20:06:13.864289",
     "exception": false,
     "start_time": "2020-12-08T20:06:13.785854",
     "status": "completed"
    },
    "tags": []
   },
   "outputs": [],
   "source": [
    "# ВАЖНО! дря корректной обработки признаков объединяем трейн и тест в один датасет\n",
    "df_train['sample'] = 1 # помечаем где у нас трейн\n",
    "df_test['sample'] = 0 # помечаем где у нас тест\n",
    "\n",
    "df_train_1['sample'] = 1 # помечаем где у нас трейн\n",
    "df_train_2['sample'] = 1 # помечаем где у нас трейн\n",
    "df_train_3['sample'] = 1 # помечаем где у нас трейн\n",
    "df_train_4['sample'] = 1 # помечаем где у нас трейн\n",
    "df_train_5['sample'] = 1 # помечаем где у нас трейн\n",
    "\n",
    "data = df_test.append(df_train, sort=False).reset_index(drop=True) # объединяем\n",
    "\n",
    "data_1 = df_test.append(df_train_1, sort=False).reset_index(drop=True) # объединяем\n",
    "data_2 = df_test.append(df_train_2, sort=False).reset_index(drop=True) # объединяем\n",
    "data_3 = df_test.append(df_train_3, sort=False).reset_index(drop=True) # объединяем\n",
    "data_4 = df_test.append(df_train_4, sort=False).reset_index(drop=True) # объединяем\n",
    "data_5 = df_test.append(df_train_5, sort=False).reset_index(drop=True) # объединяем"
   ]
  },
  {
   "cell_type": "code",
   "execution_count": 38,
   "metadata": {
    "execution": {
     "iopub.execute_input": "2020-12-08T20:06:13.973072Z",
     "iopub.status.busy": "2020-12-08T20:06:13.972276Z",
     "iopub.status.idle": "2020-12-08T20:06:14.013626Z",
     "shell.execute_reply": "2020-12-08T20:06:14.012973Z"
    },
    "papermill": {
     "duration": 0.107467,
     "end_time": "2020-12-08T20:06:14.013773",
     "exception": false,
     "start_time": "2020-12-08T20:06:13.906306",
     "status": "completed"
    },
    "tags": []
   },
   "outputs": [],
   "source": [
    "for colum in ['bodyType', 'brand', 'engineDisplacement']:\n",
    "    data[colum] = data[colum].astype('category').cat.codes\n",
    "\n",
    "for colum in ['bodyType', 'brand', 'engineDisplacement']:\n",
    "    data_1[colum] = data_1[colum].astype('category').cat.codes  \n",
    "    data_2[colum] = data_2[colum].astype('category').cat.codes      \n",
    "    data_3[colum] = data_3[colum].astype('category').cat.codes      \n",
    "    data_4[colum] = data_4[colum].astype('category').cat.codes \n",
    "    data_5[colum] = data_5[colum].astype('category').cat.codes  "
   ]
  },
  {
   "cell_type": "code",
   "execution_count": 39,
   "metadata": {
    "execution": {
     "iopub.execute_input": "2020-12-08T20:06:14.109173Z",
     "iopub.status.busy": "2020-12-08T20:06:14.106182Z",
     "iopub.status.idle": "2020-12-08T20:06:14.120044Z",
     "shell.execute_reply": "2020-12-08T20:06:14.119409Z"
    },
    "papermill": {
     "duration": 0.064415,
     "end_time": "2020-12-08T20:06:14.120164",
     "exception": false,
     "start_time": "2020-12-08T20:06:14.055749",
     "status": "completed"
    },
    "tags": []
   },
   "outputs": [
    {
     "name": "stdout",
     "output_type": "stream",
     "text": [
      "<class 'pandas.core.frame.DataFrame'>\n",
      "RangeIndex: 123654 entries, 0 to 123653\n",
      "Data columns (total 6 columns):\n",
      "bodyType              123654 non-null int16\n",
      "brand                 123654 non-null int8\n",
      "productionDate        123654 non-null int64\n",
      "engineDisplacement    123654 non-null int16\n",
      "mileage               123654 non-null int64\n",
      "sample                123654 non-null int64\n",
      "dtypes: int16(2), int64(3), int8(1)\n",
      "memory usage: 3.4 MB\n"
     ]
    }
   ],
   "source": [
    "data.info()"
   ]
  },
  {
   "cell_type": "code",
   "execution_count": 77,
   "metadata": {
    "execution": {
     "iopub.execute_input": "2020-12-08T20:06:14.211962Z",
     "iopub.status.busy": "2020-12-08T20:06:14.211175Z",
     "iopub.status.idle": "2020-12-08T20:06:14.232110Z",
     "shell.execute_reply": "2020-12-08T20:06:14.231350Z"
    },
    "papermill": {
     "duration": 0.06934,
     "end_time": "2020-12-08T20:06:14.232238",
     "exception": false,
     "start_time": "2020-12-08T20:06:14.162898",
     "status": "completed"
    },
    "tags": []
   },
   "outputs": [],
   "source": [
    "X = data.query('sample == 1').drop(['sample'], axis=1)\n",
    "X_sub = data.query('sample == 0').drop(['sample'], axis=1)\n",
    "\n",
    "X_1 = data_1.query('sample == 1').drop(['sample'], axis=1)\n",
    "X_2 = data_2.query('sample == 1').drop(['sample'], axis=1)\n",
    "X_3 = data_3.query('sample == 1').drop(['sample'], axis=1)\n",
    "X_4 = data_4.query('sample == 1').drop(['sample'], axis=1)\n",
    "X_5 = data_5.query('sample == 1').drop(['sample'], axis=1)\n",
    "\n",
    "X_4.mileage = X_4.mileage.apply(lambda x: int(re.sub(\"\\D\", \"\", x)))"
   ]
  },
  {
   "cell_type": "markdown",
   "metadata": {
    "papermill": {
     "duration": 0.042137,
     "end_time": "2020-12-08T20:06:14.317213",
     "exception": false,
     "start_time": "2020-12-08T20:06:14.275076",
     "status": "completed"
    },
    "tags": []
   },
   "source": [
    "## Train Split"
   ]
  },
  {
   "cell_type": "code",
   "execution_count": 82,
   "metadata": {
    "execution": {
     "iopub.execute_input": "2020-12-08T20:06:14.410805Z",
     "iopub.status.busy": "2020-12-08T20:06:14.407947Z",
     "iopub.status.idle": "2020-12-08T20:06:14.419263Z",
     "shell.execute_reply": "2020-12-08T20:06:14.419822Z"
    },
    "papermill": {
     "duration": 0.06012,
     "end_time": "2020-12-08T20:06:14.419980",
     "exception": false,
     "start_time": "2020-12-08T20:06:14.359860",
     "status": "completed"
    },
    "tags": []
   },
   "outputs": [],
   "source": [
    "X_train, X_test, y_train, y_test = train_test_split(X, y, test_size=VAL_SIZE, shuffle=True, random_state=RANDOM_SEED)\n",
    "\n",
    "X_train_1, X_test_1, y_train_1, y_test_1 = train_test_split(X_1, y_1, test_size=VAL_SIZE, shuffle=True, random_state=RANDOM_SEED)\n",
    "X_train_2, X_test_2, y_train_2, y_test_2 = train_test_split(X_2, y_2, test_size=VAL_SIZE, shuffle=True, random_state=RANDOM_SEED)\n",
    "X_train_3, X_test_3, y_train_3, y_test_3 = train_test_split(X_3, y_3, test_size=VAL_SIZE, shuffle=True, random_state=RANDOM_SEED)\n",
    "X_train_4, X_test_4, y_train_4, y_test_4 = train_test_split(X_4, y_4, test_size=VAL_SIZE, shuffle=True, random_state=RANDOM_SEED)\n",
    "X_train_5, X_test_5, y_train_5, y_test_5 = train_test_split(X_5, y_5, test_size=VAL_SIZE, shuffle=True, random_state=RANDOM_SEED)\n"
   ]
  },
  {
   "cell_type": "markdown",
   "metadata": {
    "papermill": {
     "duration": 0.042711,
     "end_time": "2020-12-08T20:06:14.793498",
     "exception": false,
     "start_time": "2020-12-08T20:06:14.750787",
     "status": "completed"
    },
    "tags": []
   },
   "source": [
    "# # Model 1 : CatBoost\n",
    "![] (https://pbs.twimg.com/media/DP-jUCyXcAArRTo.png:large)   \n",
    "\n",
    "\n",
    "У нас в данных практически все признаки категориальные. Специально для работы с такими данными была создана очень удобная библиотека CatBoost от Яндекса. [https://catboost.ai](http://)     \n",
    "На данный момент **CatBoost является одной из лучших библиотек для табличных данных!**\n",
    "\n",
    "#### Полезные видео о CatBoost (на русском):\n",
    "* [Доклад про CatBoost](https://youtu.be/9ZrfErvm97M)\n",
    "* [Свежий Туториал от команды CatBoost (практическая часть)](https://youtu.be/wQt4kgAOgV0) "
   ]
  },
  {
   "cell_type": "markdown",
   "metadata": {
    "papermill": {
     "duration": 0.042803,
     "end_time": "2020-12-08T20:06:14.879631",
     "exception": false,
     "start_time": "2020-12-08T20:06:14.836828",
     "status": "completed"
    },
    "tags": []
   },
   "source": [
    "## Fit"
   ]
  },
  {
   "cell_type": "markdown",
   "metadata": {
    "papermill": {
     "duration": 0.043722,
     "end_time": "2020-12-08T20:07:02.974464",
     "exception": false,
     "start_time": "2020-12-08T20:07:02.930742",
     "status": "completed"
    },
    "tags": []
   },
   "source": [
    "### Log Traget\n",
    "Попробуем взять таргет в логорифм - это позволит уменьшить влияние выбросов на обучение модели (используем для этого np.log и np.exp).    \n",
    "В принциепе мы можем использовать любое приобразование на целевую переменную. Например деление на курс доллара, евро или гречки :) в дату сбора данных, смотрим дату парсинга в тесте в **parsing_unixtime**"
   ]
  },
  {
   "cell_type": "code",
   "execution_count": 45,
   "metadata": {
    "execution": {
     "iopub.execute_input": "2020-12-08T20:07:03.179322Z",
     "iopub.status.busy": "2020-12-08T20:07:03.178054Z",
     "iopub.status.idle": "2020-12-08T20:07:51.138545Z",
     "shell.execute_reply": "2020-12-08T20:07:51.137900Z"
    },
    "papermill": {
     "duration": 48.018318,
     "end_time": "2020-12-08T20:07:51.138709",
     "exception": false,
     "start_time": "2020-12-08T20:07:03.120391",
     "status": "completed"
    },
    "tags": []
   },
   "outputs": [
    {
     "name": "stdout",
     "output_type": "stream",
     "text": [
      "Wall time: 26.4 s\n"
     ]
    },
    {
     "data": {
      "text/plain": [
       "<catboost.core.CatBoostRegressor at 0x1b13f7ecd88>"
      ]
     },
     "execution_count": 45,
     "metadata": {},
     "output_type": "execute_result"
    }
   ],
   "source": [
    "%%time\n",
    "model = CatBoostRegressor(iterations = 5000,random_seed = RANDOM_SEED,eval_metric='MAPE',\n",
    "                          custom_metric=['R2', 'MAE'],silent=True)\n",
    "model.fit(X_train, np.log(y_train),eval_set=(X_test, np.log(y_test)),verbose_eval=0,\n",
    "         use_best_model=True)"
   ]
  },
  {
   "cell_type": "code",
   "execution_count": 48,
   "metadata": {},
   "outputs": [
    {
     "name": "stdout",
     "output_type": "stream",
     "text": [
      "Wall time: 20.2 s\n"
     ]
    },
    {
     "data": {
      "text/plain": [
       "<catboost.core.CatBoostRegressor at 0x1b13f9e0748>"
      ]
     },
     "execution_count": 48,
     "metadata": {},
     "output_type": "execute_result"
    }
   ],
   "source": [
    "%%time\n",
    "model_1 = CatBoostRegressor(iterations = 5000,random_seed = RANDOM_SEED,eval_metric='MAPE',custom_metric=['R2', 'MAE'],silent=True)\n",
    "model_1.fit(X_train_1, np.log(y_train_1),eval_set=(X_test_1, np.log(y_test_1)),verbose_eval=0,use_best_model=True)"
   ]
  },
  {
   "cell_type": "code",
   "execution_count": 59,
   "metadata": {},
   "outputs": [],
   "source": [
    "# model_2 = CatBoostRegressor(iterations = 5000,random_seed = RANDOM_SEED,eval_metric='MAPE',custom_metric=['R2', 'MAE'],silent=True)\n",
    "# model_2.fit(X_train_2, np.log(y_train_2),eval_set=(X_test_2, np.log(y_test_2)),verbose_eval=0,use_best_model=True)"
   ]
  },
  {
   "cell_type": "code",
   "execution_count": 106,
   "metadata": {},
   "outputs": [
    {
     "name": "stdout",
     "output_type": "stream",
     "text": [
      "Wall time: 3min 2s\n"
     ]
    },
    {
     "data": {
      "text/plain": [
       "<catboost.core.CatBoostRegressor at 0x1b1024a8308>"
      ]
     },
     "execution_count": 106,
     "metadata": {},
     "output_type": "execute_result"
    }
   ],
   "source": [
    "%%time\n",
    "model_3 = CatBoostRegressor(iterations = 30000,random_seed = RANDOM_SEED,eval_metric='MAPE',custom_metric=['R2', 'MAE'],silent=True)\n",
    "model_3.fit(X_train_3, np.log(y_train_3),eval_set=(X_test_3, np.log(y_test_3)),verbose_eval=0,use_best_model=True)"
   ]
  },
  {
   "cell_type": "code",
   "execution_count": 83,
   "metadata": {},
   "outputs": [
    {
     "name": "stdout",
     "output_type": "stream",
     "text": [
      "Wall time: 25.7 s\n"
     ]
    },
    {
     "data": {
      "text/plain": [
       "<catboost.core.CatBoostRegressor at 0x1b17df10448>"
      ]
     },
     "execution_count": 83,
     "metadata": {},
     "output_type": "execute_result"
    }
   ],
   "source": [
    "%%time\n",
    "model_4 = CatBoostRegressor(iterations = 5000,random_seed = RANDOM_SEED,eval_metric='MAPE',custom_metric=['R2', 'MAE'],silent=True)\n",
    "model_4.fit(X_train_4, np.log(y_train_4),eval_set=(X_test_4, np.log(y_test_4)),verbose_eval=0,use_best_model=True)"
   ]
  },
  {
   "cell_type": "code",
   "execution_count": 64,
   "metadata": {},
   "outputs": [
    {
     "name": "stdout",
     "output_type": "stream",
     "text": [
      "Wall time: 25.4 s\n"
     ]
    },
    {
     "data": {
      "text/plain": [
       "<catboost.core.CatBoostRegressor at 0x1b1350fabc8>"
      ]
     },
     "execution_count": 64,
     "metadata": {},
     "output_type": "execute_result"
    }
   ],
   "source": [
    "%%time\n",
    "model_5 = CatBoostRegressor(iterations = 5000,random_seed = RANDOM_SEED,eval_metric='MAPE',custom_metric=['R2', 'MAE'],silent=True)\n",
    "model_5.fit(X_train_5, np.log(y_train_5),eval_set=(X_test_5, np.log(y_test_5)),verbose_eval=0,use_best_model=True)"
   ]
  },
  {
   "cell_type": "code",
   "execution_count": 84,
   "metadata": {
    "execution": {
     "iopub.execute_input": "2020-12-08T20:07:51.236732Z",
     "iopub.status.busy": "2020-12-08T20:07:51.235658Z",
     "iopub.status.idle": "2020-12-08T20:07:51.370469Z",
     "shell.execute_reply": "2020-12-08T20:07:51.369856Z"
    },
    "papermill": {
     "duration": 0.186449,
     "end_time": "2020-12-08T20:07:51.370603",
     "exception": false,
     "start_time": "2020-12-08T20:07:51.184154",
     "status": "completed"
    },
    "tags": []
   },
   "outputs": [],
   "source": [
    "predict_test = np.exp(model.predict(X_test))\n",
    "predict_submission = np.exp(model.predict(X_sub))"
   ]
  },
  {
   "cell_type": "code",
   "execution_count": 107,
   "metadata": {},
   "outputs": [],
   "source": [
    "predict_test_1 = np.exp(model_1.predict(X_test_1))\n",
    "predict_submission_1 = np.exp(model_1.predict(X_sub))\n",
    "# predict_test_2 = np.exp(model_2.predict(X_test_2))\n",
    "# predict_submission_2 = np.exp(model_2.predict(X_sub))\n",
    "predict_test_3 = np.exp(model_3.predict(X_test_3))\n",
    "predict_submission_3 = np.exp(model_3.predict(X_sub))\n",
    "predict_test_4 = np.exp(model_4.predict(X_test_4))\n",
    "predict_submission_4 = np.exp(model_4.predict(X_sub))\n",
    "predict_test_5 = np.exp(model_5.predict(X_test_5))\n",
    "predict_submission_5 = np.exp(model_5.predict(X_sub))"
   ]
  },
  {
   "cell_type": "code",
   "execution_count": 103,
   "metadata": {},
   "outputs": [
    {
     "data": {
      "text/plain": [
       "array([ 884839.61682161, 6748678.64015837,  935393.30887686, ...,\n",
       "        610367.31693531,  146307.77378115,  634479.38704248])"
      ]
     },
     "execution_count": 103,
     "metadata": {},
     "output_type": "execute_result"
    }
   ],
   "source": [
    "predict_test_3"
   ]
  },
  {
   "cell_type": "code",
   "execution_count": 108,
   "metadata": {},
   "outputs": [
    {
     "data": {
      "text/plain": [
       "array([ 909602.66834131, 7226455.8599095 ,  937950.25627104, ...,\n",
       "        604669.54655204,  150641.29394215,  642241.51060373])"
      ]
     },
     "execution_count": 108,
     "metadata": {},
     "output_type": "execute_result"
    }
   ],
   "source": [
    "predict_test_3"
   ]
  },
  {
   "cell_type": "code",
   "execution_count": 104,
   "metadata": {
    "execution": {
     "iopub.execute_input": "2020-12-08T20:07:51.465732Z",
     "iopub.status.busy": "2020-12-08T20:07:51.464874Z",
     "iopub.status.idle": "2020-12-08T20:07:51.470523Z",
     "shell.execute_reply": "2020-12-08T20:07:51.471108Z"
    },
    "papermill": {
     "duration": 0.055713,
     "end_time": "2020-12-08T20:07:51.471255",
     "exception": false,
     "start_time": "2020-12-08T20:07:51.415542",
     "status": "completed"
    },
    "tags": []
   },
   "outputs": [
    {
     "name": "stdout",
     "output_type": "stream",
     "text": [
      "Точность модели по метрике MAPE: 15.07%\n"
     ]
    }
   ],
   "source": [
    "print(f\"Точность модели по метрике MAPE: {(mape(y_test, predict_test))*100:0.2f}%\")"
   ]
  },
  {
   "cell_type": "code",
   "execution_count": 110,
   "metadata": {},
   "outputs": [
    {
     "name": "stdout",
     "output_type": "stream",
     "text": [
      "Точность модели_1 по метрике MAPE: 14.63%\n",
      "Точность модели_3 по метрике MAPE: 797567.64%\n",
      "Точность модели_4 по метрике MAPE: 0.35%\n",
      "Точность модели_5 по метрике MAPE: 6.29%\n"
     ]
    }
   ],
   "source": [
    "print(f\"Точность модели_1 по метрике MAPE: {(mape(y_test_1, predict_test_1))*100:0.2f}%\")\n",
    "print(f\"Точность модели_3 по метрике MAPE: {(mape(y_test_3, predict_test_3))*100:0.2f}%\")\n",
    "print(f\"Точность модели_4 по метрике MAPE: {(mape(y_test_4, predict_test_4))*100:0.2f}%\")\n",
    "print(f\"Точность модели_5 по метрике MAPE: {(mape(y_test_5, predict_test_5))*100:0.2f}%\")"
   ]
  },
  {
   "cell_type": "code",
   "execution_count": null,
   "metadata": {},
   "outputs": [],
   "source": []
  },
  {
   "cell_type": "markdown",
   "metadata": {
    "papermill": {
     "duration": 0.044946,
     "end_time": "2020-12-08T20:07:51.561495",
     "exception": false,
     "start_time": "2020-12-08T20:07:51.516549",
     "status": "completed"
    },
    "tags": []
   },
   "source": [
    "Как видим точность возросла до 15%, а что будет на ЛБ?"
   ]
  },
  {
   "cell_type": "markdown",
   "metadata": {
    "papermill": {
     "duration": 0.044851,
     "end_time": "2020-12-08T20:07:51.651549",
     "exception": false,
     "start_time": "2020-12-08T20:07:51.606698",
     "status": "completed"
    },
    "tags": []
   },
   "source": [
    "# Submission"
   ]
  },
  {
   "cell_type": "code",
   "execution_count": 90,
   "metadata": {
    "execution": {
     "iopub.execute_input": "2020-12-08T20:07:51.748244Z",
     "iopub.status.busy": "2020-12-08T20:07:51.747492Z",
     "iopub.status.idle": "2020-12-08T20:07:52.211475Z",
     "shell.execute_reply": "2020-12-08T20:07:52.210754Z"
    },
    "papermill": {
     "duration": 0.514793,
     "end_time": "2020-12-08T20:07:52.211601",
     "exception": false,
     "start_time": "2020-12-08T20:07:51.696808",
     "status": "completed"
    },
    "tags": []
   },
   "outputs": [],
   "source": [
    "sample_submission['price'] = predict_submission\n",
    "sample_submission.to_csv(f'submission_2_v{VERSION}.csv', index=False)\n",
    "# sample_submission.head(10)"
   ]
  },
  {
   "cell_type": "code",
   "execution_count": 111,
   "metadata": {},
   "outputs": [],
   "source": [
    "sample_submission['price'] = predict_submission_1\n",
    "sample_submission.to_csv(f'submission_model_1.csv', index=False)\n",
    "# sample_submission.head(10)\n",
    "sample_submission['price'] = predict_submission_4\n",
    "sample_submission.to_csv(f'submission_model_4.csv', index=False)\n",
    "sample_submission['price'] = predict_submission_5\n",
    "sample_submission.to_csv(f'submission_model_5.csv', index=False)"
   ]
  },
  {
   "cell_type": "code",
   "execution_count": null,
   "metadata": {},
   "outputs": [],
   "source": []
  },
  {
   "cell_type": "markdown",
   "metadata": {
    "papermill": {
     "duration": 0.045667,
     "end_time": "2020-12-08T20:07:52.303391",
     "exception": false,
     "start_time": "2020-12-08T20:07:52.257724",
     "status": "completed"
    },
    "tags": []
   },
   "source": [
    "В итоге получили **MAPE 27%** на ЛБ!\n",
    "\n",
    "Большая разница в ошибке может указывать на то что тест и трейн имеют различия по выборке или то что данные в трейне могли уже устареть и их нужно обновлять."
   ]
  },
  {
   "cell_type": "markdown",
   "metadata": {
    "papermill": {
     "duration": 0.045684,
     "end_time": "2020-12-08T20:07:52.395510",
     "exception": false,
     "start_time": "2020-12-08T20:07:52.349826",
     "status": "completed"
    },
    "tags": []
   },
   "source": [
    "# What's next?\n",
    "Или что еще можно сделать, чтоб улучшить результат:\n",
    "\n",
    "* Спарсить свежие данные \n",
    "* Посмотреть, что можно извлечь из признаков или как еще можно обработать признаки\n",
    "* Сгенерировать новые признаки\n",
    "* Попробовать подобрать параметры модели\n",
    "* Попробовать другие алгоритмы и библиотеки ML\n",
    "* Сделать Ансамбль моделей, Blending, Stacking"
   ]
  },
  {
   "cell_type": "markdown",
   "metadata": {
    "papermill": {
     "duration": 0.045828,
     "end_time": "2020-12-08T20:07:52.487430",
     "exception": false,
     "start_time": "2020-12-08T20:07:52.441602",
     "status": "completed"
    },
    "tags": []
   },
   "source": [
    "Подробный чек лист: https://docs.google.com/spreadsheets/d/1I_ErM3U0Cs7Rs1obyZbIEGtVn-H47pHNCi4xdDgUmXY/edit?usp=sharing"
   ]
  },
  {
   "cell_type": "code",
   "execution_count": null,
   "metadata": {
    "papermill": {
     "duration": 0.045523,
     "end_time": "2020-12-08T20:07:52.578870",
     "exception": false,
     "start_time": "2020-12-08T20:07:52.533347",
     "status": "completed"
    },
    "tags": []
   },
   "outputs": [],
   "source": []
  },
  {
   "cell_type": "markdown",
   "metadata": {
    "papermill": {
     "duration": 0.045502,
     "end_time": "2020-12-08T20:07:52.670332",
     "exception": false,
     "start_time": "2020-12-08T20:07:52.624830",
     "status": "completed"
    },
    "tags": []
   },
   "source": [
    "# ===================== EX =========================="
   ]
  },
  {
   "cell_type": "code",
   "execution_count": 23,
   "metadata": {
    "papermill": {
     "duration": 0.045502,
     "end_time": "2020-12-08T20:07:52.670332",
     "exception": false,
     "start_time": "2020-12-08T20:07:52.624830",
     "status": "completed"
    },
    "tags": []
   },
   "outputs": [
    {
     "data": {
      "text/plain": [
       "(49309, 26)"
      ]
     },
     "execution_count": 23,
     "metadata": {},
     "output_type": "execute_result"
    }
   ],
   "source": [
    "train[train.brand.apply(lambda x: x in marks_for_parsing)].shape"
   ]
  },
  {
   "cell_type": "code",
   "execution_count": null,
   "metadata": {},
   "outputs": [],
   "source": []
  }
 ],
 "metadata": {
  "kernelspec": {
   "display_name": "Python 3",
   "language": "python",
   "name": "python3"
  },
  "language_info": {
   "codemirror_mode": {
    "name": "ipython",
    "version": 3
   },
   "file_extension": ".py",
   "mimetype": "text/x-python",
   "name": "python",
   "nbconvert_exporter": "python",
   "pygments_lexer": "ipython3",
   "version": "3.7.4"
  },
  "papermill": {
   "duration": 123.720091,
   "end_time": "2020-12-08T20:07:52.915595",
   "environment_variables": {},
   "exception": null,
   "input_path": "__notebook__.ipynb",
   "output_path": "__notebook__.ipynb",
   "parameters": {},
   "start_time": "2020-12-08T20:05:49.195504",
   "version": "2.1.0"
  }
 },
 "nbformat": 4,
 "nbformat_minor": 4
}
