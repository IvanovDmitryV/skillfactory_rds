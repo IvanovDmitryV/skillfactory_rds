{
 "cells": [
  {
   "cell_type": "markdown",
   "metadata": {},
   "source": [
    "# Постановка задачи\n",
    "\n",
    "\n",
    "\n",
    "###  *Cогласно легенде задачи*\n",
    "*Мы работаем в компании, которая занимается продажей автомобилей с пробегом в Москве.*  \n",
    "*Основная задача компании и её менеджеров — максимально быстро находить выгодные предложения (проще говоря, купить ниже рынка, а продать дороже рынка).*  \n",
    "   \n",
    "<img src=\"https://universegadgets.com/userfiles/165/381_0.webp\"/>   \n",
    "   \n",
    "*Руководство компании просит нашу команду создать **модель, которая будет предсказывать стоимость автомобиля по его характеристикам**.*  \n",
    "*Только вот незадача: исторически сложилось, что компания изначально не собирала данные. Есть только небольшой датасет с историей продаж за короткий период, которого для обучения модели будет явно мало. Его мы будем использовать для теста, остальное придется собрать самим.*  \n",
    "\n",
    "Согласно условиям задачи завершающим этапом является участие в [сореновании на Kaggle](https://www.kaggle.com/c/sf-dst-car-price-prediction). Метрика используемая в соревновании - MAPE  (Mean Percentage Absolute Error) \n",
    "\n",
    "Задача естетсвенным образом разбивается на три этапа:\n",
    "- **Этап I:Сбор и подгтовка данных:** \n",
    "- **Этап II: EDA полученных данных**\n",
    "- **Этап III: Создание, настройка модели, участие в соревновании**\n",
    "   \n",
    "   \n",
    "### <a name=\"_\"></a>План работы: \n",
    "- [Импорт библиотек, установка параметров, определение функций](#0)\n",
    " - [Импорт библиотек](#0_0)\n",
    " - [Установка параметров](#0_1)\n",
    " - [Определение функций](#0_2)\n",
    "- [Ознакоомление -- Анализ валидационного набора данных](#1):\n",
    " - [Общий обзор](#1_0)\n",
    " - [Отбор принимаемых к расмотрению моделью данных](#1_1)\n",
    "- [Сбор и подгтовка данных](#2):\n",
    "  - [парсинг данных (https://auto.ru/moskva/)](#2_0)\n",
    "  - [привлечение сторонних данных](#2_1)\n",
    "  - [предобработка полученых данных (как парсинг, так и стороннние), приведение их к единому виду](#2_2)\n",
    "   - [дубли и пропуски](#2_2_0)\n",
    "   - [приведение к единому виду](#2_2_1)\n",
    "- [EDA полученных данных](#3)\n",
    "  - [EDA собсвенного набора](#3_0)\n",
    "  - [EDA сторонних данных](#3_1)\n",
    "  - [Сравнение распределений в наборах данных](#3_2)\n",
    "  - [Выводы, предварительный выбор модели, варианты обработки данных](#3_3)\n",
    "- [Создание, настройка модели, участие в соревновании](#4)\n",
    "  - создание Baseline, эксперименты с Baseline\n",
    "      - варианты обработки признаков\n",
    "      - features engineering\n",
    "      - сокращение признкового пространсва\n",
    "  - выбор моделей \n",
    "      - эксперименты с моделлями\n",
    "      - создание признаков\n",
    "      - отбор признаков\n",
    "      - подбор гиперпараметров модели\n",
    "  - анализ смещения цен, поиск поправочных коэффициентов\n",
    "      - анализ смещения\n",
    "      - нахождение корректирующих коэффициентов\n",
    "- [Ансамблирование](#5)\n",
    "   - Стекинг\n",
    "   - Блендинг"
   ]
  },
  {
   "cell_type": "markdown",
   "metadata": {},
   "source": [
    "# <a name=\"0\"></a> Импорт библиотек, установка параметров, определение функций\n",
    "## <a name=\"0_0\"></a> Импорт бибилиотек\n",
    "вернуться к [Плану работы](#_)"
   ]
  },
  {
   "cell_type": "code",
   "execution_count": 1,
   "metadata": {},
   "outputs": [
    {
     "name": "stdout",
     "output_type": "stream",
     "text": [
      "Populating the interactive namespace from numpy and matplotlib\n"
     ]
    },
    {
     "name": "stderr",
     "output_type": "stream",
     "text": [
      "C:\\Users\\GANSOR-PC\\Anaconda3\\lib\\site-packages\\IPython\\core\\magics\\pylab.py:160: UserWarning: pylab import has clobbered these variables: ['datetime']\n",
      "`%matplotlib` prevents importing * from pylab and numpy\n",
      "  \"\\n`%matplotlib` prevents importing * from pylab and numpy\"\n"
     ]
    }
   ],
   "source": [
    "import pandas as pd\n",
    "import numpy as np\n",
    "import json\n",
    "import time\n",
    "import re\n",
    "import matplotlib.pyplot as plt\n",
    "import seaborn as sns\n",
    "\n",
    "from datetime import datetime\n",
    "from datetime import date\n",
    "\n",
    "from catboost import CatBoostRegressor\n",
    "from sklearn.preprocessing import LabelEncoder\n",
    "from selenium import webdriver\n",
    "# from selenium.webdriver.chrome.service import Service\n",
    "# from selenium.webdriver.common.by import By\n",
    "# from tqdm import tqdm\n",
    "from bs4 import BeautifulSoup\n",
    "\n",
    "import warnings\n",
    "\n",
    "%pylab inline"
   ]
  },
  {
   "cell_type": "markdown",
   "metadata": {},
   "source": [
    "## <a name=\"0_1\"></a> Установка параметров и определение констант\n",
    "вернуться к [Плану работы](#_)"
   ]
  },
  {
   "cell_type": "code",
   "execution_count": 2,
   "metadata": {},
   "outputs": [],
   "source": [
    "from project_7_constants import *"
   ]
  },
  {
   "cell_type": "code",
   "execution_count": 3,
   "metadata": {},
   "outputs": [],
   "source": [
    "warnings.filterwarnings(\"ignore\")\n",
    "\n",
    "pd.set_option('display.max_rows', 70)    # выведем больше строк\n",
    "pd.set_option('display.max_columns', 30) # выведем больше колонок"
   ]
  },
  {
   "cell_type": "markdown",
   "metadata": {},
   "source": [
    "## <a name=\"0_2\"></a> Определение функций\n",
    "вернуться к [Плану работы](#_)"
   ]
  },
  {
   "cell_type": "code",
   "execution_count": 52,
   "metadata": {},
   "outputs": [],
   "source": [
    "from project_7_functions import *"
   ]
  },
  {
   "cell_type": "markdown",
   "metadata": {},
   "source": [
    "# <a name=\"1\"></a> Анализ  валидационных данных \n",
    "\n",
    "Что бы понимать какие признаки нам нужны для обучения модели нам необходимо узнать какие признаки описывают наблюдения, для которых мы должны предсказать целевую переменную.  \n",
    "\n",
    "Поэтому для начала исследуем набор данных эти наблюдения описывающие."
   ]
  },
  {
   "cell_type": "code",
   "execution_count": 5,
   "metadata": {},
   "outputs": [],
   "source": [
    "df_test = pd.read_csv(f'{path}test.csv')"
   ]
  },
  {
   "cell_type": "markdown",
   "metadata": {},
   "source": [
    "## <a name=\"1_0\"></a> Изучение валидационного набора\n",
    "### Общий обзор\n",
    "вернуться к [Плану работы](#_)"
   ]
  },
  {
   "cell_type": "code",
   "execution_count": 6,
   "metadata": {},
   "outputs": [
    {
     "name": "stdout",
     "output_type": "stream",
     "text": [
      "<class 'pandas.core.frame.DataFrame'>\n",
      "RangeIndex: 34686 entries, 0 to 34685\n",
      "Columns: 32 entries, bodyType to Таможня\n",
      "dtypes: int64(6), object(26)\n",
      "memory usage: 8.5+ MB\n"
     ]
    },
    {
     "data": {
      "text/html": [
       "<div>\n",
       "<style scoped>\n",
       "    .dataframe tbody tr th:only-of-type {\n",
       "        vertical-align: middle;\n",
       "    }\n",
       "\n",
       "    .dataframe tbody tr th {\n",
       "        vertical-align: top;\n",
       "    }\n",
       "\n",
       "    .dataframe thead th {\n",
       "        text-align: right;\n",
       "    }\n",
       "</style>\n",
       "<table border=\"1\" class=\"dataframe\">\n",
       "  <thead>\n",
       "    <tr style=\"text-align: right;\">\n",
       "      <th></th>\n",
       "      <th>count</th>\n",
       "      <th>unique</th>\n",
       "      <th>top</th>\n",
       "      <th>freq</th>\n",
       "      <th>min</th>\n",
       "      <th>max</th>\n",
       "      <th>type</th>\n",
       "      <th>NaN_prop</th>\n",
       "    </tr>\n",
       "  </thead>\n",
       "  <tbody>\n",
       "    <tr>\n",
       "      <td>bodyType</td>\n",
       "      <td>34686</td>\n",
       "      <td>24</td>\n",
       "      <td>седан</td>\n",
       "      <td>13147</td>\n",
       "      <td>NaN</td>\n",
       "      <td>NaN</td>\n",
       "      <td>&lt;class 'str'&gt;</td>\n",
       "      <td>0.000</td>\n",
       "    </tr>\n",
       "    <tr>\n",
       "      <td>brand</td>\n",
       "      <td>34686</td>\n",
       "      <td>12</td>\n",
       "      <td>BMW</td>\n",
       "      <td>4473</td>\n",
       "      <td>NaN</td>\n",
       "      <td>NaN</td>\n",
       "      <td>&lt;class 'str'&gt;</td>\n",
       "      <td>0.000</td>\n",
       "    </tr>\n",
       "    <tr>\n",
       "      <td>car_url</td>\n",
       "      <td>34686</td>\n",
       "      <td>34686</td>\n",
       "      <td>https://auto.ru/cars/used/sale</td>\n",
       "      <td>1</td>\n",
       "      <td>NaN</td>\n",
       "      <td>NaN</td>\n",
       "      <td>&lt;class 'str'&gt;</td>\n",
       "      <td>0.000</td>\n",
       "    </tr>\n",
       "    <tr>\n",
       "      <td>color</td>\n",
       "      <td>34686</td>\n",
       "      <td>16</td>\n",
       "      <td>чёрный</td>\n",
       "      <td>11010</td>\n",
       "      <td>NaN</td>\n",
       "      <td>NaN</td>\n",
       "      <td>&lt;class 'str'&gt;</td>\n",
       "      <td>0.000</td>\n",
       "    </tr>\n",
       "    <tr>\n",
       "      <td>complectation_dict</td>\n",
       "      <td>6418</td>\n",
       "      <td>2364</td>\n",
       "      <td>{\"id\":\"4562904\",\"name\":\"Elegan</td>\n",
       "      <td>51</td>\n",
       "      <td>NaN</td>\n",
       "      <td>NaN</td>\n",
       "      <td>&lt;class 'float'&gt;</td>\n",
       "      <td>0.815</td>\n",
       "    </tr>\n",
       "    <tr>\n",
       "      <td>description</td>\n",
       "      <td>34686</td>\n",
       "      <td>31732</td>\n",
       "      <td>Выгода до 82 000 руб. при обме</td>\n",
       "      <td>264</td>\n",
       "      <td>NaN</td>\n",
       "      <td>NaN</td>\n",
       "      <td>&lt;class 'str'&gt;</td>\n",
       "      <td>0.000</td>\n",
       "    </tr>\n",
       "    <tr>\n",
       "      <td>engineDisplacement</td>\n",
       "      <td>34686</td>\n",
       "      <td>55</td>\n",
       "      <td>2.0 LTR</td>\n",
       "      <td>7391</td>\n",
       "      <td>NaN</td>\n",
       "      <td>NaN</td>\n",
       "      <td>&lt;class 'str'&gt;</td>\n",
       "      <td>0.000</td>\n",
       "    </tr>\n",
       "    <tr>\n",
       "      <td>enginePower</td>\n",
       "      <td>34686</td>\n",
       "      <td>315</td>\n",
       "      <td>249 N12</td>\n",
       "      <td>1708</td>\n",
       "      <td>NaN</td>\n",
       "      <td>NaN</td>\n",
       "      <td>&lt;class 'str'&gt;</td>\n",
       "      <td>0.000</td>\n",
       "    </tr>\n",
       "    <tr>\n",
       "      <td>equipment_dict</td>\n",
       "      <td>24690</td>\n",
       "      <td>23705</td>\n",
       "      <td>{\"leather\":true}</td>\n",
       "      <td>108</td>\n",
       "      <td>NaN</td>\n",
       "      <td>NaN</td>\n",
       "      <td>&lt;class 'str'&gt;</td>\n",
       "      <td>0.288</td>\n",
       "    </tr>\n",
       "    <tr>\n",
       "      <td>fuelType</td>\n",
       "      <td>34686</td>\n",
       "      <td>5</td>\n",
       "      <td>бензин</td>\n",
       "      <td>28601</td>\n",
       "      <td>NaN</td>\n",
       "      <td>NaN</td>\n",
       "      <td>&lt;class 'str'&gt;</td>\n",
       "      <td>0.000</td>\n",
       "    </tr>\n",
       "    <tr>\n",
       "      <td>image</td>\n",
       "      <td>34686</td>\n",
       "      <td>34557</td>\n",
       "      <td>https://avatars.mds.yandex.net</td>\n",
       "      <td>13</td>\n",
       "      <td>NaN</td>\n",
       "      <td>NaN</td>\n",
       "      <td>&lt;class 'str'&gt;</td>\n",
       "      <td>0.000</td>\n",
       "    </tr>\n",
       "    <tr>\n",
       "      <td>mileage</td>\n",
       "      <td>34686</td>\n",
       "      <td>11268</td>\n",
       "      <td>200000.0</td>\n",
       "      <td>436</td>\n",
       "      <td>1</td>\n",
       "      <td>1e+06</td>\n",
       "      <td>&lt;class 'numpy.int64'&gt;</td>\n",
       "      <td>0.000</td>\n",
       "    </tr>\n",
       "    <tr>\n",
       "      <td>modelDate</td>\n",
       "      <td>34686</td>\n",
       "      <td>66</td>\n",
       "      <td>2010.0</td>\n",
       "      <td>2503</td>\n",
       "      <td>1904</td>\n",
       "      <td>2020</td>\n",
       "      <td>&lt;class 'numpy.int64'&gt;</td>\n",
       "      <td>0.000</td>\n",
       "    </tr>\n",
       "    <tr>\n",
       "      <td>model_info</td>\n",
       "      <td>34686</td>\n",
       "      <td>954</td>\n",
       "      <td>{\"code\":\"OCTAVIA\",\"name\":\"Octa</td>\n",
       "      <td>1404</td>\n",
       "      <td>NaN</td>\n",
       "      <td>NaN</td>\n",
       "      <td>&lt;class 'str'&gt;</td>\n",
       "      <td>0.000</td>\n",
       "    </tr>\n",
       "    <tr>\n",
       "      <td>model_name</td>\n",
       "      <td>34686</td>\n",
       "      <td>544</td>\n",
       "      <td>OCTAVIA</td>\n",
       "      <td>1418</td>\n",
       "      <td>NaN</td>\n",
       "      <td>NaN</td>\n",
       "      <td>&lt;class 'str'&gt;</td>\n",
       "      <td>0.000</td>\n",
       "    </tr>\n",
       "    <tr>\n",
       "      <td>name</td>\n",
       "      <td>34686</td>\n",
       "      <td>2780</td>\n",
       "      <td>1.6 AT (110 л.с.)</td>\n",
       "      <td>631</td>\n",
       "      <td>NaN</td>\n",
       "      <td>NaN</td>\n",
       "      <td>&lt;class 'str'&gt;</td>\n",
       "      <td>0.000</td>\n",
       "    </tr>\n",
       "    <tr>\n",
       "      <td>numberOfDoors</td>\n",
       "      <td>34686</td>\n",
       "      <td>5</td>\n",
       "      <td>5.0</td>\n",
       "      <td>18703</td>\n",
       "      <td>0</td>\n",
       "      <td>5</td>\n",
       "      <td>&lt;class 'numpy.int64'&gt;</td>\n",
       "      <td>0.000</td>\n",
       "    </tr>\n",
       "    <tr>\n",
       "      <td>parsing_unixtime</td>\n",
       "      <td>34686</td>\n",
       "      <td>34686</td>\n",
       "      <td>1603107306</td>\n",
       "      <td>1</td>\n",
       "      <td>1.60311e+09</td>\n",
       "      <td>1.60371e+09</td>\n",
       "      <td>&lt;class 'numpy.int64'&gt;</td>\n",
       "      <td>0.000</td>\n",
       "    </tr>\n",
       "    <tr>\n",
       "      <td>priceCurrency</td>\n",
       "      <td>34686</td>\n",
       "      <td>1</td>\n",
       "      <td>RUB</td>\n",
       "      <td>34686</td>\n",
       "      <td>NaN</td>\n",
       "      <td>NaN</td>\n",
       "      <td>&lt;class 'str'&gt;</td>\n",
       "      <td>0.000</td>\n",
       "    </tr>\n",
       "    <tr>\n",
       "      <td>productionDate</td>\n",
       "      <td>34686</td>\n",
       "      <td>69</td>\n",
       "      <td>2012.0</td>\n",
       "      <td>2798</td>\n",
       "      <td>1904</td>\n",
       "      <td>2020</td>\n",
       "      <td>&lt;class 'numpy.int64'&gt;</td>\n",
       "      <td>0.000</td>\n",
       "    </tr>\n",
       "    <tr>\n",
       "      <td>sell_id</td>\n",
       "      <td>34686</td>\n",
       "      <td>34686</td>\n",
       "      <td>2665</td>\n",
       "      <td>1</td>\n",
       "      <td>2665</td>\n",
       "      <td>1.10137e+09</td>\n",
       "      <td>&lt;class 'numpy.int64'&gt;</td>\n",
       "      <td>0.000</td>\n",
       "    </tr>\n",
       "    <tr>\n",
       "      <td>super_gen</td>\n",
       "      <td>34686</td>\n",
       "      <td>5890</td>\n",
       "      <td>{\"id\":\"6214876\",\"displacement\"</td>\n",
       "      <td>193</td>\n",
       "      <td>NaN</td>\n",
       "      <td>NaN</td>\n",
       "      <td>&lt;class 'str'&gt;</td>\n",
       "      <td>0.000</td>\n",
       "    </tr>\n",
       "    <tr>\n",
       "      <td>vehicleConfiguration</td>\n",
       "      <td>34686</td>\n",
       "      <td>634</td>\n",
       "      <td>ALLROAD_5_DOORS AUTOMATIC 3.0</td>\n",
       "      <td>2389</td>\n",
       "      <td>NaN</td>\n",
       "      <td>NaN</td>\n",
       "      <td>&lt;class 'str'&gt;</td>\n",
       "      <td>0.000</td>\n",
       "    </tr>\n",
       "    <tr>\n",
       "      <td>vehicleTransmission</td>\n",
       "      <td>34686</td>\n",
       "      <td>4</td>\n",
       "      <td>автоматическая</td>\n",
       "      <td>19596</td>\n",
       "      <td>NaN</td>\n",
       "      <td>NaN</td>\n",
       "      <td>&lt;class 'str'&gt;</td>\n",
       "      <td>0.000</td>\n",
       "    </tr>\n",
       "    <tr>\n",
       "      <td>vendor</td>\n",
       "      <td>34686</td>\n",
       "      <td>2</td>\n",
       "      <td>EUROPEAN</td>\n",
       "      <td>20682</td>\n",
       "      <td>NaN</td>\n",
       "      <td>NaN</td>\n",
       "      <td>&lt;class 'str'&gt;</td>\n",
       "      <td>0.000</td>\n",
       "    </tr>\n",
       "    <tr>\n",
       "      <td>Владельцы</td>\n",
       "      <td>34686</td>\n",
       "      <td>3</td>\n",
       "      <td>3 или более</td>\n",
       "      <td>15957</td>\n",
       "      <td>NaN</td>\n",
       "      <td>NaN</td>\n",
       "      <td>&lt;class 'str'&gt;</td>\n",
       "      <td>0.000</td>\n",
       "    </tr>\n",
       "    <tr>\n",
       "      <td>Владение</td>\n",
       "      <td>11995</td>\n",
       "      <td>275</td>\n",
       "      <td>1 год и 10 месяцев</td>\n",
       "      <td>209</td>\n",
       "      <td>NaN</td>\n",
       "      <td>NaN</td>\n",
       "      <td>&lt;class 'float'&gt;</td>\n",
       "      <td>0.654</td>\n",
       "    </tr>\n",
       "    <tr>\n",
       "      <td>ПТС</td>\n",
       "      <td>34685</td>\n",
       "      <td>2</td>\n",
       "      <td>Оригинал</td>\n",
       "      <td>30098</td>\n",
       "      <td>NaN</td>\n",
       "      <td>NaN</td>\n",
       "      <td>&lt;class 'str'&gt;</td>\n",
       "      <td>0.000</td>\n",
       "    </tr>\n",
       "    <tr>\n",
       "      <td>Привод</td>\n",
       "      <td>34686</td>\n",
       "      <td>3</td>\n",
       "      <td>передний</td>\n",
       "      <td>15565</td>\n",
       "      <td>NaN</td>\n",
       "      <td>NaN</td>\n",
       "      <td>&lt;class 'str'&gt;</td>\n",
       "      <td>0.000</td>\n",
       "    </tr>\n",
       "    <tr>\n",
       "      <td>Руль</td>\n",
       "      <td>34686</td>\n",
       "      <td>2</td>\n",
       "      <td>Левый</td>\n",
       "      <td>33287</td>\n",
       "      <td>NaN</td>\n",
       "      <td>NaN</td>\n",
       "      <td>&lt;class 'str'&gt;</td>\n",
       "      <td>0.000</td>\n",
       "    </tr>\n",
       "    <tr>\n",
       "      <td>Состояние</td>\n",
       "      <td>34686</td>\n",
       "      <td>1</td>\n",
       "      <td>Не требует ремонта</td>\n",
       "      <td>34686</td>\n",
       "      <td>NaN</td>\n",
       "      <td>NaN</td>\n",
       "      <td>&lt;class 'str'&gt;</td>\n",
       "      <td>0.000</td>\n",
       "    </tr>\n",
       "    <tr>\n",
       "      <td>Таможня</td>\n",
       "      <td>34686</td>\n",
       "      <td>1</td>\n",
       "      <td>Растаможен</td>\n",
       "      <td>34686</td>\n",
       "      <td>NaN</td>\n",
       "      <td>NaN</td>\n",
       "      <td>&lt;class 'str'&gt;</td>\n",
       "      <td>0.000</td>\n",
       "    </tr>\n",
       "  </tbody>\n",
       "</table>\n",
       "</div>"
      ],
      "text/plain": [
       "                      count  unique                             top   freq  \\\n",
       "bodyType              34686      24                           седан  13147   \n",
       "brand                 34686      12                             BMW   4473   \n",
       "car_url               34686   34686  https://auto.ru/cars/used/sale      1   \n",
       "color                 34686      16                          чёрный  11010   \n",
       "complectation_dict     6418    2364  {\"id\":\"4562904\",\"name\":\"Elegan     51   \n",
       "description           34686   31732  Выгода до 82 000 руб. при обме    264   \n",
       "engineDisplacement    34686      55                         2.0 LTR   7391   \n",
       "enginePower           34686     315                         249 N12   1708   \n",
       "equipment_dict        24690   23705                {\"leather\":true}    108   \n",
       "fuelType              34686       5                          бензин  28601   \n",
       "image                 34686   34557  https://avatars.mds.yandex.net     13   \n",
       "mileage               34686   11268                        200000.0    436   \n",
       "modelDate             34686      66                          2010.0   2503   \n",
       "model_info            34686     954  {\"code\":\"OCTAVIA\",\"name\":\"Octa   1404   \n",
       "model_name            34686     544                         OCTAVIA   1418   \n",
       "name                  34686    2780               1.6 AT (110 л.с.)    631   \n",
       "numberOfDoors         34686       5                             5.0  18703   \n",
       "parsing_unixtime      34686   34686                      1603107306      1   \n",
       "priceCurrency         34686       1                             RUB  34686   \n",
       "productionDate        34686      69                          2012.0   2798   \n",
       "sell_id               34686   34686                            2665      1   \n",
       "super_gen             34686    5890  {\"id\":\"6214876\",\"displacement\"    193   \n",
       "vehicleConfiguration  34686     634   ALLROAD_5_DOORS AUTOMATIC 3.0   2389   \n",
       "vehicleTransmission   34686       4                  автоматическая  19596   \n",
       "vendor                34686       2                        EUROPEAN  20682   \n",
       "Владельцы             34686       3                     3 или более  15957   \n",
       "Владение              11995     275              1 год и 10 месяцев    209   \n",
       "ПТС                   34685       2                        Оригинал  30098   \n",
       "Привод                34686       3                        передний  15565   \n",
       "Руль                  34686       2                           Левый  33287   \n",
       "Состояние             34686       1              Не требует ремонта  34686   \n",
       "Таможня               34686       1                      Растаможен  34686   \n",
       "\n",
       "                              min          max                   type  \\\n",
       "bodyType                      NaN          NaN          <class 'str'>   \n",
       "brand                         NaN          NaN          <class 'str'>   \n",
       "car_url                       NaN          NaN          <class 'str'>   \n",
       "color                         NaN          NaN          <class 'str'>   \n",
       "complectation_dict            NaN          NaN        <class 'float'>   \n",
       "description                   NaN          NaN          <class 'str'>   \n",
       "engineDisplacement            NaN          NaN          <class 'str'>   \n",
       "enginePower                   NaN          NaN          <class 'str'>   \n",
       "equipment_dict                NaN          NaN          <class 'str'>   \n",
       "fuelType                      NaN          NaN          <class 'str'>   \n",
       "image                         NaN          NaN          <class 'str'>   \n",
       "mileage                         1        1e+06  <class 'numpy.int64'>   \n",
       "modelDate                    1904         2020  <class 'numpy.int64'>   \n",
       "model_info                    NaN          NaN          <class 'str'>   \n",
       "model_name                    NaN          NaN          <class 'str'>   \n",
       "name                          NaN          NaN          <class 'str'>   \n",
       "numberOfDoors                   0            5  <class 'numpy.int64'>   \n",
       "parsing_unixtime      1.60311e+09  1.60371e+09  <class 'numpy.int64'>   \n",
       "priceCurrency                 NaN          NaN          <class 'str'>   \n",
       "productionDate               1904         2020  <class 'numpy.int64'>   \n",
       "sell_id                      2665  1.10137e+09  <class 'numpy.int64'>   \n",
       "super_gen                     NaN          NaN          <class 'str'>   \n",
       "vehicleConfiguration          NaN          NaN          <class 'str'>   \n",
       "vehicleTransmission           NaN          NaN          <class 'str'>   \n",
       "vendor                        NaN          NaN          <class 'str'>   \n",
       "Владельцы                     NaN          NaN          <class 'str'>   \n",
       "Владение                      NaN          NaN        <class 'float'>   \n",
       "ПТС                           NaN          NaN          <class 'str'>   \n",
       "Привод                        NaN          NaN          <class 'str'>   \n",
       "Руль                          NaN          NaN          <class 'str'>   \n",
       "Состояние                     NaN          NaN          <class 'str'>   \n",
       "Таможня                       NaN          NaN          <class 'str'>   \n",
       "\n",
       "                      NaN_prop  \n",
       "bodyType                 0.000  \n",
       "brand                    0.000  \n",
       "car_url                  0.000  \n",
       "color                    0.000  \n",
       "complectation_dict       0.815  \n",
       "description              0.000  \n",
       "engineDisplacement       0.000  \n",
       "enginePower              0.000  \n",
       "equipment_dict           0.288  \n",
       "fuelType                 0.000  \n",
       "image                    0.000  \n",
       "mileage                  0.000  \n",
       "modelDate                0.000  \n",
       "model_info               0.000  \n",
       "model_name               0.000  \n",
       "name                     0.000  \n",
       "numberOfDoors            0.000  \n",
       "parsing_unixtime         0.000  \n",
       "priceCurrency            0.000  \n",
       "productionDate           0.000  \n",
       "sell_id                  0.000  \n",
       "super_gen                0.000  \n",
       "vehicleConfiguration     0.000  \n",
       "vehicleTransmission      0.000  \n",
       "vendor                   0.000  \n",
       "Владельцы                0.000  \n",
       "Владение                 0.654  \n",
       "ПТС                      0.000  \n",
       "Привод                   0.000  \n",
       "Руль                     0.000  \n",
       "Состояние                0.000  \n",
       "Таможня                  0.000  "
      ]
     },
     "execution_count": 6,
     "metadata": {},
     "output_type": "execute_result"
    }
   ],
   "source": [
    "df_test.info(verbose=False)\n",
    "describe_df(df_test)"
   ]
  },
  {
   "cell_type": "markdown",
   "metadata": {},
   "source": [
    "Всего в исходном валидационном датасете 32 колонки с разными типами данных (6 int, 26 object) и разыми типами признаков:   \n",
    "-бинарные (в колонках `vendor`, `ПТС`, `Руль`);   \n",
    "-категориальные (например в колонках `bodyType`, `brand`, `color`, `Владельцы`);  \n",
    "-количественные (например в `enginePower` или `mileage`).  \n",
    "\n",
    "Некоторын колонки содержат словари или длинные строки, содержащие сразу несколько признаков. \n",
    "\n",
    "Колонка `brand` содержит 12 уникальных значений. Это позволяет нам существенно сократить обьем работы по парсингу, ведь релевантными будут только данные по этим 12 брендам, поэтому только по ним и будем собирать информацию.\n",
    "\n",
    "Колонка `car_url` содержит ссылки на обьявления о продаже авто на сайте ***auto.ru***, что как бы намекает, что валидационный набор спарсен с сайта ***auto.ru***. Воспользуемся этим же источником.\n",
    "\n",
    "Три колонки  `priceCurrency`, `Состояние` и `Таможня` содержат только одно уникальное хначение, они ненесут никакой информации, поэтому исключим их из рассмотрения.  \n",
    "  \n",
    "Теперь следует ознакомиться с  каждым признак/колонку более детально. Это позволит нам понять в каком виде/формате содержится информация в колонках и соответсвенно сформировать набор данных для обучения в том же виде/формате. Так же детальное ознакомлене позволит окончательно определится с необходимость включения информации из колонок в рассмотрение моделью."
   ]
  },
  {
   "cell_type": "markdown",
   "metadata": {},
   "source": [
    "## <a name=\"1_1\"></a> Детальное ознакомление \n",
    "вернуться к [Плану работы](#_)   \n",
    "\n",
    " тут текст о выборе признков     \n",
    "   \n",
    "   \n",
    "  \n",
    "### bodyType"
   ]
  },
  {
   "cell_type": "code",
   "execution_count": 7,
   "metadata": {},
   "outputs": [
    {
     "data": {
      "text/plain": [
       "array(['лифтбек', 'внедорожник 5 дв.', 'хэтчбек 5 дв.', 'седан',\n",
       "       'компактвэн', 'универсал 5 дв.', 'пикап одинарная кабина',\n",
       "       'хэтчбек 3 дв.', 'купе', 'кабриолет', 'минивэн',\n",
       "       'пикап двойная кабина', 'внедорожник 3 дв.', 'родстер', 'микровэн',\n",
       "       'седан 2 дв.', 'купе-хардтоп', 'фастбек', 'тарга',\n",
       "       'внедорожник открытый', 'лимузин', 'пикап полуторная кабина',\n",
       "       'седан-хардтоп', 'фургон'], dtype=object)"
      ]
     },
     "execution_count": 7,
     "metadata": {},
     "output_type": "execute_result"
    }
   ],
   "source": [
    "df_test.bodyType.unique()"
   ]
  },
  {
   "cell_type": "markdown",
   "metadata": {},
   "source": [
    "Колонка содержит наименование типа кузова в виде строковой величины. Принимается в пассмоттение.\n",
    "### brand"
   ]
  },
  {
   "cell_type": "code",
   "execution_count": 8,
   "metadata": {},
   "outputs": [
    {
     "data": {
      "text/plain": [
       "array(['SKODA', 'AUDI', 'HONDA', 'VOLVO', 'BMW', 'NISSAN', 'INFINITI',\n",
       "       'MERCEDES', 'TOYOTA', 'LEXUS', 'VOLKSWAGEN', 'MITSUBISHI'],\n",
       "      dtype=object)"
      ]
     },
     "execution_count": 8,
     "metadata": {},
     "output_type": "execute_result"
    }
   ],
   "source": [
    "df_test.brand.unique()"
   ]
  },
  {
   "cell_type": "markdown",
   "metadata": {},
   "source": [
    "Колонка содержит наименование марки в виде строковой величины. Принимается в рассмотрение.\n",
    "\n",
    "### car_url"
   ]
  },
  {
   "cell_type": "code",
   "execution_count": 9,
   "metadata": {},
   "outputs": [
    {
     "data": {
      "text/plain": [
       "1382     https://auto.ru/cars/used/sale/skoda/fabia/110...\n",
       "6941     https://auto.ru/cars/used/sale/volvo/v40/11007...\n",
       "27807    https://auto.ru/cars/used/sale/mitsubishi/lanc...\n",
       "Name: car_url, dtype: object"
      ]
     },
     "execution_count": 9,
     "metadata": {},
     "output_type": "execute_result"
    }
   ],
   "source": [
    "df_test.car_url.sample(3)"
   ]
  },
  {
   "cell_type": "markdown",
   "metadata": {},
   "source": [
    "В этой колонке содержаться ссылки на обьявления о продаже, послужившие источником при парсинге `test`. В настоящий момент скорее всего ссылки уже не активны, потому колокна будет исключена из рассмотрения моделью. Но нформация в ней содержащаяся позволит нам проверить не попадают ли в тренировочный набор данных наблюдения из валидационного. \n",
    "### color"
   ]
  },
  {
   "cell_type": "code",
   "execution_count": 10,
   "metadata": {},
   "outputs": [
    {
     "data": {
      "text/plain": [
       "array(['синий', 'чёрный', 'серый', 'коричневый', 'белый', 'пурпурный',\n",
       "       'бежевый', 'серебристый', 'красный', 'зелёный', 'жёлтый',\n",
       "       'голубой', 'оранжевый', 'фиолетовый', 'золотистый', 'розовый'],\n",
       "      dtype=object)"
      ]
     },
     "execution_count": 10,
     "metadata": {},
     "output_type": "execute_result"
    }
   ],
   "source": [
    "df_test.color.unique()"
   ]
  },
  {
   "cell_type": "markdown",
   "metadata": {},
   "source": [
    "Колонка содержит название цвета кузова, принимется в рассмотрение.\n",
    "### complectation_dict"
   ]
  },
  {
   "cell_type": "code",
   "execution_count": 11,
   "metadata": {},
   "outputs": [
    {
     "data": {
      "text/plain": [
       "0                                                  NaN\n",
       "1                                                  NaN\n",
       "2    {\"id\":\"20026336\",\"name\":\"Ambition\",\"available_...\n",
       "Name: complectation_dict, dtype: object"
      ]
     },
     "execution_count": 11,
     "metadata": {},
     "output_type": "execute_result"
    }
   ],
   "source": [
    "df_test.complectation_dict.head(3)"
   ]
  },
  {
   "cell_type": "code",
   "execution_count": 12,
   "metadata": {},
   "outputs": [
    {
     "data": {
      "text/plain": [
       "'{\"id\":\"20026336\",\"name\":\"Ambition\",\"available_options\":[\"heated-wash-system\",\"airbag-passenger\",\"lock\",\"door-sill-panel\",\"electro-mirrors\",\"mirrors-heat\",\"cooling-box\",\"computer\",\"seat-transformation\",\"wheel-power\",\"fabric-seats\",\"airbag-side\",\"abs\",\"wheel-leather\",\"climate-control-1\",\"esp\",\"adaptive-light\",\"audiopreparation\",\"ashtray-and-cigarette-lighter\",\"front-centre-armrest\",\"electro-window-back\",\"16-inch-wheels\",\"body-mouldings\",\"condition\",\"airbag-driver\",\"isofix\",\"aux\",\"electro-window-front\",\"light-sensor\",\"hcc\",\"ptf\",\"rain-sensor\",\"tyre-pressure\",\"audiosystem-cd\",\"front-seats-heat\",\"wheel-configuration2\",\"wheel-configuration1\",\"immo\",\"12v-socket\",\"third-rear-headrest\"]}'"
      ]
     },
     "execution_count": 12,
     "metadata": {},
     "output_type": "execute_result"
    }
   ],
   "source": [
    "df_test.complectation_dict.loc[2]"
   ]
  },
  {
   "cell_type": "markdown",
   "metadata": {},
   "source": [
    "Колонка содержит словарь стандартной комплектации с наименованием комплектации и списком обрудования (зачастую стандартного, имеющегося в любом автомобиле, например \"12v-socket\" или \"lock\") входящим в такую комплектацию. Доля пррпусков (свыше 0.8), перечисление оборудования присутсвуюшего в любом авто данной марки и модели и наличие колонки equipment_dict с гораздо меньшим количеством пропусков позволяет исключить колонку из рассмотрения.\n",
    "### description"
   ]
  },
  {
   "cell_type": "code",
   "execution_count": 13,
   "metadata": {},
   "outputs": [
    {
     "name": "stdout",
     "output_type": "stream",
     "text": [
      "Все автомобили, представленные в продаже, проходят тщательную проверку по более 40 параметрам. Предоставляем гарантию юридической чистоты, а так же год технической гарантии на двигатель и КПП. Бесплатный тест-драйв. Возможно оформление автомобиля в кредит!\n",
      "\n",
      "Преимущества автокредитования:\n",
      "— Первоначальный взнос от 0%;\n",
      "— Более 30 кредитных программ;\n",
      "— Процентная ставка от 6% годовых;\n",
      "— Срок кредита от 6 месяцев до 7 лет;\n",
      "— Оформление кредита по двум документам;\n",
      "— Досрочное погашение без штрафов и комиссий;\n",
      "— Сумма кредита до 2 млн рублей;\n",
      "— Оформление КАСКО – по желанию;\n",
      "— Без справок и поручителей.\n",
      "\n",
      "Сотрудничаем с 12 аккредитованными и сертифицированными банками РФ, среднее время ожидания решения банка 20–30 минут.\n",
      "\n",
      "При покупке автомобиля по программе «Trade-in – выгодный обмен» или в кредит, получите дополнительную скидку до 80 000 рублей на данный автомобиль!\n",
      "\n",
      "Записаться на тест-драйв, а так же получить подробную информацию можно у специалистов автоцентра по указанному номеру телефона.\n"
     ]
    }
   ],
   "source": [
    "print(df_test.description[0])"
   ]
  },
  {
   "cell_type": "markdown",
   "metadata": {},
   "source": [
    "В колонке содержится текст, относящийся скорее к продавцу, чем к конкретному автомобилю. Поэтому на данном этапе ( и вероятно вообще) колонка исключается из рассмотрения.\n",
    "### engineDisplacement"
   ]
  },
  {
   "cell_type": "code",
   "execution_count": 14,
   "metadata": {},
   "outputs": [
    {
     "data": {
      "text/plain": [
       "array(['1.2 LTR', '1.6 LTR', '1.8 LTR', '2.0 LTR', '1.4 LTR', '1.3 LTR',\n",
       "       '1.0 LTR', '3.6 LTR', '1.5 LTR', '1.9 LTR', '2.8 LTR', '1.1 LTR',\n",
       "       '2.5 LTR', '4.2 LTR', '3.0 LTR', '4.0 LTR', '5.9 LTR', '2.7 LTR',\n",
       "       '3.1 LTR', '2.4 LTR', '5.2 LTR', '3.2 LTR', '4.1 LTR', '6.3 LTR',\n",
       "       '2.3 LTR', '6.0 LTR', '2.2 LTR', '3.7 LTR', '2.9 LTR', '5.0 LTR',\n",
       "       '3.3 LTR', '2.1 LTR', '2.6 LTR', ' LTR', '3.5 LTR', '1.7 LTR',\n",
       "       '0.7 LTR', '4.4 LTR', '4.8 LTR', '5.4 LTR', '6.6 LTR', '4.9 LTR',\n",
       "       '3.8 LTR', '3.4 LTR', '3.9 LTR', '4.6 LTR', '5.6 LTR', '4.5 LTR',\n",
       "       '5.5 LTR', '6.2 LTR', '4.7 LTR', '4.3 LTR', '5.8 LTR', '5.3 LTR',\n",
       "       '5.7 LTR'], dtype=object)"
      ]
     },
     "execution_count": 14,
     "metadata": {},
     "output_type": "execute_result"
    }
   ],
   "source": [
    "df_test.engineDisplacement.unique()"
   ]
  },
  {
   "cell_type": "code",
   "execution_count": 15,
   "metadata": {},
   "outputs": [
    {
     "data": {
      "text/plain": [
       "55"
      ]
     },
     "execution_count": 15,
     "metadata": {},
     "output_type": "execute_result"
    }
   ],
   "source": [
    "df_test.engineDisplacement.value_counts()[' LTR']"
   ]
  },
  {
   "cell_type": "markdown",
   "metadata": {},
   "source": [
    "Колонка содержит обьем двигателя, принимется в рассмотрение. Следует отметить наличие 'скрытых' пропусков (55 стрк ' LTR')\n",
    "### enginePower"
   ]
  },
  {
   "cell_type": "code",
   "execution_count": 16,
   "metadata": {},
   "outputs": [
    {
     "data": {
      "text/plain": [
       "array(['105 N12', '110 N12', '152 N12', '200 N12', '102 N12', '150 N12',\n",
       "       '90 N12', '180 N12', '220 N12', '122 N12', '70 N12', '140 N12',\n",
       "       '125 N12', '54 N12', '86 N12', '75 N12', '64 N12', '95 N12',\n",
       "       '260 N12', '170 N12'], dtype=object)"
      ]
     },
     "execution_count": 16,
     "metadata": {},
     "output_type": "execute_result"
    }
   ],
   "source": [
    "df_test.enginePower.unique()[:20]"
   ]
  },
  {
   "cell_type": "markdown",
   "metadata": {},
   "source": [
    "Колонка содержит мощность двигателя, принмается в рассмотрение.\n",
    "### equipment_dict"
   ]
  },
  {
   "cell_type": "code",
   "execution_count": 17,
   "metadata": {},
   "outputs": [
    {
     "data": {
      "text/plain": [
       "7004                                                   NaN\n",
       "17592    {'cruise-control': True, 'asr': True, 'tinted-...\n",
       "8113     {'cruise-control': True, 'asr': True, 'tinted-...\n",
       "7214     {'cruise-control': True, 'tinted-glass': True,...\n",
       "26790    {'cruise-control': True, 'asr': True, 'tinted-...\n",
       "Name: equipment_dict, dtype: object"
      ]
     },
     "execution_count": 17,
     "metadata": {},
     "output_type": "execute_result"
    }
   ],
   "source": [
    "df_test.equipment_dict.apply(lambda x: json.loads(x) if x==x else x).sample(5)"
   ]
  },
  {
   "cell_type": "markdown",
   "metadata": {},
   "source": [
    "В колонке много пропусков (почти 29%), не пропущенные значения представляют собой текстовое представление словаря с перечислением оснащения автомобиля.  \n",
    "Самым простым способом обработки этой колонки является подсчет количества опций для каждого авто.  \n",
    "Более трудоемким подходом является принятие к рассмтотрению моделью признаков-опций входящих в пересенчение множеств опций из обучающего и валидационного набора данных.  \n",
    "Пока ограничемся первым вариантом.\n",
    "### fuelType"
   ]
  },
  {
   "cell_type": "code",
   "execution_count": 18,
   "metadata": {},
   "outputs": [
    {
     "data": {
      "text/plain": [
       "array(['бензин', 'дизель', 'гибрид', 'электро', 'газ'], dtype=object)"
      ]
     },
     "execution_count": 18,
     "metadata": {},
     "output_type": "execute_result"
    }
   ],
   "source": [
    "df_test.fuelType.unique()"
   ]
  },
  {
   "cell_type": "markdown",
   "metadata": {},
   "source": [
    "Колонка содержит тип топлива. Принимается врассмотрнеи.\n",
    "\n",
    "### image"
   ]
  },
  {
   "cell_type": "code",
   "execution_count": 19,
   "metadata": {},
   "outputs": [
    {
     "data": {
      "text/plain": [
       "9560     https://avatars.mds.yandex.net/get-autoru-vos/...\n",
       "27116    https://avatars.mds.yandex.net/get-autoru-vos/...\n",
       "21076    https://avatars.mds.yandex.net/get-autoru-vos/...\n",
       "14441    https://avatars.mds.yandex.net/get-autoru-vos/...\n",
       "7894     https://autoru.naydex.net/lICN99c69/9bc7d3Rr7k...\n",
       "Name: image, dtype: object"
      ]
     },
     "execution_count": 19,
     "metadata": {},
     "output_type": "execute_result"
    }
   ],
   "source": [
    "df_test.image.sample(5)"
   ]
  },
  {
   "cell_type": "markdown",
   "metadata": {},
   "source": [
    "Колонка содержит ссылки на фото или аватар авто, исключается из рассмотрения.\n",
    "### mileage"
   ]
  },
  {
   "cell_type": "code",
   "execution_count": 20,
   "metadata": {},
   "outputs": [
    {
     "data": {
      "text/plain": [
       "9871      90000\n",
       "8369     270242\n",
       "5248     103535\n",
       "19216    100000\n",
       "3336      54892\n",
       "Name: mileage, dtype: int64"
      ]
     },
     "execution_count": 20,
     "metadata": {},
     "output_type": "execute_result"
    }
   ],
   "source": [
    "df_test.mileage.sample(5)"
   ]
  },
  {
   "cell_type": "markdown",
   "metadata": {},
   "source": [
    "Колонка содержит пробег авто, принмается в рассмотрениею\n",
    "\n",
    "### modelDate"
   ]
  },
  {
   "cell_type": "code",
   "execution_count": 21,
   "metadata": {},
   "outputs": [
    {
     "data": {
      "text/plain": [
       "array([2013, 2017, 2008, 2009, 2016, 2012, 2015, 2010, 2006, 2000, 2007,\n",
       "       1994, 2004, 1999, 2005, 1976, 2001, 1969, 1996, 1998, 1989, 1934,\n",
       "       2014, 2011, 2018, 1986, 1997, 1990, 2019, 2002, 1991, 1987, 1980,\n",
       "       1982, 1938, 1988, 2003, 1983, 1978, 1979, 1984, 1992, 1995, 1993,\n",
       "       1985, 1974, 1966, 1977, 1981, 1972, 1968, 1975, 1949, 1937, 1936,\n",
       "       1973, 1959, 1958, 2020, 1965, 1971, 1904, 1963, 1955, 1951, 1960],\n",
       "      dtype=int64)"
      ]
     },
     "execution_count": 21,
     "metadata": {},
     "output_type": "execute_result"
    }
   ],
   "source": [
    "df_test.modelDate.unique()"
   ]
  },
  {
   "cell_type": "markdown",
   "metadata": {},
   "source": [
    "Колонка содержит год начала выпуска модели, принимется в рассмотрние.\n",
    "\n",
    "### model_info"
   ]
  },
  {
   "cell_type": "code",
   "execution_count": 22,
   "metadata": {},
   "outputs": [
    {
     "data": {
      "text/plain": [
       "27582    {\"code\":\"ASX\",\"name\":\"ASX\",\"ru_name\":\"ASX\",\"mo...\n",
       "29951    {\"code\":\"A4\",\"name\":\"A4\",\"ru_name\":\"А4\",\"morph...\n",
       "30711    {\"code\":\"PASSAT\",\"name\":\"Passat\",\"ru_name\":\"Па...\n",
       "34455    {\"code\":\"MURANO\",\"name\":\"Murano\",\"ru_name\":\"Му...\n",
       "24550    {\"code\":\"JETTA\",\"name\":\"Jetta\",\"ru_name\":\"Джет...\n",
       "Name: model_info, dtype: object"
      ]
     },
     "execution_count": 22,
     "metadata": {},
     "output_type": "execute_result"
    }
   ],
   "source": [
    "df_test.model_info.sample(5)"
   ]
  },
  {
   "cell_type": "markdown",
   "metadata": {},
   "source": [
    "Колонка содержит наименование модели в трех вариантах. Учитывая наличие model_name колонка исключается из рассмотрения\n",
    "### model_name"
   ]
  },
  {
   "cell_type": "code",
   "execution_count": 23,
   "metadata": {},
   "outputs": [
    {
     "data": {
      "text/plain": [
       "18008    GLC_KLASSE\n",
       "18693     GL_KLASSE\n",
       "8715            3ER\n",
       "13535          GT_R\n",
       "27265     OUTLANDER\n",
       "Name: model_name, dtype: object"
      ]
     },
     "execution_count": 23,
     "metadata": {},
     "output_type": "execute_result"
    }
   ],
   "source": [
    "df_test.model_name.sample(5)"
   ]
  },
  {
   "cell_type": "markdown",
   "metadata": {},
   "source": [
    "Наименование модели. Принимается к рассмотрению.\n",
    "### name"
   ]
  },
  {
   "cell_type": "code",
   "execution_count": 24,
   "metadata": {},
   "outputs": [
    {
     "data": {
      "text/plain": [
       "22907    570 5.7 AT (367 л.с.) 4WD\n",
       "28632             1.6 MT (98 л.с.)\n",
       "33487            1.6 MT (124 л.с.)\n",
       "31457        2.5 AT (210 л.с.) 4WD\n",
       "12269       2.0 CVT (141 л.с.) 4WD\n",
       "Name: name, dtype: object"
      ]
     },
     "execution_count": 24,
     "metadata": {},
     "output_type": "execute_result"
    }
   ],
   "source": [
    "df_test.name.sample(5)"
   ]
  },
  {
   "cell_type": "markdown",
   "metadata": {},
   "source": [
    "Колонка содержит расширение названия модели, указывающее на обьем двигателя и тип привода. Поскольку эта информация уже получена из других колонок, эта в рассмотрнеие не принимается\n",
    "\n",
    "### numberOfDoors"
   ]
  },
  {
   "cell_type": "code",
   "execution_count": 25,
   "metadata": {},
   "outputs": [
    {
     "data": {
      "text/plain": [
       "array([5, 4, 2, 3, 0], dtype=int64)"
      ]
     },
     "execution_count": 25,
     "metadata": {},
     "output_type": "execute_result"
    }
   ],
   "source": [
    "df_test.numberOfDoors.unique()"
   ]
  },
  {
   "cell_type": "markdown",
   "metadata": {},
   "source": [
    "### parsing_unixtime\n",
    "Колонка судя по названию содержит время сбора информации в валидационный набор данных. Непосредственно для обученяи информация не нужна. Но время сбора поможет внести поправку на изменение коньюктуры(курс валюты и т.д.). \n",
    "Посмотрим на диапазон `parsing_unixtime`:"
   ]
  },
  {
   "cell_type": "code",
   "execution_count": 26,
   "metadata": {},
   "outputs": [
    {
     "data": {
      "text/plain": [
       "(datetime.date(2020, 10, 19), datetime.date(2020, 10, 26))"
      ]
     },
     "execution_count": 26,
     "metadata": {},
     "output_type": "execute_result"
    }
   ],
   "source": [
    "date.fromtimestamp(df_test.parsing_unixtime.min()),date.fromtimestamp(df_test.parsing_unixtime.max())"
   ]
  },
  {
   "cell_type": "markdown",
   "metadata": {},
   "source": [
    "Как видим парсинг произведен с 19 по 26 октября 20-го года\n",
    "### productionDate"
   ]
  },
  {
   "cell_type": "code",
   "execution_count": 27,
   "metadata": {},
   "outputs": [
    {
     "data": {
      "text/plain": [
       "array([2014, 2017, 2012, 2011, 2019, 2018, 2010, 2020, 2016, 2013, 2006,\n",
       "       2007, 2015, 2005, 2008, 2009, 1997, 2004, 2002, 1987, 2003, 2001,\n",
       "       1976, 2000, 1998, 1995, 1999, 1993, 1939, 1996, 1984, 1990, 1991,\n",
       "       1992, 1989, 1982, 1985, 1994, 1938, 1981, 1988, 1983, 1980, 1986,\n",
       "       1978, 1970, 1979, 1977, 1972, 1975, 1969, 1950, 1953, 1949, 1937,\n",
       "       1959, 1968, 1936, 1904, 1974, 1967, 1961, 1960, 1965, 1963, 1957,\n",
       "       1952, 1973, 1948], dtype=int64)"
      ]
     },
     "execution_count": 27,
     "metadata": {},
     "output_type": "execute_result"
    }
   ],
   "source": [
    "df_test.productionDate.unique()"
   ]
  },
  {
   "cell_type": "markdown",
   "metadata": {},
   "source": [
    "Год производства автомобиля ( наверное наряду с моделью автомобиля самы значимый признак). Принмается в рассмотрнеие.,\n",
    "### sell_id"
   ]
  },
  {
   "cell_type": "code",
   "execution_count": 28,
   "metadata": {},
   "outputs": [
    {
     "data": {
      "text/plain": [
       "array([1100575026, 1100549428, 1100658222, ..., 1101364889, 1101362518,\n",
       "       1101256068], dtype=int64)"
      ]
     },
     "execution_count": 28,
     "metadata": {},
     "output_type": "execute_result"
    }
   ],
   "source": [
    "df_test.sell_id.unique()"
   ]
  },
  {
   "cell_type": "markdown",
   "metadata": {},
   "source": [
    "Колонка содержит ***id*** обьявления. Как непосредственный признак не интересен, в рассмотрение моделью не принимается. Но если предположить, что ***id*** отражает хронологический порядок появления обьявления, то, например, можно попробовать при \"тонкой настройке\" модели придать более новым обьявлениям больший вес при обучении. Оставим себе такую опцию, потому принимаем в рассмотрение.\n",
    "### super_gen"
   ]
  },
  {
   "cell_type": "code",
   "execution_count": 29,
   "metadata": {},
   "outputs": [
    {
     "data": {
      "text/plain": [
       "'{\"id\":\"10373605\",\"displacement\":1197,\"engine_type\":\"GASOLINE\",\"gear_type\":\"FORWARD_CONTROL\",\"transmission\":\"ROBOT\",\"power\":105,\"power_kvt\":77,\"human_name\":\"1.2 AMT (105 л.с.)\",\"acceleration\":10.5,\"clearance_min\":155,\"fuel_rate\":5}'"
      ]
     },
     "execution_count": 29,
     "metadata": {},
     "output_type": "execute_result"
    }
   ],
   "source": [
    "df_test.super_gen[0]"
   ]
  },
  {
   "cell_type": "markdown",
   "metadata": {},
   "source": [
    "Колонка содержит ***id*** и параметры автомобиля, которые либо являются по сути атрибутами модели (например у всех автомобилей одной модели одной модификации одинаковый клиренс) либо уже известны нам из других колонок (например тип трансмиссии). В рассмотрнеи не принимается.\n",
    "### vehicleConfiguration"
   ]
  },
  {
   "cell_type": "code",
   "execution_count": 30,
   "metadata": {},
   "outputs": [
    {
     "data": {
      "text/plain": [
       "22619       ALLROAD_5_DOORS AUTOMATIC 3.5\n",
       "2336               LIFTBACK AUTOMATIC 1.8\n",
       "18127       ALLROAD_5_DOORS AUTOMATIC 3.5\n",
       "30802    HATCHBACK_5_DOORS MECHANICAL 1.2\n",
       "24413              MINIVAN MECHANICAL 2.5\n",
       "Name: vehicleConfiguration, dtype: object"
      ]
     },
     "execution_count": 30,
     "metadata": {},
     "output_type": "execute_result"
    }
   ],
   "source": [
    "df_test.vehicleConfiguration.sample(5)"
   ]
  },
  {
   "cell_type": "markdown",
   "metadata": {},
   "source": [
    "Содержит информацию о типе кузова, типе трансмиссии обьеме двигателя количестве дверей. Эта информация доступна в других колонках, поэтому `vehicleConfiguration` в рассмотрение не принимется \n",
    "### vehicleTransmission"
   ]
  },
  {
   "cell_type": "code",
   "execution_count": 31,
   "metadata": {},
   "outputs": [
    {
     "data": {
      "text/plain": [
       "array(['роботизированная', 'механическая', 'автоматическая', 'вариатор'],\n",
       "      dtype=object)"
      ]
     },
     "execution_count": 31,
     "metadata": {},
     "output_type": "execute_result"
    }
   ],
   "source": [
    "df_test.vehicleTransmission.unique()"
   ]
  },
  {
   "cell_type": "markdown",
   "metadata": {},
   "source": [
    "Колонка содержит в тестовом виде тип трансмиссии. Принимается в рассмотрение.\n",
    "### vendor"
   ]
  },
  {
   "cell_type": "code",
   "execution_count": 32,
   "metadata": {},
   "outputs": [
    {
     "data": {
      "text/plain": [
       "array(['EUROPEAN', 'JAPANESE'], dtype=object)"
      ]
     },
     "execution_count": 32,
     "metadata": {},
     "output_type": "execute_result"
    }
   ],
   "source": [
    "df_test.vendor.unique()"
   ]
  },
  {
   "cell_type": "code",
   "execution_count": 33,
   "metadata": {},
   "outputs": [
    {
     "data": {
      "text/plain": [
       "vendor\n",
       "EUROPEAN      [SKODA, AUDI, VOLVO, BMW, MERCEDES, VOLKSWAGEN]\n",
       "JAPANESE    [HONDA, NISSAN, INFINITI, TOYOTA, LEXUS, MITSU...\n",
       "Name: brand, dtype: object"
      ]
     },
     "execution_count": 33,
     "metadata": {},
     "output_type": "execute_result"
    }
   ],
   "source": [
    "df_test.groupby('vendor').brand.unique()"
   ]
  },
  {
   "cell_type": "markdown",
   "metadata": {},
   "source": [
    "Как видим колонка содержит обобщающий признак - принадлежность марки к европейским либо японским. Как подсказывает опыт автовладельца динамика падения цены от срока владения у этих двух групп различается (японцы обычно дешевеют медленнее, особенно Toyota). Посчитаем признак полезным, примем в рассмотрение моделью.\n",
    "### Владельцы"
   ]
  },
  {
   "cell_type": "code",
   "execution_count": 34,
   "metadata": {},
   "outputs": [
    {
     "data": {
      "text/plain": [
       "array(['3 или более', '1\\xa0владелец', '2\\xa0владельца'], dtype=object)"
      ]
     },
     "execution_count": 34,
     "metadata": {},
     "output_type": "execute_result"
    }
   ],
   "source": [
    "df_test.Владельцы.unique()"
   ]
  },
  {
   "cell_type": "markdown",
   "metadata": {},
   "source": [
    "Колонка содержит в текстовом виде три категории количества владельцев авто. Примем в рассмотрение\n",
    "### Владение "
   ]
  },
  {
   "cell_type": "code",
   "execution_count": 35,
   "metadata": {},
   "outputs": [
    {
     "data": {
      "text/plain": [
       "array([nan, '3 года и 2 месяца', '11 месяцев', '4 года и 1 месяц',\n",
       "       '2 года и 4 месяца', '1 месяц', '3 года и 10 месяцев',\n",
       "       '2 года и 6 месяцев', '6 лет и 4 месяца', '2 месяца', '4 месяца',\n",
       "       '1 год и 10 месяцев', '2 года и 7 месяцев', '7 лет и 11 месяцев',\n",
       "       '7 лет и 5 месяцев', '1 год и 11 месяцев', '2 года и 1 месяц',\n",
       "       '7 лет', '4 года и 2 месяца', '2 года и 8 месяцев'], dtype=object)"
      ]
     },
     "execution_count": 35,
     "metadata": {},
     "output_type": "execute_result"
    }
   ],
   "source": [
    "df_test.Владение.unique()[:20]"
   ]
  },
  {
   "cell_type": "markdown",
   "metadata": {},
   "source": [
    "Колонка содержит время нахождения автомобиля у последнего собственника. Примем в рассмотрение.\n",
    "### ПТС"
   ]
  },
  {
   "cell_type": "code",
   "execution_count": 36,
   "metadata": {},
   "outputs": [
    {
     "data": {
      "text/plain": [
       "array(['Оригинал', 'Дубликат', nan], dtype=object)"
      ]
     },
     "execution_count": 36,
     "metadata": {},
     "output_type": "execute_result"
    }
   ],
   "source": [
    "df_test.ПТС.unique()"
   ]
  },
  {
   "cell_type": "markdown",
   "metadata": {},
   "source": [
    "Колонка содержит (если значение не nan) категорию ПТС. Принимается в рассмотрение.\n",
    "### Привод"
   ]
  },
  {
   "cell_type": "code",
   "execution_count": 37,
   "metadata": {},
   "outputs": [
    {
     "data": {
      "text/plain": [
       "array(['передний', 'полный', 'задний'], dtype=object)"
      ]
     },
     "execution_count": 37,
     "metadata": {},
     "output_type": "execute_result"
    }
   ],
   "source": [
    "df_test.Привод.unique()"
   ]
  },
  {
   "cell_type": "markdown",
   "metadata": {},
   "source": [
    "Колонка содержит категорию привода. Принимается в расмотрние.\n",
    "\n",
    "### Руль"
   ]
  },
  {
   "cell_type": "code",
   "execution_count": 38,
   "metadata": {},
   "outputs": [
    {
     "data": {
      "text/plain": [
       "array(['Левый', 'Правый'], dtype=object)"
      ]
     },
     "execution_count": 38,
     "metadata": {},
     "output_type": "execute_result"
    }
   ],
   "source": [
    "df_test.Руль.unique()"
   ]
  },
  {
   "cell_type": "markdown",
   "metadata": {},
   "source": [
    "Колонка содержит категрию право- или левосторонности управления . В рассмотрение.\n",
    "### Колонки подлежащие рассмотрению моделью\n",
    "Итого из валидационного набора данных, содержащихся в `df_test`,  для обработки данных и последующего построения модели будем спользовать информацию из следующих колонок:"
   ]
  },
  {
   "cell_type": "code",
   "execution_count": 57,
   "metadata": {},
   "outputs": [],
   "source": [
    "data_columns = ['bodyType', 'brand', 'car_url', 'color', 'description', \n",
    "                    'engineDisplacement', 'enginePower', 'equipment_dict','fuelType', \n",
    "                    'mileage', 'modelDate', 'model_name', 'numberOfDoors', 'productionDate',\n",
    "                    'sell_id', 'vehicleTransmission', 'vendor', 'Владельцы', 'Владение',\n",
    "                    'ПТС', 'Привод', 'Руль']\n",
    "# незабудем про целевую ппеременную\n",
    "data_columns += ['offerprice']"
   ]
  },
  {
   "cell_type": "markdown",
   "metadata": {},
   "source": [
    "# <a name=\"2\"></a> Сбор и подгтовка данных\n",
    "## <a name=\"2_0\"></a> Парсинг данных (https://auto.ru/moskva/)\n",
    "*вернуться к [Плану работы](#_)*\n",
    "\n",
    "Данный блок производт парсинг обучающего набора данных \n",
    "\n",
    "Данные сбираются на сайте https://auto.ru/,  \n",
    "из них формируется *pd.DataFrame* со следуюшими колонками:   \n",
    "  \n",
    "**bodytype** -   наименование типа кузова  \n",
    "**brand** -  наименование марки  \n",
    "**car_url** -  ссылка на обьявления о продаже  \n",
    "**color** -  ссылки на обьявления о продаже  \n",
    "**description** - текстовое описание продоваемого авто\n",
    "**engineDisplacement** -  обьем двигателя  \n",
    "**enginePower** -  мощность двигателя  \n",
    "**equipment_dict** -  словарь с перечислением оснащения автомобиля.  \n",
    "**fuelType** -  тип топлива  \n",
    "**mileage** -  пробег авто  \n",
    "**modelDate** -  год начала выпуска модели  \n",
    "**model_name** -  наименование модели  \n",
    "**numberOfDoors** -  количество дверей  \n",
    "**productionDate** -  Год производства автомобиля  \n",
    "**sell_id** -  содержит id обьявления   \n",
    "**vehicleTransmission** -  тип трансмиссии  \n",
    "**vendor** -  обобщающий признак: принадлежность марки к европейским либо японским маркам  \n",
    "**Владельцы** -  количество владельцев авто \n",
    "**Владение** - срок владениея продавцем продаваемым автомобилем\n",
    "**ПТС** -  Колонка содержит ('Оригинал', 'Дубликат') категорию ПТС  \n",
    "**Привод** -   категория привода  \n",
    "**Руль** -   категрию право- или левосторонности управления  \n",
    "**offerprice** - цена продпажи (целевая переменная)\n",
    "   \n",
    "-------------------------------------------------------- \n",
    "<span style=\"color:red; font-size: 1.2em\"> ВНИМАНИЕ!</span>    \n",
    "При ***parsing_switch*** = `'данные уже есть'` ноутбук загрузит уже собранные заранее данные   \n",
    "При ***parsing_switch*** = `'данных нет'` будут собраны вспомогательные данные и данные для обучения модели      \n",
    "    \n",
    "<span style=\"color:red\"> Время сбора данных составляет порядка суток.    \n",
    "Имейте это ввиду при запуске с</span>  ***parsing_switch*** = `'данных нет'`"
   ]
  },
  {
   "cell_type": "code",
   "execution_count": 40,
   "metadata": {},
   "outputs": [],
   "source": [
    "# ОПРЕДЕЛЕНИЕ parsing_switch\n",
    "parsing_switch = 'данные уже есть'\n",
    "# parsing_switch = 'данных нет'"
   ]
  },
  {
   "cell_type": "markdown",
   "metadata": {},
   "source": [
    "### Парсинг вспомогательных данных\n",
    "Создаем и наполняем ***`marks_models `*** , получаем ***`marks_models_for_parsing`***  \n",
    "\n",
    "***marks_models*** - словарь в которм:   \n",
    "*ключ*:  обозначения марки на сайте auto.ru  \n",
    "*значения*: списки всех моделей для каждой марки.  \n",
    "\n",
    "***marks_models_for_parsing*** - содержит только марки, присутсвующие в валидационном наборе данных **test**  "
   ]
  },
  {
   "cell_type": "code",
   "execution_count": 41,
   "metadata": {},
   "outputs": [],
   "source": [
    "if parsing_switch == 'данных нет':\n",
    "    marks_models = get_marks_models()\n",
    "    marks_models_for_parsing =  {k: v for k, v in marks_models.items() if k in marks_for_parsing}\n",
    "    with open('./Project_7_data/marks_models_for_parsing.json', 'w') as f: \n",
    "        json.dump(marks_models_for_parsing, f)\n",
    "elif parsing_switch == 'данные уже есть':\n",
    "    with open('./Project_7_data/marks_models_for_parsing.json') as f: \n",
    "        marks_models_for_parsing = json.loads(f.read())\n",
    "else:\n",
    "    raise Exception(\n",
    "        \"parsing_switch должен иметь значения: 'данные уже есть' или 'данных нет'\")"
   ]
  },
  {
   "cell_type": "markdown",
   "metadata": {},
   "source": [
    "### Создаем и заполняем `model_generation_year`\n",
    "***model_generation_year*** - **pd.DataFrame**  в котором:  \n",
    "        *full_name* - полное название марки и модели с указанием поколения;   \n",
    "        *bodytype* - тип кузова поколения модели;  \n",
    "        *generation_year* - год начала выпуска поколения  \n",
    "\n",
    "Этот DataFrame нужен для преобразования полного названия модели в год начала выпуска модели"
   ]
  },
  {
   "cell_type": "code",
   "execution_count": 42,
   "metadata": {},
   "outputs": [],
   "source": [
    "if parsing_switch == 'данных нет':\n",
    "    model_generation_year_all =  get_model_generation_year(marks_models_for_parsing)\n",
    "    model_generation_year_all.to_csv(\n",
    "        './Project_5_data/model_generation_year.csv',index=False)\n",
    "elif parsing_switch == 'данные уже есть':\n",
    "    model_generation_year = pd.read_csv('./Project_7_data/model_generation_year.csv')\n",
    "else:\n",
    "    raise Exception(\n",
    "        \"parsing_switch должен иметь значения: 'данные уже есть' или 'данных нет'\")"
   ]
  },
  {
   "cell_type": "markdown",
   "metadata": {},
   "source": [
    "## Парсинг набора данных для обучения\n",
    "Получение данных по маркам, присутсвующим в валидационном наборе данных"
   ]
  },
  {
   "cell_type": "code",
   "execution_count": 65,
   "metadata": {},
   "outputs": [],
   "source": [
    "if parsing_switch == 'данных нет':\n",
    "    train = pd.DataFrame(columns=data_columns)\n",
    "    \n",
    "    option = webdriver.ChromeOptions()\n",
    "    chrome_prefs = {}\n",
    "    option.experimental_options[\"prefs\"] = chrome_prefs\n",
    "    chrome_prefs[\"profile.default_content_settings\"] = {\"images\": 2}\n",
    "    chrome_prefs[\"profile.managed_default_content_settings\"] = {\"images\": 2}\n",
    "    \n",
    "    for mark in marks_models_for_parsing: \n",
    "        for model in marks_models_for_parsing[mark]:      \n",
    "            model_url = 'https://auto.ru/moskva/cars/' + mark + '/' + model + '/used/' + '?output_type=table'\n",
    "            # запускаем браузер\n",
    "            driver = webdriver.Chrome(executable_path,options=option)\n",
    "            driver.maximize_window()            \n",
    "            # просмотр последовательно всех страниц текущей модели текущей марки\n",
    "            for pages_num in range(1,99): \n",
    "                if pages_num==1: page_url = model_url\n",
    "                else:            page_url = model_url + '&page=' +  str(pages_num)  \n",
    "                # получем html страницы\n",
    "                driver.get(page_url)\n",
    "                page_html = driver.execute_script(\"return document.body.innerHTML;\")\n",
    "                # создаем обьект bs4.BeautifulSoup из html страницы\n",
    "                page_bs = BeautifulSoup(page_html, 'html.parser') \n",
    "                # список html-ек карточек на странице                                               \n",
    "                tickets_on_page = page_bs.find_all('a', class_='ListingItemTitle__link') \n",
    "                # выход по исчерпанию страниц текущей модели текущей марки\n",
    "                if not tickets_on_page: \n",
    "                    driver.quit()\n",
    "                    break            \n",
    "                # обработка карточек на странице\n",
    "                for ticket in tickets_on_page:\n",
    "                    # получаем url карточки текущего обьявления\n",
    "                    ticket_url = ticket.get('href')\n",
    "                    # извлекаем признаки и заполняем строку train-а\n",
    "                    train.loc[len(train)] =get_features_from_ticket(ticket_url,driver)\n",
    "            driver.quit()\n",
    "    train.to_csv('./Project_7_data/train_mod_2.csv',index=False)\n",
    "elif parsing_switch == 'данные уже есть':\n",
    "    train = pd.read_csv('./Project_7_data/train_mod_2.csv')\n",
    "else:\n",
    "    raise Exception(\n",
    "        \"parsing_switch должен иметь значения: 'данные уже есть' или 'данных нет' см. line 2\")"
   ]
  },
  {
   "cell_type": "code",
   "execution_count": 66,
   "metadata": {},
   "outputs": [
    {
     "data": {
      "text/plain": [
       "Index(['bodyType', 'brand', 'car_url', 'color', 'engineDisplacement',\n",
       "       'enginePower', 'equipment_dict', 'fuelType', 'mileage', 'modelDate',\n",
       "       'model_name', 'numberOfDoors', 'productionDate', 'sell_id',\n",
       "       'vehicleTransmission', 'vendor', 'Владельцы', 'Владение', 'ПТС',\n",
       "       'Привод', 'Руль'],\n",
       "      dtype='object')"
      ]
     },
     "execution_count": 66,
     "metadata": {},
     "output_type": "execute_result"
    }
   ],
   "source": [
    "train.columns"
   ]
  },
  {
   "cell_type": "markdown",
   "metadata": {},
   "source": [
    "## <a name=\"2_1\"></a> Привлечение сторонних данных\n",
    "вернуться к [Плану работы](#_)   \n",
    ".   \n",
    ".   \n",
    "ТУТ ТЕКСТ НУЖЕН"
   ]
  },
  {
   "cell_type": "code",
   "execution_count": 44,
   "metadata": {},
   "outputs": [],
   "source": [
    "# df= pd.read_csv('./Project_7_data/' + 'auto_ru_2020_09_09.csv',low_memory=False)\n",
    "# df_full= pd.read_csv('./Preproject_7_data/' + 'all_auto_ru_09_09_2020.csv',low_memory=False)\n",
    "\n",
    "df= pd.read_csv(f'{path}auto_ru_2020_09_09.csv',low_memory=False)\n",
    "df_full= pd.read_csv(f'{path}all_auto_ru_09_09_2020.csv',low_memory=False)"
   ]
  },
  {
   "cell_type": "markdown",
   "metadata": {},
   "source": [
    "## <a name=\"2_2\"></a> Предобработка полученых данных\n",
    "вернуться к [Плану работы](#_)\n",
    "### <a name=\"2_2_0\">Дубли и пропуски\n",
    "Сначала посмотрим, есть ли вообще дубликаты в данных и, если есть, скольько их.  \n",
    "Наличие дублей проверяем с учетом того, что из оргинальных датасетов мы берем не все колонки."
   ]
  },
  {
   "cell_type": "code",
   "execution_count": 45,
   "metadata": {},
   "outputs": [
    {
     "name": "stdout",
     "output_type": "stream",
     "text": [
      "В собственных данных 1405 дупликатов\n",
      "В сторонних данных 10567 дупликатов\n"
     ]
    }
   ],
   "source": [
    "print(f'В собственных данных {train.duplicated().sum()} дупликатов')\n",
    "print(f'В сторонних данных {df_full.duplicated(subset=externdata_train_uni_columns[:-1]).sum()} дупликатов')"
   ]
  },
  {
   "cell_type": "markdown",
   "metadata": {},
   "source": [
    "Значительоне количество в обоих датасетах, удаляем."
   ]
  },
  {
   "cell_type": "code",
   "execution_count": 46,
   "metadata": {},
   "outputs": [],
   "source": [
    "df_full.drop_duplicates(subset=externdata_train_uni_columns[:-1],keep='last',inplace=True) \n",
    "train.drop_duplicates(keep='last',inplace=True) "
   ]
  },
  {
   "cell_type": "markdown",
   "metadata": {},
   "source": [
    "### <a name=\"2_2_1\">Приведение к единому виду\n",
    "Теперь приведем к единому виду"
   ]
  },
  {
   "cell_type": "code",
   "execution_count": 56,
   "metadata": {},
   "outputs": [
    {
     "data": {
      "text/plain": [
       "Index(['bodyType', 'brand', 'car_url', 'color', 'engineDisplacement',\n",
       "       'enginePower', 'equipment_dict', 'fuelType', 'mileage', 'modelDate',\n",
       "       'model_name', 'numberOfDoors', 'productionDate', 'sell_id',\n",
       "       'vehicleTransmission', 'vendor', 'Владельцы', 'Владение', 'ПТС',\n",
       "       'Привод', 'Руль'],\n",
       "      dtype='object')"
      ]
     },
     "execution_count": 56,
     "metadata": {},
     "output_type": "execute_result"
    }
   ],
   "source": []
  },
  {
   "cell_type": "code",
   "execution_count": 47,
   "metadata": {},
   "outputs": [],
   "source": [
    "test = pd.read_csv(f'{path}test.csv',low_memory=False)"
   ]
  },
  {
   "cell_type": "code",
   "execution_count": 48,
   "metadata": {},
   "outputs": [
    {
     "name": "stdout",
     "output_type": "stream",
     "text": [
      "Wall time: 1.54 s\n"
     ]
    }
   ],
   "source": [
    "%%time \n",
    "externdata_test = externdata_test_unification(test)\n",
    "externdata_train = externdata_train_unification(df)\n",
    "externdata_train_full = externdata_train_unification(df_full)"
   ]
  },
  {
   "cell_type": "code",
   "execution_count": 54,
   "metadata": {},
   "outputs": [
    {
     "name": "stdout",
     "output_type": "stream",
     "text": [
      "Wall time: 393 ms\n"
     ]
    }
   ],
   "source": [
    "%%time\n",
    "parsdata_train = parsdata_train_uniifcation(train)\n",
    "parsdata_test = parsdata_test_uniifcation(test)"
   ]
  },
  {
   "cell_type": "code",
   "execution_count": 55,
   "metadata": {},
   "outputs": [
    {
     "data": {
      "text/html": [
       "<div>\n",
       "<style scoped>\n",
       "    .dataframe tbody tr th:only-of-type {\n",
       "        vertical-align: middle;\n",
       "    }\n",
       "\n",
       "    .dataframe tbody tr th {\n",
       "        vertical-align: top;\n",
       "    }\n",
       "\n",
       "    .dataframe thead th {\n",
       "        text-align: right;\n",
       "    }\n",
       "</style>\n",
       "<table border=\"1\" class=\"dataframe\">\n",
       "  <thead>\n",
       "    <tr style=\"text-align: right;\">\n",
       "      <th></th>\n",
       "      <th>model_name</th>\n",
       "      <th>equipment_dict</th>\n",
       "      <th>brand</th>\n",
       "      <th>modelDate</th>\n",
       "      <th>productionDate</th>\n",
       "      <th>ПТС</th>\n",
       "      <th>mileage</th>\n",
       "      <th>car_url</th>\n",
       "      <th>engineDisplacement</th>\n",
       "      <th>numberOfDoors</th>\n",
       "      <th>enginePower</th>\n",
       "      <th>vendor</th>\n",
       "      <th>color</th>\n",
       "      <th>vehicleTransmission</th>\n",
       "      <th>sell_id</th>\n",
       "      <th>Владельцы</th>\n",
       "      <th>Руль</th>\n",
       "      <th>bodyType</th>\n",
       "      <th>Привод</th>\n",
       "    </tr>\n",
       "  </thead>\n",
       "  <tbody>\n",
       "    <tr>\n",
       "      <td>0</td>\n",
       "      <td>1ER</td>\n",
       "      <td>[Подушка безопасности водителя, Подушка безопа...</td>\n",
       "      <td>BMW</td>\n",
       "      <td>2011.0</td>\n",
       "      <td>2012.0</td>\n",
       "      <td>Оригинал</td>\n",
       "      <td>226565.0</td>\n",
       "      <td>https://auto.ru/cars/used/sale/bmw/1er/1106485...</td>\n",
       "      <td>1.6</td>\n",
       "      <td>5.0</td>\n",
       "      <td>136.0</td>\n",
       "      <td>EUROPEAN</td>\n",
       "      <td>белый</td>\n",
       "      <td>автоматическая</td>\n",
       "      <td>1106485913</td>\n",
       "      <td>3.0</td>\n",
       "      <td>Левый</td>\n",
       "      <td>хэтчбек 5 дв.</td>\n",
       "      <td>задний</td>\n",
       "    </tr>\n",
       "    <tr>\n",
       "      <td>1</td>\n",
       "      <td>1ER</td>\n",
       "      <td>[Подушка безопасности водителя, Подушка безопа...</td>\n",
       "      <td>BMW</td>\n",
       "      <td>2017.0</td>\n",
       "      <td>2019.0</td>\n",
       "      <td>Дубликат</td>\n",
       "      <td>21330.0</td>\n",
       "      <td>https://auto.ru/cars/used/sale/bmw/1er/1114969...</td>\n",
       "      <td>1.5</td>\n",
       "      <td>5.0</td>\n",
       "      <td>136.0</td>\n",
       "      <td>EUROPEAN</td>\n",
       "      <td>оранжевый</td>\n",
       "      <td>автоматическая</td>\n",
       "      <td>1114969110</td>\n",
       "      <td>3.0</td>\n",
       "      <td>Левый</td>\n",
       "      <td>хэтчбек 5 дв.</td>\n",
       "      <td>задний</td>\n",
       "    </tr>\n",
       "    <tr>\n",
       "      <td>2</td>\n",
       "      <td>1ER</td>\n",
       "      <td>[Подушка безопасности водителя, Подушка безопа...</td>\n",
       "      <td>BMW</td>\n",
       "      <td>2007.0</td>\n",
       "      <td>2007.0</td>\n",
       "      <td>Оригинал</td>\n",
       "      <td>203182.0</td>\n",
       "      <td>https://auto.ru/cars/used/sale/bmw/1er/1114817...</td>\n",
       "      <td>3.0</td>\n",
       "      <td>3.0</td>\n",
       "      <td>265.0</td>\n",
       "      <td>EUROPEAN</td>\n",
       "      <td>синий</td>\n",
       "      <td>автоматическая</td>\n",
       "      <td>1114817348</td>\n",
       "      <td>3.0</td>\n",
       "      <td>Левый</td>\n",
       "      <td>хэтчбек 3 дв.</td>\n",
       "      <td>задний</td>\n",
       "    </tr>\n",
       "    <tr>\n",
       "      <td>3</td>\n",
       "      <td>1ER</td>\n",
       "      <td>NaN</td>\n",
       "      <td>BMW</td>\n",
       "      <td>2011.0</td>\n",
       "      <td>2012.0</td>\n",
       "      <td>Оригинал</td>\n",
       "      <td>160000.0</td>\n",
       "      <td>https://auto.ru/cars/used/sale/bmw/1er/1115116...</td>\n",
       "      <td>1.6</td>\n",
       "      <td>5.0</td>\n",
       "      <td>136.0</td>\n",
       "      <td>EUROPEAN</td>\n",
       "      <td>белый</td>\n",
       "      <td>автоматическая</td>\n",
       "      <td>1115116358</td>\n",
       "      <td>3.0</td>\n",
       "      <td>Левый</td>\n",
       "      <td>хэтчбек 5 дв.</td>\n",
       "      <td>задний</td>\n",
       "    </tr>\n",
       "    <tr>\n",
       "      <td>4</td>\n",
       "      <td>1ER</td>\n",
       "      <td>[Подушка безопасности водителя, Подушка безопа...</td>\n",
       "      <td>BMW</td>\n",
       "      <td>2007.0</td>\n",
       "      <td>2011.0</td>\n",
       "      <td>Оригинал</td>\n",
       "      <td>230000.0</td>\n",
       "      <td>https://auto.ru/cars/used/sale/bmw/1er/1115106...</td>\n",
       "      <td>2.0</td>\n",
       "      <td>5.0</td>\n",
       "      <td>136.0</td>\n",
       "      <td>EUROPEAN</td>\n",
       "      <td>белый</td>\n",
       "      <td>автоматическая</td>\n",
       "      <td>1115106145</td>\n",
       "      <td>1.0</td>\n",
       "      <td>Левый</td>\n",
       "      <td>хэтчбек 5 дв.</td>\n",
       "      <td>задний</td>\n",
       "    </tr>\n",
       "    <tr>\n",
       "      <td>...</td>\n",
       "      <td>...</td>\n",
       "      <td>...</td>\n",
       "      <td>...</td>\n",
       "      <td>...</td>\n",
       "      <td>...</td>\n",
       "      <td>...</td>\n",
       "      <td>...</td>\n",
       "      <td>...</td>\n",
       "      <td>...</td>\n",
       "      <td>...</td>\n",
       "      <td>...</td>\n",
       "      <td>...</td>\n",
       "      <td>...</td>\n",
       "      <td>...</td>\n",
       "      <td>...</td>\n",
       "      <td>...</td>\n",
       "      <td>...</td>\n",
       "      <td>...</td>\n",
       "      <td>...</td>\n",
       "    </tr>\n",
       "    <tr>\n",
       "      <td>23416</td>\n",
       "      <td>VENTO</td>\n",
       "      <td>NaN</td>\n",
       "      <td>VOLKSWAGEN</td>\n",
       "      <td>NaN</td>\n",
       "      <td>1993.0</td>\n",
       "      <td>Оригинал</td>\n",
       "      <td>288951.0</td>\n",
       "      <td>https://auto.ru/cars/used/sale/volkswagen/vent...</td>\n",
       "      <td>1.8</td>\n",
       "      <td>NaN</td>\n",
       "      <td>90.0</td>\n",
       "      <td>EUROPEAN</td>\n",
       "      <td>синий</td>\n",
       "      <td>автоматическая</td>\n",
       "      <td>1115039136</td>\n",
       "      <td>3.0</td>\n",
       "      <td>Левый</td>\n",
       "      <td>седан</td>\n",
       "      <td>передний</td>\n",
       "    </tr>\n",
       "    <tr>\n",
       "      <td>23417</td>\n",
       "      <td>VENTO</td>\n",
       "      <td>NaN</td>\n",
       "      <td>VOLKSWAGEN</td>\n",
       "      <td>NaN</td>\n",
       "      <td>1996.0</td>\n",
       "      <td>Оригинал</td>\n",
       "      <td>258000.0</td>\n",
       "      <td>https://auto.ru/cars/used/sale/volkswagen/vent...</td>\n",
       "      <td>1.8</td>\n",
       "      <td>NaN</td>\n",
       "      <td>90.0</td>\n",
       "      <td>EUROPEAN</td>\n",
       "      <td>серебристый</td>\n",
       "      <td>автоматическая</td>\n",
       "      <td>1105954643</td>\n",
       "      <td>3.0</td>\n",
       "      <td>Левый</td>\n",
       "      <td>седан</td>\n",
       "      <td>передний</td>\n",
       "    </tr>\n",
       "    <tr>\n",
       "      <td>23418</td>\n",
       "      <td>VENTO</td>\n",
       "      <td>NaN</td>\n",
       "      <td>VOLKSWAGEN</td>\n",
       "      <td>NaN</td>\n",
       "      <td>1995.0</td>\n",
       "      <td>Дубликат</td>\n",
       "      <td>98898.0</td>\n",
       "      <td>https://auto.ru/cars/used/sale/volkswagen/vent...</td>\n",
       "      <td>2.0</td>\n",
       "      <td>NaN</td>\n",
       "      <td>115.0</td>\n",
       "      <td>EUROPEAN</td>\n",
       "      <td>красный</td>\n",
       "      <td>механическая</td>\n",
       "      <td>1115061231</td>\n",
       "      <td>3.0</td>\n",
       "      <td>Левый</td>\n",
       "      <td>седан</td>\n",
       "      <td>передний</td>\n",
       "    </tr>\n",
       "    <tr>\n",
       "      <td>23419</td>\n",
       "      <td>VENTO</td>\n",
       "      <td>NaN</td>\n",
       "      <td>VOLKSWAGEN</td>\n",
       "      <td>NaN</td>\n",
       "      <td>1995.0</td>\n",
       "      <td>Оригинал</td>\n",
       "      <td>200000.0</td>\n",
       "      <td>https://auto.ru/cars/used/sale/volkswagen/vent...</td>\n",
       "      <td>1.8</td>\n",
       "      <td>NaN</td>\n",
       "      <td>75.0</td>\n",
       "      <td>EUROPEAN</td>\n",
       "      <td>зелёный</td>\n",
       "      <td>механическая</td>\n",
       "      <td>1114881155</td>\n",
       "      <td>3.0</td>\n",
       "      <td>Левый</td>\n",
       "      <td>седан</td>\n",
       "      <td>передний</td>\n",
       "    </tr>\n",
       "    <tr>\n",
       "      <td>23420</td>\n",
       "      <td>VENTO</td>\n",
       "      <td>NaN</td>\n",
       "      <td>VOLKSWAGEN</td>\n",
       "      <td>NaN</td>\n",
       "      <td>1994.0</td>\n",
       "      <td>Дубликат</td>\n",
       "      <td>298000.0</td>\n",
       "      <td>https://auto.ru/cars/used/sale/volkswagen/vent...</td>\n",
       "      <td>1.8</td>\n",
       "      <td>NaN</td>\n",
       "      <td>90.0</td>\n",
       "      <td>EUROPEAN</td>\n",
       "      <td>фиолетовый</td>\n",
       "      <td>механическая</td>\n",
       "      <td>1105550425</td>\n",
       "      <td>3.0</td>\n",
       "      <td>Левый</td>\n",
       "      <td>седан</td>\n",
       "      <td>передний</td>\n",
       "    </tr>\n",
       "  </tbody>\n",
       "</table>\n",
       "<p>22016 rows × 19 columns</p>\n",
       "</div>"
      ],
      "text/plain": [
       "      model_name                                     equipment_dict  \\\n",
       "0            1ER  [Подушка безопасности водителя, Подушка безопа...   \n",
       "1            1ER  [Подушка безопасности водителя, Подушка безопа...   \n",
       "2            1ER  [Подушка безопасности водителя, Подушка безопа...   \n",
       "3            1ER                                                NaN   \n",
       "4            1ER  [Подушка безопасности водителя, Подушка безопа...   \n",
       "...          ...                                                ...   \n",
       "23416      VENTO                                                NaN   \n",
       "23417      VENTO                                                NaN   \n",
       "23418      VENTO                                                NaN   \n",
       "23419      VENTO                                                NaN   \n",
       "23420      VENTO                                                NaN   \n",
       "\n",
       "            brand  modelDate  productionDate       ПТС   mileage  \\\n",
       "0             BMW     2011.0          2012.0  Оригинал  226565.0   \n",
       "1             BMW     2017.0          2019.0  Дубликат   21330.0   \n",
       "2             BMW     2007.0          2007.0  Оригинал  203182.0   \n",
       "3             BMW     2011.0          2012.0  Оригинал  160000.0   \n",
       "4             BMW     2007.0          2011.0  Оригинал  230000.0   \n",
       "...           ...        ...             ...       ...       ...   \n",
       "23416  VOLKSWAGEN        NaN          1993.0  Оригинал  288951.0   \n",
       "23417  VOLKSWAGEN        NaN          1996.0  Оригинал  258000.0   \n",
       "23418  VOLKSWAGEN        NaN          1995.0  Дубликат   98898.0   \n",
       "23419  VOLKSWAGEN        NaN          1995.0  Оригинал  200000.0   \n",
       "23420  VOLKSWAGEN        NaN          1994.0  Дубликат  298000.0   \n",
       "\n",
       "                                                 car_url  engineDisplacement  \\\n",
       "0      https://auto.ru/cars/used/sale/bmw/1er/1106485...                 1.6   \n",
       "1      https://auto.ru/cars/used/sale/bmw/1er/1114969...                 1.5   \n",
       "2      https://auto.ru/cars/used/sale/bmw/1er/1114817...                 3.0   \n",
       "3      https://auto.ru/cars/used/sale/bmw/1er/1115116...                 1.6   \n",
       "4      https://auto.ru/cars/used/sale/bmw/1er/1115106...                 2.0   \n",
       "...                                                  ...                 ...   \n",
       "23416  https://auto.ru/cars/used/sale/volkswagen/vent...                 1.8   \n",
       "23417  https://auto.ru/cars/used/sale/volkswagen/vent...                 1.8   \n",
       "23418  https://auto.ru/cars/used/sale/volkswagen/vent...                 2.0   \n",
       "23419  https://auto.ru/cars/used/sale/volkswagen/vent...                 1.8   \n",
       "23420  https://auto.ru/cars/used/sale/volkswagen/vent...                 1.8   \n",
       "\n",
       "       numberOfDoors  enginePower    vendor        color vehicleTransmission  \\\n",
       "0                5.0        136.0  EUROPEAN        белый      автоматическая   \n",
       "1                5.0        136.0  EUROPEAN    оранжевый      автоматическая   \n",
       "2                3.0        265.0  EUROPEAN        синий      автоматическая   \n",
       "3                5.0        136.0  EUROPEAN        белый      автоматическая   \n",
       "4                5.0        136.0  EUROPEAN        белый      автоматическая   \n",
       "...              ...          ...       ...          ...                 ...   \n",
       "23416            NaN         90.0  EUROPEAN        синий      автоматическая   \n",
       "23417            NaN         90.0  EUROPEAN  серебристый      автоматическая   \n",
       "23418            NaN        115.0  EUROPEAN      красный        механическая   \n",
       "23419            NaN         75.0  EUROPEAN      зелёный        механическая   \n",
       "23420            NaN         90.0  EUROPEAN   фиолетовый        механическая   \n",
       "\n",
       "          sell_id  Владельцы   Руль       bodyType    Привод  \n",
       "0      1106485913        3.0  Левый  хэтчбек 5 дв.    задний  \n",
       "1      1114969110        3.0  Левый  хэтчбек 5 дв.    задний  \n",
       "2      1114817348        3.0  Левый  хэтчбек 3 дв.    задний  \n",
       "3      1115116358        3.0  Левый  хэтчбек 5 дв.    задний  \n",
       "4      1115106145        1.0  Левый  хэтчбек 5 дв.    задний  \n",
       "...           ...        ...    ...            ...       ...  \n",
       "23416  1115039136        3.0  Левый          седан  передний  \n",
       "23417  1105954643        3.0  Левый          седан  передний  \n",
       "23418  1115061231        3.0  Левый          седан  передний  \n",
       "23419  1114881155        3.0  Левый          седан  передний  \n",
       "23420  1105550425        3.0  Левый          седан  передний  \n",
       "\n",
       "[22016 rows x 19 columns]"
      ]
     },
     "execution_count": 55,
     "metadata": {},
     "output_type": "execute_result"
    }
   ],
   "source": [
    "parsdata_train"
   ]
  },
  {
   "cell_type": "code",
   "execution_count": 51,
   "metadata": {},
   "outputs": [
    {
     "data": {
      "text/html": [
       "<div>\n",
       "<style scoped>\n",
       "    .dataframe tbody tr th:only-of-type {\n",
       "        vertical-align: middle;\n",
       "    }\n",
       "\n",
       "    .dataframe tbody tr th {\n",
       "        vertical-align: top;\n",
       "    }\n",
       "\n",
       "    .dataframe thead th {\n",
       "        text-align: right;\n",
       "    }\n",
       "</style>\n",
       "<table border=\"1\" class=\"dataframe\">\n",
       "  <thead>\n",
       "    <tr style=\"text-align: right;\">\n",
       "      <th></th>\n",
       "      <th>model_name</th>\n",
       "      <th>equipment_dict</th>\n",
       "      <th>brand</th>\n",
       "      <th>modelDate</th>\n",
       "      <th>productionDate</th>\n",
       "      <th>ПТС</th>\n",
       "      <th>mileage</th>\n",
       "      <th>car_url</th>\n",
       "      <th>engineDisplacement</th>\n",
       "      <th>numberOfDoors</th>\n",
       "      <th>enginePower</th>\n",
       "      <th>vendor</th>\n",
       "      <th>color</th>\n",
       "      <th>vehicleTransmission</th>\n",
       "      <th>sell_id</th>\n",
       "      <th>Владельцы</th>\n",
       "      <th>Руль</th>\n",
       "      <th>bodyType</th>\n",
       "      <th>Привод</th>\n",
       "    </tr>\n",
       "  </thead>\n",
       "  <tbody>\n",
       "    <tr>\n",
       "      <td>0</td>\n",
       "      <td>OCTAVIA</td>\n",
       "      <td>[engine-proof, tinted-glass, airbag-driver, au...</td>\n",
       "      <td>SKODA</td>\n",
       "      <td>2013.0</td>\n",
       "      <td>2014.0</td>\n",
       "      <td>Оригинал</td>\n",
       "      <td>74000.0</td>\n",
       "      <td>https://auto.ru/cars/used/sale/skoda/octavia/1...</td>\n",
       "      <td>1.2</td>\n",
       "      <td>5.0</td>\n",
       "      <td>105.0</td>\n",
       "      <td>EUROPEAN</td>\n",
       "      <td>синий</td>\n",
       "      <td>роботизированная</td>\n",
       "      <td>1100575026</td>\n",
       "      <td>3.0</td>\n",
       "      <td>Левый</td>\n",
       "      <td>лифтбек</td>\n",
       "      <td>передний</td>\n",
       "    </tr>\n",
       "    <tr>\n",
       "      <td>1</td>\n",
       "      <td>OCTAVIA</td>\n",
       "      <td>[cruise-control, asr, esp, airbag-driver, isof...</td>\n",
       "      <td>SKODA</td>\n",
       "      <td>2017.0</td>\n",
       "      <td>2017.0</td>\n",
       "      <td>Оригинал</td>\n",
       "      <td>60563.0</td>\n",
       "      <td>https://auto.ru/cars/used/sale/skoda/octavia/1...</td>\n",
       "      <td>1.6</td>\n",
       "      <td>5.0</td>\n",
       "      <td>110.0</td>\n",
       "      <td>EUROPEAN</td>\n",
       "      <td>чёрный</td>\n",
       "      <td>механическая</td>\n",
       "      <td>1100549428</td>\n",
       "      <td>1.0</td>\n",
       "      <td>Левый</td>\n",
       "      <td>лифтбек</td>\n",
       "      <td>передний</td>\n",
       "    </tr>\n",
       "    <tr>\n",
       "      <td>2</td>\n",
       "      <td>SUPERB</td>\n",
       "      <td>[cruise-control, tinted-glass, esp, adaptive-l...</td>\n",
       "      <td>SKODA</td>\n",
       "      <td>2013.0</td>\n",
       "      <td>2014.0</td>\n",
       "      <td>Оригинал</td>\n",
       "      <td>88000.0</td>\n",
       "      <td>https://auto.ru/cars/used/sale/skoda/superb/11...</td>\n",
       "      <td>1.8</td>\n",
       "      <td>5.0</td>\n",
       "      <td>152.0</td>\n",
       "      <td>EUROPEAN</td>\n",
       "      <td>серый</td>\n",
       "      <td>роботизированная</td>\n",
       "      <td>1100658222</td>\n",
       "      <td>1.0</td>\n",
       "      <td>Левый</td>\n",
       "      <td>лифтбек</td>\n",
       "      <td>передний</td>\n",
       "    </tr>\n",
       "    <tr>\n",
       "      <td>3</td>\n",
       "      <td>OCTAVIA</td>\n",
       "      <td>[cruise-control, roller-blind-for-rear-window,...</td>\n",
       "      <td>SKODA</td>\n",
       "      <td>2013.0</td>\n",
       "      <td>2014.0</td>\n",
       "      <td>Оригинал</td>\n",
       "      <td>95000.0</td>\n",
       "      <td>https://auto.ru/cars/used/sale/skoda/octavia/1...</td>\n",
       "      <td>1.6</td>\n",
       "      <td>5.0</td>\n",
       "      <td>110.0</td>\n",
       "      <td>EUROPEAN</td>\n",
       "      <td>коричневый</td>\n",
       "      <td>автоматическая</td>\n",
       "      <td>1100937408</td>\n",
       "      <td>1.0</td>\n",
       "      <td>Левый</td>\n",
       "      <td>лифтбек</td>\n",
       "      <td>передний</td>\n",
       "    </tr>\n",
       "    <tr>\n",
       "      <td>4</td>\n",
       "      <td>OCTAVIA</td>\n",
       "      <td>[cruise-control, asr, esp, airbag-driver, isof...</td>\n",
       "      <td>SKODA</td>\n",
       "      <td>2008.0</td>\n",
       "      <td>2012.0</td>\n",
       "      <td>Оригинал</td>\n",
       "      <td>58536.0</td>\n",
       "      <td>https://auto.ru/cars/used/sale/skoda/octavia/1...</td>\n",
       "      <td>1.8</td>\n",
       "      <td>5.0</td>\n",
       "      <td>152.0</td>\n",
       "      <td>EUROPEAN</td>\n",
       "      <td>белый</td>\n",
       "      <td>автоматическая</td>\n",
       "      <td>1101037972</td>\n",
       "      <td>1.0</td>\n",
       "      <td>Левый</td>\n",
       "      <td>лифтбек</td>\n",
       "      <td>передний</td>\n",
       "    </tr>\n",
       "    <tr>\n",
       "      <td>...</td>\n",
       "      <td>...</td>\n",
       "      <td>...</td>\n",
       "      <td>...</td>\n",
       "      <td>...</td>\n",
       "      <td>...</td>\n",
       "      <td>...</td>\n",
       "      <td>...</td>\n",
       "      <td>...</td>\n",
       "      <td>...</td>\n",
       "      <td>...</td>\n",
       "      <td>...</td>\n",
       "      <td>...</td>\n",
       "      <td>...</td>\n",
       "      <td>...</td>\n",
       "      <td>...</td>\n",
       "      <td>...</td>\n",
       "      <td>...</td>\n",
       "      <td>...</td>\n",
       "      <td>...</td>\n",
       "    </tr>\n",
       "    <tr>\n",
       "      <td>34681</td>\n",
       "      <td>3ER</td>\n",
       "      <td>[cruise-control, asr, tinted-glass, esp, start...</td>\n",
       "      <td>BMW</td>\n",
       "      <td>2011.0</td>\n",
       "      <td>2014.0</td>\n",
       "      <td>Оригинал</td>\n",
       "      <td>115000.0</td>\n",
       "      <td>https://auto.ru/cars/used/sale/bmw/3er/1101369...</td>\n",
       "      <td>1.6</td>\n",
       "      <td>4.0</td>\n",
       "      <td>136.0</td>\n",
       "      <td>EUROPEAN</td>\n",
       "      <td>коричневый</td>\n",
       "      <td>автоматическая</td>\n",
       "      <td>1101369263</td>\n",
       "      <td>3.0</td>\n",
       "      <td>Левый</td>\n",
       "      <td>седан</td>\n",
       "      <td>задний</td>\n",
       "    </tr>\n",
       "    <tr>\n",
       "      <td>34682</td>\n",
       "      <td>5ER</td>\n",
       "      <td>[]</td>\n",
       "      <td>BMW</td>\n",
       "      <td>2016.0</td>\n",
       "      <td>2018.0</td>\n",
       "      <td>Оригинал</td>\n",
       "      <td>98000.0</td>\n",
       "      <td>https://auto.ru/cars/used/sale/bmw/5er/1101369...</td>\n",
       "      <td>2.0</td>\n",
       "      <td>4.0</td>\n",
       "      <td>190.0</td>\n",
       "      <td>EUROPEAN</td>\n",
       "      <td>чёрный</td>\n",
       "      <td>автоматическая</td>\n",
       "      <td>1101369581</td>\n",
       "      <td>1.0</td>\n",
       "      <td>Левый</td>\n",
       "      <td>седан</td>\n",
       "      <td>полный</td>\n",
       "    </tr>\n",
       "    <tr>\n",
       "      <td>34683</td>\n",
       "      <td>5ER</td>\n",
       "      <td>[]</td>\n",
       "      <td>BMW</td>\n",
       "      <td>1995.0</td>\n",
       "      <td>1997.0</td>\n",
       "      <td>Дубликат</td>\n",
       "      <td>360000.0</td>\n",
       "      <td>https://auto.ru/cars/used/sale/bmw/5er/1101364...</td>\n",
       "      <td>2.5</td>\n",
       "      <td>4.0</td>\n",
       "      <td>170.0</td>\n",
       "      <td>EUROPEAN</td>\n",
       "      <td>серый</td>\n",
       "      <td>автоматическая</td>\n",
       "      <td>1101364889</td>\n",
       "      <td>3.0</td>\n",
       "      <td>Левый</td>\n",
       "      <td>седан</td>\n",
       "      <td>задний</td>\n",
       "    </tr>\n",
       "    <tr>\n",
       "      <td>34684</td>\n",
       "      <td>X1</td>\n",
       "      <td>[engine-proof, esp, start-stop-function, airba...</td>\n",
       "      <td>BMW</td>\n",
       "      <td>2012.0</td>\n",
       "      <td>2013.0</td>\n",
       "      <td>Оригинал</td>\n",
       "      <td>90500.0</td>\n",
       "      <td>https://auto.ru/cars/used/sale/bmw/x1/11013625...</td>\n",
       "      <td>2.0</td>\n",
       "      <td>5.0</td>\n",
       "      <td>184.0</td>\n",
       "      <td>EUROPEAN</td>\n",
       "      <td>коричневый</td>\n",
       "      <td>автоматическая</td>\n",
       "      <td>1101362518</td>\n",
       "      <td>2.0</td>\n",
       "      <td>Левый</td>\n",
       "      <td>внедорожник 5 дв.</td>\n",
       "      <td>полный</td>\n",
       "    </tr>\n",
       "    <tr>\n",
       "      <td>34685</td>\n",
       "      <td>X5</td>\n",
       "      <td>[alloy-wheel-disks, navigation, ptf, airbrush,...</td>\n",
       "      <td>BMW</td>\n",
       "      <td>2006.0</td>\n",
       "      <td>2008.0</td>\n",
       "      <td>Оригинал</td>\n",
       "      <td>240000.0</td>\n",
       "      <td>https://auto.ru/cars/used/sale/bmw/x5/11012560...</td>\n",
       "      <td>3.0</td>\n",
       "      <td>5.0</td>\n",
       "      <td>235.0</td>\n",
       "      <td>EUROPEAN</td>\n",
       "      <td>чёрный</td>\n",
       "      <td>автоматическая</td>\n",
       "      <td>1101256068</td>\n",
       "      <td>3.0</td>\n",
       "      <td>Левый</td>\n",
       "      <td>внедорожник 5 дв.</td>\n",
       "      <td>полный</td>\n",
       "    </tr>\n",
       "  </tbody>\n",
       "</table>\n",
       "<p>34686 rows × 19 columns</p>\n",
       "</div>"
      ],
      "text/plain": [
       "      model_name                                     equipment_dict  brand  \\\n",
       "0        OCTAVIA  [engine-proof, tinted-glass, airbag-driver, au...  SKODA   \n",
       "1        OCTAVIA  [cruise-control, asr, esp, airbag-driver, isof...  SKODA   \n",
       "2         SUPERB  [cruise-control, tinted-glass, esp, adaptive-l...  SKODA   \n",
       "3        OCTAVIA  [cruise-control, roller-blind-for-rear-window,...  SKODA   \n",
       "4        OCTAVIA  [cruise-control, asr, esp, airbag-driver, isof...  SKODA   \n",
       "...          ...                                                ...    ...   \n",
       "34681        3ER  [cruise-control, asr, tinted-glass, esp, start...    BMW   \n",
       "34682        5ER                                                 []    BMW   \n",
       "34683        5ER                                                 []    BMW   \n",
       "34684         X1  [engine-proof, esp, start-stop-function, airba...    BMW   \n",
       "34685         X5  [alloy-wheel-disks, navigation, ptf, airbrush,...    BMW   \n",
       "\n",
       "       modelDate  productionDate       ПТС   mileage  \\\n",
       "0         2013.0          2014.0  Оригинал   74000.0   \n",
       "1         2017.0          2017.0  Оригинал   60563.0   \n",
       "2         2013.0          2014.0  Оригинал   88000.0   \n",
       "3         2013.0          2014.0  Оригинал   95000.0   \n",
       "4         2008.0          2012.0  Оригинал   58536.0   \n",
       "...          ...             ...       ...       ...   \n",
       "34681     2011.0          2014.0  Оригинал  115000.0   \n",
       "34682     2016.0          2018.0  Оригинал   98000.0   \n",
       "34683     1995.0          1997.0  Дубликат  360000.0   \n",
       "34684     2012.0          2013.0  Оригинал   90500.0   \n",
       "34685     2006.0          2008.0  Оригинал  240000.0   \n",
       "\n",
       "                                                 car_url  engineDisplacement  \\\n",
       "0      https://auto.ru/cars/used/sale/skoda/octavia/1...                 1.2   \n",
       "1      https://auto.ru/cars/used/sale/skoda/octavia/1...                 1.6   \n",
       "2      https://auto.ru/cars/used/sale/skoda/superb/11...                 1.8   \n",
       "3      https://auto.ru/cars/used/sale/skoda/octavia/1...                 1.6   \n",
       "4      https://auto.ru/cars/used/sale/skoda/octavia/1...                 1.8   \n",
       "...                                                  ...                 ...   \n",
       "34681  https://auto.ru/cars/used/sale/bmw/3er/1101369...                 1.6   \n",
       "34682  https://auto.ru/cars/used/sale/bmw/5er/1101369...                 2.0   \n",
       "34683  https://auto.ru/cars/used/sale/bmw/5er/1101364...                 2.5   \n",
       "34684  https://auto.ru/cars/used/sale/bmw/x1/11013625...                 2.0   \n",
       "34685  https://auto.ru/cars/used/sale/bmw/x5/11012560...                 3.0   \n",
       "\n",
       "       numberOfDoors  enginePower    vendor       color vehicleTransmission  \\\n",
       "0                5.0        105.0  EUROPEAN       синий    роботизированная   \n",
       "1                5.0        110.0  EUROPEAN      чёрный        механическая   \n",
       "2                5.0        152.0  EUROPEAN       серый    роботизированная   \n",
       "3                5.0        110.0  EUROPEAN  коричневый      автоматическая   \n",
       "4                5.0        152.0  EUROPEAN       белый      автоматическая   \n",
       "...              ...          ...       ...         ...                 ...   \n",
       "34681            4.0        136.0  EUROPEAN  коричневый      автоматическая   \n",
       "34682            4.0        190.0  EUROPEAN      чёрный      автоматическая   \n",
       "34683            4.0        170.0  EUROPEAN       серый      автоматическая   \n",
       "34684            5.0        184.0  EUROPEAN  коричневый      автоматическая   \n",
       "34685            5.0        235.0  EUROPEAN      чёрный      автоматическая   \n",
       "\n",
       "          sell_id  Владельцы   Руль           bodyType    Привод  \n",
       "0      1100575026        3.0  Левый            лифтбек  передний  \n",
       "1      1100549428        1.0  Левый            лифтбек  передний  \n",
       "2      1100658222        1.0  Левый            лифтбек  передний  \n",
       "3      1100937408        1.0  Левый            лифтбек  передний  \n",
       "4      1101037972        1.0  Левый            лифтбек  передний  \n",
       "...           ...        ...    ...                ...       ...  \n",
       "34681  1101369263        3.0  Левый              седан    задний  \n",
       "34682  1101369581        1.0  Левый              седан    полный  \n",
       "34683  1101364889        3.0  Левый              седан    задний  \n",
       "34684  1101362518        2.0  Левый  внедорожник 5 дв.    полный  \n",
       "34685  1101256068        3.0  Левый  внедорожник 5 дв.    полный  \n",
       "\n",
       "[34686 rows x 19 columns]"
      ]
     },
     "execution_count": 51,
     "metadata": {},
     "output_type": "execute_result"
    }
   ],
   "source": [
    "parsdata_test"
   ]
  },
  {
   "cell_type": "code",
   "execution_count": 53,
   "metadata": {},
   "outputs": [],
   "source": [
    "# externdata_test.info(),externdata_train.info(),externdata_train.info()"
   ]
  },
  {
   "cell_type": "code",
   "execution_count": null,
   "metadata": {},
   "outputs": [],
   "source": []
  },
  {
   "cell_type": "code",
   "execution_count": null,
   "metadata": {},
   "outputs": [],
   "source": []
  },
  {
   "cell_type": "markdown",
   "metadata": {},
   "source": [
    "# <a name=\"3\"></a>EDA полученных данных\n",
    "## <a name=\"3_0\"></a>EDA собсвенного набора\n",
    "вернуться к [Плану работы](#_)"
   ]
  },
  {
   "cell_type": "code",
   "execution_count": null,
   "metadata": {},
   "outputs": [],
   "source": []
  },
  {
   "cell_type": "code",
   "execution_count": null,
   "metadata": {},
   "outputs": [],
   "source": []
  },
  {
   "cell_type": "code",
   "execution_count": null,
   "metadata": {},
   "outputs": [],
   "source": []
  },
  {
   "cell_type": "markdown",
   "metadata": {},
   "source": [
    "## <a name=\"3_1\">EDA сторонних данных\n",
    "вернуться к [Плану работы](#_)"
   ]
  },
  {
   "cell_type": "markdown",
   "metadata": {},
   "source": [
    "## <a name=\"3_2\">Сравнение распределений в наборах данных\n",
    "вернуться к [Плану работы](#_)"
   ]
  },
  {
   "cell_type": "markdown",
   "metadata": {},
   "source": [
    "## <a name=\"3_3\"> Выводы, предварительный выбор модели, варианты обработки данных\n",
    "вернуться к [Плану работы](#_)"
   ]
  },
  {
   "cell_type": "markdown",
   "metadata": {},
   "source": [
    "# <a name=\"4\">Создание, настройка модели, участие в соревновании\n",
    "вернуться к [Плану работы](#_)"
   ]
  },
  {
   "cell_type": "code",
   "execution_count": null,
   "metadata": {},
   "outputs": [],
   "source": []
  },
  {
   "cell_type": "markdown",
   "metadata": {},
   "source": [
    "# <a name=\"5\">Ансамблирование\n",
    "вернуться к [Плану работы](#_)"
   ]
  },
  {
   "cell_type": "code",
   "execution_count": null,
   "metadata": {},
   "outputs": [],
   "source": []
  },
  {
   "cell_type": "code",
   "execution_count": null,
   "metadata": {},
   "outputs": [],
   "source": []
  },
  {
   "cell_type": "code",
   "execution_count": null,
   "metadata": {},
   "outputs": [],
   "source": []
  },
  {
   "cell_type": "code",
   "execution_count": null,
   "metadata": {},
   "outputs": [],
   "source": []
  },
  {
   "cell_type": "markdown",
   "metadata": {},
   "source": [
    "# ====================== TEST & OTHER =================="
   ]
  },
  {
   "cell_type": "code",
   "execution_count": null,
   "metadata": {},
   "outputs": [],
   "source": []
  },
  {
   "cell_type": "markdown",
   "metadata": {},
   "source": []
  },
  {
   "cell_type": "code",
   "execution_count": null,
   "metadata": {},
   "outputs": [],
   "source": []
  },
  {
   "cell_type": "code",
   "execution_count": null,
   "metadata": {},
   "outputs": [],
   "source": []
  },
  {
   "cell_type": "code",
   "execution_count": null,
   "metadata": {},
   "outputs": [],
   "source": [
    "# # альтернативные пути для kaggle и локальный (НЕ ЗАБЫВАТЬ МЕНЯТЬ!)\n",
    "# path = './Project_7_data/'\n",
    "# # path = '/kaggle/input/.....'\n",
    "\n",
    "# # фиксация randomstate\n",
    "# RANDOM_SEED = 42\n",
    "\n",
    "# executable_path = 'C:/Users/GANSOR-PC/chromium/chromedriver.exe'\n",
    "# marks_for_parsing = ['SKODA', 'AUDI', 'HONDA', 'VOLVO', 'BMW', 'NISSAN', 'INFINITI',\n",
    "#        'MERCEDES', 'TOYOTA', 'LEXUS', 'VOLKSWAGEN', 'MITSUBISHI']\n",
    "\n",
    "# data_columns = ['bodyType', 'brand', 'car_url', 'color', 'engineDisplacement',\n",
    "#        'enginePower', 'equipment_dict', 'fuelType', 'mileage', 'modelDate',\n",
    "#        'model_name', 'numberOfDoors', 'productionDate', 'sell_id', 'vehicleTransmission',\n",
    "#        'vendor', 'Владельцы', 'ПТС', 'Привод', 'Руль', 'offerprice'] \n",
    "\n",
    "# # data_columns = ['bodyType', 'brand', 'car_url', 'color', 'engineDisplacement', 'enginePower', \n",
    "# #                       'equipment_dict','fuelType', 'mileage', 'modelDate', 'model_name', 'numberOfDoors', \n",
    "# #                       'productionDate', 'sell_id', 'vehicleTransmission', 'vendor', \n",
    "# #                       'Владельцы', 'Владение', 'ПТС', 'Привод', 'Руль']"
   ]
  }
 ],
 "metadata": {
  "kernelspec": {
   "display_name": "Python 3",
   "language": "python",
   "name": "python3"
  },
  "language_info": {
   "codemirror_mode": {
    "name": "ipython",
    "version": 3
   },
   "file_extension": ".py",
   "mimetype": "text/x-python",
   "name": "python",
   "nbconvert_exporter": "python",
   "pygments_lexer": "ipython3",
   "version": "3.7.4"
  }
 },
 "nbformat": 4,
 "nbformat_minor": 2
}
