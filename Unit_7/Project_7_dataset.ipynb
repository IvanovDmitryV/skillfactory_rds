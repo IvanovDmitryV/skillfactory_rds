{
 "cells": [
  {
   "cell_type": "code",
   "execution_count": 4,
   "metadata": {},
   "outputs": [],
   "source": [
    "# from catboost import CatBoostClassifier\n",
    "\n",
    "import pandas as pd\n",
    "import os\n",
    "import warnings\n",
    "import numpy as np\n",
    "import re\n",
    "\n",
    "from functools import reduce\n",
    "\n",
    "warnings.filterwarnings(\"ignore\")"
   ]
  },
  {
   "cell_type": "code",
   "execution_count": 11,
   "metadata": {},
   "outputs": [],
   "source": [
    "data_columns = ['bodyType', 'brand', 'car_url', 'color', 'engineDisplacement', 'enginePower', \n",
    "                      'equipment_dict','fuelType', 'mileage', 'modelDate', 'model_name', 'numberOfDoors', \n",
    "                      'productionDate', 'sell_id', 'vehicleTransmission', 'vendor', \n",
    "                      'Владельцы', 'Владение', 'ПТС', 'Привод', 'Руль']"
   ]
  },
  {
   "cell_type": "markdown",
   "metadata": {},
   "source": [
    "# ============================================================="
   ]
  },
  {
   "cell_type": "code",
   "execution_count": 5,
   "metadata": {},
   "outputs": [],
   "source": [
    "# обьединение данных по каждом бренду в один DataFrame\n",
    "# by_brend_dir = os.listdir('C:/Users/Manych/projects/persnl/Project_7_data_extra/by_brend')\n",
    "\n",
    "# to_concat = []\n",
    "# for brand in by_brend_dir:\n",
    "#     try: \n",
    "#         brand_df = pd.read_csv(\n",
    "#             'C:/Users/Manych/projects/persnl/Project_7_data_extra/by_brend/' + brand,sep=',',low_memory=False)\n",
    "#     except:\n",
    "#         brand_df = pd.read_csv(\n",
    "#             'C:/Users/Manych/projects/persnl/Project_7_data_extra/by_brend/' + brand,sep=';',low_memory=False)\n",
    "#     to_concat.append(brand_df)\n",
    "\n",
    "# consolidated_df = pd.concat(to_concat)\n",
    "\n",
    "# consolidated_df.to_csv('C:/Users/Manych/projects/persnl/Project_7_data_extra/consolidated_df.csv')"
   ]
  },
  {
   "cell_type": "code",
   "execution_count": 6,
   "metadata": {},
   "outputs": [],
   "source": [
    "# all_dfs_names = [x for x in os.listdir('C:/Users/Manych/projects/persnl/Project_7_data_extra') if '.csv' in x]\n",
    "all_dfs_names = [x for x in os.listdir('./Preproject_7_data') if '.csv' in x]"
   ]
  },
  {
   "cell_type": "markdown",
   "metadata": {},
   "source": [
    "# Получение серий со спискоми колонок каждого датафрейма, рколичества наблюдений в каждом датафрейме и с самими датафремами"
   ]
  },
  {
   "cell_type": "code",
   "execution_count": 42,
   "metadata": {},
   "outputs": [
    {
     "name": "stdout",
     "output_type": "stream",
     "text": [
      "all_auto_ru_09_09_2020.csv all_auto_ru_14_11_2020.csv all_car_27_08_2021_data_12_brands.csv cars_df_big.csv cars_df_small.csv data1.csv old_train.csv parsing_auto_ru.csv train_df_full_part1.csv "
     ]
    }
   ],
   "source": [
    "dfs_columns = pd.Series()\n",
    "# dfs_counts = pd.Series()\n",
    "# all_dfs =  pd.Series()\n",
    "for df_name in  all_dfs_names:\n",
    "    print(df_name,end=' ')\n",
    "    try:\n",
    "        df = pd.read_csv('./Preproject_7_data/' + df_name,low_memory=False)\n",
    "    except:\n",
    "        df = pd.read_csv('./Preproject_7_data/' + df_name,sep='\\t',low_memory=False) \n",
    "    dfs_columns = dfs_columns.append(pd.Series([list(df.columns)],index=[df_name]))\n",
    "#     dfs_counts = dfs_counts.append(pd.Series([len(df)],index=[df_name]))\n",
    "#     all_dfs = all_dfs.append(pd.Series([df],index=[df_name]));\n",
    "#     print(df.columnsumns)"
   ]
  },
  {
   "cell_type": "code",
   "execution_count": 41,
   "metadata": {},
   "outputs": [],
   "source": [
    "# [x for x in dfs_columns.index[[0,2,5,7,8]]]\n",
    "# [set(data_columns) <= set(x) for x in dfs_columns]\n",
    "# {1,2,3} <= {1,2,3,4}\n",
    "# [set(data_columns) - set(x) for x in dfs_columns]\n",
    "# [ set(x)- set(data_columns) for x in dfs_columns]\n",
    "# [ 'parsing_unixtime' in set(x) for x in dfs_columns]"
   ]
  },
  {
   "cell_type": "code",
   "execution_count": 39,
   "metadata": {},
   "outputs": [],
   "source": [
    "datasets_to_train = ['all_auto_ru_09_09_2020.csv',\n",
    " 'all_car_27_08_2021_data_12_brands.csv',\n",
    " 'data1.csv',\n",
    " 'parsing_auto_ru.csv',\n",
    " 'train_df_full_part1.csv']"
   ]
  },
  {
   "cell_type": "markdown",
   "metadata": {},
   "source": [
    "# Общие для всех  датафреймов колонки, и остальные(необщий)"
   ]
  },
  {
   "cell_type": "code",
   "execution_count": 8,
   "metadata": {},
   "outputs": [
    {
     "name": "stdout",
     "output_type": "stream",
     "text": [
      "['hidden', 'model', 'start_date', 'Владение', 'Комплектация', 'Состояние', 'Таможня']\n",
      "['complectation_dict', 'equipment_dict', 'image', 'model_info', 'model_name', 'priceCurrency', 'price_EUR', 'price_USD', 'sell_id', 'start_date', 'super_gen', 'vendor', 'Владение', 'Состояние', 'Таможня']\n",
      "['Unnamed: 0', 'car_url', 'complectation_dict', 'date_added', 'equipment_dict', 'image', 'model_name', 'parsing_unixtime', 'priceCurrency', 'region', 'sell_id', 'super_gen', 'views', 'Владение', 'Состояние', 'Таможня']\n",
      "['car_url', 'equipmentGroups', 'image', 'model_name', 'parsing_unixtime', 'priceCurrency', 'sell_id', 'Состояние', 'Таможня']\n",
      "['car_url', 'equipmentGroups', 'image', 'model_name', 'parsing_unixtime', 'priceCurrency', 'sell_id', 'Состояние', 'Таможня']\n",
      "['car_url', 'complectation_dict', 'equipment_dict', 'image', 'is_train', 'model_info', 'model_name', 'parsing_unixtime', 'priceCurrency', 'sell_id', 'super_gen', 'vendor', 'Владение', 'Состояние', 'Таможня']\n",
      "['complectation_dict', 'equipment_dict', 'id', 'model_info', 'model_name', 'priceCurrency', 'sell_id', 'super_gen', 'vendor']\n",
      "['car_url', 'complectation_dict', 'equipment_dict', 'image', 'model_info', 'model_name', 'parsing_unixtime', 'priceCurrency', 'sell_id', 'super_gen', 'vendor', 'Владение', 'Состояние', 'Таможня']\n",
      "['car_url', 'complectation_dict', 'date_added', 'equipment_dict', 'image', 'model_info', 'model_name', 'parsing_unixtime', 'priceCurrency', 'region', 'sell_id', 'super_gen', 'vendor', 'views', 'Владение', 'Состояние', 'Таможня']\n"
     ]
    }
   ],
   "source": [
    "# '''\n",
    "common_columns = reduce(lambda x,y: set(x)&set(y), dfs_columns)\n",
    "not_common_columns = dfs_columns.apply(lambda x: set(x) - common_columns )\n",
    "[print (sorted(x)) for x in not_common_columns];\n",
    "# common_columns\n",
    "# not_common_columns\n",
    "# '''"
   ]
  },
  {
   "cell_type": "code",
   "execution_count": 9,
   "metadata": {},
   "outputs": [],
   "source": [
    "total_dfs_columns = pd.Series(dfs_columns.sum()).value_counts()"
   ]
  },
  {
   "cell_type": "code",
   "execution_count": 10,
   "metadata": {},
   "outputs": [
    {
     "data": {
      "text/plain": [
       "Руль                    9\n",
       "color                   9\n",
       "enginePower             9\n",
       "price                   9\n",
       "fuelType                9\n",
       "mileage                 9\n",
       "vehicleTransmission     9\n",
       "Владельцы               9\n",
       "modelDate               9\n",
       "name                    9\n",
       "ПТС                     9\n",
       "vehicleConfiguration    9\n",
       "brand                   9\n",
       "description             9\n",
       "numberOfDoors           9\n",
       "bodyType                9\n",
       "Привод                  9\n",
       "engineDisplacement      9\n",
       "productionDate          9\n",
       "priceCurrency           8\n",
       "Состояние               8\n",
       "Таможня                 8\n",
       "model_name              8\n",
       "sell_id                 8\n",
       "image                   7\n",
       "parsing_unixtime        6\n",
       "car_url                 6\n",
       "super_gen               6\n",
       "complectation_dict      6\n",
       "Владение                6\n",
       "dtype: int64"
      ]
     },
     "execution_count": 10,
     "metadata": {},
     "output_type": "execute_result"
    }
   ],
   "source": [
    "total_dfs_columns[:30]"
   ]
  },
  {
   "cell_type": "markdown",
   "metadata": {},
   "source": [
    "# Взвешенные по количеству наблюдений колонки "
   ]
  },
  {
   "cell_type": "code",
   "execution_count": 8,
   "metadata": {},
   "outputs": [],
   "source": [
    "weighted_columns = dfs_counts*dfs_columns\n",
    "total_weighted_columns = pd.Series(weighted_columns.sum()).value_counts()"
   ]
  },
  {
   "cell_type": "code",
   "execution_count": 9,
   "metadata": {},
   "outputs": [
    {
     "data": {
      "text/plain": [
       "Владельцы              1139446\n",
       "description            1139446\n",
       "name                   1139446\n",
       "fuelType               1139446\n",
       "ПТС                    1139446\n",
       "price                  1139446\n",
       "brand                  1139446\n",
       "enginePower            1139446\n",
       "color                  1139446\n",
       "bodyType               1139446\n",
       "mileage                1139446\n",
       "vehicleTransmission    1139446\n",
       "productionDate         1139446\n",
       "Руль                   1139446\n",
       "Привод                 1139446\n",
       "engineDisplacement     1139446\n",
       "model_name             1050068\n",
       "sell_id                1050068\n",
       "equipment_dict          981588\n",
       "Таможня                 972048\n",
       "dtype: int64"
      ]
     },
     "execution_count": 9,
     "metadata": {},
     "output_type": "execute_result"
    }
   ],
   "source": [
    "total_weighted_columns[:20]"
   ]
  },
  {
   "cell_type": "code",
   "execution_count": 10,
   "metadata": {},
   "outputs": [],
   "source": [
    "# [print (sorted(x)) for x in not_common_columns]"
   ]
  },
  {
   "cell_type": "markdown",
   "metadata": {},
   "source": [
    "# ===================all_dfs_getting==============================="
   ]
  },
  {
   "cell_type": "code",
   "execution_count": 11,
   "metadata": {},
   "outputs": [
    {
     "name": "stdout",
     "output_type": "stream",
     "text": [
      "all_auto_ru_09_09_2020.csv all_auto_ru_14_11_2020.csv all_car_27_08_2021_data_12_brands.csv cars_df_big.csv cars_df_small.csv consolidated_df.csv data1.csv parsing_auto_ru.csv train.csv train_df_full_part1.csv "
     ]
    }
   ],
   "source": [
    "all_dfs =  pd.Series()\n",
    "\n",
    "for df_name in  all_dfs_names:\n",
    "    print(df_name,end=' ')\n",
    "    try:\n",
    "        df = pd.read_csv('./Preproject_7_data/' + df_name,low_memory=False)\n",
    "    except:\n",
    "        df = pd.read_csv('./Preproject_7_data/' + df_name,sep='\\t',low_memory=False)\n",
    "        \n",
    "    all_dfs = all_dfs.append(pd.Series([df],index=[df_name]))"
   ]
  },
  {
   "cell_type": "code",
   "execution_count": 12,
   "metadata": {},
   "outputs": [
    {
     "name": "stdout",
     "output_type": "stream",
     "text": [
      "3526259.7003383883 all_auto_ru_09_09_2020.csv\n",
      "4879901.107416625 all_auto_ru_14_11_2020.csv\n",
      "6093548.989583893 all_car_27_08_2021_data_12_brands.csv\n",
      "3435923.9598136283 cars_df_big.csv\n",
      "3435923.9598136283 cars_df_small.csv\n",
      "nan consolidated_df.csv\n",
      "2385619.3733265977 data1.csv\n",
      "2306780.622999633 parsing_auto_ru.csv\n",
      "4509805.734230299 train.csv\n",
      "5869825.628195463 train_df_full_part1.csv\n"
     ]
    }
   ],
   "source": [
    "for df_name,df in zip(all_dfs.index,all_dfs):\n",
    "    try:\n",
    "        print(df[df.brand=='MERCEDES'].price.mean(),\n",
    "              df_name)\n",
    "    except: \n",
    "        print(df[df.brand=='MERCEDES'].price.apply(lambda x: int(''.join(re.findall(\"\\d+\", x))) if type(x)==str else np.NaN).mean(),\n",
    "              df_name)\n",
    "              "
   ]
  },
  {
   "cell_type": "code",
   "execution_count": null,
   "metadata": {
    "scrolled": false
   },
   "outputs": [],
   "source": []
  },
  {
   "cell_type": "markdown",
   "metadata": {},
   "source": [
    "# =============== dfs columns study ==========================="
   ]
  },
  {
   "cell_type": "code",
   "execution_count": null,
   "metadata": {},
   "outputs": [],
   "source": []
  },
  {
   "cell_type": "markdown",
   "metadata": {},
   "source": [
    "# =============== brends study ==============================="
   ]
  },
  {
   "cell_type": "code",
   "execution_count": 13,
   "metadata": {},
   "outputs": [
    {
     "name": "stdout",
     "output_type": "stream",
     "text": [
      "['AUDI' 'BMW' 'CADILLAC' 'CHERY' 'CHEVROLET' 'CHRYSLER' 'CITROEN' 'DAEWOO'\n",
      " 'DODGE' 'FORD' 'GEELY' 'HONDA' 'HYUNDAI' 'INFINITI' 'JAGUAR' 'JEEP' 'KIA'\n",
      " 'LEXUS' 'MAZDA' 'MINI' 'MITSUBISHI' 'NISSAN' 'OPEL' 'PEUGEOT' 'PORSCHE'\n",
      " 'RENAULT' 'SKODA' 'SUBARU' 'SUZUKI' 'TOYOTA' 'VOLKSWAGEN' 'VOLVO'\n",
      " 'GREAT_WALL' 'LAND_ROVER' 'MERCEDES' 'SSANG_YONG'] all_auto_ru_14_11_2020.csv\n",
      "['SKODA' 'AUDI' 'VOLVO' 'BMW' 'NISSAN' 'INFINITI' 'MERCEDES' 'TOYOTA'\n",
      " 'LEXUS' 'VOLKSWAGEN' 'MITSUBISHI' 'HONDA'] all_car_27_08_2021_data_12_brands.csv\n",
      "['SKODA' 'AUDI' 'HONDA' 'VOLVO' 'BMW' 'NISSAN' 'INFINITI' 'MERCEDES'\n",
      " 'TOYOTA' 'LEXUS' 'VOLKSWAGEN' 'MITSUBISHI'] cars_df_big.csv\n",
      "['SKODA' 'AUDI' 'HONDA' 'VOLVO' 'BMW' 'NISSAN' 'INFINITI' 'MERCEDES'\n",
      " 'TOYOTA' 'LEXUS' 'VOLKSWAGEN' 'MITSUBISHI'] cars_df_small.csv\n",
      "['Audi' 'BMW' 'Chery' nan 'Citroen' 'Ford' 'ГАЗ' 'Geely' 'Haval' 'Honda'\n",
      " 'Hyundai' 'Infiniti' 'Kia' 'Land Rover' 'Lexus' 'Lifan' 'Mazda'\n",
      " 'Mercedes-Benz' 'Mitsubishi' 'Nissan' 'Opel' 'Peugeot' 'Porsche'\n",
      " 'Renault' 'Skoda' 'Subaru' 'Suzuki' 'Toyota' 'LADA (ВАЗ)' 'Volvo'] consolidated_df.csv\n",
      "['SKODA' 'AUDI' 'HONDA' 'VOLVO' 'BMW' 'NISSAN' 'INFINITI' 'MERCEDES'\n",
      " 'TOYOTA' 'LEXUS' 'VOLKSWAGEN' 'MITSUBISHI'] data1.csv\n",
      "['AUDI' 'TOYOTA' 'VOLKSWAGEN' 'NISSAN' 'MERCEDES' 'LEXUS' 'SKODA' 'HONDA'\n",
      " 'VOLVO' 'MITSUBISHI' 'BMW' 'INFINITI'] parsing_auto_ru.csv\n",
      "['AUDI' 'BMW' 'CADILLAC' 'CHANGAN' 'CHERY' 'CHEVROLET' 'CHRYSLER'\n",
      " 'CITROEN' 'DAEWOO' 'DAIHATSU' 'DATSUN' 'DODGE' 'FIAT' 'FORD' 'GEELY'\n",
      " 'HAVAL' 'HONDA' 'HYUNDAI' 'INFINITI' 'JAGUAR' 'JEEP' 'KIA' 'LEXUS'\n",
      " 'LIFAN' 'MINI' 'MAZDA' 'MITSUBISHI' 'NISSAN' 'OPEL' 'PEUGEOT' 'PORSCHE'\n",
      " 'RENAULT' 'SKODA' 'SUBARU' 'SUZUKI' 'TOYOTA' 'VOLKSWAGEN' 'VOLVO'\n",
      " 'VORTEX' 'GREAT_WALL' 'LAND_ROVER' 'MERCEDES' 'SSANG_YONG'] train.csv\n",
      "['SKODA' nan 'AUDI' 'HONDA' 'VOLVO' 'BMW' 'NISSAN' 'INFINITI' 'MERCEDES'\n",
      " 'TOYOTA' 'LEXUS' 'VOLKSWAGEN' 'MITSUBISHI'] train_df_full_part1.csv\n"
     ]
    }
   ],
   "source": [
    "for df_name,df in zip(all_dfs[1:].index,all_dfs[1:]):\n",
    "        print(df.brand.unique(),\n",
    "              df_name)"
   ]
  },
  {
   "cell_type": "markdown",
   "metadata": {},
   "source": [
    "# =============== models study ==============================="
   ]
  },
  {
   "cell_type": "code",
   "execution_count": 14,
   "metadata": {},
   "outputs": [],
   "source": [
    "brand = 'BMW'"
   ]
  },
  {
   "cell_type": "code",
   "execution_count": 15,
   "metadata": {},
   "outputs": [],
   "source": [
    "brand_models=pd.Series()   \n",
    "\n",
    "for df_name,df in zip(all_dfs[1:].index,all_dfs[1:]):\n",
    "    brand_models = brand_models.append(pd.Series([df[df.brand==brand].model_name.value_counts()],\n",
    "                                                 index=[df_name]))"
   ]
  },
  {
   "cell_type": "markdown",
   "metadata": {},
   "source": [
    "### распределения цены по моделям"
   ]
  },
  {
   "cell_type": "markdown",
   "metadata": {},
   "source": [
    "## 0"
   ]
  },
  {
   "cell_type": "code",
   "execution_count": 16,
   "metadata": {},
   "outputs": [],
   "source": [
    "models_0 = {'3ER': '3 СЕРИИ','5ER': '5 СЕРИИ','X5': 'X5','X6': 'X6','X3': 'X3','7ER': '7 СЕРИИ',\n",
    " 'X1': 'X1','X7': 'X7','1ER': '1 СЕРИИ','X4': 'X4','X6_M': 'X6 M','6ER': '6 СЕРИИ',\n",
    " '2ER': '2 СЕРИИ','X5_M': 'X5 M','4': '4 СЕРИИ','8ER': '8 СЕРИИ','M5': 'M5','X2': 'X2',\n",
    " 'I3': 'I3 ','Z4': 'Z4','M3': 'M3','M6': 'M6','M2': 'M2','M4': 'M4',\n",
    " '2GRANDTOURER': '2 СЕРИИ GRAN TOURER','I8': 'I8','M8': 'M8','321': '321',\n",
    " '2ACTIVETOURER': '2 СЕРИИ ACTIVE TOURER','Z3M': 'Z3 M','X3_M': 'X3 M','326': '326',\n",
    " '02': '02','340': '340','E3': 'E3','Z1': 'Z1','Z3': 'Z3'}\n",
    "# brand_models.iloc[0]"
   ]
  },
  {
   "cell_type": "code",
   "execution_count": 17,
   "metadata": {},
   "outputs": [],
   "source": [
    "# brand_models.iloc[0]\n",
    "# [print(\"'\" + x + \"': ''\") for x in brand_models.iloc[0].index];\n",
    "# [print(x) for x in brand_models.iloc[1].index];"
   ]
  },
  {
   "cell_type": "code",
   "execution_count": 18,
   "metadata": {},
   "outputs": [
    {
     "data": {
      "text/plain": [
       "3642         02\n",
       "3643    1 СЕРИИ\n",
       "3644    1 СЕРИИ\n",
       "3645    1 СЕРИИ\n",
       "3646    1 СЕРИИ\n",
       "         ...   \n",
       "9752         Z4\n",
       "9753         Z4\n",
       "9754         Z4\n",
       "9755         Z4\n",
       "9756         Z4\n",
       "Name: model_name, Length: 6115, dtype: object"
      ]
     },
     "execution_count": 18,
     "metadata": {},
     "output_type": "execute_result"
    }
   ],
   "source": [
    "# brand_models.iloc[0]\n",
    "unificated_model_name_0 = all_dfs[1][all_dfs[1].brand == 'BMW'].model_name.map(models_0)\n",
    "unificated_model_name_0"
   ]
  },
  {
   "cell_type": "code",
   "execution_count": 19,
   "metadata": {},
   "outputs": [
    {
     "data": {
      "text/plain": [
       "3 СЕРИИ    1229\n",
       "5 СЕРИИ     943\n",
       "X5          849\n",
       "X6          571\n",
       "X3          569\n",
       "7 СЕРИИ     385\n",
       "X1          271\n",
       "X7          215\n",
       "1 СЕРИИ     199\n",
       "X4          165\n",
       "Name: model_name, dtype: int64"
      ]
     },
     "execution_count": 19,
     "metadata": {},
     "output_type": "execute_result"
    }
   ],
   "source": [
    "unificated_model_name_0.value_counts()[:10]"
   ]
  },
  {
   "cell_type": "markdown",
   "metadata": {},
   "source": [
    "## 1"
   ]
  },
  {
   "cell_type": "code",
   "execution_count": 20,
   "metadata": {},
   "outputs": [
    {
     "data": {
      "text/plain": [
       "5013           X5\n",
       "5014          NaN\n",
       "5015           X3\n",
       "5016          NaN\n",
       "5017      5 СЕРИИ\n",
       "           ...   \n",
       "116767         X6\n",
       "116768        NaN\n",
       "116769         X4\n",
       "116770         X1\n",
       "116771         X1\n",
       "Name: model_name, Length: 16497, dtype: object"
      ]
     },
     "execution_count": 20,
     "metadata": {},
     "output_type": "execute_result"
    }
   ],
   "source": [
    "# brand_models.iloc[1]\n",
    "all_dfs[2][all_dfs[2].brand == 'BMW'].model_name.str.upper()"
   ]
  },
  {
   "cell_type": "code",
   "execution_count": 21,
   "metadata": {},
   "outputs": [
    {
     "data": {
      "text/plain": [
       "X5         1968\n",
       "5 СЕРИИ    1457\n",
       "1 СЕРИИ    1433\n",
       "X1         1294\n",
       "X4         1228\n",
       "X6         1143\n",
       "3 СЕРИИ    1051\n",
       "X3          779\n",
       "X5 M        432\n",
       "X6 M        412\n",
       "Name: model_name, dtype: int64"
      ]
     },
     "execution_count": 21,
     "metadata": {},
     "output_type": "execute_result"
    }
   ],
   "source": [
    "all_dfs[2][all_dfs[2].brand == 'BMW'].model_name.str.upper().value_counts()[:10]"
   ]
  },
  {
   "cell_type": "markdown",
   "metadata": {},
   "source": [
    "## 2"
   ]
  },
  {
   "cell_type": "code",
   "execution_count": 22,
   "metadata": {},
   "outputs": [],
   "source": [
    "# brand_models.iloc[2]\n",
    "# [print(x) for x in brand_models.iloc[2].index[-55:]];\n",
    "# (?<=BMW )(.*(?= \\d)|\\d*|.*(?= \\w))"
   ]
  },
  {
   "cell_type": "code",
   "execution_count": 23,
   "metadata": {},
   "outputs": [
    {
     "data": {
      "text/plain": [
       "11068    4 СЕРИИ GRAN COUPE\n",
       "11069               3 СЕРИИ\n",
       "11070               3 СЕРИИ\n",
       "11071               5 СЕРИИ\n",
       "11072               3 СЕРИИ\n",
       "                ...        \n",
       "14533               5 СЕРИИ\n",
       "14534                  X5 M\n",
       "14535               5 СЕРИИ\n",
       "14536               3 СЕРИИ\n",
       "14537                    X5\n",
       "Name: model_name, Length: 3470, dtype: object"
      ]
     },
     "execution_count": 23,
     "metadata": {},
     "output_type": "execute_result"
    }
   ],
   "source": [
    "unificated_model_name_2 = all_dfs[3][all_dfs[3].brand == 'BMW'].model_name.apply(\n",
    "    lambda x: re.findall(\"(?<=BMW )(.*(?= \\d)|\\d*|.*(?= \\w))\", x)[-1]).str.upper()\n",
    "unificated_model_name_2"
   ]
  },
  {
   "cell_type": "code",
   "execution_count": 24,
   "metadata": {},
   "outputs": [
    {
     "data": {
      "text/plain": [
       "5 СЕРИИ         690\n",
       "3 СЕРИИ         494\n",
       "X5              480\n",
       "X6              291\n",
       "X3              281\n",
       "X1              148\n",
       "7 СЕРИИ LONG    126\n",
       "7 СЕРИИ         104\n",
       "X4               98\n",
       "1 СЕРИИ          79\n",
       "Name: model_name, dtype: int64"
      ]
     },
     "execution_count": 24,
     "metadata": {},
     "output_type": "execute_result"
    }
   ],
   "source": [
    "unificated_model_name_2.value_counts()[:10]"
   ]
  },
  {
   "cell_type": "code",
   "execution_count": 25,
   "metadata": {},
   "outputs": [],
   "source": [
    "# models_2 = {'X5': 'X5','X6': 'X6','5': '5 серии','3': '3 серии','X3': 'X3','X7': 'X7','1': '1 серии',\n",
    "#  'X4': 'X4','X1': 'X1','7': '7 серии','6': '6 серии','8': '8 серии','M5': 'M5','4': '4 серии',\n",
    "#  'X2': 'X2','2': '2 серии','i3': 'I3','M3': 'M3','M4': 'M4','Z4': 'Z4','M2': 'M2','321': '321',\n",
    "#  'M6': 'M6','340': '340','502': '502','Z1': 'Z1','M8': 'M8','Z3': 'Z3','600': '600','2000': '2000'}"
   ]
  },
  {
   "cell_type": "markdown",
   "metadata": {},
   "source": [
    "## 3"
   ]
  },
  {
   "cell_type": "code",
   "execution_count": 26,
   "metadata": {},
   "outputs": [],
   "source": [
    "# brand_models.iloc[3]"
   ]
  },
  {
   "cell_type": "code",
   "execution_count": 27,
   "metadata": {},
   "outputs": [
    {
     "data": {
      "text/plain": [
       "11068    4 СЕРИИ GRAN COUPE\n",
       "11069               3 СЕРИИ\n",
       "11070               3 СЕРИИ\n",
       "11071               5 СЕРИИ\n",
       "11072               3 СЕРИИ\n",
       "                ...        \n",
       "14533               5 СЕРИИ\n",
       "14534                  X5 M\n",
       "14535               5 СЕРИИ\n",
       "14536               3 СЕРИИ\n",
       "14537                    X5\n",
       "Name: model_name, Length: 3470, dtype: object"
      ]
     },
     "execution_count": 27,
     "metadata": {},
     "output_type": "execute_result"
    }
   ],
   "source": [
    "unificated_model_name_3 = all_dfs[4][all_dfs[4].brand == 'BMW'].model_name.apply(\n",
    "    lambda x: re.findall(\"(?<=BMW )(.*(?= \\d)|\\d*|.*(?= \\w))\", x)[-1]).str.upper()\n",
    "unificated_model_name_3"
   ]
  },
  {
   "cell_type": "code",
   "execution_count": 28,
   "metadata": {},
   "outputs": [
    {
     "data": {
      "text/plain": [
       "5 СЕРИИ         690\n",
       "3 СЕРИИ         494\n",
       "X5              480\n",
       "X6              291\n",
       "X3              281\n",
       "X1              148\n",
       "7 СЕРИИ LONG    126\n",
       "7 СЕРИИ         104\n",
       "X4               98\n",
       "1 СЕРИИ          79\n",
       "Name: model_name, dtype: int64"
      ]
     },
     "execution_count": 28,
     "metadata": {},
     "output_type": "execute_result"
    }
   ],
   "source": [
    "unificated_model_name_3.value_counts()[:10]"
   ]
  },
  {
   "cell_type": "markdown",
   "metadata": {},
   "source": [
    "## 4 "
   ]
  },
  {
   "cell_type": "code",
   "execution_count": 29,
   "metadata": {},
   "outputs": [
    {
     "data": {
      "text/plain": [
       "11268                3 СЕРИИ\n",
       "11269                     I8\n",
       "11270    2 СЕРИИ GRAN TOURER\n",
       "11271                     Z3\n",
       "11272                     X3\n",
       "                ...         \n",
       "25633                7 СЕРИИ\n",
       "25634                     X5\n",
       "25635                     X3\n",
       "25636                     X7\n",
       "25637                3 СЕРИИ\n",
       "Name: model_name, Length: 14370, dtype: object"
      ]
     },
     "execution_count": 29,
     "metadata": {},
     "output_type": "execute_result"
    }
   ],
   "source": [
    "all_dfs[5][all_dfs[5].brand == 'BMW'].model_name.str.upper()\n",
    "# brand_models.iloc[4]"
   ]
  },
  {
   "cell_type": "code",
   "execution_count": 30,
   "metadata": {},
   "outputs": [
    {
     "data": {
      "text/plain": [
       "5 СЕРИИ    2548\n",
       "3 СЕРИИ    2490\n",
       "X5         2200\n",
       "7 СЕРИИ    1204\n",
       "X3         1189\n",
       "X6         1099\n",
       "X1          694\n",
       "1 СЕРИИ     496\n",
       "X4          413\n",
       "6 СЕРИИ     312\n",
       "Name: model_name, dtype: int64"
      ]
     },
     "execution_count": 30,
     "metadata": {},
     "output_type": "execute_result"
    }
   ],
   "source": [
    "all_dfs[5][all_dfs[5].brand == 'BMW'].model_name.str.upper().value_counts()[:10]"
   ]
  },
  {
   "cell_type": "markdown",
   "metadata": {},
   "source": [
    "## 5 "
   ]
  },
  {
   "cell_type": "code",
   "execution_count": 31,
   "metadata": {},
   "outputs": [],
   "source": [
    "models_5 = {'7 СЕРИИ': '7 СЕРИИ','02 (E10)': '02','1 СЕРИИ': '1 СЕРИИ','2 СЕРИИ ACTIVE TOURER': '2 СЕРИИ ACTIVE TOURER',\n",
    "'5 СЕРИИ': '5 СЕРИИ','M1': 'M1','X3 M': 'X3 M','Z3 M': 'Z3 M','X4_M': 'X4 M','4 СЕРИИ': '4 СЕРИИ',\n",
    " '2 СЕРИИ': '2 СЕРИИ','X5 M': 'X5 M','8 СЕРИИ': '8 СЕРИИ','6 СЕРИИ': '6 СЕРИИ','3 СЕРИИ': '3 СЕРИИ',\n",
    " 'X6 M': 'X6 M','2 СЕРИИ GRAND TOURER': '2 СЕРИИ GRAND TOURER'}\n",
    "\n",
    "models_0.update(models_5)"
   ]
  },
  {
   "cell_type": "code",
   "execution_count": 32,
   "metadata": {},
   "outputs": [
    {
     "data": {
      "text/plain": [
       "7477          X5\n",
       "7478          X6\n",
       "7479          X6\n",
       "7480          X7\n",
       "7481          X6\n",
       "          ...   \n",
       "68055    5 СЕРИИ\n",
       "68056         X6\n",
       "68057         X4\n",
       "68058         X5\n",
       "69000    5 СЕРИИ\n",
       "Name: model_name, Length: 8203, dtype: object"
      ]
     },
     "execution_count": 32,
     "metadata": {},
     "output_type": "execute_result"
    }
   ],
   "source": [
    "all_dfs[6][all_dfs[6].brand == 'BMW'].model_name.map(models_0)"
   ]
  },
  {
   "cell_type": "code",
   "execution_count": 33,
   "metadata": {},
   "outputs": [
    {
     "data": {
      "text/plain": [
       "5 СЕРИИ    1657\n",
       "3 СЕРИИ    1472\n",
       "X5         1213\n",
       "7 СЕРИИ     598\n",
       "X6          592\n",
       "X3          568\n",
       "X1          396\n",
       "1 СЕРИИ     353\n",
       "X4          228\n",
       "6 СЕРИИ     215\n",
       "Name: model_name, dtype: int64"
      ]
     },
     "execution_count": 33,
     "metadata": {},
     "output_type": "execute_result"
    }
   ],
   "source": [
    "all_dfs[6][all_dfs[6].brand == 'BMW'].model_name.map(models_0).value_counts()[:10]"
   ]
  },
  {
   "cell_type": "markdown",
   "metadata": {},
   "source": [
    "## 6 "
   ]
  },
  {
   "cell_type": "code",
   "execution_count": 34,
   "metadata": {},
   "outputs": [
    {
     "data": {
      "text/plain": [
       "1459      5 СЕРИИ\n",
       "1460      5 СЕРИИ\n",
       "1461      5 СЕРИИ\n",
       "1462           X3\n",
       "1463           X5\n",
       "           ...   \n",
       "113311    5 СЕРИИ\n",
       "113320    3 СЕРИИ\n",
       "113321    3 СЕРИИ\n",
       "113324    7 СЕРИИ\n",
       "113325    3 СЕРИИ\n",
       "Name: model_name, Length: 12847, dtype: object"
      ]
     },
     "execution_count": 34,
     "metadata": {},
     "output_type": "execute_result"
    }
   ],
   "source": [
    "all_dfs[7][all_dfs[7].brand == 'BMW'].model_name.map(models_0)"
   ]
  },
  {
   "cell_type": "code",
   "execution_count": 35,
   "metadata": {},
   "outputs": [
    {
     "data": {
      "text/plain": [
       "5 СЕРИИ    3051\n",
       "3 СЕРИИ    2248\n",
       "X5         1926\n",
       "X6         1058\n",
       "X3          995\n",
       "7 СЕРИИ     903\n",
       "X1          535\n",
       "1 СЕРИИ     467\n",
       "6 СЕРИИ     297\n",
       "X4          290\n",
       "Name: model_name, dtype: int64"
      ]
     },
     "execution_count": 35,
     "metadata": {},
     "output_type": "execute_result"
    }
   ],
   "source": [
    "all_dfs[7][all_dfs[7].brand == 'BMW'].model_name.map(models_0).value_counts()[:10]"
   ]
  },
  {
   "cell_type": "markdown",
   "metadata": {},
   "source": [
    "## 7"
   ]
  },
  {
   "cell_type": "code",
   "execution_count": 36,
   "metadata": {},
   "outputs": [
    {
     "data": {
      "text/plain": [
       "37        3 СЕРИИ\n",
       "38             X3\n",
       "39        5 СЕРИИ\n",
       "40             X6\n",
       "41             X3\n",
       "           ...   \n",
       "167326    3 СЕРИИ\n",
       "167327         X5\n",
       "167328         X3\n",
       "167329    5 СЕРИИ\n",
       "167330    5 СЕРИИ\n",
       "Name: model_name, Length: 5959, dtype: object"
      ]
     },
     "execution_count": 36,
     "metadata": {},
     "output_type": "execute_result"
    }
   ],
   "source": [
    "all_dfs[8][all_dfs[8].brand == 'BMW'].model_name.map(models_0)"
   ]
  },
  {
   "cell_type": "code",
   "execution_count": 37,
   "metadata": {},
   "outputs": [
    {
     "data": {
      "text/plain": [
       "37        3 СЕРИИ\n",
       "38             X3\n",
       "39        5 СЕРИИ\n",
       "40             X6\n",
       "41             X3\n",
       "           ...   \n",
       "167326    3 СЕРИИ\n",
       "167327         X5\n",
       "167328         X3\n",
       "167329    5 СЕРИИ\n",
       "167330    5 СЕРИИ\n",
       "Name: model_name, Length: 5959, dtype: object"
      ]
     },
     "execution_count": 37,
     "metadata": {},
     "output_type": "execute_result"
    }
   ],
   "source": [
    "all_dfs[8][all_dfs[8].brand == 'BMW'].model_name.map(models_0)"
   ]
  },
  {
   "cell_type": "markdown",
   "metadata": {},
   "source": [
    "## 8"
   ]
  },
  {
   "cell_type": "code",
   "execution_count": 38,
   "metadata": {},
   "outputs": [
    {
     "data": {
      "text/plain": [
       "5 СЕРИИ    2337\n",
       "X3         1343\n",
       "3 СЕРИИ    1339\n",
       "X1         1074\n",
       "X5          861\n",
       "7 СЕРИИ     795\n",
       "X6          731\n",
       "6 СЕРИИ     674\n",
       "X4          418\n",
       "X7          358\n",
       "Name: model_name, dtype: int64"
      ]
     },
     "execution_count": 38,
     "metadata": {},
     "output_type": "execute_result"
    }
   ],
   "source": [
    "all_dfs[9][all_dfs[9].brand == 'BMW'].model_name.str.upper().value_counts()[:10]"
   ]
  },
  {
   "cell_type": "code",
   "execution_count": null,
   "metadata": {},
   "outputs": [],
   "source": []
  },
  {
   "cell_type": "code",
   "execution_count": null,
   "metadata": {},
   "outputs": [],
   "source": []
  },
  {
   "cell_type": "code",
   "execution_count": null,
   "metadata": {},
   "outputs": [],
   "source": []
  },
  {
   "cell_type": "code",
   "execution_count": null,
   "metadata": {},
   "outputs": [],
   "source": []
  },
  {
   "cell_type": "code",
   "execution_count": null,
   "metadata": {},
   "outputs": [],
   "source": []
  },
  {
   "cell_type": "code",
   "execution_count": null,
   "metadata": {},
   "outputs": [],
   "source": []
  },
  {
   "cell_type": "markdown",
   "metadata": {},
   "source": [
    "# =============== test study =================================="
   ]
  },
  {
   "cell_type": "code",
   "execution_count": 39,
   "metadata": {},
   "outputs": [],
   "source": [
    "test = pd.read_csv('./Project_7_data/test.csv')"
   ]
  },
  {
   "cell_type": "code",
   "execution_count": 40,
   "metadata": {},
   "outputs": [
    {
     "data": {
      "text/plain": [
       "Index(['bodyType', 'brand', 'car_url', 'color', 'complectation_dict',\n",
       "       'description', 'engineDisplacement', 'enginePower', 'equipment_dict',\n",
       "       'fuelType', 'image', 'mileage', 'modelDate', 'model_info', 'model_name',\n",
       "       'name', 'numberOfDoors', 'parsing_unixtime', 'priceCurrency',\n",
       "       'productionDate', 'sell_id', 'super_gen', 'vehicleConfiguration',\n",
       "       'vehicleTransmission', 'vendor', 'Владельцы', 'Владение', 'ПТС',\n",
       "       'Привод', 'Руль', 'Состояние', 'Таможня'],\n",
       "      dtype='object')"
      ]
     },
     "execution_count": 40,
     "metadata": {},
     "output_type": "execute_result"
    }
   ],
   "source": [
    "test.columns"
   ]
  },
  {
   "cell_type": "code",
   "execution_count": 41,
   "metadata": {},
   "outputs": [
    {
     "data": {
      "text/plain": [
       "complectation_dict    28268\n",
       "equipment_dict         9996\n",
       "Владение              22691\n",
       "ПТС                       1\n",
       "dtype: int64"
      ]
     },
     "execution_count": 41,
     "metadata": {},
     "output_type": "execute_result"
    }
   ],
   "source": [
    "nun_count = test.isna().sum()\n",
    "nun_count[nun_count>0]"
   ]
  },
  {
   "cell_type": "code",
   "execution_count": 42,
   "metadata": {},
   "outputs": [
    {
     "data": {
      "text/plain": [
       "array(['SKODA', 'AUDI', 'HONDA', 'VOLVO', 'BMW', 'NISSAN', 'INFINITI',\n",
       "       'MERCEDES', 'TOYOTA', 'LEXUS', 'VOLKSWAGEN', 'MITSUBISHI'],\n",
       "      dtype=object)"
      ]
     },
     "execution_count": 42,
     "metadata": {},
     "output_type": "execute_result"
    }
   ],
   "source": [
    "test.brand.unique()"
   ]
  },
  {
   "cell_type": "code",
   "execution_count": null,
   "metadata": {},
   "outputs": [],
   "source": []
  },
  {
   "cell_type": "markdown",
   "metadata": {},
   "source": [
    "# ====================== ПОДВАЛ ============================="
   ]
  },
  {
   "cell_type": "markdown",
   "metadata": {},
   "source": [
    "Если печать идёт как в ДОСе (текст отсылается в устройство PRN), то перевод строки обеспечивается управляющим символом с ASCII-кодом 12 ♀.\n",
    "При печати через PCL/PS - напечатается изображение символа. Так что, всё зависит от того, как работает с текстом проприетарное ПО...\n",
    "Если идёт печать через PCL/PS, то \"спрятать\" в тексте команду перевода страницы не получится, эту команду должно подавать само ПО."
   ]
  },
  {
   "cell_type": "code",
   "execution_count": null,
   "metadata": {},
   "outputs": [],
   "source": []
  }
 ],
 "metadata": {
  "kernelspec": {
   "display_name": "Python 3",
   "language": "python",
   "name": "python3"
  },
  "language_info": {
   "codemirror_mode": {
    "name": "ipython",
    "version": 3
   },
   "file_extension": ".py",
   "mimetype": "text/x-python",
   "name": "python",
   "nbconvert_exporter": "python",
   "pygments_lexer": "ipython3",
   "version": "3.7.4"
  }
 },
 "nbformat": 4,
 "nbformat_minor": 5
}
