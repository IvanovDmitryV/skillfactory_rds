{
 "cells": [
  {
   "cell_type": "code",
   "execution_count": 3,
   "metadata": {},
   "outputs": [
    {
     "name": "stdout",
     "output_type": "stream",
     "text": [
      "Populating the interactive namespace from numpy and matplotlib\n"
     ]
    }
   ],
   "source": [
    "import pandas as pd\n",
    "import os\n",
    "import warnings\n",
    "import numpy as np\n",
    "import re\n",
    "import json\n",
    "import matplotlib.pyplot as plt\n",
    "import seaborn as sns\n",
    "\n",
    "from functools import reduce\n",
    "from datetime import datetime\n",
    "from datetime import date\n",
    "\n",
    "warnings.filterwarnings(\"ignore\")\n",
    "%pylab inline"
   ]
  },
  {
   "cell_type": "markdown",
   "metadata": {},
   "source": [
    "### ========================================================"
   ]
  },
  {
   "cell_type": "code",
   "execution_count": 4,
   "metadata": {},
   "outputs": [],
   "source": [
    "test_0909_uni_test = ['bodyType', 'brand', 'color', 'engineDisplacement', 'enginePower', \n",
    "                'equipment_dict','fuelType', 'mileage', 'modelDate', 'model_name', 'numberOfDoors', \n",
    "                'productionDate', 'vehicleTransmission', 'vendor', \n",
    "                'Владельцы', 'Владение', 'ПТС', 'Привод', 'Руль']\n",
    "test_0909_uni_0909 = ['bodyType', 'brand', 'color', 'engineDisplacement', 'enginePower', \n",
    "                 'Комплектация','fuelType', 'mileage', 'modelDate', 'model', 'numberOfDoors', \n",
    "                'productionDate', 'vehicleTransmission', \n",
    "                'Владельцы', 'Владение', 'ПТС', 'Привод', 'Руль', 'price']"
   ]
  },
  {
   "cell_type": "markdown",
   "metadata": {},
   "source": [
    "### ========================================================"
   ]
  },
  {
   "cell_type": "code",
   "execution_count": 5,
   "metadata": {},
   "outputs": [],
   "source": [
    "test = pd.read_csv('./Project_7_data/test.csv',low_memory=False)\n",
    "df= pd.read_csv('./Project_7_data/' + 'auto_ru_2020_09_09.csv',low_memory=False)"
   ]
  },
  {
   "cell_type": "code",
   "execution_count": null,
   "metadata": {},
   "outputs": [],
   "source": []
  },
  {
   "cell_type": "code",
   "execution_count": 6,
   "metadata": {},
   "outputs": [],
   "source": [
    "df_full= pd.read_csv('./Preproject_7_data/' + 'all_auto_ru_09_09_2020.csv',low_memory=False)"
   ]
  },
  {
   "cell_type": "markdown",
   "metadata": {},
   "source": [
    "### ===================0909================================="
   ]
  },
  {
   "cell_type": "code",
   "execution_count": 7,
   "metadata": {},
   "outputs": [],
   "source": [
    "def bodyType_unification(x):\n",
    "    res=[]\n",
    "    x = x.lower() if type(x) == str else x  # <================\n",
    "    try:\n",
    "        for body_type in test.bodyType.unique():\n",
    "            if body_type in x:\n",
    "                res.append(body_type)\n",
    "    except Exception: return x\n",
    "    if not res: \n",
    "        return x.split()[0]\n",
    "    return max(res)\n",
    "\n",
    "def engineDisplacement_unification(x):\n",
    "    x = float(re.sub(\"[^\\d.]\", r'', x)) if re.sub(\"[^\\d.]\", r'', x) else 0\n",
    "    if x >= 7: x = 0\n",
    "    return x\n",
    "\n",
    "def train_options(x):\n",
    "    point = \"'available_options': \"\n",
    "    start = x.find(point)+len(point)+2\n",
    "    finish = x.find(\"]\",start) - 1\n",
    "    return x[start:finish].split(\"', '\")\n",
    "\n",
    "def test_ownership_unification(x):\n",
    "    try:\n",
    "        digits = re.findall('\\d+',x) \n",
    "        if len(digits) == 2: res = int(digits[0])*12 + int(digits[1])\n",
    "        elif len(digits) == 1 and 'месяц' in x: res = int(digits[0])\n",
    "        elif len(digits) == 1 and 'месяц' not in x: res = int(digits[0])*12\n",
    "    except Exception: res = 0   \n",
    "    return res\n",
    "\n",
    "def train_ownership_unification(x):\n",
    "    tmp = json.loads(x.replace(\"'\",'\"'))  if x==x else {'year': 2020, 'month': 9}\n",
    "    res = (2020 - tmp['year'])*12 + tmp['month'] - 9\n",
    "    if res<0: res = 0\n",
    "    return res\n"
   ]
  },
  {
   "cell_type": "code",
   "execution_count": 8,
   "metadata": {},
   "outputs": [],
   "source": [
    "def test_unification(df_to_proc):\n",
    "    test = df_to_proc.copy()[test_0909_uni_test]\n",
    "    owner_dict = {'3 или более': 3., '2\\xa0владельца': 2.,'1\\xa0владелец': 1.}\n",
    "    # engineDisplacement\n",
    "    test.engineDisplacement = test.engineDisplacement.apply(\n",
    "        lambda x: float(x[:-4]) if x[:-4] else np.NaN) \n",
    "    # enginePower\n",
    "    test.enginePower = test.enginePower.apply(lambda x: int(x[:-4]))\n",
    "    # equipment_dict\n",
    "    test.equipment_dict = test.equipment_dict.apply(\n",
    "        lambda x: list(json.loads(x).keys()) if x==x else [])\n",
    "    # Владельцы\n",
    "    test.Владельцы = test.Владельцы.map(owner_dict)\n",
    "    # Владение\n",
    "    test.Владение = test.Владение.apply(test_ownership_unification)\n",
    "    return test"
   ]
  },
  {
   "cell_type": "code",
   "execution_count": 9,
   "metadata": {},
   "outputs": [],
   "source": [
    "def train_0909_unification(df_to_proc):\n",
    "    df = df_to_proc.copy()[test_0909_uni_0909]\n",
    "    color_codes = {'040001': 'чёрный','FAFBFB': 'белый', '0000CC': 'синий', \n",
    "                   '200204': 'коричневый', 'EE1D19': 'красный', 'CACECB': 'серый',\n",
    "                   'C49648': 'бежевый', '97948F': 'серебристый', 'FFD600': 'жёлтый',\n",
    "                   'FF8649': 'оранжевый', '22A0F8': 'голубой','FFC0CB': 'розовый', \n",
    "                   'DEA522': 'золотистый', '007F00': 'зелёный', '660099': 'пурпурный',\n",
    "                   '4A2197': 'фиолетовый'}\n",
    "    transmission_dict = {'MECHANICAL':'механическая', 'AUTOMATIC':'автоматическая', \n",
    "                         'ROBOT':'роботизированная','VARIATOR':'вариатор'}\n",
    "    vendor_dict = {'AUDI':'EUROPEAN','BMW':'EUROPEAN','HONDA':'JAPANESE','INFINITI':'JAPANESE',\n",
    "                   'LEXUS':'JAPANESE','MERCEDES':'EUROPEAN','MITSUBISHI':'JAPANESE',\n",
    "                   'NISSAN':'JAPANESE','SKODA':'EUROPEAN','TOYOTA':'JAPANESE',\n",
    "                   'VOLKSWAGEN':'EUROPEAN','VOLVO':'EUROPEAN'}\n",
    "    PTS_dict = {'ORIGINAL': 'Оригинал', 'DUPLICATE': 'Дубликат'}\n",
    "    wheel_dict = {'LEFT':'Левый', 'RIGHT':'Правый'}\n",
    "    # bodyType\n",
    "    df.dropna(subset=['bodyType'],inplace=True)\n",
    "    df.bodyType = df.bodyType.apply(bodyType_unification)\n",
    "    # color\n",
    "    df.color = df.color.map(color_codes)\n",
    "    # engineDisplacement\n",
    "    df.engineDisplacement = df.engineDisplacement.apply(engineDisplacement_unification)\n",
    "    # enginePower\n",
    "    df.enginePower = df.enginePower.astype(int)\n",
    "    # equipment_dict\n",
    "    df['equipment_dict'] = df.Комплектация.apply(train_options)\n",
    "    df.drop(columns=['Комплектация'],inplace=True)\n",
    "    # modelDate \n",
    "    df.modelDate = df.modelDate.astype(int)\n",
    "    # model_name\n",
    "    df['model_name'] = df.model\n",
    "    df.drop(columns=['model'],inplace=True)\n",
    "    # numberOfDoors\n",
    "    df.numberOfDoors = df.numberOfDoors.astype(int)\n",
    "    # vehicleTransmission\n",
    "    df.vehicleTransmission = df.vehicleTransmission.map(transmission_dict)\n",
    "    # vendor\n",
    "    df['vendor'] = df.brand.map(vendor_dict)\n",
    "    # Владение\n",
    "    df.Владение = df.Владение.apply(train_ownership_unification)\n",
    "    # ПТС\n",
    "    df.ПТС = df.ПТС.map(PTS_dict)\n",
    "    # Руль\n",
    "    df.Руль = df.Руль.map(wheel_dict)\n",
    "    \n",
    "    return df"
   ]
  },
  {
   "cell_type": "code",
   "execution_count": 10,
   "metadata": {},
   "outputs": [
    {
     "name": "stdout",
     "output_type": "stream",
     "text": [
      "Wall time: 4min 32s\n"
     ]
    }
   ],
   "source": [
    "%%time \n",
    "test_uni = test_unification(test)\n",
    "train_0909_uni = train_0909_unification(df)\n",
    "train_0909_full_uni = train_0909_unification(df_full)"
   ]
  },
  {
   "cell_type": "markdown",
   "metadata": {},
   "source": [
    "## =================PARS==========================="
   ]
  },
  {
   "cell_type": "code",
   "execution_count": 11,
   "metadata": {},
   "outputs": [],
   "source": [
    "pars = pd.read_csv('./Project_7_data/train_new.csv')\n",
    "test = pd.read_csv('./Project_7_data/test.csv',low_memory=False)"
   ]
  },
  {
   "cell_type": "code",
   "execution_count": 12,
   "metadata": {},
   "outputs": [],
   "source": [
    "test_pars_uni = ['model_name', 'equipment_dict', 'brand', 'modelDate', \n",
    "                 'productionDate', 'ПТС','mileage', 'car_url', 'engineDisplacement', \n",
    "                 'numberOfDoors', 'enginePower', 'vendor', 'color', 'vehicleTransmission', \n",
    "                 'sell_id', 'Владельцы', 'Руль', 'bodyType', 'Привод']"
   ]
  },
  {
   "cell_type": "code",
   "execution_count": 13,
   "metadata": {},
   "outputs": [],
   "source": [
    "def test_pars_uniifcation(df_to_proc):\n",
    "    test = df_to_proc.copy()[test_pars_uni] # <===== ПОСТАВИТЬ СПИСОК КОЛОНОК\n",
    "    # engineDisplacement\n",
    "    test.engineDisplacement = test.engineDisplacement.apply(\n",
    "        lambda x: float(x[:-4]) if x[:-4] else np.NaN)\n",
    "    # modelDate\n",
    "    test.modelDate = test.modelDate.astype(float)\n",
    "    # productionDate\n",
    "    test.productionDate = test.productionDate.astype(float)\n",
    "    # numberOfDoors\n",
    "    test.numberOfDoors = test.numberOfDoors.astype(float)\n",
    "    # Владельцы\n",
    "    owner_dict = {\n",
    "        '3 или более': 3., \n",
    "        '2\\xa0владельца': 2.,\n",
    "        '1\\xa0владелец': 1.}\n",
    "    test.Владельцы = test.Владельцы.map(owner_dict)\n",
    "    # mileage\n",
    "    test.mileage = test.mileage.astype(float) \n",
    "    # enginePower\n",
    "    test.enginePower = test.enginePower.apply(lambda x: float(x[:-4]))\n",
    "    # equipment_dic\n",
    "    test.equipment_dict = test.equipment_dict.apply(\n",
    "        lambda x: list(json.loads(x).keys()) if x==x else [])\n",
    "    \n",
    "    return test"
   ]
  },
  {
   "cell_type": "code",
   "execution_count": 14,
   "metadata": {},
   "outputs": [],
   "source": [
    "def pars_unification(df_to_proc):\n",
    "    pars = df_to_proc.copy()[test_pars_uni] # <===== ПОСТАВИТЬ СПИСОК КОЛОНОК\n",
    "    # modelDate\n",
    "    model_generation_year = pd.read_csv(\".\\Project_7_data\\model_generation_year.csv\")\n",
    "    model_generation_year = dict(zip(model_generation_year.full_name + ' ' + model_generation_year.bodytype,\n",
    "             model_generation_year.generation_year))\n",
    "#     pars.modelDate = (pars.modelDate + ' ' + pars.bodyType).map(model_generation_year) \n",
    "    pars.modelDate = pd.Series(\n",
    "        [x+' '+y if x==x else x for x,y in zip(pars.modelDate,pars.bodyType)]).\\\n",
    "        map(model_generation_year)\n",
    "    # Владельцы\n",
    "    owner_dict = {\n",
    "        '3 или более': 3., \n",
    "        '2\\xa0владельца': 2.,\n",
    "        '1\\xa0владелец': 1.}\n",
    "    pars.Владельцы = test.Владельцы.map(owner_dict)\n",
    "    # equipment_dic\n",
    "    pars.equipment_dict = pars.equipment_dict[:50].apply(\n",
    "        lambda x: pd.Series(list(json.loads(x.replace(\"'\",'\"')).values())).sum()\n",
    "        if x==x else x)    \n",
    "    \n",
    "    return pars"
   ]
  },
  {
   "cell_type": "code",
   "execution_count": 15,
   "metadata": {},
   "outputs": [],
   "source": [
    "# pars_unification(pars)[:2]"
   ]
  },
  {
   "cell_type": "code",
   "execution_count": 16,
   "metadata": {},
   "outputs": [],
   "source": [
    "# test_pars_uniifcation(test)[:2]"
   ]
  },
  {
   "cell_type": "markdown",
   "metadata": {},
   "source": [
    "# =============ПРОПУСКИ================="
   ]
  },
  {
   "cell_type": "code",
   "execution_count": 55,
   "metadata": {},
   "outputs": [],
   "source": [
    "def missing_distribution():\n",
    "    plt.figure(figsize=(14,3))\n",
    "    log(train_0909_full_uni.price[train_0909_full_uni.Владельцы.isna()]).plot.hist(bins=100,density=True)\n",
    "    log(train_0909_full_uni.price[train_0909_full_uni.Владельцы == 1]).plot.hist(\n",
    "        bins=100,density=True,alpha = 0.5)\n",
    "    plt.figure(figsize=(14,3))\n",
    "    log(train_0909_full_uni.price[train_0909_full_uni.Владельцы.isna()]).plot.hist(bins=100,density=True)\n",
    "    log(train_0909_full_uni.price[train_0909_full_uni.Владельцы == 2]).plot.hist(\n",
    "        bins=100,density=True,alpha = 0.5)\n",
    "    plt.figure(figsize=(14,3))\n",
    "    log(train_0909_full_uni.price[train_0909_full_uni.Владельцы.isna()]).plot.hist(bins=100,density=True)\n",
    "    log(train_0909_full_uni.price[train_0909_full_uni.Владельцы == 3]).plot.hist(\n",
    "        bins=100,density=True,alpha = 0.5)"
   ]
  },
  {
   "cell_type": "markdown",
   "metadata": {},
   "source": [
    "# Оработка пропусков\n",
    "Займеся пропусками в приведенных к единому виду test и train\n",
    "## Пропуски в train\n",
    "Сначала посмотирм на количество прпусков в колонках:"
   ]
  },
  {
   "cell_type": "code",
   "execution_count": 56,
   "metadata": {},
   "outputs": [
    {
     "data": {
      "text/plain": [
       "Владельцы    13569\n",
       "ПТС            361\n",
       "vendor       39867\n",
       "dtype: int64"
      ]
     },
     "execution_count": 56,
     "metadata": {},
     "output_type": "execute_result"
    }
   ],
   "source": [
    "train_0909_full_uni.isna().sum()[train_0909_full_uni.isna().sum()>0]"
   ]
  },
  {
   "cell_type": "code",
   "execution_count": 57,
   "metadata": {},
   "outputs": [
    {
     "data": {
      "text/plain": [
       "Владельцы    10970\n",
       "ПТС            262\n",
       "price          208\n",
       "dtype: int64"
      ]
     },
     "execution_count": 57,
     "metadata": {},
     "output_type": "execute_result"
    }
   ],
   "source": [
    "train_0909_uni.isna().sum()[train_0909_uni.isna().sum()>0]"
   ]
  },
  {
   "cell_type": "markdown",
   "metadata": {},
   "source": [
    "Во первых обратим внимание на пропуски в `price` - наблюдения с пропуском в целевой переменной нам не нужны поэтому удаляем их."
   ]
  },
  {
   "cell_type": "code",
   "execution_count": 58,
   "metadata": {},
   "outputs": [],
   "source": [
    "train_0909_full_uni.dropna(subset=['price'],inplace=True)"
   ]
  },
  {
   "cell_type": "code",
   "execution_count": 59,
   "metadata": {},
   "outputs": [
    {
     "data": {
      "text/plain": [
       "Владельцы    13569\n",
       "ПТС            361\n",
       "vendor       39867\n",
       "dtype: int64"
      ]
     },
     "execution_count": 59,
     "metadata": {},
     "output_type": "execute_result"
    }
   ],
   "source": [
    "train_0909_full_uni.isna().sum()[train_0909_full_uni.isna().sum()>0]"
   ]
  },
  {
   "cell_type": "markdown",
   "metadata": {},
   "source": [
    "Большая часть пропусков в колонках `vendor` и `Владельцы` , относительно небольшой количесвто пропусков `ПТС`. Рассмотрим каждую колонку отдельно.\n",
    "\n",
    "### Владельцы"
   ]
  },
  {
   "cell_type": "code",
   "execution_count": 60,
   "metadata": {},
   "outputs": [
    {
     "data": {
      "text/plain": [
       "3.0    36098\n",
       "2.0    20902\n",
       "1.0    18398\n",
       "NaN    13569\n",
       "Name: Владельцы, dtype: int64"
      ]
     },
     "execution_count": 60,
     "metadata": {},
     "output_type": "execute_result"
    }
   ],
   "source": [
    "train_0909_full_uni.Владельцы.value_counts(dropna=False)"
   ]
  },
  {
   "cell_type": "code",
   "execution_count": 61,
   "metadata": {},
   "outputs": [
    {
     "data": {
      "image/png": "[encoded data removed]",
      "text/plain": [
       "<Figure size 1008x216 with 1 Axes>"
      ]
     },
     "metadata": {
      "needs_background": "light"
     },
     "output_type": "display_data"
    },
    {
     "data": {
      "image/png": "[encoded data removed]",
      "text/plain": [
       "<Figure size 1008x216 with 1 Axes>"
      ]
     },
     "metadata": {
      "needs_background": "light"
     },
     "output_type": "display_data"
    },
    {
     "data": {
      "image/png": "[encoded data removed]",
      "text/plain": [
       "<Figure size 1008x216 with 1 Axes>"
      ]
     },
     "metadata": {
      "needs_background": "light"
     },
     "output_type": "display_data"
    }
   ],
   "source": [
    "missing_distribution()"
   ]
  },
  {
   "cell_type": "markdown",
   "metadata": {},
   "source": [
    "Ночего пхожего. Применим для заполнеия пропусков предсказание модели, обученой на нашм датасете, с целевой переменной  - `Владельцы`. В качестве моденли возьмем catboost с дефолтными параметрами. В качестве обучающей выьорки возьмем те признки из даатасета, котроый можно применить без сложной обрабтки."
   ]
  },
  {
   "cell_type": "code",
   "execution_count": 62,
   "metadata": {},
   "outputs": [
    {
     "name": "stdout",
     "output_type": "stream",
     "text": [
      "<class 'pandas.core.frame.DataFrame'>\n",
      "Int64Index: 88967 entries, 0 to 89377\n",
      "Data columns (total 20 columns):\n",
      "bodyType               88967 non-null object\n",
      "brand                  88967 non-null object\n",
      "color                  88967 non-null object\n",
      "engineDisplacement     88967 non-null float64\n",
      "enginePower            88967 non-null int32\n",
      "fuelType               88967 non-null object\n",
      "mileage                88967 non-null int64\n",
      "modelDate              88967 non-null int32\n",
      "numberOfDoors          88967 non-null int32\n",
      "productionDate         88967 non-null int64\n",
      "vehicleTransmission    88967 non-null object\n",
      "Владельцы              75398 non-null float64\n",
      "Владение               88967 non-null int64\n",
      "ПТС                    88606 non-null object\n",
      "Привод                 88967 non-null object\n",
      "Руль                   88967 non-null object\n",
      "price                  88967 non-null float64\n",
      "equipment_dict         88967 non-null object\n",
      "model_name             88967 non-null object\n",
      "vendor                 49100 non-null object\n",
      "dtypes: float64(3), int32(3), int64(3), object(11)\n",
      "memory usage: 13.2+ MB\n"
     ]
    }
   ],
   "source": [
    "train_0909_full_uni.info()"
   ]
  },
  {
   "cell_type": "code",
   "execution_count": null,
   "metadata": {},
   "outputs": [],
   "source": []
  },
  {
   "cell_type": "code",
   "execution_count": 34,
   "metadata": {},
   "outputs": [
    {
     "data": {
      "text/plain": [
       "array(['CADILLAC', 'CHERY', 'CHEVROLET', 'CHRYSLER', 'CITROEN', 'DAEWOO',\n",
       "       'DODGE', 'FORD', 'GEELY', 'HYUNDAI', 'JAGUAR', 'JEEP', 'KIA',\n",
       "       'MAZDA', 'MINI', 'OPEL', 'PEUGEOT', 'PORSCHE', 'RENAULT', 'SUBARU',\n",
       "       'SUZUKI', 'GREAT_WALL', 'LAND_ROVER', 'SSANG_YONG'], dtype=object)"
      ]
     },
     "execution_count": 34,
     "metadata": {},
     "output_type": "execute_result"
    }
   ],
   "source": [
    "train_0909_full_uni.brand[train_0909_full_uni.vendor.isna()].unique()"
   ]
  },
  {
   "cell_type": "code",
   "execution_count": 40,
   "metadata": {},
   "outputs": [
    {
     "data": {
      "text/plain": [
       "engineDisplacement    55\n",
       "ПТС                    1\n",
       "dtype: int64"
      ]
     },
     "execution_count": 40,
     "metadata": {},
     "output_type": "execute_result"
    }
   ],
   "source": [
    "test_uni.isna().sum()[test_uni.isna().sum()>0]"
   ]
  },
  {
   "cell_type": "markdown",
   "metadata": {},
   "source": [
    "### vendor"
   ]
  },
  {
   "cell_type": "code",
   "execution_count": null,
   "metadata": {},
   "outputs": [],
   "source": []
  },
  {
   "cell_type": "markdown",
   "metadata": {},
   "source": [
    "### ПТС"
   ]
  },
  {
   "cell_type": "markdown",
   "metadata": {},
   "source": [
    "## ===================EDA========================"
   ]
  },
  {
   "cell_type": "code",
   "execution_count": null,
   "metadata": {},
   "outputs": [],
   "source": []
  },
  {
   "cell_type": "code",
   "execution_count": null,
   "metadata": {},
   "outputs": [],
   "source": []
  },
  {
   "cell_type": "markdown",
   "metadata": {},
   "source": [
    "## ==============BASELINE EXTENSE==============="
   ]
  },
  {
   "cell_type": "code",
   "execution_count": null,
   "metadata": {},
   "outputs": [],
   "source": []
  },
  {
   "cell_type": "markdown",
   "metadata": {},
   "source": [
    "# ПОДВАЛ"
   ]
  },
  {
   "cell_type": "code",
   "execution_count": 64,
   "metadata": {},
   "outputs": [],
   "source": [
    "ticket_url = 'https://auto.ru/moskva/cars/toyota/land_cruiser_prado/used/'\n",
    "brand = 'TOYOTA'\n",
    "\n",
    "# brand = features['brand']\n",
    "model_name_start = ticket_url.find(brand.lower()) + len(brand) + 1\n",
    "model_name_end = ticket_url.find('/',model_name_start)\n",
    "ticket_url[model_name_start:model_name_end].upper()"
   ]
  },
  {
   "cell_type": "markdown",
   "metadata": {},
   "source": [
    "#### car_url\n",
    "\n",
    "print(test.car_url[5]),print(pars.car_url[5]);\n",
    "\n",
    "#### engineDisplacement\n",
    "\n",
    "test.engineDisplacement.apply(\n",
    "    lambda x: float(x[:-4]) if x[:-4] else np.NaN).unique()\n",
    "\n",
    "pars.engineDisplacement.unique()\n",
    "\n",
    "#### vehicleTransmission\n",
    "\n",
    "test.vehicleTransmission.unique() ,pars.vehicleTransmission.unique()\n",
    "\n",
    "#### Руль\n",
    "\n",
    "test.Руль.unique(),pars.Руль.unique()\n",
    "\n",
    "#### sell_id\n",
    "\n",
    "test.sell_id[0],pars.sell_id[0]\n",
    "\n",
    "#### modelDate\n",
    "\n",
    "test.modelDate = test.modelDate.astype(float)\n",
    "test.modelDate.unique()\n",
    "\n",
    "model_generation_year = pd.read_csv(\".\\Project_7_data\\model_generation_year.csv\")\n",
    "model_generation_year = dict(zip(model_generation_year.full_name + ' ' + model_generation_year.bodytype,\n",
    "         model_generation_year.generation_year))\n",
    "pars.modelDate = (pars.modelDate + ' ' + pars.bodyType).map(model_generation_year)\n",
    "\n",
    "pars.modelDate.unique()\n",
    "\n",
    "#### color\n",
    "\n",
    "set(pars.color.unique()) - set(test.color.unique())\n",
    "\n",
    "#### Привод\n",
    "\n",
    "test.Привод.unique(),pars.Привод.unique()\n",
    "\n",
    "#### productionDate\n",
    "\n",
    "test.productionDate = test.productionDate.astype(float)\n",
    "test.productionDate[:5]\n",
    "\n",
    "pars.productionDate[:5]\n",
    "\n",
    "#### numberOfDoors\n",
    "\n",
    "test.numberOfDoors = test.numberOfDoors.astype(float)\n",
    "test.numberOfDoors.unique()\n",
    "\n",
    "pars.numberOfDoors.unique()\n",
    "\n",
    "#### vendor\n",
    "\n",
    "test.vendor.unique(), pars.vendor.unique()\n",
    "\n",
    "#### Владельцы\n",
    "\n",
    "owner_dict = {\n",
    "    '3 или более': 3., \n",
    "    '2\\xa0владельца': 2.,\n",
    "    '1\\xa0владелец': 1.\n",
    "}\n",
    "test.Владельцы = test.Владельцы.map(owner_dict)\n",
    "pars.Владельцы = pars.Владельцы.map(owner_dict)\n",
    "\n",
    "test.Владельцы.unique(), pars.Владельцы.unique()\n",
    "\n",
    "#### mileage\n",
    "\n",
    "test.mileage = test.mileage.astype(float)\n",
    "test.mileage.unique()\n",
    "\n",
    "pars.mileage.unique()\n",
    "\n",
    "#### enginePower\n",
    "\n",
    "test.enginePower.isna().sum()\n",
    "\n",
    "test.enginePower = test.enginePower.apply(lambda x: int(x[:-4])).astype(float)\n",
    "test.enginePower.unique()\n",
    "\n",
    "pars.enginePower.unique()[:5]\n",
    "\n",
    "#### model_name\n",
    "\n",
    "test.model_name.unique()[:30]\n",
    "\n",
    "pars.model_name.unique()[:5]\n",
    "\n",
    "#### ПТС\n",
    "\n",
    "test.ПТС.unique(), pars.ПТС.unique()\n",
    "\n",
    "#### bodyType\n",
    "\n",
    "set(test.bodyType.unique()) - set(pars.bodyType.unique())\n",
    "\n",
    "#### equipment_dict\n",
    "\n",
    "test.equipment_dict = test.equipment_dict.apply(lambda x: list(json.loads(x).keys()) if x==x else [])\n",
    "\n",
    "pars.equipment_dict = pars.equipment_dict[:50].apply(\n",
    "    lambda x: pd.Series(list(json.loads(x.replace(\"'\",'\"')).values())).sum()\n",
    "    if x==x else x)\n",
    "\n",
    "\n",
    "\n",
    "test.equipment_dict[0][:2],pars.equipment_dict[0][:2]\n",
    "\n",
    "#### 'description'\n",
    "\n",
    "test.description[0]\n",
    "\n",
    "# pars.description[0]\n",
    "\n",
    "#### brand\n",
    "\n",
    "test.brand.unique()\n",
    "\n",
    "pars.brand.unique()\n",
    "\n",
    "#### offerprice\n",
    "\n",
    "pars.offerprice"
   ]
  },
  {
   "cell_type": "code",
   "execution_count": 52,
   "metadata": {},
   "outputs": [
    {
     "data": {
      "image/png": "[encoded data removed]",
      "text/plain": [
       "<Figure size 1008x144 with 1 Axes>"
      ]
     },
     "metadata": {
      "needs_background": "light"
     },
     "output_type": "display_data"
    },
    {
     "data": {
      "image/png": "[encoded data removed]",
      "text/plain": [
       "<Figure size 1008x144 with 1 Axes>"
      ]
     },
     "metadata": {
      "needs_background": "light"
     },
     "output_type": "display_data"
    },
    {
     "data": {
      "image/png": "[encoded data removed]",
      "text/plain": [
       "<Figure size 1008x144 with 1 Axes>"
      ]
     },
     "metadata": {
      "needs_background": "light"
     },
     "output_type": "display_data"
    },
    {
     "data": {
      "image/png": "[encoded data removed]",
      "text/plain": [
       "<Figure size 1008x144 with 1 Axes>"
      ]
     },
     "metadata": {
      "needs_background": "light"
     },
     "output_type": "display_data"
    },
    {
     "data": {
      "image/png": "[encoded data removed]",
      "text/plain": [
       "<Figure size 1008x144 with 1 Axes>"
      ]
     },
     "metadata": {
      "needs_background": "light"
     },
     "output_type": "display_data"
    },
    {
     "data": {
      "image/png": "[encoded data removed]",
      "text/plain": [
       "<Figure size 1008x144 with 1 Axes>"
      ]
     },
     "metadata": {
      "needs_background": "light"
     },
     "output_type": "display_data"
    },
    {
     "data": {
      "image/png": "[encoded data removed]",
      "text/plain": [
       "<Figure size 1008x144 with 1 Axes>"
      ]
     },
     "metadata": {
      "needs_background": "light"
     },
     "output_type": "display_data"
    },
    {
     "data": {
      "image/png": "[encoded data removed]",
      "text/plain": [
       "<Figure size 1008x144 with 1 Axes>"
      ]
     },
     "metadata": {
      "needs_background": "light"
     },
     "output_type": "display_data"
    },
    {
     "data": {
      "image/png": "[encoded data removed]",
      "text/plain": [
       "<Figure size 1008x144 with 1 Axes>"
      ]
     },
     "metadata": {
      "needs_background": "light"
     },
     "output_type": "display_data"
    },
    {
     "data": {
      "image/png": "[encoded data removed]",
      "text/plain": [
       "<Figure size 1008x144 with 1 Axes>"
      ]
     },
     "metadata": {
      "needs_background": "light"
     },
     "output_type": "display_data"
    }
   ],
   "source": [
    "# brands_with_missing = train_0909_full_uni[train_0909_full_uni.Владельцы.isna()].brand.unique()\n",
    "brands_with_missing = train_0909_full_uni[train_0909_full_uni.Владельцы.isna()].brand.value_counts().index[:10]\n",
    "\n",
    "for brand in brands_with_missing:\n",
    "    plt.figure(figsize=(14,2))\n",
    "    log(train_0909_full_uni.price[train_0909_full_uni.brand == brand]).plot.hist(bins=50)"
   ]
  }
 ],
 "metadata": {
  "kernelspec": {
   "display_name": "Python 3",
   "language": "python",
   "name": "python3"
  },
  "language_info": {
   "codemirror_mode": {
    "name": "ipython",
    "version": 3
   },
   "file_extension": ".py",
   "mimetype": "text/x-python",
   "name": "python",
   "nbconvert_exporter": "python",
   "pygments_lexer": "ipython3",
   "version": "3.7.4"
  }
 },
 "nbformat": 4,
 "nbformat_minor": 2
}
