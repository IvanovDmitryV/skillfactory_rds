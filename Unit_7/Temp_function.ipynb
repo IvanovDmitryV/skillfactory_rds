{
 "cells": [
  {
   "cell_type": "code",
   "execution_count": 248,
   "metadata": {},
   "outputs": [],
   "source": [
    "import pandas as pd\n",
    "import os\n",
    "import warnings\n",
    "import numpy as np\n",
    "import re\n",
    "import json\n",
    "\n",
    "from functools import reduce\n",
    "from datetime import datetime\n",
    "from datetime import date\n",
    "\n",
    "warnings.filterwarnings(\"ignore\")"
   ]
  },
  {
   "cell_type": "markdown",
   "metadata": {},
   "source": [
    "### ========================================================"
   ]
  },
  {
   "cell_type": "code",
   "execution_count": 249,
   "metadata": {},
   "outputs": [],
   "source": [
    "test_0909_uni_test = ['bodyType', 'brand', 'color', 'engineDisplacement', 'enginePower', \n",
    "                'equipment_dict','fuelType', 'mileage', 'modelDate', 'model_name', 'numberOfDoors', \n",
    "                'productionDate', 'vehicleTransmission', 'vendor', \n",
    "                'Владельцы', 'Владение', 'ПТС', 'Привод', 'Руль']\n",
    "test_0909_uni_0909 = ['bodyType', 'brand', 'color', 'engineDisplacement', 'enginePower', \n",
    "                 'Комплектация','fuelType', 'mileage', 'modelDate', 'model', 'numberOfDoors', \n",
    "                'productionDate', 'vehicleTransmission', \n",
    "                'Владельцы', 'Владение', 'ПТС', 'Привод', 'Руль', 'price']"
   ]
  },
  {
   "cell_type": "markdown",
   "metadata": {},
   "source": [
    "### ========================================================"
   ]
  },
  {
   "cell_type": "code",
   "execution_count": 250,
   "metadata": {},
   "outputs": [],
   "source": [
    "df_full= pd.read_csv('./Preproject_7_data/' + 'all_auto_ru_09_09_2020.csv',low_memory=False)"
   ]
  },
  {
   "cell_type": "code",
   "execution_count": 251,
   "metadata": {},
   "outputs": [],
   "source": [
    "test = pd.read_csv('./Project_7_data/test.csv',low_memory=False)\n",
    "df= pd.read_csv('./Project_7_data/' + 'auto_ru_2020_09_09.csv',low_memory=False)"
   ]
  },
  {
   "cell_type": "markdown",
   "metadata": {},
   "source": [
    "### ========================================================"
   ]
  },
  {
   "cell_type": "code",
   "execution_count": 252,
   "metadata": {},
   "outputs": [],
   "source": [
    "def bodyType_unification(x):\n",
    "    res=[]\n",
    "    x = x.lower() if type(x) == str else x  # <================\n",
    "    try:\n",
    "        for body_type in test.bodyType.unique():\n",
    "            if body_type in x:\n",
    "                res.append(body_type)\n",
    "    except Exception: return x\n",
    "    if not res: \n",
    "        return x.split()[0]\n",
    "    return max(res)\n",
    "\n",
    "def engineDisplacement_unification(x):\n",
    "    x = float(re.sub(\"[^\\d.]\", r'', x)) if re.sub(\"[^\\d.]\", r'', x) else 0\n",
    "    if x >= 7: x = 0\n",
    "    return x\n",
    "\n",
    "def train_options(x):\n",
    "    point = \"'available_options': \"\n",
    "    start = x.find(point)+len(point)+2\n",
    "    finish = x.find(\"]\",start) - 1\n",
    "    return x[start:finish].split(\"', '\")\n",
    "\n",
    "def test_ownership_unification(x):\n",
    "    try:\n",
    "        digits = re.findall('\\d+',x) \n",
    "        if len(digits) == 2: res = int(digits[0])*12 + int(digits[1])\n",
    "        elif len(digits) == 1 and 'месяц' in x: res = int(digits[0])\n",
    "        elif len(digits) == 1 and 'месяц' not in x: res = int(digits[0])*12\n",
    "    except Exception: res = 0   \n",
    "    return res\n",
    "\n",
    "def train_ownership_unification(x):\n",
    "    tmp = json.loads(x.replace(\"'\",'\"'))  if x==x else {'year': 2020, 'month': 9}\n",
    "    res = (2020 - tmp['year'])*12 + tmp['month'] - 9\n",
    "    if res<0: res = 0\n",
    "    return res\n"
   ]
  },
  {
   "cell_type": "code",
   "execution_count": 253,
   "metadata": {},
   "outputs": [],
   "source": [
    "def test_unification(df_to_proc):\n",
    "    test = df_to_proc.copy()[test_0909_uni_test]\n",
    "    owner_dict = {'3 или более': 3., '2\\xa0владельца': 2.,'1\\xa0владелец': 1.}\n",
    "    # engineDisplacement\n",
    "    test.engineDisplacement = test.engineDisplacement.apply(\n",
    "        lambda x: float(x[:-4]) if x[:-4] else np.NaN) \n",
    "    # enginePower\n",
    "    test.enginePower = test.enginePower.apply(lambda x: int(x[:-4]))\n",
    "    # equipment_dict\n",
    "    test.equipment_dict = test.equipment_dict.apply(\n",
    "        lambda x: list(json.loads(x).keys()) if x==x else [])\n",
    "    # Владельцы\n",
    "    test.Владельцы = test.Владельцы.map(owner_dict)\n",
    "    # Владение\n",
    "    test.Владение = test.Владение.apply(test_ownership_unification)\n",
    "    return test"
   ]
  },
  {
   "cell_type": "code",
   "execution_count": 254,
   "metadata": {},
   "outputs": [],
   "source": [
    "def train_0909_unification(df_to_proc):\n",
    "    df = df_to_proc.copy()[test_0909_uni_0909]\n",
    "    color_codes = {'040001': 'чёрный','FAFBFB': 'белый', '0000CC': 'синий', \n",
    "                   '200204': 'коричневый', 'EE1D19': 'красный', 'CACECB': 'серый',\n",
    "                   'C49648': 'бежевый', '97948F': 'серебристый', 'FFD600': 'жёлтый',\n",
    "                   'FF8649': 'оранжевый', '22A0F8': 'голубой','FFC0CB': 'розовый', \n",
    "                   'DEA522': 'золотистый', '007F00': 'зелёный', '660099': 'пурпурный',\n",
    "                   '4A2197': 'фиолетовый'}\n",
    "    transmission_dict = {'MECHANICAL':'механическая', 'AUTOMATIC':'автоматическая', \n",
    "                         'ROBOT':'роботизированная','VARIATOR':'вариатор'}\n",
    "    vendor_dict = {'AUDI':'EUROPEAN','BMW':'EUROPEAN','HONDA':'JAPANESE','INFINITI':'JAPANESE',\n",
    "                   'LEXUS':'JAPANESE','MERCEDES':'EUROPEAN','MITSUBISHI':'JAPANESE',\n",
    "                   'NISSAN':'JAPANESE','SKODA':'EUROPEAN','TOYOTA':'JAPANESE',\n",
    "                   'VOLKSWAGEN':'EUROPEAN','VOLVO':'EUROPEAN'}\n",
    "    PTS_dict = {'ORIGINAL': 'Оригинал', 'DUPLICATE': 'Дубликат'}\n",
    "    wheel_dict = {'LEFT':'Левый', 'RIGHT':'Правый'}\n",
    "    # bodyType\n",
    "    df.dropna(subset=['bodyType'],inplace=True)\n",
    "    df.bodyType = df.bodyType.apply(bodyType_unification)\n",
    "    # color\n",
    "    df.color = df.color.map(color_codes)\n",
    "    # engineDisplacement\n",
    "    df.engineDisplacement = df.engineDisplacement.apply(engineDisplacement_unification)\n",
    "    # enginePower\n",
    "    df.enginePower = df.enginePower.astype(int)\n",
    "    # equipment_dict\n",
    "    df['equipment_dict'] = df.Комплектация.apply(train_options)\n",
    "    df.drop(columns=['Комплектация'],inplace=True)\n",
    "    # modelDate \n",
    "    df.modelDate = df.modelDate.astype(int)\n",
    "    # model_name\n",
    "    df['model_name'] = df.model\n",
    "    df.drop(columns=['model'],inplace=True)\n",
    "    # numberOfDoors\n",
    "    df.numberOfDoors = df.numberOfDoors.astype(int)\n",
    "    # vehicleTransmission\n",
    "    df.vehicleTransmission = df.vehicleTransmission.map(transmission_dict)\n",
    "    # vendor\n",
    "    df['vendor'] = df.brand.map(vendor_dict)\n",
    "    # Владение\n",
    "    df.Владение = df.Владение.apply(train_ownership_unification)\n",
    "    # ПТС\n",
    "    df.ПТС = df.ПТС.map(PTS_dict)\n",
    "    # Руль\n",
    "    df.Руль = df.Руль.map(wheel_dict)\n",
    "    \n",
    "    return df"
   ]
  },
  {
   "cell_type": "code",
   "execution_count": 255,
   "metadata": {},
   "outputs": [
    {
     "name": "stdout",
     "output_type": "stream",
     "text": [
      "Wall time: 1.13 s\n"
     ]
    },
    {
     "data": {
      "text/html": [
       "<div>\n",
       "<style scoped>\n",
       "    .dataframe tbody tr th:only-of-type {\n",
       "        vertical-align: middle;\n",
       "    }\n",
       "\n",
       "    .dataframe tbody tr th {\n",
       "        vertical-align: top;\n",
       "    }\n",
       "\n",
       "    .dataframe thead th {\n",
       "        text-align: right;\n",
       "    }\n",
       "</style>\n",
       "<table border=\"1\" class=\"dataframe\">\n",
       "  <thead>\n",
       "    <tr style=\"text-align: right;\">\n",
       "      <th></th>\n",
       "      <th>bodyType</th>\n",
       "      <th>brand</th>\n",
       "      <th>color</th>\n",
       "      <th>engineDisplacement</th>\n",
       "      <th>enginePower</th>\n",
       "      <th>equipment_dict</th>\n",
       "      <th>fuelType</th>\n",
       "      <th>mileage</th>\n",
       "      <th>modelDate</th>\n",
       "      <th>model_name</th>\n",
       "      <th>numberOfDoors</th>\n",
       "      <th>productionDate</th>\n",
       "      <th>vehicleTransmission</th>\n",
       "      <th>vendor</th>\n",
       "      <th>Владельцы</th>\n",
       "      <th>Владение</th>\n",
       "      <th>ПТС</th>\n",
       "      <th>Привод</th>\n",
       "      <th>Руль</th>\n",
       "    </tr>\n",
       "  </thead>\n",
       "  <tbody>\n",
       "    <tr>\n",
       "      <td>0</td>\n",
       "      <td>лифтбек</td>\n",
       "      <td>SKODA</td>\n",
       "      <td>синий</td>\n",
       "      <td>1.2</td>\n",
       "      <td>105</td>\n",
       "      <td>[engine-proof, tinted-glass, airbag-driver, au...</td>\n",
       "      <td>бензин</td>\n",
       "      <td>74000</td>\n",
       "      <td>2013</td>\n",
       "      <td>OCTAVIA</td>\n",
       "      <td>5</td>\n",
       "      <td>2014</td>\n",
       "      <td>роботизированная</td>\n",
       "      <td>EUROPEAN</td>\n",
       "      <td>3.0</td>\n",
       "      <td>0</td>\n",
       "      <td>Оригинал</td>\n",
       "      <td>передний</td>\n",
       "      <td>Левый</td>\n",
       "    </tr>\n",
       "    <tr>\n",
       "      <td>1</td>\n",
       "      <td>лифтбек</td>\n",
       "      <td>SKODA</td>\n",
       "      <td>чёрный</td>\n",
       "      <td>1.6</td>\n",
       "      <td>110</td>\n",
       "      <td>[cruise-control, asr, esp, airbag-driver, isof...</td>\n",
       "      <td>бензин</td>\n",
       "      <td>60563</td>\n",
       "      <td>2017</td>\n",
       "      <td>OCTAVIA</td>\n",
       "      <td>5</td>\n",
       "      <td>2017</td>\n",
       "      <td>механическая</td>\n",
       "      <td>EUROPEAN</td>\n",
       "      <td>1.0</td>\n",
       "      <td>0</td>\n",
       "      <td>Оригинал</td>\n",
       "      <td>передний</td>\n",
       "      <td>Левый</td>\n",
       "    </tr>\n",
       "    <tr>\n",
       "      <td>2</td>\n",
       "      <td>лифтбек</td>\n",
       "      <td>SKODA</td>\n",
       "      <td>серый</td>\n",
       "      <td>1.8</td>\n",
       "      <td>152</td>\n",
       "      <td>[cruise-control, tinted-glass, esp, adaptive-l...</td>\n",
       "      <td>бензин</td>\n",
       "      <td>88000</td>\n",
       "      <td>2013</td>\n",
       "      <td>SUPERB</td>\n",
       "      <td>5</td>\n",
       "      <td>2014</td>\n",
       "      <td>роботизированная</td>\n",
       "      <td>EUROPEAN</td>\n",
       "      <td>1.0</td>\n",
       "      <td>0</td>\n",
       "      <td>Оригинал</td>\n",
       "      <td>передний</td>\n",
       "      <td>Левый</td>\n",
       "    </tr>\n",
       "    <tr>\n",
       "      <td>3</td>\n",
       "      <td>лифтбек</td>\n",
       "      <td>SKODA</td>\n",
       "      <td>коричневый</td>\n",
       "      <td>1.6</td>\n",
       "      <td>110</td>\n",
       "      <td>[cruise-control, roller-blind-for-rear-window,...</td>\n",
       "      <td>бензин</td>\n",
       "      <td>95000</td>\n",
       "      <td>2013</td>\n",
       "      <td>OCTAVIA</td>\n",
       "      <td>5</td>\n",
       "      <td>2014</td>\n",
       "      <td>автоматическая</td>\n",
       "      <td>EUROPEAN</td>\n",
       "      <td>1.0</td>\n",
       "      <td>0</td>\n",
       "      <td>Оригинал</td>\n",
       "      <td>передний</td>\n",
       "      <td>Левый</td>\n",
       "    </tr>\n",
       "    <tr>\n",
       "      <td>4</td>\n",
       "      <td>лифтбек</td>\n",
       "      <td>SKODA</td>\n",
       "      <td>белый</td>\n",
       "      <td>1.8</td>\n",
       "      <td>152</td>\n",
       "      <td>[cruise-control, asr, esp, airbag-driver, isof...</td>\n",
       "      <td>бензин</td>\n",
       "      <td>58536</td>\n",
       "      <td>2008</td>\n",
       "      <td>OCTAVIA</td>\n",
       "      <td>5</td>\n",
       "      <td>2012</td>\n",
       "      <td>автоматическая</td>\n",
       "      <td>EUROPEAN</td>\n",
       "      <td>1.0</td>\n",
       "      <td>0</td>\n",
       "      <td>Оригинал</td>\n",
       "      <td>передний</td>\n",
       "      <td>Левый</td>\n",
       "    </tr>\n",
       "    <tr>\n",
       "      <td>...</td>\n",
       "      <td>...</td>\n",
       "      <td>...</td>\n",
       "      <td>...</td>\n",
       "      <td>...</td>\n",
       "      <td>...</td>\n",
       "      <td>...</td>\n",
       "      <td>...</td>\n",
       "      <td>...</td>\n",
       "      <td>...</td>\n",
       "      <td>...</td>\n",
       "      <td>...</td>\n",
       "      <td>...</td>\n",
       "      <td>...</td>\n",
       "      <td>...</td>\n",
       "      <td>...</td>\n",
       "      <td>...</td>\n",
       "      <td>...</td>\n",
       "      <td>...</td>\n",
       "      <td>...</td>\n",
       "    </tr>\n",
       "    <tr>\n",
       "      <td>34681</td>\n",
       "      <td>седан</td>\n",
       "      <td>BMW</td>\n",
       "      <td>коричневый</td>\n",
       "      <td>1.6</td>\n",
       "      <td>136</td>\n",
       "      <td>[cruise-control, asr, tinted-glass, esp, start...</td>\n",
       "      <td>бензин</td>\n",
       "      <td>115000</td>\n",
       "      <td>2011</td>\n",
       "      <td>3ER</td>\n",
       "      <td>4</td>\n",
       "      <td>2014</td>\n",
       "      <td>автоматическая</td>\n",
       "      <td>EUROPEAN</td>\n",
       "      <td>3.0</td>\n",
       "      <td>25</td>\n",
       "      <td>Оригинал</td>\n",
       "      <td>задний</td>\n",
       "      <td>Левый</td>\n",
       "    </tr>\n",
       "    <tr>\n",
       "      <td>34682</td>\n",
       "      <td>седан</td>\n",
       "      <td>BMW</td>\n",
       "      <td>чёрный</td>\n",
       "      <td>2.0</td>\n",
       "      <td>190</td>\n",
       "      <td>[]</td>\n",
       "      <td>дизель</td>\n",
       "      <td>98000</td>\n",
       "      <td>2016</td>\n",
       "      <td>5ER</td>\n",
       "      <td>4</td>\n",
       "      <td>2018</td>\n",
       "      <td>автоматическая</td>\n",
       "      <td>EUROPEAN</td>\n",
       "      <td>1.0</td>\n",
       "      <td>0</td>\n",
       "      <td>Оригинал</td>\n",
       "      <td>полный</td>\n",
       "      <td>Левый</td>\n",
       "    </tr>\n",
       "    <tr>\n",
       "      <td>34683</td>\n",
       "      <td>седан</td>\n",
       "      <td>BMW</td>\n",
       "      <td>серый</td>\n",
       "      <td>2.5</td>\n",
       "      <td>170</td>\n",
       "      <td>[]</td>\n",
       "      <td>бензин</td>\n",
       "      <td>360000</td>\n",
       "      <td>1995</td>\n",
       "      <td>5ER</td>\n",
       "      <td>4</td>\n",
       "      <td>1997</td>\n",
       "      <td>автоматическая</td>\n",
       "      <td>EUROPEAN</td>\n",
       "      <td>3.0</td>\n",
       "      <td>0</td>\n",
       "      <td>Дубликат</td>\n",
       "      <td>задний</td>\n",
       "      <td>Левый</td>\n",
       "    </tr>\n",
       "    <tr>\n",
       "      <td>34684</td>\n",
       "      <td>внедорожник 5 дв.</td>\n",
       "      <td>BMW</td>\n",
       "      <td>коричневый</td>\n",
       "      <td>2.0</td>\n",
       "      <td>184</td>\n",
       "      <td>[engine-proof, esp, start-stop-function, airba...</td>\n",
       "      <td>дизель</td>\n",
       "      <td>90500</td>\n",
       "      <td>2012</td>\n",
       "      <td>X1</td>\n",
       "      <td>5</td>\n",
       "      <td>2013</td>\n",
       "      <td>автоматическая</td>\n",
       "      <td>EUROPEAN</td>\n",
       "      <td>2.0</td>\n",
       "      <td>0</td>\n",
       "      <td>Оригинал</td>\n",
       "      <td>полный</td>\n",
       "      <td>Левый</td>\n",
       "    </tr>\n",
       "    <tr>\n",
       "      <td>34685</td>\n",
       "      <td>внедорожник 5 дв.</td>\n",
       "      <td>BMW</td>\n",
       "      <td>чёрный</td>\n",
       "      <td>3.0</td>\n",
       "      <td>235</td>\n",
       "      <td>[alloy-wheel-disks, navigation, ptf, airbrush,...</td>\n",
       "      <td>дизель</td>\n",
       "      <td>240000</td>\n",
       "      <td>2006</td>\n",
       "      <td>X5</td>\n",
       "      <td>5</td>\n",
       "      <td>2008</td>\n",
       "      <td>автоматическая</td>\n",
       "      <td>EUROPEAN</td>\n",
       "      <td>3.0</td>\n",
       "      <td>73</td>\n",
       "      <td>Оригинал</td>\n",
       "      <td>полный</td>\n",
       "      <td>Левый</td>\n",
       "    </tr>\n",
       "  </tbody>\n",
       "</table>\n",
       "<p>34686 rows × 19 columns</p>\n",
       "</div>"
      ],
      "text/plain": [
       "                bodyType  brand       color  engineDisplacement  enginePower  \\\n",
       "0                лифтбек  SKODA       синий                 1.2          105   \n",
       "1                лифтбек  SKODA      чёрный                 1.6          110   \n",
       "2                лифтбек  SKODA       серый                 1.8          152   \n",
       "3                лифтбек  SKODA  коричневый                 1.6          110   \n",
       "4                лифтбек  SKODA       белый                 1.8          152   \n",
       "...                  ...    ...         ...                 ...          ...   \n",
       "34681              седан    BMW  коричневый                 1.6          136   \n",
       "34682              седан    BMW      чёрный                 2.0          190   \n",
       "34683              седан    BMW       серый                 2.5          170   \n",
       "34684  внедорожник 5 дв.    BMW  коричневый                 2.0          184   \n",
       "34685  внедорожник 5 дв.    BMW      чёрный                 3.0          235   \n",
       "\n",
       "                                          equipment_dict fuelType  mileage  \\\n",
       "0      [engine-proof, tinted-glass, airbag-driver, au...   бензин    74000   \n",
       "1      [cruise-control, asr, esp, airbag-driver, isof...   бензин    60563   \n",
       "2      [cruise-control, tinted-glass, esp, adaptive-l...   бензин    88000   \n",
       "3      [cruise-control, roller-blind-for-rear-window,...   бензин    95000   \n",
       "4      [cruise-control, asr, esp, airbag-driver, isof...   бензин    58536   \n",
       "...                                                  ...      ...      ...   \n",
       "34681  [cruise-control, asr, tinted-glass, esp, start...   бензин   115000   \n",
       "34682                                                 []   дизель    98000   \n",
       "34683                                                 []   бензин   360000   \n",
       "34684  [engine-proof, esp, start-stop-function, airba...   дизель    90500   \n",
       "34685  [alloy-wheel-disks, navigation, ptf, airbrush,...   дизель   240000   \n",
       "\n",
       "       modelDate model_name  numberOfDoors  productionDate  \\\n",
       "0           2013    OCTAVIA              5            2014   \n",
       "1           2017    OCTAVIA              5            2017   \n",
       "2           2013     SUPERB              5            2014   \n",
       "3           2013    OCTAVIA              5            2014   \n",
       "4           2008    OCTAVIA              5            2012   \n",
       "...          ...        ...            ...             ...   \n",
       "34681       2011        3ER              4            2014   \n",
       "34682       2016        5ER              4            2018   \n",
       "34683       1995        5ER              4            1997   \n",
       "34684       2012         X1              5            2013   \n",
       "34685       2006         X5              5            2008   \n",
       "\n",
       "      vehicleTransmission    vendor  Владельцы  Владение       ПТС    Привод  \\\n",
       "0        роботизированная  EUROPEAN        3.0         0  Оригинал  передний   \n",
       "1            механическая  EUROPEAN        1.0         0  Оригинал  передний   \n",
       "2        роботизированная  EUROPEAN        1.0         0  Оригинал  передний   \n",
       "3          автоматическая  EUROPEAN        1.0         0  Оригинал  передний   \n",
       "4          автоматическая  EUROPEAN        1.0         0  Оригинал  передний   \n",
       "...                   ...       ...        ...       ...       ...       ...   \n",
       "34681      автоматическая  EUROPEAN        3.0        25  Оригинал    задний   \n",
       "34682      автоматическая  EUROPEAN        1.0         0  Оригинал    полный   \n",
       "34683      автоматическая  EUROPEAN        3.0         0  Дубликат    задний   \n",
       "34684      автоматическая  EUROPEAN        2.0         0  Оригинал    полный   \n",
       "34685      автоматическая  EUROPEAN        3.0        73  Оригинал    полный   \n",
       "\n",
       "        Руль  \n",
       "0      Левый  \n",
       "1      Левый  \n",
       "2      Левый  \n",
       "3      Левый  \n",
       "4      Левый  \n",
       "...      ...  \n",
       "34681  Левый  \n",
       "34682  Левый  \n",
       "34683  Левый  \n",
       "34684  Левый  \n",
       "34685  Левый  \n",
       "\n",
       "[34686 rows x 19 columns]"
      ]
     },
     "execution_count": 255,
     "metadata": {},
     "output_type": "execute_result"
    }
   ],
   "source": [
    "%%time \n",
    "test_unification(test)"
   ]
  },
  {
   "cell_type": "code",
   "execution_count": 256,
   "metadata": {},
   "outputs": [
    {
     "name": "stdout",
     "output_type": "stream",
     "text": [
      "Wall time: 1min 33s\n"
     ]
    },
    {
     "data": {
      "text/html": [
       "<div>\n",
       "<style scoped>\n",
       "    .dataframe tbody tr th:only-of-type {\n",
       "        vertical-align: middle;\n",
       "    }\n",
       "\n",
       "    .dataframe tbody tr th {\n",
       "        vertical-align: top;\n",
       "    }\n",
       "\n",
       "    .dataframe thead th {\n",
       "        text-align: right;\n",
       "    }\n",
       "</style>\n",
       "<table border=\"1\" class=\"dataframe\">\n",
       "  <thead>\n",
       "    <tr style=\"text-align: right;\">\n",
       "      <th></th>\n",
       "      <th>bodyType</th>\n",
       "      <th>brand</th>\n",
       "      <th>color</th>\n",
       "      <th>engineDisplacement</th>\n",
       "      <th>enginePower</th>\n",
       "      <th>fuelType</th>\n",
       "      <th>mileage</th>\n",
       "      <th>modelDate</th>\n",
       "      <th>numberOfDoors</th>\n",
       "      <th>productionDate</th>\n",
       "      <th>vehicleTransmission</th>\n",
       "      <th>Владельцы</th>\n",
       "      <th>Владение</th>\n",
       "      <th>ПТС</th>\n",
       "      <th>Привод</th>\n",
       "      <th>Руль</th>\n",
       "      <th>price</th>\n",
       "      <th>equipment_dict</th>\n",
       "      <th>model_name</th>\n",
       "      <th>vendor</th>\n",
       "    </tr>\n",
       "  </thead>\n",
       "  <tbody>\n",
       "    <tr>\n",
       "      <td>0</td>\n",
       "      <td>седан</td>\n",
       "      <td>AUDI</td>\n",
       "      <td>чёрный</td>\n",
       "      <td>2.8</td>\n",
       "      <td>174</td>\n",
       "      <td>бензин</td>\n",
       "      <td>350000</td>\n",
       "      <td>1990</td>\n",
       "      <td>4</td>\n",
       "      <td>1991</td>\n",
       "      <td>механическая</td>\n",
       "      <td>3.0</td>\n",
       "      <td>0</td>\n",
       "      <td>Оригинал</td>\n",
       "      <td>полный</td>\n",
       "      <td>Левый</td>\n",
       "      <td>200000.0</td>\n",
       "      <td>[]</td>\n",
       "      <td>100</td>\n",
       "      <td>EUROPEAN</td>\n",
       "    </tr>\n",
       "    <tr>\n",
       "      <td>1</td>\n",
       "      <td>седан</td>\n",
       "      <td>AUDI</td>\n",
       "      <td>красный</td>\n",
       "      <td>1.8</td>\n",
       "      <td>90</td>\n",
       "      <td>бензин</td>\n",
       "      <td>173424</td>\n",
       "      <td>1982</td>\n",
       "      <td>4</td>\n",
       "      <td>1986</td>\n",
       "      <td>механическая</td>\n",
       "      <td>3.0</td>\n",
       "      <td>0</td>\n",
       "      <td>Оригинал</td>\n",
       "      <td>передний</td>\n",
       "      <td>Левый</td>\n",
       "      <td>60000.0</td>\n",
       "      <td>[]</td>\n",
       "      <td>100</td>\n",
       "      <td>EUROPEAN</td>\n",
       "    </tr>\n",
       "    <tr>\n",
       "      <td>2</td>\n",
       "      <td>универсал 5 дв.</td>\n",
       "      <td>AUDI</td>\n",
       "      <td>синий</td>\n",
       "      <td>2.3</td>\n",
       "      <td>136</td>\n",
       "      <td>бензин</td>\n",
       "      <td>230000</td>\n",
       "      <td>1988</td>\n",
       "      <td>5</td>\n",
       "      <td>1989</td>\n",
       "      <td>механическая</td>\n",
       "      <td>3.0</td>\n",
       "      <td>0</td>\n",
       "      <td>Оригинал</td>\n",
       "      <td>полный</td>\n",
       "      <td>Левый</td>\n",
       "      <td>99000.0</td>\n",
       "      <td>[]</td>\n",
       "      <td>100</td>\n",
       "      <td>EUROPEAN</td>\n",
       "    </tr>\n",
       "    <tr>\n",
       "      <td>3</td>\n",
       "      <td>седан</td>\n",
       "      <td>AUDI</td>\n",
       "      <td>серый</td>\n",
       "      <td>1.8</td>\n",
       "      <td>90</td>\n",
       "      <td>бензин</td>\n",
       "      <td>240000</td>\n",
       "      <td>1988</td>\n",
       "      <td>4</td>\n",
       "      <td>1989</td>\n",
       "      <td>механическая</td>\n",
       "      <td>3.0</td>\n",
       "      <td>0</td>\n",
       "      <td>Оригинал</td>\n",
       "      <td>передний</td>\n",
       "      <td>Левый</td>\n",
       "      <td>65000.0</td>\n",
       "      <td>[]</td>\n",
       "      <td>100</td>\n",
       "      <td>EUROPEAN</td>\n",
       "    </tr>\n",
       "    <tr>\n",
       "      <td>4</td>\n",
       "      <td>седан</td>\n",
       "      <td>AUDI</td>\n",
       "      <td>чёрный</td>\n",
       "      <td>2.0</td>\n",
       "      <td>101</td>\n",
       "      <td>бензин</td>\n",
       "      <td>300000</td>\n",
       "      <td>1990</td>\n",
       "      <td>4</td>\n",
       "      <td>1991</td>\n",
       "      <td>механическая</td>\n",
       "      <td>3.0</td>\n",
       "      <td>0</td>\n",
       "      <td>Дубликат</td>\n",
       "      <td>передний</td>\n",
       "      <td>Левый</td>\n",
       "      <td>100000.0</td>\n",
       "      <td>[]</td>\n",
       "      <td>100</td>\n",
       "      <td>EUROPEAN</td>\n",
       "    </tr>\n",
       "    <tr>\n",
       "      <td>...</td>\n",
       "      <td>...</td>\n",
       "      <td>...</td>\n",
       "      <td>...</td>\n",
       "      <td>...</td>\n",
       "      <td>...</td>\n",
       "      <td>...</td>\n",
       "      <td>...</td>\n",
       "      <td>...</td>\n",
       "      <td>...</td>\n",
       "      <td>...</td>\n",
       "      <td>...</td>\n",
       "      <td>...</td>\n",
       "      <td>...</td>\n",
       "      <td>...</td>\n",
       "      <td>...</td>\n",
       "      <td>...</td>\n",
       "      <td>...</td>\n",
       "      <td>...</td>\n",
       "      <td>...</td>\n",
       "      <td>...</td>\n",
       "    </tr>\n",
       "    <tr>\n",
       "      <td>49304</td>\n",
       "      <td>купе</td>\n",
       "      <td>MERCEDES</td>\n",
       "      <td>золотистый</td>\n",
       "      <td>3.0</td>\n",
       "      <td>150</td>\n",
       "      <td>бензин</td>\n",
       "      <td>45200</td>\n",
       "      <td>1951</td>\n",
       "      <td>2</td>\n",
       "      <td>1952</td>\n",
       "      <td>механическая</td>\n",
       "      <td>1.0</td>\n",
       "      <td>195</td>\n",
       "      <td>Оригинал</td>\n",
       "      <td>задний</td>\n",
       "      <td>Левый</td>\n",
       "      <td>10800000.0</td>\n",
       "      <td>[]</td>\n",
       "      <td>W188</td>\n",
       "      <td>EUROPEAN</td>\n",
       "    </tr>\n",
       "    <tr>\n",
       "      <td>49305</td>\n",
       "      <td>седан</td>\n",
       "      <td>MERCEDES</td>\n",
       "      <td>чёрный</td>\n",
       "      <td>3.0</td>\n",
       "      <td>160</td>\n",
       "      <td>бензин</td>\n",
       "      <td>10000</td>\n",
       "      <td>1957</td>\n",
       "      <td>4</td>\n",
       "      <td>1959</td>\n",
       "      <td>автоматическая</td>\n",
       "      <td>2.0</td>\n",
       "      <td>0</td>\n",
       "      <td>Оригинал</td>\n",
       "      <td>задний</td>\n",
       "      <td>Левый</td>\n",
       "      <td>5600000.0</td>\n",
       "      <td>[]</td>\n",
       "      <td>W189</td>\n",
       "      <td>EUROPEAN</td>\n",
       "    </tr>\n",
       "    <tr>\n",
       "      <td>49306</td>\n",
       "      <td>пикап двойная кабина</td>\n",
       "      <td>MERCEDES</td>\n",
       "      <td>серебристый</td>\n",
       "      <td>0.0</td>\n",
       "      <td>258</td>\n",
       "      <td>дизель</td>\n",
       "      <td>800</td>\n",
       "      <td>2017</td>\n",
       "      <td>4</td>\n",
       "      <td>2018</td>\n",
       "      <td>автоматическая</td>\n",
       "      <td>1.0</td>\n",
       "      <td>15</td>\n",
       "      <td>Оригинал</td>\n",
       "      <td>полный</td>\n",
       "      <td>Левый</td>\n",
       "      <td>4000000.0</td>\n",
       "      <td>[]</td>\n",
       "      <td>X_KLASSE</td>\n",
       "      <td>EUROPEAN</td>\n",
       "    </tr>\n",
       "    <tr>\n",
       "      <td>49307</td>\n",
       "      <td>пикап двойная кабина</td>\n",
       "      <td>MERCEDES</td>\n",
       "      <td>серебристый</td>\n",
       "      <td>0.0</td>\n",
       "      <td>190</td>\n",
       "      <td>дизель</td>\n",
       "      <td>15850</td>\n",
       "      <td>2017</td>\n",
       "      <td>4</td>\n",
       "      <td>2018</td>\n",
       "      <td>автоматическая</td>\n",
       "      <td>1.0</td>\n",
       "      <td>0</td>\n",
       "      <td>Оригинал</td>\n",
       "      <td>полный</td>\n",
       "      <td>Левый</td>\n",
       "      <td>3150000.0</td>\n",
       "      <td>[cruise-control, heated-wash-system, airbag-pa...</td>\n",
       "      <td>X_KLASSE</td>\n",
       "      <td>EUROPEAN</td>\n",
       "    </tr>\n",
       "    <tr>\n",
       "      <td>49308</td>\n",
       "      <td>пикап двойная кабина</td>\n",
       "      <td>MERCEDES</td>\n",
       "      <td>серебристый</td>\n",
       "      <td>0.0</td>\n",
       "      <td>258</td>\n",
       "      <td>дизель</td>\n",
       "      <td>18000</td>\n",
       "      <td>2017</td>\n",
       "      <td>4</td>\n",
       "      <td>2018</td>\n",
       "      <td>автоматическая</td>\n",
       "      <td>1.0</td>\n",
       "      <td>0</td>\n",
       "      <td>Оригинал</td>\n",
       "      <td>полный</td>\n",
       "      <td>Левый</td>\n",
       "      <td>7600000.0</td>\n",
       "      <td>[]</td>\n",
       "      <td>X_KLASSE</td>\n",
       "      <td>EUROPEAN</td>\n",
       "    </tr>\n",
       "  </tbody>\n",
       "</table>\n",
       "<p>49308 rows × 20 columns</p>\n",
       "</div>"
      ],
      "text/plain": [
       "                   bodyType     brand        color  engineDisplacement  \\\n",
       "0                     седан      AUDI       чёрный                 2.8   \n",
       "1                     седан      AUDI      красный                 1.8   \n",
       "2           универсал 5 дв.      AUDI        синий                 2.3   \n",
       "3                     седан      AUDI        серый                 1.8   \n",
       "4                     седан      AUDI       чёрный                 2.0   \n",
       "...                     ...       ...          ...                 ...   \n",
       "49304                  купе  MERCEDES   золотистый                 3.0   \n",
       "49305                 седан  MERCEDES       чёрный                 3.0   \n",
       "49306  пикап двойная кабина  MERCEDES  серебристый                 0.0   \n",
       "49307  пикап двойная кабина  MERCEDES  серебристый                 0.0   \n",
       "49308  пикап двойная кабина  MERCEDES  серебристый                 0.0   \n",
       "\n",
       "       enginePower fuelType  mileage  modelDate  numberOfDoors  \\\n",
       "0              174   бензин   350000       1990              4   \n",
       "1               90   бензин   173424       1982              4   \n",
       "2              136   бензин   230000       1988              5   \n",
       "3               90   бензин   240000       1988              4   \n",
       "4              101   бензин   300000       1990              4   \n",
       "...            ...      ...      ...        ...            ...   \n",
       "49304          150   бензин    45200       1951              2   \n",
       "49305          160   бензин    10000       1957              4   \n",
       "49306          258   дизель      800       2017              4   \n",
       "49307          190   дизель    15850       2017              4   \n",
       "49308          258   дизель    18000       2017              4   \n",
       "\n",
       "       productionDate vehicleTransmission  Владельцы  Владение       ПТС  \\\n",
       "0                1991        механическая        3.0         0  Оригинал   \n",
       "1                1986        механическая        3.0         0  Оригинал   \n",
       "2                1989        механическая        3.0         0  Оригинал   \n",
       "3                1989        механическая        3.0         0  Оригинал   \n",
       "4                1991        механическая        3.0         0  Дубликат   \n",
       "...               ...                 ...        ...       ...       ...   \n",
       "49304            1952        механическая        1.0       195  Оригинал   \n",
       "49305            1959      автоматическая        2.0         0  Оригинал   \n",
       "49306            2018      автоматическая        1.0        15  Оригинал   \n",
       "49307            2018      автоматическая        1.0         0  Оригинал   \n",
       "49308            2018      автоматическая        1.0         0  Оригинал   \n",
       "\n",
       "         Привод   Руль       price  \\\n",
       "0        полный  Левый    200000.0   \n",
       "1      передний  Левый     60000.0   \n",
       "2        полный  Левый     99000.0   \n",
       "3      передний  Левый     65000.0   \n",
       "4      передний  Левый    100000.0   \n",
       "...         ...    ...         ...   \n",
       "49304    задний  Левый  10800000.0   \n",
       "49305    задний  Левый   5600000.0   \n",
       "49306    полный  Левый   4000000.0   \n",
       "49307    полный  Левый   3150000.0   \n",
       "49308    полный  Левый   7600000.0   \n",
       "\n",
       "                                          equipment_dict model_name    vendor  \n",
       "0                                                     []        100  EUROPEAN  \n",
       "1                                                     []        100  EUROPEAN  \n",
       "2                                                     []        100  EUROPEAN  \n",
       "3                                                     []        100  EUROPEAN  \n",
       "4                                                     []        100  EUROPEAN  \n",
       "...                                                  ...        ...       ...  \n",
       "49304                                                 []       W188  EUROPEAN  \n",
       "49305                                                 []       W189  EUROPEAN  \n",
       "49306                                                 []   X_KLASSE  EUROPEAN  \n",
       "49307  [cruise-control, heated-wash-system, airbag-pa...   X_KLASSE  EUROPEAN  \n",
       "49308                                                 []   X_KLASSE  EUROPEAN  \n",
       "\n",
       "[49308 rows x 20 columns]"
      ]
     },
     "execution_count": 256,
     "metadata": {},
     "output_type": "execute_result"
    }
   ],
   "source": [
    "%%time\n",
    "train_0909_unification(df)"
   ]
  },
  {
   "cell_type": "code",
   "execution_count": 257,
   "metadata": {},
   "outputs": [
    {
     "name": "stdout",
     "output_type": "stream",
     "text": [
      "Wall time: 2min 52s\n"
     ]
    },
    {
     "data": {
      "text/html": [
       "<div>\n",
       "<style scoped>\n",
       "    .dataframe tbody tr th:only-of-type {\n",
       "        vertical-align: middle;\n",
       "    }\n",
       "\n",
       "    .dataframe tbody tr th {\n",
       "        vertical-align: top;\n",
       "    }\n",
       "\n",
       "    .dataframe thead th {\n",
       "        text-align: right;\n",
       "    }\n",
       "</style>\n",
       "<table border=\"1\" class=\"dataframe\">\n",
       "  <thead>\n",
       "    <tr style=\"text-align: right;\">\n",
       "      <th></th>\n",
       "      <th>bodyType</th>\n",
       "      <th>brand</th>\n",
       "      <th>color</th>\n",
       "      <th>engineDisplacement</th>\n",
       "      <th>enginePower</th>\n",
       "      <th>fuelType</th>\n",
       "      <th>mileage</th>\n",
       "      <th>modelDate</th>\n",
       "      <th>numberOfDoors</th>\n",
       "      <th>productionDate</th>\n",
       "      <th>vehicleTransmission</th>\n",
       "      <th>Владельцы</th>\n",
       "      <th>Владение</th>\n",
       "      <th>ПТС</th>\n",
       "      <th>Привод</th>\n",
       "      <th>Руль</th>\n",
       "      <th>price</th>\n",
       "      <th>equipment_dict</th>\n",
       "      <th>model_name</th>\n",
       "      <th>vendor</th>\n",
       "    </tr>\n",
       "  </thead>\n",
       "  <tbody>\n",
       "    <tr>\n",
       "      <td>0</td>\n",
       "      <td>седан</td>\n",
       "      <td>AUDI</td>\n",
       "      <td>чёрный</td>\n",
       "      <td>2.8</td>\n",
       "      <td>174</td>\n",
       "      <td>бензин</td>\n",
       "      <td>350000</td>\n",
       "      <td>1990</td>\n",
       "      <td>4</td>\n",
       "      <td>1991</td>\n",
       "      <td>механическая</td>\n",
       "      <td>3.0</td>\n",
       "      <td>0</td>\n",
       "      <td>Оригинал</td>\n",
       "      <td>полный</td>\n",
       "      <td>Левый</td>\n",
       "      <td>200000.0</td>\n",
       "      <td>[]</td>\n",
       "      <td>100</td>\n",
       "      <td>EUROPEAN</td>\n",
       "    </tr>\n",
       "    <tr>\n",
       "      <td>1</td>\n",
       "      <td>седан</td>\n",
       "      <td>AUDI</td>\n",
       "      <td>красный</td>\n",
       "      <td>1.8</td>\n",
       "      <td>90</td>\n",
       "      <td>бензин</td>\n",
       "      <td>173424</td>\n",
       "      <td>1982</td>\n",
       "      <td>4</td>\n",
       "      <td>1986</td>\n",
       "      <td>механическая</td>\n",
       "      <td>3.0</td>\n",
       "      <td>0</td>\n",
       "      <td>Оригинал</td>\n",
       "      <td>передний</td>\n",
       "      <td>Левый</td>\n",
       "      <td>60000.0</td>\n",
       "      <td>[]</td>\n",
       "      <td>100</td>\n",
       "      <td>EUROPEAN</td>\n",
       "    </tr>\n",
       "    <tr>\n",
       "      <td>2</td>\n",
       "      <td>универсал 5 дв.</td>\n",
       "      <td>AUDI</td>\n",
       "      <td>синий</td>\n",
       "      <td>2.3</td>\n",
       "      <td>136</td>\n",
       "      <td>бензин</td>\n",
       "      <td>230000</td>\n",
       "      <td>1988</td>\n",
       "      <td>5</td>\n",
       "      <td>1989</td>\n",
       "      <td>механическая</td>\n",
       "      <td>3.0</td>\n",
       "      <td>0</td>\n",
       "      <td>Оригинал</td>\n",
       "      <td>полный</td>\n",
       "      <td>Левый</td>\n",
       "      <td>99000.0</td>\n",
       "      <td>[]</td>\n",
       "      <td>100</td>\n",
       "      <td>EUROPEAN</td>\n",
       "    </tr>\n",
       "    <tr>\n",
       "      <td>3</td>\n",
       "      <td>седан</td>\n",
       "      <td>AUDI</td>\n",
       "      <td>серый</td>\n",
       "      <td>1.8</td>\n",
       "      <td>90</td>\n",
       "      <td>бензин</td>\n",
       "      <td>240000</td>\n",
       "      <td>1988</td>\n",
       "      <td>4</td>\n",
       "      <td>1989</td>\n",
       "      <td>механическая</td>\n",
       "      <td>3.0</td>\n",
       "      <td>0</td>\n",
       "      <td>Оригинал</td>\n",
       "      <td>передний</td>\n",
       "      <td>Левый</td>\n",
       "      <td>65000.0</td>\n",
       "      <td>[]</td>\n",
       "      <td>100</td>\n",
       "      <td>EUROPEAN</td>\n",
       "    </tr>\n",
       "    <tr>\n",
       "      <td>4</td>\n",
       "      <td>седан</td>\n",
       "      <td>AUDI</td>\n",
       "      <td>чёрный</td>\n",
       "      <td>2.0</td>\n",
       "      <td>101</td>\n",
       "      <td>бензин</td>\n",
       "      <td>300000</td>\n",
       "      <td>1990</td>\n",
       "      <td>4</td>\n",
       "      <td>1991</td>\n",
       "      <td>механическая</td>\n",
       "      <td>3.0</td>\n",
       "      <td>0</td>\n",
       "      <td>Дубликат</td>\n",
       "      <td>передний</td>\n",
       "      <td>Левый</td>\n",
       "      <td>100000.0</td>\n",
       "      <td>[]</td>\n",
       "      <td>100</td>\n",
       "      <td>EUROPEAN</td>\n",
       "    </tr>\n",
       "    <tr>\n",
       "      <td>...</td>\n",
       "      <td>...</td>\n",
       "      <td>...</td>\n",
       "      <td>...</td>\n",
       "      <td>...</td>\n",
       "      <td>...</td>\n",
       "      <td>...</td>\n",
       "      <td>...</td>\n",
       "      <td>...</td>\n",
       "      <td>...</td>\n",
       "      <td>...</td>\n",
       "      <td>...</td>\n",
       "      <td>...</td>\n",
       "      <td>...</td>\n",
       "      <td>...</td>\n",
       "      <td>...</td>\n",
       "      <td>...</td>\n",
       "      <td>...</td>\n",
       "      <td>...</td>\n",
       "      <td>...</td>\n",
       "      <td>...</td>\n",
       "    </tr>\n",
       "    <tr>\n",
       "      <td>89373</td>\n",
       "      <td>минивэн</td>\n",
       "      <td>SSANG_YONG</td>\n",
       "      <td>чёрный</td>\n",
       "      <td>2.7</td>\n",
       "      <td>163</td>\n",
       "      <td>дизель</td>\n",
       "      <td>260000</td>\n",
       "      <td>2004</td>\n",
       "      <td>5</td>\n",
       "      <td>2006</td>\n",
       "      <td>автоматическая</td>\n",
       "      <td>3.0</td>\n",
       "      <td>0</td>\n",
       "      <td>Оригинал</td>\n",
       "      <td>полный</td>\n",
       "      <td>Левый</td>\n",
       "      <td>450000.0</td>\n",
       "      <td>[]</td>\n",
       "      <td>RODIUS</td>\n",
       "      <td>NaN</td>\n",
       "    </tr>\n",
       "    <tr>\n",
       "      <td>89374</td>\n",
       "      <td>минивэн</td>\n",
       "      <td>SSANG_YONG</td>\n",
       "      <td>серый</td>\n",
       "      <td>2.7</td>\n",
       "      <td>163</td>\n",
       "      <td>дизель</td>\n",
       "      <td>300000</td>\n",
       "      <td>2004</td>\n",
       "      <td>5</td>\n",
       "      <td>2007</td>\n",
       "      <td>автоматическая</td>\n",
       "      <td>3.0</td>\n",
       "      <td>29</td>\n",
       "      <td>Оригинал</td>\n",
       "      <td>полный</td>\n",
       "      <td>Левый</td>\n",
       "      <td>485000.0</td>\n",
       "      <td>[]</td>\n",
       "      <td>RODIUS</td>\n",
       "      <td>NaN</td>\n",
       "    </tr>\n",
       "    <tr>\n",
       "      <td>89375</td>\n",
       "      <td>минивэн</td>\n",
       "      <td>SSANG_YONG</td>\n",
       "      <td>чёрный</td>\n",
       "      <td>2.0</td>\n",
       "      <td>149</td>\n",
       "      <td>дизель</td>\n",
       "      <td>126000</td>\n",
       "      <td>2013</td>\n",
       "      <td>5</td>\n",
       "      <td>2014</td>\n",
       "      <td>автоматическая</td>\n",
       "      <td>1.0</td>\n",
       "      <td>63</td>\n",
       "      <td>Оригинал</td>\n",
       "      <td>полный</td>\n",
       "      <td>Левый</td>\n",
       "      <td>1090000.0</td>\n",
       "      <td>[cruise-control, multi-wheel, airbag-passenger...</td>\n",
       "      <td>STAVIC</td>\n",
       "      <td>NaN</td>\n",
       "    </tr>\n",
       "    <tr>\n",
       "      <td>89376</td>\n",
       "      <td>минивэн</td>\n",
       "      <td>SSANG_YONG</td>\n",
       "      <td>серебристый</td>\n",
       "      <td>2.0</td>\n",
       "      <td>149</td>\n",
       "      <td>дизель</td>\n",
       "      <td>84000</td>\n",
       "      <td>2013</td>\n",
       "      <td>5</td>\n",
       "      <td>2013</td>\n",
       "      <td>автоматическая</td>\n",
       "      <td>3.0</td>\n",
       "      <td>37</td>\n",
       "      <td>Оригинал</td>\n",
       "      <td>полный</td>\n",
       "      <td>Левый</td>\n",
       "      <td>1180000.0</td>\n",
       "      <td>[cruise-control, multi-wheel, airbag-passenger...</td>\n",
       "      <td>STAVIC</td>\n",
       "      <td>NaN</td>\n",
       "    </tr>\n",
       "    <tr>\n",
       "      <td>89377</td>\n",
       "      <td>минивэн</td>\n",
       "      <td>SSANG_YONG</td>\n",
       "      <td>белый</td>\n",
       "      <td>2.0</td>\n",
       "      <td>149</td>\n",
       "      <td>дизель</td>\n",
       "      <td>144000</td>\n",
       "      <td>2013</td>\n",
       "      <td>5</td>\n",
       "      <td>2014</td>\n",
       "      <td>автоматическая</td>\n",
       "      <td>2.0</td>\n",
       "      <td>21</td>\n",
       "      <td>Оригинал</td>\n",
       "      <td>полный</td>\n",
       "      <td>Левый</td>\n",
       "      <td>1075000.0</td>\n",
       "      <td>[]</td>\n",
       "      <td>STAVIC</td>\n",
       "      <td>NaN</td>\n",
       "    </tr>\n",
       "  </tbody>\n",
       "</table>\n",
       "<p>89377 rows × 20 columns</p>\n",
       "</div>"
      ],
      "text/plain": [
       "              bodyType       brand        color  engineDisplacement  \\\n",
       "0                седан        AUDI       чёрный                 2.8   \n",
       "1                седан        AUDI      красный                 1.8   \n",
       "2      универсал 5 дв.        AUDI        синий                 2.3   \n",
       "3                седан        AUDI        серый                 1.8   \n",
       "4                седан        AUDI       чёрный                 2.0   \n",
       "...                ...         ...          ...                 ...   \n",
       "89373          минивэн  SSANG_YONG       чёрный                 2.7   \n",
       "89374          минивэн  SSANG_YONG        серый                 2.7   \n",
       "89375          минивэн  SSANG_YONG       чёрный                 2.0   \n",
       "89376          минивэн  SSANG_YONG  серебристый                 2.0   \n",
       "89377          минивэн  SSANG_YONG        белый                 2.0   \n",
       "\n",
       "       enginePower fuelType  mileage  modelDate  numberOfDoors  \\\n",
       "0              174   бензин   350000       1990              4   \n",
       "1               90   бензин   173424       1982              4   \n",
       "2              136   бензин   230000       1988              5   \n",
       "3               90   бензин   240000       1988              4   \n",
       "4              101   бензин   300000       1990              4   \n",
       "...            ...      ...      ...        ...            ...   \n",
       "89373          163   дизель   260000       2004              5   \n",
       "89374          163   дизель   300000       2004              5   \n",
       "89375          149   дизель   126000       2013              5   \n",
       "89376          149   дизель    84000       2013              5   \n",
       "89377          149   дизель   144000       2013              5   \n",
       "\n",
       "       productionDate vehicleTransmission  Владельцы  Владение       ПТС  \\\n",
       "0                1991        механическая        3.0         0  Оригинал   \n",
       "1                1986        механическая        3.0         0  Оригинал   \n",
       "2                1989        механическая        3.0         0  Оригинал   \n",
       "3                1989        механическая        3.0         0  Оригинал   \n",
       "4                1991        механическая        3.0         0  Дубликат   \n",
       "...               ...                 ...        ...       ...       ...   \n",
       "89373            2006      автоматическая        3.0         0  Оригинал   \n",
       "89374            2007      автоматическая        3.0        29  Оригинал   \n",
       "89375            2014      автоматическая        1.0        63  Оригинал   \n",
       "89376            2013      автоматическая        3.0        37  Оригинал   \n",
       "89377            2014      автоматическая        2.0        21  Оригинал   \n",
       "\n",
       "         Привод   Руль      price  \\\n",
       "0        полный  Левый   200000.0   \n",
       "1      передний  Левый    60000.0   \n",
       "2        полный  Левый    99000.0   \n",
       "3      передний  Левый    65000.0   \n",
       "4      передний  Левый   100000.0   \n",
       "...         ...    ...        ...   \n",
       "89373    полный  Левый   450000.0   \n",
       "89374    полный  Левый   485000.0   \n",
       "89375    полный  Левый  1090000.0   \n",
       "89376    полный  Левый  1180000.0   \n",
       "89377    полный  Левый  1075000.0   \n",
       "\n",
       "                                          equipment_dict model_name    vendor  \n",
       "0                                                     []        100  EUROPEAN  \n",
       "1                                                     []        100  EUROPEAN  \n",
       "2                                                     []        100  EUROPEAN  \n",
       "3                                                     []        100  EUROPEAN  \n",
       "4                                                     []        100  EUROPEAN  \n",
       "...                                                  ...        ...       ...  \n",
       "89373                                                 []     RODIUS       NaN  \n",
       "89374                                                 []     RODIUS       NaN  \n",
       "89375  [cruise-control, multi-wheel, airbag-passenger...     STAVIC       NaN  \n",
       "89376  [cruise-control, multi-wheel, airbag-passenger...     STAVIC       NaN  \n",
       "89377                                                 []     STAVIC       NaN  \n",
       "\n",
       "[89377 rows x 20 columns]"
      ]
     },
     "execution_count": 257,
     "metadata": {},
     "output_type": "execute_result"
    }
   ],
   "source": [
    "%%time\n",
    "train_0909_unification(df_full)"
   ]
  },
  {
   "cell_type": "markdown",
   "metadata": {},
   "source": [
    "## =================PARS==========================="
   ]
  },
  {
   "cell_type": "code",
   "execution_count": 258,
   "metadata": {},
   "outputs": [],
   "source": [
    "pars = pd.read_csv('./Project_7_data/train_new.csv')"
   ]
  },
  {
   "cell_type": "code",
   "execution_count": 259,
   "metadata": {},
   "outputs": [
    {
     "name": "stdout",
     "output_type": "stream",
     "text": [
      "car_url\n",
      "engineDisplacement\n",
      "vehicleTransmission\n",
      "Руль\n",
      "sell_id\n",
      "modelDate\n",
      "color\n",
      "Привод\n",
      "productionDate\n",
      "numberOfDoors\n",
      "vendor\n",
      "Владельцы\n",
      "mileage\n",
      "enginePower\n",
      "model_name\n",
      "ПТС\n",
      "bodyType\n",
      "equipment_dict\n",
      "brand\n"
     ]
    }
   ],
   "source": [
    "[print (x) for x in set(pars.columns) & set(test.columns)];"
   ]
  },
  {
   "cell_type": "markdown",
   "metadata": {},
   "source": [
    "#### car_url"
   ]
  },
  {
   "cell_type": "code",
   "execution_count": 260,
   "metadata": {},
   "outputs": [
    {
     "name": "stdout",
     "output_type": "stream",
     "text": [
      "https://auto.ru/cars/used/sale/skoda/octavia_rs/1100912634-456da88e/\n"
     ]
    }
   ],
   "source": [
    "print(test.car_url[5])"
   ]
  },
  {
   "cell_type": "code",
   "execution_count": 261,
   "metadata": {},
   "outputs": [
    {
     "name": "stdout",
     "output_type": "stream",
     "text": [
      "https://auto.ru/cars/used/sale/skoda/fabia/1114894898-c8987686/\n"
     ]
    }
   ],
   "source": [
    "print(pars.car_url[5])"
   ]
  },
  {
   "cell_type": "markdown",
   "metadata": {},
   "source": [
    "#### engineDisplacement"
   ]
  },
  {
   "cell_type": "code",
   "execution_count": 262,
   "metadata": {},
   "outputs": [
    {
     "data": {
      "text/plain": [
       "array([1.2, 1.6, 1.8, 2. , 1.4, 1.3, 1. , 3.6, 1.5, 1.9, 2.8, 1.1, 2.5,\n",
       "       4.2, 3. , 4. , 5.9, 2.7, 3.1, 2.4, 5.2, 3.2, 4.1, 6.3, 2.3, 6. ,\n",
       "       2.2, 3.7, 2.9, 5. , 3.3, 2.1, 2.6, nan, 3.5, 1.7, 0.7, 4.4, 4.8,\n",
       "       5.4, 6.6, 4.9, 3.8, 3.4, 3.9, 4.6, 5.6, 4.5, 5.5, 6.2, 4.7, 4.3,\n",
       "       5.8, 5.3, 5.7])"
      ]
     },
     "execution_count": 262,
     "metadata": {},
     "output_type": "execute_result"
    }
   ],
   "source": [
    "test.engineDisplacement.apply(\n",
    "    lambda x: float(x[:-4]) if x[:-4] else np.NaN).unique()"
   ]
  },
  {
   "cell_type": "code",
   "execution_count": 263,
   "metadata": {},
   "outputs": [
    {
     "data": {
      "text/plain": [
       "array([1.4, 1.2, 1.6, nan, 1.3, 2. , 1.5, 1.8, 2.8, 1.9, 3.6, 3. , 2.5,\n",
       "       2.2, 3.5, 4.4, 2.7, 0.6, 4.8, 3.4, 6. , 5. , 5.4, 4. , 2.9, 6.6,\n",
       "       0.7, 3.3, 4.9, 4.6, 3.2, 2.4, 2.3, 1.7, 3.7, 4.5, 5.6, 2.1, 2.6,\n",
       "       6.2, 5.5, 5.8, 4.7, 4.2, 4.3, 3.8, 1. , 5.7, 4.1, 3.1, 5.9, 5.2])"
      ]
     },
     "execution_count": 263,
     "metadata": {},
     "output_type": "execute_result"
    }
   ],
   "source": [
    "pars.engineDisplacement.unique()"
   ]
  },
  {
   "cell_type": "markdown",
   "metadata": {},
   "source": [
    "#### vehicleTransmission"
   ]
  },
  {
   "cell_type": "code",
   "execution_count": 264,
   "metadata": {},
   "outputs": [
    {
     "data": {
      "text/plain": [
       "(array(['роботизированная', 'механическая', 'автоматическая', 'вариатор'],\n",
       "       dtype=object),\n",
       " array(['механическая', 'роботизированная', 'автоматическая', nan,\n",
       "        'вариатор'], dtype=object))"
      ]
     },
     "execution_count": 264,
     "metadata": {},
     "output_type": "execute_result"
    }
   ],
   "source": [
    "test.vehicleTransmission.unique() ,pars.vehicleTransmission.unique()"
   ]
  },
  {
   "cell_type": "markdown",
   "metadata": {},
   "source": [
    "#### Руль"
   ]
  },
  {
   "cell_type": "code",
   "execution_count": 265,
   "metadata": {},
   "outputs": [
    {
     "data": {
      "text/plain": [
       "(array(['Левый', 'Правый'], dtype=object),\n",
       " array(['Левый', nan, 'Правый'], dtype=object))"
      ]
     },
     "execution_count": 265,
     "metadata": {},
     "output_type": "execute_result"
    }
   ],
   "source": [
    "test.Руль.unique(),pars.Руль.unique()"
   ]
  },
  {
   "cell_type": "markdown",
   "metadata": {},
   "source": [
    "#### sell_id"
   ]
  },
  {
   "cell_type": "code",
   "execution_count": 266,
   "metadata": {},
   "outputs": [
    {
     "data": {
      "text/plain": [
       "(1100575026, 1114778882)"
      ]
     },
     "execution_count": 266,
     "metadata": {},
     "output_type": "execute_result"
    }
   ],
   "source": [
    "test.sell_id[0],pars.sell_id[0]"
   ]
  },
  {
   "cell_type": "markdown",
   "metadata": {},
   "source": [
    "#### modelDate"
   ]
  },
  {
   "cell_type": "code",
   "execution_count": 267,
   "metadata": {},
   "outputs": [
    {
     "data": {
      "text/plain": [
       "array([2013., 2017., 2008., 2009., 2016., 2012., 2015., 2010., 2006.,\n",
       "       2000., 2007., 1994., 2004., 1999., 2005., 1976., 2001., 1969.,\n",
       "       1996., 1998., 1989., 1934., 2014., 2011., 2018., 1986., 1997.,\n",
       "       1990., 2019., 2002., 1991., 1987., 1980., 1982., 1938., 1988.,\n",
       "       2003., 1983., 1978., 1979., 1984., 1992., 1995., 1993., 1985.,\n",
       "       1974., 1966., 1977., 1981., 1972., 1968., 1975., 1949., 1937.,\n",
       "       1936., 1973., 1959., 1958., 2020., 1965., 1971., 1904., 1963.,\n",
       "       1955., 1951., 1960.])"
      ]
     },
     "execution_count": 267,
     "metadata": {},
     "output_type": "execute_result"
    }
   ],
   "source": [
    "test.modelDate = test.modelDate.astype(float)\n",
    "test.modelDate.unique()"
   ]
  },
  {
   "cell_type": "code",
   "execution_count": 268,
   "metadata": {},
   "outputs": [
    {
     "data": {
      "text/plain": [
       "array([2010., 2005., 2007.,   nan, 2001., 2000., 2002., 2011., 1995.,\n",
       "       1996., 1998., 1994., 2020., 2017., 2013., 2008., 2014., 2018.,\n",
       "       2015., 2006., 2004., 2019., 2012., 1939., 1949., 1991., 1999.,\n",
       "       1992., 1985., 2016., 1977., 2021., 1983., 2003., 1988., 1987.,\n",
       "       1986., 2009., 1993., 1990., 1989., 1997., 1960., 1966., 1982.,\n",
       "       1980., 1984., 1979., 1978., 1967., 1981., 1972.])"
      ]
     },
     "execution_count": 268,
     "metadata": {},
     "output_type": "execute_result"
    }
   ],
   "source": [
    "model_generation_year = pd.read_csv(\".\\Project_7_data\\model_generation_year.csv\")\n",
    "model_generation_year = dict(zip(model_generation_year.full_name + ' ' + model_generation_year.bodytype,\n",
    "         model_generation_year.generation_year))\n",
    "pars.modelDate = (pars.modelDate + ' ' + pars.bodyType).map(model_generation_year)\n",
    "\n",
    "pars.modelDate.unique()"
   ]
  },
  {
   "cell_type": "markdown",
   "metadata": {},
   "source": [
    "#### color"
   ]
  },
  {
   "cell_type": "code",
   "execution_count": 269,
   "metadata": {},
   "outputs": [
    {
     "data": {
      "text/plain": [
       "{nan}"
      ]
     },
     "execution_count": 269,
     "metadata": {},
     "output_type": "execute_result"
    }
   ],
   "source": [
    "set(pars.color.unique()) - set(test.color.unique())"
   ]
  },
  {
   "cell_type": "markdown",
   "metadata": {},
   "source": [
    "#### Привод"
   ]
  },
  {
   "cell_type": "code",
   "execution_count": 270,
   "metadata": {},
   "outputs": [
    {
     "data": {
      "text/plain": [
       "(array(['передний', 'полный', 'задний'], dtype=object),\n",
       " array(['передний', nan, 'полный', 'задний'], dtype=object))"
      ]
     },
     "execution_count": 270,
     "metadata": {},
     "output_type": "execute_result"
    }
   ],
   "source": [
    "test.Привод.unique(),pars.Привод.unique()"
   ]
  },
  {
   "cell_type": "markdown",
   "metadata": {},
   "source": [
    "#### productionDate"
   ]
  },
  {
   "cell_type": "code",
   "execution_count": 271,
   "metadata": {},
   "outputs": [
    {
     "data": {
      "text/plain": [
       "0    2014.0\n",
       "1    2017.0\n",
       "2    2014.0\n",
       "3    2014.0\n",
       "4    2012.0\n",
       "Name: productionDate, dtype: float64"
      ]
     },
     "execution_count": 271,
     "metadata": {},
     "output_type": "execute_result"
    }
   ],
   "source": [
    "test.productionDate = test.productionDate.astype(float)\n",
    "test.productionDate[:5]"
   ]
  },
  {
   "cell_type": "code",
   "execution_count": 272,
   "metadata": {},
   "outputs": [
    {
     "data": {
      "text/plain": [
       "0    2014.0\n",
       "1    2012.0\n",
       "2    2014.0\n",
       "3    2012.0\n",
       "4    2013.0\n",
       "Name: productionDate, dtype: float64"
      ]
     },
     "execution_count": 272,
     "metadata": {},
     "output_type": "execute_result"
    }
   ],
   "source": [
    "pars.productionDate[:5]"
   ]
  },
  {
   "cell_type": "markdown",
   "metadata": {},
   "source": [
    "#### numberOfDoors"
   ]
  },
  {
   "cell_type": "code",
   "execution_count": 273,
   "metadata": {},
   "outputs": [
    {
     "data": {
      "text/plain": [
       "array([5., 4., 2., 3., 0.])"
      ]
     },
     "execution_count": 273,
     "metadata": {},
     "output_type": "execute_result"
    }
   ],
   "source": [
    "test.numberOfDoors = test.numberOfDoors.astype(float)\n",
    "test.numberOfDoors.unique()"
   ]
  },
  {
   "cell_type": "code",
   "execution_count": 274,
   "metadata": {},
   "outputs": [
    {
     "data": {
      "text/plain": [
       "array([ 5., nan,  3.,  2.])"
      ]
     },
     "execution_count": 274,
     "metadata": {},
     "output_type": "execute_result"
    }
   ],
   "source": [
    "pars.numberOfDoors.unique()"
   ]
  },
  {
   "cell_type": "markdown",
   "metadata": {},
   "source": [
    "#### vendor"
   ]
  },
  {
   "cell_type": "code",
   "execution_count": 275,
   "metadata": {},
   "outputs": [
    {
     "data": {
      "text/plain": [
       "(array(['EUROPEAN', 'JAPANESE'], dtype=object),\n",
       " array(['EUROPEAN', 'NAN', 'JAPANESE'], dtype=object))"
      ]
     },
     "execution_count": 275,
     "metadata": {},
     "output_type": "execute_result"
    }
   ],
   "source": [
    "test.vendor.unique(), pars.vendor.unique()"
   ]
  },
  {
   "cell_type": "markdown",
   "metadata": {},
   "source": [
    "#### Владельцы"
   ]
  },
  {
   "cell_type": "code",
   "execution_count": 276,
   "metadata": {},
   "outputs": [],
   "source": [
    "owner_dict = {\n",
    "    '3 или более': 3., \n",
    "    '2\\xa0владельца': 2.,\n",
    "    '1\\xa0владелец': 1.\n",
    "}\n",
    "test.Владельцы = test.Владельцы.map(owner_dict)\n",
    "pars.Владельцы = pars.Владельцы.map(owner_dict)"
   ]
  },
  {
   "cell_type": "code",
   "execution_count": 277,
   "metadata": {},
   "outputs": [
    {
     "data": {
      "text/plain": [
       "(array([3., 1., 2.]), array([ 2.,  3.,  1., nan]))"
      ]
     },
     "execution_count": 277,
     "metadata": {},
     "output_type": "execute_result"
    }
   ],
   "source": [
    "test.Владельцы.unique(), pars.Владельцы.unique()"
   ]
  },
  {
   "cell_type": "markdown",
   "metadata": {},
   "source": [
    "#### mileage"
   ]
  },
  {
   "cell_type": "code",
   "execution_count": 278,
   "metadata": {},
   "outputs": [
    {
     "data": {
      "text/plain": [
       "array([ 74000.,  60563.,  88000., ..., 121276., 212678., 157965.])"
      ]
     },
     "execution_count": 278,
     "metadata": {},
     "output_type": "execute_result"
    }
   ],
   "source": [
    "test.mileage = test.mileage.astype(float)\n",
    "test.mileage.unique()"
   ]
  },
  {
   "cell_type": "code",
   "execution_count": 279,
   "metadata": {},
   "outputs": [
    {
     "data": {
      "text/plain": [
       "array([121000., 108980., 122000., ..., 413708., 410361., 255580.])"
      ]
     },
     "execution_count": 279,
     "metadata": {},
     "output_type": "execute_result"
    }
   ],
   "source": [
    "pars.mileage.unique()"
   ]
  },
  {
   "cell_type": "markdown",
   "metadata": {},
   "source": [
    "#### enginePower"
   ]
  },
  {
   "cell_type": "code",
   "execution_count": 280,
   "metadata": {},
   "outputs": [
    {
     "data": {
      "text/plain": [
       "array([105., 110., 152., 200., 102., 150.,  90., 180., 220., 122.,  70.,\n",
       "       140., 125.,  54.,  86.,  75.,  64.,  95., 260., 170.,  80.,  68.,\n",
       "       160., 115., 280.,  53.,  60., 143.,  42., 101.,  58., 193.,  79.,\n",
       "        30., 100.,  50., 163., 225., 420., 211., 245., 560., 500., 249.,\n",
       "       450., 605., 250., 354., 120., 290., 230., 350., 204., 255., 340.,\n",
       "       177., 272., 372., 210., 130., 300., 190., 239., 435., 333., 271.,\n",
       "       326., 238., 310., 233., 252., 133., 460., 520., 400., 525., 367.,\n",
       "       265., 550., 580.,  88., 165., 430., 335., 174., 224., 136., 256.,\n",
       "       338., 112., 218., 360.,  93., 182., 113., 240., 270., 137., 155.,\n",
       "        61., 254., 116.,  71., 285., 408., 166., 156., 257., 201., 162.,\n",
       "       194., 142., 154., 147., 281., 243., 118., 128.,  91.,  83., 205.,\n",
       "       247., 188., 295., 275.,  78., 109.,  94., 185., 258., 145., 132.,\n",
       "       135.,  52.,  66., 124.,  98., 215., 158.,  99., 103., 131., 126.,\n",
       "       235., 181., 315., 203., 231.,  82., 304., 175., 320., 213., 144.,\n",
       "       146., 151., 111., 286., 306., 107., 184., 313., 264., 575., 407.,\n",
       "       192., 129., 555., 625., 329., 370., 381., 269., 600., 510., 544.,\n",
       "       462., 355., 507., 609., 431., 530., 387., 610., 197., 343., 445.,\n",
       "       171.,  51.,  46., 347., 321., 167., 141., 169., 405., 117., 114.,\n",
       "       173., 234., 540., 106.,  49., 248., 317., 309.,  97., 121., 268.,\n",
       "       149.,  87.,  85.,  65.,  67., 127., 485., 186., 222., 307., 262.,\n",
       "       302., 284., 325., 168., 221., 330., 283., 328., 303., 278., 388.,\n",
       "       571., 585., 612., 401., 279., 455., 382., 557., 517., 394., 422.,\n",
       "       292., 469., 522., 296., 639., 390., 476., 630., 402., 487., 558.,\n",
       "       421., 316., 514., 457., 626., 242.,  38.,  32., 223.,  72., 305.,\n",
       "       183., 273., 159.,  76., 148., 179.,  73., 277., 282., 178., 288.,\n",
       "       199., 266.,  92.,  74., 324., 232., 157.,  69., 212., 276., 202.,\n",
       "        77., 164.,  96.,  84., 228., 108., 208., 263., 294., 318., 380.,\n",
       "       219., 214., 383., 241.,  57.,  55., 104.,  48.,  40.,  44., 227.,\n",
       "       139., 209., 195., 189., 480., 591., 301.])"
      ]
     },
     "execution_count": 280,
     "metadata": {},
     "output_type": "execute_result"
    }
   ],
   "source": [
    "test.enginePower = test.enginePower.apply(lambda x: int(x[:-4])).astype(float)\n",
    "test.enginePower.unique()[:5]"
   ]
  },
  {
   "cell_type": "code",
   "execution_count": 281,
   "metadata": {},
   "outputs": [
    {
     "data": {
      "text/plain": [
       "array([ 86., 105.,  70.,  54.,  60.,  nan,  75.,  68.,  64., 101., 180.,\n",
       "        58., 150., 110., 125., 190., 102., 140., 152., 122., 160., 143.,\n",
       "        80., 200., 220.,  90., 193., 170., 260., 136., 177., 115., 265.,\n",
       "       129., 156., 306., 218., 163., 320., 204., 184., 116., 326.,  95.,\n",
       "        46.,  51., 245., 258., 192., 249., 113., 374., 272., 387., 231.,\n",
       "       118., 100., 252., 340., 235., 530., 300., 462., 407.,  19., 450.,\n",
       "       313., 333., 367., 238., 400., 211., 544., 381., 286., 185., 445.,\n",
       "       610., 609., 197., 188., 410., 370., 420., 510., 431., 343., 460.,\n",
       "       560., 625., 600., 507., 315., 635., 248., 360., 347., 355., 264.,\n",
       "       269., 575., 555., 321., 212., 201., 155., 154., 240., 145., 132.,\n",
       "        53., 158., 142., 174.,  91., 130., 120.,  71., 109., 169., 166.,\n",
       "       186., 128., 147., 162., 112., 275., 271., 194., 281.,  88., 131.,\n",
       "       124.,  83.,  78., 205., 295.,  52.,  66., 257., 243., 133., 135.,\n",
       "       250., 247., 237., 302., 222., 307., 280., 328., 390., 284., 408.,\n",
       "       278., 149., 405., 221., 325., 262., 283.,  82., 639., 585., 435.,\n",
       "       522., 487., 476., 457., 388., 517., 279., 525., 612., 500., 224.,\n",
       "       292., 557., 514., 401., 354., 571., 210., 330., 422., 296., 215.,\n",
       "       700., 382., 558., 455., 469., 503., 394., 630., 564., 670., 537.,\n",
       "       421., 626., 591., 114.,  98.,  55.,  94.,  72., 234., 126.,  40.,\n",
       "        87.,  99., 107., 175.,  79.,  49.,  85., 104., 540., 485., 117.,\n",
       "       268., 255.,  65., 270., 153., 165., 106., 141., 144., 137.,  97.,\n",
       "        73., 173., 182., 167., 103., 171., 277., 228., 161., 208., 317.,\n",
       "       226., 219., 477., 263., 181., 310., 380., 282., 290., 383., 318.,\n",
       "       276., 223., 230., 294., 288.,  74., 148.,  92., 206., 203., 159.,\n",
       "       225.,  89.,  84., 256., 239., 151., 273., 232., 157., 415., 299.,\n",
       "       309., 178.,  69.,  76.,  77., 146., 179., 199., 189., 266., 233.,\n",
       "       187., 335., 350., 372., 385., 605., 580., 344., 520., 304., 213.,\n",
       "        50., 241.,  67.,  57.,  48.,  47., 139., 227., 202., 209.])"
      ]
     },
     "execution_count": 281,
     "metadata": {},
     "output_type": "execute_result"
    }
   ],
   "source": [
    "pars.enginePower.unique()[:5]"
   ]
  },
  {
   "cell_type": "markdown",
   "metadata": {},
   "source": [
    "#### model_name"
   ]
  },
  {
   "cell_type": "code",
   "execution_count": 285,
   "metadata": {},
   "outputs": [
    {
     "data": {
      "text/plain": [
       "array(['OCTAVIA', 'SUPERB', 'OCTAVIA_RS', 'YETI', 'KODIAQ'], dtype=object)"
      ]
     },
     "execution_count": 285,
     "metadata": {},
     "output_type": "execute_result"
    }
   ],
   "source": [
    "test.model_name.unique()[:5]"
   ]
  },
  {
   "cell_type": "code",
   "execution_count": 284,
   "metadata": {},
   "outputs": [
    {
     "data": {
      "text/plain": [
       "array(['Fabia', nan, 'Fabia RS', 'Felicia', 'Forman'], dtype=object)"
      ]
     },
     "execution_count": 284,
     "metadata": {},
     "output_type": "execute_result"
    }
   ],
   "source": [
    "pars.model_name.unique()[:5]"
   ]
  },
  {
   "cell_type": "markdown",
   "metadata": {},
   "source": [
    "#### ПТС"
   ]
  },
  {
   "cell_type": "code",
   "execution_count": 289,
   "metadata": {},
   "outputs": [
    {
     "data": {
      "text/plain": [
       "(array(['Оригинал', 'Дубликат', nan], dtype=object),\n",
       " array(['Оригинал', 'Дубликат', nan], dtype=object))"
      ]
     },
     "execution_count": 289,
     "metadata": {},
     "output_type": "execute_result"
    }
   ],
   "source": [
    "test.ПТС.unique(), pars.ПТС.unique()"
   ]
  },
  {
   "cell_type": "markdown",
   "metadata": {},
   "source": [
    "#### bodyType"
   ]
  },
  {
   "cell_type": "code",
   "execution_count": 294,
   "metadata": {},
   "outputs": [
    {
     "data": {
      "text/plain": [
       "{'фастбек'}"
      ]
     },
     "execution_count": 294,
     "metadata": {},
     "output_type": "execute_result"
    }
   ],
   "source": [
    "set(test.bodyType.unique()) - set(pars.bodyType.unique())"
   ]
  },
  {
   "cell_type": "markdown",
   "metadata": {},
   "source": [
    "#### equipment_dict"
   ]
  },
  {
   "cell_type": "code",
   "execution_count": 298,
   "metadata": {},
   "outputs": [],
   "source": [
    "test.equipment_dict = test.equipment_dict.apply(lambda x: list(json.loads(x).keys()) if x==x else [])"
   ]
  },
  {
   "cell_type": "code",
   "execution_count": 340,
   "metadata": {},
   "outputs": [],
   "source": [
    "pars.equipment_dict = pars.equipment_dict[:50].apply(\n",
    "    lambda x: pd.Series(list(json.loads(x.replace(\"'\",'\"')).values())).sum()\n",
    "    if x==x else x)"
   ]
  },
  {
   "cell_type": "code",
   "execution_count": null,
   "metadata": {},
   "outputs": [],
   "source": []
  },
  {
   "cell_type": "code",
   "execution_count": 348,
   "metadata": {},
   "outputs": [
    {
     "data": {
      "text/plain": [
       "(['engine-proof', 'tinted-glass'],\n",
       " ['Подушка безопасности водителя', 'Подушка безопасности пассажира'])"
      ]
     },
     "execution_count": 348,
     "metadata": {},
     "output_type": "execute_result"
    }
   ],
   "source": [
    "test.equipment_dict[0][:2],pars.equipment_dict[0][:2]"
   ]
  },
  {
   "cell_type": "markdown",
   "metadata": {},
   "source": [
    "#### 'description'"
   ]
  },
  {
   "cell_type": "code",
   "execution_count": 349,
   "metadata": {},
   "outputs": [
    {
     "data": {
      "text/plain": [
       "'Все автомобили, представленные в продаже, проходят тщательную проверку по более 40 параметрам. Предоставляем гарантию юридической чистоты, а так же год технической гарантии на двигатель и КПП. Бесплатный тест-драйв. Возможно оформление автомобиля в кредит!\\n\\nПреимущества автокредитования:\\n— Первоначальный взнос от 0%;\\n— Более 30 кредитных программ;\\n— Процентная ставка от 6% годовых;\\n— Срок кредита от 6 месяцев до 7 лет;\\n— Оформление кредита по двум документам;\\n— Досрочное погашение без штрафов и комиссий;\\n— Сумма кредита до 2 млн рублей;\\n— Оформление КАСКО – по желанию;\\n— Без справок и поручителей.\\n\\nСотрудничаем с 12 аккредитованными и сертифицированными банками РФ, среднее время ожидания решения банка 20–30 минут.\\n\\nПри покупке автомобиля по программе «Trade-in – выгодный обмен» или в кредит, получите дополнительную скидку до 80 000 рублей на данный автомобиль!\\n\\nЗаписаться на тест-драйв, а так же получить подробную информацию можно у специалистов автоцентра по указанному номеру телефона.'"
      ]
     },
     "execution_count": 349,
     "metadata": {},
     "output_type": "execute_result"
    }
   ],
   "source": [
    "test.description[0]"
   ]
  },
  {
   "cell_type": "code",
   "execution_count": 350,
   "metadata": {},
   "outputs": [],
   "source": [
    "# pars.description[0]"
   ]
  },
  {
   "cell_type": "markdown",
   "metadata": {},
   "source": [
    "#### brand"
   ]
  },
  {
   "cell_type": "code",
   "execution_count": 351,
   "metadata": {},
   "outputs": [
    {
     "data": {
      "text/plain": [
       "array(['SKODA', 'AUDI', 'HONDA', 'VOLVO', 'BMW', 'NISSAN', 'INFINITI',\n",
       "       'MERCEDES', 'TOYOTA', 'LEXUS', 'VOLKSWAGEN', 'MITSUBISHI'],\n",
       "      dtype=object)"
      ]
     },
     "execution_count": 351,
     "metadata": {},
     "output_type": "execute_result"
    }
   ],
   "source": [
    "test.brand.unique()"
   ]
  },
  {
   "cell_type": "code",
   "execution_count": 352,
   "metadata": {},
   "outputs": [
    {
     "data": {
      "text/plain": [
       "array(['SKODA', nan, 'BMW', 'HONDA', 'INFINITI', 'MERCEDES-BENZ',\n",
       "       'NISSAN', 'LEXUS', 'TOYOTA', 'AUDI', 'VOLVO', 'VOLKSWAGEN',\n",
       "       'MITSUBISHI'], dtype=object)"
      ]
     },
     "execution_count": 352,
     "metadata": {},
     "output_type": "execute_result"
    }
   ],
   "source": [
    "pars.brand.unique()"
   ]
  },
  {
   "cell_type": "markdown",
   "metadata": {},
   "source": [
    "#### offerprice"
   ]
  },
  {
   "cell_type": "code",
   "execution_count": 355,
   "metadata": {},
   "outputs": [
    {
     "data": {
      "text/plain": [
       "0         470000.0\n",
       "1         849000.0\n",
       "2         470000.0\n",
       "3         565000.0\n",
       "4        1103000.0\n",
       "           ...    \n",
       "23216     320000.0\n",
       "23217     269000.0\n",
       "23218     190000.0\n",
       "23219     420000.0\n",
       "23220     110000.0\n",
       "Name: offerprice, Length: 23221, dtype: float64"
      ]
     },
     "execution_count": 355,
     "metadata": {},
     "output_type": "execute_result"
    }
   ],
   "source": [
    "pars.offerprice"
   ]
  },
  {
   "cell_type": "markdown",
   "metadata": {},
   "source": [
    "## ===================EDA==========================="
   ]
  },
  {
   "cell_type": "code",
   "execution_count": null,
   "metadata": {},
   "outputs": [],
   "source": []
  }
 ],
 "metadata": {
  "kernelspec": {
   "display_name": "Python 3",
   "language": "python",
   "name": "python3"
  },
  "language_info": {
   "codemirror_mode": {
    "name": "ipython",
    "version": 3
   },
   "file_extension": ".py",
   "mimetype": "text/x-python",
   "name": "python",
   "nbconvert_exporter": "python",
   "pygments_lexer": "ipython3",
   "version": "3.7.4"
  }
 },
 "nbformat": 4,
 "nbformat_minor": 2
}
