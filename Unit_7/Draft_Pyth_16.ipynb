{
 "cells": [
  {
   "cell_type": "code",
   "execution_count": 190,
   "id": "31e9fb0e",
   "metadata": {},
   "outputs": [],
   "source": [
    "import requests  \n",
    "\n",
    "from pprint import pprint"
   ]
  },
  {
   "cell_type": "markdown",
   "id": "dbf2f763",
   "metadata": {},
   "source": [
    "отправим запрос к сервису с помощью метода GET к сервису с курсами валют:"
   ]
  },
  {
   "cell_type": "code",
   "execution_count": 191,
   "id": "586c93dc",
   "metadata": {},
   "outputs": [],
   "source": [
    "response = requests.get('https://www.cbr-xml-daily.ru/daily_json.js')  "
   ]
  },
  {
   "cell_type": "markdown",
   "id": "af77aa95",
   "metadata": {},
   "source": [
    "Посмотрим, что получили в ответ:"
   ]
  },
  {
   "cell_type": "code",
   "execution_count": 192,
   "id": "07d3260d",
   "metadata": {},
   "outputs": [
    {
     "name": "stdout",
     "output_type": "stream",
     "text": [
      "<Response [200]>\n"
     ]
    }
   ],
   "source": [
    "print(response)  "
   ]
  },
  {
   "cell_type": "markdown",
   "id": "94edc9dc",
   "metadata": {},
   "source": [
    "Мы получили объект ответа, который содержит всю нужную нам информацию. По умолчанию на экран выводится HTTP-код ответа 200. Это означает, что запрос был корректным, и сервер отдал нам нужную информацию.\n",
    "\n",
    "Код ответа в виде числа можно получить с помощью метода status_code:"
   ]
  },
  {
   "cell_type": "code",
   "execution_count": 193,
   "id": "f01c1d81",
   "metadata": {},
   "outputs": [
    {
     "name": "stdout",
     "output_type": "stream",
     "text": [
      "200\n"
     ]
    }
   ],
   "source": [
    "print(response.status_code)  "
   ]
  },
  {
   "cell_type": "markdown",
   "id": "2c746ec4",
   "metadata": {},
   "source": [
    "## Задание 1 - Первый запрос\n",
    "Допустим, вы уже импортировали модуль `requests` в ваш код. Какая команда сделает **GET запрос** к сайту https://www.cbr-xml-daily.ru/daily.xml и положит результат в переменную **response**?"
   ]
  },
  {
   "cell_type": "code",
   "execution_count": 194,
   "id": "51fd48bf",
   "metadata": {},
   "outputs": [],
   "source": [
    "response = requests.get('https://www.cbr-xml-daily.ru/daily.xml')"
   ]
  },
  {
   "cell_type": "markdown",
   "id": "fa654de1",
   "metadata": {},
   "source": [
    "Мы сделали запрос и получили ответ. Давайте теперь посмотрим, как считывать текст. \n",
    "\n",
    "Адрес, по которому мы обращались, возвращает результат в `json` формате. Эти данные уже лежат в атрибуте `text` в полученном ответе `response`:"
   ]
  },
  {
   "cell_type": "code",
   "execution_count": 195,
   "id": "a412e724",
   "metadata": {
    "scrolled": true
   },
   "outputs": [
    {
     "name": "stdout",
     "output_type": "stream",
     "text": [
      "{\n",
      "    \"Date\": \"2021-12-31T11:30:00+03:00\",\n",
      "    \"PreviousDate\": \"2021-12-30T11:30:00+03:00\",\n",
      "    \"PreviousURL\": \"\\/\\/www.cbr-xml-daily.ru\\/archive\\/2021\\/12\\/30\\/daily_json.js\",\n",
      "    \"Timestamp\": \"2022-01-02T23:00:00+03:00\",\n",
      "    \"Valute\": {\n",
      "        \"AUD\": {\n",
      "            \"ID\": \"R01010\",\n",
      "            \"NumCode\": \"036\",\n",
      "            \"CharCode\": \"AUD\",\n",
      "            \"Nominal\": 1,\n",
      "            \"Name\": \"Австралийский доллар\",\n",
      "            \"Value\": 53.9141,\n",
      "            \"Previous\": 53.2573\n",
      "        },\n",
      "        \"AZN\": {\n",
      "            \"ID\": \"R01020A\",\n",
      "            \"NumCode\": \"944\",\n",
      "            \"CharCode\": \"AZN\",\n",
      "            \"Nominal\": 1,\n",
      "            \"Name\": \"Азербайджанский манат\",\n",
      "            \"Value\": 43.7273,\n",
      "            \"Previous\": 43.3499\n",
      "        },\n",
      "        \"GBP\": {\n",
      "            \"ID\": \"R01035\",\n",
      "            \"NumCode\": \"826\",\n",
      "            \"CharCode\": \"GBP\",\n",
      "            \"Nominal\": 1,\n",
      "            \"Name\": \"Фунт стерлингов Соединенного королевства\",\n",
      "            \"Value\": 100.0573,\n",
      "            \"Previous\": 98.8254\n",
      "        },\n",
      "        \"AMD\": {\n",
      "            \"ID\": \"R01060\",\n",
      "            \"NumCode\": \"051\",\n",
      "            \"CharCode\": \"AMD\",\n",
      "            \"Nominal\": 100,\n",
      "            \"Name\": \"Армянских драмов\",\n",
      "            \"Value\": 15.5164,\n",
      "            \"Previous\": 14.9576\n",
      "        },\n",
      "        \"BYN\": {\n",
      "            \"ID\": \"R01090B\",\n",
      "            \"NumCode\": \"933\",\n",
      "            \"CharCode\": \"BYN\",\n",
      "            \"Nominal\": 1,\n",
      "            \"Name\": \"Белорусский рубль\",\n",
      "            \"Value\": 29.1458,\n",
      "            \"Previous\": 29.1608\n",
      "        },\n",
      "        \"BGN\": {\n",
      "            \"ID\": \"R01100\",\n",
      "            \"NumCode\": \"975\",\n",
      "            \"CharCode\": \"BGN\",\n",
      "            \"Nominal\": 1,\n",
      "            \"Name\": \"Болгарский лев\",\n",
      "            \"Value\": 42.9487,\n",
      "            \"Previous\": 42.492\n",
      "        },\n",
      "        \"BRL\": {\n",
      "            \"ID\": \"R01115\",\n",
      "            \"NumCode\": \"986\",\n",
      "            \"CharCode\": \"BRL\",\n",
      "            \"Nominal\": 1,\n",
      "            \"Name\": \"Бразильский реал\",\n",
      "            \"Value\": 13.0253,\n",
      "            \"Previous\": 13.0847\n",
      "        },\n",
      "        \"HUF\": {\n",
      "            \"ID\": \"R01135\",\n",
      "            \"NumCode\": \"348\",\n",
      "            \"CharCode\": \"HUF\",\n",
      "            \"Nominal\": 100,\n",
      "            \"Name\": \"Венгерских форинтов\",\n",
      "            \"Value\": 22.7476,\n",
      "            \"Previous\": 22.4976\n",
      "        },\n",
      "        \"HKD\": {\n",
      "            \"ID\": \"R01200\",\n",
      "            \"NumCode\": \"344\",\n",
      "            \"CharCode\": \"HKD\",\n",
      "            \"Nominal\": 10,\n",
      "            \"Name\": \"Гонконгских долларов\",\n",
      "            \"Value\": 95.264,\n",
      "            \"Previous\": 94.4709\n",
      "        },\n",
      "        \"DKK\": {\n",
      "            \"ID\": \"R01215\",\n",
      "            \"NumCode\": \"208\",\n",
      "            \"CharCode\": \"DKK\",\n",
      "            \"Nominal\": 1,\n",
      "            \"Name\": \"Датская крона\",\n",
      "            \"Value\": 11.2956,\n",
      "            \"Previous\": 11.1783\n",
      "        },\n",
      "        \"USD\": {\n",
      "            \"ID\": \"R01235\",\n",
      "            \"NumCode\": \"840\",\n",
      "            \"CharCode\": \"USD\",\n",
      "            \"Nominal\": 1,\n",
      "            \"Name\": \"Доллар США\",\n",
      "            \"Value\": 74.2926,\n",
      "            \"Previous\": 73.6514\n",
      "        },\n",
      "        \"EUR\": {\n",
      "            \"ID\": \"R01239\",\n",
      "            \"NumCode\": \"978\",\n",
      "            \"CharCode\": \"EUR\",\n",
      "            \"Nominal\": 1,\n",
      "            \"Name\": \"Евро\",\n",
      "            \"Value\": 84.0695,\n",
      "            \"Previous\": 83.204\n",
      "        },\n",
      "        \"INR\": {\n",
      "            \"ID\": \"R01270\",\n",
      "            \"NumCode\": \"356\",\n",
      "            \"CharCode\": \"INR\",\n",
      "            \"Nominal\": 100,\n",
      "            \"Name\": \"Индийских рупий\",\n",
      "            \"Value\": 99.8422,\n",
      "            \"Previous\": 98.4361\n",
      "        },\n",
      "        \"KZT\": {\n",
      "            \"ID\": \"R01335\",\n",
      "            \"NumCode\": \"398\",\n",
      "            \"CharCode\": \"KZT\",\n",
      "            \"Nominal\": 100,\n",
      "            \"Name\": \"Казахстанских тенге\",\n",
      "            \"Value\": 16.9,\n",
      "            \"Previous\": 16.9158\n",
      "        },\n",
      "        \"CAD\": {\n",
      "            \"ID\": \"R01350\",\n",
      "            \"NumCode\": \"124\",\n",
      "            \"CharCode\": \"CAD\",\n",
      "            \"Nominal\": 1,\n",
      "            \"Name\": \"Канадский доллар\",\n",
      "            \"Value\": 58.023,\n",
      "            \"Previous\": 57.4549\n",
      "        },\n",
      "        \"KGS\": {\n",
      "            \"ID\": \"R01370\",\n",
      "            \"NumCode\": \"417\",\n",
      "            \"CharCode\": \"KGS\",\n",
      "            \"Nominal\": 100,\n",
      "            \"Name\": \"Киргизских сомов\",\n",
      "            \"Value\": 87.5906,\n",
      "            \"Previous\": 86.8252\n",
      "        },\n",
      "        \"CNY\": {\n",
      "            \"ID\": \"R01375\",\n",
      "            \"NumCode\": \"156\",\n",
      "            \"CharCode\": \"CNY\",\n",
      "            \"Nominal\": 1,\n",
      "            \"Name\": \"Китайский юань\",\n",
      "            \"Value\": 11.6503,\n",
      "            \"Previous\": 11.5599\n",
      "        },\n",
      "        \"MDL\": {\n",
      "            \"ID\": \"R01500\",\n",
      "            \"NumCode\": \"498\",\n",
      "            \"CharCode\": \"MDL\",\n",
      "            \"Nominal\": 10,\n",
      "            \"Name\": \"Молдавских леев\",\n",
      "            \"Value\": 41.855,\n",
      "            \"Previous\": 41.4937\n",
      "        },\n",
      "        \"NOK\": {\n",
      "            \"ID\": \"R01535\",\n",
      "            \"NumCode\": \"578\",\n",
      "            \"CharCode\": \"NOK\",\n",
      "            \"Nominal\": 10,\n",
      "            \"Name\": \"Норвежских крон\",\n",
      "            \"Value\": 84.2568,\n",
      "            \"Previous\": 83.4861\n",
      "        },\n",
      "        \"PLN\": {\n",
      "            \"ID\": \"R01565\",\n",
      "            \"NumCode\": \"985\",\n",
      "            \"CharCode\": \"PLN\",\n",
      "            \"Nominal\": 1,\n",
      "            \"Name\": \"Польский злотый\",\n",
      "            \"Value\": 18.296,\n",
      "            \"Previous\": 18.0922\n",
      "        },\n",
      "        \"RON\": {\n",
      "            \"ID\": \"R01585F\",\n",
      "            \"NumCode\": \"946\",\n",
      "            \"CharCode\": \"RON\",\n",
      "            \"Nominal\": 1,\n",
      "            \"Name\": \"Румынский лей\",\n",
      "            \"Value\": 16.9719,\n",
      "            \"Previous\": 16.792\n",
      "        },\n",
      "        \"XDR\": {\n",
      "            \"ID\": \"R01589\",\n",
      "            \"NumCode\": \"960\",\n",
      "            \"CharCode\": \"XDR\",\n",
      "            \"Nominal\": 1,\n",
      "            \"Name\": \"СДР (специальные права заимствования)\",\n",
      "            \"Value\": 103.9792,\n",
      "            \"Previous\": 103.0818\n",
      "        },\n",
      "        \"SGD\": {\n",
      "            \"ID\": \"R01625\",\n",
      "            \"NumCode\": \"702\",\n",
      "            \"CharCode\": \"SGD\",\n",
      "            \"Nominal\": 1,\n",
      "            \"Name\": \"Сингапурский доллар\",\n",
      "            \"Value\": 54.8852,\n",
      "            \"Previous\": 54.3553\n",
      "        },\n",
      "        \"TJS\": {\n",
      "            \"ID\": \"R01670\",\n",
      "            \"NumCode\": \"972\",\n",
      "            \"CharCode\": \"TJS\",\n",
      "            \"Nominal\": 10,\n",
      "            \"Name\": \"Таджикских сомони\",\n",
      "            \"Value\": 65.8039,\n",
      "            \"Previous\": 65.236\n",
      "        },\n",
      "        \"TRY\": {\n",
      "            \"ID\": \"R01700J\",\n",
      "            \"NumCode\": \"949\",\n",
      "            \"CharCode\": \"TRY\",\n",
      "            \"Nominal\": 10,\n",
      "            \"Name\": \"Турецких лир\",\n",
      "            \"Value\": 57.8432,\n",
      "            \"Previous\": 60.9117\n",
      "        },\n",
      "        \"TMT\": {\n",
      "            \"ID\": \"R01710A\",\n",
      "            \"NumCode\": \"934\",\n",
      "            \"CharCode\": \"TMT\",\n",
      "            \"Nominal\": 1,\n",
      "            \"Name\": \"Новый туркменский манат\",\n",
      "            \"Value\": 21.2568,\n",
      "            \"Previous\": 21.0734\n",
      "        },\n",
      "        \"UZS\": {\n",
      "            \"ID\": \"R01717\",\n",
      "            \"NumCode\": \"860\",\n",
      "            \"CharCode\": \"UZS\",\n",
      "            \"Nominal\": 10000,\n",
      "            \"Name\": \"Узбекских сумов\",\n",
      "            \"Value\": 68.5504,\n",
      "            \"Previous\": 68.1313\n",
      "        },\n",
      "        \"UAH\": {\n",
      "            \"ID\": \"R01720\",\n",
      "            \"NumCode\": \"980\",\n",
      "            \"CharCode\": \"UAH\",\n",
      "            \"Nominal\": 10,\n",
      "            \"Name\": \"Украинских гривен\",\n",
      "            \"Value\": 27.2584,\n",
      "            \"Previous\": 27.0902\n",
      "        },\n",
      "        \"CZK\": {\n",
      "            \"ID\": \"R01760\",\n",
      "            \"NumCode\": \"203\",\n",
      "            \"CharCode\": \"CZK\",\n",
      "            \"Nominal\": 10,\n",
      "            \"Name\": \"Чешских крон\",\n",
      "            \"Value\": 33.7234,\n",
      "            \"Previous\": 33.3899\n",
      "        },\n",
      "        \"SEK\": {\n",
      "            \"ID\": \"R01770\",\n",
      "            \"NumCode\": \"752\",\n",
      "            \"CharCode\": \"SEK\",\n",
      "            \"Nominal\": 10,\n",
      "            \"Name\": \"Шведских крон\",\n",
      "            \"Value\": 82.1512,\n",
      "            \"Previous\": 81.1264\n",
      "        },\n",
      "        \"CHF\": {\n",
      "            \"ID\": \"R01775\",\n",
      "            \"NumCode\": \"756\",\n",
      "            \"CharCode\": \"CHF\",\n",
      "            \"Nominal\": 1,\n",
      "            \"Name\": \"Швейцарский франк\",\n",
      "            \"Value\": 80.9376,\n",
      "            \"Previous\": 80.1866\n",
      "        },\n",
      "        \"ZAR\": {\n",
      "            \"ID\": \"R01810\",\n",
      "            \"NumCode\": \"710\",\n",
      "            \"CharCode\": \"ZAR\",\n",
      "            \"Nominal\": 10,\n",
      "            \"Name\": \"Южноафриканских рэндов\",\n",
      "            \"Value\": 46.4948,\n",
      "            \"Previous\": 46.7788\n",
      "        },\n",
      "        \"KRW\": {\n",
      "            \"ID\": \"R01815\",\n",
      "            \"NumCode\": \"410\",\n",
      "            \"CharCode\": \"KRW\",\n",
      "            \"Nominal\": 1000,\n",
      "            \"Name\": \"Вон Республики Корея\",\n",
      "            \"Value\": 62.4483,\n",
      "            \"Previous\": 62.0507\n",
      "        },\n",
      "        \"JPY\": {\n",
      "            \"ID\": \"R01820\",\n",
      "            \"NumCode\": \"392\",\n",
      "            \"CharCode\": \"JPY\",\n",
      "            \"Nominal\": 100,\n",
      "            \"Name\": \"Японских иен\",\n",
      "            \"Value\": 64.5097,\n",
      "            \"Previous\": 64.0614\n",
      "        }\n",
      "    }\n",
      "}\n"
     ]
    }
   ],
   "source": [
    "response = requests.get('https://www.cbr-xml-daily.ru/daily_json.js')    \n",
    "print(response.text)  "
   ]
  },
  {
   "cell_type": "markdown",
   "id": "85a1b9e5",
   "metadata": {},
   "source": [
    "Сейчас текст хранится просто в строковой переменной. Далее мы можем превратить эту строку в словарь. Сделать это можно с помощью **JSON-парсера python**, либо воспользовавшись методом `json`, который уже встроен в объект ответа `response`:"
   ]
  },
  {
   "cell_type": "code",
   "execution_count": 196,
   "id": "dccd435c",
   "metadata": {},
   "outputs": [
    {
     "name": "stdout",
     "output_type": "stream",
     "text": [
      "{'Date': '2021-12-31T11:30:00+03:00',\n",
      " 'PreviousDate': '2021-12-30T11:30:00+03:00',\n",
      " 'PreviousURL': '//www.cbr-xml-daily.ru/archive/2021/12/30/daily_json.js',\n",
      " 'Timestamp': '2022-01-02T23:00:00+03:00',\n",
      " 'Valute': {'AMD': {'CharCode': 'AMD',\n",
      "                    'ID': 'R01060',\n",
      "                    'Name': 'Армянских драмов',\n",
      "                    'Nominal': 100,\n",
      "                    'NumCode': '051',\n",
      "                    'Previous': 14.9576,\n",
      "                    'Value': 15.5164},\n",
      "            'AUD': {'CharCode': 'AUD',\n",
      "                    'ID': 'R01010',\n",
      "                    'Name': 'Австралийский доллар',\n",
      "                    'Nominal': 1,\n",
      "                    'NumCode': '036',\n",
      "                    'Previous': 53.2573,\n",
      "                    'Value': 53.9141},\n",
      "            'AZN': {'CharCode': 'AZN',\n",
      "                    'ID': 'R01020A',\n",
      "                    'Name': 'Азербайджанский манат',\n",
      "                    'Nominal': 1,\n",
      "                    'NumCode': '944',\n",
      "                    'Previous': 43.3499,\n",
      "                    'Value': 43.7273},\n",
      "            'BGN': {'CharCode': 'BGN',\n",
      "                    'ID': 'R01100',\n",
      "                    'Name': 'Болгарский лев',\n",
      "                    'Nominal': 1,\n",
      "                    'NumCode': '975',\n",
      "                    'Previous': 42.492,\n",
      "                    'Value': 42.9487},\n",
      "            'BRL': {'CharCode': 'BRL',\n",
      "                    'ID': 'R01115',\n",
      "                    'Name': 'Бразильский реал',\n",
      "                    'Nominal': 1,\n",
      "                    'NumCode': '986',\n",
      "                    'Previous': 13.0847,\n",
      "                    'Value': 13.0253},\n",
      "            'BYN': {'CharCode': 'BYN',\n",
      "                    'ID': 'R01090B',\n",
      "                    'Name': 'Белорусский рубль',\n",
      "                    'Nominal': 1,\n",
      "                    'NumCode': '933',\n",
      "                    'Previous': 29.1608,\n",
      "                    'Value': 29.1458},\n",
      "            'CAD': {'CharCode': 'CAD',\n",
      "                    'ID': 'R01350',\n",
      "                    'Name': 'Канадский доллар',\n",
      "                    'Nominal': 1,\n",
      "                    'NumCode': '124',\n",
      "                    'Previous': 57.4549,\n",
      "                    'Value': 58.023},\n",
      "            'CHF': {'CharCode': 'CHF',\n",
      "                    'ID': 'R01775',\n",
      "                    'Name': 'Швейцарский франк',\n",
      "                    'Nominal': 1,\n",
      "                    'NumCode': '756',\n",
      "                    'Previous': 80.1866,\n",
      "                    'Value': 80.9376},\n",
      "            'CNY': {'CharCode': 'CNY',\n",
      "                    'ID': 'R01375',\n",
      "                    'Name': 'Китайский юань',\n",
      "                    'Nominal': 1,\n",
      "                    'NumCode': '156',\n",
      "                    'Previous': 11.5599,\n",
      "                    'Value': 11.6503},\n",
      "            'CZK': {'CharCode': 'CZK',\n",
      "                    'ID': 'R01760',\n",
      "                    'Name': 'Чешских крон',\n",
      "                    'Nominal': 10,\n",
      "                    'NumCode': '203',\n",
      "                    'Previous': 33.3899,\n",
      "                    'Value': 33.7234},\n",
      "            'DKK': {'CharCode': 'DKK',\n",
      "                    'ID': 'R01215',\n",
      "                    'Name': 'Датская крона',\n",
      "                    'Nominal': 1,\n",
      "                    'NumCode': '208',\n",
      "                    'Previous': 11.1783,\n",
      "                    'Value': 11.2956},\n",
      "            'EUR': {'CharCode': 'EUR',\n",
      "                    'ID': 'R01239',\n",
      "                    'Name': 'Евро',\n",
      "                    'Nominal': 1,\n",
      "                    'NumCode': '978',\n",
      "                    'Previous': 83.204,\n",
      "                    'Value': 84.0695},\n",
      "            'GBP': {'CharCode': 'GBP',\n",
      "                    'ID': 'R01035',\n",
      "                    'Name': 'Фунт стерлингов Соединенного королевства',\n",
      "                    'Nominal': 1,\n",
      "                    'NumCode': '826',\n",
      "                    'Previous': 98.8254,\n",
      "                    'Value': 100.0573},\n",
      "            'HKD': {'CharCode': 'HKD',\n",
      "                    'ID': 'R01200',\n",
      "                    'Name': 'Гонконгских долларов',\n",
      "                    'Nominal': 10,\n",
      "                    'NumCode': '344',\n",
      "                    'Previous': 94.4709,\n",
      "                    'Value': 95.264},\n",
      "            'HUF': {'CharCode': 'HUF',\n",
      "                    'ID': 'R01135',\n",
      "                    'Name': 'Венгерских форинтов',\n",
      "                    'Nominal': 100,\n",
      "                    'NumCode': '348',\n",
      "                    'Previous': 22.4976,\n",
      "                    'Value': 22.7476},\n",
      "            'INR': {'CharCode': 'INR',\n",
      "                    'ID': 'R01270',\n",
      "                    'Name': 'Индийских рупий',\n",
      "                    'Nominal': 100,\n",
      "                    'NumCode': '356',\n",
      "                    'Previous': 98.4361,\n",
      "                    'Value': 99.8422},\n",
      "            'JPY': {'CharCode': 'JPY',\n",
      "                    'ID': 'R01820',\n",
      "                    'Name': 'Японских иен',\n",
      "                    'Nominal': 100,\n",
      "                    'NumCode': '392',\n",
      "                    'Previous': 64.0614,\n",
      "                    'Value': 64.5097},\n",
      "            'KGS': {'CharCode': 'KGS',\n",
      "                    'ID': 'R01370',\n",
      "                    'Name': 'Киргизских сомов',\n",
      "                    'Nominal': 100,\n",
      "                    'NumCode': '417',\n",
      "                    'Previous': 86.8252,\n",
      "                    'Value': 87.5906},\n",
      "            'KRW': {'CharCode': 'KRW',\n",
      "                    'ID': 'R01815',\n",
      "                    'Name': 'Вон Республики Корея',\n",
      "                    'Nominal': 1000,\n",
      "                    'NumCode': '410',\n",
      "                    'Previous': 62.0507,\n",
      "                    'Value': 62.4483},\n",
      "            'KZT': {'CharCode': 'KZT',\n",
      "                    'ID': 'R01335',\n",
      "                    'Name': 'Казахстанских тенге',\n",
      "                    'Nominal': 100,\n",
      "                    'NumCode': '398',\n",
      "                    'Previous': 16.9158,\n",
      "                    'Value': 16.9},\n",
      "            'MDL': {'CharCode': 'MDL',\n",
      "                    'ID': 'R01500',\n",
      "                    'Name': 'Молдавских леев',\n",
      "                    'Nominal': 10,\n",
      "                    'NumCode': '498',\n",
      "                    'Previous': 41.4937,\n",
      "                    'Value': 41.855},\n",
      "            'NOK': {'CharCode': 'NOK',\n",
      "                    'ID': 'R01535',\n",
      "                    'Name': 'Норвежских крон',\n",
      "                    'Nominal': 10,\n",
      "                    'NumCode': '578',\n",
      "                    'Previous': 83.4861,\n",
      "                    'Value': 84.2568},\n",
      "            'PLN': {'CharCode': 'PLN',\n",
      "                    'ID': 'R01565',\n",
      "                    'Name': 'Польский злотый',\n",
      "                    'Nominal': 1,\n",
      "                    'NumCode': '985',\n",
      "                    'Previous': 18.0922,\n",
      "                    'Value': 18.296},\n",
      "            'RON': {'CharCode': 'RON',\n",
      "                    'ID': 'R01585F',\n",
      "                    'Name': 'Румынский лей',\n",
      "                    'Nominal': 1,\n",
      "                    'NumCode': '946',\n",
      "                    'Previous': 16.792,\n",
      "                    'Value': 16.9719},\n",
      "            'SEK': {'CharCode': 'SEK',\n",
      "                    'ID': 'R01770',\n",
      "                    'Name': 'Шведских крон',\n",
      "                    'Nominal': 10,\n",
      "                    'NumCode': '752',\n",
      "                    'Previous': 81.1264,\n",
      "                    'Value': 82.1512},\n",
      "            'SGD': {'CharCode': 'SGD',\n",
      "                    'ID': 'R01625',\n",
      "                    'Name': 'Сингапурский доллар',\n",
      "                    'Nominal': 1,\n",
      "                    'NumCode': '702',\n",
      "                    'Previous': 54.3553,\n",
      "                    'Value': 54.8852},\n",
      "            'TJS': {'CharCode': 'TJS',\n",
      "                    'ID': 'R01670',\n",
      "                    'Name': 'Таджикских сомони',\n",
      "                    'Nominal': 10,\n",
      "                    'NumCode': '972',\n",
      "                    'Previous': 65.236,\n",
      "                    'Value': 65.8039},\n",
      "            'TMT': {'CharCode': 'TMT',\n",
      "                    'ID': 'R01710A',\n",
      "                    'Name': 'Новый туркменский манат',\n",
      "                    'Nominal': 1,\n",
      "                    'NumCode': '934',\n",
      "                    'Previous': 21.0734,\n",
      "                    'Value': 21.2568},\n",
      "            'TRY': {'CharCode': 'TRY',\n",
      "                    'ID': 'R01700J',\n",
      "                    'Name': 'Турецких лир',\n",
      "                    'Nominal': 10,\n",
      "                    'NumCode': '949',\n",
      "                    'Previous': 60.9117,\n",
      "                    'Value': 57.8432},\n",
      "            'UAH': {'CharCode': 'UAH',\n",
      "                    'ID': 'R01720',\n",
      "                    'Name': 'Украинских гривен',\n",
      "                    'Nominal': 10,\n",
      "                    'NumCode': '980',\n",
      "                    'Previous': 27.0902,\n",
      "                    'Value': 27.2584},\n",
      "            'USD': {'CharCode': 'USD',\n",
      "                    'ID': 'R01235',\n",
      "                    'Name': 'Доллар США',\n",
      "                    'Nominal': 1,\n",
      "                    'NumCode': '840',\n",
      "                    'Previous': 73.6514,\n",
      "                    'Value': 74.2926},\n",
      "            'UZS': {'CharCode': 'UZS',\n",
      "                    'ID': 'R01717',\n",
      "                    'Name': 'Узбекских сумов',\n",
      "                    'Nominal': 10000,\n",
      "                    'NumCode': '860',\n",
      "                    'Previous': 68.1313,\n",
      "                    'Value': 68.5504},\n",
      "            'XDR': {'CharCode': 'XDR',\n",
      "                    'ID': 'R01589',\n",
      "                    'Name': 'СДР (специальные права заимствования)',\n",
      "                    'Nominal': 1,\n",
      "                    'NumCode': '960',\n",
      "                    'Previous': 103.0818,\n",
      "                    'Value': 103.9792},\n",
      "            'ZAR': {'CharCode': 'ZAR',\n",
      "                    'ID': 'R01810',\n",
      "                    'Name': 'Южноафриканских рэндов',\n",
      "                    'Nominal': 10,\n",
      "                    'NumCode': '710',\n",
      "                    'Previous': 46.7788,\n",
      "                    'Value': 46.4948}}}\n"
     ]
    }
   ],
   "source": [
    "currencies = response.json()  \n",
    "pprint(currencies)  "
   ]
  },
  {
   "cell_type": "markdown",
   "id": "4b6877c2",
   "metadata": {},
   "source": [
    "Теперь данные лежат в словаре, и мы можем легко получать необходимые нам значения:"
   ]
  },
  {
   "cell_type": "code",
   "execution_count": 197,
   "id": "4bfe8192",
   "metadata": {},
   "outputs": [
    {
     "data": {
      "text/plain": [
       "{'ID': 'R01720', 'NumCode': '980', 'CharCode': 'UAH', 'Nominal': 10, 'Name': 'Украинских гривен', 'Value': 27.2584, 'Previous': 27.0902}"
      ]
     },
     "execution_count": 197,
     "metadata": {},
     "output_type": "execute_result"
    }
   ],
   "source": [
    "currencies['Valute']['UAH']  "
   ]
  },
  {
   "cell_type": "markdown",
   "id": "e2088ce6",
   "metadata": {},
   "source": [
    "## Задание 1\n",
    "Повторите запросы, описанные в этой части, на своём компьютере. Что выведет на экран следующий код?\n",
    "```python\n",
    "print(currencies['Valute']['CZK']['Name'])\n",
    "```\n"
   ]
  },
  {
   "cell_type": "code",
   "execution_count": 198,
   "id": "0b0a05e1",
   "metadata": {},
   "outputs": [
    {
     "name": "stdout",
     "output_type": "stream",
     "text": [
      "Чешских крон\n"
     ]
    }
   ],
   "source": [
    "print(currencies['Valute']['CZK']['Name'])"
   ]
  },
  {
   "cell_type": "markdown",
   "id": "0f098af2",
   "metadata": {},
   "source": [
    "## Оформляем функцию\n",
    "В завершение давайте оформим наши вычисления в отдельную функцию, которой будет удобно пользоваться. На вход она должна принимать два параметра:\n",
    "1. Название валюты currency. Например, 'EUR' или 'USD'.\n",
    "2. Формат ответа format. При значении 'full' будем отдавать все, что знаем о валюте. Например, для `currency = 'USD'`:\n",
    "```\n",
    "{'CharCode': 'USD',  \n",
    "   'ID': 'R01235',  \n",
    "   'Name': 'Доллар США',  \n",
    "   'Nominal': 1,  \n",
    "   'NumCode': '840',  \n",
    "   'Previous': 68.2505,  \n",
    "   'Value': 69.0286}  \n",
    "```\n",
    "А при значении `format = 'value'` только значение ключа 'Value', т. е. курс: 69.0286."
   ]
  },
  {
   "cell_type": "code",
   "execution_count": 199,
   "id": "e79f2a6c",
   "metadata": {},
   "outputs": [],
   "source": [
    "def exchange_rates(currency, format='full'):    \n",
    "    url = 'https://www.cbr-xml-daily.ru/daily_json.js'  \n",
    "    response = requests.get(url).json()['Valute']    \n",
    "    data = response[currency]     \n",
    "    if format == 'full':    \n",
    "        return data      \n",
    "    elif format == 'value':    \n",
    "        return data['Value']    "
   ]
  },
  {
   "cell_type": "code",
   "execution_count": 200,
   "id": "7067c8bb",
   "metadata": {},
   "outputs": [
    {
     "data": {
      "text/plain": [
       "{'ID': 'R01235', 'NumCode': '840', 'CharCode': 'USD', 'Nominal': 1, 'Name': 'Доллар США', 'Value': 74.2926, 'Previous': 73.6514}"
      ]
     },
     "execution_count": 200,
     "metadata": {},
     "output_type": "execute_result"
    }
   ],
   "source": [
    "exchange_rates('USD')"
   ]
  },
  {
   "cell_type": "markdown",
   "id": "b0c65b99",
   "metadata": {},
   "source": [
    "## Задание 1\n",
    "Напишите функцию `currency_name`, которая по **ID** валюты возвращает ее название на русском языке.\n",
    "\n",
    "currency_name('R01700J')\n",
    "#=> 'Турецких лир' "
   ]
  },
  {
   "cell_type": "code",
   "execution_count": 201,
   "id": "9a9240b1",
   "metadata": {},
   "outputs": [],
   "source": [
    "def currency_name(id):\n",
    "    url = 'https://www.cbr-xml-daily.ru/daily_json.js'  \n",
    "    response = requests.get(url).json()['Valute']\n",
    "    \n",
    "    for val in response.values():\n",
    "        if (val['ID'] == id):\n",
    "            return(val['Name'])"
   ]
  },
  {
   "cell_type": "code",
   "execution_count": 202,
   "id": "749ed55a",
   "metadata": {},
   "outputs": [
    {
     "data": {
      "text/plain": [
       "'Турецких лир'"
      ]
     },
     "execution_count": 202,
     "metadata": {},
     "output_type": "execute_result"
    }
   ],
   "source": [
    "currency_name('R01700J')"
   ]
  },
  {
   "cell_type": "markdown",
   "id": "475d534e",
   "metadata": {},
   "source": [
    "# HTML-страницы\n",
    "Довольно часто приходится добывать информацию не из удобно форматированного json-файла, а прямо с HTML-страниц. Получить содержимое страницы в большинстве случаев несложно, труднее извлечь из HTML-кода нужную информацию. В качестве примера мы рассмотрим страницу новости, из которой будем доставать полезную информацию: \n",
    "1) заголовок страницы;  \n",
    "2) дату публикации;  \n",
    "3) текст публикации;  \n",
    "4) ссылки на странице.  \n",
    "\n",
    "## Получаем данные\n",
    "Получить **html** страницу можно так же, как мы получали до этого **json**: используем библиотеку `requests` и метод `GET`:  "
   ]
  },
  {
   "cell_type": "code",
   "execution_count": 203,
   "id": "0d763724",
   "metadata": {},
   "outputs": [],
   "source": [
    "url = 'https://nplus1.ru/news/2019/06/04/slothbot'   \n",
    "  \n",
    "response = requests.get(url)  "
   ]
  },
  {
   "cell_type": "code",
   "execution_count": 204,
   "id": "8871bceb",
   "metadata": {},
   "outputs": [
    {
     "name": "stdout",
     "output_type": "stream",
     "text": [
      "200\n"
     ]
    }
   ],
   "source": [
    "# Убедимся, что мы успешно получили ответ     \n",
    "print(response.status_code)     "
   ]
  },
  {
   "cell_type": "code",
   "execution_count": 205,
   "id": "49d44e4c",
   "metadata": {},
   "outputs": [
    {
     "name": "stdout",
     "output_type": "stream",
     "text": [
      "<!doctype html>\n",
      "<html class=\"no-js bg-fixed _no-bg\" style=\"background-image:url(https://nplus1.ru/images/2019/06/04/b32b62189fb87cce895e229e1d6d27b4.jpeg)\" lang=\"\">\n",
      "<head>\n",
      "    \n",
      "    <meta charset=\"utf-8\">\n",
      "    <meta http-equiv=\"x-ua-compatible\" content=\"ie=edge\">\n",
      "    <meta name=\"viewport\" content=\"width=device-width, initial-scale=1\">\n",
      "        <meta name=\"apple-mobile-web-app-capable\" content=\"yes\">\n",
      "    <meta name=\"apple-mobile-web-app-status-bar-style\" content=\"black\">\n",
      "                <meta name='wmail-verification' content='7991d7eb02d759f05b9050e111a7e3eb' />\n",
      "\n",
      "    <link rel=\"canonical\" href=\"https://nplus1.ru/news/2019/06/04/slothbot\" />\n",
      "\n",
      "        <title>Робота-ленивца научили лазать по паутине из тросов</title>\n",
      "\n",
      "    \t    <meta itemprop=\"datePublished\" content=\"2019-06-04\"/>\n",
      "\t\n",
      "\t    <meta name=\"mediator_author\" content=\"Григорий Копиев\"/> \n",
      "\t\n",
      "        <!-- amp page -->\n",
      "    <link rel=\"amphtml\" href=\"https://nplus1.ru/news/2019/06/04/slothbot/amp\">\n",
      "    \n",
      "\n",
      "        <!-- for Google -->\n",
      "        \n"
     ]
    }
   ],
   "source": [
    "# Выведем полученные данные    \n",
    "print(response.text[:999])"
   ]
  },
  {
   "cell_type": "markdown",
   "id": "171413e3",
   "metadata": {},
   "source": [
    "Мы получили большую строку с текстом в формате **html**, который используется для визуальной разметки. Это позволяет делать информацию более наглядной для людей, но в отличие от **json**, мы не можем просто преобразовать его напрямую в словарь. Далее мы посмотрим, как извлекать информацию из подобных страниц"
   ]
  },
  {
   "cell_type": "markdown",
   "id": "e81802a1",
   "metadata": {},
   "source": [
    "# Библиотека BeautifulSoup\n",
    "Для поиска данных на странице воспользуемся библиотекой BeautifulSoup. Она позволяет по названию тэгов и их атрибутов получать содержащийся в них текст.\n",
    "\n",
    "BeautifulSoup – достаточно мощная библиотека. Мы рассмотим базовые возможности, но полный список гораздо шире. С ним можно ознакомиться в [официальной документации.](https://www.crummy.com/software/BeautifulSoup/bs4/doc/)"
   ]
  },
  {
   "cell_type": "code",
   "execution_count": 206,
   "id": "0b27dba5",
   "metadata": {},
   "outputs": [],
   "source": [
    "# Импортируем наши библиотеки    \n",
    "from bs4 import BeautifulSoup    \n",
    "import requests    "
   ]
  },
  {
   "cell_type": "markdown",
   "id": "828ef6b7",
   "metadata": {},
   "source": [
    "Теперь мы можем получать данные из страницы. Давайте получим title (это строка, отображающая в браузерах на закладках)"
   ]
  },
  {
   "cell_type": "code",
   "execution_count": 207,
   "id": "0eced2f9",
   "metadata": {},
   "outputs": [
    {
     "name": "stdout",
     "output_type": "stream",
     "text": [
      "<title>Робота-ленивца научили лазать по паутине из тросов</title>\n"
     ]
    }
   ],
   "source": [
    "# Получаем данные, как и ранее    \n",
    "url = 'https://nplus1.ru/news/2019/06/04/slothbot'   \n",
    "response = requests.get(url)    \n",
    "    \n",
    "# Теперь создадим объект BeautifulSoup, указывая html парсер    \n",
    "page = BeautifulSoup(response.text, 'html.parser')    \n",
    "    \n",
    "# Всё готово, чтобы получать данные из страницы    \n",
    "# Для начала получим title, отображающийся на закладках браузера    \n",
    "print(page.title)  "
   ]
  },
  {
   "cell_type": "code",
   "execution_count": 208,
   "id": "84736916",
   "metadata": {},
   "outputs": [
    {
     "data": {
      "text/plain": [
       "'Робота-ленивца научили лазать по паутине из тросов'"
      ]
     },
     "execution_count": 208,
     "metadata": {},
     "output_type": "execute_result"
    }
   ],
   "source": [
    "# Мы получили тэг. Чтобы достать из него текст, вызовем атрибут text    \n",
    "page.title.text    "
   ]
  },
  {
   "cell_type": "code",
   "execution_count": null,
   "id": "3112187b",
   "metadata": {},
   "outputs": [],
   "source": []
  },
  {
   "cell_type": "markdown",
   "id": "399090d7",
   "metadata": {},
   "source": [
    "# Библиотека BeautifulSoup\n",
    "\n",
    "## Задание 2 - Текст тайтла\n",
    "У вас переменная `soup` с объектом `BeautifulSoup` для **html-страницы**. Введите строку, которая вернёт текст для тайтла (title) страницы"
   ]
  },
  {
   "cell_type": "code",
   "execution_count": 209,
   "id": "f08195dc",
   "metadata": {},
   "outputs": [
    {
     "data": {
      "text/plain": [
       "'Робота-ленивца научили лазать по паутине из тросов'"
      ]
     },
     "execution_count": 209,
     "metadata": {},
     "output_type": "execute_result"
    }
   ],
   "source": [
    "soup = page\n",
    "soup.title.text"
   ]
  },
  {
   "cell_type": "markdown",
   "id": "d01868c2",
   "metadata": {},
   "source": [
    "# Данные со страницы\n",
    "\n",
    "## Задание 2 - Автоматический сбор заголовков\n",
    "Напишите функцию `wiki_header`, которая по адресу страницы возвращает заголовок для статей на википедии\n",
    "```python\n",
    "wiki_header('https://en.wikipedia.org/wiki/Operating_system')\n",
    "# => 'Operating system'\n",
    "```"
   ]
  },
  {
   "cell_type": "code",
   "execution_count": 210,
   "id": "d5886537",
   "metadata": {},
   "outputs": [],
   "source": [
    "def wiki_header(url):\n",
    "    response = requests.get(url)\n",
    "    soup = BeautifulSoup(response.text, 'html.parser')\n",
    "    return soup.h1.text"
   ]
  },
  {
   "cell_type": "code",
   "execution_count": 211,
   "id": "f9b8a1c6",
   "metadata": {},
   "outputs": [
    {
     "data": {
      "text/plain": [
       "'Operating system'"
      ]
     },
     "execution_count": 211,
     "metadata": {},
     "output_type": "execute_result"
    }
   ],
   "source": [
    "wiki_header('https://en.wikipedia.org/wiki/Operating_system')"
   ]
  },
  {
   "cell_type": "markdown",
   "id": "3783b9b9",
   "metadata": {},
   "source": [
    "# Больше данных\n",
    "Мы рассмотрели базовый поиск конкретного элемента. Могут встречаться другие вариации:\n",
    "- когда нам нужно получить много похожих элементов; \n",
    "- когда тэг атрибута неуникальный, тогда нам нужно использовать атрибуты (id, class), либо использовать вложенность.\n",
    "\n",
    "Посмотрим на практике, что делать в случае, когда тэг элемента неуникальный. Пусть мы хотим получить сам текст статьи. Мы видим, что он находится в тэге **div**\n",
    "Тэги **div** очень распространённые, их много на странице. Если мы просто используем `find`, то получим первый попавшийся, но это не то, что нам надо."
   ]
  },
  {
   "cell_type": "code",
   "execution_count": 212,
   "id": "16099fa9",
   "metadata": {},
   "outputs": [
    {
     "data": {
      "text/plain": [
       "<div class=\"shadow-overlay\"></div>"
      ]
     },
     "execution_count": 212,
     "metadata": {},
     "output_type": "execute_result"
    }
   ],
   "source": [
    "page.find('div')"
   ]
  },
  {
   "cell_type": "markdown",
   "id": "a2843366",
   "metadata": {},
   "source": [
    "Тут мы можем заметить, что у искомого текста есть свой класс `body js-mediator-article`. Воспользуемся этим:  в метод `find` можно передать аргумент `class_`. Стоит обратить внимание на то, что поиск идет **по вхождению** (а **не полному совпадению = равенству**) текста в реальный атрибут."
   ]
  },
  {
   "cell_type": "code",
   "execution_count": 213,
   "id": "d95577c2",
   "metadata": {},
   "outputs": [
    {
     "name": "stdout",
     "output_type": "stream",
     "text": [
      "\n",
      "\n",
      "\n",
      "\n",
      "\n",
      "\n",
      "Allison Carter, Georgia Tech\n",
      "\n",
      "\n",
      "\n",
      "\n",
      "\n",
      "Американские инженеры разработали робота-ленивца, способного лазать по тросам и перемещаться с одного троса на другой. Благодаря относительно малому потреблению энергии и использованию солне\n"
     ]
    }
   ],
   "source": [
    "print(page.find('div', class_='body').text[:230])"
   ]
  },
  {
   "cell_type": "markdown",
   "id": "a28f867e",
   "metadata": {},
   "source": [
    "Отлично, сработало. Аналогично работает и с **id**, мы могли бы написать что-то вроде `page.find('article', id='article').text`"
   ]
  },
  {
   "cell_type": "markdown",
   "id": "de355e0c",
   "metadata": {},
   "source": [
    "## Задание 1. Поиск элемента\n",
    "У вас есть переменная `page`, в которой хранится содержимое **html-страницы**. На странице есть элемент в тэге `span`, у которого атрибут `id` равен `'target'`. Напишите строчку кода, которая присвоит текст этого элемента переменной `value`.\n",
    "\n",
    "Запишите ваш код в одну строку без пробелов. Используйте апострофы для передачи параметров, содержащих значение тэга и его id."
   ]
  },
  {
   "cell_type": "code",
   "execution_count": 214,
   "id": "0c5e70c7",
   "metadata": {},
   "outputs": [],
   "source": [
    "value=page.find('span',id='target')"
   ]
  },
  {
   "cell_type": "markdown",
   "id": "a7869e14",
   "metadata": {},
   "source": [
    "# Сбор нескольких элементов\n",
    "Рассмотрим случай, когда нам нужно сразу много элементов. Пусть мы хотим получить название всех ссылок на странице в википедии про языки программирования.\n",
    "\n",
    "Для ссылок существует тэг `<a></a>`.  Давайте попробуем использовать find  "
   ]
  },
  {
   "cell_type": "code",
   "execution_count": 215,
   "id": "b00c4d15",
   "metadata": {},
   "outputs": [
    {
     "data": {
      "text/plain": [
       "<a id=\"top\"></a>"
      ]
     },
     "execution_count": 215,
     "metadata": {},
     "output_type": "execute_result"
    }
   ],
   "source": [
    "url = 'https://en.wikipedia.org/wiki/List_of_programming_languages'  \n",
    "  \n",
    "response = requests.get(url)  \n",
    "page = BeautifulSoup(response.text, 'html.parser')  \n",
    "page.find('a')  "
   ]
  },
  {
   "cell_type": "markdown",
   "id": "2f2784af",
   "metadata": {},
   "source": [
    "Что-то пошло не так, и мы получили только одну ссылку, хотя на странице их явно больше. Это происходит, потому что метод `find `возвращает только первый подходящий элемент. Если нам надо их больше, нужно воспользоваться методом `find_all`"
   ]
  },
  {
   "cell_type": "code",
   "execution_count": 216,
   "id": "94bea595",
   "metadata": {},
   "outputs": [
    {
     "name": "stdout",
     "output_type": "stream",
     "text": [
      "930\n"
     ]
    }
   ],
   "source": [
    "links = page.find_all('a')  \n",
    "# Посмотрим, сколько всего мы получили  \n",
    "print(len(links))"
   ]
  },
  {
   "cell_type": "code",
   "execution_count": 217,
   "id": "23d5fbe9",
   "metadata": {},
   "outputs": [
    {
     "name": "stdout",
     "output_type": "stream",
     "text": [
      "['OptimJ', 'Orc', 'ORCA/Modula-2', 'Oriel', 'Orwell', 'Oxygene', 'Oz', 'edit', 'P', 'P4']\n"
     ]
    }
   ],
   "source": [
    "# Посмотрим на некоторые из ссылок  \n",
    "print([link.text for link in links[500:510]])  "
   ]
  },
  {
   "cell_type": "markdown",
   "id": "c8001d28",
   "metadata": {},
   "source": [
    "Ещё одна полезная вещь:  последовательный поиск, т.е. мы можем найти сначала один элемент, а потом сделать внутри него второй поиск. Давайте выведем названия всех ссылок для языков программирования, которые начинаются на литеру \"A\"."
   ]
  },
  {
   "cell_type": "code",
   "execution_count": 218,
   "id": "04acee26",
   "metadata": {},
   "outputs": [],
   "source": [
    "# Получаем все элементы с тегом 'div' и классом 'div-col'  \n",
    "all_blocks = page.find_all('div', class_='div-col')  \n",
    "  \n",
    "# Выбираем первый по счету блок  \n",
    "first_block = all_blocks[0]  "
   ]
  },
  {
   "cell_type": "code",
   "execution_count": 219,
   "id": "ff3d4ec5",
   "metadata": {},
   "outputs": [
    {
     "name": "stdout",
     "output_type": "stream",
     "text": [
      "['A.NET (A#/A sharp)', 'A-0 System', 'A+ (A plus)', 'ABAP', 'ABC', 'ABC ALGOL', 'ACC', 'Accent (Rational Synergy)', 'Ace DASL (Distributed Application Specification Language)', 'Action!']\n"
     ]
    }
   ],
   "source": [
    "# Берём оттуда ссылки (ограничимся первыми десятью)\n",
    "links = first_block.find_all('a')\n",
    "print([link.text for link in links[:10]])"
   ]
  },
  {
   "cell_type": "markdown",
   "id": "34124ab2",
   "metadata": {},
   "source": [
    "## Задание 1 - Актёры\n",
    "Напишите функцию `get_actors`, которая по ссылке на страницу фильма на [кинопоиске](https://www.kinopoisk.ru/lists/films/?is-redirected=1) возвращает список актёров из колонки справа."
   ]
  },
  {
   "cell_type": "code",
   "execution_count": 220,
   "id": "6f1ed1f7",
   "metadata": {},
   "outputs": [],
   "source": [
    "# url = 'https://www.kinopoisk.ru/film/42326/'\n",
    "# response = requests.get(url + 'cast/')\n",
    "\n",
    "# url ='https://www.kinopoisk.ru/film/435/'\n",
    "# cast_url = url + 'cast/'\n",
    "# response = requests.get(cast_url)"
   ]
  },
  {
   "cell_type": "code",
   "execution_count": 221,
   "id": "8fb86875",
   "metadata": {},
   "outputs": [],
   "source": [
    "# def get_actors(url):\n",
    "#     response = requests.get(url) \n",
    "#     page = BeautifulSoup(response.text, 'html.parser')  \n",
    "#     cast_tag = page.find('ul', class_=\"styles_list__I97eu\")  \n",
    "#     name_tags = cast_tag.find_all('a', class_ = \"styles_link__1dkjp\") \n",
    "#     return [name_tag.text for name_tag in name_tags] "
   ]
  },
  {
   "cell_type": "code",
   "execution_count": null,
   "id": "f55dab2a",
   "metadata": {},
   "outputs": [],
   "source": []
  },
  {
   "cell_type": "markdown",
   "id": "05596cb3",
   "metadata": {},
   "source": [
    "# HTML-таблицы\n",
    "\n",
    "Постановка задачи\n",
    "При работе с web-страницами было бы здорово получать содержимое  таблиц в виде датафрейма. Рассмотрим страницу ключевых показателей ***Центрального банка РФ*** [cbr.ru](https://www.cbr.ru/). Наша задача будет состоять в том, чтобы получить одну из таблиц виджетов в виде датафрейма. Например, таблицу цен на драгоценные металлы.\n",
    "\n",
    "Метод `read_html` из `pandas` умеет автоматически находить на HTML-странице таблицы и возвращать их списком из датафреймов:"
   ]
  },
  {
   "cell_type": "code",
   "execution_count": 222,
   "id": "5969bead",
   "metadata": {},
   "outputs": [
    {
     "data": {
      "text/html": [
       "<div>\n",
       "<style scoped>\n",
       "    .dataframe tbody tr th:only-of-type {\n",
       "        vertical-align: middle;\n",
       "    }\n",
       "\n",
       "    .dataframe tbody tr th {\n",
       "        vertical-align: top;\n",
       "    }\n",
       "\n",
       "    .dataframe thead th {\n",
       "        text-align: right;\n",
       "    }\n",
       "</style>\n",
       "<table border=\"1\" class=\"dataframe\">\n",
       "  <thead>\n",
       "    <tr style=\"text-align: right;\">\n",
       "      <th></th>\n",
       "      <th>0</th>\n",
       "      <th>1</th>\n",
       "      <th>2</th>\n",
       "    </tr>\n",
       "  </thead>\n",
       "  <tbody>\n",
       "    <tr>\n",
       "      <th>0</th>\n",
       "      <td>рублей за грамм</td>\n",
       "      <td>30.12.2021</td>\n",
       "      <td>31.12.2021</td>\n",
       "    </tr>\n",
       "    <tr>\n",
       "      <th>1</th>\n",
       "      <td>Золото  Au</td>\n",
       "      <td>4 253,66</td>\n",
       "      <td>4 297,62</td>\n",
       "    </tr>\n",
       "    <tr>\n",
       "      <th>2</th>\n",
       "      <td>Серебро  Ag</td>\n",
       "      <td>5367</td>\n",
       "      <td>5454</td>\n",
       "    </tr>\n",
       "    <tr>\n",
       "      <th>3</th>\n",
       "      <td>Платина  Pt</td>\n",
       "      <td>2 299,28</td>\n",
       "      <td>2 309,74</td>\n",
       "    </tr>\n",
       "    <tr>\n",
       "      <th>4</th>\n",
       "      <td>Палладий  Pd</td>\n",
       "      <td>4 653,01</td>\n",
       "      <td>4 724,57</td>\n",
       "    </tr>\n",
       "  </tbody>\n",
       "</table>\n",
       "</div>"
      ],
      "text/plain": [
       "                 0           1           2\n",
       "0  рублей за грамм  30.12.2021  31.12.2021\n",
       "1       Золото  Au    4 253,66    4 297,62\n",
       "2      Серебро  Ag        5367        5454\n",
       "3      Платина  Pt    2 299,28    2 309,74\n",
       "4     Палладий  Pd    4 653,01    4 724,57"
      ]
     },
     "execution_count": 222,
     "metadata": {},
     "output_type": "execute_result"
    }
   ],
   "source": [
    "import pandas as pd  \n",
    "url = 'https://www.cbr.ru/key-indicators/'  \n",
    "# Таблица с драгметаллами оказалась третьей по счёту  \n",
    "pd.read_html(url)[2]  "
   ]
  },
  {
   "cell_type": "markdown",
   "id": "00c6992f",
   "metadata": {},
   "source": [
    "## Задание 1 - Курсы валют через read_html\n",
    "Попробуйте запустить `pandas` для заданного выше `url`. Какая строчка вернёт таблицу с курсами валют?"
   ]
  },
  {
   "cell_type": "code",
   "execution_count": 223,
   "id": "c8481fce",
   "metadata": {},
   "outputs": [
    {
     "data": {
      "text/html": [
       "<div>\n",
       "<style scoped>\n",
       "    .dataframe tbody tr th:only-of-type {\n",
       "        vertical-align: middle;\n",
       "    }\n",
       "\n",
       "    .dataframe tbody tr th {\n",
       "        vertical-align: top;\n",
       "    }\n",
       "\n",
       "    .dataframe thead th {\n",
       "        text-align: right;\n",
       "    }\n",
       "</style>\n",
       "<table border=\"1\" class=\"dataframe\">\n",
       "  <thead>\n",
       "    <tr style=\"text-align: right;\">\n",
       "      <th></th>\n",
       "      <th>0</th>\n",
       "      <th>1</th>\n",
       "      <th>2</th>\n",
       "    </tr>\n",
       "  </thead>\n",
       "  <tbody>\n",
       "    <tr>\n",
       "      <th>0</th>\n",
       "      <td>валюта</td>\n",
       "      <td>30.12.2021</td>\n",
       "      <td>31.12.2021</td>\n",
       "    </tr>\n",
       "    <tr>\n",
       "      <th>1</th>\n",
       "      <td>Доллар США  USD</td>\n",
       "      <td>736514</td>\n",
       "      <td>742926</td>\n",
       "    </tr>\n",
       "    <tr>\n",
       "      <th>2</th>\n",
       "      <td>Евро  EUR</td>\n",
       "      <td>832040</td>\n",
       "      <td>840695</td>\n",
       "    </tr>\n",
       "  </tbody>\n",
       "</table>\n",
       "</div>"
      ],
      "text/plain": [
       "                 0           1           2\n",
       "0           валюта  30.12.2021  31.12.2021\n",
       "1  Доллар США  USD      736514      742926\n",
       "2        Евро  EUR      832040      840695"
      ]
     },
     "execution_count": 223,
     "metadata": {},
     "output_type": "execute_result"
    }
   ],
   "source": [
    "pd.read_html(url)[1]"
   ]
  },
  {
   "cell_type": "markdown",
   "id": "209f9204",
   "metadata": {},
   "source": [
    "**А теперь — внимание!** В случае работы с сайтом Центробанка нам нужно будет учесть ещё один нюанс. С недавнего времени администраторы стали блокировать обращения к сайту, поступающие не от «живых» пользователей, а от компьютерных программ (в том числе от той, которую мы собираемся написать прямо сейчас). Есть ли шанс в таких условиях всё-таки получить данные, не открывая страницу в браузере?\n",
    "\n",
    "Каждый запрос, отправляемый с помощью команды get, имеет заголовок. Если заголовок не задан явно, то он создаётся автоматически, и туда добавляется информация в том числе о том, кто является субъектом (или источником) запроса — человек или программа. Чтобы «притвориться» браузером, нам просто нужно вручную дописать нужные сведения в этот заголовок. Подробнее о таком подходе можно почитать в [этой](https://habr.com/ru/company/ods/blog/346632/) статье.\n",
    "\n",
    "Итоговый вариант кода после добавления заголовка должен выглядеть так:\n",
    "\n",
    "```python\n",
    "url = 'https://www.cbr.ru/key-indicators/'\n",
    "soup = BeautifulSoup(requests.get(url, headers={'User-Agent': 'Mozilla/5.0'}).text, 'html.parser')  \n",
    "```"
   ]
  },
  {
   "cell_type": "markdown",
   "id": "68a312bd",
   "metadata": {},
   "source": [
    "## Задание 2 - Рейтинг банков\n",
    "Напишите программу, которая забирает данные из таблицы рейтинга банков с https://www.banki.ru/banks/ratings/, делает из него датафрейм и сохраняет его в переменую df."
   ]
  },
  {
   "cell_type": "code",
   "execution_count": 224,
   "id": "f1d0b24d",
   "metadata": {},
   "outputs": [],
   "source": [
    "url = 'https://www.banki.ru/banks/ratings/'\n",
    "response = requests.get(url, headers={'User-Agent': 'Mozilla/5.0'})\n",
    "\n",
    "page = BeautifulSoup(response.text, 'html.parser')\n",
    "\n",
    "data = page.find_all('div',class_=\"layout-column-full\")[2].find('table')\n",
    "\n",
    "df =  pd.read_html(str(data))[0]  "
   ]
  },
  {
   "cell_type": "markdown",
   "id": "d99c2a7f",
   "metadata": {},
   "source": [
    "# Введение в API\n",
    "В предыдущих разделах мы собирали полезную информацию с различных сайтов с выделением правильных тэгов – это довольно трудоёмкая задача. Кроме того, подобные программы могут ломаться в случаях, когда меняется дизайн сайта, его разметка, или владельцы сайтов защищаются от ботов капчей. \n",
    "\n",
    "К счастью, многие крупные сайты предоставляют доступ к так называемым **API** (***application programming interface***, программный интерфейс приложения). Это специальные разделы сайта, где информацию можно получать без разметки, формат запросов – ответов зафиксирован, и они созданы специально, чтобы облегчить жизнь сторонним разработчикам.\n",
    "\n",
    "Мы уже видели, как https://www.cbr-xml-daily.ru возвращает данные о валютах в `json`-формате, и это может считаться **API**. В этом разделе мы на примере ***ВКонтакте*** посмотрим особенности **API**, характерные для более крупных сайтов.\n",
    "\n",
    "Для примера работы с **API** мы будем получать данные для статистических отчетов произвольной группы, например:\n",
    "- соотношение мужчин и женщин в группе;\n",
    "- статистика географии пользователей;\n",
    "- другие данные для аналитики групп конкурентов.\n",
    "Сначала рассмотрим работу **API** на простом примере, на основе которого работают многие системы. \n",
    "\n",
    "Перейдите по следующей ссылке в браузере, подставив вместо слова \"TOKEN\" сервисный токен из вашего придложения:\n",
    "\n",
    "`https://api.vk.com/method/users.get?user_id=1&v=5.95&access_token=TOKEN`\n",
    "\n",
    "https://api.vk.com/method/users.get?user_id=1&v=5.95&access_token=30ee232d30ee232d30ee232d073094976d330ee30ee232d513c275be4ec7c32b92aec54"
   ]
  },
  {
   "cell_type": "markdown",
   "id": "4aae1c1b",
   "metadata": {},
   "source": [
    "Результат: `{\"response\":[{\"id\":1,\"first_name\":\"Павел\",\"last_name\":\"Дуров\",\"can_access_closed\":true,\"is_closed\":false}]}`\n",
    "\n",
    "\n",
    "Сейчас мы сделали **GET-запрос** к **API ВКонтакте**, который состоит из следующих частей:\n",
    "\n",
    "- https://api.vk.com/method — домен и URL запроса API: обычно не меняется; \n",
    "- users.get — название метода, который отдает определенный отчет; нашем случае это метод для получения информации о пользователе; \n",
    "- user_id и v — параметры запроса: идентификатор пользователя, о котором хотим получить информацию, и номер версии API; \n",
    "- token, который выдается только пользователям, имеющим право просматривать определенные данные, например, показания счетчиков Яндекс, метрики вашего проекта: на все остальные запросы без корректного токена система отвечает отказом.  \n",
    "\n",
    "Если мы посмотрим [документацию метода `users.get`](https://vk.com/dev/users.get), то увидим, что в ней описано множество других параметров, которые можно получить о пользователе: дата рождения, пол, родной город и другие.\n",
    "\n",
    "Словом, всё то, что мы видим на странице пользователя в интерфейсе или приложении ВКонтакте (конечно, если пользователь их указал). Добавим к запросу дату рождения и пол (согласно документации, эти параметры надо перечислять в поле `fields`):\n",
    "\n",
    "https://api.vk.com/method/users.get?user_id=1&v=5.95&fields=sex,bdate&access_token=30ee232d30ee232d30ee232d073094976d330ee30ee232d513c275be4ec7c32b92aec54\n",
    "\n",
    "Результат:\n",
    "\n",
    "`{\"response\":[{\"id\":1,\"first_name\":\"Павел\",\"last_name\":\"Дуров\",\"is_closed\":false,\"can_access_closed\":true,\"sex\":2,\"bdate\":\"10.10.1984\"}]}`     \n",
    "Примечание: значение 2 у параметра 'sex' означает мужской пол.  "
   ]
  },
  {
   "cell_type": "markdown",
   "id": "94ccb845",
   "metadata": {},
   "source": [
    "## Задание 1 - ID страны\n",
    "Какое значение **ID** у страны, указанной в профиле Павла Дурова (**ID** отдается вместе с названием страны)? Укажите ответ в виде целого числа."
   ]
  },
  {
   "cell_type": "markdown",
   "id": "d58a7c7a",
   "metadata": {},
   "source": [
    "https://api.vk.com/method/users.get?user_id=1&v=5.95&fields=country&access_token=30ee232d30ee232d30ee232d073094976d330ee30ee232d513c275be4ec7c32b92aec54   \n",
    "\n",
    "Результат:   \n",
    "`{\"response\":[{\"id\":1,\"first_name\":\"Павел\",\"last_name\":\"Дуров\",\"can_access_closed\":true,\"is_closed\":false,\"country\":{\"title\":\"Россия\",\"id\":1}}]}`"
   ]
  },
  {
   "cell_type": "markdown",
   "id": "24a9fda4",
   "metadata": {},
   "source": [
    "# Запрос к API из кода\n",
    "Мы делали запрос в браузере, теперь давайте сделаем запрос из кода. Будем пользоваться всё той же библиотекой requests.\n",
    "\n",
    "```python\n",
    "import requests  \n",
    "  \n",
    "url = 'https://api.vk.com/method/users.get'   \n",
    "params = {'user_id': 1, 'v': 5.95, 'fields': 'sex,bdate', 'access_token': token, 'lang': 'ru'}  \n",
    "  \n",
    "# Мы можем выставить параметры запроса через аргумент params  \n",
    "response = requests.get(url, params=params)  \n",
    "response.text  \n",
    "```"
   ]
  },
  {
   "cell_type": "code",
   "execution_count": 225,
   "id": "bf4d496c",
   "metadata": {},
   "outputs": [
    {
     "data": {
      "text/plain": [
       "'{\"response\":[{\"id\":1,\"first_name\":\"Павел\",\"last_name\":\"Дуров\",\"can_access_closed\":true,\"is_closed\":false,\"sex\":2,\"bdate\":\"10.10.1984\"}]}'"
      ]
     },
     "execution_count": 225,
     "metadata": {},
     "output_type": "execute_result"
    }
   ],
   "source": [
    "url = 'https://api.vk.com/method/users.get'   \n",
    "params = {'user_id': 1, \n",
    "          'v': 5.95, \n",
    "          'fields': 'sex,bdate',\n",
    "          'access_token': '30ee232d30ee232d30ee232d073094976d330ee30ee232d513c275be4ec7c32b92aec54', \n",
    "          'lang': 'ru'}  \n",
    "\n",
    "# Мы можем выставить параметры запроса через аргумент params  \n",
    "response = requests.get(url, params=params)  \n",
    "response.text  "
   ]
  },
  {
   "cell_type": "markdown",
   "id": "f6fe45fb",
   "metadata": {},
   "source": [
    "Мы получили строку в формате **JSON**. Как мы помним по первому разделу, её можно преобразовать в словарь методом `json` и после этого обращаться к различным полям. Кроме того, такие большие вложенные словари нагляднее выводить с помощью функции `pprint` (***~pretty print***, красивый вывод), которым мы и воспользуемсяm"
   ]
  },
  {
   "cell_type": "code",
   "execution_count": 226,
   "id": "c6bdcdac",
   "metadata": {},
   "outputs": [
    {
     "name": "stdout",
     "output_type": "stream",
     "text": [
      "{'response': [{'bdate': '10.10.1984',\n",
      "               'can_access_closed': True,\n",
      "               'first_name': 'Павел',\n",
      "               'id': 1,\n",
      "               'is_closed': False,\n",
      "               'last_name': 'Дуров',\n",
      "               'sex': 2}]}\n"
     ]
    }
   ],
   "source": [
    "from pprint import pprint \n",
    "\n",
    "pprint(response.json())  "
   ]
  },
  {
   "cell_type": "code",
   "execution_count": 227,
   "id": "b3c2f960",
   "metadata": {},
   "outputs": [
    {
     "data": {
      "text/plain": [
       "{'response': [{'id': 1, 'first_name': 'Павел', 'last_name': 'Дуров', 'can_access_closed': True, 'is_closed': False, 'sex': 2, 'bdate': '10.10.1984'}]}"
      ]
     },
     "execution_count": 227,
     "metadata": {},
     "output_type": "execute_result"
    }
   ],
   "source": [
    "response.json()"
   ]
  },
  {
   "cell_type": "code",
   "execution_count": 228,
   "id": "bd3879e0",
   "metadata": {},
   "outputs": [
    {
     "name": "stdout",
     "output_type": "stream",
     "text": [
      "10.10.1984\n",
      "Павел\n"
     ]
    }
   ],
   "source": [
    "user = response.json()['response'][0]  \n",
    "\n",
    "# Выведем дату рождения  \n",
    "print(user['bdate'])  \n",
    "  \n",
    "# Выведем имя  \n",
    "print(user['first_name'])  "
   ]
  },
  {
   "cell_type": "markdown",
   "id": "9e9959d2",
   "metadata": {},
   "source": [
    "Данный метод позволяет запрашивать сразу много пользователей (до 1000).  Для этого нужно использовать параметр `user_ids` и передавать `id` через запятую в строковом формате, например: `'1,2,3'`."
   ]
  },
  {
   "cell_type": "code",
   "execution_count": 229,
   "id": "722a8975",
   "metadata": {},
   "outputs": [
    {
     "name": "stdout",
     "output_type": "stream",
     "text": [
      "1,2,3\n"
     ]
    }
   ],
   "source": [
    "ids = \",\".join(map(str, range(1, 4)))  \n",
    "print(ids)  "
   ]
  },
  {
   "cell_type": "code",
   "execution_count": 230,
   "id": "55e912a7",
   "metadata": {},
   "outputs": [
    {
     "name": "stdout",
     "output_type": "stream",
     "text": [
      "{'response': [{'can_access_closed': True,\n",
      "               'first_name': 'Павел',\n",
      "               'id': 1,\n",
      "               'is_closed': False,\n",
      "               'last_name': 'Дуров'},\n",
      "              {'can_access_closed': False,\n",
      "               'first_name': 'Александра',\n",
      "               'id': 2,\n",
      "               'is_closed': True,\n",
      "               'last_name': 'Владимирова'},\n",
      "              {'deactivated': 'deleted',\n",
      "               'first_name': 'DELETED',\n",
      "               'id': 3,\n",
      "               'last_name': ''}]}\n"
     ]
    }
   ],
   "source": [
    "params = {'user_ids': ids, \n",
    "          'v': 5.95, \n",
    "          'fields': 'bday', \n",
    "          'access_token': '30ee232d30ee232d30ee232d073094976d330ee30ee232d513c275be4ec7c32b92aec54', \n",
    "          'lang': 'ru'}  \n",
    "  \n",
    "pprint(requests.get(url, params=params).json()) "
   ]
  },
  {
   "cell_type": "markdown",
   "id": "4b2bf2fc",
   "metadata": {},
   "source": [
    "## Задание 1 - Гендерный баланс\n",
    "Используя **API**, определите долю женщин(sex=1) среди пользователей с **id** от **1 до 500**. Иногда вам будут попадать пользователи, у которых пол не указан (sex=0), их не нужно учитывать в общем числе.\n",
    "\n",
    "В ответе укажите число, округлив до двух знаков после запятой, например, 0.55\n",
    "\n",
    "Пример: если у нас будет 300 пользователей sex=1, 100 пользователей с sex=2 и 100 пользователей с sex=0, то в ответе должно быть 0.75"
   ]
  },
  {
   "cell_type": "code",
   "execution_count": 231,
   "id": "db4a739f",
   "metadata": {},
   "outputs": [
    {
     "data": {
      "text/plain": [
       "0.48"
      ]
     },
     "execution_count": 231,
     "metadata": {},
     "output_type": "execute_result"
    }
   ],
   "source": [
    "url = 'https://api.vk.com/method/users.get'\n",
    "ids = \",\".join(map(str, range(1, 501)))\n",
    "params = {'user_ids': ids, \n",
    "          'v': 5.95, \n",
    "          'fields': 'sex', \n",
    "          'access_token': '30ee232d30ee232d30ee232d073094976d330ee30ee232d513c275be4ec7c32b92aec54', \n",
    "          'lang': 'ru'}  \n",
    "\n",
    "response = requests.get(url, params=params)\n",
    "gender = [x['sex'] for x in response.json()['response']]\n",
    "ans = gender.count(1)/(gender.count(1) + gender.count(2)) \n",
    "round(ans,2)"
   ]
  },
  {
   "cell_type": "markdown",
   "id": "bdde62fd",
   "metadata": {},
   "source": [
    "# Ограничения API\n",
    "В текущем шаге мы научимся работать с двумя ограничениями, которые свойственны практически всем системам:\n",
    "- ограничение на количество вызовов в единицу времени;\n",
    "- ограничение на количество выгружаемых строк за один запрос.   \n",
    "\n",
    "Ограничение на количество запросов в секунду сделано для того, чтобы избежать чрезмерной нагрузки на серверы системы. В ряде случаев небольшое количество отчетов можно выгрузить, уложившись в этот лимит (например, как мы получили информацию о 500 пользователях в прошлом упражнении). Однако второе ограничение не удастся «обойти» в случае выгрузки больших отчетов. Например, чтобы получить список всех пользователей очень популярной группы, серверу, возможно, придется отправить вам разом лист из миллионов записей.   \n",
    "Давайте рассмотрим, как работать с этими ограничениями на примере выгрузки списка пользователей группы https://vk.com/vk.\n",
    "\n",
    "Посмотрим в документации, какие методы нам доступны для групп. Для получения списка пользователей группы видим метод `groups.getMembers`.\n",
    "\n",
    "Согласно документации, обязательным параметром является `ID` или короткое имя группы. В нашем случае это **vk**: https://vk.com/vk. Тестируем, как работает метод в самом простом случае:"
   ]
  },
  {
   "cell_type": "code",
   "execution_count": 232,
   "id": "450f20fb",
   "metadata": {},
   "outputs": [
    {
     "name": "stdout",
     "output_type": "stream",
     "text": [
      "{'response': {'count': 12211118, 'items': [5, 6, 19, 34, 47, 54, 79, 177, 193, 198, 212, 219, 239, 243, 254, 345, 404, 406, 407, 467, 485, 510, 550, 619, 628, 640, 643, 690, 702, 720, 721, 724, 744, 804, 809, 831, 832, 834, 847, 900, 905, 907, 914, 943, 952, 958, 966, 976, 979, 1000, 1018, 1023, 1032, 1033, 1038, 1039, 1059, 1097, 1131, 1139, 1140, 1159, 1174, 1185, 1188, 1290, 1301, 1333, 1334, 1336, 1351, 1359, 1381, 1386, 1388, 1406, 1411, 1418, 1432, 1494, 1531, 1543, 1568, 1586, 1590, 1593, 1598, 1610, 1615, 1632, 1634, 1650, 1679, 1690, 1697, 1698, 1699, 1700, 1721, 1740, 1754, 1796, 1814, 1820, 1829, 1834, 1839, 1840, 1843, 1858, 1863, 1868, 1869, 1887, 1889, 1917, 1943, 1947, 1955, 1969, 2019, 2028, 2050, 2051, 2052, 2059, 2077, 2103, 2145, 2150, 2195, 2201, 2202, 2230, 2236, 2273, 2281, 2294, 2296, 2298, 2376, 2389, 2395, 2403, 2412, 2436, 2456, 2466, 2470, 2484, 2515, 2527, 2539, 2571, 2576, 2592, 2601, 2622, 2644, 2654, 2692, 2706, 2745, 2755, 2767, 2787, 2797, 2827, 2858, 2896, 2909, 2919, 2922, 2953, 2962, 2982, 3001, 3006, 3041, 3130, 3135, 3140, 3172, 3186, 3203, 3213, 3231, 3250, 3254, 3316, 3320, 3321, 3328, 3331, 3364, 3372, 3373, 3384, 3388, 3402, 3420, 3422, 3427, 3436, 3450, 3458, 3472, 3483, 3486, 3491, 3492, 3520, 3545, 3556, 3581, 3597, 3626, 3637, 3646, 3653, 3657, 3658, 3675, 3684, 3690, 3697, 3713, 3719, 3786, 3820, 3824, 3836, 3837, 3851, 3863, 3904, 3909, 3938, 3948, 3979, 4004, 4010, 4023, 4026, 4041, 4047, 4048, 4108, 4130, 4150, 4157, 4189, 4192, 4236, 4262, 4282, 4326, 4360, 4439, 4440, 4447, 4485, 4505, 4521, 4528, 4530, 4537, 4543, 4554, 4558, 4563, 4564, 4583, 4599, 4601, 4625, 4640, 4668, 4669, 4670, 4672, 4689, 4693, 4728, 4731, 4754, 4767, 4769, 4818, 4857, 4862, 4866, 4881, 4921, 4923, 4928, 4947, 4981, 4985, 5011, 5017, 5024, 5067, 5073, 5161, 5166, 5183, 5262, 5273, 5280, 5286, 5386, 5387, 5392, 5394, 5399, 5401, 5430, 5432, 5436, 5438, 5472, 5479, 5481, 5527, 5546, 5547, 5585, 5590, 5606, 5615, 5629, 5634, 5665, 5690, 5701, 5733, 5768, 5775, 5793, 5803, 5819, 5846, 5850, 5896, 5914, 5916, 5932, 5944, 5959, 5965, 5990, 5991, 5997, 6000, 6021, 6037, 6046, 6086, 6099, 6107, 6111, 6154, 6161, 6167, 6181, 6186, 6187, 6203, 6260, 6265, 6293, 6323, 6333, 6339, 6379, 6380, 6390, 6492, 6520, 6547, 6557, 6564, 6595, 6604, 6627, 6635, 6670, 6683, 6689, 6701, 6703, 6709, 6715, 6797, 6801, 6862, 6950, 6960, 6994, 7012, 7036, 7040, 7050, 7052, 7068, 7099, 7112, 7115, 7117, 7188, 7200, 7208, 7226, 7227, 7286, 7290, 7338, 7402, 7404, 7428, 7451, 7481, 7492, 7500, 7525, 7543, 7547, 7557, 7595, 7615, 7652, 7661, 7725, 7737, 7755, 7768, 7777, 7830, 7833, 7847, 7855, 7858, 7860, 7962, 7982, 7998, 8019, 8066, 8080, 8093, 8149, 8157, 8166, 8167, 8181, 8182, 8194, 8195, 8201, 8224, 8240, 8266, 8273, 8298, 8310, 8321, 8323, 8347, 8348, 8377, 8398, 8418, 8422, 8436, 8443, 8479, 8484, 8505, 8518, 8536, 8544, 8576, 8610, 8636, 8642, 8656, 8658, 8704, 8718, 8727, 8738, 8752, 8777, 8792, 8813, 8875, 8883, 8910, 8937, 8959, 8972, 9000, 9014, 9016, 9079, 9095, 9100, 9110, 9111, 9115, 9173, 9187, 9189, 9222, 9246, 9256, 9319, 9355, 9399, 9412, 9435, 9444, 9447, 9450, 9459, 9466, 9469, 9499, 9527, 9532, 9536, 9547, 9556, 9566, 9569, 9571, 9579, 9699, 9723, 9737, 9741, 9748, 9775, 9778, 9782, 9847, 9894, 9900, 9954, 9981, 9993, 10090, 10117, 10155, 10162, 10217, 10272, 10284, 10286, 10302, 10350, 10351, 10354, 10365, 10366, 10376, 10516, 10518, 10570, 10596, 10607, 10615, 10639, 10682, 10697, 10741, 10749, 10767, 10811, 10833, 10887, 10919, 10955, 10956, 10961, 10972, 10999, 11027, 11059, 11064, 11068, 11081, 11084, 11150, 11187, 11191, 11236, 11243, 11271, 11303, 11446, 11451, 11483, 11568, 11649, 11727, 11747, 11754, 11763, 11768, 11782, 11792, 11865, 11964, 11983, 12005, 12029, 12036, 12097, 12133, 12150, 12159, 12172, 12213, 12252, 12255, 12264, 12316, 12325, 12332, 12345, 12353, 12367, 12407, 12441, 12454, 12456, 12473, 12477, 12545, 12560, 12570, 12617, 12625, 12707, 12716, 12718, 12736, 12748, 12762, 12803, 12808, 12817, 12821, 12859, 12892, 12922, 12932, 12952, 12957, 12982, 13008, 13063, 13080, 13173, 13224, 13233, 13324, 13357, 13371, 13401, 13411, 13534, 13600, 13604, 13614, 13620, 13650, 13664, 13675, 13749, 13754, 13779, 13794, 13836, 13876, 13894, 13896, 13900, 13905, 13933, 13963, 13977, 14009, 14055, 14099, 14115, 14161, 14195, 14201, 14210, 14252, 14259, 14270, 14280, 14351, 14388, 14417, 14423, 14476, 14515, 14524, 14560, 14572, 14639, 14647, 14681, 14682, 14742, 14751, 14764, 14800, 14823, 14846, 14855, 14866, 14901, 14911, 14939, 14966, 15046, 15056, 15069, 15077, 15221, 15224, 15236, 15244, 15261, 15275, 15295, 15314, 15317, 15344, 15413, 15416, 15485, 15488, 15502, 15505, 15512, 15564, 15622, 15651, 15684, 15687, 15699, 15700, 15826, 15871, 15891, 15908, 15912, 15974, 16054, 16085, 16095, 16115, 16124, 16126, 16179, 16200, 16227, 16354, 16394, 16421, 16425, 16450, 16461, 16463, 16474, 16614, 16627, 16634, 16698, 16710, 16733, 16739, 16811, 16827, 16877, 16878, 16894, 16909, 16990, 17020, 17043, 17077, 17078, 17087, 17142, 17159, 17197, 17201, 17212, 17266, 17365, 17384, 17402, 17419, 17447, 17464, 17503, 17504, 17506, 17521, 17561, 17579, 17583, 17586, 17670, 17675, 17680, 17713, 17737, 17748, 17766, 17785, 17816, 17836, 17867, 17870, 17876, 17880, 17905, 17975, 17990, 18013, 18086, 18146, 18162, 18172, 18185, 18219, 18257, 18295, 18317, 18318, 18339, 18355, 18370, 18395, 18421, 18434, 18465, 18517, 18518, 18521, 18529, 18578, 18594, 18665, 18690, 18715, 18719, 18739, 18773, 18787, 18816, 18823, 18937, 18939, 18969, 19010, 19057, 19064, 19068, 19107, 19123, 19169, 19214, 19232, 19301, 19386, 19388, 19424, 19441, 19471, 19472, 19517, 19553, 19566, 19571, 19581, 19618, 19629, 19642, 19669, 19691, 19696, 19712, 19755, 19757, 19795, 19798, 19816, 19845, 19900, 19903, 19931, 19935, 19962, 19971, 19979, 20017, 20020, 20035, 20061, 20075, 20127, 20129, 20145, 20152, 20164, 20174, 20333, 20334, 20373, 20384, 20391, 20429, 20443, 20486, 20502, 20550, 20557, 20571, 20579, 20587, 20591, 20605, 20657, 20678, 20713, 20751, 20767, 20768, 20789, 20876, 20881, 20975, 20992, 21003, 21076, 21089, 21131, 21179, 21245, 21267, 21275, 21280, 21348, 21356, 21357, 21405, 21438, 21445, 21528, 21557, 21558, 21560, 21565, 21626, 21628, 21675, 21676, 21816, 21887, 21917, 21930, 21965, 22004, 22014, 22117, 22120, 22157, 22225, 22299, 22380, 22384, 22451, 22461, 22471, 22493, 22535, 22566, 22651, 22673, 22674]}}\n"
     ]
    }
   ],
   "source": [
    "url = 'https://api.vk.com/method/groups.getMembers'  \n",
    "token = '30ee232d30ee232d30ee232d073094976d330ee30ee232d513c275be4ec7c32b92aec54'\n",
    "params = {  \n",
    "    'group_id': 'vk',  \n",
    "    'v': 5.95,  \n",
    "    'access_token': token  \n",
    "}  \n",
    "response = requests.get(url, params = params)  \n",
    "data = response.json()  \n",
    "print(data)  "
   ]
  },
  {
   "cell_type": "code",
   "execution_count": 233,
   "id": "c130fdd9",
   "metadata": {},
   "outputs": [
    {
     "data": {
      "text/plain": [
       "1000"
      ]
     },
     "execution_count": 233,
     "metadata": {},
     "output_type": "execute_result"
    }
   ],
   "source": [
    "len(data['response']['items'])  "
   ]
  },
  {
   "cell_type": "markdown",
   "id": "f2e386aa",
   "metadata": {},
   "source": [
    "Получаем всех пользователей\n",
    "Мы видим, что всего пользователей в группе больше 11 000 000, а получили мы только первую тысячу пользователей группы. Судя по описанию параметра count в документации, это максимум, который может отдать API за один раз.\n",
    "\n",
    "Для получения следующей тысячи пользователей воспользуемся параметрами `count` и `offset`: будем в цикле выгружать по 1000 пользователей (count будет всегда равен 1000), а в каждом следующем шаге цикла увеличим смещение offset на величину count.\n",
    "\n",
    "Сначала напишем цикл выгрузки первых 20 пользователей со значением `count` = 5. Т.е. цикл будет выгружать за 1 запрос по 5 пользователей, пока не выгрузит первые 20. Это позволит нам проверить корректность работы цикла перед тем, как делать большие и долгие выгрузки.\n",
    "\n",
    "Давайте выведем на экран первые 20 пользователей из нашей первой попытки с 1000 пользователей, чтобы было с чем сверить результат выгрузки из 20 пользователей:"
   ]
  },
  {
   "cell_type": "code",
   "execution_count": 234,
   "id": "03e405fd",
   "metadata": {},
   "outputs": [
    {
     "name": "stdout",
     "output_type": "stream",
     "text": [
      "[5, 6, 19, 34, 47, 54, 79, 177, 193, 198, 212, 219, 239, 243, 254, 345, 404, 406, 407, 467]\n"
     ]
    }
   ],
   "source": [
    "users_for_checking = data['response']['items'][:20]  \n",
    "print(users_for_checking)  "
   ]
  },
  {
   "cell_type": "markdown",
   "id": "2a3a3e72",
   "metadata": {},
   "source": [
    "Теперь используем `count` и `offset`, чтобы получить те же `id` по 5 за раз"
   ]
  },
  {
   "cell_type": "code",
   "execution_count": 240,
   "id": "611d183b",
   "metadata": {},
   "outputs": [
    {
     "name": "stdout",
     "output_type": "stream",
     "text": [
      "Выгружаю 5 пользователей с offset = 0\n",
      "Выгружаю 5 пользователей с offset = 5\n",
      "Выгружаю 5 пользователей с offset = 10\n",
      "Выгружаю 5 пользователей с offset = 15\n",
      "[5, 6, 19, 34, 47, 54, 79, 177, 193, 198, 212, 219, 239, 243, 254, 345, 404, 406, 407, 467]\n"
     ]
    }
   ],
   "source": [
    "count = 5  \n",
    "offset = 0  \n",
    "user_ids = []\n",
    "max_count = 20  \n",
    "while offset < max_count:  \n",
    "    print('Выгружаю {} пользователей с offset = {}'.format(count, offset))     \n",
    "    params = {  \n",
    "        'group_id': 'vk',  \n",
    "        'v': 5.95,  \n",
    "        'count': count,  \n",
    "        'offset': offset,  \n",
    "        'access_token': token  \n",
    "    }     \n",
    "    # такой же запрос как в прошлый раз  \n",
    "    r = requests.get(url, params = params)  \n",
    "    data = r.json()     \n",
    "    user_ids += data['response']['items']   \n",
    "  \n",
    "    # увеличиваем смещение на количество строк выгрузки  \n",
    "    offset += count  \n",
    "\n",
    "print(user_ids)  "
   ]
  },
  {
   "cell_type": "markdown",
   "id": "d75230d1",
   "metadata": {},
   "source": [
    "Видим, что подход корректно работает. Теперь мы можем получить всех пользователей, выставив `count = 1000` и `max_count = data['response']['count']`."
   ]
  },
  {
   "cell_type": "markdown",
   "id": "3585fde5",
   "metadata": {},
   "source": [
    "## Задание 1 - Юбилейный пользователь\n",
    "Используя **API**, определите **id** стотысячного пользователя в группе vk . Т.е. если бы у нас не было ограничения на размер запроса, то мы бы запросили data['response']['items'][99999] ."
   ]
  },
  {
   "cell_type": "code",
   "execution_count": 243,
   "id": "8e7b5687",
   "metadata": {},
   "outputs": [
    {
     "name": "stdout",
     "output_type": "stream",
     "text": [
      "Выгружаю 1000 пользователей с offset = 0\n",
      "Выгружаю 1000 пользователей с offset = 5000\n",
      "Выгружаю 1000 пользователей с offset = 10000\n",
      "Выгружаю 1000 пользователей с offset = 15000\n",
      "Выгружаю 1000 пользователей с offset = 20000\n",
      "Выгружаю 1000 пользователей с offset = 25000\n",
      "Выгружаю 1000 пользователей с offset = 30000\n",
      "Выгружаю 1000 пользователей с offset = 35000\n",
      "Выгружаю 1000 пользователей с offset = 40000\n",
      "Выгружаю 1000 пользователей с offset = 45000\n",
      "Выгружаю 1000 пользователей с offset = 50000\n",
      "Выгружаю 1000 пользователей с offset = 55000\n",
      "Выгружаю 1000 пользователей с offset = 60000\n",
      "Выгружаю 1000 пользователей с offset = 65000\n",
      "Выгружаю 1000 пользователей с offset = 70000\n",
      "Выгружаю 1000 пользователей с offset = 75000\n",
      "Выгружаю 1000 пользователей с offset = 80000\n",
      "Выгружаю 1000 пользователей с offset = 85000\n",
      "Выгружаю 1000 пользователей с offset = 90000\n",
      "Выгружаю 1000 пользователей с offset = 95000\n",
      "6056444\n"
     ]
    }
   ],
   "source": [
    "import time \n",
    "\n",
    "count = 1000  \n",
    "offset = 0  \n",
    "user_ids = []\n",
    "max_count = 99999  \n",
    "while offset < max_count:  \n",
    "    if offset%5000 == 0:\n",
    "        print('Выгружаю {} пользователей с offset = {}'.format(count, offset))     \n",
    "    params = {  \n",
    "        'group_id': 'vk',  \n",
    "        'v': 5.95,  \n",
    "        'count': count,  \n",
    "        'offset': offset,  \n",
    "        'access_token': token  \n",
    "    }     \n",
    "    # такой же запрос как в прошлый раз  \n",
    "    r = requests.get(url, params = params)  \n",
    "    data = r.json()     \n",
    "    user_ids += data['response']['items']   \n",
    "  \n",
    "    # увеличиваем смещение на количество строк выгрузки  \n",
    "    offset += count  \n",
    "    time.sleep(0.5) \n",
    "    \n",
    "    \n",
    "print(user_ids[99999])  "
   ]
  },
  {
   "cell_type": "markdown",
   "id": "fde79d9a",
   "metadata": {},
   "source": [
    "# Лайки, репосты и комментарии\n",
    "Ещё одна полезная вещь, которую можно получить,  —  это количество взаимодействий с постами через **API** новостной ленты. На данном этапе будем использовать самый простой вариант: берем последние 10 постов группы. Мы продолжаем работать с группой https://vk.com/vk.\n",
    "\n",
    "Начнем с  формирования запроса к **API ВКонтакте** методом `wall.get()`:"
   ]
  },
  {
   "cell_type": "code",
   "execution_count": 244,
   "id": "dcc78548",
   "metadata": {},
   "outputs": [
    {
     "data": {
      "text/plain": [
       "{'response': {'count': 464, 'items': [{'id': 1251019, 'from_id': -22822305, 'owner_id': -22822305, 'date': 1639138500, 'marked_as_ads': 0, 'post_type': 'post', 'text': 'Этот год оказался богатым на события — всем нам было что обсудить. Начинаем подводить итоги 2021-го. Сегодня делимся списком тем и персон, о которых чаще всего говорили пользователи ВКонтакте. \\n\\nСамой волнующей темой в 2021 году остаётся пандемия COVID-19. Пользователи писали не только про коронавирус, но и про вакцинацию, удалённую работу, осенний локдаун и систему QR-кодов. Суммарно все эти вопросы обсуждались 68,5 млн раз. Также большой интерес вызывали общественно-политические новости. Уже несколько лет подряд рейтинг самых упоминаемых персон возглавляет Владимир Путин. В топе и лидеры других стран: Владимир Зеленский, Александр Лукашенко, 45-й президент США Дональд Трамп. \\n\\nПользователей ВКонтакте увлекали музыканты: они заняли почти половину позиций в топ-15 самых упоминаемых персон. К примеру, на третьем месте — k-pop-группа BTS. Кроме того, в рейтинг попали популярные культурные и спортивные события: пользователи ВКонтакте следили за «Евровидением», премией «Оскар», Евро-2020 и Олимпиадой в Токио. \\n\\nМы продолжим делиться итогами года в течение всего декабря. Заглядывайте в специальный раздел: vk.com/2021.', 'is_pinned': 1, 'attachments': [{'type': 'link', 'link': {'url': 'https://vk.com/2021', 'title': 'Итоги года ВКонтакте 2021', 'caption': 'vk.com', 'description': 'ВКонтакте подвела итоги 2021-го года. Музыка. Персоны и темы. Клипы. Сервисы. E-commerce. Авторы и лента. Технологии. Мемы.', 'photo': {'album_id': -27, 'date': 1639167016, 'id': 457369521, 'owner_id': 2000003133, 'sizes': [{'height': 480, 'url': 'https://sun9-1.userapi.com/sun9-82/impg/0JJbWnpBTU-mcpFCGGL5hYdrGzF15BMkwYM-3g/CB1UFU84GLk.jpg?size=1074x480&quality=96&sign=12ce3f412b98acc603ea8d84df2d5990&c_uniq_tag=2B9srmQppUGthIZEFlOXOmh9-ceHKOGkoIaPd0ZyEzc&type=share', 'type': 'k', 'width': 1074}, {'height': 240, 'url': 'https://sun9-1.userapi.com/sun9-82/impg/0JJbWnpBTU-mcpFCGGL5hYdrGzF15BMkwYM-3g/CB1UFU84GLk.jpg?size=537x240&quality=96&sign=a309f8ea5840ec82792e75e7c5f86370&c_uniq_tag=sXt5x2GpmsstRihqgxzGsHkpSy9fHQ_6g8behyJGhRE&type=share', 'type': 'l', 'width': 537}, {'height': 70, 'url': 'https://sun9-1.userapi.com/sun9-82/impg/0JJbWnpBTU-mcpFCGGL5hYdrGzF15BMkwYM-3g/CB1UFU84GLk.jpg?size=130x80&quality=96&crop=147,0,780,480&sign=ebd391e19d1c078bd154262a29c3df46&c_uniq_tag=qTbsD_aHfaKXmgHqftIyuTZ7xvE4DevVbckBSngdV2g&type=share', 'type': 'm', 'width': 130}, {'height': 140, 'url': 'https://sun9-1.userapi.com/sun9-82/impg/0JJbWnpBTU-mcpFCGGL5hYdrGzF15BMkwYM-3g/CB1UFU84GLk.jpg?size=260x140&quality=96&crop=91,0,891,480&sign=a5494bfc0d90c31457fa964b8be10070&c_uniq_tag=hUhavqveVbeRKB8SHwXuyoKKWekq13sr-lJcYABhycE&type=share', 'type': 'p', 'width': 260}, {'height': 35, 'url': 'https://sun9-1.userapi.com/sun9-82/impg/0JJbWnpBTU-mcpFCGGL5hYdrGzF15BMkwYM-3g/CB1UFU84GLk.jpg?size=75x35&quality=96&crop=22,0,1029,480&sign=2cfa0616bae23ffd8fc7066d0ee20a73&c_uniq_tag=eZTX37P4bCLGReJZ3j9nSIOVzdDQQiTWWM0f9qPEdVE&type=share', 'type': 's', 'width': 75}, {'height': 80, 'url': 'https://sun9-1.userapi.com/sun9-82/impg/0JJbWnpBTU-mcpFCGGL5hYdrGzF15BMkwYM-3g/CB1UFU84GLk.jpg?size=150x80&quality=96&crop=87,0,900,480&sign=7022a5cf889d3bb518f5bd16b56f4f74&c_uniq_tag=e8FUGKxfKRJu4EaOINfiiuPGJ22va4FQSTjlq1bP0G8&type=share', 'type': 'x', 'width': 150}], 'text': '', 'user_id': 100}}}], 'post_source': {'type': 'vk'}, 'comments': {'can_post': 1, 'count': 1040, 'groups_can_post': True}, 'likes': {'can_like': 1, 'count': 1875, 'user_likes': 0, 'can_publish': 1}, 'reposts': {'count': 1612, 'user_reposted': 0}, 'views': {'count': 535727}, 'edited': 1639167016, 'hash': 'Iwni-Zi80FWWvuMJCA'}, {'id': 1268470, 'from_id': -22822305, 'owner_id': -22822305, 'date': 1640980531, 'marked_as_ads': 0, 'post_type': 'post', 'text': '', 'copy_history': [{'id': 393, 'owner_id': 92933, 'from_id': 92933, 'date': 1640980164, 'post_type': 'post', 'text': 'Команда ВКонтакте — люди, которые искренне восхищают. В этом году мы сделали рекордное число технологических прорывов и продуктовых обновлений за всю историю социальной сети. \\n\\nВ уходящем 2021-м мы не только отметили 15-летие ВКонтакте и громко обновились на iPad, но и представили больше 230 крупных нововведений — в том числе неограниченные по числу участников VK Звонки, масштабную библиотеку контента и новые технологии платформы VK Видео, новые рекомендации Клипов, VK Музыки, представили новые алгоритмы Ленты Новостей и Рекомендаций, редизайн вкладки «Сервисы» (VK SuperApp), огромное число обновлений в мессенджере, одними из первых в мире технологию ускорение работы ВКонтакте по протоколу QUIC, а также автоматические переводы и автосубтитры в видео, новые AR-механики и многое другое. \\n\\nГод оказался настолько богат событиями, что мы рассказываем о них в течение всего декабря — в специальном разделе с итогами года ВКонтакте: vk.com/2021. \\n\\nВсе эти достижения возможны только благодаря увлечённой работе нашей команды, которая вот уже 15 лет бьёт все возможные рекорды и не собирается останавливаться в 2022 году, а также благодаря высочайшему интересу к нашим продуктам десятков миллионов людей из разных городов и стран. Работать над таким культовым проектом — настоящая мечта. Каждое обновление мы внедряем с желанием сделать наши продукты ещё удобнее, ещё технологичнее и интереснее, внимательно изучая востребованность сервисов и ваши отзывы. \\n\\nС наступающим Новым Годом, мечтайте, верьте, дерзайте и пусть все мечты сбываются! Вместе с ВКонтакте 💙', 'attachments': [{'type': 'photo', 'photo': {'album_id': -7, 'date': 1640979953, 'id': 457240050, 'owner_id': 92933, 'access_key': '7c322056a1c2514c24', 'post_id': 393, 'sizes': [{'height': 100, 'url': 'https://sun1-54.userapi.com/impg/s2poyM4I19SIIiU4CmTsVJhfkBccParKSsAY0Q/a7109yDzVL4.jpg?size=130x100&quality=96&sign=bf910d75c400f22eac9d3be88f7b1da9&c_uniq_tag=-n5hJvI5qaEkC0hnxTTaAipo8vlqSrIZiyeV5ca5Dgs&type=album', 'type': 'm', 'width': 130}, {'height': 100, 'url': 'https://sun1-54.userapi.com/impg/s2poyM4I19SIIiU4CmTsVJhfkBccParKSsAY0Q/a7109yDzVL4.jpg?size=130x100&quality=96&sign=bf910d75c400f22eac9d3be88f7b1da9&c_uniq_tag=-n5hJvI5qaEkC0hnxTTaAipo8vlqSrIZiyeV5ca5Dgs&type=album', 'type': 'o', 'width': 130}, {'height': 154, 'url': 'https://sun1-54.userapi.com/impg/s2poyM4I19SIIiU4CmTsVJhfkBccParKSsAY0Q/a7109yDzVL4.jpg?size=200x154&quality=96&sign=2bd8efc101b3995dce3b8ff05e32fbbb&c_uniq_tag=SAP0UE4RWGNk2D05HIXv0uOkpUYzjMqCY1XjpvMyKz4&type=album', 'type': 'p', 'width': 200}, {'height': 246, 'url': 'https://sun1-54.userapi.com/impg/s2poyM4I19SIIiU4CmTsVJhfkBccParKSsAY0Q/a7109yDzVL4.jpg?size=320x246&quality=96&sign=65d7028b62849631eb63726c51f52fab&c_uniq_tag=EuWJWD9X_NWlYLxysEHom_KTV4C_vgrB8IvYHSgcLNc&type=album', 'type': 'q', 'width': 320}, {'height': 392, 'url': 'https://sun1-54.userapi.com/impg/s2poyM4I19SIIiU4CmTsVJhfkBccParKSsAY0Q/a7109yDzVL4.jpg?size=510x393&quality=96&sign=b982cef8e49a924989a7b90c5900c8f0&c_uniq_tag=vF3PiAEl7E2ahMFo0cby9KuHakWakuJEvlZ-lMRSrrI&type=album', 'type': 'r', 'width': 510}, {'height': 58, 'url': 'https://sun1-54.userapi.com/impg/s2poyM4I19SIIiU4CmTsVJhfkBccParKSsAY0Q/a7109yDzVL4.jpg?size=75x58&quality=96&sign=24f2dd38d986685a2423c805fe1c9d42&c_uniq_tag=vWJzwIVASe-sLkZFlHdVDSmnYTi4QwZ80tnlqy7p7kE&type=album', 'type': 's', 'width': 75}, {'height': 1971, 'url': 'https://sun1-54.userapi.com/impg/s2poyM4I19SIIiU4CmTsVJhfkBccParKSsAY0Q/a7109yDzVL4.jpg?size=2560x1971&quality=96&sign=89d77e82dc8d640adab3828ab1d3c0d8&c_uniq_tag=EAwaMBDLyGMQoHbX7uPhv_fkFdB5dgN2olQrC6uomGk&type=album', 'type': 'w', 'width': 2560}, {'height': 465, 'url': 'https://sun1-54.userapi.com/impg/s2poyM4I19SIIiU4CmTsVJhfkBccParKSsAY0Q/a7109yDzVL4.jpg?size=604x465&quality=96&sign=9461b22f299d9ca76c5241d0a47b595c&c_uniq_tag=mrbBtsFub2EioTFqnJfTdaDdhml1OMemt71ENPm-LSo&type=album', 'type': 'x', 'width': 604}, {'height': 621, 'url': 'https://sun1-54.userapi.com/impg/s2poyM4I19SIIiU4CmTsVJhfkBccParKSsAY0Q/a7109yDzVL4.jpg?size=807x621&quality=96&sign=23b680268e975655eac2c5c6469813e1&c_uniq_tag=0KcWpJmu-NJTLWUcpkKQUUxV8-BfI2_29ozTwBIMtfw&type=album', 'type': 'y', 'width': 807}, {'height': 985, 'url': 'https://sun1-54.userapi.com/impg/s2poyM4I19SIIiU4CmTsVJhfkBccParKSsAY0Q/a7109yDzVL4.jpg?size=1280x985&quality=96&sign=e4cce48fae5907072657b4130b7f4ef0&c_uniq_tag=aMi6fc2J09QxpURIBk3zVaSl9YboKQhoME5WfvJWksk&type=album', 'type': 'z', 'width': 1280}], 'text': ''}}], 'post_source': {'type': 'vk'}}], 'post_source': {'platform': 'iphone', 'type': 'api'}, 'comments': {'can_post': 1, 'count': 255, 'groups_can_post': True}, 'likes': {'can_like': 1, 'count': 956, 'user_likes': 0, 'can_publish': 1}, 'reposts': {'count': 36, 'user_reposted': 0}, 'views': {'count': 204399}, 'hash': '_tpp7CfTRb0tVrqQMQ'}, {'id': 1268341, 'from_id': -22822305, 'owner_id': -22822305, 'date': 1640940328, 'marked_as_ads': 0, 'post_type': 'post', 'text': 'Запускаем собственное шоу в первый вечер 2022-го! Смотрите онлайн-концерт «STAR Трек. Новый год ВКонтакте» 1 января в 17:00 по Москве.\\n\\nМы собрали звёзд, блогеров и даже космонавтов, чтобы поздравить вас. В программе — [club21125731|HammAli & Navai], [https://vk.com/esmireall|ESMI], [club83040434|Big Baby Tape] и [club95785182|Constantine], а также [club5719309|«Руки Вверх!»] и [club21354|«Ленинград»]. Кстати, Сергей Шнуров представит новый проект «Зоя» — не пропустите.\\n\\nМосквичам особенно повезло: шоу можно будет посмотреть на фасадах кинотеатра «Октябрь» и гостиницы «Космос», а также на Таганской площади. Заходите в сообщество [club22079806|«Официальные страницы ВКонтакте»] и встречайте год по-звёздному вместе с нами 💫\\n#новыйгодВКонтакте', 'attachments': [{'type': 'video', 'video': {'access_key': 'cf76d1014d401c66ab', 'can_comment': 0, 'can_like': 1, 'can_repost': 1, 'can_subscribe': 1, 'can_add_to_faves': 1, 'can_add': 1, 'comments': 94015, 'date': 1641043804, 'description': '', 'duration': 11058, 'photo_130': 'https://sun1-93.userapi.com/impf/1kxOGJTG2u0Prb6qKzae1gP9YHi9afDCaxuCAg/bLVREvv_1HM.jpg?size=130x96&quality=96&keep_aspect_ratio=1&background=000000&sign=ddee9fba1587855ee9c8eae5c6119e68&c_uniq_tag=EZ1qYV1DVMkg98PEONrKVY4daQz4Pu-0hjlrr6iD570&type=video_thumb', 'photo_320': 'https://sun1-93.userapi.com/impf/1kxOGJTG2u0Prb6qKzae1gP9YHi9afDCaxuCAg/bLVREvv_1HM.jpg?size=320x240&quality=96&keep_aspect_ratio=1&background=000000&sign=bcdced4c259861edf8b087fabda92e1c&c_uniq_tag=lpjCWf3kBvaofoCLCIZQuInAVHrn9ejfG1dVEhYEoeg&type=video_thumb', 'photo_800': 'https://sun1-93.userapi.com/impf/1kxOGJTG2u0Prb6qKzae1gP9YHi9afDCaxuCAg/bLVREvv_1HM.jpg?size=800x450&quality=96&keep_aspect_ratio=1&background=000000&sign=5da76d602d9d1339ebbd5ee203f162be&c_uniq_tag=X3lS5ljQxKsJDf6T1CuDkIjxaXdAo0g1luwDZY5fujw&type=video_thumb', 'photo_1280': 'https://sun1-93.userapi.com/impf/1kxOGJTG2u0Prb6qKzae1gP9YHi9afDCaxuCAg/bLVREvv_1HM.jpg?size=1280x718&quality=96&sign=131894ebd0dd0268d67d94792225671f&c_uniq_tag=Nt4MeVuJga1b9zxU0Z6NXlrBssEjB9kkwLh6hAQl1NI&type=video_thumb', 'first_frame_130': 'https://i.mycdn.me/getVideoPreview?id=2085175822937&idx=0&type=35&tkn=HGGMgkI7NZTaPDb-pr_NnSPKNao', 'first_frame_160': 'https://i.mycdn.me/getVideoPreview?id=2085175822937&idx=0&type=34&tkn=uMYkUKRA3L7QD1zfvmQZTet_n1c', 'first_frame_320': 'https://i.mycdn.me/getVideoPreview?id=2085175822937&idx=0&type=33&tkn=Tit_fW8pMFJq16AvO2_jy7Y66rM', 'first_frame_800': 'https://i.mycdn.me/getVideoPreview?id=2085175822937&idx=0&type=32&tkn=asPaENgz9sv_GQWB0dTlR5eNpAM', 'first_frame_1280': 'https://i.mycdn.me/getVideoPreview?id=2085175822937&idx=0&type=39&tkn=g_Nl2Ty8VHJxhFPbWfBRCghfcok', 'width': 1920, 'height': 1080, 'id': 456239379, 'owner_id': -22079806, 'ov_id': '3323801906137', 'title': 'STAR Трек. Новый год ВКонтакте', 'track_code': 'video_10188b92IHWpymACAkQhtaE8vGC3sL7tnJNHYTAfwZKOQOe7X_oQVLfIZ20ETy-9pFe5VYGCjdSvpH5lR36t_o4', 'views': 14510727}}], 'post_source': {'type': 'vk'}, 'comments': {'can_post': 1, 'count': 58, 'groups_can_post': True}, 'likes': {'can_like': 1, 'count': 708, 'user_likes': 0, 'can_publish': 1}, 'reposts': {'count': 86, 'user_reposted': 0}, 'views': {'count': 269199}, 'hash': 'ufcN7LD4igcNZ5_QGQ'}, {'id': 1267875, 'from_id': -22822305, 'owner_id': -22822305, 'date': 1640871560, 'marked_as_ads': 0, 'post_type': 'post', 'text': 'Объявляем итоги первого розыгрыша суперпризов в [https://vk.com/checkback#snowfall|«Снегопаде подарков»] 🏆\\n\\nЗаходите в мини-приложение и ищите свой уникальный номер в блоке «Победители»! Скоро мы свяжемся со всеми счастливчиками в сообщениях и расскажем, как получить призы.\\n\\nЕсли вас в списке пока нет, продолжайте искать снежинки и собирать снеговика — 13 января проведём второй розыгрыш. Напоминаем, у нас есть специальные чаты, в которых можно обмениваться снежинками, чтобы увеличить шансы на победу: vk.me/join/snowfall\\n\\nС наступающим и удачи в «Снегопаде подарков» ❄', 'attachments': [{'type': 'photo', 'photo': {'album_id': -7, 'date': 1640867644, 'id': 457327190, 'owner_id': -22822305, 'access_key': '8de2fa7623e071ff2a', 'post_id': 1267875, 'sizes': [{'height': 91, 'url': 'https://sun1-83.userapi.com/impg/SFfR2SI-RVPto51Qe_lV6BCvdcS5BHlgQkgDsQ/wODjEdZOfKM.jpg?size=130x91&quality=96&sign=b1d3a81dd44b9a5b90797cd26573ddda&c_uniq_tag=FmFeBDIburh3jUEYTz6CvLUTI3yyUkQj_XG3ZTtcQdY&type=album', 'type': 'm', 'width': 130}, {'height': 91, 'url': 'https://sun1-83.userapi.com/impg/SFfR2SI-RVPto51Qe_lV6BCvdcS5BHlgQkgDsQ/wODjEdZOfKM.jpg?size=130x91&quality=96&sign=b1d3a81dd44b9a5b90797cd26573ddda&c_uniq_tag=FmFeBDIburh3jUEYTz6CvLUTI3yyUkQj_XG3ZTtcQdY&type=album', 'type': 'o', 'width': 130}, {'height': 140, 'url': 'https://sun1-83.userapi.com/impg/SFfR2SI-RVPto51Qe_lV6BCvdcS5BHlgQkgDsQ/wODjEdZOfKM.jpg?size=200x140&quality=96&sign=4c55c4105704a11d0cea1a5ce4985829&c_uniq_tag=YwoWdYbXBJBokjpvT7clTh5x1SvMskZY9T295-1HZto&type=album', 'type': 'p', 'width': 200}, {'height': 224, 'url': 'https://sun1-83.userapi.com/impg/SFfR2SI-RVPto51Qe_lV6BCvdcS5BHlgQkgDsQ/wODjEdZOfKM.jpg?size=320x224&quality=96&sign=4d06d42dea520e3bc167ed23c732f331&c_uniq_tag=60lEEJ1-XrhIpMjOWnO3GPfihFFS25vuyD69iX5HUv0&type=album', 'type': 'q', 'width': 320}, {'height': 357, 'url': 'https://sun1-83.userapi.com/impg/SFfR2SI-RVPto51Qe_lV6BCvdcS5BHlgQkgDsQ/wODjEdZOfKM.jpg?size=510x357&quality=96&sign=30006bc7252be2611dd7798eea9f6e47&c_uniq_tag=4obaLcK_muO8VNrXj9smwjlbHpSaZGDS_aEyJae91PI&type=album', 'type': 'r', 'width': 510}, {'height': 52, 'url': 'https://sun1-83.userapi.com/impg/SFfR2SI-RVPto51Qe_lV6BCvdcS5BHlgQkgDsQ/wODjEdZOfKM.jpg?size=75x52&quality=96&sign=630c70921ee97df4babd8c8382a0795a&c_uniq_tag=8Jf6CdO_G6lIzuJ-_tqkJiyrsYaXjODHi5jk4noKtsk&type=album', 'type': 's', 'width': 75}, {'height': 423, 'url': 'https://sun1-83.userapi.com/impg/SFfR2SI-RVPto51Qe_lV6BCvdcS5BHlgQkgDsQ/wODjEdZOfKM.jpg?size=604x423&quality=96&sign=af175cbf80d948a854996ca515803a7c&c_uniq_tag=TxvUtJi7Iqbs-uqTUXmOIA3VW4AxW2KLKoNE1mEACYw&type=album', 'type': 'x', 'width': 604}, {'height': 565, 'url': 'https://sun1-83.userapi.com/impg/SFfR2SI-RVPto51Qe_lV6BCvdcS5BHlgQkgDsQ/wODjEdZOfKM.jpg?size=807x565&quality=96&sign=f743e112d9a2b2ed597e2b8bb78202d1&c_uniq_tag=XAqXV1u-rjFN7dN9EHQyUTNUqJDbY8VvfHaXde3wsV8&type=album', 'type': 'y', 'width': 807}, {'height': 700, 'url': 'https://sun1-83.userapi.com/impg/SFfR2SI-RVPto51Qe_lV6BCvdcS5BHlgQkgDsQ/wODjEdZOfKM.jpg?size=1000x700&quality=96&sign=25db255c79dd9be0cba532f51340a20f&c_uniq_tag=OftlnY94UTyGGTgDO1XQ21B_HT1I6vQoKDFk-5qGCkI&type=album', 'type': 'z', 'width': 1000}], 'text': '', 'user_id': 100}}], 'post_source': {'type': 'vk'}, 'comments': {'can_post': 1, 'count': 438, 'groups_can_post': True}, 'likes': {'can_like': 1, 'count': 822, 'user_likes': 0, 'can_publish': 1}, 'reposts': {'count': 98, 'user_reposted': 0}, 'views': {'count': 504233}, 'hash': 'WPK7ALKqFGtUqUsVeg'}, {'id': 1267271, 'from_id': -22822305, 'owner_id': -22822305, 'date': 1640712137, 'marked_as_ads': 0, 'post_type': 'post', 'text': 'Мы приготовили для вас целую гору сюрпризов и собрали все-все праздничные активности ВКонтакте на специальной карте — посмотрите сами: vk.com/2021/map. А здесь поделимся избранными рецептами новогоднего настроения 🎇\\n\\n🎄 Обнимайте близких в VK Звонках — чтобы поздравления были ещё теплее, несмотря на расстояния. Одно нажатие на кнопку — и на экране появится праздничный фон, а ваши смартфоны завибрируют. \\n\\n🎄 Звоните Деду Морозу — связаться с ним поможет Маруся. Просто нажмите на её значок в «Сервисах» (справа вверху) и скажите: «Хочу, чтобы меня поздравил Дед Мороз!».\\n\\n🎄 Создайте новогодний фильм с вами и друзьями в главных ролях. Персональное видеопоздравление почти готово — [https://vk.com/app7997899|приходите и забирайте]!\\n\\n🎄 Дарите друг другу подарки с тигром Рулетом. У каждого появится по десять штук бесплатно — порадуйте друзей и семью.\\n\\n🎄 Помогите Тигрёнку подготовиться к празднику в приложении [https://vk.com/app8007276|«Новогодняя суета»]. Выполняйте задания и получайте за них подарки: бонусы в играх, голоса и снежинки для [https://vk.com/checkback#snowfall|«Снегопада подарков»]. \\n\\n🎄 И наконец — разбивайте ёлочные игрушки! Да, мы никому не скажем. Развесили их для вас в разных разделах ВКонтакте. Что случится потом, увидите сами. \\n\\nА ещё выигрывайте призы, вспоминайте свой 2021 год, украшайте чаты… Главное — не останавливайтесь! Приблизим праздник вместе', 'attachments': [{'type': 'photo', 'photo': {'album_id': -7, 'date': 1640712137, 'id': 457327140, 'owner_id': -22822305, 'access_key': '82b5fb6fc58d8c282d', 'post_id': 1267271, 'sizes': [{'height': 95, 'url': 'https://sun1-92.userapi.com/impg/K_Ne0yMvC3h8NG5NJy1ntQrDMSiCgQjqZGDOjQ/bEI-Q2dsdJg.jpg?size=130x95&quality=96&sign=10ba6e4620013b9b0a2b2e1617b103e6&c_uniq_tag=FnUmaf9ql0MB94E0WiNNAywssO7HLOHllb6HeIFuXYA&type=album', 'type': 'm', 'width': 130}, {'height': 95, 'url': 'https://sun1-92.userapi.com/impg/K_Ne0yMvC3h8NG5NJy1ntQrDMSiCgQjqZGDOjQ/bEI-Q2dsdJg.jpg?size=130x95&quality=96&sign=10ba6e4620013b9b0a2b2e1617b103e6&c_uniq_tag=FnUmaf9ql0MB94E0WiNNAywssO7HLOHllb6HeIFuXYA&type=album', 'type': 'o', 'width': 130}, {'height': 147, 'url': 'https://sun1-92.userapi.com/impg/K_Ne0yMvC3h8NG5NJy1ntQrDMSiCgQjqZGDOjQ/bEI-Q2dsdJg.jpg?size=200x147&quality=96&sign=116ef979176be9cd08b34bc14b27b787&c_uniq_tag=nqEquIm_T6QCTz63o85RJzCOW5J789oeTjbpnvGZcsE&type=album', 'type': 'p', 'width': 200}, {'height': 235, 'url': 'https://sun1-92.userapi.com/impg/K_Ne0yMvC3h8NG5NJy1ntQrDMSiCgQjqZGDOjQ/bEI-Q2dsdJg.jpg?size=320x235&quality=96&sign=de152c7f10c9a728307c99710e7d9e24&c_uniq_tag=6f-zo4MuRkxDw6sv6uG_00qOzqswvKur2FK9T5um9Gk&type=album', 'type': 'q', 'width': 320}, {'height': 374, 'url': 'https://sun1-92.userapi.com/impg/K_Ne0yMvC3h8NG5NJy1ntQrDMSiCgQjqZGDOjQ/bEI-Q2dsdJg.jpg?size=510x374&quality=96&sign=794eddc8e75d6db8d8636bbb37be259f&c_uniq_tag=GSND3Wc1xbNOGPY_aGbBr4uEb5wBVwpZxB8BRir8d_I&type=album', 'type': 'r', 'width': 510}, {'height': 55, 'url': 'https://sun1-92.userapi.com/impg/K_Ne0yMvC3h8NG5NJy1ntQrDMSiCgQjqZGDOjQ/bEI-Q2dsdJg.jpg?size=75x55&quality=96&sign=0e5dd6e24c83a3badc79d9111e17640a&c_uniq_tag=qyy3dNh284F8uke3wIZttvyKlAjN7hK33PrrRMDi7G4&type=album', 'type': 's', 'width': 75}, {'height': 1100, 'url': 'https://sun1-92.userapi.com/impg/K_Ne0yMvC3h8NG5NJy1ntQrDMSiCgQjqZGDOjQ/bEI-Q2dsdJg.jpg?size=1500x1100&quality=96&sign=baab5ca3d9c666e0e696a3fe1614c6fe&c_uniq_tag=eKGd7RpxP1FYL4xVqhaKpYv9iRCRXBV87MC8CoYnvY8&type=album', 'type': 'w', 'width': 1500}, {'height': 443, 'url': 'https://sun1-92.userapi.com/impg/K_Ne0yMvC3h8NG5NJy1ntQrDMSiCgQjqZGDOjQ/bEI-Q2dsdJg.jpg?size=604x443&quality=96&sign=a0ff10521e549242106084bf826c0ac9&c_uniq_tag=bRk8GWgWZz0NJVMe02w6vrdyY99G_3Ren8bDqyBRleg&type=album', 'type': 'x', 'width': 604}, {'height': 592, 'url': 'https://sun1-92.userapi.com/impg/K_Ne0yMvC3h8NG5NJy1ntQrDMSiCgQjqZGDOjQ/bEI-Q2dsdJg.jpg?size=807x592&quality=96&sign=58bdce1a0cb84d4506ff47df4c006267&c_uniq_tag=_7_kjAh54t2gQ0EvG8uLF6uLeoF4L_ldbtsmxMBVqZE&type=album', 'type': 'y', 'width': 807}, {'height': 939, 'url': 'https://sun1-92.userapi.com/impg/K_Ne0yMvC3h8NG5NJy1ntQrDMSiCgQjqZGDOjQ/bEI-Q2dsdJg.jpg?size=1280x939&quality=96&sign=8257c249a0cf1c8e152189f20a2e6156&c_uniq_tag=wfCxdOIFVUQ6Ul7-p0M1i6aWtGgihFrdjygEmL-cUvQ&type=album', 'type': 'z', 'width': 1280}], 'text': '', 'user_id': 100}}], 'post_source': {'type': 'vk'}, 'comments': {'can_post': 1, 'count': 160, 'groups_can_post': True}, 'likes': {'can_like': 1, 'count': 3296, 'user_likes': 0, 'can_publish': 1}, 'reposts': {'count': 273, 'user_reposted': 0}, 'views': {'count': 12686532}, 'hash': 'Or9QJli3jeoyKv6mzg'}, {'id': 1262935, 'from_id': -22822305, 'owner_id': -22822305, 'date': 1640174402, 'marked_as_ads': 0, 'post_type': 'post', 'text': 'Каким был ваш 2021-й ВКонтакте? Точно особенным — такого года не было ни у кого больше. Помните, какую песню слушали чаще всего? А что включали в наушниках прошлой зимой или летом? С кем подружились, а с кем общались больше всех? Заходите посмотреть на свои рекорды и находки — в личных [https://vk.com/your2021|итогах года].\\n\\nВсеми результатами можно поделиться в историях и на своей странице — обсуждайте с друзьями и воспоминайте через год.', 'attachments': [{'type': 'photo', 'photo': {'album_id': -7, 'date': 1640163635, 'id': 457326729, 'owner_id': -22822305, 'access_key': 'e31fe56a58a76e4ae8', 'post_id': 1262935, 'sizes': [{'height': 130, 'url': 'https://sun1-16.userapi.com/impg/z1GiknyEi5Yt5CT09v2kH3RLu6trxoslGGWJug/-saJe-wp1GM.jpg?size=130x130&quality=96&sign=c2063e6aea5a9287f409d28eb15722dd&c_uniq_tag=sMd6z1i0nhk0FulAzAnWzHop-UlYqSTmI0jcAkBX8Pk&type=album', 'type': 'm', 'width': 130}, {'height': 130, 'url': 'https://sun1-16.userapi.com/impg/z1GiknyEi5Yt5CT09v2kH3RLu6trxoslGGWJug/-saJe-wp1GM.jpg?size=130x130&quality=96&sign=c2063e6aea5a9287f409d28eb15722dd&c_uniq_tag=sMd6z1i0nhk0FulAzAnWzHop-UlYqSTmI0jcAkBX8Pk&type=album', 'type': 'o', 'width': 130}, {'height': 200, 'url': 'https://sun1-16.userapi.com/impg/z1GiknyEi5Yt5CT09v2kH3RLu6trxoslGGWJug/-saJe-wp1GM.jpg?size=200x200&quality=96&sign=c032a92218fd4e8b95bb314e0f231809&c_uniq_tag=XUnRfjYk-IIOaNS0g80R3ZPapwevQp_lRygtBIFwecA&type=album', 'type': 'p', 'width': 200}, {'height': 320, 'url': 'https://sun1-16.userapi.com/impg/z1GiknyEi5Yt5CT09v2kH3RLu6trxoslGGWJug/-saJe-wp1GM.jpg?size=320x320&quality=96&sign=6417df00b02ede3040c8107403a6a39f&c_uniq_tag=8Y7fnGrGgCgGj5X8YPCZ82NhIveDphYMOm-iJYo3wmA&type=album', 'type': 'q', 'width': 320}, {'height': 510, 'url': 'https://sun1-16.userapi.com/impg/z1GiknyEi5Yt5CT09v2kH3RLu6trxoslGGWJug/-saJe-wp1GM.jpg?size=510x510&quality=96&sign=8e2002a7896e7c5cab75515e78708d82&c_uniq_tag=iXcwUJZLTV-mNfXWESHSSsYoOzK5OeqvagGuuzOLnjE&type=album', 'type': 'r', 'width': 510}, {'height': 75, 'url': 'https://sun1-16.userapi.com/impg/z1GiknyEi5Yt5CT09v2kH3RLu6trxoslGGWJug/-saJe-wp1GM.jpg?size=75x75&quality=96&sign=925c1e45174571fb24211af612169346&c_uniq_tag=oBBDqzqy2PFsYiErk_Rab5sivGtu5b1d9ojiI1xmfiU&type=album', 'type': 's', 'width': 75}, {'height': 2150, 'url': 'https://sun1-16.userapi.com/impg/z1GiknyEi5Yt5CT09v2kH3RLu6trxoslGGWJug/-saJe-wp1GM.jpg?size=2150x2150&quality=96&sign=29b50938581307c1e6ca092aed9b2a75&c_uniq_tag=jJbEeZUXnnSLLecJ1crpcvzklqdP9JFQRewpyS2CATs&type=album', 'type': 'w', 'width': 2150}, {'height': 604, 'url': 'https://sun1-16.userapi.com/impg/z1GiknyEi5Yt5CT09v2kH3RLu6trxoslGGWJug/-saJe-wp1GM.jpg?size=604x604&quality=96&sign=9a2cc37193f897af077ed4e64bd73fd4&c_uniq_tag=DjTFRBg4yiGVbBMcfJoevhuK24Gzqlr7gw_CB913Thg&type=album', 'type': 'x', 'width': 604}, {'height': 807, 'url': 'https://sun1-16.userapi.com/impg/z1GiknyEi5Yt5CT09v2kH3RLu6trxoslGGWJug/-saJe-wp1GM.jpg?size=807x807&quality=96&sign=eb0f1322a07cdd4c58affef6cffae58f&c_uniq_tag=BQbosbbxICd9oc7-zRG8Iv2Z1-0UM60LF7e4uuANTdI&type=album', 'type': 'y', 'width': 807}, {'height': 1080, 'url': 'https://sun1-16.userapi.com/impg/z1GiknyEi5Yt5CT09v2kH3RLu6trxoslGGWJug/-saJe-wp1GM.jpg?size=1280x1280&quality=96&sign=4f0d7f40d1f6fe9175ee5f4beb7e484d&c_uniq_tag=B70KiKb3JdC9IufT8O4SY3jKqXoyZWa1122eIUut7v8&type=album', 'type': 'z', 'width': 1080}], 'text': '', 'user_id': 100}}], 'post_source': {'type': 'vk'}, 'comments': {'can_post': 1, 'count': 585, 'groups_can_post': True}, 'likes': {'can_like': 1, 'count': 2024, 'user_likes': 0, 'can_publish': 1}, 'reposts': {'count': 9696, 'user_reposted': 0}, 'views': {'count': 1328331}, 'hash': 'IvijjA2qObtzOVtbWA'}, {'id': 1262833, 'from_id': -22822305, 'owner_id': -22822305, 'date': 1640171709, 'marked_as_ads': 0, 'post_type': 'post', 'text': 'Эти каникулы будут особенными — мы проведём первый зимний VK Fest! Да, со 2 по 6 января вас ждут пять дней трансляций со звёздами и блогерами. \\n\\n[id2128351|Баста], [club24823541|«Сплин»], [club143990468|Zivert], [club109964404|The Hatters], [club4908135|Клава Кока] и ещё больше сорока артистов будут петь для вас в эти праздничные выходные. На этот раз мы расширяем географию и показываем выступления из Москвы, Нижнего Новгорода, Казани, Калининграда, Великого Устюга, Санкт-Петербурга и других городов. Смотрите эфиры каждый день в 14:00 и ловите новости в сообществе [club86529522|фестиваля].\\n\\nПроведём каникулы вместе на VK Fest!', 'attachments': [{'type': 'photo', 'photo': {'album_id': -7, 'date': 1640171386, 'id': 457326731, 'owner_id': -22822305, 'access_key': 'bafeec51a2b413ce3d', 'post_id': 1262833, 'sizes': [{'height': 130, 'url': 'https://sun1-28.userapi.com/impg/ddj0Ao7X_UNhyoXnCCgZEdHZeAZPAk_WBA8txQ/nzzGzk02Gi4.jpg?size=130x130&quality=96&sign=f04bf2999248d388a6f13de39d1efd1d&c_uniq_tag=5c2boACuXsGAKS31uW8Qs3Mu1LAVeHS8KGFuJZPC4HE&type=album', 'type': 'm', 'width': 130}, {'height': 130, 'url': 'https://sun1-28.userapi.com/impg/ddj0Ao7X_UNhyoXnCCgZEdHZeAZPAk_WBA8txQ/nzzGzk02Gi4.jpg?size=130x130&quality=96&sign=f04bf2999248d388a6f13de39d1efd1d&c_uniq_tag=5c2boACuXsGAKS31uW8Qs3Mu1LAVeHS8KGFuJZPC4HE&type=album', 'type': 'o', 'width': 130}, {'height': 200, 'url': 'https://sun1-28.userapi.com/impg/ddj0Ao7X_UNhyoXnCCgZEdHZeAZPAk_WBA8txQ/nzzGzk02Gi4.jpg?size=200x200&quality=96&sign=0f8b038e4dc52cb5aef72cb1c603d5d7&c_uniq_tag=wAy0tgLg_zk391nCjn70Mm2-K_xAl3nGpU1Okjbp1Sk&type=album', 'type': 'p', 'width': 200}, {'height': 320, 'url': 'https://sun1-28.userapi.com/impg/ddj0Ao7X_UNhyoXnCCgZEdHZeAZPAk_WBA8txQ/nzzGzk02Gi4.jpg?size=320x320&quality=96&sign=7a17ece8ae79a04cedf5dff028c51996&c_uniq_tag=QlK2Vqaa66YmqSqMbi8a5BetjuULaGrCZ44HDSk_D88&type=album', 'type': 'q', 'width': 320}, {'height': 510, 'url': 'https://sun1-28.userapi.com/impg/ddj0Ao7X_UNhyoXnCCgZEdHZeAZPAk_WBA8txQ/nzzGzk02Gi4.jpg?size=510x510&quality=96&sign=9e19cc4777f29efb2f424c8b0ab976c7&c_uniq_tag=Z0y-EiHSv0PuQhmExmmAaBfdhh_9T4zlCe4dmku6QF8&type=album', 'type': 'r', 'width': 510}, {'height': 75, 'url': 'https://sun1-28.userapi.com/impg/ddj0Ao7X_UNhyoXnCCgZEdHZeAZPAk_WBA8txQ/nzzGzk02Gi4.jpg?size=75x75&quality=96&sign=b80889896df8fa3158490c2fa1923b32&c_uniq_tag=2k2KpXDyMV-PMAGnZTXl_JBUtqNX9pzFTaoPmU4w-44&type=album', 'type': 's', 'width': 75}, {'height': 1920, 'url': 'https://sun1-28.userapi.com/impg/ddj0Ao7X_UNhyoXnCCgZEdHZeAZPAk_WBA8txQ/nzzGzk02Gi4.jpg?size=1920x1920&quality=96&sign=4499e718b8175d810370a04fe55fa09a&c_uniq_tag=xZFd9ywmDGxNb4OIXHbgQzaNhxList_QdTb_nf6TxyA&type=album', 'type': 'w', 'width': 1920}, {'height': 604, 'url': 'https://sun1-28.userapi.com/impg/ddj0Ao7X_UNhyoXnCCgZEdHZeAZPAk_WBA8txQ/nzzGzk02Gi4.jpg?size=604x604&quality=96&sign=d80350ece4bef2107d4709a3e1de90ef&c_uniq_tag=I1Ti6lomzOmK0cvCNkTwDiUCW-fcMfG2smR_pnaDOyo&type=album', 'type': 'x', 'width': 604}, {'height': 807, 'url': 'https://sun1-28.userapi.com/impg/ddj0Ao7X_UNhyoXnCCgZEdHZeAZPAk_WBA8txQ/nzzGzk02Gi4.jpg?size=807x807&quality=96&sign=014fb7f0e53569b1eac70235b483b57e&c_uniq_tag=vzjAFh3YN03MjxSEyWPjzf9a_al6bgqeDeBzVViNTBQ&type=album', 'type': 'y', 'width': 807}, {'height': 1080, 'url': 'https://sun1-28.userapi.com/impg/ddj0Ao7X_UNhyoXnCCgZEdHZeAZPAk_WBA8txQ/nzzGzk02Gi4.jpg?size=1280x1280&quality=96&sign=31eea1c9a639491e4c738413d008f57e&c_uniq_tag=hAWu29Z0DbH6rxzvv7d7zHsG4m5-u64XrYkuB_NGnrY&type=album', 'type': 'z', 'width': 1080}], 'text': '', 'user_id': 100}}], 'post_source': {'type': 'vk'}, 'comments': {'can_post': 1, 'count': 121, 'groups_can_post': True}, 'likes': {'can_like': 1, 'count': 1056, 'user_likes': 0, 'can_publish': 1}, 'reposts': {'count': 147, 'user_reposted': 0}, 'views': {'count': 297552}, 'hash': 'cLkol9900a0blMH-UQ'}, {'id': 1261541, 'from_id': -22822305, 'owner_id': -22822305, 'date': 1640094467, 'marked_as_ads': 0, 'post_type': 'post', 'text': 'А если взглянуть в целом, то каким был год?\\n\\n🤣 Судя по самым популярным стикерам, мы много смеялись и не стеснялись выражать свою любовь. \\n\\n🐈 Мы были добрыми: благодаря Объявлениям ВКонтакте больше 30 тысяч кошек и собак нашли свой дом.\\n\\n🤩 Мы смело мечтали. Часто, конечно, о понятных вещах: смартфонах, игровых приставках, недвижимости. Но иногда — об особенно важном: например, в Мурманске — о пельменях, в Новосибирске — о костюме горничной, в Санкт-Петербурге — о мире во всём мире. Покупали в итоге, правда, еду и одежду.\\n\\n🥳 А ещё мы просто радовались жизни. Кайфовали от высокого качества на новой платформе VK Видео, общались в VK Звонках, не думая о времени и количестве человек, в VK Музыке находили плейлисты от людей с похожими музыкальными вкусами.\\n\\nВсё это видно по продуктовым итогам года — смотрите их здесь: vk.com/2021.', 'attachments': [{'type': 'photo', 'photo': {'album_id': -7, 'date': 1640097848, 'id': 457326693, 'owner_id': -22822305, 'access_key': 'ae8010e4e2625f37c2', 'sizes': [{'height': 130, 'url': 'https://sun1-90.userapi.com/impg/96pIrX1HGOZasaCRONK68mJaCF57IhYK7wSfzA/6QpnaoHsgXQ.jpg?size=130x130&quality=96&sign=a635882e129268b484750e670292b3c9&c_uniq_tag=V9OCSwGjV7x_Rq5CIHbJvcevSaQz5PX2noXOUMYHO3I&type=album', 'type': 'm', 'width': 130}, {'height': 130, 'url': 'https://sun1-90.userapi.com/impg/96pIrX1HGOZasaCRONK68mJaCF57IhYK7wSfzA/6QpnaoHsgXQ.jpg?size=130x130&quality=96&sign=a635882e129268b484750e670292b3c9&c_uniq_tag=V9OCSwGjV7x_Rq5CIHbJvcevSaQz5PX2noXOUMYHO3I&type=album', 'type': 'o', 'width': 130}, {'height': 200, 'url': 'https://sun1-90.userapi.com/impg/96pIrX1HGOZasaCRONK68mJaCF57IhYK7wSfzA/6QpnaoHsgXQ.jpg?size=200x200&quality=96&sign=9c08214ff8ded4d9791f080927f9a01c&c_uniq_tag=jTqm3tJLZrqpiNvBfPd1MDGCwllXM-uswMvpw2YRZBI&type=album', 'type': 'p', 'width': 200}, {'height': 320, 'url': 'https://sun1-90.userapi.com/impg/96pIrX1HGOZasaCRONK68mJaCF57IhYK7wSfzA/6QpnaoHsgXQ.jpg?size=320x320&quality=96&sign=28aa579b211cfc36b1f3c0ba904a0a41&c_uniq_tag=zJ7qZKDQ4c-skQcyxDJh0eXCySY-o8JHJgYlVBq0lY4&type=album', 'type': 'q', 'width': 320}, {'height': 510, 'url': 'https://sun1-90.userapi.com/impg/96pIrX1HGOZasaCRONK68mJaCF57IhYK7wSfzA/6QpnaoHsgXQ.jpg?size=510x510&quality=96&sign=40fc43bb68fa28245173d7915ae8e5b3&c_uniq_tag=GnKma9QTuFpXI6RfoW96GfB-u6xU-fgVmHLC9Z3FoaA&type=album', 'type': 'r', 'width': 510}, {'height': 75, 'url': 'https://sun1-90.userapi.com/impg/96pIrX1HGOZasaCRONK68mJaCF57IhYK7wSfzA/6QpnaoHsgXQ.jpg?size=75x75&quality=96&sign=638e0f6f1581634cabb1381c5d97083e&c_uniq_tag=UGicSivsEnZyu1o-QxgWn9UBzzSzu2Kxp89cO9G7oHA&type=album', 'type': 's', 'width': 75}, {'height': 1440, 'url': 'https://sun1-90.userapi.com/impg/96pIrX1HGOZasaCRONK68mJaCF57IhYK7wSfzA/6QpnaoHsgXQ.jpg?size=1440x1440&quality=96&sign=dd7bef8bb9ec3dfe0b604c7acf098a23&c_uniq_tag=GtEVjoyGNAmpSwpf4NGlNNB8f397JOJHgqldMYuoitg&type=album', 'type': 'w', 'width': 1440}, {'height': 604, 'url': 'https://sun1-90.userapi.com/impg/96pIrX1HGOZasaCRONK68mJaCF57IhYK7wSfzA/6QpnaoHsgXQ.jpg?size=604x604&quality=96&sign=c1daf3120f6923b3af2229935299f09e&c_uniq_tag=Fcs8dKsdKRuc-vkeg9CYrjbjJIhko2m_fcOavDkTD2U&type=album', 'type': 'x', 'width': 604}, {'height': 807, 'url': 'https://sun1-90.userapi.com/impg/96pIrX1HGOZasaCRONK68mJaCF57IhYK7wSfzA/6QpnaoHsgXQ.jpg?size=807x807&quality=96&sign=536b8c0e1b8624bcf480dbc3d5f72ec9&c_uniq_tag=R1yjSN7EJ5sifvhcvfWaE0D676IlBJE73fBGFphArnM&type=album', 'type': 'y', 'width': 807}, {'height': 1080, 'url': 'https://sun1-90.userapi.com/impg/96pIrX1HGOZasaCRONK68mJaCF57IhYK7wSfzA/6QpnaoHsgXQ.jpg?size=1280x1280&quality=96&sign=b482e5742c7338dfdd97728fcb15d9ff&c_uniq_tag=Pb98Ns3EKXaKuEI_NEVg6fjTMkRzWF_RwMjH5Ho5tss&type=album', 'type': 'z', 'width': 1080}], 'text': '', 'user_id': 100}}, {'type': 'photo', 'photo': {'album_id': -7, 'date': 1640097848, 'id': 457326694, 'owner_id': -22822305, 'access_key': 'cf5c7a49f911c843e9', 'sizes': [{'height': 103, 'url': 'https://sun1-23.userapi.com/impg/i0isib2oebwbXTl31BtLe38pGxh_U03FG2GgCQ/336_IQTSUrA.jpg?size=130x103&quality=96&sign=4be0cb05a51a7e5e8b3dae37c1c16ba8&c_uniq_tag=5SN7yWU7OkaLKIINgTOsplgIYzaJEGQykhTEBKebURo&type=album', 'type': 'm', 'width': 130}, {'height': 103, 'url': 'https://sun1-23.userapi.com/impg/i0isib2oebwbXTl31BtLe38pGxh_U03FG2GgCQ/336_IQTSUrA.jpg?size=130x103&quality=96&sign=4be0cb05a51a7e5e8b3dae37c1c16ba8&c_uniq_tag=5SN7yWU7OkaLKIINgTOsplgIYzaJEGQykhTEBKebURo&type=album', 'type': 'o', 'width': 130}, {'height': 158, 'url': 'https://sun1-23.userapi.com/impg/i0isib2oebwbXTl31BtLe38pGxh_U03FG2GgCQ/336_IQTSUrA.jpg?size=200x158&quality=96&sign=6f8954aeed86c298a95447fe8d1188a5&c_uniq_tag=Fy9v8ao0lKC-1WstdbPZFlGWMai_flZPfUIarVqS6VI&type=album', 'type': 'p', 'width': 200}, {'height': 253, 'url': 'https://sun1-23.userapi.com/impg/i0isib2oebwbXTl31BtLe38pGxh_U03FG2GgCQ/336_IQTSUrA.jpg?size=320x253&quality=96&sign=2015a64797c494fd50ab13b09f87ed2c&c_uniq_tag=22mlu5B-3twmJp9UDgSC-GQ9tdw6eIEenIss60sZAkQ&type=album', 'type': 'q', 'width': 320}, {'height': 404, 'url': 'https://sun1-23.userapi.com/impg/i0isib2oebwbXTl31BtLe38pGxh_U03FG2GgCQ/336_IQTSUrA.jpg?size=510x404&quality=96&sign=8d13c1ec8f131131589668f667899f17&c_uniq_tag=WZ_rmAy2g9WOMrRapg3ucsIgtCCi-RHRYZyx8gL1Ufg&type=album', 'type': 'r', 'width': 510}, {'height': 59, 'url': 'https://sun1-23.userapi.com/impg/i0isib2oebwbXTl31BtLe38pGxh_U03FG2GgCQ/336_IQTSUrA.jpg?size=75x59&quality=96&sign=6b2c147a91c6565dc0336e1e62da97bd&c_uniq_tag=kXvwoSuzK2IOhWb0Je8uaQyraOj6o3iR4FWU3kC67o0&type=album', 'type': 's', 'width': 75}, {'height': 1140, 'url': 'https://sun1-23.userapi.com/impg/i0isib2oebwbXTl31BtLe38pGxh_U03FG2GgCQ/336_IQTSUrA.jpg?size=1440x1140&quality=96&sign=aae394c6551981e82abe5823835abb40&c_uniq_tag=Ijxd1R4cKbz4wTFSstLNNXslX_jG_Vpmppato-8vxrI&type=album', 'type': 'w', 'width': 1440}, {'height': 478, 'url': 'https://sun1-23.userapi.com/impg/i0isib2oebwbXTl31BtLe38pGxh_U03FG2GgCQ/336_IQTSUrA.jpg?size=604x478&quality=96&sign=1237bf403a6a762cf265acfcdb0b449d&c_uniq_tag=Wm-kNY1T28O-wm3ww9HR3fAg2rBX2zIb7fshYwIkcKE&type=album', 'type': 'x', 'width': 604}, {'height': 639, 'url': 'https://sun1-23.userapi.com/impg/i0isib2oebwbXTl31BtLe38pGxh_U03FG2GgCQ/336_IQTSUrA.jpg?size=807x639&quality=96&sign=3bd382ce021b2a9f604736b11ba5e3f2&c_uniq_tag=TX_bQtpF09q9UxXndrnnzWe5yxHU2tCjUJfPg-G_BDs&type=album', 'type': 'y', 'width': 807}, {'height': 1013, 'url': 'https://sun1-23.userapi.com/impg/i0isib2oebwbXTl31BtLe38pGxh_U03FG2GgCQ/336_IQTSUrA.jpg?size=1280x1013&quality=96&sign=160aa6e707a9cacfc8ac13a794fe6601&c_uniq_tag=8Tt7IY3O__bFfUB8dmC5GrdC70qshInE2DPfugeLNvA&type=album', 'type': 'z', 'width': 1280}], 'text': '', 'user_id': 100}}, {'type': 'photo', 'photo': {'album_id': -7, 'date': 1640097848, 'id': 457326695, 'owner_id': -22822305, 'access_key': '84c1ff8dd8e159dc07', 'sizes': [{'height': 103, 'url': 'https://sun1-24.userapi.com/impg/0xQDYeNFs3TfOSUOlraX0vFdoPgwEgwooZy5XA/Q4LPnWIGgbA.jpg?size=130x103&quality=96&sign=61af4527e847a7aadabfb0ee8a9d8895&c_uniq_tag=HsBkPLEcPwaxsnFLzD6pkF4PGXztA6Y4Q8rvu0Y86AM&type=album', 'type': 'm', 'width': 130}, {'height': 103, 'url': 'https://sun1-24.userapi.com/impg/0xQDYeNFs3TfOSUOlraX0vFdoPgwEgwooZy5XA/Q4LPnWIGgbA.jpg?size=130x103&quality=96&sign=61af4527e847a7aadabfb0ee8a9d8895&c_uniq_tag=HsBkPLEcPwaxsnFLzD6pkF4PGXztA6Y4Q8rvu0Y86AM&type=album', 'type': 'o', 'width': 130}, {'height': 158, 'url': 'https://sun1-24.userapi.com/impg/0xQDYeNFs3TfOSUOlraX0vFdoPgwEgwooZy5XA/Q4LPnWIGgbA.jpg?size=200x158&quality=96&sign=94ffa9469103a3ec19e3c76c659ccae4&c_uniq_tag=KLIa8Sj4gE69i9jQ4uRzTWeSu_zsJfvEDUxEPA0iovE&type=album', 'type': 'p', 'width': 200}, {'height': 253, 'url': 'https://sun1-24.userapi.com/impg/0xQDYeNFs3TfOSUOlraX0vFdoPgwEgwooZy5XA/Q4LPnWIGgbA.jpg?size=320x253&quality=96&sign=94664d4bb3371253507be9ecf51d56d5&c_uniq_tag=qqAPd1_H7l1BWRFQByN_3iFgeJRQY_R-PtYPFVN0QPM&type=album', 'type': 'q', 'width': 320}, {'height': 404, 'url': 'https://sun1-24.userapi.com/impg/0xQDYeNFs3TfOSUOlraX0vFdoPgwEgwooZy5XA/Q4LPnWIGgbA.jpg?size=510x404&quality=96&sign=3195536ea73c44fa1584a31bc50d8894&c_uniq_tag=lZVL7jAemT6e4uv-7MwG46Zc-chQvw4k3PvPAtEGCzA&type=album', 'type': 'r', 'width': 510}, {'height': 59, 'url': 'https://sun1-24.userapi.com/impg/0xQDYeNFs3TfOSUOlraX0vFdoPgwEgwooZy5XA/Q4LPnWIGgbA.jpg?size=75x59&quality=96&sign=438dd0cc215a4d52dd982c00e4fc5cb0&c_uniq_tag=M3NzbIVTlDWzblt9ztyCRLauj1ZqxQIy0fS1gXtHong&type=album', 'type': 's', 'width': 75}, {'height': 1140, 'url': 'https://sun1-24.userapi.com/impg/0xQDYeNFs3TfOSUOlraX0vFdoPgwEgwooZy5XA/Q4LPnWIGgbA.jpg?size=1440x1140&quality=96&sign=3565e54d58f609ecdba35a0cb2165f38&c_uniq_tag=fzI83XEhB990QhXzV1Fu5TrEGVtCDHyjcyykUCVevzM&type=album', 'type': 'w', 'width': 1440}, {'height': 478, 'url': 'https://sun1-24.userapi.com/impg/0xQDYeNFs3TfOSUOlraX0vFdoPgwEgwooZy5XA/Q4LPnWIGgbA.jpg?size=604x478&quality=96&sign=4e96931da1bc26b87d12612645555fad&c_uniq_tag=ulFyOnqVEiL9QhpxSdt6JA1TmGCfwqdf-_prSTa6eWk&type=album', 'type': 'x', 'width': 604}, {'height': 639, 'url': 'https://sun1-24.userapi.com/impg/0xQDYeNFs3TfOSUOlraX0vFdoPgwEgwooZy5XA/Q4LPnWIGgbA.jpg?size=807x639&quality=96&sign=30a845fd0c97b7b775dea027968f92df&c_uniq_tag=g2V2WJcw82jeSmXu-a2ygof6f--PcWyGaAlqg3lsA4M&type=album', 'type': 'y', 'width': 807}, {'height': 1013, 'url': 'https://sun1-24.userapi.com/impg/0xQDYeNFs3TfOSUOlraX0vFdoPgwEgwooZy5XA/Q4LPnWIGgbA.jpg?size=1280x1013&quality=96&sign=d62a710b1008612cd08f44fcd5b13a82&c_uniq_tag=vgRGFR5_UKujxnHeEVySEt7g-p8oi_tzjj7mLZ-kO2E&type=album', 'type': 'z', 'width': 1280}], 'text': '', 'user_id': 100}}, {'type': 'photo', 'photo': {'album_id': -7, 'date': 1640097848, 'id': 457326696, 'owner_id': -22822305, 'access_key': 'fcb19606cddd504562', 'sizes': [{'height': 130, 'url': 'https://sun1-96.userapi.com/impg/g-ctEVn5-YQc43GvQ41S0R7at0NbP21P_lim4A/PcBVot35bKM.jpg?size=130x130&quality=96&sign=1d4aca13ec17b5eadcb896782b8a8bdd&c_uniq_tag=BTeJWupcjwHd-UC_aB_0MIacdJUiv20des3MXiGQ61g&type=album', 'type': 'm', 'width': 130}, {'height': 130, 'url': 'https://sun1-96.userapi.com/impg/g-ctEVn5-YQc43GvQ41S0R7at0NbP21P_lim4A/PcBVot35bKM.jpg?size=130x130&quality=96&sign=1d4aca13ec17b5eadcb896782b8a8bdd&c_uniq_tag=BTeJWupcjwHd-UC_aB_0MIacdJUiv20des3MXiGQ61g&type=album', 'type': 'o', 'width': 130}, {'height': 200, 'url': 'https://sun1-96.userapi.com/impg/g-ctEVn5-YQc43GvQ41S0R7at0NbP21P_lim4A/PcBVot35bKM.jpg?size=200x200&quality=96&sign=2f9d8eb0b771f7622f754099fdded6e6&c_uniq_tag=FF9tPl0Gff1j5GiL6tFNrqh2PFaaUXHsllTcIVK_vt0&type=album', 'type': 'p', 'width': 200}, {'height': 320, 'url': 'https://sun1-96.userapi.com/impg/g-ctEVn5-YQc43GvQ41S0R7at0NbP21P_lim4A/PcBVot35bKM.jpg?size=320x320&quality=96&sign=1eb6381ab40c70f7f0b8c883cc0c3456&c_uniq_tag=nLb6de6evuwzgevOQuniXZcwHd2ISZQiMKc6hL7JdbE&type=album', 'type': 'q', 'width': 320}, {'height': 510, 'url': 'https://sun1-96.userapi.com/impg/g-ctEVn5-YQc43GvQ41S0R7at0NbP21P_lim4A/PcBVot35bKM.jpg?size=510x510&quality=96&sign=068b6cefcb77389e9affab0a68516733&c_uniq_tag=OoGKRIRpv-dx88jFxKG-E71OJimMD61UAkflInNKtRQ&type=album', 'type': 'r', 'width': 510}, {'height': 75, 'url': 'https://sun1-96.userapi.com/impg/g-ctEVn5-YQc43GvQ41S0R7at0NbP21P_lim4A/PcBVot35bKM.jpg?size=75x75&quality=96&sign=0211165446c31a15a8b491581e122fd8&c_uniq_tag=ZI3Xk5ffHnRifEIDsnxEt-Vj2bRUxcZ5aomclS_Dp1c&type=album', 'type': 's', 'width': 75}, {'height': 1440, 'url': 'https://sun1-96.userapi.com/impg/g-ctEVn5-YQc43GvQ41S0R7at0NbP21P_lim4A/PcBVot35bKM.jpg?size=1440x1440&quality=96&sign=187f52f51a468db96843b67c8895df21&c_uniq_tag=FJQNEKujda9Y7i6Ui_Um00U58TnZ0ndPDPDqwz0rq1o&type=album', 'type': 'w', 'width': 1440}, {'height': 604, 'url': 'https://sun1-96.userapi.com/impg/g-ctEVn5-YQc43GvQ41S0R7at0NbP21P_lim4A/PcBVot35bKM.jpg?size=604x604&quality=96&sign=32f2002ec49dacd47d662f28edc8509f&c_uniq_tag=Xl74lPCYsu9hnX9ANtF-HGlq2c5gy2PA_59zeysPyGI&type=album', 'type': 'x', 'width': 604}, {'height': 807, 'url': 'https://sun1-96.userapi.com/impg/g-ctEVn5-YQc43GvQ41S0R7at0NbP21P_lim4A/PcBVot35bKM.jpg?size=807x807&quality=96&sign=c2259fb63d5c7bafb7c0a8d8f873e2fd&c_uniq_tag=PyR2q0xScAuljb9wgqurlOlBL8oagIEOWyjozzu6csU&type=album', 'type': 'y', 'width': 807}, {'height': 1080, 'url': 'https://sun1-96.userapi.com/impg/g-ctEVn5-YQc43GvQ41S0R7at0NbP21P_lim4A/PcBVot35bKM.jpg?size=1280x1280&quality=96&sign=73e0637505abc692f7002c99e6912e0a&c_uniq_tag=ridhEcC7iBM-ADXv9rPusWmIN0JxwPuPEyYLyoeT-uk&type=album', 'type': 'z', 'width': 1080}], 'text': '', 'user_id': 100}}], 'post_source': {'type': 'vk'}, 'comments': {'can_post': 1, 'count': 268, 'groups_can_post': True}, 'likes': {'can_like': 1, 'count': 806, 'user_likes': 0, 'can_publish': 1}, 'reposts': {'count': 246, 'user_reposted': 0}, 'views': {'count': 296064}, 'edited': 1640097849, 'hash': 'z2_HsRZ0cDCUBHwuHQ'}, {'id': 1260019, 'from_id': -22822305, 'owner_id': -22822305, 'date': 1640017040, 'marked_as_ads': 0, 'post_type': 'post', 'text': 'ВКонтакте всегда есть что посмотреть, послушать и почитать. Всё потому, что каждый месяц 48 млн человек (треть населения России!) делятся здесь своим творчеством, шутками, мнениями. Вместе мы создаём и развиваем крупнейшую контентную платформу России.\\n\\nЗа год авторы опубликовали ВКонтакте свыше 5,6 млрд единиц контента: видео, трансляций и клипов, треков и подкастов, мемов и снимков, рассказов из жизни и художественных текстов. \\n\\nИнтересного так много, что мы с вами налистали больше 198 млрд метров новостной ленты. А ещё посмотрели очень много клипов и даже поставили новый рекорд — 435 млн просмотров в сутки. \\n\\nКак изменился за год доход авторов, какие паблики стали самыми популярными и кого особенно любят смотреть в «Клипах» — найдёте здесь: vk.com/2021.', 'attachments': [{'type': 'photo', 'photo': {'album_id': -7, 'date': 1640017040, 'id': 457326648, 'owner_id': -22822305, 'access_key': '76689756f8702bfda9', 'post_id': 1260019, 'sizes': [{'height': 130, 'url': 'https://sun1-83.userapi.com/impg/Gijcx3rW6wDTzbQwxvD8u1-40GR5HwAMacUjAQ/1-fqR42PDEY.jpg?size=130x130&quality=96&sign=f62c20cd41c518c7672f7f61bc5cac54&c_uniq_tag=J4CZXjWuBTUdZujM_wAE-pjHgldIeAmNLSHoyEAa2g0&type=album', 'type': 'm', 'width': 130}, {'height': 130, 'url': 'https://sun1-83.userapi.com/impg/Gijcx3rW6wDTzbQwxvD8u1-40GR5HwAMacUjAQ/1-fqR42PDEY.jpg?size=130x130&quality=96&sign=f62c20cd41c518c7672f7f61bc5cac54&c_uniq_tag=J4CZXjWuBTUdZujM_wAE-pjHgldIeAmNLSHoyEAa2g0&type=album', 'type': 'o', 'width': 130}, {'height': 200, 'url': 'https://sun1-83.userapi.com/impg/Gijcx3rW6wDTzbQwxvD8u1-40GR5HwAMacUjAQ/1-fqR42PDEY.jpg?size=200x200&quality=96&sign=fc4ff3304b974f02a4d6807ce767ce24&c_uniq_tag=kvIx9vlPBC0A-ksg5ku02Mq4ljYUD0hkxZ1ety5BynE&type=album', 'type': 'p', 'width': 200}, {'height': 320, 'url': 'https://sun1-83.userapi.com/impg/Gijcx3rW6wDTzbQwxvD8u1-40GR5HwAMacUjAQ/1-fqR42PDEY.jpg?size=320x320&quality=96&sign=ee42641797bbdedb5fd1209b88cde79c&c_uniq_tag=jWWFhXGyYFSyCn6ZTzXlRiJAS2XMLgPQ4ZfGpyXsI2g&type=album', 'type': 'q', 'width': 320}, {'height': 510, 'url': 'https://sun1-83.userapi.com/impg/Gijcx3rW6wDTzbQwxvD8u1-40GR5HwAMacUjAQ/1-fqR42PDEY.jpg?size=510x510&quality=96&sign=6463678ad5b42996986b440cee130e82&c_uniq_tag=HDLJ2qyJEHlk5XhnwlBIZJqm8wkG7Uu0iF9PCeECluw&type=album', 'type': 'r', 'width': 510}, {'height': 75, 'url': 'https://sun1-83.userapi.com/impg/Gijcx3rW6wDTzbQwxvD8u1-40GR5HwAMacUjAQ/1-fqR42PDEY.jpg?size=75x75&quality=96&sign=5429de5dd926c93f9bf1b976da0606fe&c_uniq_tag=teq7TS7bi_bKvHyGbvHfK7AuAoKcHG-HuigXHcIPnBQ&type=album', 'type': 's', 'width': 75}, {'height': 1440, 'url': 'https://sun1-83.userapi.com/impg/Gijcx3rW6wDTzbQwxvD8u1-40GR5HwAMacUjAQ/1-fqR42PDEY.jpg?size=1440x1440&quality=96&sign=f7713bea88b12868de9b4b1019e62b95&c_uniq_tag=YlVdKzRtlIFBv7dwBexaJEo1o5z8WT5IdVPxOvy9Dgw&type=album', 'type': 'w', 'width': 1440}, {'height': 604, 'url': 'https://sun1-83.userapi.com/impg/Gijcx3rW6wDTzbQwxvD8u1-40GR5HwAMacUjAQ/1-fqR42PDEY.jpg?size=604x604&quality=96&sign=b9c5659dbe897a77358cfb1e9f8bbdf9&c_uniq_tag=VtbvLb43QpTsB-uayesk8OrJ2nk9sxq6JC-mHaMyS5k&type=album', 'type': 'x', 'width': 604}, {'height': 807, 'url': 'https://sun1-83.userapi.com/impg/Gijcx3rW6wDTzbQwxvD8u1-40GR5HwAMacUjAQ/1-fqR42PDEY.jpg?size=807x807&quality=96&sign=ec11c0fc31e76c20d7094e2134d77076&c_uniq_tag=l5dlqFwJCSi5XcEmQRXmyt4kaZT3JIOWtZk8W_MDXv4&type=album', 'type': 'y', 'width': 807}, {'height': 1080, 'url': 'https://sun1-83.userapi.com/impg/Gijcx3rW6wDTzbQwxvD8u1-40GR5HwAMacUjAQ/1-fqR42PDEY.jpg?size=1280x1280&quality=96&sign=2045deedb47b8f84f33071f99cdaacc8&c_uniq_tag=QuGRPNsuSvur6t5ZY_WfR13_iU7sf1NV6cqdFYZutXw&type=album', 'type': 'z', 'width': 1080}], 'text': '', 'user_id': 100}}], 'post_source': {'type': 'vk'}, 'comments': {'can_post': 1, 'count': 191, 'groups_can_post': True}, 'likes': {'can_like': 1, 'count': 835, 'user_likes': 0, 'can_publish': 1}, 'reposts': {'count': 84, 'user_reposted': 0}, 'views': {'count': 289836}, 'hash': 'EcgWZK1Tdl1sZsSJ8g'}, {'id': 1252374, 'from_id': -22822305, 'owner_id': -22822305, 'date': 1639590427, 'marked_as_ads': 0, 'post_type': 'post', 'text': 'Приближаем праздники вместе — заходите в [https://vk.com/checkback#snowfall|«Снегопад подарков»] 🎁 \\n\\nСпециальная вкладка открылась в мини-приложении VK Чекбэк. Там вас ждут задания с моментальными наградами и снежинками — они ведут в розыгрыш суперпризов. Среди них: MacBook Pro, iPhone 13, Samsung Galaxy Z Fold3, 20 миллионов бонусов VK Pay, квадрокоптер DJI Mavic AIR 2 Fly More Combo, GoPro Hero 9, AirPods Pro… и ещё много крутого, хо-хо-хо. Розыгрыши состоятся 30 декабря и 13 января.\\n\\nСобирайте снежинки нужного цвета — и они будут складываться в снеговика. Чем он выше, тем более крутые суперпризы открываются. Меняйтесь снежинками с другими игроками или дарите их друзьям. Вместе вы достигнете цели быстрее! \\n\\nСамые удачливые могут найти особенные снежинки от ПСБ. Среди тех, кто соберёт все шесть, разыграют специальный приз: пятеро победителей разделят миллион рублей. \\n\\nИ это не последний праздничный сюрприз от нас. Следите за новостями!', 'attachments': [{'type': 'photo', 'photo': {'album_id': -7, 'date': 1639590427, 'id': 457326337, 'owner_id': -22822305, 'access_key': '85d319898abb3fc7f0', 'post_id': 1252374, 'sizes': [{'height': 130, 'url': 'https://sun1-25.userapi.com/impg/mWozLYLRItUazxRIDG-elP1bW8gFzFl9Kpwr4g/F2mgQIwGNcA.jpg?size=130x130&quality=96&sign=6fa2a1d161f62a28e04961309d00c068&c_uniq_tag=ec9UgBJ081m4ODm5ygce0Oz_KLAD5lz1fiSMG93Ct2E&type=album', 'type': 'm', 'width': 130}, {'height': 130, 'url': 'https://sun1-25.userapi.com/impg/mWozLYLRItUazxRIDG-elP1bW8gFzFl9Kpwr4g/F2mgQIwGNcA.jpg?size=130x130&quality=96&sign=6fa2a1d161f62a28e04961309d00c068&c_uniq_tag=ec9UgBJ081m4ODm5ygce0Oz_KLAD5lz1fiSMG93Ct2E&type=album', 'type': 'o', 'width': 130}, {'height': 200, 'url': 'https://sun1-25.userapi.com/impg/mWozLYLRItUazxRIDG-elP1bW8gFzFl9Kpwr4g/F2mgQIwGNcA.jpg?size=200x200&quality=96&sign=dfd277308b99c79d2eb945397ddd10b6&c_uniq_tag=Fz2P1qc5AceFldY7omnsUwqwyXs-sK4Q5tZOg6c3Pog&type=album', 'type': 'p', 'width': 200}, {'height': 320, 'url': 'https://sun1-25.userapi.com/impg/mWozLYLRItUazxRIDG-elP1bW8gFzFl9Kpwr4g/F2mgQIwGNcA.jpg?size=320x320&quality=96&sign=cc909d05be0148453533be46ecfab6e0&c_uniq_tag=gG10vxqYvsUqZFvl__e_dvyz1Ht78zgriI_LkSAThAU&type=album', 'type': 'q', 'width': 320}, {'height': 510, 'url': 'https://sun1-25.userapi.com/impg/mWozLYLRItUazxRIDG-elP1bW8gFzFl9Kpwr4g/F2mgQIwGNcA.jpg?size=510x510&quality=96&sign=d88fe110dc2bcbcf7850847de1959525&c_uniq_tag=k0eU23GKmx0WvWVEesL1xyKdfIBq0GAAzOsDVikHNG0&type=album', 'type': 'r', 'width': 510}, {'height': 75, 'url': 'https://sun1-25.userapi.com/impg/mWozLYLRItUazxRIDG-elP1bW8gFzFl9Kpwr4g/F2mgQIwGNcA.jpg?size=75x75&quality=96&sign=24ae0096aec35cf7afe7c2d9f7251bce&c_uniq_tag=VKHYkDccKOnSxtKGGYIIdenfFUqWv1AtY0m_YkWptE4&type=album', 'type': 's', 'width': 75}, {'height': 604, 'url': 'https://sun1-25.userapi.com/impg/mWozLYLRItUazxRIDG-elP1bW8gFzFl9Kpwr4g/F2mgQIwGNcA.jpg?size=604x604&quality=96&sign=fe96264a06efea9a884767420ae847e3&c_uniq_tag=U1lXzbSbycHkviknOSmR46eHRQG_J1e93AZLfwMj7ek&type=album', 'type': 'x', 'width': 604}, {'height': 807, 'url': 'https://sun1-25.userapi.com/impg/mWozLYLRItUazxRIDG-elP1bW8gFzFl9Kpwr4g/F2mgQIwGNcA.jpg?size=807x807&quality=96&sign=10f6d786518fa757f768e7a22fc5da57&c_uniq_tag=EGjZcKbE8R42E_rnr2tkwhmOFw5-l2iWwBXkbY7QLlU&type=album', 'type': 'y', 'width': 807}, {'height': 1000, 'url': 'https://sun1-25.userapi.com/impg/mWozLYLRItUazxRIDG-elP1bW8gFzFl9Kpwr4g/F2mgQIwGNcA.jpg?size=1000x1000&quality=96&sign=e442381b755506eb444d45aeadc1b0da&c_uniq_tag=r7WAYCHcnlKMQhwCced7rDPrs6U12G3eXRz0S8uBVy4&type=album', 'type': 'z', 'width': 1000}], 'text': '', 'user_id': 100}}], 'post_source': {'type': 'vk'}, 'comments': {'can_post': 1, 'count': 6998, 'groups_can_post': True}, 'likes': {'can_like': 1, 'count': 1107, 'user_likes': 0, 'can_publish': 1}, 'reposts': {'count': 658, 'user_reposted': 0}, 'views': {'count': 406448}, 'hash': 'zza7ZO7Cbt4ouQvGIw'}]}}"
      ]
     },
     "execution_count": 244,
     "metadata": {},
     "output_type": "execute_result"
    }
   ],
   "source": [
    "url = 'https://api.vk.com/method/wall.get'  \n",
    "params = {  \n",
    "    'domain': 'vk',  \n",
    "    'filter': 'owner',  \n",
    "    'count': 10,  \n",
    "    'offset': 0,  \n",
    "    'access_token': token,  \n",
    "    'v': 5.95  \n",
    "}  \n",
    "response = requests.get(url, params = params)  \n",
    "response.json()"
   ]
  },
  {
   "cell_type": "markdown",
   "id": "1e5dd027",
   "metadata": {},
   "source": [
    "Видим, что сначала идёт общее количество постов, а по ключу `'items'`  —  сами посты. Посмотрим на отдельный пост:"
   ]
  },
  {
   "cell_type": "code",
   "execution_count": 246,
   "id": "c7eef034",
   "metadata": {},
   "outputs": [
    {
     "name": "stdout",
     "output_type": "stream",
     "text": [
      "{'attachments': [{'link': {'caption': 'vk.com',\n",
      "                           'description': 'ВКонтакте подвела итоги 2021-го '\n",
      "                                          'года. Музыка. Персоны и темы. '\n",
      "                                          'Клипы. Сервисы. E-commerce. Авторы '\n",
      "                                          'и лента. Технологии. Мемы.',\n",
      "                           'photo': {'album_id': -27,\n",
      "                                     'date': 1639167016,\n",
      "                                     'id': 457369521,\n",
      "                                     'owner_id': 2000003133,\n",
      "                                     'sizes': [{'height': 480,\n",
      "                                                'type': 'k',\n",
      "                                                'url': 'https://sun9-1.userapi.com/sun9-82/impg/0JJbWnpBTU-mcpFCGGL5hYdrGzF15BMkwYM-3g/CB1UFU84GLk.jpg?size=1074x480&quality=96&sign=12ce3f412b98acc603ea8d84df2d5990&c_uniq_tag=2B9srmQppUGthIZEFlOXOmh9-ceHKOGkoIaPd0ZyEzc&type=share',\n",
      "                                                'width': 1074},\n",
      "                                               {'height': 240,\n",
      "                                                'type': 'l',\n",
      "                                                'url': 'https://sun9-1.userapi.com/sun9-82/impg/0JJbWnpBTU-mcpFCGGL5hYdrGzF15BMkwYM-3g/CB1UFU84GLk.jpg?size=537x240&quality=96&sign=a309f8ea5840ec82792e75e7c5f86370&c_uniq_tag=sXt5x2GpmsstRihqgxzGsHkpSy9fHQ_6g8behyJGhRE&type=share',\n",
      "                                                'width': 537},\n",
      "                                               {'height': 70,\n",
      "                                                'type': 'm',\n",
      "                                                'url': 'https://sun9-1.userapi.com/sun9-82/impg/0JJbWnpBTU-mcpFCGGL5hYdrGzF15BMkwYM-3g/CB1UFU84GLk.jpg?size=130x80&quality=96&crop=147,0,780,480&sign=ebd391e19d1c078bd154262a29c3df46&c_uniq_tag=qTbsD_aHfaKXmgHqftIyuTZ7xvE4DevVbckBSngdV2g&type=share',\n",
      "                                                'width': 130},\n",
      "                                               {'height': 140,\n",
      "                                                'type': 'p',\n",
      "                                                'url': 'https://sun9-1.userapi.com/sun9-82/impg/0JJbWnpBTU-mcpFCGGL5hYdrGzF15BMkwYM-3g/CB1UFU84GLk.jpg?size=260x140&quality=96&crop=91,0,891,480&sign=a5494bfc0d90c31457fa964b8be10070&c_uniq_tag=hUhavqveVbeRKB8SHwXuyoKKWekq13sr-lJcYABhycE&type=share',\n",
      "                                                'width': 260},\n",
      "                                               {'height': 35,\n",
      "                                                'type': 's',\n",
      "                                                'url': 'https://sun9-1.userapi.com/sun9-82/impg/0JJbWnpBTU-mcpFCGGL5hYdrGzF15BMkwYM-3g/CB1UFU84GLk.jpg?size=75x35&quality=96&crop=22,0,1029,480&sign=2cfa0616bae23ffd8fc7066d0ee20a73&c_uniq_tag=eZTX37P4bCLGReJZ3j9nSIOVzdDQQiTWWM0f9qPEdVE&type=share',\n",
      "                                                'width': 75},\n",
      "                                               {'height': 80,\n",
      "                                                'type': 'x',\n",
      "                                                'url': 'https://sun9-1.userapi.com/sun9-82/impg/0JJbWnpBTU-mcpFCGGL5hYdrGzF15BMkwYM-3g/CB1UFU84GLk.jpg?size=150x80&quality=96&crop=87,0,900,480&sign=7022a5cf889d3bb518f5bd16b56f4f74&c_uniq_tag=e8FUGKxfKRJu4EaOINfiiuPGJ22va4FQSTjlq1bP0G8&type=share',\n",
      "                                                'width': 150}],\n",
      "                                     'text': '',\n",
      "                                     'user_id': 100},\n",
      "                           'title': 'Итоги года ВКонтакте 2021',\n",
      "                           'url': 'https://vk.com/2021'},\n",
      "                  'type': 'link'}],\n",
      " 'comments': {'can_post': 1, 'count': 1040, 'groups_can_post': True},\n",
      " 'date': 1639138500,\n",
      " 'edited': 1639167016,\n",
      " 'from_id': -22822305,\n",
      " 'hash': 'Iwni-Zi80FWWvuMJCA',\n",
      " 'id': 1251019,\n",
      " 'is_pinned': 1,\n",
      " 'likes': {'can_like': 1, 'can_publish': 1, 'count': 1875, 'user_likes': 0},\n",
      " 'marked_as_ads': 0,\n",
      " 'owner_id': -22822305,\n",
      " 'post_source': {'type': 'vk'},\n",
      " 'post_type': 'post',\n",
      " 'reposts': {'count': 1612, 'user_reposted': 0},\n",
      " 'text': 'Этот год оказался богатым на события — всем нам было что обсудить. '\n",
      "         'Начинаем подводить итоги 2021-го. Сегодня делимся списком тем и '\n",
      "         'персон, о которых чаще всего говорили пользователи ВКонтакте. \\n'\n",
      "         '\\n'\n",
      "         'Самой волнующей темой в 2021 году остаётся пандемия COVID-19. '\n",
      "         'Пользователи писали не только про коронавирус, но и про вакцинацию, '\n",
      "         'удалённую работу, осенний локдаун и систему QR-кодов. Суммарно все '\n",
      "         'эти вопросы обсуждались 68,5 млн раз. Также большой интерес вызывали '\n",
      "         'общественно-политические новости. Уже несколько лет подряд рейтинг '\n",
      "         'самых упоминаемых персон возглавляет Владимир Путин. В топе и лидеры '\n",
      "         'других стран: Владимир Зеленский, Александр Лукашенко, 45-й '\n",
      "         'президент США Дональд Трамп. \\n'\n",
      "         '\\n'\n",
      "         'Пользователей ВКонтакте увлекали музыканты: они заняли почти '\n",
      "         'половину позиций в топ-15 самых упоминаемых персон. К примеру, на '\n",
      "         'третьем месте — k-pop-группа BTS. Кроме того, в рейтинг попали '\n",
      "         'популярные культурные и спортивные события: пользователи ВКонтакте '\n",
      "         'следили за «Евровидением», премией «Оскар», Евро-2020 и Олимпиадой в '\n",
      "         'Токио. \\n'\n",
      "         '\\n'\n",
      "         'Мы продолжим делиться итогами года в течение всего декабря. '\n",
      "         'Заглядывайте в специальный раздел: vk.com/2021.',\n",
      " 'views': {'count': 535727}}\n"
     ]
    }
   ],
   "source": [
    "pprint(response.json()['response']['items'][0])"
   ]
  },
  {
   "cell_type": "markdown",
   "id": "a5e08b0a",
   "metadata": {},
   "source": [
    "Нужная нам статистика находится в полях `'comments'`, `'likes'` и `'reposts'`. Соберем итоговую статистику для каждого поста в словарь `stats`. В качестве ключа будем использовать начало статьи, в качестве значения — список с тремя интересующими нас метриками и временем публикации: `[комментарии, лайки, репосты, дата публикации]`"
   ]
  },
  {
   "cell_type": "code",
   "execution_count": 247,
   "id": "7350080d",
   "metadata": {},
   "outputs": [
    {
     "name": "stdout",
     "output_type": "stream",
     "text": [
      "{'А если взглянуть в целом, то к': [268, 806, 246, 1640094467],\n",
      " 'ВКонтакте всегда есть что посм': [191, 835, 84, 1640017040],\n",
      " 'Запускаем собственное шоу в пе': [58, 708, 86, 1640940328],\n",
      " 'Каким был ваш 2021-й ВКонтакте': [585, 2024, 9696, 1640174402],\n",
      " 'Мы приготовили для вас целую г': [160, 3296, 273, 1640712137],\n",
      " 'Объявляем итоги первого розыгр': [438, 822, 98, 1640871560],\n",
      " 'Приближаем праздники вместе — ': [6998, 1107, 658, 1639590427],\n",
      " 'Эти каникулы будут особенными ': [121, 1056, 147, 1640171709],\n",
      " 'Этот год оказался богатым на с': [1040, 1875, 1612, 1639138500]}\n"
     ]
    }
   ],
   "source": [
    "stats = {}  \n",
    "              \n",
    "for record in response.json()['response']['items'][:]:  \n",
    "    title = record['text'][:30]  \n",
    "    if title:  \n",
    "        stats[title] = [record['comments']['count'], record['likes']['count'], record['reposts']['count'], record['date'] ]  \n",
    "pprint(stats)  "
   ]
  },
  {
   "cell_type": "markdown",
   "id": "735e4087",
   "metadata": {},
   "source": [
    "## Задание 1 - SMM index\n",
    "Напишите функцию `get_smm_index(group_name, token)`, которая по **имени группы** и авторизационному токену **API** возвращает **smm_index** группы - сумму **лайков**, **комментариев** и **репостов** для **последних 10 постов**, поделённую на **количество участников** в группе."
   ]
  },
  {
   "cell_type": "code",
   "execution_count": 294,
   "id": "3ea2fa86",
   "metadata": {},
   "outputs": [],
   "source": [
    "group_name = 'vk'"
   ]
  },
  {
   "cell_type": "code",
   "execution_count": 297,
   "id": "3c0a88e9",
   "metadata": {},
   "outputs": [],
   "source": [
    "def get_smm_index(group_name, token):\n",
    "    url_getmembers = 'https://api.vk.com/method/groups.getMembers'\n",
    "    params = {  \n",
    "        'group_id': group_name,  \n",
    "        'v': 5.95,  \n",
    "        'access_token': token}  \n",
    "    response_getmembers = requests.get(url_getmembers, params = params)  \n",
    "    members_count = response_getmembers.json()['response']['count']\n",
    "\n",
    "    url_wall = 'https://api.vk.com/method/wall.get'  \n",
    "    params = {  \n",
    "        'domain': group_name,  \n",
    "        'filter': 'owner',  \n",
    "        'count': 10,  \n",
    "        'offset': 0,  \n",
    "        'access_token': token,  \n",
    "        'v': 5.95}\n",
    "    response_wall = requests.get(url_wall, params = params)  \n",
    "\n",
    "    smm = 0\n",
    "    for record in response_wall.json()['response']['items']:\n",
    "        smm += (record['likes']['count'] + record['comments']['count'] + record['reposts']['count'])\n",
    "    smm_index = smm/members_count\n",
    "    \n",
    "    return smm_index"
   ]
  },
  {
   "cell_type": "code",
   "execution_count": 298,
   "id": "6ac66fda",
   "metadata": {},
   "outputs": [
    {
     "data": {
      "text/plain": [
       "0.0029958368317109297"
      ]
     },
     "execution_count": 298,
     "metadata": {},
     "output_type": "execute_result"
    }
   ],
   "source": [
    "get_smm_index('vk', token)"
   ]
  },
  {
   "cell_type": "markdown",
   "id": "a5f9cf60",
   "metadata": {},
   "source": [
    "# ======================================================="
   ]
  },
  {
   "cell_type": "code",
   "execution_count": null,
   "id": "be685195",
   "metadata": {},
   "outputs": [],
   "source": []
  },
  {
   "cell_type": "code",
   "execution_count": null,
   "id": "0e50a59e",
   "metadata": {},
   "outputs": [],
   "source": [
    "def get_actors(url):\n",
    "    response = requests.get(url) # запрос страницы\n",
    "    page = BeautifulSoup(response.text, 'html.parser')  # получение обьекта BeautifulSoup\n",
    "    cast_tag = page.find('ul', class_=\"styles_list__I97eu\") #\n",
    "    name_tags = cast_tag.find_all('a', class_ = \"styles_link__1dkjp\") #\n",
    "    return [name_tag.text for name_tag in name_tags] #"
   ]
  }
 ],
 "metadata": {
  "kernelspec": {
   "display_name": "Python 3",
   "language": "python",
   "name": "python3"
  },
  "language_info": {
   "codemirror_mode": {
    "name": "ipython",
    "version": 3
   },
   "file_extension": ".py",
   "mimetype": "text/x-python",
   "name": "python",
   "nbconvert_exporter": "python",
   "pygments_lexer": "ipython3",
   "version": "3.8.8"
  }
 },
 "nbformat": 4,
 "nbformat_minor": 5
}
