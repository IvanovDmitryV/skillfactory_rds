{
 "cells": [
  {
   "cell_type": "code",
   "execution_count": 1,
   "id": "f15a4add",
   "metadata": {},
   "outputs": [],
   "source": [
    "import pandas as pd\n",
    "import os\n",
    "import warnings\n",
    "import numpy as np\n",
    "import re\n",
    "\n",
    "from functools import reduce\n",
    "\n",
    "warnings.filterwarnings(\"ignore\")"
   ]
  },
  {
   "cell_type": "markdown",
   "id": "10590eb9",
   "metadata": {},
   "source": [
    "# ============================================================="
   ]
  },
  {
   "cell_type": "code",
   "execution_count": 2,
   "id": "8fa193f0",
   "metadata": {},
   "outputs": [],
   "source": [
    "# обьединение данных по каждом бренду в один DataFrame\n",
    "# by_brend_dir = os.listdir('C:/Users/Manych/projects/persnl/Project_7_data_extra/by_brend')\n",
    "\n",
    "# to_concat = []\n",
    "# for brand in by_brend_dir:\n",
    "#     try: \n",
    "#         brand_df = pd.read_csv(\n",
    "#             'C:/Users/Manych/projects/persnl/Project_7_data_extra/by_brend/' + brand,sep=',',low_memory=False)\n",
    "#     except:\n",
    "#         brand_df = pd.read_csv(\n",
    "#             'C:/Users/Manych/projects/persnl/Project_7_data_extra/by_brend/' + brand,sep=';',low_memory=False)\n",
    "#     to_concat.append(brand_df)\n",
    "\n",
    "# consolidated_df = pd.concat(to_concat)\n",
    "\n",
    "# consolidated_df.to_csv('C:/Users/Manych/projects/persnl/Project_7_data_extra/consolidated_df.csv')"
   ]
  },
  {
   "cell_type": "code",
   "execution_count": 3,
   "id": "1b3e6080",
   "metadata": {},
   "outputs": [],
   "source": [
    "# all_dfs_names = [x for x in os.listdir('C:/Users/Manych/projects/persnl/Project_7_data_extra') if '.csv' in x]\n",
    "all_dfs_names = [x for x in os.listdir('./Preproject_7_data') if '.csv' in x]"
   ]
  },
  {
   "cell_type": "markdown",
   "id": "a97c48db",
   "metadata": {},
   "source": [
    "# Получение серий со спискоми колонок каждого датафрейма, рколичества наблюдений в каждом датафрейме и с самими датафремами"
   ]
  },
  {
   "cell_type": "code",
   "execution_count": 4,
   "id": "c675369b",
   "metadata": {},
   "outputs": [
    {
     "name": "stdout",
     "output_type": "stream",
     "text": [
      "all_auto_ru_09_09_2020.csv all_auto_ru_14_11_2020.csv all_car_27_08_2021_data_12_brands.csv cars_df_big.csv cars_df_small.csv consolidated_df.csv data1.csv parsing_auto_ru.csv train.csv train_df_full_part1.csv "
     ]
    }
   ],
   "source": [
    "# '''\n",
    "dfs_columns = pd.Series()\n",
    "dfs_counts = pd.Series()\n",
    "all_dfs =  pd.Series()\n",
    "\n",
    "for df_name in  all_dfs_names:\n",
    "    print(df_name,end=' ')\n",
    "    try:\n",
    "#         df = pd.read_csv('C:/Users/Manych/projects/persnl/Project_7_data_extra/' + df_name,low_memory=False)\n",
    "        df = pd.read_csv('./Preproject_7_data/' + df_name,low_memory=False)\n",
    "\n",
    "    except:\n",
    "#         df = pd.read_csv('C:/Users/Manych/projects/persnl/Project_7_data_extra/' + df_name,sep='\\t',low_memory=False)\n",
    "        df = pd.read_csv('./Preproject_7_data/' + df_name,sep='\\t',low_memory=False)\n",
    "    \n",
    "    dfs_columns = dfs_columns.append(pd.Series([list(df.columns)],index=[df_name]))\n",
    "    dfs_counts = dfs_counts.append(pd.Series([len(df)],index=[df_name]))\n",
    "    all_dfs = all_dfs.append(pd.Series([df],index=[df_name]));\n",
    "#     print(df.columnsumns)\n",
    "# '''"
   ]
  },
  {
   "cell_type": "markdown",
   "id": "977b7098",
   "metadata": {},
   "source": [
    "# Общие для всех  датафреймов колонки, и остальные(необщий)"
   ]
  },
  {
   "cell_type": "code",
   "execution_count": 5,
   "id": "28f7667d",
   "metadata": {},
   "outputs": [
    {
     "name": "stdout",
     "output_type": "stream",
     "text": [
      "['hidden', 'model', 'modelDate', 'numberOfDoors', 'start_date', 'vehicleConfiguration', 'Владение', 'Комплектация', 'Состояние', 'Таможня']\n",
      "['complectation_dict', 'equipment_dict', 'image', 'modelDate', 'model_info', 'model_name', 'numberOfDoors', 'priceCurrency', 'price_EUR', 'price_USD', 'sell_id', 'start_date', 'super_gen', 'vehicleConfiguration', 'vendor', 'Владение', 'Состояние', 'Таможня']\n",
      "['Unnamed: 0', 'car_url', 'complectation_dict', 'date_added', 'equipment_dict', 'image', 'modelDate', 'model_name', 'numberOfDoors', 'parsing_unixtime', 'priceCurrency', 'region', 'sell_id', 'super_gen', 'vehicleConfiguration', 'views', 'Владение', 'Состояние', 'Таможня']\n",
      "['car_url', 'equipmentGroups', 'image', 'modelDate', 'model_name', 'numberOfDoors', 'parsing_unixtime', 'priceCurrency', 'sell_id', 'vehicleConfiguration', 'Состояние', 'Таможня']\n",
      "['car_url', 'equipmentGroups', 'image', 'modelDate', 'model_name', 'numberOfDoors', 'parsing_unixtime', 'priceCurrency', 'sell_id', 'vehicleConfiguration', 'Состояние', 'Таможня']\n",
      "['Unnamed: 0', 'car_url', 'card', 'card_type', 'confDict', 'datetime', 'dealerName', 'engine', 'equipment_dict', 'image', 'model_name', 'model_name2', 'model_name_full', 'nview', 'parsing_unixtime', 'public_date', 'region', 'sell_id', 'sellerName', 'Состояние', 'Таможня']\n",
      "['car_url', 'complectation_dict', 'equipment_dict', 'image', 'is_train', 'modelDate', 'model_info', 'model_name', 'numberOfDoors', 'parsing_unixtime', 'priceCurrency', 'sell_id', 'super_gen', 'vehicleConfiguration', 'vendor', 'Владение', 'Состояние', 'Таможня']\n",
      "['car_url', 'complectation_dict', 'equipment_dict', 'image', 'modelDate', 'model_info', 'model_name', 'numberOfDoors', 'parsing_unixtime', 'priceCurrency', 'sell_id', 'super_gen', 'vehicleConfiguration', 'vendor', 'Владение', 'Состояние', 'Таможня']\n",
      "['complectation_dict', 'equipment_dict', 'id', 'modelDate', 'model_info', 'model_name', 'numberOfDoors', 'priceCurrency', 'sell_id', 'super_gen', 'vehicleConfiguration', 'vendor']\n",
      "['car_url', 'complectation_dict', 'date_added', 'equipment_dict', 'image', 'modelDate', 'model_info', 'model_name', 'numberOfDoors', 'parsing_unixtime', 'priceCurrency', 'region', 'sell_id', 'super_gen', 'vehicleConfiguration', 'vendor', 'views', 'Владение', 'Состояние', 'Таможня']\n"
     ]
    }
   ],
   "source": [
    "# '''\n",
    "common_columns = reduce(lambda x,y: set(x)&set(y), dfs_columns)\n",
    "not_common_columns = dfs_columns.apply(lambda x: set(x) - common_columns )\n",
    "[print (sorted(x)) for x in not_common_columns];\n",
    "# common_columns\n",
    "# not_common_columns\n",
    "# '''"
   ]
  },
  {
   "cell_type": "code",
   "execution_count": 6,
   "id": "f8ea8249",
   "metadata": {},
   "outputs": [],
   "source": [
    "total_dfs_columns = pd.Series(dfs_columns.sum()).value_counts()"
   ]
  },
  {
   "cell_type": "code",
   "execution_count": 7,
   "id": "1a3ccb4f",
   "metadata": {},
   "outputs": [
    {
     "data": {
      "text/plain": [
       "fuelType               10\n",
       "vehicleTransmission    10\n",
       "color                  10\n",
       "Руль                   10\n",
       "bodyType               10\n",
       "enginePower            10\n",
       "mileage                10\n",
       "Привод                 10\n",
       "engineDisplacement     10\n",
       "name                   10\n",
       "description            10\n",
       "productionDate         10\n",
       "ПТС                    10\n",
       "brand                  10\n",
       "price                  10\n",
       "Владельцы              10\n",
       "Таможня                 9\n",
       "sell_id                 9\n",
       "numberOfDoors           9\n",
       "Состояние               9\n",
       "dtype: int64"
      ]
     },
     "execution_count": 7,
     "metadata": {},
     "output_type": "execute_result"
    }
   ],
   "source": [
    "total_dfs_columns[:20]"
   ]
  },
  {
   "cell_type": "markdown",
   "id": "af17ad11",
   "metadata": {},
   "source": [
    "# Взвешенные по количеству наблюдений колонки "
   ]
  },
  {
   "cell_type": "code",
   "execution_count": 8,
   "id": "6c7a8c3f",
   "metadata": {},
   "outputs": [],
   "source": [
    "weighted_columns = dfs_counts*dfs_columns\n",
    "total_weighted_columns = pd.Series(weighted_columns.sum()).value_counts()"
   ]
  },
  {
   "cell_type": "code",
   "execution_count": 9,
   "id": "1cee2735",
   "metadata": {},
   "outputs": [
    {
     "data": {
      "text/plain": [
       "engineDisplacement     1139446\n",
       "Владельцы              1139446\n",
       "brand                  1139446\n",
       "description            1139446\n",
       "mileage                1139446\n",
       "productionDate         1139446\n",
       "price                  1139446\n",
       "color                  1139446\n",
       "vehicleTransmission    1139446\n",
       "ПТС                    1139446\n",
       "Привод                 1139446\n",
       "Руль                   1139446\n",
       "bodyType               1139446\n",
       "enginePower            1139446\n",
       "name                   1139446\n",
       "fuelType               1139446\n",
       "sell_id                1050068\n",
       "model_name             1050068\n",
       "equipment_dict          981588\n",
       "Состояние               972048\n",
       "dtype: int64"
      ]
     },
     "execution_count": 9,
     "metadata": {},
     "output_type": "execute_result"
    }
   ],
   "source": [
    "total_weighted_columns[:20]"
   ]
  },
  {
   "cell_type": "code",
   "execution_count": 10,
   "id": "4c9c7604",
   "metadata": {},
   "outputs": [],
   "source": [
    "# [print (sorted(x)) for x in not_common_columns]"
   ]
  },
  {
   "cell_type": "markdown",
   "id": "35109608",
   "metadata": {},
   "source": [
    "# ===================all_dfs_getting==============================="
   ]
  },
  {
   "cell_type": "code",
   "execution_count": 11,
   "id": "4663e860",
   "metadata": {},
   "outputs": [
    {
     "name": "stdout",
     "output_type": "stream",
     "text": [
      "all_auto_ru_09_09_2020.csv all_auto_ru_14_11_2020.csv all_car_27_08_2021_data_12_brands.csv cars_df_big.csv cars_df_small.csv consolidated_df.csv data1.csv parsing_auto_ru.csv train.csv train_df_full_part1.csv "
     ]
    }
   ],
   "source": [
    "all_dfs =  pd.Series()\n",
    "\n",
    "for df_name in  all_dfs_names:\n",
    "    print(df_name,end=' ')\n",
    "    try:\n",
    "        df = pd.read_csv('./Preproject_7_data/' + df_name,low_memory=False)\n",
    "    except:\n",
    "        df = pd.read_csv('./Preproject_7_data/' + df_name,sep='\\t',low_memory=False)\n",
    "        \n",
    "    all_dfs = all_dfs.append(pd.Series([df],index=[df_name]))"
   ]
  },
  {
   "cell_type": "code",
   "execution_count": 12,
   "id": "09adbb0d",
   "metadata": {},
   "outputs": [
    {
     "name": "stdout",
     "output_type": "stream",
     "text": [
      "3526259.7003383883 all_auto_ru_09_09_2020.csv\n",
      "4879901.107416625 all_auto_ru_14_11_2020.csv\n",
      "6093548.989583893 all_car_27_08_2021_data_12_brands.csv\n",
      "3435923.9598136283 cars_df_big.csv\n",
      "3435923.9598136283 cars_df_small.csv\n",
      "nan consolidated_df.csv\n",
      "2385619.3733265977 data1.csv\n",
      "2306780.622999633 parsing_auto_ru.csv\n",
      "4509805.734230299 train.csv\n",
      "5869825.628195463 train_df_full_part1.csv\n"
     ]
    }
   ],
   "source": [
    "for df_name,df in zip(all_dfs.index,all_dfs):\n",
    "    try:\n",
    "        print(df[df.brand=='MERCEDES'].price.mean(),\n",
    "              df_name)\n",
    "    except: \n",
    "        print(df[df.brand=='MERCEDES'].price.apply(lambda x: int(''.join(re.findall(\"\\d+\", x))) if type(x)==str else np.NaN).mean(),\n",
    "              df_name)\n",
    "              "
   ]
  },
  {
   "cell_type": "code",
   "execution_count": null,
   "id": "e609ee75",
   "metadata": {
    "scrolled": false
   },
   "outputs": [],
   "source": []
  },
  {
   "cell_type": "markdown",
   "id": "8ea0b70e",
   "metadata": {},
   "source": [
    "# =============== dfs columns study ==========================="
   ]
  },
  {
   "cell_type": "code",
   "execution_count": null,
   "id": "a3296fff",
   "metadata": {},
   "outputs": [],
   "source": []
  },
  {
   "cell_type": "markdown",
   "id": "7581ce0f",
   "metadata": {},
   "source": [
    "# =============== brends study ==============================="
   ]
  },
  {
   "cell_type": "code",
   "execution_count": 13,
   "id": "22d2dfc3",
   "metadata": {},
   "outputs": [
    {
     "name": "stdout",
     "output_type": "stream",
     "text": [
      "['AUDI' 'BMW' 'CADILLAC' 'CHERY' 'CHEVROLET' 'CHRYSLER' 'CITROEN' 'DAEWOO'\n",
      " 'DODGE' 'FORD' 'GEELY' 'HONDA' 'HYUNDAI' 'INFINITI' 'JAGUAR' 'JEEP' 'KIA'\n",
      " 'LEXUS' 'MAZDA' 'MINI' 'MITSUBISHI' 'NISSAN' 'OPEL' 'PEUGEOT' 'PORSCHE'\n",
      " 'RENAULT' 'SKODA' 'SUBARU' 'SUZUKI' 'TOYOTA' 'VOLKSWAGEN' 'VOLVO'\n",
      " 'GREAT_WALL' 'LAND_ROVER' 'MERCEDES' 'SSANG_YONG'] all_auto_ru_14_11_2020.csv\n",
      "['SKODA' 'AUDI' 'VOLVO' 'BMW' 'NISSAN' 'INFINITI' 'MERCEDES' 'TOYOTA'\n",
      " 'LEXUS' 'VOLKSWAGEN' 'MITSUBISHI' 'HONDA'] all_car_27_08_2021_data_12_brands.csv\n",
      "['SKODA' 'AUDI' 'HONDA' 'VOLVO' 'BMW' 'NISSAN' 'INFINITI' 'MERCEDES'\n",
      " 'TOYOTA' 'LEXUS' 'VOLKSWAGEN' 'MITSUBISHI'] cars_df_big.csv\n",
      "['SKODA' 'AUDI' 'HONDA' 'VOLVO' 'BMW' 'NISSAN' 'INFINITI' 'MERCEDES'\n",
      " 'TOYOTA' 'LEXUS' 'VOLKSWAGEN' 'MITSUBISHI'] cars_df_small.csv\n",
      "['Audi' 'BMW' 'Chery' nan 'Citroen' 'Ford' 'ГАЗ' 'Geely' 'Haval' 'Honda'\n",
      " 'Hyundai' 'Infiniti' 'Kia' 'Land Rover' 'Lexus' 'Lifan' 'Mazda'\n",
      " 'Mercedes-Benz' 'Mitsubishi' 'Nissan' 'Opel' 'Peugeot' 'Porsche'\n",
      " 'Renault' 'Skoda' 'Subaru' 'Suzuki' 'Toyota' 'LADA (ВАЗ)' 'Volvo'] consolidated_df.csv\n",
      "['SKODA' 'AUDI' 'HONDA' 'VOLVO' 'BMW' 'NISSAN' 'INFINITI' 'MERCEDES'\n",
      " 'TOYOTA' 'LEXUS' 'VOLKSWAGEN' 'MITSUBISHI'] data1.csv\n",
      "['AUDI' 'TOYOTA' 'VOLKSWAGEN' 'NISSAN' 'MERCEDES' 'LEXUS' 'SKODA' 'HONDA'\n",
      " 'VOLVO' 'MITSUBISHI' 'BMW' 'INFINITI'] parsing_auto_ru.csv\n",
      "['AUDI' 'BMW' 'CADILLAC' 'CHANGAN' 'CHERY' 'CHEVROLET' 'CHRYSLER'\n",
      " 'CITROEN' 'DAEWOO' 'DAIHATSU' 'DATSUN' 'DODGE' 'FIAT' 'FORD' 'GEELY'\n",
      " 'HAVAL' 'HONDA' 'HYUNDAI' 'INFINITI' 'JAGUAR' 'JEEP' 'KIA' 'LEXUS'\n",
      " 'LIFAN' 'MINI' 'MAZDA' 'MITSUBISHI' 'NISSAN' 'OPEL' 'PEUGEOT' 'PORSCHE'\n",
      " 'RENAULT' 'SKODA' 'SUBARU' 'SUZUKI' 'TOYOTA' 'VOLKSWAGEN' 'VOLVO'\n",
      " 'VORTEX' 'GREAT_WALL' 'LAND_ROVER' 'MERCEDES' 'SSANG_YONG'] train.csv\n",
      "['SKODA' nan 'AUDI' 'HONDA' 'VOLVO' 'BMW' 'NISSAN' 'INFINITI' 'MERCEDES'\n",
      " 'TOYOTA' 'LEXUS' 'VOLKSWAGEN' 'MITSUBISHI'] train_df_full_part1.csv\n"
     ]
    }
   ],
   "source": [
    "for df_name,df in zip(all_dfs[1:].index,all_dfs[1:]):\n",
    "        print(df.brand.unique(),\n",
    "              df_name)"
   ]
  },
  {
   "cell_type": "markdown",
   "id": "37f9202a",
   "metadata": {},
   "source": [
    "# =============== models study ==============================="
   ]
  },
  {
   "cell_type": "code",
   "execution_count": 14,
   "id": "8338da6c",
   "metadata": {},
   "outputs": [],
   "source": [
    "brand = 'BMW'"
   ]
  },
  {
   "cell_type": "code",
   "execution_count": 15,
   "id": "b15738b8",
   "metadata": {},
   "outputs": [],
   "source": [
    "brand_models=pd.Series()   \n",
    "\n",
    "for df_name,df in zip(all_dfs[1:].index,all_dfs[1:]):\n",
    "    brand_models = brand_models.append(pd.Series([df[df.brand==brand].model_name.value_counts()],\n",
    "                                                 index=[df_name]))\n",
    "#     print(df[df.brand==brand].model_name.value_counts())"
   ]
  },
  {
   "cell_type": "code",
   "execution_count": 60,
   "id": "e023d5db",
   "metadata": {},
   "outputs": [
    {
     "data": {
      "text/plain": [
       "3642         02\n",
       "3643    1 серии\n",
       "3644    1 серии\n",
       "3645    1 серии\n",
       "3646    1 серии\n",
       "         ...   \n",
       "9752         Z4\n",
       "9753         Z4\n",
       "9754         Z4\n",
       "9755         Z4\n",
       "9756         Z4\n",
       "Name: model_name, Length: 6115, dtype: object"
      ]
     },
     "execution_count": 60,
     "metadata": {},
     "output_type": "execute_result"
    }
   ],
   "source": [
    "all_dfs[1][all_dfs[1].brand == 'BMW'].model_name.map(models_0)"
   ]
  },
  {
   "cell_type": "code",
   "execution_count": null,
   "id": "a055c550",
   "metadata": {},
   "outputs": [],
   "source": []
  },
  {
   "cell_type": "code",
   "execution_count": 17,
   "id": "816f9250",
   "metadata": {},
   "outputs": [
    {
     "data": {
      "text/plain": [
       "X5                     1968\n",
       "5 серии                1457\n",
       "1 серии                1433\n",
       "X1                     1294\n",
       "X4                     1228\n",
       "X6                     1143\n",
       "3 серии                1051\n",
       "X3                      779\n",
       "X5 M                    432\n",
       "X6 M                    412\n",
       "M5                      359\n",
       "6 серии                 358\n",
       "2 серии Gran Tourer     202\n",
       "7 серии                 138\n",
       "Z4                      113\n",
       "X2                        8\n",
       "2 серии                   2\n",
       "8 серии                   2\n",
       "Name: model_name, dtype: int64"
      ]
     },
     "execution_count": 17,
     "metadata": {},
     "output_type": "execute_result"
    }
   ],
   "source": [
    "brand_models.iloc[1]"
   ]
  },
  {
   "cell_type": "code",
   "execution_count": null,
   "id": "e5150919",
   "metadata": {},
   "outputs": [],
   "source": []
  },
  {
   "cell_type": "markdown",
   "id": "e4143426",
   "metadata": {},
   "source": [
    "### распределения цены по моделям"
   ]
  },
  {
   "cell_type": "markdown",
   "id": "444f0656",
   "metadata": {},
   "source": [
    "## 0"
   ]
  },
  {
   "cell_type": "code",
   "execution_count": 69,
   "id": "a5104c52",
   "metadata": {},
   "outputs": [],
   "source": [
    "models_0 = {'3ER': '3 серии','5ER': '5 серии','X5': 'X5','X6': 'X6','X3': 'X3','7ER': '7 серии',\n",
    " 'X1': 'X1','X7': 'X7','1ER': '1 серии','X4': 'X4','X6_M': 'X6 M','6ER': '6 серии',\n",
    " '2ER': '2 серии','X5_M': 'X5 M','4': '4 серии','8ER': '8 серии','M5': 'M5','X2': 'X2',\n",
    " 'I3': 'I3 ','Z4': 'Z4','M3': 'M3','M6': 'M6','M2': 'M2','M4': 'M4',\n",
    " '2GRANDTOURER': '2 серии Gran Tourer','I8': 'I8','M8': 'M8','321': '321',\n",
    " '2ACTIVETOURER': '2 серии Active Tourer','Z3M': 'Z3 M','X3_M': 'X3 M','326': '326',\n",
    " '02': '02','340': '340','E3': 'E3','Z1': 'Z1','Z3': 'Z3'}"
   ]
  },
  {
   "cell_type": "code",
   "execution_count": 50,
   "id": "25a481ed",
   "metadata": {},
   "outputs": [],
   "source": [
    "# brand_models.iloc[0]\n",
    "# [print(\"'\" + x + \"': ''\") for x in brand_models.iloc[0].index];\n",
    "# [print(x) for x in brand_models.iloc[1].index];"
   ]
  },
  {
   "cell_type": "code",
   "execution_count": 76,
   "id": "2f7eee5c",
   "metadata": {},
   "outputs": [],
   "source": [
    "# brand_models.iloc[0]"
   ]
  },
  {
   "cell_type": "markdown",
   "id": "a67265e0",
   "metadata": {},
   "source": [
    "## 1"
   ]
  },
  {
   "cell_type": "code",
   "execution_count": 19,
   "id": "30e84739",
   "metadata": {},
   "outputs": [
    {
     "data": {
      "text/plain": [
       "X5                     1968\n",
       "5 серии                1457\n",
       "1 серии                1433\n",
       "X1                     1294\n",
       "X4                     1228\n",
       "X6                     1143\n",
       "3 серии                1051\n",
       "X3                      779\n",
       "X5 M                    432\n",
       "X6 M                    412\n",
       "M5                      359\n",
       "6 серии                 358\n",
       "2 серии Gran Tourer     202\n",
       "7 серии                 138\n",
       "Z4                      113\n",
       "X2                        8\n",
       "2 серии                   2\n",
       "8 серии                   2\n",
       "Name: model_name, dtype: int64"
      ]
     },
     "execution_count": 19,
     "metadata": {},
     "output_type": "execute_result"
    }
   ],
   "source": [
    "brand_models.iloc[1]"
   ]
  },
  {
   "cell_type": "markdown",
   "id": "be1dc082",
   "metadata": {},
   "source": [
    "## 2"
   ]
  },
  {
   "cell_type": "code",
   "execution_count": 22,
   "id": "6ca4e10d",
   "metadata": {},
   "outputs": [
    {
     "data": {
      "text/plain": [
       "BMW X5 30d III (F15)                                               74\n",
       "BMW X6 30d II (F16)                                                71\n",
       "BMW 5 серии 520d xDrive VII (G30/G31)                              58\n",
       "BMW X6 35i I (E71)                                                 50\n",
       "BMW 5 серии 530d xDrive VII (G30/G31)                              47\n",
       "                                                                   ..\n",
       "BMW 7 серии 728i I (E23)                                            1\n",
       "BMW 3 серии 335i xDrive V (E90/E91/E92/E93) Рестайлинг              1\n",
       "BMW 6 серии Gran Turismo 630i IV (G32) Рестайлинг                   1\n",
       "BMW 6 серии Gran Coupe 640i xDrive III (F06/F13/F12) Рестайлинг     1\n",
       "BMW 6 серии Gran Coupe 640i III (F06/F13/F12)                       1\n",
       "Name: model_name, Length: 481, dtype: int64"
      ]
     },
     "execution_count": 22,
     "metadata": {},
     "output_type": "execute_result"
    }
   ],
   "source": [
    "brand_models.iloc[2]"
   ]
  },
  {
   "cell_type": "code",
   "execution_count": 23,
   "id": "71038121",
   "metadata": {},
   "outputs": [
    {
     "data": {
      "text/plain": [
       "Index(['X5', 'X6', '5', 'X6', '5', 'X5', '5', '5', 'X5', '3',\n",
       "       ...\n",
       "       '5', '5', 'X6', '3', '4', '7', '3', '6', '6', '6'],\n",
       "      dtype='object', length=481)"
      ]
     },
     "execution_count": 23,
     "metadata": {},
     "output_type": "execute_result"
    }
   ],
   "source": [
    "brand_models.iloc[2].index.map(lambda x: x.split(' ')[1])"
   ]
  },
  {
   "cell_type": "code",
   "execution_count": 24,
   "id": "e656597b",
   "metadata": {},
   "outputs": [
    {
     "data": {
      "text/plain": [
       "array(['X5', 'X6', '5', '3', 'X3', 'X7', '1', 'X4', 'X1', '7', '6', '8',\n",
       "       'M5', '4', 'X2', '2', 'i3', 'M3', 'M4', 'Z4', 'M2', '321', 'M6',\n",
       "       '340', '502', 'Z1', 'M8', 'Z3', '600', '2000'], dtype=object)"
      ]
     },
     "execution_count": 24,
     "metadata": {},
     "output_type": "execute_result"
    }
   ],
   "source": [
    "# pd.Series(brand_models.iloc[2].index.map(lambda x: x.split(' ')[1])).unique()\n",
    "\n",
    "# tmp = ['X5', 'X6', '5', '3', 'X3', 'X7', '1', 'X4', 'X1', '7', '6', '8',\n",
    "#        'M5', '4', 'X2', '2', 'i3', 'M3', 'M4', 'Z4', 'M2', '321', 'M6',\n",
    "#        '340', '502', 'Z1', 'M8', 'Z3', '600', '2000']\n",
    "# [print(\"'\" + x + \"': '\" + x + \"'\") for x in tmp];"
   ]
  },
  {
   "cell_type": "code",
   "execution_count": 77,
   "id": "e7b60ccf",
   "metadata": {},
   "outputs": [],
   "source": [
    "models_2 = {'X5': 'X5','X6': 'X6','5': '5 серии','3': '3 серии','X3': 'X3','X7': 'X7','1': '1 серии',\n",
    " 'X4': 'X4','X1': 'X1','7': '7 серии','6': '6 серии','8': '8 серии','M5': 'M5','4': '4 серии',\n",
    " 'X2': 'X2','2': '2 серии','i3': 'I3','M3': 'M3','M4': 'M4','Z4': 'Z4','M2': 'M2','321': '321',\n",
    " 'M6': 'M6','340': '340','502': '502','Z1': 'Z1','M8': 'M8','Z3': 'Z3','600': '600','2000': '2000'}"
   ]
  },
  {
   "cell_type": "markdown",
   "id": "a672596b",
   "metadata": {},
   "source": [
    "## 3"
   ]
  },
  {
   "cell_type": "code",
   "execution_count": 25,
   "id": "1d805da9",
   "metadata": {},
   "outputs": [
    {
     "data": {
      "text/plain": [
       "BMW X5 30d III (F15)                                               74\n",
       "BMW X6 30d II (F16)                                                71\n",
       "BMW 5 серии 520d xDrive VII (G30/G31)                              58\n",
       "BMW X6 35i I (E71)                                                 50\n",
       "BMW 5 серии 530d xDrive VII (G30/G31)                              47\n",
       "                                                                   ..\n",
       "BMW 7 серии 728i I (E23)                                            1\n",
       "BMW 3 серии 335i xDrive V (E90/E91/E92/E93) Рестайлинг              1\n",
       "BMW 6 серии Gran Turismo 630i IV (G32) Рестайлинг                   1\n",
       "BMW 6 серии Gran Coupe 640i xDrive III (F06/F13/F12) Рестайлинг     1\n",
       "BMW 6 серии Gran Coupe 640i III (F06/F13/F12)                       1\n",
       "Name: model_name, Length: 481, dtype: int64"
      ]
     },
     "execution_count": 25,
     "metadata": {},
     "output_type": "execute_result"
    }
   ],
   "source": [
    "brand_models.iloc[3]"
   ]
  },
  {
   "cell_type": "code",
   "execution_count": null,
   "id": "cdb26328",
   "metadata": {},
   "outputs": [],
   "source": []
  },
  {
   "cell_type": "code",
   "execution_count": null,
   "id": "25483235",
   "metadata": {},
   "outputs": [],
   "source": []
  },
  {
   "cell_type": "markdown",
   "id": "8045bb67",
   "metadata": {},
   "source": [
    "## 4 "
   ]
  },
  {
   "cell_type": "code",
   "execution_count": 26,
   "id": "bf5c2ae8",
   "metadata": {},
   "outputs": [
    {
     "data": {
      "text/plain": [
       "5 серии                  2548\n",
       "3 серии                  2490\n",
       "X5                       2200\n",
       "7 серии                  1204\n",
       "X3                       1189\n",
       "X6                       1099\n",
       "X1                        694\n",
       "1 серии                   496\n",
       "X4                        413\n",
       "6 серии                   312\n",
       "4 серии                   218\n",
       "X5 M                      184\n",
       "X6 M                      143\n",
       "X2                        139\n",
       "8 серии                   138\n",
       "M5                        136\n",
       "2 серии                   124\n",
       "2 серии Gran Tourer       115\n",
       "X7                        102\n",
       "M4                        100\n",
       "i8                        100\n",
       "Z3                         95\n",
       "i3                         51\n",
       "Z4                         22\n",
       "M6                         19\n",
       "M3                         17\n",
       "2 серии Active Tourer      11\n",
       "M2                          9\n",
       "X3 M                        1\n",
       "X4 M                        1\n",
       "Name: model_name, dtype: int64"
      ]
     },
     "execution_count": 26,
     "metadata": {},
     "output_type": "execute_result"
    }
   ],
   "source": [
    "brand_models.iloc[4]"
   ]
  },
  {
   "cell_type": "markdown",
   "id": "4e11f3be",
   "metadata": {},
   "source": [
    "## 5 "
   ]
  },
  {
   "cell_type": "code",
   "execution_count": 27,
   "id": "4c409a41",
   "metadata": {},
   "outputs": [
    {
     "data": {
      "text/plain": [
       "X5                       1213\n",
       "5ER                      1026\n",
       "3ER                       752\n",
       "3 СЕРИИ                   720\n",
       "5 СЕРИИ                   631\n",
       "X6                        592\n",
       "X3                        568\n",
       "X1                        396\n",
       "7ER                       343\n",
       "7 СЕРИИ                   255\n",
       "X4                        228\n",
       "1ER                       218\n",
       "1 СЕРИИ                   135\n",
       "6ER                       122\n",
       "X7                        121\n",
       "6 СЕРИИ                    93\n",
       "X6 M                       85\n",
       "X6_M                       78\n",
       "M5                         72\n",
       "4                          66\n",
       "2 СЕРИИ                    64\n",
       "4 СЕРИИ                    54\n",
       "X5 M                       51\n",
       "X5_M                       50\n",
       "X2                         34\n",
       "8 СЕРИИ                    32\n",
       "I3                         32\n",
       "Z4                         32\n",
       "M3                         27\n",
       "8ER                        22\n",
       "M6                         17\n",
       "2ER                        11\n",
       "M4                          8\n",
       "Z3                          6\n",
       "M2                          5\n",
       "321                         5\n",
       "2ACTIVETOURER               4\n",
       "2GRANDTOURER                3\n",
       "E3                          3\n",
       "2 СЕРИИ GRAND TOURER        3\n",
       "340                         3\n",
       "I8                          3\n",
       "M8                          3\n",
       "X3_M                        3\n",
       "X4_M                        2\n",
       "326                         2\n",
       "Z1                          2\n",
       "2 СЕРИИ ACTIVE TOURER       2\n",
       "Z3M                         1\n",
       "02                          1\n",
       "02 (E10)                    1\n",
       "X3 M                        1\n",
       "M1                          1\n",
       "Z3 M                        1\n",
       "Name: model_name, dtype: int64"
      ]
     },
     "execution_count": 27,
     "metadata": {},
     "output_type": "execute_result"
    }
   ],
   "source": [
    "brand_models.iloc[5]"
   ]
  },
  {
   "cell_type": "markdown",
   "id": "0c9c7e4e",
   "metadata": {},
   "source": [
    "## 6 "
   ]
  },
  {
   "cell_type": "code",
   "execution_count": 28,
   "id": "651bb7cd",
   "metadata": {},
   "outputs": [
    {
     "data": {
      "text/plain": [
       "5ER              3051\n",
       "3ER              2248\n",
       "X5               1926\n",
       "X6               1058\n",
       "X3                995\n",
       "7ER               903\n",
       "X1                535\n",
       "1ER               467\n",
       "6ER               297\n",
       "X4                290\n",
       "4                 160\n",
       "X6_M              150\n",
       "X7                124\n",
       "I3                107\n",
       "X5_M              105\n",
       "M5                 70\n",
       "8ER                43\n",
       "2ER                42\n",
       "X2                 41\n",
       "Z4                 39\n",
       "M4                 29\n",
       "M3                 27\n",
       "2GRANDTOURER       26\n",
       "M6                 25\n",
       "M2                 23\n",
       "340                14\n",
       "321                12\n",
       "Z3                  9\n",
       "2ACTIVETOURER       7\n",
       "M8                  5\n",
       "X4_M                5\n",
       "Z3M                 3\n",
       "I8                  3\n",
       "326                 2\n",
       "Z1                  2\n",
       "2000_C_CS           1\n",
       "502                 1\n",
       "600                 1\n",
       "X3_M                1\n",
       "Name: model_name, dtype: int64"
      ]
     },
     "execution_count": 28,
     "metadata": {},
     "output_type": "execute_result"
    }
   ],
   "source": [
    "brand_models.iloc[6]"
   ]
  },
  {
   "cell_type": "markdown",
   "id": "3d231804",
   "metadata": {},
   "source": [
    "## 7"
   ]
  },
  {
   "cell_type": "code",
   "execution_count": 29,
   "id": "8d3a6571",
   "metadata": {},
   "outputs": [
    {
     "data": {
      "text/plain": [
       "5ER              981\n",
       "3ER              955\n",
       "X5               798\n",
       "X3               665\n",
       "X6               618\n",
       "X1               408\n",
       "7ER              298\n",
       "X4               206\n",
       "1ER              185\n",
       "X7               184\n",
       "6ER              103\n",
       "X2                98\n",
       "2ER               79\n",
       "4                 65\n",
       "X5_M              62\n",
       "X6_M              59\n",
       "8ER               52\n",
       "M5                36\n",
       "I3                25\n",
       "M2                12\n",
       "I8                10\n",
       "M3                10\n",
       "2GRANDTOURER      10\n",
       "Z4                 8\n",
       "M4                 8\n",
       "M6                 7\n",
       "2ACTIVETOURER      6\n",
       "X3_M               4\n",
       "M8                 3\n",
       "2000_C_CS          2\n",
       "02                 2\n",
       "Name: model_name, dtype: int64"
      ]
     },
     "execution_count": 29,
     "metadata": {},
     "output_type": "execute_result"
    }
   ],
   "source": [
    "brand_models.iloc[7]"
   ]
  },
  {
   "cell_type": "markdown",
   "id": "afce335a",
   "metadata": {},
   "source": [
    "## 8"
   ]
  },
  {
   "cell_type": "code",
   "execution_count": 30,
   "id": "dc1c4fdd",
   "metadata": {},
   "outputs": [
    {
     "data": {
      "text/plain": [
       "5 серии                  2337\n",
       "X3                       1343\n",
       "3 серии                  1339\n",
       "X1                       1074\n",
       "X5                        861\n",
       "7 серии                   795\n",
       "X6                        731\n",
       "6 серии                   674\n",
       "X4                        418\n",
       "X7                        358\n",
       "i3                        325\n",
       "8 серии                   325\n",
       "2 серии                   319\n",
       "M2                        306\n",
       "M5                        286\n",
       "X5 M                      127\n",
       "1 серии                    95\n",
       "4 серии                    66\n",
       "X6 M                       52\n",
       "X2                         25\n",
       "M4                         11\n",
       "M6                          7\n",
       "2 серии Gran Tourer         7\n",
       "Z4                          7\n",
       "M3                          6\n",
       "2 серии Active Tourer       4\n",
       "M8                          2\n",
       "Z3                          1\n",
       "i8                          1\n",
       "X4 M                        1\n",
       "Name: model_name, dtype: int64"
      ]
     },
     "execution_count": 30,
     "metadata": {},
     "output_type": "execute_result"
    }
   ],
   "source": [
    "brand_models.iloc[8]"
   ]
  },
  {
   "cell_type": "code",
   "execution_count": null,
   "id": "1f5a0c4e",
   "metadata": {},
   "outputs": [],
   "source": []
  },
  {
   "cell_type": "code",
   "execution_count": null,
   "id": "dd498d23",
   "metadata": {},
   "outputs": [],
   "source": []
  },
  {
   "cell_type": "code",
   "execution_count": null,
   "id": "5fcc5b63",
   "metadata": {},
   "outputs": [],
   "source": []
  },
  {
   "cell_type": "code",
   "execution_count": null,
   "id": "ddb63e8f",
   "metadata": {},
   "outputs": [],
   "source": []
  },
  {
   "cell_type": "code",
   "execution_count": null,
   "id": "67a82990",
   "metadata": {},
   "outputs": [],
   "source": []
  },
  {
   "cell_type": "code",
   "execution_count": 45,
   "id": "d4d10e9e",
   "metadata": {},
   "outputs": [
    {
     "name": "stdout",
     "output_type": "stream",
     "text": [
      "BMW X5 30d III (F15)                                     74\n",
      "BMW X6 30d II (F16)                                      71\n",
      "BMW 5 серии 520d xDrive VII (G30/G31)                    58\n",
      "BMW X6 35i I (E71)                                       50\n",
      "BMW 5 серии 530d xDrive VII (G30/G31)                    47\n",
      "                                                         ..\n",
      "BMW 5 серии 535i IV (E39) Рестайлинг                      1\n",
      "BMW 4 серии 420i G22, G23                                 1\n",
      "BMW X1 25i I (E84)                                        1\n",
      "BMW M8 Gran Coupe Competition I (F91/F92/F93)             1\n",
      "BMW 7 серии Long 750Li xDrive VI (G11/G12) Рестайлинг     1\n",
      "Name: model_name, Length: 481, dtype: int64\n"
     ]
    }
   ],
   "source": [
    "for df_name,df in zip(all_dfs[3:4].index,all_dfs[3:4]):\n",
    "        print(\n",
    "            df[df.brand==brand].model_name.value_counts()\n",
    "              )"
   ]
  },
  {
   "cell_type": "code",
   "execution_count": null,
   "id": "2ae81e4c",
   "metadata": {},
   "outputs": [],
   "source": []
  },
  {
   "cell_type": "markdown",
   "id": "1a8f6414",
   "metadata": {},
   "source": [
    "# =============== test study =================================="
   ]
  },
  {
   "cell_type": "code",
   "execution_count": 4,
   "id": "e5263c28",
   "metadata": {},
   "outputs": [],
   "source": [
    " test = pd.read_csv('./Project_7_data/test.csv')"
   ]
  },
  {
   "cell_type": "code",
   "execution_count": 6,
   "id": "61218f4b",
   "metadata": {},
   "outputs": [
    {
     "data": {
      "text/plain": [
       "Index(['bodyType', 'brand', 'car_url', 'color', 'complectation_dict',\n",
       "       'description', 'engineDisplacement', 'enginePower', 'equipment_dict',\n",
       "       'fuelType', 'image', 'mileage', 'modelDate', 'model_info', 'model_name',\n",
       "       'name', 'numberOfDoors', 'parsing_unixtime', 'priceCurrency',\n",
       "       'productionDate', 'sell_id', 'super_gen', 'vehicleConfiguration',\n",
       "       'vehicleTransmission', 'vendor', 'Владельцы', 'Владение', 'ПТС',\n",
       "       'Привод', 'Руль', 'Состояние', 'Таможня'],\n",
       "      dtype='object')"
      ]
     },
     "execution_count": 6,
     "metadata": {},
     "output_type": "execute_result"
    }
   ],
   "source": [
    "test.columns"
   ]
  },
  {
   "cell_type": "code",
   "execution_count": 15,
   "id": "5c54d897",
   "metadata": {},
   "outputs": [
    {
     "data": {
      "text/plain": [
       "complectation_dict    28268\n",
       "equipment_dict         9996\n",
       "Владение              22691\n",
       "ПТС                       1\n",
       "dtype: int64"
      ]
     },
     "execution_count": 15,
     "metadata": {},
     "output_type": "execute_result"
    }
   ],
   "source": [
    "nun_count = test.isna().sum()\n",
    "nun_count[nun_count>0]"
   ]
  },
  {
   "cell_type": "code",
   "execution_count": null,
   "id": "8ef0809e",
   "metadata": {},
   "outputs": [],
   "source": []
  },
  {
   "cell_type": "code",
   "execution_count": null,
   "id": "51616b44",
   "metadata": {},
   "outputs": [],
   "source": []
  },
  {
   "cell_type": "markdown",
   "id": "eb8b4934",
   "metadata": {},
   "source": [
    "# ====================== ПОДВАЛ ============================="
   ]
  },
  {
   "cell_type": "markdown",
   "id": "8c69f331",
   "metadata": {},
   "source": [
    "Если печать идёт как в ДОСе (текст отсылается в устройство PRN), то перевод строки обеспечивается управляющим символом с ASCII-кодом 12 ♀.\n",
    "При печати через PCL/PS - напечатается изображение символа. Так что, всё зависит от того, как работает с текстом проприетарное ПО...\n",
    "Если идёт печать через PCL/PS, то \"спрятать\" в тексте команду перевода страницы не получится, эту команду должно подавать само ПО."
   ]
  },
  {
   "cell_type": "code",
   "execution_count": null,
   "id": "56cf0462",
   "metadata": {},
   "outputs": [],
   "source": []
  }
 ],
 "metadata": {
  "kernelspec": {
   "display_name": "Python 3",
   "language": "python",
   "name": "python3"
  },
  "language_info": {
   "codemirror_mode": {
    "name": "ipython",
    "version": 3
   },
   "file_extension": ".py",
   "mimetype": "text/x-python",
   "name": "python",
   "nbconvert_exporter": "python",
   "pygments_lexer": "ipython3",
   "version": "3.8.8"
  }
 },
 "nbformat": 4,
 "nbformat_minor": 5
}
