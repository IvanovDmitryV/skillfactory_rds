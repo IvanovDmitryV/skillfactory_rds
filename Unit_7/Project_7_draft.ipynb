{
 "cells": [
  {
   "cell_type": "code",
   "execution_count": 16,
   "id": "4f4017c8",
   "metadata": {},
   "outputs": [],
   "source": [
    "import pandas as pd\n",
    "import os\n",
    "import warnings\n",
    "import numpy as np\n",
    "import re\n",
    "\n",
    "from functools import reduce\n",
    "\n",
    "warnings.filterwarnings(\"ignore\")"
   ]
  },
  {
   "cell_type": "markdown",
   "id": "1c778e82",
   "metadata": {},
   "source": [
    "# ============================================================="
   ]
  },
  {
   "cell_type": "code",
   "execution_count": 3,
   "id": "6e1c69db",
   "metadata": {},
   "outputs": [],
   "source": [
    "# обьединение данных по каждом бренду в один DataFrame\n",
    "# by_brend_dir = os.listdir('C:/Users/Manych/projects/persnl/Project_7_data_extra/by_brend')\n",
    "\n",
    "# to_concat = []\n",
    "# for brand in by_brend_dir:\n",
    "#     try: \n",
    "#         brand_df = pd.read_csv(\n",
    "#             'C:/Users/Manych/projects/persnl/Project_7_data_extra/by_brend/' + brand,sep=',',low_memory=False)\n",
    "#     except:\n",
    "#         brand_df = pd.read_csv(\n",
    "#             'C:/Users/Manych/projects/persnl/Project_7_data_extra/by_brend/' + brand,sep=';',low_memory=False)\n",
    "#     to_concat.append(brand_df)\n",
    "\n",
    "# consolidated_df = pd.concat(to_concat)\n",
    "\n",
    "# consolidated_df.to_csv('C:/Users/Manych/projects/persnl/Project_7_data_extra/consolidated_df.csv')"
   ]
  },
  {
   "cell_type": "code",
   "execution_count": 17,
   "id": "c79306fc",
   "metadata": {},
   "outputs": [],
   "source": [
    "# all_dfs_names = [x for x in os.listdir('C:/Users/Manych/projects/persnl/Project_7_data_extra') if '.csv' in x]\n",
    "all_dfs_names = [x for x in os.listdir('./Preproject_7_data') if '.csv' in x]"
   ]
  },
  {
   "cell_type": "code",
   "execution_count": 20,
   "id": "6a234cdb",
   "metadata": {},
   "outputs": [
    {
     "name": "stdout",
     "output_type": "stream",
     "text": [
      "all_auto_ru_09_09_2020.csv all_auto_ru_14_11_2020.csv all_car_27_08_2021_data_12_brands.csv cars_df_big.csv cars_df_small.csv consolidated_df.csv data1.csv parsing_auto_ru.csv train.csv train_df_full_part1.csv "
     ]
    }
   ],
   "source": [
    "# '''\n",
    "dfs_columns = pd.Series()\n",
    "dfs_counts = pd.Series()\n",
    "all_dfs =  pd.Series()\n",
    "\n",
    "for df_name in  all_dfs_names:\n",
    "    print(df_name,end=' ')\n",
    "    try:\n",
    "#         df = pd.read_csv('C:/Users/Manych/projects/persnl/Project_7_data_extra/' + df_name,low_memory=False)\n",
    "        df = pd.read_csv('./Preproject_7_data/' + df_name,low_memory=False)\n",
    "\n",
    "    except:\n",
    "#         df = pd.read_csv('C:/Users/Manych/projects/persnl/Project_7_data_extra/' + df_name,sep='\\t',low_memory=False)\n",
    "        df = pd.read_csv('./Preproject_7_data/' + df_name,sep='\\t',low_memory=False)\n",
    "    \n",
    "    dfs_columns = dfs_columns.append(pd.Series([list(df.columns)],index=[df_name]))\n",
    "    dfs_counts = dfs_counts.append(pd.Series([len(df)],index=[df_name]))\n",
    "    all_dfs = all_dfs.append(pd.Series([df],index=[df_name]));\n",
    "#     print(df.columnsumns)\n",
    "# '''"
   ]
  },
  {
   "cell_type": "code",
   "execution_count": 21,
   "id": "2cbd9f00",
   "metadata": {},
   "outputs": [
    {
     "name": "stdout",
     "output_type": "stream",
     "text": [
      "['hidden', 'model', 'modelDate', 'numberOfDoors', 'start_date', 'vehicleConfiguration', 'Владение', 'Комплектация', 'Состояние', 'Таможня']\n",
      "['complectation_dict', 'equipment_dict', 'image', 'modelDate', 'model_info', 'model_name', 'numberOfDoors', 'priceCurrency', 'price_EUR', 'price_USD', 'sell_id', 'start_date', 'super_gen', 'vehicleConfiguration', 'vendor', 'Владение', 'Состояние', 'Таможня']\n",
      "['Unnamed: 0', 'car_url', 'complectation_dict', 'date_added', 'equipment_dict', 'image', 'modelDate', 'model_name', 'numberOfDoors', 'parsing_unixtime', 'priceCurrency', 'region', 'sell_id', 'super_gen', 'vehicleConfiguration', 'views', 'Владение', 'Состояние', 'Таможня']\n",
      "['car_url', 'equipmentGroups', 'image', 'modelDate', 'model_name', 'numberOfDoors', 'parsing_unixtime', 'priceCurrency', 'sell_id', 'vehicleConfiguration', 'Состояние', 'Таможня']\n",
      "['car_url', 'equipmentGroups', 'image', 'modelDate', 'model_name', 'numberOfDoors', 'parsing_unixtime', 'priceCurrency', 'sell_id', 'vehicleConfiguration', 'Состояние', 'Таможня']\n",
      "['Unnamed: 0', 'car_url', 'card', 'card_type', 'confDict', 'datetime', 'dealerName', 'engine', 'equipment_dict', 'image', 'model_name', 'model_name2', 'model_name_full', 'nview', 'parsing_unixtime', 'public_date', 'region', 'sell_id', 'sellerName', 'Состояние', 'Таможня']\n",
      "['car_url', 'complectation_dict', 'equipment_dict', 'image', 'is_train', 'modelDate', 'model_info', 'model_name', 'numberOfDoors', 'parsing_unixtime', 'priceCurrency', 'sell_id', 'super_gen', 'vehicleConfiguration', 'vendor', 'Владение', 'Состояние', 'Таможня']\n",
      "['car_url', 'complectation_dict', 'equipment_dict', 'image', 'modelDate', 'model_info', 'model_name', 'numberOfDoors', 'parsing_unixtime', 'priceCurrency', 'sell_id', 'super_gen', 'vehicleConfiguration', 'vendor', 'Владение', 'Состояние', 'Таможня']\n",
      "['complectation_dict', 'equipment_dict', 'id', 'modelDate', 'model_info', 'model_name', 'numberOfDoors', 'priceCurrency', 'sell_id', 'super_gen', 'vehicleConfiguration', 'vendor']\n",
      "['car_url', 'complectation_dict', 'date_added', 'equipment_dict', 'image', 'modelDate', 'model_info', 'model_name', 'numberOfDoors', 'parsing_unixtime', 'priceCurrency', 'region', 'sell_id', 'super_gen', 'vehicleConfiguration', 'vendor', 'views', 'Владение', 'Состояние', 'Таможня']\n"
     ]
    }
   ],
   "source": [
    "# '''\n",
    "common_columns = reduce(lambda x,y: set(x)&set(y), dfs_columns)\n",
    "not_common_columns = dfs_columns.apply(lambda x: set(x) - common_columns )\n",
    "[print (sorted(x)) for x in not_common_columns];\n",
    "# common_columns\n",
    "# not_common_columns\n",
    "# '''"
   ]
  },
  {
   "cell_type": "code",
   "execution_count": 26,
   "id": "7ecc329e",
   "metadata": {},
   "outputs": [],
   "source": [
    "total_dfs_columns = pd.Series(dfs_columns.sum()).value_counts()"
   ]
  },
  {
   "cell_type": "code",
   "execution_count": 28,
   "id": "7fe4101a",
   "metadata": {},
   "outputs": [
    {
     "data": {
      "text/plain": [
       "fuelType                10\n",
       "Руль                    10\n",
       "color                   10\n",
       "vehicleTransmission     10\n",
       "description             10\n",
       "price                   10\n",
       "bodyType                10\n",
       "Привод                  10\n",
       "name                    10\n",
       "engineDisplacement      10\n",
       "ПТС                     10\n",
       "enginePower             10\n",
       "Владельцы               10\n",
       "productionDate          10\n",
       "brand                   10\n",
       "mileage                 10\n",
       "Таможня                  9\n",
       "modelDate                9\n",
       "numberOfDoors            9\n",
       "vehicleConfiguration     9\n",
       "dtype: int64"
      ]
     },
     "execution_count": 28,
     "metadata": {},
     "output_type": "execute_result"
    }
   ],
   "source": [
    "total_dfs_columns[:20]"
   ]
  },
  {
   "cell_type": "code",
   "execution_count": 24,
   "id": "7b2b44fa",
   "metadata": {},
   "outputs": [],
   "source": [
    "weighted_columns = dfs_counts*dfs_columns\n",
    "total_weighted_columns = pd.Series(weighted_columns.sum()).value_counts()"
   ]
  },
  {
   "cell_type": "code",
   "execution_count": 29,
   "id": "7abb3cdb",
   "metadata": {},
   "outputs": [
    {
     "data": {
      "text/plain": [
       "bodyType               1139446\n",
       "Руль                   1139446\n",
       "brand                  1139446\n",
       "enginePower            1139446\n",
       "ПТС                    1139446\n",
       "description            1139446\n",
       "productionDate         1139446\n",
       "Владельцы              1139446\n",
       "vehicleTransmission    1139446\n",
       "mileage                1139446\n",
       "price                  1139446\n",
       "name                   1139446\n",
       "engineDisplacement     1139446\n",
       "color                  1139446\n",
       "fuelType               1139446\n",
       "Привод                 1139446\n",
       "sell_id                1050068\n",
       "model_name             1050068\n",
       "equipment_dict          981588\n",
       "Таможня                 972048\n",
       "dtype: int64"
      ]
     },
     "execution_count": 29,
     "metadata": {},
     "output_type": "execute_result"
    }
   ],
   "source": [
    "total_weighted_columns[:20]"
   ]
  },
  {
   "cell_type": "code",
   "execution_count": 10,
   "id": "cd01112c",
   "metadata": {},
   "outputs": [],
   "source": [
    "# [print (sorted(x)) for x in not_common_columns]"
   ]
  },
  {
   "cell_type": "markdown",
   "id": "a24d3fb1",
   "metadata": {},
   "source": [
    "# ===================all_dfs_getting==============================="
   ]
  },
  {
   "cell_type": "code",
   "execution_count": 11,
   "id": "8532572e",
   "metadata": {},
   "outputs": [
    {
     "name": "stdout",
     "output_type": "stream",
     "text": [
      "all_auto_ru_09_09_2020.csv all_auto_ru_14_11_2020.csv all_car_27_08_2021_data_12_brands.csv cars_df_big.csv cars_df_small.csv consolidated_df.csv data1.csv parsing_auto_ru.csv train.csv train_df_full_part1.csv "
     ]
    }
   ],
   "source": [
    "all_dfs =  pd.Series()\n",
    "\n",
    "for df_name in  all_dfs_names:\n",
    "    print(df_name,end=' ')\n",
    "    try:\n",
    "        df = pd.read_csv('./Preproject_7_data/' + df_name,low_memory=False)\n",
    "    except:\n",
    "        df = pd.read_csv('./Preproject_7_data/' + df_name,sep='\\t',low_memory=False)\n",
    "        \n",
    "    all_dfs = all_dfs.append(pd.Series([df],index=[df_name]))"
   ]
  },
  {
   "cell_type": "code",
   "execution_count": 102,
   "id": "4062e3dd",
   "metadata": {},
   "outputs": [
    {
     "name": "stdout",
     "output_type": "stream",
     "text": [
      "3526259.7003383883 all_auto_ru_09_09_2020.csv\n",
      "4879901.107416625 all_auto_ru_14_11_2020.csv\n",
      "6093548.989583893 all_car_27_08_2021_data_12_brands.csv\n",
      "3435923.9598136283 cars_df_big.csv\n",
      "3435923.9598136283 cars_df_small.csv\n",
      "nan consolidated_df.csv\n",
      "2385619.3733265977 data1.csv\n",
      "2306780.622999633 parsing_auto_ru.csv\n",
      "4509805.734230299 train.csv\n",
      "5869825.628195463 train_df_full_part1.csv\n"
     ]
    }
   ],
   "source": [
    "for df_name,df in zip(all_dfs.index,all_dfs):\n",
    "    try:\n",
    "        print(df[df.brand=='MERCEDES'].price.mean(),\n",
    "              df_name)\n",
    "    except: \n",
    "        print(df[df.brand=='MERCEDES'].price.apply(lambda x: int(''.join(re.findall(\"\\d+\", x))) if type(x)==str else np.NaN).mean(),\n",
    "              df_name)\n",
    "              "
   ]
  },
  {
   "cell_type": "code",
   "execution_count": 101,
   "id": "aec510a1",
   "metadata": {
    "scrolled": false
   },
   "outputs": [
    {
     "name": "stdout",
     "output_type": "stream",
     "text": [
      "['AUDI' 'BMW' 'CADILLAC' 'CHERY' 'CHEVROLET' 'CHRYSLER' 'CITROEN' 'DAEWOO'\n",
      " 'DODGE' 'FORD' 'GEELY' 'HONDA' 'HYUNDAI' 'INFINITI' 'JAGUAR' 'JEEP' 'KIA'\n",
      " 'LEXUS' 'MAZDA' 'MINI' 'MITSUBISHI' 'NISSAN' 'OPEL' 'PEUGEOT' 'PORSCHE'\n",
      " 'RENAULT' 'SKODA' 'SUBARU' 'SUZUKI' 'TOYOTA' 'VOLKSWAGEN' 'VOLVO'\n",
      " 'GREAT_WALL' 'LAND_ROVER' 'MERCEDES' 'SSANG_YONG'] all_auto_ru_09_09_2020.csv\n",
      "['AUDI' 'BMW' 'CADILLAC' 'CHERY' 'CHEVROLET' 'CHRYSLER' 'CITROEN' 'DAEWOO'\n",
      " 'DODGE' 'FORD' 'GEELY' 'HONDA' 'HYUNDAI' 'INFINITI' 'JAGUAR' 'JEEP' 'KIA'\n",
      " 'LEXUS' 'MAZDA' 'MINI' 'MITSUBISHI' 'NISSAN' 'OPEL' 'PEUGEOT' 'PORSCHE'\n",
      " 'RENAULT' 'SKODA' 'SUBARU' 'SUZUKI' 'TOYOTA' 'VOLKSWAGEN' 'VOLVO'\n",
      " 'GREAT_WALL' 'LAND_ROVER' 'MERCEDES' 'SSANG_YONG'] all_auto_ru_14_11_2020.csv\n",
      "['SKODA' 'AUDI' 'VOLVO' 'BMW' 'NISSAN' 'INFINITI' 'MERCEDES' 'TOYOTA'\n",
      " 'LEXUS' 'VOLKSWAGEN' 'MITSUBISHI' 'HONDA'] all_car_27_08_2021_data_12_brands.csv\n",
      "['SKODA' 'AUDI' 'HONDA' 'VOLVO' 'BMW' 'NISSAN' 'INFINITI' 'MERCEDES'\n",
      " 'TOYOTA' 'LEXUS' 'VOLKSWAGEN' 'MITSUBISHI'] cars_df_big.csv\n",
      "['SKODA' 'AUDI' 'HONDA' 'VOLVO' 'BMW' 'NISSAN' 'INFINITI' 'MERCEDES'\n",
      " 'TOYOTA' 'LEXUS' 'VOLKSWAGEN' 'MITSUBISHI'] cars_df_small.csv\n",
      "['Audi' 'BMW' 'Chery' nan 'Citroen' 'Ford' 'ГАЗ' 'Geely' 'Haval' 'Honda'\n",
      " 'Hyundai' 'Infiniti' 'Kia' 'Land Rover' 'Lexus' 'Lifan' 'Mazda'\n",
      " 'Mercedes-Benz' 'Mitsubishi' 'Nissan' 'Opel' 'Peugeot' 'Porsche'\n",
      " 'Renault' 'Skoda' 'Subaru' 'Suzuki' 'Toyota' 'LADA (ВАЗ)' 'Volvo'] consolidated_df.csv\n",
      "['SKODA' 'AUDI' 'HONDA' 'VOLVO' 'BMW' 'NISSAN' 'INFINITI' 'MERCEDES'\n",
      " 'TOYOTA' 'LEXUS' 'VOLKSWAGEN' 'MITSUBISHI'] data1.csv\n",
      "['AUDI' 'TOYOTA' 'VOLKSWAGEN' 'NISSAN' 'MERCEDES' 'LEXUS' 'SKODA' 'HONDA'\n",
      " 'VOLVO' 'MITSUBISHI' 'BMW' 'INFINITI'] parsing_auto_ru.csv\n",
      "['AUDI' 'BMW' 'CADILLAC' 'CHANGAN' 'CHERY' 'CHEVROLET' 'CHRYSLER'\n",
      " 'CITROEN' 'DAEWOO' 'DAIHATSU' 'DATSUN' 'DODGE' 'FIAT' 'FORD' 'GEELY'\n",
      " 'HAVAL' 'HONDA' 'HYUNDAI' 'INFINITI' 'JAGUAR' 'JEEP' 'KIA' 'LEXUS'\n",
      " 'LIFAN' 'MINI' 'MAZDA' 'MITSUBISHI' 'NISSAN' 'OPEL' 'PEUGEOT' 'PORSCHE'\n",
      " 'RENAULT' 'SKODA' 'SUBARU' 'SUZUKI' 'TOYOTA' 'VOLKSWAGEN' 'VOLVO'\n",
      " 'VORTEX' 'GREAT_WALL' 'LAND_ROVER' 'MERCEDES' 'SSANG_YONG'] train.csv\n",
      "['SKODA' nan 'AUDI' 'HONDA' 'VOLVO' 'BMW' 'NISSAN' 'INFINITI' 'MERCEDES'\n",
      " 'TOYOTA' 'LEXUS' 'VOLKSWAGEN' 'MITSUBISHI'] train_df_full_part1.csv\n"
     ]
    }
   ],
   "source": []
  },
  {
   "cell_type": "markdown",
   "id": "98f226a7",
   "metadata": {},
   "source": [
    "# =============== dfs columns study ==========================="
   ]
  },
  {
   "cell_type": "code",
   "execution_count": null,
   "id": "c1932612",
   "metadata": {},
   "outputs": [],
   "source": []
  },
  {
   "cell_type": "markdown",
   "id": "93310da8",
   "metadata": {},
   "source": [
    "# =============== brends study ==============================="
   ]
  },
  {
   "cell_type": "code",
   "execution_count": 39,
   "id": "21525f84",
   "metadata": {},
   "outputs": [
    {
     "name": "stdout",
     "output_type": "stream",
     "text": [
      "['AUDI' 'BMW' 'CADILLAC' 'CHERY' 'CHEVROLET' 'CHRYSLER' 'CITROEN' 'DAEWOO'\n",
      " 'DODGE' 'FORD' 'GEELY' 'HONDA' 'HYUNDAI' 'INFINITI' 'JAGUAR' 'JEEP' 'KIA'\n",
      " 'LEXUS' 'MAZDA' 'MINI' 'MITSUBISHI' 'NISSAN' 'OPEL' 'PEUGEOT' 'PORSCHE'\n",
      " 'RENAULT' 'SKODA' 'SUBARU' 'SUZUKI' 'TOYOTA' 'VOLKSWAGEN' 'VOLVO'\n",
      " 'GREAT_WALL' 'LAND_ROVER' 'MERCEDES' 'SSANG_YONG'] all_auto_ru_14_11_2020.csv\n",
      "['SKODA' 'AUDI' 'VOLVO' 'BMW' 'NISSAN' 'INFINITI' 'MERCEDES' 'TOYOTA'\n",
      " 'LEXUS' 'VOLKSWAGEN' 'MITSUBISHI' 'HONDA'] all_car_27_08_2021_data_12_brands.csv\n",
      "['SKODA' 'AUDI' 'HONDA' 'VOLVO' 'BMW' 'NISSAN' 'INFINITI' 'MERCEDES'\n",
      " 'TOYOTA' 'LEXUS' 'VOLKSWAGEN' 'MITSUBISHI'] cars_df_big.csv\n",
      "['SKODA' 'AUDI' 'HONDA' 'VOLVO' 'BMW' 'NISSAN' 'INFINITI' 'MERCEDES'\n",
      " 'TOYOTA' 'LEXUS' 'VOLKSWAGEN' 'MITSUBISHI'] cars_df_small.csv\n",
      "['Audi' 'BMW' 'Chery' nan 'Citroen' 'Ford' 'ГАЗ' 'Geely' 'Haval' 'Honda'\n",
      " 'Hyundai' 'Infiniti' 'Kia' 'Land Rover' 'Lexus' 'Lifan' 'Mazda'\n",
      " 'Mercedes-Benz' 'Mitsubishi' 'Nissan' 'Opel' 'Peugeot' 'Porsche'\n",
      " 'Renault' 'Skoda' 'Subaru' 'Suzuki' 'Toyota' 'LADA (ВАЗ)' 'Volvo'] consolidated_df.csv\n",
      "['SKODA' 'AUDI' 'HONDA' 'VOLVO' 'BMW' 'NISSAN' 'INFINITI' 'MERCEDES'\n",
      " 'TOYOTA' 'LEXUS' 'VOLKSWAGEN' 'MITSUBISHI'] data1.csv\n",
      "['AUDI' 'TOYOTA' 'VOLKSWAGEN' 'NISSAN' 'MERCEDES' 'LEXUS' 'SKODA' 'HONDA'\n",
      " 'VOLVO' 'MITSUBISHI' 'BMW' 'INFINITI'] parsing_auto_ru.csv\n",
      "['AUDI' 'BMW' 'CADILLAC' 'CHANGAN' 'CHERY' 'CHEVROLET' 'CHRYSLER'\n",
      " 'CITROEN' 'DAEWOO' 'DAIHATSU' 'DATSUN' 'DODGE' 'FIAT' 'FORD' 'GEELY'\n",
      " 'HAVAL' 'HONDA' 'HYUNDAI' 'INFINITI' 'JAGUAR' 'JEEP' 'KIA' 'LEXUS'\n",
      " 'LIFAN' 'MINI' 'MAZDA' 'MITSUBISHI' 'NISSAN' 'OPEL' 'PEUGEOT' 'PORSCHE'\n",
      " 'RENAULT' 'SKODA' 'SUBARU' 'SUZUKI' 'TOYOTA' 'VOLKSWAGEN' 'VOLVO'\n",
      " 'VORTEX' 'GREAT_WALL' 'LAND_ROVER' 'MERCEDES' 'SSANG_YONG'] train.csv\n",
      "['SKODA' nan 'AUDI' 'HONDA' 'VOLVO' 'BMW' 'NISSAN' 'INFINITI' 'MERCEDES'\n",
      " 'TOYOTA' 'LEXUS' 'VOLKSWAGEN' 'MITSUBISHI'] train_df_full_part1.csv\n"
     ]
    }
   ],
   "source": [
    "for df_name,df in zip(all_dfs[1:].index,all_dfs[1:]):\n",
    "        print(df.brand.unique(),\n",
    "              df_name)"
   ]
  },
  {
   "cell_type": "markdown",
   "id": "9ac2ba45",
   "metadata": {},
   "source": [
    "# =============== models study ==============================="
   ]
  },
  {
   "cell_type": "code",
   "execution_count": 37,
   "id": "e8bc0149",
   "metadata": {},
   "outputs": [],
   "source": [
    "brand = 'BMW'"
   ]
  },
  {
   "cell_type": "code",
   "execution_count": 51,
   "id": "04d20a5a",
   "metadata": {},
   "outputs": [],
   "source": [
    "brand_models=pd.Series()   \n",
    "\n",
    "for df_name,df in zip(all_dfs[1:2].index,all_dfs[1:2]):\n",
    "    brand_models = brand_models.append(pd.Series([df[df.brand==brand].model_name.value_counts()],\n",
    "                                                 index=[df_name]))\n",
    "#     print(df[df.brand==brand].model_name.value_counts())"
   ]
  },
  {
   "cell_type": "code",
   "execution_count": 54,
   "id": "468f1782",
   "metadata": {},
   "outputs": [
    {
     "data": {
      "text/plain": [
       "3ER              1229\n",
       "5ER               943\n",
       "X5                849\n",
       "X6                571\n",
       "X3                569\n",
       "7ER               385\n",
       "X1                271\n",
       "X7                215\n",
       "1ER               199\n",
       "X4                165\n",
       "X6_M              134\n",
       "6ER               118\n",
       "2ER               100\n",
       "X5_M               85\n",
       "4                  71\n",
       "8ER                52\n",
       "M5                 43\n",
       "X2                 36\n",
       "I3                 15\n",
       "Z4                 13\n",
       "M3                 10\n",
       "M6                  9\n",
       "M2                  7\n",
       "M4                  5\n",
       "M8                  3\n",
       "I8                  3\n",
       "2GRANDTOURER        3\n",
       "321                 2\n",
       "2ACTIVETOURER       2\n",
       "02                  1\n",
       "E3                  1\n",
       "Z3M                 1\n",
       "Z3                  1\n",
       "Z1                  1\n",
       "340                 1\n",
       "326                 1\n",
       "X3_M                1\n",
       "Name: model_name, dtype: int64"
      ]
     },
     "execution_count": 54,
     "metadata": {},
     "output_type": "execute_result"
    }
   ],
   "source": [
    "brand_models['all_auto_ru_14_11_2020.csv']"
   ]
  },
  {
   "cell_type": "code",
   "execution_count": null,
   "id": "a32f266e",
   "metadata": {},
   "outputs": [],
   "source": []
  },
  {
   "cell_type": "code",
   "execution_count": null,
   "id": "2ec96cea",
   "metadata": {},
   "outputs": [],
   "source": []
  },
  {
   "cell_type": "code",
   "execution_count": null,
   "id": "6cc504c8",
   "metadata": {},
   "outputs": [],
   "source": []
  },
  {
   "cell_type": "code",
   "execution_count": null,
   "id": "64e4f9c6",
   "metadata": {},
   "outputs": [],
   "source": []
  },
  {
   "cell_type": "code",
   "execution_count": null,
   "id": "02e4d331",
   "metadata": {},
   "outputs": [],
   "source": []
  },
  {
   "cell_type": "code",
   "execution_count": 45,
   "id": "37291cde",
   "metadata": {},
   "outputs": [
    {
     "name": "stdout",
     "output_type": "stream",
     "text": [
      "BMW X5 30d III (F15)                                     74\n",
      "BMW X6 30d II (F16)                                      71\n",
      "BMW 5 серии 520d xDrive VII (G30/G31)                    58\n",
      "BMW X6 35i I (E71)                                       50\n",
      "BMW 5 серии 530d xDrive VII (G30/G31)                    47\n",
      "                                                         ..\n",
      "BMW 5 серии 535i IV (E39) Рестайлинг                      1\n",
      "BMW 4 серии 420i G22, G23                                 1\n",
      "BMW X1 25i I (E84)                                        1\n",
      "BMW M8 Gran Coupe Competition I (F91/F92/F93)             1\n",
      "BMW 7 серии Long 750Li xDrive VI (G11/G12) Рестайлинг     1\n",
      "Name: model_name, Length: 481, dtype: int64\n"
     ]
    }
   ],
   "source": [
    "for df_name,df in zip(all_dfs[3:4].index,all_dfs[3:4]):\n",
    "        print(\n",
    "            df[df.brand==brand].model_name.value_counts()\n",
    "              )"
   ]
  },
  {
   "cell_type": "code",
   "execution_count": null,
   "id": "6159df2d",
   "metadata": {},
   "outputs": [],
   "source": []
  },
  {
   "cell_type": "markdown",
   "id": "2473cdec",
   "metadata": {},
   "source": [
    "# =============== test study =================================="
   ]
  },
  {
   "cell_type": "code",
   "execution_count": 4,
   "id": "343b621d",
   "metadata": {},
   "outputs": [],
   "source": [
    " test = pd.read_csv('./Project_7_data/test.csv')"
   ]
  },
  {
   "cell_type": "code",
   "execution_count": 6,
   "id": "058f6ab0",
   "metadata": {},
   "outputs": [
    {
     "data": {
      "text/plain": [
       "Index(['bodyType', 'brand', 'car_url', 'color', 'complectation_dict',\n",
       "       'description', 'engineDisplacement', 'enginePower', 'equipment_dict',\n",
       "       'fuelType', 'image', 'mileage', 'modelDate', 'model_info', 'model_name',\n",
       "       'name', 'numberOfDoors', 'parsing_unixtime', 'priceCurrency',\n",
       "       'productionDate', 'sell_id', 'super_gen', 'vehicleConfiguration',\n",
       "       'vehicleTransmission', 'vendor', 'Владельцы', 'Владение', 'ПТС',\n",
       "       'Привод', 'Руль', 'Состояние', 'Таможня'],\n",
       "      dtype='object')"
      ]
     },
     "execution_count": 6,
     "metadata": {},
     "output_type": "execute_result"
    }
   ],
   "source": [
    "test.columns"
   ]
  },
  {
   "cell_type": "code",
   "execution_count": 15,
   "id": "a3b22573",
   "metadata": {},
   "outputs": [
    {
     "data": {
      "text/plain": [
       "complectation_dict    28268\n",
       "equipment_dict         9996\n",
       "Владение              22691\n",
       "ПТС                       1\n",
       "dtype: int64"
      ]
     },
     "execution_count": 15,
     "metadata": {},
     "output_type": "execute_result"
    }
   ],
   "source": [
    "nun_count = test.isna().sum()\n",
    "nun_count[nun_count>0]"
   ]
  },
  {
   "cell_type": "code",
   "execution_count": null,
   "id": "48b8bc88",
   "metadata": {},
   "outputs": [],
   "source": []
  },
  {
   "cell_type": "code",
   "execution_count": null,
   "id": "069fd82f",
   "metadata": {},
   "outputs": [],
   "source": []
  }
 ],
 "metadata": {
  "kernelspec": {
   "display_name": "Python 3",
   "language": "python",
   "name": "python3"
  },
  "language_info": {
   "codemirror_mode": {
    "name": "ipython",
    "version": 3
   },
   "file_extension": ".py",
   "mimetype": "text/x-python",
   "name": "python",
   "nbconvert_exporter": "python",
   "pygments_lexer": "ipython3",
   "version": "3.8.8"
  }
 },
 "nbformat": 4,
 "nbformat_minor": 5
}
