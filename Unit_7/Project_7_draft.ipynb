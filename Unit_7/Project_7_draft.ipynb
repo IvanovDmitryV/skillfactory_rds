{
 "cells": [
  {
   "cell_type": "code",
   "execution_count": 64,
   "id": "4f4017c8",
   "metadata": {},
   "outputs": [],
   "source": [
    "import pandas as pd\n",
    "import os\n",
    "import warnings\n",
    "import numpy as np\n",
    "import re\n",
    "\n",
    "from functools import reduce"
   ]
  },
  {
   "cell_type": "code",
   "execution_count": 2,
   "id": "5eccb5d9",
   "metadata": {},
   "outputs": [],
   "source": [
    "warnings.filterwarnings(\"ignore\")"
   ]
  },
  {
   "cell_type": "code",
   "execution_count": 3,
   "id": "6e1c69db",
   "metadata": {},
   "outputs": [],
   "source": [
    "# обьединение данных по каждом бренду в один DataFrame\n",
    "# by_brend_dir = os.listdir('C:/Users/Manych/projects/persnl/Project_7_data_extra/by_brend')\n",
    "\n",
    "# to_concat = []\n",
    "# for brand in by_brend_dir:\n",
    "#     try: \n",
    "#         brand_df = pd.read_csv(\n",
    "#             'C:/Users/Manych/projects/persnl/Project_7_data_extra/by_brend/' + brand,sep=',',low_memory=False)\n",
    "#     except:\n",
    "#         brand_df = pd.read_csv(\n",
    "#             'C:/Users/Manych/projects/persnl/Project_7_data_extra/by_brend/' + brand,sep=';',low_memory=False)\n",
    "#     to_concat.append(brand_df)\n",
    "\n",
    "# consolidated_df = pd.concat(to_concat)\n",
    "\n",
    "# consolidated_df.to_csv('C:/Users/Manych/projects/persnl/Project_7_data_extra/consolidated_df.csv')"
   ]
  },
  {
   "cell_type": "code",
   "execution_count": 4,
   "id": "c79306fc",
   "metadata": {},
   "outputs": [],
   "source": [
    "# all_dfs_names = [x for x in os.listdir('C:/Users/Manych/projects/persnl/Project_7_data_extra') if '.csv' in x]\n",
    "all_dfs_names = [x for x in os.listdir('./Preproject_7_data') if '.csv' in x]"
   ]
  },
  {
   "cell_type": "code",
   "execution_count": 5,
   "id": "6a234cdb",
   "metadata": {},
   "outputs": [],
   "source": [
    "'''dfs_columns = pd.Series()\n",
    "dfs_counts = pd.Series()\n",
    "\n",
    "for df_name in  all_dfs_names:\n",
    "    print(df_name,end=' ')\n",
    "    try:\n",
    "#         df = pd.read_csv('C:/Users/Manych/projects/persnl/Project_7_data_extra/' + df_name,low_memory=False)\n",
    "        df = pd.read_csv('./Preproject_7_data/' + df_name,low_memory=False)\n",
    "\n",
    "    except:\n",
    "#         df = pd.read_csv('C:/Users/Manych/projects/persnl/Project_7_data_extra/' + df_name,sep='\\t',low_memory=False)\n",
    "        df = pd.read_csv('./Preproject_7_data/' + df_name,sep='\\t',low_memory=False)\n",
    "    \n",
    "    dfs_columns = dfs_columns.append(pd.Series([list(df.columns)],index=[df_name]))\n",
    "    dfs_counts = dfs_counts.append(pd.Series([len(df)],index=[df_name]))\n",
    "#     print(df.columnsumns)''';"
   ]
  },
  {
   "cell_type": "code",
   "execution_count": 7,
   "id": "2cbd9f00",
   "metadata": {},
   "outputs": [],
   "source": [
    "'''common_columns = reduce(lambda x,y: set(x)&set(y), dfs_columns)\n",
    "not_common_columns = dfs_columns.apply(lambda x: set(x) - common_columns )\n",
    "# [print (sorted(x)) for x in not_common_columns]\n",
    "# common_columns\n",
    "# not_common_columns''';"
   ]
  },
  {
   "cell_type": "code",
   "execution_count": 8,
   "id": "7ecc329e",
   "metadata": {},
   "outputs": [],
   "source": [
    "# pd.Series(dfs_columns.sum()).value_counts()"
   ]
  },
  {
   "cell_type": "code",
   "execution_count": 9,
   "id": "7b2b44fa",
   "metadata": {},
   "outputs": [],
   "source": [
    "# weighted_columns = dfs_counts*dfs_columns\n",
    "# pd.Series(weighted_columns.sum()).value_counts()"
   ]
  },
  {
   "cell_type": "code",
   "execution_count": 10,
   "id": "cd01112c",
   "metadata": {},
   "outputs": [],
   "source": [
    "# [print (sorted(x)) for x in not_common_columns]"
   ]
  },
  {
   "cell_type": "markdown",
   "id": "a24d3fb1",
   "metadata": {},
   "source": [
    "# ===============================================================\n",
    "# ==============================================================="
   ]
  },
  {
   "cell_type": "code",
   "execution_count": 11,
   "id": "8532572e",
   "metadata": {},
   "outputs": [
    {
     "name": "stdout",
     "output_type": "stream",
     "text": [
      "all_auto_ru_09_09_2020.csv all_auto_ru_14_11_2020.csv all_car_27_08_2021_data_12_brands.csv cars_df_big.csv cars_df_small.csv consolidated_df.csv data1.csv parsing_auto_ru.csv train.csv train_df_full_part1.csv "
     ]
    }
   ],
   "source": [
    "all_dfs =  pd.Series()\n",
    "\n",
    "for df_name in  all_dfs_names:\n",
    "    print(df_name,end=' ')\n",
    "    try:\n",
    "        df = pd.read_csv('./Preproject_7_data/' + df_name,low_memory=False)\n",
    "    except:\n",
    "        df = pd.read_csv('./Preproject_7_data/' + df_name,sep='\\t',low_memory=False)\n",
    "        \n",
    "    all_dfs = all_dfs.append(pd.Series([df],index=[df_name]))"
   ]
  },
  {
   "cell_type": "code",
   "execution_count": 102,
   "id": "4062e3dd",
   "metadata": {},
   "outputs": [
    {
     "name": "stdout",
     "output_type": "stream",
     "text": [
      "3526259.7003383883 all_auto_ru_09_09_2020.csv\n",
      "4879901.107416625 all_auto_ru_14_11_2020.csv\n",
      "6093548.989583893 all_car_27_08_2021_data_12_brands.csv\n",
      "3435923.9598136283 cars_df_big.csv\n",
      "3435923.9598136283 cars_df_small.csv\n",
      "nan consolidated_df.csv\n",
      "2385619.3733265977 data1.csv\n",
      "2306780.622999633 parsing_auto_ru.csv\n",
      "4509805.734230299 train.csv\n",
      "5869825.628195463 train_df_full_part1.csv\n"
     ]
    }
   ],
   "source": [
    "for df_name,df in zip(all_dfs.index,all_dfs):\n",
    "    try:\n",
    "        print(df[df.brand=='MERCEDES'].price.mean(),\n",
    "              df_name)\n",
    "    except: \n",
    "        print(df[df.brand=='MERCEDES'].price.apply(lambda x: int(''.join(re.findall(\"\\d+\", x))) if type(x)==str else np.NaN).mean(),\n",
    "              df_name)\n",
    "              "
   ]
  },
  {
   "cell_type": "code",
   "execution_count": 101,
   "id": "aec510a1",
   "metadata": {
    "scrolled": false
   },
   "outputs": [
    {
     "name": "stdout",
     "output_type": "stream",
     "text": [
      "['AUDI' 'BMW' 'CADILLAC' 'CHERY' 'CHEVROLET' 'CHRYSLER' 'CITROEN' 'DAEWOO'\n",
      " 'DODGE' 'FORD' 'GEELY' 'HONDA' 'HYUNDAI' 'INFINITI' 'JAGUAR' 'JEEP' 'KIA'\n",
      " 'LEXUS' 'MAZDA' 'MINI' 'MITSUBISHI' 'NISSAN' 'OPEL' 'PEUGEOT' 'PORSCHE'\n",
      " 'RENAULT' 'SKODA' 'SUBARU' 'SUZUKI' 'TOYOTA' 'VOLKSWAGEN' 'VOLVO'\n",
      " 'GREAT_WALL' 'LAND_ROVER' 'MERCEDES' 'SSANG_YONG'] all_auto_ru_09_09_2020.csv\n",
      "['AUDI' 'BMW' 'CADILLAC' 'CHERY' 'CHEVROLET' 'CHRYSLER' 'CITROEN' 'DAEWOO'\n",
      " 'DODGE' 'FORD' 'GEELY' 'HONDA' 'HYUNDAI' 'INFINITI' 'JAGUAR' 'JEEP' 'KIA'\n",
      " 'LEXUS' 'MAZDA' 'MINI' 'MITSUBISHI' 'NISSAN' 'OPEL' 'PEUGEOT' 'PORSCHE'\n",
      " 'RENAULT' 'SKODA' 'SUBARU' 'SUZUKI' 'TOYOTA' 'VOLKSWAGEN' 'VOLVO'\n",
      " 'GREAT_WALL' 'LAND_ROVER' 'MERCEDES' 'SSANG_YONG'] all_auto_ru_14_11_2020.csv\n",
      "['SKODA' 'AUDI' 'VOLVO' 'BMW' 'NISSAN' 'INFINITI' 'MERCEDES' 'TOYOTA'\n",
      " 'LEXUS' 'VOLKSWAGEN' 'MITSUBISHI' 'HONDA'] all_car_27_08_2021_data_12_brands.csv\n",
      "['SKODA' 'AUDI' 'HONDA' 'VOLVO' 'BMW' 'NISSAN' 'INFINITI' 'MERCEDES'\n",
      " 'TOYOTA' 'LEXUS' 'VOLKSWAGEN' 'MITSUBISHI'] cars_df_big.csv\n",
      "['SKODA' 'AUDI' 'HONDA' 'VOLVO' 'BMW' 'NISSAN' 'INFINITI' 'MERCEDES'\n",
      " 'TOYOTA' 'LEXUS' 'VOLKSWAGEN' 'MITSUBISHI'] cars_df_small.csv\n",
      "['Audi' 'BMW' 'Chery' nan 'Citroen' 'Ford' 'ГАЗ' 'Geely' 'Haval' 'Honda'\n",
      " 'Hyundai' 'Infiniti' 'Kia' 'Land Rover' 'Lexus' 'Lifan' 'Mazda'\n",
      " 'Mercedes-Benz' 'Mitsubishi' 'Nissan' 'Opel' 'Peugeot' 'Porsche'\n",
      " 'Renault' 'Skoda' 'Subaru' 'Suzuki' 'Toyota' 'LADA (ВАЗ)' 'Volvo'] consolidated_df.csv\n",
      "['SKODA' 'AUDI' 'HONDA' 'VOLVO' 'BMW' 'NISSAN' 'INFINITI' 'MERCEDES'\n",
      " 'TOYOTA' 'LEXUS' 'VOLKSWAGEN' 'MITSUBISHI'] data1.csv\n",
      "['AUDI' 'TOYOTA' 'VOLKSWAGEN' 'NISSAN' 'MERCEDES' 'LEXUS' 'SKODA' 'HONDA'\n",
      " 'VOLVO' 'MITSUBISHI' 'BMW' 'INFINITI'] parsing_auto_ru.csv\n",
      "['AUDI' 'BMW' 'CADILLAC' 'CHANGAN' 'CHERY' 'CHEVROLET' 'CHRYSLER'\n",
      " 'CITROEN' 'DAEWOO' 'DAIHATSU' 'DATSUN' 'DODGE' 'FIAT' 'FORD' 'GEELY'\n",
      " 'HAVAL' 'HONDA' 'HYUNDAI' 'INFINITI' 'JAGUAR' 'JEEP' 'KIA' 'LEXUS'\n",
      " 'LIFAN' 'MINI' 'MAZDA' 'MITSUBISHI' 'NISSAN' 'OPEL' 'PEUGEOT' 'PORSCHE'\n",
      " 'RENAULT' 'SKODA' 'SUBARU' 'SUZUKI' 'TOYOTA' 'VOLKSWAGEN' 'VOLVO'\n",
      " 'VORTEX' 'GREAT_WALL' 'LAND_ROVER' 'MERCEDES' 'SSANG_YONG'] train.csv\n",
      "['SKODA' nan 'AUDI' 'HONDA' 'VOLVO' 'BMW' 'NISSAN' 'INFINITI' 'MERCEDES'\n",
      " 'TOYOTA' 'LEXUS' 'VOLKSWAGEN' 'MITSUBISHI'] train_df_full_part1.csv\n"
     ]
    }
   ],
   "source": [
    "for df_name,df in zip(all_dfs.index,all_dfs):\n",
    "        print(df.brand.unique(),\n",
    "              df_name)"
   ]
  },
  {
   "cell_type": "code",
   "execution_count": null,
   "id": "f9eeafbc",
   "metadata": {},
   "outputs": [],
   "source": []
  }
 ],
 "metadata": {
  "kernelspec": {
   "display_name": "Python 3",
   "language": "python",
   "name": "python3"
  },
  "language_info": {
   "codemirror_mode": {
    "name": "ipython",
    "version": 3
   },
   "file_extension": ".py",
   "mimetype": "text/x-python",
   "name": "python",
   "nbconvert_exporter": "python",
   "pygments_lexer": "ipython3",
   "version": "3.8.8"
  }
 },
 "nbformat": 4,
 "nbformat_minor": 5
}
