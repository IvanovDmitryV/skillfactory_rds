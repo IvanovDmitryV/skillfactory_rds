{
 "cells": [
  {
   "cell_type": "code",
   "execution_count": 149,
   "id": "627ed7e5",
   "metadata": {},
   "outputs": [],
   "source": [
    "import pandas as pd\n",
    "import os\n",
    "import warnings\n",
    "\n",
    "from functools import reduce"
   ]
  },
  {
   "cell_type": "code",
   "execution_count": 150,
   "id": "92567df3",
   "metadata": {},
   "outputs": [],
   "source": [
    "warnings.filterwarnings(\"ignore\")"
   ]
  },
  {
   "cell_type": "code",
   "execution_count": 45,
   "id": "df521d2c",
   "metadata": {},
   "outputs": [],
   "source": [
    "# обьединение данных по каждом бренду в один DataFrame\n",
    "# by_brend_dir = os.listdir('C:/Users/Manych/projects/persnl/Project_7_data_extra/by_brend')\n",
    "\n",
    "# to_concat = []\n",
    "# for brand in by_brend_dir:\n",
    "#     try: \n",
    "#         brand_df = pd.read_csv(\n",
    "#             'C:/Users/Manych/projects/persnl/Project_7_data_extra/by_brend/' + brand,sep=',',low_memory=False)\n",
    "#     except:\n",
    "#         brand_df = pd.read_csv(\n",
    "#             'C:/Users/Manych/projects/persnl/Project_7_data_extra/by_brend/' + brand,sep=';',low_memory=False)\n",
    "#     to_concat.append(brand_df)\n",
    "\n",
    "# consolidated_df = pd.concat(to_concat)\n",
    "\n",
    "# consolidated_df.to_csv('C:/Users/Manych/projects/persnl/Project_7_data_extra/consolidated_df.csv')"
   ]
  },
  {
   "cell_type": "code",
   "execution_count": 60,
   "id": "34d5b88d",
   "metadata": {},
   "outputs": [],
   "source": [
    "all_dfs_names = [x for x in os.listdir('C:/Users/Manych/projects/persnl/Project_7_data_extra') if '.csv' in x]"
   ]
  },
  {
   "cell_type": "code",
   "execution_count": 151,
   "id": "9ffd11a0",
   "metadata": {},
   "outputs": [
    {
     "name": "stdout",
     "output_type": "stream",
     "text": [
      "all_auto_ru_09_09_2020.csv all_auto_ru_14_11_2020.csv all_car_27_08_2021_data_12_brands.csv cars_df_big.csv cars_df_small.csv consolidated_df.csv data1.csv parsing_auto_ru.csv train.csv train_df_full_part1.csv "
     ]
    }
   ],
   "source": [
    "dfs_columns = pd.Series()\n",
    "dfs_counts = pd.Series()\n",
    "\n",
    "for df_name in  all_dfs_names:\n",
    "    print(df_name,end=' ')\n",
    "    try:\n",
    "        df = pd.read_csv('C:/Users/Manych/projects/persnl/Project_7_data_extra/' + df_name,low_memory=False)\n",
    "    except:\n",
    "        df = pd.read_csv('C:/Users/Manych/projects/persnl/Project_7_data_extra/' + df_name,sep='\\t',low_memory=False)\n",
    "    \n",
    "    dfs_columns = dfs_columns.append(pd.Series([list(df.columns)],index=[df_name]))\n",
    "    dfs_counts = dfs_counts.append(pd.Series([len(df)],index=[df_name]))\n",
    "#     print(df.columnsumns)"
   ]
  },
  {
   "cell_type": "code",
   "execution_count": 152,
   "id": "f21f669d",
   "metadata": {},
   "outputs": [],
   "source": [
    "common_columns = reduce(lambda x,y: set(x)&set(y), dfs_columns)\n",
    "not_common_columns = dfs_columns.apply(lambda x: set(x) - common_columns )\n",
    "# [print (sorted(x)) for x in not_common_columns]\n",
    "# common_columns\n",
    "# not_common_columns"
   ]
  },
  {
   "cell_type": "code",
   "execution_count": 131,
   "id": "cec2e622",
   "metadata": {},
   "outputs": [],
   "source": [
    "# pd.Series(dfs_columns.sum()).value_counts()"
   ]
  },
  {
   "cell_type": "code",
   "execution_count": 139,
   "id": "b12b88e1",
   "metadata": {},
   "outputs": [],
   "source": [
    "# weighted_columns = dfs_counts*dfs_columns\n",
    "# pd.Series(weighted_columns.sum()).value_counts()"
   ]
  },
  {
   "cell_type": "code",
   "execution_count": 154,
   "id": "6d8fb078",
   "metadata": {},
   "outputs": [
    {
     "name": "stdout",
     "output_type": "stream",
     "text": [
      "['hidden', 'model', 'modelDate', 'numberOfDoors', 'start_date', 'vehicleConfiguration', 'Владение', 'Комплектация', 'Состояние', 'Таможня']\n",
      "['complectation_dict', 'equipment_dict', 'image', 'modelDate', 'model_info', 'model_name', 'numberOfDoors', 'priceCurrency', 'price_EUR', 'price_USD', 'sell_id', 'start_date', 'super_gen', 'vehicleConfiguration', 'vendor', 'Владение', 'Состояние', 'Таможня']\n",
      "['Unnamed: 0', 'car_url', 'complectation_dict', 'date_added', 'equipment_dict', 'image', 'modelDate', 'model_name', 'numberOfDoors', 'parsing_unixtime', 'priceCurrency', 'region', 'sell_id', 'super_gen', 'vehicleConfiguration', 'views', 'Владение', 'Состояние', 'Таможня']\n",
      "['car_url', 'equipmentGroups', 'image', 'modelDate', 'model_name', 'numberOfDoors', 'parsing_unixtime', 'priceCurrency', 'sell_id', 'vehicleConfiguration', 'Состояние', 'Таможня']\n",
      "['car_url', 'equipmentGroups', 'image', 'modelDate', 'model_name', 'numberOfDoors', 'parsing_unixtime', 'priceCurrency', 'sell_id', 'vehicleConfiguration', 'Состояние', 'Таможня']\n",
      "['Unnamed: 0', 'car_url', 'card', 'card_type', 'confDict', 'datetime', 'dealerName', 'engine', 'equipment_dict', 'image', 'model_name', 'model_name2', 'model_name_full', 'nview', 'parsing_unixtime', 'public_date', 'region', 'sell_id', 'sellerName', 'Состояние', 'Таможня']\n",
      "['car_url', 'complectation_dict', 'equipment_dict', 'image', 'is_train', 'modelDate', 'model_info', 'model_name', 'numberOfDoors', 'parsing_unixtime', 'priceCurrency', 'sell_id', 'super_gen', 'vehicleConfiguration', 'vendor', 'Владение', 'Состояние', 'Таможня']\n",
      "['car_url', 'complectation_dict', 'equipment_dict', 'image', 'modelDate', 'model_info', 'model_name', 'numberOfDoors', 'parsing_unixtime', 'priceCurrency', 'sell_id', 'super_gen', 'vehicleConfiguration', 'vendor', 'Владение', 'Состояние', 'Таможня']\n",
      "['complectation_dict', 'equipment_dict', 'id', 'modelDate', 'model_info', 'model_name', 'numberOfDoors', 'priceCurrency', 'sell_id', 'super_gen', 'vehicleConfiguration', 'vendor']\n",
      "['car_url', 'complectation_dict', 'date_added', 'equipment_dict', 'image', 'modelDate', 'model_info', 'model_name', 'numberOfDoors', 'parsing_unixtime', 'priceCurrency', 'region', 'sell_id', 'super_gen', 'vehicleConfiguration', 'vendor', 'views', 'Владение', 'Состояние', 'Таможня']\n"
     ]
    },
    {
     "data": {
      "text/plain": [
       "[None, None, None, None, None, None, None, None, None, None]"
      ]
     },
     "execution_count": 154,
     "metadata": {},
     "output_type": "execute_result"
    }
   ],
   "source": [
    "[print (sorted(x)) for x in not_common_columns]"
   ]
  },
  {
   "cell_type": "code",
   "execution_count": null,
   "id": "450cff46",
   "metadata": {},
   "outputs": [],
   "source": []
  }
 ],
 "metadata": {
  "kernelspec": {
   "display_name": "Python 3",
   "language": "python",
   "name": "python3"
  },
  "language_info": {
   "codemirror_mode": {
    "name": "ipython",
    "version": 3
   },
   "file_extension": ".py",
   "mimetype": "text/x-python",
   "name": "python",
   "nbconvert_exporter": "python",
   "pygments_lexer": "ipython3",
   "version": "3.8.8"
  }
 },
 "nbformat": 4,
 "nbformat_minor": 5
}
