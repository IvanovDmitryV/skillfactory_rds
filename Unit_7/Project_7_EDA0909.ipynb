{
 "cells": [
  {
   "cell_type": "markdown",
   "metadata": {},
   "source": [
    "## Импорт бибилиотек"
   ]
  },
  {
   "cell_type": "code",
   "execution_count": 1,
   "metadata": {},
   "outputs": [
    {
     "name": "stdout",
     "output_type": "stream",
     "text": [
      "Populating the interactive namespace from numpy and matplotlib\n"
     ]
    },
    {
     "name": "stderr",
     "output_type": "stream",
     "text": [
      "C:\\Users\\GANSOR-PC\\Anaconda3\\lib\\site-packages\\IPython\\core\\magics\\pylab.py:160: UserWarning: pylab import has clobbered these variables: ['datetime']\n",
      "`%matplotlib` prevents importing * from pylab and numpy\n",
      "  \"\\n`%matplotlib` prevents importing * from pylab and numpy\"\n"
     ]
    }
   ],
   "source": [
    "import pandas as pd\n",
    "import numpy as np\n",
    "import matplotlib.pyplot as plt\n",
    "import seaborn as sns\n",
    "\n",
    "from datetime import datetime\n",
    "from datetime import date\n",
    "\n",
    "import warnings\n",
    "\n",
    "%pylab inline\n",
    "\n",
    "from project_7_functions import *"
   ]
  },
  {
   "cell_type": "markdown",
   "metadata": {},
   "source": [
    "## Установка параметров и определение констант"
   ]
  },
  {
   "cell_type": "code",
   "execution_count": 2,
   "metadata": {},
   "outputs": [],
   "source": [
    "from project_7_constants import *\n",
    "\n",
    "warnings.filterwarnings(\"ignore\")\n",
    "\n",
    "pd.set_option('display.max_rows', 70)    # выведем больше строк\n",
    "pd.set_option('display.max_columns', 30) # выведем больше колонок"
   ]
  },
  {
   "cell_type": "markdown",
   "metadata": {},
   "source": [
    "##  Загрузка даных"
   ]
  },
  {
   "cell_type": "code",
   "execution_count": 3,
   "metadata": {},
   "outputs": [],
   "source": [
    "df_kaggle = pd.read_csv(f'{path}auto_ru_2020_09_09.csv',low_memory=False)\n",
    "df_kaggle_full = pd.read_csv(f'{path}all_auto_ru_09_09_2020.csv',low_memory=False)\n",
    "\n",
    "test = pd.read_csv(f'{path}test.csv',low_memory=False)"
   ]
  },
  {
   "cell_type": "code",
   "execution_count": 4,
   "metadata": {},
   "outputs": [
    {
     "data": {
      "text/plain": [
       "Index(['bodyType', 'brand', 'car_url', 'color', 'complectation_dict',\n",
       "       'description', 'engineDisplacement', 'enginePower', 'equipment_dict',\n",
       "       'fuelType', 'image', 'mileage', 'modelDate', 'model_info', 'model_name',\n",
       "       'name', 'numberOfDoors', 'parsing_unixtime', 'priceCurrency',\n",
       "       'productionDate', 'sell_id', 'super_gen', 'vehicleConfiguration',\n",
       "       'vehicleTransmission', 'vendor', 'Владельцы', 'Владение', 'ПТС',\n",
       "       'Привод', 'Руль', 'Состояние', 'Таможня'],\n",
       "      dtype='object')"
      ]
     },
     "execution_count": 4,
     "metadata": {},
     "output_type": "execute_result"
    }
   ],
   "source": [
    "test.columns"
   ]
  },
  {
   "cell_type": "markdown",
   "metadata": {},
   "source": [
    "## Приведение к единому виду"
   ]
  },
  {
   "cell_type": "code",
   "execution_count": 5,
   "metadata": {},
   "outputs": [
    {
     "name": "stdout",
     "output_type": "stream",
     "text": [
      "Wall time: 1.6 s\n"
     ]
    }
   ],
   "source": [
    "%%time \n",
    "externdata_test = externdata_test_unification(test)\n",
    "externdata_train = externdata_train_unification(df_kaggle)\n",
    "externdata_train_full = externdata_train_unification(df_kaggle_full)"
   ]
  },
  {
   "cell_type": "markdown",
   "metadata": {},
   "source": [
    "## Объединение test и train"
   ]
  },
  {
   "cell_type": "code",
   "execution_count": 6,
   "metadata": {},
   "outputs": [],
   "source": [
    "externdata_train['sample'] = 1  # помечаем где у нас трейн\n",
    "externdata_train_full['sample'] = 1  # помечаем где у нас трейн\n",
    "externdata_test['sample'] = 0   # помечаем где у нас тест\n",
    "externdata_test['price'] = np.NaN  # в тесте нет значения price -  пока просто заполняем np.NaN\n",
    "# объединяем\n",
    "externdata = externdata_test.append(externdata_train, sort=False).reset_index(drop=True) \n",
    "externdata_full = externdata_test.append(externdata_train_full, sort=False).reset_index(drop=True) "
   ]
  },
  {
   "cell_type": "markdown",
   "metadata": {},
   "source": [
    "## EDA\n",
    "Разделим признаки на количественные `num_cols` , категориальные `cat_cols` и бинарные `bin_cols`.   \n",
    "К бинарным, очевидно, отнесем признаки с двумя уникальными значениями.  \n",
    "Категориальными признаками будем считать признаки с количеством уникальных значений от 3 до 27 а также очевидно категориальные название модели и марку автомобиля.   \n",
    "Порогом для количественного признака будет наличие более чем 27 уникальных значений. При этом учитываем, что название модели и марку автомобиля из количественных признаков мы исключили.  \n"
   ]
  },
  {
   "cell_type": "code",
   "execution_count": 7,
   "metadata": {},
   "outputs": [],
   "source": [
    "# Посмотри обьекты какого типа находятся теперь в колонках датасета.\n",
    "# externdata_train_full.apply(lambda x: type(x.iloc[0]))"
   ]
  },
  {
   "cell_type": "markdown",
   "metadata": {},
   "source": [
    "Определяем кличество уникальных знчений в каждой колонке и относим признак к соответсвующему типу данных (преобразвание `astype(str)` необходимо для избежания `TypeError: (\"unhashable type: 'list'\", 'occurred at index equipment_dict')`)"
   ]
  },
  {
   "cell_type": "code",
   "execution_count": 8,
   "metadata": {},
   "outputs": [],
   "source": [
    "num_uniq = externdata.apply(lambda x: x.astype(str).nunique())"
   ]
  },
  {
   "cell_type": "code",
   "execution_count": 56,
   "metadata": {},
   "outputs": [
    {
     "data": {
      "text/plain": [
       "bodyType                 102\n",
       "brand                     12\n",
       "color                     16\n",
       "engineDisplacement        56\n",
       "enginePower              325\n",
       "equipment_dict         25538\n",
       "fuelType                   5\n",
       "mileage                17207\n",
       "modelDate                 69\n",
       "model_name               573\n",
       "numberOfDoors              5\n",
       "productionDate            72\n",
       "vehicleTransmission        4\n",
       "vendor                     2\n",
       "Владельцы                  4\n",
       "Владение                 298\n",
       "ПТС                        3\n",
       "Привод                     3\n",
       "Руль                       2\n",
       "sample                     2\n",
       "offerprice                 1\n",
       "price                   6461\n",
       "dtype: int64"
      ]
     },
     "execution_count": 56,
     "metadata": {},
     "output_type": "execute_result"
    }
   ],
   "source": [
    "num_uniq"
   ]
  },
  {
   "cell_type": "markdown",
   "metadata": {},
   "source": [
    "### количественные"
   ]
  },
  {
   "cell_type": "code",
   "execution_count": null,
   "metadata": {},
   "outputs": [],
   "source": []
  },
  {
   "cell_type": "markdown",
   "metadata": {},
   "source": [
    "### категориальные"
   ]
  },
  {
   "cell_type": "code",
   "execution_count": null,
   "metadata": {},
   "outputs": [],
   "source": []
  },
  {
   "cell_type": "markdown",
   "metadata": {},
   "source": [
    "### бинарные"
   ]
  },
  {
   "cell_type": "code",
   "execution_count": 57,
   "metadata": {},
   "outputs": [
    {
     "data": {
      "text/plain": [
       "Index(['vendor', 'Руль', 'sample'], dtype='object')"
      ]
     },
     "execution_count": 57,
     "metadata": {},
     "output_type": "execute_result"
    }
   ],
   "source": [
    "bin_cols = externdata.columns[num_uniq==2]\n",
    "bin_cols"
   ]
  },
  {
   "cell_type": "code",
   "execution_count": null,
   "metadata": {},
   "outputs": [],
   "source": [
    "cat_cols = data.columns[(num_uniq>2) & (num_uniq<28)].append(pd.Index(['model_name','brand'])) "
   ]
  },
  {
   "cell_type": "code",
   "execution_count": null,
   "metadata": {},
   "outputs": [],
   "source": [
    "num_cols = data.columns[num_uniq>=28].drop(time_col).drop(['model_name','brand','offerprice'])"
   ]
  },
  {
   "cell_type": "code",
   "execution_count": null,
   "metadata": {},
   "outputs": [],
   "source": []
  },
  {
   "cell_type": "markdown",
   "metadata": {},
   "source": [
    "# ============================"
   ]
  },
  {
   "cell_type": "code",
   "execution_count": 33,
   "metadata": {},
   "outputs": [
    {
     "data": {
      "text/plain": [
       "89"
      ]
     },
     "execution_count": 33,
     "metadata": {},
     "output_type": "execute_result"
    }
   ],
   "source": [
    "externdata_train_full.equipment_dict.apply(len).nunique()"
   ]
  },
  {
   "cell_type": "code",
   "execution_count": 53,
   "metadata": {},
   "outputs": [
    {
     "data": {
      "text/plain": [
       "MERCEDES      12192\n",
       "BMW           11866\n",
       "VOLKSWAGEN    11543\n",
       "NISSAN        10165\n",
       "TOYOTA         8737\n",
       "AUDI           7505\n",
       "MITSUBISHI     6776\n",
       "HYUNDAI        5734\n",
       "KIA            5630\n",
       "SKODA          5547\n",
       "FORD           4797\n",
       "CHEVROLET      3633\n",
       "VOLVO          3536\n",
       "OPEL           3114\n",
       "RENAULT        2713\n",
       "HONDA          2328\n",
       "MAZDA          2311\n",
       "INFINITI       1911\n",
       "LEXUS          1888\n",
       "PEUGEOT        1641\n",
       "LAND_ROVER     1623\n",
       "CITROEN        1146\n",
       "DAEWOO         1041\n",
       "SUBARU          932\n",
       "SUZUKI          872\n",
       "SSANG_YONG      717\n",
       "PORSCHE         713\n",
       "CHERY           566\n",
       "JEEP            483\n",
       "GREAT_WALL      420\n",
       "DODGE           418\n",
       "CHRYSLER        323\n",
       "CADILLAC        322\n",
       "JAGUAR          313\n",
       "MINI            312\n",
       "GEELY           295\n",
       "Name: brand, dtype: int64"
      ]
     },
     "execution_count": 53,
     "metadata": {},
     "output_type": "execute_result"
    }
   ],
   "source": [
    "externdata_full.brand.value_counts()"
   ]
  },
  {
   "cell_type": "code",
   "execution_count": null,
   "metadata": {},
   "outputs": [],
   "source": []
  },
  {
   "cell_type": "code",
   "execution_count": null,
   "metadata": {},
   "outputs": [],
   "source": []
  }
 ],
 "metadata": {
  "kernelspec": {
   "display_name": "Python 3",
   "language": "python",
   "name": "python3"
  },
  "language_info": {
   "codemirror_mode": {
    "name": "ipython",
    "version": 3
   },
   "file_extension": ".py",
   "mimetype": "text/x-python",
   "name": "python",
   "nbconvert_exporter": "python",
   "pygments_lexer": "ipython3",
   "version": "3.7.4"
  }
 },
 "nbformat": 4,
 "nbformat_minor": 2
}
