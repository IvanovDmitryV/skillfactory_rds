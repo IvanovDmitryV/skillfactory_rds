{
 "cells": [
  {
   "cell_type": "code",
   "execution_count": 17,
   "metadata": {},
   "outputs": [],
   "source": [
    "def nums_visualisation(df,annotation=False):\n",
    "    '''\n",
    "    визуализация распределений количественных признаков: \n",
    "        - гисторгамма распределения \n",
    "        - boxplot распределения\n",
    "    '''\n",
    "    columns = df.columns\n",
    "    cols_num = df.shape[1]\n",
    "\n",
    "    fstr = '\\033[1m{}\\033[0m, '* (len(columns)-1) + '\\033[1m{}\\033[0m'\n",
    "    if annotation: \n",
    "        print(('Всего признаков этого типа {}.\\nК ним относятся: ' + fstr).\n",
    "              format(len(columns),*columns))\n",
    "    \n",
    "    indent = 0.05\n",
    "    fig = plt.figure(figsize=(14,3))\n",
    "    for i,col in enumerate(columns):\n",
    "        row = df[col]\n",
    "        min_diff = pd.Series(row.unique()).sort_values().diff().min()\n",
    "        bins = min(int((row.max()-row.min()) /min_diff + 1),100)\n",
    "        \n",
    "        fig.add_axes([1/cols_num*i, 0.35, 1/cols_num-indent, 1])\n",
    "        plt.title(col)\n",
    "        row.plot.hist(bins=bins,density=True)\n",
    "    \n",
    "        fig.add_axes([1/cols_num*i, 0, 1/cols_num-indent, 0.2])\n",
    "        sns.boxplot(x=row)\n",
    "\n",
    "    plt.tight_layout()"
   ]
  },
  {
   "cell_type": "markdown",
   "metadata": {},
   "source": [
    "## Импорт бибилиотек"
   ]
  },
  {
   "cell_type": "code",
   "execution_count": 18,
   "metadata": {},
   "outputs": [],
   "source": [
    "import pandas as pd\n",
    "import numpy as np\n",
    "import matplotlib.pyplot as plt\n",
    "import seaborn as sns\n",
    "\n",
    "from datetime import datetime\n",
    "from datetime import date\n",
    "\n",
    "import warnings\n",
    "\n",
    "# %pylab \n",
    "%matplotlib inline\n",
    "\n",
    "from project_7_functions import *"
   ]
  },
  {
   "cell_type": "markdown",
   "metadata": {},
   "source": [
    "## Установка параметров и определение констант"
   ]
  },
  {
   "cell_type": "code",
   "execution_count": 19,
   "metadata": {},
   "outputs": [],
   "source": [
    "from project_7_constants import *\n",
    "\n",
    "warnings.filterwarnings(\"ignore\")\n",
    "\n",
    "pd.set_option('display.max_rows', 70)    # выведем больше строк\n",
    "pd.set_option('display.max_columns', 30) # выведем больше колонок"
   ]
  },
  {
   "cell_type": "markdown",
   "metadata": {},
   "source": [
    "##  Загрузка даных"
   ]
  },
  {
   "cell_type": "code",
   "execution_count": 20,
   "metadata": {},
   "outputs": [],
   "source": [
    "df_kaggle = pd.read_csv(f'{path}auto_ru_2020_09_09.csv',low_memory=False)\n",
    "df_kaggle_full = pd.read_csv(f'{path}all_auto_ru_09_09_2020.csv',low_memory=False)\n",
    "\n",
    "test = pd.read_csv(f'{path}test.csv',low_memory=False)"
   ]
  },
  {
   "cell_type": "code",
   "execution_count": 21,
   "metadata": {},
   "outputs": [
    {
     "data": {
      "text/plain": [
       "Index(['bodyType', 'brand', 'car_url', 'color', 'complectation_dict',\n",
       "       'description', 'engineDisplacement', 'enginePower', 'equipment_dict',\n",
       "       'fuelType', 'image', 'mileage', 'modelDate', 'model_info', 'model_name',\n",
       "       'name', 'numberOfDoors', 'parsing_unixtime', 'priceCurrency',\n",
       "       'productionDate', 'sell_id', 'super_gen', 'vehicleConfiguration',\n",
       "       'vehicleTransmission', 'vendor', 'Владельцы', 'Владение', 'ПТС',\n",
       "       'Привод', 'Руль', 'Состояние', 'Таможня'],\n",
       "      dtype='object')"
      ]
     },
     "execution_count": 21,
     "metadata": {},
     "output_type": "execute_result"
    }
   ],
   "source": [
    "test.columns"
   ]
  },
  {
   "cell_type": "markdown",
   "metadata": {},
   "source": [
    "## Приведение к единому виду"
   ]
  },
  {
   "cell_type": "code",
   "execution_count": 22,
   "metadata": {},
   "outputs": [
    {
     "name": "stdout",
     "output_type": "stream",
     "text": [
      "Wall time: 2min 50s\n"
     ]
    }
   ],
   "source": [
    "%%time \n",
    "externdata_test = externdata_test_unification(test)\n",
    "# externdata_train = externdata_train_unification(df_kaggle)\n",
    "externdata_train_full = externdata_train_unification(df_kaggle_full)"
   ]
  },
  {
   "cell_type": "markdown",
   "metadata": {},
   "source": [
    "## Объединение test и train"
   ]
  },
  {
   "cell_type": "code",
   "execution_count": 23,
   "metadata": {},
   "outputs": [],
   "source": [
    "# externdata_train['sample'] = 1  # помечаем где у нас трейн\n",
    "externdata_train_full['sample'] = 1  # помечаем где у нас трейн\n",
    "externdata_test['sample'] = 0   # помечаем где у нас тест\n",
    "externdata_test['price'] = np.NaN  # в тесте нет значения price -  пока просто заполняем np.NaN\n",
    "# объединяем\n",
    "# externdata = externdata_test.append(externdata_train, sort=False).reset_index(drop=True) \n",
    "externdata_full = externdata_test.append(externdata_train_full, sort=False).reset_index(drop=True) "
   ]
  },
  {
   "cell_type": "markdown",
   "metadata": {},
   "source": [
    "## EDA\n",
    "Разделим признаки на количественные `num_cols` , категориальные `cat_cols` и бинарные `bin_cols`.   \n",
    "К бинарным, очевидно, отнесем признаки с двумя уникальными значениями.  \n",
    "Категориальными признаками будем считать признаки с количеством уникальных значений от 3 до 27 а также очевидно категориальные название модели и марку автомобиля.   \n",
    "Порогом для количественного признака будет наличие более чем 27 уникальных значений. При этом учитываем, что название модели и марку автомобиля из количественных признаков мы исключили.  \n"
   ]
  },
  {
   "cell_type": "code",
   "execution_count": 24,
   "metadata": {},
   "outputs": [
    {
     "data": {
      "text/plain": [
       "bodyType                 <class 'str'>\n",
       "brand                    <class 'str'>\n",
       "color                    <class 'str'>\n",
       "engineDisplacement     <class 'float'>\n",
       "enginePower              <class 'int'>\n",
       "equipment_dict          <class 'list'>\n",
       "fuelType                 <class 'str'>\n",
       "mileage                  <class 'int'>\n",
       "modelDate                <class 'int'>\n",
       "model_name               <class 'str'>\n",
       "numberOfDoors            <class 'int'>\n",
       "productionDate           <class 'int'>\n",
       "vehicleTransmission      <class 'str'>\n",
       "vendor                   <class 'str'>\n",
       "Владельцы              <class 'float'>\n",
       "Владение                 <class 'int'>\n",
       "ПТС                      <class 'str'>\n",
       "Привод                   <class 'str'>\n",
       "Руль                     <class 'str'>\n",
       "sample                   <class 'int'>\n",
       "price                  <class 'float'>\n",
       "dtype: object"
      ]
     },
     "execution_count": 24,
     "metadata": {},
     "output_type": "execute_result"
    }
   ],
   "source": [
    "# Посмотри обьекты какого типа находятся теперь в колонках датасета.\n",
    "externdata_full.apply(lambda x: type(x.iloc[0]))"
   ]
  },
  {
   "cell_type": "markdown",
   "metadata": {},
   "source": [
    "Всё прилично, кроме `equipment_dict`, котрый содержит list опций. На этом этапе приведем этот признак к количеству опций. "
   ]
  },
  {
   "cell_type": "code",
   "execution_count": 25,
   "metadata": {},
   "outputs": [],
   "source": [
    "externdata_full.equipment_dict = externdata_full.equipment_dict.apply(len)"
   ]
  },
  {
   "cell_type": "markdown",
   "metadata": {},
   "source": [
    "Определяем кличество уникальных знчений в каждой колонке и относим признак к соответсвующему типу данных (преобразвание `astype(str)` необходимо для избежания `TypeError: (\"unhashable type: 'list'\", 'occurred at index equipment_dict')`)"
   ]
  },
  {
   "cell_type": "code",
   "execution_count": 26,
   "metadata": {},
   "outputs": [
    {
     "data": {
      "text/plain": [
       "bodyType                  25\n",
       "brand                     36\n",
       "color                     16\n",
       "engineDisplacement        61\n",
       "enginePower              398\n",
       "equipment_dict           114\n",
       "fuelType                   5\n",
       "mileage                24379\n",
       "modelDate                 78\n",
       "model_name              1104\n",
       "numberOfDoors              5\n",
       "productionDate            80\n",
       "vehicleTransmission        4\n",
       "vendor                     3\n",
       "Владельцы                  4\n",
       "Владение                 307\n",
       "ПТС                        3\n",
       "Привод                     3\n",
       "Руль                       2\n",
       "sample                     2\n",
       "price                   8169\n",
       "dtype: int64"
      ]
     },
     "execution_count": 26,
     "metadata": {},
     "output_type": "execute_result"
    }
   ],
   "source": [
    "num_uniq = externdata_full.apply(lambda x: x.astype(str).nunique())\n",
    "num_uniq"
   ]
  },
  {
   "cell_type": "code",
   "execution_count": 27,
   "metadata": {},
   "outputs": [],
   "source": [
    "bin_cols = externdata_full.columns[num_uniq==2].drop('sample')\n",
    "cat_cols = externdata_full.columns[(num_uniq>2) & (num_uniq<28)].append(pd.Index(['model_name','brand'])) \n",
    "num_cols = externdata_full.columns[num_uniq>=28].drop(['model_name','brand','price'])"
   ]
  },
  {
   "cell_type": "markdown",
   "metadata": {},
   "source": [
    "### количественные"
   ]
  },
  {
   "cell_type": "code",
   "execution_count": 29,
   "metadata": {},
   "outputs": [
    {
     "name": "stdout",
     "output_type": "stream",
     "text": [
      "Всего признаков этого типа 7.\n",
      "К ним относятся: engineDisplacement, enginePower, equipment_dict, mileage, modelDate, productionDate, Владение\n"
     ]
    },
    {
     "data": {
      "image/png": "[encoded data removed]",
      "text/plain": [
       "<Figure size 1008x216 with 14 Axes>"
      ]
     },
     "metadata": {
      "needs_background": "light"
     },
     "output_type": "display_data"
    }
   ],
   "source": [
    "nums_visualisation(externdata_full[num_cols],annotation=True)"
   ]
  },
  {
   "cell_type": "markdown",
   "metadata": {},
   "source": [
    "Как видим все количественные признаки имеют скошенное распределение:\n",
    "- **engineDisplacement**, **enginePower**, **equipment_dict**,**mileage** скошены вправо;\n",
    "- **modelDate**, **productionDate** скошены влево.  \n",
    "\n",
    "Поскольку в дальнейшем мы возможно будем среди прочих использовать модели чувствительные к сильно ненормальному распределению признака, то применим к признакам преобразование (`log(x+1)` для скошенных вправо и `log(2022-x)` для сошеных влево).  \n",
    "Посмотрим на результат:"
   ]
  },
  {
   "cell_type": "code",
   "execution_count": 30,
   "metadata": {},
   "outputs": [],
   "source": [
    "def num_visualisation(column,df, left_sloping=False):\n",
    "    '''\n",
    "    Визулизация распределения количественного ризнака:\n",
    "        - гистограмма распределения в валидационной и в полной обучающей выборке \n",
    "        - boxplot распределения в валидационной и в полной обучающей выборке\n",
    "        - гистограмма распределения  в валидационной выборке и в обучающей выборке на марках, \n",
    "        встречающихся в валидационной выборке\n",
    "        - boxplot рапсределения в валидационной выборке и в обучающей выборке на марках, \n",
    "        встречающихся в валидационной выборке\n",
    "    '''\n",
    "    trn = df[df['sample']==1]\n",
    "    tst = df[df['sample']==0]\n",
    "    tst_brands = tst.brand.unique()\n",
    "    brand_mask = [x in tst_brands for x in trn.brand]\n",
    "    trn_ = trn[brand_mask]   \n",
    "    \n",
    "    row_trn = trn[column] \n",
    "    row_tst = tst[column] \n",
    "    row_trn_ = trn_[column]     \n",
    "\n",
    "    if left_sloping: \n",
    "        row_trn = np.log(2022 - row_trn)\n",
    "        row_tst = np.log(2022 - row_tst)\n",
    "        row_trn_ = np.log(2022 - row_trn_)        \n",
    "    else:\n",
    "        row_trn = np.log(row_trn+1)\n",
    "        row_tst = np.log(row_tst+1)\n",
    "        row_trn_ = np.log(row_trn_+1)\n",
    "    \n",
    "    fig = plt.figure(figsize=(14,4))\n",
    "#*******************************************************************\n",
    "    ax1 = fig.add_axes([0, 0.4, 0.45, 1])\n",
    "    plt.title('Распределение '+column+' в train (на всех марках) и в test' )\n",
    "    row_trn.plot.hist(bins=50,density=True,alpha = 0.65)\n",
    "    row_tst.plot.hist(bins=50,density=True,alpha = 0.65)\n",
    "    plt.legend(['train','test']) \n",
    "#*******************************************************************\n",
    "    ax2 = fig.add_axes([0, 0, 0.45, 0.30]) \n",
    "    sns.boxplot(data = [row_trn,row_tst],orient='h',saturation = 0.5)\n",
    "#*******************************************************************\n",
    "    ax3 = fig.add_axes([0.55, 0.4, 0.45, 1])\n",
    "    plt.title('Распределение '+column+' в train (только на марках из test) и в test' )\n",
    "    row_trn_.plot.hist(bins=50,density=True,alpha = 0.65)\n",
    "    row_tst.plot.hist(bins=50,density=True,alpha = 0.65)\n",
    "    plt.legend(['train','test']) \n",
    "#*******************************************************************\n",
    "    ax4 = fig.add_axes([0.55, 0, 0.45, 0.30]) \n",
    "    sns.boxplot(data = [row_trn_,row_tst],orient='h',saturation = 0.5)\n",
    "    plt.show() \n",
    "    \n",
    "def features_price_scatterplot(column):\n",
    "    fig, ax = plt.subplots(1,len(most_popular_brands), figsize=(16, 6))\n",
    "    for i,brand in enumerate(most_popular_brands):\n",
    "        tmp = data[data.brand==brand]\n",
    "        ax[i].scatter(x = tmp[column], y = tmp.offerprice, alpha=0.3)\n",
    "        ax[i].set_title('для автмобилей марки ' + brand)\n",
    "        ax[i].set_xlabel(column)\n",
    "        ax[i].set_ylabel(\"offerprice\")\n",
    "        ax[i].set_yscale( \"log\")\n",
    "    plt.show()"
   ]
  },
  {
   "cell_type": "markdown",
   "metadata": {},
   "source": [
    "Приступим к изучению признаков\n",
    "### engineDisplacement\n",
    "признак описывает обьем двигателя. "
   ]
  },
  {
   "cell_type": "code",
   "execution_count": 32,
   "metadata": {
    "scrolled": true
   },
   "outputs": [
    {
     "data": {
      "image/png": "[encoded data removed]",
      "text/plain": [
       "<Figure size 1008x288 with 4 Axes>"
      ]
     },
     "metadata": {
      "needs_background": "light"
     },
     "output_type": "display_data"
    }
   ],
   "source": [
    "num_visualisation('engineDisplacement',externdata_full)"
   ]
  },
  {
   "cell_type": "code",
   "execution_count": null,
   "metadata": {},
   "outputs": [],
   "source": [
    "features_price_scatterplot()"
   ]
  },
  {
   "cell_type": "code",
   "execution_count": null,
   "metadata": {},
   "outputs": [],
   "source": [
    "features_price_scatterplot"
   ]
  },
  {
   "cell_type": "markdown",
   "metadata": {},
   "source": [
    "### категориальные"
   ]
  },
  {
   "cell_type": "code",
   "execution_count": 12,
   "metadata": {},
   "outputs": [
    {
     "data": {
      "text/plain": [
       "Index(['bodyType', 'color', 'fuelType', 'numberOfDoors', 'vehicleTransmission',\n",
       "       'vendor', 'Владельцы', 'ПТС', 'Привод', 'model_name', 'brand'],\n",
       "      dtype='object')"
      ]
     },
     "execution_count": 12,
     "metadata": {},
     "output_type": "execute_result"
    }
   ],
   "source": [
    "cat_cols"
   ]
  },
  {
   "cell_type": "markdown",
   "metadata": {},
   "source": [
    "### бинарные"
   ]
  },
  {
   "cell_type": "code",
   "execution_count": 13,
   "metadata": {},
   "outputs": [
    {
     "data": {
      "text/plain": [
       "Index(['Руль'], dtype='object')"
      ]
     },
     "execution_count": 13,
     "metadata": {},
     "output_type": "execute_result"
    }
   ],
   "source": [
    "bin_cols"
   ]
  },
  {
   "cell_type": "code",
   "execution_count": null,
   "metadata": {},
   "outputs": [],
   "source": [
    "cat_cols = data.columns[(num_uniq>2) & (num_uniq<28)].append(pd.Index(['model_name','brand'])) "
   ]
  },
  {
   "cell_type": "code",
   "execution_count": null,
   "metadata": {},
   "outputs": [],
   "source": [
    "num_cols = data.columns[num_uniq>=28].drop(time_col).drop(['model_name','brand','price'])"
   ]
  },
  {
   "cell_type": "code",
   "execution_count": null,
   "metadata": {},
   "outputs": [],
   "source": []
  },
  {
   "cell_type": "markdown",
   "metadata": {},
   "source": [
    "# ============================"
   ]
  },
  {
   "cell_type": "code",
   "execution_count": null,
   "metadata": {},
   "outputs": [],
   "source": [
    "externdata_train_full.equipment_dict.apply(len).nunique()"
   ]
  },
  {
   "cell_type": "code",
   "execution_count": null,
   "metadata": {},
   "outputs": [],
   "source": [
    "externdata_full.brand.value_counts()"
   ]
  },
  {
   "cell_type": "code",
   "execution_count": null,
   "metadata": {},
   "outputs": [],
   "source": []
  },
  {
   "cell_type": "code",
   "execution_count": null,
   "metadata": {},
   "outputs": [],
   "source": [
    "%pycat project_7_constants.py"
   ]
  },
  {
   "cell_type": "markdown",
   "metadata": {},
   "source": [
    "%%html\n",
    "<html>\n",
    "<body>\n",
    "<table>\n",
    "        <tr> \n",
    "            <th>Name</th> \n",
    "            <th>Country</th> \n",
    "            <th>Age</th> \n",
    "        </tr> \n",
    "        <tr> \n",
    "            <td>Sid</td> \n",
    "            <td>India</td> \n",
    "            <td>22</td> \n",
    "        </tr>\n",
    "        <tr> \n",
    "            <td>Dave</td> \n",
    "            <td>UK</td> \n",
    "            <td>28</td> \n",
    "        </tr>\n",
    "</table>\n",
    "</body>\n",
    "</html>"
   ]
  },
  {
   "cell_type": "code",
   "execution_count": null,
   "metadata": {},
   "outputs": [],
   "source": [
    "%lsmagic"
   ]
  },
  {
   "cell_type": "code",
   "execution_count": null,
   "metadata": {},
   "outputs": [],
   "source": [
    "%time?"
   ]
  },
  {
   "cell_type": "code",
   "execution_count": null,
   "metadata": {},
   "outputs": [],
   "source": [
    "%%timeit\n",
    "1"
   ]
  },
  {
   "cell_type": "code",
   "execution_count": null,
   "metadata": {},
   "outputs": [],
   "source": [
    "externdata_train_unification(df_kaggle).bodyType.unique()"
   ]
  },
  {
   "cell_type": "code",
   "execution_count": null,
   "metadata": {},
   "outputs": [],
   "source": []
  }
 ],
 "metadata": {
  "kernelspec": {
   "display_name": "Python 3",
   "language": "python",
   "name": "python3"
  },
  "language_info": {
   "codemirror_mode": {
    "name": "ipython",
    "version": 3
   },
   "file_extension": ".py",
   "mimetype": "text/x-python",
   "name": "python",
   "nbconvert_exporter": "python",
   "pygments_lexer": "ipython3",
   "version": "3.7.4"
  }
 },
 "nbformat": 4,
 "nbformat_minor": 2
}
