{
 "cells": [
  {
   "cell_type": "code",
   "execution_count": 4,
   "id": "7596790b",
   "metadata": {},
   "outputs": [],
   "source": [
    "import pandas as pd\n"
   ]
  },
  {
   "cell_type": "markdown",
   "id": "7ba9301a",
   "metadata": {},
   "source": [
    " ## Что такое исключение"
   ]
  },
  {
   "cell_type": "code",
   "execution_count": 3,
   "id": "1ba38d90",
   "metadata": {},
   "outputs": [],
   "source": [
    "def show_fruit(fruit):  \n",
    "    if fruit == \"apple\":  \n",
    "        print(\"Ready to eat\")  \n",
    "    elif fruit == \"orange\":  \n",
    "        print(\"You need to peel first\")  \n",
    "    else:  \n",
    "        raise ValueError(\"You need to pass correct fruit\")   "
   ]
  },
  {
   "cell_type": "code",
   "execution_count": 4,
   "id": "f3d2b59e",
   "metadata": {},
   "outputs": [
    {
     "name": "stdout",
     "output_type": "stream",
     "text": [
      "Ready to eat\n"
     ]
    },
    {
     "ename": "ValueError",
     "evalue": "You need to pass correct fruit",
     "output_type": "error",
     "traceback": [
      "\u001b[1;31m---------------------------------------------------------------------------\u001b[0m",
      "\u001b[1;31mValueError\u001b[0m                                Traceback (most recent call last)",
      "\u001b[1;32m<ipython-input-4-67abb5271869>\u001b[0m in \u001b[0;36m<module>\u001b[1;34m\u001b[0m\n\u001b[0;32m      1\u001b[0m \u001b[0mshow_fruit\u001b[0m\u001b[1;33m(\u001b[0m\u001b[1;34m\"apple\"\u001b[0m\u001b[1;33m)\u001b[0m\u001b[1;33m\u001b[0m\u001b[1;33m\u001b[0m\u001b[0m\n\u001b[0;32m      2\u001b[0m \u001b[1;31m# => ready to eat\u001b[0m\u001b[1;33m\u001b[0m\u001b[1;33m\u001b[0m\u001b[1;33m\u001b[0m\u001b[0m\n\u001b[1;32m----> 3\u001b[1;33m \u001b[0mshow_fruit\u001b[0m\u001b[1;33m(\u001b[0m\u001b[1;34m\"carrot\"\u001b[0m\u001b[1;33m)\u001b[0m\u001b[1;33m\u001b[0m\u001b[1;33m\u001b[0m\u001b[0m\n\u001b[0m",
      "\u001b[1;32m<ipython-input-3-5459a69e7933>\u001b[0m in \u001b[0;36mshow_fruit\u001b[1;34m(fruit)\u001b[0m\n\u001b[0;32m      5\u001b[0m         \u001b[0mprint\u001b[0m\u001b[1;33m(\u001b[0m\u001b[1;34m\"You need to peel first\"\u001b[0m\u001b[1;33m)\u001b[0m\u001b[1;33m\u001b[0m\u001b[1;33m\u001b[0m\u001b[0m\n\u001b[0;32m      6\u001b[0m     \u001b[1;32melse\u001b[0m\u001b[1;33m:\u001b[0m\u001b[1;33m\u001b[0m\u001b[1;33m\u001b[0m\u001b[0m\n\u001b[1;32m----> 7\u001b[1;33m         \u001b[1;32mraise\u001b[0m \u001b[0mValueError\u001b[0m\u001b[1;33m(\u001b[0m\u001b[1;34m\"You need to pass correct fruit\"\u001b[0m\u001b[1;33m)\u001b[0m\u001b[1;33m\u001b[0m\u001b[1;33m\u001b[0m\u001b[0m\n\u001b[0m",
      "\u001b[1;31mValueError\u001b[0m: You need to pass correct fruit"
     ]
    }
   ],
   "source": [
    "show_fruit(\"apple\")  \n",
    "# => ready to eat  \n",
    "show_fruit(\"carrot\")  "
   ]
  },
  {
   "cell_type": "markdown",
   "id": "66cd95fb",
   "metadata": {},
   "source": [
    "В последней строчке у нас добавилось пояснение, что мы передали какой-то некорректный фрукт. В Python достаточно много встроенных типов исключений. Вы можете посмотреть их в [документации](https://docs.python.org/3/library/exceptions.html) к языку и выбирать подходящий по смыслу для вашей ситуации."
   ]
  },
  {
   "cell_type": "markdown",
   "id": "151c84ac",
   "metadata": {},
   "source": [
    "### Задание 2\n",
    "Определите функцию `check_server`, которая принимает на вход переменную `mode`.\n",
    "- Если mode имеет значение \"memory\", программа должна вернуть строку \"Memory is ok\".\n",
    "- Если mode имеет значение \"connection\", программа должна вернуть строку \"Connection is ok\".\n",
    "- Для остальных случае программа должна выбросить исключение ValueError."
   ]
  },
  {
   "cell_type": "code",
   "execution_count": 13,
   "id": "375d3127",
   "metadata": {},
   "outputs": [],
   "source": [
    "def check_server(mode):\n",
    "    if mode==\"memory\": return(\"Memory is ok\")\n",
    "    elif mode==\"connection\":  return(\"Connection is ok\")\n",
    "    else: raise ValueError()"
   ]
  },
  {
   "cell_type": "markdown",
   "id": "602e1fa9",
   "metadata": {},
   "source": [
    "## Обработка исключений"
   ]
  },
  {
   "cell_type": "code",
   "execution_count": 15,
   "id": "d8a2f4c9",
   "metadata": {},
   "outputs": [
    {
     "name": "stdout",
     "output_type": "stream",
     "text": [
      "Oops, key not found\n",
      "End of program\n"
     ]
    }
   ],
   "source": [
    "dictionary = {}  \n",
    "try:  \n",
    "    dictionary[\"no_key\"]  \n",
    "except:  \n",
    "    print(\"Oops, key not found\")  \n",
    "  \n",
    "print(\"End of program\")  \n",
    "# => Oops, key not found  \n",
    "# => End of program  "
   ]
  },
  {
   "cell_type": "markdown",
   "id": "210bdeb4",
   "metadata": {},
   "source": [
    "## Осознанная обработка исключений"
   ]
  },
  {
   "cell_type": "code",
   "execution_count": 16,
   "id": "5d1c2860",
   "metadata": {},
   "outputs": [
    {
     "name": "stdout",
     "output_type": "stream",
     "text": [
      "Oops, key not found\n"
     ]
    }
   ],
   "source": [
    "dictionary = {}  \n",
    "try:  \n",
    "    dictionary[\"no_key\"]  \n",
    "except KeyError:  \n",
    "    print(\"Oops, key not found\")  "
   ]
  },
  {
   "cell_type": "code",
   "execution_count": 17,
   "id": "9d64b068",
   "metadata": {},
   "outputs": [
    {
     "ename": "KeyError",
     "evalue": "'no_key'",
     "output_type": "error",
     "traceback": [
      "\u001b[1;31m---------------------------------------------------------------------------\u001b[0m",
      "\u001b[1;31mKeyError\u001b[0m                                  Traceback (most recent call last)",
      "\u001b[1;32m<ipython-input-17-204f0f88fba9>\u001b[0m in \u001b[0;36m<module>\u001b[1;34m\u001b[0m\n\u001b[0;32m      1\u001b[0m \u001b[0mdictionary\u001b[0m \u001b[1;33m=\u001b[0m \u001b[1;33m{\u001b[0m\u001b[1;33m}\u001b[0m\u001b[1;33m\u001b[0m\u001b[1;33m\u001b[0m\u001b[0m\n\u001b[0;32m      2\u001b[0m \u001b[1;32mtry\u001b[0m\u001b[1;33m:\u001b[0m\u001b[1;33m\u001b[0m\u001b[1;33m\u001b[0m\u001b[0m\n\u001b[1;32m----> 3\u001b[1;33m     \u001b[0mdictionary\u001b[0m\u001b[1;33m[\u001b[0m\u001b[1;34m\"no_key\"\u001b[0m\u001b[1;33m]\u001b[0m\u001b[1;33m\u001b[0m\u001b[1;33m\u001b[0m\u001b[0m\n\u001b[0m\u001b[0;32m      4\u001b[0m \u001b[1;32mexcept\u001b[0m \u001b[0mIOError\u001b[0m\u001b[1;33m:\u001b[0m\u001b[1;33m\u001b[0m\u001b[1;33m\u001b[0m\u001b[0m\n\u001b[0;32m      5\u001b[0m     \u001b[0mprint\u001b[0m\u001b[1;33m(\u001b[0m\u001b[1;34m\"Oops, key not found\"\u001b[0m\u001b[1;33m)\u001b[0m\u001b[1;33m\u001b[0m\u001b[1;33m\u001b[0m\u001b[0m\n",
      "\u001b[1;31mKeyError\u001b[0m: 'no_key'"
     ]
    }
   ],
   "source": [
    "dictionary = {}  \n",
    "try:  \n",
    "    dictionary[\"no_key\"]  \n",
    "except IOError:  \n",
    "    print(\"Oops, key not found\")  "
   ]
  },
  {
   "cell_type": "markdown",
   "id": "90909692",
   "metadata": {},
   "source": [
    "## Иерархия исключений\n",
    "Исключения в Python имеют иерархию: у нас есть более общие и более специфичные исключения. Вот график исключений:\n",
    "\n",
    "![](https://lms.skillfactory.ru/assets/courseware/v1/26c252ee13b222ccb175779fdfb154d9/asset-v1:Skillfactory+DST-PRO+15APR2020+type@asset+block/exception_hierarchy.png)\n",
    "\n",
    "Здесь мы видим, что **KeyError** и **IndexError** являются подмножеством **LookupError**, которая является подмножеством **Exception**. На практике это имеет следующее значение: если мы укажем более верхнеуровневые исключения, то \"отловятся\" все дочерние, но не наоборот."
   ]
  },
  {
   "cell_type": "code",
   "execution_count": 18,
   "id": "5e95a17c",
   "metadata": {},
   "outputs": [],
   "source": [
    "# Напишем функцию, которая может обращаться и к спискам, и к словарям  \n",
    "# при этом не выбрасывая исключение для несуществующих индексов/ключей   \n",
    "def safe_element(collection, place):  \n",
    "    try:  \n",
    "        return(collection[place])  \n",
    "    except LookupError:  \n",
    "        print(\"Key or index not found\")  \n",
    "  "
   ]
  },
  {
   "cell_type": "code",
   "execution_count": 19,
   "id": "bc82c996",
   "metadata": {},
   "outputs": [
    {
     "data": {
      "text/plain": [
       "'Elena'"
      ]
     },
     "execution_count": 19,
     "metadata": {},
     "output_type": "execute_result"
    }
   ],
   "source": [
    "users = [\"Pavel\", \"Elena\", \"Sergey\"]  \n",
    "safe_element(users, 1)  "
   ]
  },
  {
   "cell_type": "code",
   "execution_count": 20,
   "id": "abe51449",
   "metadata": {},
   "outputs": [
    {
     "name": "stdout",
     "output_type": "stream",
     "text": [
      "Key or index not found\n"
     ]
    }
   ],
   "source": [
    "safe_element(users, 3)  "
   ]
  },
  {
   "cell_type": "code",
   "execution_count": 21,
   "id": "8d797f37",
   "metadata": {},
   "outputs": [
    {
     "data": {
      "text/plain": [
       "10"
      ]
     },
     "execution_count": 21,
     "metadata": {},
     "output_type": "execute_result"
    }
   ],
   "source": [
    "prices = {\"apple\": 10, \"orange\": 20}  \n",
    "safe_element(prices, \"apple\")  "
   ]
  },
  {
   "cell_type": "code",
   "execution_count": 22,
   "id": "66aeedc5",
   "metadata": {},
   "outputs": [
    {
     "name": "stdout",
     "output_type": "stream",
     "text": [
      "Key or index not found\n"
     ]
    }
   ],
   "source": [
    "safe_element(prices, \"carrot\")  "
   ]
  },
  {
   "cell_type": "markdown",
   "id": "29ae1110",
   "metadata": {},
   "source": [
    "## Задание 2\n",
    "Напишите программу, которая реализует безопасное сложение двух объектов **x** и **y**.\n",
    "\n",
    "Если объекты не могут быть сложены, функция должна:\n",
    "\n",
    "- Отловить TypeError\n",
    "- Вывести на экран \"Can't sum x and y\", где x и y - переданные объекты\n",
    "- Вернуть 0\n",
    "\n",
    "```python\n",
    "safe_sum(1, 2)\n",
    "# 3\n",
    "```\n",
    ".\n",
    "и\n",
    "\n",
    "```python\n",
    "safe_sum(5, 'a')\n",
    "# => Can't sum 5 and a\n",
    "# 0 \n",
    "```\n",
    "      "
   ]
  },
  {
   "cell_type": "code",
   "execution_count": 14,
   "id": "9b727947",
   "metadata": {},
   "outputs": [],
   "source": [
    "def safe_sum(summand1, summand2):\n",
    "    try:\n",
    "        return summand1 + summand2\n",
    "    except TypeError:\n",
    "        print(f\"Can't sum {summand1} and {summand2}\")\n",
    "        print(\"Can't sum \", repr(summand1), \"and\", repr(summand2))\n",
    "        return 0\n"
   ]
  },
  {
   "cell_type": "code",
   "execution_count": 16,
   "id": "1bf130de",
   "metadata": {},
   "outputs": [
    {
     "name": "stdout",
     "output_type": "stream",
     "text": [
      "Can't sum 1 and 2\n",
      "Can't sum  1 and '2'\n"
     ]
    },
    {
     "data": {
      "text/plain": [
       "0"
      ]
     },
     "execution_count": 16,
     "metadata": {},
     "output_type": "execute_result"
    }
   ],
   "source": [
    "safe_sum(1, '2')"
   ]
  },
  {
   "cell_type": "markdown",
   "id": "b78034ce",
   "metadata": {},
   "source": [
    "Детали **try-except**\n",
    "Мы рассмотрели базовый синтаксис **try-except**, однако у него есть ещё несколько вариаций. Они не часто встречаются на практике, но мы о них расскажем. Иногда в блоке except нам нужен доступ к самому объекту исключения, например, мы хотим получить поясняющее сообщение и вывести его на экран, но при этом продолжить программу дальше. Мы можем это сделать с помощью ключевого слова `as`, за которым идёт имя новой переменной.\n",
    "\n",
    "```python\n",
    "try:  \n",
    "    5/0  \n",
    "except ZeroDivisionError as zero_error:  \n",
    "    # здесь в zero_error мы получаем сам объект исключения  \n",
    "    # print как раз выведет его поясняющее сообщение  \n",
    "    print(zero_error)  \n",
    "  \n",
    "print(\"Program ends correctly\")  \n",
    "```"
   ]
  },
  {
   "cell_type": "code",
   "execution_count": 147,
   "id": "d4bdd12f",
   "metadata": {},
   "outputs": [
    {
     "name": "stdout",
     "output_type": "stream",
     "text": [
      "division by zero\n",
      "Program ends correctly\n"
     ]
    }
   ],
   "source": [
    "try:  \n",
    "    5/0  \n",
    "except ZeroDivisionError as zero_error:  \n",
    "    # здесь в zero_error мы получаем сам объект исключения  \n",
    "    # print как раз выведет его поясняющее сообщение  \n",
    "    print(zero_error)  \n",
    "\n",
    "print(\"Program ends correctly\")  "
   ]
  },
  {
   "cell_type": "markdown",
   "id": "3655d992",
   "metadata": {},
   "source": [
    "Ещё один распространённый подход: мы совершаем какое-то промежуточное действие, а потом перевыбрасываем исключение.\n",
    "```python\n",
    "# Пусть у нас есть функция, которая шлёт емейл разработчику об ошибке  \n",
    "def notify_admin(error):  \n",
    "    print(\"Mail to administrator has been sent about\", error)  \n",
    "      \n",
    "value = \"poem\"  \n",
    "try:  \n",
    "    digitized = int(value)  \n",
    "except ValueError as digitized_error:  \n",
    "    notify_admin(digitized_error)  \n",
    "    raise digitized_error  \n",
    "```"
   ]
  },
  {
   "cell_type": "code",
   "execution_count": 2,
   "id": "89d4c225",
   "metadata": {},
   "outputs": [
    {
     "name": "stdout",
     "output_type": "stream",
     "text": [
      "Mail to administrator has been sent about invalid literal for int() with base 10: 'poem'\n"
     ]
    },
    {
     "ename": "ValueError",
     "evalue": "invalid literal for int() with base 10: 'poem'",
     "output_type": "error",
     "traceback": [
      "\u001b[1;31m---------------------------------------------------------------------------\u001b[0m",
      "\u001b[1;31mValueError\u001b[0m                                Traceback (most recent call last)",
      "\u001b[1;32m<ipython-input-2-68c09c4195f5>\u001b[0m in \u001b[0;36m<module>\u001b[1;34m\u001b[0m\n\u001b[0;32m      7\u001b[0m \u001b[1;32mexcept\u001b[0m \u001b[0mValueError\u001b[0m \u001b[1;32mas\u001b[0m \u001b[0mdigitized_error\u001b[0m\u001b[1;33m:\u001b[0m\u001b[1;33m\u001b[0m\u001b[1;33m\u001b[0m\u001b[0m\n\u001b[0;32m      8\u001b[0m     \u001b[0mnotify_admin\u001b[0m\u001b[1;33m(\u001b[0m\u001b[0mdigitized_error\u001b[0m\u001b[1;33m)\u001b[0m\u001b[1;33m\u001b[0m\u001b[1;33m\u001b[0m\u001b[0m\n\u001b[1;32m----> 9\u001b[1;33m     \u001b[1;32mraise\u001b[0m \u001b[0mdigitized_error\u001b[0m\u001b[1;33m\u001b[0m\u001b[1;33m\u001b[0m\u001b[0m\n\u001b[0m",
      "\u001b[1;32m<ipython-input-2-68c09c4195f5>\u001b[0m in \u001b[0;36m<module>\u001b[1;34m\u001b[0m\n\u001b[0;32m      4\u001b[0m \u001b[0mvalue\u001b[0m \u001b[1;33m=\u001b[0m \u001b[1;34m\"poem\"\u001b[0m\u001b[1;33m\u001b[0m\u001b[1;33m\u001b[0m\u001b[0m\n\u001b[0;32m      5\u001b[0m \u001b[1;32mtry\u001b[0m\u001b[1;33m:\u001b[0m\u001b[1;33m\u001b[0m\u001b[1;33m\u001b[0m\u001b[0m\n\u001b[1;32m----> 6\u001b[1;33m     \u001b[0mdigitized\u001b[0m \u001b[1;33m=\u001b[0m \u001b[0mint\u001b[0m\u001b[1;33m(\u001b[0m\u001b[0mvalue\u001b[0m\u001b[1;33m)\u001b[0m\u001b[1;33m\u001b[0m\u001b[1;33m\u001b[0m\u001b[0m\n\u001b[0m\u001b[0;32m      7\u001b[0m \u001b[1;32mexcept\u001b[0m \u001b[0mValueError\u001b[0m \u001b[1;32mas\u001b[0m \u001b[0mdigitized_error\u001b[0m\u001b[1;33m:\u001b[0m\u001b[1;33m\u001b[0m\u001b[1;33m\u001b[0m\u001b[0m\n\u001b[0;32m      8\u001b[0m     \u001b[0mnotify_admin\u001b[0m\u001b[1;33m(\u001b[0m\u001b[0mdigitized_error\u001b[0m\u001b[1;33m)\u001b[0m\u001b[1;33m\u001b[0m\u001b[1;33m\u001b[0m\u001b[0m\n",
      "\u001b[1;31mValueError\u001b[0m: invalid literal for int() with base 10: 'poem'"
     ]
    }
   ],
   "source": [
    "def notify_admin(error):  \n",
    "    print(\"Mail to administrator has been sent about\", error)  \n",
    "\n",
    "value = \"poem\"  \n",
    "try:  \n",
    "    digitized = int(value)  \n",
    "except ValueError as digitized_error:  \n",
    "    notify_admin(digitized_error)  \n",
    "    raise digitized_error  "
   ]
  },
  {
   "cell_type": "markdown",
   "id": "3c40708a",
   "metadata": {},
   "source": [
    "Обратите внимание, что в начале ошибки есть уведомление о том, что email отправлен. Еще одна полезная функция: для одного try вы можете писать сразу много except на разные исключения.\n",
    "\n",
    "```python\n",
    "try:  \n",
    "    # открываем файл и считываем строку  \n",
    "    data_file = open(\"valuble_data.txt\")  \n",
    "    s = data_file.readline()  \n",
    "    # пробуем преобразовать её в число  \n",
    "    i = float(s.strip())  \n",
    "except OSError as err:  \n",
    "    # если файла нет или его не удаётся прочитать, мы получил ошибку операционной системы   \n",
    "    print(\"OS error: {0}\".format(err))  \n",
    "except ValueError:  \n",
    "    # если данные не преобразуется в число, мы получим ValueError  \n",
    "    print(\"Could not convert data to float\")  \n",
    "```"
   ]
  },
  {
   "cell_type": "markdown",
   "id": "259a3099",
   "metadata": {},
   "source": [
    "## Отладка: введение\n",
    "Для примеров в этом разделе мы будем использовать [датасет](https://lms.skillfactory.ru/assets/courseware/v1/afb771041483f365e873e8625d02f792/asset-v1:Skillfactory+DST-PRO+15APR2020+type@asset+block/imdb.csv) о фильмах с imdb. В датасете указана основная информация: сборы, год выпуска и т.д. Первые строки датасета:"
   ]
  },
  {
   "cell_type": "code",
   "execution_count": 106,
   "id": "2015a3aa",
   "metadata": {},
   "outputs": [
    {
     "data": {
      "text/html": [
       "<div>\n",
       "<style scoped>\n",
       "    .dataframe tbody tr th:only-of-type {\n",
       "        vertical-align: middle;\n",
       "    }\n",
       "\n",
       "    .dataframe tbody tr th {\n",
       "        vertical-align: top;\n",
       "    }\n",
       "\n",
       "    .dataframe thead th {\n",
       "        text-align: right;\n",
       "    }\n",
       "</style>\n",
       "<table border=\"1\" class=\"dataframe\">\n",
       "  <thead>\n",
       "    <tr style=\"text-align: right;\">\n",
       "      <th></th>\n",
       "      <th>Rank</th>\n",
       "      <th>Title</th>\n",
       "      <th>Genre</th>\n",
       "      <th>Description</th>\n",
       "      <th>Director</th>\n",
       "      <th>Actors</th>\n",
       "      <th>Year</th>\n",
       "      <th>Runtime (Minutes)</th>\n",
       "      <th>Rating</th>\n",
       "      <th>Votes</th>\n",
       "      <th>Revenue (Millions)</th>\n",
       "      <th>Metascore</th>\n",
       "    </tr>\n",
       "  </thead>\n",
       "  <tbody>\n",
       "    <tr>\n",
       "      <th>0</th>\n",
       "      <td>1</td>\n",
       "      <td>Guardians of the Galaxy</td>\n",
       "      <td>Action,Adventure,Sci-Fi</td>\n",
       "      <td>A group of intergalactic criminals are forced ...</td>\n",
       "      <td>James Gunn</td>\n",
       "      <td>Chris Pratt, Vin Diesel, Bradley Cooper, Zoe S...</td>\n",
       "      <td>2014</td>\n",
       "      <td>121</td>\n",
       "      <td>8.1</td>\n",
       "      <td>757074</td>\n",
       "      <td>333.13</td>\n",
       "      <td>76.0</td>\n",
       "    </tr>\n",
       "    <tr>\n",
       "      <th>1</th>\n",
       "      <td>2</td>\n",
       "      <td>Prometheus</td>\n",
       "      <td>Adventure,Mystery,Sci-Fi</td>\n",
       "      <td>Following clues to the origin of mankind, a te...</td>\n",
       "      <td>Ridley Scott</td>\n",
       "      <td>Noomi Rapace, Logan Marshall-Green, Michael Fa...</td>\n",
       "      <td>2012</td>\n",
       "      <td>124</td>\n",
       "      <td>7.0</td>\n",
       "      <td>485820</td>\n",
       "      <td>126.46</td>\n",
       "      <td>65.0</td>\n",
       "    </tr>\n",
       "    <tr>\n",
       "      <th>2</th>\n",
       "      <td>3</td>\n",
       "      <td>Split</td>\n",
       "      <td>Horror,Thriller</td>\n",
       "      <td>Three girls are kidnapped by a man with a diag...</td>\n",
       "      <td>M. Night Shyamalan</td>\n",
       "      <td>James McAvoy, Anya Taylor-Joy, Haley Lu Richar...</td>\n",
       "      <td>2016</td>\n",
       "      <td>117</td>\n",
       "      <td>7.3</td>\n",
       "      <td>157606</td>\n",
       "      <td>138.12</td>\n",
       "      <td>62.0</td>\n",
       "    </tr>\n",
       "  </tbody>\n",
       "</table>\n",
       "</div>"
      ],
      "text/plain": [
       "   Rank                    Title                     Genre  \\\n",
       "0     1  Guardians of the Galaxy   Action,Adventure,Sci-Fi   \n",
       "1     2               Prometheus  Adventure,Mystery,Sci-Fi   \n",
       "2     3                    Split           Horror,Thriller   \n",
       "\n",
       "                                         Description            Director  \\\n",
       "0  A group of intergalactic criminals are forced ...          James Gunn   \n",
       "1  Following clues to the origin of mankind, a te...        Ridley Scott   \n",
       "2  Three girls are kidnapped by a man with a diag...  M. Night Shyamalan   \n",
       "\n",
       "                                              Actors  Year  Runtime (Minutes)  \\\n",
       "0  Chris Pratt, Vin Diesel, Bradley Cooper, Zoe S...  2014                121   \n",
       "1  Noomi Rapace, Logan Marshall-Green, Michael Fa...  2012                124   \n",
       "2  James McAvoy, Anya Taylor-Joy, Haley Lu Richar...  2016                117   \n",
       "\n",
       "   Rating   Votes  Revenue (Millions)  Metascore  \n",
       "0     8.1  757074              333.13       76.0  \n",
       "1     7.0  485820              126.46       65.0  \n",
       "2     7.3  157606              138.12       62.0  "
      ]
     },
     "execution_count": 106,
     "metadata": {},
     "output_type": "execute_result"
    }
   ],
   "source": [
    "imdb_data = pd.read_csv('./Unit_7_data/imdb.csv')\n",
    "imdb_data.head(3)"
   ]
  },
  {
   "cell_type": "code",
   "execution_count": null,
   "id": "3e2c80f9",
   "metadata": {},
   "outputs": [],
   "source": [
    "### Задание\n",
    "В каком году вышел фильм Suicide Squad, информация о котором есть в датасете imdb?"
   ]
  },
  {
   "cell_type": "code",
   "execution_count": 9,
   "id": "6387ebb8",
   "metadata": {},
   "outputs": [
    {
     "data": {
      "text/plain": [
       "4    2016\n",
       "Name: Year, dtype: int64"
      ]
     },
     "execution_count": 9,
     "metadata": {},
     "output_type": "execute_result"
    }
   ],
   "source": [
    "data.Year[data.Title=='Suicide Squad']"
   ]
  },
  {
   "cell_type": "markdown",
   "id": "3cd99f2c",
   "metadata": {},
   "source": [
    "## Задание 2\n",
    "У вас есть функция, которая должна убирать дубликаты из списка и сохранять при этом порядок:\n",
    "\n",
    "```\n",
    "remove_dups([1, 12, 4, 1, 4, 8])\n",
    "# => [1, 12, 4, 8]\n",
    "```\n",
    "    \n",
    "Сейчас она не очень хорошо написана и возвращает исключение: исправьте её\n",
    "\n",
    "```python\n",
    "from copy import copy\n",
    "\n",
    "def remove_dups(values):\n",
    "    values = copy(values)\n",
    "    for i in range(len(values)):\n",
    "        if values[i+1] in values[i:]:\n",
    "            values.remove(values[i])\n",
    "    return values\n",
    "```"
   ]
  },
  {
   "cell_type": "code",
   "execution_count": 102,
   "id": "652ab7b8",
   "metadata": {},
   "outputs": [],
   "source": [
    "def remove_dups(values):\n",
    "    values = values[::-1]\n",
    "    for i in range(len(values)-1,0,-1):\n",
    "        if values[i] in values[:i]:\n",
    "            values.remove(values[i])\n",
    "    return values[::-1]"
   ]
  },
  {
   "cell_type": "code",
   "execution_count": 104,
   "id": "a7315316",
   "metadata": {},
   "outputs": [
    {
     "data": {
      "text/plain": [
       "[1, 12, 4, 8]"
      ]
     },
     "execution_count": 104,
     "metadata": {},
     "output_type": "execute_result"
    }
   ],
   "source": [
    "remove_dups([1, 12, 4, 1, 4, 8])"
   ]
  },
  {
   "cell_type": "markdown",
   "id": "4a141ed1",
   "metadata": {},
   "source": [
    "# Отлов багов\n",
    "Чтобы поставить программу на паузу в определённом месте, вызовите метод set_trace на этой строчке:\n",
    "\n",
    "```python\n",
    "import pdb; pdb.set_trace()  \n",
    "```\n",
    "Когда вы запустите программу и интерпретатор дойдёт до этой строчки, у вас откроется интерактивная консоль.\n",
    "\n",
    "Возможности дебаггера:\n",
    "- возможно выполнение любого корректного кода в нём: вывести значения любой доступной переменной, метод `locals()` выведет локальные переменные;\n",
    "- `PP` позволяет вывести словари и их объекты, что упрощает чтение;\n",
    "- перемещение по коду: `next` выполнит следующую строку, `return` выполнит весь код до конца текущей функции и вернёт интерактивную консоль на следующей строчке, `continue` выйдет из интерактивного режима и продолжит программу.\n"
   ]
  },
  {
   "cell_type": "code",
   "execution_count": 109,
   "id": "8a84f04a",
   "metadata": {},
   "outputs": [
    {
     "name": "stdout",
     "output_type": "stream",
     "text": [
      "> \u001b[1;32m<ipython-input-109-39f860d5dc7c>\u001b[0m(9)\u001b[0;36mcount_genres\u001b[1;34m()\u001b[0m\n",
      "\u001b[1;32m      7 \u001b[1;33m    \u001b[1;31m# ставим брейкпоинт в этом месте\u001b[0m\u001b[1;33m\u001b[0m\u001b[1;33m\u001b[0m\u001b[1;33m\u001b[0m\u001b[0m\n",
      "\u001b[0m\u001b[1;32m      8 \u001b[1;33m    \u001b[0mpdb\u001b[0m\u001b[1;33m.\u001b[0m\u001b[0mset_trace\u001b[0m\u001b[1;33m(\u001b[0m\u001b[1;33m)\u001b[0m\u001b[1;33m\u001b[0m\u001b[1;33m\u001b[0m\u001b[0m\n",
      "\u001b[0m\u001b[1;32m----> 9 \u001b[1;33m    \u001b[1;32mfor\u001b[0m \u001b[0mmovie_genres\u001b[0m \u001b[1;32min\u001b[0m \u001b[0mcolumn\u001b[0m\u001b[1;33m:\u001b[0m\u001b[1;33m\u001b[0m\u001b[1;33m\u001b[0m\u001b[0m\n",
      "\u001b[0m\u001b[1;32m     10 \u001b[1;33m        \u001b[0msplitted\u001b[0m \u001b[1;33m=\u001b[0m \u001b[0mmovie_genres\u001b[0m\u001b[1;33m.\u001b[0m\u001b[0msplit\u001b[0m\u001b[1;33m(\u001b[0m\u001b[1;34m\",\"\u001b[0m\u001b[1;33m)\u001b[0m\u001b[1;33m\u001b[0m\u001b[1;33m\u001b[0m\u001b[0m\n",
      "\u001b[0m\u001b[1;32m     11 \u001b[1;33m        \u001b[0mgenres\u001b[0m\u001b[1;33m.\u001b[0m\u001b[0mextend\u001b[0m\u001b[1;33m(\u001b[0m\u001b[0msplitted\u001b[0m\u001b[1;33m)\u001b[0m\u001b[1;33m\u001b[0m\u001b[1;33m\u001b[0m\u001b[0m\n",
      "\u001b[0m\n",
      "ipdb> continue\n",
      "Counter({'Drama': 501, 'Action': 296, 'Comedy': 277, 'Adventure': 254, 'Thriller': 189, 'Crime': 146, 'Romance': 138, 'Sci-Fi': 117, 'Horror': 117, 'Mystery': 103, 'Fantasy': 100, 'Biography': 80, 'Family': 51, 'Animation': 49, 'History': 26, 'Sport': 18, 'Music': 16, 'War': 13, 'Western': 7, 'Musical': 5})\n"
     ]
    }
   ],
   "source": [
    "from collections import Counter  \n",
    "import pdb  \n",
    "  \n",
    "  \n",
    "def count_genres(column):  \n",
    "    genres = []  \n",
    "    # ставим брейкпоинт в этом месте  \n",
    "    pdb.set_trace()  \n",
    "    for movie_genres in column:  \n",
    "        splitted = movie_genres.split(\",\")  \n",
    "        genres.extend(splitted)  \n",
    "    counter = Counter(genres)  \n",
    "      \n",
    "    return counter   \n",
    "   \n",
    "print(count_genres(imdb_data[\"Genre\"]))  "
   ]
  },
  {
   "cell_type": "markdown",
   "id": "aed7307c",
   "metadata": {},
   "source": [
    "## Задание\n",
    "У нас есть функция `group_values(db, value_key, group_key, step)`. Она должна группировать объекты из `db` по ключу `group_key` с шагом `step`. В результат попадает только значение аттрибута `value_key`.\n",
    "\n",
    "Это похоже на гистограмму, когда мы раскладываем значения по корзинам определённого размера. Скажем, у нас есть пользователи:\n",
    "```python\n",
    "   user_db = [\n",
    "    {\"name\": \"Elena\", \"age\": 19, \"salary\": 80000},\n",
    "    {\"name\": \"Sergey\", \"age\": 31, \"salary\": 160000},\n",
    "    {\"name\": \"Olga\", \"age\": 33, \"salary\": 170000},\n",
    "    {\"name\": \"Vadim\", \"age\": 17, \"salary\": 45000}\n",
    "]\n",
    "```\n",
    "Мы хотим сгруппировать их зарплаты(**salary**) по возрасту(**age**) с шагом в **10 лет**. Получится\n",
    "```python\n",
    "group_values(user_db, \"salary\", \"age\", 10)\n",
    "# => \n",
    "# {\n",
    "#     10: [80000, 45000],\n",
    "#     30: [160000, 170000]\n",
    "# }\n",
    "```\n",
    "    \n",
    "Обратите внимание. Функция должна возвращать словарь, по ключам которого расположены списки.\n",
    "Сейчас функция возвращает что-то не то. Исправьте это, пользуясь **pdb**. Для этого вам нужно скопировать код на свой компьютер и запустить либо в Python, либо в Jupyter. Входной формат именно такой, как указан в примере **user_db**\n",
    "```python\n",
    "from collections import defaultdict\n",
    "\n",
    "def group_values(db, value_key, group_key, step):\n",
    "    grouped = defaultdict(list) \n",
    "    for item in db:\n",
    "        grouped[item[group_key] % step].append(item[value_key])\n",
    "    return grouped\n",
    "```    "
   ]
  },
  {
   "cell_type": "code",
   "execution_count": 120,
   "id": "e80216db",
   "metadata": {},
   "outputs": [],
   "source": [
    "   user_db = [\n",
    "    {\"name\": \"Elena\", \"age\": 19, \"salary\": 80000},\n",
    "    {\"name\": \"Sergey\", \"age\": 31, \"salary\": 160000},\n",
    "    {\"name\": \"Olga\", \"age\": 33, \"salary\": 170000},\n",
    "    {\"name\": \"Vadim\", \"age\": 17, \"salary\": 45000}\n",
    "]"
   ]
  },
  {
   "cell_type": "code",
   "execution_count": 134,
   "id": "bb40e8ec",
   "metadata": {},
   "outputs": [],
   "source": [
    "from collections import defaultdict\n",
    "\n",
    "def group_values(db, value_key, group_key, step):\n",
    "    grouped = defaultdict(list) \n",
    "    for item in db:\n",
    "        grouped[(item[group_key]//step)*step].append(item[value_key])\n",
    "    return dict(grouped)"
   ]
  },
  {
   "cell_type": "code",
   "execution_count": 133,
   "id": "0dab3a0f",
   "metadata": {},
   "outputs": [
    {
     "data": {
      "text/plain": [
       "{10: [80000, 45000], 30: [160000, 170000]}"
      ]
     },
     "execution_count": 133,
     "metadata": {},
     "output_type": "execute_result"
    }
   ],
   "source": [
    "group_values(user_db, \"salary\", \"age\", 10)"
   ]
  },
  {
   "cell_type": "markdown",
   "id": "b20ce102",
   "metadata": {},
   "source": [
    "# Автоматическое тестирование\n",
    "Сложности, которые могут возникнуть  с ручным тестированием, может решить автоматическое тестирование. В разделе отладки мы говорили, что нужно анализировать поток данных: что поступает на вход и получается на выходе; на это и нацелены тесты функций.\n",
    "\n",
    "Воспользуемся библиотекой `pytest`, которая позволяет определять тесты и используется в крупных проектах. Документацию к библиотеке можно посмотреть [здесь](https://docs.pytest.org/en/latest/). \n",
    "\n",
    "Запустилось три теста (collected 3 items), и все три корректно отработали (3 passed):\n",
    "```python\n",
    "# Чтобы написать тест, мы должны определить функцию, имя которой начинается на test_  \n",
    "# после этого мы используем ключевое слово assert, которое проверят, является ли истинным значение сразу за ним  \n",
    "def test_something():  \n",
    "    assert True  \n",
    "      \n",
    "def test_equal_string():  \n",
    "    greetings = \"Hello, \" +  \"world\"  \n",
    "    assert greetings == \"Hello, world\"  \n",
    "  \n",
    "def test_numbers():  \n",
    "    total = 73 + 42  \n",
    "    assert total == 115  \n",
    "```"
   ]
  },
  {
   "cell_type": "markdown",
   "id": "f3806371",
   "metadata": {},
   "source": [
    "Сами тесты мы пишем в отдельном файле с расширением .py. Тесты (функции) прописываем сами, они обязательно должны начинаться с ключевого слова test (для библиотеки pytest).\n",
    "Процесс тестирования заключается в том, что мы запускаем файл с расширением .py в котором содержатся наши функции с помощью утилиты pytest в командной строке.\n",
    "Процесс тестирования можно выполнить и в Jupiter. Для этого вы создаете файл с расширением .py рядом с вашим ноутбуком (файлом в котором вы работаете). Далее заходите в ноутбук и прописываете команду !pytest имя_файла.py - через ! вы показываете, что используете ячейку как терминал.\n",
    "Однако удобнее всего тесты проводить в PyCharm или VsCode (смотря, где вам привычнее работать). Вы так же создаете в своем проекте файл с тестами-функциями и запускаете этот файл через pytest через командную строку, встроенную в PyCharm.\n",
    "Если вы все же захотите подробнее познакомиться с темой автоматического тестирования, то предлагаю вам посмотреть видео:\n",
    "https://www.youtube.com/watch?v=Sxiwo1pAZos"
   ]
  },
  {
   "cell_type": "code",
   "execution_count": 136,
   "id": "5f31bb23",
   "metadata": {},
   "outputs": [
    {
     "name": "stdout",
     "output_type": "stream",
     "text": [
      "============================= test session starts =============================\n",
      "platform win32 -- Python 3.8.8, pytest-6.2.3, py-1.10.0, pluggy-0.13.1\n",
      "rootdir: C:\\Users\\Manych\\projects\\skillfactory_rds\\Unit_7\n",
      "plugins: anyio-2.2.0\n",
      "collected 3 items\n",
      "\n",
      "test_sample.py ...                                                       [100%]\n",
      "\n",
      "============================== warnings summary ===============================\n",
      "..\\..\\..\\anaconda3\\lib\\site-packages\\pyreadline\\py3k_compat.py:8\n",
      "  C:\\Users\\Manych\\anaconda3\\lib\\site-packages\\pyreadline\\py3k_compat.py:8: DeprecationWarning: Using or importing the ABCs from 'collections' instead of from 'collections.abc' is deprecated since Python 3.3, and in 3.9 it will stop working\n",
      "    return isinstance(x, collections.Callable)\n",
      "\n",
      "-- Docs: https://docs.pytest.org/en/stable/warnings.html\n",
      "======================== 3 passed, 1 warning in 0.05s =========================\n"
     ]
    }
   ],
   "source": [
    " !pytest test_sample.py"
   ]
  },
  {
   "cell_type": "markdown",
   "id": "0637c0e3",
   "metadata": {},
   "source": [
    "У нас две проблемы с данными в столбце:\n",
    "- численные данные заведены строкой, так что мы не можем выполнять арифметические операции;\n",
    "- в данных есть пропуски, например, не у всех фильмов есть оценка с metascore.  \n",
    "\n",
    "Напишем и протестируем функцию, которая это исправляет. Все тесты проходят, всё корректно работает:"
   ]
  },
  {
   "cell_type": "code",
   "execution_count": 140,
   "id": "08263022",
   "metadata": {},
   "outputs": [
    {
     "name": "stdout",
     "output_type": "stream",
     "text": [
      "============================= test session starts =============================\n",
      "platform win32 -- Python 3.8.8, pytest-6.2.3, py-1.10.0, pluggy-0.13.1\n",
      "rootdir: C:\\Users\\Manych\\projects\\skillfactory_rds\\Unit_7\n",
      "plugins: anyio-2.2.0\n",
      "collected 3 items\n",
      "\n",
      "digitize.py ...                                                          [100%]\n",
      "\n",
      "============================== warnings summary ===============================\n",
      "..\\..\\..\\anaconda3\\lib\\site-packages\\pyreadline\\py3k_compat.py:8\n",
      "  C:\\Users\\Manych\\anaconda3\\lib\\site-packages\\pyreadline\\py3k_compat.py:8: DeprecationWarning: Using or importing the ABCs from 'collections' instead of from 'collections.abc' is deprecated since Python 3.3, and in 3.9 it will stop working\n",
      "    return isinstance(x, collections.Callable)\n",
      "\n",
      "-- Docs: https://docs.pytest.org/en/stable/warnings.html\n",
      "======================== 3 passed, 1 warning in 0.06s =========================\n"
     ]
    }
   ],
   "source": [
    "!pytest digitize.py"
   ]
  },
  {
   "cell_type": "markdown",
   "id": "850ffc0e",
   "metadata": {},
   "source": [
    "## Задание\n",
    "У нас есть четыре функции. Какие из них являются корректными тестами в pytest?\n",
    "```python\n",
    "# 1\n",
    "def apply_test():\n",
    "    test_str = \"quick brown fox\"\n",
    "    assert test_str[::-1] == \"xof nworb kciuq\" \n",
    "\n",
    "# 2\n",
    "def test_value():\n",
    "    assert 3 + 3 == 6\n",
    "\n",
    "# 3\n",
    "def test_reverse():\n",
    "    assert not False \n",
    "\n",
    "# 4\n",
    "def test_list:\n",
    "    assertion 5 in [1, 2, 5]\n",
    "```"
   ]
  },
  {
   "cell_type": "code",
   "execution_count": 143,
   "id": "41df54bd",
   "metadata": {},
   "outputs": [
    {
     "name": "stdout",
     "output_type": "stream",
     "text": [
      "============================= test session starts =============================\n",
      "platform win32 -- Python 3.8.8, pytest-6.2.3, py-1.10.0, pluggy-0.13.1\n",
      "rootdir: C:\\Users\\Manych\\projects\\skillfactory_rds\\Unit_7\n",
      "plugins: anyio-2.2.0\n",
      "collected 3 items\n",
      "\n",
      "task.py ...                                                              [100%]\n",
      "\n",
      "============================== warnings summary ===============================\n",
      "..\\..\\..\\anaconda3\\lib\\site-packages\\pyreadline\\py3k_compat.py:8\n",
      "  C:\\Users\\Manych\\anaconda3\\lib\\site-packages\\pyreadline\\py3k_compat.py:8: DeprecationWarning: Using or importing the ABCs from 'collections' instead of from 'collections.abc' is deprecated since Python 3.3, and in 3.9 it will stop working\n",
      "    return isinstance(x, collections.Callable)\n",
      "\n",
      "-- Docs: https://docs.pytest.org/en/stable/warnings.html\n",
      "======================== 3 passed, 1 warning in 0.04s =========================\n"
     ]
    }
   ],
   "source": [
    "!pytest task.py"
   ]
  },
  {
   "cell_type": "markdown",
   "id": "2d0926a6",
   "metadata": {},
   "source": [
    "# Тесты\n",
    "## Задание 2\n",
    "Напишите функцию `safe_exec(ext_func)`, которая получает на вход функцию `func` и пробует её выполнить.\n",
    "\n",
    "Если `func` выбрасывает исключение, то `safe_exec` выводит поясняющее сообщение этого исключения и возвращает 0.\n",
    "\n",
    "Если func завершается корректно, то мы возращаем результат выполнения функции.\n",
    "\n",
    "```python\n",
    "def zero_div():\n",
    "    return 5/0\n",
    "safe_exec(zero_div)\n",
    "=> division by zero\n",
    "=> 0\n",
    "\n",
    "def normal_div():\n",
    "    return 5/1\n",
    "safe_exec(normal_div)\n",
    "=> 5\n",
    "```"
   ]
  },
  {
   "cell_type": "code",
   "execution_count": 149,
   "id": "ec7e121a",
   "metadata": {},
   "outputs": [],
   "source": [
    "def safe_exec(ext_func):\n",
    "    try:\n",
    "        return ext_func()\n",
    "    except Exception as Exc:\n",
    "        print(Exc)\n",
    "        return 0"
   ]
  },
  {
   "cell_type": "code",
   "execution_count": 150,
   "id": "6fe8f867",
   "metadata": {},
   "outputs": [],
   "source": [
    "def zero_div():\n",
    "    return 5/0\n",
    "def normal_div():\n",
    "    return 5/1"
   ]
  },
  {
   "cell_type": "code",
   "execution_count": 151,
   "id": "3125d924",
   "metadata": {},
   "outputs": [
    {
     "name": "stdout",
     "output_type": "stream",
     "text": [
      "division by zero\n"
     ]
    },
    {
     "data": {
      "text/plain": [
       "0"
      ]
     },
     "execution_count": 151,
     "metadata": {},
     "output_type": "execute_result"
    }
   ],
   "source": [
    "safe_exec(zero_div)"
   ]
  },
  {
   "cell_type": "code",
   "execution_count": 152,
   "id": "27a6a56d",
   "metadata": {},
   "outputs": [
    {
     "data": {
      "text/plain": [
       "5.0"
      ]
     },
     "execution_count": 152,
     "metadata": {},
     "output_type": "execute_result"
    }
   ],
   "source": [
    "safe_exec(normal_div)"
   ]
  }
 ],
 "metadata": {
  "kernelspec": {
   "display_name": "Python 3",
   "language": "python",
   "name": "python3"
  },
  "language_info": {
   "codemirror_mode": {
    "name": "ipython",
    "version": 3
   },
   "file_extension": ".py",
   "mimetype": "text/x-python",
   "name": "python",
   "nbconvert_exporter": "python",
   "pygments_lexer": "ipython3",
   "version": "3.8.8"
  }
 },
 "nbformat": 4,
 "nbformat_minor": 5
}
