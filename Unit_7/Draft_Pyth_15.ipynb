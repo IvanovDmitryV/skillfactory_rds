{
 "cells": [
  {
   "cell_type": "code",
   "execution_count": 1,
   "id": "7596790b",
   "metadata": {},
   "outputs": [],
   "source": [
    "import pandas as pd\n"
   ]
  },
  {
   "cell_type": "markdown",
   "id": "7ba9301a",
   "metadata": {},
   "source": [
    " ## Что такое исключение"
   ]
  },
  {
   "cell_type": "code",
   "execution_count": 3,
   "id": "1ba38d90",
   "metadata": {},
   "outputs": [],
   "source": [
    "def show_fruit(fruit):  \n",
    "    if fruit == \"apple\":  \n",
    "        print(\"Ready to eat\")  \n",
    "    elif fruit == \"orange\":  \n",
    "        print(\"You need to peel first\")  \n",
    "    else:  \n",
    "        raise ValueError(\"You need to pass correct fruit\")   "
   ]
  },
  {
   "cell_type": "code",
   "execution_count": 4,
   "id": "f3d2b59e",
   "metadata": {},
   "outputs": [
    {
     "name": "stdout",
     "output_type": "stream",
     "text": [
      "Ready to eat\n"
     ]
    },
    {
     "ename": "ValueError",
     "evalue": "You need to pass correct fruit",
     "output_type": "error",
     "traceback": [
      "\u001b[1;31m---------------------------------------------------------------------------\u001b[0m",
      "\u001b[1;31mValueError\u001b[0m                                Traceback (most recent call last)",
      "\u001b[1;32m<ipython-input-4-67abb5271869>\u001b[0m in \u001b[0;36m<module>\u001b[1;34m\u001b[0m\n\u001b[0;32m      1\u001b[0m \u001b[0mshow_fruit\u001b[0m\u001b[1;33m(\u001b[0m\u001b[1;34m\"apple\"\u001b[0m\u001b[1;33m)\u001b[0m\u001b[1;33m\u001b[0m\u001b[1;33m\u001b[0m\u001b[0m\n\u001b[0;32m      2\u001b[0m \u001b[1;31m# => ready to eat\u001b[0m\u001b[1;33m\u001b[0m\u001b[1;33m\u001b[0m\u001b[1;33m\u001b[0m\u001b[0m\n\u001b[1;32m----> 3\u001b[1;33m \u001b[0mshow_fruit\u001b[0m\u001b[1;33m(\u001b[0m\u001b[1;34m\"carrot\"\u001b[0m\u001b[1;33m)\u001b[0m\u001b[1;33m\u001b[0m\u001b[1;33m\u001b[0m\u001b[0m\n\u001b[0m",
      "\u001b[1;32m<ipython-input-3-5459a69e7933>\u001b[0m in \u001b[0;36mshow_fruit\u001b[1;34m(fruit)\u001b[0m\n\u001b[0;32m      5\u001b[0m         \u001b[0mprint\u001b[0m\u001b[1;33m(\u001b[0m\u001b[1;34m\"You need to peel first\"\u001b[0m\u001b[1;33m)\u001b[0m\u001b[1;33m\u001b[0m\u001b[1;33m\u001b[0m\u001b[0m\n\u001b[0;32m      6\u001b[0m     \u001b[1;32melse\u001b[0m\u001b[1;33m:\u001b[0m\u001b[1;33m\u001b[0m\u001b[1;33m\u001b[0m\u001b[0m\n\u001b[1;32m----> 7\u001b[1;33m         \u001b[1;32mraise\u001b[0m \u001b[0mValueError\u001b[0m\u001b[1;33m(\u001b[0m\u001b[1;34m\"You need to pass correct fruit\"\u001b[0m\u001b[1;33m)\u001b[0m\u001b[1;33m\u001b[0m\u001b[1;33m\u001b[0m\u001b[0m\n\u001b[0m",
      "\u001b[1;31mValueError\u001b[0m: You need to pass correct fruit"
     ]
    }
   ],
   "source": [
    "show_fruit(\"apple\")  \n",
    "# => ready to eat  \n",
    "show_fruit(\"carrot\")  "
   ]
  },
  {
   "cell_type": "markdown",
   "id": "66cd95fb",
   "metadata": {},
   "source": [
    "В последней строчке у нас добавилось пояснение, что мы передали какой-то некорректный фрукт. В Python достаточно много встроенных типов исключений. Вы можете посмотреть их в [документации](https://docs.python.org/3/library/exceptions.html) к языку и выбирать подходящий по смыслу для вашей ситуации."
   ]
  },
  {
   "cell_type": "markdown",
   "id": "151c84ac",
   "metadata": {},
   "source": [
    "### Задание 2\n",
    "Определите функцию `check_server`, которая принимает на вход переменную `mode`.\n",
    "- Если mode имеет значение \"memory\", программа должна вернуть строку \"Memory is ok\".\n",
    "- Если mode имеет значение \"connection\", программа должна вернуть строку \"Connection is ok\".\n",
    "- Для остальных случае программа должна выбросить исключение ValueError."
   ]
  },
  {
   "cell_type": "code",
   "execution_count": 13,
   "id": "375d3127",
   "metadata": {},
   "outputs": [],
   "source": [
    "def check_server(mode):\n",
    "    if mode==\"memory\": return(\"Memory is ok\")\n",
    "    elif mode==\"connection\":  return(\"Connection is ok\")\n",
    "    else: raise ValueError()"
   ]
  },
  {
   "cell_type": "markdown",
   "id": "602e1fa9",
   "metadata": {},
   "source": [
    "## Обработка исключений"
   ]
  },
  {
   "cell_type": "code",
   "execution_count": 15,
   "id": "d8a2f4c9",
   "metadata": {},
   "outputs": [
    {
     "name": "stdout",
     "output_type": "stream",
     "text": [
      "Oops, key not found\n",
      "End of program\n"
     ]
    }
   ],
   "source": [
    "dictionary = {}  \n",
    "try:  \n",
    "    dictionary[\"no_key\"]  \n",
    "except:  \n",
    "    print(\"Oops, key not found\")  \n",
    "  \n",
    "print(\"End of program\")  \n",
    "# => Oops, key not found  \n",
    "# => End of program  "
   ]
  },
  {
   "cell_type": "markdown",
   "id": "210bdeb4",
   "metadata": {},
   "source": [
    "## Осознанная обработка исключений"
   ]
  },
  {
   "cell_type": "code",
   "execution_count": 16,
   "id": "5d1c2860",
   "metadata": {},
   "outputs": [
    {
     "name": "stdout",
     "output_type": "stream",
     "text": [
      "Oops, key not found\n"
     ]
    }
   ],
   "source": [
    "dictionary = {}  \n",
    "try:  \n",
    "    dictionary[\"no_key\"]  \n",
    "except KeyError:  \n",
    "    print(\"Oops, key not found\")  "
   ]
  },
  {
   "cell_type": "code",
   "execution_count": 17,
   "id": "9d64b068",
   "metadata": {},
   "outputs": [
    {
     "ename": "KeyError",
     "evalue": "'no_key'",
     "output_type": "error",
     "traceback": [
      "\u001b[1;31m---------------------------------------------------------------------------\u001b[0m",
      "\u001b[1;31mKeyError\u001b[0m                                  Traceback (most recent call last)",
      "\u001b[1;32m<ipython-input-17-204f0f88fba9>\u001b[0m in \u001b[0;36m<module>\u001b[1;34m\u001b[0m\n\u001b[0;32m      1\u001b[0m \u001b[0mdictionary\u001b[0m \u001b[1;33m=\u001b[0m \u001b[1;33m{\u001b[0m\u001b[1;33m}\u001b[0m\u001b[1;33m\u001b[0m\u001b[1;33m\u001b[0m\u001b[0m\n\u001b[0;32m      2\u001b[0m \u001b[1;32mtry\u001b[0m\u001b[1;33m:\u001b[0m\u001b[1;33m\u001b[0m\u001b[1;33m\u001b[0m\u001b[0m\n\u001b[1;32m----> 3\u001b[1;33m     \u001b[0mdictionary\u001b[0m\u001b[1;33m[\u001b[0m\u001b[1;34m\"no_key\"\u001b[0m\u001b[1;33m]\u001b[0m\u001b[1;33m\u001b[0m\u001b[1;33m\u001b[0m\u001b[0m\n\u001b[0m\u001b[0;32m      4\u001b[0m \u001b[1;32mexcept\u001b[0m \u001b[0mIOError\u001b[0m\u001b[1;33m:\u001b[0m\u001b[1;33m\u001b[0m\u001b[1;33m\u001b[0m\u001b[0m\n\u001b[0;32m      5\u001b[0m     \u001b[0mprint\u001b[0m\u001b[1;33m(\u001b[0m\u001b[1;34m\"Oops, key not found\"\u001b[0m\u001b[1;33m)\u001b[0m\u001b[1;33m\u001b[0m\u001b[1;33m\u001b[0m\u001b[0m\n",
      "\u001b[1;31mKeyError\u001b[0m: 'no_key'"
     ]
    }
   ],
   "source": [
    "dictionary = {}  \n",
    "try:  \n",
    "    dictionary[\"no_key\"]  \n",
    "except IOError:  \n",
    "    print(\"Oops, key not found\")  "
   ]
  },
  {
   "cell_type": "markdown",
   "id": "90909692",
   "metadata": {},
   "source": [
    "## Иерархия исключений\n",
    "Исключения в Python имеют иерархию: у нас есть более общие и более специфичные исключения. Вот график исключений:\n",
    "\n",
    "![](https://lms.skillfactory.ru/assets/courseware/v1/26c252ee13b222ccb175779fdfb154d9/asset-v1:Skillfactory+DST-PRO+15APR2020+type@asset+block/exception_hierarchy.png)\n",
    "\n",
    "Здесь мы видим, что **KeyError** и **IndexError** являются подмножеством **LookupError**, которая является подмножеством **Exception**. На практике это имеет следующее значение: если мы укажем более верхнеуровневые исключения, то \"отловятся\" все дочерние, но не наоборот."
   ]
  },
  {
   "cell_type": "code",
   "execution_count": 18,
   "id": "5e95a17c",
   "metadata": {},
   "outputs": [],
   "source": [
    "# Напишем функцию, которая может обращаться и к спискам, и к словарям  \n",
    "# при этом не выбрасывая исключение для несуществующих индексов/ключей   \n",
    "def safe_element(collection, place):  \n",
    "    try:  \n",
    "        return(collection[place])  \n",
    "    except LookupError:  \n",
    "        print(\"Key or index not found\")  \n",
    "  "
   ]
  },
  {
   "cell_type": "code",
   "execution_count": 19,
   "id": "bc82c996",
   "metadata": {},
   "outputs": [
    {
     "data": {
      "text/plain": [
       "'Elena'"
      ]
     },
     "execution_count": 19,
     "metadata": {},
     "output_type": "execute_result"
    }
   ],
   "source": [
    "users = [\"Pavel\", \"Elena\", \"Sergey\"]  \n",
    "safe_element(users, 1)  "
   ]
  },
  {
   "cell_type": "code",
   "execution_count": 20,
   "id": "abe51449",
   "metadata": {},
   "outputs": [
    {
     "name": "stdout",
     "output_type": "stream",
     "text": [
      "Key or index not found\n"
     ]
    }
   ],
   "source": [
    "safe_element(users, 3)  "
   ]
  },
  {
   "cell_type": "code",
   "execution_count": 21,
   "id": "8d797f37",
   "metadata": {},
   "outputs": [
    {
     "data": {
      "text/plain": [
       "10"
      ]
     },
     "execution_count": 21,
     "metadata": {},
     "output_type": "execute_result"
    }
   ],
   "source": [
    "prices = {\"apple\": 10, \"orange\": 20}  \n",
    "safe_element(prices, \"apple\")  "
   ]
  },
  {
   "cell_type": "code",
   "execution_count": 22,
   "id": "66aeedc5",
   "metadata": {},
   "outputs": [
    {
     "name": "stdout",
     "output_type": "stream",
     "text": [
      "Key or index not found\n"
     ]
    }
   ],
   "source": [
    "safe_element(prices, \"carrot\")  "
   ]
  },
  {
   "cell_type": "markdown",
   "id": "29ae1110",
   "metadata": {},
   "source": [
    "## Задание 2\n",
    "Напишите программу, которая реализует безопасное сложение двух объектов **x** и **y**.\n",
    "\n",
    "Если объекты не могут быть сложены, функция должна:\n",
    "\n",
    "- Отловить TypeError\n",
    "- Вывести на экран \"Can't sum x and y\", где x и y - переданные объекты\n",
    "- Вернуть 0\n",
    "\n",
    "```python\n",
    "safe_sum(1, 2)\n",
    "# 3\n",
    "```\n",
    ".\n",
    "и\n",
    "\n",
    "```python\n",
    "safe_sum(5, 'a')\n",
    "# => Can't sum 5 and a\n",
    "# 0 \n",
    "```\n",
    "      "
   ]
  },
  {
   "cell_type": "code",
   "execution_count": 37,
   "id": "9b727947",
   "metadata": {},
   "outputs": [],
   "source": [
    "def safe_sum(summand1, summand2):\n",
    "    try:\n",
    "        return summand1 + summand2\n",
    "    except TypeError:\n",
    "        print(f\"Can't sum {summand1} and {summand2}\")\n",
    "        return 0\n"
   ]
  },
  {
   "cell_type": "code",
   "execution_count": 39,
   "id": "1bf130de",
   "metadata": {},
   "outputs": [
    {
     "name": "stdout",
     "output_type": "stream",
     "text": [
      "Can't sum 1 and asd\n"
     ]
    },
    {
     "data": {
      "text/plain": [
       "0"
      ]
     },
     "execution_count": 39,
     "metadata": {},
     "output_type": "execute_result"
    }
   ],
   "source": [
    "safe_sum(1, 'asd')"
   ]
  },
  {
   "cell_type": "code",
   "execution_count": null,
   "id": "042f1ced",
   "metadata": {},
   "outputs": [],
   "source": []
  },
  {
   "cell_type": "code",
   "execution_count": null,
   "id": "7f5d86f6",
   "metadata": {},
   "outputs": [],
   "source": []
  },
  {
   "cell_type": "code",
   "execution_count": null,
   "id": "6387ebb8",
   "metadata": {},
   "outputs": [],
   "source": []
  }
 ],
 "metadata": {
  "kernelspec": {
   "display_name": "Python 3",
   "language": "python",
   "name": "python3"
  },
  "language_info": {
   "codemirror_mode": {
    "name": "ipython",
    "version": 3
   },
   "file_extension": ".py",
   "mimetype": "text/x-python",
   "name": "python",
   "nbconvert_exporter": "python",
   "pygments_lexer": "ipython3",
   "version": "3.8.8"
  }
 },
 "nbformat": 4,
 "nbformat_minor": 5
}
