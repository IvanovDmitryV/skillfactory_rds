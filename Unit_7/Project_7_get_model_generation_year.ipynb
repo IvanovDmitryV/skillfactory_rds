{
 "cells": [
  {
   "cell_type": "code",
   "execution_count": 5,
   "id": "8fc76501",
   "metadata": {},
   "outputs": [],
   "source": [
    "import pandas as pd\n",
    "import re\n",
    "import time\n",
    "\n",
    "from selenium import webdriver\n",
    "from selenium.webdriver.chrome.service import Service\n",
    "from bs4 import BeautifulSoup\n",
    "\n",
    "service=Service('C:/Users/Manych/chromium/chromedriver.exe')"
   ]
  },
  {
   "cell_type": "code",
   "execution_count": 8,
   "id": "2f003fc8",
   "metadata": {},
   "outputs": [],
   "source": [
    "def get_marks_models():\n",
    "    '''\n",
    "    возврашщает pd.Series в котором \n",
    "    индекс - название марки автомобиоя, \n",
    "    значения - списки названий моделей для каждой маркию\n",
    "    \n",
    "    '''\n",
    "    url_for_marks_models = 'https://auto.ru/catalog/cars/all/'\n",
    "    marks_models = pd.Series() \n",
    "\n",
    "    driver = webdriver.Chrome(service=service)  # открываем driver\n",
    "    driver.maximize_window()                    # масксимизируем окно\n",
    "\n",
    "    for pages_num in range(1,20):\n",
    "        \n",
    "        if pages_num==1: url = url_for_marks_models + '?view_type=list'\n",
    "        else:            url = url_for_marks_models + '?page_num='+ str(pages_num) +'&view_type=list'\n",
    "        \n",
    "        driver.get(url)                         # открываем страницу по url\n",
    "        res = driver.execute_script(\"return document.body.innerHTML;\") # получаем html\n",
    "        soup = BeautifulSoup(res, 'html.parser') # создаем обьект bs4.BeautifulSoup\n",
    "        \n",
    "        # Список html-ек перечня моделей каждой марки на странице:\n",
    "        marks_on_page_list = soup.find_all('dd', class_='catalog-all-text-list__desc') \n",
    "    \n",
    "        if not marks_on_page_list: \n",
    "            break\n",
    "        \n",
    "        for mark in marks_on_page_list:\n",
    "            models_of_mark = mark.find_all('a', class_='link_theme_auto') # список html-ек моделей марки\n",
    "        \n",
    "            link_for_mark_name = models_of_mark[0].get('href')  # линк первой модели, содержит обозначене марки на auto.ru\n",
    "            mark_start = link_for_mark_name.find('cars/') + 5   # первый символ обозначеня марки\n",
    "            mark_end = link_for_mark_name.find('/', mark_start) # последний символ обозначения марки\n",
    "            mark_name = link_for_mark_name[mark_start:mark_end].upper() # получение обозначения марки  \n",
    "        \n",
    "            models_list = []\n",
    "            for model in models_of_mark:\n",
    "                link_theme_auto = model.get('href')                 # линк модели, содержит обозначение модели на auto.ru\n",
    "                model_start = mark_end+1                            # первый символ обозначения модели\n",
    "                model_end = link_theme_auto.find('/', model_start)  # последний символ обозначения модели\n",
    "                model_name = link_theme_auto[model_start:model_end].upper() # получение обозначения модели\n",
    "                models_list.append(model_name)\n",
    "                \n",
    "            marks_models[mark_name] = models_list\n",
    "        \n",
    "        time.sleep(1) \n",
    "    # Закрываем процесс браузера:\n",
    "    driver.quit()\n",
    "    \n",
    "    return marks_models\n",
    "\n",
    "def get_generation_year(model_url):\n",
    "    '''\n",
    "    возврашщает pd.DataFrame  в котором: \n",
    "        full_name - полное название модели с указанием поколения, \n",
    "        bodytype - тип кузова поколения модели\n",
    "        generation_year - год начала выпуска поколения\n",
    "        \n",
    "    model_url - ссылка на страницу со списокм поколений модели\n",
    "    \n",
    "    '''\n",
    "    driver.get(model_url+'?output_type=models_list') # открываем страницу по url\n",
    "    \n",
    "    models_list_res = driver.execute_script(\"return document.body.innerHTML;\") # получаем html        \n",
    "    \n",
    "    # создаем обьект bs4.BeautifulSoup из html: \n",
    "    models_list_bs = BeautifulSoup(models_list_res, 'html.parser') \n",
    "    \n",
    "    # получаем список html-ек описаний для всех поколений модели  \n",
    "    posting_tag = models_list_bs.find_all('h3',class_ = \"ListingItemGroup__title\")\n",
    "    \n",
    "    # формируем списки с указанием поколения модели, типом кузова поколения и годом начала выпуска поколения\n",
    "    # (необходимость указания типа кузова вызвана тем, что разные кузова зачастую переходят на следующее \n",
    "    #  поколение в разные годы)\n",
    "    data = [\n",
    "    [tag.find('a',class_ = 'ListingItemTitle__link').text,             # поколение\n",
    "     tag.find('div',class_ = \"ListingItemGroup__subtitle\").text[:      # кузов\n",
    "                tag.find('div',class_ = \"ListingItemGroup__subtitle\").text.find(' •')],\n",
    "     int(tag.find('div',class_ = \"ListingItemGroup__subtitle\").text    # год\n",
    "                [tag.find('div',class_ = \"ListingItemGroup__subtitle\").text.find('(')+1:\n",
    "                 tag.find('div',class_ = \"ListingItemGroup__subtitle\").text.find('(')+5])] \n",
    "        for tag in posting_tag]\n",
    "    \n",
    "    result = pd.DataFrame(data,columns = ['full_name','bodytype','generation_year'])\n",
    "    \n",
    "    return result \n",
    "\n",
    "def get_model_generation_year(marks_models_for_parsing):\n",
    "    '''\n",
    "    возврашщает pd.DataFrame  в котором: \n",
    "        full_name - полное название марки и модели с указанием поколения \n",
    "        bodytype - тип кузова поколения модели\n",
    "        generation_year - год начала выпуска поколения\n",
    "    \n",
    "    marks_models_for_parsing - pd.Series в котором\n",
    "        индекс: марка автомобиля\n",
    "        значение: список моделей данной марки\n",
    "    '''\n",
    "    driver = webdriver.Chrome(service=service)  # запускаем процесс браузера\n",
    "    driver.maximize_window()                    # масксимизируем окно    \n",
    "    \n",
    "    model_generation_year = pd.DataFrame(columns = ['full_name','bodytype','generation_year'])\n",
    "    \n",
    "    for mark in marks_models_for_parsing.index:\n",
    "        print(mark, end=' | ')\n",
    "        for model in marks_models_for_parsing[mark]:\n",
    "            model_url = 'https://auto.ru/moskva/cars/' + mark.lower() + '/' + model.lower() + '/used/'\n",
    "            tmp = get_generation_year(model_url)\n",
    "            model_generation_year = model_generation_year.append(tmp)\n",
    "            time.sleep(1)\n",
    "            \n",
    "    driver.quit()    # закрываем процесс браузера\n",
    "    \n",
    "    return model_generation_year"
   ]
  },
  {
   "cell_type": "code",
   "execution_count": 9,
   "id": "f29d4ab6",
   "metadata": {},
   "outputs": [
    {
     "name": "stderr",
     "output_type": "stream",
     "text": [
      "<ipython-input-8-1f609f36d03a>:9: DeprecationWarning: The default dtype for empty Series will be 'object' instead of 'float64' in a future version. Specify a dtype explicitly to silence this warning.\n",
      "  marks_models = pd.Series()\n"
     ]
    },
    {
     "name": "stdout",
     "output_type": "stream",
     "text": [
      "Wall time: 1min\n"
     ]
    }
   ],
   "source": [
    "%%time\n",
    "marks_models = get_marks_models()"
   ]
  },
  {
   "cell_type": "code",
   "execution_count": 10,
   "id": "a7c59c75",
   "metadata": {},
   "outputs": [],
   "source": [
    "marks_for_parsing = ['SKODA', 'AUDI', 'HONDA', 'VOLVO', 'BMW', 'NISSAN', 'INFINITI',\n",
    "       'MERCEDES', 'TOYOTA', 'LEXUS', 'VOLKSWAGEN', 'MITSUBISHI']\n",
    "marks_models_for_parsing = marks_models.loc[marks_for_parsing]"
   ]
  },
  {
   "cell_type": "code",
   "execution_count": 10,
   "id": "80de861b",
   "metadata": {},
   "outputs": [
    {
     "name": "stdout",
     "output_type": "stream",
     "text": [
      "SKODA | AUDI | HONDA | VOLVO | BMW | NISSAN | INFINITI | MERCEDES | TOYOTA | LEXUS | VOLKSWAGEN | MITSUBISHI | Wall time: 1h 23min 54s\n"
     ]
    }
   ],
   "source": [
    "%%time\n",
    "model_generation_year_all =  get_model_generation_year(marks_models_for_parsing)"
   ]
  },
  {
   "cell_type": "code",
   "execution_count": 15,
   "id": "3bef77b8",
   "metadata": {},
   "outputs": [],
   "source": [
    "# model_generation_year_all.to_csv('./Project_6_data/model_generation_year_all.csv',index=False)\n",
    "model_generation_year_all = pd.read_csv('./Project_6_data/model_generation_year_all.csv')"
   ]
  },
  {
   "cell_type": "code",
   "execution_count": 16,
   "id": "644ba3f4",
   "metadata": {},
   "outputs": [
    {
     "data": {
      "text/html": [
       "<div>\n",
       "<style scoped>\n",
       "    .dataframe tbody tr th:only-of-type {\n",
       "        vertical-align: middle;\n",
       "    }\n",
       "\n",
       "    .dataframe tbody tr th {\n",
       "        vertical-align: top;\n",
       "    }\n",
       "\n",
       "    .dataframe thead th {\n",
       "        text-align: right;\n",
       "    }\n",
       "</style>\n",
       "<table border=\"1\" class=\"dataframe\">\n",
       "  <thead>\n",
       "    <tr style=\"text-align: right;\">\n",
       "      <th></th>\n",
       "      <th>full_name</th>\n",
       "      <th>bodytype</th>\n",
       "      <th>generation_year</th>\n",
       "    </tr>\n",
       "  </thead>\n",
       "  <tbody>\n",
       "    <tr>\n",
       "      <th>0</th>\n",
       "      <td>Skoda Fabia II</td>\n",
       "      <td>хэтчбек 5 дв.</td>\n",
       "      <td>2007</td>\n",
       "    </tr>\n",
       "    <tr>\n",
       "      <th>1</th>\n",
       "      <td>Skoda Fabia II Рестайлинг</td>\n",
       "      <td>хэтчбек 5 дв.</td>\n",
       "      <td>2010</td>\n",
       "    </tr>\n",
       "    <tr>\n",
       "      <th>2</th>\n",
       "      <td>Skoda Fabia II</td>\n",
       "      <td>универсал 5 дв.</td>\n",
       "      <td>2007</td>\n",
       "    </tr>\n",
       "    <tr>\n",
       "      <th>3</th>\n",
       "      <td>Skoda Fabia I Рестайлинг</td>\n",
       "      <td>хэтчбек 5 дв.</td>\n",
       "      <td>2005</td>\n",
       "    </tr>\n",
       "    <tr>\n",
       "      <th>4</th>\n",
       "      <td>Skoda Fabia I</td>\n",
       "      <td>хэтчбек 5 дв.</td>\n",
       "      <td>2001</td>\n",
       "    </tr>\n",
       "    <tr>\n",
       "      <th>5</th>\n",
       "      <td>Skoda Fabia I</td>\n",
       "      <td>седан</td>\n",
       "      <td>2002</td>\n",
       "    </tr>\n",
       "    <tr>\n",
       "      <th>6</th>\n",
       "      <td>Skoda Fabia I</td>\n",
       "      <td>универсал 5 дв.</td>\n",
       "      <td>2000</td>\n",
       "    </tr>\n",
       "    <tr>\n",
       "      <th>7</th>\n",
       "      <td>Skoda Fabia II Рестайлинг</td>\n",
       "      <td>универсал 5 дв.</td>\n",
       "      <td>2010</td>\n",
       "    </tr>\n",
       "    <tr>\n",
       "      <th>8</th>\n",
       "      <td>Skoda Fabia I Рестайлинг</td>\n",
       "      <td>универсал 5 дв.</td>\n",
       "      <td>2005</td>\n",
       "    </tr>\n",
       "    <tr>\n",
       "      <th>9</th>\n",
       "      <td>Skoda Fabia RS II</td>\n",
       "      <td>универсал 5 дв.</td>\n",
       "      <td>2010</td>\n",
       "    </tr>\n",
       "    <tr>\n",
       "      <th>10</th>\n",
       "      <td>Skoda Fabia RS II</td>\n",
       "      <td>хэтчбек 5 дв.</td>\n",
       "      <td>2011</td>\n",
       "    </tr>\n",
       "    <tr>\n",
       "      <th>11</th>\n",
       "      <td>Skoda Felicia I</td>\n",
       "      <td>хэтчбек 5 дв.</td>\n",
       "      <td>1995</td>\n",
       "    </tr>\n",
       "    <tr>\n",
       "      <th>12</th>\n",
       "      <td>Skoda Felicia I</td>\n",
       "      <td>универсал 5 дв.</td>\n",
       "      <td>1996</td>\n",
       "    </tr>\n",
       "    <tr>\n",
       "      <th>13</th>\n",
       "      <td>Skoda Felicia I Рестайлинг</td>\n",
       "      <td>хэтчбек 5 дв.</td>\n",
       "      <td>1998</td>\n",
       "    </tr>\n",
       "    <tr>\n",
       "      <th>14</th>\n",
       "      <td>Skoda Felicia I Рестайлинг</td>\n",
       "      <td>универсал 5 дв.</td>\n",
       "      <td>1998</td>\n",
       "    </tr>\n",
       "  </tbody>\n",
       "</table>\n",
       "</div>"
      ],
      "text/plain": [
       "                     full_name         bodytype  generation_year\n",
       "0               Skoda Fabia II    хэтчбек 5 дв.             2007\n",
       "1    Skoda Fabia II Рестайлинг    хэтчбек 5 дв.             2010\n",
       "2               Skoda Fabia II  универсал 5 дв.             2007\n",
       "3     Skoda Fabia I Рестайлинг    хэтчбек 5 дв.             2005\n",
       "4                Skoda Fabia I    хэтчбек 5 дв.             2001\n",
       "5                Skoda Fabia I            седан             2002\n",
       "6                Skoda Fabia I  универсал 5 дв.             2000\n",
       "7    Skoda Fabia II Рестайлинг  универсал 5 дв.             2010\n",
       "8     Skoda Fabia I Рестайлинг  универсал 5 дв.             2005\n",
       "9            Skoda Fabia RS II  универсал 5 дв.             2010\n",
       "10           Skoda Fabia RS II    хэтчбек 5 дв.             2011\n",
       "11             Skoda Felicia I    хэтчбек 5 дв.             1995\n",
       "12             Skoda Felicia I  универсал 5 дв.             1996\n",
       "13  Skoda Felicia I Рестайлинг    хэтчбек 5 дв.             1998\n",
       "14  Skoda Felicia I Рестайлинг  универсал 5 дв.             1998"
      ]
     },
     "execution_count": 16,
     "metadata": {},
     "output_type": "execute_result"
    }
   ],
   "source": [
    "model_generation_year_all.head(15)"
   ]
  },
  {
   "cell_type": "code",
   "execution_count": null,
   "id": "610f941b",
   "metadata": {},
   "outputs": [],
   "source": []
  },
  {
   "cell_type": "code",
   "execution_count": null,
   "id": "18b733d3",
   "metadata": {},
   "outputs": [],
   "source": []
  },
  {
   "cell_type": "code",
   "execution_count": 12,
   "id": "79b2f785",
   "metadata": {},
   "outputs": [
    {
     "data": {
      "text/plain": [
       "['FABIA',\n",
       " 'FABIA_RS',\n",
       " 'FELICIA',\n",
       " 'FORMAN',\n",
       " 'KAROQ',\n",
       " 'KODIAQ',\n",
       " 'OCTAVIA',\n",
       " 'OCTAVIA_RS',\n",
       " 'RAPID',\n",
       " 'ROOMSTER',\n",
       " 'SUPERB',\n",
       " 'YETI']"
      ]
     },
     "execution_count": 12,
     "metadata": {},
     "output_type": "execute_result"
    }
   ],
   "source": [
    "marks_models_for_parsing.SKODA         "
   ]
  },
  {
   "cell_type": "markdown",
   "id": "ece8fb18",
   "metadata": {},
   "source": [
    "# =============================================="
   ]
  },
  {
   "cell_type": "markdown",
   "id": "1cf78296",
   "metadata": {},
   "source": [
    "def get_generation_year(model_url):\n",
    "    '''\n",
    "    возврашщает pd.DataFrame  в котором: \n",
    "        full_name - полное название модели с указанием поколения, \n",
    "        bodytype - тип кузова поколения модели\n",
    "        generation_year - год начала выпуска поколения\n",
    "        \n",
    "    model_url - ссылка на страницу со списокм поколений модели\n",
    "    \n",
    "    '''        \n",
    "    # получем html \n",
    "    models_list_res = requests.get(model_url+'?output_type=models_list')\n",
    "    models_list_res.encoding = 'utf-8'\n",
    "\n",
    "    # создаем обьект bs4.BeautifulSoup из html \n",
    "    models_list_bs = BeautifulSoup(models_list_res.text, 'html.parser') \n",
    "    \n",
    "    # получаем список html-ек описаний для всех поколений модели  \n",
    "    posting_tag = models_list_bs.find_all('div',class_ = \"ListingItemGroup\")\n",
    "    \n",
    "    # формируем списки с указанием поколения модели, типом кузова поколения и годом начала выпуска поколения\n",
    "    # (необходимость указания типа кузова вызвана тем, что разные кузова зачастую переходят на следующее \n",
    "    #  поколение в разные годы)\n",
    "    data = [\n",
    "    [tag.find('a',class_ = 'ListingItemTitle-module__link').text,             # поколение\n",
    "     tag.find('div',class_ = \"ListingItemTitle-module__subtitle\").text[:      # кузов\n",
    "                tag.find('div',class_ = \"ListingItemTitle-module__subtitle\").text.find(' •')],\n",
    "     int(tag.find('div',class_ = \"ListingItemTitle-module__subtitle\").text    # год\n",
    "                [tag.find('div',class_ = \"ListingItemTitle-module__subtitle\").text.find('(')+1:\n",
    "                 tag.find('div',class_ = \"ListingItemTitle-module__subtitle\").text.find('(')+5])] \n",
    "        for tag in posting_tag]\n",
    "    \n",
    "    result = pd.DataFrame(data,columns = ['full_name','bodytype','generation_year'])\n",
    "\n",
    "    return result"
   ]
  },
  {
   "cell_type": "code",
   "execution_count": null,
   "id": "f00cb619",
   "metadata": {},
   "outputs": [],
   "source": [
    "# mark = 'BMW'\n",
    "# model = '5ER'\n",
    "# model_url = 'https://auto.ru/moskva/cars/' + mark.lower() + '/' + model.lower() + '/used/'\n",
    "# model_url+'?output_type=models_list'"
   ]
  },
  {
   "cell_type": "code",
   "execution_count": null,
   "id": "d345d0ad",
   "metadata": {},
   "outputs": [],
   "source": [
    "# marks_models = get_marks_models()"
   ]
  },
  {
   "cell_type": "code",
   "execution_count": null,
   "id": "25a3c7a2",
   "metadata": {},
   "outputs": [],
   "source": [
    "def getHumanName(url: str) -> str:\n",
    "    try:\n",
    "        soup = BeautifulSoup(\n",
    "            requests.get(url).content.decode('utf-8'),'html.parser'\n",
    "        )\n",
    "        name = list(\n",
    "            soup.find('div', class_='CardBreadcrumbs').children\n",
    "        )\n",
    "        name = name[-2].get_text()\n",
    "    except:\n",
    "        name = np.nan\n",
    "    time.sleep(0.1)\n",
    "    return name"
   ]
  },
  {
   "cell_type": "markdown",
   "id": "0bf25cc7",
   "metadata": {},
   "source": [
    "# ========== PARALLEL =============="
   ]
  },
  {
   "cell_type": "code",
   "execution_count": null,
   "id": "34551abf",
   "metadata": {},
   "outputs": [],
   "source": [
    "n_rec = [300, 500, 750, 1000]\n",
    "n_jobs = [10, 15, 20, 25, 30, 35, 40]\n",
    "dur = {}\n",
    "for rec in n_rec:\n",
    "    urls = data_test.car_url.sample(rec).tolist()\n",
    "    delta = []\n",
    "    for num in n_jobs:\n",
    "        start = time.time()\n",
    "        name_lst = Parallel(n_jobs=num)(delayed(getHumanName)(url) for url in urls)\n",
    "        fin = time.time()\n",
    "        delta.append(round(fin - start, 0))\n",
    "    dur[rec] = delta"
   ]
  },
  {
   "cell_type": "code",
   "execution_count": 2,
   "id": "c62a8b21",
   "metadata": {},
   "outputs": [],
   "source": [
    "from math import sqrt\n",
    "from joblib import Parallel, delayed"
   ]
  },
  {
   "cell_type": "code",
   "execution_count": 18,
   "id": "d9b189c2",
   "metadata": {},
   "outputs": [
    {
     "name": "stdout",
     "output_type": "stream",
     "text": [
      "Wall time: 0 ns\n"
     ]
    },
    {
     "data": {
      "text/plain": [
       "[0.0, 1.0, 2.0, 3.0, 4.0, 5.0, 6.0, 7.0, 8.0, 9.0]"
      ]
     },
     "execution_count": 18,
     "metadata": {},
     "output_type": "execute_result"
    }
   ],
   "source": [
    "%%time\n",
    "[sqrt(i ** 2) for i in range(10)];\n"
   ]
  },
  {
   "cell_type": "code",
   "execution_count": null,
   "id": "d32ba4fc",
   "metadata": {},
   "outputs": [],
   "source": [
    "[[i,sqrt(i ** 2),sqrt(i ** 3)] for i in range(10)];"
   ]
  },
  {
   "cell_type": "code",
   "execution_count": 3,
   "id": "084da974",
   "metadata": {},
   "outputs": [
    {
     "name": "stdout",
     "output_type": "stream",
     "text": [
      "Wall time: 473 ms\n"
     ]
    },
    {
     "data": {
      "text/plain": [
       "[[0, 0, 0],\n",
       " [1, 1, 1],\n",
       " [2, 4, 8],\n",
       " [3, 9, 27],\n",
       " [4, 16, 64],\n",
       " [5, 25, 125],\n",
       " [6, 36, 216],\n",
       " [7, 49, 343],\n",
       " [8, 64, 512],\n",
       " [9, 81, 729]]"
      ]
     },
     "execution_count": 3,
     "metadata": {},
     "output_type": "execute_result"
    }
   ],
   "source": [
    "%%time\n",
    "def a(x):\n",
    "    return [x,x**2,x**3]\n",
    "aa = Parallel(n_jobs=2)(delayed(a)(x) for x in range(10))\n",
    "aa"
   ]
  },
  {
   "cell_type": "code",
   "execution_count": 13,
   "id": "04a471be",
   "metadata": {},
   "outputs": [],
   "source": [
    "import concurrent.futures"
   ]
  },
  {
   "cell_type": "code",
   "execution_count": null,
   "id": "33d711f4",
   "metadata": {},
   "outputs": [],
   "source": []
  }
 ],
 "metadata": {
  "kernelspec": {
   "display_name": "Python 3",
   "language": "python",
   "name": "python3"
  },
  "language_info": {
   "codemirror_mode": {
    "name": "ipython",
    "version": 3
   },
   "file_extension": ".py",
   "mimetype": "text/x-python",
   "name": "python",
   "nbconvert_exporter": "python",
   "pygments_lexer": "ipython3",
   "version": "3.8.8"
  }
 },
 "nbformat": 4,
 "nbformat_minor": 5
}
