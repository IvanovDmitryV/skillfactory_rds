{
 "cells": [
  {
   "cell_type": "code",
   "execution_count": 31,
   "id": "35c2a7c0",
   "metadata": {},
   "outputs": [],
   "source": [
    "import pandas as pd\n",
    "import re\n",
    "import time\n",
    "\n",
    "from selenium import webdriver\n",
    "from selenium.webdriver.chrome.service import Service\n",
    "from bs4 import BeautifulSoup\n",
    "\n",
    "service=Service('C:/Users/Manych/chromium/chromedriver.exe')"
   ]
  },
  {
   "cell_type": "code",
   "execution_count": 11,
   "id": "cd295d4e",
   "metadata": {},
   "outputs": [],
   "source": [
    "def get_marks_models():\n",
    "    '''\n",
    "    возврашщает pd.Series в котором \n",
    "    индекс - название марки автомобиоя, \n",
    "    значения - списки названий моделей для каждой маркию\n",
    "    \n",
    "    '''\n",
    "    url_for_marks_models = 'https://auto.ru/catalog/cars/all/'\n",
    "    \n",
    "    marks_models = pd.Series() \n",
    "\n",
    "    driver = webdriver.Chrome(service=service)  # открываем driver\n",
    "    driver.maximize_window()                    # масксимизируем окно\n",
    "\n",
    "    for pages_num in range(1,20):\n",
    "        \n",
    "        if pages_num==1: url = url_for_marks_models + '?view_type=list'\n",
    "        else:            url = url_for_marks_models + '?page_num='+ str(pages_num) +'&view_type=list'\n",
    "        \n",
    "        driver.get(url)                         # открываем страницу по url\n",
    "        res = driver.execute_script(\"return document.body.innerHTML;\") # получаем html\n",
    "        soup = BeautifulSoup(res, 'html.parser') # создаем обьект bs4.BeautifulSoup\n",
    "        \n",
    "        # Список html-ек перечня моделей каждой марки на странице:\n",
    "        marks_on_page_list = soup.find_all('dd', class_='catalog-all-text-list__desc') \n",
    "    \n",
    "        if not marks_on_page_list: \n",
    "            break\n",
    "        \n",
    "        for mark in marks_on_page_list:\n",
    "            models_of_mark = mark.find_all('a', class_='link_theme_auto') # список html-ек моделей марки\n",
    "        \n",
    "            link_for_mark_name = models_of_mark[0].get('href')  # линк первой модели, содержит обозначене марки на auto.ru\n",
    "            mark_start = link_for_mark_name.find('cars/') + 5   # первый символ обозначеня марки\n",
    "            mark_end = link_for_mark_name.find('/', mark_start) # последний символ обозначения марки\n",
    "            mark_name = link_for_mark_name[mark_start:mark_end].upper() # получение обозначения марки  \n",
    "        \n",
    "            models_list = []\n",
    "            for model in models_of_mark:\n",
    "                link_theme_auto = model.get('href')                 # линк модели, содержит обозначение модели на auto.ru\n",
    "                model_start = mark_end+1                            # первый символ обозначения модели\n",
    "                model_end = link_theme_auto.find('/', model_start)  # последний символ обозначения модели\n",
    "                model_name = link_theme_auto[model_start:model_end].upper() # получение обозначения модели\n",
    "                models_list.append(model_name)\n",
    "                \n",
    "            marks_models[mark_name] = models_list\n",
    "        \n",
    "        time.sleep(1) \n",
    "    # Закрываем процесс браузера:\n",
    "    driver.quit()\n",
    "    \n",
    "    return marks_models"
   ]
  },
  {
   "cell_type": "code",
   "execution_count": 12,
   "id": "2ea4bedf",
   "metadata": {},
   "outputs": [],
   "source": [
    "# model_url = 'https://auto.ru/moskva/cars/bmw/1er/used/'\n",
    "marks_for_parsing = ['SKODA', 'AUDI', 'HONDA', 'VOLVO', 'BMW', 'NISSAN', 'INFINITI',\n",
    "       'MERCEDES', 'TOYOTA', 'LEXUS', 'VOLKSWAGEN', 'MITSUBISHI']"
   ]
  },
  {
   "cell_type": "code",
   "execution_count": 13,
   "id": "f826981f",
   "metadata": {},
   "outputs": [],
   "source": [
    "url_for_marks_models = 'https://auto.ru/catalog/cars/all/'"
   ]
  },
  {
   "cell_type": "code",
   "execution_count": 14,
   "id": "a66d93fa",
   "metadata": {},
   "outputs": [
    {
     "name": "stderr",
     "output_type": "stream",
     "text": [
      "<ipython-input-11-6cbf6382a67b>:10: DeprecationWarning: The default dtype for empty Series will be 'object' instead of 'float64' in a future version. Specify a dtype explicitly to silence this warning.\n",
      "  marks_models = pd.Series()\n"
     ]
    },
    {
     "name": "stdout",
     "output_type": "stream",
     "text": [
      "Wall time: 49.8 s\n"
     ]
    }
   ],
   "source": [
    "%%time\n",
    "marks_models = get_marks_models()"
   ]
  },
  {
   "cell_type": "code",
   "execution_count": 15,
   "id": "355d82a1",
   "metadata": {},
   "outputs": [],
   "source": [
    "marks_models_for_parsing = marks_models.loc[marks_for_parsing]"
   ]
  },
  {
   "cell_type": "markdown",
   "id": "d89c2e81",
   "metadata": {},
   "source": [
    "# ----------------"
   ]
  },
  {
   "cell_type": "code",
   "execution_count": 26,
   "id": "3162dea9",
   "metadata": {},
   "outputs": [
    {
     "data": {
      "text/plain": [
       "SKODA         [FABIA, FABIA_RS, FELICIA, FORMAN, KAROQ, KODI...\n",
       "AUDI          [100, 200, 80, 90, A1, A2, A3, A4, A4_ALLROAD,...\n",
       "HONDA         [ACCORD, ACTY, AIRWAVE, ASCOT, AVANCIER, BEAT,...\n",
       "VOLVO         [164, 240_SERIES, 300_SERIES, 440, 460, 740, 7...\n",
       "BMW           [1ER, 2ACTIVETOURER, 2ER, 2GRANDTOURER, 321, 3...\n",
       "NISSAN        [100NX, 180SX, 200SX, 300ZX, 350Z, AD, ALMERA,...\n",
       "INFINITI      [EX, FX, G35, JX, M, Q, Q30, Q50, Q60, Q70, QX...\n",
       "MERCEDES      [190_SL, A_KLASSE, A_KLASSE_AMG, AMG_GLC_COUPE...\n",
       "TOYOTA        [4RUNNER, ALPHARD, ALTEZZA, AQUA, ARISTO, AURI...\n",
       "LEXUS         [CT, ES, GS, GS_F, GX, IS, LC, LS, LX, NX, RC,...\n",
       "VOLKSWAGEN    [AMAROK, ARTEON, BEETLE, BORA, CADDY, CARAVELL...\n",
       "MITSUBISHI    [3000_GT, AIRTREK, ASPIRE, ASX, CARISMA, CHARI...\n",
       "dtype: object"
      ]
     },
     "execution_count": 26,
     "metadata": {},
     "output_type": "execute_result"
    }
   ],
   "source": [
    "marks_models_for_parsing"
   ]
  },
  {
   "cell_type": "code",
   "execution_count": 28,
   "id": "95a74121",
   "metadata": {},
   "outputs": [
    {
     "data": {
      "text/plain": [
       "BMW    [1ER, 2ACTIVETOURER, 2ER, 2GRANDTOURER, 321, 3...\n",
       "dtype: object"
      ]
     },
     "execution_count": 28,
     "metadata": {},
     "output_type": "execute_result"
    }
   ],
   "source": [
    "marks_models_for_parsing[['BMW']]"
   ]
  },
  {
   "cell_type": "code",
   "execution_count": 35,
   "id": "770cf33a",
   "metadata": {},
   "outputs": [
    {
     "name": "stderr",
     "output_type": "stream",
     "text": [
      "<ipython-input-35-a85f490cb386>:8: DeprecationWarning: The default dtype for empty Series will be 'object' instead of 'float64' in a future version. Specify a dtype explicitly to silence this warning.\n",
      "  mark_convert = pd.Series()\n"
     ]
    }
   ],
   "source": [
    "# if 1:\n",
    "def get_mark_convert(marks_models_for_parsing):\n",
    "    '''\n",
    "    marks_models_for_parsing - pd.Series в котором\n",
    "        индекс: марка автомобиля\n",
    "        значение: список моделей данной марки\n",
    "    '''\n",
    "    mark_convert = pd.Series() \n",
    "    \n",
    "    \n",
    "    driver = webdriver.Chrome(service=service)  # запускаем процесс браузера\n",
    "    driver.maximize_window()                    # масксимизируем окно        \n",
    "\n",
    "    for mark in marks_models_for_parsing[['BMW']].index:\n",
    "#         print(mark)\n",
    "        for model in marks_models_for_parsing[mark]:\n",
    "            model_url = 'https://auto.ru/moskva/cars/' + mark.lower() + '/' + model.lower() + '/used/'  \n",
    "            \n",
    "            print(mark,model)\n",
    "            driver.get(model_url) # открываем страницу по url\n",
    "            models_list_res = driver.execute_script(\"return document.body.innerHTML;\") # получаем htm\n",
    "            \n",
    "            # создаем обьект bs4.BeautifulSoup из html: \n",
    "            models_list_bs = BeautifulSoup(models_list_res, 'html.parser') \n",
    "    \n",
    "            header_text = models_list_bs.find('h1').find_all('span')[0].text    \n",
    "            model_human = header_text[header_text.find(mark)+len(mark)+1: header_text.find(' с пробегом')]   \n",
    "            mark_convert[model] = model_human\n",
    "            \n",
    "    driver.quit()    # закрываем процесс браузера              \n",
    "    return mark_convert"
   ]
  },
  {
   "cell_type": "code",
   "execution_count": 37,
   "id": "b14c3f05",
   "metadata": {},
   "outputs": [
    {
     "data": {
      "text/plain": [
       "1ER                            1 серии\n",
       "2ACTIVETOURER    2 серии Active Tourer\n",
       "2ER                            2 серии\n",
       "2GRANDTOURER       2 серии Gran Tourer\n",
       "321                                321\n",
       "340                                340\n",
       "3ER                            3 серии\n",
       "4                              4 серии\n",
       "5ER                            5 серии\n",
       "600                                600\n",
       "6ER                            6 серии\n",
       "7ER                            7 серии\n",
       "8ER                            8 серии\n",
       "I3                                  i3\n",
       "I8                                  i8\n",
       "IX                                  iX\n",
       "M2                                  M2\n",
       "M3                                  M3\n",
       "M4                                  M4\n",
       "M5                                  M5\n",
       "M6                                  M6\n",
       "M8                                  M8\n",
       "X1                                  X1\n",
       "X2                                  X2\n",
       "X3                                  X3\n",
       "X4                                  X4\n",
       "X4_M                              X4 M\n",
       "X5                                  X5\n",
       "X5_M                              X5 M\n",
       "X6                                  X6\n",
       "X6_M                              X6 M\n",
       "X7                                  X7\n",
       "Z1                                  Z1\n",
       "Z3M                               Z3 M\n",
       "Z4                                  Z4\n",
       "dtype: object"
      ]
     },
     "execution_count": 37,
     "metadata": {},
     "output_type": "execute_result"
    }
   ],
   "source": [
    "mark_convert  = get_mark_convert(marks_models_for_parsing)"
   ]
  },
  {
   "cell_type": "code",
   "execution_count": 22,
   "id": "a53a166f",
   "metadata": {},
   "outputs": [],
   "source": [
    "driver = webdriver.Chrome(service=service)  # открываем driver\n",
    "driver.maximize_window()                    # масксимизируем окно\n",
    "\n",
    "mark = 'BMW'\n",
    "\n",
    "if 1:\n",
    "#     driver.get(model_url+'?output_type=models_list') # открываем страницу по url\n",
    "    driver.get('https://auto.ru/moskva/cars/bmw/3er/used/?output_type=models_list')\n",
    "    \n",
    "    models_list_res = driver.execute_script(\"return document.body.innerHTML;\") # получаем html   \n",
    "    \n",
    "    # создаем обьект bs4.BeautifulSoup из html: \n",
    "    models_list_bs = BeautifulSoup(models_list_res, 'html.parser') \n",
    "    \n",
    "    header_text = models_list_bs.find('h1').find_all('span')[0].text    \n",
    "    model_human = header_text[header_text.find(mark)+len(mark)+1: header_text.find(' с пробегом')]    \n",
    "    \n",
    "    \n",
    "driver.quit()    # закрываем процесс браузера    "
   ]
  },
  {
   "cell_type": "code",
   "execution_count": 23,
   "id": "aaa96aaa",
   "metadata": {},
   "outputs": [
    {
     "data": {
      "text/plain": [
       "'3 серии'"
      ]
     },
     "execution_count": 23,
     "metadata": {},
     "output_type": "execute_result"
    }
   ],
   "source": [
    "model_human"
   ]
  },
  {
   "cell_type": "code",
   "execution_count": null,
   "id": "901e52af",
   "metadata": {},
   "outputs": [],
   "source": []
  },
  {
   "cell_type": "code",
   "execution_count": null,
   "id": "b662d6c5",
   "metadata": {},
   "outputs": [],
   "source": []
  },
  {
   "cell_type": "code",
   "execution_count": null,
   "id": "d387abcb",
   "metadata": {},
   "outputs": [],
   "source": []
  },
  {
   "cell_type": "code",
   "execution_count": null,
   "id": "3fe650b2",
   "metadata": {},
   "outputs": [],
   "source": [
    "<h1 class=\"ListingHead__title\"><span>Купить BMW 1 серии с пробегом</span><span> В&nbsp;Москве</span></h1>"
   ]
  },
  {
   "cell_type": "code",
   "execution_count": null,
   "id": "be9cc625",
   "metadata": {},
   "outputs": [],
   "source": [
    "def get_mark_convert_dict(marks_models_for_parsing):\n",
    "    '''\n",
    "    marks_models_for_parsing - pd.Series в котором\n",
    "        индекс: марка автомобиля\n",
    "        значение: список моделей данной марки\n",
    "    '''\n",
    "    driver = webdriver.Chrome(service=service)  # запускаем процесс браузера\n",
    "    driver.maximize_window()                    # масксимизируем окно    \n",
    "    \n",
    "    model_generation_year = pd.DataFrame(columns = ['full_name','bodytype','generation_year'])\n",
    "    \n",
    "    for mark in marks_models_for_parsing.index:\n",
    "        print(mark, end=' | ')\n",
    "        for model in marks_models_for_parsing[mark]:\n",
    "            model_url = 'https://auto.ru/moskva/cars/' + mark.lower() + '/' + model.lower() + '/used/'\n",
    "            tmp = get_generation_year(model_url)\n",
    "            model_generation_year = model_generation_year.append(tmp)\n",
    "            time.sleep(1)\n",
    "            \n",
    "    driver.quit()    # закрываем процесс браузера\n",
    "    \n",
    "    return model_generation_year"
   ]
  },
  {
   "cell_type": "code",
   "execution_count": 27,
   "id": "324ee685",
   "metadata": {},
   "outputs": [],
   "source": [
    "    # создаем обьект bs4.BeautifulSoup из html: \n",
    "    models_list_bs = BeautifulSoup(models_list_res, 'html.parser') \n",
    "\n",
    "    ttt = models_list_bs.find('h1').find_all('span')[0].text"
   ]
  },
  {
   "cell_type": "code",
   "execution_count": 33,
   "id": "872a2f3d",
   "metadata": {},
   "outputs": [
    {
     "data": {
      "text/plain": [
       "'1 серии'"
      ]
     },
     "execution_count": 33,
     "metadata": {},
     "output_type": "execute_result"
    }
   ],
   "source": [
    "ttt[ttt.find(mark)+len(mark)+1: ttt.find(' с пробегом')]"
   ]
  },
  {
   "cell_type": "code",
   "execution_count": null,
   "id": "e49600e0",
   "metadata": {},
   "outputs": [],
   "source": []
  },
  {
   "cell_type": "code",
   "execution_count": null,
   "id": "2749afaf",
   "metadata": {},
   "outputs": [],
   "source": []
  },
  {
   "cell_type": "code",
   "execution_count": null,
   "id": "7cc7e772",
   "metadata": {},
   "outputs": [],
   "source": [
    "def get_generation_year(model_url):\n",
    "    '''\n",
    "    возврашщает pd.DataFrame  в котором: \n",
    "        full_name - полное название модели с указанием поколения, \n",
    "        bodytype - тип кузова поколения модели\n",
    "        generation_year - год начала выпуска поколения\n",
    "        \n",
    "    model_url - ссылка на страницу со списокм поколений модели\n",
    "    \n",
    "    '''\n",
    "    driver.get(model_url+'?output_type=models_list') # открываем страницу по url\n",
    "    \n",
    "    models_list_res = driver.execute_script(\"return document.body.innerHTML;\") # получаем html        \n",
    "    \n",
    "    # создаем обьект bs4.BeautifulSoup из html: \n",
    "    models_list_bs = BeautifulSoup(models_list_res, 'html.parser') \n",
    "    \n",
    "    \n",
    "    \n",
    "    \n",
    "    \n",
    "#     # получаем список html-ек описаний для всех поколений модели  \n",
    "#     posting_tag = models_list_bs.find_all('h3',class_ = \"ListingItemGroup__title\")\n",
    "    \n",
    "#     # формируем списки с указанием поколения модели, типом кузова поколения и годом начала выпуска поколения\n",
    "#     # (необходимость указания типа кузова вызвана тем, что разные кузова зачастую переходят на следующее \n",
    "#     #  поколение в разные годы)\n",
    "#     data = [\n",
    "#     [tag.find('a',class_ = 'ListingItemTitle__link').text,             # поколение\n",
    "#      tag.find('div',class_ = \"ListingItemGroup__subtitle\").text[:      # кузов\n",
    "#                 tag.find('div',class_ = \"ListingItemGroup__subtitle\").text.find(' •')],\n",
    "#      int(tag.find('div',class_ = \"ListingItemGroup__subtitle\").text    # год\n",
    "#                 [tag.find('div',class_ = \"ListingItemGroup__subtitle\").text.find('(')+1:\n",
    "#                  tag.find('div',class_ = \"ListingItemGroup__subtitle\").text.find('(')+5])] \n",
    "#         for tag in posting_tag]\n",
    "    \n",
    "#     result = pd.DataFrame(data,columns = ['full_name','bodytype','generation_year'])\n",
    "    \n",
    "    return result \n",
    "\n",
    "def get_model_generation_year(marks_models_for_parsing):\n",
    "    '''\n",
    "    возврашщает pd.DataFrame  в котором: \n",
    "        full_name - полное название марки и модели с указанием поколения \n",
    "        bodytype - тип кузова поколения модели\n",
    "        generation_year - год начала выпуска поколения\n",
    "    \n",
    "    marks_models_for_parsing - pd.Series в котором\n",
    "        индекс: марка автомобиля\n",
    "        значение: список моделей данной марки\n",
    "    '''\n",
    "    driver = webdriver.Chrome(service=service)  # запускаем процесс браузера\n",
    "    driver.maximize_window()                    # масксимизируем окно    \n",
    "    \n",
    "    model_generation_year = pd.DataFrame(columns = ['full_name','bodytype','generation_year'])\n",
    "    \n",
    "    for mark in marks_models_for_parsing.index:\n",
    "        print(mark, end=' | ')\n",
    "        for model in marks_models_for_parsing[mark]:\n",
    "            model_url = 'https://auto.ru/moskva/cars/' + mark.lower() + '/' + model.lower() + '/used/'\n",
    "            tmp = get_generation_year(model_url)\n",
    "            model_generation_year = model_generation_year.append(tmp)\n",
    "            time.sleep(1)\n",
    "            \n",
    "    driver.quit()    # закрываем процесс браузера\n",
    "    \n",
    "    return model_generation_year"
   ]
  },
  {
   "cell_type": "code",
   "execution_count": 3,
   "id": "f6687d7c",
   "metadata": {},
   "outputs": [],
   "source": [
    "model_generation_year_all = pd.read_csv('./Project_7_data/model_generation_year_all.csv')"
   ]
  },
  {
   "cell_type": "code",
   "execution_count": null,
   "id": "c5bdbea0",
   "metadata": {},
   "outputs": [],
   "source": []
  }
 ],
 "metadata": {
  "kernelspec": {
   "display_name": "Python 3",
   "language": "python",
   "name": "python3"
  },
  "language_info": {
   "codemirror_mode": {
    "name": "ipython",
    "version": 3
   },
   "file_extension": ".py",
   "mimetype": "text/x-python",
   "name": "python",
   "nbconvert_exporter": "python",
   "pygments_lexer": "ipython3",
   "version": "3.8.8"
  }
 },
 "nbformat": 4,
 "nbformat_minor": 5
}
