{
 "cells": [
  {
   "cell_type": "code",
   "execution_count": 34,
   "metadata": {
    "papermill": {
     "duration": 0.040939,
     "end_time": "2020-12-08T20:05:54.086807",
     "exception": false,
     "start_time": "2020-12-08T20:05:54.045868",
     "status": "completed"
    },
    "tags": []
   },
   "outputs": [],
   "source": [
    "# <img src=\"https://whatcar.vn/media/2018/09/car-lot-940x470.jpg\"/>"
   ]
  },
  {
   "cell_type": "markdown",
   "metadata": {
    "papermill": {
     "duration": 0.040939,
     "end_time": "2020-12-08T20:05:54.086807",
     "exception": false,
     "start_time": "2020-12-08T20:05:54.045868",
     "status": "completed"
    },
    "tags": []
   },
   "source": [
    "## Прогнозирование стоимости автомобиля по характеристикам\n",
    "*Этот Ноутбук является Примером/Шаблоном (Baseline) к этому соревнованию и не служит готовым решением!*   \n",
    "Вы можете использовать его как основу для построения своего решения.\n",
    "\n",
    "\n",
    "> **baseline** создается больше как шаблон, где можно посмотреть как происходит обращение с входящими данными и что нужно получить на выходе. При этом МЛ начинка может быть достаточно простой. Это помогает быстрее приступить к самому МЛ, а не тратить ценное время на чисто инженерные задачи. \n",
    "Также baseline является хорошей опорной точкой по метрике. Если твое решение хуже baseline - ты явно делаешь что-то не то и стоит попробовать другой путь) "
   ]
  },
  {
   "cell_type": "markdown",
   "metadata": {
    "papermill": {
     "duration": 0.038262,
     "end_time": "2020-12-08T20:05:54.162809",
     "exception": false,
     "start_time": "2020-12-08T20:05:54.124547",
     "status": "completed"
    },
    "tags": []
   },
   "source": [
    "Помним, что по условию соревнования, нам нужно самостоятельно собрать обучающий датасет. В этом ноутбуке мы не будем рассматривать сбор данных. Предположим, что мы уже все собрали и просто подключили свой датасет через \"Add Data\", чтобы приступить к самому ML."
   ]
  },
  {
   "cell_type": "code",
   "execution_count": 35,
   "metadata": {
    "_cell_guid": "b1076dfc-b9ad-4769-8c92-a6c4dae69d19",
    "_uuid": "8f2839f25d086af736a60e9eeb907d3b93b6e0e5",
    "execution": {
     "iopub.execute_input": "2020-12-08T20:05:54.245832Z",
     "iopub.status.busy": "2020-12-08T20:05:54.245054Z",
     "iopub.status.idle": "2020-12-08T20:05:55.424297Z",
     "shell.execute_reply": "2020-12-08T20:05:55.423631Z"
    },
    "papermill": {
     "duration": 1.22345,
     "end_time": "2020-12-08T20:05:55.424430",
     "exception": false,
     "start_time": "2020-12-08T20:05:54.200980",
     "status": "completed"
    },
    "tags": []
   },
   "outputs": [],
   "source": [
    "import numpy as np # linear algebra\n",
    "import pandas as pd # data processing, CSV file I/O (e.g. pd.read_csv)\n",
    "import sys\n",
    "from sklearn.model_selection import train_test_split\n",
    "from sklearn.model_selection import KFold\n",
    "from tqdm.notebook import tqdm\n",
    "from catboost import CatBoostRegressor\n",
    "from sklearn.preprocessing import LabelEncoder"
   ]
  },
  {
   "cell_type": "code",
   "execution_count": 36,
   "metadata": {
    "_kg_hide-input": true,
    "execution": {
     "iopub.execute_input": "2020-12-08T20:05:55.505807Z",
     "iopub.status.busy": "2020-12-08T20:05:55.504955Z",
     "iopub.status.idle": "2020-12-08T20:05:55.508661Z",
     "shell.execute_reply": "2020-12-08T20:05:55.509419Z"
    },
    "papermill": {
     "duration": 0.047476,
     "end_time": "2020-12-08T20:05:55.509609",
     "exception": false,
     "start_time": "2020-12-08T20:05:55.462133",
     "status": "completed"
    },
    "tags": []
   },
   "outputs": [
    {
     "name": "stdout",
     "output_type": "stream",
     "text": [
      "Python       : 3.7.4 (default, Aug  9 2019, 18:34:13) [MSC v.1915 64 bit (AMD64)]\n",
      "Numpy        : 1.16.5\n"
     ]
    }
   ],
   "source": [
    "print('Python       :', sys.version.split('\\n')[0])\n",
    "print('Numpy        :', np.__version__)"
   ]
  },
  {
   "cell_type": "code",
   "execution_count": 37,
   "metadata": {
    "_kg_hide-input": true,
    "execution": {
     "iopub.execute_input": "2020-12-08T20:05:55.591902Z",
     "iopub.status.busy": "2020-12-08T20:05:55.591156Z",
     "iopub.status.idle": "2020-12-08T20:05:58.511932Z",
     "shell.execute_reply": "2020-12-08T20:05:58.511308Z"
    },
    "papermill": {
     "duration": 2.963379,
     "end_time": "2020-12-08T20:05:58.512066",
     "exception": false,
     "start_time": "2020-12-08T20:05:55.548687",
     "status": "completed"
    },
    "tags": []
   },
   "outputs": [],
   "source": [
    "# зафиксируем версию пакетов, чтобы эксперименты были воспроизводимы:\n",
    "# !pip freeze > requirements.txt"
   ]
  },
  {
   "cell_type": "code",
   "execution_count": 38,
   "metadata": {
    "execution": {
     "iopub.execute_input": "2020-12-08T20:05:58.593444Z",
     "iopub.status.busy": "2020-12-08T20:05:58.592700Z",
     "iopub.status.idle": "2020-12-08T20:05:58.595401Z",
     "shell.execute_reply": "2020-12-08T20:05:58.595988Z"
    },
    "papermill": {
     "duration": 0.045995,
     "end_time": "2020-12-08T20:05:58.596162",
     "exception": false,
     "start_time": "2020-12-08T20:05:58.550167",
     "status": "completed"
    },
    "tags": []
   },
   "outputs": [],
   "source": [
    "# всегда фиксируйте RANDOM_SEED, чтобы ваши эксперименты были воспроизводимы!\n",
    "RANDOM_SEED = 42"
   ]
  },
  {
   "cell_type": "code",
   "execution_count": 39,
   "metadata": {
    "_kg_hide-input": true,
    "execution": {
     "iopub.execute_input": "2020-12-08T20:05:58.677713Z",
     "iopub.status.busy": "2020-12-08T20:05:58.676998Z",
     "iopub.status.idle": "2020-12-08T20:05:58.679323Z",
     "shell.execute_reply": "2020-12-08T20:05:58.680052Z"
    },
    "papermill": {
     "duration": 0.046187,
     "end_time": "2020-12-08T20:05:58.680204",
     "exception": false,
     "start_time": "2020-12-08T20:05:58.634017",
     "status": "completed"
    },
    "tags": []
   },
   "outputs": [],
   "source": [
    "def mape(y_true, y_pred):\n",
    "    return np.mean(np.abs((y_pred-y_true)/y_true))"
   ]
  },
  {
   "cell_type": "markdown",
   "metadata": {
    "papermill": {
     "duration": 0.037845,
     "end_time": "2020-12-08T20:05:58.756136",
     "exception": false,
     "start_time": "2020-12-08T20:05:58.718291",
     "status": "completed"
    },
    "tags": []
   },
   "source": [
    "# Setup"
   ]
  },
  {
   "cell_type": "code",
   "execution_count": 40,
   "metadata": {
    "execution": {
     "iopub.execute_input": "2020-12-08T20:05:58.838389Z",
     "iopub.status.busy": "2020-12-08T20:05:58.837433Z",
     "iopub.status.idle": "2020-12-08T20:05:58.840400Z",
     "shell.execute_reply": "2020-12-08T20:05:58.839704Z"
    },
    "papermill": {
     "duration": 0.046269,
     "end_time": "2020-12-08T20:05:58.840525",
     "exception": false,
     "start_time": "2020-12-08T20:05:58.794256",
     "status": "completed"
    },
    "tags": []
   },
   "outputs": [],
   "source": [
    "VERSION    = 16\n",
    "DIR  = './Project_7_data/' # подключил к ноутбуку внешний датасет\n",
    "VAL_SIZE   = 0.20   # 20%\n",
    "\n",
    "marks_for_parsing = ['SKODA', 'AUDI', 'HONDA', 'VOLVO', 'BMW', 'NISSAN', 'INFINITI',\n",
    "       'MERCEDES', 'TOYOTA', 'LEXUS', 'VOLKSWAGEN', 'MITSUBISHI']"
   ]
  },
  {
   "cell_type": "markdown",
   "metadata": {
    "papermill": {
     "duration": 0.038545,
     "end_time": "2020-12-08T20:05:58.917218",
     "exception": false,
     "start_time": "2020-12-08T20:05:58.878673",
     "status": "completed"
    },
    "tags": []
   },
   "source": [
    "# Data"
   ]
  },
  {
   "cell_type": "code",
   "execution_count": 41,
   "metadata": {
    "execution": {
     "iopub.execute_input": "2020-12-08T20:05:59.003837Z",
     "iopub.status.busy": "2020-12-08T20:05:58.999070Z",
     "iopub.status.idle": "2020-12-08T20:05:59.737382Z",
     "shell.execute_reply": "2020-12-08T20:05:59.736785Z"
    },
    "papermill": {
     "duration": 0.781896,
     "end_time": "2020-12-08T20:05:59.737512",
     "exception": false,
     "start_time": "2020-12-08T20:05:58.955616",
     "status": "completed"
    },
    "tags": []
   },
   "outputs": [],
   "source": [
    "# !ls '../input'"
   ]
  },
  {
   "cell_type": "code",
   "execution_count": 42,
   "metadata": {
    "_cell_guid": "79c7e3d0-c299-4dcb-8224-4455121ee9b0",
    "_uuid": "d629ff2d2480ee46fbb7e2d37f6b5fab8052498a",
    "execution": {
     "iopub.execute_input": "2020-12-08T20:05:59.826929Z",
     "iopub.status.busy": "2020-12-08T20:05:59.826111Z",
     "iopub.status.idle": "2020-12-08T20:06:12.408413Z",
     "shell.execute_reply": "2020-12-08T20:06:12.407709Z"
    },
    "papermill": {
     "duration": 12.631911,
     "end_time": "2020-12-08T20:06:12.408539",
     "exception": false,
     "start_time": "2020-12-08T20:05:59.776628",
     "status": "completed"
    },
    "tags": []
   },
   "outputs": [],
   "source": [
    "train = pd.read_csv(DIR+'all_auto_ru_09_09_2020.csv') # датасет для обучения модели\n",
    "test = pd.read_csv(DIR+'test.csv')\n",
    "sample_submission = pd.read_csv(DIR+'sample_submission.csv')"
   ]
  },
  {
   "cell_type": "code",
   "execution_count": 43,
   "metadata": {},
   "outputs": [],
   "source": [
    "train_2 = pd.read_csv(DIR+'all_auto_ru_14_11_2020.csv') # датасет для обучения модели"
   ]
  },
  {
   "cell_type": "code",
   "execution_count": 44,
   "metadata": {
    "execution": {
     "iopub.execute_input": "2020-12-08T20:06:12.524409Z",
     "iopub.status.busy": "2020-12-08T20:06:12.509676Z",
     "iopub.status.idle": "2020-12-08T20:06:12.541977Z",
     "shell.execute_reply": "2020-12-08T20:06:12.542555Z"
    },
    "papermill": {
     "duration": 0.095591,
     "end_time": "2020-12-08T20:06:12.542726",
     "exception": false,
     "start_time": "2020-12-08T20:06:12.447135",
     "status": "completed"
    },
    "tags": []
   },
   "outputs": [],
   "source": [
    "# train.head(5)"
   ]
  },
  {
   "cell_type": "code",
   "execution_count": 45,
   "metadata": {
    "execution": {
     "iopub.execute_input": "2020-12-08T20:06:12.626622Z",
     "iopub.status.busy": "2020-12-08T20:06:12.625921Z",
     "iopub.status.idle": "2020-12-08T20:06:12.801395Z",
     "shell.execute_reply": "2020-12-08T20:06:12.800680Z"
    },
    "papermill": {
     "duration": 0.219581,
     "end_time": "2020-12-08T20:06:12.801516",
     "exception": false,
     "start_time": "2020-12-08T20:06:12.581935",
     "status": "completed"
    },
    "tags": []
   },
   "outputs": [],
   "source": [
    "# train.info()"
   ]
  },
  {
   "cell_type": "code",
   "execution_count": 46,
   "metadata": {
    "execution": {
     "iopub.execute_input": "2020-12-08T20:06:12.913004Z",
     "iopub.status.busy": "2020-12-08T20:06:12.911915Z",
     "iopub.status.idle": "2020-12-08T20:06:12.916377Z",
     "shell.execute_reply": "2020-12-08T20:06:12.916901Z"
    },
    "papermill": {
     "duration": 0.075868,
     "end_time": "2020-12-08T20:06:12.917066",
     "exception": false,
     "start_time": "2020-12-08T20:06:12.841198",
     "status": "completed"
    },
    "tags": []
   },
   "outputs": [],
   "source": [
    "# test.head(5)"
   ]
  },
  {
   "cell_type": "code",
   "execution_count": 47,
   "metadata": {
    "execution": {
     "iopub.execute_input": "2020-12-08T20:06:13.101214Z",
     "iopub.status.busy": "2020-12-08T20:06:13.100445Z",
     "iopub.status.idle": "2020-12-08T20:06:13.115243Z",
     "shell.execute_reply": "2020-12-08T20:06:13.115837Z"
    },
    "papermill": {
     "duration": 0.158478,
     "end_time": "2020-12-08T20:06:13.115998",
     "exception": false,
     "start_time": "2020-12-08T20:06:12.957520",
     "status": "completed"
    },
    "tags": []
   },
   "outputs": [],
   "source": [
    "# test.info()"
   ]
  },
  {
   "cell_type": "markdown",
   "metadata": {
    "papermill": {
     "duration": 0.040755,
     "end_time": "2020-12-08T20:06:13.198871",
     "exception": false,
     "start_time": "2020-12-08T20:06:13.158116",
     "status": "completed"
    },
    "tags": []
   },
   "source": [
    "## Data Preprocessing"
   ]
  },
  {
   "cell_type": "code",
   "execution_count": 48,
   "metadata": {
    "execution": {
     "iopub.execute_input": "2020-12-08T20:06:13.286794Z",
     "iopub.status.busy": "2020-12-08T20:06:13.285708Z",
     "iopub.status.idle": "2020-12-08T20:06:13.288965Z",
     "shell.execute_reply": "2020-12-08T20:06:13.288278Z"
    },
    "papermill": {
     "duration": 0.048916,
     "end_time": "2020-12-08T20:06:13.289097",
     "exception": false,
     "start_time": "2020-12-08T20:06:13.240181",
     "status": "completed"
    },
    "tags": []
   },
   "outputs": [],
   "source": [
    "# ... "
   ]
  },
  {
   "cell_type": "code",
   "execution_count": 49,
   "metadata": {
    "execution": {
     "iopub.execute_input": "2020-12-08T20:06:13.379349Z",
     "iopub.status.busy": "2020-12-08T20:06:13.378619Z",
     "iopub.status.idle": "2020-12-08T20:06:13.470205Z",
     "shell.execute_reply": "2020-12-08T20:06:13.470768Z"
    },
    "papermill": {
     "duration": 0.140649,
     "end_time": "2020-12-08T20:06:13.470935",
     "exception": false,
     "start_time": "2020-12-08T20:06:13.330286",
     "status": "completed"
    },
    "tags": []
   },
   "outputs": [],
   "source": [
    "train.dropna(subset=['productionDate','mileage'], inplace=True)\n",
    "train.dropna(subset=['price'], inplace=True)\n",
    "\n",
    "train_2.dropna(subset=['productionDate','mileage'], inplace=True)\n",
    "train_2.dropna(subset=['price'], inplace=True)"
   ]
  },
  {
   "cell_type": "code",
   "execution_count": 50,
   "metadata": {
    "execution": {
     "iopub.execute_input": "2020-12-08T20:06:13.563864Z",
     "iopub.status.busy": "2020-12-08T20:06:13.559461Z",
     "iopub.status.idle": "2020-12-08T20:06:13.568346Z",
     "shell.execute_reply": "2020-12-08T20:06:13.568904Z"
    },
    "papermill": {
     "duration": 0.056755,
     "end_time": "2020-12-08T20:06:13.569063",
     "exception": false,
     "start_time": "2020-12-08T20:06:13.512308",
     "status": "completed"
    },
    "tags": []
   },
   "outputs": [],
   "source": [
    "# для baseline просто возьму пару схожих признаков без полной обработки\n",
    "columns = ['bodyType', 'brand', 'productionDate', 'engineDisplacement', 'mileage']\n",
    "df_train = train[columns]\n",
    "df_test = test[columns]\n",
    "\n",
    "df_train_2 = train_2[columns]"
   ]
  },
  {
   "cell_type": "code",
   "execution_count": 51,
   "metadata": {
    "execution": {
     "iopub.execute_input": "2020-12-08T20:06:13.656803Z",
     "iopub.status.busy": "2020-12-08T20:06:13.655867Z",
     "iopub.status.idle": "2020-12-08T20:06:13.658395Z",
     "shell.execute_reply": "2020-12-08T20:06:13.658942Z"
    },
    "papermill": {
     "duration": 0.048894,
     "end_time": "2020-12-08T20:06:13.659104",
     "exception": false,
     "start_time": "2020-12-08T20:06:13.610210",
     "status": "completed"
    },
    "tags": []
   },
   "outputs": [],
   "source": [
    "y = train['price']\n",
    "\n",
    "y_2 = train_2['price']"
   ]
  },
  {
   "cell_type": "markdown",
   "metadata": {
    "papermill": {
     "duration": 0.04078,
     "end_time": "2020-12-08T20:06:13.741356",
     "exception": false,
     "start_time": "2020-12-08T20:06:13.700576",
     "status": "completed"
    },
    "tags": []
   },
   "source": [
    "## Label Encoding"
   ]
  },
  {
   "cell_type": "code",
   "execution_count": 52,
   "metadata": {
    "execution": {
     "iopub.execute_input": "2020-12-08T20:06:13.835613Z",
     "iopub.status.busy": "2020-12-08T20:06:13.834351Z",
     "iopub.status.idle": "2020-12-08T20:06:13.864169Z",
     "shell.execute_reply": "2020-12-08T20:06:13.863443Z"
    },
    "papermill": {
     "duration": 0.078435,
     "end_time": "2020-12-08T20:06:13.864289",
     "exception": false,
     "start_time": "2020-12-08T20:06:13.785854",
     "status": "completed"
    },
    "tags": []
   },
   "outputs": [
    {
     "name": "stderr",
     "output_type": "stream",
     "text": [
      "C:\\Users\\GANSOR-PC\\Anaconda3\\lib\\site-packages\\ipykernel_launcher.py:2: SettingWithCopyWarning: \n",
      "A value is trying to be set on a copy of a slice from a DataFrame.\n",
      "Try using .loc[row_indexer,col_indexer] = value instead\n",
      "\n",
      "See the caveats in the documentation: http://pandas.pydata.org/pandas-docs/stable/user_guide/indexing.html#returning-a-view-versus-a-copy\n",
      "  \n",
      "C:\\Users\\GANSOR-PC\\Anaconda3\\lib\\site-packages\\ipykernel_launcher.py:3: SettingWithCopyWarning: \n",
      "A value is trying to be set on a copy of a slice from a DataFrame.\n",
      "Try using .loc[row_indexer,col_indexer] = value instead\n",
      "\n",
      "See the caveats in the documentation: http://pandas.pydata.org/pandas-docs/stable/user_guide/indexing.html#returning-a-view-versus-a-copy\n",
      "  This is separate from the ipykernel package so we can avoid doing imports until\n",
      "C:\\Users\\GANSOR-PC\\Anaconda3\\lib\\site-packages\\ipykernel_launcher.py:7: SettingWithCopyWarning: \n",
      "A value is trying to be set on a copy of a slice from a DataFrame.\n",
      "Try using .loc[row_indexer,col_indexer] = value instead\n",
      "\n",
      "See the caveats in the documentation: http://pandas.pydata.org/pandas-docs/stable/user_guide/indexing.html#returning-a-view-versus-a-copy\n",
      "  import sys\n"
     ]
    }
   ],
   "source": [
    "# ВАЖНО! дря корректной обработки признаков объединяем трейн и тест в один датасет\n",
    "df_train['sample'] = 1 # помечаем где у нас трейн\n",
    "df_test['sample'] = 0 # помечаем где у нас тест\n",
    "\n",
    "data = df_test.append(df_train, sort=False).reset_index(drop=True) # объединяем\n",
    "\n",
    "df_train_2['sample'] = 1 # помечаем где у нас трейн\n",
    "data_2 = df_test.append(df_train_2, sort=False).reset_index(drop=True) # объединяем"
   ]
  },
  {
   "cell_type": "code",
   "execution_count": 53,
   "metadata": {
    "execution": {
     "iopub.execute_input": "2020-12-08T20:06:13.973072Z",
     "iopub.status.busy": "2020-12-08T20:06:13.972276Z",
     "iopub.status.idle": "2020-12-08T20:06:14.013626Z",
     "shell.execute_reply": "2020-12-08T20:06:14.012973Z"
    },
    "papermill": {
     "duration": 0.107467,
     "end_time": "2020-12-08T20:06:14.013773",
     "exception": false,
     "start_time": "2020-12-08T20:06:13.906306",
     "status": "completed"
    },
    "tags": []
   },
   "outputs": [],
   "source": [
    "for colum in ['bodyType', 'brand', 'engineDisplacement']:\n",
    "    data[colum] = data[colum].astype('category').cat.codes\n",
    "    \n",
    "for colum in ['bodyType', 'brand', 'engineDisplacement']:\n",
    "    data_2[colum] = data_2[colum].astype('category').cat.codes"
   ]
  },
  {
   "cell_type": "code",
   "execution_count": 54,
   "metadata": {},
   "outputs": [
    {
     "data": {
      "text/html": [
       "<div>\n",
       "<style scoped>\n",
       "    .dataframe tbody tr th:only-of-type {\n",
       "        vertical-align: middle;\n",
       "    }\n",
       "\n",
       "    .dataframe tbody tr th {\n",
       "        vertical-align: top;\n",
       "    }\n",
       "\n",
       "    .dataframe thead th {\n",
       "        text-align: right;\n",
       "    }\n",
       "</style>\n",
       "<table border=\"1\" class=\"dataframe\">\n",
       "  <thead>\n",
       "    <tr style=\"text-align: right;\">\n",
       "      <th></th>\n",
       "      <th>bodyType</th>\n",
       "      <th>brand</th>\n",
       "      <th>productionDate</th>\n",
       "      <th>engineDisplacement</th>\n",
       "      <th>mileage</th>\n",
       "      <th>sample</th>\n",
       "    </tr>\n",
       "  </thead>\n",
       "  <tbody>\n",
       "    <tr>\n",
       "      <td>0</td>\n",
       "      <td>176</td>\n",
       "      <td>29</td>\n",
       "      <td>2014</td>\n",
       "      <td>11</td>\n",
       "      <td>74000</td>\n",
       "      <td>0</td>\n",
       "    </tr>\n",
       "    <tr>\n",
       "      <td>1</td>\n",
       "      <td>176</td>\n",
       "      <td>29</td>\n",
       "      <td>2017</td>\n",
       "      <td>27</td>\n",
       "      <td>60563</td>\n",
       "      <td>0</td>\n",
       "    </tr>\n",
       "    <tr>\n",
       "      <td>2</td>\n",
       "      <td>176</td>\n",
       "      <td>29</td>\n",
       "      <td>2014</td>\n",
       "      <td>33</td>\n",
       "      <td>88000</td>\n",
       "      <td>0</td>\n",
       "    </tr>\n",
       "    <tr>\n",
       "      <td>3</td>\n",
       "      <td>176</td>\n",
       "      <td>29</td>\n",
       "      <td>2014</td>\n",
       "      <td>27</td>\n",
       "      <td>95000</td>\n",
       "      <td>0</td>\n",
       "    </tr>\n",
       "    <tr>\n",
       "      <td>4</td>\n",
       "      <td>176</td>\n",
       "      <td>29</td>\n",
       "      <td>2012</td>\n",
       "      <td>33</td>\n",
       "      <td>58536</td>\n",
       "      <td>0</td>\n",
       "    </tr>\n",
       "  </tbody>\n",
       "</table>\n",
       "</div>"
      ],
      "text/plain": [
       "   bodyType  brand  productionDate  engineDisplacement  mileage  sample\n",
       "0       176     29            2014                  11    74000       0\n",
       "1       176     29            2017                  27    60563       0\n",
       "2       176     29            2014                  33    88000       0\n",
       "3       176     29            2014                  27    95000       0\n",
       "4       176     29            2012                  33    58536       0"
      ]
     },
     "execution_count": 54,
     "metadata": {},
     "output_type": "execute_result"
    }
   ],
   "source": [
    "data.head()"
   ]
  },
  {
   "cell_type": "code",
   "execution_count": 55,
   "metadata": {
    "execution": {
     "iopub.execute_input": "2020-12-08T20:06:14.109173Z",
     "iopub.status.busy": "2020-12-08T20:06:14.106182Z",
     "iopub.status.idle": "2020-12-08T20:06:14.120044Z",
     "shell.execute_reply": "2020-12-08T20:06:14.119409Z"
    },
    "papermill": {
     "duration": 0.064415,
     "end_time": "2020-12-08T20:06:14.120164",
     "exception": false,
     "start_time": "2020-12-08T20:06:14.055749",
     "status": "completed"
    },
    "tags": []
   },
   "outputs": [
    {
     "data": {
      "text/html": [
       "<div>\n",
       "<style scoped>\n",
       "    .dataframe tbody tr th:only-of-type {\n",
       "        vertical-align: middle;\n",
       "    }\n",
       "\n",
       "    .dataframe tbody tr th {\n",
       "        vertical-align: top;\n",
       "    }\n",
       "\n",
       "    .dataframe thead th {\n",
       "        text-align: right;\n",
       "    }\n",
       "</style>\n",
       "<table border=\"1\" class=\"dataframe\">\n",
       "  <thead>\n",
       "    <tr style=\"text-align: right;\">\n",
       "      <th></th>\n",
       "      <th>bodyType</th>\n",
       "      <th>brand</th>\n",
       "      <th>productionDate</th>\n",
       "      <th>engineDisplacement</th>\n",
       "      <th>mileage</th>\n",
       "      <th>sample</th>\n",
       "    </tr>\n",
       "  </thead>\n",
       "  <tbody>\n",
       "    <tr>\n",
       "      <td>0</td>\n",
       "      <td>174</td>\n",
       "      <td>29</td>\n",
       "      <td>2014</td>\n",
       "      <td>10</td>\n",
       "      <td>74000</td>\n",
       "      <td>0</td>\n",
       "    </tr>\n",
       "    <tr>\n",
       "      <td>1</td>\n",
       "      <td>174</td>\n",
       "      <td>29</td>\n",
       "      <td>2017</td>\n",
       "      <td>21</td>\n",
       "      <td>60563</td>\n",
       "      <td>0</td>\n",
       "    </tr>\n",
       "    <tr>\n",
       "      <td>2</td>\n",
       "      <td>174</td>\n",
       "      <td>29</td>\n",
       "      <td>2014</td>\n",
       "      <td>27</td>\n",
       "      <td>88000</td>\n",
       "      <td>0</td>\n",
       "    </tr>\n",
       "    <tr>\n",
       "      <td>3</td>\n",
       "      <td>174</td>\n",
       "      <td>29</td>\n",
       "      <td>2014</td>\n",
       "      <td>21</td>\n",
       "      <td>95000</td>\n",
       "      <td>0</td>\n",
       "    </tr>\n",
       "    <tr>\n",
       "      <td>4</td>\n",
       "      <td>174</td>\n",
       "      <td>29</td>\n",
       "      <td>2012</td>\n",
       "      <td>27</td>\n",
       "      <td>58536</td>\n",
       "      <td>0</td>\n",
       "    </tr>\n",
       "  </tbody>\n",
       "</table>\n",
       "</div>"
      ],
      "text/plain": [
       "   bodyType  brand  productionDate  engineDisplacement  mileage  sample\n",
       "0       174     29            2014                  10    74000       0\n",
       "1       174     29            2017                  21    60563       0\n",
       "2       174     29            2014                  27    88000       0\n",
       "3       174     29            2014                  21    95000       0\n",
       "4       174     29            2012                  27    58536       0"
      ]
     },
     "execution_count": 55,
     "metadata": {},
     "output_type": "execute_result"
    }
   ],
   "source": [
    "data_2.head()"
   ]
  },
  {
   "cell_type": "code",
   "execution_count": 56,
   "metadata": {
    "execution": {
     "iopub.execute_input": "2020-12-08T20:06:14.211962Z",
     "iopub.status.busy": "2020-12-08T20:06:14.211175Z",
     "iopub.status.idle": "2020-12-08T20:06:14.232110Z",
     "shell.execute_reply": "2020-12-08T20:06:14.231350Z"
    },
    "papermill": {
     "duration": 0.06934,
     "end_time": "2020-12-08T20:06:14.232238",
     "exception": false,
     "start_time": "2020-12-08T20:06:14.162898",
     "status": "completed"
    },
    "tags": []
   },
   "outputs": [],
   "source": [
    "X = data.query('sample == 1').drop(['sample'], axis=1)\n",
    "X_sub = data.query('sample == 0').drop(['sample'], axis=1)\n",
    "\n",
    "X_2 = data_2.query('sample == 1').drop(['sample'], axis=1)\n",
    "X_sub_2 = data_2.query('sample == 0').drop(['sample'], axis=1)"
   ]
  },
  {
   "cell_type": "markdown",
   "metadata": {
    "papermill": {
     "duration": 0.042137,
     "end_time": "2020-12-08T20:06:14.317213",
     "exception": false,
     "start_time": "2020-12-08T20:06:14.275076",
     "status": "completed"
    },
    "tags": []
   },
   "source": [
    "## Train Split"
   ]
  },
  {
   "cell_type": "code",
   "execution_count": 57,
   "metadata": {
    "execution": {
     "iopub.execute_input": "2020-12-08T20:06:14.410805Z",
     "iopub.status.busy": "2020-12-08T20:06:14.407947Z",
     "iopub.status.idle": "2020-12-08T20:06:14.419263Z",
     "shell.execute_reply": "2020-12-08T20:06:14.419822Z"
    },
    "papermill": {
     "duration": 0.06012,
     "end_time": "2020-12-08T20:06:14.419980",
     "exception": false,
     "start_time": "2020-12-08T20:06:14.359860",
     "status": "completed"
    },
    "tags": []
   },
   "outputs": [],
   "source": [
    "X_train, X_test, y_train, y_test = train_test_split(X, y, test_size=VAL_SIZE, shuffle=True, random_state=RANDOM_SEED)\n",
    "X_train_2, X_test_2, y_train_2, y_test_2 = train_test_split(X_2, y_2, test_size=VAL_SIZE, shuffle=True, random_state=RANDOM_SEED)"
   ]
  },
  {
   "cell_type": "markdown",
   "metadata": {
    "papermill": {
     "duration": 0.041812,
     "end_time": "2020-12-08T20:06:14.504295",
     "exception": false,
     "start_time": "2020-12-08T20:06:14.462483",
     "status": "completed"
    },
    "tags": []
   },
   "source": [
    "# Model 1: Создадим \"наивную\" модель \n",
    "Эта модель будет предсказывать среднюю цену по модели двигателя (engineDisplacement). \n",
    "C ней будем сравнивать другие модели.\n",
    "\n",
    "\n",
    "\n",
    "\n",
    "tmp_train = X_train.copy()\n",
    "tmp_train['price'] = y_train\n",
    "\n",
    "# Находим median по экземплярам engineDisplacement в трейне и размечаем тест\n",
    "predict = X_test['engineDisplacement'].map(tmp_train.groupby('engineDisplacement')['price'].median())\n",
    "\n",
    "#оцениваем точность\n",
    "print(f\"Точность наивной модели по метрике MAPE: {(mape(y_test, predict.values))*100:0.2f}%\")"
   ]
  },
  {
   "cell_type": "markdown",
   "metadata": {
    "papermill": {
     "duration": 0.041812,
     "end_time": "2020-12-08T20:06:14.504295",
     "exception": false,
     "start_time": "2020-12-08T20:06:14.462483",
     "status": "completed"
    },
    "tags": []
   },
   "source": [
    "# # Model 2 : CatBoost\n",
    "![](https://pbs.twimg.com/media/DP-jUCyXcAArRTo.png:large)   \n",
    "\n",
    "\n",
    "У нас в данных практически все признаки категориальные. Специально для работы с такими данными была создана очень удобная библиотека CatBoost от Яндекса. [https://catboost.ai](http://)     \n",
    "На данный момент **CatBoost является одной из лучших библиотек для табличных данных!**\n",
    "\n",
    "#### Полезные видео о CatBoost (на русском):\n",
    "* [Доклад про CatBoost](https://youtu.be/9ZrfErvm97M)\n",
    "* [Свежий Туториал от команды CatBoost (практическая часть)](https://youtu.be/wQt4kgAOgV0) "
   ]
  },
  {
   "cell_type": "markdown",
   "metadata": {
    "papermill": {
     "duration": 0.042803,
     "end_time": "2020-12-08T20:06:14.879631",
     "exception": false,
     "start_time": "2020-12-08T20:06:14.836828",
     "status": "completed"
    },
    "tags": []
   },
   "source": [
    "## Fit"
   ]
  },
  {
   "cell_type": "code",
   "execution_count": 58,
   "metadata": {
    "execution": {
     "iopub.execute_input": "2020-12-08T20:06:14.988542Z",
     "iopub.status.busy": "2020-12-08T20:06:14.987782Z",
     "iopub.status.idle": "2020-12-08T20:07:02.654538Z",
     "shell.execute_reply": "2020-12-08T20:07:02.653743Z"
    },
    "papermill": {
     "duration": 47.731638,
     "end_time": "2020-12-08T20:07:02.654697",
     "exception": false,
     "start_time": "2020-12-08T20:06:14.923059",
     "status": "completed"
    },
    "tags": []
   },
   "outputs": [
    {
     "name": "stdout",
     "output_type": "stream",
     "text": [
      "Wall time: 29.9 s\n"
     ]
    }
   ],
   "source": [
    "%%time\n",
    "model = CatBoostRegressor(iterations = 5000,\n",
    "                          random_seed = RANDOM_SEED,\n",
    "                          eval_metric='MAPE',\n",
    "                          custom_metric=['R2', 'MAE'],\n",
    "                          silent=True,\n",
    "                         )\n",
    "model.fit(X_train, y_train,\n",
    "         #cat_features=cat_features_ids,\n",
    "         eval_set=(X_test, y_test),\n",
    "         verbose_eval=0,\n",
    "         use_best_model=True,\n",
    "         #plot=True\n",
    "         )\n",
    "\n",
    "model.save_model('catboost_single_model_baseline.model')"
   ]
  },
  {
   "cell_type": "code",
   "execution_count": 59,
   "metadata": {},
   "outputs": [
    {
     "name": "stdout",
     "output_type": "stream",
     "text": [
      "Wall time: 26.7 s\n"
     ]
    }
   ],
   "source": [
    "%%time\n",
    "model_2 = CatBoostRegressor(iterations = 5000,\n",
    "                          random_seed = RANDOM_SEED,\n",
    "                          eval_metric='MAPE',\n",
    "                          custom_metric=['R2', 'MAE'],\n",
    "                          silent=True,\n",
    "                         )\n",
    "model_2.fit(X_train_2, y_train_2,\n",
    "         #cat_features=cat_features_ids,\n",
    "         eval_set=(X_test_2, y_test_2),\n",
    "         verbose_eval=0,\n",
    "         use_best_model=True,\n",
    "         #plot=True\n",
    "         )\n",
    "\n",
    "model_2.save_model('catboost_single_model_baseline.model')"
   ]
  },
  {
   "cell_type": "code",
   "execution_count": 60,
   "metadata": {
    "execution": {
     "iopub.execute_input": "2020-12-08T20:07:02.749737Z",
     "iopub.status.busy": "2020-12-08T20:07:02.748784Z",
     "iopub.status.idle": "2020-12-08T20:07:02.799065Z",
     "shell.execute_reply": "2020-12-08T20:07:02.799607Z"
    },
    "papermill": {
     "duration": 0.100292,
     "end_time": "2020-12-08T20:07:02.799813",
     "exception": false,
     "start_time": "2020-12-08T20:07:02.699521",
     "status": "completed"
    },
    "tags": []
   },
   "outputs": [
    {
     "name": "stdout",
     "output_type": "stream",
     "text": [
      "Точность модели по метрике MAPE: 18.11%\n",
      "Точность модели_2 по метрике MAPE: 17.83%\n"
     ]
    }
   ],
   "source": [
    "# оцениваем точность\n",
    "predict = model.predict(X_test)\n",
    "print(f\"Точность модели по метрике MAPE: {(mape(y_test, predict))*100:0.2f}%\")\n",
    "\n",
    "predict_2 = model_2.predict(X_test_2)\n",
    "print(f\"Точность модели_2 по метрике MAPE: {(mape(y_test_2, predict_2))*100:0.2f}%\")"
   ]
  },
  {
   "cell_type": "markdown",
   "metadata": {
    "papermill": {
     "duration": 0.043243,
     "end_time": "2020-12-08T20:07:02.886847",
     "exception": false,
     "start_time": "2020-12-08T20:07:02.843604",
     "status": "completed"
    },
    "tags": []
   },
   "source": [
    "Вот так просто со старта, даже не трогая сами данные и не подбирая настройки catboosta, получаем модель с уровнем ошибки в 18%!"
   ]
  },
  {
   "cell_type": "markdown",
   "metadata": {
    "papermill": {
     "duration": 0.043722,
     "end_time": "2020-12-08T20:07:02.974464",
     "exception": false,
     "start_time": "2020-12-08T20:07:02.930742",
     "status": "completed"
    },
    "tags": []
   },
   "source": [
    "### Log Traget\n",
    "Попробуем взять таргет в логорифм - это позволит уменьшить влияние выбросов на обучение модели (используем для этого np.log и np.exp).    \n",
    "В принциепе мы можем использовать любое приобразование на целевую переменную. Например деление на курс доллара, евро или гречки :) в дату сбора данных, смотрим дату парсинга в тесте в **parsing_unixtime**"
   ]
  },
  {
   "cell_type": "code",
   "execution_count": 61,
   "metadata": {
    "execution": {
     "iopub.execute_input": "2020-12-08T20:07:03.067858Z",
     "iopub.status.busy": "2020-12-08T20:07:03.067092Z",
     "iopub.status.idle": "2020-12-08T20:07:03.075165Z",
     "shell.execute_reply": "2020-12-08T20:07:03.075748Z"
    },
    "papermill": {
     "duration": 0.057021,
     "end_time": "2020-12-08T20:07:03.075897",
     "exception": false,
     "start_time": "2020-12-08T20:07:03.018876",
     "status": "completed"
    },
    "tags": []
   },
   "outputs": [
    {
     "data": {
      "text/plain": [
       "53199    13.060488\n",
       "75086    14.762874\n",
       "43113    12.762827\n",
       "69668    12.785491\n",
       "70499    11.918391\n",
       "           ...    \n",
       "6291     14.508657\n",
       "55136    12.468437\n",
       "77178    13.217674\n",
       "865      12.641097\n",
       "15861    14.403297\n",
       "Name: price, Length: 71174, dtype: float64"
      ]
     },
     "execution_count": 61,
     "metadata": {},
     "output_type": "execute_result"
    }
   ],
   "source": [
    "np.log(y_train)"
   ]
  },
  {
   "cell_type": "code",
   "execution_count": 62,
   "metadata": {
    "execution": {
     "iopub.execute_input": "2020-12-08T20:07:03.179322Z",
     "iopub.status.busy": "2020-12-08T20:07:03.178054Z",
     "iopub.status.idle": "2020-12-08T20:07:51.138545Z",
     "shell.execute_reply": "2020-12-08T20:07:51.137900Z"
    },
    "papermill": {
     "duration": 48.018318,
     "end_time": "2020-12-08T20:07:51.138709",
     "exception": false,
     "start_time": "2020-12-08T20:07:03.120391",
     "status": "completed"
    },
    "tags": []
   },
   "outputs": [
    {
     "name": "stdout",
     "output_type": "stream",
     "text": [
      "Wall time: 28.5 s\n"
     ]
    }
   ],
   "source": [
    "%%time\n",
    "model = CatBoostRegressor(iterations = 5000,\n",
    "                          random_seed = RANDOM_SEED,\n",
    "                          eval_metric='MAPE',\n",
    "                          custom_metric=['R2', 'MAE'],\n",
    "                          silent=True,\n",
    "                         )\n",
    "model.fit(X_train, np.log(y_train),\n",
    "         #cat_features=cat_features_ids,\n",
    "         eval_set=(X_test, np.log(y_test)),\n",
    "         verbose_eval=0,\n",
    "         use_best_model=True,\n",
    "         #plot=True\n",
    "         )\n",
    "\n",
    "model.save_model('catboost_single_model_2_baseline.model')"
   ]
  },
  {
   "cell_type": "code",
   "execution_count": 63,
   "metadata": {},
   "outputs": [
    {
     "name": "stdout",
     "output_type": "stream",
     "text": [
      "Wall time: 25.8 s\n"
     ]
    }
   ],
   "source": [
    "%%time\n",
    "model_2 = CatBoostRegressor(iterations = 5000,\n",
    "                          random_seed = RANDOM_SEED,\n",
    "                          eval_metric='MAPE',\n",
    "                          custom_metric=['R2', 'MAE'],\n",
    "                          silent=True,\n",
    "                         )\n",
    "model_2.fit(X_train_2, np.log(y_train_2),\n",
    "         #cat_features=cat_features_ids,\n",
    "         eval_set=(X_test_2, np.log(y_test_2)),\n",
    "         verbose_eval=0,\n",
    "         use_best_model=True,\n",
    "         #plot=True\n",
    "         )\n",
    "\n",
    "model_2.save_model('catboost_single_model_2_2_baseline.model')"
   ]
  },
  {
   "cell_type": "code",
   "execution_count": 64,
   "metadata": {
    "execution": {
     "iopub.execute_input": "2020-12-08T20:07:51.236732Z",
     "iopub.status.busy": "2020-12-08T20:07:51.235658Z",
     "iopub.status.idle": "2020-12-08T20:07:51.370469Z",
     "shell.execute_reply": "2020-12-08T20:07:51.369856Z"
    },
    "papermill": {
     "duration": 0.186449,
     "end_time": "2020-12-08T20:07:51.370603",
     "exception": false,
     "start_time": "2020-12-08T20:07:51.184154",
     "status": "completed"
    },
    "tags": []
   },
   "outputs": [],
   "source": [
    "predict_test = np.exp(model.predict(X_test))\n",
    "predict_submission = np.exp(model.predict(X_sub))\n",
    "\n",
    "predict_test_2 = np.exp(model_2.predict(X_test_2))\n",
    "predict_submission_2 = np.exp(model_2.predict(X_sub_2))"
   ]
  },
  {
   "cell_type": "code",
   "execution_count": 68,
   "metadata": {},
   "outputs": [
    {
     "name": "stdout",
     "output_type": "stream",
     "text": [
      "Точность модели по метрике MAPE: 15.07%\n"
     ]
    }
   ],
   "source": [
    "print(f\"Точность модели по метрике MAPE: {(mape(y_test, predict_test))*100:0.2f}%\")"
   ]
  },
  {
   "cell_type": "code",
   "execution_count": 65,
   "metadata": {
    "execution": {
     "iopub.execute_input": "2020-12-08T20:07:51.465732Z",
     "iopub.status.busy": "2020-12-08T20:07:51.464874Z",
     "iopub.status.idle": "2020-12-08T20:07:51.470523Z",
     "shell.execute_reply": "2020-12-08T20:07:51.471108Z"
    },
    "papermill": {
     "duration": 0.055713,
     "end_time": "2020-12-08T20:07:51.471255",
     "exception": false,
     "start_time": "2020-12-08T20:07:51.415542",
     "status": "completed"
    },
    "tags": []
   },
   "outputs": [
    {
     "name": "stdout",
     "output_type": "stream",
     "text": [
      "Точность модели_2 по метрике MAPE: 15.20%\n"
     ]
    }
   ],
   "source": [
    "print(f\"Точность модели_2 по метрике MAPE: {(mape(y_test_2, predict_test_2))*100:0.2f}%\")"
   ]
  },
  {
   "cell_type": "markdown",
   "metadata": {
    "papermill": {
     "duration": 0.044946,
     "end_time": "2020-12-08T20:07:51.561495",
     "exception": false,
     "start_time": "2020-12-08T20:07:51.516549",
     "status": "completed"
    },
    "tags": []
   },
   "source": [
    "Как видим точность возросла до 15%, а что будет на ЛБ?"
   ]
  },
  {
   "cell_type": "markdown",
   "metadata": {
    "papermill": {
     "duration": 0.044851,
     "end_time": "2020-12-08T20:07:51.651549",
     "exception": false,
     "start_time": "2020-12-08T20:07:51.606698",
     "status": "completed"
    },
    "tags": []
   },
   "source": [
    "# Submission"
   ]
  },
  {
   "cell_type": "code",
   "execution_count": 66,
   "metadata": {
    "execution": {
     "iopub.execute_input": "2020-12-08T20:07:51.748244Z",
     "iopub.status.busy": "2020-12-08T20:07:51.747492Z",
     "iopub.status.idle": "2020-12-08T20:07:52.211475Z",
     "shell.execute_reply": "2020-12-08T20:07:52.210754Z"
    },
    "papermill": {
     "duration": 0.514793,
     "end_time": "2020-12-08T20:07:52.211601",
     "exception": false,
     "start_time": "2020-12-08T20:07:51.696808",
     "status": "completed"
    },
    "tags": []
   },
   "outputs": [
    {
     "data": {
      "text/html": [
       "<div>\n",
       "<style scoped>\n",
       "    .dataframe tbody tr th:only-of-type {\n",
       "        vertical-align: middle;\n",
       "    }\n",
       "\n",
       "    .dataframe tbody tr th {\n",
       "        vertical-align: top;\n",
       "    }\n",
       "\n",
       "    .dataframe thead th {\n",
       "        text-align: right;\n",
       "    }\n",
       "</style>\n",
       "<table border=\"1\" class=\"dataframe\">\n",
       "  <thead>\n",
       "    <tr style=\"text-align: right;\">\n",
       "      <th></th>\n",
       "      <th>sell_id</th>\n",
       "      <th>price</th>\n",
       "    </tr>\n",
       "  </thead>\n",
       "  <tbody>\n",
       "    <tr>\n",
       "      <td>0</td>\n",
       "      <td>1100575026</td>\n",
       "      <td>479298.120078</td>\n",
       "    </tr>\n",
       "    <tr>\n",
       "      <td>1</td>\n",
       "      <td>1100549428</td>\n",
       "      <td>753612.285336</td>\n",
       "    </tr>\n",
       "    <tr>\n",
       "      <td>2</td>\n",
       "      <td>1100658222</td>\n",
       "      <td>679251.364011</td>\n",
       "    </tr>\n",
       "    <tr>\n",
       "      <td>3</td>\n",
       "      <td>1100937408</td>\n",
       "      <td>579601.707211</td>\n",
       "    </tr>\n",
       "    <tr>\n",
       "      <td>4</td>\n",
       "      <td>1101037972</td>\n",
       "      <td>618111.240425</td>\n",
       "    </tr>\n",
       "  </tbody>\n",
       "</table>\n",
       "</div>"
      ],
      "text/plain": [
       "      sell_id          price\n",
       "0  1100575026  479298.120078\n",
       "1  1100549428  753612.285336\n",
       "2  1100658222  679251.364011\n",
       "3  1100937408  579601.707211\n",
       "4  1101037972  618111.240425"
      ]
     },
     "execution_count": 66,
     "metadata": {},
     "output_type": "execute_result"
    }
   ],
   "source": [
    "sample_submission['price'] = predict_submission\n",
    "sample_submission.to_csv(f'submission_2_1.csv', index=False)\n",
    "sample_submission.head()"
   ]
  },
  {
   "cell_type": "code",
   "execution_count": 67,
   "metadata": {},
   "outputs": [
    {
     "data": {
      "text/html": [
       "<div>\n",
       "<style scoped>\n",
       "    .dataframe tbody tr th:only-of-type {\n",
       "        vertical-align: middle;\n",
       "    }\n",
       "\n",
       "    .dataframe tbody tr th {\n",
       "        vertical-align: top;\n",
       "    }\n",
       "\n",
       "    .dataframe thead th {\n",
       "        text-align: right;\n",
       "    }\n",
       "</style>\n",
       "<table border=\"1\" class=\"dataframe\">\n",
       "  <thead>\n",
       "    <tr style=\"text-align: right;\">\n",
       "      <th></th>\n",
       "      <th>sell_id</th>\n",
       "      <th>price</th>\n",
       "    </tr>\n",
       "  </thead>\n",
       "  <tbody>\n",
       "    <tr>\n",
       "      <td>0</td>\n",
       "      <td>1100575026</td>\n",
       "      <td>371150.191920</td>\n",
       "    </tr>\n",
       "    <tr>\n",
       "      <td>1</td>\n",
       "      <td>1100549428</td>\n",
       "      <td>652101.371590</td>\n",
       "    </tr>\n",
       "    <tr>\n",
       "      <td>2</td>\n",
       "      <td>1100658222</td>\n",
       "      <td>612710.351001</td>\n",
       "    </tr>\n",
       "    <tr>\n",
       "      <td>3</td>\n",
       "      <td>1100937408</td>\n",
       "      <td>474914.573102</td>\n",
       "    </tr>\n",
       "    <tr>\n",
       "      <td>4</td>\n",
       "      <td>1101037972</td>\n",
       "      <td>503648.853131</td>\n",
       "    </tr>\n",
       "  </tbody>\n",
       "</table>\n",
       "</div>"
      ],
      "text/plain": [
       "      sell_id          price\n",
       "0  1100575026  371150.191920\n",
       "1  1100549428  652101.371590\n",
       "2  1100658222  612710.351001\n",
       "3  1100937408  474914.573102\n",
       "4  1101037972  503648.853131"
      ]
     },
     "execution_count": 67,
     "metadata": {},
     "output_type": "execute_result"
    }
   ],
   "source": [
    "sample_submission['price'] = predict_submission_2\n",
    "sample_submission.to_csv(f'submission_2_2.csv', index=False)\n",
    "sample_submission.head()"
   ]
  },
  {
   "cell_type": "markdown",
   "metadata": {
    "papermill": {
     "duration": 0.045667,
     "end_time": "2020-12-08T20:07:52.303391",
     "exception": false,
     "start_time": "2020-12-08T20:07:52.257724",
     "status": "completed"
    },
    "tags": []
   },
   "source": [
    "В итоге получили **MAPE 27%** на ЛБ!\n",
    "\n",
    "Большая разница в ошибке может указывать на то что тест и трейн имеют различия по выборке или то что данные в трейне могли уже устареть и их нужно обновлять."
   ]
  },
  {
   "cell_type": "markdown",
   "metadata": {
    "papermill": {
     "duration": 0.045684,
     "end_time": "2020-12-08T20:07:52.395510",
     "exception": false,
     "start_time": "2020-12-08T20:07:52.349826",
     "status": "completed"
    },
    "tags": []
   },
   "source": [
    "# What's next?\n",
    "Или что еще можно сделать, чтоб улучшить результат:\n",
    "\n",
    "* Спарсить свежие данные \n",
    "* Посмотреть, что можно извлечь из признаков или как еще можно обработать признаки\n",
    "* Сгенерировать новые признаки\n",
    "* Попробовать подобрать параметры модели\n",
    "* Попробовать другие алгоритмы и библиотеки ML\n",
    "* Сделать Ансамбль моделей, Blending, Stacking"
   ]
  },
  {
   "cell_type": "markdown",
   "metadata": {
    "papermill": {
     "duration": 0.045828,
     "end_time": "2020-12-08T20:07:52.487430",
     "exception": false,
     "start_time": "2020-12-08T20:07:52.441602",
     "status": "completed"
    },
    "tags": []
   },
   "source": [
    "Подробный чек лист: https://docs.google.com/spreadsheets/d/1I_ErM3U0Cs7Rs1obyZbIEGtVn-H47pHNCi4xdDgUmXY/edit?usp=sharing"
   ]
  },
  {
   "cell_type": "code",
   "execution_count": null,
   "metadata": {
    "papermill": {
     "duration": 0.045523,
     "end_time": "2020-12-08T20:07:52.578870",
     "exception": false,
     "start_time": "2020-12-08T20:07:52.533347",
     "status": "completed"
    },
    "tags": []
   },
   "outputs": [],
   "source": []
  },
  {
   "cell_type": "markdown",
   "metadata": {
    "papermill": {
     "duration": 0.045502,
     "end_time": "2020-12-08T20:07:52.670332",
     "exception": false,
     "start_time": "2020-12-08T20:07:52.624830",
     "status": "completed"
    },
    "tags": []
   },
   "source": [
    "# ===================== EX =========================="
   ]
  },
  {
   "cell_type": "code",
   "execution_count": 23,
   "metadata": {
    "papermill": {
     "duration": 0.045502,
     "end_time": "2020-12-08T20:07:52.670332",
     "exception": false,
     "start_time": "2020-12-08T20:07:52.624830",
     "status": "completed"
    },
    "tags": []
   },
   "outputs": [
    {
     "data": {
      "text/plain": [
       "(49309, 26)"
      ]
     },
     "execution_count": 23,
     "metadata": {},
     "output_type": "execute_result"
    }
   ],
   "source": [
    "train[train.brand.apply(lambda x: x in marks_for_parsing)].shape"
   ]
  },
  {
   "cell_type": "code",
   "execution_count": null,
   "metadata": {},
   "outputs": [],
   "source": []
  }
 ],
 "metadata": {
  "kernelspec": {
   "display_name": "Python 3",
   "language": "python",
   "name": "python3"
  },
  "language_info": {
   "codemirror_mode": {
    "name": "ipython",
    "version": 3
   },
   "file_extension": ".py",
   "mimetype": "text/x-python",
   "name": "python",
   "nbconvert_exporter": "python",
   "pygments_lexer": "ipython3",
   "version": "3.7.4"
  },
  "papermill": {
   "duration": 123.720091,
   "end_time": "2020-12-08T20:07:52.915595",
   "environment_variables": {},
   "exception": null,
   "input_path": "__notebook__.ipynb",
   "output_path": "__notebook__.ipynb",
   "parameters": {},
   "start_time": "2020-12-08T20:05:49.195504",
   "version": "2.1.0"
  }
 },
 "nbformat": 4,
 "nbformat_minor": 4
}
