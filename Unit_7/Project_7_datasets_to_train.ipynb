{
 "cells": [
  {
   "cell_type": "markdown",
   "metadata": {},
   "source": [
    "## Импорт библиотек"
   ]
  },
  {
   "cell_type": "code",
   "execution_count": 3,
   "metadata": {},
   "outputs": [],
   "source": [
    "import pandas as pd\n",
    "import os\n",
    "import warnings\n",
    "import numpy as np\n",
    "import re\n",
    "\n",
    "from functools import reduce\n",
    "from datetime import datetime\n",
    "from datetime import date\n",
    "\n",
    "warnings.filterwarnings(\"ignore\")"
   ]
  },
  {
   "cell_type": "markdown",
   "metadata": {},
   "source": [
    "## Определение функций"
   ]
  },
  {
   "cell_type": "code",
   "execution_count": null,
   "metadata": {},
   "outputs": [],
   "source": []
  },
  {
   "cell_type": "markdown",
   "metadata": {},
   "source": [
    "## Установка параметров"
   ]
  },
  {
   "cell_type": "code",
   "execution_count": 4,
   "metadata": {},
   "outputs": [],
   "source": [
    "marks_for_parsing = ['SKODA', 'AUDI', 'HONDA', 'VOLVO', 'BMW', 'NISSAN', 'INFINITI',\n",
    "                     'MERCEDES', 'TOYOTA', 'LEXUS', 'VOLKSWAGEN', 'MITSUBISHI']\n",
    "data_columns = ['bodyType', 'brand', 'car_url', 'color', 'engineDisplacement', 'enginePower', \n",
    "                'equipment_dict','fuelType', 'mileage', 'modelDate', 'model_name', 'numberOfDoors', \n",
    "                'productionDate', 'sell_id', 'vehicleTransmission', 'vendor', \n",
    "                'Владельцы', 'Владение', 'ПТС', 'Привод', 'Руль']\n",
    "datasets_to_train = ['all_auto_ru_09_09_2020.csv',\n",
    "                     'all_car_27_08_2021_data_12_brands.csv',\n",
    "                     'data1.csv',\n",
    "                     'parsing_auto_ru.csv',\n",
    "                     'train_df_full_part1.csv']"
   ]
  },
  {
   "cell_type": "markdown",
   "metadata": {},
   "source": [
    "### Сокращение (перезапись только брендов из test)"
   ]
  },
  {
   "cell_type": "code",
   "execution_count": 5,
   "metadata": {},
   "outputs": [
    {
     "name": "stdout",
     "output_type": "stream",
     "text": [
      "all_auto_ru_09_09_2020.csv no parsing_unixtime\n",
      "all_auto_ru_09_09_2020.csv no parsing_unixtime\n",
      "all_car_27_08_2021_data_12_brands.csv 2021-08-29\n",
      "all_car_27_08_2021_data_12_brands.csv 2021-08-31\n",
      "data1.csv 2020-10-19\n",
      "data1.csv no parsing_unixtime\n",
      "parsing_auto_ru.csv 1970-01-01\n",
      "parsing_auto_ru.csv 2021-08-13\n",
      "train_df_full_part1.csv 2021-09-26\n",
      "train_df_full_part1.csv 2021-10-01\n"
     ]
    }
   ],
   "source": [
    "for df_name in  datasets_to_train:\n",
    "    try:\n",
    "        df = pd.read_csv('./Preproject_7_data/' + df_name,low_memory=False)\n",
    "    except Exception:\n",
    "        df = pd.read_csv('./Preproject_7_data/' + df_name,sep='\\t',low_memory=False) \n",
    "    df = df[df.brand.apply(lambda x:x in marks_for_parsing)]\n",
    "    df.to"
   ]
  },
  {
   "cell_type": "markdown",
   "metadata": {},
   "source": [
    "### Определение даты каждого датсета/ курса на эту дату"
   ]
  },
  {
   "cell_type": "code",
   "execution_count": 23,
   "metadata": {},
   "outputs": [],
   "source": [
    "parsing_date = ['2020_09_09','2021_08_29','2020_10_19','2021_08_13','2021_10_01']\n",
    "currency_rate = [1,1,1,1,1]"
   ]
  },
  {
   "cell_type": "markdown",
   "metadata": {},
   "source": [
    "### Стандартизация датасетов"
   ]
  },
  {
   "cell_type": "code",
   "execution_count": null,
   "metadata": {},
   "outputs": [],
   "source": []
  },
  {
   "cell_type": "markdown",
   "metadata": {},
   "source": [
    "### Анализ распределения цены в 5(10) топ моделях"
   ]
  },
  {
   "cell_type": "code",
   "execution_count": null,
   "metadata": {},
   "outputs": [],
   "source": []
  },
  {
   "cell_type": "code",
   "execution_count": 22,
   "metadata": {},
   "outputs": [
    {
     "name": "stdout",
     "output_type": "stream",
     "text": [
      "Index(['bodyType', 'brand', 'color', 'fuelType', 'modelDate', 'name',\n",
      "       'numberOfDoors', 'productionDate', 'vehicleConfiguration',\n",
      "       'vehicleTransmission', 'engineDisplacement', 'enginePower',\n",
      "       'description', 'mileage', 'Комплектация', 'Привод', 'Руль', 'Состояние',\n",
      "       'Владельцы', 'ПТС', 'Таможня', 'Владение', 'price', 'start_date',\n",
      "       'hidden', 'model'],\n",
      "      dtype='object')\n",
      "Index(['Unnamed: 0', 'car_url', 'bodyType', 'brand', 'color',\n",
      "       'complectation_dict', 'description', 'engineDisplacement',\n",
      "       'enginePower', 'equipment_dict', 'fuelType', 'image', 'mileage',\n",
      "       'modelDate', 'model_name', 'name', 'numberOfDoors', 'parsing_unixtime',\n",
      "       'price', 'priceCurrency', 'productionDate', 'sell_id', 'views',\n",
      "       'date_added', 'super_gen', 'vehicleConfiguration',\n",
      "       'vehicleTransmission', 'Владельцы', 'Владение', 'ПТС', 'Привод', 'Руль',\n",
      "       'Состояние', 'Таможня', 'region'],\n",
      "      dtype='object')\n",
      "Index(['bodyType', 'brand', 'car_url', 'color', 'complectation_dict',\n",
      "       'description', 'engineDisplacement', 'enginePower', 'equipment_dict',\n",
      "       'fuelType', 'image', 'mileage', 'modelDate', 'model_info', 'model_name',\n",
      "       'name', 'numberOfDoors', 'parsing_unixtime', 'priceCurrency',\n",
      "       'productionDate', 'sell_id', 'super_gen', 'vehicleConfiguration',\n",
      "       'vehicleTransmission', 'vendor', 'Владельцы', 'Владение', 'ПТС',\n",
      "       'Привод', 'Руль', 'Состояние', 'Таможня', 'is_train', 'price'],\n",
      "      dtype='object')\n",
      "Index(['bodyType', 'brand', 'car_url', 'color', 'complectation_dict',\n",
      "       'description', 'engineDisplacement', 'enginePower', 'equipment_dict',\n",
      "       'fuelType', 'image', 'mileage', 'modelDate', 'model_info', 'model_name',\n",
      "       'name', 'numberOfDoors', 'parsing_unixtime', 'priceCurrency',\n",
      "       'productionDate', 'sell_id', 'super_gen', 'vehicleConfiguration',\n",
      "       'vehicleTransmission', 'vendor', 'Владельцы', 'Владение', 'ПТС',\n",
      "       'Привод', 'Руль', 'Состояние', 'Таможня', 'price'],\n",
      "      dtype='object')\n",
      "Index(['bodyType', 'brand', 'car_url', 'color', 'complectation_dict',\n",
      "       'description', 'engineDisplacement', 'enginePower', 'equipment_dict',\n",
      "       'fuelType', 'image', 'mileage', 'modelDate', 'model_info', 'model_name',\n",
      "       'name', 'numberOfDoors', 'parsing_unixtime', 'priceCurrency',\n",
      "       'productionDate', 'sell_id', 'super_gen', 'vehicleConfiguration',\n",
      "       'vehicleTransmission', 'vendor', 'Владельцы', 'Владение', 'ПТС',\n",
      "       'Привод', 'Руль', 'Состояние', 'Таможня', 'views', 'date_added',\n",
      "       'region', 'price'],\n",
      "      dtype='object')\n"
     ]
    }
   ],
   "source": [
    "for df_name in  datasets_to_train:\n",
    "    try:\n",
    "        df = pd.read_csv('./Preproject_7_data/' + df_name,low_memory=False)\n",
    "    except Exception:\n",
    "        df = pd.read_csv('./Preproject_7_data/' + df_name,sep='\\t',low_memory=False) \n",
    "    df = df[df.brand.apply(lambda x:x in marks_for_parsing)]\n",
    "    \n",
    "    print(df.columns)\n",
    "#     models_for_distribution = df.model_name.value_counts().index[:5].to_list()\n",
    "#     print(models_for_distribution)"
   ]
  },
  {
   "cell_type": "code",
   "execution_count": 20,
   "metadata": {},
   "outputs": [
    {
     "data": {
      "text/plain": [
       "['Tiguan', 'X-Trail', 'Land Cruiser', 'Touareg', 'Polo']"
      ]
     },
     "execution_count": 20,
     "metadata": {},
     "output_type": "execute_result"
    }
   ],
   "source": [
    "models_for_distribution = df.model_name.value_counts().index[:5].to_list()\n",
    "models_for_distribution"
   ]
  },
  {
   "cell_type": "code",
   "execution_count": null,
   "metadata": {},
   "outputs": [],
   "source": []
  },
  {
   "cell_type": "code",
   "execution_count": null,
   "metadata": {},
   "outputs": [],
   "source": []
  },
  {
   "cell_type": "markdown",
   "metadata": {},
   "source": [
    "### Соотношение курсового коэфициента с рапределением"
   ]
  },
  {
   "cell_type": "code",
   "execution_count": null,
   "metadata": {},
   "outputs": [],
   "source": []
  },
  {
   "cell_type": "code",
   "execution_count": null,
   "metadata": {},
   "outputs": [],
   "source": []
  },
  {
   "cell_type": "code",
   "execution_count": 10,
   "metadata": {},
   "outputs": [],
   "source": [
    "'''for df_name in  datasets_to_train:\n",
    "    \n",
    "    try:\n",
    "        df = pd.read_csv('./Preproject_7_data/' + df_name,low_memory=False)\n",
    "#         print('ok')\n",
    "    except:\n",
    "        df = pd.read_csv('./Preproject_7_data/' + df_name,sep='\\t',low_memory=False) \n",
    "#         print('trouble')\n",
    "#     print(df.brand.unique())\n",
    "    df = df[df.brand.apply(lambda x:x in marks_for_parsing)]\n",
    "#     print(df.brand.unique())\n",
    "    print(df_name,end=' ')\n",
    "    try:\n",
    "        print(date.fromtimestamp((df.parsing_unixtime.min())))\n",
    "    except:\n",
    "        print('no parsing_unixtime')\n",
    "    print(df_name,end=' ')\n",
    "    try:\n",
    "        print(date.fromtimestamp((df.parsing_unixtime.max())))\n",
    "    except:\n",
    "        print('no parsing_unixtime')''';"
   ]
  },
  {
   "cell_type": "code",
   "execution_count": null,
   "metadata": {},
   "outputs": [],
   "source": []
  }
 ],
 "metadata": {
  "kernelspec": {
   "display_name": "Python 3",
   "language": "python",
   "name": "python3"
  },
  "language_info": {
   "codemirror_mode": {
    "name": "ipython",
    "version": 3
   },
   "file_extension": ".py",
   "mimetype": "text/x-python",
   "name": "python",
   "nbconvert_exporter": "python",
   "pygments_lexer": "ipython3",
   "version": "3.8.8"
  }
 },
 "nbformat": 4,
 "nbformat_minor": 2
}
