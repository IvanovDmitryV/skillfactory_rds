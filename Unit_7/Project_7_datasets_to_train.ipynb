{
 "cells": [
  {
   "cell_type": "markdown",
   "metadata": {},
   "source": [
    "## Импорт библиотек"
   ]
  },
  {
   "cell_type": "code",
   "execution_count": 64,
   "metadata": {},
   "outputs": [],
   "source": [
    "import pandas as pd\n",
    "import os\n",
    "import warnings\n",
    "import numpy as np\n",
    "import re\n",
    "import json\n",
    "\n",
    "from functools import reduce\n",
    "from datetime import datetime\n",
    "from datetime import date\n",
    "\n",
    "warnings.filterwarnings(\"ignore\")"
   ]
  },
  {
   "cell_type": "markdown",
   "metadata": {},
   "source": [
    "## Определение функций"
   ]
  },
  {
   "cell_type": "markdown",
   "metadata": {},
   "source": [
    "## Установка параметров"
   ]
  },
  {
   "cell_type": "code",
   "execution_count": 2,
   "metadata": {},
   "outputs": [],
   "source": [
    "marks_for_parsing = ['SKODA', 'AUDI', 'HONDA', 'VOLVO', 'BMW', 'NISSAN', 'INFINITI',\n",
    "                     'MERCEDES', 'TOYOTA', 'LEXUS', 'VOLKSWAGEN', 'MITSUBISHI']\n",
    "data_columns = ['bodyType', 'brand', 'car_url', 'color', 'engineDisplacement', 'enginePower', \n",
    "                'equipment_dict','fuelType', 'mileage', 'modelDate', 'model_name', 'numberOfDoors', \n",
    "                'productionDate', 'sell_id', 'vehicleTransmission', 'vendor', \n",
    "                'Владельцы', 'Владение', 'ПТС', 'Привод', 'Руль']\n",
    "outer_datasets = ['all_auto_ru_09_09_2020.csv',\n",
    "                     'all_car_27_08_2021_data_12_brands.csv',\n",
    "                     'data1.csv',\n",
    "                     'parsing_auto_ru.csv',\n",
    "                     'train_df_full_part1.csv']"
   ]
  },
  {
   "cell_type": "markdown",
   "metadata": {},
   "source": [
    "### Сокращение (перезапись только брендов из test)"
   ]
  },
  {
   "cell_type": "code",
   "execution_count": 3,
   "metadata": {},
   "outputs": [],
   "source": [
    "# for df_name,pars_date in  zip(outer_datasets,parsing_date):\n",
    "#     try:\n",
    "#         df = pd.read_csv('./Preproject_7_data/' + df_name,low_memory=False)\n",
    "#     except Exception:\n",
    "#         df = pd.read_csv('./Preproject_7_data/' + df_name,sep='\\t',low_memory=False) \n",
    "#     df = df[df.brand.apply(lambda x:x in marks_for_parsing)]\n",
    "#     file_name = 'auto_ru_' + pars_date + '.csv'\n",
    "#     print(f'./Project_7_data/{file_name}')\n",
    "#     df.to_csv(f'./Project_7_data/{file_name}',index=False)"
   ]
  },
  {
   "cell_type": "markdown",
   "metadata": {},
   "source": [
    "### Определение даты каждого датсета/ курса на эту дату"
   ]
  },
  {
   "cell_type": "code",
   "execution_count": 4,
   "metadata": {},
   "outputs": [],
   "source": [
    "parsing_date = ['2020_09_09','2021_08_29','2020_10_19','2021_08_13','2021_10_01']\n",
    "currency_rate = [1,1,1,1,1]\n",
    "basket_currency_rate_ = [1,1,1,1,1]"
   ]
  },
  {
   "cell_type": "code",
   "execution_count": 5,
   "metadata": {},
   "outputs": [],
   "source": [
    "datasets_to_train = []\n",
    "for df_name,pars_date in  zip(outer_datasets,parsing_date):\n",
    "    file_name = 'auto_ru_' + pars_date + '.csv'\n",
    "    datasets_to_train.append(file_name)"
   ]
  },
  {
   "cell_type": "markdown",
   "metadata": {},
   "source": [
    "### Корреспонденция колонок"
   ]
  },
  {
   "cell_type": "markdown",
   "metadata": {},
   "source": [
    "### унификация с test  - auto_ru_2020_09_09.csv  с учетом data_columns"
   ]
  },
  {
   "cell_type": "code",
   "execution_count": 6,
   "metadata": {},
   "outputs": [],
   "source": [
    "test = pd.read_csv('./Project_7_data/test.csv',low_memory=False)"
   ]
  },
  {
   "cell_type": "code",
   "execution_count": 7,
   "metadata": {},
   "outputs": [],
   "source": [
    "df= pd.read_csv('./Project_7_data/' + datasets_to_train[0],low_memory=False)"
   ]
  },
  {
   "cell_type": "code",
   "execution_count": 8,
   "metadata": {},
   "outputs": [
    {
     "data": {
      "text/plain": [
       "Index(['bodyType', 'brand', 'car_url', 'color', 'complectation_dict',\n",
       "       'description', 'engineDisplacement', 'enginePower', 'equipment_dict',\n",
       "       'fuelType', 'image', 'mileage', 'modelDate', 'model_info', 'model_name',\n",
       "       'name', 'numberOfDoors', 'parsing_unixtime', 'priceCurrency',\n",
       "       'productionDate', 'sell_id', 'super_gen', 'vehicleConfiguration',\n",
       "       'vehicleTransmission', 'vendor', 'Владельцы', 'Владение', 'ПТС',\n",
       "       'Привод', 'Руль', 'Состояние', 'Таможня'],\n",
       "      dtype='object')"
      ]
     },
     "execution_count": 8,
     "metadata": {},
     "output_type": "execute_result"
    }
   ],
   "source": [
    "test.columns"
   ]
  },
  {
   "cell_type": "code",
   "execution_count": 9,
   "metadata": {},
   "outputs": [
    {
     "data": {
      "text/plain": [
       "Index(['bodyType', 'brand', 'color', 'fuelType', 'modelDate', 'name',\n",
       "       'numberOfDoors', 'productionDate', 'vehicleConfiguration',\n",
       "       'vehicleTransmission', 'engineDisplacement', 'enginePower',\n",
       "       'description', 'mileage', 'Комплектация', 'Привод', 'Руль', 'Состояние',\n",
       "       'Владельцы', 'ПТС', 'Таможня', 'Владение', 'price', 'start_date',\n",
       "       'hidden', 'model'],\n",
       "      dtype='object')"
      ]
     },
     "execution_count": 9,
     "metadata": {},
     "output_type": "execute_result"
    }
   ],
   "source": [
    "df.columns"
   ]
  },
  {
   "cell_type": "markdown",
   "metadata": {},
   "source": [
    "## ============================================"
   ]
  },
  {
   "cell_type": "markdown",
   "metadata": {},
   "source": [
    "#### bodyType"
   ]
  },
  {
   "cell_type": "code",
   "execution_count": 10,
   "metadata": {},
   "outputs": [],
   "source": [
    "def bodyType_unification(x):\n",
    "    res=[]\n",
    "    x = x.lower() if type(x) == str else x  # <================\n",
    "    try:\n",
    "        for body_type in test.bodyType.unique():\n",
    "            if body_type in x:\n",
    "                res.append(body_type)\n",
    "    except Exception: return x\n",
    "    return max(res)"
   ]
  },
  {
   "cell_type": "code",
   "execution_count": 11,
   "metadata": {},
   "outputs": [
    {
     "name": "stdout",
     "output_type": "stream",
     "text": [
      "Wall time: 2min 32s\n"
     ]
    }
   ],
   "source": [
    "%%time\n",
    "df.dropna(subset=['bodyType'],inplace=True)\n",
    "\n",
    "lambda x: x.lower() if x else x\n",
    "df.bodyType = df.bodyType.apply(bodyType_unification)"
   ]
  },
  {
   "cell_type": "code",
   "execution_count": 12,
   "metadata": {},
   "outputs": [
    {
     "data": {
      "text/plain": [
       "True"
      ]
     },
     "execution_count": 12,
     "metadata": {},
     "output_type": "execute_result"
    }
   ],
   "source": [
    "set(df.bodyType.unique()) == set(test.bodyType.unique())"
   ]
  },
  {
   "cell_type": "code",
   "execution_count": 123,
   "metadata": {},
   "outputs": [
    {
     "data": {
      "text/plain": [
       "{'внедорожник 3 дв.',\n",
       " 'внедорожник 5 дв.',\n",
       " 'внедорожник открытый',\n",
       " 'кабриолет',\n",
       " 'компактвэн',\n",
       " 'купе',\n",
       " 'купе-хардтоп',\n",
       " 'лимузин',\n",
       " 'лифтбек',\n",
       " 'микровэн',\n",
       " 'минивэн',\n",
       " 'пикап двойная кабина',\n",
       " 'пикап одинарная кабина',\n",
       " 'пикап полуторная кабина',\n",
       " 'родстер',\n",
       " 'седан',\n",
       " 'седан 2 дв.',\n",
       " 'седан-хардтоп',\n",
       " 'тарга',\n",
       " 'универсал 5 дв.',\n",
       " 'фастбек',\n",
       " 'фургон',\n",
       " 'хэтчбек 3 дв.',\n",
       " 'хэтчбек 5 дв.'}"
      ]
     },
     "execution_count": 123,
     "metadata": {},
     "output_type": "execute_result"
    }
   ],
   "source": [
    "set(df.bodyType.unique())"
   ]
  },
  {
   "cell_type": "markdown",
   "metadata": {
    "collapsed": true
   },
   "source": [
    "#### brand"
   ]
  },
  {
   "cell_type": "code",
   "execution_count": 13,
   "metadata": {},
   "outputs": [
    {
     "data": {
      "text/plain": [
       "True"
      ]
     },
     "execution_count": 13,
     "metadata": {},
     "output_type": "execute_result"
    }
   ],
   "source": [
    "set(df.brand.unique()) == set(test.brand.unique())"
   ]
  },
  {
   "cell_type": "code",
   "execution_count": 122,
   "metadata": {},
   "outputs": [
    {
     "data": {
      "text/plain": [
       "{'AUDI',\n",
       " 'BMW',\n",
       " 'HONDA',\n",
       " 'INFINITI',\n",
       " 'LEXUS',\n",
       " 'MERCEDES',\n",
       " 'MITSUBISHI',\n",
       " 'NISSAN',\n",
       " 'SKODA',\n",
       " 'TOYOTA',\n",
       " 'VOLKSWAGEN',\n",
       " 'VOLVO'}"
      ]
     },
     "execution_count": 122,
     "metadata": {},
     "output_type": "execute_result"
    }
   ],
   "source": [
    "set(df.brand.unique())"
   ]
  },
  {
   "cell_type": "markdown",
   "metadata": {
    "collapsed": true
   },
   "source": [
    "#### car_url <======================================================"
   ]
  },
  {
   "cell_type": "markdown",
   "metadata": {
    "collapsed": true
   },
   "source": [
    "#### color ----------------------------------- уточнить цвета"
   ]
  },
  {
   "cell_type": "code",
   "execution_count": 14,
   "metadata": {},
   "outputs": [],
   "source": [
    "color_codes = {\n",
    "    '040001': 'чёрный',\n",
    "    'FAFBFB': 'белый', \n",
    "    '0000CC': 'синий', \n",
    "    '200204': 'коричневый', \n",
    "    'EE1D19': 'красный', \n",
    "    'CACECB': 'серый',\n",
    "    'C49648': 'бежевый', \n",
    "    '97948F': 'серебристый', \n",
    "    'FFD600': 'золотистый', \n",
    "    'FF8649': 'оранжевый', \n",
    "    '22A0F8': 'голубой',\n",
    "    'FFC0CB': 'пурпурный', \n",
    "    'DEA522': 'жёлтый', \n",
    "    '007F00': 'зелёный', \n",
    "    '660099': 'фиолетовый',\n",
    "    '4A2197': 'фиолетовый'}\n",
    "df.color = df.color.map(color_codes)"
   ]
  },
  {
   "cell_type": "code",
   "execution_count": 15,
   "metadata": {},
   "outputs": [
    {
     "data": {
      "text/plain": [
       "False"
      ]
     },
     "execution_count": 15,
     "metadata": {},
     "output_type": "execute_result"
    }
   ],
   "source": [
    "set(test.color.unique()) == set(df.color.unique())"
   ]
  },
  {
   "cell_type": "markdown",
   "metadata": {},
   "source": [
    "#### engineDisplacement"
   ]
  },
  {
   "cell_type": "code",
   "execution_count": 16,
   "metadata": {},
   "outputs": [],
   "source": [
    "test.engineDisplacement = test.engineDisplacement.apply(\n",
    "    lambda x: float(x[:-4]) if x[:-4] else np.NaN)   "
   ]
  },
  {
   "cell_type": "code",
   "execution_count": 40,
   "metadata": {},
   "outputs": [],
   "source": [
    "def engineDisplacement_unification(x):\n",
    "    x = float(re.sub(\"[^\\d.]\", r'', x)) if re.sub(\"[^\\d.]\", r'', x) else 0\n",
    "    if x >= 7: x = 0\n",
    "#     if 10 <= x < 100: return x/10\n",
    "#     if 100 <= x: return x/100\n",
    "    return x\n",
    "\n",
    "df.engineDisplacement = df.engineDisplacement.apply(engineDisplacement_unification)"
   ]
  },
  {
   "cell_type": "markdown",
   "metadata": {
    "collapsed": true
   },
   "source": [
    "#### enginePower"
   ]
  },
  {
   "cell_type": "code",
   "execution_count": 49,
   "metadata": {},
   "outputs": [],
   "source": [
    "test.enginePower = test.enginePower.apply(lambda x: int(x[:-4]))"
   ]
  },
  {
   "cell_type": "code",
   "execution_count": 53,
   "metadata": {},
   "outputs": [],
   "source": [
    "df.enginePower = df.enginePower.astype(int)"
   ]
  },
  {
   "cell_type": "markdown",
   "metadata": {
    "collapsed": true
   },
   "source": [
    "#### equipment_dict"
   ]
  },
  {
   "cell_type": "code",
   "execution_count": 114,
   "metadata": {},
   "outputs": [],
   "source": [
    "test.equipment_dict = test.equipment_dict.apply(lambda x: list(json.loads(x).keys()) if x==x else [])"
   ]
  },
  {
   "cell_type": "code",
   "execution_count": 116,
   "metadata": {},
   "outputs": [],
   "source": [
    "def train_options(x):\n",
    "    point = \"'available_options': \"\n",
    "    start = x.find(point)+len(point)+2\n",
    "    finish = x.find(\"]\",start) - 1\n",
    "    return x[start:finish].split(\"', '\")\n",
    "\n",
    "df.Комплектация = df.Комплектация.apply(train_options)"
   ]
  },
  {
   "cell_type": "markdown",
   "metadata": {
    "collapsed": true
   },
   "source": [
    "#### fuelType"
   ]
  },
  {
   "cell_type": "code",
   "execution_count": 120,
   "metadata": {},
   "outputs": [
    {
     "data": {
      "text/plain": [
       "True"
      ]
     },
     "execution_count": 120,
     "metadata": {},
     "output_type": "execute_result"
    }
   ],
   "source": [
    "set(test.fuelType.unique()) == set(df.fuelType.unique())"
   ]
  },
  {
   "cell_type": "code",
   "execution_count": 121,
   "metadata": {},
   "outputs": [
    {
     "data": {
      "text/plain": [
       "{'бензин', 'газ', 'гибрид', 'дизель', 'электро'}"
      ]
     },
     "execution_count": 121,
     "metadata": {},
     "output_type": "execute_result"
    }
   ],
   "source": [
    "set(test.fuelType.unique())"
   ]
  },
  {
   "cell_type": "markdown",
   "metadata": {
    "collapsed": true
   },
   "source": [
    "#### mileage"
   ]
  },
  {
   "cell_type": "markdown",
   "metadata": {
    "collapsed": true
   },
   "source": [
    "#### modelDate"
   ]
  },
  {
   "cell_type": "code",
   "execution_count": 130,
   "metadata": {},
   "outputs": [
    {
     "data": {
      "text/plain": [
       "array([1990, 1982, 1988, 1976, 1983, 1979, 1986, 1991, 1978, 1987, 1992,\n",
       "       1938, 2010, 2014, 2000, 2016, 2004, 2012, 2008, 1996, 2003, 2015,\n",
       "       2011, 2007, 1999, 1994, 2009, 2018, 2001, 1997, 2006, 2019, 2013,\n",
       "       2017, 2002, 2005, 1980, 1984, 1998, 1966, 1975, 1937, 1936, 1949,\n",
       "       2020, 1995, 1981, 1972, 1977, 1989, 1968, 1993, 1985, 1973, 1969,\n",
       "       1934, 1960, 1974, 1950, 1961, 1955, 1965, 1904, 1963, 1971, 1959,\n",
       "       1958, 1951, 1957])"
      ]
     },
     "execution_count": 130,
     "metadata": {},
     "output_type": "execute_result"
    }
   ],
   "source": [
    "df.modelDate = df.modelDate.astype(int)"
   ]
  },
  {
   "cell_type": "markdown",
   "metadata": {
    "collapsed": true
   },
   "source": [
    "#### model_name"
   ]
  },
  {
   "cell_type": "code",
   "execution_count": 139,
   "metadata": {},
   "outputs": [],
   "source": [
    "mn1 = set(test.model_name.unique())"
   ]
  },
  {
   "cell_type": "code",
   "execution_count": 140,
   "metadata": {},
   "outputs": [],
   "source": [
    "mn2 = set(df.model.unique())"
   ]
  },
  {
   "cell_type": "code",
   "execution_count": 141,
   "metadata": {},
   "outputs": [
    {
     "data": {
      "text/plain": [
       "{'180SX',\n",
       " 'BREVIS',\n",
       " 'CELSIOR',\n",
       " 'CLIPPER_RIO',\n",
       " 'EDIX',\n",
       " 'EQC',\n",
       " 'KLUGER',\n",
       " 'LANCER_CARGO',\n",
       " 'LIFE',\n",
       " 'M8',\n",
       " 'MISTRAL',\n",
       " 'MOCO',\n",
       " 'N_ONE',\n",
       " 'PAO',\n",
       " 'PASSPORT',\n",
       " 'PRIMASTAR',\n",
       " 'Q3_SPORTBACK',\n",
       " 'RC_F',\n",
       " 'REGIUSACE',\n",
       " 'ROOMY',\n",
       " 'SLC_KLASSE_AMG',\n",
       " 'SLK_KLASSE_AMG',\n",
       " 'S_MX',\n",
       " 'TACOMA',\n",
       " 'TITAN',\n",
       " 'TYPE_2',\n",
       " 'TYPE_3',\n",
       " 'W110',\n",
       " 'W189'}"
      ]
     },
     "execution_count": 141,
     "metadata": {},
     "output_type": "execute_result"
    }
   ],
   "source": [
    "mn2 - mn1"
   ]
  },
  {
   "cell_type": "code",
   "execution_count": 142,
   "metadata": {},
   "outputs": [
    {
     "data": {
      "text/plain": [
       "{'300ZX',\n",
       " 'ARTEON',\n",
       " 'ATLAS',\n",
       " 'COROLLA_II',\n",
       " 'GOLF_R32',\n",
       " 'IST',\n",
       " 'LANCER_RALLIART',\n",
       " 'LM',\n",
       " 'OTTI',\n",
       " 'POLO_GTI',\n",
       " 'PORTE',\n",
       " 'PRESEA',\n",
       " 'RSQ3',\n",
       " 'SPARKY',\n",
       " 'TORNEO',\n",
       " 'WILL_CYPHA',\n",
       " 'X4_M',\n",
       " 'Z',\n",
       " 'ZEST'}"
      ]
     },
     "execution_count": 142,
     "metadata": {},
     "output_type": "execute_result"
    }
   ],
   "source": [
    "mn1 - mn2"
   ]
  },
  {
   "cell_type": "markdown",
   "metadata": {
    "collapsed": true
   },
   "source": [
    "#### numberOfDoors"
   ]
  },
  {
   "cell_type": "markdown",
   "metadata": {
    "collapsed": true
   },
   "source": [
    "#### productionDate"
   ]
  },
  {
   "cell_type": "markdown",
   "metadata": {
    "collapsed": true
   },
   "source": [
    "#### sell_id"
   ]
  },
  {
   "cell_type": "markdown",
   "metadata": {
    "collapsed": true
   },
   "source": [
    "#### vehicleTransmission"
   ]
  },
  {
   "cell_type": "markdown",
   "metadata": {
    "collapsed": true
   },
   "source": [
    "#### vendor"
   ]
  },
  {
   "cell_type": "markdown",
   "metadata": {
    "collapsed": true
   },
   "source": [
    "#### Владельцы"
   ]
  },
  {
   "cell_type": "markdown",
   "metadata": {
    "collapsed": true
   },
   "source": [
    "#### Владение"
   ]
  },
  {
   "cell_type": "markdown",
   "metadata": {
    "collapsed": true
   },
   "source": [
    "#### ПТС"
   ]
  },
  {
   "cell_type": "markdown",
   "metadata": {
    "collapsed": true
   },
   "source": [
    "#### Привод"
   ]
  },
  {
   "cell_type": "markdown",
   "metadata": {
    "collapsed": true
   },
   "source": [
    "#### Руль"
   ]
  },
  {
   "cell_type": "code",
   "execution_count": null,
   "metadata": {},
   "outputs": [],
   "source": []
  },
  {
   "cell_type": "markdown",
   "metadata": {},
   "source": [
    "### Стандартизация датасетов"
   ]
  },
  {
   "cell_type": "code",
   "execution_count": null,
   "metadata": {},
   "outputs": [],
   "source": []
  },
  {
   "cell_type": "code",
   "execution_count": 116,
   "metadata": {},
   "outputs": [
    {
     "data": {
      "text/plain": [
       "['внедорожник 3 дв.',\n",
       " 'внедорожник 5 дв.',\n",
       " 'внедорожник открытый',\n",
       " 'кабриолет',\n",
       " 'компактвэн',\n",
       " 'купе',\n",
       " 'купе-хардтоп',\n",
       " 'лимузин',\n",
       " 'лифтбек',\n",
       " 'микровэн',\n",
       " 'минивэн',\n",
       " 'пикап двойная кабина',\n",
       " 'пикап одинарная кабина',\n",
       " 'пикап полуторная кабина',\n",
       " 'родстер',\n",
       " 'седан',\n",
       " 'седан 2 дв.',\n",
       " 'седан-хардтоп',\n",
       " 'тарга',\n",
       " 'универсал 5 дв.',\n",
       " 'фастбек',\n",
       " 'фургон',\n",
       " 'хэтчбек 3 дв.',\n",
       " 'хэтчбек 5 дв.']"
      ]
     },
     "execution_count": 116,
     "metadata": {},
     "output_type": "execute_result"
    }
   ],
   "source": [
    "sorted(test.bodyType.unique())"
   ]
  },
  {
   "cell_type": "code",
   "execution_count": 118,
   "metadata": {},
   "outputs": [
    {
     "data": {
      "text/plain": [
       "седан                      13147\n",
       "внедорожник 5 дв.          12228\n",
       "лифтбек                     2232\n",
       "хэтчбек 5 дв.               2124\n",
       "универсал 5 дв.             1276\n",
       "минивэн                      995\n",
       "купе                         824\n",
       "компактвэн                   489\n",
       "хэтчбек 3 дв.                485\n",
       "пикап двойная кабина         280\n",
       "купе-хардтоп                 158\n",
       "внедорожник 3 дв.            115\n",
       "родстер                       99\n",
       "фургон                        97\n",
       "кабриолет                     90\n",
       "седан-хардтоп                 12\n",
       "микровэн                       7\n",
       "лимузин                        6\n",
       "седан 2 дв.                    6\n",
       "пикап полуторная кабина        5\n",
       "пикап одинарная кабина         5\n",
       "внедорожник открытый           3\n",
       "тарга                          2\n",
       "фастбек                        1\n",
       "Name: bodyType, dtype: int64"
      ]
     },
     "execution_count": 118,
     "metadata": {},
     "output_type": "execute_result"
    }
   ],
   "source": [
    "test.bodyType.value_counts()"
   ]
  },
  {
   "cell_type": "markdown",
   "metadata": {},
   "source": [
    "### Анализ распределения цены в 5(10) топ моделях"
   ]
  },
  {
   "cell_type": "code",
   "execution_count": null,
   "metadata": {},
   "outputs": [],
   "source": []
  },
  {
   "cell_type": "code",
   "execution_count": 22,
   "metadata": {},
   "outputs": [
    {
     "name": "stdout",
     "output_type": "stream",
     "text": [
      "Index(['bodyType', 'brand', 'color', 'fuelType', 'modelDate', 'name',\n",
      "       'numberOfDoors', 'productionDate', 'vehicleConfiguration',\n",
      "       'vehicleTransmission', 'engineDisplacement', 'enginePower',\n",
      "       'description', 'mileage', 'Комплектация', 'Привод', 'Руль', 'Состояние',\n",
      "       'Владельцы', 'ПТС', 'Таможня', 'Владение', 'price', 'start_date',\n",
      "       'hidden', 'model'],\n",
      "      dtype='object')\n",
      "Index(['Unnamed: 0', 'car_url', 'bodyType', 'brand', 'color',\n",
      "       'complectation_dict', 'description', 'engineDisplacement',\n",
      "       'enginePower', 'equipment_dict', 'fuelType', 'image', 'mileage',\n",
      "       'modelDate', 'model_name', 'name', 'numberOfDoors', 'parsing_unixtime',\n",
      "       'price', 'priceCurrency', 'productionDate', 'sell_id', 'views',\n",
      "       'date_added', 'super_gen', 'vehicleConfiguration',\n",
      "       'vehicleTransmission', 'Владельцы', 'Владение', 'ПТС', 'Привод', 'Руль',\n",
      "       'Состояние', 'Таможня', 'region'],\n",
      "      dtype='object')\n",
      "Index(['bodyType', 'brand', 'car_url', 'color', 'complectation_dict',\n",
      "       'description', 'engineDisplacement', 'enginePower', 'equipment_dict',\n",
      "       'fuelType', 'image', 'mileage', 'modelDate', 'model_info', 'model_name',\n",
      "       'name', 'numberOfDoors', 'parsing_unixtime', 'priceCurrency',\n",
      "       'productionDate', 'sell_id', 'super_gen', 'vehicleConfiguration',\n",
      "       'vehicleTransmission', 'vendor', 'Владельцы', 'Владение', 'ПТС',\n",
      "       'Привод', 'Руль', 'Состояние', 'Таможня', 'is_train', 'price'],\n",
      "      dtype='object')\n",
      "Index(['bodyType', 'brand', 'car_url', 'color', 'complectation_dict',\n",
      "       'description', 'engineDisplacement', 'enginePower', 'equipment_dict',\n",
      "       'fuelType', 'image', 'mileage', 'modelDate', 'model_info', 'model_name',\n",
      "       'name', 'numberOfDoors', 'parsing_unixtime', 'priceCurrency',\n",
      "       'productionDate', 'sell_id', 'super_gen', 'vehicleConfiguration',\n",
      "       'vehicleTransmission', 'vendor', 'Владельцы', 'Владение', 'ПТС',\n",
      "       'Привод', 'Руль', 'Состояние', 'Таможня', 'price'],\n",
      "      dtype='object')\n",
      "Index(['bodyType', 'brand', 'car_url', 'color', 'complectation_dict',\n",
      "       'description', 'engineDisplacement', 'enginePower', 'equipment_dict',\n",
      "       'fuelType', 'image', 'mileage', 'modelDate', 'model_info', 'model_name',\n",
      "       'name', 'numberOfDoors', 'parsing_unixtime', 'priceCurrency',\n",
      "       'productionDate', 'sell_id', 'super_gen', 'vehicleConfiguration',\n",
      "       'vehicleTransmission', 'vendor', 'Владельцы', 'Владение', 'ПТС',\n",
      "       'Привод', 'Руль', 'Состояние', 'Таможня', 'views', 'date_added',\n",
      "       'region', 'price'],\n",
      "      dtype='object')\n"
     ]
    }
   ],
   "source": [
    "for df_name in  datasets_to_train:\n",
    "    try:\n",
    "        df = pd.read_csv('./Preproject_7_data/' + df_name,low_memory=False)\n",
    "    except Exception:\n",
    "        df = pd.read_csv('./Preproject_7_data/' + df_name,sep='\\t',low_memory=False) \n",
    "    df = df[df.brand.apply(lambda x:x in marks_for_parsing)]\n",
    "    \n",
    "    print(df.columns)\n",
    "#     models_for_distribution = df.model_name.value_counts().index[:5].to_list()\n",
    "#     print(models_for_distribution)"
   ]
  },
  {
   "cell_type": "code",
   "execution_count": 20,
   "metadata": {},
   "outputs": [
    {
     "data": {
      "text/plain": [
       "['Tiguan', 'X-Trail', 'Land Cruiser', 'Touareg', 'Polo']"
      ]
     },
     "execution_count": 20,
     "metadata": {},
     "output_type": "execute_result"
    }
   ],
   "source": [
    "models_for_distribution = df.model_name.value_counts().index[:5].to_list()\n",
    "models_for_distribution"
   ]
  },
  {
   "cell_type": "code",
   "execution_count": null,
   "metadata": {},
   "outputs": [],
   "source": []
  },
  {
   "cell_type": "code",
   "execution_count": null,
   "metadata": {},
   "outputs": [],
   "source": []
  },
  {
   "cell_type": "markdown",
   "metadata": {},
   "source": [
    "### Соотношение курсового коэфициента с рапределением"
   ]
  },
  {
   "cell_type": "code",
   "execution_count": null,
   "metadata": {},
   "outputs": [],
   "source": []
  },
  {
   "cell_type": "code",
   "execution_count": null,
   "metadata": {},
   "outputs": [],
   "source": []
  },
  {
   "cell_type": "code",
   "execution_count": 10,
   "metadata": {},
   "outputs": [],
   "source": [
    "'''for df_name in  datasets_to_train:\n",
    "    \n",
    "    try:\n",
    "        df = pd.read_csv('./Preproject_7_data/' + df_name,low_memory=False)\n",
    "#         print('ok')\n",
    "    except:\n",
    "        df = pd.read_csv('./Preproject_7_data/' + df_name,sep='\\t',low_memory=False) \n",
    "#         print('trouble')\n",
    "#     print(df.brand.unique())\n",
    "    df = df[df.brand.apply(lambda x:x in marks_for_parsing)]\n",
    "#     print(df.brand.unique())\n",
    "    print(df_name,end=' ')\n",
    "    try:\n",
    "        print(date.fromtimestamp((df.parsing_unixtime.min())))\n",
    "    except:\n",
    "        print('no parsing_unixtime')\n",
    "    print(df_name,end=' ')\n",
    "    try:\n",
    "        print(date.fromtimestamp((df.parsing_unixtime.max())))\n",
    "    except:\n",
    "        print('no parsing_unixtime')''';"
   ]
  },
  {
   "cell_type": "code",
   "execution_count": null,
   "metadata": {},
   "outputs": [],
   "source": []
  },
  {
   "cell_type": "markdown",
   "metadata": {},
   "source": [
    "## =================================="
   ]
  },
  {
   "cell_type": "code",
   "execution_count": 27,
   "metadata": {},
   "outputs": [
    {
     "data": {
      "text/plain": [
       "array(['седан', 'универсал 5 дв.', 'хэтчбек 5 дв. sportback',\n",
       "       'хэтчбек 3 дв.', 'хэтчбек 5 дв.', 'кабриолет', 'купе',\n",
       "       'лифтбек sportback', 'лифтбек', 'седан long', 'внедорожник 5 дв.',\n",
       "       'кабриолет roadster', 'седан 2 дв.', 'седан gran coupe',\n",
       "       'компактвэн'], dtype=object)"
      ]
     },
     "execution_count": 27,
     "metadata": {},
     "output_type": "execute_result"
    }
   ],
   "source": [
    "def trfn(x):\n",
    "    try:res = x.lower()   \n",
    "    except Exception:res = x\n",
    "    return res\n",
    "\n",
    "df.bodyType.apply(trfn).unique()[:15]"
   ]
  }
 ],
 "metadata": {
  "kernelspec": {
   "display_name": "Python 3",
   "language": "python",
   "name": "python3"
  },
  "language_info": {
   "codemirror_mode": {
    "name": "ipython",
    "version": 3
   },
   "file_extension": ".py",
   "mimetype": "text/x-python",
   "name": "python",
   "nbconvert_exporter": "python",
   "pygments_lexer": "ipython3",
   "version": "3.8.8"
  }
 },
 "nbformat": 4,
 "nbformat_minor": 2
}
