{
 "cells": [
  {
   "cell_type": "markdown",
   "metadata": {},
   "source": [
    "## Импорт библиотек"
   ]
  },
  {
   "cell_type": "code",
   "execution_count": 266,
   "metadata": {},
   "outputs": [],
   "source": [
    "import pandas as pd\n",
    "import os\n",
    "import warnings\n",
    "import numpy as np\n",
    "import re\n",
    "import json\n",
    "\n",
    "from functools import reduce\n",
    "from datetime import datetime\n",
    "from datetime import date\n",
    "\n",
    "warnings.filterwarnings(\"ignore\")"
   ]
  },
  {
   "cell_type": "markdown",
   "metadata": {},
   "source": [
    "## Определение функций"
   ]
  },
  {
   "cell_type": "markdown",
   "metadata": {},
   "source": [
    "## Установка параметров"
   ]
  },
  {
   "cell_type": "code",
   "execution_count": 267,
   "metadata": {},
   "outputs": [],
   "source": [
    "marks_for_parsing = ['SKODA', 'AUDI', 'HONDA', 'VOLVO', 'BMW', 'NISSAN', 'INFINITI',\n",
    "                     'MERCEDES', 'TOYOTA', 'LEXUS', 'VOLKSWAGEN', 'MITSUBISHI']\n",
    "data_columns = ['bodyType', 'brand', 'car_url', 'color', 'engineDisplacement', 'enginePower', \n",
    "                'equipment_dict','fuelType', 'mileage', 'modelDate', 'model_name', 'numberOfDoors', \n",
    "                'productionDate', 'sell_id', 'vehicleTransmission', 'vendor', \n",
    "                'Владельцы', 'Владение', 'ПТС', 'Привод', 'Руль']\n",
    "outer_datasets = ['all_auto_ru_09_09_2020.csv',\n",
    "                     'all_car_27_08_2021_data_12_brands.csv',\n",
    "                     'data1.csv',\n",
    "                     'parsing_auto_ru.csv',\n",
    "                     'train_df_full_part1.csv']"
   ]
  },
  {
   "cell_type": "markdown",
   "metadata": {},
   "source": [
    "### Сокращение (перезапись только брендов из test)"
   ]
  },
  {
   "cell_type": "code",
   "execution_count": 268,
   "metadata": {},
   "outputs": [],
   "source": [
    "# for df_name,pars_date in  zip(outer_datasets,parsing_date):\n",
    "#     try:\n",
    "#         df = pd.read_csv('./Preproject_7_data/' + df_name,low_memory=False)\n",
    "#     except Exception:\n",
    "#         df = pd.read_csv('./Preproject_7_data/' + df_name,sep='\\t',low_memory=False) \n",
    "#     df = df[df.brand.apply(lambda x:x in marks_for_parsing)]\n",
    "#     file_name = 'auto_ru_' + pars_date + '.csv'\n",
    "#     print(f'./Project_7_data/{file_name}')\n",
    "#     df.to_csv(f'./Project_7_data/{file_name}',index=False)"
   ]
  },
  {
   "cell_type": "markdown",
   "metadata": {},
   "source": [
    "### Определение даты каждого датсета/ курса на эту дату"
   ]
  },
  {
   "cell_type": "code",
   "execution_count": 269,
   "metadata": {},
   "outputs": [],
   "source": [
    "parsing_date = ['2020_09_09','2021_08_29','2020_10_19','2021_08_13','2021_10_01']\n",
    "currency_rate = [1,1,1,1,1]\n",
    "basket_currency_rate_ = [1,1,1,1,1]"
   ]
  },
  {
   "cell_type": "code",
   "execution_count": 270,
   "metadata": {},
   "outputs": [],
   "source": [
    "datasets_to_train = []\n",
    "for df_name,pars_date in  zip(outer_datasets,parsing_date):\n",
    "    file_name = 'auto_ru_' + pars_date + '.csv'\n",
    "    datasets_to_train.append(file_name)"
   ]
  },
  {
   "cell_type": "markdown",
   "metadata": {},
   "source": [
    "### Корреспонденция колонок"
   ]
  },
  {
   "cell_type": "markdown",
   "metadata": {},
   "source": [
    "### унификация с test  - auto_ru_2020_09_09.csv  с учетом data_columns"
   ]
  },
  {
   "cell_type": "code",
   "execution_count": 271,
   "metadata": {},
   "outputs": [],
   "source": [
    "test = pd.read_csv('./Project_7_data/test.csv',low_memory=False)"
   ]
  },
  {
   "cell_type": "code",
   "execution_count": 272,
   "metadata": {},
   "outputs": [],
   "source": [
    "df= pd.read_csv('./Project_7_data/' + datasets_to_train[0],low_memory=False)"
   ]
  },
  {
   "cell_type": "code",
   "execution_count": 273,
   "metadata": {},
   "outputs": [
    {
     "data": {
      "text/plain": [
       "Index(['bodyType', 'brand', 'car_url', 'color', 'complectation_dict',\n",
       "       'description', 'engineDisplacement', 'enginePower', 'equipment_dict',\n",
       "       'fuelType', 'image', 'mileage', 'modelDate', 'model_info', 'model_name',\n",
       "       'name', 'numberOfDoors', 'parsing_unixtime', 'priceCurrency',\n",
       "       'productionDate', 'sell_id', 'super_gen', 'vehicleConfiguration',\n",
       "       'vehicleTransmission', 'vendor', 'Владельцы', 'Владение', 'ПТС',\n",
       "       'Привод', 'Руль', 'Состояние', 'Таможня'],\n",
       "      dtype='object')"
      ]
     },
     "execution_count": 273,
     "metadata": {},
     "output_type": "execute_result"
    }
   ],
   "source": [
    "test.columns"
   ]
  },
  {
   "cell_type": "code",
   "execution_count": 274,
   "metadata": {},
   "outputs": [
    {
     "data": {
      "text/plain": [
       "Index(['bodyType', 'brand', 'color', 'fuelType', 'modelDate', 'name',\n",
       "       'numberOfDoors', 'productionDate', 'vehicleConfiguration',\n",
       "       'vehicleTransmission', 'engineDisplacement', 'enginePower',\n",
       "       'description', 'mileage', 'Комплектация', 'Привод', 'Руль', 'Состояние',\n",
       "       'Владельцы', 'ПТС', 'Таможня', 'Владение', 'price', 'start_date',\n",
       "       'hidden', 'model'],\n",
       "      dtype='object')"
      ]
     },
     "execution_count": 274,
     "metadata": {},
     "output_type": "execute_result"
    }
   ],
   "source": [
    "df.columns"
   ]
  },
  {
   "cell_type": "markdown",
   "metadata": {},
   "source": [
    "## ============================================"
   ]
  },
  {
   "cell_type": "markdown",
   "metadata": {},
   "source": [
    "#### bodyType"
   ]
  },
  {
   "cell_type": "code",
   "execution_count": 275,
   "metadata": {},
   "outputs": [
    {
     "name": "stdout",
     "output_type": "stream",
     "text": [
      "Wall time: 1min 32s\n"
     ]
    }
   ],
   "source": [
    "%%time\n",
    "\n",
    "def bodyType_unification(x):\n",
    "    res=[]\n",
    "    x = x.lower() if type(x) == str else x  # <================\n",
    "    try:\n",
    "        for body_type in test.bodyType.unique():\n",
    "            if body_type in x:\n",
    "                res.append(body_type)\n",
    "    except Exception: return x\n",
    "    return max(res)\n",
    "\n",
    "df.dropna(subset=['bodyType'],inplace=True)\n",
    "lambda x: x.lower() if x else x\n",
    "df.bodyType = df.bodyType.apply(bodyType_unification)"
   ]
  },
  {
   "cell_type": "code",
   "execution_count": 276,
   "metadata": {},
   "outputs": [
    {
     "data": {
      "text/plain": [
       "True"
      ]
     },
     "execution_count": 276,
     "metadata": {},
     "output_type": "execute_result"
    }
   ],
   "source": [
    "set(df.bodyType.unique()) == set(test.bodyType.unique())"
   ]
  },
  {
   "cell_type": "markdown",
   "metadata": {
    "collapsed": true
   },
   "source": [
    "#### brand"
   ]
  },
  {
   "cell_type": "code",
   "execution_count": 277,
   "metadata": {},
   "outputs": [
    {
     "data": {
      "text/plain": [
       "True"
      ]
     },
     "execution_count": 277,
     "metadata": {},
     "output_type": "execute_result"
    }
   ],
   "source": [
    "set(df.brand.unique()) == set(test.brand.unique())"
   ]
  },
  {
   "cell_type": "markdown",
   "metadata": {
    "collapsed": true
   },
   "source": [
    "#### car_url <======================================================"
   ]
  },
  {
   "cell_type": "markdown",
   "metadata": {
    "collapsed": true
   },
   "source": [
    "#### color ----------------------------------- уточнить цвета"
   ]
  },
  {
   "cell_type": "code",
   "execution_count": 239,
   "metadata": {},
   "outputs": [],
   "source": [
    "color_codes = {\n",
    "    '040001': 'чёрный',\n",
    "    'FAFBFB': 'белый', \n",
    "    '0000CC': 'синий', \n",
    "    '200204': 'коричневый', \n",
    "    'EE1D19': 'красный', \n",
    "    'CACECB': 'серый',\n",
    "    'C49648': 'бежевый', \n",
    "    '97948F': 'серебристый', \n",
    "    'FFD600': 'жёлтый', \n",
    "    'FF8649': 'оранжевый', \n",
    "    '22A0F8': 'голубой',\n",
    "    'FFC0CB': 'розовый', \n",
    "    'DEA522': 'золотистый', \n",
    "    '007F00': 'зелёный', \n",
    "    '660099': 'пурпурный',\n",
    "    '4A2197': 'фиолетовый'}\n",
    "df.color = df.color.map(color_codes)"
   ]
  },
  {
   "cell_type": "code",
   "execution_count": 240,
   "metadata": {},
   "outputs": [
    {
     "data": {
      "text/plain": [
       "True"
      ]
     },
     "execution_count": 240,
     "metadata": {},
     "output_type": "execute_result"
    }
   ],
   "source": [
    "set(test.color.unique()) == set(df.color.unique())"
   ]
  },
  {
   "cell_type": "markdown",
   "metadata": {},
   "source": [
    "#### engineDisplacement"
   ]
  },
  {
   "cell_type": "code",
   "execution_count": 241,
   "metadata": {},
   "outputs": [],
   "source": [
    "test.engineDisplacement = test.engineDisplacement.apply(\n",
    "    lambda x: float(x[:-4]) if x[:-4] else np.NaN)   "
   ]
  },
  {
   "cell_type": "code",
   "execution_count": 242,
   "metadata": {},
   "outputs": [],
   "source": [
    "def engineDisplacement_unification(x):\n",
    "    x = float(re.sub(\"[^\\d.]\", r'', x)) if re.sub(\"[^\\d.]\", r'', x) else 0\n",
    "    if x >= 7: x = 0\n",
    "#     if 10 <= x < 100: return x/10\n",
    "#     if 100 <= x: return x/100\n",
    "    return x\n",
    "\n",
    "df.engineDisplacement = df.engineDisplacement.apply(engineDisplacement_unification)"
   ]
  },
  {
   "cell_type": "markdown",
   "metadata": {
    "collapsed": true
   },
   "source": [
    "#### enginePower"
   ]
  },
  {
   "cell_type": "code",
   "execution_count": 243,
   "metadata": {},
   "outputs": [],
   "source": [
    "test.enginePower = test.enginePower.apply(lambda x: int(x[:-4]))"
   ]
  },
  {
   "cell_type": "code",
   "execution_count": 244,
   "metadata": {},
   "outputs": [],
   "source": [
    "df.enginePower = df.enginePower.astype(int)"
   ]
  },
  {
   "cell_type": "markdown",
   "metadata": {
    "collapsed": true
   },
   "source": [
    "#### equipment_dict"
   ]
  },
  {
   "cell_type": "code",
   "execution_count": 245,
   "metadata": {},
   "outputs": [],
   "source": [
    "test.equipment_dict = test.equipment_dict.apply(lambda x: list(json.loads(x).keys()) if x==x else [])"
   ]
  },
  {
   "cell_type": "code",
   "execution_count": 246,
   "metadata": {},
   "outputs": [],
   "source": [
    "def train_options(x):\n",
    "    point = \"'available_options': \"\n",
    "    start = x.find(point)+len(point)+2\n",
    "    finish = x.find(\"]\",start) - 1\n",
    "    return x[start:finish].split(\"', '\")\n",
    "\n",
    "df.Комплектация = df.Комплектация.apply(train_options)"
   ]
  },
  {
   "cell_type": "markdown",
   "metadata": {
    "collapsed": true
   },
   "source": [
    "#### fuelType"
   ]
  },
  {
   "cell_type": "code",
   "execution_count": 247,
   "metadata": {},
   "outputs": [
    {
     "data": {
      "text/plain": [
       "True"
      ]
     },
     "execution_count": 247,
     "metadata": {},
     "output_type": "execute_result"
    }
   ],
   "source": [
    "set(test.fuelType.unique()) == set(df.fuelType.unique())"
   ]
  },
  {
   "cell_type": "markdown",
   "metadata": {
    "collapsed": true
   },
   "source": [
    "#### mileage <===== ВСЕ ОК"
   ]
  },
  {
   "cell_type": "markdown",
   "metadata": {
    "collapsed": true
   },
   "source": [
    "#### modelDate"
   ]
  },
  {
   "cell_type": "code",
   "execution_count": 249,
   "metadata": {},
   "outputs": [],
   "source": [
    "df.modelDate = df.modelDate.astype(int)"
   ]
  },
  {
   "cell_type": "markdown",
   "metadata": {
    "collapsed": true
   },
   "source": [
    "#### model_name"
   ]
  },
  {
   "cell_type": "code",
   "execution_count": 250,
   "metadata": {},
   "outputs": [],
   "source": [
    "mn1 = set(test.model_name.unique())"
   ]
  },
  {
   "cell_type": "code",
   "execution_count": 251,
   "metadata": {},
   "outputs": [],
   "source": [
    "mn2 = set(df.model.unique())"
   ]
  },
  {
   "cell_type": "code",
   "execution_count": 342,
   "metadata": {},
   "outputs": [
    {
     "data": {
      "text/plain": [
       "{'02',\n",
       " '100',\n",
       " '100NX',\n",
       " '100_SERIES',\n",
       " '120',\n",
       " '140',\n",
       " '180SX',\n",
       " '190_SL',\n",
       " '1ER',\n",
       " '200',\n",
       " '200SX',\n",
       " '240_SERIES',\n",
       " '280ZX',\n",
       " '2ACTIVETOURER',\n",
       " '2ER',\n",
       " '2GRANDTOURER',\n",
       " '300ZX',\n",
       " '321',\n",
       " '326',\n",
       " '340',\n",
       " '350Z',\n",
       " '3ER',\n",
       " '4',\n",
       " '440',\n",
       " '460',\n",
       " '4RUNNER',\n",
       " '5ER',\n",
       " '6ER',\n",
       " '740',\n",
       " '760',\n",
       " '7ER',\n",
       " '80',\n",
       " '850',\n",
       " '8ER',\n",
       " '90',\n",
       " '920',\n",
       " '940',\n",
       " '960',\n",
       " 'A1',\n",
       " 'A2',\n",
       " 'A3',\n",
       " 'A4',\n",
       " 'A4_ALLROAD',\n",
       " 'A5',\n",
       " 'A6',\n",
       " 'A7',\n",
       " 'A8',\n",
       " 'ACCORD',\n",
       " 'ACTY',\n",
       " 'AD',\n",
       " 'AIRTREK',\n",
       " 'AIRWAVE',\n",
       " 'ALLEX',\n",
       " 'ALLROAD',\n",
       " 'ALMERA',\n",
       " 'ALMERA_CLASSIC',\n",
       " 'ALMERA_TINO',\n",
       " 'ALPHARD',\n",
       " 'ALTEZZA',\n",
       " 'ALTIMA',\n",
       " 'AMAROK',\n",
       " 'AMG_GLC_COUPE',\n",
       " 'AMG_GT',\n",
       " 'AQUA',\n",
       " 'ARISTO',\n",
       " 'ARMADA',\n",
       " 'ARTEON',\n",
       " 'ASCOT',\n",
       " 'ASPIRE',\n",
       " 'ASX',\n",
       " 'ATLAS',\n",
       " 'AURIS',\n",
       " 'AVALON',\n",
       " 'AVANCIER',\n",
       " 'AVENIR',\n",
       " 'AVENSIS',\n",
       " 'AVENSIS_VERSO',\n",
       " 'AYGO',\n",
       " 'A_KLASSE',\n",
       " 'A_KLASSE_AMG',\n",
       " 'BASSARA',\n",
       " 'BB',\n",
       " 'BEETLE',\n",
       " 'BLADE',\n",
       " 'BLUEBIRD',\n",
       " 'BLUEBIRD_SYLPHY',\n",
       " 'BORA',\n",
       " 'BREVIS',\n",
       " 'B_KLASSE',\n",
       " 'C30',\n",
       " 'C70',\n",
       " 'CADDY',\n",
       " 'CALDINA',\n",
       " 'CALIFORNIA',\n",
       " 'CAMI',\n",
       " 'CAMRY',\n",
       " 'CAMRY_SOLARA',\n",
       " 'CARAVAN_COACH',\n",
       " 'CARAVELLE',\n",
       " 'CARINA',\n",
       " 'CARINA_E',\n",
       " 'CARINA_ED',\n",
       " 'CARISMA',\n",
       " 'CAVALIER',\n",
       " 'CEDRIC',\n",
       " 'CEFIRO',\n",
       " 'CELICA',\n",
       " 'CELSIOR',\n",
       " 'CHARIOT',\n",
       " 'CHASER',\n",
       " 'CITAN',\n",
       " 'CITY',\n",
       " 'CIVIC',\n",
       " 'CIVIC_FERIO',\n",
       " 'CIVIC_TYPE_R',\n",
       " 'CLA_KLASSE',\n",
       " 'CLA_KLASSE_AMG',\n",
       " 'CLC_KLASSE',\n",
       " 'CLIPPER',\n",
       " 'CLIPPER_RIO',\n",
       " 'CLK_KLASSE',\n",
       " 'CLS_KLASSE',\n",
       " 'CLS_KLASSE_AMG',\n",
       " 'CL_KLASSE',\n",
       " 'CL_KLASSE_AMG',\n",
       " 'COLT',\n",
       " 'CONCERTO',\n",
       " 'COROLLA',\n",
       " 'COROLLA_II',\n",
       " 'COROLLA_LEVIN',\n",
       " 'COROLLA_RUMION',\n",
       " 'COROLLA_SPACIO',\n",
       " 'COROLLA_VERSO',\n",
       " 'CORONA',\n",
       " 'CORONA_EXIV',\n",
       " 'CORRADO',\n",
       " 'CORSA',\n",
       " 'COUPE',\n",
       " 'CRESTA',\n",
       " 'CROSSROAD',\n",
       " 'CROSSTOUR',\n",
       " 'CROWN',\n",
       " 'CROWN_MAJESTA',\n",
       " 'CR_V',\n",
       " 'CR_X',\n",
       " 'CR_Z',\n",
       " 'CT',\n",
       " 'CUBE',\n",
       " 'CURREN',\n",
       " 'CYNOS',\n",
       " 'C_HR',\n",
       " 'C_KLASSE',\n",
       " 'C_KLASSE_AMG',\n",
       " 'DATSUN',\n",
       " 'DAYZ',\n",
       " 'DAYZ_ROOX',\n",
       " 'DELICA',\n",
       " 'DELICA_D2',\n",
       " 'DELICA_D_5',\n",
       " 'DIAMANTE',\n",
       " 'DINGO',\n",
       " 'DION',\n",
       " 'DOMANI',\n",
       " 'DUET',\n",
       " 'E3',\n",
       " 'ECHO',\n",
       " 'ECLIPSE',\n",
       " 'ECLIPSE_CROSS',\n",
       " 'EDIX',\n",
       " 'EK_WAGON',\n",
       " 'ELEMENT',\n",
       " 'ELGRAND',\n",
       " 'ELYSION',\n",
       " 'EMERAUDE',\n",
       " 'ENDEAVOR',\n",
       " 'EOS',\n",
       " 'EQC',\n",
       " 'ES',\n",
       " 'ESQUIRE',\n",
       " 'ESTIMA',\n",
       " 'EUROVAN',\n",
       " 'EX',\n",
       " 'EXPERT',\n",
       " 'E_KLASSE',\n",
       " 'E_KLASSE_AMG',\n",
       " 'E_TRON',\n",
       " 'FABIA',\n",
       " 'FABIA_RS',\n",
       " 'FAIRLADY_Z',\n",
       " 'FAVORIT',\n",
       " 'FELICIA',\n",
       " 'FIT',\n",
       " 'FJ_CRUISER',\n",
       " 'FORTUNER',\n",
       " 'FOX',\n",
       " 'FREED',\n",
       " 'FR_V',\n",
       " 'FTO',\n",
       " 'FUGA',\n",
       " 'FUNCARGO',\n",
       " 'FX',\n",
       " 'G35',\n",
       " 'GAIA',\n",
       " 'GALANT',\n",
       " 'GLA_CLASS',\n",
       " 'GLA_CLASS_AMG',\n",
       " 'GLB_KLASSE',\n",
       " 'GLC_COUPE',\n",
       " 'GLC_KLASSE',\n",
       " 'GLC_KLASSE_AMG',\n",
       " 'GLE_KLASSE',\n",
       " 'GLE_KLASSE_AMG',\n",
       " 'GLE_KLASSE_COUPE',\n",
       " 'GLE_KLASSE_COUPE_AMG',\n",
       " 'GLK_KLASSE',\n",
       " 'GLORIA',\n",
       " 'GLS_KLASSE',\n",
       " 'GLS_KLASSE_AMG',\n",
       " 'GL_KLASSE',\n",
       " 'GL_KLASSE_AMG',\n",
       " 'GOLF',\n",
       " 'GOLF_GTI',\n",
       " 'GOLF_PLUS',\n",
       " 'GOLF_R',\n",
       " 'GOLF_R32',\n",
       " 'GRANDIS',\n",
       " 'GRAND_HIACE',\n",
       " 'GRANVIA',\n",
       " 'GS',\n",
       " 'GT86',\n",
       " 'GT_R',\n",
       " 'GX',\n",
       " 'G_KLASSE',\n",
       " 'G_KLASSE_AMG',\n",
       " 'HARRIER',\n",
       " 'HIACE',\n",
       " 'HIGHLANDER',\n",
       " 'HILUX',\n",
       " 'HILUX_SURF',\n",
       " 'HR_V',\n",
       " 'HS',\n",
       " 'I',\n",
       " 'I3',\n",
       " 'I8',\n",
       " 'INSIGHT',\n",
       " 'INSPIRE',\n",
       " 'INTEGRA',\n",
       " 'IPSUM',\n",
       " 'IQ',\n",
       " 'IS',\n",
       " 'ISIS',\n",
       " 'IST',\n",
       " 'I_MIEV',\n",
       " 'JAZZ',\n",
       " 'JETTA',\n",
       " 'JUKE',\n",
       " 'JUKE_NISMO',\n",
       " 'JX',\n",
       " 'KAROQ',\n",
       " 'KIX',\n",
       " 'KLUGER',\n",
       " 'KODIAQ',\n",
       " 'L200',\n",
       " 'L300',\n",
       " 'L400',\n",
       " 'LAFESTA',\n",
       " 'LANCER',\n",
       " 'LANCER_CARGO',\n",
       " 'LANCER_EVOLUTION',\n",
       " 'LANCER_RALLIART',\n",
       " 'LAND_CRUISER',\n",
       " 'LAND_CRUISER_PRADO',\n",
       " 'LARGO',\n",
       " 'LAUREL',\n",
       " 'LEAF',\n",
       " 'LEGEND',\n",
       " 'LEGNUM',\n",
       " 'LIBERO',\n",
       " 'LIBERTY',\n",
       " 'LIFE',\n",
       " 'LITE_ACE',\n",
       " 'LM',\n",
       " 'LOGO',\n",
       " 'LS',\n",
       " 'LUPO',\n",
       " 'LX',\n",
       " 'M',\n",
       " 'M1',\n",
       " 'M2',\n",
       " 'M3',\n",
       " 'M4',\n",
       " 'M5',\n",
       " 'M6',\n",
       " 'M8',\n",
       " 'MARCH',\n",
       " 'MARK_II',\n",
       " 'MARK_X',\n",
       " 'MARK_X_ZIO',\n",
       " 'MASTER_ACE_SURF',\n",
       " 'MATRIX',\n",
       " 'MAXIMA',\n",
       " 'MAYBACH_GLS',\n",
       " 'MEGA_CRUISER',\n",
       " 'MICRA',\n",
       " 'MINICA',\n",
       " 'MINICAB',\n",
       " 'MIRAGE',\n",
       " 'MISTRAL',\n",
       " 'MOBILIO',\n",
       " 'MOBILIO_SPIKE',\n",
       " 'MOCO',\n",
       " 'MONTERO',\n",
       " 'MONTERO_SPORT',\n",
       " 'MR2',\n",
       " 'MR_S',\n",
       " 'MULTIVAN',\n",
       " 'MURANO',\n",
       " 'M_KLASSE',\n",
       " 'M_KLASSE_AMG',\n",
       " 'NADIA',\n",
       " 'NAVARA',\n",
       " 'NOAH',\n",
       " 'NOTE',\n",
       " 'NP300',\n",
       " 'NV200',\n",
       " 'NX',\n",
       " 'N_BOX',\n",
       " 'N_ONE',\n",
       " 'N_WGN',\n",
       " 'OCTAVIA',\n",
       " 'OCTAVIA_RS',\n",
       " 'ODYSSEY',\n",
       " 'ODYSSEY_NA',\n",
       " 'OPA',\n",
       " 'ORIGIN',\n",
       " 'ORTHIA',\n",
       " 'OTTI',\n",
       " 'OUTLANDER',\n",
       " 'PAJERO',\n",
       " 'PAJERO_IO',\n",
       " 'PAJERO_MINI',\n",
       " 'PAJERO_PININ',\n",
       " 'PAJERO_SPORT',\n",
       " 'PAO',\n",
       " 'PARTNER',\n",
       " 'PASEO',\n",
       " 'PASSAT',\n",
       " 'PASSAT_CC',\n",
       " 'PASSO',\n",
       " 'PASSPORT',\n",
       " 'PATHFINDER',\n",
       " 'PATROL',\n",
       " 'PHAETON',\n",
       " 'PICNIC',\n",
       " 'PILOT',\n",
       " 'PLATZ',\n",
       " 'POINTER',\n",
       " 'POLO',\n",
       " 'POLO_GTI',\n",
       " 'POPULAR',\n",
       " 'PORTE',\n",
       " 'PRAIRIE',\n",
       " 'PRELUDE',\n",
       " 'PREMIO',\n",
       " 'PRESAGE',\n",
       " 'PRESEA',\n",
       " 'PRESIDENT',\n",
       " 'PREVIA',\n",
       " 'PRIMASTAR',\n",
       " 'PRIMERA',\n",
       " 'PRIUS',\n",
       " 'PRIUSPLUS',\n",
       " 'PRIUS_ALPHA',\n",
       " 'PROBOX',\n",
       " 'PROGRES',\n",
       " 'PULSAR',\n",
       " 'Q',\n",
       " 'Q3',\n",
       " 'Q30',\n",
       " 'Q3_SPORTBACK',\n",
       " 'Q5',\n",
       " 'Q50',\n",
       " 'Q60',\n",
       " 'Q7',\n",
       " 'Q70',\n",
       " 'Q8',\n",
       " 'QASHQAI',\n",
       " 'QASHQAI_PLUS_2',\n",
       " 'QUEST',\n",
       " 'QX30',\n",
       " 'QX4',\n",
       " 'QX50',\n",
       " 'QX56',\n",
       " 'QX60',\n",
       " 'QX70',\n",
       " 'QX80',\n",
       " 'R8',\n",
       " 'RACTIS',\n",
       " 'RAFAGA',\n",
       " 'RAPID',\n",
       " 'RAUM',\n",
       " 'RAV_4',\n",
       " 'RC',\n",
       " 'RC_F',\n",
       " 'REGIUS',\n",
       " 'REGIUSACE',\n",
       " 'RIDGELINE',\n",
       " 'RNESSA',\n",
       " 'ROOMSTER',\n",
       " 'ROOMY',\n",
       " 'RS3',\n",
       " 'RS4',\n",
       " 'RS5',\n",
       " 'RS6',\n",
       " 'RS7',\n",
       " 'RSQ3',\n",
       " 'RVR',\n",
       " 'RX',\n",
       " 'R_KLASSE',\n",
       " 'S2000',\n",
       " 'S3',\n",
       " 'S4',\n",
       " 'S40',\n",
       " 'S5',\n",
       " 'S6',\n",
       " 'S60',\n",
       " 'S60_CROSS_COUNTRY',\n",
       " 'S7',\n",
       " 'S70',\n",
       " 'S8',\n",
       " 'S80',\n",
       " 'S90',\n",
       " 'SABER',\n",
       " 'SAFARI',\n",
       " 'SC',\n",
       " 'SCEPTER_SEDAN',\n",
       " 'SCIROCCO',\n",
       " 'SENTRA',\n",
       " 'SEQUOIA',\n",
       " 'SERA',\n",
       " 'SERENA',\n",
       " 'SHARAN',\n",
       " 'SHUTTLE',\n",
       " 'SIENNA',\n",
       " 'SIENTA',\n",
       " 'SIGMA',\n",
       " 'SILVIA',\n",
       " 'SIMPLEX',\n",
       " 'SKYLINE',\n",
       " 'SLC_KLASSE',\n",
       " 'SLC_KLASSE_AMG',\n",
       " 'SLK_KLASSE',\n",
       " 'SLK_KLASSE_AMG',\n",
       " 'SLR_KLASSE',\n",
       " 'SLS_AMG',\n",
       " 'SL_KLASSE',\n",
       " 'SL_KLASSE_AMG',\n",
       " 'SOARER',\n",
       " 'SPACE_GEAR',\n",
       " 'SPACE_RUNNER',\n",
       " 'SPACE_STAR',\n",
       " 'SPACE_WAGON',\n",
       " 'SPADE',\n",
       " 'SPARKY',\n",
       " 'SPRINTER',\n",
       " 'SPRINTER_CARIB',\n",
       " 'SPRINTER_MARINO',\n",
       " 'SPRINTER_TRUENO',\n",
       " 'SQ5',\n",
       " 'STAGEA',\n",
       " 'STARLET',\n",
       " 'STEPWAGON',\n",
       " 'STREAM',\n",
       " 'SUCCEED',\n",
       " 'SUNNY',\n",
       " 'SUPERB',\n",
       " 'SUPRA',\n",
       " 'S_CLASS_MAYBACH',\n",
       " 'S_KLASSE',\n",
       " 'S_KLASSE_AMG',\n",
       " 'S_MX',\n",
       " 'TACOMA',\n",
       " 'TARO',\n",
       " 'TEANA',\n",
       " 'TERAMONT',\n",
       " 'TERCEL',\n",
       " 'TERRANO',\n",
       " 'TERRANO_REGULUS',\n",
       " 'TIGUAN',\n",
       " 'TIIDA',\n",
       " 'TINO',\n",
       " 'TITAN',\n",
       " 'TORNEO',\n",
       " 'TOUAREG',\n",
       " 'TOURAN',\n",
       " 'TOWN_ACE',\n",
       " 'TRANSPORTER',\n",
       " 'TT',\n",
       " 'TTS',\n",
       " 'TT_RS',\n",
       " 'TUNDRA',\n",
       " 'TYPE_1',\n",
       " 'TYPE_2',\n",
       " 'TYPE_3',\n",
       " 'URVAN',\n",
       " 'UX',\n",
       " 'V40',\n",
       " 'V40_CC',\n",
       " 'V50',\n",
       " 'V60',\n",
       " 'V60_CROSS_COUNTRY',\n",
       " 'V70',\n",
       " 'V8',\n",
       " 'V90_CROSS_COUNTRY',\n",
       " 'VANEO',\n",
       " 'VANETTE',\n",
       " 'VANGUARD',\n",
       " 'VELLFIRE',\n",
       " 'VENTO',\n",
       " 'VENZA',\n",
       " 'VEROSSA',\n",
       " 'VERSO',\n",
       " 'VERSO_S',\n",
       " 'VEZEL',\n",
       " 'VIANO',\n",
       " 'VIGOR',\n",
       " 'VISTA',\n",
       " 'VITO',\n",
       " 'VITZ',\n",
       " 'VOXY',\n",
       " 'V_KLASSE',\n",
       " 'W110',\n",
       " 'W111',\n",
       " 'W114',\n",
       " 'W123',\n",
       " 'W124',\n",
       " 'W128',\n",
       " 'W136',\n",
       " 'W186',\n",
       " 'W188',\n",
       " 'W189',\n",
       " 'W201',\n",
       " 'WILL',\n",
       " 'WILL_CYPHA',\n",
       " 'WINDOM',\n",
       " 'WINGROAD',\n",
       " 'WISH',\n",
       " 'X1',\n",
       " 'X2',\n",
       " 'X3',\n",
       " 'X3_M',\n",
       " 'X4',\n",
       " 'X4_M',\n",
       " 'X5',\n",
       " 'X5_M',\n",
       " 'X6',\n",
       " 'X6_M',\n",
       " 'X7',\n",
       " 'XC40',\n",
       " 'XC60',\n",
       " 'XC70',\n",
       " 'XC90',\n",
       " 'X_KLASSE',\n",
       " 'X_TRAIL',\n",
       " 'YARIS',\n",
       " 'YARIS_VERSO',\n",
       " 'YETI',\n",
       " 'Z',\n",
       " 'Z1',\n",
       " 'Z3',\n",
       " 'Z3M',\n",
       " 'Z4',\n",
       " 'ZEST'}"
      ]
     },
     "execution_count": 342,
     "metadata": {},
     "output_type": "execute_result"
    }
   ],
   "source": [
    "mn2 | mn1"
   ]
  },
  {
   "cell_type": "code",
   "execution_count": 253,
   "metadata": {},
   "outputs": [
    {
     "data": {
      "text/plain": [
       "{'300ZX',\n",
       " 'ARTEON',\n",
       " 'ATLAS',\n",
       " 'COROLLA_II',\n",
       " 'GOLF_R32',\n",
       " 'IST',\n",
       " 'LANCER_RALLIART',\n",
       " 'LM',\n",
       " 'OTTI',\n",
       " 'POLO_GTI',\n",
       " 'PORTE',\n",
       " 'PRESEA',\n",
       " 'RSQ3',\n",
       " 'SPARKY',\n",
       " 'TORNEO',\n",
       " 'WILL_CYPHA',\n",
       " 'X4_M',\n",
       " 'Z',\n",
       " 'ZEST'}"
      ]
     },
     "execution_count": 253,
     "metadata": {},
     "output_type": "execute_result"
    }
   ],
   "source": [
    "mn1 - mn2"
   ]
  },
  {
   "cell_type": "markdown",
   "metadata": {
    "collapsed": true
   },
   "source": [
    "#### numberOfDoors"
   ]
  },
  {
   "cell_type": "code",
   "execution_count": 254,
   "metadata": {},
   "outputs": [],
   "source": [
    "df.numberOfDoors = df.numberOfDoors.astype(int)"
   ]
  },
  {
   "cell_type": "markdown",
   "metadata": {
    "collapsed": true
   },
   "source": [
    "#### productionDate"
   ]
  },
  {
   "cell_type": "markdown",
   "metadata": {
    "collapsed": true
   },
   "source": [
    "#### sell_id <================= в DF нету"
   ]
  },
  {
   "cell_type": "markdown",
   "metadata": {
    "collapsed": true
   },
   "source": [
    "#### vehicleTransmission"
   ]
  },
  {
   "cell_type": "code",
   "execution_count": 255,
   "metadata": {},
   "outputs": [],
   "source": [
    "transmission_dict = {\n",
    "    'MECHANICAL':'механическая', \n",
    "    'AUTOMATIC':'автоматическая', \n",
    "    'ROBOT':'роботизированная', \n",
    "    'VARIATOR':'автоматическая'}\n",
    "df.vehicleTransmission = df.vehicleTransmission.map(transmission_dict)"
   ]
  },
  {
   "cell_type": "markdown",
   "metadata": {
    "collapsed": true
   },
   "source": [
    "#### vendor "
   ]
  },
  {
   "cell_type": "code",
   "execution_count": 256,
   "metadata": {},
   "outputs": [],
   "source": [
    "vendor_dict = {\n",
    "    'AUDI':'EUROPEAN',\n",
    "    'BMW':'EUROPEAN',\n",
    "    'HONDA':'JAPANESE',\n",
    "    'INFINITI':'JAPANESE',\n",
    "    'LEXUS':'JAPANESE',\n",
    "    'MERCEDES':'EUROPEAN',\n",
    "    'MITSUBISHI':'JAPANESE',\n",
    "    'NISSAN':'JAPANESE',\n",
    "    'SKODA':'EUROPEAN',\n",
    "    'TOYOTA':'JAPANESE',\n",
    "    'VOLKSWAGEN':'EUROPEAN',\n",
    "    'VOLVO':'EUROPEAN'\n",
    "}\n",
    "\n",
    "df['vendor'] = df.brand.map(vendor_dict)"
   ]
  },
  {
   "cell_type": "markdown",
   "metadata": {
    "collapsed": true
   },
   "source": [
    "#### Владельцы"
   ]
  },
  {
   "cell_type": "code",
   "execution_count": 257,
   "metadata": {},
   "outputs": [],
   "source": [
    "owner_dict = {\n",
    "    '3 или более': 3., \n",
    "    '2\\xa0владельца': 2.,\n",
    "    '1\\xa0владелец': 1.\n",
    "}\n",
    "test.Владельцы = test.Владельцы.map(owner_dict)"
   ]
  },
  {
   "cell_type": "markdown",
   "metadata": {
    "collapsed": true
   },
   "source": [
    "#### Владение"
   ]
  },
  {
   "cell_type": "code",
   "execution_count": 258,
   "metadata": {},
   "outputs": [
    {
     "data": {
      "text/plain": [
       "array([  0,  38,  11,  49,  28,   1,  46,  30,  76,   2,   4,  22,  31,\n",
       "        95,  89,  23,  25,  84,  50,  32,  29, 155,  71,  35,  37,  13,\n",
       "        12,  19,   3,  17,  14,  92,  40,  18, 152,  73,  83,  64,  41,\n",
       "        74,  54,  42,  20,  21,  47,  26,  36,  65,  33,  81,   9,  15,\n",
       "        51,   8,  72,  16,  62,  34,  44,  53,  61,  58,  10,  96,  82,\n",
       "        56,  94,  70, 125,  43,  87,  69,  45,   6,  79,  98, 100,  27,\n",
       "        24,  52,  57, 344, 141, 199,  78,  68, 102, 151,  97,  86,  85,\n",
       "       129,  77,   5, 178,  39,  99,  60, 211, 135, 157, 109, 113,   7,\n",
       "       119, 110,  55, 148, 120, 111, 105, 115,  59, 101,  66,  91,  88,\n",
       "        90,  48, 124, 112, 106,  67, 136, 143, 132, 123, 146, 108, 126,\n",
       "        63, 190, 104, 140, 118, 137,  93, 139, 114, 149,  80, 134, 128,\n",
       "        75, 130, 410, 270, 121, 142, 103, 280, 169, 144, 164, 250, 107,\n",
       "       173, 127, 154, 216, 166, 208, 117, 217, 333, 153, 156, 167, 193,\n",
       "       236, 131, 174, 191, 180, 138, 248, 150, 122, 171, 183, 158, 195,\n",
       "       243, 147, 189, 198, 162, 159, 116, 145, 188, 239, 232, 133, 309,\n",
       "       202, 210, 377, 359, 196, 163, 235, 514, 245, 179, 161, 192, 319,\n",
       "       221, 165, 214, 185, 209, 168, 182, 160, 181, 222, 218, 177, 172,\n",
       "       220, 290, 228, 175, 176, 201, 184, 170, 282, 357, 187, 234, 291,\n",
       "       227, 244, 204, 315, 267, 279, 230, 194, 278, 186, 203, 206, 249,\n",
       "       238, 251, 226, 205, 258, 242, 241, 261, 260, 247, 207, 254, 219,\n",
       "       285, 224, 274, 237, 256, 197, 223, 266, 233, 263, 213, 225, 200,\n",
       "       317, 240, 273], dtype=int64)"
      ]
     },
     "execution_count": 258,
     "metadata": {},
     "output_type": "execute_result"
    }
   ],
   "source": [
    "def test_ownership_unification(x):\n",
    "    try:\n",
    "        digits = re.findall('\\d+',x) \n",
    "        if len(digits) == 2: res = int(digits[0])*12 + int(digits[1])\n",
    "        elif len(digits) == 1 and 'месяц' in x: res = int(digits[0])\n",
    "        elif len(digits) == 1 and 'месяц' not in x: res = int(digits[0])*12\n",
    "    except Exception: res = 0   \n",
    "    return res\n",
    "\n",
    "test.Владение.apply(test_ownership_unification).unique()"
   ]
  },
  {
   "cell_type": "code",
   "execution_count": 259,
   "metadata": {},
   "outputs": [
    {
     "data": {
      "text/plain": [
       "array([  0, 117,  39, 203,  13,  97,  71,  90,  11,   5,  46,  27,  30,\n",
       "        14,  20, 316,  25,  37,  16, 111,  68,   4, 357,  44,  10,  81,\n",
       "       175, 273,  42,  76,  49,  21,   8,  29,  73, 112, 162, 147, 192,\n",
       "        28,   6,  62,  47,  33,  36,  59,  34,  35,  26, 143, 164,  54,\n",
       "       407,  75,  24,  66,  72,  93, 110, 135,  82,  12, 121,  48,  78,\n",
       "         9,  50,  83,  89,  31,  55,  57,  40,  17,  32,  64, 149,  79,\n",
       "        19,  87,  18,  63,  43,  22,  69,  38,  15,  67, 122,   7,  23,\n",
       "        53, 127,  65,  94,  85,  92,  86,  70, 178, 165,  52,  41, 106,\n",
       "        84,  74, 108,  56,  99,  60, 105, 217, 144, 134,  95, 168,  77,\n",
       "        88, 170, 102, 109, 255, 171, 163, 123, 131,  91,  45, 156,  96,\n",
       "       104,  51, 114, 116, 103, 139, 120,  61, 119, 159, 137, 118, 201,\n",
       "       126, 115, 128,  58, 221, 213, 150,  80, 146, 124, 136, 216, 100,\n",
       "       157, 145, 113, 101, 519, 132, 125, 198, 133, 177, 141, 167, 107,\n",
       "       267, 218,  98, 308, 138, 153, 184, 337, 191, 151, 189, 183, 152,\n",
       "       190, 193, 182, 148, 180, 130, 140, 158, 219, 154, 169, 202, 238,\n",
       "       185, 166, 161, 195, 172, 187, 174, 155, 181, 208, 306, 142, 129,\n",
       "       240, 179, 227, 280, 215, 176, 199, 160, 329, 186, 271, 173, 230,\n",
       "       279, 261, 200, 209, 204, 205, 366, 223, 214, 251, 194, 286, 188,\n",
       "       207, 212, 232, 225, 237, 249, 266, 224, 260, 228, 206, 210, 234,\n",
       "       229, 243, 362, 292, 368, 242, 278, 231, 303, 275, 340, 262, 344,\n",
       "       254, 263, 274], dtype=int64)"
      ]
     },
     "execution_count": 259,
     "metadata": {},
     "output_type": "execute_result"
    }
   ],
   "source": [
    "def train_ownership_unification(x):\n",
    "    tmp = json.loads(x.replace(\"'\",'\"'))  if x==x else {'year': 2020, 'month': 9}\n",
    "    res = (2020 - tmp['year'])*12 + tmp['month'] - 9\n",
    "    if res<0: res = 0\n",
    "    return res\n",
    "\n",
    "df.Владение.apply(train_ownership_unification).unique()"
   ]
  },
  {
   "cell_type": "markdown",
   "metadata": {
    "collapsed": true
   },
   "source": [
    "#### ПТС"
   ]
  },
  {
   "cell_type": "code",
   "execution_count": 260,
   "metadata": {},
   "outputs": [
    {
     "data": {
      "text/plain": [
       "array(['Оригинал', 'Дубликат', nan], dtype=object)"
      ]
     },
     "execution_count": 260,
     "metadata": {},
     "output_type": "execute_result"
    }
   ],
   "source": [
    "test.ПТС.unique()"
   ]
  },
  {
   "cell_type": "code",
   "execution_count": 261,
   "metadata": {},
   "outputs": [
    {
     "data": {
      "text/plain": [
       "array(['Оригинал', 'Дубликат', nan], dtype=object)"
      ]
     },
     "execution_count": 261,
     "metadata": {},
     "output_type": "execute_result"
    }
   ],
   "source": [
    "PTS_dict = {\n",
    "    'ORIGINAL': 'Оригинал', \n",
    "    'DUPLICATE': 'Дубликат'\n",
    "}\n",
    "df.ПТС.map(PTS_dict).unique()"
   ]
  },
  {
   "cell_type": "markdown",
   "metadata": {
    "collapsed": true
   },
   "source": [
    "#### Привод"
   ]
  },
  {
   "cell_type": "code",
   "execution_count": 262,
   "metadata": {},
   "outputs": [
    {
     "data": {
      "text/plain": [
       "True"
      ]
     },
     "execution_count": 262,
     "metadata": {},
     "output_type": "execute_result"
    }
   ],
   "source": [
    "set(test.Привод.unique()) == set(df.Привод.unique())"
   ]
  },
  {
   "cell_type": "markdown",
   "metadata": {
    "collapsed": true
   },
   "source": [
    "#### Руль"
   ]
  },
  {
   "cell_type": "code",
   "execution_count": 263,
   "metadata": {},
   "outputs": [
    {
     "data": {
      "text/plain": [
       "array(['Левый', 'Правый'], dtype=object)"
      ]
     },
     "execution_count": 263,
     "metadata": {},
     "output_type": "execute_result"
    }
   ],
   "source": [
    "test.Руль.unique()"
   ]
  },
  {
   "cell_type": "code",
   "execution_count": 264,
   "metadata": {},
   "outputs": [
    {
     "data": {
      "text/plain": [
       "array(['Левый', 'Правый'], dtype=object)"
      ]
     },
     "execution_count": 264,
     "metadata": {},
     "output_type": "execute_result"
    }
   ],
   "source": [
    "wheel_dict = {\n",
    "    'LEFT':'Левый', \n",
    "    'RIGHT':'Правый'}\n",
    "\n",
    "df.Руль.map(wheel_dict).unique()"
   ]
  },
  {
   "cell_type": "markdown",
   "metadata": {},
   "source": [
    "### Стандартизация датасетов"
   ]
  },
  {
   "cell_type": "code",
   "execution_count": null,
   "metadata": {},
   "outputs": [],
   "source": []
  },
  {
   "cell_type": "code",
   "execution_count": null,
   "metadata": {},
   "outputs": [],
   "source": []
  },
  {
   "cell_type": "markdown",
   "metadata": {},
   "source": [
    "### Анализ распределения цены в 5(10) топ моделях"
   ]
  },
  {
   "cell_type": "code",
   "execution_count": null,
   "metadata": {},
   "outputs": [],
   "source": []
  },
  {
   "cell_type": "code",
   "execution_count": 22,
   "metadata": {},
   "outputs": [
    {
     "name": "stdout",
     "output_type": "stream",
     "text": [
      "Index(['bodyType', 'brand', 'color', 'fuelType', 'modelDate', 'name',\n",
      "       'numberOfDoors', 'productionDate', 'vehicleConfiguration',\n",
      "       'vehicleTransmission', 'engineDisplacement', 'enginePower',\n",
      "       'description', 'mileage', 'Комплектация', 'Привод', 'Руль', 'Состояние',\n",
      "       'Владельцы', 'ПТС', 'Таможня', 'Владение', 'price', 'start_date',\n",
      "       'hidden', 'model'],\n",
      "      dtype='object')\n",
      "Index(['Unnamed: 0', 'car_url', 'bodyType', 'brand', 'color',\n",
      "       'complectation_dict', 'description', 'engineDisplacement',\n",
      "       'enginePower', 'equipment_dict', 'fuelType', 'image', 'mileage',\n",
      "       'modelDate', 'model_name', 'name', 'numberOfDoors', 'parsing_unixtime',\n",
      "       'price', 'priceCurrency', 'productionDate', 'sell_id', 'views',\n",
      "       'date_added', 'super_gen', 'vehicleConfiguration',\n",
      "       'vehicleTransmission', 'Владельцы', 'Владение', 'ПТС', 'Привод', 'Руль',\n",
      "       'Состояние', 'Таможня', 'region'],\n",
      "      dtype='object')\n",
      "Index(['bodyType', 'brand', 'car_url', 'color', 'complectation_dict',\n",
      "       'description', 'engineDisplacement', 'enginePower', 'equipment_dict',\n",
      "       'fuelType', 'image', 'mileage', 'modelDate', 'model_info', 'model_name',\n",
      "       'name', 'numberOfDoors', 'parsing_unixtime', 'priceCurrency',\n",
      "       'productionDate', 'sell_id', 'super_gen', 'vehicleConfiguration',\n",
      "       'vehicleTransmission', 'vendor', 'Владельцы', 'Владение', 'ПТС',\n",
      "       'Привод', 'Руль', 'Состояние', 'Таможня', 'is_train', 'price'],\n",
      "      dtype='object')\n",
      "Index(['bodyType', 'brand', 'car_url', 'color', 'complectation_dict',\n",
      "       'description', 'engineDisplacement', 'enginePower', 'equipment_dict',\n",
      "       'fuelType', 'image', 'mileage', 'modelDate', 'model_info', 'model_name',\n",
      "       'name', 'numberOfDoors', 'parsing_unixtime', 'priceCurrency',\n",
      "       'productionDate', 'sell_id', 'super_gen', 'vehicleConfiguration',\n",
      "       'vehicleTransmission', 'vendor', 'Владельцы', 'Владение', 'ПТС',\n",
      "       'Привод', 'Руль', 'Состояние', 'Таможня', 'price'],\n",
      "      dtype='object')\n",
      "Index(['bodyType', 'brand', 'car_url', 'color', 'complectation_dict',\n",
      "       'description', 'engineDisplacement', 'enginePower', 'equipment_dict',\n",
      "       'fuelType', 'image', 'mileage', 'modelDate', 'model_info', 'model_name',\n",
      "       'name', 'numberOfDoors', 'parsing_unixtime', 'priceCurrency',\n",
      "       'productionDate', 'sell_id', 'super_gen', 'vehicleConfiguration',\n",
      "       'vehicleTransmission', 'vendor', 'Владельцы', 'Владение', 'ПТС',\n",
      "       'Привод', 'Руль', 'Состояние', 'Таможня', 'views', 'date_added',\n",
      "       'region', 'price'],\n",
      "      dtype='object')\n"
     ]
    }
   ],
   "source": [
    "for df_name in  datasets_to_train:\n",
    "    try:\n",
    "        df = pd.read_csv('./Preproject_7_data/' + df_name,low_memory=False)\n",
    "    except Exception:\n",
    "        df = pd.read_csv('./Preproject_7_data/' + df_name,sep='\\t',low_memory=False) \n",
    "    df = df[df.brand.apply(lambda x:x in marks_for_parsing)]\n",
    "    \n",
    "    print(df.columns)\n",
    "#     models_for_distribution = df.model_name.value_counts().index[:5].to_list()\n",
    "#     print(models_for_distribution)"
   ]
  },
  {
   "cell_type": "code",
   "execution_count": 20,
   "metadata": {},
   "outputs": [
    {
     "data": {
      "text/plain": [
       "['Tiguan', 'X-Trail', 'Land Cruiser', 'Touareg', 'Polo']"
      ]
     },
     "execution_count": 20,
     "metadata": {},
     "output_type": "execute_result"
    }
   ],
   "source": [
    "models_for_distribution = df.model_name.value_counts().index[:5].to_list()\n",
    "models_for_distribution"
   ]
  },
  {
   "cell_type": "code",
   "execution_count": null,
   "metadata": {},
   "outputs": [],
   "source": []
  },
  {
   "cell_type": "code",
   "execution_count": null,
   "metadata": {},
   "outputs": [],
   "source": []
  },
  {
   "cell_type": "markdown",
   "metadata": {},
   "source": [
    "### Соотношение курсового коэфициента с рапределением"
   ]
  },
  {
   "cell_type": "code",
   "execution_count": null,
   "metadata": {},
   "outputs": [],
   "source": []
  },
  {
   "cell_type": "code",
   "execution_count": null,
   "metadata": {},
   "outputs": [],
   "source": []
  },
  {
   "cell_type": "code",
   "execution_count": 10,
   "metadata": {},
   "outputs": [],
   "source": [
    "'''for df_name in  datasets_to_train:\n",
    "    \n",
    "    try:\n",
    "        df = pd.read_csv('./Preproject_7_data/' + df_name,low_memory=False)\n",
    "#         print('ok')\n",
    "    except:\n",
    "        df = pd.read_csv('./Preproject_7_data/' + df_name,sep='\\t',low_memory=False) \n",
    "#         print('trouble')\n",
    "#     print(df.brand.unique())\n",
    "    df = df[df.brand.apply(lambda x:x in marks_for_parsing)]\n",
    "#     print(df.brand.unique())\n",
    "    print(df_name,end=' ')\n",
    "    try:\n",
    "        print(date.fromtimestamp((df.parsing_unixtime.min())))\n",
    "    except:\n",
    "        print('no parsing_unixtime')\n",
    "    print(df_name,end=' ')\n",
    "    try:\n",
    "        print(date.fromtimestamp((df.parsing_unixtime.max())))\n",
    "    except:\n",
    "        print('no parsing_unixtime')''';"
   ]
  },
  {
   "cell_type": "code",
   "execution_count": null,
   "metadata": {},
   "outputs": [],
   "source": []
  },
  {
   "cell_type": "markdown",
   "metadata": {},
   "source": [
    "## =================================="
   ]
  },
  {
   "cell_type": "code",
   "execution_count": 27,
   "metadata": {},
   "outputs": [
    {
     "data": {
      "text/plain": [
       "array(['седан', 'универсал 5 дв.', 'хэтчбек 5 дв. sportback',\n",
       "       'хэтчбек 3 дв.', 'хэтчбек 5 дв.', 'кабриолет', 'купе',\n",
       "       'лифтбек sportback', 'лифтбек', 'седан long', 'внедорожник 5 дв.',\n",
       "       'кабриолет roadster', 'седан 2 дв.', 'седан gran coupe',\n",
       "       'компактвэн'], dtype=object)"
      ]
     },
     "execution_count": 27,
     "metadata": {},
     "output_type": "execute_result"
    }
   ],
   "source": [
    "def trfn(x):\n",
    "    try:res = x.lower()   \n",
    "    except Exception:res = x\n",
    "    return res\n",
    "\n",
    "df.bodyType.apply(trfn).unique()[:15]"
   ]
  }
 ],
 "metadata": {
  "kernelspec": {
   "display_name": "Python 3",
   "language": "python",
   "name": "python3"
  },
  "language_info": {
   "codemirror_mode": {
    "name": "ipython",
    "version": 3
   },
   "file_extension": ".py",
   "mimetype": "text/x-python",
   "name": "python",
   "nbconvert_exporter": "python",
   "pygments_lexer": "ipython3",
   "version": "3.7.4"
  }
 },
 "nbformat": 4,
 "nbformat_minor": 2
}
