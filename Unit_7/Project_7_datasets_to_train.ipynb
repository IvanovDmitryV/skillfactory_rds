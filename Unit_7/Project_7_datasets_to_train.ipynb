{
 "cells": [
  {
   "cell_type": "markdown",
   "metadata": {},
   "source": [
    "## Импорт библиотек"
   ]
  },
  {
   "cell_type": "code",
   "execution_count": 1,
   "metadata": {},
   "outputs": [],
   "source": [
    "import pandas as pd\n",
    "import os\n",
    "import warnings\n",
    "import numpy as np\n",
    "import re\n",
    "import json\n",
    "\n",
    "from functools import reduce\n",
    "from datetime import datetime\n",
    "from datetime import date\n",
    "\n",
    "warnings.filterwarnings(\"ignore\")"
   ]
  },
  {
   "cell_type": "markdown",
   "metadata": {},
   "source": [
    "## Определение функций"
   ]
  },
  {
   "cell_type": "code",
   "execution_count": 2,
   "metadata": {},
   "outputs": [],
   "source": [
    "def bodyType_unification(x):\n",
    "    res=[]\n",
    "    x = x.lower() if type(x) == str else x  # <================\n",
    "    try:\n",
    "        for body_type in test.bodyType.unique():\n",
    "            if body_type in x:\n",
    "                res.append(body_type)\n",
    "    except Exception: return x\n",
    "    return max(res)\n",
    "\n",
    "def engineDisplacement_unification(x):\n",
    "    x = float(re.sub(\"[^\\d.]\", r'', x)) if re.sub(\"[^\\d.]\", r'', x) else 0\n",
    "    if x >= 7: x = 0\n",
    "    return x\n",
    "\n",
    "def train_options(x):\n",
    "    point = \"'available_options': \"\n",
    "    start = x.find(point)+len(point)+2\n",
    "    finish = x.find(\"]\",start) - 1\n",
    "    return x[start:finish].split(\"', '\")\n",
    "\n",
    "def test_ownership_unification(x):\n",
    "    try:\n",
    "        digits = re.findall('\\d+',x) \n",
    "        if len(digits) == 2: res = int(digits[0])*12 + int(digits[1])\n",
    "        elif len(digits) == 1 and 'месяц' in x: res = int(digits[0])\n",
    "        elif len(digits) == 1 and 'месяц' not in x: res = int(digits[0])*12\n",
    "    except Exception: res = 0   \n",
    "    return res\n",
    "\n",
    "def train_ownership_unification(x):\n",
    "    tmp = json.loads(x.replace(\"'\",'\"'))  if x==x else {'year': 2020, 'month': 9}\n",
    "    res = (2020 - tmp['year'])*12 + tmp['month'] - 9\n",
    "    if res<0: res = 0\n",
    "    return res\n",
    "\n",
    "def test_unification(df_to_proc):\n",
    "    test = df_to_proc.copy()[test_0909_uni_test]\n",
    "    owner_dict = {'3 или более': 3., '2\\xa0владельца': 2.,'1\\xa0владелец': 1.}\n",
    "    # engineDisplacement\n",
    "    test.engineDisplacement = test.engineDisplacement.apply(\n",
    "        lambda x: float(x[:-4]) if x[:-4] else np.NaN) \n",
    "    # enginePower\n",
    "    test.enginePower = test.enginePower.apply(lambda x: int(x[:-4]))\n",
    "    # equipment_dict\n",
    "    test.equipment_dict = test.equipment_dict.apply(\n",
    "        lambda x: list(json.loads(x).keys()) if x==x else [])\n",
    "    # Владельцы\n",
    "    test.Владельцы = test.Владельцы.map(owner_dict)\n",
    "    # Владение\n",
    "    test.Владение = test.Владение.apply(test_ownership_unification)\n",
    "    return test\n",
    "\n",
    "def train_0909_unification(df_to_proc):\n",
    "    df = df_to_proc.copy()[test_0909_uni_0909]\n",
    "    color_codes = {'040001': 'чёрный','FAFBFB': 'белый', '0000CC': 'синий', \n",
    "                   '200204': 'коричневый', 'EE1D19': 'красный', 'CACECB': 'серый',\n",
    "                   'C49648': 'бежевый', '97948F': 'серебристый', 'FFD600': 'жёлтый',\n",
    "                   'FF8649': 'оранжевый', '22A0F8': 'голубой','FFC0CB': 'розовый', \n",
    "                   'DEA522': 'золотистый', '007F00': 'зелёный', '660099': 'пурпурный',\n",
    "                   '4A2197': 'фиолетовый'}\n",
    "    transmission_dict = {'MECHANICAL':'механическая', 'AUTOMATIC':'автоматическая', \n",
    "                         'ROBOT':'роботизированная','VARIATOR':'вариатор'}\n",
    "    vendor_dict = {'AUDI':'EUROPEAN','BMW':'EUROPEAN','HONDA':'JAPANESE','INFINITI':'JAPANESE',\n",
    "                   'LEXUS':'JAPANESE','MERCEDES':'EUROPEAN','MITSUBISHI':'JAPANESE',\n",
    "                   'NISSAN':'JAPANESE','SKODA':'EUROPEAN','TOYOTA':'JAPANESE',\n",
    "                   'VOLKSWAGEN':'EUROPEAN','VOLVO':'EUROPEAN'}\n",
    "    PTS_dict = {'ORIGINAL': 'Оригинал', 'DUPLICATE': 'Дубликат'}\n",
    "    wheel_dict = {'LEFT':'Левый', 'RIGHT':'Правый'}\n",
    "    # bodyType\n",
    "    df.dropna(subset=['bodyType'],inplace=True)\n",
    "    df.bodyType = df.bodyType.apply(bodyType_unification)\n",
    "    # color\n",
    "    df.color = df.color.map(color_codes)\n",
    "    # engineDisplacement\n",
    "    df.engineDisplacement = df.engineDisplacement.apply(engineDisplacement_unification)\n",
    "    # enginePower\n",
    "    df.enginePower = df.enginePower.astype(int)\n",
    "    # equipment_dict\n",
    "    df['equipment_dict'] = df.Комплектация.apply(train_options)\n",
    "    df.drop(columns=['Комплектация'],inplace=True)\n",
    "    # modelDate \n",
    "    df.modelDate = df.modelDate.astype(int)\n",
    "    # model_name\n",
    "    df['model_name'] = df.model\n",
    "    df.drop(columns=['model'],inplace=True)\n",
    "    # numberOfDoors\n",
    "    df.numberOfDoors = df.numberOfDoors.astype(int)\n",
    "    # vehicleTransmission\n",
    "    df.vehicleTransmission = df.vehicleTransmission.map(transmission_dict)\n",
    "    # vendor\n",
    "    df['vendor'] = df.brand.map(vendor_dict)\n",
    "    # Владение\n",
    "    df.Владение = df.Владение.apply(train_ownership_unification)\n",
    "    # ПТС\n",
    "    df.ПТС = df.ПТС.map(PTS_dict)\n",
    "    # Руль\n",
    "    df.Руль = df.Руль.map(wheel_dict)\n",
    "    \n",
    "    return df"
   ]
  },
  {
   "cell_type": "markdown",
   "metadata": {},
   "source": [
    "## Установка параметров"
   ]
  },
  {
   "cell_type": "code",
   "execution_count": 6,
   "metadata": {},
   "outputs": [],
   "source": [
    "marks_for_parsing = ['SKODA', 'AUDI', 'HONDA', 'VOLVO', 'BMW', 'NISSAN', 'INFINITI',\n",
    "                     'MERCEDES', 'TOYOTA', 'LEXUS', 'VOLKSWAGEN', 'MITSUBISHI']\n",
    "data_columns = ['bodyType', 'brand', 'car_url', 'color', 'engineDisplacement', 'enginePower', \n",
    "                'equipment_dict','fuelType', 'mileage', 'modelDate', 'model_name', 'numberOfDoors', \n",
    "                'productionDate', 'sell_id', 'vehicleTransmission', 'vendor', \n",
    "                'Владельцы', 'Владение', 'ПТС', 'Привод', 'Руль']\n",
    "outer_datasets = ['all_auto_ru_09_09_2020.csv',\n",
    "                     'all_car_27_08_2021_data_12_brands.csv',\n",
    "                     'data1.csv',\n",
    "                     'parsing_auto_ru.csv',\n",
    "                     'train_df_full_part1.csv']\n",
    "test_0909_uni_test = ['bodyType', 'brand', 'color', 'engineDisplacement', 'enginePower', \n",
    "                'equipment_dict','fuelType', 'mileage', 'modelDate', 'model_name', 'numberOfDoors', \n",
    "                'productionDate', 'vehicleTransmission', 'vendor', \n",
    "                'Владельцы', 'Владение', 'ПТС', 'Привод', 'Руль']\n",
    "test_0909_uni_0909 = ['bodyType', 'brand', 'color', 'engineDisplacement', 'enginePower', \n",
    "                 'Комплектация','fuelType', 'mileage', 'modelDate', 'model', 'numberOfDoors', \n",
    "                'productionDate', 'vehicleTransmission', \n",
    "                'Владельцы', 'Владение', 'ПТС', 'Привод', 'Руль', 'price']"
   ]
  },
  {
   "cell_type": "markdown",
   "metadata": {},
   "source": [
    "### Сокращение (перезапись только брендов из test)"
   ]
  },
  {
   "cell_type": "code",
   "execution_count": 41,
   "metadata": {},
   "outputs": [],
   "source": [
    "# for df_name,pars_date in  zip(outer_datasets,parsing_date):\n",
    "#     try:\n",
    "#         df = pd.read_csv('./Preproject_7_data/' + df_name,low_memory=False)\n",
    "#     except Exception:\n",
    "#         df = pd.read_csv('./Preproject_7_data/' + df_name,sep='\\t',low_memory=False) \n",
    "#     df = df[df.brand.apply(lambda x:x in marks_for_parsing)]\n",
    "#     file_name = 'auto_ru_' + pars_date + '.csv'\n",
    "#     print(f'./Project_7_data/{file_name}')\n",
    "#     df.to_csv(f'./Project_7_data/{file_name}',index=False)"
   ]
  },
  {
   "cell_type": "markdown",
   "metadata": {},
   "source": [
    "### Определение даты каждого датсета/ курса на эту дату"
   ]
  },
  {
   "cell_type": "code",
   "execution_count": 3,
   "metadata": {},
   "outputs": [],
   "source": [
    "# parsing_date = ['2020_09_09','2021_08_29','2020_10_19','2021_08_13','2021_10_01']\n",
    "# currency_rate = [1,1,1,1,1]\n",
    "# basket_currency_rate_ = [1,1,1,1,1]"
   ]
  },
  {
   "cell_type": "code",
   "execution_count": 4,
   "metadata": {},
   "outputs": [],
   "source": [
    "# datasets_to_train = []\n",
    "# for df_name,pars_date in  zip(outer_datasets,parsing_date):\n",
    "#     file_name = 'auto_ru_' + pars_date + '.csv'\n",
    "#     datasets_to_train.append(file_name)"
   ]
  },
  {
   "cell_type": "code",
   "execution_count": 5,
   "metadata": {},
   "outputs": [],
   "source": [
    "# datasets_to_train"
   ]
  },
  {
   "cell_type": "markdown",
   "metadata": {},
   "source": [
    "### Корреспонденция колонок"
   ]
  },
  {
   "cell_type": "markdown",
   "metadata": {},
   "source": [
    "### унификация с test  - auto_ru_2020_09_09.csv  с учетом data_columns"
   ]
  },
  {
   "cell_type": "code",
   "execution_count": 8,
   "metadata": {},
   "outputs": [],
   "source": [
    "test = pd.read_csv('./Project_7_data/test.csv',low_memory=False)\n",
    "df= pd.read_csv('./Preproject_7_data/all_auto_ru_09_09_2020.csv',low_memory=False)"
   ]
  },
  {
   "cell_type": "code",
   "execution_count": 9,
   "metadata": {},
   "outputs": [
    {
     "data": {
      "text/plain": [
       "Index(['bodyType', 'brand', 'car_url', 'color', 'complectation_dict',\n",
       "       'description', 'engineDisplacement', 'enginePower', 'equipment_dict',\n",
       "       'fuelType', 'image', 'mileage', 'modelDate', 'model_info', 'model_name',\n",
       "       'name', 'numberOfDoors', 'parsing_unixtime', 'priceCurrency',\n",
       "       'productionDate', 'sell_id', 'super_gen', 'vehicleConfiguration',\n",
       "       'vehicleTransmission', 'vendor', 'Владельцы', 'Владение', 'ПТС',\n",
       "       'Привод', 'Руль', 'Состояние', 'Таможня'],\n",
       "      dtype='object')"
      ]
     },
     "execution_count": 9,
     "metadata": {},
     "output_type": "execute_result"
    }
   ],
   "source": [
    "test.columns"
   ]
  },
  {
   "cell_type": "code",
   "execution_count": 10,
   "metadata": {},
   "outputs": [
    {
     "data": {
      "text/plain": [
       "Index(['bodyType', 'brand', 'color', 'fuelType', 'modelDate', 'name',\n",
       "       'numberOfDoors', 'productionDate', 'vehicleConfiguration',\n",
       "       'vehicleTransmission', 'engineDisplacement', 'enginePower',\n",
       "       'description', 'mileage', 'Комплектация', 'Привод', 'Руль', 'Состояние',\n",
       "       'Владельцы', 'ПТС', 'Таможня', 'Владение', 'price', 'start_date',\n",
       "       'hidden', 'model'],\n",
       "      dtype='object')"
      ]
     },
     "execution_count": 10,
     "metadata": {},
     "output_type": "execute_result"
    }
   ],
   "source": [
    "df.columns"
   ]
  },
  {
   "cell_type": "code",
   "execution_count": null,
   "metadata": {},
   "outputs": [],
   "source": []
  },
  {
   "cell_type": "markdown",
   "metadata": {},
   "source": [
    "### Стандартизация датасетов"
   ]
  },
  {
   "cell_type": "code",
   "execution_count": null,
   "metadata": {},
   "outputs": [],
   "source": []
  },
  {
   "cell_type": "code",
   "execution_count": null,
   "metadata": {},
   "outputs": [],
   "source": []
  },
  {
   "cell_type": "markdown",
   "metadata": {},
   "source": [
    "### Анализ распределения цены в 5(10) топ моделях"
   ]
  },
  {
   "cell_type": "code",
   "execution_count": null,
   "metadata": {},
   "outputs": [],
   "source": []
  },
  {
   "cell_type": "code",
   "execution_count": 22,
   "metadata": {},
   "outputs": [
    {
     "name": "stdout",
     "output_type": "stream",
     "text": [
      "Index(['bodyType', 'brand', 'color', 'fuelType', 'modelDate', 'name',\n",
      "       'numberOfDoors', 'productionDate', 'vehicleConfiguration',\n",
      "       'vehicleTransmission', 'engineDisplacement', 'enginePower',\n",
      "       'description', 'mileage', 'Комплектация', 'Привод', 'Руль', 'Состояние',\n",
      "       'Владельцы', 'ПТС', 'Таможня', 'Владение', 'price', 'start_date',\n",
      "       'hidden', 'model'],\n",
      "      dtype='object')\n",
      "Index(['Unnamed: 0', 'car_url', 'bodyType', 'brand', 'color',\n",
      "       'complectation_dict', 'description', 'engineDisplacement',\n",
      "       'enginePower', 'equipment_dict', 'fuelType', 'image', 'mileage',\n",
      "       'modelDate', 'model_name', 'name', 'numberOfDoors', 'parsing_unixtime',\n",
      "       'price', 'priceCurrency', 'productionDate', 'sell_id', 'views',\n",
      "       'date_added', 'super_gen', 'vehicleConfiguration',\n",
      "       'vehicleTransmission', 'Владельцы', 'Владение', 'ПТС', 'Привод', 'Руль',\n",
      "       'Состояние', 'Таможня', 'region'],\n",
      "      dtype='object')\n",
      "Index(['bodyType', 'brand', 'car_url', 'color', 'complectation_dict',\n",
      "       'description', 'engineDisplacement', 'enginePower', 'equipment_dict',\n",
      "       'fuelType', 'image', 'mileage', 'modelDate', 'model_info', 'model_name',\n",
      "       'name', 'numberOfDoors', 'parsing_unixtime', 'priceCurrency',\n",
      "       'productionDate', 'sell_id', 'super_gen', 'vehicleConfiguration',\n",
      "       'vehicleTransmission', 'vendor', 'Владельцы', 'Владение', 'ПТС',\n",
      "       'Привод', 'Руль', 'Состояние', 'Таможня', 'is_train', 'price'],\n",
      "      dtype='object')\n",
      "Index(['bodyType', 'brand', 'car_url', 'color', 'complectation_dict',\n",
      "       'description', 'engineDisplacement', 'enginePower', 'equipment_dict',\n",
      "       'fuelType', 'image', 'mileage', 'modelDate', 'model_info', 'model_name',\n",
      "       'name', 'numberOfDoors', 'parsing_unixtime', 'priceCurrency',\n",
      "       'productionDate', 'sell_id', 'super_gen', 'vehicleConfiguration',\n",
      "       'vehicleTransmission', 'vendor', 'Владельцы', 'Владение', 'ПТС',\n",
      "       'Привод', 'Руль', 'Состояние', 'Таможня', 'price'],\n",
      "      dtype='object')\n",
      "Index(['bodyType', 'brand', 'car_url', 'color', 'complectation_dict',\n",
      "       'description', 'engineDisplacement', 'enginePower', 'equipment_dict',\n",
      "       'fuelType', 'image', 'mileage', 'modelDate', 'model_info', 'model_name',\n",
      "       'name', 'numberOfDoors', 'parsing_unixtime', 'priceCurrency',\n",
      "       'productionDate', 'sell_id', 'super_gen', 'vehicleConfiguration',\n",
      "       'vehicleTransmission', 'vendor', 'Владельцы', 'Владение', 'ПТС',\n",
      "       'Привод', 'Руль', 'Состояние', 'Таможня', 'views', 'date_added',\n",
      "       'region', 'price'],\n",
      "      dtype='object')\n"
     ]
    }
   ],
   "source": [
    "# for df_name in  datasets_to_train:\n",
    "#     try:\n",
    "#         df = pd.read_csv('./Preproject_7_data/' + df_name,low_memory=False)\n",
    "#     except Exception:\n",
    "#         df = pd.read_csv('./Preproject_7_data/' + df_name,sep='\\t',low_memory=False) \n",
    "#     df = df[df.brand.apply(lambda x:x in marks_for_parsing)]\n",
    "    \n",
    "#     print(df.columns)\n",
    "# #     models_for_distribution = df.model_name.value_counts().index[:5].to_list()\n",
    "# #     print(models_for_distribution)"
   ]
  },
  {
   "cell_type": "code",
   "execution_count": 20,
   "metadata": {},
   "outputs": [
    {
     "data": {
      "text/plain": [
       "['Tiguan', 'X-Trail', 'Land Cruiser', 'Touareg', 'Polo']"
      ]
     },
     "execution_count": 20,
     "metadata": {},
     "output_type": "execute_result"
    }
   ],
   "source": [
    "models_for_distribution = df.model_name.value_counts().index[:5].to_list()\n",
    "models_for_distribution"
   ]
  },
  {
   "cell_type": "code",
   "execution_count": null,
   "metadata": {},
   "outputs": [],
   "source": []
  },
  {
   "cell_type": "code",
   "execution_count": null,
   "metadata": {},
   "outputs": [],
   "source": []
  },
  {
   "cell_type": "markdown",
   "metadata": {},
   "source": [
    "### Соотношение курсового коэфициента с рапределением"
   ]
  },
  {
   "cell_type": "code",
   "execution_count": null,
   "metadata": {},
   "outputs": [],
   "source": []
  },
  {
   "cell_type": "code",
   "execution_count": null,
   "metadata": {},
   "outputs": [],
   "source": []
  },
  {
   "cell_type": "code",
   "execution_count": 10,
   "metadata": {},
   "outputs": [],
   "source": [
    "'''for df_name in  datasets_to_train:\n",
    "    \n",
    "    try:\n",
    "        df = pd.read_csv('./Preproject_7_data/' + df_name,low_memory=False)\n",
    "#         print('ok')\n",
    "    except:\n",
    "        df = pd.read_csv('./Preproject_7_data/' + df_name,sep='\\t',low_memory=False) \n",
    "#         print('trouble')\n",
    "#     print(df.brand.unique())\n",
    "    df = df[df.brand.apply(lambda x:x in marks_for_parsing)]\n",
    "#     print(df.brand.unique())\n",
    "    print(df_name,end=' ')\n",
    "    try:\n",
    "        print(date.fromtimestamp((df.parsing_unixtime.min())))\n",
    "    except:\n",
    "        print('no parsing_unixtime')\n",
    "    print(df_name,end=' ')\n",
    "    try:\n",
    "        print(date.fromtimestamp((df.parsing_unixtime.max())))\n",
    "    except:\n",
    "        print('no parsing_unixtime')''';"
   ]
  },
  {
   "cell_type": "code",
   "execution_count": null,
   "metadata": {},
   "outputs": [],
   "source": []
  },
  {
   "cell_type": "markdown",
   "metadata": {},
   "source": [
    "## =================================="
   ]
  },
  {
   "cell_type": "code",
   "execution_count": 27,
   "metadata": {},
   "outputs": [
    {
     "data": {
      "text/plain": [
       "array(['седан', 'универсал 5 дв.', 'хэтчбек 5 дв. sportback',\n",
       "       'хэтчбек 3 дв.', 'хэтчбек 5 дв.', 'кабриолет', 'купе',\n",
       "       'лифтбек sportback', 'лифтбек', 'седан long', 'внедорожник 5 дв.',\n",
       "       'кабриолет roadster', 'седан 2 дв.', 'седан gran coupe',\n",
       "       'компактвэн'], dtype=object)"
      ]
     },
     "execution_count": 27,
     "metadata": {},
     "output_type": "execute_result"
    }
   ],
   "source": [
    "def trfn(x):\n",
    "    try:res = x.lower()   \n",
    "    except Exception:res = x\n",
    "    return res\n",
    "\n",
    "df.bodyType.apply(trfn).unique()[:15]"
   ]
  },
  {
   "cell_type": "code",
   "execution_count": null,
   "metadata": {},
   "outputs": [],
   "source": [
    "## ============================================\n",
    "\n",
    "#### bodyType\n",
    "\n",
    "%%time\n",
    "\n",
    "def bodyType_unification(x):\n",
    "    res=[]\n",
    "    x = x.lower() if type(x) == str else x  # <================\n",
    "    try:\n",
    "        for body_type in test.bodyType.unique():\n",
    "            if body_type in x:\n",
    "                res.append(body_type)\n",
    "    except Exception: return x\n",
    "    return max(res)\n",
    "\n",
    "df.dropna(subset=['bodyType'],inplace=True)\n",
    "df.bodyType = df.bodyType.apply(bodyType_unification)\n",
    "\n",
    "set(df.bodyType.unique()) == set(test.bodyType.unique())\n",
    "\n",
    "#### brand\n",
    "\n",
    "set(df.brand.unique()) == set(test.brand.unique())\n",
    "\n",
    "#### color \n",
    "\n",
    "color_codes = {\n",
    "    '040001': 'чёрный',\n",
    "    'FAFBFB': 'белый', \n",
    "    '0000CC': 'синий', \n",
    "    '200204': 'коричневый', \n",
    "    'EE1D19': 'красный', \n",
    "    'CACECB': 'серый',\n",
    "    'C49648': 'бежевый', \n",
    "    '97948F': 'серебристый', \n",
    "    'FFD600': 'жёлтый', \n",
    "    'FF8649': 'оранжевый', \n",
    "    '22A0F8': 'голубой',\n",
    "    'FFC0CB': 'розовый', \n",
    "    'DEA522': 'золотистый', \n",
    "    '007F00': 'зелёный', \n",
    "    '660099': 'пурпурный',\n",
    "    '4A2197': 'фиолетовый'}\n",
    "df.color = df.color.map(color_codes)\n",
    "\n",
    "set(test.color.unique()) == set(df.color.unique())\n",
    "\n",
    "#### engineDisplacement\n",
    "\n",
    "test.engineDisplacement = test.engineDisplacement.apply(\n",
    "    lambda x: float(x[:-4]) if x[:-4] else np.NaN)   \n",
    "\n",
    "def engineDisplacement_unification(x):\n",
    "    x = float(re.sub(\"[^\\d.]\", r'', x)) if re.sub(\"[^\\d.]\", r'', x) else 0\n",
    "    if x >= 7: x = 0\n",
    "    return x\n",
    "\n",
    "df.engineDisplacement = df.engineDisplacement.apply(engineDisplacement_unification)\n",
    "\n",
    "#### enginePower\n",
    "\n",
    "test.enginePower = test.enginePower.apply(lambda x: int(x[:-4]))\n",
    "\n",
    "df.enginePower = df.enginePower.astype(int)\n",
    "\n",
    "#### equipment_dict\n",
    "\n",
    "test.equipment_dict = test.equipment_dict.apply(lambda x: list(json.loads(x).keys()) if x==x else [])\n",
    "\n",
    "def train_options(x):\n",
    "    point = \"'available_options': \"\n",
    "    start = x.find(point)+len(point)+2\n",
    "    finish = x.find(\"]\",start) - 1\n",
    "    return x[start:finish].split(\"', '\")\n",
    "\n",
    "df.Комплектация = df.Комплектация.apply(train_options)\n",
    "\n",
    "#### fuelType\n",
    "\n",
    "set(test.fuelType.unique()) == set(df.fuelType.unique())\n",
    "\n",
    "#### mileage <===== ВСЕ ОК\n",
    "\n",
    "#### modelDate\n",
    "\n",
    "df.modelDate = df.modelDate.astype(int)\n",
    "\n",
    "#### model_name\n",
    "\n",
    "test_model = set(test.model_name.unique())\n",
    "\n",
    "train_model = set(df.model.unique())\n",
    "\n",
    "test_model - train_model\n",
    "\n",
    "train_model - test_model\n",
    "\n",
    "#### numberOfDoors\n",
    "\n",
    "df.numberOfDoors = df.numberOfDoors.astype(int)\n",
    "\n",
    "set(test.numberOfDoors.unique()) == set(df.numberOfDoors.unique())\n",
    "\n",
    "#### productionDate\n",
    "\n",
    "#### vehicleTransmission\n",
    "\n",
    "transmission_dict = {\n",
    "    'MECHANICAL':'механическая', \n",
    "    'AUTOMATIC':'автоматическая', \n",
    "    'ROBOT':'роботизированная', \n",
    "    'VARIATOR':'вариатор'}\n",
    "df.vehicleTransmission = df.vehicleTransmission.map(transmission_dict)\n",
    "\n",
    "set(test.vehicleTransmission.unique()) == set(df.vehicleTransmission.unique())\n",
    "\n",
    "#### vendor \n",
    "\n",
    "vendor_dict = {\n",
    "    'AUDI':'EUROPEAN',\n",
    "    'BMW':'EUROPEAN',\n",
    "    'HONDA':'JAPANESE',\n",
    "    'INFINITI':'JAPANESE',\n",
    "    'LEXUS':'JAPANESE',\n",
    "    'MERCEDES':'EUROPEAN',\n",
    "    'MITSUBISHI':'JAPANESE',\n",
    "    'NISSAN':'JAPANESE',\n",
    "    'SKODA':'EUROPEAN',\n",
    "    'TOYOTA':'JAPANESE',\n",
    "    'VOLKSWAGEN':'EUROPEAN',\n",
    "    'VOLVO':'EUROPEAN'\n",
    "}\n",
    "\n",
    "df['vendor'] = df.brand.map(vendor_dict)\n",
    "\n",
    "set(test.vendor.unique()) == set(df.vendor.unique())\n",
    "\n",
    "#### Владельцы\n",
    "\n",
    "owner_dict = {\n",
    "    '3 или более': 3., \n",
    "    '2\\xa0владельца': 2.,\n",
    "    '1\\xa0владелец': 1.\n",
    "}\n",
    "test.Владельцы = test.Владельцы.map(owner_dict)\n",
    "\n",
    "set(test.Владельцы.unique()) , set(df.Владельцы.unique())\n",
    "\n",
    "#### Владение\n",
    "\n",
    "def test_ownership_unification(x):\n",
    "    try:\n",
    "        digits = re.findall('\\d+',x) \n",
    "        if len(digits) == 2: res = int(digits[0])*12 + int(digits[1])\n",
    "        elif len(digits) == 1 and 'месяц' in x: res = int(digits[0])\n",
    "        elif len(digits) == 1 and 'месяц' not in x: res = int(digits[0])*12\n",
    "    except Exception: res = 0   \n",
    "    return res\n",
    "\n",
    "test.Владение.apply(test_ownership_unification)\n",
    "\n",
    "def train_ownership_unification(x):\n",
    "    tmp = json.loads(x.replace(\"'\",'\"'))  if x==x else {'year': 2020, 'month': 9}\n",
    "    res = (2020 - tmp['year'])*12 + tmp['month'] - 9\n",
    "    if res<0: res = 0\n",
    "    return res\n",
    "\n",
    "df.Владение.apply(train_ownership_unification)\n",
    "\n",
    "#### ПТС\n",
    "\n",
    "test.ПТС.unique()\n",
    "\n",
    "PTS_dict = {\n",
    "    'ORIGINAL': 'Оригинал', \n",
    "    'DUPLICATE': 'Дубликат'\n",
    "}\n",
    "df.ПТС = df.ПТС.map(PTS_dict)\n",
    "\n",
    "set(test.ПТС.unique()) ==  set(df.ПТС.unique())\n",
    "\n",
    "#### Привод\n",
    "\n",
    "set(test.Привод.unique()) == set(df.Привод.unique())\n",
    "\n",
    "#### Руль\n",
    "\n",
    "wheel_dict = {\n",
    "    'LEFT':'Левый', \n",
    "    'RIGHT':'Правый'}\n",
    "\n",
    "df.Руль = df.Руль.map(wheel_dict)\n",
    "\n",
    "set(test.Руль.unique()) == set(df.Руль.unique())"
   ]
  }
 ],
 "metadata": {
  "kernelspec": {
   "display_name": "Python 3",
   "language": "python",
   "name": "python3"
  },
  "language_info": {
   "codemirror_mode": {
    "name": "ipython",
    "version": 3
   },
   "file_extension": ".py",
   "mimetype": "text/x-python",
   "name": "python",
   "nbconvert_exporter": "python",
   "pygments_lexer": "ipython3",
   "version": "3.7.4"
  }
 },
 "nbformat": 4,
 "nbformat_minor": 2
}
