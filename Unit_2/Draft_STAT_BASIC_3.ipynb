{
 "cells": [
  {
   "cell_type": "code",
   "execution_count": 1,
   "metadata": {},
   "outputs": [],
   "source": [
    "import pandas  as pd\n",
    "from scipy.stats import norm"
   ]
  },
  {
   "cell_type": "markdown",
   "metadata": {},
   "source": [
    "### Задание 3.4.1\n",
    "Пришло время самостоятельного решения задачи! Вот наши условия:\n",
    "\n",
    "Аккумуляторный завод производит батарейки, срок службы которых имеет стандартное отклонение 2.4 месяца. Средний срок службы батареек в случайной выборке из 64 штук составил 12.35 месяца. Необходимо построить 90 %-ный доверительный интервал для истинного среднего срока службы производимой батарейки и ответить на вопросы заданий ниже.  \n",
    "\n",
    "Какое критическое значение необходимо использовать? Введите число с двумя знаками после разделительной точки."
   ]
  },
  {
   "cell_type": "code",
   "execution_count": 23,
   "metadata": {},
   "outputs": [
    {
     "data": {
      "text/plain": [
       "1.64"
      ]
     },
     "execution_count": 23,
     "metadata": {},
     "output_type": "execute_result"
    }
   ],
   "source": [
    "alfa = 1-0.9\n",
    "z_alpha_2 = round(norm.ppf(1-alfa/2),2)\n",
    "z_alpha_2"
   ]
  },
  {
   "cell_type": "markdown",
   "metadata": {},
   "source": [
    "Теперь постройте 90 %-ный доверительный интервал. Ответ введите в виде нижней и верхней границы интервала, округляя результат до трех знаков после разделительной точки."
   ]
  },
  {
   "cell_type": "code",
   "execution_count": 30,
   "metadata": {},
   "outputs": [
    {
     "data": {
      "text/plain": [
       "(11.855, 12.845)"
      ]
     },
     "execution_count": 30,
     "metadata": {},
     "output_type": "execute_result"
    }
   ],
   "source": [
    " z_alpha_2 = 1.65\n",
    "samp_mean = 12.35; sigma = 2.4; n = 64\n",
    "# Нижняя граница \n",
    "l_bound = samp_mean - z_alpha_2*sigma/n**0.5\n",
    "# Верхняя граница\n",
    "r_bound = samp_mean + z_alpha_2*sigma/n**0.5\n",
    "round(l_bound,3), round(r_bound,3)"
   ]
  },
  {
   "cell_type": "code",
   "execution_count": null,
   "metadata": {},
   "outputs": [],
   "source": [
    "# *********************************************************************************************\n",
    "# *********************************************************************************************\n",
    "# *********************************************************************************************"
   ]
  },
  {
   "cell_type": "markdown",
   "metadata": {},
   "source": [
    "### 3.7. Тренировка\n",
    "\n",
    "**Условия задачи №1**  \n",
    "Управляющий супермаркета хочет оценить, сколько денег покупатели тратят за один поход в супермаркет в среднем. На основании ранее собранных данных известно, что расходы одного покупателя распределены приблизительно нормально. Управляющий взял случайную выборку из 15 покупателей и выяснил, что их средние расходы равны $2000$ рублей, а выборочное стандартное отклонение равно $400$ рублей.\n",
    "Давайте поможем управляющему, решив несколько задачек с помощью Python."
   ]
  },
  {
   "cell_type": "code",
   "execution_count": 31,
   "metadata": {},
   "outputs": [],
   "source": [
    "import math\n",
    "from scipy.stats import norm, t"
   ]
  },
  {
   "cell_type": "code",
   "execution_count": 41,
   "metadata": {},
   "outputs": [],
   "source": [
    "def confidence_interval_norm(alpha, sigma, n, mean):\n",
    "    value = -norm.ppf(alpha / 2) * sigma / math.sqrt(n)\n",
    "    return mean - value, mean + value\n",
    "\n",
    "def confidence_interval_t(alpha, s, n, mean):\n",
    "    value = -t.ppf(alpha / 2, n - 1) * s / math.sqrt(n)\n",
    "    return mean - value, mean + value"
   ]
  },
  {
   "cell_type": "markdown",
   "metadata": {},
   "source": [
    "### 3.7.4 Задание 4\n",
    "Теперь, используя эту функцию, найдите доверительные интервалы для среднего значения расходов μ. Ответ округлите до целого числа (количества рублей):"
   ]
  },
  {
   "cell_type": "code",
   "execution_count": 42,
   "metadata": {},
   "outputs": [
    {
     "data": {
      "text/plain": [
       "(1818.0, 2182.0)"
      ]
     },
     "execution_count": 42,
     "metadata": {},
     "output_type": "execute_result"
    }
   ],
   "source": [
    "# На 90% уровне доверия:\n",
    "l_bound, r_bound = confidence_interval_t(0.1,400,15,2000)\n",
    "round(l_bound), round(r_bound)"
   ]
  },
  {
   "cell_type": "code",
   "execution_count": 43,
   "metadata": {},
   "outputs": [
    {
     "data": {
      "text/plain": [
       "(1778.0, 2222.0)"
      ]
     },
     "execution_count": 43,
     "metadata": {},
     "output_type": "execute_result"
    }
   ],
   "source": [
    "# На 95% уровне доверия:\n",
    "l_bound, r_bound = confidence_interval_t(0.05,400,15,2000)\n",
    "round(l_bound), round(r_bound)"
   ]
  },
  {
   "cell_type": "code",
   "execution_count": 44,
   "metadata": {},
   "outputs": [
    {
     "data": {
      "text/plain": [
       "(1693.0, 2307.0)"
      ]
     },
     "execution_count": 44,
     "metadata": {},
     "output_type": "execute_result"
    }
   ],
   "source": [
    "# На 99% уровне доверия:\n",
    "l_bound, r_bound = confidence_interval_t(0.01,400,15,2000)\n",
    "round(l_bound), round(r_bound)"
   ]
  },
  {
   "cell_type": "markdown",
   "metadata": {},
   "source": [
    "**Условия задачи №2**  \n",
    "Чиновника интересует сумма подоходного налога, выплачиваемого домохозяйствами за год. На случайной выборке из 250 домохозяйств был посчитан средний размер выплаченного налога, и он составил $3540$. Также на основании ранее предоставленных данных из налоговой инспекции известно истинное стандартное отклонение величины подоходного налога, равное $1150$.\n",
    "Необходимо найти 99% доверительный интервал для истинного среднего значения налоговых выплат за год."
   ]
  },
  {
   "cell_type": "markdown",
   "metadata": {},
   "source": [
    "### 3.7.7 Задание 7\n",
    "Теперь, используя эту функцию, найдите 99%-ный доверительный интервал для среднего значения годовых отчислений на подоходный налог . Ответы необходимо округлить до целых значений."
   ]
  },
  {
   "cell_type": "code",
   "execution_count": 46,
   "metadata": {},
   "outputs": [
    {
     "data": {
      "text/plain": [
       "(3353.0, 3727.0)"
      ]
     },
     "execution_count": 46,
     "metadata": {},
     "output_type": "execute_result"
    }
   ],
   "source": [
    "# нижняя граница , верхняя граница\n",
    "l_bound, r_bound = confidence_interval_norm(0.01, 1150, 250, 3540)\n",
    "round(l_bound), round(r_bound)"
   ]
  },
  {
   "cell_type": "markdown",
   "metadata": {},
   "source": [
    "### Условия задачи №3\n",
    "Ниже представлена случайная выборка значений величины $X$, распределенной нормально. \n",
    "\n",
    "1.2\t0.2\t1.6\t1.9\t-0.4\t0.5\t1.4\t1.7\t2.5\t1.3\n",
    "\n",
    "Необходимо построить доверительный интервал для истинного среднего значения $\\mu$."
   ]
  },
  {
   "cell_type": "code",
   "execution_count": 61,
   "metadata": {},
   "outputs": [],
   "source": [
    "data_str = '1.2\t0.2\t1.6\t1.9\t-0.4\t0.5\t1.4\t1.7\t2.5\t1.3'\n",
    "data = pd.Series(map(float,data_str.split('\\t')))"
   ]
  },
  {
   "cell_type": "markdown",
   "metadata": {},
   "source": [
    "### 3.7.8 Задание 8\n",
    "Вычислите необходимые выборочные статистики и найдите 95%-ный доверительный интервал для $\\mu$. Укажите нижнюю и верхнюю границу интервала с округлением до двух знаков после разделительной точки."
   ]
  },
  {
   "cell_type": "code",
   "execution_count": 62,
   "metadata": {},
   "outputs": [
    {
     "data": {
      "text/plain": [
       "(0.05, 0.8621033709609435, 10, 1.19)"
      ]
     },
     "execution_count": 62,
     "metadata": {},
     "output_type": "execute_result"
    }
   ],
   "source": [
    "alpha = 0.05; s = data.std(); n = len(data); samp_mean = data.mean()\n",
    "alpha, s, n, samp_mean"
   ]
  },
  {
   "cell_type": "code",
   "execution_count": 64,
   "metadata": {},
   "outputs": [
    {
     "data": {
      "text/plain": [
       "(0.57, 1.81)"
      ]
     },
     "execution_count": 64,
     "metadata": {},
     "output_type": "execute_result"
    }
   ],
   "source": [
    "# нижняя граница , верхняя граница\n",
    "l_bound, r_bound = confidence_interval_t(alpha, s, n, samp_mean)\n",
    "round(l_bound,2), round(r_bound,2)"
   ]
  },
  {
   "cell_type": "code",
   "execution_count": null,
   "metadata": {},
   "outputs": [],
   "source": []
  },
  {
   "cell_type": "code",
   "execution_count": null,
   "metadata": {},
   "outputs": [],
   "source": []
  },
  {
   "cell_type": "code",
   "execution_count": null,
   "metadata": {},
   "outputs": [],
   "source": []
  },
  {
   "cell_type": "code",
   "execution_count": null,
   "metadata": {},
   "outputs": [],
   "source": []
  },
  {
   "cell_type": "code",
   "execution_count": null,
   "metadata": {},
   "outputs": [],
   "source": []
  }
 ],
 "metadata": {
  "kernelspec": {
   "display_name": "Python 3",
   "language": "python",
   "name": "python3"
  },
  "language_info": {
   "codemirror_mode": {
    "name": "ipython",
    "version": 3
   },
   "file_extension": ".py",
   "mimetype": "text/x-python",
   "name": "python",
   "nbconvert_exporter": "python",
   "pygments_lexer": "ipython3",
   "version": "3.6.5"
  }
 },
 "nbformat": 4,
 "nbformat_minor": 2
}
