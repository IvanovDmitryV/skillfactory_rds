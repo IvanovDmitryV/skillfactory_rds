{
 "cells": [
  {
   "cell_type": "code",
   "execution_count": 1,
   "id": "47cfe635",
   "metadata": {},
   "outputs": [],
   "source": [
    "import pandas as pd\n",
    "import numpy as np\n",
    "\n",
    "\n",
    "\n"
   ]
  },
  {
   "cell_type": "code",
   "execution_count": 2,
   "id": "38184df5",
   "metadata": {},
   "outputs": [],
   "source": [
    "data = pd.read_csv('./data/ghana_gdp.csv')"
   ]
  },
  {
   "cell_type": "markdown",
   "id": "7923db88",
   "metadata": {},
   "source": [
    "План работы (перечень последовательно решаемых задач):\n",
    "1. Отложите последние три года датасета как тестовую выборку для оценки результатов предсказания.\n",
    "2. Постройте модель скользящего среднего, проанализируйте результат. Для построения ***MA*** используйте метод `rolling`, который принимает в качестве параметра размер окна. Используйте среднее как функцию для сглаживания. Ширину окна подберите самостоятельно.\n",
    "> Пример: `train_df.spx.rolling(window=2).mean()`.\n",
    "\n",
    "3. Оцените стационарность временного ряда и примите решение о выборе модели ***ARMA/ARIMA***. Выберите парамeтры ***p*** и ***q*** по коррелограммам ***ACF*** и ***PACF***. Также постройте модель с параметрами, ближайшими к ***p*** и ***q***, и сравните коэффициент ***AIC*** или подберите наилучшие параметры с помощью ***pmdarima***, как в скринкасте.\n",
    "4. Постройте модель с наилучшими параметрами и выполните предсказание на три года.\n",
    "5. Отобразите результат графически.\n",
    "6. Сделайте выводы."
   ]
  },
  {
   "cell_type": "markdown",
   "id": "e2ab8dfa",
   "metadata": {},
   "source": [
    "1. Отложите последние три года датасета как тестовую выборку для оценки результатов предсказания."
   ]
  },
  {
   "cell_type": "code",
   "execution_count": 7,
   "id": "4d6abeb3",
   "metadata": {},
   "outputs": [],
   "source": [
    "test = data.iloc[-3:]\n",
    "train = data.iloc[:-3]"
   ]
  },
  {
   "cell_type": "markdown",
   "id": "d9927965",
   "metadata": {},
   "source": [
    "2. Постройте модель скользящего среднего, проанализируйте результат. "
   ]
  },
  {
   "cell_type": "code",
   "execution_count": null,
   "id": "5e64f7d8",
   "metadata": {},
   "outputs": [],
   "source": []
  }
 ],
 "metadata": {
  "kernelspec": {
   "display_name": "Python 3",
   "language": "python",
   "name": "python3"
  },
  "language_info": {
   "codemirror_mode": {
    "name": "ipython",
    "version": 3
   },
   "file_extension": ".py",
   "mimetype": "text/x-python",
   "name": "python",
   "nbconvert_exporter": "python",
   "pygments_lexer": "ipython3",
   "version": "3.8.8"
  }
 },
 "nbformat": 4,
 "nbformat_minor": 5
}
