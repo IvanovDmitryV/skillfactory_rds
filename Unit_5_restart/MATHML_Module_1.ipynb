{
 "cells": [
  {
   "cell_type": "code",
   "execution_count": 123,
   "id": "53ab908d",
   "metadata": {},
   "outputs": [],
   "source": [
    "import numpy as np\n",
    "import pandas as pd"
   ]
  },
  {
   "cell_type": "markdown",
   "id": "71c3cc39",
   "metadata": {},
   "source": [
    "#### Задание 2.5\n",
    "Ниже представлены доходы семьи за три месяца.\n",
    "```\n",
    "Доходы мужа: 120, 150 и 190 тысяч рублей.\n",
    "Доходы жены: 130, 130 и 130 тысяч рублей.\n",
    "Доходы тёщи: 2, 3 и 2.5 тысячи евро.\n",
    "```\n",
    "Вводите координаты полученных векторов через запятую (без пробела). Пример ввода ответа: 0,1,1.\n",
    "\n",
    "Найдите вектор доходов тёщи в тыс. рублей, если курс евро составляет 72 рубля."
   ]
  },
  {
   "cell_type": "code",
   "execution_count": 2,
   "id": "dbaa0473",
   "metadata": {},
   "outputs": [
    {
     "data": {
      "text/plain": [
       "array([144., 216., 180.])"
      ]
     },
     "execution_count": 2,
     "metadata": {},
     "output_type": "execute_result"
    }
   ],
   "source": [
    "euro = 72\n",
    "mother_in_law_income = np.array([2,3,2.5])\n",
    "mother_in_law_income*euro"
   ]
  },
  {
   "cell_type": "markdown",
   "id": "8d735bba",
   "metadata": {},
   "source": [
    "Найдите вектор суммарного дохода семьи в тыс. рублей по месяцам."
   ]
  },
  {
   "cell_type": "code",
   "execution_count": 3,
   "id": "50e84ab4",
   "metadata": {},
   "outputs": [
    {
     "data": {
      "text/plain": [
       "array([394., 496., 500.])"
      ]
     },
     "execution_count": 3,
     "metadata": {},
     "output_type": "execute_result"
    }
   ],
   "source": [
    "husband_incom = np.array([120,150,190])\n",
    "wife_income = np.array([130,130,130])\n",
    "husband_incom + wife_income + mother_in_law_income*euro"
   ]
  },
  {
   "cell_type": "markdown",
   "id": "4ea4e653",
   "metadata": {},
   "source": [
    "#### Задание 2.7\n",
    "Найдите линейную комбинацию векторов $\\overrightarrow{x}=\\left( \\begin{array}{c}\n",
    "4 \\\\ \n",
    "5 \\end{array}\n",
    "\\right),\\ \\overrightarrow{y}=\\left( \\begin{array}{c}\n",
    "2 \\\\ \n",
    "1 \\end{array}\n",
    "\\right)\\ ,\\ \\overrightarrow{u}=\\left( \\begin{array}{c}\n",
    "1 \\\\ \n",
    "0 \\end{array}\n",
    "\\right)$ с коэффициентами 2, -3 и 5 соответственно.\n",
    "\n",
    "Пример ввода ответа (через запятую, без пробелов): 0,1."
   ]
  },
  {
   "cell_type": "code",
   "execution_count": 4,
   "id": "a0eb50b4",
   "metadata": {},
   "outputs": [
    {
     "data": {
      "text/plain": [
       "array([7, 7])"
      ]
     },
     "execution_count": 4,
     "metadata": {},
     "output_type": "execute_result"
    }
   ],
   "source": [
    "x, y, u = np.array([4,5]), np.array([2,1]), np.array([1,0])\n",
    "2*x - 3*y + 5*u"
   ]
  },
  {
   "cell_type": "markdown",
   "id": "74b67d37",
   "metadata": {},
   "source": [
    "#### Задание 2.8\n",
    "Юный предприниматель Вовочка мастерит двигатели на водном топливе и продаёт их. За четыре недели он смастерил 3, 4, 5 и 9 двигателей, а продал 1, 5, 3 и 6 двигателей соответственно.\n",
    "\n",
    "На изготовление одного двигателя Вовочка тратит 200 рублей, а продаёт двигатели по 400 рублейза штуку.\n",
    "\n",
    "Найдите вектор прибыли (разницу между выручкой и затратами) Вовочки за эти четыре недели.\n",
    "\n",
    "В качестве ответа введите координаты вектора через запятую, без пробелов. Пример ввода ответа: 0,1,1,1."
   ]
  },
  {
   "cell_type": "code",
   "execution_count": 5,
   "id": "ff066035",
   "metadata": {},
   "outputs": [
    {
     "data": {
      "text/plain": [
       "array([-200, 1200,  200,  600])"
      ]
     },
     "execution_count": 5,
     "metadata": {},
     "output_type": "execute_result"
    }
   ],
   "source": [
    "cost, revenue = np.array([3,4,5,9]), np.array([1,5,3,6])\n",
    "400*revenue - 200*cost\n"
   ]
  },
  {
   "cell_type": "markdown",
   "id": "41c4fcc5",
   "metadata": {},
   "source": [
    "В Hut_Paradise_DF представлен фрагмент базы данных агентства «Рай в Шалаше». По строкам расположены квартиры, по столбцам — параметры: арендная плата, общая площадь, количество комнат, этаж, количество показов на две недели и жилая площадь:"
   ]
  },
  {
   "cell_type": "code",
   "execution_count": 7,
   "id": "56a4a5d2",
   "metadata": {},
   "outputs": [],
   "source": [
    "\n",
    "\n",
    "Hut_Paradise_DF = pd.DataFrame({\n",
    "    '1.Rent': [65, 70, 120, 35, 40, 50, 100, 90, 85], \n",
    "    '2.Area': [50, 52, 80, 33, 33, 44, 80, 65, 65], \n",
    "    '3.Rooms':[3, 2, 1, 1, 1, 2, 4, 3, 2],\n",
    "    '4.Floor':[5, 12, 10, 3, 6, 13, 8, 21, 5], \n",
    "    '5.Demo two weeks':[8, 4, 5, 10, 20, 12, 5, 1, 10], \n",
    "    '6.Liv.Area': [37, 40, 65, 20, 16, 35, 60, 50, 40]\n",
    "})"
   ]
  },
  {
   "cell_type": "code",
   "execution_count": 9,
   "id": "f9e0fbdb",
   "metadata": {},
   "outputs": [
    {
     "data": {
      "text/html": [
       "<div>\n",
       "<style scoped>\n",
       "    .dataframe tbody tr th:only-of-type {\n",
       "        vertical-align: middle;\n",
       "    }\n",
       "\n",
       "    .dataframe tbody tr th {\n",
       "        vertical-align: top;\n",
       "    }\n",
       "\n",
       "    .dataframe thead th {\n",
       "        text-align: right;\n",
       "    }\n",
       "</style>\n",
       "<table border=\"1\" class=\"dataframe\">\n",
       "  <thead>\n",
       "    <tr style=\"text-align: right;\">\n",
       "      <th></th>\n",
       "      <th>1.Rent</th>\n",
       "      <th>2.Area</th>\n",
       "      <th>3.Rooms</th>\n",
       "      <th>4.Floor</th>\n",
       "      <th>5.Demo two weeks</th>\n",
       "      <th>6.Liv.Area</th>\n",
       "    </tr>\n",
       "  </thead>\n",
       "  <tbody>\n",
       "    <tr>\n",
       "      <th>0</th>\n",
       "      <td>65</td>\n",
       "      <td>50</td>\n",
       "      <td>3</td>\n",
       "      <td>5</td>\n",
       "      <td>8</td>\n",
       "      <td>37</td>\n",
       "    </tr>\n",
       "    <tr>\n",
       "      <th>1</th>\n",
       "      <td>70</td>\n",
       "      <td>52</td>\n",
       "      <td>2</td>\n",
       "      <td>12</td>\n",
       "      <td>4</td>\n",
       "      <td>40</td>\n",
       "    </tr>\n",
       "    <tr>\n",
       "      <th>2</th>\n",
       "      <td>120</td>\n",
       "      <td>80</td>\n",
       "      <td>1</td>\n",
       "      <td>10</td>\n",
       "      <td>5</td>\n",
       "      <td>65</td>\n",
       "    </tr>\n",
       "    <tr>\n",
       "      <th>3</th>\n",
       "      <td>35</td>\n",
       "      <td>33</td>\n",
       "      <td>1</td>\n",
       "      <td>3</td>\n",
       "      <td>10</td>\n",
       "      <td>20</td>\n",
       "    </tr>\n",
       "    <tr>\n",
       "      <th>4</th>\n",
       "      <td>40</td>\n",
       "      <td>33</td>\n",
       "      <td>1</td>\n",
       "      <td>6</td>\n",
       "      <td>20</td>\n",
       "      <td>16</td>\n",
       "    </tr>\n",
       "    <tr>\n",
       "      <th>5</th>\n",
       "      <td>50</td>\n",
       "      <td>44</td>\n",
       "      <td>2</td>\n",
       "      <td>13</td>\n",
       "      <td>12</td>\n",
       "      <td>35</td>\n",
       "    </tr>\n",
       "    <tr>\n",
       "      <th>6</th>\n",
       "      <td>100</td>\n",
       "      <td>80</td>\n",
       "      <td>4</td>\n",
       "      <td>8</td>\n",
       "      <td>5</td>\n",
       "      <td>60</td>\n",
       "    </tr>\n",
       "    <tr>\n",
       "      <th>7</th>\n",
       "      <td>90</td>\n",
       "      <td>65</td>\n",
       "      <td>3</td>\n",
       "      <td>21</td>\n",
       "      <td>1</td>\n",
       "      <td>50</td>\n",
       "    </tr>\n",
       "    <tr>\n",
       "      <th>8</th>\n",
       "      <td>85</td>\n",
       "      <td>65</td>\n",
       "      <td>2</td>\n",
       "      <td>5</td>\n",
       "      <td>10</td>\n",
       "      <td>40</td>\n",
       "    </tr>\n",
       "  </tbody>\n",
       "</table>\n",
       "</div>"
      ],
      "text/plain": [
       "   1.Rent  2.Area  3.Rooms  4.Floor  5.Demo two weeks  6.Liv.Area\n",
       "0      65      50        3        5                 8          37\n",
       "1      70      52        2       12                 4          40\n",
       "2     120      80        1       10                 5          65\n",
       "3      35      33        1        3                10          20\n",
       "4      40      33        1        6                20          16\n",
       "5      50      44        2       13                12          35\n",
       "6     100      80        4        8                 5          60\n",
       "7      90      65        3       21                 1          50\n",
       "8      85      65        2        5                10          40"
      ]
     },
     "execution_count": 9,
     "metadata": {},
     "output_type": "execute_result"
    }
   ],
   "source": [
    "Hut_Paradise_DF"
   ]
  },
  {
   "cell_type": "markdown",
   "id": "6a958549",
   "metadata": {},
   "source": [
    "#### Задание 3.3\n",
    "Найдите вектор параметров квартиры номер 5 (нумерация квартир — с 1). Для преобразования DataFrame в массив numpy можно воспользоваться атрибутом values:\n",
    "\n",
    "`Hut_Paradise_values = Hut_Paradise_DF.values`\n",
    "  "
   ]
  },
  {
   "cell_type": "code",
   "execution_count": 10,
   "id": "581de833",
   "metadata": {},
   "outputs": [
    {
     "data": {
      "text/plain": [
       "array([40, 33,  1,  6, 20, 16], dtype=int64)"
      ]
     },
     "execution_count": 10,
     "metadata": {},
     "output_type": "execute_result"
    }
   ],
   "source": [
    "Hut_Paradise_values = Hut_Paradise_DF.values\n",
    "Hut_Paradise_values[4]"
   ]
  },
  {
   "cell_type": "markdown",
   "id": "cf6fa62c",
   "metadata": {},
   "source": [
    "#### Задание 3.4\n",
    "Найдите вектор этажей всех квартир"
   ]
  },
  {
   "cell_type": "code",
   "execution_count": 11,
   "id": "01bebf6c",
   "metadata": {},
   "outputs": [
    {
     "data": {
      "text/plain": [
       "array([ 5, 12, 10,  3,  6, 13,  8, 21,  5], dtype=int64)"
      ]
     },
     "execution_count": 11,
     "metadata": {},
     "output_type": "execute_result"
    }
   ],
   "source": [
    "Hut_Paradise_values[:,3]"
   ]
  },
  {
   "cell_type": "markdown",
   "id": "f75b7920",
   "metadata": {},
   "source": [
    "#### Задание 3.5\n",
    "Вычислите вектор нежилой площади. Выберите координаты полученного вектора:"
   ]
  },
  {
   "cell_type": "code",
   "execution_count": 12,
   "id": "fa4b2fdf",
   "metadata": {},
   "outputs": [
    {
     "data": {
      "text/plain": [
       "array([13, 12, 15, 13, 17,  9, 20, 15, 25], dtype=int64)"
      ]
     },
     "execution_count": 12,
     "metadata": {},
     "output_type": "execute_result"
    }
   ],
   "source": [
    "Hut_Paradise_values[:,1] - Hut_Paradise_values[:,5]"
   ]
  },
  {
   "cell_type": "markdown",
   "id": "996e78e4",
   "metadata": {},
   "source": [
    "#### Задание 3.6\n",
    "Пусть в первой квартире один просмотр занимает 10 минут, во второй — 20 минут, в третьей — полчаса, в четверой — 15 минут, в пятой — 5 минут, в шестой — 40 минут, в седьмой — 20 минут, в восьмой — 8 минут и в девятой — 20 минут.\n",
    "\n",
    "Найдите продолжительность просмотров в минутах во всех квартирах за две недели."
   ]
  },
  {
   "cell_type": "code",
   "execution_count": 14,
   "id": "249ada33",
   "metadata": {},
   "outputs": [
    {
     "data": {
      "text/plain": [
       "1348"
      ]
     },
     "execution_count": 14,
     "metadata": {},
     "output_type": "execute_result"
    }
   ],
   "source": [
    "show_time = np.array([10,20,30,15,5,40,20,8,20])\n",
    "total_time = show_time@Hut_Paradise_values[:,4]\n",
    "total_time"
   ]
  },
  {
   "cell_type": "markdown",
   "id": "a1aee9f7",
   "metadata": {},
   "source": [
    "Дано три вектора:"
   ]
  },
  {
   "cell_type": "code",
   "execution_count": 15,
   "id": "d85d3f21",
   "metadata": {},
   "outputs": [],
   "source": [
    "u=np.array([3,0,1,1,1])\n",
    "v=np.array([0,1,0,2,-2])\n",
    "w=np.array([1,-4,-1,0,-2])"
   ]
  },
  {
   "cell_type": "markdown",
   "id": "6b011bc2",
   "metadata": {},
   "source": [
    "Составьте линейную комбинацию векторов $v$ и $w$ с коэффициентами 2 и -3. Выберите координаты полученного вектора:"
   ]
  },
  {
   "cell_type": "code",
   "execution_count": 17,
   "id": "0676a090",
   "metadata": {},
   "outputs": [
    {
     "data": {
      "text/plain": [
       "array([-3, 14,  3,  4,  2])"
      ]
     },
     "execution_count": 17,
     "metadata": {},
     "output_type": "execute_result"
    }
   ],
   "source": [
    "2*v - 3*w"
   ]
  },
  {
   "cell_type": "markdown",
   "id": "8750ba4c",
   "metadata": {},
   "source": [
    "Будет ли эта комбинация ортогональна вектору $u$?"
   ]
  },
  {
   "cell_type": "code",
   "execution_count": 18,
   "id": "f424df0b",
   "metadata": {},
   "outputs": [
    {
     "data": {
      "text/plain": [
       "0"
      ]
     },
     "execution_count": 18,
     "metadata": {},
     "output_type": "execute_result"
    }
   ],
   "source": [
    "(2*v - 3*w)@u"
   ]
  },
  {
   "cell_type": "markdown",
   "id": "5faa5523",
   "metadata": {},
   "source": [
    "Данные по доходам и расходам каждого члена семьи Ивановых записаны в одномерные массивы numpy:\n",
    "\n",
    "```import numpy as np\n",
    "\n",
    "Husband_Income = np.array([100,220,140])\n",
    "Wife_Income = np.array([150,200,130])\n",
    "Mother_In_Law_Income = np.array([90,80,100])\n",
    "\n",
    "Husband_Consumption = np.array([50,50,60])\n",
    "Wife_Consumption = np.array([100,80,140])\n",
    "Mother_In_Law_Consumption = np.array([100,20,140])\n",
    "```\n"
   ]
  },
  {
   "cell_type": "code",
   "execution_count": 21,
   "id": "f9296754",
   "metadata": {},
   "outputs": [],
   "source": [
    "Husband_Income = np.array([100,220,140])\n",
    "Wife_Income = np.array([150,200,130])\n",
    "Mother_In_Law_Income = np.array([90,80,100])\n",
    "\n",
    "Husband_Consumption = np.array([50,50,60])\n",
    "Wife_Consumption = np.array([100,80,140])\n",
    "Mother_In_Law_Consumption = np.array([100,20,140])\n",
    "\n"
   ]
  },
  {
   "cell_type": "markdown",
   "id": "312dcf81",
   "metadata": {},
   "source": [
    "#### Задание 5.1\n",
    "Составьте матрицу $Inc$ доходов семьи, расположив доходы мужа, жены и тёщи в первый, второй и третий столбцы матрицы.\n",
    "\n",
    "В качестве ответ запишите диагональные элементы (по главной диагонали) этой матрицы через запятую, без пробелов. Пример ввода ответа: 1,1,1."
   ]
  },
  {
   "cell_type": "code",
   "execution_count": 29,
   "id": "c2bf8221",
   "metadata": {},
   "outputs": [
    {
     "name": "stdout",
     "output_type": "stream",
     "text": [
      "100,200,100\n"
     ]
    }
   ],
   "source": [
    "Inc = np.array([Husband_Income,Wife_Income,Mother_In_Law_Income]).T\n",
    "print(*Inc.diagonal(),sep=',')"
   ]
  },
  {
   "cell_type": "markdown",
   "id": "ab2fcbbb",
   "metadata": {},
   "source": [
    "#### Задание 5.2\n",
    "Составьте матрицу $Cons$ расходов семьи, расположив расходы мужа, жены и тёщи в первый, второй и третий столбцы.\n",
    "\n",
    "В качестве ответ запишите диагональные элементы (по главной диагонали) этой матрицы через запятую, без пробелов. Пример ввода ответа: 1,1,1."
   ]
  },
  {
   "cell_type": "code",
   "execution_count": 33,
   "id": "d11a7d04",
   "metadata": {},
   "outputs": [
    {
     "name": "stdout",
     "output_type": "stream",
     "text": [
      "50,80,140\n"
     ]
    }
   ],
   "source": [
    "Cons = np.array([Husband_Consumption, Wife_Consumption, Mother_In_Law_Consumption]).T\n",
    "print(*Cons.diagonal(),sep=',')"
   ]
  },
  {
   "cell_type": "markdown",
   "id": "b2b4f1a1",
   "metadata": {},
   "source": [
    "#### Задание 5.3\n",
    "Доходы представлены до уплаты налогов. Налоговая ставка — 13 %. Вычислите матрицу доходов семьи Ивановых после уплаты налогов.\n",
    "\n",
    "Используйте полученную ранее матрицу $Inc$ , где доходы расположены по столбцам.\n",
    "\n",
    "Выберите список элементов из первой строки этой матрицы (строки нумеруются с 1):"
   ]
  },
  {
   "cell_type": "code",
   "execution_count": 35,
   "id": "70bf357c",
   "metadata": {},
   "outputs": [
    {
     "data": {
      "text/plain": [
       "array([ 87. , 130.5,  78.3])"
      ]
     },
     "execution_count": 35,
     "metadata": {},
     "output_type": "execute_result"
    }
   ],
   "source": [
    "Inc_aft_tax = (1-0.13)*Inc\n",
    "Inc_aft_tax[0]"
   ]
  },
  {
   "cell_type": "markdown",
   "id": "cfb9ff45",
   "metadata": {},
   "source": [
    "#### Задание 5.4\n",
    "Вычислите матрицу $P$, которая покажет баланс семьи Ивановых за один месяц (то есть разницу между доходами после вычета налога и расходами).\n",
    "\n",
    "Выберите список элементов из третьей строки этой матрицы:"
   ]
  },
  {
   "cell_type": "code",
   "execution_count": 38,
   "id": "61fd5ab3",
   "metadata": {},
   "outputs": [
    {
     "data": {
      "text/plain": [
       "array([ 61.8, -26.9, -53. ])"
      ]
     },
     "execution_count": 38,
     "metadata": {},
     "output_type": "execute_result"
    }
   ],
   "source": [
    "P = Inc_aft_tax - Cons\n",
    "P[2]"
   ]
  },
  {
   "cell_type": "markdown",
   "id": "6ec3f11d",
   "metadata": {},
   "source": [
    "#### Задание 6.3\n",
    "В произведении  $C = A \\cdot B$ матриц   \n",
    "$A=\\left( \\begin{array}{ccccc}\n",
    "1 & -1 & 2 & 4 & 0 \\\\ \n",
    "8 & 2 & 0 & 5 & 3 \\\\ \n",
    "0 & 1 & 2 & 1 & 2 \\end{array}\n",
    "\\right)$ и $B=\\left( \\begin{array}{cccc}\n",
    "1 & 0 & 1 & 0 \\\\ \n",
    "0 & 0 & 2 & -1 \\\\ \n",
    "1 & 0 & 1 & 1 \\\\ \n",
    "0 & 1 & 1 & 1 \\\\ \n",
    "1 & 1 & 0 & -1 \\end{array}\n",
    "\\right)$   \n",
    "найдите элементы: $C_{12} =$ , $C_{34} =$\n",
    "\n",
    "\n"
   ]
  },
  {
   "cell_type": "code",
   "execution_count": 57,
   "id": "cb579700",
   "metadata": {},
   "outputs": [
    {
     "data": {
      "text/plain": [
       "(4, 0)"
      ]
     },
     "execution_count": 57,
     "metadata": {},
     "output_type": "execute_result"
    }
   ],
   "source": [
    "A = np.array([[1 , -1 , 2 , 4 , 0],\n",
    "              [8 , 2, 0 , 5 , 3 ],\n",
    "              [0 , 1 , 2 , 1, 2]])\n",
    "B = np.array([[1 , 0 , 1 , 0],\n",
    "              [0 , 0 , 2 , -1],\n",
    "              [1 , 0 , 1 , 1 ],\n",
    "              [0 , 1 , 1 , 1],\n",
    "              [1 , 1 , 0 , -1]])\n",
    "\n",
    "AB = (A@B)\n",
    "AB[0,1], AB[2,3]"
   ]
  },
  {
   "cell_type": "markdown",
   "id": "742d9251",
   "metadata": {},
   "source": [
    "#### Задание 6.5\n",
    "Найдите тензорное произведение векторов $\\overrightarrow{a}=\\left( \\begin{array}{c}\n",
    "1 \\\\ \n",
    "3 \\end{array}\n",
    "\\right)$ и $\\overrightarrow{b}=\\left( \\begin{array}{c}\n",
    "-3 \\\\ \n",
    "1 \\end{array}\n",
    "\\right)$ .\n",
    "\n",
    "Заполните текстовые поля слева направо, сверху вниз:\n",
    "$\\overrightarrow{a}\\bigotimes \\overrightarrow{b}=$"
   ]
  },
  {
   "cell_type": "code",
   "execution_count": 78,
   "id": "bf7a1b91",
   "metadata": {},
   "outputs": [
    {
     "data": {
      "text/plain": [
       "array([[-3,  1],\n",
       "       [-9,  3]])"
      ]
     },
     "execution_count": 78,
     "metadata": {},
     "output_type": "execute_result"
    }
   ],
   "source": [
    "a, b  = np.array([1,3],ndmin=2), np.array([-3,1],ndmin=2)\n",
    "(a.T)@b"
   ]
  },
  {
   "cell_type": "markdown",
   "id": "f76c06d3",
   "metadata": {},
   "source": [
    "#### Задание 6.9\n",
    "Составьте матрицу $A$ из системы векторов: $ \\overrightarrow{a}=\\left( \\begin{array}{c}\n",
    "1 \\\\ \n",
    "1 \\end{array}\n",
    "\\right),\\ \\overrightarrow{b}=\\left( \\begin{array}{c}\n",
    "2 \\\\ \n",
    "-1 \\end{array}\n",
    "\\right)\\ \\ ,\\overrightarrow{c}=\\left( \\begin{array}{c}\n",
    "1 \\\\ \n",
    "2 \\end{array}\n",
    "\\right)\\$ .\n",
    "\n",
    "\n",
    " \n",
    "Найдите матрицу Грама $ G=A^T\\cdot A$.\n",
    "\n",
    "Выберите верный вариант ответа:"
   ]
  },
  {
   "cell_type": "code",
   "execution_count": 83,
   "id": "96b06c6a",
   "metadata": {},
   "outputs": [
    {
     "data": {
      "text/plain": [
       "(array([[ 1,  2,  1],\n",
       "        [ 1, -1,  2]]),\n",
       " array([[2, 1, 3],\n",
       "        [1, 5, 0],\n",
       "        [3, 0, 5]]))"
      ]
     },
     "execution_count": 83,
     "metadata": {},
     "output_type": "execute_result"
    }
   ],
   "source": [
    "a, b, c = np.array([1,1]), np.array([2,-1]), np.array([1,2])\n",
    "\n",
    "A = np.array([a,b,c]).T\n",
    "A, (A.T)@A"
   ]
  },
  {
   "cell_type": "markdown",
   "id": "5fd22e3d",
   "metadata": {},
   "source": [
    "#### Задание 7.1\n",
    "Даны матрица $A$ и вектор \n",
    "$\\vec{х}$\n",
    ":\n",
    "```python\n",
    "A = np.array([[5,-1,3,1,2], [-2,8,5,-1,1]])\n",
    "x = np.array([1,2,3,4,5])\n",
    "```\n",
    "Найдите произведение матрицы  $A$ и вектора $\\vec{х}$ в том порядке, в котором их можно умножить.\n",
    "\n",
    "В качестве ответа запишите координаты получившегося вектора через запятую, без пробелов. "
   ]
  },
  {
   "cell_type": "code",
   "execution_count": 85,
   "id": "8c2e2404",
   "metadata": {},
   "outputs": [
    {
     "name": "stdout",
     "output_type": "stream",
     "text": [
      "26,30\n"
     ]
    }
   ],
   "source": [
    "A = np.array([[5,-1,3,1,2], [-2,8,5,-1,1]])\n",
    "x = np.array([1,2,3,4,5])\n",
    "print(*A@x,sep=',')"
   ]
  },
  {
   "cell_type": "markdown",
   "id": "67d76c58",
   "metadata": {},
   "source": [
    "#### Задание 7.2\n",
    "Даны две матрицы:\n",
    "```python\n",
    "A = np.array([[1,9,8,5], [3,6,3,2], [3,3,3,3], [0,2,5,9], [4,4,1,2]])\n",
    "B = np.array([[1,-1,0,1,1], [-2,0,2,-1,1]])\n",
    "```\n",
    "Найдите произведение матриц $A$ и $B$ в том порядке, в котором их можно умножить.\n",
    "\n",
    "В качестве ответа через запятую, без пробелов запишите элемент чётвертого столбца первой строки."
   ]
  },
  {
   "cell_type": "code",
   "execution_count": 90,
   "id": "efb933a0",
   "metadata": {},
   "outputs": [
    {
     "data": {
      "text/plain": [
       "14"
      ]
     },
     "execution_count": 90,
     "metadata": {},
     "output_type": "execute_result"
    }
   ],
   "source": [
    "A = np.array([[1,9,8,5], [3,6,3,2], [3,3,3,3], [0,2,5,9], [4,4,1,2]])\n",
    "B = np.array([[1,-1,0,1,1], [-2,0,2,-1,1]])\n",
    "(B@A)[0,3]"
   ]
  },
  {
   "cell_type": "markdown",
   "id": "6c273a90",
   "metadata": {},
   "source": [
    "#### Задание 7.3\n",
    "Дана система векторов:\n",
    "```python\n",
    "x = np.array([1,2,1,0,4])\n",
    "y = np.array([2,1,-1,1,0])\n",
    "z = np.array([-1,1,-1,0,0])\n",
    "```\n",
    "Составьте матрицу $A$, расположив векторы $\\vec{x}$, $\\vec{y}$, $\\vec{z}$ в строках. Найдите матрицу Грама $G$  системы векторов $\\vec{x}$, $\\vec{y}$, $\\vec{z}$.\n",
    "\n",
    "Чему равна полученная матрица Грама ?"
   ]
  },
  {
   "cell_type": "code",
   "execution_count": 93,
   "id": "39a331fe",
   "metadata": {},
   "outputs": [
    {
     "data": {
      "text/plain": [
       "array([[ 6,  3,  0,  2,  4],\n",
       "       [ 3,  6,  0,  1,  8],\n",
       "       [ 0,  0,  3, -1,  4],\n",
       "       [ 2,  1, -1,  1,  0],\n",
       "       [ 4,  8,  4,  0, 16]])"
      ]
     },
     "execution_count": 93,
     "metadata": {},
     "output_type": "execute_result"
    }
   ],
   "source": [
    "x = np.array([1,2,1,0,4])\n",
    "y = np.array([2,1,-1,1,0])\n",
    "z = np.array([-1,1,-1,0,0])\n",
    "A = np.array([x,y,z])\n",
    "A.T@A"
   ]
  },
  {
   "cell_type": "markdown",
   "id": "374395d3",
   "metadata": {},
   "source": [
    "### УСЛОВИЕ ДЛЯ ЗАДАНИЙ 7.4 И 7.5\n",
    "\n",
    "В салоне красоты «Феи ножниц» работают восемь стилистов: Аня, Борис, Вика, Галя, Дима, Егор, Женя и Юра. \n",
    "\n",
    "Вам предоставлены две таблицы (DataFrame): Count_DF и Price_DF.\n",
    "\n",
    " - В DataFrame Count_DF содержится информация по количеству услуг, оказанных каждым стилистом за апрель.\n",
    " - В DataFrame Price_DF содержится информация по стоимости услуг у каждого стилиста в тысячах рублей.\n",
    " \n",
    "```python\n",
    "Count_DF = pd.DataFrame({\n",
    "    'Женские стрижки': [10, 2, 12, 4, 6, 10, 22, 7], \n",
    "    'Мужские стрижки': [5, 21, 12, 8, 25, 3, 1, 0], \n",
    "    'Окрашивания':[12, 3, 0, 18, 27, 2, 4, 31],\n",
    "    'Укладка':[15, 25, 30, 14, 25, 17, 25, 31],\n",
    "    'Уход':[10, 6, 4, 5, 18, 12, 20, 28]\n",
    "    }, \n",
    "    index=['Аня', 'Борис', 'Вика', 'Галя', 'Дима', 'Егор', 'Женя','Юра']\n",
    ")\n",
    "Price_DF = pd.DataFrame({\n",
    "    'Женские стрижки': [2, 1.8, 2, 1.8, 2.5, 5, 1.1, 4.5], \n",
    "    'Мужские стрижки': [1.5, 2.5, 2, 1.2, 3.5, 5, 1, 4], \n",
    "    'Окрашивания':[1, 1, 0, 2.8, 2, 3, 1.5, 2.5],\n",
    "    'Укладка':[0.8, 1, 0.5, 0.8, 1, 2, 0.5, 1],\n",
    "    'Уход':[1, 1, 2, 2, 1.5, 2.5, 1.7, 2] \n",
    "    }, \n",
    "    index=['Аня', 'Борис', 'Вика', 'Галя', 'Дима', 'Егор', 'Женя','Юра']\n",
    ")\n",
    "```"
   ]
  },
  {
   "cell_type": "code",
   "execution_count": 96,
   "id": "85de59a1",
   "metadata": {},
   "outputs": [],
   "source": [
    "Count_DF = pd.DataFrame({\n",
    "    'Женские стрижки': [10, 2, 12, 4, 6, 10, 22, 7], \n",
    "    'Мужские стрижки': [5, 21, 12, 8, 25, 3, 1, 0], \n",
    "    'Окрашивания':[12, 3, 0, 18, 27, 2, 4, 31],\n",
    "    'Укладка':[15, 25, 30, 14, 25, 17, 25, 31],\n",
    "    'Уход':[10, 6, 4, 5, 18, 12, 20, 28]\n",
    "    }, \n",
    "    index=['Аня', 'Борис', 'Вика', 'Галя', 'Дима', 'Егор', 'Женя','Юра']\n",
    ")\n",
    "Price_DF = pd.DataFrame({\n",
    "    'Женские стрижки': [2, 1.8, 2, 1.8, 2.5, 5, 1.1, 4.5], \n",
    "    'Мужские стрижки': [1.5, 2.5, 2, 1.2, 3.5, 5, 1, 4], \n",
    "    'Окрашивания':[1, 1, 0, 2.8, 2, 3, 1.5, 2.5],\n",
    "    'Укладка':[0.8, 1, 0.5, 0.8, 1, 2, 0.5, 1],\n",
    "    'Уход':[1, 1, 2, 2, 1.5, 2.5, 1.7, 2] \n",
    "    }, \n",
    "    index=['Аня', 'Борис', 'Вика', 'Галя', 'Дима', 'Егор', 'Женя','Юра']\n",
    ")"
   ]
  },
  {
   "cell_type": "markdown",
   "id": "3f2982f0",
   "metadata": {},
   "source": [
    "#### Задание 7.4\n",
    "Найдите вектор прибыли салона по стилистам, если за каждую услугу стилисты платят салону определённую комиссию.\n",
    "\n",
    "Вектор комиссий: `com = np.array([0.2, 0.2, 0.3, 0.1, 0.1])`.\n",
    "\n",
    "Выберите координаты вектора прибыли салона:"
   ]
  },
  {
   "cell_type": "code",
   "execution_count": 111,
   "id": "b687040c",
   "metadata": {},
   "outputs": [],
   "source": [
    "com = np.array([0.2, 0.2, 0.3, 0.1, 0.1])"
   ]
  },
  {
   "cell_type": "code",
   "execution_count": 118,
   "id": "d6225f36",
   "metadata": {},
   "outputs": [
    {
     "data": {
      "text/plain": [
       "array([11.3 , 15.22, 11.9 , 20.6 , 41.9 , 21.2 , 11.49, 38.25])"
      ]
     },
     "execution_count": 118,
     "metadata": {},
     "output_type": "execute_result"
    }
   ],
   "source": [
    "(Count_DF.values * Price_DF.values)@com"
   ]
  },
  {
   "cell_type": "markdown",
   "id": "209c81e0",
   "metadata": {},
   "source": [
    "#### Задание 7.5\n",
    "Найдите вектор прибыли стилистов.\n"
   ]
  },
  {
   "cell_type": "code",
   "execution_count": 119,
   "id": "11871d20",
   "metadata": {},
   "outputs": [
    {
     "data": {
      "text/plain": [
       "array([ 50.2 ,  74.88,  59.1 ,  67.8 , 166.6 , 113.8 ,  66.21, 157.75])"
      ]
     },
     "execution_count": 119,
     "metadata": {},
     "output_type": "execute_result"
    }
   ],
   "source": [
    "after_com = np.ones(len(com)) - com\n",
    "(Count_DF.values * Price_DF.values)@after_com"
   ]
  },
  {
   "cell_type": "code",
   "execution_count": 122,
   "id": "24377e9d",
   "metadata": {},
   "outputs": [
    {
     "name": "stdout",
     "output_type": "stream",
     "text": [
      "-2.9999999999999982\n"
     ]
    }
   ],
   "source": [
    "A = np.matrix (\"1, 2, 3; 4  5  6 ; 7, 8, 10\")\n",
    "print(np.linalg.det(A))\n",
    "# -3.0000000000009"
   ]
  },
  {
   "cell_type": "markdown",
   "id": "f29de0d4",
   "metadata": {},
   "source": [
    "#### Задание 10.1\n",
    "Дана матрица $A$:\n",
    "\n",
    "`A = np.array([[8, 6, 11], [7, 5, 9],[6, 10, 6]])`\n",
    "Найдите матрицу, обратную матрице .\n",
    "\n",
    "В качестве ответа запишите элемент из первого столбца второй строки, округлив его до трёх знаков после точки-разделителя."
   ]
  },
  {
   "cell_type": "code",
   "execution_count": 129,
   "id": "06e3a599",
   "metadata": {},
   "outputs": [
    {
     "data": {
      "text/plain": [
       "0.375"
      ]
     },
     "execution_count": 129,
     "metadata": {},
     "output_type": "execute_result"
    }
   ],
   "source": [
    "A = np.array([[8, 6, 11], [7, 5, 9],[6, 10, 6]])\n",
    "round(np.linalg.inv(A)[1,0],3)"
   ]
  },
  {
   "cell_type": "markdown",
   "id": "99a9d03b",
   "metadata": {},
   "source": [
    "###УСЛОВИЕ ДЛЯ ЗАДАНИЙ 10.2-10.7\n",
    "\n",
    "Дана система векторов:\n",
    "\n",
    "```python\n",
    "v1 = np.array([9, 10, 7, 7, 9])\n",
    "v2 = np.array([2, 0, 5, 1, 4])\n",
    "v3 = np.array([4, 0, 0, 4, 1])\n",
    "v4 = np.array([3, -4, 3, -1, -4])\n",
    "```"
   ]
  },
  {
   "cell_type": "code",
   "execution_count": 130,
   "id": "91fee0d0",
   "metadata": {},
   "outputs": [],
   "source": [
    "v1 = np.array([9, 10, 7, 7, 9])\n",
    "v2 = np.array([2, 0, 5, 1, 4])\n",
    "v3 = np.array([4, 0, 0, 4, 1])\n",
    "v4 = np.array([3, -4, 3, -1, -4])"
   ]
  },
  {
   "cell_type": "markdown",
   "id": "a645841b",
   "metadata": {},
   "source": [
    "#### Задание 10.2\n",
    "Найдите ранг системы векторов $\\vec(v1), \\vec(v2), \\vec(v3), \\vec(v4)$. Для этого создайте матрицу системы векторов. Векторы в матрице расположите **в столбцы**."
   ]
  },
  {
   "cell_type": "code",
   "execution_count": 134,
   "id": "79b4a51e",
   "metadata": {},
   "outputs": [
    {
     "data": {
      "text/plain": [
       "4"
      ]
     },
     "execution_count": 134,
     "metadata": {},
     "output_type": "execute_result"
    }
   ],
   "source": [
    "A = np.array([v1,v2,v3,v4]).T\n",
    "np.linalg.matrix_rank(A) "
   ]
  },
  {
   "cell_type": "markdown",
   "id": "4a988d7c",
   "metadata": {},
   "source": [
    "#### Задание 10.4\n",
    "Найдите матрицу Грама системы векторов $\\vec(v1), \\vec(v2), \\vec(v3), \\vec(v4)$ : $G={\\mathrm{A}}^{T}A$. В качестве ответа запишите элемент из четвёртого столбца первой строки."
   ]
  },
  {
   "cell_type": "code",
   "execution_count": 136,
   "id": "3684e884",
   "metadata": {},
   "outputs": [
    {
     "data": {
      "text/plain": [
       "-35"
      ]
     },
     "execution_count": 136,
     "metadata": {},
     "output_type": "execute_result"
    }
   ],
   "source": [
    "(A.T@A)[0,3]"
   ]
  },
  {
   "cell_type": "markdown",
   "id": "5d9c92ae",
   "metadata": {},
   "source": [
    "#### Задание 10.5\n",
    "Найдите определитель матрицы Грама $G$ системы $\\vec(v1), \\vec(v2), \\vec(v3), \\vec(v4)$ . Ответ округлите до целого числа."
   ]
  },
  {
   "cell_type": "code",
   "execution_count": 139,
   "id": "6aced829",
   "metadata": {},
   "outputs": [
    {
     "data": {
      "text/plain": [
       "3716648"
      ]
     },
     "execution_count": 139,
     "metadata": {},
     "output_type": "execute_result"
    }
   ],
   "source": [
    "round(np.linalg.det(A.T@A))"
   ]
  },
  {
   "cell_type": "markdown",
   "id": "8788d1f6",
   "metadata": {},
   "source": [
    "#### Задание 10.7\n",
    "Найдите обратную матрицу к матрице Грама $G$  системы , $\\vec(v1), \\vec(v2), \\vec(v3), \\vec(v4)$ . В качестве ответа запишите элемент из первого столбца третьей строки, округлив его до трёх знаков после точки-разделителя."
   ]
  },
  {
   "cell_type": "code",
   "execution_count": 143,
   "id": "3c50cdc1",
   "metadata": {},
   "outputs": [
    {
     "data": {
      "text/plain": [
       "-0.026"
      ]
     },
     "execution_count": 143,
     "metadata": {},
     "output_type": "execute_result"
    }
   ],
   "source": [
    "round(np.linalg.inv(A.T@A)[2,0],3)"
   ]
  },
  {
   "cell_type": "code",
   "execution_count": null,
   "id": "7e8efac9",
   "metadata": {},
   "outputs": [],
   "source": []
  }
 ],
 "metadata": {
  "kernelspec": {
   "display_name": "Python 3",
   "language": "python",
   "name": "python3"
  },
  "language_info": {
   "codemirror_mode": {
    "name": "ipython",
    "version": 3
   },
   "file_extension": ".py",
   "mimetype": "text/x-python",
   "name": "python",
   "nbconvert_exporter": "python",
   "pygments_lexer": "ipython3",
   "version": "3.8.8"
  }
 },
 "nbformat": 4,
 "nbformat_minor": 5
}
