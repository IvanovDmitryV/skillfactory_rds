{
 "cells": [
  {
   "cell_type": "code",
   "execution_count": 9,
   "id": "7d4b759d",
   "metadata": {},
   "outputs": [],
   "source": [
    "import numpy as np\n",
    "import sympy"
   ]
  },
  {
   "cell_type": "code",
   "execution_count": null,
   "id": "2fa4a3df",
   "metadata": {},
   "outputs": [],
   "source": []
  },
  {
   "cell_type": "code",
   "execution_count": 3,
   "id": "c8e771cf",
   "metadata": {},
   "outputs": [
    {
     "data": {
      "text/latex": [
       "$\\displaystyle 2 \\sqrt{3}$"
      ],
      "text/plain": [
       "2*sqrt(3)"
      ]
     },
     "execution_count": 3,
     "metadata": {},
     "output_type": "execute_result"
    }
   ],
   "source": [
    "sympy.sqrt(12)"
   ]
  },
  {
   "cell_type": "code",
   "execution_count": 4,
   "id": "349e9b5b",
   "metadata": {},
   "outputs": [
    {
     "data": {
      "text/latex": [
       "$\\displaystyle \\left\\{1, 3, 7, 9, 10\\right\\}$"
      ],
      "text/plain": [
       "FiniteSet(1, 3, 7, 9, 10)"
      ]
     },
     "execution_count": 4,
     "metadata": {},
     "output_type": "execute_result"
    }
   ],
   "source": [
    "from sympy import FiniteSet, Union\n",
    "l1 = [1, 3, 7, 10] \n",
    "l2 = [9, 7, 1] \n",
    "a = FiniteSet(*l1) \n",
    "b = FiniteSet(*l2) \n",
    "Union(a, b)"
   ]
  },
  {
   "cell_type": "code",
   "execution_count": 7,
   "id": "612702db",
   "metadata": {},
   "outputs": [
    {
     "data": {
      "text/plain": [
       "{1, 3, 7, 9, 10}"
      ]
     },
     "execution_count": 7,
     "metadata": {},
     "output_type": "execute_result"
    }
   ],
   "source": [
    "a, b = set(l1) ,set(l2) \n",
    "a|b"
   ]
  },
  {
   "cell_type": "code",
   "execution_count": 8,
   "id": "a270f52b",
   "metadata": {},
   "outputs": [
    {
     "data": {
      "text/latex": [
       "$\\displaystyle \\left\\{x\\; \\middle|\\; x \\in \\left[2, 9\\right] \\wedge x^{2} - 5 x = 0 \\right\\}$"
      ],
      "text/plain": [
       "ConditionSet(x, Eq(x**2 - 5*x, 0), Interval(2, 9))"
      ]
     },
     "execution_count": 8,
     "metadata": {},
     "output_type": "execute_result"
    }
   ],
   "source": [
    "from sympy import ConditionSet, Eq, Symbol, Interval\n",
    "x=Symbol('x')\n",
    "s=ConditionSet(x, Eq(x**2-5*x,0), Interval(2,9))\n",
    "s"
   ]
  },
  {
   "cell_type": "code",
   "execution_count": 13,
   "id": "a1c30029",
   "metadata": {},
   "outputs": [
    {
     "data": {
      "text/latex": [
       "$\\displaystyle \\left\\{0\\right\\} \\cup \\left\\{x\\; \\middle|\\; x \\in \\left[2, 9\\right] \\wedge x^{2} - 5 x = 0 \\right\\}$"
      ],
      "text/plain": [
       "Union(ConditionSet(x, Eq(x**2 - 5*x, 0), Interval(2, 9)), FiniteSet(0))"
      ]
     },
     "execution_count": 13,
     "metadata": {},
     "output_type": "execute_result"
    }
   ],
   "source": [
    "s | {0}"
   ]
  },
  {
   "cell_type": "markdown",
   "id": "df2b89f9",
   "metadata": {},
   "source": [
    "##### УСЛОВИЕ ДЛЯ ЗАДАНИЙ 2.6-2.8\n",
    "\n",
    "Представьте, что вы являетесь куратором образовательной программы, на которой будет два вебинара: по программированию и по машинному обучению.\n",
    "\n",
    "На вебинар по программированию записались потенциальные слушатели со следующими электронными адресами:\n",
    "\n",
    "- bennet@xyz.com\n",
    "- darcy@abc.com\n",
    "- margaret@xyz.com\n",
    "- pa@hhh.com\n",
    "- marimari@xyz.com\n",
    "- mallika@yahoo.com\n",
    "- abc@xyz.com\n",
    "- 0071235@gmail.ru   \n",
    "На вебинар по машинному обучению записались потенциальные слушатели со следующими электронными адресами:\n",
    "\n",
    "- marimari@xyz.com\n",
    "- darcy@abc.com\n",
    "- 0071235@gmail.ru\n",
    "- darcy@abc.com\n",
    "- petr44@xyz.com\n",
    "- katrin@ya.com   \n",
    "Оформите множества в Python для обоих списков слушателей."
   ]
  },
  {
   "cell_type": "code",
   "execution_count": 17,
   "id": "64406925",
   "metadata": {},
   "outputs": [],
   "source": [
    "prog_attendee = {'bennet@xyz.com','darcy@abc.com','margaret@xyz.com','pa@hhh.com',\n",
    " 'marimari@xyz.com','mallika@yahoo.com','abc@xyz.com','0071235@gmail.ru'}\n",
    "\n",
    "data_science_attendee = {'marimari@xyz.com','darcy@abc.com','0071235@gmail.ru','darcy@abc.com',\n",
    " 'petr44@xyz.com','katrin@ya.com'}"
   ]
  },
  {
   "cell_type": "markdown",
   "id": "92a4bb81",
   "metadata": {},
   "source": [
    "##### Задание 2.6\n",
    "С помощью операций множеств в Python определите, сколько слушателей записалось на оба вебинара."
   ]
  },
  {
   "cell_type": "code",
   "execution_count": 19,
   "id": "3360de5d",
   "metadata": {},
   "outputs": [
    {
     "data": {
      "text/plain": [
       "3"
      ]
     },
     "execution_count": 19,
     "metadata": {},
     "output_type": "execute_result"
    }
   ],
   "source": [
    "len(prog_attendee & data_science_attendee)"
   ]
  },
  {
   "cell_type": "markdown",
   "id": "8dd4098e",
   "metadata": {},
   "source": [
    "#### Задание 2.7\n",
    "Сколько человек заинтересованы в посещении хотя бы одного вебинара?"
   ]
  },
  {
   "cell_type": "code",
   "execution_count": 21,
   "id": "4c1ed4c4",
   "metadata": {},
   "outputs": [
    {
     "data": {
      "text/plain": [
       "10"
      ]
     },
     "execution_count": 21,
     "metadata": {},
     "output_type": "execute_result"
    }
   ],
   "source": [
    "len(prog_attendee | data_science_attendee)"
   ]
  },
  {
   "cell_type": "markdown",
   "id": "4c439253",
   "metadata": {},
   "source": [
    "#### Задание 2.8\n",
    "Сколько человек заинтересованы в посещении только одного вебинара из двух?"
   ]
  },
  {
   "cell_type": "code",
   "execution_count": 22,
   "id": "b6f85991",
   "metadata": {},
   "outputs": [
    {
     "data": {
      "text/plain": [
       "7"
      ]
     },
     "execution_count": 22,
     "metadata": {},
     "output_type": "execute_result"
    }
   ],
   "source": [
    "len(prog_attendee ^ data_science_attendee)"
   ]
  },
  {
   "cell_type": "markdown",
   "id": "622e61a4",
   "metadata": {},
   "source": [
    "Мы можем вычислять область определения и с помощью библиотеки Python для символьных вычислений, с которой мы познакомились ранее — `SymP`.\n",
    "\n",
    "Например, рассчитаем область определения для функции :$f(x) = \\frac{1}{x}$\n",
    "\n",
    "```python\n",
    "from sympy import Symbol, S #импортируем нужные функции для обозначения переменных\n",
    "from sympy.calculus.util import function_range #импортируем функцию для поиска области определения\n",
    "from sympy.calculus.util import continuous_domain\n",
    "x = Symbol(\"x\") #определяем нашу переменную\n",
    "f = 1/x #определяем нашу функцию\n",
    "continuous_domain(f, x, S.Reals) #вычисляем область определения\n",
    "\n",
    "```"
   ]
  },
  {
   "cell_type": "code",
   "execution_count": 24,
   "id": "7feb7150",
   "metadata": {},
   "outputs": [
    {
     "data": {
      "text/latex": [
       "$\\displaystyle \\left(-\\infty, 0\\right) \\cup \\left(0, \\infty\\right)$"
      ],
      "text/plain": [
       "Union(Interval.open(-oo, 0), Interval.open(0, oo))"
      ]
     },
     "execution_count": 24,
     "metadata": {},
     "output_type": "execute_result"
    }
   ],
   "source": [
    "from sympy import Symbol, S #импортируем нужные функции для обозначения переменных\n",
    "from sympy.calculus.util import function_range #импортируем функцию для поиска области определения\n",
    "from sympy.calculus.util import continuous_domain\n",
    "x = Symbol(\"x\") #определяем нашу переменную\n",
    "f = 1/x #определяем нашу функцию\n",
    "continuous_domain(f, x, S.Reals) #вычисляем область определения"
   ]
  },
  {
   "cell_type": "markdown",
   "id": "01b0f522",
   "metadata": {},
   "source": [
    "Для функции :$f(x) = \\frac{log(x)}{x}$\n",
    "```python\n",
    "from sympy import log\n",
    "x = Symbol(\"x\")\n",
    "f = log(x)/x\n",
    "continuous_domain(f, x, S.Reals)\n",
    "```"
   ]
  },
  {
   "cell_type": "code",
   "execution_count": 25,
   "id": "36487717",
   "metadata": {},
   "outputs": [
    {
     "data": {
      "text/latex": [
       "$\\displaystyle \\left(0, \\infty\\right)$"
      ],
      "text/plain": [
       "Interval.open(0, oo)"
      ]
     },
     "execution_count": 25,
     "metadata": {},
     "output_type": "execute_result"
    }
   ],
   "source": [
    "from sympy import log\n",
    "x = Symbol(\"x\")\n",
    "f = log(x)/x\n",
    "continuous_domain(f, x, S.Reals)"
   ]
  },
  {
   "cell_type": "markdown",
   "id": "ae7ea9e1",
   "metadata": {},
   "source": [
    "область значений мы также можем найти с помощью библиотеки SymPy. Например, сделаем это для функции $sin(x)$:"
   ]
  },
  {
   "cell_type": "code",
   "execution_count": 30,
   "id": "451089d2",
   "metadata": {},
   "outputs": [
    {
     "data": {
      "text/latex": [
       "$\\displaystyle \\left[-1, 1\\right]$"
      ],
      "text/plain": [
       "Interval(-1, 1)"
      ]
     },
     "execution_count": 30,
     "metadata": {},
     "output_type": "execute_result"
    }
   ],
   "source": [
    "from sympy.calculus.util import function_range\n",
    "from sympy import sin\n",
    "x = Symbol(\"x\") \n",
    "f = sin(x) \n",
    "function_range(f, x, S.Reals)"
   ]
  },
  {
   "cell_type": "markdown",
   "id": "bdba9390",
   "metadata": {},
   "source": [
    "Или для более сложной функции : $f(x) = \\frac{x^2 - 3}{e^x}$"
   ]
  },
  {
   "cell_type": "code",
   "execution_count": 31,
   "id": "4cfa276a",
   "metadata": {},
   "outputs": [
    {
     "data": {
      "text/latex": [
       "$\\displaystyle \\left[- 2 e, \\infty\\right)$"
      ],
      "text/plain": [
       "Interval(-2*E, oo)"
      ]
     },
     "execution_count": 31,
     "metadata": {},
     "output_type": "execute_result"
    }
   ],
   "source": [
    "from sympy import Symbol, S #импортируем нужные функции для обозначения переменных\n",
    "from sympy.calculus.util import function_range #импортируем функцию для поиска области значений\n",
    "from sympy import exp #добавляем функцию для вычисления экспоненциальной функции\n",
    "x = Symbol(\"x\")\n",
    "f = (x*x-3)/(exp(x))\n",
    "function_range(f, x, S.Reals)"
   ]
  },
  {
   "cell_type": "markdown",
   "id": "3465a41f",
   "metadata": {},
   "source": [
    "Для того чтобы найти эти точки пересечения, мы также можем использовать библиотеку SymPy. Например, найдём точки пересечения для функции:\n",
    "$$f(x) = x^2 + 5x + 4$$\n",
    "Сначала найдём точку пересечения с осью ординат. Для этого просто подставим 0 вместо значения $x$ :"
   ]
  },
  {
   "cell_type": "code",
   "execution_count": 32,
   "id": "3f1058e1",
   "metadata": {},
   "outputs": [
    {
     "data": {
      "text/latex": [
       "$\\displaystyle 4$"
      ],
      "text/plain": [
       "4"
      ]
     },
     "execution_count": 32,
     "metadata": {},
     "output_type": "execute_result"
    }
   ],
   "source": [
    "x = Symbol(\"x\")\n",
    "f = x*x+5*x+4\n",
    "f.subs(x, 0)\n"
   ]
  },
  {
   "cell_type": "markdown",
   "id": "02c0a99f",
   "metadata": {},
   "source": [
    "Теперь найдём точку пересечения с осью абсцисс. Для этого решим уравнение, в котором приравняем нашу функцию к нулю:\n",
    "\n"
   ]
  },
  {
   "cell_type": "code",
   "execution_count": 33,
   "id": "4ccce969",
   "metadata": {},
   "outputs": [
    {
     "data": {
      "text/latex": [
       "$\\displaystyle \\left\\{-4, -1\\right\\}$"
      ],
      "text/plain": [
       "FiniteSet(-4, -1)"
      ]
     },
     "execution_count": 33,
     "metadata": {},
     "output_type": "execute_result"
    }
   ],
   "source": [
    "from sympy import solveset, Eq\n",
    "solveset(Eq(x*x+5*x+4, 0), x)"
   ]
  },
  {
   "cell_type": "markdown",
   "id": "766992be",
   "metadata": {},
   "source": [
    "Для того чтобы найти производную с помощью SymPy, необходимо лишь указать, какой буквой обозначается переменная, ввести функцию и применить метод `diff()`.\n",
    "\n",
    "Пример № 1\n",
    "\n",
    "Вычислить производную для функции $f(x) = x^4 +3x^3+4x^2+8$."
   ]
  },
  {
   "cell_type": "code",
   "execution_count": 34,
   "id": "232086cb",
   "metadata": {},
   "outputs": [
    {
     "data": {
      "text/latex": [
       "$\\displaystyle 4 x^{3} + 9 x^{2} + 8 x$"
      ],
      "text/plain": [
       "4*x**3 + 9*x**2 + 8*x"
      ]
     },
     "execution_count": 34,
     "metadata": {},
     "output_type": "execute_result"
    }
   ],
   "source": [
    "import sympy\n",
    "x = sympy.Symbol(\"x\")\n",
    "expr = x**4 + 3*x**3 + 4*x**2 + 8\n",
    "expr.diff(x)"
   ]
  },
  {
   "cell_type": "code",
   "execution_count": 35,
   "id": "17b13e32",
   "metadata": {},
   "outputs": [
    {
     "data": {
      "text/latex": [
       "$\\displaystyle \\frac{x^{5}}{5} + \\frac{3 x^{4}}{4} + \\frac{4 x^{3}}{3} + 8 x$"
      ],
      "text/plain": [
       "x**5/5 + 3*x**4/4 + 4*x**3/3 + 8*x"
      ]
     },
     "execution_count": 35,
     "metadata": {},
     "output_type": "execute_result"
    }
   ],
   "source": [
    "expr.integrate(x)"
   ]
  },
  {
   "cell_type": "markdown",
   "id": "af69851d",
   "metadata": {},
   "source": [
    "Пример № 2\n",
    "\n",
    "Вычислить производную для функции $f(x) = ln(x^2 + 5x) + e^{sin(x)}$"
   ]
  },
  {
   "cell_type": "code",
   "execution_count": 37,
   "id": "a421ad2f",
   "metadata": {},
   "outputs": [
    {
     "data": {
      "text/latex": [
       "$\\displaystyle \\frac{2 x + 5}{x^{2} + 5 x} + e^{\\sin{\\left(x \\right)}} \\cos{\\left(x \\right)}$"
      ],
      "text/plain": [
       "(2*x + 5)/(x**2 + 5*x) + exp(sin(x))*cos(x)"
      ]
     },
     "execution_count": 37,
     "metadata": {},
     "output_type": "execute_result"
    }
   ],
   "source": [
    "import sympy\n",
    "# from sympy import diff, sin, exp, log, Symbol\n",
    "x = sympy.Symbol(\"x\")\n",
    "expr = log(x**2 + 5*x) + exp(sin(x))\n",
    "expr.diff(x)"
   ]
  },
  {
   "cell_type": "markdown",
   "id": "eff4a7a3",
   "metadata": {},
   "source": [
    "#### Задание 6.5 (на самопроверку)\n",
    "С помощью библиотеки SymPy найдите производную для функции $y = sin(x*3 + log(x))*exp((x))$"
   ]
  },
  {
   "cell_type": "code",
   "execution_count": 39,
   "id": "f6a92f93",
   "metadata": {},
   "outputs": [
    {
     "data": {
      "text/latex": [
       "$\\displaystyle \\left(3 + \\frac{1}{x}\\right) e^{x} \\cos{\\left(3 x + \\log{\\left(x \\right)} \\right)} + e^{x} \\sin{\\left(3 x + \\log{\\left(x \\right)} \\right)}$"
      ],
      "text/plain": [
       "(3 + 1/x)*exp(x)*cos(3*x + log(x)) + exp(x)*sin(3*x + log(x))"
      ]
     },
     "execution_count": 39,
     "metadata": {},
     "output_type": "execute_result"
    }
   ],
   "source": [
    "x = sympy.Symbol(\"x\")\n",
    "expr = sin(3*x + log(x))*exp(x)\n",
    "# log(x**2 + 5*x) + exp(sin(x))\n",
    "expr.diff(x)"
   ]
  },
  {
   "cell_type": "code",
   "execution_count": null,
   "id": "49ad9459",
   "metadata": {},
   "outputs": [],
   "source": [
    "𝑦=𝑠𝑖𝑛(𝑥∗3+𝑙𝑜𝑔(𝑥))∗𝑒𝑥𝑝((𝑥))"
   ]
  },
  {
   "cell_type": "markdown",
   "id": "75ad7be1",
   "metadata": {},
   "source": [
    "### УСЛОВИЕ ДЛЯ ЗАДАНИЙ 8.1-8.11\n",
    "\n",
    "Исследуемая функция: $y = \\frac{x^3}{2(x+5)^2}$."
   ]
  },
  {
   "cell_type": "markdown",
   "id": "256ebd1c",
   "metadata": {},
   "source": [
    "#### Задание 8.1\n",
    "Найдите область определения функции:"
   ]
  },
  {
   "cell_type": "code",
   "execution_count": 40,
   "id": "6e655f8c",
   "metadata": {},
   "outputs": [
    {
     "data": {
      "text/latex": [
       "$\\displaystyle \\left(-\\infty, -5\\right) \\cup \\left(-5, \\infty\\right)$"
      ],
      "text/plain": [
       "Union(Interval.open(-oo, -5), Interval.open(-5, oo))"
      ]
     },
     "execution_count": 40,
     "metadata": {},
     "output_type": "execute_result"
    }
   ],
   "source": [
    "from sympy import Symbol, S\n",
    "from sympy.calculus.util import continuous_domain \n",
    "x = Symbol(\"x\") \n",
    "f = (x**3)/(2*(x+5)**2) \n",
    "continuous_domain(f, x, S.Reals)"
   ]
  },
  {
   "cell_type": "markdown",
   "id": "04e8ee33",
   "metadata": {},
   "source": [
    "#### Задание 8.2\n",
    "Найдите область значений функции:"
   ]
  },
  {
   "cell_type": "code",
   "execution_count": 41,
   "id": "27ee2430",
   "metadata": {},
   "outputs": [
    {
     "data": {
      "text/latex": [
       "$\\displaystyle \\left(-\\infty, \\infty\\right)$"
      ],
      "text/plain": [
       "Interval(-oo, oo)"
      ]
     },
     "execution_count": 41,
     "metadata": {},
     "output_type": "execute_result"
    }
   ],
   "source": [
    "function_range(f, x, S.Reals)"
   ]
  },
  {
   "cell_type": "markdown",
   "id": "0bb09200",
   "metadata": {},
   "source": [
    "#### Задание 8.4\n",
    "В какой точке график пересекает ось абсцисс? В качестве ответа введите координату по х."
   ]
  },
  {
   "cell_type": "code",
   "execution_count": 43,
   "id": "cce23091",
   "metadata": {},
   "outputs": [
    {
     "data": {
      "text/latex": [
       "$\\displaystyle \\left\\{0\\right\\}$"
      ],
      "text/plain": [
       "FiniteSet(0)"
      ]
     },
     "execution_count": 43,
     "metadata": {},
     "output_type": "execute_result"
    }
   ],
   "source": [
    "from sympy import solveset, Eq\n",
    "solveset(Eq(f, 0), x)"
   ]
  },
  {
   "cell_type": "markdown",
   "id": "d43318ab",
   "metadata": {},
   "source": [
    "#### Задание 8.5\n",
    "В какой точке график пересекает ось ординат? В качестве ответа введите координату по y."
   ]
  },
  {
   "cell_type": "code",
   "execution_count": 44,
   "id": "ce7f5263",
   "metadata": {},
   "outputs": [
    {
     "data": {
      "text/latex": [
       "$\\displaystyle 0$"
      ],
      "text/plain": [
       "0"
      ]
     },
     "execution_count": 44,
     "metadata": {},
     "output_type": "execute_result"
    }
   ],
   "source": [
    "f.subs(x, 0)"
   ]
  },
  {
   "cell_type": "markdown",
   "id": "7c9c1b3f",
   "metadata": {},
   "source": [
    "#### Задание 8.6\n",
    "Найдите производную от функции:"
   ]
  },
  {
   "cell_type": "code",
   "execution_count": 45,
   "id": "3a4ec993",
   "metadata": {},
   "outputs": [
    {
     "data": {
      "text/latex": [
       "$\\displaystyle - \\frac{x^{3}}{\\left(x + 5\\right)^{3}} + \\frac{3 x^{2}}{2 \\left(x + 5\\right)^{2}}$"
      ],
      "text/plain": [
       "-x**3/(x + 5)**3 + 3*x**2/(2*(x + 5)**2)"
      ]
     },
     "execution_count": 45,
     "metadata": {},
     "output_type": "execute_result"
    }
   ],
   "source": [
    "ff = f.diff(x)"
   ]
  },
  {
   "cell_type": "markdown",
   "id": "2dac0cf9",
   "metadata": {},
   "source": [
    "#### Задание 8.7\n",
    "Найдите точку максимума. Если её нет, введите в качестве ответа слово нет."
   ]
  },
  {
   "cell_type": "code",
   "execution_count": 46,
   "id": "1d30195e",
   "metadata": {},
   "outputs": [],
   "source": [
    "ff = f.diff(x)"
   ]
  },
  {
   "cell_type": "code",
   "execution_count": 48,
   "id": "5f03b791",
   "metadata": {},
   "outputs": [
    {
     "data": {
      "text/latex": [
       "$\\displaystyle \\left\\{-15, 0\\right\\}$"
      ],
      "text/plain": [
       "FiniteSet(-15, 0)"
      ]
     },
     "execution_count": 48,
     "metadata": {},
     "output_type": "execute_result"
    }
   ],
   "source": [
    "solveset(Eq(ff, 0), x)"
   ]
  },
  {
   "cell_type": "code",
   "execution_count": 53,
   "id": "683bf39b",
   "metadata": {},
   "outputs": [
    {
     "data": {
      "text/plain": [
       "(128/1331, -98/729, 88, 2842/6859)"
      ]
     },
     "execution_count": 53,
     "metadata": {},
     "output_type": "execute_result"
    }
   ],
   "source": [
    "ff.subs(x, -16),ff.subs(x, -14),ff.subs(x, -4),ff.subs(x,14)"
   ]
  },
  {
   "cell_type": "markdown",
   "id": "8e5a502e",
   "metadata": {},
   "source": [
    "#### Задание 8.10\n",
    "Вычислите вторую производную функции:"
   ]
  },
  {
   "cell_type": "code",
   "execution_count": 54,
   "id": "0929ee17",
   "metadata": {},
   "outputs": [
    {
     "data": {
      "text/latex": [
       "$\\displaystyle \\frac{3 x^{3}}{\\left(x + 5\\right)^{4}} - \\frac{6 x^{2}}{\\left(x + 5\\right)^{3}} + \\frac{3 x}{\\left(x + 5\\right)^{2}}$"
      ],
      "text/plain": [
       "3*x**3/(x + 5)**4 - 6*x**2/(x + 5)**3 + 3*x/(x + 5)**2"
      ]
     },
     "execution_count": 54,
     "metadata": {},
     "output_type": "execute_result"
    }
   ],
   "source": [
    "ff.diff(x)"
   ]
  },
  {
   "cell_type": "markdown",
   "id": "739e79b9",
   "metadata": {},
   "source": [
    "#### Задание 8.11\n",
    "На каком(-их) интервале(-ах) функция выпукла вверх?"
   ]
  },
  {
   "cell_type": "code",
   "execution_count": 55,
   "id": "0f00a94b",
   "metadata": {},
   "outputs": [
    {
     "data": {
      "text/latex": [
       "$\\displaystyle \\left\\{0\\right\\}$"
      ],
      "text/plain": [
       "FiniteSet(0)"
      ]
     },
     "execution_count": 55,
     "metadata": {},
     "output_type": "execute_result"
    }
   ],
   "source": [
    "fff = ff.diff(x)\n",
    "solveset(Eq(fff, 0), x)"
   ]
  },
  {
   "cell_type": "code",
   "execution_count": 56,
   "id": "ae36fec4",
   "metadata": {},
   "outputs": [
    {
     "data": {
      "text/plain": [
       "(-450, -300, 25/432)"
      ]
     },
     "execution_count": 56,
     "metadata": {},
     "output_type": "execute_result"
    }
   ],
   "source": [
    "fff.subs(x, -6),fff.subs(x, -4),fff.subs(x, 1)"
   ]
  },
  {
   "cell_type": "markdown",
   "id": "677a091b",
   "metadata": {},
   "source": [
    "#### Задание 9.3\n",
    "На каком(-их) интервале(-ах) убывает функция $h(x) = -x^3 + 3x^2 + 9$?"
   ]
  },
  {
   "cell_type": "code",
   "execution_count": 58,
   "id": "15b258dc",
   "metadata": {},
   "outputs": [],
   "source": [
    "from sympy import Symbol, S\n",
    "from sympy.calculus.util import continuous_domain \n",
    "x = Symbol(\"x\") \n",
    "h = -x**3 +3*x**2 +9"
   ]
  },
  {
   "cell_type": "code",
   "execution_count": 59,
   "id": "21c9d376",
   "metadata": {},
   "outputs": [
    {
     "data": {
      "text/latex": [
       "$\\displaystyle - 3 x^{2} + 6 x$"
      ],
      "text/plain": [
       "-3*x**2 + 6*x"
      ]
     },
     "execution_count": 59,
     "metadata": {},
     "output_type": "execute_result"
    }
   ],
   "source": [
    "h.diff(x)"
   ]
  },
  {
   "cell_type": "markdown",
   "id": "7f8b5f77",
   "metadata": {},
   "source": [
    "#### Задание 1.7\n",
    "Пусть у нас есть реальные и предсказанные значения в некоторой прогностической модели:\n",
    "\n",
    "Реальные\t6\t7\t6\t4\t5\t6\t8    \n",
    "Предсказанные\t6.4\t7.1\t5.9\t4.2\t5.2\t6.2\t7.5    \n",
    "\n",
    "Найдите значение метрики $L^2$-loss:\n"
   ]
  },
  {
   "cell_type": "code",
   "execution_count": 71,
   "id": "45931009",
   "metadata": {},
   "outputs": [
    {
     "data": {
      "text/plain": [
       "0.5500000000000004"
      ]
     },
     "execution_count": 71,
     "metadata": {},
     "output_type": "execute_result"
    }
   ],
   "source": [
    "y_true = np.array([6,7,6,4,5,6,8])\n",
    "y_pred = np.array([6.4,7.1,5.9,4.2,5.2,6.2,7.5])\n",
    "\n",
    "((y_true - y_pred)**2).sum()"
   ]
  },
  {
   "cell_type": "code",
   "execution_count": 96,
   "id": "4adfb1bd",
   "metadata": {},
   "outputs": [
    {
     "data": {
      "text/plain": [
       "[(-2, -1), (-1, -2), (1, 2), (2, 1)]"
      ]
     },
     "execution_count": 96,
     "metadata": {},
     "output_type": "execute_result"
    }
   ],
   "source": [
    "from sympy import *\n",
    " \n",
    "x, y = symbols('x, y')\n",
    "eq1 = Eq(3*x**2+3*y**2-15,0)\n",
    "eq2 = Eq(6*x*y-12, 0)\n",
    " \n",
    "sol = solve([eq1, eq2], [x, y])\n",
    "\n",
    "sol"
   ]
  },
  {
   "cell_type": "markdown",
   "id": "339ea5ca",
   "metadata": {},
   "source": [
    "$Hesse = \\begin{pmatrix} 6x & 6y\\\\ 6y & 6x\\\\ \\end{pmatrix}$"
   ]
  },
  {
   "cell_type": "code",
   "execution_count": 97,
   "id": "9a359bc0",
   "metadata": {},
   "outputs": [
    {
     "data": {
      "text/plain": [
       "array([[-12,  -6],\n",
       "       [ -6, -12]])"
      ]
     },
     "execution_count": 97,
     "metadata": {},
     "output_type": "execute_result"
    }
   ],
   "source": [
    "x,y = (-2, -1)\n",
    "H = np.array([[6*x,6*y],[6*y,6*x]])\n",
    "H"
   ]
  },
  {
   "cell_type": "code",
   "execution_count": 12,
   "id": "08b6e7c5",
   "metadata": {},
   "outputs": [
    {
     "data": {
      "text/plain": [
       "array([[ -6, -12],\n",
       "       [-12,  -6]])"
      ]
     },
     "execution_count": 12,
     "metadata": {},
     "output_type": "execute_result"
    }
   ],
   "source": [
    "x,y = (-1, -2)\n",
    "H = np.array([[6*x,6*y],[6*y,6*x]])\n",
    "H"
   ]
  },
  {
   "cell_type": "code",
   "execution_count": 13,
   "id": "00aeefbc",
   "metadata": {},
   "outputs": [
    {
     "data": {
      "text/plain": [
       "array([[ 6, 12],\n",
       "       [12,  6]])"
      ]
     },
     "execution_count": 13,
     "metadata": {},
     "output_type": "execute_result"
    }
   ],
   "source": [
    "x,y = (1, 2)\n",
    "H = np.array([[6*x,6*y],[6*y,6*x]])\n",
    "H"
   ]
  },
  {
   "cell_type": "code",
   "execution_count": 14,
   "id": "939a49a7",
   "metadata": {},
   "outputs": [
    {
     "data": {
      "text/plain": [
       "array([[12,  6],\n",
       "       [ 6, 12]])"
      ]
     },
     "execution_count": 14,
     "metadata": {},
     "output_type": "execute_result"
    }
   ],
   "source": [
    "x,y = (2, 1)\n",
    "H = np.array([[6*x,6*y],[6*y,6*x]])\n",
    "H"
   ]
  },
  {
   "cell_type": "markdown",
   "id": "7278d934",
   "metadata": {},
   "source": [
    "Задание 3.4\n",
    "Найдите экстремумы функции $z = 4x^2 - 6xy -34x + 5y^2 + 42y + 7$.\n"
   ]
  },
  {
   "cell_type": "code",
   "execution_count": 24,
   "id": "4a790e42",
   "metadata": {},
   "outputs": [
    {
     "data": {
      "text/plain": [
       "{x: 2, y: -3}"
      ]
     },
     "execution_count": 24,
     "metadata": {},
     "output_type": "execute_result"
    }
   ],
   "source": [
    "from sympy import *\n",
    " \n",
    "x, y = symbols('x, y')\n",
    "\n",
    "z = 4*x**2 - 6*x*y - 34*x + 5*y**2 +42*y +7\n",
    "\n",
    "z_x,z_y  = z.diff(x), z.diff(y)\n",
    "\n",
    "sol = solve([z_x, z_y], [x, y])\n",
    "sol"
   ]
  },
  {
   "cell_type": "markdown",
   "id": "1dcc454b",
   "metadata": {},
   "source": [
    "#### Задание 3.5\n",
    "Вычислите матрицу Гессе для функции $f(x,y) = x^3 - 2xy - y^6$ в точке $(1;2)m$ и найдите её определитель:"
   ]
  },
  {
   "cell_type": "code",
   "execution_count": 82,
   "id": "d67c303a",
   "metadata": {},
   "outputs": [],
   "source": [
    "from sympy.matrices import Matrix\n",
    "from sympy import *"
   ]
  },
  {
   "cell_type": "code",
   "execution_count": 98,
   "id": "d236b554",
   "metadata": {},
   "outputs": [
    {
     "data": {
      "text/latex": [
       "$\\displaystyle -2884$"
      ],
      "text/plain": [
       "-2884"
      ]
     },
     "execution_count": 98,
     "metadata": {},
     "output_type": "execute_result"
    }
   ],
   "source": [
    "x, y = symbols('x, y')\n",
    "f = x**3 -2*x*y -y**6\n",
    "\n",
    "H = Matrix([[f.diff(x,x),f.diff(x,y)],[f.diff(y,x),f.diff(y,y)]])\n",
    "x0,y0 = 1,2 \n",
    "H_0 = H.subs(x,x0).subs(y,y0)\n",
    "\n",
    "H_0.det()"
   ]
  },
  {
   "cell_type": "code",
   "execution_count": 99,
   "id": "ec4fdae7",
   "metadata": {},
   "outputs": [
    {
     "data": {
      "text/plain": [
       "{-sqrt(59053) - 237: 1, -237 + sqrt(59053): 1}"
      ]
     },
     "execution_count": 99,
     "metadata": {},
     "output_type": "execute_result"
    }
   ],
   "source": [
    "H_0.eigenvals()"
   ]
  },
  {
   "cell_type": "markdown",
   "id": "c1436f15",
   "metadata": {},
   "source": [
    "#### Задание 3.9\n",
    "Найдите экстремумы функции $z = x^3 + y^3 - 3xy$.\n",
    "\n",
    "Запишите координаты точки минимума:    \n",
    "Запишите координаты седловой точки:"
   ]
  },
  {
   "cell_type": "code",
   "execution_count": 102,
   "id": "83fd031f",
   "metadata": {},
   "outputs": [
    {
     "data": {
      "text/plain": [
       "[(0, 0),\n",
       " (1, 1),\n",
       " ((-1/2 - sqrt(3)*I/2)**2, -1/2 - sqrt(3)*I/2),\n",
       " ((-1/2 + sqrt(3)*I/2)**2, -1/2 + sqrt(3)*I/2)]"
      ]
     },
     "execution_count": 102,
     "metadata": {},
     "output_type": "execute_result"
    }
   ],
   "source": [
    "z = x**3 + y**3 - 3*x*y\n",
    "z_x,z_y  = z.diff(x), z.diff(y)\n",
    "slv = solve([z_x,z_y ],[x,y])\n",
    "slv"
   ]
  },
  {
   "cell_type": "code",
   "execution_count": 105,
   "id": "6eca83c1",
   "metadata": {},
   "outputs": [
    {
     "data": {
      "text/plain": [
       "(0, 0, {-3: 1, 3: 1})"
      ]
     },
     "execution_count": 105,
     "metadata": {},
     "output_type": "execute_result"
    }
   ],
   "source": [
    "H = Matrix([[z.diff(x,x),z.diff(x,y)],[z.diff(y,x),z.diff(y,y)]])\n",
    "x0,y0 = slv[0]\n",
    "x0,y0, H.subs(x,x0).subs(y,y0).eigenvals()"
   ]
  },
  {
   "cell_type": "code",
   "execution_count": 106,
   "id": "7cff2022",
   "metadata": {},
   "outputs": [
    {
     "data": {
      "text/plain": [
       "(1, 1, {9: 1, 3: 1})"
      ]
     },
     "execution_count": 106,
     "metadata": {},
     "output_type": "execute_result"
    }
   ],
   "source": [
    "x0,y0 = slv[1]\n",
    "x0,y0, H.subs(x,x0).subs(y,y0).eigenvals()"
   ]
  },
  {
   "cell_type": "code",
   "execution_count": null,
   "id": "01402547",
   "metadata": {},
   "outputs": [],
   "source": []
  }
 ],
 "metadata": {
  "kernelspec": {
   "display_name": "Python 3",
   "language": "python",
   "name": "python3"
  },
  "language_info": {
   "codemirror_mode": {
    "name": "ipython",
    "version": 3
   },
   "file_extension": ".py",
   "mimetype": "text/x-python",
   "name": "python",
   "nbconvert_exporter": "python",
   "pygments_lexer": "ipython3",
   "version": "3.8.8"
  }
 },
 "nbformat": 4,
 "nbformat_minor": 5
}
