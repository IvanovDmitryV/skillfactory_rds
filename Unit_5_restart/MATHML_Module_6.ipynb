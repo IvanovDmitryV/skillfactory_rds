{
 "cells": [
  {
   "cell_type": "code",
   "execution_count": 2,
   "id": "3298c9cc",
   "metadata": {},
   "outputs": [],
   "source": [
    "import pandas as pd\n",
    "import numpy as np\n",
    "from sympy import *"
   ]
  },
  {
   "cell_type": "markdown",
   "id": "851254d5",
   "metadata": {},
   "source": [
    "#### Задание 1.1\n",
    "Пусть прибыль в вашей компании выражается следующей функцией, которая зависит от параметра $x$  — количества производимых товаров:\n",
    "$$f(x)=-x^{4}+6 x^{3}-4 x^{2}+80$$\n",
    "Найдите максимально возможную прибыль, которую вы можете получить, варьируя количество произведённых товаров. "
   ]
  },
  {
   "cell_type": "code",
   "execution_count": 9,
   "id": "e6a0a798",
   "metadata": {},
   "outputs": [
    {
     "data": {
      "text/plain": [
       "[0, 1/2, 4]"
      ]
     },
     "execution_count": 9,
     "metadata": {},
     "output_type": "execute_result"
    }
   ],
   "source": [
    "x = symbols('x')\n",
    "f = -x**4 + 6*x**3 -4*x**2 + 80\n",
    "# f_x = -4*x**3 + 18*x**2 - 8*x\n",
    "f_x = f.diff(x)\n",
    "solve(f_x,x)"
   ]
  },
  {
   "cell_type": "code",
   "execution_count": 5,
   "id": "10e5ad6a",
   "metadata": {},
   "outputs": [
    {
     "data": {
      "text/plain": [
       "(30, -0.937500000000000, 6, -90)"
      ]
     },
     "execution_count": 5,
     "metadata": {},
     "output_type": "execute_result"
    }
   ],
   "source": [
    "f_x.subs(x,-1),f_x.subs(x,0.25),f_x.subs(x,1),f_x.subs(x,5)"
   ]
  },
  {
   "cell_type": "code",
   "execution_count": 11,
   "id": "036e3540",
   "metadata": {},
   "outputs": [
    {
     "data": {
      "text/plain": [
       "(80, 144)"
      ]
     },
     "execution_count": 11,
     "metadata": {},
     "output_type": "execute_result"
    }
   ],
   "source": [
    "f.subs(x,0),f.subs(x,4)"
   ]
  },
  {
   "cell_type": "markdown",
   "id": "4e4b890f",
   "metadata": {},
   "source": [
    "#### Задание 1.4\n",
    "Допустим, вы хотите произвести некоторое количество товара, которое зависит от часов работы двух ключевых сотрудников следующим образом:\n",
    "$$f(x, y)=x^{2}+2 y^{2}$$\n",
    "Однако вы можете оплатить этим сотрудникам не более 20 часов работы.\n",
    "\n",
    "Какое наибольшее количество товаров вы сможете произвести в таком случае?\n",
    "\n",
    "Помните, что количество часов работы должно быть целым, поэтому, прежде чем вычислять итоговый результат, округлите часы работы до целого."
   ]
  },
  {
   "cell_type": "code",
   "execution_count": 14,
   "id": "b7a5c8a7",
   "metadata": {},
   "outputs": [],
   "source": [
    "# x,y,l1,l2,x_1,x_2 = symbols('x,y,l1,l2,x_1,x_2')\n",
    "# f = x**2 + 2*y**2\n",
    "# L = f + l1*(-x-y+x_1**2) + l2*(-x-y-x_2**2 + 20)"
   ]
  },
  {
   "cell_type": "code",
   "execution_count": 21,
   "id": "0aa8258f",
   "metadata": {},
   "outputs": [],
   "source": [
    "x,y,l1,x1 = symbols('x,y,l1,x1')\n",
    "f = x**2 + 2*y**2\n",
    "L = f + l1*(-x - y - x1**2 + 20)"
   ]
  },
  {
   "cell_type": "code",
   "execution_count": 22,
   "id": "6b340992",
   "metadata": {},
   "outputs": [
    {
     "data": {
      "text/plain": [
       "(-l1 + 2*x, -l1 + 4*y, -x - x1**2 - y + 20, -2*l1*x1)"
      ]
     },
     "execution_count": 22,
     "metadata": {},
     "output_type": "execute_result"
    }
   ],
   "source": [
    "L_x, L_y, L_l1, L_x1 = L.diff(x), L.diff(y), L.diff(l1), L.diff(x1)\n",
    "L_x, L_y, L_l1, L_x1"
   ]
  },
  {
   "cell_type": "code",
   "execution_count": 24,
   "id": "18bebbb0",
   "metadata": {},
   "outputs": [
    {
     "data": {
      "text/plain": [
       "[(0, 0, 0, -2*sqrt(5)), (0, 0, 0, 2*sqrt(5)), (40/3, 20/3, 80/3, 0)]"
      ]
     },
     "execution_count": 24,
     "metadata": {},
     "output_type": "execute_result"
    }
   ],
   "source": [
    "slv = solve([L_x, L_y, L_l1, L_x1],[x,y,l1,x1])\n",
    "slv"
   ]
  },
  {
   "cell_type": "code",
   "execution_count": 30,
   "id": "d6cd6d21",
   "metadata": {},
   "outputs": [
    {
     "data": {
      "text/latex": [
       "$\\displaystyle 267$"
      ],
      "text/plain": [
       "267"
      ]
     },
     "execution_count": 30,
     "metadata": {},
     "output_type": "execute_result"
    }
   ],
   "source": [
    "x_int, y_int = round(slv[2][0]),round(slv[2][1])\n",
    "f.subs(x,x_int).subs(y,y_int)"
   ]
  },
  {
   "cell_type": "markdown",
   "id": "c29dc33a",
   "metadata": {},
   "source": [
    "#### Задание 2.7\n",
    "Давайте потренируемся применять стохастический градиентный спуск для решения задачи линейной регрессии. Мы уже рассмотрели его реализацию «с нуля», однако для решения практических задач можно использовать готовые библиотеки.\n",
    "\n",
    "Загрузите стандартный датасет об алмазах из библиотеки Seaborn:\n",
    "\n",
    "```python\n",
    "import seaborn as sns\n",
    "df = sns.load_dataset('diamonds')\n",
    "```\n",
    "Удалите часть признаков:\n",
    "```python\n",
    "df.drop(['depth', 'table', 'x', 'y', 'z'], axis=1, inplace=True)\n",
    "```\n",
    "Закодируйте категориальные признаки:\n",
    "```python\n",
    "df = pd.get_dummies(df, drop_first=True)\n",
    "```\n",
    "Логарифмируйте признаки:\n",
    "```python\n",
    "df['carat'] = np.log(1+df['carat'])\n",
    "df['price'] = np.log(1+df['price'])\n",
    "```\n",
    "Определите целевую переменную и предикторы:\n",
    "```python\n",
    "X_cols = [col for col in df.columns if col!='price'] \n",
    "X = df[X_cols]\n",
    "y = df['price']\n",
    "```\n",
    "Разделите выборку на обучающую и тестовую (объём тестовой возьмите равным 0.33).\n",
    "\n",
    "Теперь реализуйте алгоритм линейной регрессии со стохастическим градиентным спуском (функция `SGDRegressor`). Отберите с помощью `gridsearch()` оптимальные параметры по следующей сетке:\n",
    "```python\n",
    "'learning_rate': ['constant'],\n",
    "    'eta0': np.logspace(-4,-1,4),\n",
    "    'max_iter': np.logspace(0,3,10),\n",
    "    'loss': ['squared_loss', 'epsilon_insensitive'],\n",
    "    'penalty': ['elasticnet'], \n",
    "    'alpha': np.logspace(-3,3,15),\n",
    "    'l1_ratio': np.linspace(0,1,11),\n",
    "```\n",
    "\n",
    "Обучите регрессию с оптимальными параметрами. В качестве ответа введите получившееся значение `MSE`, предварительно округлив его до третьего знака после точки-разделителя."
   ]
  },
  {
   "cell_type": "code",
   "execution_count": 46,
   "id": "80e2cd18",
   "metadata": {},
   "outputs": [],
   "source": [
    "import seaborn as sns\n",
    "from sklearn.model_selection import train_test_split\n",
    "from sklearn.linear_model import SGDRegressor\n",
    "from sklearn.model_selection import GridSearchCV"
   ]
  },
  {
   "cell_type": "code",
   "execution_count": 49,
   "id": "f61bdfac",
   "metadata": {},
   "outputs": [
    {
     "name": "stdout",
     "output_type": "stream",
     "text": [
      "{'alpha': 0.001, 'eta0': 0.01, 'l1_ratio': 0.9, 'learning_rate': 'constant', 'loss': 'squared_loss', 'max_iter': 10.0, 'penalty': 'elasticnet'}\n"
     ]
    },
    {
     "data": {
      "text/plain": [
       "0.045"
      ]
     },
     "execution_count": 49,
     "metadata": {},
     "output_type": "execute_result"
    }
   ],
   "source": [
    "X_train, X_test, y_train, y_test = train_test_split(X, y, test_size=0.33, random_state=42)\n",
    "\n",
    "parameters = {\n",
    "    'learning_rate': ['constant'],\n",
    "    'eta0': np.logspace(-4,-1,4),\n",
    "    'max_iter': np.logspace(0,3,10),\n",
    "    'loss': ['squared_loss', 'epsilon_insensitive'],\n",
    "    'penalty': ['elasticnet'], \n",
    "    'alpha': np.logspace(-3,3,15),\n",
    "    'l1_ratio': np.linspace(0,1,11)\n",
    "}\n",
    "\n",
    "sgd = SGDRegressor(random_state=42, early_stopping = True)\n",
    "sgd_cv = GridSearchCV(estimator=sgd, param_grid=parameters, n_jobs=-1)\n",
    "sgd_cv.fit(X_train, y_train)\n",
    "\n",
    "print(sgd_cv.best_params_)\n",
    "\n",
    "sgd = SGDRegressor(**sgd_cv.best_params_, random_state = 42)\n",
    "\n",
    "sgd.fit(X_train, y_train)\n",
    "sgd.score(X_train, y_train)\n",
    "ls = sgd.predict(X_test)\n",
    "from sklearn.metrics import mean_squared_error\n",
    "round(mean_squared_error(y_test, ls), 3)"
   ]
  },
  {
   "cell_type": "markdown",
   "id": "3bc2d007",
   "metadata": {},
   "source": [
    "#### Задание 3.1\n",
    "Найдите третий корень полинома $f(x) = 6x^5 - 5x^4 - 4x^3 + 3x^2$, взяв за точку старта 0.7. Введите получившееся значение с точностью до трёх знаков после точки-разделителя.\n",
    "\n",
    "Попробуйте реализовать алгоритм с использованием Python на основе алгоритма градиентного спуска, изученного в предыдущем модуле."
   ]
  },
  {
   "cell_type": "code",
   "execution_count": 53,
   "id": "52c29ae0",
   "metadata": {},
   "outputs": [
    {
     "name": "stdout",
     "output_type": "stream",
     "text": [
      "0.629\n"
     ]
    }
   ],
   "source": [
    "def func(x):\n",
    "    return 6*x**5-5*x**4-4*x**3+3*x**2\n",
    " \n",
    "def func_dx(x):\n",
    "    return 30*x**4-20*x**3-12*x**2+6*x\n",
    "\n",
    "iter_count = 0\n",
    "epsilon = 0.000001\n",
    "x_curr = 0.7\n",
    " \n",
    "while (abs(func(x_curr)) > epsilon):\n",
    "    x_curr -= func(x_curr)/func_dx(x_curr)\n",
    "    iter_count += 1\n",
    "#     print(x_curr)\n",
    "print(round(x_curr,3))    "
   ]
  },
  {
   "cell_type": "markdown",
   "id": "fbdfa488",
   "metadata": {},
   "source": [
    "#### Задание 3.6\n",
    "Дана функция $f(x) = x^3 - 72x - 220$. Найдите решение уравнения $f(x) = 0$  для поиска корня в окрестностях точки $x_0 = 12$. Ответ округлите до трёх знаков после точки-разделителя."
   ]
  },
  {
   "cell_type": "code",
   "execution_count": 61,
   "id": "8dfccda9",
   "metadata": {},
   "outputs": [],
   "source": [
    "func = lambda x: x**3 - 72*x - 220\n",
    "func_dx = lambda x: 3*x**2 - 72"
   ]
  },
  {
   "cell_type": "code",
   "execution_count": 65,
   "id": "d005317e",
   "metadata": {},
   "outputs": [
    {
     "name": "stdout",
     "output_type": "stream",
     "text": [
      "4 9.727\n"
     ]
    }
   ],
   "source": [
    "iter_count = 0\n",
    "epsilon = 0.000001\n",
    "x_curr = 12\n",
    " \n",
    "while (abs(func(x_curr)) > epsilon):\n",
    "    x_curr -= func(x_curr)/func_dx(x_curr)\n",
    "    iter_count += 1\n",
    "#     print(x_curr)\n",
    "print(iter_count,round(x_curr,3)) "
   ]
  },
  {
   "cell_type": "code",
   "execution_count": 58,
   "id": "57d6e7b9",
   "metadata": {},
   "outputs": [
    {
     "data": {
      "text/plain": [
       "9.993225376092596e-07"
      ]
     },
     "execution_count": 58,
     "metadata": {},
     "output_type": "execute_result"
    }
   ],
   "source": [
    "func(x_curr),func(919/90)"
   ]
  },
  {
   "cell_type": "markdown",
   "id": "b20cba82",
   "metadata": {},
   "source": [
    "#### Задание 3.7\n",
    "Найдите положительный корень для уравнения $x^2 + 9x - 5 = 0$.\n",
    "\n",
    "В качестве стартовой точки возьмите $x_0 = 2.2$.\n",
    "\n",
    "Расчёт произведите поэтапно или с помощью Python.\n",
    "\n",
    "Ответ округлите до двух знаков после точки-разделителя."
   ]
  },
  {
   "cell_type": "code",
   "execution_count": 66,
   "id": "548e5d58",
   "metadata": {},
   "outputs": [],
   "source": [
    "func = lambda x: x**2 + 9*x - 5\n",
    "func_dx = lambda x: 2*x + 9\n"
   ]
  },
  {
   "cell_type": "code",
   "execution_count": 69,
   "id": "128784f8",
   "metadata": {},
   "outputs": [
    {
     "name": "stdout",
     "output_type": "stream",
     "text": [
      "4 0.52\n"
     ]
    }
   ],
   "source": [
    "epsilon = 0.00001\n",
    "iter_count = 0\n",
    "x_curr = 2.2\n",
    "while func(x_curr) > epsilon:\n",
    "    x_curr -= func(x_curr)/func_dx(x_curr)\n",
    "    iter_count += 1\n",
    "print (iter_count, round(x_curr,2))"
   ]
  },
  {
   "cell_type": "markdown",
   "id": "d9c5f159",
   "metadata": {},
   "source": [
    "#### Задание 3.9\n",
    "С помощью метода Ньютона найдите точку минимума для функции $f(x) = 8x^3 - 2x^2 - 450$.\n",
    "\n",
    "Для расчётов используйте Python.\n",
    "\n",
    "В качестве стартовой точки возьмите $42$, точность примите за $0.0001$.\n",
    "\n",
    "Ответ округлите до трёх знаков после точки-разделителя."
   ]
  },
  {
   "cell_type": "code",
   "execution_count": 74,
   "id": "0e6c7af1",
   "metadata": {},
   "outputs": [
    {
     "name": "stdout",
     "output_type": "stream",
     "text": [
      "12 0.167\n"
     ]
    }
   ],
   "source": [
    "func = lambda x: 8*x**3 - 2*x**2 -450\n",
    "func_dx = lambda x: 24*x**2 - 4*x\n",
    "func_dxx = lambda x: 48*x - 4\n",
    "\n",
    "epsilon = 0.0001\n",
    "x_curr = 42.\n",
    "iter_count = 0\n",
    "\n",
    "while func_dx(x_curr)>epsilon:\n",
    "    x_curr -= func_dx(x_curr)/func_dxx(x_curr)\n",
    "    iter_count += 1\n",
    "    \n",
    "print(iter_count,round(x_curr,3))"
   ]
  },
  {
   "cell_type": "markdown",
   "id": "9554aca3",
   "metadata": {},
   "source": [
    "Давайте рассмотрим, как с помощью функций Python мы сможем применить квазиньютоновские методы для оптимизации функции $f(x,y) = x^2 + y^2$.\n",
    "\n",
    "Подгрузим необходимые библиотеки:"
   ]
  },
  {
   "cell_type": "code",
   "execution_count": 75,
   "id": "3fcff1b2",
   "metadata": {},
   "outputs": [],
   "source": [
    "import numpy as np\n",
    "from scipy.optimize import minimize"
   ]
  },
  {
   "cell_type": "markdown",
   "id": "4924b60a",
   "metadata": {},
   "source": [
    "Определим функцию, которую будем оптимизировать и определим градиент для функции."
   ]
  },
  {
   "cell_type": "code",
   "execution_count": 80,
   "id": "27989720",
   "metadata": {},
   "outputs": [
    {
     "name": "stdout",
     "output_type": "stream",
     "text": [
      "Статус оптимизации Optimization terminated successfully.\n",
      "Количество оценок: 3\n",
      "Решение: f([0. 0.]) = 0.00000\n"
     ]
    }
   ],
   "source": [
    "func = lambda x: x[0]**2.0 + x[1]**2.0\n",
    "grad_func = lambda x: np.array([x[0] * 2, x[1] * 2])\n",
    "\n",
    "x_0 = [1.0, 1.0]\n",
    "\n",
    "result = minimize(func, x_0, method='BFGS', jac=grad_func)\n",
    "\n",
    "print('Статус оптимизации %s' % result['message'])\n",
    "print('Количество оценок: %d' % result['nfev'])\n",
    "solution = result['x']\n",
    "evaluation = func(solution)\n",
    "print('Решение: f(%s) = %.5f' % (solution, evaluation))"
   ]
  },
  {
   "cell_type": "markdown",
   "id": "e022d1e9",
   "metadata": {},
   "source": [
    "Можно повторить то же самое с вариацией  `L-BFGS-B`:"
   ]
  },
  {
   "cell_type": "code",
   "execution_count": 81,
   "id": "4100b547",
   "metadata": {},
   "outputs": [
    {
     "name": "stdout",
     "output_type": "stream",
     "text": [
      "Статус оптимизации CONVERGENCE: NORM_OF_PROJECTED_GRADIENT_<=_PGTOL\n",
      "Количество оценок: 3\n",
      "Решение: f([0. 0.]) = 0.00000\n"
     ]
    }
   ],
   "source": [
    "# определяем начальную точку\n",
    "x_0 = [1, 1]\n",
    "# реализуем алгоритм L-BFGS-B\n",
    "result = minimize(func, x_0, method='L-BFGS-B', jac=grad_func)\n",
    "# получаем результат\n",
    "print('Статус оптимизации %s' % result['message'])\n",
    "print('Количество оценок: %d' % result['nfev'])\n",
    "solution = result['x']\n",
    "evaluation = func(solution)\n",
    "print('Решение: f(%s) = %.5f' % (solution, evaluation))"
   ]
  },
  {
   "cell_type": "markdown",
   "id": "ba15d33a",
   "metadata": {},
   "source": [
    "Итак, мы обсудили один из самых эффективных на сегодняшний день алгоритмов — вариацию BFGS квазиньютоновских методов. Вы будете регулярно сталкиваться с этим алгоритмом при решении различных задач и при использовании библиотек для оптимизации. Так что давайте попрактикуемся: в этом юните мы посмотрели фрагмент поэтапного разбора метода BFGS для функции $f(x,y) = x^2 - xy + y^2 + 9x - 6y + 20$  — давайте завершим начатое и найдём точку минимума\n",
    "\n",
    "#### Задание 4.1\n",
    "Найдите точку минимума для функции $f(x,y) = x^2 - xy + y^2 + 9x - 6y + 20$.\n",
    "\n",
    "В качестве стартовой возьмите точку $(-400, -400)$.\n",
    "\n",
    "Значения координат округлите до целого числа."
   ]
  },
  {
   "cell_type": "code",
   "execution_count": 86,
   "id": "e902f514",
   "metadata": {},
   "outputs": [
    {
     "name": "stdout",
     "output_type": "stream",
     "text": [
      "[-4.  1.]\n"
     ]
    }
   ],
   "source": [
    "func = lambda x: x[0] ** 4.0 - x[0] * x[1] + x[1] ** 2 + 9 * x[0] - 6 * x[1] + 20\n",
    "grad_func = lambda x: np.array([2 * x[0] - x[1] + 9, -x[0] + 2 * x[1] - 6])\n",
    "\n",
    "x_0 = [-400, -400]\n",
    "result = minimize(func, x_0, method='BFGS', jac=grad_func)\n",
    "solution = result['x']\n",
    "print (solution.round())"
   ]
  },
  {
   "cell_type": "markdown",
   "id": "66a7b29f",
   "metadata": {},
   "source": [
    "#### Задание 4.4\n",
    "Найдите минимум функции  $f(x) = x**2 - 3x + 45$  с помощью квазиньютоновского метода `BFGS`.\n",
    "\n",
    "В качестве стартовой точки возьмите $x = 10$.\n",
    "\n",
    "В качестве ответа введите минимальное значение функции в достигнутой точке."
   ]
  },
  {
   "cell_type": "code",
   "execution_count": null,
   "id": "3eb6b353",
   "metadata": {},
   "outputs": [],
   "source": []
  },
  {
   "cell_type": "code",
   "execution_count": 94,
   "id": "5ec39083",
   "metadata": {},
   "outputs": [
    {
     "data": {
      "text/plain": [
       "array([1.5])"
      ]
     },
     "execution_count": 94,
     "metadata": {},
     "output_type": "execute_result"
    }
   ],
   "source": [
    "func = lambda x: x**2 - 3*x + 45\n",
    "func_dx = lambda x: 2*x - 3\n",
    "x_0 = 10\n",
    "result = minimize(func,x_0,method='BFGS',jac=func_dx)\n",
    "result.x"
   ]
  },
  {
   "cell_type": "markdown",
   "id": "1df6b2de",
   "metadata": {},
   "source": [
    "#### Задание 4.5\n",
    "Решите предыдущую задачу, применяя модификацию `L-BFGS-B`.\n",
    "\n",
    "В каком случае получилось меньше итераций?"
   ]
  },
  {
   "cell_type": "code",
   "execution_count": 93,
   "id": "6f062ea7",
   "metadata": {},
   "outputs": [
    {
     "data": {
      "text/plain": [
       "(2, 4)"
      ]
     },
     "execution_count": 93,
     "metadata": {},
     "output_type": "execute_result"
    }
   ],
   "source": [
    "result_l = minimize(func,x_0,method='L-BFGS-B',jac=func_dx)\n",
    "result_l.nit, result.nit"
   ]
  },
  {
   "cell_type": "markdown",
   "id": "a1a40d97",
   "metadata": {},
   "source": [
    "#### Задание 4.7\n",
    "Найдите минимум функции $f(x,y) = x^4 + 6*y^2 + 10$, взяв за стартовую точку $(100,100)$.\n",
    "Какой алгоритм сошелся быстрее?"
   ]
  },
  {
   "cell_type": "code",
   "execution_count": 98,
   "id": "78b78fb8",
   "metadata": {},
   "outputs": [
    {
     "data": {
      "text/plain": [
       "(34, 15)"
      ]
     },
     "execution_count": 98,
     "metadata": {},
     "output_type": "execute_result"
    }
   ],
   "source": [
    "func = lambda x: x[0]**4 + 6*x[1] + 10\n",
    "grad_func = lambda x: np.array([4*x[0]**3 ,12*x[1]])\n",
    "x_0 = [100,100]\n",
    "res_bfgs = minimize(func,x_0,method='BFGS',jac=grad_func)\n",
    "res_lbfgsb = minimize(func,x_0,method='L-BFGS-B',jac=grad_func)\n",
    "res_bfgs.nit,res_lbfgsb.nit"
   ]
  },
  {
   "cell_type": "markdown",
   "id": "9f1cad7d",
   "metadata": {},
   "source": [
    "Каково минимальное значение функции в найденной точке минимума?"
   ]
  },
  {
   "cell_type": "code",
   "execution_count": 107,
   "id": "4776199e",
   "metadata": {},
   "outputs": [
    {
     "data": {
      "text/plain": [
       "(array([1.23319058e-02, 5.70395858e-14]),\n",
       " 'Optimization terminated successfully.',\n",
       " 10.000000023127422)"
      ]
     },
     "execution_count": 107,
     "metadata": {},
     "output_type": "execute_result"
    }
   ],
   "source": [
    "res_bfgs.x , res_bfgs.message, func(res_bfgs.x)"
   ]
  },
  {
   "cell_type": "code",
   "execution_count": 106,
   "id": "587b362d",
   "metadata": {},
   "outputs": [
    {
     "data": {
      "text/plain": [
       "(array([ -1.65591126, -39.95629811]),\n",
       " 'ABNORMAL_TERMINATION_IN_LNSRCH',\n",
       " -222.21899385101636)"
      ]
     },
     "execution_count": 106,
     "metadata": {},
     "output_type": "execute_result"
    }
   ],
   "source": [
    "res_lbfgsb.x, res_lbfgsb.message,  func(res_lbfgsb.x)"
   ]
  },
  {
   "cell_type": "markdown",
   "id": "676fd99c",
   "metadata": {},
   "source": [
    "#### Задание 5.5\n",
    "Магазин спортивных товаров получает прибыль в размере 6 долларов с каждого проданного футбольного мяча и 5.5 долларов — с бейсбольного.\n",
    "\n",
    "Каждый месяц магазин продаёт от 35 до 45 футбольных мячей и от 40 до 55 бейсбольных.\n",
    "\n",
    "Известно, что в этом месяце у магазина есть в общей сложности 80 мячей.\n",
    "\n",
    "Какую максимальную прибыль в этом месяце может получить магазин от продажи мячей?"
   ]
  },
  {
   "cell_type": "code",
   "execution_count": null,
   "id": "14ad7da4",
   "metadata": {},
   "outputs": [],
   "source": []
  },
  {
   "cell_type": "markdown",
   "id": "69fde74d",
   "metadata": {},
   "source": [
    "#### Пример № 1. SciPy (scipy.optimize.linprog)\n",
    "\n",
    "У нас есть 6 товаров с заданными ценами на них и заданной массой.\n",
    "\n",
    "Вместимость сумки, в которую мы можем положить товары, заранее известна и равна 15 кг.\n",
    "\n",
    "Какой товар и в каком объёме необходимо взять, чтобы сумма всех цен товаров была максимальной?"
   ]
  },
  {
   "cell_type": "code",
   "execution_count": 110,
   "id": "6d87ddc4",
   "metadata": {},
   "outputs": [],
   "source": [
    "# Создадим переменные на основе предложенных данных:\n",
    "values = [4, 2, 1, 7, 3, 6] #стоимости товаров\n",
    "weights = [5, 9, 8, 2, 6, 5] #вес товаров\n",
    "C = 15 #вместимость сумки\n",
    "n = 6 #количество товаров"
   ]
  },
  {
   "cell_type": "markdown",
   "id": "161849c1",
   "metadata": {},
   "source": [
    "Сформулируем задачу линейного программирования. Максимизируем произведение стоимости на количество, учитывая, что произведение веса на искомое количество товаров должно укладываться во вместимость сумки:\n",
    "$$\\max \\sum v_{i} x_{i}$$\n",
    "$$\\sum w_{i} x_{i} \\leq C$$\n",
    "Из предыдущего юнита мы уже знаем, что в векторно-матричной форме наша задача должна формулироваться в следующем виде:\n",
    "$$\\operatorname{min} c^{T} x$$\n",
    "$$A x \\leq b$$\n",
    "Получается, что в наших обозначениях мы имеем следующее:\n",
    "$$c=-v, \\ A=w^{T}, \\ b=(C)$$\n",
    "Здесь нам необходимо вспомнить линейную алгебру, так как очень важно, чтобы векторы были в нужных нам размерностях, иначе мы не сможем использовать матричное умножение. Вектор  размера  мы превращаем в матрицу размера  с помощью функции expand_dims(). Создаём все необходимые переменные:"
   ]
  },
  {
   "cell_type": "code",
   "execution_count": 112,
   "id": "c4543ff8",
   "metadata": {},
   "outputs": [
    {
     "data": {
      "text/plain": [
       "     con: array([], dtype=float64)\n",
       "     fun: -52.50000000003076\n",
       " message: 'Optimization terminated successfully.'\n",
       "     nit: 5\n",
       "   slack: array([-2.24940067e-11])\n",
       "  status: 0\n",
       " success: True\n",
       "       x: array([6.18738531e-14, 1.05853305e-12, 1.21475943e-13, 7.50000000e+00,\n",
       "       4.00246691e-13, 4.71394161e-13])"
      ]
     },
     "execution_count": 112,
     "metadata": {},
     "output_type": "execute_result"
    }
   ],
   "source": [
    "c = - np.array(values) #изменяем знак, чтобы перейти от задачи максимизации к задаче минимизации\n",
    "A = np.array(weights)  #конвертируем список с весами в массив\n",
    "A = np.expand_dims(A, 0) #преобразуем размерность массива\n",
    "b = np.array([C]) #конвертируем вместимость в массив\n",
    "\n",
    "# Передаём подготовленные переменные в оптимизатор SciPy:\n",
    "from scipy.optimize import linprog\n",
    "linprog(c=c, A_ub=A, b_ub=b)"
   ]
  },
  {
   "cell_type": "markdown",
   "id": "1beecaf5",
   "metadata": {},
   "source": [
    "#### Пример № 2. CVXPY\n",
    "\n",
    "Снова решим задачу из примера № 1, но уже предположим, что товары нельзя дробить, и будем решать задачу целочисленного линейного программирования.\n",
    "\n",
    "SciPy не умеет решать такие задачи, поэтому будем использовать новую библиотеку CVXPY."
   ]
  },
  {
   "cell_type": "code",
   "execution_count": 130,
   "id": "52d44c09",
   "metadata": {},
   "outputs": [
    {
     "data": {
      "text/plain": [
       "-138412039.00000018"
      ]
     },
     "execution_count": 130,
     "metadata": {},
     "output_type": "execute_result"
    }
   ],
   "source": [
    "import cvxpy\n",
    "import cvxopt\n",
    "# С помощью CVXPY создадим переменную-массив. Укажем его размерность, а также условие, что все числа в массиве должны быть целыми:\n",
    "x = cvxpy.Variable(shape=n, integer = True)\n",
    "\n",
    "# Далее зададим ограничения, используя матричное умножение:\n",
    "constraint = (A @ x <= b)\n",
    "total_value = c @ x\n",
    "\n",
    "# Переходим непосредственно к решению задачи:\n",
    "problem = cvxpy.Problem(cvxpy.Minimize(total_value), constraints=[constraint])\n",
    "# problem = cvxopt.Problem(cvxpy.Minimize(total_value), constraints=[constraint])\n",
    "\n",
    "# Вызываем получившееся решение:\n",
    "problem.solve(solver='ECOS_BB')\n",
    "# problem.solve(solver='GLPK')\n",
    "# problem.solve()"
   ]
  },
  {
   "cell_type": "markdown",
   "id": "a5e289a4",
   "metadata": {},
   "source": [
    "В результате получаем бесконечность. Это совершенно нереалистично.\n",
    "\n",
    "В таком случае будем рассматривать только положительные значения $x$: $x \\geq 0$\n",
    "\n",
    "В переформулированном виде задача будет решаться следующим образом:"
   ]
  },
  {
   "cell_type": "code",
   "execution_count": 131,
   "id": "fd9bde03",
   "metadata": {},
   "outputs": [
    {
     "name": "stderr",
     "output_type": "stream",
     "text": [
      "C:\\Users\\Manych\\anaconda3\\lib\\site-packages\\cvxpy\\problems\\problem.py:1337: UserWarning: Solution may be inaccurate. Try another solver, adjusting the solver settings, or solve with verbose=True for more information.\n",
      "  warnings.warn(\n"
     ]
    },
    {
     "data": {
      "text/plain": [
       "array([7.01265807e-10, 7.99333027e-10, 3.58703130e-10, 7.00000000e+00,\n",
       "       4.67143021e-10, 9.34955115e-10])"
      ]
     },
     "execution_count": 131,
     "metadata": {},
     "output_type": "execute_result"
    }
   ],
   "source": [
    "x = cvxpy.Variable(shape=n, integer=True)\n",
    "constraint = (A @ x <= b)\n",
    "x_positive = (x >= 0)\n",
    "total_value = c @ x\n",
    "problem = cvxpy.Problem(cvxpy.Minimize(total_value), constraints=[constraint, x_positive])\n",
    "# problem.solve()\n",
    "problem.solve(solver='ECOS_BB')\n",
    "x.value"
   ]
  },
  {
   "cell_type": "markdown",
   "id": "eb070fd1",
   "metadata": {},
   "source": [
    "А что если мы можем брать не любое количество товаров, а только один или не брать их вовсе? Задаём $x$ типа boolean."
   ]
  },
  {
   "cell_type": "code",
   "execution_count": 133,
   "id": "b492c23f",
   "metadata": {},
   "outputs": [
    {
     "data": {
      "text/plain": [
       "array([ 1.00000000e+00,  8.03480068e-11, -2.09342022e-11,  1.00000000e+00,\n",
       "        1.08260122e-10,  1.00000000e+00])"
      ]
     },
     "execution_count": 133,
     "metadata": {},
     "output_type": "execute_result"
    }
   ],
   "source": [
    "x = cvxpy.Variable(shape=n, boolean=True)\n",
    "constraint = A @ x <= b\n",
    "x_positive = x >= 0\n",
    "total_value = c @ x\n",
    "problem = cvxpy.Problem(cvxpy.Minimize(total_value), constraints=[constraint, x_positive])\n",
    "problem.solve(solver='ECOS_BB')\n",
    "# problem.solve()\n",
    "#-17.0\n",
    "x.value\n",
    "#array([1., 0., 0., 1., 0., 1.])"
   ]
  },
  {
   "cell_type": "markdown",
   "id": "2c91b8a5",
   "metadata": {},
   "source": [
    "#### Пример № 3. PuLP\n",
    "\n",
    "В нашей каршеринговой компании две модели автомобилей: модель $A$ и модель $B$. Автомобиль $A$ даёт прибыль в размере 20 тысяч в месяц, а автомобиль  $B$ — 45 тысяч в месяц. Мы хотим заказать на заводе новые автомобили и максимизировать прибыль. Однако на производство и ввод в эксплуатацию автомобилей понадобится время:\n",
    "\n",
    "- Проектировщику требуется 4 дня, чтобы подготовить документы для производства каждого автомобиля типа $A$, и 5 дней — для каждого автомобиля типа  $B$.\n",
    "- Заводу требуется 3 дня, чтобы изготовить модель $A$, и 6 дней, чтобы изготовить модель $B$.\n",
    "- Менеджеру требуется 2 дня, чтобы ввести в эксплуатацию в компании автомобиль $A$, и 7 дней —  автомобиль $B$.\n",
    "- Каждый специалист может работать суммарно 30 дней."
   ]
  },
  {
   "cell_type": "markdown",
   "id": "6620a1b3",
   "metadata": {},
   "source": [
    "Целевая функция будет выглядеть следующим образом:\n",
    "    $$20000 A + 45000 B$$\n",
    "\n",
    "Также запишем ограничения:\n",
    "$$A, \\ B \\geq 0$$\n",
    "$$4A + 5B \\leq 30$$\n",
    "$$3A +6B \\leq 30$$\n",
    "$$2A + 7B \\leq 30$$\n",
    "\n",
    "Заметьте, что здесь мы снова пишем обычные неравенства, а не условия в матричном виде. Дело в том, что для данной библиотеки так «удобнее», так как она принимает все условия в «первичном» виде."
   ]
  },
  {
   "cell_type": "code",
   "execution_count": 140,
   "id": "90bbf018",
   "metadata": {},
   "outputs": [],
   "source": [
    "# from pulp import *\n",
    "\n",
    "# problem = LpProblem('Производство машин', LpMaximize)\n",
    "# A = LpVariable('Автомобиль A', lowBound=0 , cat=LpInteger)\n",
    "# B = LpVariable('Автомобиль B', lowBound=0 , cat=LpInteger)\n",
    "# #Целевая функция\n",
    "# problem += 20000*A + 45000*B \n",
    "# #Ограничения\n",
    "# problem += 4*A + 5*B <= 30 \n",
    "# problem += 3*A + 6*B <=30\n",
    "# problem += 2*A + 7*B <=30\n",
    "# problem.solve()\n",
    "# print(\"Количество автомобилей модели А: \", A.varValue)\n",
    "# print(\"Количество автомобилей модели В: \", B.varValue)\n",
    "# print(\"Суммарный доход: \", value(problem.objective))"
   ]
  },
  {
   "cell_type": "code",
   "execution_count": 141,
   "id": "dcd9deb0",
   "metadata": {},
   "outputs": [],
   "source": [
    "# problem.solve(PULP_CBC_CMD(msg=1))"
   ]
  },
  {
   "cell_type": "markdown",
   "id": "f49a5311",
   "metadata": {},
   "source": [
    "#### Задание 6.1\n",
    "Составьте оптимальный план перевозок со склада № 1 и склада № 2 в три торговых центра с учётом тарифов, запасов на складах и потребностей торговых центров, которые указаны в таблице:\n",
    "\n",
    "![](https://lms.skillfactory.ru/assets/courseware/v1/4286673f4d92918f18bcf2ac7ee64863/asset-v1:SkillFactory+DSPR-2.0+14JULY2021+type@asset+block/MATHML_md6_6_1.png)\n",
    "\n",
    "Сформулируйте предложенную задачу как задачу линейного программирования и решите её любым способом (желательно программным).\n",
    "\n",
    "В качестве ответа введите минимальную суммарную стоимость поставки. Ответ округлите до целого числа."
   ]
  },
  {
   "cell_type": "code",
   "execution_count": 143,
   "id": "95968dbf",
   "metadata": {},
   "outputs": [],
   "source": [
    "from scipy.optimize import linprog\n",
    "import numpy as np\n",
    "\n",
    "cost = np.array([\n",
    "    [2, 5, 3],\n",
    "    [7, 7, 6]\n",
    "])\n",
    "stock = np.array([180, 220])\n",
    "demand = np.array([110, 150, 140])\n",
    "num_warehouse = 2\n",
    "num_clients = 3\n",
    "\n",
    "c = cost.flatten()"
   ]
  },
  {
   "cell_type": "code",
   "execution_count": 144,
   "id": "2c90fd5c",
   "metadata": {},
   "outputs": [
    {
     "name": "stdout",
     "output_type": "stream",
     "text": [
      "[[1 1 1 0 0 0]\n",
      " [0 0 0 1 1 1]]\n",
      "[180 220]\n"
     ]
    }
   ],
   "source": [
    "A = []\n",
    "b = []\n",
    "for i in range(0, num_warehouse):\n",
    "    A.append([0] * (num_clients * i) + [1] * num_clients + [0] * (num_clients * (num_warehouse - i - 1)))\n",
    "    b.append(stock[i])\n",
    "A = np.asarray(A)\n",
    "b = np.asarray(b)\n",
    "print(A)\n",
    "print(b)"
   ]
  },
  {
   "cell_type": "code",
   "execution_count": 145,
   "id": "9ce252a9",
   "metadata": {},
   "outputs": [
    {
     "name": "stdout",
     "output_type": "stream",
     "text": [
      "[[ 1  1  1  0  0  0]\n",
      " [ 0  0  0  1  1  1]\n",
      " [-1  0  0 -1  0  0]\n",
      " [ 0 -1  0  0 -1  0]\n",
      " [ 0  0 -1  0  0 -1]]\n",
      "[ 180  220 -110 -150 -140]\n"
     ]
    }
   ],
   "source": [
    "A = A.tolist()\n",
    "b = b.tolist()\n",
    "for j in range(0, num_clients):\n",
    "    A.append(([0] * j + [-1] + [0] * (num_clients - j - 1)) * num_warehouse)\n",
    "    b.append(-demand[j])\n",
    "A = np.asarray(A)\n",
    "b = np.asarray(b)\n",
    "print(A)\n",
    "print(b)"
   ]
  },
  {
   "cell_type": "code",
   "execution_count": 146,
   "id": "0728c352",
   "metadata": {},
   "outputs": [
    {
     "data": {
      "text/plain": [
       "1900.0"
      ]
     },
     "execution_count": 146,
     "metadata": {},
     "output_type": "execute_result"
    }
   ],
   "source": [
    "ans = linprog(c=c, A_ub=A, b_ub=b)\n",
    "(ans.x.round()*c).sum()"
   ]
  },
  {
   "cell_type": "markdown",
   "id": "d5e315ba",
   "metadata": {},
   "source": [
    "##### Задание 6.2\n",
    "В прошлом юните мы обсуждали задачу о назначениях исполнителей задач - теперь пришло время решить её.\n",
    "\n",
    "Напомним суть: необходимо распределить пять задач между пятью исполнителями таким образом, чтобы суммарные затраты на работы были наименьшими.\n",
    "\n",
    "![](https://lms.skillfactory.ru/assets/courseware/v1/3c57d0c14951762fe62a494509d15a69/asset-v1:SkillFactory+DSPR-2.0+14JULY2021+type@asset+block/MATHML_md6_6_2.png)\n",
    "\n",
    "В качестве ответа введите минимальную стоимость работ."
   ]
  },
  {
   "cell_type": "code",
   "execution_count": 1,
   "id": "8996104f",
   "metadata": {},
   "outputs": [],
   "source": [
    "from scipy.optimize import linprog\n",
    "import numpy as np\n",
    "import cvxpy as cvx\n",
    "from itertools import product"
   ]
  },
  {
   "cell_type": "code",
   "execution_count": 2,
   "id": "87612bfc",
   "metadata": {},
   "outputs": [],
   "source": [
    "c = np.array([[1000, 12, 10, 19, 8],\n",
    "              [12, 1000, 3, 7, 2],\n",
    "              [10, 3, 1000, 6, 20],\n",
    "              [19, 7, 6, 1000, 4],\n",
    "              [8, 2, 20, 4, 1000]])"
   ]
  },
  {
   "cell_type": "code",
   "execution_count": 3,
   "id": "01a04187",
   "metadata": {},
   "outputs": [],
   "source": [
    "x = cvx.Variable(shape=(5,5), boolean=True)\n",
    "u = cvx.Variable(shape=5, integer=True)"
   ]
  },
  {
   "cell_type": "code",
   "execution_count": 4,
   "id": "26c598d6",
   "metadata": {},
   "outputs": [],
   "source": [
    "constraints = [\n",
    "    cvx.sum(x, axis=0) == np.ones(5),\n",
    "    cvx.sum(x, axis=1) == np.ones(5),\n",
    "    u >= 1,\n",
    "    u <= 4\n",
    "]\n",
    "\n",
    "for i, j in product(range(5), range(5)):\n",
    "    if i >= 1 and j >= 2 and i != j:\n",
    "        constraints.append(u[i] - u[j] + 5 * x[i,j] <= 4)"
   ]
  },
  {
   "cell_type": "code",
   "execution_count": 5,
   "id": "25dc5bb2",
   "metadata": {},
   "outputs": [],
   "source": [
    "func = cvx.sum(cvx.multiply(x, c))"
   ]
  },
  {
   "cell_type": "code",
   "execution_count": 6,
   "id": "88b75c15",
   "metadata": {},
   "outputs": [],
   "source": [
    "problem = cvx.Problem(cvx.Minimize(func), constraints=constraints)"
   ]
  },
  {
   "cell_type": "code",
   "execution_count": 7,
   "id": "9002d77d",
   "metadata": {},
   "outputs": [
    {
     "data": {
      "text/plain": [
       "32.0"
      ]
     },
     "execution_count": 7,
     "metadata": {},
     "output_type": "execute_result"
    }
   ],
   "source": [
    "problem.solve()"
   ]
  },
  {
   "cell_type": "markdown",
   "id": "1d7f1d7a",
   "metadata": {},
   "source": [
    "# ==========================================="
   ]
  },
  {
   "cell_type": "markdown",
   "id": "e133b70b",
   "metadata": {},
   "source": [
    "Метод золотого сечения\n",
    "Определение:\n",
    "\n",
    "Говорят, что точка x осуществляет золотое сечение отрезка $[a, \\quad b]$, если\n",
    "\n",
    "$\\frac{b-a}{b-x}=\\frac{b-x}{x-a}=\\phi=\\frac{1+\\sqrt{5} }{2}$\n",
    "\n",
    "В качестве $x_1$ и $x_2$ выберем точку золотого сечения отрезка и симметричную ей. Если $a<x_1<x_2<b$, то при указанном выборе точек получаем, что $x_1$ - точка золотого сечения отрезка $[a, \\quad x_2]$, а $x_2$ - точка золотого сечения отрезка $[x_1, \\quad b]$. Таким образом, на каждом шаге, кроме первого, необходимо вычислять значение только в одной точке, вторая берется из предыдущего шага.\n",
    "\n",
    "Описание метода\n",
    "Параметр на входе:  $\\epsilon$ - достаточно малая положительная константа, погрешность метода.\n",
    "\n",
    "1. $x_1 = b-\\frac{b-a}{\\phi}, \\quad x_2 = a+\\frac{b-a}{\\phi}$\n",
    "\n",
    "2. Повторять:\n",
    "\n",
    "3. Если $f(x_1) > f(x_2)$, то $a=x_1$, $\\quad x_1=x_2, \\quad x_2=b-(x_1-a)$;\n",
    "4. Если $f(x_1) < f(x_2)$, то $b=x_2$, $\\quad x_2=x_1, \\quad x_1=a+(b-x_2)$;\n",
    "5. пока $\\frac{b-a}{2} \\geq \\epsilon$;\n",
    "\n",
    "6. $ \\tilde{x}^{\\ast}=\\frac{a+b}{2}$."
   ]
  },
  {
   "cell_type": "code",
   "execution_count": null,
   "id": "ac4a1b15",
   "metadata": {},
   "outputs": [],
   "source": []
  }
 ],
 "metadata": {
  "kernelspec": {
   "display_name": "Python 3",
   "language": "python",
   "name": "python3"
  },
  "language_info": {
   "codemirror_mode": {
    "name": "ipython",
    "version": 3
   },
   "file_extension": ".py",
   "mimetype": "text/x-python",
   "name": "python",
   "nbconvert_exporter": "python",
   "pygments_lexer": "ipython3",
   "version": "3.8.8"
  }
 },
 "nbformat": 4,
 "nbformat_minor": 5
}
