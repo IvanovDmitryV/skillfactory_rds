{
 "cells": [
  {
   "cell_type": "code",
   "execution_count": 1,
   "id": "ebc19109",
   "metadata": {},
   "outputs": [],
   "source": [
    "import numpy as np\n",
    "import pandas as pd"
   ]
  },
  {
   "cell_type": "markdown",
   "id": "4f442739",
   "metadata": {},
   "source": [
    "#### Задание 1.1\n",
    "Найдите скалярное произведение векторов:   \n",
    "$\\vec{v_{1}}  = (-1, 2, \\ -7, 9)^T$   \n",
    "$\\vec{v_{2}}  = (2, 8, 2, \\ -1)^T$\n",
    "\n",
    "\n",
    "\n"
   ]
  },
  {
   "cell_type": "code",
   "execution_count": 6,
   "id": "82201a6b",
   "metadata": {},
   "outputs": [
    {
     "data": {
      "text/plain": [
       "-9"
      ]
     },
     "execution_count": 6,
     "metadata": {},
     "output_type": "execute_result"
    }
   ],
   "source": [
    "v1, v2 = np.array([-1,2,-7,9]), np.array([2,8,2,-1])\n",
    "v1@v2"
   ]
  },
  {
   "cell_type": "markdown",
   "id": "5a94f159",
   "metadata": {},
   "source": [
    "#### Задание 1.4\n",
    "Задана матрица\n",
    "\n",
    "$A=\\left( \\begin{array}{cccc}\n",
    "1 & 1 \\\\  \n",
    "1 & 2 \\end{array}\n",
    "\\right)$\n",
    "\n",
    "Найдите матрицу Грама $A^{T}A$."
   ]
  },
  {
   "cell_type": "code",
   "execution_count": 10,
   "id": "35072551",
   "metadata": {},
   "outputs": [
    {
     "data": {
      "text/plain": [
       "array([[2, 3],\n",
       "       [3, 5]])"
      ]
     },
     "execution_count": 10,
     "metadata": {},
     "output_type": "execute_result"
    }
   ],
   "source": [
    "A = np.array([[1,1],[1,2]])\n",
    "A.T@A"
   ]
  },
  {
   "cell_type": "markdown",
   "id": "231915f9",
   "metadata": {},
   "source": [
    "#### Задание 1.7\n",
    "Найдите ранг матрицы системы, составленной из векторов:   \n",
    "$\\vec{v_{1}}  = (2, 10, \\ -2)^T$   \n",
    "$\\vec{v_{2}}  = (3, 2, \\ -2)^T$   \n",
    "$\\vec{v_{3}}  = (8, 14, \\ -6)^T$"
   ]
  },
  {
   "cell_type": "code",
   "execution_count": 18,
   "id": "18073121",
   "metadata": {},
   "outputs": [
    {
     "data": {
      "text/plain": [
       "2"
      ]
     },
     "execution_count": 18,
     "metadata": {},
     "output_type": "execute_result"
    }
   ],
   "source": [
    "v1, v2, v3 = np.array([2,10,-2]), np.array([3,2,-2]), np.array([8,14,-6])\n",
    "A = np.array([v1,v2,v3]).T\n",
    "np.linalg.matrix_rank(A)"
   ]
  },
  {
   "cell_type": "markdown",
   "id": "e6c9cd9b",
   "metadata": {},
   "source": [
    "#### Задание 1.8\n",
    "Определите линейную (не)зависимость системы векторов:   \n",
    "$\\vec{v_{1}}  = (2, 10, \\ -2)^T$   \n",
    "$\\vec{v_{2}}  = (3, 2, \\ -2)^T$   \n",
    "$\\vec{v_{3}}  = (8, 14, \\ -6)^T$\n"
   ]
  },
  {
   "cell_type": "code",
   "execution_count": 19,
   "id": "b2a24d21",
   "metadata": {},
   "outputs": [
    {
     "data": {
      "text/plain": [
       "2"
      ]
     },
     "execution_count": 19,
     "metadata": {},
     "output_type": "execute_result"
    }
   ],
   "source": [
    "v1, v2, v3 = np.array([2,10,-2]), np.array([3,2,-2]), np.array([8,14,-6])\n",
    "A = np.array([v1,v2,v3]).T\n",
    "np.linalg.matrix_rank(A)"
   ]
  },
  {
   "cell_type": "markdown",
   "id": "fd950e2a",
   "metadata": {},
   "source": [
    "#### Задание 1.10\n",
    "Запишите СЛАУ в матричном виде и классифицируйте её:\n",
    "![](https://lms.skillfactory.ru/assets/courseware/v1/47352a6323f8d5d16f441a40b203b76f/asset-v1:SkillFactory+DSPR-2.0+14JULY2021+type@asset+block/MATHML_md2_1_9.png)\n",
    "\n"
   ]
  },
  {
   "cell_type": "code",
   "execution_count": 23,
   "id": "a9ac3e9c",
   "metadata": {},
   "outputs": [
    {
     "data": {
      "text/plain": [
       "array([[ 5,  1,  3],\n",
       "       [ 0,  2,  8],\n",
       "       [10,  0,  2]])"
      ]
     },
     "execution_count": 23,
     "metadata": {},
     "output_type": "execute_result"
    }
   ],
   "source": [
    "v1 = np.array([5,0,10])\n",
    "v2 = np.array([1,2,0])\n",
    "v3 = np.array([3,8,2])\n",
    "b = [1,10,0]\n",
    "A = np.array([v1,v2,v3]).T"
   ]
  },
  {
   "cell_type": "markdown",
   "id": "7a1ed88d",
   "metadata": {},
   "source": [
    "##### Задание 2.4\n",
    "Решите систему линейных уравнений:\n",
    "\n",
    "![](https://lms.skillfactory.ru/assets/courseware/v1/bb410f21af5bc73df165cf79d3623d37/asset-v1:SkillFactory+DSPR-2.0+14JULY2021+type@asset+block/MATHML_md2_2_23.png)"
   ]
  },
  {
   "cell_type": "code",
   "execution_count": 29,
   "id": "b491bafc",
   "metadata": {},
   "outputs": [
    {
     "name": "stdout",
     "output_type": "stream",
     "text": [
      "-2.0 4.0\n"
     ]
    }
   ],
   "source": [
    "A = np.array([[4,5],[7,10]]).T\n",
    "b = np.array([20,30])\n",
    "\n",
    "x,y = np.linalg.inv(A)@b\n",
    "print(x,y)"
   ]
  },
  {
   "cell_type": "markdown",
   "id": "31c245dc",
   "metadata": {},
   "source": [
    "#### Задание 2.6\n",
    "\n",
    "Сколько решений имеет представленная ниже система уравнений?\n",
    "\n",
    "![](https://lms.skillfactory.ru/assets/courseware/v1/8682fe804f6fc58ebde2eaeee54b6a26/asset-v1:SkillFactory+DSPR-2.0+14JULY2021+type@asset+block/MATHML_md2_2_37.png)"
   ]
  },
  {
   "cell_type": "code",
   "execution_count": 38,
   "id": "5c28ddc3",
   "metadata": {},
   "outputs": [
    {
     "data": {
      "text/plain": [
       "(2, 2)"
      ]
     },
     "execution_count": 38,
     "metadata": {},
     "output_type": "execute_result"
    }
   ],
   "source": [
    "A = np.array([[4,-4,0],[7,2,9],[-1,5,4]]).T\n",
    "A_b = np.array([[4,-4,0],[7,2,9],[-1,5,4],[7,3,10]]).T\n",
    "np.linalg.matrix_rank(A),np.linalg.matrix_rank(A_b)"
   ]
  },
  {
   "cell_type": "markdown",
   "id": "631e8c94",
   "metadata": {},
   "source": [
    "#### Задание 2.9\n",
    "Вычислите вектор ошибок для приближённого решения системы , если:\n",
    "\n",
    "![](https://lms.skillfactory.ru/assets/courseware/v1/e5455f82f2c719a89defd6fbf935bf99/asset-v1:SkillFactory+DSPR-2.0+14JULY2021+type@asset+block/MATHML_md2_2_61.png)\n",
    "\n",
    "Введите координаты полученного вектора через запятую, без пробелов. Пример ввода ответа: 1,1,1."
   ]
  },
  {
   "cell_type": "code",
   "execution_count": 41,
   "id": "42bc3174",
   "metadata": {},
   "outputs": [],
   "source": [
    "A = np.array([[1,2,1],[-5,1,1]]).T\n",
    "b = np.array([1,2,2])\n",
    "w_ = np.array([1,1])"
   ]
  },
  {
   "cell_type": "code",
   "execution_count": 44,
   "id": "5766700c",
   "metadata": {},
   "outputs": [
    {
     "name": "stdout",
     "output_type": "stream",
     "text": [
      "5,-1,0\n"
     ]
    }
   ],
   "source": [
    "print(*(b - A@w_),sep=',')"
   ]
  },
  {
   "cell_type": "markdown",
   "id": "ea7925b0",
   "metadata": {},
   "source": [
    "#### Задание 2.11\n",
    "Найдите $OLS$-оценку для коэффициентов $w1$, $w2$ СЛАУ:\n",
    "\n",
    "![](https://lms.skillfactory.ru/assets/courseware/v1/aabe72a5dc4493bf7f00fce4be816414/asset-v1:SkillFactory+DSPR-2.0+14JULY2021+type@asset+block/MATHML_md2_2_63.png)\n",
    "\n",
    "Для этого выполните задания под цифрами 1-4 ниже.\n",
    "\n",
    "1. Вычислите матрицу Грама столбцов $A:A^{T}A$="
   ]
  },
  {
   "cell_type": "code",
   "execution_count": 48,
   "id": "f3aeb076",
   "metadata": {},
   "outputs": [
    {
     "data": {
      "text/plain": [
       "array([[12,  0],\n",
       "       [ 0, 10]])"
      ]
     },
     "execution_count": 48,
     "metadata": {},
     "output_type": "execute_result"
    }
   ],
   "source": [
    "A = np.array([[1,-3,1,1],[2,1,2,-1]]).T\n",
    "G = A.T@A\n",
    "G"
   ]
  },
  {
   "cell_type": "markdown",
   "id": "c7801f8c",
   "metadata": {},
   "source": [
    "2. Вычислите матрицу $G^{-1}$ =  $(A^{T}A)^{-1}$. Она имеет вид:\n"
   ]
  },
  {
   "cell_type": "code",
   "execution_count": 50,
   "id": "b12a5895",
   "metadata": {},
   "outputs": [
    {
     "data": {
      "text/plain": [
       "array([[0.08333333, 0.        ],\n",
       "       [0.        , 0.1       ]])"
      ]
     },
     "execution_count": 50,
     "metadata": {},
     "output_type": "execute_result"
    }
   ],
   "source": [
    "np.linalg.inv(G)"
   ]
  },
  {
   "cell_type": "markdown",
   "id": "d06e3152",
   "metadata": {},
   "source": [
    "3. Вычислите $A^{T} \\vec{b}$. Введите координаты полученного вектора через запятую, без пробелов. Пример ввода ответа: 1,1."
   ]
  },
  {
   "cell_type": "code",
   "execution_count": 52,
   "id": "ba5fc8b8",
   "metadata": {},
   "outputs": [
    {
     "name": "stdout",
     "output_type": "stream",
     "text": [
      "-6,16\n"
     ]
    }
   ],
   "source": [
    "b = np.array([1,4,5,0])\n",
    "print(*(A.T@b),sep=',')"
   ]
  },
  {
   "cell_type": "markdown",
   "id": "03016dfa",
   "metadata": {},
   "source": [
    "4. Вычислите вектор оценок коэффициентов $\\vec{v}$ .\n",
    "Примечание: для корректного ответа не округляйте .\n",
    "\n",
    "Чему равен полученный вектор коэффициентов?"
   ]
  },
  {
   "cell_type": "code",
   "execution_count": 54,
   "id": "93e0b87d",
   "metadata": {},
   "outputs": [
    {
     "data": {
      "text/plain": [
       "array([-0.5,  1.6])"
      ]
     },
     "execution_count": 54,
     "metadata": {},
     "output_type": "execute_result"
    }
   ],
   "source": [
    "np.linalg.inv(G)@A.T@b"
   ]
  },
  {
   "cell_type": "markdown",
   "id": "d15bb0ba",
   "metadata": {},
   "source": [
    "Рассмотрим классический датасет для обучения линейной регрессии — Boston Housing. В нём собраны усреднённые данные по стоимости недвижимости в 506 районах Бостона. Ниже вы видите фрагмент датасета.\n",
    "\n",
    "Целевой переменной будет PRICE — это, в некотором смысле, типичная (медианная) стоимость дома в районе.\n",
    "\n",
    "Для примера возьмём в качестве регрессоров уровень преступности (CRIM) и среднее количество комнат в доме (RM)."
   ]
  },
  {
   "cell_type": "code",
   "execution_count": 55,
   "id": "9b0aa027",
   "metadata": {},
   "outputs": [
    {
     "data": {
      "text/html": [
       "<div>\n",
       "<style scoped>\n",
       "    .dataframe tbody tr th:only-of-type {\n",
       "        vertical-align: middle;\n",
       "    }\n",
       "\n",
       "    .dataframe tbody tr th {\n",
       "        vertical-align: top;\n",
       "    }\n",
       "\n",
       "    .dataframe thead th {\n",
       "        text-align: right;\n",
       "    }\n",
       "</style>\n",
       "<table border=\"1\" class=\"dataframe\">\n",
       "  <thead>\n",
       "    <tr style=\"text-align: right;\">\n",
       "      <th></th>\n",
       "      <th>CRIM</th>\n",
       "      <th>ZN</th>\n",
       "      <th>INDUS</th>\n",
       "      <th>CHAS</th>\n",
       "      <th>NOX</th>\n",
       "      <th>RM</th>\n",
       "      <th>AGE</th>\n",
       "      <th>DIS</th>\n",
       "      <th>RAD</th>\n",
       "      <th>TAX</th>\n",
       "      <th>PTRATIO</th>\n",
       "      <th>B</th>\n",
       "      <th>LSTAT</th>\n",
       "      <th>PRICE</th>\n",
       "    </tr>\n",
       "  </thead>\n",
       "  <tbody>\n",
       "    <tr>\n",
       "      <th>0</th>\n",
       "      <td>0.00632</td>\n",
       "      <td>18.0</td>\n",
       "      <td>2.31</td>\n",
       "      <td>0.0</td>\n",
       "      <td>0.538</td>\n",
       "      <td>6.575</td>\n",
       "      <td>65.2</td>\n",
       "      <td>4.0900</td>\n",
       "      <td>1.0</td>\n",
       "      <td>296.0</td>\n",
       "      <td>15.3</td>\n",
       "      <td>396.90</td>\n",
       "      <td>4.98</td>\n",
       "      <td>24.0</td>\n",
       "    </tr>\n",
       "    <tr>\n",
       "      <th>1</th>\n",
       "      <td>0.02731</td>\n",
       "      <td>0.0</td>\n",
       "      <td>7.07</td>\n",
       "      <td>0.0</td>\n",
       "      <td>0.469</td>\n",
       "      <td>6.421</td>\n",
       "      <td>78.9</td>\n",
       "      <td>4.9671</td>\n",
       "      <td>2.0</td>\n",
       "      <td>242.0</td>\n",
       "      <td>17.8</td>\n",
       "      <td>396.90</td>\n",
       "      <td>9.14</td>\n",
       "      <td>21.6</td>\n",
       "    </tr>\n",
       "    <tr>\n",
       "      <th>2</th>\n",
       "      <td>0.02729</td>\n",
       "      <td>0.0</td>\n",
       "      <td>7.07</td>\n",
       "      <td>0.0</td>\n",
       "      <td>0.469</td>\n",
       "      <td>7.185</td>\n",
       "      <td>61.1</td>\n",
       "      <td>4.9671</td>\n",
       "      <td>2.0</td>\n",
       "      <td>242.0</td>\n",
       "      <td>17.8</td>\n",
       "      <td>392.83</td>\n",
       "      <td>4.03</td>\n",
       "      <td>34.7</td>\n",
       "    </tr>\n",
       "    <tr>\n",
       "      <th>3</th>\n",
       "      <td>0.03237</td>\n",
       "      <td>0.0</td>\n",
       "      <td>2.18</td>\n",
       "      <td>0.0</td>\n",
       "      <td>0.458</td>\n",
       "      <td>6.998</td>\n",
       "      <td>45.8</td>\n",
       "      <td>6.0622</td>\n",
       "      <td>3.0</td>\n",
       "      <td>222.0</td>\n",
       "      <td>18.7</td>\n",
       "      <td>394.63</td>\n",
       "      <td>2.94</td>\n",
       "      <td>33.4</td>\n",
       "    </tr>\n",
       "    <tr>\n",
       "      <th>4</th>\n",
       "      <td>0.06905</td>\n",
       "      <td>0.0</td>\n",
       "      <td>2.18</td>\n",
       "      <td>0.0</td>\n",
       "      <td>0.458</td>\n",
       "      <td>7.147</td>\n",
       "      <td>54.2</td>\n",
       "      <td>6.0622</td>\n",
       "      <td>3.0</td>\n",
       "      <td>222.0</td>\n",
       "      <td>18.7</td>\n",
       "      <td>396.90</td>\n",
       "      <td>5.33</td>\n",
       "      <td>36.2</td>\n",
       "    </tr>\n",
       "  </tbody>\n",
       "</table>\n",
       "</div>"
      ],
      "text/plain": [
       "      CRIM    ZN  INDUS  CHAS    NOX     RM   AGE     DIS  RAD    TAX  \\\n",
       "0  0.00632  18.0   2.31   0.0  0.538  6.575  65.2  4.0900  1.0  296.0   \n",
       "1  0.02731   0.0   7.07   0.0  0.469  6.421  78.9  4.9671  2.0  242.0   \n",
       "2  0.02729   0.0   7.07   0.0  0.469  7.185  61.1  4.9671  2.0  242.0   \n",
       "3  0.03237   0.0   2.18   0.0  0.458  6.998  45.8  6.0622  3.0  222.0   \n",
       "4  0.06905   0.0   2.18   0.0  0.458  7.147  54.2  6.0622  3.0  222.0   \n",
       "\n",
       "   PTRATIO       B  LSTAT  PRICE  \n",
       "0     15.3  396.90   4.98   24.0  \n",
       "1     17.8  396.90   9.14   21.6  \n",
       "2     17.8  392.83   4.03   34.7  \n",
       "3     18.7  394.63   2.94   33.4  \n",
       "4     18.7  396.90   5.33   36.2  "
      ]
     },
     "execution_count": 55,
     "metadata": {},
     "output_type": "execute_result"
    }
   ],
   "source": [
    "# Загрузка библиотек\n",
    "import numpy as np # для работы с массивами\n",
    "import pandas as pd # для работы с DataFrame \n",
    "from sklearn import datasets # для импорта данных\n",
    "import seaborn as sns # для визуализации статистических данных\n",
    "import matplotlib.pyplot as plt # для построения графиков\n",
    "\n",
    "# загружаем датасет\n",
    "boston = datasets.load_boston()\n",
    "boston_data = pd.DataFrame(\n",
    "    data=boston.data, #данные\n",
    "    columns=boston.feature_names #наименования столбцов\n",
    ")\n",
    "boston_data['PRICE'] = boston.target\n",
    "boston_data.head()"
   ]
  },
  {
   "cell_type": "code",
   "execution_count": 56,
   "id": "f547d5c0",
   "metadata": {},
   "outputs": [
    {
     "name": "stdout",
     "output_type": "stream",
     "text": [
      "[[1.0000e+00 6.3200e-03 6.5750e+00]\n",
      " [1.0000e+00 2.7310e-02 6.4210e+00]\n",
      " [1.0000e+00 2.7290e-02 7.1850e+00]\n",
      " ...\n",
      " [1.0000e+00 6.0760e-02 6.9760e+00]\n",
      " [1.0000e+00 1.0959e-01 6.7940e+00]\n",
      " [1.0000e+00 4.7410e-02 6.0300e+00]]\n"
     ]
    }
   ],
   "source": [
    "# составляем матрицу А и вектор целевой переменной\n",
    "CRIM = boston_data['CRIM']\n",
    "RM = boston_data['RM']\n",
    "A = np.column_stack((np.ones(506), CRIM, RM))\n",
    "y = boston_data[['PRICE']]\n",
    "print(A)"
   ]
  },
  {
   "cell_type": "code",
   "execution_count": 57,
   "id": "4e8ce1d9",
   "metadata": {},
   "outputs": [
    {
     "name": "stdout",
     "output_type": "stream",
     "text": [
      "[[-29.24471945]\n",
      " [ -0.26491325]\n",
      " [  8.39106825]]\n"
     ]
    }
   ],
   "source": [
    "# вычислим OLS-оценку для коэффициентов\n",
    "w_hat = np.linalg.inv(A.T@A)@A.T@y\n",
    "print(w_hat.values)"
   ]
  },
  {
   "cell_type": "code",
   "execution_count": 58,
   "id": "32999d94",
   "metadata": {},
   "outputs": [
    {
     "name": "stdout",
     "output_type": "stream",
     "text": [
      "[37.85733519]\n"
     ]
    }
   ],
   "source": [
    "# Теперь составим прогноз нашей модели:\n",
    "# добавились новые данные:\n",
    "CRIM_new = 0.1\n",
    "RM_new = 8\n",
    "# делаем прогноз типичной стоимости дома\n",
    "PRICE_new = w_hat.iloc[0]+w_hat.iloc[1]*CRIM_new+w_hat.iloc[2]*RM_new\n",
    "print(PRICE_new.values)"
   ]
  },
  {
   "cell_type": "code",
   "execution_count": 59,
   "id": "053b9848",
   "metadata": {},
   "outputs": [
    {
     "name": "stdout",
     "output_type": "stream",
     "text": [
      "prediction: [[37.85733519]]\n"
     ]
    }
   ],
   "source": [
    "# короткий способ сделать прогноз\n",
    "new=np.array([[1,CRIM_new,RM_new]])\n",
    "print('prediction:', (new@w_hat).values)"
   ]
  },
  {
   "cell_type": "markdown",
   "id": "2eec9d78",
   "metadata": {},
   "source": [
    "Мы уже знаем, что алгоритм построения модели линейной регрессии по МНК реализован в классе LinearRegression, находящемся в модуле sklearn.linear_model. Для вычисления коэффициентов (обучения модели) нам достаточно передать в метод fit() нашу матрицу с наблюдениями и вектор целевой переменной, а для построения прогноза — вызвать метод predict():"
   ]
  },
  {
   "cell_type": "code",
   "execution_count": 60,
   "id": "551ffcd4",
   "metadata": {},
   "outputs": [
    {
     "name": "stdout",
     "output_type": "stream",
     "text": [
      "w_hat: [[-29.24471945  -0.26491325   8.39106825]]\n",
      "prediction: [[37.85733519]]\n"
     ]
    }
   ],
   "source": [
    "from sklearn.linear_model import LinearRegression\n",
    "# создаём модель линейной регрессии\n",
    "model = LinearRegression(fit_intercept=False)\n",
    "# вычисляем коэффициенты регрессии\n",
    "model.fit(A, y)\n",
    "print('w_hat:', model.coef_)\n",
    "new_prediction = model.predict(new)\n",
    "print('prediction:', new_prediction)"
   ]
  },
  {
   "cell_type": "markdown",
   "id": "d1432a20",
   "metadata": {},
   "source": [
    "#### Задание 3.5\n",
    "Сделайте прогноз типичной стоимости (в тыс. долларов) дома в городе с уровнем преступности $CRIM = 0.2$ и средним количеством комнат в доме $RM = 6$. В качестве модели используйте линейную регрессию, оценка вектора коэффициентов которой равна:    \n",
    "$$\\hat{\\vec{w}} = (-29.3, \\ -0.26, \\ 8.4)$$\n",
    "\n"
   ]
  },
  {
   "cell_type": "code",
   "execution_count": 66,
   "id": "7cc31c94",
   "metadata": {},
   "outputs": [],
   "source": [
    "crim, rm = 0.2, 6\n",
    "w_ = np.array([[-29.3,-0.26,8.4]])\n",
    "x = np.array([[1,crim, rm]])"
   ]
  },
  {
   "cell_type": "code",
   "execution_count": 73,
   "id": "4c9edace",
   "metadata": {},
   "outputs": [
    {
     "data": {
      "text/plain": [
       "array([[21.]])"
      ]
     },
     "execution_count": 73,
     "metadata": {},
     "output_type": "execute_result"
    }
   ],
   "source": [
    "pred = w_@x.T\n",
    "pred.round()"
   ]
  },
  {
   "cell_type": "markdown",
   "id": "4da75ffb",
   "metadata": {},
   "source": [
    "#### Задание 4.3\n",
    "Стандартизируйте вектор $\\vec{x}=(12, 8)^T$, приведя его к единичной длине. В качестве ответа введите координаты полученного вектора. Ответ округлите до третьего знака после точки-разделителя."
   ]
  },
  {
   "cell_type": "code",
   "execution_count": 79,
   "id": "649cc7bf",
   "metadata": {},
   "outputs": [
    {
     "data": {
      "text/plain": [
       "array([ 0.707, -0.707])"
      ]
     },
     "execution_count": 79,
     "metadata": {},
     "output_type": "execute_result"
    }
   ],
   "source": [
    "x = np.array([12,8])\n",
    "x_cent = x - x.mean()\n",
    "(x_cent/np.linalg.norm(x_cent)).round(3)"
   ]
  },
  {
   "cell_type": "markdown",
   "id": "c89313d0",
   "metadata": {},
   "source": [
    "#### Задание 4.7\n",
    "Вычислите коэффициент корреляции между векторами $\\vec{v}=(5, 1, 2)^T$ и $\\vec{u}=(4, 2, 8)^T$.\n",
    "\n",
    "Ответ округлите до двух знаков после точки-разделителя."
   ]
  },
  {
   "cell_type": "code",
   "execution_count": 106,
   "id": "49f8b8f3",
   "metadata": {},
   "outputs": [
    {
     "data": {
      "text/plain": [
       "0.05241424183609589"
      ]
     },
     "execution_count": 106,
     "metadata": {},
     "output_type": "execute_result"
    }
   ],
   "source": [
    "v, u = np.array([5,1,2]), np.array([4,2,8])\n",
    "A = np.column_stack([v,u])\n",
    "A_cent = A-A.mean(axis=0)\n",
    "A_norm = A_cent/np.linalg.norm(A_cent,axis=0)\n",
    "ans = A_norm[:,0]@A_norm[:,1]"
   ]
  },
  {
   "cell_type": "markdown",
   "id": "f1342e04",
   "metadata": {},
   "source": [
    "#### Задание 4.8\n",
    "3 points possible (graded)\n",
    "Составьте корреляционную матрицу для системы векторов:   \n",
    "$\\vec{x}_1=(5.1, 1.8, 2.1, 10.3, 12.1, 12.6)^T$   \n",
    "$\\vec{x}_2=(10.2, 3.7, 4.1, 20.5, 24.2, 24.1)^T$   \n",
    "$\\vec{x}_3=(2.5, 0.9, 1.1, 5.1, 6.1, 6.3)^T$   \n",
    "\n",
    "Для расчёта используйте библиотеку NumPy или Pandas."
   ]
  },
  {
   "cell_type": "code",
   "execution_count": 125,
   "id": "3e2f9d94",
   "metadata": {},
   "outputs": [],
   "source": [
    " x1, x2, x3 = [np.array(x) for x in \n",
    "               [[5.1,1.8,2.1,10.3,12.1,12.6],[10.2,3.7,4.1,20.5,24.2,24.1],[2.5,0.9,1.1,5.1,6.1,6.3]]]\n",
    "\n",
    "A = np.column_stack([x1, x2, x3])"
   ]
  },
  {
   "cell_type": "markdown",
   "id": "52c0e282",
   "metadata": {},
   "source": [
    "1. Чему равен ранг полученной корреляционной матрицы?"
   ]
  },
  {
   "cell_type": "code",
   "execution_count": 134,
   "id": "e7f612f3",
   "metadata": {},
   "outputs": [
    {
     "data": {
      "text/plain": [
       "3"
      ]
     },
     "execution_count": 134,
     "metadata": {},
     "output_type": "execute_result"
    }
   ],
   "source": [
    "corr_matrix = np.corrcoef(A.T)\n",
    "np.linalg.matrix_rank(corr_matrix)"
   ]
  },
  {
   "cell_type": "markdown",
   "id": "f1f3d37c",
   "metadata": {},
   "source": [
    "2. Чему равен определитель полученной корреляционной матрицы? Ответ округлите до седьмого знака после точки-разделителя."
   ]
  },
  {
   "cell_type": "code",
   "execution_count": 137,
   "id": "b26c1cff",
   "metadata": {},
   "outputs": [
    {
     "data": {
      "text/plain": [
       "5e-07"
      ]
     },
     "execution_count": 137,
     "metadata": {},
     "output_type": "execute_result"
    }
   ],
   "source": [
    "round(np.linalg.det(corr_matrix),7)"
   ]
  },
  {
   "cell_type": "markdown",
   "id": "25ec1548",
   "metadata": {},
   "source": [
    "### 5. Практика: линейная регрессия и метод наименьших квадратов"
   ]
  },
  {
   "cell_type": "code",
   "execution_count": 138,
   "id": "cb138cf3",
   "metadata": {},
   "outputs": [],
   "source": [
    "import numpy as np \n",
    "import pandas as pd \n",
    "import seaborn as sns \n",
    "import matplotlib.pyplot as plt \n",
    "%matplotlib inline"
   ]
  },
  {
   "cell_type": "markdown",
   "id": "fde4367e",
   "metadata": {},
   "source": [
    "У Василия, основателя компании «Газ-Таз-Ваз-Нефть», дела идут в гору: в этом году он открывает 100 новых скважин по добыче газа. Однако в целях оптимизации расходов и для потенциального повышения дохода Василию необходимо оценить, сколько денег будет приносить ему каждая из скважин, а также понять, какие факторы потенциально сильнейшим образом влияют на объём добычи газа. Для этого Василий решил нанять вас как специалиста по построению моделей машинного обучения.\n",
    "\n",
    "Василий представляет вам набор данных о добыче газа на своих скважинах.\n",
    "Признаки:\n",
    "\n",
    "- Well — идентификатор скважины;\n",
    "- Por — пористость скважины (%);\n",
    "- Perm — проницаемость скважины;\n",
    "- AI — акустический импеданс $(кг/м^2 * 10^6$);\n",
    "- Brittle — коэффициент хрупкости скважины (%);\n",
    "- TOC — общий органический углерод (%);\n",
    "- VR — коэффициент отражения витринита (%);\n",
    "- Prod — добыча газа в сутки (млн. кубических футов).\n",
    "\n",
    "Ваша задача — построить регрессионную модель, которая прогнозирует выработку газа на скважине (целевой признак — Prod) на основе остальных характеристик скважины, и проинтерпретировать результаты вашей модели."
   ]
  },
  {
   "cell_type": "code",
   "execution_count": 140,
   "id": "7ff83917",
   "metadata": {},
   "outputs": [
    {
     "data": {
      "text/html": [
       "<div>\n",
       "<style scoped>\n",
       "    .dataframe tbody tr th:only-of-type {\n",
       "        vertical-align: middle;\n",
       "    }\n",
       "\n",
       "    .dataframe tbody tr th {\n",
       "        vertical-align: top;\n",
       "    }\n",
       "\n",
       "    .dataframe thead th {\n",
       "        text-align: right;\n",
       "    }\n",
       "</style>\n",
       "<table border=\"1\" class=\"dataframe\">\n",
       "  <thead>\n",
       "    <tr style=\"text-align: right;\">\n",
       "      <th></th>\n",
       "      <th>Well</th>\n",
       "      <th>Por</th>\n",
       "      <th>Perm</th>\n",
       "      <th>AI</th>\n",
       "      <th>Brittle</th>\n",
       "      <th>TOC</th>\n",
       "      <th>VR</th>\n",
       "      <th>Prod</th>\n",
       "    </tr>\n",
       "  </thead>\n",
       "  <tbody>\n",
       "    <tr>\n",
       "      <th>0</th>\n",
       "      <td>1</td>\n",
       "      <td>12.08</td>\n",
       "      <td>2.92</td>\n",
       "      <td>2.80</td>\n",
       "      <td>81.40</td>\n",
       "      <td>1.16</td>\n",
       "      <td>2.31</td>\n",
       "      <td>4165.196191</td>\n",
       "    </tr>\n",
       "    <tr>\n",
       "      <th>1</th>\n",
       "      <td>2</td>\n",
       "      <td>12.38</td>\n",
       "      <td>3.53</td>\n",
       "      <td>3.22</td>\n",
       "      <td>46.17</td>\n",
       "      <td>0.89</td>\n",
       "      <td>1.88</td>\n",
       "      <td>3561.146205</td>\n",
       "    </tr>\n",
       "    <tr>\n",
       "      <th>2</th>\n",
       "      <td>3</td>\n",
       "      <td>14.02</td>\n",
       "      <td>2.59</td>\n",
       "      <td>4.01</td>\n",
       "      <td>72.80</td>\n",
       "      <td>0.89</td>\n",
       "      <td>2.72</td>\n",
       "      <td>4284.348574</td>\n",
       "    </tr>\n",
       "    <tr>\n",
       "      <th>3</th>\n",
       "      <td>4</td>\n",
       "      <td>17.67</td>\n",
       "      <td>6.75</td>\n",
       "      <td>2.63</td>\n",
       "      <td>39.81</td>\n",
       "      <td>1.08</td>\n",
       "      <td>1.88</td>\n",
       "      <td>5098.680869</td>\n",
       "    </tr>\n",
       "    <tr>\n",
       "      <th>4</th>\n",
       "      <td>5</td>\n",
       "      <td>17.52</td>\n",
       "      <td>4.57</td>\n",
       "      <td>3.18</td>\n",
       "      <td>10.94</td>\n",
       "      <td>1.51</td>\n",
       "      <td>1.90</td>\n",
       "      <td>3406.132832</td>\n",
       "    </tr>\n",
       "  </tbody>\n",
       "</table>\n",
       "</div>"
      ],
      "text/plain": [
       "   Well    Por  Perm    AI  Brittle   TOC    VR         Prod\n",
       "0     1  12.08  2.92  2.80    81.40  1.16  2.31  4165.196191\n",
       "1     2  12.38  3.53  3.22    46.17  0.89  1.88  3561.146205\n",
       "2     3  14.02  2.59  4.01    72.80  0.89  2.72  4284.348574\n",
       "3     4  17.67  6.75  2.63    39.81  1.08  1.88  5098.680869\n",
       "4     5  17.52  4.57  3.18    10.94  1.51  1.90  3406.132832"
      ]
     },
     "execution_count": 140,
     "metadata": {},
     "output_type": "execute_result"
    }
   ],
   "source": [
    "data = pd.read_csv('./Unit_5_data/unconv.csv') \n",
    "data.head()"
   ]
  },
  {
   "cell_type": "markdown",
   "id": "e2684e94",
   "metadata": {},
   "source": [
    "Для начала в качестве модели будем использовать простую линейную регрессию.    \n",
    "    \n",
    "    \n",
    "    \n",
    "#### Задание 5.1\n",
    "Постройте корреляционную матрицу факторов, включив в неё целевой признак. Ответьте на следующие вопросы:\n",
    "\n",
    "1. Выберите топ-3 факторов, наиболее коррелированных с целевой переменной:"
   ]
  },
  {
   "cell_type": "code",
   "execution_count": 156,
   "id": "d8356278",
   "metadata": {},
   "outputs": [
    {
     "name": "stdout",
     "output_type": "stream",
     "text": [
      "Por Perm TOC\n"
     ]
    }
   ],
   "source": [
    "cor_matrix = data.corr()\n",
    "print(*cor_matrix.Prod.abs().sort_values(ascending=False).index[1:4])"
   ]
  },
  {
   "cell_type": "markdown",
   "id": "5d2c9724",
   "metadata": {},
   "source": [
    "2. Вычислите ранг полученной матрицы корреляций:"
   ]
  },
  {
   "cell_type": "code",
   "execution_count": 157,
   "id": "37a3be35",
   "metadata": {},
   "outputs": [
    {
     "data": {
      "text/plain": [
       "8"
      ]
     },
     "execution_count": 157,
     "metadata": {},
     "output_type": "execute_result"
    }
   ],
   "source": [
    "np.linalg.matrix_rank(cor_matrix.values)"
   ]
  },
  {
   "cell_type": "markdown",
   "id": "f70c92cc",
   "metadata": {},
   "source": [
    "3. Вычислите определитель матрицы корреляций. Ответ округлите до четвёртого знака после точки-разделителя."
   ]
  },
  {
   "cell_type": "code",
   "execution_count": 159,
   "id": "36b5c5aa",
   "metadata": {},
   "outputs": [
    {
     "data": {
      "text/plain": [
       "0.0007"
      ]
     },
     "execution_count": 159,
     "metadata": {},
     "output_type": "execute_result"
    }
   ],
   "source": [
    "round(np.linalg.det(cor_matrix.values),4)"
   ]
  },
  {
   "cell_type": "markdown",
   "id": "f9e8861d",
   "metadata": {},
   "source": [
    "#### Задание 5.2\n",
    "Создайте матрицу наблюдений. Обозначьте её за $X$, а вектор правильных ответов — за $y$ .\n",
    "\n",
    "1. Постройте модель линейной регрессии по методу наименьших квадратов. Для этого используйте матричную формулу NumPy. В качестве ответа укажите полученные оценки коэффициентов модели. Ответ округлите до целого числа."
   ]
  },
  {
   "cell_type": "code",
   "execution_count": 224,
   "id": "026d2acc",
   "metadata": {},
   "outputs": [
    {
     "data": {
      "text/plain": [
       "w_0       -1232.0\n",
       "Well          0.0\n",
       "Por         230.0\n",
       "Perm        116.0\n",
       "AI         -365.0\n",
       "Brittle      25.0\n",
       "TOC         -78.0\n",
       "VR          785.0\n",
       "dtype: float64"
      ]
     },
     "execution_count": 224,
     "metadata": {},
     "output_type": "execute_result"
    }
   ],
   "source": [
    "A = np.column_stack([np.ones((len(data),1)), data.values[:,:-1]])\n",
    "y = data.values[:,-1]\n",
    "w_hat = np.linalg.inv(A.T@A)@A.T@y\n",
    "ans = pd.Series(w_hat,index = data.columns.insert(0,'w_0')[:-1])\n",
    "ans.round()"
   ]
  },
  {
   "cell_type": "markdown",
   "id": "c7686874",
   "metadata": {},
   "source": [
    "#### Задание 5.3\n",
    "Далее потренируемся строить предсказание для наблюдений целевой переменной.\n",
    "\n",
    "1. Постройте прогноз выработки газа для скважины с параметрами, указанными ниже. Чему равна абсолютная ошибка построенного вами прогноза для предложенной скважины (в миллионах кубических футов в день). Ответ округлите до целого числа.\n",
    "\n",
    "![](https://lms.skillfactory.ru/assets/courseware/v1/d8b159aa3b085511221f509dd93e977f/asset-v1:SkillFactory+DSPR-2.0+14JULY2021+type@asset+block/MATHML_md2_5_4.png)\n",
    "\n",
    "mcf/day:"
   ]
  },
  {
   "cell_type": "code",
   "execution_count": 233,
   "id": "39446233",
   "metadata": {},
   "outputs": [
    {
     "data": {
      "text/plain": [
       "25"
      ]
     },
     "execution_count": 233,
     "metadata": {},
     "output_type": "execute_result"
    }
   ],
   "source": [
    "y_new = 4748.315024\n",
    "x_new =np.array([1,106,15.32,3.71,3.29,55.99,1.35,2.42]) \n",
    "\n",
    "y_pred = w_hat@x_new\n",
    "\n",
    "round(y_new - y_pred)"
   ]
  },
  {
   "cell_type": "markdown",
   "id": "8e5bd266",
   "metadata": {},
   "source": [
    "2. Постройте прогноз выработки газа для всех скважин из обучающего набора данных. Чему равно значение метрики MAPE вашей модели? Ответ приведите в процентах (не указывайте знак процента), округлив его до первого знака после точки-разделителя."
   ]
  },
  {
   "cell_type": "code",
   "execution_count": 251,
   "id": "cf8fb6e8",
   "metadata": {},
   "outputs": [
    {
     "data": {
      "text/plain": [
       "3.6"
      ]
     },
     "execution_count": 251,
     "metadata": {},
     "output_type": "execute_result"
    }
   ],
   "source": [
    "from sklearn.metrics import mean_absolute_percentage_error as mape\n",
    "\n",
    "y_pred = w_hat@A.T\n",
    "\n",
    "round(mape(y,y_pred)*100,1)"
   ]
  },
  {
   "cell_type": "markdown",
   "id": "93a3ce9d",
   "metadata": {},
   "source": [
    "#### Задание 5.4\n",
    "Настало время анализа построенной модели. Посмотрите на коэффициенты и сравните их знаки со значениями выборочных корреляций между целевым признаком и факторами, которые вы нашли ранее.\n",
    "\n",
    "\n",
    "1. Есть ли в вашей модели фактор, при котором коэффициент в модели линейной регрессии противоречит соответствующему коэффициенту корреляции? Например, корреляция говорит, что зависимость между фактором и целью прямая, а модель говорит обратное.\n",
    "\n",
    "Если такой фактор есть, выберите его название из списка. Если таких факторов несколько, выберите их все:"
   ]
  },
  {
   "cell_type": "code",
   "execution_count": 270,
   "id": "9c9c1a1d",
   "metadata": {},
   "outputs": [
    {
     "data": {
      "text/plain": [
       "['TOC']"
      ]
     },
     "execution_count": 270,
     "metadata": {},
     "output_type": "execute_result"
    }
   ],
   "source": [
    "corr_sign = np.sign(cor_matrix.Prod[:-1])\n",
    "coeff_signs = np.sign(pd.Series(w_hat[1:],index = data.columns[:-1]))\n",
    "[i for i,corr_sign,coeff_signs in zip(corr_sign.index,corr_sign,coeff_signs) if corr_sign!=coeff_signs]"
   ]
  },
  {
   "cell_type": "markdown",
   "id": "c4768d59",
   "metadata": {},
   "source": [
    "#### Задание 5.5\n",
    "Исключите из данных сильно коррелированные между собой факторы. Под сильной корреляцией в данной задаче будем понимать значения, выше 0.7. Выбирая, какой из коррелированных факторов оставить, руководствуйтесь коэффициентом корреляции с целевой переменной: оставляйте тот фактор, который больше всего коррелирует с объёмом добычи газа.\n",
    "\n",
    "Также исключите из данных факторы, для которых корреляция с целевой переменной меньше 0.05.\n",
    "\n",
    "1. Какие факторы вы будете исключать?"
   ]
  },
  {
   "cell_type": "code",
   "execution_count": 291,
   "id": "3b5c5a71",
   "metadata": {},
   "outputs": [],
   "source": [
    "to_drop = []\n",
    "\n",
    "to_drop += list(cor_matrix.Prod.index[cor_matrix.Prod.abs()<0.05])"
   ]
  },
  {
   "cell_type": "code",
   "execution_count": 292,
   "id": "1a58fa5b",
   "metadata": {},
   "outputs": [
    {
     "data": {
      "text/html": [
       "<div>\n",
       "<style scoped>\n",
       "    .dataframe tbody tr th:only-of-type {\n",
       "        vertical-align: middle;\n",
       "    }\n",
       "\n",
       "    .dataframe tbody tr th {\n",
       "        vertical-align: top;\n",
       "    }\n",
       "\n",
       "    .dataframe thead th {\n",
       "        text-align: right;\n",
       "    }\n",
       "</style>\n",
       "<table border=\"1\" class=\"dataframe\">\n",
       "  <thead>\n",
       "    <tr style=\"text-align: right;\">\n",
       "      <th></th>\n",
       "      <th>Well</th>\n",
       "      <th>Por</th>\n",
       "      <th>Perm</th>\n",
       "      <th>AI</th>\n",
       "      <th>Brittle</th>\n",
       "      <th>TOC</th>\n",
       "      <th>VR</th>\n",
       "      <th>Prod</th>\n",
       "    </tr>\n",
       "  </thead>\n",
       "  <tbody>\n",
       "    <tr>\n",
       "      <th>Well</th>\n",
       "      <td>1.0</td>\n",
       "      <td>NaN</td>\n",
       "      <td>NaN</td>\n",
       "      <td>NaN</td>\n",
       "      <td>NaN</td>\n",
       "      <td>NaN</td>\n",
       "      <td>NaN</td>\n",
       "      <td>NaN</td>\n",
       "    </tr>\n",
       "    <tr>\n",
       "      <th>Por</th>\n",
       "      <td>NaN</td>\n",
       "      <td>1.000000</td>\n",
       "      <td>0.760546</td>\n",
       "      <td>NaN</td>\n",
       "      <td>NaN</td>\n",
       "      <td>0.711831</td>\n",
       "      <td>NaN</td>\n",
       "      <td>0.861910</td>\n",
       "    </tr>\n",
       "    <tr>\n",
       "      <th>Perm</th>\n",
       "      <td>NaN</td>\n",
       "      <td>0.760546</td>\n",
       "      <td>1.000000</td>\n",
       "      <td>NaN</td>\n",
       "      <td>NaN</td>\n",
       "      <td>NaN</td>\n",
       "      <td>NaN</td>\n",
       "      <td>0.727426</td>\n",
       "    </tr>\n",
       "    <tr>\n",
       "      <th>AI</th>\n",
       "      <td>NaN</td>\n",
       "      <td>NaN</td>\n",
       "      <td>NaN</td>\n",
       "      <td>1.0</td>\n",
       "      <td>NaN</td>\n",
       "      <td>NaN</td>\n",
       "      <td>NaN</td>\n",
       "      <td>NaN</td>\n",
       "    </tr>\n",
       "    <tr>\n",
       "      <th>Brittle</th>\n",
       "      <td>NaN</td>\n",
       "      <td>NaN</td>\n",
       "      <td>NaN</td>\n",
       "      <td>NaN</td>\n",
       "      <td>1.0</td>\n",
       "      <td>NaN</td>\n",
       "      <td>NaN</td>\n",
       "      <td>NaN</td>\n",
       "    </tr>\n",
       "    <tr>\n",
       "      <th>TOC</th>\n",
       "      <td>NaN</td>\n",
       "      <td>0.711831</td>\n",
       "      <td>NaN</td>\n",
       "      <td>NaN</td>\n",
       "      <td>NaN</td>\n",
       "      <td>1.000000</td>\n",
       "      <td>NaN</td>\n",
       "      <td>NaN</td>\n",
       "    </tr>\n",
       "    <tr>\n",
       "      <th>VR</th>\n",
       "      <td>NaN</td>\n",
       "      <td>NaN</td>\n",
       "      <td>NaN</td>\n",
       "      <td>NaN</td>\n",
       "      <td>NaN</td>\n",
       "      <td>NaN</td>\n",
       "      <td>1.0</td>\n",
       "      <td>NaN</td>\n",
       "    </tr>\n",
       "    <tr>\n",
       "      <th>Prod</th>\n",
       "      <td>NaN</td>\n",
       "      <td>0.861910</td>\n",
       "      <td>0.727426</td>\n",
       "      <td>NaN</td>\n",
       "      <td>NaN</td>\n",
       "      <td>NaN</td>\n",
       "      <td>NaN</td>\n",
       "      <td>1.000000</td>\n",
       "    </tr>\n",
       "  </tbody>\n",
       "</table>\n",
       "</div>"
      ],
      "text/plain": [
       "         Well       Por      Perm   AI  Brittle       TOC   VR      Prod\n",
       "Well      1.0       NaN       NaN  NaN      NaN       NaN  NaN       NaN\n",
       "Por       NaN  1.000000  0.760546  NaN      NaN  0.711831  NaN  0.861910\n",
       "Perm      NaN  0.760546  1.000000  NaN      NaN       NaN  NaN  0.727426\n",
       "AI        NaN       NaN       NaN  1.0      NaN       NaN  NaN       NaN\n",
       "Brittle   NaN       NaN       NaN  NaN      1.0       NaN  NaN       NaN\n",
       "TOC       NaN  0.711831       NaN  NaN      NaN  1.000000  NaN       NaN\n",
       "VR        NaN       NaN       NaN  NaN      NaN       NaN  1.0       NaN\n",
       "Prod      NaN  0.861910  0.727426  NaN      NaN       NaN  NaN  1.000000"
      ]
     },
     "execution_count": 292,
     "metadata": {},
     "output_type": "execute_result"
    }
   ],
   "source": [
    "cor_matrix[cor_matrix.abs()>0.7]"
   ]
  },
  {
   "cell_type": "code",
   "execution_count": 293,
   "id": "e666dea0",
   "metadata": {},
   "outputs": [
    {
     "data": {
      "text/plain": [
       "Prod       1.000000\n",
       "Por        0.861910\n",
       "Perm       0.727426\n",
       "TOC        0.654445\n",
       "AI         0.390835\n",
       "VR         0.323182\n",
       "Brittle    0.237155\n",
       "Well       0.026817\n",
       "Name: Prod, dtype: float64"
      ]
     },
     "execution_count": 293,
     "metadata": {},
     "output_type": "execute_result"
    }
   ],
   "source": [
    "cor_matrix.Prod.abs().sort_values(ascending=False)"
   ]
  },
  {
   "cell_type": "code",
   "execution_count": 294,
   "id": "09feac48",
   "metadata": {},
   "outputs": [
    {
     "name": "stdout",
     "output_type": "stream",
     "text": [
      "Well Perm TOC\n"
     ]
    }
   ],
   "source": [
    "to_drop += ['Perm','TOC']\n",
    "print(*to_drop)"
   ]
  },
  {
   "cell_type": "markdown",
   "id": "e417ac27",
   "metadata": {},
   "source": [
    "2. Постройте линейную регрессию на обновлённых после удаления факторов данных по методу наименьших квадратов. Для этого используйте матричную формулу NumPy.\n",
    "\n",
    "В качестве ответа укажите полученные оценки коэффициентов модели. Ответ округлите до целого числа."
   ]
  },
  {
   "cell_type": "code",
   "execution_count": 319,
   "id": "737ef8ab",
   "metadata": {},
   "outputs": [
    {
     "data": {
      "text/plain": [
       "Index(['Por', 'AI', 'Brittle', 'VR', 'Prod'], dtype='object')"
      ]
     },
     "execution_count": 319,
     "metadata": {},
     "output_type": "execute_result"
    }
   ],
   "source": [
    "data_proc = data.drop(columns=to_drop)\n",
    "\n",
    "data_proc.columns"
   ]
  },
  {
   "cell_type": "code",
   "execution_count": 321,
   "id": "c7b81f8e",
   "metadata": {},
   "outputs": [],
   "source": [
    "A_proc = np.column_stack([np.ones(len(data_proc)),data_proc.values[:,:-1]])\n",
    "y = data_proc.Prod.values"
   ]
  },
  {
   "cell_type": "code",
   "execution_count": 322,
   "id": "556cccaf",
   "metadata": {},
   "outputs": [],
   "source": [
    "w_hat_proc = np.linalg.inv(A_proc.T@A_proc)@A_proc.T@y"
   ]
  },
  {
   "cell_type": "code",
   "execution_count": 323,
   "id": "0373dc9a",
   "metadata": {},
   "outputs": [
    {
     "data": {
      "text/plain": [
       "w_0       -1835.0\n",
       "Por         293.0\n",
       "AI         -200.0\n",
       "Brittle      28.0\n",
       "VR          517.0\n",
       "dtype: float64"
      ]
     },
     "execution_count": 323,
     "metadata": {},
     "output_type": "execute_result"
    }
   ],
   "source": [
    "ans = pd.Series(w_hat_proc,index = data_proc.columns.insert(0,'w_0')[:-1])\n",
    "ans.round()"
   ]
  },
  {
   "cell_type": "markdown",
   "id": "ab4b2eb5",
   "metadata": {},
   "source": [
    "3. Сделайте прогноз для всего обучающего набора данных и рассчитайте метрику MAPE (Mean Absolute Percentage Error). Результат приведите в процентах (не указывайте знак процента), округлив его до первого знака после точки-разделителя."
   ]
  },
  {
   "cell_type": "code",
   "execution_count": 334,
   "id": "551bb87b",
   "metadata": {},
   "outputs": [
    {
     "data": {
      "text/plain": [
       "4.044138420436079"
      ]
     },
     "execution_count": 334,
     "metadata": {},
     "output_type": "execute_result"
    }
   ],
   "source": [
    "y_pred_proc = w_hat_proc@A_proc.T\n",
    "mape(y,y_pred_proc)*100"
   ]
  },
  {
   "cell_type": "code",
   "execution_count": null,
   "id": "dfd0e628",
   "metadata": {},
   "outputs": [],
   "source": []
  },
  {
   "cell_type": "markdown",
   "id": "893fc03b",
   "metadata": {},
   "source": [
    "4. Удалось ли вам побороть противоречие коэффициентов линейной регрессии и коэффициентов корреляции?"
   ]
  },
  {
   "cell_type": "code",
   "execution_count": 332,
   "id": "b7add157",
   "metadata": {},
   "outputs": [
    {
     "data": {
      "text/plain": [
       "[]"
      ]
     },
     "execution_count": 332,
     "metadata": {},
     "output_type": "execute_result"
    }
   ],
   "source": [
    "cor_matrix_proc = data_proc.corr()\n",
    "\n",
    "corr_sign_prov = np.sign(cor_matrix_proc.Prod[:-1])\n",
    "coeff_signs_proc = np.sign(pd.Series(w_hat_proc[1:],index = data_proc.columns[:-1]))\n",
    "[i for i,corr_sign,coeff_signs in zip(corr_sign_prov.index,corr_sign_prov,coeff_signs_proc) if corr_sign!=coeff_signs]"
   ]
  },
  {
   "cell_type": "markdown",
   "id": "a18a93ab",
   "metadata": {},
   "source": [
    "### 6. Полиномиальная регрессия\n",
    "#### Задание 6.1\n",
    "Построена модель полиномиальной регрессии следующего вида:   \n",
    "$y=10.4+8 \\cdot x_1+0.5 \\cdot x_2+3 \\cdot x_{1}^{2}+0.4 \\cdot x_{2}^{2}+0 \\cdot x_1 x_2$\n",
    "\n",
    "Поступило новое наблюдение, которое характеризуется вектором $x_{new}=(x_{1new}, x_{2new})^T=(1, 4)^T$.\n",
    "\n",
    "Сделайте прогноз целевой переменной с помощью полученной полиномиальной регрессии. Ответ округлите до первого знака после точки-разделителя."
   ]
  },
  {
   "cell_type": "code",
   "execution_count": 336,
   "id": "026ece23",
   "metadata": {},
   "outputs": [
    {
     "data": {
      "text/plain": [
       "29.8"
      ]
     },
     "execution_count": 336,
     "metadata": {},
     "output_type": "execute_result"
    }
   ],
   "source": [
    "x1,x2 = 1,4\n",
    "y = 10.4 + 8*x1 + 0.5*x2 +3*x1**2 + 0.4*x2**2\n",
    "round(y,1)"
   ]
  },
  {
   "cell_type": "markdown",
   "id": "9b39af56",
   "metadata": {},
   "source": [
    "#### Задание 6.4\n",
    "С помощью классического МНК найдите коэффициенты полиномиальной регрессии, если используется полином второй степени и задан фактор $x$ и целевая переменная $y$.    \n",
    "$$\\vec{y} = w_0 + w_1 \\vec{x} + w_2 \\vec{x}^2$$  \n",
    "$$\\vec{x}=\\left(\\begin{array}{c}\n",
    "1 \\\\\n",
    "3 \\\\\n",
    "-2 \\\\\n",
    "9\n",
    "\\end{array}\\right) \\vec{y}=\\left(\\begin{array}{c}\n",
    "3 \\\\\n",
    "7 \\\\\n",
    "-5 \\\\\n",
    "21\n",
    "\\end{array}\\right)$$   \n",
    "\n",
    "В качестве ответа приведите координаты вектора коэффициентов $\\hat{w}_0$, $\\hat{w}_1$, $\\hat{w}_2$, округлив их до первого знака после точки-разделителя."
   ]
  },
  {
   "cell_type": "code",
   "execution_count": 338,
   "id": "845c8552",
   "metadata": {},
   "outputs": [
    {
     "data": {
      "text/plain": [
       "array([ 0.11446013,  2.46095638, -0.01608801])"
      ]
     },
     "execution_count": 338,
     "metadata": {},
     "output_type": "execute_result"
    }
   ],
   "source": [
    "A = np.array([[1,1,1,1],[1,3,-2,9],[1,9,4,81]]).T\n",
    "y = np.array([3,7,-5,21])\n",
    "np.linalg.inv(A.T@A)@A.T@y"
   ]
  },
  {
   "cell_type": "code",
   "execution_count": 343,
   "id": "68f9b943",
   "metadata": {},
   "outputs": [
    {
     "name": "stdout",
     "output_type": "stream",
     "text": [
      "0.1 2.5 -0.0\n"
     ]
    }
   ],
   "source": [
    "w0, w1, w2 = (np.linalg.inv(A.T@A)@A.T@y).round(1)\n",
    "print(w0, w1, w2)"
   ]
  },
  {
   "cell_type": "markdown",
   "id": "8fc8a6c9",
   "metadata": {},
   "source": [
    "#### Задание 7.4\n",
    "Вычислите коэффициенты линейной регрессии с $L_2$ -регуляризацией, используя аналитическую формулу Тихонова, если:\n",
    "\n",
    "![](https://lms.skillfactory.ru/assets/courseware/v1/26955960b6372607132b2a005abafbc9/asset-v1:SkillFactory+DSPR-2.0+14JULY2021+type@asset+block/MATHML_md2_7_10.png)\n",
    "\n",
    "Коэффициент регуляризации $\\alpha=1$.\n",
    "\n",
    "В качестве ответа приведите значения полученных коэффициентов линейной регрессии, округлив их до второго знака после точки-разделителя.\n",
    "\n",
    "  нет ответа \n",
    " \n"
   ]
  },
  {
   "cell_type": "code",
   "execution_count": 374,
   "id": "0274da84",
   "metadata": {},
   "outputs": [
    {
     "name": "stdout",
     "output_type": "stream",
     "text": [
      "-0.09 -1.71 1.91 0.73\n"
     ]
    }
   ],
   "source": [
    "x1,x2,x3 = np.array([5,9,4,3,5]), np.array([15,18,18,19,19]), np.array([7,6,7,7,7])\n",
    "y = np.array([24,22,35,33,36])\n",
    "alpha = 1\n",
    "A = np.column_stack([np.ones(len(x1)),x1,x2,x3])\n",
    "# w_ =np.linalg.inv(A.T@A)@A.T@y\n",
    "# w_\n",
    "w_reg = np.linalg.inv(A.T@A + alpha*np.eye((A.T@A).shape[0]))@A.T@y\n",
    "ans = w_reg.round(2)\n",
    "print(*ans)"
   ]
  },
  {
   "cell_type": "markdown",
   "id": "ed010a17",
   "metadata": {},
   "source": [
    "### 8. Практика: полиномиальная регрессия и регуляризация"
   ]
  },
  {
   "cell_type": "markdown",
   "id": "83884b5f",
   "metadata": {},
   "source": [
    "Продолжим решать задачу от владельца компании «Газ-Таз-Ваз-Нефть» Василия. Исходный датасет представлен здесь.\n",
    "\n",
    "Ранее, в юните 5, мы смогли построить модель линейной регрессии, которая прогнозирует выработку газа на скважине. Для этого мы с помощью матрицы корреляций и рассуждений отобрали некоррелированные, значимые для предсказания признаки. Далее мы будем использовать именно их (см. задание 5.5).\n",
    "\n",
    "Мы хотим попробовать улучшить наш результат — метрику MAPE. Для этого воспользуемся моделью полиномиальной регрессии третьей степени. Однако теперь мы знаем, что полиномиальным моделям очень легко переобучиться под исходную выборку, поэтому для контроля качества модели мы будем использовать кросс-валидацию.\n",
    "\n",
    "Приступим!"
   ]
  },
  {
   "cell_type": "markdown",
   "id": "a75dcd88",
   "metadata": {},
   "source": [
    "#### Задание 8.1\n",
    "Сгенерируйте полиномиальные признаки третьего порядка на факторах, которые вы выбрали для обучения моделей. Для этого воспользуйтесь генератором полиномов `PolynomialFeatures` из библиотеки `sklearn`. Параметр `include_bias` установите в значение `False`."
   ]
  },
  {
   "cell_type": "code",
   "execution_count": 398,
   "id": "d242ecff",
   "metadata": {},
   "outputs": [],
   "source": [
    "from sklearn.preprocessing import PolynomialFeatures\n",
    "\n",
    "data = pd.read_csv('./Unit_5_data/unconv.csv') \n",
    "\n",
    "X = data.drop(columns=['Well','Perm','TOC','Prod'])\n",
    "y = data.Prod\n",
    "poly = PolynomialFeatures(degree=3, include_bias=False)\n",
    "X = poly.fit_transform(X)"
   ]
  },
  {
   "cell_type": "markdown",
   "id": "9bce5f75",
   "metadata": {},
   "source": [
    "1. Сколько факторов у вас получилось после генерации полиномиальных признаков?"
   ]
  },
  {
   "cell_type": "code",
   "execution_count": 399,
   "id": "74438c35",
   "metadata": {},
   "outputs": [
    {
     "data": {
      "text/plain": [
       "(200, 34)"
      ]
     },
     "execution_count": 399,
     "metadata": {},
     "output_type": "execute_result"
    }
   ],
   "source": [
    "X.shape"
   ]
  },
  {
   "cell_type": "markdown",
   "id": "ceabba55",
   "metadata": {},
   "source": [
    "Обучите модель линейной регрессии из библиотеки sklearn (LinearRegression) на полученных полиномиальных факторах.\n",
    "\n",
    "Оцените среднее значение метрики MAPE, используя кросс-валидацию на пяти фолдах.\n",
    "\n",
    "2. Чему равны средние значения метрики MAPE на тренировочных и валидационных фолдах? Ответ приведите в процентах (не указывайте знак процента), округлив его до первого знака после точки-разделителя."
   ]
  },
  {
   "cell_type": "code",
   "execution_count": 401,
   "id": "fe17ae8a",
   "metadata": {},
   "outputs": [
    {
     "name": "stdout",
     "output_type": "stream",
     "text": [
      "MAPE на тренировочных фолдах: 1.8 %\n",
      "MAPE на валидационных фолдах: 2.7 %\n"
     ]
    }
   ],
   "source": [
    "from sklearn.linear_model import LinearRegression\n",
    "from sklearn.model_selection import cross_validate\n",
    "\n",
    "lr = LinearRegression()\n",
    "\n",
    "cv_results = cross_validate(lr, X, y, scoring='neg_mean_absolute_percentage_error', cv=5, return_train_score=True)\n",
    "print('MAPE на тренировочных фолдах: {:.1f} %'.format(-cv_results['train_score'].mean()* 100))\n",
    "print('MAPE на валидационных фолдах: {:.1f} %'.format(-cv_results['test_score'].mean() * 100))\t"
   ]
  },
  {
   "cell_type": "markdown",
   "id": "34b1fe1a",
   "metadata": {},
   "source": [
    "#### Задание 8.2\n",
    "Теперь попробуем воспользоваться линейной регрессией с регуляризацией. Для начала возьмём -регуляризацию.\n",
    "\n",
    "Обучите модель `Lasso` из библиотеки `sklearn` на полученных полиномиальных факторах, предварительно стандартизировав факторы с помощью `StandardScaler`. Коэффициент регуляризации выставите равным $5$.\n",
    "\n",
    "Оцените среднее значение метрики `MAPE`, используя кросс-валидацию на пяти фолдах.\n",
    "\n",
    "Чему равны средние значения метрики `MAPE` на тренировочных и валидационных фолдах? Ответ приведите в процентах (не указывайте знак процента), округлив его до первого знака после точки-разделителя."
   ]
  },
  {
   "cell_type": "code",
   "execution_count": 403,
   "id": "4bb58b1f",
   "metadata": {},
   "outputs": [],
   "source": [
    "from sklearn.linear_model import Lasso\n",
    "from sklearn.preprocessing import StandardScaler"
   ]
  },
  {
   "cell_type": "code",
   "execution_count": 408,
   "id": "2d17727b",
   "metadata": {},
   "outputs": [
    {
     "name": "stdout",
     "output_type": "stream",
     "text": [
      "MAPE на тренировочных фолдах: 1.8 %\n",
      "MAPE на валидационных фолдах: 2.7 %\n"
     ]
    }
   ],
   "source": [
    "data = pd.read_csv('./Unit_5_data/unconv.csv') \n",
    "\n",
    "X = data.drop(columns=['Well','Perm','TOC','Prod'])\n",
    "y = data.Prod\n",
    "\n",
    "scaler = StandardScaler()\n",
    "X = scaler.fit_transform(X)\n",
    "\n",
    "poly = PolynomialFeatures(degree=3, include_bias=False)\n",
    "X = poly.fit_transform(X)\n",
    "\n",
    "# lasso = Lasso(alpha=5, fit_intercept=False)\n",
    "lasso = Lasso(alpha=5, fit_intercept=False, max_iter=5000)\n",
    "lasso.fit(X, y)\n",
    "\n",
    "v_results = cross_validate(lasso, X, y, scoring='neg_mean_absolute_percentage_error', cv=5, return_train_score=True)\n",
    "print('MAPE на тренировочных фолдах: {:.1f} %'.format(-cv_results['train_score'].mean()* 100))\n",
    "print('MAPE на валидационных фолдах: {:.1f} %'.format(-cv_results['test_score'].mean() * 100))\t"
   ]
  },
  {
   "cell_type": "markdown",
   "id": "9529b34e",
   "metadata": {},
   "source": [
    "#### Задание 8.3\n",
    "Проделаем то же самое с $L_2$-регуляризацией.\n",
    "\n",
    "Обучите модель `Ridge` из библиотеки `sklearn` на полученных полиномиальных факторах, предварительно стандартизировав факторы с помощью `StandardScaler`. Коэффициент регуляризации выставите равным 1.\n",
    "\n",
    "Оцените среднее значение метрики `MAPE`, используя кросс-валидацию на пяти фолдах.\n",
    "\n",
    "Чему равны средние значения метрики `MAPE` на тренировочных и валидационных фолдах? Ответ приведите в процентах (не указывайте знак процента), округлив его до первого знака после точки-разделителя."
   ]
  },
  {
   "cell_type": "code",
   "execution_count": 410,
   "id": "cd7cd5da",
   "metadata": {},
   "outputs": [],
   "source": [
    "from sklearn.linear_model import Ridge\n",
    "from sklearn.preprocessing import StandardScaler"
   ]
  },
  {
   "cell_type": "code",
   "execution_count": 411,
   "id": "9e510365",
   "metadata": {},
   "outputs": [
    {
     "name": "stdout",
     "output_type": "stream",
     "text": [
      "MAPE на тренировочных фолдах: 1.8 %\n",
      "MAPE на валидационных фолдах: 2.7 %\n"
     ]
    }
   ],
   "source": [
    "data = pd.read_csv('./Unit_5_data/unconv.csv') \n",
    "\n",
    "X = data.drop(columns=['Well','Perm','TOC','Prod'])\n",
    "y = data.Prod\n",
    "\n",
    "scaler = StandardScaler()\n",
    "X = scaler.fit_transform(X)\n",
    "\n",
    "poly = PolynomialFeatures(degree=3, include_bias=False)\n",
    "X = poly.fit_transform(X)\n",
    "\n",
    "# lasso = Lasso(alpha=5, fit_intercept=False)\n",
    "ridge = Ridge(alpha=5, fit_intercept=False, max_iter=5000)\n",
    "ridge.fit(X, y)\n",
    "\n",
    "v_results = cross_validate(ridge, X, y, scoring='neg_mean_absolute_percentage_error', cv=5, return_train_score=True)\n",
    "print('MAPE на тренировочных фолдах: {:.1f} %'.format(-cv_results['train_score'].mean()* 100))\n",
    "print('MAPE на валидационных фолдах: {:.1f} %'.format(-cv_results['test_score'].mean() * 100))\t"
   ]
  },
  {
   "cell_type": "code",
   "execution_count": null,
   "id": "0c34a9f2",
   "metadata": {},
   "outputs": [],
   "source": []
  }
 ],
 "metadata": {
  "kernelspec": {
   "display_name": "Python 3",
   "language": "python",
   "name": "python3"
  },
  "language_info": {
   "codemirror_mode": {
    "name": "ipython",
    "version": 3
   },
   "file_extension": ".py",
   "mimetype": "text/x-python",
   "name": "python",
   "nbconvert_exporter": "python",
   "pygments_lexer": "ipython3",
   "version": "3.8.8"
  }
 },
 "nbformat": 4,
 "nbformat_minor": 5
}
