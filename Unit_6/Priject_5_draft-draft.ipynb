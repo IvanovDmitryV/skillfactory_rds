{
 "cells": [
  {
   "cell_type": "markdown",
   "metadata": {},
   "source": [
    "# Описание задачи\n",
    "## В задачи пректа входит:\n",
    "- Нахождение данных для обученяи модели: парсинг и/или иные источники, обогащение данных;\n",
    "- Отбор признаков, подбор модели/ансамбля моделей;\n",
    "- Обучение и тестирование отобранной модели на отобранных признаках, подбор макропараметров;\n",
    "- Получение предсказанных моделью значений, подготовка и отправка submission\n",
    "\n",
    "\n",
    "## Этапы работы над проектом:\n",
    "- Поолучение данных для обученяи модели (на этом этапе без парсинга, при неудоволетворительном результате провести парсинг);\n",
    "- EDA полученных данных\n",
    "- Предобработка полученных данных\n",
    "- Выбор модели и получение baseline\n",
    "- Создание новых признаков,;\n",
    "- Отбор признаков;\n",
    "- Обучение и тестирование выбранной модели на отобранных признаках;\n",
    "- Подбор макропараметров модели на отобранных признаках;\n",
    "- Ансамблирование\n",
    "- Получение предсказанных моделью значений, подготовка и отправка submission\n",
    "\n",
    "# Импорт библиотек, установка параметров, определение функций\n",
    "## Импорт бибилиотек"
   ]
  },
  {
   "cell_type": "code",
   "execution_count": null,
   "metadata": {},
   "outputs": [],
   "source": []
  },
  {
   "cell_type": "code",
   "execution_count": 1,
   "metadata": {},
   "outputs": [],
   "source": [
    "import pandas as pd\n",
    "import numpy as np\n",
    "import json \n",
    "import os\n",
    "import requests\n",
    "import seaborn as sns\n",
    "\n",
    "from pprint import pprint\n",
    "from bs4 import BeautifulSoup "
   ]
  },
  {
   "cell_type": "markdown",
   "metadata": {},
   "source": [
    "## Установка параметров"
   ]
  },
  {
   "cell_type": "code",
   "execution_count": 2,
   "metadata": {},
   "outputs": [
    {
     "name": "stdout",
     "output_type": "stream",
     "text": [
      "Populating the interactive namespace from numpy and matplotlib\n"
     ]
    }
   ],
   "source": [
    "%pylab inline\n",
    "\n",
    "pd.set_option('display.max_rows', 70) # выведем больше строк\n",
    "pd.set_option('display.max_columns', 30) # выведем больше колонок"
   ]
  },
  {
   "cell_type": "markdown",
   "metadata": {},
   "source": [
    "## Определение функций"
   ]
  },
  {
   "cell_type": "code",
   "execution_count": 3,
   "metadata": {},
   "outputs": [],
   "source": [
    "def df_describe(df):\n",
    "    '''\n",
    "    Вывод простой статистки DataFrame\n",
    "    '''\n",
    "    desc = df.describe(include='all',percentiles=[0.5]).T\n",
    "    desc['type'] = [type(x) for x in df.iloc[0]]\n",
    "    desc['NaN'] = df.isna().sum()\n",
    "    desc.unique = df.nunique()\n",
    "    desc.top = df.mode(axis=0).iloc[0]\n",
    "    desc.freq = [df[col].value_counts().iloc[0] \n",
    "                 if len(df[col].value_counts())!=0 else np.NAN \n",
    "                 for col in  df.columns]\n",
    "    return desc\n",
    "\n",
    "def f1(row_name):\n",
    "    train_index = data.index[data['sample']==1]\n",
    "    test_index = data.index[data['sample']==0]\n",
    "    \n",
    "    plt.figure(figsize=(16,7))\n",
    "\n",
    "    ax1 = plt.subplot(131)\n",
    "    sns.countplot(y=data.loc[train_index][row_name],ax = ax1)\n",
    "    ax1.set_xscale('log')\n",
    "    ax1.set_title('train')\n",
    "\n",
    "    ax2 = plt.subplot(132, sharey=ax1)\n",
    "    sns.countplot(y=data.loc[test_index][row_name],ax = ax2)\n",
    "    plt.setp(ax2.get_yticklabels(), visible=False)\n",
    "    ax2.set_xscale('log')\n",
    "    ax2.set_title('test')\n",
    "\n",
    "    ax3 = plt.subplot(133, sharey=ax1)\n",
    "    sns.countplot(y=data[row_name],ax = ax3)\n",
    "    plt.setp(ax3.get_yticklabels(), visible=False)\n",
    "    ax3.set_xscale('log')\n",
    "    ax3.set_title('train & test');\n",
    "\n",
    "def f_2(row_name):\n",
    "    plt.figure(figsize=(16,7))\n",
    "\n",
    "    ax1 = plt.subplot(111)\n",
    "    sns.boxplot(x=train.price, y=train[row_name],ax = ax1)\n",
    "    ax1.set_xscale('log')\n",
    "    ax1.set_title('train')    \n",
    "\n",
    "\n",
    "def preproc():\n",
    "    pass"
   ]
  },
  {
   "cell_type": "markdown",
   "metadata": {},
   "source": [
    "В моем распоряжении есть данные, использованные в *baselin-ах* соревнований \n",
    "[[SF-DST] Car Price prediction](https://www.kaggle.com/c/sf-dst-car-price)\n",
    " и [[SF-DST] Car Price prediction](https://www.kaggle.com/c/sf-dst-car-price-prediction),  \n",
    "доступные по [здесь](https://www.kaggle.com/itslek/baseline-sf-dst-car-price-prediction-v15/data?select=all_auto_ru_09_09_2020.csv )  \n",
    " \n",
    "На первом этапе будем работать с этими данным, в процессе обработки признаков, сосздания новых, обучения , оотбора признаков, отбора моделей и их композиций получим представление какие дополнительные данные нужны для улучшенияпредсказания (и насколько нужны дополнительные данные, возможно будут получены приемлемые результаты и без них)\n",
    "\n",
    "Нам так жепредоставлены данные для вычисления *submition*. В первую очередь следует проверить взаимное соответсвие признаков в этих наборах данных, при необходимости/возможности привести данные к единому виду"
   ]
  },
  {
   "cell_type": "markdown",
   "metadata": {},
   "source": [
    "## Чтение, ознакомление с данными"
   ]
  },
  {
   "cell_type": "code",
   "execution_count": 4,
   "metadata": {},
   "outputs": [],
   "source": [
    "train = pd.read_csv('./Project_5_data/all_auto_ru_09_09_2020.csv')\n",
    "test = pd.read_csv('./Project_5_data/test.csv')"
   ]
  },
  {
   "cell_type": "markdown",
   "metadata": {},
   "source": [
    "Сеачала сравним признаки, описывающие наблюдения в наборах данных для обучения и для получения предсказания. При необходимости предпримем меры для приедения наборов к одному набору признаков.\n",
    "Затем посмотрим на простую статистику каждого набора и сопоставим её."
   ]
  },
  {
   "cell_type": "code",
   "execution_count": 5,
   "metadata": {},
   "outputs": [
    {
     "data": {
      "text/html": [
       "<div>\n",
       "<style scoped>\n",
       "    .dataframe tbody tr th:only-of-type {\n",
       "        vertical-align: middle;\n",
       "    }\n",
       "\n",
       "    .dataframe tbody tr th {\n",
       "        vertical-align: top;\n",
       "    }\n",
       "\n",
       "    .dataframe thead th {\n",
       "        text-align: right;\n",
       "    }\n",
       "</style>\n",
       "<table border=\"1\" class=\"dataframe\">\n",
       "  <thead>\n",
       "    <tr style=\"text-align: right;\">\n",
       "      <th></th>\n",
       "      <th>0</th>\n",
       "      <th>1</th>\n",
       "      <th>2</th>\n",
       "      <th>3</th>\n",
       "      <th>4</th>\n",
       "      <th>5</th>\n",
       "      <th>6</th>\n",
       "      <th>7</th>\n",
       "      <th>8</th>\n",
       "      <th>9</th>\n",
       "      <th>10</th>\n",
       "      <th>11</th>\n",
       "      <th>12</th>\n",
       "      <th>13</th>\n",
       "      <th>14</th>\n",
       "      <th>15</th>\n",
       "      <th>16</th>\n",
       "      <th>17</th>\n",
       "      <th>18</th>\n",
       "      <th>19</th>\n",
       "      <th>20</th>\n",
       "      <th>21</th>\n",
       "      <th>22</th>\n",
       "      <th>23</th>\n",
       "      <th>24</th>\n",
       "      <th>25</th>\n",
       "    </tr>\n",
       "  </thead>\n",
       "  <tbody>\n",
       "    <tr>\n",
       "      <th>train_columns</th>\n",
       "      <td>bodyType</td>\n",
       "      <td>brand</td>\n",
       "      <td>color</td>\n",
       "      <td>fuelType</td>\n",
       "      <td>modelDate</td>\n",
       "      <td>name</td>\n",
       "      <td>numberOfDoors</td>\n",
       "      <td>productionDate</td>\n",
       "      <td>vehicleConfiguration</td>\n",
       "      <td>vehicleTransmission</td>\n",
       "      <td>engineDisplacement</td>\n",
       "      <td>enginePower</td>\n",
       "      <td>description</td>\n",
       "      <td>mileage</td>\n",
       "      <td>Комплектация</td>\n",
       "      <td>Привод</td>\n",
       "      <td>Руль</td>\n",
       "      <td>Состояние</td>\n",
       "      <td>Владельцы</td>\n",
       "      <td>ПТС</td>\n",
       "      <td>Таможня</td>\n",
       "      <td>Владение</td>\n",
       "      <td>price</td>\n",
       "      <td>start_date</td>\n",
       "      <td>hidden</td>\n",
       "      <td>model</td>\n",
       "    </tr>\n",
       "    <tr>\n",
       "      <th>test_columns</th>\n",
       "      <td>bodyType</td>\n",
       "      <td>brand</td>\n",
       "      <td>color</td>\n",
       "      <td>fuelType</td>\n",
       "      <td>modelDate</td>\n",
       "      <td>name</td>\n",
       "      <td>numberOfDoors</td>\n",
       "      <td>productionDate</td>\n",
       "      <td>vehicleConfiguration</td>\n",
       "      <td>vehicleTransmission</td>\n",
       "      <td>engineDisplacement</td>\n",
       "      <td>enginePower</td>\n",
       "      <td>description</td>\n",
       "      <td>mileage</td>\n",
       "      <td>Комплектация</td>\n",
       "      <td>Привод</td>\n",
       "      <td>Руль</td>\n",
       "      <td>Состояние</td>\n",
       "      <td>Владельцы</td>\n",
       "      <td>ПТС</td>\n",
       "      <td>Таможня</td>\n",
       "      <td>Владение</td>\n",
       "      <td>id</td>\n",
       "      <td>NaN</td>\n",
       "      <td>NaN</td>\n",
       "      <td>NaN</td>\n",
       "    </tr>\n",
       "  </tbody>\n",
       "</table>\n",
       "</div>"
      ],
      "text/plain": [
       "                     0      1      2         3          4     5   \\\n",
       "train_columns  bodyType  brand  color  fuelType  modelDate  name   \n",
       "test_columns   bodyType  brand  color  fuelType  modelDate  name   \n",
       "\n",
       "                          6               7                     8   \\\n",
       "train_columns  numberOfDoors  productionDate  vehicleConfiguration   \n",
       "test_columns   numberOfDoors  productionDate  vehicleConfiguration   \n",
       "\n",
       "                                9                   10           11  \\\n",
       "train_columns  vehicleTransmission  engineDisplacement  enginePower   \n",
       "test_columns   vehicleTransmission  engineDisplacement  enginePower   \n",
       "\n",
       "                        12       13            14      15    16         17  \\\n",
       "train_columns  description  mileage  Комплектация  Привод  Руль  Состояние   \n",
       "test_columns   description  mileage  Комплектация  Привод  Руль  Состояние   \n",
       "\n",
       "                      18   19       20        21     22          23      24  \\\n",
       "train_columns  Владельцы  ПТС  Таможня  Владение  price  start_date  hidden   \n",
       "test_columns   Владельцы  ПТС  Таможня  Владение     id         NaN     NaN   \n",
       "\n",
       "                  25  \n",
       "train_columns  model  \n",
       "test_columns     NaN  "
      ]
     },
     "execution_count": 5,
     "metadata": {},
     "output_type": "execute_result"
    }
   ],
   "source": [
    "pd.DataFrame({'train_columns':pd.Series(train.columns), 'test_columns':pd.Series(test.columns)}).T"
   ]
  },
  {
   "cell_type": "markdown",
   "metadata": {},
   "source": [
    "Как видим вплоть до 21-ой колонки все совпадает,после чего в 22-ой позиции в **train** находится целевая переменная, естественно отсутвующая в **test**, имеющем на этом месте колонку **id**.  \n",
    "Далее в **data** присутсвуют **start_date**, **hidden**, **model**. В **test** они отсутсвуют."
   ]
  },
  {
   "cell_type": "markdown",
   "metadata": {},
   "source": [
    "Посмотрим на простую статистику у обеих DataFrame-ов"
   ]
  },
  {
   "cell_type": "code",
   "execution_count": 6,
   "metadata": {},
   "outputs": [
    {
     "data": {
      "text/html": [
       "<div>\n",
       "<style scoped>\n",
       "    .dataframe tbody tr th:only-of-type {\n",
       "        vertical-align: middle;\n",
       "    }\n",
       "\n",
       "    .dataframe tbody tr th {\n",
       "        vertical-align: top;\n",
       "    }\n",
       "\n",
       "    .dataframe thead th {\n",
       "        text-align: right;\n",
       "    }\n",
       "</style>\n",
       "<table border=\"1\" class=\"dataframe\">\n",
       "  <thead>\n",
       "    <tr style=\"text-align: right;\">\n",
       "      <th></th>\n",
       "      <th>count</th>\n",
       "      <th>unique</th>\n",
       "      <th>top</th>\n",
       "      <th>freq</th>\n",
       "      <th>mean</th>\n",
       "      <th>std</th>\n",
       "      <th>min</th>\n",
       "      <th>50%</th>\n",
       "      <th>max</th>\n",
       "      <th>type</th>\n",
       "      <th>NaN</th>\n",
       "    </tr>\n",
       "  </thead>\n",
       "  <tbody>\n",
       "    <tr>\n",
       "      <th>bodyType</th>\n",
       "      <td>89377</td>\n",
       "      <td>168</td>\n",
       "      <td>Внедорожник 5 дв.</td>\n",
       "      <td>31885.0</td>\n",
       "      <td>NaN</td>\n",
       "      <td>NaN</td>\n",
       "      <td>NaN</td>\n",
       "      <td>NaN</td>\n",
       "      <td>NaN</td>\n",
       "      <td>&lt;class 'str'&gt;</td>\n",
       "      <td>1</td>\n",
       "    </tr>\n",
       "    <tr>\n",
       "      <th>brand</th>\n",
       "      <td>89378</td>\n",
       "      <td>36</td>\n",
       "      <td>MERCEDES</td>\n",
       "      <td>8012.0</td>\n",
       "      <td>NaN</td>\n",
       "      <td>NaN</td>\n",
       "      <td>NaN</td>\n",
       "      <td>NaN</td>\n",
       "      <td>NaN</td>\n",
       "      <td>&lt;class 'str'&gt;</td>\n",
       "      <td>0</td>\n",
       "    </tr>\n",
       "    <tr>\n",
       "      <th>color</th>\n",
       "      <td>89378</td>\n",
       "      <td>16</td>\n",
       "      <td>040001</td>\n",
       "      <td>25212.0</td>\n",
       "      <td>NaN</td>\n",
       "      <td>NaN</td>\n",
       "      <td>NaN</td>\n",
       "      <td>NaN</td>\n",
       "      <td>NaN</td>\n",
       "      <td>&lt;class 'str'&gt;</td>\n",
       "      <td>0</td>\n",
       "    </tr>\n",
       "    <tr>\n",
       "      <th>fuelType</th>\n",
       "      <td>89378</td>\n",
       "      <td>6</td>\n",
       "      <td>бензин</td>\n",
       "      <td>75053.0</td>\n",
       "      <td>NaN</td>\n",
       "      <td>NaN</td>\n",
       "      <td>NaN</td>\n",
       "      <td>NaN</td>\n",
       "      <td>NaN</td>\n",
       "      <td>&lt;class 'str'&gt;</td>\n",
       "      <td>0</td>\n",
       "    </tr>\n",
       "    <tr>\n",
       "      <th>modelDate</th>\n",
       "      <td>89377</td>\n",
       "      <td>78</td>\n",
       "      <td>2006</td>\n",
       "      <td>6138.0</td>\n",
       "      <td>2008.54</td>\n",
       "      <td>7.41544</td>\n",
       "      <td>1904</td>\n",
       "      <td>2009</td>\n",
       "      <td>2020</td>\n",
       "      <td>&lt;class 'numpy.float64'&gt;</td>\n",
       "      <td>1</td>\n",
       "    </tr>\n",
       "    <tr>\n",
       "      <th>name</th>\n",
       "      <td>89377</td>\n",
       "      <td>4484</td>\n",
       "      <td>2.0 AT (150 л.с.)</td>\n",
       "      <td>1610.0</td>\n",
       "      <td>NaN</td>\n",
       "      <td>NaN</td>\n",
       "      <td>NaN</td>\n",
       "      <td>NaN</td>\n",
       "      <td>NaN</td>\n",
       "      <td>&lt;class 'str'&gt;</td>\n",
       "      <td>1</td>\n",
       "    </tr>\n",
       "    <tr>\n",
       "      <th>numberOfDoors</th>\n",
       "      <td>89377</td>\n",
       "      <td>5</td>\n",
       "      <td>5</td>\n",
       "      <td>51625.0</td>\n",
       "      <td>4.51047</td>\n",
       "      <td>0.653203</td>\n",
       "      <td>0</td>\n",
       "      <td>5</td>\n",
       "      <td>5</td>\n",
       "      <td>&lt;class 'numpy.float64'&gt;</td>\n",
       "      <td>1</td>\n",
       "    </tr>\n",
       "    <tr>\n",
       "      <th>productionDate</th>\n",
       "      <td>89378</td>\n",
       "      <td>80</td>\n",
       "      <td>2020</td>\n",
       "      <td>12524.0</td>\n",
       "      <td>2010.83</td>\n",
       "      <td>7.02478</td>\n",
       "      <td>1904</td>\n",
       "      <td>2011</td>\n",
       "      <td>2020</td>\n",
       "      <td>&lt;class 'numpy.int64'&gt;</td>\n",
       "      <td>0</td>\n",
       "    </tr>\n",
       "    <tr>\n",
       "      <th>vehicleConfiguration</th>\n",
       "      <td>89377</td>\n",
       "      <td>1860</td>\n",
       "      <td>SEDAN MECHANICAL 1.6</td>\n",
       "      <td>4166.0</td>\n",
       "      <td>NaN</td>\n",
       "      <td>NaN</td>\n",
       "      <td>NaN</td>\n",
       "      <td>NaN</td>\n",
       "      <td>NaN</td>\n",
       "      <td>&lt;class 'str'&gt;</td>\n",
       "      <td>1</td>\n",
       "    </tr>\n",
       "    <tr>\n",
       "      <th>vehicleTransmission</th>\n",
       "      <td>89377</td>\n",
       "      <td>4</td>\n",
       "      <td>AUTOMATIC</td>\n",
       "      <td>49218.0</td>\n",
       "      <td>NaN</td>\n",
       "      <td>NaN</td>\n",
       "      <td>NaN</td>\n",
       "      <td>NaN</td>\n",
       "      <td>NaN</td>\n",
       "      <td>&lt;class 'str'&gt;</td>\n",
       "      <td>1</td>\n",
       "    </tr>\n",
       "    <tr>\n",
       "      <th>engineDisplacement</th>\n",
       "      <td>89377</td>\n",
       "      <td>534</td>\n",
       "      <td>1.6</td>\n",
       "      <td>17032.0</td>\n",
       "      <td>NaN</td>\n",
       "      <td>NaN</td>\n",
       "      <td>NaN</td>\n",
       "      <td>NaN</td>\n",
       "      <td>NaN</td>\n",
       "      <td>&lt;class 'str'&gt;</td>\n",
       "      <td>1</td>\n",
       "    </tr>\n",
       "    <tr>\n",
       "      <th>enginePower</th>\n",
       "      <td>89377</td>\n",
       "      <td>396</td>\n",
       "      <td>150</td>\n",
       "      <td>7058.0</td>\n",
       "      <td>171.232</td>\n",
       "      <td>83.5275</td>\n",
       "      <td>11</td>\n",
       "      <td>150</td>\n",
       "      <td>800</td>\n",
       "      <td>&lt;class 'numpy.float64'&gt;</td>\n",
       "      <td>1</td>\n",
       "    </tr>\n",
       "    <tr>\n",
       "      <th>description</th>\n",
       "      <td>86124</td>\n",
       "      <td>77568</td>\n",
       "      <td>РОЛЬФ Северо-Запад - это первый мегамолл автом...</td>\n",
       "      <td>246.0</td>\n",
       "      <td>NaN</td>\n",
       "      <td>NaN</td>\n",
       "      <td>NaN</td>\n",
       "      <td>NaN</td>\n",
       "      <td>NaN</td>\n",
       "      <td>&lt;class 'str'&gt;</td>\n",
       "      <td>3254</td>\n",
       "    </tr>\n",
       "    <tr>\n",
       "      <th>mileage</th>\n",
       "      <td>89378</td>\n",
       "      <td>17403</td>\n",
       "      <td>0</td>\n",
       "      <td>13588.0</td>\n",
       "      <td>134829</td>\n",
       "      <td>102980</td>\n",
       "      <td>0</td>\n",
       "      <td>130000</td>\n",
       "      <td>1e+06</td>\n",
       "      <td>&lt;class 'numpy.int64'&gt;</td>\n",
       "      <td>0</td>\n",
       "    </tr>\n",
       "    <tr>\n",
       "      <th>Комплектация</th>\n",
       "      <td>89378</td>\n",
       "      <td>5839</td>\n",
       "      <td>{'id': '0'}</td>\n",
       "      <td>59130.0</td>\n",
       "      <td>NaN</td>\n",
       "      <td>NaN</td>\n",
       "      <td>NaN</td>\n",
       "      <td>NaN</td>\n",
       "      <td>NaN</td>\n",
       "      <td>&lt;class 'str'&gt;</td>\n",
       "      <td>0</td>\n",
       "    </tr>\n",
       "    <tr>\n",
       "      <th>Привод</th>\n",
       "      <td>89377</td>\n",
       "      <td>3</td>\n",
       "      <td>передний</td>\n",
       "      <td>47315.0</td>\n",
       "      <td>NaN</td>\n",
       "      <td>NaN</td>\n",
       "      <td>NaN</td>\n",
       "      <td>NaN</td>\n",
       "      <td>NaN</td>\n",
       "      <td>&lt;class 'str'&gt;</td>\n",
       "      <td>1</td>\n",
       "    </tr>\n",
       "    <tr>\n",
       "      <th>Руль</th>\n",
       "      <td>89378</td>\n",
       "      <td>2</td>\n",
       "      <td>LEFT</td>\n",
       "      <td>87589.0</td>\n",
       "      <td>NaN</td>\n",
       "      <td>NaN</td>\n",
       "      <td>NaN</td>\n",
       "      <td>NaN</td>\n",
       "      <td>NaN</td>\n",
       "      <td>&lt;class 'str'&gt;</td>\n",
       "      <td>0</td>\n",
       "    </tr>\n",
       "    <tr>\n",
       "      <th>Состояние</th>\n",
       "      <td>0</td>\n",
       "      <td>0</td>\n",
       "      <td>NaN</td>\n",
       "      <td>NaN</td>\n",
       "      <td>NaN</td>\n",
       "      <td>NaN</td>\n",
       "      <td>NaN</td>\n",
       "      <td>NaN</td>\n",
       "      <td>NaN</td>\n",
       "      <td>&lt;class 'numpy.float64'&gt;</td>\n",
       "      <td>89378</td>\n",
       "    </tr>\n",
       "    <tr>\n",
       "      <th>Владельцы</th>\n",
       "      <td>75790</td>\n",
       "      <td>3</td>\n",
       "      <td>3</td>\n",
       "      <td>36248.0</td>\n",
       "      <td>2.2337</td>\n",
       "      <td>0.817455</td>\n",
       "      <td>1</td>\n",
       "      <td>2</td>\n",
       "      <td>3</td>\n",
       "      <td>&lt;class 'numpy.float64'&gt;</td>\n",
       "      <td>13588</td>\n",
       "    </tr>\n",
       "    <tr>\n",
       "      <th>ПТС</th>\n",
       "      <td>89017</td>\n",
       "      <td>2</td>\n",
       "      <td>ORIGINAL</td>\n",
       "      <td>78597.0</td>\n",
       "      <td>NaN</td>\n",
       "      <td>NaN</td>\n",
       "      <td>NaN</td>\n",
       "      <td>NaN</td>\n",
       "      <td>NaN</td>\n",
       "      <td>&lt;class 'str'&gt;</td>\n",
       "      <td>361</td>\n",
       "    </tr>\n",
       "    <tr>\n",
       "      <th>Таможня</th>\n",
       "      <td>89378</td>\n",
       "      <td>1</td>\n",
       "      <td>True</td>\n",
       "      <td>89378.0</td>\n",
       "      <td>NaN</td>\n",
       "      <td>NaN</td>\n",
       "      <td>NaN</td>\n",
       "      <td>NaN</td>\n",
       "      <td>NaN</td>\n",
       "      <td>&lt;class 'numpy.bool_'&gt;</td>\n",
       "      <td>0</td>\n",
       "    </tr>\n",
       "    <tr>\n",
       "      <th>Владение</th>\n",
       "      <td>29201</td>\n",
       "      <td>290</td>\n",
       "      <td>{'year': 2018, 'month': 10}</td>\n",
       "      <td>497.0</td>\n",
       "      <td>NaN</td>\n",
       "      <td>NaN</td>\n",
       "      <td>NaN</td>\n",
       "      <td>NaN</td>\n",
       "      <td>NaN</td>\n",
       "      <td>&lt;class 'float'&gt;</td>\n",
       "      <td>60177</td>\n",
       "    </tr>\n",
       "    <tr>\n",
       "      <th>price</th>\n",
       "      <td>88968</td>\n",
       "      <td>8168</td>\n",
       "      <td>450000</td>\n",
       "      <td>1212.0</td>\n",
       "      <td>1.29459e+06</td>\n",
       "      <td>1.95041e+06</td>\n",
       "      <td>16000</td>\n",
       "      <td>650000</td>\n",
       "      <td>9.9e+07</td>\n",
       "      <td>&lt;class 'numpy.float64'&gt;</td>\n",
       "      <td>410</td>\n",
       "    </tr>\n",
       "    <tr>\n",
       "      <th>start_date</th>\n",
       "      <td>89378</td>\n",
       "      <td>75680</td>\n",
       "      <td>2020-09-01T10:01:11Z</td>\n",
       "      <td>93.0</td>\n",
       "      <td>NaN</td>\n",
       "      <td>NaN</td>\n",
       "      <td>NaN</td>\n",
       "      <td>NaN</td>\n",
       "      <td>NaN</td>\n",
       "      <td>&lt;class 'str'&gt;</td>\n",
       "      <td>0</td>\n",
       "    </tr>\n",
       "    <tr>\n",
       "      <th>hidden</th>\n",
       "      <td>0</td>\n",
       "      <td>0</td>\n",
       "      <td>NaN</td>\n",
       "      <td>NaN</td>\n",
       "      <td>NaN</td>\n",
       "      <td>NaN</td>\n",
       "      <td>NaN</td>\n",
       "      <td>NaN</td>\n",
       "      <td>NaN</td>\n",
       "      <td>&lt;class 'numpy.float64'&gt;</td>\n",
       "      <td>89378</td>\n",
       "    </tr>\n",
       "    <tr>\n",
       "      <th>model</th>\n",
       "      <td>89378</td>\n",
       "      <td>1086</td>\n",
       "      <td>FOCUS</td>\n",
       "      <td>2467.0</td>\n",
       "      <td>NaN</td>\n",
       "      <td>NaN</td>\n",
       "      <td>NaN</td>\n",
       "      <td>NaN</td>\n",
       "      <td>NaN</td>\n",
       "      <td>&lt;class 'str'&gt;</td>\n",
       "      <td>0</td>\n",
       "    </tr>\n",
       "  </tbody>\n",
       "</table>\n",
       "</div>"
      ],
      "text/plain": [
       "                      count  unique  \\\n",
       "bodyType              89377     168   \n",
       "brand                 89378      36   \n",
       "color                 89378      16   \n",
       "fuelType              89378       6   \n",
       "modelDate             89377      78   \n",
       "name                  89377    4484   \n",
       "numberOfDoors         89377       5   \n",
       "productionDate        89378      80   \n",
       "vehicleConfiguration  89377    1860   \n",
       "vehicleTransmission   89377       4   \n",
       "engineDisplacement    89377     534   \n",
       "enginePower           89377     396   \n",
       "description           86124   77568   \n",
       "mileage               89378   17403   \n",
       "Комплектация          89378    5839   \n",
       "Привод                89377       3   \n",
       "Руль                  89378       2   \n",
       "Состояние                 0       0   \n",
       "Владельцы             75790       3   \n",
       "ПТС                   89017       2   \n",
       "Таможня               89378       1   \n",
       "Владение              29201     290   \n",
       "price                 88968    8168   \n",
       "start_date            89378   75680   \n",
       "hidden                    0       0   \n",
       "model                 89378    1086   \n",
       "\n",
       "                                                                    top  \\\n",
       "bodyType                                              Внедорожник 5 дв.   \n",
       "brand                                                          MERCEDES   \n",
       "color                                                            040001   \n",
       "fuelType                                                         бензин   \n",
       "modelDate                                                          2006   \n",
       "name                                                  2.0 AT (150 л.с.)   \n",
       "numberOfDoors                                                         5   \n",
       "productionDate                                                     2020   \n",
       "vehicleConfiguration                               SEDAN MECHANICAL 1.6   \n",
       "vehicleTransmission                                           AUTOMATIC   \n",
       "engineDisplacement                                                  1.6   \n",
       "enginePower                                                         150   \n",
       "description           РОЛЬФ Северо-Запад - это первый мегамолл автом...   \n",
       "mileage                                                               0   \n",
       "Комплектация                                                {'id': '0'}   \n",
       "Привод                                                         передний   \n",
       "Руль                                                               LEFT   \n",
       "Состояние                                                           NaN   \n",
       "Владельцы                                                             3   \n",
       "ПТС                                                            ORIGINAL   \n",
       "Таможня                                                            True   \n",
       "Владение                                    {'year': 2018, 'month': 10}   \n",
       "price                                                            450000   \n",
       "start_date                                         2020-09-01T10:01:11Z   \n",
       "hidden                                                              NaN   \n",
       "model                                                             FOCUS   \n",
       "\n",
       "                         freq         mean          std    min     50%  \\\n",
       "bodyType              31885.0          NaN          NaN    NaN     NaN   \n",
       "brand                  8012.0          NaN          NaN    NaN     NaN   \n",
       "color                 25212.0          NaN          NaN    NaN     NaN   \n",
       "fuelType              75053.0          NaN          NaN    NaN     NaN   \n",
       "modelDate              6138.0      2008.54      7.41544   1904    2009   \n",
       "name                   1610.0          NaN          NaN    NaN     NaN   \n",
       "numberOfDoors         51625.0      4.51047     0.653203      0       5   \n",
       "productionDate        12524.0      2010.83      7.02478   1904    2011   \n",
       "vehicleConfiguration   4166.0          NaN          NaN    NaN     NaN   \n",
       "vehicleTransmission   49218.0          NaN          NaN    NaN     NaN   \n",
       "engineDisplacement    17032.0          NaN          NaN    NaN     NaN   \n",
       "enginePower            7058.0      171.232      83.5275     11     150   \n",
       "description             246.0          NaN          NaN    NaN     NaN   \n",
       "mileage               13588.0       134829       102980      0  130000   \n",
       "Комплектация          59130.0          NaN          NaN    NaN     NaN   \n",
       "Привод                47315.0          NaN          NaN    NaN     NaN   \n",
       "Руль                  87589.0          NaN          NaN    NaN     NaN   \n",
       "Состояние                 NaN          NaN          NaN    NaN     NaN   \n",
       "Владельцы             36248.0       2.2337     0.817455      1       2   \n",
       "ПТС                   78597.0          NaN          NaN    NaN     NaN   \n",
       "Таможня               89378.0          NaN          NaN    NaN     NaN   \n",
       "Владение                497.0          NaN          NaN    NaN     NaN   \n",
       "price                  1212.0  1.29459e+06  1.95041e+06  16000  650000   \n",
       "start_date               93.0          NaN          NaN    NaN     NaN   \n",
       "hidden                    NaN          NaN          NaN    NaN     NaN   \n",
       "model                  2467.0          NaN          NaN    NaN     NaN   \n",
       "\n",
       "                          max                     type    NaN  \n",
       "bodyType                  NaN            <class 'str'>      1  \n",
       "brand                     NaN            <class 'str'>      0  \n",
       "color                     NaN            <class 'str'>      0  \n",
       "fuelType                  NaN            <class 'str'>      0  \n",
       "modelDate                2020  <class 'numpy.float64'>      1  \n",
       "name                      NaN            <class 'str'>      1  \n",
       "numberOfDoors               5  <class 'numpy.float64'>      1  \n",
       "productionDate           2020    <class 'numpy.int64'>      0  \n",
       "vehicleConfiguration      NaN            <class 'str'>      1  \n",
       "vehicleTransmission       NaN            <class 'str'>      1  \n",
       "engineDisplacement        NaN            <class 'str'>      1  \n",
       "enginePower               800  <class 'numpy.float64'>      1  \n",
       "description               NaN            <class 'str'>   3254  \n",
       "mileage                 1e+06    <class 'numpy.int64'>      0  \n",
       "Комплектация              NaN            <class 'str'>      0  \n",
       "Привод                    NaN            <class 'str'>      1  \n",
       "Руль                      NaN            <class 'str'>      0  \n",
       "Состояние                 NaN  <class 'numpy.float64'>  89378  \n",
       "Владельцы                   3  <class 'numpy.float64'>  13588  \n",
       "ПТС                       NaN            <class 'str'>    361  \n",
       "Таможня                   NaN    <class 'numpy.bool_'>      0  \n",
       "Владение                  NaN          <class 'float'>  60177  \n",
       "price                 9.9e+07  <class 'numpy.float64'>    410  \n",
       "start_date                NaN            <class 'str'>      0  \n",
       "hidden                    NaN  <class 'numpy.float64'>  89378  \n",
       "model                     NaN            <class 'str'>      0  "
      ]
     },
     "execution_count": 6,
     "metadata": {},
     "output_type": "execute_result"
    }
   ],
   "source": [
    "df_describe(train)"
   ]
  },
  {
   "cell_type": "markdown",
   "metadata": {},
   "source": [
    "В пераую очередь надо отметить что в целевой перменной `price` 410 пропусков, наблюдения с пррпусками придется удалить.\n"
   ]
  },
  {
   "cell_type": "code",
   "execution_count": 7,
   "metadata": {},
   "outputs": [],
   "source": [
    "train.dropna(subset=['price'],inplace=True)"
   ]
  },
  {
   "cell_type": "code",
   "execution_count": 8,
   "metadata": {},
   "outputs": [
    {
     "data": {
      "text/html": [
       "<div>\n",
       "<style scoped>\n",
       "    .dataframe tbody tr th:only-of-type {\n",
       "        vertical-align: middle;\n",
       "    }\n",
       "\n",
       "    .dataframe tbody tr th {\n",
       "        vertical-align: top;\n",
       "    }\n",
       "\n",
       "    .dataframe thead th {\n",
       "        text-align: right;\n",
       "    }\n",
       "</style>\n",
       "<table border=\"1\" class=\"dataframe\">\n",
       "  <thead>\n",
       "    <tr style=\"text-align: right;\">\n",
       "      <th></th>\n",
       "      <th>count</th>\n",
       "      <th>unique</th>\n",
       "      <th>top</th>\n",
       "      <th>freq</th>\n",
       "      <th>mean</th>\n",
       "      <th>std</th>\n",
       "      <th>min</th>\n",
       "      <th>50%</th>\n",
       "      <th>max</th>\n",
       "      <th>type</th>\n",
       "      <th>NaN</th>\n",
       "    </tr>\n",
       "  </thead>\n",
       "  <tbody>\n",
       "    <tr>\n",
       "      <th>bodyType</th>\n",
       "      <td>3837</td>\n",
       "      <td>11</td>\n",
       "      <td>внедорожник 5 дв.</td>\n",
       "      <td>1626</td>\n",
       "      <td>NaN</td>\n",
       "      <td>NaN</td>\n",
       "      <td>NaN</td>\n",
       "      <td>NaN</td>\n",
       "      <td>NaN</td>\n",
       "      <td>&lt;class 'str'&gt;</td>\n",
       "      <td>0</td>\n",
       "    </tr>\n",
       "    <tr>\n",
       "      <th>brand</th>\n",
       "      <td>3837</td>\n",
       "      <td>1</td>\n",
       "      <td>BMW</td>\n",
       "      <td>3837</td>\n",
       "      <td>NaN</td>\n",
       "      <td>NaN</td>\n",
       "      <td>NaN</td>\n",
       "      <td>NaN</td>\n",
       "      <td>NaN</td>\n",
       "      <td>&lt;class 'str'&gt;</td>\n",
       "      <td>0</td>\n",
       "    </tr>\n",
       "    <tr>\n",
       "      <th>color</th>\n",
       "      <td>3837</td>\n",
       "      <td>15</td>\n",
       "      <td>чёрный</td>\n",
       "      <td>1395</td>\n",
       "      <td>NaN</td>\n",
       "      <td>NaN</td>\n",
       "      <td>NaN</td>\n",
       "      <td>NaN</td>\n",
       "      <td>NaN</td>\n",
       "      <td>&lt;class 'str'&gt;</td>\n",
       "      <td>0</td>\n",
       "    </tr>\n",
       "    <tr>\n",
       "      <th>fuelType</th>\n",
       "      <td>3837</td>\n",
       "      <td>4</td>\n",
       "      <td>бензин</td>\n",
       "      <td>2471</td>\n",
       "      <td>NaN</td>\n",
       "      <td>NaN</td>\n",
       "      <td>NaN</td>\n",
       "      <td>NaN</td>\n",
       "      <td>NaN</td>\n",
       "      <td>&lt;class 'str'&gt;</td>\n",
       "      <td>0</td>\n",
       "    </tr>\n",
       "    <tr>\n",
       "      <th>modelDate</th>\n",
       "      <td>3837</td>\n",
       "      <td>31</td>\n",
       "      <td>2013</td>\n",
       "      <td>380</td>\n",
       "      <td>2009.95</td>\n",
       "      <td>5.45162</td>\n",
       "      <td>1975</td>\n",
       "      <td>2011</td>\n",
       "      <td>2019</td>\n",
       "      <td>&lt;class 'numpy.float64'&gt;</td>\n",
       "      <td>0</td>\n",
       "    </tr>\n",
       "    <tr>\n",
       "      <th>name</th>\n",
       "      <td>3837</td>\n",
       "      <td>384</td>\n",
       "      <td>35i 3.0 AT (306 л.с.) 4WD</td>\n",
       "      <td>193</td>\n",
       "      <td>NaN</td>\n",
       "      <td>NaN</td>\n",
       "      <td>NaN</td>\n",
       "      <td>NaN</td>\n",
       "      <td>NaN</td>\n",
       "      <td>&lt;class 'str'&gt;</td>\n",
       "      <td>0</td>\n",
       "    </tr>\n",
       "    <tr>\n",
       "      <th>numberOfDoors</th>\n",
       "      <td>3837</td>\n",
       "      <td>4</td>\n",
       "      <td>5</td>\n",
       "      <td>1963</td>\n",
       "      <td>4.37503</td>\n",
       "      <td>0.796782</td>\n",
       "      <td>2</td>\n",
       "      <td>5</td>\n",
       "      <td>5</td>\n",
       "      <td>&lt;class 'numpy.float64'&gt;</td>\n",
       "      <td>0</td>\n",
       "    </tr>\n",
       "    <tr>\n",
       "      <th>productionDate</th>\n",
       "      <td>3837</td>\n",
       "      <td>37</td>\n",
       "      <td>2013</td>\n",
       "      <td>432</td>\n",
       "      <td>2011.93</td>\n",
       "      <td>5.18658</td>\n",
       "      <td>1981</td>\n",
       "      <td>2013</td>\n",
       "      <td>2019</td>\n",
       "      <td>&lt;class 'numpy.float64'&gt;</td>\n",
       "      <td>0</td>\n",
       "    </tr>\n",
       "    <tr>\n",
       "      <th>vehicleConfiguration</th>\n",
       "      <td>3837</td>\n",
       "      <td>99</td>\n",
       "      <td>ALLROAD_5_DOORS AUTOMATIC 3.0</td>\n",
       "      <td>850</td>\n",
       "      <td>NaN</td>\n",
       "      <td>NaN</td>\n",
       "      <td>NaN</td>\n",
       "      <td>NaN</td>\n",
       "      <td>NaN</td>\n",
       "      <td>&lt;class 'str'&gt;</td>\n",
       "      <td>0</td>\n",
       "    </tr>\n",
       "    <tr>\n",
       "      <th>vehicleTransmission</th>\n",
       "      <td>3837</td>\n",
       "      <td>3</td>\n",
       "      <td>автоматическая</td>\n",
       "      <td>3677</td>\n",
       "      <td>NaN</td>\n",
       "      <td>NaN</td>\n",
       "      <td>NaN</td>\n",
       "      <td>NaN</td>\n",
       "      <td>NaN</td>\n",
       "      <td>&lt;class 'str'&gt;</td>\n",
       "      <td>0</td>\n",
       "    </tr>\n",
       "    <tr>\n",
       "      <th>engineDisplacement</th>\n",
       "      <td>3837</td>\n",
       "      <td>22</td>\n",
       "      <td>2.0 LTR</td>\n",
       "      <td>1538</td>\n",
       "      <td>NaN</td>\n",
       "      <td>NaN</td>\n",
       "      <td>NaN</td>\n",
       "      <td>NaN</td>\n",
       "      <td>NaN</td>\n",
       "      <td>&lt;class 'str'&gt;</td>\n",
       "      <td>0</td>\n",
       "    </tr>\n",
       "    <tr>\n",
       "      <th>enginePower</th>\n",
       "      <td>3837</td>\n",
       "      <td>75</td>\n",
       "      <td>184 N12</td>\n",
       "      <td>636</td>\n",
       "      <td>NaN</td>\n",
       "      <td>NaN</td>\n",
       "      <td>NaN</td>\n",
       "      <td>NaN</td>\n",
       "      <td>NaN</td>\n",
       "      <td>&lt;class 'str'&gt;</td>\n",
       "      <td>0</td>\n",
       "    </tr>\n",
       "    <tr>\n",
       "      <th>description</th>\n",
       "      <td>3837</td>\n",
       "      <td>3677</td>\n",
       "      <td>РОЛЬФ Премиум – крупнейший официальный дилер М...</td>\n",
       "      <td>38</td>\n",
       "      <td>NaN</td>\n",
       "      <td>NaN</td>\n",
       "      <td>NaN</td>\n",
       "      <td>NaN</td>\n",
       "      <td>NaN</td>\n",
       "      <td>&lt;class 'str'&gt;</td>\n",
       "      <td>0</td>\n",
       "    </tr>\n",
       "    <tr>\n",
       "      <th>mileage</th>\n",
       "      <td>3837</td>\n",
       "      <td>1942</td>\n",
       "      <td>140000</td>\n",
       "      <td>38</td>\n",
       "      <td>118536</td>\n",
       "      <td>85125.9</td>\n",
       "      <td>1</td>\n",
       "      <td>108000</td>\n",
       "      <td>1e+06</td>\n",
       "      <td>&lt;class 'numpy.float64'&gt;</td>\n",
       "      <td>0</td>\n",
       "    </tr>\n",
       "    <tr>\n",
       "      <th>Комплектация</th>\n",
       "      <td>3837</td>\n",
       "      <td>3295</td>\n",
       "      <td>[]</td>\n",
       "      <td>336</td>\n",
       "      <td>NaN</td>\n",
       "      <td>NaN</td>\n",
       "      <td>NaN</td>\n",
       "      <td>NaN</td>\n",
       "      <td>NaN</td>\n",
       "      <td>&lt;class 'str'&gt;</td>\n",
       "      <td>0</td>\n",
       "    </tr>\n",
       "    <tr>\n",
       "      <th>Привод</th>\n",
       "      <td>3837</td>\n",
       "      <td>3</td>\n",
       "      <td>полный</td>\n",
       "      <td>2444</td>\n",
       "      <td>NaN</td>\n",
       "      <td>NaN</td>\n",
       "      <td>NaN</td>\n",
       "      <td>NaN</td>\n",
       "      <td>NaN</td>\n",
       "      <td>&lt;class 'str'&gt;</td>\n",
       "      <td>0</td>\n",
       "    </tr>\n",
       "    <tr>\n",
       "      <th>Руль</th>\n",
       "      <td>3837</td>\n",
       "      <td>1</td>\n",
       "      <td>Левый</td>\n",
       "      <td>3837</td>\n",
       "      <td>NaN</td>\n",
       "      <td>NaN</td>\n",
       "      <td>NaN</td>\n",
       "      <td>NaN</td>\n",
       "      <td>NaN</td>\n",
       "      <td>&lt;class 'str'&gt;</td>\n",
       "      <td>0</td>\n",
       "    </tr>\n",
       "    <tr>\n",
       "      <th>Состояние</th>\n",
       "      <td>3837</td>\n",
       "      <td>1</td>\n",
       "      <td>Не требует ремонта</td>\n",
       "      <td>3837</td>\n",
       "      <td>NaN</td>\n",
       "      <td>NaN</td>\n",
       "      <td>NaN</td>\n",
       "      <td>NaN</td>\n",
       "      <td>NaN</td>\n",
       "      <td>&lt;class 'str'&gt;</td>\n",
       "      <td>0</td>\n",
       "    </tr>\n",
       "    <tr>\n",
       "      <th>Владельцы</th>\n",
       "      <td>3837</td>\n",
       "      <td>3</td>\n",
       "      <td>3 или более</td>\n",
       "      <td>1516</td>\n",
       "      <td>NaN</td>\n",
       "      <td>NaN</td>\n",
       "      <td>NaN</td>\n",
       "      <td>NaN</td>\n",
       "      <td>NaN</td>\n",
       "      <td>&lt;class 'str'&gt;</td>\n",
       "      <td>0</td>\n",
       "    </tr>\n",
       "    <tr>\n",
       "      <th>ПТС</th>\n",
       "      <td>3837</td>\n",
       "      <td>2</td>\n",
       "      <td>Оригинал</td>\n",
       "      <td>3463</td>\n",
       "      <td>NaN</td>\n",
       "      <td>NaN</td>\n",
       "      <td>NaN</td>\n",
       "      <td>NaN</td>\n",
       "      <td>NaN</td>\n",
       "      <td>&lt;class 'str'&gt;</td>\n",
       "      <td>0</td>\n",
       "    </tr>\n",
       "    <tr>\n",
       "      <th>Таможня</th>\n",
       "      <td>3837</td>\n",
       "      <td>1</td>\n",
       "      <td>Растаможен</td>\n",
       "      <td>3837</td>\n",
       "      <td>NaN</td>\n",
       "      <td>NaN</td>\n",
       "      <td>NaN</td>\n",
       "      <td>NaN</td>\n",
       "      <td>NaN</td>\n",
       "      <td>&lt;class 'str'&gt;</td>\n",
       "      <td>0</td>\n",
       "    </tr>\n",
       "    <tr>\n",
       "      <th>Владение</th>\n",
       "      <td>1753</td>\n",
       "      <td>157</td>\n",
       "      <td>1 год и 1 месяц</td>\n",
       "      <td>40</td>\n",
       "      <td>NaN</td>\n",
       "      <td>NaN</td>\n",
       "      <td>NaN</td>\n",
       "      <td>NaN</td>\n",
       "      <td>NaN</td>\n",
       "      <td>&lt;class 'float'&gt;</td>\n",
       "      <td>2084</td>\n",
       "    </tr>\n",
       "    <tr>\n",
       "      <th>id</th>\n",
       "      <td>3837</td>\n",
       "      <td>3837</td>\n",
       "      <td>0</td>\n",
       "      <td>1</td>\n",
       "      <td>1918</td>\n",
       "      <td>1107.79</td>\n",
       "      <td>0</td>\n",
       "      <td>1918</td>\n",
       "      <td>3836</td>\n",
       "      <td>&lt;class 'numpy.int64'&gt;</td>\n",
       "      <td>0</td>\n",
       "    </tr>\n",
       "  </tbody>\n",
       "</table>\n",
       "</div>"
      ],
      "text/plain": [
       "                     count  unique  \\\n",
       "bodyType              3837      11   \n",
       "brand                 3837       1   \n",
       "color                 3837      15   \n",
       "fuelType              3837       4   \n",
       "modelDate             3837      31   \n",
       "name                  3837     384   \n",
       "numberOfDoors         3837       4   \n",
       "productionDate        3837      37   \n",
       "vehicleConfiguration  3837      99   \n",
       "vehicleTransmission   3837       3   \n",
       "engineDisplacement    3837      22   \n",
       "enginePower           3837      75   \n",
       "description           3837    3677   \n",
       "mileage               3837    1942   \n",
       "Комплектация          3837    3295   \n",
       "Привод                3837       3   \n",
       "Руль                  3837       1   \n",
       "Состояние             3837       1   \n",
       "Владельцы             3837       3   \n",
       "ПТС                   3837       2   \n",
       "Таможня               3837       1   \n",
       "Владение              1753     157   \n",
       "id                    3837    3837   \n",
       "\n",
       "                                                                    top  freq  \\\n",
       "bodyType                                              внедорожник 5 дв.  1626   \n",
       "brand                                                               BMW  3837   \n",
       "color                                                            чёрный  1395   \n",
       "fuelType                                                         бензин  2471   \n",
       "modelDate                                                          2013   380   \n",
       "name                                          35i 3.0 AT (306 л.с.) 4WD   193   \n",
       "numberOfDoors                                                         5  1963   \n",
       "productionDate                                                     2013   432   \n",
       "vehicleConfiguration                      ALLROAD_5_DOORS AUTOMATIC 3.0   850   \n",
       "vehicleTransmission                                      автоматическая  3677   \n",
       "engineDisplacement                                              2.0 LTR  1538   \n",
       "enginePower                                                     184 N12   636   \n",
       "description           РОЛЬФ Премиум – крупнейший официальный дилер М...    38   \n",
       "mileage                                                          140000    38   \n",
       "Комплектация                                                         []   336   \n",
       "Привод                                                           полный  2444   \n",
       "Руль                                                              Левый  3837   \n",
       "Состояние                                            Не требует ремонта  3837   \n",
       "Владельцы                                                   3 или более  1516   \n",
       "ПТС                                                            Оригинал  3463   \n",
       "Таможня                                                      Растаможен  3837   \n",
       "Владение                                                1 год и 1 месяц    40   \n",
       "id                                                                    0     1   \n",
       "\n",
       "                         mean       std   min     50%    max  \\\n",
       "bodyType                  NaN       NaN   NaN     NaN    NaN   \n",
       "brand                     NaN       NaN   NaN     NaN    NaN   \n",
       "color                     NaN       NaN   NaN     NaN    NaN   \n",
       "fuelType                  NaN       NaN   NaN     NaN    NaN   \n",
       "modelDate             2009.95   5.45162  1975    2011   2019   \n",
       "name                      NaN       NaN   NaN     NaN    NaN   \n",
       "numberOfDoors         4.37503  0.796782     2       5      5   \n",
       "productionDate        2011.93   5.18658  1981    2013   2019   \n",
       "vehicleConfiguration      NaN       NaN   NaN     NaN    NaN   \n",
       "vehicleTransmission       NaN       NaN   NaN     NaN    NaN   \n",
       "engineDisplacement        NaN       NaN   NaN     NaN    NaN   \n",
       "enginePower               NaN       NaN   NaN     NaN    NaN   \n",
       "description               NaN       NaN   NaN     NaN    NaN   \n",
       "mileage                118536   85125.9     1  108000  1e+06   \n",
       "Комплектация              NaN       NaN   NaN     NaN    NaN   \n",
       "Привод                    NaN       NaN   NaN     NaN    NaN   \n",
       "Руль                      NaN       NaN   NaN     NaN    NaN   \n",
       "Состояние                 NaN       NaN   NaN     NaN    NaN   \n",
       "Владельцы                 NaN       NaN   NaN     NaN    NaN   \n",
       "ПТС                       NaN       NaN   NaN     NaN    NaN   \n",
       "Таможня                   NaN       NaN   NaN     NaN    NaN   \n",
       "Владение                  NaN       NaN   NaN     NaN    NaN   \n",
       "id                       1918   1107.79     0    1918   3836   \n",
       "\n",
       "                                         type   NaN  \n",
       "bodyType                        <class 'str'>     0  \n",
       "brand                           <class 'str'>     0  \n",
       "color                           <class 'str'>     0  \n",
       "fuelType                        <class 'str'>     0  \n",
       "modelDate             <class 'numpy.float64'>     0  \n",
       "name                            <class 'str'>     0  \n",
       "numberOfDoors         <class 'numpy.float64'>     0  \n",
       "productionDate        <class 'numpy.float64'>     0  \n",
       "vehicleConfiguration            <class 'str'>     0  \n",
       "vehicleTransmission             <class 'str'>     0  \n",
       "engineDisplacement              <class 'str'>     0  \n",
       "enginePower                     <class 'str'>     0  \n",
       "description                     <class 'str'>     0  \n",
       "mileage               <class 'numpy.float64'>     0  \n",
       "Комплектация                    <class 'str'>     0  \n",
       "Привод                          <class 'str'>     0  \n",
       "Руль                            <class 'str'>     0  \n",
       "Состояние                       <class 'str'>     0  \n",
       "Владельцы                       <class 'str'>     0  \n",
       "ПТС                             <class 'str'>     0  \n",
       "Таможня                         <class 'str'>     0  \n",
       "Владение                      <class 'float'>  2084  \n",
       "id                      <class 'numpy.int64'>     0  "
      ]
     },
     "execution_count": 8,
     "metadata": {},
     "output_type": "execute_result"
    }
   ],
   "source": [
    "df_describe(test)"
   ]
  },
  {
   "cell_type": "markdown",
   "metadata": {},
   "source": [
    "Как видим в test всего 3837 набдюдений, \n",
    "\n",
    "\n",
    "\n",
    "\n",
    "\n",
    "\n",
    "\n",
    "отдельно стоит отметит, что в `brand` одно уникальное значение **BMW**\n",
    "\n",
    "Видимо имеет смысл разделить train на часть, содержащюю только габлюдения  BMW и все остальное."
   ]
  },
  {
   "cell_type": "code",
   "execution_count": 9,
   "metadata": {},
   "outputs": [],
   "source": [
    "train_rem = train.loc[train.brand!='BMW']\n",
    "\n",
    "train = train.loc[train.brand=='BMW']\n",
    "\n"
   ]
  },
  {
   "cell_type": "markdown",
   "metadata": {},
   "source": [
    "Как уже отмечалось, в train есть 3 колонки, отсутствующие  в test\n",
    "Посмотрим, что находится в этих \"дополнительных\" колонках."
   ]
  },
  {
   "cell_type": "markdown",
   "metadata": {},
   "source": [
    "#### start_date"
   ]
  },
  {
   "cell_type": "code",
   "execution_count": 10,
   "metadata": {},
   "outputs": [
    {
     "data": {
      "text/plain": [
       "7120    2020-02-03T09:44:25Z\n",
       "9034    2020-01-05T22:11:30Z\n",
       "8957    2020-08-10T11:02:50Z\n",
       "4555    2020-09-04T16:47:00Z\n",
       "8981    2020-08-21T14:41:04Z\n",
       "Name: start_date, dtype: object"
      ]
     },
     "execution_count": 10,
     "metadata": {},
     "output_type": "execute_result"
    }
   ],
   "source": [
    "train.start_date.sample(5)"
   ]
  },
  {
   "cell_type": "markdown",
   "metadata": {},
   "source": [
    "Колонка содержит дату создания обьявления о продаже. Признак вообще скорее всего полезный, но в test такая информация отсутвует, поэтому для обучения колонка непригодна.   \n",
    "Однако возможно она пригодится при отборе наблюдений - обьявления с различным временем создания, возможно имеют отличное распределение цены (например выгодные преддожения бысто уходят и \n",
    "цены более старых предлжений в среденм окажуться выше, возможно, наоборот, поеачалу цена выставляется \"с запасом\" и потом постепенно снижается пока не станет юлиже к реальности).  \n",
    "Посмотим как обстоят дела на саом деле."
   ]
  },
  {
   "cell_type": "code",
   "execution_count": 60,
   "metadata": {},
   "outputs": [
    {
     "data": {
      "image/png": "[encoded data removed]",
      "text/plain": [
       "<Figure size 1080x360 with 1 Axes>"
      ]
     },
     "metadata": {},
     "output_type": "display_data"
    },
    {
     "data": {
      "image/png": "[encoded data removed]",
      "text/plain": [
       "<Figure size 1080x360 with 1 Axes>"
      ]
     },
     "metadata": {},
     "output_type": "display_data"
    }
   ],
   "source": [
    "start_date = pd.to_datetime(train.start_date)\n",
    "recency = (start_date.max()-start_date) // (1*np.timedelta64(1, 'M'))\n",
    "\n",
    "plt.figure(figsize=(15,5))\n",
    "plt.yscale(\"log\")\n",
    "sns.boxplot(x = recency,y = train.price)\n",
    "\n",
    "plt.figure(figsize=(15,5))\n",
    "# plt.yscale(\"log\")\n",
    "# recency.hist(bins = recency.nunique())\n",
    "\n",
    "plt.hist(recency,bins = recency.nunique());\n"
   ]
  },
  {
   "cell_type": "markdown",
   "metadata": {},
   "source": [
    "Видим заметную гетероскедастичность цены по времени создания обьвления. Причины могут быть разными, например более престижные и соответсвенно хоть и подержанные но недешовые авто продаются быстрее. Поэтому посмотим на зависимость цены от от времени создания обьявления для несольких конкретных моделей, а именно для 4-х наиболее популярных моделей. Ограничесмся глубиной в 10 первых месяцев."
   ]
  },
  {
   "cell_type": "code",
   "execution_count": 48,
   "metadata": {},
   "outputs": [
    {
     "data": {
      "text/plain": [
       "(-0.5, 10.5)"
      ]
     },
     "execution_count": 48,
     "metadata": {},
     "output_type": "execute_result"
    },
    {
     "data": {
      "image/png": "[encoded data removed]",
      "text/plain": [
       "<Figure size 1080x504 with 1 Axes>"
      ]
     },
     "metadata": {},
     "output_type": "display_data"
    }
   ],
   "source": [
    "to_consider = train.model.value_counts().index[:4]\n",
    "consider_mask = [x in to_consider for x in train.model]\n",
    "\n",
    "\n",
    "plt.figure(figsize=(15,7))\n",
    "plt.yscale(\"log\")\n",
    "sns.boxplot(x = recency[consider_mask],y = train[consider_mask].price,hue=train[consider_mask].model)\n",
    "plt.xlim(xmax=10.5)"
   ]
  },
  {
   "cell_type": "code",
   "execution_count": null,
   "metadata": {},
   "outputs": [],
   "source": []
  },
  {
   "cell_type": "code",
   "execution_count": 64,
   "metadata": {},
   "outputs": [
    {
     "data": {
      "text/plain": [
       "(0, 51.45)"
      ]
     },
     "execution_count": 64,
     "metadata": {},
     "output_type": "execute_result"
    },
    {
     "data": {
      "image/png": "[encoded data removed]",
      "text/plain": [
       "<Figure size 1080x360 with 1 Axes>"
      ]
     },
     "metadata": {},
     "output_type": "display_data"
    }
   ],
   "source": [
    "plt.figure(figsize=(15,5))\n",
    "plt.yscale(\"log\")\n",
    "# recency.hist(bins = recency.nunique())\n",
    "# plt.hist(recency,bins = recency.nunique(),cumulative=True);\n",
    "plt.hist(recency,bins = recency.unique().max());\n",
    "plt.xlim(xmin=0)"
   ]
  },
  {
   "cell_type": "markdown",
   "metadata": {},
   "source": [
    "Как видим в течение всего 4-5 месяцев месяцев экспозиции обьявления количество обьявлений падает почти на 2 порядка.  \n",
    "\n",
    "**  \n",
    "\n",
    "**  \n",
    "\n",
    "**  \n"
   ]
  },
  {
   "cell_type": "code",
   "execution_count": null,
   "metadata": {},
   "outputs": [],
   "source": []
  },
  {
   "cell_type": "markdown",
   "metadata": {},
   "source": [
    "#### hidden"
   ]
  },
  {
   "cell_type": "code",
   "execution_count": 14,
   "metadata": {},
   "outputs": [
    {
     "data": {
      "text/plain": [
       "5033    NaN\n",
       "5882    NaN\n",
       "10983   NaN\n",
       "5598    NaN\n",
       "8533    NaN\n",
       "Name: hidden, dtype: float64"
      ]
     },
     "execution_count": 14,
     "metadata": {},
     "output_type": "execute_result"
    }
   ],
   "source": [
    "train.hidden.sample(5)"
   ]
  },
  {
   "cell_type": "code",
   "execution_count": 15,
   "metadata": {},
   "outputs": [
    {
     "data": {
      "text/plain": [
       "0"
      ]
     },
     "execution_count": 15,
     "metadata": {},
     "output_type": "execute_result"
    }
   ],
   "source": [
    "train.hidden.notna().sum()"
   ]
  },
  {
   "cell_type": "markdown",
   "metadata": {},
   "source": [
    "Как видим колнка не содержит никакой информации."
   ]
  },
  {
   "cell_type": "markdown",
   "metadata": {},
   "source": [
    "#### model"
   ]
  },
  {
   "cell_type": "code",
   "execution_count": 18,
   "metadata": {},
   "outputs": [
    {
     "data": {
      "text/html": [
       "<div>\n",
       "<style scoped>\n",
       "    .dataframe tbody tr th:only-of-type {\n",
       "        vertical-align: middle;\n",
       "    }\n",
       "\n",
       "    .dataframe tbody tr th {\n",
       "        vertical-align: top;\n",
       "    }\n",
       "\n",
       "    .dataframe thead th {\n",
       "        text-align: right;\n",
       "    }\n",
       "</style>\n",
       "<table border=\"1\" class=\"dataframe\">\n",
       "  <thead>\n",
       "    <tr style=\"text-align: right;\">\n",
       "      <th></th>\n",
       "      <th>model</th>\n",
       "      <th>name</th>\n",
       "    </tr>\n",
       "  </thead>\n",
       "  <tbody>\n",
       "    <tr>\n",
       "      <th>4714</th>\n",
       "      <td>3ER</td>\n",
       "      <td>320d xDrive 2.0d AT (190 л.с.) 4WD</td>\n",
       "    </tr>\n",
       "    <tr>\n",
       "      <th>10131</th>\n",
       "      <td>X5</td>\n",
       "      <td>40d 3.0d AT (306 л.с.) 4WD</td>\n",
       "    </tr>\n",
       "    <tr>\n",
       "      <th>5492</th>\n",
       "      <td>3ER</td>\n",
       "      <td>325xi 2.5 AT (218 л.с.) 4WD</td>\n",
       "    </tr>\n",
       "    <tr>\n",
       "      <th>9431</th>\n",
       "      <td>X3</td>\n",
       "      <td>20d xDrive 2.0d AT (190 л.с.) 4WD</td>\n",
       "    </tr>\n",
       "    <tr>\n",
       "      <th>10782</th>\n",
       "      <td>X6</td>\n",
       "      <td>40d 3.0d AT (313 л.с.) 4WD</td>\n",
       "    </tr>\n",
       "    <tr>\n",
       "      <th>7251</th>\n",
       "      <td>5ER</td>\n",
       "      <td>530i 2.0 AT (249 л.с.)</td>\n",
       "    </tr>\n",
       "    <tr>\n",
       "      <th>9887</th>\n",
       "      <td>X5</td>\n",
       "      <td>35i 3.0 AT (306 л.с.) 4WD</td>\n",
       "    </tr>\n",
       "    <tr>\n",
       "      <th>8791</th>\n",
       "      <td>X1</td>\n",
       "      <td>20i xDrive 2.0 AT (192 л.с.) 4WD</td>\n",
       "    </tr>\n",
       "    <tr>\n",
       "      <th>6761</th>\n",
       "      <td>5ER</td>\n",
       "      <td>535d xDrive 3.0d AT (300 л.с.) 4WD</td>\n",
       "    </tr>\n",
       "    <tr>\n",
       "      <th>9693</th>\n",
       "      <td>X4</td>\n",
       "      <td>30d 3.0d AT (249 л.с.) 4WD</td>\n",
       "    </tr>\n",
       "    <tr>\n",
       "      <th>10582</th>\n",
       "      <td>X5</td>\n",
       "      <td>3.0d 3.0d AT (218 л.с.) 4WD</td>\n",
       "    </tr>\n",
       "    <tr>\n",
       "      <th>10060</th>\n",
       "      <td>X5</td>\n",
       "      <td>25d 2.0d AT (231 л.с.) 4WD</td>\n",
       "    </tr>\n",
       "    <tr>\n",
       "      <th>7083</th>\n",
       "      <td>5ER</td>\n",
       "      <td>520i 2.0 AT (150 л.с.)</td>\n",
       "    </tr>\n",
       "    <tr>\n",
       "      <th>4100</th>\n",
       "      <td>1ER</td>\n",
       "      <td>118i 1.5 AT (136 л.с.)</td>\n",
       "    </tr>\n",
       "    <tr>\n",
       "      <th>8899</th>\n",
       "      <td>X3</td>\n",
       "      <td>20i xDrive 2.0 AT (184 л.с.) 4WD</td>\n",
       "    </tr>\n",
       "  </tbody>\n",
       "</table>\n",
       "</div>"
      ],
      "text/plain": [
       "      model                                name\n",
       "4714    3ER  320d xDrive 2.0d AT (190 л.с.) 4WD\n",
       "10131    X5          40d 3.0d AT (306 л.с.) 4WD\n",
       "5492    3ER         325xi 2.5 AT (218 л.с.) 4WD\n",
       "9431     X3   20d xDrive 2.0d AT (190 л.с.) 4WD\n",
       "10782    X6          40d 3.0d AT (313 л.с.) 4WD\n",
       "7251    5ER              530i 2.0 AT (249 л.с.)\n",
       "9887     X5           35i 3.0 AT (306 л.с.) 4WD\n",
       "8791     X1    20i xDrive 2.0 AT (192 л.с.) 4WD\n",
       "6761    5ER  535d xDrive 3.0d AT (300 л.с.) 4WD\n",
       "9693     X4          30d 3.0d AT (249 л.с.) 4WD\n",
       "10582    X5         3.0d 3.0d AT (218 л.с.) 4WD\n",
       "10060    X5          25d 2.0d AT (231 л.с.) 4WD\n",
       "7083    5ER              520i 2.0 AT (150 л.с.)\n",
       "4100    1ER              118i 1.5 AT (136 л.с.)\n",
       "8899     X3    20i xDrive 2.0 AT (184 л.с.) 4WD"
      ]
     },
     "execution_count": 18,
     "metadata": {},
     "output_type": "execute_result"
    }
   ],
   "source": [
    "train[['model','name']].sample(15)"
   ]
  },
  {
   "cell_type": "code",
   "execution_count": 19,
   "metadata": {},
   "outputs": [
    {
     "data": {
      "text/plain": [
       "2213                320i 2.0 AT (156 л.с.)\n",
       "3826            40d 3.0d AT (313 л.с.) 4WD\n",
       "2559           325xi 2.5 AT (218 л.с.) 4WD\n",
       "776     750Li xDrive 4.4 AT (450 л.с.) 4WD\n",
       "1331             30i 3.0 AT (264 л.с.) 4WD\n",
       "Name: name, dtype: object"
      ]
     },
     "execution_count": 19,
     "metadata": {},
     "output_type": "execute_result"
    }
   ],
   "source": [
    "test.name.sample(5)"
   ]
  },
  {
   "cell_type": "code",
   "execution_count": null,
   "metadata": {},
   "outputs": [],
   "source": []
  },
  {
   "cell_type": "markdown",
   "metadata": {},
   "source": [
    "#### id"
   ]
  },
  {
   "cell_type": "code",
   "execution_count": 20,
   "metadata": {},
   "outputs": [
    {
     "data": {
      "text/plain": [
       "3203    3203\n",
       "1115    1115\n",
       "2047    2047\n",
       "600      600\n",
       "2593    2593\n",
       "Name: id, dtype: int64"
      ]
     },
     "execution_count": 20,
     "metadata": {},
     "output_type": "execute_result"
    }
   ],
   "source": [
    "test.id.sample(5)"
   ]
  },
  {
   "cell_type": "markdown",
   "metadata": {},
   "source": [
    "Похоже, что эта колонка просто дублирует индекс, проверим:"
   ]
  },
  {
   "cell_type": "code",
   "execution_count": 21,
   "metadata": {},
   "outputs": [
    {
     "data": {
      "text/plain": [
       "0"
      ]
     },
     "execution_count": 21,
     "metadata": {},
     "output_type": "execute_result"
    }
   ],
   "source": [
    "(test.index != test.id).sum()"
   ]
  },
  {
   "cell_type": "markdown",
   "metadata": {},
   "source": [
    "Так и есть, можно удалять."
   ]
  },
  {
   "cell_type": "markdown",
   "metadata": {},
   "source": [
    "### price\n",
    "Посмотрим и на нашу целевую переменную."
   ]
  },
  {
   "cell_type": "code",
   "execution_count": 23,
   "metadata": {},
   "outputs": [
    {
     "data": {
      "image/png": "[encoded data removed]",
      "text/plain": [
       "<Figure size 1080x360 with 1 Axes>"
      ]
     },
     "metadata": {},
     "output_type": "display_data"
    }
   ],
   "source": [
    "plt.figure(figsize=(15,5))\n",
    "plt.yscale(\"log\")\n",
    "# plt.xscale(\"log\")\n",
    "# plt.hist(x=train.price,bins=50,density=True);\n",
    "plt.hist(x=train.price,bins=50); #,log=True"
   ]
  },
  {
   "cell_type": "markdown",
   "metadata": {},
   "source": [
    "Теперь перейдем к пропускам.\n",
    "\n",
    "Наша целевая переменная `price`, вначале проверим наличие пропусков в ней."
   ]
  },
  {
   "cell_type": "code",
   "execution_count": 28,
   "metadata": {},
   "outputs": [
    {
     "name": "stdout",
     "output_type": "stream",
     "text": [
      "В целевой переменной 0 пропущенных значений\n"
     ]
    }
   ],
   "source": [
    "print('В целевой переменной {} пропущенных значений'.format(train.price.isna().sum()))\n"
   ]
  },
  {
   "cell_type": "markdown",
   "metadata": {},
   "source": [
    "Теперь изучим совпадающие по названию признаки попарно, рассмотрим так же и несовпадающие признаки."
   ]
  },
  {
   "cell_type": "markdown",
   "metadata": {},
   "source": [
    "Ознакомимся с признаками поподробнее"
   ]
  },
  {
   "cell_type": "markdown",
   "metadata": {},
   "source": [
    "### Для корректной обработки признаков объединяем трейн и тест в один датасет data"
   ]
  },
  {
   "cell_type": "code",
   "execution_count": 67,
   "metadata": {},
   "outputs": [],
   "source": [
    "train['sample'] = 1  # помечаем где у нас трейн\n",
    "test['sample'] = 0   # помечаем где у нас тест\n",
    "test['price'] = np.NaN  # в тесте нет значения price -  пока просто заполняем np.NaN\n",
    "\n",
    "data = test.append(train, sort=False).reset_index(drop=True) # объединяем"
   ]
  },
  {
   "cell_type": "markdown",
   "metadata": {},
   "source": [
    "### Типы признаков\n",
    "Разделим признаки на количественные num_cols , категориальные cat_cols и бинарные bin_cols. К бинарным, очевидно, отнесем признаки с двумя уникальными значениями.  \n",
    "Категориальными признаками будем считать признаки с количеством уникальных значений от 3 до 9\n",
    "Порогом для количественного признака будет наличие более чем 10 уникальных значений.\n",
    "Разделение признаков на типы позволит провести адекватную EDA и кодировку признаков  ."
   ]
  },
  {
   "cell_type": "code",
   "execution_count": 68,
   "metadata": {},
   "outputs": [],
   "source": [
    "num_uniq = data.nunique()\n",
    "# time_col = pd.Inwwwwwwwdex(['app_date'])\n",
    "bin_cols = data.columns[num_uniq==2]\n",
    "cat_cols = data.columns[(num_uniq>2) & (num_uniq<10)] \n",
    "num_cols = data.columns[num_uniq>=10]"
   ]
  },
  {
   "cell_type": "code",
   "execution_count": 69,
   "metadata": {},
   "outputs": [
    {
     "data": {
      "text/plain": [
       "Index(['Таможня', 'sample'], dtype='object')"
      ]
     },
     "execution_count": 69,
     "metadata": {},
     "output_type": "execute_result"
    }
   ],
   "source": [
    "bin_cols"
   ]
  },
  {
   "cell_type": "code",
   "execution_count": 70,
   "metadata": {},
   "outputs": [
    {
     "data": {
      "text/plain": [
       "Index(['fuelType', 'numberOfDoors', 'vehicleTransmission', 'Привод', 'Руль',\n",
       "       'Владельцы', 'ПТС'],\n",
       "      dtype='object')"
      ]
     },
     "execution_count": 70,
     "metadata": {},
     "output_type": "execute_result"
    }
   ],
   "source": [
    "cat_cols"
   ]
  },
  {
   "cell_type": "code",
   "execution_count": 71,
   "metadata": {},
   "outputs": [
    {
     "data": {
      "text/plain": [
       "Index(['bodyType', 'color', 'modelDate', 'name', 'productionDate',\n",
       "       'vehicleConfiguration', 'engineDisplacement', 'enginePower',\n",
       "       'description', 'mileage', 'Комплектация', 'Владение', 'id', 'price',\n",
       "       'start_date', 'model'],\n",
       "      dtype='object')"
      ]
     },
     "execution_count": 71,
     "metadata": {},
     "output_type": "execute_result"
    }
   ],
   "source": [
    "num_cols"
   ]
  },
  {
   "cell_type": "code",
   "execution_count": 72,
   "metadata": {},
   "outputs": [
    {
     "data": {
      "text/plain": [
       "Index(['bodyType', 'brand', 'color', 'fuelType', 'modelDate', 'name',\n",
       "       'numberOfDoors', 'productionDate', 'vehicleConfiguration',\n",
       "       'vehicleTransmission', 'engineDisplacement', 'enginePower',\n",
       "       'description', 'mileage', 'Комплектация', 'Привод', 'Руль', 'Состояние',\n",
       "       'Владельцы', 'ПТС', 'Таможня', 'Владение', 'id', 'sample', 'price',\n",
       "       'start_date', 'hidden', 'model'],\n",
       "      dtype='object')"
      ]
     },
     "execution_count": 72,
     "metadata": {},
     "output_type": "execute_result"
    }
   ],
   "source": [
    "data.columns"
   ]
  },
  {
   "cell_type": "markdown",
   "metadata": {},
   "source": [
    "Перед предобработкой признаков создадим копию датафрейма."
   ]
  },
  {
   "cell_type": "code",
   "execution_count": 73,
   "metadata": {},
   "outputs": [],
   "source": [
    "# train = df.copy()"
   ]
  },
  {
   "cell_type": "markdown",
   "metadata": {},
   "source": [
    "Теперь изучим признаки по отдельности\n",
    ".\n",
    ".\n",
    ".\n",
    "\n",
    "### bodyType\n",
    "Посмотрим как выгдядит значения в колонке:"
   ]
  },
  {
   "cell_type": "code",
   "execution_count": 74,
   "metadata": {},
   "outputs": [
    {
     "data": {
      "text/plain": [
       "5832                 Седан\n",
       "5884                 Седан\n",
       "6917                 Седан\n",
       "0                    седан\n",
       "10907    Внедорожник 5 дв.\n",
       "Name: bodyType, dtype: object"
      ]
     },
     "execution_count": 74,
     "metadata": {},
     "output_type": "execute_result"
    }
   ],
   "source": [
    "data.bodyType.sample(5)"
   ]
  },
  {
   "cell_type": "markdown",
   "metadata": {},
   "source": [
    "В колонке содержится категоря кузова/авто (седан, хэтчбэк, внедорожник и т.д.) и опционно количество дверей. Поскольку в наборе данных есть колонка `numberOfDoors`, то можно огброситть информацию о количестве дверей из  этой колонки. Извлечем только категорию авто."
   ]
  },
  {
   "cell_type": "code",
   "execution_count": 75,
   "metadata": {},
   "outputs": [
    {
     "data": {
      "text/html": [
       "<div>\n",
       "<style scoped>\n",
       "    .dataframe tbody tr th:only-of-type {\n",
       "        vertical-align: middle;\n",
       "    }\n",
       "\n",
       "    .dataframe tbody tr th {\n",
       "        vertical-align: top;\n",
       "    }\n",
       "\n",
       "    .dataframe thead th {\n",
       "        text-align: right;\n",
       "    }\n",
       "</style>\n",
       "<table border=\"1\" class=\"dataframe\">\n",
       "  <thead>\n",
       "    <tr style=\"text-align: right;\">\n",
       "      <th></th>\n",
       "      <th>внедорожник</th>\n",
       "      <th>кабриолет</th>\n",
       "      <th>компактвэн</th>\n",
       "      <th>купе</th>\n",
       "      <th>купе-хардтоп</th>\n",
       "      <th>лифтбек</th>\n",
       "      <th>родстер</th>\n",
       "      <th>седан</th>\n",
       "      <th>универсал</th>\n",
       "      <th>хэтчбек</th>\n",
       "    </tr>\n",
       "  </thead>\n",
       "  <tbody>\n",
       "    <tr>\n",
       "      <th>0</th>\n",
       "      <td>0</td>\n",
       "      <td>0</td>\n",
       "      <td>0</td>\n",
       "      <td>0</td>\n",
       "      <td>0</td>\n",
       "      <td>0</td>\n",
       "      <td>0</td>\n",
       "      <td>1</td>\n",
       "      <td>0</td>\n",
       "      <td>0</td>\n",
       "    </tr>\n",
       "    <tr>\n",
       "      <th>1</th>\n",
       "      <td>0</td>\n",
       "      <td>0</td>\n",
       "      <td>0</td>\n",
       "      <td>0</td>\n",
       "      <td>0</td>\n",
       "      <td>0</td>\n",
       "      <td>0</td>\n",
       "      <td>1</td>\n",
       "      <td>0</td>\n",
       "      <td>0</td>\n",
       "    </tr>\n",
       "    <tr>\n",
       "      <th>2</th>\n",
       "      <td>0</td>\n",
       "      <td>0</td>\n",
       "      <td>0</td>\n",
       "      <td>0</td>\n",
       "      <td>0</td>\n",
       "      <td>0</td>\n",
       "      <td>0</td>\n",
       "      <td>1</td>\n",
       "      <td>0</td>\n",
       "      <td>0</td>\n",
       "    </tr>\n",
       "    <tr>\n",
       "      <th>3</th>\n",
       "      <td>1</td>\n",
       "      <td>0</td>\n",
       "      <td>0</td>\n",
       "      <td>0</td>\n",
       "      <td>0</td>\n",
       "      <td>0</td>\n",
       "      <td>0</td>\n",
       "      <td>0</td>\n",
       "      <td>0</td>\n",
       "      <td>0</td>\n",
       "    </tr>\n",
       "    <tr>\n",
       "      <th>4</th>\n",
       "      <td>1</td>\n",
       "      <td>0</td>\n",
       "      <td>0</td>\n",
       "      <td>0</td>\n",
       "      <td>0</td>\n",
       "      <td>0</td>\n",
       "      <td>0</td>\n",
       "      <td>0</td>\n",
       "      <td>0</td>\n",
       "      <td>0</td>\n",
       "    </tr>\n",
       "    <tr>\n",
       "      <th>5</th>\n",
       "      <td>1</td>\n",
       "      <td>0</td>\n",
       "      <td>0</td>\n",
       "      <td>0</td>\n",
       "      <td>0</td>\n",
       "      <td>0</td>\n",
       "      <td>0</td>\n",
       "      <td>0</td>\n",
       "      <td>0</td>\n",
       "      <td>0</td>\n",
       "    </tr>\n",
       "    <tr>\n",
       "      <th>6</th>\n",
       "      <td>1</td>\n",
       "      <td>0</td>\n",
       "      <td>0</td>\n",
       "      <td>0</td>\n",
       "      <td>0</td>\n",
       "      <td>0</td>\n",
       "      <td>0</td>\n",
       "      <td>0</td>\n",
       "      <td>0</td>\n",
       "      <td>0</td>\n",
       "    </tr>\n",
       "    <tr>\n",
       "      <th>7</th>\n",
       "      <td>1</td>\n",
       "      <td>0</td>\n",
       "      <td>0</td>\n",
       "      <td>0</td>\n",
       "      <td>0</td>\n",
       "      <td>0</td>\n",
       "      <td>0</td>\n",
       "      <td>0</td>\n",
       "      <td>0</td>\n",
       "      <td>0</td>\n",
       "    </tr>\n",
       "    <tr>\n",
       "      <th>8</th>\n",
       "      <td>1</td>\n",
       "      <td>0</td>\n",
       "      <td>0</td>\n",
       "      <td>0</td>\n",
       "      <td>0</td>\n",
       "      <td>0</td>\n",
       "      <td>0</td>\n",
       "      <td>0</td>\n",
       "      <td>0</td>\n",
       "      <td>0</td>\n",
       "    </tr>\n",
       "    <tr>\n",
       "      <th>9</th>\n",
       "      <td>0</td>\n",
       "      <td>0</td>\n",
       "      <td>0</td>\n",
       "      <td>0</td>\n",
       "      <td>0</td>\n",
       "      <td>0</td>\n",
       "      <td>0</td>\n",
       "      <td>1</td>\n",
       "      <td>0</td>\n",
       "      <td>0</td>\n",
       "    </tr>\n",
       "    <tr>\n",
       "      <th>10</th>\n",
       "      <td>0</td>\n",
       "      <td>0</td>\n",
       "      <td>0</td>\n",
       "      <td>0</td>\n",
       "      <td>0</td>\n",
       "      <td>0</td>\n",
       "      <td>0</td>\n",
       "      <td>1</td>\n",
       "      <td>0</td>\n",
       "      <td>0</td>\n",
       "    </tr>\n",
       "    <tr>\n",
       "      <th>11</th>\n",
       "      <td>0</td>\n",
       "      <td>0</td>\n",
       "      <td>0</td>\n",
       "      <td>0</td>\n",
       "      <td>0</td>\n",
       "      <td>0</td>\n",
       "      <td>0</td>\n",
       "      <td>0</td>\n",
       "      <td>0</td>\n",
       "      <td>1</td>\n",
       "    </tr>\n",
       "    <tr>\n",
       "      <th>12</th>\n",
       "      <td>0</td>\n",
       "      <td>0</td>\n",
       "      <td>0</td>\n",
       "      <td>0</td>\n",
       "      <td>0</td>\n",
       "      <td>0</td>\n",
       "      <td>0</td>\n",
       "      <td>1</td>\n",
       "      <td>0</td>\n",
       "      <td>0</td>\n",
       "    </tr>\n",
       "    <tr>\n",
       "      <th>13</th>\n",
       "      <td>1</td>\n",
       "      <td>0</td>\n",
       "      <td>0</td>\n",
       "      <td>0</td>\n",
       "      <td>0</td>\n",
       "      <td>0</td>\n",
       "      <td>0</td>\n",
       "      <td>0</td>\n",
       "      <td>0</td>\n",
       "      <td>0</td>\n",
       "    </tr>\n",
       "    <tr>\n",
       "      <th>14</th>\n",
       "      <td>0</td>\n",
       "      <td>0</td>\n",
       "      <td>0</td>\n",
       "      <td>0</td>\n",
       "      <td>0</td>\n",
       "      <td>0</td>\n",
       "      <td>0</td>\n",
       "      <td>1</td>\n",
       "      <td>0</td>\n",
       "      <td>0</td>\n",
       "    </tr>\n",
       "    <tr>\n",
       "      <th>15</th>\n",
       "      <td>0</td>\n",
       "      <td>0</td>\n",
       "      <td>0</td>\n",
       "      <td>0</td>\n",
       "      <td>0</td>\n",
       "      <td>0</td>\n",
       "      <td>0</td>\n",
       "      <td>1</td>\n",
       "      <td>0</td>\n",
       "      <td>0</td>\n",
       "    </tr>\n",
       "    <tr>\n",
       "      <th>16</th>\n",
       "      <td>1</td>\n",
       "      <td>0</td>\n",
       "      <td>0</td>\n",
       "      <td>0</td>\n",
       "      <td>0</td>\n",
       "      <td>0</td>\n",
       "      <td>0</td>\n",
       "      <td>0</td>\n",
       "      <td>0</td>\n",
       "      <td>0</td>\n",
       "    </tr>\n",
       "    <tr>\n",
       "      <th>17</th>\n",
       "      <td>0</td>\n",
       "      <td>0</td>\n",
       "      <td>0</td>\n",
       "      <td>0</td>\n",
       "      <td>0</td>\n",
       "      <td>0</td>\n",
       "      <td>0</td>\n",
       "      <td>1</td>\n",
       "      <td>0</td>\n",
       "      <td>0</td>\n",
       "    </tr>\n",
       "    <tr>\n",
       "      <th>18</th>\n",
       "      <td>1</td>\n",
       "      <td>0</td>\n",
       "      <td>0</td>\n",
       "      <td>0</td>\n",
       "      <td>0</td>\n",
       "      <td>0</td>\n",
       "      <td>0</td>\n",
       "      <td>0</td>\n",
       "      <td>0</td>\n",
       "      <td>0</td>\n",
       "    </tr>\n",
       "    <tr>\n",
       "      <th>19</th>\n",
       "      <td>1</td>\n",
       "      <td>0</td>\n",
       "      <td>0</td>\n",
       "      <td>0</td>\n",
       "      <td>0</td>\n",
       "      <td>0</td>\n",
       "      <td>0</td>\n",
       "      <td>0</td>\n",
       "      <td>0</td>\n",
       "      <td>0</td>\n",
       "    </tr>\n",
       "    <tr>\n",
       "      <th>20</th>\n",
       "      <td>0</td>\n",
       "      <td>0</td>\n",
       "      <td>0</td>\n",
       "      <td>0</td>\n",
       "      <td>0</td>\n",
       "      <td>0</td>\n",
       "      <td>0</td>\n",
       "      <td>1</td>\n",
       "      <td>0</td>\n",
       "      <td>0</td>\n",
       "    </tr>\n",
       "    <tr>\n",
       "      <th>21</th>\n",
       "      <td>1</td>\n",
       "      <td>0</td>\n",
       "      <td>0</td>\n",
       "      <td>0</td>\n",
       "      <td>0</td>\n",
       "      <td>0</td>\n",
       "      <td>0</td>\n",
       "      <td>0</td>\n",
       "      <td>0</td>\n",
       "      <td>0</td>\n",
       "    </tr>\n",
       "    <tr>\n",
       "      <th>22</th>\n",
       "      <td>1</td>\n",
       "      <td>0</td>\n",
       "      <td>0</td>\n",
       "      <td>0</td>\n",
       "      <td>0</td>\n",
       "      <td>0</td>\n",
       "      <td>0</td>\n",
       "      <td>0</td>\n",
       "      <td>0</td>\n",
       "      <td>0</td>\n",
       "    </tr>\n",
       "    <tr>\n",
       "      <th>23</th>\n",
       "      <td>0</td>\n",
       "      <td>0</td>\n",
       "      <td>0</td>\n",
       "      <td>0</td>\n",
       "      <td>0</td>\n",
       "      <td>0</td>\n",
       "      <td>0</td>\n",
       "      <td>0</td>\n",
       "      <td>0</td>\n",
       "      <td>1</td>\n",
       "    </tr>\n",
       "    <tr>\n",
       "      <th>24</th>\n",
       "      <td>0</td>\n",
       "      <td>0</td>\n",
       "      <td>0</td>\n",
       "      <td>0</td>\n",
       "      <td>0</td>\n",
       "      <td>0</td>\n",
       "      <td>0</td>\n",
       "      <td>1</td>\n",
       "      <td>0</td>\n",
       "      <td>0</td>\n",
       "    </tr>\n",
       "    <tr>\n",
       "      <th>25</th>\n",
       "      <td>1</td>\n",
       "      <td>0</td>\n",
       "      <td>0</td>\n",
       "      <td>0</td>\n",
       "      <td>0</td>\n",
       "      <td>0</td>\n",
       "      <td>0</td>\n",
       "      <td>0</td>\n",
       "      <td>0</td>\n",
       "      <td>0</td>\n",
       "    </tr>\n",
       "    <tr>\n",
       "      <th>26</th>\n",
       "      <td>1</td>\n",
       "      <td>0</td>\n",
       "      <td>0</td>\n",
       "      <td>0</td>\n",
       "      <td>0</td>\n",
       "      <td>0</td>\n",
       "      <td>0</td>\n",
       "      <td>0</td>\n",
       "      <td>0</td>\n",
       "      <td>0</td>\n",
       "    </tr>\n",
       "    <tr>\n",
       "      <th>27</th>\n",
       "      <td>1</td>\n",
       "      <td>0</td>\n",
       "      <td>0</td>\n",
       "      <td>0</td>\n",
       "      <td>0</td>\n",
       "      <td>0</td>\n",
       "      <td>0</td>\n",
       "      <td>0</td>\n",
       "      <td>0</td>\n",
       "      <td>0</td>\n",
       "    </tr>\n",
       "    <tr>\n",
       "      <th>28</th>\n",
       "      <td>0</td>\n",
       "      <td>0</td>\n",
       "      <td>0</td>\n",
       "      <td>0</td>\n",
       "      <td>0</td>\n",
       "      <td>0</td>\n",
       "      <td>0</td>\n",
       "      <td>1</td>\n",
       "      <td>0</td>\n",
       "      <td>0</td>\n",
       "    </tr>\n",
       "    <tr>\n",
       "      <th>29</th>\n",
       "      <td>1</td>\n",
       "      <td>0</td>\n",
       "      <td>0</td>\n",
       "      <td>0</td>\n",
       "      <td>0</td>\n",
       "      <td>0</td>\n",
       "      <td>0</td>\n",
       "      <td>0</td>\n",
       "      <td>0</td>\n",
       "      <td>0</td>\n",
       "    </tr>\n",
       "    <tr>\n",
       "      <th>30</th>\n",
       "      <td>0</td>\n",
       "      <td>0</td>\n",
       "      <td>0</td>\n",
       "      <td>0</td>\n",
       "      <td>0</td>\n",
       "      <td>0</td>\n",
       "      <td>0</td>\n",
       "      <td>1</td>\n",
       "      <td>0</td>\n",
       "      <td>0</td>\n",
       "    </tr>\n",
       "    <tr>\n",
       "      <th>31</th>\n",
       "      <td>1</td>\n",
       "      <td>0</td>\n",
       "      <td>0</td>\n",
       "      <td>0</td>\n",
       "      <td>0</td>\n",
       "      <td>0</td>\n",
       "      <td>0</td>\n",
       "      <td>0</td>\n",
       "      <td>0</td>\n",
       "      <td>0</td>\n",
       "    </tr>\n",
       "    <tr>\n",
       "      <th>32</th>\n",
       "      <td>1</td>\n",
       "      <td>0</td>\n",
       "      <td>0</td>\n",
       "      <td>0</td>\n",
       "      <td>0</td>\n",
       "      <td>0</td>\n",
       "      <td>0</td>\n",
       "      <td>0</td>\n",
       "      <td>0</td>\n",
       "      <td>0</td>\n",
       "    </tr>\n",
       "    <tr>\n",
       "      <th>33</th>\n",
       "      <td>0</td>\n",
       "      <td>0</td>\n",
       "      <td>0</td>\n",
       "      <td>0</td>\n",
       "      <td>0</td>\n",
       "      <td>0</td>\n",
       "      <td>0</td>\n",
       "      <td>1</td>\n",
       "      <td>0</td>\n",
       "      <td>0</td>\n",
       "    </tr>\n",
       "    <tr>\n",
       "      <th>34</th>\n",
       "      <td>0</td>\n",
       "      <td>0</td>\n",
       "      <td>0</td>\n",
       "      <td>0</td>\n",
       "      <td>0</td>\n",
       "      <td>0</td>\n",
       "      <td>0</td>\n",
       "      <td>1</td>\n",
       "      <td>0</td>\n",
       "      <td>0</td>\n",
       "    </tr>\n",
       "    <tr>\n",
       "      <th>...</th>\n",
       "      <td>...</td>\n",
       "      <td>...</td>\n",
       "      <td>...</td>\n",
       "      <td>...</td>\n",
       "      <td>...</td>\n",
       "      <td>...</td>\n",
       "      <td>...</td>\n",
       "      <td>...</td>\n",
       "      <td>...</td>\n",
       "      <td>...</td>\n",
       "    </tr>\n",
       "    <tr>\n",
       "      <th>11167</th>\n",
       "      <td>1</td>\n",
       "      <td>0</td>\n",
       "      <td>0</td>\n",
       "      <td>0</td>\n",
       "      <td>0</td>\n",
       "      <td>0</td>\n",
       "      <td>0</td>\n",
       "      <td>0</td>\n",
       "      <td>0</td>\n",
       "      <td>0</td>\n",
       "    </tr>\n",
       "    <tr>\n",
       "      <th>11168</th>\n",
       "      <td>1</td>\n",
       "      <td>0</td>\n",
       "      <td>0</td>\n",
       "      <td>0</td>\n",
       "      <td>0</td>\n",
       "      <td>0</td>\n",
       "      <td>0</td>\n",
       "      <td>0</td>\n",
       "      <td>0</td>\n",
       "      <td>0</td>\n",
       "    </tr>\n",
       "    <tr>\n",
       "      <th>11169</th>\n",
       "      <td>1</td>\n",
       "      <td>0</td>\n",
       "      <td>0</td>\n",
       "      <td>0</td>\n",
       "      <td>0</td>\n",
       "      <td>0</td>\n",
       "      <td>0</td>\n",
       "      <td>0</td>\n",
       "      <td>0</td>\n",
       "      <td>0</td>\n",
       "    </tr>\n",
       "    <tr>\n",
       "      <th>11170</th>\n",
       "      <td>1</td>\n",
       "      <td>0</td>\n",
       "      <td>0</td>\n",
       "      <td>0</td>\n",
       "      <td>0</td>\n",
       "      <td>0</td>\n",
       "      <td>0</td>\n",
       "      <td>0</td>\n",
       "      <td>0</td>\n",
       "      <td>0</td>\n",
       "    </tr>\n",
       "    <tr>\n",
       "      <th>11171</th>\n",
       "      <td>1</td>\n",
       "      <td>0</td>\n",
       "      <td>0</td>\n",
       "      <td>0</td>\n",
       "      <td>0</td>\n",
       "      <td>0</td>\n",
       "      <td>0</td>\n",
       "      <td>0</td>\n",
       "      <td>0</td>\n",
       "      <td>0</td>\n",
       "    </tr>\n",
       "    <tr>\n",
       "      <th>11172</th>\n",
       "      <td>1</td>\n",
       "      <td>0</td>\n",
       "      <td>0</td>\n",
       "      <td>0</td>\n",
       "      <td>0</td>\n",
       "      <td>0</td>\n",
       "      <td>0</td>\n",
       "      <td>0</td>\n",
       "      <td>0</td>\n",
       "      <td>0</td>\n",
       "    </tr>\n",
       "    <tr>\n",
       "      <th>11173</th>\n",
       "      <td>1</td>\n",
       "      <td>0</td>\n",
       "      <td>0</td>\n",
       "      <td>0</td>\n",
       "      <td>0</td>\n",
       "      <td>0</td>\n",
       "      <td>0</td>\n",
       "      <td>0</td>\n",
       "      <td>0</td>\n",
       "      <td>0</td>\n",
       "    </tr>\n",
       "    <tr>\n",
       "      <th>11174</th>\n",
       "      <td>0</td>\n",
       "      <td>0</td>\n",
       "      <td>0</td>\n",
       "      <td>0</td>\n",
       "      <td>0</td>\n",
       "      <td>0</td>\n",
       "      <td>1</td>\n",
       "      <td>0</td>\n",
       "      <td>0</td>\n",
       "      <td>0</td>\n",
       "    </tr>\n",
       "    <tr>\n",
       "      <th>11175</th>\n",
       "      <td>0</td>\n",
       "      <td>0</td>\n",
       "      <td>0</td>\n",
       "      <td>0</td>\n",
       "      <td>0</td>\n",
       "      <td>0</td>\n",
       "      <td>1</td>\n",
       "      <td>0</td>\n",
       "      <td>0</td>\n",
       "      <td>0</td>\n",
       "    </tr>\n",
       "    <tr>\n",
       "      <th>11176</th>\n",
       "      <td>0</td>\n",
       "      <td>0</td>\n",
       "      <td>0</td>\n",
       "      <td>0</td>\n",
       "      <td>0</td>\n",
       "      <td>0</td>\n",
       "      <td>1</td>\n",
       "      <td>0</td>\n",
       "      <td>0</td>\n",
       "      <td>0</td>\n",
       "    </tr>\n",
       "    <tr>\n",
       "      <th>11177</th>\n",
       "      <td>0</td>\n",
       "      <td>0</td>\n",
       "      <td>0</td>\n",
       "      <td>0</td>\n",
       "      <td>0</td>\n",
       "      <td>0</td>\n",
       "      <td>1</td>\n",
       "      <td>0</td>\n",
       "      <td>0</td>\n",
       "      <td>0</td>\n",
       "    </tr>\n",
       "    <tr>\n",
       "      <th>11178</th>\n",
       "      <td>0</td>\n",
       "      <td>0</td>\n",
       "      <td>0</td>\n",
       "      <td>0</td>\n",
       "      <td>0</td>\n",
       "      <td>0</td>\n",
       "      <td>1</td>\n",
       "      <td>0</td>\n",
       "      <td>0</td>\n",
       "      <td>0</td>\n",
       "    </tr>\n",
       "    <tr>\n",
       "      <th>11179</th>\n",
       "      <td>0</td>\n",
       "      <td>0</td>\n",
       "      <td>0</td>\n",
       "      <td>0</td>\n",
       "      <td>0</td>\n",
       "      <td>0</td>\n",
       "      <td>1</td>\n",
       "      <td>0</td>\n",
       "      <td>0</td>\n",
       "      <td>0</td>\n",
       "    </tr>\n",
       "    <tr>\n",
       "      <th>11180</th>\n",
       "      <td>0</td>\n",
       "      <td>0</td>\n",
       "      <td>0</td>\n",
       "      <td>0</td>\n",
       "      <td>0</td>\n",
       "      <td>0</td>\n",
       "      <td>1</td>\n",
       "      <td>0</td>\n",
       "      <td>0</td>\n",
       "      <td>0</td>\n",
       "    </tr>\n",
       "    <tr>\n",
       "      <th>11181</th>\n",
       "      <td>0</td>\n",
       "      <td>0</td>\n",
       "      <td>0</td>\n",
       "      <td>0</td>\n",
       "      <td>0</td>\n",
       "      <td>0</td>\n",
       "      <td>1</td>\n",
       "      <td>0</td>\n",
       "      <td>0</td>\n",
       "      <td>0</td>\n",
       "    </tr>\n",
       "    <tr>\n",
       "      <th>11182</th>\n",
       "      <td>0</td>\n",
       "      <td>0</td>\n",
       "      <td>0</td>\n",
       "      <td>0</td>\n",
       "      <td>0</td>\n",
       "      <td>0</td>\n",
       "      <td>1</td>\n",
       "      <td>0</td>\n",
       "      <td>0</td>\n",
       "      <td>0</td>\n",
       "    </tr>\n",
       "    <tr>\n",
       "      <th>11183</th>\n",
       "      <td>0</td>\n",
       "      <td>0</td>\n",
       "      <td>0</td>\n",
       "      <td>0</td>\n",
       "      <td>0</td>\n",
       "      <td>0</td>\n",
       "      <td>1</td>\n",
       "      <td>0</td>\n",
       "      <td>0</td>\n",
       "      <td>0</td>\n",
       "    </tr>\n",
       "    <tr>\n",
       "      <th>11184</th>\n",
       "      <td>0</td>\n",
       "      <td>0</td>\n",
       "      <td>0</td>\n",
       "      <td>0</td>\n",
       "      <td>0</td>\n",
       "      <td>0</td>\n",
       "      <td>1</td>\n",
       "      <td>0</td>\n",
       "      <td>0</td>\n",
       "      <td>0</td>\n",
       "    </tr>\n",
       "    <tr>\n",
       "      <th>11185</th>\n",
       "      <td>0</td>\n",
       "      <td>0</td>\n",
       "      <td>0</td>\n",
       "      <td>0</td>\n",
       "      <td>0</td>\n",
       "      <td>0</td>\n",
       "      <td>1</td>\n",
       "      <td>0</td>\n",
       "      <td>0</td>\n",
       "      <td>0</td>\n",
       "    </tr>\n",
       "    <tr>\n",
       "      <th>11186</th>\n",
       "      <td>0</td>\n",
       "      <td>0</td>\n",
       "      <td>0</td>\n",
       "      <td>1</td>\n",
       "      <td>0</td>\n",
       "      <td>0</td>\n",
       "      <td>0</td>\n",
       "      <td>0</td>\n",
       "      <td>0</td>\n",
       "      <td>0</td>\n",
       "    </tr>\n",
       "    <tr>\n",
       "      <th>11187</th>\n",
       "      <td>0</td>\n",
       "      <td>0</td>\n",
       "      <td>0</td>\n",
       "      <td>0</td>\n",
       "      <td>0</td>\n",
       "      <td>0</td>\n",
       "      <td>1</td>\n",
       "      <td>0</td>\n",
       "      <td>0</td>\n",
       "      <td>0</td>\n",
       "    </tr>\n",
       "    <tr>\n",
       "      <th>11188</th>\n",
       "      <td>0</td>\n",
       "      <td>0</td>\n",
       "      <td>0</td>\n",
       "      <td>0</td>\n",
       "      <td>0</td>\n",
       "      <td>0</td>\n",
       "      <td>1</td>\n",
       "      <td>0</td>\n",
       "      <td>0</td>\n",
       "      <td>0</td>\n",
       "    </tr>\n",
       "    <tr>\n",
       "      <th>11189</th>\n",
       "      <td>0</td>\n",
       "      <td>0</td>\n",
       "      <td>0</td>\n",
       "      <td>0</td>\n",
       "      <td>0</td>\n",
       "      <td>0</td>\n",
       "      <td>1</td>\n",
       "      <td>0</td>\n",
       "      <td>0</td>\n",
       "      <td>0</td>\n",
       "    </tr>\n",
       "    <tr>\n",
       "      <th>11190</th>\n",
       "      <td>0</td>\n",
       "      <td>0</td>\n",
       "      <td>0</td>\n",
       "      <td>0</td>\n",
       "      <td>0</td>\n",
       "      <td>0</td>\n",
       "      <td>1</td>\n",
       "      <td>0</td>\n",
       "      <td>0</td>\n",
       "      <td>0</td>\n",
       "    </tr>\n",
       "    <tr>\n",
       "      <th>11191</th>\n",
       "      <td>0</td>\n",
       "      <td>0</td>\n",
       "      <td>0</td>\n",
       "      <td>0</td>\n",
       "      <td>0</td>\n",
       "      <td>0</td>\n",
       "      <td>1</td>\n",
       "      <td>0</td>\n",
       "      <td>0</td>\n",
       "      <td>0</td>\n",
       "    </tr>\n",
       "    <tr>\n",
       "      <th>11192</th>\n",
       "      <td>0</td>\n",
       "      <td>0</td>\n",
       "      <td>0</td>\n",
       "      <td>0</td>\n",
       "      <td>0</td>\n",
       "      <td>0</td>\n",
       "      <td>1</td>\n",
       "      <td>0</td>\n",
       "      <td>0</td>\n",
       "      <td>0</td>\n",
       "    </tr>\n",
       "    <tr>\n",
       "      <th>11193</th>\n",
       "      <td>0</td>\n",
       "      <td>0</td>\n",
       "      <td>0</td>\n",
       "      <td>0</td>\n",
       "      <td>0</td>\n",
       "      <td>0</td>\n",
       "      <td>1</td>\n",
       "      <td>0</td>\n",
       "      <td>0</td>\n",
       "      <td>0</td>\n",
       "    </tr>\n",
       "    <tr>\n",
       "      <th>11194</th>\n",
       "      <td>0</td>\n",
       "      <td>0</td>\n",
       "      <td>0</td>\n",
       "      <td>0</td>\n",
       "      <td>0</td>\n",
       "      <td>0</td>\n",
       "      <td>1</td>\n",
       "      <td>0</td>\n",
       "      <td>0</td>\n",
       "      <td>0</td>\n",
       "    </tr>\n",
       "    <tr>\n",
       "      <th>11195</th>\n",
       "      <td>0</td>\n",
       "      <td>0</td>\n",
       "      <td>0</td>\n",
       "      <td>0</td>\n",
       "      <td>0</td>\n",
       "      <td>0</td>\n",
       "      <td>1</td>\n",
       "      <td>0</td>\n",
       "      <td>0</td>\n",
       "      <td>0</td>\n",
       "    </tr>\n",
       "    <tr>\n",
       "      <th>11196</th>\n",
       "      <td>0</td>\n",
       "      <td>0</td>\n",
       "      <td>0</td>\n",
       "      <td>0</td>\n",
       "      <td>0</td>\n",
       "      <td>0</td>\n",
       "      <td>1</td>\n",
       "      <td>0</td>\n",
       "      <td>0</td>\n",
       "      <td>0</td>\n",
       "    </tr>\n",
       "    <tr>\n",
       "      <th>11197</th>\n",
       "      <td>0</td>\n",
       "      <td>0</td>\n",
       "      <td>0</td>\n",
       "      <td>0</td>\n",
       "      <td>0</td>\n",
       "      <td>0</td>\n",
       "      <td>1</td>\n",
       "      <td>0</td>\n",
       "      <td>0</td>\n",
       "      <td>0</td>\n",
       "    </tr>\n",
       "    <tr>\n",
       "      <th>11198</th>\n",
       "      <td>0</td>\n",
       "      <td>0</td>\n",
       "      <td>0</td>\n",
       "      <td>0</td>\n",
       "      <td>0</td>\n",
       "      <td>0</td>\n",
       "      <td>1</td>\n",
       "      <td>0</td>\n",
       "      <td>0</td>\n",
       "      <td>0</td>\n",
       "    </tr>\n",
       "    <tr>\n",
       "      <th>11199</th>\n",
       "      <td>0</td>\n",
       "      <td>0</td>\n",
       "      <td>0</td>\n",
       "      <td>0</td>\n",
       "      <td>0</td>\n",
       "      <td>0</td>\n",
       "      <td>1</td>\n",
       "      <td>0</td>\n",
       "      <td>0</td>\n",
       "      <td>0</td>\n",
       "    </tr>\n",
       "    <tr>\n",
       "      <th>11200</th>\n",
       "      <td>0</td>\n",
       "      <td>0</td>\n",
       "      <td>0</td>\n",
       "      <td>1</td>\n",
       "      <td>0</td>\n",
       "      <td>0</td>\n",
       "      <td>0</td>\n",
       "      <td>0</td>\n",
       "      <td>0</td>\n",
       "      <td>0</td>\n",
       "    </tr>\n",
       "    <tr>\n",
       "      <th>11201</th>\n",
       "      <td>0</td>\n",
       "      <td>0</td>\n",
       "      <td>0</td>\n",
       "      <td>0</td>\n",
       "      <td>0</td>\n",
       "      <td>0</td>\n",
       "      <td>1</td>\n",
       "      <td>0</td>\n",
       "      <td>0</td>\n",
       "      <td>0</td>\n",
       "    </tr>\n",
       "  </tbody>\n",
       "</table>\n",
       "<p>11202 rows × 10 columns</p>\n",
       "</div>"
      ],
      "text/plain": [
       "       внедорожник  кабриолет  компактвэн  купе  купе-хардтоп  лифтбек  \\\n",
       "0                0          0           0     0             0        0   \n",
       "1                0          0           0     0             0        0   \n",
       "2                0          0           0     0             0        0   \n",
       "3                1          0           0     0             0        0   \n",
       "4                1          0           0     0             0        0   \n",
       "5                1          0           0     0             0        0   \n",
       "6                1          0           0     0             0        0   \n",
       "7                1          0           0     0             0        0   \n",
       "8                1          0           0     0             0        0   \n",
       "9                0          0           0     0             0        0   \n",
       "10               0          0           0     0             0        0   \n",
       "11               0          0           0     0             0        0   \n",
       "12               0          0           0     0             0        0   \n",
       "13               1          0           0     0             0        0   \n",
       "14               0          0           0     0             0        0   \n",
       "15               0          0           0     0             0        0   \n",
       "16               1          0           0     0             0        0   \n",
       "17               0          0           0     0             0        0   \n",
       "18               1          0           0     0             0        0   \n",
       "19               1          0           0     0             0        0   \n",
       "20               0          0           0     0             0        0   \n",
       "21               1          0           0     0             0        0   \n",
       "22               1          0           0     0             0        0   \n",
       "23               0          0           0     0             0        0   \n",
       "24               0          0           0     0             0        0   \n",
       "25               1          0           0     0             0        0   \n",
       "26               1          0           0     0             0        0   \n",
       "27               1          0           0     0             0        0   \n",
       "28               0          0           0     0             0        0   \n",
       "29               1          0           0     0             0        0   \n",
       "30               0          0           0     0             0        0   \n",
       "31               1          0           0     0             0        0   \n",
       "32               1          0           0     0             0        0   \n",
       "33               0          0           0     0             0        0   \n",
       "34               0          0           0     0             0        0   \n",
       "...            ...        ...         ...   ...           ...      ...   \n",
       "11167            1          0           0     0             0        0   \n",
       "11168            1          0           0     0             0        0   \n",
       "11169            1          0           0     0             0        0   \n",
       "11170            1          0           0     0             0        0   \n",
       "11171            1          0           0     0             0        0   \n",
       "11172            1          0           0     0             0        0   \n",
       "11173            1          0           0     0             0        0   \n",
       "11174            0          0           0     0             0        0   \n",
       "11175            0          0           0     0             0        0   \n",
       "11176            0          0           0     0             0        0   \n",
       "11177            0          0           0     0             0        0   \n",
       "11178            0          0           0     0             0        0   \n",
       "11179            0          0           0     0             0        0   \n",
       "11180            0          0           0     0             0        0   \n",
       "11181            0          0           0     0             0        0   \n",
       "11182            0          0           0     0             0        0   \n",
       "11183            0          0           0     0             0        0   \n",
       "11184            0          0           0     0             0        0   \n",
       "11185            0          0           0     0             0        0   \n",
       "11186            0          0           0     1             0        0   \n",
       "11187            0          0           0     0             0        0   \n",
       "11188            0          0           0     0             0        0   \n",
       "11189            0          0           0     0             0        0   \n",
       "11190            0          0           0     0             0        0   \n",
       "11191            0          0           0     0             0        0   \n",
       "11192            0          0           0     0             0        0   \n",
       "11193            0          0           0     0             0        0   \n",
       "11194            0          0           0     0             0        0   \n",
       "11195            0          0           0     0             0        0   \n",
       "11196            0          0           0     0             0        0   \n",
       "11197            0          0           0     0             0        0   \n",
       "11198            0          0           0     0             0        0   \n",
       "11199            0          0           0     0             0        0   \n",
       "11200            0          0           0     1             0        0   \n",
       "11201            0          0           0     0             0        0   \n",
       "\n",
       "       родстер  седан  универсал  хэтчбек  \n",
       "0            0      1          0        0  \n",
       "1            0      1          0        0  \n",
       "2            0      1          0        0  \n",
       "3            0      0          0        0  \n",
       "4            0      0          0        0  \n",
       "5            0      0          0        0  \n",
       "6            0      0          0        0  \n",
       "7            0      0          0        0  \n",
       "8            0      0          0        0  \n",
       "9            0      1          0        0  \n",
       "10           0      1          0        0  \n",
       "11           0      0          0        1  \n",
       "12           0      1          0        0  \n",
       "13           0      0          0        0  \n",
       "14           0      1          0        0  \n",
       "15           0      1          0        0  \n",
       "16           0      0          0        0  \n",
       "17           0      1          0        0  \n",
       "18           0      0          0        0  \n",
       "19           0      0          0        0  \n",
       "20           0      1          0        0  \n",
       "21           0      0          0        0  \n",
       "22           0      0          0        0  \n",
       "23           0      0          0        1  \n",
       "24           0      1          0        0  \n",
       "25           0      0          0        0  \n",
       "26           0      0          0        0  \n",
       "27           0      0          0        0  \n",
       "28           0      1          0        0  \n",
       "29           0      0          0        0  \n",
       "30           0      1          0        0  \n",
       "31           0      0          0        0  \n",
       "32           0      0          0        0  \n",
       "33           0      1          0        0  \n",
       "34           0      1          0        0  \n",
       "...        ...    ...        ...      ...  \n",
       "11167        0      0          0        0  \n",
       "11168        0      0          0        0  \n",
       "11169        0      0          0        0  \n",
       "11170        0      0          0        0  \n",
       "11171        0      0          0        0  \n",
       "11172        0      0          0        0  \n",
       "11173        0      0          0        0  \n",
       "11174        1      0          0        0  \n",
       "11175        1      0          0        0  \n",
       "11176        1      0          0        0  \n",
       "11177        1      0          0        0  \n",
       "11178        1      0          0        0  \n",
       "11179        1      0          0        0  \n",
       "11180        1      0          0        0  \n",
       "11181        1      0          0        0  \n",
       "11182        1      0          0        0  \n",
       "11183        1      0          0        0  \n",
       "11184        1      0          0        0  \n",
       "11185        1      0          0        0  \n",
       "11186        0      0          0        0  \n",
       "11187        1      0          0        0  \n",
       "11188        1      0          0        0  \n",
       "11189        1      0          0        0  \n",
       "11190        1      0          0        0  \n",
       "11191        1      0          0        0  \n",
       "11192        1      0          0        0  \n",
       "11193        1      0          0        0  \n",
       "11194        1      0          0        0  \n",
       "11195        1      0          0        0  \n",
       "11196        1      0          0        0  \n",
       "11197        1      0          0        0  \n",
       "11198        1      0          0        0  \n",
       "11199        1      0          0        0  \n",
       "11200        0      0          0        0  \n",
       "11201        1      0          0        0  \n",
       "\n",
       "[11202 rows x 10 columns]"
      ]
     },
     "execution_count": 75,
     "metadata": {},
     "output_type": "execute_result"
    }
   ],
   "source": [
    "data.bodyType = data.bodyType.dropna().apply(lambda x: x.split()[0]).str.lower()\n",
    "train.bodyType = train.bodyType.dropna().apply(lambda x: x.split()[0]).str.lower()\n",
    "test.bodyType = test.bodyType.dropna().apply(lambda x: x.split()[0]).str.lower()\n",
    "\n",
    "\n",
    "pd.get_dummies(data.bodyType)"
   ]
  },
  {
   "cell_type": "code",
   "execution_count": 76,
   "metadata": {
    "scrolled": false
   },
   "outputs": [
    {
     "data": {
      "image/png": "[encoded data removed]",
      "text/plain": [
       "<Figure size 1152x504 with 3 Axes>"
      ]
     },
     "metadata": {},
     "output_type": "display_data"
    },
    {
     "data": {
      "image/png": "[encoded data removed]",
      "text/plain": [
       "<Figure size 1152x504 with 1 Axes>"
      ]
     },
     "metadata": {},
     "output_type": "display_data"
    }
   ],
   "source": [
    "f1('bodyType')\n",
    "f_2('bodyType')"
   ]
  },
  {
   "cell_type": "markdown",
   "metadata": {},
   "source": [
    "### brand"
   ]
  },
  {
   "cell_type": "code",
   "execution_count": 77,
   "metadata": {},
   "outputs": [
    {
     "data": {
      "text/plain": [
       "array(['BMW'], dtype=object)"
      ]
     },
     "execution_count": 77,
     "metadata": {},
     "output_type": "execute_result"
    }
   ],
   "source": [
    "test.brand.unique()"
   ]
  },
  {
   "cell_type": "code",
   "execution_count": 78,
   "metadata": {},
   "outputs": [
    {
     "data": {
      "image/png": "[encoded data removed]",
      "text/plain": [
       "<Figure size 1152x504 with 3 Axes>"
      ]
     },
     "metadata": {},
     "output_type": "display_data"
    },
    {
     "data": {
      "image/png": "[encoded data removed]",
      "text/plain": [
       "<Figure size 1152x504 with 1 Axes>"
      ]
     },
     "metadata": {},
     "output_type": "display_data"
    }
   ],
   "source": [
    "f1('brand')\n",
    "f_2('brand')"
   ]
  },
  {
   "cell_type": "markdown",
   "metadata": {},
   "source": [
    "### color"
   ]
  },
  {
   "cell_type": "code",
   "execution_count": 79,
   "metadata": {},
   "outputs": [],
   "source": [
    "color_codes = {\n",
    "    '040001': 'чёрный',\n",
    "    'FAFBFB': 'белый', \n",
    "    '0000CC': 'синий', \n",
    "    '200204': 'коричневый', \n",
    "    'EE1D19': 'красный', \n",
    "    'CACECB': 'серый',\n",
    "    'C49648': 'бежевый', \n",
    "    '97948F': 'серебристый', \n",
    "    'FFD600': 'золотистый', \n",
    "    'FF8649': 'оранжевый', \n",
    "    '22A0F8': 'голубой',\n",
    "    'FFC0CB': 'пурпурный', \n",
    "    'DEA522': 'жёлтый', \n",
    "    '007F00': 'зелёный', \n",
    "    '660099': 'фиолетовый',\n",
    "    '4A2197': 'фиолетовый'}"
   ]
  },
  {
   "cell_type": "code",
   "execution_count": 80,
   "metadata": {
    "scrolled": true
   },
   "outputs": [
    {
     "data": {
      "text/plain": [
       "array(['FF8649', 'FAFBFB', 'EE1D19', '040001', '0000CC', '97948F',\n",
       "       '22A0F8', 'CACECB', '200204', '660099', 'C49648', 'FFD600',\n",
       "       '007F00', '4A2197', 'DEA522', 'FFC0CB'], dtype=object)"
      ]
     },
     "execution_count": 80,
     "metadata": {},
     "output_type": "execute_result"
    }
   ],
   "source": [
    "train.color.unique()"
   ]
  },
  {
   "cell_type": "code",
   "execution_count": 81,
   "metadata": {},
   "outputs": [
    {
     "data": {
      "text/plain": [
       "array(['чёрный', 'белый', 'синий', 'коричневый', 'красный', 'серый',\n",
       "       'бежевый', 'серебристый', 'золотистый', 'оранжевый', 'голубой',\n",
       "       'пурпурный', 'жёлтый', 'зелёный', 'фиолетовый'], dtype=object)"
      ]
     },
     "execution_count": 81,
     "metadata": {},
     "output_type": "execute_result"
    }
   ],
   "source": [
    "test.color.unique()"
   ]
  },
  {
   "cell_type": "code",
   "execution_count": 82,
   "metadata": {},
   "outputs": [],
   "source": [
    "data.color = data.color.map(color_codes)"
   ]
  },
  {
   "cell_type": "code",
   "execution_count": 86,
   "metadata": {},
   "outputs": [
    {
     "data": {
      "text/html": [
       "<div>\n",
       "<style scoped>\n",
       "    .dataframe tbody tr th:only-of-type {\n",
       "        vertical-align: middle;\n",
       "    }\n",
       "\n",
       "    .dataframe tbody tr th {\n",
       "        vertical-align: top;\n",
       "    }\n",
       "\n",
       "    .dataframe thead th {\n",
       "        text-align: right;\n",
       "    }\n",
       "</style>\n",
       "<table border=\"1\" class=\"dataframe\">\n",
       "  <thead>\n",
       "    <tr style=\"text-align: right;\">\n",
       "      <th></th>\n",
       "      <th>бежевый</th>\n",
       "      <th>белый</th>\n",
       "      <th>голубой</th>\n",
       "      <th>жёлтый</th>\n",
       "      <th>зелёный</th>\n",
       "      <th>золотистый</th>\n",
       "      <th>коричневый</th>\n",
       "      <th>красный</th>\n",
       "      <th>оранжевый</th>\n",
       "      <th>пурпурный</th>\n",
       "      <th>серебристый</th>\n",
       "      <th>серый</th>\n",
       "      <th>синий</th>\n",
       "      <th>фиолетовый</th>\n",
       "      <th>чёрный</th>\n",
       "    </tr>\n",
       "  </thead>\n",
       "  <tbody>\n",
       "    <tr>\n",
       "      <th>0</th>\n",
       "      <td>0</td>\n",
       "      <td>0</td>\n",
       "      <td>0</td>\n",
       "      <td>0</td>\n",
       "      <td>0</td>\n",
       "      <td>0</td>\n",
       "      <td>0</td>\n",
       "      <td>0</td>\n",
       "      <td>0</td>\n",
       "      <td>0</td>\n",
       "      <td>0</td>\n",
       "      <td>0</td>\n",
       "      <td>0</td>\n",
       "      <td>0</td>\n",
       "      <td>0</td>\n",
       "    </tr>\n",
       "    <tr>\n",
       "      <th>1</th>\n",
       "      <td>0</td>\n",
       "      <td>0</td>\n",
       "      <td>0</td>\n",
       "      <td>0</td>\n",
       "      <td>0</td>\n",
       "      <td>0</td>\n",
       "      <td>0</td>\n",
       "      <td>0</td>\n",
       "      <td>0</td>\n",
       "      <td>0</td>\n",
       "      <td>0</td>\n",
       "      <td>0</td>\n",
       "      <td>0</td>\n",
       "      <td>0</td>\n",
       "      <td>0</td>\n",
       "    </tr>\n",
       "    <tr>\n",
       "      <th>2</th>\n",
       "      <td>0</td>\n",
       "      <td>0</td>\n",
       "      <td>0</td>\n",
       "      <td>0</td>\n",
       "      <td>0</td>\n",
       "      <td>0</td>\n",
       "      <td>0</td>\n",
       "      <td>0</td>\n",
       "      <td>0</td>\n",
       "      <td>0</td>\n",
       "      <td>0</td>\n",
       "      <td>0</td>\n",
       "      <td>0</td>\n",
       "      <td>0</td>\n",
       "      <td>0</td>\n",
       "    </tr>\n",
       "    <tr>\n",
       "      <th>3</th>\n",
       "      <td>0</td>\n",
       "      <td>0</td>\n",
       "      <td>0</td>\n",
       "      <td>0</td>\n",
       "      <td>0</td>\n",
       "      <td>0</td>\n",
       "      <td>0</td>\n",
       "      <td>0</td>\n",
       "      <td>0</td>\n",
       "      <td>0</td>\n",
       "      <td>0</td>\n",
       "      <td>0</td>\n",
       "      <td>0</td>\n",
       "      <td>0</td>\n",
       "      <td>0</td>\n",
       "    </tr>\n",
       "    <tr>\n",
       "      <th>4</th>\n",
       "      <td>0</td>\n",
       "      <td>0</td>\n",
       "      <td>0</td>\n",
       "      <td>0</td>\n",
       "      <td>0</td>\n",
       "      <td>0</td>\n",
       "      <td>0</td>\n",
       "      <td>0</td>\n",
       "      <td>0</td>\n",
       "      <td>0</td>\n",
       "      <td>0</td>\n",
       "      <td>0</td>\n",
       "      <td>0</td>\n",
       "      <td>0</td>\n",
       "      <td>0</td>\n",
       "    </tr>\n",
       "  </tbody>\n",
       "</table>\n",
       "</div>"
      ],
      "text/plain": [
       "   бежевый  белый  голубой  жёлтый  зелёный  золотистый  коричневый  красный  \\\n",
       "0        0      0        0       0        0           0           0        0   \n",
       "1        0      0        0       0        0           0           0        0   \n",
       "2        0      0        0       0        0           0           0        0   \n",
       "3        0      0        0       0        0           0           0        0   \n",
       "4        0      0        0       0        0           0           0        0   \n",
       "\n",
       "   оранжевый  пурпурный  серебристый  серый  синий  фиолетовый  чёрный  \n",
       "0          0          0            0      0      0           0       0  \n",
       "1          0          0            0      0      0           0       0  \n",
       "2          0          0            0      0      0           0       0  \n",
       "3          0          0            0      0      0           0       0  \n",
       "4          0          0            0      0      0           0       0  "
      ]
     },
     "execution_count": 86,
     "metadata": {},
     "output_type": "execute_result"
    }
   ],
   "source": [
    "pd.get_dummies(data.color)[:5]"
   ]
  },
  {
   "cell_type": "code",
   "execution_count": 87,
   "metadata": {},
   "outputs": [
    {
     "data": {
      "image/png": "[encoded data removed]",
      "text/plain": [
       "<Figure size 1152x504 with 3 Axes>"
      ]
     },
     "metadata": {},
     "output_type": "display_data"
    }
   ],
   "source": [
    "plt.figure(figsize=(16,7))\n",
    "\n",
    "ax1 = plt.subplot(131)\n",
    "sns.countplot(y=train.color,ax = ax1)\n",
    "ax1.set_xscale('log')\n",
    "ax1.set_title('train')\n",
    "\n",
    "ax2 = plt.subplot(132, sharey=ax1)\n",
    "sns.countplot(y=test.color,ax = ax2)\n",
    "plt.setp(ax2.get_yticklabels(), visible=False)\n",
    "ax2.set_xscale('log')\n",
    "ax2.set_title('test')\n",
    "\n",
    "ax3 = plt.subplot(133, sharey=ax1)\n",
    "sns.countplot(y=data.color,ax = ax3)\n",
    "plt.setp(ax3.get_yticklabels(), visible=False)\n",
    "ax3.set_xscale('log')\n",
    "ax3.set_title('train & test');"
   ]
  },
  {
   "cell_type": "code",
   "execution_count": 88,
   "metadata": {},
   "outputs": [
    {
     "data": {
      "text/plain": [
       "<matplotlib.axes._subplots.AxesSubplot at 0x172709e8>"
      ]
     },
     "execution_count": 88,
     "metadata": {},
     "output_type": "execute_result"
    },
    {
     "data": {
      "image/png": "[encoded data removed]",
      "text/plain": [
       "<Figure size 432x288 with 1 Axes>"
      ]
     },
     "metadata": {},
     "output_type": "display_data"
    }
   ],
   "source": [
    "ttt = train.color.dropna()\n",
    "\n",
    "fig = plt.figure()\n",
    "# ax = fig.add_axes([0, 0, 1, 1])\n",
    "# ax.set_xscale( 'log' )\n",
    "sns.countplot(y=ttt)"
   ]
  },
  {
   "cell_type": "code",
   "execution_count": 89,
   "metadata": {},
   "outputs": [
    {
     "data": {
      "text/plain": [
       "<matplotlib.axes._axes.Axes at 0x1ac837f0>"
      ]
     },
     "execution_count": 89,
     "metadata": {},
     "output_type": "execute_result"
    },
    {
     "data": {
      "image/png": "[encoded data removed]",
      "text/plain": [
       "<Figure size 432x288 with 1 Axes>"
      ]
     },
     "metadata": {},
     "output_type": "display_data"
    }
   ],
   "source": [
    "fig = plt.figure()\n",
    "ax = fig.add_axes([0, 0, 1, 1])\n",
    "ax.set_xscale( 'log' )\n",
    "sns.boxplot(x = train.price, y=ttt)"
   ]
  },
  {
   "cell_type": "markdown",
   "metadata": {},
   "source": [
    "### fuelType"
   ]
  },
  {
   "cell_type": "code",
   "execution_count": 34,
   "metadata": {},
   "outputs": [
    {
     "data": {
      "text/plain": [
       "array(['дизель', 'бензин', 'гибрид', 'электро'], dtype=object)"
      ]
     },
     "execution_count": 34,
     "metadata": {},
     "output_type": "execute_result"
    }
   ],
   "source": [
    "data.fuelType.unique()"
   ]
  },
  {
   "cell_type": "markdown",
   "metadata": {},
   "source": [
    "Очевидно, что категория 'универсал' - это ошибка."
   ]
  },
  {
   "cell_type": "code",
   "execution_count": null,
   "metadata": {},
   "outputs": [],
   "source": []
  },
  {
   "cell_type": "code",
   "execution_count": 35,
   "metadata": {},
   "outputs": [],
   "source": [
    "to_drop = data.index[data.fuelType=='универсал']\n",
    "data.drop(index=to_drop,inplace=True)"
   ]
  },
  {
   "cell_type": "code",
   "execution_count": 38,
   "metadata": {},
   "outputs": [
    {
     "data": {
      "image/png": "[encoded data removed]",
      "text/plain": [
       "<Figure size 1152x504 with 3 Axes>"
      ]
     },
     "metadata": {},
     "output_type": "display_data"
    },
    {
     "data": {
      "image/png": "[encoded data removed]",
      "text/plain": [
       "<Figure size 1152x504 with 1 Axes>"
      ]
     },
     "metadata": {},
     "output_type": "display_data"
    }
   ],
   "source": [
    "f1('fuelType')\n",
    "f_2('fuelType')"
   ]
  },
  {
   "cell_type": "code",
   "execution_count": 39,
   "metadata": {},
   "outputs": [
    {
     "data": {
      "text/html": [
       "<div>\n",
       "<style scoped>\n",
       "    .dataframe tbody tr th:only-of-type {\n",
       "        vertical-align: middle;\n",
       "    }\n",
       "\n",
       "    .dataframe tbody tr th {\n",
       "        vertical-align: top;\n",
       "    }\n",
       "\n",
       "    .dataframe thead th {\n",
       "        text-align: right;\n",
       "    }\n",
       "</style>\n",
       "<table border=\"1\" class=\"dataframe\">\n",
       "  <thead>\n",
       "    <tr style=\"text-align: right;\">\n",
       "      <th></th>\n",
       "      <th>бензин</th>\n",
       "      <th>гибрид</th>\n",
       "      <th>дизель</th>\n",
       "      <th>электро</th>\n",
       "    </tr>\n",
       "  </thead>\n",
       "  <tbody>\n",
       "    <tr>\n",
       "      <th>0</th>\n",
       "      <td>0</td>\n",
       "      <td>0</td>\n",
       "      <td>1</td>\n",
       "      <td>0</td>\n",
       "    </tr>\n",
       "    <tr>\n",
       "      <th>1</th>\n",
       "      <td>0</td>\n",
       "      <td>0</td>\n",
       "      <td>1</td>\n",
       "      <td>0</td>\n",
       "    </tr>\n",
       "    <tr>\n",
       "      <th>2</th>\n",
       "      <td>1</td>\n",
       "      <td>0</td>\n",
       "      <td>0</td>\n",
       "      <td>0</td>\n",
       "    </tr>\n",
       "    <tr>\n",
       "      <th>3</th>\n",
       "      <td>0</td>\n",
       "      <td>0</td>\n",
       "      <td>1</td>\n",
       "      <td>0</td>\n",
       "    </tr>\n",
       "    <tr>\n",
       "      <th>4</th>\n",
       "      <td>0</td>\n",
       "      <td>0</td>\n",
       "      <td>1</td>\n",
       "      <td>0</td>\n",
       "    </tr>\n",
       "  </tbody>\n",
       "</table>\n",
       "</div>"
      ],
      "text/plain": [
       "   бензин  гибрид  дизель  электро\n",
       "0       0       0       1        0\n",
       "1       0       0       1        0\n",
       "2       1       0       0        0\n",
       "3       0       0       1        0\n",
       "4       0       0       1        0"
      ]
     },
     "execution_count": 39,
     "metadata": {},
     "output_type": "execute_result"
    }
   ],
   "source": [
    "pd.get_dummies(data.fuelType)[:5]"
   ]
  },
  {
   "cell_type": "markdown",
   "metadata": {},
   "source": [
    "### modelDate"
   ]
  },
  {
   "cell_type": "code",
   "execution_count": 41,
   "metadata": {},
   "outputs": [
    {
     "data": {
      "text/plain": [
       "array([2016., 2018., 2009., 2014., 2013., 2010., 2006., 2011., 2007.,\n",
       "       2005., 2008., 2000., 2012., 2015., 2017., 2002., 2001., 1999.,\n",
       "       2003., 1998., 2019., 1990., 1995., 2004., 1987., 1981., 1994.,\n",
       "       1986., 1982., 1975., 1977., 1966., 1937., 1936., 1949., 2020.,\n",
       "       1976., 1972., 1989., 1968., 1988., 1997.])"
      ]
     },
     "execution_count": 41,
     "metadata": {},
     "output_type": "execute_result"
    }
   ],
   "source": [
    "data.modelDate.dropna().unique()"
   ]
  },
  {
   "cell_type": "code",
   "execution_count": 45,
   "metadata": {},
   "outputs": [
    {
     "data": {
      "text/plain": [
       "0    2016\n",
       "1    2018\n",
       "2    2009\n",
       "3    2014\n",
       "4    2014\n",
       "Name: modelDate, dtype: int32"
      ]
     },
     "execution_count": 45,
     "metadata": {},
     "output_type": "execute_result"
    }
   ],
   "source": [
    "data.modelDate.dropna().astype(int)[:5]"
   ]
  },
  {
   "cell_type": "code",
   "execution_count": 44,
   "metadata": {},
   "outputs": [
    {
     "data": {
      "text/plain": [
       "<matplotlib.axes._axes.Axes at 0xd224a90>"
      ]
     },
     "execution_count": 44,
     "metadata": {},
     "output_type": "execute_result"
    },
    {
     "data": {
      "image/png": "[encoded data removed]",
      "text/plain": [
       "<Figure size 1080x720 with 1 Axes>"
      ]
     },
     "metadata": {},
     "output_type": "display_data"
    }
   ],
   "source": [
    "ttt = data.modelDate.dropna()\n",
    "\n",
    "fig = plt.figure(figsize=(15,10))\n",
    "ax = fig.add_axes([0, 0, 1, 1])\n",
    "ax.set_xscale( 'log' )\n",
    "sns.countplot(y=ttt)"
   ]
  },
  {
   "cell_type": "code",
   "execution_count": 47,
   "metadata": {},
   "outputs": [
    {
     "name": "stderr",
     "output_type": "stream",
     "text": [
      "C:\\Users\\Samsung\\Anaconda3\\lib\\site-packages\\matplotlib\\ticker.py:2198: UserWarning: Data has no positive values, and therefore cannot be log-scaled.\n",
      "  \"Data has no positive values, and therefore cannot be \"\n",
      "C:\\Users\\Samsung\\Anaconda3\\lib\\site-packages\\matplotlib\\ticker.py:2198: UserWarning: Data has no positive values, and therefore cannot be log-scaled.\n",
      "  \"Data has no positive values, and therefore cannot be \"\n",
      "C:\\Users\\Samsung\\Anaconda3\\lib\\site-packages\\matplotlib\\axes\\_base.py:3129: UserWarning: Attempted to set non-positive xlimits for log-scale axis; invalid limits will be ignored.\n",
      "  'Attempted to set non-positive xlimits for log-scale axis; '\n"
     ]
    },
    {
     "ename": "KeyboardInterrupt",
     "evalue": "",
     "output_type": "error",
     "traceback": [
      "\u001b[1;31m---------------------------------------------------------------------------\u001b[0m",
      "\u001b[1;31mKeyboardInterrupt\u001b[0m                         Traceback (most recent call last)",
      "\u001b[1;32m<ipython-input-47-fd90b3ba2c90>\u001b[0m in \u001b[0;36m<module>\u001b[1;34m()\u001b[0m\n\u001b[0;32m      2\u001b[0m \u001b[0max\u001b[0m \u001b[1;33m=\u001b[0m \u001b[0mfig\u001b[0m\u001b[1;33m.\u001b[0m\u001b[0madd_axes\u001b[0m\u001b[1;33m(\u001b[0m\u001b[1;33m[\u001b[0m\u001b[1;36m0\u001b[0m\u001b[1;33m,\u001b[0m \u001b[1;36m0\u001b[0m\u001b[1;33m,\u001b[0m \u001b[1;36m1\u001b[0m\u001b[1;33m,\u001b[0m \u001b[1;36m1\u001b[0m\u001b[1;33m]\u001b[0m\u001b[1;33m)\u001b[0m\u001b[1;33m\u001b[0m\u001b[0m\n\u001b[0;32m      3\u001b[0m \u001b[0max\u001b[0m\u001b[1;33m.\u001b[0m\u001b[0mset_xscale\u001b[0m\u001b[1;33m(\u001b[0m \u001b[1;34m'log'\u001b[0m \u001b[1;33m)\u001b[0m\u001b[1;33m\u001b[0m\u001b[0m\n\u001b[1;32m----> 4\u001b[1;33m \u001b[0msns\u001b[0m\u001b[1;33m.\u001b[0m\u001b[0mboxplot\u001b[0m\u001b[1;33m(\u001b[0m\u001b[0mx\u001b[0m \u001b[1;33m=\u001b[0m \u001b[0mdata\u001b[0m\u001b[1;33m.\u001b[0m\u001b[0mprice\u001b[0m\u001b[1;33m,\u001b[0m \u001b[0my\u001b[0m\u001b[1;33m=\u001b[0m\u001b[0mttt\u001b[0m\u001b[1;33m)\u001b[0m\u001b[1;33m\u001b[0m\u001b[0m\n\u001b[0m",
      "\u001b[1;32m~\\Anaconda3\\lib\\site-packages\\seaborn\\categorical.py\u001b[0m in \u001b[0;36mboxplot\u001b[1;34m(x, y, hue, data, order, hue_order, orient, color, palette, saturation, width, dodge, fliersize, linewidth, whis, notch, ax, **kwargs)\u001b[0m\n\u001b[0;32m   2215\u001b[0m     \u001b[0mkwargs\u001b[0m\u001b[1;33m.\u001b[0m\u001b[0mupdate\u001b[0m\u001b[1;33m(\u001b[0m\u001b[0mdict\u001b[0m\u001b[1;33m(\u001b[0m\u001b[0mwhis\u001b[0m\u001b[1;33m=\u001b[0m\u001b[0mwhis\u001b[0m\u001b[1;33m,\u001b[0m \u001b[0mnotch\u001b[0m\u001b[1;33m=\u001b[0m\u001b[0mnotch\u001b[0m\u001b[1;33m)\u001b[0m\u001b[1;33m)\u001b[0m\u001b[1;33m\u001b[0m\u001b[0m\n\u001b[0;32m   2216\u001b[0m \u001b[1;33m\u001b[0m\u001b[0m\n\u001b[1;32m-> 2217\u001b[1;33m     \u001b[0mplotter\u001b[0m\u001b[1;33m.\u001b[0m\u001b[0mplot\u001b[0m\u001b[1;33m(\u001b[0m\u001b[0max\u001b[0m\u001b[1;33m,\u001b[0m \u001b[0mkwargs\u001b[0m\u001b[1;33m)\u001b[0m\u001b[1;33m\u001b[0m\u001b[0m\n\u001b[0m\u001b[0;32m   2218\u001b[0m     \u001b[1;32mreturn\u001b[0m \u001b[0max\u001b[0m\u001b[1;33m\u001b[0m\u001b[0m\n\u001b[0;32m   2219\u001b[0m \u001b[1;33m\u001b[0m\u001b[0m\n",
      "\u001b[1;32m~\\Anaconda3\\lib\\site-packages\\seaborn\\categorical.py\u001b[0m in \u001b[0;36mplot\u001b[1;34m(self, ax, boxplot_kws)\u001b[0m\n\u001b[0;32m    542\u001b[0m     \u001b[1;32mdef\u001b[0m \u001b[0mplot\u001b[0m\u001b[1;33m(\u001b[0m\u001b[0mself\u001b[0m\u001b[1;33m,\u001b[0m \u001b[0max\u001b[0m\u001b[1;33m,\u001b[0m \u001b[0mboxplot_kws\u001b[0m\u001b[1;33m)\u001b[0m\u001b[1;33m:\u001b[0m\u001b[1;33m\u001b[0m\u001b[0m\n\u001b[0;32m    543\u001b[0m         \u001b[1;34m\"\"\"Make the plot.\"\"\"\u001b[0m\u001b[1;33m\u001b[0m\u001b[0m\n\u001b[1;32m--> 544\u001b[1;33m         \u001b[0mself\u001b[0m\u001b[1;33m.\u001b[0m\u001b[0mdraw_boxplot\u001b[0m\u001b[1;33m(\u001b[0m\u001b[0max\u001b[0m\u001b[1;33m,\u001b[0m \u001b[0mboxplot_kws\u001b[0m\u001b[1;33m)\u001b[0m\u001b[1;33m\u001b[0m\u001b[0m\n\u001b[0m\u001b[0;32m    545\u001b[0m         \u001b[0mself\u001b[0m\u001b[1;33m.\u001b[0m\u001b[0mannotate_axes\u001b[0m\u001b[1;33m(\u001b[0m\u001b[0max\u001b[0m\u001b[1;33m)\u001b[0m\u001b[1;33m\u001b[0m\u001b[0m\n\u001b[0;32m    546\u001b[0m         \u001b[1;32mif\u001b[0m \u001b[0mself\u001b[0m\u001b[1;33m.\u001b[0m\u001b[0morient\u001b[0m \u001b[1;33m==\u001b[0m \u001b[1;34m\"h\"\u001b[0m\u001b[1;33m:\u001b[0m\u001b[1;33m\u001b[0m\u001b[0m\n",
      "\u001b[1;32m~\\Anaconda3\\lib\\site-packages\\seaborn\\categorical.py\u001b[0m in \u001b[0;36mdraw_boxplot\u001b[1;34m(self, ax, kws)\u001b[0m\n\u001b[0;32m    481\u001b[0m                                          **kws)\n\u001b[0;32m    482\u001b[0m                 \u001b[0mcolor\u001b[0m \u001b[1;33m=\u001b[0m \u001b[0mself\u001b[0m\u001b[1;33m.\u001b[0m\u001b[0mcolors\u001b[0m\u001b[1;33m[\u001b[0m\u001b[0mi\u001b[0m\u001b[1;33m]\u001b[0m\u001b[1;33m\u001b[0m\u001b[0m\n\u001b[1;32m--> 483\u001b[1;33m                 \u001b[0mself\u001b[0m\u001b[1;33m.\u001b[0m\u001b[0mrestyle_boxplot\u001b[0m\u001b[1;33m(\u001b[0m\u001b[0martist_dict\u001b[0m\u001b[1;33m,\u001b[0m \u001b[0mcolor\u001b[0m\u001b[1;33m,\u001b[0m \u001b[0mprops\u001b[0m\u001b[1;33m)\u001b[0m\u001b[1;33m\u001b[0m\u001b[0m\n\u001b[0m\u001b[0;32m    484\u001b[0m             \u001b[1;32melse\u001b[0m\u001b[1;33m:\u001b[0m\u001b[1;33m\u001b[0m\u001b[0m\n\u001b[0;32m    485\u001b[0m                 \u001b[1;31m# Draw nested groups of boxes\u001b[0m\u001b[1;33m\u001b[0m\u001b[1;33m\u001b[0m\u001b[0m\n",
      "\u001b[1;32m~\\Anaconda3\\lib\\site-packages\\seaborn\\categorical.py\u001b[0m in \u001b[0;36mrestyle_boxplot\u001b[1;34m(self, artist_dict, color, props)\u001b[0m\n\u001b[0;32m    537\u001b[0m                             \u001b[0mmarker\u001b[0m\u001b[1;33m=\u001b[0m\u001b[1;34m\"d\"\u001b[0m\u001b[1;33m,\u001b[0m\u001b[1;33m\u001b[0m\u001b[0m\n\u001b[0;32m    538\u001b[0m                             \u001b[0mmarkeredgecolor\u001b[0m\u001b[1;33m=\u001b[0m\u001b[0mself\u001b[0m\u001b[1;33m.\u001b[0m\u001b[0mgray\u001b[0m\u001b[1;33m,\u001b[0m\u001b[1;33m\u001b[0m\u001b[0m\n\u001b[1;32m--> 539\u001b[1;33m                             markersize=self.fliersize))\n\u001b[0m\u001b[0;32m    540\u001b[0m             \u001b[0mfly\u001b[0m\u001b[1;33m.\u001b[0m\u001b[0mupdate\u001b[0m\u001b[1;33m(\u001b[0m\u001b[0mprops\u001b[0m\u001b[1;33m[\u001b[0m\u001b[1;34m\"flier\"\u001b[0m\u001b[1;33m]\u001b[0m\u001b[1;33m)\u001b[0m\u001b[1;33m\u001b[0m\u001b[0m\n\u001b[0;32m    541\u001b[0m \u001b[1;33m\u001b[0m\u001b[0m\n",
      "\u001b[1;32m~\\Anaconda3\\lib\\site-packages\\matplotlib\\artist.py\u001b[0m in \u001b[0;36mupdate\u001b[1;34m(self, props)\u001b[0m\n\u001b[0;32m    886\u001b[0m         \u001b[1;32mtry\u001b[0m\u001b[1;33m:\u001b[0m\u001b[1;33m\u001b[0m\u001b[0m\n\u001b[0;32m    887\u001b[0m             ret = [_update_property(self, k, v)\n\u001b[1;32m--> 888\u001b[1;33m                    for k, v in props.items()]\n\u001b[0m\u001b[0;32m    889\u001b[0m         \u001b[1;32mfinally\u001b[0m\u001b[1;33m:\u001b[0m\u001b[1;33m\u001b[0m\u001b[0m\n\u001b[0;32m    890\u001b[0m             \u001b[0mself\u001b[0m\u001b[1;33m.\u001b[0m\u001b[0meventson\u001b[0m \u001b[1;33m=\u001b[0m \u001b[0mstore\u001b[0m\u001b[1;33m\u001b[0m\u001b[0m\n",
      "\u001b[1;32m~\\Anaconda3\\lib\\site-packages\\matplotlib\\artist.py\u001b[0m in \u001b[0;36m<listcomp>\u001b[1;34m(.0)\u001b[0m\n\u001b[0;32m    886\u001b[0m         \u001b[1;32mtry\u001b[0m\u001b[1;33m:\u001b[0m\u001b[1;33m\u001b[0m\u001b[0m\n\u001b[0;32m    887\u001b[0m             ret = [_update_property(self, k, v)\n\u001b[1;32m--> 888\u001b[1;33m                    for k, v in props.items()]\n\u001b[0m\u001b[0;32m    889\u001b[0m         \u001b[1;32mfinally\u001b[0m\u001b[1;33m:\u001b[0m\u001b[1;33m\u001b[0m\u001b[0m\n\u001b[0;32m    890\u001b[0m             \u001b[0mself\u001b[0m\u001b[1;33m.\u001b[0m\u001b[0meventson\u001b[0m \u001b[1;33m=\u001b[0m \u001b[0mstore\u001b[0m\u001b[1;33m\u001b[0m\u001b[0m\n",
      "\u001b[1;32m~\\Anaconda3\\lib\\site-packages\\matplotlib\\artist.py\u001b[0m in \u001b[0;36m_update_property\u001b[1;34m(self, k, v)\u001b[0m\n\u001b[0;32m    880\u001b[0m                 \u001b[1;32mif\u001b[0m \u001b[1;32mnot\u001b[0m \u001b[0mcallable\u001b[0m\u001b[1;33m(\u001b[0m\u001b[0mfunc\u001b[0m\u001b[1;33m)\u001b[0m\u001b[1;33m:\u001b[0m\u001b[1;33m\u001b[0m\u001b[0m\n\u001b[0;32m    881\u001b[0m                     \u001b[1;32mraise\u001b[0m \u001b[0mAttributeError\u001b[0m\u001b[1;33m(\u001b[0m\u001b[1;34m'Unknown property %s'\u001b[0m \u001b[1;33m%\u001b[0m \u001b[0mk\u001b[0m\u001b[1;33m)\u001b[0m\u001b[1;33m\u001b[0m\u001b[0m\n\u001b[1;32m--> 882\u001b[1;33m                 \u001b[1;32mreturn\u001b[0m \u001b[0mfunc\u001b[0m\u001b[1;33m(\u001b[0m\u001b[0mv\u001b[0m\u001b[1;33m)\u001b[0m\u001b[1;33m\u001b[0m\u001b[0m\n\u001b[0m\u001b[0;32m    883\u001b[0m \u001b[1;33m\u001b[0m\u001b[0m\n\u001b[0;32m    884\u001b[0m         \u001b[0mstore\u001b[0m \u001b[1;33m=\u001b[0m \u001b[0mself\u001b[0m\u001b[1;33m.\u001b[0m\u001b[0meventson\u001b[0m\u001b[1;33m\u001b[0m\u001b[0m\n",
      "\u001b[1;32m~\\Anaconda3\\lib\\site-packages\\matplotlib\\lines.py\u001b[0m in \u001b[0;36mset_marker\u001b[1;34m(self, marker)\u001b[0m\n\u001b[0;32m   1135\u001b[0m \u001b[1;33m\u001b[0m\u001b[0m\n\u001b[0;32m   1136\u001b[0m         \"\"\"\n\u001b[1;32m-> 1137\u001b[1;33m         \u001b[0mself\u001b[0m\u001b[1;33m.\u001b[0m\u001b[0m_marker\u001b[0m\u001b[1;33m.\u001b[0m\u001b[0mset_marker\u001b[0m\u001b[1;33m(\u001b[0m\u001b[0mmarker\u001b[0m\u001b[1;33m)\u001b[0m\u001b[1;33m\u001b[0m\u001b[0m\n\u001b[0m\u001b[0;32m   1138\u001b[0m         \u001b[0mself\u001b[0m\u001b[1;33m.\u001b[0m\u001b[0mstale\u001b[0m \u001b[1;33m=\u001b[0m \u001b[1;32mTrue\u001b[0m\u001b[1;33m\u001b[0m\u001b[0m\n\u001b[0;32m   1139\u001b[0m \u001b[1;33m\u001b[0m\u001b[0m\n",
      "\u001b[1;32m~\\Anaconda3\\lib\\site-packages\\matplotlib\\markers.py\u001b[0m in \u001b[0;36mset_marker\u001b[1;34m(self, marker)\u001b[0m\n\u001b[0;32m    273\u001b[0m \u001b[1;33m\u001b[0m\u001b[0m\n\u001b[0;32m    274\u001b[0m         \u001b[0mself\u001b[0m\u001b[1;33m.\u001b[0m\u001b[0m_marker\u001b[0m \u001b[1;33m=\u001b[0m \u001b[0mmarker\u001b[0m\u001b[1;33m\u001b[0m\u001b[0m\n\u001b[1;32m--> 275\u001b[1;33m         \u001b[0mself\u001b[0m\u001b[1;33m.\u001b[0m\u001b[0m_recache\u001b[0m\u001b[1;33m(\u001b[0m\u001b[1;33m)\u001b[0m\u001b[1;33m\u001b[0m\u001b[0m\n\u001b[0m\u001b[0;32m    276\u001b[0m \u001b[1;33m\u001b[0m\u001b[0m\n\u001b[0;32m    277\u001b[0m     \u001b[1;32mdef\u001b[0m \u001b[0mget_path\u001b[0m\u001b[1;33m(\u001b[0m\u001b[0mself\u001b[0m\u001b[1;33m)\u001b[0m\u001b[1;33m:\u001b[0m\u001b[1;33m\u001b[0m\u001b[0m\n",
      "\u001b[1;32m~\\Anaconda3\\lib\\site-packages\\matplotlib\\markers.py\u001b[0m in \u001b[0;36m_recache\u001b[1;34m(self)\u001b[0m\n\u001b[0;32m    209\u001b[0m         \u001b[0mself\u001b[0m\u001b[1;33m.\u001b[0m\u001b[0m_capstyle\u001b[0m \u001b[1;33m=\u001b[0m \u001b[1;34m'butt'\u001b[0m\u001b[1;33m\u001b[0m\u001b[0m\n\u001b[0;32m    210\u001b[0m         \u001b[0mself\u001b[0m\u001b[1;33m.\u001b[0m\u001b[0m_filled\u001b[0m \u001b[1;33m=\u001b[0m \u001b[1;32mTrue\u001b[0m\u001b[1;33m\u001b[0m\u001b[0m\n\u001b[1;32m--> 211\u001b[1;33m         \u001b[0mself\u001b[0m\u001b[1;33m.\u001b[0m\u001b[0m_marker_function\u001b[0m\u001b[1;33m(\u001b[0m\u001b[1;33m)\u001b[0m\u001b[1;33m\u001b[0m\u001b[0m\n\u001b[0m\u001b[0;32m    212\u001b[0m \u001b[1;33m\u001b[0m\u001b[0m\n\u001b[0;32m    213\u001b[0m     \u001b[1;32mif\u001b[0m \u001b[0msix\u001b[0m\u001b[1;33m.\u001b[0m\u001b[0mPY3\u001b[0m\u001b[1;33m:\u001b[0m\u001b[1;33m\u001b[0m\u001b[0m\n",
      "\u001b[1;32m~\\Anaconda3\\lib\\site-packages\\matplotlib\\markers.py\u001b[0m in \u001b[0;36m_set_thin_diamond\u001b[1;34m(self)\u001b[0m\n\u001b[0;32m    521\u001b[0m \u001b[1;33m\u001b[0m\u001b[0m\n\u001b[0;32m    522\u001b[0m     \u001b[1;32mdef\u001b[0m \u001b[0m_set_thin_diamond\u001b[0m\u001b[1;33m(\u001b[0m\u001b[0mself\u001b[0m\u001b[1;33m)\u001b[0m\u001b[1;33m:\u001b[0m\u001b[1;33m\u001b[0m\u001b[0m\n\u001b[1;32m--> 523\u001b[1;33m         \u001b[0mself\u001b[0m\u001b[1;33m.\u001b[0m\u001b[0m_set_diamond\u001b[0m\u001b[1;33m(\u001b[0m\u001b[1;33m)\u001b[0m\u001b[1;33m\u001b[0m\u001b[0m\n\u001b[0m\u001b[0;32m    524\u001b[0m         \u001b[0mself\u001b[0m\u001b[1;33m.\u001b[0m\u001b[0m_transform\u001b[0m\u001b[1;33m.\u001b[0m\u001b[0mscale\u001b[0m\u001b[1;33m(\u001b[0m\u001b[1;36m0.6\u001b[0m\u001b[1;33m,\u001b[0m \u001b[1;36m1.0\u001b[0m\u001b[1;33m)\u001b[0m\u001b[1;33m\u001b[0m\u001b[0m\n\u001b[0;32m    525\u001b[0m \u001b[1;33m\u001b[0m\u001b[0m\n",
      "\u001b[1;32m~\\Anaconda3\\lib\\site-packages\\matplotlib\\markers.py\u001b[0m in \u001b[0;36m_set_diamond\u001b[1;34m(self)\u001b[0m\n\u001b[0;32m    496\u001b[0m \u001b[1;33m\u001b[0m\u001b[0m\n\u001b[0;32m    497\u001b[0m     \u001b[1;32mdef\u001b[0m \u001b[0m_set_diamond\u001b[0m\u001b[1;33m(\u001b[0m\u001b[0mself\u001b[0m\u001b[1;33m)\u001b[0m\u001b[1;33m:\u001b[0m\u001b[1;33m\u001b[0m\u001b[0m\n\u001b[1;32m--> 498\u001b[1;33m         \u001b[0mself\u001b[0m\u001b[1;33m.\u001b[0m\u001b[0m_transform\u001b[0m \u001b[1;33m=\u001b[0m \u001b[0mAffine2D\u001b[0m\u001b[1;33m(\u001b[0m\u001b[1;33m)\u001b[0m\u001b[1;33m.\u001b[0m\u001b[0mtranslate\u001b[0m\u001b[1;33m(\u001b[0m\u001b[1;33m-\u001b[0m\u001b[1;36m0.5\u001b[0m\u001b[1;33m,\u001b[0m \u001b[1;33m-\u001b[0m\u001b[1;36m0.5\u001b[0m\u001b[1;33m)\u001b[0m\u001b[1;33m.\u001b[0m\u001b[0mrotate_deg\u001b[0m\u001b[1;33m(\u001b[0m\u001b[1;36m45\u001b[0m\u001b[1;33m)\u001b[0m\u001b[1;33m\u001b[0m\u001b[0m\n\u001b[0m\u001b[0;32m    499\u001b[0m         \u001b[0mself\u001b[0m\u001b[1;33m.\u001b[0m\u001b[0m_snap_threshold\u001b[0m \u001b[1;33m=\u001b[0m \u001b[1;36m5.0\u001b[0m\u001b[1;33m\u001b[0m\u001b[0m\n\u001b[0;32m    500\u001b[0m         \u001b[0mfs\u001b[0m \u001b[1;33m=\u001b[0m \u001b[0mself\u001b[0m\u001b[1;33m.\u001b[0m\u001b[0mget_fillstyle\u001b[0m\u001b[1;33m(\u001b[0m\u001b[1;33m)\u001b[0m\u001b[1;33m\u001b[0m\u001b[0m\n",
      "\u001b[1;32m~\\Anaconda3\\lib\\site-packages\\matplotlib\\transforms.py\u001b[0m in \u001b[0;36mtranslate\u001b[1;34m(self, tx, ty)\u001b[0m\n\u001b[0;32m   2070\u001b[0m         translate_mtx = np.array(\n\u001b[0;32m   2071\u001b[0m             [[1.0, 0.0, tx], [0.0, 1.0, ty], [0.0, 0.0, 1.0]], float)\n\u001b[1;32m-> 2072\u001b[1;33m         \u001b[0mself\u001b[0m\u001b[1;33m.\u001b[0m\u001b[0m_mtx\u001b[0m \u001b[1;33m=\u001b[0m \u001b[0mnp\u001b[0m\u001b[1;33m.\u001b[0m\u001b[0mdot\u001b[0m\u001b[1;33m(\u001b[0m\u001b[0mtranslate_mtx\u001b[0m\u001b[1;33m,\u001b[0m \u001b[0mself\u001b[0m\u001b[1;33m.\u001b[0m\u001b[0m_mtx\u001b[0m\u001b[1;33m)\u001b[0m\u001b[1;33m\u001b[0m\u001b[0m\n\u001b[0m\u001b[0;32m   2073\u001b[0m         \u001b[0mself\u001b[0m\u001b[1;33m.\u001b[0m\u001b[0minvalidate\u001b[0m\u001b[1;33m(\u001b[0m\u001b[1;33m)\u001b[0m\u001b[1;33m\u001b[0m\u001b[0m\n\u001b[0;32m   2074\u001b[0m         \u001b[1;32mreturn\u001b[0m \u001b[0mself\u001b[0m\u001b[1;33m\u001b[0m\u001b[0m\n",
      "\u001b[1;31mKeyboardInterrupt\u001b[0m: "
     ]
    },
    {
     "data": {
      "image/png": "[encoded data removed]",
      "text/plain": [
       "<Figure size 432x288 with 1 Axes>"
      ]
     },
     "metadata": {},
     "output_type": "display_data"
    }
   ],
   "source": [
    "fig = plt.figure()\n",
    "ax = fig.add_axes([0, 0, 1, 1])\n",
    "ax.set_xscale( 'log' )\n",
    "sns.boxplot(x = data.price, y=ttt);"
   ]
  },
  {
   "cell_type": "markdown",
   "metadata": {},
   "source": [
    "### name"
   ]
  },
  {
   "cell_type": "code",
   "execution_count": 49,
   "metadata": {},
   "outputs": [
    {
     "data": {
      "text/plain": [
       "4488                  320i 2.0 AT (184 л.с.)\n",
       "11237                  4.4 AT (555 л.с.) 4WD\n",
       "4853      320d xDrive 2.0d AT (184 л.с.) 4WD\n",
       "8160     730Ld xDrive 3.0d AT (249 л.с.) 4WD\n",
       "8006                 750Li 4.4 AT (407 л.с.)\n",
       "Name: name, dtype: object"
      ]
     },
     "execution_count": 49,
     "metadata": {},
     "output_type": "execute_result"
    }
   ],
   "source": [
    "train.name.sample(5)"
   ]
  },
  {
   "cell_type": "code",
   "execution_count": 51,
   "metadata": {},
   "outputs": [
    {
     "data": {
      "text/plain": [
       "'520d 2.0d AT (190 л.с.)'"
      ]
     },
     "execution_count": 51,
     "metadata": {},
     "output_type": "execute_result"
    }
   ],
   "source": [
    "data.name.loc[0]"
   ]
  },
  {
   "cell_type": "code",
   "execution_count": 52,
   "metadata": {},
   "outputs": [
    {
     "data": {
      "text/plain": [
       "0    520d\n",
       "1    318d\n",
       "2    550i\n",
       "3     30d\n",
       "4    M50d\n",
       "Name: name, dtype: object"
      ]
     },
     "execution_count": 52,
     "metadata": {},
     "output_type": "execute_result"
    }
   ],
   "source": [
    "test.name.apply(lambda x: x[:x.find(' ')])[:5]"
   ]
  },
  {
   "cell_type": "code",
   "execution_count": 53,
   "metadata": {},
   "outputs": [
    {
     "data": {
      "text/plain": [
       "array(['520d', '318d', '550i', '30d', 'M50d', '28i', '20d', '520i',\n",
       "       '328i', '116i', '730d', '320i', '335i', '25i', '316i', '3.0d',\n",
       "       '540i', '730Ld', '35d', '20i', '530d', '528i', '35i', 'xDrive20d',\n",
       "       '48i', '135i', '2.2', '335xi', '745i', '320d', '530xi', '530i',\n",
       "       '3.0i', '325i', '30i', '118i', '40i', 'M760Li', '3.0si', '4.4',\n",
       "       '40d', '4.8i', '535d', '420i', '525i', '750i', '120i', '330i',\n",
       "       '120d', '318i', '725Ld', '760Li', '840d', '420d', 'M850i', '523i',\n",
       "       '18d', '650i', '18i', '525d', '750Li', '4.4i', '630d', '645i',\n",
       "       '3.0', '25d', '535i', '640i', '330xd', 'xDrive20i', '525xi', '50i',\n",
       "       '740Li', 'M550d', '630i', '4.0', '520Li', '735i', '730Li', '740d',\n",
       "       '325xi', '518', 'M235i', '220i', '740i', 'Competition', 'M50i',\n",
       "       '428i', '1.5', '750Ld', 'M40d', '730i', '1.5hyb', '528Li', '640d',\n",
       "       '3.0sd', 'Electro', '530Li', '740Ld', 'CS', '525xd', 'M40i',\n",
       "       '330xi', 'M340i', 'M550i', '750d', '35is', '760i', '125i', '130i',\n",
       "       '218i', '5.0', 'xDrive18d', '728i', '620d', 'sDrive18i', '4.8is',\n",
       "       '330d', '430i', '735Li', '4.6is', '323i', 'M135i', '340i', '118d',\n",
       "       'ActiveHybrid', '23d', '2.0', '23i', '545i', '530xd', '440i',\n",
       "       '745Li', '316', 'Active'], dtype=object)"
      ]
     },
     "execution_count": 53,
     "metadata": {},
     "output_type": "execute_result"
    }
   ],
   "source": [
    "test.name.apply(lambda x: x[:x.find(' ')]).unique()"
   ]
  },
  {
   "cell_type": "code",
   "execution_count": 54,
   "metadata": {},
   "outputs": [
    {
     "data": {
      "text/plain": [
       "array(['1.5 AT (136 л.с.)', '1.5hyb AT (231 л.с.) 4WD',\n",
       "       '116i 1.6 AT (115 л.с.)', '116i 1.6 AT (136 л.с.)',\n",
       "       '116i 1.6 MT (115 л.с.)', '116i 1.6 MT (122 л.с.)',\n",
       "       '116i 1.6 MT (136 л.с.)', '118d 2.0d MT (122 л.с.)',\n",
       "       '118i 1.5 AT (136 л.с.)', '118i 1.6 AT (136 л.с.)'], dtype=object)"
      ]
     },
     "execution_count": 54,
     "metadata": {},
     "output_type": "execute_result"
    }
   ],
   "source": [
    "test.name.sort_values().unique()[:10]"
   ]
  },
  {
   "cell_type": "code",
   "execution_count": 55,
   "metadata": {},
   "outputs": [
    {
     "data": {
      "text/plain": [
       "name                   30d 3.0d AT (249 л.с.) 4WD\n",
       "fuelType                                   дизель\n",
       "engineDisplacement                        3.0 LTR\n",
       "vehicleTransmission                автоматическая\n",
       "enginePower                               249 N12\n",
       "Привод                                     полный\n",
       "Name: 5, dtype: object"
      ]
     },
     "execution_count": 55,
     "metadata": {},
     "output_type": "execute_result"
    }
   ],
   "source": [
    "# pwr = lambda x: x[x.find('(')+1:x.find(')')]\n",
    "# ltr = lambda x: x[:x.find(' ')]\n",
    "# test.name.apply(ltr)\n",
    "test.loc[5][['name','fuelType','engineDisplacement','vehicleTransmission','enginePower','Привод']]"
   ]
  },
  {
   "cell_type": "markdown",
   "metadata": {},
   "source": [
    "### numberOfDoors"
   ]
  },
  {
   "cell_type": "code",
   "execution_count": null,
   "metadata": {},
   "outputs": [],
   "source": [
    "fuelType"
   ]
  },
  {
   "cell_type": "code",
   "execution_count": 19,
   "metadata": {},
   "outputs": [
    {
     "name": "stdout",
     "output_type": "stream",
     "text": [
      "[4. 5. 3. 2.]\n"
     ]
    },
    {
     "data": {
      "text/plain": [
       "0    4\n",
       "1    4\n",
       "2    4\n",
       "3    5\n",
       "4    5\n",
       "Name: numberOfDoors, dtype: int32"
      ]
     },
     "execution_count": 19,
     "metadata": {},
     "output_type": "execute_result"
    }
   ],
   "source": [
    "print(df_test.numberOfDoors.unique())\n",
    "df_test.numberOfDoors.astype(int)[:5]"
   ]
  },
  {
   "cell_type": "markdown",
   "metadata": {},
   "source": [
    "### productionDate"
   ]
  },
  {
   "cell_type": "code",
   "execution_count": 45,
   "metadata": {},
   "outputs": [],
   "source": [
    "test.productionDate = test.productionDate.astype(int)\n",
    "train.productionDate = train.productionDate.astype(int)\n",
    "data.productionDate = data.productionDate.astype(int)"
   ]
  },
  {
   "cell_type": "code",
   "execution_count": 46,
   "metadata": {},
   "outputs": [
    {
     "data": {
      "text/plain": [
       "array([1991, 1986, 1989, 1993, 1992, 1994, 1987, 1988, 1985, 1983, 1980,\n",
       "       1984, 1990, 1981, 1995, 1938, 2014, 2011, 2013, 2012, 2016, 2015,\n",
       "       2010, 2002, 2000, 2001, 2020, 2008, 2018, 2019, 2007, 2003, 2017,\n",
       "       2006, 2005, 2004, 2009, 1997, 1999, 1998, 1996, 1982, 1972, 1978,\n",
       "       1937, 1949, 1948, 1950, 1953, 1975, 1969, 1959, 1974, 1961, 1955,\n",
       "       1976, 1964, 1971, 1967, 1957, 1931, 1927, 1923, 1924, 1979, 1970,\n",
       "       1932, 1939, 1977, 1951, 1973, 1954, 1960, 1968, 1904, 1966, 1965,\n",
       "       1963, 1936, 1952], dtype=int64)"
      ]
     },
     "execution_count": 46,
     "metadata": {},
     "output_type": "execute_result"
    }
   ],
   "source": [
    "train.productionDate.unique()"
   ]
  },
  {
   "cell_type": "code",
   "execution_count": 47,
   "metadata": {},
   "outputs": [
    {
     "data": {
      "text/plain": [
       "array([2017, 2019, 2012, 2015, 2013, 2008, 2011, 2016, 2007, 2014, 2000,\n",
       "       2009, 2018, 2005, 2003, 2006, 2010, 2002, 2004, 2001, 1997, 1998,\n",
       "       1999, 1995, 1996, 1993, 1987, 1984, 1989, 1991, 1988, 1994, 1992,\n",
       "       1981, 1990, 1986, 1982], dtype=int64)"
      ]
     },
     "execution_count": 47,
     "metadata": {},
     "output_type": "execute_result"
    }
   ],
   "source": [
    "test.productionDate.unique()"
   ]
  },
  {
   "cell_type": "code",
   "execution_count": 48,
   "metadata": {},
   "outputs": [
    {
     "data": {
      "text/plain": [
       "array([2017, 2019, 2012, 2015, 2013, 2008, 2011, 2016, 2007, 2014, 2000,\n",
       "       2009, 2018, 2005, 2003, 2006, 2010, 2002, 2004, 2001, 1997, 1998,\n",
       "       1999, 1995, 1996, 1993, 1987, 1984, 1989, 1991, 1988, 1994, 1992,\n",
       "       1981, 1990, 1986, 1982, 1985, 1983, 1980, 1938, 2020, 1972, 1978,\n",
       "       1937, 1949, 1948, 1950, 1953, 1975, 1969, 1959, 1974, 1961, 1955,\n",
       "       1976, 1964, 1971, 1967, 1957, 1931, 1927, 1923, 1924, 1979, 1970,\n",
       "       1932, 1939, 1977, 1951, 1973, 1954, 1960, 1968, 1904, 1966, 1965,\n",
       "       1963, 1936, 1952], dtype=int64)"
      ]
     },
     "execution_count": 48,
     "metadata": {},
     "output_type": "execute_result"
    }
   ],
   "source": [
    "data.productionDate.unique()"
   ]
  },
  {
   "cell_type": "code",
   "execution_count": 50,
   "metadata": {},
   "outputs": [
    {
     "data": {
      "image/png": "[encoded data removed]",
      "text/plain": [
       "<Figure size 1080x720 with 1 Axes>"
      ]
     },
     "metadata": {
      "needs_background": "light"
     },
     "output_type": "display_data"
    }
   ],
   "source": [
    "def f_3(row_name):\n",
    "    ttt = test[row_name].astype(int)\n",
    "\n",
    "    fig = plt.figure(figsize=(15,10))\n",
    "    ax = fig.add_axes([0, 0, 1, 1])\n",
    "    ax.set_xscale( 'log' )\n",
    "    sns.countplot(y=ttt) \n",
    "    \n",
    "f_3('productionDate')"
   ]
  },
  {
   "cell_type": "markdown",
   "metadata": {},
   "source": [
    "### vehicleConfiguration"
   ]
  },
  {
   "cell_type": "code",
   "execution_count": 39,
   "metadata": {},
   "outputs": [
    {
     "data": {
      "text/plain": [
       "array(['SEDAN AUTOMATIC 2.0', 'SEDAN AUTOMATIC 4.4',\n",
       "       'ALLROAD_5_DOORS AUTOMATIC 3.0', 'ALLROAD_5_DOORS AUTOMATIC 2.0',\n",
       "       'HATCHBACK_3_DOORS AUTOMATIC 1.6', 'SEDAN AUTOMATIC 3.0',\n",
       "       'ALLROAD_5_DOORS AUTOMATIC 2.5', 'SEDAN AUTOMATIC 1.6',\n",
       "       'HATCHBACK_5_DOORS MECHANICAL 1.6',\n",
       "       'ALLROAD_5_DOORS AUTOMATIC 4.8'], dtype=object)"
      ]
     },
     "execution_count": 39,
     "metadata": {},
     "output_type": "execute_result"
    }
   ],
   "source": [
    "# df_test.vehicleConfiguration.sort_values().unique()\n",
    "df_test.vehicleConfiguration.unique()[:10]"
   ]
  },
  {
   "cell_type": "code",
   "execution_count": 25,
   "metadata": {},
   "outputs": [
    {
     "data": {
      "text/plain": [
       "0              SEDAN AUTOMATIC 2.0\n",
       "1              SEDAN AUTOMATIC 2.0\n",
       "2              SEDAN AUTOMATIC 4.4\n",
       "3    ALLROAD_5_DOORS AUTOMATIC 3.0\n",
       "4    ALLROAD_5_DOORS AUTOMATIC 3.0\n",
       "Name: vehicleConfiguration, dtype: object"
      ]
     },
     "execution_count": 25,
     "metadata": {},
     "output_type": "execute_result"
    }
   ],
   "source": [
    "df_test.vehicleConfiguration[:5]"
   ]
  },
  {
   "cell_type": "code",
   "execution_count": 32,
   "metadata": {},
   "outputs": [
    {
     "data": {
      "text/plain": [
       "0              [SEDAN, AUTOMATIC, 2.0]\n",
       "1              [SEDAN, AUTOMATIC, 2.0]\n",
       "2              [SEDAN, AUTOMATIC, 4.4]\n",
       "3    [ALLROAD_5_DOORS, AUTOMATIC, 3.0]\n",
       "4    [ALLROAD_5_DOORS, AUTOMATIC, 3.0]\n",
       "Name: vehicleConfiguration, dtype: object"
      ]
     },
     "execution_count": 32,
     "metadata": {},
     "output_type": "execute_result"
    }
   ],
   "source": [
    "df_test.vehicleConfiguration.str.split().head()"
   ]
  },
  {
   "cell_type": "code",
   "execution_count": 29,
   "metadata": {},
   "outputs": [
    {
     "data": {
      "text/plain": [
       "array(['SEDAN', 'ALLROAD_5_DOORS', 'HATCHBACK_3_DOORS',\n",
       "       'HATCHBACK_5_DOORS', 'COUPE', 'ROADSTER', 'LIFTBACK',\n",
       "       'WAGON_5_DOORS', 'CABRIO', 'SEDAN_2_DOORS', 'COMPACTVAN'],\n",
       "      dtype=object)"
      ]
     },
     "execution_count": 29,
     "metadata": {},
     "output_type": "execute_result"
    }
   ],
   "source": [
    "df_test.vehicleConfiguration.str.split().apply(lambda x:x[0]).unique()"
   ]
  },
  {
   "cell_type": "code",
   "execution_count": 30,
   "metadata": {},
   "outputs": [
    {
     "data": {
      "text/plain": [
       "array(['AUTOMATIC', 'MECHANICAL', 'ROBOT'], dtype=object)"
      ]
     },
     "execution_count": 30,
     "metadata": {},
     "output_type": "execute_result"
    }
   ],
   "source": [
    "df_test.vehicleConfiguration.str.split().apply(lambda x:x[1]).unique()"
   ]
  },
  {
   "cell_type": "code",
   "execution_count": 40,
   "metadata": {},
   "outputs": [
    {
     "data": {
      "text/plain": [
       "array(['2.0', '4.4', '3.0', '1.6', '2.5', '4.8', '2.2', '6.6', '1.5',\n",
       "       '6.0', '1.8', '3.5', '2.8', '4.0', '3.6', '5.4', '2.9', nan, '1.9',\n",
       "       '5.0', '4.6', '3.4'], dtype=object)"
      ]
     },
     "execution_count": 40,
     "metadata": {},
     "output_type": "execute_result"
    }
   ],
   "source": [
    "df_test.vehicleConfiguration.str.split().apply(lambda x:x[2] if len(x)==3 else np.NAN).unique()"
   ]
  },
  {
   "cell_type": "markdown",
   "metadata": {},
   "source": [
    "### vehicleTransmission"
   ]
  },
  {
   "cell_type": "code",
   "execution_count": 23,
   "metadata": {},
   "outputs": [
    {
     "data": {
      "text/plain": [
       "array(['автоматическая', 'механическая', 'роботизированная'], dtype=object)"
      ]
     },
     "execution_count": 23,
     "metadata": {},
     "output_type": "execute_result"
    }
   ],
   "source": [
    "test.vehicleTransmission.unique()"
   ]
  },
  {
   "cell_type": "code",
   "execution_count": 33,
   "metadata": {},
   "outputs": [
    {
     "data": {
      "text/plain": [
       "array(['MECHANICAL', 'AUTOMATIC', 'ROBOT', 'VARIATOR', nan], dtype=object)"
      ]
     },
     "execution_count": 33,
     "metadata": {},
     "output_type": "execute_result"
    }
   ],
   "source": [
    "train.vehicleTransmission.unique()"
   ]
  },
  {
   "cell_type": "code",
   "execution_count": 37,
   "metadata": {},
   "outputs": [
    {
     "data": {
      "text/plain": [
       "array(['автоматическая', 'механическая', 'роботизированная'], dtype=object)"
      ]
     },
     "execution_count": 37,
     "metadata": {},
     "output_type": "execute_result"
    }
   ],
   "source": [
    "transmission_dict = {\n",
    "    'автоматическая':'автоматическая',\n",
    "    'механическая':'механическая',\n",
    "    'роботизированная':'роботизированная',\n",
    "    'MECHANICAL':'механическая', \n",
    "    'AUTOMATIC':'автоматическая', \n",
    "    'ROBOT':'роботизированная', \n",
    "    'VARIATOR':'автоматическая'}\n",
    "\n",
    "test.vehicleTransmission.map(transmission_dict).unique()"
   ]
  },
  {
   "cell_type": "code",
   "execution_count": 40,
   "metadata": {},
   "outputs": [
    {
     "data": {
      "text/plain": [
       "array(['автоматическая', 'механическая', 'роботизированная', nan],\n",
       "      dtype=object)"
      ]
     },
     "execution_count": 40,
     "metadata": {},
     "output_type": "execute_result"
    }
   ],
   "source": [
    "data.vehicleTransmission = data.vehicleTransmission.map(transmission_dict)\n",
    "data.vehicleTransmission.unique()"
   ]
  },
  {
   "cell_type": "code",
   "execution_count": 42,
   "metadata": {},
   "outputs": [
    {
     "data": {
      "image/png": "[encoded data removed]",
      "text/plain": [
       "<Figure size 1152x504 with 3 Axes>"
      ]
     },
     "metadata": {
      "needs_background": "light"
     },
     "output_type": "display_data"
    },
    {
     "data": {
      "image/png": "[encoded data removed]",
      "text/plain": [
       "<Figure size 1152x504 with 1 Axes>"
      ]
     },
     "metadata": {
      "needs_background": "light"
     },
     "output_type": "display_data"
    }
   ],
   "source": [
    "f1('vehicleTransmission')\n",
    "f_2('vehicleTransmission')"
   ]
  },
  {
   "cell_type": "markdown",
   "metadata": {},
   "source": [
    "## "
   ]
  },
  {
   "cell_type": "markdown",
   "metadata": {},
   "source": [
    "### engineDisplacement"
   ]
  },
  {
   "cell_type": "code",
   "execution_count": 24,
   "metadata": {},
   "outputs": [
    {
     "data": {
      "text/plain": [
       "(array(['1.5 LTR', '1.6 LTR', '1.8 LTR', '1.9 LTR', '2.0 LTR', '2.2 LTR',\n",
       "        '2.5 LTR', '2.8 LTR', '2.9 LTR', '3.0 LTR', '3.4 LTR', '3.5 LTR',\n",
       "        '3.6 LTR', '4.0 LTR', '4.4 LTR', '4.6 LTR', '4.8 LTR', '5.0 LTR',\n",
       "        '5.4 LTR', '6.0 LTR', '6.6 LTR', 'undefined LTR'], dtype=object),)"
      ]
     },
     "execution_count": 24,
     "metadata": {},
     "output_type": "execute_result"
    }
   ],
   "source": [
    "df_test.engineDisplacement.sort_values().unique(), #df.engineDisplacement.sort_values().unique()"
   ]
  },
  {
   "cell_type": "code",
   "execution_count": 45,
   "metadata": {},
   "outputs": [
    {
     "data": {
      "text/plain": [
       "0    2.0\n",
       "1    2.0\n",
       "2    4.4\n",
       "3    3.0\n",
       "4    3.0\n",
       "5    3.0\n",
       "6    2.0\n",
       "7    2.0\n",
       "8    3.0\n",
       "9    2.0\n",
       "Name: engineDisplacement, dtype: object"
      ]
     },
     "execution_count": 45,
     "metadata": {},
     "output_type": "execute_result"
    }
   ],
   "source": [
    "df_test.engineDisplacement.apply(lambda x: x.split()[0])[:10]"
   ]
  },
  {
   "cell_type": "code",
   "execution_count": 52,
   "metadata": {},
   "outputs": [
    {
     "data": {
      "text/html": [
       "<div>\n",
       "<style scoped>\n",
       "    .dataframe tbody tr th:only-of-type {\n",
       "        vertical-align: middle;\n",
       "    }\n",
       "\n",
       "    .dataframe tbody tr th {\n",
       "        vertical-align: top;\n",
       "    }\n",
       "\n",
       "    .dataframe thead th {\n",
       "        text-align: right;\n",
       "    }\n",
       "</style>\n",
       "<table border=\"1\" class=\"dataframe\">\n",
       "  <thead>\n",
       "    <tr style=\"text-align: right;\">\n",
       "      <th></th>\n",
       "      <th>engineDisplacement</th>\n",
       "      <th>vehicleConfiguration</th>\n",
       "    </tr>\n",
       "  </thead>\n",
       "  <tbody>\n",
       "    <tr>\n",
       "      <th>823</th>\n",
       "      <td>undefined LTR</td>\n",
       "      <td>HATCHBACK_5_DOORS AUTOMATIC</td>\n",
       "    </tr>\n",
       "  </tbody>\n",
       "</table>\n",
       "</div>"
      ],
      "text/plain": [
       "    engineDisplacement         vehicleConfiguration\n",
       "823      undefined LTR  HATCHBACK_5_DOORS AUTOMATIC"
      ]
     },
     "execution_count": 52,
     "metadata": {},
     "output_type": "execute_result"
    }
   ],
   "source": [
    "mask = (df_test.engineDisplacement.apply(lambda x: x.split()[0])!=\n",
    " df_test.vehicleConfiguration.str.split().apply(lambda x:x[2] if len(x)==3 else np.NAN))\n",
    "df_test[mask][['engineDisplacement','vehicleConfiguration']]"
   ]
  },
  {
   "cell_type": "markdown",
   "metadata": {},
   "source": [
    "### enginePower"
   ]
  },
  {
   "cell_type": "code",
   "execution_count": 25,
   "metadata": {},
   "outputs": [
    {
     "data": {
      "text/plain": [
       "array([ 90, 100, 102, 105, 113, 115, 118, 122, 125, 129, 136, 140, 143,\n",
       "       150, 156, 163, 170, 177, 184, 188, 190, 192, 193, 197, 204, 211,\n",
       "       218, 230, 231, 235, 243, 245, 249, 252, 258, 264, 265, 269, 272,\n",
       "       286, 300, 306, 313, 320, 326, 329, 333, 340, 347, 355, 360, 367,\n",
       "       370, 374, 381, 400, 407, 410, 420, 431, 445, 449, 450, 460, 462,\n",
       "       507, 530, 544, 555, 560, 575, 600, 609, 610, 625], dtype=int64)"
      ]
     },
     "execution_count": 25,
     "metadata": {},
     "output_type": "execute_result"
    }
   ],
   "source": [
    "df_test.enginePower.sort_values().unique()\n",
    "df_test.enginePower.str[:-4].astype(int).sort_values().unique()"
   ]
  },
  {
   "cell_type": "code",
   "execution_count": 26,
   "metadata": {},
   "outputs": [],
   "source": [
    "# df.enginePower.sort_values().unique()"
   ]
  },
  {
   "cell_type": "markdown",
   "metadata": {},
   "source": [
    "### description"
   ]
  },
  {
   "cell_type": "code",
   "execution_count": 10,
   "metadata": {},
   "outputs": [
    {
     "data": {
      "text/plain": [
       "0     228.0\n",
       "1     132.0\n",
       "2    1147.0\n",
       "3       NaN\n",
       "4     204.0\n",
       "Name: description, dtype: float64"
      ]
     },
     "execution_count": 10,
     "metadata": {},
     "output_type": "execute_result"
    }
   ],
   "source": [
    "df.description.str.len()[:5]"
   ]
  },
  {
   "cell_type": "markdown",
   "metadata": {},
   "source": [
    "### mileage"
   ]
  },
  {
   "cell_type": "code",
   "execution_count": null,
   "metadata": {},
   "outputs": [],
   "source": []
  },
  {
   "cell_type": "code",
   "execution_count": 60,
   "metadata": {},
   "outputs": [
    {
     "data": {
      "text/plain": [
       "<matplotlib.axes._subplots.AxesSubplot at 0x9d78080>"
      ]
     },
     "execution_count": 60,
     "metadata": {},
     "output_type": "execute_result"
    },
    {
     "data": {
      "image/png": "[encoded data removed]",
      "text/plain": [
       "<Figure size 1080x360 with 1 Axes>"
      ]
     },
     "metadata": {},
     "output_type": "display_data"
    }
   ],
   "source": [
    "df_test.mileage.nunique()\n",
    "df_test.mileage.hist(figsize=(15,5),bins=100)"
   ]
  },
  {
   "cell_type": "markdown",
   "metadata": {},
   "source": [
    "### Комплектация"
   ]
  },
  {
   "cell_type": "code",
   "execution_count": 61,
   "metadata": {},
   "outputs": [
    {
     "data": {
      "text/plain": [
       "3295"
      ]
     },
     "execution_count": 61,
     "metadata": {},
     "output_type": "execute_result"
    }
   ],
   "source": [
    "df_test.Комплектация.nunique()"
   ]
  },
  {
   "cell_type": "markdown",
   "metadata": {},
   "source": [
    "### Привод"
   ]
  },
  {
   "cell_type": "code",
   "execution_count": 63,
   "metadata": {},
   "outputs": [
    {
     "data": {
      "text/plain": [
       "array(['задний', 'полный', 'передний'], dtype=object)"
      ]
     },
     "execution_count": 63,
     "metadata": {},
     "output_type": "execute_result"
    }
   ],
   "source": [
    "df_test.Привод.unique() #, df.Привод.unique()"
   ]
  },
  {
   "cell_type": "markdown",
   "metadata": {},
   "source": [
    "### Руль"
   ]
  },
  {
   "cell_type": "code",
   "execution_count": 64,
   "metadata": {},
   "outputs": [
    {
     "data": {
      "text/plain": [
       "array(['Левый'], dtype=object)"
      ]
     },
     "execution_count": 64,
     "metadata": {},
     "output_type": "execute_result"
    }
   ],
   "source": [
    "df_test.Руль.unique() #, df_test.Руль.unique()"
   ]
  },
  {
   "cell_type": "markdown",
   "metadata": {},
   "source": [
    "### Состояние"
   ]
  },
  {
   "cell_type": "code",
   "execution_count": 65,
   "metadata": {},
   "outputs": [
    {
     "data": {
      "text/plain": [
       "array(['Не требует ремонта'], dtype=object)"
      ]
     },
     "execution_count": 65,
     "metadata": {},
     "output_type": "execute_result"
    }
   ],
   "source": [
    "df_test.Состояние.unique() #, df.Состояние.unique()"
   ]
  },
  {
   "cell_type": "markdown",
   "metadata": {},
   "source": [
    "### Владельцы"
   ]
  },
  {
   "cell_type": "code",
   "execution_count": 66,
   "metadata": {},
   "outputs": [
    {
     "data": {
      "text/plain": [
       "array(['1\\xa0владелец', '2\\xa0владельца', '3 или более'], dtype=object)"
      ]
     },
     "execution_count": 66,
     "metadata": {},
     "output_type": "execute_result"
    }
   ],
   "source": [
    "df_test.Владельцы.unique() #, df.Владельцы.unique()"
   ]
  },
  {
   "cell_type": "markdown",
   "metadata": {},
   "source": [
    "### ПТС"
   ]
  },
  {
   "cell_type": "code",
   "execution_count": 67,
   "metadata": {},
   "outputs": [
    {
     "data": {
      "text/plain": [
       "array(['Оригинал', 'Дубликат'], dtype=object)"
      ]
     },
     "execution_count": 67,
     "metadata": {},
     "output_type": "execute_result"
    }
   ],
   "source": [
    "df_test.ПТС.unique() #, df.ПТС.unique()"
   ]
  },
  {
   "cell_type": "markdown",
   "metadata": {},
   "source": [
    "### Таможня"
   ]
  },
  {
   "cell_type": "code",
   "execution_count": 68,
   "metadata": {},
   "outputs": [
    {
     "data": {
      "text/plain": [
       "array(['Растаможен'], dtype=object)"
      ]
     },
     "execution_count": 68,
     "metadata": {},
     "output_type": "execute_result"
    }
   ],
   "source": [
    "df_test.Таможня.unique()#,df_test.Таможня.unique()"
   ]
  },
  {
   "cell_type": "code",
   "execution_count": null,
   "metadata": {},
   "outputs": [],
   "source": []
  },
  {
   "cell_type": "markdown",
   "metadata": {},
   "source": [
    "### Владение"
   ]
  },
  {
   "cell_type": "code",
   "execution_count": 70,
   "metadata": {},
   "outputs": [
    {
     "data": {
      "text/plain": [
       "array(['1 год', '1 год и 1 месяц', '1 год и 10 месяцев',\n",
       "       '1 год и 11 месяцев', '1 год и 2 месяца', '1 год и 3 месяца',\n",
       "       '1 год и 4 месяца', '1 год и 5 месяцев', '1 год и 6 месяцев',\n",
       "       '1 год и 7 месяцев'], dtype=object)"
      ]
     },
     "execution_count": 70,
     "metadata": {},
     "output_type": "execute_result"
    }
   ],
   "source": [
    "df_test.Владение.sort_values().unique()[:10]"
   ]
  },
  {
   "cell_type": "code",
   "execution_count": 71,
   "metadata": {},
   "outputs": [],
   "source": [
    "# df.Владение.sort_values().unique()[:10]"
   ]
  },
  {
   "cell_type": "code",
   "execution_count": 72,
   "metadata": {},
   "outputs": [
    {
     "data": {
      "text/plain": [
       "0     NaN\n",
       "1     NaN\n",
       "2    86.0\n",
       "3     NaN\n",
       "4     NaN\n",
       "5     NaN\n",
       "6    35.0\n",
       "7     NaN\n",
       "8    84.0\n",
       "9     NaN\n",
       "Name: Владение, dtype: float64"
      ]
     },
     "execution_count": 72,
     "metadata": {},
     "output_type": "execute_result"
    }
   ],
   "source": [
    "import re\n",
    "\n",
    "pattern_yaer = re.compile('\\d+(?= (?:год|лет))')\n",
    "pattern_month = re.compile('\\d+(?= мес)')\n",
    "\n",
    "year = lambda x: int(pattern_yaer.search(x).group(0)) if pattern_yaer.search(x) else 0\n",
    "month = lambda x: int(pattern_month.search(x).group(0)) if pattern_month.search(x) else 0\n",
    "\n",
    "df_test.Владение.apply(lambda x: year(x)*12 + month(x) if x==x else x)[:10]"
   ]
  },
  {
   "cell_type": "markdown",
   "metadata": {},
   "source": [
    "### price"
   ]
  },
  {
   "cell_type": "code",
   "execution_count": 49,
   "metadata": {},
   "outputs": [
    {
     "data": {
      "image/png": "[encoded data removed]",
      "text/plain": [
       "<Figure size 432x288 with 1 Axes>"
      ]
     },
     "metadata": {},
     "output_type": "display_data"
    }
   ],
   "source": [
    "fig = plt.figure()\n",
    "ax = fig.add_axes([0, 0, 1, 1])\n",
    "ax.set_yscale('log')\n",
    "ax.hist(df.price.dropna(),bins=100);"
   ]
  },
  {
   "cell_type": "markdown",
   "metadata": {},
   "source": [
    "### start_date"
   ]
  },
  {
   "cell_type": "code",
   "execution_count": 69,
   "metadata": {},
   "outputs": [],
   "source": [
    "ttt = pd.to_datetime(df.start_date,format='%Y-%m-%d')"
   ]
  },
  {
   "cell_type": "code",
   "execution_count": 72,
   "metadata": {},
   "outputs": [
    {
     "data": {
      "text/plain": [
       "<matplotlib.axes._subplots.AxesSubplot at 0xdcdfa58>"
      ]
     },
     "execution_count": 72,
     "metadata": {},
     "output_type": "execute_result"
    },
    {
     "data": {
      "image/png": "[encoded data removed]",
      "text/plain": [
       "<Figure size 432x288 with 1 Axes>"
      ]
     },
     "metadata": {},
     "output_type": "display_data"
    }
   ],
   "source": [
    "ttt.hist(bins=100)"
   ]
  },
  {
   "cell_type": "code",
   "execution_count": null,
   "metadata": {},
   "outputs": [],
   "source": []
  },
  {
   "cell_type": "code",
   "execution_count": null,
   "metadata": {},
   "outputs": [],
   "source": []
  },
  {
   "cell_type": "code",
   "execution_count": null,
   "metadata": {},
   "outputs": [],
   "source": []
  },
  {
   "cell_type": "markdown",
   "metadata": {},
   "source": [
    "### id"
   ]
  },
  {
   "cell_type": "code",
   "execution_count": 34,
   "metadata": {},
   "outputs": [
    {
     "name": "stdout",
     "output_type": "stream",
     "text": [
      "[   0    1    2 ... 3834 3835 3836]\n"
     ]
    }
   ],
   "source": [
    "print(df_test.id.unique())\n",
    "try: \n",
    "    print(df.id.unique())\n",
    "except:  \n",
    "    pass"
   ]
  },
  {
   "cell_type": "markdown",
   "metadata": {},
   "source": [
    "## ===============================================================\n",
    "\n",
    "## df_test.Комплектация\n"
   ]
  },
  {
   "cell_type": "code",
   "execution_count": 35,
   "metadata": {},
   "outputs": [
    {
     "data": {
      "text/plain": [
       "'[{\"name\":\"Безопасность\",\"values\":[\"Антипробуксовочная система (ASR)\",\"Система стабилизации (ESP)\",\"Подушка безопасности водителя\",\"Крепление детского кресла (задний ряд) ISOFIX\",\"Подушки безопасности оконные (шторки)\",\"Подушка безопасности пассажира\",\"Подушки безопасности боковые задние\",\"Подушки безопасности боковые\",\"Датчик давления в шинах\",\"Антиблокировочная система (ABS)\",\"Блокировка замков задних дверей\",\"Подушка безопасности для защиты коленей водителя\"]},{\"name\":\"Комфорт\",\"values\":[\"Система «старт-стоп»\",\"Электростеклоподъёмники передние\",\"Мультифункциональное рулевое колесо\",\"Прикуриватель и пепельница\",\"Бортовой компьютер\",\"Усилитель руля\",\"Электропривод зеркал\",\"Электростеклоподъёмники задние\",\"Парктроник передний\",\"Регулировка руля по вылету\",\"Климат-контроль 2-зонный\",\"Электроскладывание зеркал\",\"Парктроник задний\"]},{\"name\":\"Мультимедиа\",\"values\":[\"AUX\",\"USB\",\"Аудиосистема\",\"Bluetooth\"]},{\"name\":\"Обзор\",\"values\":[\"Датчик света\",\"Автоматический корректор фар\",\"Омыватель фар\",\"Датчик дождя\",\"Электрообогрев боковых зеркал\",\"Светодиодные фары\"]},{\"name\":\"Салон\",\"values\":[\"Регулировка передних сидений по высоте\",\"Передний центральный подлокотник\",\"Складывающееся заднее сиденье\",\"Электрорегулировка передних сидений\",\"Тёмный салон\",\"Кожа (Материал салона)\",\"Обогрев рулевого колеса\",\"Подогрев передних сидений\",\"Отделка кожей рулевого колеса\"]},{\"name\":\"Защита от угона\",\"values\":[\"Центральный замок\",\"Иммобилайзер\"]}]'"
      ]
     },
     "execution_count": 35,
     "metadata": {},
     "output_type": "execute_result"
    }
   ],
   "source": [
    "df_test.Комплектация[0][2:-2]"
   ]
  },
  {
   "cell_type": "code",
   "execution_count": 36,
   "metadata": {},
   "outputs": [
    {
     "data": {
      "text/plain": [
       "0    [{'name': 'Безопасность', 'values': ['Антипроб...\n",
       "1    [{'name': 'Комфорт', 'values': ['Круиз-контрол...\n",
       "2    [{'name': 'Комфорт', 'values': ['Круиз-контрол...\n",
       "3    [{'name': 'Комфорт', 'values': ['Круиз-контрол...\n",
       "4    [{'name': 'Комфорт', 'values': ['Круиз-контрол...\n",
       "Name: Комплектация, dtype: object"
      ]
     },
     "execution_count": 36,
     "metadata": {},
     "output_type": "execute_result"
    }
   ],
   "source": [
    "new_configuration = df_test.Комплектация.apply(lambda x: json.loads(x[2:-2]) if x != '[]' else [])\n",
    "new_configuration.head()"
   ]
  },
  {
   "cell_type": "code",
   "execution_count": 37,
   "metadata": {},
   "outputs": [
    {
     "data": {
      "text/plain": [
       "{'Безопасность',\n",
       " 'Защита от угона',\n",
       " 'Комфорт',\n",
       " 'Мультимедиа',\n",
       " 'Обзор',\n",
       " 'Прочее',\n",
       " 'Салон',\n",
       " 'Элементы экстерьера'}"
      ]
     },
     "execution_count": 37,
     "metadata": {},
     "output_type": "execute_result"
    }
   ],
   "source": [
    "# lambda configuration: [category['name'] for category in configuration]\n",
    "all_categories = set(new_configuration.apply(lambda configuration: [category['name'] for category in configuration]).sum())\n",
    "all_categories"
   ]
  },
  {
   "cell_type": "code",
   "execution_count": null,
   "metadata": {},
   "outputs": [],
   "source": []
  },
  {
   "cell_type": "code",
   "execution_count": 38,
   "metadata": {},
   "outputs": [
    {
     "data": {
      "text/plain": [
       "[{'name': 'Безопасность',\n",
       "  'values': ['Антипробуксовочная система (ASR)',\n",
       "   'Система стабилизации (ESP)',\n",
       "   'Подушка безопасности водителя',\n",
       "   'Крепление детского кресла (задний ряд) ISOFIX',\n",
       "   'Подушки безопасности оконные (шторки)',\n",
       "   'Подушка безопасности пассажира',\n",
       "   'Подушки безопасности боковые задние',\n",
       "   'Подушки безопасности боковые',\n",
       "   'Датчик давления в шинах',\n",
       "   'Антиблокировочная система (ABS)',\n",
       "   'Блокировка замков задних дверей',\n",
       "   'Подушка безопасности для защиты коленей водителя']},\n",
       " {'name': 'Комфорт',\n",
       "  'values': ['Система «старт-стоп»',\n",
       "   'Электростеклоподъёмники передние',\n",
       "   'Мультифункциональное рулевое колесо',\n",
       "   'Прикуриватель и пепельница',\n",
       "   'Бортовой компьютер',\n",
       "   'Усилитель руля',\n",
       "   'Электропривод зеркал',\n",
       "   'Электростеклоподъёмники задние',\n",
       "   'Парктроник передний',\n",
       "   'Регулировка руля по вылету',\n",
       "   'Климат-контроль 2-зонный',\n",
       "   'Электроскладывание зеркал',\n",
       "   'Парктроник задний']},\n",
       " {'name': 'Мультимедиа',\n",
       "  'values': ['AUX', 'USB', 'Аудиосистема', 'Bluetooth']},\n",
       " {'name': 'Обзор',\n",
       "  'values': ['Датчик света',\n",
       "   'Автоматический корректор фар',\n",
       "   'Омыватель фар',\n",
       "   'Датчик дождя',\n",
       "   'Электрообогрев боковых зеркал',\n",
       "   'Светодиодные фары']},\n",
       " {'name': 'Салон',\n",
       "  'values': ['Регулировка передних сидений по высоте',\n",
       "   'Передний центральный подлокотник',\n",
       "   'Складывающееся заднее сиденье',\n",
       "   'Электрорегулировка передних сидений',\n",
       "   'Тёмный салон',\n",
       "   'Кожа (Материал салона)',\n",
       "   'Обогрев рулевого колеса',\n",
       "   'Подогрев передних сидений',\n",
       "   'Отделка кожей рулевого колеса']},\n",
       " {'name': 'Защита от угона', 'values': ['Центральный замок', 'Иммобилайзер']}]"
      ]
     },
     "execution_count": 38,
     "metadata": {},
     "output_type": "execute_result"
    }
   ],
   "source": [
    "new_configuration[0]"
   ]
  },
  {
   "cell_type": "code",
   "execution_count": null,
   "metadata": {},
   "outputs": [],
   "source": []
  },
  {
   "cell_type": "code",
   "execution_count": null,
   "metadata": {},
   "outputs": [],
   "source": []
  },
  {
   "cell_type": "code",
   "execution_count": null,
   "metadata": {},
   "outputs": [],
   "source": []
  },
  {
   "cell_type": "code",
   "execution_count": 39,
   "metadata": {},
   "outputs": [],
   "source": [
    "def category_separation(category,row):\n",
    "    for cat in row:\n",
    "        if(cat['name'] == category) : \n",
    "            return cat['values']\n",
    "    return []"
   ]
  },
  {
   "cell_type": "code",
   "execution_count": 40,
   "metadata": {},
   "outputs": [
    {
     "data": {
      "text/plain": [
       "0       [Регулировка передних сидений по высоте, Перед...\n",
       "1       [Спортивные передние сиденья, Передний централ...\n",
       "2       [Спортивные передние сиденья, Люк, Подогрев за...\n",
       "3       [Передний центральный подлокотник, Складывающе...\n",
       "4       [Передний центральный подлокотник, Люк, Подогр...\n",
       "                              ...                        \n",
       "3832    [Тонированные стекла, Отделка кожей рычага КПП...\n",
       "3833    [Тонированные стекла, Передний центральный под...\n",
       "3834    [Кожа (Материал салона), Обогрев рулевого коле...\n",
       "3835    [Кожа (Материал салона), Обогрев рулевого коле...\n",
       "3836    [Складывающееся заднее сиденье, Электрорегулир...\n",
       "Name: Комплектация, Length: 3837, dtype: object"
      ]
     },
     "execution_count": 40,
     "metadata": {},
     "output_type": "execute_result"
    }
   ],
   "source": [
    "new_configuration.apply(lambda x: category_separation('Салон',x))"
   ]
  },
  {
   "cell_type": "code",
   "execution_count": 41,
   "metadata": {},
   "outputs": [
    {
     "data": {
      "text/plain": [
       "['Регулировка передних сидений по высоте',\n",
       " 'Передний центральный подлокотник',\n",
       " 'Складывающееся заднее сиденье',\n",
       " 'Электрорегулировка передних сидений',\n",
       " 'Тёмный салон',\n",
       " 'Кожа (Материал салона)',\n",
       " 'Обогрев рулевого колеса',\n",
       " 'Подогрев передних сидений',\n",
       " 'Отделка кожей рулевого колеса']"
      ]
     },
     "execution_count": 41,
     "metadata": {},
     "output_type": "execute_result"
    }
   ],
   "source": [
    "category_separation('Салон',new_configuration[0])"
   ]
  },
  {
   "cell_type": "markdown",
   "metadata": {},
   "source": [
    "## ===============================================================\n",
    "## ===============================================================\n",
    "## df_test.Комплектация"
   ]
  },
  {
   "cell_type": "code",
   "execution_count": 42,
   "metadata": {},
   "outputs": [
    {
     "data": {
      "text/plain": [
       "'[{\"name\":\"Безопасность\",\"values\":[\"Антипробуксовочная система (ASR)\",\"Система стабилизации (ESP)\",\"Подушка безопасности водителя\",\"Крепление детского кресла (задний ряд) ISOFIX\",\"Подушки безопасности оконные (шторки)\",\"Подушка безопасности пассажира\",\"Подушки безопасности боковые задние\",\"Подушки безопасности боковые\",\"Датчик давления в шинах\",\"Антиблокировочная система (ABS)\",\"Блокировка замков задних дверей\",\"Подушка безопасности для защиты коленей водителя\"]},{\"name\":\"Комфорт\",\"values\":[\"Система «старт-стоп»\",\"Электростеклоподъёмники передние\",\"Мультифункциональное рулевое колесо\",\"Прикуриватель и пепельница\",\"Бортовой компьютер\",\"Усилитель руля\",\"Электропривод зеркал\",\"Электростеклоподъёмники задние\",\"Парктроник передний\",\"Регулировка руля по вылету\",\"Климат-контроль 2-зонный\",\"Электроскладывание зеркал\",\"Парктроник задний\"]},{\"name\":\"Мультимедиа\",\"values\":[\"AUX\",\"USB\",\"Аудиосистема\",\"Bluetooth\"]},{\"name\":\"Обзор\",\"values\":[\"Датчик света\",\"Автоматический корректор фар\",\"Омыватель фар\",\"Датчик дождя\",\"Электрообогрев боковых зеркал\",\"Светодиодные фары\"]},{\"name\":\"Салон\",\"values\":[\"Регулировка передних сидений по высоте\",\"Передний центральный подлокотник\",\"Складывающееся заднее сиденье\",\"Электрорегулировка передних сидений\",\"Тёмный салон\",\"Кожа (Материал салона)\",\"Обогрев рулевого колеса\",\"Подогрев передних сидений\",\"Отделка кожей рулевого колеса\"]},{\"name\":\"Защита от угона\",\"values\":[\"Центральный замок\",\"Иммобилайзер\"]}]'"
      ]
     },
     "execution_count": 42,
     "metadata": {},
     "output_type": "execute_result"
    }
   ],
   "source": [
    "df_test.Комплектация[0][2:-2]"
   ]
  },
  {
   "cell_type": "code",
   "execution_count": 43,
   "metadata": {},
   "outputs": [
    {
     "ename": "NameError",
     "evalue": "name 'df' is not defined",
     "output_type": "error",
     "traceback": [
      "\u001b[1;31m---------------------------------------------------------------------------\u001b[0m",
      "\u001b[1;31mNameError\u001b[0m                                 Traceback (most recent call last)",
      "\u001b[1;32m<ipython-input-43-9976c08c2f1e>\u001b[0m in \u001b[0;36m<module>\u001b[1;34m\u001b[0m\n\u001b[0;32m      1\u001b[0m \u001b[1;31m# ttt = '[' + df.Комплектация.loc[89350] + ']'\u001b[0m\u001b[1;33m\u001b[0m\u001b[1;33m\u001b[0m\u001b[1;33m\u001b[0m\u001b[0m\n\u001b[1;32m----> 2\u001b[1;33m \u001b[0mttt\u001b[0m \u001b[1;33m=\u001b[0m \u001b[0mdf\u001b[0m\u001b[1;33m.\u001b[0m\u001b[0mКомплектация\u001b[0m\u001b[1;33m.\u001b[0m\u001b[0mloc\u001b[0m\u001b[1;33m[\u001b[0m\u001b[1;36m89350\u001b[0m\u001b[1;33m]\u001b[0m\u001b[1;33m\u001b[0m\u001b[1;33m\u001b[0m\u001b[0m\n\u001b[0m\u001b[0;32m      3\u001b[0m \u001b[0mttt\u001b[0m\u001b[1;33m.\u001b[0m\u001b[0mreplace\u001b[0m\u001b[1;33m(\u001b[0m\u001b[1;34m\"'\"\u001b[0m\u001b[1;33m,\u001b[0m\u001b[1;34m'\"\"'\u001b[0m\u001b[1;33m)\u001b[0m\u001b[1;33m\u001b[0m\u001b[1;33m\u001b[0m\u001b[0m\n",
      "\u001b[1;31mNameError\u001b[0m: name 'df' is not defined"
     ]
    }
   ],
   "source": [
    "# ttt = '[' + df.Комплектация.loc[89350] + ']'\n",
    "ttt = df.Комплектация.loc[89350]\n",
    "ttt.replace(\"'\",'\"\"')"
   ]
  },
  {
   "cell_type": "code",
   "execution_count": null,
   "metadata": {},
   "outputs": [],
   "source": [
    "json.loads(ttt)"
   ]
  },
  {
   "cell_type": "code",
   "execution_count": null,
   "metadata": {},
   "outputs": [],
   "source": []
  },
  {
   "cell_type": "code",
   "execution_count": null,
   "metadata": {},
   "outputs": [],
   "source": []
  },
  {
   "cell_type": "code",
   "execution_count": null,
   "metadata": {},
   "outputs": [],
   "source": []
  },
  {
   "cell_type": "code",
   "execution_count": null,
   "metadata": {},
   "outputs": [],
   "source": []
  },
  {
   "cell_type": "code",
   "execution_count": null,
   "metadata": {},
   "outputs": [],
   "source": []
  },
  {
   "cell_type": "markdown",
   "metadata": {},
   "source": [
    "# ПОДВАЛ\n",
    "df = pd.read_csv('./Project_5_data/all_auto_ru_09_09_2020.csv')"
   ]
  },
  {
   "cell_type": "code",
   "execution_count": 44,
   "metadata": {},
   "outputs": [
    {
     "data": {
      "text/plain": [
       "'[\\'[{\"name\":\"Безопасность\",\"values\":[\"Антипробуксовочная система (ASR)\",\"Система стабилизации (ESP)\",\"Подушка безопасности водителя\",\"Крепление детского кресла (задний ряд) ISOFIX\",\"Подушки безопасности оконные (шторки)\",\"Подушка безопасности пассажира\",\"Подушки безопасности боковые задние\",\"Подушки безопасности боковые\",\"Датчик давления в шинах\",\"Антиблокировочная система (ABS)\",\"Блокировка замков задних дверей\",\"Подушка безопасности для защиты коленей водителя\"]},{\"name\":\"Комфорт\",\"values\":[\"Система «старт-стоп»\",\"Электростеклоподъёмники передние\",\"Мультифункциональное рулевое колесо\",\"Прикуриватель и пепельница\",\"Бортовой компьютер\",\"Усилитель руля\",\"Электропривод зеркал\",\"Электростеклоподъёмники задние\",\"Парктроник передний\",\"Регулировка руля по вылету\",\"Климат-контроль 2-зонный\",\"Электроскладывание зеркал\",\"Парктроник задний\"]},{\"name\":\"Мультимедиа\",\"values\":[\"AUX\",\"USB\",\"Аудиосистема\",\"Bluetooth\"]},{\"name\":\"Обзор\",\"values\":[\"Датчик света\",\"Автоматический корректор фар\",\"Омыватель фар\",\"Датчик дождя\",\"Электрообогрев боковых зеркал\",\"Светодиодные фары\"]},{\"name\":\"Салон\",\"values\":[\"Регулировка передних сидений по высоте\",\"Передний центральный подлокотник\",\"Складывающееся заднее сиденье\",\"Электрорегулировка передних сидений\",\"Тёмный салон\",\"Кожа (Материал салона)\",\"Обогрев рулевого колеса\",\"Подогрев передних сидений\",\"Отделка кожей рулевого колеса\"]},{\"name\":\"Защита от угона\",\"values\":[\"Центральный замок\",\"Иммобилайзер\"]}]\\']'"
      ]
     },
     "execution_count": 44,
     "metadata": {},
     "output_type": "execute_result"
    }
   ],
   "source": [
    "tt = df_test.Комплектация[0]\n",
    "tt"
   ]
  },
  {
   "cell_type": "code",
   "execution_count": 45,
   "metadata": {},
   "outputs": [
    {
     "data": {
      "text/plain": [
       "'[\\'[{\"name\":\"Безопасность\",\"values\":[\"Антипробуксовочная система (ASR)\",\"Система стабилизации (ESP)\",\"Подушка безопасности водителя\",\"Крепление детского кресла (задний ряд) ISOFIX\",\"Подушки безопасности оконные (шторки)\",\"Подушка безопасности пассажира\",\"Подушки безопасности боковые задние\",\"Подушки безопасности боковые\",\"Датчик давления в шинах\",\"Антиблокировочная система (ABS)\",\"Блокировка замков задних дверей\",\"Подушка безопасности для защиты коленей водителя\"]},{\"name\":\"Комфорт\",\"values\":[\"Система «старт-стоп»\",\"Электростеклоподъёмники передние\",\"Мультифункциональное рулевое колесо\",\"Прикуриватель и пепельница\",\"Бортовой компьютер\",\"Усилитель руля\",\"Электропривод зеркал\",\"Электростеклоподъёмники задние\",\"Парктроник передний\",\"Регулировка руля по вылету\",\"Климат-контроль 2-зонный\",\"Электроскладывание зеркал\",\"Парктроник задний\"]},{\"name\":\"Мультимедиа\",\"values\":[\"AUX\",\"USB\",\"Аудиосистема\",\"Bluetooth\"]},{\"name\":\"Обзор\",\"values\":[\"Датчик света\",\"Автоматический корректор фар\",\"Омыватель фар\",\"Датчик дождя\",\"Электрообогрев боковых зеркал\",\"Светодиодные фары\"]},{\"name\":\"Салон\",\"values\":[\"Регулировка передних сидений по высоте\",\"Передний центральный подлокотник\",\"Складывающееся заднее сиденье\",\"Электрорегулировка передних сидений\",\"Тёмный салон\",\"Кожа (Материал салона)\",\"Обогрев рулевого колеса\",\"Подогрев передних сидений\",\"Отделка кожей рулевого колеса\"]},{\"name\":\"Защита от угона\",\"values\":[\"Центральный замок\",\"Иммобилайзер\"]}]\\']'"
      ]
     },
     "execution_count": 45,
     "metadata": {},
     "output_type": "execute_result"
    }
   ],
   "source": [
    "tt"
   ]
  },
  {
   "cell_type": "code",
   "execution_count": null,
   "metadata": {},
   "outputs": [],
   "source": []
  },
  {
   "cell_type": "code",
   "execution_count": 46,
   "metadata": {},
   "outputs": [
    {
     "data": {
      "text/plain": [
       "'0.25.1'"
      ]
     },
     "execution_count": 46,
     "metadata": {},
     "output_type": "execute_result"
    }
   ],
   "source": [
    "pd.__version__"
   ]
  },
  {
   "cell_type": "code",
   "execution_count": 47,
   "metadata": {},
   "outputs": [
    {
     "data": {
      "text/plain": [
       "'1.16.5'"
      ]
     },
     "execution_count": 47,
     "metadata": {},
     "output_type": "execute_result"
    }
   ],
   "source": [
    "np.__version__"
   ]
  },
  {
   "cell_type": "markdown",
   "metadata": {},
   "source": [
    "https://www.youtube.com/watch?v=cQPcEZoxvi0  \n",
    "http://jsonviewer.stack.hu/  \n",
    "https://www.youtube.com/watch?v=ykjBVT57r68  \n",
    "https://pythonru.com/biblioteki/kratkoe-rukovodstvo-po-biblioteke-python-requests  \n"
   ]
  },
  {
   "cell_type": "code",
   "execution_count": 48,
   "metadata": {},
   "outputs": [],
   "source": [
    "df = pd.read_csv('./Project_5_data/all_auto_ru_09_09_2020.csv')"
   ]
  },
  {
   "cell_type": "code",
   "execution_count": 49,
   "metadata": {},
   "outputs": [
    {
     "name": "stdout",
     "output_type": "stream",
     "text": [
      "<class 'pandas.core.frame.DataFrame'>\n",
      "RangeIndex: 89378 entries, 0 to 89377\n",
      "Data columns (total 26 columns):\n",
      "bodyType                89377 non-null object\n",
      "brand                   89378 non-null object\n",
      "color                   89378 non-null object\n",
      "fuelType                89378 non-null object\n",
      "modelDate               89377 non-null float64\n",
      "name                    89377 non-null object\n",
      "numberOfDoors           89377 non-null float64\n",
      "productionDate          89378 non-null int64\n",
      "vehicleConfiguration    89377 non-null object\n",
      "vehicleTransmission     89377 non-null object\n",
      "engineDisplacement      89377 non-null object\n",
      "enginePower             89377 non-null float64\n",
      "description             86124 non-null object\n",
      "mileage                 89378 non-null int64\n",
      "Комплектация            89378 non-null object\n",
      "Привод                  89377 non-null object\n",
      "Руль                    89378 non-null object\n",
      "Состояние               0 non-null float64\n",
      "Владельцы               75790 non-null float64\n",
      "ПТС                     89017 non-null object\n",
      "Таможня                 89378 non-null bool\n",
      "Владение                29201 non-null object\n",
      "price                   88968 non-null float64\n",
      "start_date              89378 non-null object\n",
      "hidden                  0 non-null float64\n",
      "model                   89378 non-null object\n",
      "dtypes: bool(1), float64(7), int64(2), object(16)\n",
      "memory usage: 17.1+ MB\n"
     ]
    }
   ],
   "source": [
    "df.info()"
   ]
  },
  {
   "cell_type": "code",
   "execution_count": 50,
   "metadata": {},
   "outputs": [
    {
     "name": "stdout",
     "output_type": "stream",
     "text": [
      "<class 'pandas.core.frame.DataFrame'>\n",
      "Int64Index: 7393 entries, 4084 to 11476\n",
      "Data columns (total 26 columns):\n",
      "bodyType                7393 non-null object\n",
      "brand                   7393 non-null object\n",
      "color                   7393 non-null object\n",
      "fuelType                7393 non-null object\n",
      "modelDate               7393 non-null float64\n",
      "name                    7393 non-null object\n",
      "numberOfDoors           7393 non-null float64\n",
      "productionDate          7393 non-null int64\n",
      "vehicleConfiguration    7393 non-null object\n",
      "vehicleTransmission     7393 non-null object\n",
      "engineDisplacement      7393 non-null object\n",
      "enginePower             7393 non-null float64\n",
      "description             7216 non-null object\n",
      "mileage                 7393 non-null int64\n",
      "Комплектация            7393 non-null object\n",
      "Привод                  7393 non-null object\n",
      "Руль                    7393 non-null object\n",
      "Состояние               0 non-null float64\n",
      "Владельцы               5109 non-null float64\n",
      "ПТС                     7293 non-null object\n",
      "Таможня                 7393 non-null bool\n",
      "Владение                1953 non-null object\n",
      "price                   7365 non-null float64\n",
      "start_date              7393 non-null object\n",
      "hidden                  0 non-null float64\n",
      "model                   7393 non-null object\n",
      "dtypes: bool(1), float64(7), int64(2), object(16)\n",
      "memory usage: 1.5+ MB\n"
     ]
    }
   ],
   "source": [
    "df[df.brand == 'BMW'].info()"
   ]
  },
  {
   "cell_type": "code",
   "execution_count": 51,
   "metadata": {},
   "outputs": [
    {
     "ename": "NameError",
     "evalue": "name 'links' is not defined",
     "output_type": "error",
     "traceback": [
      "\u001b[1;31m---------------------------------------------------------------------------\u001b[0m",
      "\u001b[1;31mNameError\u001b[0m                                 Traceback (most recent call last)",
      "\u001b[1;32m<ipython-input-51-2f5942070c40>\u001b[0m in \u001b[0;36m<module>\u001b[1;34m\u001b[0m\n\u001b[0;32m      1\u001b[0m \u001b[1;32mfrom\u001b[0m \u001b[0mtqdm\u001b[0m\u001b[1;33m.\u001b[0m\u001b[0mnotebook\u001b[0m \u001b[1;32mimport\u001b[0m \u001b[0mtqdm\u001b[0m\u001b[1;33m\u001b[0m\u001b[1;33m\u001b[0m\u001b[0m\n\u001b[0;32m      2\u001b[0m \u001b[1;32mfrom\u001b[0m \u001b[0mjoblib\u001b[0m \u001b[1;32mimport\u001b[0m \u001b[0mParallel\u001b[0m\u001b[1;33m,\u001b[0m \u001b[0mdelayed\u001b[0m\u001b[1;33m\u001b[0m\u001b[1;33m\u001b[0m\u001b[0m\n\u001b[1;32m----> 3\u001b[1;33m \u001b[0mimage_urls\u001b[0m \u001b[1;33m=\u001b[0m \u001b[0mParallel\u001b[0m\u001b[1;33m(\u001b[0m\u001b[0mn_jobs\u001b[0m \u001b[1;33m=\u001b[0m \u001b[1;36m5\u001b[0m\u001b[1;33m)\u001b[0m\u001b[1;33m(\u001b[0m\u001b[0mdelayed\u001b[0m\u001b[1;33m(\u001b[0m\u001b[0mlink_to_images\u001b[0m\u001b[1;33m)\u001b[0m\u001b[1;33m(\u001b[0m\u001b[0mlink\u001b[0m\u001b[1;33m)\u001b[0m \u001b[1;32mfor\u001b[0m \u001b[0mlink\u001b[0m \u001b[1;32min\u001b[0m \u001b[0mtqdm\u001b[0m\u001b[1;33m(\u001b[0m\u001b[0mlist\u001b[0m\u001b[1;33m(\u001b[0m\u001b[0mlinks\u001b[0m\u001b[1;33m)\u001b[0m\u001b[1;33m)\u001b[0m\u001b[1;33m)\u001b[0m\u001b[1;33m\u001b[0m\u001b[1;33m\u001b[0m\u001b[0m\n\u001b[0m",
      "\u001b[1;31mNameError\u001b[0m: name 'links' is not defined"
     ]
    }
   ],
   "source": [
    "from tqdm.notebook import tqdm\n",
    "from joblib import Parallel, delayed\n",
    "image_urls = Parallel(n_jobs = 5)(delayed(link_to_images)(link) for link in tqdm(list(links)))"
   ]
  },
  {
   "cell_type": "markdown",
   "metadata": {},
   "source": [
    "![](https://files.slack.com/files-pri/TV73V5ZRT-F01DX5HQ3C3/image.png)\n",
    "Синтаксис распараллеливания в целом такой\n",
    "```python\n",
    "result = [delayed(func)(x) for x in arr]\n",
    "```"
   ]
  },
  {
   "cell_type": "code",
   "execution_count": null,
   "metadata": {},
   "outputs": [],
   "source": [
    "import re\n",
    "\n",
    "pattern_yaer = re.compile('\\d+(?= (?:год|лет))')\n",
    "pattern_month = re.compile('\\d+(?= мес)')\n",
    "\n",
    "year = lambda x: int(pattern_yaer.search(x).group(0)) if pattern_yaer.search(x) else 0\n",
    "month = lambda x: int(pattern_month.search(x).group(0)) if pattern_month.search(x) else 0\n",
    "\n",
    "\n",
    "\n",
    "months_count = lambda x: year(x)*12 + month(x) if x==x else x\n",
    "\n",
    "months_count(df_test.Владение[0])"
   ]
  },
  {
   "cell_type": "code",
   "execution_count": null,
   "metadata": {},
   "outputs": [],
   "source": []
  },
  {
   "cell_type": "code",
   "execution_count": null,
   "metadata": {},
   "outputs": [],
   "source": [
    "# df = pd.read_csv('./Project_5_data/all_auto_ru_09_09_2020.csv')"
   ]
  },
  {
   "cell_type": "code",
   "execution_count": null,
   "metadata": {},
   "outputs": [],
   "source": []
  },
  {
   "cell_type": "code",
   "execution_count": null,
   "metadata": {},
   "outputs": [],
   "source": []
  },
  {
   "cell_type": "code",
   "execution_count": null,
   "metadata": {},
   "outputs": [],
   "source": []
  },
  {
   "cell_type": "code",
   "execution_count": null,
   "metadata": {},
   "outputs": [],
   "source": []
  },
  {
   "cell_type": "code",
   "execution_count": null,
   "metadata": {},
   "outputs": [],
   "source": []
  },
  {
   "cell_type": "code",
   "execution_count": null,
   "metadata": {},
   "outputs": [],
   "source": []
  },
  {
   "cell_type": "code",
   "execution_count": 23,
   "metadata": {},
   "outputs": [],
   "source": []
  },
  {
   "cell_type": "code",
   "execution_count": 7,
   "metadata": {},
   "outputs": [
    {
     "data": {
      "text/html": [
       "<div>\n",
       "<style scoped>\n",
       "    .dataframe tbody tr th:only-of-type {\n",
       "        vertical-align: middle;\n",
       "    }\n",
       "\n",
       "    .dataframe tbody tr th {\n",
       "        vertical-align: top;\n",
       "    }\n",
       "\n",
       "    .dataframe thead th {\n",
       "        text-align: right;\n",
       "    }\n",
       "</style>\n",
       "<table border=\"1\" class=\"dataframe\">\n",
       "  <thead>\n",
       "    <tr style=\"text-align: right;\">\n",
       "      <th></th>\n",
       "      <th>count</th>\n",
       "      <th>unique</th>\n",
       "      <th>top</th>\n",
       "      <th>freq</th>\n",
       "      <th>mean</th>\n",
       "      <th>std</th>\n",
       "      <th>min</th>\n",
       "      <th>50%</th>\n",
       "      <th>max</th>\n",
       "    </tr>\n",
       "  </thead>\n",
       "  <tbody>\n",
       "    <tr>\n",
       "      <th>bodyType</th>\n",
       "      <td>89377</td>\n",
       "      <td>168</td>\n",
       "      <td>Внедорожник 5 дв.</td>\n",
       "      <td>31885</td>\n",
       "      <td>NaN</td>\n",
       "      <td>NaN</td>\n",
       "      <td>NaN</td>\n",
       "      <td>NaN</td>\n",
       "      <td>NaN</td>\n",
       "    </tr>\n",
       "    <tr>\n",
       "      <th>brand</th>\n",
       "      <td>89378</td>\n",
       "      <td>36</td>\n",
       "      <td>MERCEDES</td>\n",
       "      <td>8012</td>\n",
       "      <td>NaN</td>\n",
       "      <td>NaN</td>\n",
       "      <td>NaN</td>\n",
       "      <td>NaN</td>\n",
       "      <td>NaN</td>\n",
       "    </tr>\n",
       "    <tr>\n",
       "      <th>color</th>\n",
       "      <td>89378</td>\n",
       "      <td>16</td>\n",
       "      <td>040001</td>\n",
       "      <td>25212</td>\n",
       "      <td>NaN</td>\n",
       "      <td>NaN</td>\n",
       "      <td>NaN</td>\n",
       "      <td>NaN</td>\n",
       "      <td>NaN</td>\n",
       "    </tr>\n",
       "    <tr>\n",
       "      <th>fuelType</th>\n",
       "      <td>89378</td>\n",
       "      <td>6</td>\n",
       "      <td>бензин</td>\n",
       "      <td>75053</td>\n",
       "      <td>NaN</td>\n",
       "      <td>NaN</td>\n",
       "      <td>NaN</td>\n",
       "      <td>NaN</td>\n",
       "      <td>NaN</td>\n",
       "    </tr>\n",
       "    <tr>\n",
       "      <th>modelDate</th>\n",
       "      <td>89377</td>\n",
       "      <td>NaN</td>\n",
       "      <td>NaN</td>\n",
       "      <td>NaN</td>\n",
       "      <td>2008.54</td>\n",
       "      <td>7.41544</td>\n",
       "      <td>1904</td>\n",
       "      <td>2009</td>\n",
       "      <td>2020</td>\n",
       "    </tr>\n",
       "    <tr>\n",
       "      <th>name</th>\n",
       "      <td>89377</td>\n",
       "      <td>4484</td>\n",
       "      <td>2.0 AT (150 л.с.)</td>\n",
       "      <td>1610</td>\n",
       "      <td>NaN</td>\n",
       "      <td>NaN</td>\n",
       "      <td>NaN</td>\n",
       "      <td>NaN</td>\n",
       "      <td>NaN</td>\n",
       "    </tr>\n",
       "    <tr>\n",
       "      <th>numberOfDoors</th>\n",
       "      <td>89377</td>\n",
       "      <td>NaN</td>\n",
       "      <td>NaN</td>\n",
       "      <td>NaN</td>\n",
       "      <td>4.51047</td>\n",
       "      <td>0.653203</td>\n",
       "      <td>0</td>\n",
       "      <td>5</td>\n",
       "      <td>5</td>\n",
       "    </tr>\n",
       "    <tr>\n",
       "      <th>productionDate</th>\n",
       "      <td>89378</td>\n",
       "      <td>NaN</td>\n",
       "      <td>NaN</td>\n",
       "      <td>NaN</td>\n",
       "      <td>2010.83</td>\n",
       "      <td>7.02478</td>\n",
       "      <td>1904</td>\n",
       "      <td>2011</td>\n",
       "      <td>2020</td>\n",
       "    </tr>\n",
       "    <tr>\n",
       "      <th>vehicleConfiguration</th>\n",
       "      <td>89377</td>\n",
       "      <td>1860</td>\n",
       "      <td>SEDAN MECHANICAL 1.6</td>\n",
       "      <td>4166</td>\n",
       "      <td>NaN</td>\n",
       "      <td>NaN</td>\n",
       "      <td>NaN</td>\n",
       "      <td>NaN</td>\n",
       "      <td>NaN</td>\n",
       "    </tr>\n",
       "    <tr>\n",
       "      <th>vehicleTransmission</th>\n",
       "      <td>89377</td>\n",
       "      <td>4</td>\n",
       "      <td>AUTOMATIC</td>\n",
       "      <td>49218</td>\n",
       "      <td>NaN</td>\n",
       "      <td>NaN</td>\n",
       "      <td>NaN</td>\n",
       "      <td>NaN</td>\n",
       "      <td>NaN</td>\n",
       "    </tr>\n",
       "    <tr>\n",
       "      <th>engineDisplacement</th>\n",
       "      <td>89377</td>\n",
       "      <td>534</td>\n",
       "      <td>1.6</td>\n",
       "      <td>17032</td>\n",
       "      <td>NaN</td>\n",
       "      <td>NaN</td>\n",
       "      <td>NaN</td>\n",
       "      <td>NaN</td>\n",
       "      <td>NaN</td>\n",
       "    </tr>\n",
       "    <tr>\n",
       "      <th>enginePower</th>\n",
       "      <td>89377</td>\n",
       "      <td>NaN</td>\n",
       "      <td>NaN</td>\n",
       "      <td>NaN</td>\n",
       "      <td>171.232</td>\n",
       "      <td>83.5275</td>\n",
       "      <td>11</td>\n",
       "      <td>150</td>\n",
       "      <td>800</td>\n",
       "    </tr>\n",
       "    <tr>\n",
       "      <th>description</th>\n",
       "      <td>86124</td>\n",
       "      <td>77568</td>\n",
       "      <td>РОЛЬФ Северо-Запад - это первый мегамолл автом...</td>\n",
       "      <td>246</td>\n",
       "      <td>NaN</td>\n",
       "      <td>NaN</td>\n",
       "      <td>NaN</td>\n",
       "      <td>NaN</td>\n",
       "      <td>NaN</td>\n",
       "    </tr>\n",
       "    <tr>\n",
       "      <th>mileage</th>\n",
       "      <td>89378</td>\n",
       "      <td>NaN</td>\n",
       "      <td>NaN</td>\n",
       "      <td>NaN</td>\n",
       "      <td>134829</td>\n",
       "      <td>102980</td>\n",
       "      <td>0</td>\n",
       "      <td>130000</td>\n",
       "      <td>1e+06</td>\n",
       "    </tr>\n",
       "    <tr>\n",
       "      <th>Комплектация</th>\n",
       "      <td>89378</td>\n",
       "      <td>5839</td>\n",
       "      <td>{'id': '0'}</td>\n",
       "      <td>59130</td>\n",
       "      <td>NaN</td>\n",
       "      <td>NaN</td>\n",
       "      <td>NaN</td>\n",
       "      <td>NaN</td>\n",
       "      <td>NaN</td>\n",
       "    </tr>\n",
       "    <tr>\n",
       "      <th>Привод</th>\n",
       "      <td>89377</td>\n",
       "      <td>3</td>\n",
       "      <td>передний</td>\n",
       "      <td>47315</td>\n",
       "      <td>NaN</td>\n",
       "      <td>NaN</td>\n",
       "      <td>NaN</td>\n",
       "      <td>NaN</td>\n",
       "      <td>NaN</td>\n",
       "    </tr>\n",
       "    <tr>\n",
       "      <th>Руль</th>\n",
       "      <td>89378</td>\n",
       "      <td>2</td>\n",
       "      <td>LEFT</td>\n",
       "      <td>87589</td>\n",
       "      <td>NaN</td>\n",
       "      <td>NaN</td>\n",
       "      <td>NaN</td>\n",
       "      <td>NaN</td>\n",
       "      <td>NaN</td>\n",
       "    </tr>\n",
       "    <tr>\n",
       "      <th>Состояние</th>\n",
       "      <td>0</td>\n",
       "      <td>NaN</td>\n",
       "      <td>NaN</td>\n",
       "      <td>NaN</td>\n",
       "      <td>NaN</td>\n",
       "      <td>NaN</td>\n",
       "      <td>NaN</td>\n",
       "      <td>NaN</td>\n",
       "      <td>NaN</td>\n",
       "    </tr>\n",
       "    <tr>\n",
       "      <th>Владельцы</th>\n",
       "      <td>75790</td>\n",
       "      <td>NaN</td>\n",
       "      <td>NaN</td>\n",
       "      <td>NaN</td>\n",
       "      <td>2.2337</td>\n",
       "      <td>0.817455</td>\n",
       "      <td>1</td>\n",
       "      <td>2</td>\n",
       "      <td>3</td>\n",
       "    </tr>\n",
       "    <tr>\n",
       "      <th>ПТС</th>\n",
       "      <td>89017</td>\n",
       "      <td>2</td>\n",
       "      <td>ORIGINAL</td>\n",
       "      <td>78597</td>\n",
       "      <td>NaN</td>\n",
       "      <td>NaN</td>\n",
       "      <td>NaN</td>\n",
       "      <td>NaN</td>\n",
       "      <td>NaN</td>\n",
       "    </tr>\n",
       "    <tr>\n",
       "      <th>Таможня</th>\n",
       "      <td>89378</td>\n",
       "      <td>1</td>\n",
       "      <td>True</td>\n",
       "      <td>89378</td>\n",
       "      <td>NaN</td>\n",
       "      <td>NaN</td>\n",
       "      <td>NaN</td>\n",
       "      <td>NaN</td>\n",
       "      <td>NaN</td>\n",
       "    </tr>\n",
       "    <tr>\n",
       "      <th>Владение</th>\n",
       "      <td>29201</td>\n",
       "      <td>290</td>\n",
       "      <td>{'year': 2018, 'month': 10}</td>\n",
       "      <td>497</td>\n",
       "      <td>NaN</td>\n",
       "      <td>NaN</td>\n",
       "      <td>NaN</td>\n",
       "      <td>NaN</td>\n",
       "      <td>NaN</td>\n",
       "    </tr>\n",
       "    <tr>\n",
       "      <th>price</th>\n",
       "      <td>88968</td>\n",
       "      <td>NaN</td>\n",
       "      <td>NaN</td>\n",
       "      <td>NaN</td>\n",
       "      <td>1.29459e+06</td>\n",
       "      <td>1.95041e+06</td>\n",
       "      <td>16000</td>\n",
       "      <td>650000</td>\n",
       "      <td>9.9e+07</td>\n",
       "    </tr>\n",
       "    <tr>\n",
       "      <th>start_date</th>\n",
       "      <td>89378</td>\n",
       "      <td>75680</td>\n",
       "      <td>2020-09-01T10:01:11Z</td>\n",
       "      <td>93</td>\n",
       "      <td>NaN</td>\n",
       "      <td>NaN</td>\n",
       "      <td>NaN</td>\n",
       "      <td>NaN</td>\n",
       "      <td>NaN</td>\n",
       "    </tr>\n",
       "    <tr>\n",
       "      <th>hidden</th>\n",
       "      <td>0</td>\n",
       "      <td>NaN</td>\n",
       "      <td>NaN</td>\n",
       "      <td>NaN</td>\n",
       "      <td>NaN</td>\n",
       "      <td>NaN</td>\n",
       "      <td>NaN</td>\n",
       "      <td>NaN</td>\n",
       "      <td>NaN</td>\n",
       "    </tr>\n",
       "    <tr>\n",
       "      <th>model</th>\n",
       "      <td>89378</td>\n",
       "      <td>1086</td>\n",
       "      <td>FOCUS</td>\n",
       "      <td>2467</td>\n",
       "      <td>NaN</td>\n",
       "      <td>NaN</td>\n",
       "      <td>NaN</td>\n",
       "      <td>NaN</td>\n",
       "      <td>NaN</td>\n",
       "    </tr>\n",
       "  </tbody>\n",
       "</table>\n",
       "</div>"
      ],
      "text/plain": [
       "                      count unique  \\\n",
       "bodyType              89377    168   \n",
       "brand                 89378     36   \n",
       "color                 89378     16   \n",
       "fuelType              89378      6   \n",
       "modelDate             89377    NaN   \n",
       "name                  89377   4484   \n",
       "numberOfDoors         89377    NaN   \n",
       "productionDate        89378    NaN   \n",
       "vehicleConfiguration  89377   1860   \n",
       "vehicleTransmission   89377      4   \n",
       "engineDisplacement    89377    534   \n",
       "enginePower           89377    NaN   \n",
       "description           86124  77568   \n",
       "mileage               89378    NaN   \n",
       "Комплектация          89378   5839   \n",
       "Привод                89377      3   \n",
       "Руль                  89378      2   \n",
       "Состояние                 0    NaN   \n",
       "Владельцы             75790    NaN   \n",
       "ПТС                   89017      2   \n",
       "Таможня               89378      1   \n",
       "Владение              29201    290   \n",
       "price                 88968    NaN   \n",
       "start_date            89378  75680   \n",
       "hidden                    0    NaN   \n",
       "model                 89378   1086   \n",
       "\n",
       "                                                                    top  \\\n",
       "bodyType                                              Внедорожник 5 дв.   \n",
       "brand                                                          MERCEDES   \n",
       "color                                                            040001   \n",
       "fuelType                                                         бензин   \n",
       "modelDate                                                           NaN   \n",
       "name                                                  2.0 AT (150 л.с.)   \n",
       "numberOfDoors                                                       NaN   \n",
       "productionDate                                                      NaN   \n",
       "vehicleConfiguration                               SEDAN MECHANICAL 1.6   \n",
       "vehicleTransmission                                           AUTOMATIC   \n",
       "engineDisplacement                                                  1.6   \n",
       "enginePower                                                         NaN   \n",
       "description           РОЛЬФ Северо-Запад - это первый мегамолл автом...   \n",
       "mileage                                                             NaN   \n",
       "Комплектация                                                {'id': '0'}   \n",
       "Привод                                                         передний   \n",
       "Руль                                                               LEFT   \n",
       "Состояние                                                           NaN   \n",
       "Владельцы                                                           NaN   \n",
       "ПТС                                                            ORIGINAL   \n",
       "Таможня                                                            True   \n",
       "Владение                                    {'year': 2018, 'month': 10}   \n",
       "price                                                               NaN   \n",
       "start_date                                         2020-09-01T10:01:11Z   \n",
       "hidden                                                              NaN   \n",
       "model                                                             FOCUS   \n",
       "\n",
       "                       freq         mean          std    min     50%      max  \n",
       "bodyType              31885          NaN          NaN    NaN     NaN      NaN  \n",
       "brand                  8012          NaN          NaN    NaN     NaN      NaN  \n",
       "color                 25212          NaN          NaN    NaN     NaN      NaN  \n",
       "fuelType              75053          NaN          NaN    NaN     NaN      NaN  \n",
       "modelDate               NaN      2008.54      7.41544   1904    2009     2020  \n",
       "name                   1610          NaN          NaN    NaN     NaN      NaN  \n",
       "numberOfDoors           NaN      4.51047     0.653203      0       5        5  \n",
       "productionDate          NaN      2010.83      7.02478   1904    2011     2020  \n",
       "vehicleConfiguration   4166          NaN          NaN    NaN     NaN      NaN  \n",
       "vehicleTransmission   49218          NaN          NaN    NaN     NaN      NaN  \n",
       "engineDisplacement    17032          NaN          NaN    NaN     NaN      NaN  \n",
       "enginePower             NaN      171.232      83.5275     11     150      800  \n",
       "description             246          NaN          NaN    NaN     NaN      NaN  \n",
       "mileage                 NaN       134829       102980      0  130000    1e+06  \n",
       "Комплектация          59130          NaN          NaN    NaN     NaN      NaN  \n",
       "Привод                47315          NaN          NaN    NaN     NaN      NaN  \n",
       "Руль                  87589          NaN          NaN    NaN     NaN      NaN  \n",
       "Состояние               NaN          NaN          NaN    NaN     NaN      NaN  \n",
       "Владельцы               NaN       2.2337     0.817455      1       2        3  \n",
       "ПТС                   78597          NaN          NaN    NaN     NaN      NaN  \n",
       "Таможня               89378          NaN          NaN    NaN     NaN      NaN  \n",
       "Владение                497          NaN          NaN    NaN     NaN      NaN  \n",
       "price                   NaN  1.29459e+06  1.95041e+06  16000  650000  9.9e+07  \n",
       "start_date               93          NaN          NaN    NaN     NaN      NaN  \n",
       "hidden                  NaN          NaN          NaN    NaN     NaN      NaN  \n",
       "model                  2467          NaN          NaN    NaN     NaN      NaN  "
      ]
     },
     "execution_count": 7,
     "metadata": {},
     "output_type": "execute_result"
    }
   ],
   "source": [
    "df.describe(include='all',percentiles=[0.5]).T"
   ]
  },
  {
   "cell_type": "code",
   "execution_count": 22,
   "metadata": {},
   "outputs": [
    {
     "data": {
      "text/plain": [
       "[31885,\n",
       " 8012,\n",
       " 25212,\n",
       " 75053,\n",
       " 6138,\n",
       " 1610,\n",
       " 51625,\n",
       " 12524,\n",
       " 4166,\n",
       " 49218,\n",
       " 17032,\n",
       " 7058,\n",
       " 246,\n",
       " 13588,\n",
       " 59130,\n",
       " 47315,\n",
       " 87589,\n",
       " nan,\n",
       " 36248,\n",
       " 78597,\n",
       " 89378,\n",
       " 497,\n",
       " 1212,\n",
       " 93,\n",
       " nan,\n",
       " 2467]"
      ]
     },
     "execution_count": 22,
     "metadata": {},
     "output_type": "execute_result"
    }
   ],
   "source": [
    "# [df[col].value_counts().iloc[0] for col in  df.columns]\n",
    "[df[col].value_counts().iloc[0] \n",
    " if len(df[col].value_counts())!=0 else np.NAN \n",
    " for col in  df.columns]"
   ]
  },
  {
   "cell_type": "code",
   "execution_count": 16,
   "metadata": {},
   "outputs": [
    {
     "data": {
      "text/plain": [
       "1"
      ]
     },
     "execution_count": 16,
     "metadata": {},
     "output_type": "execute_result"
    }
   ],
   "source": [
    "5%2"
   ]
  },
  {
   "cell_type": "code",
   "execution_count": 2,
   "metadata": {},
   "outputs": [],
   "source": [
    "ttt = '''AC\n",
    "3\n",
    "AMC\n",
    "2\n",
    "Acura\n",
    "65\n",
    "Alfa Romeo\n",
    "54\n",
    "Alpina\n",
    "6\n",
    "Ariel\n",
    "1\n",
    "Aro\n",
    "1\n",
    "Asia\n",
    "1\n",
    "Aston Martin\n",
    "19\n",
    "Audi\n",
    "3094\n",
    "Austin Healey\n",
    "1\n",
    "BMW\n",
    "5819\n",
    "BYD\n",
    "20\n",
    "Bentley\n",
    "93\n",
    "Borgward\n",
    "1\n",
    "Brilliance\n",
    "17\n",
    "Bugatti\n",
    "1\n",
    "Buick\n",
    "12\n",
    "CHERYEXEED\n",
    "13\n",
    "Cadillac\n",
    "484\n",
    "ChangFeng\n",
    "1\n",
    "Changan\n",
    "154\n",
    "Chery\n",
    "446\n",
    "Chevrolet\n",
    "2643\n",
    "Chrysler\n",
    "253\n",
    "Citroen\n",
    "882\n",
    "DKW\n",
    "2\n",
    "DS\n",
    "1\n",
    "DW Hower\n",
    "5\n",
    "Dacia\n",
    "9\n",
    "Dadi\n",
    "1\n",
    "Daewoo\n",
    "671\n",
    "Daihatsu\n",
    "37\n",
    "Daimler\n",
    "3\n",
    "Datsun\n",
    "182\n",
    "Delage\n",
    "1\n",
    "Derways\n",
    "2\n",
    "Dodge\n",
    "305\n",
    "DongFeng\n",
    "13\n",
    "Doninvest\n",
    "1\n",
    "Eagle\n",
    "2\n",
    "Excalibur\n",
    "1\n",
    "FAW\n",
    "54\n",
    "Ferrari\n",
    "22\n",
    "Fiat\n",
    "171\n",
    "Ford\n",
    "3334\n",
    "GAC\n",
    "3\n",
    "GMC\n",
    "23\n",
    "Geely\n",
    "276\n",
    "Genesis\n",
    "29\n",
    "Great Wall\n",
    "323\n",
    "Hafei\n",
    "4\n",
    "Haima\n",
    "11\n",
    "Haval\n",
    "186\n",
    "Hawtai\n",
    "3\n",
    "Heinkel\n",
    "1\n",
    "Honda\n",
    "827\n",
    "HuangHai\n",
    "1\n",
    "Hummer\n",
    "50\n",
    "Hyundai\n",
    "4153\n",
    "Infiniti\n",
    "672\n",
    "Iran Khodro\n",
    "25\n",
    "Isuzu\n",
    "25\n",
    "JAC\n",
    "7\n",
    "Jaguar\n",
    "283\n",
    "Jeep\n",
    "361\n",
    "Kia\n",
    "4131\n",
    "LADA (ВАЗ)\n",
    "7325\n",
    "Lamborghini\n",
    "10\n",
    "Lancia\n",
    "7\n",
    "Land Rover\n",
    "1462\n",
    "Lexus\n",
    "740\n",
    "Lifan\n",
    "211\n",
    "Lincoln\n",
    "58\n",
    "Luxgen\n",
    "15\n",
    "MG\n",
    "5\n",
    "MINI\n",
    "387\n",
    "Maserati\n",
    "38\n",
    "Maybach\n",
    "7\n",
    "Mazda\n",
    "1799\n",
    "McLaren\n",
    "3\n",
    "Mercedes-Benz\n",
    "10044\n",
    "Mercury\n",
    "17\n",
    "Metrocab\n",
    "1\n",
    "Mitsubishi\n",
    "2852\n",
    "Mitsuoka\n",
    "1\n",
    "Nissan\n",
    "4275\n",
    "Oldsmobile\n",
    "5\n",
    "Opel\n",
    "2235\n",
    "PUCH\n",
    "1\n",
    "Packard\n",
    "2\n",
    "Peugeot\n",
    "1218\n",
    "Plymouth\n",
    "14\n",
    "Pontiac\n",
    "20\n",
    "Porsche\n",
    "636\n",
    "RAM\n",
    "4\n",
    "Ravon\n",
    "95\n",
    "Renault\n",
    "2534\n",
    "Rolls-Royce\n",
    "53\n",
    "Rover\n",
    "53\n",
    "SEAT\n",
    "65\n",
    "Saab\n",
    "112\n",
    "Saturn\n",
    "5\n",
    "Scion\n",
    "6\n",
    "Shanghai Maple\n",
    "1\n",
    "Skoda\n",
    "2403\n",
    "Smart\n",
    "74\n",
    "SsangYong\n",
    "473\n",
    "Subaru\n",
    "526\n",
    "Suzuki\n",
    "889\n",
    "Tatra\n",
    "1\n",
    "Tesla\n",
    "48\n",
    "Toyota\n",
    "3013\n",
    "Triumph\n",
    "1\n",
    "Volkswagen\n",
    "4962\n",
    "Volvo\n",
    "1477\n",
    "Vortex\n",
    "66\n",
    "Willys\n",
    "2\n",
    "Xin Kai\n",
    "1\n",
    "ZX\n",
    "3\n",
    "Zotye\n",
    "16\n",
    "ГАЗ\n",
    "809\n",
    "Гоночный болид\n",
    "3\n",
    "ЗАЗ\n",
    "197\n",
    "ЗИЛ\n",
    "3\n",
    "ЗиС\n",
    "1\n",
    "ИЖ\n",
    "104\n",
    "ЛуАЗ\n",
    "36\n",
    "Москвич\n",
    "182\n",
    "СМЗ\n",
    "3\n",
    "ТагАЗ\n",
    "50\n",
    "УАЗ\n",
    "873'''\n"
   ]
  },
  {
   "cell_type": "code",
   "execution_count": 9,
   "metadata": {},
   "outputs": [
    {
     "data": {
      "text/plain": [
       "['AC',\n",
       " 'AMC',\n",
       " 'Acura',\n",
       " 'Alfa Romeo',\n",
       " 'Alpina',\n",
       " 'Ariel',\n",
       " 'Aro',\n",
       " 'Asia',\n",
       " 'Aston Martin',\n",
       " 'Audi',\n",
       " 'Austin Healey',\n",
       " 'BMW',\n",
       " 'BYD',\n",
       " 'Bentley',\n",
       " 'Borgward',\n",
       " 'Brilliance',\n",
       " 'Bugatti',\n",
       " 'Buick',\n",
       " 'CHERYEXEED',\n",
       " 'Cadillac',\n",
       " 'ChangFeng',\n",
       " 'Changan',\n",
       " 'Chery',\n",
       " 'Chevrolet',\n",
       " 'Chrysler',\n",
       " 'Citroen',\n",
       " 'DKW',\n",
       " 'DS',\n",
       " 'DW Hower',\n",
       " 'Dacia',\n",
       " 'Dadi',\n",
       " 'Daewoo',\n",
       " 'Daihatsu',\n",
       " 'Daimler',\n",
       " 'Datsun',\n",
       " 'Delage',\n",
       " 'Derways',\n",
       " 'Dodge',\n",
       " 'DongFeng',\n",
       " 'Doninvest',\n",
       " 'Eagle',\n",
       " 'Excalibur',\n",
       " 'FAW',\n",
       " 'Ferrari',\n",
       " 'Fiat',\n",
       " 'Ford',\n",
       " 'GAC',\n",
       " 'GMC',\n",
       " 'Geely',\n",
       " 'Genesis',\n",
       " 'Great Wall',\n",
       " 'Hafei',\n",
       " 'Haima',\n",
       " 'Haval',\n",
       " 'Hawtai',\n",
       " 'Heinkel',\n",
       " 'Honda',\n",
       " 'HuangHai',\n",
       " 'Hummer',\n",
       " 'Hyundai',\n",
       " 'Infiniti',\n",
       " 'Iran Khodro',\n",
       " 'Isuzu',\n",
       " 'JAC',\n",
       " 'Jaguar',\n",
       " 'Jeep',\n",
       " 'Kia',\n",
       " 'LADA (ВАЗ)',\n",
       " 'Lamborghini',\n",
       " 'Lancia',\n",
       " 'Land Rover',\n",
       " 'Lexus',\n",
       " 'Lifan',\n",
       " 'Lincoln',\n",
       " 'Luxgen',\n",
       " 'MG',\n",
       " 'MINI',\n",
       " 'Maserati',\n",
       " 'Maybach',\n",
       " 'Mazda',\n",
       " 'McLaren',\n",
       " 'Mercedes-Benz',\n",
       " 'Mercury',\n",
       " 'Metrocab',\n",
       " 'Mitsubishi',\n",
       " 'Mitsuoka',\n",
       " 'Nissan',\n",
       " 'Oldsmobile',\n",
       " 'Opel',\n",
       " 'PUCH',\n",
       " 'Packard',\n",
       " 'Peugeot',\n",
       " 'Plymouth',\n",
       " 'Pontiac',\n",
       " 'Porsche',\n",
       " 'RAM',\n",
       " 'Ravon',\n",
       " 'Renault',\n",
       " 'Rolls-Royce',\n",
       " 'Rover',\n",
       " 'SEAT',\n",
       " 'Saab',\n",
       " 'Saturn',\n",
       " 'Scion',\n",
       " 'Shanghai Maple',\n",
       " 'Skoda',\n",
       " 'Smart',\n",
       " 'SsangYong',\n",
       " 'Subaru',\n",
       " 'Suzuki',\n",
       " 'Tatra',\n",
       " 'Tesla',\n",
       " 'Toyota',\n",
       " 'Triumph',\n",
       " 'Volkswagen',\n",
       " 'Volvo',\n",
       " 'Vortex',\n",
       " 'Willys',\n",
       " 'Xin Kai',\n",
       " 'ZX',\n",
       " 'Zotye',\n",
       " 'ГАЗ',\n",
       " 'Гоночный болид',\n",
       " 'ЗАЗ',\n",
       " 'ЗИЛ',\n",
       " 'ЗиС',\n",
       " 'ИЖ',\n",
       " 'ЛуАЗ',\n",
       " 'Москвич',\n",
       " 'СМЗ',\n",
       " 'ТагАЗ',\n",
       " 'УАЗ']"
      ]
     },
     "execution_count": 9,
     "metadata": {},
     "output_type": "execute_result"
    }
   ],
   "source": [
    "ttt.split('\\n')[0::2]"
   ]
  },
  {
   "cell_type": "code",
   "execution_count": 35,
   "metadata": {},
   "outputs": [
    {
     "ename": "SyntaxError",
     "evalue": "invalid syntax (<ipython-input-35-0cd4b53912d7>, line 1)",
     "output_type": "error",
     "traceback": [
      "\u001b[1;36m  File \u001b[1;32m\"<ipython-input-35-0cd4b53912d7>\"\u001b[1;36m, line \u001b[1;32m1\u001b[0m\n\u001b[1;33m    https://www.color-hex.com/color/0000cc\u001b[0m\n\u001b[1;37m           ^\u001b[0m\n\u001b[1;31mSyntaxError\u001b[0m\u001b[1;31m:\u001b[0m invalid syntax\n"
     ]
    }
   ],
   "source": [
    "https://www.color-hex.com/color/0000cc"
   ]
  },
  {
   "cell_type": "code",
   "execution_count": null,
   "metadata": {},
   "outputs": [],
   "source": [
    "'чёрный' 040001, \n",
    "'белый' FAFBFB, \n",
    "'синий' 0000CC, \n",
    "'коричневый' 200204, \n",
    "'красный' EE1D19, \n",
    "'серый' CACECB,\n",
    "'бежевый' C49648, \n",
    "'серебристый' 97948F, \n",
    "'золотистый' FFD600, \n",
    "'оранжевый' FF8649, \n",
    "'голубой' 22A0F8,\n",
    "'пурпурный' FFC0CB, \n",
    "'жёлтый' DEA522, \n",
    "'зелёный' 007F00, \n",
    "'фиолетовый 660099, 4A2197'"
   ]
  },
  {
   "cell_type": "code",
   "execution_count": 27,
   "metadata": {},
   "outputs": [],
   "source": [
    "color_codes = {\n",
    "    '040001': 'чёрный',\n",
    "    'FAFBFB': 'белый', \n",
    "    '0000CC': 'синий', \n",
    "    '200204': 'коричневый', \n",
    "    'EE1D19': 'красный', \n",
    "    'CACECB': 'серый',\n",
    "    'C49648': 'бежевый', \n",
    "    '97948F': 'серебристый', \n",
    "    'FFD600': 'золотистый', \n",
    "    'FF8649': 'оранжевый', \n",
    "    '22A0F8': 'голубой',\n",
    "    'FFC0CB': 'пурпурный', \n",
    "    'DEA522': 'жёлтый', \n",
    "    '007F00': 'зелёный', \n",
    "    '660099': 'фиолетовый',\n",
    "    '4A2197': 'фиолетовый'}"
   ]
  },
  {
   "cell_type": "code",
   "execution_count": null,
   "metadata": {},
   "outputs": [],
   "source": []
  }
 ],
 "metadata": {
  "kernelspec": {
   "display_name": "Python 3",
   "language": "python",
   "name": "python3"
  },
  "language_info": {
   "codemirror_mode": {
    "name": "ipython",
    "version": 3
   },
   "file_extension": ".py",
   "mimetype": "text/x-python",
   "name": "python",
   "nbconvert_exporter": "python",
   "pygments_lexer": "ipython3",
   "version": "3.6.5"
  }
 },
 "nbformat": 4,
 "nbformat_minor": 2
}
