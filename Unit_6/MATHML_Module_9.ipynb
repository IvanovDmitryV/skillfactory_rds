{
 "cells": [
  {
   "cell_type": "code",
   "execution_count": 56,
   "id": "2883755b",
   "metadata": {},
   "outputs": [],
   "source": [
    "import pandas as pd\n",
    "import numpy as np\n",
    "from sklearn.model_selection import train_test_split\n",
    "from sklearn.preprocessing import StandardScaler\n",
    "from sklearn.linear_model import LogisticRegression\n",
    "from sklearn.tree import DecisionTreeClassifier\n",
    "from sklearn.ensemble import BaggingClassifier\n",
    "from sklearn.metrics import f1_score"
   ]
  },
  {
   "cell_type": "markdown",
   "id": "3ce304be",
   "metadata": {},
   "source": [
    "#### Задание 2.2\n",
    "Вычислите дисперсию для этого ряда. Результат округлите до трёх знаков после точки-разделителя."
   ]
  },
  {
   "cell_type": "code",
   "execution_count": 13,
   "id": "ad1b438c",
   "metadata": {},
   "outputs": [
    {
     "data": {
      "text/plain": [
       "(0.317, 0.317)"
      ]
     },
     "execution_count": 13,
     "metadata": {},
     "output_type": "execute_result"
    }
   ],
   "source": [
    "row = np.array([4.4, 3.8, 4.8, 4.0, 3.4, 4.2, 5.2])\n",
    "var = (row**2).mean() - row.mean()**2\n",
    "round(var,3), round(row.std()**2,3)"
   ]
  },
  {
   "cell_type": "code",
   "execution_count": null,
   "id": "71845e21",
   "metadata": {},
   "outputs": [],
   "source": []
  },
  {
   "cell_type": "markdown",
   "id": "e330d825",
   "metadata": {},
   "source": [
    "### Задание 2.7\n",
    "Объёмная и содержательная практика у нас ещё впереди, но в качестве разминки давайте поработаем с уже известным вам датасетом о вине, который можно скачать [здесь](https://lms.skillfactory.ru/assets/courseware/v1/805b5c231251e174abb4fdbbd391adc3/asset-v1:SkillFactory+DSPR-2.0+14JULY2021+type@asset+block/wineQualityReds.zip).\n",
    "\n",
    "Ранее вы обучали на данных только один алгоритм, а теперь мы попробуем сравнить несколько.\n",
    "\n",
    "Подготовьте данные к классификации. Условно разделите вино на хорошее и плохое. Хорошим вином будем называть то, параметр `quality` которого — 6 и более.   \n",
    "Сравните несколько методов классификации: ***логистическую регрессию***, ***дерево решений*** и ***бэггинг***. Это позволит вам увидеть, как меняется качество в зависимости от выбора того или иного алгоритма.   \n",
    "    \n",
    "Разделите выборку на обучающую и тестовую в соотношении `70/30`, в качестве значения параметра `random_state` возьмите число `42`.   \n",
    "Для начала обучите два классификатора: \n",
    "- логистическую регрессию (с параметрами по умолчанию)   \n",
    "- дерево решений (random_state = 42, максимальная глубина — 10).   \n",
    "\n",
    "1. Введите значение F1-score для классификатора, который показал наилучшее значение. Ответ округлите до трёх знаков после точки-разделителя."
   ]
  },
  {
   "cell_type": "code",
   "execution_count": 109,
   "id": "ff60e36b",
   "metadata": {},
   "outputs": [],
   "source": [
    "# получим и подготовим данные\n",
    "df = pd.read_csv('./data/wineQualityReds.csv').drop(columns='Unnamed: 0')"
   ]
  },
  {
   "cell_type": "code",
   "execution_count": 110,
   "id": "c5be6908",
   "metadata": {},
   "outputs": [],
   "source": [
    "df.quality = (df.quality>=6).astype(int)\n",
    "\n",
    "X, y = df.drop(columns='quality'), df.quality\n",
    "\n",
    "# scaler = StandardScaler()\n",
    "# X = scaler.fit_transform(X)"
   ]
  },
  {
   "cell_type": "code",
   "execution_count": 111,
   "id": "0cbb5d72",
   "metadata": {},
   "outputs": [
    {
     "data": {
      "text/plain": [
       "855"
      ]
     },
     "execution_count": 111,
     "metadata": {},
     "output_type": "execute_result"
    }
   ],
   "source": [
    "y.sum()"
   ]
  },
  {
   "cell_type": "code",
   "execution_count": 112,
   "id": "0875f837",
   "metadata": {},
   "outputs": [],
   "source": [
    "# разделим выборку на обучающую и тестовую в соотношении 70/30, в качестве значения параметра \n",
    "# random_state возьмем число 42\n",
    "X_train,X_test,y_train,y_test = train_test_split(X,y, test_size=0.3,random_state=42)"
   ]
  },
  {
   "cell_type": "code",
   "execution_count": 115,
   "id": "5cc44d49",
   "metadata": {},
   "outputs": [
    {
     "data": {
      "text/plain": [
       "0.793"
      ]
     },
     "execution_count": 115,
     "metadata": {},
     "output_type": "execute_result"
    }
   ],
   "source": [
    "# логистическую регрессию\n",
    "lr = LogisticRegression(max_iter=1000)\n",
    "lr.fit(X_train,y_train)\n",
    "lr_pred = lr.predict(X_test)\n",
    "\n",
    "# дерево решений  \n",
    "dt = DecisionTreeClassifier(max_depth=10,random_state=42)\n",
    "dt.fit(X_train,y_train)\n",
    "dt_pred = dt.predict(X_test)\n",
    "\n",
    "ans = max(f1_score(y_test,lr_pred), f1_score(y_test,dt_pred))\n",
    "round(ans,3)"
   ]
  },
  {
   "cell_type": "markdown",
   "id": "94afcede",
   "metadata": {},
   "source": [
    "# ==================================="
   ]
  },
  {
   "cell_type": "code",
   "execution_count": 73,
   "id": "d9cfa1d7",
   "metadata": {},
   "outputs": [
    {
     "name": "stdout",
     "output_type": "stream",
     "text": [
      "Train shape: (1119, 11)\n",
      "Test shape: (480, 11)\n",
      "Score train: 0.763\n",
      "Score test: 0.745\n",
      "Score train: 0.943\n",
      "Score test: 0.793\n",
      "Score train: 0.99\n",
      "Score test: 0.818\n"
     ]
    }
   ],
   "source": [
    "df = pd.read_csv('./data/wineQualityReds.csv').drop(columns='Unnamed: 0')\n",
    "\n",
    "df['quality_sep'] = df['quality'].apply(lambda x: 1 if x>=6 else 0)\n",
    "X = df.drop(['quality', 'quality_sep'], axis=1)\n",
    "y = df['quality_sep']\n",
    "X_train, X_test, y_train, y_test = train_test_split(X, y, test_size=0.3, random_state=42)\n",
    "print('Train shape: {}'.format(X_train.shape))\n",
    "print('Test shape: {}'.format(X_test.shape))\n",
    "# Train shape: (1119, 12)\n",
    "# Test shape: (480, 12)\n",
    "\n",
    "lr = LogisticRegression(max_iter=1000)\n",
    "lr.fit(X_train, y_train)\n",
    "y_lr_pred_train = lr.predict(X_train)\n",
    "y_lr_pred_test = lr.predict(X_test)\n",
    "print('Score train:', round(f1_score(y_lr_pred_train, y_train), 3))\n",
    "print('Score test:', round(f1_score(y_lr_pred_test, y_test), 3)) # 0.763\n",
    "\n",
    "dt = DecisionTreeClassifier(\n",
    "    max_depth=10, #глубина\n",
    "    random_state=42 #генератор случайных чисел\n",
    ")\n",
    "dt.fit(X_train, y_train)\n",
    "y_dt_pred_train = dt.predict(X_train)\n",
    "y_dt_pred_test = dt.predict(X_test)\n",
    "print('Score train:', round(f1_score(y_dt_pred_train, y_train), 3))\n",
    "print('Score test:', round(f1_score(y_dt_pred_test, y_test), 3)) # 0.760\n",
    "\n",
    "bc = BaggingClassifier(base_estimator=dt,\n",
    "                       random_state=42,\n",
    "                       n_estimators=1500)\n",
    "bc.fit(X_train, y_train)\n",
    "y_bc_pred_train = bc.predict(X_train)\n",
    "y_bc_pred_test = bc.predict(X_test)\n",
    "print('Score train:', round(f1_score(y_bc_pred_train, y_train), 3))\n",
    "print('Score test:', round(f1_score(y_bc_pred_test, y_test), 3)) # 0.792"
   ]
  },
  {
   "cell_type": "markdown",
   "id": "4a548210",
   "metadata": {},
   "source": [
    "# ==================================="
   ]
  },
  {
   "cell_type": "code",
   "execution_count": 39,
   "id": "8a38f81c",
   "metadata": {},
   "outputs": [
    {
     "data": {
      "text/html": [
       "<div>\n",
       "<style scoped>\n",
       "    .dataframe tbody tr th:only-of-type {\n",
       "        vertical-align: middle;\n",
       "    }\n",
       "\n",
       "    .dataframe tbody tr th {\n",
       "        vertical-align: top;\n",
       "    }\n",
       "\n",
       "    .dataframe thead th {\n",
       "        text-align: right;\n",
       "    }\n",
       "</style>\n",
       "<table border=\"1\" class=\"dataframe\">\n",
       "  <thead>\n",
       "    <tr style=\"text-align: right;\">\n",
       "      <th></th>\n",
       "      <th>0</th>\n",
       "      <th>1</th>\n",
       "      <th>2</th>\n",
       "      <th>3</th>\n",
       "      <th>4</th>\n",
       "    </tr>\n",
       "  </thead>\n",
       "  <tbody>\n",
       "    <tr>\n",
       "      <th>fixed.acidity</th>\n",
       "      <td>7.4000</td>\n",
       "      <td>7.8000</td>\n",
       "      <td>7.800</td>\n",
       "      <td>11.200</td>\n",
       "      <td>7.4000</td>\n",
       "    </tr>\n",
       "    <tr>\n",
       "      <th>volatile.acidity</th>\n",
       "      <td>0.7000</td>\n",
       "      <td>0.8800</td>\n",
       "      <td>0.760</td>\n",
       "      <td>0.280</td>\n",
       "      <td>0.7000</td>\n",
       "    </tr>\n",
       "    <tr>\n",
       "      <th>citric.acid</th>\n",
       "      <td>0.0000</td>\n",
       "      <td>0.0000</td>\n",
       "      <td>0.040</td>\n",
       "      <td>0.560</td>\n",
       "      <td>0.0000</td>\n",
       "    </tr>\n",
       "    <tr>\n",
       "      <th>residual.sugar</th>\n",
       "      <td>1.9000</td>\n",
       "      <td>2.6000</td>\n",
       "      <td>2.300</td>\n",
       "      <td>1.900</td>\n",
       "      <td>1.9000</td>\n",
       "    </tr>\n",
       "    <tr>\n",
       "      <th>chlorides</th>\n",
       "      <td>0.0760</td>\n",
       "      <td>0.0980</td>\n",
       "      <td>0.092</td>\n",
       "      <td>0.075</td>\n",
       "      <td>0.0760</td>\n",
       "    </tr>\n",
       "    <tr>\n",
       "      <th>free.sulfur.dioxide</th>\n",
       "      <td>11.0000</td>\n",
       "      <td>25.0000</td>\n",
       "      <td>15.000</td>\n",
       "      <td>17.000</td>\n",
       "      <td>11.0000</td>\n",
       "    </tr>\n",
       "    <tr>\n",
       "      <th>total.sulfur.dioxide</th>\n",
       "      <td>34.0000</td>\n",
       "      <td>67.0000</td>\n",
       "      <td>54.000</td>\n",
       "      <td>60.000</td>\n",
       "      <td>34.0000</td>\n",
       "    </tr>\n",
       "    <tr>\n",
       "      <th>density</th>\n",
       "      <td>0.9978</td>\n",
       "      <td>0.9968</td>\n",
       "      <td>0.997</td>\n",
       "      <td>0.998</td>\n",
       "      <td>0.9978</td>\n",
       "    </tr>\n",
       "    <tr>\n",
       "      <th>pH</th>\n",
       "      <td>3.5100</td>\n",
       "      <td>3.2000</td>\n",
       "      <td>3.260</td>\n",
       "      <td>3.160</td>\n",
       "      <td>3.5100</td>\n",
       "    </tr>\n",
       "    <tr>\n",
       "      <th>sulphates</th>\n",
       "      <td>0.5600</td>\n",
       "      <td>0.6800</td>\n",
       "      <td>0.650</td>\n",
       "      <td>0.580</td>\n",
       "      <td>0.5600</td>\n",
       "    </tr>\n",
       "    <tr>\n",
       "      <th>alcohol</th>\n",
       "      <td>9.4000</td>\n",
       "      <td>9.8000</td>\n",
       "      <td>9.800</td>\n",
       "      <td>9.800</td>\n",
       "      <td>9.4000</td>\n",
       "    </tr>\n",
       "    <tr>\n",
       "      <th>quality</th>\n",
       "      <td>0.0000</td>\n",
       "      <td>0.0000</td>\n",
       "      <td>0.000</td>\n",
       "      <td>0.000</td>\n",
       "      <td>0.0000</td>\n",
       "    </tr>\n",
       "  </tbody>\n",
       "</table>\n",
       "</div>"
      ],
      "text/plain": [
       "                            0        1       2       3        4\n",
       "fixed.acidity          7.4000   7.8000   7.800  11.200   7.4000\n",
       "volatile.acidity       0.7000   0.8800   0.760   0.280   0.7000\n",
       "citric.acid            0.0000   0.0000   0.040   0.560   0.0000\n",
       "residual.sugar         1.9000   2.6000   2.300   1.900   1.9000\n",
       "chlorides              0.0760   0.0980   0.092   0.075   0.0760\n",
       "free.sulfur.dioxide   11.0000  25.0000  15.000  17.000  11.0000\n",
       "total.sulfur.dioxide  34.0000  67.0000  54.000  60.000  34.0000\n",
       "density                0.9978   0.9968   0.997   0.998   0.9978\n",
       "pH                     3.5100   3.2000   3.260   3.160   3.5100\n",
       "sulphates              0.5600   0.6800   0.650   0.580   0.5600\n",
       "alcohol                9.4000   9.8000   9.800   9.800   9.4000\n",
       "quality                0.0000   0.0000   0.000   0.000   0.0000"
      ]
     },
     "execution_count": 39,
     "metadata": {},
     "output_type": "execute_result"
    }
   ],
   "source": [
    "df.head().T"
   ]
  },
  {
   "cell_type": "code",
   "execution_count": null,
   "id": "1ace6cf4",
   "metadata": {},
   "outputs": [],
   "source": []
  }
 ],
 "metadata": {
  "kernelspec": {
   "display_name": "Python 3",
   "language": "python",
   "name": "python3"
  },
  "language_info": {
   "codemirror_mode": {
    "name": "ipython",
    "version": 3
   },
   "file_extension": ".py",
   "mimetype": "text/x-python",
   "name": "python",
   "nbconvert_exporter": "python",
   "pygments_lexer": "ipython3",
   "version": "3.8.8"
  }
 },
 "nbformat": 4,
 "nbformat_minor": 5
}
