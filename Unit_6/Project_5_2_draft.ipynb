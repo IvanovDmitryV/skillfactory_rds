{
 "cells": [
  {
   "cell_type": "markdown",
   "metadata": {},
   "source": [
    "# Описание задачи\n",
    "## В задачи пректа входит:\n",
    "- Нахождение данных для обученяи модели: парсинг и/или иные источники;\n",
    "- Предобработка полученных данных\n",
    "- Создание новых признаков с использованием полученных данных;\n",
    "- Отбор признаков;\n",
    "- Отбор моделей;\n",
    "- Обучение и тестирование отобранных моделей на отобранных признаках;\n",
    "- Подбор макропараметров модели на отобранных признаках;\n",
    "- Получение предсказанных моделью значений, подготовка и отправка submission\n",
    "\n",
    "# Импорт библиотек, установка параметров, определение функций\n",
    "## Импорт бибилиотек"
   ]
  },
  {
   "cell_type": "code",
   "execution_count": 25,
   "metadata": {},
   "outputs": [],
   "source": [
    "import pandas as pd\n",
    "import numpy as np\n",
    "import json \n",
    "from datetime import datetime\n",
    "from datetime import date\n",
    "\n",
    "from pprint import pprint\n",
    "\n",
    "import warnings\n",
    "import os"
   ]
  },
  {
   "cell_type": "markdown",
   "metadata": {},
   "source": [
    "## Установка параметров"
   ]
  },
  {
   "cell_type": "code",
   "execution_count": 26,
   "metadata": {},
   "outputs": [
    {
     "name": "stdout",
     "output_type": "stream",
     "text": [
      "Populating the interactive namespace from numpy and matplotlib\n"
     ]
    }
   ],
   "source": [
    "%pylab inline\n",
    "\n",
    "warnings.filterwarnings(\"ignore\")\n",
    "\n",
    "pd.set_option('display.max_rows', 70)    # выведем больше строк\n",
    "pd.set_option('display.max_columns', 30) # выведем больше колонок\n",
    "\n",
    "# альтернативные пути для kaggle и локальный (НЕ ЗАБЫВАТЬ МЕНЯТЬ!)\n",
    "path = './Project_5_data/'\n",
    "# path = '/kaggle/input/.....'\n",
    "\n",
    "# фиксация randomstate\n",
    "RANDOM_SEED = 42"
   ]
  },
  {
   "cell_type": "markdown",
   "metadata": {},
   "source": [
    "## Определение функций"
   ]
  },
  {
   "cell_type": "code",
   "execution_count": 27,
   "metadata": {},
   "outputs": [],
   "source": [
    "def describe_df(df):\n",
    "    '''\n",
    "    Вывод простой статистки DataFrame\n",
    "    '''\n",
    "    desc = df.describe(include='all',percentiles=[0.5]).drop(index=['mean','std','50%']).T \n",
    "    desc['type'] = [type(x) for x in df.iloc[0]]\n",
    "    desc['NaN_prop'] = round(df.isna().sum()/len(df),3)\n",
    "    desc.unique = df.nunique()\n",
    "    desc.top = df.mode(axis=0).iloc[0]\n",
    "    desc.top = [str(x)[:30] for x in df.mode(axis=0).iloc[0]]\n",
    "\n",
    "    desc.freq = [df[col].value_counts().iloc[0] for col in  df.columns]\n",
    "    \n",
    "    return desc\n",
    "\n",
    "def cat_visualisation():\n",
    "    pass\n",
    "\n",
    "def num_visualisation():\n",
    "    pass"
   ]
  },
  {
   "cell_type": "markdown",
   "metadata": {},
   "source": [
    "# Изучение  валидационных данных \n",
    "\n",
    "Что бы понимать какие признаки нам нужны для обучения модели нам необходимо узнать какие признаки описывают наблюдения, для которых мы должны предсказать целевую переменную.  \n",
    "\n",
    "Поэтому для начала исследуем набор данных эти наблюдения описывающие."
   ]
  },
  {
   "cell_type": "code",
   "execution_count": 28,
   "metadata": {
    "scrolled": false
   },
   "outputs": [],
   "source": [
    "df_test = pd.read_csv(f'{path}test.csv')"
   ]
  },
  {
   "cell_type": "markdown",
   "metadata": {},
   "source": [
    "### Общий обзор"
   ]
  },
  {
   "cell_type": "code",
   "execution_count": 29,
   "metadata": {},
   "outputs": [
    {
     "name": "stdout",
     "output_type": "stream",
     "text": [
      "<class 'pandas.core.frame.DataFrame'>\n",
      "RangeIndex: 34686 entries, 0 to 34685\n",
      "Columns: 32 entries, bodyType to Таможня\n",
      "dtypes: int64(6), object(26)\n",
      "memory usage: 8.5+ MB\n"
     ]
    }
   ],
   "source": [
    "df_test.info(verbose=False)"
   ]
  },
  {
   "cell_type": "code",
   "execution_count": 30,
   "metadata": {},
   "outputs": [
    {
     "data": {
      "text/html": [
       "<div>\n",
       "<style scoped>\n",
       "    .dataframe tbody tr th:only-of-type {\n",
       "        vertical-align: middle;\n",
       "    }\n",
       "\n",
       "    .dataframe tbody tr th {\n",
       "        vertical-align: top;\n",
       "    }\n",
       "\n",
       "    .dataframe thead th {\n",
       "        text-align: right;\n",
       "    }\n",
       "</style>\n",
       "<table border=\"1\" class=\"dataframe\">\n",
       "  <thead>\n",
       "    <tr style=\"text-align: right;\">\n",
       "      <th></th>\n",
       "      <th>count</th>\n",
       "      <th>unique</th>\n",
       "      <th>top</th>\n",
       "      <th>freq</th>\n",
       "      <th>min</th>\n",
       "      <th>max</th>\n",
       "      <th>type</th>\n",
       "      <th>NaN_prop</th>\n",
       "    </tr>\n",
       "  </thead>\n",
       "  <tbody>\n",
       "    <tr>\n",
       "      <td>bodyType</td>\n",
       "      <td>34686</td>\n",
       "      <td>24</td>\n",
       "      <td>седан</td>\n",
       "      <td>13147</td>\n",
       "      <td>NaN</td>\n",
       "      <td>NaN</td>\n",
       "      <td>&lt;class 'str'&gt;</td>\n",
       "      <td>0.000</td>\n",
       "    </tr>\n",
       "    <tr>\n",
       "      <td>brand</td>\n",
       "      <td>34686</td>\n",
       "      <td>12</td>\n",
       "      <td>BMW</td>\n",
       "      <td>4473</td>\n",
       "      <td>NaN</td>\n",
       "      <td>NaN</td>\n",
       "      <td>&lt;class 'str'&gt;</td>\n",
       "      <td>0.000</td>\n",
       "    </tr>\n",
       "    <tr>\n",
       "      <td>car_url</td>\n",
       "      <td>34686</td>\n",
       "      <td>34686</td>\n",
       "      <td>https://auto.ru/cars/used/sale</td>\n",
       "      <td>1</td>\n",
       "      <td>NaN</td>\n",
       "      <td>NaN</td>\n",
       "      <td>&lt;class 'str'&gt;</td>\n",
       "      <td>0.000</td>\n",
       "    </tr>\n",
       "    <tr>\n",
       "      <td>color</td>\n",
       "      <td>34686</td>\n",
       "      <td>16</td>\n",
       "      <td>чёрный</td>\n",
       "      <td>11010</td>\n",
       "      <td>NaN</td>\n",
       "      <td>NaN</td>\n",
       "      <td>&lt;class 'str'&gt;</td>\n",
       "      <td>0.000</td>\n",
       "    </tr>\n",
       "    <tr>\n",
       "      <td>complectation_dict</td>\n",
       "      <td>6418</td>\n",
       "      <td>2364</td>\n",
       "      <td>{\"id\":\"4562904\",\"name\":\"Elegan</td>\n",
       "      <td>51</td>\n",
       "      <td>NaN</td>\n",
       "      <td>NaN</td>\n",
       "      <td>&lt;class 'float'&gt;</td>\n",
       "      <td>0.815</td>\n",
       "    </tr>\n",
       "    <tr>\n",
       "      <td>description</td>\n",
       "      <td>34686</td>\n",
       "      <td>31732</td>\n",
       "      <td>Выгода до 82 000 руб. при обме</td>\n",
       "      <td>264</td>\n",
       "      <td>NaN</td>\n",
       "      <td>NaN</td>\n",
       "      <td>&lt;class 'str'&gt;</td>\n",
       "      <td>0.000</td>\n",
       "    </tr>\n",
       "    <tr>\n",
       "      <td>engineDisplacement</td>\n",
       "      <td>34686</td>\n",
       "      <td>55</td>\n",
       "      <td>2.0 LTR</td>\n",
       "      <td>7391</td>\n",
       "      <td>NaN</td>\n",
       "      <td>NaN</td>\n",
       "      <td>&lt;class 'str'&gt;</td>\n",
       "      <td>0.000</td>\n",
       "    </tr>\n",
       "    <tr>\n",
       "      <td>enginePower</td>\n",
       "      <td>34686</td>\n",
       "      <td>315</td>\n",
       "      <td>249 N12</td>\n",
       "      <td>1708</td>\n",
       "      <td>NaN</td>\n",
       "      <td>NaN</td>\n",
       "      <td>&lt;class 'str'&gt;</td>\n",
       "      <td>0.000</td>\n",
       "    </tr>\n",
       "    <tr>\n",
       "      <td>equipment_dict</td>\n",
       "      <td>24690</td>\n",
       "      <td>23705</td>\n",
       "      <td>{\"leather\":true}</td>\n",
       "      <td>108</td>\n",
       "      <td>NaN</td>\n",
       "      <td>NaN</td>\n",
       "      <td>&lt;class 'str'&gt;</td>\n",
       "      <td>0.288</td>\n",
       "    </tr>\n",
       "    <tr>\n",
       "      <td>fuelType</td>\n",
       "      <td>34686</td>\n",
       "      <td>5</td>\n",
       "      <td>бензин</td>\n",
       "      <td>28601</td>\n",
       "      <td>NaN</td>\n",
       "      <td>NaN</td>\n",
       "      <td>&lt;class 'str'&gt;</td>\n",
       "      <td>0.000</td>\n",
       "    </tr>\n",
       "    <tr>\n",
       "      <td>image</td>\n",
       "      <td>34686</td>\n",
       "      <td>34557</td>\n",
       "      <td>https://avatars.mds.yandex.net</td>\n",
       "      <td>13</td>\n",
       "      <td>NaN</td>\n",
       "      <td>NaN</td>\n",
       "      <td>&lt;class 'str'&gt;</td>\n",
       "      <td>0.000</td>\n",
       "    </tr>\n",
       "    <tr>\n",
       "      <td>mileage</td>\n",
       "      <td>34686</td>\n",
       "      <td>11268</td>\n",
       "      <td>200000.0</td>\n",
       "      <td>436</td>\n",
       "      <td>1</td>\n",
       "      <td>1e+06</td>\n",
       "      <td>&lt;class 'numpy.int64'&gt;</td>\n",
       "      <td>0.000</td>\n",
       "    </tr>\n",
       "    <tr>\n",
       "      <td>modelDate</td>\n",
       "      <td>34686</td>\n",
       "      <td>66</td>\n",
       "      <td>2010.0</td>\n",
       "      <td>2503</td>\n",
       "      <td>1904</td>\n",
       "      <td>2020</td>\n",
       "      <td>&lt;class 'numpy.int64'&gt;</td>\n",
       "      <td>0.000</td>\n",
       "    </tr>\n",
       "    <tr>\n",
       "      <td>model_info</td>\n",
       "      <td>34686</td>\n",
       "      <td>954</td>\n",
       "      <td>{\"code\":\"OCTAVIA\",\"name\":\"Octa</td>\n",
       "      <td>1404</td>\n",
       "      <td>NaN</td>\n",
       "      <td>NaN</td>\n",
       "      <td>&lt;class 'str'&gt;</td>\n",
       "      <td>0.000</td>\n",
       "    </tr>\n",
       "    <tr>\n",
       "      <td>model_name</td>\n",
       "      <td>34686</td>\n",
       "      <td>544</td>\n",
       "      <td>OCTAVIA</td>\n",
       "      <td>1418</td>\n",
       "      <td>NaN</td>\n",
       "      <td>NaN</td>\n",
       "      <td>&lt;class 'str'&gt;</td>\n",
       "      <td>0.000</td>\n",
       "    </tr>\n",
       "    <tr>\n",
       "      <td>name</td>\n",
       "      <td>34686</td>\n",
       "      <td>2780</td>\n",
       "      <td>1.6 AT (110 л.с.)</td>\n",
       "      <td>631</td>\n",
       "      <td>NaN</td>\n",
       "      <td>NaN</td>\n",
       "      <td>&lt;class 'str'&gt;</td>\n",
       "      <td>0.000</td>\n",
       "    </tr>\n",
       "    <tr>\n",
       "      <td>numberOfDoors</td>\n",
       "      <td>34686</td>\n",
       "      <td>5</td>\n",
       "      <td>5.0</td>\n",
       "      <td>18703</td>\n",
       "      <td>0</td>\n",
       "      <td>5</td>\n",
       "      <td>&lt;class 'numpy.int64'&gt;</td>\n",
       "      <td>0.000</td>\n",
       "    </tr>\n",
       "    <tr>\n",
       "      <td>parsing_unixtime</td>\n",
       "      <td>34686</td>\n",
       "      <td>34686</td>\n",
       "      <td>1603107306</td>\n",
       "      <td>1</td>\n",
       "      <td>1.60311e+09</td>\n",
       "      <td>1.60371e+09</td>\n",
       "      <td>&lt;class 'numpy.int64'&gt;</td>\n",
       "      <td>0.000</td>\n",
       "    </tr>\n",
       "    <tr>\n",
       "      <td>priceCurrency</td>\n",
       "      <td>34686</td>\n",
       "      <td>1</td>\n",
       "      <td>RUB</td>\n",
       "      <td>34686</td>\n",
       "      <td>NaN</td>\n",
       "      <td>NaN</td>\n",
       "      <td>&lt;class 'str'&gt;</td>\n",
       "      <td>0.000</td>\n",
       "    </tr>\n",
       "    <tr>\n",
       "      <td>productionDate</td>\n",
       "      <td>34686</td>\n",
       "      <td>69</td>\n",
       "      <td>2012.0</td>\n",
       "      <td>2798</td>\n",
       "      <td>1904</td>\n",
       "      <td>2020</td>\n",
       "      <td>&lt;class 'numpy.int64'&gt;</td>\n",
       "      <td>0.000</td>\n",
       "    </tr>\n",
       "    <tr>\n",
       "      <td>sell_id</td>\n",
       "      <td>34686</td>\n",
       "      <td>34686</td>\n",
       "      <td>2665</td>\n",
       "      <td>1</td>\n",
       "      <td>2665</td>\n",
       "      <td>1.10137e+09</td>\n",
       "      <td>&lt;class 'numpy.int64'&gt;</td>\n",
       "      <td>0.000</td>\n",
       "    </tr>\n",
       "    <tr>\n",
       "      <td>super_gen</td>\n",
       "      <td>34686</td>\n",
       "      <td>5890</td>\n",
       "      <td>{\"id\":\"6214876\",\"displacement\"</td>\n",
       "      <td>193</td>\n",
       "      <td>NaN</td>\n",
       "      <td>NaN</td>\n",
       "      <td>&lt;class 'str'&gt;</td>\n",
       "      <td>0.000</td>\n",
       "    </tr>\n",
       "    <tr>\n",
       "      <td>vehicleConfiguration</td>\n",
       "      <td>34686</td>\n",
       "      <td>634</td>\n",
       "      <td>ALLROAD_5_DOORS AUTOMATIC 3.0</td>\n",
       "      <td>2389</td>\n",
       "      <td>NaN</td>\n",
       "      <td>NaN</td>\n",
       "      <td>&lt;class 'str'&gt;</td>\n",
       "      <td>0.000</td>\n",
       "    </tr>\n",
       "    <tr>\n",
       "      <td>vehicleTransmission</td>\n",
       "      <td>34686</td>\n",
       "      <td>4</td>\n",
       "      <td>автоматическая</td>\n",
       "      <td>19596</td>\n",
       "      <td>NaN</td>\n",
       "      <td>NaN</td>\n",
       "      <td>&lt;class 'str'&gt;</td>\n",
       "      <td>0.000</td>\n",
       "    </tr>\n",
       "    <tr>\n",
       "      <td>vendor</td>\n",
       "      <td>34686</td>\n",
       "      <td>2</td>\n",
       "      <td>EUROPEAN</td>\n",
       "      <td>20682</td>\n",
       "      <td>NaN</td>\n",
       "      <td>NaN</td>\n",
       "      <td>&lt;class 'str'&gt;</td>\n",
       "      <td>0.000</td>\n",
       "    </tr>\n",
       "    <tr>\n",
       "      <td>Владельцы</td>\n",
       "      <td>34686</td>\n",
       "      <td>3</td>\n",
       "      <td>3 или более</td>\n",
       "      <td>15957</td>\n",
       "      <td>NaN</td>\n",
       "      <td>NaN</td>\n",
       "      <td>&lt;class 'str'&gt;</td>\n",
       "      <td>0.000</td>\n",
       "    </tr>\n",
       "    <tr>\n",
       "      <td>Владение</td>\n",
       "      <td>11995</td>\n",
       "      <td>275</td>\n",
       "      <td>1 год и 10 месяцев</td>\n",
       "      <td>209</td>\n",
       "      <td>NaN</td>\n",
       "      <td>NaN</td>\n",
       "      <td>&lt;class 'float'&gt;</td>\n",
       "      <td>0.654</td>\n",
       "    </tr>\n",
       "    <tr>\n",
       "      <td>ПТС</td>\n",
       "      <td>34685</td>\n",
       "      <td>2</td>\n",
       "      <td>Оригинал</td>\n",
       "      <td>30098</td>\n",
       "      <td>NaN</td>\n",
       "      <td>NaN</td>\n",
       "      <td>&lt;class 'str'&gt;</td>\n",
       "      <td>0.000</td>\n",
       "    </tr>\n",
       "    <tr>\n",
       "      <td>Привод</td>\n",
       "      <td>34686</td>\n",
       "      <td>3</td>\n",
       "      <td>передний</td>\n",
       "      <td>15565</td>\n",
       "      <td>NaN</td>\n",
       "      <td>NaN</td>\n",
       "      <td>&lt;class 'str'&gt;</td>\n",
       "      <td>0.000</td>\n",
       "    </tr>\n",
       "    <tr>\n",
       "      <td>Руль</td>\n",
       "      <td>34686</td>\n",
       "      <td>2</td>\n",
       "      <td>Левый</td>\n",
       "      <td>33287</td>\n",
       "      <td>NaN</td>\n",
       "      <td>NaN</td>\n",
       "      <td>&lt;class 'str'&gt;</td>\n",
       "      <td>0.000</td>\n",
       "    </tr>\n",
       "    <tr>\n",
       "      <td>Состояние</td>\n",
       "      <td>34686</td>\n",
       "      <td>1</td>\n",
       "      <td>Не требует ремонта</td>\n",
       "      <td>34686</td>\n",
       "      <td>NaN</td>\n",
       "      <td>NaN</td>\n",
       "      <td>&lt;class 'str'&gt;</td>\n",
       "      <td>0.000</td>\n",
       "    </tr>\n",
       "    <tr>\n",
       "      <td>Таможня</td>\n",
       "      <td>34686</td>\n",
       "      <td>1</td>\n",
       "      <td>Растаможен</td>\n",
       "      <td>34686</td>\n",
       "      <td>NaN</td>\n",
       "      <td>NaN</td>\n",
       "      <td>&lt;class 'str'&gt;</td>\n",
       "      <td>0.000</td>\n",
       "    </tr>\n",
       "  </tbody>\n",
       "</table>\n",
       "</div>"
      ],
      "text/plain": [
       "                      count  unique                             top   freq  \\\n",
       "bodyType              34686      24                           седан  13147   \n",
       "brand                 34686      12                             BMW   4473   \n",
       "car_url               34686   34686  https://auto.ru/cars/used/sale      1   \n",
       "color                 34686      16                          чёрный  11010   \n",
       "complectation_dict     6418    2364  {\"id\":\"4562904\",\"name\":\"Elegan     51   \n",
       "description           34686   31732  Выгода до 82 000 руб. при обме    264   \n",
       "engineDisplacement    34686      55                         2.0 LTR   7391   \n",
       "enginePower           34686     315                         249 N12   1708   \n",
       "equipment_dict        24690   23705                {\"leather\":true}    108   \n",
       "fuelType              34686       5                          бензин  28601   \n",
       "image                 34686   34557  https://avatars.mds.yandex.net     13   \n",
       "mileage               34686   11268                        200000.0    436   \n",
       "modelDate             34686      66                          2010.0   2503   \n",
       "model_info            34686     954  {\"code\":\"OCTAVIA\",\"name\":\"Octa   1404   \n",
       "model_name            34686     544                         OCTAVIA   1418   \n",
       "name                  34686    2780               1.6 AT (110 л.с.)    631   \n",
       "numberOfDoors         34686       5                             5.0  18703   \n",
       "parsing_unixtime      34686   34686                      1603107306      1   \n",
       "priceCurrency         34686       1                             RUB  34686   \n",
       "productionDate        34686      69                          2012.0   2798   \n",
       "sell_id               34686   34686                            2665      1   \n",
       "super_gen             34686    5890  {\"id\":\"6214876\",\"displacement\"    193   \n",
       "vehicleConfiguration  34686     634   ALLROAD_5_DOORS AUTOMATIC 3.0   2389   \n",
       "vehicleTransmission   34686       4                  автоматическая  19596   \n",
       "vendor                34686       2                        EUROPEAN  20682   \n",
       "Владельцы             34686       3                     3 или более  15957   \n",
       "Владение              11995     275              1 год и 10 месяцев    209   \n",
       "ПТС                   34685       2                        Оригинал  30098   \n",
       "Привод                34686       3                        передний  15565   \n",
       "Руль                  34686       2                           Левый  33287   \n",
       "Состояние             34686       1              Не требует ремонта  34686   \n",
       "Таможня               34686       1                      Растаможен  34686   \n",
       "\n",
       "                              min          max                   type  \\\n",
       "bodyType                      NaN          NaN          <class 'str'>   \n",
       "brand                         NaN          NaN          <class 'str'>   \n",
       "car_url                       NaN          NaN          <class 'str'>   \n",
       "color                         NaN          NaN          <class 'str'>   \n",
       "complectation_dict            NaN          NaN        <class 'float'>   \n",
       "description                   NaN          NaN          <class 'str'>   \n",
       "engineDisplacement            NaN          NaN          <class 'str'>   \n",
       "enginePower                   NaN          NaN          <class 'str'>   \n",
       "equipment_dict                NaN          NaN          <class 'str'>   \n",
       "fuelType                      NaN          NaN          <class 'str'>   \n",
       "image                         NaN          NaN          <class 'str'>   \n",
       "mileage                         1        1e+06  <class 'numpy.int64'>   \n",
       "modelDate                    1904         2020  <class 'numpy.int64'>   \n",
       "model_info                    NaN          NaN          <class 'str'>   \n",
       "model_name                    NaN          NaN          <class 'str'>   \n",
       "name                          NaN          NaN          <class 'str'>   \n",
       "numberOfDoors                   0            5  <class 'numpy.int64'>   \n",
       "parsing_unixtime      1.60311e+09  1.60371e+09  <class 'numpy.int64'>   \n",
       "priceCurrency                 NaN          NaN          <class 'str'>   \n",
       "productionDate               1904         2020  <class 'numpy.int64'>   \n",
       "sell_id                      2665  1.10137e+09  <class 'numpy.int64'>   \n",
       "super_gen                     NaN          NaN          <class 'str'>   \n",
       "vehicleConfiguration          NaN          NaN          <class 'str'>   \n",
       "vehicleTransmission           NaN          NaN          <class 'str'>   \n",
       "vendor                        NaN          NaN          <class 'str'>   \n",
       "Владельцы                     NaN          NaN          <class 'str'>   \n",
       "Владение                      NaN          NaN        <class 'float'>   \n",
       "ПТС                           NaN          NaN          <class 'str'>   \n",
       "Привод                        NaN          NaN          <class 'str'>   \n",
       "Руль                          NaN          NaN          <class 'str'>   \n",
       "Состояние                     NaN          NaN          <class 'str'>   \n",
       "Таможня                       NaN          NaN          <class 'str'>   \n",
       "\n",
       "                      NaN_prop  \n",
       "bodyType                 0.000  \n",
       "brand                    0.000  \n",
       "car_url                  0.000  \n",
       "color                    0.000  \n",
       "complectation_dict       0.815  \n",
       "description              0.000  \n",
       "engineDisplacement       0.000  \n",
       "enginePower              0.000  \n",
       "equipment_dict           0.288  \n",
       "fuelType                 0.000  \n",
       "image                    0.000  \n",
       "mileage                  0.000  \n",
       "modelDate                0.000  \n",
       "model_info               0.000  \n",
       "model_name               0.000  \n",
       "name                     0.000  \n",
       "numberOfDoors            0.000  \n",
       "parsing_unixtime         0.000  \n",
       "priceCurrency            0.000  \n",
       "productionDate           0.000  \n",
       "sell_id                  0.000  \n",
       "super_gen                0.000  \n",
       "vehicleConfiguration     0.000  \n",
       "vehicleTransmission      0.000  \n",
       "vendor                   0.000  \n",
       "Владельцы                0.000  \n",
       "Владение                 0.654  \n",
       "ПТС                      0.000  \n",
       "Привод                   0.000  \n",
       "Руль                     0.000  \n",
       "Состояние                0.000  \n",
       "Таможня                  0.000  "
      ]
     },
     "execution_count": 30,
     "metadata": {},
     "output_type": "execute_result"
    }
   ],
   "source": [
    "describe_df(df_test)"
   ]
  },
  {
   "cell_type": "markdown",
   "metadata": {},
   "source": [
    "Всего в исходном валидационном датасете 32 колонки с разными типами данных (6 int, 26 object) и разыми типами признаков:   \n",
    "-бинарные (в колонках `vendor`, `ПТС`, `Руль`);   \n",
    "-категориальные (например в колонках `bodyType`, `brand`, `color`, `Владельцы`);  \n",
    "-количественные (например в `enginePower` или `mileage`).  \n",
    "\n",
    "Некоторын колонки содержат словари или длинные строки, содержащие сразу несколько признаков. \n",
    "\n",
    "Колонка `brand` содержит 12 уникальных значений. Это позволяет нам существенно сократить обьем работы по парсингу, ведь релевантными будут только данные по этим 12 брендам, поэтому только по ним и будем собирать информацию.\n",
    "\n",
    "Колонка `car_url` содержит ссылки на обьявления о продаже авто на сайте ***auto.ru***, что как бы намекает, что валидационный набор спарсен с сайта ***auto.ru***. Воспользуемся этим же источником.\n",
    "\n",
    "Три колонки  `priceCurrency`, `Состояние` и `Таможня` содержат только одно уникальное хначение, они ненесут никакой информации, поэтому исключим их из рассмотрения.  \n",
    "  \n",
    "Теперь следует ознакомиться с  каждым признак/колонку более детально. Это позволит нам понять в каком виде/формате содержится информация в колонках и соответсвенно сформировать набор данных для обучения в том же виде/формате. Так же детальное ознакомлене позволит окончательно определится с необходимость включения информации из колонок в рассмотрение моделью. В случае включения данных в рассмотрение моделью, провеем EDA. "
   ]
  },
  {
   "cell_type": "markdown",
   "metadata": {},
   "source": [
    "### Детальное ознакомление\n",
    "### bodyType"
   ]
  },
  {
   "cell_type": "code",
   "execution_count": 31,
   "metadata": {},
   "outputs": [
    {
     "data": {
      "text/plain": [
       "28670       внедорожник 5 дв.\n",
       "24185                   седан\n",
       "16329    пикап двойная кабина\n",
       "Name: bodyType, dtype: object"
      ]
     },
     "execution_count": 31,
     "metadata": {},
     "output_type": "execute_result"
    }
   ],
   "source": [
    "df_test.bodyType.sample(3)"
   ]
  },
  {
   "cell_type": "code",
   "execution_count": 32,
   "metadata": {},
   "outputs": [
    {
     "data": {
      "text/plain": [
       "array(['лифтбек', 'внедорожник 5 дв.', 'хэтчбек 5 дв.', 'седан',\n",
       "       'компактвэн', 'универсал 5 дв.', 'пикап одинарная кабина',\n",
       "       'хэтчбек 3 дв.', 'купе', 'кабриолет', 'минивэн',\n",
       "       'пикап двойная кабина', 'внедорожник 3 дв.', 'родстер', 'микровэн',\n",
       "       'седан 2 дв.', 'купе-хардтоп', 'фастбек', 'тарга',\n",
       "       'внедорожник открытый', 'лимузин', 'пикап полуторная кабина',\n",
       "       'седан-хардтоп', 'фургон'], dtype=object)"
      ]
     },
     "execution_count": 32,
     "metadata": {},
     "output_type": "execute_result"
    }
   ],
   "source": [
    "df_test.bodyType.unique()"
   ]
  },
  {
   "cell_type": "markdown",
   "metadata": {},
   "source": [
    "Колонка содержит наименование типа кузова в виде строковой величины. Принимается в пассмоттение. "
   ]
  },
  {
   "cell_type": "markdown",
   "metadata": {},
   "source": [
    "### brand"
   ]
  },
  {
   "cell_type": "code",
   "execution_count": 33,
   "metadata": {},
   "outputs": [
    {
     "data": {
      "text/plain": [
       "28016    MITSUBISHI\n",
       "17354      MERCEDES\n",
       "24272    VOLKSWAGEN\n",
       "Name: brand, dtype: object"
      ]
     },
     "execution_count": 33,
     "metadata": {},
     "output_type": "execute_result"
    }
   ],
   "source": [
    "df_test.brand.sample(3)"
   ]
  },
  {
   "cell_type": "code",
   "execution_count": 34,
   "metadata": {},
   "outputs": [
    {
     "data": {
      "text/plain": [
       "array(['SKODA', 'AUDI', 'HONDA', 'VOLVO', 'BMW', 'NISSAN', 'INFINITI',\n",
       "       'MERCEDES', 'TOYOTA', 'LEXUS', 'VOLKSWAGEN', 'MITSUBISHI'],\n",
       "      dtype=object)"
      ]
     },
     "execution_count": 34,
     "metadata": {},
     "output_type": "execute_result"
    }
   ],
   "source": [
    "df_test.brand.unique()"
   ]
  },
  {
   "cell_type": "markdown",
   "metadata": {},
   "source": [
    "Колонка содержит наименование марки в виде строковой величины. Принимается в рассмотрение."
   ]
  },
  {
   "cell_type": "markdown",
   "metadata": {},
   "source": [
    "### car_url"
   ]
  },
  {
   "cell_type": "code",
   "execution_count": 35,
   "metadata": {},
   "outputs": [
    {
     "data": {
      "text/plain": [
       "24546    https://auto.ru/cars/used/sale/volkswagen/golf...\n",
       "21965    https://auto.ru/cars/used/sale/toyota/camry/11...\n",
       "11366    https://auto.ru/cars/used/sale/nissan/x_trail/...\n",
       "15687    https://auto.ru/cars/used/sale/mercedes/e_klas...\n",
       "29686    https://auto.ru/cars/used/sale/bmw/5er/1101325...\n",
       "Name: car_url, dtype: object"
      ]
     },
     "execution_count": 35,
     "metadata": {},
     "output_type": "execute_result"
    }
   ],
   "source": [
    "df_test.car_url.sample(5)"
   ]
  },
  {
   "cell_type": "markdown",
   "metadata": {},
   "source": [
    "В этой колонке содержаться ссылки на обьявления о продаже, послужившие источником при парсинге `test`. В настоящий момент скорее всего ссылки уже не активны, потому колокна будет исключена из рассмотрения моделью. Но нформация в ней содержащаяся позволит нам проверить не попадают ли в тренировочный набор данных наблюдения из валидационного. "
   ]
  },
  {
   "cell_type": "markdown",
   "metadata": {},
   "source": [
    "### color"
   ]
  },
  {
   "cell_type": "code",
   "execution_count": 36,
   "metadata": {},
   "outputs": [
    {
     "data": {
      "text/plain": [
       "65       серебристый\n",
       "25730          синий\n",
       "5280           синий\n",
       "Name: color, dtype: object"
      ]
     },
     "execution_count": 36,
     "metadata": {},
     "output_type": "execute_result"
    }
   ],
   "source": [
    "df_test.color.sample(3)"
   ]
  },
  {
   "cell_type": "code",
   "execution_count": 37,
   "metadata": {},
   "outputs": [
    {
     "data": {
      "text/plain": [
       "array(['синий', 'чёрный', 'серый', 'коричневый', 'белый', 'пурпурный',\n",
       "       'бежевый', 'серебристый', 'красный', 'зелёный', 'жёлтый',\n",
       "       'голубой', 'оранжевый', 'фиолетовый', 'золотистый', 'розовый'],\n",
       "      dtype=object)"
      ]
     },
     "execution_count": 37,
     "metadata": {},
     "output_type": "execute_result"
    }
   ],
   "source": [
    "df_test.color.unique()"
   ]
  },
  {
   "cell_type": "markdown",
   "metadata": {},
   "source": [
    "Колонка содержит название цвета кузова, принимется в рассмотрение. "
   ]
  },
  {
   "cell_type": "markdown",
   "metadata": {},
   "source": [
    "### complectation_dict"
   ]
  },
  {
   "cell_type": "code",
   "execution_count": 38,
   "metadata": {},
   "outputs": [
    {
     "data": {
      "text/plain": [
       "0                                                  NaN\n",
       "1                                                  NaN\n",
       "2    {\"id\":\"20026336\",\"name\":\"Ambition\",\"available_...\n",
       "Name: complectation_dict, dtype: object"
      ]
     },
     "execution_count": 38,
     "metadata": {},
     "output_type": "execute_result"
    }
   ],
   "source": [
    "df_test.complectation_dict.head(3)"
   ]
  },
  {
   "cell_type": "code",
   "execution_count": 39,
   "metadata": {},
   "outputs": [
    {
     "data": {
      "text/plain": [
       "'{\"id\":\"20026336\",\"name\":\"Ambition\",\"available_options\":[\"heated-wash-system\",\"airbag-passenger\",\"lock\",\"door-sill-panel\",\"electro-mirrors\",\"mirrors-heat\",\"cooling-box\",\"computer\",\"seat-transformation\",\"wheel-power\",\"fabric-seats\",\"airbag-side\",\"abs\",\"wheel-leather\",\"climate-control-1\",\"esp\",\"adaptive-light\",\"audiopreparation\",\"ashtray-and-cigarette-lighter\",\"front-centre-armrest\",\"electro-window-back\",\"16-inch-wheels\",\"body-mouldings\",\"condition\",\"airbag-driver\",\"isofix\",\"aux\",\"electro-window-front\",\"light-sensor\",\"hcc\",\"ptf\",\"rain-sensor\",\"tyre-pressure\",\"audiosystem-cd\",\"front-seats-heat\",\"wheel-configuration2\",\"wheel-configuration1\",\"immo\",\"12v-socket\",\"third-rear-headrest\"]}'"
      ]
     },
     "execution_count": 39,
     "metadata": {},
     "output_type": "execute_result"
    }
   ],
   "source": [
    "df_test.complectation_dict.loc[2]"
   ]
  },
  {
   "cell_type": "markdown",
   "metadata": {},
   "source": [
    "Колонка содержит словарь стандартной комплектации с наименованием комплектации и списком обрудования (зачастую стандартного, имеющегося в любом автомобиле, например \"12v-socket\" или \"lock\") входящим в такую комплектацию. Доля пррпусков (свыше 0.8), перечисление оборудования присутсвуюшегов любом авто данной марки и модели и наличие колонки `equipment_dict` с гораздо меньшим количеством пропусков позволяет исключить колонку из рассмотрения."
   ]
  },
  {
   "cell_type": "markdown",
   "metadata": {},
   "source": [
    "### description"
   ]
  },
  {
   "cell_type": "code",
   "execution_count": 40,
   "metadata": {},
   "outputs": [
    {
     "name": "stdout",
     "output_type": "stream",
     "text": [
      "Все автомобили, представленные в продаже, проходят тщательную проверку по более 40 параметрам. Предоставляем гарантию юридической чистоты, а так же год технической гарантии на двигатель и КПП. Бесплатный тест-драйв. Возможно оформление автомобиля в кредит!\n",
      "\n",
      "Преимущества автокредитования:\n",
      "— Первоначальный взнос от 0%;\n",
      "— Более 30 кредитных программ;\n",
      "— Процентная ставка от 6% годовых;\n",
      "— Срок кредита от 6 месяцев до 7 лет;\n",
      "— Оформление кредита по двум документам;\n",
      "— Досрочное погашение без штрафов и комиссий;\n",
      "— Сумма кредита до 2 млн рублей;\n",
      "— Оформление КАСКО – по желанию;\n",
      "— Без справок и поручителей.\n",
      "\n",
      "Сотрудничаем с 12 аккредитованными и сертифицированными банками РФ, среднее время ожидания решения банка 20–30 минут.\n",
      "\n",
      "При покупке автомобиля по программе «Trade-in – выгодный обмен» или в кредит, получите дополнительную скидку до 80 000 рублей на данный автомобиль!\n",
      "\n",
      "Записаться на тест-драйв, а так же получить подробную информацию можно у специалистов автоцентра по указанному номеру телефона.\n"
     ]
    }
   ],
   "source": [
    "print(df_test.description[0])"
   ]
  },
  {
   "cell_type": "markdown",
   "metadata": {},
   "source": [
    "В колонке содержится текст, относящийся скорее к продавцу, чем к конкретному автомобилю. Поэтому на данном этапе ( и вероятно вообще) колонка исключается из рассмотрения."
   ]
  },
  {
   "cell_type": "markdown",
   "metadata": {},
   "source": [
    "### engineDisplacement"
   ]
  },
  {
   "cell_type": "code",
   "execution_count": 41,
   "metadata": {},
   "outputs": [
    {
     "data": {
      "text/plain": [
       "array(['1.2 LTR', '1.6 LTR', '1.8 LTR', '2.0 LTR', '1.4 LTR', '1.3 LTR',\n",
       "       '1.0 LTR', '3.6 LTR', '1.5 LTR', '1.9 LTR', '2.8 LTR', '1.1 LTR',\n",
       "       '2.5 LTR', '4.2 LTR', '3.0 LTR', '4.0 LTR', '5.9 LTR', '2.7 LTR',\n",
       "       '3.1 LTR', '2.4 LTR', '5.2 LTR', '3.2 LTR', '4.1 LTR', '6.3 LTR',\n",
       "       '2.3 LTR', '6.0 LTR', '2.2 LTR', '3.7 LTR', '2.9 LTR', '5.0 LTR',\n",
       "       '3.3 LTR', '2.1 LTR', '2.6 LTR', ' LTR', '3.5 LTR', '1.7 LTR',\n",
       "       '0.7 LTR', '4.4 LTR', '4.8 LTR', '5.4 LTR', '6.6 LTR', '4.9 LTR',\n",
       "       '3.8 LTR', '3.4 LTR', '3.9 LTR', '4.6 LTR', '5.6 LTR', '4.5 LTR',\n",
       "       '5.5 LTR', '6.2 LTR', '4.7 LTR', '4.3 LTR', '5.8 LTR', '5.3 LTR',\n",
       "       '5.7 LTR'], dtype=object)"
      ]
     },
     "execution_count": 41,
     "metadata": {},
     "output_type": "execute_result"
    }
   ],
   "source": [
    "df_test.engineDisplacement.unique()"
   ]
  },
  {
   "cell_type": "code",
   "execution_count": 42,
   "metadata": {},
   "outputs": [
    {
     "data": {
      "text/plain": [
       "55"
      ]
     },
     "execution_count": 42,
     "metadata": {},
     "output_type": "execute_result"
    }
   ],
   "source": [
    "df_test.engineDisplacement.value_counts()[' LTR']"
   ]
  },
  {
   "cell_type": "markdown",
   "metadata": {},
   "source": [
    "Колонка содержит обьем двигателя, принимется в рассмотрение. Следует отметить наличие скрытых пропусков (55 стрк `' LTR'`)"
   ]
  },
  {
   "cell_type": "markdown",
   "metadata": {},
   "source": [
    "### enginePower"
   ]
  },
  {
   "cell_type": "code",
   "execution_count": 43,
   "metadata": {},
   "outputs": [
    {
     "data": {
      "text/plain": [
       "array(['105 N12', '110 N12', '152 N12', '200 N12', '102 N12', '150 N12',\n",
       "       '90 N12', '180 N12', '220 N12', '122 N12', '70 N12', '140 N12',\n",
       "       '125 N12', '54 N12', '86 N12', '75 N12', '64 N12', '95 N12',\n",
       "       '260 N12', '170 N12', '80 N12', '68 N12', '160 N12', '115 N12',\n",
       "       '280 N12', '53 N12', '60 N12', '143 N12', '42 N12', '101 N12',\n",
       "       '58 N12', '193 N12', '79 N12', '30 N12', '100 N12', '50 N12',\n",
       "       '163 N12', '225 N12', '420 N12', '211 N12', '245 N12', '560 N12',\n",
       "       '500 N12', '249 N12', '450 N12', '605 N12', '250 N12', '354 N12',\n",
       "       '120 N12', '290 N12', '230 N12', '350 N12', '204 N12', '255 N12',\n",
       "       '340 N12', '177 N12', '272 N12', '372 N12', '210 N12', '130 N12',\n",
       "       '300 N12', '190 N12', '239 N12', '435 N12', '333 N12', '271 N12',\n",
       "       '326 N12', '238 N12', '310 N12', '233 N12', '252 N12', '133 N12',\n",
       "       '460 N12', '520 N12', '400 N12', '525 N12', '367 N12', '265 N12',\n",
       "       '550 N12', '580 N12', '88 N12', '165 N12', '430 N12', '335 N12',\n",
       "       '174 N12', '224 N12', '136 N12', '256 N12', '338 N12', '112 N12',\n",
       "       '218 N12', '360 N12', '93 N12', '182 N12', '113 N12', '240 N12',\n",
       "       '270 N12', '137 N12', '155 N12', '61 N12'], dtype=object)"
      ]
     },
     "execution_count": 43,
     "metadata": {},
     "output_type": "execute_result"
    }
   ],
   "source": [
    "df_test.enginePower.unique()[:100]"
   ]
  },
  {
   "cell_type": "markdown",
   "metadata": {},
   "source": [
    "Колонка содержит мощность двигателя, принмается в рассмотрение."
   ]
  },
  {
   "cell_type": "markdown",
   "metadata": {},
   "source": [
    "### equipment_dict"
   ]
  },
  {
   "cell_type": "code",
   "execution_count": 44,
   "metadata": {},
   "outputs": [
    {
     "data": {
      "text/plain": [
       "<method 'keys' of 'dict' objects>"
      ]
     },
     "execution_count": 44,
     "metadata": {},
     "output_type": "execute_result"
    }
   ],
   "source": [
    "dict.keys"
   ]
  },
  {
   "cell_type": "code",
   "execution_count": 45,
   "metadata": {},
   "outputs": [],
   "source": [
    "ttt = df_test.equipment_dict.apply(lambda x: json.loads(x) if x==x else x)"
   ]
  },
  {
   "cell_type": "code",
   "execution_count": 46,
   "metadata": {},
   "outputs": [
    {
     "data": {
      "text/plain": [
       "36"
      ]
     },
     "execution_count": 46,
     "metadata": {},
     "output_type": "execute_result"
    }
   ],
   "source": [
    "len(ttt[0])"
   ]
  },
  {
   "cell_type": "code",
   "execution_count": 47,
   "metadata": {},
   "outputs": [
    {
     "data": {
      "text/plain": [
       "0    {'engine-proof': True, 'tinted-glass': True, '...\n",
       "1    {'cruise-control': True, 'asr': True, 'esp': T...\n",
       "2    {'cruise-control': True, 'tinted-glass': True,...\n",
       "3    {'cruise-control': True, 'roller-blind-for-rea...\n",
       "4    {'cruise-control': True, 'asr': True, 'esp': T...\n",
       "Name: equipment_dict, dtype: object"
      ]
     },
     "execution_count": 47,
     "metadata": {},
     "output_type": "execute_result"
    }
   ],
   "source": [
    "ttt.head()"
   ]
  },
  {
   "cell_type": "code",
   "execution_count": 48,
   "metadata": {},
   "outputs": [
    {
     "data": {
      "text/plain": [
       "['engine-proof',\n",
       " 'tinted-glass',\n",
       " 'airbag-driver',\n",
       " 'aux',\n",
       " 'isofix',\n",
       " 'electro-window-front',\n",
       " 'ashtray-and-cigarette-lighter',\n",
       " 'airbag-passenger',\n",
       " 'computer',\n",
       " 'high-beam-assist',\n",
       " 'seat-transformation',\n",
       " 'isofix-front',\n",
       " 'wheel-power',\n",
       " 'alarm',\n",
       " 'lock',\n",
       " 'door-sill-panel',\n",
       " 'fabric-seats',\n",
       " 'electro-mirrors',\n",
       " 'airbag-rear-side',\n",
       " 'electro-window-back',\n",
       " 'steel-wheels',\n",
       " 'ptf',\n",
       " '16-inch-wheels',\n",
       " 'rain-sensor',\n",
       " 'airbag-side',\n",
       " 'audiosystem-cd',\n",
       " 'dark-interior',\n",
       " 'cooling-box',\n",
       " 'condition',\n",
       " 'abs',\n",
       " 'power-child-locks-rear-doors',\n",
       " 'front-seats-heat',\n",
       " 'wheel-configuration2',\n",
       " 'wheel-configuration1',\n",
       " '12v-socket',\n",
       " 'park-assist-r',\n",
       " 'cruise-control',\n",
       " 'asr',\n",
       " 'esp',\n",
       " 'airbag-driver',\n",
       " 'isofix',\n",
       " 'usb',\n",
       " 'light-sensor',\n",
       " 'airbag-passenger',\n",
       " 'computer',\n",
       " 'wheel-power',\n",
       " 'alarm',\n",
       " 'lock',\n",
       " 'fabric-seats',\n",
       " 'electro-mirrors',\n",
       " 'drl',\n",
       " 'electro-window-back',\n",
       " 'alloy-wheel-disks',\n",
       " '16-inch-wheels',\n",
       " 'ptf',\n",
       " 'rain-sensor',\n",
       " 'airbag-side',\n",
       " 'tyre-pressure',\n",
       " 'mirrors-heat',\n",
       " 'dark-interior',\n",
       " 'driver-seat-updown',\n",
       " 'wheel-heat',\n",
       " 'abs',\n",
       " 'front-seats-heat',\n",
       " 'bluetooth',\n",
       " 'wheel-configuration2',\n",
       " 'immo',\n",
       " 'windscreen-heat',\n",
       " 'climate-control-2',\n",
       " 'park-assist-r',\n",
       " 'cruise-control',\n",
       " 'tinted-glass',\n",
       " 'esp',\n",
       " 'adaptive-light',\n",
       " 'multi-wheel',\n",
       " 'xenon',\n",
       " 'heated-wash-system',\n",
       " 'ashtray-and-cigarette-lighter',\n",
       " 'airbag-passenger',\n",
       " 'front-centre-armrest',\n",
       " 'lock',\n",
       " 'door-sill-panel',\n",
       " 'electro-mirrors',\n",
       " 'electro-window-back',\n",
       " '16-inch-wheels',\n",
       " 'mirrors-heat',\n",
       " 'body-mouldings',\n",
       " 'dark-interior',\n",
       " 'combo-interior',\n",
       " 'rear-seats-heat',\n",
       " 'cooling-box',\n",
       " 'park-assist-r',\n",
       " 'knee-airbag',\n",
       " 'engine-proof',\n",
       " 'airbag-driver',\n",
       " 'aux',\n",
       " 'isofix',\n",
       " 'electro-window-front',\n",
       " 'light-sensor',\n",
       " 'hcc',\n",
       " 'airbag-curtain',\n",
       " 'computer',\n",
       " 'seat-transformation',\n",
       " 'wheel-power',\n",
       " 'alarm',\n",
       " 'light-cleaner',\n",
       " 'alloy-wheel-disks',\n",
       " 'ptf',\n",
       " 'leather-gear-stick',\n",
       " 'rain-sensor',\n",
       " 'airbag-side',\n",
       " 'tyre-pressure',\n",
       " 'audiosystem-cd',\n",
       " 'abs',\n",
       " 'power-child-locks-rear-doors',\n",
       " 'front-seats-heat',\n",
       " 'wheel-leather',\n",
       " 'wheel-configuration2',\n",
       " 'wheel-configuration1',\n",
       " 'immo',\n",
       " 'climate-control-2',\n",
       " 'windscreen-heat',\n",
       " 'auto-mirrors',\n",
       " '12v-socket',\n",
       " 'third-rear-headrest',\n",
       " 'cruise-control',\n",
       " 'roller-blind-for-rear-window',\n",
       " 'tinted-glass',\n",
       " 'esp',\n",
       " 'usb',\n",
       " 'multi-wheel',\n",
       " 'spare-wheel',\n",
       " 'heated-wash-system',\n",
       " 'ashtray-and-cigarette-lighter',\n",
       " 'airbag-passenger',\n",
       " 'front-centre-armrest',\n",
       " 'navigation',\n",
       " 'lock',\n",
       " 'door-sill-panel',\n",
       " 'electro-mirrors',\n",
       " 'electro-window-back',\n",
       " '16-inch-wheels',\n",
       " 'mirrors-heat',\n",
       " 'dark-interior',\n",
       " 'folding-front-passenger-seat',\n",
       " 'park-assist-r',\n",
       " 'engine-proof',\n",
       " 'airbag-driver',\n",
       " 'aux',\n",
       " 'isofix',\n",
       " 'electro-window-front',\n",
       " 'light-sensor',\n",
       " 'hcc',\n",
       " 'computer',\n",
       " 'high-beam-assist',\n",
       " 'programmed-block-heater',\n",
       " 'seat-transformation',\n",
       " 'wheel-power',\n",
       " 'alarm',\n",
       " 'light-cleaner',\n",
       " 'fabric-seats',\n",
       " 'alloy-wheel-disks',\n",
       " 'ptf',\n",
       " 'rain-sensor',\n",
       " 'airbag-side',\n",
       " 'tyre-pressure',\n",
       " 'audiosystem-cd',\n",
       " 'abs',\n",
       " 'bluetooth',\n",
       " 'front-seats-heat',\n",
       " 'wheel-configuration2',\n",
       " 'wheel-configuration1',\n",
       " 'immo',\n",
       " 'climate-control-2',\n",
       " 'windscreen-heat',\n",
       " 'auto-mirrors',\n",
       " '12v-socket',\n",
       " 'cruise-control',\n",
       " 'asr',\n",
       " 'esp',\n",
       " 'airbag-driver',\n",
       " 'isofix',\n",
       " 'light-sensor',\n",
       " 'passenger-seat-updown',\n",
       " 'airbag-passenger',\n",
       " 'computer',\n",
       " 'wheel-power',\n",
       " 'alarm',\n",
       " 'lock',\n",
       " 'fabric-seats',\n",
       " 'electro-mirrors',\n",
       " 'electro-window-back',\n",
       " 'alloy-wheel-disks',\n",
       " '16-inch-wheels',\n",
       " 'ptf',\n",
       " 'rain-sensor',\n",
       " 'airbag-side',\n",
       " 'mirrors-heat',\n",
       " 'dark-interior',\n",
       " 'audiosystem-cd',\n",
       " 'abs',\n",
       " 'front-seats-heat',\n",
       " 'wheel-configuration2',\n",
       " 'immo',\n",
       " 'climate-control-2',\n",
       " 'park-assist-r',\n",
       " 'cruise-control',\n",
       " 'tinted-glass',\n",
       " 'esp',\n",
       " 'sport-seats',\n",
       " 'multi-wheel',\n",
       " 'airbag-passenger',\n",
       " 'front-centre-armrest',\n",
       " 'front-seat-support',\n",
       " 'lock',\n",
       " 'drl',\n",
       " 'electro-mirrors',\n",
       " 'electro-window-back',\n",
       " '18-inch-wheels',\n",
       " 'mirrors-heat',\n",
       " 'volume-sensor',\n",
       " 'hatch',\n",
       " 'combo-interior',\n",
       " 'cooling-box',\n",
       " 'music-super',\n",
       " 'park-assist-r',\n",
       " 'engine-proof',\n",
       " 'airbag-driver',\n",
       " 'aux',\n",
       " 'isofix',\n",
       " 'electro-window-front',\n",
       " 'light-sensor',\n",
       " 'automatic-lighting-control',\n",
       " 'computer',\n",
       " 'seat-transformation',\n",
       " 'wheel-power',\n",
       " 'alarm',\n",
       " 'light-cleaner',\n",
       " 'alloy-wheel-disks',\n",
       " 'paint-metallic',\n",
       " 'ptf',\n",
       " 'leather-gear-stick',\n",
       " 'rain-sensor',\n",
       " 'airbag-side',\n",
       " 'tyre-pressure',\n",
       " 'abs',\n",
       " 'front-seats-heat',\n",
       " 'wheel-leather',\n",
       " 'wheel-configuration2',\n",
       " 'wheel-configuration1',\n",
       " 'immo',\n",
       " 'climate-control-1',\n",
       " 'cruise-control',\n",
       " 'tinted-glass',\n",
       " 'esp',\n",
       " 'airbag-driver',\n",
       " 'aux',\n",
       " 'isofix',\n",
       " 'electro-window-front',\n",
       " 'light-sensor',\n",
       " 'heated-wash-system',\n",
       " 'ashtray-and-cigarette-lighter',\n",
       " 'airbag-passenger',\n",
       " 'front-centre-armrest',\n",
       " 'computer',\n",
       " 'roof-rails',\n",
       " 'seat-transformation',\n",
       " 'wheel-power',\n",
       " 'lock',\n",
       " 'fabric-seats',\n",
       " 'electro-mirrors',\n",
       " 'electro-window-back',\n",
       " 'ptf',\n",
       " 'rain-sensor',\n",
       " 'airbag-side',\n",
       " 'mirrors-heat',\n",
       " '17-inch-wheels',\n",
       " 'cooling-box',\n",
       " 'abs',\n",
       " 'front-seats-heat',\n",
       " 'wheel-leather',\n",
       " 'wheel-configuration2',\n",
       " 'wheel-configuration1',\n",
       " 'immo',\n",
       " 'sport-pedals',\n",
       " 'climate-control-1',\n",
       " 'music-super',\n",
       " '12v-socket',\n",
       " 'third-rear-headrest',\n",
       " 'asr',\n",
       " 'tinted-glass',\n",
       " 'airbag-driver',\n",
       " 'isofix',\n",
       " 'light-sensor',\n",
       " 'passenger-seat-updown',\n",
       " 'airbag-passenger',\n",
       " 'computer',\n",
       " 'wheel-power',\n",
       " 'alarm',\n",
       " 'lock',\n",
       " 'fabric-seats',\n",
       " 'electro-mirrors',\n",
       " 'electro-window-back',\n",
       " 'rain-sensor',\n",
       " 'mirrors-heat',\n",
       " 'dark-interior',\n",
       " 'audiosystem-cd',\n",
       " 'abs',\n",
       " 'front-seats-heat',\n",
       " 'gbo',\n",
       " 'wheel-configuration2',\n",
       " 'immo',\n",
       " 'climate-control-1',\n",
       " 'cruise-control',\n",
       " 'asr',\n",
       " 'esp',\n",
       " 'airbag-driver',\n",
       " 'isofix',\n",
       " 'usb',\n",
       " 'light-sensor',\n",
       " 'heated-wash-system',\n",
       " 'passenger-seat-updown',\n",
       " 'airbag-passenger',\n",
       " 'computer',\n",
       " 'roof-rails',\n",
       " 'wheel-power',\n",
       " 'alarm',\n",
       " 'lock',\n",
       " 'fabric-seats',\n",
       " 'electro-mirrors',\n",
       " 'drl',\n",
       " 'electro-window-back',\n",
       " 'alloy-wheel-disks',\n",
       " '18-inch-wheels',\n",
       " 'ptf',\n",
       " 'rain-sensor',\n",
       " 'airbag-side',\n",
       " 'mirrors-heat',\n",
       " 'dark-interior',\n",
       " 'park-assist-f',\n",
       " 'rear-seats-heat',\n",
       " 'wheel-heat',\n",
       " 'abs',\n",
       " 'front-seats-heat',\n",
       " 'bluetooth',\n",
       " 'wheel-configuration2',\n",
       " 'immo',\n",
       " 'windscreen-heat',\n",
       " 'climate-control-2',\n",
       " 'park-assist-r',\n",
       " 'asr',\n",
       " 'tinted-glass',\n",
       " 'esp',\n",
       " 'airbag-driver',\n",
       " 'isofix',\n",
       " 'usb',\n",
       " 'electro-window-front',\n",
       " 'airbag-passenger',\n",
       " 'computer',\n",
       " 'roof-rails',\n",
       " 'wheel-power',\n",
       " 'alarm',\n",
       " 'lock',\n",
       " 'fabric-seats',\n",
       " 'electro-mirrors',\n",
       " 'ptf',\n",
       " 'mirrors-heat',\n",
       " 'dark-interior',\n",
       " 'audiosystem-cd',\n",
       " 'driver-seat-updown',\n",
       " 'abs',\n",
       " 'front-seats-heat',\n",
       " 'wheel-configuration2',\n",
       " 'immo',\n",
       " 'climate-control-1',\n",
       " 'tinted-glass',\n",
       " 'feedback-alarm',\n",
       " 'esp',\n",
       " 'airbag-driver',\n",
       " 'isofix',\n",
       " 'usb',\n",
       " 'mirrors-heat',\n",
       " 'electro-window-front',\n",
       " 'dark-interior',\n",
       " 'airbag-passenger',\n",
       " 'computer',\n",
       " 'abs',\n",
       " 'front-seats-heat',\n",
       " 'wheel-configuration2',\n",
       " 'wheel-power',\n",
       " 'immo',\n",
       " 'alarm',\n",
       " 'lock',\n",
       " 'climate-control-1',\n",
       " 'fabric-seats',\n",
       " 'electro-mirrors',\n",
       " 'alloy-wheel-disks',\n",
       " 'tinted-glass',\n",
       " 'airbag-side',\n",
       " 'mirrors-heat',\n",
       " 'electro-window-front',\n",
       " 'audiosystem-cd',\n",
       " 'dark-interior',\n",
       " 'spare-wheel',\n",
       " 'computer',\n",
       " 'abs',\n",
       " 'front-seats-heat',\n",
       " 'wheel-power',\n",
       " 'lock',\n",
       " 'climate-control-2',\n",
       " 'fabric-seats',\n",
       " 'electro-mirrors',\n",
       " 'cruise-control',\n",
       " 'asr',\n",
       " 'tinted-glass',\n",
       " 'esp',\n",
       " 'adaptive-light',\n",
       " 'airbag-driver',\n",
       " 'isofix',\n",
       " 'usb',\n",
       " 'light-sensor',\n",
       " 'xenon',\n",
       " 'heated-wash-system',\n",
       " 'airbag-passenger',\n",
       " 'computer',\n",
       " 'wheel-power',\n",
       " 'alarm',\n",
       " 'passenger-seat-electric',\n",
       " 'lock',\n",
       " 'light-cleaner',\n",
       " 'electro-mirrors',\n",
       " 'drl',\n",
       " 'electro-window-back',\n",
       " 'alloy-wheel-disks',\n",
       " 'ptf',\n",
       " 'rain-sensor',\n",
       " 'airbag-side',\n",
       " 'tyre-pressure',\n",
       " 'mirrors-heat',\n",
       " '17-inch-wheels',\n",
       " 'dark-interior',\n",
       " 'park-assist-f',\n",
       " 'rear-seats-heat',\n",
       " 'leather',\n",
       " 'electro-trunk',\n",
       " 'abs',\n",
       " 'front-seats-heat',\n",
       " 'bluetooth',\n",
       " 'wheel-configuration2',\n",
       " 'immo',\n",
       " 'driver-seat-memory',\n",
       " 'windscreen-heat',\n",
       " 'climate-control-2',\n",
       " 'park-assist-r',\n",
       " 'cruise-control',\n",
       " 'asr',\n",
       " 'tinted-glass',\n",
       " 'esp',\n",
       " 'airbag-driver',\n",
       " 'isofix',\n",
       " 'usb',\n",
       " 'light-sensor',\n",
       " 'airbag-passenger',\n",
       " 'computer',\n",
       " 'keyless-entry',\n",
       " 'roof-rails',\n",
       " 'wheel-power',\n",
       " 'alarm',\n",
       " 'lock',\n",
       " 'rear-camera',\n",
       " 'fabric-seats',\n",
       " 'electro-mirrors',\n",
       " 'drl',\n",
       " 'electro-window-back',\n",
       " 'alloy-wheel-disks',\n",
       " 'ptf',\n",
       " 'rain-sensor',\n",
       " 'airbag-side',\n",
       " 'tyre-pressure',\n",
       " 'mirrors-heat',\n",
       " '17-inch-wheels',\n",
       " 'dark-interior',\n",
       " 'rear-seats-heat',\n",
       " 'led-lights',\n",
       " 'abs',\n",
       " 'front-seats-heat',\n",
       " 'bluetooth',\n",
       " 'wheel-configuration2',\n",
       " 'immo',\n",
       " 'windscreen-heat',\n",
       " 'climate-control-2',\n",
       " 'park-assist-r',\n",
       " 'esp',\n",
       " 'airbag-driver',\n",
       " 'isofix',\n",
       " 'light-sensor',\n",
       " 'airbag-passenger',\n",
       " 'computer',\n",
       " 'wheel-power',\n",
       " 'alarm',\n",
       " 'lock',\n",
       " 'fabric-seats',\n",
       " 'electro-mirrors',\n",
       " 'drl',\n",
       " 'electro-window-back',\n",
       " 'alloy-wheel-disks',\n",
       " 'airbag-side',\n",
       " 'mirrors-heat',\n",
       " 'dark-interior',\n",
       " 'audiosystem-cd',\n",
       " 'abs',\n",
       " 'front-seats-heat',\n",
       " 'wheel-configuration2',\n",
       " 'immo',\n",
       " 'climate-control-1',\n",
       " '15-inch-wheels',\n",
       " 'esp',\n",
       " 'aux',\n",
       " 'usb',\n",
       " 'audiosystem-tv',\n",
       " 'automatic-lighting-control',\n",
       " 'heated-wash-system',\n",
       " 'passenger-seat-updown',\n",
       " 'lock',\n",
       " 'light-cleaner',\n",
       " 'fabric-seats',\n",
       " 'drl',\n",
       " 'alloy-wheel-disks',\n",
       " 'ptf',\n",
       " 'feedback-alarm',\n",
       " 'mirrors-heat',\n",
       " 'volume-sensor',\n",
       " 'audiosystem-cd',\n",
       " 'seats-7',\n",
       " 'wheel-heat',\n",
       " 'abs',\n",
       " 'bluetooth',\n",
       " 'wheel-leather',\n",
       " 'immo',\n",
       " 'windscreen-heat',\n",
       " 'climate-control-2',\n",
       " '12v-socket',\n",
       " 'asr',\n",
       " 'esp',\n",
       " 'adaptive-light',\n",
       " 'usb',\n",
       " 'multi-wheel',\n",
       " 'auto-park',\n",
       " 'heated-wash-system',\n",
       " 'ashtray-and-cigarette-lighter',\n",
       " 'airbag-passenger',\n",
       " 'front-centre-armrest',\n",
       " 'apple-carplay',\n",
       " 'decorative-interior-lighting',\n",
       " 'bas',\n",
       " 'lock',\n",
       " 'rear-camera',\n",
       " 'door-sill-panel',\n",
       " 'servo',\n",
       " 'electro-mirrors',\n",
       " 'electro-window-back',\n",
       " 'reduce-spare-wheel',\n",
       " 'feedback-alarm',\n",
       " 'mirrors-heat',\n",
       " '17-inch-wheels',\n",
       " 'volume-sensor',\n",
       " 'dark-interior',\n",
       " 'combo-interior',\n",
       " 'rear-seats-heat',\n",
       " 'cooling-box',\n",
       " 'wheel-heat',\n",
       " 'led-lights',\n",
       " 'driver-seat-memory',\n",
       " 'music-super',\n",
       " 'engine-proof',\n",
       " 'glonass',\n",
       " 'airbag-driver',\n",
       " 'aux',\n",
       " 'isofix',\n",
       " 'electro-window-front',\n",
       " 'light-sensor',\n",
       " 'hcc',\n",
       " 'drowsy-driver-alert-system',\n",
       " 'automatic-lighting-control',\n",
       " 'airbag-curtain',\n",
       " 'passenger-seat-updown',\n",
       " 'computer',\n",
       " 'keyless-entry',\n",
       " 'seat-transformation',\n",
       " 'android-auto',\n",
       " 'alarm',\n",
       " 'passenger-seat-electric',\n",
       " 'light-cleaner',\n",
       " 'alloy-wheel-disks',\n",
       " 'ptf',\n",
       " 'leather-gear-stick',\n",
       " 'start-button',\n",
       " 'blind-spot',\n",
       " 'rain-sensor',\n",
       " 'airbag-side',\n",
       " 'voice-recognition',\n",
       " 'tyre-pressure',\n",
       " 'remote-engine-start',\n",
       " 'electronic-gage-panel',\n",
       " 'auto-cruise',\n",
       " 'abs',\n",
       " 'bluetooth',\n",
       " 'front-seats-heat',\n",
       " 'power-child-locks-rear-doors',\n",
       " 'wheel-leather',\n",
       " 'wheel-configuration2',\n",
       " 'wheel-configuration1',\n",
       " 'immo',\n",
       " 'windscreen-heat',\n",
       " 'climate-control-2',\n",
       " '12v-socket',\n",
       " 'third-rear-headrest',\n",
       " 'alloy-wheel-disks',\n",
       " 'ptf',\n",
       " 'esp',\n",
       " 'rain-sensor',\n",
       " 'airbag-side',\n",
       " 'mirrors-heat',\n",
       " 'electro-window-front',\n",
       " 'light-sensor',\n",
       " 'audiosystem-cd',\n",
       " 'dark-interior',\n",
       " 'spare-wheel',\n",
       " 'computer',\n",
       " 'abs',\n",
       " 'bluetooth',\n",
       " 'front-seats-heat',\n",
       " 'wheel-power',\n",
       " 'lock',\n",
       " 'climate-control-2',\n",
       " 'park-assist-r',\n",
       " 'fabric-seats',\n",
       " 'electro-mirrors',\n",
       " 'airbag-driver',\n",
       " 'isofix',\n",
       " 'electro-window-front',\n",
       " 'hcc',\n",
       " 'multi-wheel',\n",
       " 'airbag-passenger',\n",
       " 'computer',\n",
       " 'roof-rails',\n",
       " 'wheel-power',\n",
       " 'alarm',\n",
       " 'lock',\n",
       " 'door-sill-panel',\n",
       " 'fabric-seats',\n",
       " 'electro-mirrors',\n",
       " 'electro-window-back',\n",
       " 'alloy-wheel-disks',\n",
       " 'paint-metallic',\n",
       " 'ptf',\n",
       " 'leather-gear-stick',\n",
       " 'airbag-side',\n",
       " 'mirrors-heat',\n",
       " 'dark-interior',\n",
       " 'audiosystem-cd',\n",
       " 'driver-seat-updown',\n",
       " 'abs',\n",
       " 'front-seats-heat',\n",
       " 'wheel-leather',\n",
       " 'wheel-configuration2',\n",
       " 'wheel-configuration1',\n",
       " 'immo',\n",
       " 'climate-control-1',\n",
       " '12v-socket',\n",
       " 'park-assist-r',\n",
       " 'asr',\n",
       " 'tinted-glass',\n",
       " 'esp',\n",
       " 'airbag-driver',\n",
       " 'isofix',\n",
       " 'mirrors-heat',\n",
       " 'electro-window-front',\n",
       " 'dark-interior',\n",
       " 'audiosystem-cd',\n",
       " 'driver-seat-updown',\n",
       " 'airbag-passenger',\n",
       " 'computer',\n",
       " 'navigation',\n",
       " 'abs',\n",
       " 'front-seats-heat',\n",
       " 'wheel-configuration2',\n",
       " 'wheel-power',\n",
       " 'immo',\n",
       " 'alarm',\n",
       " 'lock',\n",
       " 'climate-control-1',\n",
       " 'fabric-seats',\n",
       " 'electro-mirrors',\n",
       " 'cruise-control',\n",
       " 'asr',\n",
       " 'esp',\n",
       " 'airbag-driver',\n",
       " 'isofix',\n",
       " 'usb',\n",
       " 'light-sensor',\n",
       " 'passenger-seat-updown',\n",
       " 'airbag-passenger',\n",
       " 'computer',\n",
       " 'roof-rails',\n",
       " 'wheel-power',\n",
       " 'alarm',\n",
       " 'lock',\n",
       " 'fabric-seats',\n",
       " 'electro-mirrors',\n",
       " 'drl',\n",
       " 'electro-window-back',\n",
       " 'alloy-wheel-disks',\n",
       " 'ptf',\n",
       " 'rain-sensor',\n",
       " 'airbag-side',\n",
       " 'mirrors-heat',\n",
       " '17-inch-wheels',\n",
       " 'dark-interior',\n",
       " 'abs',\n",
       " 'front-seats-heat',\n",
       " 'bluetooth',\n",
       " 'wheel-configuration2',\n",
       " 'immo',\n",
       " 'windscreen-heat',\n",
       " 'climate-control-2',\n",
       " 'park-assist-r',\n",
       " 'cruise-control',\n",
       " 'airbag-driver',\n",
       " 'usb',\n",
       " 'aux',\n",
       " 'electro-window-front',\n",
       " 'light-sensor',\n",
       " 'xenon',\n",
       " 'spare-wheel',\n",
       " 'computer',\n",
       " 'wheel-power',\n",
       " 'alarm',\n",
       " 'lock',\n",
       " 'rear-camera',\n",
       " 'alloy-wheel-disks',\n",
       " 'rain-sensor',\n",
       " 'audiosystem-cd',\n",
       " 'dark-interior',\n",
       " 'park-assist-f',\n",
       " 'leather',\n",
       " 'seat-memory',\n",
       " 'condition',\n",
       " 'abs',\n",
       " 'front-seats-heat',\n",
       " 'bluetooth',\n",
       " 'park-assist-r',\n",
       " 'steel-wheels',\n",
       " 'airbag-driver',\n",
       " 'mirrors-heat',\n",
       " 'electro-window-front',\n",
       " 'audiosystem-cd',\n",
       " 'spare-wheel',\n",
       " 'condition',\n",
       " 'computer',\n",
       " 'abs',\n",
       " 'front-seats-heat',\n",
       " 'wheel-power',\n",
       " 'lock',\n",
       " 'fabric-seats',\n",
       " 'electro-mirrors',\n",
       " 'asr',\n",
       " 'alloy-wheel-disks',\n",
       " 'tinted-glass',\n",
       " 'ptf',\n",
       " 'esp',\n",
       " 'aux',\n",
       " 'mirrors-heat',\n",
       " 'audiosystem-cd',\n",
       " 'light-sensor',\n",
       " 'abs',\n",
       " 'front-seats-heat',\n",
       " 'wheel-power',\n",
       " 'climate-control-2',\n",
       " 'lock',\n",
       " 'park-assist-r',\n",
       " 'fabric-seats',\n",
       " 'electro-mirrors',\n",
       " 'asr',\n",
       " 'airbag-driver',\n",
       " 'aux',\n",
       " 'usb',\n",
       " 'isofix',\n",
       " 'windcleaner-heat',\n",
       " 'light-sensor',\n",
       " 'multi-wheel',\n",
       " 'xenon',\n",
       " 'heated-wash-system',\n",
       " 'ashtray-and-cigarette-lighter',\n",
       " 'airbag-curtain',\n",
       " 'airbag-passenger',\n",
       " 'navigation',\n",
       " 'computer',\n",
       " 'roof-rails',\n",
       " 'wheel-power',\n",
       " 'lock',\n",
       " 'light-cleaner',\n",
       " 'electro-mirrors',\n",
       " 'airbag-rear-side',\n",
       " 'rain-sensor',\n",
       " 'airbag-side',\n",
       " 'remote-engine-start',\n",
       " 'park-assist-f',\n",
       " 'dark-interior',\n",
       " 'combo-interior',\n",
       " 'abs',\n",
       " 'bluetooth',\n",
       " 'power-child-locks-rear-doors',\n",
       " 'driver-seat-memory',\n",
       " 'immo',\n",
       " 'climate-control-2',\n",
       " 'park-assist-r',\n",
       " '12v-socket',\n",
       " 'knee-airbag',\n",
       " 'cruise-control',\n",
       " 'tinted-glass',\n",
       " 'esp',\n",
       " 'airbag-driver',\n",
       " 'isofix',\n",
       " 'light-sensor',\n",
       " 'airbag-passenger',\n",
       " 'computer',\n",
       " 'roof-rails',\n",
       " 'wheel-power',\n",
       " 'alarm',\n",
       " 'lock',\n",
       " 'fabric-seats',\n",
       " 'electro-mirrors',\n",
       " 'electro-window-back',\n",
       " 'alloy-wheel-disks',\n",
       " 'ptf',\n",
       " 'rain-sensor',\n",
       " 'airbag-side',\n",
       " 'mirrors-heat',\n",
       " '17-inch-wheels',\n",
       " 'dark-interior',\n",
       " 'park-assist-f',\n",
       " 'audiosystem-cd',\n",
       " 'driver-seat-updown',\n",
       " 'abs',\n",
       " 'front-seats-heat',\n",
       " 'wheel-configuration2',\n",
       " 'immo',\n",
       " 'climate-control-1',\n",
       " 'park-assist-r',\n",
       " 'cruise-control',\n",
       " 'asr',\n",
       " 'esp',\n",
       " 'airbag-driver',\n",
       " 'isofix',\n",
       " 'light-sensor',\n",
       " 'xenon',\n",
       " 'airbag-passenger',\n",
       " 'computer',\n",
       " 'wheel-power',\n",
       " 'alarm',\n",
       " 'lock',\n",
       " 'light-cleaner',\n",
       " 'fabric-seats',\n",
       " 'electro-mirrors',\n",
       " 'drl',\n",
       " 'electro-window-back',\n",
       " 'alloy-wheel-disks',\n",
       " '16-inch-wheels',\n",
       " 'ptf',\n",
       " 'airbag-side',\n",
       " 'tyre-pressure',\n",
       " 'mirrors-heat',\n",
       " 'dark-interior',\n",
       " 'audiosystem-cd',\n",
       " 'rear-seats-heat',\n",
       " 'abs',\n",
       " 'front-seats-heat',\n",
       " 'bluetooth',\n",
       " 'wheel-configuration2',\n",
       " 'immo',\n",
       " 'windscreen-heat',\n",
       " 'climate-control-2',\n",
       " 'park-assist-r',\n",
       " 'cruise-control',\n",
       " 'roller-blind-for-rear-window',\n",
       " 'tinted-glass',\n",
       " 'esp',\n",
       " 'usb',\n",
       " 'multi-wheel',\n",
       " 'xenon',\n",
       " 'spare-wheel',\n",
       " 'heated-wash-system',\n",
       " 'ashtray-and-cigarette-lighter',\n",
       " 'airbag-passenger',\n",
       " 'front-centre-armrest',\n",
       " 'roof-rails',\n",
       " 'lock',\n",
       " 'door-sill-panel',\n",
       " 'electro-mirrors',\n",
       " 'electro-window-back',\n",
       " '16-inch-wheels',\n",
       " 'mirrors-heat',\n",
       " 'volume-sensor',\n",
       " 'park-assist-f',\n",
       " 'dark-interior',\n",
       " 'folding-front-passenger-seat',\n",
       " 'park-assist-r',\n",
       " 'engine-proof',\n",
       " 'airbag-driver',\n",
       " 'aux',\n",
       " 'isofix',\n",
       " 'electro-window-front',\n",
       " 'light-sensor',\n",
       " 'hcc',\n",
       " 'computer',\n",
       " 'high-beam-assist',\n",
       " 'programmed-block-heater',\n",
       " 'seat-transformation',\n",
       " 'wheel-power',\n",
       " 'alarm',\n",
       " 'light-cleaner',\n",
       " 'fabric-seats',\n",
       " 'steel-wheels',\n",
       " 'ptf',\n",
       " 'rain-sensor',\n",
       " 'airbag-side',\n",
       " 'audiosystem-cd',\n",
       " 'abs',\n",
       " 'bluetooth',\n",
       " 'power-child-locks-rear-doors',\n",
       " 'front-seats-heat',\n",
       " 'wheel-configuration2',\n",
       " 'wheel-configuration1',\n",
       " 'immo',\n",
       " 'windscreen-heat',\n",
       " 'climate-control-1',\n",
       " '12v-socket',\n",
       " 'cruise-control',\n",
       " 'esp',\n",
       " 'airbag-driver',\n",
       " 'isofix',\n",
       " 'usb',\n",
       " 'light-sensor',\n",
       " 'airbag-passenger',\n",
       " 'computer',\n",
       " 'wheel-power',\n",
       " 'alarm',\n",
       " 'lock',\n",
       " 'fabric-seats',\n",
       " 'electro-mirrors',\n",
       " 'electro-window-back',\n",
       " 'alloy-wheel-disks',\n",
       " '16-inch-wheels',\n",
       " 'ptf',\n",
       " 'rain-sensor',\n",
       " 'airbag-side',\n",
       " 'mirrors-heat',\n",
       " 'dark-interior',\n",
       " 'audiosystem-cd',\n",
       " 'abs',\n",
       " 'front-seats-heat',\n",
       " 'bluetooth',\n",
       " 'wheel-configuration2',\n",
       " 'immo',\n",
       " 'climate-control-2',\n",
       " 'park-assist-r',\n",
       " 'condition',\n",
       " 'computer',\n",
       " 'abs',\n",
       " 'isofix',\n",
       " 'wheel-power',\n",
       " 'electro-window-front',\n",
       " 'dark-interior',\n",
       " 'lock',\n",
       " '12v-socket',\n",
       " 'fabric-seats',\n",
       " 'cruise-control',\n",
       " 'tinted-glass',\n",
       " 'esp',\n",
       " 'airbag-driver',\n",
       " 'aux',\n",
       " 'usb',\n",
       " 'isofix',\n",
       " 'electro-window-front',\n",
       " 'light-sensor',\n",
       " 'multi-wheel',\n",
       " 'hcc',\n",
       " 'airbag-passenger',\n",
       " 'front-centre-armrest',\n",
       " 'computer',\n",
       " 'seat-transformation',\n",
       " 'wheel-power',\n",
       " 'alarm',\n",
       " 'lock',\n",
       " 'fabric-seats',\n",
       " 'electro-mirrors',\n",
       " 'electro-window-back',\n",
       " 'ptf',\n",
       " '16-inch-wheels',\n",
       " ...]"
      ]
     },
     "execution_count": 48,
     "metadata": {},
     "output_type": "execute_result"
    }
   ],
   "source": [
    "ttt.apply(lambda x: list(x.keys()) if x==x else []).sum()"
   ]
  },
  {
   "cell_type": "code",
   "execution_count": 49,
   "metadata": {},
   "outputs": [
    {
     "data": {
      "text/plain": [
       "31712    {\"cruise-control\":true,\"asr\":true,\"tinted-glas...\n",
       "17417                                                  NaN\n",
       "3052     {\"electro-window-back\":true,\"alloy-wheel-disks...\n",
       "22849    {\"cruise-control\":true,\"asr\":true,\"esp\":true,\"...\n",
       "14527    {\"airbag-passenger\":true,\"driver-seat-updown\":...\n",
       "Name: equipment_dict, dtype: object"
      ]
     },
     "execution_count": 49,
     "metadata": {},
     "output_type": "execute_result"
    }
   ],
   "source": [
    "df_test.equipment_dict.sample(5)"
   ]
  },
  {
   "cell_type": "code",
   "execution_count": 50,
   "metadata": {},
   "outputs": [
    {
     "data": {
      "text/plain": [
       "4409     {'cruise-control': True, 'e-adjustment-wheel':...\n",
       "33581    {'cruise-control': True, 'asr': True, 'isofix'...\n",
       "25062                                                  NaN\n",
       "8001     {'cruise-control': True, 'asr': True, 'tinted-...\n",
       "21145                                                  NaN\n",
       "Name: equipment_dict, dtype: object"
      ]
     },
     "execution_count": 50,
     "metadata": {},
     "output_type": "execute_result"
    }
   ],
   "source": [
    "df_test.equipment_dict.apply(lambda x: json.loads(x) if x==x else x).sample(5)"
   ]
  },
  {
   "cell_type": "markdown",
   "metadata": {},
   "source": [
    "В колонке много пропусков (почти 29%), не пропущенные значения представляют собой текстово епредсьавление словаря с перечислением оснащения автомобиля. В рассмотрнеие моделью будет приняты те пункты оснащения, что будут пересекаться с пунктами оснащения обучающего набора данных."
   ]
  },
  {
   "cell_type": "markdown",
   "metadata": {},
   "source": [
    "### fuelType"
   ]
  },
  {
   "cell_type": "code",
   "execution_count": 51,
   "metadata": {},
   "outputs": [
    {
     "data": {
      "text/plain": [
       "array(['бензин', 'дизель', 'гибрид', 'электро', 'газ'], dtype=object)"
      ]
     },
     "execution_count": 51,
     "metadata": {},
     "output_type": "execute_result"
    }
   ],
   "source": [
    "df_test.fuelType.unique()"
   ]
  },
  {
   "cell_type": "markdown",
   "metadata": {},
   "source": [
    "Колонка содержит тип топлива. Принимается врассмотрнеи."
   ]
  },
  {
   "cell_type": "markdown",
   "metadata": {},
   "source": [
    "### image"
   ]
  },
  {
   "cell_type": "code",
   "execution_count": 52,
   "metadata": {},
   "outputs": [
    {
     "data": {
      "text/plain": [
       "13061    https://autoru.naydex.net/G87gDZg56/28c7a8vqVE...\n",
       "7765     https://autoru.naydex.net/lICN99c69/9bc7d3Rr7k...\n",
       "31120    https://autoru.naydex.net/cSRr96A18/708ec0RhY5...\n",
       "1957     https://avatars.mds.yandex.net/get-autoru-vos/...\n",
       "6896     https://avatars.mds.yandex.net/get-autoru-vos/...\n",
       "Name: image, dtype: object"
      ]
     },
     "execution_count": 52,
     "metadata": {},
     "output_type": "execute_result"
    }
   ],
   "source": [
    "df_test.image.sample(5)"
   ]
  },
  {
   "cell_type": "markdown",
   "metadata": {},
   "source": [
    "Колонка содержит ссылки на фото или аватар авто, исключается из рассмотрения."
   ]
  },
  {
   "cell_type": "markdown",
   "metadata": {},
   "source": [
    "### mileage"
   ]
  },
  {
   "cell_type": "code",
   "execution_count": 53,
   "metadata": {},
   "outputs": [
    {
     "data": {
      "text/plain": [
       "18314    189447\n",
       "24640    300000\n",
       "19941    189000\n",
       "14889    131000\n",
       "19863     84000\n",
       "Name: mileage, dtype: int64"
      ]
     },
     "execution_count": 53,
     "metadata": {},
     "output_type": "execute_result"
    }
   ],
   "source": [
    "df_test.mileage.sample(5)"
   ]
  },
  {
   "cell_type": "markdown",
   "metadata": {},
   "source": [
    "Колонка содержит пробег авто, принмается в рассмотрениею"
   ]
  },
  {
   "cell_type": "markdown",
   "metadata": {},
   "source": [
    "### modelDate"
   ]
  },
  {
   "cell_type": "code",
   "execution_count": 54,
   "metadata": {},
   "outputs": [
    {
     "data": {
      "text/plain": [
       "array([2013, 2017, 2008, 2009, 2016, 2012, 2015, 2010, 2006, 2000, 2007,\n",
       "       1994, 2004, 1999, 2005, 1976, 2001, 1969, 1996, 1998, 1989, 1934,\n",
       "       2014, 2011, 2018, 1986, 1997, 1990, 2019, 2002, 1991, 1987, 1980,\n",
       "       1982, 1938, 1988, 2003, 1983, 1978, 1979, 1984, 1992, 1995, 1993,\n",
       "       1985, 1974, 1966, 1977, 1981, 1972, 1968, 1975, 1949, 1937, 1936,\n",
       "       1973, 1959, 1958, 2020, 1965, 1971, 1904, 1963, 1955, 1951, 1960],\n",
       "      dtype=int64)"
      ]
     },
     "execution_count": 54,
     "metadata": {},
     "output_type": "execute_result"
    }
   ],
   "source": [
    "df_test.modelDate.unique()"
   ]
  },
  {
   "cell_type": "markdown",
   "metadata": {},
   "source": [
    "Колонка содержит год начала выпуска модели, принимется в рассмотрние."
   ]
  },
  {
   "cell_type": "markdown",
   "metadata": {},
   "source": [
    "### model_info"
   ]
  },
  {
   "cell_type": "code",
   "execution_count": 55,
   "metadata": {},
   "outputs": [
    {
     "data": {
      "text/plain": [
       "31460    {\"code\":\"S60\",\"name\":\"S60\",\"ru_name\":\"S60\",\"mo...\n",
       "17690    {\"code\":\"E_KLASSE\",\"name\":\"E-Класс\",\"ru_name\":...\n",
       "30031    {\"code\":\"A4\",\"name\":\"A4\",\"ru_name\":\"А4\",\"morph...\n",
       "6823     {\"code\":\"XC60\",\"name\":\"XC60\",\"ru_name\":\"XC60\",...\n",
       "31680    {\"code\":\"GLE_KLASSE\",\"name\":\"GLE\",\"ru_name\":\"Г...\n",
       "Name: model_info, dtype: object"
      ]
     },
     "execution_count": 55,
     "metadata": {},
     "output_type": "execute_result"
    }
   ],
   "source": [
    "df_test.model_info.sample(5)"
   ]
  },
  {
   "cell_type": "markdown",
   "metadata": {},
   "source": [
    "Колонка содержит наименование модели в трех вариантах. Учитывая наличие `model_name` колонка исключается из рассмотрения"
   ]
  },
  {
   "cell_type": "markdown",
   "metadata": {},
   "source": [
    "### model_name"
   ]
  },
  {
   "cell_type": "code",
   "execution_count": 56,
   "metadata": {},
   "outputs": [
    {
     "data": {
      "text/plain": [
       "10024        5ER\n",
       "5007          A6\n",
       "33558    COROLLA\n",
       "30137         A6\n",
       "3011          A1\n",
       "Name: model_name, dtype: object"
      ]
     },
     "execution_count": 56,
     "metadata": {},
     "output_type": "execute_result"
    }
   ],
   "source": [
    "df_test.model_name.sample(5)"
   ]
  },
  {
   "cell_type": "markdown",
   "metadata": {},
   "source": [
    "Наименование модели. Принимается к рассмотрению."
   ]
  },
  {
   "cell_type": "markdown",
   "metadata": {},
   "source": [
    "### name"
   ]
  },
  {
   "cell_type": "code",
   "execution_count": 57,
   "metadata": {},
   "outputs": [
    {
     "data": {
      "text/plain": [
       "20839    2.0 CVT (146 л.с.) 4WD\n",
       "31115    2.0 AMT (180 л.с.) 4WD\n",
       "32409         2.4 AT (144 л.с.)\n",
       "13033        1.6 CVT (117 л.с.)\n",
       "11736    2.0 CVT (144 л.с.) 4WD\n",
       "Name: name, dtype: object"
      ]
     },
     "execution_count": 57,
     "metadata": {},
     "output_type": "execute_result"
    }
   ],
   "source": [
    "df_test.name.sample(5)"
   ]
  },
  {
   "cell_type": "markdown",
   "metadata": {},
   "source": [
    "Колонка содержит расширение названия модели, указывающее на обьем двигателя и тип привода. Поскольку эта информация уже получена из других колонок, эта в рассмотрнеие не принимается"
   ]
  },
  {
   "cell_type": "markdown",
   "metadata": {},
   "source": [
    "### numberOfDoors"
   ]
  },
  {
   "cell_type": "code",
   "execution_count": 58,
   "metadata": {},
   "outputs": [
    {
     "data": {
      "text/plain": [
       "array([5, 4, 2, 3, 0], dtype=int64)"
      ]
     },
     "execution_count": 58,
     "metadata": {},
     "output_type": "execute_result"
    }
   ],
   "source": [
    "df_test.numberOfDoors.unique()"
   ]
  },
  {
   "cell_type": "markdown",
   "metadata": {},
   "source": [
    "Колонка содержит числовое представление количества дверей, принимется в рассмотрение."
   ]
  },
  {
   "cell_type": "markdown",
   "metadata": {},
   "source": [
    "### parsing_unixtime"
   ]
  },
  {
   "cell_type": "markdown",
   "metadata": {},
   "source": [
    "Колонка судя по названию содержит время сбора информации в валидационный набор данных. Непосредственно для обученяи информация не нужна. Но время сбора поможет внести поправку на изменение коньюктуры(курс валюты и т.д.). \n",
    "Посмотрим на диапазон `parsing_unixtime`:"
   ]
  },
  {
   "cell_type": "code",
   "execution_count": 59,
   "metadata": {},
   "outputs": [],
   "source": [
    "# datetime.utcfromtimestamp(df_test.parsing_unixtime.min())"
   ]
  },
  {
   "cell_type": "code",
   "execution_count": 60,
   "metadata": {},
   "outputs": [],
   "source": [
    "# datetime.utcfromtimestamp(df_test.parsing_unixtime.max())"
   ]
  },
  {
   "cell_type": "code",
   "execution_count": 61,
   "metadata": {},
   "outputs": [
    {
     "data": {
      "text/plain": [
       "(datetime.date(2020, 10, 19), datetime.date(2020, 10, 26))"
      ]
     },
     "execution_count": 61,
     "metadata": {},
     "output_type": "execute_result"
    }
   ],
   "source": [
    "date.fromtimestamp(df_test.parsing_unixtime.min()),date.fromtimestamp(df_test.parsing_unixtime.max())"
   ]
  },
  {
   "cell_type": "markdown",
   "metadata": {},
   "source": [
    "Как видим парсинг произведен с 19 по 26 октября 20-го года"
   ]
  },
  {
   "cell_type": "markdown",
   "metadata": {},
   "source": [
    "### productionDate"
   ]
  },
  {
   "cell_type": "code",
   "execution_count": 62,
   "metadata": {},
   "outputs": [
    {
     "data": {
      "text/plain": [
       "array([2014, 2017, 2012, 2011, 2019, 2018, 2010, 2020, 2016, 2013, 2006,\n",
       "       2007, 2015, 2005, 2008, 2009, 1997, 2004, 2002, 1987, 2003, 2001,\n",
       "       1976, 2000, 1998, 1995, 1999, 1993, 1939, 1996, 1984, 1990, 1991,\n",
       "       1992, 1989, 1982, 1985, 1994, 1938, 1981, 1988, 1983, 1980, 1986,\n",
       "       1978, 1970, 1979, 1977, 1972, 1975, 1969, 1950, 1953, 1949, 1937,\n",
       "       1959, 1968, 1936, 1904, 1974, 1967, 1961, 1960, 1965, 1963, 1957,\n",
       "       1952, 1973, 1948], dtype=int64)"
      ]
     },
     "execution_count": 62,
     "metadata": {},
     "output_type": "execute_result"
    }
   ],
   "source": [
    "df_test.productionDate.unique()"
   ]
  },
  {
   "cell_type": "markdown",
   "metadata": {},
   "source": [
    "Год производства автомобиля ( наверное наряду с моделью автомобиля самы значимый признак). Принмается в рассмотрнеие."
   ]
  },
  {
   "cell_type": "markdown",
   "metadata": {},
   "source": [
    "### sell_id"
   ]
  },
  {
   "cell_type": "code",
   "execution_count": 63,
   "metadata": {},
   "outputs": [
    {
     "data": {
      "text/plain": [
       "'https://auto.ru/cars/used/sale/skoda/octavia/1100549428-595cadf2/'"
      ]
     },
     "execution_count": 63,
     "metadata": {},
     "output_type": "execute_result"
    }
   ],
   "source": [
    "df_test.car_url[1]"
   ]
  },
  {
   "cell_type": "code",
   "execution_count": 64,
   "metadata": {},
   "outputs": [
    {
     "data": {
      "text/plain": [
       "1100549428"
      ]
     },
     "execution_count": 64,
     "metadata": {},
     "output_type": "execute_result"
    }
   ],
   "source": [
    "df_test.sell_id[1]"
   ]
  },
  {
   "cell_type": "code",
   "execution_count": null,
   "metadata": {},
   "outputs": [],
   "source": []
  },
  {
   "cell_type": "code",
   "execution_count": 65,
   "metadata": {},
   "outputs": [
    {
     "data": {
      "text/plain": [
       "array([1100575026, 1100549428, 1100658222, ..., 1101364889, 1101362518,\n",
       "       1101256068], dtype=int64)"
      ]
     },
     "execution_count": 65,
     "metadata": {},
     "output_type": "execute_result"
    }
   ],
   "source": [
    "df_test.sell_id.unique()"
   ]
  },
  {
   "cell_type": "markdown",
   "metadata": {},
   "source": [
    "Колонка содержит ***id*** обьявления. Как непосредственный признак не интересен, в рассмотрение моделью не принимается. Но если предположить, что ***id*** отражает хронологический порядок появления обьявления, то, например, можно попробовать при \"тонкой настройке\" модели придать более новым обьявлениям больший вес при обучении."
   ]
  },
  {
   "cell_type": "markdown",
   "metadata": {},
   "source": [
    "### super_gen"
   ]
  },
  {
   "cell_type": "code",
   "execution_count": 66,
   "metadata": {},
   "outputs": [
    {
     "data": {
      "text/plain": [
       "'{\"id\":\"10373605\",\"displacement\":1197,\"engine_type\":\"GASOLINE\",\"gear_type\":\"FORWARD_CONTROL\",\"transmission\":\"ROBOT\",\"power\":105,\"power_kvt\":77,\"human_name\":\"1.2 AMT (105 л.с.)\",\"acceleration\":10.5,\"clearance_min\":155,\"fuel_rate\":5}'"
      ]
     },
     "execution_count": 66,
     "metadata": {},
     "output_type": "execute_result"
    }
   ],
   "source": [
    "df_test.super_gen[0]"
   ]
  },
  {
   "cell_type": "markdown",
   "metadata": {},
   "source": [
    "Колонка содержит ***id*** и параметры автомобиля, которые либо являются по сути атрибутами модели (у всех автомобилей одной модели одинаковый клиренс) либо уже известны нам из других колонок (например тип трансмиссии). В рассмотрнеи не принимается."
   ]
  },
  {
   "cell_type": "markdown",
   "metadata": {},
   "source": [
    "### vehicleConfiguration"
   ]
  },
  {
   "cell_type": "code",
   "execution_count": 67,
   "metadata": {},
   "outputs": [
    {
     "data": {
      "text/plain": [
       "32154            MINIVAN AUTOMATIC 2.4\n",
       "16815    ALLROAD_5_DOORS AUTOMATIC 3.0\n",
       "22440    ALLROAD_5_DOORS AUTOMATIC 2.7\n",
       "2609                   SEDAN ROBOT 2.0\n",
       "26793     ALLROAD_5_DOORS VARIATOR 2.0\n",
       "Name: vehicleConfiguration, dtype: object"
      ]
     },
     "execution_count": 67,
     "metadata": {},
     "output_type": "execute_result"
    }
   ],
   "source": [
    "df_test.vehicleConfiguration.sample(5)"
   ]
  },
  {
   "cell_type": "markdown",
   "metadata": {},
   "source": [
    "Содержит информацию о типе кузова, типе трансмиссии обьеме двигателя количестве дверей. Эта информация доступна в других колонках, поэтому `vehicleConfiguration` в рассмотрение не принимется "
   ]
  },
  {
   "cell_type": "markdown",
   "metadata": {},
   "source": [
    "### vehicleTransmission"
   ]
  },
  {
   "cell_type": "code",
   "execution_count": 68,
   "metadata": {},
   "outputs": [
    {
     "data": {
      "text/plain": [
       "array(['роботизированная', 'механическая', 'автоматическая', 'вариатор'],\n",
       "      dtype=object)"
      ]
     },
     "execution_count": 68,
     "metadata": {},
     "output_type": "execute_result"
    }
   ],
   "source": [
    "df_test.vehicleTransmission.unique()"
   ]
  },
  {
   "cell_type": "markdown",
   "metadata": {},
   "source": [
    "Колонка содержит в тестовом виде тип трансмиссии. Принимается в рассмотрение."
   ]
  },
  {
   "cell_type": "markdown",
   "metadata": {},
   "source": [
    "### vendor"
   ]
  },
  {
   "cell_type": "code",
   "execution_count": 69,
   "metadata": {},
   "outputs": [
    {
     "data": {
      "text/plain": [
       "array(['EUROPEAN', 'JAPANESE'], dtype=object)"
      ]
     },
     "execution_count": 69,
     "metadata": {},
     "output_type": "execute_result"
    }
   ],
   "source": [
    "df_test.vendor.unique()"
   ]
  },
  {
   "cell_type": "code",
   "execution_count": 70,
   "metadata": {},
   "outputs": [
    {
     "data": {
      "text/plain": [
       "vendor\n",
       "EUROPEAN      [SKODA, AUDI, VOLVO, BMW, MERCEDES, VOLKSWAGEN]\n",
       "JAPANESE    [HONDA, NISSAN, INFINITI, TOYOTA, LEXUS, MITSU...\n",
       "Name: brand, dtype: object"
      ]
     },
     "execution_count": 70,
     "metadata": {},
     "output_type": "execute_result"
    }
   ],
   "source": [
    "df_test.groupby('vendor').brand.unique()"
   ]
  },
  {
   "cell_type": "markdown",
   "metadata": {},
   "source": [
    "Как видим колонка содержит обобщающий признак - принадлежность марки к европейским либо японским. Как подсказывает опыт автовладельца динамика падения цены от срока владения у этих двух групп различается (японцы обычно дешевеют медленнее, особенно Toyota). Посчитаем признак полезным, примем в рассмотрение моделью."
   ]
  },
  {
   "cell_type": "markdown",
   "metadata": {},
   "source": [
    "### Владельцы"
   ]
  },
  {
   "cell_type": "code",
   "execution_count": 71,
   "metadata": {},
   "outputs": [
    {
     "data": {
      "text/plain": [
       "array(['3 или более', '1\\xa0владелец', '2\\xa0владельца'], dtype=object)"
      ]
     },
     "execution_count": 71,
     "metadata": {},
     "output_type": "execute_result"
    }
   ],
   "source": [
    "df_test.Владельцы.unique()"
   ]
  },
  {
   "cell_type": "markdown",
   "metadata": {},
   "source": [
    "Колонка содержит в текстовом виде три категории количества владельцев авто. Примем в рассмотрение"
   ]
  },
  {
   "cell_type": "markdown",
   "metadata": {},
   "source": [
    "### Владение"
   ]
  },
  {
   "cell_type": "code",
   "execution_count": 72,
   "metadata": {},
   "outputs": [
    {
     "data": {
      "text/plain": [
       "array([nan, '3 года и 2 месяца', '11 месяцев', '4 года и 1 месяц',\n",
       "       '2 года и 4 месяца', '1 месяц', '3 года и 10 месяцев',\n",
       "       '2 года и 6 месяцев', '6 лет и 4 месяца', '2 месяца', '4 месяца',\n",
       "       '1 год и 10 месяцев', '2 года и 7 месяцев', '7 лет и 11 месяцев',\n",
       "       '7 лет и 5 месяцев', '1 год и 11 месяцев', '2 года и 1 месяц',\n",
       "       '7 лет', '4 года и 2 месяца', '2 года и 8 месяцев'], dtype=object)"
      ]
     },
     "execution_count": 72,
     "metadata": {},
     "output_type": "execute_result"
    }
   ],
   "source": [
    "df_test.Владение.unique()[:20]"
   ]
  },
  {
   "cell_type": "markdown",
   "metadata": {},
   "source": [
    "Колонка содержит время прошедшее с момента выпуска авто. Очевидно линейно зависит о даты выпуска автомобиля - исключается из рассмотрения."
   ]
  },
  {
   "cell_type": "markdown",
   "metadata": {},
   "source": [
    "### ПТС"
   ]
  },
  {
   "cell_type": "code",
   "execution_count": 73,
   "metadata": {},
   "outputs": [
    {
     "data": {
      "text/plain": [
       "array(['Оригинал', 'Дубликат', nan], dtype=object)"
      ]
     },
     "execution_count": 73,
     "metadata": {},
     "output_type": "execute_result"
    }
   ],
   "source": [
    "df_test.ПТС.unique()"
   ]
  },
  {
   "cell_type": "markdown",
   "metadata": {},
   "source": [
    "Колонка содержит (если значение не nan) категорию ПТС. Принимается в рассмотрение."
   ]
  },
  {
   "cell_type": "markdown",
   "metadata": {},
   "source": [
    "### Привод"
   ]
  },
  {
   "cell_type": "code",
   "execution_count": 74,
   "metadata": {},
   "outputs": [
    {
     "data": {
      "text/plain": [
       "array(['передний', 'полный', 'задний'], dtype=object)"
      ]
     },
     "execution_count": 74,
     "metadata": {},
     "output_type": "execute_result"
    }
   ],
   "source": [
    "df_test.Привод.unique()"
   ]
  },
  {
   "cell_type": "markdown",
   "metadata": {},
   "source": [
    "Колонка содержит категорию привода. Принимается в расмотрние."
   ]
  },
  {
   "cell_type": "markdown",
   "metadata": {},
   "source": [
    "### Руль"
   ]
  },
  {
   "cell_type": "code",
   "execution_count": 75,
   "metadata": {},
   "outputs": [
    {
     "data": {
      "text/plain": [
       "array(['Левый', 'Правый'], dtype=object)"
      ]
     },
     "execution_count": 75,
     "metadata": {},
     "output_type": "execute_result"
    }
   ],
   "source": [
    "df_test.Руль.unique()"
   ]
  },
  {
   "cell_type": "markdown",
   "metadata": {},
   "source": [
    "Колонка содержит категрию право- или левосторонности управления . В рассмотрение.\n",
    " ## Колонки подлежащие рассмотрению моделью\n",
    "Итого из валидационного набора данных, содержащихся в `df_test` будем спользовать для построения модели информацию из следующих колонок:\n",
    "\n"
   ]
  },
  {
   "cell_type": "code",
   "execution_count": 76,
   "metadata": {},
   "outputs": [],
   "source": [
    "columns_to_handle = ['bodyType', 'brand', 'car_url', 'color', 'engineDisplacement', 'enginePower', \n",
    "                      'equipment_dict','fuelType', 'mileage', 'modelDate', 'model_name', 'numberOfDoors', \n",
    "                      'productionDate', 'sell_id', 'vehicleTransmission', 'vendor', \n",
    "                      'Владельцы', 'ПТС', 'Привод', 'Руль']\n",
    "useful_columns = ['parsing_unixtime']"
   ]
  },
  {
   "cell_type": "code",
   "execution_count": 77,
   "metadata": {},
   "outputs": [],
   "source": [
    "test = df_test[columns_to_handle]"
   ]
  },
  {
   "cell_type": "code",
   "execution_count": 97,
   "metadata": {},
   "outputs": [],
   "source": [
    "train = pd.read_csv(f'{path}all_marks.csv')"
   ]
  },
  {
   "cell_type": "markdown",
   "metadata": {},
   "source": [
    "## Унификация test и train"
   ]
  },
  {
   "cell_type": "code",
   "execution_count": null,
   "metadata": {},
   "outputs": [],
   "source": []
  },
  {
   "cell_type": "code",
   "execution_count": 79,
   "metadata": {},
   "outputs": [
    {
     "data": {
      "text/plain": [
       "'Руль'"
      ]
     },
     "execution_count": 79,
     "metadata": {},
     "output_type": "execute_result"
    }
   ],
   "source": [
    "'bodyType'\n",
    "'brand'\n",
    "'car_url'\n",
    "'color'\n",
    "'engineDisplacement'\n",
    "'enginePower'\n",
    "'equipment_dict'\n",
    "'fuelType'\n",
    "'mileage'\n",
    "'modelDate'\n",
    "'model_name'\n",
    "'numberOfDoors'\n",
    "'productionDate'\n",
    "'sell_id'\n",
    "'vehicleTransmission'\n",
    "'vendor'\n",
    "'Владельцы'\n",
    "'ПТС'\n",
    "'Привод'\n",
    "'Руль'"
   ]
  },
  {
   "cell_type": "code",
   "execution_count": 80,
   "metadata": {},
   "outputs": [
    {
     "data": {
      "text/plain": [
       "array(['лифтбек', 'внедорожник 5 дв.', 'хэтчбек 5 дв.', 'седан',\n",
       "       'компактвэн', 'универсал 5 дв.', 'пикап одинарная кабина',\n",
       "       'хэтчбек 3 дв.', 'купе', 'кабриолет', 'минивэн',\n",
       "       'пикап двойная кабина', 'внедорожник 3 дв.', 'родстер', 'микровэн',\n",
       "       'седан 2 дв.', 'купе-хардтоп', 'фастбек', 'тарга',\n",
       "       'внедорожник открытый', 'лимузин', 'пикап полуторная кабина',\n",
       "       'седан-хардтоп', 'фургон'], dtype=object)"
      ]
     },
     "execution_count": 80,
     "metadata": {},
     "output_type": "execute_result"
    }
   ],
   "source": [
    "test.bodyType.unique()"
   ]
  },
  {
   "cell_type": "code",
   "execution_count": 81,
   "metadata": {},
   "outputs": [
    {
     "data": {
      "text/plain": [
       "array(['седан', 'универсал 3 дв.', 'хэтчбек 5 дв.', 'универсал 5 дв.',\n",
       "       nan, 'внедорожник 5 дв.', 'лифтбек', 'компактвэн', 'хэтчбек 3 дв.',\n",
       "       'купе', 'кабриолет', 'родстер', 'микровэн', 'минивэн',\n",
       "       'внедорожник 3 дв.', 'седан 2 дв.', 'купе-хардтоп',\n",
       "       'седан-хардтоп', 'пикап двойная кабина', 'пикап полуторная кабина',\n",
       "       'фургон', 'лимузин', 'пикап одинарная кабина', 'тарга',\n",
       "       'внедорожник открытый', 'спидстер', 'фастбек', 'хэтчбек 4 дв.'],\n",
       "      dtype=object)"
      ]
     },
     "execution_count": 81,
     "metadata": {},
     "output_type": "execute_result"
    }
   ],
   "source": [
    "train.bodytype.unique()"
   ]
  },
  {
   "cell_type": "code",
   "execution_count": 82,
   "metadata": {},
   "outputs": [
    {
     "data": {
      "text/plain": [
       "Index(['Unnamed: 0', 'Unnamed: 0.1', 'bodytype', 'brand', 'car_url', 'color',\n",
       "       'engineDisplacement', 'enginePower', 'equipment_dict', 'fuel_type',\n",
       "       'mileage', 'modelDate', 'model_name', 'numberOfDoors', 'productionDate',\n",
       "       'sell_id', 'vehicleTransmission', 'vendor', 'Владельцы', 'ПТС',\n",
       "       'Привод', 'Руль', 'offerprice'],\n",
       "      dtype='object')"
      ]
     },
     "execution_count": 82,
     "metadata": {},
     "output_type": "execute_result"
    }
   ],
   "source": [
    "train.columns"
   ]
  },
  {
   "cell_type": "code",
   "execution_count": 83,
   "metadata": {},
   "outputs": [],
   "source": [
    "def unification_test(df):\n",
    "    \n",
    "    pass\n",
    "    return df"
   ]
  },
  {
   "cell_type": "markdown",
   "metadata": {},
   "source": [
    "## Объединение test и train"
   ]
  },
  {
   "cell_type": "code",
   "execution_count": null,
   "metadata": {},
   "outputs": [],
   "source": []
  },
  {
   "cell_type": "markdown",
   "metadata": {},
   "source": [
    "## EDA test и train"
   ]
  },
  {
   "cell_type": "code",
   "execution_count": null,
   "metadata": {},
   "outputs": [],
   "source": []
  },
  {
   "cell_type": "markdown",
   "metadata": {},
   "source": [
    "## Предобработка"
   ]
  },
  {
   "cell_type": "code",
   "execution_count": null,
   "metadata": {},
   "outputs": [],
   "source": []
  },
  {
   "cell_type": "markdown",
   "metadata": {},
   "source": [
    "## Base-line"
   ]
  },
  {
   "cell_type": "code",
   "execution_count": null,
   "metadata": {},
   "outputs": [],
   "source": []
  },
  {
   "cell_type": "markdown",
   "metadata": {},
   "source": [
    "## Features construction"
   ]
  },
  {
   "cell_type": "code",
   "execution_count": null,
   "metadata": {},
   "outputs": [],
   "source": []
  },
  {
   "cell_type": "markdown",
   "metadata": {},
   "source": [
    "## Отбор признаков"
   ]
  },
  {
   "cell_type": "code",
   "execution_count": null,
   "metadata": {},
   "outputs": [],
   "source": []
  },
  {
   "cell_type": "markdown",
   "metadata": {},
   "source": [
    "## Подбор гиперпараметров"
   ]
  },
  {
   "cell_type": "code",
   "execution_count": null,
   "metadata": {},
   "outputs": [],
   "source": []
  },
  {
   "cell_type": "code",
   "execution_count": null,
   "metadata": {},
   "outputs": [],
   "source": []
  },
  {
   "cell_type": "code",
   "execution_count": null,
   "metadata": {},
   "outputs": [],
   "source": []
  },
  {
   "cell_type": "markdown",
   "metadata": {},
   "source": [
    "## ========================================================"
   ]
  },
  {
   "cell_type": "markdown",
   "metadata": {},
   "source": [
    "# Подвал"
   ]
  },
  {
   "cell_type": "code",
   "execution_count": 84,
   "metadata": {},
   "outputs": [
    {
     "data": {
      "text/plain": [
       "\"tt = df_test.complectation_dict[2]\\nttt = json.loads(tt)\\nttt['available_options']\""
      ]
     },
     "execution_count": 84,
     "metadata": {},
     "output_type": "execute_result"
    }
   ],
   "source": [
    "'''tt = df_test.complectation_dict[2]\n",
    "ttt = json.loads(tt)\n",
    "ttt['available_options']'''"
   ]
  },
  {
   "cell_type": "code",
   "execution_count": 85,
   "metadata": {},
   "outputs": [],
   "source": [
    "'''bodyType', 'brand', 'car_url', 'color',\n",
    "        'engineDisplacement', 'enginePower', 'equipment_dict',\n",
    "       'fuelType', 'mileage', 'modelDate', 'model_name',\n",
    "    'numberOfDoors', 'parsing_unixtime', \n",
    "       'productionDate', 'sell_id', \n",
    "       'vehicleTransmission', 'vendor', 'Владельцы', 'Владение', 'ПТС',\n",
    "       'Привод', 'Руль''';"
   ]
  },
  {
   "cell_type": "code",
   "execution_count": 86,
   "metadata": {},
   "outputs": [
    {
     "data": {
      "text/plain": [
       "2373      Q5\n",
       "2374      R8\n",
       "2375      Q5\n",
       "2376      Q5\n",
       "2377      Q7\n",
       "        ... \n",
       "33876     80\n",
       "33877     80\n",
       "33878     A6\n",
       "33879    100\n",
       "33880    100\n",
       "Name: model_name, Length: 3421, dtype: object"
      ]
     },
     "execution_count": 86,
     "metadata": {},
     "output_type": "execute_result"
    }
   ],
   "source": [
    "df_test[df_test.brand == \"AUDI\"].model_name"
   ]
  },
  {
   "cell_type": "code",
   "execution_count": null,
   "metadata": {},
   "outputs": [],
   "source": []
  }
 ],
 "metadata": {
  "kernelspec": {
   "display_name": "Python 3",
   "language": "python",
   "name": "python3"
  }
 },
 "nbformat": 4,
 "nbformat_minor": 2
}
