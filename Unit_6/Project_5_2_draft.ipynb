{
 "cells": [
  {
   "cell_type": "markdown",
   "metadata": {},
   "source": [
    "# Описание задачи\n",
    "## В задачи пректа входит:\n",
    "- Нахождение данных для обученяи модели: парсинг и/или иные источники;\n",
    "- Предобработка полученных данных\n",
    "- Создание новых признаков с использованием полученных данных;\n",
    "- Отбор признаков;\n",
    "- Отбор моделей;\n",
    "- Обучение и тестирование отобранных моделей на отобранных признаках;\n",
    "- Подбор макропараметров модели на отобранных признаках;\n",
    "- Получение предсказанных моделью значений, подготовка и отправка submission\n",
    "\n",
    "# Импорт библиотек, установка параметров, определение функций\n",
    "## Импорт бибилиотек"
   ]
  },
  {
   "cell_type": "code",
   "execution_count": 94,
   "metadata": {},
   "outputs": [],
   "source": [
    "import pandas as pd\n",
    "import numpy as np\n",
    "import json \n",
    "import seaborn as sns\n",
    "\n",
    "from datetime import datetime\n",
    "from datetime import date\n",
    "\n",
    "from pprint import pprint\n",
    "\n",
    "import warnings\n",
    "import os"
   ]
  },
  {
   "cell_type": "markdown",
   "metadata": {},
   "source": [
    "## Установка параметров"
   ]
  },
  {
   "cell_type": "code",
   "execution_count": 2,
   "metadata": {},
   "outputs": [
    {
     "name": "stdout",
     "output_type": "stream",
     "text": [
      "Populating the interactive namespace from numpy and matplotlib\n"
     ]
    },
    {
     "name": "stderr",
     "output_type": "stream",
     "text": [
      "C:\\Users\\Samsung\\Anaconda3\\lib\\site-packages\\IPython\\core\\magics\\pylab.py:160: UserWarning: pylab import has clobbered these variables: ['datetime']\n",
      "`%matplotlib` prevents importing * from pylab and numpy\n",
      "  \"\\n`%matplotlib` prevents importing * from pylab and numpy\"\n"
     ]
    }
   ],
   "source": [
    "%pylab inline\n",
    "\n",
    "warnings.filterwarnings(\"ignore\")\n",
    "\n",
    "pd.set_option('display.max_rows', 70)    # выведем больше строк\n",
    "pd.set_option('display.max_columns', 30) # выведем больше колонок\n",
    "\n",
    "# альтернативные пути для kaggle и локальный (НЕ ЗАБЫВАТЬ МЕНЯТЬ!)\n",
    "path = './Project_5_data/'\n",
    "# path = '/kaggle/input/.....'\n",
    "\n",
    "# фиксация randomstate\n",
    "RANDOM_SEED = 42"
   ]
  },
  {
   "cell_type": "markdown",
   "metadata": {},
   "source": [
    "## Определение функций"
   ]
  },
  {
   "cell_type": "code",
   "execution_count": 3,
   "metadata": {},
   "outputs": [],
   "source": [
    "def describe_df(df):\n",
    "    '''\n",
    "    Вывод простой статистки DataFrame\n",
    "    '''\n",
    "    desc = df.describe(include='all',percentiles=[0.5]).drop(index=['mean','std','50%']).T \n",
    "    desc['type'] = [type(x) for x in df.iloc[0]]\n",
    "    desc['NaN_prop'] = round(df.isna().sum()/len(df),3)\n",
    "    desc.unique = df.nunique()\n",
    "    desc.top = df.mode(axis=0).iloc[0]\n",
    "    desc.top = [str(x)[:30] for x in df.mode(axis=0).iloc[0]]\n",
    "\n",
    "    desc.freq = [df[col].value_counts().iloc[0] for col in  df.columns]\n",
    "    \n",
    "    return desc\n",
    "\n",
    "def train_opt_num(config):\n",
    "    if config == config:\n",
    "        decoded_config = json.loads(config.replace(\"'\",'\"'))\n",
    "        options = [decoded_config[opt_cat] for opt_cat in decoded_config]\n",
    "        options.append([])\n",
    "        options = sum(options)\n",
    "    else:\n",
    "        options = []\n",
    "    return len(options)    \n",
    "\n",
    "def test_opt_num(config):\n",
    "    if config == config:\n",
    "        decoded_config = json.loads(config)\n",
    "    else:\n",
    "        decoded_config = {}         \n",
    "    return len(decoded_config)\n",
    "\n",
    "def unification_train(train):\n",
    "    '''\n",
    "    Приводит вид/формат данных в train к виду/формату в test\n",
    "    \n",
    "    \n",
    "    '''\n",
    "    df = train.copy()\n",
    "    \n",
    "    fuelType_unification = {\n",
    "    'бензин':'бензин','дизель': 'дизель','бензин, газобаллонное оборудование': 'бензин','гибрид': 'гибрид',\n",
    "    'дизель, газобаллонное оборудование': 'дизель','гибрид, газобаллонное оборудование': 'гибрид','газ': 'газ',\n",
    "    'газ, газобаллонное оборудование': 'газ'}\n",
    "    \n",
    "    model_unification = {\n",
    "    'C-HR':'C_HR', 'PRIUS_V_(+)': 'PRIUSPLUS','RAV4': 'RAV_4','105,_120': '100_SERIES','A6_ALLROAD': 'ALLROAD',\n",
    "    'E-TRON': 'E_TRON','RS3': 'RS_3','RS4': 'RS_4','RS5': 'RS_5','RS6': 'RS_6','RS7': 'RS_7',\n",
    "    'RSQ3': 'RS_Q3','CR-V': 'CR_V','CR-X': 'CR_X','CR-Z': 'CR_Z','FR-V': 'FR_V','HR-V': 'HR_V',\n",
    "    'N-BOX': 'N_BOX','N-WGN': 'N_WGN','ODYSSEY_(NORTH_AMERICA)': 'ODYSSEY_NA','STEPWGN': 'STEPWAGON',\n",
    "    'V40_CROSS_COUNTRY': 'V40_CC','02_(E10)': '02','1_СЕРИИ': '1ER','2_СЕРИИ': '2ER',\n",
    "    '2_СЕРИИ_ACTIVE_TOURER': '2ACTIVETOURER','2_СЕРИИ_GRAN_TOURER': '2GRANDTOURER','3_СЕРИИ': '3ER',\n",
    "    '4_СЕРИИ': '4','5_СЕРИИ': '5ER','6_СЕРИИ': '6ER','7_СЕРИИ': '7ER','8_СЕРИИ': '8ER','Z3_M': 'Z3M',\n",
    "    'CARAVAN': 'CARAVAN_COACH','CLIPPER_RIO': 'CLIPPER','GT-R': 'GT_R','NAVARA_(FRONTIER)': 'NAVARA',\n",
    "    'QASHQAI+2': 'QASHQAI_PLUS_2',\"R'NESSA\": 'RNESSA','X-TRAIL': 'X_TRAIL',    'G': 'G35','190_(W201)': 'W201',\n",
    "    '220_(W187)': 'W187','A-КЛАСС': 'A_KLASSE','A-КЛАСС_AMG': 'A_KLASSE_AMG','B-КЛАСС': 'B_KLASSE',\n",
    "    'C-КЛАСС': 'C_KLASSE','C-КЛАСС_AMG': 'C_KLASSE_AMG','CL-КЛАСС': 'CL_KLASSE','CL-КЛАСС_AMG': 'CL_KLASSE_AMG',\n",
    "    'CLA': 'CLA_KLASSE','CLA_AMG': 'CLA_KLASSE_AMG','CLC-КЛАСС': 'CLC_KLASSE','CLK-КЛАСС': 'CLK_KLASSE',\n",
    "    'CLS': 'CLS_KLASSE','CLS_AMG': 'CLS_KLASSE_AMG','E-КЛАСС': 'E_KLASSE','E-КЛАСС_AMG': 'E_KLASSE_AMG',\n",
    "    'G-КЛАСС': 'G_KLASSE','G-КЛАСС_AMG': 'G_KLASSE_AMG','GL-КЛАСС': 'GL_KLASSE','GL-КЛАСС_AMG': 'GL_KLASSE_AMG',\n",
    "    'GLA': 'GLA_CLASS','GLA_AMG': 'GLA_CLASS_AMG','GLB': 'GLB_KLASSE','GLC': 'GLC_KLASSE','GLC_AMG': 'GLC_KLASSE_AMG',\n",
    "    'GLE': 'GLE_KLASSE','GLE_AMG': 'GLE_KLASSE_AMG','GLE_COUPE': 'GLE_KLASSE_COUPE',\n",
    "    'GLE_COUPE_AMG': 'GLE_KLASSE_COUPE_AMG','GLK-КЛАСС': 'GLK_KLASSE','GLS': 'GLS_KLASSE',\n",
    "    'GLS_AMG': 'GLS_KLASSE_AMG','M-КЛАСС': 'M_KLASSE','M-КЛАСС_AMG': 'M_KLASSE_AMG','MAYBACH_S-КЛАСС': 'S_CLASS_MAYBACH',\n",
    "    'R-КЛАСС': 'R_KLASSE','S-КЛАСС': 'S_KLASSE','S-КЛАСС_AMG': 'S_KLASSE_AMG','SL-КЛАСС': 'SL_KLASSE',\n",
    "    'SL-КЛАСС_AMG': 'SL_KLASSE_AMG','SLK-КЛАСС': 'SLK_KLASSE','SLR_MCLAREN': 'SLR_KLASSE','V-КЛАСС': 'V_KLASSE',\n",
    "    'X-КЛАСС': 'X_KLASSE','DELICA_D:2': 'DELICA_D2','DELICA_D:5': 'DELICA_D_5','I-MIEV': 'I_MIEV'}\n",
    "    \n",
    "    df.brand = df.brand.apply(lambda x: 'MERCEDES' if x=='MERCEDES-BENZ' else x)\n",
    "    df.fuelType = df.fuelType.str.lower().map(fuelType_unification)\n",
    "    df.mileage = df.mileage.apply(lambda x: int(x) if x==x else 0)\n",
    "    \n",
    "    df.model_name = df.model_name.str.replace(' ','_',regex=False).str.upper()\n",
    "    df.model_name = [new if new==new else old for new,old in zip(df.model_name.map(model_unification),df.model_name)]\n",
    "    \n",
    "    df.productionDate = df.productionDate.apply(lambda x: int(x) if x==x else 0)\n",
    "      \n",
    "    return df\n",
    "\n",
    "def unification_test(test):\n",
    "    df = test.copy()\n",
    "    \n",
    "    df.engineDisplacement = df.engineDisplacement.apply(lambda x: float(x[:-4]) if x[:-4] else np.NaN)\n",
    "    df.enginePower = df.enginePower.str[:-4].astype(int)\n",
    "    \n",
    "    return df\n",
    "\n",
    "\n",
    "def cat_visualisation():\n",
    "    pass\n",
    "\n",
    "def num_visualisation():\n",
    "    pass"
   ]
  },
  {
   "cell_type": "markdown",
   "metadata": {},
   "source": [
    "# Изучение  валидационных данных \n",
    "\n",
    "Что бы понимать какие признаки нам нужны для обучения модели нам необходимо узнать какие признаки описывают наблюдения, для которых мы должны предсказать целевую переменную.  \n",
    "\n",
    "Поэтому для начала исследуем набор данных эти наблюдения описывающие."
   ]
  },
  {
   "cell_type": "code",
   "execution_count": 4,
   "metadata": {
    "scrolled": false
   },
   "outputs": [],
   "source": [
    "df_test = pd.read_csv(f'{path}test.csv')"
   ]
  },
  {
   "cell_type": "markdown",
   "metadata": {},
   "source": [
    "### Общий обзор"
   ]
  },
  {
   "cell_type": "code",
   "execution_count": 5,
   "metadata": {},
   "outputs": [
    {
     "name": "stdout",
     "output_type": "stream",
     "text": [
      "<class 'pandas.core.frame.DataFrame'>\n",
      "RangeIndex: 34686 entries, 0 to 34685\n",
      "Columns: 32 entries, bodyType to Таможня\n",
      "dtypes: int64(6), object(26)\n",
      "memory usage: 8.5+ MB\n"
     ]
    }
   ],
   "source": [
    "df_test.info(verbose=False)"
   ]
  },
  {
   "cell_type": "code",
   "execution_count": 6,
   "metadata": {},
   "outputs": [
    {
     "data": {
      "text/html": [
       "<div>\n",
       "<style scoped>\n",
       "    .dataframe tbody tr th:only-of-type {\n",
       "        vertical-align: middle;\n",
       "    }\n",
       "\n",
       "    .dataframe tbody tr th {\n",
       "        vertical-align: top;\n",
       "    }\n",
       "\n",
       "    .dataframe thead th {\n",
       "        text-align: right;\n",
       "    }\n",
       "</style>\n",
       "<table border=\"1\" class=\"dataframe\">\n",
       "  <thead>\n",
       "    <tr style=\"text-align: right;\">\n",
       "      <th></th>\n",
       "      <th>count</th>\n",
       "      <th>unique</th>\n",
       "      <th>top</th>\n",
       "      <th>freq</th>\n",
       "      <th>min</th>\n",
       "      <th>max</th>\n",
       "      <th>type</th>\n",
       "      <th>NaN_prop</th>\n",
       "    </tr>\n",
       "  </thead>\n",
       "  <tbody>\n",
       "    <tr>\n",
       "      <th>bodyType</th>\n",
       "      <td>34686</td>\n",
       "      <td>24</td>\n",
       "      <td>седан</td>\n",
       "      <td>13147</td>\n",
       "      <td>NaN</td>\n",
       "      <td>NaN</td>\n",
       "      <td>&lt;class 'str'&gt;</td>\n",
       "      <td>0.000</td>\n",
       "    </tr>\n",
       "    <tr>\n",
       "      <th>brand</th>\n",
       "      <td>34686</td>\n",
       "      <td>12</td>\n",
       "      <td>BMW</td>\n",
       "      <td>4473</td>\n",
       "      <td>NaN</td>\n",
       "      <td>NaN</td>\n",
       "      <td>&lt;class 'str'&gt;</td>\n",
       "      <td>0.000</td>\n",
       "    </tr>\n",
       "    <tr>\n",
       "      <th>car_url</th>\n",
       "      <td>34686</td>\n",
       "      <td>34686</td>\n",
       "      <td>https://auto.ru/cars/used/sale</td>\n",
       "      <td>1</td>\n",
       "      <td>NaN</td>\n",
       "      <td>NaN</td>\n",
       "      <td>&lt;class 'str'&gt;</td>\n",
       "      <td>0.000</td>\n",
       "    </tr>\n",
       "    <tr>\n",
       "      <th>color</th>\n",
       "      <td>34686</td>\n",
       "      <td>16</td>\n",
       "      <td>чёрный</td>\n",
       "      <td>11010</td>\n",
       "      <td>NaN</td>\n",
       "      <td>NaN</td>\n",
       "      <td>&lt;class 'str'&gt;</td>\n",
       "      <td>0.000</td>\n",
       "    </tr>\n",
       "    <tr>\n",
       "      <th>complectation_dict</th>\n",
       "      <td>6418</td>\n",
       "      <td>2364</td>\n",
       "      <td>{\"id\":\"4562904\",\"name\":\"Elegan</td>\n",
       "      <td>51</td>\n",
       "      <td>NaN</td>\n",
       "      <td>NaN</td>\n",
       "      <td>&lt;class 'float'&gt;</td>\n",
       "      <td>0.815</td>\n",
       "    </tr>\n",
       "    <tr>\n",
       "      <th>description</th>\n",
       "      <td>34686</td>\n",
       "      <td>31732</td>\n",
       "      <td>Выгода до 82 000 руб. при обме</td>\n",
       "      <td>264</td>\n",
       "      <td>NaN</td>\n",
       "      <td>NaN</td>\n",
       "      <td>&lt;class 'str'&gt;</td>\n",
       "      <td>0.000</td>\n",
       "    </tr>\n",
       "    <tr>\n",
       "      <th>engineDisplacement</th>\n",
       "      <td>34686</td>\n",
       "      <td>55</td>\n",
       "      <td>2.0 LTR</td>\n",
       "      <td>7391</td>\n",
       "      <td>NaN</td>\n",
       "      <td>NaN</td>\n",
       "      <td>&lt;class 'str'&gt;</td>\n",
       "      <td>0.000</td>\n",
       "    </tr>\n",
       "    <tr>\n",
       "      <th>enginePower</th>\n",
       "      <td>34686</td>\n",
       "      <td>315</td>\n",
       "      <td>249 N12</td>\n",
       "      <td>1708</td>\n",
       "      <td>NaN</td>\n",
       "      <td>NaN</td>\n",
       "      <td>&lt;class 'str'&gt;</td>\n",
       "      <td>0.000</td>\n",
       "    </tr>\n",
       "    <tr>\n",
       "      <th>equipment_dict</th>\n",
       "      <td>24690</td>\n",
       "      <td>23705</td>\n",
       "      <td>{\"leather\":true}</td>\n",
       "      <td>108</td>\n",
       "      <td>NaN</td>\n",
       "      <td>NaN</td>\n",
       "      <td>&lt;class 'str'&gt;</td>\n",
       "      <td>0.288</td>\n",
       "    </tr>\n",
       "    <tr>\n",
       "      <th>fuelType</th>\n",
       "      <td>34686</td>\n",
       "      <td>5</td>\n",
       "      <td>бензин</td>\n",
       "      <td>28601</td>\n",
       "      <td>NaN</td>\n",
       "      <td>NaN</td>\n",
       "      <td>&lt;class 'str'&gt;</td>\n",
       "      <td>0.000</td>\n",
       "    </tr>\n",
       "    <tr>\n",
       "      <th>image</th>\n",
       "      <td>34686</td>\n",
       "      <td>34557</td>\n",
       "      <td>https://avatars.mds.yandex.net</td>\n",
       "      <td>13</td>\n",
       "      <td>NaN</td>\n",
       "      <td>NaN</td>\n",
       "      <td>&lt;class 'str'&gt;</td>\n",
       "      <td>0.000</td>\n",
       "    </tr>\n",
       "    <tr>\n",
       "      <th>mileage</th>\n",
       "      <td>34686</td>\n",
       "      <td>11268</td>\n",
       "      <td>200000.0</td>\n",
       "      <td>436</td>\n",
       "      <td>1</td>\n",
       "      <td>1e+06</td>\n",
       "      <td>&lt;class 'numpy.int64'&gt;</td>\n",
       "      <td>0.000</td>\n",
       "    </tr>\n",
       "    <tr>\n",
       "      <th>modelDate</th>\n",
       "      <td>34686</td>\n",
       "      <td>66</td>\n",
       "      <td>2010.0</td>\n",
       "      <td>2503</td>\n",
       "      <td>1904</td>\n",
       "      <td>2020</td>\n",
       "      <td>&lt;class 'numpy.int64'&gt;</td>\n",
       "      <td>0.000</td>\n",
       "    </tr>\n",
       "    <tr>\n",
       "      <th>model_info</th>\n",
       "      <td>34686</td>\n",
       "      <td>954</td>\n",
       "      <td>{\"code\":\"OCTAVIA\",\"name\":\"Octa</td>\n",
       "      <td>1404</td>\n",
       "      <td>NaN</td>\n",
       "      <td>NaN</td>\n",
       "      <td>&lt;class 'str'&gt;</td>\n",
       "      <td>0.000</td>\n",
       "    </tr>\n",
       "    <tr>\n",
       "      <th>model_name</th>\n",
       "      <td>34686</td>\n",
       "      <td>544</td>\n",
       "      <td>OCTAVIA</td>\n",
       "      <td>1418</td>\n",
       "      <td>NaN</td>\n",
       "      <td>NaN</td>\n",
       "      <td>&lt;class 'str'&gt;</td>\n",
       "      <td>0.000</td>\n",
       "    </tr>\n",
       "    <tr>\n",
       "      <th>name</th>\n",
       "      <td>34686</td>\n",
       "      <td>2780</td>\n",
       "      <td>1.6 AT (110 л.с.)</td>\n",
       "      <td>631</td>\n",
       "      <td>NaN</td>\n",
       "      <td>NaN</td>\n",
       "      <td>&lt;class 'str'&gt;</td>\n",
       "      <td>0.000</td>\n",
       "    </tr>\n",
       "    <tr>\n",
       "      <th>numberOfDoors</th>\n",
       "      <td>34686</td>\n",
       "      <td>5</td>\n",
       "      <td>5.0</td>\n",
       "      <td>18703</td>\n",
       "      <td>0</td>\n",
       "      <td>5</td>\n",
       "      <td>&lt;class 'numpy.int64'&gt;</td>\n",
       "      <td>0.000</td>\n",
       "    </tr>\n",
       "    <tr>\n",
       "      <th>parsing_unixtime</th>\n",
       "      <td>34686</td>\n",
       "      <td>34686</td>\n",
       "      <td>1603107306</td>\n",
       "      <td>1</td>\n",
       "      <td>1.60311e+09</td>\n",
       "      <td>1.60371e+09</td>\n",
       "      <td>&lt;class 'numpy.int64'&gt;</td>\n",
       "      <td>0.000</td>\n",
       "    </tr>\n",
       "    <tr>\n",
       "      <th>priceCurrency</th>\n",
       "      <td>34686</td>\n",
       "      <td>1</td>\n",
       "      <td>RUB</td>\n",
       "      <td>34686</td>\n",
       "      <td>NaN</td>\n",
       "      <td>NaN</td>\n",
       "      <td>&lt;class 'str'&gt;</td>\n",
       "      <td>0.000</td>\n",
       "    </tr>\n",
       "    <tr>\n",
       "      <th>productionDate</th>\n",
       "      <td>34686</td>\n",
       "      <td>69</td>\n",
       "      <td>2012.0</td>\n",
       "      <td>2798</td>\n",
       "      <td>1904</td>\n",
       "      <td>2020</td>\n",
       "      <td>&lt;class 'numpy.int64'&gt;</td>\n",
       "      <td>0.000</td>\n",
       "    </tr>\n",
       "    <tr>\n",
       "      <th>sell_id</th>\n",
       "      <td>34686</td>\n",
       "      <td>34686</td>\n",
       "      <td>2665</td>\n",
       "      <td>1</td>\n",
       "      <td>2665</td>\n",
       "      <td>1.10137e+09</td>\n",
       "      <td>&lt;class 'numpy.int64'&gt;</td>\n",
       "      <td>0.000</td>\n",
       "    </tr>\n",
       "    <tr>\n",
       "      <th>super_gen</th>\n",
       "      <td>34686</td>\n",
       "      <td>5890</td>\n",
       "      <td>{\"id\":\"6214876\",\"displacement\"</td>\n",
       "      <td>193</td>\n",
       "      <td>NaN</td>\n",
       "      <td>NaN</td>\n",
       "      <td>&lt;class 'str'&gt;</td>\n",
       "      <td>0.000</td>\n",
       "    </tr>\n",
       "    <tr>\n",
       "      <th>vehicleConfiguration</th>\n",
       "      <td>34686</td>\n",
       "      <td>634</td>\n",
       "      <td>ALLROAD_5_DOORS AUTOMATIC 3.0</td>\n",
       "      <td>2389</td>\n",
       "      <td>NaN</td>\n",
       "      <td>NaN</td>\n",
       "      <td>&lt;class 'str'&gt;</td>\n",
       "      <td>0.000</td>\n",
       "    </tr>\n",
       "    <tr>\n",
       "      <th>vehicleTransmission</th>\n",
       "      <td>34686</td>\n",
       "      <td>4</td>\n",
       "      <td>автоматическая</td>\n",
       "      <td>19596</td>\n",
       "      <td>NaN</td>\n",
       "      <td>NaN</td>\n",
       "      <td>&lt;class 'str'&gt;</td>\n",
       "      <td>0.000</td>\n",
       "    </tr>\n",
       "    <tr>\n",
       "      <th>vendor</th>\n",
       "      <td>34686</td>\n",
       "      <td>2</td>\n",
       "      <td>EUROPEAN</td>\n",
       "      <td>20682</td>\n",
       "      <td>NaN</td>\n",
       "      <td>NaN</td>\n",
       "      <td>&lt;class 'str'&gt;</td>\n",
       "      <td>0.000</td>\n",
       "    </tr>\n",
       "    <tr>\n",
       "      <th>Владельцы</th>\n",
       "      <td>34686</td>\n",
       "      <td>3</td>\n",
       "      <td>3 или более</td>\n",
       "      <td>15957</td>\n",
       "      <td>NaN</td>\n",
       "      <td>NaN</td>\n",
       "      <td>&lt;class 'str'&gt;</td>\n",
       "      <td>0.000</td>\n",
       "    </tr>\n",
       "    <tr>\n",
       "      <th>Владение</th>\n",
       "      <td>11995</td>\n",
       "      <td>275</td>\n",
       "      <td>1 год и 10 месяцев</td>\n",
       "      <td>209</td>\n",
       "      <td>NaN</td>\n",
       "      <td>NaN</td>\n",
       "      <td>&lt;class 'float'&gt;</td>\n",
       "      <td>0.654</td>\n",
       "    </tr>\n",
       "    <tr>\n",
       "      <th>ПТС</th>\n",
       "      <td>34685</td>\n",
       "      <td>2</td>\n",
       "      <td>Оригинал</td>\n",
       "      <td>30098</td>\n",
       "      <td>NaN</td>\n",
       "      <td>NaN</td>\n",
       "      <td>&lt;class 'str'&gt;</td>\n",
       "      <td>0.000</td>\n",
       "    </tr>\n",
       "    <tr>\n",
       "      <th>Привод</th>\n",
       "      <td>34686</td>\n",
       "      <td>3</td>\n",
       "      <td>передний</td>\n",
       "      <td>15565</td>\n",
       "      <td>NaN</td>\n",
       "      <td>NaN</td>\n",
       "      <td>&lt;class 'str'&gt;</td>\n",
       "      <td>0.000</td>\n",
       "    </tr>\n",
       "    <tr>\n",
       "      <th>Руль</th>\n",
       "      <td>34686</td>\n",
       "      <td>2</td>\n",
       "      <td>Левый</td>\n",
       "      <td>33287</td>\n",
       "      <td>NaN</td>\n",
       "      <td>NaN</td>\n",
       "      <td>&lt;class 'str'&gt;</td>\n",
       "      <td>0.000</td>\n",
       "    </tr>\n",
       "    <tr>\n",
       "      <th>Состояние</th>\n",
       "      <td>34686</td>\n",
       "      <td>1</td>\n",
       "      <td>Не требует ремонта</td>\n",
       "      <td>34686</td>\n",
       "      <td>NaN</td>\n",
       "      <td>NaN</td>\n",
       "      <td>&lt;class 'str'&gt;</td>\n",
       "      <td>0.000</td>\n",
       "    </tr>\n",
       "    <tr>\n",
       "      <th>Таможня</th>\n",
       "      <td>34686</td>\n",
       "      <td>1</td>\n",
       "      <td>Растаможен</td>\n",
       "      <td>34686</td>\n",
       "      <td>NaN</td>\n",
       "      <td>NaN</td>\n",
       "      <td>&lt;class 'str'&gt;</td>\n",
       "      <td>0.000</td>\n",
       "    </tr>\n",
       "  </tbody>\n",
       "</table>\n",
       "</div>"
      ],
      "text/plain": [
       "                      count  unique                             top   freq  \\\n",
       "bodyType              34686      24                           седан  13147   \n",
       "brand                 34686      12                             BMW   4473   \n",
       "car_url               34686   34686  https://auto.ru/cars/used/sale      1   \n",
       "color                 34686      16                          чёрный  11010   \n",
       "complectation_dict     6418    2364  {\"id\":\"4562904\",\"name\":\"Elegan     51   \n",
       "description           34686   31732  Выгода до 82 000 руб. при обме    264   \n",
       "engineDisplacement    34686      55                         2.0 LTR   7391   \n",
       "enginePower           34686     315                         249 N12   1708   \n",
       "equipment_dict        24690   23705                {\"leather\":true}    108   \n",
       "fuelType              34686       5                          бензин  28601   \n",
       "image                 34686   34557  https://avatars.mds.yandex.net     13   \n",
       "mileage               34686   11268                        200000.0    436   \n",
       "modelDate             34686      66                          2010.0   2503   \n",
       "model_info            34686     954  {\"code\":\"OCTAVIA\",\"name\":\"Octa   1404   \n",
       "model_name            34686     544                         OCTAVIA   1418   \n",
       "name                  34686    2780               1.6 AT (110 л.с.)    631   \n",
       "numberOfDoors         34686       5                             5.0  18703   \n",
       "parsing_unixtime      34686   34686                      1603107306      1   \n",
       "priceCurrency         34686       1                             RUB  34686   \n",
       "productionDate        34686      69                          2012.0   2798   \n",
       "sell_id               34686   34686                            2665      1   \n",
       "super_gen             34686    5890  {\"id\":\"6214876\",\"displacement\"    193   \n",
       "vehicleConfiguration  34686     634   ALLROAD_5_DOORS AUTOMATIC 3.0   2389   \n",
       "vehicleTransmission   34686       4                  автоматическая  19596   \n",
       "vendor                34686       2                        EUROPEAN  20682   \n",
       "Владельцы             34686       3                     3 или более  15957   \n",
       "Владение              11995     275              1 год и 10 месяцев    209   \n",
       "ПТС                   34685       2                        Оригинал  30098   \n",
       "Привод                34686       3                        передний  15565   \n",
       "Руль                  34686       2                           Левый  33287   \n",
       "Состояние             34686       1              Не требует ремонта  34686   \n",
       "Таможня               34686       1                      Растаможен  34686   \n",
       "\n",
       "                              min          max                   type  \\\n",
       "bodyType                      NaN          NaN          <class 'str'>   \n",
       "brand                         NaN          NaN          <class 'str'>   \n",
       "car_url                       NaN          NaN          <class 'str'>   \n",
       "color                         NaN          NaN          <class 'str'>   \n",
       "complectation_dict            NaN          NaN        <class 'float'>   \n",
       "description                   NaN          NaN          <class 'str'>   \n",
       "engineDisplacement            NaN          NaN          <class 'str'>   \n",
       "enginePower                   NaN          NaN          <class 'str'>   \n",
       "equipment_dict                NaN          NaN          <class 'str'>   \n",
       "fuelType                      NaN          NaN          <class 'str'>   \n",
       "image                         NaN          NaN          <class 'str'>   \n",
       "mileage                         1        1e+06  <class 'numpy.int64'>   \n",
       "modelDate                    1904         2020  <class 'numpy.int64'>   \n",
       "model_info                    NaN          NaN          <class 'str'>   \n",
       "model_name                    NaN          NaN          <class 'str'>   \n",
       "name                          NaN          NaN          <class 'str'>   \n",
       "numberOfDoors                   0            5  <class 'numpy.int64'>   \n",
       "parsing_unixtime      1.60311e+09  1.60371e+09  <class 'numpy.int64'>   \n",
       "priceCurrency                 NaN          NaN          <class 'str'>   \n",
       "productionDate               1904         2020  <class 'numpy.int64'>   \n",
       "sell_id                      2665  1.10137e+09  <class 'numpy.int64'>   \n",
       "super_gen                     NaN          NaN          <class 'str'>   \n",
       "vehicleConfiguration          NaN          NaN          <class 'str'>   \n",
       "vehicleTransmission           NaN          NaN          <class 'str'>   \n",
       "vendor                        NaN          NaN          <class 'str'>   \n",
       "Владельцы                     NaN          NaN          <class 'str'>   \n",
       "Владение                      NaN          NaN        <class 'float'>   \n",
       "ПТС                           NaN          NaN          <class 'str'>   \n",
       "Привод                        NaN          NaN          <class 'str'>   \n",
       "Руль                          NaN          NaN          <class 'str'>   \n",
       "Состояние                     NaN          NaN          <class 'str'>   \n",
       "Таможня                       NaN          NaN          <class 'str'>   \n",
       "\n",
       "                      NaN_prop  \n",
       "bodyType                 0.000  \n",
       "brand                    0.000  \n",
       "car_url                  0.000  \n",
       "color                    0.000  \n",
       "complectation_dict       0.815  \n",
       "description              0.000  \n",
       "engineDisplacement       0.000  \n",
       "enginePower              0.000  \n",
       "equipment_dict           0.288  \n",
       "fuelType                 0.000  \n",
       "image                    0.000  \n",
       "mileage                  0.000  \n",
       "modelDate                0.000  \n",
       "model_info               0.000  \n",
       "model_name               0.000  \n",
       "name                     0.000  \n",
       "numberOfDoors            0.000  \n",
       "parsing_unixtime         0.000  \n",
       "priceCurrency            0.000  \n",
       "productionDate           0.000  \n",
       "sell_id                  0.000  \n",
       "super_gen                0.000  \n",
       "vehicleConfiguration     0.000  \n",
       "vehicleTransmission      0.000  \n",
       "vendor                   0.000  \n",
       "Владельцы                0.000  \n",
       "Владение                 0.654  \n",
       "ПТС                      0.000  \n",
       "Привод                   0.000  \n",
       "Руль                     0.000  \n",
       "Состояние                0.000  \n",
       "Таможня                  0.000  "
      ]
     },
     "execution_count": 6,
     "metadata": {},
     "output_type": "execute_result"
    }
   ],
   "source": [
    "describe_df(df_test)"
   ]
  },
  {
   "cell_type": "markdown",
   "metadata": {},
   "source": [
    "Всего в исходном валидационном датасете 32 колонки с разными типами данных (6 int, 26 object) и разыми типами признаков:   \n",
    "-бинарные (в колонках `vendor`, `ПТС`, `Руль`);   \n",
    "-категориальные (например в колонках `bodyType`, `brand`, `color`, `Владельцы`);  \n",
    "-количественные (например в `enginePower` или `mileage`).  \n",
    "\n",
    "Некоторын колонки содержат словари или длинные строки, содержащие сразу несколько признаков. \n",
    "\n",
    "Колонка `brand` содержит 12 уникальных значений. Это позволяет нам существенно сократить обьем работы по парсингу, ведь релевантными будут только данные по этим 12 брендам, поэтому только по ним и будем собирать информацию.\n",
    "\n",
    "Колонка `car_url` содержит ссылки на обьявления о продаже авто на сайте ***auto.ru***, что как бы намекает, что валидационный набор спарсен с сайта ***auto.ru***. Воспользуемся этим же источником.\n",
    "\n",
    "Три колонки  `priceCurrency`, `Состояние` и `Таможня` содержат только одно уникальное хначение, они ненесут никакой информации, поэтому исключим их из рассмотрения.  \n",
    "  \n",
    "Теперь следует ознакомиться с  каждым признак/колонку более детально. Это позволит нам понять в каком виде/формате содержится информация в колонках и соответсвенно сформировать набор данных для обучения в том же виде/формате. Так же детальное ознакомлене позволит окончательно определится с необходимость включения информации из колонок в рассмотрение моделью. В случае включения данных в рассмотрение моделью, провеем EDA. "
   ]
  },
  {
   "cell_type": "markdown",
   "metadata": {},
   "source": [
    "### Детальное ознакомление\n",
    "### bodyType"
   ]
  },
  {
   "cell_type": "code",
   "execution_count": 7,
   "metadata": {},
   "outputs": [
    {
     "data": {
      "text/plain": [
       "29702                седан\n",
       "11664    внедорожник 5 дв.\n",
       "14642    внедорожник 5 дв.\n",
       "Name: bodyType, dtype: object"
      ]
     },
     "execution_count": 7,
     "metadata": {},
     "output_type": "execute_result"
    }
   ],
   "source": [
    "df_test.bodyType.sample(3)"
   ]
  },
  {
   "cell_type": "code",
   "execution_count": 8,
   "metadata": {},
   "outputs": [
    {
     "data": {
      "text/plain": [
       "array(['лифтбек', 'внедорожник 5 дв.', 'хэтчбек 5 дв.', 'седан',\n",
       "       'компактвэн', 'универсал 5 дв.', 'пикап одинарная кабина',\n",
       "       'хэтчбек 3 дв.', 'купе', 'кабриолет', 'минивэн',\n",
       "       'пикап двойная кабина', 'внедорожник 3 дв.', 'родстер', 'микровэн',\n",
       "       'седан 2 дв.', 'купе-хардтоп', 'фастбек', 'тарга',\n",
       "       'внедорожник открытый', 'лимузин', 'пикап полуторная кабина',\n",
       "       'седан-хардтоп', 'фургон'], dtype=object)"
      ]
     },
     "execution_count": 8,
     "metadata": {},
     "output_type": "execute_result"
    }
   ],
   "source": [
    "df_test.bodyType.unique()"
   ]
  },
  {
   "cell_type": "markdown",
   "metadata": {},
   "source": [
    "Колонка содержит наименование типа кузова в виде строковой величины. Принимается в пассмоттение. "
   ]
  },
  {
   "cell_type": "markdown",
   "metadata": {},
   "source": [
    "### brand"
   ]
  },
  {
   "cell_type": "code",
   "execution_count": 9,
   "metadata": {},
   "outputs": [
    {
     "data": {
      "text/plain": [
       "7091     VOLVO\n",
       "995      SKODA\n",
       "30275     AUDI\n",
       "Name: brand, dtype: object"
      ]
     },
     "execution_count": 9,
     "metadata": {},
     "output_type": "execute_result"
    }
   ],
   "source": [
    "df_test.brand.sample(3)"
   ]
  },
  {
   "cell_type": "code",
   "execution_count": 10,
   "metadata": {},
   "outputs": [
    {
     "data": {
      "text/plain": [
       "array(['SKODA', 'AUDI', 'HONDA', 'VOLVO', 'BMW', 'NISSAN', 'INFINITI',\n",
       "       'MERCEDES', 'TOYOTA', 'LEXUS', 'VOLKSWAGEN', 'MITSUBISHI'],\n",
       "      dtype=object)"
      ]
     },
     "execution_count": 10,
     "metadata": {},
     "output_type": "execute_result"
    }
   ],
   "source": [
    "df_test.brand.unique()"
   ]
  },
  {
   "cell_type": "markdown",
   "metadata": {},
   "source": [
    "Колонка содержит наименование марки в виде строковой величины. Принимается в рассмотрение."
   ]
  },
  {
   "cell_type": "markdown",
   "metadata": {},
   "source": [
    "### car_url"
   ]
  },
  {
   "cell_type": "code",
   "execution_count": 11,
   "metadata": {},
   "outputs": [
    {
     "data": {
      "text/plain": [
       "33130    https://auto.ru/cars/used/sale/infiniti/g35/11...\n",
       "25545    https://auto.ru/cars/used/sale/volkswagen/golf...\n",
       "6881     https://auto.ru/cars/used/sale/volvo/xc70/1101...\n",
       "30321    https://auto.ru/cars/used/sale/audi/a6/1100966...\n",
       "29505    https://auto.ru/cars/used/sale/bmw/5er/1100636...\n",
       "Name: car_url, dtype: object"
      ]
     },
     "execution_count": 11,
     "metadata": {},
     "output_type": "execute_result"
    }
   ],
   "source": [
    "df_test.car_url.sample(5)"
   ]
  },
  {
   "cell_type": "markdown",
   "metadata": {},
   "source": [
    "В этой колонке содержаться ссылки на обьявления о продаже, послужившие источником при парсинге `test`. В настоящий момент скорее всего ссылки уже не активны, потому колокна будет исключена из рассмотрения моделью. Но нформация в ней содержащаяся позволит нам проверить не попадают ли в тренировочный набор данных наблюдения из валидационного. "
   ]
  },
  {
   "cell_type": "markdown",
   "metadata": {},
   "source": [
    "### color"
   ]
  },
  {
   "cell_type": "code",
   "execution_count": 12,
   "metadata": {},
   "outputs": [
    {
     "data": {
      "text/plain": [
       "10400      белый\n",
       "11606      синий\n",
       "4061     красный\n",
       "Name: color, dtype: object"
      ]
     },
     "execution_count": 12,
     "metadata": {},
     "output_type": "execute_result"
    }
   ],
   "source": [
    "df_test.color.sample(3)"
   ]
  },
  {
   "cell_type": "code",
   "execution_count": 13,
   "metadata": {},
   "outputs": [
    {
     "data": {
      "text/plain": [
       "array(['синий', 'чёрный', 'серый', 'коричневый', 'белый', 'пурпурный',\n",
       "       'бежевый', 'серебристый', 'красный', 'зелёный', 'жёлтый',\n",
       "       'голубой', 'оранжевый', 'фиолетовый', 'золотистый', 'розовый'],\n",
       "      dtype=object)"
      ]
     },
     "execution_count": 13,
     "metadata": {},
     "output_type": "execute_result"
    }
   ],
   "source": [
    "df_test.color.unique()"
   ]
  },
  {
   "cell_type": "markdown",
   "metadata": {},
   "source": [
    "Колонка содержит название цвета кузова, принимется в рассмотрение. "
   ]
  },
  {
   "cell_type": "markdown",
   "metadata": {},
   "source": [
    "### complectation_dict"
   ]
  },
  {
   "cell_type": "code",
   "execution_count": 14,
   "metadata": {},
   "outputs": [
    {
     "data": {
      "text/plain": [
       "0                                                  NaN\n",
       "1                                                  NaN\n",
       "2    {\"id\":\"20026336\",\"name\":\"Ambition\",\"available_...\n",
       "Name: complectation_dict, dtype: object"
      ]
     },
     "execution_count": 14,
     "metadata": {},
     "output_type": "execute_result"
    }
   ],
   "source": [
    "df_test.complectation_dict.head(3)"
   ]
  },
  {
   "cell_type": "code",
   "execution_count": 15,
   "metadata": {},
   "outputs": [
    {
     "data": {
      "text/plain": [
       "'{\"id\":\"20026336\",\"name\":\"Ambition\",\"available_options\":[\"heated-wash-system\",\"airbag-passenger\",\"lock\",\"door-sill-panel\",\"electro-mirrors\",\"mirrors-heat\",\"cooling-box\",\"computer\",\"seat-transformation\",\"wheel-power\",\"fabric-seats\",\"airbag-side\",\"abs\",\"wheel-leather\",\"climate-control-1\",\"esp\",\"adaptive-light\",\"audiopreparation\",\"ashtray-and-cigarette-lighter\",\"front-centre-armrest\",\"electro-window-back\",\"16-inch-wheels\",\"body-mouldings\",\"condition\",\"airbag-driver\",\"isofix\",\"aux\",\"electro-window-front\",\"light-sensor\",\"hcc\",\"ptf\",\"rain-sensor\",\"tyre-pressure\",\"audiosystem-cd\",\"front-seats-heat\",\"wheel-configuration2\",\"wheel-configuration1\",\"immo\",\"12v-socket\",\"third-rear-headrest\"]}'"
      ]
     },
     "execution_count": 15,
     "metadata": {},
     "output_type": "execute_result"
    }
   ],
   "source": [
    "df_test.complectation_dict.loc[2]"
   ]
  },
  {
   "cell_type": "markdown",
   "metadata": {},
   "source": [
    "Колонка содержит словарь стандартной комплектации с наименованием комплектации и списком обрудования (зачастую стандартного, имеющегося в любом автомобиле, например \"12v-socket\" или \"lock\") входящим в такую комплектацию. Доля пррпусков (свыше 0.8), перечисление оборудования присутсвуюшегов любом авто данной марки и модели и наличие колонки `equipment_dict` с гораздо меньшим количеством пропусков позволяет исключить колонку из рассмотрения."
   ]
  },
  {
   "cell_type": "markdown",
   "metadata": {},
   "source": [
    "### description"
   ]
  },
  {
   "cell_type": "code",
   "execution_count": 16,
   "metadata": {},
   "outputs": [
    {
     "name": "stdout",
     "output_type": "stream",
     "text": [
      "Все автомобили, представленные в продаже, проходят тщательную проверку по более 40 параметрам. Предоставляем гарантию юридической чистоты, а так же год технической гарантии на двигатель и КПП. Бесплатный тест-драйв. Возможно оформление автомобиля в кредит!\n",
      "\n",
      "Преимущества автокредитования:\n",
      "— Первоначальный взнос от 0%;\n",
      "— Более 30 кредитных программ;\n",
      "— Процентная ставка от 6% годовых;\n",
      "— Срок кредита от 6 месяцев до 7 лет;\n",
      "— Оформление кредита по двум документам;\n",
      "— Досрочное погашение без штрафов и комиссий;\n",
      "— Сумма кредита до 2 млн рублей;\n",
      "— Оформление КАСКО – по желанию;\n",
      "— Без справок и поручителей.\n",
      "\n",
      "Сотрудничаем с 12 аккредитованными и сертифицированными банками РФ, среднее время ожидания решения банка 20–30 минут.\n",
      "\n",
      "При покупке автомобиля по программе «Trade-in – выгодный обмен» или в кредит, получите дополнительную скидку до 80 000 рублей на данный автомобиль!\n",
      "\n",
      "Записаться на тест-драйв, а так же получить подробную информацию можно у специалистов автоцентра по указанному номеру телефона.\n"
     ]
    }
   ],
   "source": [
    "print(df_test.description[0])"
   ]
  },
  {
   "cell_type": "markdown",
   "metadata": {},
   "source": [
    "В колонке содержится текст, относящийся скорее к продавцу, чем к конкретному автомобилю. Поэтому на данном этапе ( и вероятно вообще) колонка исключается из рассмотрения."
   ]
  },
  {
   "cell_type": "markdown",
   "metadata": {},
   "source": [
    "### engineDisplacement"
   ]
  },
  {
   "cell_type": "code",
   "execution_count": 17,
   "metadata": {},
   "outputs": [
    {
     "data": {
      "text/plain": [
       "array(['1.2 LTR', '1.6 LTR', '1.8 LTR', '2.0 LTR', '1.4 LTR', '1.3 LTR',\n",
       "       '1.0 LTR', '3.6 LTR', '1.5 LTR', '1.9 LTR', '2.8 LTR', '1.1 LTR',\n",
       "       '2.5 LTR', '4.2 LTR', '3.0 LTR', '4.0 LTR', '5.9 LTR', '2.7 LTR',\n",
       "       '3.1 LTR', '2.4 LTR', '5.2 LTR', '3.2 LTR', '4.1 LTR', '6.3 LTR',\n",
       "       '2.3 LTR', '6.0 LTR', '2.2 LTR', '3.7 LTR', '2.9 LTR', '5.0 LTR',\n",
       "       '3.3 LTR', '2.1 LTR', '2.6 LTR', ' LTR', '3.5 LTR', '1.7 LTR',\n",
       "       '0.7 LTR', '4.4 LTR', '4.8 LTR', '5.4 LTR', '6.6 LTR', '4.9 LTR',\n",
       "       '3.8 LTR', '3.4 LTR', '3.9 LTR', '4.6 LTR', '5.6 LTR', '4.5 LTR',\n",
       "       '5.5 LTR', '6.2 LTR', '4.7 LTR', '4.3 LTR', '5.8 LTR', '5.3 LTR',\n",
       "       '5.7 LTR'], dtype=object)"
      ]
     },
     "execution_count": 17,
     "metadata": {},
     "output_type": "execute_result"
    }
   ],
   "source": [
    "df_test.engineDisplacement.unique()"
   ]
  },
  {
   "cell_type": "code",
   "execution_count": 18,
   "metadata": {},
   "outputs": [
    {
     "data": {
      "text/plain": [
       "55"
      ]
     },
     "execution_count": 18,
     "metadata": {},
     "output_type": "execute_result"
    }
   ],
   "source": [
    "df_test.engineDisplacement.value_counts()[' LTR']"
   ]
  },
  {
   "cell_type": "markdown",
   "metadata": {},
   "source": [
    "Колонка содержит обьем двигателя, принимется в рассмотрение. Следует отметить наличие скрытых пропусков (55 стрк `' LTR'`)"
   ]
  },
  {
   "cell_type": "markdown",
   "metadata": {},
   "source": [
    "### enginePower"
   ]
  },
  {
   "cell_type": "code",
   "execution_count": 19,
   "metadata": {},
   "outputs": [
    {
     "data": {
      "text/plain": [
       "array(['105 N12', '110 N12', '152 N12', '200 N12', '102 N12', '150 N12',\n",
       "       '90 N12', '180 N12', '220 N12', '122 N12', '70 N12', '140 N12',\n",
       "       '125 N12', '54 N12', '86 N12', '75 N12', '64 N12', '95 N12',\n",
       "       '260 N12', '170 N12', '80 N12', '68 N12', '160 N12', '115 N12',\n",
       "       '280 N12', '53 N12', '60 N12', '143 N12', '42 N12', '101 N12',\n",
       "       '58 N12', '193 N12', '79 N12', '30 N12', '100 N12', '50 N12',\n",
       "       '163 N12', '225 N12', '420 N12', '211 N12', '245 N12', '560 N12',\n",
       "       '500 N12', '249 N12', '450 N12', '605 N12', '250 N12', '354 N12',\n",
       "       '120 N12', '290 N12', '230 N12', '350 N12', '204 N12', '255 N12',\n",
       "       '340 N12', '177 N12', '272 N12', '372 N12', '210 N12', '130 N12',\n",
       "       '300 N12', '190 N12', '239 N12', '435 N12', '333 N12', '271 N12',\n",
       "       '326 N12', '238 N12', '310 N12', '233 N12', '252 N12', '133 N12',\n",
       "       '460 N12', '520 N12', '400 N12', '525 N12', '367 N12', '265 N12',\n",
       "       '550 N12', '580 N12', '88 N12', '165 N12', '430 N12', '335 N12',\n",
       "       '174 N12', '224 N12', '136 N12', '256 N12', '338 N12', '112 N12',\n",
       "       '218 N12', '360 N12', '93 N12', '182 N12', '113 N12', '240 N12',\n",
       "       '270 N12', '137 N12', '155 N12', '61 N12'], dtype=object)"
      ]
     },
     "execution_count": 19,
     "metadata": {},
     "output_type": "execute_result"
    }
   ],
   "source": [
    "df_test.enginePower.unique()[:100]"
   ]
  },
  {
   "cell_type": "markdown",
   "metadata": {},
   "source": [
    "Колонка содержит мощность двигателя, принмается в рассмотрение."
   ]
  },
  {
   "cell_type": "markdown",
   "metadata": {},
   "source": [
    "### equipment_dict"
   ]
  },
  {
   "cell_type": "code",
   "execution_count": 20,
   "metadata": {},
   "outputs": [
    {
     "data": {
      "text/plain": [
       "33197    {\"cruise-control\":true,\"asr\":true,\"aux\":true,\"...\n",
       "24536    {\"asr\":true,\"computer\":true,\"abs\":true,\"roof-r...\n",
       "5395     {\"engine-proof\":true,\"cruise-control\":true,\"ti...\n",
       "1876     {\"engine-proof\":true,\"tinted-glass\":true,\"esp\"...\n",
       "33662    {\"cruise-control\":true,\"asr\":true,\"esp\":true,\"...\n",
       "Name: equipment_dict, dtype: object"
      ]
     },
     "execution_count": 20,
     "metadata": {},
     "output_type": "execute_result"
    }
   ],
   "source": [
    "df_test.equipment_dict.sample(5)"
   ]
  },
  {
   "cell_type": "code",
   "execution_count": 21,
   "metadata": {},
   "outputs": [
    {
     "data": {
      "text/plain": [
       "33035    {'alloy-wheel-disks': True, 'velvet-seats': Tr...\n",
       "2470     {'cruise-control': True, 'asr': True, 'tinted-...\n",
       "13719    {'airbag-passenger': True, 'condition': True, ...\n",
       "24498                          {'ptf': True, 'lock': True}\n",
       "6143     {'engine-proof': True, 'airbag-driver': True, ...\n",
       "Name: equipment_dict, dtype: object"
      ]
     },
     "execution_count": 21,
     "metadata": {},
     "output_type": "execute_result"
    }
   ],
   "source": [
    "df_test.equipment_dict.apply(lambda x: json.loads(x) if x==x else x).sample(5)"
   ]
  },
  {
   "cell_type": "markdown",
   "metadata": {},
   "source": [
    "В колонке много пропусков (почти 29%), не пропущенные значения представляют собой текстово епредсьавление словаря с перечислением оснащения автомобиля. В рассмотрнеие моделью будет приняты те пункты оснащения, что будут пересекаться с пунктами оснащения обучающего набора данных."
   ]
  },
  {
   "cell_type": "markdown",
   "metadata": {},
   "source": [
    "### fuelType"
   ]
  },
  {
   "cell_type": "code",
   "execution_count": 22,
   "metadata": {},
   "outputs": [
    {
     "data": {
      "text/plain": [
       "array(['бензин', 'дизель', 'гибрид', 'электро', 'газ'], dtype=object)"
      ]
     },
     "execution_count": 22,
     "metadata": {},
     "output_type": "execute_result"
    }
   ],
   "source": [
    "df_test.fuelType.unique()"
   ]
  },
  {
   "cell_type": "markdown",
   "metadata": {},
   "source": [
    "Колонка содержит тип топлива. Принимается врассмотрнеи."
   ]
  },
  {
   "cell_type": "markdown",
   "metadata": {},
   "source": [
    "### image"
   ]
  },
  {
   "cell_type": "code",
   "execution_count": 23,
   "metadata": {},
   "outputs": [
    {
     "data": {
      "text/plain": [
       "16262    https://avatars.mds.yandex.net/get-autoru-vos/...\n",
       "16637    https://autoru.naydex.net/ESooa9149/468b9eoMem...\n",
       "11744    https://autoru.naydex.net/G87gDZg56/28c7a8vqVE...\n",
       "32431    https://autoru.naydex.net/1xsMU7627/eea2057RFg...\n",
       "31479    https://avatars.mds.yandex.net/get-autoru-vos/...\n",
       "Name: image, dtype: object"
      ]
     },
     "execution_count": 23,
     "metadata": {},
     "output_type": "execute_result"
    }
   ],
   "source": [
    "df_test.image.sample(5)"
   ]
  },
  {
   "cell_type": "markdown",
   "metadata": {},
   "source": [
    "Колонка содержит ссылки на фото или аватар авто, исключается из рассмотрения."
   ]
  },
  {
   "cell_type": "markdown",
   "metadata": {},
   "source": [
    "### mileage"
   ]
  },
  {
   "cell_type": "code",
   "execution_count": 24,
   "metadata": {},
   "outputs": [
    {
     "data": {
      "text/plain": [
       "34350    248600\n",
       "17107     77290\n",
       "15816    125000\n",
       "23373    115620\n",
       "4882     112000\n",
       "Name: mileage, dtype: int64"
      ]
     },
     "execution_count": 24,
     "metadata": {},
     "output_type": "execute_result"
    }
   ],
   "source": [
    "df_test.mileage.sample(5)"
   ]
  },
  {
   "cell_type": "markdown",
   "metadata": {},
   "source": [
    "Колонка содержит пробег авто, принмается в рассмотрениею"
   ]
  },
  {
   "cell_type": "markdown",
   "metadata": {},
   "source": [
    "### modelDate"
   ]
  },
  {
   "cell_type": "code",
   "execution_count": 25,
   "metadata": {},
   "outputs": [
    {
     "data": {
      "text/plain": [
       "array([2013, 2017, 2008, 2009, 2016, 2012, 2015, 2010, 2006, 2000, 2007,\n",
       "       1994, 2004, 1999, 2005, 1976, 2001, 1969, 1996, 1998, 1989, 1934,\n",
       "       2014, 2011, 2018, 1986, 1997, 1990, 2019, 2002, 1991, 1987, 1980,\n",
       "       1982, 1938, 1988, 2003, 1983, 1978, 1979, 1984, 1992, 1995, 1993,\n",
       "       1985, 1974, 1966, 1977, 1981, 1972, 1968, 1975, 1949, 1937, 1936,\n",
       "       1973, 1959, 1958, 2020, 1965, 1971, 1904, 1963, 1955, 1951, 1960],\n",
       "      dtype=int64)"
      ]
     },
     "execution_count": 25,
     "metadata": {},
     "output_type": "execute_result"
    }
   ],
   "source": [
    "df_test.modelDate.unique()"
   ]
  },
  {
   "cell_type": "markdown",
   "metadata": {},
   "source": [
    "Колонка содержит год начала выпуска модели, принимется в рассмотрние."
   ]
  },
  {
   "cell_type": "markdown",
   "metadata": {},
   "source": [
    "### model_info"
   ]
  },
  {
   "cell_type": "code",
   "execution_count": 26,
   "metadata": {},
   "outputs": [
    {
     "data": {
      "text/plain": [
       "15506    {\"code\":\"E_KLASSE\",\"name\":\"E-Класс\",\"ru_name\":...\n",
       "28107    {\"code\":\"COLT\",\"name\":\"Colt\",\"ru_name\":\"Кольт\"...\n",
       "12743    {\"code\":\"TERRANO\",\"name\":\"Terrano\",\"ru_name\":\"...\n",
       "30422    {\"code\":\"TIGUAN\",\"name\":\"Tiguan\",\"ru_name\":\"Ти...\n",
       "29903    {\"code\":\"Q7\",\"name\":\"Q7\",\"ru_name\":\"Ку7\",\"morp...\n",
       "Name: model_info, dtype: object"
      ]
     },
     "execution_count": 26,
     "metadata": {},
     "output_type": "execute_result"
    }
   ],
   "source": [
    "df_test.model_info.sample(5)"
   ]
  },
  {
   "cell_type": "markdown",
   "metadata": {},
   "source": [
    "Колонка содержит наименование модели в трех вариантах. Учитывая наличие `model_name` колонка исключается из рассмотрения"
   ]
  },
  {
   "cell_type": "markdown",
   "metadata": {},
   "source": [
    "### model_name"
   ]
  },
  {
   "cell_type": "code",
   "execution_count": 27,
   "metadata": {},
   "outputs": [
    {
     "data": {
      "text/plain": [
       "31788      VITO\n",
       "26153      POLO\n",
       "23870     JETTA\n",
       "28541    LANCER\n",
       "9795        5ER\n",
       "Name: model_name, dtype: object"
      ]
     },
     "execution_count": 27,
     "metadata": {},
     "output_type": "execute_result"
    }
   ],
   "source": [
    "df_test.model_name.sample(5)"
   ]
  },
  {
   "cell_type": "markdown",
   "metadata": {},
   "source": [
    "Наименование модели. Принимается к рассмотрению."
   ]
  },
  {
   "cell_type": "markdown",
   "metadata": {},
   "source": [
    "### name"
   ]
  },
  {
   "cell_type": "code",
   "execution_count": 28,
   "metadata": {},
   "outputs": [
    {
     "data": {
      "text/plain": [
       "7576       520i 2.0 AT (184 л.с.)\n",
       "33847       3.1 AT (255 л.с.) 4WD\n",
       "7619       520i 2.0 MT (150 л.с.)\n",
       "4991           2.0 CVT (170 л.с.)\n",
       "3265     2.0hyb AT (211 л.с.) 4WD\n",
       "Name: name, dtype: object"
      ]
     },
     "execution_count": 28,
     "metadata": {},
     "output_type": "execute_result"
    }
   ],
   "source": [
    "df_test.name.sample(5)"
   ]
  },
  {
   "cell_type": "markdown",
   "metadata": {},
   "source": [
    "Колонка содержит расширение названия модели, указывающее на обьем двигателя и тип привода. Поскольку эта информация уже получена из других колонок, эта в рассмотрнеие не принимается"
   ]
  },
  {
   "cell_type": "markdown",
   "metadata": {},
   "source": [
    "### numberOfDoors"
   ]
  },
  {
   "cell_type": "code",
   "execution_count": 29,
   "metadata": {},
   "outputs": [
    {
     "data": {
      "text/plain": [
       "array([5, 4, 2, 3, 0], dtype=int64)"
      ]
     },
     "execution_count": 29,
     "metadata": {},
     "output_type": "execute_result"
    }
   ],
   "source": [
    "df_test.numberOfDoors.unique()"
   ]
  },
  {
   "cell_type": "markdown",
   "metadata": {},
   "source": [
    "Колонка содержит числовое представление количества дверей, принимется в рассмотрение."
   ]
  },
  {
   "cell_type": "markdown",
   "metadata": {},
   "source": [
    "### parsing_unixtime"
   ]
  },
  {
   "cell_type": "markdown",
   "metadata": {},
   "source": [
    "Колонка судя по названию содержит время сбора информации в валидационный набор данных. Непосредственно для обученяи информация не нужна. Но время сбора поможет внести поправку на изменение коньюктуры(курс валюты и т.д.). \n",
    "Посмотрим на диапазон `parsing_unixtime`:"
   ]
  },
  {
   "cell_type": "code",
   "execution_count": 30,
   "metadata": {},
   "outputs": [],
   "source": [
    "# datetime.utcfromtimestamp(df_test.parsing_unixtime.min())"
   ]
  },
  {
   "cell_type": "code",
   "execution_count": 31,
   "metadata": {},
   "outputs": [],
   "source": [
    "# datetime.utcfromtimestamp(df_test.parsing_unixtime.max())"
   ]
  },
  {
   "cell_type": "code",
   "execution_count": 32,
   "metadata": {},
   "outputs": [
    {
     "data": {
      "text/plain": [
       "(datetime.date(2020, 10, 19), datetime.date(2020, 10, 26))"
      ]
     },
     "execution_count": 32,
     "metadata": {},
     "output_type": "execute_result"
    }
   ],
   "source": [
    "date.fromtimestamp(df_test.parsing_unixtime.min()),date.fromtimestamp(df_test.parsing_unixtime.max())"
   ]
  },
  {
   "cell_type": "markdown",
   "metadata": {},
   "source": [
    "Как видим парсинг произведен с 19 по 26 октября 20-го года"
   ]
  },
  {
   "cell_type": "markdown",
   "metadata": {},
   "source": [
    "### productionDate"
   ]
  },
  {
   "cell_type": "code",
   "execution_count": 33,
   "metadata": {},
   "outputs": [
    {
     "data": {
      "text/plain": [
       "array([2014, 2017, 2012, 2011, 2019, 2018, 2010, 2020, 2016, 2013, 2006,\n",
       "       2007, 2015, 2005, 2008, 2009, 1997, 2004, 2002, 1987, 2003, 2001,\n",
       "       1976, 2000, 1998, 1995, 1999, 1993, 1939, 1996, 1984, 1990, 1991,\n",
       "       1992, 1989, 1982, 1985, 1994, 1938, 1981, 1988, 1983, 1980, 1986,\n",
       "       1978, 1970, 1979, 1977, 1972, 1975, 1969, 1950, 1953, 1949, 1937,\n",
       "       1959, 1968, 1936, 1904, 1974, 1967, 1961, 1960, 1965, 1963, 1957,\n",
       "       1952, 1973, 1948], dtype=int64)"
      ]
     },
     "execution_count": 33,
     "metadata": {},
     "output_type": "execute_result"
    }
   ],
   "source": [
    "df_test.productionDate.unique()"
   ]
  },
  {
   "cell_type": "markdown",
   "metadata": {},
   "source": [
    "Год производства автомобиля ( наверное наряду с моделью автомобиля самы значимый признак). Принмается в рассмотрнеие."
   ]
  },
  {
   "cell_type": "markdown",
   "metadata": {},
   "source": [
    "### sell_id"
   ]
  },
  {
   "cell_type": "code",
   "execution_count": 34,
   "metadata": {},
   "outputs": [
    {
     "data": {
      "text/plain": [
       "'https://auto.ru/cars/used/sale/skoda/octavia/1100549428-595cadf2/'"
      ]
     },
     "execution_count": 34,
     "metadata": {},
     "output_type": "execute_result"
    }
   ],
   "source": [
    "df_test.car_url[1]"
   ]
  },
  {
   "cell_type": "code",
   "execution_count": 35,
   "metadata": {},
   "outputs": [
    {
     "data": {
      "text/plain": [
       "1100549428"
      ]
     },
     "execution_count": 35,
     "metadata": {},
     "output_type": "execute_result"
    }
   ],
   "source": [
    "df_test.sell_id[1]"
   ]
  },
  {
   "cell_type": "code",
   "execution_count": 36,
   "metadata": {},
   "outputs": [
    {
     "data": {
      "text/plain": [
       "array([1100575026, 1100549428, 1100658222, ..., 1101364889, 1101362518,\n",
       "       1101256068], dtype=int64)"
      ]
     },
     "execution_count": 36,
     "metadata": {},
     "output_type": "execute_result"
    }
   ],
   "source": [
    "df_test.sell_id.unique()"
   ]
  },
  {
   "cell_type": "markdown",
   "metadata": {},
   "source": [
    "Колонка содержит ***id*** обьявления. Как непосредственный признак не интересен, в рассмотрение моделью не принимается. Но если предположить, что ***id*** отражает хронологический порядок появления обьявления, то, например, можно попробовать при \"тонкой настройке\" модели придать более новым обьявлениям больший вес при обучении."
   ]
  },
  {
   "cell_type": "markdown",
   "metadata": {},
   "source": [
    "### super_gen"
   ]
  },
  {
   "cell_type": "code",
   "execution_count": 37,
   "metadata": {},
   "outputs": [
    {
     "data": {
      "text/plain": [
       "'{\"id\":\"10373605\",\"displacement\":1197,\"engine_type\":\"GASOLINE\",\"gear_type\":\"FORWARD_CONTROL\",\"transmission\":\"ROBOT\",\"power\":105,\"power_kvt\":77,\"human_name\":\"1.2 AMT (105 л.с.)\",\"acceleration\":10.5,\"clearance_min\":155,\"fuel_rate\":5}'"
      ]
     },
     "execution_count": 37,
     "metadata": {},
     "output_type": "execute_result"
    }
   ],
   "source": [
    "df_test.super_gen[0]"
   ]
  },
  {
   "cell_type": "markdown",
   "metadata": {},
   "source": [
    "Колонка содержит ***id*** и параметры автомобиля, которые либо являются по сути атрибутами модели (например у всех автомобилей одной модели одной модификации одинаковый клиренс) либо уже известны нам из других колонок (например тип трансмиссии). В рассмотрнеи не принимается."
   ]
  },
  {
   "cell_type": "markdown",
   "metadata": {},
   "source": [
    "### vehicleConfiguration"
   ]
  },
  {
   "cell_type": "code",
   "execution_count": 38,
   "metadata": {},
   "outputs": [
    {
     "data": {
      "text/plain": [
       "31546     ALLROAD_5_DOORS AUTOMATIC 3.5\n",
       "34040       WAGON_5_DOORS AUTOMATIC 1.6\n",
       "4715                SEDAN AUTOMATIC 2.8\n",
       "31592    HATCHBACK_5_DOORS VARIATOR 2.0\n",
       "10703     ALLROAD_5_DOORS AUTOMATIC 2.0\n",
       "Name: vehicleConfiguration, dtype: object"
      ]
     },
     "execution_count": 38,
     "metadata": {},
     "output_type": "execute_result"
    }
   ],
   "source": [
    "df_test.vehicleConfiguration.sample(5)"
   ]
  },
  {
   "cell_type": "markdown",
   "metadata": {},
   "source": [
    "Содержит информацию о типе кузова, типе трансмиссии обьеме двигателя количестве дверей. Эта информация доступна в других колонках, поэтому `vehicleConfiguration` в рассмотрение не принимется "
   ]
  },
  {
   "cell_type": "markdown",
   "metadata": {},
   "source": [
    "### vehicleTransmission"
   ]
  },
  {
   "cell_type": "code",
   "execution_count": 39,
   "metadata": {},
   "outputs": [
    {
     "data": {
      "text/plain": [
       "array(['роботизированная', 'механическая', 'автоматическая', 'вариатор'],\n",
       "      dtype=object)"
      ]
     },
     "execution_count": 39,
     "metadata": {},
     "output_type": "execute_result"
    }
   ],
   "source": [
    "df_test.vehicleTransmission.unique()"
   ]
  },
  {
   "cell_type": "markdown",
   "metadata": {},
   "source": [
    "Колонка содержит в тестовом виде тип трансмиссии. Принимается в рассмотрение."
   ]
  },
  {
   "cell_type": "markdown",
   "metadata": {},
   "source": [
    "### vendor"
   ]
  },
  {
   "cell_type": "code",
   "execution_count": 40,
   "metadata": {},
   "outputs": [
    {
     "data": {
      "text/plain": [
       "array(['EUROPEAN', 'JAPANESE'], dtype=object)"
      ]
     },
     "execution_count": 40,
     "metadata": {},
     "output_type": "execute_result"
    }
   ],
   "source": [
    "df_test.vendor.unique()"
   ]
  },
  {
   "cell_type": "code",
   "execution_count": 41,
   "metadata": {},
   "outputs": [
    {
     "data": {
      "text/plain": [
       "vendor\n",
       "EUROPEAN      [SKODA, AUDI, VOLVO, BMW, MERCEDES, VOLKSWAGEN]\n",
       "JAPANESE    [HONDA, NISSAN, INFINITI, TOYOTA, LEXUS, MITSU...\n",
       "Name: brand, dtype: object"
      ]
     },
     "execution_count": 41,
     "metadata": {},
     "output_type": "execute_result"
    }
   ],
   "source": [
    "df_test.groupby('vendor').brand.unique()"
   ]
  },
  {
   "cell_type": "markdown",
   "metadata": {},
   "source": [
    "Как видим колонка содержит обобщающий признак - принадлежность марки к европейским либо японским. Как подсказывает опыт автовладельца динамика падения цены от срока владения у этих двух групп различается (японцы обычно дешевеют медленнее, особенно Toyota). Посчитаем признак полезным, примем в рассмотрение моделью."
   ]
  },
  {
   "cell_type": "markdown",
   "metadata": {},
   "source": [
    "### Владельцы"
   ]
  },
  {
   "cell_type": "code",
   "execution_count": 42,
   "metadata": {},
   "outputs": [
    {
     "data": {
      "text/plain": [
       "array(['3 или более', '1\\xa0владелец', '2\\xa0владельца'], dtype=object)"
      ]
     },
     "execution_count": 42,
     "metadata": {},
     "output_type": "execute_result"
    }
   ],
   "source": [
    "df_test.Владельцы.unique()"
   ]
  },
  {
   "cell_type": "markdown",
   "metadata": {},
   "source": [
    "Колонка содержит в текстовом виде три категории количества владельцев авто. Примем в рассмотрение"
   ]
  },
  {
   "cell_type": "markdown",
   "metadata": {},
   "source": [
    "### Владение"
   ]
  },
  {
   "cell_type": "code",
   "execution_count": 43,
   "metadata": {},
   "outputs": [
    {
     "data": {
      "text/plain": [
       "array([nan, '3 года и 2 месяца', '11 месяцев', '4 года и 1 месяц',\n",
       "       '2 года и 4 месяца', '1 месяц', '3 года и 10 месяцев',\n",
       "       '2 года и 6 месяцев', '6 лет и 4 месяца', '2 месяца', '4 месяца',\n",
       "       '1 год и 10 месяцев', '2 года и 7 месяцев', '7 лет и 11 месяцев',\n",
       "       '7 лет и 5 месяцев', '1 год и 11 месяцев', '2 года и 1 месяц',\n",
       "       '7 лет', '4 года и 2 месяца', '2 года и 8 месяцев'], dtype=object)"
      ]
     },
     "execution_count": 43,
     "metadata": {},
     "output_type": "execute_result"
    }
   ],
   "source": [
    "df_test.Владение.unique()[:20]"
   ]
  },
  {
   "cell_type": "markdown",
   "metadata": {},
   "source": [
    "Колонка содержит время прошедшее с момента выпуска авто. Очевидно линейно зависит о даты выпуска автомобиля - исключается из рассмотрения."
   ]
  },
  {
   "cell_type": "markdown",
   "metadata": {},
   "source": [
    "### ПТС"
   ]
  },
  {
   "cell_type": "code",
   "execution_count": 44,
   "metadata": {},
   "outputs": [
    {
     "data": {
      "text/plain": [
       "array(['Оригинал', 'Дубликат', nan], dtype=object)"
      ]
     },
     "execution_count": 44,
     "metadata": {},
     "output_type": "execute_result"
    }
   ],
   "source": [
    "df_test.ПТС.unique()"
   ]
  },
  {
   "cell_type": "markdown",
   "metadata": {},
   "source": [
    "Колонка содержит (если значение не nan) категорию ПТС. Принимается в рассмотрение."
   ]
  },
  {
   "cell_type": "markdown",
   "metadata": {},
   "source": [
    "### Привод"
   ]
  },
  {
   "cell_type": "code",
   "execution_count": 45,
   "metadata": {},
   "outputs": [
    {
     "data": {
      "text/plain": [
       "array(['передний', 'полный', 'задний'], dtype=object)"
      ]
     },
     "execution_count": 45,
     "metadata": {},
     "output_type": "execute_result"
    }
   ],
   "source": [
    "df_test.Привод.unique()"
   ]
  },
  {
   "cell_type": "markdown",
   "metadata": {},
   "source": [
    "Колонка содержит категорию привода. Принимается в расмотрние."
   ]
  },
  {
   "cell_type": "markdown",
   "metadata": {},
   "source": [
    "### Руль"
   ]
  },
  {
   "cell_type": "code",
   "execution_count": 46,
   "metadata": {},
   "outputs": [
    {
     "data": {
      "text/plain": [
       "array(['Левый', 'Правый'], dtype=object)"
      ]
     },
     "execution_count": 46,
     "metadata": {},
     "output_type": "execute_result"
    }
   ],
   "source": [
    "df_test.Руль.unique()"
   ]
  },
  {
   "cell_type": "markdown",
   "metadata": {},
   "source": [
    "Колонка содержит категрию право- или левосторонности управления . В рассмотрение.\n",
    " ## Колонки подлежащие рассмотрению моделью\n",
    "Итого из валидационного набора данных, содержащихся в `df_test`,  для обработки данных и последующего построения модели будем спользовать информацию из следующих колонок:"
   ]
  },
  {
   "cell_type": "code",
   "execution_count": 47,
   "metadata": {},
   "outputs": [],
   "source": [
    "columns_to_handle = ['bodyType', 'brand', 'car_url', 'color', 'engineDisplacement', 'enginePower', \n",
    "                      'equipment_dict','fuelType', 'mileage', 'modelDate', 'model_name', 'numberOfDoors', \n",
    "                      'productionDate', 'sell_id', 'vehicleTransmission', 'vendor', \n",
    "                      'Владельцы', 'ПТС', 'Привод', 'Руль']\n",
    "useful_columns = ['parsing_unixtime']"
   ]
  },
  {
   "cell_type": "code",
   "execution_count": 48,
   "metadata": {},
   "outputs": [],
   "source": [
    "test = df_test[columns_to_handle]"
   ]
  },
  {
   "cell_type": "markdown",
   "metadata": {},
   "source": [
    "## Унификация test и train"
   ]
  },
  {
   "cell_type": "code",
   "execution_count": 49,
   "metadata": {},
   "outputs": [],
   "source": [
    "train = pd.read_csv(f'{path}all_marks.csv')"
   ]
  },
  {
   "cell_type": "code",
   "execution_count": 50,
   "metadata": {},
   "outputs": [],
   "source": [
    "train = unification_train(train)\n",
    "test = unification_test(test)"
   ]
  },
  {
   "cell_type": "code",
   "execution_count": 51,
   "metadata": {},
   "outputs": [],
   "source": [
    "train.equipment_dict = train.equipment_dict.apply(train_opt_num);\n",
    "test.equipment_dict = test.equipment_dict.apply(test_opt_num);"
   ]
  },
  {
   "cell_type": "markdown",
   "metadata": {},
   "source": [
    "## Проверка на отсутсвие в train наблюдений из test\n",
    "Проверим - не попали ли в набор данных для обучения обьявления из валидационного набора.  \n",
    "Получим sell_id содержащиеся в них обоих и посмтрим на эти sell_id:"
   ]
  },
  {
   "cell_type": "code",
   "execution_count": 52,
   "metadata": {},
   "outputs": [
    {
     "data": {
      "text/plain": [
       "3313"
      ]
     },
     "execution_count": 52,
     "metadata": {},
     "output_type": "execute_result"
    }
   ],
   "source": [
    "common_id = set(test.sell_id) & set(train.sell_id)\n",
    "\n",
    "len(common_id)"
   ]
  },
  {
   "cell_type": "markdown",
   "metadata": {},
   "source": [
    "Как видим такиx обьявлений-дублей оказалось 3313. Придется их удалить из обучабщих данных.  \n",
    "Замечу, что помимо проблемы с переобучением это также улучшит качествообучающего набора - ведь если обьвление активно более полугода, то с большой вероятностью оно не адекватно состоянию рынка"
   ]
  },
  {
   "cell_type": "code",
   "execution_count": 53,
   "metadata": {},
   "outputs": [],
   "source": [
    "mask = [id in common_id for id in train.sell_id]\n",
    "index_to_drop = train.index[mask]\n",
    "train.drop(index=index_to_drop,inplace=True)"
   ]
  },
  {
   "cell_type": "markdown",
   "metadata": {},
   "source": [
    "## Оработка пропусков\n",
    "Займеся пропусками в test и train"
   ]
  },
  {
   "cell_type": "code",
   "execution_count": 54,
   "metadata": {},
   "outputs": [],
   "source": [
    "electric_cars = ['E_TRON', 'I3', 'LEAF','EQC', 'COMS','I_MIEV','E6', \n",
    " 'SONG_EV', 'BOLT', 'SOUL_EV','TAYCAN', \n",
    " 'MODEL_3', 'MODEL_S','MODEL_X', 'MODEL_Y']\n",
    "gibrid_cars = ['HYUNDAI IONIQ']\n",
    "\n",
    "train.fuelType[[x in electric_cars   for x in train.model_name]] = 'электро'\n",
    "train.fuelType[[x in gibrid_cars   for x in train.model_name]] = 'гибрид'"
   ]
  },
  {
   "cell_type": "code",
   "execution_count": 55,
   "metadata": {},
   "outputs": [],
   "source": [
    "mask = train.drop(columns = ['numberOfDoors','modelDate','engineDisplacement','enginePower']).isna().any(axis=1) \n",
    "index_to_drop = train.index[mask]"
   ]
  },
  {
   "cell_type": "code",
   "execution_count": 56,
   "metadata": {},
   "outputs": [],
   "source": [
    "train.drop(index=index_to_drop,inplace=True)"
   ]
  },
  {
   "cell_type": "code",
   "execution_count": 57,
   "metadata": {},
   "outputs": [
    {
     "data": {
      "text/plain": [
       "bodyType                   0\n",
       "brand                      0\n",
       "car_url                    0\n",
       "color                      0\n",
       "engineDisplacement        89\n",
       "enginePower               89\n",
       "equipment_dict             0\n",
       "fuelType                   0\n",
       "mileage                    0\n",
       "modelDate               6426\n",
       "model_name                 0\n",
       "numberOfDoors          29538\n",
       "productionDate             0\n",
       "sell_id                    0\n",
       "vehicleTransmission        0\n",
       "vendor                     0\n",
       "Владельцы                  0\n",
       "ПТС                        0\n",
       "Привод                     0\n",
       "Руль                       0\n",
       "offerprice                 0\n",
       "dtype: int64"
      ]
     },
     "execution_count": 57,
     "metadata": {},
     "output_type": "execute_result"
    }
   ],
   "source": [
    "train.isna().sum()"
   ]
  },
  {
   "cell_type": "code",
   "execution_count": 58,
   "metadata": {},
   "outputs": [],
   "source": [
    "test.drop(index=10412,inplace=True)"
   ]
  },
  {
   "cell_type": "code",
   "execution_count": 59,
   "metadata": {},
   "outputs": [
    {
     "data": {
      "text/plain": [
       "bodyType                0\n",
       "brand                   0\n",
       "car_url                 0\n",
       "color                   0\n",
       "engineDisplacement     55\n",
       "enginePower             0\n",
       "equipment_dict          0\n",
       "fuelType                0\n",
       "mileage                 0\n",
       "modelDate               0\n",
       "model_name              0\n",
       "numberOfDoors           0\n",
       "productionDate          0\n",
       "sell_id                 0\n",
       "vehicleTransmission     0\n",
       "vendor                  0\n",
       "Владельцы               0\n",
       "ПТС                     0\n",
       "Привод                  0\n",
       "Руль                    0\n",
       "dtype: int64"
      ]
     },
     "execution_count": 59,
     "metadata": {},
     "output_type": "execute_result"
    }
   ],
   "source": [
    "test.isna().sum()"
   ]
  },
  {
   "cell_type": "markdown",
   "metadata": {},
   "source": [
    "## Объединение test и train"
   ]
  },
  {
   "cell_type": "code",
   "execution_count": 60,
   "metadata": {},
   "outputs": [],
   "source": [
    "train['sample'] = 1  # помечаем где у нас трейн\n",
    "test['sample'] = 0   # помечаем где у нас тест\n",
    "test['offerprice'] = np.NaN  # в тесте нет значения price -  пока просто заполняем np.NaN\n",
    "\n",
    "train_reduced = train.loc[train.brand=='BMW']\n",
    "\n",
    "data = test.append(train, sort=False).reset_index(drop=True) # объединяем"
   ]
  },
  {
   "cell_type": "markdown",
   "metadata": {},
   "source": [
    "# УБРАТЬ КАР УРЛ"
   ]
  },
  {
   "cell_type": "code",
   "execution_count": 97,
   "metadata": {},
   "outputs": [],
   "source": [
    "tst_brands = test.brand.unique()\n",
    "brand_mask = [x in tst_brands for x in trn.brand]\n",
    "trn[brand_mask]"
   ]
  },
  {
   "cell_type": "markdown",
   "metadata": {},
   "source": [
    "## EDA test и train"
   ]
  },
  {
   "cell_type": "markdown",
   "metadata": {},
   "source": [
    "Разделим признаки на количественные num_cols , категориальные cat_cols и бинарные bin_cols. К бинарным, очевидно, отнесем признаки с двумя уникальными значениями.\n",
    "Категориальными признаками будем считать признаки с количеством уникальных значений от 3 до 9\n",
    "Порогом для количественного признака будет наличие более чем 10 уникальных значений.\n",
    "Временной ряд рассмотрим отдельно."
   ]
  },
  {
   "cell_type": "code",
   "execution_count": 67,
   "metadata": {},
   "outputs": [],
   "source": [
    "num_uniq = data.nunique()\n",
    "time_col = pd.Index(['sell_id'])\n",
    "bin_cols = data.columns[num_uniq==2]\n",
    "cat_cols = data.columns[(num_uniq>2) & (num_uniq<28)].append(pd.Index(['model_name','brand'])) \n",
    "num_cols = data.columns[num_uniq>=28].drop(time_col).drop(['model_name','brand'])"
   ]
  },
  {
   "cell_type": "code",
   "execution_count": 142,
   "metadata": {},
   "outputs": [
    {
     "data": {
      "text/plain": [
       "bodyType                  27\n",
       "brand                    132\n",
       "car_url                93540\n",
       "color                     16\n",
       "engineDisplacement        70\n",
       "enginePower              425\n",
       "equipment_dict           117\n",
       "fuelType                   5\n",
       "mileage                28288\n",
       "modelDate                 74\n",
       "model_name              1449\n",
       "numberOfDoors              5\n",
       "productionDate            89\n",
       "sell_id                93540\n",
       "vehicleTransmission        4\n",
       "vendor                     3\n",
       "Владельцы                  3\n",
       "ПТС                        2\n",
       "Привод                     3\n",
       "Руль                       2\n",
       "sample                     2\n",
       "offerprice              4599\n",
       "dtype: int64"
      ]
     },
     "execution_count": 142,
     "metadata": {},
     "output_type": "execute_result"
    }
   ],
   "source": [
    "num_uniq"
   ]
  },
  {
   "cell_type": "markdown",
   "metadata": {},
   "source": [
    "количественные"
   ]
  },
  {
   "cell_type": "code",
   "execution_count": 69,
   "metadata": {},
   "outputs": [
    {
     "data": {
      "text/plain": [
       "Index(['car_url', 'engineDisplacement', 'enginePower', 'equipment_dict',\n",
       "       'mileage', 'modelDate', 'productionDate', 'offerprice'],\n",
       "      dtype='object')"
      ]
     },
     "execution_count": 69,
     "metadata": {},
     "output_type": "execute_result"
    }
   ],
   "source": [
    "num_cols"
   ]
  },
  {
   "cell_type": "code",
   "execution_count": 140,
   "metadata": {},
   "outputs": [],
   "source": [
    "def num_visualisation(column,df,logflag=False):\n",
    "    '''\n",
    "    Визулизация распределения количественного ризнака:\n",
    "        - гистограмма распределения в обучающей выборке при двух значениях целевой переменной\n",
    "        - boxplot распределения в обучающей выборке при двух значениях целевой переменной\n",
    "        - гистограмма рапсределения в обучающей и валидационной выборке\n",
    "        - boxplot рапсределения в обучающей и валидационной выборке\n",
    "    '''\n",
    "\n",
    "    trn = df[df['sample']==1]\n",
    "    tst = df[df['sample']==0]\n",
    "    tst_brands = tst.brand.unique()\n",
    "    brand_mask = [x in tst_brands for x in trn.brand]\n",
    "    trn_ = trn[brand_mask]\n",
    "\n",
    "    row_trn = trn[num_column]\n",
    "    row_tst = tst[num_column]\n",
    "    row_trn_ = trn_[num_column]\n",
    "\n",
    "    if logflag: \n",
    "        row_trn = np.log(row_trn+1)\n",
    "        row_tst = np.log(row_tst+1)\n",
    "        row_trn_ = np.log(row_trn_+1)\n",
    "    \n",
    "    fig = plt.figure(figsize=(14,4))\n",
    "#*******************************************************************\n",
    "    ax1 = fig.add_axes([0, 0.4, 0.45, 1])\n",
    "    plt.title('Распределение '+num_column+' в train (на всех марках) и в test' )\n",
    "    row_trn.plot.hist(bins=50,density=True,alpha = 0.65)\n",
    "    row_tst.plot.hist(bins=50,density=True,alpha = 0.65)\n",
    "    plt.legend(['train','test']) \n",
    "#*******************************************************************\n",
    "    ax2 = fig.add_axes([0, 0, 0.45, 0.30]) \n",
    "    \n",
    "    sns.boxplot(data = [row_trn,row_tst],orient='h',saturation = 0.5)\n",
    "\n",
    "#*******************************************************************\n",
    "    ax3 = fig.add_axes([0.55, 0.4, 0.45, 1])\n",
    "    plt.title('Распределение '+num_column+' в train (только на марках из test) и в test' )\n",
    "    row_trn_.plot.hist(bins=50,density=True,alpha = 0.65)\n",
    "    row_tst.plot.hist(bins=50,density=True,alpha = 0.65)\n",
    "    plt.legend(['train','test']) \n",
    "#*******************************************************************\n",
    "    ax4 = fig.add_axes([0.55, 0, 0.45, 0.30]) \n",
    "\n",
    "    sns.boxplot(data = [row_trn_,row_tst],orient='h',saturation = 0.5)"
   ]
  },
  {
   "cell_type": "code",
   "execution_count": 170,
   "metadata": {},
   "outputs": [],
   "source": [
    "def nums_visualisation(df,annotation=False):\n",
    "    '''\n",
    "    визуализация распределений количественных признаков: \\n\n",
    "        - гисторгамма распределения \\n\n",
    "        - boxplot распределения\n",
    "    '''\n",
    "    columns = df.columns\n",
    "    cols_num = df.shape[1]\n",
    "\n",
    "    fstr = '\\033[1m{}\\033[0m, '* (len(columns)-1) + '\\033[1m{}\\033[0m'\n",
    "    if annotation: print(('Всего признаков этого типа {}.\\nК ним относятся: ' + fstr).format(len(columns),*columns))\n",
    "        \n",
    "    indent = 0.05\n",
    "    fig = plt.figure(figsize=(14,3))\n",
    "    for i,col in enumerate(columns):\n",
    "        row = df[col]\n",
    "        min_diff = pd.Series(row.unique()).sort_values().diff().min()\n",
    "        bins = min(int((row.max()-row.min()) /min_diff + 1),100)\n",
    "        \n",
    "        fig.add_axes([1/cols_num*i, 0.35, 1/cols_num-indent, 1])\n",
    "        plt.title(col)\n",
    "        row.plot.hist(bins=bins,density=True)\n",
    "    \n",
    "        fig.add_axes([1/cols_num*i, 0, 1/cols_num-indent, 0.2])\n",
    "        sns.boxplot(x=row)\n",
    "\n",
    "#     plt.tight_layout()\n"
   ]
  },
  {
   "cell_type": "code",
   "execution_count": 171,
   "metadata": {},
   "outputs": [
    {
     "name": "stdout",
     "output_type": "stream",
     "text": [
      "Всего признаков этого типа 7.\n",
      "К ним относятся: \u001b[1mengineDisplacement\u001b[0m, \u001b[1menginePower\u001b[0m, \u001b[1mequipment_dict\u001b[0m, \u001b[1mmileage\u001b[0m, \u001b[1mmodelDate\u001b[0m, \u001b[1mproductionDate\u001b[0m, \u001b[1mofferprice\u001b[0m\n"
     ]
    },
    {
     "data": {
      "image/png": "[encoded data removed]",
      "text/plain": [
       "<Figure size 1008x216 with 14 Axes>"
      ]
     },
     "metadata": {},
     "output_type": "display_data"
    }
   ],
   "source": [
    "nums_visualisation(data[num_cols].drop(columns='car_url'), annotation=True)"
   ]
  },
  {
   "cell_type": "code",
   "execution_count": 141,
   "metadata": {},
   "outputs": [
    {
     "data": {
      "image/png": "[encoded data removed]",
      "text/plain": [
       "<Figure size 1008x288 with 4 Axes>"
      ]
     },
     "metadata": {},
     "output_type": "display_data"
    }
   ],
   "source": [
    "num_visualisation('mileage',data)"
   ]
  },
  {
   "cell_type": "code",
   "execution_count": null,
   "metadata": {},
   "outputs": [],
   "source": []
  },
  {
   "cell_type": "code",
   "execution_count": 85,
   "metadata": {},
   "outputs": [
    {
     "data": {
      "text/plain": [
       "<matplotlib.axes._subplots.AxesSubplot at 0x11a45b38>"
      ]
     },
     "execution_count": 85,
     "metadata": {},
     "output_type": "execute_result"
    },
    {
     "data": {
      "image/png": "[encoded data removed]",
      "text/plain": [
       "<Figure size 1008x288 with 1 Axes>"
      ]
     },
     "metadata": {},
     "output_type": "display_data"
    }
   ],
   "source": [
    "fig = plt.figure(figsize=(14,4))\n",
    "row = data.offerprice\n",
    "row = np.log(row+1)\n",
    "row.plot.hist(bins=50,density=True,alpha = 0.65)"
   ]
  },
  {
   "cell_type": "markdown",
   "metadata": {},
   "source": [
    "категориальные"
   ]
  },
  {
   "cell_type": "code",
   "execution_count": 63,
   "metadata": {},
   "outputs": [
    {
     "data": {
      "text/plain": [
       "Index(['bodyType', 'color', 'fuelType', 'numberOfDoors', 'vehicleTransmission',\n",
       "       'vendor', 'Владельцы', 'Привод', 'model_name'],\n",
       "      dtype='object')"
      ]
     },
     "execution_count": 63,
     "metadata": {},
     "output_type": "execute_result"
    }
   ],
   "source": [
    "cat_cols"
   ]
  },
  {
   "cell_type": "code",
   "execution_count": null,
   "metadata": {},
   "outputs": [],
   "source": []
  },
  {
   "cell_type": "markdown",
   "metadata": {},
   "source": [
    "бинарные"
   ]
  },
  {
   "cell_type": "code",
   "execution_count": 64,
   "metadata": {},
   "outputs": [
    {
     "data": {
      "text/plain": [
       "Index(['ПТС', 'Руль', 'sample'], dtype='object')"
      ]
     },
     "execution_count": 64,
     "metadata": {},
     "output_type": "execute_result"
    }
   ],
   "source": [
    "bin_cols"
   ]
  },
  {
   "cell_type": "code",
   "execution_count": null,
   "metadata": {},
   "outputs": [],
   "source": []
  },
  {
   "cell_type": "markdown",
   "metadata": {},
   "source": [
    "sell_id"
   ]
  },
  {
   "cell_type": "code",
   "execution_count": 65,
   "metadata": {},
   "outputs": [
    {
     "data": {
      "text/plain": [
       "Index(['sell_id'], dtype='object')"
      ]
     },
     "execution_count": 65,
     "metadata": {},
     "output_type": "execute_result"
    }
   ],
   "source": [
    "time_col"
   ]
  },
  {
   "cell_type": "code",
   "execution_count": null,
   "metadata": {},
   "outputs": [],
   "source": []
  },
  {
   "cell_type": "markdown",
   "metadata": {},
   "source": [
    "## ===================================================================="
   ]
  },
  {
   "cell_type": "code",
   "execution_count": 1,
   "metadata": {},
   "outputs": [],
   "source": [
    "def df_describe(df):\n",
    "    '''\n",
    "    Вывод простой статистки DataFrame\n",
    "    '''\n",
    "    desc = df.describe(include='all',percentiles=[0.5]).T\n",
    "    desc['type'] = [type(x) for x in df.iloc[0]]\n",
    "    desc['NaN'] = df.isna().sum()\n",
    "    desc.unique = df.nunique()\n",
    "    desc.top = df.mode(axis=0).iloc[0]\n",
    "    desc.freq = [df[col].value_counts().iloc[0] for col in  df.columns]\n",
    "    return desc\n"
   ]
  },
  {
   "cell_type": "markdown",
   "metadata": {},
   "source": [
    "## ===================================================================="
   ]
  },
  {
   "cell_type": "markdown",
   "metadata": {},
   "source": [
    "## Предобработка"
   ]
  },
  {
   "cell_type": "code",
   "execution_count": null,
   "metadata": {},
   "outputs": [],
   "source": []
  },
  {
   "cell_type": "markdown",
   "metadata": {},
   "source": [
    "## Base-line"
   ]
  },
  {
   "cell_type": "code",
   "execution_count": null,
   "metadata": {},
   "outputs": [],
   "source": []
  },
  {
   "cell_type": "markdown",
   "metadata": {},
   "source": [
    "## Features construction"
   ]
  },
  {
   "cell_type": "code",
   "execution_count": null,
   "metadata": {},
   "outputs": [],
   "source": []
  },
  {
   "cell_type": "markdown",
   "metadata": {},
   "source": [
    "## Отбор признаков"
   ]
  },
  {
   "cell_type": "code",
   "execution_count": null,
   "metadata": {},
   "outputs": [],
   "source": []
  },
  {
   "cell_type": "markdown",
   "metadata": {},
   "source": [
    "## Подбор гиперпараметров"
   ]
  },
  {
   "cell_type": "code",
   "execution_count": null,
   "metadata": {},
   "outputs": [],
   "source": []
  },
  {
   "cell_type": "code",
   "execution_count": null,
   "metadata": {},
   "outputs": [],
   "source": []
  },
  {
   "cell_type": "code",
   "execution_count": null,
   "metadata": {},
   "outputs": [],
   "source": []
  },
  {
   "cell_type": "markdown",
   "metadata": {},
   "source": [
    "## ========================================================"
   ]
  },
  {
   "cell_type": "markdown",
   "metadata": {},
   "source": [
    "# Подвал"
   ]
  },
  {
   "cell_type": "code",
   "execution_count": null,
   "metadata": {},
   "outputs": [],
   "source": [
    "'''tt = df_test.complectation_dict[2]\n",
    "ttt = json.loads(tt)\n",
    "ttt['available_options']'''"
   ]
  },
  {
   "cell_type": "code",
   "execution_count": 60,
   "metadata": {},
   "outputs": [],
   "source": [
    "'''tmp = pd.read_csv(f'{path}all_marks.csv')\n",
    "tmp.columns =pd.Index(['bodyType', 'brand', 'car_url', 'color', 'engineDisplacement',\n",
    "       'enginePower', 'equipment_dict', 'fuelType', 'mileage', 'modelDate',\n",
    "       'model_name', 'numberOfDoors', 'productionDate', 'sell_id',\n",
    "       'vehicleTransmission', 'vendor', 'Владельцы', 'ПТС', 'Привод', 'Руль',\n",
    "       'offerprice'],\n",
    "      dtype='object')\n",
    "tmp.to_csv(f'{path}all_marks.csv',index=False)\n",
    "\n",
    "tmp = pd.read_csv(f'{path}extra_train.csv')\n",
    "tmp.columns =pd.Index(['bodyType', 'brand', 'car_url', 'color', 'engineDisplacement',\n",
    "       'enginePower', 'equipment_dict', 'fuelType', 'mileage', 'modelDate',\n",
    "       'model_name', 'numberOfDoors', 'productionDate', 'sell_id',\n",
    "       'vehicleTransmission', 'vendor', 'Владельцы', 'ПТС', 'Привод', 'Руль',\n",
    "       'offerprice'],\n",
    "      dtype='object')\n",
    "tmp.to_csv(f'{path}extra_train.csv',index=False)\n",
    "\n",
    "tmp = pd.read_csv(f'{path}train.csv')\n",
    "tmp.columns =pd.Index(['bodyType', 'brand', 'car_url', 'color', 'engineDisplacement',\n",
    "       'enginePower', 'equipment_dict', 'fuelType', 'mileage', 'modelDate',\n",
    "       'model_name', 'numberOfDoors', 'productionDate', 'sell_id',\n",
    "       'vehicleTransmission', 'vendor', 'Владельцы', 'ПТС', 'Привод', 'Руль',\n",
    "       'offerprice'],\n",
    "      dtype='object')\n",
    "tmp.to_csv(f'{path}train.csv',index=False)''';"
   ]
  },
  {
   "cell_type": "code",
   "execution_count": 61,
   "metadata": {},
   "outputs": [
    {
     "data": {
      "text/html": [
       "<div>\n",
       "<style scoped>\n",
       "    .dataframe tbody tr th:only-of-type {\n",
       "        vertical-align: middle;\n",
       "    }\n",
       "\n",
       "    .dataframe tbody tr th {\n",
       "        vertical-align: top;\n",
       "    }\n",
       "\n",
       "    .dataframe thead th {\n",
       "        text-align: right;\n",
       "    }\n",
       "</style>\n",
       "<table border=\"1\" class=\"dataframe\">\n",
       "  <thead>\n",
       "    <tr style=\"text-align: right;\">\n",
       "      <th></th>\n",
       "      <th>bodyType</th>\n",
       "      <th>brand</th>\n",
       "      <th>car_url</th>\n",
       "      <th>color</th>\n",
       "      <th>engineDisplacement</th>\n",
       "      <th>enginePower</th>\n",
       "      <th>equipment_dict</th>\n",
       "      <th>fuelType</th>\n",
       "      <th>mileage</th>\n",
       "      <th>modelDate</th>\n",
       "      <th>model_name</th>\n",
       "      <th>numberOfDoors</th>\n",
       "      <th>productionDate</th>\n",
       "      <th>sell_id</th>\n",
       "      <th>vehicleTransmission</th>\n",
       "      <th>vendor</th>\n",
       "      <th>Владельцы</th>\n",
       "      <th>ПТС</th>\n",
       "      <th>Привод</th>\n",
       "      <th>Руль</th>\n",
       "    </tr>\n",
       "  </thead>\n",
       "  <tbody>\n",
       "    <tr>\n",
       "      <td>0</td>\n",
       "      <td>лифтбек</td>\n",
       "      <td>SKODA</td>\n",
       "      <td>https://auto.ru/cars/used/sale/skoda/octavia/1...</td>\n",
       "      <td>синий</td>\n",
       "      <td>1.2</td>\n",
       "      <td>105</td>\n",
       "      <td>{\"engine-proof\":true,\"tinted-glass\":true,\"airb...</td>\n",
       "      <td>бензин</td>\n",
       "      <td>74000</td>\n",
       "      <td>2013</td>\n",
       "      <td>OCTAVIA</td>\n",
       "      <td>5</td>\n",
       "      <td>2014</td>\n",
       "      <td>1100575026</td>\n",
       "      <td>роботизированная</td>\n",
       "      <td>EUROPEAN</td>\n",
       "      <td>3 или более</td>\n",
       "      <td>Оригинал</td>\n",
       "      <td>передний</td>\n",
       "      <td>Левый</td>\n",
       "    </tr>\n",
       "    <tr>\n",
       "      <td>1</td>\n",
       "      <td>лифтбек</td>\n",
       "      <td>SKODA</td>\n",
       "      <td>https://auto.ru/cars/used/sale/skoda/octavia/1...</td>\n",
       "      <td>чёрный</td>\n",
       "      <td>1.6</td>\n",
       "      <td>110</td>\n",
       "      <td>{\"cruise-control\":true,\"asr\":true,\"esp\":true,\"...</td>\n",
       "      <td>бензин</td>\n",
       "      <td>60563</td>\n",
       "      <td>2017</td>\n",
       "      <td>OCTAVIA</td>\n",
       "      <td>5</td>\n",
       "      <td>2017</td>\n",
       "      <td>1100549428</td>\n",
       "      <td>механическая</td>\n",
       "      <td>EUROPEAN</td>\n",
       "      <td>1 владелец</td>\n",
       "      <td>Оригинал</td>\n",
       "      <td>передний</td>\n",
       "      <td>Левый</td>\n",
       "    </tr>\n",
       "    <tr>\n",
       "      <td>2</td>\n",
       "      <td>лифтбек</td>\n",
       "      <td>SKODA</td>\n",
       "      <td>https://auto.ru/cars/used/sale/skoda/superb/11...</td>\n",
       "      <td>серый</td>\n",
       "      <td>1.8</td>\n",
       "      <td>152</td>\n",
       "      <td>{\"cruise-control\":true,\"tinted-glass\":true,\"es...</td>\n",
       "      <td>бензин</td>\n",
       "      <td>88000</td>\n",
       "      <td>2013</td>\n",
       "      <td>SUPERB</td>\n",
       "      <td>5</td>\n",
       "      <td>2014</td>\n",
       "      <td>1100658222</td>\n",
       "      <td>роботизированная</td>\n",
       "      <td>EUROPEAN</td>\n",
       "      <td>1 владелец</td>\n",
       "      <td>Оригинал</td>\n",
       "      <td>передний</td>\n",
       "      <td>Левый</td>\n",
       "    </tr>\n",
       "    <tr>\n",
       "      <td>3</td>\n",
       "      <td>лифтбек</td>\n",
       "      <td>SKODA</td>\n",
       "      <td>https://auto.ru/cars/used/sale/skoda/octavia/1...</td>\n",
       "      <td>коричневый</td>\n",
       "      <td>1.6</td>\n",
       "      <td>110</td>\n",
       "      <td>{\"cruise-control\":true,\"roller-blind-for-rear-...</td>\n",
       "      <td>бензин</td>\n",
       "      <td>95000</td>\n",
       "      <td>2013</td>\n",
       "      <td>OCTAVIA</td>\n",
       "      <td>5</td>\n",
       "      <td>2014</td>\n",
       "      <td>1100937408</td>\n",
       "      <td>автоматическая</td>\n",
       "      <td>EUROPEAN</td>\n",
       "      <td>1 владелец</td>\n",
       "      <td>Оригинал</td>\n",
       "      <td>передний</td>\n",
       "      <td>Левый</td>\n",
       "    </tr>\n",
       "    <tr>\n",
       "      <td>4</td>\n",
       "      <td>лифтбек</td>\n",
       "      <td>SKODA</td>\n",
       "      <td>https://auto.ru/cars/used/sale/skoda/octavia/1...</td>\n",
       "      <td>белый</td>\n",
       "      <td>1.8</td>\n",
       "      <td>152</td>\n",
       "      <td>{\"cruise-control\":true,\"asr\":true,\"esp\":true,\"...</td>\n",
       "      <td>бензин</td>\n",
       "      <td>58536</td>\n",
       "      <td>2008</td>\n",
       "      <td>OCTAVIA</td>\n",
       "      <td>5</td>\n",
       "      <td>2012</td>\n",
       "      <td>1101037972</td>\n",
       "      <td>автоматическая</td>\n",
       "      <td>EUROPEAN</td>\n",
       "      <td>1 владелец</td>\n",
       "      <td>Оригинал</td>\n",
       "      <td>передний</td>\n",
       "      <td>Левый</td>\n",
       "    </tr>\n",
       "  </tbody>\n",
       "</table>\n",
       "</div>"
      ],
      "text/plain": [
       "  bodyType  brand                                            car_url  \\\n",
       "0  лифтбек  SKODA  https://auto.ru/cars/used/sale/skoda/octavia/1...   \n",
       "1  лифтбек  SKODA  https://auto.ru/cars/used/sale/skoda/octavia/1...   \n",
       "2  лифтбек  SKODA  https://auto.ru/cars/used/sale/skoda/superb/11...   \n",
       "3  лифтбек  SKODA  https://auto.ru/cars/used/sale/skoda/octavia/1...   \n",
       "4  лифтбек  SKODA  https://auto.ru/cars/used/sale/skoda/octavia/1...   \n",
       "\n",
       "        color  engineDisplacement  enginePower  \\\n",
       "0       синий                 1.2          105   \n",
       "1      чёрный                 1.6          110   \n",
       "2       серый                 1.8          152   \n",
       "3  коричневый                 1.6          110   \n",
       "4       белый                 1.8          152   \n",
       "\n",
       "                                      equipment_dict fuelType  mileage  \\\n",
       "0  {\"engine-proof\":true,\"tinted-glass\":true,\"airb...   бензин    74000   \n",
       "1  {\"cruise-control\":true,\"asr\":true,\"esp\":true,\"...   бензин    60563   \n",
       "2  {\"cruise-control\":true,\"tinted-glass\":true,\"es...   бензин    88000   \n",
       "3  {\"cruise-control\":true,\"roller-blind-for-rear-...   бензин    95000   \n",
       "4  {\"cruise-control\":true,\"asr\":true,\"esp\":true,\"...   бензин    58536   \n",
       "\n",
       "   modelDate model_name  numberOfDoors  productionDate     sell_id  \\\n",
       "0       2013    OCTAVIA              5            2014  1100575026   \n",
       "1       2017    OCTAVIA              5            2017  1100549428   \n",
       "2       2013     SUPERB              5            2014  1100658222   \n",
       "3       2013    OCTAVIA              5            2014  1100937408   \n",
       "4       2008    OCTAVIA              5            2012  1101037972   \n",
       "\n",
       "  vehicleTransmission    vendor    Владельцы       ПТС    Привод   Руль  \n",
       "0    роботизированная  EUROPEAN  3 или более  Оригинал  передний  Левый  \n",
       "1        механическая  EUROPEAN   1 владелец  Оригинал  передний  Левый  \n",
       "2    роботизированная  EUROPEAN   1 владелец  Оригинал  передний  Левый  \n",
       "3      автоматическая  EUROPEAN   1 владелец  Оригинал  передний  Левый  \n",
       "4      автоматическая  EUROPEAN   1 владелец  Оригинал  передний  Левый  "
      ]
     },
     "execution_count": 61,
     "metadata": {},
     "output_type": "execute_result"
    }
   ],
   "source": [
    "unification_test(test).head()\n",
    "\n",
    "unification_train(train).head()"
   ]
  },
  {
   "cell_type": "code",
   "execution_count": 187,
   "metadata": {},
   "outputs": [],
   "source": [
    "ttt = [['2'],['2']]\n",
    "ttt.append([])\n",
    "\n",
    "sum()"
   ]
  },
  {
   "cell_type": "code",
   "execution_count": 189,
   "metadata": {},
   "outputs": [
    {
     "data": {
      "text/plain": [
       "[['2'], ['2'], []]"
      ]
     },
     "execution_count": 189,
     "metadata": {},
     "output_type": "execute_result"
    }
   ],
   "source": [
    "ttt"
   ]
  },
  {
   "cell_type": "code",
   "execution_count": null,
   "metadata": {},
   "outputs": [],
   "source": []
  },
  {
   "cell_type": "code",
   "execution_count": 126,
   "metadata": {},
   "outputs": [
    {
     "data": {
      "text/plain": [
       "<matplotlib.axes._subplots.AxesSubplot at 0x1d759b38>"
      ]
     },
     "execution_count": 126,
     "metadata": {},
     "output_type": "execute_result"
    },
    {
     "data": {
      "image/png": "[encoded data removed]",
      "text/plain": [
       "<Figure size 1008x288 with 1 Axes>"
      ]
     },
     "metadata": {},
     "output_type": "display_data"
    },
    {
     "data": {
      "image/png": "[encoded data removed]",
      "text/plain": [
       "<Figure size 1008x288 with 1 Axes>"
      ]
     },
     "metadata": {},
     "output_type": "display_data"
    }
   ],
   "source": [
    "num_column = 'enginePower'\n",
    "logflag = 0\n",
    "\n",
    "\n",
    "trn = data[data['sample']==1]\n",
    "tst = data[data['sample']==0]\n",
    "trn_ = trn[brand_mask]\n",
    "\n",
    "row_trn = trn[num_column]\n",
    "row_tst = tst[num_column]\n",
    "row_trn_ = trn_[num_column]\n",
    "\n",
    "if logflag: \n",
    "    row_trn = np.log(row_trn+1)\n",
    "    row_tst = np.log(row_tst+1)\n",
    "    row_trn_ = np.log(row_trn_+1)\n",
    "\n",
    "#*******************************************************************\n",
    "fig = plt.figure(figsize=(14,4))\n",
    "    \n",
    "sns.boxplot(data = [row_trn,row_tst],orient='h',saturation = 0.5)\n",
    "#*******************************************************************\n",
    "fig = plt.figure(figsize=(14,4))\n",
    "\n",
    "sns.boxplot(data = [row_trn_,row_tst],orient='h',saturation = 0.5)"
   ]
  }
 ],
 "metadata": {
  "kernelspec": {
   "display_name": "Python 3",
   "language": "python",
   "name": "python3"
  },
  "language_info": {
   "codemirror_mode": {
    "name": "ipython",
    "version": 3
   },
   "file_extension": ".py",
   "mimetype": "text/x-python",
   "name": "python",
   "nbconvert_exporter": "python",
   "pygments_lexer": "ipython3",
   "version": "3.6.5"
  }
 },
 "nbformat": 4,
 "nbformat_minor": 2
}
