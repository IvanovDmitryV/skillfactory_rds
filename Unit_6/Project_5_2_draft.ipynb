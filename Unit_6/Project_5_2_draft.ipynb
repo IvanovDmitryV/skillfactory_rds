{
 "cells": [
  {
   "cell_type": "markdown",
   "metadata": {},
   "source": [
    "# Описание задачи\n",
    "## В задачи пректа входит:\n",
    "- Нахождение данных для обученяи модели: парсинг и/или иные источники;\n",
    "- Предобработка полученных данных\n",
    "- Создание новых признаков с использованием полученных данных;\n",
    "- Отбор признаков;\n",
    "- Отбор моделей;\n",
    "- Обучение и тестирование отобранных моделей на отобранных признаках;\n",
    "- Подбор макропараметров модели на отобранных признаках;\n",
    "- Получение предсказанных моделью значений, подготовка и отправка submission\n",
    "\n",
    "# Импорт библиотек, установка параметров, определение функций\n",
    "## Импорт бибилиотек"
   ]
  },
  {
   "cell_type": "code",
   "execution_count": 1,
   "metadata": {},
   "outputs": [],
   "source": [
    "import pandas as pd\n",
    "import numpy as np\n",
    "import json \n",
    "from datetime import datetime\n",
    "from datetime import date\n",
    "\n",
    "from pprint import pprint\n",
    "\n",
    "import warnings\n",
    "import os"
   ]
  },
  {
   "cell_type": "markdown",
   "metadata": {},
   "source": [
    "## Установка параметров"
   ]
  },
  {
   "cell_type": "code",
   "execution_count": 2,
   "metadata": {},
   "outputs": [
    {
     "name": "stdout",
     "output_type": "stream",
     "text": [
      "Populating the interactive namespace from numpy and matplotlib\n"
     ]
    },
    {
     "name": "stderr",
     "output_type": "stream",
     "text": [
      "C:\\Users\\GANSOR-PC\\Anaconda3\\lib\\site-packages\\IPython\\core\\magics\\pylab.py:160: UserWarning: pylab import has clobbered these variables: ['datetime']\n",
      "`%matplotlib` prevents importing * from pylab and numpy\n",
      "  \"\\n`%matplotlib` prevents importing * from pylab and numpy\"\n"
     ]
    }
   ],
   "source": [
    "%pylab inline\n",
    "\n",
    "warnings.filterwarnings(\"ignore\")\n",
    "\n",
    "pd.set_option('display.max_rows', 70)    # выведем больше строк\n",
    "pd.set_option('display.max_columns', 30) # выведем больше колонок\n",
    "\n",
    "# альтернативные пути для kaggle и локальный (НЕ ЗАБЫВАТЬ МЕНЯТЬ!)\n",
    "path = './Project_5_data/'\n",
    "# path = '/kaggle/input/.....'\n",
    "\n",
    "# фиксация randomstate\n",
    "RANDOM_SEED = 42"
   ]
  },
  {
   "cell_type": "markdown",
   "metadata": {},
   "source": [
    "## Определение функций"
   ]
  },
  {
   "cell_type": "code",
   "execution_count": 3,
   "metadata": {},
   "outputs": [],
   "source": [
    "def describe_df(df):\n",
    "    '''\n",
    "    Вывод простой статистки DataFrame\n",
    "    '''\n",
    "    desc = df.describe(include='all',percentiles=[0.5]).drop(index=['mean','std','50%']).T \n",
    "    desc['type'] = [type(x) for x in df.iloc[0]]\n",
    "    desc['NaN_prop'] = round(df.isna().sum()/len(df),3)\n",
    "    desc.unique = df.nunique()\n",
    "    desc.top = df.mode(axis=0).iloc[0]\n",
    "    desc.top = [str(x)[:30] for x in df.mode(axis=0).iloc[0]]\n",
    "\n",
    "    desc.freq = [df[col].value_counts().iloc[0] for col in  df.columns]\n",
    "    \n",
    "    return desc\n",
    "\n",
    "def cat_visualisation():\n",
    "    pass\n",
    "\n",
    "def num_visualisation():\n",
    "    pass"
   ]
  },
  {
   "cell_type": "markdown",
   "metadata": {},
   "source": [
    "# Изучение  валидационных данных \n",
    "\n",
    "Что бы понимать какие признаки нам нужны для обучения модели нам необходимо узнать какие признаки описывают наблюдения, для которых мы должны предсказать целевую переменную.  \n",
    "\n",
    "Поэтому для начала исследуем набор данных эти наблюдения описывающие."
   ]
  },
  {
   "cell_type": "code",
   "execution_count": 4,
   "metadata": {
    "scrolled": false
   },
   "outputs": [],
   "source": [
    "df_test = pd.read_csv(f'{path}test.csv')"
   ]
  },
  {
   "cell_type": "markdown",
   "metadata": {},
   "source": [
    "### Общий обзор"
   ]
  },
  {
   "cell_type": "code",
   "execution_count": 5,
   "metadata": {},
   "outputs": [
    {
     "name": "stdout",
     "output_type": "stream",
     "text": [
      "<class 'pandas.core.frame.DataFrame'>\n",
      "RangeIndex: 34686 entries, 0 to 34685\n",
      "Columns: 32 entries, bodyType to Таможня\n",
      "dtypes: int64(6), object(26)\n",
      "memory usage: 8.5+ MB\n"
     ]
    }
   ],
   "source": [
    "df_test.info(verbose=False)"
   ]
  },
  {
   "cell_type": "code",
   "execution_count": 6,
   "metadata": {},
   "outputs": [
    {
     "data": {
      "text/html": [
       "<div>\n",
       "<style scoped>\n",
       "    .dataframe tbody tr th:only-of-type {\n",
       "        vertical-align: middle;\n",
       "    }\n",
       "\n",
       "    .dataframe tbody tr th {\n",
       "        vertical-align: top;\n",
       "    }\n",
       "\n",
       "    .dataframe thead th {\n",
       "        text-align: right;\n",
       "    }\n",
       "</style>\n",
       "<table border=\"1\" class=\"dataframe\">\n",
       "  <thead>\n",
       "    <tr style=\"text-align: right;\">\n",
       "      <th></th>\n",
       "      <th>count</th>\n",
       "      <th>unique</th>\n",
       "      <th>top</th>\n",
       "      <th>freq</th>\n",
       "      <th>min</th>\n",
       "      <th>max</th>\n",
       "      <th>type</th>\n",
       "      <th>NaN_prop</th>\n",
       "    </tr>\n",
       "  </thead>\n",
       "  <tbody>\n",
       "    <tr>\n",
       "      <td>bodyType</td>\n",
       "      <td>34686</td>\n",
       "      <td>24</td>\n",
       "      <td>седан</td>\n",
       "      <td>13147</td>\n",
       "      <td>NaN</td>\n",
       "      <td>NaN</td>\n",
       "      <td>&lt;class 'str'&gt;</td>\n",
       "      <td>0.000</td>\n",
       "    </tr>\n",
       "    <tr>\n",
       "      <td>brand</td>\n",
       "      <td>34686</td>\n",
       "      <td>12</td>\n",
       "      <td>BMW</td>\n",
       "      <td>4473</td>\n",
       "      <td>NaN</td>\n",
       "      <td>NaN</td>\n",
       "      <td>&lt;class 'str'&gt;</td>\n",
       "      <td>0.000</td>\n",
       "    </tr>\n",
       "    <tr>\n",
       "      <td>car_url</td>\n",
       "      <td>34686</td>\n",
       "      <td>34686</td>\n",
       "      <td>https://auto.ru/cars/used/sale</td>\n",
       "      <td>1</td>\n",
       "      <td>NaN</td>\n",
       "      <td>NaN</td>\n",
       "      <td>&lt;class 'str'&gt;</td>\n",
       "      <td>0.000</td>\n",
       "    </tr>\n",
       "    <tr>\n",
       "      <td>color</td>\n",
       "      <td>34686</td>\n",
       "      <td>16</td>\n",
       "      <td>чёрный</td>\n",
       "      <td>11010</td>\n",
       "      <td>NaN</td>\n",
       "      <td>NaN</td>\n",
       "      <td>&lt;class 'str'&gt;</td>\n",
       "      <td>0.000</td>\n",
       "    </tr>\n",
       "    <tr>\n",
       "      <td>complectation_dict</td>\n",
       "      <td>6418</td>\n",
       "      <td>2364</td>\n",
       "      <td>{\"id\":\"4562904\",\"name\":\"Elegan</td>\n",
       "      <td>51</td>\n",
       "      <td>NaN</td>\n",
       "      <td>NaN</td>\n",
       "      <td>&lt;class 'float'&gt;</td>\n",
       "      <td>0.815</td>\n",
       "    </tr>\n",
       "    <tr>\n",
       "      <td>description</td>\n",
       "      <td>34686</td>\n",
       "      <td>31732</td>\n",
       "      <td>Выгода до 82 000 руб. при обме</td>\n",
       "      <td>264</td>\n",
       "      <td>NaN</td>\n",
       "      <td>NaN</td>\n",
       "      <td>&lt;class 'str'&gt;</td>\n",
       "      <td>0.000</td>\n",
       "    </tr>\n",
       "    <tr>\n",
       "      <td>engineDisplacement</td>\n",
       "      <td>34686</td>\n",
       "      <td>55</td>\n",
       "      <td>2.0 LTR</td>\n",
       "      <td>7391</td>\n",
       "      <td>NaN</td>\n",
       "      <td>NaN</td>\n",
       "      <td>&lt;class 'str'&gt;</td>\n",
       "      <td>0.000</td>\n",
       "    </tr>\n",
       "    <tr>\n",
       "      <td>enginePower</td>\n",
       "      <td>34686</td>\n",
       "      <td>315</td>\n",
       "      <td>249 N12</td>\n",
       "      <td>1708</td>\n",
       "      <td>NaN</td>\n",
       "      <td>NaN</td>\n",
       "      <td>&lt;class 'str'&gt;</td>\n",
       "      <td>0.000</td>\n",
       "    </tr>\n",
       "    <tr>\n",
       "      <td>equipment_dict</td>\n",
       "      <td>24690</td>\n",
       "      <td>23705</td>\n",
       "      <td>{\"leather\":true}</td>\n",
       "      <td>108</td>\n",
       "      <td>NaN</td>\n",
       "      <td>NaN</td>\n",
       "      <td>&lt;class 'str'&gt;</td>\n",
       "      <td>0.288</td>\n",
       "    </tr>\n",
       "    <tr>\n",
       "      <td>fuelType</td>\n",
       "      <td>34686</td>\n",
       "      <td>5</td>\n",
       "      <td>бензин</td>\n",
       "      <td>28601</td>\n",
       "      <td>NaN</td>\n",
       "      <td>NaN</td>\n",
       "      <td>&lt;class 'str'&gt;</td>\n",
       "      <td>0.000</td>\n",
       "    </tr>\n",
       "    <tr>\n",
       "      <td>image</td>\n",
       "      <td>34686</td>\n",
       "      <td>34557</td>\n",
       "      <td>https://avatars.mds.yandex.net</td>\n",
       "      <td>13</td>\n",
       "      <td>NaN</td>\n",
       "      <td>NaN</td>\n",
       "      <td>&lt;class 'str'&gt;</td>\n",
       "      <td>0.000</td>\n",
       "    </tr>\n",
       "    <tr>\n",
       "      <td>mileage</td>\n",
       "      <td>34686</td>\n",
       "      <td>11268</td>\n",
       "      <td>200000.0</td>\n",
       "      <td>436</td>\n",
       "      <td>1</td>\n",
       "      <td>1e+06</td>\n",
       "      <td>&lt;class 'numpy.int64'&gt;</td>\n",
       "      <td>0.000</td>\n",
       "    </tr>\n",
       "    <tr>\n",
       "      <td>modelDate</td>\n",
       "      <td>34686</td>\n",
       "      <td>66</td>\n",
       "      <td>2010.0</td>\n",
       "      <td>2503</td>\n",
       "      <td>1904</td>\n",
       "      <td>2020</td>\n",
       "      <td>&lt;class 'numpy.int64'&gt;</td>\n",
       "      <td>0.000</td>\n",
       "    </tr>\n",
       "    <tr>\n",
       "      <td>model_info</td>\n",
       "      <td>34686</td>\n",
       "      <td>954</td>\n",
       "      <td>{\"code\":\"OCTAVIA\",\"name\":\"Octa</td>\n",
       "      <td>1404</td>\n",
       "      <td>NaN</td>\n",
       "      <td>NaN</td>\n",
       "      <td>&lt;class 'str'&gt;</td>\n",
       "      <td>0.000</td>\n",
       "    </tr>\n",
       "    <tr>\n",
       "      <td>model_name</td>\n",
       "      <td>34686</td>\n",
       "      <td>544</td>\n",
       "      <td>OCTAVIA</td>\n",
       "      <td>1418</td>\n",
       "      <td>NaN</td>\n",
       "      <td>NaN</td>\n",
       "      <td>&lt;class 'str'&gt;</td>\n",
       "      <td>0.000</td>\n",
       "    </tr>\n",
       "    <tr>\n",
       "      <td>name</td>\n",
       "      <td>34686</td>\n",
       "      <td>2780</td>\n",
       "      <td>1.6 AT (110 л.с.)</td>\n",
       "      <td>631</td>\n",
       "      <td>NaN</td>\n",
       "      <td>NaN</td>\n",
       "      <td>&lt;class 'str'&gt;</td>\n",
       "      <td>0.000</td>\n",
       "    </tr>\n",
       "    <tr>\n",
       "      <td>numberOfDoors</td>\n",
       "      <td>34686</td>\n",
       "      <td>5</td>\n",
       "      <td>5.0</td>\n",
       "      <td>18703</td>\n",
       "      <td>0</td>\n",
       "      <td>5</td>\n",
       "      <td>&lt;class 'numpy.int64'&gt;</td>\n",
       "      <td>0.000</td>\n",
       "    </tr>\n",
       "    <tr>\n",
       "      <td>parsing_unixtime</td>\n",
       "      <td>34686</td>\n",
       "      <td>34686</td>\n",
       "      <td>1603107306</td>\n",
       "      <td>1</td>\n",
       "      <td>1.60311e+09</td>\n",
       "      <td>1.60371e+09</td>\n",
       "      <td>&lt;class 'numpy.int64'&gt;</td>\n",
       "      <td>0.000</td>\n",
       "    </tr>\n",
       "    <tr>\n",
       "      <td>priceCurrency</td>\n",
       "      <td>34686</td>\n",
       "      <td>1</td>\n",
       "      <td>RUB</td>\n",
       "      <td>34686</td>\n",
       "      <td>NaN</td>\n",
       "      <td>NaN</td>\n",
       "      <td>&lt;class 'str'&gt;</td>\n",
       "      <td>0.000</td>\n",
       "    </tr>\n",
       "    <tr>\n",
       "      <td>productionDate</td>\n",
       "      <td>34686</td>\n",
       "      <td>69</td>\n",
       "      <td>2012.0</td>\n",
       "      <td>2798</td>\n",
       "      <td>1904</td>\n",
       "      <td>2020</td>\n",
       "      <td>&lt;class 'numpy.int64'&gt;</td>\n",
       "      <td>0.000</td>\n",
       "    </tr>\n",
       "    <tr>\n",
       "      <td>sell_id</td>\n",
       "      <td>34686</td>\n",
       "      <td>34686</td>\n",
       "      <td>2665</td>\n",
       "      <td>1</td>\n",
       "      <td>2665</td>\n",
       "      <td>1.10137e+09</td>\n",
       "      <td>&lt;class 'numpy.int64'&gt;</td>\n",
       "      <td>0.000</td>\n",
       "    </tr>\n",
       "    <tr>\n",
       "      <td>super_gen</td>\n",
       "      <td>34686</td>\n",
       "      <td>5890</td>\n",
       "      <td>{\"id\":\"6214876\",\"displacement\"</td>\n",
       "      <td>193</td>\n",
       "      <td>NaN</td>\n",
       "      <td>NaN</td>\n",
       "      <td>&lt;class 'str'&gt;</td>\n",
       "      <td>0.000</td>\n",
       "    </tr>\n",
       "    <tr>\n",
       "      <td>vehicleConfiguration</td>\n",
       "      <td>34686</td>\n",
       "      <td>634</td>\n",
       "      <td>ALLROAD_5_DOORS AUTOMATIC 3.0</td>\n",
       "      <td>2389</td>\n",
       "      <td>NaN</td>\n",
       "      <td>NaN</td>\n",
       "      <td>&lt;class 'str'&gt;</td>\n",
       "      <td>0.000</td>\n",
       "    </tr>\n",
       "    <tr>\n",
       "      <td>vehicleTransmission</td>\n",
       "      <td>34686</td>\n",
       "      <td>4</td>\n",
       "      <td>автоматическая</td>\n",
       "      <td>19596</td>\n",
       "      <td>NaN</td>\n",
       "      <td>NaN</td>\n",
       "      <td>&lt;class 'str'&gt;</td>\n",
       "      <td>0.000</td>\n",
       "    </tr>\n",
       "    <tr>\n",
       "      <td>vendor</td>\n",
       "      <td>34686</td>\n",
       "      <td>2</td>\n",
       "      <td>EUROPEAN</td>\n",
       "      <td>20682</td>\n",
       "      <td>NaN</td>\n",
       "      <td>NaN</td>\n",
       "      <td>&lt;class 'str'&gt;</td>\n",
       "      <td>0.000</td>\n",
       "    </tr>\n",
       "    <tr>\n",
       "      <td>Владельцы</td>\n",
       "      <td>34686</td>\n",
       "      <td>3</td>\n",
       "      <td>3 или более</td>\n",
       "      <td>15957</td>\n",
       "      <td>NaN</td>\n",
       "      <td>NaN</td>\n",
       "      <td>&lt;class 'str'&gt;</td>\n",
       "      <td>0.000</td>\n",
       "    </tr>\n",
       "    <tr>\n",
       "      <td>Владение</td>\n",
       "      <td>11995</td>\n",
       "      <td>275</td>\n",
       "      <td>1 год и 10 месяцев</td>\n",
       "      <td>209</td>\n",
       "      <td>NaN</td>\n",
       "      <td>NaN</td>\n",
       "      <td>&lt;class 'float'&gt;</td>\n",
       "      <td>0.654</td>\n",
       "    </tr>\n",
       "    <tr>\n",
       "      <td>ПТС</td>\n",
       "      <td>34685</td>\n",
       "      <td>2</td>\n",
       "      <td>Оригинал</td>\n",
       "      <td>30098</td>\n",
       "      <td>NaN</td>\n",
       "      <td>NaN</td>\n",
       "      <td>&lt;class 'str'&gt;</td>\n",
       "      <td>0.000</td>\n",
       "    </tr>\n",
       "    <tr>\n",
       "      <td>Привод</td>\n",
       "      <td>34686</td>\n",
       "      <td>3</td>\n",
       "      <td>передний</td>\n",
       "      <td>15565</td>\n",
       "      <td>NaN</td>\n",
       "      <td>NaN</td>\n",
       "      <td>&lt;class 'str'&gt;</td>\n",
       "      <td>0.000</td>\n",
       "    </tr>\n",
       "    <tr>\n",
       "      <td>Руль</td>\n",
       "      <td>34686</td>\n",
       "      <td>2</td>\n",
       "      <td>Левый</td>\n",
       "      <td>33287</td>\n",
       "      <td>NaN</td>\n",
       "      <td>NaN</td>\n",
       "      <td>&lt;class 'str'&gt;</td>\n",
       "      <td>0.000</td>\n",
       "    </tr>\n",
       "    <tr>\n",
       "      <td>Состояние</td>\n",
       "      <td>34686</td>\n",
       "      <td>1</td>\n",
       "      <td>Не требует ремонта</td>\n",
       "      <td>34686</td>\n",
       "      <td>NaN</td>\n",
       "      <td>NaN</td>\n",
       "      <td>&lt;class 'str'&gt;</td>\n",
       "      <td>0.000</td>\n",
       "    </tr>\n",
       "    <tr>\n",
       "      <td>Таможня</td>\n",
       "      <td>34686</td>\n",
       "      <td>1</td>\n",
       "      <td>Растаможен</td>\n",
       "      <td>34686</td>\n",
       "      <td>NaN</td>\n",
       "      <td>NaN</td>\n",
       "      <td>&lt;class 'str'&gt;</td>\n",
       "      <td>0.000</td>\n",
       "    </tr>\n",
       "  </tbody>\n",
       "</table>\n",
       "</div>"
      ],
      "text/plain": [
       "                      count  unique                             top   freq  \\\n",
       "bodyType              34686      24                           седан  13147   \n",
       "brand                 34686      12                             BMW   4473   \n",
       "car_url               34686   34686  https://auto.ru/cars/used/sale      1   \n",
       "color                 34686      16                          чёрный  11010   \n",
       "complectation_dict     6418    2364  {\"id\":\"4562904\",\"name\":\"Elegan     51   \n",
       "description           34686   31732  Выгода до 82 000 руб. при обме    264   \n",
       "engineDisplacement    34686      55                         2.0 LTR   7391   \n",
       "enginePower           34686     315                         249 N12   1708   \n",
       "equipment_dict        24690   23705                {\"leather\":true}    108   \n",
       "fuelType              34686       5                          бензин  28601   \n",
       "image                 34686   34557  https://avatars.mds.yandex.net     13   \n",
       "mileage               34686   11268                        200000.0    436   \n",
       "modelDate             34686      66                          2010.0   2503   \n",
       "model_info            34686     954  {\"code\":\"OCTAVIA\",\"name\":\"Octa   1404   \n",
       "model_name            34686     544                         OCTAVIA   1418   \n",
       "name                  34686    2780               1.6 AT (110 л.с.)    631   \n",
       "numberOfDoors         34686       5                             5.0  18703   \n",
       "parsing_unixtime      34686   34686                      1603107306      1   \n",
       "priceCurrency         34686       1                             RUB  34686   \n",
       "productionDate        34686      69                          2012.0   2798   \n",
       "sell_id               34686   34686                            2665      1   \n",
       "super_gen             34686    5890  {\"id\":\"6214876\",\"displacement\"    193   \n",
       "vehicleConfiguration  34686     634   ALLROAD_5_DOORS AUTOMATIC 3.0   2389   \n",
       "vehicleTransmission   34686       4                  автоматическая  19596   \n",
       "vendor                34686       2                        EUROPEAN  20682   \n",
       "Владельцы             34686       3                     3 или более  15957   \n",
       "Владение              11995     275              1 год и 10 месяцев    209   \n",
       "ПТС                   34685       2                        Оригинал  30098   \n",
       "Привод                34686       3                        передний  15565   \n",
       "Руль                  34686       2                           Левый  33287   \n",
       "Состояние             34686       1              Не требует ремонта  34686   \n",
       "Таможня               34686       1                      Растаможен  34686   \n",
       "\n",
       "                              min          max                   type  \\\n",
       "bodyType                      NaN          NaN          <class 'str'>   \n",
       "brand                         NaN          NaN          <class 'str'>   \n",
       "car_url                       NaN          NaN          <class 'str'>   \n",
       "color                         NaN          NaN          <class 'str'>   \n",
       "complectation_dict            NaN          NaN        <class 'float'>   \n",
       "description                   NaN          NaN          <class 'str'>   \n",
       "engineDisplacement            NaN          NaN          <class 'str'>   \n",
       "enginePower                   NaN          NaN          <class 'str'>   \n",
       "equipment_dict                NaN          NaN          <class 'str'>   \n",
       "fuelType                      NaN          NaN          <class 'str'>   \n",
       "image                         NaN          NaN          <class 'str'>   \n",
       "mileage                         1        1e+06  <class 'numpy.int64'>   \n",
       "modelDate                    1904         2020  <class 'numpy.int64'>   \n",
       "model_info                    NaN          NaN          <class 'str'>   \n",
       "model_name                    NaN          NaN          <class 'str'>   \n",
       "name                          NaN          NaN          <class 'str'>   \n",
       "numberOfDoors                   0            5  <class 'numpy.int64'>   \n",
       "parsing_unixtime      1.60311e+09  1.60371e+09  <class 'numpy.int64'>   \n",
       "priceCurrency                 NaN          NaN          <class 'str'>   \n",
       "productionDate               1904         2020  <class 'numpy.int64'>   \n",
       "sell_id                      2665  1.10137e+09  <class 'numpy.int64'>   \n",
       "super_gen                     NaN          NaN          <class 'str'>   \n",
       "vehicleConfiguration          NaN          NaN          <class 'str'>   \n",
       "vehicleTransmission           NaN          NaN          <class 'str'>   \n",
       "vendor                        NaN          NaN          <class 'str'>   \n",
       "Владельцы                     NaN          NaN          <class 'str'>   \n",
       "Владение                      NaN          NaN        <class 'float'>   \n",
       "ПТС                           NaN          NaN          <class 'str'>   \n",
       "Привод                        NaN          NaN          <class 'str'>   \n",
       "Руль                          NaN          NaN          <class 'str'>   \n",
       "Состояние                     NaN          NaN          <class 'str'>   \n",
       "Таможня                       NaN          NaN          <class 'str'>   \n",
       "\n",
       "                      NaN_prop  \n",
       "bodyType                 0.000  \n",
       "brand                    0.000  \n",
       "car_url                  0.000  \n",
       "color                    0.000  \n",
       "complectation_dict       0.815  \n",
       "description              0.000  \n",
       "engineDisplacement       0.000  \n",
       "enginePower              0.000  \n",
       "equipment_dict           0.288  \n",
       "fuelType                 0.000  \n",
       "image                    0.000  \n",
       "mileage                  0.000  \n",
       "modelDate                0.000  \n",
       "model_info               0.000  \n",
       "model_name               0.000  \n",
       "name                     0.000  \n",
       "numberOfDoors            0.000  \n",
       "parsing_unixtime         0.000  \n",
       "priceCurrency            0.000  \n",
       "productionDate           0.000  \n",
       "sell_id                  0.000  \n",
       "super_gen                0.000  \n",
       "vehicleConfiguration     0.000  \n",
       "vehicleTransmission      0.000  \n",
       "vendor                   0.000  \n",
       "Владельцы                0.000  \n",
       "Владение                 0.654  \n",
       "ПТС                      0.000  \n",
       "Привод                   0.000  \n",
       "Руль                     0.000  \n",
       "Состояние                0.000  \n",
       "Таможня                  0.000  "
      ]
     },
     "execution_count": 6,
     "metadata": {},
     "output_type": "execute_result"
    }
   ],
   "source": [
    "describe_df(df_test)"
   ]
  },
  {
   "cell_type": "markdown",
   "metadata": {},
   "source": [
    "Всего в исходном валидационном датасете 32 колонки с разными типами данных (6 int, 26 object) и разыми типами признаков:   \n",
    "-бинарные (в колонках `vendor`, `ПТС`, `Руль`);   \n",
    "-категориальные (например в колонках `bodyType`, `brand`, `color`, `Владельцы`);  \n",
    "-количественные (например в `enginePower` или `mileage`).  \n",
    "\n",
    "Некоторын колонки содержат словари или длинные строки, содержащие сразу несколько признаков. \n",
    "\n",
    "Колонка `brand` содержит 12 уникальных значений. Это позволяет нам существенно сократить обьем работы по парсингу, ведь релевантными будут только данные по этим 12 брендам, поэтому только по ним и будем собирать информацию.\n",
    "\n",
    "Колонка `car_url` содержит ссылки на обьявления о продаже авто на сайте ***auto.ru***, что как бы намекает, что валидационный набор спарсен с сайта ***auto.ru***. Воспользуемся этим же источником.\n",
    "\n",
    "Три колонки  `priceCurrency`, `Состояние` и `Таможня` содержат только одно уникальное хначение, они ненесут никакой информации, поэтому исключим их из рассмотрения.  \n",
    "  \n",
    "Теперь следует ознакомиться с  каждым признак/колонку более детально. Это позволит нам понять в каком виде/формате содержится информация в колонках и соответсвенно сформировать набор данных для обучения в том же виде/формате. Так же детальное ознакомлене позволит окончательно определится с необходимость включения информации из колонок в рассмотрение моделью. В случае включения данных в рассмотрение моделью, провеем EDA. "
   ]
  },
  {
   "cell_type": "markdown",
   "metadata": {},
   "source": [
    "### Детальное ознакомление\n",
    "### bodyType"
   ]
  },
  {
   "cell_type": "code",
   "execution_count": 7,
   "metadata": {},
   "outputs": [
    {
     "data": {
      "text/plain": [
       "826                лифтбек\n",
       "33235    внедорожник 5 дв.\n",
       "3813                 седан\n",
       "Name: bodyType, dtype: object"
      ]
     },
     "execution_count": 7,
     "metadata": {},
     "output_type": "execute_result"
    }
   ],
   "source": [
    "df_test.bodyType.sample(3)"
   ]
  },
  {
   "cell_type": "code",
   "execution_count": 8,
   "metadata": {},
   "outputs": [
    {
     "data": {
      "text/plain": [
       "array(['лифтбек', 'внедорожник 5 дв.', 'хэтчбек 5 дв.', 'седан',\n",
       "       'компактвэн', 'универсал 5 дв.', 'пикап одинарная кабина',\n",
       "       'хэтчбек 3 дв.', 'купе', 'кабриолет', 'минивэн',\n",
       "       'пикап двойная кабина', 'внедорожник 3 дв.', 'родстер', 'микровэн',\n",
       "       'седан 2 дв.', 'купе-хардтоп', 'фастбек', 'тарга',\n",
       "       'внедорожник открытый', 'лимузин', 'пикап полуторная кабина',\n",
       "       'седан-хардтоп', 'фургон'], dtype=object)"
      ]
     },
     "execution_count": 8,
     "metadata": {},
     "output_type": "execute_result"
    }
   ],
   "source": [
    "df_test.bodyType.unique()"
   ]
  },
  {
   "cell_type": "markdown",
   "metadata": {},
   "source": [
    "Колонка содержит наименование типа кузова в виде строковой величины. Принимается в пассмоттение. "
   ]
  },
  {
   "cell_type": "markdown",
   "metadata": {},
   "source": [
    "### brand"
   ]
  },
  {
   "cell_type": "code",
   "execution_count": 9,
   "metadata": {},
   "outputs": [
    {
     "data": {
      "text/plain": [
       "11981        NISSAN\n",
       "30822    VOLKSWAGEN\n",
       "28209    MITSUBISHI\n",
       "Name: brand, dtype: object"
      ]
     },
     "execution_count": 9,
     "metadata": {},
     "output_type": "execute_result"
    }
   ],
   "source": [
    "df_test.brand.sample(3)"
   ]
  },
  {
   "cell_type": "code",
   "execution_count": 10,
   "metadata": {},
   "outputs": [
    {
     "data": {
      "text/plain": [
       "array(['SKODA', 'AUDI', 'HONDA', 'VOLVO', 'BMW', 'NISSAN', 'INFINITI',\n",
       "       'MERCEDES', 'TOYOTA', 'LEXUS', 'VOLKSWAGEN', 'MITSUBISHI'],\n",
       "      dtype=object)"
      ]
     },
     "execution_count": 10,
     "metadata": {},
     "output_type": "execute_result"
    }
   ],
   "source": [
    "df_test.brand.unique()"
   ]
  },
  {
   "cell_type": "markdown",
   "metadata": {},
   "source": [
    "Колонка содержит наименование марки в виде строковой величины. Принимается в рассмотрение."
   ]
  },
  {
   "cell_type": "markdown",
   "metadata": {},
   "source": [
    "### car_url"
   ]
  },
  {
   "cell_type": "code",
   "execution_count": 11,
   "metadata": {},
   "outputs": [
    {
     "data": {
      "text/plain": [
       "6905     https://auto.ru/cars/used/sale/volvo/xc60/1101...\n",
       "2221     https://auto.ru/cars/used/sale/skoda/rapid/110...\n",
       "17036    https://auto.ru/cars/used/sale/mercedes/gl_kla...\n",
       "5027     https://auto.ru/cars/used/sale/audi/a6/1099413...\n",
       "21761    https://auto.ru/cars/used/sale/toyota/prius/11...\n",
       "Name: car_url, dtype: object"
      ]
     },
     "execution_count": 11,
     "metadata": {},
     "output_type": "execute_result"
    }
   ],
   "source": [
    "df_test.car_url.sample(5)"
   ]
  },
  {
   "cell_type": "markdown",
   "metadata": {},
   "source": [
    "В этой колонке содержаться ссылки на обьявления о продаже, послужившие источником при парсинге `test`. В настоящий момент скорее всего ссылки уже не активны, потому колокна будет исключена из рассмотрения моделью. Но нформация в ней содержащаяся позволит нам проверить не попадают ли в тренировочный набор данных наблюдения из валидационного. "
   ]
  },
  {
   "cell_type": "markdown",
   "metadata": {},
   "source": [
    "### color"
   ]
  },
  {
   "cell_type": "code",
   "execution_count": 12,
   "metadata": {},
   "outputs": [
    {
     "data": {
      "text/plain": [
       "2952      чёрный\n",
       "28117    бежевый\n",
       "14423      синий\n",
       "Name: color, dtype: object"
      ]
     },
     "execution_count": 12,
     "metadata": {},
     "output_type": "execute_result"
    }
   ],
   "source": [
    "df_test.color.sample(3)"
   ]
  },
  {
   "cell_type": "code",
   "execution_count": 13,
   "metadata": {},
   "outputs": [
    {
     "data": {
      "text/plain": [
       "array(['синий', 'чёрный', 'серый', 'коричневый', 'белый', 'пурпурный',\n",
       "       'бежевый', 'серебристый', 'красный', 'зелёный', 'жёлтый',\n",
       "       'голубой', 'оранжевый', 'фиолетовый', 'золотистый', 'розовый'],\n",
       "      dtype=object)"
      ]
     },
     "execution_count": 13,
     "metadata": {},
     "output_type": "execute_result"
    }
   ],
   "source": [
    "df_test.color.unique()"
   ]
  },
  {
   "cell_type": "markdown",
   "metadata": {},
   "source": [
    "Колонка содержит название цвета кузова, принимется в рассмотрение. "
   ]
  },
  {
   "cell_type": "markdown",
   "metadata": {},
   "source": [
    "### complectation_dict"
   ]
  },
  {
   "cell_type": "code",
   "execution_count": 14,
   "metadata": {},
   "outputs": [
    {
     "data": {
      "text/plain": [
       "0                                                  NaN\n",
       "1                                                  NaN\n",
       "2    {\"id\":\"20026336\",\"name\":\"Ambition\",\"available_...\n",
       "Name: complectation_dict, dtype: object"
      ]
     },
     "execution_count": 14,
     "metadata": {},
     "output_type": "execute_result"
    }
   ],
   "source": [
    "df_test.complectation_dict.head(3)"
   ]
  },
  {
   "cell_type": "code",
   "execution_count": 15,
   "metadata": {},
   "outputs": [
    {
     "data": {
      "text/plain": [
       "'{\"id\":\"20026336\",\"name\":\"Ambition\",\"available_options\":[\"heated-wash-system\",\"airbag-passenger\",\"lock\",\"door-sill-panel\",\"electro-mirrors\",\"mirrors-heat\",\"cooling-box\",\"computer\",\"seat-transformation\",\"wheel-power\",\"fabric-seats\",\"airbag-side\",\"abs\",\"wheel-leather\",\"climate-control-1\",\"esp\",\"adaptive-light\",\"audiopreparation\",\"ashtray-and-cigarette-lighter\",\"front-centre-armrest\",\"electro-window-back\",\"16-inch-wheels\",\"body-mouldings\",\"condition\",\"airbag-driver\",\"isofix\",\"aux\",\"electro-window-front\",\"light-sensor\",\"hcc\",\"ptf\",\"rain-sensor\",\"tyre-pressure\",\"audiosystem-cd\",\"front-seats-heat\",\"wheel-configuration2\",\"wheel-configuration1\",\"immo\",\"12v-socket\",\"third-rear-headrest\"]}'"
      ]
     },
     "execution_count": 15,
     "metadata": {},
     "output_type": "execute_result"
    }
   ],
   "source": [
    "df_test.complectation_dict.loc[2]"
   ]
  },
  {
   "cell_type": "markdown",
   "metadata": {},
   "source": [
    "Колонка содержит словарь стандартной комплектации с наименованием комплектации и списком обрудования (зачастую стандартного, имеющегося в любом автомобиле, например \"12v-socket\" или \"lock\") входящим в такую комплектацию. Доля пррпусков (свыше 0.8), перечисление оборудования присутсвуюшегов любом авто данной марки и модели и наличие колонки `equipment_dict` с гораздо меньшим количеством пропусков позволяет исключить колонку из рассмотрения."
   ]
  },
  {
   "cell_type": "markdown",
   "metadata": {},
   "source": [
    "### description"
   ]
  },
  {
   "cell_type": "code",
   "execution_count": 16,
   "metadata": {},
   "outputs": [
    {
     "name": "stdout",
     "output_type": "stream",
     "text": [
      "Все автомобили, представленные в продаже, проходят тщательную проверку по более 40 параметрам. Предоставляем гарантию юридической чистоты, а так же год технической гарантии на двигатель и КПП. Бесплатный тест-драйв. Возможно оформление автомобиля в кредит!\n",
      "\n",
      "Преимущества автокредитования:\n",
      "— Первоначальный взнос от 0%;\n",
      "— Более 30 кредитных программ;\n",
      "— Процентная ставка от 6% годовых;\n",
      "— Срок кредита от 6 месяцев до 7 лет;\n",
      "— Оформление кредита по двум документам;\n",
      "— Досрочное погашение без штрафов и комиссий;\n",
      "— Сумма кредита до 2 млн рублей;\n",
      "— Оформление КАСКО – по желанию;\n",
      "— Без справок и поручителей.\n",
      "\n",
      "Сотрудничаем с 12 аккредитованными и сертифицированными банками РФ, среднее время ожидания решения банка 20–30 минут.\n",
      "\n",
      "При покупке автомобиля по программе «Trade-in – выгодный обмен» или в кредит, получите дополнительную скидку до 80 000 рублей на данный автомобиль!\n",
      "\n",
      "Записаться на тест-драйв, а так же получить подробную информацию можно у специалистов автоцентра по указанному номеру телефона.\n"
     ]
    }
   ],
   "source": [
    "print(df_test.description[0])"
   ]
  },
  {
   "cell_type": "markdown",
   "metadata": {},
   "source": [
    "В колонке содержится текст, относящийся скорее к продавцу, чем к конкретному автомобилю. Поэтому на данном этапе ( и вероятно вообще) колонка исключается из рассмотрения."
   ]
  },
  {
   "cell_type": "markdown",
   "metadata": {},
   "source": [
    "### engineDisplacement"
   ]
  },
  {
   "cell_type": "code",
   "execution_count": 17,
   "metadata": {},
   "outputs": [
    {
     "data": {
      "text/plain": [
       "array(['1.2 LTR', '1.6 LTR', '1.8 LTR', '2.0 LTR', '1.4 LTR', '1.3 LTR',\n",
       "       '1.0 LTR', '3.6 LTR', '1.5 LTR', '1.9 LTR', '2.8 LTR', '1.1 LTR',\n",
       "       '2.5 LTR', '4.2 LTR', '3.0 LTR', '4.0 LTR', '5.9 LTR', '2.7 LTR',\n",
       "       '3.1 LTR', '2.4 LTR', '5.2 LTR', '3.2 LTR', '4.1 LTR', '6.3 LTR',\n",
       "       '2.3 LTR', '6.0 LTR', '2.2 LTR', '3.7 LTR', '2.9 LTR', '5.0 LTR',\n",
       "       '3.3 LTR', '2.1 LTR', '2.6 LTR', ' LTR', '3.5 LTR', '1.7 LTR',\n",
       "       '0.7 LTR', '4.4 LTR', '4.8 LTR', '5.4 LTR', '6.6 LTR', '4.9 LTR',\n",
       "       '3.8 LTR', '3.4 LTR', '3.9 LTR', '4.6 LTR', '5.6 LTR', '4.5 LTR',\n",
       "       '5.5 LTR', '6.2 LTR', '4.7 LTR', '4.3 LTR', '5.8 LTR', '5.3 LTR',\n",
       "       '5.7 LTR'], dtype=object)"
      ]
     },
     "execution_count": 17,
     "metadata": {},
     "output_type": "execute_result"
    }
   ],
   "source": [
    "df_test.engineDisplacement.unique()"
   ]
  },
  {
   "cell_type": "code",
   "execution_count": 18,
   "metadata": {},
   "outputs": [
    {
     "data": {
      "text/plain": [
       "55"
      ]
     },
     "execution_count": 18,
     "metadata": {},
     "output_type": "execute_result"
    }
   ],
   "source": [
    "df_test.engineDisplacement.value_counts()[' LTR']"
   ]
  },
  {
   "cell_type": "markdown",
   "metadata": {},
   "source": [
    "Колонка содержит обьем двигателя, принимется в рассмотрение. Следует отметить наличие скрытых пропусков (55 стрк `' LTR'`)"
   ]
  },
  {
   "cell_type": "markdown",
   "metadata": {},
   "source": [
    "### enginePower"
   ]
  },
  {
   "cell_type": "code",
   "execution_count": 19,
   "metadata": {},
   "outputs": [
    {
     "data": {
      "text/plain": [
       "array(['105 N12', '110 N12', '152 N12', '200 N12', '102 N12', '150 N12',\n",
       "       '90 N12', '180 N12', '220 N12', '122 N12', '70 N12', '140 N12',\n",
       "       '125 N12', '54 N12', '86 N12', '75 N12', '64 N12', '95 N12',\n",
       "       '260 N12', '170 N12', '80 N12', '68 N12', '160 N12', '115 N12',\n",
       "       '280 N12', '53 N12', '60 N12', '143 N12', '42 N12', '101 N12',\n",
       "       '58 N12', '193 N12', '79 N12', '30 N12', '100 N12', '50 N12',\n",
       "       '163 N12', '225 N12', '420 N12', '211 N12', '245 N12', '560 N12',\n",
       "       '500 N12', '249 N12', '450 N12', '605 N12', '250 N12', '354 N12',\n",
       "       '120 N12', '290 N12', '230 N12', '350 N12', '204 N12', '255 N12',\n",
       "       '340 N12', '177 N12', '272 N12', '372 N12', '210 N12', '130 N12',\n",
       "       '300 N12', '190 N12', '239 N12', '435 N12', '333 N12', '271 N12',\n",
       "       '326 N12', '238 N12', '310 N12', '233 N12', '252 N12', '133 N12',\n",
       "       '460 N12', '520 N12', '400 N12', '525 N12', '367 N12', '265 N12',\n",
       "       '550 N12', '580 N12', '88 N12', '165 N12', '430 N12', '335 N12',\n",
       "       '174 N12', '224 N12', '136 N12', '256 N12', '338 N12', '112 N12',\n",
       "       '218 N12', '360 N12', '93 N12', '182 N12', '113 N12', '240 N12',\n",
       "       '270 N12', '137 N12', '155 N12', '61 N12'], dtype=object)"
      ]
     },
     "execution_count": 19,
     "metadata": {},
     "output_type": "execute_result"
    }
   ],
   "source": [
    "df_test.enginePower.unique()[:100]"
   ]
  },
  {
   "cell_type": "markdown",
   "metadata": {},
   "source": [
    "Колонка содержит мощность двигателя, принмается в рассмотрение."
   ]
  },
  {
   "cell_type": "markdown",
   "metadata": {},
   "source": [
    "### equipment_dict"
   ]
  },
  {
   "cell_type": "code",
   "execution_count": 20,
   "metadata": {},
   "outputs": [
    {
     "data": {
      "text/plain": [
       "<method 'keys' of 'dict' objects>"
      ]
     },
     "execution_count": 20,
     "metadata": {},
     "output_type": "execute_result"
    }
   ],
   "source": [
    "dict.keys"
   ]
  },
  {
   "cell_type": "code",
   "execution_count": 21,
   "metadata": {},
   "outputs": [],
   "source": [
    "# ttt = df_test.equipment_dict.apply(lambda x: json.loads(x) if x==x else x)"
   ]
  },
  {
   "cell_type": "code",
   "execution_count": 22,
   "metadata": {},
   "outputs": [],
   "source": [
    "# len(ttt[0])"
   ]
  },
  {
   "cell_type": "code",
   "execution_count": 23,
   "metadata": {},
   "outputs": [],
   "source": [
    "# ttt.head()"
   ]
  },
  {
   "cell_type": "code",
   "execution_count": 24,
   "metadata": {},
   "outputs": [],
   "source": [
    "# ttt.apply(lambda x: list(x.keys()) if x==x else []).sum()"
   ]
  },
  {
   "cell_type": "code",
   "execution_count": 25,
   "metadata": {},
   "outputs": [
    {
     "data": {
      "text/plain": [
       "14091    {\"paint-metallic\":true,\"steel-wheels\":true,\"pt...\n",
       "19008    {\"engine-proof\":true,\"electro-window-back\":tru...\n",
       "21016    {\"tinted-glass\":true,\"airbag-driver\":true,\"usb...\n",
       "17969                                                  NaN\n",
       "8984     {\"cruise-control\":true,\"tinted-glass\":true,\"es...\n",
       "Name: equipment_dict, dtype: object"
      ]
     },
     "execution_count": 25,
     "metadata": {},
     "output_type": "execute_result"
    }
   ],
   "source": [
    "df_test.equipment_dict.sample(5)"
   ]
  },
  {
   "cell_type": "code",
   "execution_count": 26,
   "metadata": {},
   "outputs": [],
   "source": [
    "# df_test.equipment_dict.apply(lambda x: json.loads(x) if x==x else x).sample(5)"
   ]
  },
  {
   "cell_type": "markdown",
   "metadata": {},
   "source": [
    "В колонке много пропусков (почти 29%), не пропущенные значения представляют собой текстово епредсьавление словаря с перечислением оснащения автомобиля. В рассмотрнеие моделью будет приняты те пункты оснащения, что будут пересекаться с пунктами оснащения обучающего набора данных."
   ]
  },
  {
   "cell_type": "markdown",
   "metadata": {},
   "source": [
    "### fuelType"
   ]
  },
  {
   "cell_type": "code",
   "execution_count": 27,
   "metadata": {},
   "outputs": [
    {
     "data": {
      "text/plain": [
       "array(['бензин', 'дизель', 'гибрид', 'электро', 'газ'], dtype=object)"
      ]
     },
     "execution_count": 27,
     "metadata": {},
     "output_type": "execute_result"
    }
   ],
   "source": [
    "df_test.fuelType.unique()"
   ]
  },
  {
   "cell_type": "markdown",
   "metadata": {},
   "source": [
    "Колонка содержит тип топлива. Принимается врассмотрнеи."
   ]
  },
  {
   "cell_type": "markdown",
   "metadata": {},
   "source": [
    "### image"
   ]
  },
  {
   "cell_type": "code",
   "execution_count": 28,
   "metadata": {},
   "outputs": [
    {
     "data": {
      "text/plain": [
       "14735    https://autoru.naydex.net/LxPU17803/f5b8d77S/u...\n",
       "6137     https://autoru.naydex.net/mcQh17801/f1b5751dCi...\n",
       "18239    https://autoru.naydex.net/mcQh17801/f1b5751dCi...\n",
       "21195    https://avatars.mds.yandex.net/get-autoru-vos/...\n",
       "25217    https://avatars.mds.yandex.net/get-autoru-vos/...\n",
       "Name: image, dtype: object"
      ]
     },
     "execution_count": 28,
     "metadata": {},
     "output_type": "execute_result"
    }
   ],
   "source": [
    "df_test.image.sample(5)"
   ]
  },
  {
   "cell_type": "markdown",
   "metadata": {},
   "source": [
    "Колонка содержит ссылки на фото или аватар авто, исключается из рассмотрения."
   ]
  },
  {
   "cell_type": "markdown",
   "metadata": {},
   "source": [
    "### mileage"
   ]
  },
  {
   "cell_type": "code",
   "execution_count": 29,
   "metadata": {},
   "outputs": [
    {
     "data": {
      "text/plain": [
       "32753    237311\n",
       "21750    270000\n",
       "8543      25420\n",
       "29120    305000\n",
       "23378    123000\n",
       "Name: mileage, dtype: int64"
      ]
     },
     "execution_count": 29,
     "metadata": {},
     "output_type": "execute_result"
    }
   ],
   "source": [
    "df_test.mileage.sample(5)"
   ]
  },
  {
   "cell_type": "markdown",
   "metadata": {},
   "source": [
    "Колонка содержит пробег авто, принмается в рассмотрениею"
   ]
  },
  {
   "cell_type": "markdown",
   "metadata": {},
   "source": [
    "### modelDate"
   ]
  },
  {
   "cell_type": "code",
   "execution_count": 30,
   "metadata": {},
   "outputs": [
    {
     "data": {
      "text/plain": [
       "array([2013, 2017, 2008, 2009, 2016, 2012, 2015, 2010, 2006, 2000, 2007,\n",
       "       1994, 2004, 1999, 2005, 1976, 2001, 1969, 1996, 1998, 1989, 1934,\n",
       "       2014, 2011, 2018, 1986, 1997, 1990, 2019, 2002, 1991, 1987, 1980,\n",
       "       1982, 1938, 1988, 2003, 1983, 1978, 1979, 1984, 1992, 1995, 1993,\n",
       "       1985, 1974, 1966, 1977, 1981, 1972, 1968, 1975, 1949, 1937, 1936,\n",
       "       1973, 1959, 1958, 2020, 1965, 1971, 1904, 1963, 1955, 1951, 1960],\n",
       "      dtype=int64)"
      ]
     },
     "execution_count": 30,
     "metadata": {},
     "output_type": "execute_result"
    }
   ],
   "source": [
    "df_test.modelDate.unique()"
   ]
  },
  {
   "cell_type": "markdown",
   "metadata": {},
   "source": [
    "Колонка содержит год начала выпуска модели, принимется в рассмотрние."
   ]
  },
  {
   "cell_type": "markdown",
   "metadata": {},
   "source": [
    "### model_info"
   ]
  },
  {
   "cell_type": "code",
   "execution_count": 31,
   "metadata": {},
   "outputs": [
    {
     "data": {
      "text/plain": [
       "1471     {\"code\":\"OCTAVIA\",\"name\":\"Octavia\",\"ru_name\":\"...\n",
       "11337    {\"code\":\"X_TRAIL\",\"name\":\"X-Trail\",\"ru_name\":\"...\n",
       "20328    {\"code\":\"LAND_CRUISER\",\"name\":\"Land Cruiser\",\"...\n",
       "15422    {\"code\":\"G_KLASSE_AMG\",\"name\":\"G-Класс AMG\",\"r...\n",
       "15683    {\"code\":\"CLS_KLASSE\",\"name\":\"CLS\",\"ru_name\":\"Ц...\n",
       "Name: model_info, dtype: object"
      ]
     },
     "execution_count": 31,
     "metadata": {},
     "output_type": "execute_result"
    }
   ],
   "source": [
    "df_test.model_info.sample(5)"
   ]
  },
  {
   "cell_type": "markdown",
   "metadata": {},
   "source": [
    "Колонка содержит наименование модели в трех вариантах. Учитывая наличие `model_name` колонка исключается из рассмотрения"
   ]
  },
  {
   "cell_type": "markdown",
   "metadata": {},
   "source": [
    "### model_name"
   ]
  },
  {
   "cell_type": "code",
   "execution_count": 32,
   "metadata": {},
   "outputs": [
    {
     "data": {
      "text/plain": [
       "34678        5ER\n",
       "12306     CEDRIC\n",
       "8121          X6\n",
       "14099    PRIMERA\n",
       "2860          A4\n",
       "Name: model_name, dtype: object"
      ]
     },
     "execution_count": 32,
     "metadata": {},
     "output_type": "execute_result"
    }
   ],
   "source": [
    "df_test.model_name.sample(5)"
   ]
  },
  {
   "cell_type": "markdown",
   "metadata": {},
   "source": [
    "Наименование модели. Принимается к рассмотрению."
   ]
  },
  {
   "cell_type": "markdown",
   "metadata": {},
   "source": [
    "### name"
   ]
  },
  {
   "cell_type": "code",
   "execution_count": 33,
   "metadata": {},
   "outputs": [
    {
     "data": {
      "text/plain": [
       "1588            1.8 AMT (160 л.с.)\n",
       "26537       3.0d AT (204 л.с.) 4WD\n",
       "5185            1.8 CVT (160 л.с.)\n",
       "12430       2.5 CVT (169 л.с.) 4WD\n",
       "17233    500 5.5 AT (388 л.с.) 4WD\n",
       "Name: name, dtype: object"
      ]
     },
     "execution_count": 33,
     "metadata": {},
     "output_type": "execute_result"
    }
   ],
   "source": [
    "df_test.name.sample(5)"
   ]
  },
  {
   "cell_type": "markdown",
   "metadata": {},
   "source": [
    "Колонка содержит расширение названия модели, указывающее на обьем двигателя и тип привода. Поскольку эта информация уже получена из других колонок, эта в рассмотрнеие не принимается"
   ]
  },
  {
   "cell_type": "markdown",
   "metadata": {},
   "source": [
    "### numberOfDoors"
   ]
  },
  {
   "cell_type": "code",
   "execution_count": 34,
   "metadata": {},
   "outputs": [
    {
     "data": {
      "text/plain": [
       "array([5, 4, 2, 3, 0], dtype=int64)"
      ]
     },
     "execution_count": 34,
     "metadata": {},
     "output_type": "execute_result"
    }
   ],
   "source": [
    "df_test.numberOfDoors.unique()"
   ]
  },
  {
   "cell_type": "markdown",
   "metadata": {},
   "source": [
    "Колонка содержит числовое представление количества дверей, принимется в рассмотрение."
   ]
  },
  {
   "cell_type": "markdown",
   "metadata": {},
   "source": [
    "### parsing_unixtime"
   ]
  },
  {
   "cell_type": "markdown",
   "metadata": {},
   "source": [
    "Колонка судя по названию содержит время сбора информации в валидационный набор данных. Непосредственно для обученяи информация не нужна. Но время сбора поможет внести поправку на изменение коньюктуры(курс валюты и т.д.). \n",
    "Посмотрим на диапазон `parsing_unixtime`:"
   ]
  },
  {
   "cell_type": "code",
   "execution_count": 35,
   "metadata": {},
   "outputs": [],
   "source": [
    "# datetime.utcfromtimestamp(df_test.parsing_unixtime.min())"
   ]
  },
  {
   "cell_type": "code",
   "execution_count": 36,
   "metadata": {},
   "outputs": [],
   "source": [
    "# datetime.utcfromtimestamp(df_test.parsing_unixtime.max())"
   ]
  },
  {
   "cell_type": "code",
   "execution_count": 37,
   "metadata": {},
   "outputs": [
    {
     "data": {
      "text/plain": [
       "(datetime.date(2020, 10, 19), datetime.date(2020, 10, 26))"
      ]
     },
     "execution_count": 37,
     "metadata": {},
     "output_type": "execute_result"
    }
   ],
   "source": [
    "date.fromtimestamp(df_test.parsing_unixtime.min()),date.fromtimestamp(df_test.parsing_unixtime.max())"
   ]
  },
  {
   "cell_type": "markdown",
   "metadata": {},
   "source": [
    "Как видим парсинг произведен с 19 по 26 октября 20-го года"
   ]
  },
  {
   "cell_type": "markdown",
   "metadata": {},
   "source": [
    "### productionDate"
   ]
  },
  {
   "cell_type": "code",
   "execution_count": 38,
   "metadata": {},
   "outputs": [
    {
     "data": {
      "text/plain": [
       "array([2014, 2017, 2012, 2011, 2019, 2018, 2010, 2020, 2016, 2013, 2006,\n",
       "       2007, 2015, 2005, 2008, 2009, 1997, 2004, 2002, 1987, 2003, 2001,\n",
       "       1976, 2000, 1998, 1995, 1999, 1993, 1939, 1996, 1984, 1990, 1991,\n",
       "       1992, 1989, 1982, 1985, 1994, 1938, 1981, 1988, 1983, 1980, 1986,\n",
       "       1978, 1970, 1979, 1977, 1972, 1975, 1969, 1950, 1953, 1949, 1937,\n",
       "       1959, 1968, 1936, 1904, 1974, 1967, 1961, 1960, 1965, 1963, 1957,\n",
       "       1952, 1973, 1948], dtype=int64)"
      ]
     },
     "execution_count": 38,
     "metadata": {},
     "output_type": "execute_result"
    }
   ],
   "source": [
    "df_test.productionDate.unique()"
   ]
  },
  {
   "cell_type": "markdown",
   "metadata": {},
   "source": [
    "Год производства автомобиля ( наверное наряду с моделью автомобиля самы значимый признак). Принмается в рассмотрнеие."
   ]
  },
  {
   "cell_type": "markdown",
   "metadata": {},
   "source": [
    "### sell_id"
   ]
  },
  {
   "cell_type": "code",
   "execution_count": 39,
   "metadata": {},
   "outputs": [
    {
     "data": {
      "text/plain": [
       "'https://auto.ru/cars/used/sale/skoda/octavia/1100549428-595cadf2/'"
      ]
     },
     "execution_count": 39,
     "metadata": {},
     "output_type": "execute_result"
    }
   ],
   "source": [
    "df_test.car_url[1]"
   ]
  },
  {
   "cell_type": "code",
   "execution_count": 40,
   "metadata": {},
   "outputs": [
    {
     "data": {
      "text/plain": [
       "1100549428"
      ]
     },
     "execution_count": 40,
     "metadata": {},
     "output_type": "execute_result"
    }
   ],
   "source": [
    "df_test.sell_id[1]"
   ]
  },
  {
   "cell_type": "code",
   "execution_count": null,
   "metadata": {},
   "outputs": [],
   "source": []
  },
  {
   "cell_type": "code",
   "execution_count": 41,
   "metadata": {},
   "outputs": [
    {
     "data": {
      "text/plain": [
       "array([1100575026, 1100549428, 1100658222, ..., 1101364889, 1101362518,\n",
       "       1101256068], dtype=int64)"
      ]
     },
     "execution_count": 41,
     "metadata": {},
     "output_type": "execute_result"
    }
   ],
   "source": [
    "df_test.sell_id.unique()"
   ]
  },
  {
   "cell_type": "markdown",
   "metadata": {},
   "source": [
    "Колонка содержит ***id*** обьявления. Как непосредственный признак не интересен, в рассмотрение моделью не принимается. Но если предположить, что ***id*** отражает хронологический порядок появления обьявления, то, например, можно попробовать при \"тонкой настройке\" модели придать более новым обьявлениям больший вес при обучении."
   ]
  },
  {
   "cell_type": "markdown",
   "metadata": {},
   "source": [
    "### super_gen"
   ]
  },
  {
   "cell_type": "code",
   "execution_count": 42,
   "metadata": {},
   "outputs": [
    {
     "data": {
      "text/plain": [
       "'{\"id\":\"10373605\",\"displacement\":1197,\"engine_type\":\"GASOLINE\",\"gear_type\":\"FORWARD_CONTROL\",\"transmission\":\"ROBOT\",\"power\":105,\"power_kvt\":77,\"human_name\":\"1.2 AMT (105 л.с.)\",\"acceleration\":10.5,\"clearance_min\":155,\"fuel_rate\":5}'"
      ]
     },
     "execution_count": 42,
     "metadata": {},
     "output_type": "execute_result"
    }
   ],
   "source": [
    "df_test.super_gen[0]"
   ]
  },
  {
   "cell_type": "markdown",
   "metadata": {},
   "source": [
    "Колонка содержит ***id*** и параметры автомобиля, которые либо являются по сути атрибутами модели (у всех автомобилей одной модели одинаковый клиренс) либо уже известны нам из других колонок (например тип трансмиссии). В рассмотрнеи не принимается."
   ]
  },
  {
   "cell_type": "markdown",
   "metadata": {},
   "source": [
    "### vehicleConfiguration"
   ]
  },
  {
   "cell_type": "code",
   "execution_count": 43,
   "metadata": {},
   "outputs": [
    {
     "data": {
      "text/plain": [
       "18293              SEDAN AUTOMATIC 3.0\n",
       "30553    ALLROAD_5_DOORS AUTOMATIC 2.5\n",
       "16523              SEDAN AUTOMATIC 4.2\n",
       "9439               SEDAN AUTOMATIC 3.0\n",
       "8071     ALLROAD_5_DOORS AUTOMATIC 3.0\n",
       "Name: vehicleConfiguration, dtype: object"
      ]
     },
     "execution_count": 43,
     "metadata": {},
     "output_type": "execute_result"
    }
   ],
   "source": [
    "df_test.vehicleConfiguration.sample(5)"
   ]
  },
  {
   "cell_type": "markdown",
   "metadata": {},
   "source": [
    "Содержит информацию о типе кузова, типе трансмиссии обьеме двигателя количестве дверей. Эта информация доступна в других колонках, поэтому `vehicleConfiguration` в рассмотрение не принимется "
   ]
  },
  {
   "cell_type": "markdown",
   "metadata": {},
   "source": [
    "### vehicleTransmission"
   ]
  },
  {
   "cell_type": "code",
   "execution_count": 44,
   "metadata": {},
   "outputs": [
    {
     "data": {
      "text/plain": [
       "array(['роботизированная', 'механическая', 'автоматическая', 'вариатор'],\n",
       "      dtype=object)"
      ]
     },
     "execution_count": 44,
     "metadata": {},
     "output_type": "execute_result"
    }
   ],
   "source": [
    "df_test.vehicleTransmission.unique()"
   ]
  },
  {
   "cell_type": "markdown",
   "metadata": {},
   "source": [
    "Колонка содержит в тестовом виде тип трансмиссии. Принимается в рассмотрение."
   ]
  },
  {
   "cell_type": "markdown",
   "metadata": {},
   "source": [
    "### vendor"
   ]
  },
  {
   "cell_type": "code",
   "execution_count": 45,
   "metadata": {},
   "outputs": [
    {
     "data": {
      "text/plain": [
       "array(['EUROPEAN', 'JAPANESE'], dtype=object)"
      ]
     },
     "execution_count": 45,
     "metadata": {},
     "output_type": "execute_result"
    }
   ],
   "source": [
    "df_test.vendor.unique()"
   ]
  },
  {
   "cell_type": "code",
   "execution_count": 46,
   "metadata": {},
   "outputs": [
    {
     "data": {
      "text/plain": [
       "vendor\n",
       "EUROPEAN      [SKODA, AUDI, VOLVO, BMW, MERCEDES, VOLKSWAGEN]\n",
       "JAPANESE    [HONDA, NISSAN, INFINITI, TOYOTA, LEXUS, MITSU...\n",
       "Name: brand, dtype: object"
      ]
     },
     "execution_count": 46,
     "metadata": {},
     "output_type": "execute_result"
    }
   ],
   "source": [
    "df_test.groupby('vendor').brand.unique()"
   ]
  },
  {
   "cell_type": "markdown",
   "metadata": {},
   "source": [
    "Как видим колонка содержит обобщающий признак - принадлежность марки к европейским либо японским. Как подсказывает опыт автовладельца динамика падения цены от срока владения у этих двух групп различается (японцы обычно дешевеют медленнее, особенно Toyota). Посчитаем признак полезным, примем в рассмотрение моделью."
   ]
  },
  {
   "cell_type": "markdown",
   "metadata": {},
   "source": [
    "### Владельцы"
   ]
  },
  {
   "cell_type": "code",
   "execution_count": 47,
   "metadata": {},
   "outputs": [
    {
     "data": {
      "text/plain": [
       "array(['3 или более', '1\\xa0владелец', '2\\xa0владельца'], dtype=object)"
      ]
     },
     "execution_count": 47,
     "metadata": {},
     "output_type": "execute_result"
    }
   ],
   "source": [
    "df_test.Владельцы.unique()"
   ]
  },
  {
   "cell_type": "markdown",
   "metadata": {},
   "source": [
    "Колонка содержит в текстовом виде три категории количества владельцев авто. Примем в рассмотрение"
   ]
  },
  {
   "cell_type": "markdown",
   "metadata": {},
   "source": [
    "### Владение"
   ]
  },
  {
   "cell_type": "code",
   "execution_count": 48,
   "metadata": {},
   "outputs": [
    {
     "data": {
      "text/plain": [
       "array([nan, '3 года и 2 месяца', '11 месяцев', '4 года и 1 месяц',\n",
       "       '2 года и 4 месяца', '1 месяц', '3 года и 10 месяцев',\n",
       "       '2 года и 6 месяцев', '6 лет и 4 месяца', '2 месяца', '4 месяца',\n",
       "       '1 год и 10 месяцев', '2 года и 7 месяцев', '7 лет и 11 месяцев',\n",
       "       '7 лет и 5 месяцев', '1 год и 11 месяцев', '2 года и 1 месяц',\n",
       "       '7 лет', '4 года и 2 месяца', '2 года и 8 месяцев'], dtype=object)"
      ]
     },
     "execution_count": 48,
     "metadata": {},
     "output_type": "execute_result"
    }
   ],
   "source": [
    "df_test.Владение.unique()[:20]"
   ]
  },
  {
   "cell_type": "markdown",
   "metadata": {},
   "source": [
    "Колонка содержит время прошедшее с момента выпуска авто. Очевидно линейно зависит о даты выпуска автомобиля - исключается из рассмотрения."
   ]
  },
  {
   "cell_type": "markdown",
   "metadata": {},
   "source": [
    "### ПТС"
   ]
  },
  {
   "cell_type": "code",
   "execution_count": 49,
   "metadata": {},
   "outputs": [
    {
     "data": {
      "text/plain": [
       "array(['Оригинал', 'Дубликат', nan], dtype=object)"
      ]
     },
     "execution_count": 49,
     "metadata": {},
     "output_type": "execute_result"
    }
   ],
   "source": [
    "df_test.ПТС.unique()"
   ]
  },
  {
   "cell_type": "markdown",
   "metadata": {},
   "source": [
    "Колонка содержит (если значение не nan) категорию ПТС. Принимается в рассмотрение."
   ]
  },
  {
   "cell_type": "markdown",
   "metadata": {},
   "source": [
    "### Привод"
   ]
  },
  {
   "cell_type": "code",
   "execution_count": 50,
   "metadata": {},
   "outputs": [
    {
     "data": {
      "text/plain": [
       "array(['передний', 'полный', 'задний'], dtype=object)"
      ]
     },
     "execution_count": 50,
     "metadata": {},
     "output_type": "execute_result"
    }
   ],
   "source": [
    "df_test.Привод.unique()"
   ]
  },
  {
   "cell_type": "markdown",
   "metadata": {},
   "source": [
    "Колонка содержит категорию привода. Принимается в расмотрние."
   ]
  },
  {
   "cell_type": "markdown",
   "metadata": {},
   "source": [
    "### Руль"
   ]
  },
  {
   "cell_type": "code",
   "execution_count": 51,
   "metadata": {},
   "outputs": [
    {
     "data": {
      "text/plain": [
       "array(['Левый', 'Правый'], dtype=object)"
      ]
     },
     "execution_count": 51,
     "metadata": {},
     "output_type": "execute_result"
    }
   ],
   "source": [
    "df_test.Руль.unique()"
   ]
  },
  {
   "cell_type": "markdown",
   "metadata": {},
   "source": [
    "Колонка содержит категрию право- или левосторонности управления . В рассмотрение.\n",
    " ## Колонки подлежащие рассмотрению моделью\n",
    "Итого из валидационного набора данных, содержащихся в `df_test` будем спользовать для построения модели информацию из следующих колонок:\n",
    "\n"
   ]
  },
  {
   "cell_type": "code",
   "execution_count": 52,
   "metadata": {},
   "outputs": [],
   "source": [
    "columns_to_handle = ['bodyType', 'brand', 'car_url', 'color', 'engineDisplacement', 'enginePower', \n",
    "                      'equipment_dict','fuelType', 'mileage', 'modelDate', 'model_name', 'numberOfDoors', \n",
    "                      'productionDate', 'sell_id', 'vehicleTransmission', 'vendor', \n",
    "                      'Владельцы', 'ПТС', 'Привод', 'Руль']\n",
    "useful_columns = ['parsing_unixtime']"
   ]
  },
  {
   "cell_type": "code",
   "execution_count": 53,
   "metadata": {},
   "outputs": [],
   "source": [
    "test = df_test[columns_to_handle]"
   ]
  },
  {
   "cell_type": "markdown",
   "metadata": {},
   "source": [
    "## Унификация test и train"
   ]
  },
  {
   "cell_type": "code",
   "execution_count": 54,
   "metadata": {},
   "outputs": [],
   "source": [
    "train = pd.read_csv(f'{path}all_marks.csv')"
   ]
  },
  {
   "cell_type": "markdown",
   "metadata": {},
   "source": [
    "## РАЗРАБОТКА\n",
    "## ========================================="
   ]
  },
  {
   "cell_type": "code",
   "execution_count": 55,
   "metadata": {},
   "outputs": [],
   "source": [
    "def categ_diff(column):\n",
    "    one = train[column]\n",
    "    another = test[column]\n",
    "    one_another = set(one.unique()) - set(another.unique())\n",
    "    another_one = set(another.unique()) - set(one.unique())\n",
    "    print(one_another)\n",
    "    print(another_one)\n",
    "    \n",
    "def categ_diff2(one,another):\n",
    "    one_another = set(one.unique()) - set(another.unique())\n",
    "    another_one = set(another.unique()) - set(one.unique())\n",
    "    print(one_another)\n",
    "    print(another_one)\n",
    "    \n",
    "def categ_matches(column):\n",
    "    one = train[column]\n",
    "    another = test[column]\n",
    "    matches = set(one.unique()) & set(another.unique())\n",
    "    return (matches)\n",
    "    \n",
    "def categ_matches2(one,another):\n",
    "    matches = set(one.unique()) & set(another.unique())\n",
    "    return (matches)"
   ]
  },
  {
   "cell_type": "code",
   "execution_count": 82,
   "metadata": {},
   "outputs": [],
   "source": [
    "def unification_train(train):\n",
    "    df = train.copy()\n",
    "    \n",
    "    fuelType_unification = {\n",
    "    'бензин':'бензин',\n",
    "    'дизель': 'дизель',\n",
    "    'бензин, газобаллонное оборудование': 'бензин',\n",
    "    'гибрид': 'гибрид',\n",
    "    'дизель, газобаллонное оборудование': 'дизель',\n",
    "    'гибрид, газобаллонное оборудование': 'гибрид',\n",
    "    'газ': 'газ',\n",
    "    'газ, газобаллонное оборудование': 'газ'}\n",
    "    \n",
    "    df.brand = df.brand.apply(lambda x: 'MERCEDES' if x=='MERCEDES-BENZ' else x)\n",
    "#     df.engineDisplacement = df.engineDisplacement.apply(lambda x: float(x[:-4]) if x[:-4] else np.NaN)\n",
    "#     df.enginePower = df.enginePower.apply(lambda x: float(x[:-4]) if x[:-4] else np.NaN).unique()\n",
    "    df.fuelType = df.fuelType.str.lower().map(fuelType_unification)\n",
    "    df.mileage = df.mileage.apply(lambda x: int(x) if x==x else 0)\n",
    "    df.model_name = df.model_name.str.upper()\n",
    "    df.productionDate = df.productionDate.apply(lambda x: int(x) if x==x else 0)\n",
    "    \n",
    "    return df"
   ]
  },
  {
   "cell_type": "code",
   "execution_count": 112,
   "metadata": {},
   "outputs": [],
   "source": [
    "def unification_test(test):\n",
    "    df = test.copy()\n",
    "    \n",
    "    df.engineDisplacement = df.engineDisplacement.apply(lambda x: float(x[:-4]) if x[:-4] else np.NaN)\n",
    "    df.enginePower = df.enginePower.str[:-4].astype(int)\n",
    "\n",
    "    return df"
   ]
  },
  {
   "cell_type": "code",
   "execution_count": null,
   "metadata": {},
   "outputs": [],
   "source": []
  },
  {
   "cell_type": "code",
   "execution_count": 57,
   "metadata": {},
   "outputs": [],
   "source": [
    "# bodyType +++\n",
    "# categ_diff('bodyType')"
   ]
  },
  {
   "cell_type": "code",
   "execution_count": 58,
   "metadata": {},
   "outputs": [],
   "source": [
    "# brand +++\n",
    "\n",
    "# categ_diff('brand')\n",
    "# заменить 'MERCEDES-BENZ' на 'MERCEDES'\n",
    "# ttt = train.brand.apply(lambda x: 'MERCEDES' if x=='MERCEDES-BENZ' else x)\n",
    "# categ_diff2(ttt,test.brand)"
   ]
  },
  {
   "cell_type": "code",
   "execution_count": 59,
   "metadata": {},
   "outputs": [],
   "source": [
    "# car_url +++\n",
    "\n",
    "# categ_diff('color')"
   ]
  },
  {
   "cell_type": "code",
   "execution_count": 60,
   "metadata": {},
   "outputs": [],
   "source": [
    "# engineDisplacement +++\n",
    "\n",
    "# categ_diff('engineDisplacement')\n",
    "\n",
    "# test.engineDisplacement.apply(lambda x: float(x[:-4]) if x[:-4] else np.NaN).unique()"
   ]
  },
  {
   "cell_type": "code",
   "execution_count": 61,
   "metadata": {},
   "outputs": [],
   "source": [
    "# enginePower +++\n",
    "\n",
    "# categ_diff('enginePower')\n",
    "# test.enginePower.str[:-4].unique()\n",
    "# test.enginePower.apply(lambda x: float(x[:-4]) if x[:-4] else np.NaN).unique()"
   ]
  },
  {
   "cell_type": "code",
   "execution_count": 62,
   "metadata": {},
   "outputs": [
    {
     "data": {
      "text/plain": [
       "'equipment_dict'"
      ]
     },
     "execution_count": 62,
     "metadata": {},
     "output_type": "execute_result"
    }
   ],
   "source": [
    "# <<<<<<<<<<<<<<<<<<<<<<<<<<<<<<<<<<<<<<<<<<<<<<<<<<<<<<<<<<<<<<<<<<<<<<<<<<<<<<<<<<<<<<<<<<<<<<<<<<<<<<<<<<\n",
    "# <<<<<<<<<<<<<<<<<<<<<<<<<<<<<<<<<<<<<<<<<<<<<<<<<<<<<<<<<<<<<<<<<<<<<<<<<<<<<<<<<<<<<<<<<<<<<<<<<<<<<<<<<<\n",
    "\n",
    "# equipment_dict \n",
    "\n",
    "'equipment_dict'\n",
    "\n"
   ]
  },
  {
   "cell_type": "code",
   "execution_count": null,
   "metadata": {},
   "outputs": [],
   "source": []
  },
  {
   "cell_type": "code",
   "execution_count": 63,
   "metadata": {},
   "outputs": [],
   "source": [
    "# fuelType +++\n",
    "# categ_diff('fuelType')\n",
    "# categ_diff2(train.fuelType.str.lower(),test.fuelType)\n",
    "fuelType_unification = {\n",
    "    'бензин':'бензин',\n",
    "    'дизель': 'дизель',\n",
    "    'бензин, газобаллонное оборудование': 'бензин',\n",
    "    'гибрид': 'гибрид',\n",
    "    'дизель, газобаллонное оборудование': 'дизель',\n",
    "    'гибрид, газобаллонное оборудование': 'гибрид',\n",
    "    'газ': 'газ',\n",
    "    'газ, газобаллонное оборудование': 'газ'}\n",
    "\n",
    "# train.fuelType.str.lower().map(fuelType_unification)"
   ]
  },
  {
   "cell_type": "code",
   "execution_count": 64,
   "metadata": {},
   "outputs": [],
   "source": [
    "# mileage +++\n",
    "# привести к типу int в train\n",
    "# train.mileage.apply(lambda x: int(x) if x==x else 0)"
   ]
  },
  {
   "cell_type": "code",
   "execution_count": 65,
   "metadata": {},
   "outputs": [],
   "source": [
    "# modelDate +++\n",
    "# привести к дате выпуска в train"
   ]
  },
  {
   "cell_type": "code",
   "execution_count": 66,
   "metadata": {},
   "outputs": [],
   "source": [
    "# model_name +++\n",
    "# train.model_name.str.upper()\n",
    "# categ_diff('model_name')\n",
    "# привести к верхнему регистру в train\n",
    "\n",
    "#\n",
    "# <<<<<<<<<<<<<<<<<<<<<<< ПРОВЕРИТЬ СОВПАДЕНИЕ ОИЕН В test train\n",
    "#"
   ]
  },
  {
   "cell_type": "code",
   "execution_count": 67,
   "metadata": {},
   "outputs": [],
   "source": [
    "# numberOfDoors +++ \n",
    "# categ_diff('numberOfDoors')"
   ]
  },
  {
   "cell_type": "code",
   "execution_count": 68,
   "metadata": {},
   "outputs": [],
   "source": [
    "# productionDate +++\n",
    "# categ_diff('productionDate')\n",
    "# train.productionDate.apply(lambda x: int(x) if x==x else 0)\n",
    "# привести к типу int в train"
   ]
  },
  {
   "cell_type": "code",
   "execution_count": 69,
   "metadata": {},
   "outputs": [],
   "source": [
    "# sell_id +++"
   ]
  },
  {
   "cell_type": "code",
   "execution_count": 70,
   "metadata": {},
   "outputs": [],
   "source": [
    "# vehicleTransmission +++\n",
    "# categ_diff('vehicleTransmission')"
   ]
  },
  {
   "cell_type": "code",
   "execution_count": 71,
   "metadata": {},
   "outputs": [],
   "source": [
    "# vendor +++ \n",
    "# categ_diff('vendor')"
   ]
  },
  {
   "cell_type": "code",
   "execution_count": 72,
   "metadata": {},
   "outputs": [],
   "source": [
    "# Владельцы +++\n",
    "# categ_diff('Владельцы')"
   ]
  },
  {
   "cell_type": "code",
   "execution_count": 73,
   "metadata": {},
   "outputs": [],
   "source": [
    "# ПТС +++\n",
    "# categ_diff('ПТС')"
   ]
  },
  {
   "cell_type": "code",
   "execution_count": 74,
   "metadata": {},
   "outputs": [],
   "source": [
    "# Привод +++\n",
    "# categ_diff('Привод')"
   ]
  },
  {
   "cell_type": "code",
   "execution_count": 75,
   "metadata": {},
   "outputs": [],
   "source": [
    "# Руль\n",
    "# categ_diff('Руль')"
   ]
  },
  {
   "cell_type": "code",
   "execution_count": 116,
   "metadata": {},
   "outputs": [
    {
     "data": {
      "text/plain": [
       "Index(['bodyType', 'brand', 'car_url', 'color', 'engineDisplacement',\n",
       "       'enginePower', 'equipment_dict', 'fuelType', 'mileage', 'modelDate',\n",
       "       'model_name', 'numberOfDoors', 'productionDate', 'sell_id',\n",
       "       'vehicleTransmission', 'vendor', 'Владельцы', 'ПТС', 'Привод', 'Руль'],\n",
       "      dtype='object')"
      ]
     },
     "execution_count": 116,
     "metadata": {},
     "output_type": "execute_result"
    }
   ],
   "source": [
    "test.columns"
   ]
  },
  {
   "cell_type": "code",
   "execution_count": 115,
   "metadata": {},
   "outputs": [
    {
     "data": {
      "text/plain": [
       "array(['SKODA', 'AUDI', 'HONDA', 'VOLVO', 'BMW', 'NISSAN', 'INFINITI',\n",
       "       'MERCEDES', 'TOYOTA', 'LEXUS', 'VOLKSWAGEN', 'MITSUBISHI'],\n",
       "      dtype=object)"
      ]
     },
     "execution_count": 115,
     "metadata": {},
     "output_type": "execute_result"
    }
   ],
   "source": [
    "test.brand.unique()"
   ]
  },
  {
   "cell_type": "code",
   "execution_count": 147,
   "metadata": {},
   "outputs": [
    {
     "data": {
      "text/plain": [
       "array(['4RUNNER', 'ALLEX', 'ALPHARD', 'ALTEZZA', 'AQUA', 'ARISTO',\n",
       "       'AURIS', 'AVALON', 'AVENSIS', 'AVENSIS VERSO', 'BB', 'BLADE',\n",
       "       'C-HR', 'CALDINA', 'CAMI', 'CAMRY', 'CAMRY SOLARA', 'CARINA',\n",
       "       'CARINA E', 'CAVALIER', 'CELICA', 'CHASER', 'COMS', 'COROLLA',\n",
       "       'COROLLA II', 'COROLLA LEVIN', 'COROLLA RUMION', 'COROLLA SPACIO',\n",
       "       'COROLLA VERSO', 'CORONA', 'CORONA EXIV', 'CORSA', 'CRESTA',\n",
       "       'CROWN', 'CROWN MAJESTA', 'CURREN', 'DUET', 'ECHO', 'ESQUIRE',\n",
       "       'ESTIMA', 'FJ CRUISER', 'FORTUNER', 'FUNCARGO', 'GAIA',\n",
       "       'GRAND HIACE', 'GT86', 'HARRIER', 'HIACE', 'HIGHLANDER', 'HILUX',\n",
       "       'HILUX SURF', 'IPSUM', 'IQ', 'ISIS', 'IST', 'LAND CRUISER',\n",
       "       'LAND CRUISER PRADO', 'LITE ACE', 'MARK II', 'MARK X',\n",
       "       'MARK X ZIO', 'MATRIX', 'MEGA CRUISER', 'MR2', 'NADIA', 'NOAH',\n",
       "       'OPA', 'PASSO', 'PICNIC', 'PIXIS VAN', 'PLATZ', 'PORTE', 'PREVIA',\n",
       "       'PRIUS', 'PRIUS ALPHA', 'PRIUS V (+)', 'PROACE', 'PROBOX',\n",
       "       'PROGRES', 'PRONARD', 'RACTIS', 'RAUM', 'RAV4', 'REGIUS',\n",
       "       'SEQUOIA', 'SERA', 'SIENNA', 'SIENTA', 'SOARER', 'SPADE', 'SPARKY',\n",
       "       'SPRINTER', 'SPRINTER CARIB', 'SPRINTER MARINO', 'SPRINTER TRUENO',\n",
       "       'STARLET', 'SUCCEED', 'SUPRA', 'TACOMA', 'TANK', 'TERCEL',\n",
       "       'TOWN ACE', 'TUNDRA', 'VANGUARD', 'VELLFIRE', 'VENZA', 'VEROSSA',\n",
       "       'VERSO', 'VISTA', 'VITZ', 'VOLTZ', 'VOXY', 'WILL', 'WINDOM',\n",
       "       'WISH', 'YARIS'], dtype=object)"
      ]
     },
     "execution_count": 147,
     "metadata": {},
     "output_type": "execute_result"
    }
   ],
   "source": [
    "trn"
   ]
  },
  {
   "cell_type": "code",
   "execution_count": 149,
   "metadata": {},
   "outputs": [
    {
     "data": {
      "text/plain": [
       "0        OCTAVIA\n",
       "1        OCTAVIA\n",
       "2         SUPERB\n",
       "3        OCTAVIA\n",
       "4        OCTAVIA\n",
       "          ...   \n",
       "34681        3ER\n",
       "34682        5ER\n",
       "34683        5ER\n",
       "34684         X1\n",
       "34685         X5\n",
       "Name: model_name, Length: 34686, dtype: object"
      ]
     },
     "execution_count": 149,
     "metadata": {},
     "output_type": "execute_result"
    }
   ],
   "source": [
    "test.model_name.str.replace(' ','_',regex=False)"
   ]
  },
  {
   "cell_type": "code",
   "execution_count": 158,
   "metadata": {},
   "outputs": [],
   "source": [
    "tst = test[test.brand == 'TOYOTA'].model_name.unique()"
   ]
  },
  {
   "cell_type": "code",
   "execution_count": 159,
   "metadata": {},
   "outputs": [],
   "source": [
    "trn = train[train.brand == 'TOYOTA'].model_name.str.replace(' ','_',regex=False).str.upper().unique()"
   ]
  },
  {
   "cell_type": "code",
   "execution_count": 160,
   "metadata": {},
   "outputs": [
    {
     "data": {
      "text/plain": [
       "{'AYGO',\n",
       " 'CARINA_ED',\n",
       " 'CYNOS',\n",
       " 'C_HR',\n",
       " 'GRANVIA',\n",
       " 'MASTER_ACE_SURF',\n",
       " 'MR_S',\n",
       " 'ORIGIN',\n",
       " 'PASEO',\n",
       " 'PREMIO',\n",
       " 'PRIUSPLUS',\n",
       " 'RAV_4',\n",
       " 'SCEPTER_SEDAN',\n",
       " 'VERSO_S',\n",
       " 'WILL_CYPHA',\n",
       " 'YARIS_VERSO'}"
      ]
     },
     "execution_count": 160,
     "metadata": {},
     "output_type": "execute_result"
    }
   ],
   "source": [
    "set(tst) - set(trn)"
   ]
  },
  {
   "cell_type": "code",
   "execution_count": 161,
   "metadata": {},
   "outputs": [
    {
     "data": {
      "text/plain": [
       "{'C-HR',\n",
       " 'COMS',\n",
       " 'PIXIS_VAN',\n",
       " 'PRIUS_V_(+)',\n",
       " 'PROACE',\n",
       " 'PRONARD',\n",
       " 'RAV4',\n",
       " 'TACOMA',\n",
       " 'TANK',\n",
       " 'VOLTZ'}"
      ]
     },
     "execution_count": 161,
     "metadata": {},
     "output_type": "execute_result"
    }
   ],
   "source": [
    "set(trn) - set(tst)"
   ]
  },
  {
   "cell_type": "code",
   "execution_count": 131,
   "metadata": {},
   "outputs": [
    {
     "data": {
      "text/plain": [
       "{'4RUNNER',\n",
       " 'ALLEX',\n",
       " 'ALPHARD',\n",
       " 'ALTEZZA',\n",
       " 'AQUA',\n",
       " 'ARISTO',\n",
       " 'AURIS',\n",
       " 'AVALON',\n",
       " 'AVENSIS',\n",
       " 'AVENSIS VERSO',\n",
       " 'BB',\n",
       " 'BLADE',\n",
       " 'C-HR',\n",
       " 'CALDINA',\n",
       " 'CAMI',\n",
       " 'CAMRY',\n",
       " 'CAMRY SOLARA',\n",
       " 'CARINA',\n",
       " 'CARINA E',\n",
       " 'CAVALIER',\n",
       " 'CELICA',\n",
       " 'CHASER',\n",
       " 'COMS',\n",
       " 'COROLLA',\n",
       " 'COROLLA II',\n",
       " 'COROLLA LEVIN',\n",
       " 'COROLLA RUMION',\n",
       " 'COROLLA SPACIO',\n",
       " 'COROLLA VERSO',\n",
       " 'CORONA',\n",
       " 'CORONA EXIV',\n",
       " 'CORSA',\n",
       " 'CRESTA',\n",
       " 'CROWN',\n",
       " 'CROWN MAJESTA',\n",
       " 'CURREN',\n",
       " 'DUET',\n",
       " 'ECHO',\n",
       " 'ESQUIRE',\n",
       " 'ESTIMA',\n",
       " 'FJ CRUISER',\n",
       " 'FORTUNER',\n",
       " 'FUNCARGO',\n",
       " 'GAIA',\n",
       " 'GRAND HIACE',\n",
       " 'GT86',\n",
       " 'HARRIER',\n",
       " 'HIACE',\n",
       " 'HIGHLANDER',\n",
       " 'HILUX',\n",
       " 'HILUX SURF',\n",
       " 'IPSUM',\n",
       " 'IQ',\n",
       " 'ISIS',\n",
       " 'IST',\n",
       " 'LAND CRUISER',\n",
       " 'LAND CRUISER PRADO',\n",
       " 'LITE ACE',\n",
       " 'MARK II',\n",
       " 'MARK X',\n",
       " 'MARK X ZIO',\n",
       " 'MATRIX',\n",
       " 'MEGA CRUISER',\n",
       " 'MR2',\n",
       " 'NADIA',\n",
       " 'NOAH',\n",
       " 'OPA',\n",
       " 'PASSO',\n",
       " 'PICNIC',\n",
       " 'PIXIS VAN',\n",
       " 'PLATZ',\n",
       " 'PORTE',\n",
       " 'PREVIA',\n",
       " 'PRIUS',\n",
       " 'PRIUS ALPHA',\n",
       " 'PRIUS V (+)',\n",
       " 'PROACE',\n",
       " 'PROBOX',\n",
       " 'PROGRES',\n",
       " 'PRONARD',\n",
       " 'RACTIS',\n",
       " 'RAUM',\n",
       " 'RAV4',\n",
       " 'REGIUS',\n",
       " 'SEQUOIA',\n",
       " 'SERA',\n",
       " 'SIENNA',\n",
       " 'SIENTA',\n",
       " 'SOARER',\n",
       " 'SPADE',\n",
       " 'SPARKY',\n",
       " 'SPRINTER',\n",
       " 'SPRINTER CARIB',\n",
       " 'SPRINTER MARINO',\n",
       " 'SPRINTER TRUENO',\n",
       " 'STARLET',\n",
       " 'SUCCEED',\n",
       " 'SUPRA',\n",
       " 'TACOMA',\n",
       " 'TANK',\n",
       " 'TERCEL',\n",
       " 'TOWN ACE',\n",
       " 'TUNDRA',\n",
       " 'VANGUARD',\n",
       " 'VELLFIRE',\n",
       " 'VENZA',\n",
       " 'VEROSSA',\n",
       " 'VERSO',\n",
       " 'VISTA',\n",
       " 'VITZ',\n",
       " 'VOLTZ',\n",
       " 'VOXY',\n",
       " 'WILL',\n",
       " 'WINDOM',\n",
       " 'WISH',\n",
       " 'YARIS'}"
      ]
     },
     "execution_count": 131,
     "metadata": {},
     "output_type": "execute_result"
    }
   ],
   "source": [
    "set(trn)"
   ]
  },
  {
   "cell_type": "code",
   "execution_count": 83,
   "metadata": {},
   "outputs": [],
   "source": [
    "tmp = unification_train(train)"
   ]
  },
  {
   "cell_type": "code",
   "execution_count": 114,
   "metadata": {},
   "outputs": [],
   "source": [
    "# for col in test.columns.drop(['car_url','equipment_dict','mileage','sell_id',]):\n",
    "#     print (col)    \n",
    "#     categ_diff2(test[col],tmp[col])\n",
    "#     print ('\\n')"
   ]
  },
  {
   "cell_type": "markdown",
   "metadata": {},
   "source": [
    "## ========================================="
   ]
  },
  {
   "cell_type": "markdown",
   "metadata": {},
   "source": [
    "## Проверка на отсутсвие в train наблюдений из test"
   ]
  },
  {
   "cell_type": "code",
   "execution_count": null,
   "metadata": {},
   "outputs": [],
   "source": []
  },
  {
   "cell_type": "markdown",
   "metadata": {},
   "source": [
    "## Оработка пропусков"
   ]
  },
  {
   "cell_type": "code",
   "execution_count": null,
   "metadata": {},
   "outputs": [],
   "source": []
  },
  {
   "cell_type": "markdown",
   "metadata": {},
   "source": [
    "## Объединение test и train"
   ]
  },
  {
   "cell_type": "code",
   "execution_count": null,
   "metadata": {},
   "outputs": [],
   "source": []
  },
  {
   "cell_type": "markdown",
   "metadata": {},
   "source": [
    "## EDA test и train"
   ]
  },
  {
   "cell_type": "code",
   "execution_count": null,
   "metadata": {},
   "outputs": [],
   "source": []
  },
  {
   "cell_type": "markdown",
   "metadata": {},
   "source": [
    "## Предобработка"
   ]
  },
  {
   "cell_type": "code",
   "execution_count": null,
   "metadata": {},
   "outputs": [],
   "source": []
  },
  {
   "cell_type": "markdown",
   "metadata": {},
   "source": [
    "## Base-line"
   ]
  },
  {
   "cell_type": "code",
   "execution_count": null,
   "metadata": {},
   "outputs": [],
   "source": []
  },
  {
   "cell_type": "markdown",
   "metadata": {},
   "source": [
    "## Features construction"
   ]
  },
  {
   "cell_type": "code",
   "execution_count": null,
   "metadata": {},
   "outputs": [],
   "source": []
  },
  {
   "cell_type": "markdown",
   "metadata": {},
   "source": [
    "## Отбор признаков"
   ]
  },
  {
   "cell_type": "code",
   "execution_count": null,
   "metadata": {},
   "outputs": [],
   "source": []
  },
  {
   "cell_type": "markdown",
   "metadata": {},
   "source": [
    "## Подбор гиперпараметров"
   ]
  },
  {
   "cell_type": "code",
   "execution_count": null,
   "metadata": {},
   "outputs": [],
   "source": []
  },
  {
   "cell_type": "code",
   "execution_count": null,
   "metadata": {},
   "outputs": [],
   "source": []
  },
  {
   "cell_type": "code",
   "execution_count": null,
   "metadata": {},
   "outputs": [],
   "source": []
  },
  {
   "cell_type": "markdown",
   "metadata": {},
   "source": [
    "## ========================================================"
   ]
  },
  {
   "cell_type": "markdown",
   "metadata": {},
   "source": [
    "# Подвал"
   ]
  },
  {
   "cell_type": "code",
   "execution_count": null,
   "metadata": {},
   "outputs": [],
   "source": [
    "'''tt = df_test.complectation_dict[2]\n",
    "ttt = json.loads(tt)\n",
    "ttt['available_options']'''"
   ]
  },
  {
   "cell_type": "code",
   "execution_count": null,
   "metadata": {},
   "outputs": [],
   "source": [
    "'''bodyType', 'brand', 'car_url', 'color',\n",
    "        'engineDisplacement', 'enginePower', 'equipment_dict',\n",
    "       'fuelType', 'mileage', 'modelDate', 'model_name',\n",
    "    'numberOfDoors', 'parsing_unixtime', \n",
    "       'productionDate', 'sell_id', \n",
    "       'vehicleTransmission', 'vendor', 'Владельцы', 'Владение', 'ПТС',\n",
    "       'Привод', 'Руль''';"
   ]
  },
  {
   "cell_type": "code",
   "execution_count": null,
   "metadata": {},
   "outputs": [],
   "source": [
    "# df_test[df_test.brand == \"AUDI\"].model_name"
   ]
  },
  {
   "cell_type": "code",
   "execution_count": null,
   "metadata": {},
   "outputs": [],
   "source": []
  },
  {
   "cell_type": "code",
   "execution_count": 60,
   "metadata": {},
   "outputs": [],
   "source": [
    "'''tmp = pd.read_csv(f'{path}all_marks.csv')\n",
    "tmp.columns =pd.Index(['bodyType', 'brand', 'car_url', 'color', 'engineDisplacement',\n",
    "       'enginePower', 'equipment_dict', 'fuelType', 'mileage', 'modelDate',\n",
    "       'model_name', 'numberOfDoors', 'productionDate', 'sell_id',\n",
    "       'vehicleTransmission', 'vendor', 'Владельцы', 'ПТС', 'Привод', 'Руль',\n",
    "       'offerprice'],\n",
    "      dtype='object')\n",
    "tmp.to_csv(f'{path}all_marks.csv',index=False)\n",
    "\n",
    "tmp = pd.read_csv(f'{path}extra_train.csv')\n",
    "tmp.columns =pd.Index(['bodyType', 'brand', 'car_url', 'color', 'engineDisplacement',\n",
    "       'enginePower', 'equipment_dict', 'fuelType', 'mileage', 'modelDate',\n",
    "       'model_name', 'numberOfDoors', 'productionDate', 'sell_id',\n",
    "       'vehicleTransmission', 'vendor', 'Владельцы', 'ПТС', 'Привод', 'Руль',\n",
    "       'offerprice'],\n",
    "      dtype='object')\n",
    "tmp.to_csv(f'{path}extra_train.csv',index=False)\n",
    "\n",
    "tmp = pd.read_csv(f'{path}train.csv')\n",
    "tmp.columns =pd.Index(['bodyType', 'brand', 'car_url', 'color', 'engineDisplacement',\n",
    "       'enginePower', 'equipment_dict', 'fuelType', 'mileage', 'modelDate',\n",
    "       'model_name', 'numberOfDoors', 'productionDate', 'sell_id',\n",
    "       'vehicleTransmission', 'vendor', 'Владельцы', 'ПТС', 'Привод', 'Руль',\n",
    "       'offerprice'],\n",
    "      dtype='object')\n",
    "tmp.to_csv(f'{path}train.csv',index=False)''';"
   ]
  },
  {
   "cell_type": "code",
   "execution_count": 101,
   "metadata": {},
   "outputs": [
    {
     "data": {
      "text/html": [
       "<div>\n",
       "<style scoped>\n",
       "    .dataframe tbody tr th:only-of-type {\n",
       "        vertical-align: middle;\n",
       "    }\n",
       "\n",
       "    .dataframe tbody tr th {\n",
       "        vertical-align: top;\n",
       "    }\n",
       "\n",
       "    .dataframe thead th {\n",
       "        text-align: right;\n",
       "    }\n",
       "</style>\n",
       "<table border=\"1\" class=\"dataframe\">\n",
       "  <thead>\n",
       "    <tr style=\"text-align: right;\">\n",
       "      <th></th>\n",
       "      <th>bodyType</th>\n",
       "      <th>brand</th>\n",
       "      <th>car_url</th>\n",
       "      <th>color</th>\n",
       "      <th>engineDisplacement</th>\n",
       "      <th>enginePower</th>\n",
       "      <th>equipment_dict</th>\n",
       "      <th>fuelType</th>\n",
       "      <th>mileage</th>\n",
       "      <th>modelDate</th>\n",
       "      <th>model_name</th>\n",
       "      <th>numberOfDoors</th>\n",
       "      <th>productionDate</th>\n",
       "      <th>sell_id</th>\n",
       "      <th>vehicleTransmission</th>\n",
       "      <th>vendor</th>\n",
       "      <th>Владельцы</th>\n",
       "      <th>ПТС</th>\n",
       "      <th>Привод</th>\n",
       "      <th>Руль</th>\n",
       "      <th>offerprice</th>\n",
       "    </tr>\n",
       "  </thead>\n",
       "  <tbody>\n",
       "    <tr>\n",
       "      <td>62782</td>\n",
       "      <td>седан</td>\n",
       "      <td>TESLA</td>\n",
       "      <td>https://auto.ru/cars/used/sale/tesla/model_3/1...</td>\n",
       "      <td>белый</td>\n",
       "      <td>NaN</td>\n",
       "      <td>NaN</td>\n",
       "      <td>NaN</td>\n",
       "      <td>NaN</td>\n",
       "      <td>11000.0</td>\n",
       "      <td>2018.0</td>\n",
       "      <td>Model 3</td>\n",
       "      <td>NaN</td>\n",
       "      <td>2019.0</td>\n",
       "      <td>1102283481</td>\n",
       "      <td>автоматическая</td>\n",
       "      <td>NAN</td>\n",
       "      <td>1 владелец</td>\n",
       "      <td>Оригинал</td>\n",
       "      <td>задний</td>\n",
       "      <td>Левый</td>\n",
       "      <td>3400000.0</td>\n",
       "    </tr>\n",
       "    <tr>\n",
       "      <td>62783</td>\n",
       "      <td>седан</td>\n",
       "      <td>TESLA</td>\n",
       "      <td>https://auto.ru/cars/used/sale/tesla/model_3/1...</td>\n",
       "      <td>чёрный</td>\n",
       "      <td>NaN</td>\n",
       "      <td>NaN</td>\n",
       "      <td>{'Безопасность': ['Антипробуксовочная система ...</td>\n",
       "      <td>NaN</td>\n",
       "      <td>32800.0</td>\n",
       "      <td>2018.0</td>\n",
       "      <td>Model 3</td>\n",
       "      <td>NaN</td>\n",
       "      <td>2019.0</td>\n",
       "      <td>1102280379</td>\n",
       "      <td>автоматическая</td>\n",
       "      <td>NAN</td>\n",
       "      <td>1 владелец</td>\n",
       "      <td>Оригинал</td>\n",
       "      <td>задний</td>\n",
       "      <td>Левый</td>\n",
       "      <td>3580000.0</td>\n",
       "    </tr>\n",
       "    <tr>\n",
       "      <td>62784</td>\n",
       "      <td>седан</td>\n",
       "      <td>TESLA</td>\n",
       "      <td>https://auto.ru/cars/used/sale/tesla/model_3/1...</td>\n",
       "      <td>чёрный</td>\n",
       "      <td>NaN</td>\n",
       "      <td>NaN</td>\n",
       "      <td>NaN</td>\n",
       "      <td>NaN</td>\n",
       "      <td>10000.0</td>\n",
       "      <td>2018.0</td>\n",
       "      <td>Model 3</td>\n",
       "      <td>NaN</td>\n",
       "      <td>2020.0</td>\n",
       "      <td>1102725846</td>\n",
       "      <td>автоматическая</td>\n",
       "      <td>NAN</td>\n",
       "      <td>1 владелец</td>\n",
       "      <td>Оригинал</td>\n",
       "      <td>полный</td>\n",
       "      <td>Левый</td>\n",
       "      <td>5350000.0</td>\n",
       "    </tr>\n",
       "    <tr>\n",
       "      <td>62785</td>\n",
       "      <td>седан</td>\n",
       "      <td>TESLA</td>\n",
       "      <td>https://auto.ru/cars/used/sale/tesla/model_3/1...</td>\n",
       "      <td>белый</td>\n",
       "      <td>NaN</td>\n",
       "      <td>NaN</td>\n",
       "      <td>{'Безопасность': ['Антипробуксовочная система ...</td>\n",
       "      <td>NaN</td>\n",
       "      <td>13000.0</td>\n",
       "      <td>2018.0</td>\n",
       "      <td>Model 3</td>\n",
       "      <td>NaN</td>\n",
       "      <td>2019.0</td>\n",
       "      <td>1102673072</td>\n",
       "      <td>автоматическая</td>\n",
       "      <td>NAN</td>\n",
       "      <td>1 владелец</td>\n",
       "      <td>Оригинал</td>\n",
       "      <td>полный</td>\n",
       "      <td>Левый</td>\n",
       "      <td>5250000.0</td>\n",
       "    </tr>\n",
       "    <tr>\n",
       "      <td>62786</td>\n",
       "      <td>седан</td>\n",
       "      <td>TESLA</td>\n",
       "      <td>https://auto.ru/cars/used/sale/tesla/model_3/1...</td>\n",
       "      <td>белый</td>\n",
       "      <td>NaN</td>\n",
       "      <td>NaN</td>\n",
       "      <td>{'Безопасность': ['Антипробуксовочная система ...</td>\n",
       "      <td>NaN</td>\n",
       "      <td>12500.0</td>\n",
       "      <td>2018.0</td>\n",
       "      <td>Model 3</td>\n",
       "      <td>NaN</td>\n",
       "      <td>2019.0</td>\n",
       "      <td>1102175148</td>\n",
       "      <td>автоматическая</td>\n",
       "      <td>NAN</td>\n",
       "      <td>1 владелец</td>\n",
       "      <td>Оригинал</td>\n",
       "      <td>задний</td>\n",
       "      <td>Левый</td>\n",
       "      <td>3850000.0</td>\n",
       "    </tr>\n",
       "    <tr>\n",
       "      <td>62787</td>\n",
       "      <td>седан</td>\n",
       "      <td>TESLA</td>\n",
       "      <td>https://auto.ru/cars/used/sale/tesla/model_3/1...</td>\n",
       "      <td>белый</td>\n",
       "      <td>NaN</td>\n",
       "      <td>NaN</td>\n",
       "      <td>{'Безопасность': ['Система стабилизации (ESP)'...</td>\n",
       "      <td>NaN</td>\n",
       "      <td>59300.0</td>\n",
       "      <td>2018.0</td>\n",
       "      <td>Model 3</td>\n",
       "      <td>NaN</td>\n",
       "      <td>2018.0</td>\n",
       "      <td>1101670618</td>\n",
       "      <td>автоматическая</td>\n",
       "      <td>NAN</td>\n",
       "      <td>1 владелец</td>\n",
       "      <td>Оригинал</td>\n",
       "      <td>задний</td>\n",
       "      <td>Левый</td>\n",
       "      <td>3820000.0</td>\n",
       "    </tr>\n",
       "    <tr>\n",
       "      <td>62788</td>\n",
       "      <td>седан</td>\n",
       "      <td>TESLA</td>\n",
       "      <td>https://auto.ru/cars/used/sale/tesla/model_3/1...</td>\n",
       "      <td>чёрный</td>\n",
       "      <td>NaN</td>\n",
       "      <td>NaN</td>\n",
       "      <td>{'Комфорт': ['Круиз-контроль', 'Бортовой компь...</td>\n",
       "      <td>NaN</td>\n",
       "      <td>15980.0</td>\n",
       "      <td>2018.0</td>\n",
       "      <td>Model 3</td>\n",
       "      <td>NaN</td>\n",
       "      <td>2019.0</td>\n",
       "      <td>1102437051</td>\n",
       "      <td>автоматическая</td>\n",
       "      <td>NAN</td>\n",
       "      <td>1 владелец</td>\n",
       "      <td>Оригинал</td>\n",
       "      <td>задний</td>\n",
       "      <td>Левый</td>\n",
       "      <td>3950000.0</td>\n",
       "    </tr>\n",
       "    <tr>\n",
       "      <td>62789</td>\n",
       "      <td>седан</td>\n",
       "      <td>TESLA</td>\n",
       "      <td>https://auto.ru/cars/used/sale/tesla/model_3/1...</td>\n",
       "      <td>белый</td>\n",
       "      <td>NaN</td>\n",
       "      <td>NaN</td>\n",
       "      <td>{'Безопасность': ['Система стабилизации (ESP)'...</td>\n",
       "      <td>NaN</td>\n",
       "      <td>41000.0</td>\n",
       "      <td>2018.0</td>\n",
       "      <td>Model 3</td>\n",
       "      <td>NaN</td>\n",
       "      <td>2019.0</td>\n",
       "      <td>1102516936</td>\n",
       "      <td>автоматическая</td>\n",
       "      <td>NAN</td>\n",
       "      <td>1 владелец</td>\n",
       "      <td>Оригинал</td>\n",
       "      <td>задний</td>\n",
       "      <td>Левый</td>\n",
       "      <td>3500000.0</td>\n",
       "    </tr>\n",
       "    <tr>\n",
       "      <td>62790</td>\n",
       "      <td>седан</td>\n",
       "      <td>TESLA</td>\n",
       "      <td>https://auto.ru/cars/used/sale/tesla/model_3/1...</td>\n",
       "      <td>чёрный</td>\n",
       "      <td>NaN</td>\n",
       "      <td>NaN</td>\n",
       "      <td>NaN</td>\n",
       "      <td>NaN</td>\n",
       "      <td>9000.0</td>\n",
       "      <td>2018.0</td>\n",
       "      <td>Model 3</td>\n",
       "      <td>NaN</td>\n",
       "      <td>2019.0</td>\n",
       "      <td>1102586180</td>\n",
       "      <td>автоматическая</td>\n",
       "      <td>NAN</td>\n",
       "      <td>1 владелец</td>\n",
       "      <td>Оригинал</td>\n",
       "      <td>полный</td>\n",
       "      <td>Левый</td>\n",
       "      <td>3750000.0</td>\n",
       "    </tr>\n",
       "    <tr>\n",
       "      <td>62791</td>\n",
       "      <td>лифтбек</td>\n",
       "      <td>TESLA</td>\n",
       "      <td>https://auto.ru/cars/used/sale/tesla/model_s/1...</td>\n",
       "      <td>красный</td>\n",
       "      <td>NaN</td>\n",
       "      <td>NaN</td>\n",
       "      <td>{'Салон': ['Тонированные стекла', 'Передний це...</td>\n",
       "      <td>NaN</td>\n",
       "      <td>120000.0</td>\n",
       "      <td>2018.0</td>\n",
       "      <td>Model S</td>\n",
       "      <td>NaN</td>\n",
       "      <td>2018.0</td>\n",
       "      <td>1102613930</td>\n",
       "      <td>автоматическая</td>\n",
       "      <td>NAN</td>\n",
       "      <td>1 владелец</td>\n",
       "      <td>Оригинал</td>\n",
       "      <td>полный</td>\n",
       "      <td>Левый</td>\n",
       "      <td>3950000.0</td>\n",
       "    </tr>\n",
       "    <tr>\n",
       "      <td>62792</td>\n",
       "      <td>лифтбек</td>\n",
       "      <td>TESLA</td>\n",
       "      <td>https://auto.ru/cars/used/sale/tesla/model_s/1...</td>\n",
       "      <td>серый</td>\n",
       "      <td>NaN</td>\n",
       "      <td>NaN</td>\n",
       "      <td>{'Салон': ['Панорамная крыша / лобовое стекло'...</td>\n",
       "      <td>NaN</td>\n",
       "      <td>118500.0</td>\n",
       "      <td>2012.0</td>\n",
       "      <td>Model S</td>\n",
       "      <td>NaN</td>\n",
       "      <td>2013.0</td>\n",
       "      <td>1102528297</td>\n",
       "      <td>автоматическая</td>\n",
       "      <td>NAN</td>\n",
       "      <td>1 владелец</td>\n",
       "      <td>Оригинал</td>\n",
       "      <td>задний</td>\n",
       "      <td>Левый</td>\n",
       "      <td>2650000.0</td>\n",
       "    </tr>\n",
       "    <tr>\n",
       "      <td>62793</td>\n",
       "      <td>лифтбек</td>\n",
       "      <td>TESLA</td>\n",
       "      <td>https://auto.ru/cars/used/sale/tesla/model_s/1...</td>\n",
       "      <td>красный</td>\n",
       "      <td>NaN</td>\n",
       "      <td>NaN</td>\n",
       "      <td>{'Комфорт': ['Круиз-контроль', 'Парктроник пер...</td>\n",
       "      <td>NaN</td>\n",
       "      <td>75880.0</td>\n",
       "      <td>2018.0</td>\n",
       "      <td>Model S</td>\n",
       "      <td>NaN</td>\n",
       "      <td>2018.0</td>\n",
       "      <td>1102863527</td>\n",
       "      <td>автоматическая</td>\n",
       "      <td>NAN</td>\n",
       "      <td>3 или более</td>\n",
       "      <td>Оригинал</td>\n",
       "      <td>полный</td>\n",
       "      <td>Левый</td>\n",
       "      <td>4830000.0</td>\n",
       "    </tr>\n",
       "    <tr>\n",
       "      <td>62794</td>\n",
       "      <td>лифтбек</td>\n",
       "      <td>TESLA</td>\n",
       "      <td>https://auto.ru/cars/used/sale/tesla/model_s/1...</td>\n",
       "      <td>чёрный</td>\n",
       "      <td>NaN</td>\n",
       "      <td>NaN</td>\n",
       "      <td>{'Салон': ['Тонированные стекла', 'Передний це...</td>\n",
       "      <td>NaN</td>\n",
       "      <td>45000.0</td>\n",
       "      <td>2018.0</td>\n",
       "      <td>Model S</td>\n",
       "      <td>NaN</td>\n",
       "      <td>2018.0</td>\n",
       "      <td>1102077792</td>\n",
       "      <td>автоматическая</td>\n",
       "      <td>NAN</td>\n",
       "      <td>1 владелец</td>\n",
       "      <td>Оригинал</td>\n",
       "      <td>полный</td>\n",
       "      <td>Левый</td>\n",
       "      <td>6550000.0</td>\n",
       "    </tr>\n",
       "    <tr>\n",
       "      <td>62795</td>\n",
       "      <td>лифтбек</td>\n",
       "      <td>TESLA</td>\n",
       "      <td>https://auto.ru/cars/used/sale/tesla/model_s/1...</td>\n",
       "      <td>чёрный</td>\n",
       "      <td>NaN</td>\n",
       "      <td>NaN</td>\n",
       "      <td>NaN</td>\n",
       "      <td>NaN</td>\n",
       "      <td>42000.0</td>\n",
       "      <td>2012.0</td>\n",
       "      <td>Model S</td>\n",
       "      <td>NaN</td>\n",
       "      <td>2013.0</td>\n",
       "      <td>1101942771</td>\n",
       "      <td>автоматическая</td>\n",
       "      <td>NAN</td>\n",
       "      <td>2 владельца</td>\n",
       "      <td>Оригинал</td>\n",
       "      <td>задний</td>\n",
       "      <td>Левый</td>\n",
       "      <td>2499000.0</td>\n",
       "    </tr>\n",
       "    <tr>\n",
       "      <td>62796</td>\n",
       "      <td>лифтбек</td>\n",
       "      <td>TESLA</td>\n",
       "      <td>https://auto.ru/cars/used/sale/tesla/model_s/1...</td>\n",
       "      <td>белый</td>\n",
       "      <td>NaN</td>\n",
       "      <td>NaN</td>\n",
       "      <td>{'Салон': ['Тонированные стекла', 'Передний це...</td>\n",
       "      <td>NaN</td>\n",
       "      <td>180000.0</td>\n",
       "      <td>2012.0</td>\n",
       "      <td>Model S</td>\n",
       "      <td>NaN</td>\n",
       "      <td>2014.0</td>\n",
       "      <td>1102410879</td>\n",
       "      <td>автоматическая</td>\n",
       "      <td>NAN</td>\n",
       "      <td>1 владелец</td>\n",
       "      <td>Оригинал</td>\n",
       "      <td>задний</td>\n",
       "      <td>Левый</td>\n",
       "      <td>3295000.0</td>\n",
       "    </tr>\n",
       "    <tr>\n",
       "      <td>62797</td>\n",
       "      <td>лифтбек</td>\n",
       "      <td>TESLA</td>\n",
       "      <td>https://auto.ru/cars/used/sale/tesla/model_s/1...</td>\n",
       "      <td>чёрный</td>\n",
       "      <td>NaN</td>\n",
       "      <td>NaN</td>\n",
       "      <td>{'Комфорт': ['Круиз-контроль', 'Электропривод ...</td>\n",
       "      <td>NaN</td>\n",
       "      <td>150000.0</td>\n",
       "      <td>2012.0</td>\n",
       "      <td>Model S</td>\n",
       "      <td>NaN</td>\n",
       "      <td>2013.0</td>\n",
       "      <td>1102816349</td>\n",
       "      <td>автоматическая</td>\n",
       "      <td>NAN</td>\n",
       "      <td>1 владелец</td>\n",
       "      <td>Оригинал</td>\n",
       "      <td>задний</td>\n",
       "      <td>Левый</td>\n",
       "      <td>2499000.0</td>\n",
       "    </tr>\n",
       "    <tr>\n",
       "      <td>62798</td>\n",
       "      <td>лифтбек</td>\n",
       "      <td>TESLA</td>\n",
       "      <td>https://auto.ru/cars/used/sale/tesla/model_s/1...</td>\n",
       "      <td>чёрный</td>\n",
       "      <td>NaN</td>\n",
       "      <td>NaN</td>\n",
       "      <td>NaN</td>\n",
       "      <td>NaN</td>\n",
       "      <td>103000.0</td>\n",
       "      <td>2012.0</td>\n",
       "      <td>Model S</td>\n",
       "      <td>NaN</td>\n",
       "      <td>2013.0</td>\n",
       "      <td>1102383037</td>\n",
       "      <td>автоматическая</td>\n",
       "      <td>NAN</td>\n",
       "      <td>1 владелец</td>\n",
       "      <td>Оригинал</td>\n",
       "      <td>задний</td>\n",
       "      <td>Левый</td>\n",
       "      <td>2780000.0</td>\n",
       "    </tr>\n",
       "    <tr>\n",
       "      <td>62799</td>\n",
       "      <td>лифтбек</td>\n",
       "      <td>TESLA</td>\n",
       "      <td>https://auto.ru/cars/used/sale/tesla/model_s/1...</td>\n",
       "      <td>красный</td>\n",
       "      <td>NaN</td>\n",
       "      <td>NaN</td>\n",
       "      <td>{'Комфорт': ['Круиз-контроль', 'Электрорегулир...</td>\n",
       "      <td>NaN</td>\n",
       "      <td>2600.0</td>\n",
       "      <td>2012.0</td>\n",
       "      <td>Model S</td>\n",
       "      <td>NaN</td>\n",
       "      <td>2014.0</td>\n",
       "      <td>1101420008</td>\n",
       "      <td>автоматическая</td>\n",
       "      <td>NAN</td>\n",
       "      <td>1 владелец</td>\n",
       "      <td>Оригинал</td>\n",
       "      <td>задний</td>\n",
       "      <td>Левый</td>\n",
       "      <td>3550000.0</td>\n",
       "    </tr>\n",
       "    <tr>\n",
       "      <td>62800</td>\n",
       "      <td>лифтбек</td>\n",
       "      <td>TESLA</td>\n",
       "      <td>https://auto.ru/cars/used/sale/tesla/model_s/1...</td>\n",
       "      <td>белый</td>\n",
       "      <td>NaN</td>\n",
       "      <td>NaN</td>\n",
       "      <td>{'Комфорт': ['Круиз-контроль', 'Электрорегулир...</td>\n",
       "      <td>NaN</td>\n",
       "      <td>92000.0</td>\n",
       "      <td>2012.0</td>\n",
       "      <td>Model S</td>\n",
       "      <td>NaN</td>\n",
       "      <td>2012.0</td>\n",
       "      <td>1102321183</td>\n",
       "      <td>автоматическая</td>\n",
       "      <td>NAN</td>\n",
       "      <td>3 или более</td>\n",
       "      <td>Оригинал</td>\n",
       "      <td>задний</td>\n",
       "      <td>Левый</td>\n",
       "      <td>2800000.0</td>\n",
       "    </tr>\n",
       "    <tr>\n",
       "      <td>62801</td>\n",
       "      <td>лифтбек</td>\n",
       "      <td>TESLA</td>\n",
       "      <td>https://auto.ru/cars/used/sale/tesla/model_s/1...</td>\n",
       "      <td>красный</td>\n",
       "      <td>NaN</td>\n",
       "      <td>NaN</td>\n",
       "      <td>{'Комфорт': ['Круиз-контроль', 'Электрорегулир...</td>\n",
       "      <td>NaN</td>\n",
       "      <td>65000.0</td>\n",
       "      <td>2012.0</td>\n",
       "      <td>Model S</td>\n",
       "      <td>NaN</td>\n",
       "      <td>2014.0</td>\n",
       "      <td>1091599756</td>\n",
       "      <td>автоматическая</td>\n",
       "      <td>NAN</td>\n",
       "      <td>3 или более</td>\n",
       "      <td>Оригинал</td>\n",
       "      <td>задний</td>\n",
       "      <td>Левый</td>\n",
       "      <td>3499999.0</td>\n",
       "    </tr>\n",
       "    <tr>\n",
       "      <td>62802</td>\n",
       "      <td>лифтбек</td>\n",
       "      <td>TESLA</td>\n",
       "      <td>https://auto.ru/cars/used/sale/tesla/model_s/1...</td>\n",
       "      <td>красный</td>\n",
       "      <td>NaN</td>\n",
       "      <td>NaN</td>\n",
       "      <td>{'Безопасность': ['Антипробуксовочная система ...</td>\n",
       "      <td>NaN</td>\n",
       "      <td>53000.0</td>\n",
       "      <td>2012.0</td>\n",
       "      <td>Model S</td>\n",
       "      <td>NaN</td>\n",
       "      <td>2015.0</td>\n",
       "      <td>1095424346</td>\n",
       "      <td>автоматическая</td>\n",
       "      <td>NAN</td>\n",
       "      <td>3 или более</td>\n",
       "      <td>Оригинал</td>\n",
       "      <td>полный</td>\n",
       "      <td>Левый</td>\n",
       "      <td>4900000.0</td>\n",
       "    </tr>\n",
       "    <tr>\n",
       "      <td>62803</td>\n",
       "      <td>лифтбек</td>\n",
       "      <td>TESLA</td>\n",
       "      <td>https://auto.ru/cars/used/sale/tesla/model_s/1...</td>\n",
       "      <td>белый</td>\n",
       "      <td>NaN</td>\n",
       "      <td>NaN</td>\n",
       "      <td>{'Комфорт': ['Круиз-контроль', 'Мультифункцион...</td>\n",
       "      <td>NaN</td>\n",
       "      <td>46000.0</td>\n",
       "      <td>2012.0</td>\n",
       "      <td>Model S</td>\n",
       "      <td>NaN</td>\n",
       "      <td>2015.0</td>\n",
       "      <td>1101953654</td>\n",
       "      <td>автоматическая</td>\n",
       "      <td>NAN</td>\n",
       "      <td>2 владельца</td>\n",
       "      <td>Оригинал</td>\n",
       "      <td>полный</td>\n",
       "      <td>Левый</td>\n",
       "      <td>4800000.0</td>\n",
       "    </tr>\n",
       "    <tr>\n",
       "      <td>62804</td>\n",
       "      <td>лифтбек</td>\n",
       "      <td>TESLA</td>\n",
       "      <td>https://auto.ru/cars/used/sale/tesla/model_s/1...</td>\n",
       "      <td>чёрный</td>\n",
       "      <td>NaN</td>\n",
       "      <td>NaN</td>\n",
       "      <td>{'Безопасность': ['Система стабилизации (ESP)'...</td>\n",
       "      <td>NaN</td>\n",
       "      <td>63500.0</td>\n",
       "      <td>2018.0</td>\n",
       "      <td>Model S</td>\n",
       "      <td>NaN</td>\n",
       "      <td>2016.0</td>\n",
       "      <td>1101949817</td>\n",
       "      <td>автоматическая</td>\n",
       "      <td>NAN</td>\n",
       "      <td>1 владелец</td>\n",
       "      <td>Оригинал</td>\n",
       "      <td>полный</td>\n",
       "      <td>Левый</td>\n",
       "      <td>3600000.0</td>\n",
       "    </tr>\n",
       "    <tr>\n",
       "      <td>62805</td>\n",
       "      <td>внедорожник 5 дв.</td>\n",
       "      <td>TESLA</td>\n",
       "      <td>https://auto.ru/cars/used/sale/tesla/model_x/1...</td>\n",
       "      <td>синий</td>\n",
       "      <td>NaN</td>\n",
       "      <td>NaN</td>\n",
       "      <td>{'Салон': ['Тонированные стекла', 'Спортивные ...</td>\n",
       "      <td>NaN</td>\n",
       "      <td>80000.0</td>\n",
       "      <td>2016.0</td>\n",
       "      <td>Model X</td>\n",
       "      <td>5.0</td>\n",
       "      <td>2016.0</td>\n",
       "      <td>1101749766</td>\n",
       "      <td>автоматическая</td>\n",
       "      <td>NAN</td>\n",
       "      <td>1 владелец</td>\n",
       "      <td>Оригинал</td>\n",
       "      <td>полный</td>\n",
       "      <td>Левый</td>\n",
       "      <td>6250000.0</td>\n",
       "    </tr>\n",
       "    <tr>\n",
       "      <td>62806</td>\n",
       "      <td>внедорожник 5 дв.</td>\n",
       "      <td>TESLA</td>\n",
       "      <td>https://auto.ru/cars/used/sale/tesla/model_x/1...</td>\n",
       "      <td>белый</td>\n",
       "      <td>NaN</td>\n",
       "      <td>NaN</td>\n",
       "      <td>{'Безопасность': ['ЭРА-ГЛОНАСС'], 'Элементы эк...</td>\n",
       "      <td>NaN</td>\n",
       "      <td>6757.0</td>\n",
       "      <td>2016.0</td>\n",
       "      <td>Model X</td>\n",
       "      <td>5.0</td>\n",
       "      <td>2020.0</td>\n",
       "      <td>1102793873</td>\n",
       "      <td>автоматическая</td>\n",
       "      <td>NAN</td>\n",
       "      <td>1 владелец</td>\n",
       "      <td>Оригинал</td>\n",
       "      <td>полный</td>\n",
       "      <td>Левый</td>\n",
       "      <td>8700000.0</td>\n",
       "    </tr>\n",
       "    <tr>\n",
       "      <td>62807</td>\n",
       "      <td>внедорожник 5 дв.</td>\n",
       "      <td>TESLA</td>\n",
       "      <td>https://auto.ru/cars/used/sale/tesla/model_x/1...</td>\n",
       "      <td>белый</td>\n",
       "      <td>NaN</td>\n",
       "      <td>NaN</td>\n",
       "      <td>{'Безопасность': ['Система стабилизации (ESP)'...</td>\n",
       "      <td>NaN</td>\n",
       "      <td>26600.0</td>\n",
       "      <td>2016.0</td>\n",
       "      <td>Model X</td>\n",
       "      <td>5.0</td>\n",
       "      <td>2019.0</td>\n",
       "      <td>1102233094</td>\n",
       "      <td>автоматическая</td>\n",
       "      <td>NAN</td>\n",
       "      <td>2 владельца</td>\n",
       "      <td>Оригинал</td>\n",
       "      <td>полный</td>\n",
       "      <td>Левый</td>\n",
       "      <td>7999999.0</td>\n",
       "    </tr>\n",
       "    <tr>\n",
       "      <td>62808</td>\n",
       "      <td>внедорожник 5 дв.</td>\n",
       "      <td>TESLA</td>\n",
       "      <td>https://auto.ru/cars/used/sale/tesla/model_x/1...</td>\n",
       "      <td>чёрный</td>\n",
       "      <td>NaN</td>\n",
       "      <td>NaN</td>\n",
       "      <td>{'Салон': ['Тонированные стекла', 'Передний це...</td>\n",
       "      <td>NaN</td>\n",
       "      <td>12000.0</td>\n",
       "      <td>2016.0</td>\n",
       "      <td>Model X</td>\n",
       "      <td>5.0</td>\n",
       "      <td>2018.0</td>\n",
       "      <td>1102674160</td>\n",
       "      <td>автоматическая</td>\n",
       "      <td>NAN</td>\n",
       "      <td>1 владелец</td>\n",
       "      <td>Оригинал</td>\n",
       "      <td>полный</td>\n",
       "      <td>Левый</td>\n",
       "      <td>8990000.0</td>\n",
       "    </tr>\n",
       "    <tr>\n",
       "      <td>62809</td>\n",
       "      <td>внедорожник 5 дв.</td>\n",
       "      <td>TESLA</td>\n",
       "      <td>https://auto.ru/cars/used/sale/tesla/model_x/1...</td>\n",
       "      <td>чёрный</td>\n",
       "      <td>NaN</td>\n",
       "      <td>NaN</td>\n",
       "      <td>{'Безопасность': ['Антипробуксовочная система ...</td>\n",
       "      <td>NaN</td>\n",
       "      <td>79300.0</td>\n",
       "      <td>2016.0</td>\n",
       "      <td>Model X</td>\n",
       "      <td>5.0</td>\n",
       "      <td>2016.0</td>\n",
       "      <td>1099752244</td>\n",
       "      <td>автоматическая</td>\n",
       "      <td>NAN</td>\n",
       "      <td>1 владелец</td>\n",
       "      <td>Оригинал</td>\n",
       "      <td>полный</td>\n",
       "      <td>Левый</td>\n",
       "      <td>6580000.0</td>\n",
       "    </tr>\n",
       "    <tr>\n",
       "      <td>62810</td>\n",
       "      <td>внедорожник 5 дв.</td>\n",
       "      <td>TESLA</td>\n",
       "      <td>https://auto.ru/cars/used/sale/tesla/model_y/1...</td>\n",
       "      <td>серый</td>\n",
       "      <td>NaN</td>\n",
       "      <td>NaN</td>\n",
       "      <td>{'Салон': ['Тонированные стекла', 'Спортивные ...</td>\n",
       "      <td>NaN</td>\n",
       "      <td>1000.0</td>\n",
       "      <td>2020.0</td>\n",
       "      <td>Model Y</td>\n",
       "      <td>5.0</td>\n",
       "      <td>2020.0</td>\n",
       "      <td>1102547736</td>\n",
       "      <td>автоматическая</td>\n",
       "      <td>NAN</td>\n",
       "      <td>1 владелец</td>\n",
       "      <td>Оригинал</td>\n",
       "      <td>полный</td>\n",
       "      <td>Левый</td>\n",
       "      <td>5900000.0</td>\n",
       "    </tr>\n",
       "  </tbody>\n",
       "</table>\n",
       "</div>"
      ],
      "text/plain": [
       "                bodyType  brand  \\\n",
       "62782              седан  TESLA   \n",
       "62783              седан  TESLA   \n",
       "62784              седан  TESLA   \n",
       "62785              седан  TESLA   \n",
       "62786              седан  TESLA   \n",
       "62787              седан  TESLA   \n",
       "62788              седан  TESLA   \n",
       "62789              седан  TESLA   \n",
       "62790              седан  TESLA   \n",
       "62791            лифтбек  TESLA   \n",
       "62792            лифтбек  TESLA   \n",
       "62793            лифтбек  TESLA   \n",
       "62794            лифтбек  TESLA   \n",
       "62795            лифтбек  TESLA   \n",
       "62796            лифтбек  TESLA   \n",
       "62797            лифтбек  TESLA   \n",
       "62798            лифтбек  TESLA   \n",
       "62799            лифтбек  TESLA   \n",
       "62800            лифтбек  TESLA   \n",
       "62801            лифтбек  TESLA   \n",
       "62802            лифтбек  TESLA   \n",
       "62803            лифтбек  TESLA   \n",
       "62804            лифтбек  TESLA   \n",
       "62805  внедорожник 5 дв.  TESLA   \n",
       "62806  внедорожник 5 дв.  TESLA   \n",
       "62807  внедорожник 5 дв.  TESLA   \n",
       "62808  внедорожник 5 дв.  TESLA   \n",
       "62809  внедорожник 5 дв.  TESLA   \n",
       "62810  внедорожник 5 дв.  TESLA   \n",
       "\n",
       "                                                 car_url    color  \\\n",
       "62782  https://auto.ru/cars/used/sale/tesla/model_3/1...    белый   \n",
       "62783  https://auto.ru/cars/used/sale/tesla/model_3/1...   чёрный   \n",
       "62784  https://auto.ru/cars/used/sale/tesla/model_3/1...   чёрный   \n",
       "62785  https://auto.ru/cars/used/sale/tesla/model_3/1...    белый   \n",
       "62786  https://auto.ru/cars/used/sale/tesla/model_3/1...    белый   \n",
       "62787  https://auto.ru/cars/used/sale/tesla/model_3/1...    белый   \n",
       "62788  https://auto.ru/cars/used/sale/tesla/model_3/1...   чёрный   \n",
       "62789  https://auto.ru/cars/used/sale/tesla/model_3/1...    белый   \n",
       "62790  https://auto.ru/cars/used/sale/tesla/model_3/1...   чёрный   \n",
       "62791  https://auto.ru/cars/used/sale/tesla/model_s/1...  красный   \n",
       "62792  https://auto.ru/cars/used/sale/tesla/model_s/1...    серый   \n",
       "62793  https://auto.ru/cars/used/sale/tesla/model_s/1...  красный   \n",
       "62794  https://auto.ru/cars/used/sale/tesla/model_s/1...   чёрный   \n",
       "62795  https://auto.ru/cars/used/sale/tesla/model_s/1...   чёрный   \n",
       "62796  https://auto.ru/cars/used/sale/tesla/model_s/1...    белый   \n",
       "62797  https://auto.ru/cars/used/sale/tesla/model_s/1...   чёрный   \n",
       "62798  https://auto.ru/cars/used/sale/tesla/model_s/1...   чёрный   \n",
       "62799  https://auto.ru/cars/used/sale/tesla/model_s/1...  красный   \n",
       "62800  https://auto.ru/cars/used/sale/tesla/model_s/1...    белый   \n",
       "62801  https://auto.ru/cars/used/sale/tesla/model_s/1...  красный   \n",
       "62802  https://auto.ru/cars/used/sale/tesla/model_s/1...  красный   \n",
       "62803  https://auto.ru/cars/used/sale/tesla/model_s/1...    белый   \n",
       "62804  https://auto.ru/cars/used/sale/tesla/model_s/1...   чёрный   \n",
       "62805  https://auto.ru/cars/used/sale/tesla/model_x/1...    синий   \n",
       "62806  https://auto.ru/cars/used/sale/tesla/model_x/1...    белый   \n",
       "62807  https://auto.ru/cars/used/sale/tesla/model_x/1...    белый   \n",
       "62808  https://auto.ru/cars/used/sale/tesla/model_x/1...   чёрный   \n",
       "62809  https://auto.ru/cars/used/sale/tesla/model_x/1...   чёрный   \n",
       "62810  https://auto.ru/cars/used/sale/tesla/model_y/1...    серый   \n",
       "\n",
       "       engineDisplacement  enginePower  \\\n",
       "62782                 NaN          NaN   \n",
       "62783                 NaN          NaN   \n",
       "62784                 NaN          NaN   \n",
       "62785                 NaN          NaN   \n",
       "62786                 NaN          NaN   \n",
       "62787                 NaN          NaN   \n",
       "62788                 NaN          NaN   \n",
       "62789                 NaN          NaN   \n",
       "62790                 NaN          NaN   \n",
       "62791                 NaN          NaN   \n",
       "62792                 NaN          NaN   \n",
       "62793                 NaN          NaN   \n",
       "62794                 NaN          NaN   \n",
       "62795                 NaN          NaN   \n",
       "62796                 NaN          NaN   \n",
       "62797                 NaN          NaN   \n",
       "62798                 NaN          NaN   \n",
       "62799                 NaN          NaN   \n",
       "62800                 NaN          NaN   \n",
       "62801                 NaN          NaN   \n",
       "62802                 NaN          NaN   \n",
       "62803                 NaN          NaN   \n",
       "62804                 NaN          NaN   \n",
       "62805                 NaN          NaN   \n",
       "62806                 NaN          NaN   \n",
       "62807                 NaN          NaN   \n",
       "62808                 NaN          NaN   \n",
       "62809                 NaN          NaN   \n",
       "62810                 NaN          NaN   \n",
       "\n",
       "                                          equipment_dict fuelType   mileage  \\\n",
       "62782                                                NaN      NaN   11000.0   \n",
       "62783  {'Безопасность': ['Антипробуксовочная система ...      NaN   32800.0   \n",
       "62784                                                NaN      NaN   10000.0   \n",
       "62785  {'Безопасность': ['Антипробуксовочная система ...      NaN   13000.0   \n",
       "62786  {'Безопасность': ['Антипробуксовочная система ...      NaN   12500.0   \n",
       "62787  {'Безопасность': ['Система стабилизации (ESP)'...      NaN   59300.0   \n",
       "62788  {'Комфорт': ['Круиз-контроль', 'Бортовой компь...      NaN   15980.0   \n",
       "62789  {'Безопасность': ['Система стабилизации (ESP)'...      NaN   41000.0   \n",
       "62790                                                NaN      NaN    9000.0   \n",
       "62791  {'Салон': ['Тонированные стекла', 'Передний це...      NaN  120000.0   \n",
       "62792  {'Салон': ['Панорамная крыша / лобовое стекло'...      NaN  118500.0   \n",
       "62793  {'Комфорт': ['Круиз-контроль', 'Парктроник пер...      NaN   75880.0   \n",
       "62794  {'Салон': ['Тонированные стекла', 'Передний це...      NaN   45000.0   \n",
       "62795                                                NaN      NaN   42000.0   \n",
       "62796  {'Салон': ['Тонированные стекла', 'Передний це...      NaN  180000.0   \n",
       "62797  {'Комфорт': ['Круиз-контроль', 'Электропривод ...      NaN  150000.0   \n",
       "62798                                                NaN      NaN  103000.0   \n",
       "62799  {'Комфорт': ['Круиз-контроль', 'Электрорегулир...      NaN    2600.0   \n",
       "62800  {'Комфорт': ['Круиз-контроль', 'Электрорегулир...      NaN   92000.0   \n",
       "62801  {'Комфорт': ['Круиз-контроль', 'Электрорегулир...      NaN   65000.0   \n",
       "62802  {'Безопасность': ['Антипробуксовочная система ...      NaN   53000.0   \n",
       "62803  {'Комфорт': ['Круиз-контроль', 'Мультифункцион...      NaN   46000.0   \n",
       "62804  {'Безопасность': ['Система стабилизации (ESP)'...      NaN   63500.0   \n",
       "62805  {'Салон': ['Тонированные стекла', 'Спортивные ...      NaN   80000.0   \n",
       "62806  {'Безопасность': ['ЭРА-ГЛОНАСС'], 'Элементы эк...      NaN    6757.0   \n",
       "62807  {'Безопасность': ['Система стабилизации (ESP)'...      NaN   26600.0   \n",
       "62808  {'Салон': ['Тонированные стекла', 'Передний це...      NaN   12000.0   \n",
       "62809  {'Безопасность': ['Антипробуксовочная система ...      NaN   79300.0   \n",
       "62810  {'Салон': ['Тонированные стекла', 'Спортивные ...      NaN    1000.0   \n",
       "\n",
       "       modelDate model_name  numberOfDoors  productionDate     sell_id  \\\n",
       "62782     2018.0    Model 3            NaN          2019.0  1102283481   \n",
       "62783     2018.0    Model 3            NaN          2019.0  1102280379   \n",
       "62784     2018.0    Model 3            NaN          2020.0  1102725846   \n",
       "62785     2018.0    Model 3            NaN          2019.0  1102673072   \n",
       "62786     2018.0    Model 3            NaN          2019.0  1102175148   \n",
       "62787     2018.0    Model 3            NaN          2018.0  1101670618   \n",
       "62788     2018.0    Model 3            NaN          2019.0  1102437051   \n",
       "62789     2018.0    Model 3            NaN          2019.0  1102516936   \n",
       "62790     2018.0    Model 3            NaN          2019.0  1102586180   \n",
       "62791     2018.0    Model S            NaN          2018.0  1102613930   \n",
       "62792     2012.0    Model S            NaN          2013.0  1102528297   \n",
       "62793     2018.0    Model S            NaN          2018.0  1102863527   \n",
       "62794     2018.0    Model S            NaN          2018.0  1102077792   \n",
       "62795     2012.0    Model S            NaN          2013.0  1101942771   \n",
       "62796     2012.0    Model S            NaN          2014.0  1102410879   \n",
       "62797     2012.0    Model S            NaN          2013.0  1102816349   \n",
       "62798     2012.0    Model S            NaN          2013.0  1102383037   \n",
       "62799     2012.0    Model S            NaN          2014.0  1101420008   \n",
       "62800     2012.0    Model S            NaN          2012.0  1102321183   \n",
       "62801     2012.0    Model S            NaN          2014.0  1091599756   \n",
       "62802     2012.0    Model S            NaN          2015.0  1095424346   \n",
       "62803     2012.0    Model S            NaN          2015.0  1101953654   \n",
       "62804     2018.0    Model S            NaN          2016.0  1101949817   \n",
       "62805     2016.0    Model X            5.0          2016.0  1101749766   \n",
       "62806     2016.0    Model X            5.0          2020.0  1102793873   \n",
       "62807     2016.0    Model X            5.0          2019.0  1102233094   \n",
       "62808     2016.0    Model X            5.0          2018.0  1102674160   \n",
       "62809     2016.0    Model X            5.0          2016.0  1099752244   \n",
       "62810     2020.0    Model Y            5.0          2020.0  1102547736   \n",
       "\n",
       "      vehicleTransmission vendor    Владельцы       ПТС  Привод   Руль  \\\n",
       "62782      автоматическая    NAN   1 владелец  Оригинал  задний  Левый   \n",
       "62783      автоматическая    NAN   1 владелец  Оригинал  задний  Левый   \n",
       "62784      автоматическая    NAN   1 владелец  Оригинал  полный  Левый   \n",
       "62785      автоматическая    NAN   1 владелец  Оригинал  полный  Левый   \n",
       "62786      автоматическая    NAN   1 владелец  Оригинал  задний  Левый   \n",
       "62787      автоматическая    NAN   1 владелец  Оригинал  задний  Левый   \n",
       "62788      автоматическая    NAN   1 владелец  Оригинал  задний  Левый   \n",
       "62789      автоматическая    NAN   1 владелец  Оригинал  задний  Левый   \n",
       "62790      автоматическая    NAN   1 владелец  Оригинал  полный  Левый   \n",
       "62791      автоматическая    NAN   1 владелец  Оригинал  полный  Левый   \n",
       "62792      автоматическая    NAN   1 владелец  Оригинал  задний  Левый   \n",
       "62793      автоматическая    NAN  3 или более  Оригинал  полный  Левый   \n",
       "62794      автоматическая    NAN   1 владелец  Оригинал  полный  Левый   \n",
       "62795      автоматическая    NAN  2 владельца  Оригинал  задний  Левый   \n",
       "62796      автоматическая    NAN   1 владелец  Оригинал  задний  Левый   \n",
       "62797      автоматическая    NAN   1 владелец  Оригинал  задний  Левый   \n",
       "62798      автоматическая    NAN   1 владелец  Оригинал  задний  Левый   \n",
       "62799      автоматическая    NAN   1 владелец  Оригинал  задний  Левый   \n",
       "62800      автоматическая    NAN  3 или более  Оригинал  задний  Левый   \n",
       "62801      автоматическая    NAN  3 или более  Оригинал  задний  Левый   \n",
       "62802      автоматическая    NAN  3 или более  Оригинал  полный  Левый   \n",
       "62803      автоматическая    NAN  2 владельца  Оригинал  полный  Левый   \n",
       "62804      автоматическая    NAN   1 владелец  Оригинал  полный  Левый   \n",
       "62805      автоматическая    NAN   1 владелец  Оригинал  полный  Левый   \n",
       "62806      автоматическая    NAN   1 владелец  Оригинал  полный  Левый   \n",
       "62807      автоматическая    NAN  2 владельца  Оригинал  полный  Левый   \n",
       "62808      автоматическая    NAN   1 владелец  Оригинал  полный  Левый   \n",
       "62809      автоматическая    NAN   1 владелец  Оригинал  полный  Левый   \n",
       "62810      автоматическая    NAN   1 владелец  Оригинал  полный  Левый   \n",
       "\n",
       "       offerprice  \n",
       "62782   3400000.0  \n",
       "62783   3580000.0  \n",
       "62784   5350000.0  \n",
       "62785   5250000.0  \n",
       "62786   3850000.0  \n",
       "62787   3820000.0  \n",
       "62788   3950000.0  \n",
       "62789   3500000.0  \n",
       "62790   3750000.0  \n",
       "62791   3950000.0  \n",
       "62792   2650000.0  \n",
       "62793   4830000.0  \n",
       "62794   6550000.0  \n",
       "62795   2499000.0  \n",
       "62796   3295000.0  \n",
       "62797   2499000.0  \n",
       "62798   2780000.0  \n",
       "62799   3550000.0  \n",
       "62800   2800000.0  \n",
       "62801   3499999.0  \n",
       "62802   4900000.0  \n",
       "62803   4800000.0  \n",
       "62804   3600000.0  \n",
       "62805   6250000.0  \n",
       "62806   8700000.0  \n",
       "62807   7999999.0  \n",
       "62808   8990000.0  \n",
       "62809   6580000.0  \n",
       "62810   5900000.0  "
      ]
     },
     "execution_count": 101,
     "metadata": {},
     "output_type": "execute_result"
    }
   ],
   "source": [
    "train[train.brand == 'TESLA']"
   ]
  },
  {
   "cell_type": "code",
   "execution_count": null,
   "metadata": {},
   "outputs": [],
   "source": []
  }
 ],
 "metadata": {
  "kernelspec": {
   "display_name": "Python 3",
   "language": "python",
   "name": "python3"
  },
  "language_info": {
   "codemirror_mode": {
    "name": "ipython",
    "version": 3
   },
   "file_extension": ".py",
   "mimetype": "text/x-python",
   "name": "python",
   "nbconvert_exporter": "python",
   "pygments_lexer": "ipython3",
   "version": "3.7.4"
  }
 },
 "nbformat": 4,
 "nbformat_minor": 2
}
