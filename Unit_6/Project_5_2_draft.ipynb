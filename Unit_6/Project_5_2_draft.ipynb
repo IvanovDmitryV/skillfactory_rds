{
 "cells": [
  {
   "cell_type": "markdown",
   "metadata": {},
   "source": [
    "# Описание задачи\n",
    "## В задачи пректа входит:\n",
    "- Нахождение данных для обученяи модели: парсинг и/или иные источники;\n",
    "- Предобработка полученных данных\n",
    "- Создание новых признаков с использованием полученных данных;\n",
    "- Отбор признаков;\n",
    "- Отбор моделей;\n",
    "- Обучение и тестирование отобранных моделей на отобранных признаках;\n",
    "- Подбор макропараметров модели на отобранных признаках;\n",
    "- Получение предсказанных моделью значений, подготовка и отправка submission\n",
    "\n",
    "# Импорт библиотек, установка параметров, определение функций\n",
    "## Импорт бибилиотек"
   ]
  },
  {
   "cell_type": "code",
   "execution_count": 1,
   "metadata": {},
   "outputs": [],
   "source": [
    "import pandas as pd\n",
    "import numpy as np\n",
    "import json \n",
    "from datetime import datetime\n",
    "from datetime import date\n",
    "\n",
    "from pprint import pprint\n",
    "\n",
    "import warnings\n",
    "import os"
   ]
  },
  {
   "cell_type": "markdown",
   "metadata": {},
   "source": [
    "## Установка параметров"
   ]
  },
  {
   "cell_type": "code",
   "execution_count": 2,
   "metadata": {},
   "outputs": [
    {
     "name": "stdout",
     "output_type": "stream",
     "text": [
      "Populating the interactive namespace from numpy and matplotlib\n"
     ]
    },
    {
     "name": "stderr",
     "output_type": "stream",
     "text": [
      "C:\\Users\\Samsung\\Anaconda3\\lib\\site-packages\\IPython\\core\\magics\\pylab.py:160: UserWarning: pylab import has clobbered these variables: ['datetime']\n",
      "`%matplotlib` prevents importing * from pylab and numpy\n",
      "  \"\\n`%matplotlib` prevents importing * from pylab and numpy\"\n"
     ]
    }
   ],
   "source": [
    "%pylab inline\n",
    "\n",
    "warnings.filterwarnings(\"ignore\")\n",
    "\n",
    "pd.set_option('display.max_rows', 70)    # выведем больше строк\n",
    "pd.set_option('display.max_columns', 30) # выведем больше колонок\n",
    "\n",
    "# альтернативные пути для kaggle и локальный (НЕ ЗАБЫВАТЬ МЕНЯТЬ!)\n",
    "path = './Project_5_data/'\n",
    "# path = '/kaggle/input/.....'\n",
    "\n",
    "# фиксация randomstate\n",
    "RANDOM_SEED = 42"
   ]
  },
  {
   "cell_type": "markdown",
   "metadata": {},
   "source": [
    "## Определение функций"
   ]
  },
  {
   "cell_type": "code",
   "execution_count": 3,
   "metadata": {},
   "outputs": [],
   "source": [
    "def describe_df(df):\n",
    "    '''\n",
    "    Вывод простой статистки DataFrame\n",
    "    '''\n",
    "    desc = df.describe(include='all',percentiles=[0.5]).drop(index=['mean','std','50%']).T \n",
    "    desc['type'] = [type(x) for x in df.iloc[0]]\n",
    "    desc['NaN_prop'] = round(df.isna().sum()/len(df),3)\n",
    "    desc.unique = df.nunique()\n",
    "    desc.top = df.mode(axis=0).iloc[0]\n",
    "    desc.top = [str(x)[:30] for x in df.mode(axis=0).iloc[0]]\n",
    "\n",
    "    desc.freq = [df[col].value_counts().iloc[0] for col in  df.columns]\n",
    "    \n",
    "    return desc\n",
    "\n",
    "def cat_visualisation():\n",
    "    pass\n",
    "\n",
    "def num_visualisation():\n",
    "    pass"
   ]
  },
  {
   "cell_type": "markdown",
   "metadata": {},
   "source": [
    "# Изучение  валидационных данных \n",
    "\n",
    "Что бы понимать какие признаки нам нужны для обучения модели нам необходимо узнать какие признаки описывают наблюдения, для которых мы должны предсказать целевую переменную.  \n",
    "\n",
    "Поэтому для начала исследуем набор данных эти наблюдения описывающие."
   ]
  },
  {
   "cell_type": "code",
   "execution_count": 4,
   "metadata": {
    "scrolled": false
   },
   "outputs": [],
   "source": [
    "df_test = pd.read_csv(f'{path}test.csv')"
   ]
  },
  {
   "cell_type": "markdown",
   "metadata": {},
   "source": [
    "### Общий обзор"
   ]
  },
  {
   "cell_type": "code",
   "execution_count": 5,
   "metadata": {},
   "outputs": [
    {
     "name": "stdout",
     "output_type": "stream",
     "text": [
      "<class 'pandas.core.frame.DataFrame'>\n",
      "RangeIndex: 34686 entries, 0 to 34685\n",
      "Columns: 32 entries, bodyType to Таможня\n",
      "dtypes: int64(6), object(26)\n",
      "memory usage: 8.5+ MB\n"
     ]
    }
   ],
   "source": [
    "df_test.info(verbose=False)"
   ]
  },
  {
   "cell_type": "code",
   "execution_count": 6,
   "metadata": {},
   "outputs": [
    {
     "data": {
      "text/html": [
       "<div>\n",
       "<style scoped>\n",
       "    .dataframe tbody tr th:only-of-type {\n",
       "        vertical-align: middle;\n",
       "    }\n",
       "\n",
       "    .dataframe tbody tr th {\n",
       "        vertical-align: top;\n",
       "    }\n",
       "\n",
       "    .dataframe thead th {\n",
       "        text-align: right;\n",
       "    }\n",
       "</style>\n",
       "<table border=\"1\" class=\"dataframe\">\n",
       "  <thead>\n",
       "    <tr style=\"text-align: right;\">\n",
       "      <th></th>\n",
       "      <th>count</th>\n",
       "      <th>unique</th>\n",
       "      <th>top</th>\n",
       "      <th>freq</th>\n",
       "      <th>min</th>\n",
       "      <th>max</th>\n",
       "      <th>type</th>\n",
       "      <th>NaN_prop</th>\n",
       "    </tr>\n",
       "  </thead>\n",
       "  <tbody>\n",
       "    <tr>\n",
       "      <th>bodyType</th>\n",
       "      <td>34686</td>\n",
       "      <td>24</td>\n",
       "      <td>седан</td>\n",
       "      <td>13147</td>\n",
       "      <td>NaN</td>\n",
       "      <td>NaN</td>\n",
       "      <td>&lt;class 'str'&gt;</td>\n",
       "      <td>0.000</td>\n",
       "    </tr>\n",
       "    <tr>\n",
       "      <th>brand</th>\n",
       "      <td>34686</td>\n",
       "      <td>12</td>\n",
       "      <td>BMW</td>\n",
       "      <td>4473</td>\n",
       "      <td>NaN</td>\n",
       "      <td>NaN</td>\n",
       "      <td>&lt;class 'str'&gt;</td>\n",
       "      <td>0.000</td>\n",
       "    </tr>\n",
       "    <tr>\n",
       "      <th>car_url</th>\n",
       "      <td>34686</td>\n",
       "      <td>34686</td>\n",
       "      <td>https://auto.ru/cars/used/sale</td>\n",
       "      <td>1</td>\n",
       "      <td>NaN</td>\n",
       "      <td>NaN</td>\n",
       "      <td>&lt;class 'str'&gt;</td>\n",
       "      <td>0.000</td>\n",
       "    </tr>\n",
       "    <tr>\n",
       "      <th>color</th>\n",
       "      <td>34686</td>\n",
       "      <td>16</td>\n",
       "      <td>чёрный</td>\n",
       "      <td>11010</td>\n",
       "      <td>NaN</td>\n",
       "      <td>NaN</td>\n",
       "      <td>&lt;class 'str'&gt;</td>\n",
       "      <td>0.000</td>\n",
       "    </tr>\n",
       "    <tr>\n",
       "      <th>complectation_dict</th>\n",
       "      <td>6418</td>\n",
       "      <td>2364</td>\n",
       "      <td>{\"id\":\"4562904\",\"name\":\"Elegan</td>\n",
       "      <td>51</td>\n",
       "      <td>NaN</td>\n",
       "      <td>NaN</td>\n",
       "      <td>&lt;class 'float'&gt;</td>\n",
       "      <td>0.815</td>\n",
       "    </tr>\n",
       "    <tr>\n",
       "      <th>description</th>\n",
       "      <td>34686</td>\n",
       "      <td>31732</td>\n",
       "      <td>Выгода до 82 000 руб. при обме</td>\n",
       "      <td>264</td>\n",
       "      <td>NaN</td>\n",
       "      <td>NaN</td>\n",
       "      <td>&lt;class 'str'&gt;</td>\n",
       "      <td>0.000</td>\n",
       "    </tr>\n",
       "    <tr>\n",
       "      <th>engineDisplacement</th>\n",
       "      <td>34686</td>\n",
       "      <td>55</td>\n",
       "      <td>2.0 LTR</td>\n",
       "      <td>7391</td>\n",
       "      <td>NaN</td>\n",
       "      <td>NaN</td>\n",
       "      <td>&lt;class 'str'&gt;</td>\n",
       "      <td>0.000</td>\n",
       "    </tr>\n",
       "    <tr>\n",
       "      <th>enginePower</th>\n",
       "      <td>34686</td>\n",
       "      <td>315</td>\n",
       "      <td>249 N12</td>\n",
       "      <td>1708</td>\n",
       "      <td>NaN</td>\n",
       "      <td>NaN</td>\n",
       "      <td>&lt;class 'str'&gt;</td>\n",
       "      <td>0.000</td>\n",
       "    </tr>\n",
       "    <tr>\n",
       "      <th>equipment_dict</th>\n",
       "      <td>24690</td>\n",
       "      <td>23705</td>\n",
       "      <td>{\"leather\":true}</td>\n",
       "      <td>108</td>\n",
       "      <td>NaN</td>\n",
       "      <td>NaN</td>\n",
       "      <td>&lt;class 'str'&gt;</td>\n",
       "      <td>0.288</td>\n",
       "    </tr>\n",
       "    <tr>\n",
       "      <th>fuelType</th>\n",
       "      <td>34686</td>\n",
       "      <td>5</td>\n",
       "      <td>бензин</td>\n",
       "      <td>28601</td>\n",
       "      <td>NaN</td>\n",
       "      <td>NaN</td>\n",
       "      <td>&lt;class 'str'&gt;</td>\n",
       "      <td>0.000</td>\n",
       "    </tr>\n",
       "    <tr>\n",
       "      <th>image</th>\n",
       "      <td>34686</td>\n",
       "      <td>34557</td>\n",
       "      <td>https://avatars.mds.yandex.net</td>\n",
       "      <td>13</td>\n",
       "      <td>NaN</td>\n",
       "      <td>NaN</td>\n",
       "      <td>&lt;class 'str'&gt;</td>\n",
       "      <td>0.000</td>\n",
       "    </tr>\n",
       "    <tr>\n",
       "      <th>mileage</th>\n",
       "      <td>34686</td>\n",
       "      <td>11268</td>\n",
       "      <td>200000.0</td>\n",
       "      <td>436</td>\n",
       "      <td>1</td>\n",
       "      <td>1e+06</td>\n",
       "      <td>&lt;class 'numpy.int64'&gt;</td>\n",
       "      <td>0.000</td>\n",
       "    </tr>\n",
       "    <tr>\n",
       "      <th>modelDate</th>\n",
       "      <td>34686</td>\n",
       "      <td>66</td>\n",
       "      <td>2010.0</td>\n",
       "      <td>2503</td>\n",
       "      <td>1904</td>\n",
       "      <td>2020</td>\n",
       "      <td>&lt;class 'numpy.int64'&gt;</td>\n",
       "      <td>0.000</td>\n",
       "    </tr>\n",
       "    <tr>\n",
       "      <th>model_info</th>\n",
       "      <td>34686</td>\n",
       "      <td>954</td>\n",
       "      <td>{\"code\":\"OCTAVIA\",\"name\":\"Octa</td>\n",
       "      <td>1404</td>\n",
       "      <td>NaN</td>\n",
       "      <td>NaN</td>\n",
       "      <td>&lt;class 'str'&gt;</td>\n",
       "      <td>0.000</td>\n",
       "    </tr>\n",
       "    <tr>\n",
       "      <th>model_name</th>\n",
       "      <td>34686</td>\n",
       "      <td>544</td>\n",
       "      <td>OCTAVIA</td>\n",
       "      <td>1418</td>\n",
       "      <td>NaN</td>\n",
       "      <td>NaN</td>\n",
       "      <td>&lt;class 'str'&gt;</td>\n",
       "      <td>0.000</td>\n",
       "    </tr>\n",
       "    <tr>\n",
       "      <th>name</th>\n",
       "      <td>34686</td>\n",
       "      <td>2780</td>\n",
       "      <td>1.6 AT (110 л.с.)</td>\n",
       "      <td>631</td>\n",
       "      <td>NaN</td>\n",
       "      <td>NaN</td>\n",
       "      <td>&lt;class 'str'&gt;</td>\n",
       "      <td>0.000</td>\n",
       "    </tr>\n",
       "    <tr>\n",
       "      <th>numberOfDoors</th>\n",
       "      <td>34686</td>\n",
       "      <td>5</td>\n",
       "      <td>5.0</td>\n",
       "      <td>18703</td>\n",
       "      <td>0</td>\n",
       "      <td>5</td>\n",
       "      <td>&lt;class 'numpy.int64'&gt;</td>\n",
       "      <td>0.000</td>\n",
       "    </tr>\n",
       "    <tr>\n",
       "      <th>parsing_unixtime</th>\n",
       "      <td>34686</td>\n",
       "      <td>34686</td>\n",
       "      <td>1603107306</td>\n",
       "      <td>1</td>\n",
       "      <td>1.60311e+09</td>\n",
       "      <td>1.60371e+09</td>\n",
       "      <td>&lt;class 'numpy.int64'&gt;</td>\n",
       "      <td>0.000</td>\n",
       "    </tr>\n",
       "    <tr>\n",
       "      <th>priceCurrency</th>\n",
       "      <td>34686</td>\n",
       "      <td>1</td>\n",
       "      <td>RUB</td>\n",
       "      <td>34686</td>\n",
       "      <td>NaN</td>\n",
       "      <td>NaN</td>\n",
       "      <td>&lt;class 'str'&gt;</td>\n",
       "      <td>0.000</td>\n",
       "    </tr>\n",
       "    <tr>\n",
       "      <th>productionDate</th>\n",
       "      <td>34686</td>\n",
       "      <td>69</td>\n",
       "      <td>2012.0</td>\n",
       "      <td>2798</td>\n",
       "      <td>1904</td>\n",
       "      <td>2020</td>\n",
       "      <td>&lt;class 'numpy.int64'&gt;</td>\n",
       "      <td>0.000</td>\n",
       "    </tr>\n",
       "    <tr>\n",
       "      <th>sell_id</th>\n",
       "      <td>34686</td>\n",
       "      <td>34686</td>\n",
       "      <td>2665</td>\n",
       "      <td>1</td>\n",
       "      <td>2665</td>\n",
       "      <td>1.10137e+09</td>\n",
       "      <td>&lt;class 'numpy.int64'&gt;</td>\n",
       "      <td>0.000</td>\n",
       "    </tr>\n",
       "    <tr>\n",
       "      <th>super_gen</th>\n",
       "      <td>34686</td>\n",
       "      <td>5890</td>\n",
       "      <td>{\"id\":\"6214876\",\"displacement\"</td>\n",
       "      <td>193</td>\n",
       "      <td>NaN</td>\n",
       "      <td>NaN</td>\n",
       "      <td>&lt;class 'str'&gt;</td>\n",
       "      <td>0.000</td>\n",
       "    </tr>\n",
       "    <tr>\n",
       "      <th>vehicleConfiguration</th>\n",
       "      <td>34686</td>\n",
       "      <td>634</td>\n",
       "      <td>ALLROAD_5_DOORS AUTOMATIC 3.0</td>\n",
       "      <td>2389</td>\n",
       "      <td>NaN</td>\n",
       "      <td>NaN</td>\n",
       "      <td>&lt;class 'str'&gt;</td>\n",
       "      <td>0.000</td>\n",
       "    </tr>\n",
       "    <tr>\n",
       "      <th>vehicleTransmission</th>\n",
       "      <td>34686</td>\n",
       "      <td>4</td>\n",
       "      <td>автоматическая</td>\n",
       "      <td>19596</td>\n",
       "      <td>NaN</td>\n",
       "      <td>NaN</td>\n",
       "      <td>&lt;class 'str'&gt;</td>\n",
       "      <td>0.000</td>\n",
       "    </tr>\n",
       "    <tr>\n",
       "      <th>vendor</th>\n",
       "      <td>34686</td>\n",
       "      <td>2</td>\n",
       "      <td>EUROPEAN</td>\n",
       "      <td>20682</td>\n",
       "      <td>NaN</td>\n",
       "      <td>NaN</td>\n",
       "      <td>&lt;class 'str'&gt;</td>\n",
       "      <td>0.000</td>\n",
       "    </tr>\n",
       "    <tr>\n",
       "      <th>Владельцы</th>\n",
       "      <td>34686</td>\n",
       "      <td>3</td>\n",
       "      <td>3 или более</td>\n",
       "      <td>15957</td>\n",
       "      <td>NaN</td>\n",
       "      <td>NaN</td>\n",
       "      <td>&lt;class 'str'&gt;</td>\n",
       "      <td>0.000</td>\n",
       "    </tr>\n",
       "    <tr>\n",
       "      <th>Владение</th>\n",
       "      <td>11995</td>\n",
       "      <td>275</td>\n",
       "      <td>1 год и 10 месяцев</td>\n",
       "      <td>209</td>\n",
       "      <td>NaN</td>\n",
       "      <td>NaN</td>\n",
       "      <td>&lt;class 'float'&gt;</td>\n",
       "      <td>0.654</td>\n",
       "    </tr>\n",
       "    <tr>\n",
       "      <th>ПТС</th>\n",
       "      <td>34685</td>\n",
       "      <td>2</td>\n",
       "      <td>Оригинал</td>\n",
       "      <td>30098</td>\n",
       "      <td>NaN</td>\n",
       "      <td>NaN</td>\n",
       "      <td>&lt;class 'str'&gt;</td>\n",
       "      <td>0.000</td>\n",
       "    </tr>\n",
       "    <tr>\n",
       "      <th>Привод</th>\n",
       "      <td>34686</td>\n",
       "      <td>3</td>\n",
       "      <td>передний</td>\n",
       "      <td>15565</td>\n",
       "      <td>NaN</td>\n",
       "      <td>NaN</td>\n",
       "      <td>&lt;class 'str'&gt;</td>\n",
       "      <td>0.000</td>\n",
       "    </tr>\n",
       "    <tr>\n",
       "      <th>Руль</th>\n",
       "      <td>34686</td>\n",
       "      <td>2</td>\n",
       "      <td>Левый</td>\n",
       "      <td>33287</td>\n",
       "      <td>NaN</td>\n",
       "      <td>NaN</td>\n",
       "      <td>&lt;class 'str'&gt;</td>\n",
       "      <td>0.000</td>\n",
       "    </tr>\n",
       "    <tr>\n",
       "      <th>Состояние</th>\n",
       "      <td>34686</td>\n",
       "      <td>1</td>\n",
       "      <td>Не требует ремонта</td>\n",
       "      <td>34686</td>\n",
       "      <td>NaN</td>\n",
       "      <td>NaN</td>\n",
       "      <td>&lt;class 'str'&gt;</td>\n",
       "      <td>0.000</td>\n",
       "    </tr>\n",
       "    <tr>\n",
       "      <th>Таможня</th>\n",
       "      <td>34686</td>\n",
       "      <td>1</td>\n",
       "      <td>Растаможен</td>\n",
       "      <td>34686</td>\n",
       "      <td>NaN</td>\n",
       "      <td>NaN</td>\n",
       "      <td>&lt;class 'str'&gt;</td>\n",
       "      <td>0.000</td>\n",
       "    </tr>\n",
       "  </tbody>\n",
       "</table>\n",
       "</div>"
      ],
      "text/plain": [
       "                      count  unique                             top   freq  \\\n",
       "bodyType              34686      24                           седан  13147   \n",
       "brand                 34686      12                             BMW   4473   \n",
       "car_url               34686   34686  https://auto.ru/cars/used/sale      1   \n",
       "color                 34686      16                          чёрный  11010   \n",
       "complectation_dict     6418    2364  {\"id\":\"4562904\",\"name\":\"Elegan     51   \n",
       "description           34686   31732  Выгода до 82 000 руб. при обме    264   \n",
       "engineDisplacement    34686      55                         2.0 LTR   7391   \n",
       "enginePower           34686     315                         249 N12   1708   \n",
       "equipment_dict        24690   23705                {\"leather\":true}    108   \n",
       "fuelType              34686       5                          бензин  28601   \n",
       "image                 34686   34557  https://avatars.mds.yandex.net     13   \n",
       "mileage               34686   11268                        200000.0    436   \n",
       "modelDate             34686      66                          2010.0   2503   \n",
       "model_info            34686     954  {\"code\":\"OCTAVIA\",\"name\":\"Octa   1404   \n",
       "model_name            34686     544                         OCTAVIA   1418   \n",
       "name                  34686    2780               1.6 AT (110 л.с.)    631   \n",
       "numberOfDoors         34686       5                             5.0  18703   \n",
       "parsing_unixtime      34686   34686                      1603107306      1   \n",
       "priceCurrency         34686       1                             RUB  34686   \n",
       "productionDate        34686      69                          2012.0   2798   \n",
       "sell_id               34686   34686                            2665      1   \n",
       "super_gen             34686    5890  {\"id\":\"6214876\",\"displacement\"    193   \n",
       "vehicleConfiguration  34686     634   ALLROAD_5_DOORS AUTOMATIC 3.0   2389   \n",
       "vehicleTransmission   34686       4                  автоматическая  19596   \n",
       "vendor                34686       2                        EUROPEAN  20682   \n",
       "Владельцы             34686       3                     3 или более  15957   \n",
       "Владение              11995     275              1 год и 10 месяцев    209   \n",
       "ПТС                   34685       2                        Оригинал  30098   \n",
       "Привод                34686       3                        передний  15565   \n",
       "Руль                  34686       2                           Левый  33287   \n",
       "Состояние             34686       1              Не требует ремонта  34686   \n",
       "Таможня               34686       1                      Растаможен  34686   \n",
       "\n",
       "                              min          max                   type  \\\n",
       "bodyType                      NaN          NaN          <class 'str'>   \n",
       "brand                         NaN          NaN          <class 'str'>   \n",
       "car_url                       NaN          NaN          <class 'str'>   \n",
       "color                         NaN          NaN          <class 'str'>   \n",
       "complectation_dict            NaN          NaN        <class 'float'>   \n",
       "description                   NaN          NaN          <class 'str'>   \n",
       "engineDisplacement            NaN          NaN          <class 'str'>   \n",
       "enginePower                   NaN          NaN          <class 'str'>   \n",
       "equipment_dict                NaN          NaN          <class 'str'>   \n",
       "fuelType                      NaN          NaN          <class 'str'>   \n",
       "image                         NaN          NaN          <class 'str'>   \n",
       "mileage                         1        1e+06  <class 'numpy.int64'>   \n",
       "modelDate                    1904         2020  <class 'numpy.int64'>   \n",
       "model_info                    NaN          NaN          <class 'str'>   \n",
       "model_name                    NaN          NaN          <class 'str'>   \n",
       "name                          NaN          NaN          <class 'str'>   \n",
       "numberOfDoors                   0            5  <class 'numpy.int64'>   \n",
       "parsing_unixtime      1.60311e+09  1.60371e+09  <class 'numpy.int64'>   \n",
       "priceCurrency                 NaN          NaN          <class 'str'>   \n",
       "productionDate               1904         2020  <class 'numpy.int64'>   \n",
       "sell_id                      2665  1.10137e+09  <class 'numpy.int64'>   \n",
       "super_gen                     NaN          NaN          <class 'str'>   \n",
       "vehicleConfiguration          NaN          NaN          <class 'str'>   \n",
       "vehicleTransmission           NaN          NaN          <class 'str'>   \n",
       "vendor                        NaN          NaN          <class 'str'>   \n",
       "Владельцы                     NaN          NaN          <class 'str'>   \n",
       "Владение                      NaN          NaN        <class 'float'>   \n",
       "ПТС                           NaN          NaN          <class 'str'>   \n",
       "Привод                        NaN          NaN          <class 'str'>   \n",
       "Руль                          NaN          NaN          <class 'str'>   \n",
       "Состояние                     NaN          NaN          <class 'str'>   \n",
       "Таможня                       NaN          NaN          <class 'str'>   \n",
       "\n",
       "                      NaN_prop  \n",
       "bodyType                 0.000  \n",
       "brand                    0.000  \n",
       "car_url                  0.000  \n",
       "color                    0.000  \n",
       "complectation_dict       0.815  \n",
       "description              0.000  \n",
       "engineDisplacement       0.000  \n",
       "enginePower              0.000  \n",
       "equipment_dict           0.288  \n",
       "fuelType                 0.000  \n",
       "image                    0.000  \n",
       "mileage                  0.000  \n",
       "modelDate                0.000  \n",
       "model_info               0.000  \n",
       "model_name               0.000  \n",
       "name                     0.000  \n",
       "numberOfDoors            0.000  \n",
       "parsing_unixtime         0.000  \n",
       "priceCurrency            0.000  \n",
       "productionDate           0.000  \n",
       "sell_id                  0.000  \n",
       "super_gen                0.000  \n",
       "vehicleConfiguration     0.000  \n",
       "vehicleTransmission      0.000  \n",
       "vendor                   0.000  \n",
       "Владельцы                0.000  \n",
       "Владение                 0.654  \n",
       "ПТС                      0.000  \n",
       "Привод                   0.000  \n",
       "Руль                     0.000  \n",
       "Состояние                0.000  \n",
       "Таможня                  0.000  "
      ]
     },
     "execution_count": 6,
     "metadata": {},
     "output_type": "execute_result"
    }
   ],
   "source": [
    "describe_df(df_test)"
   ]
  },
  {
   "cell_type": "markdown",
   "metadata": {},
   "source": [
    "Всего в исходном валидационном датасете 32 колонки с разными типами данных (6 int, 26 object) и разыми типами признаков:   \n",
    "-бинарные (в колонках `vendor`, `ПТС`, `Руль`);   \n",
    "-категориальные (например в колонках `bodyType`, `brand`, `color`, `Владельцы`);  \n",
    "-количественные (например в `enginePower` или `mileage`).  \n",
    "\n",
    "Некоторын колонки содержат словари или длинные строки, содержащие сразу несколько признаков. \n",
    "\n",
    "Колонка `brand` содержит 12 уникальных значений. Это позволяет нам существенно сократить обьем работы по парсингу, ведь релевантными будут только данные по этим 12 брендам, поэтому только по ним и будем собирать информацию.\n",
    "\n",
    "Колонка `car_url` содержит ссылки на обьявления о продаже авто на сайте ***auto.ru***, что как бы намекает, что валидационный набор спарсен с сайта ***auto.ru***. Воспользуемся этим же источником.\n",
    "\n",
    "Три колонки  `priceCurrency`, `Состояние` и `Таможня` содержат только одно уникальное хначение, они ненесут никакой информации, поэтому исключим их из рассмотрения.  \n",
    "  \n",
    "Теперь следует ознакомиться с  каждым признак/колонку более детально. Это позволит нам понять в каком виде/формате содержится информация в колонках и соответсвенно сформировать набор данных для обучения в том же виде/формате. Так же детальное ознакомлене позволит окончательно определится с необходимость включения информации из колонок в рассмотрение моделью. В случае включения данных в рассмотрение моделью, провеем EDA. "
   ]
  },
  {
   "cell_type": "markdown",
   "metadata": {},
   "source": [
    "### Детальное ознакомление\n",
    "### bodyType"
   ]
  },
  {
   "cell_type": "code",
   "execution_count": 7,
   "metadata": {},
   "outputs": [
    {
     "data": {
      "text/plain": [
       "27638    внедорожник 5 дв.\n",
       "31597              минивэн\n",
       "24291        хэтчбек 5 дв.\n",
       "Name: bodyType, dtype: object"
      ]
     },
     "execution_count": 7,
     "metadata": {},
     "output_type": "execute_result"
    }
   ],
   "source": [
    "df_test.bodyType.sample(3)"
   ]
  },
  {
   "cell_type": "code",
   "execution_count": 8,
   "metadata": {},
   "outputs": [
    {
     "data": {
      "text/plain": [
       "array(['лифтбек', 'внедорожник 5 дв.', 'хэтчбек 5 дв.', 'седан',\n",
       "       'компактвэн', 'универсал 5 дв.', 'пикап одинарная кабина',\n",
       "       'хэтчбек 3 дв.', 'купе', 'кабриолет', 'минивэн',\n",
       "       'пикап двойная кабина', 'внедорожник 3 дв.', 'родстер', 'микровэн',\n",
       "       'седан 2 дв.', 'купе-хардтоп', 'фастбек', 'тарга',\n",
       "       'внедорожник открытый', 'лимузин', 'пикап полуторная кабина',\n",
       "       'седан-хардтоп', 'фургон'], dtype=object)"
      ]
     },
     "execution_count": 8,
     "metadata": {},
     "output_type": "execute_result"
    }
   ],
   "source": [
    "df_test.bodyType.unique()"
   ]
  },
  {
   "cell_type": "markdown",
   "metadata": {},
   "source": [
    "Колонка содержит наименование типа кузова в виде строковой величины. Принимается в пассмоттение. "
   ]
  },
  {
   "cell_type": "markdown",
   "metadata": {},
   "source": [
    "### brand"
   ]
  },
  {
   "cell_type": "code",
   "execution_count": 9,
   "metadata": {},
   "outputs": [
    {
     "data": {
      "text/plain": [
       "31171       SKODA\n",
       "885         SKODA\n",
       "16745    MERCEDES\n",
       "Name: brand, dtype: object"
      ]
     },
     "execution_count": 9,
     "metadata": {},
     "output_type": "execute_result"
    }
   ],
   "source": [
    "df_test.brand.sample(3)"
   ]
  },
  {
   "cell_type": "code",
   "execution_count": 10,
   "metadata": {},
   "outputs": [
    {
     "data": {
      "text/plain": [
       "array(['SKODA', 'AUDI', 'HONDA', 'VOLVO', 'BMW', 'NISSAN', 'INFINITI',\n",
       "       'MERCEDES', 'TOYOTA', 'LEXUS', 'VOLKSWAGEN', 'MITSUBISHI'],\n",
       "      dtype=object)"
      ]
     },
     "execution_count": 10,
     "metadata": {},
     "output_type": "execute_result"
    }
   ],
   "source": [
    "df_test.brand.unique()"
   ]
  },
  {
   "cell_type": "markdown",
   "metadata": {},
   "source": [
    "Колонка содержит наименование марки в виде строковой величины. Принимается в рассмотрение."
   ]
  },
  {
   "cell_type": "markdown",
   "metadata": {},
   "source": [
    "### car_url"
   ]
  },
  {
   "cell_type": "code",
   "execution_count": 11,
   "metadata": {},
   "outputs": [
    {
     "data": {
      "text/plain": [
       "18351    https://auto.ru/cars/used/sale/mercedes/gl_kla...\n",
       "26947    https://auto.ru/cars/used/sale/mitsubishi/outl...\n",
       "20362    https://auto.ru/cars/used/sale/toyota/corolla/...\n",
       "11153    https://auto.ru/cars/used/sale/nissan/juke/110...\n",
       "32350    https://auto.ru/cars/used/sale/mitsubishi/lanc...\n",
       "Name: car_url, dtype: object"
      ]
     },
     "execution_count": 11,
     "metadata": {},
     "output_type": "execute_result"
    }
   ],
   "source": [
    "df_test.car_url.sample(5)"
   ]
  },
  {
   "cell_type": "markdown",
   "metadata": {},
   "source": [
    "В этой колонке содержаться ссылки на обьявления о продаже, послужившие источником при парсинге `test`. В настоящий момент скорее всего ссылки уже не активны, потому колокна будет исключена из рассмотрения моделью. Но нформация в ней содержащаяся позволит нам проверить не попадают ли в тренировочный набор данных наблюдения из валидационного. "
   ]
  },
  {
   "cell_type": "markdown",
   "metadata": {},
   "source": [
    "### color"
   ]
  },
  {
   "cell_type": "code",
   "execution_count": 12,
   "metadata": {},
   "outputs": [
    {
     "data": {
      "text/plain": [
       "8329     коричневый\n",
       "8543        голубой\n",
       "16193    коричневый\n",
       "Name: color, dtype: object"
      ]
     },
     "execution_count": 12,
     "metadata": {},
     "output_type": "execute_result"
    }
   ],
   "source": [
    "df_test.color.sample(3)"
   ]
  },
  {
   "cell_type": "code",
   "execution_count": 13,
   "metadata": {},
   "outputs": [
    {
     "data": {
      "text/plain": [
       "array(['синий', 'чёрный', 'серый', 'коричневый', 'белый', 'пурпурный',\n",
       "       'бежевый', 'серебристый', 'красный', 'зелёный', 'жёлтый',\n",
       "       'голубой', 'оранжевый', 'фиолетовый', 'золотистый', 'розовый'],\n",
       "      dtype=object)"
      ]
     },
     "execution_count": 13,
     "metadata": {},
     "output_type": "execute_result"
    }
   ],
   "source": [
    "df_test.color.unique()"
   ]
  },
  {
   "cell_type": "markdown",
   "metadata": {},
   "source": [
    "Колонка содержит название цвета кузова, принимется в рассмотрение. "
   ]
  },
  {
   "cell_type": "markdown",
   "metadata": {},
   "source": [
    "### complectation_dict"
   ]
  },
  {
   "cell_type": "code",
   "execution_count": 14,
   "metadata": {},
   "outputs": [
    {
     "data": {
      "text/plain": [
       "0                                                  NaN\n",
       "1                                                  NaN\n",
       "2    {\"id\":\"20026336\",\"name\":\"Ambition\",\"available_...\n",
       "Name: complectation_dict, dtype: object"
      ]
     },
     "execution_count": 14,
     "metadata": {},
     "output_type": "execute_result"
    }
   ],
   "source": [
    "df_test.complectation_dict.head(3)"
   ]
  },
  {
   "cell_type": "code",
   "execution_count": 15,
   "metadata": {},
   "outputs": [
    {
     "data": {
      "text/plain": [
       "'{\"id\":\"20026336\",\"name\":\"Ambition\",\"available_options\":[\"heated-wash-system\",\"airbag-passenger\",\"lock\",\"door-sill-panel\",\"electro-mirrors\",\"mirrors-heat\",\"cooling-box\",\"computer\",\"seat-transformation\",\"wheel-power\",\"fabric-seats\",\"airbag-side\",\"abs\",\"wheel-leather\",\"climate-control-1\",\"esp\",\"adaptive-light\",\"audiopreparation\",\"ashtray-and-cigarette-lighter\",\"front-centre-armrest\",\"electro-window-back\",\"16-inch-wheels\",\"body-mouldings\",\"condition\",\"airbag-driver\",\"isofix\",\"aux\",\"electro-window-front\",\"light-sensor\",\"hcc\",\"ptf\",\"rain-sensor\",\"tyre-pressure\",\"audiosystem-cd\",\"front-seats-heat\",\"wheel-configuration2\",\"wheel-configuration1\",\"immo\",\"12v-socket\",\"third-rear-headrest\"]}'"
      ]
     },
     "execution_count": 15,
     "metadata": {},
     "output_type": "execute_result"
    }
   ],
   "source": [
    "df_test.complectation_dict.loc[2]"
   ]
  },
  {
   "cell_type": "markdown",
   "metadata": {},
   "source": [
    "Колонка содержит словарь стандартной комплектации с наименованием комплектации и списком обрудования (зачастую стандартного, имеющегося в любом автомобиле, например \"12v-socket\" или \"lock\") входящим в такую комплектацию. Доля пррпусков (свыше 0.8), перечисление оборудования присутсвуюшегов любом авто данной марки и модели и наличие колонки `equipment_dict` с гораздо меньшим количеством пропусков позволяет исключить колонку из рассмотрения."
   ]
  },
  {
   "cell_type": "markdown",
   "metadata": {},
   "source": [
    "### description"
   ]
  },
  {
   "cell_type": "code",
   "execution_count": 16,
   "metadata": {},
   "outputs": [
    {
     "name": "stdout",
     "output_type": "stream",
     "text": [
      "Все автомобили, представленные в продаже, проходят тщательную проверку по более 40 параметрам. Предоставляем гарантию юридической чистоты, а так же год технической гарантии на двигатель и КПП. Бесплатный тест-драйв. Возможно оформление автомобиля в кредит!\n",
      "\n",
      "Преимущества автокредитования:\n",
      "— Первоначальный взнос от 0%;\n",
      "— Более 30 кредитных программ;\n",
      "— Процентная ставка от 6% годовых;\n",
      "— Срок кредита от 6 месяцев до 7 лет;\n",
      "— Оформление кредита по двум документам;\n",
      "— Досрочное погашение без штрафов и комиссий;\n",
      "— Сумма кредита до 2 млн рублей;\n",
      "— Оформление КАСКО – по желанию;\n",
      "— Без справок и поручителей.\n",
      "\n",
      "Сотрудничаем с 12 аккредитованными и сертифицированными банками РФ, среднее время ожидания решения банка 20–30 минут.\n",
      "\n",
      "При покупке автомобиля по программе «Trade-in – выгодный обмен» или в кредит, получите дополнительную скидку до 80 000 рублей на данный автомобиль!\n",
      "\n",
      "Записаться на тест-драйв, а так же получить подробную информацию можно у специалистов автоцентра по указанному номеру телефона.\n"
     ]
    }
   ],
   "source": [
    "print(df_test.description[0])"
   ]
  },
  {
   "cell_type": "markdown",
   "metadata": {},
   "source": [
    "В колонке содержится текст, относящийся скорее к продавцу, чем к конкретному автомобилю. Поэтому на данном этапе ( и вероятно вообще) колонка исключается из рассмотрения."
   ]
  },
  {
   "cell_type": "markdown",
   "metadata": {},
   "source": [
    "### engineDisplacement"
   ]
  },
  {
   "cell_type": "code",
   "execution_count": 17,
   "metadata": {},
   "outputs": [
    {
     "data": {
      "text/plain": [
       "array(['1.2 LTR', '1.6 LTR', '1.8 LTR', '2.0 LTR', '1.4 LTR', '1.3 LTR',\n",
       "       '1.0 LTR', '3.6 LTR', '1.5 LTR', '1.9 LTR', '2.8 LTR', '1.1 LTR',\n",
       "       '2.5 LTR', '4.2 LTR', '3.0 LTR', '4.0 LTR', '5.9 LTR', '2.7 LTR',\n",
       "       '3.1 LTR', '2.4 LTR', '5.2 LTR', '3.2 LTR', '4.1 LTR', '6.3 LTR',\n",
       "       '2.3 LTR', '6.0 LTR', '2.2 LTR', '3.7 LTR', '2.9 LTR', '5.0 LTR',\n",
       "       '3.3 LTR', '2.1 LTR', '2.6 LTR', ' LTR', '3.5 LTR', '1.7 LTR',\n",
       "       '0.7 LTR', '4.4 LTR', '4.8 LTR', '5.4 LTR', '6.6 LTR', '4.9 LTR',\n",
       "       '3.8 LTR', '3.4 LTR', '3.9 LTR', '4.6 LTR', '5.6 LTR', '4.5 LTR',\n",
       "       '5.5 LTR', '6.2 LTR', '4.7 LTR', '4.3 LTR', '5.8 LTR', '5.3 LTR',\n",
       "       '5.7 LTR'], dtype=object)"
      ]
     },
     "execution_count": 17,
     "metadata": {},
     "output_type": "execute_result"
    }
   ],
   "source": [
    "df_test.engineDisplacement.unique()"
   ]
  },
  {
   "cell_type": "code",
   "execution_count": 18,
   "metadata": {},
   "outputs": [
    {
     "data": {
      "text/plain": [
       "55"
      ]
     },
     "execution_count": 18,
     "metadata": {},
     "output_type": "execute_result"
    }
   ],
   "source": [
    "df_test.engineDisplacement.value_counts()[' LTR']"
   ]
  },
  {
   "cell_type": "markdown",
   "metadata": {},
   "source": [
    "Колонка содержит обьем двигателя, принимется в рассмотрение. Следует отметить наличие скрытых пропусков (55 стрк `' LTR'`)"
   ]
  },
  {
   "cell_type": "markdown",
   "metadata": {},
   "source": [
    "### enginePower"
   ]
  },
  {
   "cell_type": "code",
   "execution_count": 19,
   "metadata": {},
   "outputs": [
    {
     "data": {
      "text/plain": [
       "array(['105 N12', '110 N12', '152 N12', '200 N12', '102 N12', '150 N12',\n",
       "       '90 N12', '180 N12', '220 N12', '122 N12', '70 N12', '140 N12',\n",
       "       '125 N12', '54 N12', '86 N12', '75 N12', '64 N12', '95 N12',\n",
       "       '260 N12', '170 N12', '80 N12', '68 N12', '160 N12', '115 N12',\n",
       "       '280 N12', '53 N12', '60 N12', '143 N12', '42 N12', '101 N12',\n",
       "       '58 N12', '193 N12', '79 N12', '30 N12', '100 N12', '50 N12',\n",
       "       '163 N12', '225 N12', '420 N12', '211 N12', '245 N12', '560 N12',\n",
       "       '500 N12', '249 N12', '450 N12', '605 N12', '250 N12', '354 N12',\n",
       "       '120 N12', '290 N12', '230 N12', '350 N12', '204 N12', '255 N12',\n",
       "       '340 N12', '177 N12', '272 N12', '372 N12', '210 N12', '130 N12',\n",
       "       '300 N12', '190 N12', '239 N12', '435 N12', '333 N12', '271 N12',\n",
       "       '326 N12', '238 N12', '310 N12', '233 N12', '252 N12', '133 N12',\n",
       "       '460 N12', '520 N12', '400 N12', '525 N12', '367 N12', '265 N12',\n",
       "       '550 N12', '580 N12', '88 N12', '165 N12', '430 N12', '335 N12',\n",
       "       '174 N12', '224 N12', '136 N12', '256 N12', '338 N12', '112 N12',\n",
       "       '218 N12', '360 N12', '93 N12', '182 N12', '113 N12', '240 N12',\n",
       "       '270 N12', '137 N12', '155 N12', '61 N12'], dtype=object)"
      ]
     },
     "execution_count": 19,
     "metadata": {},
     "output_type": "execute_result"
    }
   ],
   "source": [
    "df_test.enginePower.unique()[:100]"
   ]
  },
  {
   "cell_type": "markdown",
   "metadata": {},
   "source": [
    "Колонка содержит мощность двигателя, принмается в рассмотрение."
   ]
  },
  {
   "cell_type": "markdown",
   "metadata": {},
   "source": [
    "### equipment_dict"
   ]
  },
  {
   "cell_type": "code",
   "execution_count": 20,
   "metadata": {},
   "outputs": [
    {
     "data": {
      "text/plain": [
       "<method 'keys' of 'dict' objects>"
      ]
     },
     "execution_count": 20,
     "metadata": {},
     "output_type": "execute_result"
    }
   ],
   "source": [
    "dict.keys"
   ]
  },
  {
   "cell_type": "code",
   "execution_count": 21,
   "metadata": {},
   "outputs": [],
   "source": [
    "# ttt = df_test.equipment_dict.apply(lambda x: json.loads(x) if x==x else x)"
   ]
  },
  {
   "cell_type": "code",
   "execution_count": 22,
   "metadata": {},
   "outputs": [],
   "source": [
    "# len(ttt[0])"
   ]
  },
  {
   "cell_type": "code",
   "execution_count": 23,
   "metadata": {},
   "outputs": [],
   "source": [
    "# ttt.head()"
   ]
  },
  {
   "cell_type": "code",
   "execution_count": 24,
   "metadata": {},
   "outputs": [],
   "source": [
    "# ttt.apply(lambda x: list(x.keys()) if x==x else []).sum()"
   ]
  },
  {
   "cell_type": "code",
   "execution_count": 25,
   "metadata": {},
   "outputs": [
    {
     "data": {
      "text/plain": [
       "15195                                                  NaN\n",
       "14292                                                  NaN\n",
       "1645     {\"engine-proof\":true,\"asr\":true,\"esp\":true,\"ai...\n",
       "31406    {\"esp\":true,\"usb\":true,\"multi-wheel\":true,\"xen...\n",
       "8035     {\"electro-window-back\":true,\"alloy-wheel-disks...\n",
       "Name: equipment_dict, dtype: object"
      ]
     },
     "execution_count": 25,
     "metadata": {},
     "output_type": "execute_result"
    }
   ],
   "source": [
    "df_test.equipment_dict.sample(5)"
   ]
  },
  {
   "cell_type": "code",
   "execution_count": 26,
   "metadata": {},
   "outputs": [],
   "source": [
    "# df_test.equipment_dict.apply(lambda x: json.loads(x) if x==x else x).sample(5)"
   ]
  },
  {
   "cell_type": "markdown",
   "metadata": {},
   "source": [
    "В колонке много пропусков (почти 29%), не пропущенные значения представляют собой текстово епредсьавление словаря с перечислением оснащения автомобиля. В рассмотрнеие моделью будет приняты те пункты оснащения, что будут пересекаться с пунктами оснащения обучающего набора данных."
   ]
  },
  {
   "cell_type": "markdown",
   "metadata": {},
   "source": [
    "### fuelType"
   ]
  },
  {
   "cell_type": "code",
   "execution_count": 27,
   "metadata": {},
   "outputs": [
    {
     "data": {
      "text/plain": [
       "array(['бензин', 'дизель', 'гибрид', 'электро', 'газ'], dtype=object)"
      ]
     },
     "execution_count": 27,
     "metadata": {},
     "output_type": "execute_result"
    }
   ],
   "source": [
    "df_test.fuelType.unique()"
   ]
  },
  {
   "cell_type": "markdown",
   "metadata": {},
   "source": [
    "Колонка содержит тип топлива. Принимается врассмотрнеи."
   ]
  },
  {
   "cell_type": "markdown",
   "metadata": {},
   "source": [
    "### image"
   ]
  },
  {
   "cell_type": "code",
   "execution_count": 28,
   "metadata": {},
   "outputs": [
    {
     "data": {
      "text/plain": [
       "9201     https://autoru.naydex.net/lICN99c69/9bc7d3Rr7k...\n",
       "13239    https://autoru.naydex.net/G87gDZg56/28c7a8vqVE...\n",
       "7112     https://avatars.mds.yandex.net/get-autoru-vos/...\n",
       "22061    https://avatars.mds.yandex.net/get-autoru-vos/...\n",
       "18194    https://autoru.naydex.net/mcQh17801/f1b5751dCi...\n",
       "Name: image, dtype: object"
      ]
     },
     "execution_count": 28,
     "metadata": {},
     "output_type": "execute_result"
    }
   ],
   "source": [
    "df_test.image.sample(5)"
   ]
  },
  {
   "cell_type": "markdown",
   "metadata": {},
   "source": [
    "Колонка содержит ссылки на фото или аватар авто, исключается из рассмотрения."
   ]
  },
  {
   "cell_type": "markdown",
   "metadata": {},
   "source": [
    "### mileage"
   ]
  },
  {
   "cell_type": "code",
   "execution_count": 29,
   "metadata": {},
   "outputs": [
    {
     "data": {
      "text/plain": [
       "22094     90000\n",
       "28839    250000\n",
       "18655     38000\n",
       "11490    130000\n",
       "22432     61500\n",
       "Name: mileage, dtype: int64"
      ]
     },
     "execution_count": 29,
     "metadata": {},
     "output_type": "execute_result"
    }
   ],
   "source": [
    "df_test.mileage.sample(5)"
   ]
  },
  {
   "cell_type": "markdown",
   "metadata": {},
   "source": [
    "Колонка содержит пробег авто, принмается в рассмотрениею"
   ]
  },
  {
   "cell_type": "markdown",
   "metadata": {},
   "source": [
    "### modelDate"
   ]
  },
  {
   "cell_type": "code",
   "execution_count": 30,
   "metadata": {},
   "outputs": [
    {
     "data": {
      "text/plain": [
       "array([2013, 2017, 2008, 2009, 2016, 2012, 2015, 2010, 2006, 2000, 2007,\n",
       "       1994, 2004, 1999, 2005, 1976, 2001, 1969, 1996, 1998, 1989, 1934,\n",
       "       2014, 2011, 2018, 1986, 1997, 1990, 2019, 2002, 1991, 1987, 1980,\n",
       "       1982, 1938, 1988, 2003, 1983, 1978, 1979, 1984, 1992, 1995, 1993,\n",
       "       1985, 1974, 1966, 1977, 1981, 1972, 1968, 1975, 1949, 1937, 1936,\n",
       "       1973, 1959, 1958, 2020, 1965, 1971, 1904, 1963, 1955, 1951, 1960],\n",
       "      dtype=int64)"
      ]
     },
     "execution_count": 30,
     "metadata": {},
     "output_type": "execute_result"
    }
   ],
   "source": [
    "df_test.modelDate.unique()"
   ]
  },
  {
   "cell_type": "markdown",
   "metadata": {},
   "source": [
    "Колонка содержит год начала выпуска модели, принимется в рассмотрние."
   ]
  },
  {
   "cell_type": "markdown",
   "metadata": {},
   "source": [
    "### model_info"
   ]
  },
  {
   "cell_type": "code",
   "execution_count": 31,
   "metadata": {},
   "outputs": [
    {
     "data": {
      "text/plain": [
       "181      {\"code\":\"SUPERB\",\"name\":\"Superb\",\"ru_name\":\"Су...\n",
       "15016    {\"code\":\"G35\",\"name\":\"G\",\"ru_name\":\"G\",\"morpho...\n",
       "30880    {\"code\":\"PASSAT\",\"name\":\"Passat\",\"ru_name\":\"Па...\n",
       "7181     {\"code\":\"S60\",\"name\":\"S60\",\"ru_name\":\"S60\",\"mo...\n",
       "23053    {\"code\":\"ES\",\"name\":\"ES\",\"ru_name\":\"ES\",\"morph...\n",
       "Name: model_info, dtype: object"
      ]
     },
     "execution_count": 31,
     "metadata": {},
     "output_type": "execute_result"
    }
   ],
   "source": [
    "df_test.model_info.sample(5)"
   ]
  },
  {
   "cell_type": "markdown",
   "metadata": {},
   "source": [
    "Колонка содержит наименование модели в трех вариантах. Учитывая наличие `model_name` колонка исключается из рассмотрения"
   ]
  },
  {
   "cell_type": "markdown",
   "metadata": {},
   "source": [
    "### model_name"
   ]
  },
  {
   "cell_type": "code",
   "execution_count": 32,
   "metadata": {},
   "outputs": [
    {
     "data": {
      "text/plain": [
       "6258         XC60\n",
       "24292    MULTIVAN\n",
       "30537      TIGUAN\n",
       "23680    MULTIVAN\n",
       "2316      FELICIA\n",
       "Name: model_name, dtype: object"
      ]
     },
     "execution_count": 32,
     "metadata": {},
     "output_type": "execute_result"
    }
   ],
   "source": [
    "df_test.model_name.sample(5)"
   ]
  },
  {
   "cell_type": "markdown",
   "metadata": {},
   "source": [
    "Наименование модели. Принимается к рассмотрению."
   ]
  },
  {
   "cell_type": "markdown",
   "metadata": {},
   "source": [
    "### name"
   ]
  },
  {
   "cell_type": "code",
   "execution_count": 33,
   "metadata": {},
   "outputs": [
    {
     "data": {
      "text/plain": [
       "13979        3.5 CVT (249 л.с.) 4WD\n",
       "31054        1.8 AMT (152 л.с.) 4WD\n",
       "29645    35d 3.0d AT (286 л.с.) 4WD\n",
       "9454         320i 2.2 AT (170 л.с.)\n",
       "9537      35i 3.0 AT (306 л.с.) 4WD\n",
       "Name: name, dtype: object"
      ]
     },
     "execution_count": 33,
     "metadata": {},
     "output_type": "execute_result"
    }
   ],
   "source": [
    "df_test.name.sample(5)"
   ]
  },
  {
   "cell_type": "markdown",
   "metadata": {},
   "source": [
    "Колонка содержит расширение названия модели, указывающее на обьем двигателя и тип привода. Поскольку эта информация уже получена из других колонок, эта в рассмотрнеие не принимается"
   ]
  },
  {
   "cell_type": "markdown",
   "metadata": {},
   "source": [
    "### numberOfDoors"
   ]
  },
  {
   "cell_type": "code",
   "execution_count": 34,
   "metadata": {},
   "outputs": [
    {
     "data": {
      "text/plain": [
       "array([5, 4, 2, 3, 0], dtype=int64)"
      ]
     },
     "execution_count": 34,
     "metadata": {},
     "output_type": "execute_result"
    }
   ],
   "source": [
    "df_test.numberOfDoors.unique()"
   ]
  },
  {
   "cell_type": "markdown",
   "metadata": {},
   "source": [
    "Колонка содержит числовое представление количества дверей, принимется в рассмотрение."
   ]
  },
  {
   "cell_type": "markdown",
   "metadata": {},
   "source": [
    "### parsing_unixtime"
   ]
  },
  {
   "cell_type": "markdown",
   "metadata": {},
   "source": [
    "Колонка судя по названию содержит время сбора информации в валидационный набор данных. Непосредственно для обученяи информация не нужна. Но время сбора поможет внести поправку на изменение коньюктуры(курс валюты и т.д.). \n",
    "Посмотрим на диапазон `parsing_unixtime`:"
   ]
  },
  {
   "cell_type": "code",
   "execution_count": 35,
   "metadata": {},
   "outputs": [],
   "source": [
    "# datetime.utcfromtimestamp(df_test.parsing_unixtime.min())"
   ]
  },
  {
   "cell_type": "code",
   "execution_count": 36,
   "metadata": {},
   "outputs": [],
   "source": [
    "# datetime.utcfromtimestamp(df_test.parsing_unixtime.max())"
   ]
  },
  {
   "cell_type": "code",
   "execution_count": 37,
   "metadata": {},
   "outputs": [
    {
     "data": {
      "text/plain": [
       "(datetime.date(2020, 10, 19), datetime.date(2020, 10, 26))"
      ]
     },
     "execution_count": 37,
     "metadata": {},
     "output_type": "execute_result"
    }
   ],
   "source": [
    "date.fromtimestamp(df_test.parsing_unixtime.min()),date.fromtimestamp(df_test.parsing_unixtime.max())"
   ]
  },
  {
   "cell_type": "markdown",
   "metadata": {},
   "source": [
    "Как видим парсинг произведен с 19 по 26 октября 20-го года"
   ]
  },
  {
   "cell_type": "markdown",
   "metadata": {},
   "source": [
    "### productionDate"
   ]
  },
  {
   "cell_type": "code",
   "execution_count": 38,
   "metadata": {},
   "outputs": [
    {
     "data": {
      "text/plain": [
       "array([2014, 2017, 2012, 2011, 2019, 2018, 2010, 2020, 2016, 2013, 2006,\n",
       "       2007, 2015, 2005, 2008, 2009, 1997, 2004, 2002, 1987, 2003, 2001,\n",
       "       1976, 2000, 1998, 1995, 1999, 1993, 1939, 1996, 1984, 1990, 1991,\n",
       "       1992, 1989, 1982, 1985, 1994, 1938, 1981, 1988, 1983, 1980, 1986,\n",
       "       1978, 1970, 1979, 1977, 1972, 1975, 1969, 1950, 1953, 1949, 1937,\n",
       "       1959, 1968, 1936, 1904, 1974, 1967, 1961, 1960, 1965, 1963, 1957,\n",
       "       1952, 1973, 1948], dtype=int64)"
      ]
     },
     "execution_count": 38,
     "metadata": {},
     "output_type": "execute_result"
    }
   ],
   "source": [
    "df_test.productionDate.unique()"
   ]
  },
  {
   "cell_type": "markdown",
   "metadata": {},
   "source": [
    "Год производства автомобиля ( наверное наряду с моделью автомобиля самы значимый признак). Принмается в рассмотрнеие."
   ]
  },
  {
   "cell_type": "markdown",
   "metadata": {},
   "source": [
    "### sell_id"
   ]
  },
  {
   "cell_type": "code",
   "execution_count": 39,
   "metadata": {},
   "outputs": [
    {
     "data": {
      "text/plain": [
       "'https://auto.ru/cars/used/sale/skoda/octavia/1100549428-595cadf2/'"
      ]
     },
     "execution_count": 39,
     "metadata": {},
     "output_type": "execute_result"
    }
   ],
   "source": [
    "df_test.car_url[1]"
   ]
  },
  {
   "cell_type": "code",
   "execution_count": 40,
   "metadata": {},
   "outputs": [
    {
     "data": {
      "text/plain": [
       "1100549428"
      ]
     },
     "execution_count": 40,
     "metadata": {},
     "output_type": "execute_result"
    }
   ],
   "source": [
    "df_test.sell_id[1]"
   ]
  },
  {
   "cell_type": "code",
   "execution_count": null,
   "metadata": {},
   "outputs": [],
   "source": []
  },
  {
   "cell_type": "code",
   "execution_count": 41,
   "metadata": {},
   "outputs": [
    {
     "data": {
      "text/plain": [
       "array([1100575026, 1100549428, 1100658222, ..., 1101364889, 1101362518,\n",
       "       1101256068], dtype=int64)"
      ]
     },
     "execution_count": 41,
     "metadata": {},
     "output_type": "execute_result"
    }
   ],
   "source": [
    "df_test.sell_id.unique()"
   ]
  },
  {
   "cell_type": "markdown",
   "metadata": {},
   "source": [
    "Колонка содержит ***id*** обьявления. Как непосредственный признак не интересен, в рассмотрение моделью не принимается. Но если предположить, что ***id*** отражает хронологический порядок появления обьявления, то, например, можно попробовать при \"тонкой настройке\" модели придать более новым обьявлениям больший вес при обучении."
   ]
  },
  {
   "cell_type": "markdown",
   "metadata": {},
   "source": [
    "### super_gen"
   ]
  },
  {
   "cell_type": "code",
   "execution_count": 42,
   "metadata": {},
   "outputs": [
    {
     "data": {
      "text/plain": [
       "'{\"id\":\"10373605\",\"displacement\":1197,\"engine_type\":\"GASOLINE\",\"gear_type\":\"FORWARD_CONTROL\",\"transmission\":\"ROBOT\",\"power\":105,\"power_kvt\":77,\"human_name\":\"1.2 AMT (105 л.с.)\",\"acceleration\":10.5,\"clearance_min\":155,\"fuel_rate\":5}'"
      ]
     },
     "execution_count": 42,
     "metadata": {},
     "output_type": "execute_result"
    }
   ],
   "source": [
    "df_test.super_gen[0]"
   ]
  },
  {
   "cell_type": "markdown",
   "metadata": {},
   "source": [
    "Колонка содержит ***id*** и параметры автомобиля, которые либо являются по сути атрибутами модели (у всех автомобилей одной модели одинаковый клиренс) либо уже известны нам из других колонок (например тип трансмиссии). В рассмотрнеи не принимается."
   ]
  },
  {
   "cell_type": "markdown",
   "metadata": {},
   "source": [
    "### vehicleConfiguration"
   ]
  },
  {
   "cell_type": "code",
   "execution_count": 43,
   "metadata": {},
   "outputs": [
    {
     "data": {
      "text/plain": [
       "4924              SEDAN MECHANICAL 1.8\n",
       "1892         ALLROAD_5_DOORS ROBOT 1.2\n",
       "31255           LIFTBACK AUTOMATIC 1.8\n",
       "22033    ALLROAD_5_DOORS AUTOMATIC 1.3\n",
       "32008             SEDAN MECHANICAL 1.8\n",
       "Name: vehicleConfiguration, dtype: object"
      ]
     },
     "execution_count": 43,
     "metadata": {},
     "output_type": "execute_result"
    }
   ],
   "source": [
    "df_test.vehicleConfiguration.sample(5)"
   ]
  },
  {
   "cell_type": "markdown",
   "metadata": {},
   "source": [
    "Содержит информацию о типе кузова, типе трансмиссии обьеме двигателя количестве дверей. Эта информация доступна в других колонках, поэтому `vehicleConfiguration` в рассмотрение не принимется "
   ]
  },
  {
   "cell_type": "markdown",
   "metadata": {},
   "source": [
    "### vehicleTransmission"
   ]
  },
  {
   "cell_type": "code",
   "execution_count": 44,
   "metadata": {},
   "outputs": [
    {
     "data": {
      "text/plain": [
       "array(['роботизированная', 'механическая', 'автоматическая', 'вариатор'],\n",
       "      dtype=object)"
      ]
     },
     "execution_count": 44,
     "metadata": {},
     "output_type": "execute_result"
    }
   ],
   "source": [
    "df_test.vehicleTransmission.unique()"
   ]
  },
  {
   "cell_type": "markdown",
   "metadata": {},
   "source": [
    "Колонка содержит в тестовом виде тип трансмиссии. Принимается в рассмотрение."
   ]
  },
  {
   "cell_type": "markdown",
   "metadata": {},
   "source": [
    "### vendor"
   ]
  },
  {
   "cell_type": "code",
   "execution_count": 45,
   "metadata": {},
   "outputs": [
    {
     "data": {
      "text/plain": [
       "array(['EUROPEAN', 'JAPANESE'], dtype=object)"
      ]
     },
     "execution_count": 45,
     "metadata": {},
     "output_type": "execute_result"
    }
   ],
   "source": [
    "df_test.vendor.unique()"
   ]
  },
  {
   "cell_type": "code",
   "execution_count": 46,
   "metadata": {},
   "outputs": [
    {
     "data": {
      "text/plain": [
       "vendor\n",
       "EUROPEAN      [SKODA, AUDI, VOLVO, BMW, MERCEDES, VOLKSWAGEN]\n",
       "JAPANESE    [HONDA, NISSAN, INFINITI, TOYOTA, LEXUS, MITSU...\n",
       "Name: brand, dtype: object"
      ]
     },
     "execution_count": 46,
     "metadata": {},
     "output_type": "execute_result"
    }
   ],
   "source": [
    "df_test.groupby('vendor').brand.unique()"
   ]
  },
  {
   "cell_type": "markdown",
   "metadata": {},
   "source": [
    "Как видим колонка содержит обобщающий признак - принадлежность марки к европейским либо японским. Как подсказывает опыт автовладельца динамика падения цены от срока владения у этих двух групп различается (японцы обычно дешевеют медленнее, особенно Toyota). Посчитаем признак полезным, примем в рассмотрение моделью."
   ]
  },
  {
   "cell_type": "markdown",
   "metadata": {},
   "source": [
    "### Владельцы"
   ]
  },
  {
   "cell_type": "code",
   "execution_count": 47,
   "metadata": {},
   "outputs": [
    {
     "data": {
      "text/plain": [
       "array(['3 или более', '1\\xa0владелец', '2\\xa0владельца'], dtype=object)"
      ]
     },
     "execution_count": 47,
     "metadata": {},
     "output_type": "execute_result"
    }
   ],
   "source": [
    "df_test.Владельцы.unique()"
   ]
  },
  {
   "cell_type": "markdown",
   "metadata": {},
   "source": [
    "Колонка содержит в текстовом виде три категории количества владельцев авто. Примем в рассмотрение"
   ]
  },
  {
   "cell_type": "markdown",
   "metadata": {},
   "source": [
    "### Владение"
   ]
  },
  {
   "cell_type": "code",
   "execution_count": 48,
   "metadata": {},
   "outputs": [
    {
     "data": {
      "text/plain": [
       "array([nan, '3 года и 2 месяца', '11 месяцев', '4 года и 1 месяц',\n",
       "       '2 года и 4 месяца', '1 месяц', '3 года и 10 месяцев',\n",
       "       '2 года и 6 месяцев', '6 лет и 4 месяца', '2 месяца', '4 месяца',\n",
       "       '1 год и 10 месяцев', '2 года и 7 месяцев', '7 лет и 11 месяцев',\n",
       "       '7 лет и 5 месяцев', '1 год и 11 месяцев', '2 года и 1 месяц',\n",
       "       '7 лет', '4 года и 2 месяца', '2 года и 8 месяцев'], dtype=object)"
      ]
     },
     "execution_count": 48,
     "metadata": {},
     "output_type": "execute_result"
    }
   ],
   "source": [
    "df_test.Владение.unique()[:20]"
   ]
  },
  {
   "cell_type": "markdown",
   "metadata": {},
   "source": [
    "Колонка содержит время прошедшее с момента выпуска авто. Очевидно линейно зависит о даты выпуска автомобиля - исключается из рассмотрения."
   ]
  },
  {
   "cell_type": "markdown",
   "metadata": {},
   "source": [
    "### ПТС"
   ]
  },
  {
   "cell_type": "code",
   "execution_count": 49,
   "metadata": {},
   "outputs": [
    {
     "data": {
      "text/plain": [
       "array(['Оригинал', 'Дубликат', nan], dtype=object)"
      ]
     },
     "execution_count": 49,
     "metadata": {},
     "output_type": "execute_result"
    }
   ],
   "source": [
    "df_test.ПТС.unique()"
   ]
  },
  {
   "cell_type": "markdown",
   "metadata": {},
   "source": [
    "Колонка содержит (если значение не nan) категорию ПТС. Принимается в рассмотрение."
   ]
  },
  {
   "cell_type": "markdown",
   "metadata": {},
   "source": [
    "### Привод"
   ]
  },
  {
   "cell_type": "code",
   "execution_count": 50,
   "metadata": {},
   "outputs": [
    {
     "data": {
      "text/plain": [
       "array(['передний', 'полный', 'задний'], dtype=object)"
      ]
     },
     "execution_count": 50,
     "metadata": {},
     "output_type": "execute_result"
    }
   ],
   "source": [
    "df_test.Привод.unique()"
   ]
  },
  {
   "cell_type": "markdown",
   "metadata": {},
   "source": [
    "Колонка содержит категорию привода. Принимается в расмотрние."
   ]
  },
  {
   "cell_type": "markdown",
   "metadata": {},
   "source": [
    "### Руль"
   ]
  },
  {
   "cell_type": "code",
   "execution_count": 51,
   "metadata": {},
   "outputs": [
    {
     "data": {
      "text/plain": [
       "array(['Левый', 'Правый'], dtype=object)"
      ]
     },
     "execution_count": 51,
     "metadata": {},
     "output_type": "execute_result"
    }
   ],
   "source": [
    "df_test.Руль.unique()"
   ]
  },
  {
   "cell_type": "markdown",
   "metadata": {},
   "source": [
    "Колонка содержит категрию право- или левосторонности управления . В рассмотрение.\n",
    " ## Колонки подлежащие рассмотрению моделью\n",
    "Итого из валидационного набора данных, содержащихся в `df_test` будем спользовать для построения модели информацию из следующих колонок:\n",
    "\n"
   ]
  },
  {
   "cell_type": "code",
   "execution_count": 52,
   "metadata": {},
   "outputs": [],
   "source": [
    "columns_to_handle = ['bodyType', 'brand', 'car_url', 'color', 'engineDisplacement', 'enginePower', \n",
    "                      'equipment_dict','fuelType', 'mileage', 'modelDate', 'model_name', 'numberOfDoors', \n",
    "                      'productionDate', 'sell_id', 'vehicleTransmission', 'vendor', \n",
    "                      'Владельцы', 'ПТС', 'Привод', 'Руль']\n",
    "useful_columns = ['parsing_unixtime']"
   ]
  },
  {
   "cell_type": "code",
   "execution_count": 53,
   "metadata": {},
   "outputs": [],
   "source": [
    "test = df_test[columns_to_handle]"
   ]
  },
  {
   "cell_type": "markdown",
   "metadata": {},
   "source": [
    "## РАЗРАБОТКА"
   ]
  },
  {
   "cell_type": "code",
   "execution_count": 54,
   "metadata": {},
   "outputs": [],
   "source": [
    "'''tmp = pd.read_csv(f'{path}all_marks.csv')\n",
    "tmp.columns =pd.Index(['bodyType', 'brand', 'car_url', 'color', 'engineDisplacement',\n",
    "       'enginePower', 'equipment_dict', 'fuelType', 'mileage', 'modelDate',\n",
    "       'model_name', 'numberOfDoors', 'productionDate', 'sell_id',\n",
    "       'vehicleTransmission', 'vendor', 'Владельцы', 'ПТС', 'Привод', 'Руль',\n",
    "       'offerprice'],\n",
    "      dtype='object')\n",
    "tmp.to_csv(f'{path}all_marks.csv',index=False)\n",
    "\n",
    "tmp = pd.read_csv(f'{path}extra_train.csv')\n",
    "tmp.columns =pd.Index(['bodyType', 'brand', 'car_url', 'color', 'engineDisplacement',\n",
    "       'enginePower', 'equipment_dict', 'fuelType', 'mileage', 'modelDate',\n",
    "       'model_name', 'numberOfDoors', 'productionDate', 'sell_id',\n",
    "       'vehicleTransmission', 'vendor', 'Владельцы', 'ПТС', 'Привод', 'Руль',\n",
    "       'offerprice'],\n",
    "      dtype='object')\n",
    "tmp.to_csv(f'{path}extra_train.csv',index=False)\n",
    "\n",
    "tmp = pd.read_csv(f'{path}train.csv')\n",
    "tmp.columns =pd.Index(['bodyType', 'brand', 'car_url', 'color', 'engineDisplacement',\n",
    "       'enginePower', 'equipment_dict', 'fuelType', 'mileage', 'modelDate',\n",
    "       'model_name', 'numberOfDoors', 'productionDate', 'sell_id',\n",
    "       'vehicleTransmission', 'vendor', 'Владельцы', 'ПТС', 'Привод', 'Руль',\n",
    "       'offerprice'],\n",
    "      dtype='object')\n",
    "tmp.to_csv(f'{path}train.csv',index=False)''';"
   ]
  },
  {
   "cell_type": "markdown",
   "metadata": {},
   "source": [
    "## ========================================="
   ]
  },
  {
   "cell_type": "markdown",
   "metadata": {},
   "source": [
    "## Унификация test и train"
   ]
  },
  {
   "cell_type": "code",
   "execution_count": 55,
   "metadata": {},
   "outputs": [],
   "source": [
    "train = pd.read_csv(f'{path}all_marks.csv')"
   ]
  },
  {
   "cell_type": "code",
   "execution_count": 81,
   "metadata": {},
   "outputs": [],
   "source": [
    "def categ_diff(column):\n",
    "    one = train[column]\n",
    "    another = test[column]\n",
    "    one_another = set(one.unique()) - set(another.unique())\n",
    "    another_one = set(another.unique()) - set(one.unique())\n",
    "    print(one_another)\n",
    "    print(another_one)"
   ]
  },
  {
   "cell_type": "code",
   "execution_count": 57,
   "metadata": {},
   "outputs": [
    {
     "name": "stdout",
     "output_type": "stream",
     "text": [
      "{nan, 'универсал 3 дв.', 'хэтчбек 4 дв.', 'спидстер'}\n",
      "set()\n"
     ]
    }
   ],
   "source": [
    "categ_diff('bodyType')"
   ]
  },
  {
   "cell_type": "code",
   "execution_count": 58,
   "metadata": {},
   "outputs": [
    {
     "name": "stdout",
     "output_type": "stream",
     "text": [
      "{nan, 'MITSUOKA', 'HEINKEL', 'ISUZU', 'WILLYS', 'BRABUS', 'ЗАЗ', 'ГАЗ', 'HUMMER', 'TIANMA', 'PEUGEOT', 'GMC', 'HAIMA', 'MAZDA', 'EXCALIBUR', 'VORTEX', 'GREAT WALL', 'PONTIAC', 'BENTLEY', 'BYD', 'BRILLIANCE', 'FAW', 'ROLLS-ROYCE', 'PACKARD', 'DAIHATSU', 'LIFAN', 'MERCURY', 'GENESIS', 'УАЗ', 'DS', 'SEAT', 'LAND ROVER', 'SUZUKI', 'JAGUAR', 'ZX', 'ACURA', 'ASTON MARTIN', 'CHRYSLER', 'ТАГАЗ', 'RAM', 'EAGLE', 'DERWAYS', 'ГОНОЧНЫЙ АВТОМОБИЛЬ', 'СМЗ', 'DELAGE', 'TESLA', 'KIA', 'SMART', 'PORSCHE', 'TRIUMPH', 'CHERY', 'IRAN KHODRO', 'FERRARI', 'MERCEDES-BENZ', 'GEELY', 'SUBARU', 'HAVAL', 'TATRA', 'PLYMOUTH', 'OLDSMOBILE', 'SCION', 'FIAT', 'JEEP', 'SHANGHAI MAPLE', 'ИЖ', 'MAYBACH', 'DATSUN', 'LANCIA', 'LIGIER', 'GAC', 'CADILLAC', 'RENAULT', 'ASIA', 'DKW', 'MASERATI', 'LINCOLN', 'CHANGAN', 'DACIA', 'SSANGYONG', 'LTI', 'HYUNDAI', 'DAEWOO', 'BORGWARD', 'ZOTYE', 'PROTON', 'ALPINA', 'OPEL', 'ALFA ROMEO', 'RAVON', 'DAIMLER', 'CITROEN', 'ARO', 'SAAB', 'DONGFENG', 'MAHINDRA', 'ROVER', 'AC', 'ЛУАЗ', 'BUICK', 'ARIEL', 'JAC', 'AUBURN', 'DODGE', 'DONINVEST', 'ADLER', 'МОСКВИЧ', 'AMC', 'LAMBORGHINI', 'HAWTAI', 'MG', 'LUXGEN', 'MINI', 'SATURN', 'MCLAREN', 'CHEVROLET', 'HAFEI', 'FOTON', 'ЗИС', 'ЗИЛ', 'DW HOWER', 'LADA (ВАЗ)', 'FORD'}\n",
      "{'MERCEDES'}\n"
     ]
    }
   ],
   "source": [
    "categ_diff('brand')"
   ]
  },
  {
   "cell_type": "code",
   "execution_count": 59,
   "metadata": {},
   "outputs": [
    {
     "data": {
      "text/plain": [
       "'car_url'"
      ]
     },
     "execution_count": 59,
     "metadata": {},
     "output_type": "execute_result"
    }
   ],
   "source": [
    "'car_url'"
   ]
  },
  {
   "cell_type": "code",
   "execution_count": 60,
   "metadata": {},
   "outputs": [
    {
     "name": "stdout",
     "output_type": "stream",
     "text": [
      "{nan}\n",
      "set()\n"
     ]
    }
   ],
   "source": [
    "categ_diff('color')"
   ]
  },
  {
   "cell_type": "code",
   "execution_count": 61,
   "metadata": {},
   "outputs": [
    {
     "name": "stdout",
     "output_type": "stream",
     "text": [
      "{nan, 1.2, 1.6, 1.3, 1.4, 1.5, 2.0, 1.8, 1.9, 3.6, 2.8, 2.3, 3.3, 2.5, 6.0, 6.3, 3.0, 3.5, 4.0, 4.1, 4.4, 4.9, 0.6, 5.9, 5.0, 5.4, 4.6, 5.6, 6.6, 1.0, 5.5, 6.4, 6.5, 7.0, 7.4, 1.1, 6.1, 0.5, 8.2, 8.0, 2.6, 2.1, 3.1, 0.7, 0.2, 1.7, 2.2, 2.7, 3.2, 3.7, 3.8, 0.8, 4.2, 4.8, 4.7, 4.3, 5.2, 5.8, 5.7, 5.3, 6.2, 6.8, 7.3, 7.7, 0.9, 4.5, 2.4, 2.9, 0.4, 3.4, 3.9}\n",
      "{'5.3 LTR', '5.2 LTR', '2.6 LTR', '2.2 LTR', '6.3 LTR', '2.3 LTR', '1.4 LTR', '4.1 LTR', '4.3 LTR', '3.3 LTR', '2.8 LTR', '4.5 LTR', '1.0 LTR', '6.6 LTR', '2.1 LTR', '6.2 LTR', '5.8 LTR', '4.8 LTR', '5.7 LTR', '2.5 LTR', '3.9 LTR', '5.5 LTR', '4.6 LTR', '3.0 LTR', '2.0 LTR', '4.7 LTR', '4.0 LTR', '1.1 LTR', '2.7 LTR', '2.4 LTR', '3.1 LTR', '3.2 LTR', '1.7 LTR', '3.6 LTR', '4.4 LTR', '3.4 LTR', '3.7 LTR', '2.9 LTR', '1.8 LTR', '5.0 LTR', '3.5 LTR', '0.7 LTR', '4.9 LTR', '5.9 LTR', '5.6 LTR', '3.8 LTR', '5.4 LTR', '4.2 LTR', '1.2 LTR', '1.3 LTR', '1.6 LTR', '1.9 LTR', ' LTR', '1.5 LTR', '6.0 LTR'}\n"
     ]
    }
   ],
   "source": [
    "categ_fiff('engineDisplacement')"
   ]
  },
  {
   "cell_type": "code",
   "execution_count": 62,
   "metadata": {},
   "outputs": [
    {
     "name": "stdout",
     "output_type": "stream",
     "text": [
      "{nan, 10.0, 12.0, 18.0, 19.0, 20.0, 23.0, 25.0, 26.0, 27.0, 29.0, 30.0, 33.0, 34.0, 35.0, 37.0, 38.0, 40.0, 41.0, 42.0, 44.0, 45.0, 46.0, 48.0, 49.0, 50.0, 51.0, 52.0, 53.0, 54.0, 55.0, 56.0, 57.0, 58.0, 59.0, 60.0, 61.0, 62.0, 63.0, 64.0, 65.0, 66.0, 67.0, 68.0, 69.0, 70.0, 71.0, 72.0, 73.0, 74.0, 75.0, 76.0, 77.0, 78.0, 79.0, 80.0, 81.0, 82.0, 83.0, 84.0, 85.0, 86.0, 87.0, 88.0, 89.0, 90.0, 91.0, 92.0, 93.0, 94.0, 95.0, 96.0, 97.0, 98.0, 99.0, 100.0, 101.0, 102.0, 103.0, 104.0, 105.0, 106.0, 107.0, 108.0, 109.0, 110.0, 111.0, 112.0, 113.0, 114.0, 115.0, 116.0, 117.0, 118.0, 119.0, 120.0, 121.0, 122.0, 123.0, 124.0, 125.0, 126.0, 127.0, 128.0, 129.0, 130.0, 131.0, 132.0, 133.0, 134.0, 135.0, 136.0, 137.0, 138.0, 139.0, 140.0, 141.0, 142.0, 143.0, 144.0, 145.0, 146.0, 147.0, 148.0, 149.0, 150.0, 151.0, 152.0, 153.0, 154.0, 155.0, 156.0, 157.0, 158.0, 159.0, 160.0, 161.0, 162.0, 163.0, 164.0, 165.0, 166.0, 167.0, 168.0, 169.0, 170.0, 171.0, 172.0, 173.0, 174.0, 175.0, 176.0, 177.0, 178.0, 179.0, 180.0, 181.0, 182.0, 183.0, 184.0, 185.0, 186.0, 187.0, 188.0, 189.0, 190.0, 192.0, 193.0, 194.0, 195.0, 196.0, 197.0, 198.0, 199.0, 200.0, 201.0, 202.0, 203.0, 204.0, 205.0, 207.0, 208.0, 209.0, 210.0, 211.0, 212.0, 213.0, 214.0, 215.0, 217.0, 218.0, 219.0, 220.0, 221.0, 222.0, 223.0, 224.0, 225.0, 226.0, 227.0, 228.0, 230.0, 231.0, 232.0, 233.0, 234.0, 235.0, 236.0, 238.0, 239.0, 240.0, 241.0, 242.0, 243.0, 244.0, 245.0, 247.0, 248.0, 249.0, 250.0, 251.0, 252.0, 253.0, 254.0, 255.0, 256.0, 257.0, 258.0, 260.0, 261.0, 262.0, 263.0, 264.0, 265.0, 266.0, 268.0, 269.0, 270.0, 271.0, 272.0, 273.0, 274.0, 275.0, 276.0, 277.0, 278.0, 279.0, 280.0, 281.0, 282.0, 283.0, 284.0, 285.0, 286.0, 287.0, 288.0, 290.0, 292.0, 294.0, 295.0, 296.0, 298.0, 299.0, 300.0, 301.0, 302.0, 303.0, 304.0, 305.0, 306.0, 307.0, 308.0, 309.0, 310.0, 311.0, 312.0, 313.0, 314.0, 315.0, 316.0, 317.0, 318.0, 320.0, 321.0, 322.0, 323.0, 324.0, 325.0, 326.0, 328.0, 329.0, 330.0, 333.0, 334.0, 335.0, 338.0, 339.0, 340.0, 343.0, 344.0, 345.0, 347.0, 349.0, 350.0, 352.0, 354.0, 355.0, 360.0, 363.0, 365.0, 367.0, 370.0, 372.0, 373.0, 375.0, 380.0, 381.0, 382.0, 383.0, 385.0, 387.0, 388.0, 389.0, 390.0, 393.0, 394.0, 395.0, 396.0, 400.0, 401.0, 405.0, 407.0, 408.0, 409.0, 410.0, 411.0, 412.0, 413.0, 416.0, 420.0, 421.0, 422.0, 424.0, 425.0, 426.0, 430.0, 431.0, 435.0, 437.0, 440.0, 445.0, 450.0, 455.0, 456.0, 457.0, 460.0, 462.0, 466.0, 468.0, 469.0, 475.0, 476.0, 477.0, 480.0, 485.0, 487.0, 490.0, 492.0, 500.0, 507.0, 510.0, 512.0, 517.0, 520.0, 521.0, 522.0, 525.0, 528.0, 530.0, 537.0, 540.0, 544.0, 550.0, 555.0, 557.0, 558.0, 560.0, 564.0, 565.0, 570.0, 571.0, 575.0, 580.0, 585.0, 589.0, 591.0, 600.0, 605.0, 608.0, 609.0, 610.0, 612.0, 620.0, 625.0, 626.0, 630.0, 632.0, 635.0, 639.0, 640.0, 649.0, 650.0, 660.0, 662.0, 670.0, 690.0, 700.0, 702.0, 717.0, 720.0, 740.0, 750.0, 800.0}\n",
      "{'155 N12', '102 N12', '222 N12', '240 N12', '401 N12', '178 N12', '136 N12', '151 N12', '507 N12', '585 N12', '199 N12', '360 N12', '69 N12', '68 N12', '230 N12', '272 N12', '557 N12', '146 N12', '626 N12', '300 N12', '321 N12', '158 N12', '455 N12', '457 N12', '137 N12', '313 N12', '95 N12', '193 N12', '50 N12', '147 N12', '247 N12', '114 N12', '255 N12', '388 N12', '72 N12', '159 N12', '219 N12', '189 N12', '277 N12', '168 N12', '110 N12', '558 N12', '152 N12', '221 N12', '202 N12', '112 N12', '354 N12', '263 N12', '173 N12', '517 N12', '500 N12', '61 N12', '522 N12', '232 N12', '310 N12', '174 N12', '228 N12', '115 N12', '520 N12', '73 N12', '408 N12', '402 N12', '131 N12', '445 N12', '347 N12', '350 N12', '77 N12', '184 N12', '200 N12', '318 N12', '340 N12', '55 N12', '53 N12', '46 N12', '328 N12', '116 N12', '175 N12', '485 N12', '66 N12', '330 N12', '99 N12', '86 N12', '220 N12', '65 N12', '107 N12', '156 N12', '273 N12', '301 N12', '144 N12', '165 N12', '224 N12', '94 N12', '271 N12', '201 N12', '407 N12', '530 N12', '80 N12', '106 N12', '139 N12', '148 N12', '292 N12', '192 N12', '421 N12', '42 N12', '204 N12', '307 N12', '380 N12', '235 N12', '84 N12', '101 N12', '264 N12', '278 N12', '214 N12', '343 N12', '85 N12', '76 N12', '44 N12', '82 N12', '75 N12', '242 N12', '370 N12', '387 N12', '83 N12', '290 N12', '487 N12', '600 N12', '231 N12', '258 N12', '372 N12', '60 N12', '71 N12', '154 N12', '335 N12', '130 N12', '143 N12', '294 N12', '305 N12', '194 N12', '90 N12', '79 N12', '30 N12', '225 N12', '422 N12', '122 N12', '182 N12', '91 N12', '248 N12', '265 N12', '250 N12', '238 N12', '317 N12', '124 N12', '270 N12', '324 N12', '88 N12', '243 N12', '233 N12', '32 N12', '58 N12', '38 N12', '218 N12', '103 N12', '203 N12', '575 N12', '105 N12', '145 N12', '179 N12', '266 N12', '74 N12', '212 N12', '40 N12', '405 N12', '390 N12', '254 N12', '96 N12', '303 N12', '129 N12', '257 N12', '197 N12', '269 N12', '283 N12', '149 N12', '381 N12', '560 N12', '540 N12', '223 N12', '183 N12', '126 N12', '78 N12', '111 N12', '284 N12', '333 N12', '166 N12', '325 N12', '157 N12', '605 N12', '135 N12', '382 N12', '268 N12', '92 N12', '355 N12', '260 N12', '555 N12', '164 N12', '383 N12', '591 N12', '435 N12', '227 N12', '205 N12', '208 N12', '142 N12', '571 N12', '639 N12', '52 N12', '211 N12', '462 N12', '525 N12', '209 N12', '128 N12', '420 N12', '100 N12', '141 N12', '315 N12', '450 N12', '256 N12', '113 N12', '275 N12', '234 N12', '612 N12', '469 N12', '480 N12', '329 N12', '51 N12', '400 N12', '163 N12', '309 N12', '169 N12', '125 N12', '54 N12', '87 N12', '57 N12', '64 N12', '460 N12', '338 N12', '170 N12', '288 N12', '241 N12', '49 N12', '304 N12', '320 N12', '625 N12', '97 N12', '514 N12', '580 N12', '150 N12', '276 N12', '430 N12', '245 N12', '104 N12', '316 N12', '295 N12', '249 N12', '281 N12', '171 N12', '70 N12', '98 N12', '118 N12', '279 N12', '239 N12', '120 N12', '127 N12', '296 N12', '282 N12', '195 N12', '285 N12', '609 N12', '252 N12', '185 N12', '140 N12', '302 N12', '48 N12', '210 N12', '188 N12', '510 N12', '181 N12', '610 N12', '167 N12', '67 N12', '190 N12', '476 N12', '180 N12', '132 N12', '394 N12', '326 N12', '133 N12', '367 N12', '109 N12', '215 N12', '431 N12', '162 N12', '306 N12', '280 N12', '544 N12', '262 N12', '630 N12', '108 N12', '93 N12', '121 N12', '213 N12', '186 N12', '550 N12', '286 N12', '177 N12', '117 N12', '160 N12'}\n"
     ]
    }
   ],
   "source": [
    "categ_diff('enginePower')"
   ]
  },
  {
   "cell_type": "code",
   "execution_count": 63,
   "metadata": {},
   "outputs": [
    {
     "data": {
      "text/plain": [
       "'equipment_dict'"
      ]
     },
     "execution_count": 63,
     "metadata": {},
     "output_type": "execute_result"
    }
   ],
   "source": [
    "'equipment_dict'"
   ]
  },
  {
   "cell_type": "code",
   "execution_count": 82,
   "metadata": {},
   "outputs": [
    {
     "name": "stdout",
     "output_type": "stream",
     "text": [
      "{nan, 'Газ, газобаллонное оборудование', 'Дизель', 'Бензин, газобаллонное оборудование', 'Бензин', 'Дизель, газобаллонное оборудование', 'Гибрид, газобаллонное оборудование', 'Газ', 'Гибрид'}\n",
      "{'электро', 'гибрид', 'бензин', 'дизель', 'газ'}\n"
     ]
    }
   ],
   "source": [
    "categ_diff('fuelType')"
   ]
  },
  {
   "cell_type": "code",
   "execution_count": 90,
   "metadata": {},
   "outputs": [
    {
     "data": {
      "text/plain": [
       "'mileage'"
      ]
     },
     "execution_count": 90,
     "metadata": {},
     "output_type": "execute_result"
    }
   ],
   "source": [
    "'mileage'\n",
    "# привести к типу int в train"
   ]
  },
  {
   "cell_type": "code",
   "execution_count": 87,
   "metadata": {},
   "outputs": [
    {
     "data": {
      "text/plain": [
       "'modelDate'"
      ]
     },
     "execution_count": 87,
     "metadata": {},
     "output_type": "execute_result"
    }
   ],
   "source": [
    "'modelDate'\n",
    "# привести к дате выпуска в train"
   ]
  },
  {
   "cell_type": "code",
   "execution_count": 92,
   "metadata": {},
   "outputs": [
    {
     "data": {
      "text/plain": [
       "'model_name'"
      ]
     },
     "execution_count": 92,
     "metadata": {},
     "output_type": "execute_result"
    }
   ],
   "source": [
    "'model_name'\n",
    "# categ_diff('model_name')\n",
    "# привести к верхнему регистру в train"
   ]
  },
  {
   "cell_type": "code",
   "execution_count": 93,
   "metadata": {},
   "outputs": [
    {
     "name": "stdout",
     "output_type": "stream",
     "text": [
      "{nan}\n",
      "{0}\n"
     ]
    }
   ],
   "source": [
    "categ_diff('numberOfDoors')"
   ]
  },
  {
   "cell_type": "code",
   "execution_count": 69,
   "metadata": {},
   "outputs": [
    {
     "data": {
      "text/plain": [
       "'productionDate'"
      ]
     },
     "execution_count": 69,
     "metadata": {},
     "output_type": "execute_result"
    }
   ],
   "source": [
    "'productionDate'"
   ]
  },
  {
   "cell_type": "code",
   "execution_count": 70,
   "metadata": {},
   "outputs": [
    {
     "data": {
      "text/plain": [
       "'sell_id'"
      ]
     },
     "execution_count": 70,
     "metadata": {},
     "output_type": "execute_result"
    }
   ],
   "source": [
    "'sell_id'"
   ]
  },
  {
   "cell_type": "code",
   "execution_count": 71,
   "metadata": {},
   "outputs": [
    {
     "data": {
      "text/plain": [
       "'vehicleTransmission'"
      ]
     },
     "execution_count": 71,
     "metadata": {},
     "output_type": "execute_result"
    }
   ],
   "source": [
    "'vehicleTransmission'"
   ]
  },
  {
   "cell_type": "code",
   "execution_count": 72,
   "metadata": {},
   "outputs": [
    {
     "data": {
      "text/plain": [
       "'vendor'"
      ]
     },
     "execution_count": 72,
     "metadata": {},
     "output_type": "execute_result"
    }
   ],
   "source": [
    "'vendor'"
   ]
  },
  {
   "cell_type": "code",
   "execution_count": 73,
   "metadata": {},
   "outputs": [
    {
     "data": {
      "text/plain": [
       "'Владельцы'"
      ]
     },
     "execution_count": 73,
     "metadata": {},
     "output_type": "execute_result"
    }
   ],
   "source": [
    "'Владельцы'"
   ]
  },
  {
   "cell_type": "code",
   "execution_count": 74,
   "metadata": {},
   "outputs": [
    {
     "data": {
      "text/plain": [
       "'ПТС'"
      ]
     },
     "execution_count": 74,
     "metadata": {},
     "output_type": "execute_result"
    }
   ],
   "source": [
    "'ПТС'"
   ]
  },
  {
   "cell_type": "code",
   "execution_count": 75,
   "metadata": {},
   "outputs": [
    {
     "data": {
      "text/plain": [
       "'Привод'"
      ]
     },
     "execution_count": 75,
     "metadata": {},
     "output_type": "execute_result"
    }
   ],
   "source": [
    "'Привод'"
   ]
  },
  {
   "cell_type": "code",
   "execution_count": 76,
   "metadata": {},
   "outputs": [
    {
     "data": {
      "text/plain": [
       "'Руль'"
      ]
     },
     "execution_count": 76,
     "metadata": {},
     "output_type": "execute_result"
    }
   ],
   "source": [
    "'Руль'"
   ]
  },
  {
   "cell_type": "code",
   "execution_count": 77,
   "metadata": {},
   "outputs": [],
   "source": [
    "def unification_test(df):\n",
    "    \n",
    "    pass\n",
    "    return df"
   ]
  },
  {
   "cell_type": "markdown",
   "metadata": {},
   "source": [
    "## Объединение test и train"
   ]
  },
  {
   "cell_type": "code",
   "execution_count": null,
   "metadata": {},
   "outputs": [],
   "source": []
  },
  {
   "cell_type": "markdown",
   "metadata": {},
   "source": [
    "## EDA test и train"
   ]
  },
  {
   "cell_type": "code",
   "execution_count": null,
   "metadata": {},
   "outputs": [],
   "source": []
  },
  {
   "cell_type": "markdown",
   "metadata": {},
   "source": [
    "## Предобработка"
   ]
  },
  {
   "cell_type": "code",
   "execution_count": null,
   "metadata": {},
   "outputs": [],
   "source": []
  },
  {
   "cell_type": "markdown",
   "metadata": {},
   "source": [
    "## Base-line"
   ]
  },
  {
   "cell_type": "code",
   "execution_count": null,
   "metadata": {},
   "outputs": [],
   "source": []
  },
  {
   "cell_type": "markdown",
   "metadata": {},
   "source": [
    "## Features construction"
   ]
  },
  {
   "cell_type": "code",
   "execution_count": null,
   "metadata": {},
   "outputs": [],
   "source": []
  },
  {
   "cell_type": "markdown",
   "metadata": {},
   "source": [
    "## Отбор признаков"
   ]
  },
  {
   "cell_type": "code",
   "execution_count": null,
   "metadata": {},
   "outputs": [],
   "source": []
  },
  {
   "cell_type": "markdown",
   "metadata": {},
   "source": [
    "## Подбор гиперпараметров"
   ]
  },
  {
   "cell_type": "code",
   "execution_count": null,
   "metadata": {},
   "outputs": [],
   "source": []
  },
  {
   "cell_type": "code",
   "execution_count": null,
   "metadata": {},
   "outputs": [],
   "source": []
  },
  {
   "cell_type": "code",
   "execution_count": null,
   "metadata": {},
   "outputs": [],
   "source": []
  },
  {
   "cell_type": "markdown",
   "metadata": {},
   "source": [
    "## ========================================================"
   ]
  },
  {
   "cell_type": "markdown",
   "metadata": {},
   "source": [
    "# Подвал"
   ]
  },
  {
   "cell_type": "code",
   "execution_count": 78,
   "metadata": {},
   "outputs": [
    {
     "data": {
      "text/plain": [
       "\"tt = df_test.complectation_dict[2]\\nttt = json.loads(tt)\\nttt['available_options']\""
      ]
     },
     "execution_count": 78,
     "metadata": {},
     "output_type": "execute_result"
    }
   ],
   "source": [
    "'''tt = df_test.complectation_dict[2]\n",
    "ttt = json.loads(tt)\n",
    "ttt['available_options']'''"
   ]
  },
  {
   "cell_type": "code",
   "execution_count": 79,
   "metadata": {},
   "outputs": [],
   "source": [
    "'''bodyType', 'brand', 'car_url', 'color',\n",
    "        'engineDisplacement', 'enginePower', 'equipment_dict',\n",
    "       'fuelType', 'mileage', 'modelDate', 'model_name',\n",
    "    'numberOfDoors', 'parsing_unixtime', \n",
    "       'productionDate', 'sell_id', \n",
    "       'vehicleTransmission', 'vendor', 'Владельцы', 'Владение', 'ПТС',\n",
    "       'Привод', 'Руль''';"
   ]
  },
  {
   "cell_type": "code",
   "execution_count": 80,
   "metadata": {},
   "outputs": [],
   "source": [
    "# df_test[df_test.brand == \"AUDI\"].model_name"
   ]
  },
  {
   "cell_type": "code",
   "execution_count": null,
   "metadata": {},
   "outputs": [],
   "source": []
  }
 ],
 "metadata": {
  "kernelspec": {
   "display_name": "Python 3",
   "language": "python",
   "name": "python3"
  },
  "language_info": {
   "codemirror_mode": {
    "name": "ipython",
    "version": 3
   },
   "file_extension": ".py",
   "mimetype": "text/x-python",
   "name": "python",
   "nbconvert_exporter": "python",
   "pygments_lexer": "ipython3",
   "version": "3.6.5"
  }
 },
 "nbformat": 4,
 "nbformat_minor": 2
}
