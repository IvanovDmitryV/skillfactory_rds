{
 "cells": [
  {
   "cell_type": "markdown",
   "metadata": {},
   "source": [
    "# Описание задачи\n",
    "## В задачи пректа входит:\n",
    "- Нахождение данных для обученяи модели: парсинг и/или иные источники;\n",
    "- Предобработка полученных данных\n",
    "- Создание новых признаков с использованием полученных данных;\n",
    "- Отбор признаков;\n",
    "- Отбор моделей;\n",
    "- Обучение и тестирование отобранных моделей на отобранных признаках;\n",
    "- Подбор макропараметров модели на отобранных признаках;\n",
    "- Получение предсказанных моделью значений, подготовка и отправка submission\n",
    "\n",
    "# Импорт библиотек, установка параметров, определение функций\n",
    "## Импорт бибилиотек"
   ]
  },
  {
   "cell_type": "code",
   "execution_count": 1,
   "metadata": {},
   "outputs": [],
   "source": [
    "import pandas as pd\n",
    "import numpy as np\n",
    "import json \n",
    "from datetime import datetime\n",
    "from datetime import date\n",
    "\n",
    "from pprint import pprint\n",
    "\n",
    "import warnings\n",
    "import os"
   ]
  },
  {
   "cell_type": "markdown",
   "metadata": {},
   "source": [
    "## Установка параметров"
   ]
  },
  {
   "cell_type": "code",
   "execution_count": 2,
   "metadata": {},
   "outputs": [
    {
     "name": "stdout",
     "output_type": "stream",
     "text": [
      "Populating the interactive namespace from numpy and matplotlib\n"
     ]
    },
    {
     "name": "stderr",
     "output_type": "stream",
     "text": [
      "C:\\Users\\Samsung\\Anaconda3\\lib\\site-packages\\IPython\\core\\magics\\pylab.py:160: UserWarning: pylab import has clobbered these variables: ['datetime']\n",
      "`%matplotlib` prevents importing * from pylab and numpy\n",
      "  \"\\n`%matplotlib` prevents importing * from pylab and numpy\"\n"
     ]
    }
   ],
   "source": [
    "%pylab inline\n",
    "\n",
    "warnings.filterwarnings(\"ignore\")\n",
    "\n",
    "pd.set_option('display.max_rows', 70)    # выведем больше строк\n",
    "pd.set_option('display.max_columns', 30) # выведем больше колонок\n",
    "\n",
    "# альтернативные пути для kaggle и локальный (НЕ ЗАБЫВАТЬ МЕНЯТЬ!)\n",
    "path = './Project_5_data/'\n",
    "# path = '/kaggle/input/.....'\n",
    "\n",
    "# фиксация randomstate\n",
    "RANDOM_SEED = 42"
   ]
  },
  {
   "cell_type": "markdown",
   "metadata": {},
   "source": [
    "## Определение функций"
   ]
  },
  {
   "cell_type": "code",
   "execution_count": 3,
   "metadata": {},
   "outputs": [],
   "source": [
    "def describe_df(df):\n",
    "    '''\n",
    "    Вывод простой статистки DataFrame\n",
    "    '''\n",
    "    desc = df.describe(include='all',percentiles=[0.5]).drop(index=['mean','std','50%']).T \n",
    "    desc['type'] = [type(x) for x in df.iloc[0]]\n",
    "    desc['NaN_prop'] = round(df.isna().sum()/len(df),3)\n",
    "    desc.unique = df.nunique()\n",
    "    desc.top = df.mode(axis=0).iloc[0]\n",
    "    desc.top = [str(x)[:30] for x in df.mode(axis=0).iloc[0]]\n",
    "\n",
    "    desc.freq = [df[col].value_counts().iloc[0] for col in  df.columns]\n",
    "    \n",
    "    return desc\n",
    "\n",
    "def cat_visualisation():\n",
    "    pass\n",
    "\n",
    "def num_visualisation():\n",
    "    pass"
   ]
  },
  {
   "cell_type": "markdown",
   "metadata": {},
   "source": [
    "# Изучение  валидационных данных \n",
    "\n",
    "Что бы понимать какие признаки нам нужны для обучения модели нам необходимо узнать какие признаки описывают наблюдения, для которых мы должны предсказать целевую переменную.  \n",
    "\n",
    "Поэтому для начала исследуем набор данных эти наблюдения описывающие."
   ]
  },
  {
   "cell_type": "code",
   "execution_count": 4,
   "metadata": {
    "scrolled": false
   },
   "outputs": [],
   "source": [
    "df_test = pd.read_csv(f'{path}test.csv')"
   ]
  },
  {
   "cell_type": "markdown",
   "metadata": {},
   "source": [
    "### Общий обзор"
   ]
  },
  {
   "cell_type": "code",
   "execution_count": 5,
   "metadata": {},
   "outputs": [
    {
     "name": "stdout",
     "output_type": "stream",
     "text": [
      "<class 'pandas.core.frame.DataFrame'>\n",
      "RangeIndex: 34686 entries, 0 to 34685\n",
      "Columns: 32 entries, bodyType to Таможня\n",
      "dtypes: int64(6), object(26)\n",
      "memory usage: 8.5+ MB\n"
     ]
    }
   ],
   "source": [
    "df_test.info(verbose=False)"
   ]
  },
  {
   "cell_type": "code",
   "execution_count": 6,
   "metadata": {},
   "outputs": [
    {
     "data": {
      "text/html": [
       "<div>\n",
       "<style scoped>\n",
       "    .dataframe tbody tr th:only-of-type {\n",
       "        vertical-align: middle;\n",
       "    }\n",
       "\n",
       "    .dataframe tbody tr th {\n",
       "        vertical-align: top;\n",
       "    }\n",
       "\n",
       "    .dataframe thead th {\n",
       "        text-align: right;\n",
       "    }\n",
       "</style>\n",
       "<table border=\"1\" class=\"dataframe\">\n",
       "  <thead>\n",
       "    <tr style=\"text-align: right;\">\n",
       "      <th></th>\n",
       "      <th>count</th>\n",
       "      <th>unique</th>\n",
       "      <th>top</th>\n",
       "      <th>freq</th>\n",
       "      <th>min</th>\n",
       "      <th>max</th>\n",
       "      <th>type</th>\n",
       "      <th>NaN_prop</th>\n",
       "    </tr>\n",
       "  </thead>\n",
       "  <tbody>\n",
       "    <tr>\n",
       "      <th>bodyType</th>\n",
       "      <td>34686</td>\n",
       "      <td>24</td>\n",
       "      <td>седан</td>\n",
       "      <td>13147</td>\n",
       "      <td>NaN</td>\n",
       "      <td>NaN</td>\n",
       "      <td>&lt;class 'str'&gt;</td>\n",
       "      <td>0.000</td>\n",
       "    </tr>\n",
       "    <tr>\n",
       "      <th>brand</th>\n",
       "      <td>34686</td>\n",
       "      <td>12</td>\n",
       "      <td>BMW</td>\n",
       "      <td>4473</td>\n",
       "      <td>NaN</td>\n",
       "      <td>NaN</td>\n",
       "      <td>&lt;class 'str'&gt;</td>\n",
       "      <td>0.000</td>\n",
       "    </tr>\n",
       "    <tr>\n",
       "      <th>car_url</th>\n",
       "      <td>34686</td>\n",
       "      <td>34686</td>\n",
       "      <td>https://auto.ru/cars/used/sale</td>\n",
       "      <td>1</td>\n",
       "      <td>NaN</td>\n",
       "      <td>NaN</td>\n",
       "      <td>&lt;class 'str'&gt;</td>\n",
       "      <td>0.000</td>\n",
       "    </tr>\n",
       "    <tr>\n",
       "      <th>color</th>\n",
       "      <td>34686</td>\n",
       "      <td>16</td>\n",
       "      <td>чёрный</td>\n",
       "      <td>11010</td>\n",
       "      <td>NaN</td>\n",
       "      <td>NaN</td>\n",
       "      <td>&lt;class 'str'&gt;</td>\n",
       "      <td>0.000</td>\n",
       "    </tr>\n",
       "    <tr>\n",
       "      <th>complectation_dict</th>\n",
       "      <td>6418</td>\n",
       "      <td>2364</td>\n",
       "      <td>{\"id\":\"4562904\",\"name\":\"Elegan</td>\n",
       "      <td>51</td>\n",
       "      <td>NaN</td>\n",
       "      <td>NaN</td>\n",
       "      <td>&lt;class 'float'&gt;</td>\n",
       "      <td>0.815</td>\n",
       "    </tr>\n",
       "    <tr>\n",
       "      <th>description</th>\n",
       "      <td>34686</td>\n",
       "      <td>31732</td>\n",
       "      <td>Выгода до 82 000 руб. при обме</td>\n",
       "      <td>264</td>\n",
       "      <td>NaN</td>\n",
       "      <td>NaN</td>\n",
       "      <td>&lt;class 'str'&gt;</td>\n",
       "      <td>0.000</td>\n",
       "    </tr>\n",
       "    <tr>\n",
       "      <th>engineDisplacement</th>\n",
       "      <td>34686</td>\n",
       "      <td>55</td>\n",
       "      <td>2.0 LTR</td>\n",
       "      <td>7391</td>\n",
       "      <td>NaN</td>\n",
       "      <td>NaN</td>\n",
       "      <td>&lt;class 'str'&gt;</td>\n",
       "      <td>0.000</td>\n",
       "    </tr>\n",
       "    <tr>\n",
       "      <th>enginePower</th>\n",
       "      <td>34686</td>\n",
       "      <td>315</td>\n",
       "      <td>249 N12</td>\n",
       "      <td>1708</td>\n",
       "      <td>NaN</td>\n",
       "      <td>NaN</td>\n",
       "      <td>&lt;class 'str'&gt;</td>\n",
       "      <td>0.000</td>\n",
       "    </tr>\n",
       "    <tr>\n",
       "      <th>equipment_dict</th>\n",
       "      <td>24690</td>\n",
       "      <td>23705</td>\n",
       "      <td>{\"leather\":true}</td>\n",
       "      <td>108</td>\n",
       "      <td>NaN</td>\n",
       "      <td>NaN</td>\n",
       "      <td>&lt;class 'str'&gt;</td>\n",
       "      <td>0.288</td>\n",
       "    </tr>\n",
       "    <tr>\n",
       "      <th>fuelType</th>\n",
       "      <td>34686</td>\n",
       "      <td>5</td>\n",
       "      <td>бензин</td>\n",
       "      <td>28601</td>\n",
       "      <td>NaN</td>\n",
       "      <td>NaN</td>\n",
       "      <td>&lt;class 'str'&gt;</td>\n",
       "      <td>0.000</td>\n",
       "    </tr>\n",
       "    <tr>\n",
       "      <th>image</th>\n",
       "      <td>34686</td>\n",
       "      <td>34557</td>\n",
       "      <td>https://avatars.mds.yandex.net</td>\n",
       "      <td>13</td>\n",
       "      <td>NaN</td>\n",
       "      <td>NaN</td>\n",
       "      <td>&lt;class 'str'&gt;</td>\n",
       "      <td>0.000</td>\n",
       "    </tr>\n",
       "    <tr>\n",
       "      <th>mileage</th>\n",
       "      <td>34686</td>\n",
       "      <td>11268</td>\n",
       "      <td>200000.0</td>\n",
       "      <td>436</td>\n",
       "      <td>1</td>\n",
       "      <td>1e+06</td>\n",
       "      <td>&lt;class 'numpy.int64'&gt;</td>\n",
       "      <td>0.000</td>\n",
       "    </tr>\n",
       "    <tr>\n",
       "      <th>modelDate</th>\n",
       "      <td>34686</td>\n",
       "      <td>66</td>\n",
       "      <td>2010.0</td>\n",
       "      <td>2503</td>\n",
       "      <td>1904</td>\n",
       "      <td>2020</td>\n",
       "      <td>&lt;class 'numpy.int64'&gt;</td>\n",
       "      <td>0.000</td>\n",
       "    </tr>\n",
       "    <tr>\n",
       "      <th>model_info</th>\n",
       "      <td>34686</td>\n",
       "      <td>954</td>\n",
       "      <td>{\"code\":\"OCTAVIA\",\"name\":\"Octa</td>\n",
       "      <td>1404</td>\n",
       "      <td>NaN</td>\n",
       "      <td>NaN</td>\n",
       "      <td>&lt;class 'str'&gt;</td>\n",
       "      <td>0.000</td>\n",
       "    </tr>\n",
       "    <tr>\n",
       "      <th>model_name</th>\n",
       "      <td>34686</td>\n",
       "      <td>544</td>\n",
       "      <td>OCTAVIA</td>\n",
       "      <td>1418</td>\n",
       "      <td>NaN</td>\n",
       "      <td>NaN</td>\n",
       "      <td>&lt;class 'str'&gt;</td>\n",
       "      <td>0.000</td>\n",
       "    </tr>\n",
       "    <tr>\n",
       "      <th>name</th>\n",
       "      <td>34686</td>\n",
       "      <td>2780</td>\n",
       "      <td>1.6 AT (110 л.с.)</td>\n",
       "      <td>631</td>\n",
       "      <td>NaN</td>\n",
       "      <td>NaN</td>\n",
       "      <td>&lt;class 'str'&gt;</td>\n",
       "      <td>0.000</td>\n",
       "    </tr>\n",
       "    <tr>\n",
       "      <th>numberOfDoors</th>\n",
       "      <td>34686</td>\n",
       "      <td>5</td>\n",
       "      <td>5.0</td>\n",
       "      <td>18703</td>\n",
       "      <td>0</td>\n",
       "      <td>5</td>\n",
       "      <td>&lt;class 'numpy.int64'&gt;</td>\n",
       "      <td>0.000</td>\n",
       "    </tr>\n",
       "    <tr>\n",
       "      <th>parsing_unixtime</th>\n",
       "      <td>34686</td>\n",
       "      <td>34686</td>\n",
       "      <td>1603107306</td>\n",
       "      <td>1</td>\n",
       "      <td>1.60311e+09</td>\n",
       "      <td>1.60371e+09</td>\n",
       "      <td>&lt;class 'numpy.int64'&gt;</td>\n",
       "      <td>0.000</td>\n",
       "    </tr>\n",
       "    <tr>\n",
       "      <th>priceCurrency</th>\n",
       "      <td>34686</td>\n",
       "      <td>1</td>\n",
       "      <td>RUB</td>\n",
       "      <td>34686</td>\n",
       "      <td>NaN</td>\n",
       "      <td>NaN</td>\n",
       "      <td>&lt;class 'str'&gt;</td>\n",
       "      <td>0.000</td>\n",
       "    </tr>\n",
       "    <tr>\n",
       "      <th>productionDate</th>\n",
       "      <td>34686</td>\n",
       "      <td>69</td>\n",
       "      <td>2012.0</td>\n",
       "      <td>2798</td>\n",
       "      <td>1904</td>\n",
       "      <td>2020</td>\n",
       "      <td>&lt;class 'numpy.int64'&gt;</td>\n",
       "      <td>0.000</td>\n",
       "    </tr>\n",
       "    <tr>\n",
       "      <th>sell_id</th>\n",
       "      <td>34686</td>\n",
       "      <td>34686</td>\n",
       "      <td>2665</td>\n",
       "      <td>1</td>\n",
       "      <td>2665</td>\n",
       "      <td>1.10137e+09</td>\n",
       "      <td>&lt;class 'numpy.int64'&gt;</td>\n",
       "      <td>0.000</td>\n",
       "    </tr>\n",
       "    <tr>\n",
       "      <th>super_gen</th>\n",
       "      <td>34686</td>\n",
       "      <td>5890</td>\n",
       "      <td>{\"id\":\"6214876\",\"displacement\"</td>\n",
       "      <td>193</td>\n",
       "      <td>NaN</td>\n",
       "      <td>NaN</td>\n",
       "      <td>&lt;class 'str'&gt;</td>\n",
       "      <td>0.000</td>\n",
       "    </tr>\n",
       "    <tr>\n",
       "      <th>vehicleConfiguration</th>\n",
       "      <td>34686</td>\n",
       "      <td>634</td>\n",
       "      <td>ALLROAD_5_DOORS AUTOMATIC 3.0</td>\n",
       "      <td>2389</td>\n",
       "      <td>NaN</td>\n",
       "      <td>NaN</td>\n",
       "      <td>&lt;class 'str'&gt;</td>\n",
       "      <td>0.000</td>\n",
       "    </tr>\n",
       "    <tr>\n",
       "      <th>vehicleTransmission</th>\n",
       "      <td>34686</td>\n",
       "      <td>4</td>\n",
       "      <td>автоматическая</td>\n",
       "      <td>19596</td>\n",
       "      <td>NaN</td>\n",
       "      <td>NaN</td>\n",
       "      <td>&lt;class 'str'&gt;</td>\n",
       "      <td>0.000</td>\n",
       "    </tr>\n",
       "    <tr>\n",
       "      <th>vendor</th>\n",
       "      <td>34686</td>\n",
       "      <td>2</td>\n",
       "      <td>EUROPEAN</td>\n",
       "      <td>20682</td>\n",
       "      <td>NaN</td>\n",
       "      <td>NaN</td>\n",
       "      <td>&lt;class 'str'&gt;</td>\n",
       "      <td>0.000</td>\n",
       "    </tr>\n",
       "    <tr>\n",
       "      <th>Владельцы</th>\n",
       "      <td>34686</td>\n",
       "      <td>3</td>\n",
       "      <td>3 или более</td>\n",
       "      <td>15957</td>\n",
       "      <td>NaN</td>\n",
       "      <td>NaN</td>\n",
       "      <td>&lt;class 'str'&gt;</td>\n",
       "      <td>0.000</td>\n",
       "    </tr>\n",
       "    <tr>\n",
       "      <th>Владение</th>\n",
       "      <td>11995</td>\n",
       "      <td>275</td>\n",
       "      <td>1 год и 10 месяцев</td>\n",
       "      <td>209</td>\n",
       "      <td>NaN</td>\n",
       "      <td>NaN</td>\n",
       "      <td>&lt;class 'float'&gt;</td>\n",
       "      <td>0.654</td>\n",
       "    </tr>\n",
       "    <tr>\n",
       "      <th>ПТС</th>\n",
       "      <td>34685</td>\n",
       "      <td>2</td>\n",
       "      <td>Оригинал</td>\n",
       "      <td>30098</td>\n",
       "      <td>NaN</td>\n",
       "      <td>NaN</td>\n",
       "      <td>&lt;class 'str'&gt;</td>\n",
       "      <td>0.000</td>\n",
       "    </tr>\n",
       "    <tr>\n",
       "      <th>Привод</th>\n",
       "      <td>34686</td>\n",
       "      <td>3</td>\n",
       "      <td>передний</td>\n",
       "      <td>15565</td>\n",
       "      <td>NaN</td>\n",
       "      <td>NaN</td>\n",
       "      <td>&lt;class 'str'&gt;</td>\n",
       "      <td>0.000</td>\n",
       "    </tr>\n",
       "    <tr>\n",
       "      <th>Руль</th>\n",
       "      <td>34686</td>\n",
       "      <td>2</td>\n",
       "      <td>Левый</td>\n",
       "      <td>33287</td>\n",
       "      <td>NaN</td>\n",
       "      <td>NaN</td>\n",
       "      <td>&lt;class 'str'&gt;</td>\n",
       "      <td>0.000</td>\n",
       "    </tr>\n",
       "    <tr>\n",
       "      <th>Состояние</th>\n",
       "      <td>34686</td>\n",
       "      <td>1</td>\n",
       "      <td>Не требует ремонта</td>\n",
       "      <td>34686</td>\n",
       "      <td>NaN</td>\n",
       "      <td>NaN</td>\n",
       "      <td>&lt;class 'str'&gt;</td>\n",
       "      <td>0.000</td>\n",
       "    </tr>\n",
       "    <tr>\n",
       "      <th>Таможня</th>\n",
       "      <td>34686</td>\n",
       "      <td>1</td>\n",
       "      <td>Растаможен</td>\n",
       "      <td>34686</td>\n",
       "      <td>NaN</td>\n",
       "      <td>NaN</td>\n",
       "      <td>&lt;class 'str'&gt;</td>\n",
       "      <td>0.000</td>\n",
       "    </tr>\n",
       "  </tbody>\n",
       "</table>\n",
       "</div>"
      ],
      "text/plain": [
       "                      count  unique                             top   freq  \\\n",
       "bodyType              34686      24                           седан  13147   \n",
       "brand                 34686      12                             BMW   4473   \n",
       "car_url               34686   34686  https://auto.ru/cars/used/sale      1   \n",
       "color                 34686      16                          чёрный  11010   \n",
       "complectation_dict     6418    2364  {\"id\":\"4562904\",\"name\":\"Elegan     51   \n",
       "description           34686   31732  Выгода до 82 000 руб. при обме    264   \n",
       "engineDisplacement    34686      55                         2.0 LTR   7391   \n",
       "enginePower           34686     315                         249 N12   1708   \n",
       "equipment_dict        24690   23705                {\"leather\":true}    108   \n",
       "fuelType              34686       5                          бензин  28601   \n",
       "image                 34686   34557  https://avatars.mds.yandex.net     13   \n",
       "mileage               34686   11268                        200000.0    436   \n",
       "modelDate             34686      66                          2010.0   2503   \n",
       "model_info            34686     954  {\"code\":\"OCTAVIA\",\"name\":\"Octa   1404   \n",
       "model_name            34686     544                         OCTAVIA   1418   \n",
       "name                  34686    2780               1.6 AT (110 л.с.)    631   \n",
       "numberOfDoors         34686       5                             5.0  18703   \n",
       "parsing_unixtime      34686   34686                      1603107306      1   \n",
       "priceCurrency         34686       1                             RUB  34686   \n",
       "productionDate        34686      69                          2012.0   2798   \n",
       "sell_id               34686   34686                            2665      1   \n",
       "super_gen             34686    5890  {\"id\":\"6214876\",\"displacement\"    193   \n",
       "vehicleConfiguration  34686     634   ALLROAD_5_DOORS AUTOMATIC 3.0   2389   \n",
       "vehicleTransmission   34686       4                  автоматическая  19596   \n",
       "vendor                34686       2                        EUROPEAN  20682   \n",
       "Владельцы             34686       3                     3 или более  15957   \n",
       "Владение              11995     275              1 год и 10 месяцев    209   \n",
       "ПТС                   34685       2                        Оригинал  30098   \n",
       "Привод                34686       3                        передний  15565   \n",
       "Руль                  34686       2                           Левый  33287   \n",
       "Состояние             34686       1              Не требует ремонта  34686   \n",
       "Таможня               34686       1                      Растаможен  34686   \n",
       "\n",
       "                              min          max                   type  \\\n",
       "bodyType                      NaN          NaN          <class 'str'>   \n",
       "brand                         NaN          NaN          <class 'str'>   \n",
       "car_url                       NaN          NaN          <class 'str'>   \n",
       "color                         NaN          NaN          <class 'str'>   \n",
       "complectation_dict            NaN          NaN        <class 'float'>   \n",
       "description                   NaN          NaN          <class 'str'>   \n",
       "engineDisplacement            NaN          NaN          <class 'str'>   \n",
       "enginePower                   NaN          NaN          <class 'str'>   \n",
       "equipment_dict                NaN          NaN          <class 'str'>   \n",
       "fuelType                      NaN          NaN          <class 'str'>   \n",
       "image                         NaN          NaN          <class 'str'>   \n",
       "mileage                         1        1e+06  <class 'numpy.int64'>   \n",
       "modelDate                    1904         2020  <class 'numpy.int64'>   \n",
       "model_info                    NaN          NaN          <class 'str'>   \n",
       "model_name                    NaN          NaN          <class 'str'>   \n",
       "name                          NaN          NaN          <class 'str'>   \n",
       "numberOfDoors                   0            5  <class 'numpy.int64'>   \n",
       "parsing_unixtime      1.60311e+09  1.60371e+09  <class 'numpy.int64'>   \n",
       "priceCurrency                 NaN          NaN          <class 'str'>   \n",
       "productionDate               1904         2020  <class 'numpy.int64'>   \n",
       "sell_id                      2665  1.10137e+09  <class 'numpy.int64'>   \n",
       "super_gen                     NaN          NaN          <class 'str'>   \n",
       "vehicleConfiguration          NaN          NaN          <class 'str'>   \n",
       "vehicleTransmission           NaN          NaN          <class 'str'>   \n",
       "vendor                        NaN          NaN          <class 'str'>   \n",
       "Владельцы                     NaN          NaN          <class 'str'>   \n",
       "Владение                      NaN          NaN        <class 'float'>   \n",
       "ПТС                           NaN          NaN          <class 'str'>   \n",
       "Привод                        NaN          NaN          <class 'str'>   \n",
       "Руль                          NaN          NaN          <class 'str'>   \n",
       "Состояние                     NaN          NaN          <class 'str'>   \n",
       "Таможня                       NaN          NaN          <class 'str'>   \n",
       "\n",
       "                      NaN_prop  \n",
       "bodyType                 0.000  \n",
       "brand                    0.000  \n",
       "car_url                  0.000  \n",
       "color                    0.000  \n",
       "complectation_dict       0.815  \n",
       "description              0.000  \n",
       "engineDisplacement       0.000  \n",
       "enginePower              0.000  \n",
       "equipment_dict           0.288  \n",
       "fuelType                 0.000  \n",
       "image                    0.000  \n",
       "mileage                  0.000  \n",
       "modelDate                0.000  \n",
       "model_info               0.000  \n",
       "model_name               0.000  \n",
       "name                     0.000  \n",
       "numberOfDoors            0.000  \n",
       "parsing_unixtime         0.000  \n",
       "priceCurrency            0.000  \n",
       "productionDate           0.000  \n",
       "sell_id                  0.000  \n",
       "super_gen                0.000  \n",
       "vehicleConfiguration     0.000  \n",
       "vehicleTransmission      0.000  \n",
       "vendor                   0.000  \n",
       "Владельцы                0.000  \n",
       "Владение                 0.654  \n",
       "ПТС                      0.000  \n",
       "Привод                   0.000  \n",
       "Руль                     0.000  \n",
       "Состояние                0.000  \n",
       "Таможня                  0.000  "
      ]
     },
     "execution_count": 6,
     "metadata": {},
     "output_type": "execute_result"
    }
   ],
   "source": [
    "describe_df(df_test)"
   ]
  },
  {
   "cell_type": "markdown",
   "metadata": {},
   "source": [
    "Всего в исходном валидационном датасете 32 колонки с разными типами данных (6 int, 26 object) и разыми типами признаков:   \n",
    "-бинарные (в колонках `vendor`, `ПТС`, `Руль`);   \n",
    "-категориальные (например в колонках `bodyType`, `brand`, `color`, `Владельцы`);  \n",
    "-количественные (например в `enginePower` или `mileage`).  \n",
    "\n",
    "Некоторын колонки содержат словари или длинные строки, содержащие сразу несколько признаков. \n",
    "\n",
    "Колонка `brand` содержит 12 уникальных значений. Это позволяет нам существенно сократить обьем работы по парсингу, ведь релевантными будут только данные по этим 12 брендам, поэтому только по ним и будем собирать информацию.\n",
    "\n",
    "Колонка `car_url` содержит ссылки на обьявления о продаже авто на сайте ***auto.ru***, что как бы намекает, что валидационный набор спарсен с сайта ***auto.ru***. Воспользуемся этим же источником.\n",
    "\n",
    "Три колонки  `priceCurrency`, `Состояние` и `Таможня` содержат только одно уникальное хначение, они ненесут никакой информации, поэтому исключим их из рассмотрения.  \n",
    "  \n",
    "Теперь следует ознакомиться с  каждым признак/колонку более детально. Это позволит нам понять в каком виде/формате содержится информация в колонках и соответсвенно сформировать набор данных для обучения в том же виде/формате. Так же детальное ознакомлене позволит окончательно определится с необходимость включения информации из колонок в рассмотрение моделью. В случае включения данных в рассмотрение моделью, провеем EDA. "
   ]
  },
  {
   "cell_type": "markdown",
   "metadata": {},
   "source": [
    "### Детальное ознакомление\n",
    "### bodyType"
   ]
  },
  {
   "cell_type": "code",
   "execution_count": 7,
   "metadata": {},
   "outputs": [
    {
     "data": {
      "text/plain": [
       "33133    внедорожник 5 дв.\n",
       "9118                 седан\n",
       "15280    внедорожник 5 дв.\n",
       "Name: bodyType, dtype: object"
      ]
     },
     "execution_count": 7,
     "metadata": {},
     "output_type": "execute_result"
    }
   ],
   "source": [
    "df_test.bodyType.sample(3)"
   ]
  },
  {
   "cell_type": "code",
   "execution_count": 8,
   "metadata": {},
   "outputs": [
    {
     "data": {
      "text/plain": [
       "array(['лифтбек', 'внедорожник 5 дв.', 'хэтчбек 5 дв.', 'седан',\n",
       "       'компактвэн', 'универсал 5 дв.', 'пикап одинарная кабина',\n",
       "       'хэтчбек 3 дв.', 'купе', 'кабриолет', 'минивэн',\n",
       "       'пикап двойная кабина', 'внедорожник 3 дв.', 'родстер', 'микровэн',\n",
       "       'седан 2 дв.', 'купе-хардтоп', 'фастбек', 'тарга',\n",
       "       'внедорожник открытый', 'лимузин', 'пикап полуторная кабина',\n",
       "       'седан-хардтоп', 'фургон'], dtype=object)"
      ]
     },
     "execution_count": 8,
     "metadata": {},
     "output_type": "execute_result"
    }
   ],
   "source": [
    "df_test.bodyType.unique()"
   ]
  },
  {
   "cell_type": "markdown",
   "metadata": {},
   "source": [
    "Колонка содержит наименование типа кузова в виде строковой величины. Принимается в пассмоттение. "
   ]
  },
  {
   "cell_type": "markdown",
   "metadata": {},
   "source": [
    "### brand"
   ]
  },
  {
   "cell_type": "code",
   "execution_count": 9,
   "metadata": {},
   "outputs": [
    {
     "data": {
      "text/plain": [
       "5337          HONDA\n",
       "18854      MERCEDES\n",
       "24696    VOLKSWAGEN\n",
       "Name: brand, dtype: object"
      ]
     },
     "execution_count": 9,
     "metadata": {},
     "output_type": "execute_result"
    }
   ],
   "source": [
    "df_test.brand.sample(3)"
   ]
  },
  {
   "cell_type": "code",
   "execution_count": 10,
   "metadata": {},
   "outputs": [
    {
     "data": {
      "text/plain": [
       "array(['SKODA', 'AUDI', 'HONDA', 'VOLVO', 'BMW', 'NISSAN', 'INFINITI',\n",
       "       'MERCEDES', 'TOYOTA', 'LEXUS', 'VOLKSWAGEN', 'MITSUBISHI'],\n",
       "      dtype=object)"
      ]
     },
     "execution_count": 10,
     "metadata": {},
     "output_type": "execute_result"
    }
   ],
   "source": [
    "df_test.brand.unique()"
   ]
  },
  {
   "cell_type": "markdown",
   "metadata": {},
   "source": [
    "Колонка содержит наименование марки в виде строковой величины. Принимается в рассмотрение."
   ]
  },
  {
   "cell_type": "markdown",
   "metadata": {},
   "source": [
    "### car_url"
   ]
  },
  {
   "cell_type": "code",
   "execution_count": 11,
   "metadata": {},
   "outputs": [
    {
     "data": {
      "text/plain": [
       "15544    https://auto.ru/cars/used/sale/mercedes/glc_kl...\n",
       "30390    https://auto.ru/cars/used/sale/volkswagen/tigu...\n",
       "13082    https://auto.ru/cars/used/sale/nissan/x_trail/...\n",
       "9116     https://auto.ru/cars/used/sale/bmw/3er/1084491...\n",
       "4242     https://auto.ru/cars/used/sale/audi/a5/1101168...\n",
       "Name: car_url, dtype: object"
      ]
     },
     "execution_count": 11,
     "metadata": {},
     "output_type": "execute_result"
    }
   ],
   "source": [
    "df_test.car_url.sample(5)"
   ]
  },
  {
   "cell_type": "markdown",
   "metadata": {},
   "source": [
    "В этой колонке содержаться ссылки на обьявления о продаже, послужившие источником при парсинге `test`. В настоящий момент скорее всего ссылки уже не активны, потому колокна будет исключена из рассмотрения моделью. Но нформация в ней содержащаяся позволит нам проверить не попадают ли в тренировочный набор данных наблюдения из валидационного. "
   ]
  },
  {
   "cell_type": "markdown",
   "metadata": {},
   "source": [
    "### color"
   ]
  },
  {
   "cell_type": "code",
   "execution_count": 12,
   "metadata": {},
   "outputs": [
    {
     "data": {
      "text/plain": [
       "33416    чёрный\n",
       "26508     белый\n",
       "6276      белый\n",
       "Name: color, dtype: object"
      ]
     },
     "execution_count": 12,
     "metadata": {},
     "output_type": "execute_result"
    }
   ],
   "source": [
    "df_test.color.sample(3)"
   ]
  },
  {
   "cell_type": "code",
   "execution_count": 13,
   "metadata": {},
   "outputs": [
    {
     "data": {
      "text/plain": [
       "array(['синий', 'чёрный', 'серый', 'коричневый', 'белый', 'пурпурный',\n",
       "       'бежевый', 'серебристый', 'красный', 'зелёный', 'жёлтый',\n",
       "       'голубой', 'оранжевый', 'фиолетовый', 'золотистый', 'розовый'],\n",
       "      dtype=object)"
      ]
     },
     "execution_count": 13,
     "metadata": {},
     "output_type": "execute_result"
    }
   ],
   "source": [
    "df_test.color.unique()"
   ]
  },
  {
   "cell_type": "markdown",
   "metadata": {},
   "source": [
    "Колонка содержит название цвета кузова, принимется в рассмотрение. "
   ]
  },
  {
   "cell_type": "markdown",
   "metadata": {},
   "source": [
    "### complectation_dict"
   ]
  },
  {
   "cell_type": "code",
   "execution_count": 14,
   "metadata": {},
   "outputs": [
    {
     "data": {
      "text/plain": [
       "0                                                  NaN\n",
       "1                                                  NaN\n",
       "2    {\"id\":\"20026336\",\"name\":\"Ambition\",\"available_...\n",
       "Name: complectation_dict, dtype: object"
      ]
     },
     "execution_count": 14,
     "metadata": {},
     "output_type": "execute_result"
    }
   ],
   "source": [
    "df_test.complectation_dict.head(3)"
   ]
  },
  {
   "cell_type": "code",
   "execution_count": 15,
   "metadata": {},
   "outputs": [
    {
     "data": {
      "text/plain": [
       "'{\"id\":\"20026336\",\"name\":\"Ambition\",\"available_options\":[\"heated-wash-system\",\"airbag-passenger\",\"lock\",\"door-sill-panel\",\"electro-mirrors\",\"mirrors-heat\",\"cooling-box\",\"computer\",\"seat-transformation\",\"wheel-power\",\"fabric-seats\",\"airbag-side\",\"abs\",\"wheel-leather\",\"climate-control-1\",\"esp\",\"adaptive-light\",\"audiopreparation\",\"ashtray-and-cigarette-lighter\",\"front-centre-armrest\",\"electro-window-back\",\"16-inch-wheels\",\"body-mouldings\",\"condition\",\"airbag-driver\",\"isofix\",\"aux\",\"electro-window-front\",\"light-sensor\",\"hcc\",\"ptf\",\"rain-sensor\",\"tyre-pressure\",\"audiosystem-cd\",\"front-seats-heat\",\"wheel-configuration2\",\"wheel-configuration1\",\"immo\",\"12v-socket\",\"third-rear-headrest\"]}'"
      ]
     },
     "execution_count": 15,
     "metadata": {},
     "output_type": "execute_result"
    }
   ],
   "source": [
    "df_test.complectation_dict.loc[2]"
   ]
  },
  {
   "cell_type": "markdown",
   "metadata": {},
   "source": [
    "Колонка содержит словарь стандартной комплектации с наименованием комплектации и списком обрудования (зачастую стандартного, имеющегося в любом автомобиле, например \"12v-socket\" или \"lock\") входящим в такую комплектацию. Доля пррпусков (свыше 0.8), перечисление оборудования присутсвуюшегов любом авто данной марки и модели и наличие колонки `equipment_dict` с гораздо меньшим количеством пропусков позволяет исключить колонку из рассмотрения."
   ]
  },
  {
   "cell_type": "markdown",
   "metadata": {},
   "source": [
    "### description"
   ]
  },
  {
   "cell_type": "code",
   "execution_count": 16,
   "metadata": {},
   "outputs": [
    {
     "name": "stdout",
     "output_type": "stream",
     "text": [
      "Все автомобили, представленные в продаже, проходят тщательную проверку по более 40 параметрам. Предоставляем гарантию юридической чистоты, а так же год технической гарантии на двигатель и КПП. Бесплатный тест-драйв. Возможно оформление автомобиля в кредит!\n",
      "\n",
      "Преимущества автокредитования:\n",
      "— Первоначальный взнос от 0%;\n",
      "— Более 30 кредитных программ;\n",
      "— Процентная ставка от 6% годовых;\n",
      "— Срок кредита от 6 месяцев до 7 лет;\n",
      "— Оформление кредита по двум документам;\n",
      "— Досрочное погашение без штрафов и комиссий;\n",
      "— Сумма кредита до 2 млн рублей;\n",
      "— Оформление КАСКО – по желанию;\n",
      "— Без справок и поручителей.\n",
      "\n",
      "Сотрудничаем с 12 аккредитованными и сертифицированными банками РФ, среднее время ожидания решения банка 20–30 минут.\n",
      "\n",
      "При покупке автомобиля по программе «Trade-in – выгодный обмен» или в кредит, получите дополнительную скидку до 80 000 рублей на данный автомобиль!\n",
      "\n",
      "Записаться на тест-драйв, а так же получить подробную информацию можно у специалистов автоцентра по указанному номеру телефона.\n"
     ]
    }
   ],
   "source": [
    "print(df_test.description[0])"
   ]
  },
  {
   "cell_type": "markdown",
   "metadata": {},
   "source": [
    "В колонке содержится текст, относящийся скорее к продавцу, чем к конкретному автомобилю. Поэтому на данном этапе ( и вероятно вообще) колонка исключается из рассмотрения."
   ]
  },
  {
   "cell_type": "markdown",
   "metadata": {},
   "source": [
    "### engineDisplacement"
   ]
  },
  {
   "cell_type": "code",
   "execution_count": 17,
   "metadata": {},
   "outputs": [
    {
     "data": {
      "text/plain": [
       "array(['1.2 LTR', '1.6 LTR', '1.8 LTR', '2.0 LTR', '1.4 LTR', '1.3 LTR',\n",
       "       '1.0 LTR', '3.6 LTR', '1.5 LTR', '1.9 LTR', '2.8 LTR', '1.1 LTR',\n",
       "       '2.5 LTR', '4.2 LTR', '3.0 LTR', '4.0 LTR', '5.9 LTR', '2.7 LTR',\n",
       "       '3.1 LTR', '2.4 LTR', '5.2 LTR', '3.2 LTR', '4.1 LTR', '6.3 LTR',\n",
       "       '2.3 LTR', '6.0 LTR', '2.2 LTR', '3.7 LTR', '2.9 LTR', '5.0 LTR',\n",
       "       '3.3 LTR', '2.1 LTR', '2.6 LTR', ' LTR', '3.5 LTR', '1.7 LTR',\n",
       "       '0.7 LTR', '4.4 LTR', '4.8 LTR', '5.4 LTR', '6.6 LTR', '4.9 LTR',\n",
       "       '3.8 LTR', '3.4 LTR', '3.9 LTR', '4.6 LTR', '5.6 LTR', '4.5 LTR',\n",
       "       '5.5 LTR', '6.2 LTR', '4.7 LTR', '4.3 LTR', '5.8 LTR', '5.3 LTR',\n",
       "       '5.7 LTR'], dtype=object)"
      ]
     },
     "execution_count": 17,
     "metadata": {},
     "output_type": "execute_result"
    }
   ],
   "source": [
    "df_test.engineDisplacement.unique()"
   ]
  },
  {
   "cell_type": "code",
   "execution_count": 18,
   "metadata": {},
   "outputs": [
    {
     "data": {
      "text/plain": [
       "55"
      ]
     },
     "execution_count": 18,
     "metadata": {},
     "output_type": "execute_result"
    }
   ],
   "source": [
    "df_test.engineDisplacement.value_counts()[' LTR']"
   ]
  },
  {
   "cell_type": "markdown",
   "metadata": {},
   "source": [
    "Колонка содержит обьем двигателя, принимется в рассмотрение. Следует отметить наличие скрытых пропусков (55 стрк `' LTR'`)"
   ]
  },
  {
   "cell_type": "markdown",
   "metadata": {},
   "source": [
    "### enginePower"
   ]
  },
  {
   "cell_type": "code",
   "execution_count": 19,
   "metadata": {},
   "outputs": [
    {
     "data": {
      "text/plain": [
       "array(['105 N12', '110 N12', '152 N12', '200 N12', '102 N12', '150 N12',\n",
       "       '90 N12', '180 N12', '220 N12', '122 N12', '70 N12', '140 N12',\n",
       "       '125 N12', '54 N12', '86 N12', '75 N12', '64 N12', '95 N12',\n",
       "       '260 N12', '170 N12', '80 N12', '68 N12', '160 N12', '115 N12',\n",
       "       '280 N12', '53 N12', '60 N12', '143 N12', '42 N12', '101 N12',\n",
       "       '58 N12', '193 N12', '79 N12', '30 N12', '100 N12', '50 N12',\n",
       "       '163 N12', '225 N12', '420 N12', '211 N12', '245 N12', '560 N12',\n",
       "       '500 N12', '249 N12', '450 N12', '605 N12', '250 N12', '354 N12',\n",
       "       '120 N12', '290 N12', '230 N12', '350 N12', '204 N12', '255 N12',\n",
       "       '340 N12', '177 N12', '272 N12', '372 N12', '210 N12', '130 N12',\n",
       "       '300 N12', '190 N12', '239 N12', '435 N12', '333 N12', '271 N12',\n",
       "       '326 N12', '238 N12', '310 N12', '233 N12', '252 N12', '133 N12',\n",
       "       '460 N12', '520 N12', '400 N12', '525 N12', '367 N12', '265 N12',\n",
       "       '550 N12', '580 N12', '88 N12', '165 N12', '430 N12', '335 N12',\n",
       "       '174 N12', '224 N12', '136 N12', '256 N12', '338 N12', '112 N12',\n",
       "       '218 N12', '360 N12', '93 N12', '182 N12', '113 N12', '240 N12',\n",
       "       '270 N12', '137 N12', '155 N12', '61 N12'], dtype=object)"
      ]
     },
     "execution_count": 19,
     "metadata": {},
     "output_type": "execute_result"
    }
   ],
   "source": [
    "df_test.enginePower.unique()[:100]"
   ]
  },
  {
   "cell_type": "markdown",
   "metadata": {},
   "source": [
    "Колонка содержит мощность двигателя, принмается в рассмотрение."
   ]
  },
  {
   "cell_type": "markdown",
   "metadata": {},
   "source": [
    "### equipment_dict"
   ]
  },
  {
   "cell_type": "code",
   "execution_count": 20,
   "metadata": {},
   "outputs": [
    {
     "data": {
      "text/plain": [
       "<method 'keys' of 'dict' objects>"
      ]
     },
     "execution_count": 20,
     "metadata": {},
     "output_type": "execute_result"
    }
   ],
   "source": [
    "dict.keys"
   ]
  },
  {
   "cell_type": "code",
   "execution_count": 21,
   "metadata": {},
   "outputs": [],
   "source": [
    "# ttt = df_test.equipment_dict.apply(lambda x: json.loads(x) if x==x else x)"
   ]
  },
  {
   "cell_type": "code",
   "execution_count": 22,
   "metadata": {},
   "outputs": [],
   "source": [
    "# len(ttt[0])"
   ]
  },
  {
   "cell_type": "code",
   "execution_count": 23,
   "metadata": {},
   "outputs": [],
   "source": [
    "# ttt.head()"
   ]
  },
  {
   "cell_type": "code",
   "execution_count": 24,
   "metadata": {},
   "outputs": [],
   "source": [
    "# ttt.apply(lambda x: list(x.keys()) if x==x else []).sum()"
   ]
  },
  {
   "cell_type": "code",
   "execution_count": 25,
   "metadata": {},
   "outputs": [
    {
     "data": {
      "text/plain": [
       "13931                                                  NaN\n",
       "27593                                                  NaN\n",
       "15825    {\"engine-proof\":true,\"cruise-control\":true,\"es...\n",
       "31604                                                  NaN\n",
       "34316    {\"cruise-control\":true,\"tinted-glass\":true,\"es...\n",
       "Name: equipment_dict, dtype: object"
      ]
     },
     "execution_count": 25,
     "metadata": {},
     "output_type": "execute_result"
    }
   ],
   "source": [
    "df_test.equipment_dict.sample(5)"
   ]
  },
  {
   "cell_type": "code",
   "execution_count": 26,
   "metadata": {},
   "outputs": [],
   "source": [
    "# df_test.equipment_dict.apply(lambda x: json.loads(x) if x==x else x).sample(5)"
   ]
  },
  {
   "cell_type": "markdown",
   "metadata": {},
   "source": [
    "В колонке много пропусков (почти 29%), не пропущенные значения представляют собой текстово епредсьавление словаря с перечислением оснащения автомобиля. В рассмотрнеие моделью будет приняты те пункты оснащения, что будут пересекаться с пунктами оснащения обучающего набора данных."
   ]
  },
  {
   "cell_type": "markdown",
   "metadata": {},
   "source": [
    "### fuelType"
   ]
  },
  {
   "cell_type": "code",
   "execution_count": 27,
   "metadata": {},
   "outputs": [
    {
     "data": {
      "text/plain": [
       "array(['бензин', 'дизель', 'гибрид', 'электро', 'газ'], dtype=object)"
      ]
     },
     "execution_count": 27,
     "metadata": {},
     "output_type": "execute_result"
    }
   ],
   "source": [
    "df_test.fuelType.unique()"
   ]
  },
  {
   "cell_type": "markdown",
   "metadata": {},
   "source": [
    "Колонка содержит тип топлива. Принимается врассмотрнеи."
   ]
  },
  {
   "cell_type": "markdown",
   "metadata": {},
   "source": [
    "### image"
   ]
  },
  {
   "cell_type": "code",
   "execution_count": 28,
   "metadata": {},
   "outputs": [
    {
     "data": {
      "text/plain": [
       "3628     https://avatars.mds.yandex.net/get-autoru-vos/...\n",
       "25353    https://avatars.mds.yandex.net/get-autoru-vos/...\n",
       "11351    https://avatars.mds.yandex.net/get-autoru-vos/...\n",
       "17447    https://autoru.naydex.net/ESooa9149/468b9eoMem...\n",
       "10225    https://avatars.mds.yandex.net/get-autoru-vos/...\n",
       "Name: image, dtype: object"
      ]
     },
     "execution_count": 28,
     "metadata": {},
     "output_type": "execute_result"
    }
   ],
   "source": [
    "df_test.image.sample(5)"
   ]
  },
  {
   "cell_type": "markdown",
   "metadata": {},
   "source": [
    "Колонка содержит ссылки на фото или аватар авто, исключается из рассмотрения."
   ]
  },
  {
   "cell_type": "markdown",
   "metadata": {},
   "source": [
    "### mileage"
   ]
  },
  {
   "cell_type": "code",
   "execution_count": 29,
   "metadata": {},
   "outputs": [
    {
     "data": {
      "text/plain": [
       "13059    228000\n",
       "31542    242248\n",
       "24180     60000\n",
       "20973     50200\n",
       "26779    129600\n",
       "Name: mileage, dtype: int64"
      ]
     },
     "execution_count": 29,
     "metadata": {},
     "output_type": "execute_result"
    }
   ],
   "source": [
    "df_test.mileage.sample(5)"
   ]
  },
  {
   "cell_type": "markdown",
   "metadata": {},
   "source": [
    "Колонка содержит пробег авто, принмается в рассмотрениею"
   ]
  },
  {
   "cell_type": "markdown",
   "metadata": {},
   "source": [
    "### modelDate"
   ]
  },
  {
   "cell_type": "code",
   "execution_count": 30,
   "metadata": {},
   "outputs": [
    {
     "data": {
      "text/plain": [
       "array([2013, 2017, 2008, 2009, 2016, 2012, 2015, 2010, 2006, 2000, 2007,\n",
       "       1994, 2004, 1999, 2005, 1976, 2001, 1969, 1996, 1998, 1989, 1934,\n",
       "       2014, 2011, 2018, 1986, 1997, 1990, 2019, 2002, 1991, 1987, 1980,\n",
       "       1982, 1938, 1988, 2003, 1983, 1978, 1979, 1984, 1992, 1995, 1993,\n",
       "       1985, 1974, 1966, 1977, 1981, 1972, 1968, 1975, 1949, 1937, 1936,\n",
       "       1973, 1959, 1958, 2020, 1965, 1971, 1904, 1963, 1955, 1951, 1960],\n",
       "      dtype=int64)"
      ]
     },
     "execution_count": 30,
     "metadata": {},
     "output_type": "execute_result"
    }
   ],
   "source": [
    "df_test.modelDate.unique()"
   ]
  },
  {
   "cell_type": "markdown",
   "metadata": {},
   "source": [
    "Колонка содержит год начала выпуска модели, принимется в рассмотрние."
   ]
  },
  {
   "cell_type": "markdown",
   "metadata": {},
   "source": [
    "### model_info"
   ]
  },
  {
   "cell_type": "code",
   "execution_count": 31,
   "metadata": {},
   "outputs": [
    {
     "data": {
      "text/plain": [
       "22880    {\"code\":\"LS\",\"name\":\"LS\",\"ru_name\":\"LS\",\"morph...\n",
       "15142    {\"code\":\"FX\",\"name\":\"FX\",\"ru_name\":\"FX\",\"morph...\n",
       "31702    {\"code\":\"GLE_KLASSE_AMG\",\"name\":\"GLE AMG\",\"ru_...\n",
       "86       {\"code\":\"OCTAVIA\",\"name\":\"Octavia\",\"ru_name\":\"...\n",
       "34553    {\"code\":\"CRESTA\",\"name\":\"Cresta\",\"ru_name\":\"Кр...\n",
       "Name: model_info, dtype: object"
      ]
     },
     "execution_count": 31,
     "metadata": {},
     "output_type": "execute_result"
    }
   ],
   "source": [
    "df_test.model_info.sample(5)"
   ]
  },
  {
   "cell_type": "markdown",
   "metadata": {},
   "source": [
    "Колонка содержит наименование модели в трех вариантах. Учитывая наличие `model_name` колонка исключается из рассмотрения"
   ]
  },
  {
   "cell_type": "markdown",
   "metadata": {},
   "source": [
    "### model_name"
   ]
  },
  {
   "cell_type": "code",
   "execution_count": 32,
   "metadata": {},
   "outputs": [
    {
     "data": {
      "text/plain": [
       "1553        FABIA\n",
       "31612    E_KLASSE\n",
       "17792    S_KLASSE\n",
       "13059       TIIDA\n",
       "22975          LX\n",
       "Name: model_name, dtype: object"
      ]
     },
     "execution_count": 32,
     "metadata": {},
     "output_type": "execute_result"
    }
   ],
   "source": [
    "df_test.model_name.sample(5)"
   ]
  },
  {
   "cell_type": "markdown",
   "metadata": {},
   "source": [
    "Наименование модели. Принимается к рассмотрению."
   ]
  },
  {
   "cell_type": "markdown",
   "metadata": {},
   "source": [
    "### name"
   ]
  },
  {
   "cell_type": "code",
   "execution_count": 33,
   "metadata": {},
   "outputs": [
    {
     "data": {
      "text/plain": [
       "13487     1.6 MT (114 л.с.) 4WD\n",
       "12309        3.5 CVT (249 л.с.)\n",
       "23395         1.6 AT (110 л.с.)\n",
       "651      1.8 AMT (152 л.с.) 4WD\n",
       "6002      2.4 AT (166 л.с.) 4WD\n",
       "Name: name, dtype: object"
      ]
     },
     "execution_count": 33,
     "metadata": {},
     "output_type": "execute_result"
    }
   ],
   "source": [
    "df_test.name.sample(5)"
   ]
  },
  {
   "cell_type": "markdown",
   "metadata": {},
   "source": [
    "Колонка содержит расширение названия модели, указывающее на обьем двигателя и тип привода. Поскольку эта информация уже получена из других колонок, эта в рассмотрнеие не принимается"
   ]
  },
  {
   "cell_type": "markdown",
   "metadata": {},
   "source": [
    "### numberOfDoors"
   ]
  },
  {
   "cell_type": "code",
   "execution_count": 34,
   "metadata": {},
   "outputs": [
    {
     "data": {
      "text/plain": [
       "array([5, 4, 2, 3, 0], dtype=int64)"
      ]
     },
     "execution_count": 34,
     "metadata": {},
     "output_type": "execute_result"
    }
   ],
   "source": [
    "df_test.numberOfDoors.unique()"
   ]
  },
  {
   "cell_type": "markdown",
   "metadata": {},
   "source": [
    "Колонка содержит числовое представление количества дверей, принимется в рассмотрение."
   ]
  },
  {
   "cell_type": "markdown",
   "metadata": {},
   "source": [
    "### parsing_unixtime"
   ]
  },
  {
   "cell_type": "markdown",
   "metadata": {},
   "source": [
    "Колонка судя по названию содержит время сбора информации в валидационный набор данных. Непосредственно для обученяи информация не нужна. Но время сбора поможет внести поправку на изменение коньюктуры(курс валюты и т.д.). \n",
    "Посмотрим на диапазон `parsing_unixtime`:"
   ]
  },
  {
   "cell_type": "code",
   "execution_count": 35,
   "metadata": {},
   "outputs": [],
   "source": [
    "# datetime.utcfromtimestamp(df_test.parsing_unixtime.min())"
   ]
  },
  {
   "cell_type": "code",
   "execution_count": 36,
   "metadata": {},
   "outputs": [],
   "source": [
    "# datetime.utcfromtimestamp(df_test.parsing_unixtime.max())"
   ]
  },
  {
   "cell_type": "code",
   "execution_count": 37,
   "metadata": {},
   "outputs": [
    {
     "data": {
      "text/plain": [
       "(datetime.date(2020, 10, 19), datetime.date(2020, 10, 26))"
      ]
     },
     "execution_count": 37,
     "metadata": {},
     "output_type": "execute_result"
    }
   ],
   "source": [
    "date.fromtimestamp(df_test.parsing_unixtime.min()),date.fromtimestamp(df_test.parsing_unixtime.max())"
   ]
  },
  {
   "cell_type": "markdown",
   "metadata": {},
   "source": [
    "Как видим парсинг произведен с 19 по 26 октября 20-го года"
   ]
  },
  {
   "cell_type": "markdown",
   "metadata": {},
   "source": [
    "### productionDate"
   ]
  },
  {
   "cell_type": "code",
   "execution_count": 38,
   "metadata": {},
   "outputs": [
    {
     "data": {
      "text/plain": [
       "array([2014, 2017, 2012, 2011, 2019, 2018, 2010, 2020, 2016, 2013, 2006,\n",
       "       2007, 2015, 2005, 2008, 2009, 1997, 2004, 2002, 1987, 2003, 2001,\n",
       "       1976, 2000, 1998, 1995, 1999, 1993, 1939, 1996, 1984, 1990, 1991,\n",
       "       1992, 1989, 1982, 1985, 1994, 1938, 1981, 1988, 1983, 1980, 1986,\n",
       "       1978, 1970, 1979, 1977, 1972, 1975, 1969, 1950, 1953, 1949, 1937,\n",
       "       1959, 1968, 1936, 1904, 1974, 1967, 1961, 1960, 1965, 1963, 1957,\n",
       "       1952, 1973, 1948], dtype=int64)"
      ]
     },
     "execution_count": 38,
     "metadata": {},
     "output_type": "execute_result"
    }
   ],
   "source": [
    "df_test.productionDate.unique()"
   ]
  },
  {
   "cell_type": "markdown",
   "metadata": {},
   "source": [
    "Год производства автомобиля ( наверное наряду с моделью автомобиля самы значимый признак). Принмается в рассмотрнеие."
   ]
  },
  {
   "cell_type": "markdown",
   "metadata": {},
   "source": [
    "### sell_id"
   ]
  },
  {
   "cell_type": "code",
   "execution_count": 39,
   "metadata": {},
   "outputs": [
    {
     "data": {
      "text/plain": [
       "'https://auto.ru/cars/used/sale/skoda/octavia/1100549428-595cadf2/'"
      ]
     },
     "execution_count": 39,
     "metadata": {},
     "output_type": "execute_result"
    }
   ],
   "source": [
    "df_test.car_url[1]"
   ]
  },
  {
   "cell_type": "code",
   "execution_count": 40,
   "metadata": {},
   "outputs": [
    {
     "data": {
      "text/plain": [
       "1100549428"
      ]
     },
     "execution_count": 40,
     "metadata": {},
     "output_type": "execute_result"
    }
   ],
   "source": [
    "df_test.sell_id[1]"
   ]
  },
  {
   "cell_type": "code",
   "execution_count": null,
   "metadata": {},
   "outputs": [],
   "source": []
  },
  {
   "cell_type": "code",
   "execution_count": 41,
   "metadata": {},
   "outputs": [
    {
     "data": {
      "text/plain": [
       "array([1100575026, 1100549428, 1100658222, ..., 1101364889, 1101362518,\n",
       "       1101256068], dtype=int64)"
      ]
     },
     "execution_count": 41,
     "metadata": {},
     "output_type": "execute_result"
    }
   ],
   "source": [
    "df_test.sell_id.unique()"
   ]
  },
  {
   "cell_type": "markdown",
   "metadata": {},
   "source": [
    "Колонка содержит ***id*** обьявления. Как непосредственный признак не интересен, в рассмотрение моделью не принимается. Но если предположить, что ***id*** отражает хронологический порядок появления обьявления, то, например, можно попробовать при \"тонкой настройке\" модели придать более новым обьявлениям больший вес при обучении."
   ]
  },
  {
   "cell_type": "markdown",
   "metadata": {},
   "source": [
    "### super_gen"
   ]
  },
  {
   "cell_type": "code",
   "execution_count": 42,
   "metadata": {},
   "outputs": [
    {
     "data": {
      "text/plain": [
       "'{\"id\":\"10373605\",\"displacement\":1197,\"engine_type\":\"GASOLINE\",\"gear_type\":\"FORWARD_CONTROL\",\"transmission\":\"ROBOT\",\"power\":105,\"power_kvt\":77,\"human_name\":\"1.2 AMT (105 л.с.)\",\"acceleration\":10.5,\"clearance_min\":155,\"fuel_rate\":5}'"
      ]
     },
     "execution_count": 42,
     "metadata": {},
     "output_type": "execute_result"
    }
   ],
   "source": [
    "df_test.super_gen[0]"
   ]
  },
  {
   "cell_type": "markdown",
   "metadata": {},
   "source": [
    "Колонка содержит ***id*** и параметры автомобиля, которые либо являются по сути атрибутами модели (у всех автомобилей одной модели одинаковый клиренс) либо уже известны нам из других колонок (например тип трансмиссии). В рассмотрнеи не принимается."
   ]
  },
  {
   "cell_type": "markdown",
   "metadata": {},
   "source": [
    "### vehicleConfiguration"
   ]
  },
  {
   "cell_type": "code",
   "execution_count": 43,
   "metadata": {},
   "outputs": [
    {
     "data": {
      "text/plain": [
       "9024      ALLROAD_5_DOORS AUTOMATIC 4.8\n",
       "14518      ALLROAD_5_DOORS VARIATOR 2.0\n",
       "24793              SEDAN MECHANICAL 1.8\n",
       "32570    ALLROAD_5_DOORS MECHANICAL 2.0\n",
       "2179                 LIFTBACK ROBOT 1.4\n",
       "Name: vehicleConfiguration, dtype: object"
      ]
     },
     "execution_count": 43,
     "metadata": {},
     "output_type": "execute_result"
    }
   ],
   "source": [
    "df_test.vehicleConfiguration.sample(5)"
   ]
  },
  {
   "cell_type": "markdown",
   "metadata": {},
   "source": [
    "Содержит информацию о типе кузова, типе трансмиссии обьеме двигателя количестве дверей. Эта информация доступна в других колонках, поэтому `vehicleConfiguration` в рассмотрение не принимется "
   ]
  },
  {
   "cell_type": "markdown",
   "metadata": {},
   "source": [
    "### vehicleTransmission"
   ]
  },
  {
   "cell_type": "code",
   "execution_count": 44,
   "metadata": {},
   "outputs": [
    {
     "data": {
      "text/plain": [
       "array(['роботизированная', 'механическая', 'автоматическая', 'вариатор'],\n",
       "      dtype=object)"
      ]
     },
     "execution_count": 44,
     "metadata": {},
     "output_type": "execute_result"
    }
   ],
   "source": [
    "df_test.vehicleTransmission.unique()"
   ]
  },
  {
   "cell_type": "markdown",
   "metadata": {},
   "source": [
    "Колонка содержит в тестовом виде тип трансмиссии. Принимается в рассмотрение."
   ]
  },
  {
   "cell_type": "markdown",
   "metadata": {},
   "source": [
    "### vendor"
   ]
  },
  {
   "cell_type": "code",
   "execution_count": 45,
   "metadata": {},
   "outputs": [
    {
     "data": {
      "text/plain": [
       "array(['EUROPEAN', 'JAPANESE'], dtype=object)"
      ]
     },
     "execution_count": 45,
     "metadata": {},
     "output_type": "execute_result"
    }
   ],
   "source": [
    "df_test.vendor.unique()"
   ]
  },
  {
   "cell_type": "code",
   "execution_count": 46,
   "metadata": {},
   "outputs": [
    {
     "data": {
      "text/plain": [
       "vendor\n",
       "EUROPEAN      [SKODA, AUDI, VOLVO, BMW, MERCEDES, VOLKSWAGEN]\n",
       "JAPANESE    [HONDA, NISSAN, INFINITI, TOYOTA, LEXUS, MITSU...\n",
       "Name: brand, dtype: object"
      ]
     },
     "execution_count": 46,
     "metadata": {},
     "output_type": "execute_result"
    }
   ],
   "source": [
    "df_test.groupby('vendor').brand.unique()"
   ]
  },
  {
   "cell_type": "markdown",
   "metadata": {},
   "source": [
    "Как видим колонка содержит обобщающий признак - принадлежность марки к европейским либо японским. Как подсказывает опыт автовладельца динамика падения цены от срока владения у этих двух групп различается (японцы обычно дешевеют медленнее, особенно Toyota). Посчитаем признак полезным, примем в рассмотрение моделью."
   ]
  },
  {
   "cell_type": "markdown",
   "metadata": {},
   "source": [
    "### Владельцы"
   ]
  },
  {
   "cell_type": "code",
   "execution_count": 47,
   "metadata": {},
   "outputs": [
    {
     "data": {
      "text/plain": [
       "array(['3 или более', '1\\xa0владелец', '2\\xa0владельца'], dtype=object)"
      ]
     },
     "execution_count": 47,
     "metadata": {},
     "output_type": "execute_result"
    }
   ],
   "source": [
    "df_test.Владельцы.unique()"
   ]
  },
  {
   "cell_type": "markdown",
   "metadata": {},
   "source": [
    "Колонка содержит в текстовом виде три категории количества владельцев авто. Примем в рассмотрение"
   ]
  },
  {
   "cell_type": "markdown",
   "metadata": {},
   "source": [
    "### Владение"
   ]
  },
  {
   "cell_type": "code",
   "execution_count": 48,
   "metadata": {},
   "outputs": [
    {
     "data": {
      "text/plain": [
       "array([nan, '3 года и 2 месяца', '11 месяцев', '4 года и 1 месяц',\n",
       "       '2 года и 4 месяца', '1 месяц', '3 года и 10 месяцев',\n",
       "       '2 года и 6 месяцев', '6 лет и 4 месяца', '2 месяца', '4 месяца',\n",
       "       '1 год и 10 месяцев', '2 года и 7 месяцев', '7 лет и 11 месяцев',\n",
       "       '7 лет и 5 месяцев', '1 год и 11 месяцев', '2 года и 1 месяц',\n",
       "       '7 лет', '4 года и 2 месяца', '2 года и 8 месяцев'], dtype=object)"
      ]
     },
     "execution_count": 48,
     "metadata": {},
     "output_type": "execute_result"
    }
   ],
   "source": [
    "df_test.Владение.unique()[:20]"
   ]
  },
  {
   "cell_type": "markdown",
   "metadata": {},
   "source": [
    "Колонка содержит время прошедшее с момента выпуска авто. Очевидно линейно зависит о даты выпуска автомобиля - исключается из рассмотрения."
   ]
  },
  {
   "cell_type": "markdown",
   "metadata": {},
   "source": [
    "### ПТС"
   ]
  },
  {
   "cell_type": "code",
   "execution_count": 49,
   "metadata": {},
   "outputs": [
    {
     "data": {
      "text/plain": [
       "array(['Оригинал', 'Дубликат', nan], dtype=object)"
      ]
     },
     "execution_count": 49,
     "metadata": {},
     "output_type": "execute_result"
    }
   ],
   "source": [
    "df_test.ПТС.unique()"
   ]
  },
  {
   "cell_type": "markdown",
   "metadata": {},
   "source": [
    "Колонка содержит (если значение не nan) категорию ПТС. Принимается в рассмотрение."
   ]
  },
  {
   "cell_type": "markdown",
   "metadata": {},
   "source": [
    "### Привод"
   ]
  },
  {
   "cell_type": "code",
   "execution_count": 50,
   "metadata": {},
   "outputs": [
    {
     "data": {
      "text/plain": [
       "array(['передний', 'полный', 'задний'], dtype=object)"
      ]
     },
     "execution_count": 50,
     "metadata": {},
     "output_type": "execute_result"
    }
   ],
   "source": [
    "df_test.Привод.unique()"
   ]
  },
  {
   "cell_type": "markdown",
   "metadata": {},
   "source": [
    "Колонка содержит категорию привода. Принимается в расмотрние."
   ]
  },
  {
   "cell_type": "markdown",
   "metadata": {},
   "source": [
    "### Руль"
   ]
  },
  {
   "cell_type": "code",
   "execution_count": 51,
   "metadata": {},
   "outputs": [
    {
     "data": {
      "text/plain": [
       "array(['Левый', 'Правый'], dtype=object)"
      ]
     },
     "execution_count": 51,
     "metadata": {},
     "output_type": "execute_result"
    }
   ],
   "source": [
    "df_test.Руль.unique()"
   ]
  },
  {
   "cell_type": "markdown",
   "metadata": {},
   "source": [
    "Колонка содержит категрию право- или левосторонности управления . В рассмотрение.\n",
    " ## Колонки подлежащие рассмотрению моделью\n",
    "Итого из валидационного набора данных, содержащихся в `df_test` будем спользовать для построения модели информацию из следующих колонок:\n",
    "\n"
   ]
  },
  {
   "cell_type": "code",
   "execution_count": 52,
   "metadata": {},
   "outputs": [],
   "source": [
    "columns_to_handle = ['bodyType', 'brand', 'car_url', 'color', 'engineDisplacement', 'enginePower', \n",
    "                      'equipment_dict','fuelType', 'mileage', 'modelDate', 'model_name', 'numberOfDoors', \n",
    "                      'productionDate', 'sell_id', 'vehicleTransmission', 'vendor', \n",
    "                      'Владельцы', 'ПТС', 'Привод', 'Руль']\n",
    "useful_columns = ['parsing_unixtime']"
   ]
  },
  {
   "cell_type": "code",
   "execution_count": 53,
   "metadata": {},
   "outputs": [],
   "source": [
    "test = df_test[columns_to_handle]"
   ]
  },
  {
   "cell_type": "markdown",
   "metadata": {},
   "source": [
    "## Унификация test и train"
   ]
  },
  {
   "cell_type": "code",
   "execution_count": 55,
   "metadata": {},
   "outputs": [],
   "source": [
    "train = pd.read_csv(f'{path}all_marks.csv')"
   ]
  },
  {
   "cell_type": "markdown",
   "metadata": {},
   "source": [
    "## РАЗРАБОТКА\n",
    "## ========================================="
   ]
  },
  {
   "cell_type": "code",
   "execution_count": 56,
   "metadata": {},
   "outputs": [],
   "source": [
    "def categ_diff(column):\n",
    "    one = train[column]\n",
    "    another = test[column]\n",
    "    one_another = set(one.unique()) - set(another.unique())\n",
    "    another_one = set(another.unique()) - set(one.unique())\n",
    "    print(one_another)\n",
    "    print(another_one)\n",
    "    \n",
    "def categ_diff2(one,another):\n",
    "    one_another = set(one.unique()) - set(another.unique())\n",
    "    another_one = set(another.unique()) - set(one.unique())\n",
    "    print(one_another)\n",
    "    print(another_one)\n",
    "    \n",
    "def categ_matches(column):\n",
    "    one = train[column]\n",
    "    another = test[column]\n",
    "    matches = set(one.unique()) & set(another.unique())\n",
    "    return (matches)\n",
    "    \n",
    "def categ_matches2(one,another):\n",
    "    matches = set(one.unique()) & set(another.unique())\n",
    "    return (matches)"
   ]
  },
  {
   "cell_type": "code",
   "execution_count": 58,
   "metadata": {},
   "outputs": [],
   "source": [
    "def unification(train):\n",
    "    df = train.copy()\n",
    "    \n",
    "    fuelType_unification = {\n",
    "    'бензин':'бензин',\n",
    "    'дизель': 'дизель',\n",
    "    'бензин, газобаллонное оборудование': 'бензин',\n",
    "    'гибрид': 'гибрид',\n",
    "    'дизель, газобаллонное оборудование': 'дизель',\n",
    "    'гибрид, газобаллонное оборудование': 'гибрид',\n",
    "    'газ': 'газ',\n",
    "    'газ, газобаллонное оборудование': 'газ'}\n",
    "    \n",
    "    df.brand = df.brand.apply(lambda x: 'MERCEDES' if x=='MERCEDES-BENZ' else x)\n",
    "#     df.engineDisplacement = df.engineDisplacement.apply(lambda x: float(x[:-4]) if x[:-4] else np.NaN)\n",
    "#     df.enginePower = df.enginePower.apply(lambda x: float(x[:-4]) if x[:-4] else np.NaN).unique()\n",
    "    df.fuelType = df.fuelType.str.lower().map(fuelType_unification)\n",
    "    df.mileage = df.mileage.apply(lambda x: int(x) if x==x else 0)\n",
    "    df.model_name = df.model_name.str.upper()\n",
    "    df.productionDate = df.productionDate.apply(lambda x: int(x) if x==x else 0)\n",
    "    \n",
    "    return df"
   ]
  },
  {
   "cell_type": "code",
   "execution_count": 66,
   "metadata": {},
   "outputs": [],
   "source": [
    "# bodyType +++\n",
    "# categ_diff('bodyType')"
   ]
  },
  {
   "cell_type": "code",
   "execution_count": 65,
   "metadata": {},
   "outputs": [],
   "source": [
    "# brand +++\n",
    "\n",
    "# categ_diff('brand')\n",
    "# заменить 'MERCEDES-BENZ' на 'MERCEDES'\n",
    "# ttt = train.brand.apply(lambda x: 'MERCEDES' if x=='MERCEDES-BENZ' else x)\n",
    "# categ_diff2(ttt,test.brand)"
   ]
  },
  {
   "cell_type": "code",
   "execution_count": 67,
   "metadata": {},
   "outputs": [],
   "source": [
    "# car_url +++\n",
    "\n",
    "# categ_diff('color')"
   ]
  },
  {
   "cell_type": "code",
   "execution_count": 61,
   "metadata": {},
   "outputs": [],
   "source": [
    "# engineDisplacement +++\n",
    "\n",
    "# categ_diff('engineDisplacement')\n",
    "\n",
    "# test.engineDisplacement.apply(lambda x: float(x[:-4]) if x[:-4] else np.NaN).unique()"
   ]
  },
  {
   "cell_type": "code",
   "execution_count": 60,
   "metadata": {},
   "outputs": [],
   "source": [
    "# enginePower +++\n",
    "\n",
    "# categ_diff('enginePower')\n",
    "# test.enginePower.str[:-4].unique()\n",
    "# test.enginePower.apply(lambda x: float(x[:-4]) if x[:-4] else np.NaN).unique()"
   ]
  },
  {
   "cell_type": "code",
   "execution_count": null,
   "metadata": {},
   "outputs": [],
   "source": [
    "# <<<<<<<<<<<<<<<<<<<<<<<<<<<<<<<<<<<<<<<<<<<<<<<<<<<<<<<<<<<<<<<<<<<<<<<<<<<<<<<<<<<<<<<<<<<<<<<<<<<<<<<<<<\n",
    "# <<<<<<<<<<<<<<<<<<<<<<<<<<<<<<<<<<<<<<<<<<<<<<<<<<<<<<<<<<<<<<<<<<<<<<<<<<<<<<<<<<<<<<<<<<<<<<<<<<<<<<<<<<\n",
    "\n",
    "# equipment_dict \n",
    "\n",
    "'equipment_dict'\n",
    "\n"
   ]
  },
  {
   "cell_type": "code",
   "execution_count": null,
   "metadata": {},
   "outputs": [],
   "source": []
  },
  {
   "cell_type": "code",
   "execution_count": 75,
   "metadata": {},
   "outputs": [],
   "source": [
    "# fuelType +++\n",
    "# categ_diff('fuelType')\n",
    "# categ_diff2(train.fuelType.str.lower(),test.fuelType)\n",
    "fuelType_unification = {\n",
    "    'бензин':'бензин',\n",
    "    'дизель': 'дизель',\n",
    "    'бензин, газобаллонное оборудование': 'бензин',\n",
    "    'гибрид': 'гибрид',\n",
    "    'дизель, газобаллонное оборудование': 'дизель',\n",
    "    'гибрид, газобаллонное оборудование': 'гибрид',\n",
    "    'газ': 'газ',\n",
    "    'газ, газобаллонное оборудование': 'газ'}\n",
    "\n",
    "# train.fuelType.str.lower().map(fuelType_unification)"
   ]
  },
  {
   "cell_type": "code",
   "execution_count": 78,
   "metadata": {},
   "outputs": [],
   "source": [
    "# mileage +++\n",
    "# привести к типу int в train\n",
    "# train.mileage.apply(lambda x: int(x) if x==x else 0)"
   ]
  },
  {
   "cell_type": "code",
   "execution_count": null,
   "metadata": {},
   "outputs": [],
   "source": [
    "# modelDate +++\n",
    "# привести к дате выпуска в train"
   ]
  },
  {
   "cell_type": "code",
   "execution_count": 84,
   "metadata": {},
   "outputs": [],
   "source": [
    "# model_name +++\n",
    "# train.model_name.str.upper()\n",
    "# categ_diff('model_name')\n",
    "# привести к верхнему регистру в train\n",
    "\n",
    "#\n",
    "# <<<<<<<<<<<<<<<<<<<<<<< ПРОВЕРИТЬ СОВПАДЕНИЕ ОИЕН В test train\n",
    "#"
   ]
  },
  {
   "cell_type": "code",
   "execution_count": 97,
   "metadata": {},
   "outputs": [],
   "source": [
    "# numberOfDoors +++ \n",
    "# categ_diff('numberOfDoors')"
   ]
  },
  {
   "cell_type": "code",
   "execution_count": 90,
   "metadata": {},
   "outputs": [],
   "source": [
    "# productionDate +++\n",
    "# categ_diff('productionDate')\n",
    "# train.productionDate.apply(lambda x: int(x) if x==x else 0)\n",
    "# привести к типу int в train"
   ]
  },
  {
   "cell_type": "code",
   "execution_count": null,
   "metadata": {},
   "outputs": [],
   "source": [
    "# sell_id +++"
   ]
  },
  {
   "cell_type": "code",
   "execution_count": 104,
   "metadata": {},
   "outputs": [],
   "source": [
    "# vehicleTransmission +++\n",
    "# categ_diff('vehicleTransmission')"
   ]
  },
  {
   "cell_type": "code",
   "execution_count": 105,
   "metadata": {},
   "outputs": [],
   "source": [
    "# vendor +++ \n",
    "# categ_diff('vendor')"
   ]
  },
  {
   "cell_type": "code",
   "execution_count": 107,
   "metadata": {},
   "outputs": [],
   "source": [
    "# Владельцы +++\n",
    "# categ_diff('Владельцы')"
   ]
  },
  {
   "cell_type": "code",
   "execution_count": 108,
   "metadata": {},
   "outputs": [],
   "source": [
    "# ПТС +++\n",
    "# categ_diff('ПТС')"
   ]
  },
  {
   "cell_type": "code",
   "execution_count": 109,
   "metadata": {},
   "outputs": [],
   "source": [
    "# Привод +++\n",
    "# categ_diff('Привод')"
   ]
  },
  {
   "cell_type": "code",
   "execution_count": 110,
   "metadata": {},
   "outputs": [],
   "source": [
    "# Руль\n",
    "# categ_diff('Руль')"
   ]
  },
  {
   "cell_type": "code",
   "execution_count": 120,
   "metadata": {},
   "outputs": [
    {
     "data": {
      "text/plain": [
       "numpy.float64"
      ]
     },
     "execution_count": 120,
     "metadata": {},
     "output_type": "execute_result"
    }
   ],
   "source": [
    "type(train.enginePower[0])"
   ]
  },
  {
   "cell_type": "code",
   "execution_count": 59,
   "metadata": {},
   "outputs": [],
   "source": [
    "tmp = unification(train)"
   ]
  },
  {
   "cell_type": "code",
   "execution_count": 73,
   "metadata": {},
   "outputs": [
    {
     "name": "stdout",
     "output_type": "stream",
     "text": [
      "set()\n",
      "{nan, 'хэтчбек 4 дв.', 'универсал 3 дв.', 'спидстер'}\n",
      "bodyType \n",
      "\n",
      "set()\n",
      "{nan, 'ALPINA', 'SHANGHAI MAPLE', 'HYUNDAI', 'ROLLS-ROYCE', 'DELAGE', 'DODGE', 'SUBARU', 'ГОНОЧНЫЙ АВТОМОБИЛЬ', 'ЗАЗ', 'TIANMA', 'ZX', 'FAW', 'GREAT WALL', 'BORGWARD', 'GENESIS', 'SSANGYONG', 'DAIMLER', 'SCION', 'SATURN', 'FORD', 'ROVER', 'HAWTAI', 'GEELY', 'HEINKEL', 'LIGIER', 'EXCALIBUR', 'ZOTYE', 'МОСКВИЧ', 'SMART', 'MAHINDRA', 'LINCOLN', 'DACIA', 'RENAULT', 'MERCURY', 'PACKARD', 'SUZUKI', 'BUICK', 'LIFAN', 'PLYMOUTH', 'VORTEX', 'GMC', 'DS', 'ЗИС', 'GAC', 'MG', 'ТАГАЗ', 'MASERATI', 'EAGLE', 'MAYBACH', 'FIAT', 'LAND ROVER', 'HUMMER', 'ARO', 'HAFEI', 'CHANGAN', 'ADLER', 'ALFA ROMEO', 'ЗИЛ', 'LAMBORGHINI', 'DONINVEST', 'RAVON', 'ЛУАЗ', 'CHERY', 'HAVAL', 'BYD', 'JAGUAR', 'SAAB', 'AUBURN', 'ASTON MARTIN', 'BRABUS', 'MITSUOKA', 'DAEWOO', 'ИЖ', 'AC', 'ACURA', 'JAC', 'JEEP', 'TESLA', 'LUXGEN', 'TRIUMPH', 'AMC', 'CITROEN', 'OPEL', 'BENTLEY', 'DKW', 'MINI', 'PROTON', 'CHEVROLET', 'DERWAYS', 'HAIMA', 'FOTON', 'BRILLIANCE', 'IRAN KHODRO', 'ISUZU', 'WILLYS', 'MAZDA', 'ГАЗ', 'TATRA', 'CADILLAC', 'DONGFENG', 'MCLAREN', 'LADA (ВАЗ)', 'DAIHATSU', 'УАЗ', 'DW HOWER', 'OLDSMOBILE', 'ARIEL', 'ASIA', 'LTI', 'PONTIAC', 'FERRARI', 'LANCIA', 'DATSUN', 'PEUGEOT', 'KIA', 'RAM', 'SEAT', 'PORSCHE', 'CHRYSLER', 'СМЗ'}\n",
      "brand \n",
      "\n",
      "set()\n",
      "{nan}\n",
      "color \n",
      "\n",
      "{'2.9 LTR', '4.7 LTR', '1.6 LTR', '2.4 LTR', '1.3 LTR', '2.0 LTR', '3.5 LTR', '5.7 LTR', '4.3 LTR', '6.2 LTR', '4.8 LTR', '4.1 LTR', '3.6 LTR', '1.8 LTR', '1.7 LTR', '4.5 LTR', '3.8 LTR', '2.3 LTR', '3.7 LTR', '5.2 LTR', '2.5 LTR', '5.4 LTR', '3.0 LTR', '5.3 LTR', '1.9 LTR', '3.2 LTR', '1.2 LTR', '2.7 LTR', '4.9 LTR', '1.5 LTR', '5.9 LTR', '6.0 LTR', '1.0 LTR', ' LTR', '4.4 LTR', '5.8 LTR', '6.3 LTR', '2.8 LTR', '2.1 LTR', '4.6 LTR', '5.5 LTR', '4.2 LTR', '0.7 LTR', '1.4 LTR', '3.3 LTR', '3.4 LTR', '1.1 LTR', '2.6 LTR', '4.0 LTR', '5.0 LTR', '3.9 LTR', '6.6 LTR', '5.6 LTR', '3.1 LTR', '2.2 LTR'}\n",
      "{nan, 1.2, 1.6, 1.3, 1.4, 1.5, 2.0, 1.8, 1.9, 3.6, 2.8, 2.3, 3.3, 2.5, 6.0, 6.3, 3.0, 3.5, 4.0, 4.1, 4.4, 4.9, 0.6, 5.9, 5.0, 5.4, 4.6, 5.6, 6.6, 1.0, 5.5, 6.4, 6.5, 7.0, 7.4, 1.1, 6.1, 0.5, 8.2, 8.0, 2.6, 2.1, 3.1, 0.7, 0.2, 1.7, 2.2, 2.7, 3.2, 3.7, 3.8, 0.8, 4.2, 4.8, 4.7, 4.3, 5.2, 5.8, 5.7, 5.3, 6.2, 6.8, 7.3, 7.7, 0.9, 4.5, 2.4, 2.9, 0.4, 3.4, 3.9}\n",
      "engineDisplacement \n",
      "\n",
      "{'605 N12', '383 N12', '360 N12', '74 N12', '445 N12', '180 N12', '101 N12', '394 N12', '195 N12', '159 N12', '283 N12', '201 N12', '333 N12', '309 N12', '212 N12', '177 N12', '205 N12', '540 N12', '258 N12', '266 N12', '401 N12', '301 N12', '61 N12', '288 N12', '450 N12', '78 N12', '254 N12', '277 N12', '273 N12', '122 N12', '250 N12', '300 N12', '135 N12', '307 N12', '117 N12', '517 N12', '58 N12', '585 N12', '625 N12', '476 N12', '32 N12', '103 N12', '113 N12', '71 N12', '72 N12', '228 N12', '182 N12', '107 N12', '290 N12', '100 N12', '147 N12', '53 N12', '320 N12', '390 N12', '128 N12', '355 N12', '186 N12', '178 N12', '60 N12', '83 N12', '96 N12', '460 N12', '325 N12', '90 N12', '315 N12', '302 N12', '77 N12', '167 N12', '388 N12', '240 N12', '381 N12', '235 N12', '610 N12', '92 N12', '48 N12', '137 N12', '402 N12', '115 N12', '626 N12', '278 N12', '114 N12', '163 N12', '326 N12', '249 N12', '550 N12', '42 N12', '102 N12', '120 N12', '340 N12', '99 N12', '600 N12', '431 N12', '350 N12', '285 N12', '165 N12', '46 N12', '262 N12', '382 N12', '276 N12', '227 N12', '192 N12', '85 N12', '335 N12', '231 N12', '612 N12', '125 N12', '143 N12', '316 N12', '225 N12', '256 N12', '131 N12', '184 N12', '248 N12', '129 N12', '203 N12', '282 N12', '591 N12', '263 N12', '80 N12', '200 N12', '372 N12', '260 N12', '166 N12', '118 N12', '264 N12', '174 N12', '106 N12', '105 N12', '343 N12', '127 N12', '525 N12', '155 N12', '142 N12', '269 N12', '421 N12', '139 N12', '189 N12', '370 N12', '38 N12', '204 N12', '255 N12', '544 N12', '211 N12', '230 N12', '215 N12', '133 N12', '329 N12', '65 N12', '305 N12', '188 N12', '197 N12', '121 N12', '108 N12', '294 N12', '380 N12', '510 N12', '321 N12', '154 N12', '82 N12', '49 N12', '303 N12', '164 N12', '354 N12', '639 N12', '317 N12', '30 N12', '223 N12', '109 N12', '247 N12', '73 N12', '156 N12', '146 N12', '275 N12', '136 N12', '111 N12', '272 N12', '234 N12', '430 N12', '265 N12', '387 N12', '52 N12', '69 N12', '162 N12', '209 N12', '455 N12', '68 N12', '500 N12', '183 N12', '571 N12', '86 N12', '87 N12', '220 N12', '208 N12', '55 N12', '84 N12', '257 N12', '522 N12', '170 N12', '40 N12', '609 N12', '185 N12', '218 N12', '313 N12', '116 N12', '104 N12', '252 N12', '190 N12', '405 N12', '173 N12', '158 N12', '50 N12', '75 N12', '407 N12', '202 N12', '214 N12', '148 N12', '520 N12', '560 N12', '338 N12', '306 N12', '157 N12', '241 N12', '280 N12', '124 N12', '98 N12', '219 N12', '239 N12', '145 N12', '44 N12', '95 N12', '245 N12', '64 N12', '179 N12', '152 N12', '213 N12', '97 N12', '271 N12', '160 N12', '93 N12', '94 N12', '420 N12', '194 N12', '171 N12', '507 N12', '140 N12', '221 N12', '88 N12', '330 N12', '324 N12', '480 N12', '132 N12', '151 N12', '555 N12', '304 N12', '514 N12', '286 N12', '328 N12', '422 N12', '110 N12', '79 N12', '630 N12', '175 N12', '270 N12', '222 N12', '149 N12', '284 N12', '70 N12', '295 N12', '238 N12', '435 N12', '54 N12', '150 N12', '580 N12', '51 N12', '485 N12', '76 N12', '242 N12', '233 N12', '67 N12', '57 N12', '91 N12', '126 N12', '268 N12', '292 N12', '318 N12', '457 N12', '199 N12', '112 N12', '243 N12', '347 N12', '169 N12', '210 N12', '557 N12', '487 N12', '66 N12', '400 N12', '281 N12', '469 N12', '296 N12', '310 N12', '181 N12', '130 N12', '367 N12', '558 N12', '232 N12', '224 N12', '408 N12', '530 N12', '168 N12', '144 N12', '462 N12', '141 N12', '575 N12', '193 N12', '279 N12'}\n",
      "{nan, 10.0, 12.0, 18.0, 19.0, 20.0, 23.0, 25.0, 26.0, 27.0, 29.0, 30.0, 33.0, 34.0, 35.0, 37.0, 38.0, 40.0, 41.0, 42.0, 44.0, 45.0, 46.0, 48.0, 49.0, 50.0, 51.0, 52.0, 53.0, 54.0, 55.0, 56.0, 57.0, 58.0, 59.0, 60.0, 61.0, 62.0, 63.0, 64.0, 65.0, 66.0, 67.0, 68.0, 69.0, 70.0, 71.0, 72.0, 73.0, 74.0, 75.0, 76.0, 77.0, 78.0, 79.0, 80.0, 81.0, 82.0, 83.0, 84.0, 85.0, 86.0, 87.0, 88.0, 89.0, 90.0, 91.0, 92.0, 93.0, 94.0, 95.0, 96.0, 97.0, 98.0, 99.0, 100.0, 101.0, 102.0, 103.0, 104.0, 105.0, 106.0, 107.0, 108.0, 109.0, 110.0, 111.0, 112.0, 113.0, 114.0, 115.0, 116.0, 117.0, 118.0, 119.0, 120.0, 121.0, 122.0, 123.0, 124.0, 125.0, 126.0, 127.0, 128.0, 129.0, 130.0, 131.0, 132.0, 133.0, 134.0, 135.0, 136.0, 137.0, 138.0, 139.0, 140.0, 141.0, 142.0, 143.0, 144.0, 145.0, 146.0, 147.0, 148.0, 149.0, 150.0, 151.0, 152.0, 153.0, 154.0, 155.0, 156.0, 157.0, 158.0, 159.0, 160.0, 161.0, 162.0, 163.0, 164.0, 165.0, 166.0, 167.0, 168.0, 169.0, 170.0, 171.0, 172.0, 173.0, 174.0, 175.0, 176.0, 177.0, 178.0, 179.0, 180.0, 181.0, 182.0, 183.0, 184.0, 185.0, 186.0, 187.0, 188.0, 189.0, 190.0, 192.0, 193.0, 194.0, 195.0, 196.0, 197.0, 198.0, 199.0, 200.0, 201.0, 202.0, 203.0, 204.0, 205.0, 207.0, 208.0, 209.0, 210.0, 211.0, 212.0, 213.0, 214.0, 215.0, 217.0, 218.0, 219.0, 220.0, 221.0, 222.0, 223.0, 224.0, 225.0, 226.0, 227.0, 228.0, 230.0, 231.0, 232.0, 233.0, 234.0, 235.0, 236.0, 238.0, 239.0, 240.0, 241.0, 242.0, 243.0, 244.0, 245.0, 247.0, 248.0, 249.0, 250.0, 251.0, 252.0, 253.0, 254.0, 255.0, 256.0, 257.0, 258.0, 260.0, 261.0, 262.0, 263.0, 264.0, 265.0, 266.0, 268.0, 269.0, 270.0, 271.0, 272.0, 273.0, 274.0, 275.0, 276.0, 277.0, 278.0, 279.0, 280.0, 281.0, 282.0, 283.0, 284.0, 285.0, 286.0, 287.0, 288.0, 290.0, 292.0, 294.0, 295.0, 296.0, 298.0, 299.0, 300.0, 301.0, 302.0, 303.0, 304.0, 305.0, 306.0, 307.0, 308.0, 309.0, 310.0, 311.0, 312.0, 313.0, 314.0, 315.0, 316.0, 317.0, 318.0, 320.0, 321.0, 322.0, 323.0, 324.0, 325.0, 326.0, 328.0, 329.0, 330.0, 333.0, 334.0, 335.0, 338.0, 339.0, 340.0, 343.0, 344.0, 345.0, 347.0, 349.0, 350.0, 352.0, 354.0, 355.0, 360.0, 363.0, 365.0, 367.0, 370.0, 372.0, 373.0, 375.0, 380.0, 381.0, 382.0, 383.0, 385.0, 387.0, 388.0, 389.0, 390.0, 393.0, 394.0, 395.0, 396.0, 400.0, 401.0, 405.0, 407.0, 408.0, 409.0, 410.0, 411.0, 412.0, 413.0, 416.0, 420.0, 421.0, 422.0, 424.0, 425.0, 426.0, 430.0, 431.0, 435.0, 437.0, 440.0, 445.0, 450.0, 455.0, 456.0, 457.0, 460.0, 462.0, 466.0, 468.0, 469.0, 475.0, 476.0, 477.0, 480.0, 485.0, 487.0, 490.0, 492.0, 500.0, 507.0, 510.0, 512.0, 517.0, 520.0, 521.0, 522.0, 525.0, 528.0, 530.0, 537.0, 540.0, 544.0, 550.0, 555.0, 557.0, 558.0, 560.0, 564.0, 565.0, 570.0, 571.0, 575.0, 580.0, 585.0, 589.0, 591.0, 600.0, 605.0, 608.0, 609.0, 610.0, 612.0, 620.0, 625.0, 626.0, 630.0, 632.0, 635.0, 639.0, 640.0, 649.0, 650.0, 660.0, 662.0, 670.0, 690.0, 700.0, 702.0, 717.0, 720.0, 740.0, 750.0, 800.0}\n",
      "enginePower \n",
      "\n",
      "{'электро'}\n",
      "{nan}\n",
      "fuelType \n",
      "\n",
      "{1934, 1936, 1937, 1938, 1949, 1951, 1955, 1958, 1959, 1960, 1963, 1965, 1966, 1968, 1969, 1971, 1972, 1973, 1974, 1975, 1976, 1977, 1978, 1979, 1980, 1981, 1982, 1983, 1984, 1985, 1986, 1987, 1988, 1989, 1990, 1991, 1992, 1993, 1994, 1995, 1996, 1997, 1998, 1999, 2000, 2001, 2002, 2003, 2004, 2005, 2006, 2007, 2008, 2009, 2010, 2011, 2012, 2013, 2014, 2015, 2016, 2017, 2018, 2019, 2020, 1904}\n",
      "{nan, 'Audi A8 II (D3) Рестайлинг', 'Ford Taunus III', 'SEAT Leon II', 'Toyota Verso I Рестайлинг', 'Cadillac DeVille VII', 'Porsche 944 1981-1991', 'Chevrolet Bolt 2016-н.в.', 'Nissan X-Trail I', 'Mitsubishi L200 V Рестайлинг', 'Citroen DS5 2012-2015', 'MINI Cabrio III Рестайлинг', 'ZX Grand Tiger 2007-2013', 'Ford Windstar I', 'MINI Hatch I (R50)', 'Audi RS 4 II (B7)', 'Kia K900 II', 'Subaru Forester IV Рестайлинг 2', 'Toyota Succeed I', 'LADA (ВАЗ) 2102 1971-1986', 'Opel Commodore C', 'Land Rover Freelander I', 'Pontiac Grand AM IV', 'Citroen C3 II', 'Nissan Wingroad II (Y11) Рестайлинг', 'Toyota Highlander II (U40)', 'ИЖ 2126 «Ода» 1990-2005', 'Great Wall Hover 2005-2010', 'Mazda BT-50 I Рестайлинг', 'Rolls-Royce Silver Wraith 1946-1959', 'Saab 9-3 I', 'Geely CK (Otaka) I', 'Toyota Carina VII (T210)', 'Toyota Prius II Рестайлинг (XW20)', 'LADA (ВАЗ) 2329 1995-2019', 'Honda Civic VII', 'Chery IndiS (S18D) I', 'Honda Prelude IV', 'Subaru Impreza WRX STi I', 'Lexus GX II Рестайлинг 2', 'Ford Mondeo V', 'Mercedes-Benz SLK-Класс II (R171)', 'Mazda Xedos 9 I Рестайлинг', 'Cadillac Escalade III', 'Toyota Noah I (R60)', 'Dodge Aries 1981-1989', 'Nissan Serena IV (C26)', 'Ford Explorer I', 'Volvo S70 1997-2000', 'Toyota Progres 1998-2007', 'Toyota Auris II', 'Lexus LM I', 'Suzuki Grand Vitara II', 'Suzuki Swift I (Japan)', 'Toyota Camry Solara II', 'Volvo XC70 I', 'Mazda RX-8 I Рестайлинг', 'Geely MK Cross I', 'Honda Integra III', 'Ford Puma I', 'Mercedes-Benz CLK-Класс I (W208) Рестайлинг', 'Mitsubishi Libero I', 'LADA (ВАЗ) 2107 1982-2012', 'Honda Accord VI', 'ЗАЗ 965 1960-1970', 'Tatra T613 1973-1996', 'Skoda Octavia III (A7) Рестайлинг', 'Opel Corsa D Рестайлинг II', 'FAW Vita 2007-2010', 'Infiniti Q60 I', 'Nissan GT-R I Рестайлинг 1', 'Porsche 911 GT2 991', 'Mercedes-Benz S-Класс AMG III (W222, C217)', 'Volkswagen Type 2 T1', 'BMW 5 серии IV (E39)', 'Hyundai Sonata VIII (DN8)', 'Toyota Prius Alpha I (ZVW40/41)', 'Nissan Prairie II (M11)', 'Mercedes-Benz Vito I (W638)', 'Nissan Safari IV (Y60)', 'Toyota Chaser V (X90) Рестайлинг', 'Kia Shuma I', 'Subaru Legacy IV', 'Toyota Soarer III (Z30)', 'Mercedes-Benz A-Класс I (W168)', 'Renault Megane II', 'Peugeot Expert II Рестайлинг', 'MINI Hatch III (F55/F56) Рестайлинг', 'FAW Besturn X80 I', 'Vortex Corda 2010-2012', 'Nissan Murano III (Z52)', 'Volvo S60 III', 'BMW 7 серии V (F01/F02/F04) Рестайлинг', 'Toyota Platz 1999-2005', 'Hyundai i30 III', 'Subaru Impreza II Рестайлинг 1', 'Mitsubishi L200 V', 'Kia Rio III', 'Chevrolet Cruze I', 'Pontiac Vibe I Рестайлинг', 'Mazda 323 V (BA)', 'Toyota Corolla II IV (L40)', 'Chevrolet Aveo I', 'BMW 4 серии G22, G23', 'Nissan March III (K12)', 'Honda Elysion I Рестайлинг', 'Москвич 403 1962-1965', 'Citroen XM I', 'Mercury Sable III', 'Hyundai Solaris I', 'Ford Sierra I', 'Audi A5 II (F5)', 'Chevrolet Camaro VI Рестайлинг', 'Fiat Stilo 2001-2007', 'Renault Scenic II Рестайлинг', 'Jaguar XJ I (Series 3)', 'BMW X5 II (E70)', 'Mercedes-Benz CLA II (C118, X118)', 'Volkswagen Golf I', 'Toyota RAV4 III (XA30) Рестайлинг', 'Mercedes-Benz GLK-Класс I (X204) Рестайлинг', 'Mercedes-Benz AMG GT I Рестайлинг', 'Toyota Vellfire I', 'Ford Aerostar 1986-1997', 'Porsche Cayenne I (955)', 'Mazda CX-5 I', 'Dodge Dart 2012-2016', 'Honda Civic VI', 'Buick LeSabre VI', 'Land Rover Range Rover Evoque I Рестайлинг', 'Kia Carens I', 'Audi 200 II (C3)', 'Suzuki Escudo I', 'Suzuki Wagon R II', 'Hyundai Sonata VII (LF) Рестайлинг', 'Mercedes-Benz GLA II (H247)', 'Volvo 240 Series 1974-1993', 'Ford Focus ST II', 'Mazda Capella VI', 'Toyota Corolla VII (E100)', 'Nissan Qashqai II Рестайлинг', 'Acura RDX I', 'Peugeot 405 1987-2014', 'Chrysler Saratoga 1989-1995', 'Daihatsu Move VI', 'Toyota Echo 1999-2005', 'Fiat Palio I Рестайлинг', 'MINI Countryman II', 'BMW 5 серии IV (E39) Рестайлинг', 'Chevrolet Avalanche I', 'Rolls-Royce Ghost I Рестайлинг (Series II)', 'Nissan Qashqai+2 I Рестайлинг', 'Infiniti Q70 I Рестайлинг', 'Packard Clipper 1941-1947', 'Peugeot 207 I', 'Hyundai Santa Fe II Рестайлинг', 'Dodge Durango III Рестайлинг', 'Toyota Sienna III Рестайлинг 2', 'Mitsubishi Pajero Sport I Рестайлинг', 'Toyota Sprinter Trueno VII (AE110/AE111)', 'Renault Clio II Рестайлинг', 'Suzuki XL7 2007-2009', 'Honda Accord IX Рестайлинг', 'Mitsubishi Chariot III', 'Opel Monterey A рестайлинг', 'Hyundai ix35 I', 'Maserati Quattroporte IV', 'Mercedes-Benz Maybach GLS I', 'Suzuki Ignis II (HR)', 'Audi RS 6 III (C7)', 'Volkswagen Passat B2', 'Alfa Romeo Giulietta III', 'Opel Vectra C Рестайлинг', 'BMW X7 I (G07)', 'Mitsubishi Pajero Pinin 1998-2006', 'Mercedes-Benz AMG GT I', 'Jaguar XJ II (X308)', 'Honda Stepwgn IV', 'Mercedes-Benz M-Класс I (W163)', 'Mitsubishi L200 III', 'Citroen C4 Picasso II Рестайлинг', 'Mitsubishi Pajero IV Рестайлинг 2', 'Ford Mustang V', 'Mercedes-Benz R-Класс I Рестайлинг 2', 'Lexus GS I', 'УАЗ Patriot I Рестайлинг 3', 'Nissan Otti II (H92)', 'Opel Tigra A', 'BMW M5 III (E39)', 'Hyundai Accent II Рестайлинг', 'Citroen C-Crosser 2007-2013', 'Toyota Corolla IX (E120, E130) Рестайлинг', 'Honda Civic VIII', 'Acura TL II Рестайлинг', 'Hafei Brio 2002-2010', 'ЗАЗ Chance 2009-2014', 'Nissan Elgrand III (E52)', 'Changan Eado 2013-2018', 'Geely FC (Vision) 2006-2011', 'Audi A6 V (C8)', 'Volvo 960 I', 'Volkswagen Caravelle T5 Рестайлинг', 'Citroen C4 II Рестайлинг', 'MG ZT 2001-2005', 'Nissan Wingroad II (Y11)', 'Suzuki X-90 1995-2000', 'Mercedes-Benz GLK-Класс I (X204)', 'Chevrolet Camaro VI', 'Audi Q3 Sportback I (F3)', 'Toyota Mark II IV (X60)', 'Cadillac Seville IV', 'Nissan NP300 2008-2015', 'Mazda 6 MPS 2005-2008', 'Mitsubishi Libero I Рестайлинг', 'Lincoln Navigator IV', 'Honda Torneo 1997-2002', 'Toyota Ipsum I (M10)', 'Kia Venga I', 'Renault Kaptur I Рестайлинг', 'Chery QQ6 (S21) 2006-2010', 'Suzuki Grand Vitara III', 'Mercedes-Benz GLA AMG I (X156)', 'Volvo S40 II', 'Skoda Felicia I Рестайлинг', 'Chery Very (A13) 2011-2014', 'Citroen C3 I Рестайлинг', 'Nissan Maxima VII (A35)', 'Land Rover Freelander II Рестайлинг', 'Lamborghini Gallardo I', 'Hyundai Tucson III Рестайлинг', 'Audi A8 IV (D5)', 'Honda Partner I', 'Volkswagen Tiguan I Рестайлинг', 'BMW X5 I (E53)', 'Hyundai Creta I Рестайлинг', 'Porsche Boxster IV 718 (982)', 'Isuzu Gemini II', 'Chevrolet Volt II', 'Mercedes-Benz GLS II (X167)', 'Lexus IS II Рестайлинг 2', 'Ford S-MAX I', 'Audi A3 I (8L) Рестайлинг', 'Ford Explorer V', 'Mazda 323 IV (BG)', 'BMW 1 серии I (E81/E82/E87/E88)', 'Nissan Almera Tino I', 'BMW X5 M I (E70)', 'Audi 90 II (B3)', 'Mercedes-Benz E-Класс AMG IV (W212, S212)', 'Nissan Datsun D22', 'BMW M5 V (F10)', 'Nissan Bassara 1999-2003', 'Toyota Tacoma I Рестайлинг', 'Mercedes-Benz G-Класс AMG I (W463)', 'Mercedes-Benz S-Класс AMG I (W220) Рестайлинг', 'Kia Cerato IV', 'Mazda Tribute I', 'Kia Rio II', 'Opel Mokka I', 'Audi A8 II (D3) Рестайлинг 2', 'Mercedes-Benz GLC Coupe AMG I (C253)', 'Alpina B7 F01/F02 Рестайлинг', 'Jaguar F-Type I', 'Toyota Altezza 1998-2005', 'Kia Cerato II', 'Kia Picanto III', 'Ford Granada II', 'Toyota Ractis II', 'Subaru Stella I', 'Buick LeSabre I', 'Maserati Ghibli III Рестайлинг', 'Ford Escape I Рестайлинг 2', 'Bentley Mulsanne II Рестайлинг', 'Opel Monza 1978-1986', 'Opel Meriva A Рестайлинг', 'Honda Shuttle I', 'Ford EcoSport I Рестайлинг', 'Acura TL III', 'Ford Transit Connect I', 'Ford Explorer V Рестайлинг', 'Subaru Legacy III', 'Kia Sorento III Prime', 'Land Rover Defender I', 'Toyota Allex I', 'BMW 6 серии III (F06/F13/F12)', 'Renault Scenic III', 'Volvo V50 I', 'Mazda 6 III (GJ)', 'Honda Integra II', 'Toyota Auris II Рестайлинг', 'Nissan Tiida I', 'Mercedes-Benz E-Класс II (W210, S210) Рестайлинг', 'Nissan Altima II (L30) Рестайлинг', 'Ford Tourneo Custom I', 'Geely Atlas I', 'Pontiac Firebird IV', 'Chevrolet Tracker III', 'Daewoo Nubira II', 'BMW M5 V (F10) Рестайлинг', 'Audi RS Q3 I (8U)', 'Audi A6 allroad III (C7) Рестайлинг', 'Mitsubishi Lancer X Рестайлинг', 'Infiniti Q50 I', 'Subaru Impreza I', 'Rover 25 1999-2005', 'Citroen C3 I', 'Tesla Model S I Рестайлинг', 'Volvo 740 1983-1992', 'Mercedes-Benz M-Класс I (W163) Рестайлинг', 'Mitsubishi Outlander III Рестайлинг', 'SsangYong Kyron I', 'Renault Laguna II', 'Nissan Altima III (L31) Рестайлинг', 'Plymouth Voyager III', 'Toyota Raum I', 'Maybach 62 I Рестайлинг', 'Opel GT I', 'Renault Koleos I', 'Kia Cerato I', 'Москвич 400 1946-1956', 'Acura RDX II', 'Mercedes-Benz GLE Coupe II (C167)', 'Chevrolet Blazer II', 'Audi RS 6 II (C6)', 'Kia Carens II (UN)', 'Toyota Aristo II', 'Renault Duster I Рестайлинг', 'Mitsubishi Space Runner I', 'Dodge Neon II', 'Fiat Punto III Punto Evo', 'Kia Proceed I', 'Skoda Octavia RS III', 'Renault Vel Satis I', 'Volvo S80 II', 'Toyota Land Cruiser Prado 90 Series Рестайлинг', 'Opel Vectra OPC C Рестайлинг', 'Volkswagen Golf V', 'Porsche 911 VIII (992)', 'Buick LaCrosse III', 'Ford Tourneo Connect I Рестайлинг', 'Ferrari 599 2006-2012', 'Volkswagen Caravelle T6 Рестайлинг', 'Haima 3 2010-2013', 'Great Wall Peri 2008-2010', 'Porsche Panamera I Рестайлинг', 'Nissan Skyline X (R34)', 'Toyota Corsa V (L50) Рестайлинг', 'Acura TSX I', 'Mercedes-Benz GLA I (X156)', 'Toyota Camry III (XV10)', 'Volvo V70 II Рестайлинг', 'ЛуАЗ 967 1965-1989', 'Toyota Caldina II Рестайлинг', 'Chevrolet Blazer II Рестайлинг', 'Skoda Superb III Рестайлинг', 'Cadillac CTS I', 'BMW 7 серии II (E32)', 'Volkswagen Tiguan II', 'Ligier JS 51 I', 'Honda FR-V 2004-2009', 'Chevrolet Suburban XI', 'Audi S4 IV (B8)', 'Brilliance V3 I Рестайлинг', 'Renault Sandero II', 'Renault Clio II Рестайлинг 2', 'BMW 326 I', 'Chevrolet Volt I', 'GMC Suburban 1992-1999', 'Lincoln Zephyr 1936-1942', 'Chrysler Pacifica RU Рестайлинг', 'Oldsmobile Eighty-Eight VIII', 'Toyota Land Cruiser 70 Series', 'Jeep Compass I Рестайлинг', 'Suzuki Wagon R V Рестайлинг', 'Alfa Romeo 90 1984-1987', 'Chevrolet Tahoe I', 'Mercedes-Benz SL-Класс AMG III (R231) Рестайлинг', 'Kia Sorento I', 'Mercedes-Benz GLA I (X156) Рестайлинг', 'Mitsubishi Galant IX', 'Toyota Windom I (XV10)', 'Isuzu VehiCross 1997-2001', 'Toyota Chaser II (X60)', 'Opel Corsa D Рестайлинг I', 'Chrysler Sebring II Рестайлинг', 'Bentley Arnage I Рестайлинг', 'Renault Fluence I', 'Toyota Town Ace V', 'BMW 6 серии IV (G32) Рестайлинг', 'Oldsmobile Cutlass Supreme 1988-1997', 'Kia Magentis I Рестайлинг', 'Audi S5 I (8T)', 'Toyota Previa II (XR30, XR40)', 'Mercedes-Benz W188 1951-1958', 'JAC S5 (Eagle) I Рестайлинг', 'Mazda Lantis 1993-1997', 'Nissan Bluebird XI (U14)', 'Ford C-MAX I', 'Acura RDX III', 'Citroen C5 I', 'Nissan Juke I Рестайлинг', 'Nissan Pathfinder II', 'Volvo S60 II', 'Audi A4 III (B7)', 'Ford Explorer II', 'Audi A6 III (C6) Рестайлинг', 'Nissan Terrano II', 'Toyota Land Cruiser 40 Series', 'Kia Optima IV', 'Volkswagen Golf VI', 'Jeep Wrangler II (TJ)', 'Chevrolet Cruze I Рестайлинг', 'Kia Mohave I Рестайлинг', 'Honda Jazz I', 'Nissan Liberty 1998-2004', 'Ford Custom 1949-1955', 'Kia Carens I (RS) Рестайлинг', 'Renault Modus I Рестайлинг', 'Toyota Auris I Рестайлинг', 'Ravon Nexia R3 2015-н.в.', 'Nissan Cube II (Z11)', 'Dodge Durango I', 'Mitsubishi Lancer Evolution IV', 'Subaru Legacy I', 'AMC Eagle 1979-1987', 'Hyundai Elantra III (XD)', 'Land Rover Range Rover Sport II', 'SEAT Toledo III', 'Toyota Sprinter VIII (E110)', 'Volvo XC70 I Рестайлинг', 'Ford Mondeo I', 'Mercedes-Benz W124 1984-1993', 'Geely SC7 2011-2015', 'Hyundai Avante IV', 'Audi 100 IV (C4)', 'Suzuki Wagon R+ I', 'Toyota RAV4 I (XA10)', 'Mitsubishi Dion I', 'Saab 9-5 I', 'Mercedes-Benz SL-Класс III (R107)', 'Toyota Voxy III (R80)', 'Opel Corsa D', 'ГАЗ 24 «Волга» II (2410)', 'Subaru Forester III Рестайлинг', 'Volkswagen Polo V Рестайлинг', 'Toyota Aristo I', 'Skoda Fabia RS II', 'Daihatsu Delta Wagon III', 'SsangYong Korando II', 'Renault Kangoo I', 'Subaru WRX I', 'Toyota Ist I', 'MG F 1995-2002', 'Renault Koleos I Рестайлинг 2', 'Mazda 3 I (BK)', 'Opel Insignia I', 'Toyota Corolla XI (E160, E170) Рестайлинг', 'Skoda Karoq I', 'Kia Soul III', 'GMC Yukon II (GMT800)', 'Skoda Roomster I Рестайлинг', 'Maserati Ghibli III', 'MG ZR 2001-2005', 'ГАЗ М-72 1955-1958', 'Nissan Cefiro III (A33)', 'BMW 3 серии VII (G2x)', 'BMW Z3 I', 'Mazda Demio I (DW)', 'Mercedes-Benz E-Класс AMG II (W210, S210)', 'Kia Clarus I', 'Mazda CX-7 I Рестайлинг', 'Volkswagen Multivan T5', 'Chrysler Voyager V', 'Ford Escort V Рестайлинг 2', 'DKW 3=6 F91', 'Lincoln Navigator III', 'Skoda Superb III', 'Toyota COMS 2012-н.в.', 'Toyota Chaser VI (X100) Рестайлинг', 'Hummer H3 2005-2010', 'Ford Taurus II', 'Toyota Estima III Рестайлинг', 'Volkswagen Sharan I', 'Toyota Land Cruiser 200 Series Рестайлинг 2', 'Ford Expedition II', 'Subaru Impreza WRX STi II', 'Mercedes-Benz GL-Класс I (X164)', 'Mitsubishi Pajero Sport III', 'Kia Spectra I Рестайлинг 2', 'Toyota Sprinter Trueno V (AE91/AE92)', 'Nissan Micra III (K12)', 'Toyota Prius III (XW30)', 'Mazda Flair I', 'Subaru Pleo Plus I Рестайлинг', 'Volkswagen Transporter T5 Рестайлинг', 'Honda Fit II', 'Saab 9-5 I Рестайлинг', 'Lexus LS IV', 'Volkswagen Golf GTI V', 'Volkswagen Lupo 1998-2005', 'LADA (ВАЗ) 2114 2001-2013', 'Daimler X350 2005-2009', 'Suzuki Every IV', 'Mitsubishi Pajero Sport III Рестайлинг', 'Citroen DS4 2011-2015', 'Dodge Challenger III Рестайлинг 2', 'Dodge Stratus II', 'Great Wall Wingle I (Wingle 3)', 'Suzuki Grand Vitara II Рестайлинг', 'Audi A6 allroad II (C6) Рестайлинг', 'Toyota Venza I', 'Citroen C5 Aircross I', 'Jeep Grand Cherokee IV (WK2) Рестайлинг', 'Land Rover Discovery Sport I Рестайлинг', 'Ford Mustang V Рестайлинг', 'Honda Odyssey II', 'Mercedes-Benz Vito II (W639) Рестайлинг', 'Audi A4 allroad IV (B8) Рестайлинг', 'Peugeot Partner I Рестайлинг', 'Volkswagen Jetta VII', 'Mitsubishi Eclipse III', 'Brilliance V5 I Рестайлинг', 'Peugeot 208 I', 'Bentley Continental GT II Рестайлинг', 'Mercedes-Benz Vito II (W639)', 'Chevrolet Equinox III', 'BMW X5 M II (F85)', 'Nissan Pathfinder III Рестайлинг', 'Mitsubishi Outlander II Рестайлинг', 'Daihatsu Sirion I (M1)', 'Mercedes-Benz S-Класс VII (W223)', 'Hyundai H-1 II', 'Mercedes-Benz C-Класс III (W204)', 'Subaru Forester IV', 'Kia Rio IV Рестайлинг', 'Land Rover Discovery III', 'Brilliance V5 I', 'Mazda Familia Y11', 'УАЗ Patriot I', 'ЛуАЗ 1302 Волынь 1990-2001', 'ГАЗ 3110 «Волга» 1997-2008', 'Citroen Berlingo II Рестайлинг', 'BMW X5 III (F15)', 'Ford Scorpio I', 'Volkswagen Eos I', 'Alpina B3 E90/E92', 'Mercedes-Benz R-Класс I Рестайлинг', 'Mercedes-Benz GL-Класс I (X164) Рестайлинг', 'Jeep Cherokee V (KL)', 'Kia Cerato III', 'Lexus LX III Рестайлинг', 'Nissan Terrano R50', 'Rover 600 1993-1999', 'SsangYong Actyon II', 'Jaguar XF I Рестайлинг', 'LADA (ВАЗ) 2129 1992-1996', 'Audi S6 IV (C7)', 'Chevrolet Cobalt II Рестайлинг', 'Volvo S80 I', 'Toyota 4Runner II', 'Mercedes-Benz S-Класс III (W140) Рестайлинг', 'Volkswagen Transporter T4', 'Hyundai i40 I Рестайлинг', 'Toyota Fortuner II', 'Volkswagen Fox I', 'Fiat Coupe 1993-2001', 'Alfa Romeo 145 I', 'ГАЗ 2330 «Тигр» 2004-н.в.', 'Toyota Corolla X (E140, E150)', 'Mercedes-Benz SL-Класс IV (R129) Рестайлинг', 'Chevrolet Cobalt II', 'Cadillac XT6 I', 'BMW 5 серии III (E34)', 'Ford Kuga I', 'Chevrolet Malibu IX', 'Honda Accord IX', 'Jaguar XE I', 'Ferrari California I', 'BMW Z4 I (E85/E86)', 'Toyota Estima I', 'Hyundai Matrix I Рестайлинг 2', 'Mitsubishi Colt V (CJ)', 'Kia Sportage II Рестайлинг', 'LADA (ВАЗ) 2112 1998-2009', 'Volkswagen Phaeton I', 'Mitsubishi Delica IV', 'Peugeot 4007 2007-2012', 'Ford Explorer Sport Trac I', 'Bentley Arnage I', 'Mitsubishi Pajero iO 1998-2007', 'Porsche Cayenne II (958)', 'Audi RS 6 I (C5)', 'Volkswagen Passat B5 Рестайлинг', 'Opel Agila A', 'Honda Civic IX Рестайлинг', 'Skoda Superb I Рестайлинг', 'Chery Fora (A21) 2006-2011', 'Opel Rekord E', 'Audi 920 I', 'ЗАЗ Lanos 2004-2015', 'Infiniti M IV', 'Chevrolet Silverado II (GMT900)', 'Suzuki Samurai 1981-2003', 'Lexus RX IV Рестайлинг', 'Mercedes-Benz SLK-Класс II (R171) Рестайлинг', 'Volkswagen Passat B3', 'Ford Mustang VI', 'Hyundai i30 I', 'Москвич 2137 1976-1985', 'Mercedes-Benz B-Класс I (W245)', 'Honda Avancier I', 'Toyota Land Cruiser 80 Series Рестайлинг', 'Chevrolet S-10 Pickup I', 'LADA (ВАЗ) 2131 (4x4) I Рестайлинг (2020)', 'Pontiac Bonneville IX', 'Peugeot 3008 I', 'Audi A7 I (4G)', 'Toyota Corolla VIII (E110)', 'Daewoo Rezzo 2000-2008', 'Kia Picanto II Рестайлинг', 'Land Rover Discovery IV Рестайлинг', 'Alpina B6 F12/F13', 'BMW 7 серии III (E38)', 'Geely Coolray I', 'Toyota Avensis Verso I', 'Chery Kimo (A1) 2007-2014', 'Audi S5 I (8T) Рестайлинг', 'Skoda Fabia II Рестайлинг', 'Honda Accord VIII Рестайлинг', 'Mitsubishi Eclipse Cross I', 'Chevrolet Tahoe IV', 'Kia Rio I Рестайлинг', 'Nissan Cedric V (430)', 'Toyota Yaris II Рестайлинг', 'Nissan Maxima VI (A34)', 'Jeep Grand Cherokee III (WK)', 'Kia Clarus II', 'Oldsmobile Silhouette I', 'Porsche Cayenne II Рестайлинг (958)', 'Maserati Quattroporte VI', 'Suzuki SX4 I (Classic)', 'Kia K5 III', 'Iran Khodro Samand 2002-н.в.', 'Volkswagen Golf VII', 'BMW 5 серии V (E60/E61)', 'Volkswagen Caravelle T5', 'Mazda 6 II (GH) Рестайлинг', 'Mazda 121 II', 'BMW X1 I (E84) Рестайлинг', 'SEAT Ibiza II', 'Vortex Tingo I', 'Peugeot 607 I Рестайлинг', 'Nissan Vanette II', 'Volvo V70 III', 'Land Rover Range Rover Velar I', 'SsangYong Korando Sports 2011-2017', 'Audi RS 5 II (F5)', 'Lexus RC I', 'Chrysler Town & Country V', 'Nissan Wingroad III (Y12)', 'Toyota Corolla Spacio II', 'Ford C-MAX I Рестайлинг', 'Nissan Dayz I Рестайлинг', 'Toyota Lite Ace II', 'Mazda 3 IV (BP)', 'Mercedes-Benz S-Класс VI (W222, C217)', 'Nissan Terrano II Рестайлинг 2', 'Lexus CT I', 'Hyundai Starex I', 'Mercedes-Benz Vaneo 2001-2005', 'Ford Granada I', 'Mercedes-Benz SLK-Класс I (R170)', 'Ford Kuga II Рестайлинг', 'Hyundai Grand Starex I Рестайлинг', 'Toyota Crown XII (S180)', 'Jaguar XJ IV (X351)', 'Lexus SC II Рестайлинг', 'Porsche 911 VI (997) Рестайлинг', 'Ferrari 488 2018-н.в.', 'Renault Symbol ll', 'Hyundai Accent IV', 'Great Wall Sailor 2003-2010', 'Geely MK I Рестайлинг', 'Subaru Outback V', 'Volvo V40 Cross Country I', 'Toyota Caldina III', 'Volkswagen Touran II', 'SEAT Ibiza III Рестайлинг', 'Ford Fiesta Mk5', 'Rolls-Royce Phantom VIII', 'Alfa Romeo 166 I', 'Volkswagen Pointer 2003-2006', 'Ford Expedition I', 'Opel Corsa OPC D', 'Jaguar S-Type I Рестайлинг', 'SsangYong Korando Turismo I', 'Audi A4 V (B9) Рестайлинг', 'BMW X3 II (F25)', 'Nissan President I (150, 250)', 'Honda Fit III', 'Mitsubishi Space Gear I', 'Lexus IS II', 'BMW M6 II (E63/E64)', 'Nissan Juke Nismo I', 'Mitsubishi Galant IX Рестайлинг 2', 'LTI TX II', 'MINI Countryman I', 'Pontiac Vibe II', 'Renault Talisman 2015-2020', 'Jaguar F-Type I Рестайлинг', 'JAC S3 2014-н.в.', 'BMW 7 серии VI (G11/G12)', 'MG MGB 1966-1980', 'Kia Sportage IV Рестайлинг', 'Dodge Durango II Рестайлинг', 'Suzuki Wagon R I', 'Suzuki Splash I', 'Hyundai Galloper I', 'Toyota Tundra II', 'Mercedes-Benz G-Класс AMG I (W463) Рестайлинг 2', 'Nissan AD III', 'Mazda MPV II (LW) Рестайлинг', 'Volvo V40 II', 'Suzuki Wagon R+ II', 'Audi Q3 II (F3)', 'Cadillac Fleetwood II', 'Mercury Villager II', 'Ford Taurus III', 'Nissan Leaf I (ZE0/AZE0)', 'ЗАЗ Vida 2012-2016', 'Chevrolet Lumina 1989-2001', 'Nissan Vanette IV', 'Great Wall Pegasus 2006-2008', 'Chery Amulet (A15) I', 'Isuzu Axiom 2002-2004', 'BMW i3 I (I01)', 'Toyota HiAce H100', 'BMW 6 серии IV (G32)', 'Toyota ISis I', 'Ferrari 812 2017-н.в.', 'Mercedes-Benz M-Класс AMG II (W164)', 'Ferrari Portofino I', 'Toyota Sienna III', 'Toyota Sienna II Рестайлинг', 'Hyundai Accent I', 'BMW 3 серии I (E21)', 'Mitsubishi L400 1995-2006', 'Daihatsu Cuore V (L700)', 'ГАЗ 3102 «Волга» 1982-2009', 'Nissan Bluebird Sylphy I (G10)', 'Fiat Brava 1995-2001', 'Volkswagen Jetta III', 'Mercedes-Benz E-Класс II (W210, S210)', 'Chevrolet Epica I Рестайлинг', 'Honda Element I', 'Ravon R2 2016-н.в.', 'Suzuki Swift IV', 'Chrysler Town & Country IV Рестайлинг', 'ТагАЗ Road Partner 2008-2011', 'Toyota Corolla V (E80)', 'SEAT Alhambra II', 'Rover 75 I Рестайлинг', 'SEAT Toledo I', 'Doninvest Orion 1998-2002', 'Dodge Charger VI (LD) Рестайлинг', 'BMW 5 серии VI (F10/F11/F07)', 'Chevrolet Aveo I Рестайлинг', 'Hyundai Starex I Рестайлинг 2', 'Audi Q7 I (4L) Рестайлинг', 'Toyota Supra IV (A80) Рестайлинг', 'Ford Galaxy I Рестайлинг', 'Volvo XC60 II', 'Cadillac ATS I Рестайлинг', 'Chevrolet Cruze (HR) 2001-2008', 'BMW 3 серии V (E90/E91/E92/E93)', 'Toyota Land Cruiser Prado 90 Series', 'Chevrolet Epica I', 'Lincoln Navigator I', 'Opel Vectra B', 'Toyota Mark X ZiO 2007-2013', 'Audi A3 II (8P)', 'Subaru Impreza III', 'ГАЗ 3111 «Волга» 2000-2004', 'Mercedes-Benz W128 1958-1960', 'Chery Tiggo 2 I', 'Kia Ceed III', 'Nissan Leaf II (ZE1)', 'Jaguar XF I', 'Ford Fusion I', 'Maserati GranTurismo 2007-2019', 'Toyota Sienta I Рестайлинг 1', 'Volkswagen Passat B7', 'Jaguar XJ III (X350/X358)', 'Renault Kangoo II Рестайлинг', 'Honda CR-V II', 'Hyundai Sonata IV (EF) Рестайлинг', 'Mercedes-Benz CLA I (C117, X117) Рестайлинг', 'LADA (ВАЗ) 2105 1979-2011', 'Maybach 57 I', 'Chevrolet Silverado I (GMT800) Рестайлинг', 'Mazda CX-9 I', 'Audi RS 5 I (8T)', 'Mazda 616 1970-1978', 'Renault Twingo I', 'Mitsubishi Challenger I', 'Daihatsu Coo 2006-2013', 'Opel Frontera A', 'Mercedes-Benz E-Класс I (W124)', 'Porsche Cayman I (987) Рестайлинг', 'Mercedes-Benz C-Класс AMG IV (W205)', 'Toyota Verossa 2001-2004', 'Honda Accord V', 'Mercedes-Benz A-Класс II (W169) Рестайлинг', 'Bentley Mulsanne II', 'Lexus GS II', 'Hyundai H-1 I Рестайлинг', 'BMW 2 серии F22', 'Mercedes-Benz W111 1959-1971', 'Chery CrossEastar (B14) 2006-2014', 'Volkswagen Multivan T6 Рестайлинг', 'Citroen C4 I', 'Porsche Taycan I', 'Hyundai Elantra VI (AD)', 'Renault Megane RS III', 'Dodge Caliber I', 'Lexus LC I', 'Toyota Corolla Verso I Рестайлинг', 'Cadillac XT5 I', 'Volkswagen Passat B8 Рестайлинг', 'Volkswagen Polo IV', 'Mazda 6 III (GJ) Рестайлинг 2', 'Subaru Outback IV', 'Subaru Traviq 2001-2004', 'Nissan Sunny B15', 'Daihatsu Terios II', 'Mitsubishi Delica D:2 I', 'Mazda Xedos 6 1992-2000', 'Peugeot 406 I Рестайлинг', 'Mitsubishi Airtrek 2001-2008', 'Toyota Noah III (R80)', 'Mitsubishi Diamante II', 'Volvo XC90 II', 'BMW X6 I (E71) Рестайлинг', 'Volkswagen Passat B6', 'Mercedes-Benz 190 SL R121', 'Toyota Corolla Spacio I', 'Opel Corsa B', 'Rover 200 III (R3)', 'Dacia Logan I', 'Mercedes-Benz A-Класс III (W176) Рестайлинг', 'Toyota Sprinter Trueno VI (AE100/AE101)', 'Toyota Voxy II (R70)', 'Honda Accord VIII', 'ГАЗ 12 ЗИМ 1948-1960', 'Infiniti QX50 I', 'Toyota Cresta V (X100) Рестайлинг', 'Peugeot 301 I', 'Daihatsu Hijet X', 'Audi TT I (8N) Рестайлинг', 'Volkswagen Sharan I Рестайлинг 2', 'Chrysler LHS II', 'Smart Fortwo I Рестайлинг', 'Chrysler Voyager IV', 'Toyota Corona VII (T140, T150, T160)', 'Skoda Fabia I', 'Nissan Dayz I', 'Suzuki SX4 II (S-Cross)', 'Mazda 3 I (BK) Рестайлинг', 'SsangYong Musso I', 'Nissan Skyline VIII (R32)', 'Mitsubishi Lancer Ralliart X', 'Geely Emgrand X7 I', 'Kia Soul II', 'Nissan Micra II (K11)', 'Volvo V40 I', 'Porsche Cayenne III', 'Chevrolet Evanda 2004-2006', 'SsangYong Actyon Sports II', 'Volkswagen Multivan T5 Рестайлинг', \"Nissan R'nessa 1997-2001\", 'Lexus GS IV', 'Honda Civic Type R VII', 'Toyota Sienna I', 'Mitsubishi Eclipse I', 'Citroen C3 Picasso I', 'Hyundai Tucson I', 'Kia Soul I', 'Honda CR-V II Рестайлинг', 'Mercedes-Benz G-Класс II (W463) Рестайлинг 2', 'Toyota Land Cruiser Prado 150 Series Рестайлинг 2', 'Mercedes-Benz GLE Coupe I (C292)', 'Subaru XV I', 'ЗИЛ 114 1967-1978', 'Audi S8 I (D2) Рестайлинг', 'Citroen C4 Picasso I', 'Audi A3 I (8L)', 'Toyota Aqua I Рестайлинг', 'Toyota Town Ace I', 'Hyundai Sonata V (NF)', 'Toyota Mark II V (X70)', 'Ford Focus II Рестайлинг', 'Lifan Smily I Рестайлинг (330)', 'Fiat Punto III Grande Punto', 'Suzuki Grand Vitara III Рестайлинг', 'Toyota Yaris I', 'Volvo S60 I', 'Toyota Highlander III (U50) Рестайлинг', 'Nissan X-Trail II Рестайлинг', 'Volkswagen Caravelle T4', 'Chrysler Sebring I', 'Ford EcoSport I', 'Opel Meriva A', 'Mercedes-Benz C-Класс AMG IV (W205) Рестайлинг', 'FAW Besturn B50 I', 'Suzuki SX4 I (Classic) Рестайлинг', 'Audi A3 II (8P) Рестайлинг 1', 'Ford Sierra I Рестайлинг', 'Toyota Highlander II (U40) Рестайлинг', 'Volkswagen Polo V', 'LADA (ВАЗ) 2104 1984-2012', 'Chrysler Cirrus 1994-2000', 'Mazda 3 MPS II Рестайлинг', 'Chery Tiggo 5 I Рестайлинг', 'Ford Ranger II Рестайлинг', 'Jeep Compass I Рестайлинг 2', 'Volvo 940 1988-1998', 'Mitsubishi Legnum 1996-2002', 'ЗАЗ 968 1972-1994', 'Lexus NX I Рестайлинг', 'Citroen C2 2003-2009', 'Hafei Simbo 2006-2008', 'Mercury Sable I', 'Alfa Romeo 146 1994-2001', 'Opel Vectra A', 'Mazda Demio II (DY)', 'Toyota Passo II (C30)', 'Citroen C1 I Рестайлинг', 'Kia Ceed II', 'BMW Z4 II (E89) Рестайлинг', 'Peugeot 5008 II', 'Kia Sephia I Рестайлинг', 'Chery Tiggo 4 I Рестайлинг', 'Mercedes-Benz C-Класс II (W203)', 'Jeep Wrangler I (YJ)', 'Chrysler Sebring II', 'Mercedes-Benz CLS AMG III (C257)', 'Hyundai Elantra V (MD) Рестайлинг', 'Lexus ES V Рестайлинг', 'Saab 900 II', 'Nissan Primera III (P12)', 'BMW 6 серии II (E63/E64) Рестайлинг', 'Volkswagen Jetta I', 'Mitsubishi eK Wagon III', 'Renault Clio RS II Рестайлинг', 'Mitsubishi FTO 1994-2001', 'Fiat Linea 2007-2018', 'Lexus IS III Рестайлинг', 'Lexus LX III', 'Mercedes-Benz GL-Класс AMG 2012-2016', 'Toyota bB II Рестайлинг', 'Hyundai i30 N 2017-н.в.', 'Ariel Atom 1996-н.в.', 'Geely MK I', 'Audi SQ5 I (8R)', 'Kia Sorento II Рестайлинг', 'Nissan Murano II (Z51) Рестайлинг', 'Mercedes-Benz GLS I (X166)', 'Toyota Verso I', 'Jaguar E-Pace I', 'Toyota Prius I Рестайлинг (XW10)', 'Renault Laguna II Рестайлинг', 'Mitsubishi Aspire 1998-2003', 'Opel Astra G', 'Nissan Laurel VI (C33)', 'Hyundai Grandeur V', 'Ford Mustang VI Рестайлинг', 'Audi A6 II (C5)', 'Citroen Berlingo I Рестайлинг', 'Chrysler 300C II Рестайлинг', 'Nissan Presage I', 'Borgward 2000 1939-1942', 'Honda Civic IV', 'Toyota Harrier I (XU10)', 'Bentley Continental I', 'Citroen DS I Рестайлинг 2', 'Lifan Cebrium (720) 2014-2018', 'MINI Cabrio III', 'Rover 45 1999-2005', 'Chevrolet Deluxe II', 'Nissan NV200 2009-н.в.', 'Daewoo Matiz I Рестайлинг', 'Volkswagen Polo IV Рестайлинг', 'Jeep Grand Cherokee I (ZJ)', 'Smart Fortwo II', 'Toyota Hilux VIII Рестайлинг', 'Mercedes-Benz S-Класс AMG III (W222, C217) Рестайлинг', 'Ferrari California I Рестайлинг (T)', 'Great Wall Cowry (V80) 2007-2014', 'Isuzu Bighorn II', 'Toyota Lite Ace V', 'Nissan Teana I Рестайлинг', 'Opel Vectra B Рестайлинг', 'Mercedes-Benz W110 First Series', 'Porsche 911 VII (991) Рестайлинг', 'Chevrolet Cavalier III', 'Toyota Celica VII (T230)', 'MINI Clubman I Рестайлинг', 'Daewoo Gentra II', 'BMW 5 серии VI (F10/F11/F07) Рестайлинг', 'Nissan Gloria VII (Y30)', 'Chrysler 300C I', 'Haval H9 I', 'Suzuki Jimny IV', 'BMW 6 серии II (E63/E64)', 'Nissan Tino 1998-2003', 'Mercedes-Benz CLS I (C219) Рестайлинг', 'Hyundai Lantra II', 'Renault Trafic III', 'Honda Stream I', 'Citroen C4 Picasso II', 'Москвич 407 1958-1963', 'Mitsubishi Pajero II', 'Ford Laser IV', 'Ford Mustang IV Рестайлинг', 'Jeep Grand Cherokee IV (WK2)', 'Tesla Model X I', 'Honda Mobilio Spike I', 'Mercedes-Benz CLK-Класс II (W209) Рестайлинг', 'Dodge Magnum I', 'Mazda BT-50 I', 'BYD F3 I', 'Acura MDX II Рестайлинг', 'Haval F7 I', 'Москвич 2141 1986-1998', 'Nissan Cedric VII (Y31)', 'Chevrolet Spark III', 'Honda CR-V V', 'Kia Magentis I', 'Hyundai H200 I', 'Peugeot 1007 2005-2009', 'Toyota Corolla Verso I Рестайлинг 2', 'Nissan X-Trail III', 'BMW 7 серии VI (G11/G12) Рестайлинг', 'Luxgen U7 Turbo 2013-н.в.', 'Гоночный автомобиль Формула 1950-н.в.', 'Peugeot RCZ I', 'Chevrolet Camaro II', 'Hyundai Matrix I', 'Mazda CX-9 I Рестайлинг', 'Land Rover Discovery IV', 'Toyota Vitz I (P10)', 'Mazda MX-5 II (NB) Рестайлинг', 'Honda S2000 I (AP1)', 'Toyota Mega Cruiser 1995-2001', 'DongFeng S30 2013-2017', 'Volvo S60 II Рестайлинг', 'LADA (ВАЗ) Niva I', 'Mercedes-Benz M-Класс AMG I (W163)', 'Lincoln MKC I', 'Nissan Maxima III (J30)', 'Chery Bonus 3 (E3/A19) 2014-2017', 'Fiat Doblo II Рестайлинг', 'Genesis G90 I Рестайлинг', 'Great Wall Florid 2008-2013', 'Audi TT I (8N)', 'Peugeot 3008 I Рестайлинг', 'Toyota Blade I (E150)', 'Audi A6 IV (C7) Рестайлинг', 'BMW 2 серии F22 Рестайлинг', 'Toyota Celica VI (T200)', 'Renault Kangoo II', 'BMW X5 I (E53) Рестайлинг', 'Toyota Highlander III (U50)', 'Mercedes-Benz Maybach S-Класс I (X222) Рестайлинг', 'Volkswagen Vento 1991-1998', 'Plymouth Acclaim 1989-1995', 'Hummer H2 I Рестайлинг', 'BMW X5 II (E70) Рестайлинг', 'Lexus LX I', 'Mercedes-Benz CLS II (C218) Рестайлинг', 'Volvo XC60 I', 'Volkswagen Golf GTI VII', 'Infiniti Q50 I Рестайлинг', 'Ford Fiesta Mk6', 'Cadillac Escalade V', 'Renault Symbol I Рестайлинг', 'Renault Laguna III', 'Kia Shuma II', 'Honda Accord X', 'BMW i8 I Рестайлинг', 'SEAT Ibiza IV', 'Honda CR-V I', 'Bentley Brooklands II', 'Chevrolet Corsica 1987-1996', 'Vortex Tingo I (FL)', 'Audi A8 II (D3)', 'Honda Civic V', 'Alfa Romeo 8C Competizione 2007-2010', 'Mazda 323 VI (BJ)', 'Dodge RAM III (DR/DH)', 'BMW Z4 III (G29)', 'ГАЗ 31105 «Волга» 2003-2009', 'Toyota Prius IV (XW50)', 'BMW 02 (E10) I', 'Toyota Cresta I (X60)', 'Toyota Celica VII (T230) Рестайлинг', 'Honda Legend IV Рестайлинг', 'Nissan Sunny N14', 'Mitsubishi Space Gear I Рестайлинг', 'Toyota Corolla IX (E120, E130)', 'Land Rover Range Rover III', 'Chevrolet Spark II', 'Kia Sorento III Prime Рестайлинг', 'Kia Joice 1999-2004', 'Toyota Highlander I (U20) Рестайлинг', 'Lexus CT I Рестайлинг', 'Land Rover Range Rover IV Рестайлинг', 'LADA (ВАЗ) 2121 (4x4) I Рестайлинг', 'Lexus GS III Рестайлинг', 'LADA (ВАЗ) 2110 1995-2014', 'ЗАЗ 966 1967-1972', 'Volvo 850 1991-1997', 'Great Wall Hover H3 I', 'Volvo V90 Cross Country I', 'Mercedes-Benz 190 (W201) 1982-1993', 'Toyota Chaser III (X70)', 'Nissan Patrol III (K160, K260)', 'Mercedes-Benz X-Класс I', 'Honda Crosstour I Рестайлинг', 'Nissan Sunny N16', 'Volkswagen Beetle II (A5)', 'Suzuki Liana I', 'Mercedes-Benz S-Класс II (W126) Рестайлинг', 'Toyota Prius II (XW20)', 'Smart Forfour II', 'Mitsubishi Pajero III Рестайлинг', 'Chery Tiggo (T11) I', 'Peugeot Partner II Рестайлинг', 'ГАЗ Volga Siber I', 'Volkswagen Passat B4', 'Chevrolet Avalanche II', 'Opel Insignia I Рестайлинг', 'ИЖ 21261 «Фабула» 2004-2005', 'SEAT Leon II Рестайлинг', 'Nissan GT-R I', 'Toyota Porte I', 'Volvo V60 Cross Country II', 'Land Rover Range Rover Sport I Рестайлинг', 'Subaru Impreza WRX II Рестайлинг 1', 'Subaru Legacy IV Рестайлинг', 'Smart Fortwo III', 'Ford Escort V', 'Ford Ranger II', 'Renault Espace IV Рестайлинг', 'Jeep Cherokee III (KJ)', 'Fiat Panda II', 'Mazda Millenia I Рестайлинг', 'Mitsubishi Chariot II', 'Nissan X-Trail III Рестайлинг', 'Mitsubishi Lancer VI', 'Toyota Land Cruiser Prado 150 Series Рестайлинг 1', 'Hyundai Santa Fe III', 'Renault Scenic I Рестайлинг', 'Toyota Sparky 2000-2003', 'Acura ZDX 2009-2013', 'Toyota Pixis Van I', 'Porsche Cayman I (987)', 'Toyota Sera 1990-1994', 'Subaru Impreza WRX STi II Рестайлинг 1', 'Hyundai Creta I', 'Москвич 408 1964-1975', 'Kia Seltos I', 'Honda Jazz II', 'Mercedes-Benz R-Класс I', 'Lexus GX I', 'Kia Retona I Рестайлинг', 'Renault Scenic III Рестайлинг', 'Audi Q5 II (FY)', 'Volkswagen Golf IV', 'Chrysler 300C II', 'ТагАЗ C190 2011-2013', 'Jaguar XF II', 'Suzuki Jimny III', 'Toyota Soarer III (Z30) Рестайлинг', 'BMW 2 серии Gran Tourer F46', 'Mitsubishi Outlander II', 'Mercedes-Benz CL-Класс AMG II (C216) Рестайлинг', 'Ford Fiesta ST V Рестайлинг', 'Toyota Chaser VI (X100)', 'Toyota RAV4 IV (CA40)', 'MG 350 2010-2015', 'Mercedes-Benz S-Класс AMG II (W221)', 'Toyota Corsa II (L20)', 'Ford Ranger III', 'Ford Focus I Рестайлинг', 'Honda Civic X', 'Changan CS55 I', 'Honda CR-X III', 'Mazda 3 III (BM)', 'Hyundai Matrix I Рестайлинг', 'Daewoo Nexia I Рестайлинг', 'ЗиС 101 1936-1941', 'Infiniti QX60 I', 'Toyota Lite Ace IV', 'BMW X6 II (F16)', 'Nissan Note II Рестайлинг', 'Toyota Auris I', 'LADA (ВАЗ) 2103 1972-1984', 'Citroen Jumpy III', 'Daihatsu Atrai IV', 'Nissan Caravan IV (E25)', 'Ford Fiesta Mk4', 'Land Rover Freelander I Рестайлинг', 'Audi S3 II (8P) Рестайлинг', 'Ford Mondeo III Рестайлинг', 'Hyundai Elantra IV (HD)', 'Peugeot 408 I', 'Lexus IS I', 'Lexus ES VI Рестайлинг', 'BMW 6 серии III (F06/F13/F12) Рестайлинг', 'Kia Ceed II Рестайлинг', 'Dodge RAM II (BR/BE)', 'Mazda 626 III (GD)', 'Ford Crown Victoria I', 'Mitsubishi ASX I Рестайлинг', 'Toyota Tank I', 'Dacia Lodgy 2012-2016', 'Ford Focus I', 'Lexus GS II Рестайлинг', 'Peugeot 207 I Рестайлинг', 'Dodge RAM IV (DS/DJ)', 'Audi A8 III (D4)', 'Toyota Crown X (S150)', 'Toyota Mark II IX (X110)', 'Hyundai Coupe II (GK)', 'Honda Z 1998-2002', 'Toyota HiAce H200', 'Kia Sephia II', 'Mercedes-Benz E-Класс AMG III (W211, S211)', 'Dodge Caravan III', 'Mitsubishi Pajero Sport II Рестайлинг', 'BMW 7 серии III (E38) Рестайлинг', 'Rolls-Royce Phantom VII Рестайлинг (Series II)', 'Suzuki SX4 II (S-Cross) Рестайлинг', 'Ford Mondeo II', 'Vortex Estina I', 'Mazda MX-5 III (NC) Рестайлинг', 'Mercedes-Benz S-Класс III (W140)', 'Honda Stream I Рестайлинг', 'Jaguar XK II', 'Hyundai Santa Fe I', 'Suzuki Alto VII (HA25)', 'BMW X4 I (F26)', 'Great Wall Hover H6 2011-2017', 'BMW 5 серии II (E28)', 'Mitsubishi Mirage V', 'Great Wall Hover M4 2012-2017', 'Isuzu Fargo I', 'Renault Megane III Рестайлинг', 'Pontiac Vibe I', 'Ford Galaxy II Рестайлинг', 'BMW 7 серии IV (E65/E66)', 'BMW 7 серии I (E23)', 'Volkswagen Caddy IV', 'Alfa Romeo 147 I', 'LADA (ВАЗ) 2120 Надежда I Рестайлинг', 'Porsche 911 V (996) Рестайлинг', 'Smart Fortwo I', 'Renault Duster I', 'Acura ILX I', 'Toyota Sienna III Рестайлинг', 'Land Rover Defender I Рестайлинг', 'Volvo S60 I Рестайлинг', 'Audi A8 I (D2)', 'Mercedes-Benz V-Класс I (W638)', 'Land Rover Discovery II', 'Toyota bB I Рестайлинг', 'Suzuki Hustler 2014-н.в.', 'Nissan Gloria X (Y33)', 'Nissan Almera II (N16)', 'Audi RS 3 I (8P)', 'SEAT Altea I Рестайлинг', 'Suzuki Vitara II', 'Honda Ascot I (CB)', 'Kia Soul II Рестайлинг', 'Volvo V70 II', 'Renault 19 II', 'Honda Prelude V', 'Suzuki Alto VI (HA24)', 'Toyota Camry VIII (XV70)', 'Peugeot 508 I', 'Mercedes-Benz M-Класс AMG III (W166)', 'Kia Pride I', 'BMW 5 серии V (E60/E61) Рестайлинг', 'BMW i3 I (I01) Рестайлинг', 'Mitsubishi Outlander III', 'LADA (ВАЗ) Granta I', 'Porsche Cayman GT4 I (981)', 'Honda Prelude III Рестайлинг', 'Volkswagen Jetta II', 'Nissan Fuga I', 'BMW 1 серии II (F20/F21) Рестайлинг', 'Nissan Serena II (C24)', 'Cadillac Escalade II', 'Opel Signum I', 'Dodge Stratus I', 'Skoda Octavia I (A4) Рестайлинг', 'DongFeng AX7 I', 'Ford Econoline IV', 'Geely Emgrand 7 I Рестайлинг', 'Hyundai i30 I Рестайлинг', 'Toyota Land Cruiser 70 Series Рестайлинг', 'Mitsubishi RVR II', 'Mercedes-Benz GLE I (W166)', 'Bentley Continental GT III', 'Honda Acty III', 'Honda CR-V IV', 'Audi S7 I (4G) Рестайлинг', 'Toyota Tacoma II', 'Ford C-MAX II', 'Lancia Delta III (844)', 'Acura MDX II', 'Kia Sephia II Рестайлинг', 'Land Rover Range Rover Evoque II', 'УАЗ 3160 1997-2004', 'Toyota Tundra I Рестайлинг', 'BMW M4 F82/F83 Рестайлинг', 'Audi RS 7 I (4G)', 'Toyota Matrix I (E130)', 'Peugeot 307 I Рестайлинг', 'BMW 4 серии F32/F33/F36', 'Jaguar XK II Рестайлинг 1', 'Chery M11 (A3) 2010-2015', 'Chevrolet El Camino IV', 'Audi A4 II (B6)', 'Cadillac CTS II', 'Chrysler New Yorker XIII', 'Chrysler Pacifica RU', 'Hyundai i30 II', 'SsangYong Actyon Sports I', 'Lexus LX III Рестайлинг 2', 'Nissan March IV (K13) Рестайлинг', 'Mercedes-Benz SL-Класс II (W113)', 'Lexus LX II Рестайлинг', 'Toyota Vitz III (XP130) Рестайлинг', 'Porsche Panamera II', 'Mazda Biante 2008-2018', 'Peugeot 806 I Рестайлинг', 'Honda Stepwgn I', 'Subaru Stella II Рестайлинг', 'SsangYong Musso I Рестайлинг', 'Renault Logan II Рестайлинг', 'BMW 3 серии III (E36)', 'Suzuki Alto VIII (HA36)', 'Volvo C30 I Рестайлинг', 'Mercedes-Benz CLS I (C219)', 'Toyota Camry V30', 'Honda Crossroad 2007-2010', 'Lexus ES VII', 'Kia Avella 1994-2000', 'Suzuki Esteem 1995-2004', 'Nissan Almera I (N15)', 'Toyota Crown XIII (S200)', 'Honda Prelude III', 'Mitsubishi Lancer Evolution VII', 'Subaru Legacy V', 'Toyota ProAce II', 'Citroen Berlingo II Рестайлинг 2', 'Lincoln Town Car I', 'SEAT Ibiza II Рестайлинг', 'BMW Z4 I (E85/E86) Рестайлинг', 'Volkswagen Polo GTI IV', 'Toyota MR2 II (W20)', 'Haval F7x I', 'Toyota Cami 1999-2006', 'Nissan Murano II (Z51) Рестайлинг 2', 'MINI Hatch III (F55/F56)', 'Mazda Carol VI', 'Toyota RAV4 V (XA50)', 'Lancia Thesis 2002-2009', 'Toyota Land Cruiser 60 Series', 'Jaguar XJ II (XJ40)', 'Jaguar X-Type I', 'Nissan Altima VI (L34)', 'Chevrolet TrailBlazer I Рестайлинг', 'Volkswagen Type 1 1938-2003', 'Maybach 62 I', 'Opel Kadett E Рестайлинг', 'Scion tC I', 'Cadillac Fleetwood I', 'Renault Logan I', 'Ford KA I', 'Alpina B7 E65/66', 'Audi A1 I (8X)', 'Nissan 350Z I', 'Chrysler Stratus 1994-2000', 'Porsche Macan I', 'Audi RS 6 III (C7) Рестайлинг', 'Ford Scorpio II', 'Subaru Tribeca I', 'Subaru Impreza WRX II', 'GMC Jimmy I', 'Lexus LS IV Рестайлинг 2', 'Toyota Land Cruiser 100 Series', 'Infiniti QX4 I', 'Opel Corsa C', 'Opel Olympia I', 'Audi A8 III (D4) Рестайлинг', 'Nissan 350Z I Рестайлинг', 'Toyota Caldina I', 'BMW 2 серии Active Tourer F45', 'Nissan Armada I', 'Nissan X-Trail II', 'Hyundai Genesis II', 'Kia Sportage III', 'BMW M5 II (E34)', 'Mercedes-Benz E-Класс III (W211, S211) Рестайлинг', 'Alfa Romeo Brera 2006-2010', 'Aston Martin DB9 I', 'Peugeot 508 I Рестайлинг', 'SsangYong Actyon II Рестайлинг', 'Audi Q7 I (4L)', 'Cadillac Eldorado VII', 'Honda Mobilio I', 'Subaru XV II', 'Opel Vivaro A Рестайлинг', 'GMC Envoy II(GMT360)', 'Toyota Windom II (XV20)', 'Aro 24 аро 1972-2006', 'Mercedes-Benz CLS II (C218)', 'Citroen Xantia I Рестайлинг', 'Mercedes-Benz CL-Класс I (C140)', 'Mazda B-series V', 'Honda CR-V III Рестайлинг', 'Subaru Forester III', 'ГАЗ 310221 «Волга» 1997-2008', 'Daewoo Lacetti 2002-2010', 'Chevrolet Tahoe III', 'Toyota Estima III', 'Audi A6 allroad IV (C8)', 'Nissan Almera II (N16) Рестайлинг', 'Mitsubishi L200 III Рестайлинг', 'Lifan Solano II', 'Skoda Octavia RS III Рестайлинг', 'Toyota Yaris II', 'Mazda 626 II (GC)', 'Geely GC6 2014-2016', 'Cadillac CTS III', 'LADA (ВАЗ) 2109 1987-2006', 'Toyota Caldina I Рестайлинг', 'BMW X6 I (E71)', 'Mercedes-Benz G-Класс AMG I (W463) Рестайлинг', 'Porsche Cayman III 718 (982)', 'Mercedes-Benz A-Класс AMG I (W176) Рестайлинг', 'Alfa Romeo 156 I', 'Mitsubishi Galant V', 'Volvo 760 1982-1992', 'Skoda Fabia I Рестайлинг', 'BMW X3 II (F25) Рестайлинг', 'Toyota Avensis II Рестайлинг', 'ГАЗ 24 «Волга» I (24)', 'Nissan Skyline XI (V35)', 'Nissan 300ZX I (Z31)', 'Nissan Tiida I Рестайлинг', 'Chrysler Concorde I', 'Dodge Caravan IV', 'Toyota Mark II VII (X90)', 'Lifan X50 2015-н.в.', 'Peugeot 306 1993-2002', 'Mitsubishi Lancer Evolution X', 'Skoda 105, 120 I', 'BMW Z3 M I (E36)', 'Ford Edge I Рестайлинг', 'Toyota Crown XIV (S210)', 'Volvo 960 I Рестайлинг', 'LADA (ВАЗ) Vesta I', 'Kia Opirus I', 'Porsche 928 1977-1995', 'Fiat Scudo II', 'Mercedes-Benz G-Класс II (W463) Рестайлинг 4', 'Toyota Sprinter VII (E100)', 'Lancia Delta I (831)', 'Ford Contour I Рестайлинг', 'Bentley Bentayga I Рестайлинг', 'Isuzu Rodeo II', 'Nissan Cube III (Z12)', 'Opel Combo C Рестайлинг', 'Scion xA 2003-2006', 'Hyundai Equus II', 'Nissan Sunny Y10', 'Mercedes-Benz M-Класс II (W164)', 'Opel Zafira A Рестайлинг', 'Land Rover Freelander II Рестайлинг 2', 'Peugeot 406 I', 'Mercedes-Benz E-Класс V (W213, S213, C238) Рестайлинг', 'SEAT Leon I', 'Citroen Jumpy II Рестайлинг', 'Toyota MR2 III (W30)', 'Volvo V70 I', 'Fiat Marea 1996-2002', 'Hyundai i20 I', 'Citroen Jumpy I', 'Renault Logan II', 'Ford F-150 XII', 'Honda Civic Type R VIII Рестайлинг', 'Plymouth Prowler 1997-2002', 'Jeep Compass II', 'Skoda Fabia II', 'Mazda 2 II Рестайлинг (DE2)', 'Opel Rekord C', 'Infiniti I I', 'Nissan Laurel VIII (C35)', 'Mercedes-Benz CLK-Класс II (W209)', 'Citroen Xantia I', 'Nissan Note I', 'Hyundai Santa Fe III Рестайлинг', 'Renault Clio II', 'Nissan Laurel V (C32)', 'Audi A5 I (8T)', 'Mercedes-Benz S-Класс V (W221) Рестайлинг', 'Mercedes-Benz C-Класс II (W203) Рестайлинг', 'Mazda 6 I (GG) Рестайлинг', 'Citroen C4 II', 'Land Rover Freelander II', 'SsangYong Rexton I', 'Skoda Superb II Рестайлинг', 'Volvo V40 Cross Country I Рестайлинг', 'Saab 9-3 II', 'Subaru Impreza V', 'Mercedes-Benz E-Класс III (W211, S211)', 'Volvo XC70 II', 'Citroen C4 I Рестайлинг', 'Toyota Crown VIII (S130)', 'Suzuki Grand Vitara III Рестайлинг 2', 'Mercedes-Benz G-Класс AMG II (W463)', 'SsangYong Stavic 2013-н.в.', 'Jaguar XKR II', 'Chrysler Concorde II', 'LADA (ВАЗ) Largus I', 'Honda Zest 2006-2012', 'Volkswagen Golf Country 1990-1991', 'Infiniti FX I (S50)', 'Rolls-Royce Ghost I', 'Subaru Impreza WRX III Рестайлинг', 'Mazda 5 II (CW)', 'Audi A7 II (4K)', 'Toyota Lite Ace VI', 'Mercedes-Benz GLC I (X253)', 'Lexus RX II Рестайлинг', 'Fiat Bravo I', 'Toyota Land Cruiser Prado 120 Series', 'Chevrolet Express II', 'Opel Monterey A', 'Mazda 6 III (GJ) Рестайлинг', 'Opel Astra H', 'Opel Zafira B Рестайлинг', 'Mercedes-Benz A-Класс IV (W177)', 'Dodge Caliber I Рестайлинг', 'Hyundai Genesis Coupe I Рестайлинг', 'Daihatsu Sirion II (M3)', 'Renault Dokker 2012-н.в.', 'Peugeot 107 I', 'Skoda Octavia II (A5) Рестайлинг', 'Mercedes-Benz S-Класс VI (W222, C217) Рестайлинг', 'Toyota Avensis I', 'Hyundai Tiburon II (GK)', 'Opel Frontera B Рестайлинг', 'Ford Excursion 1999-2005', 'BMW M5 VI (F90) Рестайлинг', 'Skoda Favorit 1989-2000', 'Volkswagen Touareg III', 'Volvo 460 1988-1997', 'Nissan Patrol VI (Y62) Рестайлинг', 'Cadillac Brougham 1987-1992', 'Chevrolet Camaro III', 'Subaru Impreza WRX II Рестайлинг 2', 'Nissan Juke I', 'Toyota Vanguard 2007-2013', 'Mitsubishi L200 IV', 'Mercedes-Benz E-Класс IV (W212, S212, C207) Рестайлинг', 'Chevrolet Captiva I Рестайлинг 2', 'Cadillac Escalade IV', 'Opel Zafira Life I', 'Subaru Stella III', 'Mitsubishi Pajero I', 'LADA (ВАЗ) Granta I Рестайлинг', 'BMW 600 1957-1959', 'Mitsubishi Lancer IX Рестайлинг', 'Cadillac SRX I', 'Hyundai Coupe I (RD)', 'BMW 8 серии II (G14/G15/G16)', 'Mitsubishi Lancer Evolution VI', 'Mazda Axela II', 'Honda N-WGN I Рестайлинг', 'ЗИЛ 4104 1978-2002', 'Mercedes-Benz SLK-Класс III (R172)', 'MINI Hatch II (R56) Рестайлинг', 'Mercedes-Benz C-Класс IV (W205) Рестайлинг', 'Mitsubishi Galant VI', 'Chevrolet Tracker II', 'УАЗ 3151 1985-2013', 'Volkswagen Passat CC I Рестайлинг', 'Москвич 401 1954-1956', 'Opel Corsa C Рестайлинг', 'Ford V8 1932-1932', 'Mazda 5 I (CR) Рестайлинг', 'Chrysler Sebring III', 'Toyota Ractis I', 'Aston Martin V12 Vantage 2009-2017', 'Ford Escape I', 'Nissan Primera II (P11) Рестайлинг', 'Volvo S90 II Рестайлинг', 'Kia Picanto II', 'Land Rover Range Rover Sport II Рестайлинг', 'Mercedes-Benz SLK-Класс AMG III (R172)', 'Ford Mondeo III', 'Honda Inspire II', 'Mitsubishi ASX I', 'Infiniti FX II (S51) Рестайлинг', 'Hyundai Santa Fe IV', 'Hummer H1 1992-2006', 'Subaru Impreza WRX I', 'Ford Focus III', 'Mercedes-Benz M-Класс II (W164) Рестайлинг', 'BMW X6 M I (E71)', 'BMW 1 серии I (E81/E82/E87/E88) Рестайлинг', 'Volkswagen Passat B8', 'Toyota Corolla XII (E210)', 'Audi A4 allroad V (B9)', 'Toyota Opa I', 'Mercedes-Benz M-Класс AMG I (W163) Рестайлинг', 'Land Rover Range Rover IV', 'Mitsubishi Galant VIII', 'Kia Spectra II', 'Toyota Carina VI (T190)', 'Infiniti QX80 I Рестайлинг 2', 'Daihatsu YRV I', 'Kia Quoris I Рестайлинг', 'ИЖ Москвич-412 1967-1998', 'Mitsubishi Lancer IX', 'Mazda Proceed Marvie 1990-1999', 'Volvo S90 I', 'Opel Super Six 1936-1938', 'Lamborghini LM002 1986-1993', 'Lexus SC II', 'Kia Optima III Рестайлинг', 'Lexus GX II Рестайлинг', 'Cadillac Seville III', 'Great Wall Deer 1996-2013', 'Toyota Land Cruiser 200 Series', 'Delage D6 I', 'Mercury Mystique 1994-2000', 'Kia Soul I Рестайлинг', 'Toyota Land Cruiser 100 Series Рестайлинг 2', 'Jeep Renegade I', 'Audi e-tron I', 'Doninvest Kondor 1998-2002', 'FAW V5 2012-2017', 'Citroen SpaceTourer I', 'Mazda Demio IV (DJ)', 'Toyota Prius v (+) I (ZVW40/41)', 'Toyota Voltz 2002-2004', 'Honda N-BOX I', 'Toyota Corolla Levin VII (AE110/AE111)', 'Toyota FunCargo 1999-2005', 'Opel Antara I', 'FAW D60 I', 'Mitsubishi Montero II', 'BMW 7 серии V (F01/F02/F04)', 'Renault Koleos I Рестайлинг', 'Toyota Mark II VIII (X100)', 'BMW M3 III (E46)', 'Ford Escape I Рестайлинг', 'Ford Ranger (North America) II', 'Bentley Continental GT I', 'Mercedes-Benz SL-Класс V (R230) Рестайлинг 2', 'Mercedes-Benz B-Класс II (W246)', 'Toyota Starlet V (P90)', 'Hyundai Terracan I Рестайлинг', 'Mazda MX-3 I', 'Genesis G90 I', 'Volkswagen Bora 1998-2005', 'JAC S5 (Eagle) I', 'Dodge Avenger II', 'Toyota Camry VII (XV50)', 'Toyota Lite Ace III', 'Land Rover Range Rover III Рестайлинг 2', 'Infiniti QX50 I Рестайлинг', 'Ford Mondeo ST III', 'Haval H5 I', 'Ford Focus ST II Рестайлинг', 'ГАЗ 22 «Волга» 1962-1970', 'Peugeot Expert III', 'Toyota Sprinter Marino 1992-1998', 'Zotye T600 2013-н.в.', 'Mazda RX-7 III (FD)', 'Isuzu Wizard II', 'Subaru Forester II', 'Mercedes-Benz S-Класс IV (W220) Рестайлинг', 'Lexus UX I', 'BMW 2 серии Active Tourer F45 Рестайлинг', 'Infiniti Q III', 'Volkswagen Touran I Рестайлинг', 'ТагАЗ Vega 2009-2010', 'LADA (ВАЗ) 2113 2004-2013', 'Volkswagen Touareg II Рестайлинг', 'Chevrolet Niva I Рестайлинг', 'Nissan Cedric X (Y34)', 'Chevrolet Corvette C2', 'BMW 321 I', 'Daihatsu Terios I', 'Volkswagen Jetta V', 'Chevrolet Van 1971-1996', 'Ford Focus II', 'Hyundai Veloster I', 'Acura RDX I Рестайлинг', 'Ferrari 612 2004-2011', 'ТагАЗ Tager 2008-2012', 'Toyota Supra III (A70)', 'Peugeot 2008 I', 'Jaguar XFR I', 'Toyota Gaia 1998-2004', 'Opel Astra J', 'Ford F-150 IX', 'Mercedes-Benz GLB I (X247)', 'Fiat Tipo 160', 'Toyota Prius III Рестайлинг (XW30)', 'Honda Pilot II', 'Mazda Familia Y10', 'Mitsubishi Space Wagon I', 'Kia Optima IV Рестайлинг', 'BMW X4 II (G02)', 'Maserati Levante I', 'Volkswagen Golf GTI VI', 'Mitsubishi Eclipse II', 'УАЗ 3162 Simbir 1999-2005', 'Nissan Skyline IX (R33)', 'Renault Arkana I', 'LADA (ВАЗ) Priora I Рестайлинг', 'Subaru Outback I', 'Mazda 929 III (HC)', 'Asia Rocsta 1989-1998', 'Proton Persona I', 'Daewoo Winstorm 2006-2011', 'Fiat Albea I Рестайлинг', 'Volkswagen Touareg I Рестайлинг', 'Citroen Berlingo II', 'Mercedes-Benz SL-Класс V (R230)', 'ГАЗ 31029 «Волга» 1992-1998', 'Honda Legend IV', 'BMW M2 F87', 'Lexus RX II', 'ГАЗ 14 «Чайка» 1977-1989', 'Mazda Capella IV', 'Mercedes-Benz CLS AMG II (W218)', 'Mazda CX-7 I', 'Toyota Corolla VIII (E110) Рестайлинг', 'Citroen C5 I Рестайлинг', 'LADA (ВАЗ) 2120 Надежда I', 'Mazda Bongo Friendee I Рестайлинг', 'Chrysler 200 I', 'Honda Stepwgn I Рестайлинг', 'Ford F-150 XIII', 'УАЗ Patriot I Рестайлинг', 'Audi A5 I (8T) Рестайлинг', 'Mercedes-Benz B-Класс III (W247)', 'Honda Pilot I', 'RAM 1500 V', 'Nissan Note I Рестайлинг', 'Volkswagen Scirocco III', 'Porsche Boxster III (981)', 'Subaru Forester I', 'Hyundai XG I', 'Volkswagen Passat B5', 'Pontiac Trans Sport II', 'Toyota Sequoia II', 'Opel Insignia OPC I', 'Opel Kadett E', 'Audi A6 I (C4)', 'Ford Explorer III', 'Kia Carnival II', 'Infiniti G IV', 'Chrysler Pacifica CS', 'Genesis G80 I', 'Lifan Celliya (530) 2014-2018', 'Honda Accord III', 'Skoda Fabia III', 'Kia Forte I', 'ИЖ 2125 «Комби» 1973-1997', 'Volvo S80 II Рестайлинг', 'Toyota HiAce H200 Рестайлинг', 'LADA (ВАЗ) 1111 Ока 1987-2008', 'Daihatsu Copen I', 'Citroen Evasion 1994-2002', 'Ford Ranger I', 'Great Wall Hover H5 2010-2017', 'Nissan Armada I Рестайлинг', 'Volvo XC60 I Рестайлинг', 'Toyota Sienta I Рестайлинг 2', 'Chevrolet Orlando I', 'Chery Tiggo 8 I', 'SsangYong Rexton III', 'Chrysler Neon II', 'Renault Clio III', 'Mercedes-Benz W123 1975-1985', 'Lamborghini Huracán 2014-н.в.', 'Volkswagen Golf R VII', 'Kia Ray 2011-н.в.', 'Opel Antara I Рестайлинг', 'Audi 80 V (B4)', 'Lexus LS III', 'Rover 200 II (R8)', 'ЗиС 110 1945-1958', 'Mazda Bongo IV', 'Toyota Sprinter VI (E90)', 'Ravon Gentra 2015-2018', 'Nissan Datsun D21', 'Ford Fusion I Рестайлинг', 'Infiniti M III Рестайлинг', 'Hyundai Avante II Рестайлинг', 'Honda Insight II', 'Mercedes-Benz M-Класс AMG II (W164) Рестайлинг', 'Heinkel Typ 154 1956-1958', 'Renault 6 1970-1987', 'Bentley Turbo R 1985-1999', 'Mazda Millenia I', 'Nissan Qashqai+2 I', 'Kia Stinger I', 'Jeep Cherokee II (XJ)', 'Nissan Murano II (Z51)', 'Suzuki Wagon R IV', 'Mercedes-Benz C-Класс IV (W205)', 'Honda CR-V V Рестайлинг', 'Volvo S40 I Рестайлинг', 'Ford Model T 1908-1927', 'Hyundai Sonata VI (YF)', 'FAW Jinn 2005-2009', 'УАЗ Pickup I Рестайлинг', 'Toyota Hilux Surf II', 'Toyota RAV4 IV (CA40) Рестайлинг', 'Honda Fit I', 'Toyota Vista IV (V40)', 'Mazda Tribute I Рестайлинг', 'BMW 2 серии F44', 'УАЗ Pickup I Рестайлинг 2', 'Rover Streetwise 2003-2005', 'Toyota Chaser IV (X80)', 'Toyota Nadia 1998-2003', 'Honda Rafaga 1993-1997', 'Mercedes-Benz GLS AMG II (X167)', 'Subaru Impreza WRX III', 'Ferrari FF 2011-2016', 'Honda Civic Type R VIII', 'Ford Bronco V', 'Peugeot 4008 2012-2017', 'Ford Taunus II', 'BMW 7 серии IV (E65/E66) Рестайлинг', 'Volkswagen Caddy III Рестайлинг', 'Chevrolet Monte Carlo V', 'Toyota Highlander I (U20)', 'Hyundai Veloster I Рестайлинг', 'Audi Q3 I (8U)', 'Geely Emgrand X7 I Рестайлинг 2', 'Peugeot 107 I Рестайлинг', 'ТагАЗ C10 2011-2013', 'Lincoln Nautilus I', 'Nissan Expert 1999-2007', 'Suzuki Kizashi 2009-2014', 'Mazda Premacy I (CP)', 'Audi S4 IV (B8) Рестайлинг', 'Москвич 426 1967-1976', 'BMW X4 M I (F98)', 'Geely Emgrand X7 I Рестайлинг', 'Infiniti QX30 2015-2019', 'Cadillac CTS-V II', 'Subaru R2 2003-2010', 'Nissan Largo III (W30)', 'Opel Calibra 1990-1997', 'Nissan Bluebird VII (U11)', 'Nissan Note II', 'Toyota Highlander IV (U70)', 'JAC S1 (Rein) I', 'Mercedes-Benz G-Класс AMG I (W463) Рестайлинг 3', 'DS 4 I Рестайлинг', 'Opel Kadett B', 'Infiniti QX56 II', 'Ford Bronco-II 1984-1990', 'Chevrolet Lacetti 2004-2013', 'Mercedes-Benz SLS AMG 2010-2014', 'Lexus LS IV Рестайлинг', 'Honda Pilot II Рестайлинг', 'Honda Accord IV', 'Nissan Serena III (C25)', 'Fiat Doblo I Рестайлинг', 'Toyota Vista V (V50)', 'ТагАЗ Aquila I', 'Ravon R4 2016-н.в.', 'Kia Cerato III Рестайлинг (Classic)', 'Ford F-150 XIII Рестайлинг', 'Toyota Caldina II', 'Nissan Maxima IV (A32)', 'УАЗ 3159 1999-2010', 'Subaru Forester V', 'Alfa Romeo Giulia I (105)', 'Pontiac Sunfire 1995-2005', 'Mercedes-Benz GLC AMG I (X253)', 'Nissan GT-R I Рестайлинг 2', 'Volkswagen Polo III Рестайлинг', 'Mazda 3 II (BL) Рестайлинг', 'BMW 2000 C/CS I', 'MINI Clubman II', 'Toyota Probox I', 'Ford F-150 VIII', 'Jeep Liberty (North America) I', 'Renault Latitude I', 'Tesla Model Y I', 'Kia Soul EV I', 'Plymouth Voyager II', 'Renault Megane II Рестайлинг', 'Ford Zephyr II', 'Infiniti QX80 I', 'Audi 200 II (C3) Рестайлинг', 'Mitsubishi Space Star I', 'Fiat Punto II', 'SsangYong Tivoli 2015-2019', 'Kia Venga I Рестайлинг', 'Peugeot 307 I', 'Maserati Quattroporte VI Рестайлинг', 'Audi 100 III (C3) Рестайлинг', 'Honda Element I Рестайлинг 2', 'Honda Grace I', 'Honda Jazz I Рестайлинг', 'Toyota Camry IV (XV20)', 'Volkswagen Corrado 1988-1995', 'Mazda 6 I (GG)', 'Mercedes-Benz C-Класс III (W204) Рестайлинг', 'LADA (ВАЗ) 2111 1997-2009', 'Haima 7 2013-2016', 'Mercedes-Benz CLS III (C257)', 'Honda Domani II', 'Volvo S40 I', 'Hyundai Accent II', 'Volvo XC90 II Рестайлинг', 'Chevrolet Rezzo 2000-2008', 'Opel Vectra C', 'Chevrolet Tahoe II', 'Mitsubishi Lancer V', 'Toyota Land Cruiser Prado 150 Series Рестайлинг 3', 'Toyota Aqua I', 'Mitsubishi Pajero Mini II', 'Derways Saladin 2007-2008', 'Opel Sintra 1996-1999', 'Suzuki Liana I Рестайлинг', 'Nissan Terrano III (D10)', 'Ford Probe II', 'Mitsubishi Montero III', 'УАЗ Pickup I', 'Haval H9 I Рестайлинг', 'Mitsubishi Pajero Sport I', 'Ferrari F430 2004-2009', 'Hyundai Accent III', 'Mercedes-Benz SL-Класс AMG II (R230)', 'Dodge Journey I', 'Mitsubishi Pajero Sport II', 'Lexus RX IV', 'ZX Landmark I', 'Land Rover Range Rover I', 'Lifan Murman (820) 2015-н.в.', 'Jaguar XKR I', 'Audi A4 V (B9)', 'Mercedes-Benz A-Класс II (W169)', 'Nissan Teana III', 'MINI Hatch II (R56)', 'Ford Maverick II', 'Honda Logo 1996-2001', 'Mercedes-Benz S-Класс AMG II (W221) Рестайлинг', 'Mercedes-Benz GLE Coupe AMG II (C167)', 'Subaru Forester I Рестайлинг', 'Pontiac Parisienne 1971-1986', 'Hyundai Elantra V (MD)', 'Ford Focus III Рестайлинг', 'Chrysler 300M 1998-2004', 'BMW 3 серии IV (E46)', 'Hyundai XG I Рестайлинг', 'Toyota Grand HiAce I', 'Toyota Sprinter Carib III', 'Ford Mustang IV', 'Nissan Safari V (Y61)', 'Mitsubishi Outlander III Рестайлинг 3', 'Cadillac SRX II', 'Opel Vita C', 'Hyundai Tucson III', 'Infiniti EX I (J50)', 'Acura TLX I', 'Renault Megane III', 'Mitsubishi RVR I', 'Ferrari F12berlinetta 2012-2017', 'Mercedes-Benz CLA AMG I (C117, X117) Рестайлинг', 'Hyundai ix35 I Рестайлинг', 'Infiniti FX II (S51)', 'Skoda Roomster I', 'Subaru Impreza IV', 'Infiniti FX I (S50) Рестайлинг', 'Fiat Freemont 2011-2016', 'Nissan Cefiro II (A32)', 'Lexus LX II', 'LADA (ВАЗ) 2101 1970-1988', 'Chrysler Voyager V Рестайлинг', 'Hyundai Atos 1997-2008', 'Subaru Legacy V Рестайлинг', 'Honda Pilot III', 'Mercedes-Benz Vito III (W447)', 'Alfa Romeo 147 I Рестайлинг', 'Cadillac DeVille VI', 'Toyota Camry V (XV30)', 'Daihatsu Pyzar I', 'Nissan Primastar I', 'Suzuki Solio II Рестайлинг', 'Audi A4 allroad IV (B8)', 'McLaren 600LT 2018-н.в.', 'Mercedes-Benz W115 1968-1977', 'Volkswagen Beetle I (A4)', 'Volkswagen Jetta VI', 'Ford Mondeo IV Рестайлинг', 'Mercedes-Benz GLE Coupe AMG I (C292)', 'УАЗ Patriot I Рестайлинг 2', 'BMW X6 M I (E71) Рестайлинг', 'Nissan Presea I', 'Hyundai i30 II Рестайлинг', 'Jeep Cherokee III (KJ) Рестайлинг', 'Toyota Tundra II Рестайлинг', 'FAW Oley 2012-2015', 'УАЗ Hunter 2003-н.в.', 'Mercedes-Benz G-Класс II (W463) Рестайлинг 1', 'Mercedes-Benz S-Класс IV (W220)', 'Lexus ES VI', 'Mitsubishi Space Wagon II', 'Audi A6 II (C5) Рестайлинг', 'Dodge Intrepid I', 'BMW X2 I (F39)', 'BMW 8 серии I (E31)', 'УАЗ 469 1972-2011', 'Mercedes-Benz SL-Класс AMG III (R231)', 'Toyota Hilux VIII', 'Land Rover Range Rover Evoque I', 'Honda Civic VIII Рестайлинг', 'Kia Picanto I', 'Mercedes-Benz GLE AMG I (W166)', 'Nissan Terrano II Рестайлинг', 'Audi TT III (8S)', 'BMW 3 серии VI (F3x)', 'Jeep Wrangler III (JK)', 'Mahindra Marshal 2002-2008', 'Willys MB 1941-1945', 'Renault Megane I', 'Hyundai Sonata IV (EF)', 'Cadillac Eldorado X', 'Mazda MPV I (LV)', 'Renault Koleos II', 'SEAT Leon III', 'Suzuki Jimny III Рестайлинг 2', 'Ford Fiesta Mk6 Рестайлинг', 'Rover 800 1986-1999', 'Ford Transit Connect I Рестайлинг', 'MINI Paceman I', 'Opel Zafira A', 'Honda Stepwgn V', 'BMW 1 серии II (F20/F21)', 'Volkswagen Polo VI', 'LADA (ВАЗ) 2121 (4x4) I', 'Renault Sandero II Рестайлинг', 'Kia Pride II', 'Porsche 911 VI (997)', 'Mitsubishi Montero Sport 1996-2008', 'Suzuki Escudo II', 'Luxgen Luxgen7 SUV 2013-2017', 'Toyota Corsa V (L50)', 'LADA (ВАЗ) XRAY I', 'Suzuki Wagon R V', 'Chrysler LHS I', 'Volkswagen Sharan II', 'Volkswagen Polo III', 'Hyundai Grand Starex I Рестайлинг 2', 'Isuzu Gemini IV', 'BMW X6 III (G06)', 'Chery Bonus (A13) 2011-2014', 'Nissan Almera Classic I', 'Renault Espace V', 'SsangYong Kyron I Рестайлинг', 'Nissan Maxima V (A33)', 'Toyota Crown Majesta III (S170)', 'Honda Odyssey I', 'Ford Focus (North America) I Рестайлинг', 'Hyundai Pony X2', 'Mercedes-Benz A-Класс III (W176)', 'Acura TSX II', 'Peugeot Traveller I', 'Mitsubishi Galant VIII Рестайлинг', 'Mercedes-Benz CL-Класс II (C215)', 'Volvo S80 I Рестайлинг', 'BMW M5 VI (F90)', 'Lifan X60 I Рестайлинг', 'Mazda CX-5 II', 'Peugeot 605 1989-1999', 'Fiat Punto I', 'Porsche 356 II (A)', 'Hyundai H-1 II Рестайлинг', 'Lincoln Aviator I', 'СМЗ С-3Д 1970-1997', 'Fiat Fullback I', 'Toyota Camry VI (XV40)', 'Mitsubishi L200 IV Рестайлинг', 'Chevrolet Malibu VIII', 'BMW 3 серии IV (E46) Рестайлинг', 'Nissan Altima IV (L32)', 'Porsche 911 IV (993)', 'Honda Mobilio Spike I Рестайлинг', 'Lincoln LS I', 'Mercedes-Benz GLC Coupe I (C253) Рестайлинг', 'Toyota Avensis III', 'Renault Scenic I', 'Toyota Carina V (T170)', 'Chery Arrizo 7 2013-2018', 'Mercedes-Benz SLK-Класс I (R170) Рестайлинг', 'Chevrolet Bel Air II', 'SsangYong Rexton II', 'Infiniti M III', 'Peugeot 3008 II', 'Honda Mobilio I Рестайлинг', 'BMW X5 M III (F95)', 'Toyota RAV4 III (XA30)', 'Renault Modus I', 'Hyundai Solaris II', 'Citroen Xsara Picasso 1999-2012', 'Kia Magentis II', 'Skoda Octavia II (A5)', 'Nissan Gloria XI (Y34)', 'Mazda 323 VI (BJ) Рестайлинг', 'Peugeot Partner II Рестайлинг 2', 'Nissan Pulsar V (N15)', 'Mercedes-Benz CLA AMG II (C118, X118)', 'Hyundai Tiburon II (GK) Рестайлинг', 'Volkswagen Golf II', 'Audi A3 III (8V)', 'Nissan Murano I (Z50)', 'MG TF 2002-2005', 'Toyota Sienna II', 'Honda N-BOX II', 'Mercedes-Benz SLR McLaren 2003-2009', 'Dodge Stealth 1990-1996', 'Lancia Kappa 1994-2000', 'Renault Fluence I Рестайлинг', 'Volkswagen Touran I', 'Porsche 924 1975-1988', 'Renault 21 1986-1995', 'Nissan Qashqai I', 'Ford Escape II', 'Toyota Celica V (T180)', 'Porsche Cayenne I Рестайлинг (957)', 'BYD E6 2011-н.в.', 'Chevrolet Camaro IV', 'Pontiac Montana I', 'Audi RS Q3 I (8U) Рестайлинг', 'BMW M3 IV (E90)', 'SEAT Ibiza IV Рестайлинг', 'Mercedes-Benz GLE II (V167)', 'Chevrolet Caprice IV', 'Renault Clio III Рестайлинг', 'Haval H2 2014-2020', 'Honda Orthia I', 'BMW Z4 II (E89)', 'Mercedes-Benz GL-Класс II (X166)', 'BMW 340 I', 'Brilliance M2 (BS4) I', 'ГАЗ М-20 «Победа» 1946-1958', 'Nissan Sentra VII (B17)', 'Toyota Prius I (XW10)', 'Fiat 500 II', 'Mazda 6 II (GH)', 'Mitsubishi i-MiEV 2009-2015', 'Honda N-WGN I', 'Aston Martin Rapide I', 'Hawtai Laville I', 'Rover 400 II (HH-R)', 'Subaru Legacy II', 'Mitsubishi Carisma I Рестайлинг', 'Toyota Soarer I', 'Volkswagen Phaeton I Рестайлинг', 'Volkswagen Caddy II', 'Suzuki Vitara I', 'Opel Combo D', 'Chevrolet Camaro V Рестайлинг', 'Lincoln Town Car III Рестайлинг', 'Audi A6 IV (C7)', 'Volkswagen Golf Plus II', 'Haval H6 2014-2020', 'Subaru Exiga 2008-2018', 'Nissan Elgrand I (E50)', 'Daihatsu Move V', 'Ford Taurus IV', 'Mitsubishi Pajero IV', 'Toyota Fortuner II Рестайлинг', 'Mazda 3 MPS I', 'Opel Omega B', 'Toyota Corsa IV (L40)', 'Toyota Cavalier 1995-2000', 'Toyota iQ 2008-2011', 'Skoda Octavia RS II', 'Toyota Corona EXiV II (ST200)', 'Mitsubishi Lancer X', 'Toyota Cresta III (X80)', 'Jeep Cherokee II (XJ) Рестайлинг', 'Kia Carnival IV', 'Kia Opirus I Рестайлинг', 'Alfa Romeo GTV 1995-2006', 'SEAT Altea I', 'Lamborghini Aventador I', 'Kia Ceed GT I Рестайлинг', 'Mercedes-Benz SL-Класс V (R230) Рестайлинг', 'Peugeot 206 1998-2012', 'Kia Rio III Рестайлинг', 'Kia Rio IV', 'Toyota Starlet III (P70)', 'Honda Odyssey (North America) II', 'Peugeot 607 I', 'Hyundai Elantra VII (CN7)', 'Mitsubishi Grandis 2003-2011', 'Toyota Avensis I Рестайлинг', 'Hyundai Getz I', 'Jeep Commander 2005-2010', 'Renault Avantime 2001-2003', 'Honda Accord VII', 'Subaru Levorg 2014-н.в.', 'Mercedes-Benz W114 1968-1977', 'Mazda 3 II (BL)', 'Kia Sorento II', 'Saab 900 I', 'MINI Cabrio II', 'Rolls-Royce Cullinan 2018-н.в.', 'Audi 200 I (C2)', 'BMW 3 серии VI (F3x) Рестайлинг', 'Honda CR-V IV Рестайлинг', 'BMW X3 I (E83)', 'Chevrolet Alero 1999-2004', 'Skoda Kodiaq I', 'Hyundai Tuscani 2001-2009', 'Mercedes-Benz 220 (W187) 1951-1955', 'LADA (ВАЗ) Kalina I', 'Kia Picanto I Рестайлинг', 'Ferrari 360 1999-2005', 'Buick Rendezvous 2001-2007', 'Infiniti Q70 I', 'Mitsubishi Space Star I Рестайлинг', 'Mazda MX-5 III (NC)', 'Volkswagen Passat CC I', 'Toyota 4Runner IV', 'Hyundai Veracruz 2006-2015', 'Kia Magentis II Рестайлинг', 'Hyundai H-1 I', 'Hyundai Trajet I', 'Opel Omega A', 'SsangYong Istana I', 'Москвич 412 1967-1977', 'Skoda Rapid I', 'Hyundai Palisade I', 'Toyota Regius 1997-2002', 'Porsche Boxster II (987) Рестайлинг 1', 'Kia Carnival III', 'Eagle Talon I', 'Lexus GX II', 'LADA (ВАЗ) EL Lada 2012-2013', 'Smart Roadster 2002-2006', 'Audi A4 I (B5) Рестайлинг', 'Lincoln Town Car III', 'Skoda Yeti I', 'Ford Mondeo IV', 'Lincoln MKT I', 'Ford S-MAX I Рестайлинг', 'Skoda Felicia I', 'Daewoo Leganza 1997-2008', 'Nissan Sunny B14', 'Jaguar XFR I Рестайлинг', 'Hyundai Genesis Coupe I', 'Isuzu Trooper I', 'Ford Galaxy I', 'Chrysler LeBaron II', 'BMW X6 M III (F96)', 'Kia Sedona I', 'Lifan Myway 2016-н.в.', 'Lexus LS III Рестайлинг', 'Volkswagen Golf VII Рестайлинг', 'LADA (ВАЗ) 2106 1976-2006', 'Bentley Bentayga I', 'Honda Saber I', 'Fiat Bravo II', 'Nissan Tiida II', 'ЛуАЗ 969 1966-1992', 'Dodge Journey I Рестайлинг', 'Mercedes-Benz E-Класс AMG V (W213)', 'Porsche Boxster II (987) Рестайлинг 2', 'Hyundai Grand Starex I', 'SEAT Alhambra I Рестайлинг', 'Ford V8 1938-1939', 'Jeep Grand Cherokee I (ZJ) Рестайлинг', 'Citroen C3 Picasso I Рестайлинг', 'Mercedes-Benz A-Класс AMG I (W176)', 'Toyota Town Ace IV', 'Hyundai Lantra II Рестайлинг', 'Honda Stream II', 'Mercedes-Benz G-Класс I (W460; W461)', 'Ford Galaxy II', 'Ferrari 458 2009-2015', 'Lexus GS III', 'Fiat 500 II Рестайлинг', 'Buick Special II', 'Mercedes-Benz Viano I (W639)', 'Volvo V60 I', 'Lifan Solano I (620)', 'Mercedes-Benz CL-Класс AMG II (C216)', 'Peugeot 308 II', 'Toyota Avensis III Рестайлинг', 'Honda CR-V III', 'Lifan Smily I (320)', 'Toyota Vista II (V20)', 'Ford Explorer IV', 'BMW X1 II (F48) Рестайлинг', 'Nissan Avenir II (W11)', 'Toyota Crown VII (S120)', 'Toyota Curren 1994-1999', 'Brilliance H530 I', 'Nissan Skyline XII (V36) Рестайлинг', 'Hyundai H-1 II Рестайлинг 2', 'Honda Shuttle II', 'Honda Freed I', 'Chrysler Town & Country IV', 'Jeep Cherokee IV (KK)', 'Cadillac STS I', 'Fiat Ulysse I', 'Foton Sauvana I', 'Mazda 323 III (BF)', 'Subaru Impreza WRX STi II Рестайлинг 2', 'Toyota Avalon I', 'Audi A3 II (8P) Рестайлинг 2', 'Mercedes-Benz CL-Класс II (C215) Рестайлинг', 'BMW M2 F87 Рестайлинг', 'Toyota Estima II Рестайлинг', 'Nissan AD II', 'Saab 9-3 II Рестайлинг', 'Mazda Protege III (BJ)', 'BMW M5 IV (E60/E61)', 'Citroen C-Elysee I', 'Peugeot 308 I Рестайлинг', 'Toyota Passo I (C10)', 'Mazda 5 I (CR)', 'Skoda Octavia RS II Рестайлинг', 'Mercedes-Benz B-Класс II (W246) Рестайлинг', 'Toyota Land Cruiser Prado 120 Series Рестайлинг', 'Chevrolet Suburban IX', 'Jaguar XKR II Рестайлинг 1', 'Great Wall Safe 2001-2010', 'Hyundai Starex I Рестайлинг', 'Dodge WC series T214', 'Audi A4 IV (B8) Рестайлинг', 'Opel Omega B Рестайлинг', 'Mercedes-Benz C-Класс AMG III (W204) Рестайлинг', 'Mercedes-Benz CLA I (C117, X117)', 'Mazda RX-8 I', 'Toyota Camry Solara I', 'Suzuki Swift III', 'Nissan Vanette III', 'Hyundai Grandeur IV', 'Opel Meriva B Рестайлинг', 'Toyota Camry II (V20)', 'Hyundai Santamo 1995-2002', 'Nissan Teana II Рестайлинг', 'BYD Song EV 2016-2019', 'Citroen DS I Рестайлинг 1', 'BMW M4 F82/F83', 'Honda CR-V I Рестайлинг', 'SsangYong Actyon I', 'Lifan X70 I', 'Opel Zafira C', 'Hyundai Lavita 2001-2007', 'Peugeot 107 I Рестайлинг 2', 'Toyota Supra IV (A80)', 'Fiat Tempra 1990-1999', 'Honda Integra IV', 'LADA (ВАЗ) Kalina II', 'Chevrolet Niva I', 'Chrysler Crossfire 2003-2007', 'Suzuki Alto V', 'Renault Kangoo I Рестайлинг', 'Volvo XC70 II Рестайлинг', 'Infiniti QX80 I Рестайлинг', 'Jaguar S-Type I', 'Volvo S80 II Рестайлинг 2', 'Skoda Superb II', 'Suzuki Swift IV Рестайлинг', 'Mercedes-Benz GLC AMG I (X253) Рестайлинг', 'Toyota Prius v (+) I Рестайлинг (ZVW40/41)', 'LADA (ВАЗ) 2115 1997-2012', 'Rolls-Royce Silver Seraph 1998-2002', 'Kia Cerato I Рестайлинг', 'Saab 9000 I', 'Nissan Silvia VI (S14)', 'Renault Sandero I', 'Subaru Outback IV Рестайлинг', 'Audi A6 III (C6)', 'AC Cobra Mk IV', 'Ford Fiesta Mk4 Рестайлинг', 'Kia Sorento I Рестайлинг', 'BMW i8 I', 'Jeep Cherokee V (KL) Рестайлинг', 'Audi A6 allroad II (C6)', 'Honda Jazz II Рестайлинг', 'Toyota Camry VII (XV50) Рестайлинг', 'Hyundai Terracan I', 'ГАЗ 13 «Чайка» 1959-1981', 'Hyundai IONIQ 2016-н.в.', 'Daewoo Nexia I', 'Ford Ranger (North America) III', 'Mazda Bongo III', 'Nissan Cube I Рестайлинг (Z10)', 'Plymouth Breeze 1995-2000', 'Mitsubishi Delica III', 'Kia Ceed I Рестайлинг', 'Nissan Elgrand II (E51)', 'Volkswagen Golf R32 IV', 'SEAT Cordoba I', 'Toyota Picnic I', 'Great Wall Hover H3 I Рестайлинг', 'Mitsubishi ASX I Рестайлинг 3', 'Chery Sweet (QQ) 2003-2013', 'FAW Besturn X40 I', 'Mercedes-Benz E-Класс V (W213, S213, C238)', 'Toyota Alphard III', 'GAC GS5 I', 'Kia Sportage I', 'Mercedes-Benz CLK-Класс I (W208)', 'Volvo XC90 I', 'BMW X6 M II (F86)', 'Toyota Noah II (R70)', 'Mazda CX-9 II', 'Hyundai Solaris I Рестайлинг', 'ГАЗ 69 1953-1972', 'Maserati Quattroporte V Рестайлинг', 'Peugeot 806 I', 'Saturn SL I', 'Chevrolet Aveo II', 'Renault Scenic II', 'Nissan Pathfinder III', 'Suzuki Aerio 2001-2007', 'Suzuki Wagon R VI', 'Chery Tiggo 3 I', 'BMW X3 III (G01)', 'Fiat Sedici 2005-2014', 'Nissan GT-R I Рестайлинг 3', 'Jaguar XJ IV (X351) Рестайлинг', 'Honda Ascot II (CE)', 'Daewoo Espero 1990-1999', 'Toyota Corolla Levin VI (AE100/AE101)', 'Mercedes-Benz S-Класс II (W126)', 'Mercedes-Benz B-Класс I (W245) Рестайлинг', 'Hyundai Trajet I Рестайлинг', 'Honda Concerto 1988-1994', 'Toyota WiLL I (Vi)', 'Citroen Xsara 1997-2006', 'Datsun mi-DO 2015-2020', 'Volkswagen Golf R VI', 'Porsche Cayenne Coupe I', 'Volkswagen Caravelle T3', 'Volkswagen Teramont I', 'Chevrolet Captiva I Рестайлинг', 'Volvo XC90 I Рестайлинг', 'Geely Emgrand 7 I', 'Chrysler Intrepid II', 'Chevrolet Corvette C6', 'Nissan Fairlady Z IV (Z32)', 'Chrysler Voyager III', 'Audi Q7 II (4M)', 'Toyota Ipsum II (M20)', 'Chevrolet Prizm 1997-2002', 'BMW 5 серии VII (G30/G31)', 'Mitsuoka Le-Seyde 1990-2001', 'Mitsubishi Pajero Junior 1995-1998', 'Audi Q7 II (4M) Рестайлинг', 'Renault Espace IV', 'Mazda 3 MPS II', 'Volkswagen Tiguan I', 'Chevrolet Tracker I', 'Mazda Bongo Friendee I', 'Mercedes-Benz C-Класс I (W202) Рестайлинг', 'Skoda Yeti I Рестайлинг', 'Mercedes-Benz G-Класс II (W463) Рестайлинг 3', 'Toyota Land Cruiser 100 Series Рестайлинг 1', 'Changan CS35 2013-н.в.', 'Renault Scenic IV', 'Fiat 500 I', 'Chevrolet Suburban X', 'Mercedes-Benz A-Класс I (W168) Рестайлинг', 'Cadillac ATS I', 'Dodge Stratus II Рестайлинг', 'Suzuki Vitara II Рестайлинг', 'BMW M8 I (F91/F92/F93)', 'MG MGA 1955-1962', 'Acura RL II', 'Chevrolet Corvette C3', 'Nissan Qashqai II', 'Toyota Alphard III Рестайлинг', 'Renault Espace II', 'Toyota Corolla Rumion 2007-2016', 'Cadillac CT6 I Рестайлинг', 'Volvo S90 II', 'Changan CS75 I', 'Acura MDX III', 'Lifan X60 I Рестайлинг 2', 'Toyota Wish I Рестайлинг', 'Toyota Tercel IV (L40)', 'Toyota Crown V (S80)', 'Volkswagen Jetta VI Рестайлинг', 'Toyota Vista I (V10)', 'Honda CR-Z 2010-2016', 'Cadillac Seville V', 'Renault Kaptur I', 'Nissan Prairie III (M12)', 'Nissan Laurel VII (C34)', 'Toyota Camry V40', 'Volkswagen Iltis 1978-1988', 'Cadillac XT4 I', 'Hyundai Tiburon I (RD) Рестайлинг', 'Toyota RAV4 II (XA20) Рестайлинг', 'Lincoln Town Car II', 'Ford F-150 XI', 'Land Rover Range Rover II', 'Chevrolet Blazer K5 II', 'Mazda Familia VII (BH)', 'Subaru Impreza II Рестайлинг 2', 'Mazda 3 III (BM) Рестайлинг', 'Honda Legend II', 'Nissan Navara (Frontier) III (D40)', 'Ford Kuga II', 'LADA (ВАЗ) 2131 (4x4) I', 'MINI Coupe I', 'Mercedes-Benz G-Класс II (W463)', 'Mitsubishi Lancer VII', 'Oldsmobile Aurora I', 'Subaru Impreza IV Рестайлинг', 'Honda HR-V I Рестайлинг', 'Suzuki Landy II', 'Fiat Panda III', 'Volkswagen Transporter T3', 'Lifan X60 I', 'Nissan Xterra II', 'BMW X3 I (E83) Рестайлинг', 'Hyundai Coupe II (GK) Рестайлинг', 'Jeep Liberty (Patriot) 2006-2016', 'Nissan Skyline VII (R31)', 'Bentley Continental GT II', 'Opel Astra F', 'Citroen DS3 I', 'Skoda Rapid I Рестайлинг', 'Opel Astra H Рестайлинг', 'Hyundai Santa Fe II', 'Kia Rio I', 'Isuzu Rodeo I', 'Mazda 626 V (GF)', 'Honda Odyssey (North America) IV', 'Infiniti Q I', 'Volvo V40 II Рестайлинг', 'Renault Espace III', 'Volkswagen Transporter T5', 'Volkswagen Sharan II Рестайлинг', 'Renault Logan I Рестайлинг', 'Mitsubishi Pajero II Рестайлинг', 'Aston Martin Rapide I (S)', 'Toyota Carina E 1992-1998', 'Renault Scenic III Рестайлинг 2', 'Mercedes-Benz G-Класс III (W463)', 'Mitsubishi Lancer Evolution VIII', 'Haima M3 2014-2017', 'Jaguar XJ II (X300)', 'Audi S6 III (C6) Рестайлинг', 'Bentley Continental Flying Spur 2005-2012', 'Chevrolet Lanos I', 'Hyundai Getz I Рестайлинг', 'Hyundai Solaris II Рестайлинг', 'Peugeot RCZ I Рестайлинг', 'SEAT Alhambra I', 'Mitsubishi Eclipse IV', 'GMC Savana I Рестайлинг', 'BMW M3 II (E36)', 'BMW X5 IV (G05)', 'Nissan Patrol V (Y61)', 'Dodge Intrepid II', 'Chevrolet Viva 2004-2008', 'Volvo V60 Cross Country I', 'Acura TL III Рестайлинг', 'Excalibur Series V 1985-1997', 'Toyota Corolla VI (E90)', 'Chevrolet Express I', 'Lamborghini Murcielago I Рестайлинг', 'Chrysler Town & Country V Рестайлинг', 'Lexus IS III', 'Infiniti QX50 II', 'Mercedes-Benz V-Класс II', 'Toyota Avalon III Рестайлинг', 'Nissan Patrol VI (Y62)', 'Volkswagen Golf III', 'Kia Quoris I', 'Audi A1 I (8X) Рестайлинг', 'Citroen Berlingo I', 'Subaru Forester IV Рестайлинг', 'Hummer H2 I', 'Daewoo Magnus 2000-2006', 'Lexus NX I', 'Infiniti G III', 'Mercedes-Benz SL-Класс VI (R231)', 'Adler Trumpf Junior I', 'Renault Trafic II Рестайлинг', 'Mercedes-Benz A-Класс AMG II (W177)', 'Mercedes-Benz EQC I (N293)', 'SsangYong Rodius I', 'Kia Carnival I', 'LADA (ВАЗ) Priora I', 'Suzuki Solio II', 'Mitsubishi Outlander III Рестайлинг 2', 'Auburn Speedster 1935-1937', 'Skoda Octavia I (A4)', 'Toyota Avensis II', 'Saab 96 1960-1980', 'ГАЗ 21 «Волга» 1956-1970', 'Honda Civic VII Рестайлинг', 'Smart Forfour I', 'Nissan Serena I (C23)', 'Mercedes-Benz GLC Coupe I (C253)', 'Nissan Teana I', 'Toyota Corolla X (E140, E150) Рестайлинг', 'Mitsubishi L300 II', 'Mazda Xedos 9 I', 'Porsche Boxster I (986)', 'Mercedes-Benz Citan 2012-н.в.', 'Subaru Outback II', 'Opel Vivaro B', 'Genesis G70 I', 'Mazda Familia VIII (BJ)', 'Mercedes-Benz M-Класс III (W166)', 'Toyota Esquire I', 'Mercedes-Benz E-Класс AMG V (W213) Рестайлинг', 'Mitsubishi Colt VI (Z30) Рестайлинг', 'Volkswagen Sharan I Рестайлинг', 'Audi Q3 I (8U) Рестайлинг', 'Москвич 2136 1976-1981', 'Hyundai Avante V', 'Lincoln Navigator II', 'Chevrolet Captiva I', 'Audi S4 I (B5)', 'Skoda Superb I', 'Audi Q5 I (8R)', 'BMW 5 серии VII (G30/G31) Рестайлинг', 'Ford Expedition III', 'Mercedes-Benz C-Класс I (W202)', 'Mercedes-Benz Maybach S-Класс I (X222)', 'Kia Sorento IV', 'Renault 20 1975-1983', 'Infiniti QX56 I', 'Citroen C5 II', 'Nissan AD I', 'Infiniti QX70 2013-2017', 'Aston Martin V8 Vantage II', 'ЗАЗ 1103 «Славута» 1999-2011', 'BMW Z3 I Рестайлинг', 'Hyundai Elantra III (XD2) Рестайлинг', 'Lamborghini Gallardo I Рестайлинг', 'Tesla Model S I', 'Skoda Octavia IV (A8)', 'Chevrolet Camaro V', 'Toyota FJ Cruiser 2006-н.в.', 'Kia Mohave I', 'Honda Accord VII Рестайлинг', 'Mitsubishi ASX I Рестайлинг 2', 'Mercedes-Benz CLC-Класс 2008-2011', 'Audi A8 I (D2) Рестайлинг', 'Toyota Land Cruiser Prado 150 Series', 'Pontiac Trans Sport I', 'Audi 100 III (C3)', 'Toyota Spade 2012-2020', 'Chevrolet Equinox I', 'Audi 80 IV (B3)', 'Cadillac BLS 2006-2009', 'Saturn VUE I', 'Toyota Avalon III', 'Daewoo Tico 1991-2001', 'Aston Martin DB7 I Рестайлинг', 'Fiat Palio I', 'Nissan Patrol IV (Y60)', 'Daihatsu Mira e:S I Рестайлинг', 'LADA (ВАЗ) 21099 1990-2011', 'Mitsubishi Eclipse IV Рестайлинг', 'Kia Ceed GT I', 'Infiniti I II', 'Audi A3 III (8V) Рестайлинг', 'Toyota Wish II Рестайлинг', 'Mercury Cougar VI', 'Suzuki Swift II', 'Audi R8 II (4S)', 'Volkswagen Arteon I', 'Chevrolet Corvette C4', 'Land Rover Range Rover III Рестайлинг', 'Opel Astra J Рестайлинг', \"Opel Admiral '37\", 'Scion xB I', 'Audi TT II (8J) Рестайлинг', 'Toyota Mark X I', 'Dodge Dakota II', 'Genesis GV80 I', 'Dodge Caravan V', 'Audi R8 I (Typ 42)', 'Nissan Almera III (G15)', 'BMW X1 II (F48)', 'Rolls-Royce Phantom VII', 'Audi Q8 I', 'Volvo C70 II', 'Audi TT II (8J)', 'Audi A7 I (4G) Рестайлинг', 'Mitsubishi Delica D:5 I', 'Hyundai i40 I', 'Brilliance M1 (BS6) I', 'Peugeot 407 2004-2011', 'Suzuki Swift II Рестайлинг', 'Toyota Corona IX (T190)', 'DongFeng H30 Cross 2011-2018', 'Chevrolet Starcraft 1992-1996', 'Nissan Largo II (GC22)', 'Daihatsu Rocky 1989-1998', 'Chery Tiggo (T11) I Рестайлинг (FL)', 'Alfa Romeo 159 2005-2011', 'Toyota Alphard II', 'Audi RS 4 III (B8)', 'Mitsubishi Galant VII', 'Volkswagen Golf Plus I', 'Infiniti QX56 I Рестайлинг', 'Toyota GT86 I', 'Kia Sportage IV', 'Lifan Solano I Рестайлинг (630)', 'Volkswagen Amarok I Рестайлинг', 'Mercury Villager I', 'Subaru Impreza II', 'Lexus RX III Рестайлинг', 'Hyundai Avante III', 'Volkswagen Touareg II', 'Hyundai Galloper II', 'Subaru Forester II Рестайлинг', 'Citroen C8 I', 'Nissan Navara (Frontier) III (D40) Рестайлинг', 'Mercedes-Benz Metris 2015-н.в.', 'Audi 80 III (B2)', 'Audi RS 4 IV (B9)', 'Mercedes-Benz E-Класс AMG IV (W212, S212) Рестайлинг', 'Acura RSX I', 'Toyota C-HR I', 'Lexus RX I', 'Rolls-Royce Wraith 2013-н.в.', 'Saab 9-5 I Рестайлинг 2', 'Dodge Durango II', 'Cadillac DeVille VIII', 'Nissan Primera I (P10)', 'Peugeot 308 I', 'Cadillac STS I Рестайлинг', 'Ford Econoline III', 'Saab 9000 I Рестайлинг', 'Lifan Breez (520) 2007-2014', 'Aston Martin DBX I', 'Nissan Qashqai I Рестайлинг', 'Renault Symbol I Рестайлинг 2', 'Volkswagen Amarok I', 'Nissan Terrano I', 'Mercedes-Benz SL-Класс AMG II (R230) Рестайлинг 2', 'Honda Passport I', 'Chevrolet TrailBlazer I', 'Ford Explorer VI', 'Isuzu Trooper II', 'Cadillac CTS-V III', 'Москвич Святогор 1997-2002', 'Kia Sportage II', 'Mitsubishi Pajero IV Рестайлинг 1', 'Ferrari GTC4Lusso 2016-2020', 'Toyota Passo III', 'Opel Frontera B', 'Mercedes-Benz W136 1936-1955', 'Kia K5 I', 'Toyota Sequoia I Рестайлинг', 'Honda Civic IX', 'Mitsubishi Colt VI (Z20/Z30)', 'Nissan Stagea I', 'Porsche 911 VII (991)', 'Volvo V40 I Рестайлинг', 'Kia Quoris I Ресталинг 2', 'Volkswagen Golf GTI IV', 'Hyundai Equus II Рестайлинг', 'GMC Yukon I (GMT400)', 'Mercedes-Benz GLE AMG II (V167)', 'Kia Sportage III Рестайлинг', 'Chrysler PT Cruiser 2000-2010', 'Mercedes-Benz CL-Класс III (C216) Рестайлинг', 'Maserati Quattroporte V', 'ЗАЗ 1102 «Таврия» 1988-2009', 'Honda S2000 I Рестайлинг (AP2)', 'BMW 3 серии II (E30)', 'Lexus LS V', 'Mazda CX-5 I Рестайлинг', 'Toyota Duet 1998-2004', 'Toyota Camry VI (XV40) Рестайлинг', 'LADA (ВАЗ) 2108 1984-2005', 'Hyundai Verna II', 'Volvo S40 II Рестайлинг', 'Toyota Pronard 2000-2004', 'Hafei Princip 2004-2010', 'Jeep Compass I', 'Subaru Impreza WRX STi III', 'Porsche 911 III (964)', 'Rover 75 I', 'Toyota Land Cruiser 80 Series', 'Peugeot 408 I Рестайлинг', 'Mercedes-Benz Viano I (W639) Рестайлинг', 'Nissan Pathfinder IV', 'Toyota Avensis III Рестайлинг 2', 'Toyota Vista III (V30)', 'Kia Optima III', 'Toyota Avensis Verso I Рестайлинг', 'Land Rover Range Rover Sport I', 'Subaru Outback III', 'Opel Zafira B', 'Jeep Grand Cherokee II (WJ)', 'Infiniti JX 2012-2014', 'Peugeot Partner II', 'LADA (ВАЗ) 2121 (4x4) I Рестайлинг (2020)', 'Honda Civic Ferio III', 'Toyota Town Ace II', 'Datsun on-DO I', 'Toyota Venza I Рестайлинг', 'Audi A4 I (B5)', 'Volkswagen Touareg I', 'Mitsubishi Space Wagon III', 'Bentley Flying Spur I', 'Mercedes-Benz SL-Класс VI (R231) Рестайлинг', 'BMW 4 серии F32/F33/F36 Рестайлинг', 'Audi A6 allroad I (C5)', 'Renault Laguna I', 'Nissan Teana II', 'Honda Stepwgn II', 'Honda Crosstour I', 'Brabus SV12 2009-2013', 'Ford Ranger IV', 'Mercedes-Benz CLS AMG II (W218) Рестайлинг', 'Datsun on-DO I Рестайлинг', 'Hyundai Tucson II', 'Mitsubishi Endeavor 2002-2011', 'MINI Clubman II Рестайлинг', 'Cadillac SRX II Рестайлинг', 'Toyota Vitz II (XP90)', 'Land Rover Discovery V', 'Land Rover Discovery I', 'Porsche Panamera I', 'Mercedes-Benz GLC I (X253) Рестайлинг', 'Toyota Harrier II (XU30)', 'Acura MDX I', 'Toyota Corolla XI (E160, E170)', 'Toyota Yaris I Рестайлинг', 'Volvo XC40 I', 'Triumph Spitfire III', 'Toyota Fortuner I', 'Toyota Corona VIII (T170)', 'Skoda 1200 I', 'Jaguar F-Pace I', 'Mazda 2 II (DE)', 'Renault Megane I Рестайлинг', 'Kia Rio II Рестайлинг', 'Skoda Rapid II', 'Alfa Romeo 156 I Рестайлинг 1', 'Land Rover Discovery Sport I', 'Nissan Patrol V (Y61) Рестайлинг', 'Jeep Renegade I Рестайлинг', 'Honda Beat 1991-1996', 'Mercedes-Benz S-Класс I (W116)', 'BMW X1 I (E84)', 'Toyota Chaser V (X90)', 'Toyota Raum II', 'Subaru Outback III Рестайлинг', 'Mercedes-Benz GLS AMG I (X166)', 'Opel Vivaro A', 'Volkswagen Caddy III', 'Mercedes-Benz SL-Класс IV (R129) Рестайлинг 2', 'Rolls-Royce Corniche V', 'Mercedes-Benz GLA AMG I (X156) Рестайлинг', 'Nissan Clipper Rio I Рестайлинг', 'Toyota bB I', 'Skoda Octavia III (A7)', 'BMW Z1 1988-1991', 'Chery Tiggo 5 I', 'Audi A6 allroad III (C7)', 'Nissan Silvia VII (S15)', 'Mitsubishi Dingo 1998-2003', 'Honda Inspire III', 'Suzuki Jimny III Рестайлинг 1', 'Ford Model A 1927-1931', 'Alpina B7 G11', 'Toyota Previa I (XR10, XR20)', 'Hyundai ix55 2008-2013', 'Acura Legend II', 'Hyundai Elantra VI (AD) Рестайлинг', 'Isuzu D-Max II Рестайлинг', 'Toyota Sequoia I', 'Alfa Romeo Giulia II (952)', 'Toyota Crown IX (S140)', 'Chevrolet HHR 2005-2011', 'ЗАЗ Sens 2004-2009', 'ГАЗ ГАЗ 67 1943-1953', 'Porsche 911 GT3 991', 'Volkswagen Caravelle T6', 'Toyota Estima II', 'Audi A4 IV (B8)', 'Mitsubishi Carisma I', 'Ford Explorer V Рестайлинг 2', 'Toyota Alphard I', 'Jeep Wrangler IV (JL)', 'Shanghai Maple C81 I', 'Suzuki Baleno I', 'Toyota Harrier I (XU10) Рестайлинг', 'BMW 1 серии II (F20/F21) Рестайлинг 2', 'Chrysler Neon I', 'BMW 3 серии V (E90/E91/E92/E93) Рестайлинг', 'Kia XCeed I', 'Volvo C30 I', 'Subaru Tribeca I Рестайлинг', 'Audi Q5 I (8R) Рестайлинг', 'Dodge Nitro 2006-2011', 'Citroen C4 Aircross 2012-2017', 'Toyota Mark II VI (X80)', 'Mercedes-Benz CLA AMG I (C117, X117)', 'Chevrolet Astro 1985-2005', 'Geely Emgrand EC7 2009-2016', 'Mercedes-Benz S-Класс V (W221)', 'Renault Megane III Рестайлинг 2', 'Mitsubishi Pajero III', 'Subaru Legacy VI Рестайлинг', 'Toyota Celica VI (T200) Рестайлинг', 'Chevrolet Lumina APV 1989-1996', 'Mazda MPV II (LW)', 'Mercedes-Benz E-Класс IV (W212, S212, C207)', 'Ford Escort V Рестайлинг 1', 'Lexus IS II Рестайлинг', 'Toyota Hilux VII Рестайлинг', 'Kia Spectra I Рестайлинг 1', 'Volvo V50 I Рестайлинг', 'Москвич 2140 1976-1988', 'Mitsubishi Minica VIII', 'Lexus RX III', 'Infiniti QX60 I Рестайлинг', 'Toyota Cresta IV (X90)', 'Kia Ceed I', 'Porsche Macan I Рестайлинг', 'Toyota Land Cruiser 200 Series Рестайлинг 1', 'Opel Zafira C Рестайлинг', 'Volkswagen Jetta IV', 'Honda HR-V I', 'Tesla Model 3 I', 'Great Wall Wingle II (Wingle 5)', 'Ford Tourneo Connect I', 'Porsche Boxster I (986) Рестайлинг', 'Audi S8 II (D3) Рестайлинг', 'Volvo C70 I', 'Daihatsu Mira VII', 'Toyota Cresta V (X100)', 'Mitsubishi Galant IX Рестайлинг', 'Mitsubishi Lancer Evolution V', 'Mitsubishi Outlander I', 'Jaguar XK I', 'DW Hower H3 I', 'УАЗ 3153 1996-2006', 'Mazda 626 IV (GE)', 'Chevrolet Traverse II', 'SsangYong Rodius I Рестайлинг', 'Toyota Voxy II (R70) Рестайлинг', 'Infiniti Q30 2015-2019', 'Mercedes-Benz W186 1951-1957', 'Audi S4 III (B7)', 'Chevrolet TrailBlazer II', 'Ford Focus (North America) I', 'Opel Meriva B', 'Tianma Century 2005-2008', 'Volkswagen Multivan T6', 'Toyota Camry VII (XV50) Рестайлинг 2', 'Daewoo Damas I', 'Cadillac DeVille I', 'Daewoo Lanos 1997-2008', 'Mercedes-Benz CL-Класс III (C216)', 'Volkswagen Transporter T6', 'Kia Carnival I Рестайлинг', 'Nissan Altima I (U13)', 'Daewoo Nubira I', 'Volvo C70 II Рестайлинг', 'Toyota RAV4 II (XA20)', 'Volkswagen Multivan T4', 'Chrysler Voyager IV Рестайлинг', 'Nissan Primera II (P11)'}\n",
      "modelDate \n",
      "\n",
      "{'RS7', 'TOWN_ACE', 'GLC_COUPE', '1ER', 'LANCER_RALLIART', 'OCTAVIA_RS', 'LAFESTA', 'AMG_GLC_COUPE', 'G_KLASSE', 'ALMERA_CLASSIC', 'TYPE_1', 'CR_X', 'S_CLASS_MAYBACH', 'GRAND_HIACE', 'EUROVAN', 'AIRWAVE', 'TERRANO_REGULUS', 'C_KLASSE', 'COROLLA_VERSO', 'SPRINTER_MARINO', 'SLK_KLASSE', 'ALMERA_TINO', 'GLK_KLASSE', 'RSQ3', 'M1', 'SLC_KLASSE', 'MEGA_CRUISER', 'TT_RS', 'LANCER_EVOLUTION', 'AMG_GT', 'S_KLASSE_AMG', 'COROLLA_II', 'W201', 'PRIUSPLUS', 'X4_M', 'V60_CROSS_COUNTRY', 'LITE_ACE', 'SIMPLEX', 'MARK_X_ZIO', 'SPACE_GEAR', 'CAMRY_SOLARA', 'MARK_II', 'S60_CROSS_COUNTRY', 'TARO', 'MAYBACH_GLS', 'AVENSIS_VERSO', 'SL_KLASSE', '2ER', 'GLE_KLASSE_COUPE_AMG', 'SIGMA', 'S_KLASSE', 'MONTERO_SPORT', 'I_MIEV', 'CORONA_EXIV', 'FJ_CRUISER', 'GOLF_GTI', 'GLS_KLASSE', 'EMERAUDE', 'COROLLA_SPACIO', 'PAJERO_PININ', 'CLA_KLASSE', 'PAJERO_MINI', 'E_KLASSE_AMG', 'PAJERO_SPORT', 'WILL_CYPHA', 'QUEST', 'GL_KLASSE', 'QASHQAI_PLUS_2', 'CARAVAN_COACH', 'DAYZ_ROOX', 'RS4', 'A2', '100NX', 'CR_Z', 'LAND_CRUISER_PRADO', 'Z3M', 'PREMIO', '120', 'C_HR', 'SLR_KLASSE', 'CLC_KLASSE', 'VIGOR', 'BLUEBIRD_SYLPHY', 'RS5', 'GLC_KLASSE_AMG', 'A_KLASSE', 'CITY', 'MINICAB', 'RS3', 'CLS_KLASSE_AMG', 'X5_M', 'X_KLASSE', 'PAJERO_IO', 'HR_V', 'GLE_KLASSE_COUPE', 'FABIA_RS', 'GOLF_R32', '280ZX', 'CL_KLASSE_AMG', 'CYNOS', 'CLK_KLASSE', 'N_BOX', 'B_KLASSE', '5ER', '2GRANDTOURER', 'SLS_AMG', 'DELICA_D2', 'GRANVIA', 'SPACE_STAR', 'COROLLA_LEVIN', 'DELICA_D_5', 'GLE_KLASSE', 'GOLF_R', 'GLS_KLASSE_AMG', 'MOBILIO_SPIKE', 'JUKE_NISMO', 'E_TRON', 'GLB_KLASSE', 'GL_KLASSE_AMG', 'M_KLASSE_AMG', 'PASEO', '440', '02', 'R_KLASSE', '6ER', 'C_KLASSE_AMG', 'ORIGIN', 'EK_WAGON', 'CL_KLASSE', 'CLA_KLASSE_AMG', 'GT_R', 'AYGO', 'CIVIC_FERIO', 'GLA_CLASS', 'X3_M', 'FAIRLADY_Z', 'SPACE_WAGON', 'NAVARA', 'CARINA_E', 'RS6', 'LAND_CRUISER', 'SPRINTER_CARIB', 'N_WGN', 'E3', 'COROLLA_RUMION', 'TTS', 'POLO_GTI', 'VEZEL', 'CR_V', '7ER', 'CIVIC_TYPE_R', 'A4_ALLROAD', 'SPACE_RUNNER', 'SL_KLASSE_AMG', 'G35', 'M_KLASSE', 'YARIS_VERSO', 'V90_CROSS_COUNTRY', 'HILUX_SURF', 'G_KLASSE_AMG', 'MR_S', 'MASTER_ACE_SURF', 'PRIUS_ALPHA', 'V40_CC', 'RIDGELINE', '8ER', 'E_KLASSE', 'CARINA_ED', 'GLC_KLASSE', 'ECLIPSE_CROSS', 'VERSO_S', 'URVAN', 'HS', '200SX', '240_SERIES', '190_SL', 'GOLF_PLUS', 'A_KLASSE_AMG', 'SPRINTER_TRUENO', 'CROWN_MAJESTA', 'V_KLASSE', 'X_TRAIL', 'RAV_4', 'PASSAT_CC', 'X6_M', 'GLE_KLASSE_AMG', 'ALLROAD', 'GLA_CLASS_AMG', '3ER', 'FR_V', 'ODYSSEY_NA', 'KIX', '100_SERIES', 'CLS_KLASSE', '2ACTIVETOURER', 'SCEPTER_SEDAN', 'RNESSA', 'STEPWAGON', '140', 'POPULAR', 'MARK_X'}\n",
      "{nan, 'BROUGHAM', 'GT-R', 'H3', 'RDX', 'F430', 'DART', 'TIGRA', 'S-MAX', 'CONTINENTAL GT', 'BOLT', 'ALTO', 'DEER', 'QUATTROPORTE', 'МОСКВИЧ-412', '190 SL', 'EVANDA', '62', 'HATCH', 'TIGGO 5', 'LUXGEN7 SUV', 'SPEEDSTER', '911', 'PRIORA', 'T613', 'FLORID', 'SC7', 'GLA AMG', 'DBX', 'BONUS 3 (E3/A19)', 'G70', 'COOLRAY', 'M8', 'CONTINENTAL', 'PACIFICA', '105, 120', 'CARNIVAL', 'MAVERICK', 'OUTBACK', 'NEXIA', 'ESCAPE', 'FJ CRUISER', 'BEL AIR', 'ALTEA', '110', 'TRAJET', 'SUBURBAN', 'H9', 'ATRAI', 'HIJET', 'GRANADA', 'STEPWGN', 'PERI', 'SAMAND', 'WINDSTAR', '3110 «ВОЛГА»', 'LAVITA', 'RANGE ROVER', 'KORANDO TURISMO', 'X60', 'A4 ALLROAD', 'WRAITH', 'JS 51', 'LIANA', '3008', 'FORFOUR', 'TIGGO 2', 'ACTYON SPORTS', 'CRETA', 'S1 (REIN)', 'ODYSSEY (NORTH AMERICA)', '403', 'LASER', 'H6', 'IMPREZA WRX STI', '488', 'BLUEBIRD SYLPHY', 'CORDOBA', '4104', 'JOICE', 'BEAT', '31105 «ВОЛГА»', 'DB9', 'SAILOR', 'ACCENT', 'BT-50', 'CERATO', 'SMILY', '7', 'CORSICA', 'H-1', 'RODEO', 'CX-7', 'CALIBRA', 'SIRION', 'E6', '612', 'MOVE', '24 АРО', '911 GT2', 'ORLANDO', 'MATIZ', 'GEMINI', 'CONCORDE', 'EMGRAND X7', 'GLC AMG', 'AEROSTAR', 'G90', 'KAPPA', 'FORTWO', 'F-PACE', 'PICANTO', '2330 «ТИГР»', 'RETONA', '600', 'GRAND STAREX', 'BREEZE', 'SAVANA', 'ARIES', 'C8', 'PALIO', 'SEDICI', 'W110', 'I40', 'SARATOGA', 'PANDA', 'SWIFT', '121', 'SCORPIO', 'EPICA', '21', 'SPLASH', 'MODEL Y', 'MARSHAL', 'TIGGO 4', 'ROADSTER', 'PRIUS ALPHA', 'EXPEDITION', 'STARCRAFT', 'COMMODORE', 'FIESTA', 'I-MIEV', 'PUNTO', 'CS35', 'MARK II', 'VESTA', 'RANGE ROVER VELAR', 'SPACE RUNNER', 'VECTRA OPC', 'BESTURN X40', 'CLUBMAN', 'HILUX SURF', 'ESCUDO', 'G-КЛАСС AMG', 'ULYSSE', 'GT', 'M1 (BS6)', 'LITE ACE', 'MIRA', 'FLYING SPUR', 'ROCSTA', 'HR-V', 'RANGER', 'X5 M', 'M2 (BS4)', 'MACAN', 'DEVILLE', '3102 «ВОЛГА»', '1102 «ТАВРИЯ»', 'GV80', 'CL-КЛАСС', 'AMULET (A15)', 'LACETTI', 'SX4', 'RENEGADE', 'EVASION', 'ROCKY', 'EADO', 'ARRIZO 7', 'PREMACY', 'GLA', 'KALINA', 'GLS', 'I30', '2000', 'AERIO', 'SEDONA', 'COMMANDER', 'GRAND CHEROKEE', 'G80', 'GLS AMG', 'SPACE GEAR', 'PRIMASTAR', 'X-TYPE', 'VOLT', 'GIULIETTA', '2105', 'DISCOVERY', '57', 'Z3 M', 'ESTINA', 'GENESIS COUPE', 'PICKUP', '406', 'CARINA E', 'FOCUS (NORTH AMERICA)', 'CTS', 'GRAND AM', 'CHARGER', '19', 'M-КЛАСС', 'VERY (A13)', 'WINSTORM', 'KIMO (A1)', 'PROACE', 'C2', '166', 'AMG GT', 'LM002', 'MARK X', 'PRONARD', '6', 'KONDOR', 'TAURUS', 'GLC COUPE AMG', 'EXPRESS', '2000 C/CS', '3', '9000', 'SLK-КЛАСС AMG', '3 MPS', 'VIBE', 'FAIRLADY Z', 'TIGGO (T11)', 'DS4', 'SEPHIA', 'JIMNY', 'COMPASS', 'DEFENDER', '3=6', 'XA', 'XE', 'LAND CRUISER', 'TOWN & COUNTRY', 'KORANDO', 'VENGA', 'TRIBECA', 'SPECTRA', 'PRIDE', 'STAVIC', 'LC', 'ALERO', 'RS 6', 'GHOST', 'X6 M', 'KOLEOS', '6 MPS', 'V5', 'IX55', 'SILVER SERAPH', 'TAYCAN', 'FLAIR', 'EQUUS', 'CX-5', 'ESPERO', 'K900', 'IMPREZA', 'Q3 SPORTBACK', 'X70', '412', 'TRIBUTE', '2', 'TAGER', 'N-BOX', 'TOLEDO', 'TINGO', 'GENESIS', 'SERIES V', 'EXPLORER SPORT TRAC', 'SONATA', 'CR-X', 'GLC COUPE', 'PRIZM', 'IGNIS', 'SWEET (QQ)', 'GETZ', 'C-КЛАСС AMG', 'A-КЛАСС', 'FREELANDER', 'SIERRA', 'PAJERO IO', 'SLK-КЛАСС', '101', 'CT6', 'V40 CROSS COUNTRY', 'PANAMERA', 'CLA AMG', 'PACEMAN', 'MALIBU', 'BALENO', '616', 'BESTURN X80', 'AQUILA', 'COO', 'PAJERO MINI', 'IBIZA', 'C10', 'WIZARD', 'LANCER RALLIART', 'T600', 'TEMPRA', '408', 'SUPER SIX', 'CRUZE (HR)', 'HUSTLER', 'C-MAX', 'SRX', 'RIO', '2103', 'SOLIO', 'AVIATOR', 'DS', 'CROSSEASTAR (B14)', 'JUKE NISMO', 'V12 VANTAGE', 'C5', 'CAYENNE COUPE', 'RS Q3', 'D6', '2111', 'TIGGO 3', 'GS5', 'SLR MCLAREN', 'EMGRAND 7', '24 «ВОЛГА»', 'CIVIC TYPE R', 'VEGA', 'RAY', 'SANTAMO', 'DAKOTA', 'ELDORADO', 'MEGA CRUISER', 'V-КЛАСС', 'CX-9', '45', 'VERACRUZ', 'EL CAMINO', 'G', 'PERSONA', 'С-3Д', '220 (W187)', 'EXIGA', 'TACOMA', '2 СЕРИИ GRAN TOURER', 'TYP 154', 'VITA', 'RAV4', 'SAMURAI', 'SL', 'TOURNEO CUSTOM', 'COUNTRYMAN', 'SINTRA', '911 GT3', 'ECLIPSE CROSS', 'LACROSSE', '1200', 'RODIUS', '5', 'EVERY', 'STREETWISE', '2137', 'U7 TURBO', 'GLE COUPE AMG', 'FARGO', 'CLS AMG', '605', '8C COMPETIZIONE', '2110', 'MERIVA', 'CAYMAN', '240 SERIES', 'FABIA RS', 'SPITFIRE', 'TX', 'ILX', 'SEBRING', 'LINEA', 'XG', 'R4', \"R'NESSA\", '2008', 'CELLIYA (530)', 'MEGANE', '929', '968', '21099', 'GENTRA', 'RL', 'FLEETWOOD', 'ALBEA', 'LEBARON', 'TROOPER', 'SILHOUETTE', 'F7X', 'LEVANTE', 'GRAND VITARA', 'FOCUS', 'INDIS (S18D)', '599', 'LANDMARK', 'BESTURN B50', '965', 'VAN', 'DOKKER', 'COWRY (V80)', 'GHIBLI', '1007', 'CIVIC FERIO', 'INSIGNIA OPC', 'MONTANA', 'LEVORG', '8 СЕРИИ', '469', 'EK WAGON', 'TURBO R', 'ESTEEM', 'MODUS', 'MAYBACH S-КЛАСС', 'TANK', 'BRERA', '2131 (4X4)', 'MKT', '2329', 'LIBERTY (NORTH AMERICA)', 'COROLLA LEVIN', '31029 «ВОЛГА»', 'BLAZER K5', '300C', 'MULSANNE', 'ASTRO', 'TUCSON', 'SALADIN', 'RANGE ROVER EVOQUE', '626', 'SOLANO', '4008', 'WRX', 'MX-5', 'ZAFIRA LIFE', 'INTREPID', 'FORESTER', 'I20', '69', 'CROWN VICTORIA', 'GALAXY', 'COMBO', '967', 'SCENIC', 'LEGANZA', 'X350', 'ARKANA', 'BIGHORN', 'RX-8', 'STRATUS', 'PRIUS V (+)', 'TIVOLI', 'EXCURSION', 'ESCORT', 'C190', 'FORA (A21)', 'GLC', 'ON-DO', 'DURANGO', 'FOCUS ST', '9-5', 'DELUXE', 'CLARUS', 'C-CROSSER', 'TALON', 'CROSSFIRE', 'SIGNUM', 'CIRRUS', 'RANGE ROVER SPORT', 'GRANTURISMO', 'C-HR', '405', 'NEXIA R3', 'XFR', 'XT5', 'H2', 'SABLE', 'CORDA', 'XSARA', 'DELTA', 'PUMA', '360', 'PAJERO PININ', 'CAPELLA', 'WAGON R+', '306', 'CONTINENTAL FLYING SPUR', 'LESABRE', 'AVENSIS VERSO', '146', 'CORVETTE', 'IONIQ', 'PATRIOT', '2121 (4X4)', 'STELLA', 'RAM', 'X-КЛАСС', 'HOVER H6', 'QASHQAI+2', 'PRINCIP', 'REZZO', 'EQC', 'MX-3', '7 СЕРИИ', '812', 'RANGER (NORTH AMERICA)', 'CEED GT', 'PYZAR', 'MURCIELAGO', '107', 'FC (VISION)', 'KIZASHI', 'GTV', 'MAGNUM', '2112', 'COPEN', 'DEMIO', 'MODEL 3', '4007', 'HOVER H5', 'E-PACE', '308', 'C-КЛАСС', 'TICO', 'MKC', 'REKORD', '2106', '13 «ЧАЙКА»', '3151', 'C4 PICASSO', 'MONDEO', 'S5 (EAGLE)', 'LUMINA APV', 'FORTE', 'VUE', 'WAGON R', 'CHANCE', 'PARISIENNE', 'BRAVA', 'ANTARA', 'XRAY', 'MYWAY', 'GOLF R', 'XANTIA', 'THESIS', '3160', 'TYPE 1', 'A6 ALLROAD', 'ORION', 'STAREX', '2125 «КОМБИ»', 'CULLINAN', 'BERLINGO', 'DOBLO', '2102', 'AXELA', 'CABRIO', 'ГАЗ 67', 'BRONCO', '2 СЕРИИ', '147', 'AX7', 'TIPO', 'MAGENTIS', 'D-MAX', 'ФОРМУЛА', 'SOUL', 'M11 (A3)', 'H1', 'OCTAVIA RS', 'HURACÁN', 'S-TYPE', 'MODEL T', 'GLE', 'CLIO RS', 'PONY', 'CLIPPER RIO', 'XSARA PICASSO', '350', 'DUSTER', 'ZR', 'XM', '9-3', 'COROLLA VERSO', 'COUGAR', 'ELANTRA', 'MAGNUS', 'GOLF R32', 'FR-V', 'KORANDO SPORTS', 'ZAFIRA', 'X50', '21261 «ФАБУЛА»', 'СВЯТОГОР', 'TC', 'FAMILIA', 'XKR', 'MONTERO SPORT', 'RS 7', 'XF', 'K5', 'DELICA D:5', 'X-TRAIL', 'PROWLER', 'BLS', 'AVANTIME', 'GRAND HIACE', 'D60', 'DS5', 'CENTURY', 'SAUVANA', 'F12BERLINETTA', '800', 'TRACKER', 'DAMAS', 'VELOSTER', 'MURMAN (820)', '2113', 'TRUMPF JUNIOR', 'OPIRUS', 'KAPTUR', 'G-КЛАСС', 'PROTEGE', '2120 НАДЕЖДА', 'YRV', 'JIMMY', 'LANDY', 'EXPLORER', '356', 'CUTLASS SUPREME', 'LAND CRUISER PRADO', '208', 'TRAVERSE', 'FF', 'TRAVIQ', 'TERRACAN', 'KANGOO', 'TUSCANI', 'COBRA', 'PROCEED MARVIE', 'BRIO', 'DELTA WAGON', 'CL-КЛАСС AMG', 'CLIO', 'MYSTIQUE', 'ACCLAIM', 'CORNICHE', 'BLAZER', 'PHANTOM', 'SPRINTER CARIB', 'HOVER', 'TRAVELLER', '6 СЕРИИ', 'VECTRA', 'GLB', 'COROLLA SPACIO', 'STEALTH', 'SORENTO', 'RSX', 'INSIGNIA', 'BONNEVILLE', 'CAYENNE', '75', '2115', 'LATITUDE', 'F3', 'R-КЛАСС', '2104', '1103 «СЛАВУТА»', 'MPV', 'AVANTE', 'CTS-V', 'SUNFIRE', 'RCZ', '400', 'SPECIAL', 'LARGUS', 'AVEO', 'PIXIS VAN', 'XB', 'QUORIS', 'LOGAN', 'E-TRON', '500', '1302 ВОЛЫНЬ', 'FIESTA ST', 'KA', '2126 «ОДА»', 'GL-КЛАСС AMG', 'TRAILBLAZER', 'SL-КЛАСС', '25', '14 «ЧАЙКА»', 'MODEL X', 'MARK X ZIO', 'MONTE CARLO', 'PROCEED', 'TALISMAN', 'X-90', 'ALHAMBRA', '207', 'COROLLA RUMION', 'CAMRY SOLARA', 'BENTAYGA', 'STILO', 'CR-Z', 'WC SERIES', 'COBALT', '5008', 'CHALLENGER', 'М-20 «ПОБЕДА»', 'VOYAGER', 'LUMINA', 'CROWN MAJESTA', 'TOWN CAR', 'EIGHTY-EIGHT', '2 СЕРИИ ACTIVE TOURER', 'ADMIRAL', 'GALLARDO', '206', 'CORONA EXIV', 'VOLTZ', '426', 'RENDEZVOUS', 'XK', 'TF', 'DELICA D:2', 'TERIOS', 'CARENS', 'GRANTA', 'MGB', 'CORSA OPC', 'FULLBACK', 'X4 M', 'SILVERADO', 'F-TYPE', '944', 'VITARA', 'ENVOY', 'NAVARA (FRONTIER)', 'SPACETOURER', 'CR-V', 'HUNTER', 'KUGA', '600LT', '3153', 'CAPTIVA', 'TL', 'POLO GTI', 'BOXSTER', '2101', '458', 'OMEGA', 'RS 5', 'SPACE WAGON', 'CK (OTAKA)', 'ILTIS', 'AGILA', 'BIANTE', 'RX-7', 'S30', 'CLC-КЛАСС', 'GOLF PLUS', '145', 'HOVER H3', 'FUSION', 'F7', 'PROBE', 'BREEZ (520)', 'GOLF COUNTRY', 'AURORA', 'GRACE', 'MI-DO', 'SV12', 'PT CRUISER', 'AVENTADOR', 'AXIOM', 'MUSTANG', 'XJ', 'MODEL S', 'SANTA FE', 'PASSAT CC', 'GIULIA', 'FREEMONT', 'VOLGA SIBER', 'MODEL A', 'CONTOUR', '190 (W201)', 'TIGGO 8', 'FIREBIRD', '407', 'SPACE STAR', '966', 'EMGRAND EC7', 'OLEY', '12 ЗИМ', 'ESPACE', 'TYPE 2', '2141', 'METRIS', 'JOURNEY', '301', 'KADETT', '159', 'M-КЛАСС AMG', 'B-SERIES', 'BRONCO-II', 'TWINGO', 'CALIBER', 'RS 4', 'V90 CROSS COUNTRY', 'ZT', 'LANCER EVOLUTION', 'DISCOVERY SPORT', 'SPRINTER TRUENO', 'S-10 PICKUP', 'NITRO', 'MB', 'SPRINTER MARINO', 'GALLOPER', 'ALMERA TINO', 'SILVER WRAITH', 'BONGO', 'FLUENCE', 'MEGANE RS', 'SELTOS', 'MIRA E:S', 'ZEPHYR', 'MONTEREY', 'AVENGER', '2109', 'C4 AIRCROSS', 'C4', 'HHR', 'JUMPY', '2108', 'CS55', 'TIBURON', 'GL-КЛАСС', '22 «ВОЛГА»', 'SENS', '4 СЕРИИ', 'VERNA', '401', 'SIMBO', '323', 'TSX', '3159', 'MK CROSS', 'OLYMPIA', 'GOLF GTI', 'SHUMA', 'MOHAVE', 'GLK-КЛАСС', 'QQ6 (S21)', 'S-КЛАСС AMG', 'JINN', 'CLS', 'CAMARO', 'V60 CROSS COUNTRY', 'C1', 'TRANSIT CONNECT', 'PORTOFINO', 'I30 N', '307', 'BRAVO', 'GRAND TIGER', 'LEGACY', 'VIVARO', 'GTC4LUSSO', 'MK', '607', 'SLS AMG', 'NEON', '3162 SIMBIR', 'NAVIGATOR', 'TRAFIC', 'BONGO FRIENDEE', 'IX35', 'COMS', 'C-ELYSEE', '96', 'PAJERO JUNIOR', 'H5', 'LODGY', 'EAGLE', 'CAPRICE', '3 СЕРИИ', 'DS3', 'XEDOS 6', 'ALMERA CLASSIC', 'KYRON', 'SOUL EV', 'MILLENIA', '310221 «ВОЛГА»', 'YUKON', '508', '1500', 'XTERRA', 'CS75', 'V8 VANTAGE', 'STINGER', 'NUBIRA', '2136', 'TOURNEO CONNECT', '2140', 'F', 'H530', 'ATS', '900', '20', 'RS 3', 'RAPIDE', 'ECOSPORT', 'CUSTOM', 'DB7', '806', 'MONZA', 'MONDEO ST', 'EQUINOX', 'B7', 'F-150', 'CARAVAN', 'TAUNUS', 'SYMBOL', 'W115', 'VEL SATIS', 'AVALANCHE', 'LANTRA', 'TRANS SPORT', 'MGA', 'C3 PICASSO', 'B6', 'CRUZE', 'BONUS (A13)', 'E-КЛАСС', 'MAYBACH GLS', 'LANTIS', 'MOKKA', 'E-КЛАСС AMG', 'М-72', 'XL7', 'ISTANA', 'V3', 'CLK-КЛАСС', 'PALISADE', 'GLE COUPE', 'SPORTAGE', 'EL LADA', 'WINGLE', '1111 ОКА', 'LAGUNA', 'LHS', 'VEHICROSS', 'VIDA', 'GLE AMG', 'A-КЛАСС AMG', 'FRONTERA', 'ACTYON', 'CEBRIUM (720)', '2129', 'LAVILLE', 'SCUDO', 'C5 AIRCROSS', 'R2', 'H30 CROSS', 'PLEO PLUS', 'NEW YORKER', 'GRANDEUR', 'CAROL', 'GC6', 'TLX', '969', 'ASTRA', 'C81', 'CUORE', 'SOLARIS', 'H200', 'TOWN ACE', 'SONG EV', 'SL-КЛАСС AMG', 'WRANGLER', 'HOVER M4', 'SAFE', '2114', '924', 'TAHOE', 'EDGE', '2107', '21 «ВОЛГА»', 'IMPREZA WRX', 'AVELLA', 'ZDX', '5 СЕРИИ', 'N-WGN', 'ROAD PARTNER', 'MDX', '3111 «ВОЛГА»', 'COROLLA II', 'ARNAGE', 'CAYMAN GT4', '156', 'ATOM', 'ATOS', 'PAJERO SPORT', 'OPTIMA', 'CHEROKEE', 'NAUTILUS', 'MOBILIO SPIKE', 'BROOKLANDS', 'XT6', 'REXTON', 'MAREA', 'XV', 'STS', 'SANDERO', 'C3', 'SEVILLE', 'XCEED', 'CLA', 'MUSSO', 'ESCALADE', 'VILLAGER', 'XT4', 'ECONOLINE', 'PASSPORT', '114', '1 СЕРИИ', 'LEON', '02 (E10)', 'VIVA', 'LIBERTY (PATRIOT)', '300M', 'SPARK', 'XEDOS 9', 'LANOS', 'B3', 'PEGASUS', 'NIVA', 'B-КЛАСС', 'S-КЛАСС', '928', 'CEED', 'LE-SEYDE'}\n",
      "model_name \n",
      "\n",
      "{0}\n",
      "{nan}\n",
      "numberOfDoors \n",
      "\n",
      "{1904}\n",
      "{0, 1923, 1927, 1928, 1932, 1935, 1942, 1943, 1944, 1946, 1947, 1951, 1954, 1955, 1956, 1958, 1962, 1964, 1966, 1971, 2021}\n",
      "productionDate \n",
      "\n",
      "set()\n",
      "{nan}\n",
      "vehicleTransmission \n",
      "\n"
     ]
    },
    {
     "name": "stdout",
     "output_type": "stream",
     "text": [
      "set()\n",
      "{'NAN'}\n",
      "vendor \n",
      "\n",
      "set()\n",
      "{nan}\n",
      "Владельцы \n",
      "\n",
      "set()\n",
      "set()\n",
      "ПТС \n",
      "\n",
      "set()\n",
      "{nan}\n",
      "Привод \n",
      "\n",
      "set()\n",
      "{nan}\n",
      "Руль \n",
      "\n"
     ]
    },
    {
     "ename": "KeyError",
     "evalue": "'offerprice'",
     "output_type": "error",
     "traceback": [
      "\u001b[1;31m---------------------------------------------------------------------------\u001b[0m",
      "\u001b[1;31mKeyError\u001b[0m                                  Traceback (most recent call last)",
      "\u001b[1;32m~\\Anaconda3\\lib\\site-packages\\pandas\\core\\indexes\\base.py\u001b[0m in \u001b[0;36mget_loc\u001b[1;34m(self, key, method, tolerance)\u001b[0m\n\u001b[0;32m   3062\u001b[0m             \u001b[1;32mtry\u001b[0m\u001b[1;33m:\u001b[0m\u001b[1;33m\u001b[0m\u001b[0m\n\u001b[1;32m-> 3063\u001b[1;33m                 \u001b[1;32mreturn\u001b[0m \u001b[0mself\u001b[0m\u001b[1;33m.\u001b[0m\u001b[0m_engine\u001b[0m\u001b[1;33m.\u001b[0m\u001b[0mget_loc\u001b[0m\u001b[1;33m(\u001b[0m\u001b[0mkey\u001b[0m\u001b[1;33m)\u001b[0m\u001b[1;33m\u001b[0m\u001b[0m\n\u001b[0m\u001b[0;32m   3064\u001b[0m             \u001b[1;32mexcept\u001b[0m \u001b[0mKeyError\u001b[0m\u001b[1;33m:\u001b[0m\u001b[1;33m\u001b[0m\u001b[0m\n",
      "\u001b[1;32mpandas\\_libs\\index.pyx\u001b[0m in \u001b[0;36mpandas._libs.index.IndexEngine.get_loc\u001b[1;34m()\u001b[0m\n",
      "\u001b[1;32mpandas\\_libs\\index.pyx\u001b[0m in \u001b[0;36mpandas._libs.index.IndexEngine.get_loc\u001b[1;34m()\u001b[0m\n",
      "\u001b[1;32mpandas\\_libs\\hashtable_class_helper.pxi\u001b[0m in \u001b[0;36mpandas._libs.hashtable.PyObjectHashTable.get_item\u001b[1;34m()\u001b[0m\n",
      "\u001b[1;32mpandas\\_libs\\hashtable_class_helper.pxi\u001b[0m in \u001b[0;36mpandas._libs.hashtable.PyObjectHashTable.get_item\u001b[1;34m()\u001b[0m\n",
      "\u001b[1;31mKeyError\u001b[0m: 'offerprice'",
      "\nDuring handling of the above exception, another exception occurred:\n",
      "\u001b[1;31mKeyError\u001b[0m                                  Traceback (most recent call last)",
      "\u001b[1;32m<ipython-input-73-4335f5a2d500>\u001b[0m in \u001b[0;36m<module>\u001b[1;34m()\u001b[0m\n\u001b[0;32m      1\u001b[0m \u001b[1;32mfor\u001b[0m \u001b[0mcol\u001b[0m \u001b[1;32min\u001b[0m \u001b[0mtmp\u001b[0m\u001b[1;33m.\u001b[0m\u001b[0mcolumns\u001b[0m\u001b[1;33m.\u001b[0m\u001b[0mdrop\u001b[0m\u001b[1;33m(\u001b[0m\u001b[1;33m[\u001b[0m\u001b[1;34m'car_url'\u001b[0m\u001b[1;33m,\u001b[0m\u001b[1;34m'equipment_dict'\u001b[0m\u001b[1;33m,\u001b[0m\u001b[1;34m'mileage'\u001b[0m\u001b[1;33m,\u001b[0m\u001b[1;34m'sell_id'\u001b[0m\u001b[1;33m,\u001b[0m\u001b[1;33m]\u001b[0m\u001b[1;33m)\u001b[0m\u001b[1;33m:\u001b[0m\u001b[1;33m\u001b[0m\u001b[0m\n\u001b[1;32m----> 2\u001b[1;33m     \u001b[0mcateg_diff2\u001b[0m\u001b[1;33m(\u001b[0m\u001b[0mtest\u001b[0m\u001b[1;33m[\u001b[0m\u001b[0mcol\u001b[0m\u001b[1;33m]\u001b[0m\u001b[1;33m,\u001b[0m\u001b[0mtmp\u001b[0m\u001b[1;33m[\u001b[0m\u001b[0mcol\u001b[0m\u001b[1;33m]\u001b[0m\u001b[1;33m)\u001b[0m\u001b[1;33m\u001b[0m\u001b[0m\n\u001b[0m\u001b[0;32m      3\u001b[0m     \u001b[0mprint\u001b[0m \u001b[1;33m(\u001b[0m\u001b[0mcol\u001b[0m\u001b[1;33m,\u001b[0m \u001b[1;34m'\\n'\u001b[0m\u001b[1;33m)\u001b[0m\u001b[1;33m\u001b[0m\u001b[0m\n",
      "\u001b[1;32m~\\Anaconda3\\lib\\site-packages\\pandas\\core\\frame.py\u001b[0m in \u001b[0;36m__getitem__\u001b[1;34m(self, key)\u001b[0m\n\u001b[0;32m   2683\u001b[0m             \u001b[1;32mreturn\u001b[0m \u001b[0mself\u001b[0m\u001b[1;33m.\u001b[0m\u001b[0m_getitem_multilevel\u001b[0m\u001b[1;33m(\u001b[0m\u001b[0mkey\u001b[0m\u001b[1;33m)\u001b[0m\u001b[1;33m\u001b[0m\u001b[0m\n\u001b[0;32m   2684\u001b[0m         \u001b[1;32melse\u001b[0m\u001b[1;33m:\u001b[0m\u001b[1;33m\u001b[0m\u001b[0m\n\u001b[1;32m-> 2685\u001b[1;33m             \u001b[1;32mreturn\u001b[0m \u001b[0mself\u001b[0m\u001b[1;33m.\u001b[0m\u001b[0m_getitem_column\u001b[0m\u001b[1;33m(\u001b[0m\u001b[0mkey\u001b[0m\u001b[1;33m)\u001b[0m\u001b[1;33m\u001b[0m\u001b[0m\n\u001b[0m\u001b[0;32m   2686\u001b[0m \u001b[1;33m\u001b[0m\u001b[0m\n\u001b[0;32m   2687\u001b[0m     \u001b[1;32mdef\u001b[0m \u001b[0m_getitem_column\u001b[0m\u001b[1;33m(\u001b[0m\u001b[0mself\u001b[0m\u001b[1;33m,\u001b[0m \u001b[0mkey\u001b[0m\u001b[1;33m)\u001b[0m\u001b[1;33m:\u001b[0m\u001b[1;33m\u001b[0m\u001b[0m\n",
      "\u001b[1;32m~\\Anaconda3\\lib\\site-packages\\pandas\\core\\frame.py\u001b[0m in \u001b[0;36m_getitem_column\u001b[1;34m(self, key)\u001b[0m\n\u001b[0;32m   2690\u001b[0m         \u001b[1;31m# get column\u001b[0m\u001b[1;33m\u001b[0m\u001b[1;33m\u001b[0m\u001b[0m\n\u001b[0;32m   2691\u001b[0m         \u001b[1;32mif\u001b[0m \u001b[0mself\u001b[0m\u001b[1;33m.\u001b[0m\u001b[0mcolumns\u001b[0m\u001b[1;33m.\u001b[0m\u001b[0mis_unique\u001b[0m\u001b[1;33m:\u001b[0m\u001b[1;33m\u001b[0m\u001b[0m\n\u001b[1;32m-> 2692\u001b[1;33m             \u001b[1;32mreturn\u001b[0m \u001b[0mself\u001b[0m\u001b[1;33m.\u001b[0m\u001b[0m_get_item_cache\u001b[0m\u001b[1;33m(\u001b[0m\u001b[0mkey\u001b[0m\u001b[1;33m)\u001b[0m\u001b[1;33m\u001b[0m\u001b[0m\n\u001b[0m\u001b[0;32m   2693\u001b[0m \u001b[1;33m\u001b[0m\u001b[0m\n\u001b[0;32m   2694\u001b[0m         \u001b[1;31m# duplicate columns & possible reduce dimensionality\u001b[0m\u001b[1;33m\u001b[0m\u001b[1;33m\u001b[0m\u001b[0m\n",
      "\u001b[1;32m~\\Anaconda3\\lib\\site-packages\\pandas\\core\\generic.py\u001b[0m in \u001b[0;36m_get_item_cache\u001b[1;34m(self, item)\u001b[0m\n\u001b[0;32m   2484\u001b[0m         \u001b[0mres\u001b[0m \u001b[1;33m=\u001b[0m \u001b[0mcache\u001b[0m\u001b[1;33m.\u001b[0m\u001b[0mget\u001b[0m\u001b[1;33m(\u001b[0m\u001b[0mitem\u001b[0m\u001b[1;33m)\u001b[0m\u001b[1;33m\u001b[0m\u001b[0m\n\u001b[0;32m   2485\u001b[0m         \u001b[1;32mif\u001b[0m \u001b[0mres\u001b[0m \u001b[1;32mis\u001b[0m \u001b[1;32mNone\u001b[0m\u001b[1;33m:\u001b[0m\u001b[1;33m\u001b[0m\u001b[0m\n\u001b[1;32m-> 2486\u001b[1;33m             \u001b[0mvalues\u001b[0m \u001b[1;33m=\u001b[0m \u001b[0mself\u001b[0m\u001b[1;33m.\u001b[0m\u001b[0m_data\u001b[0m\u001b[1;33m.\u001b[0m\u001b[0mget\u001b[0m\u001b[1;33m(\u001b[0m\u001b[0mitem\u001b[0m\u001b[1;33m)\u001b[0m\u001b[1;33m\u001b[0m\u001b[0m\n\u001b[0m\u001b[0;32m   2487\u001b[0m             \u001b[0mres\u001b[0m \u001b[1;33m=\u001b[0m \u001b[0mself\u001b[0m\u001b[1;33m.\u001b[0m\u001b[0m_box_item_values\u001b[0m\u001b[1;33m(\u001b[0m\u001b[0mitem\u001b[0m\u001b[1;33m,\u001b[0m \u001b[0mvalues\u001b[0m\u001b[1;33m)\u001b[0m\u001b[1;33m\u001b[0m\u001b[0m\n\u001b[0;32m   2488\u001b[0m             \u001b[0mcache\u001b[0m\u001b[1;33m[\u001b[0m\u001b[0mitem\u001b[0m\u001b[1;33m]\u001b[0m \u001b[1;33m=\u001b[0m \u001b[0mres\u001b[0m\u001b[1;33m\u001b[0m\u001b[0m\n",
      "\u001b[1;32m~\\Anaconda3\\lib\\site-packages\\pandas\\core\\internals.py\u001b[0m in \u001b[0;36mget\u001b[1;34m(self, item, fastpath)\u001b[0m\n\u001b[0;32m   4113\u001b[0m \u001b[1;33m\u001b[0m\u001b[0m\n\u001b[0;32m   4114\u001b[0m             \u001b[1;32mif\u001b[0m \u001b[1;32mnot\u001b[0m \u001b[0misna\u001b[0m\u001b[1;33m(\u001b[0m\u001b[0mitem\u001b[0m\u001b[1;33m)\u001b[0m\u001b[1;33m:\u001b[0m\u001b[1;33m\u001b[0m\u001b[0m\n\u001b[1;32m-> 4115\u001b[1;33m                 \u001b[0mloc\u001b[0m \u001b[1;33m=\u001b[0m \u001b[0mself\u001b[0m\u001b[1;33m.\u001b[0m\u001b[0mitems\u001b[0m\u001b[1;33m.\u001b[0m\u001b[0mget_loc\u001b[0m\u001b[1;33m(\u001b[0m\u001b[0mitem\u001b[0m\u001b[1;33m)\u001b[0m\u001b[1;33m\u001b[0m\u001b[0m\n\u001b[0m\u001b[0;32m   4116\u001b[0m             \u001b[1;32melse\u001b[0m\u001b[1;33m:\u001b[0m\u001b[1;33m\u001b[0m\u001b[0m\n\u001b[0;32m   4117\u001b[0m                 \u001b[0mindexer\u001b[0m \u001b[1;33m=\u001b[0m \u001b[0mnp\u001b[0m\u001b[1;33m.\u001b[0m\u001b[0marange\u001b[0m\u001b[1;33m(\u001b[0m\u001b[0mlen\u001b[0m\u001b[1;33m(\u001b[0m\u001b[0mself\u001b[0m\u001b[1;33m.\u001b[0m\u001b[0mitems\u001b[0m\u001b[1;33m)\u001b[0m\u001b[1;33m)\u001b[0m\u001b[1;33m[\u001b[0m\u001b[0misna\u001b[0m\u001b[1;33m(\u001b[0m\u001b[0mself\u001b[0m\u001b[1;33m.\u001b[0m\u001b[0mitems\u001b[0m\u001b[1;33m)\u001b[0m\u001b[1;33m]\u001b[0m\u001b[1;33m\u001b[0m\u001b[0m\n",
      "\u001b[1;32m~\\Anaconda3\\lib\\site-packages\\pandas\\core\\indexes\\base.py\u001b[0m in \u001b[0;36mget_loc\u001b[1;34m(self, key, method, tolerance)\u001b[0m\n\u001b[0;32m   3063\u001b[0m                 \u001b[1;32mreturn\u001b[0m \u001b[0mself\u001b[0m\u001b[1;33m.\u001b[0m\u001b[0m_engine\u001b[0m\u001b[1;33m.\u001b[0m\u001b[0mget_loc\u001b[0m\u001b[1;33m(\u001b[0m\u001b[0mkey\u001b[0m\u001b[1;33m)\u001b[0m\u001b[1;33m\u001b[0m\u001b[0m\n\u001b[0;32m   3064\u001b[0m             \u001b[1;32mexcept\u001b[0m \u001b[0mKeyError\u001b[0m\u001b[1;33m:\u001b[0m\u001b[1;33m\u001b[0m\u001b[0m\n\u001b[1;32m-> 3065\u001b[1;33m                 \u001b[1;32mreturn\u001b[0m \u001b[0mself\u001b[0m\u001b[1;33m.\u001b[0m\u001b[0m_engine\u001b[0m\u001b[1;33m.\u001b[0m\u001b[0mget_loc\u001b[0m\u001b[1;33m(\u001b[0m\u001b[0mself\u001b[0m\u001b[1;33m.\u001b[0m\u001b[0m_maybe_cast_indexer\u001b[0m\u001b[1;33m(\u001b[0m\u001b[0mkey\u001b[0m\u001b[1;33m)\u001b[0m\u001b[1;33m)\u001b[0m\u001b[1;33m\u001b[0m\u001b[0m\n\u001b[0m\u001b[0;32m   3066\u001b[0m \u001b[1;33m\u001b[0m\u001b[0m\n\u001b[0;32m   3067\u001b[0m         \u001b[0mindexer\u001b[0m \u001b[1;33m=\u001b[0m \u001b[0mself\u001b[0m\u001b[1;33m.\u001b[0m\u001b[0mget_indexer\u001b[0m\u001b[1;33m(\u001b[0m\u001b[1;33m[\u001b[0m\u001b[0mkey\u001b[0m\u001b[1;33m]\u001b[0m\u001b[1;33m,\u001b[0m \u001b[0mmethod\u001b[0m\u001b[1;33m=\u001b[0m\u001b[0mmethod\u001b[0m\u001b[1;33m,\u001b[0m \u001b[0mtolerance\u001b[0m\u001b[1;33m=\u001b[0m\u001b[0mtolerance\u001b[0m\u001b[1;33m)\u001b[0m\u001b[1;33m\u001b[0m\u001b[0m\n",
      "\u001b[1;32mpandas\\_libs\\index.pyx\u001b[0m in \u001b[0;36mpandas._libs.index.IndexEngine.get_loc\u001b[1;34m()\u001b[0m\n",
      "\u001b[1;32mpandas\\_libs\\index.pyx\u001b[0m in \u001b[0;36mpandas._libs.index.IndexEngine.get_loc\u001b[1;34m()\u001b[0m\n",
      "\u001b[1;32mpandas\\_libs\\hashtable_class_helper.pxi\u001b[0m in \u001b[0;36mpandas._libs.hashtable.PyObjectHashTable.get_item\u001b[1;34m()\u001b[0m\n",
      "\u001b[1;32mpandas\\_libs\\hashtable_class_helper.pxi\u001b[0m in \u001b[0;36mpandas._libs.hashtable.PyObjectHashTable.get_item\u001b[1;34m()\u001b[0m\n",
      "\u001b[1;31mKeyError\u001b[0m: 'offerprice'"
     ]
    }
   ],
   "source": [
    "for col in tmp.columns.drop(['car_url','equipment_dict','mileage','sell_id',]):\n",
    "    categ_diff2(test[col],tmp[col])\n",
    "    print (col, '\\n')"
   ]
  },
  {
   "cell_type": "markdown",
   "metadata": {},
   "source": [
    "## ========================================="
   ]
  },
  {
   "cell_type": "markdown",
   "metadata": {},
   "source": [
    "## Проверка на отсутсвие в train наблюдений из test"
   ]
  },
  {
   "cell_type": "code",
   "execution_count": null,
   "metadata": {},
   "outputs": [],
   "source": []
  },
  {
   "cell_type": "markdown",
   "metadata": {},
   "source": [
    "## Оработка пропусков"
   ]
  },
  {
   "cell_type": "code",
   "execution_count": null,
   "metadata": {},
   "outputs": [],
   "source": []
  },
  {
   "cell_type": "markdown",
   "metadata": {},
   "source": [
    "## Объединение test и train"
   ]
  },
  {
   "cell_type": "code",
   "execution_count": null,
   "metadata": {},
   "outputs": [],
   "source": []
  },
  {
   "cell_type": "markdown",
   "metadata": {},
   "source": [
    "## EDA test и train"
   ]
  },
  {
   "cell_type": "code",
   "execution_count": null,
   "metadata": {},
   "outputs": [],
   "source": []
  },
  {
   "cell_type": "markdown",
   "metadata": {},
   "source": [
    "## Предобработка"
   ]
  },
  {
   "cell_type": "code",
   "execution_count": null,
   "metadata": {},
   "outputs": [],
   "source": []
  },
  {
   "cell_type": "markdown",
   "metadata": {},
   "source": [
    "## Base-line"
   ]
  },
  {
   "cell_type": "code",
   "execution_count": null,
   "metadata": {},
   "outputs": [],
   "source": []
  },
  {
   "cell_type": "markdown",
   "metadata": {},
   "source": [
    "## Features construction"
   ]
  },
  {
   "cell_type": "code",
   "execution_count": null,
   "metadata": {},
   "outputs": [],
   "source": []
  },
  {
   "cell_type": "markdown",
   "metadata": {},
   "source": [
    "## Отбор признаков"
   ]
  },
  {
   "cell_type": "code",
   "execution_count": null,
   "metadata": {},
   "outputs": [],
   "source": []
  },
  {
   "cell_type": "markdown",
   "metadata": {},
   "source": [
    "## Подбор гиперпараметров"
   ]
  },
  {
   "cell_type": "code",
   "execution_count": null,
   "metadata": {},
   "outputs": [],
   "source": []
  },
  {
   "cell_type": "code",
   "execution_count": null,
   "metadata": {},
   "outputs": [],
   "source": []
  },
  {
   "cell_type": "code",
   "execution_count": null,
   "metadata": {},
   "outputs": [],
   "source": []
  },
  {
   "cell_type": "markdown",
   "metadata": {},
   "source": [
    "## ========================================================"
   ]
  },
  {
   "cell_type": "markdown",
   "metadata": {},
   "source": [
    "# Подвал"
   ]
  },
  {
   "cell_type": "code",
   "execution_count": null,
   "metadata": {},
   "outputs": [],
   "source": [
    "'''tt = df_test.complectation_dict[2]\n",
    "ttt = json.loads(tt)\n",
    "ttt['available_options']'''"
   ]
  },
  {
   "cell_type": "code",
   "execution_count": null,
   "metadata": {},
   "outputs": [],
   "source": [
    "'''bodyType', 'brand', 'car_url', 'color',\n",
    "        'engineDisplacement', 'enginePower', 'equipment_dict',\n",
    "       'fuelType', 'mileage', 'modelDate', 'model_name',\n",
    "    'numberOfDoors', 'parsing_unixtime', \n",
    "       'productionDate', 'sell_id', \n",
    "       'vehicleTransmission', 'vendor', 'Владельцы', 'Владение', 'ПТС',\n",
    "       'Привод', 'Руль''';"
   ]
  },
  {
   "cell_type": "code",
   "execution_count": null,
   "metadata": {},
   "outputs": [],
   "source": [
    "# df_test[df_test.brand == \"AUDI\"].model_name"
   ]
  },
  {
   "cell_type": "code",
   "execution_count": null,
   "metadata": {},
   "outputs": [],
   "source": []
  },
  {
   "cell_type": "code",
   "execution_count": 60,
   "metadata": {},
   "outputs": [],
   "source": [
    "'''tmp = pd.read_csv(f'{path}all_marks.csv')\n",
    "tmp.columns =pd.Index(['bodyType', 'brand', 'car_url', 'color', 'engineDisplacement',\n",
    "       'enginePower', 'equipment_dict', 'fuelType', 'mileage', 'modelDate',\n",
    "       'model_name', 'numberOfDoors', 'productionDate', 'sell_id',\n",
    "       'vehicleTransmission', 'vendor', 'Владельцы', 'ПТС', 'Привод', 'Руль',\n",
    "       'offerprice'],\n",
    "      dtype='object')\n",
    "tmp.to_csv(f'{path}all_marks.csv',index=False)\n",
    "\n",
    "tmp = pd.read_csv(f'{path}extra_train.csv')\n",
    "tmp.columns =pd.Index(['bodyType', 'brand', 'car_url', 'color', 'engineDisplacement',\n",
    "       'enginePower', 'equipment_dict', 'fuelType', 'mileage', 'modelDate',\n",
    "       'model_name', 'numberOfDoors', 'productionDate', 'sell_id',\n",
    "       'vehicleTransmission', 'vendor', 'Владельцы', 'ПТС', 'Привод', 'Руль',\n",
    "       'offerprice'],\n",
    "      dtype='object')\n",
    "tmp.to_csv(f'{path}extra_train.csv',index=False)\n",
    "\n",
    "tmp = pd.read_csv(f'{path}train.csv')\n",
    "tmp.columns =pd.Index(['bodyType', 'brand', 'car_url', 'color', 'engineDisplacement',\n",
    "       'enginePower', 'equipment_dict', 'fuelType', 'mileage', 'modelDate',\n",
    "       'model_name', 'numberOfDoors', 'productionDate', 'sell_id',\n",
    "       'vehicleTransmission', 'vendor', 'Владельцы', 'ПТС', 'Привод', 'Руль',\n",
    "       'offerprice'],\n",
    "      dtype='object')\n",
    "tmp.to_csv(f'{path}train.csv',index=False)''';"
   ]
  },
  {
   "cell_type": "code",
   "execution_count": 101,
   "metadata": {},
   "outputs": [
    {
     "data": {
      "text/html": [
       "<div>\n",
       "<style scoped>\n",
       "    .dataframe tbody tr th:only-of-type {\n",
       "        vertical-align: middle;\n",
       "    }\n",
       "\n",
       "    .dataframe tbody tr th {\n",
       "        vertical-align: top;\n",
       "    }\n",
       "\n",
       "    .dataframe thead th {\n",
       "        text-align: right;\n",
       "    }\n",
       "</style>\n",
       "<table border=\"1\" class=\"dataframe\">\n",
       "  <thead>\n",
       "    <tr style=\"text-align: right;\">\n",
       "      <th></th>\n",
       "      <th>bodyType</th>\n",
       "      <th>brand</th>\n",
       "      <th>car_url</th>\n",
       "      <th>color</th>\n",
       "      <th>engineDisplacement</th>\n",
       "      <th>enginePower</th>\n",
       "      <th>equipment_dict</th>\n",
       "      <th>fuelType</th>\n",
       "      <th>mileage</th>\n",
       "      <th>modelDate</th>\n",
       "      <th>model_name</th>\n",
       "      <th>numberOfDoors</th>\n",
       "      <th>productionDate</th>\n",
       "      <th>sell_id</th>\n",
       "      <th>vehicleTransmission</th>\n",
       "      <th>vendor</th>\n",
       "      <th>Владельцы</th>\n",
       "      <th>ПТС</th>\n",
       "      <th>Привод</th>\n",
       "      <th>Руль</th>\n",
       "      <th>offerprice</th>\n",
       "    </tr>\n",
       "  </thead>\n",
       "  <tbody>\n",
       "    <tr>\n",
       "      <td>62782</td>\n",
       "      <td>седан</td>\n",
       "      <td>TESLA</td>\n",
       "      <td>https://auto.ru/cars/used/sale/tesla/model_3/1...</td>\n",
       "      <td>белый</td>\n",
       "      <td>NaN</td>\n",
       "      <td>NaN</td>\n",
       "      <td>NaN</td>\n",
       "      <td>NaN</td>\n",
       "      <td>11000.0</td>\n",
       "      <td>2018.0</td>\n",
       "      <td>Model 3</td>\n",
       "      <td>NaN</td>\n",
       "      <td>2019.0</td>\n",
       "      <td>1102283481</td>\n",
       "      <td>автоматическая</td>\n",
       "      <td>NAN</td>\n",
       "      <td>1 владелец</td>\n",
       "      <td>Оригинал</td>\n",
       "      <td>задний</td>\n",
       "      <td>Левый</td>\n",
       "      <td>3400000.0</td>\n",
       "    </tr>\n",
       "    <tr>\n",
       "      <td>62783</td>\n",
       "      <td>седан</td>\n",
       "      <td>TESLA</td>\n",
       "      <td>https://auto.ru/cars/used/sale/tesla/model_3/1...</td>\n",
       "      <td>чёрный</td>\n",
       "      <td>NaN</td>\n",
       "      <td>NaN</td>\n",
       "      <td>{'Безопасность': ['Антипробуксовочная система ...</td>\n",
       "      <td>NaN</td>\n",
       "      <td>32800.0</td>\n",
       "      <td>2018.0</td>\n",
       "      <td>Model 3</td>\n",
       "      <td>NaN</td>\n",
       "      <td>2019.0</td>\n",
       "      <td>1102280379</td>\n",
       "      <td>автоматическая</td>\n",
       "      <td>NAN</td>\n",
       "      <td>1 владелец</td>\n",
       "      <td>Оригинал</td>\n",
       "      <td>задний</td>\n",
       "      <td>Левый</td>\n",
       "      <td>3580000.0</td>\n",
       "    </tr>\n",
       "    <tr>\n",
       "      <td>62784</td>\n",
       "      <td>седан</td>\n",
       "      <td>TESLA</td>\n",
       "      <td>https://auto.ru/cars/used/sale/tesla/model_3/1...</td>\n",
       "      <td>чёрный</td>\n",
       "      <td>NaN</td>\n",
       "      <td>NaN</td>\n",
       "      <td>NaN</td>\n",
       "      <td>NaN</td>\n",
       "      <td>10000.0</td>\n",
       "      <td>2018.0</td>\n",
       "      <td>Model 3</td>\n",
       "      <td>NaN</td>\n",
       "      <td>2020.0</td>\n",
       "      <td>1102725846</td>\n",
       "      <td>автоматическая</td>\n",
       "      <td>NAN</td>\n",
       "      <td>1 владелец</td>\n",
       "      <td>Оригинал</td>\n",
       "      <td>полный</td>\n",
       "      <td>Левый</td>\n",
       "      <td>5350000.0</td>\n",
       "    </tr>\n",
       "    <tr>\n",
       "      <td>62785</td>\n",
       "      <td>седан</td>\n",
       "      <td>TESLA</td>\n",
       "      <td>https://auto.ru/cars/used/sale/tesla/model_3/1...</td>\n",
       "      <td>белый</td>\n",
       "      <td>NaN</td>\n",
       "      <td>NaN</td>\n",
       "      <td>{'Безопасность': ['Антипробуксовочная система ...</td>\n",
       "      <td>NaN</td>\n",
       "      <td>13000.0</td>\n",
       "      <td>2018.0</td>\n",
       "      <td>Model 3</td>\n",
       "      <td>NaN</td>\n",
       "      <td>2019.0</td>\n",
       "      <td>1102673072</td>\n",
       "      <td>автоматическая</td>\n",
       "      <td>NAN</td>\n",
       "      <td>1 владелец</td>\n",
       "      <td>Оригинал</td>\n",
       "      <td>полный</td>\n",
       "      <td>Левый</td>\n",
       "      <td>5250000.0</td>\n",
       "    </tr>\n",
       "    <tr>\n",
       "      <td>62786</td>\n",
       "      <td>седан</td>\n",
       "      <td>TESLA</td>\n",
       "      <td>https://auto.ru/cars/used/sale/tesla/model_3/1...</td>\n",
       "      <td>белый</td>\n",
       "      <td>NaN</td>\n",
       "      <td>NaN</td>\n",
       "      <td>{'Безопасность': ['Антипробуксовочная система ...</td>\n",
       "      <td>NaN</td>\n",
       "      <td>12500.0</td>\n",
       "      <td>2018.0</td>\n",
       "      <td>Model 3</td>\n",
       "      <td>NaN</td>\n",
       "      <td>2019.0</td>\n",
       "      <td>1102175148</td>\n",
       "      <td>автоматическая</td>\n",
       "      <td>NAN</td>\n",
       "      <td>1 владелец</td>\n",
       "      <td>Оригинал</td>\n",
       "      <td>задний</td>\n",
       "      <td>Левый</td>\n",
       "      <td>3850000.0</td>\n",
       "    </tr>\n",
       "    <tr>\n",
       "      <td>62787</td>\n",
       "      <td>седан</td>\n",
       "      <td>TESLA</td>\n",
       "      <td>https://auto.ru/cars/used/sale/tesla/model_3/1...</td>\n",
       "      <td>белый</td>\n",
       "      <td>NaN</td>\n",
       "      <td>NaN</td>\n",
       "      <td>{'Безопасность': ['Система стабилизации (ESP)'...</td>\n",
       "      <td>NaN</td>\n",
       "      <td>59300.0</td>\n",
       "      <td>2018.0</td>\n",
       "      <td>Model 3</td>\n",
       "      <td>NaN</td>\n",
       "      <td>2018.0</td>\n",
       "      <td>1101670618</td>\n",
       "      <td>автоматическая</td>\n",
       "      <td>NAN</td>\n",
       "      <td>1 владелец</td>\n",
       "      <td>Оригинал</td>\n",
       "      <td>задний</td>\n",
       "      <td>Левый</td>\n",
       "      <td>3820000.0</td>\n",
       "    </tr>\n",
       "    <tr>\n",
       "      <td>62788</td>\n",
       "      <td>седан</td>\n",
       "      <td>TESLA</td>\n",
       "      <td>https://auto.ru/cars/used/sale/tesla/model_3/1...</td>\n",
       "      <td>чёрный</td>\n",
       "      <td>NaN</td>\n",
       "      <td>NaN</td>\n",
       "      <td>{'Комфорт': ['Круиз-контроль', 'Бортовой компь...</td>\n",
       "      <td>NaN</td>\n",
       "      <td>15980.0</td>\n",
       "      <td>2018.0</td>\n",
       "      <td>Model 3</td>\n",
       "      <td>NaN</td>\n",
       "      <td>2019.0</td>\n",
       "      <td>1102437051</td>\n",
       "      <td>автоматическая</td>\n",
       "      <td>NAN</td>\n",
       "      <td>1 владелец</td>\n",
       "      <td>Оригинал</td>\n",
       "      <td>задний</td>\n",
       "      <td>Левый</td>\n",
       "      <td>3950000.0</td>\n",
       "    </tr>\n",
       "    <tr>\n",
       "      <td>62789</td>\n",
       "      <td>седан</td>\n",
       "      <td>TESLA</td>\n",
       "      <td>https://auto.ru/cars/used/sale/tesla/model_3/1...</td>\n",
       "      <td>белый</td>\n",
       "      <td>NaN</td>\n",
       "      <td>NaN</td>\n",
       "      <td>{'Безопасность': ['Система стабилизации (ESP)'...</td>\n",
       "      <td>NaN</td>\n",
       "      <td>41000.0</td>\n",
       "      <td>2018.0</td>\n",
       "      <td>Model 3</td>\n",
       "      <td>NaN</td>\n",
       "      <td>2019.0</td>\n",
       "      <td>1102516936</td>\n",
       "      <td>автоматическая</td>\n",
       "      <td>NAN</td>\n",
       "      <td>1 владелец</td>\n",
       "      <td>Оригинал</td>\n",
       "      <td>задний</td>\n",
       "      <td>Левый</td>\n",
       "      <td>3500000.0</td>\n",
       "    </tr>\n",
       "    <tr>\n",
       "      <td>62790</td>\n",
       "      <td>седан</td>\n",
       "      <td>TESLA</td>\n",
       "      <td>https://auto.ru/cars/used/sale/tesla/model_3/1...</td>\n",
       "      <td>чёрный</td>\n",
       "      <td>NaN</td>\n",
       "      <td>NaN</td>\n",
       "      <td>NaN</td>\n",
       "      <td>NaN</td>\n",
       "      <td>9000.0</td>\n",
       "      <td>2018.0</td>\n",
       "      <td>Model 3</td>\n",
       "      <td>NaN</td>\n",
       "      <td>2019.0</td>\n",
       "      <td>1102586180</td>\n",
       "      <td>автоматическая</td>\n",
       "      <td>NAN</td>\n",
       "      <td>1 владелец</td>\n",
       "      <td>Оригинал</td>\n",
       "      <td>полный</td>\n",
       "      <td>Левый</td>\n",
       "      <td>3750000.0</td>\n",
       "    </tr>\n",
       "    <tr>\n",
       "      <td>62791</td>\n",
       "      <td>лифтбек</td>\n",
       "      <td>TESLA</td>\n",
       "      <td>https://auto.ru/cars/used/sale/tesla/model_s/1...</td>\n",
       "      <td>красный</td>\n",
       "      <td>NaN</td>\n",
       "      <td>NaN</td>\n",
       "      <td>{'Салон': ['Тонированные стекла', 'Передний це...</td>\n",
       "      <td>NaN</td>\n",
       "      <td>120000.0</td>\n",
       "      <td>2018.0</td>\n",
       "      <td>Model S</td>\n",
       "      <td>NaN</td>\n",
       "      <td>2018.0</td>\n",
       "      <td>1102613930</td>\n",
       "      <td>автоматическая</td>\n",
       "      <td>NAN</td>\n",
       "      <td>1 владелец</td>\n",
       "      <td>Оригинал</td>\n",
       "      <td>полный</td>\n",
       "      <td>Левый</td>\n",
       "      <td>3950000.0</td>\n",
       "    </tr>\n",
       "    <tr>\n",
       "      <td>62792</td>\n",
       "      <td>лифтбек</td>\n",
       "      <td>TESLA</td>\n",
       "      <td>https://auto.ru/cars/used/sale/tesla/model_s/1...</td>\n",
       "      <td>серый</td>\n",
       "      <td>NaN</td>\n",
       "      <td>NaN</td>\n",
       "      <td>{'Салон': ['Панорамная крыша / лобовое стекло'...</td>\n",
       "      <td>NaN</td>\n",
       "      <td>118500.0</td>\n",
       "      <td>2012.0</td>\n",
       "      <td>Model S</td>\n",
       "      <td>NaN</td>\n",
       "      <td>2013.0</td>\n",
       "      <td>1102528297</td>\n",
       "      <td>автоматическая</td>\n",
       "      <td>NAN</td>\n",
       "      <td>1 владелец</td>\n",
       "      <td>Оригинал</td>\n",
       "      <td>задний</td>\n",
       "      <td>Левый</td>\n",
       "      <td>2650000.0</td>\n",
       "    </tr>\n",
       "    <tr>\n",
       "      <td>62793</td>\n",
       "      <td>лифтбек</td>\n",
       "      <td>TESLA</td>\n",
       "      <td>https://auto.ru/cars/used/sale/tesla/model_s/1...</td>\n",
       "      <td>красный</td>\n",
       "      <td>NaN</td>\n",
       "      <td>NaN</td>\n",
       "      <td>{'Комфорт': ['Круиз-контроль', 'Парктроник пер...</td>\n",
       "      <td>NaN</td>\n",
       "      <td>75880.0</td>\n",
       "      <td>2018.0</td>\n",
       "      <td>Model S</td>\n",
       "      <td>NaN</td>\n",
       "      <td>2018.0</td>\n",
       "      <td>1102863527</td>\n",
       "      <td>автоматическая</td>\n",
       "      <td>NAN</td>\n",
       "      <td>3 или более</td>\n",
       "      <td>Оригинал</td>\n",
       "      <td>полный</td>\n",
       "      <td>Левый</td>\n",
       "      <td>4830000.0</td>\n",
       "    </tr>\n",
       "    <tr>\n",
       "      <td>62794</td>\n",
       "      <td>лифтбек</td>\n",
       "      <td>TESLA</td>\n",
       "      <td>https://auto.ru/cars/used/sale/tesla/model_s/1...</td>\n",
       "      <td>чёрный</td>\n",
       "      <td>NaN</td>\n",
       "      <td>NaN</td>\n",
       "      <td>{'Салон': ['Тонированные стекла', 'Передний це...</td>\n",
       "      <td>NaN</td>\n",
       "      <td>45000.0</td>\n",
       "      <td>2018.0</td>\n",
       "      <td>Model S</td>\n",
       "      <td>NaN</td>\n",
       "      <td>2018.0</td>\n",
       "      <td>1102077792</td>\n",
       "      <td>автоматическая</td>\n",
       "      <td>NAN</td>\n",
       "      <td>1 владелец</td>\n",
       "      <td>Оригинал</td>\n",
       "      <td>полный</td>\n",
       "      <td>Левый</td>\n",
       "      <td>6550000.0</td>\n",
       "    </tr>\n",
       "    <tr>\n",
       "      <td>62795</td>\n",
       "      <td>лифтбек</td>\n",
       "      <td>TESLA</td>\n",
       "      <td>https://auto.ru/cars/used/sale/tesla/model_s/1...</td>\n",
       "      <td>чёрный</td>\n",
       "      <td>NaN</td>\n",
       "      <td>NaN</td>\n",
       "      <td>NaN</td>\n",
       "      <td>NaN</td>\n",
       "      <td>42000.0</td>\n",
       "      <td>2012.0</td>\n",
       "      <td>Model S</td>\n",
       "      <td>NaN</td>\n",
       "      <td>2013.0</td>\n",
       "      <td>1101942771</td>\n",
       "      <td>автоматическая</td>\n",
       "      <td>NAN</td>\n",
       "      <td>2 владельца</td>\n",
       "      <td>Оригинал</td>\n",
       "      <td>задний</td>\n",
       "      <td>Левый</td>\n",
       "      <td>2499000.0</td>\n",
       "    </tr>\n",
       "    <tr>\n",
       "      <td>62796</td>\n",
       "      <td>лифтбек</td>\n",
       "      <td>TESLA</td>\n",
       "      <td>https://auto.ru/cars/used/sale/tesla/model_s/1...</td>\n",
       "      <td>белый</td>\n",
       "      <td>NaN</td>\n",
       "      <td>NaN</td>\n",
       "      <td>{'Салон': ['Тонированные стекла', 'Передний це...</td>\n",
       "      <td>NaN</td>\n",
       "      <td>180000.0</td>\n",
       "      <td>2012.0</td>\n",
       "      <td>Model S</td>\n",
       "      <td>NaN</td>\n",
       "      <td>2014.0</td>\n",
       "      <td>1102410879</td>\n",
       "      <td>автоматическая</td>\n",
       "      <td>NAN</td>\n",
       "      <td>1 владелец</td>\n",
       "      <td>Оригинал</td>\n",
       "      <td>задний</td>\n",
       "      <td>Левый</td>\n",
       "      <td>3295000.0</td>\n",
       "    </tr>\n",
       "    <tr>\n",
       "      <td>62797</td>\n",
       "      <td>лифтбек</td>\n",
       "      <td>TESLA</td>\n",
       "      <td>https://auto.ru/cars/used/sale/tesla/model_s/1...</td>\n",
       "      <td>чёрный</td>\n",
       "      <td>NaN</td>\n",
       "      <td>NaN</td>\n",
       "      <td>{'Комфорт': ['Круиз-контроль', 'Электропривод ...</td>\n",
       "      <td>NaN</td>\n",
       "      <td>150000.0</td>\n",
       "      <td>2012.0</td>\n",
       "      <td>Model S</td>\n",
       "      <td>NaN</td>\n",
       "      <td>2013.0</td>\n",
       "      <td>1102816349</td>\n",
       "      <td>автоматическая</td>\n",
       "      <td>NAN</td>\n",
       "      <td>1 владелец</td>\n",
       "      <td>Оригинал</td>\n",
       "      <td>задний</td>\n",
       "      <td>Левый</td>\n",
       "      <td>2499000.0</td>\n",
       "    </tr>\n",
       "    <tr>\n",
       "      <td>62798</td>\n",
       "      <td>лифтбек</td>\n",
       "      <td>TESLA</td>\n",
       "      <td>https://auto.ru/cars/used/sale/tesla/model_s/1...</td>\n",
       "      <td>чёрный</td>\n",
       "      <td>NaN</td>\n",
       "      <td>NaN</td>\n",
       "      <td>NaN</td>\n",
       "      <td>NaN</td>\n",
       "      <td>103000.0</td>\n",
       "      <td>2012.0</td>\n",
       "      <td>Model S</td>\n",
       "      <td>NaN</td>\n",
       "      <td>2013.0</td>\n",
       "      <td>1102383037</td>\n",
       "      <td>автоматическая</td>\n",
       "      <td>NAN</td>\n",
       "      <td>1 владелец</td>\n",
       "      <td>Оригинал</td>\n",
       "      <td>задний</td>\n",
       "      <td>Левый</td>\n",
       "      <td>2780000.0</td>\n",
       "    </tr>\n",
       "    <tr>\n",
       "      <td>62799</td>\n",
       "      <td>лифтбек</td>\n",
       "      <td>TESLA</td>\n",
       "      <td>https://auto.ru/cars/used/sale/tesla/model_s/1...</td>\n",
       "      <td>красный</td>\n",
       "      <td>NaN</td>\n",
       "      <td>NaN</td>\n",
       "      <td>{'Комфорт': ['Круиз-контроль', 'Электрорегулир...</td>\n",
       "      <td>NaN</td>\n",
       "      <td>2600.0</td>\n",
       "      <td>2012.0</td>\n",
       "      <td>Model S</td>\n",
       "      <td>NaN</td>\n",
       "      <td>2014.0</td>\n",
       "      <td>1101420008</td>\n",
       "      <td>автоматическая</td>\n",
       "      <td>NAN</td>\n",
       "      <td>1 владелец</td>\n",
       "      <td>Оригинал</td>\n",
       "      <td>задний</td>\n",
       "      <td>Левый</td>\n",
       "      <td>3550000.0</td>\n",
       "    </tr>\n",
       "    <tr>\n",
       "      <td>62800</td>\n",
       "      <td>лифтбек</td>\n",
       "      <td>TESLA</td>\n",
       "      <td>https://auto.ru/cars/used/sale/tesla/model_s/1...</td>\n",
       "      <td>белый</td>\n",
       "      <td>NaN</td>\n",
       "      <td>NaN</td>\n",
       "      <td>{'Комфорт': ['Круиз-контроль', 'Электрорегулир...</td>\n",
       "      <td>NaN</td>\n",
       "      <td>92000.0</td>\n",
       "      <td>2012.0</td>\n",
       "      <td>Model S</td>\n",
       "      <td>NaN</td>\n",
       "      <td>2012.0</td>\n",
       "      <td>1102321183</td>\n",
       "      <td>автоматическая</td>\n",
       "      <td>NAN</td>\n",
       "      <td>3 или более</td>\n",
       "      <td>Оригинал</td>\n",
       "      <td>задний</td>\n",
       "      <td>Левый</td>\n",
       "      <td>2800000.0</td>\n",
       "    </tr>\n",
       "    <tr>\n",
       "      <td>62801</td>\n",
       "      <td>лифтбек</td>\n",
       "      <td>TESLA</td>\n",
       "      <td>https://auto.ru/cars/used/sale/tesla/model_s/1...</td>\n",
       "      <td>красный</td>\n",
       "      <td>NaN</td>\n",
       "      <td>NaN</td>\n",
       "      <td>{'Комфорт': ['Круиз-контроль', 'Электрорегулир...</td>\n",
       "      <td>NaN</td>\n",
       "      <td>65000.0</td>\n",
       "      <td>2012.0</td>\n",
       "      <td>Model S</td>\n",
       "      <td>NaN</td>\n",
       "      <td>2014.0</td>\n",
       "      <td>1091599756</td>\n",
       "      <td>автоматическая</td>\n",
       "      <td>NAN</td>\n",
       "      <td>3 или более</td>\n",
       "      <td>Оригинал</td>\n",
       "      <td>задний</td>\n",
       "      <td>Левый</td>\n",
       "      <td>3499999.0</td>\n",
       "    </tr>\n",
       "    <tr>\n",
       "      <td>62802</td>\n",
       "      <td>лифтбек</td>\n",
       "      <td>TESLA</td>\n",
       "      <td>https://auto.ru/cars/used/sale/tesla/model_s/1...</td>\n",
       "      <td>красный</td>\n",
       "      <td>NaN</td>\n",
       "      <td>NaN</td>\n",
       "      <td>{'Безопасность': ['Антипробуксовочная система ...</td>\n",
       "      <td>NaN</td>\n",
       "      <td>53000.0</td>\n",
       "      <td>2012.0</td>\n",
       "      <td>Model S</td>\n",
       "      <td>NaN</td>\n",
       "      <td>2015.0</td>\n",
       "      <td>1095424346</td>\n",
       "      <td>автоматическая</td>\n",
       "      <td>NAN</td>\n",
       "      <td>3 или более</td>\n",
       "      <td>Оригинал</td>\n",
       "      <td>полный</td>\n",
       "      <td>Левый</td>\n",
       "      <td>4900000.0</td>\n",
       "    </tr>\n",
       "    <tr>\n",
       "      <td>62803</td>\n",
       "      <td>лифтбек</td>\n",
       "      <td>TESLA</td>\n",
       "      <td>https://auto.ru/cars/used/sale/tesla/model_s/1...</td>\n",
       "      <td>белый</td>\n",
       "      <td>NaN</td>\n",
       "      <td>NaN</td>\n",
       "      <td>{'Комфорт': ['Круиз-контроль', 'Мультифункцион...</td>\n",
       "      <td>NaN</td>\n",
       "      <td>46000.0</td>\n",
       "      <td>2012.0</td>\n",
       "      <td>Model S</td>\n",
       "      <td>NaN</td>\n",
       "      <td>2015.0</td>\n",
       "      <td>1101953654</td>\n",
       "      <td>автоматическая</td>\n",
       "      <td>NAN</td>\n",
       "      <td>2 владельца</td>\n",
       "      <td>Оригинал</td>\n",
       "      <td>полный</td>\n",
       "      <td>Левый</td>\n",
       "      <td>4800000.0</td>\n",
       "    </tr>\n",
       "    <tr>\n",
       "      <td>62804</td>\n",
       "      <td>лифтбек</td>\n",
       "      <td>TESLA</td>\n",
       "      <td>https://auto.ru/cars/used/sale/tesla/model_s/1...</td>\n",
       "      <td>чёрный</td>\n",
       "      <td>NaN</td>\n",
       "      <td>NaN</td>\n",
       "      <td>{'Безопасность': ['Система стабилизации (ESP)'...</td>\n",
       "      <td>NaN</td>\n",
       "      <td>63500.0</td>\n",
       "      <td>2018.0</td>\n",
       "      <td>Model S</td>\n",
       "      <td>NaN</td>\n",
       "      <td>2016.0</td>\n",
       "      <td>1101949817</td>\n",
       "      <td>автоматическая</td>\n",
       "      <td>NAN</td>\n",
       "      <td>1 владелец</td>\n",
       "      <td>Оригинал</td>\n",
       "      <td>полный</td>\n",
       "      <td>Левый</td>\n",
       "      <td>3600000.0</td>\n",
       "    </tr>\n",
       "    <tr>\n",
       "      <td>62805</td>\n",
       "      <td>внедорожник 5 дв.</td>\n",
       "      <td>TESLA</td>\n",
       "      <td>https://auto.ru/cars/used/sale/tesla/model_x/1...</td>\n",
       "      <td>синий</td>\n",
       "      <td>NaN</td>\n",
       "      <td>NaN</td>\n",
       "      <td>{'Салон': ['Тонированные стекла', 'Спортивные ...</td>\n",
       "      <td>NaN</td>\n",
       "      <td>80000.0</td>\n",
       "      <td>2016.0</td>\n",
       "      <td>Model X</td>\n",
       "      <td>5.0</td>\n",
       "      <td>2016.0</td>\n",
       "      <td>1101749766</td>\n",
       "      <td>автоматическая</td>\n",
       "      <td>NAN</td>\n",
       "      <td>1 владелец</td>\n",
       "      <td>Оригинал</td>\n",
       "      <td>полный</td>\n",
       "      <td>Левый</td>\n",
       "      <td>6250000.0</td>\n",
       "    </tr>\n",
       "    <tr>\n",
       "      <td>62806</td>\n",
       "      <td>внедорожник 5 дв.</td>\n",
       "      <td>TESLA</td>\n",
       "      <td>https://auto.ru/cars/used/sale/tesla/model_x/1...</td>\n",
       "      <td>белый</td>\n",
       "      <td>NaN</td>\n",
       "      <td>NaN</td>\n",
       "      <td>{'Безопасность': ['ЭРА-ГЛОНАСС'], 'Элементы эк...</td>\n",
       "      <td>NaN</td>\n",
       "      <td>6757.0</td>\n",
       "      <td>2016.0</td>\n",
       "      <td>Model X</td>\n",
       "      <td>5.0</td>\n",
       "      <td>2020.0</td>\n",
       "      <td>1102793873</td>\n",
       "      <td>автоматическая</td>\n",
       "      <td>NAN</td>\n",
       "      <td>1 владелец</td>\n",
       "      <td>Оригинал</td>\n",
       "      <td>полный</td>\n",
       "      <td>Левый</td>\n",
       "      <td>8700000.0</td>\n",
       "    </tr>\n",
       "    <tr>\n",
       "      <td>62807</td>\n",
       "      <td>внедорожник 5 дв.</td>\n",
       "      <td>TESLA</td>\n",
       "      <td>https://auto.ru/cars/used/sale/tesla/model_x/1...</td>\n",
       "      <td>белый</td>\n",
       "      <td>NaN</td>\n",
       "      <td>NaN</td>\n",
       "      <td>{'Безопасность': ['Система стабилизации (ESP)'...</td>\n",
       "      <td>NaN</td>\n",
       "      <td>26600.0</td>\n",
       "      <td>2016.0</td>\n",
       "      <td>Model X</td>\n",
       "      <td>5.0</td>\n",
       "      <td>2019.0</td>\n",
       "      <td>1102233094</td>\n",
       "      <td>автоматическая</td>\n",
       "      <td>NAN</td>\n",
       "      <td>2 владельца</td>\n",
       "      <td>Оригинал</td>\n",
       "      <td>полный</td>\n",
       "      <td>Левый</td>\n",
       "      <td>7999999.0</td>\n",
       "    </tr>\n",
       "    <tr>\n",
       "      <td>62808</td>\n",
       "      <td>внедорожник 5 дв.</td>\n",
       "      <td>TESLA</td>\n",
       "      <td>https://auto.ru/cars/used/sale/tesla/model_x/1...</td>\n",
       "      <td>чёрный</td>\n",
       "      <td>NaN</td>\n",
       "      <td>NaN</td>\n",
       "      <td>{'Салон': ['Тонированные стекла', 'Передний це...</td>\n",
       "      <td>NaN</td>\n",
       "      <td>12000.0</td>\n",
       "      <td>2016.0</td>\n",
       "      <td>Model X</td>\n",
       "      <td>5.0</td>\n",
       "      <td>2018.0</td>\n",
       "      <td>1102674160</td>\n",
       "      <td>автоматическая</td>\n",
       "      <td>NAN</td>\n",
       "      <td>1 владелец</td>\n",
       "      <td>Оригинал</td>\n",
       "      <td>полный</td>\n",
       "      <td>Левый</td>\n",
       "      <td>8990000.0</td>\n",
       "    </tr>\n",
       "    <tr>\n",
       "      <td>62809</td>\n",
       "      <td>внедорожник 5 дв.</td>\n",
       "      <td>TESLA</td>\n",
       "      <td>https://auto.ru/cars/used/sale/tesla/model_x/1...</td>\n",
       "      <td>чёрный</td>\n",
       "      <td>NaN</td>\n",
       "      <td>NaN</td>\n",
       "      <td>{'Безопасность': ['Антипробуксовочная система ...</td>\n",
       "      <td>NaN</td>\n",
       "      <td>79300.0</td>\n",
       "      <td>2016.0</td>\n",
       "      <td>Model X</td>\n",
       "      <td>5.0</td>\n",
       "      <td>2016.0</td>\n",
       "      <td>1099752244</td>\n",
       "      <td>автоматическая</td>\n",
       "      <td>NAN</td>\n",
       "      <td>1 владелец</td>\n",
       "      <td>Оригинал</td>\n",
       "      <td>полный</td>\n",
       "      <td>Левый</td>\n",
       "      <td>6580000.0</td>\n",
       "    </tr>\n",
       "    <tr>\n",
       "      <td>62810</td>\n",
       "      <td>внедорожник 5 дв.</td>\n",
       "      <td>TESLA</td>\n",
       "      <td>https://auto.ru/cars/used/sale/tesla/model_y/1...</td>\n",
       "      <td>серый</td>\n",
       "      <td>NaN</td>\n",
       "      <td>NaN</td>\n",
       "      <td>{'Салон': ['Тонированные стекла', 'Спортивные ...</td>\n",
       "      <td>NaN</td>\n",
       "      <td>1000.0</td>\n",
       "      <td>2020.0</td>\n",
       "      <td>Model Y</td>\n",
       "      <td>5.0</td>\n",
       "      <td>2020.0</td>\n",
       "      <td>1102547736</td>\n",
       "      <td>автоматическая</td>\n",
       "      <td>NAN</td>\n",
       "      <td>1 владелец</td>\n",
       "      <td>Оригинал</td>\n",
       "      <td>полный</td>\n",
       "      <td>Левый</td>\n",
       "      <td>5900000.0</td>\n",
       "    </tr>\n",
       "  </tbody>\n",
       "</table>\n",
       "</div>"
      ],
      "text/plain": [
       "                bodyType  brand  \\\n",
       "62782              седан  TESLA   \n",
       "62783              седан  TESLA   \n",
       "62784              седан  TESLA   \n",
       "62785              седан  TESLA   \n",
       "62786              седан  TESLA   \n",
       "62787              седан  TESLA   \n",
       "62788              седан  TESLA   \n",
       "62789              седан  TESLA   \n",
       "62790              седан  TESLA   \n",
       "62791            лифтбек  TESLA   \n",
       "62792            лифтбек  TESLA   \n",
       "62793            лифтбек  TESLA   \n",
       "62794            лифтбек  TESLA   \n",
       "62795            лифтбек  TESLA   \n",
       "62796            лифтбек  TESLA   \n",
       "62797            лифтбек  TESLA   \n",
       "62798            лифтбек  TESLA   \n",
       "62799            лифтбек  TESLA   \n",
       "62800            лифтбек  TESLA   \n",
       "62801            лифтбек  TESLA   \n",
       "62802            лифтбек  TESLA   \n",
       "62803            лифтбек  TESLA   \n",
       "62804            лифтбек  TESLA   \n",
       "62805  внедорожник 5 дв.  TESLA   \n",
       "62806  внедорожник 5 дв.  TESLA   \n",
       "62807  внедорожник 5 дв.  TESLA   \n",
       "62808  внедорожник 5 дв.  TESLA   \n",
       "62809  внедорожник 5 дв.  TESLA   \n",
       "62810  внедорожник 5 дв.  TESLA   \n",
       "\n",
       "                                                 car_url    color  \\\n",
       "62782  https://auto.ru/cars/used/sale/tesla/model_3/1...    белый   \n",
       "62783  https://auto.ru/cars/used/sale/tesla/model_3/1...   чёрный   \n",
       "62784  https://auto.ru/cars/used/sale/tesla/model_3/1...   чёрный   \n",
       "62785  https://auto.ru/cars/used/sale/tesla/model_3/1...    белый   \n",
       "62786  https://auto.ru/cars/used/sale/tesla/model_3/1...    белый   \n",
       "62787  https://auto.ru/cars/used/sale/tesla/model_3/1...    белый   \n",
       "62788  https://auto.ru/cars/used/sale/tesla/model_3/1...   чёрный   \n",
       "62789  https://auto.ru/cars/used/sale/tesla/model_3/1...    белый   \n",
       "62790  https://auto.ru/cars/used/sale/tesla/model_3/1...   чёрный   \n",
       "62791  https://auto.ru/cars/used/sale/tesla/model_s/1...  красный   \n",
       "62792  https://auto.ru/cars/used/sale/tesla/model_s/1...    серый   \n",
       "62793  https://auto.ru/cars/used/sale/tesla/model_s/1...  красный   \n",
       "62794  https://auto.ru/cars/used/sale/tesla/model_s/1...   чёрный   \n",
       "62795  https://auto.ru/cars/used/sale/tesla/model_s/1...   чёрный   \n",
       "62796  https://auto.ru/cars/used/sale/tesla/model_s/1...    белый   \n",
       "62797  https://auto.ru/cars/used/sale/tesla/model_s/1...   чёрный   \n",
       "62798  https://auto.ru/cars/used/sale/tesla/model_s/1...   чёрный   \n",
       "62799  https://auto.ru/cars/used/sale/tesla/model_s/1...  красный   \n",
       "62800  https://auto.ru/cars/used/sale/tesla/model_s/1...    белый   \n",
       "62801  https://auto.ru/cars/used/sale/tesla/model_s/1...  красный   \n",
       "62802  https://auto.ru/cars/used/sale/tesla/model_s/1...  красный   \n",
       "62803  https://auto.ru/cars/used/sale/tesla/model_s/1...    белый   \n",
       "62804  https://auto.ru/cars/used/sale/tesla/model_s/1...   чёрный   \n",
       "62805  https://auto.ru/cars/used/sale/tesla/model_x/1...    синий   \n",
       "62806  https://auto.ru/cars/used/sale/tesla/model_x/1...    белый   \n",
       "62807  https://auto.ru/cars/used/sale/tesla/model_x/1...    белый   \n",
       "62808  https://auto.ru/cars/used/sale/tesla/model_x/1...   чёрный   \n",
       "62809  https://auto.ru/cars/used/sale/tesla/model_x/1...   чёрный   \n",
       "62810  https://auto.ru/cars/used/sale/tesla/model_y/1...    серый   \n",
       "\n",
       "       engineDisplacement  enginePower  \\\n",
       "62782                 NaN          NaN   \n",
       "62783                 NaN          NaN   \n",
       "62784                 NaN          NaN   \n",
       "62785                 NaN          NaN   \n",
       "62786                 NaN          NaN   \n",
       "62787                 NaN          NaN   \n",
       "62788                 NaN          NaN   \n",
       "62789                 NaN          NaN   \n",
       "62790                 NaN          NaN   \n",
       "62791                 NaN          NaN   \n",
       "62792                 NaN          NaN   \n",
       "62793                 NaN          NaN   \n",
       "62794                 NaN          NaN   \n",
       "62795                 NaN          NaN   \n",
       "62796                 NaN          NaN   \n",
       "62797                 NaN          NaN   \n",
       "62798                 NaN          NaN   \n",
       "62799                 NaN          NaN   \n",
       "62800                 NaN          NaN   \n",
       "62801                 NaN          NaN   \n",
       "62802                 NaN          NaN   \n",
       "62803                 NaN          NaN   \n",
       "62804                 NaN          NaN   \n",
       "62805                 NaN          NaN   \n",
       "62806                 NaN          NaN   \n",
       "62807                 NaN          NaN   \n",
       "62808                 NaN          NaN   \n",
       "62809                 NaN          NaN   \n",
       "62810                 NaN          NaN   \n",
       "\n",
       "                                          equipment_dict fuelType   mileage  \\\n",
       "62782                                                NaN      NaN   11000.0   \n",
       "62783  {'Безопасность': ['Антипробуксовочная система ...      NaN   32800.0   \n",
       "62784                                                NaN      NaN   10000.0   \n",
       "62785  {'Безопасность': ['Антипробуксовочная система ...      NaN   13000.0   \n",
       "62786  {'Безопасность': ['Антипробуксовочная система ...      NaN   12500.0   \n",
       "62787  {'Безопасность': ['Система стабилизации (ESP)'...      NaN   59300.0   \n",
       "62788  {'Комфорт': ['Круиз-контроль', 'Бортовой компь...      NaN   15980.0   \n",
       "62789  {'Безопасность': ['Система стабилизации (ESP)'...      NaN   41000.0   \n",
       "62790                                                NaN      NaN    9000.0   \n",
       "62791  {'Салон': ['Тонированные стекла', 'Передний це...      NaN  120000.0   \n",
       "62792  {'Салон': ['Панорамная крыша / лобовое стекло'...      NaN  118500.0   \n",
       "62793  {'Комфорт': ['Круиз-контроль', 'Парктроник пер...      NaN   75880.0   \n",
       "62794  {'Салон': ['Тонированные стекла', 'Передний це...      NaN   45000.0   \n",
       "62795                                                NaN      NaN   42000.0   \n",
       "62796  {'Салон': ['Тонированные стекла', 'Передний це...      NaN  180000.0   \n",
       "62797  {'Комфорт': ['Круиз-контроль', 'Электропривод ...      NaN  150000.0   \n",
       "62798                                                NaN      NaN  103000.0   \n",
       "62799  {'Комфорт': ['Круиз-контроль', 'Электрорегулир...      NaN    2600.0   \n",
       "62800  {'Комфорт': ['Круиз-контроль', 'Электрорегулир...      NaN   92000.0   \n",
       "62801  {'Комфорт': ['Круиз-контроль', 'Электрорегулир...      NaN   65000.0   \n",
       "62802  {'Безопасность': ['Антипробуксовочная система ...      NaN   53000.0   \n",
       "62803  {'Комфорт': ['Круиз-контроль', 'Мультифункцион...      NaN   46000.0   \n",
       "62804  {'Безопасность': ['Система стабилизации (ESP)'...      NaN   63500.0   \n",
       "62805  {'Салон': ['Тонированные стекла', 'Спортивные ...      NaN   80000.0   \n",
       "62806  {'Безопасность': ['ЭРА-ГЛОНАСС'], 'Элементы эк...      NaN    6757.0   \n",
       "62807  {'Безопасность': ['Система стабилизации (ESP)'...      NaN   26600.0   \n",
       "62808  {'Салон': ['Тонированные стекла', 'Передний це...      NaN   12000.0   \n",
       "62809  {'Безопасность': ['Антипробуксовочная система ...      NaN   79300.0   \n",
       "62810  {'Салон': ['Тонированные стекла', 'Спортивные ...      NaN    1000.0   \n",
       "\n",
       "       modelDate model_name  numberOfDoors  productionDate     sell_id  \\\n",
       "62782     2018.0    Model 3            NaN          2019.0  1102283481   \n",
       "62783     2018.0    Model 3            NaN          2019.0  1102280379   \n",
       "62784     2018.0    Model 3            NaN          2020.0  1102725846   \n",
       "62785     2018.0    Model 3            NaN          2019.0  1102673072   \n",
       "62786     2018.0    Model 3            NaN          2019.0  1102175148   \n",
       "62787     2018.0    Model 3            NaN          2018.0  1101670618   \n",
       "62788     2018.0    Model 3            NaN          2019.0  1102437051   \n",
       "62789     2018.0    Model 3            NaN          2019.0  1102516936   \n",
       "62790     2018.0    Model 3            NaN          2019.0  1102586180   \n",
       "62791     2018.0    Model S            NaN          2018.0  1102613930   \n",
       "62792     2012.0    Model S            NaN          2013.0  1102528297   \n",
       "62793     2018.0    Model S            NaN          2018.0  1102863527   \n",
       "62794     2018.0    Model S            NaN          2018.0  1102077792   \n",
       "62795     2012.0    Model S            NaN          2013.0  1101942771   \n",
       "62796     2012.0    Model S            NaN          2014.0  1102410879   \n",
       "62797     2012.0    Model S            NaN          2013.0  1102816349   \n",
       "62798     2012.0    Model S            NaN          2013.0  1102383037   \n",
       "62799     2012.0    Model S            NaN          2014.0  1101420008   \n",
       "62800     2012.0    Model S            NaN          2012.0  1102321183   \n",
       "62801     2012.0    Model S            NaN          2014.0  1091599756   \n",
       "62802     2012.0    Model S            NaN          2015.0  1095424346   \n",
       "62803     2012.0    Model S            NaN          2015.0  1101953654   \n",
       "62804     2018.0    Model S            NaN          2016.0  1101949817   \n",
       "62805     2016.0    Model X            5.0          2016.0  1101749766   \n",
       "62806     2016.0    Model X            5.0          2020.0  1102793873   \n",
       "62807     2016.0    Model X            5.0          2019.0  1102233094   \n",
       "62808     2016.0    Model X            5.0          2018.0  1102674160   \n",
       "62809     2016.0    Model X            5.0          2016.0  1099752244   \n",
       "62810     2020.0    Model Y            5.0          2020.0  1102547736   \n",
       "\n",
       "      vehicleTransmission vendor    Владельцы       ПТС  Привод   Руль  \\\n",
       "62782      автоматическая    NAN   1 владелец  Оригинал  задний  Левый   \n",
       "62783      автоматическая    NAN   1 владелец  Оригинал  задний  Левый   \n",
       "62784      автоматическая    NAN   1 владелец  Оригинал  полный  Левый   \n",
       "62785      автоматическая    NAN   1 владелец  Оригинал  полный  Левый   \n",
       "62786      автоматическая    NAN   1 владелец  Оригинал  задний  Левый   \n",
       "62787      автоматическая    NAN   1 владелец  Оригинал  задний  Левый   \n",
       "62788      автоматическая    NAN   1 владелец  Оригинал  задний  Левый   \n",
       "62789      автоматическая    NAN   1 владелец  Оригинал  задний  Левый   \n",
       "62790      автоматическая    NAN   1 владелец  Оригинал  полный  Левый   \n",
       "62791      автоматическая    NAN   1 владелец  Оригинал  полный  Левый   \n",
       "62792      автоматическая    NAN   1 владелец  Оригинал  задний  Левый   \n",
       "62793      автоматическая    NAN  3 или более  Оригинал  полный  Левый   \n",
       "62794      автоматическая    NAN   1 владелец  Оригинал  полный  Левый   \n",
       "62795      автоматическая    NAN  2 владельца  Оригинал  задний  Левый   \n",
       "62796      автоматическая    NAN   1 владелец  Оригинал  задний  Левый   \n",
       "62797      автоматическая    NAN   1 владелец  Оригинал  задний  Левый   \n",
       "62798      автоматическая    NAN   1 владелец  Оригинал  задний  Левый   \n",
       "62799      автоматическая    NAN   1 владелец  Оригинал  задний  Левый   \n",
       "62800      автоматическая    NAN  3 или более  Оригинал  задний  Левый   \n",
       "62801      автоматическая    NAN  3 или более  Оригинал  задний  Левый   \n",
       "62802      автоматическая    NAN  3 или более  Оригинал  полный  Левый   \n",
       "62803      автоматическая    NAN  2 владельца  Оригинал  полный  Левый   \n",
       "62804      автоматическая    NAN   1 владелец  Оригинал  полный  Левый   \n",
       "62805      автоматическая    NAN   1 владелец  Оригинал  полный  Левый   \n",
       "62806      автоматическая    NAN   1 владелец  Оригинал  полный  Левый   \n",
       "62807      автоматическая    NAN  2 владельца  Оригинал  полный  Левый   \n",
       "62808      автоматическая    NAN   1 владелец  Оригинал  полный  Левый   \n",
       "62809      автоматическая    NAN   1 владелец  Оригинал  полный  Левый   \n",
       "62810      автоматическая    NAN   1 владелец  Оригинал  полный  Левый   \n",
       "\n",
       "       offerprice  \n",
       "62782   3400000.0  \n",
       "62783   3580000.0  \n",
       "62784   5350000.0  \n",
       "62785   5250000.0  \n",
       "62786   3850000.0  \n",
       "62787   3820000.0  \n",
       "62788   3950000.0  \n",
       "62789   3500000.0  \n",
       "62790   3750000.0  \n",
       "62791   3950000.0  \n",
       "62792   2650000.0  \n",
       "62793   4830000.0  \n",
       "62794   6550000.0  \n",
       "62795   2499000.0  \n",
       "62796   3295000.0  \n",
       "62797   2499000.0  \n",
       "62798   2780000.0  \n",
       "62799   3550000.0  \n",
       "62800   2800000.0  \n",
       "62801   3499999.0  \n",
       "62802   4900000.0  \n",
       "62803   4800000.0  \n",
       "62804   3600000.0  \n",
       "62805   6250000.0  \n",
       "62806   8700000.0  \n",
       "62807   7999999.0  \n",
       "62808   8990000.0  \n",
       "62809   6580000.0  \n",
       "62810   5900000.0  "
      ]
     },
     "execution_count": 101,
     "metadata": {},
     "output_type": "execute_result"
    }
   ],
   "source": [
    "train[train.brand == 'TESLA']"
   ]
  },
  {
   "cell_type": "code",
   "execution_count": null,
   "metadata": {},
   "outputs": [],
   "source": []
  }
 ],
 "metadata": {
  "kernelspec": {
   "display_name": "Python 3",
   "language": "python",
   "name": "python3"
  },
  "language_info": {
   "codemirror_mode": {
    "name": "ipython",
    "version": 3
   },
   "file_extension": ".py",
   "mimetype": "text/x-python",
   "name": "python",
   "nbconvert_exporter": "python",
   "pygments_lexer": "ipython3",
   "version": "3.6.5"
  }
 },
 "nbformat": 4,
 "nbformat_minor": 2
}
