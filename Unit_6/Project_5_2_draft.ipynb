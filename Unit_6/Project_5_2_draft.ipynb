{
 "cells": [
  {
   "cell_type": "markdown",
   "metadata": {},
   "source": [
    "# Описание задачи\n",
    "## В задачи пректа входит:\n",
    "- Нахождение данных для обученяи модели: парсинг и/или иные источники;\n",
    "- Предобработка полученных данных\n",
    "- Создание новых признаков с использованием полученных данных;\n",
    "- Отбор признаков;\n",
    "- Отбор моделей;\n",
    "- Обучение и тестирование отобранных моделей на отобранных признаках;\n",
    "- Подбор макропараметров модели на отобранных признаках;\n",
    "- Получение предсказанных моделью значений, подготовка и отправка submission\n",
    "\n",
    "# Импорт библиотек, установка параметров, определение функций\n",
    "## Импорт бибилиотек"
   ]
  },
  {
   "cell_type": "code",
   "execution_count": 54,
   "metadata": {},
   "outputs": [],
   "source": [
    "import pandas as pd\n",
    "import numpy as np\n",
    "import json \n",
    "from datetime import datetime\n",
    "from datetime import date\n",
    "\n",
    "from pprint import pprint\n",
    "\n",
    "import warnings\n",
    "import os"
   ]
  },
  {
   "cell_type": "markdown",
   "metadata": {},
   "source": [
    "## Установка параметров"
   ]
  },
  {
   "cell_type": "code",
   "execution_count": 55,
   "metadata": {},
   "outputs": [
    {
     "name": "stdout",
     "output_type": "stream",
     "text": [
      "Populating the interactive namespace from numpy and matplotlib\n"
     ]
    }
   ],
   "source": [
    "%pylab inline\n",
    "\n",
    "warnings.filterwarnings(\"ignore\")\n",
    "\n",
    "pd.set_option('display.max_rows', 70)    # выведем больше строк\n",
    "pd.set_option('display.max_columns', 30) # выведем больше колонок\n",
    "\n",
    "# альтернативные пути для kaggle и локальный (НЕ ЗАБЫВАТЬ МЕНЯТЬ!)\n",
    "path = './Project_5_data/'\n",
    "# path = '/kaggle/input/.....'\n",
    "\n",
    "# фиксация randomstate\n",
    "RANDOM_SEED = 42"
   ]
  },
  {
   "cell_type": "markdown",
   "metadata": {},
   "source": [
    "## Определение функций"
   ]
  },
  {
   "cell_type": "code",
   "execution_count": 56,
   "metadata": {},
   "outputs": [],
   "source": [
    "def describe_df(df):\n",
    "    '''\n",
    "    Вывод простой статистки DataFrame\n",
    "    '''\n",
    "    desc = df.describe(include='all',percentiles=[0.5]).drop(index=['mean','std','50%']).T \n",
    "    desc['type'] = [type(x) for x in df.iloc[0]]\n",
    "    desc['NaN_prop'] = round(df.isna().sum()/len(df),3)\n",
    "    desc.unique = df.nunique()\n",
    "    desc.top = df.mode(axis=0).iloc[0]\n",
    "    desc.top = [str(x)[:30] for x in df.mode(axis=0).iloc[0]]\n",
    "\n",
    "    desc.freq = [df[col].value_counts().iloc[0] for col in  df.columns]\n",
    "    \n",
    "    return desc\n",
    "\n",
    "def cat_visualisation():\n",
    "    pass\n",
    "\n",
    "def num_visualisation():\n",
    "    pass"
   ]
  },
  {
   "cell_type": "markdown",
   "metadata": {},
   "source": [
    "# Изучение  валидационных данных \n",
    "\n",
    "Что бы понимать какие признаки нам нужны для обучения модели нам необходимо узнать какие признаки описывают наблюдения, для которых мы должны предсказать целевую переменную.  \n",
    "\n",
    "Поэтому для начала исследуем набор данных эти наблюдения описывающие."
   ]
  },
  {
   "cell_type": "code",
   "execution_count": 57,
   "metadata": {
    "scrolled": false
   },
   "outputs": [],
   "source": [
    "df_test = pd.read_csv(f'{path}test.csv')"
   ]
  },
  {
   "cell_type": "markdown",
   "metadata": {},
   "source": [
    "### Общий обзор"
   ]
  },
  {
   "cell_type": "code",
   "execution_count": 58,
   "metadata": {},
   "outputs": [
    {
     "name": "stdout",
     "output_type": "stream",
     "text": [
      "<class 'pandas.core.frame.DataFrame'>\n",
      "RangeIndex: 34686 entries, 0 to 34685\n",
      "Columns: 32 entries, bodyType to Таможня\n",
      "dtypes: int64(6), object(26)\n",
      "memory usage: 8.5+ MB\n"
     ]
    }
   ],
   "source": [
    "df_test.info(verbose=False)"
   ]
  },
  {
   "cell_type": "code",
   "execution_count": 59,
   "metadata": {},
   "outputs": [
    {
     "data": {
      "text/html": [
       "<div>\n",
       "<style scoped>\n",
       "    .dataframe tbody tr th:only-of-type {\n",
       "        vertical-align: middle;\n",
       "    }\n",
       "\n",
       "    .dataframe tbody tr th {\n",
       "        vertical-align: top;\n",
       "    }\n",
       "\n",
       "    .dataframe thead th {\n",
       "        text-align: right;\n",
       "    }\n",
       "</style>\n",
       "<table border=\"1\" class=\"dataframe\">\n",
       "  <thead>\n",
       "    <tr style=\"text-align: right;\">\n",
       "      <th></th>\n",
       "      <th>count</th>\n",
       "      <th>unique</th>\n",
       "      <th>top</th>\n",
       "      <th>freq</th>\n",
       "      <th>min</th>\n",
       "      <th>max</th>\n",
       "      <th>type</th>\n",
       "      <th>NaN_prop</th>\n",
       "    </tr>\n",
       "  </thead>\n",
       "  <tbody>\n",
       "    <tr>\n",
       "      <td>bodyType</td>\n",
       "      <td>34686</td>\n",
       "      <td>24</td>\n",
       "      <td>седан</td>\n",
       "      <td>13147</td>\n",
       "      <td>NaN</td>\n",
       "      <td>NaN</td>\n",
       "      <td>&lt;class 'str'&gt;</td>\n",
       "      <td>0.000</td>\n",
       "    </tr>\n",
       "    <tr>\n",
       "      <td>brand</td>\n",
       "      <td>34686</td>\n",
       "      <td>12</td>\n",
       "      <td>BMW</td>\n",
       "      <td>4473</td>\n",
       "      <td>NaN</td>\n",
       "      <td>NaN</td>\n",
       "      <td>&lt;class 'str'&gt;</td>\n",
       "      <td>0.000</td>\n",
       "    </tr>\n",
       "    <tr>\n",
       "      <td>car_url</td>\n",
       "      <td>34686</td>\n",
       "      <td>34686</td>\n",
       "      <td>https://auto.ru/cars/used/sale</td>\n",
       "      <td>1</td>\n",
       "      <td>NaN</td>\n",
       "      <td>NaN</td>\n",
       "      <td>&lt;class 'str'&gt;</td>\n",
       "      <td>0.000</td>\n",
       "    </tr>\n",
       "    <tr>\n",
       "      <td>color</td>\n",
       "      <td>34686</td>\n",
       "      <td>16</td>\n",
       "      <td>чёрный</td>\n",
       "      <td>11010</td>\n",
       "      <td>NaN</td>\n",
       "      <td>NaN</td>\n",
       "      <td>&lt;class 'str'&gt;</td>\n",
       "      <td>0.000</td>\n",
       "    </tr>\n",
       "    <tr>\n",
       "      <td>complectation_dict</td>\n",
       "      <td>6418</td>\n",
       "      <td>2364</td>\n",
       "      <td>{\"id\":\"4562904\",\"name\":\"Elegan</td>\n",
       "      <td>51</td>\n",
       "      <td>NaN</td>\n",
       "      <td>NaN</td>\n",
       "      <td>&lt;class 'float'&gt;</td>\n",
       "      <td>0.815</td>\n",
       "    </tr>\n",
       "    <tr>\n",
       "      <td>description</td>\n",
       "      <td>34686</td>\n",
       "      <td>31732</td>\n",
       "      <td>Выгода до 82 000 руб. при обме</td>\n",
       "      <td>264</td>\n",
       "      <td>NaN</td>\n",
       "      <td>NaN</td>\n",
       "      <td>&lt;class 'str'&gt;</td>\n",
       "      <td>0.000</td>\n",
       "    </tr>\n",
       "    <tr>\n",
       "      <td>engineDisplacement</td>\n",
       "      <td>34686</td>\n",
       "      <td>55</td>\n",
       "      <td>2.0 LTR</td>\n",
       "      <td>7391</td>\n",
       "      <td>NaN</td>\n",
       "      <td>NaN</td>\n",
       "      <td>&lt;class 'str'&gt;</td>\n",
       "      <td>0.000</td>\n",
       "    </tr>\n",
       "    <tr>\n",
       "      <td>enginePower</td>\n",
       "      <td>34686</td>\n",
       "      <td>315</td>\n",
       "      <td>249 N12</td>\n",
       "      <td>1708</td>\n",
       "      <td>NaN</td>\n",
       "      <td>NaN</td>\n",
       "      <td>&lt;class 'str'&gt;</td>\n",
       "      <td>0.000</td>\n",
       "    </tr>\n",
       "    <tr>\n",
       "      <td>equipment_dict</td>\n",
       "      <td>24690</td>\n",
       "      <td>23705</td>\n",
       "      <td>{\"leather\":true}</td>\n",
       "      <td>108</td>\n",
       "      <td>NaN</td>\n",
       "      <td>NaN</td>\n",
       "      <td>&lt;class 'str'&gt;</td>\n",
       "      <td>0.288</td>\n",
       "    </tr>\n",
       "    <tr>\n",
       "      <td>fuelType</td>\n",
       "      <td>34686</td>\n",
       "      <td>5</td>\n",
       "      <td>бензин</td>\n",
       "      <td>28601</td>\n",
       "      <td>NaN</td>\n",
       "      <td>NaN</td>\n",
       "      <td>&lt;class 'str'&gt;</td>\n",
       "      <td>0.000</td>\n",
       "    </tr>\n",
       "    <tr>\n",
       "      <td>image</td>\n",
       "      <td>34686</td>\n",
       "      <td>34557</td>\n",
       "      <td>https://avatars.mds.yandex.net</td>\n",
       "      <td>13</td>\n",
       "      <td>NaN</td>\n",
       "      <td>NaN</td>\n",
       "      <td>&lt;class 'str'&gt;</td>\n",
       "      <td>0.000</td>\n",
       "    </tr>\n",
       "    <tr>\n",
       "      <td>mileage</td>\n",
       "      <td>34686</td>\n",
       "      <td>11268</td>\n",
       "      <td>200000.0</td>\n",
       "      <td>436</td>\n",
       "      <td>1</td>\n",
       "      <td>1e+06</td>\n",
       "      <td>&lt;class 'numpy.int64'&gt;</td>\n",
       "      <td>0.000</td>\n",
       "    </tr>\n",
       "    <tr>\n",
       "      <td>modelDate</td>\n",
       "      <td>34686</td>\n",
       "      <td>66</td>\n",
       "      <td>2010.0</td>\n",
       "      <td>2503</td>\n",
       "      <td>1904</td>\n",
       "      <td>2020</td>\n",
       "      <td>&lt;class 'numpy.int64'&gt;</td>\n",
       "      <td>0.000</td>\n",
       "    </tr>\n",
       "    <tr>\n",
       "      <td>model_info</td>\n",
       "      <td>34686</td>\n",
       "      <td>954</td>\n",
       "      <td>{\"code\":\"OCTAVIA\",\"name\":\"Octa</td>\n",
       "      <td>1404</td>\n",
       "      <td>NaN</td>\n",
       "      <td>NaN</td>\n",
       "      <td>&lt;class 'str'&gt;</td>\n",
       "      <td>0.000</td>\n",
       "    </tr>\n",
       "    <tr>\n",
       "      <td>model_name</td>\n",
       "      <td>34686</td>\n",
       "      <td>544</td>\n",
       "      <td>OCTAVIA</td>\n",
       "      <td>1418</td>\n",
       "      <td>NaN</td>\n",
       "      <td>NaN</td>\n",
       "      <td>&lt;class 'str'&gt;</td>\n",
       "      <td>0.000</td>\n",
       "    </tr>\n",
       "    <tr>\n",
       "      <td>name</td>\n",
       "      <td>34686</td>\n",
       "      <td>2780</td>\n",
       "      <td>1.6 AT (110 л.с.)</td>\n",
       "      <td>631</td>\n",
       "      <td>NaN</td>\n",
       "      <td>NaN</td>\n",
       "      <td>&lt;class 'str'&gt;</td>\n",
       "      <td>0.000</td>\n",
       "    </tr>\n",
       "    <tr>\n",
       "      <td>numberOfDoors</td>\n",
       "      <td>34686</td>\n",
       "      <td>5</td>\n",
       "      <td>5.0</td>\n",
       "      <td>18703</td>\n",
       "      <td>0</td>\n",
       "      <td>5</td>\n",
       "      <td>&lt;class 'numpy.int64'&gt;</td>\n",
       "      <td>0.000</td>\n",
       "    </tr>\n",
       "    <tr>\n",
       "      <td>parsing_unixtime</td>\n",
       "      <td>34686</td>\n",
       "      <td>34686</td>\n",
       "      <td>1603107306</td>\n",
       "      <td>1</td>\n",
       "      <td>1.60311e+09</td>\n",
       "      <td>1.60371e+09</td>\n",
       "      <td>&lt;class 'numpy.int64'&gt;</td>\n",
       "      <td>0.000</td>\n",
       "    </tr>\n",
       "    <tr>\n",
       "      <td>priceCurrency</td>\n",
       "      <td>34686</td>\n",
       "      <td>1</td>\n",
       "      <td>RUB</td>\n",
       "      <td>34686</td>\n",
       "      <td>NaN</td>\n",
       "      <td>NaN</td>\n",
       "      <td>&lt;class 'str'&gt;</td>\n",
       "      <td>0.000</td>\n",
       "    </tr>\n",
       "    <tr>\n",
       "      <td>productionDate</td>\n",
       "      <td>34686</td>\n",
       "      <td>69</td>\n",
       "      <td>2012.0</td>\n",
       "      <td>2798</td>\n",
       "      <td>1904</td>\n",
       "      <td>2020</td>\n",
       "      <td>&lt;class 'numpy.int64'&gt;</td>\n",
       "      <td>0.000</td>\n",
       "    </tr>\n",
       "    <tr>\n",
       "      <td>sell_id</td>\n",
       "      <td>34686</td>\n",
       "      <td>34686</td>\n",
       "      <td>2665</td>\n",
       "      <td>1</td>\n",
       "      <td>2665</td>\n",
       "      <td>1.10137e+09</td>\n",
       "      <td>&lt;class 'numpy.int64'&gt;</td>\n",
       "      <td>0.000</td>\n",
       "    </tr>\n",
       "    <tr>\n",
       "      <td>super_gen</td>\n",
       "      <td>34686</td>\n",
       "      <td>5890</td>\n",
       "      <td>{\"id\":\"6214876\",\"displacement\"</td>\n",
       "      <td>193</td>\n",
       "      <td>NaN</td>\n",
       "      <td>NaN</td>\n",
       "      <td>&lt;class 'str'&gt;</td>\n",
       "      <td>0.000</td>\n",
       "    </tr>\n",
       "    <tr>\n",
       "      <td>vehicleConfiguration</td>\n",
       "      <td>34686</td>\n",
       "      <td>634</td>\n",
       "      <td>ALLROAD_5_DOORS AUTOMATIC 3.0</td>\n",
       "      <td>2389</td>\n",
       "      <td>NaN</td>\n",
       "      <td>NaN</td>\n",
       "      <td>&lt;class 'str'&gt;</td>\n",
       "      <td>0.000</td>\n",
       "    </tr>\n",
       "    <tr>\n",
       "      <td>vehicleTransmission</td>\n",
       "      <td>34686</td>\n",
       "      <td>4</td>\n",
       "      <td>автоматическая</td>\n",
       "      <td>19596</td>\n",
       "      <td>NaN</td>\n",
       "      <td>NaN</td>\n",
       "      <td>&lt;class 'str'&gt;</td>\n",
       "      <td>0.000</td>\n",
       "    </tr>\n",
       "    <tr>\n",
       "      <td>vendor</td>\n",
       "      <td>34686</td>\n",
       "      <td>2</td>\n",
       "      <td>EUROPEAN</td>\n",
       "      <td>20682</td>\n",
       "      <td>NaN</td>\n",
       "      <td>NaN</td>\n",
       "      <td>&lt;class 'str'&gt;</td>\n",
       "      <td>0.000</td>\n",
       "    </tr>\n",
       "    <tr>\n",
       "      <td>Владельцы</td>\n",
       "      <td>34686</td>\n",
       "      <td>3</td>\n",
       "      <td>3 или более</td>\n",
       "      <td>15957</td>\n",
       "      <td>NaN</td>\n",
       "      <td>NaN</td>\n",
       "      <td>&lt;class 'str'&gt;</td>\n",
       "      <td>0.000</td>\n",
       "    </tr>\n",
       "    <tr>\n",
       "      <td>Владение</td>\n",
       "      <td>11995</td>\n",
       "      <td>275</td>\n",
       "      <td>1 год и 10 месяцев</td>\n",
       "      <td>209</td>\n",
       "      <td>NaN</td>\n",
       "      <td>NaN</td>\n",
       "      <td>&lt;class 'float'&gt;</td>\n",
       "      <td>0.654</td>\n",
       "    </tr>\n",
       "    <tr>\n",
       "      <td>ПТС</td>\n",
       "      <td>34685</td>\n",
       "      <td>2</td>\n",
       "      <td>Оригинал</td>\n",
       "      <td>30098</td>\n",
       "      <td>NaN</td>\n",
       "      <td>NaN</td>\n",
       "      <td>&lt;class 'str'&gt;</td>\n",
       "      <td>0.000</td>\n",
       "    </tr>\n",
       "    <tr>\n",
       "      <td>Привод</td>\n",
       "      <td>34686</td>\n",
       "      <td>3</td>\n",
       "      <td>передний</td>\n",
       "      <td>15565</td>\n",
       "      <td>NaN</td>\n",
       "      <td>NaN</td>\n",
       "      <td>&lt;class 'str'&gt;</td>\n",
       "      <td>0.000</td>\n",
       "    </tr>\n",
       "    <tr>\n",
       "      <td>Руль</td>\n",
       "      <td>34686</td>\n",
       "      <td>2</td>\n",
       "      <td>Левый</td>\n",
       "      <td>33287</td>\n",
       "      <td>NaN</td>\n",
       "      <td>NaN</td>\n",
       "      <td>&lt;class 'str'&gt;</td>\n",
       "      <td>0.000</td>\n",
       "    </tr>\n",
       "    <tr>\n",
       "      <td>Состояние</td>\n",
       "      <td>34686</td>\n",
       "      <td>1</td>\n",
       "      <td>Не требует ремонта</td>\n",
       "      <td>34686</td>\n",
       "      <td>NaN</td>\n",
       "      <td>NaN</td>\n",
       "      <td>&lt;class 'str'&gt;</td>\n",
       "      <td>0.000</td>\n",
       "    </tr>\n",
       "    <tr>\n",
       "      <td>Таможня</td>\n",
       "      <td>34686</td>\n",
       "      <td>1</td>\n",
       "      <td>Растаможен</td>\n",
       "      <td>34686</td>\n",
       "      <td>NaN</td>\n",
       "      <td>NaN</td>\n",
       "      <td>&lt;class 'str'&gt;</td>\n",
       "      <td>0.000</td>\n",
       "    </tr>\n",
       "  </tbody>\n",
       "</table>\n",
       "</div>"
      ],
      "text/plain": [
       "                      count  unique                             top   freq  \\\n",
       "bodyType              34686      24                           седан  13147   \n",
       "brand                 34686      12                             BMW   4473   \n",
       "car_url               34686   34686  https://auto.ru/cars/used/sale      1   \n",
       "color                 34686      16                          чёрный  11010   \n",
       "complectation_dict     6418    2364  {\"id\":\"4562904\",\"name\":\"Elegan     51   \n",
       "description           34686   31732  Выгода до 82 000 руб. при обме    264   \n",
       "engineDisplacement    34686      55                         2.0 LTR   7391   \n",
       "enginePower           34686     315                         249 N12   1708   \n",
       "equipment_dict        24690   23705                {\"leather\":true}    108   \n",
       "fuelType              34686       5                          бензин  28601   \n",
       "image                 34686   34557  https://avatars.mds.yandex.net     13   \n",
       "mileage               34686   11268                        200000.0    436   \n",
       "modelDate             34686      66                          2010.0   2503   \n",
       "model_info            34686     954  {\"code\":\"OCTAVIA\",\"name\":\"Octa   1404   \n",
       "model_name            34686     544                         OCTAVIA   1418   \n",
       "name                  34686    2780               1.6 AT (110 л.с.)    631   \n",
       "numberOfDoors         34686       5                             5.0  18703   \n",
       "parsing_unixtime      34686   34686                      1603107306      1   \n",
       "priceCurrency         34686       1                             RUB  34686   \n",
       "productionDate        34686      69                          2012.0   2798   \n",
       "sell_id               34686   34686                            2665      1   \n",
       "super_gen             34686    5890  {\"id\":\"6214876\",\"displacement\"    193   \n",
       "vehicleConfiguration  34686     634   ALLROAD_5_DOORS AUTOMATIC 3.0   2389   \n",
       "vehicleTransmission   34686       4                  автоматическая  19596   \n",
       "vendor                34686       2                        EUROPEAN  20682   \n",
       "Владельцы             34686       3                     3 или более  15957   \n",
       "Владение              11995     275              1 год и 10 месяцев    209   \n",
       "ПТС                   34685       2                        Оригинал  30098   \n",
       "Привод                34686       3                        передний  15565   \n",
       "Руль                  34686       2                           Левый  33287   \n",
       "Состояние             34686       1              Не требует ремонта  34686   \n",
       "Таможня               34686       1                      Растаможен  34686   \n",
       "\n",
       "                              min          max                   type  \\\n",
       "bodyType                      NaN          NaN          <class 'str'>   \n",
       "brand                         NaN          NaN          <class 'str'>   \n",
       "car_url                       NaN          NaN          <class 'str'>   \n",
       "color                         NaN          NaN          <class 'str'>   \n",
       "complectation_dict            NaN          NaN        <class 'float'>   \n",
       "description                   NaN          NaN          <class 'str'>   \n",
       "engineDisplacement            NaN          NaN          <class 'str'>   \n",
       "enginePower                   NaN          NaN          <class 'str'>   \n",
       "equipment_dict                NaN          NaN          <class 'str'>   \n",
       "fuelType                      NaN          NaN          <class 'str'>   \n",
       "image                         NaN          NaN          <class 'str'>   \n",
       "mileage                         1        1e+06  <class 'numpy.int64'>   \n",
       "modelDate                    1904         2020  <class 'numpy.int64'>   \n",
       "model_info                    NaN          NaN          <class 'str'>   \n",
       "model_name                    NaN          NaN          <class 'str'>   \n",
       "name                          NaN          NaN          <class 'str'>   \n",
       "numberOfDoors                   0            5  <class 'numpy.int64'>   \n",
       "parsing_unixtime      1.60311e+09  1.60371e+09  <class 'numpy.int64'>   \n",
       "priceCurrency                 NaN          NaN          <class 'str'>   \n",
       "productionDate               1904         2020  <class 'numpy.int64'>   \n",
       "sell_id                      2665  1.10137e+09  <class 'numpy.int64'>   \n",
       "super_gen                     NaN          NaN          <class 'str'>   \n",
       "vehicleConfiguration          NaN          NaN          <class 'str'>   \n",
       "vehicleTransmission           NaN          NaN          <class 'str'>   \n",
       "vendor                        NaN          NaN          <class 'str'>   \n",
       "Владельцы                     NaN          NaN          <class 'str'>   \n",
       "Владение                      NaN          NaN        <class 'float'>   \n",
       "ПТС                           NaN          NaN          <class 'str'>   \n",
       "Привод                        NaN          NaN          <class 'str'>   \n",
       "Руль                          NaN          NaN          <class 'str'>   \n",
       "Состояние                     NaN          NaN          <class 'str'>   \n",
       "Таможня                       NaN          NaN          <class 'str'>   \n",
       "\n",
       "                      NaN_prop  \n",
       "bodyType                 0.000  \n",
       "brand                    0.000  \n",
       "car_url                  0.000  \n",
       "color                    0.000  \n",
       "complectation_dict       0.815  \n",
       "description              0.000  \n",
       "engineDisplacement       0.000  \n",
       "enginePower              0.000  \n",
       "equipment_dict           0.288  \n",
       "fuelType                 0.000  \n",
       "image                    0.000  \n",
       "mileage                  0.000  \n",
       "modelDate                0.000  \n",
       "model_info               0.000  \n",
       "model_name               0.000  \n",
       "name                     0.000  \n",
       "numberOfDoors            0.000  \n",
       "parsing_unixtime         0.000  \n",
       "priceCurrency            0.000  \n",
       "productionDate           0.000  \n",
       "sell_id                  0.000  \n",
       "super_gen                0.000  \n",
       "vehicleConfiguration     0.000  \n",
       "vehicleTransmission      0.000  \n",
       "vendor                   0.000  \n",
       "Владельцы                0.000  \n",
       "Владение                 0.654  \n",
       "ПТС                      0.000  \n",
       "Привод                   0.000  \n",
       "Руль                     0.000  \n",
       "Состояние                0.000  \n",
       "Таможня                  0.000  "
      ]
     },
     "execution_count": 59,
     "metadata": {},
     "output_type": "execute_result"
    }
   ],
   "source": [
    "describe_df(df_test)"
   ]
  },
  {
   "cell_type": "markdown",
   "metadata": {},
   "source": [
    "Всего в исходном валидационном датасете 32 колонки с разными типами данных (6 int, 26 object) и разыми типами признаков:   \n",
    "-бинарные (в колонках `vendor`, `ПТС`, `Руль`);   \n",
    "-категориальные (например в колонках `bodyType`, `brand`, `color`, `Владельцы`);  \n",
    "-количественные (например в `enginePower` или `mileage`).  \n",
    "\n",
    "Некоторын колонки содержат словари или длинные строки, содержащие сразу несколько признаков. \n",
    "\n",
    "Колонка `brand` содержит 12 уникальных значений. Это позволяет нам существенно сократить обьем работы по парсингу, ведь релевантными будут только данные по этим 12 брендам, поэтому только по ним и будем собирать информацию.\n",
    "\n",
    "Колонка `car_url` содержит ссылки на обьявления о продаже авто на сайте ***auto.ru***, что как бы намекает, что валидационный набор спарсен с сайта ***auto.ru***. Воспользуемся этим же источником.\n",
    "\n",
    "Три колонки  `priceCurrency`, `Состояние` и `Таможня` содержат только одно уникальное хначение, они ненесут никакой информации, поэтому исключим их из рассмотрения.  \n",
    "  \n",
    "Теперь следует ознакомиться с  каждым признак/колонку более детально. Это позволит нам понять в каком виде/формате содержится информация в колонках и соответсвенно сформировать набор данных для обучения в том же виде/формате. Так же детальное ознакомлене позволит окончательно определится с необходимость включения информации из колонок в рассмотрение моделью. В случае включения данных в рассмотрение моделью, провеем EDA. "
   ]
  },
  {
   "cell_type": "markdown",
   "metadata": {},
   "source": [
    "### Детальное ознакомление\n",
    "### bodyType"
   ]
  },
  {
   "cell_type": "code",
   "execution_count": 60,
   "metadata": {},
   "outputs": [
    {
     "data": {
      "text/plain": [
       "25959                седан\n",
       "31701    внедорожник 5 дв.\n",
       "16160                седан\n",
       "Name: bodyType, dtype: object"
      ]
     },
     "execution_count": 60,
     "metadata": {},
     "output_type": "execute_result"
    }
   ],
   "source": [
    "df_test.bodyType.sample(3)"
   ]
  },
  {
   "cell_type": "code",
   "execution_count": 61,
   "metadata": {},
   "outputs": [
    {
     "data": {
      "text/plain": [
       "array(['лифтбек', 'внедорожник 5 дв.', 'хэтчбек 5 дв.', 'седан',\n",
       "       'компактвэн', 'универсал 5 дв.', 'пикап одинарная кабина',\n",
       "       'хэтчбек 3 дв.', 'купе', 'кабриолет', 'минивэн',\n",
       "       'пикап двойная кабина', 'внедорожник 3 дв.', 'родстер', 'микровэн',\n",
       "       'седан 2 дв.', 'купе-хардтоп', 'фастбек', 'тарга',\n",
       "       'внедорожник открытый', 'лимузин', 'пикап полуторная кабина',\n",
       "       'седан-хардтоп', 'фургон'], dtype=object)"
      ]
     },
     "execution_count": 61,
     "metadata": {},
     "output_type": "execute_result"
    }
   ],
   "source": [
    "df_test.bodyType.unique()"
   ]
  },
  {
   "cell_type": "markdown",
   "metadata": {},
   "source": [
    "Колонка содержит наименование типа кузова в виде строковой величины. Принимается в пассмоттение. "
   ]
  },
  {
   "cell_type": "markdown",
   "metadata": {},
   "source": [
    "### brand"
   ]
  },
  {
   "cell_type": "code",
   "execution_count": 62,
   "metadata": {},
   "outputs": [
    {
     "data": {
      "text/plain": [
       "4513         AUDI\n",
       "14739    INFINITI\n",
       "2212        SKODA\n",
       "Name: brand, dtype: object"
      ]
     },
     "execution_count": 62,
     "metadata": {},
     "output_type": "execute_result"
    }
   ],
   "source": [
    "df_test.brand.sample(3)"
   ]
  },
  {
   "cell_type": "code",
   "execution_count": 63,
   "metadata": {},
   "outputs": [
    {
     "data": {
      "text/plain": [
       "array(['SKODA', 'AUDI', 'HONDA', 'VOLVO', 'BMW', 'NISSAN', 'INFINITI',\n",
       "       'MERCEDES', 'TOYOTA', 'LEXUS', 'VOLKSWAGEN', 'MITSUBISHI'],\n",
       "      dtype=object)"
      ]
     },
     "execution_count": 63,
     "metadata": {},
     "output_type": "execute_result"
    }
   ],
   "source": [
    "df_test.brand.unique()"
   ]
  },
  {
   "cell_type": "markdown",
   "metadata": {},
   "source": [
    "Колонка содержит наименование марки в виде строковой величины. Принимается в рассмотрение."
   ]
  },
  {
   "cell_type": "markdown",
   "metadata": {},
   "source": [
    "### car_url"
   ]
  },
  {
   "cell_type": "code",
   "execution_count": 64,
   "metadata": {},
   "outputs": [
    {
     "data": {
      "text/plain": [
       "20009    https://auto.ru/cars/used/sale/toyota/mr_s/108...\n",
       "22772    https://auto.ru/cars/used/sale/lexus/lx/109167...\n",
       "18776    https://auto.ru/cars/used/sale/mercedes/e_klas...\n",
       "28625    https://auto.ru/cars/used/sale/mitsubishi/lanc...\n",
       "20099    https://auto.ru/cars/used/sale/toyota/camry/11...\n",
       "Name: car_url, dtype: object"
      ]
     },
     "execution_count": 64,
     "metadata": {},
     "output_type": "execute_result"
    }
   ],
   "source": [
    "df_test.car_url.sample(5)"
   ]
  },
  {
   "cell_type": "markdown",
   "metadata": {},
   "source": [
    "В этой колонке содержаться ссылки на обьявления о продаже, послужившие источником при парсинге `test`. В настоящий момент скорее всего ссылки уже не активны, потому колокна будет исключена из рассмотрения моделью. Но нформация в ней содержащаяся позволит нам проверить не попадают ли в тренировочный набор данных наблюдения из валидационного. "
   ]
  },
  {
   "cell_type": "markdown",
   "metadata": {},
   "source": [
    "### color"
   ]
  },
  {
   "cell_type": "code",
   "execution_count": 65,
   "metadata": {},
   "outputs": [
    {
     "data": {
      "text/plain": [
       "7115     серебристый\n",
       "33303          белый\n",
       "8772          чёрный\n",
       "Name: color, dtype: object"
      ]
     },
     "execution_count": 65,
     "metadata": {},
     "output_type": "execute_result"
    }
   ],
   "source": [
    "df_test.color.sample(3)"
   ]
  },
  {
   "cell_type": "code",
   "execution_count": 66,
   "metadata": {},
   "outputs": [
    {
     "data": {
      "text/plain": [
       "array(['синий', 'чёрный', 'серый', 'коричневый', 'белый', 'пурпурный',\n",
       "       'бежевый', 'серебристый', 'красный', 'зелёный', 'жёлтый',\n",
       "       'голубой', 'оранжевый', 'фиолетовый', 'золотистый', 'розовый'],\n",
       "      dtype=object)"
      ]
     },
     "execution_count": 66,
     "metadata": {},
     "output_type": "execute_result"
    }
   ],
   "source": [
    "df_test.color.unique()"
   ]
  },
  {
   "cell_type": "markdown",
   "metadata": {},
   "source": [
    "Колонка содержит название цвета кузова, принимется в рассмотрение. "
   ]
  },
  {
   "cell_type": "markdown",
   "metadata": {},
   "source": [
    "### complectation_dict"
   ]
  },
  {
   "cell_type": "code",
   "execution_count": 67,
   "metadata": {},
   "outputs": [
    {
     "data": {
      "text/plain": [
       "0                                                  NaN\n",
       "1                                                  NaN\n",
       "2    {\"id\":\"20026336\",\"name\":\"Ambition\",\"available_...\n",
       "Name: complectation_dict, dtype: object"
      ]
     },
     "execution_count": 67,
     "metadata": {},
     "output_type": "execute_result"
    }
   ],
   "source": [
    "df_test.complectation_dict.head(3)"
   ]
  },
  {
   "cell_type": "code",
   "execution_count": 68,
   "metadata": {},
   "outputs": [
    {
     "data": {
      "text/plain": [
       "'{\"id\":\"20026336\",\"name\":\"Ambition\",\"available_options\":[\"heated-wash-system\",\"airbag-passenger\",\"lock\",\"door-sill-panel\",\"electro-mirrors\",\"mirrors-heat\",\"cooling-box\",\"computer\",\"seat-transformation\",\"wheel-power\",\"fabric-seats\",\"airbag-side\",\"abs\",\"wheel-leather\",\"climate-control-1\",\"esp\",\"adaptive-light\",\"audiopreparation\",\"ashtray-and-cigarette-lighter\",\"front-centre-armrest\",\"electro-window-back\",\"16-inch-wheels\",\"body-mouldings\",\"condition\",\"airbag-driver\",\"isofix\",\"aux\",\"electro-window-front\",\"light-sensor\",\"hcc\",\"ptf\",\"rain-sensor\",\"tyre-pressure\",\"audiosystem-cd\",\"front-seats-heat\",\"wheel-configuration2\",\"wheel-configuration1\",\"immo\",\"12v-socket\",\"third-rear-headrest\"]}'"
      ]
     },
     "execution_count": 68,
     "metadata": {},
     "output_type": "execute_result"
    }
   ],
   "source": [
    "df_test.complectation_dict.loc[2]"
   ]
  },
  {
   "cell_type": "markdown",
   "metadata": {},
   "source": [
    "Колонка содержит словарь стандартной комплектации с наименованием комплектации и списком обрудования (зачастую стандартного, имеющегося в любом автомобиле, например \"12v-socket\" или \"lock\") входящим в такую комплектацию. Доля пррпусков (свыше 0.8), перечисление оборудования присутсвуюшегов любом авто данной марки и модели и наличие колонки `equipment_dict` с гораздо меньшим количеством пропусков позволяет исключить колонку из рассмотрения."
   ]
  },
  {
   "cell_type": "markdown",
   "metadata": {},
   "source": [
    "### description"
   ]
  },
  {
   "cell_type": "code",
   "execution_count": 69,
   "metadata": {},
   "outputs": [
    {
     "name": "stdout",
     "output_type": "stream",
     "text": [
      "Все автомобили, представленные в продаже, проходят тщательную проверку по более 40 параметрам. Предоставляем гарантию юридической чистоты, а так же год технической гарантии на двигатель и КПП. Бесплатный тест-драйв. Возможно оформление автомобиля в кредит!\n",
      "\n",
      "Преимущества автокредитования:\n",
      "— Первоначальный взнос от 0%;\n",
      "— Более 30 кредитных программ;\n",
      "— Процентная ставка от 6% годовых;\n",
      "— Срок кредита от 6 месяцев до 7 лет;\n",
      "— Оформление кредита по двум документам;\n",
      "— Досрочное погашение без штрафов и комиссий;\n",
      "— Сумма кредита до 2 млн рублей;\n",
      "— Оформление КАСКО – по желанию;\n",
      "— Без справок и поручителей.\n",
      "\n",
      "Сотрудничаем с 12 аккредитованными и сертифицированными банками РФ, среднее время ожидания решения банка 20–30 минут.\n",
      "\n",
      "При покупке автомобиля по программе «Trade-in – выгодный обмен» или в кредит, получите дополнительную скидку до 80 000 рублей на данный автомобиль!\n",
      "\n",
      "Записаться на тест-драйв, а так же получить подробную информацию можно у специалистов автоцентра по указанному номеру телефона.\n"
     ]
    }
   ],
   "source": [
    "print(df_test.description[0])"
   ]
  },
  {
   "cell_type": "markdown",
   "metadata": {},
   "source": [
    "В колонке содержится текст, относящийся скорее к продавцу, чем к конкретному автомобилю. Поэтому на данном этапе ( и вероятно вообще) колонка исключается из рассмотрения."
   ]
  },
  {
   "cell_type": "markdown",
   "metadata": {},
   "source": [
    "### engineDisplacement"
   ]
  },
  {
   "cell_type": "code",
   "execution_count": 70,
   "metadata": {},
   "outputs": [
    {
     "data": {
      "text/plain": [
       "array(['1.2 LTR', '1.6 LTR', '1.8 LTR', '2.0 LTR', '1.4 LTR', '1.3 LTR',\n",
       "       '1.0 LTR', '3.6 LTR', '1.5 LTR', '1.9 LTR', '2.8 LTR', '1.1 LTR',\n",
       "       '2.5 LTR', '4.2 LTR', '3.0 LTR', '4.0 LTR', '5.9 LTR', '2.7 LTR',\n",
       "       '3.1 LTR', '2.4 LTR', '5.2 LTR', '3.2 LTR', '4.1 LTR', '6.3 LTR',\n",
       "       '2.3 LTR', '6.0 LTR', '2.2 LTR', '3.7 LTR', '2.9 LTR', '5.0 LTR',\n",
       "       '3.3 LTR', '2.1 LTR', '2.6 LTR', ' LTR', '3.5 LTR', '1.7 LTR',\n",
       "       '0.7 LTR', '4.4 LTR', '4.8 LTR', '5.4 LTR', '6.6 LTR', '4.9 LTR',\n",
       "       '3.8 LTR', '3.4 LTR', '3.9 LTR', '4.6 LTR', '5.6 LTR', '4.5 LTR',\n",
       "       '5.5 LTR', '6.2 LTR', '4.7 LTR', '4.3 LTR', '5.8 LTR', '5.3 LTR',\n",
       "       '5.7 LTR'], dtype=object)"
      ]
     },
     "execution_count": 70,
     "metadata": {},
     "output_type": "execute_result"
    }
   ],
   "source": [
    "df_test.engineDisplacement.unique()"
   ]
  },
  {
   "cell_type": "code",
   "execution_count": 71,
   "metadata": {},
   "outputs": [
    {
     "data": {
      "text/plain": [
       "55"
      ]
     },
     "execution_count": 71,
     "metadata": {},
     "output_type": "execute_result"
    }
   ],
   "source": [
    "df_test.engineDisplacement.value_counts()[' LTR']"
   ]
  },
  {
   "cell_type": "markdown",
   "metadata": {},
   "source": [
    "Колонка содержит обьем двигателя, принимется в рассмотрение. Следует отметить наличие скрытых пропусков (55 стрк `' LTR'`)"
   ]
  },
  {
   "cell_type": "markdown",
   "metadata": {},
   "source": [
    "### enginePower"
   ]
  },
  {
   "cell_type": "code",
   "execution_count": 72,
   "metadata": {},
   "outputs": [
    {
     "data": {
      "text/plain": [
       "array(['105 N12', '110 N12', '152 N12', '200 N12', '102 N12', '150 N12',\n",
       "       '90 N12', '180 N12', '220 N12', '122 N12', '70 N12', '140 N12',\n",
       "       '125 N12', '54 N12', '86 N12', '75 N12', '64 N12', '95 N12',\n",
       "       '260 N12', '170 N12', '80 N12', '68 N12', '160 N12', '115 N12',\n",
       "       '280 N12', '53 N12', '60 N12', '143 N12', '42 N12', '101 N12',\n",
       "       '58 N12', '193 N12', '79 N12', '30 N12', '100 N12', '50 N12',\n",
       "       '163 N12', '225 N12', '420 N12', '211 N12', '245 N12', '560 N12',\n",
       "       '500 N12', '249 N12', '450 N12', '605 N12', '250 N12', '354 N12',\n",
       "       '120 N12', '290 N12', '230 N12', '350 N12', '204 N12', '255 N12',\n",
       "       '340 N12', '177 N12', '272 N12', '372 N12', '210 N12', '130 N12',\n",
       "       '300 N12', '190 N12', '239 N12', '435 N12', '333 N12', '271 N12',\n",
       "       '326 N12', '238 N12', '310 N12', '233 N12', '252 N12', '133 N12',\n",
       "       '460 N12', '520 N12', '400 N12', '525 N12', '367 N12', '265 N12',\n",
       "       '550 N12', '580 N12', '88 N12', '165 N12', '430 N12', '335 N12',\n",
       "       '174 N12', '224 N12', '136 N12', '256 N12', '338 N12', '112 N12',\n",
       "       '218 N12', '360 N12', '93 N12', '182 N12', '113 N12', '240 N12',\n",
       "       '270 N12', '137 N12', '155 N12', '61 N12'], dtype=object)"
      ]
     },
     "execution_count": 72,
     "metadata": {},
     "output_type": "execute_result"
    }
   ],
   "source": [
    "df_test.enginePower.unique()[:100]"
   ]
  },
  {
   "cell_type": "markdown",
   "metadata": {},
   "source": [
    "Колонка содержит мощность двигателя, принмается в рассмотрение."
   ]
  },
  {
   "cell_type": "markdown",
   "metadata": {},
   "source": [
    "### equipment_dict"
   ]
  },
  {
   "cell_type": "code",
   "execution_count": 73,
   "metadata": {},
   "outputs": [
    {
     "data": {
      "text/plain": [
       "<method 'keys' of 'dict' objects>"
      ]
     },
     "execution_count": 73,
     "metadata": {},
     "output_type": "execute_result"
    }
   ],
   "source": [
    "dict.keys"
   ]
  },
  {
   "cell_type": "code",
   "execution_count": 74,
   "metadata": {},
   "outputs": [],
   "source": [
    "# ttt = df_test.equipment_dict.apply(lambda x: json.loads(x) if x==x else x)"
   ]
  },
  {
   "cell_type": "code",
   "execution_count": 75,
   "metadata": {},
   "outputs": [],
   "source": [
    "# len(ttt[0])"
   ]
  },
  {
   "cell_type": "code",
   "execution_count": 76,
   "metadata": {},
   "outputs": [],
   "source": [
    "# ttt.head()"
   ]
  },
  {
   "cell_type": "code",
   "execution_count": 77,
   "metadata": {},
   "outputs": [],
   "source": [
    "# ttt.apply(lambda x: list(x.keys()) if x==x else []).sum()"
   ]
  },
  {
   "cell_type": "code",
   "execution_count": 78,
   "metadata": {},
   "outputs": [
    {
     "data": {
      "text/plain": [
       "8931                                                  NaN\n",
       "9090                                                  NaN\n",
       "4511    {\"mirrors-heat\":true,\"remote-engine-start\":tru...\n",
       "8190    {\"start-stop-function\":true,\"esp\":true,\"airbag...\n",
       "4749    {\"cruise-control\":true,\"asr\":true,\"esp\":true,\"...\n",
       "Name: equipment_dict, dtype: object"
      ]
     },
     "execution_count": 78,
     "metadata": {},
     "output_type": "execute_result"
    }
   ],
   "source": [
    "df_test.equipment_dict.sample(5)"
   ]
  },
  {
   "cell_type": "code",
   "execution_count": 79,
   "metadata": {},
   "outputs": [],
   "source": [
    "# df_test.equipment_dict.apply(lambda x: json.loads(x) if x==x else x).sample(5)"
   ]
  },
  {
   "cell_type": "markdown",
   "metadata": {},
   "source": [
    "В колонке много пропусков (почти 29%), не пропущенные значения представляют собой текстово епредсьавление словаря с перечислением оснащения автомобиля. В рассмотрнеие моделью будет приняты те пункты оснащения, что будут пересекаться с пунктами оснащения обучающего набора данных."
   ]
  },
  {
   "cell_type": "markdown",
   "metadata": {},
   "source": [
    "### fuelType"
   ]
  },
  {
   "cell_type": "code",
   "execution_count": 80,
   "metadata": {},
   "outputs": [
    {
     "data": {
      "text/plain": [
       "array(['бензин', 'дизель', 'гибрид', 'электро', 'газ'], dtype=object)"
      ]
     },
     "execution_count": 80,
     "metadata": {},
     "output_type": "execute_result"
    }
   ],
   "source": [
    "df_test.fuelType.unique()"
   ]
  },
  {
   "cell_type": "markdown",
   "metadata": {},
   "source": [
    "Колонка содержит тип топлива. Принимается врассмотрнеи."
   ]
  },
  {
   "cell_type": "markdown",
   "metadata": {},
   "source": [
    "### image"
   ]
  },
  {
   "cell_type": "code",
   "execution_count": 81,
   "metadata": {},
   "outputs": [
    {
     "data": {
      "text/plain": [
       "8703     https://avatars.mds.yandex.net/get-autoru-vos/...\n",
       "8496     https://autoru.naydex.net/lICN99c69/9bc7d3Rr7k...\n",
       "14196    https://autoru.naydex.net/G87gDZg56/28c7a8vqVE...\n",
       "19311    https://autoru.naydex.net/LxPU17803/f5b8d77S/u...\n",
       "14351    https://autoru.naydex.net/LxPU17803/f5b8d77S/u...\n",
       "Name: image, dtype: object"
      ]
     },
     "execution_count": 81,
     "metadata": {},
     "output_type": "execute_result"
    }
   ],
   "source": [
    "df_test.image.sample(5)"
   ]
  },
  {
   "cell_type": "markdown",
   "metadata": {},
   "source": [
    "Колонка содержит ссылки на фото или аватар авто, исключается из рассмотрения."
   ]
  },
  {
   "cell_type": "markdown",
   "metadata": {},
   "source": [
    "### mileage"
   ]
  },
  {
   "cell_type": "code",
   "execution_count": 82,
   "metadata": {},
   "outputs": [
    {
     "data": {
      "text/plain": [
       "2050     163000\n",
       "31811    698000\n",
       "9119     207670\n",
       "13464    165000\n",
       "22507     64000\n",
       "Name: mileage, dtype: int64"
      ]
     },
     "execution_count": 82,
     "metadata": {},
     "output_type": "execute_result"
    }
   ],
   "source": [
    "df_test.mileage.sample(5)"
   ]
  },
  {
   "cell_type": "markdown",
   "metadata": {},
   "source": [
    "Колонка содержит пробег авто, принмается в рассмотрениею"
   ]
  },
  {
   "cell_type": "markdown",
   "metadata": {},
   "source": [
    "### modelDate"
   ]
  },
  {
   "cell_type": "code",
   "execution_count": 83,
   "metadata": {},
   "outputs": [
    {
     "data": {
      "text/plain": [
       "array([2013, 2017, 2008, 2009, 2016, 2012, 2015, 2010, 2006, 2000, 2007,\n",
       "       1994, 2004, 1999, 2005, 1976, 2001, 1969, 1996, 1998, 1989, 1934,\n",
       "       2014, 2011, 2018, 1986, 1997, 1990, 2019, 2002, 1991, 1987, 1980,\n",
       "       1982, 1938, 1988, 2003, 1983, 1978, 1979, 1984, 1992, 1995, 1993,\n",
       "       1985, 1974, 1966, 1977, 1981, 1972, 1968, 1975, 1949, 1937, 1936,\n",
       "       1973, 1959, 1958, 2020, 1965, 1971, 1904, 1963, 1955, 1951, 1960],\n",
       "      dtype=int64)"
      ]
     },
     "execution_count": 83,
     "metadata": {},
     "output_type": "execute_result"
    }
   ],
   "source": [
    "df_test.modelDate.unique()"
   ]
  },
  {
   "cell_type": "markdown",
   "metadata": {},
   "source": [
    "Колонка содержит год начала выпуска модели, принимется в рассмотрние."
   ]
  },
  {
   "cell_type": "markdown",
   "metadata": {},
   "source": [
    "### model_info"
   ]
  },
  {
   "cell_type": "code",
   "execution_count": 84,
   "metadata": {},
   "outputs": [
    {
     "data": {
      "text/plain": [
       "26959    {\"code\":\"CARISMA\",\"name\":\"Carisma\",\"ru_name\":\"...\n",
       "2671     {\"code\":\"A7\",\"name\":\"A7\",\"ru_name\":\"А7\",\"morph...\n",
       "31266    {\"code\":\"OCTAVIA\",\"name\":\"Octavia\",\"ru_name\":\"...\n",
       "21178    {\"code\":\"RAV_4\",\"name\":\"RAV4\",\"ru_name\":\"Рав4\"...\n",
       "28827    {\"code\":\"LANCER\",\"name\":\"Lancer\",\"ru_name\":\"Ла...\n",
       "Name: model_info, dtype: object"
      ]
     },
     "execution_count": 84,
     "metadata": {},
     "output_type": "execute_result"
    }
   ],
   "source": [
    "df_test.model_info.sample(5)"
   ]
  },
  {
   "cell_type": "markdown",
   "metadata": {},
   "source": [
    "Колонка содержит наименование модели в трех вариантах. Учитывая наличие `model_name` колонка исключается из рассмотрения"
   ]
  },
  {
   "cell_type": "markdown",
   "metadata": {},
   "source": [
    "### model_name"
   ]
  },
  {
   "cell_type": "code",
   "execution_count": 85,
   "metadata": {},
   "outputs": [
    {
     "data": {
      "text/plain": [
       "15072        G35\n",
       "13667    X_TRAIL\n",
       "6761         740\n",
       "11406       JUKE\n",
       "33952     PASSAT\n",
       "Name: model_name, dtype: object"
      ]
     },
     "execution_count": 85,
     "metadata": {},
     "output_type": "execute_result"
    }
   ],
   "source": [
    "df_test.model_name.sample(5)"
   ]
  },
  {
   "cell_type": "markdown",
   "metadata": {},
   "source": [
    "Наименование модели. Принимается к рассмотрению."
   ]
  },
  {
   "cell_type": "markdown",
   "metadata": {},
   "source": [
    "### name"
   ]
  },
  {
   "cell_type": "code",
   "execution_count": 86,
   "metadata": {},
   "outputs": [
    {
     "data": {
      "text/plain": [
       "28537                    2.4 AT (150 л.с.)\n",
       "32976                   2.5 CVT (182 л.с.)\n",
       "8314             35i 3.0 AT (306 л.с.) 4WD\n",
       "12665                4.8 AT (245 л.с.) 4WD\n",
       "9323     18d xDrive 2.0d AT (150 л.с.) 4WD\n",
       "Name: name, dtype: object"
      ]
     },
     "execution_count": 86,
     "metadata": {},
     "output_type": "execute_result"
    }
   ],
   "source": [
    "df_test.name.sample(5)"
   ]
  },
  {
   "cell_type": "markdown",
   "metadata": {},
   "source": [
    "Колонка содержит расширение названия модели, указывающее на обьем двигателя и тип привода. Поскольку эта информация уже получена из других колонок, эта в рассмотрнеие не принимается"
   ]
  },
  {
   "cell_type": "markdown",
   "metadata": {},
   "source": [
    "### numberOfDoors"
   ]
  },
  {
   "cell_type": "code",
   "execution_count": 87,
   "metadata": {},
   "outputs": [
    {
     "data": {
      "text/plain": [
       "array([5, 4, 2, 3, 0], dtype=int64)"
      ]
     },
     "execution_count": 87,
     "metadata": {},
     "output_type": "execute_result"
    }
   ],
   "source": [
    "df_test.numberOfDoors.unique()"
   ]
  },
  {
   "cell_type": "markdown",
   "metadata": {},
   "source": [
    "Колонка содержит числовое представление количества дверей, принимется в рассмотрение."
   ]
  },
  {
   "cell_type": "markdown",
   "metadata": {},
   "source": [
    "### parsing_unixtime"
   ]
  },
  {
   "cell_type": "markdown",
   "metadata": {},
   "source": [
    "Колонка судя по названию содержит время сбора информации в валидационный набор данных. Непосредственно для обученяи информация не нужна. Но время сбора поможет внести поправку на изменение коньюктуры(курс валюты и т.д.). \n",
    "Посмотрим на диапазон `parsing_unixtime`:"
   ]
  },
  {
   "cell_type": "code",
   "execution_count": 88,
   "metadata": {},
   "outputs": [],
   "source": [
    "# datetime.utcfromtimestamp(df_test.parsing_unixtime.min())"
   ]
  },
  {
   "cell_type": "code",
   "execution_count": 89,
   "metadata": {},
   "outputs": [],
   "source": [
    "# datetime.utcfromtimestamp(df_test.parsing_unixtime.max())"
   ]
  },
  {
   "cell_type": "code",
   "execution_count": 90,
   "metadata": {},
   "outputs": [
    {
     "data": {
      "text/plain": [
       "(datetime.date(2020, 10, 19), datetime.date(2020, 10, 26))"
      ]
     },
     "execution_count": 90,
     "metadata": {},
     "output_type": "execute_result"
    }
   ],
   "source": [
    "date.fromtimestamp(df_test.parsing_unixtime.min()),date.fromtimestamp(df_test.parsing_unixtime.max())"
   ]
  },
  {
   "cell_type": "markdown",
   "metadata": {},
   "source": [
    "Как видим парсинг произведен с 19 по 26 октября 20-го года"
   ]
  },
  {
   "cell_type": "markdown",
   "metadata": {},
   "source": [
    "### productionDate"
   ]
  },
  {
   "cell_type": "code",
   "execution_count": 91,
   "metadata": {},
   "outputs": [
    {
     "data": {
      "text/plain": [
       "array([2014, 2017, 2012, 2011, 2019, 2018, 2010, 2020, 2016, 2013, 2006,\n",
       "       2007, 2015, 2005, 2008, 2009, 1997, 2004, 2002, 1987, 2003, 2001,\n",
       "       1976, 2000, 1998, 1995, 1999, 1993, 1939, 1996, 1984, 1990, 1991,\n",
       "       1992, 1989, 1982, 1985, 1994, 1938, 1981, 1988, 1983, 1980, 1986,\n",
       "       1978, 1970, 1979, 1977, 1972, 1975, 1969, 1950, 1953, 1949, 1937,\n",
       "       1959, 1968, 1936, 1904, 1974, 1967, 1961, 1960, 1965, 1963, 1957,\n",
       "       1952, 1973, 1948], dtype=int64)"
      ]
     },
     "execution_count": 91,
     "metadata": {},
     "output_type": "execute_result"
    }
   ],
   "source": [
    "df_test.productionDate.unique()"
   ]
  },
  {
   "cell_type": "markdown",
   "metadata": {},
   "source": [
    "Год производства автомобиля ( наверное наряду с моделью автомобиля самы значимый признак). Принмается в рассмотрнеие."
   ]
  },
  {
   "cell_type": "markdown",
   "metadata": {},
   "source": [
    "### sell_id"
   ]
  },
  {
   "cell_type": "code",
   "execution_count": 92,
   "metadata": {},
   "outputs": [
    {
     "data": {
      "text/plain": [
       "'https://auto.ru/cars/used/sale/skoda/octavia/1100549428-595cadf2/'"
      ]
     },
     "execution_count": 92,
     "metadata": {},
     "output_type": "execute_result"
    }
   ],
   "source": [
    "df_test.car_url[1]"
   ]
  },
  {
   "cell_type": "code",
   "execution_count": 93,
   "metadata": {},
   "outputs": [
    {
     "data": {
      "text/plain": [
       "1100549428"
      ]
     },
     "execution_count": 93,
     "metadata": {},
     "output_type": "execute_result"
    }
   ],
   "source": [
    "df_test.sell_id[1]"
   ]
  },
  {
   "cell_type": "code",
   "execution_count": null,
   "metadata": {},
   "outputs": [],
   "source": []
  },
  {
   "cell_type": "code",
   "execution_count": 94,
   "metadata": {},
   "outputs": [
    {
     "data": {
      "text/plain": [
       "array([1100575026, 1100549428, 1100658222, ..., 1101364889, 1101362518,\n",
       "       1101256068], dtype=int64)"
      ]
     },
     "execution_count": 94,
     "metadata": {},
     "output_type": "execute_result"
    }
   ],
   "source": [
    "df_test.sell_id.unique()"
   ]
  },
  {
   "cell_type": "markdown",
   "metadata": {},
   "source": [
    "Колонка содержит ***id*** обьявления. Как непосредственный признак не интересен, в рассмотрение моделью не принимается. Но если предположить, что ***id*** отражает хронологический порядок появления обьявления, то, например, можно попробовать при \"тонкой настройке\" модели придать более новым обьявлениям больший вес при обучении."
   ]
  },
  {
   "cell_type": "markdown",
   "metadata": {},
   "source": [
    "### super_gen"
   ]
  },
  {
   "cell_type": "code",
   "execution_count": 95,
   "metadata": {},
   "outputs": [
    {
     "data": {
      "text/plain": [
       "'{\"id\":\"10373605\",\"displacement\":1197,\"engine_type\":\"GASOLINE\",\"gear_type\":\"FORWARD_CONTROL\",\"transmission\":\"ROBOT\",\"power\":105,\"power_kvt\":77,\"human_name\":\"1.2 AMT (105 л.с.)\",\"acceleration\":10.5,\"clearance_min\":155,\"fuel_rate\":5}'"
      ]
     },
     "execution_count": 95,
     "metadata": {},
     "output_type": "execute_result"
    }
   ],
   "source": [
    "df_test.super_gen[0]"
   ]
  },
  {
   "cell_type": "markdown",
   "metadata": {},
   "source": [
    "Колонка содержит ***id*** и параметры автомобиля, которые либо являются по сути атрибутами модели (у всех автомобилей одной модели одинаковый клиренс) либо уже известны нам из других колонок (например тип трансмиссии). В рассмотрнеи не принимается."
   ]
  },
  {
   "cell_type": "markdown",
   "metadata": {},
   "source": [
    "### vehicleConfiguration"
   ]
  },
  {
   "cell_type": "code",
   "execution_count": 96,
   "metadata": {},
   "outputs": [
    {
     "data": {
      "text/plain": [
       "10736            SEDAN MECHANICAL 2.0\n",
       "12373             SEDAN AUTOMATIC 2.4\n",
       "13321    ALLROAD_5_DOORS VARIATOR 2.0\n",
       "9439              SEDAN AUTOMATIC 3.0\n",
       "32993       COMPACTVAN MECHANICAL 2.2\n",
       "Name: vehicleConfiguration, dtype: object"
      ]
     },
     "execution_count": 96,
     "metadata": {},
     "output_type": "execute_result"
    }
   ],
   "source": [
    "df_test.vehicleConfiguration.sample(5)"
   ]
  },
  {
   "cell_type": "markdown",
   "metadata": {},
   "source": [
    "Содержит информацию о типе кузова, типе трансмиссии обьеме двигателя количестве дверей. Эта информация доступна в других колонках, поэтому `vehicleConfiguration` в рассмотрение не принимется "
   ]
  },
  {
   "cell_type": "markdown",
   "metadata": {},
   "source": [
    "### vehicleTransmission"
   ]
  },
  {
   "cell_type": "code",
   "execution_count": 97,
   "metadata": {},
   "outputs": [
    {
     "data": {
      "text/plain": [
       "array(['роботизированная', 'механическая', 'автоматическая', 'вариатор'],\n",
       "      dtype=object)"
      ]
     },
     "execution_count": 97,
     "metadata": {},
     "output_type": "execute_result"
    }
   ],
   "source": [
    "df_test.vehicleTransmission.unique()"
   ]
  },
  {
   "cell_type": "markdown",
   "metadata": {},
   "source": [
    "Колонка содержит в тестовом виде тип трансмиссии. Принимается в рассмотрение."
   ]
  },
  {
   "cell_type": "markdown",
   "metadata": {},
   "source": [
    "### vendor"
   ]
  },
  {
   "cell_type": "code",
   "execution_count": 98,
   "metadata": {},
   "outputs": [
    {
     "data": {
      "text/plain": [
       "array(['EUROPEAN', 'JAPANESE'], dtype=object)"
      ]
     },
     "execution_count": 98,
     "metadata": {},
     "output_type": "execute_result"
    }
   ],
   "source": [
    "df_test.vendor.unique()"
   ]
  },
  {
   "cell_type": "code",
   "execution_count": 99,
   "metadata": {},
   "outputs": [
    {
     "data": {
      "text/plain": [
       "vendor\n",
       "EUROPEAN      [SKODA, AUDI, VOLVO, BMW, MERCEDES, VOLKSWAGEN]\n",
       "JAPANESE    [HONDA, NISSAN, INFINITI, TOYOTA, LEXUS, MITSU...\n",
       "Name: brand, dtype: object"
      ]
     },
     "execution_count": 99,
     "metadata": {},
     "output_type": "execute_result"
    }
   ],
   "source": [
    "df_test.groupby('vendor').brand.unique()"
   ]
  },
  {
   "cell_type": "markdown",
   "metadata": {},
   "source": [
    "Как видим колонка содержит обобщающий признак - принадлежность марки к европейским либо японским. Как подсказывает опыт автовладельца динамика падения цены от срока владения у этих двух групп различается (японцы обычно дешевеют медленнее, особенно Toyota). Посчитаем признак полезным, примем в рассмотрение моделью."
   ]
  },
  {
   "cell_type": "markdown",
   "metadata": {},
   "source": [
    "### Владельцы"
   ]
  },
  {
   "cell_type": "code",
   "execution_count": 100,
   "metadata": {},
   "outputs": [
    {
     "data": {
      "text/plain": [
       "array(['3 или более', '1\\xa0владелец', '2\\xa0владельца'], dtype=object)"
      ]
     },
     "execution_count": 100,
     "metadata": {},
     "output_type": "execute_result"
    }
   ],
   "source": [
    "df_test.Владельцы.unique()"
   ]
  },
  {
   "cell_type": "markdown",
   "metadata": {},
   "source": [
    "Колонка содержит в текстовом виде три категории количества владельцев авто. Примем в рассмотрение"
   ]
  },
  {
   "cell_type": "markdown",
   "metadata": {},
   "source": [
    "### Владение"
   ]
  },
  {
   "cell_type": "code",
   "execution_count": 101,
   "metadata": {},
   "outputs": [
    {
     "data": {
      "text/plain": [
       "array([nan, '3 года и 2 месяца', '11 месяцев', '4 года и 1 месяц',\n",
       "       '2 года и 4 месяца', '1 месяц', '3 года и 10 месяцев',\n",
       "       '2 года и 6 месяцев', '6 лет и 4 месяца', '2 месяца', '4 месяца',\n",
       "       '1 год и 10 месяцев', '2 года и 7 месяцев', '7 лет и 11 месяцев',\n",
       "       '7 лет и 5 месяцев', '1 год и 11 месяцев', '2 года и 1 месяц',\n",
       "       '7 лет', '4 года и 2 месяца', '2 года и 8 месяцев'], dtype=object)"
      ]
     },
     "execution_count": 101,
     "metadata": {},
     "output_type": "execute_result"
    }
   ],
   "source": [
    "df_test.Владение.unique()[:20]"
   ]
  },
  {
   "cell_type": "markdown",
   "metadata": {},
   "source": [
    "Колонка содержит время прошедшее с момента выпуска авто. Очевидно линейно зависит о даты выпуска автомобиля - исключается из рассмотрения."
   ]
  },
  {
   "cell_type": "markdown",
   "metadata": {},
   "source": [
    "### ПТС"
   ]
  },
  {
   "cell_type": "code",
   "execution_count": 102,
   "metadata": {},
   "outputs": [
    {
     "data": {
      "text/plain": [
       "array(['Оригинал', 'Дубликат', nan], dtype=object)"
      ]
     },
     "execution_count": 102,
     "metadata": {},
     "output_type": "execute_result"
    }
   ],
   "source": [
    "df_test.ПТС.unique()"
   ]
  },
  {
   "cell_type": "markdown",
   "metadata": {},
   "source": [
    "Колонка содержит (если значение не nan) категорию ПТС. Принимается в рассмотрение."
   ]
  },
  {
   "cell_type": "markdown",
   "metadata": {},
   "source": [
    "### Привод"
   ]
  },
  {
   "cell_type": "code",
   "execution_count": 103,
   "metadata": {},
   "outputs": [
    {
     "data": {
      "text/plain": [
       "array(['передний', 'полный', 'задний'], dtype=object)"
      ]
     },
     "execution_count": 103,
     "metadata": {},
     "output_type": "execute_result"
    }
   ],
   "source": [
    "df_test.Привод.unique()"
   ]
  },
  {
   "cell_type": "markdown",
   "metadata": {},
   "source": [
    "Колонка содержит категорию привода. Принимается в расмотрние."
   ]
  },
  {
   "cell_type": "markdown",
   "metadata": {},
   "source": [
    "### Руль"
   ]
  },
  {
   "cell_type": "code",
   "execution_count": 104,
   "metadata": {},
   "outputs": [
    {
     "data": {
      "text/plain": [
       "array(['Левый', 'Правый'], dtype=object)"
      ]
     },
     "execution_count": 104,
     "metadata": {},
     "output_type": "execute_result"
    }
   ],
   "source": [
    "df_test.Руль.unique()"
   ]
  },
  {
   "cell_type": "markdown",
   "metadata": {},
   "source": [
    "Колонка содержит категрию право- или левосторонности управления . В рассмотрение.\n",
    " ## Колонки подлежащие рассмотрению моделью\n",
    "Итого из валидационного набора данных, содержащихся в `df_test` будем спользовать для построения модели информацию из следующих колонок:\n",
    "\n"
   ]
  },
  {
   "cell_type": "code",
   "execution_count": 105,
   "metadata": {},
   "outputs": [],
   "source": [
    "columns_to_handle = ['bodyType', 'brand', 'car_url', 'color', 'engineDisplacement', 'enginePower', \n",
    "                      'equipment_dict','fuelType', 'mileage', 'modelDate', 'model_name', 'numberOfDoors', \n",
    "                      'productionDate', 'sell_id', 'vehicleTransmission', 'vendor', \n",
    "                      'Владельцы', 'ПТС', 'Привод', 'Руль']\n",
    "useful_columns = ['parsing_unixtime']"
   ]
  },
  {
   "cell_type": "code",
   "execution_count": 106,
   "metadata": {},
   "outputs": [],
   "source": [
    "test = df_test[columns_to_handle]"
   ]
  },
  {
   "cell_type": "markdown",
   "metadata": {},
   "source": [
    "## РАЗРАБОТКА"
   ]
  },
  {
   "cell_type": "code",
   "execution_count": 107,
   "metadata": {},
   "outputs": [],
   "source": [
    "'''tmp = pd.read_csv(f'{path}all_marks.csv')\n",
    "tmp.columns =pd.Index(['bodyType', 'brand', 'car_url', 'color', 'engineDisplacement',\n",
    "       'enginePower', 'equipment_dict', 'fuelType', 'mileage', 'modelDate',\n",
    "       'model_name', 'numberOfDoors', 'productionDate', 'sell_id',\n",
    "       'vehicleTransmission', 'vendor', 'Владельцы', 'ПТС', 'Привод', 'Руль',\n",
    "       'offerprice'],\n",
    "      dtype='object')\n",
    "tmp.to_csv(f'{path}all_marks.csv',index=False)\n",
    "\n",
    "tmp = pd.read_csv(f'{path}extra_train.csv')\n",
    "tmp.columns =pd.Index(['bodyType', 'brand', 'car_url', 'color', 'engineDisplacement',\n",
    "       'enginePower', 'equipment_dict', 'fuelType', 'mileage', 'modelDate',\n",
    "       'model_name', 'numberOfDoors', 'productionDate', 'sell_id',\n",
    "       'vehicleTransmission', 'vendor', 'Владельцы', 'ПТС', 'Привод', 'Руль',\n",
    "       'offerprice'],\n",
    "      dtype='object')\n",
    "tmp.to_csv(f'{path}extra_train.csv',index=False)\n",
    "\n",
    "tmp = pd.read_csv(f'{path}train.csv')\n",
    "tmp.columns =pd.Index(['bodyType', 'brand', 'car_url', 'color', 'engineDisplacement',\n",
    "       'enginePower', 'equipment_dict', 'fuelType', 'mileage', 'modelDate',\n",
    "       'model_name', 'numberOfDoors', 'productionDate', 'sell_id',\n",
    "       'vehicleTransmission', 'vendor', 'Владельцы', 'ПТС', 'Привод', 'Руль',\n",
    "       'offerprice'],\n",
    "      dtype='object')\n",
    "tmp.to_csv(f'{path}train.csv',index=False)''';"
   ]
  },
  {
   "cell_type": "markdown",
   "metadata": {},
   "source": [
    "## ========================================="
   ]
  },
  {
   "cell_type": "markdown",
   "metadata": {},
   "source": [
    "## Унификация test и train"
   ]
  },
  {
   "cell_type": "code",
   "execution_count": 108,
   "metadata": {},
   "outputs": [],
   "source": [
    "train = pd.read_csv(f'{path}all_marks.csv')"
   ]
  },
  {
   "cell_type": "code",
   "execution_count": 109,
   "metadata": {},
   "outputs": [],
   "source": [
    "def categ_diff(column):\n",
    "    one = train[column]\n",
    "    another = test[column]\n",
    "    one_another = set(one.unique()) - set(another.unique())\n",
    "    another_one = set(another.unique()) - set(one.unique())\n",
    "    print(one_another)\n",
    "    print(another_one)\n",
    "    \n",
    "def categ_diff2(one,another):\n",
    "    one_another = set(one.unique()) - set(another.unique())\n",
    "    another_one = set(another.unique()) - set(one.unique())\n",
    "    print(one_another)\n",
    "    print(another_one)"
   ]
  },
  {
   "cell_type": "code",
   "execution_count": null,
   "metadata": {},
   "outputs": [],
   "source": []
  },
  {
   "cell_type": "code",
   "execution_count": 110,
   "metadata": {},
   "outputs": [
    {
     "name": "stdout",
     "output_type": "stream",
     "text": [
      "{nan, 'универсал 3 дв.', 'спидстер', 'хэтчбек 4 дв.'}\n",
      "set()\n"
     ]
    }
   ],
   "source": [
    "categ_diff('bodyType')"
   ]
  },
  {
   "cell_type": "code",
   "execution_count": 112,
   "metadata": {},
   "outputs": [
    {
     "name": "stdout",
     "output_type": "stream",
     "text": [
      "{nan, 'HEINKEL', 'FORD', 'ASTON MARTIN', 'ASIA', 'FIAT', 'DONGFENG', 'AMC', 'IRAN KHODRO', 'BORGWARD', 'SMART', 'MAZDA', 'ROLLS-ROYCE', 'SUBARU', 'ЛУАЗ', 'DS', 'MG', 'RENAULT', 'CADILLAC', 'BUICK', 'DODGE', 'MERCURY', 'LIFAN', 'RAM', 'ЗАЗ', 'DELAGE', 'BENTLEY', 'PORSCHE', 'ИЖ', 'TESLA', 'HAVAL', 'CHEVROLET', 'SEAT', 'DKW', 'EXCALIBUR', 'ADLER', 'KIA', 'SUZUKI', 'GEELY', 'OPEL', 'TATRA', 'DAEWOO', 'CHRYSLER', 'GREAT WALL', 'MERCEDES-BENZ', 'ГАЗ', 'МОСКВИЧ', 'УАЗ', 'AC', 'ALFA ROMEO', 'DATSUN', 'HAIMA', 'SATURN', 'ТАГАЗ', 'JAC', 'GAC', 'ROVER', 'PEUGEOT', 'ZOTYE', 'ЗИС', 'LAND ROVER', 'CHERY', 'LADA (ВАЗ)', 'DW HOWER', 'PLYMOUTH', 'TRIUMPH', 'LAMBORGHINI', 'HYUNDAI', 'BRILLIANCE', 'MINI', 'CHANGAN', 'TIANMA', 'JEEP', 'BRABUS', 'VORTEX', 'GMC', 'OLDSMOBILE', 'FERRARI', 'JAGUAR', 'MAHINDRA', 'EAGLE', 'ISUZU', 'LIGIER', 'ARIEL', 'LUXGEN', 'HUMMER', 'MASERATI', 'SAAB', 'SSANGYONG', 'AUBURN', 'ALPINA', 'HAFEI', 'MITSUOKA', 'CITROEN', 'HAWTAI', 'PROTON', 'LANCIA', 'LTI', 'FOTON', 'ГОНОЧНЫЙ АВТОМОБИЛЬ', 'DONINVEST', 'LINCOLN', 'ARO', 'BYD', 'ZX', 'GENESIS', 'MAYBACH', 'ЗИЛ', 'SCION', 'PONTIAC', 'MCLAREN', 'FAW', 'DAIHATSU', 'ACURA', 'DACIA', 'PACKARD', 'СМЗ', 'RAVON', 'SHANGHAI MAPLE', 'DERWAYS', 'WILLYS', 'DAIMLER'}\n",
      "{'MERCEDES'}\n"
     ]
    },
    {
     "data": {
      "text/plain": [
       "array(['SKODA', nan, 'AUDI', 'HONDA', 'VOLVO', 'BMW', 'NISSAN',\n",
       "       'INFINITI', 'MERCEDES', 'TOYOTA', 'LEXUS', 'VOLKSWAGEN',\n",
       "       'MITSUBISHI', 'AC', 'ACURA', 'ADLER', 'ALFA ROMEO', 'ALPINA',\n",
       "       'AMC', 'ARIEL', 'ARO', 'ASIA', 'ASTON MARTIN', 'AUBURN', 'BENTLEY',\n",
       "       'BORGWARD', 'BRABUS', 'BRILLIANCE', 'BUICK', 'BYD', 'CADILLAC',\n",
       "       'CHANGAN', 'CHERY', 'CHEVROLET', 'CHRYSLER', 'CITROEN', 'DACIA',\n",
       "       'DAEWOO', 'DAIHATSU', 'DAIMLER', 'DATSUN', 'DELAGE', 'DERWAYS',\n",
       "       'DKW', 'DODGE', 'DONGFENG', 'DONINVEST', 'DS', 'DW HOWER', 'EAGLE',\n",
       "       'EXCALIBUR', 'FAW', 'FERRARI', 'FIAT', 'FORD', 'FOTON', 'GAC',\n",
       "       'GEELY', 'GENESIS', 'GMC', 'GREAT WALL', 'HAFEI', 'HAIMA', 'HAVAL',\n",
       "       'HAWTAI', 'HEINKEL', 'HUMMER', 'HYUNDAI', 'IRAN KHODRO', 'ISUZU',\n",
       "       'JAC', 'JAGUAR', 'JEEP', 'KIA', 'LADA (ВАЗ)', 'LAMBORGHINI',\n",
       "       'LANCIA', 'LAND ROVER', 'LIFAN', 'LIGIER', 'LINCOLN', 'LTI',\n",
       "       'LUXGEN', 'MAHINDRA', 'MASERATI', 'MAYBACH', 'MAZDA', 'MCLAREN',\n",
       "       'MERCURY', 'MG', 'MINI', 'MITSUOKA', 'OLDSMOBILE', 'OPEL',\n",
       "       'PACKARD', 'PEUGEOT', 'PLYMOUTH', 'PONTIAC', 'PORSCHE', 'PROTON',\n",
       "       'RAM', 'RAVON', 'RENAULT', 'ROLLS-ROYCE', 'ROVER', 'SAAB',\n",
       "       'SATURN', 'SCION', 'SEAT', 'SHANGHAI MAPLE', 'SMART', 'SSANGYONG',\n",
       "       'SUBARU', 'SUZUKI', 'TATRA', 'TESLA', 'TIANMA', 'TRIUMPH',\n",
       "       'VORTEX', 'WILLYS', 'ZOTYE', 'ZX', 'ГАЗ', 'ГОНОЧНЫЙ АВТОМОБИЛЬ',\n",
       "       'ЗАЗ', 'ЗИЛ', 'ЗИС', 'ИЖ', 'ЛУАЗ', 'МОСКВИЧ', 'СМЗ', 'ТАГАЗ',\n",
       "       'УАЗ'], dtype=object)"
      ]
     },
     "execution_count": 112,
     "metadata": {},
     "output_type": "execute_result"
    }
   ],
   "source": [
    "categ_diff('brand')\n",
    "# заменить 'MERCEDES-BENZ' на 'MERCEDES'\n",
    "train.brand.apply(lambda x: 'MERCEDES' if x=='MERCEDES-BENZ' else x).unique()"
   ]
  },
  {
   "cell_type": "code",
   "execution_count": 113,
   "metadata": {},
   "outputs": [
    {
     "data": {
      "text/plain": [
       "'car_url'"
      ]
     },
     "execution_count": 113,
     "metadata": {},
     "output_type": "execute_result"
    }
   ],
   "source": [
    "'car_url'"
   ]
  },
  {
   "cell_type": "code",
   "execution_count": 114,
   "metadata": {},
   "outputs": [
    {
     "name": "stdout",
     "output_type": "stream",
     "text": [
      "{nan}\n",
      "set()\n"
     ]
    }
   ],
   "source": [
    "categ_diff('color')"
   ]
  },
  {
   "cell_type": "code",
   "execution_count": 115,
   "metadata": {},
   "outputs": [
    {
     "name": "stdout",
     "output_type": "stream",
     "text": [
      "{nan, 1.2, 1.6, 1.3, 1.4, 1.5, 2.0, 1.8, 1.9, 3.6, 2.8, 2.3, 3.3, 2.5, 6.0, 6.3, 3.0, 3.5, 4.0, 4.1, 4.4, 4.9, 0.6, 5.9, 5.0, 5.4, 4.6, 5.6, 6.6, 1.0, 5.5, 6.4, 6.5, 7.0, 7.4, 1.1, 6.1, 0.5, 8.2, 8.0, 2.6, 2.1, 3.1, 0.7, 0.2, 1.7, 2.2, 2.7, 3.2, 3.7, 3.8, 0.8, 4.2, 4.8, 4.7, 4.3, 5.2, 5.8, 5.7, 5.3, 6.2, 6.8, 7.3, 7.7, 0.9, 4.5, 2.4, 2.9, 0.4, 3.4, 3.9}\n",
      "{'1.0 LTR', '1.1 LTR', '5.6 LTR', '2.1 LTR', '2.9 LTR', '4.3 LTR', '1.8 LTR', '4.9 LTR', '4.7 LTR', '1.2 LTR', '5.3 LTR', '1.3 LTR', '4.0 LTR', '1.5 LTR', '6.3 LTR', '4.4 LTR', ' LTR', '2.5 LTR', '5.9 LTR', '3.5 LTR', '6.6 LTR', '1.6 LTR', '2.6 LTR', '3.0 LTR', '4.6 LTR', '3.7 LTR', '4.1 LTR', '3.1 LTR', '6.0 LTR', '3.9 LTR', '5.4 LTR', '2.0 LTR', '3.2 LTR', '5.2 LTR', '0.7 LTR', '3.6 LTR', '4.5 LTR', '6.2 LTR', '1.4 LTR', '1.7 LTR', '3.4 LTR', '2.7 LTR', '2.4 LTR', '5.5 LTR', '4.2 LTR', '4.8 LTR', '5.7 LTR', '2.3 LTR', '3.3 LTR', '2.8 LTR', '5.0 LTR', '3.8 LTR', '5.8 LTR', '1.9 LTR', '2.2 LTR'}\n"
     ]
    }
   ],
   "source": [
    "categ_diff('engineDisplacement')\n",
    "# LTR"
   ]
  },
  {
   "cell_type": "code",
   "execution_count": 122,
   "metadata": {},
   "outputs": [
    {
     "data": {
      "text/plain": [
       "array(['1.2', '1.6', '1.8', '2.0', '1.4', '1.3', '1.0', '3.6', '1.5',\n",
       "       '1.9', '2.8', '1.1', '2.5', '4.2', '3.0', '4.0', '5.9', '2.7',\n",
       "       '3.1', '2.4', '5.2', '3.2', '4.1', '6.3', '2.3', '6.0', '2.2',\n",
       "       '3.7', '2.9', '5.0', '3.3', '2.1', '2.6', '', '3.5', '1.7', '0.7',\n",
       "       '4.4', '4.8', '5.4', '6.6', '4.9', '3.8', '3.4', '3.9', '4.6',\n",
       "       '5.6', '4.5', '5.5', '6.2', '4.7', '4.3', '5.8', '5.3', '5.7'],\n",
       "      dtype=object)"
      ]
     },
     "execution_count": 122,
     "metadata": {},
     "output_type": "execute_result"
    }
   ],
   "source": [
    "test.engineDisplacement.str[:-4].unique()"
   ]
  },
  {
   "cell_type": "code",
   "execution_count": 128,
   "metadata": {},
   "outputs": [
    {
     "data": {
      "text/plain": [
       "array(['105', '110', '152', '200', '102', '150', '90', '180', '220',\n",
       "       '122', '70', '140', '125', '54', '86', '75', '64', '95', '260',\n",
       "       '170', '80', '68', '160', '115', '280', '53', '60', '143', '42',\n",
       "       '101', '58', '193', '79', '30', '100', '50', '163', '225', '420',\n",
       "       '211', '245', '560', '500', '249', '450', '605', '250', '354',\n",
       "       '120', '290', '230', '350', '204', '255', '340', '177', '272',\n",
       "       '372', '210', '130', '300', '190', '239', '435', '333', '271',\n",
       "       '326', '238', '310', '233', '252', '133', '460', '520', '400',\n",
       "       '525', '367', '265', '550', '580', '88', '165', '430', '335',\n",
       "       '174', '224', '136', '256', '338', '112', '218', '360', '93',\n",
       "       '182', '113', '240', '270', '137', '155', '61', '254', '116', '71',\n",
       "       '285', '408', '166', '156', '257', '201', '162', '194', '142',\n",
       "       '154', '147', '281', '243', '118', '128', '91', '83', '205', '247',\n",
       "       '188', '295', '275', '78', '109', '94', '185', '258', '145', '132',\n",
       "       '135', '52', '66', '124', '98', '215', '158', '99', '103', '131',\n",
       "       '126', '235', '181', '315', '203', '231', '82', '304', '175',\n",
       "       '320', '213', '144', '146', '151', '111', '286', '306', '107',\n",
       "       '184', '313', '264', '575', '407', '192', '129', '555', '625',\n",
       "       '329', '370', '381', '269', '600', '510', '544', '462', '355',\n",
       "       '507', '609', '431', '530', '387', '610', '197', '343', '445',\n",
       "       '171', '51', '46', '347', '321', '167', '141', '169', '405', '117',\n",
       "       '114', '173', '234', '540', '106', '49', '248', '317', '309', '97',\n",
       "       '121', '268', '149', '87', '85', '65', '67', '127', '485', '186',\n",
       "       '222', '307', '262', '302', '284', '325', '168', '221', '330',\n",
       "       '283', '328', '303', '278', '388', '571', '585', '612', '401',\n",
       "       '279', '455', '382', '557', '517', '394', '422', '292', '469',\n",
       "       '522', '296', '639', '390', '476', '630', '402', '487', '558',\n",
       "       '421', '316', '514', '457', '626', '242', '38', '32', '223', '72',\n",
       "       '305', '183', '273', '159', '76', '148', '179', '73', '277', '282',\n",
       "       '178', '288', '199', '266', '92', '74', '324', '232', '157', '69',\n",
       "       '212', '276', '202', '77', '164', '96', '84', '228', '108', '208',\n",
       "       '263', '294', '318', '380', '219', '214', '383', '241', '57', '55',\n",
       "       '104', '48', '40', '44', '227', '139', '209', '195', '189', '480',\n",
       "       '591', '301'], dtype=object)"
      ]
     },
     "execution_count": 128,
     "metadata": {},
     "output_type": "execute_result"
    }
   ],
   "source": [
    "# categ_diff('enginePower')\n",
    "test.enginePower.str[:-4].unique()"
   ]
  },
  {
   "cell_type": "code",
   "execution_count": null,
   "metadata": {},
   "outputs": [],
   "source": [
    "'equipment_dict'"
   ]
  },
  {
   "cell_type": "code",
   "execution_count": 129,
   "metadata": {},
   "outputs": [
    {
     "name": "stdout",
     "output_type": "stream",
     "text": [
      "{nan, 'Бензин', 'Газ', 'Газ, газобаллонное оборудование', 'Гибрид', 'Дизель, газобаллонное оборудование', 'Дизель', 'Бензин, газобаллонное оборудование', 'Гибрид, газобаллонное оборудование'}\n",
      "{'газ', 'дизель', 'бензин', 'гибрид', 'электро'}\n"
     ]
    }
   ],
   "source": [
    "categ_diff('fuelType')"
   ]
  },
  {
   "cell_type": "code",
   "execution_count": 124,
   "metadata": {},
   "outputs": [],
   "source": [
    "'mileage'\n",
    "# привести к типу int в train\n",
    "train.mileage = train.mileage.apply(lambda x: int(x) if x==x else 0)"
   ]
  },
  {
   "cell_type": "code",
   "execution_count": null,
   "metadata": {},
   "outputs": [],
   "source": [
    "'modelDate'\n",
    "# привести к дате выпуска в train"
   ]
  },
  {
   "cell_type": "code",
   "execution_count": 86,
   "metadata": {},
   "outputs": [
    {
     "name": "stdout",
     "output_type": "stream",
     "text": [
      "{nan, 'VELOSTER', 'H5', 'SPRINTER TRUENO', 'XANTIA', 'COROLLA II', 'QQ6 (S21)', 'MYWAY', 'FLORID', 'W110', 'CORDA', 'I20', 'BIGHORN', 'TIGGO 5', 'FORA (A21)', 'S-TYPE', 'MODEL T', '800', '612', 'PAJERO SPORT', '2102', 'ZAFIRA LIFE', 'PICANTO', 'TERRACAN', '9-3', 'C5 AIRCROSS', 'SHUMA', 'GOLF PLUS', 'GRACE', 'MALIBU', 'ZR', 'SAVANA', 'V40 CROSS COUNTRY', '308', 'LATITUDE', 'MARSHAL', 'TOWN ACE', 'RAPIDE', 'STREETWISE', 'X-КЛАСС', 'GRAND VITARA', 'М-72', '812', 'LC', '9000', 'CX-9', 'GTC4LUSSO', '911', 'CROWN MAJESTA', 'MONTERO SPORT', 'KADETT', 'COROLLA VERSO', 'HOVER H5', 'XL7', '401', 'GLE', 'CIRRUS', '967', 'LESABRE', 'GTV', 'FOCUS', 'ELDORADO', 'EK WAGON', 'SUPER SIX', 'COMBO', 'GRAND TIGER', 'TACOMA', 'ENVOY', 'M1 (BS6)', 'VEGA', 'B-SERIES', 'MUSSO', 'COWRY (V80)', 'SIERRA', 'SONATA', 'BLUEBIRD SYLPHY', 'BEAT', 'MEGA CRUISER', 'KA', 'DELTA', 'MARK X ZIO', 'FOCUS (NORTH AMERICA)', 'H-1', 'PROBE', 'VUE', 'FF', 'GLE AMG', 'СВЯТОГОР', 'INTREPID', 'RODEO', 'SAMAND', 'ILX', 'ROADSTER', '8C COMPETIZIONE', '3162 SIMBIR', 'KIZASHI', 'KYRON', 'COMS', 'POLO GTI', '360', 'TOURNEO CONNECT', 'LEON', 'SPORTAGE', 'TUCSON', 'GHOST', 'TAURUS', 'SPEEDSTER', 'TIVOLI', 'CARAVAN', '405', 'SANTAMO', '3008', 'BROOKLANDS', 'SUNFIRE', 'ESTINA', 'BRAVO', '166', '2113', 'IMPREZA WRX', 'VOYAGER', 'VILLAGER', 'SEPHIA', 'AVENTADOR', 'SPITFIRE', 'B-КЛАСС', '2114', '488', 'F-PACE', 'FLUENCE', 'FORTWO', '207', 'COROLLA RUMION', 'RAV4', 'CAPRICE', 'DELICA D:5', '2 СЕРИИ ACTIVE TOURER', 'RENDEZVOUS', 'CLK-КЛАСС', 'EMGRAND EC7', 'RAY', '599', 'DEMIO', 'GLC COUPE AMG', 'INDIS (S18D)', 'TIGRA', 'SELTOS', 'XKR', 'PRIDE', 'WRX', 'CAMARO', 'DEVILLE', '928', 'MI-DO', 'SILHOUETTE', 'SLR MCLAREN', '406', '2000 C/CS', 'EMGRAND X7', 'X60', 'X70', 'STEALTH', 'COPEN', 'BT-50', 'MKC', 'CORNICHE', 'PUMA', 'BOLT', 'LAVILLE', 'KORANDO SPORTS', 'NAVARA (FRONTIER)', '240 SERIES', 'ATRAI', 'X50', 'HUNTER', 'C3', 'RANGE ROVER EVOQUE', '301', 'V60 CROSS COUNTRY', 'VENGA', 'YRV', '400', 'VECTRA', 'T613', 'TALON', 'AVANTIME', '101', 'VOLT', 'C190', 'HR-V', 'SOUL', 'TINGO', 'H30 CROSS', 'FLAIR', 'ARNAGE', 'ECOSPORT', 'CAYMAN GT4', '25', 'TAGER', 'PT CRUISER', 'INSIGNIA OPC', 'LUXGEN7 SUV', 'TYP 154', 'SCENIC', 'R-КЛАСС', '600LT', 'JOURNEY', 'VEL SATIS', 'ACTYON SPORTS', 'SLK-КЛАСС AMG', '3160', 'AURORA', 'SALADIN', 'PANDA', 'RX-8', 'CS55', 'PRIUS V (+)', 'XA', 'MOBILIO SPIKE', 'OCTAVIA RS', 'TIGGO 4', 'COROLLA SPACIO', 'SEDONA', '3151', 'BRONCO', 'ZT', 'XEDOS 6', 'FORFOUR', 'CHALLENGER', 'LACROSSE', 'VIBE', '469', 'TRAJET', 'N-BOX', 'ARRIZO 7', 'ZDX', 'LANCER RALLIART', 'XFR', 'F7', 'I-MIEV', 'TOURNEO CUSTOM', 'FRONTERA', 'V5', 'QASHQAI+2', 'FOCUS ST', 'HOVER M4', 'VERNA', 'ATS', 'REKORD', 'TUSCANI', 'BLAZER K5', '2115', 'HILUX SURF', 'PUNTO', 'VERACRUZ', '407', 'RENEGADE', 'C-ELYSEE', '616', 'ORLANDO', 'EPICA', 'Q3 SPORTBACK', 'ФОРМУЛА', 'F430', '911 GT3', 'AGILA', 'MARK II', '2120 НАДЕЖДА', 'H3', 'CALIBER', '600', '1302 ВОЛЫНЬ', 'C-HR', 'BERLINGO', 'CARNIVAL', 'OUTBACK', 'WAGON R+', 'MEGANE RS', 'CR-Z', 'TICO', 'GC6', 'PERI', 'NEXIA', 'BESTURN X40', 'CROWN VICTORIA', 'SILVER SERAPH', 'THESIS', 'BRERA', '9-5', 'HUSTLER', 'MARK X', 'FUSION', 'TRAVIQ', 'GHIBLI', 'AVENSIS VERSO', '31029 «ВОЛГА»', 'DAKOTA', '2008', 'PRIORA', 'WAGON R', '500', 'AMG GT', 'PORTOFINO', 'RS 3', 'CRUZE', 'SV12', 'BONUS (A13)', 'SANDERO', '8 СЕРИИ', 'LOGAN', 'CLIO', '21261 «ФАБУЛА»', '3=6', '107', 'GT-R', 'SIRION', 'DAMAS', 'LE-SEYDE', 'CONTINENTAL GT', 'E-TRON', 'PACEMAN', 'SILVER WRAITH', 'SWIFT', 'C-КЛАСС AMG', '75', 'CORVETTE', 'U7 TURBO', 'ESCORT', 'A-КЛАСС AMG', 'CENTURY', 'SLK-КЛАСС', 'GETZ', 'BONUS 3 (E3/A19)', 'LASER', 'DISCOVERY', 'XT4', 'I30 N', 'KAPTUR', 'SAILOR', 'AVENGER', 'FLYING SPUR', 'SPRINTER CARIB', 'VIVA', '96', 'V8 VANTAGE', 'SAUVANA', 'CHEROKEE', 'CUTLASS SUPREME', 'WINDSTAR', 'MONTEREY', 'GLE COUPE', 'LODGY', 'X6 M', 'С-3Д', 'C4', 'MAGNUS', 'ELANTRA', 'MURMAN (820)', '7', 'ESPACE', 'CX-7', 'ALMERA CLASSIC', 'H6', 'S1 (REIN)', 'CROSSEASTAR (B14)', '2000', 'ODYSSEY (NORTH AMERICA)', 'C2', '220 (W187)', 'MODEL Y', 'MACAN', '1103 «СЛАВУТА»', 'COO', 'RANGER', 'X-TRAIL', 'FIESTA ST', 'ROCKY', 'MKT', '4 СЕРИИ', 'MK CROSS', 'REXTON', 'AMULET (A15)', 'PALISADE', 'R4', 'SC7', 'MOVE', 'RSX', 'E-PACE', 'GLE COUPE AMG', 'ILTIS', 'SPRINTER MARINO', 'HOVER H6', 'CONTINENTAL FLYING SPUR', 'CAMRY SOLARA', 'BLAZER', 'AVANTE', 'CL-КЛАСС AMG', 'TLX', 'STAVIC', 'DURANGO', 'BRIO', 'HURACÁN', 'F-TYPE', 'CORDOBA', 'C81', 'G-КЛАСС', 'C-CROSSER', 'KIMO (A1)', 'ARKANA', 'LANTIS', 'LARGUS', 'A4 ALLROAD', 'RAM', 'BONGO FRIENDEE', 'PATRIOT', 'SIMBO', 'NEXIA R3', 'SL', 'RCZ', 'AVEO', '2330 «ТИГР»', 'IX35', 'SENS', 'ALBEA', 'BONGO', '3 MPS', 'VITARA', 'XT6', 'CUORE', 'NEON', 'CT6', 'LAND CRUISER', '806', 'TRAFIC', '21 «ВОЛГА»', '57', 'KALINA', 'BRAVA', 'MODEL A', 'SUBURBAN', 'MAGNUM', 'LEBARON', 'A-КЛАСС', 'SPARK', '2103', '2140', 'TYPE 1', '62', '105, 120', 'LIBERTY (PATRIOT)', 'SCUDO', 'TOWN & COUNTRY', 'EVASION', 'CX-5', 'CORSA OPC', 'AXELA', 'CAYMAN', 'ULYSSE', 'EXCURSION', 'S-КЛАСС AMG', '110', 'C3 PICASSO', 'ESCALADE', 'EL LADA', 'MAVERICK', '607', 'XJ', '1102 «ТАВРИЯ»', '02 (E10)', 'SPECIAL', 'PASSAT CC', 'JIMMY', 'ГАЗ 67', '19', 'V-КЛАСС', 'VEHICROSS', 'XSARA', 'HOVER', 'TRAILBLAZER', 'MAGENTIS', 'PASSPORT', 'GIULIETTA', 'OPIRUS', 'WRAITH', 'I40', 'DS5', 'XE', 'GLS AMG', '2107', 'COBRA', 'S-MAX', 'BEL AIR', 'ROAD PARTNER', 'VECTRA OPC', '206', 'PRIZM', '145', 'LUMINA', 'BRONCO-II', '21', 'STRATUS', 'CRETA', 'H200', 'CHARGER', 'K5', 'JIMNY', 'CIVIC FERIO', 'CTS', '69', 'MODEL X', 'RODIUS', 'XSARA PICASSO', 'LEGACY', 'MIRA E:S', 'EVANDA', 'GRANTA', 'K900', 'AEROSTAR', 'PROWLER', 'FREEMONT', 'PAJERO JUNIOR', 'S30', '458', 'GT', '929', 'RANGE ROVER', 'М-20 «ПОБЕДА»', 'DBX', 'HIJET', 'COROLLA LEVIN', 'ALTO', 'C1', 'XG', 'HHR', 'TL', 'EXPRESS', 'WINGLE', 'PROCEED', 'CAROL', 'B7', 'GENESIS', 'JUKE NISMO', 'SOLANO', '4007', '2 СЕРИИ', 'EIGHTY-EIGHT', 'TRIBECA', '2', 'DELICA D:2', 'ACCENT', '965', 'LIBERTY (NORTH AMERICA)', '323', '969', 'LANDY', 'COUNTRYMAN', 'SL-КЛАСС AMG', 'XK', 'CS35', 'EMGRAND 7', 'S-КЛАСС', 'H9', 'SPACE RUNNER', 'DISCOVERY SPORT', 'ASTRO', '508', 'NIVA', '3110 «ВОЛГА»', 'RANGE ROVER VELAR', 'X4 M', 'IX55', 'BREEZ (520)', 'GLC', 'DEFENDER', 'M8', 'MULSANNE', '5008', 'OPTIMA', 'MAYBACH S-КЛАСС', 'FJ CRUISER', 'GEMINI', 'C-MAX', 'LANCER EVOLUTION', 'ESCUDO', 'KUGA', '300C', '944', 'CLUBMAN', 'PAJERO MINI', 'XT5', 'SPACE WAGON', 'ESTEEM', 'MYSTIQUE', 'C-КЛАСС', 'S-10 PICKUP', 'WRANGLER', 'JS 51', 'C10', 'CARINA E', 'KORANDO TURISMO', 'GENTRA', 'CRUZE (HR)', 'C5', 'TAHOE', '190 SL', 'H1', 'CERATO', 'RL', 'ALHAMBRA', 'ATOS', 'FR-V', '968', 'VOLTZ', 'EL CAMINO', 'SPACETOURER', '2126 «ОДА»', 'XCEED', 'CULLINAN', '3102 «ВОЛГА»', '3', 'W115', 'KORANDO', '426', 'RETONA', 'SEDICI', 'GLS', 'LAND CRUISER PRADO', 'BONNEVILLE', 'PHANTOM', 'ECONOLINE', 'PARISIENNE', 'BENTAYGA', 'NITRO', '5', 'BOXSTER', 'IBIZA', 'SIGNUM', 'PREMACY', 'GRANDEUR', 'MPV', '3153', 'TIGGO 8', 'LINEA', '356', 'GRAND AM', 'X5 M', 'PALIO', 'C4 PICASSO', 'PAJERO IO', 'F', 'SONG EV', 'EXPLORER SPORT TRAC', 'RS 7', 'EADO', 'SPACE STAR', 'V12 VANTAGE', 'TEMPRA', 'GOLF R32', 'TERIOS', 'ROCSTA', 'KAPPA', 'TWINGO', 'PRIUS ALPHA', 'CTS-V', 'MUSTANG', 'SAFE', 'CLS', 'COMPASS', 'COBALT', '156', '2101', 'MOHAVE', 'PEGASUS', 'SOLIO', 'CLIPPER RIO', 'VIVARO', 'GLC COUPE', '310221 «ВОЛГА»', 'C4 AIRCROSS', 'DB7', 'SERIES V', 'TAUNUS', 'LUMINA APV', 'PANAMERA', 'GALAXY', 'SWEET (QQ)', 'IMPREZA WRX STI', 'M11 (A3)', 'TIBURON', 'CABRIO', 'ASTRA', '412', 'FAIRLADY Z', 'COOLRAY', 'STINGER', \"R'NESSA\", 'SANTA FE', 'E-КЛАСС', 'AVIATOR', 'PONY', 'GOLF GTI', 'G70', 'JOICE', '2121 (4X4)', '6 MPS', '14 «ЧАЙКА»', '147', 'SABLE', 'G80', '159', 'NAUTILUS', 'KANGOO', 'AX7', 'A6 ALLROAD', 'MODEL S', 'EVERY', 'F3', 'TRACKER', 'CR-V', 'DOBLO', 'PROACE', 'GRAND HIACE', 'PERSONA', 'H530', 'SX4', '7 СЕРИИ', 'RX-7', '306', 'CUSTOM', 'LITE ACE', 'SOUL EV', 'FC (VISION)', 'PICKUP', 'EQUINOX', 'HATCH', 'NUBIRA', 'LHS', 'CLC-КЛАСС', 'MONDEO ST', 'FREELANDER', 'MX-3', 'AQUILA', 'M-КЛАСС AMG', 'D-MAX', '190 (W201)', 'CEED', 'CORONA EXIV', '6', '1500', '1 СЕРИИ', 'SPACE GEAR', 'LAVITA', 'DART', 'EQUUS', '45', '4008', 'NEW YORKER', 'FARGO', 'QUORIS', 'MX-5', 'TSX', '1111 ОКА', 'ECLIPSE CROSS', 'CLIO RS', 'MERIVA', 'LANTRA', 'XV', 'SRX', 'ALERO', 'ZEPHYR', 'LANOS', '21099', 'MOKKA', 'F12BERLINETTA', 'MK', 'DEER', 'BESTURN X80', 'TOLEDO', 'ZAFIRA', 'VERY (A13)', 'TIGGO 2', 'IGNIS', 'MONTE CARLO', 'BREEZE', 'VITA', 'TX', 'IONIQ', 'TIGGO (T11)', 'BLS', 'M-КЛАСС', 'CAYENNE', '403', 'MATIZ', '605', 'SLS AMG', 'X-90', 'TRUMPF JUNIOR', 'SAMURAI', '24 «ВОЛГА»', 'PYZAR', 'JINN', 'ORION', '3 СЕРИИ', 'FIESTA', 'STEPWGN', 'DUSTER', 'TANK', 'EXIGA', 'B3', 'V3', 'CONTOUR', '2131 (4X4)', '2108', 'CLARUS', '2112', 'TROOPER', 'BALENO', 'GRAND STAREX', '5 СЕРИИ', '2106', '966', 'B6', 'GOLF COUNTRY', 'GALLARDO', 'STELLA', 'INSIGNIA', '20', '121', 'GLA AMG', 'RS 6', 'CARENS', 'TIPO', 'G90', 'MB', 'LACETTI', '2125 «КОМБИ»', 'REZZO', '2110', 'MAREA', '2111', 'OLYMPIA', 'LANDMARK', 'AVALANCHE', 'GLC AMG', 'TRIBUTE', 'FORESTER', 'TURBO R', 'ANTARA', 'VAN', 'SEBRING', 'RIO', 'FLEETWOOD', 'SEVILLE', 'ADMIRAL', 'METRIS', 'LAGUNA', 'TRANSIT CONNECT', 'DELUXE', 'GENESIS COUPE', 'COUGAR', '1200', 'TIGGO 3', 'PROCEED MARVIE', 'TRANS SPORT', 'TC', 'F7X', 'CAPELLA', 'CLS AMG', 'EXPEDITION', 'I30', 'GALLOPER', 'SARATOGA', 'VESTA', 'XB', 'SMILY', '208', 'IMPREZA', 'BIANTE', 'C8', 'GOLF R', 'CROSSFIRE', 'MAYBACH GLS', 'FAMILIA', 'BESTURN B50', 'QUATTROPORTE', 'CLA AMG', 'GIULIA', 'MILLENIA', 'EDGE', 'STARCRAFT', 'RANGER (NORTH AMERICA)', 'CONTINENTAL', 'OLEY', '911 GT2', 'MDX', 'M2 (BS4)', 'МОСКВИЧ-412', 'XTERRA', 'DELTA WAGON', 'RDX', 'XF', 'H2', 'DOKKER', 'CK (OTAKA)', 'RANGE ROVER SPORT', 'G', 'MGB', '300M', 'D6', 'CR-X', 'LEVANTE', 'S5 (EAGLE)', 'PLEO PLUS', 'COMMANDER', 'GRANTURISMO', 'STILO', 'E-КЛАСС AMG', '2329', 'CORSICA', 'LEVORG', '12 ЗИМ', '146', 'PAJERO PININ', 'HOVER H3', 'RS 5', '408', 'MODUS', '924', 'GLB', 'GRANADA', 'CHANCE', 'MONDEO', 'FORTE', '24 АРО', 'EXPLORER', 'WINSTORM', 'SPLASH', 'SYMBOL', 'DS4', 'PACIFICA', 'XEDOS 9', '900', 'FULLBACK', '114', 'SILVERADO', 'WIZARD', 'ESPERO', 'X-TYPE', 'CL-КЛАСС', 'SPECTRA', 'GS5', 'PROTEGE', 'CLA', 'TRAVERSE', 'CEBRIUM (720)', 'ACTYON', 'X350', 'LIANA', 'PRINCIP', 'GL-КЛАСС', 'TOWN CAR', 'STAREX', 'CIVIC TYPE R', 'XM', 'JUMPY', 'SORENTO', 'MONTANA', 'DS3', '626', 'LM002', 'XRAY', '2141', 'GV80', '2 СЕРИИ GRAN TOURER', '307', '350', 'ON-DO', 'F-150', 'R2', 'N-WGN', 'VIDA', 'ARIES', 'GRAND CHEROKEE', '31105 «ВОЛГА»', '2105', 'YUKON', 'GL-КЛАСС AMG', 'TF', 'SINTRA', 'PRIMASTAR', 'EQC', 'KOLEOS', 'CONCORDE', 'V90 CROSS COUNTRY', 'OMEGA', 'E6', '2104', 'KONDOR', 'MIRA', 'RS Q3', 'CAYENNE COUPE', 'AVELLA', 'CAPTIVA', '3159', '2136', 'COMMODORE', 'SL-КЛАСС', 'DS', '2137', 'TALISMAN', 'ACCLAIM', 'WC SERIES', 'STS', 'CEED GT', 'ALTEA', 'AERIO', 'CELLIYA (530)', 'FIREBIRD', '4104', 'SCORPIO', 'CALIBRA', '1007', 'MODEL 3', 'Z3 M', '13 «ЧАЙКА»', 'TAYCAN', 'LEGANZA', 'DB9', 'TRAVELLER', 'G-КЛАСС AMG', '2129', 'BROUGHAM', 'MGA', 'GLK-КЛАСС', 'EAGLE', 'MEGANE', 'VOLGA SIBER', 'MONZA', 'RS 4', '6 СЕРИИ', 'MURCIELAGO', 'ISTANA', 'GLA', 'FABIA RS', 'CS75', 'PRONARD', 'ESCAPE', 'T600', 'TYPE 2', 'AXIOM', 'PIXIS VAN', '2109', '3111 «ВОЛГА»', 'ALMERA TINO', 'D60', '22 «ВОЛГА»', 'NAVIGATOR', 'ATOM', 'SOLARIS'}\n",
      "{'ODYSSEY_NA', 'YARIS_VERSO', '120', 'A4_ALLROAD', 'GLC_KLASSE_AMG', 'GOLF_GTI', 'PAJERO_PININ', 'DELICA_D2', 'M_KLASSE_AMG', 'SPRINTER_MARINO', 'TERRANO_REGULUS', 'N_BOX', 'RS7', 'WILL_CYPHA', 'G_KLASSE_AMG', 'CLA_KLASSE_AMG', 'LAFESTA', 'C_KLASSE', '2ACTIVETOURER', '240_SERIES', 'V40_CC', 'V90_CROSS_COUNTRY', 'LAND_CRUISER', 'GL_KLASSE_AMG', 'E3', '100_SERIES', 'V60_CROSS_COUNTRY', 'TTS', 'A_KLASSE_AMG', 'COROLLA_SPACIO', 'DELICA_D_5', 'W201', 'QUEST', 'VIGOR', '200SX', 'RIDGELINE', 'AYGO', 'CL_KLASSE', 'KIX', 'MR_S', 'CAMRY_SOLARA', 'GLB_KLASSE', 'URVAN', 'S60_CROSS_COUNTRY', '100NX', '140', 'LANCER_RALLIART', 'CROWN_MAJESTA', 'PAJERO_SPORT', 'GOLF_R', 'VEZEL', 'Z3M', 'SLK_KLASSE', 'LITE_ACE', 'V_KLASSE', 'PAJERO_MINI', 'A2', 'EK_WAGON', '3ER', 'MINICAB', 'X4_M', 'GLC_COUPE', 'I_MIEV', 'POLO_GTI', 'RSQ3', 'GOLF_R32', 'PASSAT_CC', 'SPACE_RUNNER', 'S_CLASS_MAYBACH', 'SLR_KLASSE', 'CL_KLASSE_AMG', 'RNESSA', 'POPULAR', 'RS5', 'CARINA_E', 'RAV_4', 'AMG_GT', 'TYPE_1', 'GLE_KLASSE_COUPE', 'PRIUSPLUS', 'N_WGN', 'SPACE_GEAR', 'HR_V', 'X3_M', 'SPRINTER_TRUENO', 'CR_Z', 'MARK_X_ZIO', 'C_KLASSE_AMG', 'OCTAVIA_RS', 'GRAND_HIACE', 'FR_V', 'ALLROAD', 'COROLLA_RUMION', 'GT_R', 'GLE_KLASSE_AMG', 'MARK_X', 'FAIRLADY_Z', 'CLA_KLASSE', 'TOWN_ACE', 'PAJERO_IO', 'COROLLA_LEVIN', 'TT_RS', 'LAND_CRUISER_PRADO', 'RS3', 'M1', 'MAYBACH_GLS', 'VERSO_S', '2GRANDTOURER', 'MASTER_ACE_SURF', 'ALMERA_CLASSIC', 'MOBILIO_SPIKE', 'CORONA_EXIV', 'E_KLASSE_AMG', 'GLS_KLASSE_AMG', 'RS6', '5ER', 'A_KLASSE', 'E_TRON', 'LANCER_EVOLUTION', 'EMERAUDE', 'X_TRAIL', 'ALMERA_TINO', '02', 'GLE_KLASSE_COUPE_AMG', 'SLS_AMG', 'HS', 'X5_M', 'CLS_KLASSE', 'COROLLA_II', 'CITY', 'CLC_KLASSE', 'SPRINTER_CARIB', 'B_KLASSE', 'X_KLASSE', 'GLC_KLASSE', 'S_KLASSE_AMG', 'SPACE_WAGON', 'R_KLASSE', 'TARO', 'G35', '280ZX', 'SIMPLEX', 'NAVARA', 'X6_M', 'GOLF_PLUS', 'SCEPTER_SEDAN', '1ER', 'SLC_KLASSE', '8ER', 'GLK_KLASSE', 'CLK_KLASSE', 'G_KLASSE', 'FJ_CRUISER', 'CIVIC_TYPE_R', 'GLE_KLASSE', 'AMG_GLC_COUPE', 'COROLLA_VERSO', 'SPACE_STAR', 'MONTERO_SPORT', 'PRIUS_ALPHA', 'CARINA_ED', 'GL_KLASSE', 'CR_X', '440', 'MARK_II', 'QASHQAI_PLUS_2', '190_SL', 'PREMIO', 'JUKE_NISMO', 'CYNOS', 'SIGMA', '6ER', 'HILUX_SURF', 'AVENSIS_VERSO', '7ER', 'GRANVIA', 'CLS_KLASSE_AMG', 'FABIA_RS', 'GLS_KLASSE', 'PASEO', 'RS4', 'GLA_CLASS_AMG', 'DAYZ_ROOX', 'CARAVAN_COACH', '2ER', 'EUROVAN', 'MEGA_CRUISER', 'STEPWAGON', 'E_KLASSE', 'CR_V', 'S_KLASSE', 'GLA_CLASS', 'ORIGIN', 'ECLIPSE_CROSS', 'SL_KLASSE', 'BLUEBIRD_SYLPHY', 'M_KLASSE', 'AIRWAVE', 'C_HR', 'CIVIC_FERIO', 'SL_KLASSE_AMG'}\n"
     ]
    }
   ],
   "source": [
    "'model_name'\n",
    "train.model_name = train.model_name.str.upper()\n",
    "categ_diff('model_name')\n",
    "# привести к верхнему регистру в train\n"
   ]
  },
  {
   "cell_type": "code",
   "execution_count": 62,
   "metadata": {},
   "outputs": [
    {
     "name": "stdout",
     "output_type": "stream",
     "text": [
      "{nan}\n",
      "{0}\n"
     ]
    }
   ],
   "source": [
    "categ_diff('numberOfDoors')"
   ]
  },
  {
   "cell_type": "code",
   "execution_count": 79,
   "metadata": {},
   "outputs": [
    {
     "name": "stdout",
     "output_type": "stream",
     "text": [
      "{0, 1923, 1927, 1928, 1932, 1935, 1942, 1943, 1944, 1946, 1947, 1951, 1954, 1955, 1956, 1958, 1962, 1964, 1966, 1971, 2021}\n",
      "{1904}\n"
     ]
    }
   ],
   "source": [
    "'productionDate'\n",
    "train.productionDate = train.productionDate.apply(lambda x: int(x) if x==x else 0)\n",
    "categ_diff('productionDate')\n",
    "# привести к типу int в train"
   ]
  },
  {
   "cell_type": "code",
   "execution_count": null,
   "metadata": {},
   "outputs": [],
   "source": [
    "'sell_id'"
   ]
  },
  {
   "cell_type": "code",
   "execution_count": 64,
   "metadata": {},
   "outputs": [
    {
     "name": "stdout",
     "output_type": "stream",
     "text": [
      "{nan}\n",
      "set()\n"
     ]
    }
   ],
   "source": [
    "categ_diff('vehicleTransmission')"
   ]
  },
  {
   "cell_type": "code",
   "execution_count": 65,
   "metadata": {},
   "outputs": [
    {
     "name": "stdout",
     "output_type": "stream",
     "text": [
      "{'NAN'}\n",
      "set()\n"
     ]
    }
   ],
   "source": [
    "categ_diff('vendor')"
   ]
  },
  {
   "cell_type": "code",
   "execution_count": 66,
   "metadata": {},
   "outputs": [
    {
     "name": "stdout",
     "output_type": "stream",
     "text": [
      "{nan}\n",
      "set()\n"
     ]
    }
   ],
   "source": [
    "categ_diff('Владельцы')"
   ]
  },
  {
   "cell_type": "code",
   "execution_count": 67,
   "metadata": {},
   "outputs": [
    {
     "name": "stdout",
     "output_type": "stream",
     "text": [
      "set()\n",
      "set()\n"
     ]
    }
   ],
   "source": [
    "categ_diff('ПТС')"
   ]
  },
  {
   "cell_type": "code",
   "execution_count": 68,
   "metadata": {},
   "outputs": [
    {
     "name": "stdout",
     "output_type": "stream",
     "text": [
      "{nan}\n",
      "set()\n"
     ]
    }
   ],
   "source": [
    "categ_diff('Привод')"
   ]
  },
  {
   "cell_type": "code",
   "execution_count": 69,
   "metadata": {},
   "outputs": [
    {
     "name": "stdout",
     "output_type": "stream",
     "text": [
      "{nan}\n",
      "set()\n"
     ]
    }
   ],
   "source": [
    "categ_diff('Руль')"
   ]
  },
  {
   "cell_type": "code",
   "execution_count": null,
   "metadata": {},
   "outputs": [],
   "source": [
    "def unification_test(df):\n",
    "    \n",
    "    pass\n",
    "    return df"
   ]
  },
  {
   "cell_type": "markdown",
   "metadata": {},
   "source": [
    "## Объединение test и train"
   ]
  },
  {
   "cell_type": "code",
   "execution_count": null,
   "metadata": {},
   "outputs": [],
   "source": []
  },
  {
   "cell_type": "markdown",
   "metadata": {},
   "source": [
    "## EDA test и train"
   ]
  },
  {
   "cell_type": "code",
   "execution_count": null,
   "metadata": {},
   "outputs": [],
   "source": []
  },
  {
   "cell_type": "markdown",
   "metadata": {},
   "source": [
    "## Предобработка"
   ]
  },
  {
   "cell_type": "code",
   "execution_count": null,
   "metadata": {},
   "outputs": [],
   "source": []
  },
  {
   "cell_type": "markdown",
   "metadata": {},
   "source": [
    "## Base-line"
   ]
  },
  {
   "cell_type": "code",
   "execution_count": null,
   "metadata": {},
   "outputs": [],
   "source": []
  },
  {
   "cell_type": "markdown",
   "metadata": {},
   "source": [
    "## Features construction"
   ]
  },
  {
   "cell_type": "code",
   "execution_count": null,
   "metadata": {},
   "outputs": [],
   "source": []
  },
  {
   "cell_type": "markdown",
   "metadata": {},
   "source": [
    "## Отбор признаков"
   ]
  },
  {
   "cell_type": "code",
   "execution_count": null,
   "metadata": {},
   "outputs": [],
   "source": []
  },
  {
   "cell_type": "markdown",
   "metadata": {},
   "source": [
    "## Подбор гиперпараметров"
   ]
  },
  {
   "cell_type": "code",
   "execution_count": null,
   "metadata": {},
   "outputs": [],
   "source": []
  },
  {
   "cell_type": "code",
   "execution_count": null,
   "metadata": {},
   "outputs": [],
   "source": []
  },
  {
   "cell_type": "code",
   "execution_count": null,
   "metadata": {},
   "outputs": [],
   "source": []
  },
  {
   "cell_type": "markdown",
   "metadata": {},
   "source": [
    "## ========================================================"
   ]
  },
  {
   "cell_type": "markdown",
   "metadata": {},
   "source": [
    "# Подвал"
   ]
  },
  {
   "cell_type": "code",
   "execution_count": null,
   "metadata": {},
   "outputs": [],
   "source": [
    "'''tt = df_test.complectation_dict[2]\n",
    "ttt = json.loads(tt)\n",
    "ttt['available_options']'''"
   ]
  },
  {
   "cell_type": "code",
   "execution_count": null,
   "metadata": {},
   "outputs": [],
   "source": [
    "'''bodyType', 'brand', 'car_url', 'color',\n",
    "        'engineDisplacement', 'enginePower', 'equipment_dict',\n",
    "       'fuelType', 'mileage', 'modelDate', 'model_name',\n",
    "    'numberOfDoors', 'parsing_unixtime', \n",
    "       'productionDate', 'sell_id', \n",
    "       'vehicleTransmission', 'vendor', 'Владельцы', 'Владение', 'ПТС',\n",
    "       'Привод', 'Руль''';"
   ]
  },
  {
   "cell_type": "code",
   "execution_count": null,
   "metadata": {},
   "outputs": [],
   "source": [
    "# df_test[df_test.brand == \"AUDI\"].model_name"
   ]
  },
  {
   "cell_type": "code",
   "execution_count": null,
   "metadata": {},
   "outputs": [],
   "source": []
  }
 ],
 "metadata": {
  "kernelspec": {
   "display_name": "Python 3",
   "language": "python",
   "name": "python3"
  },
  "language_info": {
   "codemirror_mode": {
    "name": "ipython",
    "version": 3
   },
   "file_extension": ".py",
   "mimetype": "text/x-python",
   "name": "python",
   "nbconvert_exporter": "python",
   "pygments_lexer": "ipython3",
   "version": "3.7.4"
  }
 },
 "nbformat": 4,
 "nbformat_minor": 2
}
