{
 "cells": [
  {
   "cell_type": "markdown",
   "metadata": {},
   "source": [
    "# Описание задачи\n",
    "## В задачи пректа входит:\n",
    "- Нахождение данных для обученяи модели: парсинг и/или иные источники;\n",
    "- Предобработка полученных данных\n",
    "- Создание новых признаков с использованием полученных данных;\n",
    "- Отбор признаков;\n",
    "- Отбор моделей;\n",
    "- Обучение и тестирование отобранной модели на отобранных признаках;\n",
    "- Подбор макропараметров модели на отобранных признаках;\n",
    "- Получение предсказанных моделью значений, подготовка и отправка submission\n",
    "\n",
    "# Импорт библиотек, установка параметров, определение функций\n",
    "## Импорт бибилиотек"
   ]
  },
  {
   "cell_type": "code",
   "execution_count": 2,
   "metadata": {},
   "outputs": [],
   "source": [
    "import pandas as pd\n",
    "import numpy as np\n",
    "import json \n",
    "import os\n",
    "import requests\n",
    "\n",
    "from pprint import pprint\n",
    "from bs4 import BeautifulSoup "
   ]
  },
  {
   "cell_type": "markdown",
   "metadata": {},
   "source": [
    "## Установка параметров"
   ]
  },
  {
   "cell_type": "code",
   "execution_count": 3,
   "metadata": {},
   "outputs": [
    {
     "name": "stdout",
     "output_type": "stream",
     "text": [
      "Populating the interactive namespace from numpy and matplotlib\n"
     ]
    }
   ],
   "source": [
    "%pylab inline\n",
    "\n",
    "pd.set_option('display.max_rows', 70) # выведем больше строк\n",
    "pd.set_option('display.max_columns', 30) # выведем больше колонок"
   ]
  },
  {
   "cell_type": "markdown",
   "metadata": {},
   "source": [
    "## Определение функций"
   ]
  },
  {
   "cell_type": "code",
   "execution_count": 12,
   "metadata": {},
   "outputs": [],
   "source": [
    "def df_describe(df):\n",
    "    '''\n",
    "    Вывод простой статистки DataFrame\n",
    "    '''\n",
    "    desc = df.describe(include='all',percentiles=[0.5]).T\n",
    "    desc['type'] = [type(x) for x in df.iloc[0]]\n",
    "    desc['NaN'] = df.isna().sum()\n",
    "    desc.unique = df.nunique()\n",
    "    desc.top = df.mode(axis=0).iloc[0]\n",
    "    desc.freq = [df[col].value_counts().iloc[0] for col in  df.columns]\n",
    "    return desc\n",
    "\n",
    "def preproc():\n",
    "    pass"
   ]
  },
  {
   "cell_type": "markdown",
   "metadata": {},
   "source": [
    "# Изучение  данных для предсказания\n",
    "\n",
    "Что бы понимать какие признаки нам нужны для обучения модели нам необходимо понять какие признаки описывают наблюдения, для которых мы должны предсказать целевую переменную.  \n",
    "\n",
    "Поэтому для начала исследуем данные эти наблюдения описывающие."
   ]
  },
  {
   "cell_type": "code",
   "execution_count": 11,
   "metadata": {},
   "outputs": [
    {
     "data": {
      "text/html": [
       "<div>\n",
       "<style scoped>\n",
       "    .dataframe tbody tr th:only-of-type {\n",
       "        vertical-align: middle;\n",
       "    }\n",
       "\n",
       "    .dataframe tbody tr th {\n",
       "        vertical-align: top;\n",
       "    }\n",
       "\n",
       "    .dataframe thead th {\n",
       "        text-align: right;\n",
       "    }\n",
       "</style>\n",
       "<table border=\"1\" class=\"dataframe\">\n",
       "  <thead>\n",
       "    <tr style=\"text-align: right;\">\n",
       "      <th></th>\n",
       "      <th>count</th>\n",
       "      <th>unique</th>\n",
       "      <th>top</th>\n",
       "      <th>freq</th>\n",
       "      <th>mean</th>\n",
       "      <th>std</th>\n",
       "      <th>min</th>\n",
       "      <th>50%</th>\n",
       "      <th>max</th>\n",
       "      <th>type</th>\n",
       "      <th>NaN</th>\n",
       "    </tr>\n",
       "  </thead>\n",
       "  <tbody>\n",
       "    <tr>\n",
       "      <th>bodyType</th>\n",
       "      <td>3837</td>\n",
       "      <td>11</td>\n",
       "      <td>внедорожник 5 дв.</td>\n",
       "      <td>1626</td>\n",
       "      <td>NaN</td>\n",
       "      <td>NaN</td>\n",
       "      <td>NaN</td>\n",
       "      <td>NaN</td>\n",
       "      <td>NaN</td>\n",
       "      <td>&lt;class 'str'&gt;</td>\n",
       "      <td>0</td>\n",
       "    </tr>\n",
       "    <tr>\n",
       "      <th>brand</th>\n",
       "      <td>3837</td>\n",
       "      <td>1</td>\n",
       "      <td>BMW</td>\n",
       "      <td>3837</td>\n",
       "      <td>NaN</td>\n",
       "      <td>NaN</td>\n",
       "      <td>NaN</td>\n",
       "      <td>NaN</td>\n",
       "      <td>NaN</td>\n",
       "      <td>&lt;class 'str'&gt;</td>\n",
       "      <td>0</td>\n",
       "    </tr>\n",
       "    <tr>\n",
       "      <th>color</th>\n",
       "      <td>3837</td>\n",
       "      <td>15</td>\n",
       "      <td>чёрный</td>\n",
       "      <td>1395</td>\n",
       "      <td>NaN</td>\n",
       "      <td>NaN</td>\n",
       "      <td>NaN</td>\n",
       "      <td>NaN</td>\n",
       "      <td>NaN</td>\n",
       "      <td>&lt;class 'str'&gt;</td>\n",
       "      <td>0</td>\n",
       "    </tr>\n",
       "    <tr>\n",
       "      <th>fuelType</th>\n",
       "      <td>3837</td>\n",
       "      <td>4</td>\n",
       "      <td>бензин</td>\n",
       "      <td>2471</td>\n",
       "      <td>NaN</td>\n",
       "      <td>NaN</td>\n",
       "      <td>NaN</td>\n",
       "      <td>NaN</td>\n",
       "      <td>NaN</td>\n",
       "      <td>&lt;class 'str'&gt;</td>\n",
       "      <td>0</td>\n",
       "    </tr>\n",
       "    <tr>\n",
       "      <th>modelDate</th>\n",
       "      <td>3837</td>\n",
       "      <td>31</td>\n",
       "      <td>2013</td>\n",
       "      <td>380</td>\n",
       "      <td>2009.95</td>\n",
       "      <td>5.45162</td>\n",
       "      <td>1975</td>\n",
       "      <td>2011</td>\n",
       "      <td>2019</td>\n",
       "      <td>&lt;class 'numpy.float64'&gt;</td>\n",
       "      <td>0</td>\n",
       "    </tr>\n",
       "    <tr>\n",
       "      <th>name</th>\n",
       "      <td>3837</td>\n",
       "      <td>384</td>\n",
       "      <td>35i 3.0 AT (306 л.с.) 4WD</td>\n",
       "      <td>193</td>\n",
       "      <td>NaN</td>\n",
       "      <td>NaN</td>\n",
       "      <td>NaN</td>\n",
       "      <td>NaN</td>\n",
       "      <td>NaN</td>\n",
       "      <td>&lt;class 'str'&gt;</td>\n",
       "      <td>0</td>\n",
       "    </tr>\n",
       "    <tr>\n",
       "      <th>numberOfDoors</th>\n",
       "      <td>3837</td>\n",
       "      <td>4</td>\n",
       "      <td>5</td>\n",
       "      <td>1963</td>\n",
       "      <td>4.37503</td>\n",
       "      <td>0.796782</td>\n",
       "      <td>2</td>\n",
       "      <td>5</td>\n",
       "      <td>5</td>\n",
       "      <td>&lt;class 'numpy.float64'&gt;</td>\n",
       "      <td>0</td>\n",
       "    </tr>\n",
       "    <tr>\n",
       "      <th>productionDate</th>\n",
       "      <td>3837</td>\n",
       "      <td>37</td>\n",
       "      <td>2013</td>\n",
       "      <td>432</td>\n",
       "      <td>2011.93</td>\n",
       "      <td>5.18658</td>\n",
       "      <td>1981</td>\n",
       "      <td>2013</td>\n",
       "      <td>2019</td>\n",
       "      <td>&lt;class 'numpy.float64'&gt;</td>\n",
       "      <td>0</td>\n",
       "    </tr>\n",
       "    <tr>\n",
       "      <th>vehicleConfiguration</th>\n",
       "      <td>3837</td>\n",
       "      <td>99</td>\n",
       "      <td>ALLROAD_5_DOORS AUTOMATIC 3.0</td>\n",
       "      <td>850</td>\n",
       "      <td>NaN</td>\n",
       "      <td>NaN</td>\n",
       "      <td>NaN</td>\n",
       "      <td>NaN</td>\n",
       "      <td>NaN</td>\n",
       "      <td>&lt;class 'str'&gt;</td>\n",
       "      <td>0</td>\n",
       "    </tr>\n",
       "    <tr>\n",
       "      <th>vehicleTransmission</th>\n",
       "      <td>3837</td>\n",
       "      <td>3</td>\n",
       "      <td>автоматическая</td>\n",
       "      <td>3677</td>\n",
       "      <td>NaN</td>\n",
       "      <td>NaN</td>\n",
       "      <td>NaN</td>\n",
       "      <td>NaN</td>\n",
       "      <td>NaN</td>\n",
       "      <td>&lt;class 'str'&gt;</td>\n",
       "      <td>0</td>\n",
       "    </tr>\n",
       "    <tr>\n",
       "      <th>engineDisplacement</th>\n",
       "      <td>3837</td>\n",
       "      <td>22</td>\n",
       "      <td>2.0 LTR</td>\n",
       "      <td>1538</td>\n",
       "      <td>NaN</td>\n",
       "      <td>NaN</td>\n",
       "      <td>NaN</td>\n",
       "      <td>NaN</td>\n",
       "      <td>NaN</td>\n",
       "      <td>&lt;class 'str'&gt;</td>\n",
       "      <td>0</td>\n",
       "    </tr>\n",
       "    <tr>\n",
       "      <th>enginePower</th>\n",
       "      <td>3837</td>\n",
       "      <td>75</td>\n",
       "      <td>184 N12</td>\n",
       "      <td>636</td>\n",
       "      <td>NaN</td>\n",
       "      <td>NaN</td>\n",
       "      <td>NaN</td>\n",
       "      <td>NaN</td>\n",
       "      <td>NaN</td>\n",
       "      <td>&lt;class 'str'&gt;</td>\n",
       "      <td>0</td>\n",
       "    </tr>\n",
       "    <tr>\n",
       "      <th>description</th>\n",
       "      <td>3837</td>\n",
       "      <td>3677</td>\n",
       "      <td>РОЛЬФ Премиум – крупнейший официальный дилер М...</td>\n",
       "      <td>38</td>\n",
       "      <td>NaN</td>\n",
       "      <td>NaN</td>\n",
       "      <td>NaN</td>\n",
       "      <td>NaN</td>\n",
       "      <td>NaN</td>\n",
       "      <td>&lt;class 'str'&gt;</td>\n",
       "      <td>0</td>\n",
       "    </tr>\n",
       "    <tr>\n",
       "      <th>mileage</th>\n",
       "      <td>3837</td>\n",
       "      <td>1942</td>\n",
       "      <td>140000</td>\n",
       "      <td>38</td>\n",
       "      <td>118536</td>\n",
       "      <td>85125.9</td>\n",
       "      <td>1</td>\n",
       "      <td>108000</td>\n",
       "      <td>1e+06</td>\n",
       "      <td>&lt;class 'numpy.float64'&gt;</td>\n",
       "      <td>0</td>\n",
       "    </tr>\n",
       "    <tr>\n",
       "      <th>Комплектация</th>\n",
       "      <td>3837</td>\n",
       "      <td>3295</td>\n",
       "      <td>[]</td>\n",
       "      <td>336</td>\n",
       "      <td>NaN</td>\n",
       "      <td>NaN</td>\n",
       "      <td>NaN</td>\n",
       "      <td>NaN</td>\n",
       "      <td>NaN</td>\n",
       "      <td>&lt;class 'str'&gt;</td>\n",
       "      <td>0</td>\n",
       "    </tr>\n",
       "    <tr>\n",
       "      <th>Привод</th>\n",
       "      <td>3837</td>\n",
       "      <td>3</td>\n",
       "      <td>полный</td>\n",
       "      <td>2444</td>\n",
       "      <td>NaN</td>\n",
       "      <td>NaN</td>\n",
       "      <td>NaN</td>\n",
       "      <td>NaN</td>\n",
       "      <td>NaN</td>\n",
       "      <td>&lt;class 'str'&gt;</td>\n",
       "      <td>0</td>\n",
       "    </tr>\n",
       "    <tr>\n",
       "      <th>Руль</th>\n",
       "      <td>3837</td>\n",
       "      <td>1</td>\n",
       "      <td>Левый</td>\n",
       "      <td>3837</td>\n",
       "      <td>NaN</td>\n",
       "      <td>NaN</td>\n",
       "      <td>NaN</td>\n",
       "      <td>NaN</td>\n",
       "      <td>NaN</td>\n",
       "      <td>&lt;class 'str'&gt;</td>\n",
       "      <td>0</td>\n",
       "    </tr>\n",
       "    <tr>\n",
       "      <th>Состояние</th>\n",
       "      <td>3837</td>\n",
       "      <td>1</td>\n",
       "      <td>Не требует ремонта</td>\n",
       "      <td>3837</td>\n",
       "      <td>NaN</td>\n",
       "      <td>NaN</td>\n",
       "      <td>NaN</td>\n",
       "      <td>NaN</td>\n",
       "      <td>NaN</td>\n",
       "      <td>&lt;class 'str'&gt;</td>\n",
       "      <td>0</td>\n",
       "    </tr>\n",
       "    <tr>\n",
       "      <th>Владельцы</th>\n",
       "      <td>3837</td>\n",
       "      <td>3</td>\n",
       "      <td>3 или более</td>\n",
       "      <td>1516</td>\n",
       "      <td>NaN</td>\n",
       "      <td>NaN</td>\n",
       "      <td>NaN</td>\n",
       "      <td>NaN</td>\n",
       "      <td>NaN</td>\n",
       "      <td>&lt;class 'str'&gt;</td>\n",
       "      <td>0</td>\n",
       "    </tr>\n",
       "    <tr>\n",
       "      <th>ПТС</th>\n",
       "      <td>3837</td>\n",
       "      <td>2</td>\n",
       "      <td>Оригинал</td>\n",
       "      <td>3463</td>\n",
       "      <td>NaN</td>\n",
       "      <td>NaN</td>\n",
       "      <td>NaN</td>\n",
       "      <td>NaN</td>\n",
       "      <td>NaN</td>\n",
       "      <td>&lt;class 'str'&gt;</td>\n",
       "      <td>0</td>\n",
       "    </tr>\n",
       "    <tr>\n",
       "      <th>Таможня</th>\n",
       "      <td>3837</td>\n",
       "      <td>1</td>\n",
       "      <td>Растаможен</td>\n",
       "      <td>3837</td>\n",
       "      <td>NaN</td>\n",
       "      <td>NaN</td>\n",
       "      <td>NaN</td>\n",
       "      <td>NaN</td>\n",
       "      <td>NaN</td>\n",
       "      <td>&lt;class 'str'&gt;</td>\n",
       "      <td>0</td>\n",
       "    </tr>\n",
       "    <tr>\n",
       "      <th>Владение</th>\n",
       "      <td>1753</td>\n",
       "      <td>157</td>\n",
       "      <td>1 год и 1 месяц</td>\n",
       "      <td>40</td>\n",
       "      <td>NaN</td>\n",
       "      <td>NaN</td>\n",
       "      <td>NaN</td>\n",
       "      <td>NaN</td>\n",
       "      <td>NaN</td>\n",
       "      <td>&lt;class 'float'&gt;</td>\n",
       "      <td>2084</td>\n",
       "    </tr>\n",
       "    <tr>\n",
       "      <th>id</th>\n",
       "      <td>3837</td>\n",
       "      <td>3837</td>\n",
       "      <td>0</td>\n",
       "      <td>1</td>\n",
       "      <td>1918</td>\n",
       "      <td>1107.79</td>\n",
       "      <td>0</td>\n",
       "      <td>1918</td>\n",
       "      <td>3836</td>\n",
       "      <td>&lt;class 'numpy.int64'&gt;</td>\n",
       "      <td>0</td>\n",
       "    </tr>\n",
       "  </tbody>\n",
       "</table>\n",
       "</div>"
      ],
      "text/plain": [
       "                     count  unique  \\\n",
       "bodyType              3837      11   \n",
       "brand                 3837       1   \n",
       "color                 3837      15   \n",
       "fuelType              3837       4   \n",
       "modelDate             3837      31   \n",
       "name                  3837     384   \n",
       "numberOfDoors         3837       4   \n",
       "productionDate        3837      37   \n",
       "vehicleConfiguration  3837      99   \n",
       "vehicleTransmission   3837       3   \n",
       "engineDisplacement    3837      22   \n",
       "enginePower           3837      75   \n",
       "description           3837    3677   \n",
       "mileage               3837    1942   \n",
       "Комплектация          3837    3295   \n",
       "Привод                3837       3   \n",
       "Руль                  3837       1   \n",
       "Состояние             3837       1   \n",
       "Владельцы             3837       3   \n",
       "ПТС                   3837       2   \n",
       "Таможня               3837       1   \n",
       "Владение              1753     157   \n",
       "id                    3837    3837   \n",
       "\n",
       "                                                                    top  freq  \\\n",
       "bodyType                                              внедорожник 5 дв.  1626   \n",
       "brand                                                               BMW  3837   \n",
       "color                                                            чёрный  1395   \n",
       "fuelType                                                         бензин  2471   \n",
       "modelDate                                                          2013   380   \n",
       "name                                          35i 3.0 AT (306 л.с.) 4WD   193   \n",
       "numberOfDoors                                                         5  1963   \n",
       "productionDate                                                     2013   432   \n",
       "vehicleConfiguration                      ALLROAD_5_DOORS AUTOMATIC 3.0   850   \n",
       "vehicleTransmission                                      автоматическая  3677   \n",
       "engineDisplacement                                              2.0 LTR  1538   \n",
       "enginePower                                                     184 N12   636   \n",
       "description           РОЛЬФ Премиум – крупнейший официальный дилер М...    38   \n",
       "mileage                                                          140000    38   \n",
       "Комплектация                                                         []   336   \n",
       "Привод                                                           полный  2444   \n",
       "Руль                                                              Левый  3837   \n",
       "Состояние                                            Не требует ремонта  3837   \n",
       "Владельцы                                                   3 или более  1516   \n",
       "ПТС                                                            Оригинал  3463   \n",
       "Таможня                                                      Растаможен  3837   \n",
       "Владение                                                1 год и 1 месяц    40   \n",
       "id                                                                    0     1   \n",
       "\n",
       "                         mean       std   min     50%    max  \\\n",
       "bodyType                  NaN       NaN   NaN     NaN    NaN   \n",
       "brand                     NaN       NaN   NaN     NaN    NaN   \n",
       "color                     NaN       NaN   NaN     NaN    NaN   \n",
       "fuelType                  NaN       NaN   NaN     NaN    NaN   \n",
       "modelDate             2009.95   5.45162  1975    2011   2019   \n",
       "name                      NaN       NaN   NaN     NaN    NaN   \n",
       "numberOfDoors         4.37503  0.796782     2       5      5   \n",
       "productionDate        2011.93   5.18658  1981    2013   2019   \n",
       "vehicleConfiguration      NaN       NaN   NaN     NaN    NaN   \n",
       "vehicleTransmission       NaN       NaN   NaN     NaN    NaN   \n",
       "engineDisplacement        NaN       NaN   NaN     NaN    NaN   \n",
       "enginePower               NaN       NaN   NaN     NaN    NaN   \n",
       "description               NaN       NaN   NaN     NaN    NaN   \n",
       "mileage                118536   85125.9     1  108000  1e+06   \n",
       "Комплектация              NaN       NaN   NaN     NaN    NaN   \n",
       "Привод                    NaN       NaN   NaN     NaN    NaN   \n",
       "Руль                      NaN       NaN   NaN     NaN    NaN   \n",
       "Состояние                 NaN       NaN   NaN     NaN    NaN   \n",
       "Владельцы                 NaN       NaN   NaN     NaN    NaN   \n",
       "ПТС                       NaN       NaN   NaN     NaN    NaN   \n",
       "Таможня                   NaN       NaN   NaN     NaN    NaN   \n",
       "Владение                  NaN       NaN   NaN     NaN    NaN   \n",
       "id                       1918   1107.79     0    1918   3836   \n",
       "\n",
       "                                         type   NaN  \n",
       "bodyType                        <class 'str'>     0  \n",
       "brand                           <class 'str'>     0  \n",
       "color                           <class 'str'>     0  \n",
       "fuelType                        <class 'str'>     0  \n",
       "modelDate             <class 'numpy.float64'>     0  \n",
       "name                            <class 'str'>     0  \n",
       "numberOfDoors         <class 'numpy.float64'>     0  \n",
       "productionDate        <class 'numpy.float64'>     0  \n",
       "vehicleConfiguration            <class 'str'>     0  \n",
       "vehicleTransmission             <class 'str'>     0  \n",
       "engineDisplacement              <class 'str'>     0  \n",
       "enginePower                     <class 'str'>     0  \n",
       "description                     <class 'str'>     0  \n",
       "mileage               <class 'numpy.float64'>     0  \n",
       "Комплектация                    <class 'str'>     0  \n",
       "Привод                          <class 'str'>     0  \n",
       "Руль                            <class 'str'>     0  \n",
       "Состояние                       <class 'str'>     0  \n",
       "Владельцы                       <class 'str'>     0  \n",
       "ПТС                             <class 'str'>     0  \n",
       "Таможня                         <class 'str'>     0  \n",
       "Владение                      <class 'float'>  2084  \n",
       "id                      <class 'numpy.int64'>     0  "
      ]
     },
     "execution_count": 11,
     "metadata": {},
     "output_type": "execute_result"
    }
   ],
   "source": [
    "df_test = pd.read_csv('./Project_5_data/test.csv')\n",
    "df_describe(df_test)"
   ]
  },
  {
   "cell_type": "code",
   "execution_count": 9,
   "metadata": {},
   "outputs": [],
   "source": [
    "# df_test.head()"
   ]
  },
  {
   "cell_type": "code",
   "execution_count": 5,
   "metadata": {},
   "outputs": [
    {
     "data": {
      "text/plain": [
       "Index(['bodyType', 'brand', 'color', 'fuelType', 'modelDate', 'name',\n",
       "       'numberOfDoors', 'productionDate', 'vehicleConfiguration',\n",
       "       'vehicleTransmission', 'engineDisplacement', 'enginePower',\n",
       "       'description', 'mileage', 'Комплектация', 'Привод', 'Руль', 'Состояние',\n",
       "       'Владельцы', 'ПТС', 'Таможня', 'Владение', 'id'],\n",
       "      dtype='object')"
      ]
     },
     "execution_count": 5,
     "metadata": {},
     "output_type": "execute_result"
    }
   ],
   "source": [
    "df_test.columns"
   ]
  },
  {
   "cell_type": "code",
   "execution_count": null,
   "metadata": {},
   "outputs": [],
   "source": []
  },
  {
   "cell_type": "markdown",
   "metadata": {},
   "source": [
    "### bodyType"
   ]
  },
  {
   "cell_type": "code",
   "execution_count": 1,
   "metadata": {},
   "outputs": [
    {
     "ename": "NameError",
     "evalue": "name 'pd' is not defined",
     "output_type": "error",
     "traceback": [
      "\u001b[1;31m---------------------------------------------------------------------------\u001b[0m",
      "\u001b[1;31mNameError\u001b[0m                                 Traceback (most recent call last)",
      "\u001b[1;32m<ipython-input-1-8d71f321cf35>\u001b[0m in \u001b[0;36m<module>\u001b[1;34m()\u001b[0m\n\u001b[0;32m      2\u001b[0m \u001b[1;31m# df_test.bodyType.value_counts()\u001b[0m\u001b[1;33m\u001b[0m\u001b[1;33m\u001b[0m\u001b[0m\n\u001b[0;32m      3\u001b[0m \u001b[1;33m\u001b[0m\u001b[0m\n\u001b[1;32m----> 4\u001b[1;33m \u001b[0mpd\u001b[0m\u001b[1;33m.\u001b[0m\u001b[0mget_dummies\u001b[0m\u001b[1;33m(\u001b[0m\u001b[0mdf_test\u001b[0m\u001b[1;33m.\u001b[0m\u001b[0mbodyType\u001b[0m\u001b[1;33m)\u001b[0m\u001b[1;33m[\u001b[0m\u001b[1;33m:\u001b[0m\u001b[1;36m5\u001b[0m\u001b[1;33m]\u001b[0m\u001b[1;33m\u001b[0m\u001b[0m\n\u001b[0m",
      "\u001b[1;31mNameError\u001b[0m: name 'pd' is not defined"
     ]
    }
   ],
   "source": [
    "# df_test.bodyType.unique()\n",
    "# df_test.bodyType.value_counts()\n",
    "\n",
    "pd.get_dummies(df_test.bodyType)[:5]"
   ]
  },
  {
   "cell_type": "markdown",
   "metadata": {},
   "source": [
    "### brand"
   ]
  },
  {
   "cell_type": "code",
   "execution_count": 9,
   "metadata": {},
   "outputs": [
    {
     "data": {
      "text/plain": [
       "array(['BMW'], dtype=object)"
      ]
     },
     "execution_count": 9,
     "metadata": {},
     "output_type": "execute_result"
    }
   ],
   "source": [
    "df_test.brand.unique()"
   ]
  },
  {
   "cell_type": "markdown",
   "metadata": {},
   "source": [
    "### color"
   ]
  },
  {
   "cell_type": "code",
   "execution_count": 10,
   "metadata": {},
   "outputs": [
    {
     "data": {
      "text/plain": [
       "array(['чёрный', 'белый', 'синий', 'коричневый', 'красный', 'серый',\n",
       "       'бежевый', 'серебристый', 'золотистый', 'оранжевый', 'голубой',\n",
       "       'пурпурный', 'жёлтый', 'зелёный', 'фиолетовый'], dtype=object)"
      ]
     },
     "execution_count": 10,
     "metadata": {},
     "output_type": "execute_result"
    }
   ],
   "source": [
    "df_test.color.unique()"
   ]
  },
  {
   "cell_type": "code",
   "execution_count": 11,
   "metadata": {},
   "outputs": [
    {
     "data": {
      "text/html": [
       "<div>\n",
       "<style scoped>\n",
       "    .dataframe tbody tr th:only-of-type {\n",
       "        vertical-align: middle;\n",
       "    }\n",
       "\n",
       "    .dataframe tbody tr th {\n",
       "        vertical-align: top;\n",
       "    }\n",
       "\n",
       "    .dataframe thead th {\n",
       "        text-align: right;\n",
       "    }\n",
       "</style>\n",
       "<table border=\"1\" class=\"dataframe\">\n",
       "  <thead>\n",
       "    <tr style=\"text-align: right;\">\n",
       "      <th></th>\n",
       "      <th>бежевый</th>\n",
       "      <th>белый</th>\n",
       "      <th>голубой</th>\n",
       "      <th>жёлтый</th>\n",
       "      <th>зелёный</th>\n",
       "      <th>золотистый</th>\n",
       "      <th>коричневый</th>\n",
       "      <th>красный</th>\n",
       "      <th>оранжевый</th>\n",
       "      <th>пурпурный</th>\n",
       "      <th>серебристый</th>\n",
       "      <th>серый</th>\n",
       "      <th>синий</th>\n",
       "      <th>фиолетовый</th>\n",
       "      <th>чёрный</th>\n",
       "    </tr>\n",
       "  </thead>\n",
       "  <tbody>\n",
       "    <tr>\n",
       "      <th>0</th>\n",
       "      <td>0</td>\n",
       "      <td>0</td>\n",
       "      <td>0</td>\n",
       "      <td>0</td>\n",
       "      <td>0</td>\n",
       "      <td>0</td>\n",
       "      <td>0</td>\n",
       "      <td>0</td>\n",
       "      <td>0</td>\n",
       "      <td>0</td>\n",
       "      <td>0</td>\n",
       "      <td>0</td>\n",
       "      <td>0</td>\n",
       "      <td>0</td>\n",
       "      <td>1</td>\n",
       "    </tr>\n",
       "    <tr>\n",
       "      <th>1</th>\n",
       "      <td>0</td>\n",
       "      <td>1</td>\n",
       "      <td>0</td>\n",
       "      <td>0</td>\n",
       "      <td>0</td>\n",
       "      <td>0</td>\n",
       "      <td>0</td>\n",
       "      <td>0</td>\n",
       "      <td>0</td>\n",
       "      <td>0</td>\n",
       "      <td>0</td>\n",
       "      <td>0</td>\n",
       "      <td>0</td>\n",
       "      <td>0</td>\n",
       "      <td>0</td>\n",
       "    </tr>\n",
       "    <tr>\n",
       "      <th>2</th>\n",
       "      <td>0</td>\n",
       "      <td>0</td>\n",
       "      <td>0</td>\n",
       "      <td>0</td>\n",
       "      <td>0</td>\n",
       "      <td>0</td>\n",
       "      <td>0</td>\n",
       "      <td>0</td>\n",
       "      <td>0</td>\n",
       "      <td>0</td>\n",
       "      <td>0</td>\n",
       "      <td>0</td>\n",
       "      <td>1</td>\n",
       "      <td>0</td>\n",
       "      <td>0</td>\n",
       "    </tr>\n",
       "    <tr>\n",
       "      <th>3</th>\n",
       "      <td>0</td>\n",
       "      <td>1</td>\n",
       "      <td>0</td>\n",
       "      <td>0</td>\n",
       "      <td>0</td>\n",
       "      <td>0</td>\n",
       "      <td>0</td>\n",
       "      <td>0</td>\n",
       "      <td>0</td>\n",
       "      <td>0</td>\n",
       "      <td>0</td>\n",
       "      <td>0</td>\n",
       "      <td>0</td>\n",
       "      <td>0</td>\n",
       "      <td>0</td>\n",
       "    </tr>\n",
       "    <tr>\n",
       "      <th>4</th>\n",
       "      <td>0</td>\n",
       "      <td>0</td>\n",
       "      <td>0</td>\n",
       "      <td>0</td>\n",
       "      <td>0</td>\n",
       "      <td>0</td>\n",
       "      <td>0</td>\n",
       "      <td>0</td>\n",
       "      <td>0</td>\n",
       "      <td>0</td>\n",
       "      <td>0</td>\n",
       "      <td>0</td>\n",
       "      <td>1</td>\n",
       "      <td>0</td>\n",
       "      <td>0</td>\n",
       "    </tr>\n",
       "  </tbody>\n",
       "</table>\n",
       "</div>"
      ],
      "text/plain": [
       "   бежевый  белый  голубой  жёлтый  зелёный  золотистый  коричневый  красный  \\\n",
       "0        0      0        0       0        0           0           0        0   \n",
       "1        0      1        0       0        0           0           0        0   \n",
       "2        0      0        0       0        0           0           0        0   \n",
       "3        0      1        0       0        0           0           0        0   \n",
       "4        0      0        0       0        0           0           0        0   \n",
       "\n",
       "   оранжевый  пурпурный  серебристый  серый  синий  фиолетовый  чёрный  \n",
       "0          0          0            0      0      0           0       1  \n",
       "1          0          0            0      0      0           0       0  \n",
       "2          0          0            0      0      1           0       0  \n",
       "3          0          0            0      0      0           0       0  \n",
       "4          0          0            0      0      1           0       0  "
      ]
     },
     "execution_count": 11,
     "metadata": {},
     "output_type": "execute_result"
    }
   ],
   "source": [
    "pd.get_dummies(df_test.color)[:5]"
   ]
  },
  {
   "cell_type": "markdown",
   "metadata": {},
   "source": [
    "### fuelType"
   ]
  },
  {
   "cell_type": "code",
   "execution_count": 12,
   "metadata": {},
   "outputs": [
    {
     "data": {
      "text/plain": [
       "array(['дизель', 'бензин', 'гибрид', 'электро'], dtype=object)"
      ]
     },
     "execution_count": 12,
     "metadata": {},
     "output_type": "execute_result"
    }
   ],
   "source": [
    "df_test.fuelType.unique()"
   ]
  },
  {
   "cell_type": "code",
   "execution_count": 13,
   "metadata": {},
   "outputs": [
    {
     "data": {
      "text/html": [
       "<div>\n",
       "<style scoped>\n",
       "    .dataframe tbody tr th:only-of-type {\n",
       "        vertical-align: middle;\n",
       "    }\n",
       "\n",
       "    .dataframe tbody tr th {\n",
       "        vertical-align: top;\n",
       "    }\n",
       "\n",
       "    .dataframe thead th {\n",
       "        text-align: right;\n",
       "    }\n",
       "</style>\n",
       "<table border=\"1\" class=\"dataframe\">\n",
       "  <thead>\n",
       "    <tr style=\"text-align: right;\">\n",
       "      <th></th>\n",
       "      <th>бензин</th>\n",
       "      <th>гибрид</th>\n",
       "      <th>дизель</th>\n",
       "      <th>электро</th>\n",
       "    </tr>\n",
       "  </thead>\n",
       "  <tbody>\n",
       "    <tr>\n",
       "      <th>0</th>\n",
       "      <td>0</td>\n",
       "      <td>0</td>\n",
       "      <td>1</td>\n",
       "      <td>0</td>\n",
       "    </tr>\n",
       "    <tr>\n",
       "      <th>1</th>\n",
       "      <td>0</td>\n",
       "      <td>0</td>\n",
       "      <td>1</td>\n",
       "      <td>0</td>\n",
       "    </tr>\n",
       "    <tr>\n",
       "      <th>2</th>\n",
       "      <td>1</td>\n",
       "      <td>0</td>\n",
       "      <td>0</td>\n",
       "      <td>0</td>\n",
       "    </tr>\n",
       "    <tr>\n",
       "      <th>3</th>\n",
       "      <td>0</td>\n",
       "      <td>0</td>\n",
       "      <td>1</td>\n",
       "      <td>0</td>\n",
       "    </tr>\n",
       "    <tr>\n",
       "      <th>4</th>\n",
       "      <td>0</td>\n",
       "      <td>0</td>\n",
       "      <td>1</td>\n",
       "      <td>0</td>\n",
       "    </tr>\n",
       "  </tbody>\n",
       "</table>\n",
       "</div>"
      ],
      "text/plain": [
       "   бензин  гибрид  дизель  электро\n",
       "0       0       0       1        0\n",
       "1       0       0       1        0\n",
       "2       1       0       0        0\n",
       "3       0       0       1        0\n",
       "4       0       0       1        0"
      ]
     },
     "execution_count": 13,
     "metadata": {},
     "output_type": "execute_result"
    }
   ],
   "source": [
    "pd.get_dummies(df_test.fuelType)[:5]"
   ]
  },
  {
   "cell_type": "markdown",
   "metadata": {},
   "source": [
    "### modelDate"
   ]
  },
  {
   "cell_type": "code",
   "execution_count": 14,
   "metadata": {},
   "outputs": [
    {
     "data": {
      "text/plain": [
       "array([2016., 2018., 2009., 2014., 2013., 2010., 2006., 2011., 2007.,\n",
       "       2005., 2008., 2000., 2012., 2015., 2017., 2002., 2001., 1999.,\n",
       "       2003., 1998., 2019., 1990., 1995., 2004., 1987., 1981., 1994.,\n",
       "       1986., 1982., 1975., 1977.])"
      ]
     },
     "execution_count": 14,
     "metadata": {},
     "output_type": "execute_result"
    }
   ],
   "source": [
    "df_test.modelDate.unique()"
   ]
  },
  {
   "cell_type": "code",
   "execution_count": 15,
   "metadata": {},
   "outputs": [
    {
     "data": {
      "text/plain": [
       "0    2016\n",
       "1    2018\n",
       "2    2009\n",
       "3    2014\n",
       "4    2014\n",
       "Name: modelDate, dtype: int32"
      ]
     },
     "execution_count": 15,
     "metadata": {},
     "output_type": "execute_result"
    }
   ],
   "source": [
    "df_test.modelDate.astype(int)[:5]"
   ]
  },
  {
   "cell_type": "markdown",
   "metadata": {},
   "source": [
    "### name"
   ]
  },
  {
   "cell_type": "code",
   "execution_count": 16,
   "metadata": {},
   "outputs": [
    {
     "data": {
      "text/plain": [
       "0    520d\n",
       "1    318d\n",
       "2    550i\n",
       "3     30d\n",
       "4    M50d\n",
       "Name: name, dtype: object"
      ]
     },
     "execution_count": 16,
     "metadata": {},
     "output_type": "execute_result"
    }
   ],
   "source": [
    "df_test.name.apply(lambda x: x[:x.find(' ')])[:5]"
   ]
  },
  {
   "cell_type": "code",
   "execution_count": 17,
   "metadata": {},
   "outputs": [
    {
     "data": {
      "text/plain": [
       "array(['520d', '318d', '550i', '30d', 'M50d', '28i', '20d', '520i',\n",
       "       '328i', '116i', '730d', '320i', '335i', '25i', '316i', '3.0d',\n",
       "       '540i', '730Ld', '35d', '20i', '530d', '528i', '35i', 'xDrive20d',\n",
       "       '48i', '135i', '2.2', '335xi', '745i', '320d', '530xi', '530i',\n",
       "       '3.0i', '325i', '30i', '118i', '40i', 'M760Li', '3.0si', '4.4',\n",
       "       '40d', '4.8i', '535d', '420i', '525i', '750i', '120i', '330i',\n",
       "       '120d', '318i', '725Ld', '760Li', '840d', '420d', 'M850i', '523i',\n",
       "       '18d', '650i', '18i', '525d', '750Li', '4.4i', '630d', '645i',\n",
       "       '3.0', '25d', '535i', '640i', '330xd', 'xDrive20i', '525xi', '50i',\n",
       "       '740Li', 'M550d', '630i', '4.0', '520Li', '735i', '730Li', '740d',\n",
       "       '325xi', '518', 'M235i', '220i', '740i', 'Competition', 'M50i',\n",
       "       '428i', '1.5', '750Ld', 'M40d', '730i', '1.5hyb', '528Li', '640d',\n",
       "       '3.0sd', 'Electro', '530Li', '740Ld', 'CS', '525xd', 'M40i',\n",
       "       '330xi', 'M340i', 'M550i', '750d', '35is', '760i', '125i', '130i',\n",
       "       '218i', '5.0', 'xDrive18d', '728i', '620d', 'sDrive18i', '4.8is',\n",
       "       '330d', '430i', '735Li', '4.6is', '323i', 'M135i', '340i', '118d',\n",
       "       'ActiveHybrid', '23d', '2.0', '23i', '545i', '530xd', '440i',\n",
       "       '745Li', '316', 'Active'], dtype=object)"
      ]
     },
     "execution_count": 17,
     "metadata": {},
     "output_type": "execute_result"
    }
   ],
   "source": [
    "df_test.name.apply(lambda x: x[:x.find(' ')]).unique()"
   ]
  },
  {
   "cell_type": "code",
   "execution_count": 18,
   "metadata": {},
   "outputs": [
    {
     "data": {
      "text/plain": [
       "array(['1.5 AT (136 л.с.)', '1.5hyb AT (231 л.с.) 4WD',\n",
       "       '116i 1.6 AT (115 л.с.)', '116i 1.6 AT (136 л.с.)',\n",
       "       '116i 1.6 MT (115 л.с.)', '116i 1.6 MT (122 л.с.)',\n",
       "       '116i 1.6 MT (136 л.с.)', '118d 2.0d MT (122 л.с.)',\n",
       "       '118i 1.5 AT (136 л.с.)', '118i 1.6 AT (136 л.с.)'], dtype=object)"
      ]
     },
     "execution_count": 18,
     "metadata": {},
     "output_type": "execute_result"
    }
   ],
   "source": [
    "df_test.name.sort_values().unique()[:10]"
   ]
  },
  {
   "cell_type": "code",
   "execution_count": 19,
   "metadata": {},
   "outputs": [
    {
     "data": {
      "text/plain": [
       "name                   30d 3.0d AT (249 л.с.) 4WD\n",
       "fuelType                                   дизель\n",
       "engineDisplacement                        3.0 LTR\n",
       "vehicleTransmission                автоматическая\n",
       "enginePower                               249 N12\n",
       "Привод                                     полный\n",
       "Name: 5, dtype: object"
      ]
     },
     "execution_count": 19,
     "metadata": {},
     "output_type": "execute_result"
    }
   ],
   "source": [
    "# pwr = lambda x: x[x.find('(')+1:x.find(')')]\n",
    "# ltr = lambda x: x[:x.find(' ')]\n",
    "# df_test.name.apply(ltr)\n",
    "df_test.loc[5][['name','fuelType','engineDisplacement','vehicleTransmission','enginePower','Привод']]"
   ]
  },
  {
   "cell_type": "markdown",
   "metadata": {},
   "source": [
    "### numberOfDoors"
   ]
  },
  {
   "cell_type": "code",
   "execution_count": 20,
   "metadata": {},
   "outputs": [
    {
     "name": "stdout",
     "output_type": "stream",
     "text": [
      "[4. 5. 3. 2.]\n"
     ]
    },
    {
     "data": {
      "text/plain": [
       "0    4\n",
       "1    4\n",
       "2    4\n",
       "3    5\n",
       "4    5\n",
       "Name: numberOfDoors, dtype: int32"
      ]
     },
     "execution_count": 20,
     "metadata": {},
     "output_type": "execute_result"
    }
   ],
   "source": [
    "print(df_test.numberOfDoors.unique())\n",
    "df_test.numberOfDoors.astype(int)[:5]"
   ]
  },
  {
   "cell_type": "markdown",
   "metadata": {},
   "source": [
    "### productionDate"
   ]
  },
  {
   "cell_type": "code",
   "execution_count": 21,
   "metadata": {},
   "outputs": [
    {
     "data": {
      "text/plain": [
       "array([2017., 2019., 2012., 2015., 2013., 2008., 2011., 2016., 2007.,\n",
       "       2014., 2000., 2009., 2018., 2005., 2003., 2006., 2010., 2002.,\n",
       "       2004., 2001., 1997., 1998., 1999., 1995., 1996., 1993., 1987.,\n",
       "       1984., 1989., 1991., 1988., 1994., 1992., 1981., 1990., 1986.,\n",
       "       1982.])"
      ]
     },
     "execution_count": 21,
     "metadata": {},
     "output_type": "execute_result"
    }
   ],
   "source": [
    "df_test.productionDate.unique()"
   ]
  },
  {
   "cell_type": "code",
   "execution_count": 22,
   "metadata": {},
   "outputs": [
    {
     "data": {
      "text/plain": [
       "array([2017, 2019, 2012, 2015, 2013, 2008, 2011, 2016, 2007, 2014, 2000,\n",
       "       2009, 2018, 2005, 2003, 2006, 2010, 2002, 2004, 2001, 1997, 1998,\n",
       "       1999, 1995, 1996, 1993, 1987, 1984, 1989, 1991, 1988, 1994, 1992,\n",
       "       1981, 1990, 1986, 1982], dtype=int64)"
      ]
     },
     "execution_count": 22,
     "metadata": {},
     "output_type": "execute_result"
    }
   ],
   "source": [
    "df_test.productionDate.astype(int).unique()"
   ]
  },
  {
   "cell_type": "markdown",
   "metadata": {},
   "source": [
    "### vehicleConfiguration"
   ]
  },
  {
   "cell_type": "code",
   "execution_count": 23,
   "metadata": {},
   "outputs": [
    {
     "data": {
      "text/plain": [
       "array(['ALLROAD_5_DOORS AUTOMATIC 1.5', 'ALLROAD_5_DOORS AUTOMATIC 2.0',\n",
       "       'ALLROAD_5_DOORS AUTOMATIC 2.5', 'ALLROAD_5_DOORS AUTOMATIC 2.9',\n",
       "       'ALLROAD_5_DOORS AUTOMATIC 3.0', 'ALLROAD_5_DOORS AUTOMATIC 4.4',\n",
       "       'ALLROAD_5_DOORS AUTOMATIC 4.6', 'ALLROAD_5_DOORS AUTOMATIC 4.8',\n",
       "       'ALLROAD_5_DOORS MECHANICAL 3.0', 'ALLROAD_5_DOORS ROBOT 1.5',\n",
       "       'CABRIO AUTOMATIC 2.0', 'CABRIO AUTOMATIC 2.5',\n",
       "       'CABRIO AUTOMATIC 3.0', 'CABRIO AUTOMATIC 4.4',\n",
       "       'CABRIO MECHANICAL 1.8', 'CABRIO MECHANICAL 2.5',\n",
       "       'CABRIO ROBOT 4.0', 'COMPACTVAN AUTOMATIC 1.5',\n",
       "       'COMPACTVAN ROBOT 1.5', 'COUPE AUTOMATIC 1.5',\n",
       "       'COUPE AUTOMATIC 2.0', 'COUPE AUTOMATIC 2.5',\n",
       "       'COUPE AUTOMATIC 2.8', 'COUPE AUTOMATIC 3.0',\n",
       "       'COUPE AUTOMATIC 4.4', 'COUPE AUTOMATIC 4.8',\n",
       "       'COUPE MECHANICAL 1.6', 'COUPE MECHANICAL 1.8',\n",
       "       'COUPE MECHANICAL 2.0', 'COUPE MECHANICAL 2.5',\n",
       "       'COUPE MECHANICAL 3.0', 'COUPE ROBOT 3.0', 'COUPE ROBOT 4.0',\n",
       "       'COUPE ROBOT 4.4', 'COUPE ROBOT 5.0',\n",
       "       'HATCHBACK_3_DOORS AUTOMATIC 1.6',\n",
       "       'HATCHBACK_3_DOORS AUTOMATIC 1.8',\n",
       "       'HATCHBACK_3_DOORS AUTOMATIC 2.0',\n",
       "       'HATCHBACK_3_DOORS AUTOMATIC 2.5',\n",
       "       'HATCHBACK_3_DOORS MECHANICAL 1.6',\n",
       "       'HATCHBACK_3_DOORS MECHANICAL 1.9',\n",
       "       'HATCHBACK_3_DOORS MECHANICAL 2.0', 'HATCHBACK_5_DOORS AUTOMATIC',\n",
       "       'HATCHBACK_5_DOORS AUTOMATIC 1.5',\n",
       "       'HATCHBACK_5_DOORS AUTOMATIC 1.6',\n",
       "       'HATCHBACK_5_DOORS AUTOMATIC 2.0',\n",
       "       'HATCHBACK_5_DOORS AUTOMATIC 3.0',\n",
       "       'HATCHBACK_5_DOORS MECHANICAL 1.6',\n",
       "       'HATCHBACK_5_DOORS MECHANICAL 2.0',\n",
       "       'HATCHBACK_5_DOORS MECHANICAL 3.0', 'LIFTBACK AUTOMATIC 2.0',\n",
       "       'LIFTBACK AUTOMATIC 3.0', 'LIFTBACK AUTOMATIC 4.4',\n",
       "       'ROADSTER AUTOMATIC 1.5', 'ROADSTER AUTOMATIC 2.0',\n",
       "       'ROADSTER AUTOMATIC 2.2', 'ROADSTER AUTOMATIC 2.5',\n",
       "       'ROADSTER MECHANICAL 2.0', 'ROADSTER ROBOT 3.0',\n",
       "       'SEDAN AUTOMATIC 1.5', 'SEDAN AUTOMATIC 1.6',\n",
       "       'SEDAN AUTOMATIC 1.9', 'SEDAN AUTOMATIC 2.0',\n",
       "       'SEDAN AUTOMATIC 2.2', 'SEDAN AUTOMATIC 2.5',\n",
       "       'SEDAN AUTOMATIC 2.8', 'SEDAN AUTOMATIC 2.9',\n",
       "       'SEDAN AUTOMATIC 3.0', 'SEDAN AUTOMATIC 3.5',\n",
       "       'SEDAN AUTOMATIC 3.6', 'SEDAN AUTOMATIC 4.0',\n",
       "       'SEDAN AUTOMATIC 4.4', 'SEDAN AUTOMATIC 4.8',\n",
       "       'SEDAN AUTOMATIC 5.4', 'SEDAN AUTOMATIC 6.0',\n",
       "       'SEDAN AUTOMATIC 6.6', 'SEDAN MECHANICAL 1.6',\n",
       "       'SEDAN MECHANICAL 1.8', 'SEDAN MECHANICAL 1.9',\n",
       "       'SEDAN MECHANICAL 2.0', 'SEDAN MECHANICAL 2.2',\n",
       "       'SEDAN MECHANICAL 2.5', 'SEDAN MECHANICAL 2.8',\n",
       "       'SEDAN MECHANICAL 3.0', 'SEDAN MECHANICAL 3.4',\n",
       "       'SEDAN MECHANICAL 4.4', 'SEDAN ROBOT 4.4', 'SEDAN ROBOT 5.0',\n",
       "       'SEDAN_2_DOORS MECHANICAL 2.0', 'WAGON_5_DOORS AUTOMATIC 2.0',\n",
       "       'WAGON_5_DOORS AUTOMATIC 2.2', 'WAGON_5_DOORS AUTOMATIC 2.5',\n",
       "       'WAGON_5_DOORS AUTOMATIC 2.8', 'WAGON_5_DOORS AUTOMATIC 3.0',\n",
       "       'WAGON_5_DOORS MECHANICAL 1.6', 'WAGON_5_DOORS MECHANICAL 1.8',\n",
       "       'WAGON_5_DOORS MECHANICAL 2.0', 'WAGON_5_DOORS MECHANICAL 2.2',\n",
       "       'WAGON_5_DOORS MECHANICAL 2.8'], dtype=object)"
      ]
     },
     "execution_count": 23,
     "metadata": {},
     "output_type": "execute_result"
    }
   ],
   "source": [
    "df_test.vehicleConfiguration.sort_values().unique()"
   ]
  },
  {
   "cell_type": "markdown",
   "metadata": {},
   "source": [
    "### vehicleTransmission"
   ]
  },
  {
   "cell_type": "code",
   "execution_count": 24,
   "metadata": {},
   "outputs": [
    {
     "data": {
      "text/plain": [
       "array(['автоматическая', 'механическая', 'роботизированная'], dtype=object)"
      ]
     },
     "execution_count": 24,
     "metadata": {},
     "output_type": "execute_result"
    }
   ],
   "source": [
    "df_test.vehicleTransmission.unique()"
   ]
  },
  {
   "cell_type": "markdown",
   "metadata": {},
   "source": [
    "### engineDisplacement"
   ]
  },
  {
   "cell_type": "code",
   "execution_count": 25,
   "metadata": {},
   "outputs": [
    {
     "data": {
      "text/plain": [
       "(array(['1.5 LTR', '1.6 LTR', '1.8 LTR', '1.9 LTR', '2.0 LTR', '2.2 LTR',\n",
       "        '2.5 LTR', '2.8 LTR', '2.9 LTR', '3.0 LTR', '3.4 LTR', '3.5 LTR',\n",
       "        '3.6 LTR', '4.0 LTR', '4.4 LTR', '4.6 LTR', '4.8 LTR', '5.0 LTR',\n",
       "        '5.4 LTR', '6.0 LTR', '6.6 LTR', 'undefined LTR'], dtype=object),)"
      ]
     },
     "execution_count": 25,
     "metadata": {},
     "output_type": "execute_result"
    }
   ],
   "source": [
    "df_test.engineDisplacement.sort_values().unique(), #df.engineDisplacement.sort_values().unique()"
   ]
  },
  {
   "cell_type": "markdown",
   "metadata": {},
   "source": [
    "### enginePower"
   ]
  },
  {
   "cell_type": "code",
   "execution_count": 26,
   "metadata": {},
   "outputs": [
    {
     "data": {
      "text/plain": [
       "array([ 90, 100, 102, 105, 113, 115, 118, 122, 125, 129, 136, 140, 143,\n",
       "       150, 156, 163, 170, 177, 184, 188, 190, 192, 193, 197, 204, 211,\n",
       "       218, 230, 231, 235, 243, 245, 249, 252, 258, 264, 265, 269, 272,\n",
       "       286, 300, 306, 313, 320, 326, 329, 333, 340, 347, 355, 360, 367,\n",
       "       370, 374, 381, 400, 407, 410, 420, 431, 445, 449, 450, 460, 462,\n",
       "       507, 530, 544, 555, 560, 575, 600, 609, 610, 625], dtype=int64)"
      ]
     },
     "execution_count": 26,
     "metadata": {},
     "output_type": "execute_result"
    }
   ],
   "source": [
    "df_test.enginePower.sort_values().unique()\n",
    "df_test.enginePower.str[:-4].astype(int).sort_values().unique()"
   ]
  },
  {
   "cell_type": "code",
   "execution_count": 27,
   "metadata": {},
   "outputs": [],
   "source": [
    "# df.enginePower.sort_values().unique()"
   ]
  },
  {
   "cell_type": "markdown",
   "metadata": {},
   "source": [
    "### mileage"
   ]
  },
  {
   "cell_type": "code",
   "execution_count": 30,
   "metadata": {},
   "outputs": [
    {
     "data": {
      "text/plain": [
       "(1942, 17403)"
      ]
     },
     "execution_count": 30,
     "metadata": {},
     "output_type": "execute_result"
    }
   ],
   "source": [
    "df_test.mileage.nunique(), df.mileage.nunique()"
   ]
  },
  {
   "cell_type": "markdown",
   "metadata": {},
   "source": [
    "### Комплектация"
   ]
  },
  {
   "cell_type": "code",
   "execution_count": 31,
   "metadata": {},
   "outputs": [
    {
     "data": {
      "text/plain": [
       "3295"
      ]
     },
     "execution_count": 31,
     "metadata": {},
     "output_type": "execute_result"
    }
   ],
   "source": [
    "df_test.Комплектация.nunique()"
   ]
  },
  {
   "cell_type": "markdown",
   "metadata": {},
   "source": [
    "### Привод"
   ]
  },
  {
   "cell_type": "code",
   "execution_count": 32,
   "metadata": {},
   "outputs": [
    {
     "data": {
      "text/plain": [
       "(array(['задний', 'полный', 'передний'], dtype=object),\n",
       " array(['полный', 'передний', 'задний', nan], dtype=object))"
      ]
     },
     "execution_count": 32,
     "metadata": {},
     "output_type": "execute_result"
    }
   ],
   "source": [
    "df_test.Привод.unique(), df.Привод.unique()"
   ]
  },
  {
   "cell_type": "markdown",
   "metadata": {},
   "source": [
    "### Руль"
   ]
  },
  {
   "cell_type": "code",
   "execution_count": null,
   "metadata": {},
   "outputs": [],
   "source": [
    "df_test.Руль.unique(), df_test.Руль.unique()"
   ]
  },
  {
   "cell_type": "markdown",
   "metadata": {},
   "source": [
    "### Состояние"
   ]
  },
  {
   "cell_type": "code",
   "execution_count": null,
   "metadata": {},
   "outputs": [],
   "source": [
    "df_test.Состояние.unique(), df.Состояние.unique()"
   ]
  },
  {
   "cell_type": "markdown",
   "metadata": {},
   "source": [
    "### Владельцы"
   ]
  },
  {
   "cell_type": "code",
   "execution_count": null,
   "metadata": {},
   "outputs": [],
   "source": [
    "df_test.Владельцы.unique(), df.Владельцы.unique()"
   ]
  },
  {
   "cell_type": "markdown",
   "metadata": {},
   "source": [
    "### ПТС"
   ]
  },
  {
   "cell_type": "code",
   "execution_count": null,
   "metadata": {},
   "outputs": [],
   "source": [
    "df_test.ПТС.unique(), df.ПТС.unique()"
   ]
  },
  {
   "cell_type": "markdown",
   "metadata": {},
   "source": [
    "### Таможня"
   ]
  },
  {
   "cell_type": "code",
   "execution_count": null,
   "metadata": {},
   "outputs": [],
   "source": [
    "df_test.Таможня.unique(),df_test.Таможня.unique()"
   ]
  },
  {
   "cell_type": "code",
   "execution_count": null,
   "metadata": {},
   "outputs": [],
   "source": []
  },
  {
   "cell_type": "markdown",
   "metadata": {},
   "source": [
    "### Владение"
   ]
  },
  {
   "cell_type": "code",
   "execution_count": null,
   "metadata": {},
   "outputs": [],
   "source": [
    "df_test.Владение.sort_values().unique()[:10]"
   ]
  },
  {
   "cell_type": "code",
   "execution_count": null,
   "metadata": {},
   "outputs": [],
   "source": [
    "df.Владение.sort_values().unique()[:10]"
   ]
  },
  {
   "cell_type": "code",
   "execution_count": null,
   "metadata": {},
   "outputs": [],
   "source": [
    "import re\n",
    "\n",
    "pattern_yaer = re.compile('\\d+(?= (?:год|лет))')\n",
    "pattern_month = re.compile('\\d+(?= мес)')\n",
    "\n",
    "year = lambda x: int(pattern_yaer.search(x).group(0)) if pattern_yaer.search(x) else 0\n",
    "month = lambda x: int(pattern_month.search(x).group(0)) if pattern_month.search(x) else 0\n",
    "\n",
    "df_test.Владение.apply(lambda x: year(x)*12 + month(x) if x==x else x)[:10]"
   ]
  },
  {
   "cell_type": "markdown",
   "metadata": {},
   "source": [
    "### id"
   ]
  },
  {
   "cell_type": "code",
   "execution_count": 40,
   "metadata": {},
   "outputs": [
    {
     "name": "stdout",
     "output_type": "stream",
     "text": [
      "[   0    1    2 ... 3834 3835 3836]\n"
     ]
    }
   ],
   "source": [
    "print(df_test.id.unique())\n",
    "try: \n",
    "    print(df.id.unique())\n",
    "except:  \n",
    "    pass"
   ]
  },
  {
   "cell_type": "markdown",
   "metadata": {},
   "source": [
    "## ===============================================================\n",
    "\n",
    "## df_test.Комплектация\n"
   ]
  },
  {
   "cell_type": "code",
   "execution_count": 50,
   "metadata": {},
   "outputs": [
    {
     "data": {
      "text/plain": [
       "'[{\"name\":\"Безопасность\",\"values\":[\"Антипробуксовочная система (ASR)\",\"Система стабилизации (ESP)\",\"Подушка безопасности водителя\",\"Крепление детского кресла (задний ряд) ISOFIX\",\"Подушки безопасности оконные (шторки)\",\"Подушка безопасности пассажира\",\"Подушки безопасности боковые задние\",\"Подушки безопасности боковые\",\"Датчик давления в шинах\",\"Антиблокировочная система (ABS)\",\"Блокировка замков задних дверей\",\"Подушка безопасности для защиты коленей водителя\"]},{\"name\":\"Комфорт\",\"values\":[\"Система «старт-стоп»\",\"Электростеклоподъёмники передние\",\"Мультифункциональное рулевое колесо\",\"Прикуриватель и пепельница\",\"Бортовой компьютер\",\"Усилитель руля\",\"Электропривод зеркал\",\"Электростеклоподъёмники задние\",\"Парктроник передний\",\"Регулировка руля по вылету\",\"Климат-контроль 2-зонный\",\"Электроскладывание зеркал\",\"Парктроник задний\"]},{\"name\":\"Мультимедиа\",\"values\":[\"AUX\",\"USB\",\"Аудиосистема\",\"Bluetooth\"]},{\"name\":\"Обзор\",\"values\":[\"Датчик света\",\"Автоматический корректор фар\",\"Омыватель фар\",\"Датчик дождя\",\"Электрообогрев боковых зеркал\",\"Светодиодные фары\"]},{\"name\":\"Салон\",\"values\":[\"Регулировка передних сидений по высоте\",\"Передний центральный подлокотник\",\"Складывающееся заднее сиденье\",\"Электрорегулировка передних сидений\",\"Тёмный салон\",\"Кожа (Материал салона)\",\"Обогрев рулевого колеса\",\"Подогрев передних сидений\",\"Отделка кожей рулевого колеса\"]},{\"name\":\"Защита от угона\",\"values\":[\"Центральный замок\",\"Иммобилайзер\"]}]'"
      ]
     },
     "execution_count": 50,
     "metadata": {},
     "output_type": "execute_result"
    }
   ],
   "source": [
    "df_test.Комплектация[0][2:-2]"
   ]
  },
  {
   "cell_type": "code",
   "execution_count": 55,
   "metadata": {},
   "outputs": [
    {
     "data": {
      "text/plain": [
       "0    [{'name': 'Безопасность', 'values': ['Антипроб...\n",
       "1    [{'name': 'Комфорт', 'values': ['Круиз-контрол...\n",
       "2    [{'name': 'Комфорт', 'values': ['Круиз-контрол...\n",
       "3    [{'name': 'Комфорт', 'values': ['Круиз-контрол...\n",
       "4    [{'name': 'Комфорт', 'values': ['Круиз-контрол...\n",
       "Name: Комплектация, dtype: object"
      ]
     },
     "execution_count": 55,
     "metadata": {},
     "output_type": "execute_result"
    }
   ],
   "source": [
    "new_configuration = df_test.Комплектация.apply(lambda x: json.loads(x[2:-2]) if x != '[]' else [])\n",
    "new_configuration.head()"
   ]
  },
  {
   "cell_type": "code",
   "execution_count": 31,
   "metadata": {},
   "outputs": [
    {
     "data": {
      "text/plain": [
       "{'Безопасность',\n",
       " 'Защита от угона',\n",
       " 'Комфорт',\n",
       " 'Мультимедиа',\n",
       " 'Обзор',\n",
       " 'Прочее',\n",
       " 'Салон',\n",
       " 'Элементы экстерьера'}"
      ]
     },
     "execution_count": 31,
     "metadata": {},
     "output_type": "execute_result"
    }
   ],
   "source": [
    "# lambda configuration: [category['name'] for category in configuration]\n",
    "all_categories = set(new_configuration.apply(lambda configuration: [category['name'] for category in configuration]).sum())\n",
    "all_categories"
   ]
  },
  {
   "cell_type": "code",
   "execution_count": null,
   "metadata": {},
   "outputs": [],
   "source": []
  },
  {
   "cell_type": "code",
   "execution_count": 32,
   "metadata": {},
   "outputs": [
    {
     "data": {
      "text/plain": [
       "[{'name': 'Безопасность',\n",
       "  'values': ['Антипробуксовочная система (ASR)',\n",
       "   'Система стабилизации (ESP)',\n",
       "   'Подушка безопасности водителя',\n",
       "   'Крепление детского кресла (задний ряд) ISOFIX',\n",
       "   'Подушки безопасности оконные (шторки)',\n",
       "   'Подушка безопасности пассажира',\n",
       "   'Подушки безопасности боковые задние',\n",
       "   'Подушки безопасности боковые',\n",
       "   'Датчик давления в шинах',\n",
       "   'Антиблокировочная система (ABS)',\n",
       "   'Блокировка замков задних дверей',\n",
       "   'Подушка безопасности для защиты коленей водителя']},\n",
       " {'name': 'Комфорт',\n",
       "  'values': ['Система «старт-стоп»',\n",
       "   'Электростеклоподъёмники передние',\n",
       "   'Мультифункциональное рулевое колесо',\n",
       "   'Прикуриватель и пепельница',\n",
       "   'Бортовой компьютер',\n",
       "   'Усилитель руля',\n",
       "   'Электропривод зеркал',\n",
       "   'Электростеклоподъёмники задние',\n",
       "   'Парктроник передний',\n",
       "   'Регулировка руля по вылету',\n",
       "   'Климат-контроль 2-зонный',\n",
       "   'Электроскладывание зеркал',\n",
       "   'Парктроник задний']},\n",
       " {'name': 'Мультимедиа',\n",
       "  'values': ['AUX', 'USB', 'Аудиосистема', 'Bluetooth']},\n",
       " {'name': 'Обзор',\n",
       "  'values': ['Датчик света',\n",
       "   'Автоматический корректор фар',\n",
       "   'Омыватель фар',\n",
       "   'Датчик дождя',\n",
       "   'Электрообогрев боковых зеркал',\n",
       "   'Светодиодные фары']},\n",
       " {'name': 'Салон',\n",
       "  'values': ['Регулировка передних сидений по высоте',\n",
       "   'Передний центральный подлокотник',\n",
       "   'Складывающееся заднее сиденье',\n",
       "   'Электрорегулировка передних сидений',\n",
       "   'Тёмный салон',\n",
       "   'Кожа (Материал салона)',\n",
       "   'Обогрев рулевого колеса',\n",
       "   'Подогрев передних сидений',\n",
       "   'Отделка кожей рулевого колеса']},\n",
       " {'name': 'Защита от угона', 'values': ['Центральный замок', 'Иммобилайзер']}]"
      ]
     },
     "execution_count": 32,
     "metadata": {},
     "output_type": "execute_result"
    }
   ],
   "source": [
    "new_configuration[0]"
   ]
  },
  {
   "cell_type": "code",
   "execution_count": null,
   "metadata": {},
   "outputs": [],
   "source": []
  },
  {
   "cell_type": "code",
   "execution_count": null,
   "metadata": {},
   "outputs": [],
   "source": []
  },
  {
   "cell_type": "code",
   "execution_count": null,
   "metadata": {},
   "outputs": [],
   "source": []
  },
  {
   "cell_type": "code",
   "execution_count": 33,
   "metadata": {},
   "outputs": [],
   "source": [
    "def category_separation(category,row):\n",
    "    for cat in row:\n",
    "        if(cat['name'] == category) : \n",
    "            return cat['values']\n",
    "    return []"
   ]
  },
  {
   "cell_type": "code",
   "execution_count": 34,
   "metadata": {},
   "outputs": [
    {
     "data": {
      "text/plain": [
       "0       [Регулировка передних сидений по высоте, Перед...\n",
       "1       [Спортивные передние сиденья, Передний централ...\n",
       "2       [Спортивные передние сиденья, Люк, Подогрев за...\n",
       "3       [Передний центральный подлокотник, Складывающе...\n",
       "4       [Передний центральный подлокотник, Люк, Подогр...\n",
       "5                                                      []\n",
       "6       [Передний центральный подлокотник, Складывающе...\n",
       "7       [Тонированные стекла, Регулировка передних сид...\n",
       "8       [Тонированные стекла, Передний центральный под...\n",
       "9                                                      []\n",
       "10      [Тонированные стекла, Передний центральный под...\n",
       "11                                                     []\n",
       "12      [Тонированные стекла, Регулировка передних сид...\n",
       "13      [Тонированные стекла, Передний центральный под...\n",
       "14      [Передний центральный подлокотник, Кожа (Матер...\n",
       "15      [Электрорегулировка сиденья водителя, Люк, Под...\n",
       "16      [Тонированные стекла, Передний центральный под...\n",
       "17      [Тонированные стекла, Тёмный салон, Кожа (Мате...\n",
       "18      [Тонированные стекла, Люк, Тёмный салон, Панор...\n",
       "19      [Тонированные стекла, Отделка кожей рычага КПП...\n",
       "20                                                     []\n",
       "21      [Передний центральный подлокотник, Складывающе...\n",
       "22      [Спортивные передние сиденья, Регулировка пере...\n",
       "23                                                     []\n",
       "24      [Тонированные стекла, Солнцезащитная шторка на...\n",
       "25                                                     []\n",
       "26      [Тонированные стекла, Передний центральный под...\n",
       "27      [Передний центральный подлокотник, Тёмный сало...\n",
       "28      [Подогрев задних сидений, Кожа (Материал салон...\n",
       "29      [Передний центральный подлокотник, Складывающе...\n",
       "30      [Регулировка передних сидений по высоте, Декор...\n",
       "31      [Тонированные стекла, Передний центральный под...\n",
       "32      [Ткань (Материал салона), Тёмный салон, Регули...\n",
       "33      [Тонированные стекла, Передний центральный под...\n",
       "34      [Спортивные передние сиденья, Передний централ...\n",
       "                              ...                        \n",
       "3802    [Регулировка передних сидений по высоте, Элект...\n",
       "3803                                                   []\n",
       "3804                                                   []\n",
       "3805    [Передний центральный подлокотник, Складывающе...\n",
       "3806    [Тонированные стекла, Передний центральный под...\n",
       "3807    [Искусственная кожа (Материал салона), Спортив...\n",
       "3808    [Тонированные стекла, Регулировка передних сид...\n",
       "3809    [Солнцезащитная шторка на заднем стекле, Перед...\n",
       "3810    [Тонированные стекла, Регулировка сиденья води...\n",
       "3811    [Тонированные стекла, Солнцезащитная шторка на...\n",
       "3812    [Кожа (Материал салона), Регулировка передних ...\n",
       "3813                                                   []\n",
       "3814    [Обогрев рулевого колеса, Подогрев передних си...\n",
       "3815    [Тонированные стекла, Спортивные передние сиде...\n",
       "3816    [Тонированные стекла, Люк, Память передних сид...\n",
       "3817    [Тонированные стекла, Спортивные передние сиде...\n",
       "3818                                                   []\n",
       "3819    [Регулировка передних сидений по высоте, Тёмны...\n",
       "3820        [Тонированные стекла, Кожа (Материал салона)]\n",
       "3821    [Спортивные передние сиденья, Передний централ...\n",
       "3822    [Передний центральный подлокотник, Складывающе...\n",
       "3823                                                   []\n",
       "3824    [Тонированные стекла, Спортивные передние сиде...\n",
       "3825    [Тонированные стекла, Передний центральный под...\n",
       "3826    [Тонированные стекла, Передний центральный под...\n",
       "3827    [Тонированные стекла, Регулировка передних сид...\n",
       "3828    [Тонированные стекла, Люк, Кожа (Материал сало...\n",
       "3829    [Передний центральный подлокотник, Декоративна...\n",
       "3830    [Регулировка передних сидений по высоте, Элект...\n",
       "3831    [Передний центральный подлокотник, Декоративна...\n",
       "3832    [Тонированные стекла, Отделка кожей рычага КПП...\n",
       "3833    [Тонированные стекла, Передний центральный под...\n",
       "3834    [Кожа (Материал салона), Обогрев рулевого коле...\n",
       "3835    [Кожа (Материал салона), Обогрев рулевого коле...\n",
       "3836    [Складывающееся заднее сиденье, Электрорегулир...\n",
       "Name: Комплектация, Length: 3837, dtype: object"
      ]
     },
     "execution_count": 34,
     "metadata": {},
     "output_type": "execute_result"
    }
   ],
   "source": [
    "new_configuration.apply(lambda x: category_separation('Салон',x))"
   ]
  },
  {
   "cell_type": "code",
   "execution_count": 35,
   "metadata": {},
   "outputs": [
    {
     "data": {
      "text/plain": [
       "['Регулировка передних сидений по высоте',\n",
       " 'Передний центральный подлокотник',\n",
       " 'Складывающееся заднее сиденье',\n",
       " 'Электрорегулировка передних сидений',\n",
       " 'Тёмный салон',\n",
       " 'Кожа (Материал салона)',\n",
       " 'Обогрев рулевого колеса',\n",
       " 'Подогрев передних сидений',\n",
       " 'Отделка кожей рулевого колеса']"
      ]
     },
     "execution_count": 35,
     "metadata": {},
     "output_type": "execute_result"
    }
   ],
   "source": [
    "category_separation('Салон',new_configuration[0])"
   ]
  },
  {
   "cell_type": "markdown",
   "metadata": {},
   "source": [
    "## ===============================================================\n",
    "## ===============================================================\n",
    "## df_test.Комплектация"
   ]
  },
  {
   "cell_type": "code",
   "execution_count": 59,
   "metadata": {},
   "outputs": [
    {
     "data": {
      "text/plain": [
       "'[{\"name\":\"Безопасность\",\"values\":[\"Антипробуксовочная система (ASR)\",\"Система стабилизации (ESP)\",\"Подушка безопасности водителя\",\"Крепление детского кресла (задний ряд) ISOFIX\",\"Подушки безопасности оконные (шторки)\",\"Подушка безопасности пассажира\",\"Подушки безопасности боковые задние\",\"Подушки безопасности боковые\",\"Датчик давления в шинах\",\"Антиблокировочная система (ABS)\",\"Блокировка замков задних дверей\",\"Подушка безопасности для защиты коленей водителя\"]},{\"name\":\"Комфорт\",\"values\":[\"Система «старт-стоп»\",\"Электростеклоподъёмники передние\",\"Мультифункциональное рулевое колесо\",\"Прикуриватель и пепельница\",\"Бортовой компьютер\",\"Усилитель руля\",\"Электропривод зеркал\",\"Электростеклоподъёмники задние\",\"Парктроник передний\",\"Регулировка руля по вылету\",\"Климат-контроль 2-зонный\",\"Электроскладывание зеркал\",\"Парктроник задний\"]},{\"name\":\"Мультимедиа\",\"values\":[\"AUX\",\"USB\",\"Аудиосистема\",\"Bluetooth\"]},{\"name\":\"Обзор\",\"values\":[\"Датчик света\",\"Автоматический корректор фар\",\"Омыватель фар\",\"Датчик дождя\",\"Электрообогрев боковых зеркал\",\"Светодиодные фары\"]},{\"name\":\"Салон\",\"values\":[\"Регулировка передних сидений по высоте\",\"Передний центральный подлокотник\",\"Складывающееся заднее сиденье\",\"Электрорегулировка передних сидений\",\"Тёмный салон\",\"Кожа (Материал салона)\",\"Обогрев рулевого колеса\",\"Подогрев передних сидений\",\"Отделка кожей рулевого колеса\"]},{\"name\":\"Защита от угона\",\"values\":[\"Центральный замок\",\"Иммобилайзер\"]}]'"
      ]
     },
     "execution_count": 59,
     "metadata": {},
     "output_type": "execute_result"
    }
   ],
   "source": [
    "df_test.Комплектация[0][2:-2]"
   ]
  },
  {
   "cell_type": "code",
   "execution_count": 61,
   "metadata": {},
   "outputs": [
    {
     "data": {
      "text/plain": [
       "\"{'id': '7825063', 'name': 'Luxury (metallic)', 'available_options': ['cruise-control', 'multi-wheel', 'airbag-passenger', 'lock', 'electro-mirrors', 'mirrors-heat', 'leather', 'seat-memory', 'seat-transformation', 'wheel-power', 'airbag-side', 'abs', 'wheel-leather', 'climate-control-1', 'auto-mirrors', 'esp', 'windcleaner-heat', 'audiopreparation', 'servo', 'electro-window-back', 'hatch', 'park-assist-f', 'rear-seats-heat', 'condition', 'park-assist-r', 'airbag-driver', 'electro-window-front', 'light-sensor', 'passenger-seat-electric', 'alarm', 'paint-metallic', 'ptf', 'rain-sensor', 'audiosystem-cd', 'front-seats-heat', 'wheel-configuration1', 'immo', 'third-rear-headrest']}\""
      ]
     },
     "execution_count": 61,
     "metadata": {},
     "output_type": "execute_result"
    }
   ],
   "source": [
    "# ttt = '[' + df.Комплектация.loc[89350] + ']'\n",
    "ttt = df.Комплектация.loc[89350]\n",
    "ttt.replace(\"'\",'\"\"')"
   ]
  },
  {
   "cell_type": "code",
   "execution_count": 58,
   "metadata": {},
   "outputs": [
    {
     "ename": "JSONDecodeError",
     "evalue": "Expecting property name enclosed in double quotes: line 1 column 3 (char 2)",
     "output_type": "error",
     "traceback": [
      "\u001b[1;31m---------------------------------------------------------------------------\u001b[0m",
      "\u001b[1;31mJSONDecodeError\u001b[0m                           Traceback (most recent call last)",
      "\u001b[1;32m<ipython-input-58-5ae9fc93ee4e>\u001b[0m in \u001b[0;36m<module>\u001b[1;34m()\u001b[0m\n\u001b[1;32m----> 1\u001b[1;33m \u001b[0mjson\u001b[0m\u001b[1;33m.\u001b[0m\u001b[0mloads\u001b[0m\u001b[1;33m(\u001b[0m\u001b[0mttt\u001b[0m\u001b[1;33m)\u001b[0m\u001b[1;33m\u001b[0m\u001b[0m\n\u001b[0m",
      "\u001b[1;32m~\\Anaconda3\\lib\\json\\__init__.py\u001b[0m in \u001b[0;36mloads\u001b[1;34m(s, encoding, cls, object_hook, parse_float, parse_int, parse_constant, object_pairs_hook, **kw)\u001b[0m\n\u001b[0;32m    352\u001b[0m             \u001b[0mparse_int\u001b[0m \u001b[1;32mis\u001b[0m \u001b[1;32mNone\u001b[0m \u001b[1;32mand\u001b[0m \u001b[0mparse_float\u001b[0m \u001b[1;32mis\u001b[0m \u001b[1;32mNone\u001b[0m \u001b[1;32mand\u001b[0m\u001b[1;33m\u001b[0m\u001b[0m\n\u001b[0;32m    353\u001b[0m             parse_constant is None and object_pairs_hook is None and not kw):\n\u001b[1;32m--> 354\u001b[1;33m         \u001b[1;32mreturn\u001b[0m \u001b[0m_default_decoder\u001b[0m\u001b[1;33m.\u001b[0m\u001b[0mdecode\u001b[0m\u001b[1;33m(\u001b[0m\u001b[0ms\u001b[0m\u001b[1;33m)\u001b[0m\u001b[1;33m\u001b[0m\u001b[0m\n\u001b[0m\u001b[0;32m    355\u001b[0m     \u001b[1;32mif\u001b[0m \u001b[0mcls\u001b[0m \u001b[1;32mis\u001b[0m \u001b[1;32mNone\u001b[0m\u001b[1;33m:\u001b[0m\u001b[1;33m\u001b[0m\u001b[0m\n\u001b[0;32m    356\u001b[0m         \u001b[0mcls\u001b[0m \u001b[1;33m=\u001b[0m \u001b[0mJSONDecoder\u001b[0m\u001b[1;33m\u001b[0m\u001b[0m\n",
      "\u001b[1;32m~\\Anaconda3\\lib\\json\\decoder.py\u001b[0m in \u001b[0;36mdecode\u001b[1;34m(self, s, _w)\u001b[0m\n\u001b[0;32m    337\u001b[0m \u001b[1;33m\u001b[0m\u001b[0m\n\u001b[0;32m    338\u001b[0m         \"\"\"\n\u001b[1;32m--> 339\u001b[1;33m         \u001b[0mobj\u001b[0m\u001b[1;33m,\u001b[0m \u001b[0mend\u001b[0m \u001b[1;33m=\u001b[0m \u001b[0mself\u001b[0m\u001b[1;33m.\u001b[0m\u001b[0mraw_decode\u001b[0m\u001b[1;33m(\u001b[0m\u001b[0ms\u001b[0m\u001b[1;33m,\u001b[0m \u001b[0midx\u001b[0m\u001b[1;33m=\u001b[0m\u001b[0m_w\u001b[0m\u001b[1;33m(\u001b[0m\u001b[0ms\u001b[0m\u001b[1;33m,\u001b[0m \u001b[1;36m0\u001b[0m\u001b[1;33m)\u001b[0m\u001b[1;33m.\u001b[0m\u001b[0mend\u001b[0m\u001b[1;33m(\u001b[0m\u001b[1;33m)\u001b[0m\u001b[1;33m)\u001b[0m\u001b[1;33m\u001b[0m\u001b[0m\n\u001b[0m\u001b[0;32m    340\u001b[0m         \u001b[0mend\u001b[0m \u001b[1;33m=\u001b[0m \u001b[0m_w\u001b[0m\u001b[1;33m(\u001b[0m\u001b[0ms\u001b[0m\u001b[1;33m,\u001b[0m \u001b[0mend\u001b[0m\u001b[1;33m)\u001b[0m\u001b[1;33m.\u001b[0m\u001b[0mend\u001b[0m\u001b[1;33m(\u001b[0m\u001b[1;33m)\u001b[0m\u001b[1;33m\u001b[0m\u001b[0m\n\u001b[0;32m    341\u001b[0m         \u001b[1;32mif\u001b[0m \u001b[0mend\u001b[0m \u001b[1;33m!=\u001b[0m \u001b[0mlen\u001b[0m\u001b[1;33m(\u001b[0m\u001b[0ms\u001b[0m\u001b[1;33m)\u001b[0m\u001b[1;33m:\u001b[0m\u001b[1;33m\u001b[0m\u001b[0m\n",
      "\u001b[1;32m~\\Anaconda3\\lib\\json\\decoder.py\u001b[0m in \u001b[0;36mraw_decode\u001b[1;34m(self, s, idx)\u001b[0m\n\u001b[0;32m    353\u001b[0m         \"\"\"\n\u001b[0;32m    354\u001b[0m         \u001b[1;32mtry\u001b[0m\u001b[1;33m:\u001b[0m\u001b[1;33m\u001b[0m\u001b[0m\n\u001b[1;32m--> 355\u001b[1;33m             \u001b[0mobj\u001b[0m\u001b[1;33m,\u001b[0m \u001b[0mend\u001b[0m \u001b[1;33m=\u001b[0m \u001b[0mself\u001b[0m\u001b[1;33m.\u001b[0m\u001b[0mscan_once\u001b[0m\u001b[1;33m(\u001b[0m\u001b[0ms\u001b[0m\u001b[1;33m,\u001b[0m \u001b[0midx\u001b[0m\u001b[1;33m)\u001b[0m\u001b[1;33m\u001b[0m\u001b[0m\n\u001b[0m\u001b[0;32m    356\u001b[0m         \u001b[1;32mexcept\u001b[0m \u001b[0mStopIteration\u001b[0m \u001b[1;32mas\u001b[0m \u001b[0merr\u001b[0m\u001b[1;33m:\u001b[0m\u001b[1;33m\u001b[0m\u001b[0m\n\u001b[0;32m    357\u001b[0m             \u001b[1;32mraise\u001b[0m \u001b[0mJSONDecodeError\u001b[0m\u001b[1;33m(\u001b[0m\u001b[1;34m\"Expecting value\"\u001b[0m\u001b[1;33m,\u001b[0m \u001b[0ms\u001b[0m\u001b[1;33m,\u001b[0m \u001b[0merr\u001b[0m\u001b[1;33m.\u001b[0m\u001b[0mvalue\u001b[0m\u001b[1;33m)\u001b[0m \u001b[1;32mfrom\u001b[0m \u001b[1;32mNone\u001b[0m\u001b[1;33m\u001b[0m\u001b[0m\n",
      "\u001b[1;31mJSONDecodeError\u001b[0m: Expecting property name enclosed in double quotes: line 1 column 3 (char 2)"
     ]
    }
   ],
   "source": [
    "json.loads(ttt)"
   ]
  },
  {
   "cell_type": "code",
   "execution_count": null,
   "metadata": {},
   "outputs": [],
   "source": []
  },
  {
   "cell_type": "code",
   "execution_count": null,
   "metadata": {},
   "outputs": [],
   "source": []
  },
  {
   "cell_type": "code",
   "execution_count": null,
   "metadata": {},
   "outputs": [],
   "source": []
  },
  {
   "cell_type": "code",
   "execution_count": null,
   "metadata": {},
   "outputs": [],
   "source": []
  },
  {
   "cell_type": "code",
   "execution_count": null,
   "metadata": {},
   "outputs": [],
   "source": []
  },
  {
   "cell_type": "markdown",
   "metadata": {},
   "source": [
    "# ПОДВАЛ\n",
    "df = pd.read_csv('./Project_5_data/all_auto_ru_09_09_2020.csv')"
   ]
  },
  {
   "cell_type": "code",
   "execution_count": 33,
   "metadata": {},
   "outputs": [
    {
     "data": {
      "text/plain": [
       "'[\\'[{\"name\":\"Безопасность\",\"values\":[\"Антипробуксовочная система (ASR)\",\"Система стабилизации (ESP)\",\"Подушка безопасности водителя\",\"Крепление детского кресла (задний ряд) ISOFIX\",\"Подушки безопасности оконные (шторки)\",\"Подушка безопасности пассажира\",\"Подушки безопасности боковые задние\",\"Подушки безопасности боковые\",\"Датчик давления в шинах\",\"Антиблокировочная система (ABS)\",\"Блокировка замков задних дверей\",\"Подушка безопасности для защиты коленей водителя\"]},{\"name\":\"Комфорт\",\"values\":[\"Система «старт-стоп»\",\"Электростеклоподъёмники передние\",\"Мультифункциональное рулевое колесо\",\"Прикуриватель и пепельница\",\"Бортовой компьютер\",\"Усилитель руля\",\"Электропривод зеркал\",\"Электростеклоподъёмники задние\",\"Парктроник передний\",\"Регулировка руля по вылету\",\"Климат-контроль 2-зонный\",\"Электроскладывание зеркал\",\"Парктроник задний\"]},{\"name\":\"Мультимедиа\",\"values\":[\"AUX\",\"USB\",\"Аудиосистема\",\"Bluetooth\"]},{\"name\":\"Обзор\",\"values\":[\"Датчик света\",\"Автоматический корректор фар\",\"Омыватель фар\",\"Датчик дождя\",\"Электрообогрев боковых зеркал\",\"Светодиодные фары\"]},{\"name\":\"Салон\",\"values\":[\"Регулировка передних сидений по высоте\",\"Передний центральный подлокотник\",\"Складывающееся заднее сиденье\",\"Электрорегулировка передних сидений\",\"Тёмный салон\",\"Кожа (Материал салона)\",\"Обогрев рулевого колеса\",\"Подогрев передних сидений\",\"Отделка кожей рулевого колеса\"]},{\"name\":\"Защита от угона\",\"values\":[\"Центральный замок\",\"Иммобилайзер\"]}]\\']'"
      ]
     },
     "execution_count": 33,
     "metadata": {},
     "output_type": "execute_result"
    }
   ],
   "source": [
    "tt = df_test.Комплектация[0]\n",
    "tt"
   ]
  },
  {
   "cell_type": "code",
   "execution_count": 36,
   "metadata": {},
   "outputs": [
    {
     "data": {
      "text/plain": [
       "'[\\'[{\"name\":\"Безопасность\",\"values\":[\"Антипробуксовочная система (ASR)\",\"Система стабилизации (ESP)\",\"Подушка безопасности водителя\",\"Крепление детского кресла (задний ряд) ISOFIX\",\"Подушки безопасности оконные (шторки)\",\"Подушка безопасности пассажира\",\"Подушки безопасности боковые задние\",\"Подушки безопасности боковые\",\"Датчик давления в шинах\",\"Антиблокировочная система (ABS)\",\"Блокировка замков задних дверей\",\"Подушка безопасности для защиты коленей водителя\"]},{\"name\":\"Комфорт\",\"values\":[\"Система «старт-стоп»\",\"Электростеклоподъёмники передние\",\"Мультифункциональное рулевое колесо\",\"Прикуриватель и пепельница\",\"Бортовой компьютер\",\"Усилитель руля\",\"Электропривод зеркал\",\"Электростеклоподъёмники задние\",\"Парктроник передний\",\"Регулировка руля по вылету\",\"Климат-контроль 2-зонный\",\"Электроскладывание зеркал\",\"Парктроник задний\"]},{\"name\":\"Мультимедиа\",\"values\":[\"AUX\",\"USB\",\"Аудиосистема\",\"Bluetooth\"]},{\"name\":\"Обзор\",\"values\":[\"Датчик света\",\"Автоматический корректор фар\",\"Омыватель фар\",\"Датчик дождя\",\"Электрообогрев боковых зеркал\",\"Светодиодные фары\"]},{\"name\":\"Салон\",\"values\":[\"Регулировка передних сидений по высоте\",\"Передний центральный подлокотник\",\"Складывающееся заднее сиденье\",\"Электрорегулировка передних сидений\",\"Тёмный салон\",\"Кожа (Материал салона)\",\"Обогрев рулевого колеса\",\"Подогрев передних сидений\",\"Отделка кожей рулевого колеса\"]},{\"name\":\"Защита от угона\",\"values\":[\"Центральный замок\",\"Иммобилайзер\"]}]\\']'"
      ]
     },
     "execution_count": 36,
     "metadata": {},
     "output_type": "execute_result"
    }
   ],
   "source": [
    "tt"
   ]
  },
  {
   "cell_type": "code",
   "execution_count": null,
   "metadata": {},
   "outputs": [],
   "source": []
  },
  {
   "cell_type": "code",
   "execution_count": 17,
   "metadata": {},
   "outputs": [
    {
     "data": {
      "text/plain": [
       "'0.23.0'"
      ]
     },
     "execution_count": 17,
     "metadata": {},
     "output_type": "execute_result"
    }
   ],
   "source": [
    "pd.__version__"
   ]
  },
  {
   "cell_type": "code",
   "execution_count": 16,
   "metadata": {},
   "outputs": [
    {
     "data": {
      "text/plain": [
       "'1.14.3'"
      ]
     },
     "execution_count": 16,
     "metadata": {},
     "output_type": "execute_result"
    }
   ],
   "source": [
    "np.__version__"
   ]
  },
  {
   "cell_type": "markdown",
   "metadata": {},
   "source": [
    "https://www.youtube.com/watch?v=cQPcEZoxvi0  \n",
    "http://jsonviewer.stack.hu/  \n",
    "https://www.youtube.com/watch?v=ykjBVT57r68  \n",
    "https://pythonru.com/biblioteki/kratkoe-rukovodstvo-po-biblioteke-python-requests  \n"
   ]
  },
  {
   "cell_type": "code",
   "execution_count": 24,
   "metadata": {},
   "outputs": [],
   "source": [
    "df = pd.read_csv('./Project_5_data/all_auto_ru_09_09_2020.csv')"
   ]
  },
  {
   "cell_type": "code",
   "execution_count": 25,
   "metadata": {},
   "outputs": [
    {
     "name": "stdout",
     "output_type": "stream",
     "text": [
      "<class 'pandas.core.frame.DataFrame'>\n",
      "RangeIndex: 89378 entries, 0 to 89377\n",
      "Data columns (total 26 columns):\n",
      "bodyType                89377 non-null object\n",
      "brand                   89378 non-null object\n",
      "color                   89378 non-null object\n",
      "fuelType                89378 non-null object\n",
      "modelDate               89377 non-null float64\n",
      "name                    89377 non-null object\n",
      "numberOfDoors           89377 non-null float64\n",
      "productionDate          89378 non-null int64\n",
      "vehicleConfiguration    89377 non-null object\n",
      "vehicleTransmission     89377 non-null object\n",
      "engineDisplacement      89377 non-null object\n",
      "enginePower             89377 non-null float64\n",
      "description             86124 non-null object\n",
      "mileage                 89378 non-null int64\n",
      "Комплектация            89378 non-null object\n",
      "Привод                  89377 non-null object\n",
      "Руль                    89378 non-null object\n",
      "Состояние               0 non-null float64\n",
      "Владельцы               75790 non-null float64\n",
      "ПТС                     89017 non-null object\n",
      "Таможня                 89378 non-null bool\n",
      "Владение                29201 non-null object\n",
      "price                   88968 non-null float64\n",
      "start_date              89378 non-null object\n",
      "hidden                  0 non-null float64\n",
      "model                   89378 non-null object\n",
      "dtypes: bool(1), float64(7), int64(2), object(16)\n",
      "memory usage: 17.1+ MB\n"
     ]
    }
   ],
   "source": [
    "df.info()"
   ]
  },
  {
   "cell_type": "code",
   "execution_count": 54,
   "metadata": {},
   "outputs": [
    {
     "name": "stdout",
     "output_type": "stream",
     "text": [
      "<class 'pandas.core.frame.DataFrame'>\n",
      "Int64Index: 7393 entries, 4084 to 11476\n",
      "Data columns (total 26 columns):\n",
      "bodyType                7393 non-null object\n",
      "brand                   7393 non-null object\n",
      "color                   7393 non-null object\n",
      "fuelType                7393 non-null object\n",
      "modelDate               7393 non-null float64\n",
      "name                    7393 non-null object\n",
      "numberOfDoors           7393 non-null float64\n",
      "productionDate          7393 non-null int64\n",
      "vehicleConfiguration    7393 non-null object\n",
      "vehicleTransmission     7393 non-null object\n",
      "engineDisplacement      7393 non-null object\n",
      "enginePower             7393 non-null float64\n",
      "description             7216 non-null object\n",
      "mileage                 7393 non-null int64\n",
      "Комплектация            7393 non-null object\n",
      "Привод                  7393 non-null object\n",
      "Руль                    7393 non-null object\n",
      "Состояние               0 non-null float64\n",
      "Владельцы               5109 non-null float64\n",
      "ПТС                     7293 non-null object\n",
      "Таможня                 7393 non-null bool\n",
      "Владение                1953 non-null object\n",
      "price                   7365 non-null float64\n",
      "start_date              7393 non-null object\n",
      "hidden                  0 non-null float64\n",
      "model                   7393 non-null object\n",
      "dtypes: bool(1), float64(7), int64(2), object(16)\n",
      "memory usage: 1.5+ MB\n"
     ]
    }
   ],
   "source": [
    "df[df.brand == 'BMW'].info()"
   ]
  },
  {
   "cell_type": "code",
   "execution_count": null,
   "metadata": {},
   "outputs": [],
   "source": [
    "from tqdm.notebook import tqdm\n",
    "from joblib import Parallel, delayed\n",
    "image_urls = Parallel(n_jobs = 5)(delayed(link_to_images)(link) for link in tqdm(list(links)))"
   ]
  },
  {
   "cell_type": "markdown",
   "metadata": {},
   "source": [
    "![](https://files.slack.com/files-pri/TV73V5ZRT-F01DX5HQ3C3/image.png)\n",
    "Синтаксис распараллеливания в целом такой\n",
    "```python\n",
    "result = [delayed(func)(x) for x in arr]\n",
    "```"
   ]
  },
  {
   "cell_type": "code",
   "execution_count": 27,
   "metadata": {},
   "outputs": [
    {
     "data": {
      "text/plain": [
       "nan"
      ]
     },
     "execution_count": 27,
     "metadata": {},
     "output_type": "execute_result"
    }
   ],
   "source": [
    "import re\n",
    "\n",
    "pattern_yaer = re.compile('\\d+(?= (?:год|лет))')\n",
    "pattern_month = re.compile('\\d+(?= мес)')\n",
    "\n",
    "year = lambda x: int(pattern_yaer.search(x).group(0)) if pattern_yaer.search(x) else 0\n",
    "month = lambda x: int(pattern_month.search(x).group(0)) if pattern_month.search(x) else 0\n",
    "\n",
    "\n",
    "\n",
    "months_count = lambda x: year(x)*12 + month(x) if x==x else x\n",
    "\n",
    "months_count(df_test.Владение[0])"
   ]
  },
  {
   "cell_type": "code",
   "execution_count": null,
   "metadata": {},
   "outputs": [],
   "source": []
  },
  {
   "cell_type": "code",
   "execution_count": 6,
   "metadata": {},
   "outputs": [],
   "source": [
    "# df = pd.read_csv('./Project_5_data/all_auto_ru_09_09_2020.csv')"
   ]
  },
  {
   "cell_type": "code",
   "execution_count": null,
   "metadata": {},
   "outputs": [],
   "source": []
  }
 ],
 "metadata": {
  "kernelspec": {
   "display_name": "Python 3",
   "language": "python",
   "name": "python3"
  },
  "language_info": {
   "codemirror_mode": {
    "name": "ipython",
    "version": 3
   },
   "file_extension": ".py",
   "mimetype": "text/x-python",
   "name": "python",
   "nbconvert_exporter": "python",
   "pygments_lexer": "ipython3",
   "version": "3.6.5"
  }
 },
 "nbformat": 4,
 "nbformat_minor": 2
}
