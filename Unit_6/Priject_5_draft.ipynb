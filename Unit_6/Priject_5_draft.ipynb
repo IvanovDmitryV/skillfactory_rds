{
 "cells": [
  {
   "cell_type": "markdown",
   "metadata": {},
   "source": [
    "# Описание задачи\n",
    "## В задачи пректа входит:\n",
    "Обработка предоставленных данных: нахождение и заполнение пропусков, кодировка, нормализация признаков;\n",
    "Создание новых признаков с использованием предоставленных данных;\n",
    "Отбор признаков;\n",
    "Обучение и тестирование модели на полученных признаках;\n",
    "Оптимизация размера набора данных и подбор макропараметров модели на оптимизированном наборе;\n",
    "Получение предсказанных моделью значений, подготовка и отправка submission\n",
    "## Описание датасета\n",
    "Первоначальная версия датасета состоит из 14-ти столбцов, содержащих следующую информацию:\n",
    "\n",
    "client_id - идентификатор клиента\n",
    "education - уровень образования\n",
    "sex - пол заёмщика\n",
    "age - возраст заёмщика\n",
    "car - флаг наличия автомобиля\n",
    "car_type - флаг автомобиля-иномарки\n",
    "decline_app_cnt - количество отказанных прошлых заявок\n",
    "good_work - флаг наличия «хорошей» работы\n",
    "bki_request_cnt - количество запросов в БКИ\n",
    "home_address - категоризатор домашнего адреса\n",
    "work_address - категоризатор рабочего адреса\n",
    "income - доход заёмщика\n",
    "foreign_passport - наличие загранпаспорта\n",
    "sna - связь заемщика с клиентами банка\n",
    "first_time - давность наличия информации о заемщике\n",
    "score_bki - скоринговый балл по данным из БКИ\n",
    "region_rating - рейтинг региона\n",
    "app_date - дата подачи заявки\n",
    "default - наличие дефолта (целевая переменная)\n",
    "# Импорт библиотек, установка параметров, определение функций\n",
    "## Импорт бибилиотек"
   ]
  },
  {
   "cell_type": "code",
   "execution_count": 1,
   "metadata": {},
   "outputs": [],
   "source": [
    "import pandas as pd\n",
    "import numpy as np\n",
    "import json \n",
    "from pprint import pprint"
   ]
  },
  {
   "cell_type": "markdown",
   "metadata": {},
   "source": [
    "## Установка параметров"
   ]
  },
  {
   "cell_type": "code",
   "execution_count": 2,
   "metadata": {},
   "outputs": [
    {
     "name": "stdout",
     "output_type": "stream",
     "text": [
      "Populating the interactive namespace from numpy and matplotlib\n"
     ]
    }
   ],
   "source": [
    "%pylab inline\n",
    "\n",
    "pd.set_option('display.max_rows', 70) # выведем больше строк\n",
    "pd.set_option('display.max_columns', 30) # выведем больше колонок"
   ]
  },
  {
   "cell_type": "markdown",
   "metadata": {},
   "source": [
    "## Определение функций"
   ]
  },
  {
   "cell_type": "markdown",
   "metadata": {},
   "source": [
    "# Получение данных"
   ]
  },
  {
   "cell_type": "code",
   "execution_count": 3,
   "metadata": {},
   "outputs": [],
   "source": [
    "df_test = pd.read_csv('./Project_5_data/test.csv')"
   ]
  },
  {
   "cell_type": "code",
   "execution_count": 4,
   "metadata": {},
   "outputs": [
    {
     "data": {
      "text/html": [
       "<div>\n",
       "<style scoped>\n",
       "    .dataframe tbody tr th:only-of-type {\n",
       "        vertical-align: middle;\n",
       "    }\n",
       "\n",
       "    .dataframe tbody tr th {\n",
       "        vertical-align: top;\n",
       "    }\n",
       "\n",
       "    .dataframe thead th {\n",
       "        text-align: right;\n",
       "    }\n",
       "</style>\n",
       "<table border=\"1\" class=\"dataframe\">\n",
       "  <thead>\n",
       "    <tr style=\"text-align: right;\">\n",
       "      <th></th>\n",
       "      <th>bodyType</th>\n",
       "      <th>brand</th>\n",
       "      <th>color</th>\n",
       "      <th>fuelType</th>\n",
       "      <th>modelDate</th>\n",
       "      <th>name</th>\n",
       "      <th>numberOfDoors</th>\n",
       "      <th>productionDate</th>\n",
       "      <th>vehicleConfiguration</th>\n",
       "      <th>vehicleTransmission</th>\n",
       "      <th>engineDisplacement</th>\n",
       "      <th>enginePower</th>\n",
       "      <th>description</th>\n",
       "      <th>mileage</th>\n",
       "      <th>Комплектация</th>\n",
       "      <th>Привод</th>\n",
       "      <th>Руль</th>\n",
       "      <th>Состояние</th>\n",
       "      <th>Владельцы</th>\n",
       "      <th>ПТС</th>\n",
       "      <th>Таможня</th>\n",
       "      <th>Владение</th>\n",
       "      <th>id</th>\n",
       "    </tr>\n",
       "  </thead>\n",
       "  <tbody>\n",
       "    <tr>\n",
       "      <th>0</th>\n",
       "      <td>седан</td>\n",
       "      <td>BMW</td>\n",
       "      <td>чёрный</td>\n",
       "      <td>дизель</td>\n",
       "      <td>2016.0</td>\n",
       "      <td>520d 2.0d AT (190 л.с.)</td>\n",
       "      <td>4.0</td>\n",
       "      <td>2017.0</td>\n",
       "      <td>SEDAN AUTOMATIC 2.0</td>\n",
       "      <td>автоматическая</td>\n",
       "      <td>2.0 LTR</td>\n",
       "      <td>190 N12</td>\n",
       "      <td>В РОЛЬФ Ясенево представлено более 500 автомоб...</td>\n",
       "      <td>158836.0</td>\n",
       "      <td>['[{\"name\":\"Безопасность\",\"values\":[\"Антипробу...</td>\n",
       "      <td>задний</td>\n",
       "      <td>Левый</td>\n",
       "      <td>Не требует ремонта</td>\n",
       "      <td>1 владелец</td>\n",
       "      <td>Оригинал</td>\n",
       "      <td>Растаможен</td>\n",
       "      <td>NaN</td>\n",
       "      <td>0</td>\n",
       "    </tr>\n",
       "    <tr>\n",
       "      <th>1</th>\n",
       "      <td>седан</td>\n",
       "      <td>BMW</td>\n",
       "      <td>белый</td>\n",
       "      <td>дизель</td>\n",
       "      <td>2018.0</td>\n",
       "      <td>318d 2.0d AT (150 л.с.)</td>\n",
       "      <td>4.0</td>\n",
       "      <td>2019.0</td>\n",
       "      <td>SEDAN AUTOMATIC 2.0</td>\n",
       "      <td>автоматическая</td>\n",
       "      <td>2.0 LTR</td>\n",
       "      <td>150 N12</td>\n",
       "      <td>Автомобиль из демонстрационного парка по спец ...</td>\n",
       "      <td>10.0</td>\n",
       "      <td>['[{\"name\":\"Комфорт\",\"values\":[\"Круиз-контроль...</td>\n",
       "      <td>задний</td>\n",
       "      <td>Левый</td>\n",
       "      <td>Не требует ремонта</td>\n",
       "      <td>1 владелец</td>\n",
       "      <td>Оригинал</td>\n",
       "      <td>Растаможен</td>\n",
       "      <td>NaN</td>\n",
       "      <td>1</td>\n",
       "    </tr>\n",
       "    <tr>\n",
       "      <th>2</th>\n",
       "      <td>седан</td>\n",
       "      <td>BMW</td>\n",
       "      <td>синий</td>\n",
       "      <td>бензин</td>\n",
       "      <td>2009.0</td>\n",
       "      <td>550i xDrive 4.4 AT (407 л.с.) 4WD</td>\n",
       "      <td>4.0</td>\n",
       "      <td>2012.0</td>\n",
       "      <td>SEDAN AUTOMATIC 4.4</td>\n",
       "      <td>автоматическая</td>\n",
       "      <td>4.4 LTR</td>\n",
       "      <td>407 N12</td>\n",
       "      <td>Машина собиралась под заказ! \\n\\n</td>\n",
       "      <td>120000.0</td>\n",
       "      <td>['[{\"name\":\"Комфорт\",\"values\":[\"Круиз-контроль...</td>\n",
       "      <td>полный</td>\n",
       "      <td>Левый</td>\n",
       "      <td>Не требует ремонта</td>\n",
       "      <td>2 владельца</td>\n",
       "      <td>Оригинал</td>\n",
       "      <td>Растаможен</td>\n",
       "      <td>7 лет и 2 месяца</td>\n",
       "      <td>2</td>\n",
       "    </tr>\n",
       "    <tr>\n",
       "      <th>3</th>\n",
       "      <td>внедорожник 5 дв.</td>\n",
       "      <td>BMW</td>\n",
       "      <td>белый</td>\n",
       "      <td>дизель</td>\n",
       "      <td>2014.0</td>\n",
       "      <td>30d 3.0d AT (249 л.с.) 4WD</td>\n",
       "      <td>5.0</td>\n",
       "      <td>2015.0</td>\n",
       "      <td>ALLROAD_5_DOORS AUTOMATIC 3.0</td>\n",
       "      <td>автоматическая</td>\n",
       "      <td>3.0 LTR</td>\n",
       "      <td>249 N12</td>\n",
       "      <td>АВТОМОБИЛЬ В БЕЗУПРЕЧНОМ ВНЕШНЕМ И ТЕХНИЧЕСКОМ...</td>\n",
       "      <td>111466.0</td>\n",
       "      <td>['[{\"name\":\"Комфорт\",\"values\":[\"Круиз-контроль...</td>\n",
       "      <td>полный</td>\n",
       "      <td>Левый</td>\n",
       "      <td>Не требует ремонта</td>\n",
       "      <td>2 владельца</td>\n",
       "      <td>Оригинал</td>\n",
       "      <td>Растаможен</td>\n",
       "      <td>NaN</td>\n",
       "      <td>3</td>\n",
       "    </tr>\n",
       "    <tr>\n",
       "      <th>4</th>\n",
       "      <td>внедорожник 5 дв.</td>\n",
       "      <td>BMW</td>\n",
       "      <td>синий</td>\n",
       "      <td>дизель</td>\n",
       "      <td>2014.0</td>\n",
       "      <td>M50d 3.0d AT (381 л.с.) 4WD</td>\n",
       "      <td>5.0</td>\n",
       "      <td>2019.0</td>\n",
       "      <td>ALLROAD_5_DOORS AUTOMATIC 3.0</td>\n",
       "      <td>автоматическая</td>\n",
       "      <td>3.0 LTR</td>\n",
       "      <td>381 N12</td>\n",
       "      <td>Автомобиль не имеет собственников ( физ. лиц) ...</td>\n",
       "      <td>11891.0</td>\n",
       "      <td>['[{\"name\":\"Комфорт\",\"values\":[\"Круиз-контроль...</td>\n",
       "      <td>полный</td>\n",
       "      <td>Левый</td>\n",
       "      <td>Не требует ремонта</td>\n",
       "      <td>1 владелец</td>\n",
       "      <td>Оригинал</td>\n",
       "      <td>Растаможен</td>\n",
       "      <td>NaN</td>\n",
       "      <td>4</td>\n",
       "    </tr>\n",
       "  </tbody>\n",
       "</table>\n",
       "</div>"
      ],
      "text/plain": [
       "            bodyType brand   color fuelType  modelDate  \\\n",
       "0              седан   BMW  чёрный   дизель     2016.0   \n",
       "1              седан   BMW   белый   дизель     2018.0   \n",
       "2              седан   BMW   синий   бензин     2009.0   \n",
       "3  внедорожник 5 дв.   BMW   белый   дизель     2014.0   \n",
       "4  внедорожник 5 дв.   BMW   синий   дизель     2014.0   \n",
       "\n",
       "                                name  numberOfDoors  productionDate  \\\n",
       "0            520d 2.0d AT (190 л.с.)            4.0          2017.0   \n",
       "1            318d 2.0d AT (150 л.с.)            4.0          2019.0   \n",
       "2  550i xDrive 4.4 AT (407 л.с.) 4WD            4.0          2012.0   \n",
       "3         30d 3.0d AT (249 л.с.) 4WD            5.0          2015.0   \n",
       "4        M50d 3.0d AT (381 л.с.) 4WD            5.0          2019.0   \n",
       "\n",
       "            vehicleConfiguration vehicleTransmission engineDisplacement  \\\n",
       "0            SEDAN AUTOMATIC 2.0      автоматическая            2.0 LTR   \n",
       "1            SEDAN AUTOMATIC 2.0      автоматическая            2.0 LTR   \n",
       "2            SEDAN AUTOMATIC 4.4      автоматическая            4.4 LTR   \n",
       "3  ALLROAD_5_DOORS AUTOMATIC 3.0      автоматическая            3.0 LTR   \n",
       "4  ALLROAD_5_DOORS AUTOMATIC 3.0      автоматическая            3.0 LTR   \n",
       "\n",
       "  enginePower                                        description   mileage  \\\n",
       "0     190 N12  В РОЛЬФ Ясенево представлено более 500 автомоб...  158836.0   \n",
       "1     150 N12  Автомобиль из демонстрационного парка по спец ...      10.0   \n",
       "2     407 N12                  Машина собиралась под заказ! \\n\\n  120000.0   \n",
       "3     249 N12  АВТОМОБИЛЬ В БЕЗУПРЕЧНОМ ВНЕШНЕМ И ТЕХНИЧЕСКОМ...  111466.0   \n",
       "4     381 N12  Автомобиль не имеет собственников ( физ. лиц) ...   11891.0   \n",
       "\n",
       "                                        Комплектация  Привод   Руль  \\\n",
       "0  ['[{\"name\":\"Безопасность\",\"values\":[\"Антипробу...  задний  Левый   \n",
       "1  ['[{\"name\":\"Комфорт\",\"values\":[\"Круиз-контроль...  задний  Левый   \n",
       "2  ['[{\"name\":\"Комфорт\",\"values\":[\"Круиз-контроль...  полный  Левый   \n",
       "3  ['[{\"name\":\"Комфорт\",\"values\":[\"Круиз-контроль...  полный  Левый   \n",
       "4  ['[{\"name\":\"Комфорт\",\"values\":[\"Круиз-контроль...  полный  Левый   \n",
       "\n",
       "            Состояние    Владельцы       ПТС     Таможня          Владение  id  \n",
       "0  Не требует ремонта   1 владелец  Оригинал  Растаможен               NaN   0  \n",
       "1  Не требует ремонта   1 владелец  Оригинал  Растаможен               NaN   1  \n",
       "2  Не требует ремонта  2 владельца  Оригинал  Растаможен  7 лет и 2 месяца   2  \n",
       "3  Не требует ремонта  2 владельца  Оригинал  Растаможен               NaN   3  \n",
       "4  Не требует ремонта   1 владелец  Оригинал  Растаможен               NaN   4  "
      ]
     },
     "execution_count": 4,
     "metadata": {},
     "output_type": "execute_result"
    }
   ],
   "source": [
    "df_test.head()"
   ]
  },
  {
   "cell_type": "code",
   "execution_count": 5,
   "metadata": {},
   "outputs": [
    {
     "data": {
      "text/plain": [
       "Index(['bodyType', 'brand', 'color', 'fuelType', 'modelDate', 'name',\n",
       "       'numberOfDoors', 'productionDate', 'vehicleConfiguration',\n",
       "       'vehicleTransmission', 'engineDisplacement', 'enginePower',\n",
       "       'description', 'mileage', 'Комплектация', 'Привод', 'Руль', 'Состояние',\n",
       "       'Владельцы', 'ПТС', 'Таможня', 'Владение', 'id'],\n",
       "      dtype='object')"
      ]
     },
     "execution_count": 5,
     "metadata": {},
     "output_type": "execute_result"
    }
   ],
   "source": [
    "df_test.columns"
   ]
  },
  {
   "cell_type": "code",
   "execution_count": null,
   "metadata": {},
   "outputs": [],
   "source": []
  },
  {
   "cell_type": "code",
   "execution_count": 6,
   "metadata": {},
   "outputs": [
    {
     "data": {
      "text/plain": [
       "array(['седан', 'внедорожник 5 дв.', 'хэтчбек 3 дв.', 'хэтчбек 5 дв.',\n",
       "       'купе', 'родстер', 'лифтбек', 'универсал 5 дв.', 'кабриолет',\n",
       "       'седан 2 дв.', 'компактвэн'], dtype=object)"
      ]
     },
     "execution_count": 6,
     "metadata": {},
     "output_type": "execute_result"
    }
   ],
   "source": [
    "df_test.bodyType.unique()"
   ]
  },
  {
   "cell_type": "code",
   "execution_count": 7,
   "metadata": {},
   "outputs": [
    {
     "data": {
      "text/plain": [
       "array(['BMW'], dtype=object)"
      ]
     },
     "execution_count": 7,
     "metadata": {},
     "output_type": "execute_result"
    }
   ],
   "source": [
    "df_test.brand.unique()"
   ]
  },
  {
   "cell_type": "code",
   "execution_count": 8,
   "metadata": {},
   "outputs": [
    {
     "data": {
      "text/plain": [
       "array(['чёрный', 'белый', 'синий', 'коричневый', 'красный', 'серый',\n",
       "       'бежевый', 'серебристый', 'золотистый', 'оранжевый', 'голубой',\n",
       "       'пурпурный', 'жёлтый', 'зелёный', 'фиолетовый'], dtype=object)"
      ]
     },
     "execution_count": 8,
     "metadata": {},
     "output_type": "execute_result"
    }
   ],
   "source": [
    "df_test.color.unique()"
   ]
  },
  {
   "cell_type": "code",
   "execution_count": 9,
   "metadata": {},
   "outputs": [
    {
     "data": {
      "text/plain": [
       "array(['дизель', 'бензин', 'гибрид', 'электро'], dtype=object)"
      ]
     },
     "execution_count": 9,
     "metadata": {},
     "output_type": "execute_result"
    }
   ],
   "source": [
    "df_test.fuelType.unique()"
   ]
  },
  {
   "cell_type": "code",
   "execution_count": 10,
   "metadata": {},
   "outputs": [
    {
     "data": {
      "text/plain": [
       "array([2016., 2018., 2009., 2014., 2013., 2010., 2006., 2011., 2007.,\n",
       "       2005., 2008., 2000., 2012., 2015., 2017., 2002., 2001., 1999.,\n",
       "       2003., 1998., 2019., 1990., 1995., 2004., 1987., 1981., 1994.,\n",
       "       1986., 1982., 1975., 1977.])"
      ]
     },
     "execution_count": 10,
     "metadata": {},
     "output_type": "execute_result"
    }
   ],
   "source": [
    "df_test.modelDate.unique()"
   ]
  },
  {
   "cell_type": "code",
   "execution_count": 11,
   "metadata": {},
   "outputs": [
    {
     "data": {
      "text/plain": [
       "array(['1.5 AT (136 л.с.)', '1.5hyb AT (231 л.с.) 4WD',\n",
       "       '116i 1.6 AT (115 л.с.)', '116i 1.6 AT (136 л.с.)',\n",
       "       '116i 1.6 MT (115 л.с.)', '116i 1.6 MT (122 л.с.)',\n",
       "       '116i 1.6 MT (136 л.с.)', '118d 2.0d MT (122 л.с.)',\n",
       "       '118i 1.5 AT (136 л.с.)', '118i 1.6 AT (136 л.с.)',\n",
       "       '118i 1.6 AT (170 л.с.)', '118i 1.6 MT (170 л.с.)',\n",
       "       '118i 2.0 AT (129 л.с.)', '118i 2.0 AT (136 л.с.)',\n",
       "       '120d 2.0d AT (163 л.с.)', '120d 2.0d AT (177 л.с.)',\n",
       "       '120d 2.0d AT (184 л.с.)', '120d 2.0d AT (190 л.с.)',\n",
       "       '120d 2.0d MT (177 л.с.)', '120d 2.0d MT (184 л.с.) 4WD',\n",
       "       '120d xDrive 2.0d AT (190 л.с.) 4WD', '120i 2.0 AT (150 л.с.)',\n",
       "       '120i 2.0 AT (156 л.с.)', '120i 2.0 MT (156 л.с.)',\n",
       "       '125i 3.0 AT (218 л.с.)', '130i 3.0 AT (265 л.с.)',\n",
       "       '130i 3.0 MT (265 л.с.)', '135i 3.0 AT (306 л.с.)',\n",
       "       '18d xDrive 2.0d AT (150 л.с.) 4WD', '18i 2.0 AT (150 л.с.)',\n",
       "       '18i sDrive 1.5 AMT (140 л.с.)', '18i sDrive 1.5 AT (136 л.с.)',\n",
       "       '2.0 MT (150 л.с.)', '2.2 AT (170 л.с.)',\n",
       "       '20d 2.0d AT (177 л.с.) 4WD', '20d 2.0d AT (184 л.с.) 4WD',\n",
       "       '20d 2.0d AT (190 л.с.) 4WD', '20d xDrive 2.0d AT (184 л.с.) 4WD',\n",
       "       '20d xDrive 2.0d AT (190 л.с.) 4WD', '20i 2.0 AT (184 л.с.)',\n",
       "       '20i 2.0 AT (184 л.с.) 4WD', '20i 2.0 MT (184 л.с.)',\n",
       "       '20i sDrive 2.0 AT (192 л.с.)', '20i xDrive 2.0 AT (184 л.с.) 4WD',\n",
       "       '20i xDrive 2.0 AT (192 л.с.) 4WD', '218i 1.5 AMT (140 л.с.)',\n",
       "       '218i 1.5 AT (136 л.с.)', '220i 2.0 AT (184 л.с.)',\n",
       "       '220i 2.0 MT (184 л.с.)', '23d 2.0d AT (204 л.с.) 4WD',\n",
       "       '23i 2.5 AT (204 л.с.)', '25d 2.0d AT (218 л.с.) 4WD',\n",
       "       '25d 3.0d AT (218 л.с.) 4WD', '25i 2.5 AT (184 л.с.) 4WD',\n",
       "       '25i 2.5 AT (192 л.с.) 4WD', '25i 2.5 AT (218 л.с.) 4WD',\n",
       "       '25i 3.0 AT (218 л.с.) 4WD', '28i 2.0 AT (245 л.с.)',\n",
       "       '28i 2.0 AT (245 л.с.) 4WD', '28i 3.0 AT (258 л.с.) 4WD',\n",
       "       '28i xDrive 2.0 AT (245 л.с.) 4WD',\n",
       "       '28i xDrive 3.0 AT (258 л.с.) 4WD', '3.0 AMT (370 л.с.)',\n",
       "       '3.0 AMT (410 л.с.)', '3.0 AMT (431 л.с.)', '3.0 AT (265 л.с.)',\n",
       "       '3.0d 2.9d AT (184 л.с.) 4WD', '3.0d 3.0d AT (218 л.с.) 4WD',\n",
       "       '3.0d 3.0d AT (235 л.с.) 4WD', '3.0i 3.0 AT (231 л.с.) 4WD',\n",
       "       '3.0i 3.0 MT (231 л.с.) 4WD', '3.0sd 3.0d AT (286 л.с.) 4WD',\n",
       "       '3.0si 3.0 AT (264 л.с.) 4WD', '3.0si 3.0 AT (272 л.с.) 4WD',\n",
       "       '30d 3.0d AT (204 л.с.) 4WD', '30d 3.0d AT (218 л.с.) 4WD',\n",
       "       '30d 3.0d AT (231 л.с.) 4WD', '30d 3.0d AT (235 л.с.) 4WD',\n",
       "       '30d 3.0d AT (245 л.с.) 4WD', '30d 3.0d AT (249 л.с.) 4WD',\n",
       "       '30d 3.0d AT (258 л.с.) 4WD', '30d xDrive 3.0d AT (249 л.с.) 4WD',\n",
       "       '30d xDrive 3.0d AT (258 л.с.) 4WD', '30i 2.0 AT (249 л.с.) 4WD',\n",
       "       '30i 3.0 AT (231 л.с.) 4WD', '30i 3.0 AT (264 л.с.) 4WD',\n",
       "       '30i 3.0 AT (272 л.с.) 4WD', '30i xDrive 2.0 AT (249 л.с.) 4WD',\n",
       "       '316 1.8 MT (90 л.с.)', '316i 1.6 AT (102 л.с.)',\n",
       "       '316i 1.6 AT (136 л.с.)', '316i 1.6 MT (100 л.с.)',\n",
       "       '316i 1.6 MT (102 л.с.)', '316i 1.8 AT (115 л.с.)',\n",
       "       '316i 1.9 MT (105 л.с.)', '318d 2.0d AT (143 л.с.)',\n",
       "       '318d 2.0d AT (150 л.с.)', '318d 2.0d MT (143 л.с.)',\n",
       "       '318i 1.5 AT (136 л.с.)', '318i 1.8 AT (140 л.с.)',\n",
       "       '318i 1.8 MT (105 л.с.)', '318i 1.8 MT (113 л.с.)',\n",
       "       '318i 1.8 MT (115 л.с.)', '318i 1.9 AT (118 л.с.)',\n",
       "       '318i 1.9 MT (118 л.с.)', '318i 1.9 MT (140 л.с.)',\n",
       "       '318i 2.0 AT (136 л.с.)', '318i 2.0 AT (143 л.с.)',\n",
       "       '318i 2.0 MT (136 л.с.)', '318i 2.0 MT (143 л.с.)',\n",
       "       '320d 2.0d AT (150 л.с.)', '320d 2.0d AT (163 л.с.)',\n",
       "       '320d 2.0d AT (177 л.с.)', '320d 2.0d AT (184 л.с.)',\n",
       "       '320d 2.0d AT (190 л.с.)', '320d 2.0d MT (163 л.с.)',\n",
       "       '320d 2.0d MT (177 л.с.)', '320d xDrive 2.0d AT (184 л.с.) 4WD',\n",
       "       '320d xDrive 2.0d AT (190 л.с.) 4WD', '320i 2.0 AT (129 л.с.)',\n",
       "       '320i 2.0 AT (150 л.с.)', '320i 2.0 AT (156 л.с.)',\n",
       "       '320i 2.0 AT (170 л.с.)', '320i 2.0 AT (184 л.с.)',\n",
       "       '320i 2.0 MT (122 л.с.)', '320i 2.0 MT (150 л.с.)',\n",
       "       '320i 2.0 MT (156 л.с.)', '320i 2.2 AT (170 л.с.)',\n",
       "       '320i 2.2 MT (170 л.с.)', '320i xDrive 2.0 AT (184 л.с.) 4WD',\n",
       "       '323i 2.5 AT (170 л.с.)', '323i 2.5 MT (170 л.с.)',\n",
       "       '325i 2.5 AT (192 л.с.)', '325i 2.5 AT (218 л.с.)',\n",
       "       '325i 2.5 MT (170 л.с.)', '325i 2.5 MT (192 л.с.)',\n",
       "       '325i 3.0 AT (218 л.с.)', '325i xDrive 3.0 AT (218 л.с.) 4WD',\n",
       "       '325xi 2.5 AT (192 л.с.) 4WD', '325xi 2.5 AT (204 л.с.) 4WD',\n",
       "       '325xi 2.5 AT (218 л.с.) 4WD', '325xi 2.5 MT (218 л.с.) 4WD',\n",
       "       '328i 2.0 AT (245 л.с.)', '328i 2.8 AT (193 л.с.)',\n",
       "       '328i xDrive 2.0 AT (245 л.с.) 4WD',\n",
       "       '328i xDrive 2.0 MT (245 л.с.) 4WD', '330d 3.0d AT (231 л.с.) 4WD',\n",
       "       '330d 3.0d AT (258 л.с.)', '330d xDrive 3.0d AT (245 л.с.) 4WD',\n",
       "       '330i 2.0 AT (258 л.с.)', '330i 3.0 AT (231 л.с.)',\n",
       "       '330i 3.0 AT (258 л.с.)', '330i 3.0 AT (272 л.с.)',\n",
       "       '330i 3.0 MT (231 л.с.)', '330i xDrive 2.0 AT (249 л.с.) 4WD',\n",
       "       '330xd 3.0d AT (204 л.с.) 4WD', '330xi 3.0 AT (231 л.с.) 4WD',\n",
       "       '330xi 3.0 AT (258 л.с.) 4WD', '335i 3.0 AMT (306 л.с.)',\n",
       "       '335i 3.0 AT (306 л.с.)', '335i 3.0 MT (306 л.с.)',\n",
       "       '335i xDrive 3.0 AT (306 л.с.) 4WD', '335xi 3.0 AT (306 л.с.) 4WD',\n",
       "       '340i xDrive 3.0 AT (326 л.с.) 4WD', '35d 3.0d AT (269 л.с.) 4WD',\n",
       "       '35d 3.0d AT (286 л.с.) 4WD', '35d xDrive 3.0d AT (313 л.с.) 4WD',\n",
       "       '35i 3.0 AMT (306 л.с.)', '35i 3.0 AT (306 л.с.) 4WD',\n",
       "       '35i xDrive 3.0 AT (306 л.с.) 4WD', '35is 3.0 AMT (340 л.с.)',\n",
       "       '4.0 AMT (420 л.с.)', '4.4 AMT (560 л.с.)',\n",
       "       '4.4 AT (555 л.с.) 4WD', '4.4 AT (575 л.с.) 4WD',\n",
       "       '4.4 AT (600 л.с.) 4WD', '4.4i 4.4 AT (286 л.с.) 4WD',\n",
       "       '4.4i 4.4 AT (320 л.с.) 4WD', '4.4i 4.4 AT (329 л.с.) 4WD',\n",
       "       '4.6is 4.6 AT (347 л.с.) 4WD', '4.8i 4.8 AT (355 л.с.) 4WD',\n",
       "       '4.8is 4.8 AT (360 л.с.) 4WD', '40d 3.0d AT (306 л.с.) 4WD',\n",
       "       '40d 3.0d AT (313 л.с.) 4WD', '40i 3.0 AT (340 л.с.) 4WD',\n",
       "       '420d 2.0d AT (184 л.с.)', '420d 2.0d AT (190 л.с.)',\n",
       "       '420d xDrive 2.0d AT (184 л.с.) 4WD',\n",
       "       '420d xDrive 2.0d AT (190 л.с.) 4WD', '420i 2.0 AT (184 л.с.)',\n",
       "       '420i xDrive 2.0 AT (184 л.с.) 4WD', '428i 2.0 AT (245 л.с.)',\n",
       "       '428i xDrive 2.0 AT (245 л.с.) 4WD', '430i 2.0 AT (249 л.с.)',\n",
       "       '430i xDrive 2.0 AT (249 л.с.) 4WD', '440i 3.0 AT (326 л.с.)',\n",
       "       '48i 4.8 AT (355 л.с.) 4WD', '5.0 AMT (507 л.с.)',\n",
       "       '50i 4.4 AT (407 л.с.) 4WD', '50i 4.4 AT (450 л.с.) 4WD',\n",
       "       '518 1.8 MT (105 л.с.)', '520Li 2.0 AT (184 л.с.)',\n",
       "       '520d 2.0d AT (150 л.с.)', '520d 2.0d AT (163 л.с.)',\n",
       "       '520d 2.0d AT (177 л.с.)', '520d 2.0d AT (184 л.с.)',\n",
       "       '520d 2.0d AT (190 л.с.)', '520d 2.0d MT (163 л.с.)',\n",
       "       '520d 2.0d MT (177 л.с.)', '520d 2.0d MT (190 л.с.)',\n",
       "       '520d xDrive 2.0d AT (190 л.с.) 4WD', '520i 2.0 AT (129 л.с.)',\n",
       "       '520i 2.0 AT (150 л.с.)', '520i 2.0 AT (156 л.с.)',\n",
       "       '520i 2.0 AT (170 л.с.)', '520i 2.0 AT (184 л.с.)',\n",
       "       '520i 2.0 MT (125 л.с.)', '520i 2.0 MT (150 л.с.)',\n",
       "       '520i 2.2 AT (170 л.с.)', '520i 2.2 MT (170 л.с.)',\n",
       "       '523i 2.5 AT (170 л.с.)', '523i 2.5 AT (190 л.с.)',\n",
       "       '523i 2.5 AT (204 л.с.)', '523i 2.5 MT (170 л.с.)',\n",
       "       '523i 3.0 AT (204 л.с.)', '525d 2.5d AT (163 л.с.)',\n",
       "       '525d 2.5d MT (143 л.с.)', '525d 3.0d AT (197 л.с.)',\n",
       "       '525d 3.0d AT (204 л.с.)', '525d xDrive 2.0d AT (218 л.с.) 4WD',\n",
       "       '525i 2.5 AT (170 л.с.)', '525i 2.5 AT (192 л.с.)',\n",
       "       '525i 2.5 AT (218 л.с.)', '525i 2.5 MT (192 л.с.)',\n",
       "       '525xd 3.0d AT (197 л.с.) 4WD', '525xi 2.5 AT (218 л.с.) 4WD',\n",
       "       '525xi 3.0 AT (218 л.с.) 4WD', '525xi 3.0 MT (218 л.с.) 4WD',\n",
       "       '528Li xDrive 2.0 AT (245 л.с.) 4WD', '528i 2.0 AT (245 л.с.)',\n",
       "       '528i 2.8 AT (193 л.с.)', '528i 2.8 MT (193 л.с.)',\n",
       "       '528i 3.0 AT (230 л.с.)', '528i 3.0 AT (243 л.с.)',\n",
       "       '528i 3.0 AT (258 л.с.)', '528i 3.0 AT (258 л.с.) 4WD',\n",
       "       '528i xDrive 2.0 AT (245 л.с.) 4WD', '530Li 3.0 AT (258 л.с.)',\n",
       "       '530d 2.9d AT (184 л.с.)', '530d 3.0d AT (218 л.с.)',\n",
       "       '530d 3.0d AT (235 л.с.)', '530d 3.0d AT (245 л.с.)',\n",
       "       '530d xDrive 3.0d AT (245 л.с.) 4WD',\n",
       "       '530d xDrive 3.0d AT (249 л.с.) 4WD',\n",
       "       '530d xDrive 3.0d AT (258 л.с.) 4WD', '530i 3.0 AT (231 л.с.)',\n",
       "       '530i 3.0 AT (258 л.с.)', '530i 3.0 AT (272 л.с.)',\n",
       "       '530i 3.0 MT (218 л.с.)', '530i 3.0 MT (272 л.с.)',\n",
       "       '530i xDrive 2.0 AT (249 л.с.) 4WD',\n",
       "       '530i xDrive 2.0 AT (252 л.с.) 4WD',\n",
       "       '530xd 3.0d AT (235 л.с.) 4WD', '530xi 3.0 AT (258 л.с.) 4WD',\n",
       "       '530xi 3.0 AT (272 л.с.) 4WD', '535d 3.0d AT (272 л.с.)',\n",
       "       '535d 3.0d AT (286 л.с.)', '535d 3.0d AT (300 л.с.)',\n",
       "       '535d xDrive 3.0d AT (300 л.с.) 4WD',\n",
       "       '535d xDrive 3.0d AT (313 л.с.) 4WD', '535i 3.0 AT (306 л.с.)',\n",
       "       '535i 3.4 MT (211 л.с.)', '535i 3.5 AT (235 л.с.)',\n",
       "       '535i 3.5 AT (245 л.с.)', '535i xDrive 3.0 AT (306 л.с.) 4WD',\n",
       "       '540i 4.0 AT (286 л.с.)', '540i 4.0 AT (306 л.с.)',\n",
       "       '540i 4.4 AT (286 л.с.)', '540i 4.4 MT (286 л.с.)',\n",
       "       '540i xDrive 3.0 AT (340 л.с.) 4WD', '545i 4.4 MT (333 л.с.)',\n",
       "       '550i 4.4 AT (407 л.с.)', '550i 4.8 AT (367 л.с.)',\n",
       "       '550i xDrive 4.4 AT (407 л.с.) 4WD',\n",
       "       '550i xDrive 4.4 AT (449 л.с.) 4WD',\n",
       "       '550i xDrive 4.4 AT (450 л.с.) 4WD',\n",
       "       '620d xDrive 2.0d AT (190 л.с.) 4WD',\n",
       "       '630d xDrive 3.0d AT (249 л.с.) 4WD', '630i 2.0 AT (249 л.с.)',\n",
       "       '630i 3.0 AT (258 л.с.)', '630i 3.0 AT (272 л.с.)',\n",
       "       '640d 3.0d AT (313 л.с.)', '640d xDrive 3.0d AT (313 л.с.) 4WD',\n",
       "       '640i 3.0 AT (320 л.с.)', '640i xDrive 3.0 AT (320 л.с.) 4WD',\n",
       "       '640i xDrive 3.0 AT (340 л.с.) 4WD', '645i 4.4 AT (333 л.с.)',\n",
       "       '650i 4.4 AT (407 л.с.)', '650i 4.8 AT (367 л.с.)',\n",
       "       '650i xDrive 4.4 AT (407 л.с.) 4WD',\n",
       "       '650i xDrive 4.4 AT (450 л.с.) 4WD', '725Ld 2.0d AT (231 л.с.)',\n",
       "       '725Ld xDrive 2.0d AT (231 л.с.) 4WD', '728i 2.8 AT (193 л.с.)',\n",
       "       '728i 2.8 MT (184 л.с.)', '730Ld 3.0d AT (245 л.с.)',\n",
       "       '730Ld xDrive 3.0d AT (249 л.с.) 4WD',\n",
       "       '730Ld xDrive 3.0d AT (265 л.с.) 4WD', '730Li 3.0 AT (258 л.с.)',\n",
       "       '730d 2.9d AT (184 л.с.)', '730d 2.9d AT (193 л.с.)',\n",
       "       '730d 3.0d AT (231 л.с.)', '730d 3.0d AT (245 л.с.)',\n",
       "       '730d xDrive 3.0d AT (249 л.с.) 4WD',\n",
       "       '730d xDrive 3.0d AT (258 л.с.) 4WD',\n",
       "       '730d xDrive 3.0d AT (265 л.с.) 4WD', '730i 2.0 AT (249 л.с.)',\n",
       "       '730i 2.0 AT (258 л.с.)', '730i 3.0 AT (197 л.с.)',\n",
       "       '730i 3.0 AT (218 л.с.)', '730i 3.0 AT (231 л.с.)',\n",
       "       '730i 3.0 AT (258 л.с.)', '730i 3.0 MT (188 л.с.)',\n",
       "       '735Li 3.5 AT (235 л.с.)', '735i 3.5 AT (235 л.с.)',\n",
       "       '735i 3.6 AT (272 л.с.)', '740Ld xDrive 3.0d AT (320 л.с.) 4WD',\n",
       "       '740Li 3.0 AT (326 л.с.)', '740Li 4.0 AT (306 л.с.)',\n",
       "       '740Li 4.4 AT (286 л.с.)', '740Li xDrive 3.0 AT (320 л.с.) 4WD',\n",
       "       '740Li xDrive 3.0 AT (326 л.с.) 4WD',\n",
       "       '740d xDrive 3.0d AT (306 л.с.) 4WD',\n",
       "       '740d xDrive 3.0d AT (313 л.с.) 4WD',\n",
       "       '740d xDrive 3.0d AT (320 л.с.) 4WD', '740i 3.0 AT (326 л.с.)',\n",
       "       '740i 4.0 AT (286 л.с.)', '740i 4.4 AT (286 л.с.)',\n",
       "       '745Li 4.4 AT (333 л.с.)', '745i 4.4 AT (333 л.с.)',\n",
       "       '750Ld xDrive 3.0d AT (381 л.с.) 4WD',\n",
       "       '750Ld xDrive 3.0d AT (400 л.с.) 4WD', '750Li 4.4 AT (407 л.с.)',\n",
       "       '750Li 4.8 AT (367 л.с.)', '750Li 5.4 AT (326 л.с.)',\n",
       "       '750Li xDrive 4.4 AT (407 л.с.) 4WD',\n",
       "       '750Li xDrive 4.4 AT (450 л.с.) 4WD',\n",
       "       '750d xDrive 3.0d AT (381 л.с.) 4WD',\n",
       "       '750d xDrive 3.0d AT (400 л.с.) 4WD', '750i 4.4 AT (407 л.с.)',\n",
       "       '750i 4.8 AT (367 л.с.)', '750i 5.4 AT (326 л.с.)',\n",
       "       '750i xDrive 4.4 AT (407 л.с.) 4WD',\n",
       "       '750i xDrive 4.4 AT (450 л.с.) 4WD',\n",
       "       '750i xDrive 4.4 AT (530 л.с.) 4WD', '760Li 6.0 AT (445 л.с.)',\n",
       "       '760i 6.0 AT (544 л.с.)', '840d xDrive 3.0d AT (320 л.с.) 4WD',\n",
       "       'Active Hybrid 7L 4.4hyb AT (450 л.с.)',\n",
       "       'ActiveHybrid 4.4hyb AT (407 л.с.) 4WD', 'CS 3.0 AMT (460 л.с.)',\n",
       "       'Competition 4.4 AT (625 л.с.) 4WD',\n",
       "       'Competition Package 3.0 AMT (450 л.с.)',\n",
       "       'Competition Package 4.4 AMT (575 л.с.)', 'Electro AT (126 кВт)',\n",
       "       'M135i xDrive 3.0 AT (320 л.с.) 4WD', 'M235i 3.0 MT (326 л.с.)',\n",
       "       'M235i xDrive 3.0 AT (326 л.с.) 4WD',\n",
       "       'M340i xDrive 3.0 AT (374 л.с.) 4WD',\n",
       "       'M40d 3.0d AT (326 л.с.) 4WD', 'M40i 3.0 AT (360 л.с.) 4WD',\n",
       "       'M50d 3.0d AT (381 л.с.) 4WD', 'M50d 3.0d AT (400 л.с.) 4WD',\n",
       "       'M50i 4.4 AT (530 л.с.) 4WD',\n",
       "       'M550d xDrive 3.0d AT (381 л.с.) 4WD',\n",
       "       'M550d xDrive 3.0d AT (400 л.с.) 4WD',\n",
       "       'M550i xDrive 4.4 AT (462 л.с.) 4WD',\n",
       "       'M760Li xDrive 6.6 AT (609 л.с.) 4WD',\n",
       "       'M760Li xDrive 6.6 AT (610 л.с.) 4WD',\n",
       "       'M850i xDrive 4.4 AT (530 л.с.) 4WD',\n",
       "       'sDrive18i 1.5 AMT (140 л.с.)', 'xDrive18d 2.0d AT (150 л.с.) 4WD',\n",
       "       'xDrive20d 2.0d AT (190 л.с.) 4WD',\n",
       "       'xDrive20i 2.0 AT (192 л.с.) 4WD'], dtype=object)"
      ]
     },
     "execution_count": 11,
     "metadata": {},
     "output_type": "execute_result"
    }
   ],
   "source": [
    "df_test.name.sort_values().unique()"
   ]
  },
  {
   "cell_type": "code",
   "execution_count": 12,
   "metadata": {},
   "outputs": [
    {
     "data": {
      "text/plain": [
       "array([4., 5., 3., 2.])"
      ]
     },
     "execution_count": 12,
     "metadata": {},
     "output_type": "execute_result"
    }
   ],
   "source": [
    "df_test.numberOfDoors.unique()"
   ]
  },
  {
   "cell_type": "code",
   "execution_count": 13,
   "metadata": {},
   "outputs": [
    {
     "data": {
      "text/plain": [
       "array([2017., 2019., 2012., 2015., 2013., 2008., 2011., 2016., 2007.,\n",
       "       2014., 2000., 2009., 2018., 2005., 2003., 2006., 2010., 2002.,\n",
       "       2004., 2001., 1997., 1998., 1999., 1995., 1996., 1993., 1987.,\n",
       "       1984., 1989., 1991., 1988., 1994., 1992., 1981., 1990., 1986.,\n",
       "       1982.])"
      ]
     },
     "execution_count": 13,
     "metadata": {},
     "output_type": "execute_result"
    }
   ],
   "source": [
    "df_test.productionDate.unique()"
   ]
  },
  {
   "cell_type": "code",
   "execution_count": 14,
   "metadata": {},
   "outputs": [
    {
     "data": {
      "text/plain": [
       "array(['ALLROAD_5_DOORS AUTOMATIC 1.5', 'ALLROAD_5_DOORS AUTOMATIC 2.0',\n",
       "       'ALLROAD_5_DOORS AUTOMATIC 2.5', 'ALLROAD_5_DOORS AUTOMATIC 2.9',\n",
       "       'ALLROAD_5_DOORS AUTOMATIC 3.0', 'ALLROAD_5_DOORS AUTOMATIC 4.4',\n",
       "       'ALLROAD_5_DOORS AUTOMATIC 4.6', 'ALLROAD_5_DOORS AUTOMATIC 4.8',\n",
       "       'ALLROAD_5_DOORS MECHANICAL 3.0', 'ALLROAD_5_DOORS ROBOT 1.5',\n",
       "       'CABRIO AUTOMATIC 2.0', 'CABRIO AUTOMATIC 2.5',\n",
       "       'CABRIO AUTOMATIC 3.0', 'CABRIO AUTOMATIC 4.4',\n",
       "       'CABRIO MECHANICAL 1.8', 'CABRIO MECHANICAL 2.5',\n",
       "       'CABRIO ROBOT 4.0', 'COMPACTVAN AUTOMATIC 1.5',\n",
       "       'COMPACTVAN ROBOT 1.5', 'COUPE AUTOMATIC 1.5',\n",
       "       'COUPE AUTOMATIC 2.0', 'COUPE AUTOMATIC 2.5',\n",
       "       'COUPE AUTOMATIC 2.8', 'COUPE AUTOMATIC 3.0',\n",
       "       'COUPE AUTOMATIC 4.4', 'COUPE AUTOMATIC 4.8',\n",
       "       'COUPE MECHANICAL 1.6', 'COUPE MECHANICAL 1.8',\n",
       "       'COUPE MECHANICAL 2.0', 'COUPE MECHANICAL 2.5',\n",
       "       'COUPE MECHANICAL 3.0', 'COUPE ROBOT 3.0', 'COUPE ROBOT 4.0',\n",
       "       'COUPE ROBOT 4.4', 'COUPE ROBOT 5.0',\n",
       "       'HATCHBACK_3_DOORS AUTOMATIC 1.6',\n",
       "       'HATCHBACK_3_DOORS AUTOMATIC 1.8',\n",
       "       'HATCHBACK_3_DOORS AUTOMATIC 2.0',\n",
       "       'HATCHBACK_3_DOORS AUTOMATIC 2.5',\n",
       "       'HATCHBACK_3_DOORS MECHANICAL 1.6',\n",
       "       'HATCHBACK_3_DOORS MECHANICAL 1.9',\n",
       "       'HATCHBACK_3_DOORS MECHANICAL 2.0', 'HATCHBACK_5_DOORS AUTOMATIC',\n",
       "       'HATCHBACK_5_DOORS AUTOMATIC 1.5',\n",
       "       'HATCHBACK_5_DOORS AUTOMATIC 1.6',\n",
       "       'HATCHBACK_5_DOORS AUTOMATIC 2.0',\n",
       "       'HATCHBACK_5_DOORS AUTOMATIC 3.0',\n",
       "       'HATCHBACK_5_DOORS MECHANICAL 1.6',\n",
       "       'HATCHBACK_5_DOORS MECHANICAL 2.0',\n",
       "       'HATCHBACK_5_DOORS MECHANICAL 3.0', 'LIFTBACK AUTOMATIC 2.0',\n",
       "       'LIFTBACK AUTOMATIC 3.0', 'LIFTBACK AUTOMATIC 4.4',\n",
       "       'ROADSTER AUTOMATIC 1.5', 'ROADSTER AUTOMATIC 2.0',\n",
       "       'ROADSTER AUTOMATIC 2.2', 'ROADSTER AUTOMATIC 2.5',\n",
       "       'ROADSTER MECHANICAL 2.0', 'ROADSTER ROBOT 3.0',\n",
       "       'SEDAN AUTOMATIC 1.5', 'SEDAN AUTOMATIC 1.6',\n",
       "       'SEDAN AUTOMATIC 1.9', 'SEDAN AUTOMATIC 2.0',\n",
       "       'SEDAN AUTOMATIC 2.2', 'SEDAN AUTOMATIC 2.5',\n",
       "       'SEDAN AUTOMATIC 2.8', 'SEDAN AUTOMATIC 2.9',\n",
       "       'SEDAN AUTOMATIC 3.0', 'SEDAN AUTOMATIC 3.5',\n",
       "       'SEDAN AUTOMATIC 3.6', 'SEDAN AUTOMATIC 4.0',\n",
       "       'SEDAN AUTOMATIC 4.4', 'SEDAN AUTOMATIC 4.8',\n",
       "       'SEDAN AUTOMATIC 5.4', 'SEDAN AUTOMATIC 6.0',\n",
       "       'SEDAN AUTOMATIC 6.6', 'SEDAN MECHANICAL 1.6',\n",
       "       'SEDAN MECHANICAL 1.8', 'SEDAN MECHANICAL 1.9',\n",
       "       'SEDAN MECHANICAL 2.0', 'SEDAN MECHANICAL 2.2',\n",
       "       'SEDAN MECHANICAL 2.5', 'SEDAN MECHANICAL 2.8',\n",
       "       'SEDAN MECHANICAL 3.0', 'SEDAN MECHANICAL 3.4',\n",
       "       'SEDAN MECHANICAL 4.4', 'SEDAN ROBOT 4.4', 'SEDAN ROBOT 5.0',\n",
       "       'SEDAN_2_DOORS MECHANICAL 2.0', 'WAGON_5_DOORS AUTOMATIC 2.0',\n",
       "       'WAGON_5_DOORS AUTOMATIC 2.2', 'WAGON_5_DOORS AUTOMATIC 2.5',\n",
       "       'WAGON_5_DOORS AUTOMATIC 2.8', 'WAGON_5_DOORS AUTOMATIC 3.0',\n",
       "       'WAGON_5_DOORS MECHANICAL 1.6', 'WAGON_5_DOORS MECHANICAL 1.8',\n",
       "       'WAGON_5_DOORS MECHANICAL 2.0', 'WAGON_5_DOORS MECHANICAL 2.2',\n",
       "       'WAGON_5_DOORS MECHANICAL 2.8'], dtype=object)"
      ]
     },
     "execution_count": 14,
     "metadata": {},
     "output_type": "execute_result"
    }
   ],
   "source": [
    "df_test.vehicleConfiguration.sort_values().unique()"
   ]
  },
  {
   "cell_type": "code",
   "execution_count": 15,
   "metadata": {},
   "outputs": [
    {
     "data": {
      "text/plain": [
       "array(['автоматическая', 'механическая', 'роботизированная'], dtype=object)"
      ]
     },
     "execution_count": 15,
     "metadata": {},
     "output_type": "execute_result"
    }
   ],
   "source": [
    "df_test.vehicleTransmission.unique()"
   ]
  },
  {
   "cell_type": "code",
   "execution_count": 16,
   "metadata": {},
   "outputs": [
    {
     "data": {
      "text/plain": [
       "array(['1.5 LTR', '1.6 LTR', '1.8 LTR', '1.9 LTR', '2.0 LTR', '2.2 LTR',\n",
       "       '2.5 LTR', '2.8 LTR', '2.9 LTR', '3.0 LTR', '3.4 LTR', '3.5 LTR',\n",
       "       '3.6 LTR', '4.0 LTR', '4.4 LTR', '4.6 LTR', '4.8 LTR', '5.0 LTR',\n",
       "       '5.4 LTR', '6.0 LTR', '6.6 LTR', 'undefined LTR'], dtype=object)"
      ]
     },
     "execution_count": 16,
     "metadata": {},
     "output_type": "execute_result"
    }
   ],
   "source": [
    "df_test.engineDisplacement.sort_values().unique()"
   ]
  },
  {
   "cell_type": "code",
   "execution_count": 17,
   "metadata": {},
   "outputs": [
    {
     "data": {
      "text/plain": [
       "array([ 90, 100, 102, 105, 113, 115, 118, 122, 125, 129, 136, 140, 143,\n",
       "       150, 156, 163, 170, 177, 184, 188, 190, 192, 193, 197, 204, 211,\n",
       "       218, 230, 231, 235, 243, 245, 249, 252, 258, 264, 265, 269, 272,\n",
       "       286, 300, 306, 313, 320, 326, 329, 333, 340, 347, 355, 360, 367,\n",
       "       370, 374, 381, 400, 407, 410, 420, 431, 445, 449, 450, 460, 462,\n",
       "       507, 530, 544, 555, 560, 575, 600, 609, 610, 625], dtype=int64)"
      ]
     },
     "execution_count": 17,
     "metadata": {},
     "output_type": "execute_result"
    }
   ],
   "source": [
    "df_test.enginePower.sort_values().unique()\n",
    "df_test.enginePower.str[:-4].astype(int).sort_values().unique()"
   ]
  },
  {
   "cell_type": "code",
   "execution_count": 18,
   "metadata": {},
   "outputs": [
    {
     "data": {
      "text/plain": [
       "1942"
      ]
     },
     "execution_count": 18,
     "metadata": {},
     "output_type": "execute_result"
    }
   ],
   "source": [
    "df_test.mileage.nunique()"
   ]
  },
  {
   "cell_type": "code",
   "execution_count": 19,
   "metadata": {},
   "outputs": [
    {
     "data": {
      "text/plain": [
       "3295"
      ]
     },
     "execution_count": 19,
     "metadata": {},
     "output_type": "execute_result"
    }
   ],
   "source": [
    "df_test.Комплектация.nunique()"
   ]
  },
  {
   "cell_type": "code",
   "execution_count": 20,
   "metadata": {},
   "outputs": [
    {
     "data": {
      "text/plain": [
       "array(['задний', 'полный', 'передний'], dtype=object)"
      ]
     },
     "execution_count": 20,
     "metadata": {},
     "output_type": "execute_result"
    }
   ],
   "source": [
    "df_test.Привод.unique()"
   ]
  },
  {
   "cell_type": "code",
   "execution_count": 21,
   "metadata": {},
   "outputs": [
    {
     "data": {
      "text/plain": [
       "array(['Левый'], dtype=object)"
      ]
     },
     "execution_count": 21,
     "metadata": {},
     "output_type": "execute_result"
    }
   ],
   "source": [
    "df_test.Руль.unique()"
   ]
  },
  {
   "cell_type": "code",
   "execution_count": 22,
   "metadata": {},
   "outputs": [
    {
     "data": {
      "text/plain": [
       "array(['Не требует ремонта'], dtype=object)"
      ]
     },
     "execution_count": 22,
     "metadata": {},
     "output_type": "execute_result"
    }
   ],
   "source": [
    "df_test.Состояние.unique()"
   ]
  },
  {
   "cell_type": "code",
   "execution_count": 23,
   "metadata": {},
   "outputs": [
    {
     "data": {
      "text/plain": [
       "array(['1\\xa0владелец', '2\\xa0владельца', '3 или более'], dtype=object)"
      ]
     },
     "execution_count": 23,
     "metadata": {},
     "output_type": "execute_result"
    }
   ],
   "source": [
    "df_test.Владельцы.unique()"
   ]
  },
  {
   "cell_type": "code",
   "execution_count": 24,
   "metadata": {},
   "outputs": [
    {
     "data": {
      "text/plain": [
       "array(['Оригинал', 'Дубликат'], dtype=object)"
      ]
     },
     "execution_count": 24,
     "metadata": {},
     "output_type": "execute_result"
    }
   ],
   "source": [
    "df_test.ПТС.unique()"
   ]
  },
  {
   "cell_type": "code",
   "execution_count": 25,
   "metadata": {},
   "outputs": [
    {
     "data": {
      "text/plain": [
       "array(['Растаможен'], dtype=object)"
      ]
     },
     "execution_count": 25,
     "metadata": {},
     "output_type": "execute_result"
    }
   ],
   "source": [
    "df_test.Таможня.unique()"
   ]
  },
  {
   "cell_type": "code",
   "execution_count": 26,
   "metadata": {},
   "outputs": [
    {
     "data": {
      "text/plain": [
       "array(['1 год', '1 год и 1 месяц', '1 год и 10 месяцев',\n",
       "       '1 год и 11 месяцев', '1 год и 2 месяца', '1 год и 3 месяца',\n",
       "       '1 год и 4 месяца', '1 год и 5 месяцев', '1 год и 6 месяцев',\n",
       "       '1 год и 7 месяцев', '1 год и 8 месяцев', '1 год и 9 месяцев',\n",
       "       '1 месяц', '10 лет', '10 лет и 1 месяц', '10 лет и 10 месяцев',\n",
       "       '10 лет и 11 месяцев', '10 лет и 2 месяца', '10 лет и 3 месяца',\n",
       "       '10 лет и 4 месяца', '10 лет и 6 месяцев', '10 лет и 8 месяцев',\n",
       "       '10 лет и 9 месяцев', '10 месяцев', '11 лет', '11 лет и 1 месяц',\n",
       "       '11 лет и 2 месяца', '11 лет и 3 месяца', '11 лет и 4 месяца',\n",
       "       '11 лет и 6 месяцев', '11 лет и 8 месяцев', '11 месяцев',\n",
       "       '12 лет и 1 месяц', '12 лет и 10 месяцев', '12 лет и 11 месяцев',\n",
       "       '12 лет и 2 месяца', '12 лет и 5 месяцев', '12 лет и 7 месяцев',\n",
       "       '13 лет и 1 месяц', '13 лет и 2 месяца', '14 лет и 4 месяца',\n",
       "       '14 лет и 6 месяцев', '14 лет и 7 месяцев', '15 лет и 10 месяцев',\n",
       "       '15 лет и 5 месяцев', '15 лет и 8 месяцев', '15 лет и 9 месяцев',\n",
       "       '16 лет и 2 месяца', '16 лет и 6 месяцев', '16 лет и 8 месяцев',\n",
       "       '16 лет и 9 месяцев', '18 лет и 5 месяцев', '2 года',\n",
       "       '2 года и 1 месяц', '2 года и 10 месяцев', '2 года и 11 месяцев',\n",
       "       '2 года и 2 месяца', '2 года и 3 месяца', '2 года и 4 месяца',\n",
       "       '2 года и 5 месяцев', '2 года и 6 месяцев', '2 года и 7 месяцев',\n",
       "       '2 года и 8 месяцев', '2 года и 9 месяцев', '2 месяца',\n",
       "       '27 лет и 3 месяца', '3 года', '3 года и 1 месяц',\n",
       "       '3 года и 10 месяцев', '3 года и 11 месяцев', '3 года и 2 месяца',\n",
       "       '3 года и 3 месяца', '3 года и 4 месяца', '3 года и 5 месяцев',\n",
       "       '3 года и 6 месяцев', '3 года и 7 месяцев', '3 года и 8 месяцев',\n",
       "       '3 года и 9 месяцев', '3 месяца', '4 года', '4 года и 1 месяц',\n",
       "       '4 года и 10 месяцев', '4 года и 11 месяцев', '4 года и 2 месяца',\n",
       "       '4 года и 3 месяца', '4 года и 4 месяца', '4 года и 5 месяцев',\n",
       "       '4 года и 6 месяцев', '4 года и 7 месяцев', '4 года и 8 месяцев',\n",
       "       '4 года и 9 месяцев', '4 месяца', '5 лет', '5 лет и 1 месяц',\n",
       "       '5 лет и 10 месяцев', '5 лет и 11 месяцев', '5 лет и 2 месяца',\n",
       "       '5 лет и 3 месяца', '5 лет и 4 месяца', '5 лет и 5 месяцев',\n",
       "       '5 лет и 6 месяцев', '5 лет и 7 месяцев', '5 лет и 8 месяцев',\n",
       "       '5 лет и 9 месяцев', '5 месяцев', '6 лет', '6 лет и 1 месяц',\n",
       "       '6 лет и 10 месяцев', '6 лет и 11 месяцев', '6 лет и 2 месяца',\n",
       "       '6 лет и 3 месяца', '6 лет и 4 месяца', '6 лет и 5 месяцев',\n",
       "       '6 лет и 6 месяцев', '6 лет и 7 месяцев', '6 лет и 8 месяцев',\n",
       "       '6 лет и 9 месяцев', '6 месяцев', '7 лет', '7 лет и 1 месяц',\n",
       "       '7 лет и 10 месяцев', '7 лет и 11 месяцев', '7 лет и 2 месяца',\n",
       "       '7 лет и 3 месяца', '7 лет и 4 месяца', '7 лет и 5 месяцев',\n",
       "       '7 лет и 6 месяцев', '7 лет и 7 месяцев', '7 лет и 8 месяцев',\n",
       "       '7 лет и 9 месяцев', '7 месяцев', '8 лет', '8 лет и 1 месяц',\n",
       "       '8 лет и 10 месяцев', '8 лет и 11 месяцев', '8 лет и 2 месяца',\n",
       "       '8 лет и 3 месяца', '8 лет и 4 месяца', '8 лет и 5 месяцев',\n",
       "       '8 лет и 6 месяцев', '8 лет и 7 месяцев', '8 лет и 8 месяцев',\n",
       "       '8 лет и 9 месяцев', '8 месяцев', '9 лет', '9 лет и 1 месяц',\n",
       "       '9 лет и 10 месяцев', '9 лет и 11 месяцев', '9 лет и 2 месяца',\n",
       "       '9 лет и 3 месяца', '9 лет и 4 месяца', '9 лет и 5 месяцев',\n",
       "       '9 лет и 6 месяцев', '9 лет и 7 месяцев', '9 лет и 8 месяцев',\n",
       "       '9 лет и 9 месяцев', '9 месяцев', nan], dtype=object)"
      ]
     },
     "execution_count": 26,
     "metadata": {},
     "output_type": "execute_result"
    }
   ],
   "source": [
    "df_test.Владение.sort_values().unique()"
   ]
  },
  {
   "cell_type": "code",
   "execution_count": 27,
   "metadata": {},
   "outputs": [
    {
     "data": {
      "text/plain": [
       "nan"
      ]
     },
     "execution_count": 27,
     "metadata": {},
     "output_type": "execute_result"
    }
   ],
   "source": [
    "import re\n",
    "\n",
    "pattern_yaer = re.compile('\\d+(?= (?:год|лет))')\n",
    "pattern_month = re.compile('\\d+(?= мес)')\n",
    "\n",
    "year = lambda x: int(pattern_yaer.search(x).group(0)) if pattern_yaer.search(x) else 0\n",
    "month = lambda x: int(pattern_month.search(x).group(0)) if pattern_month.search(x) else 0\n",
    "\n",
    "\n",
    "\n",
    "months_count = lambda x: year(x)*12 + month(x) if x==x else x\n",
    "\n",
    "months_count(df_test.Владение[0])"
   ]
  },
  {
   "cell_type": "code",
   "execution_count": 28,
   "metadata": {},
   "outputs": [
    {
     "data": {
      "text/plain": [
       "0         NaN\n",
       "1         NaN\n",
       "2        86.0\n",
       "3         NaN\n",
       "4         NaN\n",
       "5         NaN\n",
       "6        35.0\n",
       "7         NaN\n",
       "8        84.0\n",
       "9         NaN\n",
       "10        NaN\n",
       "11        NaN\n",
       "12        8.0\n",
       "13        NaN\n",
       "14       87.0\n",
       "15        NaN\n",
       "16       13.0\n",
       "17        NaN\n",
       "18        NaN\n",
       "19        NaN\n",
       "20        NaN\n",
       "21        NaN\n",
       "22        NaN\n",
       "23        6.0\n",
       "24        NaN\n",
       "25       27.0\n",
       "26       44.0\n",
       "27        NaN\n",
       "28        NaN\n",
       "29       19.0\n",
       "30       69.0\n",
       "31       27.0\n",
       "32        NaN\n",
       "33       17.0\n",
       "34        NaN\n",
       "        ...  \n",
       "3802     51.0\n",
       "3803      NaN\n",
       "3804      NaN\n",
       "3805      NaN\n",
       "3806      NaN\n",
       "3807      6.0\n",
       "3808     93.0\n",
       "3809      NaN\n",
       "3810     61.0\n",
       "3811    128.0\n",
       "3812      NaN\n",
       "3813      NaN\n",
       "3814      NaN\n",
       "3815      NaN\n",
       "3816      NaN\n",
       "3817     69.0\n",
       "3818      NaN\n",
       "3819      NaN\n",
       "3820      NaN\n",
       "3821      NaN\n",
       "3822      NaN\n",
       "3823      NaN\n",
       "3824     68.0\n",
       "3825     22.0\n",
       "3826      NaN\n",
       "3827     36.0\n",
       "3828      NaN\n",
       "3829      NaN\n",
       "3830      NaN\n",
       "3831     42.0\n",
       "3832      NaN\n",
       "3833      NaN\n",
       "3834     19.0\n",
       "3835     82.0\n",
       "3836     89.0\n",
       "Name: Владение, Length: 3837, dtype: float64"
      ]
     },
     "execution_count": 28,
     "metadata": {},
     "output_type": "execute_result"
    }
   ],
   "source": [
    "df_test.Владение.apply(lambda x: year(x)*12 + month(x) if x==x else x)"
   ]
  },
  {
   "cell_type": "code",
   "execution_count": 41,
   "metadata": {},
   "outputs": [
    {
     "data": {
      "text/plain": [
       "array([   0,    1,    2, ..., 3834, 3835, 3836], dtype=int64)"
      ]
     },
     "execution_count": 41,
     "metadata": {},
     "output_type": "execute_result"
    }
   ],
   "source": [
    "df_test.id.unique()"
   ]
  },
  {
   "cell_type": "code",
   "execution_count": null,
   "metadata": {},
   "outputs": [],
   "source": []
  },
  {
   "cell_type": "markdown",
   "metadata": {},
   "source": [
    "## df_test.Комплектация\n"
   ]
  },
  {
   "cell_type": "code",
   "execution_count": 50,
   "metadata": {},
   "outputs": [
    {
     "data": {
      "text/plain": [
       "0    [{'name': 'Безопасность', 'values': ['Антипроб...\n",
       "1    [{'name': 'Комфорт', 'values': ['Круиз-контрол...\n",
       "2    [{'name': 'Комфорт', 'values': ['Круиз-контрол...\n",
       "3    [{'name': 'Комфорт', 'values': ['Круиз-контрол...\n",
       "4    [{'name': 'Комфорт', 'values': ['Круиз-контрол...\n",
       "Name: Комплектация, dtype: object"
      ]
     },
     "execution_count": 50,
     "metadata": {},
     "output_type": "execute_result"
    }
   ],
   "source": [
    "new_configuration = df_test.Комплектация.apply(lambda x: json.loads(x[2:-2]) if x != '[]' else [])\n",
    "new_configuration.head()"
   ]
  },
  {
   "cell_type": "code",
   "execution_count": 55,
   "metadata": {},
   "outputs": [
    {
     "data": {
      "text/plain": [
       "{'Безопасность',\n",
       " 'Защита от угона',\n",
       " 'Комфорт',\n",
       " 'Мультимедиа',\n",
       " 'Обзор',\n",
       " 'Прочее',\n",
       " 'Салон',\n",
       " 'Элементы экстерьера'}"
      ]
     },
     "execution_count": 55,
     "metadata": {},
     "output_type": "execute_result"
    }
   ],
   "source": [
    "# lambda configuration: [category['name'] for category in configuration]\n",
    "all_categories = set(new_configuration.apply(lambda configuration: [category['name'] for category in configuration]).sum())\n",
    "all_categories"
   ]
  },
  {
   "cell_type": "code",
   "execution_count": null,
   "metadata": {},
   "outputs": [],
   "source": []
  },
  {
   "cell_type": "code",
   "execution_count": 76,
   "metadata": {},
   "outputs": [
    {
     "data": {
      "text/plain": [
       "[{'name': 'Безопасность',\n",
       "  'values': ['Антипробуксовочная система (ASR)',\n",
       "   'Система стабилизации (ESP)',\n",
       "   'Подушка безопасности водителя',\n",
       "   'Крепление детского кресла (задний ряд) ISOFIX',\n",
       "   'Подушки безопасности оконные (шторки)',\n",
       "   'Подушка безопасности пассажира',\n",
       "   'Подушки безопасности боковые задние',\n",
       "   'Подушки безопасности боковые',\n",
       "   'Датчик давления в шинах',\n",
       "   'Антиблокировочная система (ABS)',\n",
       "   'Блокировка замков задних дверей',\n",
       "   'Подушка безопасности для защиты коленей водителя']},\n",
       " {'name': 'Комфорт',\n",
       "  'values': ['Система «старт-стоп»',\n",
       "   'Электростеклоподъёмники передние',\n",
       "   'Мультифункциональное рулевое колесо',\n",
       "   'Прикуриватель и пепельница',\n",
       "   'Бортовой компьютер',\n",
       "   'Усилитель руля',\n",
       "   'Электропривод зеркал',\n",
       "   'Электростеклоподъёмники задние',\n",
       "   'Парктроник передний',\n",
       "   'Регулировка руля по вылету',\n",
       "   'Климат-контроль 2-зонный',\n",
       "   'Электроскладывание зеркал',\n",
       "   'Парктроник задний']},\n",
       " {'name': 'Мультимедиа',\n",
       "  'values': ['AUX', 'USB', 'Аудиосистема', 'Bluetooth']},\n",
       " {'name': 'Обзор',\n",
       "  'values': ['Датчик света',\n",
       "   'Автоматический корректор фар',\n",
       "   'Омыватель фар',\n",
       "   'Датчик дождя',\n",
       "   'Электрообогрев боковых зеркал',\n",
       "   'Светодиодные фары']},\n",
       " {'name': 'Салон',\n",
       "  'values': ['Регулировка передних сидений по высоте',\n",
       "   'Передний центральный подлокотник',\n",
       "   'Складывающееся заднее сиденье',\n",
       "   'Электрорегулировка передних сидений',\n",
       "   'Тёмный салон',\n",
       "   'Кожа (Материал салона)',\n",
       "   'Обогрев рулевого колеса',\n",
       "   'Подогрев передних сидений',\n",
       "   'Отделка кожей рулевого колеса']},\n",
       " {'name': 'Защита от угона', 'values': ['Центральный замок', 'Иммобилайзер']}]"
      ]
     },
     "execution_count": 76,
     "metadata": {},
     "output_type": "execute_result"
    }
   ],
   "source": [
    "new_configuration[0]"
   ]
  },
  {
   "cell_type": "code",
   "execution_count": null,
   "metadata": {},
   "outputs": [],
   "source": []
  },
  {
   "cell_type": "code",
   "execution_count": null,
   "metadata": {},
   "outputs": [],
   "source": []
  },
  {
   "cell_type": "code",
   "execution_count": null,
   "metadata": {},
   "outputs": [],
   "source": []
  },
  {
   "cell_type": "code",
   "execution_count": 77,
   "metadata": {},
   "outputs": [],
   "source": [
    "def category_separation(category,row):\n",
    "    for cat in row:\n",
    "        if(cat['name'] == category) : \n",
    "            return cat['values']\n",
    "    return []"
   ]
  },
  {
   "cell_type": "code",
   "execution_count": 79,
   "metadata": {},
   "outputs": [
    {
     "data": {
      "text/plain": [
       "0       [Регулировка передних сидений по высоте, Перед...\n",
       "1       [Спортивные передние сиденья, Передний централ...\n",
       "2       [Спортивные передние сиденья, Люк, Подогрев за...\n",
       "3       [Передний центральный подлокотник, Складывающе...\n",
       "4       [Передний центральный подлокотник, Люк, Подогр...\n",
       "5                                                      []\n",
       "6       [Передний центральный подлокотник, Складывающе...\n",
       "7       [Тонированные стекла, Регулировка передних сид...\n",
       "8       [Тонированные стекла, Передний центральный под...\n",
       "9                                                      []\n",
       "10      [Тонированные стекла, Передний центральный под...\n",
       "11                                                     []\n",
       "12      [Тонированные стекла, Регулировка передних сид...\n",
       "13      [Тонированные стекла, Передний центральный под...\n",
       "14      [Передний центральный подлокотник, Кожа (Матер...\n",
       "15      [Электрорегулировка сиденья водителя, Люк, Под...\n",
       "16      [Тонированные стекла, Передний центральный под...\n",
       "17      [Тонированные стекла, Тёмный салон, Кожа (Мате...\n",
       "18      [Тонированные стекла, Люк, Тёмный салон, Панор...\n",
       "19      [Тонированные стекла, Отделка кожей рычага КПП...\n",
       "20                                                     []\n",
       "21      [Передний центральный подлокотник, Складывающе...\n",
       "22      [Спортивные передние сиденья, Регулировка пере...\n",
       "23                                                     []\n",
       "24      [Тонированные стекла, Солнцезащитная шторка на...\n",
       "25                                                     []\n",
       "26      [Тонированные стекла, Передний центральный под...\n",
       "27      [Передний центральный подлокотник, Тёмный сало...\n",
       "28      [Подогрев задних сидений, Кожа (Материал салон...\n",
       "29      [Передний центральный подлокотник, Складывающе...\n",
       "30      [Регулировка передних сидений по высоте, Декор...\n",
       "31      [Тонированные стекла, Передний центральный под...\n",
       "32      [Ткань (Материал салона), Тёмный салон, Регули...\n",
       "33      [Тонированные стекла, Передний центральный под...\n",
       "34      [Спортивные передние сиденья, Передний централ...\n",
       "                              ...                        \n",
       "3802    [Регулировка передних сидений по высоте, Элект...\n",
       "3803                                                   []\n",
       "3804                                                   []\n",
       "3805    [Передний центральный подлокотник, Складывающе...\n",
       "3806    [Тонированные стекла, Передний центральный под...\n",
       "3807    [Искусственная кожа (Материал салона), Спортив...\n",
       "3808    [Тонированные стекла, Регулировка передних сид...\n",
       "3809    [Солнцезащитная шторка на заднем стекле, Перед...\n",
       "3810    [Тонированные стекла, Регулировка сиденья води...\n",
       "3811    [Тонированные стекла, Солнцезащитная шторка на...\n",
       "3812    [Кожа (Материал салона), Регулировка передних ...\n",
       "3813                                                   []\n",
       "3814    [Обогрев рулевого колеса, Подогрев передних си...\n",
       "3815    [Тонированные стекла, Спортивные передние сиде...\n",
       "3816    [Тонированные стекла, Люк, Память передних сид...\n",
       "3817    [Тонированные стекла, Спортивные передние сиде...\n",
       "3818                                                   []\n",
       "3819    [Регулировка передних сидений по высоте, Тёмны...\n",
       "3820        [Тонированные стекла, Кожа (Материал салона)]\n",
       "3821    [Спортивные передние сиденья, Передний централ...\n",
       "3822    [Передний центральный подлокотник, Складывающе...\n",
       "3823                                                   []\n",
       "3824    [Тонированные стекла, Спортивные передние сиде...\n",
       "3825    [Тонированные стекла, Передний центральный под...\n",
       "3826    [Тонированные стекла, Передний центральный под...\n",
       "3827    [Тонированные стекла, Регулировка передних сид...\n",
       "3828    [Тонированные стекла, Люк, Кожа (Материал сало...\n",
       "3829    [Передний центральный подлокотник, Декоративна...\n",
       "3830    [Регулировка передних сидений по высоте, Элект...\n",
       "3831    [Передний центральный подлокотник, Декоративна...\n",
       "3832    [Тонированные стекла, Отделка кожей рычага КПП...\n",
       "3833    [Тонированные стекла, Передний центральный под...\n",
       "3834    [Кожа (Материал салона), Обогрев рулевого коле...\n",
       "3835    [Кожа (Материал салона), Обогрев рулевого коле...\n",
       "3836    [Складывающееся заднее сиденье, Электрорегулир...\n",
       "Name: Комплектация, Length: 3837, dtype: object"
      ]
     },
     "execution_count": 79,
     "metadata": {},
     "output_type": "execute_result"
    }
   ],
   "source": [
    "new_configuration.apply(lambda x: category_separation('Салон',x))"
   ]
  },
  {
   "cell_type": "code",
   "execution_count": 78,
   "metadata": {},
   "outputs": [
    {
     "data": {
      "text/plain": [
       "['Регулировка передних сидений по высоте',\n",
       " 'Передний центральный подлокотник',\n",
       " 'Складывающееся заднее сиденье',\n",
       " 'Электрорегулировка передних сидений',\n",
       " 'Тёмный салон',\n",
       " 'Кожа (Материал салона)',\n",
       " 'Обогрев рулевого колеса',\n",
       " 'Подогрев передних сидений',\n",
       " 'Отделка кожей рулевого колеса']"
      ]
     },
     "execution_count": 78,
     "metadata": {},
     "output_type": "execute_result"
    }
   ],
   "source": [
    "category_separation('Салон',new_configuration[0])"
   ]
  },
  {
   "cell_type": "code",
   "execution_count": null,
   "metadata": {},
   "outputs": [],
   "source": []
  },
  {
   "cell_type": "code",
   "execution_count": null,
   "metadata": {},
   "outputs": [],
   "source": []
  },
  {
   "cell_type": "markdown",
   "metadata": {},
   "source": [
    "# ПОДВАЛ"
   ]
  },
  {
   "cell_type": "code",
   "execution_count": 33,
   "metadata": {},
   "outputs": [
    {
     "data": {
      "text/plain": [
       "'[\\'[{\"name\":\"Безопасность\",\"values\":[\"Антипробуксовочная система (ASR)\",\"Система стабилизации (ESP)\",\"Подушка безопасности водителя\",\"Крепление детского кресла (задний ряд) ISOFIX\",\"Подушки безопасности оконные (шторки)\",\"Подушка безопасности пассажира\",\"Подушки безопасности боковые задние\",\"Подушки безопасности боковые\",\"Датчик давления в шинах\",\"Антиблокировочная система (ABS)\",\"Блокировка замков задних дверей\",\"Подушка безопасности для защиты коленей водителя\"]},{\"name\":\"Комфорт\",\"values\":[\"Система «старт-стоп»\",\"Электростеклоподъёмники передние\",\"Мультифункциональное рулевое колесо\",\"Прикуриватель и пепельница\",\"Бортовой компьютер\",\"Усилитель руля\",\"Электропривод зеркал\",\"Электростеклоподъёмники задние\",\"Парктроник передний\",\"Регулировка руля по вылету\",\"Климат-контроль 2-зонный\",\"Электроскладывание зеркал\",\"Парктроник задний\"]},{\"name\":\"Мультимедиа\",\"values\":[\"AUX\",\"USB\",\"Аудиосистема\",\"Bluetooth\"]},{\"name\":\"Обзор\",\"values\":[\"Датчик света\",\"Автоматический корректор фар\",\"Омыватель фар\",\"Датчик дождя\",\"Электрообогрев боковых зеркал\",\"Светодиодные фары\"]},{\"name\":\"Салон\",\"values\":[\"Регулировка передних сидений по высоте\",\"Передний центральный подлокотник\",\"Складывающееся заднее сиденье\",\"Электрорегулировка передних сидений\",\"Тёмный салон\",\"Кожа (Материал салона)\",\"Обогрев рулевого колеса\",\"Подогрев передних сидений\",\"Отделка кожей рулевого колеса\"]},{\"name\":\"Защита от угона\",\"values\":[\"Центральный замок\",\"Иммобилайзер\"]}]\\']'"
      ]
     },
     "execution_count": 33,
     "metadata": {},
     "output_type": "execute_result"
    }
   ],
   "source": [
    "tt = df_test.Комплектация[0]\n",
    "tt"
   ]
  },
  {
   "cell_type": "code",
   "execution_count": 36,
   "metadata": {},
   "outputs": [
    {
     "data": {
      "text/plain": [
       "'[\\'[{\"name\":\"Безопасность\",\"values\":[\"Антипробуксовочная система (ASR)\",\"Система стабилизации (ESP)\",\"Подушка безопасности водителя\",\"Крепление детского кресла (задний ряд) ISOFIX\",\"Подушки безопасности оконные (шторки)\",\"Подушка безопасности пассажира\",\"Подушки безопасности боковые задние\",\"Подушки безопасности боковые\",\"Датчик давления в шинах\",\"Антиблокировочная система (ABS)\",\"Блокировка замков задних дверей\",\"Подушка безопасности для защиты коленей водителя\"]},{\"name\":\"Комфорт\",\"values\":[\"Система «старт-стоп»\",\"Электростеклоподъёмники передние\",\"Мультифункциональное рулевое колесо\",\"Прикуриватель и пепельница\",\"Бортовой компьютер\",\"Усилитель руля\",\"Электропривод зеркал\",\"Электростеклоподъёмники задние\",\"Парктроник передний\",\"Регулировка руля по вылету\",\"Климат-контроль 2-зонный\",\"Электроскладывание зеркал\",\"Парктроник задний\"]},{\"name\":\"Мультимедиа\",\"values\":[\"AUX\",\"USB\",\"Аудиосистема\",\"Bluetooth\"]},{\"name\":\"Обзор\",\"values\":[\"Датчик света\",\"Автоматический корректор фар\",\"Омыватель фар\",\"Датчик дождя\",\"Электрообогрев боковых зеркал\",\"Светодиодные фары\"]},{\"name\":\"Салон\",\"values\":[\"Регулировка передних сидений по высоте\",\"Передний центральный подлокотник\",\"Складывающееся заднее сиденье\",\"Электрорегулировка передних сидений\",\"Тёмный салон\",\"Кожа (Материал салона)\",\"Обогрев рулевого колеса\",\"Подогрев передних сидений\",\"Отделка кожей рулевого колеса\"]},{\"name\":\"Защита от угона\",\"values\":[\"Центральный замок\",\"Иммобилайзер\"]}]\\']'"
      ]
     },
     "execution_count": 36,
     "metadata": {},
     "output_type": "execute_result"
    }
   ],
   "source": [
    "tt"
   ]
  },
  {
   "cell_type": "code",
   "execution_count": null,
   "metadata": {},
   "outputs": [],
   "source": []
  },
  {
   "cell_type": "code",
   "execution_count": 17,
   "metadata": {},
   "outputs": [
    {
     "data": {
      "text/plain": [
       "'0.23.0'"
      ]
     },
     "execution_count": 17,
     "metadata": {},
     "output_type": "execute_result"
    }
   ],
   "source": [
    "pd.__version__"
   ]
  },
  {
   "cell_type": "code",
   "execution_count": 16,
   "metadata": {},
   "outputs": [
    {
     "data": {
      "text/plain": [
       "'1.14.3'"
      ]
     },
     "execution_count": 16,
     "metadata": {},
     "output_type": "execute_result"
    }
   ],
   "source": [
    "np.__version__"
   ]
  },
  {
   "cell_type": "markdown",
   "metadata": {},
   "source": [
    "https://www.youtube.com/watch?v=cQPcEZoxvi0  \n",
    "http://jsonviewer.stack.hu/  \n",
    "https://www.youtube.com/watch?v=ykjBVT57r68  \n",
    "https://pythonru.com/biblioteki/kratkoe-rukovodstvo-po-biblioteke-python-requests  \n"
   ]
  },
  {
   "cell_type": "code",
   "execution_count": 3,
   "metadata": {},
   "outputs": [],
   "source": [
    "df = pd.read_csv('./Project_5_data/all_auto_ru_09_09_2020.csv')"
   ]
  },
  {
   "cell_type": "code",
   "execution_count": 4,
   "metadata": {},
   "outputs": [
    {
     "name": "stdout",
     "output_type": "stream",
     "text": [
      "<class 'pandas.core.frame.DataFrame'>\n",
      "RangeIndex: 89378 entries, 0 to 89377\n",
      "Data columns (total 26 columns):\n",
      "bodyType                89377 non-null object\n",
      "brand                   89378 non-null object\n",
      "color                   89378 non-null object\n",
      "fuelType                89378 non-null object\n",
      "modelDate               89377 non-null float64\n",
      "name                    89377 non-null object\n",
      "numberOfDoors           89377 non-null float64\n",
      "productionDate          89378 non-null int64\n",
      "vehicleConfiguration    89377 non-null object\n",
      "vehicleTransmission     89377 non-null object\n",
      "engineDisplacement      89377 non-null object\n",
      "enginePower             89377 non-null float64\n",
      "description             86124 non-null object\n",
      "mileage                 89378 non-null int64\n",
      "Комплектация            89378 non-null object\n",
      "Привод                  89377 non-null object\n",
      "Руль                    89378 non-null object\n",
      "Состояние               0 non-null float64\n",
      "Владельцы               75790 non-null float64\n",
      "ПТС                     89017 non-null object\n",
      "Таможня                 89378 non-null bool\n",
      "Владение                29201 non-null object\n",
      "price                   88968 non-null float64\n",
      "start_date              89378 non-null object\n",
      "hidden                  0 non-null float64\n",
      "model                   89378 non-null object\n",
      "dtypes: bool(1), float64(7), int64(2), object(16)\n",
      "memory usage: 17.1+ MB\n"
     ]
    }
   ],
   "source": [
    "df.info()"
   ]
  },
  {
   "cell_type": "code",
   "execution_count": null,
   "metadata": {},
   "outputs": [],
   "source": []
  },
  {
   "cell_type": "code",
   "execution_count": null,
   "metadata": {},
   "outputs": [],
   "source": []
  }
 ],
 "metadata": {
  "kernelspec": {
   "display_name": "Python 3",
   "language": "python",
   "name": "python3"
  },
  "language_info": {
   "codemirror_mode": {
    "name": "ipython",
    "version": 3
   },
   "file_extension": ".py",
   "mimetype": "text/x-python",
   "name": "python",
   "nbconvert_exporter": "python",
   "pygments_lexer": "ipython3",
   "version": "3.6.5"
  }
 },
 "nbformat": 4,
 "nbformat_minor": 2
}
