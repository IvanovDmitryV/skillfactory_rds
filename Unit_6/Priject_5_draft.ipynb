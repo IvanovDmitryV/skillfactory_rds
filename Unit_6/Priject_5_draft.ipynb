{
 "cells": [
  {
   "cell_type": "markdown",
   "metadata": {},
   "source": [
    "# Описание задачи\n",
    "## В задачи пректа входит:\n",
    "Обработка предоставленных данных: нахождение и заполнение пропусков, кодировка, нормализация признаков;\n",
    "Создание новых признаков с использованием предоставленных данных;\n",
    "Отбор признаков;\n",
    "Обучение и тестирование модели на полученных признаках;\n",
    "Оптимизация размера набора данных и подбор макропараметров модели на оптимизированном наборе;\n",
    "Получение предсказанных моделью значений, подготовка и отправка submission\n",
    "## Описание датасета\n",
    "Первоначальная версия датасета состоит из 14-ти столбцов, содержащих следующую информацию:\n",
    "\n",
    "client_id - идентификатор клиента\n",
    "education - уровень образования\n",
    "sex - пол заёмщика\n",
    "age - возраст заёмщика\n",
    "car - флаг наличия автомобиля\n",
    "car_type - флаг автомобиля-иномарки\n",
    "decline_app_cnt - количество отказанных прошлых заявок\n",
    "good_work - флаг наличия «хорошей» работы\n",
    "bki_request_cnt - количество запросов в БКИ\n",
    "home_address - категоризатор домашнего адреса\n",
    "work_address - категоризатор рабочего адреса\n",
    "income - доход заёмщика\n",
    "foreign_passport - наличие загранпаспорта\n",
    "sna - связь заемщика с клиентами банка\n",
    "first_time - давность наличия информации о заемщике\n",
    "score_bki - скоринговый балл по данным из БКИ\n",
    "region_rating - рейтинг региона\n",
    "app_date - дата подачи заявки\n",
    "default - наличие дефолта (целевая переменная)\n",
    "# Импорт библиотек, установка параметров, определение функций\n",
    "## Импорт бибилиотек"
   ]
  },
  {
   "cell_type": "code",
   "execution_count": 22,
   "metadata": {},
   "outputs": [],
   "source": [
    "import pandas as pd\n",
    "import numpy as np\n",
    "\n",
    "from pprint import pprint"
   ]
  },
  {
   "cell_type": "markdown",
   "metadata": {},
   "source": [
    "## Установка параметров"
   ]
  },
  {
   "cell_type": "code",
   "execution_count": 18,
   "metadata": {},
   "outputs": [
    {
     "name": "stdout",
     "output_type": "stream",
     "text": [
      "Populating the interactive namespace from numpy and matplotlib\n"
     ]
    }
   ],
   "source": [
    "%pylab inline\n",
    "\n",
    "pd.set_option('display.max_rows', 70) # выведем больше строк\n",
    "pd.set_option('display.max_columns', 30) # выведем больше колонок"
   ]
  },
  {
   "cell_type": "markdown",
   "metadata": {},
   "source": [
    "## Определение функций"
   ]
  },
  {
   "cell_type": "markdown",
   "metadata": {},
   "source": [
    "# Получение данных"
   ]
  },
  {
   "cell_type": "code",
   "execution_count": 4,
   "metadata": {},
   "outputs": [],
   "source": [
    "df_test = pd.read_csv('./Project_5_data/test.csv')"
   ]
  },
  {
   "cell_type": "code",
   "execution_count": 5,
   "metadata": {},
   "outputs": [
    {
     "data": {
      "text/plain": [
       "Index(['bodyType', 'brand', 'color', 'fuelType', 'modelDate', 'name',\n",
       "       'numberOfDoors', 'productionDate', 'vehicleConfiguration',\n",
       "       'vehicleTransmission', 'engineDisplacement', 'enginePower',\n",
       "       'description', 'mileage', 'Комплектация', 'Привод', 'Руль', 'Состояние',\n",
       "       'Владельцы', 'ПТС', 'Таможня', 'Владение', 'id'],\n",
       "      dtype='object')"
      ]
     },
     "execution_count": 5,
     "metadata": {},
     "output_type": "execute_result"
    }
   ],
   "source": [
    "df_test.columns"
   ]
  },
  {
   "cell_type": "code",
   "execution_count": 19,
   "metadata": {},
   "outputs": [
    {
     "data": {
      "text/html": [
       "<div>\n",
       "<style scoped>\n",
       "    .dataframe tbody tr th:only-of-type {\n",
       "        vertical-align: middle;\n",
       "    }\n",
       "\n",
       "    .dataframe tbody tr th {\n",
       "        vertical-align: top;\n",
       "    }\n",
       "\n",
       "    .dataframe thead th {\n",
       "        text-align: right;\n",
       "    }\n",
       "</style>\n",
       "<table border=\"1\" class=\"dataframe\">\n",
       "  <thead>\n",
       "    <tr style=\"text-align: right;\">\n",
       "      <th></th>\n",
       "      <th>bodyType</th>\n",
       "      <th>brand</th>\n",
       "      <th>color</th>\n",
       "      <th>fuelType</th>\n",
       "      <th>modelDate</th>\n",
       "      <th>name</th>\n",
       "      <th>numberOfDoors</th>\n",
       "      <th>productionDate</th>\n",
       "      <th>vehicleConfiguration</th>\n",
       "      <th>vehicleTransmission</th>\n",
       "      <th>engineDisplacement</th>\n",
       "      <th>enginePower</th>\n",
       "      <th>description</th>\n",
       "      <th>mileage</th>\n",
       "      <th>Комплектация</th>\n",
       "      <th>Привод</th>\n",
       "      <th>Руль</th>\n",
       "      <th>Состояние</th>\n",
       "      <th>Владельцы</th>\n",
       "      <th>ПТС</th>\n",
       "      <th>Таможня</th>\n",
       "      <th>Владение</th>\n",
       "      <th>id</th>\n",
       "    </tr>\n",
       "  </thead>\n",
       "  <tbody>\n",
       "    <tr>\n",
       "      <th>0</th>\n",
       "      <td>седан</td>\n",
       "      <td>BMW</td>\n",
       "      <td>чёрный</td>\n",
       "      <td>дизель</td>\n",
       "      <td>2016.0</td>\n",
       "      <td>520d 2.0d AT (190 л.с.)</td>\n",
       "      <td>4.0</td>\n",
       "      <td>2017.0</td>\n",
       "      <td>SEDAN AUTOMATIC 2.0</td>\n",
       "      <td>автоматическая</td>\n",
       "      <td>2.0 LTR</td>\n",
       "      <td>190 N12</td>\n",
       "      <td>В РОЛЬФ Ясенево представлено более 500 автомоб...</td>\n",
       "      <td>158836.0</td>\n",
       "      <td>['[{\"name\":\"Безопасность\",\"values\":[\"Антипробу...</td>\n",
       "      <td>задний</td>\n",
       "      <td>Левый</td>\n",
       "      <td>Не требует ремонта</td>\n",
       "      <td>1 владелец</td>\n",
       "      <td>Оригинал</td>\n",
       "      <td>Растаможен</td>\n",
       "      <td>NaN</td>\n",
       "      <td>0</td>\n",
       "    </tr>\n",
       "    <tr>\n",
       "      <th>1</th>\n",
       "      <td>седан</td>\n",
       "      <td>BMW</td>\n",
       "      <td>белый</td>\n",
       "      <td>дизель</td>\n",
       "      <td>2018.0</td>\n",
       "      <td>318d 2.0d AT (150 л.с.)</td>\n",
       "      <td>4.0</td>\n",
       "      <td>2019.0</td>\n",
       "      <td>SEDAN AUTOMATIC 2.0</td>\n",
       "      <td>автоматическая</td>\n",
       "      <td>2.0 LTR</td>\n",
       "      <td>150 N12</td>\n",
       "      <td>Автомобиль из демонстрационного парка по спец ...</td>\n",
       "      <td>10.0</td>\n",
       "      <td>['[{\"name\":\"Комфорт\",\"values\":[\"Круиз-контроль...</td>\n",
       "      <td>задний</td>\n",
       "      <td>Левый</td>\n",
       "      <td>Не требует ремонта</td>\n",
       "      <td>1 владелец</td>\n",
       "      <td>Оригинал</td>\n",
       "      <td>Растаможен</td>\n",
       "      <td>NaN</td>\n",
       "      <td>1</td>\n",
       "    </tr>\n",
       "    <tr>\n",
       "      <th>2</th>\n",
       "      <td>седан</td>\n",
       "      <td>BMW</td>\n",
       "      <td>синий</td>\n",
       "      <td>бензин</td>\n",
       "      <td>2009.0</td>\n",
       "      <td>550i xDrive 4.4 AT (407 л.с.) 4WD</td>\n",
       "      <td>4.0</td>\n",
       "      <td>2012.0</td>\n",
       "      <td>SEDAN AUTOMATIC 4.4</td>\n",
       "      <td>автоматическая</td>\n",
       "      <td>4.4 LTR</td>\n",
       "      <td>407 N12</td>\n",
       "      <td>Машина собиралась под заказ! \\n\\n</td>\n",
       "      <td>120000.0</td>\n",
       "      <td>['[{\"name\":\"Комфорт\",\"values\":[\"Круиз-контроль...</td>\n",
       "      <td>полный</td>\n",
       "      <td>Левый</td>\n",
       "      <td>Не требует ремонта</td>\n",
       "      <td>2 владельца</td>\n",
       "      <td>Оригинал</td>\n",
       "      <td>Растаможен</td>\n",
       "      <td>7 лет и 2 месяца</td>\n",
       "      <td>2</td>\n",
       "    </tr>\n",
       "    <tr>\n",
       "      <th>3</th>\n",
       "      <td>внедорожник 5 дв.</td>\n",
       "      <td>BMW</td>\n",
       "      <td>белый</td>\n",
       "      <td>дизель</td>\n",
       "      <td>2014.0</td>\n",
       "      <td>30d 3.0d AT (249 л.с.) 4WD</td>\n",
       "      <td>5.0</td>\n",
       "      <td>2015.0</td>\n",
       "      <td>ALLROAD_5_DOORS AUTOMATIC 3.0</td>\n",
       "      <td>автоматическая</td>\n",
       "      <td>3.0 LTR</td>\n",
       "      <td>249 N12</td>\n",
       "      <td>АВТОМОБИЛЬ В БЕЗУПРЕЧНОМ ВНЕШНЕМ И ТЕХНИЧЕСКОМ...</td>\n",
       "      <td>111466.0</td>\n",
       "      <td>['[{\"name\":\"Комфорт\",\"values\":[\"Круиз-контроль...</td>\n",
       "      <td>полный</td>\n",
       "      <td>Левый</td>\n",
       "      <td>Не требует ремонта</td>\n",
       "      <td>2 владельца</td>\n",
       "      <td>Оригинал</td>\n",
       "      <td>Растаможен</td>\n",
       "      <td>NaN</td>\n",
       "      <td>3</td>\n",
       "    </tr>\n",
       "    <tr>\n",
       "      <th>4</th>\n",
       "      <td>внедорожник 5 дв.</td>\n",
       "      <td>BMW</td>\n",
       "      <td>синий</td>\n",
       "      <td>дизель</td>\n",
       "      <td>2014.0</td>\n",
       "      <td>M50d 3.0d AT (381 л.с.) 4WD</td>\n",
       "      <td>5.0</td>\n",
       "      <td>2019.0</td>\n",
       "      <td>ALLROAD_5_DOORS AUTOMATIC 3.0</td>\n",
       "      <td>автоматическая</td>\n",
       "      <td>3.0 LTR</td>\n",
       "      <td>381 N12</td>\n",
       "      <td>Автомобиль не имеет собственников ( физ. лиц) ...</td>\n",
       "      <td>11891.0</td>\n",
       "      <td>['[{\"name\":\"Комфорт\",\"values\":[\"Круиз-контроль...</td>\n",
       "      <td>полный</td>\n",
       "      <td>Левый</td>\n",
       "      <td>Не требует ремонта</td>\n",
       "      <td>1 владелец</td>\n",
       "      <td>Оригинал</td>\n",
       "      <td>Растаможен</td>\n",
       "      <td>NaN</td>\n",
       "      <td>4</td>\n",
       "    </tr>\n",
       "  </tbody>\n",
       "</table>\n",
       "</div>"
      ],
      "text/plain": [
       "            bodyType brand   color fuelType  modelDate  \\\n",
       "0              седан   BMW  чёрный   дизель     2016.0   \n",
       "1              седан   BMW   белый   дизель     2018.0   \n",
       "2              седан   BMW   синий   бензин     2009.0   \n",
       "3  внедорожник 5 дв.   BMW   белый   дизель     2014.0   \n",
       "4  внедорожник 5 дв.   BMW   синий   дизель     2014.0   \n",
       "\n",
       "                                name  numberOfDoors  productionDate  \\\n",
       "0            520d 2.0d AT (190 л.с.)            4.0          2017.0   \n",
       "1            318d 2.0d AT (150 л.с.)            4.0          2019.0   \n",
       "2  550i xDrive 4.4 AT (407 л.с.) 4WD            4.0          2012.0   \n",
       "3         30d 3.0d AT (249 л.с.) 4WD            5.0          2015.0   \n",
       "4        M50d 3.0d AT (381 л.с.) 4WD            5.0          2019.0   \n",
       "\n",
       "            vehicleConfiguration vehicleTransmission engineDisplacement  \\\n",
       "0            SEDAN AUTOMATIC 2.0      автоматическая            2.0 LTR   \n",
       "1            SEDAN AUTOMATIC 2.0      автоматическая            2.0 LTR   \n",
       "2            SEDAN AUTOMATIC 4.4      автоматическая            4.4 LTR   \n",
       "3  ALLROAD_5_DOORS AUTOMATIC 3.0      автоматическая            3.0 LTR   \n",
       "4  ALLROAD_5_DOORS AUTOMATIC 3.0      автоматическая            3.0 LTR   \n",
       "\n",
       "  enginePower                                        description   mileage  \\\n",
       "0     190 N12  В РОЛЬФ Ясенево представлено более 500 автомоб...  158836.0   \n",
       "1     150 N12  Автомобиль из демонстрационного парка по спец ...      10.0   \n",
       "2     407 N12                  Машина собиралась под заказ! \\n\\n  120000.0   \n",
       "3     249 N12  АВТОМОБИЛЬ В БЕЗУПРЕЧНОМ ВНЕШНЕМ И ТЕХНИЧЕСКОМ...  111466.0   \n",
       "4     381 N12  Автомобиль не имеет собственников ( физ. лиц) ...   11891.0   \n",
       "\n",
       "                                        Комплектация  Привод   Руль  \\\n",
       "0  ['[{\"name\":\"Безопасность\",\"values\":[\"Антипробу...  задний  Левый   \n",
       "1  ['[{\"name\":\"Комфорт\",\"values\":[\"Круиз-контроль...  задний  Левый   \n",
       "2  ['[{\"name\":\"Комфорт\",\"values\":[\"Круиз-контроль...  полный  Левый   \n",
       "3  ['[{\"name\":\"Комфорт\",\"values\":[\"Круиз-контроль...  полный  Левый   \n",
       "4  ['[{\"name\":\"Комфорт\",\"values\":[\"Круиз-контроль...  полный  Левый   \n",
       "\n",
       "            Состояние    Владельцы       ПТС     Таможня          Владение  id  \n",
       "0  Не требует ремонта   1 владелец  Оригинал  Растаможен               NaN   0  \n",
       "1  Не требует ремонта   1 владелец  Оригинал  Растаможен               NaN   1  \n",
       "2  Не требует ремонта  2 владельца  Оригинал  Растаможен  7 лет и 2 месяца   2  \n",
       "3  Не требует ремонта  2 владельца  Оригинал  Растаможен               NaN   3  \n",
       "4  Не требует ремонта   1 владелец  Оригинал  Растаможен               NaN   4  "
      ]
     },
     "execution_count": 19,
     "metadata": {},
     "output_type": "execute_result"
    }
   ],
   "source": [
    "df_test.head()"
   ]
  },
  {
   "cell_type": "code",
   "execution_count": null,
   "metadata": {},
   "outputs": [],
   "source": [
    "df"
   ]
  },
  {
   "cell_type": "code",
   "execution_count": null,
   "metadata": {},
   "outputs": [],
   "source": []
  },
  {
   "cell_type": "code",
   "execution_count": null,
   "metadata": {},
   "outputs": [],
   "source": []
  },
  {
   "cell_type": "code",
   "execution_count": null,
   "metadata": {},
   "outputs": [],
   "source": []
  },
  {
   "cell_type": "code",
   "execution_count": null,
   "metadata": {},
   "outputs": [],
   "source": []
  },
  {
   "cell_type": "markdown",
   "metadata": {},
   "source": [
    "# ПОДВАЛ"
   ]
  },
  {
   "cell_type": "code",
   "execution_count": 33,
   "metadata": {},
   "outputs": [
    {
     "data": {
      "text/plain": [
       "'[\\'[{\"name\":\"Безопасность\",\"values\":[\"Антипробуксовочная система (ASR)\",\"Система стабилизации (ESP)\",\"Подушка безопасности водителя\",\"Крепление детского кресла (задний ряд) ISOFIX\",\"Подушки безопасности оконные (шторки)\",\"Подушка безопасности пассажира\",\"Подушки безопасности боковые задние\",\"Подушки безопасности боковые\",\"Датчик давления в шинах\",\"Антиблокировочная система (ABS)\",\"Блокировка замков задних дверей\",\"Подушка безопасности для защиты коленей водителя\"]},{\"name\":\"Комфорт\",\"values\":[\"Система «старт-стоп»\",\"Электростеклоподъёмники передние\",\"Мультифункциональное рулевое колесо\",\"Прикуриватель и пепельница\",\"Бортовой компьютер\",\"Усилитель руля\",\"Электропривод зеркал\",\"Электростеклоподъёмники задние\",\"Парктроник передний\",\"Регулировка руля по вылету\",\"Климат-контроль 2-зонный\",\"Электроскладывание зеркал\",\"Парктроник задний\"]},{\"name\":\"Мультимедиа\",\"values\":[\"AUX\",\"USB\",\"Аудиосистема\",\"Bluetooth\"]},{\"name\":\"Обзор\",\"values\":[\"Датчик света\",\"Автоматический корректор фар\",\"Омыватель фар\",\"Датчик дождя\",\"Электрообогрев боковых зеркал\",\"Светодиодные фары\"]},{\"name\":\"Салон\",\"values\":[\"Регулировка передних сидений по высоте\",\"Передний центральный подлокотник\",\"Складывающееся заднее сиденье\",\"Электрорегулировка передних сидений\",\"Тёмный салон\",\"Кожа (Материал салона)\",\"Обогрев рулевого колеса\",\"Подогрев передних сидений\",\"Отделка кожей рулевого колеса\"]},{\"name\":\"Защита от угона\",\"values\":[\"Центральный замок\",\"Иммобилайзер\"]}]\\']'"
      ]
     },
     "execution_count": 33,
     "metadata": {},
     "output_type": "execute_result"
    }
   ],
   "source": [
    "tt = df_test.Комплектация[0]\n",
    "tt"
   ]
  },
  {
   "cell_type": "code",
   "execution_count": 36,
   "metadata": {},
   "outputs": [
    {
     "data": {
      "text/plain": [
       "'[\\'[{\"name\":\"Безопасность\",\"values\":[\"Антипробуксовочная система (ASR)\",\"Система стабилизации (ESP)\",\"Подушка безопасности водителя\",\"Крепление детского кресла (задний ряд) ISOFIX\",\"Подушки безопасности оконные (шторки)\",\"Подушка безопасности пассажира\",\"Подушки безопасности боковые задние\",\"Подушки безопасности боковые\",\"Датчик давления в шинах\",\"Антиблокировочная система (ABS)\",\"Блокировка замков задних дверей\",\"Подушка безопасности для защиты коленей водителя\"]},{\"name\":\"Комфорт\",\"values\":[\"Система «старт-стоп»\",\"Электростеклоподъёмники передние\",\"Мультифункциональное рулевое колесо\",\"Прикуриватель и пепельница\",\"Бортовой компьютер\",\"Усилитель руля\",\"Электропривод зеркал\",\"Электростеклоподъёмники задние\",\"Парктроник передний\",\"Регулировка руля по вылету\",\"Климат-контроль 2-зонный\",\"Электроскладывание зеркал\",\"Парктроник задний\"]},{\"name\":\"Мультимедиа\",\"values\":[\"AUX\",\"USB\",\"Аудиосистема\",\"Bluetooth\"]},{\"name\":\"Обзор\",\"values\":[\"Датчик света\",\"Автоматический корректор фар\",\"Омыватель фар\",\"Датчик дождя\",\"Электрообогрев боковых зеркал\",\"Светодиодные фары\"]},{\"name\":\"Салон\",\"values\":[\"Регулировка передних сидений по высоте\",\"Передний центральный подлокотник\",\"Складывающееся заднее сиденье\",\"Электрорегулировка передних сидений\",\"Тёмный салон\",\"Кожа (Материал салона)\",\"Обогрев рулевого колеса\",\"Подогрев передних сидений\",\"Отделка кожей рулевого колеса\"]},{\"name\":\"Защита от угона\",\"values\":[\"Центральный замок\",\"Иммобилайзер\"]}]\\']'"
      ]
     },
     "execution_count": 36,
     "metadata": {},
     "output_type": "execute_result"
    }
   ],
   "source": [
    "tt"
   ]
  },
  {
   "cell_type": "code",
   "execution_count": null,
   "metadata": {},
   "outputs": [],
   "source": []
  },
  {
   "cell_type": "code",
   "execution_count": 17,
   "metadata": {},
   "outputs": [
    {
     "data": {
      "text/plain": [
       "'0.23.0'"
      ]
     },
     "execution_count": 17,
     "metadata": {},
     "output_type": "execute_result"
    }
   ],
   "source": [
    "pd.__version__"
   ]
  },
  {
   "cell_type": "code",
   "execution_count": 16,
   "metadata": {},
   "outputs": [
    {
     "data": {
      "text/plain": [
       "'1.14.3'"
      ]
     },
     "execution_count": 16,
     "metadata": {},
     "output_type": "execute_result"
    }
   ],
   "source": [
    "np.__version__"
   ]
  },
  {
   "cell_type": "markdown",
   "metadata": {},
   "source": [
    "https://www.youtube.com/watch?v=cQPcEZoxvi0  \n",
    "http://jsonviewer.stack.hu/  \n",
    "https://www.youtube.com/watch?v=ykjBVT57r68  \n",
    "https://pythonru.com/biblioteki/kratkoe-rukovodstvo-po-biblioteke-python-requests  \n"
   ]
  },
  {
   "cell_type": "code",
   "execution_count": null,
   "metadata": {},
   "outputs": [],
   "source": []
  }
 ],
 "metadata": {
  "kernelspec": {
   "display_name": "Python 3",
   "language": "python",
   "name": "python3"
  },
  "language_info": {
   "codemirror_mode": {
    "name": "ipython",
    "version": 3
   },
   "file_extension": ".py",
   "mimetype": "text/x-python",
   "name": "python",
   "nbconvert_exporter": "python",
   "pygments_lexer": "ipython3",
   "version": "3.6.5"
  }
 },
 "nbformat": 4,
 "nbformat_minor": 2
}
