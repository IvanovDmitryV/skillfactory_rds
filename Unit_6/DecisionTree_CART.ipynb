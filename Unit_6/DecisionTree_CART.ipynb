{
 "cells": [
  {
   "cell_type": "markdown",
   "metadata": {},
   "source": [
    "# Алгоритмы на основе деревьев решений"
   ]
  },
  {
   "cell_type": "markdown",
   "metadata": {
    "tags": []
   },
   "source": [
    "Пусть у нас задано обучающее множество пар объектов и ответов к ним $Q=\\{(x, y)\\}$, где $x ∈ X$ - вектора из $\\mathbb{R}^M$, описываемые $M$ координатами (признаками), $y ∈ Y$ - целевая метка объекта, $|Q|=N$. Множество $Y$ может быть непрерывным (задача регрессии) с мощность $|Y|=N$ или дискретным (задача классификации) с мощностью $|Y|=K$, где $K$ - количество классов.\n",
    "\n",
    "Наша с вами цель - составить такую функцию $f(x)$ - модель, которая наилучшим образом определяет зависимость между векторами x из множества $X$ и целевой переменной $y$ из множества $Y$   $f:X \\Rightarrow Y$. \n",
    "\n",
    "Строго говоря, такую функцию мы будем искать не в аналитическом виде, как мы делали, например, в случае линейной регрессии, а в виде алгоритма, то есть в виде последовательности действий. Обычно в математике алгоритм обозначается как $a(x)$ или $a: X \\Rightarrow Y$.\n",
    "\n",
    "\n",
    "Алгоритм $a(x)$ мы будем искать в семействе деревьев решений. "
   ]
  },
  {
   "cell_type": "markdown",
   "metadata": {},
   "source": [
    "## Деревья решений. Алгоритм CART"
   ]
  },
  {
   "cell_type": "markdown",
   "metadata": {},
   "source": [
    "**CART (Classification and Regression Tree)** - алгоритм и предназначенный для построения бинарных деревьев решений (деревьев, у которых каждая вершина связана с двумя другими вершинами нижнего уровня). Алгоритм очень похож на C4.5, однако в отличие от последнего предназначен как для задач классификации, так и для задач регрессии. CART важен для нас поскольку, именно он используется для построения моделей решающих деревьев в sklearn.\n"
   ]
  },
  {
   "cell_type": "code",
   "execution_count": 1,
   "metadata": {},
   "outputs": [],
   "source": [
    "import pandas as pd\n",
    "import matplotlib.pyplot as plt\n",
    "import seaborn as sns\n",
    "import numpy as np\n",
    "from sklearn import tree"
   ]
  },
  {
   "cell_type": "markdown",
   "metadata": {
    "tags": []
   },
   "source": [
    "### Алгоритм CART: параметры разбиения"
   ]
  },
  {
   "cell_type": "markdown",
   "metadata": {},
   "source": [
    "Решаем задачу построения решающего пня: дерева с глубиной 1.\n",
    "\n",
    "Будем рассматривать простые предикаты вида:\n",
    "$$B(x_j, t)=[x_j \\leqslant t]$$\n",
    "Введем некоторую меру неоднородности $G(X, y, w)$, которая будет  показывать, насколько большой разброс целевой переменной $y$ для объектов из множества $X$ наблюдается в дочерних вершинах при параметрах сплита $w$. \n",
    "\n",
    "Которая будет  показывать, насколько большой разброс целевой переменной $y$ для объектов из множества X наблюдается в дочерних вершинах при параметрах сплита $w$. \n",
    "\n",
    "Параметры $w=(j, t)$ можно найти простым перебором. В качестве кандидатов на пороговое значение $t$ можно рассматривать среднее значением между двумя соседними уникальными значениями отсортированного фактора $x_j$. \n",
    "\n",
    "Для каждого из возможных предикатов $B(x_j, t)$ нам необходимо подсчитать значение неоднородности $G(X, y,w)$ на всей выборке и определить такую комбинацию $w_{opt}=(j_{opt}, t_{opt})$, которая дает минимум:\n",
    "\n",
    "$$w_{opt} = argmin_w(G(X, y, w))$$\n",
    "\n",
    "Псевдокод алгоритма поиска оптимальных параметров:\n",
    "```\n",
    "min_loss = inf\n",
    "optimal_split_params = None\n",
    "for j in range(M):\n",
    "    thresholds = find_candidates_for_thresholds(X[:, j], y)\n",
    "    for t in thresholds:\n",
    "        split_params = (j, t)\n",
    "        loss = calculate_loss(X, y, split_params)\n",
    "        if loss < min_loss:\n",
    "            min_loss = loss\n",
    "            optimal_split_params = split_params\n",
    "```\n",
    "\n",
    "Алгоритм поиска кандидатов в параметры разбиения:\n",
    "1. Сортировать числовой фактор $x_j$ по возрастанию:\n",
    "$$\\{x_{ij} | x_{ij}<x_{(i+1)j}\\} $$\n",
    "2. Вычислить среднее между двумя соседними уникальными значениями фактора:\n",
    "$$\\{x_{ij}^{mean}| x_{ij}^{mean}=\\frac{(x_{ij}+x_{(i+1)j})}{2}\\}$$\n",
    "3. В качестве кандидатов на пороговые значений t выбираются только те значения, при которых целевой признак меняет свое значение.\n",
    "$$\\{x_{ij}^{mean}| y_i-y_{(i+1)} \\neq 0\\}$$ \n"
   ]
  },
  {
   "cell_type": "code",
   "execution_count": 2,
   "metadata": {},
   "outputs": [
    {
     "data": {
      "text/plain": [
       "2    17.5\n",
       "3    19.0\n",
       "7    22.5\n",
       "9    30.0\n",
       "4    34.5\n",
       "5    43.5\n",
       "Name: age, dtype: float64"
      ]
     },
     "execution_count": 2,
     "metadata": {},
     "output_type": "execute_result"
    }
   ],
   "source": [
    "data = pd.DataFrame({\n",
    "    'age': [17, 64, 18, 20, 38, 49, 55, 25, 29, 31],\n",
    "    'income': [25, 80, 22, 36, 37, 59, 74, 70, 33, 102],\n",
    "    'loan': [1, 0, 1, 0, 1, 0, 0, 1, 1, 0]\n",
    "})\n",
    "x = data['age']\n",
    "y = data['loan']\n",
    "x = x.sort_values().drop_duplicates()\n",
    "x_roll_mean = x.rolling(2).mean()\n",
    "x_roll_mean = x_roll_mean.dropna()\n",
    "y = y[x_roll_mean.index]\n",
    "y_roll_mean = y.diff()\n",
    "candidates = x_roll_mean[y_roll_mean != 0]\n",
    "candidates"
   ]
  },
  {
   "cell_type": "code",
   "execution_count": 3,
   "metadata": {},
   "outputs": [
    {
     "name": "stdout",
     "output_type": "stream",
     "text": [
      "[17.5 19.  22.5 30.  34.5 43.5]\n",
      "[23.5 34.5 36.5 48.  64.5 72. ]\n"
     ]
    }
   ],
   "source": [
    "def find_candidates_for_thresholds(x, y):\n",
    "    x = x.sort_values().drop_duplicates()\n",
    "    x_roll_mean = x.rolling(2).mean().dropna()\n",
    "    y = y[x_roll_mean.index]\n",
    "    y_roll_mean = y.diff()\n",
    "    candidates = x_roll_mean[y_roll_mean != 0]\n",
    "    return candidates.values\n",
    "\n",
    "print(find_candidates_for_thresholds(data['age'], data['loan']))\n",
    "print(find_candidates_for_thresholds(data['income'], data['loan']))"
   ]
  },
  {
   "cell_type": "markdown",
   "metadata": {},
   "source": [
    "### Алгоритм CART: неоднородность, критерии информативности"
   ]
  },
  {
   "cell_type": "markdown",
   "metadata": {
    "tags": []
   },
   "source": [
    "Пары объектов $x$ и ответов $y$, соответствующих им, обозначим одной буквой $Q=\\{(x, y)\\}$. Пусть это множество $Q$ содержит $N=|Q|$ объектов из обучающей выборки.\n",
    "\n",
    "Введем функцию **критерия информативности (критерий неоднородности)** $H(Q)$, которая показывает разброс ответов $y$ в обучающей выборке $Q$.\n",
    "\n",
    "Предположим, что мы выбрали какие конкретные параметры $w$, тогда множество $Q$ разбивается на две части: $Q^{left}=(X^{left} ,y^{left})$ и $Q^{right}=(X^{right} ,y^{right})$, для которых условие предиката $B(x_j,t)$ выполняется и не выполняется соответственно:\n",
    " \n",
    "$$Q^{left}=\\{(x, y)| x_{j} \\leqslant t\\}$$\n",
    "\n",
    "$$Q^{right}=Q - Q^{left}=\\{(x, y)| x_j>t\\}$$\n",
    " \n",
    "Каждая из полученных выборок будет иметь свои размеры - мощности множеств, назовем их как $N^{left}=|Q^{left}|$ и $N^{right}=|Q^{right}|$.\n",
    "Введем понятие **взвешенной неоднородности**:\n",
    "$$G(Q, w) = \\frac{N^{left}}{N} H(Q^{left}) + \\frac{N^{right}}{N} H(Q^{right})  \\Rightarrow min_{w}$$\n",
    "\n",
    "$$w_{opt} = argmin_w(G(Q, w))$$\n",
    "\n",
    "Тогда **прирост информации (information gain)** будет выражаться как: \n",
    " \n",
    "$$IG(Q, w)=H(Q)-G(Q, w)=H(Q)- \\frac{N^{left}}{N} H(Q^{left})-\\frac{N^{right}}{N} H(Q^{right})$$\n",
    "\n",
    "#### Критерии информативности регрессии:\n",
    "* **squared error:**\n",
    "$$H(Q)=\\frac{1}{N} \\sum_{y∈ Q} (y-\\hat{y})^2 = \\frac{1}{N} \\sum_{y∈ Q} (y-\\overline{y})^2 $$\n",
    "$$\\overline{y} = \\frac{1}{N} \\sum_{y∈ Q}y$$\n",
    "\n",
    "* **absolute error:**\n",
    "$$H(Q)=\\frac{1}{N} \\sum_{y∈ Q} |y-\\hat{y}| = \\frac{1}{N} \\sum_{y∈ Q} |y-median(y)| $$\n",
    "\n",
    "* **poisson:**\n",
    "\n",
    "$$H(Q)=\\frac{1}{N} \\sum_{y∈ Q} (y log (\\frac{y}{\\overline{y}} - y + \\overline{y}) $$\n",
    "\n",
    "#### Критерии информативности классификации:\n",
    "\n",
    "Вероятность принадлежности к классу под номером $k$: \n",
    " \n",
    "$$P_k=\\frac{1}{N}\\sum_{y∈ Q}[y=k]$$\n",
    "\n",
    "* **entropy:**\n",
    "$$H(Q)=-\\sum_{k=1}^{K} P_k log(P_k)$$\n",
    "\n",
    "* **gini:**\n",
    "\n",
    "$$H(Q)=\\sum_{k=1}^{K}P_k(1-P_k)$$"
   ]
  },
  {
   "cell_type": "code",
   "execution_count": 9,
   "metadata": {},
   "outputs": [],
   "source": [
    "def squared_error(y):\n",
    "    y_pred = y.mean()\n",
    "    return ((y - y_pred) ** 2).mean()\n",
    "\n",
    "def entropy(y):\n",
    "    p = y.value_counts(normalize=True)\n",
    "    entropy = -np.sum(p * np.log2(p))\n",
    "    return entropy\n",
    "\n",
    "def split(X, y, split_params):\n",
    "    j, t = split_params\n",
    "    predicat = X.iloc[:, j] <= t\n",
    "    X_left, y_left = X[predicat], y[predicat]\n",
    "    X_right, y_right = X[~predicat], y[~predicat]\n",
    "    return X_left, y_left, X_right, y_right\n",
    "\n",
    "def calculate_weighted_impurity(X, y, split_params, criterion):\n",
    "    X_left, y_left, X_right, y_right = split(X, y, split_params)\n",
    "    N, N_left, N_right  = y.size, y_left.size, y_right.size\n",
    "    score = N_left / N * criterion(y_left) + N_right / N * criterion(y_right)\n",
    "    return score\n",
    "\n",
    "def best_split(X, y, criterion):\n",
    "    M = X.shape[1]\n",
    "    min_weighted_impurity = np.inf\n",
    "    optimal_split_params = None\n",
    "    for j in range(M):\n",
    "        thresholds = find_candidates_for_thresholds(X.iloc[:, j], y)\n",
    "        for t in thresholds:\n",
    "            split_params = (j, t)\n",
    "            weighted_impurity = calculate_weighted_impurity(X, y, split_params, criterion)\n",
    "            if weighted_impurity < min_weighted_impurity:\n",
    "                min_weighted_impurity = weighted_impurity\n",
    "                optimal_split_params = split_params\n",
    "    return optimal_split_params"
   ]
  },
  {
   "cell_type": "code",
   "execution_count": 5,
   "metadata": {},
   "outputs": [
    {
     "name": "stdout",
     "output_type": "stream",
     "text": [
      "Optimal j: 0\n",
      "Optimal t: 5.5\n"
     ]
    }
   ],
   "source": [
    "# Создаем обучающую выборку\n",
    "data = pd.DataFrame({\n",
    "    'x1': list(range(1, 16)),\n",
    "    'y': [1, 1.2, 1.4, 1.1, 1, 5.5, 6.1, 6.7, 6.4, 6, 6, 3, 3.2, 3.1, 3]\n",
    "})\n",
    "X = data[['x1']]\n",
    "y = data['y']\n",
    "# Находим оптимальные параметры разбиения\n",
    "optimal_split_params = best_split(X, y, criterion=squared_error)\n",
    "print('Optimal j: {}'.format(optimal_split_params[0]))\n",
    "print('Optimal t: {}'.format(optimal_split_params[1]))"
   ]
  },
  {
   "cell_type": "code",
   "execution_count": 7,
   "metadata": {},
   "outputs": [
    {
     "data": {
      "image/png": "[encoded data removed]",
      "text/plain": [
       "<Figure size 432x288 with 1 Axes>"
      ]
     },
     "metadata": {
      "needs_background": "light"
     },
     "output_type": "display_data"
    }
   ],
   "source": [
    "# Инициализируем модель дерева решений с максимальной глубиной 1 и обучаем ее\n",
    "dt = tree.DecisionTreeRegressor(\n",
    "    max_depth=1, #глубина\n",
    "    criterion='mse', #критерий информативности\n",
    "    random_state=0 #генератор случайных чисел\n",
    ")\n",
    "dt.fit(X, y)\n",
    "# Визуализируем дерево решений в виде графа\n",
    "tree.plot_tree(\n",
    "    decision_tree=dt, #дерево решений \n",
    "    feature_names=X.columns, #имена факторов\n",
    "    filled=True, #расцветка\n",
    "    impurity=True, #отображать ли неоднородность в вершинах\n",
    ");"
   ]
  },
  {
   "cell_type": "markdown",
   "metadata": {},
   "source": [
    "### Алгоритм CART: рекурсия, критерии остановки"
   ]
  },
  {
   "cell_type": "markdown",
   "metadata": {},
   "source": [
    "Итак, пусть $Q_v=\\{(x, y)\\}$ - множество объектов и ответов к ним, попавших в вершину с номером $v$, $N_v=|Q_v|$. Пусть задан критерий информативности $H(Q)$, который зависит от задачи (регрессия - squared error, absolute error или poisson, классификация - gini или entropy).\n",
    " \n",
    "А также задан некоторый критерий остановки рекурсии $stop\\_criterion(Q_v)$. \n",
    "\n",
    "Наш алгоритм построения дерева решений CART будет выглядеть следующим образом:\n",
    "1. Создаем вершину под номером $v$\n",
    "2. Проверяем критерий остановки $stop\\_criterion(Q_v)$ <p>\n",
    "    2.1. Если условие выполнено.\n",
    "    Формируем листовую вершину $v$ и ставим в соответствие этому листу ответ $\\hat{y_v}$, который будет выдаваться для новых объектов, которые дойдут до этого листа. Назовем эту часть $create\\_leaf()$.\n",
    "    * Регрессия:\n",
    "    $$\\hat{y_v}=\\frac{1}{N_v}\\sum_{y ∈ Q_v}y$$\n",
    "    $$или$$\n",
    "    $$\\hat{y_v}={median}_{y ∈ Q_v}(y)$$\n",
    "    * Классификация:\n",
    "    $$P_{vk}=\\frac{1}{N_v}\\sum_{y ∈ Q_v}[y=k],$$\n",
    "    $$\\hat{y_v}=argmax_{k∈K}(P_{vk})$$\n",
    "    2.2. Если условие остановки не выполнено.\n",
    "    Строим решающий пень. Формируем решающее правило $B(x_j, t)$ для вершины $v$. Из возможных комбинаций $w=(j, t)$ находим такую, которая определяет наилучшее разбиение текущего множества объектов и ответов к ним $Q_v$\n",
    "    $$G(Q, w) = \\frac{N_v^{left}}{N_v} H(Q_v^{left}) + \\frac{N_v^{right}}{N} H(Q_v^{right})  \\Rightarrow min_{w}$$\n",
    "    \n",
    "    $$w_{opt} = argmin_w(G(Q_v, w))$$\n",
    "    \n",
    "    $$B_v(x_j, t) = [x_{j_{opt}} \\leqslant t_{opt}]$$\n",
    "    Для выборок $Q_v^{left}$ и $Q_v^{right}$ процедура будет повторяться рекурсивно, пока не выполнится критерий остановки.\n",
    "3. Возвращаем созданную вершину"
   ]
  },
  {
   "cell_type": "code",
   "execution_count": 10,
   "metadata": {},
   "outputs": [
    {
     "name": "stdout",
     "output_type": "stream",
     "text": [
      "    feature_0 <= 43.500:\n",
      "       feature_1 <= 86.000:\n",
      "          feature_0 <= 22.500:\n",
      "             feature_0 <= 19.000:\n",
      "                class: 1\n",
      "             feature_0 > 19.000:\n",
      "                class: 0\n",
      "          feature_0 > 22.500:\n",
      "             class: 1\n",
      "       feature_1 > 86.000:\n",
      "          class: 0\n",
      "    feature_0 > 43.500:\n",
      "       class: 0\n"
     ]
    }
   ],
   "source": [
    "class Node:\n",
    "    def __init__(self, left=None, \n",
    "                 right=None, value=None, \n",
    "                 split_params=None, impurity=None,\n",
    "                 samples=None, is_leaf=False):\n",
    "        self.left = left\n",
    "        self.right = right\n",
    "        self.split_params = split_params\n",
    "        self.value = value\n",
    "        self.impurity = impurity\n",
    "        self.samples = samples\n",
    "        self.is_leaf = is_leaf\n",
    "\n",
    "def create_leaf_prediction(y):\n",
    "    value = y.mode()[0]\n",
    "    return value\n",
    "\n",
    "def stopping_criterion(X, y, criterion):\n",
    "    return criterion(y) == 0\n",
    "\n",
    "def build_decision_tree(X, y, criterion):\n",
    "    if stopping_criterion(X, y, criterion):\n",
    "        value = create_leaf_prediction(y)\n",
    "        node = Node(\n",
    "            value=value, \n",
    "            impurity=criterion(y), \n",
    "            samples=y.size,\n",
    "            is_leaf=True\n",
    "        )\n",
    "    else:\n",
    "        split_params = best_split(X, y, criterion=entropy)\n",
    "        X_left, y_left, X_rigth, y_right = split(X, y, split_params)\n",
    "        left = build_decision_tree(X_left, y_left, criterion)\n",
    "        right = build_decision_tree(X_rigth, y_right, criterion)       \n",
    "        node = Node(\n",
    "            left=left, right=right, \n",
    "            split_params=split_params, \n",
    "            impurity=criterion(y), \n",
    "            samples=y.size\n",
    "        )\n",
    "    return node\n",
    "\n",
    "def print_decision_tree(node, depth=0):\n",
    "    depth += 1\n",
    "    if node.is_leaf:\n",
    "        print('   ' * depth, 'class: {}'.format(node.value))\n",
    "    else:\n",
    "        print('   ' * depth, 'feature_{} <= {:.3f}:'.format(*node.split_params))\n",
    "        print_decision_tree(node.left, depth=depth)\n",
    "        print('   ' * depth, 'feature_{} > {:.3f}:'.format(*node.split_params))\n",
    "        print_decision_tree(node.right, depth=depth)\n",
    "        \n",
    "# Создаем обучающую выборку\n",
    "data = pd.DataFrame({\n",
    "    'age': [17, 64, 18, 20, 38, 49, 55, 25, 29, 31],\n",
    "    'income': [25, 80, 22, 36, 37, 59, 74, 70, 33, 102],\n",
    "    'loan': [1, 0, 1, 0, 1, 0, 0, 1, 1, 0]\n",
    "})\n",
    "X = data[['age', 'income']]\n",
    "y = data['loan'] \n",
    "# Строим дерево решений и печатаем его на экран\n",
    "decision_tree = build_decision_tree(X, y, criterion=entropy)\n",
    "print_decision_tree(decision_tree)"
   ]
  },
  {
   "cell_type": "code",
   "execution_count": 11,
   "metadata": {},
   "outputs": [
    {
     "name": "stdout",
     "output_type": "stream",
     "text": [
      "|--- feature_0 <= 43.50\n",
      "|   |--- feature_1 <= 86.00\n",
      "|   |   |--- feature_0 <= 22.50\n",
      "|   |   |   |--- feature_0 <= 19.00\n",
      "|   |   |   |   |--- class: 1\n",
      "|   |   |   |--- feature_0 >  19.00\n",
      "|   |   |   |   |--- class: 0\n",
      "|   |   |--- feature_0 >  22.50\n",
      "|   |   |   |--- class: 1\n",
      "|   |--- feature_1 >  86.00\n",
      "|   |   |--- class: 0\n",
      "|--- feature_0 >  43.50\n",
      "|   |--- class: 0\n",
      "\n"
     ]
    }
   ],
   "source": [
    "# Создаем модель дерева решений\n",
    "dt = tree.DecisionTreeClassifier(\n",
    "    criterion='entropy', #критерий информативности\n",
    "    random_state=1000 #генератор случайных чисел\n",
    ")\n",
    "dt.fit(X, y)\n",
    "# Печатаем дерево решений в виде списка условий\n",
    "print(tree.export_text(decision_tree=dt))"
   ]
  },
  {
   "cell_type": "code",
   "execution_count": 13,
   "metadata": {},
   "outputs": [
    {
     "name": "stdout",
     "output_type": "stream",
     "text": [
      "Predictions: [1 0 1 0 1 0 0 1 1 0]\n"
     ]
    }
   ],
   "source": [
    "def predict_sample(node, x):\n",
    "    if node.is_leaf:\n",
    "        return node.value\n",
    "    j, t = node.split_params\n",
    "    if x[j] <= t:\n",
    "        return predict_sample(node.left, x)\n",
    "    else:\n",
    "        return predict_sample(node.right, x)  \n",
    "\n",
    "def predict(decision_tree, X):\n",
    "    predictions = [predict_sample(decision_tree, x) for x in X.values]\n",
    "    return np.array(predictions)\n",
    "\n",
    "# Предсказываем целевую переменную\n",
    "y_pred = predict(decision_tree, X)\n",
    "print('Predictions: {}'.format(y_pred))"
   ]
  },
  {
   "cell_type": "markdown",
   "metadata": {},
   "source": [
    "В реализации дерева решений в sklearn предусмотрено несколько критериев при выполнении одного из которых ветвление дерева прекращается:\n",
    "* Достижения однородности (основной критерий)\n",
    "* Ограничение максимальной глубины дерева (параметр max_depth)\n",
    "* Ограничение на максимальное количество листьев в дереве (параметр max_leaf_node)\n",
    "* Ограничение на минимальное количество объектов, при которых допускается ветвление дерева (параметр min_samples_split)\n",
    "* Ограничение на минимальное количество объектов, необходимых для создания листа (параметр min_samples_leaf)"
   ]
  },
  {
   "cell_type": "code",
   "execution_count": 14,
   "metadata": {
    "tags": []
   },
   "outputs": [
    {
     "name": "stdout",
     "output_type": "stream",
     "text": [
      "    feature_0 <= 43.500:\n",
      "       feature_1 <= 86.000:\n",
      "          class: 1\n",
      "       feature_1 > 86.000:\n",
      "          class: 0\n",
      "    feature_0 > 43.500:\n",
      "       class: 0\n"
     ]
    }
   ],
   "source": [
    "def stopping_criterion(X, y, criterion, max_depth=None, depth=0):\n",
    "    if max_depth is None:\n",
    "        return (criterion(y) == 0) \n",
    "    else:\n",
    "        return (criterion(y) == 0) or (depth > max_depth)\n",
    "    \n",
    "def build_decision_tree(X, y, criterion, max_depth=None, depth=0):\n",
    "    depth += 1\n",
    "    if stopping_criterion(X, y, criterion, max_depth, depth):\n",
    "        value = create_leaf_prediction(y)\n",
    "        node = Node(\n",
    "            value=value, \n",
    "            impurity=criterion(y), \n",
    "            samples=y.size,\n",
    "            is_leaf=True\n",
    "        )\n",
    "    else:\n",
    "        split_params = best_split(X, y, criterion=entropy)\n",
    "        X_left, y_left, X_rigth, y_right = split(X, y, split_params)\n",
    "        left = build_decision_tree(X_left, y_left, criterion, max_depth, depth)\n",
    "        right = build_decision_tree(X_rigth, y_right, criterion, max_depth, depth)       \n",
    "        node = Node(\n",
    "            left=left, right=right, \n",
    "            split_params=split_params, \n",
    "            impurity=criterion(y), \n",
    "            samples=y.size\n",
    "        )\n",
    "    return node\n",
    "\n",
    "# Строим дерево решений с ограничением глубины и печатаем его на экран\n",
    "decision_tree = build_decision_tree(X, y, criterion=entropy, max_depth=2)\n",
    "print_decision_tree(decision_tree)"
   ]
  },
  {
   "cell_type": "markdown",
   "metadata": {},
   "source": [
    "### Алгоритм CART: значимость признаков"
   ]
  },
  {
   "cell_type": "markdown",
   "metadata": {},
   "source": [
    "Прирост информации: \n",
    "$$IG(Q_v, w)=H(Q_v)-G(Q_v, w)=H(Q_v)- \\frac{N_v^{left}}{N_v} H(Q_v^{left})-\\frac{N_v^{right}}{N_v} H(Q_v^{right})$$\n",
    "или:\n",
    "$$IG(Q_v, w)= {N_v} H(Q_v) - {N_v^{left}} H(Q_v^{left})- {N_v^{right}} H(Q_v^{right})$$\n",
    "\n",
    "Тогда значимость **(абсолютная)** признаков будет определяться как:\n",
    "$$F(x_j)=\\frac{1}{N} \\sum_{v ∈ V_j}IG(Q_v, w)$$\n",
    "\n",
    "Нормируем полученные соотношения и получим **относительную** значимость:\n",
    "$$\\overline{F(x_j)}=\\frac{F(x_j)}{\\sum_{j =1}^M F(x_j)}$$"
   ]
  },
  {
   "cell_type": "code",
   "execution_count": 15,
   "metadata": {},
   "outputs": [
    {
     "name": "stdout",
     "output_type": "stream",
     "text": [
      "[0.78582905 0.21417095]\n"
     ]
    }
   ],
   "source": [
    "def calculate_feature_importances(node, feature_importance=None):\n",
    "    if feature_importance is None:\n",
    "        feature_importance = np.zeros(X.shape[1])\n",
    "    if node.value is None:\n",
    "        j = node.split_params[0]\n",
    "        feature_importance[j] += node.impurity * node.samples - \\\n",
    "                                 node.left.impurity * node.left.samples - \\\n",
    "                                 node.right.impurity * node.right.samples\n",
    "        calculate_feature_importances(node.left, feature_importance)\n",
    "        calculate_feature_importances(node.right, feature_importance)\n",
    "    feature_importance /= node.samples\n",
    "    feature_importance /= feature_importance.sum()\n",
    "    return feature_importance\n",
    "\n",
    "# Создаем обучающую выборку\n",
    "data = pd.DataFrame({\n",
    "    'age': [17, 64, 18, 20, 38, 49, 55, 25, 29, 31],\n",
    "    'income': [25, 80, 22, 36, 37, 59, 74, 70, 33, 102],\n",
    "    'loan': [1, 0, 1, 0, 1, 0, 0, 1, 1, 0]\n",
    "})\n",
    "X = data[['age', 'income']]\n",
    "y = data['loan'] \n",
    "# Строим дерево решений и печатаем его на экран\n",
    "decision_tree = build_decision_tree(X, y, entropy)\n",
    "# Считаем информативности признаков\n",
    "print(calculate_feature_importances(decision_tree))"
   ]
  },
  {
   "cell_type": "markdown",
   "metadata": {},
   "source": [
    "**Примечание**. Для задачи регрессии в коде изменится только функция create_leaf_prediction(). Вместо модального значения классов в листьях рассчитывается среднее значение целевой переменной:\n",
    "\n",
    "```\n",
    "def create_leaf_prediction(y):\n",
    "    value = y.mean()\n",
    "    return value\n",
    "```"
   ]
  },
  {
   "cell_type": "code",
   "execution_count": null,
   "metadata": {},
   "outputs": [],
   "source": []
  }
 ],
 "metadata": {
  "kernelspec": {
   "display_name": "Python 3",
   "language": "python",
   "name": "python3"
  },
  "language_info": {
   "codemirror_mode": {
    "name": "ipython",
    "version": 3
   },
   "file_extension": ".py",
   "mimetype": "text/x-python",
   "name": "python",
   "nbconvert_exporter": "python",
   "pygments_lexer": "ipython3",
   "version": "3.7.4"
  }
 },
 "nbformat": 4,
 "nbformat_minor": 5
}
