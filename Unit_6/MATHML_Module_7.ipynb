{
 "cells": [
  {
   "cell_type": "code",
   "execution_count": 16,
   "id": "e26cd0bd",
   "metadata": {},
   "outputs": [],
   "source": [
    "import pandas as pd\n",
    "import numpy as np\n",
    "import seaborn as sns\n",
    "import matplotlib.pyplot as plt\n",
    "from scipy.stats import randint, bernoulli, binom, uniform, norm, expon\n",
    "from scipy.stats.distributions import poisson"
   ]
  },
  {
   "cell_type": "markdown",
   "id": "224fff67",
   "metadata": {},
   "source": [
    "### Задание 7.7\n",
    "Случайная величина задана таблицей:\n",
    "\n",
    "X | -1 | 0 | 1 | 2\n",
    "- | - | - | - | -\n",
    "P | 0.5|  0.2|  0.2|  0.1\n",
    "\n",
    "Найдите стандартное отклонение . Ответ округлите до двух знаков после точки-разделителя."
   ]
  },
  {
   "cell_type": "code",
   "execution_count": 8,
   "id": "90eb3b94",
   "metadata": {},
   "outputs": [
    {
     "data": {
      "text/plain": [
       "1.04"
      ]
     },
     "execution_count": 8,
     "metadata": {},
     "output_type": "execute_result"
    }
   ],
   "source": [
    "x = np.array([-1,0,1,2])\n",
    "p = np.array([0.5,0.2,0.2,0.1])\n",
    "\n",
    "M_x = (x*p).sum()\n",
    "M_x2 = (x*x*p).sum()\n",
    "D = (x*x*p).sum() - ((x*p).sum())**2\n",
    "s = np.sqrt(D)\n",
    "round(s,2)"
   ]
  },
  {
   "cell_type": "markdown",
   "id": "565179ba",
   "metadata": {},
   "source": [
    "### РАВНОМЕРНОЕ РАСПРЕДЕЛЕНИЕ\n",
    "**Равномерное распределение** — это распределение вероятностей, в качестве значений которого могут выступать любые целые числа от $1$ до $N$, а вероятности их появления одинаковы.\n",
    "\n",
    "$$EX = \\frac{N+1}{2}$$    \n",
    "$$\\sigma_X = \\sqrt{\\frac{N^2 - 1}{12}}$$\n"
   ]
  },
  {
   "cell_type": "code",
   "execution_count": 9,
   "id": "8a5eefb2",
   "metadata": {},
   "outputs": [
    {
     "name": "stdout",
     "output_type": "stream",
     "text": [
      "[0.16666667 0.16666667 0.16666667 0.16666667 0.16666667 0.16666667]\n"
     ]
    }
   ],
   "source": [
    "x = np.arange(1, 7)\n",
    "disc_uni_dist = randint(1,7)\n",
    "pmf = disc_uni_dist.pmf(x)\n",
    "print(pmf)"
   ]
  },
  {
   "cell_type": "code",
   "execution_count": 10,
   "id": "63606da0",
   "metadata": {},
   "outputs": [
    {
     "name": "stdout",
     "output_type": "stream",
     "text": [
      "[0.16666667 0.33333333 0.5        0.66666667 0.83333333 1.        ]\n"
     ]
    }
   ],
   "source": [
    "cdf = disc_uni_dist.cdf(x)\n",
    "print(cdf)"
   ]
  },
  {
   "cell_type": "markdown",
   "id": "49bb8f0a",
   "metadata": {},
   "source": [
    "#### РАСПРЕДЕЛЕНИЕ БЕРНУЛЛИ\n",
    "$$P(X = x)= \\left\\{\\begin{matrix} p & x = 1\\\\ 1 - p & x = 0 \\\\ \\end{matrix}\\right.$$\n",
    "\n",
    "$$EX = 1 \\cdot p + 0 \\cdot (1-p) = p$$\n",
    "\n",
    "$$\\sigma_X = \\sqrt{p(1-p)}$$"
   ]
  },
  {
   "cell_type": "code",
   "execution_count": 11,
   "id": "03dda383",
   "metadata": {},
   "outputs": [
    {
     "data": {
      "image/png": "[encoded data removed]",
      "text/plain": [
       "<Figure size 360x360 with 1 Axes>"
      ]
     },
     "metadata": {
      "needs_background": "light"
     },
     "output_type": "display_data"
    }
   ],
   "source": [
    "data = bernoulli.rvs(size=500,p=0.6)\n",
    "ax = sns.displot(data,\n",
    "                  kde = False,\n",
    "                  color='dodgerblue')\n",
    "ax.set(xlabel='Значение случайной величины', ylabel='Частота')\n",
    "plt.show()"
   ]
  },
  {
   "cell_type": "code",
   "execution_count": 12,
   "id": "90584c37",
   "metadata": {},
   "outputs": [
    {
     "name": "stdout",
     "output_type": "stream",
     "text": [
      "[[  0 199]\n",
      " [  1 301]]\n"
     ]
    }
   ],
   "source": [
    "unique, counts = np.unique(data, return_counts=True)\n",
    "print(np.asarray((unique, counts)).T)\n"
   ]
  },
  {
   "cell_type": "markdown",
   "id": "fdc71336",
   "metadata": {},
   "source": [
    "### БИНОМИАЛЬНОЕ РАСПРЕДЕЛЕНИЕ\n",
    "**Биномиальным называют** распределение, при котором возможны только два исхода (успех или неудача, выигрыш или проигрыш) и вероятность успеха и неудачи одинакова для всех испытаний. Однако исходы не обязательно должны быть равновероятными, и каждое испытание не зависит от других.  \n",
    "\n",
    "Параметры биномиального распределения — $n$ и $p$, где  — $n$ общее количество испытаний, а $p$ — вероятность успеха в каждом испытании.\n",
    "\n",
    "Для того чтобы оценить вероятность, что среди $n$ испытаний будет $k$ успехов, используют следующую формулу:\n",
    "$$P(X = k) = \\begin{pmatrix} n \\\\ k \\end{pmatrix} p^k (1-p)^{n-k}$$\n",
    "\n",
    "$$\\begin{pmatrix} n \\\\ k \\end{pmatrix} = \\frac{n!}{k! (n-k)!}$$\n",
    "\n",
    "\n",
    "$$EX = np$$\n",
    "$$\\sigma_X = \\sqrt{np (1-p)}$$"
   ]
  },
  {
   "cell_type": "markdown",
   "id": "7eb30b41",
   "metadata": {},
   "source": [
    "Производитель гаджетов знает, что 20 % производимых им товаров — бракованные.\n",
    "\n",
    "Если он производит десять изделий в день, какова вероятность того, что не более двух из них бракованные?\n",
    "\n",
    "$$P(X = k) = \\begin{pmatrix} n \\\\ k \\end{pmatrix} p^k (1-p)^{n-k}$$\n",
    "$$\\begin{pmatrix} 10 \\\\ 8 \\end{pmatrix} (0.8)^8 (0.2)^2 + \\begin{pmatrix} 10 \\\\ 9 \\end{pmatrix} (0.8)^9 (0.2)^1 + \\begin{pmatrix} 10 \\\\ 10 \\end{pmatrix} (0.8)^{10} \\approx 0.678$$"
   ]
  },
  {
   "cell_type": "code",
   "execution_count": 13,
   "id": "1e98d6bf",
   "metadata": {},
   "outputs": [
    {
     "data": {
      "text/plain": [
       "0.6777995264000004"
      ]
     },
     "execution_count": 13,
     "metadata": {},
     "output_type": "execute_result"
    }
   ],
   "source": [
    "binom.pmf(8,10,0.8)+binom.pmf(9,10,0.8)+binom.pmf(10,10,0.8)"
   ]
  },
  {
   "cell_type": "code",
   "execution_count": 52,
   "id": "e82198f4",
   "metadata": {},
   "outputs": [
    {
     "data": {
      "image/png": "[encoded data removed]",
      "text/plain": [
       "<Figure size 864x360 with 1 Axes>"
      ]
     },
     "metadata": {
      "needs_background": "light"
     },
     "output_type": "display_data"
    }
   ],
   "source": [
    "x = np.random.binomial(n=10, p=0.5, size=10)\n",
    "\n",
    "plt.figure(figsize=(12,5))\n",
    "sns.histplot(np.random.binomial(n=100, p=0.5, size=100000),  kde=False)\n",
    "plt.show()"
   ]
  },
  {
   "cell_type": "markdown",
   "id": "20b41c0c",
   "metadata": {},
   "source": [
    "### РАСПРЕДЕЛЕНИЕ ПУАССОНА\n",
    "Распределение Пуассона — это дискретное распределение вероятностей числа событий, происходящих в данный период времени, с учётом среднего количества раз, когда событие происходит за этот период времени.\n",
    "\n",
    "$$EX  = \\lambda$$\n",
    "$$\\sigma_X = \\sqrt{\\lambda}$$,\n",
    "Чтобы рассчитать вероятность того, что за период времени произойдёт $k$ событий, можно пользоваться следующей формулой:\n",
    "\n",
    "$$P(X = k) = \\frac{\\lambda^k e^{- \\lambda}}{k!}$$"
   ]
  },
  {
   "cell_type": "markdown",
   "id": "1de59cab",
   "metadata": {},
   "source": [
    "```\n",
    "Колл-центр получает в среднем 4.5 звонка за каждые пять минут. Каждый оператор может обработать один из этих вызовов в течение пяти минут. Если вызов получен, но оператор  не может его принять, то вызывающий абонент будет переведён в режим ожидания ответа.\n",
    "\n",
    "Если вызовы следуют распределению Пуассона, какое минимальное количество операторов необходимо колл-центру, чтобы вызовы удерживались в ожидании ответа не более 10 % времени?\n",
    "```\n",
    "Рассчитаем вероятности для всех возможных количеств операторов, пока не получим вероятность того, что вызов находится на удержании, которая будет меньше 10 %:  \n",
    "![](https://lms.skillfactory.ru/assets/courseware/v1/448605de0326953c53753ad5de9752c8/asset-v1:SkillFactory+DSPR-2.0+14JULY2021+type@asset+block/MATHML_md7_8_3.png)   \n",
    "В качестве параметра  мы берём среднее количество звонков, так как это наше ожидаемое число событий, а в качестве  — количество операторов, т. к. в данный период времени мы сможем принять столько звонков (один оператор принимает один звонок).\n",
    "\n",
    "Получаем, что колл-центру необходимо нанять на работу хотя бы семь операторов.\n",
    "\n",
    "---------------------------------\n",
    "Разумеется, все эти значения можно было бы рассчитать намного проще с использованием функций Python. Например, для пяти операторов мы бы получили следующее выражение:"
   ]
  },
  {
   "cell_type": "code",
   "execution_count": 19,
   "id": "7af61807",
   "metadata": {},
   "outputs": [
    {
     "data": {
      "text/plain": [
       "(0.1281201438645839, 0.08236294962723255)"
      ]
     },
     "execution_count": 19,
     "metadata": {},
     "output_type": "execute_result"
    }
   ],
   "source": [
    "poisson.pmf(6, 4.5), poisson.pmf(7, 4.5)"
   ]
  },
  {
   "cell_type": "code",
   "execution_count": 25,
   "id": "55d01579",
   "metadata": {},
   "outputs": [
    {
     "data": {
      "image/png": "[encoded data removed]",
      "text/plain": [
       "<Figure size 864x360 with 1 Axes>"
      ]
     },
     "metadata": {
      "needs_background": "light"
     },
     "output_type": "display_data"
    }
   ],
   "source": [
    "plt.figure(figsize=(12,5))\n",
    "sns.histplot(np.random.poisson(lam=3, size=1000), kde=False)\n",
    "plt.show()"
   ]
  },
  {
   "cell_type": "markdown",
   "id": "1d171564",
   "metadata": {},
   "source": [
    "### Задание 8.3\n",
    "Вы стреляете по мишени. Вероятность набрать максимальное количество очков составляет 7 %. В этом случае вы выиграете плюшевого медведя стоимостью 5000 рублей. Если наберёте меньше максимума, то не выиграете ничего.\n",
    "\n",
    "Сколько должен стоить билет, чтобы обеспечить игру, в которой выигрыш равен вашим ожидаемым затратам и ожидаемым затратам продавца?"
   ]
  },
  {
   "cell_type": "code",
   "execution_count": 29,
   "id": "dd267738",
   "metadata": {},
   "outputs": [
    {
     "data": {
      "text/plain": [
       "350.00000000000006"
      ]
     },
     "execution_count": 29,
     "metadata": {},
     "output_type": "execute_result"
    }
   ],
   "source": [
    "0.07*5000"
   ]
  },
  {
   "cell_type": "markdown",
   "id": "4de50c29",
   "metadata": {},
   "source": [
    "#### Задание 8.4\n",
    "Вы купили 85 лотерейных билетов. Для каждого из них вероятность выигрыша составляет 0.001.\n",
    "\n",
    "Найдите математическое ожидание для количества выигрышных билетов."
   ]
  },
  {
   "cell_type": "code",
   "execution_count": 30,
   "id": "78fb0ccb",
   "metadata": {},
   "outputs": [
    {
     "data": {
      "text/plain": [
       "0.085"
      ]
     },
     "execution_count": 30,
     "metadata": {},
     "output_type": "execute_result"
    }
   ],
   "source": [
    "0.001*85"
   ]
  },
  {
   "cell_type": "markdown",
   "id": "860420aa",
   "metadata": {},
   "source": [
    "### Задание 8.6\n",
    "Сеть ресторанов быстрого питания проводит акцию, в рамках которой в одной из четырёх коробок картофеля фри лежит купон на бесплатную коробку картофеля фри. Предположим, что где-то продаётся 100 таких коробок в день. Пусть $X$ равно количеству выигранных купонов за день.\n",
    "\n",
    "Найдите среднее значение и стандартное отклонение для $X$. Если результат дробное число, округлите ответ до одного знака после точки-разделителя."
   ]
  },
  {
   "cell_type": "code",
   "execution_count": 43,
   "id": "5f30394a",
   "metadata": {},
   "outputs": [
    {
     "name": "stdout",
     "output_type": "stream",
     "text": [
      "E(x):25.0      Σ: 4.3\n"
     ]
    }
   ],
   "source": [
    "p = 0.25\n",
    "n= 100\n",
    "e_x = p*n\n",
    "sigma_x = np.sqrt(n*p*(1-p))\n",
    "print(f'E(x):{e_x}      \\N{greek small letter sigma}: {sigma_x:.1f}')"
   ]
  },
  {
   "cell_type": "markdown",
   "id": "e08edc6a",
   "metadata": {},
   "source": [
    "### Задание 8.7\n",
    "Пассажиры прибывают на вокзал со средней скоростью $\\lambda = 4$ человека в минуту.\n",
    "\n",
    "Если количество пассажиров, приезжающих на вокзал, подчиняется распределению Пуассона, какова приблизительная вероятность того, что 16 пассажиров приедут на вокзал в конкретный четырёхминутный период? Округлите ответ до трёх знаков после точки-разделителя."
   ]
  },
  {
   "cell_type": "code",
   "execution_count": 56,
   "id": "4753541d",
   "metadata": {},
   "outputs": [
    {
     "data": {
      "text/plain": [
       "0.099"
      ]
     },
     "execution_count": 56,
     "metadata": {},
     "output_type": "execute_result"
    }
   ],
   "source": [
    "lmda = 4\n",
    "ans = poisson.pmf(16, 4*lmda)\n",
    "round(ans,3)"
   ]
  },
  {
   "cell_type": "code",
   "execution_count": null,
   "id": "2652b149",
   "metadata": {},
   "outputs": [],
   "source": [
    "scipy.stats.distributions.poisson.pmf(16, 16)"
   ]
  },
  {
   "cell_type": "markdown",
   "id": "dc89911b",
   "metadata": {},
   "source": [
    "## Непрерывные распределения"
   ]
  },
  {
   "cell_type": "markdown",
   "id": "7a794bb8",
   "metadata": {},
   "source": [
    "### РАВНОМЕРНОЕ РАСПРЕДЕЛЕНИЕ\n",
    "Случайная величина, которая распределена по непрерывному равномерному закону, может принимать в качестве значения любое вещественное число в заданном отрезке от $a$ до $b$ и имеет следующее математическое ожидание и дисперсию:\n",
    "$$EX = \\frac{a+b}{2}$$\n",
    "$$\\sigma_X = \\frac{b-a}{\\sqrt{12}}$$"
   ]
  },
  {
   "cell_type": "code",
   "execution_count": 67,
   "id": "e0b0c8e2",
   "metadata": {},
   "outputs": [
    {
     "data": {
      "image/png": "[encoded data removed]",
      "text/plain": [
       "<Figure size 864x360 with 1 Axes>"
      ]
     },
     "metadata": {
      "needs_background": "light"
     },
     "output_type": "display_data"
    }
   ],
   "source": [
    "# data = uniform.rvs(size=10000, loc = 10, scale=30)\n",
    "# ax = sns.distplot(data,\n",
    "#                   bins=50)\n",
    "# ax.set(xlabel='Равномерное распределение', ylabel='Плотность')\n",
    "\n",
    "data = uniform.rvs(size=10000, loc = 10, scale=30)\n",
    "plt.figure(figsize=(12,5))\n",
    "sns.histplot(data, bins=50,kde=True)\n",
    "plt.xlabel('Равномерное распределение')\n",
    "plt.ylabel('Плотность')\n",
    "plt.show()"
   ]
  },
  {
   "cell_type": "markdown",
   "id": "2188babc",
   "metadata": {},
   "source": [
    "### НОРМАЛЬНОЕ РАСПРЕДЕЛЕНИЕ\n",
    "Обычно гауссовское распределение определяется через математическое ожидание и стандартное отклонение — это записывается следующим образом:\n",
    "$$X \\sim Normal (\\mu, \\sigma^2)$$\n",
    "Плотность нормального распределения задаётся формулой:\n",
    "$$f(x) = \\frac{1}{\\sigma \\sqrt{2 \\pi}} e^{- \\frac{(x - \\mu)^2}{2 \\sigma^2}}$$"
   ]
  },
  {
   "cell_type": "code",
   "execution_count": 9,
   "id": "fe0cd394",
   "metadata": {},
   "outputs": [
    {
     "data": {
      "image/png": "[encoded data removed]",
      "text/plain": [
       "<Figure size 1008x360 with 1 Axes>"
      ]
     },
     "metadata": {
      "needs_background": "light"
     },
     "output_type": "display_data"
    }
   ],
   "source": [
    "data = norm.rvs(size=10000,loc=4,scale=5)\n",
    "ax = sns.displot(data,\n",
    "                  bins=50)\n",
    "ax.fig.set_size_inches(14,5)\n",
    "ax.set(xlabel='Нормальное распределение', ylabel='Плотность')\n",
    "plt.show()"
   ]
  },
  {
   "cell_type": "code",
   "execution_count": 10,
   "id": "93a09c58",
   "metadata": {},
   "outputs": [
    {
     "name": "stdout",
     "output_type": "stream",
     "text": [
      "[[93 44]\n",
      " [ 4  2]\n",
      " [36  1]\n",
      " [14 29]\n",
      " [78 21]]\n",
      "[[ 1.37243726  1.50201177]\n",
      " [-1.17229016 -1.06239857]\n",
      " [-0.25733199 -1.12345596]\n",
      " [-0.88636573  0.58615094]\n",
      " [ 0.94355062  0.09769182]]\n"
     ]
    }
   ],
   "source": [
    "from numpy import asarray\n",
    "from sklearn.preprocessing import StandardScaler\n",
    "data = asarray([[93, 44],\n",
    "                [4, 2],\n",
    "                [36, 1],\n",
    "                [14, 29],\n",
    "                [78, 21]])\n",
    "print(data)\n",
    "scaler = StandardScaler()\n",
    "scaled = scaler.fit_transform(data)\n",
    "print(scaled)"
   ]
  },
  {
   "cell_type": "markdown",
   "id": "257d395c",
   "metadata": {},
   "source": [
    "### ЭКСПОНЕНЦИАЛЬНОЕ РАСПРЕДЕЛЕНИЕ\n",
    "Экспоненциальное распределение — это распределение вероятностей времени между событиями в процессе Пуассона.\n",
    "Плотность экспоненциального распределения задаётся следующей формулой:\n",
    "$$f(x) = \\left\\{\\begin{matrix} 0, & x < 0 \\\\ \\lambda e^{- \\lambda x}, & x \\geq 0 \\\\ \\end{matrix}\\right.$$\n",
    "В качестве параметра $\\lambda$ здесь берётся ожидаемое число событий за единицу времени.\n",
    "$$EX =  1/ \\lambda$$\n",
    "$$\\sigma_X =  1/ \\lambda$$\n",
    "\n",
    "Вероятность того, что значение случайной величины будет не больше $x$, равна: $1 - e^{- \\lambda x}$"
   ]
  },
  {
   "cell_type": "code",
   "execution_count": 18,
   "id": "867e8552",
   "metadata": {},
   "outputs": [
    {
     "data": {
      "text/plain": [
       "<seaborn.axisgrid.FacetGrid at 0x1c34e50d670>"
      ]
     },
     "execution_count": 18,
     "metadata": {},
     "output_type": "execute_result"
    },
    {
     "data": {
      "image/png": "[encoded data removed]",
      "text/plain": [
       "<Figure size 1008x360 with 1 Axes>"
      ]
     },
     "metadata": {
      "needs_background": "light"
     },
     "output_type": "display_data"
    }
   ],
   "source": [
    "data = expon.rvs(scale=1,loc=0,size=1000)\n",
    "ax = sns.displot(data,\n",
    "                  bins=50)\n",
    "ax.fig.set_size_inches(14,5)\n",
    "ax.set(xlabel='Экспоненциальное распределение', ylabel='Плотность')"
   ]
  },
  {
   "cell_type": "markdown",
   "id": "a0cbdbcd",
   "metadata": {},
   "source": [
    "### Задание 9.4\n",
    "В среднем новый холодильник служит 10 лет. Предположим, что продолжительность времени службы распределена экспоненциально.\n",
    "\n",
    "Ответы округлите до трёх знаков после точки-разделителя.\n",
    "1. Какова вероятность того, что холодильник прослужит более 7 лет?"
   ]
  },
  {
   "cell_type": "code",
   "execution_count": 22,
   "id": "0d206743",
   "metadata": {},
   "outputs": [
    {
     "name": "stdout",
     "output_type": "stream",
     "text": [
      "вероятность того, что холодильник прослужит более 7 лет 0.497\n"
     ]
    }
   ],
   "source": [
    "lmbd = 1/10\n",
    "ans1 = np.exp(-7*lmbd)\n",
    "print(f'вероятность того, что холодильник прослужит более 7 лет {ans1:.3f}')"
   ]
  },
  {
   "cell_type": "markdown",
   "id": "ba420e9a",
   "metadata": {},
   "source": [
    "2. Какова вероятность того, что устройство прослужит от 9 до 11 лет?"
   ]
  },
  {
   "cell_type": "code",
   "execution_count": 26,
   "id": "9778507d",
   "metadata": {},
   "outputs": [
    {
     "name": "stdout",
     "output_type": "stream",
     "text": [
      "вероятность того, что устройство прослужит от 9 до 11 лет 0.074\n"
     ]
    }
   ],
   "source": [
    "ans2 = np.exp(-9*lmbd) - np.exp(-11*lmbd)\n",
    "print(f'вероятность того, что устройство прослужит от 9 до 11 лет {ans2:.3f}')"
   ]
  },
  {
   "cell_type": "markdown",
   "id": "b2d7e915",
   "metadata": {},
   "source": [
    "Чтобы закрепить весь пройденный материал, выполните следующие задания \n",
    "### Задание 10.1\n",
    "В вашем офисе стоят два автомата, с кофе и с чаем. Вероятность того, что к концу дня ваши коллеги выпьют весь кофе, равна $0.2$. Для чая соответствующая вероятность равна $0.3$.\n",
    "\n",
    "Найдите вероятность того, что хотя бы в одном из автоматов закончится напиток.\n",
    "\n",
    "Считайте, что напитки заканчиваются независимо друг от друга."
   ]
  },
  {
   "cell_type": "code",
   "execution_count": 30,
   "id": "70f81970",
   "metadata": {},
   "outputs": [
    {
     "data": {
      "text/plain": [
       "0.44"
      ]
     },
     "execution_count": 30,
     "metadata": {},
     "output_type": "execute_result"
    }
   ],
   "source": [
    "(0.3+0.2) - 0.3*0.2"
   ]
  },
  {
   "cell_type": "markdown",
   "id": "c7562a4e",
   "metadata": {},
   "source": [
    "### Задание 10.2\n",
    "1. Вы находитесь на благотворительном мероприятии и приобрели один билет для участия в розыгрыше.\n",
    "\n",
    "Вам сообщают, что на мероприятии будет 200 человек (включая вас), и примерно $\\frac{3}{4}$ участников мероприятия приобрели билеты на розыгрыш. Из этих людей равное количество купило один, два и три билета соответственно.\n",
    "\n",
    "Если основываться на этих оценках и предполагать, что победитель будет только один, какова вероятность того, что вы выиграете? Ответ округлите до трёх знаков после точки-разделителя."
   ]
  },
  {
   "cell_type": "code",
   "execution_count": 32,
   "id": "ff28a4f1",
   "metadata": {},
   "outputs": [
    {
     "data": {
      "text/plain": [
       "0.003"
      ]
     },
     "execution_count": 32,
     "metadata": {},
     "output_type": "execute_result"
    }
   ],
   "source": [
    "ans = 1/(50 +2*50 +3*50)\n",
    "round(ans,3)"
   ]
  },
  {
   "cell_type": "markdown",
   "id": "d09a14b3",
   "metadata": {},
   "source": [
    "### Задание 10.4\n",
    "Согласно прогнозу погоды на завтра, с вероятностью 50 % будет дождь в Пекине, с вероятностью 30 % — в Рио-де-Жанейро и с вероятностью 20 % — в Найроби.\n",
    "\n",
    "Какова вероятность того, что завтра ни в одном из трёх указанных городов не будет дождя?\n",
    "\n",
    "Поскольку эти три города находятся далеко друг от друга, предположим, что случаи дождя в этих городах независимы."
   ]
  },
  {
   "cell_type": "code",
   "execution_count": 33,
   "id": "77d81f4f",
   "metadata": {},
   "outputs": [
    {
     "data": {
      "text/plain": [
       "0.27999999999999997"
      ]
     },
     "execution_count": 33,
     "metadata": {},
     "output_type": "execute_result"
    }
   ],
   "source": [
    "(1-0.5)*(1-0.3)*(1-0.2)"
   ]
  },
  {
   "cell_type": "code",
   "execution_count": null,
   "id": "867987de",
   "metadata": {},
   "outputs": [],
   "source": []
  }
 ],
 "metadata": {
  "kernelspec": {
   "display_name": "Python 3",
   "language": "python",
   "name": "python3"
  },
  "language_info": {
   "codemirror_mode": {
    "name": "ipython",
    "version": 3
   },
   "file_extension": ".py",
   "mimetype": "text/x-python",
   "name": "python",
   "nbconvert_exporter": "python",
   "pygments_lexer": "ipython3",
   "version": "3.8.8"
  }
 },
 "nbformat": 4,
 "nbformat_minor": 5
}
