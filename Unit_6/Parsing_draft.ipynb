{
 "cells": [
  {
   "cell_type": "code",
   "execution_count": 1,
   "metadata": {},
   "outputs": [],
   "source": [
    "import pandas as pd\n",
    "import requests\n",
    "import time\n",
    "import re\n",
    "\n",
    "from tqdm import tqdm\n",
    "from bs4 import BeautifulSoup"
   ]
  },
  {
   "cell_type": "markdown",
   "metadata": {},
   "source": [
    "## Функции"
   ]
  },
  {
   "cell_type": "code",
   "execution_count": 7,
   "metadata": {},
   "outputs": [],
   "source": [
    "def get_features_from_ticket(ticket_bs):\n",
    "    '''\n",
    "    возвращает pd.Serias с признакамии из карточки обьявления\n",
    "    \n",
    "    ticket_bs: bs4.BeautifulSoup\n",
    "        обьект BeautifulSoup полученный из html карточки обьявления\n",
    "        \n",
    "    '''\n",
    "    # получение значений признаков (кроме комплектации) из карточки текущего обьявления    \n",
    "    year = ticket_bs.find('li',class_='CardInfoRow_year').find('a').text\n",
    "    kmAge = ticket_bs.find('li',class_='CardInfoRow_kmAge').find_all('span')[1].text\n",
    "    kmAge = re.sub(\"\\D\", \"\", kmAge)\n",
    "    bodytype = ticket_bs.find('li',class_='CardInfoRow_bodytype').find('a').text\n",
    "    color = ticket_bs.find('li',class_='CardInfoRow_color').find('a').text\n",
    "    volume = ticket_bs.find('li',class_='CardInfoRow_engine').find('div').text.split(' / ')[0]\n",
    "    volume =  re.sub(\"[^\\d.]\", \"\", volume)\n",
    "    power = ticket_bs.find('li',class_='CardInfoRow_engine').find('div').text.split(' / ')[1]\n",
    "    power = re.sub(\"\\D\", \"\", power)\n",
    "    fuel_type = ticket_bs.find('li',class_='CardInfoRow_engine').find('div').text.split(' / ')[2]\n",
    "    transmission = ticket_bs.find('li',class_='CardInfoRow_transmission').find_all('span')[1].text\n",
    "    drive = ticket_bs.find('li',class_='CardInfoRow_drive').find_all('span')[1].text\n",
    "    wheel = ticket_bs.find('li',class_='CardInfoRow_wheel').find_all('span')[1].text\n",
    "    state = ticket_bs.find('li',class_='CardInfoRow_state').find_all('span')[1].text\n",
    "    ownersCount = ticket_bs.find('li',class_='CardInfoRow_ownersCount').find_all('span')[1].text\n",
    "    pts = ticket_bs.find('li',class_='CardInfoRow_pts').find_all('span')[1].text\n",
    "    customs = ticket_bs.find('li',class_='CardInfoRow_customs').find_all('span')[1].text\n",
    "    \n",
    "    # создание словаря комплектации\n",
    "    complectation_dict = {}\n",
    "    complectation = ticket_bs.find('section',class_='CardComplectation')\n",
    "    if complectation:\n",
    "        complectation_items = complectation.find_all('div',class_=\"ComplectationGroups__group\")\n",
    "        for item in complectation_items:\n",
    "            item_name = item.find('span',class_=\"ComplectationGroups__itemName\").text\n",
    "            item_content = [x.text for x in item.find_all('li',class_=\"ComplectationGroups__itemContentEl\")]\n",
    "            complectation_dict[item_name] = item_content\n",
    "        \n",
    "    # получение цены предложения\n",
    "    offerprice = ticket_bs.find('span',class_='OfferPriceCaption__price').text\n",
    "    offerprice = re.sub(\"\\D\", \"\", offerprice)\n",
    "    \n",
    "    # заполняем строку значенями\n",
    "    ind = ['year','kmAge' ,'bodytype' ,'color' ,'volume' ,'power' ,'fuel_type','transmission',\n",
    "     'drive','wheel','state','ownersCount','pts','customs','complectation','offerprice']\n",
    "    vol = [year,kmAge ,bodytype ,color ,volume ,power ,fuel_type,transmission,\n",
    "           drive,wheel,state,ownersCount,pts,customs,complectation_dict,offerprice]\n",
    "    data_row = pd.Series(data=vol,index=ind)\n",
    "    \n",
    "    return data_row"
   ]
  },
  {
   "cell_type": "code",
   "execution_count": 8,
   "metadata": {},
   "outputs": [],
   "source": [
    "model_list_urls = [\n",
    "    'https://auto.ru/cars/used/sale/audi/a6/1102314663-084e0ff8/',\n",
    "    'https://auto.ru/cars/used/sale/mazda/3/1101836763-72c1fd32/',\n",
    "    'https://auto.ru/cars/used/sale/ford/mondeo/1101981472-3859561f/',\n",
    "    'https://auto.ru/cars/used/sale/ford/mondeo/1102310519-7daac9c2/'\n",
    "]"
   ]
  },
  {
   "cell_type": "markdown",
   "metadata": {},
   "source": [
    "##  Создаем и наполняем marks_model_dict\n",
    " - словарь в которм ключи это  обозначения марки на сайте auto.ru, а значения это списки обозначений на сайте auto.ru марок каждой модели "
   ]
  },
  {
   "cell_type": "code",
   "execution_count": 9,
   "metadata": {},
   "outputs": [],
   "source": [
    "# определяем константы\n",
    "\n",
    "url_for_mmdict = 'https://auto.ru/catalog/cars/all/'\n",
    "\n",
    "headers = {\n",
    "'Accept': 'text/html,application/xhtml+xml,application/xml;q=0.9,image/avif,image/webp,image/apng,*/*;q=0.8,application/signed-exchange;v=b3;q=0.9',\n",
    "'Accept-Encoding': 'gzip, deflate, br',\n",
    "'Accept-Language': 'ru-RU,ru;q=0.9,en-US;q=0.8,en;q=0.7',\n",
    "'Cache-Control': 'max-age=0',\n",
    "'Connection': 'keep-alive',\n",
    "'Cookie': 'suid=bf4a59ff8840503c2077bf716a7bbeef.295e234731ada0bc538a541689345348; tmr_lvid=d2115cf4bc0ee3e6bc3ad89db8fdac9d; tmr_lvidTS=1596630011564; _ym_uid=1596630015684249973; _ga=GA1.2.1113974574.1596630016; autoruuid=g5f949c622cu74bpb1qps6a12l6p5u7t.07262c19ce2a1f07cac53c4ce06ef69b; gids=213; gradius=200; mindboxDeviceUUID=a231f610-2f9e-4911-9cb8-9112afa13ab1; directCrm-session=%7B%22deviceGuid%22%3A%22a231f610-2f9e-4911-9cb8-9112afa13ab1%22%7D; tmr_reqNum=15; yuidlt=1; yandexuid=1471619051363959249; my=YysBgNU2AQEA; crookie=uCcId3jGlYfIvH+2UzzszOwTawIMGSzWumxanVb1Ras+Mu6qi+8yzj8EL+czftU9orxvkiKDKe/wgGsJDdJMlqyn6WU=; cmtchd=MTYxMjgyMjU3MTQ4MA==; _csrf_token=04c10009d8f17a08b4d507f70f2a287c28bf3c17f7b3ef42; gdpr=0; _ym_isad=2; index-selector-tab=marks; listing_view_session={}; listing_view=%7B%22output_type%22%3Anull%2C%22version%22%3A1%7D; autoru-visits-count=2; salon_phone_utms=utm_medium%3Dcpm%26utm_source%3Dauto-ru%26utm_campaign%3Dauto-ru_rus-r225_proauto-rk2021%26utm_content%3D113pa-100PRx40-otchety-o-proshlom-mashiny-ot-99-rublei_proauto-promo-page_rus-r225; hide-proauto-pimple=1; from=direct; autoru_sid=a%3Ag5f949c622cu74bpb1qps6a12l6p5u7t.07262c19ce2a1f07cac53c4ce06ef69b%7C1613427368824.604800.BYczsuAhOkO7E_tI9WN3ZQ.vyyvypdKR_sNAGlonPspJxUInUX2GwuD7owqbI5Sw58; X-Vertis-DC=vla; _ym_d=1613250934; from_lifetime=1613250934966; cycada=FXXHRKJxPTj6XyBIJ1I0Or150N9cGJGcL1yh7v8BaXc=',\n",
    "'Host': 'auto.ru',\n",
    "'sec-ch-ua': '\"Chromium\";v=\"88\", \"Google Chrome\";v=\"88\", \";Not A Brand\";v=\"99\"',\n",
    "'sec-ch-ua-mobil': '?0',\n",
    "'Sec-Fetch-Dest': 'document',\n",
    "'Sec-Fetch-Mode': 'navigate',\n",
    "'Sec-Fetch-Site': 'same-origin',\n",
    "'Sec-Fetch-User': '?1',\n",
    "'Upgrade-Insecure-Requests': '1',\n",
    "'User-Agent': 'Mozilla/5.0 (Windows NT 6.1; Win64; x64) AppleWebKit/537.36 (KHTML, like Gecko) Chrome/88.0.4324.150 Safari/537.36'\n",
    "};"
   ]
  },
  {
   "cell_type": "code",
   "execution_count": 10,
   "metadata": {
    "scrolled": true
   },
   "outputs": [
    {
     "name": "stderr",
     "output_type": "stream",
     "text": [
      " 74%|█████████████████████████████████████████████████████████████████████████████████▊                             | 14/19 [00:25<00:09,  1.82s/it]"
     ]
    }
   ],
   "source": [
    "marks_models_dict = {} # создаем словарь с ключами - обозначениеми марки и занчениями - списками моделей этой марки  \n",
    "\n",
    "for pages_num in tqdm(range(1,20)):\n",
    "    \n",
    "    if pages_num==1: params = {'view_type': 'list'}\n",
    "    else:            params = {'page_num': pages_num,'view_type': 'list'}\n",
    "    \n",
    "    res = requests.get(url_for_mmdict, params=params, headers=headers)\n",
    "    time.sleep(1)\n",
    "    \n",
    "    soup = BeautifulSoup(res.text, 'html.parser')  # создаем обьект bs4.BeautifulSoup\n",
    "    marks_on_page_list = soup.find_all('dd', class_='catalog-all-text-list__desc') # список html-ек марок на странице\n",
    "    \n",
    "    if not marks_on_page_list: \n",
    "#         print ('стоп')\n",
    "        break\n",
    "        \n",
    "    for mark in marks_on_page_list:\n",
    "        models_of_mark = mark.find_all('a', class_='link_theme_auto') # список html-ек моделей марки\n",
    "        \n",
    "        link_for_mark_name = models_of_mark[0].get('href')  # линк первой модели, содержит обозначене марки на auto.ru\n",
    "        mark_start = link_for_mark_name.find('cars/') + 5   # первый символ обозначеня марки\n",
    "        mark_end = link_for_mark_name.find('/', mark_start) # последний символ обозначения марки\n",
    "        mark_name = link_for_mark_name[mark_start:mark_end] # получение обозначения марки      \n",
    "        \n",
    "        models_list = []\n",
    "        for model in models_of_mark:\n",
    "            link_theme_auto = model.get('href')                 # линк модели, содержит обозначение модели на auto.ru\n",
    "            model_start = mark_end+1                            # первый символ обозначения модели\n",
    "            model_end = link_theme_auto.find('/', model_start)  # последний символ обозначения модели\n",
    "            model_name = link_theme_auto[model_start:model_end] # получение обозначения модели\n",
    "            models_list.append(model_name)\n",
    "      \n",
    "        marks_models_dict[mark_name] = models_list"
   ]
  },
  {
   "cell_type": "markdown",
   "metadata": {},
   "source": [
    "## Цикл по всем моделям всех марок"
   ]
  },
  {
   "cell_type": "code",
   "execution_count": 11,
   "metadata": {},
   "outputs": [
    {
     "name": "stderr",
     "output_type": "stream",
     "text": [
      "\n",
      "100%|█████████████████████████████████████████████████████████████████████████████████████████████████████████████████████| 137/137 [00:00<?, ?it/s]\n"
     ]
    }
   ],
   "source": [
    "for mark in tqdm(marks_models_dict):\n",
    "    for model in marks_models_dict[mark]:\n",
    "        url = 'https://auto.ru/moskva/cars/' + mark + '/' + model + '/used/'\n",
    "#         print(url)\n",
    "\n",
    "\n"
   ]
  },
  {
   "cell_type": "code",
   "execution_count": null,
   "metadata": {},
   "outputs": [],
   "source": [
    "pd.concat()"
   ]
  },
  {
   "cell_type": "markdown",
   "metadata": {},
   "source": [
    "## Получение данных по одной модели одной марки"
   ]
  },
  {
   "cell_type": "code",
   "execution_count": 13,
   "metadata": {},
   "outputs": [
    {
     "data": {
      "text/plain": [
       "'https://auto.ru/moskva/cars/audi/100/used/'"
      ]
     },
     "execution_count": 13,
     "metadata": {},
     "output_type": "execute_result"
    }
   ],
   "source": [
    "mark = list(marks_models_dict.keys())[11]\n",
    "mark\n",
    "\n",
    "models_list = marks_models_dict[mark]\n",
    "model = models_list[0]\n",
    "\n",
    "url = 'https://auto.ru/moskva/cars/' + mark + '/' + model + '/used/'\n",
    "url"
   ]
  },
  {
   "cell_type": "code",
   "execution_count": 15,
   "metadata": {},
   "outputs": [
    {
     "name": "stderr",
     "output_type": "stream",
     "text": [
      "\n",
      "  0%|                                                                                                                        | 0/99 [00:00<?, ?it/s]\n",
      "  1%|█▏                                                                                                              | 1/99 [00:02<03:23,  2.08s/it]\n",
      "  2%|██▎                                                                                                             | 2/99 [00:03<03:12,  1.98s/it]\n",
      "  3%|███▍                                                                                                            | 3/99 [00:05<02:56,  1.83s/it]"
     ]
    }
   ],
   "source": [
    "# просмотр последовательно всех страниц текущей модели текущей марки\n",
    "for pages_num in tqdm(range(1,100)): \n",
    "    \n",
    "    if pages_num==1: params = {}\n",
    "    else:            params = {'page': pages_num}\n",
    "    \n",
    "    res = requests.get(url, params=params, headers=headers)\n",
    "    res.encoding = 'utf-8'\n",
    "    time.sleep(1)\n",
    "    \n",
    "    # создаем обьект bs4.BeautifulSoup из html очередной страницы с обьявлениями по текущей модели текущей марки\n",
    "    soup = BeautifulSoup(res.text, 'html.parser')  \n",
    "    \n",
    "    # список html-ек карточек на странице                                               \n",
    "    tickets_on_page_list = soup.find_all('a', class_='ListingItemTitle-module__link') \n",
    "    \n",
    "    if not tickets_on_page_list: # выход по исчерпанию страниц\n",
    "        break\n",
    "        \n",
    "    "
   ]
  },
  {
   "cell_type": "code",
   "execution_count": null,
   "metadata": {},
   "outputs": [],
   "source": []
  },
  {
   "cell_type": "code",
   "execution_count": null,
   "metadata": {},
   "outputs": [],
   "source": []
  },
  {
   "cell_type": "code",
   "execution_count": 59,
   "metadata": {},
   "outputs": [],
   "source": [
    "# как бы первая страница\n",
    "params = {} # на страницах будет {'page':page_num}\n",
    "\n",
    "res = requests.get(url, params=params, headers=headers)\n",
    "res.encoding = 'utf-8'\n",
    "            \n",
    "# создаем обьект bs4.BeautifulSoup из html очередной страницы с обьявлениями по текущей модели текущей марки\n",
    "soup = BeautifulSoup(res.text, 'html.parser') \n",
    "            \n",
    "# список html-ек карточек на странице\n",
    "tickets_on_page_list = soup.find_all('a',  class_='ListingItemTitle-module__link') "
   ]
  },
  {
   "cell_type": "code",
   "execution_count": 106,
   "metadata": {},
   "outputs": [
    {
     "name": "stderr",
     "output_type": "stream",
     "text": [
      "\n",
      "\n",
      "\n",
      "\n",
      "\n",
      "  0%|                                                                                                                        | 0/38 [00:00<?, ?it/s]\n",
      "\n",
      "\n",
      "\n",
      "\n",
      "  3%|██▉                                                                                                             | 1/38 [00:01<01:04,  1.75s/it]\n",
      "\n",
      "\n",
      "\n",
      "\n",
      "  5%|█████▉                                                                                                          | 2/38 [00:04<01:28,  2.46s/it]\n"
     ]
    },
    {
     "ename": "KeyboardInterrupt",
     "evalue": "",
     "output_type": "error",
     "traceback": [
      "\u001b[1;31m---------------------------------------------------------------------------\u001b[0m",
      "\u001b[1;31mKeyboardInterrupt\u001b[0m                         Traceback (most recent call last)",
      "\u001b[1;32m<ipython-input-106-37e2e858d452>\u001b[0m in \u001b[0;36m<module>\u001b[1;34m\u001b[0m\n\u001b[0;32m      6\u001b[0m     \u001b[0mticket_res\u001b[0m \u001b[1;33m=\u001b[0m \u001b[0mrequests\u001b[0m\u001b[1;33m.\u001b[0m\u001b[0mget\u001b[0m\u001b[1;33m(\u001b[0m\u001b[0mticket_url\u001b[0m\u001b[1;33m)\u001b[0m\u001b[1;33m\u001b[0m\u001b[1;33m\u001b[0m\u001b[0m\n\u001b[0;32m      7\u001b[0m     \u001b[0mticket_res\u001b[0m\u001b[1;33m.\u001b[0m\u001b[0mencoding\u001b[0m \u001b[1;33m=\u001b[0m \u001b[1;34m'utf-8'\u001b[0m\u001b[1;33m\u001b[0m\u001b[1;33m\u001b[0m\u001b[0m\n\u001b[1;32m----> 8\u001b[1;33m     \u001b[0mtime\u001b[0m\u001b[1;33m.\u001b[0m\u001b[0msleep\u001b[0m\u001b[1;33m(\u001b[0m\u001b[1;36m1\u001b[0m\u001b[1;33m)\u001b[0m\u001b[1;33m\u001b[0m\u001b[1;33m\u001b[0m\u001b[0m\n\u001b[0m\u001b[0;32m      9\u001b[0m \u001b[1;33m\u001b[0m\u001b[0m\n\u001b[0;32m     10\u001b[0m     \u001b[1;31m# создаем обьект bs4.BeautifulSoup из html карточки текщего обьявления\u001b[0m\u001b[1;33m\u001b[0m\u001b[1;33m\u001b[0m\u001b[1;33m\u001b[0m\u001b[0m\n",
      "\u001b[1;31mKeyboardInterrupt\u001b[0m: "
     ]
    }
   ],
   "source": [
    "# \n",
    "for ticket in tqdm(tickets_on_page_list):\n",
    "    # получаем url карточки текущего обьявления\n",
    "    ticket_url = ticket.get('href')\n",
    "    \n",
    "    # получем html карточки текщего обьявления\n",
    "    ticket_res = requests.get(ticket_url)\n",
    "    ticket_res.encoding = 'utf-8'\n",
    "    time.sleep(1)\n",
    "    \n",
    "    # создаем обьект bs4.BeautifulSoup из html карточки текщего обьявления\n",
    "    ticket_bs = BeautifulSoup(ticket_res.text, 'html.parser')\n",
    "    \n",
    "    # извлекаем признаки \n",
    "    get_features_from_ticket(ticket_bs)"
   ]
  },
  {
   "cell_type": "code",
   "execution_count": 17,
   "metadata": {},
   "outputs": [
    {
     "ename": "IndexError",
     "evalue": "list index out of range",
     "output_type": "error",
     "traceback": [
      "\u001b[1;31m---------------------------------------------------------------------------\u001b[0m",
      "\u001b[1;31mIndexError\u001b[0m                                Traceback (most recent call last)",
      "\u001b[1;32m<ipython-input-17-37cfe89a3f65>\u001b[0m in \u001b[0;36m<module>\u001b[1;34m\u001b[0m\n\u001b[0;32m      2\u001b[0m \u001b[1;33m\u001b[0m\u001b[0m\n\u001b[0;32m      3\u001b[0m \u001b[1;31m# получаем url карточки текущего обьявления\u001b[0m\u001b[1;33m\u001b[0m\u001b[1;33m\u001b[0m\u001b[1;33m\u001b[0m\u001b[0m\n\u001b[1;32m----> 4\u001b[1;33m \u001b[0mticket_url\u001b[0m \u001b[1;33m=\u001b[0m \u001b[0mtickets_on_page_list\u001b[0m\u001b[1;33m[\u001b[0m\u001b[1;36m1\u001b[0m\u001b[1;33m]\u001b[0m\u001b[1;33m.\u001b[0m\u001b[0mget\u001b[0m\u001b[1;33m(\u001b[0m\u001b[1;34m'href'\u001b[0m\u001b[1;33m)\u001b[0m\u001b[1;33m\u001b[0m\u001b[1;33m\u001b[0m\u001b[0m\n\u001b[0m\u001b[0;32m      5\u001b[0m \u001b[0mticket_url\u001b[0m\u001b[1;33m\u001b[0m\u001b[1;33m\u001b[0m\u001b[0m\n\u001b[0;32m      6\u001b[0m \u001b[1;33m\u001b[0m\u001b[0m\n",
      "\u001b[1;31mIndexError\u001b[0m: list index out of range"
     ]
    }
   ],
   "source": [
    "# как бы первое обьявление\n",
    "\n",
    "# получаем url карточки текущего обьявления\n",
    "ticket_url = tickets_on_page_list[1].get('href')\n",
    "ticket_url\n",
    "\n",
    "# получем html карточки текщего обьявления\n",
    "ticket_res = requests.get(ticket_url)\n",
    "ticket_res.encoding = 'utf-8'\n",
    "\n",
    "# создаем обьект bs4.BeautifulSoup из html карточки текщего обьявления\n",
    "ticket_bs = BeautifulSoup(ticket_res.text, 'html.parser')"
   ]
  },
  {
   "cell_type": "code",
   "execution_count": 16,
   "metadata": {},
   "outputs": [
    {
     "ename": "NameError",
     "evalue": "name 'ticket_bs' is not defined",
     "output_type": "error",
     "traceback": [
      "\u001b[1;31m---------------------------------------------------------------------------\u001b[0m",
      "\u001b[1;31mNameError\u001b[0m                                 Traceback (most recent call last)",
      "\u001b[1;32m<ipython-input-16-a17ceedfb128>\u001b[0m in \u001b[0;36m<module>\u001b[1;34m\u001b[0m\n\u001b[1;32m----> 1\u001b[1;33m \u001b[0mget_features_from_ticket\u001b[0m\u001b[1;33m(\u001b[0m\u001b[0mticket_bs\u001b[0m\u001b[1;33m)\u001b[0m\u001b[1;33m\u001b[0m\u001b[1;33m\u001b[0m\u001b[0m\n\u001b[0m",
      "\u001b[1;31mNameError\u001b[0m: name 'ticket_bs' is not defined"
     ]
    }
   ],
   "source": [
    "get_features_from_ticket(ticket_bs)"
   ]
  },
  {
   "cell_type": "code",
   "execution_count": null,
   "metadata": {},
   "outputs": [],
   "source": []
  },
  {
   "cell_type": "markdown",
   "metadata": {},
   "source": [
    "# Подвал\n",
    "\n",
    "for loc in tqdm(range(0,len(unuseful_features_LR),1)):"
   ]
  },
  {
   "cell_type": "code",
   "execution_count": 21,
   "metadata": {},
   "outputs": [],
   "source": [
    "hdrs_office = {\n",
    "'Accept': 'text/html,application/xhtml+xml,application/xml;q=0.9,image/avif,image/webp,image/apng,*/*;q=0.8,application/signed-exchange;v=b3;q=0.9',\n",
    "'Accept-Encoding': 'gzip, deflate, br',\n",
    "'Accept-Language': 'ru-RU,ru;q=0.9,en-US;q=0.8,en;q=0.7',\n",
    "'Cache-Control': 'max-age=0',\n",
    "'Connection': 'keep-alive',\n",
    "'Cookie': 'suid=3e1833cc7469d2dc00ccae04449006c4.9491b97d8d423e5ce05ef1c79af8855d; _ym_uid=1599469037495440295; _ga=GA1.2.1600002130.1601280177; _csrf_token=1d7055285f2e0f66d88a7fe1fc75e2eec8ae6cd772464581; autoru_sid=a%3Ag60264c2d2igjpia4p3it7lul5qeu67s.cda7ff5877363e08fe2b0faf7c62fcdd%7C1613122605806.604800.gg8JxiHvE9AyBZihcInqEA.Ld4FRMZg9Xk8q0iFZFqjpOoMCJDw6N7itfobSBJS6WA; autoruuid=g60264c2d2igjpia4p3it7lul5qeu67s.cda7ff5877363e08fe2b0faf7c62fcdd; from=direct; X-Vertis-DC=vla; yuidlt=1; yandexuid=905825121577456505; my=YyYBAS4BAToBAQA%3D; counter_ga_all7=2; gdpr=0; _ym_isad=2; gids=213; _gid=GA1.2.204714820.1613122653; autoru-visits-count=1; from_lifetime=1613124329322; _ym_d=1613124329; cycada=QtZcIspPQofWD6yVq1tXyo1meqCq6CwJcSH8NY94K9c=',\n",
    "'Host': 'auto.ru',\n",
    "'Referer': 'https://auto.ru/moskva/cars/used/',\n",
    "'sec-ch-ua': '\"Chromium\";v=\"88\", \"Google Chrome\";v=\"88\", \";Not A Brand\";v=\"99\"',\n",
    "'sec-ch-ua-mobile': '?0',\n",
    "'Sec-Fetch-Dest': 'document',\n",
    "'Sec-Fetch-Mode': 'navigate',\n",
    "'Sec-Fetch-Site': 'same-origin',\n",
    "'Sec-Fetch-User': '?1',\n",
    "'Upgrade-Insecure-Requests': '1',\n",
    "'User-Agent': 'Mozilla/5.0 (Windows NT 10.0; ,Win64; x64) AppleWebKit/537.36 (KHTML, like Gecko) Chrome/88.0.4324.150 Safari/537.36',\n",
    "},"
   ]
  },
  {
   "cell_type": "code",
   "execution_count": 32,
   "metadata": {},
   "outputs": [],
   "source": [
    "hdrs_home = {\n",
    "'Accept': 'text/html,application/xhtml+xml,application/xml;q=0.9,image/avif,image/webp,image/apng,*/*;q=0.8,application/signed-exchange;v=b3;q=0.9',\n",
    "# 'Accept-Encoding': 'gzip, deflate, br',\n",
    "'Accept-Language': 'ru-RU,ru;q=0.9,en-US;q=0.8,en;q=0.7',\n",
    "# 'Connection': 'keep-alive',\n",
    "'Cookie': 'suid=bf4a59ff8840503c2077bf716a7bbeef.295e234731ada0bc538a541689345348; tmr_lvid=d2115cf4bc0ee3e6bc3ad89db8fdac9d; tmr_lvidTS=1596630011564; _ym_uid=1596630015684249973; _ga=GA1.2.1113974574.1596630016; autoruuid=g5f949c622cu74bpb1qps6a12l6p5u7t.07262c19ce2a1f07cac53c4ce06ef69b; gids=213; gradius=200; mindboxDeviceUUID=a231f610-2f9e-4911-9cb8-9112afa13ab1; directCrm-session=%7B%22deviceGuid%22%3A%22a231f610-2f9e-4911-9cb8-9112afa13ab1%22%7D; tmr_reqNum=15; yuidlt=1; yandexuid=1471619051363959249; my=YysBgNU2AQEA; autoru_sid=a%3Ag5f949c622cu74bpb1qps6a12l6p5u7t.07262c19ce2a1f07cac53c4ce06ef69b%7C1612822568824.604800.vXs7yiSNjHUj9vs_NTRT7Q.Ab6eLoCklN5OVQvHKRzq30jYE9puDG83Hht-435SfG4; crookie=uCcId3jGlYfIvH+2UzzszOwTawIMGSzWumxanVb1Ras+Mu6qi+8yzj8EL+czftU9orxvkiKDKe/wgGsJDdJMlqyn6WU=; cmtchd=MTYxMjgyMjU3MTQ4MA==; _csrf_token=04c10009d8f17a08b4d507f70f2a287c28bf3c17f7b3ef42; X-Vertis-DC=vla; gdpr=0; _ym_isad=2; index-selector-tab=marks; listing_view_session={}; listing_view=%7B%22output_type%22%3Anull%2C%22version%22%3A1%7D; autoru-visits-count=2; salon_phone_utms=utm_medium%3Dcpm%26utm_source%3Dauto-ru%26utm_campaign%3Dauto-ru_rus-r225_proauto-rk2021%26utm_content%3D113pa-100PRx40-otchety-o-proshlom-mashiny-ot-99-rublei_proauto-promo-page_rus-r225; hide-proauto-pimple=1; from=direct; _ym_d=1613218878; from_lifetime=1613218878985; cycada=S1YNtBaS32C5Sgb39LwY/7150N9cGJGcL1yh7v8BaXc=',\n",
    "'Host': 'auto.ru',\n",
    "# 'sec-ch-ua': '\"Chromium\";v=\"88\", \"Google Chrome\";v=\"88\", \";Not A Brand\";v=\"99\"',\n",
    "# 'sec-ch-ua-mobile': '?0',\n",
    "# 'Sec-Fetch-Dest': 'document',\n",
    "# 'Sec-Fetch-Mode': 'navigate',\n",
    "# 'Sec-Fetch-Site': 'none',\n",
    "# 'Sec-Fetch-User': '?1',\n",
    "# 'Upgrade-Insecure-Requests': '1',\n",
    "'User-Agent': 'Mozilla/5.0 (Windows NT 6.1; Win64; x64) AppleWebKit/537.36 (KHTML, like Gecko) Chrome/88.0.4324.150 Safari/537.36'\n",
    "}"
   ]
  },
  {
   "cell_type": "markdown",
   "metadata": {},
   "source": [
    "```python\n",
    "url = 'https://auto.ru/moskva/cars/audi/100/used/'   \n",
    "response = requests.get(url)\n",
    "page = BeautifulSoup(response.text, 'html.parser')\n",
    "soup = BeautifulSoup(requests.get(url, headers={'User-Agent': 'Mozilla/5.0'}).text, 'html.parser')  \n",
    "data = soup.find_all('div', class_ =\"LayoutSidebar\")\n",
    "df = pd.read_html(str(data))[0]\n",
    "df```"
   ]
  },
  {
   "cell_type": "code",
   "execution_count": null,
   "metadata": {},
   "outputs": [],
   "source": [
    "def features_parser (url_list):\n",
    "    counter = 0\n",
    "    for card_url in url_list:\n",
    "        response = requests.get(card_url)\n",
    "        response.encoding = 'utf-8'\n",
    "        page = BeautifulSoup(response.text, 'html.parser')\n",
    "    # body type\n",
    "        body = page.find(itemprop = 'bodyType')\n",
    "        if body is None:\n",
    "            data_train.at[counter,'bodyType'] = None\n",
    "        else:\n",
    "            data_train.at[counter,'bodyType'] = body['content']\n",
    "    #brand\n",
    "        brand = page.find(itemprop = 'brand')\n",
    "        if brand is None:\n",
    "            data_train.at[counter, 'brand'] = None\n",
    "        else:\n",
    "            data_train.at[counter, 'brand'] = brand['content']\n",
    "    # color\n",
    "        color = page.find(itemprop = 'color')\n",
    "        if color is None:\n",
    "            data_train.at[counter,'color'] = None\n",
    "        else:\n",
    "            data_train.at[counter,'color'] = color['content']\n",
    "    # fuel type\n",
    "        fuel = page.find(itemprop = 'fuelType')\n",
    "        if fuel is None:\n",
    "            data_train.at[counter,'fuelType'] = None\n",
    "        else:\n",
    "            data_train.at[counter,'fuelType'] = fuel['content']\n",
    "    # model date\n",
    "        model_date = page.find(itemprop = 'modelDate')\n",
    "        if model_date is None:\n",
    "            data_train.at[counter,'modelDate'] = None\n",
    "        else:\n",
    "            data_train.at[counter,'modelDate'] = model_date['content']\n",
    "    # number of doors\n",
    "        doors = page.find(itemprop = 'numberOfDoors')\n",
    "        if doors is None:\n",
    "            data_train.at[counter,'numberOfDoors'] = None\n",
    "        else:\n",
    "            data_train.at[counter,'numberOfDoors'] = doors['content']\n",
    "    # production date\n",
    "        prod_date = page.find(itemprop = 'productionDate')\n",
    "        if prod_date is None:\n",
    "            data_train.at[counter,'productionDate'] = None\n",
    "        else:\n",
    "            data_train.at[counter,'productionDate'] = prod_date['content']\n",
    "    # vehicle transmission\n",
    "        trans = page.find(itemprop = 'vehicleTransmission')\n",
    "        if trans is None:\n",
    "            data_train.at[counter,'vehicleTransmission'] = None\n",
    "        else:\n",
    "            data_train.at[counter,'vehicleTransmission'] = trans['content']\n",
    "    # engine displacement\n",
    "        engine_ltr = page.find(itemprop = 'engineDisplacement')\n",
    "        if engine_ltr is None:\n",
    "            data_train.at[counter,'engineDisplacement'] = None\n",
    "        else:\n",
    "            data_train.at[counter,'engineDisplacement'] = engine_ltr['content']\n",
    "    # engine power\n",
    "        engine_pwr = page.find(itemprop = 'enginePower')\n",
    "        if engine_pwr is None:\n",
    "            data_train.at[counter,'enginePower'] = None\n",
    "        else:\n",
    "            data_train.at[counter,'enginePower'] = engine_pwr['content']\n",
    "    # mileage\n",
    "        mileage = page.find(class_ = 'CardInfoRow CardInfoRow_kmAge')\n",
    "        if mileage is None:\n",
    "            data_train.at[counter,'mileage'] = None\n",
    "        else:\n",
    "            mileage = mileage.text.replace('Пробег', '')\n",
    "            mileage = mileage.replace('\\xa0', '')\n",
    "            mileage = mileage.replace('км', '')\n",
    "            data_train.at[counter,'mileage'] = mileage\n",
    "    # drive type\n",
    "        drive = page.find(class_ = 'CardInfoRow CardInfoRow_drive')\n",
    "        if drive is None:\n",
    "            data_train.at[counter,'Привод'] = None\n",
    "        else:\n",
    "            drive = drive.text.replace('Привод', '')\n",
    "            data_train.at[counter,'Привод'] = drive\n",
    "    # wheel\n",
    "        wheel = page.find(class_ = 'CardInfoRow CardInfoRow_wheel')\n",
    "        if wheel is None:\n",
    "            data_train.at[counter,'Руль'] = None\n",
    "        else:\n",
    "            wheel = wheel.text.replace('Руль', '')\n",
    "            data_train.at[counter,'Руль'] = wheel\n",
    "    # owners\n",
    "        owners = page.find(class_ = 'CardInfoRow CardInfoRow_ownersCount')\n",
    "        if owners is None:\n",
    "            data_train.at[counter,'Владельцы'] = None\n",
    "        else:\n",
    "            owners = owners.text.replace('Владельцы', '')\n",
    "            owners = owners.replace('\\xa0', '')\n",
    "            data_train.at[counter,'Владельцы'] = owners\n",
    "    # vehicle certificate\n",
    "        certificate = page.find(class_ = 'CardInfoRow CardInfoRow_pts')\n",
    "        if certificate is None:\n",
    "            data_train.at[counter,'ПТС'] = None\n",
    "        else:\n",
    "            certificate = certificate.text.replace('ПТС', '')\n",
    "            data_train.at[counter,'ПТС'] = certificate\n",
    "    # price\n",
    "        price = page.find(class_ = 'OfferPriceCaption__price')\n",
    "        if price is None:\n",
    "            data_train.at[counter,'price'] = None\n",
    "        else:\n",
    "            price = price.text.replace('\\xa0', '')\n",
    "            price = price.replace('₽', '')\n",
    "            data_train.at[counter,'price'] = price\n",
    "    # counter up\n",
    "        counter += 1"
   ]
  },
  {
   "cell_type": "code",
   "execution_count": 20,
   "metadata": {},
   "outputs": [
    {
     "data": {
      "text/plain": [
       "{'Accept': 'text/html,application/xhtml+xml,application/xml;q=0.9,image/avif,image/webp,image/apng,*/*;q=0.8,application/signed-exchange;v=b3;q=0.9',\n",
       " 'Accept-Encoding': 'gzip, deflate, br',\n",
       " 'Accept-Language': 'ru-RU,ru;q=0.9,en-US;q=0.8,en;q=0.7',\n",
       " 'Connection': 'keep-alive',\n",
       " 'Cookie': 'suid=bf4a59ff8840503c2077bf716a7bbeef.295e234731ada0bc538a541689345348; tmr_lvid=d2115cf4bc0ee3e6bc3ad89db8fdac9d; tmr_lvidTS=1596630011564; _ym_uid=1596630015684249973; _ga=GA1.2.1113974574.1596630016; autoruuid=g5f949c622cu74bpb1qps6a12l6p5u7t.07262c19ce2a1f07cac53c4ce06ef69b; gids=213; gradius=200; mindboxDeviceUUID=a231f610-2f9e-4911-9cb8-9112afa13ab1; directCrm-session=%7B%22deviceGuid%22%3A%22a231f610-2f9e-4911-9cb8-9112afa13ab1%22%7D; tmr_reqNum=15; yuidlt=1; yandexuid=1471619051363959249; my=YysBgNU2AQEA; autoru_sid=a%3Ag5f949c622cu74bpb1qps6a12l6p5u7t.07262c19ce2a1f07cac53c4ce06ef69b%7C1612822568824.604800.vXs7yiSNjHUj9vs_NTRT7Q.Ab6eLoCklN5OVQvHKRzq30jYE9puDG83Hht-435SfG4; crookie=uCcId3jGlYfIvH+2UzzszOwTawIMGSzWumxanVb1Ras+Mu6qi+8yzj8EL+czftU9orxvkiKDKe/wgGsJDdJMlqyn6WU=; cmtchd=MTYxMjgyMjU3MTQ4MA==; _csrf_token=04c10009d8f17a08b4d507f70f2a287c28bf3c17f7b3ef42; X-Vertis-DC=vla; gdpr=0; _ym_isad=2; index-selector-tab=marks; listing_view_session={}; listing_view=%7B%22output_type%22%3Anull%2C%22version%22%3A1%7D; autoru-visits-count=2; salon_phone_utms=utm_medium%3Dcpm%26utm_source%3Dauto-ru%26utm_campaign%3Dauto-ru_rus-r225_proauto-rk2021%26utm_content%3D113pa-100PRx40-otchety-o-proshlom-mashiny-ot-99-rublei_proauto-promo-page_rus-r225; hide-proauto-pimple=1; from=direct; _ym_d=1613218878; from_lifetime=1613218878985; cycada=S1YNtBaS32C5Sgb39LwY/7150N9cGJGcL1yh7v8BaXc=',\n",
       " 'Host': 'auto.ru',\n",
       " 'sec-ch-ua': '\"Chromium\";v=\"88\", \"Google Chrome\";v=\"88\", \";Not A Brand\";v=\"99\"',\n",
       " 'sec-ch-ua-mobile': '?0',\n",
       " 'Sec-Fetch-Dest': 'document',\n",
       " 'Sec-Fetch-Mode': 'navigate',\n",
       " 'Sec-Fetch-Site': 'none',\n",
       " 'Sec-Fetch-User': '?1',\n",
       " 'Upgrade-Insecure-Requests': '1',\n",
       " 'User-Agent': 'Mozilla/5.0 (Windows NT 6.1; Win64; x64) AppleWebKit/537.36 (KHTML, like Gecko) Chrome/88.0.4324.150 Safari/537.36'}"
      ]
     },
     "execution_count": 20,
     "metadata": {},
     "output_type": "execute_result"
    }
   ],
   "source": [
    "{\n",
    "'Accept': 'text/html,application/xhtml+xml,application/xml;q=0.9,image/avif,image/webp,image/apng,*/*;q=0.8,application/signed-exchange;v=b3;q=0.9',\n",
    "'Accept-Encoding': 'gzip, deflate, br',\n",
    "'Accept-Language': 'ru-RU,ru;q=0.9,en-US;q=0.8,en;q=0.7',\n",
    "'Connection': 'keep-alive',\n",
    "'Cookie': 'suid=bf4a59ff8840503c2077bf716a7bbeef.295e234731ada0bc538a541689345348; tmr_lvid=d2115cf4bc0ee3e6bc3ad89db8fdac9d; tmr_lvidTS=1596630011564; _ym_uid=1596630015684249973; _ga=GA1.2.1113974574.1596630016; autoruuid=g5f949c622cu74bpb1qps6a12l6p5u7t.07262c19ce2a1f07cac53c4ce06ef69b; gids=213; gradius=200; mindboxDeviceUUID=a231f610-2f9e-4911-9cb8-9112afa13ab1; directCrm-session=%7B%22deviceGuid%22%3A%22a231f610-2f9e-4911-9cb8-9112afa13ab1%22%7D; tmr_reqNum=15; yuidlt=1; yandexuid=1471619051363959249; my=YysBgNU2AQEA; autoru_sid=a%3Ag5f949c622cu74bpb1qps6a12l6p5u7t.07262c19ce2a1f07cac53c4ce06ef69b%7C1612822568824.604800.vXs7yiSNjHUj9vs_NTRT7Q.Ab6eLoCklN5OVQvHKRzq30jYE9puDG83Hht-435SfG4; crookie=uCcId3jGlYfIvH+2UzzszOwTawIMGSzWumxanVb1Ras+Mu6qi+8yzj8EL+czftU9orxvkiKDKe/wgGsJDdJMlqyn6WU=; cmtchd=MTYxMjgyMjU3MTQ4MA==; _csrf_token=04c10009d8f17a08b4d507f70f2a287c28bf3c17f7b3ef42; X-Vertis-DC=vla; gdpr=0; _ym_isad=2; index-selector-tab=marks; listing_view_session={}; listing_view=%7B%22output_type%22%3Anull%2C%22version%22%3A1%7D; autoru-visits-count=2; salon_phone_utms=utm_medium%3Dcpm%26utm_source%3Dauto-ru%26utm_campaign%3Dauto-ru_rus-r225_proauto-rk2021%26utm_content%3D113pa-100PRx40-otchety-o-proshlom-mashiny-ot-99-rublei_proauto-promo-page_rus-r225; hide-proauto-pimple=1; from=direct; _ym_d=1613218878; from_lifetime=1613218878985; cycada=S1YNtBaS32C5Sgb39LwY/7150N9cGJGcL1yh7v8BaXc=',\n",
    "'Host': 'auto.ru',\n",
    "'sec-ch-ua': '\"Chromium\";v=\"88\", \"Google Chrome\";v=\"88\", \";Not A Brand\";v=\"99\"',\n",
    "'sec-ch-ua-mobile': '?0',\n",
    "'Sec-Fetch-Dest': 'document',\n",
    "'Sec-Fetch-Mode': 'navigate',\n",
    "'Sec-Fetch-Site': 'none',\n",
    "'Sec-Fetch-User': '?1',\n",
    "'Upgrade-Insecure-Requests': '1',\n",
    "'User-Agent': 'Mozilla/5.0 (Windows NT 6.1; Win64; x64) AppleWebKit/537.36 (KHTML, like Gecko) Chrome/88.0.4324.150 Safari/537.36'\n",
    "}"
   ]
  },
  {
   "cell_type": "code",
   "execution_count": 3,
   "metadata": {},
   "outputs": [
    {
     "data": {
      "text/plain": [
       "'https://auto.ru/catalog/cars/used/?page_num=2&view_type=list'"
      ]
     },
     "execution_count": 3,
     "metadata": {},
     "output_type": "execute_result"
    }
   ],
   "source": [
    "'https://auto.ru/catalog/cars/used/?view_type=list'\n",
    "'https://auto.ru/catalog/cars/used/?page_num=2&view_type=list'"
   ]
  },
  {
   "cell_type": "code",
   "execution_count": null,
   "metadata": {},
   "outputs": [],
   "source": [
    "for mark in marks_on_page_list:\n",
    "    models_of_mark = mark.find_all('a', class_='link_theme_auto') # html списка моделей марки\n",
    "    \n",
    "    link_for_mark_name = models_of_mark[0].get('href')  # ссылка на первую модель, содержит обозначене марки на auto.ru\n",
    "    mark_start = link_for_mark_name.find('cars/') + 5   # первый символ обозначеня марки\n",
    "    mark_end = link_for_mark_name.find('/', mark_start) # последний символ обозначения марки\n",
    "    mark_name = link_for_mark_name[mark_start:mark_end] # получение обозначения марки\n",
    "    \n",
    "    print(mark_name, len(models_of_mark))\n",
    "    \n",
    "    for model in models_of_mark:\n",
    "        link_theme_auto = model.get('href')\n",
    "        model_start = mark_end+1\n",
    "        model_end = link_theme_auto.find('/', model_start)\n",
    "        model_name = link_theme_auto[model_start:model_end]\n",
    "        print('\\t',model_name)"
   ]
  },
  {
   "cell_type": "code",
   "execution_count": null,
   "metadata": {},
   "outputs": [],
   "source": [
    "params_first_page = {\n",
    "    'view_type': 'list'\n",
    "}\n",
    "res = re.get(url, params=params_first_page, headers=headers)\n",
    "\n",
    "pages_num = 2\n",
    "\n",
    "params_next_pages = {\n",
    "    'page_num': pages_num,\n",
    "    'view_type': 'list'\n",
    "}\n",
    "\n",
    "res_2 = re.get(url, params=params_next_pages, headers=headers)\n",
    "\n",
    "res.status_code,res_2.status_code\n",
    "\n",
    "soup = BeautifulSoup(res.text, 'html.parser')\n",
    "soup_2 = BeautifulSoup(res_2.text, 'html.parser')"
   ]
  },
  {
   "cell_type": "code",
   "execution_count": null,
   "metadata": {},
   "outputs": [],
   "source": [
    "marks_on_page_list = soup.find_all('dd', class_='catalog-all-text-list__desc')\n",
    "\n",
    "models_of_mark = marks_on_page_list[1].find_all('a', class_='link_theme_auto')\n",
    "\n",
    "link_theme_auto = models_of_mark[0].get('href')\n",
    "mark_start = link_theme_auto.find('cars/') + 5\n",
    "mark_end = link_theme_auto.find('/', mark_start)\n",
    "model_start = mark_end+1\n",
    "model_end = link_theme_auto.find('/', model_start)\n",
    "\n",
    "link_theme_auto[mark_start:mark_end], link_theme_auto[model_start:model_end]"
   ]
  },
  {
   "cell_type": "code",
   "execution_count": 35,
   "metadata": {},
   "outputs": [],
   "source": [
    "item_name = complectation_items[0].find('span',class_=\"ComplectationGroups__itemName\").text\n",
    "item_content = [x.text for x in complectation_items[0].find_all('li',class_=\"ComplectationGroups__itemContentEl\")]\n",
    "\n",
    "complectation_dict[item_name] = item_content"
   ]
  },
  {
   "cell_type": "code",
   "execution_count": 83,
   "metadata": {},
   "outputs": [
    {
     "data": {
      "text/plain": [
       "year                                                          1993\n",
       "kmAge                                                       786115\n",
       "bodytype                                                     седан\n",
       "color                                                        синий\n",
       "volume                                                         2.3\n",
       "power                                                          133\n",
       "fuel_type                                                   Бензин\n",
       "transmission                                          механическая\n",
       "drive                                                     передний\n",
       "wheel                                                        Левый\n",
       "state                                           Не требует ремонта\n",
       "ownersCount                                            3 или более\n",
       "pts                                                       Оригинал\n",
       "customs                                                 Растаможен\n",
       "complectation    {'Элементы экстерьера': ['Легкосплавные диски'...\n",
       "offerprice                                                   93000\n",
       "dtype: object"
      ]
     },
     "execution_count": 83,
     "metadata": {},
     "output_type": "execute_result"
    }
   ],
   "source": [
    "# получаем значения признаков(кроме комплектации) из карточки текущего обьявления\n",
    "\n",
    "year = ticket_bs.find('li',class_='CardInfoRow_year').find('a').text\n",
    "kmAge = ticket_bs.find('li',class_='CardInfoRow_kmAge').find_all('span')[1].text\n",
    "kmAge = re.sub(\"\\D\", \"\", kmAge)\n",
    "bodytype = ticket_bs.find('li',class_='CardInfoRow_bodytype').find('a').text\n",
    "color = ticket_bs.find('li',class_='CardInfoRow_color').find('a').text\n",
    "volume = ticket_bs.find('li',class_='CardInfoRow_engine').find('div').text.split(' / ')[0]\n",
    "volume =  re.sub(\"[^\\d.]\", \"\", volume)\n",
    "power = ticket_bs.find('li',class_='CardInfoRow_engine').find('div').text.split(' / ')[1]\n",
    "power = re.sub(\"\\D\", \"\", power)\n",
    "fuel_type = ticket_bs.find('li',class_='CardInfoRow_engine').find('div').text.split(' / ')[2]\n",
    "transmission = ticket_bs.find('li',class_='CardInfoRow_transmission').find_all('span')[1].text\n",
    "drive = ticket_bs.find('li',class_='CardInfoRow_drive').find_all('span')[1].text\n",
    "wheel = ticket_bs.find('li',class_='CardInfoRow_wheel').find_all('span')[1].text\n",
    "state = ticket_bs.find('li',class_='CardInfoRow_state').find_all('span')[1].text\n",
    "ownersCount = ticket_bs.find('li',class_='CardInfoRow_ownersCount').find_all('span')[1].text\n",
    "pts = ticket_bs.find('li',class_='CardInfoRow_pts').find_all('span')[1].text\n",
    "customs = ticket_bs.find('li',class_='CardInfoRow_customs').find_all('span')[1].text\n",
    "offerprice = ticket_bs.find('span',class_='OfferPriceCaption__price').text\n",
    "\n",
    "# создание словаря комплектации\n",
    "complectation_dict = {}\n",
    "complectation = ticket_bs.find('section',class_='CardComplectation')\n",
    "complectation_items = complectation.find_all('div',class_=\"ComplectationGroups__group\")\n",
    "\n",
    "for item in complectation_items:\n",
    "    item_name = item.find('span',class_=\"ComplectationGroups__itemName\").text\n",
    "    item_content = [x.text for x in item.find_all('li',class_=\"ComplectationGroups__itemContentEl\")]\n",
    "    complectation_dict[item_name] = item_content\n",
    "\n",
    "# получение цены предложения\n",
    "offerprice = re.sub(\"\\D\", \"\", offerprice)\n",
    "\n",
    "# заполняем строку значенями\n",
    "ind = ['year','kmAge' ,'bodytype' ,'color' ,'volume' ,'power' ,'fuel_type','transmission',\n",
    " 'drive','wheel','state','ownersCount','pts','customs','complectation','offerprice']\n",
    "vol = [year,kmAge ,bodytype ,color ,volume ,power ,fuel_type,transmission,\n",
    "       drive,wheel,state,ownersCount,pts,customs,complectation_dict,offerprice]\n",
    "data_row = pd.Series(data=vol,index=ind)\n",
    "data_row"
   ]
  }
 ],
 "metadata": {
  "kernelspec": {
   "display_name": "Python 3",
   "language": "python",
   "name": "python3"
  },
  "language_info": {
   "codemirror_mode": {
    "name": "ipython",
    "version": 3
   },
   "file_extension": ".py",
   "mimetype": "text/x-python",
   "name": "python",
   "nbconvert_exporter": "python",
   "pygments_lexer": "ipython3",
   "version": "3.7.4"
  }
 },
 "nbformat": 4,
 "nbformat_minor": 2
}
