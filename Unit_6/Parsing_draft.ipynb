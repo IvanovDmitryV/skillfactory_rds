{
 "cells": [
  {
   "cell_type": "code",
   "execution_count": 1,
   "metadata": {},
   "outputs": [],
   "source": [
    "import pandas as pd\n",
    "import requests as re\n",
    "import time\n",
    "\n",
    "from bs4 import BeautifulSoup"
   ]
  },
  {
   "cell_type": "code",
   "execution_count": 5,
   "metadata": {},
   "outputs": [],
   "source": [
    "urls = [\n",
    "    'https://auto.ru/cars/used/sale/audi/a6/1102314663-084e0ff8/',\n",
    "    'https://auto.ru/cars/used/sale/mazda/3/1101836763-72c1fd32/',\n",
    "    'https://auto.ru/cars/used/sale/ford/mondeo/1101981472-3859561f/',\n",
    "    'https://auto.ru/cars/used/sale/ford/mondeo/1102310519-7daac9c2/'\n",
    "]"
   ]
  },
  {
   "cell_type": "code",
   "execution_count": 4,
   "metadata": {},
   "outputs": [
    {
     "ename": "NameError",
     "evalue": "name 'url' is not defined",
     "output_type": "error",
     "traceback": [
      "\u001b[1;31m---------------------------------------------------------------------------\u001b[0m",
      "\u001b[1;31mNameError\u001b[0m                                 Traceback (most recent call last)",
      "\u001b[1;32m<ipython-input-4-5446fb31b66c>\u001b[0m in \u001b[0;36m<module>\u001b[1;34m\u001b[0m\n\u001b[1;32m----> 1\u001b[1;33m \u001b[0murl\u001b[0m\u001b[1;33m\u001b[0m\u001b[1;33m\u001b[0m\u001b[0m\n\u001b[0m",
      "\u001b[1;31mNameError\u001b[0m: name 'url' is not defined"
     ]
    }
   ],
   "source": []
  },
  {
   "cell_type": "markdown",
   "metadata": {},
   "source": [
    "# Подвал"
   ]
  },
  {
   "cell_type": "code",
   "execution_count": 9,
   "metadata": {},
   "outputs": [
    {
     "data": {
      "text/plain": [
       "({'Accept': 'text/html,application/xhtml+xml,application/xml;q=0.9,image/avif,image/webp,image/apng,*/*;q=0.8,application/signed-exchange;v=b3;q=0.9',\n",
       "  'Accept-Encoding': 'gzip, deflate, br',\n",
       "  'Accept-Language': 'ru-RU,ru;q=0.9,en-US;q=0.8,en;q=0.7',\n",
       "  'Cache-Control': 'max-age=0',\n",
       "  'Connection': 'keep-alive',\n",
       "  'Cookie': 'suid=3e1833cc7469d2dc00ccae04449006c4.9491b97d8d423e5ce05ef1c79af8855d; _ym_uid=1599469037495440295; _ga=GA1.2.1600002130.1601280177; _csrf_token=1d7055285f2e0f66d88a7fe1fc75e2eec8ae6cd772464581; autoru_sid=a%3Ag60264c2d2igjpia4p3it7lul5qeu67s.cda7ff5877363e08fe2b0faf7c62fcdd%7C1613122605806.604800.gg8JxiHvE9AyBZihcInqEA.Ld4FRMZg9Xk8q0iFZFqjpOoMCJDw6N7itfobSBJS6WA; autoruuid=g60264c2d2igjpia4p3it7lul5qeu67s.cda7ff5877363e08fe2b0faf7c62fcdd; from=direct; X-Vertis-DC=vla; yuidlt=1; yandexuid=905825121577456505; my=YyYBAS4BAToBAQA%3D; counter_ga_all7=2; gdpr=0; _ym_isad=2; gids=213; _gid=GA1.2.204714820.1613122653; autoru-visits-count=1; from_lifetime=1613124329322; _ym_d=1613124329; cycada=QtZcIspPQofWD6yVq1tXyo1meqCq6CwJcSH8NY94K9c=',\n",
       "  'Host': 'auto.ru',\n",
       "  'Referer': 'https://auto.ru/moskva/cars/used/',\n",
       "  'sec-ch-ua': '\"Chromium\";v=\"88\", \"Google Chrome\";v=\"88\", \";Not A Brand\";v=\"99\"',\n",
       "  'sec-ch-ua-mobile': '?0',\n",
       "  'Sec-Fetch-Dest': 'document',\n",
       "  'Sec-Fetch-Mode': 'navigate',\n",
       "  'Sec-Fetch-Site': 'same-origin',\n",
       "  'Sec-Fetch-User': '?1',\n",
       "  'Upgrade-Insecure-Requests': '1',\n",
       "  'User-Agent': 'Mozilla/5.0 (Windows NT 10.0; ,Win64; x64) AppleWebKit/537.36 (KHTML, like Gecko) Chrome/88.0.4324.150 Safari/537.36'},)"
      ]
     },
     "execution_count": 9,
     "metadata": {},
     "output_type": "execute_result"
    }
   ],
   "source": [
    "\n",
    "{\n",
    "'Accept': 'text/html,application/xhtml+xml,application/xml;q=0.9,image/avif,image/webp,image/apng,*/*;q=0.8,application/signed-exchange;v=b3;q=0.9',\n",
    "'Accept-Encoding': 'gzip, deflate, br',\n",
    "'Accept-Language': 'ru-RU,ru;q=0.9,en-US;q=0.8,en;q=0.7',\n",
    "'Cache-Control': 'max-age=0',\n",
    "'Connection': 'keep-alive',\n",
    "'Cookie': 'suid=3e1833cc7469d2dc00ccae04449006c4.9491b97d8d423e5ce05ef1c79af8855d; _ym_uid=1599469037495440295; _ga=GA1.2.1600002130.1601280177; _csrf_token=1d7055285f2e0f66d88a7fe1fc75e2eec8ae6cd772464581; autoru_sid=a%3Ag60264c2d2igjpia4p3it7lul5qeu67s.cda7ff5877363e08fe2b0faf7c62fcdd%7C1613122605806.604800.gg8JxiHvE9AyBZihcInqEA.Ld4FRMZg9Xk8q0iFZFqjpOoMCJDw6N7itfobSBJS6WA; autoruuid=g60264c2d2igjpia4p3it7lul5qeu67s.cda7ff5877363e08fe2b0faf7c62fcdd; from=direct; X-Vertis-DC=vla; yuidlt=1; yandexuid=905825121577456505; my=YyYBAS4BAToBAQA%3D; counter_ga_all7=2; gdpr=0; _ym_isad=2; gids=213; _gid=GA1.2.204714820.1613122653; autoru-visits-count=1; from_lifetime=1613124329322; _ym_d=1613124329; cycada=QtZcIspPQofWD6yVq1tXyo1meqCq6CwJcSH8NY94K9c=',\n",
    "'Host': 'auto.ru',\n",
    "'Referer': 'https://auto.ru/moskva/cars/used/',\n",
    "'sec-ch-ua': '\"Chromium\";v=\"88\", \"Google Chrome\";v=\"88\", \";Not A Brand\";v=\"99\"',\n",
    "'sec-ch-ua-mobile': '?0',\n",
    "'Sec-Fetch-Dest': 'document',\n",
    "'Sec-Fetch-Mode': 'navigate',\n",
    "'Sec-Fetch-Site': 'same-origin',\n",
    "'Sec-Fetch-User': '?1',\n",
    "'Upgrade-Insecure-Requests': '1',\n",
    "'User-Agent': 'Mozilla/5.0 (Windows NT 10.0; ,Win64; x64) AppleWebKit/537.36 (KHTML, like Gecko) Chrome/88.0.4324.150 Safari/537.36',\n",
    "},"
   ]
  },
  {
   "cell_type": "code",
   "execution_count": null,
   "metadata": {},
   "outputs": [],
   "source": []
  },
  {
   "cell_type": "code",
   "execution_count": null,
   "metadata": {},
   "outputs": [],
   "source": [
    "url = 'https://auto.ru/cars/used/?from=404_new_version_view&output_type=table'   \n",
    "response = requests.get(url)\n",
    "page = BeautifulSoup(response.text, 'html.parser')\n",
    "soup = BeautifulSoup(requests.get(url, headers={'User-Agent': 'Mozilla/5.0'}).text, 'html.parser')  \n",
    "data = soup.find_all('div', class_ =\"LayoutSidebar\")\n",
    "df = pd.read_html(str(data))[0]\n",
    "df"
   ]
  },
  {
   "cell_type": "code",
   "execution_count": null,
   "metadata": {},
   "outputs": [],
   "source": [
    "def features_parser (url_list):\n",
    "    counter = 0\n",
    "    for card_url in url_list:\n",
    "        response = requests.get(card_url)\n",
    "        response.encoding = 'utf-8'\n",
    "        page = BeautifulSoup(response.text, 'html.parser')\n",
    "    # body type\n",
    "        body = page.find(itemprop = 'bodyType')\n",
    "        if body is None:\n",
    "            data_train.at[counter,'bodyType'] = None\n",
    "        else:\n",
    "            data_train.at[counter,'bodyType'] = body['content']\n",
    "    #brand\n",
    "        brand = page.find(itemprop = 'brand')\n",
    "        if brand is None:\n",
    "            data_train.at[counter, 'brand'] = None\n",
    "        else:\n",
    "            data_train.at[counter, 'brand'] = brand['content']\n",
    "    # color\n",
    "        color = page.find(itemprop = 'color')\n",
    "        if color is None:\n",
    "            data_train.at[counter,'color'] = None\n",
    "        else:\n",
    "            data_train.at[counter,'color'] = color['content']\n",
    "    # fuel type\n",
    "        fuel = page.find(itemprop = 'fuelType')\n",
    "        if fuel is None:\n",
    "            data_train.at[counter,'fuelType'] = None\n",
    "        else:\n",
    "            data_train.at[counter,'fuelType'] = fuel['content']\n",
    "    # model date\n",
    "        model_date = page.find(itemprop = 'modelDate')\n",
    "        if model_date is None:\n",
    "            data_train.at[counter,'modelDate'] = None\n",
    "        else:\n",
    "            data_train.at[counter,'modelDate'] = model_date['content']\n",
    "    # number of doors\n",
    "        doors = page.find(itemprop = 'numberOfDoors')\n",
    "        if doors is None:\n",
    "            data_train.at[counter,'numberOfDoors'] = None\n",
    "        else:\n",
    "            data_train.at[counter,'numberOfDoors'] = doors['content']\n",
    "    # production date\n",
    "        prod_date = page.find(itemprop = 'productionDate')\n",
    "        if prod_date is None:\n",
    "            data_train.at[counter,'productionDate'] = None\n",
    "        else:\n",
    "            data_train.at[counter,'productionDate'] = prod_date['content']\n",
    "    # vehicle transmission\n",
    "        trans = page.find(itemprop = 'vehicleTransmission')\n",
    "        if trans is None:\n",
    "            data_train.at[counter,'vehicleTransmission'] = None\n",
    "        else:\n",
    "            data_train.at[counter,'vehicleTransmission'] = trans['content']\n",
    "    # engine displacement\n",
    "        engine_ltr = page.find(itemprop = 'engineDisplacement')\n",
    "        if engine_ltr is None:\n",
    "            data_train.at[counter,'engineDisplacement'] = None\n",
    "        else:\n",
    "            data_train.at[counter,'engineDisplacement'] = engine_ltr['content']\n",
    "    # engine power\n",
    "        engine_pwr = page.find(itemprop = 'enginePower')\n",
    "        if engine_pwr is None:\n",
    "            data_train.at[counter,'enginePower'] = None\n",
    "        else:\n",
    "            data_train.at[counter,'enginePower'] = engine_pwr['content']\n",
    "    # mileage\n",
    "        mileage = page.find(class_ = 'CardInfoRow CardInfoRow_kmAge')\n",
    "        if mileage is None:\n",
    "            data_train.at[counter,'mileage'] = None\n",
    "        else:\n",
    "            mileage = mileage.text.replace('Пробег', '')\n",
    "            mileage = mileage.replace('\\xa0', '')\n",
    "            mileage = mileage.replace('км', '')\n",
    "            data_train.at[counter,'mileage'] = mileage\n",
    "    # drive type\n",
    "        drive = page.find(class_ = 'CardInfoRow CardInfoRow_drive')\n",
    "        if drive is None:\n",
    "            data_train.at[counter,'Привод'] = None\n",
    "        else:\n",
    "            drive = drive.text.replace('Привод', '')\n",
    "            data_train.at[counter,'Привод'] = drive\n",
    "    # wheel\n",
    "        wheel = page.find(class_ = 'CardInfoRow CardInfoRow_wheel')\n",
    "        if wheel is None:\n",
    "            data_train.at[counter,'Руль'] = None\n",
    "        else:\n",
    "            wheel = wheel.text.replace('Руль', '')\n",
    "            data_train.at[counter,'Руль'] = wheel\n",
    "    # owners\n",
    "        owners = page.find(class_ = 'CardInfoRow CardInfoRow_ownersCount')\n",
    "        if owners is None:\n",
    "            data_train.at[counter,'Владельцы'] = None\n",
    "        else:\n",
    "            owners = owners.text.replace('Владельцы', '')\n",
    "            owners = owners.replace('\\xa0', '')\n",
    "            data_train.at[counter,'Владельцы'] = owners\n",
    "    # vehicle certificate\n",
    "        certificate = page.find(class_ = 'CardInfoRow CardInfoRow_pts')\n",
    "        if certificate is None:\n",
    "            data_train.at[counter,'ПТС'] = None\n",
    "        else:\n",
    "            certificate = certificate.text.replace('ПТС', '')\n",
    "            data_train.at[counter,'ПТС'] = certificate\n",
    "    # price\n",
    "        price = page.find(class_ = 'OfferPriceCaption__price')\n",
    "        if price is None:\n",
    "            data_train.at[counter,'price'] = None\n",
    "        else:\n",
    "            price = price.text.replace('\\xa0', '')\n",
    "            price = price.replace('₽', '')\n",
    "            data_train.at[counter,'price'] = price\n",
    "    # counter up\n",
    "        counter += 1"
   ]
  }
 ],
 "metadata": {
  "kernelspec": {
   "display_name": "Python 3",
   "language": "python",
   "name": "python3"
  },
  "language_info": {
   "codemirror_mode": {
    "name": "ipython",
    "version": 3
   },
   "file_extension": ".py",
   "mimetype": "text/x-python",
   "name": "python",
   "nbconvert_exporter": "python",
   "pygments_lexer": "ipython3",
   "version": "3.7.4"
  }
 },
 "nbformat": 4,
 "nbformat_minor": 2
}
