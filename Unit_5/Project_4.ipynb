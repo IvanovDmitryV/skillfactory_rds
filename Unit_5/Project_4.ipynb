{
 "cells": [
  {
   "cell_type": "markdown",
   "metadata": {},
   "source": [
    "# Описание задачи\n",
    "## В задачи пректа входит:\n",
    "- Обработка предоставленных данных: нахождение и заполнение пропусков, кодировка, нормализация признаков;\n",
    "- Создание новых признаков с использованием предоставленных данных;\n",
    "- Отбор признаков;\n",
    "- Обучение и тестирование модели на полученных признаках;\n",
    "- Оптимизация размера набора данных и подбор макропараметров модели на оптимизированном наборе;\n",
    "- Получение предсказанных моделью значений, подготовка и отправка submission\n",
    "\n",
    "## Описание датасета\n",
    "Первоначальная версия датасета состоит из 14-ти столбцов, содержащих следующую информацию:\n",
    "\n",
    "- **client_id** - идентификатор клиента\n",
    "- **education** - уровень образования\n",
    "- **sex** - пол заёмщика\n",
    "- **age** - возраст заёмщика\n",
    "- **car** - флаг наличия автомобиля\n",
    "- **car**_type\tфлаг - автомобиля-иномарки\n",
    "- **decline_app_cnt** - количество отказанных прошлых заявок\n",
    "- **good_work** - флаг наличия «хорошей» работы\n",
    "- **bki_request_cnt** - количество запросов в БКИ\n",
    "- **home_address** - категоризатор домашнего адреса\n",
    "- **work_address** - категоризатор рабочего адреса\n",
    "- **income** - доход заёмщика\n",
    "- **foreign_passport** - наличие загранпаспорта\n",
    "- **default** - наличие дефолта (целевая переменная)"
   ]
  },
  {
   "cell_type": "markdown",
   "metadata": {},
   "source": [
    "# Импорт библиотек, установка параметров, определение функций"
   ]
  },
  {
   "cell_type": "code",
   "execution_count": 4,
   "metadata": {},
   "outputs": [],
   "source": [
    "import pandas as pd\n",
    "import numpy as np\n",
    "\n",
    "import matplotlib.pyplot as plt\n",
    "import seaborn as sns\n",
    "\n",
    "from sklearn.feature_selection import f_classif, mutual_info_classif\n",
    "from sklearn.preprocessing import LabelEncoder, OneHotEncoder, StandardScaler\n",
    "\n",
    "from sklearn.model_selection import train_test_split\n",
    "from sklearn.linear_model import LogisticRegression\n",
    "\n",
    "from sklearn.metrics import confusion_matrix\n",
    "from sklearn.metrics import auc, roc_auc_score, roc_curve\n",
    "\n",
    "import warnings\n",
    "warnings.filterwarnings(\"ignore\")\n",
    "\n",
    "import os"
   ]
  },
  {
   "cell_type": "code",
   "execution_count": 36,
   "metadata": {},
   "outputs": [],
   "source": [
    "# функции используемые в ноутбуке\n",
    "def df_describe(df):\n",
    "    desc = df.describe(include='all',percentiles=[0.5]).T\n",
    "    desc['type'] = [type(x) for x in df.iloc[0]]\n",
    "    desc['NaN'] = df.isna().sum()\n",
    "    desc['not NaN'] = df.notna().sum()\n",
    "    desc.unique = df.nunique()\n",
    "    desc.top = df.mode(axis=0).iloc[0]\n",
    "    desc.freq = [df[col].value_counts().iloc[0] for col in  df.columns]\n",
    "    return desc\n",
    "\n",
    "def nums_visualisation(df,annotation=False):\n",
    "    columns = df.columns\n",
    "    cols_num = df.shape[1]\n",
    "    \n",
    "    fstr = '\\033[1m{}\\033[0m, '* (len(columns)-1) + '\\033[1m{}\\033[0m'\n",
    "    if annotation: print(('Всего числовых признаков {}. К ним относятся: ' + fstr).format(len(columns),*columns))\n",
    "\n",
    "    indent = 0.05\n",
    "    fig = plt.figure(figsize=(16,5))\n",
    "    for i,col in enumerate(columns):\n",
    "        row = df[col]\n",
    "        min_diff = pd.Series(row.unique()).sort_values().diff().min()\n",
    "        bins = min(int((row.max()-row.min()) / min_diff),100)\n",
    "        \n",
    "        fig.add_axes([1/cols_num*i, 0.35, 1/cols_num-indent, 1])\n",
    "        plt.title(col)\n",
    "        row.plot.hist(bins=bins,density=True)\n",
    "    \n",
    "        fig.add_axes([1/cols_num*i, 0, 1/cols_num-indent, 0.2])\n",
    "        sns.boxplot(x=row)\n",
    "\n",
    "    plt.tight_layout()\n",
    "\n",
    "def num_visualisation(row,hue): \n",
    "    row1 = row[hue==0]\n",
    "    row2 = row[hue==1]\n",
    "    \n",
    "    min_diff = pd.Series(row.unique()).sort_values().diff().min()\n",
    "    bins = min(int((row.max()-row.min()) / min_diff),100)\n",
    "    bins_range = row.min()-min_diff/2 ,row.max()+min_diff/2 \n",
    "\n",
    "    fig = plt.figure(figsize=(15,5))\n",
    "    \n",
    "    ax1 = fig.add_axes([0, 0.4, 1, 1])\n",
    "    row1.plot.hist(bins=bins,density=True,alpha = 0.65)\n",
    "    row2.plot.hist(bins=bins,density=True,alpha = 0.65)\n",
    "    plt.legend(['negative','positive'])\n",
    "    \n",
    "    ax2 = fig.add_axes([0, 0, 1, 0.30]) \n",
    "    ax1.get_shared_x_axes().join(ax1, ax2)\n",
    "    sns.boxplot(data = [row1,row2],orient='h',saturation = 0.5)\n",
    "\n",
    "    \n",
    "def cat_vosualisation(df):\n",
    "    columns = df.columns\n",
    "    cols_num = df.shape[1]\n",
    "    \n",
    "    fstr = '\\033[1m{}\\033[0m, '* (len(columns)-1) + '\\033[1m{}\\033[0m'\n",
    "    print(('Всего категориальных  признаков {}. К ним относятся: ' + fstr).format(len(columns),*columns))\n",
    "    \n",
    "    indent = 0.05\n",
    "    fig = plt.figure(figsize=(16,5))\n",
    "    for i,col in enumerate(columns):\n",
    "        row = df[col]\n",
    "        bins = df.shape[1]\n",
    "        \n",
    "        fig.add_axes([1/cols_num*i, 0, 1/cols_num-indent, 1])\n",
    "        plt.title(col)\n",
    "        sns.countplot(data[col])\n",
    "    \n",
    "    \n",
    "def pre_process(df):\n",
    "    pass\n",
    "\n"
   ]
  },
  {
   "cell_type": "code",
   "execution_count": 6,
   "metadata": {},
   "outputs": [
    {
     "name": "stdout",
     "output_type": "stream",
     "text": [
      "Populating the interactive namespace from numpy and matplotlib\n"
     ]
    }
   ],
   "source": [
    "# установка параметров\n",
    "%pylab inline\n",
    "\n",
    "pd.set_option('display.max_rows', 50) # выведем больше строк\n",
    "pd.set_option('display.max_columns', 30) # выведем больше колонок\n",
    "\n",
    "# альтернативные пути на kaggle и локальный (НЕ ЗАБЫВАТЬ МЕНЯТЬ!)\n",
    "path = './Project_4_data/'\n",
    "# path = '/kaggle/input/'\n",
    "\n",
    "RANDOM_SEED = 42"
   ]
  },
  {
   "cell_type": "code",
   "execution_count": 7,
   "metadata": {},
   "outputs": [
    {
     "name": "stdout",
     "output_type": "stream",
     "text": [
      "./Project_4_data/train.csv\n"
     ]
    }
   ],
   "source": [
    "# проверка пути и имен файлов\n",
    "for dirname, _, filenames in os.walk(path):\n",
    "    for filename in filenames:\n",
    "        print(os.path.join(dirname, filename))"
   ]
  },
  {
   "cell_type": "markdown",
   "metadata": {},
   "source": [
    "# Ознакомление с данными"
   ]
  },
  {
   "cell_type": "code",
   "execution_count": 8,
   "metadata": {},
   "outputs": [],
   "source": [
    "# чтение данных\n",
    "\n",
    "# df_train = pd.read_csv(f'{path}main_task.csv')\n",
    "# df_test = pd.read_csv(f'{path}kaggle_task.csv')\n",
    "# sample_submission = pd.read_csv(f'{path}sample_submission.csv')\n",
    "\n",
    "data = pd.read_csv(f'{path}train.csv')"
   ]
  },
  {
   "cell_type": "markdown",
   "metadata": {},
   "source": [
    "Проверим наличие дупликатов в данных"
   ]
  },
  {
   "cell_type": "code",
   "execution_count": 9,
   "metadata": {},
   "outputs": [
    {
     "data": {
      "text/plain": [
       "0"
      ]
     },
     "execution_count": 9,
     "metadata": {},
     "output_type": "execute_result"
    }
   ],
   "source": [
    "data.duplicated().sum()"
   ]
  },
  {
   "cell_type": "markdown",
   "metadata": {},
   "source": [
    "Посмотрим на краткую сводку и простую статистику о наборе данных."
   ]
  },
  {
   "cell_type": "code",
   "execution_count": 10,
   "metadata": {},
   "outputs": [
    {
     "name": "stdout",
     "output_type": "stream",
     "text": [
      "<class 'pandas.core.frame.DataFrame'>\n",
      "RangeIndex: 73799 entries, 0 to 73798\n",
      "Columns: 14 entries, client_id to default\n",
      "dtypes: int64(9), object(5)\n",
      "memory usage: 7.9+ MB\n"
     ]
    }
   ],
   "source": [
    "data.info(verbose=False)"
   ]
  },
  {
   "cell_type": "code",
   "execution_count": 11,
   "metadata": {},
   "outputs": [
    {
     "data": {
      "text/html": [
       "<div>\n",
       "<style scoped>\n",
       "    .dataframe tbody tr th:only-of-type {\n",
       "        vertical-align: middle;\n",
       "    }\n",
       "\n",
       "    .dataframe tbody tr th {\n",
       "        vertical-align: top;\n",
       "    }\n",
       "\n",
       "    .dataframe thead th {\n",
       "        text-align: right;\n",
       "    }\n",
       "</style>\n",
       "<table border=\"1\" class=\"dataframe\">\n",
       "  <thead>\n",
       "    <tr style=\"text-align: right;\">\n",
       "      <th></th>\n",
       "      <th>count</th>\n",
       "      <th>unique</th>\n",
       "      <th>top</th>\n",
       "      <th>freq</th>\n",
       "      <th>mean</th>\n",
       "      <th>std</th>\n",
       "      <th>min</th>\n",
       "      <th>50%</th>\n",
       "      <th>max</th>\n",
       "      <th>type</th>\n",
       "      <th>NaN</th>\n",
       "      <th>not NaN</th>\n",
       "    </tr>\n",
       "  </thead>\n",
       "  <tbody>\n",
       "    <tr>\n",
       "      <th>client_id</th>\n",
       "      <td>73799</td>\n",
       "      <td>73799</td>\n",
       "      <td>1</td>\n",
       "      <td>1</td>\n",
       "      <td>55138</td>\n",
       "      <td>31841.9</td>\n",
       "      <td>1</td>\n",
       "      <td>55274</td>\n",
       "      <td>110147</td>\n",
       "      <td>&lt;class 'numpy.int64'&gt;</td>\n",
       "      <td>0</td>\n",
       "      <td>73799</td>\n",
       "    </tr>\n",
       "    <tr>\n",
       "      <th>education</th>\n",
       "      <td>73492</td>\n",
       "      <td>5</td>\n",
       "      <td>SCH</td>\n",
       "      <td>38860</td>\n",
       "      <td>NaN</td>\n",
       "      <td>NaN</td>\n",
       "      <td>NaN</td>\n",
       "      <td>NaN</td>\n",
       "      <td>NaN</td>\n",
       "      <td>&lt;class 'str'&gt;</td>\n",
       "      <td>307</td>\n",
       "      <td>73492</td>\n",
       "    </tr>\n",
       "    <tr>\n",
       "      <th>sex</th>\n",
       "      <td>73799</td>\n",
       "      <td>2</td>\n",
       "      <td>F</td>\n",
       "      <td>41562</td>\n",
       "      <td>NaN</td>\n",
       "      <td>NaN</td>\n",
       "      <td>NaN</td>\n",
       "      <td>NaN</td>\n",
       "      <td>NaN</td>\n",
       "      <td>&lt;class 'str'&gt;</td>\n",
       "      <td>0</td>\n",
       "      <td>73799</td>\n",
       "    </tr>\n",
       "    <tr>\n",
       "      <th>age</th>\n",
       "      <td>73799</td>\n",
       "      <td>52</td>\n",
       "      <td>31</td>\n",
       "      <td>2727</td>\n",
       "      <td>39.2806</td>\n",
       "      <td>11.5204</td>\n",
       "      <td>21</td>\n",
       "      <td>37</td>\n",
       "      <td>72</td>\n",
       "      <td>&lt;class 'numpy.int64'&gt;</td>\n",
       "      <td>0</td>\n",
       "      <td>73799</td>\n",
       "    </tr>\n",
       "    <tr>\n",
       "      <th>car</th>\n",
       "      <td>73799</td>\n",
       "      <td>2</td>\n",
       "      <td>N</td>\n",
       "      <td>49832</td>\n",
       "      <td>NaN</td>\n",
       "      <td>NaN</td>\n",
       "      <td>NaN</td>\n",
       "      <td>NaN</td>\n",
       "      <td>NaN</td>\n",
       "      <td>&lt;class 'str'&gt;</td>\n",
       "      <td>0</td>\n",
       "      <td>73799</td>\n",
       "    </tr>\n",
       "    <tr>\n",
       "      <th>car_type</th>\n",
       "      <td>73799</td>\n",
       "      <td>2</td>\n",
       "      <td>N</td>\n",
       "      <td>59791</td>\n",
       "      <td>NaN</td>\n",
       "      <td>NaN</td>\n",
       "      <td>NaN</td>\n",
       "      <td>NaN</td>\n",
       "      <td>NaN</td>\n",
       "      <td>&lt;class 'str'&gt;</td>\n",
       "      <td>0</td>\n",
       "      <td>73799</td>\n",
       "    </tr>\n",
       "    <tr>\n",
       "      <th>decline_app_cnt</th>\n",
       "      <td>73799</td>\n",
       "      <td>21</td>\n",
       "      <td>0</td>\n",
       "      <td>61214</td>\n",
       "      <td>0.275749</td>\n",
       "      <td>0.804272</td>\n",
       "      <td>0</td>\n",
       "      <td>0</td>\n",
       "      <td>33</td>\n",
       "      <td>&lt;class 'numpy.int64'&gt;</td>\n",
       "      <td>0</td>\n",
       "      <td>73799</td>\n",
       "    </tr>\n",
       "    <tr>\n",
       "      <th>good_work</th>\n",
       "      <td>73799</td>\n",
       "      <td>2</td>\n",
       "      <td>0</td>\n",
       "      <td>61630</td>\n",
       "      <td>0.164894</td>\n",
       "      <td>0.371087</td>\n",
       "      <td>0</td>\n",
       "      <td>0</td>\n",
       "      <td>1</td>\n",
       "      <td>&lt;class 'numpy.int64'&gt;</td>\n",
       "      <td>0</td>\n",
       "      <td>73799</td>\n",
       "    </tr>\n",
       "    <tr>\n",
       "      <th>bki_request_cnt</th>\n",
       "      <td>73799</td>\n",
       "      <td>38</td>\n",
       "      <td>0</td>\n",
       "      <td>19381</td>\n",
       "      <td>2.00034</td>\n",
       "      <td>2.25207</td>\n",
       "      <td>0</td>\n",
       "      <td>1</td>\n",
       "      <td>53</td>\n",
       "      <td>&lt;class 'numpy.int64'&gt;</td>\n",
       "      <td>0</td>\n",
       "      <td>73799</td>\n",
       "    </tr>\n",
       "    <tr>\n",
       "      <th>home_address</th>\n",
       "      <td>73799</td>\n",
       "      <td>3</td>\n",
       "      <td>2</td>\n",
       "      <td>39956</td>\n",
       "      <td>1.57551</td>\n",
       "      <td>0.527631</td>\n",
       "      <td>1</td>\n",
       "      <td>2</td>\n",
       "      <td>3</td>\n",
       "      <td>&lt;class 'numpy.int64'&gt;</td>\n",
       "      <td>0</td>\n",
       "      <td>73799</td>\n",
       "    </tr>\n",
       "    <tr>\n",
       "      <th>work_address</th>\n",
       "      <td>73799</td>\n",
       "      <td>3</td>\n",
       "      <td>3</td>\n",
       "      <td>44959</td>\n",
       "      <td>2.49628</td>\n",
       "      <td>0.689818</td>\n",
       "      <td>1</td>\n",
       "      <td>3</td>\n",
       "      <td>3</td>\n",
       "      <td>&lt;class 'numpy.int64'&gt;</td>\n",
       "      <td>0</td>\n",
       "      <td>73799</td>\n",
       "    </tr>\n",
       "    <tr>\n",
       "      <th>income</th>\n",
       "      <td>73799</td>\n",
       "      <td>966</td>\n",
       "      <td>30000</td>\n",
       "      <td>7009</td>\n",
       "      <td>41099.8</td>\n",
       "      <td>46166.3</td>\n",
       "      <td>1000</td>\n",
       "      <td>30000</td>\n",
       "      <td>1e+06</td>\n",
       "      <td>&lt;class 'numpy.int64'&gt;</td>\n",
       "      <td>0</td>\n",
       "      <td>73799</td>\n",
       "    </tr>\n",
       "    <tr>\n",
       "      <th>foreign_passport</th>\n",
       "      <td>73799</td>\n",
       "      <td>2</td>\n",
       "      <td>N</td>\n",
       "      <td>62733</td>\n",
       "      <td>NaN</td>\n",
       "      <td>NaN</td>\n",
       "      <td>NaN</td>\n",
       "      <td>NaN</td>\n",
       "      <td>NaN</td>\n",
       "      <td>&lt;class 'str'&gt;</td>\n",
       "      <td>0</td>\n",
       "      <td>73799</td>\n",
       "    </tr>\n",
       "    <tr>\n",
       "      <th>default</th>\n",
       "      <td>73799</td>\n",
       "      <td>2</td>\n",
       "      <td>0</td>\n",
       "      <td>64427</td>\n",
       "      <td>0.126994</td>\n",
       "      <td>0.332968</td>\n",
       "      <td>0</td>\n",
       "      <td>0</td>\n",
       "      <td>1</td>\n",
       "      <td>&lt;class 'numpy.int64'&gt;</td>\n",
       "      <td>0</td>\n",
       "      <td>73799</td>\n",
       "    </tr>\n",
       "  </tbody>\n",
       "</table>\n",
       "</div>"
      ],
      "text/plain": [
       "                  count  unique    top   freq      mean       std   min  \\\n",
       "client_id         73799   73799      1      1     55138   31841.9     1   \n",
       "education         73492       5    SCH  38860       NaN       NaN   NaN   \n",
       "sex               73799       2      F  41562       NaN       NaN   NaN   \n",
       "age               73799      52     31   2727   39.2806   11.5204    21   \n",
       "car               73799       2      N  49832       NaN       NaN   NaN   \n",
       "car_type          73799       2      N  59791       NaN       NaN   NaN   \n",
       "decline_app_cnt   73799      21      0  61214  0.275749  0.804272     0   \n",
       "good_work         73799       2      0  61630  0.164894  0.371087     0   \n",
       "bki_request_cnt   73799      38      0  19381   2.00034   2.25207     0   \n",
       "home_address      73799       3      2  39956   1.57551  0.527631     1   \n",
       "work_address      73799       3      3  44959   2.49628  0.689818     1   \n",
       "income            73799     966  30000   7009   41099.8   46166.3  1000   \n",
       "foreign_passport  73799       2      N  62733       NaN       NaN   NaN   \n",
       "default           73799       2      0  64427  0.126994  0.332968     0   \n",
       "\n",
       "                    50%     max                   type  NaN  not NaN  \n",
       "client_id         55274  110147  <class 'numpy.int64'>    0    73799  \n",
       "education           NaN     NaN          <class 'str'>  307    73492  \n",
       "sex                 NaN     NaN          <class 'str'>    0    73799  \n",
       "age                  37      72  <class 'numpy.int64'>    0    73799  \n",
       "car                 NaN     NaN          <class 'str'>    0    73799  \n",
       "car_type            NaN     NaN          <class 'str'>    0    73799  \n",
       "decline_app_cnt       0      33  <class 'numpy.int64'>    0    73799  \n",
       "good_work             0       1  <class 'numpy.int64'>    0    73799  \n",
       "bki_request_cnt       1      53  <class 'numpy.int64'>    0    73799  \n",
       "home_address          2       3  <class 'numpy.int64'>    0    73799  \n",
       "work_address          3       3  <class 'numpy.int64'>    0    73799  \n",
       "income            30000   1e+06  <class 'numpy.int64'>    0    73799  \n",
       "foreign_passport    NaN     NaN          <class 'str'>    0    73799  \n",
       "default               0       1  <class 'numpy.int64'>    0    73799  "
      ]
     },
     "execution_count": 11,
     "metadata": {},
     "output_type": "execute_result"
    }
   ],
   "source": [
    "df_describe(data)"
   ]
  },
  {
   "cell_type": "markdown",
   "metadata": {},
   "source": [
    "Как видиим 9 признаков представлены числовым типом данных, 5 строковыми величинами. Из этих 5 \"строковых\" признаков 4 признака бинарных, один категориальный(5 категорий). В числовых признаках 5 признаков разумно отнести к численным (количество уникальных значений от 21 до 73799), два признака являются категориальными(в каждом 3 категории) и 2 признака бинарные.  \n",
    "\n",
    "Пропуски встречаются только в одном признаке `education`. Их количество не велико и составляет менее 0,5% от количества наблюдений.  \n",
    "\n",
    "Сравнивая количество уникальных значений **unique** и частоту  наиболее часто встречающейся категории **freq** можно заметь несбалансированность признаков по категориям. В `foreign_passport` `good_work` `decline_app_cnt` и `default` доля мажоритарной категории составляет около 6/7. Такой дисбаланс, особенно в целевой переменной `default` может создать проблемы при обучении модели. Нам придется предпринимать меры для устранения несбалансированности.\n",
    "\n",
    "Посмотрим на сами данные"
   ]
  },
  {
   "cell_type": "code",
   "execution_count": 12,
   "metadata": {},
   "outputs": [
    {
     "data": {
      "text/html": [
       "<div>\n",
       "<style scoped>\n",
       "    .dataframe tbody tr th:only-of-type {\n",
       "        vertical-align: middle;\n",
       "    }\n",
       "\n",
       "    .dataframe tbody tr th {\n",
       "        vertical-align: top;\n",
       "    }\n",
       "\n",
       "    .dataframe thead th {\n",
       "        text-align: right;\n",
       "    }\n",
       "</style>\n",
       "<table border=\"1\" class=\"dataframe\">\n",
       "  <thead>\n",
       "    <tr style=\"text-align: right;\">\n",
       "      <th></th>\n",
       "      <th>client_id</th>\n",
       "      <th>education</th>\n",
       "      <th>sex</th>\n",
       "      <th>age</th>\n",
       "      <th>car</th>\n",
       "      <th>car_type</th>\n",
       "      <th>decline_app_cnt</th>\n",
       "      <th>good_work</th>\n",
       "      <th>bki_request_cnt</th>\n",
       "      <th>home_address</th>\n",
       "      <th>work_address</th>\n",
       "      <th>income</th>\n",
       "      <th>foreign_passport</th>\n",
       "      <th>default</th>\n",
       "    </tr>\n",
       "  </thead>\n",
       "  <tbody>\n",
       "    <tr>\n",
       "      <th>0</th>\n",
       "      <td>25905</td>\n",
       "      <td>SCH</td>\n",
       "      <td>M</td>\n",
       "      <td>62</td>\n",
       "      <td>Y</td>\n",
       "      <td>Y</td>\n",
       "      <td>0</td>\n",
       "      <td>0</td>\n",
       "      <td>1</td>\n",
       "      <td>1</td>\n",
       "      <td>2</td>\n",
       "      <td>18000</td>\n",
       "      <td>N</td>\n",
       "      <td>0</td>\n",
       "    </tr>\n",
       "    <tr>\n",
       "      <th>1</th>\n",
       "      <td>63161</td>\n",
       "      <td>SCH</td>\n",
       "      <td>F</td>\n",
       "      <td>59</td>\n",
       "      <td>N</td>\n",
       "      <td>N</td>\n",
       "      <td>0</td>\n",
       "      <td>0</td>\n",
       "      <td>3</td>\n",
       "      <td>2</td>\n",
       "      <td>3</td>\n",
       "      <td>19000</td>\n",
       "      <td>N</td>\n",
       "      <td>0</td>\n",
       "    </tr>\n",
       "    <tr>\n",
       "      <th>2</th>\n",
       "      <td>25887</td>\n",
       "      <td>SCH</td>\n",
       "      <td>M</td>\n",
       "      <td>25</td>\n",
       "      <td>Y</td>\n",
       "      <td>N</td>\n",
       "      <td>2</td>\n",
       "      <td>0</td>\n",
       "      <td>1</td>\n",
       "      <td>1</td>\n",
       "      <td>2</td>\n",
       "      <td>30000</td>\n",
       "      <td>Y</td>\n",
       "      <td>0</td>\n",
       "    </tr>\n",
       "  </tbody>\n",
       "</table>\n",
       "</div>"
      ],
      "text/plain": [
       "   client_id education sex  age car car_type  decline_app_cnt  good_work  \\\n",
       "0      25905       SCH   M   62   Y        Y                0          0   \n",
       "1      63161       SCH   F   59   N        N                0          0   \n",
       "2      25887       SCH   M   25   Y        N                2          0   \n",
       "\n",
       "   bki_request_cnt  home_address  work_address  income foreign_passport  \\\n",
       "0                1             1             2   18000                N   \n",
       "1                3             2             3   19000                N   \n",
       "2                1             1             2   30000                Y   \n",
       "\n",
       "   default  \n",
       "0        0  \n",
       "1        0  \n",
       "2        0  "
      ]
     },
     "execution_count": 12,
     "metadata": {},
     "output_type": "execute_result"
    }
   ],
   "source": [
    "data.head(3)"
   ]
  },
  {
   "cell_type": "markdown",
   "metadata": {},
   "source": [
    "Разделим признаки на количественные `num_cols` , категориальные `cat_cols` и бинарные `bin_cols`.     \n",
    "К бинарным, очевидно, отнесем признаки с двумя уникальными значениями.   \n",
    "Категориальными признаками будем считать признаки с количеством уникальных значений от 3 до 9  \n",
    "Порогом для количественного признака будет наличие более чем 10 уникальных значений. "
   ]
  },
  {
   "cell_type": "code",
   "execution_count": 13,
   "metadata": {},
   "outputs": [],
   "source": [
    "num_uniq = data.nunique()\n",
    "bin_cols = data.columns[num_uniq==2]\n",
    "cat_cols = data.columns[(num_uniq>2) & (num_uniq<10)] \n",
    "num_cols = data.columns[num_uniq>=10]"
   ]
  },
  {
   "cell_type": "markdown",
   "metadata": {},
   "source": [
    "# Работа с предоставленными данными\n",
    "Сначала рассмотрим существующие признаки, разделив их по типам.  \n",
    "Выберем способы предобработки, извлечем по возможности из существующих признаков информацию для создания новых.  \n",
    "Затем предобработаем существующие признаки согласно выбранным способам.\n",
    "После этого создадим новые, при необходимости предобработаем и их тоже.\n",
    "## Числовые признаки\n",
    "Начнем с общего обзора, потом перейдем к каждому признаку в отдельности. Отмечу, что из рассмотрения не исключен казалось бы неинформативный признак `client_id` - поскольку признаков совсем немного, попробуем и из идентификатора извлечь информацию, а именно предположим что идентификатор отражает хронологический порядок занесения клиента в базу. Если такое предположение верно - признак окажется полезным при анализе, создании новых признаков и обучении модели."
   ]
  },
  {
   "cell_type": "code",
   "execution_count": 14,
   "metadata": {},
   "outputs": [
    {
     "name": "stdout",
     "output_type": "stream",
     "text": [
      "Всего числовых признаков 5. К ним относятся: \u001b[1mclient_id\u001b[0m, \u001b[1mage\u001b[0m, \u001b[1mdecline_app_cnt\u001b[0m, \u001b[1mbki_request_cnt\u001b[0m, \u001b[1mincome\u001b[0m\n"
     ]
    },
    {
     "data": {
      "image/png": "[encoded data removed]",
      "text/plain": [
       "<Figure size 1152x360 with 10 Axes>"
      ]
     },
     "metadata": {},
     "output_type": "display_data"
    }
   ],
   "source": [
    "nums_visualisation(data[num_cols], annotation=True)"
   ]
  },
  {
   "cell_type": "markdown",
   "metadata": {},
   "source": [
    "Как видим, кроме признака `client_id` числовые признаки имеют сильно скошенное вправо распределение. Такая ассиметрия будет мешать линейной модели. Применим логарифмирование: "
   ]
  },
  {
   "cell_type": "code",
   "execution_count": 15,
   "metadata": {},
   "outputs": [
    {
     "data": {
      "image/png": "[encoded data removed]",
      "text/plain": [
       "<Figure size 1152x360 with 8 Axes>"
      ]
     },
     "metadata": {},
     "output_type": "display_data"
    }
   ],
   "source": [
    "nums_visualisation(np.log(data[num_cols.drop('client_id')]+1))"
   ]
  },
  {
   "cell_type": "markdown",
   "metadata": {},
   "source": [
    "Ситуация улучшилась: логарифмированные `age` и `income` рапсределены похоже на нормально, а в `decline_app_cnt` и `bki_request_cnt` скошенность, судя по boxplot-ам существенно уменьшилась.\n",
    "\n",
    "Рассмотрим теперь числовые признаки по отдельности. Логарифмируемые признаки будем анализировать сразу с учетом преобразования."
   ]
  },
  {
   "cell_type": "markdown",
   "metadata": {},
   "source": [
    "### Age\n",
    "\n",
    "Посмториим на распределения отдельно для позитивного и негативного класса целевоцй переменной."
   ]
  },
  {
   "cell_type": "code",
   "execution_count": 16,
   "metadata": {},
   "outputs": [
    {
     "data": {
      "image/png": "[encoded data removed]",
      "text/plain": [
       "<Figure size 1080x360 with 2 Axes>"
      ]
     },
     "metadata": {},
     "output_type": "display_data"
    }
   ],
   "source": [
    "num_visualisation(np.log(data.age+1),data.default)"
   ]
  },
  {
   "cell_type": "markdown",
   "metadata": {},
   "source": [
    "Дефолтные\n",
    "\n",
    "### decline_app_cnt"
   ]
  },
  {
   "cell_type": "code",
   "execution_count": 17,
   "metadata": {},
   "outputs": [
    {
     "data": {
      "image/png": "[encoded data removed]",
      "text/plain": [
       "<Figure size 1080x360 with 2 Axes>"
      ]
     },
     "metadata": {},
     "output_type": "display_data"
    }
   ],
   "source": [
    "num_visualisation(np.log(data.decline_app_cnt+1),data.default)"
   ]
  },
  {
   "cell_type": "markdown",
   "metadata": {},
   "source": [
    "### bki_request_cnt"
   ]
  },
  {
   "cell_type": "code",
   "execution_count": 18,
   "metadata": {},
   "outputs": [
    {
     "data": {
      "image/png": "[encoded data removed]",
      "text/plain": [
       "<Figure size 1080x360 with 2 Axes>"
      ]
     },
     "metadata": {},
     "output_type": "display_data"
    }
   ],
   "source": [
    "num_visualisation(np.log(data.bki_request_cnt+1),data.default)"
   ]
  },
  {
   "cell_type": "markdown",
   "metadata": {},
   "source": [
    "Распределение Пуассона?"
   ]
  },
  {
   "cell_type": "markdown",
   "metadata": {},
   "source": [
    "### income"
   ]
  },
  {
   "cell_type": "code",
   "execution_count": 19,
   "metadata": {},
   "outputs": [
    {
     "data": {
      "image/png": "[encoded data removed]",
      "text/plain": [
       "<Figure size 1080x360 with 2 Axes>"
      ]
     },
     "metadata": {},
     "output_type": "display_data"
    }
   ],
   "source": [
    "num_visualisation(np.log(data.income+1),data.default)"
   ]
  },
  {
   "cell_type": "markdown",
   "metadata": {},
   "source": [
    "### client_id"
   ]
  },
  {
   "cell_type": "code",
   "execution_count": 20,
   "metadata": {},
   "outputs": [
    {
     "data": {
      "image/png": "[encoded data removed]",
      "text/plain": [
       "<Figure size 1080x360 with 2 Axes>"
      ]
     },
     "metadata": {},
     "output_type": "display_data"
    }
   ],
   "source": [
    "num_visualisation(data.client_id,data.default)"
   ]
  },
  {
   "cell_type": "code",
   "execution_count": null,
   "metadata": {},
   "outputs": [],
   "source": []
  },
  {
   "cell_type": "code",
   "execution_count": null,
   "metadata": {},
   "outputs": [],
   "source": []
  },
  {
   "cell_type": "code",
   "execution_count": null,
   "metadata": {},
   "outputs": [],
   "source": []
  },
  {
   "cell_type": "markdown",
   "metadata": {},
   "source": [
    "## Категориальные признаки"
   ]
  },
  {
   "cell_type": "code",
   "execution_count": 37,
   "metadata": {},
   "outputs": [
    {
     "name": "stdout",
     "output_type": "stream",
     "text": [
      "Всего категориальных  признаков 3. К ним относятся: \u001b[1meducation\u001b[0m, \u001b[1mhome_address\u001b[0m, \u001b[1mwork_address\u001b[0m\n"
     ]
    },
    {
     "data": {
      "image/png": "[encoded data removed]",
      "text/plain": [
       "<Figure size 1152x360 with 3 Axes>"
      ]
     },
     "metadata": {},
     "output_type": "display_data"
    }
   ],
   "source": [
    "cat_vosualisation(data[cat_cols]) "
   ]
  },
  {
   "cell_type": "markdown",
   "metadata": {},
   "source": [
    "Тут текст"
   ]
  },
  {
   "cell_type": "code",
   "execution_count": null,
   "metadata": {},
   "outputs": [],
   "source": [
    "def cat_vosualisation(df):"
   ]
  },
  {
   "cell_type": "code",
   "execution_count": null,
   "metadata": {},
   "outputs": [],
   "source": []
  },
  {
   "cell_type": "code",
   "execution_count": 125,
   "metadata": {
    "scrolled": false
   },
   "outputs": [
    {
     "name": "stdout",
     "output_type": "stream",
     "text": [
      "Всего категориальных  признаков 3. К ним относятся: \u001b[1meducation\u001b[0m, \u001b[1mhome_address\u001b[0m, \u001b[1mwork_address\u001b[0m\n"
     ]
    },
    {
     "data": {
      "image/png": "[encoded data removed]",
      "text/plain": [
       "<Figure size 1152x360 with 3 Axes>"
      ]
     },
     "metadata": {},
     "output_type": "display_data"
    }
   ],
   "source": [
    "df=data[cat_cols]\n",
    "\n",
    "if 1:\n",
    "    columns = df.columns\n",
    "    cols_num = df.shape[1]\n",
    "    \n",
    "    fstr = '\\033[1m{}\\033[0m, '* (len(columns)-1) + '\\033[1m{}\\033[0m'\n",
    "    print(('Всего категориальных  признаков {}. К ним относятся: ' + fstr).format(len(columns),*columns))\n",
    "    \n",
    "    indent = 0.05\n",
    "    fig = plt.figure(figsize=(16,5))\n",
    "    for i,col in enumerate(columns):\n",
    "        row = df[col]\n",
    "        bins = row.nunique()\n",
    "        \n",
    "        plt.subplot(1,3,i+1)\n",
    "        plt.title(col)\n",
    "        plt.hist([data[col][data.default==1].dropna(),data[col][data.default==0].dropna()],\n",
    "                 density = True, rwidth=None, bins=bins); #align = 'mid'  'left', 'mid', 'right'\n",
    "        \n"
   ]
  },
  {
   "cell_type": "code",
   "execution_count": null,
   "metadata": {},
   "outputs": [],
   "source": []
  },
  {
   "cell_type": "code",
   "execution_count": null,
   "metadata": {},
   "outputs": [],
   "source": []
  },
  {
   "cell_type": "code",
   "execution_count": 112,
   "metadata": {},
   "outputs": [
    {
     "data": {
      "text/plain": [
       "<matplotlib.axes._subplots.AxesSubplot at 0x10568278>"
      ]
     },
     "execution_count": 112,
     "metadata": {},
     "output_type": "execute_result"
    },
    {
     "data": {
      "image/png": "[encoded data removed]",
      "text/plain": [
       "<Figure size 432x288 with 1 Axes>"
      ]
     },
     "metadata": {},
     "output_type": "display_data"
    }
   ],
   "source": [
    "sns.countplot(x='education' ,data=data,hue='default')"
   ]
  },
  {
   "cell_type": "code",
   "execution_count": null,
   "metadata": {},
   "outputs": [],
   "source": []
  },
  {
   "cell_type": "code",
   "execution_count": null,
   "metadata": {},
   "outputs": [],
   "source": []
  },
  {
   "cell_type": "code",
   "execution_count": null,
   "metadata": {},
   "outputs": [],
   "source": []
  },
  {
   "cell_type": "code",
   "execution_count": 81,
   "metadata": {},
   "outputs": [
    {
     "data": {
      "image/png": "[encoded data removed]",
      "text/plain": [
       "<Figure size 432x288 with 1 Axes>"
      ]
     },
     "metadata": {},
     "output_type": "display_data"
    }
   ],
   "source": [
    "plt.hist([data.home_address[data.default==1].dropna(),\n",
    "          data.home_address[data.default==0].dropna()],\n",
    "         density = True, rwidth = 0.8, bins=5);"
   ]
  },
  {
   "cell_type": "code",
   "execution_count": null,
   "metadata": {},
   "outputs": [],
   "source": []
  },
  {
   "cell_type": "code",
   "execution_count": null,
   "metadata": {},
   "outputs": [],
   "source": []
  },
  {
   "cell_type": "code",
   "execution_count": null,
   "metadata": {},
   "outputs": [],
   "source": []
  },
  {
   "cell_type": "code",
   "execution_count": null,
   "metadata": {},
   "outputs": [],
   "source": []
  },
  {
   "cell_type": "markdown",
   "metadata": {},
   "source": [
    "## Бинарные признаки"
   ]
  },
  {
   "cell_type": "code",
   "execution_count": 19,
   "metadata": {},
   "outputs": [
    {
     "data": {
      "text/plain": [
       "Index(['sex', 'car', 'car_type', 'good_work', 'foreign_passport', 'default'], dtype='object')"
      ]
     },
     "execution_count": 19,
     "metadata": {},
     "output_type": "execute_result"
    }
   ],
   "source": [
    "bin_cols"
   ]
  },
  {
   "cell_type": "code",
   "execution_count": 23,
   "metadata": {},
   "outputs": [
    {
     "data": {
      "text/plain": [
       "<matplotlib.axes._subplots.AxesSubplot at 0x2073e7daac8>"
      ]
     },
     "execution_count": 23,
     "metadata": {},
     "output_type": "execute_result"
    },
    {
     "data": {
      "image/png": "[encoded data removed]",
      "text/plain": [
       "<Figure size 432x288 with 1 Axes>"
      ]
     },
     "metadata": {
      "needs_background": "light"
     },
     "output_type": "display_data"
    }
   ],
   "source": [
    "data.sex.hist()"
   ]
  },
  {
   "cell_type": "code",
   "execution_count": null,
   "metadata": {},
   "outputs": [],
   "source": []
  },
  {
   "cell_type": "code",
   "execution_count": null,
   "metadata": {},
   "outputs": [],
   "source": []
  },
  {
   "cell_type": "code",
   "execution_count": null,
   "metadata": {},
   "outputs": [],
   "source": []
  },
  {
   "cell_type": "code",
   "execution_count": null,
   "metadata": {},
   "outputs": [],
   "source": []
  },
  {
   "cell_type": "code",
   "execution_count": null,
   "metadata": {},
   "outputs": [],
   "source": []
  },
  {
   "cell_type": "markdown",
   "metadata": {},
   "source": [
    "## ПОДВАЛ\n"
   ]
  },
  {
   "cell_type": "code",
   "execution_count": null,
   "metadata": {},
   "outputs": [],
   "source": [
    "def num_visualisation(row):\n",
    "    min_diff = pd.Series(row.unique()).sort_values().diff().min()\n",
    "    bins = min(int((row.max()-row.min()) / min_diff),100)\n",
    "    bins_range = row.min()-min_diff/2 ,row.max()+min_diff/2 \n",
    "\n",
    "    fig = plt.figure()\n",
    "    \n",
    "    ax1 = fig.add_axes([0, 0.35, 1, 1])\n",
    "    row.plot.hist(bins=bins,density=True,alpha = 0.5)\n",
    "    \n",
    "    ax2 = fig.add_axes([0, 0, 1, 0.2]) \n",
    "    ax1.get_shared_x_axes().join(ax1, ax2)\n",
    "    sns.boxplot(x=row)\n",
    "    \n",
    "    plt.tight_layout()    "
   ]
  },
  {
   "cell_type": "code",
   "execution_count": null,
   "metadata": {},
   "outputs": [],
   "source": []
  },
  {
   "cell_type": "code",
   "execution_count": null,
   "metadata": {},
   "outputs": [],
   "source": []
  },
  {
   "cell_type": "code",
   "execution_count": null,
   "metadata": {},
   "outputs": [],
   "source": []
  },
  {
   "cell_type": "code",
   "execution_count": null,
   "metadata": {},
   "outputs": [],
   "source": []
  },
  {
   "cell_type": "code",
   "execution_count": null,
   "metadata": {},
   "outputs": [],
   "source": []
  },
  {
   "cell_type": "code",
   "execution_count": null,
   "metadata": {},
   "outputs": [],
   "source": []
  },
  {
   "cell_type": "code",
   "execution_count": null,
   "metadata": {},
   "outputs": [],
   "source": []
  },
  {
   "cell_type": "code",
   "execution_count": null,
   "metadata": {},
   "outputs": [],
   "source": []
  },
  {
   "cell_type": "code",
   "execution_count": null,
   "metadata": {},
   "outputs": [],
   "source": []
  }
 ],
 "metadata": {
  "kernelspec": {
   "display_name": "Python 3",
   "language": "python",
   "name": "python3"
  },
  "language_info": {
   "codemirror_mode": {
    "name": "ipython",
    "version": 3
   },
   "file_extension": ".py",
   "mimetype": "text/x-python",
   "name": "python",
   "nbconvert_exporter": "python",
   "pygments_lexer": "ipython3",
   "version": "3.6.5"
  }
 },
 "nbformat": 4,
 "nbformat_minor": 2
}
