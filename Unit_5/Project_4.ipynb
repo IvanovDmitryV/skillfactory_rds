{
 "cells": [
  {
   "cell_type": "markdown",
   "metadata": {},
   "source": [
    "# Описание задачи\n",
    "## В задачи пректа входит:\n",
    "- Обработка предоставленных данных: нахождение и заполнение пропусков, кодировка, нормализация признаков;\n",
    "- Создание новых признаков с использованием предоставленных данных;\n",
    "- Отбор признаков;\n",
    "- Обучение и тестирование модели на полученных признаках;\n",
    "- Оптимизация размера набора данных и подбор макропараметров модели на оптимизированном наборе;\n",
    "- Получение предсказанных моделью значений, подготовка и отправка submission\n",
    "\n",
    "## Описание датасета\n",
    "Первоначальная версия датасета состоит из 14-ти столбцов, содержащих следующую информацию:\n",
    "\n",
    "- **client_id** - идентификатор клиента\n",
    "- **education** - уровень образования\n",
    "- **sex** - пол заёмщика\n",
    "- **age** - возраст заёмщика\n",
    "- **car** - флаг наличия автомобиля\n",
    "- **car**_type\tфлаг - автомобиля-иномарки\n",
    "- **decline_app_cnt** - количество отказанных прошлых заявок\n",
    "- **good_work** - флаг наличия «хорошей» работы\n",
    "- **bki_request_cnt** - количество запросов в БКИ\n",
    "- **home_address** - категоризатор домашнего адреса\n",
    "- **work_address** - категоризатор рабочего адреса\n",
    "- **income** - доход заёмщика\n",
    "- **foreign_passport** - наличие загранпаспорта\n",
    "- **default** - наличие дефолта (целевая переменная)"
   ]
  },
  {
   "cell_type": "markdown",
   "metadata": {},
   "source": [
    "# Импорт библиотек, установка параметров, определение функций"
   ]
  },
  {
   "cell_type": "code",
   "execution_count": 1,
   "metadata": {},
   "outputs": [],
   "source": [
    "import pandas as pd\n",
    "import numpy as np\n",
    "\n",
    "import matplotlib.pyplot as plt\n",
    "import seaborn as sns\n",
    "\n",
    "from sklearn.feature_selection import f_classif, mutual_info_classif\n",
    "from sklearn.preprocessing import LabelEncoder, OneHotEncoder, StandardScaler, MinMaxScaler\n",
    "\n",
    "from sklearn.model_selection import train_test_split, cross_validate, learning_curve\n",
    "from sklearn.model_selection import StratifiedKFold\n",
    "from sklearn.model_selection import RandomizedSearchCV, GridSearchCV\n",
    "from sklearn.linear_model import LogisticRegression\n",
    "\n",
    "from sklearn.metrics import confusion_matrix\n",
    "from sklearn.metrics import auc, roc_auc_score, roc_curve\n",
    "\n",
    "import warnings\n",
    "warnings.filterwarnings(\"ignore\")\n",
    "\n",
    "import os"
   ]
  },
  {
   "cell_type": "code",
   "execution_count": 2,
   "metadata": {},
   "outputs": [],
   "source": [
    "# функции используемые в ноутбуке\n",
    "def df_describe(df):\n",
    "    desc = df.describe(include='all',percentiles=[0.5]).T\n",
    "    desc['type'] = [type(x) for x in df.iloc[0]]\n",
    "    desc['NaN'] = df.isna().sum()\n",
    "    desc.unique = df.nunique()\n",
    "    desc.top = df.mode(axis=0).iloc[0]\n",
    "    desc.freq = [df[col].value_counts().iloc[0] for col in  df.columns]\n",
    "    return desc\n",
    "\n",
    "def nums_visualisation(df,annotation=False):\n",
    "    columns = df.columns\n",
    "    cols_num = df.shape[1]\n",
    "    \n",
    "    fstr = '\\033[1m{}\\033[0m, '* (len(columns)-1) + '\\033[1m{}\\033[0m'\n",
    "    if annotation: print(('Всего признаков этого типа {}. К ним относятся: ' + fstr).format(len(columns),*columns))\n",
    "\n",
    "    indent = 0.05\n",
    "    fig = plt.figure(figsize=(16,5))\n",
    "    for i,col in enumerate(columns):\n",
    "        row = df[col]\n",
    "        min_diff = pd.Series(row.unique()).sort_values().diff().min()\n",
    "        bins = min(int((row.max()-row.min()) / min_diff),100)\n",
    "        \n",
    "        fig.add_axes([1/cols_num*i, 0.35, 1/cols_num-indent, 1])\n",
    "        plt.title(col)\n",
    "        row.plot.hist(bins=bins,density=True)\n",
    "    \n",
    "        fig.add_axes([1/cols_num*i, 0, 1/cols_num-indent, 0.2])\n",
    "        sns.boxplot(x=row)\n",
    "\n",
    "    plt.tight_layout()\n",
    "\n",
    "def num_visualisation(row,hue): \n",
    "    row1 = row[hue==0]\n",
    "    row2 = row[hue==1]\n",
    "    \n",
    "    min_diff = pd.Series(row.unique()).sort_values().diff().min()\n",
    "    bins = min(int((row.max()-row.min()) / min_diff),100)\n",
    "    bins_range = row.min()-min_diff/2 ,row.max()+min_diff/2 \n",
    "\n",
    "    fig = plt.figure(figsize=(15,5))\n",
    "    \n",
    "    ax1 = fig.add_axes([0, 0.4, 1, 1])\n",
    "    row1.plot.hist(bins=bins,density=True,alpha = 0.65)\n",
    "    row2.plot.hist(bins=bins,density=True,alpha = 0.65)\n",
    "    plt.legend(['negative','positive'])\n",
    "    \n",
    "    ax2 = fig.add_axes([0, 0, 1, 0.30]) \n",
    "    ax1.get_shared_x_axes().join(ax1, ax2)\n",
    "    sns.boxplot(data = [row1,row2],orient='h',saturation = 0.5)\n",
    "\n",
    "    \n",
    "def cats_visualisation(df):\n",
    "    columns = df.columns\n",
    "    cols_num = df.shape[1]\n",
    "    \n",
    "    fstr = '\\033[1m{}\\033[0m, '* (len(columns)-1) + '\\033[1m{}\\033[0m'\n",
    "    print(('Всего признаков этого типа {}. К ним относятся: ' + fstr).format(len(columns),*columns))\n",
    "    \n",
    "    indent = 0.05\n",
    "    fig = plt.figure(figsize=(16,5))\n",
    "    for i,col in enumerate(columns):\n",
    "        row = df[col]\n",
    "        bins = df.shape[1]\n",
    "        \n",
    "        fig.add_axes([1/cols_num*i, 0, 1/cols_num-indent, 1])\n",
    "        plt.title(col)\n",
    "        sns.countplot(data[col])\n",
    "    \n",
    "def cat_visualisation(row):\n",
    "    feat_name = row.name\n",
    "    fig, axes = plt.subplots(1,2,figsize = (14,5))\n",
    "    \n",
    "    hue = data.default\n",
    "    \n",
    "    dist_1 = pd.DataFrame({'neg':row[hue==0].value_counts(normalize=True),\n",
    "                           'pos':row[hue==1].value_counts(normalize=True)})\n",
    "    ind = dist_1.index\n",
    "    dist_2 = pd.DataFrame({'neg':data.groupby(feat_name).default.value_counts(normalize=True)[:,0],\n",
    "                           'pos':data.groupby(feat_name).default.value_counts(normalize=True)[:,1]}).loc[ind]\n",
    "    \n",
    "    display(dist_2.T)\n",
    "    dist_1.plot.bar(title = 'Распределение категорий '+ feat_name + '\\n при разных значениях default',ax = axes[0])\n",
    "    dist_2.plot.bar(title = 'Распределение default в каждой категории '+ feat_name,ax = axes[1],stacked=True)\n",
    "    plt.legend(loc = 4)\n",
    "    \n",
    "def pre_process(df):\n",
    "    label_encoder = LabelEncoder()\n",
    "    scaler = MinMaxScaler()\n",
    "        # scaler = StandardScaler()    \n",
    "    \n",
    "    num_uniq = df.nunique()\n",
    "    bin_cols = df.columns[num_uniq==2]\n",
    "    cat_cols = df.columns[(num_uniq>2) & (num_uniq<10)] \n",
    "    num_cols = df.columns[num_uniq>=10]\n",
    "    \n",
    "    # заполнение пропусков\n",
    "    df.education.fillna(df.education.mode()[0],inplace=True)\n",
    "    \n",
    "    # обработка численных признаков\n",
    "    for col in num_cols:\n",
    "        df[col] = np.log(df[col]+1)\n",
    "        \n",
    "    df[num_cols] = scaler.fit_transform(df[num_cols].values)\n",
    "    \n",
    "    # обработка категориальных признаков\n",
    "    df = pd.get_dummies(df,columns=cat_cols)\n",
    "    \n",
    "    # отбработка бинарных признаков\n",
    "    for col in bin_cols:\n",
    "        df[col] = label_encoder.fit_transform(df[col])\n",
    "        \n",
    "    return df\n",
    "\n",
    "def validation(X,y,model):\n",
    "    model = model\n",
    "    cv_results = cross_validate(model, X, y, scoring='roc_auc', cv=10,)\n",
    "    return cv_results['test_score'].mean()"
   ]
  },
  {
   "cell_type": "code",
   "execution_count": 3,
   "metadata": {},
   "outputs": [
    {
     "name": "stdout",
     "output_type": "stream",
     "text": [
      "Populating the interactive namespace from numpy and matplotlib\n"
     ]
    }
   ],
   "source": [
    "# установка параметров\n",
    "%pylab inline\n",
    "\n",
    "pd.set_option('display.max_rows', 50) # выведем больше строк\n",
    "pd.set_option('display.max_columns', 30) # выведем больше колонок\n",
    "\n",
    "# альтернативные пути на kaggle и локальный (НЕ ЗАБЫВАТЬ МЕНЯТЬ!)\n",
    "path = './Project_4_data/'\n",
    "# path = '/kaggle/input/'\n",
    "\n",
    "RANDOM_SEED = 42\n",
    "model = LogisticRegression()\n",
    "\n",
    "solvers_hyperparameters = {\n",
    "    'newton-cg': {'penalty': ['l2'] , \n",
    "#                   'dual':['False']  , \n",
    "                  'tol': logspace(-8,-3,6) ,\n",
    "                  'C': logspace(-3, 3, 7) , \n",
    "                  'class_weight':  [{0:1, 1:x} for x in range(1,13,3)] ,\n",
    "                  'max_iter': [100,300,600] \n",
    "                 }, \n",
    "    'lbfgs':     {'penalty': ['l2'] , \n",
    "#                   'dual':['False']  , \n",
    "                  'tol': logspace(-8,-3,6) ,\n",
    "                  'C': logspace(-3, 3, 7) , \n",
    "                 'class_weight':  [{0:1, 1:x} for x in range(1,13,3)] ,\n",
    "                  'max_iter': [100,300,600] \n",
    "                 }, \n",
    "    'liblinear': {'penalty': ['l1', 'l2'] , \n",
    "#                   'dual':['False','True']  , # True актуально только для l2 регуляризации\n",
    "                  'tol': logspace(-8,-3,6) ,\n",
    "                  'C': logspace(-3, 3, 7) , \n",
    "                  'intercept_scaling': [1,3,10,33,100],  \n",
    "                 'class_weight':  [{0:1, 1:x} for x in range(1,13,3)] \n",
    "                 },\n",
    "    'sag':       {'penalty': ['l2'] , \n",
    "#                   'dual':['False']  , \n",
    "                  'tol': logspace(-8,-3,6) ,\n",
    "                  'C': logspace(-3, 3, 7) , \n",
    "                 'class_weight':  [{0:1, 1:x} for x in range(1,13,3)] ,\n",
    "                  'max_iter': [100,300,600] \n",
    "                 }, \n",
    "    'saga':      {'penalty': ['l1', 'l2'] , \n",
    "#                   'dual':['False']  , \n",
    "                  'tol': logspace(-8,-3,6) ,\n",
    "                  'C': logspace(-3, 3, 7) , \n",
    "                 'class_weight':  [{0:1, 1:x} for x in range(1,13,3)] \n",
    "                 }\n",
    "}"
   ]
  },
  {
   "cell_type": "code",
   "execution_count": 4,
   "metadata": {},
   "outputs": [
    {
     "name": "stdout",
     "output_type": "stream",
     "text": [
      "./Project_4_data/train.csv\n"
     ]
    }
   ],
   "source": [
    "# проверка пути и имен файлов\n",
    "for dirname, _, filenames in os.walk(path):\n",
    "    for filename in filenames:\n",
    "        print(os.path.join(dirname, filename))"
   ]
  },
  {
   "cell_type": "markdown",
   "metadata": {},
   "source": [
    "# Ознакомление с данными"
   ]
  },
  {
   "cell_type": "code",
   "execution_count": 5,
   "metadata": {},
   "outputs": [],
   "source": [
    "# чтение данных\n",
    "\n",
    "# df_train = pd.read_csv(f'{path}main_task.csv')\n",
    "# df_test = pd.read_csv(f'{path}kaggle_task.csv')\n",
    "# sample_submission = pd.read_csv(f'{path}sample_submission.csv')\n",
    "\n",
    "data = pd.read_csv(f'{path}train.csv')"
   ]
  },
  {
   "cell_type": "markdown",
   "metadata": {},
   "source": [
    "Проверим наличие дупликатов в данных"
   ]
  },
  {
   "cell_type": "code",
   "execution_count": 6,
   "metadata": {},
   "outputs": [
    {
     "data": {
      "text/plain": [
       "0"
      ]
     },
     "execution_count": 6,
     "metadata": {},
     "output_type": "execute_result"
    }
   ],
   "source": [
    "data.duplicated().sum()"
   ]
  },
  {
   "cell_type": "markdown",
   "metadata": {},
   "source": [
    "Посмотрим на краткую сводку и простую статистику о наборе данных."
   ]
  },
  {
   "cell_type": "code",
   "execution_count": 7,
   "metadata": {},
   "outputs": [
    {
     "name": "stdout",
     "output_type": "stream",
     "text": [
      "<class 'pandas.core.frame.DataFrame'>\n",
      "RangeIndex: 73799 entries, 0 to 73798\n",
      "Columns: 14 entries, client_id to default\n",
      "dtypes: int64(9), object(5)\n",
      "memory usage: 7.9+ MB\n"
     ]
    }
   ],
   "source": [
    "data.info(verbose=False)"
   ]
  },
  {
   "cell_type": "code",
   "execution_count": 8,
   "metadata": {},
   "outputs": [
    {
     "data": {
      "text/html": [
       "<div>\n",
       "<style scoped>\n",
       "    .dataframe tbody tr th:only-of-type {\n",
       "        vertical-align: middle;\n",
       "    }\n",
       "\n",
       "    .dataframe tbody tr th {\n",
       "        vertical-align: top;\n",
       "    }\n",
       "\n",
       "    .dataframe thead th {\n",
       "        text-align: right;\n",
       "    }\n",
       "</style>\n",
       "<table border=\"1\" class=\"dataframe\">\n",
       "  <thead>\n",
       "    <tr style=\"text-align: right;\">\n",
       "      <th></th>\n",
       "      <th>count</th>\n",
       "      <th>unique</th>\n",
       "      <th>top</th>\n",
       "      <th>freq</th>\n",
       "      <th>mean</th>\n",
       "      <th>std</th>\n",
       "      <th>min</th>\n",
       "      <th>50%</th>\n",
       "      <th>max</th>\n",
       "      <th>type</th>\n",
       "      <th>NaN</th>\n",
       "    </tr>\n",
       "  </thead>\n",
       "  <tbody>\n",
       "    <tr>\n",
       "      <th>client_id</th>\n",
       "      <td>73799</td>\n",
       "      <td>73799</td>\n",
       "      <td>1</td>\n",
       "      <td>1</td>\n",
       "      <td>55138</td>\n",
       "      <td>31841.9</td>\n",
       "      <td>1</td>\n",
       "      <td>55274</td>\n",
       "      <td>110147</td>\n",
       "      <td>&lt;class 'numpy.int64'&gt;</td>\n",
       "      <td>0</td>\n",
       "    </tr>\n",
       "    <tr>\n",
       "      <th>education</th>\n",
       "      <td>73492</td>\n",
       "      <td>5</td>\n",
       "      <td>SCH</td>\n",
       "      <td>38860</td>\n",
       "      <td>NaN</td>\n",
       "      <td>NaN</td>\n",
       "      <td>NaN</td>\n",
       "      <td>NaN</td>\n",
       "      <td>NaN</td>\n",
       "      <td>&lt;class 'str'&gt;</td>\n",
       "      <td>307</td>\n",
       "    </tr>\n",
       "    <tr>\n",
       "      <th>sex</th>\n",
       "      <td>73799</td>\n",
       "      <td>2</td>\n",
       "      <td>F</td>\n",
       "      <td>41562</td>\n",
       "      <td>NaN</td>\n",
       "      <td>NaN</td>\n",
       "      <td>NaN</td>\n",
       "      <td>NaN</td>\n",
       "      <td>NaN</td>\n",
       "      <td>&lt;class 'str'&gt;</td>\n",
       "      <td>0</td>\n",
       "    </tr>\n",
       "    <tr>\n",
       "      <th>age</th>\n",
       "      <td>73799</td>\n",
       "      <td>52</td>\n",
       "      <td>31</td>\n",
       "      <td>2727</td>\n",
       "      <td>39.2806</td>\n",
       "      <td>11.5204</td>\n",
       "      <td>21</td>\n",
       "      <td>37</td>\n",
       "      <td>72</td>\n",
       "      <td>&lt;class 'numpy.int64'&gt;</td>\n",
       "      <td>0</td>\n",
       "    </tr>\n",
       "    <tr>\n",
       "      <th>car</th>\n",
       "      <td>73799</td>\n",
       "      <td>2</td>\n",
       "      <td>N</td>\n",
       "      <td>49832</td>\n",
       "      <td>NaN</td>\n",
       "      <td>NaN</td>\n",
       "      <td>NaN</td>\n",
       "      <td>NaN</td>\n",
       "      <td>NaN</td>\n",
       "      <td>&lt;class 'str'&gt;</td>\n",
       "      <td>0</td>\n",
       "    </tr>\n",
       "    <tr>\n",
       "      <th>car_type</th>\n",
       "      <td>73799</td>\n",
       "      <td>2</td>\n",
       "      <td>N</td>\n",
       "      <td>59791</td>\n",
       "      <td>NaN</td>\n",
       "      <td>NaN</td>\n",
       "      <td>NaN</td>\n",
       "      <td>NaN</td>\n",
       "      <td>NaN</td>\n",
       "      <td>&lt;class 'str'&gt;</td>\n",
       "      <td>0</td>\n",
       "    </tr>\n",
       "    <tr>\n",
       "      <th>decline_app_cnt</th>\n",
       "      <td>73799</td>\n",
       "      <td>21</td>\n",
       "      <td>0</td>\n",
       "      <td>61214</td>\n",
       "      <td>0.275749</td>\n",
       "      <td>0.804272</td>\n",
       "      <td>0</td>\n",
       "      <td>0</td>\n",
       "      <td>33</td>\n",
       "      <td>&lt;class 'numpy.int64'&gt;</td>\n",
       "      <td>0</td>\n",
       "    </tr>\n",
       "    <tr>\n",
       "      <th>good_work</th>\n",
       "      <td>73799</td>\n",
       "      <td>2</td>\n",
       "      <td>0</td>\n",
       "      <td>61630</td>\n",
       "      <td>0.164894</td>\n",
       "      <td>0.371087</td>\n",
       "      <td>0</td>\n",
       "      <td>0</td>\n",
       "      <td>1</td>\n",
       "      <td>&lt;class 'numpy.int64'&gt;</td>\n",
       "      <td>0</td>\n",
       "    </tr>\n",
       "    <tr>\n",
       "      <th>bki_request_cnt</th>\n",
       "      <td>73799</td>\n",
       "      <td>38</td>\n",
       "      <td>0</td>\n",
       "      <td>19381</td>\n",
       "      <td>2.00034</td>\n",
       "      <td>2.25207</td>\n",
       "      <td>0</td>\n",
       "      <td>1</td>\n",
       "      <td>53</td>\n",
       "      <td>&lt;class 'numpy.int64'&gt;</td>\n",
       "      <td>0</td>\n",
       "    </tr>\n",
       "    <tr>\n",
       "      <th>home_address</th>\n",
       "      <td>73799</td>\n",
       "      <td>3</td>\n",
       "      <td>2</td>\n",
       "      <td>39956</td>\n",
       "      <td>1.57551</td>\n",
       "      <td>0.527631</td>\n",
       "      <td>1</td>\n",
       "      <td>2</td>\n",
       "      <td>3</td>\n",
       "      <td>&lt;class 'numpy.int64'&gt;</td>\n",
       "      <td>0</td>\n",
       "    </tr>\n",
       "    <tr>\n",
       "      <th>work_address</th>\n",
       "      <td>73799</td>\n",
       "      <td>3</td>\n",
       "      <td>3</td>\n",
       "      <td>44959</td>\n",
       "      <td>2.49628</td>\n",
       "      <td>0.689818</td>\n",
       "      <td>1</td>\n",
       "      <td>3</td>\n",
       "      <td>3</td>\n",
       "      <td>&lt;class 'numpy.int64'&gt;</td>\n",
       "      <td>0</td>\n",
       "    </tr>\n",
       "    <tr>\n",
       "      <th>income</th>\n",
       "      <td>73799</td>\n",
       "      <td>966</td>\n",
       "      <td>30000</td>\n",
       "      <td>7009</td>\n",
       "      <td>41099.8</td>\n",
       "      <td>46166.3</td>\n",
       "      <td>1000</td>\n",
       "      <td>30000</td>\n",
       "      <td>1e+06</td>\n",
       "      <td>&lt;class 'numpy.int64'&gt;</td>\n",
       "      <td>0</td>\n",
       "    </tr>\n",
       "    <tr>\n",
       "      <th>foreign_passport</th>\n",
       "      <td>73799</td>\n",
       "      <td>2</td>\n",
       "      <td>N</td>\n",
       "      <td>62733</td>\n",
       "      <td>NaN</td>\n",
       "      <td>NaN</td>\n",
       "      <td>NaN</td>\n",
       "      <td>NaN</td>\n",
       "      <td>NaN</td>\n",
       "      <td>&lt;class 'str'&gt;</td>\n",
       "      <td>0</td>\n",
       "    </tr>\n",
       "    <tr>\n",
       "      <th>default</th>\n",
       "      <td>73799</td>\n",
       "      <td>2</td>\n",
       "      <td>0</td>\n",
       "      <td>64427</td>\n",
       "      <td>0.126994</td>\n",
       "      <td>0.332968</td>\n",
       "      <td>0</td>\n",
       "      <td>0</td>\n",
       "      <td>1</td>\n",
       "      <td>&lt;class 'numpy.int64'&gt;</td>\n",
       "      <td>0</td>\n",
       "    </tr>\n",
       "  </tbody>\n",
       "</table>\n",
       "</div>"
      ],
      "text/plain": [
       "                  count  unique    top   freq      mean       std   min  \\\n",
       "client_id         73799   73799      1      1     55138   31841.9     1   \n",
       "education         73492       5    SCH  38860       NaN       NaN   NaN   \n",
       "sex               73799       2      F  41562       NaN       NaN   NaN   \n",
       "age               73799      52     31   2727   39.2806   11.5204    21   \n",
       "car               73799       2      N  49832       NaN       NaN   NaN   \n",
       "car_type          73799       2      N  59791       NaN       NaN   NaN   \n",
       "decline_app_cnt   73799      21      0  61214  0.275749  0.804272     0   \n",
       "good_work         73799       2      0  61630  0.164894  0.371087     0   \n",
       "bki_request_cnt   73799      38      0  19381   2.00034   2.25207     0   \n",
       "home_address      73799       3      2  39956   1.57551  0.527631     1   \n",
       "work_address      73799       3      3  44959   2.49628  0.689818     1   \n",
       "income            73799     966  30000   7009   41099.8   46166.3  1000   \n",
       "foreign_passport  73799       2      N  62733       NaN       NaN   NaN   \n",
       "default           73799       2      0  64427  0.126994  0.332968     0   \n",
       "\n",
       "                    50%     max                   type  NaN  \n",
       "client_id         55274  110147  <class 'numpy.int64'>    0  \n",
       "education           NaN     NaN          <class 'str'>  307  \n",
       "sex                 NaN     NaN          <class 'str'>    0  \n",
       "age                  37      72  <class 'numpy.int64'>    0  \n",
       "car                 NaN     NaN          <class 'str'>    0  \n",
       "car_type            NaN     NaN          <class 'str'>    0  \n",
       "decline_app_cnt       0      33  <class 'numpy.int64'>    0  \n",
       "good_work             0       1  <class 'numpy.int64'>    0  \n",
       "bki_request_cnt       1      53  <class 'numpy.int64'>    0  \n",
       "home_address          2       3  <class 'numpy.int64'>    0  \n",
       "work_address          3       3  <class 'numpy.int64'>    0  \n",
       "income            30000   1e+06  <class 'numpy.int64'>    0  \n",
       "foreign_passport    NaN     NaN          <class 'str'>    0  \n",
       "default               0       1  <class 'numpy.int64'>    0  "
      ]
     },
     "execution_count": 8,
     "metadata": {},
     "output_type": "execute_result"
    }
   ],
   "source": [
    "df_describe(data)"
   ]
  },
  {
   "cell_type": "markdown",
   "metadata": {},
   "source": [
    "Как видиим 9 признаков представлены числовым типом данных, 5 строковыми величинами. Из этих 5 \"строковых\" признаков 4 признака бинарных, один категориальный(5 уникальных значений, одно из них NaN). В числовых признаках 5 признаков разумно отнести к численным (количество уникальных значений от 21 до 73799), два признака являются категориальными(в каждом 3 категории) и 2 признака бинарные.  \n",
    "\n",
    "Пропуски встречаются только в одном признаке `education`. Их количество не велико и составляет менее 0,5% от количества наблюдений.  \n",
    "\n",
    "Сравнивая количество уникальных значений **unique** и частоту  наиболее часто встречающейся категории **freq** можно заметь несбалансированность признаков по категориям. В `foreign_passport` `good_work` `decline_app_cnt` и `default` доля мажоритарной категории составляет около 6/7. Такой дисбаланс, особенно в целевой переменной `default` может создать проблемы при обучении модели. Нам придется предпринимать меры для устранения несбалансированности.\n",
    "\n",
    "Посмотрим на сами данные"
   ]
  },
  {
   "cell_type": "code",
   "execution_count": 9,
   "metadata": {},
   "outputs": [
    {
     "data": {
      "text/html": [
       "<div>\n",
       "<style scoped>\n",
       "    .dataframe tbody tr th:only-of-type {\n",
       "        vertical-align: middle;\n",
       "    }\n",
       "\n",
       "    .dataframe tbody tr th {\n",
       "        vertical-align: top;\n",
       "    }\n",
       "\n",
       "    .dataframe thead th {\n",
       "        text-align: right;\n",
       "    }\n",
       "</style>\n",
       "<table border=\"1\" class=\"dataframe\">\n",
       "  <thead>\n",
       "    <tr style=\"text-align: right;\">\n",
       "      <th></th>\n",
       "      <th>client_id</th>\n",
       "      <th>education</th>\n",
       "      <th>sex</th>\n",
       "      <th>age</th>\n",
       "      <th>car</th>\n",
       "      <th>car_type</th>\n",
       "      <th>decline_app_cnt</th>\n",
       "      <th>good_work</th>\n",
       "      <th>bki_request_cnt</th>\n",
       "      <th>home_address</th>\n",
       "      <th>work_address</th>\n",
       "      <th>income</th>\n",
       "      <th>foreign_passport</th>\n",
       "      <th>default</th>\n",
       "    </tr>\n",
       "  </thead>\n",
       "  <tbody>\n",
       "    <tr>\n",
       "      <th>0</th>\n",
       "      <td>25905</td>\n",
       "      <td>SCH</td>\n",
       "      <td>M</td>\n",
       "      <td>62</td>\n",
       "      <td>Y</td>\n",
       "      <td>Y</td>\n",
       "      <td>0</td>\n",
       "      <td>0</td>\n",
       "      <td>1</td>\n",
       "      <td>1</td>\n",
       "      <td>2</td>\n",
       "      <td>18000</td>\n",
       "      <td>N</td>\n",
       "      <td>0</td>\n",
       "    </tr>\n",
       "    <tr>\n",
       "      <th>1</th>\n",
       "      <td>63161</td>\n",
       "      <td>SCH</td>\n",
       "      <td>F</td>\n",
       "      <td>59</td>\n",
       "      <td>N</td>\n",
       "      <td>N</td>\n",
       "      <td>0</td>\n",
       "      <td>0</td>\n",
       "      <td>3</td>\n",
       "      <td>2</td>\n",
       "      <td>3</td>\n",
       "      <td>19000</td>\n",
       "      <td>N</td>\n",
       "      <td>0</td>\n",
       "    </tr>\n",
       "    <tr>\n",
       "      <th>2</th>\n",
       "      <td>25887</td>\n",
       "      <td>SCH</td>\n",
       "      <td>M</td>\n",
       "      <td>25</td>\n",
       "      <td>Y</td>\n",
       "      <td>N</td>\n",
       "      <td>2</td>\n",
       "      <td>0</td>\n",
       "      <td>1</td>\n",
       "      <td>1</td>\n",
       "      <td>2</td>\n",
       "      <td>30000</td>\n",
       "      <td>Y</td>\n",
       "      <td>0</td>\n",
       "    </tr>\n",
       "  </tbody>\n",
       "</table>\n",
       "</div>"
      ],
      "text/plain": [
       "   client_id education sex  age car car_type  decline_app_cnt  good_work  \\\n",
       "0      25905       SCH   M   62   Y        Y                0          0   \n",
       "1      63161       SCH   F   59   N        N                0          0   \n",
       "2      25887       SCH   M   25   Y        N                2          0   \n",
       "\n",
       "   bki_request_cnt  home_address  work_address  income foreign_passport  \\\n",
       "0                1             1             2   18000                N   \n",
       "1                3             2             3   19000                N   \n",
       "2                1             1             2   30000                Y   \n",
       "\n",
       "   default  \n",
       "0        0  \n",
       "1        0  \n",
       "2        0  "
      ]
     },
     "execution_count": 9,
     "metadata": {},
     "output_type": "execute_result"
    }
   ],
   "source": [
    "data.head(3)"
   ]
  },
  {
   "cell_type": "markdown",
   "metadata": {},
   "source": [
    "Разделим признаки на количественные `num_cols` , категориальные `cat_cols` и бинарные `bin_cols`.     \n",
    "К бинарным, очевидно, отнесем признаки с двумя уникальными значениями.   \n",
    "Категориальными признаками будем считать признаки с количеством уникальных значений от 3 до 9  \n",
    "Порогом для количественного признака будет наличие более чем 10 уникальных значений. "
   ]
  },
  {
   "cell_type": "code",
   "execution_count": 10,
   "metadata": {},
   "outputs": [],
   "source": [
    "num_uniq = data.nunique()\n",
    "bin_cols = data.columns[num_uniq==2]\n",
    "cat_cols = data.columns[(num_uniq>2) & (num_uniq<10)] \n",
    "num_cols = data.columns[num_uniq>=10]"
   ]
  },
  {
   "cell_type": "markdown",
   "metadata": {},
   "source": [
    "# Работа с предоставленными данными\n",
    "Сначала рассмотрим существующие признаки, разделив их по типам.  \n",
    "Выберем способы предобработки, извлечем по возможности из существующих признаков информацию для создания новых.  \n",
    "Затем предобработаем существующие признаки согласно выбранным способам.\n",
    "После этого создадим новые, при необходимости предобработаем и их тоже.\n",
    "## Числовые признаки\n",
    "Начнем с общего обзора, потом перейдем к каждому признаку в отдельности. Отмечу, что из рассмотрения не исключен казалось бы неинформативный признак `client_id` - поскольку признаков совсем немного, попробуем и из идентификатора извлечь информацию, а именно предположим что идентификатор отражает хронологический порядок занесения клиента в базу. Если такое предположение верно - признак окажется полезным при анализе, создании новых признаков и обучении модели."
   ]
  },
  {
   "cell_type": "code",
   "execution_count": 11,
   "metadata": {},
   "outputs": [
    {
     "name": "stdout",
     "output_type": "stream",
     "text": [
      "Всего признаков этого типа 5. К ним относятся: \u001b[1mclient_id\u001b[0m, \u001b[1mage\u001b[0m, \u001b[1mdecline_app_cnt\u001b[0m, \u001b[1mbki_request_cnt\u001b[0m, \u001b[1mincome\u001b[0m\n"
     ]
    },
    {
     "data": {
      "image/png": "[encoded data removed]",
      "text/plain": [
       "<Figure size 1152x360 with 10 Axes>"
      ]
     },
     "metadata": {},
     "output_type": "display_data"
    }
   ],
   "source": [
    "nums_visualisation(data[num_cols], annotation=True)"
   ]
  },
  {
   "cell_type": "markdown",
   "metadata": {},
   "source": [
    "Как видим, кроме признака `client_id` числовые признаки имеют сильно скошенное вправо распределение. Такая ассиметрия будет мешать линейной модели. Применим логарифмирование: "
   ]
  },
  {
   "cell_type": "code",
   "execution_count": 12,
   "metadata": {},
   "outputs": [
    {
     "data": {
      "image/png": "[encoded data removed]",
      "text/plain": [
       "<Figure size 1152x360 with 8 Axes>"
      ]
     },
     "metadata": {},
     "output_type": "display_data"
    }
   ],
   "source": [
    "nums_visualisation(np.log(data[num_cols.drop('client_id')]+1))"
   ]
  },
  {
   "cell_type": "markdown",
   "metadata": {},
   "source": [
    "Ситуация улучшилась: логарифмированные `age` и `income` рапсределены похоже на нормально, а в `decline_app_cnt` и `bki_request_cnt` скошенность, судя по boxplot-ам существенно уменьшилась.\n",
    "\n",
    "Рассмотрим теперь числовые признаки по отдельности. Логарифмируемые признаки будем анализировать сразу с учетом преобразования."
   ]
  },
  {
   "cell_type": "markdown",
   "metadata": {},
   "source": [
    "### Age\n",
    "\n",
    "Посмториим на распределения отдельно для позитивного и негативного класса целевоцй переменной."
   ]
  },
  {
   "cell_type": "code",
   "execution_count": 13,
   "metadata": {},
   "outputs": [
    {
     "data": {
      "image/png": "[encoded data removed]",
      "text/plain": [
       "<Figure size 1080x360 with 2 Axes>"
      ]
     },
     "metadata": {},
     "output_type": "display_data"
    }
   ],
   "source": [
    "num_visualisation(np.log(data.age+1),data.default)"
   ]
  },
  {
   "cell_type": "markdown",
   "metadata": {},
   "source": [
    "Дефолтные\n",
    "\n",
    "### decline_app_cnt"
   ]
  },
  {
   "cell_type": "code",
   "execution_count": 14,
   "metadata": {},
   "outputs": [
    {
     "data": {
      "image/png": "[encoded data removed]",
      "text/plain": [
       "<Figure size 1080x360 with 2 Axes>"
      ]
     },
     "metadata": {},
     "output_type": "display_data"
    }
   ],
   "source": [
    "num_visualisation(np.log(data.decline_app_cnt+1),data.default)"
   ]
  },
  {
   "cell_type": "markdown",
   "metadata": {},
   "source": [
    "текст"
   ]
  },
  {
   "cell_type": "markdown",
   "metadata": {},
   "source": [
    "### bki_request_cnt"
   ]
  },
  {
   "cell_type": "code",
   "execution_count": 15,
   "metadata": {},
   "outputs": [
    {
     "data": {
      "image/png": "[encoded data removed]",
      "text/plain": [
       "<Figure size 1080x360 with 2 Axes>"
      ]
     },
     "metadata": {},
     "output_type": "display_data"
    }
   ],
   "source": [
    "num_visualisation(np.log(data.bki_request_cnt+1),data.default)"
   ]
  },
  {
   "cell_type": "markdown",
   "metadata": {},
   "source": [
    "Распределение Пуассона?"
   ]
  },
  {
   "cell_type": "markdown",
   "metadata": {},
   "source": [
    "### income"
   ]
  },
  {
   "cell_type": "code",
   "execution_count": 16,
   "metadata": {},
   "outputs": [
    {
     "data": {
      "image/png": "[encoded data removed]",
      "text/plain": [
       "<Figure size 1080x360 with 2 Axes>"
      ]
     },
     "metadata": {},
     "output_type": "display_data"
    }
   ],
   "source": [
    "num_visualisation(np.log(data.income+1),data.default)"
   ]
  },
  {
   "cell_type": "markdown",
   "metadata": {},
   "source": [
    "текст"
   ]
  },
  {
   "cell_type": "markdown",
   "metadata": {},
   "source": [
    "### client_id"
   ]
  },
  {
   "cell_type": "code",
   "execution_count": 17,
   "metadata": {},
   "outputs": [
    {
     "data": {
      "image/png": "[encoded data removed]",
      "text/plain": [
       "<Figure size 1080x360 with 2 Axes>"
      ]
     },
     "metadata": {},
     "output_type": "display_data"
    }
   ],
   "source": [
    "num_visualisation(data.client_id,data.default)"
   ]
  },
  {
   "cell_type": "markdown",
   "metadata": {},
   "source": [
    "Текст"
   ]
  },
  {
   "cell_type": "code",
   "execution_count": null,
   "metadata": {},
   "outputs": [],
   "source": []
  },
  {
   "cell_type": "code",
   "execution_count": null,
   "metadata": {},
   "outputs": [],
   "source": []
  },
  {
   "cell_type": "markdown",
   "metadata": {},
   "source": [
    "## Категориальные признаки\n",
    "Посмотрим на распределение по категориям в каждом признаке:"
   ]
  },
  {
   "cell_type": "code",
   "execution_count": 18,
   "metadata": {},
   "outputs": [
    {
     "name": "stdout",
     "output_type": "stream",
     "text": [
      "Всего признаков этого типа 3. К ним относятся: \u001b[1meducation\u001b[0m, \u001b[1mhome_address\u001b[0m, \u001b[1mwork_address\u001b[0m\n"
     ]
    },
    {
     "data": {
      "image/png": "[encoded data removed]",
      "text/plain": [
       "<Figure size 1152x360 with 3 Axes>"
      ]
     },
     "metadata": {},
     "output_type": "display_data"
    }
   ],
   "source": [
    "cats_visualisation(data[cat_cols]) "
   ]
  },
  {
   "cell_type": "markdown",
   "metadata": {},
   "source": [
    "Как видим распределение по категориям в признаках ...\n",
    "\n",
    "  .\n",
    "  .\n",
    "\n",
    "\n",
    "Расссмотрим каждый признак отдельно:\n",
    "\n",
    "### education"
   ]
  },
  {
   "cell_type": "code",
   "execution_count": 19,
   "metadata": {
    "scrolled": false
   },
   "outputs": [
    {
     "data": {
      "text/html": [
       "<div>\n",
       "<style scoped>\n",
       "    .dataframe tbody tr th:only-of-type {\n",
       "        vertical-align: middle;\n",
       "    }\n",
       "\n",
       "    .dataframe tbody tr th {\n",
       "        vertical-align: top;\n",
       "    }\n",
       "\n",
       "    .dataframe thead th {\n",
       "        text-align: right;\n",
       "    }\n",
       "</style>\n",
       "<table border=\"1\" class=\"dataframe\">\n",
       "  <thead>\n",
       "    <tr style=\"text-align: right;\">\n",
       "      <th></th>\n",
       "      <th>SCH</th>\n",
       "      <th>GRD</th>\n",
       "      <th>UGR</th>\n",
       "      <th>PGR</th>\n",
       "      <th>ACD</th>\n",
       "    </tr>\n",
       "  </thead>\n",
       "  <tbody>\n",
       "    <tr>\n",
       "      <th>neg</th>\n",
       "      <td>0.849408</td>\n",
       "      <td>0.909908</td>\n",
       "      <td>0.86848</td>\n",
       "      <td>0.935561</td>\n",
       "      <td>0.958763</td>\n",
       "    </tr>\n",
       "    <tr>\n",
       "      <th>pos</th>\n",
       "      <td>0.150592</td>\n",
       "      <td>0.090092</td>\n",
       "      <td>0.13152</td>\n",
       "      <td>0.064439</td>\n",
       "      <td>0.041237</td>\n",
       "    </tr>\n",
       "  </tbody>\n",
       "</table>\n",
       "</div>"
      ],
      "text/plain": [
       "          SCH       GRD      UGR       PGR       ACD\n",
       "neg  0.849408  0.909908  0.86848  0.935561  0.958763\n",
       "pos  0.150592  0.090092  0.13152  0.064439  0.041237"
      ]
     },
     "metadata": {},
     "output_type": "display_data"
    },
    {
     "data": {
      "image/png": "[encoded data removed]",
      "text/plain": [
       "<Figure size 1008x360 with 2 Axes>"
      ]
     },
     "metadata": {},
     "output_type": "display_data"
    }
   ],
   "source": [
    "cat_visualisation(data.education)"
   ]
  },
  {
   "cell_type": "markdown",
   "metadata": {},
   "source": [
    "### home_address"
   ]
  },
  {
   "cell_type": "code",
   "execution_count": 20,
   "metadata": {
    "scrolled": false
   },
   "outputs": [
    {
     "data": {
      "text/html": [
       "<div>\n",
       "<style scoped>\n",
       "    .dataframe tbody tr th:only-of-type {\n",
       "        vertical-align: middle;\n",
       "    }\n",
       "\n",
       "    .dataframe tbody tr th {\n",
       "        vertical-align: top;\n",
       "    }\n",
       "\n",
       "    .dataframe thead th {\n",
       "        text-align: right;\n",
       "    }\n",
       "</style>\n",
       "<table border=\"1\" class=\"dataframe\">\n",
       "  <thead>\n",
       "    <tr style=\"text-align: right;\">\n",
       "      <th></th>\n",
       "      <th>2</th>\n",
       "      <th>1</th>\n",
       "      <th>3</th>\n",
       "    </tr>\n",
       "  </thead>\n",
       "  <tbody>\n",
       "    <tr>\n",
       "      <th>neg</th>\n",
       "      <td>0.844854</td>\n",
       "      <td>0.907104</td>\n",
       "      <td>0.883943</td>\n",
       "    </tr>\n",
       "    <tr>\n",
       "      <th>pos</th>\n",
       "      <td>0.155146</td>\n",
       "      <td>0.092896</td>\n",
       "      <td>0.116057</td>\n",
       "    </tr>\n",
       "  </tbody>\n",
       "</table>\n",
       "</div>"
      ],
      "text/plain": [
       "            2         1         3\n",
       "neg  0.844854  0.907104  0.883943\n",
       "pos  0.155146  0.092896  0.116057"
      ]
     },
     "metadata": {},
     "output_type": "display_data"
    },
    {
     "data": {
      "image/png": "[encoded data removed]",
      "text/plain": [
       "<Figure size 1008x360 with 2 Axes>"
      ]
     },
     "metadata": {},
     "output_type": "display_data"
    }
   ],
   "source": [
    "cat_visualisation(data.home_address)"
   ]
  },
  {
   "cell_type": "markdown",
   "metadata": {},
   "source": [
    "### work_address"
   ]
  },
  {
   "cell_type": "code",
   "execution_count": 21,
   "metadata": {},
   "outputs": [
    {
     "data": {
      "text/html": [
       "<div>\n",
       "<style scoped>\n",
       "    .dataframe tbody tr th:only-of-type {\n",
       "        vertical-align: middle;\n",
       "    }\n",
       "\n",
       "    .dataframe tbody tr th {\n",
       "        vertical-align: top;\n",
       "    }\n",
       "\n",
       "    .dataframe thead th {\n",
       "        text-align: right;\n",
       "    }\n",
       "</style>\n",
       "<table border=\"1\" class=\"dataframe\">\n",
       "  <thead>\n",
       "    <tr style=\"text-align: right;\">\n",
       "      <th></th>\n",
       "      <th>3</th>\n",
       "      <th>2</th>\n",
       "      <th>1</th>\n",
       "    </tr>\n",
       "  </thead>\n",
       "  <tbody>\n",
       "    <tr>\n",
       "      <th>neg</th>\n",
       "      <td>0.852043</td>\n",
       "      <td>0.897493</td>\n",
       "      <td>0.925846</td>\n",
       "    </tr>\n",
       "    <tr>\n",
       "      <th>pos</th>\n",
       "      <td>0.147957</td>\n",
       "      <td>0.102507</td>\n",
       "      <td>0.074154</td>\n",
       "    </tr>\n",
       "  </tbody>\n",
       "</table>\n",
       "</div>"
      ],
      "text/plain": [
       "            3         2         1\n",
       "neg  0.852043  0.897493  0.925846\n",
       "pos  0.147957  0.102507  0.074154"
      ]
     },
     "metadata": {},
     "output_type": "display_data"
    },
    {
     "data": {
      "image/png": "[encoded data removed]",
      "text/plain": [
       "<Figure size 1008x360 with 2 Axes>"
      ]
     },
     "metadata": {},
     "output_type": "display_data"
    }
   ],
   "source": [
    "cat_visualisation(data.work_address)"
   ]
  },
  {
   "cell_type": "code",
   "execution_count": null,
   "metadata": {},
   "outputs": [],
   "source": []
  },
  {
   "cell_type": "markdown",
   "metadata": {},
   "source": [
    "## Бинарные признаки\n",
    "Теперь рассмотрим бинарные признаки - ........"
   ]
  },
  {
   "cell_type": "code",
   "execution_count": 22,
   "metadata": {},
   "outputs": [
    {
     "name": "stdout",
     "output_type": "stream",
     "text": [
      "Всего признаков этого типа 6. К ним относятся: \u001b[1msex\u001b[0m, \u001b[1mcar\u001b[0m, \u001b[1mcar_type\u001b[0m, \u001b[1mgood_work\u001b[0m, \u001b[1mforeign_passport\u001b[0m, \u001b[1mdefault\u001b[0m\n"
     ]
    },
    {
     "data": {
      "image/png": "[encoded data removed]",
      "text/plain": [
       "<Figure size 1152x360 with 6 Axes>"
      ]
     },
     "metadata": {},
     "output_type": "display_data"
    }
   ],
   "source": [
    "cats_visualisation(data[bin_cols]) "
   ]
  },
  {
   "cell_type": "markdown",
   "metadata": {},
   "source": [
    "### sex "
   ]
  },
  {
   "cell_type": "code",
   "execution_count": 23,
   "metadata": {},
   "outputs": [
    {
     "data": {
      "text/html": [
       "<div>\n",
       "<style scoped>\n",
       "    .dataframe tbody tr th:only-of-type {\n",
       "        vertical-align: middle;\n",
       "    }\n",
       "\n",
       "    .dataframe tbody tr th {\n",
       "        vertical-align: top;\n",
       "    }\n",
       "\n",
       "    .dataframe thead th {\n",
       "        text-align: right;\n",
       "    }\n",
       "</style>\n",
       "<table border=\"1\" class=\"dataframe\">\n",
       "  <thead>\n",
       "    <tr style=\"text-align: right;\">\n",
       "      <th></th>\n",
       "      <th>F</th>\n",
       "      <th>M</th>\n",
       "    </tr>\n",
       "  </thead>\n",
       "  <tbody>\n",
       "    <tr>\n",
       "      <th>neg</th>\n",
       "      <td>0.878759</td>\n",
       "      <td>0.865589</td>\n",
       "    </tr>\n",
       "    <tr>\n",
       "      <th>pos</th>\n",
       "      <td>0.121241</td>\n",
       "      <td>0.134411</td>\n",
       "    </tr>\n",
       "  </tbody>\n",
       "</table>\n",
       "</div>"
      ],
      "text/plain": [
       "            F         M\n",
       "neg  0.878759  0.865589\n",
       "pos  0.121241  0.134411"
      ]
     },
     "metadata": {},
     "output_type": "display_data"
    },
    {
     "data": {
      "image/png": "[encoded data removed]",
      "text/plain": [
       "<Figure size 1008x360 with 2 Axes>"
      ]
     },
     "metadata": {},
     "output_type": "display_data"
    }
   ],
   "source": [
    "cat_visualisation(data.sex)"
   ]
  },
  {
   "cell_type": "markdown",
   "metadata": {},
   "source": [
    "### car"
   ]
  },
  {
   "cell_type": "code",
   "execution_count": 24,
   "metadata": {},
   "outputs": [
    {
     "data": {
      "text/html": [
       "<div>\n",
       "<style scoped>\n",
       "    .dataframe tbody tr th:only-of-type {\n",
       "        vertical-align: middle;\n",
       "    }\n",
       "\n",
       "    .dataframe tbody tr th {\n",
       "        vertical-align: top;\n",
       "    }\n",
       "\n",
       "    .dataframe thead th {\n",
       "        text-align: right;\n",
       "    }\n",
       "</style>\n",
       "<table border=\"1\" class=\"dataframe\">\n",
       "  <thead>\n",
       "    <tr style=\"text-align: right;\">\n",
       "      <th></th>\n",
       "      <th>N</th>\n",
       "      <th>Y</th>\n",
       "    </tr>\n",
       "  </thead>\n",
       "  <tbody>\n",
       "    <tr>\n",
       "      <th>neg</th>\n",
       "      <td>0.86304</td>\n",
       "      <td>0.893729</td>\n",
       "    </tr>\n",
       "    <tr>\n",
       "      <th>pos</th>\n",
       "      <td>0.13696</td>\n",
       "      <td>0.106271</td>\n",
       "    </tr>\n",
       "  </tbody>\n",
       "</table>\n",
       "</div>"
      ],
      "text/plain": [
       "           N         Y\n",
       "neg  0.86304  0.893729\n",
       "pos  0.13696  0.106271"
      ]
     },
     "metadata": {},
     "output_type": "display_data"
    },
    {
     "data": {
      "image/png": "[encoded data removed]",
      "text/plain": [
       "<Figure size 1008x360 with 2 Axes>"
      ]
     },
     "metadata": {},
     "output_type": "display_data"
    }
   ],
   "source": [
    "cat_visualisation(data.car)"
   ]
  },
  {
   "cell_type": "markdown",
   "metadata": {},
   "source": [
    "### car_type"
   ]
  },
  {
   "cell_type": "code",
   "execution_count": 25,
   "metadata": {},
   "outputs": [
    {
     "data": {
      "text/html": [
       "<div>\n",
       "<style scoped>\n",
       "    .dataframe tbody tr th:only-of-type {\n",
       "        vertical-align: middle;\n",
       "    }\n",
       "\n",
       "    .dataframe tbody tr th {\n",
       "        vertical-align: top;\n",
       "    }\n",
       "\n",
       "    .dataframe thead th {\n",
       "        text-align: right;\n",
       "    }\n",
       "</style>\n",
       "<table border=\"1\" class=\"dataframe\">\n",
       "  <thead>\n",
       "    <tr style=\"text-align: right;\">\n",
       "      <th></th>\n",
       "      <th>N</th>\n",
       "      <th>Y</th>\n",
       "    </tr>\n",
       "  </thead>\n",
       "  <tbody>\n",
       "    <tr>\n",
       "      <th>neg</th>\n",
       "      <td>0.863742</td>\n",
       "      <td>0.91255</td>\n",
       "    </tr>\n",
       "    <tr>\n",
       "      <th>pos</th>\n",
       "      <td>0.136258</td>\n",
       "      <td>0.08745</td>\n",
       "    </tr>\n",
       "  </tbody>\n",
       "</table>\n",
       "</div>"
      ],
      "text/plain": [
       "            N        Y\n",
       "neg  0.863742  0.91255\n",
       "pos  0.136258  0.08745"
      ]
     },
     "metadata": {},
     "output_type": "display_data"
    },
    {
     "data": {
      "image/png": "[encoded data removed]",
      "text/plain": [
       "<Figure size 1008x360 with 2 Axes>"
      ]
     },
     "metadata": {},
     "output_type": "display_data"
    }
   ],
   "source": [
    "cat_visualisation(data.car_type)"
   ]
  },
  {
   "cell_type": "markdown",
   "metadata": {},
   "source": [
    "### good_work"
   ]
  },
  {
   "cell_type": "code",
   "execution_count": 26,
   "metadata": {},
   "outputs": [
    {
     "data": {
      "text/html": [
       "<div>\n",
       "<style scoped>\n",
       "    .dataframe tbody tr th:only-of-type {\n",
       "        vertical-align: middle;\n",
       "    }\n",
       "\n",
       "    .dataframe tbody tr th {\n",
       "        vertical-align: top;\n",
       "    }\n",
       "\n",
       "    .dataframe thead th {\n",
       "        text-align: right;\n",
       "    }\n",
       "</style>\n",
       "<table border=\"1\" class=\"dataframe\">\n",
       "  <thead>\n",
       "    <tr style=\"text-align: right;\">\n",
       "      <th></th>\n",
       "      <th>0</th>\n",
       "      <th>1</th>\n",
       "    </tr>\n",
       "  </thead>\n",
       "  <tbody>\n",
       "    <tr>\n",
       "      <th>neg</th>\n",
       "      <td>0.866591</td>\n",
       "      <td>0.905498</td>\n",
       "    </tr>\n",
       "    <tr>\n",
       "      <th>pos</th>\n",
       "      <td>0.133409</td>\n",
       "      <td>0.094502</td>\n",
       "    </tr>\n",
       "  </tbody>\n",
       "</table>\n",
       "</div>"
      ],
      "text/plain": [
       "            0         1\n",
       "neg  0.866591  0.905498\n",
       "pos  0.133409  0.094502"
      ]
     },
     "metadata": {},
     "output_type": "display_data"
    },
    {
     "data": {
      "image/png": "[encoded data removed]",
      "text/plain": [
       "<Figure size 1008x360 with 2 Axes>"
      ]
     },
     "metadata": {},
     "output_type": "display_data"
    }
   ],
   "source": [
    "cat_visualisation(data.good_work)"
   ]
  },
  {
   "cell_type": "markdown",
   "metadata": {},
   "source": [
    "### foreign_passport"
   ]
  },
  {
   "cell_type": "code",
   "execution_count": 27,
   "metadata": {},
   "outputs": [
    {
     "data": {
      "text/html": [
       "<div>\n",
       "<style scoped>\n",
       "    .dataframe tbody tr th:only-of-type {\n",
       "        vertical-align: middle;\n",
       "    }\n",
       "\n",
       "    .dataframe tbody tr th {\n",
       "        vertical-align: top;\n",
       "    }\n",
       "\n",
       "    .dataframe thead th {\n",
       "        text-align: right;\n",
       "    }\n",
       "</style>\n",
       "<table border=\"1\" class=\"dataframe\">\n",
       "  <thead>\n",
       "    <tr style=\"text-align: right;\">\n",
       "      <th></th>\n",
       "      <th>N</th>\n",
       "      <th>Y</th>\n",
       "    </tr>\n",
       "  </thead>\n",
       "  <tbody>\n",
       "    <tr>\n",
       "      <th>neg</th>\n",
       "      <td>0.863676</td>\n",
       "      <td>0.925899</td>\n",
       "    </tr>\n",
       "    <tr>\n",
       "      <th>pos</th>\n",
       "      <td>0.136324</td>\n",
       "      <td>0.074101</td>\n",
       "    </tr>\n",
       "  </tbody>\n",
       "</table>\n",
       "</div>"
      ],
      "text/plain": [
       "            N         Y\n",
       "neg  0.863676  0.925899\n",
       "pos  0.136324  0.074101"
      ]
     },
     "metadata": {},
     "output_type": "display_data"
    },
    {
     "data": {
      "image/png": "[encoded data removed]",
      "text/plain": [
       "<Figure size 1008x360 with 2 Axes>"
      ]
     },
     "metadata": {},
     "output_type": "display_data"
    }
   ],
   "source": [
    "cat_visualisation(data.foreign_passport)"
   ]
  },
  {
   "cell_type": "markdown",
   "metadata": {},
   "source": [
    "### default"
   ]
  },
  {
   "cell_type": "code",
   "execution_count": null,
   "metadata": {},
   "outputs": [],
   "source": []
  },
  {
   "cell_type": "code",
   "execution_count": null,
   "metadata": {},
   "outputs": [],
   "source": []
  },
  {
   "cell_type": "code",
   "execution_count": null,
   "metadata": {},
   "outputs": [],
   "source": []
  },
  {
   "cell_type": "markdown",
   "metadata": {},
   "source": [
    "# Первичная предобработка\n",
    "Осуществим предобработку, согласно выбранным для каждого признака способам."
   ]
  },
  {
   "cell_type": "code",
   "execution_count": 28,
   "metadata": {},
   "outputs": [],
   "source": [
    "y = data.default\n",
    "X = pre_process(data.drop(columns='default'))"
   ]
  },
  {
   "cell_type": "markdown",
   "metadata": {},
   "source": [
    "# Baseline\n",
    "Обучим на подготовленных данных модель LogisticRegression() спараметрами по умолчанию и получим значение метрики. Мы будем рассматривать эту модель как первую итерацию, первое приближение которое нужно улучшить."
   ]
  },
  {
   "cell_type": "code",
   "execution_count": 29,
   "metadata": {},
   "outputs": [
    {
     "data": {
      "text/plain": [
       "0.67183689914726"
      ]
     },
     "execution_count": 29,
     "metadata": {},
     "output_type": "execute_result"
    }
   ],
   "source": [
    "validation(X, y, LogisticRegression())"
   ]
  },
  {
   "cell_type": "markdown",
   "metadata": {},
   "source": [
    "# Определение оптимального размера набора данных\n",
    "При подборе гиперпараметров нам предстоит многократное обучение модели на побучающей выборке. Для того чтобы оптимизировать процесс, проверим зависимость метрики о размера выборки, возможно что начиная с некоторого момента рост размера обучающей выборки перестает ощутимо влиять на качество модели и мы сможет произвести подбор гиперпараметров используя сокращенный/оптимизированный набор данных.\n",
    "\n",
    "Получим при различных значениях взятой для обучения доли исходных данных значения метрики на тестовой выборке."
   ]
  },
  {
   "cell_type": "code",
   "execution_count": 30,
   "metadata": {},
   "outputs": [
    {
     "name": "stdout",
     "output_type": "stream",
     "text": [
      "Wall time: 11.4 s\n"
     ]
    }
   ],
   "source": [
    "%%time\n",
    "cv = StratifiedKFold(n_splits=5,random_state=RANDOM_SEED)\n",
    "\n",
    "_, _, test_scores = learning_curve(\n",
    "       model, X, y, train_sizes=np.linspace(.1, 1.0, 10), cv=cv, scoring = 'roc_auc')"
   ]
  },
  {
   "cell_type": "markdown",
   "metadata": {},
   "source": [
    "Визуалтзируем полученный результат"
   ]
  },
  {
   "cell_type": "code",
   "execution_count": 31,
   "metadata": {},
   "outputs": [
    {
     "data": {
      "image/png": "[encoded data removed]",
      "text/plain": [
       "<Figure size 1008x360 with 1 Axes>"
      ]
     },
     "metadata": {},
     "output_type": "display_data"
    }
   ],
   "source": [
    "train_prop = np.linspace(.1, 1.0, 10)\n",
    "\n",
    "test_scores_mean = test_scores.mean(axis=1)\n",
    "test_scores_std = test_scores.std(axis=1)\n",
    "\n",
    "plt.figure(figsize=(14,5))\n",
    "plt.grid(True)\n",
    "plt.xticks(train_prop)\n",
    "plt.errorbar(train_prop, test_scores_mean , yerr = test_scores_std, fmt='o-')\n",
    "\n",
    "plt.title('Зависимость метрики от доли исходного набора данных, взятой для обучения')\n",
    "plt.ylabel('roc_auc')\n",
    "plt.xlabel(\"Доля исходного набора данных, взятая для обучения\");"
   ]
  },
  {
   "cell_type": "markdown",
   "metadata": {},
   "source": [
    "Как видиим в рост постепенно затухает и призначениях 0.7 останавливается. Примем в качестве оптимального с точки зрения затрат времени размер данных в 0.7 от исходного количества"
   ]
  },
  {
   "cell_type": "code",
   "execution_count": 32,
   "metadata": {},
   "outputs": [],
   "source": [
    "X_opt, _, y_opt, _ = train_test_split(X, y, train_size=0.7, stratify=y, random_state=RANDOM_SEED)"
   ]
  },
  {
   "cell_type": "markdown",
   "metadata": {},
   "source": [
    "# Отбор признаков"
   ]
  },
  {
   "cell_type": "code",
   "execution_count": 34,
   "metadata": {},
   "outputs": [
    {
     "name": "stderr",
     "output_type": "stream",
     "text": [
      "100%|██████████████████████████████████████████| 21/21 [01:33<00:00,  4.45s/it]\n"
     ]
    }
   ],
   "source": [
    "from tqdm import tqdm\n",
    "model = LogisticRegression(random_state=RANDOM_SEED)\n",
    "\n",
    "metrics_threshold = validation(X,y,model)\n",
    "unuseful_features = pd.Series([])\n",
    "\n",
    "for col in tqdm(X.columns):\n",
    "    X_tmp = X.drop(columns=col)\n",
    "    metrics_tmp = validation(X_tmp,y,model)\n",
    "    \n",
    "    if metrics_tmp > metrics_threshold : \n",
    "        unuseful_features[col] = metrics_tmp - metrics_threshold\n",
    "\n",
    "unuseful_features = unuseful_features.sort_values(ascending = False)"
   ]
  },
  {
   "cell_type": "markdown",
   "metadata": {},
   "source": [
    "# Baseline + отбор признаков"
   ]
  },
  {
   "cell_type": "code",
   "execution_count": 35,
   "metadata": {},
   "outputs": [
    {
     "name": "stderr",
     "output_type": "stream",
     "text": [
      "100%|████████████████████████████████████████████| 5/5 [00:21<00:00,  4.29s/it]\n"
     ]
    }
   ],
   "source": [
    "metrics_changes = pd.Series()\n",
    "\n",
    "for loc in tqdm(range(0,len(unuseful_features),1)):\n",
    "    to_drop = unuseful_features.index[:loc] \n",
    "    X_tmp = X.drop(columns=to_drop)\n",
    "    metrics_tmp = validation(X_tmp,y,model)\n",
    "    metrics_changes.loc[loc] = metrics_tmp\n",
    "#     print('{:3}  {:.6f}  {:.6f}'.format(loc, MAE_tmp,MAE_round_tmp))"
   ]
  },
  {
   "cell_type": "code",
   "execution_count": 36,
   "metadata": {},
   "outputs": [
    {
     "data": {
      "text/plain": [
       "(2, 0.6719055011984261)"
      ]
     },
     "execution_count": 36,
     "metadata": {},
     "output_type": "execute_result"
    }
   ],
   "source": [
    "metrics_changes.idxmax(),  metrics_changes.max()"
   ]
  },
  {
   "cell_type": "markdown",
   "metadata": {},
   "source": [
    "# Baseline + отбор признаков + подбор гиперпараметров"
   ]
  },
  {
   "cell_type": "code",
   "execution_count": 37,
   "metadata": {},
   "outputs": [],
   "source": [
    "from pprint import pprint"
   ]
  },
  {
   "cell_type": "code",
   "execution_count": 87,
   "metadata": {},
   "outputs": [
    {
     "name": "stdout",
     "output_type": "stream",
     "text": [
      "Wall time: 1h 57min 50s\n"
     ]
    }
   ],
   "source": [
    "%%time\n",
    "\n",
    "import warnings\n",
    "warnings.filterwarnings(\"ignore\")\n",
    "\n",
    "n_iter = 10\n",
    "search = pd.Series()\n",
    "\n",
    "for solver in solvers_hyperparameters:\n",
    "    hyperparameters = solvers_hyperparameters[solver]\n",
    "    model = LogisticRegression(solver=solver, random_state=RANDOM_SEED)\n",
    "    clf = RandomizedSearchCV(model, hyperparameters, n_iter=n_iter, scoring='roc_auc', cv=5, random_state=RANDOM_SEED)\n",
    "    search[solver] = clf.fit(X_opt, y_opt)"
   ]
  },
  {
   "cell_type": "code",
   "execution_count": 88,
   "metadata": {},
   "outputs": [
    {
     "data": {
      "text/plain": [
       "newton-cg    0.671949\n",
       "lbfgs        0.671949\n",
       "liblinear    0.671957\n",
       "sag          0.672128\n",
       "saga         0.671949\n",
       "dtype: float64"
      ]
     },
     "execution_count": 88,
     "metadata": {},
     "output_type": "execute_result"
    }
   ],
   "source": [
    "search.apply(lambda x: x.best_score_)"
   ]
  },
  {
   "cell_type": "code",
   "execution_count": 91,
   "metadata": {},
   "outputs": [
    {
     "data": {
      "text/plain": [
       "{'tol': 0.001,\n",
       " 'penalty': 'l2',\n",
       " 'max_iter': 100,\n",
       " 'class_weight': {0: 1, 1: 4},\n",
       " 'C': 1000.0}"
      ]
     },
     "execution_count": 91,
     "metadata": {},
     "output_type": "execute_result"
    }
   ],
   "source": [
    "search.sag.best_params_"
   ]
  },
  {
   "cell_type": "markdown",
   "metadata": {},
   "source": [
    "newton-cg    0.671949\n",
    "lbfgs        0.671949\n",
    "liblinear    0.671957\n",
    "sag          0.672128\n",
    "saga         0.671949\n",
    "dtype: float64\n",
    "\n",
    "{'tol': 0.001,\n",
    " 'penalty': 'l2',\n",
    " 'max_iter': 100,\n",
    " 'class_weight': {0: 1, 1: 4},\n",
    " 'C': 1000.0}"
   ]
  },
  {
   "cell_type": "code",
   "execution_count": null,
   "metadata": {},
   "outputs": [],
   "source": []
  },
  {
   "cell_type": "code",
   "execution_count": null,
   "metadata": {},
   "outputs": [],
   "source": [
    "tuned_solvers_hyperparameters = {}"
   ]
  },
  {
   "cell_type": "code",
   "execution_count": null,
   "metadata": {},
   "outputs": [],
   "source": [
    "'''%%time\n",
    "from sklearn.model_selection import GridSearchCV\n",
    "\n",
    "import warnings\n",
    "warnings.filterwarnings(\"ignore\")\n",
    "\n",
    "# Добавим типы регуляризации\n",
    "penalty = ['l1', 'l2']\n",
    "#\n",
    "tol = logspace(-8,-3,num=5)\n",
    "# Зададим ограничения для параметра регуляризации\n",
    "C = np.logspace(-3, 3, 7)\n",
    "#\n",
    "fit_intercept = [True,False]\n",
    "#\n",
    "intercept_scaling = [1,10,30]\n",
    "#\n",
    "class_weight = ['balanced'] # [{0:0, 1:x} for x in range(1,13,4)]\n",
    "#\n",
    "solver = ['newton-cg','lbfgs', 'liblinear', 'sag', 'saga']\n",
    "#\n",
    "max_iter [100,300,600]\n",
    "#\n",
    "warm_start = [True,False]\n",
    "# Создадим гиперпараметры\n",
    "hyperparameters = dict(C=C, penalty=penalty, class_weight=class_weight, \n",
    "                       solver = solver, intercept_scaling=intercept_scaling)\n",
    "\n",
    "model = LogisticRegression(max_iter=500)\n",
    "model.fit(X_train, y_train)\n",
    "\n",
    "# Создаем сетку поиска с использованием 5-кратной перекрестной проверки\n",
    "clf = GridSearchCV(model, hyperparameters, scoring='roc_auc', cv=5, verbose=0)\n",
    "\n",
    "best_model = clf.fit(X_opt, y_opt)\n",
    "\n",
    "# View best hyperparameters\n",
    "print('Лучшее Penalty:', best_model.best_estimator_.get_params()['penalty'])\n",
    "print('Лучшее C:', best_model.best_estimator_.get_params()['C'])\n",
    "print('Besr score', clf.best_score_)\n",
    "''';"
   ]
  },
  {
   "cell_type": "code",
   "execution_count": null,
   "metadata": {},
   "outputs": [],
   "source": [
    "logspace(-8,-3,num=5)"
   ]
  },
  {
   "cell_type": "markdown",
   "metadata": {},
   "source": [
    "# Создание новых признаков"
   ]
  },
  {
   "cell_type": "markdown",
   "metadata": {},
   "source": [
    "- **client_id** - идентификатор клиента\n",
    "- **education** - уровень образования\n",
    "- **sex** - пол заёмщика\n",
    "- **age** - возраст заёмщика\n",
    "- **car** - флаг наличия автомобиля\n",
    "- **car**_type\tфлаг - автомобиля-иномарки\n",
    "- **decline_app_cnt** - количество отказанных прошлых заявок\n",
    "- **good_work** - флаг наличия «хорошей» работы\n",
    "- **bki_request_cnt** - количество запросов в БКИ\n",
    "- **home_address** - категоризатор домашнего адреса\n",
    "- **work_address** - категоризатор рабочего адреса\n",
    "- **income** - доход заёмщика\n",
    "- **foreign_passport** - наличие загранпаспорта\n",
    "- **default** - наличие дефолта (целевая переменная)"
   ]
  },
  {
   "cell_type": "code",
   "execution_count": 38,
   "metadata": {},
   "outputs": [
    {
     "data": {
      "text/plain": [
       "\"from sklearn.preprocessing import PolynomialFeatures\\n\\npf = PolynomialFeatures(2)\\npoly_features = pf.fit_transform(vis_data[['balance_due', 'payment_amount']])\\npoly_features\\npoly_features.shape\""
      ]
     },
     "execution_count": 38,
     "metadata": {},
     "output_type": "execute_result"
    }
   ],
   "source": [
    "'''from sklearn.preprocessing import PolynomialFeatures\n",
    "\n",
    "pf = PolynomialFeatures(2)\n",
    "poly_features = pf.fit_transform(vis_data[['balance_due', 'payment_amount']])\n",
    "poly_features\n",
    "poly_features.shape'''"
   ]
  },
  {
   "cell_type": "code",
   "execution_count": 39,
   "metadata": {},
   "outputs": [],
   "source": [
    "data['bki_req_exist'] = (data.bki_request_cnt==0).astype(int)\n",
    "\n",
    "data['claster_1'] = data.client_id.lt(10000).astype(int)\n",
    "data['claster_2'] = data.client_id.between(10000,90000).astype(int)\n",
    "data['claster_3'] = data.client_id.gt(90000).astype(int)\n",
    "\n",
    "data['pry'] = np.log(data.bki_request_cnt/data.client_id +1)\n",
    "\n",
    "data['persistence'] = np.log(data.decline_app_cnt/data.client_id +1)\n",
    "\n",
    "# (data.bki_request_cnt/data.decline_app_cnt).value_counts(dropna=False)\n",
    "\n",
    "data['career'] = np.log((data.income/data.age)+1)\n",
    "\n",
    "coolness_car = np.array([2 if x=='Y' else 1  for x in data.car])\n",
    "coolness_import_car = np.array([2 if x=='Y' else 1  for x in data.car_type])\n",
    "coolness_pasport =  np.array([2 if x=='Y' else 1  for x in data.foreign_passport])\n",
    "coolness_work = np.array([2 if x=='Y' else 1  for x in data.good_work])\n",
    "data['collness'] = coolness_car*coolness_import_car*coolness_pasport*coolness_work"
   ]
  },
  {
   "cell_type": "code",
   "execution_count": 40,
   "metadata": {},
   "outputs": [
    {
     "data": {
      "text/plain": [
       "0.6762927608550441"
      ]
     },
     "execution_count": 40,
     "metadata": {},
     "output_type": "execute_result"
    }
   ],
   "source": [
    "y = data.default\n",
    "X_enriched = pre_process(data.drop(columns='default'))\n",
    "validation(X_enriched, y, LogisticRegression())"
   ]
  },
  {
   "cell_type": "code",
   "execution_count": 41,
   "metadata": {},
   "outputs": [],
   "source": [
    "from sklearn.preprocessing import PolynomialFeatures\n",
    "pf = PolynomialFeatures(2)"
   ]
  },
  {
   "cell_type": "code",
   "execution_count": 63,
   "metadata": {},
   "outputs": [
    {
     "data": {
      "text/plain": [
       "0.6771644148215692"
      ]
     },
     "execution_count": 63,
     "metadata": {},
     "output_type": "execute_result"
    }
   ],
   "source": [
    "num_uniq_enriched = data.nunique()\n",
    "num_cols_enriched = data.columns[num_uniq_enriched>=10]\n",
    "\n",
    "X_enriched_2 = pd.concat(\n",
    "    [X_enriched.drop(columns=num_cols_enriched),pd.DataFrame(pf.fit_transform(X_enriched[num_cols_enriched]))],axis=1)\n",
    "validation(X_enriched_2, y, LogisticRegression())"
   ]
  },
  {
   "cell_type": "code",
   "execution_count": null,
   "metadata": {},
   "outputs": [],
   "source": []
  },
  {
   "cell_type": "markdown",
   "metadata": {},
   "source": [
    "# Повторный отбор признаков"
   ]
  },
  {
   "cell_type": "code",
   "execution_count": 43,
   "metadata": {},
   "outputs": [
    {
     "name": "stderr",
     "output_type": "stream",
     "text": [
      "100%|██████████████████████████████████████████| 32/32 [03:53<00:00,  7.30s/it]\n"
     ]
    }
   ],
   "source": [
    "from tqdm import tqdm\n",
    "model = LogisticRegression(random_state=RANDOM_SEED)\n",
    "\n",
    "metrics_threshold = validation(X_enriched,y,model)\n",
    "unuseful_features = pd.Series([])\n",
    "\n",
    "for col in tqdm(X_enriched.columns):\n",
    "    X_tmp = X_enriched.drop(columns=col)\n",
    "    metrics_tmp = validation(X_tmp,y,model)\n",
    "    \n",
    "    if metrics_tmp > metrics_threshold : \n",
    "        unuseful_features[col] = metrics_tmp - metrics_threshold\n",
    "\n",
    "unuseful_features = unuseful_features.sort_values(ascending = False)"
   ]
  },
  {
   "cell_type": "code",
   "execution_count": 44,
   "metadata": {},
   "outputs": [
    {
     "name": "stderr",
     "output_type": "stream",
     "text": [
      "100%|██████████████████████████████████████████| 16/16 [01:43<00:00,  6.49s/it]\n"
     ]
    }
   ],
   "source": [
    "metrics_changes = pd.Series()\n",
    "\n",
    "for loc in tqdm(range(0,len(unuseful_features),1)):\n",
    "    to_drop = unuseful_features.index[:loc] \n",
    "    X_tmp = X_enriched.drop(columns=to_drop)\n",
    "    metrics_tmp = validation(X_tmp,y,model)\n",
    "    metrics_changes.loc[loc] = metrics_tmp"
   ]
  },
  {
   "cell_type": "code",
   "execution_count": 45,
   "metadata": {},
   "outputs": [
    {
     "data": {
      "text/plain": [
       "(3, 0.6764297276491924)"
      ]
     },
     "execution_count": 45,
     "metadata": {},
     "output_type": "execute_result"
    }
   ],
   "source": [
    "metrics_changes.idxmax(),  metrics_changes.max()"
   ]
  },
  {
   "cell_type": "code",
   "execution_count": 64,
   "metadata": {},
   "outputs": [
    {
     "name": "stderr",
     "output_type": "stream",
     "text": [
      "\n",
      "  0%|                                                   | 0/69 [00:00<?, ?it/s]\u001b[A\n",
      "  1%|▌                                          | 1/69 [00:18<21:29, 18.97s/it]\u001b[A\n",
      "  3%|█▏                                         | 2/69 [00:37<20:59, 18.80s/it]\u001b[A\n",
      "  4%|█▊                                         | 3/69 [00:57<21:07, 19.21s/it]\u001b[A\n",
      "  6%|██▍                                        | 4/69 [01:16<20:41, 19.10s/it]\u001b[A\n",
      "  7%|███                                        | 5/69 [01:36<20:51, 19.55s/it]\u001b[A\n",
      "  9%|███▋                                       | 6/69 [01:56<20:34, 19.59s/it]\u001b[A\n",
      " 10%|████▎                                      | 7/69 [02:18<21:03, 20.37s/it]\u001b[A\n",
      " 12%|████▉                                      | 8/69 [02:37<20:06, 19.77s/it]\u001b[A\n",
      " 13%|█████▌                                     | 9/69 [02:56<19:42, 19.71s/it]\u001b[A\n",
      " 14%|██████                                    | 10/69 [03:15<19:12, 19.54s/it]\u001b[A\n",
      " 16%|██████▋                                   | 11/69 [03:35<18:58, 19.63s/it]\u001b[A\n",
      " 17%|███████▎                                  | 12/69 [03:54<18:26, 19.41s/it]\u001b[A\n",
      " 19%|███████▉                                  | 13/69 [04:13<18:00, 19.29s/it]\u001b[A\n",
      " 20%|████████▌                                 | 14/69 [04:34<18:05, 19.74s/it]\u001b[A\n",
      " 22%|█████████▏                                | 15/69 [04:51<17:03, 18.95s/it]\u001b[A\n",
      " 23%|█████████▋                                | 16/69 [05:09<16:35, 18.78s/it]\u001b[A\n",
      " 25%|██████████▎                               | 17/69 [05:28<16:06, 18.59s/it]\u001b[A\n",
      " 26%|██████████▉                               | 18/69 [05:46<15:50, 18.63s/it]\u001b[A\n",
      " 28%|███████████▌                              | 19/69 [06:07<15:57, 19.14s/it]\u001b[A\n",
      " 29%|████████████▏                             | 20/69 [06:25<15:29, 18.98s/it]\u001b[A\n",
      " 30%|████████████▊                             | 21/69 [06:42<14:44, 18.44s/it]\u001b[A\n",
      " 32%|█████████████▍                            | 22/69 [07:01<14:34, 18.60s/it]\u001b[A\n",
      " 33%|██████████████                            | 23/69 [07:21<14:25, 18.82s/it]\u001b[A\n",
      " 35%|██████████████▌                           | 24/69 [07:40<14:13, 18.97s/it]\u001b[A\n",
      " 36%|███████████████▏                          | 25/69 [08:00<14:00, 19.11s/it]\u001b[A\n",
      " 38%|███████████████▊                          | 26/69 [08:18<13:29, 18.83s/it]\u001b[A\n",
      " 39%|████████████████▍                         | 27/69 [08:35<12:57, 18.51s/it]\u001b[A\n",
      " 41%|█████████████████                         | 28/69 [08:55<12:46, 18.70s/it]\u001b[A\n",
      " 42%|█████████████████▋                        | 29/69 [09:11<12:05, 18.15s/it]\u001b[A\n",
      " 43%|██████████████████▎                       | 30/69 [09:30<11:53, 18.28s/it]\u001b[A\n",
      " 45%|██████████████████▊                       | 31/69 [09:49<11:40, 18.44s/it]\u001b[A\n",
      " 46%|███████████████████▍                      | 32/69 [10:08<11:30, 18.65s/it]\u001b[A\n",
      " 48%|████████████████████                      | 33/69 [10:26<11:01, 18.37s/it]\u001b[A\n",
      " 49%|████████████████████▋                     | 34/69 [10:43<10:35, 18.16s/it]\u001b[A\n",
      " 51%|█████████████████████▎                    | 35/69 [11:01<10:08, 17.89s/it]\u001b[A\n",
      " 52%|█████████████████████▉                    | 36/69 [11:19<09:53, 17.98s/it]\u001b[A"
     ]
    },
    {
     "ename": "IndexError",
     "evalue": "index 12 is out of bounds for axis 0 with size 11",
     "output_type": "error",
     "traceback": [
      "\u001b[1;31m---------------------------------------------------------------------------\u001b[0m",
      "\u001b[1;31mKeyError\u001b[0m                                  Traceback (most recent call last)",
      "\u001b[1;32m~\\Anaconda3\\lib\\site-packages\\pandas\\core\\series.py\u001b[0m in \u001b[0;36m_set_with_engine\u001b[1;34m(self, key, value)\u001b[0m\n\u001b[0;32m    944\u001b[0m         \u001b[1;32mtry\u001b[0m\u001b[1;33m:\u001b[0m\u001b[1;33m\u001b[0m\u001b[0m\n\u001b[1;32m--> 945\u001b[1;33m             \u001b[0mself\u001b[0m\u001b[1;33m.\u001b[0m\u001b[0mindex\u001b[0m\u001b[1;33m.\u001b[0m\u001b[0m_engine\u001b[0m\u001b[1;33m.\u001b[0m\u001b[0mset_value\u001b[0m\u001b[1;33m(\u001b[0m\u001b[0mvalues\u001b[0m\u001b[1;33m,\u001b[0m \u001b[0mkey\u001b[0m\u001b[1;33m,\u001b[0m \u001b[0mvalue\u001b[0m\u001b[1;33m)\u001b[0m\u001b[1;33m\u001b[0m\u001b[0m\n\u001b[0m\u001b[0;32m    946\u001b[0m             \u001b[1;32mreturn\u001b[0m\u001b[1;33m\u001b[0m\u001b[0m\n",
      "\u001b[1;32mpandas\\_libs\\index.pyx\u001b[0m in \u001b[0;36mpandas._libs.index.IndexEngine.set_value\u001b[1;34m()\u001b[0m\n",
      "\u001b[1;32mpandas\\_libs\\index.pyx\u001b[0m in \u001b[0;36mpandas._libs.index.IndexEngine.set_value\u001b[1;34m()\u001b[0m\n",
      "\u001b[1;32mpandas\\_libs\\index.pyx\u001b[0m in \u001b[0;36mpandas._libs.index.IndexEngine.get_loc\u001b[1;34m()\u001b[0m\n",
      "\u001b[1;32mpandas\\_libs\\hashtable_class_helper.pxi\u001b[0m in \u001b[0;36mpandas._libs.hashtable.PyObjectHashTable.get_item\u001b[1;34m()\u001b[0m\n",
      "\u001b[1;32mpandas\\_libs\\hashtable_class_helper.pxi\u001b[0m in \u001b[0;36mpandas._libs.hashtable.PyObjectHashTable.get_item\u001b[1;34m()\u001b[0m\n",
      "\u001b[1;31mKeyError\u001b[0m: 12",
      "\nDuring handling of the above exception, another exception occurred:\n",
      "\u001b[1;31mKeyError\u001b[0m                                  Traceback (most recent call last)",
      "\u001b[1;32m~\\Anaconda3\\lib\\site-packages\\pandas\\core\\indexes\\base.py\u001b[0m in \u001b[0;36mget_loc\u001b[1;34m(self, key, method, tolerance)\u001b[0m\n\u001b[0;32m   3062\u001b[0m             \u001b[1;32mtry\u001b[0m\u001b[1;33m:\u001b[0m\u001b[1;33m\u001b[0m\u001b[0m\n\u001b[1;32m-> 3063\u001b[1;33m                 \u001b[1;32mreturn\u001b[0m \u001b[0mself\u001b[0m\u001b[1;33m.\u001b[0m\u001b[0m_engine\u001b[0m\u001b[1;33m.\u001b[0m\u001b[0mget_loc\u001b[0m\u001b[1;33m(\u001b[0m\u001b[0mkey\u001b[0m\u001b[1;33m)\u001b[0m\u001b[1;33m\u001b[0m\u001b[0m\n\u001b[0m\u001b[0;32m   3064\u001b[0m             \u001b[1;32mexcept\u001b[0m \u001b[0mKeyError\u001b[0m\u001b[1;33m:\u001b[0m\u001b[1;33m\u001b[0m\u001b[0m\n",
      "\u001b[1;32mpandas\\_libs\\index.pyx\u001b[0m in \u001b[0;36mpandas._libs.index.IndexEngine.get_loc\u001b[1;34m()\u001b[0m\n",
      "\u001b[1;32mpandas\\_libs\\index.pyx\u001b[0m in \u001b[0;36mpandas._libs.index.IndexEngine.get_loc\u001b[1;34m()\u001b[0m\n",
      "\u001b[1;32mpandas\\_libs\\hashtable_class_helper.pxi\u001b[0m in \u001b[0;36mpandas._libs.hashtable.PyObjectHashTable.get_item\u001b[1;34m()\u001b[0m\n",
      "\u001b[1;32mpandas\\_libs\\hashtable_class_helper.pxi\u001b[0m in \u001b[0;36mpandas._libs.hashtable.PyObjectHashTable.get_item\u001b[1;34m()\u001b[0m\n",
      "\u001b[1;31mKeyError\u001b[0m: 12",
      "\nDuring handling of the above exception, another exception occurred:\n",
      "\u001b[1;31mKeyError\u001b[0m                                  Traceback (most recent call last)",
      "\u001b[1;32m~\\Anaconda3\\lib\\site-packages\\pandas\\core\\series.py\u001b[0m in \u001b[0;36msetitem\u001b[1;34m(key, value)\u001b[0m\n\u001b[0;32m    885\u001b[0m             \u001b[1;32mtry\u001b[0m\u001b[1;33m:\u001b[0m\u001b[1;33m\u001b[0m\u001b[0m\n\u001b[1;32m--> 886\u001b[1;33m                 \u001b[0mself\u001b[0m\u001b[1;33m.\u001b[0m\u001b[0m_set_with_engine\u001b[0m\u001b[1;33m(\u001b[0m\u001b[0mkey\u001b[0m\u001b[1;33m,\u001b[0m \u001b[0mvalue\u001b[0m\u001b[1;33m)\u001b[0m\u001b[1;33m\u001b[0m\u001b[0m\n\u001b[0m\u001b[0;32m    887\u001b[0m                 \u001b[1;32mreturn\u001b[0m\u001b[1;33m\u001b[0m\u001b[0m\n",
      "\u001b[1;32m~\\Anaconda3\\lib\\site-packages\\pandas\\core\\series.py\u001b[0m in \u001b[0;36m_set_with_engine\u001b[1;34m(self, key, value)\u001b[0m\n\u001b[0;32m    947\u001b[0m         \u001b[1;32mexcept\u001b[0m \u001b[0mKeyError\u001b[0m\u001b[1;33m:\u001b[0m\u001b[1;33m\u001b[0m\u001b[0m\n\u001b[1;32m--> 948\u001b[1;33m             \u001b[0mvalues\u001b[0m\u001b[1;33m[\u001b[0m\u001b[0mself\u001b[0m\u001b[1;33m.\u001b[0m\u001b[0mindex\u001b[0m\u001b[1;33m.\u001b[0m\u001b[0mget_loc\u001b[0m\u001b[1;33m(\u001b[0m\u001b[0mkey\u001b[0m\u001b[1;33m)\u001b[0m\u001b[1;33m]\u001b[0m \u001b[1;33m=\u001b[0m \u001b[0mvalue\u001b[0m\u001b[1;33m\u001b[0m\u001b[0m\n\u001b[0m\u001b[0;32m    949\u001b[0m             \u001b[1;32mreturn\u001b[0m\u001b[1;33m\u001b[0m\u001b[0m\n",
      "\u001b[1;32m~\\Anaconda3\\lib\\site-packages\\pandas\\core\\indexes\\base.py\u001b[0m in \u001b[0;36mget_loc\u001b[1;34m(self, key, method, tolerance)\u001b[0m\n\u001b[0;32m   3064\u001b[0m             \u001b[1;32mexcept\u001b[0m \u001b[0mKeyError\u001b[0m\u001b[1;33m:\u001b[0m\u001b[1;33m\u001b[0m\u001b[0m\n\u001b[1;32m-> 3065\u001b[1;33m                 \u001b[1;32mreturn\u001b[0m \u001b[0mself\u001b[0m\u001b[1;33m.\u001b[0m\u001b[0m_engine\u001b[0m\u001b[1;33m.\u001b[0m\u001b[0mget_loc\u001b[0m\u001b[1;33m(\u001b[0m\u001b[0mself\u001b[0m\u001b[1;33m.\u001b[0m\u001b[0m_maybe_cast_indexer\u001b[0m\u001b[1;33m(\u001b[0m\u001b[0mkey\u001b[0m\u001b[1;33m)\u001b[0m\u001b[1;33m)\u001b[0m\u001b[1;33m\u001b[0m\u001b[0m\n\u001b[0m\u001b[0;32m   3066\u001b[0m \u001b[1;33m\u001b[0m\u001b[0m\n",
      "\u001b[1;32mpandas\\_libs\\index.pyx\u001b[0m in \u001b[0;36mpandas._libs.index.IndexEngine.get_loc\u001b[1;34m()\u001b[0m\n",
      "\u001b[1;32mpandas\\_libs\\index.pyx\u001b[0m in \u001b[0;36mpandas._libs.index.IndexEngine.get_loc\u001b[1;34m()\u001b[0m\n",
      "\u001b[1;32mpandas\\_libs\\hashtable_class_helper.pxi\u001b[0m in \u001b[0;36mpandas._libs.hashtable.PyObjectHashTable.get_item\u001b[1;34m()\u001b[0m\n",
      "\u001b[1;32mpandas\\_libs\\hashtable_class_helper.pxi\u001b[0m in \u001b[0;36mpandas._libs.hashtable.PyObjectHashTable.get_item\u001b[1;34m()\u001b[0m\n",
      "\u001b[1;31mKeyError\u001b[0m: 12",
      "\nDuring handling of the above exception, another exception occurred:\n",
      "\u001b[1;31mIndexError\u001b[0m                                Traceback (most recent call last)",
      "\u001b[1;32m<ipython-input-64-4281b9310a5d>\u001b[0m in \u001b[0;36m<module>\u001b[1;34m()\u001b[0m\n\u001b[0;32m     12\u001b[0m \u001b[1;33m\u001b[0m\u001b[0m\n\u001b[0;32m     13\u001b[0m     \u001b[1;32mif\u001b[0m \u001b[0mmetrics_tmp\u001b[0m \u001b[1;33m>\u001b[0m \u001b[0mmetrics_threshold\u001b[0m \u001b[1;33m:\u001b[0m\u001b[1;33m\u001b[0m\u001b[0m\n\u001b[1;32m---> 14\u001b[1;33m         \u001b[0munuseful_features\u001b[0m\u001b[1;33m[\u001b[0m\u001b[0mcol\u001b[0m\u001b[1;33m]\u001b[0m \u001b[1;33m=\u001b[0m \u001b[0mmetrics_tmp\u001b[0m \u001b[1;33m-\u001b[0m \u001b[0mmetrics_threshold\u001b[0m\u001b[1;33m\u001b[0m\u001b[0m\n\u001b[0m\u001b[0;32m     15\u001b[0m \u001b[1;33m\u001b[0m\u001b[0m\n\u001b[0;32m     16\u001b[0m \u001b[0munuseful_features\u001b[0m \u001b[1;33m=\u001b[0m \u001b[0munuseful_features\u001b[0m\u001b[1;33m.\u001b[0m\u001b[0msort_values\u001b[0m\u001b[1;33m(\u001b[0m\u001b[0mascending\u001b[0m \u001b[1;33m=\u001b[0m \u001b[1;32mFalse\u001b[0m\u001b[1;33m)\u001b[0m\u001b[1;33m\u001b[0m\u001b[0m\n",
      "\u001b[1;32m~\\Anaconda3\\lib\\site-packages\\pandas\\core\\series.py\u001b[0m in \u001b[0;36m__setitem__\u001b[1;34m(self, key, value)\u001b[0m\n\u001b[0;32m    936\u001b[0m         \u001b[1;31m# do the setitem\u001b[0m\u001b[1;33m\u001b[0m\u001b[1;33m\u001b[0m\u001b[0m\n\u001b[0;32m    937\u001b[0m         \u001b[0mcacher_needs_updating\u001b[0m \u001b[1;33m=\u001b[0m \u001b[0mself\u001b[0m\u001b[1;33m.\u001b[0m\u001b[0m_check_is_chained_assignment_possible\u001b[0m\u001b[1;33m(\u001b[0m\u001b[1;33m)\u001b[0m\u001b[1;33m\u001b[0m\u001b[0m\n\u001b[1;32m--> 938\u001b[1;33m         \u001b[0msetitem\u001b[0m\u001b[1;33m(\u001b[0m\u001b[0mkey\u001b[0m\u001b[1;33m,\u001b[0m \u001b[0mvalue\u001b[0m\u001b[1;33m)\u001b[0m\u001b[1;33m\u001b[0m\u001b[0m\n\u001b[0m\u001b[0;32m    939\u001b[0m         \u001b[1;32mif\u001b[0m \u001b[0mcacher_needs_updating\u001b[0m\u001b[1;33m:\u001b[0m\u001b[1;33m\u001b[0m\u001b[0m\n\u001b[0;32m    940\u001b[0m             \u001b[0mself\u001b[0m\u001b[1;33m.\u001b[0m\u001b[0m_maybe_update_cacher\u001b[0m\u001b[1;33m(\u001b[0m\u001b[1;33m)\u001b[0m\u001b[1;33m\u001b[0m\u001b[0m\n",
      "\u001b[1;32m~\\Anaconda3\\lib\\site-packages\\pandas\\core\\series.py\u001b[0m in \u001b[0;36msetitem\u001b[1;34m(key, value)\u001b[0m\n\u001b[0;32m    893\u001b[0m                         not self.index.inferred_type == 'integer'):\n\u001b[0;32m    894\u001b[0m \u001b[1;33m\u001b[0m\u001b[0m\n\u001b[1;32m--> 895\u001b[1;33m                     \u001b[0mvalues\u001b[0m\u001b[1;33m[\u001b[0m\u001b[0mkey\u001b[0m\u001b[1;33m]\u001b[0m \u001b[1;33m=\u001b[0m \u001b[0mvalue\u001b[0m\u001b[1;33m\u001b[0m\u001b[0m\n\u001b[0m\u001b[0;32m    896\u001b[0m                     \u001b[1;32mreturn\u001b[0m\u001b[1;33m\u001b[0m\u001b[0m\n\u001b[0;32m    897\u001b[0m                 \u001b[1;32melif\u001b[0m \u001b[0mkey\u001b[0m \u001b[1;32mis\u001b[0m \u001b[0mEllipsis\u001b[0m\u001b[1;33m:\u001b[0m\u001b[1;33m\u001b[0m\u001b[0m\n",
      "\u001b[1;31mIndexError\u001b[0m: index 12 is out of bounds for axis 0 with size 11"
     ]
    }
   ],
   "source": [
    "from tqdm import tqdm\n",
    "model = LogisticRegression(random_state=RANDOM_SEED)\n",
    "\n",
    "metrics_threshold = validation(X_enriched_2,y,model)\n",
    "unuseful_features = pd.Series([])\n",
    "\n",
    "for col in tqdm(X_enriched_2.columns):\n",
    "    X_tmp = X_enriched_2.drop(columns=col)\n",
    "    metrics_tmp = validation(X_tmp,y,model)\n",
    "    \n",
    "    if metrics_tmp > metrics_threshold : \n",
    "        unuseful_features[col] = metrics_tmp - metrics_threshold\n",
    "\n",
    "unuseful_features = unuseful_features.sort_values(ascending = False)"
   ]
  },
  {
   "cell_type": "code",
   "execution_count": null,
   "metadata": {},
   "outputs": [],
   "source": [
    "metrics_changes_2 = pd.Series()\n",
    "\n",
    "for loc in tqdm(range(0,len(unuseful_features),1)):\n",
    "    to_drop = unuseful_features.index[:loc] \n",
    "    X_tmp = X_enriched_2.drop(columns=to_drop)\n",
    "    metrics_tmp = validation(X_tmp,y,model)\n",
    "    metrics_changes_2.loc[loc] = metrics_tmp"
   ]
  },
  {
   "cell_type": "code",
   "execution_count": null,
   "metadata": {},
   "outputs": [],
   "source": [
    "metrics_changes_2.idxmax(),  metrics_changes_2.max()"
   ]
  },
  {
   "cell_type": "code",
   "execution_count": 67,
   "metadata": {},
   "outputs": [
    {
     "data": {
      "text/plain": [
       "car                 2.832445e-06\n",
       "car_type            8.621444e-07\n",
       "foreign_passport    2.494927e-05\n",
       "bki_req_exist       4.099226e-05\n",
       "education_ACD       2.354045e-05\n",
       "education_GRD       1.423449e-06\n",
       "education_PGR       4.818922e-06\n",
       "education_SCH       3.459885e-07\n",
       "education_UGR       5.234710e-06\n",
       "work_address_2      3.527637e-06\n",
       "collness_8          4.173024e-05\n",
       "dtype: float64"
      ]
     },
     "execution_count": 67,
     "metadata": {},
     "output_type": "execute_result"
    }
   ],
   "source": [
    "unuseful_features"
   ]
  },
  {
   "cell_type": "markdown",
   "metadata": {},
   "source": [
    "# Подбор гипнерпараметров"
   ]
  },
  {
   "cell_type": "code",
   "execution_count": 68,
   "metadata": {},
   "outputs": [],
   "source": [
    "X_opt, _, y_opt, _ = train_test_split(X_enriched, y, train_size=0.7, stratify=y, random_state=RANDOM_SEED)"
   ]
  },
  {
   "cell_type": "code",
   "execution_count": 69,
   "metadata": {},
   "outputs": [
    {
     "name": "stdout",
     "output_type": "stream",
     "text": [
      "Wall time: 32min 5s\n"
     ]
    }
   ],
   "source": [
    "%%time\n",
    "\n",
    "import warnings\n",
    "warnings.filterwarnings(\"ignore\")\n",
    "\n",
    "n_iter = 10\n",
    "search = pd.Series()\n",
    "\n",
    "for solver in solvers_hyperparameters:\n",
    "    hyperparameters = solvers_hyperparameters[solver]\n",
    "    model = LogisticRegression(solver=solver, random_state=RANDOM_SEED)\n",
    "    clf = RandomizedSearchCV(model, hyperparameters, n_iter=n_iter, scoring='roc_auc', cv=5, random_state=RANDOM_SEED)\n",
    "    search[solver] = clf.fit(X_opt, y_opt)"
   ]
  },
  {
   "cell_type": "code",
   "execution_count": 70,
   "metadata": {},
   "outputs": [
    {
     "data": {
      "text/plain": [
       "newton-cg    0.676507\n",
       "lbfgs        0.676507\n",
       "liblinear    0.676586\n",
       "sag          0.676496\n",
       "saga         0.676581\n",
       "dtype: float64"
      ]
     },
     "execution_count": 70,
     "metadata": {},
     "output_type": "execute_result"
    }
   ],
   "source": [
    "search.apply(lambda x: x.best_score_)"
   ]
  },
  {
   "cell_type": "code",
   "execution_count": 71,
   "metadata": {},
   "outputs": [
    {
     "data": {
      "text/plain": [
       "{'tol': 0.001,\n",
       " 'penalty': 'l2',\n",
       " 'max_iter': 600,\n",
       " 'class_weight': {0: 1, 1: 1},\n",
       " 'C': 10.0}"
      ]
     },
     "execution_count": 71,
     "metadata": {},
     "output_type": "execute_result"
    }
   ],
   "source": [
    "search.sag.best_params_"
   ]
  },
  {
   "cell_type": "markdown",
   "metadata": {},
   "source": [
    "# ОПЫТЫ"
   ]
  },
  {
   "cell_type": "code",
   "execution_count": null,
   "metadata": {},
   "outputs": [],
   "source": [
    "validation(X.drop(columns='client_id'),y).mean()"
   ]
  },
  {
   "cell_type": "code",
   "execution_count": null,
   "metadata": {},
   "outputs": [],
   "source": []
  },
  {
   "cell_type": "code",
   "execution_count": null,
   "metadata": {},
   "outputs": [],
   "source": []
  },
  {
   "cell_type": "code",
   "execution_count": null,
   "metadata": {},
   "outputs": [],
   "source": []
  },
  {
   "cell_type": "code",
   "execution_count": null,
   "metadata": {},
   "outputs": [],
   "source": []
  },
  {
   "cell_type": "markdown",
   "metadata": {},
   "source": [
    "## ПОДВАЛ\n"
   ]
  },
  {
   "cell_type": "code",
   "execution_count": 181,
   "metadata": {},
   "outputs": [],
   "source": [
    "skf = StratifiedKFold(n_splits=5)\n",
    "\n",
    "\n",
    "kf.split(X)\n",
    "\n",
    "for train_index, test_index in skf.split(X, y):\n",
    "    print(\"TRAIN:\", train_index, \"TEST:\", test_index)\n",
    "    X_train, X_test = X[train_index], X[test_index]\n",
    "    y_train, y_test = y[train_index], y[test_index]\n",
    "    "
   ]
  },
  {
   "cell_type": "code",
   "execution_count": 41,
   "metadata": {},
   "outputs": [
    {
     "name": "stdout",
     "output_type": "stream",
     "text": [
      "Всего категориальных  признаков 3. К ним относятся: \u001b[1meducation\u001b[0m, \u001b[1mhome_address\u001b[0m, \u001b[1mwork_address\u001b[0m\n"
     ]
    },
    {
     "data": {
      "text/plain": [
       "MultiIndex(levels=[['ACD', 'GRD', 'PGR', 'SCH', 'UGR'], [0, 1]],\n",
       "           labels=[[0, 0, 1, 1, 2, 2, 3, 3, 4, 4], [0, 1, 0, 1, 0, 1, 0, 1, 0, 1]],\n",
       "           names=['education', 'default'])"
      ]
     },
     "execution_count": 41,
     "metadata": {},
     "output_type": "execute_result"
    },
    {
     "data": {
      "image/png": "[encoded data removed]",
      "text/plain": [
       "<Figure size 432x288 with 1 Axes>"
      ]
     },
     "metadata": {},
     "output_type": "display_data"
    },
    {
     "data": {
      "image/png": "[encoded data removed]",
      "text/plain": [
       "<Figure size 1152x360 with 3 Axes>"
      ]
     },
     "metadata": {},
     "output_type": "display_data"
    }
   ],
   "source": [
    "def num_visualisation(row):\n",
    "    min_diff = pd.Series(row.unique()).sort_values().diff().min()\n",
    "    bins = min(int((row.max()-row.min()) / min_diff),100)\n",
    "    bins_range = row.min()-min_diff/2 ,row.max()+min_diff/2 \n",
    "\n",
    "    fig = plt.figure()\n",
    "    \n",
    "    ax1 = fig.add_axes([0, 0.35, 1, 1])\n",
    "    row.plot.hist(bins=bins,density=True,alpha = 0.5)\n",
    "    \n",
    "    ax2 = fig.add_axes([0, 0, 1, 0.2]) \n",
    "    ax1.get_shared_x_axes().join(ax1, ax2)\n",
    "    sns.boxplot(x=row)\n",
    "    \n",
    "    plt.tight_layout()    \n",
    "\n",
    "data.groupby('education').default.value_counts(normalize=True).plot.bar(stacked=True)\n",
    "\n",
    "df=data[cat_cols]\n",
    "\n",
    "if 1:\n",
    "    columns = df.columns\n",
    "    cols_num = df.shape[1]\n",
    "    \n",
    "    fstr = '\\033[1m{}\\033[0m, '* (len(columns)-1) + '\\033[1m{}\\033[0m'\n",
    "    print(('Всего категориальных  признаков {}. К ним относятся: ' + fstr).format(len(columns),*columns))\n",
    "    \n",
    "    indent = 0.05\n",
    "    fig = plt.figure(figsize=(16,5))\n",
    "    for i,col in enumerate(columns):\n",
    "        row = df[col]\n",
    "        bins = row.nunique()\n",
    "        \n",
    "        plt.subplot(1,3,i+1)\n",
    "        plt.title(col)\n",
    "        plt.hist([data[col][data.default==1].dropna(),data[col][data.default==0].dropna()],\n",
    "                 density = True, rwidth=None, bins=bins); #align = 'mid'  'left', 'mid', 'right'\n",
    "        \n",
    "\n",
    "\n",
    "data.home_address.value_counts(normalize=True).plot.bar()\n",
    "\n",
    "data.education.value_counts(normalize=True).plot.bar()\n",
    "\n",
    "aa = data.groupby('education').default.value_counts(normalize=True)\n",
    "data.groupby('education').default.value_counts(normalize=True).index"
   ]
  },
  {
   "cell_type": "markdown",
   "metadata": {},
   "source": [
    "## НЫЧКА"
   ]
  },
  {
   "cell_type": "code",
   "execution_count": 72,
   "metadata": {
    "scrolled": false
   },
   "outputs": [
    {
     "data": {
      "text/plain": [
       "<matplotlib.axes._subplots.AxesSubplot at 0x213ed2a7448>"
      ]
     },
     "execution_count": 72,
     "metadata": {},
     "output_type": "execute_result"
    },
    {
     "data": {
      "image/png": "[encoded data removed]",
      "text/plain": [
       "<Figure size 432x288 with 1 Axes>"
      ]
     },
     "metadata": {
      "needs_background": "light"
     },
     "output_type": "display_data"
    },
    {
     "data": {
      "image/png": "[encoded data removed]",
      "text/plain": [
       "<Figure size 432x288 with 1 Axes>"
      ]
     },
     "metadata": {
      "needs_background": "light"
     },
     "output_type": "display_data"
    }
   ],
   "source": [
    "pd.DataFrame({'neg':data.education[data.default==0].value_counts(normalize=True),\n",
    "              'pos':data.education[data.default==1].value_counts(normalize=True)}).plot.bar()\n",
    "\n",
    "pd.DataFrame({'neg':data.groupby('education').default.value_counts(normalize=True)[:,0],\n",
    "              'pos':data.groupby('education').default.value_counts(normalize=True)[:,1]}).plot.bar(stacked=True)"
   ]
  },
  {
   "cell_type": "code",
   "execution_count": 40,
   "metadata": {},
   "outputs": [],
   "source": [
    "# from pprint import pprint\n",
    "# pprint(aaa)"
   ]
  },
  {
   "cell_type": "code",
   "execution_count": 47,
   "metadata": {},
   "outputs": [
    {
     "data": {
      "text/plain": [
       "array([1.e-08, 1.e-07, 1.e-06, 1.e-05, 1.e-04, 1.e-03])"
      ]
     },
     "execution_count": 47,
     "metadata": {},
     "output_type": "execute_result"
    }
   ],
   "source": [
    "logspace(-8,-3,6)"
   ]
  },
  {
   "cell_type": "code",
   "execution_count": 45,
   "metadata": {},
   "outputs": [
    {
     "data": {
      "text/plain": [
       "array([1.e-03, 1.e-02, 1.e-01, 1.e+00, 1.e+01, 1.e+02, 1.e+03])"
      ]
     },
     "execution_count": 45,
     "metadata": {},
     "output_type": "execute_result"
    }
   ],
   "source": [
    "np.logspace(-3, 3, 7)"
   ]
  },
  {
   "cell_type": "code",
   "execution_count": null,
   "metadata": {},
   "outputs": [],
   "source": []
  }
 ],
 "metadata": {
  "kernelspec": {
   "display_name": "Python 3",
   "language": "python",
   "name": "python3"
  },
  "language_info": {
   "codemirror_mode": {
    "name": "ipython",
    "version": 3
   },
   "file_extension": ".py",
   "mimetype": "text/x-python",
   "name": "python",
   "nbconvert_exporter": "python",
   "pygments_lexer": "ipython3",
   "version": "3.6.5"
  }
 },
 "nbformat": 4,
 "nbformat_minor": 2
}
