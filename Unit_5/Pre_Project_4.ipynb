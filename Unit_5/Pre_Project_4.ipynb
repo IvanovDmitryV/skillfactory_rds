{
 "cells": [
  {
   "cell_type": "code",
   "execution_count": 1,
   "metadata": {},
   "outputs": [],
   "source": [
    "from pandas import Series\n",
    "import pandas as pd\n",
    "import numpy as np\n",
    "\n",
    "\n",
    "import matplotlib.pyplot as plt\n",
    "import seaborn as sns\n",
    "\n",
    "from sklearn.feature_selection import f_classif, mutual_info_classif\n",
    "from sklearn.preprocessing import LabelEncoder, OneHotEncoder, StandardScaler\n",
    "\n",
    "from sklearn.model_selection import train_test_split\n",
    "from sklearn.linear_model import LogisticRegression\n",
    "\n",
    "\n",
    "from sklearn.metrics import confusion_matrix\n",
    "from sklearn.metrics import auc, roc_auc_score, roc_curve"
   ]
  },
  {
   "cell_type": "code",
   "execution_count": 2,
   "metadata": {},
   "outputs": [],
   "source": [
    "data = pd.read_csv('./Project_4_data/train.csv')"
   ]
  },
  {
   "cell_type": "markdown",
   "metadata": {},
   "source": [
    "### Задание 1\n",
    "Сколько записей содержит набор данных для моделирования?"
   ]
  },
  {
   "cell_type": "code",
   "execution_count": 3,
   "metadata": {},
   "outputs": [
    {
     "data": {
      "text/plain": [
       "73799"
      ]
     },
     "execution_count": 3,
     "metadata": {},
     "output_type": "execute_result"
    }
   ],
   "source": [
    "data.shape[0]"
   ]
  },
  {
   "cell_type": "markdown",
   "metadata": {},
   "source": [
    " **Посмотрим на данные:**\n",
    " \n",
    " |         |                     |\n",
    " |---------|---------------------|\n",
    " |client_id|идентификатор клиента|\n",
    " |education\t|уровень образования|\n",
    " |sex\t|пол заёмщика|\n",
    " |age\t|возраст заёмщика|\n",
    " |car|\tфлаг наличия автомобиля|\n",
    " |car_type|\tфлаг автомобиля-иномарки|\n",
    " |decline_app_cnt|\tколичество отказанных прошлых заявок|\n",
    " |good_work|\tфлаг наличия «хорошей» работы|\n",
    " |bki_request_cnt|\tколичество запросов в БКИ|\n",
    " |home_address|\tкатегоризатор домашнего адреса|\n",
    " |work_address|\tкатегоризатор рабочего адреса|\n",
    " |income|\tдоход заёмщика|\n",
    " foreign_passport|\tналичие загранпаспорта|\n",
    " |default|\tналичие дефолта|"
   ]
  },
  {
   "cell_type": "code",
   "execution_count": 4,
   "metadata": {},
   "outputs": [],
   "source": [
    "# удалим client_id идентификатор клиента\n",
    "data.drop(columns='client_id',inplace=True)"
   ]
  },
  {
   "cell_type": "markdown",
   "metadata": {},
   "source": [
    "### Задание 2\n",
    "Постройте диаграмму для переменной `default`. Каких клиентов у банка больше?\n",
    "- совершивших дефолт\n",
    "- без дефолта"
   ]
  },
  {
   "cell_type": "code",
   "execution_count": 5,
   "metadata": {},
   "outputs": [
    {
     "data": {
      "image/png": "[encoded data removed]",
      "text/plain": [
       "<Figure size 432x288 with 1 Axes>"
      ]
     },
     "metadata": {
      "needs_background": "light"
     },
     "output_type": "display_data"
    }
   ],
   "source": [
    "sns.countplot(x=\"default\", data=data);"
   ]
  },
  {
   "cell_type": "markdown",
   "metadata": {},
   "source": [
    "Посмотрим на тип данных и наличие пропусков:"
   ]
  },
  {
   "cell_type": "code",
   "execution_count": 6,
   "metadata": {},
   "outputs": [
    {
     "name": "stdout",
     "output_type": "stream",
     "text": [
      "<class 'pandas.core.frame.DataFrame'>\n",
      "RangeIndex: 73799 entries, 0 to 73798\n",
      "Columns: 13 entries, education to default\n",
      "dtypes: int64(8), object(5)\n",
      "memory usage: 7.3+ MB\n",
      "\n",
      "education            <class 'str'>\n",
      "sex                  <class 'str'>\n",
      "age                  <class 'numpy.int64'>\n",
      "car                  <class 'str'>\n",
      "car_type             <class 'str'>\n",
      "decline_app_cnt      <class 'numpy.int64'>\n",
      "good_work            <class 'numpy.int64'>\n",
      "bki_request_cnt      <class 'numpy.int64'>\n",
      "home_address         <class 'numpy.int64'>\n",
      "work_address         <class 'numpy.int64'>\n",
      "income               <class 'numpy.int64'>\n",
      "foreign_passport     <class 'str'>\n",
      "default              <class 'numpy.int64'>\n"
     ]
    },
    {
     "data": {
      "text/plain": [
       "education           307\n",
       "sex                   0\n",
       "age                   0\n",
       "car                   0\n",
       "car_type              0\n",
       "decline_app_cnt       0\n",
       "good_work             0\n",
       "bki_request_cnt       0\n",
       "home_address          0\n",
       "work_address          0\n",
       "income                0\n",
       "foreign_passport      0\n",
       "default               0\n",
       "dtype: int64"
      ]
     },
     "execution_count": 6,
     "metadata": {},
     "output_type": "execute_result"
    }
   ],
   "source": [
    "data.info(verbose=False); print()\n",
    "\n",
    "for col in data.columns: print('{:20} {}'.format(col, type(data.loc[0][col])))\n",
    "\n",
    "data.isna().sum()"
   ]
  },
  {
   "cell_type": "markdown",
   "metadata": {},
   "source": [
    "В данных о клиентах присутствуют переменные всех типов, не все имеют числовую запись, а также есть пропущенные значения. Значит, нам необходима предварительная очистка данных.\n",
    "\n",
    "Как мы видим, пропуски встречаются только в информации об образовании клиентов. Посмотрим на признак ближе:"
   ]
  },
  {
   "cell_type": "code",
   "execution_count": 7,
   "metadata": {},
   "outputs": [
    {
     "data": {
      "image/png": "[encoded data removed]",
      "text/plain": [
       "<Figure size 1080x360 with 1 Axes>"
      ]
     },
     "metadata": {
      "needs_background": "light"
     },
     "output_type": "display_data"
    }
   ],
   "source": [
    "plt.figure(    figsize=(15,5))\n",
    "data.education.value_counts().plot.barh()\n",
    "plt.xscale(\"log\")"
   ]
  },
  {
   "cell_type": "markdown",
   "metadata": {},
   "source": [
    "### ЗАДАНИЕ\n",
    "\n",
    "А теперь самостоятельно заполните пропуски в поле 'education' любыми известными вам методами."
   ]
  },
  {
   "cell_type": "code",
   "execution_count": 8,
   "metadata": {},
   "outputs": [],
   "source": [
    "# заполним пропуски \n",
    "data.education.fillna('NAN_EDU', inplace=True)"
   ]
  },
  {
   "cell_type": "markdown",
   "metadata": {},
   "source": [
    "Полученные признаки сгруппируем в три категории по типу их обработки (категориальные, бинарные и числовые) для дальнейшего удобного анализа."
   ]
  },
  {
   "cell_type": "code",
   "execution_count": 9,
   "metadata": {},
   "outputs": [
    {
     "data": {
      "text/plain": [
       "income              966\n",
       "age                  52\n",
       "bki_request_cnt      38\n",
       "decline_app_cnt      21\n",
       "education             6\n",
       "work_address          3\n",
       "home_address          3\n",
       "default               2\n",
       "foreign_passport      2\n",
       "good_work             2\n",
       "car_type              2\n",
       "car                   2\n",
       "sex                   2\n",
       "dtype: int64"
      ]
     },
     "execution_count": 9,
     "metadata": {},
     "output_type": "execute_result"
    }
   ],
   "source": [
    "data.nunique().sort_values(ascending=False)"
   ]
  },
  {
   "cell_type": "code",
   "execution_count": 10,
   "metadata": {},
   "outputs": [],
   "source": [
    "num_uniq = data.drop(columns='default').nunique()\n",
    "\n",
    "bin_cols = data.drop(columns='default').columns[num_uniq==2]\n",
    "cat_cols = data.drop(columns='default').columns[(num_uniq>2) & (num_uniq<7)] \n",
    "num_cols = data.drop(columns='default').columns[num_uniq>6]"
   ]
  },
  {
   "cell_type": "markdown",
   "metadata": {},
   "source": [
    "Посмотрим на распределение числовых данных:"
   ]
  },
  {
   "cell_type": "code",
   "execution_count": 11,
   "metadata": {},
   "outputs": [
    {
     "data": {
      "image/png": "[encoded data removed]",
      "text/plain": [
       "<Figure size 1080x720 with 4 Axes>"
      ]
     },
     "metadata": {
      "needs_background": "light"
     },
     "output_type": "display_data"
    }
   ],
   "source": [
    "data[num_cols].hist(figsize=(15,10),bins = 50);"
   ]
  },
  {
   "cell_type": "markdown",
   "metadata": {},
   "source": [
    "Построим графики распределения логарифмированных переменных."
   ]
  },
  {
   "cell_type": "code",
   "execution_count": 12,
   "metadata": {},
   "outputs": [
    {
     "data": {
      "image/png": "[encoded data removed]",
      "text/plain": [
       "<Figure size 1080x288 with 1 Axes>"
      ]
     },
     "metadata": {
      "needs_background": "light"
     },
     "output_type": "display_data"
    },
    {
     "data": {
      "image/png": "[encoded data removed]",
      "text/plain": [
       "<Figure size 1080x288 with 1 Axes>"
      ]
     },
     "metadata": {
      "needs_background": "light"
     },
     "output_type": "display_data"
    },
    {
     "data": {
      "image/png": "[encoded data removed]",
      "text/plain": [
       "<Figure size 1080x288 with 1 Axes>"
      ]
     },
     "metadata": {
      "needs_background": "light"
     },
     "output_type": "display_data"
    },
    {
     "data": {
      "image/png": "[encoded data removed]",
      "text/plain": [
       "<Figure size 1080x288 with 1 Axes>"
      ]
     },
     "metadata": {
      "needs_background": "light"
     },
     "output_type": "display_data"
    }
   ],
   "source": [
    "for i in num_cols:\n",
    "    plt.figure(figsize=(15,4))\n",
    "    sns.distplot(np.log(data[i][data[i] > 0].dropna()), kde = False, rug=False)\n",
    "    plt.title(i)\n",
    "    plt.show()"
   ]
  },
  {
   "cell_type": "markdown",
   "metadata": {},
   "source": [
    "### Задание 1\n",
    "Постройте boxplot’ы для численных переменных и ответьте на следующие вопросы:"
   ]
  },
  {
   "cell_type": "code",
   "execution_count": 13,
   "metadata": {},
   "outputs": [
    {
     "data": {
      "image/png": "[encoded data removed]",
      "text/plain": [
       "<Figure size 1080x648 with 4 Axes>"
      ]
     },
     "metadata": {
      "needs_background": "light"
     },
     "output_type": "display_data"
    }
   ],
   "source": [
    "plt.figure(figsize=(15,9))\n",
    "\n",
    "for i, column in enumerate(num_cols):\n",
    "    plt.subplot(1, 4, i+1)\n",
    "    sns.boxplot(x='default',y=data[column],data=data)\n",
    "    plt.title(column)\n",
    "\n",
    "plt.tight_layout()"
   ]
  },
  {
   "cell_type": "markdown",
   "metadata": {},
   "source": [
    "Оценим корреляцию Пирсона для непрерывных переменных по формуле:"
   ]
  },
  {
   "cell_type": "code",
   "execution_count": 14,
   "metadata": {},
   "outputs": [
    {
     "data": {
      "image/png": "[encoded data removed]",
      "text/plain": [
       "<Figure size 1080x720 with 2 Axes>"
      ]
     },
     "metadata": {
      "needs_background": "light"
     },
     "output_type": "display_data"
    }
   ],
   "source": [
    "plt.figure(figsize=(15,10))\n",
    "sns.heatmap(data[num_cols].corr().abs(), vmin=0, vmax=1,)\n",
    "plt.tight_layout()\n",
    "# , xticklabels=True, yticklabels=True"
   ]
  },
  {
   "cell_type": "markdown",
   "metadata": {},
   "source": [
    "Для оценки значимости числовых переменных будем использовать функцию `f_classif` из библиотеки sklearn. \n",
    "\n",
    "Возможности модуля `sklearn.feature_selection` могут быть использованы не только для выбора важных признаков, но и для уменьшения размерности, улучшения предсказательной силы моделей, либо для повышения их производительности на очень многомерных наборах данных.\n",
    "\n",
    "В основе метода оценки значимости переменных лежит однофакторный дисперсионный анализ (ANOVA). Основу процедуры составляет обобщение результатов двух выборочных t-тестов для независимых выборок (2-sample t). \n",
    "\n",
    "В качестве меры значимости мы будем использовать значение f-статистики. Чем значение статистики выше, тем меньше вероятность того, что средние значения не отличаются, и тем важнее данный признак для нашей линейной модели."
   ]
  },
  {
   "cell_type": "code",
   "execution_count": 15,
   "metadata": {},
   "outputs": [],
   "source": [
    "imp_num = pd.Series(f_classif(data[num_cols], data['default'])[0], index = num_cols)"
   ]
  },
  {
   "cell_type": "code",
   "execution_count": 16,
   "metadata": {},
   "outputs": [],
   "source": [
    "imp_num.sort_values(inplace = True)"
   ]
  },
  {
   "cell_type": "code",
   "execution_count": 17,
   "metadata": {},
   "outputs": [
    {
     "data": {
      "text/plain": [
       "<matplotlib.axes._subplots.AxesSubplot at 0x1509d833848>"
      ]
     },
     "execution_count": 17,
     "metadata": {},
     "output_type": "execute_result"
    },
    {
     "data": {
      "image/png": "[encoded data removed]",
      "text/plain": [
       "<Figure size 432x288 with 1 Axes>"
      ]
     },
     "metadata": {
      "needs_background": "light"
     },
     "output_type": "display_data"
    }
   ],
   "source": [
    "imp_num.plot(kind = 'barh')"
   ]
  },
  {
   "cell_type": "markdown",
   "metadata": {},
   "source": [
    "## Категориальные переменные\n",
    "Самый простой способ — отобразить каждое значение категории в уникальное число. Например, в поле `sex` значение `sex = female` преобразовать в $0$, а `sex = male` — в $1$. Эту простую операцию приходится делать достаточно часто, поэтому в модуле `sklearn.preprocessing` именно для этой задачи реализован класс `LabelEncoder`.\n",
    "\n",
    "Метод `fit` этого класса находит все уникальные значения и строит таблицу для соответствия каждой категории некоторому числу, а метод `transform` непосредственно преобразует значения в числа. После `fit` у `label_encoder` будет доступно поле `classes_`, содержащее все уникальные значения. Можно их пронумеровать и убедиться, что преобразование выполнено верно."
   ]
  },
  {
   "cell_type": "code",
   "execution_count": 18,
   "metadata": {},
   "outputs": [],
   "source": [
    "data = pd.read_csv('./Project_4_data/train.csv')"
   ]
  },
  {
   "cell_type": "code",
   "execution_count": 19,
   "metadata": {},
   "outputs": [
    {
     "name": "stdout",
     "output_type": "stream",
     "text": [
      "{0: 'F', 1: 'M'}\n"
     ]
    }
   ],
   "source": [
    "label_encoder = LabelEncoder()\n",
    "\n",
    "mapped_sex = pd.Series(label_encoder.fit_transform(data['sex']))\n",
    "print(dict(enumerate(label_encoder.classes_)))"
   ]
  },
  {
   "cell_type": "markdown",
   "metadata": {},
   "source": [
    "Сработало! Теперь всегда можно обратиться к `classes_ `, если забыли, что закодировали. Применим `LabelEncoder` ко всему набору бинарных переменных."
   ]
  },
  {
   "cell_type": "code",
   "execution_count": 20,
   "metadata": {},
   "outputs": [
    {
     "data": {
      "text/html": [
       "<div>\n",
       "<style scoped>\n",
       "    .dataframe tbody tr th:only-of-type {\n",
       "        vertical-align: middle;\n",
       "    }\n",
       "\n",
       "    .dataframe tbody tr th {\n",
       "        vertical-align: top;\n",
       "    }\n",
       "\n",
       "    .dataframe thead th {\n",
       "        text-align: right;\n",
       "    }\n",
       "</style>\n",
       "<table border=\"1\" class=\"dataframe\">\n",
       "  <thead>\n",
       "    <tr style=\"text-align: right;\">\n",
       "      <th></th>\n",
       "      <th>client_id</th>\n",
       "      <th>education</th>\n",
       "      <th>sex</th>\n",
       "      <th>age</th>\n",
       "      <th>car</th>\n",
       "      <th>car_type</th>\n",
       "      <th>decline_app_cnt</th>\n",
       "      <th>good_work</th>\n",
       "      <th>bki_request_cnt</th>\n",
       "      <th>home_address</th>\n",
       "      <th>work_address</th>\n",
       "      <th>income</th>\n",
       "      <th>foreign_passport</th>\n",
       "      <th>default</th>\n",
       "    </tr>\n",
       "  </thead>\n",
       "  <tbody>\n",
       "    <tr>\n",
       "      <td>0</td>\n",
       "      <td>25905</td>\n",
       "      <td>SCH</td>\n",
       "      <td>1</td>\n",
       "      <td>62</td>\n",
       "      <td>1</td>\n",
       "      <td>1</td>\n",
       "      <td>0</td>\n",
       "      <td>0</td>\n",
       "      <td>1</td>\n",
       "      <td>1</td>\n",
       "      <td>2</td>\n",
       "      <td>18000</td>\n",
       "      <td>0</td>\n",
       "      <td>0</td>\n",
       "    </tr>\n",
       "    <tr>\n",
       "      <td>1</td>\n",
       "      <td>63161</td>\n",
       "      <td>SCH</td>\n",
       "      <td>0</td>\n",
       "      <td>59</td>\n",
       "      <td>0</td>\n",
       "      <td>0</td>\n",
       "      <td>0</td>\n",
       "      <td>0</td>\n",
       "      <td>3</td>\n",
       "      <td>2</td>\n",
       "      <td>3</td>\n",
       "      <td>19000</td>\n",
       "      <td>0</td>\n",
       "      <td>0</td>\n",
       "    </tr>\n",
       "    <tr>\n",
       "      <td>2</td>\n",
       "      <td>25887</td>\n",
       "      <td>SCH</td>\n",
       "      <td>1</td>\n",
       "      <td>25</td>\n",
       "      <td>1</td>\n",
       "      <td>0</td>\n",
       "      <td>2</td>\n",
       "      <td>0</td>\n",
       "      <td>1</td>\n",
       "      <td>1</td>\n",
       "      <td>2</td>\n",
       "      <td>30000</td>\n",
       "      <td>1</td>\n",
       "      <td>0</td>\n",
       "    </tr>\n",
       "    <tr>\n",
       "      <td>3</td>\n",
       "      <td>16222</td>\n",
       "      <td>SCH</td>\n",
       "      <td>0</td>\n",
       "      <td>53</td>\n",
       "      <td>0</td>\n",
       "      <td>0</td>\n",
       "      <td>0</td>\n",
       "      <td>0</td>\n",
       "      <td>2</td>\n",
       "      <td>2</td>\n",
       "      <td>3</td>\n",
       "      <td>10000</td>\n",
       "      <td>0</td>\n",
       "      <td>0</td>\n",
       "    </tr>\n",
       "    <tr>\n",
       "      <td>4</td>\n",
       "      <td>101655</td>\n",
       "      <td>GRD</td>\n",
       "      <td>1</td>\n",
       "      <td>48</td>\n",
       "      <td>0</td>\n",
       "      <td>0</td>\n",
       "      <td>0</td>\n",
       "      <td>1</td>\n",
       "      <td>1</td>\n",
       "      <td>2</td>\n",
       "      <td>3</td>\n",
       "      <td>30000</td>\n",
       "      <td>1</td>\n",
       "      <td>0</td>\n",
       "    </tr>\n",
       "    <tr>\n",
       "      <td>5</td>\n",
       "      <td>41415</td>\n",
       "      <td>SCH</td>\n",
       "      <td>1</td>\n",
       "      <td>27</td>\n",
       "      <td>1</td>\n",
       "      <td>0</td>\n",
       "      <td>0</td>\n",
       "      <td>1</td>\n",
       "      <td>0</td>\n",
       "      <td>1</td>\n",
       "      <td>1</td>\n",
       "      <td>15000</td>\n",
       "      <td>0</td>\n",
       "      <td>0</td>\n",
       "    </tr>\n",
       "    <tr>\n",
       "      <td>6</td>\n",
       "      <td>28436</td>\n",
       "      <td>SCH</td>\n",
       "      <td>1</td>\n",
       "      <td>39</td>\n",
       "      <td>0</td>\n",
       "      <td>0</td>\n",
       "      <td>0</td>\n",
       "      <td>0</td>\n",
       "      <td>0</td>\n",
       "      <td>1</td>\n",
       "      <td>2</td>\n",
       "      <td>28000</td>\n",
       "      <td>0</td>\n",
       "      <td>0</td>\n",
       "    </tr>\n",
       "  </tbody>\n",
       "</table>\n",
       "</div>"
      ],
      "text/plain": [
       "   client_id education  sex  age  car  car_type  decline_app_cnt  good_work  \\\n",
       "0      25905       SCH    1   62    1         1                0          0   \n",
       "1      63161       SCH    0   59    0         0                0          0   \n",
       "2      25887       SCH    1   25    1         0                2          0   \n",
       "3      16222       SCH    0   53    0         0                0          0   \n",
       "4     101655       GRD    1   48    0         0                0          1   \n",
       "5      41415       SCH    1   27    1         0                0          1   \n",
       "6      28436       SCH    1   39    0         0                0          0   \n",
       "\n",
       "   bki_request_cnt  home_address  work_address  income  foreign_passport  \\\n",
       "0                1             1             2   18000                 0   \n",
       "1                3             2             3   19000                 0   \n",
       "2                1             1             2   30000                 1   \n",
       "3                2             2             3   10000                 0   \n",
       "4                1             2             3   30000                 1   \n",
       "5                0             1             1   15000                 0   \n",
       "6                0             1             2   28000                 0   \n",
       "\n",
       "   default  \n",
       "0        0  \n",
       "1        0  \n",
       "2        0  \n",
       "3        0  \n",
       "4        0  \n",
       "5        0  \n",
       "6        0  "
      ]
     },
     "execution_count": 20,
     "metadata": {},
     "output_type": "execute_result"
    }
   ],
   "source": [
    "# Для бинарных признаков мы будем использовать LabelEncoder\n",
    "\n",
    "label_encoder = LabelEncoder()\n",
    "\n",
    "for column in bin_cols:\n",
    "    data[column] = label_encoder.fit_transform(data[column])\n",
    "    \n",
    "# убедимся в преобразовании    \n",
    "data.head(7)"
   ]
  },
  {
   "cell_type": "markdown",
   "metadata": {},
   "source": [
    "## ЗНАЧИМОСТЬ КАТЕГОРИАЛЬНЫХ ПРИЗНАКОВ\n",
    "Для оценки значимости категориальных и бинарных переменных будем использовать функцию `mutual_info_classif` из библиотеки `sklearn`. Данная функция опирается на непараметрические методы, основанные на оценке энтропии в группах категориальных переменных."
   ]
  },
  {
   "cell_type": "code",
   "execution_count": 21,
   "metadata": {},
   "outputs": [],
   "source": [
    "data.education.fillna('NAN_EDU',inplace=True)\n",
    "\n",
    "data.education = label_encoder.fit_transform(data.education)"
   ]
  },
  {
   "cell_type": "code",
   "execution_count": 22,
   "metadata": {
    "scrolled": true
   },
   "outputs": [
    {
     "data": {
      "text/plain": [
       "<matplotlib.axes._subplots.AxesSubplot at 0x1509da84c88>"
      ]
     },
     "execution_count": 22,
     "metadata": {},
     "output_type": "execute_result"
    },
    {
     "data": {
      "image/png": "[encoded data removed]",
      "text/plain": [
       "<Figure size 432x288 with 1 Axes>"
      ]
     },
     "metadata": {
      "needs_background": "light"
     },
     "output_type": "display_data"
    }
   ],
   "source": [
    "imp_cat = pd.Series(mutual_info_classif(data[bin_cols.append(cat_cols)], data['default'],\n",
    "                                     discrete_features =True), index = bin_cols.append(cat_cols))\n",
    "imp_cat.sort_values(inplace = True)\n",
    "imp_cat.plot(kind = 'barh')"
   ]
  },
  {
   "cell_type": "code",
   "execution_count": 23,
   "metadata": {},
   "outputs": [
    {
     "data": {
      "text/plain": [
       "sex                 0.000192\n",
       "car                 0.000957\n",
       "good_work           0.001004\n",
       "car_type            0.001788\n",
       "foreign_passport    0.002508\n",
       "work_address        0.003591\n",
       "education           0.003881\n",
       "home_address        0.004356\n",
       "dtype: float64"
      ]
     },
     "execution_count": 23,
     "metadata": {},
     "output_type": "execute_result"
    }
   ],
   "source": [
    "imp_cat"
   ]
  },
  {
   "cell_type": "code",
   "execution_count": 24,
   "metadata": {},
   "outputs": [
    {
     "data": {
      "text/plain": [
       "sex                             [1, 0]\n",
       "car                             [1, 0]\n",
       "car_type                        [1, 0]\n",
       "good_work                       [0, 1]\n",
       "foreign_passport                [0, 1]\n",
       "education           [4, 1, 5, 3, 0, 2]\n",
       "home_address                 [1, 2, 3]\n",
       "work_address                 [2, 3, 1]\n",
       "dtype: object"
      ]
     },
     "execution_count": 24,
     "metadata": {},
     "output_type": "execute_result"
    }
   ],
   "source": [
    "data[bin_cols.append(cat_cols)].apply(lambda x: list(x.unique()))"
   ]
  },
  {
   "cell_type": "markdown",
   "metadata": {},
   "source": [
    "## Подготовка данных к машинному обучению"
   ]
  },
  {
   "cell_type": "markdown",
   "metadata": {},
   "source": [
    "Перед обучением регрессии нам следует стандартизировать числовые признаки, а также воспользоваться dummy-кодированием для категориальных переменных, то есть создать отдельную бинарную переменную для каждой категории.\n",
    "\n",
    "Как вы уже поняли, `LabelEncoder` не совсем подходит для признаков с двумя и большим количеством категорий. Для того, чтобы мы смогли применять линейные модели на таких данных, нам необходим другой метод, который называется `One-Hot Encoding`. Смысл его точно такой же, как у dummy-кодирования.\n",
    "\n",
    "Предположим, что некоторый признак может принимать пять разных значений. В этом случае One Hot Encoding подразумевает создание пяти новых признаков, все из которых равны нулю, за исключением одного. На позицию, соответствующую численному значению признака, мы помещаем .\n",
    "\n",
    "Эта техника реализована в `sklearn.preprocessing` в классе `OneHotEncoder`. По умолчанию `OneHotEncoder` преобразует данные в разреженную матрицу, чтобы не расходовать память на хранение многочисленных нулей."
   ]
  },
  {
   "cell_type": "code",
   "execution_count": 25,
   "metadata": {},
   "outputs": [],
   "source": [
    "X_cat = OneHotEncoder(sparse = False).fit_transform(data[cat_cols].values)"
   ]
  },
  {
   "cell_type": "markdown",
   "metadata": {},
   "source": [
    "### Задание 1\n",
    "Сколько столбцов вы получили после преобразования данных?"
   ]
  },
  {
   "cell_type": "code",
   "execution_count": 26,
   "metadata": {},
   "outputs": [
    {
     "data": {
      "text/plain": [
       "12"
      ]
     },
     "execution_count": 26,
     "metadata": {},
     "output_type": "execute_result"
    }
   ],
   "source": [
    "X_cat.shape[1]"
   ]
  },
  {
   "cell_type": "markdown",
   "metadata": {},
   "source": [
    "Стандартизируем числовые переменные:"
   ]
  },
  {
   "cell_type": "code",
   "execution_count": 27,
   "metadata": {},
   "outputs": [
    {
     "name": "stderr",
     "output_type": "stream",
     "text": [
      "C:\\Users\\Samsung\\Anaconda3\\lib\\site-packages\\sklearn\\utils\\validation.py:475: DataConversionWarning: Data with input dtype int64 was converted to float64 by StandardScaler.\n",
      "  warnings.warn(msg, DataConversionWarning)\n",
      "C:\\Users\\Samsung\\Anaconda3\\lib\\site-packages\\sklearn\\utils\\validation.py:475: DataConversionWarning: Data with input dtype int64 was converted to float64 by StandardScaler.\n",
      "  warnings.warn(msg, DataConversionWarning)\n"
     ]
    }
   ],
   "source": [
    "# Стандартизация числовых переменных\n",
    "X_num = StandardScaler().fit_transform(data[num_cols].values)"
   ]
  },
  {
   "cell_type": "markdown",
   "metadata": {},
   "source": [
    "И объединим стандартизованные числовые, бинарные и закодированные категориальные переменные в одно признаковое пространство, разделив при этом признаки и целевую переменную."
   ]
  },
  {
   "cell_type": "code",
   "execution_count": 28,
   "metadata": {},
   "outputs": [],
   "source": [
    "# Объединяем\n",
    "X = np.hstack([X_num, data[bin_cols].values, X_cat])\n",
    "y = data['default'].values"
   ]
  },
  {
   "cell_type": "markdown",
   "metadata": {},
   "source": [
    "Подготовка признаков для модели завершена. \n",
    "\n",
    "Разделим данные для обучения следующим образом:"
   ]
  },
  {
   "cell_type": "code",
   "execution_count": 29,
   "metadata": {},
   "outputs": [],
   "source": [
    "X_train, X_test, y_train, y_test = train_test_split(X, y, test_size=0.20, random_state=42)"
   ]
  },
  {
   "cell_type": "markdown",
   "metadata": {},
   "source": [
    "### ЗАДАНИЕ\n",
    "Обучите модель на стандартных настройках ***логистической регрессии***."
   ]
  },
  {
   "cell_type": "code",
   "execution_count": 30,
   "metadata": {},
   "outputs": [
    {
     "data": {
      "text/plain": [
       "LogisticRegression(C=1.0, class_weight=None, dual=False, fit_intercept=True,\n",
       "          intercept_scaling=1, max_iter=100, multi_class='ovr', n_jobs=1,\n",
       "          penalty='l2', random_state=None, solver='liblinear', tol=0.0001,\n",
       "          verbose=0, warm_start=False)"
      ]
     },
     "execution_count": 30,
     "metadata": {},
     "output_type": "execute_result"
    }
   ],
   "source": [
    "model = LogisticRegression()\n",
    "model.fit(X_train,y_train)"
   ]
  },
  {
   "cell_type": "markdown",
   "metadata": {},
   "source": [
    "## Оценка качества модели\n",
    "\n",
    "В качестве методов оценки прогностической способности модели вы решаете использовать ROC-анализ.\n",
    "\n",
    "Вы прекрасно помните из модуля по Классификации, что классификатор имеет параметр порог отсечения. Изменяя его значение, мы получаем то или иное разбиение на два класса — класс с положительными исходами и класс с отрицательными исходами.\n",
    "\n",
    "![1](https://lms.skillfactory.ru/assets/courseware/v1/7b2082e0bb1ef965189eb9a354859a84/asset-v1:Skillfactory+DST-12+11MAR2020+type@asset+block/dst-score-16.png)\n",
    "В нашем примере положительным исходом будет наличие дефолта у заемщика, отрицательным — отсутствие дефолта.\n",
    "\n",
    "**→** Доля положительных результатов у «плохих» заемщиков (истинно положительных результатов) — это **чувствительность** модели **(Sensitivity)**, то есть способность модели правильно определять «плохих» заемщиков и минимизировать убытки, связанные с выдачей кредита «плохому» клиенту. \n",
    "\n",
    "**→** Доля отрицательных результатов у «хороших» заемщиков (истинно отрицательных результатов) — это **специфичность** модели **(Specificity)**. Здесь речь уже идёт о способности модели правильно определять «хороших» заемщиков и минимизировать убытки, связанные с отказом в выдаче кредита добросовестному клиенту.\n",
    "\n",
    "![2](https://lms.skillfactory.ru/assets/courseware/v1/74e9564907091d0e3fdc95af5e8f4998/asset-v1:Skillfactory+DST-12+11MAR2020+type@asset+block/dst-score-17.png)\n",
    "\n",
    "Написав код для построения ROC AUС, вы получили значение метрики 0.677:"
   ]
  },
  {
   "cell_type": "code",
   "execution_count": 31,
   "metadata": {},
   "outputs": [
    {
     "data": {
      "image/png": "[encoded data removed]",
      "text/plain": [
       "<Figure size 864x432 with 1 Axes>"
      ]
     },
     "metadata": {},
     "output_type": "display_data"
    }
   ],
   "source": [
    "probs = model.predict_proba(X_test)\n",
    "probs = probs[:,1]\n",
    "\n",
    "fpr, tpr, threshold = roc_curve(y_test, probs)\n",
    "roc_auc = roc_auc_score(y_test, probs)\n",
    "\n",
    "plt.figure(figsize=(12,6))\n",
    "plt.plot([0, 1], label='Baseline', linestyle='--')\n",
    "plt.plot(fpr, tpr, label = 'Regression')\n",
    "plt.title('Logistic Regression ROC AUC = %0.3f' % roc_auc)\n",
    "plt.ylabel('True Positive Rate')\n",
    "plt.xlabel('False Positive Rate')\n",
    "plt.legend(loc = 'lower right')\n",
    "plt.show()"
   ]
  },
  {
   "cell_type": "markdown",
   "metadata": {},
   "source": [
    "В `scikit-learn` есть два общих подхода к поиску: с помощью `GridSearchCV`  и `RandomizedSearchCV`. \n",
    "\n",
    "В этом примере мы рассмотрим поиск гиперпараметров `GridSearchCV` при помощи перебора параметров по сетке с последующей кросс-валидацией. "
   ]
  },
  {
   "cell_type": "code",
   "execution_count": 32,
   "metadata": {},
   "outputs": [
    {
     "name": "stdout",
     "output_type": "stream",
     "text": [
      "Лучшее Penalty: l2\n",
      "Лучшее C: 3.162277660168379e-06\n",
      "Wall time: 2min 26s\n"
     ]
    }
   ],
   "source": [
    "%%time\n",
    "from sklearn.model_selection import GridSearchCV\n",
    "\n",
    "import warnings\n",
    "warnings.filterwarnings(\"ignore\")\n",
    "\n",
    "# Добавим типы регуляризации\n",
    "penalty = ['l1', 'l2']\n",
    "\n",
    "# Зададим ограничения для параметра регуляризации\n",
    "C = np.logspace(-6, 3, 19)\n",
    "\n",
    "# Создадим гиперпараметры\n",
    "hyperparameters = dict(C=C, penalty=penalty)\n",
    "\n",
    "model = LogisticRegression()\n",
    "model.fit(X_train, y_train)\n",
    "\n",
    "# Создаем сетку поиска с использованием 5-кратной перекрестной проверки\n",
    "clf = GridSearchCV(model, hyperparameters, cv=5, verbose=0)\n",
    "\n",
    "best_model = clf.fit(X_train, y_train)\n",
    "\n",
    "# View best hyperparameters\n",
    "print('Лучшее Penalty:', best_model.best_estimator_.get_params()['penalty'])\n",
    "print('Лучшее C:', best_model.best_estimator_.get_params()['C'])"
   ]
  },
  {
   "cell_type": "markdown",
   "metadata": {},
   "source": [
    "Некоторые модели допускают индивидуальные методы поиска, например, как наша логит-модель. Класс `LogisticRegressionCV` создан специально для логистической регрессии (для неё известны эффективные алгоритмы перебора параметров)."
   ]
  },
  {
   "cell_type": "code",
   "execution_count": 83,
   "metadata": {},
   "outputs": [],
   "source": [
    "aaa = clf.cv_results_"
   ]
  },
  {
   "cell_type": "code",
   "execution_count": 84,
   "metadata": {},
   "outputs": [
    {
     "data": {
      "text/plain": [
       "dict_keys(['mean_fit_time', 'std_fit_time', 'mean_score_time', 'std_score_time', 'param_C', 'param_penalty', 'params', 'split0_test_score', 'split1_test_score', 'split2_test_score', 'split3_test_score', 'split4_test_score', 'mean_test_score', 'std_test_score', 'rank_test_score'])"
      ]
     },
     "execution_count": 84,
     "metadata": {},
     "output_type": "execute_result"
    }
   ],
   "source": [
    "aaa.keys()"
   ]
  },
  {
   "cell_type": "code",
   "execution_count": 104,
   "metadata": {},
   "outputs": [
    {
     "data": {
      "text/plain": [
       "[{'C': 1e-06, 'penalty': 'l1'},\n",
       " {'C': 1e-06, 'penalty': 'l2'},\n",
       " {'C': 3.162277660168379e-06, 'penalty': 'l1'},\n",
       " {'C': 3.162277660168379e-06, 'penalty': 'l2'},\n",
       " {'C': 1e-05, 'penalty': 'l1'},\n",
       " {'C': 1e-05, 'penalty': 'l2'},\n",
       " {'C': 3.1622776601683795e-05, 'penalty': 'l1'},\n",
       " {'C': 3.1622776601683795e-05, 'penalty': 'l2'},\n",
       " {'C': 0.0001, 'penalty': 'l1'},\n",
       " {'C': 0.0001, 'penalty': 'l2'},\n",
       " {'C': 0.00031622776601683794, 'penalty': 'l1'},\n",
       " {'C': 0.00031622776601683794, 'penalty': 'l2'},\n",
       " {'C': 0.001, 'penalty': 'l1'},\n",
       " {'C': 0.001, 'penalty': 'l2'},\n",
       " {'C': 0.0031622776601683794, 'penalty': 'l1'},\n",
       " {'C': 0.0031622776601683794, 'penalty': 'l2'},\n",
       " {'C': 0.01, 'penalty': 'l1'},\n",
       " {'C': 0.01, 'penalty': 'l2'},\n",
       " {'C': 0.03162277660168379, 'penalty': 'l1'},\n",
       " {'C': 0.03162277660168379, 'penalty': 'l2'},\n",
       " {'C': 0.1, 'penalty': 'l1'},\n",
       " {'C': 0.1, 'penalty': 'l2'},\n",
       " {'C': 0.31622776601683794, 'penalty': 'l1'},\n",
       " {'C': 0.31622776601683794, 'penalty': 'l2'},\n",
       " {'C': 1.0, 'penalty': 'l1'},\n",
       " {'C': 1.0, 'penalty': 'l2'},\n",
       " {'C': 3.1622776601683795, 'penalty': 'l1'},\n",
       " {'C': 3.1622776601683795, 'penalty': 'l2'},\n",
       " {'C': 10.0, 'penalty': 'l1'},\n",
       " {'C': 10.0, 'penalty': 'l2'}]"
      ]
     },
     "execution_count": 104,
     "metadata": {},
     "output_type": "execute_result"
    }
   ],
   "source": [
    "clf.cv_results_['params']"
   ]
  },
  {
   "cell_type": "code",
   "execution_count": 105,
   "metadata": {},
   "outputs": [
    {
     "data": {
      "text/plain": [
       "array([0.87220312, 0.87218618, 0.87220312, 0.87222006, 0.87220312,\n",
       "       0.87220312, 0.87220312, 0.87218618, 0.87220312, 0.87216924,\n",
       "       0.87220312, 0.87199986, 0.87216924, 0.87183048, 0.87196599,\n",
       "       0.87167804, 0.87177967, 0.87166111, 0.87172886, 0.87169498,\n",
       "       0.87171192, 0.87171192, 0.87169498, 0.87171192, 0.87171192,\n",
       "       0.87171192, 0.87171192, 0.87171192, 0.87171192, 0.87171192])"
      ]
     },
     "execution_count": 105,
     "metadata": {},
     "output_type": "execute_result"
    }
   ],
   "source": [
    "clf.cv_results_['mean_test_score']"
   ]
  },
  {
   "cell_type": "code",
   "execution_count": null,
   "metadata": {},
   "outputs": [],
   "source": []
  },
  {
   "cell_type": "code",
   "execution_count": 106,
   "metadata": {},
   "outputs": [
    {
     "data": {
      "text/plain": [
       "[(0.8722031199715442, {'C': 0.0001, 'penalty': 'l1'}),\n",
       " (0.8721692440590119, {'C': 0.0001, 'penalty': 'l2'}),\n",
       " (0.8722031199715442, {'C': 0.00031622776601683794, 'penalty': 'l1'}),\n",
       " (0.8719998644963499, {'C': 0.00031622776601683794, 'penalty': 'l2'}),\n",
       " (0.8721692440590119, {'C': 0.001, 'penalty': 'l1'}),\n",
       " (0.8718304849336879, {'C': 0.001, 'penalty': 'l2'}),\n",
       " (0.8719659885838175, {'C': 0.0031622776601683794, 'penalty': 'l1'}),\n",
       " (0.8716780433272922, {'C': 0.0031622776601683794, 'penalty': 'l2'}),\n",
       " (0.8717796710648893, {'C': 0.01, 'penalty': 'l1'}),\n",
       " (0.8716611053710259, {'C': 0.01, 'penalty': 'l2'}),\n",
       " (0.8717288571960907, {'C': 0.03162277660168379, 'penalty': 'l1'}),\n",
       " (0.8716949812835584, {'C': 0.03162277660168379, 'penalty': 'l2'}),\n",
       " (0.8717119192398245, {'C': 0.1, 'penalty': 'l1'}),\n",
       " (0.8717119192398245, {'C': 0.1, 'penalty': 'l2'}),\n",
       " (0.8716949812835584, {'C': 0.31622776601683794, 'penalty': 'l1'}),\n",
       " (0.8717119192398245, {'C': 0.31622776601683794, 'penalty': 'l2'}),\n",
       " (0.8717119192398245, {'C': 1.0, 'penalty': 'l1'}),\n",
       " (0.8717119192398245, {'C': 1.0, 'penalty': 'l2'}),\n",
       " (0.8717119192398245, {'C': 3.1622776601683795, 'penalty': 'l1'}),\n",
       " (0.8717119192398245, {'C': 3.1622776601683795, 'penalty': 'l2'}),\n",
       " (0.8717119192398245, {'C': 10.0, 'penalty': 'l1'}),\n",
       " (0.8717119192398245, {'C': 10.0, 'penalty': 'l2'}),\n",
       " (0.8717119192398245, {'C': 31.622776601683793, 'penalty': 'l1'}),\n",
       " (0.8717119192398245, {'C': 31.622776601683793, 'penalty': 'l2'}),\n",
       " (0.8717119192398245, {'C': 100.0, 'penalty': 'l1'}),\n",
       " (0.8717119192398245, {'C': 100.0, 'penalty': 'l2'}),\n",
       " (0.8717119192398245, {'C': 316.22776601683796, 'penalty': 'l1'}),\n",
       " (0.8717119192398245, {'C': 316.22776601683796, 'penalty': 'l2'}),\n",
       " (0.8717119192398245, {'C': 1000.0, 'penalty': 'l1'}),\n",
       " (0.8717119192398245, {'C': 1000.0, 'penalty': 'l2'}),\n",
       " (0.8717119192398245, {'C': 3162.2776601683795, 'penalty': 'l1'}),\n",
       " (0.8717119192398245, {'C': 3162.2776601683795, 'penalty': 'l2'}),\n",
       " (0.8717119192398245, {'C': 10000.0, 'penalty': 'l1'}),\n",
       " (0.8717119192398245, {'C': 10000.0, 'penalty': 'l2'})]"
      ]
     },
     "execution_count": 106,
     "metadata": {},
     "output_type": "execute_result"
    }
   ],
   "source": [
    "list(zip(aaa['mean_test_score'],aaa['params']))"
   ]
  },
  {
   "cell_type": "markdown",
   "metadata": {},
   "source": [
    "## ПОДВАЛ"
   ]
  },
  {
   "cell_type": "code",
   "execution_count": 36,
   "metadata": {},
   "outputs": [],
   "source": [
    "'''\n",
    "https://lms.skillfactory.ru/assets/courseware/v1/7b2082e0bb1ef965189eb9a354859a84/asset-v1:Skillfactory+DST-12+11MAR2020+type@asset+block/dst-score-16.png\n",
    "\n",
    "<img src=\"https://upload.wikimedia.org/wikipedia/commons/thumb/1/19/Overfitting.svg/450px-Overfitting.svg.png\" alt=\"Overfitting\" width=\"300\" align=\"center\">\n",
    "\n",
    "![Кривые обучения при переобучении](https://developers.google.com/machine-learning/crash-course/images/RegularizationTwoLossFunctions.svg)\n",
    "''';"
   ]
  },
  {
   "cell_type": "code",
   "execution_count": 102,
   "metadata": {},
   "outputs": [
    {
     "data": {
      "text/plain": [
       "array([1.00000000e-06, 3.16227766e-06, 1.00000000e-05, 3.16227766e-05,\n",
       "       1.00000000e-04, 3.16227766e-04, 1.00000000e-03, 3.16227766e-03,\n",
       "       1.00000000e-02, 3.16227766e-02, 1.00000000e-01, 3.16227766e-01,\n",
       "       1.00000000e+00, 3.16227766e+00, 1.00000000e+01])"
      ]
     },
     "execution_count": 102,
     "metadata": {},
     "output_type": "execute_result"
    }
   ],
   "source": [
    "np.logspace(-6, 1, 15)"
   ]
  },
  {
   "cell_type": "code",
   "execution_count": null,
   "metadata": {},
   "outputs": [],
   "source": []
  }
 ],
 "metadata": {
  "kernelspec": {
   "display_name": "Python 3",
   "language": "python",
   "name": "python3"
  },
  "language_info": {
   "codemirror_mode": {
    "name": "ipython",
    "version": 3
   },
   "file_extension": ".py",
   "mimetype": "text/x-python",
   "name": "python",
   "nbconvert_exporter": "python",
   "pygments_lexer": "ipython3",
   "version": "3.6.5"
  }
 },
 "nbformat": 4,
 "nbformat_minor": 2
}
