{
 "cells": [
  {
   "cell_type": "code",
   "execution_count": 3,
   "metadata": {},
   "outputs": [],
   "source": [
    "import pandas as pd\n",
    "import numpy as np\n",
    "\n",
    "from scipy.optimize import linprog"
   ]
  },
  {
   "cell_type": "markdown",
   "metadata": {},
   "source": [
    "## Задача о назначениях\n",
    "У вас есть $\\mathbf{n}$ задач и $\\textbf{n}$ человек, которые могут их сделать. Каждая задача должна быть сделана одним человеком и каждый должен сделать ровно одну задачу. У человека $\\textbf{i}$ задача $\\textbf{j}$ будет стоить $\\mathbf{с_ij}$. Вам нужно сделать все задачи как можно дешевле.\n",
    "\n",
    "Решение:\n",
    "\n",
    "Сформулируем задачу как задачу **ЦЛП**.\n",
    "\n",
    "Пусть $\\mathbf{x_ij} = 1$, если задачу $\\textbf{j}$ выполнит человек $\\textbf{i}$, а если работы выполнил кто-то другой, то  $\\mathbf{x_ij} = 0$.\n",
    "\n",
    "Минимизируем суммарную стоимость $\\mathbf{с_ij} \\cdot \\mathbf{x_ij}$.\n",
    "\n",
    "Первое условие: $\\mathbf{x_ij}$ либо $0$, либо $1$.  \n",
    "Второе условие: каждый человек должен взять ровно одну задачу.  \n",
    "Третье условие: каждую задачу должен взять ровно один человек.\n",
    "\n",
    "<img src=\"https://lms.skillfactory.ru/assets/courseware/v1/5798e5ca004d904fe81f53ac188dcd19/asset-v1:Skillfactory+DST-PRO+15APR2020+type@asset+block/MAT_4_unit_25.png\" alt=\"drawing\" width=\"100\"/>"
   ]
  },
  {
   "cell_type": "code",
   "execution_count": 4,
   "metadata": {},
   "outputs": [
    {
     "data": {
      "text/plain": [
       "array([[1.00000000e+00, 1.81638526e-10, 1.50577049e-10],\n",
       "       [3.34290658e-10, 9.29023527e-11, 1.00000000e+00],\n",
       "       [2.79748415e-11, 1.00000000e+00, 1.93325148e-10]])"
      ]
     },
     "execution_count": 4,
     "metadata": {},
     "output_type": "execute_result"
    }
   ],
   "source": [
    "c = [2,3,4,\n",
    "    1,5,2,\n",
    "    5,2,3]\n",
    "A_ub = [[1,1,1,0,0,0,0,0,0],\n",
    "        [0,0,0,1,1,1,0,0,0],\n",
    "        [0,0,0,0,0,0,1,1,1]]\n",
    "b_ub = [1,1,1]\n",
    "A_eq = [[1,0,0,1,0,0,1,0,0],\n",
    "        [0,1,0,0,1,0,0,1,0],\n",
    "        [0,0,1,0,0,1,0,0,1]]\n",
    "b_eq = [1,1,1]\n",
    "\n",
    "ans = linprog(c, A_ub=A_ub, b_ub=b_ub, A_eq=A_eq, b_eq=b_eq, bounds=(0,1))\n",
    "# ans\n",
    "\n",
    "ans['x'].reshape(3,3)"
   ]
  },
  {
   "cell_type": "markdown",
   "metadata": {},
   "source": [
    "## Задача коммивояжёра\n",
    "Вам нужно объехать n пунктов, время в пути между пунктами i и j равно dij. Нужно объехать все пункты, чтобы минимизировать суммарное время в пути. В каждый пункт нужно заехать ровно один раз.\n",
    "\n",
    "Решение:\n",
    "\n",
    "Сформулируем задачу как задачу ЦЛП. Пусть мы имеем множество отрезков между парами пунктов, и отрезок xij = 1, если в наш путь вошёл отрезок между пунктами i и j, и 0 если не вошёл. Целевая функция — суммарное время проезда.\n",
    "\n",
    "Первое условие: x либо 0, либо 1.\n",
    "Второе условие: в каждый пункт нужно въехать ровно один раз.\n",
    "Третье условие: из каждого пункта нужно выехать ровно один раз.\n",
    "\n",
    "рис\n",
    "\n"
   ]
  },
  {
   "cell_type": "markdown",
   "metadata": {},
   "source": [
    "## Задание 5.1\n",
    "Составьте оптимальный план перевозок, со Склада № 1 и Склада № 2, в три торговых центра, с учётом тарифов, запасов и потребностей, которые указаны в таблице: \n",
    "\n",
    "| Склады|Торговые |центры||\n",
    "|-|-|-|-|\n",
    "| |ТЦ1(110шт)|ТЦ2(150шт)|ТЦ3(140)|\n",
    "|Склад1(180шт)|2|5|3|\n",
    "|Склад2(220шт)|7|7|6|\n",
    "\n",
    "Сформулируйте задачу, как задачу линейного программирования, и решите её любым способом (желательно программным).\n",
    "\n",
    "В ответ запишите минимальную суммарную стоимость поставки (с точностью до целых):"
   ]
  },
  {
   "cell_type": "code",
   "execution_count": 5,
   "metadata": {},
   "outputs": [],
   "source": [
    "c = [2,5,3,7,7,6]\n",
    "A_ub = [[1,1,1,0,0,0],\n",
    "        [0,0,0,1,1,1]]\n",
    "b_ub = [180,220]\n",
    "A_eq = [[1,0,0,1,0,0],\n",
    "        [0,1,0,0,1,0],\n",
    "        [0,0,1,0,0,1]]\n",
    "b_eq = [110,150,140]"
   ]
  },
  {
   "cell_type": "code",
   "execution_count": 6,
   "metadata": {},
   "outputs": [
    {
     "data": {
      "text/plain": [
       "     con: array([4.39231933e-06, 6.01910435e-06, 5.61240813e-06])\n",
       "     fun: 1899.9999256826393\n",
       " message: 'Optimization terminated successfully.'\n",
       "     nit: 5\n",
       "   slack: array([7.20365009e-06, 8.82018173e-06])\n",
       "  status: 0\n",
       " success: True\n",
       "       x: array([1.09999995e+02, 4.43103329e-08, 6.99999980e+01, 8.98577274e-07,\n",
       "       1.49999994e+02, 6.99999963e+01])"
      ]
     },
     "execution_count": 6,
     "metadata": {},
     "output_type": "execute_result"
    }
   ],
   "source": [
    "linprog(c, A_ub=A_ub, b_ub=b_ub, A_eq=A_eq, b_eq=b_eq)"
   ]
  },
  {
   "cell_type": "markdown",
   "metadata": {},
   "source": [
    "## Задание 5.2\n",
    "Решите задачу о назначениях\n",
    "\n",
    "<img src=\"https://lms.skillfactory.ru/assets/courseware/v1/304a4fb2612ca0e3c68b1f681bd1876c/asset-v1:Skillfactory+DST-PRO+15APR2020+type@asset+block/MAT_4_unit_61.png\" alt=\"drawing\" width=\"400\"/>\n",
    "  \n",
    "  \n",
    "В ответ запишите минимальную стоимость:\n",
    "\n"
   ]
  },
  {
   "cell_type": "code",
   "execution_count": 7,
   "metadata": {},
   "outputs": [],
   "source": [
    "num_tasks, num_workers = 5,5\n",
    "\n",
    "c = [1000, 12, 10, 19, 8,\n",
    "    12, 1000, 3, 7, 2,\n",
    "    10, 3, 1000, 6, 20,\n",
    "    19, 7, 6, 1000, 4,\n",
    "    8, 2, 20, 4, 1000]\n",
    "\n",
    "A_ub,A_eq = [],[]\n",
    "for i in range(0, num_workers):\n",
    "    A_ub.append(\n",
    "        [0]*(num_tasks*i) + [1]*num_tasks + [0]*(num_tasks*(num_workers-i-1))\n",
    "    )\n",
    "    A_eq.append(\n",
    "    ([0]*i + [1] + [0]*(num_workers-i-1)) * num_tasks\n",
    "    ) \n",
    "b_ub = [1]*num_workers\n",
    "b_eq = [1]*num_tasks"
   ]
  },
  {
   "cell_type": "code",
   "execution_count": 8,
   "metadata": {},
   "outputs": [
    {
     "data": {
      "text/plain": [
       "32.00000000034828"
      ]
     },
     "execution_count": 8,
     "metadata": {},
     "output_type": "execute_result"
    }
   ],
   "source": [
    "ans = linprog(c, A_ub=A_ub, b_ub=b_ub, A_eq=A_eq, b_eq=b_eq, bounds=(0,1))\n",
    "ans['fun']"
   ]
  },
  {
   "cell_type": "code",
   "execution_count": 9,
   "metadata": {},
   "outputs": [
    {
     "data": {
      "text/plain": [
       "array([[3.42156369e-14, 5.00669985e-14, 2.67462223e-01, 8.06720871e-12,\n",
       "        7.32537777e-01],\n",
       "       [1.40960989e-12, 2.75234121e-14, 5.01267560e-01, 4.98732440e-01,\n",
       "        5.14529350e-12],\n",
       "       [2.67413570e-01, 4.98732440e-01, 3.16811796e-14, 2.33853990e-01,\n",
       "        2.09335641e-12],\n",
       "       [7.94701746e-12, 5.01267560e-01, 2.31270216e-01, 3.16749591e-14,\n",
       "        2.67462223e-01],\n",
       "       [7.32586430e-01, 5.31310127e-12, 2.08998365e-12, 2.67413570e-01,\n",
       "        3.03792922e-14]])"
      ]
     },
     "execution_count": 9,
     "metadata": {},
     "output_type": "execute_result"
    }
   ],
   "source": [
    "ans['x'].reshape(5,5)"
   ]
  },
  {
   "cell_type": "markdown",
   "metadata": {},
   "source": [
    "## Задание 5.3\n",
    "Необходимо найти кратчайший маршрут из точки $A$ , который проходит через все другие точки и возвращается в $A$.\n",
    "![](https://lms.skillfactory.ru/assets/courseware/v1/1dbdee74e890f6f4a8142e80d5799db3/asset-v1:Skillfactory+DST-PRO+15APR2020+type@asset+block/MAT_4_unit_62.png)\n",
    "\n",
    "Сформулируйте эту задачу как задачу ЦЛП и решите её.\n",
    "\n",
    "В ответ запишите длину кратчайшего пути:"
   ]
  },
  {
   "cell_type": "code",
   "execution_count": 10,
   "metadata": {},
   "outputs": [
    {
     "ename": "ModuleNotFoundError",
     "evalue": "No module named 'cvxpy'",
     "output_type": "error",
     "traceback": [
      "\u001b[1;31m---------------------------------------------------------------------------\u001b[0m",
      "\u001b[1;31mModuleNotFoundError\u001b[0m                       Traceback (most recent call last)",
      "\u001b[1;32m<ipython-input-10-4c9da897f631>\u001b[0m in \u001b[0;36m<module>\u001b[1;34m\u001b[0m\n\u001b[1;32m----> 1\u001b[1;33m \u001b[1;32mimport\u001b[0m \u001b[0mcvxpy\u001b[0m\u001b[1;33m\u001b[0m\u001b[1;33m\u001b[0m\u001b[0m\n\u001b[0m\u001b[0;32m      2\u001b[0m \u001b[1;32mimport\u001b[0m \u001b[0mnumpy\u001b[0m \u001b[1;32mas\u001b[0m \u001b[0mnp\u001b[0m\u001b[1;33m\u001b[0m\u001b[1;33m\u001b[0m\u001b[0m\n\u001b[0;32m      3\u001b[0m \u001b[0mx\u001b[0m \u001b[1;33m=\u001b[0m \u001b[0mcvxpy\u001b[0m\u001b[1;33m.\u001b[0m\u001b[0mVariable\u001b[0m\u001b[1;33m(\u001b[0m\u001b[0mshape\u001b[0m\u001b[1;33m=\u001b[0m\u001b[1;33m(\u001b[0m\u001b[1;36m5\u001b[0m\u001b[1;33m,\u001b[0m\u001b[1;36m5\u001b[0m\u001b[1;33m)\u001b[0m\u001b[1;33m,\u001b[0m \u001b[0mboolean\u001b[0m\u001b[1;33m=\u001b[0m\u001b[1;32mTrue\u001b[0m\u001b[1;33m)\u001b[0m\u001b[1;33m\u001b[0m\u001b[1;33m\u001b[0m\u001b[0m\n\u001b[0;32m      4\u001b[0m \u001b[0mu\u001b[0m \u001b[1;33m=\u001b[0m \u001b[0mcvxpy\u001b[0m\u001b[1;33m.\u001b[0m\u001b[0mVariable\u001b[0m\u001b[1;33m(\u001b[0m\u001b[0mshape\u001b[0m\u001b[1;33m=\u001b[0m\u001b[1;36m5\u001b[0m\u001b[1;33m,\u001b[0m \u001b[0minteger\u001b[0m\u001b[1;33m=\u001b[0m\u001b[1;32mTrue\u001b[0m\u001b[1;33m)\u001b[0m\u001b[1;33m\u001b[0m\u001b[1;33m\u001b[0m\u001b[0m\n\u001b[0;32m      5\u001b[0m \u001b[1;33m\u001b[0m\u001b[0m\n",
      "\u001b[1;31mModuleNotFoundError\u001b[0m: No module named 'cvxpy'"
     ]
    }
   ],
   "source": [
    "import cvxpy\n",
    "import numpy as np\n",
    "x = cvxpy.Variable(shape=(5,5), boolean=True)\n",
    "u = cvxpy.Variable(shape=5, integer=True)\n",
    "\n",
    "from itertools import product\n",
    "\n",
    "constraints = [\n",
    "    cvxpy.sum(x, axis=0) == np.ones(5),\n",
    "    cvxpy.sum(x, axis=1) == np.ones(5),\n",
    "    u >= 0,\n",
    "    u <= 4,\n",
    "    cvxpy.sum(cvxpy.diag(x)) == 0\n",
    "]\n",
    "\n",
    "for i, j in product(range(5), range(5)):\n",
    "    if i >= 0 and j >= 1 and i != j:\n",
    "        constraints.append(u[i] - u[j] + 5 * x[i,j] <= 4)\n",
    "\n",
    "d = np.array([[0, 12, 10, 19, 8], [12, 0, 3, 7, 2], [10, 3, 0, 6, 20], [19, 7, 6, 0, 4], [8, 2, 20, 4, 0]])\n",
    "\n",
    "func = cvxpy.sum(cvxpy.multiply(x, d))\n",
    "problem = cvxpy.Problem(cvxpy.Minimize(func), constraints=constraints)\n",
    "result = problem.solve(solver='ECOS_BB')\n",
    "np.round(result)"
   ]
  },
  {
   "cell_type": "markdown",
   "metadata": {},
   "source": [
    "# Градиентный спуск\n",
    "## Задание 7.1\n",
    "Найдите градиентным спуском минимум функции $2x^2-4xy+y^4+2$\n",
    "Ответ введите с точностью до целых"
   ]
  },
  {
   "cell_type": "code",
   "execution_count": 64,
   "metadata": {},
   "outputs": [
    {
     "name": "stdout",
     "output_type": "stream",
     "text": [
      "success\n"
     ]
    },
    {
     "data": {
      "text/plain": [
       "(array([1.00000039, 1.00000016]), 1.0000000000002127)"
      ]
     },
     "execution_count": 64,
     "metadata": {},
     "output_type": "execute_result"
    }
   ],
   "source": [
    "def f(x, y):\n",
    "    return 2*x**2 - 4*x*y + y**4 + 2\n",
    "\n",
    "def grad_f(x, y):\n",
    "    dx = 4*x - 4*y\n",
    "    dy = -4*x + 4*y**3\n",
    "    return np.array([dx, dy])\n",
    "\n",
    "def dist(x1, x2):\n",
    "    return np.sqrt(((x1  - x2)**2).sum())\n",
    "\n",
    "def grad_desc(f, grad_f, x0, gamma, stop):\n",
    "    x_cur = x0\n",
    "    vals = []\n",
    "    coords = []\n",
    "    i = 0\n",
    "    while i<stop:\n",
    "        x_new = x_cur - gamma * grad_f(*x_cur)\n",
    "#         x_new = (x_cur[0] - gamma * grad_f(*x_cur)[0],\n",
    "#                 x_cur[1] - gamma * grad_f(*x_cur)[1])\n",
    "        if dist(x_new, x_cur) < 1e-9:\n",
    "            print ('success')\n",
    "            break\n",
    "        x_cur = x_new\n",
    "        vals.append(f(*x_cur))\n",
    "        coords.append(x_cur)\n",
    "        i += 1\n",
    "    #     if i % 100 == 0:\n",
    "    #         print(f\"iter={i}; x=({x_cur[0]:.3f}, {x_cur[1]:.3f});\"\n",
    "    #               f\" f(x)={f(*x_cur):.3f}; grad f(x)=({grad_f(*x_cur)[0]:.3f}, {grad_f(*x_cur)[1]:.3f})\")\n",
    "    else: \n",
    "        print ('not success')\n",
    "    return x_cur,f(*x_cur)\n",
    "   \n",
    "x0 = np.array([5, 2])\n",
    "gamma = 1e-3    \n",
    "grad_desc(f,grad_f,x0,gamma,50000)\n",
    "# np.around(x_cur), np.around(f(*x_cur))"
   ]
  },
  {
   "cell_type": "markdown",
   "metadata": {},
   "source": [
    "## Задание 7.2\n",
    "Обучите линейную регрессию из **Задачи 3.7.3** при помощи градиентного спуска. Чему равно оптимальное значение $L^2-loss?$  \n",
    "\n",
    "$$L = (2.1 − w_0 − w_1)^2 + (2.9 − w_0 − 3w_1)^2 + (4.1 − w_0 − 5w_1)^2$$  \n",
    "  \n",
    "Ответ введите с точностью до целых"
   ]
  },
  {
   "cell_type": "code",
   "execution_count": 65,
   "metadata": {},
   "outputs": [
    {
     "name": "stdout",
     "output_type": "stream",
     "text": [
      "success\n"
     ]
    },
    {
     "data": {
      "text/plain": [
       "0"
      ]
     },
     "execution_count": 65,
     "metadata": {},
     "output_type": "execute_result"
    }
   ],
   "source": [
    "def l(w0,w1):\n",
    "    return (2.1-w0-w1)**2 + (2.9-w0-3*w1)**2 + (4.1-w0-5*w1)**2\n",
    "    \n",
    "def grad_l(w0,w1):\n",
    "    dw0 = 6*w0 + 18*w1 - 18.2\n",
    "    dw1 = 18*w0 + 70*w1 - 62.6\n",
    "    return np.array([dw0,dw1])\n",
    "\n",
    "x0 = np.array([15, 20])\n",
    "gamma = 1e-3    \n",
    "ans2 = grad_desc(l,grad_l,x0,gamma,50000)[1]\n",
    "round(ans2)"
   ]
  },
  {
   "cell_type": "markdown",
   "metadata": {},
   "source": [
    "## Задание 7.3\n",
    "Найдите градиентным спуском минимум функции $x^3-2x^2+y^2+z^2-2xy+xz-yz+3z$\n",
    "\n",
    "Ответ введите с точностью до целых"
   ]
  },
  {
   "cell_type": "code",
   "execution_count": 68,
   "metadata": {},
   "outputs": [
    {
     "name": "stdout",
     "output_type": "stream",
     "text": [
      "success\n"
     ]
    },
    {
     "data": {
      "text/plain": [
       "-7"
      ]
     },
     "execution_count": 68,
     "metadata": {},
     "output_type": "execute_result"
    }
   ],
   "source": [
    "def f2(x,y,z):\n",
    "    return x**3 - 2*x**2 + y**2 +z**2 - 2*x*y + x*z - y*z + 3*z\n",
    "    \n",
    "def grad_f2(x,y,z):\n",
    "    dx = 3*x**2 - 4*x - 2*y + z\n",
    "    dy = 2*y - 2*x - z\n",
    "    dz = 2*z + x - y + 3\n",
    "    return np.array([dx,dy,dz])\n",
    "\n",
    "x0 = [15, 20,30]\n",
    "gamma = 1e-3 \n",
    "stop = 50000\n",
    "\n",
    "ans3 = grad_desc(f2,grad_f2,x0,gamma,stop)[1]\n",
    "round(ans3)"
   ]
  },
  {
   "cell_type": "markdown",
   "metadata": {},
   "source": [
    "# Градиентный спуск с momentum\n",
    "\n",
    "Заметим, что для ускорения спуска было бы неплохо учитывать изменения на прошлом шаге. В примере на рисунке мы видим, как алгоритм колеблется вокруг одной прямой. Было бы здорово явно сказать алгоритму держаться ближе к прямой и двигаться вдоль неё.\n",
    "\n",
    "![](https://lms.skillfactory.ru/assets/courseware/v1/9adbdb3d799afde8d4061a5686f1b0a7/asset-v1:Skillfactory+DST-PRO+15APR2020+type@asset+block/MAT_4_unit_44.png)\n",
    "\n",
    "Решить эту проблему позволяет одна из вариаций градиентного спуска — градиентный спуск с momentum:\n",
    "\n",
    "![](https://lms.skillfactory.ru/assets/courseware/v1/8ba8de0b76ae23738c6dd678608eb9f9/asset-v1:Skillfactory+DST-PRO+15APR2020+type@asset+block/MAT_4_unit_42.png)\n",
    "Идея заключается в том, что на каждой итерации градиентного спуска x изменяется не только на градиент, помноженный на темп обучения, но и на вектор, на который мы передвинулись в прошлом шаге, с некоторым коэффициентом.\n",
    "\n",
    "В формуле выше: α — это параметр, который будет показывать, насколько сильно будет учитываться прошлый шаг. Для предыдущего примера это работает так: точка начинает двигаться вдоль прямой, которая ведёт к локальному минимуму:\n",
    "\n",
    "\n",
    "![](https://lms.skillfactory.ru/assets/courseware/v1/3a2239242e607d99ccd0d83e5ca4531d/asset-v1:Skillfactory+DST-PRO+15APR2020+type@asset+block/MAT_4_unit_45.png)\n",
    "\n",
    "А значит, алгоритм сходится быстрее. Momentum переводится как импульс, и идея алгоритма отражает идею импульса в физике — пытаемся сымитировать инерцию точки.\n"
   ]
  },
  {
   "cell_type": "markdown",
   "metadata": {},
   "source": [
    "## Задание 8.2\n",
    "Напишите следующую точку градиентного спуска с momentum для функции  \n",
    "$f(x, y, z)=2x^2-4xz+4y^2-8yz+9z^2+4x+8y-20z$, если текущая точка $– (1, 2, -5)$, перед ней была $(0, 0, 0)$,  \n",
    "$γ=0.25, α=1$.\n",
    "\n",
    "Введите координаты точки через запятую (без пробела):"
   ]
  },
  {
   "cell_type": "code",
   "execution_count": null,
   "metadata": {},
   "outputs": [],
   "source": []
  },
  {
   "cell_type": "code",
   "execution_count": null,
   "metadata": {},
   "outputs": [],
   "source": []
  },
  {
   "cell_type": "code",
   "execution_count": null,
   "metadata": {},
   "outputs": [],
   "source": []
  },
  {
   "cell_type": "markdown",
   "metadata": {},
   "source": [
    "# ====================ПОДВАЛ======================"
   ]
  },
  {
   "cell_type": "code",
   "execution_count": null,
   "metadata": {},
   "outputs": [],
   "source": []
  },
  {
   "cell_type": "markdown",
   "metadata": {},
   "source": [
    "![таблица](https://lms.skillfactory.ru/assets/courseware/v1/304a4fb2612ca0e3c68b1f681bd1876c/asset-v1:Skillfactory+DST-PRO+15APR2020+type@asset+block/MAT_4_unit_61.png)"
   ]
  },
  {
   "cell_type": "code",
   "execution_count": null,
   "metadata": {},
   "outputs": [],
   "source": []
  }
 ],
 "metadata": {
  "kernelspec": {
   "display_name": "Python 3",
   "language": "python",
   "name": "python3"
  },
  "language_info": {
   "codemirror_mode": {
    "name": "ipython",
    "version": 3
   },
   "file_extension": ".py",
   "mimetype": "text/x-python",
   "name": "python",
   "nbconvert_exporter": "python",
   "pygments_lexer": "ipython3",
   "version": "3.8.8"
  }
 },
 "nbformat": 4,
 "nbformat_minor": 2
}
