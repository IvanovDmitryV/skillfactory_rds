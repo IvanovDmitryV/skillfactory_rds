{
 "cells": [
  {
   "cell_type": "code",
   "execution_count": 10,
   "metadata": {},
   "outputs": [],
   "source": [
    "import pandas as pd\n",
    "import numpy as np\n",
    "\n",
    "from scipy.optimize import linprog"
   ]
  },
  {
   "cell_type": "markdown",
   "metadata": {},
   "source": [
    "## Задача о назначениях\n",
    "У вас есть $\\mathbf{n}$ задач и $\\textbf{n}$ человек, которые могут их сделать. Каждая задача должна быть сделана одним человеком и каждый должен сделать ровно одну задачу. У человека $\\textbf{i}$ задача $\\textbf{j}$ будет стоить $\\mathbf{с_ij}$. Вам нужно сделать все задачи как можно дешевле.\n",
    "\n",
    "Решение:\n",
    "\n",
    "Сформулируем задачу как задачу **ЦЛП**.\n",
    "\n",
    "Пусть $\\mathbf{x_ij} = 1$, если задачу $\\textbf{j}$ выполнит человек $\\textbf{i}$, а если работы выполнил кто-то другой, то  $\\mathbf{x_ij} = 0$.\n",
    "\n",
    "Минимизируем суммарную стоимость $\\mathbf{с_ij} \\cdot \\mathbf{x_ij}$.\n",
    "\n",
    "Первое условие: $\\mathbf{x_ij}$ либо $0$, либо $1$.  \n",
    "Второе условие: каждый человек должен взять ровно одну задачу.  \n",
    "Третье условие: каждую задачу должен взять ровно один человек.\n",
    "\n",
    "<img src=\"https://lms.skillfactory.ru/assets/courseware/v1/5798e5ca004d904fe81f53ac188dcd19/asset-v1:Skillfactory+DST-PRO+15APR2020+type@asset+block/MAT_4_unit_25.png\" alt=\"drawing\" width=\"100\"/>"
   ]
  },
  {
   "cell_type": "code",
   "execution_count": 11,
   "metadata": {},
   "outputs": [
    {
     "data": {
      "text/plain": [
       "array([[1.00000000e+00, 1.81641017e-10, 1.50577037e-10],\n",
       "       [3.34291459e-10, 9.29024503e-11, 1.00000000e+00],\n",
       "       [2.79748444e-11, 1.00000000e+00, 1.93325293e-10]])"
      ]
     },
     "execution_count": 11,
     "metadata": {},
     "output_type": "execute_result"
    }
   ],
   "source": [
    "c = [2,3,4,\n",
    "    1,5,2,\n",
    "    5,2,3]\n",
    "A_ub = [[1,1,1,0,0,0,0,0,0],\n",
    "        [0,0,0,1,1,1,0,0,0],\n",
    "        [0,0,0,0,0,0,1,1,1]]\n",
    "b_ub = [1,1,1]\n",
    "A_eq = [[1,0,0,1,0,0,1,0,0],\n",
    "        [0,1,0,0,1,0,0,1,0],\n",
    "        [0,0,1,0,0,1,0,0,1]]\n",
    "b_eq = [1,1,1]\n",
    "\n",
    "ans = linprog(c, A_ub=A_ub, b_ub=b_ub, A_eq=A_eq, b_eq=b_eq, bounds=(0,1))\n",
    "# ans\n",
    "\n",
    "ans['x'].reshape(3,3)"
   ]
  },
  {
   "cell_type": "markdown",
   "metadata": {},
   "source": [
    "## Задача коммивояжёра\n",
    "Вам нужно объехать n пунктов, время в пути между пунктами i и j равно dij. Нужно объехать все пункты, чтобы минимизировать суммарное время в пути. В каждый пункт нужно заехать ровно один раз.\n",
    "\n",
    "Решение:\n",
    "\n",
    "Сформулируем задачу как задачу ЦЛП. Пусть мы имеем множество отрезков между парами пунктов, и отрезок xij = 1, если в наш путь вошёл отрезок между пунктами i и j, и 0 если не вошёл. Целевая функция — суммарное время проезда.\n",
    "\n",
    "Первое условие: x либо 0, либо 1.\n",
    "Второе условие: в каждый пункт нужно въехать ровно один раз.\n",
    "Третье условие: из каждого пункта нужно выехать ровно один раз.\n",
    "\n",
    "рис\n",
    "\n"
   ]
  },
  {
   "cell_type": "markdown",
   "metadata": {},
   "source": [
    "## Задание 5.1\n",
    "Составьте оптимальный план перевозок, со Склада № 1 и Склада № 2, в три торговых центра, с учётом тарифов, запасов и потребностей, которые указаны в таблице: \n",
    "\n",
    "| Склады|Торговые |центры||\n",
    "|-|-|-|-|\n",
    "| |ТЦ1(110шт)|ТЦ2(150шт)|ТЦ3(140)|\n",
    "|Склад1(180шт)|2|5|3|\n",
    "|Склад2(220шт)|7|7|6|\n",
    "\n",
    "Сформулируйте задачу, как задачу линейного программирования, и решите её любым способом (желательно программным).\n",
    "\n",
    "В ответ запишите минимальную суммарную стоимость поставки (с точностью до целых):"
   ]
  },
  {
   "cell_type": "code",
   "execution_count": 12,
   "metadata": {},
   "outputs": [],
   "source": [
    "c = [2,5,3,7,7,6]\n",
    "A_ub = [[1,1,1,0,0,0],\n",
    "        [0,0,0,1,1,1]]\n",
    "b_ub = [180,220]\n",
    "A_eq = [[1,0,0,1,0,0],\n",
    "        [0,1,0,0,1,0],\n",
    "        [0,0,1,0,0,1]]\n",
    "b_eq = [110,150,140]"
   ]
  },
  {
   "cell_type": "code",
   "execution_count": 13,
   "metadata": {},
   "outputs": [
    {
     "data": {
      "text/plain": [
       "     con: array([4.39231856e-06, 6.01910315e-06, 5.61240711e-06])\n",
       "     fun: 1899.999925682654\n",
       " message: 'Optimization terminated successfully.'\n",
       "     nit: 5\n",
       "   slack: array([7.20364883e-06, 8.82017997e-06])\n",
       "  status: 0\n",
       " success: True\n",
       "       x: array([1.09999995e+02, 4.43103329e-08, 6.99999980e+01, 8.98577274e-07,\n",
       "       1.49999994e+02, 6.99999963e+01])"
      ]
     },
     "execution_count": 13,
     "metadata": {},
     "output_type": "execute_result"
    }
   ],
   "source": [
    "linprog(c, A_ub=A_ub, b_ub=b_ub, A_eq=A_eq, b_eq=b_eq)"
   ]
  },
  {
   "cell_type": "markdown",
   "metadata": {},
   "source": [
    "## Задание 5.2\n",
    "Решите задачу о назначениях\n",
    "\n",
    "<img src=\"https://lms.skillfactory.ru/assets/courseware/v1/304a4fb2612ca0e3c68b1f681bd1876c/asset-v1:Skillfactory+DST-PRO+15APR2020+type@asset+block/MAT_4_unit_61.png\" alt=\"drawing\" width=\"400\"/>\n",
    "  \n",
    "  \n",
    "В ответ запишите минимальную стоимость:\n",
    "\n"
   ]
  },
  {
   "cell_type": "code",
   "execution_count": 14,
   "metadata": {},
   "outputs": [],
   "source": [
    "num_tasks, num_workers = 5,5\n",
    "\n",
    "c = [1000, 12, 10, 19, 8,\n",
    "    12, 1000, 3, 7, 2,\n",
    "    10, 3, 1000, 6, 20,\n",
    "    19, 7, 6, 1000, 4,\n",
    "    8, 2, 20, 4, 1000]\n",
    "\n",
    "A_ub,A_eq = [],[]\n",
    "for i in range(0, num_workers):\n",
    "    A_ub.append(\n",
    "        [0]*(num_tasks*i) + [1]*num_tasks + [0]*(num_tasks*(num_workers-i-1))\n",
    "    )\n",
    "    A_eq.append(\n",
    "    ([0]*i + [1] + [0]*(num_workers-i-1)) * num_tasks\n",
    "    ) \n",
    "b_ub = [1]*num_workers\n",
    "b_eq = [1]*num_tasks"
   ]
  },
  {
   "cell_type": "code",
   "execution_count": 15,
   "metadata": {},
   "outputs": [
    {
     "name": "stderr",
     "output_type": "stream",
     "text": [
      "C:\\Users\\GANSOR-PC\\Anaconda3\\lib\\site-packages\\ipykernel_launcher.py:1: OptimizeWarning: Solving system with option 'cholesky':True failed. It is normal for this to happen occasionally, especially as the solution is approached. However, if you see this frequently, consider setting option 'cholesky' to False.\n",
      "  \"\"\"Entry point for launching an IPython kernel.\n",
      "C:\\Users\\GANSOR-PC\\Anaconda3\\lib\\site-packages\\ipykernel_launcher.py:1: OptimizeWarning: Solving system with option 'sym_pos':True failed. It is normal for this to happen occasionally, especially as the solution is approached. However, if you see this frequently, consider setting option 'sym_pos' to False.\n",
      "  \"\"\"Entry point for launching an IPython kernel.\n"
     ]
    },
    {
     "data": {
      "text/plain": [
       "32.00000000034828"
      ]
     },
     "execution_count": 15,
     "metadata": {},
     "output_type": "execute_result"
    }
   ],
   "source": [
    "ans = linprog(c, A_ub=A_ub, b_ub=b_ub, A_eq=A_eq, b_eq=b_eq, bounds=(0,1))\n",
    "ans['fun']"
   ]
  },
  {
   "cell_type": "code",
   "execution_count": 16,
   "metadata": {},
   "outputs": [
    {
     "data": {
      "text/plain": [
       "array([[3.42163359e-14, 5.00680214e-14, 2.67462222e-01, 8.06737352e-12,\n",
       "        7.32537778e-01],\n",
       "       [1.40963868e-12, 2.75239744e-14, 5.01267561e-01, 4.98732439e-01,\n",
       "        5.14539862e-12],\n",
       "       [2.67413570e-01, 4.98732439e-01, 3.16818269e-14, 2.33853991e-01,\n",
       "        2.09339917e-12],\n",
       "       [7.94717981e-12, 5.01267561e-01, 2.31270216e-01, 3.16756062e-14,\n",
       "        2.67462222e-01],\n",
       "       [7.32586430e-01, 5.31320982e-12, 2.09002635e-12, 2.67413570e-01,\n",
       "        3.03799129e-14]])"
      ]
     },
     "execution_count": 16,
     "metadata": {},
     "output_type": "execute_result"
    }
   ],
   "source": [
    "ans['x'].reshape(5,5)"
   ]
  },
  {
   "cell_type": "markdown",
   "metadata": {},
   "source": [
    "## Задание 5.3\n",
    "Необходимо найти кратчайший маршрут из точки $A$ , который проходит через все другие точки и возвращается в $A$.\n",
    "![таблица](https://lms.skillfactory.ru/assets/courseware/v1/1dbdee74e890f6f4a8142e80d5799db3/asset-v1:Skillfactory+DST-PRO+15APR2020+type@asset+block/MAT_4_unit_62.png)\n",
    "\n",
    "Сформулируйте эту задачу как задачу ЦЛП и решите её.\n",
    "\n",
    "В ответ запишите длину кратчайшего пути:"
   ]
  },
  {
   "cell_type": "code",
   "execution_count": 17,
   "metadata": {},
   "outputs": [
    {
     "data": {
      "text/plain": [
       "32.0"
      ]
     },
     "execution_count": 17,
     "metadata": {},
     "output_type": "execute_result"
    }
   ],
   "source": [
    "import cvxpy\n",
    "import numpy as np\n",
    "x = cvxpy.Variable(shape=(5,5), boolean=True)\n",
    "u = cvxpy.Variable(shape=5, integer=True)\n",
    "\n",
    "from itertools import product\n",
    "\n",
    "constraints = [\n",
    "    cvxpy.sum(x, axis=0) == np.ones(5),\n",
    "    cvxpy.sum(x, axis=1) == np.ones(5),\n",
    "    u >= 0,\n",
    "    u <= 4,\n",
    "    cvxpy.sum(cvxpy.diag(x)) == 0\n",
    "]\n",
    "\n",
    "for i, j in product(range(5), range(5)):\n",
    "    if i >= 0 and j >= 1 and i != j:\n",
    "        constraints.append(u[i] - u[j] + 5 * x[i,j] <= 4)\n",
    "\n",
    "d = np.array([[0, 12, 10, 19, 8], [12, 0, 3, 7, 2], [10, 3, 0, 6, 20], [19, 7, 6, 0, 4], [8, 2, 20, 4, 0]])\n",
    "\n",
    "func = cvxpy.sum(cvxpy.multiply(x, d))\n",
    "problem = cvxpy.Problem(cvxpy.Minimize(func), constraints=constraints)\n",
    "result = problem.solve(solver='ECOS_BB')\n",
    "np.round(result)"
   ]
  },
  {
   "cell_type": "markdown",
   "metadata": {},
   "source": [
    "# Градиентный спуск\n",
    "## Задание 7.1\n",
    "Найдите градиентным спуском минимум функции $2x^2-4xy+y^4+2$\n",
    "Ответ введите с точностью до целых"
   ]
  },
  {
   "cell_type": "code",
   "execution_count": 65,
   "metadata": {},
   "outputs": [
    {
     "data": {
      "text/plain": [
       "((1.0124325979198332, 1.0051147445516755), 1.0002122803069162)"
      ]
     },
     "execution_count": 65,
     "metadata": {},
     "output_type": "execute_result"
    }
   ],
   "source": [
    "def f(x, y):\n",
    "    return 2*x**2 - 4*x*y + y**4 + 2\n",
    "\n",
    "def grad_f(x, y):\n",
    "    dx = 4*x - 4*y\n",
    "    dy = -4*x + 4*y**3\n",
    "    return (dx, dy)\n",
    "\n",
    "def dist(x1, x2):\n",
    "    return (x1[0] - x2[0]) ** 2 + (x1[1] - x2[1]) ** 2\n",
    "\n",
    "def grad_desc(f, grad_f, x0, gamma, stop):\n",
    "    x_cur = x0\n",
    "    vals = []\n",
    "    coords = []\n",
    "    i = 0\n",
    "    while i<stop:\n",
    "        x_new = (x_cur[0] - gamma * grad_f(*x_cur)[0],\n",
    "                x_cur[1] - gamma * grad_f(*x_cur)[1])\n",
    "        if dist(x_new, x_cur) < 1e-9:\n",
    "            break\n",
    "        x_cur = x_new\n",
    "        vals.append(f(*x_cur))\n",
    "        coords.append(x_cur)\n",
    "        i += 1\n",
    "    #     if i % 100 == 0:\n",
    "    #         print(f\"iter={i}; x=({x_cur[0]:.3f}, {x_cur[1]:.3f});\"\n",
    "    #               f\" f(x)={f(*x_cur):.3f}; grad f(x)=({grad_f(*x_cur)[0]:.3f}, {grad_f(*x_cur)[1]:.3f})\")\n",
    "    return x_cur,f(*x_cur)\n",
    "   \n",
    "x0 = [5, 2]\n",
    "gamma = 1e-3    \n",
    "grad_desc(f,grad_f,x0,gamma,5000)\n",
    "# np.around(x_cur), np.around(f(*x_cur))"
   ]
  },
  {
   "cell_type": "markdown",
   "metadata": {},
   "source": [
    "## Задание 7.2\n",
    "Обучите линейную регрессию из **Задачи 3.7.3** при помощи градиентного спуска. Чему равно оптимальное значение $L^2-loss?$  \n",
    "\n",
    "$$L = (2.1 − w_0 − w_1)^2 + (2.9 − w_0 − 3w_1)^2 + (4.1 − w_0 − 5w_1)^2$$  \n",
    "  \n",
    "Ответ введите с точностью до целых"
   ]
  },
  {
   "cell_type": "code",
   "execution_count": null,
   "metadata": {},
   "outputs": [],
   "source": [
    "def l(w0,w1):\n",
    "    return (2.1-w0-w1)**2 + (2.9-w0-3*w1)**2 + (4.1-w0-5*w1)**2\n",
    "    \n",
    "def grad_l():\n"
   ]
  },
  {
   "cell_type": "markdown",
   "metadata": {},
   "source": [
    "x0 = [5, 2]\n",
    "gamma = 1e-3    \n",
    "grad_desc(f,grad_f,x0,gamma,5000)"
   ]
  },
  {
   "cell_type": "code",
   "execution_count": null,
   "metadata": {},
   "outputs": [],
   "source": []
  },
  {
   "cell_type": "markdown",
   "metadata": {},
   "source": [
    "# ====================ПОДВАЛ======================"
   ]
  },
  {
   "cell_type": "code",
   "execution_count": null,
   "metadata": {},
   "outputs": [],
   "source": []
  },
  {
   "cell_type": "markdown",
   "metadata": {},
   "source": [
    "![таблица](https://lms.skillfactory.ru/assets/courseware/v1/304a4fb2612ca0e3c68b1f681bd1876c/asset-v1:Skillfactory+DST-PRO+15APR2020+type@asset+block/MAT_4_unit_61.png)"
   ]
  },
  {
   "cell_type": "code",
   "execution_count": null,
   "metadata": {},
   "outputs": [],
   "source": []
  }
 ],
 "metadata": {
  "kernelspec": {
   "display_name": "Python 3",
   "language": "python",
   "name": "python3"
  },
  "language_info": {
   "codemirror_mode": {
    "name": "ipython",
    "version": 3
   },
   "file_extension": ".py",
   "mimetype": "text/x-python",
   "name": "python",
   "nbconvert_exporter": "python",
   "pygments_lexer": "ipython3",
   "version": "3.7.4"
  }
 },
 "nbformat": 4,
 "nbformat_minor": 2
}
