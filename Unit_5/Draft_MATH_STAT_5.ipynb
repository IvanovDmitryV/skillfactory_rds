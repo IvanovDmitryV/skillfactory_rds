{
 "cells": [
  {
   "cell_type": "code",
   "execution_count": 1,
   "metadata": {},
   "outputs": [],
   "source": [
    "import pandas as pd\n",
    "import numpy as np"
   ]
  },
  {
   "cell_type": "code",
   "execution_count": null,
   "metadata": {},
   "outputs": [],
   "source": []
  },
  {
   "cell_type": "markdown",
   "metadata": {},
   "source": [
    "### Задание 5.4.4\n",
    "В школе у пятниклассника Вовочки оценки ставятся по стобалльной шкале. Оценки по предметам ставятся каждый день. В конце четверти учитель проставил в дневник случайные выборки оценок за  дней, чтобы родители могли составить представление об успеваемости.\n",
    "\n",
    "Оценки Вовочки по математике и русскому языку выглядят так:\n",
    "\n",
    "Математика: $20, 23, 29, 22, 50, 43, 35$  \n",
    "Русский язык: $70, 65, 58, 90, 45, 57, 50$  \n",
    "\n",
    "Выберите или впишите правильные ответы. При необходимости округлите ответы до сотых."
   ]
  },
  {
   "cell_type": "code",
   "execution_count": 36,
   "metadata": {},
   "outputs": [],
   "source": [
    "math = pd.Series([20, 23, 29, 22, 50, 43, 35])\n",
    "russ = pd.Series([70, 65, 58, 90, 45, 57, 50])"
   ]
  },
  {
   "cell_type": "markdown",
   "metadata": {},
   "source": [
    "1. Найдите долю оценок выше 40 среди оценок по математике:"
   ]
  },
  {
   "cell_type": "code",
   "execution_count": 10,
   "metadata": {},
   "outputs": [
    {
     "data": {
      "text/plain": [
       "0.29"
      ]
     },
     "execution_count": 10,
     "metadata": {},
     "output_type": "execute_result"
    }
   ],
   "source": [
    "round((math>40).sum() / len(math),2)"
   ]
  },
  {
   "cell_type": "markdown",
   "metadata": {},
   "source": [
    "2. Найдите среднюю оценку Вовочки по математике:"
   ]
  },
  {
   "cell_type": "code",
   "execution_count": 12,
   "metadata": {},
   "outputs": [
    {
     "data": {
      "text/plain": [
       "31.71"
      ]
     },
     "execution_count": 12,
     "metadata": {},
     "output_type": "execute_result"
    }
   ],
   "source": [
    "round(math.mean(),2)"
   ]
  },
  {
   "cell_type": "markdown",
   "metadata": {},
   "source": [
    "3. Найдите среднюю оценку Вовочки по русскому языку:"
   ]
  },
  {
   "cell_type": "code",
   "execution_count": 13,
   "metadata": {},
   "outputs": [
    {
     "data": {
      "text/plain": [
       "62.14"
      ]
     },
     "execution_count": 13,
     "metadata": {},
     "output_type": "execute_result"
    }
   ],
   "source": [
    "round(russ.mean(),2)"
   ]
  },
  {
   "cell_type": "markdown",
   "metadata": {},
   "source": [
    "4. Найдите медианную оценку Вовочки по математике:"
   ]
  },
  {
   "cell_type": "code",
   "execution_count": 14,
   "metadata": {},
   "outputs": [
    {
     "data": {
      "text/plain": [
       "29.0"
      ]
     },
     "execution_count": 14,
     "metadata": {},
     "output_type": "execute_result"
    }
   ],
   "source": [
    "round(math.median(),2)"
   ]
  },
  {
   "cell_type": "markdown",
   "metadata": {},
   "source": [
    "5. Найдите медианную оценку Вовочки по русскому языку:"
   ]
  },
  {
   "cell_type": "code",
   "execution_count": 15,
   "metadata": {},
   "outputs": [
    {
     "data": {
      "text/plain": [
       "58.0"
      ]
     },
     "execution_count": 15,
     "metadata": {},
     "output_type": "execute_result"
    }
   ],
   "source": [
    "round(russ.median(),2)"
   ]
  },
  {
   "cell_type": "markdown",
   "metadata": {},
   "source": [
    "6. Найдите стандартное отклонение оценки Вовочки по математике (по неисправленной формуле):"
   ]
  },
  {
   "cell_type": "code",
   "execution_count": 22,
   "metadata": {},
   "outputs": [
    {
     "data": {
      "text/plain": [
       "10.61"
      ]
     },
     "execution_count": 22,
     "metadata": {},
     "output_type": "execute_result"
    }
   ],
   "source": [
    "S_nc = np.sqrt(((math - math.mean())**2).sum()/len(math))\n",
    "round(S_nc,2)"
   ]
  },
  {
   "cell_type": "code",
   "execution_count": 26,
   "metadata": {},
   "outputs": [
    {
     "data": {
      "text/plain": [
       "10.606120681868907"
      ]
     },
     "execution_count": 26,
     "metadata": {},
     "output_type": "execute_result"
    }
   ],
   "source": [
    "math.std(ddof=0)"
   ]
  },
  {
   "cell_type": "markdown",
   "metadata": {},
   "source": [
    "7. Найдите стандартное отклонение оценки Вовочки по математике (по исправленной формуле):\n"
   ]
  },
  {
   "cell_type": "code",
   "execution_count": 23,
   "metadata": {},
   "outputs": [
    {
     "data": {
      "text/plain": [
       "11.46"
      ]
     },
     "execution_count": 23,
     "metadata": {},
     "output_type": "execute_result"
    }
   ],
   "source": [
    "S_c = np.sqrt(((math - math.mean())**2).sum()/(len(math)-1))\n",
    "round(S_c,2)"
   ]
  },
  {
   "cell_type": "code",
   "execution_count": 27,
   "metadata": {},
   "outputs": [
    {
     "data": {
      "text/plain": [
       "11.455919659202191"
      ]
     },
     "execution_count": 27,
     "metadata": {},
     "output_type": "execute_result"
    }
   ],
   "source": [
    "math.std(ddof=1)"
   ]
  },
  {
   "cell_type": "markdown",
   "metadata": {},
   "source": [
    "8. Найдите стандартное отклонение оценки Вовочки по русскому языку (по неисправленной формуле):\n",
    "\n"
   ]
  },
  {
   "cell_type": "code",
   "execution_count": 37,
   "metadata": {},
   "outputs": [
    {
     "data": {
      "text/plain": [
       "13.79"
      ]
     },
     "execution_count": 37,
     "metadata": {},
     "output_type": "execute_result"
    }
   ],
   "source": [
    "S_nc = np.sqrt(((russ - russ.mean())**2).sum()/len(russ))\n",
    "round(S_nc,2)"
   ]
  },
  {
   "cell_type": "markdown",
   "metadata": {},
   "source": [
    "9. Найдите стандартное отклонение оценки Вовочки по русскому языку (по исправленной формуле):\n",
    "\n"
   ]
  },
  {
   "cell_type": "code",
   "execution_count": 38,
   "metadata": {},
   "outputs": [
    {
     "data": {
      "text/plain": [
       "14.89"
      ]
     },
     "execution_count": 38,
     "metadata": {},
     "output_type": "execute_result"
    }
   ],
   "source": [
    "S_c = np.sqrt(((russ - russ.mean())**2).sum()/(len(russ)-1))\n",
    "round(S_c,2)"
   ]
  },
  {
   "cell_type": "markdown",
   "metadata": {},
   "source": [
    "11. Найдите коэффициент корреляции между оценками Вовочки по математике и русскому языку:"
   ]
  },
  {
   "cell_type": "code",
   "execution_count": 65,
   "metadata": {},
   "outputs": [
    {
     "data": {
      "text/plain": [
       "-0.77"
      ]
     },
     "execution_count": 65,
     "metadata": {},
     "output_type": "execute_result"
    }
   ],
   "source": [
    "correlation = ((math - math.mean())*(russ - russ.mean())).sum() / \\\n",
    "np.sqrt(((russ - russ.mean())**2).sum()*((math - math.mean())**2).sum())\n",
    "round(correlation,2)"
   ]
  },
  {
   "cell_type": "code",
   "execution_count": 70,
   "metadata": {},
   "outputs": [
    {
     "data": {
      "text/plain": [
       "-0.7694801436457975"
      ]
     },
     "execution_count": 70,
     "metadata": {},
     "output_type": "execute_result"
    }
   ],
   "source": [
    "np.corrcoef(math,russ)[0][1]"
   ]
  },
  {
   "cell_type": "markdown",
   "metadata": {},
   "source": [
    "### Задание 5.4.5\n",
    "Мама Вовочки Вероника в прошлом хакер. Она взломала базу данных оценок сына и добыла оценки ещё за  дня:  по математике,  по русскому языку и  по математике,  по русскому языку. Теперь выборки его оценок выглядят так:\n",
    "\n",
    "Математика: 20, 23, 29, 22, 50, 43, 35, 98, 28  \n",
    "Русский язык: 70, 65, 58, 90, 45, 57, 50, 90, 38  \n",
    "Выберите правильные ответ. При необходимости округлите ответы до сотых."
   ]
  },
  {
   "cell_type": "code",
   "execution_count": 66,
   "metadata": {},
   "outputs": [],
   "source": [
    "math_new = pd.Series([20, 23, 29, 22, 50, 43, 35, 98, 28])\n",
    "russ_new = pd.Series([70, 65, 58, 90, 45, 57, 50, 90, 38])"
   ]
  },
  {
   "cell_type": "markdown",
   "metadata": {},
   "source": [
    "1.\tЧто сильнее изменится?  \n",
    "средняя оценка по математике  \n",
    "средняя оценка по русскому языку"
   ]
  },
  {
   "cell_type": "code",
   "execution_count": 67,
   "metadata": {},
   "outputs": [
    {
     "data": {
      "text/plain": [
       "-6.952380952380949"
      ]
     },
     "execution_count": 67,
     "metadata": {},
     "output_type": "execute_result"
    }
   ],
   "source": [
    "math.mean() - math_new.mean()"
   ]
  },
  {
   "cell_type": "code",
   "execution_count": 68,
   "metadata": {},
   "outputs": [
    {
     "data": {
      "text/plain": [
       "-0.41269841269841123"
      ]
     },
     "execution_count": 68,
     "metadata": {},
     "output_type": "execute_result"
    }
   ],
   "source": [
    "russ.mean() - russ_new.mean()"
   ]
  },
  {
   "cell_type": "markdown",
   "metadata": {},
   "source": [
    "2.\tКак изменится коэффициент корреляции?"
   ]
  },
  {
   "cell_type": "code",
   "execution_count": 73,
   "metadata": {},
   "outputs": [
    {
     "data": {
      "text/plain": [
       "(-0.7694801436457975, 0.3138446778421647)"
      ]
     },
     "execution_count": 73,
     "metadata": {},
     "output_type": "execute_result"
    }
   ],
   "source": [
    "np.corrcoef(math,russ)[0][1], np.corrcoef(math_new,russ_new)[0][1]"
   ]
  },
  {
   "cell_type": "markdown",
   "metadata": {},
   "source": [
    "В датасете **framingham.csv** представлены данные, которые группа учёных из Фрамингема (США) использовала для выявления риска заболевания ишемической болезнью сердца в течение 10 лет."
   ]
  },
  {
   "cell_type": "markdown",
   "metadata": {},
   "source": [
    "Условие задачи\n",
    "Рассмотрите датасет framingham.csv. Удалите строки с пропущенными значениями."
   ]
  },
  {
   "cell_type": "code",
   "execution_count": 164,
   "metadata": {},
   "outputs": [],
   "source": [
    "df = pd.read_csv('framingham.csv')"
   ]
  },
  {
   "cell_type": "code",
   "execution_count": 165,
   "metadata": {},
   "outputs": [],
   "source": [
    "df.dropna(axis=0,inplace=True)"
   ]
  },
  {
   "cell_type": "code",
   "execution_count": 166,
   "metadata": {},
   "outputs": [
    {
     "data": {
      "text/plain": [
       "Index(['male', 'age', 'education', 'currentSmoker', 'cigsPerDay', 'BPMeds',\n",
       "       'prevalentStroke', 'prevalentHyp', 'diabetes', 'totChol', 'sysBP',\n",
       "       'diaBP', 'BMI', 'heartRate', 'glucose', 'TenYearCHD'],\n",
       "      dtype='object')"
      ]
     },
     "execution_count": 166,
     "metadata": {},
     "output_type": "execute_result"
    }
   ],
   "source": [
    "df.columns"
   ]
  },
  {
   "cell_type": "markdown",
   "metadata": {},
   "source": [
    "### Задание 5.5.1-5.5.8\n",
    "1) Найдите общее количество пациентов с диабетом:"
   ]
  },
  {
   "cell_type": "code",
   "execution_count": 167,
   "metadata": {},
   "outputs": [
    {
     "data": {
      "text/plain": [
       "99"
      ]
     },
     "execution_count": 167,
     "metadata": {},
     "output_type": "execute_result"
    }
   ],
   "source": [
    "df.diabetes.value_counts()[1]"
   ]
  },
  {
   "cell_type": "markdown",
   "metadata": {},
   "source": [
    "2) Найдите долю диабетиков среди всех пациентов:\n",
    "\n",
    "Ответ округлите до тысячных\n",
    "\n",
    "\n"
   ]
  },
  {
   "cell_type": "code",
   "execution_count": 168,
   "metadata": {},
   "outputs": [
    {
     "data": {
      "text/plain": [
       "0.027"
      ]
     },
     "execution_count": 168,
     "metadata": {},
     "output_type": "execute_result"
    }
   ],
   "source": [
    "round(df.diabetes.value_counts(normalize=True)[1],3)"
   ]
  },
  {
   "cell_type": "markdown",
   "metadata": {},
   "source": [
    "3) Найдите долю пациентов группы риска среди пациентов с диабетом:\n",
    "\n",
    "Ответ округлите до тысячных\n"
   ]
  },
  {
   "cell_type": "code",
   "execution_count": 169,
   "metadata": {},
   "outputs": [
    {
     "data": {
      "text/plain": [
       "0.354"
      ]
     },
     "execution_count": 169,
     "metadata": {},
     "output_type": "execute_result"
    }
   ],
   "source": [
    "round(df.groupby('diabetes').TenYearCHD.mean()[1],3)"
   ]
  },
  {
   "cell_type": "code",
   "execution_count": 170,
   "metadata": {},
   "outputs": [
    {
     "data": {
      "text/plain": [
       "0.354"
      ]
     },
     "execution_count": 170,
     "metadata": {},
     "output_type": "execute_result"
    }
   ],
   "source": [
    "round(df.groupby('diabetes').TenYearCHD.value_counts(normalize=True)[1][1],3)"
   ]
  },
  {
   "cell_type": "markdown",
   "metadata": {},
   "source": [
    "4) Найдите долю пациентов группы риска среди пациентов без диабета:\n",
    "\n"
   ]
  },
  {
   "cell_type": "code",
   "execution_count": 171,
   "metadata": {},
   "outputs": [
    {
     "data": {
      "text/plain": [
       "0.147"
      ]
     },
     "execution_count": 171,
     "metadata": {},
     "output_type": "execute_result"
    }
   ],
   "source": [
    "round(df.groupby('diabetes').TenYearCHD.value_counts(normalize=True)[0][1],3)"
   ]
  },
  {
   "cell_type": "markdown",
   "metadata": {},
   "source": [
    "5) Найдите долю диабетиков среди пациентов группы риска:\n",
    "\n"
   ]
  },
  {
   "cell_type": "markdown",
   "metadata": {},
   "source": [
    "6) Найдите долю диабетиков среди пациентов не из группы риска:\n",
    "\n",
    "Ответ округлите до сотых\n",
    "\n"
   ]
  },
  {
   "cell_type": "code",
   "execution_count": 172,
   "metadata": {},
   "outputs": [
    {
     "data": {
      "text/plain": [
       "TenYearCHD\n",
       "0    0.02\n",
       "1    0.06\n",
       "Name: diabetes, dtype: float64"
      ]
     },
     "execution_count": 172,
     "metadata": {},
     "output_type": "execute_result"
    }
   ],
   "source": [
    "round(df.groupby('TenYearCHD').diabetes.mean(),2)"
   ]
  },
  {
   "cell_type": "markdown",
   "metadata": {},
   "source": [
    "7) Найдите среднее и медианное значения систолического давления среди пациентов-диабетиков:\n",
    "\n",
    "Ответ округлите до сотых\n"
   ]
  },
  {
   "cell_type": "code",
   "execution_count": 174,
   "metadata": {},
   "outputs": [
    {
     "data": {
      "text/plain": [
       "145.95"
      ]
     },
     "execution_count": 174,
     "metadata": {},
     "output_type": "execute_result"
    }
   ],
   "source": [
    "round(df.groupby('diabetes').sysBP.mean()[1],2)"
   ]
  },
  {
   "cell_type": "code",
   "execution_count": 175,
   "metadata": {},
   "outputs": [
    {
     "data": {
      "text/plain": [
       "142.0"
      ]
     },
     "execution_count": 175,
     "metadata": {},
     "output_type": "execute_result"
    }
   ],
   "source": [
    "round(df.groupby('diabetes').sysBP.median()[1],2)"
   ]
  },
  {
   "cell_type": "markdown",
   "metadata": {},
   "source": [
    "8) Постройте матрицу корреляций для признаков пациентов в группе риска. Найдите 2 признака с самой сильной взаимосвязью. Выпишите коэффициент корреляции между ними, округлите до сотых."
   ]
  },
  {
   "cell_type": "code",
   "execution_count": 160,
   "metadata": {},
   "outputs": [],
   "source": [
    "corrmatr = (df.groupby('TenYearCHD').corr().loc[1] - np.eye(df.shape[1]-1))"
   ]
  },
  {
   "cell_type": "code",
   "execution_count": 163,
   "metadata": {},
   "outputs": [
    {
     "data": {
      "text/plain": [
       "0.79"
      ]
     },
     "execution_count": 163,
     "metadata": {},
     "output_type": "execute_result"
    }
   ],
   "source": [
    "round(corrmatr.max().max(),2)"
   ]
  },
  {
   "cell_type": "code",
   "execution_count": 162,
   "metadata": {},
   "outputs": [
    {
     "data": {
      "text/plain": [
       "-0.3098318295075459"
      ]
     },
     "execution_count": 162,
     "metadata": {},
     "output_type": "execute_result"
    }
   ],
   "source": [
    "corrmatr.min().min()"
   ]
  },
  {
   "cell_type": "markdown",
   "metadata": {},
   "source": [
    "### ----------------------------------------------------------------------------------------------------------------------------------"
   ]
  },
  {
   "cell_type": "code",
   "execution_count": 12,
   "metadata": {},
   "outputs": [],
   "source": [
    "from scipy.stats import norm, t\n"
   ]
  },
  {
   "cell_type": "markdown",
   "metadata": {},
   "source": [
    "### Задание 5.7.1\n",
    "1. Найдите $Z_{критическое}$ для интервала с уровнем доверия 93 %. Укажите с точностью до двух знаков после разделительной точки."
   ]
  },
  {
   "cell_type": "code",
   "execution_count": 9,
   "metadata": {},
   "outputs": [
    {
     "data": {
      "text/plain": [
       "1.81"
      ]
     },
     "execution_count": 9,
     "metadata": {},
     "output_type": "execute_result"
    }
   ],
   "source": [
    "alpha = 0.07\n",
    "z_cr = -norm.ppf(alpha/2)\n",
    "round(z_cr,2)"
   ]
  },
  {
   "cell_type": "markdown",
   "metadata": {},
   "source": [
    "2. Парфюмерная компания хочет узнать возраст женщин, которые являются их покупательницами. Ранее уже было изучено, что средний возраст был $37$, а среднеквадратичное отклонение равно $3.4$ . Размер выборки — $200$ человек. Рассчитайте 95 % доверительный интервал для среднего возраста. Запишите в ответ верхнюю границу интервала, округлите до сотых."
   ]
  },
  {
   "cell_type": "code",
   "execution_count": 7,
   "metadata": {},
   "outputs": [
    {
     "data": {
      "text/plain": [
       "37.47"
      ]
     },
     "execution_count": 7,
     "metadata": {},
     "output_type": "execute_result"
    }
   ],
   "source": [
    "n = 200\n",
    "alpha = 0.05\n",
    "mu = 37\n",
    "sigma = 3.4\n",
    "\n",
    "z_cr = -norm.ppf(alpha/2)\n",
    "r_bound = mu + z_cr*sigma/np.sqrt(n)\n",
    "round(r_bound,2)"
   ]
  },
  {
   "cell_type": "markdown",
   "metadata": {},
   "source": [
    "3. Диетологи хотят узнать, сколько сладостей (в кг) потребляют жители города. По данным последнего исследования, среднее количество употребленного сладкого за месяц — $7.6$ кг, среднеквадратичное отклонение $0.8$. Размер выборки — $60$ человек. Рассчитайте 99 % доверительный интервал для среднего количества употребленного сладкого. Запишите в ответ нижнюю границу, округлите до сотых."
   ]
  },
  {
   "cell_type": "code",
   "execution_count": 8,
   "metadata": {},
   "outputs": [
    {
     "data": {
      "text/plain": [
       "7.33"
      ]
     },
     "execution_count": 8,
     "metadata": {},
     "output_type": "execute_result"
    }
   ],
   "source": [
    "n = 60\n",
    "mu = 7.6\n",
    "sigma = 0.8\n",
    "alpha = 0.01\n",
    "\n",
    "z_cr = -norm.ppf(alpha/2)\n",
    "l_bound = mu - z_cr*sigma/np.sqrt(n)\n",
    "round(l_bound,2)"
   ]
  },
  {
   "cell_type": "markdown",
   "metadata": {},
   "source": [
    "## 5.9. Практика по доверительным интервалам\n",
    "#### УСЛОВИЯ ЗАДАЧИ № 1\n",
    "\n",
    "\n",
    "\n",
    "Управляющий супермаркета хочет оценить, сколько денег покупатели тратят за один поход в супермаркет в среднем. На основании ранее собранных данных известно, что расходы одного покупателя распределены приблизительно нормально. Управляющий взял случайную выборку из $15$ покупателей и выяснил, что их средние расходы равны $2000$ рублей, а выборочное стандартное отклонение равно $400$ рублей.\n",
    "\n",
    "→ Давайте поможем управляющему, решив несколько задачек с помощью Python.\n",
    "\n",
    "Напомним, что выражение в формуле доверительного интервала, указанное после знака ±, называется пределом погрешности. Предел погрешности можно также найти с помощью Python."
   ]
  },
  {
   "cell_type": "code",
   "execution_count": 14,
   "metadata": {},
   "outputs": [],
   "source": [
    "def confidence_interval_norm(alpha, sigma, n, mean):\n",
    "    value = -norm.ppf(alpha/2) * sigma / np.sqrt(n)\n",
    "    return mean - value, mean + value\n",
    "\n",
    "def confidence_interval_t(alpha, s, n, mean):\n",
    "    value = -t.ppf(alpha/2, n - 1) * s / np.sqrt(n)\n",
    "    return mean - value, mean + value"
   ]
  },
  {
   "cell_type": "markdown",
   "metadata": {},
   "source": [
    "### Задание 5.9.1-5.9.2\n",
    "\n",
    "\n",
    "найдите доверительные интервалы для среднего значения расходов μ. Ответ округлите до целого числа (количества рублей):"
   ]
  },
  {
   "cell_type": "code",
   "execution_count": 24,
   "metadata": {},
   "outputs": [
    {
     "data": {
      "text/plain": [
       "(1818.0, 2182.0)"
      ]
     },
     "execution_count": 24,
     "metadata": {},
     "output_type": "execute_result"
    }
   ],
   "source": [
    "# На 90% уровне доверия:\n",
    "alpha = 0.1\n",
    "s = 400\n",
    "mean = 2000\n",
    "n = 15\n",
    "l_bound, r_bound = confidence_interval_t(alpha, s, n, mean)\n",
    "round(l_bound), round(r_bound)"
   ]
  },
  {
   "cell_type": "code",
   "execution_count": 25,
   "metadata": {},
   "outputs": [
    {
     "data": {
      "text/plain": [
       "(1778.0, 2222.0)"
      ]
     },
     "execution_count": 25,
     "metadata": {},
     "output_type": "execute_result"
    }
   ],
   "source": [
    "# На 95% уровне доверия:\n",
    "alpha = 0.05\n",
    "l_bound, r_bound = confidence_interval_t(alpha, s, n, mean)\n",
    "round(l_bound), round(r_bound)"
   ]
  },
  {
   "cell_type": "code",
   "execution_count": 26,
   "metadata": {},
   "outputs": [
    {
     "data": {
      "text/plain": [
       "(1693.0, 2307.0)"
      ]
     },
     "execution_count": 26,
     "metadata": {},
     "output_type": "execute_result"
    }
   ],
   "source": [
    "# На 99% уровне доверия:\n",
    "alpha = 0.01\n",
    "l_bound, r_bound = confidence_interval_t(alpha, s, n, mean)\n",
    "round(l_bound), round(r_bound)"
   ]
  },
  {
   "cell_type": "markdown",
   "metadata": {},
   "source": [
    "#### УСЛОВИЯ ЗАДАЧИ № 2\n",
    "Чиновника интересует сумма подоходного налога, выплачиваемого домохозяйствами за год. На случайной выборке из $250$ домохозяйств был посчитан средний размер выплаченного налога, и он составил $3540$. Также на основании ранее предоставленных данных из налоговой инспекции известно истинное стандартное отклонение величины подоходного налога, равное $1150$.\n",
    "\n",
    "→ Необходимо найти 99 % доверительный интервал для истинного среднего значения налоговых выплат за год.\n",
    "\n",
    "### Задание 5.9.3\n",
    "найдите 99 %-ный доверительный интервал для среднего значения годовых отчислений на подоходный налог . Ответы необходимо округлить до целых значений."
   ]
  },
  {
   "cell_type": "code",
   "execution_count": 28,
   "metadata": {},
   "outputs": [
    {
     "data": {
      "text/plain": [
       "(3353.0, 3727.0)"
      ]
     },
     "execution_count": 28,
     "metadata": {},
     "output_type": "execute_result"
    }
   ],
   "source": [
    "alpha = 0.01\n",
    "sigma = 1150\n",
    "n = 250\n",
    "mean = 3540\n",
    "\n",
    "l_bound, r_bound = confidence_interval_norm(alpha, sigma, n, mean)\n",
    "round(l_bound), round(r_bound)"
   ]
  },
  {
   "cell_type": "markdown",
   "metadata": {},
   "source": [
    "### 5.10. Доверительный интервал для пропорции\n",
    "#### ЗАДАЧА ДЛЯ САМОСТОЯТЕЛЬНОГО РЕШЕНИЯ\n",
    "\n",
    "Чтобы оценить удовлетворенность клиентов сети отелей, менеджер взял случайную выборку из $189$ комментариев, оставленных посетителями на онлайн-платформе по бронированию, и провел анализ их содержания. Выяснилось, что $132$ комментария были положительными, остальные — негативными.\n",
    "\n",
    "→ Давайте поможем менеджеру ответить на несколько вопросов!\n",
    "\n",
    "### Задание 5.10.1\n",
    "Чему равна выборочная пропорция положительных комментариев? Укажите с точностью до трех знаков после разделительной точки."
   ]
  },
  {
   "cell_type": "code",
   "execution_count": 30,
   "metadata": {},
   "outputs": [
    {
     "data": {
      "text/plain": [
       "0.698"
      ]
     },
     "execution_count": 30,
     "metadata": {},
     "output_type": "execute_result"
    }
   ],
   "source": [
    "n = 189\n",
    "n_pos = 132\n",
    "\n",
    "p = n_pos/n\n",
    "round(p,3)"
   ]
  },
  {
   "cell_type": "markdown",
   "metadata": {},
   "source": [
    "Найдите 90 %-ный доверительный интервал для истинной пропорции положительных комментариев. Ответ введите с точностью до трех знаков после разделительной точки."
   ]
  },
  {
   "cell_type": "code",
   "execution_count": 43,
   "metadata": {},
   "outputs": [
    {
     "data": {
      "text/plain": [
       "(0.643, 0.753)"
      ]
     },
     "execution_count": 43,
     "metadata": {},
     "output_type": "execute_result"
    }
   ],
   "source": [
    "alpha = 0.1\n",
    "\n",
    "z_cr = norm.ppf(1-alpha/2)\n",
    "s  = np.sqrt(p*(1-p)/n)\n",
    "l_bound, r_bound  = p - z_cr*s, p + z_cr*s\n",
    "round(l_bound,3), round(r_bound,3)"
   ]
  },
  {
   "cell_type": "code",
   "execution_count": null,
   "metadata": {},
   "outputs": [],
   "source": []
  }
 ],
 "metadata": {
  "kernelspec": {
   "display_name": "Python 3",
   "language": "python",
   "name": "python3"
  },
  "language_info": {
   "codemirror_mode": {
    "name": "ipython",
    "version": 3
   },
   "file_extension": ".py",
   "mimetype": "text/x-python",
   "name": "python",
   "nbconvert_exporter": "python",
   "pygments_lexer": "ipython3",
   "version": "3.6.5"
  }
 },
 "nbformat": 4,
 "nbformat_minor": 2
}
