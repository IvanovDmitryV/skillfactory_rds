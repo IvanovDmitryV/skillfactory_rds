{
 "cells": [
  {
   "cell_type": "code",
   "execution_count": 243,
   "metadata": {},
   "outputs": [],
   "source": [
    "import pandas as pd\n",
    "import numpy as np\n",
    "\n",
    "from sklearn.linear_model import LinearRegression, LogisticRegression\n",
    "from sklearn.tree import DecisionTreeClassifier\n",
    "from sklearn.neighbors import KNeighborsClassifier\n",
    "from sklearn.model_selection import train_test_split\n",
    "from sklearn.metrics import mean_squared_error, accuracy_score, roc_auc_score, f1_score\n",
    "from sklearn.preprocessing import StandardScaler"
   ]
  },
  {
   "cell_type": "markdown",
   "metadata": {},
   "source": [
    "### Задание 7.4.5\n",
    "Допустим, у вас есть выборки\n",
    "```python\n",
    "y_true = [1.23, 2.35, 2.75]\n",
    "y_pred = [1.01, 12.3, 2.74] \n",
    "```\n",
    "Посчитайте метрику RMSE, округлите до сотых и запишите результат. Например, 3.14"
   ]
  },
  {
   "cell_type": "code",
   "execution_count": 132,
   "metadata": {},
   "outputs": [],
   "source": [
    "y_true = np.array([1.23, 2.35, 2.75])\n",
    "y_pred = np.array([1.01, 12.3, 2.74])"
   ]
  },
  {
   "cell_type": "code",
   "execution_count": 133,
   "metadata": {},
   "outputs": [
    {
     "data": {
      "text/plain": [
       "5.75"
      ]
     },
     "execution_count": 133,
     "metadata": {},
     "output_type": "execute_result"
    }
   ],
   "source": [
    "RMSE = np.sqrt(np.square(y_true - y_pred).sum()/3)\n",
    "round(RMSE,2)"
   ]
  },
  {
   "cell_type": "markdown",
   "metadata": {},
   "source": [
    "### Задание 4.5.1\n",
    "Загрузите данные train.csv, оставьте в данных только признаки `'fine_amount', 'state_fee', 'late_fee', 'discount_amount', 'balance_due'`, затем избавьтесь от пропусков. Целевой переменной будет `'balance_due'`, разделите данные на обучающую и тестовую выборки в соотношении **70%** на **30%** без перемешивания. Обучите линейную регрессию из `scikit-learn` и запишите в переменную `result` значение метрики RMSE на тестовой выборке."
   ]
  },
  {
   "cell_type": "code",
   "execution_count": 134,
   "metadata": {},
   "outputs": [],
   "source": [
    "vis_data = pd.read_csv(\"./Unit_5_data/train.csv\", encoding = 'ISO-8859-1', low_memory = False)\n",
    "# Напишите ваш код ниже\n",
    "data = vis_data[['fine_amount', 'state_fee', 'late_fee', 'discount_amount', 'balance_due']].dropna(axis='index')\n",
    "\n",
    "y = data.balance_due\n",
    "X = data.drop(columns = 'balance_due')\n",
    "\n",
    "X_train, X_test, y_train, y_test = train_test_split(X, y, test_size=0.3, shuffle=False)\n",
    "\n",
    "model = LinearRegression()\n",
    "model.fit(X_train, y_train)\n",
    "\n",
    "y_pred = model.predict(X_test)\n",
    "\n",
    "result = mean_squared_error(y_test,y_pred)**0.5"
   ]
  },
  {
   "cell_type": "markdown",
   "metadata": {},
   "source": [
    "### Задание 4.6.6-4.6.10\n",
    "\n",
    "На этапе вычисления метрик вы получили результаты precision = 0.75 и recall = 0.6. Посчитайте значение метрики $F1$. Округлите до сотых и запишите результат."
   ]
  },
  {
   "cell_type": "code",
   "execution_count": 135,
   "metadata": {},
   "outputs": [
    {
     "data": {
      "text/plain": [
       "0.67"
      ]
     },
     "execution_count": 135,
     "metadata": {},
     "output_type": "execute_result"
    }
   ],
   "source": [
    "precision = 0.75; recall = 0.6\n",
    "\n",
    "F1 = 2*recall*precision/(recall+precision)\n",
    "\n",
    "round(F1,2)"
   ]
  },
  {
   "cell_type": "markdown",
   "metadata": {},
   "source": [
    "Допустим, у вас есть выборки \n",
    "```python\n",
    "    y_true = [0, 0, 1, 1, 1, 1, 0, 1]\n",
    "    y_pred = [0, 1, 0, 0, 1, 1, 0, 1]. \n",
    "```\n",
    "Посчитайте значение метрики $F1$. Округлите до сотых и запишите результат."
   ]
  },
  {
   "cell_type": "code",
   "execution_count": 136,
   "metadata": {},
   "outputs": [],
   "source": [
    "y_true = np.array([0, 0, 1, 1, 1, 1, 0, 1]); y_pred = np.array([0, 1, 0, 0, 1, 1, 0, 1])\n",
    "\n",
    "recall = ((y_true == y_pred) & (y_true == 1)).sum()/y_true.sum()\n",
    "precision = ((y_true == y_pred) & (y_true == 1)).sum()/y_pred.sum()"
   ]
  },
  {
   "cell_type": "code",
   "execution_count": 137,
   "metadata": {},
   "outputs": [
    {
     "data": {
      "text/plain": [
       "0.67"
      ]
     },
     "execution_count": 137,
     "metadata": {},
     "output_type": "execute_result"
    }
   ],
   "source": [
    "F1 = 2*recall*precision/(recall+precision)\n",
    "round(F1,2)"
   ]
  },
  {
   "cell_type": "markdown",
   "metadata": {},
   "source": [
    "Допустим, у вас есть выборки \n",
    "```python\n",
    "y_true = [0, 0, 1, 0, 0, 1, 0]\n",
    "y_pred = [1, 1, 1, 0, 1, 1, 0]\n",
    "```\n",
    "Посчитайте значение метрики $precision$. Округлите до сотых и запишите результат."
   ]
  },
  {
   "cell_type": "code",
   "execution_count": 138,
   "metadata": {},
   "outputs": [],
   "source": [
    "y_true = np.array([0, 0, 1, 0, 0, 1, 0])\n",
    "y_pred = np.array([1, 1, 1, 0, 1, 1, 0])"
   ]
  },
  {
   "cell_type": "code",
   "execution_count": 139,
   "metadata": {},
   "outputs": [
    {
     "data": {
      "text/plain": [
       "0.4"
      ]
     },
     "execution_count": 139,
     "metadata": {},
     "output_type": "execute_result"
    }
   ],
   "source": [
    "precision = ((y_true==y_pred) & (y_true==1)).sum()/y_pred.sum()\n",
    "round(precision,2)"
   ]
  },
  {
   "cell_type": "markdown",
   "metadata": {},
   "source": [
    "Допустим, у вас есть выборки \n",
    "```python\n",
    "y_true = [0, 0, 1, 0, 0, 1, 0]\n",
    "y_pred = [1, 1, 1, 0, 1, 1, 0]\n",
    "```\n",
    "Посчитайте значение метрики $recall$ . Округлите до сотых и запишите результат."
   ]
  },
  {
   "cell_type": "code",
   "execution_count": 140,
   "metadata": {},
   "outputs": [
    {
     "data": {
      "text/plain": [
       "1.0"
      ]
     },
     "execution_count": 140,
     "metadata": {},
     "output_type": "execute_result"
    }
   ],
   "source": [
    "recall = ((y_true==y_pred) & (y_true==1)).sum()/y_true.sum()\n",
    "round(recall,2)"
   ]
  },
  {
   "cell_type": "markdown",
   "metadata": {},
   "source": [
    "## 4.7. Практика для метрик классификации\n",
    "\n",
    "Реализуем бинарную классификацию записей голосов (мужских и женских) на основе характеристик записей их разговоров."
   ]
  },
  {
   "cell_type": "markdown",
   "metadata": {},
   "source": [
    "В предложенном датасете есть ряд свойств, определенных по аудиозаписям:\n",
    "\n",
    "- **meanfreq**: средняя частота голоса (в кГц)\n",
    "- **sd**: стандартное отклонение частоты голоса\n",
    "- **median**: медианная частота (в кГц)\n",
    "- **Q25**: значение в первом квартиле (в кГц)\n",
    "- **Q75**: значение в третьем квартиле (в кГц)\n",
    "- **IQR**: интерквартильный размах (в кГц)\n",
    "- **skew**: ассиметрия\n",
    "- **kurt**: эксцесс\n",
    "- **sp.ent**: спектральная энтропия\n",
    "- **sfm**: энтропия Винера\n",
    "- **mode**: мода частоты\n",
    "- **centroid**: частотный центроид\n",
    "- **meanfun**: средняя основная частота, измеренная по акустическому сигналу\n",
    "- **minfun**:  минимальная основная частота, измеренная по акустическому сигналу\n",
    "- **maxfun**: максимальная основная частота, измеренная в акустическом сигнале\n",
    "- **meandom**: среднее значение доминирующей частоты, измеренной по акустическому сигналу\n",
    "- **mindom**: минимум доминирующей частоты, измеренной в акустическом сигнале\n",
    "- **maxdom**: максимум доминирующей частоты, измеренной в акустическом сигнале\n",
    "- **dfrange**: диапазон доминантных частот, измеренное на звуковой сигнал\n",
    "- **modindx**: индекс модуляции голоса  \n",
    "\n",
    "Прежде, чем проводить анализ, можно с помощью визуализации оценить, есть ли различия в частотах голосов мужчин и женщин. Можем построить распределения, например, средних частот:"
   ]
  },
  {
   "cell_type": "markdown",
   "metadata": {},
   "source": [
    "### Задание\n",
    "Попробуйте построить модель, предсказывающую пол обладателя записи голоса.  \n",
    "Для этого:\n",
    "\n",
    "- Разделите выборку на обучающую и тренировочную с параметрами `test_size=0.3, random_state=42`\n",
    "\n",
    "- Нормализуйте признаки с помощью функции `StandardScaler()`. Для обучающей и тестовой выборки по отдельности!\n",
    "\n",
    "- Обучите модель логистической регрессии на подготовленных данных."
   ]
  },
  {
   "cell_type": "code",
   "execution_count": 141,
   "metadata": {},
   "outputs": [
    {
     "name": "stderr",
     "output_type": "stream",
     "text": [
      "C:\\Users\\GANSOR-PC\\Anaconda3\\lib\\site-packages\\sklearn\\linear_model\\logistic.py:432: FutureWarning: Default solver will be changed to 'lbfgs' in 0.22. Specify a solver to silence this warning.\n",
      "  FutureWarning)\n"
     ]
    },
    {
     "data": {
      "text/plain": [
       "LogisticRegression(C=1.0, class_weight=None, dual=False, fit_intercept=True,\n",
       "                   intercept_scaling=1, l1_ratio=None, max_iter=100,\n",
       "                   multi_class='warn', n_jobs=None, penalty='l2',\n",
       "                   random_state=None, solver='warn', tol=0.0001, verbose=0,\n",
       "                   warm_start=False)"
      ]
     },
     "execution_count": 141,
     "metadata": {},
     "output_type": "execute_result"
    }
   ],
   "source": [
    "data = pd.read_csv('./Unit_5_data/voiceDataSet.csv')\n",
    "\n",
    "data.label = (data.label == 'male').astype('int8')\n",
    "\n",
    "y = data.label\n",
    "X = data.drop(columns='label')\n",
    "X_train, X_test, y_train, y_test = train_test_split(X, y, test_size=0.3, random_state=42)\n",
    "\n",
    "scaller = StandardScaler()\n",
    "X_train_scalled = scaller.fit_transform(X_train)\n",
    "X_test_scalled = scaller.fit_transform(X_test)\n",
    "\n",
    "model = LogisticRegression()\n",
    "model.fit(X_train_scalled, y_train)"
   ]
  },
  {
   "cell_type": "markdown",
   "metadata": {},
   "source": [
    "### Задание 4.7.1\n",
    "Вычислите значение метрики $accuracy$ и введите полученное значение. Запишите ответ в формате трех знаков после запятой (не округляя)."
   ]
  },
  {
   "cell_type": "code",
   "execution_count": 142,
   "metadata": {},
   "outputs": [
    {
     "data": {
      "text/plain": [
       "0.9737118822292324"
      ]
     },
     "execution_count": 142,
     "metadata": {},
     "output_type": "execute_result"
    }
   ],
   "source": [
    "y_pred = model.predict(X_test_scalled)\n",
    "\n",
    "accuracy_score(y_test, y_pred)"
   ]
  },
  {
   "cell_type": "markdown",
   "metadata": {},
   "source": [
    "Теперь познакомимся с новым алгоритмом классификации, а также снова потренируемся делить выборку и осуществлять кросс-валидацию. Кроме того, посмотрим, как можно оценить качество классификации для случая, когда наша классификация не бинарная, т.е. у нас несколько классов.\n",
    "\n",
    "В этом кейсе мы попробуем определять типы стекла по его характеристикам."
   ]
  },
  {
   "cell_type": "code",
   "execution_count": 143,
   "metadata": {},
   "outputs": [],
   "source": [
    "data = pd.read_csv('./Unit_5_data/glass.xls')"
   ]
  },
  {
   "cell_type": "code",
   "execution_count": 144,
   "metadata": {},
   "outputs": [
    {
     "name": "stdout",
     "output_type": "stream",
     "text": [
      "<class 'pandas.core.frame.DataFrame'>\n",
      "RangeIndex: 214 entries, 0 to 213\n",
      "Data columns (total 10 columns):\n",
      "RI      214 non-null float64\n",
      "Na      214 non-null float64\n",
      "Mg      214 non-null float64\n",
      "Al      214 non-null float64\n",
      "Si      214 non-null float64\n",
      "K       214 non-null float64\n",
      "Ca      214 non-null float64\n",
      "Ba      214 non-null float64\n",
      "Fe      214 non-null float64\n",
      "Type    214 non-null int64\n",
      "dtypes: float64(9), int64(1)\n",
      "memory usage: 16.8 KB\n"
     ]
    }
   ],
   "source": [
    "data.info()"
   ]
  },
  {
   "cell_type": "markdown",
   "metadata": {},
   "source": [
    "### Задание 4.7.2\n",
    "Сколько классов стекла представлено в этой задаче?"
   ]
  },
  {
   "cell_type": "code",
   "execution_count": 145,
   "metadata": {},
   "outputs": [
    {
     "data": {
      "text/plain": [
       "6"
      ]
     },
     "execution_count": 145,
     "metadata": {},
     "output_type": "execute_result"
    }
   ],
   "source": [
    "data.Type.nunique()"
   ]
  },
  {
   "cell_type": "markdown",
   "metadata": {},
   "source": [
    "# KNN"
   ]
  },
  {
   "cell_type": "code",
   "execution_count": 146,
   "metadata": {},
   "outputs": [],
   "source": [
    "y = data.Type\n",
    "X = data.drop(columns=\"Type\")"
   ]
  },
  {
   "cell_type": "code",
   "execution_count": 147,
   "metadata": {},
   "outputs": [
    {
     "data": {
      "text/plain": [
       "array([0.44186047, 0.65116279, 0.3255814 , 0.34883721, 0.07142857])"
      ]
     },
     "execution_count": 147,
     "metadata": {},
     "output_type": "execute_result"
    }
   ],
   "source": [
    "from sklearn.neighbors import KNeighborsClassifier\n",
    "from sklearn.model_selection import cross_val_score, KFold\n",
    "\n",
    "model=KNeighborsClassifier(n_neighbors=3)\n",
    "kf = KFold(n_splits=5)\n",
    "cross_val_score(model, X, y, cv=kf, scoring=\"accuracy\")"
   ]
  },
  {
   "cell_type": "markdown",
   "metadata": {},
   "source": [
    "### Задание 4.7.3\n",
    "Измените количество разбиений на 10. Вычислите среднее значение метрики  по 10 разбиениям и введите ниже, округлите до сотых."
   ]
  },
  {
   "cell_type": "code",
   "execution_count": 184,
   "metadata": {},
   "outputs": [
    {
     "data": {
      "text/plain": [
       "0.57"
      ]
     },
     "execution_count": 184,
     "metadata": {},
     "output_type": "execute_result"
    }
   ],
   "source": [
    "kf = KFold(n_splits=10)\n",
    "scores = cross_val_score(model, X, y, cv=kf, scoring=\"accuracy\")\n",
    "mean_score = scores.mean()\n",
    "\n",
    "round(mean_score,2)"
   ]
  },
  {
   "cell_type": "markdown",
   "metadata": {},
   "source": [
    "В следующей задаче мы будем диагностировать болезни сердца по различным медицинским параметрам пациентов.\n",
    "\n",
    "Избавьтесь от выбросов, чтобы они не ухудшили качество нашей модели:   \n",
    "- Для того, чтобы избавиться от выбросов, уберите все данные, значения признаков которых отстают от первого или третьего квартиля более, чем на 1.5 межквартильного размаха."
   ]
  },
  {
   "cell_type": "code",
   "execution_count": 208,
   "metadata": {},
   "outputs": [],
   "source": [
    "data = pd.read_csv(\"./Unit_5_data/heart_fin.csv\",sep = ';') #encoding='cp1251'"
   ]
  },
  {
   "cell_type": "markdown",
   "metadata": {},
   "source": [
    "### Задание 4.7.4\n",
    "Сколько наблюдений осталось после удаления выбросов?"
   ]
  },
  {
   "cell_type": "code",
   "execution_count": 209,
   "metadata": {},
   "outputs": [
    {
     "name": "stdout",
     "output_type": "stream",
     "text": [
      "Wall time: 41.9 ms\n"
     ]
    }
   ],
   "source": [
    "%%time\n",
    "columns_to_clean = data.columns.drop('target')\n",
    "\n",
    "def out_range_indexes(row):\n",
    "    r_bound = row.quantile(q=0.75) + 1.5*(row.quantile(q=0.75) - row.quantile(q=0.25))\n",
    "    l_bound = row.quantile(q=0.25) - 1.5*(row.quantile(q=0.75) - row.quantile(q=0.25))\n",
    "    \n",
    "    return row[~row.between(l_bound, r_bound)].index.tolist()\n",
    "\n",
    "index_to_drop = list(set(data[columns_to_clean].apply(out_range_indexes,axis=0).sum()))\n",
    "\n",
    "data.drop(index=index_to_drop,inplace=True)"
   ]
  },
  {
   "cell_type": "code",
   "execution_count": 210,
   "metadata": {},
   "outputs": [
    {
     "name": "stdout",
     "output_type": "stream",
     "text": [
      "Wall time: 11 ms\n"
     ]
    }
   ],
   "source": [
    "%%time\n",
    "IQR = data.quantile(0.75) - data.quantile(0.25)\n",
    "l_b = data.quantile(0.25) - 1.5*IQR\n",
    "r_b = data.quantile(0.75) + 1.5*IQR\n",
    "\n",
    "data = data[(~((data<l_b) | (data>r_b)).any(axis = 1))]"
   ]
  },
  {
   "cell_type": "markdown",
   "metadata": {},
   "source": [
    "### Задание 4.7.5-4.7.6\n",
    "Теперь разбейте выборку на тестовую и обучающую с параметрами `test_size=0.15`, `random_state=5`.\n",
    "\n",
    "Обучите модели логистической регрессии ( c параметром `max_iter=1000`) и `KNN `(с количеством соседей, равным `3`) на этих данных. Вычислите метрики качества.\n",
    "\n",
    "У какой модели выше значение ROC AUC?"
   ]
  },
  {
   "cell_type": "code",
   "execution_count": 211,
   "metadata": {},
   "outputs": [],
   "source": [
    "y = data.target\n",
    "X = data.drop(columns='target')\n",
    "\n",
    "X_train, X_test, y_train, y_test = train_test_split(X,y,test_size=0.15,random_state=5)"
   ]
  },
  {
   "cell_type": "code",
   "execution_count": 219,
   "metadata": {},
   "outputs": [
    {
     "name": "stderr",
     "output_type": "stream",
     "text": [
      "C:\\Users\\GANSOR-PC\\Anaconda3\\lib\\site-packages\\sklearn\\linear_model\\logistic.py:432: FutureWarning: Default solver will be changed to 'lbfgs' in 0.22. Specify a solver to silence this warning.\n",
      "  FutureWarning)\n"
     ]
    }
   ],
   "source": [
    "LR = LogisticRegression(max_iter=1000)\n",
    "KNN = KNeighborsClassifier(n_neighbors=3)\n",
    "\n",
    "LR.fit(X_train,y_train)\n",
    "KNN.fit(X_train,y_train)\n",
    "\n",
    "LR_pred = LR.predict(X_test)\n",
    "KNN_pred = KNN.predict(X_test)\n",
    "\n",
    "LR_metric = roc_auc_score(y_test,LR_pred)\n",
    "KNN_metric = roc_auc_score(y_test,KNN_pred)"
   ]
  },
  {
   "cell_type": "code",
   "execution_count": 220,
   "metadata": {},
   "outputs": [
    {
     "data": {
      "text/plain": [
       "array([1, 1, 0, 1, 1, 1, 1, 1, 0, 1, 1, 1, 0, 0, 0, 1, 1, 1, 1, 0, 0, 1,\n",
       "       0, 1, 0, 1, 0, 0, 1, 0, 1, 1, 0, 1, 1, 0, 1, 1, 0, 1, 1, 1, 1],\n",
       "      dtype=int64)"
      ]
     },
     "execution_count": 220,
     "metadata": {},
     "output_type": "execute_result"
    }
   ],
   "source": [
    "LR_pred"
   ]
  },
  {
   "cell_type": "code",
   "execution_count": 221,
   "metadata": {},
   "outputs": [
    {
     "data": {
      "text/plain": [
       "(0.81, 0.62)"
      ]
     },
     "execution_count": 221,
     "metadata": {},
     "output_type": "execute_result"
    }
   ],
   "source": [
    "round(LR_metric,2), round(KNN_metric,2)"
   ]
  },
  {
   "cell_type": "code",
   "execution_count": 222,
   "metadata": {},
   "outputs": [
    {
     "data": {
      "text/plain": [
       "132.72727272727272"
      ]
     },
     "execution_count": 222,
     "metadata": {},
     "output_type": "execute_result"
    }
   ],
   "source": [
    "1460/11"
   ]
  },
  {
   "cell_type": "markdown",
   "metadata": {},
   "source": [
    "### Задание 4.9.1\n",
    "Загрузите данные `train.csv`, оставьте в данных только признаки `'fine_amount', 'state_fee', 'late_fee', 'discount_amount', 'balance_due', 'compliance'`, затем избавьтесь от пропусков.\n",
    "\n",
    "Целевой переменной будет `'compliance'`, разделите данные на обучающую и тестовую выборки в соотношении **70%/30%** без перемешивания.\n",
    "\n",
    "Обучите `DecisionTreeClassifier` из `scikit-learn` с параметром `random_state=23`. Посчитайте значения метрики $F1$ на тренировочной выборке и на тестовой выборке. Вычтите из значения метрики на тренировочной выборки значение метрики на тестовой выборке и запишите результат в переменную `result`."
   ]
  },
  {
   "cell_type": "code",
   "execution_count": 248,
   "metadata": {},
   "outputs": [],
   "source": [
    "vis_data = pd.read_csv(\"./Unit_5_data/train.csv\", encoding = 'ISO-8859-1', low_memory = False)\n",
    "\n",
    "vis_data = vis_data[['fine_amount', 'state_fee', 'late_fee', 'discount_amount', 'balance_due', 'compliance']]\n",
    "\n",
    "vis_data.dropna(axis=0,inplace=True)\n",
    "\n",
    "y = vis_data.compliance\n",
    "X = vis_data.drop(columns='compliance')\n",
    "\n",
    "X_train, X_test, y_train, y_test = train_test_split(X,y,test_size = 0.3,shuffle=False)\n",
    "\n",
    "classifier = DecisionTreeClassifier(random_state=23)\n",
    "\n",
    "classifier.fit(X_train,y_train)\n",
    "\n",
    "train_pred = classifier.predict(X_train)\n",
    "test_pred = classifier.predict(X_test)\n",
    "\n",
    "train_metrics = f1_score(y_train,train_pred)\n",
    "test_metrics = f1_score(y_test,test_pred)\n",
    "\n",
    "result = train_metrics - test_metrics"
   ]
  },
  {
   "cell_type": "code",
   "execution_count": 249,
   "metadata": {},
   "outputs": [
    {
     "data": {
      "text/plain": [
       "0.08055341409051786"
      ]
     },
     "execution_count": 249,
     "metadata": {},
     "output_type": "execute_result"
    }
   ],
   "source": [
    "result"
   ]
  },
  {
   "cell_type": "markdown",
   "metadata": {},
   "source": [
    "### Задание 4.11.1\n",
    "Загрузите данные `train.csv`, оставьте в данных только признаки `'fine_amount', 'state_fee', 'late_fee', 'discount_amount', 'balance_due', 'compliance'`, затем избавьтесь от пропусков.\n",
    "\n",
    "Обучим модель на несбалансированных данных. Целевой переменной будет `'compliance'`, разделите данные на обучающую и тестовую выборки в соотношении 70%/30% без перемешивания.\n",
    "\n",
    "Обучите `DecisionTreeClassifier` из scikit-learn с параметром `random_state=23`. Посчитайте значения метрики $F1$ на тренировочной выборке и на тестовой выборке.\n",
    "\n",
    "Затем сделайте эту же выборку сбалансированной с помощью *undersampling*.\n",
    "\n",
    "Для этого посчитайте количество примеров (n) класса-меньшинства, затем из класса-большинства возьмите n первых примеров.\n",
    "\n",
    "То есть, в терминологии Python, возьмите срез (slice) от начала и до n, где n — количество примеров класса, которого в выборке представлено меньше.\n",
    "\n",
    "Соедините две части выборки (с уменьшенным классом-большинством и с изначальным классом-меньшинством), сделайте точно такое же разбиение, как в задаче выше, и обучите такую же модель.\n",
    "\n",
    "Посчитайте значение метрики $F1$ на новой тестовой выборке с помощью новой модели. Вычтите из значения метрики на тестовой части сбалансированной выборки значение метрики на тестовой части несбалансированной выборки и запишите результат в переменную `result`."
   ]
  },
  {
   "cell_type": "code",
   "execution_count": 255,
   "metadata": {},
   "outputs": [],
   "source": [
    "vis_data = pd.read_csv(\"./Unit_5_data/train.csv\", encoding = 'ISO-8859-1', low_memory = False)\n",
    "\n",
    "vis_data = vis_data[['fine_amount', 'state_fee', 'late_fee', 'discount_amount', 'balance_due', 'compliance']]\n",
    "\n",
    "vis_data.dropna(axis=0,inplace=True)\n",
    "\n",
    "y = vis_data.compliance\n",
    "X = vis_data.drop(columns='compliance')\n",
    "\n",
    "X_train, X_test, y_train, y_test = train_test_split(X,y,test_size = 0.3,shuffle=False)\n",
    "\n",
    "classifier = DecisionTreeClassifier(random_state=23)\n",
    "\n",
    "classifier.fit(X_train,y_train)\n",
    "\n",
    "unbal_pred = classifier.predict(X_test)"
   ]
  },
  {
   "cell_type": "code",
   "execution_count": 264,
   "metadata": {},
   "outputs": [
    {
     "data": {
      "text/html": [
       "<div>\n",
       "<style scoped>\n",
       "    .dataframe tbody tr th:only-of-type {\n",
       "        vertical-align: middle;\n",
       "    }\n",
       "\n",
       "    .dataframe tbody tr th {\n",
       "        vertical-align: top;\n",
       "    }\n",
       "\n",
       "    .dataframe thead th {\n",
       "        text-align: right;\n",
       "    }\n",
       "</style>\n",
       "<table border=\"1\" class=\"dataframe\">\n",
       "  <thead>\n",
       "    <tr style=\"text-align: right;\">\n",
       "      <th></th>\n",
       "      <th>fine_amount</th>\n",
       "      <th>state_fee</th>\n",
       "      <th>late_fee</th>\n",
       "      <th>discount_amount</th>\n",
       "      <th>balance_due</th>\n",
       "      <th>compliance</th>\n",
       "    </tr>\n",
       "  </thead>\n",
       "  <tbody>\n",
       "    <tr>\n",
       "      <td>0</td>\n",
       "      <td>250.0</td>\n",
       "      <td>10.0</td>\n",
       "      <td>25.0</td>\n",
       "      <td>0.0</td>\n",
       "      <td>305.0</td>\n",
       "      <td>0.0</td>\n",
       "    </tr>\n",
       "    <tr>\n",
       "      <td>5</td>\n",
       "      <td>250.0</td>\n",
       "      <td>10.0</td>\n",
       "      <td>25.0</td>\n",
       "      <td>0.0</td>\n",
       "      <td>305.0</td>\n",
       "      <td>0.0</td>\n",
       "    </tr>\n",
       "    <tr>\n",
       "      <td>6</td>\n",
       "      <td>750.0</td>\n",
       "      <td>10.0</td>\n",
       "      <td>75.0</td>\n",
       "      <td>0.0</td>\n",
       "      <td>855.0</td>\n",
       "      <td>0.0</td>\n",
       "    </tr>\n",
       "    <tr>\n",
       "      <td>7</td>\n",
       "      <td>100.0</td>\n",
       "      <td>10.0</td>\n",
       "      <td>10.0</td>\n",
       "      <td>0.0</td>\n",
       "      <td>140.0</td>\n",
       "      <td>0.0</td>\n",
       "    </tr>\n",
       "    <tr>\n",
       "      <td>8</td>\n",
       "      <td>100.0</td>\n",
       "      <td>10.0</td>\n",
       "      <td>10.0</td>\n",
       "      <td>0.0</td>\n",
       "      <td>140.0</td>\n",
       "      <td>0.0</td>\n",
       "    </tr>\n",
       "    <tr>\n",
       "      <td>...</td>\n",
       "      <td>...</td>\n",
       "      <td>...</td>\n",
       "      <td>...</td>\n",
       "      <td>...</td>\n",
       "      <td>...</td>\n",
       "      <td>...</td>\n",
       "    </tr>\n",
       "    <tr>\n",
       "      <td>250277</td>\n",
       "      <td>500.0</td>\n",
       "      <td>10.0</td>\n",
       "      <td>50.0</td>\n",
       "      <td>0.0</td>\n",
       "      <td>580.0</td>\n",
       "      <td>0.0</td>\n",
       "    </tr>\n",
       "    <tr>\n",
       "      <td>250278</td>\n",
       "      <td>200.0</td>\n",
       "      <td>10.0</td>\n",
       "      <td>20.0</td>\n",
       "      <td>0.0</td>\n",
       "      <td>250.0</td>\n",
       "      <td>0.0</td>\n",
       "    </tr>\n",
       "    <tr>\n",
       "      <td>250287</td>\n",
       "      <td>1000.0</td>\n",
       "      <td>10.0</td>\n",
       "      <td>100.0</td>\n",
       "      <td>0.0</td>\n",
       "      <td>1130.0</td>\n",
       "      <td>0.0</td>\n",
       "    </tr>\n",
       "    <tr>\n",
       "      <td>250288</td>\n",
       "      <td>500.0</td>\n",
       "      <td>10.0</td>\n",
       "      <td>50.0</td>\n",
       "      <td>0.0</td>\n",
       "      <td>580.0</td>\n",
       "      <td>0.0</td>\n",
       "    </tr>\n",
       "    <tr>\n",
       "      <td>250293</td>\n",
       "      <td>200.0</td>\n",
       "      <td>10.0</td>\n",
       "      <td>20.0</td>\n",
       "      <td>0.0</td>\n",
       "      <td>250.0</td>\n",
       "      <td>0.0</td>\n",
       "    </tr>\n",
       "  </tbody>\n",
       "</table>\n",
       "<p>148283 rows × 6 columns</p>\n",
       "</div>"
      ],
      "text/plain": [
       "        fine_amount  state_fee  late_fee  discount_amount  balance_due  \\\n",
       "0             250.0       10.0      25.0              0.0        305.0   \n",
       "5             250.0       10.0      25.0              0.0        305.0   \n",
       "6             750.0       10.0      75.0              0.0        855.0   \n",
       "7             100.0       10.0      10.0              0.0        140.0   \n",
       "8             100.0       10.0      10.0              0.0        140.0   \n",
       "...             ...        ...       ...              ...          ...   \n",
       "250277        500.0       10.0      50.0              0.0        580.0   \n",
       "250278        200.0       10.0      20.0              0.0        250.0   \n",
       "250287       1000.0       10.0     100.0              0.0       1130.0   \n",
       "250288        500.0       10.0      50.0              0.0        580.0   \n",
       "250293        200.0       10.0      20.0              0.0        250.0   \n",
       "\n",
       "        compliance  \n",
       "0              0.0  \n",
       "5              0.0  \n",
       "6              0.0  \n",
       "7              0.0  \n",
       "8              0.0  \n",
       "...            ...  \n",
       "250277         0.0  \n",
       "250278         0.0  \n",
       "250287         0.0  \n",
       "250288         0.0  \n",
       "250293         0.0  \n",
       "\n",
       "[148283 rows x 6 columns]"
      ]
     },
     "execution_count": 264,
     "metadata": {},
     "output_type": "execute_result"
    }
   ],
   "source": [
    "n = data.compliance.value_counts().min()\n",
    "data[data.compliance == 1][:n]\n",
    "data[data.compliance == 0]"
   ]
  },
  {
   "cell_type": "code",
   "execution_count": null,
   "metadata": {},
   "outputs": [],
   "source": []
  },
  {
   "cell_type": "code",
   "execution_count": null,
   "metadata": {},
   "outputs": [],
   "source": []
  },
  {
   "cell_type": "markdown",
   "metadata": {},
   "source": [
    "## ПОДВАЛ"
   ]
  },
  {
   "cell_type": "code",
   "execution_count": 131,
   "metadata": {},
   "outputs": [],
   "source": [
    "# def OaH_IQR_interval(row):\n",
    "#     r_bound = row.quantile(q=0.75) + 1.5*(row.quantile(q=0.75) - row.quantile(q=0.25))\n",
    "#     l_bound = row.quantile(q=0.25) - 1.5*(row.quantile(q=0.75) - row.quantile(q=0.25))\n",
    "#     return l_bound, r_bound"
   ]
  },
  {
   "cell_type": "code",
   "execution_count": null,
   "metadata": {},
   "outputs": [],
   "source": []
  }
 ],
 "metadata": {
  "kernelspec": {
   "display_name": "Python 3",
   "language": "python",
   "name": "python3"
  },
  "language_info": {
   "codemirror_mode": {
    "name": "ipython",
    "version": 3
   },
   "file_extension": ".py",
   "mimetype": "text/x-python",
   "name": "python",
   "nbconvert_exporter": "python",
   "pygments_lexer": "ipython3",
   "version": "3.7.4"
  }
 },
 "nbformat": 4,
 "nbformat_minor": 2
}
