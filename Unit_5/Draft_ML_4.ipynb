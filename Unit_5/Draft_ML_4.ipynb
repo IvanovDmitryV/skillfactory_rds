{
 "cells": [
  {
   "cell_type": "code",
   "execution_count": 98,
   "metadata": {},
   "outputs": [],
   "source": [
    "import pandas as pd\n",
    "import numpy as np\n",
    "\n",
    "from sklearn.linear_model import LinearRegression, LogisticRegression\n",
    "from sklearn.model_selection import train_test_split\n",
    "from sklearn.metrics import mean_squared_error, accuracy_score\n",
    "from sklearn.preprocessing import StandardScaler"
   ]
  },
  {
   "cell_type": "markdown",
   "metadata": {},
   "source": [
    "### Задание 7.4.5\n",
    "Допустим, у вас есть выборки\n",
    "```python\n",
    "y_true = [1.23, 2.35, 2.75]\n",
    "y_pred = [1.01, 12.3, 2.74] \n",
    "```\n",
    "Посчитайте метрику RMSE, округлите до сотых и запишите результат. Например, 3.14"
   ]
  },
  {
   "cell_type": "code",
   "execution_count": 2,
   "metadata": {},
   "outputs": [],
   "source": [
    "y_true = np.array([1.23, 2.35, 2.75])\n",
    "y_pred = np.array([1.01, 12.3, 2.74])"
   ]
  },
  {
   "cell_type": "code",
   "execution_count": 3,
   "metadata": {},
   "outputs": [
    {
     "data": {
      "text/plain": [
       "5.75"
      ]
     },
     "execution_count": 3,
     "metadata": {},
     "output_type": "execute_result"
    }
   ],
   "source": [
    "RMSE = np.sqrt(np.square(y_true - y_pred).sum()/3)\n",
    "round(RMSE,2)"
   ]
  },
  {
   "cell_type": "markdown",
   "metadata": {},
   "source": [
    "### Задание 4.5.1\n",
    "Загрузите данные train.csv, оставьте в данных только признаки `'fine_amount', 'state_fee', 'late_fee', 'discount_amount', 'balance_due'`, затем избавьтесь от пропусков. Целевой переменной будет `'balance_due'`, разделите данные на обучающую и тестовую выборки в соотношении **70%** на **30%** без перемешивания. Обучите линейную регрессию из `scikit-learn` и запишите в переменную `result` значение метрики RMSE на тестовой выборке."
   ]
  },
  {
   "cell_type": "code",
   "execution_count": 5,
   "metadata": {},
   "outputs": [],
   "source": [
    "vis_data = pd.read_csv(\"./Unit_5_data/train.csv\", encoding = 'ISO-8859-1', low_memory = False)\n",
    "# Напишите ваш код ниже\n",
    "data = vis_data[['fine_amount', 'state_fee', 'late_fee', 'discount_amount', 'balance_due']].dropna(axis='index')\n",
    "\n",
    "y = data.balance_due\n",
    "X = data.drop(columns = 'balance_due')\n",
    "\n",
    "X_train, X_test, y_train, y_test = train_test_split(X, y, test_size=0.3, shuffle=False)\n",
    "\n",
    "model = LinearRegression()\n",
    "model.fit(X_train, y_train)\n",
    "\n",
    "y_pred = model.predict(X_test)\n",
    "\n",
    "result = mean_squared_error(y_test,y_pred)**0.5"
   ]
  },
  {
   "cell_type": "markdown",
   "metadata": {},
   "source": [
    "### Задание 4.6.6-4.6.10\n",
    "\n",
    "На этапе вычисления метрик вы получили результаты precision = 0.75 и recall = 0.6. Посчитайте значение метрики $F1$. Округлите до сотых и запишите результат."
   ]
  },
  {
   "cell_type": "code",
   "execution_count": 6,
   "metadata": {},
   "outputs": [
    {
     "data": {
      "text/plain": [
       "0.67"
      ]
     },
     "execution_count": 6,
     "metadata": {},
     "output_type": "execute_result"
    }
   ],
   "source": [
    "precision = 0.75; recall = 0.6\n",
    "\n",
    "F1 = 2*recall*precision/(recall+precision)\n",
    "\n",
    "round(F1,2)"
   ]
  },
  {
   "cell_type": "markdown",
   "metadata": {},
   "source": [
    "Допустим, у вас есть выборки \n",
    "```python\n",
    "    y_true = [0, 0, 1, 1, 1, 1, 0, 1]\n",
    "    y_pred = [0, 1, 0, 0, 1, 1, 0, 1]. \n",
    "```\n",
    "Посчитайте значение метрики $F1$. Округлите до сотых и запишите результат."
   ]
  },
  {
   "cell_type": "code",
   "execution_count": 7,
   "metadata": {},
   "outputs": [],
   "source": [
    "y_true = np.array([0, 0, 1, 1, 1, 1, 0, 1]); y_pred = np.array([0, 1, 0, 0, 1, 1, 0, 1])\n",
    "\n",
    "recall = ((y_true == y_pred) & (y_true == 1)).sum()/y_true.sum()\n",
    "precision = ((y_true == y_pred) & (y_true == 1)).sum()/y_pred.sum()"
   ]
  },
  {
   "cell_type": "code",
   "execution_count": 8,
   "metadata": {},
   "outputs": [
    {
     "data": {
      "text/plain": [
       "0.67"
      ]
     },
     "execution_count": 8,
     "metadata": {},
     "output_type": "execute_result"
    }
   ],
   "source": [
    "F1 = 2*recall*precision/(recall+precision)\n",
    "round(F1,2)"
   ]
  },
  {
   "cell_type": "markdown",
   "metadata": {},
   "source": [
    "Допустим, у вас есть выборки \n",
    "```python\n",
    "y_true = [0, 0, 1, 0, 0, 1, 0]\n",
    "y_pred = [1, 1, 1, 0, 1, 1, 0]\n",
    "```\n",
    "Посчитайте значение метрики $precision$. Округлите до сотых и запишите результат."
   ]
  },
  {
   "cell_type": "code",
   "execution_count": 9,
   "metadata": {},
   "outputs": [],
   "source": [
    "y_true = np.array([0, 0, 1, 0, 0, 1, 0])\n",
    "y_pred = np.array([1, 1, 1, 0, 1, 1, 0])"
   ]
  },
  {
   "cell_type": "code",
   "execution_count": 10,
   "metadata": {},
   "outputs": [
    {
     "data": {
      "text/plain": [
       "0.4"
      ]
     },
     "execution_count": 10,
     "metadata": {},
     "output_type": "execute_result"
    }
   ],
   "source": [
    "precision = ((y_true==y_pred) & (y_true==1)).sum()/y_pred.sum()\n",
    "round(precision,2)"
   ]
  },
  {
   "cell_type": "markdown",
   "metadata": {},
   "source": [
    "Допустим, у вас есть выборки \n",
    "```python\n",
    "y_true = [0, 0, 1, 0, 0, 1, 0]\n",
    "y_pred = [1, 1, 1, 0, 1, 1, 0]\n",
    "```\n",
    "Посчитайте значение метрики $recall$ . Округлите до сотых и запишите результат."
   ]
  },
  {
   "cell_type": "code",
   "execution_count": 11,
   "metadata": {},
   "outputs": [
    {
     "data": {
      "text/plain": [
       "1.0"
      ]
     },
     "execution_count": 11,
     "metadata": {},
     "output_type": "execute_result"
    }
   ],
   "source": [
    "recall = ((y_true==y_pred) & (y_true==1)).sum()/y_true.sum()\n",
    "round(recall,2)"
   ]
  },
  {
   "cell_type": "markdown",
   "metadata": {},
   "source": [
    "## 4.7. Практика для метрик классификации\n",
    "\n",
    "Реализуем бинарную классификацию записей голосов (мужских и женских) на основе характеристик записей их разговоров."
   ]
  },
  {
   "cell_type": "markdown",
   "metadata": {},
   "source": [
    "В предложенном датасете есть ряд свойств, определенных по аудиозаписям:\n",
    "\n",
    "- **meanfreq**: средняя частота голоса (в кГц)\n",
    "- **sd**: стандартное отклонение частоты голоса\n",
    "- **median**: медианная частота (в кГц)\n",
    "- **Q25**: значение в первом квартиле (в кГц)\n",
    "- **Q75**: значение в третьем квартиле (в кГц)\n",
    "- **IQR**: интерквартильный размах (в кГц)\n",
    "- **skew**: ассиметрия\n",
    "- **kurt**: эксцесс\n",
    "- **sp.ent**: спектральная энтропия\n",
    "- **sfm**: энтропия Винера\n",
    "- **mode**: мода частоты\n",
    "- **centroid**: частотный центроид\n",
    "- **meanfun**: средняя основная частота, измеренная по акустическому сигналу\n",
    "- **minfun**:  минимальная основная частота, измеренная по акустическому сигналу\n",
    "- **maxfun**: максимальная основная частота, измеренная в акустическом сигнале\n",
    "- **meandom**: среднее значение доминирующей частоты, измеренной по акустическому сигналу\n",
    "- **mindom**: минимум доминирующей частоты, измеренной в акустическом сигнале\n",
    "- **maxdom**: максимум доминирующей частоты, измеренной в акустическом сигнале\n",
    "- **dfrange**: диапазон доминантных частот, измеренное на звуковой сигнал\n",
    "- **modindx**: индекс модуляции голоса  \n",
    "\n",
    "Прежде, чем проводить анализ, можно с помощью визуализации оценить, есть ли различия в частотах голосов мужчин и женщин. Можем построить распределения, например, средних частот:"
   ]
  },
  {
   "cell_type": "markdown",
   "metadata": {},
   "source": [
    "### Задание\n",
    "Попробуйте построить модель, предсказывающую пол обладателя записи голоса.  \n",
    "Для этого:\n",
    "\n",
    "- Разделите выборку на обучающую и тренировочную с параметрами `test_size=0.3, random_state=42`\n",
    "\n",
    "- Нормализуйте признаки с помощью функции `StandardScaler()`. Для обучающей и тестовой выборки по отдельности!\n",
    "\n",
    "- Обучите модель логистической регрессии на подготовленных данных."
   ]
  },
  {
   "cell_type": "code",
   "execution_count": 13,
   "metadata": {},
   "outputs": [
    {
     "data": {
      "text/plain": [
       "LogisticRegression(C=1.0, class_weight=None, dual=False, fit_intercept=True,\n",
       "          intercept_scaling=1, max_iter=100, multi_class='ovr', n_jobs=1,\n",
       "          penalty='l2', random_state=None, solver='liblinear', tol=0.0001,\n",
       "          verbose=0, warm_start=False)"
      ]
     },
     "execution_count": 13,
     "metadata": {},
     "output_type": "execute_result"
    }
   ],
   "source": [
    "data = pd.read_csv('./Unit_5_data/voiceDataSet.xls')\n",
    "\n",
    "data.label = (data.label == 'male').astype('int8')\n",
    "\n",
    "y = data.label\n",
    "X = data.drop(columns='label')\n",
    "X_train, X_test, y_train, y_test = train_test_split(X, y, test_size=0.3, random_state=42)\n",
    "\n",
    "scaller = StandardScaler()\n",
    "X_train_scalled = scaller.fit_transform(X_train)\n",
    "X_test_scalled = scaller.fit_transform(X_test)\n",
    "\n",
    "model = LogisticRegression()\n",
    "model.fit(X_train_scalled, y_train)"
   ]
  },
  {
   "cell_type": "markdown",
   "metadata": {},
   "source": [
    "### Задание 4.7.1\n",
    "Вычислите значение метрики $accuracy$ и введите полученное значение. Запишите ответ в формате трех знаков после запятой (не округляя)."
   ]
  },
  {
   "cell_type": "code",
   "execution_count": 14,
   "metadata": {},
   "outputs": [
    {
     "data": {
      "text/plain": [
       "0.9737118822292324"
      ]
     },
     "execution_count": 14,
     "metadata": {},
     "output_type": "execute_result"
    }
   ],
   "source": [
    "y_pred = model.predict(X_test_scalled)\n",
    "\n",
    "accuracy_score(y_test, y_pred)"
   ]
  },
  {
   "cell_type": "markdown",
   "metadata": {},
   "source": [
    "Теперь познакомимся с новым алгоритмом классификации, а также снова потренируемся делить выборку и осуществлять кросс-валидацию. Кроме того, посмотрим, как можно оценить качество классификации для случая, когда наша классификация не бинарная, т.е. у нас несколько классов.\n",
    "\n",
    "В этом кейсе мы попробуем определять типы стекла по его характеристикам."
   ]
  },
  {
   "cell_type": "code",
   "execution_count": 15,
   "metadata": {},
   "outputs": [],
   "source": [
    "data = pd.read_csv('./Unit_5_data/glass.xls')"
   ]
  },
  {
   "cell_type": "code",
   "execution_count": 16,
   "metadata": {},
   "outputs": [
    {
     "name": "stdout",
     "output_type": "stream",
     "text": [
      "<class 'pandas.core.frame.DataFrame'>\n",
      "RangeIndex: 214 entries, 0 to 213\n",
      "Data columns (total 10 columns):\n",
      "RI      214 non-null float64\n",
      "Na      214 non-null float64\n",
      "Mg      214 non-null float64\n",
      "Al      214 non-null float64\n",
      "Si      214 non-null float64\n",
      "K       214 non-null float64\n",
      "Ca      214 non-null float64\n",
      "Ba      214 non-null float64\n",
      "Fe      214 non-null float64\n",
      "Type    214 non-null int64\n",
      "dtypes: float64(9), int64(1)\n",
      "memory usage: 16.8 KB\n"
     ]
    }
   ],
   "source": [
    "data.info()"
   ]
  },
  {
   "cell_type": "markdown",
   "metadata": {},
   "source": [
    "### Задание 4.7.2\n",
    "Сколько классов стекла представлено в этой задаче?"
   ]
  },
  {
   "cell_type": "code",
   "execution_count": 17,
   "metadata": {},
   "outputs": [
    {
     "data": {
      "text/plain": [
       "6"
      ]
     },
     "execution_count": 17,
     "metadata": {},
     "output_type": "execute_result"
    }
   ],
   "source": [
    "data.Type.nunique()"
   ]
  },
  {
   "cell_type": "markdown",
   "metadata": {},
   "source": [
    "# KNN"
   ]
  },
  {
   "cell_type": "code",
   "execution_count": 18,
   "metadata": {},
   "outputs": [],
   "source": [
    "y = data.Type\n",
    "X = data.drop(columns=\"Type\")"
   ]
  },
  {
   "cell_type": "code",
   "execution_count": 19,
   "metadata": {},
   "outputs": [
    {
     "data": {
      "text/plain": [
       "array([0.44186047, 0.65116279, 0.3255814 , 0.34883721, 0.07142857])"
      ]
     },
     "execution_count": 19,
     "metadata": {},
     "output_type": "execute_result"
    }
   ],
   "source": [
    "from sklearn.neighbors import KNeighborsClassifier\n",
    "from sklearn.model_selection import cross_val_score, KFold\n",
    "\n",
    "model=KNeighborsClassifier(n_neighbors=3)\n",
    "kf = KFold(n_splits=5)\n",
    "cross_val_score(model, X, y, cv=kf, scoring=\"accuracy\")"
   ]
  },
  {
   "cell_type": "markdown",
   "metadata": {},
   "source": [
    "### Задание 4.7.3\n",
    "Измените количество разбиений на 10. Вычислите среднее значение метрики  по 10 разбиениям и введите ниже, округлите до сотых."
   ]
  },
  {
   "cell_type": "code",
   "execution_count": 20,
   "metadata": {},
   "outputs": [
    {
     "data": {
      "text/plain": [
       "0.53"
      ]
     },
     "execution_count": 20,
     "metadata": {},
     "output_type": "execute_result"
    }
   ],
   "source": [
    "kf = KFold(n_splits=10)\n",
    "scores = cross_val_score(model, X, y, cv=kf, scoring=\"accuracy\")\n",
    "mean_score = scores.mean()\n",
    "\n",
    "round(mean_score,2)"
   ]
  },
  {
   "cell_type": "markdown",
   "metadata": {},
   "source": [
    "В следующей задаче мы будем диагностировать болезни сердца по различным медицинским параметрам пациентов.\n",
    "\n",
    "Избавьтесь от выбросов, чтобы они не ухудшили качество нашей модели:   \n",
    "- Для того, чтобы избавиться от выбросов, уберите все данные, значения признаков которых отстают от первого или третьего квартиля более, чем на 1.5 межквартильного размаха."
   ]
  },
  {
   "cell_type": "code",
   "execution_count": 23,
   "metadata": {},
   "outputs": [],
   "source": [
    "data = pd.read_csv(\"./Unit_5_data/heart_fin.xlt\",sep = ';', encoding='cp1251')"
   ]
  },
  {
   "cell_type": "markdown",
   "metadata": {},
   "source": [
    "### Задание 4.7.4\n",
    "Сколько наблюдений осталось после удаления выбросов?"
   ]
  },
  {
   "cell_type": "code",
   "execution_count": 146,
   "metadata": {},
   "outputs": [],
   "source": [
    "columns_to_clean = data.columns[data.dtypes == 'int64'].drop('target')"
   ]
  },
  {
   "cell_type": "code",
   "execution_count": null,
   "metadata": {},
   "outputs": [],
   "source": [
    "    '''\n",
    "    реализация предобработки датасета из учебного проекта о_вкусной_и_здоровой_пище\n",
    "    \n",
    "    Parameters\n",
    "    ---------\n",
    "    df: pd.DataFrame\n",
    "        датафрейм для предобработки  \n",
    "    \n",
    "    Returns\n",
    "    -------  \n",
    "    pd.DataFrame\n",
    "        содержит предобработанные признаки: City, Cuisine Style, Ranking, Price Range,\n",
    "        Number of Reviews, ID_TA\n",
    "    \n",
    "    Notes\n",
    "    -----\n",
    "    признак Restaurant_id функцией не обрабатывается ввиду неинформативности\n",
    "    признак Reviews функцией не обрабатываетсмя ввиду не использования признака непосредственно,\n",
    "        информация признака используется для создания нескольких новых признаков отдельно.\n",
    "    '''"
   ]
  },
  {
   "cell_type": "code",
   "execution_count": 156,
   "metadata": {},
   "outputs": [],
   "source": [
    "def out_range_indexes(row):\n",
    "    '''\n",
    "    Вычисление границ интервала вида [Q1-IQR ; Q3+IQR], нахождение элементов вне этого интервала,\n",
    "    определение их индексов в переданном pd.Series\n",
    "    \n",
    "    Parameters\n",
    "    ----------\n",
    "    row: pd.Series - обрабатываемые данные\n",
    "    \n",
    "    Returns\n",
    "    -------\n",
    "    list - содержит индексы элементов вне интервала вида [Q1-IQR ; Q3+IQR]\n",
    "    '''\n",
    "    r_bound = row.quantile(q=0.75) + 1.5*(row.quantile(q=0.75) - row.quantile(q=0.25))\n",
    "    l_bound = row.quantile(q=0.25) - 1.5*(row.quantile(q=0.75) - row.quantile(q=0.25))\n",
    "    \n",
    "    return row[~row.between(l_bound, r_bound)].index.tolist()\n",
    "\n",
    "index_to_drop = list(set(data[columns_to_clean].apply(out_range_indexes,axis=0).sum()))"
   ]
  },
  {
   "cell_type": "code",
   "execution_count": 154,
   "metadata": {},
   "outputs": [
    {
     "data": {
      "text/plain": [
       "288"
      ]
     },
     "execution_count": 154,
     "metadata": {},
     "output_type": "execute_result"
    }
   ],
   "source": [
    "data.drop(index=index_to_drop).shape[0]"
   ]
  },
  {
   "cell_type": "code",
   "execution_count": null,
   "metadata": {},
   "outputs": [],
   "source": [
    "pd.Series"
   ]
  },
  {
   "cell_type": "code",
   "execution_count": null,
   "metadata": {},
   "outputs": [],
   "source": [
    "list.append()"
   ]
  },
  {
   "cell_type": "code",
   "execution_count": null,
   "metadata": {},
   "outputs": [],
   "source": []
  },
  {
   "cell_type": "code",
   "execution_count": null,
   "metadata": {},
   "outputs": [],
   "source": []
  },
  {
   "cell_type": "code",
   "execution_count": null,
   "metadata": {},
   "outputs": [],
   "source": []
  },
  {
   "cell_type": "markdown",
   "metadata": {},
   "source": [
    "### Задание 4.7.4\n",
    "Сколько наблюдений осталось после удаления выбросов?"
   ]
  },
  {
   "cell_type": "code",
   "execution_count": null,
   "metadata": {},
   "outputs": [],
   "source": []
  },
  {
   "cell_type": "code",
   "execution_count": null,
   "metadata": {},
   "outputs": [],
   "source": []
  },
  {
   "cell_type": "code",
   "execution_count": null,
   "metadata": {},
   "outputs": [],
   "source": []
  },
  {
   "cell_type": "markdown",
   "metadata": {},
   "source": [
    "## ПОДВАЛ"
   ]
  },
  {
   "cell_type": "code",
   "execution_count": 131,
   "metadata": {},
   "outputs": [],
   "source": [
    "# def OaH_IQR_interval(row):\n",
    "#     r_bound = row.quantile(q=0.75) + 1.5*(row.quantile(q=0.75) - row.quantile(q=0.25))\n",
    "#     l_bound = row.quantile(q=0.25) - 1.5*(row.quantile(q=0.75) - row.quantile(q=0.25))\n",
    "#     return l_bound, r_bound"
   ]
  },
  {
   "cell_type": "code",
   "execution_count": null,
   "metadata": {},
   "outputs": [],
   "source": []
  }
 ],
 "metadata": {
  "kernelspec": {
   "display_name": "Python 3",
   "language": "python",
   "name": "python3"
  },
  "language_info": {
   "codemirror_mode": {
    "name": "ipython",
    "version": 3
   },
   "file_extension": ".py",
   "mimetype": "text/x-python",
   "name": "python",
   "nbconvert_exporter": "python",
   "pygments_lexer": "ipython3",
   "version": "3.6.5"
  }
 },
 "nbformat": 4,
 "nbformat_minor": 2
}
