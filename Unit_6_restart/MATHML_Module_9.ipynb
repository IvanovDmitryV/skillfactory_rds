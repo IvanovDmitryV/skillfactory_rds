{
 "cells": [
  {
   "cell_type": "code",
   "execution_count": 129,
   "metadata": {},
   "outputs": [
    {
     "ename": "ImportError",
     "evalue": "cannot import name 'StackingClassifier' from 'sklearn.ensemble' (C:\\Users\\GANSOR-PC\\Anaconda3\\lib\\site-packages\\sklearn\\ensemble\\__init__.py)",
     "output_type": "error",
     "traceback": [
      "\u001b[1;31m---------------------------------------------------------------------------\u001b[0m",
      "\u001b[1;31mImportError\u001b[0m                               Traceback (most recent call last)",
      "\u001b[1;32m<ipython-input-129-24002ee9b531>\u001b[0m in \u001b[0;36m<module>\u001b[1;34m\u001b[0m\n\u001b[0;32m      7\u001b[0m \u001b[1;32mfrom\u001b[0m \u001b[0msklearn\u001b[0m\u001b[1;33m.\u001b[0m\u001b[0mensemble\u001b[0m \u001b[1;32mimport\u001b[0m \u001b[0mBaggingClassifier\u001b[0m\u001b[1;33m,\u001b[0m \u001b[0mRandomForestRegressor\u001b[0m\u001b[1;33m,\u001b[0m \u001b[0mRandomForestClassifier\u001b[0m\u001b[1;33m\u001b[0m\u001b[1;33m\u001b[0m\u001b[0m\n\u001b[0;32m      8\u001b[0m \u001b[1;32mfrom\u001b[0m \u001b[0msklearn\u001b[0m\u001b[1;33m.\u001b[0m\u001b[0mensemble\u001b[0m \u001b[1;32mimport\u001b[0m \u001b[0mAdaBoostClassifier\u001b[0m\u001b[1;33m,\u001b[0m \u001b[0mGradientBoostingClassifier\u001b[0m\u001b[1;33m\u001b[0m\u001b[1;33m\u001b[0m\u001b[0m\n\u001b[1;32m----> 9\u001b[1;33m \u001b[1;32mfrom\u001b[0m \u001b[0msklearn\u001b[0m\u001b[1;33m.\u001b[0m\u001b[0mensemble\u001b[0m \u001b[1;32mimport\u001b[0m \u001b[0mStackingClassifier\u001b[0m\u001b[1;33m\u001b[0m\u001b[1;33m\u001b[0m\u001b[0m\n\u001b[0m\u001b[0;32m     10\u001b[0m \u001b[1;32mfrom\u001b[0m \u001b[0msklearn\u001b[0m\u001b[1;33m.\u001b[0m\u001b[0mmetrics\u001b[0m \u001b[1;32mimport\u001b[0m \u001b[0mf1_score\u001b[0m\u001b[1;33m,\u001b[0m \u001b[0mmean_absolute_error\u001b[0m\u001b[1;33m,\u001b[0m \u001b[0mroc_auc_score\u001b[0m\u001b[1;33m,\u001b[0m \u001b[0mmake_scorer\u001b[0m\u001b[1;33m\u001b[0m\u001b[1;33m\u001b[0m\u001b[0m\n\u001b[0;32m     11\u001b[0m \u001b[1;32mfrom\u001b[0m \u001b[0msklearn\u001b[0m\u001b[1;33m.\u001b[0m\u001b[0mmetrics\u001b[0m \u001b[1;32mimport\u001b[0m \u001b[0mconfusion_matrix\u001b[0m\u001b[1;33m\u001b[0m\u001b[1;33m\u001b[0m\u001b[0m\n",
      "\u001b[1;31mImportError\u001b[0m: cannot import name 'StackingClassifier' from 'sklearn.ensemble' (C:\\Users\\GANSOR-PC\\Anaconda3\\lib\\site-packages\\sklearn\\ensemble\\__init__.py)"
     ]
    }
   ],
   "source": [
    "import pandas as pd\n",
    "import numpy as np\n",
    "from sklearn.model_selection import train_test_split, GridSearchCV\n",
    "from sklearn.preprocessing import StandardScaler\n",
    "from sklearn.linear_model import LogisticRegression, LinearRegression\n",
    "from sklearn.tree import DecisionTreeClassifier, DecisionTreeRegressor\n",
    "from sklearn.ensemble import BaggingClassifier, RandomForestRegressor, RandomForestClassifier\n",
    "from sklearn.ensemble import AdaBoostClassifier, GradientBoostingClassifier\n",
    "from sklearn.ensemble StackingClassifier\n",
    "from sklearn.metrics import f1_score, mean_absolute_error, roc_auc_score, make_scorer\n",
    "from sklearn.metrics import confusion_matrix\n",
    "from xgboost import XGBClassifier\n",
    "from catboost import CatBoostClassifier,Pool\n",
    "from catboost.utils import get_confusion_matrix"
   ]
  },
  {
   "cell_type": "markdown",
   "metadata": {},
   "source": [
    "## 2. Ансамбли моделей. Бутстреппинг. Бэггинг"
   ]
  },
  {
   "cell_type": "markdown",
   "metadata": {},
   "source": [
    "#### Задание 2.2\n",
    "Вычислите дисперсию для этого ряда. Результат округлите до трёх знаков после точки-разделителя."
   ]
  },
  {
   "cell_type": "code",
   "execution_count": 4,
   "metadata": {},
   "outputs": [
    {
     "data": {
      "text/plain": [
       "(0.317, 0.317)"
      ]
     },
     "execution_count": 4,
     "metadata": {},
     "output_type": "execute_result"
    }
   ],
   "source": [
    "row = np.array([4.4, 3.8, 4.8, 4.0, 3.4, 4.2, 5.2])\n",
    "var = (row**2).mean() - row.mean()**2\n",
    "round(var,3), round(row.std()**2,3)"
   ]
  },
  {
   "cell_type": "code",
   "execution_count": null,
   "metadata": {},
   "outputs": [],
   "source": []
  },
  {
   "cell_type": "markdown",
   "metadata": {},
   "source": [
    "### Задание 2.7\n",
    "Объёмная и содержательная практика у нас ещё впереди, но в качестве разминки давайте поработаем с уже известным вам датасетом о вине, который можно скачать [здесь](https://lms.skillfactory.ru/assets/courseware/v1/805b5c231251e174abb4fdbbd391adc3/asset-v1:SkillFactory+DSPR-2.0+14JULY2021+type@asset+block/wineQualityReds.zip).\n",
    "\n",
    "Ранее вы обучали на данных только один алгоритм, а теперь мы попробуем сравнить несколько.\n",
    "\n",
    "Подготовьте данные к классификации. Условно разделите вино на хорошее и плохое. Хорошим вином будем называть то, параметр `quality` которого — 6 и более.   \n",
    "Сравните несколько методов классификации: ***логистическую регрессию***, ***дерево решений*** и ***бэггинг***. Это позволит вам увидеть, как меняется качество в зависимости от выбора того или иного алгоритма.   \n",
    "    \n",
    "Разделите выборку на обучающую и тестовую в соотношении `70/30`, в качестве значения параметра `random_state` возьмите число `42`.   \n",
    "Для начала обучите два классификатора: \n",
    "- логистическую регрессию (с параметрами по умолчанию)   \n",
    "- дерево решений (random_state = 42, максимальная глубина — 10).   \n",
    "\n",
    "1. Введите значение F1-score для классификатора, который показал наилучшее значение. Ответ округлите до трёх знаков после точки-разделителя."
   ]
  },
  {
   "cell_type": "code",
   "execution_count": 5,
   "metadata": {},
   "outputs": [],
   "source": [
    "# получим и подготовим данные\n",
    "df = pd.read_csv('./data/wineQualityReds.csv').drop(columns='Unnamed: 0')"
   ]
  },
  {
   "cell_type": "code",
   "execution_count": 6,
   "metadata": {},
   "outputs": [],
   "source": [
    "df.quality = (df.quality>=6).astype(int)\n",
    "\n",
    "X, y = df.drop(columns='quality'), df.quality\n",
    "\n",
    "# scaler = StandardScaler()\n",
    "# X = scaler.fit_transform(X)"
   ]
  },
  {
   "cell_type": "code",
   "execution_count": 7,
   "metadata": {},
   "outputs": [
    {
     "data": {
      "text/plain": [
       "855"
      ]
     },
     "execution_count": 7,
     "metadata": {},
     "output_type": "execute_result"
    }
   ],
   "source": [
    "y.sum()"
   ]
  },
  {
   "cell_type": "code",
   "execution_count": 8,
   "metadata": {},
   "outputs": [],
   "source": [
    "# разделим выборку на обучающую и тестовую в соотношении 70/30, в качестве значения параметра \n",
    "# random_state возьмем число 42\n",
    "X_train,X_test,y_train,y_test = train_test_split(X,y, test_size=0.3,random_state=42)"
   ]
  },
  {
   "cell_type": "code",
   "execution_count": 9,
   "metadata": {},
   "outputs": [
    {
     "data": {
      "text/plain": [
       "0.793"
      ]
     },
     "execution_count": 9,
     "metadata": {},
     "output_type": "execute_result"
    }
   ],
   "source": [
    "# логистическую регрессию\n",
    "lr = LogisticRegression(solver='lbfgs',max_iter=1000)\n",
    "lr.fit(X_train,y_train)\n",
    "lr_pred = lr.predict(X_test)\n",
    "\n",
    "# дерево решений  \n",
    "dt = DecisionTreeClassifier(max_depth=10,random_state=42)\n",
    "dt.fit(X_train,y_train)\n",
    "dt_pred = dt.predict(X_test)\n",
    "\n",
    "ans = max(f1_score(y_test,lr_pred), f1_score(y_test,dt_pred))\n",
    "round(ans,3)"
   ]
  },
  {
   "cell_type": "markdown",
   "metadata": {},
   "source": [
    "### Задание 2.8\n",
    "Обучите модель с использование бэггинга (класс `BaggingClassifier` с `random_state=42`, разделение выборки на обучающую и тестовую — в соотношении 70/30 с random_state=42).\n",
    "\n",
    "Возьмите из предыдущего задания алгоритм, показавший наилучшее качество, и укажите для него новое количество моделей — 1500. Вычислите новое значение F1-score."
   ]
  },
  {
   "cell_type": "code",
   "execution_count": 10,
   "metadata": {},
   "outputs": [
    {
     "data": {
      "text/plain": [
       "(0.8150943396226414, 0.815)"
      ]
     },
     "execution_count": 10,
     "metadata": {},
     "output_type": "execute_result"
    }
   ],
   "source": [
    "bc = BaggingClassifier(\n",
    "    base_estimator=dt,\n",
    "    n_estimators=1500,\n",
    "    random_state=42\n",
    ")\n",
    "bc.fit(X_train,y_train)\n",
    "bc_pred = bc.predict(X_test)\n",
    "ans = f1_score(y_test,bc_pred)\n",
    "ans, round(ans,3)"
   ]
  },
  {
   "cell_type": "markdown",
   "metadata": {},
   "source": [
    "## 3. Случайный лес"
   ]
  },
  {
   "cell_type": "markdown",
   "metadata": {},
   "source": [
    "Давайте решим небольшую задачу .   \n",
    "Мы будем анализировать набор данных **Boston Houses**, в котором объектами являются районы города, признаками — некие социальные и географические характеристики района, а целевой переменной — медианная стоимость домов в районе. Таким образом, мы будем решать задачу регрессии.   \n",
    "\n",
    "Описание признаков:\n",
    "- crim_rate — уровень преступности в районе;\n",
    "- zn — доля участков площадью более 25 000 кв. футов;\n",
    "- business — уровень развитости бизнеса в районе;\n",
    "- river — наличие реки в районе;\n",
    "- nit_oxiden — концентрация оксидов азота в воздухе;\n",
    "- rooms — среднее число комнат в домах района;\n",
    "- age — процент домов, построенных до 1940 года;\n",
    "- dist — расстояние до центров занятости;\n",
    "- highways_index — индекс доступности крупных дорог;\n",
    "- tax — средняя ставка налога на имущество;\n",
    "- pup_per_teac — среднее число учеников на одного учителя;\n",
    "- lower — процент малообеспеченного населения в районе;\n",
    "- target — медианная стоимость домов в районе (целевая переменная)."
   ]
  },
  {
   "cell_type": "code",
   "execution_count": 11,
   "metadata": {},
   "outputs": [],
   "source": [
    "df = pd.read_csv('./data/boston.csv')\n",
    "\n",
    "columns_to_convert = df.columns[df.dtypes == 'object']\n",
    "df[columns_to_convert] = df[columns_to_convert].apply(lambda x: x.str.replace(',','.').astype(float))"
   ]
  },
  {
   "cell_type": "code",
   "execution_count": 12,
   "metadata": {},
   "outputs": [],
   "source": [
    "X, y = df.drop(columns='target'), df.target"
   ]
  },
  {
   "cell_type": "markdown",
   "metadata": {},
   "source": [
    "### Задание 3.4\n",
    "1. Разбейте набор данных на обучающую и тестовую выборку в соотношении 70/30, при разбиении задайте параметр random_state = 13.\n",
    "\n",
    "Какое получилось среднее значение медианных цен на обучающей выборке? Ответ округлите до двух знаков после точки-разделителя."
   ]
  },
  {
   "cell_type": "code",
   "execution_count": 13,
   "metadata": {},
   "outputs": [
    {
     "data": {
      "text/plain": [
       "22.77"
      ]
     },
     "execution_count": 13,
     "metadata": {},
     "output_type": "execute_result"
    }
   ],
   "source": [
    "X_train, X_test,y_train, y_test = train_test_split(X,y,test_size=0.3,random_state=13)\n",
    "\n",
    "round(y_train.mean(),2)"
   ]
  },
  {
   "cell_type": "markdown",
   "metadata": {},
   "source": [
    "2. Обучите линейную регрессию с параметрами по умолчанию.\n",
    "\n",
    "В качестве ответа введите ошибку MAE на тестовой выборке. Ответ округлите до двух знаков после точки-разделителя."
   ]
  },
  {
   "cell_type": "code",
   "execution_count": 14,
   "metadata": {},
   "outputs": [
    {
     "data": {
      "text/plain": [
       "3.72"
      ]
     },
     "execution_count": 14,
     "metadata": {},
     "output_type": "execute_result"
    }
   ],
   "source": [
    "lr = LinearRegression()\n",
    "lr.fit(X_train,y_train)\n",
    "lr_pred = lr.predict(X_test)\n",
    "ans = mean_absolute_error(y_test,lr_pred)\n",
    "round(ans,2)"
   ]
  },
  {
   "cell_type": "markdown",
   "metadata": {},
   "source": [
    "3. Обучите решающее дерево с параметрами по умолчанию и аргументом random_state = 13.\n",
    "\n",
    "Можно ли, опираясь на результаты, сделать вывод, что алгоритм переобучился?"
   ]
  },
  {
   "cell_type": "code",
   "execution_count": 15,
   "metadata": {},
   "outputs": [
    {
     "data": {
      "text/plain": [
       "(0.0, 2.8026315789473686)"
      ]
     },
     "execution_count": 15,
     "metadata": {},
     "output_type": "execute_result"
    }
   ],
   "source": [
    "dt = DecisionTreeRegressor(random_state = 13)\n",
    "dt.fit(X_train,y_train)\n",
    "dt_pred_train = dt.predict(X_train)\n",
    "dt_pred_test = dt.predict(X_test)\n",
    "mean_absolute_error(y_train,dt_pred_train), mean_absolute_error(y_test,dt_pred_test)"
   ]
  },
  {
   "cell_type": "markdown",
   "metadata": {},
   "source": [
    "4. Обучите четыре случайных леса с числом деревьев 3, 10, 100, 500 и параметром random_state = 13.\n",
    "\n",
    "В качестве ответа введите наименьшую полученную ошибку MAE на тестовой выборке. Ответ округлите до двух знаков после точки-разделителя."
   ]
  },
  {
   "cell_type": "code",
   "execution_count": 16,
   "metadata": {},
   "outputs": [
    {
     "data": {
      "text/plain": [
       "2.24"
      ]
     },
     "execution_count": 16,
     "metadata": {},
     "output_type": "execute_result"
    }
   ],
   "source": [
    "n_estimators_row =[ 3, 10, 100, 500]\n",
    "mae_row = np.array([])\n",
    "\n",
    "for n_estimators in n_estimators_row:\n",
    "    rfr = RandomForestRegressor(n_estimators=n_estimators,random_state = 13)\n",
    "    rfr.fit(X_train,y_train)\n",
    "    rfr_pred = rfr.predict(X_test)\n",
    "    mae = mean_absolute_error(y_test,rfr_pred)\n",
    "    mae_row = np.append(mae_row,mae)\n",
    "\n",
    "round(mae_row.min(),2)"
   ]
  },
  {
   "cell_type": "markdown",
   "metadata": {},
   "source": [
    "## 4. Случайный лес. Практика\n",
    "\n",
    "Давайте посмотрим, с какими данными нам предстоит работать.  \n",
    "    "
   ]
  },
  {
   "cell_type": "code",
   "execution_count": 17,
   "metadata": {},
   "outputs": [
    {
     "name": "stdout",
     "output_type": "stream",
     "text": [
      "<class 'pandas.core.frame.DataFrame'>\n",
      "RangeIndex: 145460 entries, 0 to 145459\n",
      "Data columns (total 23 columns):\n",
      "Date             145460 non-null object\n",
      "Location         145460 non-null object\n",
      "MinTemp          143975 non-null float64\n",
      "MaxTemp          144199 non-null float64\n",
      "Rainfall         142199 non-null float64\n",
      "Evaporation      82670 non-null float64\n",
      "Sunshine         75625 non-null float64\n",
      "WindGustDir      135134 non-null object\n",
      "WindGustSpeed    135197 non-null float64\n",
      "WindDir9am       134894 non-null object\n",
      "WindDir3pm       141232 non-null object\n",
      "WindSpeed9am     143693 non-null float64\n",
      "WindSpeed3pm     142398 non-null float64\n",
      "Humidity9am      142806 non-null float64\n",
      "Humidity3pm      140953 non-null float64\n",
      "Pressure9am      130395 non-null float64\n",
      "Pressure3pm      130432 non-null float64\n",
      "Cloud9am         89572 non-null float64\n",
      "Cloud3pm         86102 non-null float64\n",
      "Temp9am          143693 non-null float64\n",
      "Temp3pm          141851 non-null float64\n",
      "RainToday        142199 non-null object\n",
      "RainTomorrow     142193 non-null object\n",
      "dtypes: float64(16), object(7)\n",
      "memory usage: 25.5+ MB\n"
     ]
    }
   ],
   "source": [
    "df = pd.read_csv('./data/weatherAUS.csv')\n",
    "df.info()"
   ]
  },
  {
   "cell_type": "markdown",
   "metadata": {},
   "source": [
    "Данные содержат 23 признака и 145 460 наблюдений. Из этих 23 признаков шесть — категориальные, в одном записана дата, а остальные являются непрерывными числовыми данными.\n",
    "\n",
    "Примеры числовых признаков: температура, скорость ветра, влажность, облачность, атмосферное давление в разное время суток, количество осадков, испарение, количество часов с солнечной погодой.   \n",
    "Примеры категориальных признаков: местоположение, направление ветра в разное время суток, наличие дождя сегодня или завтра.   \n",
    "Целевой переменной является столбец RainTomorrow. Значение этой переменной мы и будем пытаться предсказать.\n",
    "\n",
    "#### Подробная расшифровка всех признаков\n",
    "- Date — дата, в которую зафиксировано наблюдение;\n",
    "- Location — местонахождение метеорологической станции;\n",
    "- MinTemp — минимальная температура (℃);\n",
    "- MaxTemp — максимальная температура (℃);\n",
    "- Rainfall — количество осадков (дождь) за сутки (мм);\n",
    "- Evaporation — количество испарений до 9 утра (мм);\n",
    "- Sunshine — количество часов в сутках, когда светило солнце;\n",
    "- WindGustDir — направление самого сильного порыва ветра за последние 24 часа;\n",
    "- WindGustSpeed — скорость самого сильного порыва ветра за последние 24 часа;\n",
    "- WindDir9am — направление ветра в 9 утра;\n",
    "- WindDir3pm — направление ветра в 3 часа дня;\n",
    "- WindSpeed9am — скорость ветра в 9 часов утра;\n",
    "- WindSpeed3pm — скорость ветра в 3 часа дня;\n",
    "- Humidity9am — влажность в 9 утра;\n",
    "- Humidity3pm — влажность в 3 часа дня;\n",
    "- Pressure9am — атмосферное давление в 9 утра;\n",
    "- Pressure3pm — атмосферное давление в 3 часа дня;\n",
    "- Cloud9am — часть неба, закрытая облаками, в 9 утра;\n",
    "- Cloud3pm — часть неба, закрытая облаками, в 3 часа дня;\n",
    "- Temp9am — температура в 9 утра;\n",
    "- Temp3pm — температура в 3 часа дня;\n",
    "- RainToday — наличие дождя в этот день;\n",
    "- RainTomorrow — наличие дождя на следующий день."
   ]
  },
  {
   "cell_type": "markdown",
   "metadata": {},
   "source": [
    "### Задание 4.1\n",
    "Сколько суммарно пропусков в данных?"
   ]
  },
  {
   "cell_type": "code",
   "execution_count": 18,
   "metadata": {},
   "outputs": [
    {
     "name": "stdout",
     "output_type": "stream",
     "text": [
      "Суммарно пропусков в данных 343248\n"
     ]
    }
   ],
   "source": [
    "ans = df.isna().sum().sum()\n",
    "print(f'Суммарно пропусков в данных {ans}')"
   ]
  },
  {
   "cell_type": "markdown",
   "metadata": {},
   "source": [
    "### Задание 4.2\n",
    "В некоторых признаках пропусков более 40 % — удалите такие признаки. Сколько их было?"
   ]
  },
  {
   "cell_type": "code",
   "execution_count": 19,
   "metadata": {},
   "outputs": [
    {
     "name": "stdout",
     "output_type": "stream",
     "text": [
      "Признаков с более 40% пропусков 3\n"
     ]
    }
   ],
   "source": [
    "del_mask = df.isna().sum()/df.shape[0]>0.4\n",
    "to_del = df.columns[del_mask]\n",
    "df.drop(columns=to_del,inplace=True)\n",
    "print(f'Признаков с более 40% пропусков {len(to_del)}')"
   ]
  },
  {
   "cell_type": "markdown",
   "metadata": {},
   "source": [
    "### Задание 4.3\n",
    "Теперь обработаем признаки `RainToday` и `RainTomorrow` таким образом, чтобы вместо `yes` было значение `1`, а вместо `no` — значение `0`. Вычислите среднее арифметическое для преобразованного признака `RainToday` и запишите его в ответ, предварительно округлив до двух знаков после точки-разделителя."
   ]
  },
  {
   "cell_type": "code",
   "execution_count": 20,
   "metadata": {},
   "outputs": [
    {
     "name": "stdout",
     "output_type": "stream",
     "text": [
      "Среднее арифметическое для преобразованного признака RainToday 0.22\n"
     ]
    }
   ],
   "source": [
    "df.RainToday = (df.RainToday == 'Yes').astype(int)\n",
    "df.RainTomorrow = (df.RainTomorrow == 'Yes').astype(int)\n",
    "\n",
    "ans = df.RainToday.mean()\n",
    "print(f'Среднее арифметическое для преобразованного признака RainToday {ans:.2f}')"
   ]
  },
  {
   "cell_type": "markdown",
   "metadata": {},
   "source": [
    "### Задание 4.4\n",
    "Обработайте признак `Date` таким образом, чтобы выделить в отдельный признак `Month` (номер месяца). Изначальный признак `Date` удалите. Определите, в какой месяц выпадает больше всего дождей. В качестве ответа введите порядковый номер месяца."
   ]
  },
  {
   "cell_type": "code",
   "execution_count": 21,
   "metadata": {},
   "outputs": [
    {
     "name": "stdout",
     "output_type": "stream",
     "text": [
      "В 7 месяц выпадает больше всего дождей\n"
     ]
    }
   ],
   "source": [
    "df['Month'] = pd.to_datetime(df.Date).dt.month\n",
    "df.drop(columns='Date', inplace=True)\n",
    "\n",
    "ans = df.groupby('Month').RainToday.mean().idxmax()\n",
    "print(f'В {ans} месяц выпадает больше всего дождей')"
   ]
  },
  {
   "cell_type": "markdown",
   "metadata": {},
   "source": [
    "### Задание 4.5\n",
    "Обработайте оставшиеся категориальные признаки. С помощью метода `get_dummies` с настройками по умолчанию создайте dummy-переменные для всех категориальных признаков (их пять), которые есть в данных на этот момент.\n",
    "\n",
    "Сколько теперь признаков в данных, если считать целевую переменную?"
   ]
  },
  {
   "cell_type": "code",
   "execution_count": 22,
   "metadata": {},
   "outputs": [
    {
     "name": "stdout",
     "output_type": "stream",
     "text": [
      "124 теперь признаков в данных, если считать целевую переменную\n"
     ]
    }
   ],
   "source": [
    "columns = ['Location', 'WindGustDir', 'WindDir9am', 'WindDir3pm','Month']\n",
    "df_dummies = pd.get_dummies(df,columns=columns)\n",
    "\n",
    "print(f'{df_dummies.shape[1]} теперь признаков в данных, если считать целевую переменную')"
   ]
  },
  {
   "cell_type": "markdown",
   "metadata": {},
   "source": [
    "### Задание 4.6\n",
    "Осталось совсем немного. Удалите все строки, где есть пропуски. Далее разбейте данные на обучающую и тестовую выборки в соотношении 70/30, в качестве значения параметра `random_state` возьмите число `31`.\n",
    "\n",
    "Каково среднее значение целевой переменной на тестовой выборке? Ответ округлите до двух знаков после точки-разделителя."
   ]
  },
  {
   "cell_type": "code",
   "execution_count": 23,
   "metadata": {},
   "outputs": [
    {
     "name": "stdout",
     "output_type": "stream",
     "text": [
      "0.23 среднее значение целевой переменной на тестовой выборке\n"
     ]
    }
   ],
   "source": [
    "df_dummies.dropna(axis='index',inplace=True)\n",
    "\n",
    "X, y = df_dummies.drop(columns='RainTomorrow'), df_dummies.RainTomorrow\n",
    "X_train, X_test, y_train, y_test = train_test_split(X,y,test_size=0.3,random_state=31 )\n",
    "\n",
    "print(f'{y_test.mean():.2f} среднее значение целевой переменной на тестовой выборке')"
   ]
  },
  {
   "cell_type": "markdown",
   "metadata": {},
   "source": [
    "### Задание 4.7\n",
    "Теперь давайте вспомним про бутстреп. Он не понадобится нам для решения этой задачи, но будет полезно реализовать его «вручную».\n",
    "\n",
    "Сделайте оценку стандартного отклонения для среднего значения минимальной температуры для обучающей выборки (то есть для среднего значения по признаку MinTemp). Для этого сгенерируйте 1000 случайных выборок из наших данных — каждая из них должна быть такого же объёма, как и обучающая выборка. Для генерации выборки используйте np.random.randint(): сгенерируйте необходимое количество индексов и по ним извлеките соответствующие элементы выборки. Случайность фиксируйте с помощью np.random.seed(31).\n",
    "\n",
    "Для каждой выборки вычислите среднее значение, а после найдите стандартное отклонение для этих значений. Ответ округлите до двух знаков после точки-разделителя."
   ]
  },
  {
   "cell_type": "code",
   "execution_count": 24,
   "metadata": {},
   "outputs": [
    {
     "data": {
      "text/plain": [
       "0.03"
      ]
     },
     "execution_count": 24,
     "metadata": {},
     "output_type": "execute_result"
    }
   ],
   "source": [
    "np.random.seed(31)\n",
    "\n",
    "rows_mum = X_train.shape[0]\n",
    "inds = np.random.randint(0,rows_mum,(1000,rows_mum))\n",
    "\n",
    "means = [x.mean() for x in X_train.MinTemp.values[inds]]\n",
    "ans = np.std(means)\n",
    "round(ans,2)"
   ]
  },
  {
   "cell_type": "markdown",
   "metadata": {},
   "source": [
    "### Задание 4.8\n",
    "Теперь можно перейти к обучению прогностических моделей. Начнём с того, что построим простейшую `логистическую регрессию (без настройки гиперпараметров)`. Это будет та модель, с качеством которой мы будем сравнивать результаты, полученные далее, чтобы оценить превосходство случайного леса над простыми методами.\n",
    "\n",
    "В качестве ответа введите значение метрики `roc_auc` на тестовой выборке. Ответ округлите до двух знаков после точки-разделителя."
   ]
  },
  {
   "cell_type": "code",
   "execution_count": 25,
   "metadata": {},
   "outputs": [
    {
     "name": "stderr",
     "output_type": "stream",
     "text": [
      "C:\\Users\\GANSOR-PC\\Anaconda3\\lib\\site-packages\\sklearn\\linear_model\\logistic.py:947: ConvergenceWarning: lbfgs failed to converge. Increase the number of iterations.\n",
      "  \"of iterations.\", ConvergenceWarning)\n"
     ]
    },
    {
     "data": {
      "text/plain": [
       "0.73"
      ]
     },
     "execution_count": 25,
     "metadata": {},
     "output_type": "execute_result"
    }
   ],
   "source": [
    "lr = LogisticRegression(solver='lbfgs')\n",
    "lr.fit(X_train, y_train)\n",
    "lr_pred = lr.predict(X_test)\n",
    "\n",
    "ans = roc_auc_score(y_test,lr_pred)\n",
    "round(ans,2)"
   ]
  },
  {
   "cell_type": "markdown",
   "metadata": {},
   "source": [
    "### Задание 4.9\n",
    "Теперь попробуйте обучить на наших данных другой алгоритм — дерево решений. С помощью `GridSearchCV` сделайте перебор гиперпараметров по следующей сетке:\n",
    "\n",
    "```\n",
    "params = {'max_leaf_nodes': list(range(2, 10)), 'min_samples_split': [2, 3, 4], 'max_depth': [5,7,9,11]}\n",
    "```\n",
    "Для параметра кросс-валидации `cv` задайте значение `3`. Для решающего дерева определите параметр `random_state=42`. Остальные параметры оставьте по умолчанию."
   ]
  },
  {
   "cell_type": "code",
   "execution_count": 26,
   "metadata": {},
   "outputs": [
    {
     "name": "stdout",
     "output_type": "stream",
     "text": [
      "Wall time: 20.2 s\n"
     ]
    }
   ],
   "source": [
    "%%time\n",
    "dt = DecisionTreeClassifier(random_state=42)\n",
    "# param_grid = {'max_leaf_nodes': list(range(2, 10)), \n",
    "#           'min_samples_split': [2, 3, 4], \n",
    "#           'max_depth': [5,7,9,11]}\n",
    "param_grid = {'max_leaf_nodes': list(range(5, 15)), \n",
    "              'min_samples_split': [2, 3, 4], \n",
    "              'max_depth': [5,7,9,11]}\n",
    "search = GridSearchCV(estimator=dt,\n",
    "                      param_grid=param_grid,\n",
    "                      n_jobs=-1,\n",
    "                      cv=3)\n",
    "search.fit(X_train,y_train)\n",
    "best_dt = search.best_estimator_"
   ]
  },
  {
   "cell_type": "markdown",
   "metadata": {},
   "source": [
    "1. Вычислите значение `roc_auc` для решающего дерева с гиперпараметрами, определёнными в качестве оптимальных. Ответ округлите до двух знаков после точки-разделителя."
   ]
  },
  {
   "cell_type": "code",
   "execution_count": 27,
   "metadata": {},
   "outputs": [
    {
     "data": {
      "text/plain": [
       "0.71"
      ]
     },
     "execution_count": 27,
     "metadata": {},
     "output_type": "execute_result"
    }
   ],
   "source": [
    "best_dt_pred = best_dt.predict(X_test)\n",
    "ans = roc_auc_score(y_test,best_dt_pred)\n",
    "round(ans,2)"
   ]
  },
  {
   "cell_type": "markdown",
   "metadata": {},
   "source": [
    "2. Какие значения гиперпараметров были выбраны как оптимальные?\n"
   ]
  },
  {
   "cell_type": "code",
   "execution_count": 28,
   "metadata": {},
   "outputs": [
    {
     "data": {
      "text/plain": [
       "{'max_depth': 5, 'max_leaf_nodes': 12, 'min_samples_split': 2}"
      ]
     },
     "execution_count": 28,
     "metadata": {},
     "output_type": "execute_result"
    }
   ],
   "source": [
    "search.best_params_"
   ]
  },
  {
   "cell_type": "markdown",
   "metadata": {},
   "source": [
    "### Задание 4.10\n",
    "К сожалению, деревья решений не помогли нам в улучшении качества модели, так что попробуем ещё уменьшить ошибку с помощью ансамблей.\n",
    "\n",
    "Теперь постройте `случайный лес, включающий 100 деревьев`. Задайте параметр `random_state=31`. Остальные параметры оставьте по умолчанию.\n",
    "\n",
    "Какой теперь будет метрика roc_auc на тестовой выборке? Ответ округлите до двух знаков после точки-разделителя."
   ]
  },
  {
   "cell_type": "code",
   "execution_count": 29,
   "metadata": {},
   "outputs": [
    {
     "name": "stdout",
     "output_type": "stream",
     "text": [
      "Wall time: 11.2 s\n"
     ]
    },
    {
     "data": {
      "text/plain": [
       "(0.7360027958675083, 0.8211798573558224)"
      ]
     },
     "execution_count": 29,
     "metadata": {},
     "output_type": "execute_result"
    }
   ],
   "source": [
    "%%time\n",
    "rf = RandomForestClassifier(n_estimators=100,\n",
    "                            random_state=31)\n",
    "rf.fit(X_train,y_train)\n",
    "rf_pred = rf.predict(X_test)\n",
    "roc_auc_score(y_test,rf_pred), roc_auc_score(rf_pred,y_test)"
   ]
  },
  {
   "cell_type": "markdown",
   "metadata": {},
   "source": [
    "### Задание 4.11\n",
    "Основные параметры, которые отвечают за качество обучения в случайном лесе, следующие:`'max_features'`, `'min_samples_leaf'`, `'max_depth'`.\n",
    "\n",
    "Возьмите случайный лес из 100 деревьев и найдите оптимальную комбинацию этих трёх параметров. Сетка для перебора следующая:\n",
    "```python\n",
    "{'max_features': [ 4, 5, 6, 7], 'min_samples_leaf': [3, 5, 7, 9, 11], 'max_depth': [5, 10, 15]}\n",
    "```\n",
    "Перебор осуществите с помощью `GridSearchCV`. Для параметра кросс-валидации `cv задайте значение 3`. Случайности фиксируйте параметром `random_state = 31`. Остальные значения оставьте по умолчанию.\n",
    "\n",
    "Какое значение `roc_auc` получилось для оптимальных гиперпараметров?"
   ]
  },
  {
   "cell_type": "code",
   "execution_count": 30,
   "metadata": {},
   "outputs": [
    {
     "name": "stdout",
     "output_type": "stream",
     "text": [
      "Wall time: 1min 31s\n"
     ]
    },
    {
     "data": {
      "text/plain": [
       "(0.6985647172231163, 0.8233759612850785)"
      ]
     },
     "execution_count": 30,
     "metadata": {},
     "output_type": "execute_result"
    }
   ],
   "source": [
    "%%time\n",
    "rfc = RandomForestClassifier(n_estimators=100,random_state=31)\n",
    "param_grid = {'max_features': [ 4, 5, 6, 7], \n",
    "              'min_samples_leaf': [3, 5, 7, 9, 11], \n",
    "              'max_depth': [5, 10, 15]}\n",
    "search = GridSearchCV(estimator=rfc,\n",
    "                     param_grid=param_grid,\n",
    "                     n_jobs=-1,\n",
    "                     cv=3)\n",
    "search.fit(X_train,y_train)\n",
    "best_rfc = search.best_estimator_\n",
    "best_rfc_pred = best_rfc.predict(X_test)\n",
    "roc_auc_score(y_test,best_rfc_pred), roc_auc_score(best_rfc_pred,y_test)"
   ]
  },
  {
   "cell_type": "markdown",
   "metadata": {},
   "source": [
    "### Задание 4.12\n",
    "Как мы говорили в предыдущем юните, благодаря случайному лесу можно узнать, какие признаки оказывают большее влияние на целевую переменную по сравнению с другими.\n",
    "\n",
    "Оцените значимость признаков. Отметьте три признака, которые дают наибольший вклад в целевую переменную:\n"
   ]
  },
  {
   "cell_type": "code",
   "execution_count": 31,
   "metadata": {},
   "outputs": [
    {
     "name": "stdout",
     "output_type": "stream",
     "text": [
      "Humidity3pm Rainfall Cloud9am\n"
     ]
    }
   ],
   "source": [
    "feature_importances = pd.Series(data = best_rfc.feature_importances_, index=X.columns)\n",
    "# feature_importances.sort_values(ascending=False)[:3].index\n",
    "print(*feature_importances.sort_values(ascending=False)[:3].index)"
   ]
  },
  {
   "cell_type": "code",
   "execution_count": 32,
   "metadata": {},
   "outputs": [
    {
     "data": {
      "text/plain": [
       "Humidity3pm               0.249056\n",
       "Rainfall                  0.084987\n",
       "Cloud9am                  0.068340\n",
       "Pressure3pm               0.065046\n",
       "Humidity9am               0.062901\n",
       "                            ...   \n",
       "Location_BadgerysCreek    0.000000\n",
       "Location_SalmonGums       0.000000\n",
       "Location_Dartmoor         0.000000\n",
       "Location_GoldCoast        0.000000\n",
       "Location_Albany           0.000000\n",
       "Length: 123, dtype: float64"
      ]
     },
     "execution_count": 32,
     "metadata": {},
     "output_type": "execute_result"
    }
   ],
   "source": [
    "feature_importances.sort_values(ascending=False)"
   ]
  },
  {
   "cell_type": "markdown",
   "metadata": {},
   "source": [
    "### 5. Бустинг\n",
    "    \n",
    "#### ADABOOST\n",
    "Первый ансамбль типа бустинг, который мы рассмотрим, называется `AdaBoost (Adaptive Boosting)`.\n",
    "\n",
    "#### ГРАДИЕНТНЫЙ БУСТИНГ\n",
    "Переходим к следующему алгоритму, который очень популярен благодаря своей высокой эффективности, — к `градиентному бустингу`."
   ]
  },
  {
   "cell_type": "markdown",
   "metadata": {},
   "source": [
    "### 6. Бустинг. Практика\n",
    "Мы будем работать c данными, которые содержат результаты опроса клиентов авиакомпании по поводу их удовлетворённости полётом.\n",
    "\n",
    "Нашей задачей будет предсказать удовлетворённость пассажиров.\n",
    "\n",
    "Признаки в данных:   \n",
    "- Gender — пол пассажира (женский, мужской);\n",
    "- Customer Type — тип клиента (постоянный/непостоянный клиент);\n",
    "- Age — возраст клиента;\n",
    "- Type of Travel — цель перелета (личная/деловая поездка);\n",
    "- Class — туристический класс пассажира (Business, Eco, Eco Plus);\n",
    "- Flight distance — расстояние полета;\n",
    "- Inflight wifi service — уровень удовлетворённости Wi-Fi (0 — не применимо, 1–5);\n",
    "- Departure/Arrival time convenient — уровень удовлетворённости временем отправления и прибытия;\n",
    "- Ease of Online booking — уровень удовлетворённости онлайн-бронированием;\n",
    "- Gate location — уровень удовлетворённости расположением выхода на посадку;\n",
    "- Food and drink — уровень удовлетворённости едой и напитками;\n",
    "- Online boarding — уровень удовлетворённости онлайн-регистрацией;\n",
    "- Seat comfort — уровень удовлетворённости комфортом сидений;\n",
    "- Inflight entertainment — уровень удовлетворённости развлечениями на борту;\n",
    "- On-board service — уровень удовлетворённости сервисом на борту;\n",
    "- Leg room service — уровень удовлетворённости местом для ног;\n",
    "- Baggage handling — уровень удовлетворённости обработкой багажа;\n",
    "- Check-in service — уровень удовлетворённости услугами регистрации;\n",
    "- Inflight service — уровень удовлетворённости обслуживанием во время полёта;\n",
    "- Cleanliness — уровень удовлетворённости чистотой;\n",
    "- Departure Delay in Minutes — задержка при отправлении (в минутах);\n",
    "- Arrival Delay in Minutes — задержка при прибытии (в минутах);\n",
    "- Satisfaction — удовлетворённость авиакомпанией — целевая переменная (satisfaction/neutral/dissatisfaction)."
   ]
  },
  {
   "cell_type": "code",
   "execution_count": 33,
   "metadata": {},
   "outputs": [],
   "source": [
    "df = pd.read_csv('./data/AirPass.csv',index_col=0)"
   ]
  },
  {
   "cell_type": "code",
   "execution_count": null,
   "metadata": {},
   "outputs": [],
   "source": []
  },
  {
   "cell_type": "code",
   "execution_count": 34,
   "metadata": {},
   "outputs": [
    {
     "data": {
      "text/html": [
       "<div>\n",
       "<style scoped>\n",
       "    .dataframe tbody tr th:only-of-type {\n",
       "        vertical-align: middle;\n",
       "    }\n",
       "\n",
       "    .dataframe tbody tr th {\n",
       "        vertical-align: top;\n",
       "    }\n",
       "\n",
       "    .dataframe thead th {\n",
       "        text-align: right;\n",
       "    }\n",
       "</style>\n",
       "<table border=\"1\" class=\"dataframe\">\n",
       "  <thead>\n",
       "    <tr style=\"text-align: right;\">\n",
       "      <th></th>\n",
       "      <th>count</th>\n",
       "      <th>unique</th>\n",
       "      <th>top</th>\n",
       "      <th>freq</th>\n",
       "      <th>mean</th>\n",
       "      <th>std</th>\n",
       "      <th>min</th>\n",
       "      <th>25%</th>\n",
       "      <th>50%</th>\n",
       "      <th>75%</th>\n",
       "      <th>max</th>\n",
       "      <th>nunique</th>\n",
       "      <th>dtypes</th>\n",
       "    </tr>\n",
       "  </thead>\n",
       "  <tbody>\n",
       "    <tr>\n",
       "      <td>id</td>\n",
       "      <td>103904</td>\n",
       "      <td>NaN</td>\n",
       "      <td>NaN</td>\n",
       "      <td>NaN</td>\n",
       "      <td>64924.2</td>\n",
       "      <td>37463.8</td>\n",
       "      <td>1</td>\n",
       "      <td>32533.8</td>\n",
       "      <td>64856.5</td>\n",
       "      <td>97368.2</td>\n",
       "      <td>129880</td>\n",
       "      <td>103904</td>\n",
       "      <td>int64</td>\n",
       "    </tr>\n",
       "    <tr>\n",
       "      <td>Gender</td>\n",
       "      <td>103904</td>\n",
       "      <td>2</td>\n",
       "      <td>Female</td>\n",
       "      <td>52727</td>\n",
       "      <td>NaN</td>\n",
       "      <td>NaN</td>\n",
       "      <td>NaN</td>\n",
       "      <td>NaN</td>\n",
       "      <td>NaN</td>\n",
       "      <td>NaN</td>\n",
       "      <td>NaN</td>\n",
       "      <td>2</td>\n",
       "      <td>object</td>\n",
       "    </tr>\n",
       "    <tr>\n",
       "      <td>Customer Type</td>\n",
       "      <td>103904</td>\n",
       "      <td>2</td>\n",
       "      <td>Loyal Customer</td>\n",
       "      <td>84923</td>\n",
       "      <td>NaN</td>\n",
       "      <td>NaN</td>\n",
       "      <td>NaN</td>\n",
       "      <td>NaN</td>\n",
       "      <td>NaN</td>\n",
       "      <td>NaN</td>\n",
       "      <td>NaN</td>\n",
       "      <td>2</td>\n",
       "      <td>object</td>\n",
       "    </tr>\n",
       "    <tr>\n",
       "      <td>Age</td>\n",
       "      <td>103904</td>\n",
       "      <td>NaN</td>\n",
       "      <td>NaN</td>\n",
       "      <td>NaN</td>\n",
       "      <td>39.3797</td>\n",
       "      <td>15.115</td>\n",
       "      <td>7</td>\n",
       "      <td>27</td>\n",
       "      <td>40</td>\n",
       "      <td>51</td>\n",
       "      <td>85</td>\n",
       "      <td>75</td>\n",
       "      <td>int64</td>\n",
       "    </tr>\n",
       "    <tr>\n",
       "      <td>Type of Travel</td>\n",
       "      <td>103904</td>\n",
       "      <td>2</td>\n",
       "      <td>Business travel</td>\n",
       "      <td>71655</td>\n",
       "      <td>NaN</td>\n",
       "      <td>NaN</td>\n",
       "      <td>NaN</td>\n",
       "      <td>NaN</td>\n",
       "      <td>NaN</td>\n",
       "      <td>NaN</td>\n",
       "      <td>NaN</td>\n",
       "      <td>2</td>\n",
       "      <td>object</td>\n",
       "    </tr>\n",
       "    <tr>\n",
       "      <td>Class</td>\n",
       "      <td>103904</td>\n",
       "      <td>3</td>\n",
       "      <td>Business</td>\n",
       "      <td>49665</td>\n",
       "      <td>NaN</td>\n",
       "      <td>NaN</td>\n",
       "      <td>NaN</td>\n",
       "      <td>NaN</td>\n",
       "      <td>NaN</td>\n",
       "      <td>NaN</td>\n",
       "      <td>NaN</td>\n",
       "      <td>3</td>\n",
       "      <td>object</td>\n",
       "    </tr>\n",
       "    <tr>\n",
       "      <td>Flight Distance</td>\n",
       "      <td>103904</td>\n",
       "      <td>NaN</td>\n",
       "      <td>NaN</td>\n",
       "      <td>NaN</td>\n",
       "      <td>1189.45</td>\n",
       "      <td>997.147</td>\n",
       "      <td>31</td>\n",
       "      <td>414</td>\n",
       "      <td>843</td>\n",
       "      <td>1743</td>\n",
       "      <td>4983</td>\n",
       "      <td>3802</td>\n",
       "      <td>int64</td>\n",
       "    </tr>\n",
       "    <tr>\n",
       "      <td>Inflight wifi service</td>\n",
       "      <td>103904</td>\n",
       "      <td>NaN</td>\n",
       "      <td>NaN</td>\n",
       "      <td>NaN</td>\n",
       "      <td>2.72968</td>\n",
       "      <td>1.32783</td>\n",
       "      <td>0</td>\n",
       "      <td>2</td>\n",
       "      <td>3</td>\n",
       "      <td>4</td>\n",
       "      <td>5</td>\n",
       "      <td>6</td>\n",
       "      <td>int64</td>\n",
       "    </tr>\n",
       "    <tr>\n",
       "      <td>Departure/Arrival time convenient</td>\n",
       "      <td>103904</td>\n",
       "      <td>NaN</td>\n",
       "      <td>NaN</td>\n",
       "      <td>NaN</td>\n",
       "      <td>3.0603</td>\n",
       "      <td>1.52508</td>\n",
       "      <td>0</td>\n",
       "      <td>2</td>\n",
       "      <td>3</td>\n",
       "      <td>4</td>\n",
       "      <td>5</td>\n",
       "      <td>6</td>\n",
       "      <td>int64</td>\n",
       "    </tr>\n",
       "    <tr>\n",
       "      <td>Ease of Online booking</td>\n",
       "      <td>103904</td>\n",
       "      <td>NaN</td>\n",
       "      <td>NaN</td>\n",
       "      <td>NaN</td>\n",
       "      <td>2.7569</td>\n",
       "      <td>1.39893</td>\n",
       "      <td>0</td>\n",
       "      <td>2</td>\n",
       "      <td>3</td>\n",
       "      <td>4</td>\n",
       "      <td>5</td>\n",
       "      <td>6</td>\n",
       "      <td>int64</td>\n",
       "    </tr>\n",
       "    <tr>\n",
       "      <td>Gate location</td>\n",
       "      <td>103904</td>\n",
       "      <td>NaN</td>\n",
       "      <td>NaN</td>\n",
       "      <td>NaN</td>\n",
       "      <td>2.97688</td>\n",
       "      <td>1.27762</td>\n",
       "      <td>0</td>\n",
       "      <td>2</td>\n",
       "      <td>3</td>\n",
       "      <td>4</td>\n",
       "      <td>5</td>\n",
       "      <td>6</td>\n",
       "      <td>int64</td>\n",
       "    </tr>\n",
       "    <tr>\n",
       "      <td>Food and drink</td>\n",
       "      <td>103904</td>\n",
       "      <td>NaN</td>\n",
       "      <td>NaN</td>\n",
       "      <td>NaN</td>\n",
       "      <td>3.20213</td>\n",
       "      <td>1.32953</td>\n",
       "      <td>0</td>\n",
       "      <td>2</td>\n",
       "      <td>3</td>\n",
       "      <td>4</td>\n",
       "      <td>5</td>\n",
       "      <td>6</td>\n",
       "      <td>int64</td>\n",
       "    </tr>\n",
       "    <tr>\n",
       "      <td>Online boarding</td>\n",
       "      <td>103904</td>\n",
       "      <td>NaN</td>\n",
       "      <td>NaN</td>\n",
       "      <td>NaN</td>\n",
       "      <td>3.25038</td>\n",
       "      <td>1.34951</td>\n",
       "      <td>0</td>\n",
       "      <td>2</td>\n",
       "      <td>3</td>\n",
       "      <td>4</td>\n",
       "      <td>5</td>\n",
       "      <td>6</td>\n",
       "      <td>int64</td>\n",
       "    </tr>\n",
       "    <tr>\n",
       "      <td>Seat comfort</td>\n",
       "      <td>103904</td>\n",
       "      <td>NaN</td>\n",
       "      <td>NaN</td>\n",
       "      <td>NaN</td>\n",
       "      <td>3.4394</td>\n",
       "      <td>1.31909</td>\n",
       "      <td>0</td>\n",
       "      <td>2</td>\n",
       "      <td>4</td>\n",
       "      <td>5</td>\n",
       "      <td>5</td>\n",
       "      <td>6</td>\n",
       "      <td>int64</td>\n",
       "    </tr>\n",
       "    <tr>\n",
       "      <td>Inflight entertainment</td>\n",
       "      <td>103904</td>\n",
       "      <td>NaN</td>\n",
       "      <td>NaN</td>\n",
       "      <td>NaN</td>\n",
       "      <td>3.35816</td>\n",
       "      <td>1.33299</td>\n",
       "      <td>0</td>\n",
       "      <td>2</td>\n",
       "      <td>4</td>\n",
       "      <td>4</td>\n",
       "      <td>5</td>\n",
       "      <td>6</td>\n",
       "      <td>int64</td>\n",
       "    </tr>\n",
       "    <tr>\n",
       "      <td>On-board service</td>\n",
       "      <td>103904</td>\n",
       "      <td>NaN</td>\n",
       "      <td>NaN</td>\n",
       "      <td>NaN</td>\n",
       "      <td>3.38236</td>\n",
       "      <td>1.28835</td>\n",
       "      <td>0</td>\n",
       "      <td>2</td>\n",
       "      <td>4</td>\n",
       "      <td>4</td>\n",
       "      <td>5</td>\n",
       "      <td>6</td>\n",
       "      <td>int64</td>\n",
       "    </tr>\n",
       "    <tr>\n",
       "      <td>Leg room service</td>\n",
       "      <td>103904</td>\n",
       "      <td>NaN</td>\n",
       "      <td>NaN</td>\n",
       "      <td>NaN</td>\n",
       "      <td>3.35105</td>\n",
       "      <td>1.3156</td>\n",
       "      <td>0</td>\n",
       "      <td>2</td>\n",
       "      <td>4</td>\n",
       "      <td>4</td>\n",
       "      <td>5</td>\n",
       "      <td>6</td>\n",
       "      <td>int64</td>\n",
       "    </tr>\n",
       "    <tr>\n",
       "      <td>Baggage handling</td>\n",
       "      <td>103904</td>\n",
       "      <td>NaN</td>\n",
       "      <td>NaN</td>\n",
       "      <td>NaN</td>\n",
       "      <td>3.63183</td>\n",
       "      <td>1.1809</td>\n",
       "      <td>1</td>\n",
       "      <td>3</td>\n",
       "      <td>4</td>\n",
       "      <td>5</td>\n",
       "      <td>5</td>\n",
       "      <td>5</td>\n",
       "      <td>int64</td>\n",
       "    </tr>\n",
       "    <tr>\n",
       "      <td>Checkin service</td>\n",
       "      <td>103904</td>\n",
       "      <td>NaN</td>\n",
       "      <td>NaN</td>\n",
       "      <td>NaN</td>\n",
       "      <td>3.30429</td>\n",
       "      <td>1.2654</td>\n",
       "      <td>0</td>\n",
       "      <td>3</td>\n",
       "      <td>3</td>\n",
       "      <td>4</td>\n",
       "      <td>5</td>\n",
       "      <td>6</td>\n",
       "      <td>int64</td>\n",
       "    </tr>\n",
       "    <tr>\n",
       "      <td>Inflight service</td>\n",
       "      <td>103904</td>\n",
       "      <td>NaN</td>\n",
       "      <td>NaN</td>\n",
       "      <td>NaN</td>\n",
       "      <td>3.64043</td>\n",
       "      <td>1.17566</td>\n",
       "      <td>0</td>\n",
       "      <td>3</td>\n",
       "      <td>4</td>\n",
       "      <td>5</td>\n",
       "      <td>5</td>\n",
       "      <td>6</td>\n",
       "      <td>int64</td>\n",
       "    </tr>\n",
       "    <tr>\n",
       "      <td>Cleanliness</td>\n",
       "      <td>103904</td>\n",
       "      <td>NaN</td>\n",
       "      <td>NaN</td>\n",
       "      <td>NaN</td>\n",
       "      <td>3.28635</td>\n",
       "      <td>1.31227</td>\n",
       "      <td>0</td>\n",
       "      <td>2</td>\n",
       "      <td>3</td>\n",
       "      <td>4</td>\n",
       "      <td>5</td>\n",
       "      <td>6</td>\n",
       "      <td>int64</td>\n",
       "    </tr>\n",
       "    <tr>\n",
       "      <td>Departure Delay in Minutes</td>\n",
       "      <td>103904</td>\n",
       "      <td>NaN</td>\n",
       "      <td>NaN</td>\n",
       "      <td>NaN</td>\n",
       "      <td>14.8156</td>\n",
       "      <td>38.2309</td>\n",
       "      <td>0</td>\n",
       "      <td>0</td>\n",
       "      <td>0</td>\n",
       "      <td>12</td>\n",
       "      <td>1592</td>\n",
       "      <td>446</td>\n",
       "      <td>int64</td>\n",
       "    </tr>\n",
       "    <tr>\n",
       "      <td>Arrival Delay in Minutes</td>\n",
       "      <td>103594</td>\n",
       "      <td>NaN</td>\n",
       "      <td>NaN</td>\n",
       "      <td>NaN</td>\n",
       "      <td>15.1787</td>\n",
       "      <td>38.6987</td>\n",
       "      <td>0</td>\n",
       "      <td>0</td>\n",
       "      <td>0</td>\n",
       "      <td>13</td>\n",
       "      <td>1584</td>\n",
       "      <td>455</td>\n",
       "      <td>float64</td>\n",
       "    </tr>\n",
       "    <tr>\n",
       "      <td>satisfaction</td>\n",
       "      <td>103904</td>\n",
       "      <td>2</td>\n",
       "      <td>neutral or dissatisfied</td>\n",
       "      <td>58879</td>\n",
       "      <td>NaN</td>\n",
       "      <td>NaN</td>\n",
       "      <td>NaN</td>\n",
       "      <td>NaN</td>\n",
       "      <td>NaN</td>\n",
       "      <td>NaN</td>\n",
       "      <td>NaN</td>\n",
       "      <td>2</td>\n",
       "      <td>object</td>\n",
       "    </tr>\n",
       "  </tbody>\n",
       "</table>\n",
       "</div>"
      ],
      "text/plain": [
       "                                    count unique                      top  \\\n",
       "id                                 103904    NaN                      NaN   \n",
       "Gender                             103904      2                   Female   \n",
       "Customer Type                      103904      2           Loyal Customer   \n",
       "Age                                103904    NaN                      NaN   \n",
       "Type of Travel                     103904      2          Business travel   \n",
       "Class                              103904      3                 Business   \n",
       "Flight Distance                    103904    NaN                      NaN   \n",
       "Inflight wifi service              103904    NaN                      NaN   \n",
       "Departure/Arrival time convenient  103904    NaN                      NaN   \n",
       "Ease of Online booking             103904    NaN                      NaN   \n",
       "Gate location                      103904    NaN                      NaN   \n",
       "Food and drink                     103904    NaN                      NaN   \n",
       "Online boarding                    103904    NaN                      NaN   \n",
       "Seat comfort                       103904    NaN                      NaN   \n",
       "Inflight entertainment             103904    NaN                      NaN   \n",
       "On-board service                   103904    NaN                      NaN   \n",
       "Leg room service                   103904    NaN                      NaN   \n",
       "Baggage handling                   103904    NaN                      NaN   \n",
       "Checkin service                    103904    NaN                      NaN   \n",
       "Inflight service                   103904    NaN                      NaN   \n",
       "Cleanliness                        103904    NaN                      NaN   \n",
       "Departure Delay in Minutes         103904    NaN                      NaN   \n",
       "Arrival Delay in Minutes           103594    NaN                      NaN   \n",
       "satisfaction                       103904      2  neutral or dissatisfied   \n",
       "\n",
       "                                    freq     mean      std  min      25%  \\\n",
       "id                                   NaN  64924.2  37463.8    1  32533.8   \n",
       "Gender                             52727      NaN      NaN  NaN      NaN   \n",
       "Customer Type                      84923      NaN      NaN  NaN      NaN   \n",
       "Age                                  NaN  39.3797   15.115    7       27   \n",
       "Type of Travel                     71655      NaN      NaN  NaN      NaN   \n",
       "Class                              49665      NaN      NaN  NaN      NaN   \n",
       "Flight Distance                      NaN  1189.45  997.147   31      414   \n",
       "Inflight wifi service                NaN  2.72968  1.32783    0        2   \n",
       "Departure/Arrival time convenient    NaN   3.0603  1.52508    0        2   \n",
       "Ease of Online booking               NaN   2.7569  1.39893    0        2   \n",
       "Gate location                        NaN  2.97688  1.27762    0        2   \n",
       "Food and drink                       NaN  3.20213  1.32953    0        2   \n",
       "Online boarding                      NaN  3.25038  1.34951    0        2   \n",
       "Seat comfort                         NaN   3.4394  1.31909    0        2   \n",
       "Inflight entertainment               NaN  3.35816  1.33299    0        2   \n",
       "On-board service                     NaN  3.38236  1.28835    0        2   \n",
       "Leg room service                     NaN  3.35105   1.3156    0        2   \n",
       "Baggage handling                     NaN  3.63183   1.1809    1        3   \n",
       "Checkin service                      NaN  3.30429   1.2654    0        3   \n",
       "Inflight service                     NaN  3.64043  1.17566    0        3   \n",
       "Cleanliness                          NaN  3.28635  1.31227    0        2   \n",
       "Departure Delay in Minutes           NaN  14.8156  38.2309    0        0   \n",
       "Arrival Delay in Minutes             NaN  15.1787  38.6987    0        0   \n",
       "satisfaction                       58879      NaN      NaN  NaN      NaN   \n",
       "\n",
       "                                       50%      75%     max  nunique   dtypes  \n",
       "id                                 64856.5  97368.2  129880   103904    int64  \n",
       "Gender                                 NaN      NaN     NaN        2   object  \n",
       "Customer Type                          NaN      NaN     NaN        2   object  \n",
       "Age                                     40       51      85       75    int64  \n",
       "Type of Travel                         NaN      NaN     NaN        2   object  \n",
       "Class                                  NaN      NaN     NaN        3   object  \n",
       "Flight Distance                        843     1743    4983     3802    int64  \n",
       "Inflight wifi service                    3        4       5        6    int64  \n",
       "Departure/Arrival time convenient        3        4       5        6    int64  \n",
       "Ease of Online booking                   3        4       5        6    int64  \n",
       "Gate location                            3        4       5        6    int64  \n",
       "Food and drink                           3        4       5        6    int64  \n",
       "Online boarding                          3        4       5        6    int64  \n",
       "Seat comfort                             4        5       5        6    int64  \n",
       "Inflight entertainment                   4        4       5        6    int64  \n",
       "On-board service                         4        4       5        6    int64  \n",
       "Leg room service                         4        4       5        6    int64  \n",
       "Baggage handling                         4        5       5        5    int64  \n",
       "Checkin service                          3        4       5        6    int64  \n",
       "Inflight service                         4        5       5        6    int64  \n",
       "Cleanliness                              3        4       5        6    int64  \n",
       "Departure Delay in Minutes               0       12    1592      446    int64  \n",
       "Arrival Delay in Minutes                 0       13    1584      455  float64  \n",
       "satisfaction                           NaN      NaN     NaN        2   object  "
      ]
     },
     "execution_count": 34,
     "metadata": {},
     "output_type": "execute_result"
    }
   ],
   "source": [
    "df.describe(include='all').T.assign(nunique = df.nunique(),dtypes=df.dtypes)"
   ]
  },
  {
   "cell_type": "markdown",
   "metadata": {},
   "source": [
    "### Задание 6.1\n",
    "Для начала сделаем небольшую предобработку данных. Сколько всего в данных пропущенных значений?"
   ]
  },
  {
   "cell_type": "code",
   "execution_count": 35,
   "metadata": {},
   "outputs": [
    {
     "name": "stdout",
     "output_type": "stream",
     "text": [
      "всего в данных 310 пропущенных значений\n"
     ]
    }
   ],
   "source": [
    "ans = df.isna().sum().sum()\n",
    "print(f'всего в данных {ans} пропущенных значений')"
   ]
  },
  {
   "cell_type": "markdown",
   "metadata": {},
   "source": [
    "### Задание 6.2\n",
    "Теперь давайте избавимся от найденных пропусков. Заполните их все медианными значениями. После этого вычислите среднее арифметическое для признака, отражающего задержку при прибытии в минутах. Ответ округлите до двух знаков после точки-разделителя."
   ]
  },
  {
   "cell_type": "code",
   "execution_count": 36,
   "metadata": {},
   "outputs": [
    {
     "name": "stdout",
     "output_type": "stream",
     "text": [
      "15.13\n"
     ]
    }
   ],
   "source": [
    "df.fillna(value=df.median(),inplace=True)\n",
    "ans = df['Arrival Delay in Minutes'].mean()\n",
    "print(f'{ans:.2f}')"
   ]
  },
  {
   "cell_type": "markdown",
   "metadata": {},
   "source": [
    "### Задание 6.3\n",
    "Проведём небольшой разведывательный анализ. Посмотрим, в каких категориях пассажиров превалировали удовлетворённые полетом клиенты.\n",
    "\n",
    "1. Сравните удовлетворённость полётом мужчин и женщин. Выберите верное утверждение:"
   ]
  },
  {
   "cell_type": "code",
   "execution_count": 37,
   "metadata": {},
   "outputs": [
    {
     "data": {
      "text/plain": [
       "Gender  satisfaction           \n",
       "Female  neutral or dissatisfied    30193\n",
       "        satisfied                  22534\n",
       "Male    neutral or dissatisfied    28686\n",
       "        satisfied                  22491\n",
       "Name: satisfaction, dtype: int64"
      ]
     },
     "execution_count": 37,
     "metadata": {},
     "output_type": "execute_result"
    }
   ],
   "source": [
    "df.groupby('Gender').satisfaction.value_counts()"
   ]
  },
  {
   "cell_type": "markdown",
   "metadata": {},
   "source": [
    "2. Теперь сравним категории пассажиров в зависимости от их цели поездки. Выберите все верные утверждения:"
   ]
  },
  {
   "cell_type": "code",
   "execution_count": 38,
   "metadata": {},
   "outputs": [
    {
     "data": {
      "text/plain": [
       "Type of Travel   satisfaction           \n",
       "Business travel  satisfied                  41746\n",
       "                 neutral or dissatisfied    29909\n",
       "Personal Travel  neutral or dissatisfied    28970\n",
       "                 satisfied                   3279\n",
       "Name: satisfaction, dtype: int64"
      ]
     },
     "execution_count": 38,
     "metadata": {},
     "output_type": "execute_result"
    }
   ],
   "source": [
    "df.groupby('Type of Travel').satisfaction.value_counts()"
   ]
  },
  {
   "cell_type": "markdown",
   "metadata": {},
   "source": [
    "3. В каком туристическом классе наибольший процент довольных клиентов?"
   ]
  },
  {
   "cell_type": "code",
   "execution_count": 39,
   "metadata": {},
   "outputs": [
    {
     "data": {
      "text/plain": [
       "Class     satisfaction           \n",
       "Business  satisfied                  0.694251\n",
       "          neutral or dissatisfied    0.305749\n",
       "Eco       neutral or dissatisfied    0.813862\n",
       "          satisfied                  0.186138\n",
       "Eco Plus  neutral or dissatisfied    0.753936\n",
       "          satisfied                  0.246064\n",
       "Name: satisfaction, dtype: float64"
      ]
     },
     "execution_count": 39,
     "metadata": {},
     "output_type": "execute_result"
    }
   ],
   "source": [
    "df.groupby('Class').satisfaction.value_counts(normalize=True)"
   ]
  },
  {
   "cell_type": "code",
   "execution_count": 40,
   "metadata": {},
   "outputs": [],
   "source": [
    "# Перекодируем часть бинарных признаков, чтобы использовать их при обучении:\n",
    "\n",
    "df['satisfaction'] = df['satisfaction'].map({'neutral or dissatisfied':0 , 'satisfied':1})\n",
    "df['Customer Type'] = df['Customer Type'].map({'Loyal Customer':1, 'disloyal Customer':0})\n",
    "df['Type of Travel'] = df['Type of Travel'].map({'Personal Travel':0, 'Business travel':1})"
   ]
  },
  {
   "cell_type": "markdown",
   "metadata": {},
   "source": [
    "### Задание 6.4\n",
    "Для остальных категориальных признаков создайте dummy-переменные. Сделайте это с помощью функции `get_dummies()` из библиотеки `Pandas`, параметры не меняйте. Сколько теперь признаков в данных (включая целевую переменную)?"
   ]
  },
  {
   "cell_type": "code",
   "execution_count": 41,
   "metadata": {},
   "outputs": [
    {
     "data": {
      "text/plain": [
       "27"
      ]
     },
     "execution_count": 41,
     "metadata": {},
     "output_type": "execute_result"
    }
   ],
   "source": [
    "df=pd.get_dummies(df)\n",
    "df.shape[1]"
   ]
  },
  {
   "cell_type": "markdown",
   "metadata": {},
   "source": [
    "### Задание 6.5\n",
    "Мы практически добрались до обучения модели. Разбейте данные на обучающую и тестовую выборки в соотношении 80/20, параметр `random_state = 26`. Сколько наблюдений попало в тестовую выборку?"
   ]
  },
  {
   "cell_type": "code",
   "execution_count": 42,
   "metadata": {},
   "outputs": [
    {
     "name": "stdout",
     "output_type": "stream",
     "text": [
      "20781 наблюдений попало в тестовую выборку\n"
     ]
    }
   ],
   "source": [
    "X,y = df.drop(columns='satisfaction'),df.satisfaction\n",
    "X_train,X_test,y_train,y_test = train_test_split(X,y,test_size=0.2,random_state=26)\n",
    "\n",
    "print(f'{X_test.shape[0]} наблюдений попало в тестовую выборку')"
   ]
  },
  {
   "cell_type": "markdown",
   "metadata": {},
   "source": [
    "### Задание 6.6\n",
    "Теперь нам необходимо реализовать масштабирование данных. Для этого обучите на обучающей выборке метод `StandardScaler()` и с помощью него преобразуйте и обучающую, и тестовую выборки. Не забудьте, что целевую переменную обрабатывать не нужно.\n",
    "\n",
    "```\n",
    "Примечание. Отметим, что если бы дальше мы работали только с деревьями, масштабирование бы не требовалось. Однако мы реализуем его, чтобы можно было обучать и другие модели и сравнивать полученные результаты.\n",
    "```\n",
    "\n",
    "В качестве ответа введите самое первое значение из матрицы преобразованных признаков тестовой выборки. Округлите значение до двух знаков после точки-разделителя."
   ]
  },
  {
   "cell_type": "code",
   "execution_count": 43,
   "metadata": {},
   "outputs": [],
   "source": [
    "scaller = StandardScaler()\n",
    "X_train = scaller.fit_transform(X_train)\n",
    "X_test = scaller.transform(X_test)"
   ]
  },
  {
   "cell_type": "code",
   "execution_count": 44,
   "metadata": {},
   "outputs": [
    {
     "data": {
      "text/plain": [
       "0.94"
      ]
     },
     "execution_count": 44,
     "metadata": {},
     "output_type": "execute_result"
    }
   ],
   "source": [
    "ans = X_test[0,0]\n",
    "round(ans,2)"
   ]
  },
  {
   "cell_type": "markdown",
   "metadata": {},
   "source": [
    "### Задание 6.7\n",
    "Перейдём к обучению моделей. В качестве первой модели возьмём самую простую — `логистическую регрессию`. Мы делаем это для того, чтобы потом сравнивать с ней полученные результаты: так вы сможете выяснить, насколько ансамбли смогут улучшить точность прогноза.\n",
    "\n",
    "Обучите логистическую регрессию с параметрами по умолчанию на наших данных. В качестве ответа введите значение метрики `f1_score`. Ответ округлите до трёх знаков после точки-разделителя."
   ]
  },
  {
   "cell_type": "code",
   "execution_count": 45,
   "metadata": {},
   "outputs": [
    {
     "name": "stderr",
     "output_type": "stream",
     "text": [
      "C:\\Users\\GANSOR-PC\\Anaconda3\\lib\\site-packages\\sklearn\\linear_model\\logistic.py:432: FutureWarning: Default solver will be changed to 'lbfgs' in 0.22. Specify a solver to silence this warning.\n",
      "  FutureWarning)\n"
     ]
    },
    {
     "data": {
      "text/plain": [
       "0.855"
      ]
     },
     "execution_count": 45,
     "metadata": {},
     "output_type": "execute_result"
    }
   ],
   "source": [
    "lr = LogisticRegression()\n",
    "lr.fit(X_train,y_train)\n",
    "lr_pred = lr.predict(X_test)\n",
    "ans = f1_score(y_test,lr_pred)\n",
    "round(ans,3)"
   ]
  },
  {
   "cell_type": "markdown",
   "metadata": {},
   "source": [
    "### Задание 6.8\n",
    "Теперь перейдём к бустингу. Начнём с обучения первой модели — `AdaBoost`. В качестве базовой модели для неё возьмите `решающее дерево` с параметром `random_state = 26`.\n",
    "\n",
    "Обучите `AdaBoost`, зафиксировав `random_state` со значением `26` и задав `темп обучения 0.01`. В качестве ответа введите значение метрики `f1_score`. Ответ округлите до трёх знаков после точки-разделителя."
   ]
  },
  {
   "cell_type": "code",
   "execution_count": 48,
   "metadata": {},
   "outputs": [
    {
     "name": "stdout",
     "output_type": "stream",
     "text": [
      "Wall time: 578 ms\n"
     ]
    },
    {
     "data": {
      "text/plain": [
       "0.941"
      ]
     },
     "execution_count": 48,
     "metadata": {},
     "output_type": "execute_result"
    }
   ],
   "source": [
    "%%time\n",
    "dt = DecisionTreeClassifier(random_state=26)\n",
    "ab = AdaBoostClassifier(base_estimator=dt,learning_rate=0.01,random_state=26)\n",
    "ab.fit(X_train,y_train)\n",
    "ab_pred = ab.predict(X_test)\n",
    "ans = f1_score(y_test,ab_pred)\n",
    "round(ans,3)"
   ]
  },
  {
   "cell_type": "markdown",
   "metadata": {},
   "source": [
    "### Задание 6.9\n",
    "Перейдем к следующему алгоритму — `градиентному бустингу`.\n",
    "\n",
    "Будем настраивать количество деревьев и темп обучения, делая перебор по следующей сетке:\n",
    "```python\n",
    "params = {\"n_estimators\":2**np.arange(8), \"learning_rate\":0.1**np.arange(3)}\n",
    "```\n",
    "Используйте для поиска оптимальных параметров `GridSearchCV`, а для ускорения работы алгоритма задайте `параметр кросс-валидации, равный 3`.\n",
    "\n",
    "Какое наибольшее значение метрики `f1_score` получилось? Ответ округлите до трёх знаков после точки-разделителя."
   ]
  },
  {
   "cell_type": "code",
   "execution_count": 56,
   "metadata": {},
   "outputs": [
    {
     "name": "stdout",
     "output_type": "stream",
     "text": [
      "Wall time: 1min 38s\n"
     ]
    },
    {
     "data": {
      "text/plain": [
       "0.948"
      ]
     },
     "execution_count": 56,
     "metadata": {},
     "output_type": "execute_result"
    }
   ],
   "source": [
    "%%time\n",
    "gbc = GradientBoostingClassifier()\n",
    "\n",
    "param_grid = {\"n_estimators\":2**np.arange(8), \n",
    "              \"learning_rate\":0.1**np.arange(3)}\n",
    "search = GridSearchCV(estimator=gbc,\n",
    "                      param_grid=param_grid,\n",
    "                      scoring='f1',\n",
    "                      n_jobs=-1,\n",
    "                      cv=3)\n",
    "\n",
    "search.fit(X_train,y_train)\n",
    "\n",
    "ans = search.best_score_\n",
    "round(ans,3)"
   ]
  },
  {
   "cell_type": "markdown",
   "metadata": {},
   "source": [
    "### Задание 6.10\n",
    "Обучите алгоритм `XGBoost`. Так как он достаточно мощный «из коробки», определите его с параметрами по умолчанию. Задайте только `random_state = 26`. Какое значение метрики `f1_score` получилось? Ответ округлите до трёх знаков после точки-разделителя.\n",
    "\n",
    ">Подсказка. Для того чтобы обучить алгоритм `XGBoost` для решения задачи классификации, вам понадобится `XGBClassifier` из библиотеки `xgboost`, установленной ранее. Вся дальнейшая последовательность действий (обучение модели, предсказание, оценка качества) идентична другим алгоритмам, например логистической регрессии.\n"
   ]
  },
  {
   "cell_type": "code",
   "execution_count": 69,
   "metadata": {},
   "outputs": [
    {
     "name": "stdout",
     "output_type": "stream",
     "text": [
      "[16:46:07] WARNING: ..\\src\\learner.cc:1115: Starting in XGBoost 1.3.0, the default evaluation metric used with the objective 'binary:logistic' was changed from 'error' to 'logloss'. Explicitly set eval_metric if you'd like to restore the old behavior.\n"
     ]
    },
    {
     "data": {
      "text/plain": [
       "XGBClassifier(base_score=0.5, booster='gbtree', colsample_bylevel=1,\n",
       "              colsample_bynode=1, colsample_bytree=1, enable_categorical=False,\n",
       "              gamma=0, gpu_id=-1, importance_type=None,\n",
       "              interaction_constraints='', learning_rate=0.300000012,\n",
       "              max_delta_step=0, max_depth=6, min_child_weight=1, missing=nan,\n",
       "              monotone_constraints='()', n_estimators=100, n_jobs=6,\n",
       "              num_parallel_tree=1, objective='binary:logistic',\n",
       "              predictor='auto', random_state=26, reg_alpha=0, reg_lambda=1,\n",
       "              scale_pos_weight=1, subsample=1, tree_method='exact',\n",
       "              use_label_encoder=False, validate_parameters=1, verbosity=None)"
      ]
     },
     "execution_count": 69,
     "metadata": {},
     "output_type": "execute_result"
    }
   ],
   "source": [
    "xgb = XGBClassifier(random_state = 26, use_label_encoder=False)\n",
    "# xgb = XGBClassifier(random_state = 26)\n",
    "\n",
    "xgb.fit(X_train,y_train)"
   ]
  },
  {
   "cell_type": "code",
   "execution_count": 70,
   "metadata": {},
   "outputs": [
    {
     "data": {
      "text/plain": [
       "0.958"
      ]
     },
     "execution_count": 70,
     "metadata": {},
     "output_type": "execute_result"
    }
   ],
   "source": [
    "xgb_pred = xgb.predict(X_test)\n",
    "ans = f1_score(y_test,xgb_pred)\n",
    "round(ans,3)"
   ]
  },
  {
   "cell_type": "markdown",
   "metadata": {},
   "source": [
    "### Задание 6.11\n",
    "Обучите алгоритм `CatBoost`. Как и `XGBoost`, будем обучать его с настройками по умолчанию. Какое значение метрики `f1_score` получилось? Ответ округлите до трёх знаков после точки-разделителя.\n",
    "\n",
    ">Подсказка. Для того чтобы обучить алгоритм `CatBoost`, вам понадобится `CatBoostClassifier()` из библиотеки `catboost`, установленной ранее. Вся дальнейшая последовательность действий (обучение модели, предсказание, оценка качества) идентична другим алгоритмам, например логистической регрессии.   "
   ]
  },
  {
   "cell_type": "code",
   "execution_count": 76,
   "metadata": {},
   "outputs": [
    {
     "data": {
      "text/plain": [
       "0.96"
      ]
     },
     "execution_count": 76,
     "metadata": {},
     "output_type": "execute_result"
    }
   ],
   "source": [
    "cb = CatBoostClassifier(random_state = 26,verbose=False)\n",
    "cb.fit(X_train,y_train)\n",
    "cb_pred = cb.predict(X_test)\n",
    "ans = f1_score(y_test,cb_pred)\n",
    "round(ans,3)"
   ]
  },
  {
   "cell_type": "markdown",
   "metadata": {},
   "source": [
    "### Задание 6.12\n",
    "Выведите матрицу ошибок для алгоритма, который получил наилучшие показатели качества модели на обучающей выборке (будем считать, что оцениваем по `f1_score`). Заполните соответствующие значения:"
   ]
  },
  {
   "cell_type": "code",
   "execution_count": 79,
   "metadata": {},
   "outputs": [
    {
     "name": "stdout",
     "output_type": "stream",
     "text": [
      "Score  ab: 1.0\n",
      "Score  xgb: 0.9752680003376382\n",
      "Score  cb: 0.9741014278680452\n"
     ]
    }
   ],
   "source": [
    "print('Score  ab:',f1_score(y_train,ab.predict(X_train)))\n",
    "print('Score  xgb:',f1_score(y_train,xgb.predict(X_train)))\n",
    "print('Score  cb:',f1_score(y_train,cb.predict(X_train)))"
   ]
  },
  {
   "cell_type": "code",
   "execution_count": 82,
   "metadata": {},
   "outputs": [
    {
     "name": "stdout",
     "output_type": "stream",
     "text": [
      "Score  ab: 0.9413314307666978\n",
      "Score  xgb: 0.9579785161685312\n",
      "Score  cb: 0.9604048492937383\n"
     ]
    }
   ],
   "source": [
    "print('Score  ab:',f1_score(y_test,ab_pred))\n",
    "print('Score  xgb:',f1_score(y_test,xgb_pred))\n",
    "print('Score  cb:',f1_score(y_test,cb_pred))"
   ]
  },
  {
   "cell_type": "code",
   "execution_count": 91,
   "metadata": {},
   "outputs": [
    {
     "name": "stdout",
     "output_type": "stream",
     "text": [
      "[[11434   239]\n",
      " [  473  8635]]\n",
      "[[46660   546]\n",
      " [ 1295 34622]]\n"
     ]
    }
   ],
   "source": [
    "print(confusion_matrix(y_test,cb_pred))\n",
    "\n",
    "cb_train_pred = cb.predict(X_train)\n",
    "print(confusion_matrix(y_train,cb_train_pred))"
   ]
  },
  {
   "cell_type": "code",
   "execution_count": 89,
   "metadata": {},
   "outputs": [
    {
     "name": "stdout",
     "output_type": "stream",
     "text": [
      "[[46660.   546.]\n",
      " [ 1295. 34622.]]\n",
      "[[11434.   239.]\n",
      " [  473.  8635.]]\n"
     ]
    }
   ],
   "source": [
    "cb = CatBoostClassifier(random_state = 26,verbose=False)\n",
    "\n",
    "train_dataset = Pool(data=X_train,label=y_train)\n",
    "test_dataset = Pool(data=X_test,label=y_test)\n",
    "\n",
    "cb.fit(train_dataset)\n",
    "\n",
    "cm_train = get_confusion_matrix(cb, train_dataset)\n",
    "print(cm_train)\n",
    "cm_test = get_confusion_matrix(cb, test_dataset)\n",
    "print(cm_test)"
   ]
  },
  {
   "cell_type": "markdown",
   "metadata": {},
   "source": [
    "Задание 6.13\n",
    "Оцените важность признаков для модели из предыдущего задания. Отметьте три признака, которые оказывают наибольшее влияние на значение целевой переменной:"
   ]
  },
  {
   "cell_type": "code",
   "execution_count": 109,
   "metadata": {},
   "outputs": [
    {
     "name": "stdout",
     "output_type": "stream",
     "text": [
      "Inflight wifi service | Type of Travel | Online boarding\n"
     ]
    }
   ],
   "source": [
    "feature_importances = pd.Series(index=X.columns,data=cb.feature_importances_)\n",
    "ans = feature_importances.sort_values(ascending=False).index[:3]\n",
    "print(*ans,sep =' | ')"
   ]
  },
  {
   "cell_type": "markdown",
   "metadata": {},
   "source": [
    "## 7. Стекинг"
   ]
  },
  {
   "cell_type": "markdown",
   "metadata": {},
   "source": [
    "Мы будем работать с данными, которые содержат информацию о звуках, издаваемых лягушками, и характеристики этих звуков.\n",
    "\n",
    "Необходимо классифицировать семейства лягушек в зависимости от особенностей их кваканья и прочих звуковых эффектов.\n",
    "\n",
    "Будем решать задачу классификации по выявлению лягушек, которые относятся к семейству 'Dendrobatidae' (признак 'Family').\n",
    "\n",
    "В качестве признаков, которые мы будем использовать для предсказания, необходимо взять все, кроме:\n",
    "- 'Family' — семейство лягушек;\n",
    "- 'Genus' — род лягушек;\n",
    "- 'Species' — вид лягушек;\n",
    "- 'RecordID' — ID записи.   \n",
    "\n",
    "Все остальные признаки относятся к акустическим особенностям кваканья — они-то нам и понадобятся, чтобы определить, к какому семейству относится лягушка.   \n",
    "\n",
    "Разделите выборку на обучающую и тестовую в соотношении `80/20`, параметр `random_state = 31`."
   ]
  },
  {
   "cell_type": "code",
   "execution_count": 117,
   "metadata": {},
   "outputs": [],
   "source": [
    "df = pd.read_csv('./data/Frogs_MFCCs.csv')"
   ]
  },
  {
   "cell_type": "code",
   "execution_count": 118,
   "metadata": {},
   "outputs": [],
   "source": [
    "columns = ['Family','Genus','Species','RecordID']\n",
    "X, y = df.drop(columns=columns), df.Family\n",
    "X_train, X_test, y_train, y_test = train_test_split(X,y,test_size=0.2,random_state=31)"
   ]
  },
  {
   "cell_type": "markdown",
   "metadata": {},
   "source": [
    "### Задание 7.5\n",
    "Для начала обучите на наших данных `случайный лес` с `десятью решающими деревьями`. Воспользуйтесь параметрами по умолчанию. В качестве значения `random_state` возьмите число `42`.\n",
    "\n",
    "Оцените значение $F_1$-меры и введите его в качестве ответа, предварительно округлив до двух знаков после точки-разделителя."
   ]
  },
  {
   "cell_type": "code",
   "execution_count": null,
   "metadata": {},
   "outputs": [],
   "source": [
    "rfc = RandomForestClassifier(n_estimators=10,random_state=42)\n",
    "rfc.fit(X_train,y_train)\n",
    "rfc_pred = rfc.predict(X_test)"
   ]
  },
  {
   "cell_type": "code",
   "execution_count": 127,
   "metadata": {},
   "outputs": [
    {
     "data": {
      "text/plain": [
       "0.98"
      ]
     },
     "execution_count": 127,
     "metadata": {},
     "output_type": "execute_result"
    }
   ],
   "source": [
    "ans = f1_score(y_test,rfc_pred,average='micro')\n",
    "round(ans,2)"
   ]
  },
  {
   "cell_type": "markdown",
   "metadata": {},
   "source": [
    "### Задание 7.6\n",
    "Теперь попробуем улучшить качество нашего предсказания за счёт использования стекинга.\n",
    "\n",
    "В качестве базовых моделей выберите следующие:\n",
    "\n",
    "- `случайный лес` с десятью деревьями, `random_state = 31`;\n",
    "- `KNN`, `количество соседей = 11`;\n",
    "- `наивный байесовский классификатор` с параметрами по умолчанию, в качестве метода возьмите `GaussianNB()`.\n",
    "В качестве метамодели выберите `логистическую регрессию`.\n",
    "\n",
    "Обучите модели и сделайте предсказание целевой метки для тестового набора данных.\n",
    "\n",
    "Рассчитайте $F_1$-меру для тестового набора данных и введите её в качестве ответа, предварительно округлив до двух знаков после точки-разделителя."
   ]
  },
  {
   "cell_type": "code",
   "execution_count": null,
   "metadata": {},
   "outputs": [],
   "source": [
    "# локально не работает, см. Colab - StackingClassifier_example.ipynb\n",
    "\n",
    "estimators = [('rf', RandomForestClassifier(n_estimators=10, random_state=31)),\n",
    "              ('knn', KNeighborsClassifier(n_neighbors= 11)),\n",
    "              ('nb', GaussianNB())]\n",
    "sc = StackingClassifier(\n",
    "    estimators=estimators, final_estimator=LogisticRegression()\n",
    ")\n",
    "sc.fit(X_train, y_train)\n",
    "pred = sc.predict(X_test)\n",
    "f1_score(y_test, pred,average='micro')"
   ]
  },
  {
   "cell_type": "code",
   "execution_count": null,
   "metadata": {},
   "outputs": [],
   "source": []
  },
  {
   "cell_type": "code",
   "execution_count": null,
   "metadata": {},
   "outputs": [],
   "source": []
  },
  {
   "cell_type": "code",
   "execution_count": null,
   "metadata": {},
   "outputs": [],
   "source": []
  },
  {
   "cell_type": "markdown",
   "metadata": {},
   "source": [
    "# ==================================="
   ]
  },
  {
   "cell_type": "code",
   "execution_count": 111,
   "metadata": {},
   "outputs": [
    {
     "data": {
      "text/html": [
       "<div>\n",
       "<style scoped>\n",
       "    .dataframe tbody tr th:only-of-type {\n",
       "        vertical-align: middle;\n",
       "    }\n",
       "\n",
       "    .dataframe tbody tr th {\n",
       "        vertical-align: top;\n",
       "    }\n",
       "\n",
       "    .dataframe thead th {\n",
       "        text-align: right;\n",
       "    }\n",
       "</style>\n",
       "<table border=\"1\" class=\"dataframe\">\n",
       "  <thead>\n",
       "    <tr style=\"text-align: right;\">\n",
       "      <th></th>\n",
       "      <th>MFCCs_ 1</th>\n",
       "      <th>MFCCs_ 2</th>\n",
       "      <th>MFCCs_ 3</th>\n",
       "      <th>MFCCs_ 4</th>\n",
       "      <th>MFCCs_ 5</th>\n",
       "      <th>MFCCs_ 6</th>\n",
       "      <th>MFCCs_ 7</th>\n",
       "      <th>MFCCs_ 8</th>\n",
       "      <th>MFCCs_ 9</th>\n",
       "      <th>MFCCs_10</th>\n",
       "      <th>...</th>\n",
       "      <th>MFCCs_17</th>\n",
       "      <th>MFCCs_18</th>\n",
       "      <th>MFCCs_19</th>\n",
       "      <th>MFCCs_20</th>\n",
       "      <th>MFCCs_21</th>\n",
       "      <th>MFCCs_22</th>\n",
       "      <th>Family</th>\n",
       "      <th>Genus</th>\n",
       "      <th>Species</th>\n",
       "      <th>RecordID</th>\n",
       "    </tr>\n",
       "  </thead>\n",
       "  <tbody>\n",
       "    <tr>\n",
       "      <td>0</td>\n",
       "      <td>1.0</td>\n",
       "      <td>0.152936</td>\n",
       "      <td>-0.105586</td>\n",
       "      <td>0.200722</td>\n",
       "      <td>0.317201</td>\n",
       "      <td>0.260764</td>\n",
       "      <td>0.100945</td>\n",
       "      <td>-0.150063</td>\n",
       "      <td>-0.171128</td>\n",
       "      <td>0.124676</td>\n",
       "      <td>...</td>\n",
       "      <td>-0.108351</td>\n",
       "      <td>-0.077623</td>\n",
       "      <td>-0.009568</td>\n",
       "      <td>0.057684</td>\n",
       "      <td>0.118680</td>\n",
       "      <td>0.014038</td>\n",
       "      <td>Leptodactylidae</td>\n",
       "      <td>Adenomera</td>\n",
       "      <td>AdenomeraAndre</td>\n",
       "      <td>1</td>\n",
       "    </tr>\n",
       "    <tr>\n",
       "      <td>1</td>\n",
       "      <td>1.0</td>\n",
       "      <td>0.171534</td>\n",
       "      <td>-0.098975</td>\n",
       "      <td>0.268425</td>\n",
       "      <td>0.338672</td>\n",
       "      <td>0.268353</td>\n",
       "      <td>0.060835</td>\n",
       "      <td>-0.222475</td>\n",
       "      <td>-0.207693</td>\n",
       "      <td>0.170883</td>\n",
       "      <td>...</td>\n",
       "      <td>-0.090974</td>\n",
       "      <td>-0.056510</td>\n",
       "      <td>-0.035303</td>\n",
       "      <td>0.020140</td>\n",
       "      <td>0.082263</td>\n",
       "      <td>0.029056</td>\n",
       "      <td>Leptodactylidae</td>\n",
       "      <td>Adenomera</td>\n",
       "      <td>AdenomeraAndre</td>\n",
       "      <td>1</td>\n",
       "    </tr>\n",
       "    <tr>\n",
       "      <td>2</td>\n",
       "      <td>1.0</td>\n",
       "      <td>0.152317</td>\n",
       "      <td>-0.082973</td>\n",
       "      <td>0.287128</td>\n",
       "      <td>0.276014</td>\n",
       "      <td>0.189867</td>\n",
       "      <td>0.008714</td>\n",
       "      <td>-0.242234</td>\n",
       "      <td>-0.219153</td>\n",
       "      <td>0.232538</td>\n",
       "      <td>...</td>\n",
       "      <td>-0.050691</td>\n",
       "      <td>-0.023590</td>\n",
       "      <td>-0.066722</td>\n",
       "      <td>-0.025083</td>\n",
       "      <td>0.099108</td>\n",
       "      <td>0.077162</td>\n",
       "      <td>Leptodactylidae</td>\n",
       "      <td>Adenomera</td>\n",
       "      <td>AdenomeraAndre</td>\n",
       "      <td>1</td>\n",
       "    </tr>\n",
       "    <tr>\n",
       "      <td>3</td>\n",
       "      <td>1.0</td>\n",
       "      <td>0.224392</td>\n",
       "      <td>0.118985</td>\n",
       "      <td>0.329432</td>\n",
       "      <td>0.372088</td>\n",
       "      <td>0.361005</td>\n",
       "      <td>0.015501</td>\n",
       "      <td>-0.194347</td>\n",
       "      <td>-0.098181</td>\n",
       "      <td>0.270375</td>\n",
       "      <td>...</td>\n",
       "      <td>-0.136009</td>\n",
       "      <td>-0.177037</td>\n",
       "      <td>-0.130498</td>\n",
       "      <td>-0.054766</td>\n",
       "      <td>-0.018691</td>\n",
       "      <td>0.023954</td>\n",
       "      <td>Leptodactylidae</td>\n",
       "      <td>Adenomera</td>\n",
       "      <td>AdenomeraAndre</td>\n",
       "      <td>1</td>\n",
       "    </tr>\n",
       "    <tr>\n",
       "      <td>4</td>\n",
       "      <td>1.0</td>\n",
       "      <td>0.087817</td>\n",
       "      <td>-0.068345</td>\n",
       "      <td>0.306967</td>\n",
       "      <td>0.330923</td>\n",
       "      <td>0.249144</td>\n",
       "      <td>0.006884</td>\n",
       "      <td>-0.265423</td>\n",
       "      <td>-0.172700</td>\n",
       "      <td>0.266434</td>\n",
       "      <td>...</td>\n",
       "      <td>-0.048885</td>\n",
       "      <td>-0.053074</td>\n",
       "      <td>-0.088550</td>\n",
       "      <td>-0.031346</td>\n",
       "      <td>0.108610</td>\n",
       "      <td>0.079244</td>\n",
       "      <td>Leptodactylidae</td>\n",
       "      <td>Adenomera</td>\n",
       "      <td>AdenomeraAndre</td>\n",
       "      <td>1</td>\n",
       "    </tr>\n",
       "  </tbody>\n",
       "</table>\n",
       "<p>5 rows × 26 columns</p>\n",
       "</div>"
      ],
      "text/plain": [
       "   MFCCs_ 1  MFCCs_ 2  MFCCs_ 3  MFCCs_ 4  MFCCs_ 5  MFCCs_ 6  MFCCs_ 7  \\\n",
       "0       1.0  0.152936 -0.105586  0.200722  0.317201  0.260764  0.100945   \n",
       "1       1.0  0.171534 -0.098975  0.268425  0.338672  0.268353  0.060835   \n",
       "2       1.0  0.152317 -0.082973  0.287128  0.276014  0.189867  0.008714   \n",
       "3       1.0  0.224392  0.118985  0.329432  0.372088  0.361005  0.015501   \n",
       "4       1.0  0.087817 -0.068345  0.306967  0.330923  0.249144  0.006884   \n",
       "\n",
       "   MFCCs_ 8  MFCCs_ 9  MFCCs_10  ...  MFCCs_17  MFCCs_18  MFCCs_19  MFCCs_20  \\\n",
       "0 -0.150063 -0.171128  0.124676  ... -0.108351 -0.077623 -0.009568  0.057684   \n",
       "1 -0.222475 -0.207693  0.170883  ... -0.090974 -0.056510 -0.035303  0.020140   \n",
       "2 -0.242234 -0.219153  0.232538  ... -0.050691 -0.023590 -0.066722 -0.025083   \n",
       "3 -0.194347 -0.098181  0.270375  ... -0.136009 -0.177037 -0.130498 -0.054766   \n",
       "4 -0.265423 -0.172700  0.266434  ... -0.048885 -0.053074 -0.088550 -0.031346   \n",
       "\n",
       "   MFCCs_21  MFCCs_22           Family      Genus         Species  RecordID  \n",
       "0  0.118680  0.014038  Leptodactylidae  Adenomera  AdenomeraAndre         1  \n",
       "1  0.082263  0.029056  Leptodactylidae  Adenomera  AdenomeraAndre         1  \n",
       "2  0.099108  0.077162  Leptodactylidae  Adenomera  AdenomeraAndre         1  \n",
       "3 -0.018691  0.023954  Leptodactylidae  Adenomera  AdenomeraAndre         1  \n",
       "4  0.108610  0.079244  Leptodactylidae  Adenomera  AdenomeraAndre         1  \n",
       "\n",
       "[5 rows x 26 columns]"
      ]
     },
     "execution_count": 111,
     "metadata": {},
     "output_type": "execute_result"
    }
   ],
   "source": [
    "df.head()"
   ]
  },
  {
   "cell_type": "code",
   "execution_count": 112,
   "metadata": {},
   "outputs": [
    {
     "data": {
      "text/plain": [
       "Index(['MFCCs_ 1', 'MFCCs_ 2', 'MFCCs_ 3', 'MFCCs_ 4', 'MFCCs_ 5', 'MFCCs_ 6',\n",
       "       'MFCCs_ 7', 'MFCCs_ 8', 'MFCCs_ 9', 'MFCCs_10', 'MFCCs_11', 'MFCCs_12',\n",
       "       'MFCCs_13', 'MFCCs_14', 'MFCCs_15', 'MFCCs_16', 'MFCCs_17', 'MFCCs_18',\n",
       "       'MFCCs_19', 'MFCCs_20', 'MFCCs_21', 'MFCCs_22', 'Family', 'Genus',\n",
       "       'Species', 'RecordID'],\n",
       "      dtype='object')"
      ]
     },
     "execution_count": 112,
     "metadata": {},
     "output_type": "execute_result"
    }
   ],
   "source": [
    "df.columns"
   ]
  },
  {
   "cell_type": "markdown",
   "metadata": {},
   "source": [
    "# ==================================="
   ]
  },
  {
   "cell_type": "code",
   "execution_count": 113,
   "metadata": {},
   "outputs": [
    {
     "data": {
      "text/plain": [
       "['Location', 'WindGustDir', 'WindDir9am', 'WindDir3pm', 'Month']"
      ]
     },
     "execution_count": 113,
     "metadata": {},
     "output_type": "execute_result"
    }
   ],
   "source": [
    "columns"
   ]
  },
  {
   "cell_type": "code",
   "execution_count": null,
   "metadata": {},
   "outputs": [],
   "source": []
  }
 ],
 "metadata": {
  "kernelspec": {
   "display_name": "Python 3",
   "language": "python",
   "name": "python3"
  },
  "language_info": {
   "codemirror_mode": {
    "name": "ipython",
    "version": 3
   },
   "file_extension": ".py",
   "mimetype": "text/x-python",
   "name": "python",
   "nbconvert_exporter": "python",
   "pygments_lexer": "ipython3",
   "version": "3.7.4"
  }
 },
 "nbformat": 4,
 "nbformat_minor": 5
}
