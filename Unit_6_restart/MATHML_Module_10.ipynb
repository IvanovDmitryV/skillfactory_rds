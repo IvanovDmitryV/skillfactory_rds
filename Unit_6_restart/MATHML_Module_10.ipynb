{
 "cells": [
  {
   "cell_type": "code",
   "execution_count": 1,
   "metadata": {},
   "outputs": [],
   "source": [
    "import pandas as pd\n",
    "import numpy as np"
   ]
  },
  {
   "cell_type": "markdown",
   "metadata": {},
   "source": [
    "### Задание 1.7\n",
    "Предположим, вы решили исследовать зависимость зарплат выпускников от вуза, который они окончили. Вы опросили выпускников двух вузов и получили следующие результаты:\n",
    "\n",
    "|Годовая заработная плата|Университет А|Университет В|Всего|  \n",
    "|-|-|-|-|\n",
    "|Менее \\$20 000|36|24|60|\n",
    "|От \\$20 000 до \\\\$39 999|109|56|165|\n",
    "|\\$40 000 и выше|35|40|75|\n",
    "|Всего|180|120|300|\n",
    "\n",
    "Найдите вероятность того, что выпускник будет зарабатывать не менее \\$40 000, если известно, что он окончил университет В. Ответ округлите до двух знаков после точки-разделителя."
   ]
  },
  {
   "cell_type": "code",
   "execution_count": 3,
   "metadata": {},
   "outputs": [
    {
     "data": {
      "text/plain": [
       "0.33"
      ]
     },
     "execution_count": 3,
     "metadata": {},
     "output_type": "execute_result"
    }
   ],
   "source": [
    "round(40/120,2)"
   ]
  },
  {
   "cell_type": "code",
   "execution_count": null,
   "metadata": {},
   "outputs": [],
   "source": []
  },
  {
   "cell_type": "markdown",
   "metadata": {},
   "source": [
    "### Задание 6.3\n",
    "Найдите расстояние между кластерами $A$ с точками $(4,0)$ и $(5,1)$ и $B$ c точками $(-2,-3)$ и $(-3,-3)$, используя евклидово расстояние и метод средней связи. Ответ округлите до одного знака после точки-разделителя."
   ]
  },
  {
   "cell_type": "code",
   "execution_count": 20,
   "metadata": {},
   "outputs": [
    {
     "data": {
      "text/plain": [
       "7.8"
      ]
     },
     "execution_count": 20,
     "metadata": {},
     "output_type": "execute_result"
    }
   ],
   "source": [
    "a, b = np.array([[4,0],[5,1]]),np.array([[-2,-3],[-3,-3]])\n",
    "norm = lambda x: np.linalg.norm(x)\n",
    "\n",
    "r = (norm(a[0]-b[0]) + norm(a[0]-b[1]) + norm(a[1]-b[0]) + norm(a[1]-b[1]))/4\n",
    "round(r,1)"
   ]
  },
  {
   "cell_type": "code",
   "execution_count": null,
   "metadata": {},
   "outputs": [],
   "source": []
  }
 ],
 "metadata": {
  "kernelspec": {
   "display_name": "Python 3",
   "language": "python",
   "name": "python3"
  },
  "language_info": {
   "codemirror_mode": {
    "name": "ipython",
    "version": 3
   },
   "file_extension": ".py",
   "mimetype": "text/x-python",
   "name": "python",
   "nbconvert_exporter": "python",
   "pygments_lexer": "ipython3",
   "version": "3.8.8"
  }
 },
 "nbformat": 4,
 "nbformat_minor": 2
}
