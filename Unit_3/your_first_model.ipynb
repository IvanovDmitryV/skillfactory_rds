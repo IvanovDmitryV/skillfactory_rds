{
 "cells": [
  {
   "cell_type": "markdown",
   "metadata": {},
   "source": [
    "# Загрузка Pandas и очистка данных"
   ]
  },
  {
   "cell_type": "markdown",
   "metadata": {},
   "source": [
    "## В задачи пректа входит:\n",
    "\n",
    " - Удалить из датафрейма столбцы, данные в которых представлены не числами (это вы уже сделали, и нужно просто повторить знакомые действия, но в этот раз выполнить данный шаг в последнюю очередь).\n",
    " - Избавиться от пропущенных (None) значений (на предыдущем шаге мы делали это самым грубым из всех возможных способов; сейчас попробуем подойти к процессу более гибко).\n",
    " - Создать новые столбцы с данными, используя для этого информацию, содержащуюся в других столбцах датафрейма (например, можно добавить столбец, сообщающий, сколько дней прошло со дня публикации последнего отзыва, отображённого на сайте).\n",
    "\n",
    "/  \n",
    "/  \n",
    "/  \n",
    "/  \n",
    "/  \n",
    "\n",
    "\n",
    "## Описание датасета\n",
    "Первоначальная версия датасета состоит из десяти столбцов, содержащих следующую информацию:\n",
    "\n",
    " - **Restaurant_id** — идентификационный номер ресторана / сети ресторанов;\n",
    " - **City** — город, в котором находится ресторан;\n",
    " - **Cuisine Style** — кухня или кухни, к которым можно отнести блюда, предлагаемые в ресторане;\n",
    " - **Ranking** — место, которое занимает данный ресторан среди всех ресторанов своего города;\n",
    " - **Rating** — рейтинг ресторана по данным TripAdvisor (именно это значение должна будет предсказывать модель);\n",
    " - **Price Range** — диапазон цен в ресторане;\n",
    " - **Number of Reviews** — количество отзывов о ресторане;\n",
    " - **Reviews** — данные о двух отзывах, которые отображаются на сайте ресторана;\n",
    " - **URL_TA** — URL страницы ресторана на TripAdvosor;\n",
    " - **ID_TA** — идентификатор ресторана в базе данных TripAdvisor.\n",
    "\n"
   ]
  },
  {
   "cell_type": "code",
   "execution_count": 1,
   "metadata": {},
   "outputs": [],
   "source": [
    "# импорт библиотек\n",
    "import pandas as pd\n",
    "import numpy as np\n",
    "import scipy\n",
    "import re\n",
    "\n",
    "import matplotlib.pyplot as plt\n",
    "import seaborn as sns\n",
    "\n",
    "from sklearn.preprocessing import MinMaxScaler, StandardScaler\n",
    "from sklearn.model_selection import train_test_split\n",
    "\n",
    "from sklearn.ensemble import RandomForestRegressor # инструмент для создания и обучения модели\n",
    "from sklearn import metrics # инструменты для оценки точности модели\n",
    "\n",
    "import os"
   ]
  },
  {
   "cell_type": "code",
   "execution_count": 2,
   "metadata": {},
   "outputs": [],
   "source": [
    "# функции используемые в ноутбуке\n",
    "def pre_process(df):\n",
    "    df['Restaurant_id_enc'] = df.Restaurant_id.str[3:].astype(int)\n",
    "\n",
    "    df = pd.concat([df,pd.get_dummies(df.City)],axis=1)\n",
    "\n",
    "    df.Cuisine_Style = df.Cuisine_Style.fillna(\"['Nan_Style']\").str[2:-2].str.split(\"', '\")\n",
    "    cuisine_styles = sorted(set(df.Cuisine_Style.sum()))\n",
    "    for style in cuisine_styles:\n",
    "        df[style] = df.Cuisine_Style.apply(lambda x: int(style in x))\n",
    "\n",
    "    scaler = MinMaxScaler()\n",
    "    grouped_by_City = df.groupby('City')\n",
    "    for group in grouped_by_City.groups:\n",
    "        index = grouped_by_City.groups[group]\n",
    "        scaled_values = scaler.fit_transform(df[['Ranking']].loc[index])\n",
    "        df.Ranking.loc[index] = pd.Series(scaled_values.flatten(), index=index)\n",
    "    \n",
    "    price_range_encod = {'$': 1, '$$ - $$$': 2, '$$$$': 3, 'no range': 0}\n",
    "    df['Price_Range_enc'] = df.Price_Range.fillna('no range').map(price_range_encod)\n",
    "\n",
    "    df.Number_of_Reviews.fillna(1,inplace=True)\n",
    "    scaler = MinMaxScaler()\n",
    "    for group in grouped_by_City.groups:\n",
    "        index = grouped_by_City.groups[group]\n",
    "        scaled_values = scaler.fit_transform(df[['Number_of_Reviews']].loc[index])\n",
    "        df.Number_of_Reviews.loc[index] = pd.Series(scaled_values.flatten(), index=index)\n",
    "\n",
    "    df.ID_TA = df.ID_TA.str[1:].astype(int)\n",
    "    \n",
    "    return df\n",
    "\n",
    "def features_combination(features_list):\n",
    "    pass"
   ]
  },
  {
   "cell_type": "code",
   "execution_count": 3,
   "metadata": {},
   "outputs": [
    {
     "name": "stdout",
     "output_type": "stream",
     "text": [
      "Populating the interactive namespace from numpy and matplotlib\n"
     ]
    }
   ],
   "source": [
    "# установка параметров\n",
    "%pylab inline\n",
    "\n",
    "pd.set_option('display.max_rows', 50) # выведем больше строк\n",
    "pd.set_option('display.max_columns', 30) # выведем больше колонок\n",
    "\n",
    "path = './Preproject3_data/'\n",
    "# path = '/kaggle/input/sf-dst-restaurant-rating/'\n",
    "\n",
    "RANDOM_SEED = 42"
   ]
  },
  {
   "cell_type": "code",
   "execution_count": 4,
   "metadata": {},
   "outputs": [
    {
     "name": "stdout",
     "output_type": "stream",
     "text": [
      "./Preproject3_data/kaggle_task.csv\n",
      "./Preproject3_data/main_task.csv\n",
      "./Preproject3_data/sample_submission.csv\n"
     ]
    }
   ],
   "source": [
    "# проверка пути и имен файлов\n",
    "for dirname, _, filenames in os.walk(path):\n",
    "    for filename in filenames:\n",
    "        print(os.path.join(dirname, filename))"
   ]
  },
  {
   "cell_type": "code",
   "execution_count": 5,
   "metadata": {},
   "outputs": [],
   "source": [
    "# чтение данных\n",
    "df_train = pd.read_csv(f'{path}main_task.csv')\n",
    "df_test = pd.read_csv(f'{path}kaggle_task.csv')\n",
    "sample_submission = pd.read_csv(f'{path}sample_submission.csv')"
   ]
  },
  {
   "cell_type": "markdown",
   "metadata": {},
   "source": [
    "### Ознакомление с данными\n",
    "#### df_train"
   ]
  },
  {
   "cell_type": "code",
   "execution_count": 6,
   "metadata": {
    "scrolled": true
   },
   "outputs": [
    {
     "name": "stdout",
     "output_type": "stream",
     "text": [
      "<class 'pandas.core.frame.DataFrame'>\n",
      "RangeIndex: 40000 entries, 0 to 39999\n",
      "Data columns (total 10 columns):\n",
      "Restaurant_id        40000 non-null object\n",
      "City                 40000 non-null object\n",
      "Cuisine Style        30717 non-null object\n",
      "Ranking              40000 non-null float64\n",
      "Rating               40000 non-null float64\n",
      "Price Range          26114 non-null object\n",
      "Number of Reviews    37457 non-null float64\n",
      "Reviews              40000 non-null object\n",
      "URL_TA               40000 non-null object\n",
      "ID_TA                40000 non-null object\n",
      "dtypes: float64(3), object(7)\n",
      "memory usage: 3.1+ MB\n"
     ]
    }
   ],
   "source": [
    "df_train.info()"
   ]
  },
  {
   "cell_type": "code",
   "execution_count": 7,
   "metadata": {},
   "outputs": [
    {
     "data": {
      "text/html": [
       "<div>\n",
       "<style scoped>\n",
       "    .dataframe tbody tr th:only-of-type {\n",
       "        vertical-align: middle;\n",
       "    }\n",
       "\n",
       "    .dataframe tbody tr th {\n",
       "        vertical-align: top;\n",
       "    }\n",
       "\n",
       "    .dataframe thead th {\n",
       "        text-align: right;\n",
       "    }\n",
       "</style>\n",
       "<table border=\"1\" class=\"dataframe\">\n",
       "  <thead>\n",
       "    <tr style=\"text-align: right;\">\n",
       "      <th></th>\n",
       "      <th>Restaurant_id</th>\n",
       "      <th>City</th>\n",
       "      <th>Cuisine Style</th>\n",
       "      <th>Ranking</th>\n",
       "      <th>Rating</th>\n",
       "      <th>Price Range</th>\n",
       "      <th>Number of Reviews</th>\n",
       "      <th>Reviews</th>\n",
       "      <th>URL_TA</th>\n",
       "      <th>ID_TA</th>\n",
       "    </tr>\n",
       "  </thead>\n",
       "  <tbody>\n",
       "    <tr>\n",
       "      <td>13941</td>\n",
       "      <td>id_958</td>\n",
       "      <td>Berlin</td>\n",
       "      <td>['German', 'Cafe', 'European', 'Central Europe...</td>\n",
       "      <td>959.0</td>\n",
       "      <td>4.5</td>\n",
       "      <td>$$ - $$$</td>\n",
       "      <td>46.0</td>\n",
       "      <td>[['What a Wonderful Little Place for Breakfas....</td>\n",
       "      <td>/Restaurant_Review-g187323-d2086852-Reviews-Ca...</td>\n",
       "      <td>d2086852</td>\n",
       "    </tr>\n",
       "    <tr>\n",
       "      <td>6794</td>\n",
       "      <td>id_4514</td>\n",
       "      <td>Barcelona</td>\n",
       "      <td>NaN</td>\n",
       "      <td>4515.0</td>\n",
       "      <td>4.5</td>\n",
       "      <td>NaN</td>\n",
       "      <td>2.0</td>\n",
       "      <td>[[], []]</td>\n",
       "      <td>/Restaurant_Review-g187497-d5795010-Reviews-Lu...</td>\n",
       "      <td>d5795010</td>\n",
       "    </tr>\n",
       "    <tr>\n",
       "      <td>23571</td>\n",
       "      <td>id_14932</td>\n",
       "      <td>London</td>\n",
       "      <td>NaN</td>\n",
       "      <td>14943.0</td>\n",
       "      <td>3.0</td>\n",
       "      <td>NaN</td>\n",
       "      <td>7.0</td>\n",
       "      <td>[['nice tasting wide variety of food', 'Take a...</td>\n",
       "      <td>/Restaurant_Review-g186338-d10108855-Reviews-E...</td>\n",
       "      <td>d10108855</td>\n",
       "    </tr>\n",
       "    <tr>\n",
       "      <td>419</td>\n",
       "      <td>id_5908</td>\n",
       "      <td>Berlin</td>\n",
       "      <td>['Italian']</td>\n",
       "      <td>5910.0</td>\n",
       "      <td>3.5</td>\n",
       "      <td>$$ - $$$</td>\n",
       "      <td>3.0</td>\n",
       "      <td>[[], []]</td>\n",
       "      <td>/Restaurant_Review-g187323-d9456227-Reviews-Ei...</td>\n",
       "      <td>d9456227</td>\n",
       "    </tr>\n",
       "    <tr>\n",
       "      <td>29468</td>\n",
       "      <td>id_9193</td>\n",
       "      <td>Paris</td>\n",
       "      <td>['French', 'Bar', 'European', 'Pub']</td>\n",
       "      <td>9195.0</td>\n",
       "      <td>3.5</td>\n",
       "      <td>$$ - $$$</td>\n",
       "      <td>69.0</td>\n",
       "      <td>[['More everyday dining that special night ou....</td>\n",
       "      <td>/Restaurant_Review-g187147-d2718440-Reviews-La...</td>\n",
       "      <td>d2718440</td>\n",
       "    </tr>\n",
       "  </tbody>\n",
       "</table>\n",
       "</div>"
      ],
      "text/plain": [
       "      Restaurant_id       City  \\\n",
       "13941        id_958     Berlin   \n",
       "6794        id_4514  Barcelona   \n",
       "23571      id_14932     London   \n",
       "419         id_5908     Berlin   \n",
       "29468       id_9193      Paris   \n",
       "\n",
       "                                           Cuisine Style  Ranking  Rating  \\\n",
       "13941  ['German', 'Cafe', 'European', 'Central Europe...    959.0     4.5   \n",
       "6794                                                 NaN   4515.0     4.5   \n",
       "23571                                                NaN  14943.0     3.0   \n",
       "419                                          ['Italian']   5910.0     3.5   \n",
       "29468               ['French', 'Bar', 'European', 'Pub']   9195.0     3.5   \n",
       "\n",
       "      Price Range  Number of Reviews  \\\n",
       "13941    $$ - $$$               46.0   \n",
       "6794          NaN                2.0   \n",
       "23571         NaN                7.0   \n",
       "419      $$ - $$$                3.0   \n",
       "29468    $$ - $$$               69.0   \n",
       "\n",
       "                                                 Reviews  \\\n",
       "13941  [['What a Wonderful Little Place for Breakfas....   \n",
       "6794                                            [[], []]   \n",
       "23571  [['nice tasting wide variety of food', 'Take a...   \n",
       "419                                             [[], []]   \n",
       "29468  [['More everyday dining that special night ou....   \n",
       "\n",
       "                                                  URL_TA      ID_TA  \n",
       "13941  /Restaurant_Review-g187323-d2086852-Reviews-Ca...   d2086852  \n",
       "6794   /Restaurant_Review-g187497-d5795010-Reviews-Lu...   d5795010  \n",
       "23571  /Restaurant_Review-g186338-d10108855-Reviews-E...  d10108855  \n",
       "419    /Restaurant_Review-g187323-d9456227-Reviews-Ei...   d9456227  \n",
       "29468  /Restaurant_Review-g187147-d2718440-Reviews-La...   d2718440  "
      ]
     },
     "execution_count": 7,
     "metadata": {},
     "output_type": "execute_result"
    }
   ],
   "source": [
    "df_train.sample(5)"
   ]
  },
  {
   "cell_type": "markdown",
   "metadata": {},
   "source": [
    "#### df_test"
   ]
  },
  {
   "cell_type": "code",
   "execution_count": 8,
   "metadata": {},
   "outputs": [
    {
     "name": "stdout",
     "output_type": "stream",
     "text": [
      "<class 'pandas.core.frame.DataFrame'>\n",
      "RangeIndex: 10000 entries, 0 to 9999\n",
      "Data columns (total 9 columns):\n",
      "Restaurant_id        10000 non-null object\n",
      "City                 10000 non-null object\n",
      "Cuisine Style        7693 non-null object\n",
      "Ranking              10000 non-null float64\n",
      "Price Range          6525 non-null object\n",
      "Number of Reviews    9343 non-null float64\n",
      "Reviews              9998 non-null object\n",
      "URL_TA               10000 non-null object\n",
      "ID_TA                10000 non-null object\n",
      "dtypes: float64(2), object(7)\n",
      "memory usage: 703.2+ KB\n"
     ]
    }
   ],
   "source": [
    "df_test.info()"
   ]
  },
  {
   "cell_type": "code",
   "execution_count": 9,
   "metadata": {},
   "outputs": [
    {
     "data": {
      "text/html": [
       "<div>\n",
       "<style scoped>\n",
       "    .dataframe tbody tr th:only-of-type {\n",
       "        vertical-align: middle;\n",
       "    }\n",
       "\n",
       "    .dataframe tbody tr th {\n",
       "        vertical-align: top;\n",
       "    }\n",
       "\n",
       "    .dataframe thead th {\n",
       "        text-align: right;\n",
       "    }\n",
       "</style>\n",
       "<table border=\"1\" class=\"dataframe\">\n",
       "  <thead>\n",
       "    <tr style=\"text-align: right;\">\n",
       "      <th></th>\n",
       "      <th>Restaurant_id</th>\n",
       "      <th>City</th>\n",
       "      <th>Cuisine Style</th>\n",
       "      <th>Ranking</th>\n",
       "      <th>Price Range</th>\n",
       "      <th>Number of Reviews</th>\n",
       "      <th>Reviews</th>\n",
       "      <th>URL_TA</th>\n",
       "      <th>ID_TA</th>\n",
       "    </tr>\n",
       "  </thead>\n",
       "  <tbody>\n",
       "    <tr>\n",
       "      <td>1031</td>\n",
       "      <td>id_1031</td>\n",
       "      <td>London</td>\n",
       "      <td>['Mediterranean', 'European', 'Turkish', 'Midd...</td>\n",
       "      <td>147.0</td>\n",
       "      <td>$$ - $$$</td>\n",
       "      <td>1248.0</td>\n",
       "      <td>[['Ah.Ma.Zing', 'Turkish twist to middle easte...</td>\n",
       "      <td>/Restaurant_Review-g186338-d734125-Reviews-Kaz...</td>\n",
       "      <td>d734125</td>\n",
       "    </tr>\n",
       "    <tr>\n",
       "      <td>8223</td>\n",
       "      <td>id_8223</td>\n",
       "      <td>Rome</td>\n",
       "      <td>['Italian', 'Delicatessen']</td>\n",
       "      <td>4056.0</td>\n",
       "      <td>$</td>\n",
       "      <td>33.0</td>\n",
       "      <td>[['Brilliant Deli', 'Loved this!!'], ['04/22/2...</td>\n",
       "      <td>/Restaurant_Review-g187791-d4453333-Reviews-If...</td>\n",
       "      <td>d4453333</td>\n",
       "    </tr>\n",
       "    <tr>\n",
       "      <td>5643</td>\n",
       "      <td>id_5643</td>\n",
       "      <td>Madrid</td>\n",
       "      <td>['Spanish']</td>\n",
       "      <td>8670.0</td>\n",
       "      <td>NaN</td>\n",
       "      <td>5.0</td>\n",
       "      <td>[[], []]</td>\n",
       "      <td>/Restaurant_Review-g187514-d7732816-Reviews-Re...</td>\n",
       "      <td>d7732816</td>\n",
       "    </tr>\n",
       "    <tr>\n",
       "      <td>6695</td>\n",
       "      <td>id_6695</td>\n",
       "      <td>Madrid</td>\n",
       "      <td>['Italian', 'Pizza', 'Mediterranean', 'Europea...</td>\n",
       "      <td>2567.0</td>\n",
       "      <td>$$ - $$$</td>\n",
       "      <td>101.0</td>\n",
       "      <td>[['Went Twice', 'Nice pizza'], ['11/28/2017', ...</td>\n",
       "      <td>/Restaurant_Review-g187514-d7621864-Reviews-La...</td>\n",
       "      <td>d7621864</td>\n",
       "    </tr>\n",
       "    <tr>\n",
       "      <td>2021</td>\n",
       "      <td>id_2021</td>\n",
       "      <td>Warsaw</td>\n",
       "      <td>['International']</td>\n",
       "      <td>1603.0</td>\n",
       "      <td>NaN</td>\n",
       "      <td>2.0</td>\n",
       "      <td>[[], []]</td>\n",
       "      <td>/Restaurant_Review-g274856-d1773677-Reviews-Al...</td>\n",
       "      <td>d1773677</td>\n",
       "    </tr>\n",
       "  </tbody>\n",
       "</table>\n",
       "</div>"
      ],
      "text/plain": [
       "     Restaurant_id    City                                      Cuisine Style  \\\n",
       "1031       id_1031  London  ['Mediterranean', 'European', 'Turkish', 'Midd...   \n",
       "8223       id_8223    Rome                        ['Italian', 'Delicatessen']   \n",
       "5643       id_5643  Madrid                                        ['Spanish']   \n",
       "6695       id_6695  Madrid  ['Italian', 'Pizza', 'Mediterranean', 'Europea...   \n",
       "2021       id_2021  Warsaw                                  ['International']   \n",
       "\n",
       "      Ranking Price Range  Number of Reviews  \\\n",
       "1031    147.0    $$ - $$$             1248.0   \n",
       "8223   4056.0           $               33.0   \n",
       "5643   8670.0         NaN                5.0   \n",
       "6695   2567.0    $$ - $$$              101.0   \n",
       "2021   1603.0         NaN                2.0   \n",
       "\n",
       "                                                Reviews  \\\n",
       "1031  [['Ah.Ma.Zing', 'Turkish twist to middle easte...   \n",
       "8223  [['Brilliant Deli', 'Loved this!!'], ['04/22/2...   \n",
       "5643                                           [[], []]   \n",
       "6695  [['Went Twice', 'Nice pizza'], ['11/28/2017', ...   \n",
       "2021                                           [[], []]   \n",
       "\n",
       "                                                 URL_TA     ID_TA  \n",
       "1031  /Restaurant_Review-g186338-d734125-Reviews-Kaz...   d734125  \n",
       "8223  /Restaurant_Review-g187791-d4453333-Reviews-If...  d4453333  \n",
       "5643  /Restaurant_Review-g187514-d7732816-Reviews-Re...  d7732816  \n",
       "6695  /Restaurant_Review-g187514-d7621864-Reviews-La...  d7621864  \n",
       "2021  /Restaurant_Review-g274856-d1773677-Reviews-Al...  d1773677  "
      ]
     },
     "execution_count": 9,
     "metadata": {},
     "output_type": "execute_result"
    }
   ],
   "source": [
    "df_test.sample(5)"
   ]
  },
  {
   "cell_type": "markdown",
   "metadata": {},
   "source": [
    "#### sample_submission"
   ]
  },
  {
   "cell_type": "code",
   "execution_count": 10,
   "metadata": {},
   "outputs": [
    {
     "name": "stdout",
     "output_type": "stream",
     "text": [
      "<class 'pandas.core.frame.DataFrame'>\n",
      "RangeIndex: 10000 entries, 0 to 9999\n",
      "Data columns (total 2 columns):\n",
      "Restaurant_id    10000 non-null object\n",
      "Rating           10000 non-null float64\n",
      "dtypes: float64(1), object(1)\n",
      "memory usage: 156.4+ KB\n"
     ]
    }
   ],
   "source": [
    "sample_submission.info()"
   ]
  },
  {
   "cell_type": "code",
   "execution_count": 11,
   "metadata": {},
   "outputs": [
    {
     "data": {
      "text/html": [
       "<div>\n",
       "<style scoped>\n",
       "    .dataframe tbody tr th:only-of-type {\n",
       "        vertical-align: middle;\n",
       "    }\n",
       "\n",
       "    .dataframe tbody tr th {\n",
       "        vertical-align: top;\n",
       "    }\n",
       "\n",
       "    .dataframe thead th {\n",
       "        text-align: right;\n",
       "    }\n",
       "</style>\n",
       "<table border=\"1\" class=\"dataframe\">\n",
       "  <thead>\n",
       "    <tr style=\"text-align: right;\">\n",
       "      <th></th>\n",
       "      <th>Restaurant_id</th>\n",
       "      <th>Rating</th>\n",
       "    </tr>\n",
       "  </thead>\n",
       "  <tbody>\n",
       "    <tr>\n",
       "      <td>5930</td>\n",
       "      <td>id_5930</td>\n",
       "      <td>5.0</td>\n",
       "    </tr>\n",
       "    <tr>\n",
       "      <td>3924</td>\n",
       "      <td>id_3924</td>\n",
       "      <td>3.0</td>\n",
       "    </tr>\n",
       "    <tr>\n",
       "      <td>7994</td>\n",
       "      <td>id_7994</td>\n",
       "      <td>4.0</td>\n",
       "    </tr>\n",
       "    <tr>\n",
       "      <td>5284</td>\n",
       "      <td>id_5284</td>\n",
       "      <td>2.5</td>\n",
       "    </tr>\n",
       "    <tr>\n",
       "      <td>3871</td>\n",
       "      <td>id_3871</td>\n",
       "      <td>1.0</td>\n",
       "    </tr>\n",
       "  </tbody>\n",
       "</table>\n",
       "</div>"
      ],
      "text/plain": [
       "     Restaurant_id  Rating\n",
       "5930       id_5930     5.0\n",
       "3924       id_3924     3.0\n",
       "7994       id_7994     4.0\n",
       "5284       id_5284     2.5\n",
       "3871       id_3871     1.0"
      ]
     },
     "execution_count": 11,
     "metadata": {},
     "output_type": "execute_result"
    }
   ],
   "source": [
    "sample_submission.sample(5)"
   ]
  },
  {
   "cell_type": "markdown",
   "metadata": {},
   "source": [
    "Для корректной обработки признаков объединяем трейн и тест в один датасет ***data***"
   ]
  },
  {
   "cell_type": "code",
   "execution_count": 12,
   "metadata": {},
   "outputs": [],
   "source": [
    "df_train['sample'] = 1 # помечаем где у нас трейн\n",
    "df_test['sample'] = 0 # помечаем где у нас тест\n",
    "df_test['Rating'] = 0 # в тесте у нас нет значения Rating, мы его должны предсказать, по этому пока просто заполняем нулями\n",
    "\n",
    "data = df_test.append(df_train, sort=False).reset_index(drop=True) # объединяем"
   ]
  },
  {
   "cell_type": "markdown",
   "metadata": {},
   "source": [
    "Теперь посмотрим на полученный датасет"
   ]
  },
  {
   "cell_type": "code",
   "execution_count": 13,
   "metadata": {},
   "outputs": [
    {
     "name": "stdout",
     "output_type": "stream",
     "text": [
      "<class 'pandas.core.frame.DataFrame'>\n",
      "RangeIndex: 50000 entries, 0 to 49999\n",
      "Data columns (total 11 columns):\n",
      "Restaurant_id        50000 non-null object\n",
      "City                 50000 non-null object\n",
      "Cuisine Style        38410 non-null object\n",
      "Ranking              50000 non-null float64\n",
      "Price Range          32639 non-null object\n",
      "Number of Reviews    46800 non-null float64\n",
      "Reviews              49998 non-null object\n",
      "URL_TA               50000 non-null object\n",
      "ID_TA                50000 non-null object\n",
      "sample               50000 non-null int64\n",
      "Rating               50000 non-null float64\n",
      "dtypes: float64(3), int64(1), object(7)\n",
      "memory usage: 4.2+ MB\n"
     ]
    }
   ],
   "source": [
    "data.info()"
   ]
  },
  {
   "cell_type": "code",
   "execution_count": 14,
   "metadata": {},
   "outputs": [
    {
     "data": {
      "text/html": [
       "<div>\n",
       "<style scoped>\n",
       "    .dataframe tbody tr th:only-of-type {\n",
       "        vertical-align: middle;\n",
       "    }\n",
       "\n",
       "    .dataframe tbody tr th {\n",
       "        vertical-align: top;\n",
       "    }\n",
       "\n",
       "    .dataframe thead th {\n",
       "        text-align: right;\n",
       "    }\n",
       "</style>\n",
       "<table border=\"1\" class=\"dataframe\">\n",
       "  <thead>\n",
       "    <tr style=\"text-align: right;\">\n",
       "      <th></th>\n",
       "      <th>Restaurant_id</th>\n",
       "      <th>City</th>\n",
       "      <th>Cuisine Style</th>\n",
       "      <th>Ranking</th>\n",
       "      <th>Price Range</th>\n",
       "      <th>Number of Reviews</th>\n",
       "      <th>Reviews</th>\n",
       "      <th>URL_TA</th>\n",
       "      <th>ID_TA</th>\n",
       "      <th>sample</th>\n",
       "      <th>Rating</th>\n",
       "    </tr>\n",
       "  </thead>\n",
       "  <tbody>\n",
       "    <tr>\n",
       "      <td>22706</td>\n",
       "      <td>id_4048</td>\n",
       "      <td>Berlin</td>\n",
       "      <td>NaN</td>\n",
       "      <td>4050.0</td>\n",
       "      <td>NaN</td>\n",
       "      <td>15.0</td>\n",
       "      <td>[['Very tasty italian food!', 'Reasonable quic...</td>\n",
       "      <td>/Restaurant_Review-g187323-d2156563-Reviews-La...</td>\n",
       "      <td>d2156563</td>\n",
       "      <td>1</td>\n",
       "      <td>4.0</td>\n",
       "    </tr>\n",
       "    <tr>\n",
       "      <td>14337</td>\n",
       "      <td>id_1772</td>\n",
       "      <td>Prague</td>\n",
       "      <td>['International', 'Pub', 'Gastropub', 'Bar', '...</td>\n",
       "      <td>1775.0</td>\n",
       "      <td>$$ - $$$</td>\n",
       "      <td>27.0</td>\n",
       "      <td>[['Lovely summer BBQ', 'Hidden restaurant'], [...</td>\n",
       "      <td>/Restaurant_Review-g274707-d7123526-Reviews-Na...</td>\n",
       "      <td>d7123526</td>\n",
       "      <td>1</td>\n",
       "      <td>4.0</td>\n",
       "    </tr>\n",
       "    <tr>\n",
       "      <td>16806</td>\n",
       "      <td>id_7936</td>\n",
       "      <td>London</td>\n",
       "      <td>NaN</td>\n",
       "      <td>7945.0</td>\n",
       "      <td>NaN</td>\n",
       "      <td>5.0</td>\n",
       "      <td>[['Fantastic food and great vibe', 'What a gre...</td>\n",
       "      <td>/Restaurant_Review-g186338-d11547915-Reviews-W...</td>\n",
       "      <td>d11547915</td>\n",
       "      <td>1</td>\n",
       "      <td>5.0</td>\n",
       "    </tr>\n",
       "    <tr>\n",
       "      <td>14019</td>\n",
       "      <td>id_1107</td>\n",
       "      <td>Oporto</td>\n",
       "      <td>['European', 'Portuguese']</td>\n",
       "      <td>1108.0</td>\n",
       "      <td>$</td>\n",
       "      <td>34.0</td>\n",
       "      <td>[['Good local food in locals place good price'...</td>\n",
       "      <td>/Restaurant_Review-g189180-d2049390-Reviews-Ma...</td>\n",
       "      <td>d2049390</td>\n",
       "      <td>1</td>\n",
       "      <td>3.5</td>\n",
       "    </tr>\n",
       "    <tr>\n",
       "      <td>33377</td>\n",
       "      <td>id_2556</td>\n",
       "      <td>Munich</td>\n",
       "      <td>NaN</td>\n",
       "      <td>2574.0</td>\n",
       "      <td>NaN</td>\n",
       "      <td>19.0</td>\n",
       "      <td>[['Good Italian Restaurant', 'A little disappo...</td>\n",
       "      <td>/Restaurant_Review-g187309-d5510652-Reviews-Vi...</td>\n",
       "      <td>d5510652</td>\n",
       "      <td>1</td>\n",
       "      <td>3.0</td>\n",
       "    </tr>\n",
       "  </tbody>\n",
       "</table>\n",
       "</div>"
      ],
      "text/plain": [
       "      Restaurant_id    City  \\\n",
       "22706       id_4048  Berlin   \n",
       "14337       id_1772  Prague   \n",
       "16806       id_7936  London   \n",
       "14019       id_1107  Oporto   \n",
       "33377       id_2556  Munich   \n",
       "\n",
       "                                           Cuisine Style  Ranking Price Range  \\\n",
       "22706                                                NaN   4050.0         NaN   \n",
       "14337  ['International', 'Pub', 'Gastropub', 'Bar', '...   1775.0    $$ - $$$   \n",
       "16806                                                NaN   7945.0         NaN   \n",
       "14019                         ['European', 'Portuguese']   1108.0           $   \n",
       "33377                                                NaN   2574.0         NaN   \n",
       "\n",
       "       Number of Reviews                                            Reviews  \\\n",
       "22706               15.0  [['Very tasty italian food!', 'Reasonable quic...   \n",
       "14337               27.0  [['Lovely summer BBQ', 'Hidden restaurant'], [...   \n",
       "16806                5.0  [['Fantastic food and great vibe', 'What a gre...   \n",
       "14019               34.0  [['Good local food in locals place good price'...   \n",
       "33377               19.0  [['Good Italian Restaurant', 'A little disappo...   \n",
       "\n",
       "                                                  URL_TA      ID_TA  sample  \\\n",
       "22706  /Restaurant_Review-g187323-d2156563-Reviews-La...   d2156563       1   \n",
       "14337  /Restaurant_Review-g274707-d7123526-Reviews-Na...   d7123526       1   \n",
       "16806  /Restaurant_Review-g186338-d11547915-Reviews-W...  d11547915       1   \n",
       "14019  /Restaurant_Review-g189180-d2049390-Reviews-Ma...   d2049390       1   \n",
       "33377  /Restaurant_Review-g187309-d5510652-Reviews-Vi...   d5510652       1   \n",
       "\n",
       "       Rating  \n",
       "22706     4.0  \n",
       "14337     4.0  \n",
       "16806     5.0  \n",
       "14019     3.5  \n",
       "33377     3.0  "
      ]
     },
     "execution_count": 14,
     "metadata": {},
     "output_type": "execute_result"
    }
   ],
   "source": [
    "data.sample(5)"
   ]
  },
  {
   "cell_type": "code",
   "execution_count": 15,
   "metadata": {
    "scrolled": true
   },
   "outputs": [
    {
     "name": "stdout",
     "output_type": "stream",
     "text": [
      "Restaurant_id        <class 'str'>\n",
      "City                 <class 'str'>\n",
      "Cuisine Style        <class 'str'>\n",
      "Ranking              <class 'numpy.float64'>\n",
      "Price Range          <class 'str'>\n",
      "Number of Reviews    <class 'numpy.float64'>\n",
      "Reviews              <class 'str'>\n",
      "URL_TA               <class 'str'>\n",
      "ID_TA                <class 'str'>\n",
      "sample               <class 'numpy.int64'>\n",
      "Rating               <class 'numpy.float64'>\n"
     ]
    }
   ],
   "source": [
    "for col in data.columns: print('{:20} {}'.format(col, type(data.loc[0][col])))"
   ]
  },
  {
   "cell_type": "markdown",
   "metadata": {},
   "source": [
    "Пропуски в явном виде *(NaN)* наблюдаются в четырех признаках: `Cuisine Style`, `Price Range`, `Number of Reviews` и `Reviews`. Кроме трех числовых признаков `Ranking`, `Rating` и `Number of Reviews`(один из них, `Rating` - целевая переменная) и одного вспомогательного временного столбца `sample` признаки представлены строками."
   ]
  },
  {
   "cell_type": "code",
   "execution_count": 16,
   "metadata": {},
   "outputs": [],
   "source": [
    "# изменеие имен колонок для возможности обращения к колонкам как к атрибутам DataFrame\n",
    "data.columns = data.columns.str.replace(' ','_')"
   ]
  },
  {
   "cell_type": "markdown",
   "metadata": {},
   "source": [
    "## Работа с признаками\n",
    "\n",
    "Сначала рассмотрим существующие признаки, выберем способы их предобработки, извлечем из существующих признаков информацию для создания новых.  \n",
    "Затем предобработаем существующие признаки согласно выбранным способам.  \n",
    "После этого создадим новые, при необходимости предобработаем и их."
   ]
  },
  {
   "cell_type": "markdown",
   "metadata": {},
   "source": [
    "### Restaurant_id\n",
    "Согласно описанию - идентификационный номер ресторана / сети ресторанов   \n",
    "\n",
    "Посмотрим на значения признака"
   ]
  },
  {
   "cell_type": "code",
   "execution_count": 17,
   "metadata": {},
   "outputs": [
    {
     "data": {
      "text/plain": [
       "39118    id_8628\n",
       "10897     id_984\n",
       "47513    id_2777\n",
       "45212    id_4617\n",
       "14665     id_207\n",
       "Name: Restaurant_id, dtype: object"
      ]
     },
     "execution_count": 17,
     "metadata": {},
     "output_type": "execute_result"
    }
   ],
   "source": [
    "data.Restaurant_id.sample(5)"
   ]
  },
  {
   "cell_type": "markdown",
   "metadata": {},
   "source": [
    "Значения признака строковые, формата **'id_ЧИСЛО'**, где **ЧИСЛО** - некоторое целое число.\n",
    "Проверим, все ли значения выглядит подобным образом, для этого убедимся что первые три символа везде **'id_'** и что все значения после первых 3-х симвлов содержат только цифры:"
   ]
  },
  {
   "cell_type": "code",
   "execution_count": 18,
   "metadata": {},
   "outputs": [
    {
     "data": {
      "text/plain": [
       "(True, True)"
      ]
     },
     "execution_count": 18,
     "metadata": {},
     "output_type": "execute_result"
    }
   ],
   "source": [
    "(data.Restaurant_id.str[:3] == 'id_').all(), data.Restaurant_id.str[3:].str.isnumeric().all()"
   ]
  },
  {
   "cell_type": "markdown",
   "metadata": {},
   "source": [
    "Всё так и есть. Можно отбросить первые три символа(они везде одинаковые и потому не несут никакой информации) и в качестве значения признака принять приведенное к числовому виду **ЧИСЛО**:"
   ]
  },
  {
   "cell_type": "markdown",
   "metadata": {},
   "source": [
    "Сопоставление `Restaurant id` с другими признаками из набора данных показало что как правило `Ranking` и **ЧИСЛО** в `Restaurant id` либо совпадают с точностью до 1 либо очень близки (возможно **ЧИСЛО** это `Ranking` в момент внесения ресторана в набор данных). Это наблюдение делает информативным казалось бы бесполезный признак, он будет впоследствии использован для создания новых."
   ]
  },
  {
   "cell_type": "markdown",
   "metadata": {},
   "source": [
    "Пропусков в признаке нет."
   ]
  },
  {
   "cell_type": "markdown",
   "metadata": {},
   "source": [
    "### City\n",
    "Согласно описанию - город, в котором находится ресторан   \n",
    "\n",
    "Посмотрим на значения признака и заодно проверим, если пропускив неявном виде:"
   ]
  },
  {
   "cell_type": "code",
   "execution_count": 19,
   "metadata": {},
   "outputs": [
    {
     "data": {
      "text/plain": [
       "array(['Paris', 'Helsinki', 'Edinburgh', 'London', 'Bratislava', 'Lisbon',\n",
       "       'Budapest', 'Stockholm', 'Rome', 'Milan', 'Munich', 'Hamburg',\n",
       "       'Prague', 'Vienna', 'Dublin', 'Barcelona', 'Brussels', 'Madrid',\n",
       "       'Oslo', 'Amsterdam', 'Berlin', 'Lyon', 'Athens', 'Warsaw',\n",
       "       'Oporto', 'Krakow', 'Copenhagen', 'Luxembourg', 'Zurich', 'Geneva',\n",
       "       'Ljubljana'], dtype=object)"
      ]
     },
     "execution_count": 19,
     "metadata": {},
     "output_type": "execute_result"
    }
   ],
   "source": [
    "data.City.unique()"
   ]
  },
  {
   "cell_type": "markdown",
   "metadata": {},
   "source": [
    "Пропусков, выбросов нет. Остается привести признак в числовой вид, применив dummy-кодирование."
   ]
  },
  {
   "cell_type": "markdown",
   "metadata": {},
   "source": [
    "### Cuisine_Style\n",
    "согласно описанию - кухня или кухни, к которым можно отнести блюда, предлагаемые в ресторане.  \n",
    "\n",
    "Посмотрим как устроен признак:"
   ]
  },
  {
   "cell_type": "code",
   "execution_count": 20,
   "metadata": {},
   "outputs": [
    {
     "data": {
      "text/plain": [
       "33553                                          ['Italian']\n",
       "9427                                                   NaN\n",
       "199      ['Middle Eastern', 'Vegetarian Friendly', 'Veg...\n",
       "12447                                                  NaN\n",
       "39489                                                  NaN\n",
       "Name: Cuisine_Style, dtype: object"
      ]
     },
     "execution_count": 20,
     "metadata": {},
     "output_type": "execute_result"
    }
   ],
   "source": [
    "data.Cuisine_Style.sample(5,random_state=RANDOM_SEED)"
   ]
  },
  {
   "cell_type": "markdown",
   "metadata": {},
   "source": [
    "Заполним пропуски в признаке строковым значением *['Nan_Style']* и затем преобразуем строковое представление списков непосредственно в списки."
   ]
  },
  {
   "cell_type": "markdown",
   "metadata": {},
   "source": [
    "После чего мы создадим dummy-признаки по значениям в списках полученных из строковых значений в `Cuisine_Style` \n",
    "\n",
    "Сохраним список этих значений, он нам понадобится в дальнейшем:"
   ]
  },
  {
   "cell_type": "code",
   "execution_count": 21,
   "metadata": {},
   "outputs": [
    {
     "name": "stdout",
     "output_type": "stream",
     "text": [
      "Wall time: 22.8 s\n"
     ]
    }
   ],
   "source": [
    "%%time\n",
    "cuisine_styles = sorted(set(data.Cuisine_Style.fillna(\"['Nan_Style']\").str[2:-2].str.split(\"', '\").sum()))"
   ]
  },
  {
   "cell_type": "markdown",
   "metadata": {},
   "source": [
    "Проверим, не было ли в признаке пропусков в неявном виде (т.е. в виде пустых строк, строкового представления пустого списка и т.д.). Если это так, то в `cuisine_styles` должна оказаться пустая строка."
   ]
  },
  {
   "cell_type": "code",
   "execution_count": 22,
   "metadata": {},
   "outputs": [
    {
     "data": {
      "text/plain": [
       "False"
      ]
     },
     "execution_count": 22,
     "metadata": {},
     "output_type": "execute_result"
    }
   ],
   "source": [
    "'' in cuisine_styles"
   ]
  },
  {
   "cell_type": "markdown",
   "metadata": {},
   "source": [
    "### Ranking\n",
    "Согласно описанию - место, которое занимает данный ресторан среди всех ресторанов своего города\n",
    "\n",
    "Признак числовой.  \n",
    "Пропусков нет"
   ]
  },
  {
   "cell_type": "markdown",
   "metadata": {},
   "source": [
    "В каждом городе разное количество ресторанов, поэтому и диапозон `Ranking` в каждом городе различный (что приводит к тому что наихудший ресторан в маленьком городе будет иметь такой же `Ranking` как и отличный ресторан в мегаполисе). Такая разница масштабов может помешать модели, имеет смысл отнормировать  Ranking в каждом городе отдельно, что мы и сделаем. \n",
    "\n",
    "Так же можно использовать как оценку количества ресторанов в городе максимальную величину `Ranking` для каждого города. Эта величина будет использована как самостоятельный признак и будет участвовать в создании других новых признаков."
   ]
  },
  {
   "cell_type": "markdown",
   "metadata": {},
   "source": [
    "Сохраним оценку количества ресторанов в городе, она нам понадобится при создании новых признаков."
   ]
  },
  {
   "cell_type": "code",
   "execution_count": 23,
   "metadata": {},
   "outputs": [],
   "source": [
    "num_rest_estimate = data.groupby('City').Ranking.max() "
   ]
  },
  {
   "cell_type": "markdown",
   "metadata": {},
   "source": [
    "### Price_Range\n",
    "Согласно описанию - диапазон цен в ресторане   \n",
    "\n",
    "Посмотрим на значения признака:"
   ]
  },
  {
   "cell_type": "code",
   "execution_count": 24,
   "metadata": {},
   "outputs": [
    {
     "data": {
      "text/plain": [
       "array(['$$ - $$$', '$$$$', '$', nan], dtype=object)"
      ]
     },
     "execution_count": 24,
     "metadata": {},
     "output_type": "execute_result"
    }
   ],
   "source": [
    "data.Price_Range.unique()"
   ]
  },
  {
   "cell_type": "markdown",
   "metadata": {},
   "source": [
    "Заполним пропуски строковым значением 'no range' и затем приведем признак к числовому виду, закодировав каждый из четырех вариантов значений соответствующим числом от 0 (для 'no range') до 3 (для высокого ценового диапзона)"
   ]
  },
  {
   "cell_type": "markdown",
   "metadata": {},
   "source": [
    "### Number_of_Reviews\n",
    "Согласно описанию - количество отзывов о ресторане  \n",
    "\n",
    "Признак в числовой форме.\n",
    "Пропуски в признаке есть:"
   ]
  },
  {
   "cell_type": "code",
   "execution_count": 25,
   "metadata": {},
   "outputs": [
    {
     "data": {
      "text/plain": [
       "3200"
      ]
     },
     "execution_count": 25,
     "metadata": {},
     "output_type": "execute_result"
    }
   ],
   "source": [
    "data.Number_of_Reviews.isna().sum()"
   ]
  },
  {
   "cell_type": "markdown",
   "metadata": {},
   "source": [
    "Посмотрим на распределение признака в области 0:"
   ]
  },
  {
   "cell_type": "code",
   "execution_count": 26,
   "metadata": {},
   "outputs": [
    {
     "data": {
      "image/png": "[encoded data removed]",
      "text/plain": [
       "<Figure size 432x288 with 1 Axes>"
      ]
     },
     "metadata": {
      "needs_background": "light"
     },
     "output_type": "display_data"
    }
   ],
   "source": [
    "data.Number_of_Reviews[data.Number_of_Reviews<10].hist(bins = 50);"
   ]
  },
  {
   "cell_type": "markdown",
   "metadata": {},
   "source": [
    "### ++++++++++++++++++++++++++++++++++++++++++++++++++"
   ]
  },
  {
   "cell_type": "code",
   "execution_count": 27,
   "metadata": {},
   "outputs": [],
   "source": [
    "data.Reviews.fillna(\"[[], []]\", inplace=True)"
   ]
  },
  {
   "cell_type": "code",
   "execution_count": 28,
   "metadata": {},
   "outputs": [
    {
     "data": {
      "text/plain": [
       "7                                        [[], []]\n",
       "25                                       [[], []]\n",
       "53                                       [[], []]\n",
       "74               [[\"Nova' Doba\"], ['01/26/2017']]\n",
       "81                                       [[], []]\n",
       "                           ...                   \n",
       "49965                                    [[], []]\n",
       "49972    [['Personal expirence'], ['10/27/2017']]\n",
       "49986                                    [[], []]\n",
       "49988                                    [[], []]\n",
       "49989    [['I love this place!'], ['08/24/2015']]\n",
       "Name: Reviews, Length: 3200, dtype: object"
      ]
     },
     "execution_count": 28,
     "metadata": {},
     "output_type": "execute_result"
    }
   ],
   "source": [
    "data.Reviews[data.Number_of_Reviews.isna()]"
   ]
  },
  {
   "cell_type": "code",
   "execution_count": null,
   "metadata": {},
   "outputs": [],
   "source": []
  },
  {
   "cell_type": "code",
   "execution_count": 29,
   "metadata": {},
   "outputs": [
    {
     "data": {
      "text/plain": [
       "True     2024\n",
       "False    1176\n",
       "Name: Reviews, dtype: int64"
      ]
     },
     "execution_count": 29,
     "metadata": {},
     "output_type": "execute_result"
    }
   ],
   "source": [
    "ddd = data.Reviews.fillna(\"[[], []]\")[data.Number_of_Reviews.isna()] == '[[], []]'\n",
    "ddd.value_counts()"
   ]
  },
  {
   "cell_type": "markdown",
   "metadata": {},
   "source": [
    "### ++++++++++++++++++++++++++++++++++++++++++++++++++"
   ]
  },
  {
   "cell_type": "markdown",
   "metadata": {},
   "source": [
    "Если сопоставить количество пропусков и распределение, то может возникнуть предположение, что пропуски подразумевают значение 0 или 1. Такая версия не испортит общий вид распределения. Заполнение пропусков 1 в отличии от заполнения 0 упростит использование данного признака при создании признаков новых .  \n",
    "Поэтому заполним пропуски 1. Этим обработка признака и ограничится."
   ]
  },
  {
   "cell_type": "markdown",
   "metadata": {},
   "source": [
    "### ID_TA\n",
    "Согласно описанию - идентификатор ресторана в базе данных TripAdvisor\n",
    "\n",
    "Посмотрим на значения признака:"
   ]
  },
  {
   "cell_type": "code",
   "execution_count": 30,
   "metadata": {},
   "outputs": [
    {
     "data": {
      "text/plain": [
       "0    d10746918\n",
       "1     d6674944\n",
       "2    d13129638\n",
       "3      d680417\n",
       "4     d1112354\n",
       "Name: ID_TA, dtype: object"
      ]
     },
     "execution_count": 30,
     "metadata": {},
     "output_type": "execute_result"
    }
   ],
   "source": [
    "data.ID_TA[:5]"
   ]
  },
  {
   "cell_type": "markdown",
   "metadata": {},
   "source": [
    "Значения признака строковые, формата **'dЧИСЛО'**, где **ЧИСЛО** - некоторое целое число. Проверим, все ли значения выглядит подобным образом, для этого убедимся что первый символ везде 'd' и что все символы кроме первого - только цифры:"
   ]
  },
  {
   "cell_type": "code",
   "execution_count": 31,
   "metadata": {},
   "outputs": [
    {
     "data": {
      "text/plain": [
       "(True, True)"
      ]
     },
     "execution_count": 31,
     "metadata": {},
     "output_type": "execute_result"
    }
   ],
   "source": [
    "(data.ID_TA.str[0] == 'd').all(), (data.ID_TA.str[1:].str.isnumeric()).all()"
   ]
  },
  {
   "cell_type": "markdown",
   "metadata": {},
   "source": [
    "Обработаем признак -  примем в качесвте значения приведенную к числовому виду его цифровая часть (т.е. **ЧИСЛО**).  \n",
    "В работе будет использоваться гипотеза о том что цифровая часть отражает хронологический порядок появления ресторана в базе данных. "
   ]
  },
  {
   "cell_type": "markdown",
   "metadata": {},
   "source": [
    "### Reviews\n",
    "Согласно описанию - данные о не более чем двух последних отзывах, которые отображаются на сайте ресторана  \n",
    "**ИДЕИ:дата раннего, дата позднего, срок от последнего отзыва до тоталпоследнего отзыва, соотносятся с ID_TA?  разброс в датах отзывов, наличие пропуска, тональность отзыва, длинна отзыва, грамматичнские ошибки в отзыве**\n",
    "\n",
    "Посмотрим на значения признака:"
   ]
  },
  {
   "cell_type": "code",
   "execution_count": 32,
   "metadata": {
    "scrolled": true
   },
   "outputs": [
    {
     "data": {
      "text/plain": [
       "0                                             [[], []]\n",
       "1    [['Very good reviews!', 'Fine dining in Hakani...\n",
       "2    [['Better than the Links', 'Ivy Black'], ['12/...\n",
       "3    [['Most exquisite', 'Delicious and authentic']...\n",
       "4    [['Always the best in bratislava', 'Very good ...\n",
       "Name: Reviews, dtype: object"
      ]
     },
     "execution_count": 32,
     "metadata": {},
     "output_type": "execute_result"
    }
   ],
   "source": [
    "data.Reviews[:5]"
   ]
  },
  {
   "cell_type": "markdown",
   "metadata": {},
   "source": [
    "Признак строковый,в нем есть неявные пропуски (значения \"[[], []]\"), при работе с признаком надо будет учитывать их наличие. Удалять наблюдения с такими значениями не следует ввиду их значительного количества:"
   ]
  },
  {
   "cell_type": "code",
   "execution_count": 33,
   "metadata": {},
   "outputs": [
    {
     "data": {
      "text/plain": [
       "8114"
      ]
     },
     "execution_count": 33,
     "metadata": {},
     "output_type": "execute_result"
    }
   ],
   "source": [
    "(data.Reviews == '[[], []]').sum()"
   ]
  },
  {
   "cell_type": "code",
   "execution_count": 34,
   "metadata": {},
   "outputs": [
    {
     "name": "stdout",
     "output_type": "stream",
     "text": [
      "В признаке пропусков в явном виде 0, заполним их строковым значением \"[[], []]\"\n"
     ]
    }
   ],
   "source": [
    "print('В признаке пропусков в явном виде {}, заполним их строковым значением \"[[], []]\"'.format(data.Reviews.isna().sum()))\n",
    "data.Reviews.fillna('[[], []]',inplace=True)"
   ]
  },
  {
   "cell_type": "markdown",
   "metadata": {},
   "source": [
    "При работе с  признаком:\n",
    " - отделим и сохраним текстовую составляющую (собственно отзывы)\n",
    " - получим список дат отзывовов.   \n",
    " На основе этой информации позднее создадим новые признаки, а так же заполним пропуски в признаке `Number_of_Reviews`."
   ]
  },
  {
   "cell_type": "code",
   "execution_count": 35,
   "metadata": {},
   "outputs": [],
   "source": [
    "Review_texts = data.Reviews.apply(lambda x:x[: x.find('], [')+1]).str.replace(\"[\\[\\]]\", \"\")"
   ]
  },
  {
   "cell_type": "code",
   "execution_count": 36,
   "metadata": {},
   "outputs": [],
   "source": [
    "str_to_data = lambda x: datetime.datetime.strptime(x, '%m/%d/%Y').date() # функция перевода str в datetime\n",
    "today = datetime.datetime.today().date()\n",
    "# Получим pd.Series содержащую списки дат отзывов\n",
    "review_date_lists = data.Reviews.apply(lambda x:x[ x.find('], [')+3:]).str.replace(\"[\\[\\]' ]\", \"\").str.split(\",\")"
   ]
  },
  {
   "cell_type": "markdown",
   "metadata": {},
   "source": [
    "### URL_TA\n",
    "Согласно описанию - URL страницы ресторана на TripAdvosor  \n",
    "\n",
    "Посмотрим на значения признака:"
   ]
  },
  {
   "cell_type": "code",
   "execution_count": 37,
   "metadata": {},
   "outputs": [
    {
     "name": "stdout",
     "output_type": "stream",
     "text": [
      "/Restaurant_Review-g187147-d10746918-Reviews-Le_Perchoir-Paris_Ile_de_France.html\n",
      "/Restaurant_Review-g189934-d6674944-Reviews-Ravintola_Kolmon3n-Helsinki_Uusimaa.html\n",
      "/Restaurant_Review-g186525-d13129638-Reviews-Black_Ivy-Edinburgh_Scotland.html\n",
      "/Restaurant_Review-g186338-d680417-Reviews-Quirinale-London_England.html\n",
      "/Restaurant_Review-g274924-d1112354-Reviews-Massimo_Ristorante-Bratislava_Bratislava_Region.html\n"
     ]
    }
   ],
   "source": [
    "for s in data.URL_TA[:5]: print(s)"
   ]
  },
  {
   "cell_type": "markdown",
   "metadata": {},
   "source": [
    "Значения строковые, в строке присутсвует какойто индентификатор формата 'g123456', затем ID_TA, название ресторана, город/регион.  \n",
    "Получим название и попытаемся такой признак обработать и применить."
   ]
  },
  {
   "cell_type": "code",
   "execution_count": 38,
   "metadata": {},
   "outputs": [],
   "source": [
    "rest_names = data.URL_TA.apply(lambda x: x[x.find('Reviews-')+8: x.find('-',x.find('Reviews-')+8)])"
   ]
  },
  {
   "cell_type": "markdown",
   "metadata": {},
   "source": [
    "Вызывает любопытсво индентификатор формата 'g123456'. Вычленим его из `URL_TA`."
   ]
  },
  {
   "cell_type": "code",
   "execution_count": 39,
   "metadata": {},
   "outputs": [],
   "source": [
    "g_fig = data.URL_TA.apply(lambda x: int(x[x.find('-g')+2:x.find('-d')]))"
   ]
  },
  {
   "cell_type": "markdown",
   "metadata": {},
   "source": [
    "К сожалению ни изучение распределения индентификатора (его цифровой части), ни рассмотрение его уникальных значений не навело на какие-либо разумные предположения о его природе. Тем не менее  попробуем применить его в качестве фактора в нашей модели."
   ]
  },
  {
   "cell_type": "markdown",
   "metadata": {},
   "source": [
    "### Реализация предобработки.\n",
    "Проведем кодирование существующих признаков в соотвтетсвии с принятыми решениями о способах предобработки."
   ]
  },
  {
   "cell_type": "code",
   "execution_count": 40,
   "metadata": {
    "scrolled": true
   },
   "outputs": [
    {
     "name": "stderr",
     "output_type": "stream",
     "text": [
      "C:\\Users\\GANSOR-PC\\Anaconda3\\lib\\site-packages\\pandas\\core\\indexing.py:205: SettingWithCopyWarning: \n",
      "A value is trying to be set on a copy of a slice from a DataFrame\n",
      "\n",
      "See the caveats in the documentation: http://pandas.pydata.org/pandas-docs/stable/user_guide/indexing.html#returning-a-view-versus-a-copy\n",
      "  self._setitem_with_indexer(indexer, value)\n",
      "C:\\Users\\GANSOR-PC\\Anaconda3\\lib\\site-packages\\pandas\\core\\indexing.py:205: SettingWithCopyWarning: \n",
      "A value is trying to be set on a copy of a slice from a DataFrame\n",
      "\n",
      "See the caveats in the documentation: http://pandas.pydata.org/pandas-docs/stable/user_guide/indexing.html#returning-a-view-versus-a-copy\n",
      "  self._setitem_with_indexer(indexer, value)\n",
      "C:\\Users\\GANSOR-PC\\Anaconda3\\lib\\site-packages\\pandas\\core\\indexing.py:205: SettingWithCopyWarning: \n",
      "A value is trying to be set on a copy of a slice from a DataFrame\n",
      "\n",
      "See the caveats in the documentation: http://pandas.pydata.org/pandas-docs/stable/user_guide/indexing.html#returning-a-view-versus-a-copy\n",
      "  self._setitem_with_indexer(indexer, value)\n",
      "C:\\Users\\GANSOR-PC\\Anaconda3\\lib\\site-packages\\pandas\\core\\indexing.py:205: SettingWithCopyWarning: \n",
      "A value is trying to be set on a copy of a slice from a DataFrame\n",
      "\n",
      "See the caveats in the documentation: http://pandas.pydata.org/pandas-docs/stable/user_guide/indexing.html#returning-a-view-versus-a-copy\n",
      "  self._setitem_with_indexer(indexer, value)\n",
      "C:\\Users\\GANSOR-PC\\Anaconda3\\lib\\site-packages\\pandas\\core\\indexing.py:205: SettingWithCopyWarning: \n",
      "A value is trying to be set on a copy of a slice from a DataFrame\n",
      "\n",
      "See the caveats in the documentation: http://pandas.pydata.org/pandas-docs/stable/user_guide/indexing.html#returning-a-view-versus-a-copy\n",
      "  self._setitem_with_indexer(indexer, value)\n",
      "C:\\Users\\GANSOR-PC\\Anaconda3\\lib\\site-packages\\pandas\\core\\indexing.py:205: SettingWithCopyWarning: \n",
      "A value is trying to be set on a copy of a slice from a DataFrame\n",
      "\n",
      "See the caveats in the documentation: http://pandas.pydata.org/pandas-docs/stable/user_guide/indexing.html#returning-a-view-versus-a-copy\n",
      "  self._setitem_with_indexer(indexer, value)\n",
      "C:\\Users\\GANSOR-PC\\Anaconda3\\lib\\site-packages\\pandas\\core\\indexing.py:205: SettingWithCopyWarning: \n",
      "A value is trying to be set on a copy of a slice from a DataFrame\n",
      "\n",
      "See the caveats in the documentation: http://pandas.pydata.org/pandas-docs/stable/user_guide/indexing.html#returning-a-view-versus-a-copy\n",
      "  self._setitem_with_indexer(indexer, value)\n",
      "C:\\Users\\GANSOR-PC\\Anaconda3\\lib\\site-packages\\pandas\\core\\indexing.py:205: SettingWithCopyWarning: \n",
      "A value is trying to be set on a copy of a slice from a DataFrame\n",
      "\n",
      "See the caveats in the documentation: http://pandas.pydata.org/pandas-docs/stable/user_guide/indexing.html#returning-a-view-versus-a-copy\n",
      "  self._setitem_with_indexer(indexer, value)\n",
      "C:\\Users\\GANSOR-PC\\Anaconda3\\lib\\site-packages\\pandas\\core\\indexing.py:205: SettingWithCopyWarning: \n",
      "A value is trying to be set on a copy of a slice from a DataFrame\n",
      "\n",
      "See the caveats in the documentation: http://pandas.pydata.org/pandas-docs/stable/user_guide/indexing.html#returning-a-view-versus-a-copy\n",
      "  self._setitem_with_indexer(indexer, value)\n",
      "C:\\Users\\GANSOR-PC\\Anaconda3\\lib\\site-packages\\pandas\\core\\indexing.py:205: SettingWithCopyWarning: \n",
      "A value is trying to be set on a copy of a slice from a DataFrame\n",
      "\n",
      "See the caveats in the documentation: http://pandas.pydata.org/pandas-docs/stable/user_guide/indexing.html#returning-a-view-versus-a-copy\n",
      "  self._setitem_with_indexer(indexer, value)\n",
      "C:\\Users\\GANSOR-PC\\Anaconda3\\lib\\site-packages\\pandas\\core\\indexing.py:205: SettingWithCopyWarning: \n",
      "A value is trying to be set on a copy of a slice from a DataFrame\n",
      "\n",
      "See the caveats in the documentation: http://pandas.pydata.org/pandas-docs/stable/user_guide/indexing.html#returning-a-view-versus-a-copy\n",
      "  self._setitem_with_indexer(indexer, value)\n",
      "C:\\Users\\GANSOR-PC\\Anaconda3\\lib\\site-packages\\pandas\\core\\indexing.py:205: SettingWithCopyWarning: \n",
      "A value is trying to be set on a copy of a slice from a DataFrame\n",
      "\n",
      "See the caveats in the documentation: http://pandas.pydata.org/pandas-docs/stable/user_guide/indexing.html#returning-a-view-versus-a-copy\n",
      "  self._setitem_with_indexer(indexer, value)\n",
      "C:\\Users\\GANSOR-PC\\Anaconda3\\lib\\site-packages\\pandas\\core\\indexing.py:205: SettingWithCopyWarning: \n",
      "A value is trying to be set on a copy of a slice from a DataFrame\n",
      "\n",
      "See the caveats in the documentation: http://pandas.pydata.org/pandas-docs/stable/user_guide/indexing.html#returning-a-view-versus-a-copy\n",
      "  self._setitem_with_indexer(indexer, value)\n",
      "C:\\Users\\GANSOR-PC\\Anaconda3\\lib\\site-packages\\pandas\\core\\indexing.py:205: SettingWithCopyWarning: \n",
      "A value is trying to be set on a copy of a slice from a DataFrame\n",
      "\n",
      "See the caveats in the documentation: http://pandas.pydata.org/pandas-docs/stable/user_guide/indexing.html#returning-a-view-versus-a-copy\n",
      "  self._setitem_with_indexer(indexer, value)\n",
      "C:\\Users\\GANSOR-PC\\Anaconda3\\lib\\site-packages\\pandas\\core\\indexing.py:205: SettingWithCopyWarning: \n",
      "A value is trying to be set on a copy of a slice from a DataFrame\n",
      "\n",
      "See the caveats in the documentation: http://pandas.pydata.org/pandas-docs/stable/user_guide/indexing.html#returning-a-view-versus-a-copy\n",
      "  self._setitem_with_indexer(indexer, value)\n",
      "C:\\Users\\GANSOR-PC\\Anaconda3\\lib\\site-packages\\pandas\\core\\indexing.py:205: SettingWithCopyWarning: \n",
      "A value is trying to be set on a copy of a slice from a DataFrame\n",
      "\n",
      "See the caveats in the documentation: http://pandas.pydata.org/pandas-docs/stable/user_guide/indexing.html#returning-a-view-versus-a-copy\n",
      "  self._setitem_with_indexer(indexer, value)\n",
      "C:\\Users\\GANSOR-PC\\Anaconda3\\lib\\site-packages\\pandas\\core\\indexing.py:205: SettingWithCopyWarning: \n",
      "A value is trying to be set on a copy of a slice from a DataFrame\n",
      "\n",
      "See the caveats in the documentation: http://pandas.pydata.org/pandas-docs/stable/user_guide/indexing.html#returning-a-view-versus-a-copy\n",
      "  self._setitem_with_indexer(indexer, value)\n",
      "C:\\Users\\GANSOR-PC\\Anaconda3\\lib\\site-packages\\pandas\\core\\indexing.py:205: SettingWithCopyWarning: \n",
      "A value is trying to be set on a copy of a slice from a DataFrame\n",
      "\n",
      "See the caveats in the documentation: http://pandas.pydata.org/pandas-docs/stable/user_guide/indexing.html#returning-a-view-versus-a-copy\n",
      "  self._setitem_with_indexer(indexer, value)\n",
      "C:\\Users\\GANSOR-PC\\Anaconda3\\lib\\site-packages\\pandas\\core\\indexing.py:205: SettingWithCopyWarning: \n",
      "A value is trying to be set on a copy of a slice from a DataFrame\n",
      "\n",
      "See the caveats in the documentation: http://pandas.pydata.org/pandas-docs/stable/user_guide/indexing.html#returning-a-view-versus-a-copy\n",
      "  self._setitem_with_indexer(indexer, value)\n",
      "C:\\Users\\GANSOR-PC\\Anaconda3\\lib\\site-packages\\pandas\\core\\indexing.py:205: SettingWithCopyWarning: \n",
      "A value is trying to be set on a copy of a slice from a DataFrame\n",
      "\n",
      "See the caveats in the documentation: http://pandas.pydata.org/pandas-docs/stable/user_guide/indexing.html#returning-a-view-versus-a-copy\n",
      "  self._setitem_with_indexer(indexer, value)\n",
      "C:\\Users\\GANSOR-PC\\Anaconda3\\lib\\site-packages\\pandas\\core\\indexing.py:205: SettingWithCopyWarning: \n",
      "A value is trying to be set on a copy of a slice from a DataFrame\n",
      "\n",
      "See the caveats in the documentation: http://pandas.pydata.org/pandas-docs/stable/user_guide/indexing.html#returning-a-view-versus-a-copy\n",
      "  self._setitem_with_indexer(indexer, value)\n",
      "C:\\Users\\GANSOR-PC\\Anaconda3\\lib\\site-packages\\pandas\\core\\indexing.py:205: SettingWithCopyWarning: \n",
      "A value is trying to be set on a copy of a slice from a DataFrame\n",
      "\n",
      "See the caveats in the documentation: http://pandas.pydata.org/pandas-docs/stable/user_guide/indexing.html#returning-a-view-versus-a-copy\n",
      "  self._setitem_with_indexer(indexer, value)\n",
      "C:\\Users\\GANSOR-PC\\Anaconda3\\lib\\site-packages\\pandas\\core\\indexing.py:205: SettingWithCopyWarning: \n",
      "A value is trying to be set on a copy of a slice from a DataFrame\n",
      "\n",
      "See the caveats in the documentation: http://pandas.pydata.org/pandas-docs/stable/user_guide/indexing.html#returning-a-view-versus-a-copy\n",
      "  self._setitem_with_indexer(indexer, value)\n",
      "C:\\Users\\GANSOR-PC\\Anaconda3\\lib\\site-packages\\pandas\\core\\indexing.py:205: SettingWithCopyWarning: \n",
      "A value is trying to be set on a copy of a slice from a DataFrame\n",
      "\n",
      "See the caveats in the documentation: http://pandas.pydata.org/pandas-docs/stable/user_guide/indexing.html#returning-a-view-versus-a-copy\n",
      "  self._setitem_with_indexer(indexer, value)\n",
      "C:\\Users\\GANSOR-PC\\Anaconda3\\lib\\site-packages\\pandas\\core\\indexing.py:205: SettingWithCopyWarning: \n",
      "A value is trying to be set on a copy of a slice from a DataFrame\n",
      "\n",
      "See the caveats in the documentation: http://pandas.pydata.org/pandas-docs/stable/user_guide/indexing.html#returning-a-view-versus-a-copy\n",
      "  self._setitem_with_indexer(indexer, value)\n",
      "C:\\Users\\GANSOR-PC\\Anaconda3\\lib\\site-packages\\pandas\\core\\indexing.py:205: SettingWithCopyWarning: \n",
      "A value is trying to be set on a copy of a slice from a DataFrame\n",
      "\n",
      "See the caveats in the documentation: http://pandas.pydata.org/pandas-docs/stable/user_guide/indexing.html#returning-a-view-versus-a-copy\n",
      "  self._setitem_with_indexer(indexer, value)\n",
      "C:\\Users\\GANSOR-PC\\Anaconda3\\lib\\site-packages\\pandas\\core\\indexing.py:205: SettingWithCopyWarning: \n",
      "A value is trying to be set on a copy of a slice from a DataFrame\n",
      "\n",
      "See the caveats in the documentation: http://pandas.pydata.org/pandas-docs/stable/user_guide/indexing.html#returning-a-view-versus-a-copy\n",
      "  self._setitem_with_indexer(indexer, value)\n",
      "C:\\Users\\GANSOR-PC\\Anaconda3\\lib\\site-packages\\pandas\\core\\indexing.py:205: SettingWithCopyWarning: \n",
      "A value is trying to be set on a copy of a slice from a DataFrame\n",
      "\n",
      "See the caveats in the documentation: http://pandas.pydata.org/pandas-docs/stable/user_guide/indexing.html#returning-a-view-versus-a-copy\n",
      "  self._setitem_with_indexer(indexer, value)\n",
      "C:\\Users\\GANSOR-PC\\Anaconda3\\lib\\site-packages\\pandas\\core\\indexing.py:205: SettingWithCopyWarning: \n",
      "A value is trying to be set on a copy of a slice from a DataFrame\n",
      "\n",
      "See the caveats in the documentation: http://pandas.pydata.org/pandas-docs/stable/user_guide/indexing.html#returning-a-view-versus-a-copy\n",
      "  self._setitem_with_indexer(indexer, value)\n",
      "C:\\Users\\GANSOR-PC\\Anaconda3\\lib\\site-packages\\pandas\\core\\indexing.py:205: SettingWithCopyWarning: \n",
      "A value is trying to be set on a copy of a slice from a DataFrame\n",
      "\n",
      "See the caveats in the documentation: http://pandas.pydata.org/pandas-docs/stable/user_guide/indexing.html#returning-a-view-versus-a-copy\n",
      "  self._setitem_with_indexer(indexer, value)\n",
      "C:\\Users\\GANSOR-PC\\Anaconda3\\lib\\site-packages\\pandas\\core\\indexing.py:205: SettingWithCopyWarning: \n",
      "A value is trying to be set on a copy of a slice from a DataFrame\n",
      "\n",
      "See the caveats in the documentation: http://pandas.pydata.org/pandas-docs/stable/user_guide/indexing.html#returning-a-view-versus-a-copy\n",
      "  self._setitem_with_indexer(indexer, value)\n",
      "C:\\Users\\GANSOR-PC\\Anaconda3\\lib\\site-packages\\pandas\\core\\indexing.py:205: SettingWithCopyWarning: \n",
      "A value is trying to be set on a copy of a slice from a DataFrame\n",
      "\n",
      "See the caveats in the documentation: http://pandas.pydata.org/pandas-docs/stable/user_guide/indexing.html#returning-a-view-versus-a-copy\n",
      "  self._setitem_with_indexer(indexer, value)\n",
      "C:\\Users\\GANSOR-PC\\Anaconda3\\lib\\site-packages\\pandas\\core\\indexing.py:205: SettingWithCopyWarning: \n",
      "A value is trying to be set on a copy of a slice from a DataFrame\n",
      "\n",
      "See the caveats in the documentation: http://pandas.pydata.org/pandas-docs/stable/user_guide/indexing.html#returning-a-view-versus-a-copy\n",
      "  self._setitem_with_indexer(indexer, value)\n",
      "C:\\Users\\GANSOR-PC\\Anaconda3\\lib\\site-packages\\pandas\\core\\indexing.py:205: SettingWithCopyWarning: \n",
      "A value is trying to be set on a copy of a slice from a DataFrame\n",
      "\n",
      "See the caveats in the documentation: http://pandas.pydata.org/pandas-docs/stable/user_guide/indexing.html#returning-a-view-versus-a-copy\n",
      "  self._setitem_with_indexer(indexer, value)\n",
      "C:\\Users\\GANSOR-PC\\Anaconda3\\lib\\site-packages\\pandas\\core\\indexing.py:205: SettingWithCopyWarning: \n",
      "A value is trying to be set on a copy of a slice from a DataFrame\n",
      "\n",
      "See the caveats in the documentation: http://pandas.pydata.org/pandas-docs/stable/user_guide/indexing.html#returning-a-view-versus-a-copy\n",
      "  self._setitem_with_indexer(indexer, value)\n",
      "C:\\Users\\GANSOR-PC\\Anaconda3\\lib\\site-packages\\pandas\\core\\indexing.py:205: SettingWithCopyWarning: \n",
      "A value is trying to be set on a copy of a slice from a DataFrame\n",
      "\n",
      "See the caveats in the documentation: http://pandas.pydata.org/pandas-docs/stable/user_guide/indexing.html#returning-a-view-versus-a-copy\n",
      "  self._setitem_with_indexer(indexer, value)\n",
      "C:\\Users\\GANSOR-PC\\Anaconda3\\lib\\site-packages\\pandas\\core\\indexing.py:205: SettingWithCopyWarning: \n",
      "A value is trying to be set on a copy of a slice from a DataFrame\n",
      "\n",
      "See the caveats in the documentation: http://pandas.pydata.org/pandas-docs/stable/user_guide/indexing.html#returning-a-view-versus-a-copy\n",
      "  self._setitem_with_indexer(indexer, value)\n",
      "C:\\Users\\GANSOR-PC\\Anaconda3\\lib\\site-packages\\pandas\\core\\indexing.py:205: SettingWithCopyWarning: \n",
      "A value is trying to be set on a copy of a slice from a DataFrame\n",
      "\n",
      "See the caveats in the documentation: http://pandas.pydata.org/pandas-docs/stable/user_guide/indexing.html#returning-a-view-versus-a-copy\n",
      "  self._setitem_with_indexer(indexer, value)\n",
      "C:\\Users\\GANSOR-PC\\Anaconda3\\lib\\site-packages\\pandas\\core\\indexing.py:205: SettingWithCopyWarning: \n",
      "A value is trying to be set on a copy of a slice from a DataFrame\n",
      "\n",
      "See the caveats in the documentation: http://pandas.pydata.org/pandas-docs/stable/user_guide/indexing.html#returning-a-view-versus-a-copy\n",
      "  self._setitem_with_indexer(indexer, value)\n",
      "C:\\Users\\GANSOR-PC\\Anaconda3\\lib\\site-packages\\pandas\\core\\indexing.py:205: SettingWithCopyWarning: \n",
      "A value is trying to be set on a copy of a slice from a DataFrame\n",
      "\n",
      "See the caveats in the documentation: http://pandas.pydata.org/pandas-docs/stable/user_guide/indexing.html#returning-a-view-versus-a-copy\n",
      "  self._setitem_with_indexer(indexer, value)\n",
      "C:\\Users\\GANSOR-PC\\Anaconda3\\lib\\site-packages\\pandas\\core\\indexing.py:205: SettingWithCopyWarning: \n",
      "A value is trying to be set on a copy of a slice from a DataFrame\n",
      "\n",
      "See the caveats in the documentation: http://pandas.pydata.org/pandas-docs/stable/user_guide/indexing.html#returning-a-view-versus-a-copy\n",
      "  self._setitem_with_indexer(indexer, value)\n",
      "C:\\Users\\GANSOR-PC\\Anaconda3\\lib\\site-packages\\pandas\\core\\indexing.py:205: SettingWithCopyWarning: \n",
      "A value is trying to be set on a copy of a slice from a DataFrame\n",
      "\n",
      "See the caveats in the documentation: http://pandas.pydata.org/pandas-docs/stable/user_guide/indexing.html#returning-a-view-versus-a-copy\n",
      "  self._setitem_with_indexer(indexer, value)\n",
      "C:\\Users\\GANSOR-PC\\Anaconda3\\lib\\site-packages\\pandas\\core\\indexing.py:205: SettingWithCopyWarning: \n",
      "A value is trying to be set on a copy of a slice from a DataFrame\n",
      "\n",
      "See the caveats in the documentation: http://pandas.pydata.org/pandas-docs/stable/user_guide/indexing.html#returning-a-view-versus-a-copy\n",
      "  self._setitem_with_indexer(indexer, value)\n",
      "C:\\Users\\GANSOR-PC\\Anaconda3\\lib\\site-packages\\pandas\\core\\indexing.py:205: SettingWithCopyWarning: \n",
      "A value is trying to be set on a copy of a slice from a DataFrame\n",
      "\n",
      "See the caveats in the documentation: http://pandas.pydata.org/pandas-docs/stable/user_guide/indexing.html#returning-a-view-versus-a-copy\n",
      "  self._setitem_with_indexer(indexer, value)\n",
      "C:\\Users\\GANSOR-PC\\Anaconda3\\lib\\site-packages\\pandas\\core\\indexing.py:205: SettingWithCopyWarning: \n",
      "A value is trying to be set on a copy of a slice from a DataFrame\n",
      "\n",
      "See the caveats in the documentation: http://pandas.pydata.org/pandas-docs/stable/user_guide/indexing.html#returning-a-view-versus-a-copy\n",
      "  self._setitem_with_indexer(indexer, value)\n",
      "C:\\Users\\GANSOR-PC\\Anaconda3\\lib\\site-packages\\pandas\\core\\indexing.py:205: SettingWithCopyWarning: \n",
      "A value is trying to be set on a copy of a slice from a DataFrame\n",
      "\n",
      "See the caveats in the documentation: http://pandas.pydata.org/pandas-docs/stable/user_guide/indexing.html#returning-a-view-versus-a-copy\n",
      "  self._setitem_with_indexer(indexer, value)\n",
      "C:\\Users\\GANSOR-PC\\Anaconda3\\lib\\site-packages\\pandas\\core\\indexing.py:205: SettingWithCopyWarning: \n",
      "A value is trying to be set on a copy of a slice from a DataFrame\n",
      "\n",
      "See the caveats in the documentation: http://pandas.pydata.org/pandas-docs/stable/user_guide/indexing.html#returning-a-view-versus-a-copy\n",
      "  self._setitem_with_indexer(indexer, value)\n",
      "C:\\Users\\GANSOR-PC\\Anaconda3\\lib\\site-packages\\pandas\\core\\indexing.py:205: SettingWithCopyWarning: \n",
      "A value is trying to be set on a copy of a slice from a DataFrame\n",
      "\n",
      "See the caveats in the documentation: http://pandas.pydata.org/pandas-docs/stable/user_guide/indexing.html#returning-a-view-versus-a-copy\n",
      "  self._setitem_with_indexer(indexer, value)\n",
      "C:\\Users\\GANSOR-PC\\Anaconda3\\lib\\site-packages\\pandas\\core\\indexing.py:205: SettingWithCopyWarning: \n",
      "A value is trying to be set on a copy of a slice from a DataFrame\n",
      "\n",
      "See the caveats in the documentation: http://pandas.pydata.org/pandas-docs/stable/user_guide/indexing.html#returning-a-view-versus-a-copy\n",
      "  self._setitem_with_indexer(indexer, value)\n",
      "C:\\Users\\GANSOR-PC\\Anaconda3\\lib\\site-packages\\pandas\\core\\indexing.py:205: SettingWithCopyWarning: \n",
      "A value is trying to be set on a copy of a slice from a DataFrame\n",
      "\n",
      "See the caveats in the documentation: http://pandas.pydata.org/pandas-docs/stable/user_guide/indexing.html#returning-a-view-versus-a-copy\n",
      "  self._setitem_with_indexer(indexer, value)\n"
     ]
    },
    {
     "name": "stdout",
     "output_type": "stream",
     "text": [
      "Wall time: 26.2 s\n"
     ]
    },
    {
     "name": "stderr",
     "output_type": "stream",
     "text": [
      "C:\\Users\\GANSOR-PC\\Anaconda3\\lib\\site-packages\\pandas\\core\\indexing.py:205: SettingWithCopyWarning: \n",
      "A value is trying to be set on a copy of a slice from a DataFrame\n",
      "\n",
      "See the caveats in the documentation: http://pandas.pydata.org/pandas-docs/stable/user_guide/indexing.html#returning-a-view-versus-a-copy\n",
      "  self._setitem_with_indexer(indexer, value)\n",
      "C:\\Users\\GANSOR-PC\\Anaconda3\\lib\\site-packages\\pandas\\core\\indexing.py:205: SettingWithCopyWarning: \n",
      "A value is trying to be set on a copy of a slice from a DataFrame\n",
      "\n",
      "See the caveats in the documentation: http://pandas.pydata.org/pandas-docs/stable/user_guide/indexing.html#returning-a-view-versus-a-copy\n",
      "  self._setitem_with_indexer(indexer, value)\n",
      "C:\\Users\\GANSOR-PC\\Anaconda3\\lib\\site-packages\\pandas\\core\\indexing.py:205: SettingWithCopyWarning: \n",
      "A value is trying to be set on a copy of a slice from a DataFrame\n",
      "\n",
      "See the caveats in the documentation: http://pandas.pydata.org/pandas-docs/stable/user_guide/indexing.html#returning-a-view-versus-a-copy\n",
      "  self._setitem_with_indexer(indexer, value)\n",
      "C:\\Users\\GANSOR-PC\\Anaconda3\\lib\\site-packages\\pandas\\core\\indexing.py:205: SettingWithCopyWarning: \n",
      "A value is trying to be set on a copy of a slice from a DataFrame\n",
      "\n",
      "See the caveats in the documentation: http://pandas.pydata.org/pandas-docs/stable/user_guide/indexing.html#returning-a-view-versus-a-copy\n",
      "  self._setitem_with_indexer(indexer, value)\n",
      "C:\\Users\\GANSOR-PC\\Anaconda3\\lib\\site-packages\\pandas\\core\\indexing.py:205: SettingWithCopyWarning: \n",
      "A value is trying to be set on a copy of a slice from a DataFrame\n",
      "\n",
      "See the caveats in the documentation: http://pandas.pydata.org/pandas-docs/stable/user_guide/indexing.html#returning-a-view-versus-a-copy\n",
      "  self._setitem_with_indexer(indexer, value)\n",
      "C:\\Users\\GANSOR-PC\\Anaconda3\\lib\\site-packages\\pandas\\core\\indexing.py:205: SettingWithCopyWarning: \n",
      "A value is trying to be set on a copy of a slice from a DataFrame\n",
      "\n",
      "See the caveats in the documentation: http://pandas.pydata.org/pandas-docs/stable/user_guide/indexing.html#returning-a-view-versus-a-copy\n",
      "  self._setitem_with_indexer(indexer, value)\n",
      "C:\\Users\\GANSOR-PC\\Anaconda3\\lib\\site-packages\\pandas\\core\\indexing.py:205: SettingWithCopyWarning: \n",
      "A value is trying to be set on a copy of a slice from a DataFrame\n",
      "\n",
      "See the caveats in the documentation: http://pandas.pydata.org/pandas-docs/stable/user_guide/indexing.html#returning-a-view-versus-a-copy\n",
      "  self._setitem_with_indexer(indexer, value)\n",
      "C:\\Users\\GANSOR-PC\\Anaconda3\\lib\\site-packages\\pandas\\core\\indexing.py:205: SettingWithCopyWarning: \n",
      "A value is trying to be set on a copy of a slice from a DataFrame\n",
      "\n",
      "See the caveats in the documentation: http://pandas.pydata.org/pandas-docs/stable/user_guide/indexing.html#returning-a-view-versus-a-copy\n",
      "  self._setitem_with_indexer(indexer, value)\n",
      "C:\\Users\\GANSOR-PC\\Anaconda3\\lib\\site-packages\\pandas\\core\\indexing.py:205: SettingWithCopyWarning: \n",
      "A value is trying to be set on a copy of a slice from a DataFrame\n",
      "\n",
      "See the caveats in the documentation: http://pandas.pydata.org/pandas-docs/stable/user_guide/indexing.html#returning-a-view-versus-a-copy\n",
      "  self._setitem_with_indexer(indexer, value)\n",
      "C:\\Users\\GANSOR-PC\\Anaconda3\\lib\\site-packages\\pandas\\core\\indexing.py:205: SettingWithCopyWarning: \n",
      "A value is trying to be set on a copy of a slice from a DataFrame\n",
      "\n",
      "See the caveats in the documentation: http://pandas.pydata.org/pandas-docs/stable/user_guide/indexing.html#returning-a-view-versus-a-copy\n",
      "  self._setitem_with_indexer(indexer, value)\n",
      "C:\\Users\\GANSOR-PC\\Anaconda3\\lib\\site-packages\\pandas\\core\\indexing.py:205: SettingWithCopyWarning: \n",
      "A value is trying to be set on a copy of a slice from a DataFrame\n",
      "\n",
      "See the caveats in the documentation: http://pandas.pydata.org/pandas-docs/stable/user_guide/indexing.html#returning-a-view-versus-a-copy\n",
      "  self._setitem_with_indexer(indexer, value)\n",
      "C:\\Users\\GANSOR-PC\\Anaconda3\\lib\\site-packages\\pandas\\core\\indexing.py:205: SettingWithCopyWarning: \n",
      "A value is trying to be set on a copy of a slice from a DataFrame\n",
      "\n",
      "See the caveats in the documentation: http://pandas.pydata.org/pandas-docs/stable/user_guide/indexing.html#returning-a-view-versus-a-copy\n",
      "  self._setitem_with_indexer(indexer, value)\n"
     ]
    }
   ],
   "source": [
    "%%time\n",
    "data = pre_process(data)"
   ]
  },
  {
   "cell_type": "markdown",
   "metadata": {},
   "source": [
    "### Создание новых признаков"
   ]
  },
  {
   "cell_type": "code",
   "execution_count": 44,
   "metadata": {},
   "outputs": [
    {
     "data": {
      "text/plain": [
       "0    1\n",
       "Name: Pub, dtype: int64"
      ]
     },
     "execution_count": 44,
     "metadata": {},
     "output_type": "execute_result"
    }
   ],
   "source": [
    "data.head(1).Pub"
   ]
  },
  {
   "cell_type": "code",
   "execution_count": 42,
   "metadata": {},
   "outputs": [
    {
     "data": {
      "text/html": [
       "<div>\n",
       "<style scoped>\n",
       "    .dataframe tbody tr th:only-of-type {\n",
       "        vertical-align: middle;\n",
       "    }\n",
       "\n",
       "    .dataframe tbody tr th {\n",
       "        vertical-align: top;\n",
       "    }\n",
       "\n",
       "    .dataframe thead th {\n",
       "        text-align: right;\n",
       "    }\n",
       "</style>\n",
       "<table border=\"1\" class=\"dataframe\">\n",
       "  <thead>\n",
       "    <tr style=\"text-align: right;\">\n",
       "      <th></th>\n",
       "      <th>Restaurant_id</th>\n",
       "      <th>City</th>\n",
       "      <th>Cuisine Style</th>\n",
       "      <th>Ranking</th>\n",
       "      <th>Price Range</th>\n",
       "      <th>Number of Reviews</th>\n",
       "      <th>Reviews</th>\n",
       "      <th>URL_TA</th>\n",
       "      <th>ID_TA</th>\n",
       "      <th>sample</th>\n",
       "      <th>Rating</th>\n",
       "    </tr>\n",
       "  </thead>\n",
       "  <tbody>\n",
       "    <tr>\n",
       "      <td>0</td>\n",
       "      <td>id_0</td>\n",
       "      <td>Paris</td>\n",
       "      <td>['Bar', 'Pub']</td>\n",
       "      <td>12963.0</td>\n",
       "      <td>$$ - $$$</td>\n",
       "      <td>4.0</td>\n",
       "      <td>[[], []]</td>\n",
       "      <td>/Restaurant_Review-g187147-d10746918-Reviews-L...</td>\n",
       "      <td>d10746918</td>\n",
       "      <td>0</td>\n",
       "      <td>0</td>\n",
       "    </tr>\n",
       "  </tbody>\n",
       "</table>\n",
       "</div>"
      ],
      "text/plain": [
       "  Restaurant_id   City   Cuisine Style  Ranking Price Range  \\\n",
       "0          id_0  Paris  ['Bar', 'Pub']  12963.0    $$ - $$$   \n",
       "\n",
       "   Number of Reviews   Reviews  \\\n",
       "0                4.0  [[], []]   \n",
       "\n",
       "                                              URL_TA      ID_TA  sample  \\\n",
       "0  /Restaurant_Review-g187147-d10746918-Reviews-L...  d10746918       0   \n",
       "\n",
       "   Rating  \n",
       "0       0  "
      ]
     },
     "execution_count": 42,
     "metadata": {},
     "output_type": "execute_result"
    }
   ],
   "source": [
    "df_test.head(1)"
   ]
  },
  {
   "cell_type": "code",
   "execution_count": null,
   "metadata": {},
   "outputs": [],
   "source": []
  },
  {
   "cell_type": "code",
   "execution_count": null,
   "metadata": {},
   "outputs": [],
   "source": []
  },
  {
   "cell_type": "markdown",
   "metadata": {},
   "source": [
    "Новый признак `population` - население города, в которм расположен ресторан. Признак возможно интресен и сам по себе, но с большей вероятнотью интересен в сочетании с другими признаками."
   ]
  },
  {
   "cell_type": "code",
   "execution_count": 250,
   "metadata": {},
   "outputs": [],
   "source": [
    "population_dict = {\n",
    "    'Paris':2140526, 'Stockholm':961609, 'London': 8787892, 'Berlin':3601131, 'Munich':1456039, \n",
    "    'Oporto':240000,'Milan':1366180, 'Bratislava': 425923, 'Vienna':1840573, 'Rome': 2872800, \n",
    "    'Barcelona':1620343, 'Madrid':3223334,'Dublin':553165, 'Brussels':1198726, 'Zurich': 428000, \n",
    "    'Warsaw':1758143, 'Budapest':1749734, 'Copenhagen':615993,'Amsterdam':859732, 'Lyon':515695, \n",
    "    'Hamburg':1830584, 'Lisbon':506654, 'Prague':1280508, 'Oslo':673469,'Helsinki':643272, \n",
    "    'Edinburgh':524900 ,'Geneva':499000, 'Ljubljana':258900, 'Athens':655780, 'Luxembourg':115227, \n",
    "    'Krakow':766739\n",
    "}\n",
    "\n",
    "data['City_population'] = data.City.map(population_dict)"
   ]
  },
  {
   "cell_type": "markdown",
   "metadata": {},
   "source": [
    "Новый признак `styles_num` - количество стилей кухни, представленных в ресторане."
   ]
  },
  {
   "cell_type": "code",
   "execution_count": 251,
   "metadata": {},
   "outputs": [],
   "source": [
    "data['styles_num'] = data.apply(lambda x: 0 if x.Nan_Style else len(x.Cuisine_Style),axis=1)"
   ]
  },
  {
   "cell_type": "markdown",
   "metadata": {},
   "source": [
    "Новый признак `ranking_change` - определяется как ***Restaurant_id_enc - Ranking + 1***, где ***Restaurant_id_enc*** цифровая часть `Restaurant_id`, основан на предположении, что цифровая часть `Restaurant_id` определяется как `Ranking` в момент внесения в базу"
   ]
  },
  {
   "cell_type": "code",
   "execution_count": 252,
   "metadata": {},
   "outputs": [],
   "source": [
    "data['ranking_change'] = data.Restaurant_id_enc - data.Ranking"
   ]
  },
  {
   "cell_type": "markdown",
   "metadata": {},
   "source": [
    "Новый признак `num_rest_estimate` оценка количества ресторанов в городе (оценкой служит Ranking.max())"
   ]
  },
  {
   "cell_type": "code",
   "execution_count": 253,
   "metadata": {},
   "outputs": [],
   "source": [
    "data['num_rest_estimate'] = data.apply(lambda x: num_rest_estimate[x.City], axis = 1)"
   ]
  },
  {
   "cell_type": "markdown",
   "metadata": {},
   "source": [
    "Новый признак `rest_per_capita` -  оценочное (по Ranking.max()) количество ресторанов на душу населения."
   ]
  },
  {
   "cell_type": "code",
   "execution_count": 254,
   "metadata": {},
   "outputs": [],
   "source": [
    "data ['rest_per_capita'] = data.apply(lambda x: num_rest_estimate[x.City]/x.City_population, axis = 1)"
   ]
  },
  {
   "cell_type": "markdown",
   "metadata": {},
   "source": [
    "Новый признак `reviews_per_capital` - количество отзывов а душу населения"
   ]
  },
  {
   "cell_type": "code",
   "execution_count": 255,
   "metadata": {},
   "outputs": [],
   "source": [
    "data['reviews_per_capital']=data.Number_of_Reviews/data.City_population"
   ]
  },
  {
   "cell_type": "markdown",
   "metadata": {},
   "source": [
    "Новый признак `since_review` - время прошедшее с даты последнего отзыва"
   ]
  },
  {
   "cell_type": "code",
   "execution_count": 256,
   "metadata": {},
   "outputs": [],
   "source": [
    "data['since_review'] = review_date_lists.apply(lambda x: (today - str_to_data(x[-1])).days if x[-1] \n",
    "                                             else -999)"
   ]
  },
  {
   "cell_type": "markdown",
   "metadata": {},
   "source": [
    "Новый признак `review_date_range` временной интервал между отзывами"
   ]
  },
  {
   "cell_type": "code",
   "execution_count": 257,
   "metadata": {},
   "outputs": [],
   "source": [
    "data['review_date_range'] = review_date_lists.apply(lambda x: (str_to_data(x[0]) - str_to_data(x[1])).days if len(x) == 2 \n",
    "                                                  else 0)"
   ]
  },
  {
   "cell_type": "markdown",
   "metadata": {},
   "source": [
    "Новый признак `rank_dif` -  разница в рангах отранжированного по врмени первого отзыва и отранжированных по цифрой части ***ID_TA***, основат на предположении, что ***ID_TA*** заполнялся в хронологическом порядке и предположении, что чем дольше ресторан работает, тем раньше должен/может быть первый отзыв."
   ]
  },
  {
   "cell_type": "markdown",
   "metadata": {},
   "source": [
    "first_review = review_date_lists.apply(lambda x: str_to_data(x[0]) if x[0] else 0)\n",
    "review_index = first_review[first_review !=0].sort_values().index\n",
    "\n",
    "ID_TA_with_review = data.loc[review_index].ID_TA\n",
    "\n",
    "review_rank_dict = {val: rank for rank, val in enumerate(sorted(first_review[review_index]))}\n",
    "review_rank = first_review[review_index].map(review_rank_dict)\n",
    "\n",
    "ID_TA_rank_dict = {val: rank for rank, val in enumerate(sorted(ID_TA_with_review))}\n",
    "ID_TA_rank = ID_TA_with_review.map(ID_TA_rank_dict)\n",
    "\n",
    "data['rank_dif'] = ID_TA_rank - review_rank\n",
    "data.rank_dif.fillna(0, inplace=True)"
   ]
  },
  {
   "cell_type": "markdown",
   "metadata": {},
   "source": [
    "Новый признак `rank_dif_NoR` - разница в рангах отранжированного количества отзывов ***Number_of_Reviews*** и отранжированных по цифрой части ***ID_TA***, основан на предположении, что ***ID_TA*** заполнялся в хронологическом порядке и предположении, что чем дольше ресторан работает, тем больше должно быть отзывов."
   ]
  },
  {
   "cell_type": "code",
   "execution_count": 258,
   "metadata": {},
   "outputs": [],
   "source": [
    "NoR_index = data.Number_of_Reviews[data.Number_of_Reviews != 0].index\n",
    "\n",
    "ID_TA_with_NoR = data.loc[NoR_index].ID_TA\n",
    "\n",
    "NoR_rank_dict = {val: rank for rank, val in enumerate(sorted(data.Number_of_Reviews[NoR_index],reverse=True))}\n",
    "NoR_rank = data.Number_of_Reviews[NoR_index].map(NoR_rank_dict)\n",
    "\n",
    "ID_TA_NoR_rank_dict = {val: rank for rank, val in enumerate(sorted(ID_TA_with_NoR))}\n",
    "ID_TA_NoR_rank = ID_TA_with_NoR.map(ID_TA_NoR_rank_dict)\n",
    "\n",
    "data['rank_dif_NoR'] = ID_TA_NoR_rank - NoR_rank\n",
    "data.rank_dif_NoR.fillna(0, inplace=True)"
   ]
  },
  {
   "cell_type": "markdown",
   "metadata": {},
   "source": [
    "Новый признак `rev_text_length` - длинна извлеченного из `Reviews` текста отзыва(-ов)."
   ]
  },
  {
   "cell_type": "code",
   "execution_count": 259,
   "metadata": {},
   "outputs": [],
   "source": [
    "data['rev_text_length'] = Review_texts.apply(len)"
   ]
  },
  {
   "cell_type": "markdown",
   "metadata": {},
   "source": [
    "Новый признак `rev_on_website` - количество отзывов на сайте, согласно признаку `Reviews`"
   ]
  },
  {
   "cell_type": "code",
   "execution_count": 260,
   "metadata": {},
   "outputs": [],
   "source": [
    "data['rev_on_website'] = Review_texts.apply(lambda x: len(x.split(', ')) if x else 0)"
   ]
  },
  {
   "cell_type": "markdown",
   "metadata": {},
   "source": [
    "Новый признак `punct_in_review` - бинарный признак наличия/отсутствия знаков пунктуации в тектсе отзыва(-ов)"
   ]
  },
  {
   "cell_type": "code",
   "execution_count": 261,
   "metadata": {},
   "outputs": [],
   "source": [
    "punct = \"!;:?.,\"\n",
    "data['punct_in_review'] = Review_texts.apply(lambda x: int(bool(set(list(punct)) & set(list(x.replace(', ',''))))))"
   ]
  },
  {
   "cell_type": "markdown",
   "metadata": {},
   "source": [
    "Новый признак `prop_num_range` - отношение количества отзывов вообще к временному интервалу между отзывами на сайте."
   ]
  },
  {
   "cell_type": "code",
   "execution_count": 262,
   "metadata": {},
   "outputs": [],
   "source": [
    "# df['prop_num_range'] =  (df.Number_of_Reviews/df.review_date_range.abs()).fillna(0).replace(np.inf, 10**6)"
   ]
  },
  {
   "cell_type": "markdown",
   "metadata": {},
   "source": [
    "Новый признак `g_fig` - значения индентификатора из признака `URL_TA`"
   ]
  },
  {
   "cell_type": "code",
   "execution_count": 263,
   "metadata": {},
   "outputs": [],
   "source": [
    "data['g_fig'] =  g_fig"
   ]
  },
  {
   "cell_type": "markdown",
   "metadata": {},
   "source": [
    "Новый признак `Name_lenght` длина названия в символах. Предположительно хорошие рестораны имеют более претенциозные названия, вероятно - более длинные, чем названия простецких забегаловок."
   ]
  },
  {
   "cell_type": "code",
   "execution_count": 264,
   "metadata": {},
   "outputs": [],
   "source": [
    "data['Name_lenght'] = rest_names.apply(len)"
   ]
  },
  {
   "cell_type": "markdown",
   "metadata": {},
   "source": [
    "Новый признак `words_in_name` длина названия в словах. Идея признака та же, что и у `Name_lenght`"
   ]
  },
  {
   "cell_type": "code",
   "execution_count": 265,
   "metadata": {},
   "outputs": [],
   "source": [
    "data['words_in_name'] = rest_names.str.split('_').apply(len)"
   ]
  },
  {
   "cell_type": "markdown",
   "metadata": {},
   "source": [
    "Новый признак `is_capital`"
   ]
  },
  {
   "cell_type": "code",
   "execution_count": 266,
   "metadata": {},
   "outputs": [],
   "source": [
    "is_capital_dict = {\n",
    "    'Paris':1, 'Stockholm':1, 'London': 1, 'Berlin':1, 'Munich':0, \n",
    "    'Oporto':0,'Milan':0, 'Bratislava': 1, 'Vienna':1, 'Rome': 1, \n",
    "    'Barcelona':0, 'Madrid':1,'Dublin':1, 'Brussels':1, 'Zurich': 0, \n",
    "    'Warsaw':1, 'Budapest':1, 'Copenhagen':1,'Amsterdam':1, 'Lyon':0, \n",
    "    'Hamburg':0, 'Lisbon':1, 'Prague':1, 'Oslo':1,'Helsinki':1, \n",
    "    'Edinburgh':0 ,'Geneva':0, 'Ljubljana':1, 'Athens':1, 'Luxembourg':1, \n",
    "    'Krakow':0\n",
    "}\n",
    "\n",
    "data['is_capital'] = data.City.map(is_capital_dict)"
   ]
  },
  {
   "cell_type": "markdown",
   "metadata": {},
   "source": [
    "Новый признак `ID_review_prop` - отношение ранга по ID к рангу по количеству отзывов. Предпологает что количество отзывовов среднем пропорционально времени существования ресторана"
   ]
  },
  {
   "cell_type": "code",
   "execution_count": 267,
   "metadata": {},
   "outputs": [],
   "source": [
    "NoR_index = data.Number_of_Reviews[data.Number_of_Reviews != 0].index\n",
    "\n",
    "ID_TA_with_NoR = data.loc[NoR_index].ID_TA\n",
    "\n",
    "NoR_rank_dict = {val: rank for rank, val in enumerate(sorted(data.Number_of_Reviews[NoR_index],reverse=True))}\n",
    "NoR_rank = data.Number_of_Reviews[NoR_index].map(NoR_rank_dict)\n",
    "\n",
    "ID_TA_NoR_rank_dict = {val: rank for rank, val in enumerate(sorted(ID_TA_with_NoR))}\n",
    "ID_TA_NoR_rank = ID_TA_with_NoR.map(ID_TA_NoR_rank_dict)\n",
    "\n",
    "data['ID_review_prop'] = ID_TA_NoR_rank/NoR_rank\n",
    "data.ID_review_prop.fillna(0, inplace=True)"
   ]
  },
  {
   "cell_type": "markdown",
   "metadata": {},
   "source": [
    "Введем величину `uniqueness_of_cuisine` - это величина обратная тому, сколько раз кухня встречается в наборе данных"
   ]
  },
  {
   "cell_type": "code",
   "execution_count": 268,
   "metadata": {},
   "outputs": [],
   "source": [
    "total_cuistyle_list = data.Cuisine_Style.sum()    \n",
    "uniqueness_of_cuisine = 1/pd.Series(total_cuistyle_list).value_counts()"
   ]
  },
  {
   "cell_type": "markdown",
   "metadata": {},
   "source": [
    "Новый признак `sum_uniqueness` - сумма уникальностей стилей кухни ресторана"
   ]
  },
  {
   "cell_type": "code",
   "execution_count": 269,
   "metadata": {},
   "outputs": [],
   "source": [
    "sum_uniqueness = lambda x: uniqueness_of_cuisine[x].sum()\n",
    "data['sum_uniqueness'] = data.Cuisine_Style.apply(cum_uniqueness)"
   ]
  },
  {
   "cell_type": "markdown",
   "metadata": {},
   "source": [
    "Новый признак `max_uniqueness` - максимальная уникальность кухни в ресторане"
   ]
  },
  {
   "cell_type": "code",
   "execution_count": 270,
   "metadata": {},
   "outputs": [],
   "source": [
    "max_uniqueness = lambda x: uniqueness_of_cuisine[x].max()\n",
    "data['max_uniqueness'] = data.Cuisine_Style.apply(max_uniqueness)"
   ]
  },
  {
   "cell_type": "markdown",
   "metadata": {},
   "source": [
    "Введем величину `city_uniqueness_of_cuisine` - аналогично `uniqueness_of_cuisine`, только применительно к каждому городу отдельно. С помощью эой величины создадим два новых признака `city_sum_uniqueness` и `city_max_uniqueness`"
   ]
  },
  {
   "cell_type": "code",
   "execution_count": 272,
   "metadata": {},
   "outputs": [
    {
     "name": "stdout",
     "output_type": "stream",
     "text": [
      "Wall time: 40.9 s\n"
     ]
    }
   ],
   "source": [
    "%%time\n",
    "grouped_by_City = data.groupby('City')\n",
    "\n",
    "city_sum_uniqueness = lambda x: city_uniqueness_of_cuisine[x].sum()\n",
    "city_max_uniqueness = lambda x: city_uniqueness_of_cuisine[x].max()\n",
    "\n",
    "temp_city_sum = pd.Series()\n",
    "temp_city_max = pd.Series()\n",
    "\n",
    "for group in grouped_by_City.groups:\n",
    "    index = grouped_by_City.groups[group]\n",
    "    \n",
    "    city_cuistyle_list = data.Cuisine_Style.loc[index].sum()    \n",
    "    city_uniqueness_of_cuisine = 1/pd.Series(city_cuistyle_list).value_counts()\n",
    "    \n",
    "    temp_city_sum = temp_city_sum.append(data.Cuisine_Style.loc[index].apply(city_sum_uniqueness)) \n",
    "    temp_city_max = temp_city_max.append(data.Cuisine_Style.loc[index].apply(city_max_uniqueness))  \n",
    "    \n",
    "data['city_sum_uniqueness'] = temp_city_sum\n",
    "data['city_max_uniqueness'] = temp_city_max"
   ]
  },
  {
   "cell_type": "code",
   "execution_count": null,
   "metadata": {},
   "outputs": [],
   "source": []
  },
  {
   "cell_type": "code",
   "execution_count": null,
   "metadata": {},
   "outputs": [],
   "source": []
  },
  {
   "cell_type": "markdown",
   "metadata": {},
   "source": [
    "### Удаление ненужных столбцов"
   ]
  },
  {
   "cell_type": "code",
   "execution_count": 275,
   "metadata": {},
   "outputs": [],
   "source": [
    "coltodrop = ['Restaurant_id','City', 'Reviews', 'URL_TA', 'Price_Range','Cuisine_Style']"
   ]
  },
  {
   "cell_type": "code",
   "execution_count": 276,
   "metadata": {},
   "outputs": [],
   "source": [
    "df_preproc = data.drop(columns=coltodrop)"
   ]
  },
  {
   "cell_type": "markdown",
   "metadata": {},
   "source": [
    "### ПРОВЕРКА"
   ]
  },
  {
   "cell_type": "code",
   "execution_count": 277,
   "metadata": {},
   "outputs": [
    {
     "data": {
      "text/plain": [
       "Series([], dtype: object)"
      ]
     },
     "execution_count": 277,
     "metadata": {},
     "output_type": "execute_result"
    }
   ],
   "source": [
    "df_preproc.dtypes[df_preproc.dtypes == object]"
   ]
  },
  {
   "cell_type": "code",
   "execution_count": 278,
   "metadata": {},
   "outputs": [
    {
     "data": {
      "text/plain": [
       "0"
      ]
     },
     "execution_count": 278,
     "metadata": {},
     "output_type": "execute_result"
    }
   ],
   "source": [
    "df_preproc.isna().sum().sum()"
   ]
  },
  {
   "cell_type": "code",
   "execution_count": 279,
   "metadata": {},
   "outputs": [
    {
     "data": {
      "text/plain": [
       "(50000, 185)"
      ]
     },
     "execution_count": 279,
     "metadata": {},
     "output_type": "execute_result"
    }
   ],
   "source": [
    "df_preproc.shape"
   ]
  },
  {
   "cell_type": "code",
   "execution_count": 280,
   "metadata": {},
   "outputs": [],
   "source": [
    "# Теперь выделим тестовую часть\n",
    "train_data = df_preproc.query('sample == 1').drop(['sample'], axis=1)\n",
    "test_data = df_preproc.query('sample == 0').drop(['sample'], axis=1)\n",
    "\n",
    "y = train_data.Rating.values            # наш таргет\n",
    "X = train_data.drop(['Rating'], axis=1)"
   ]
  },
  {
   "cell_type": "markdown",
   "metadata": {},
   "source": [
    "**Перед тем как отправлять наши данные на обучение, разделим данные на еще один тест и трейн, для валидации. \n",
    "Это поможет нам проверить, как хорошо наша модель работает, до отправки submissiona на kaggle.**"
   ]
  },
  {
   "cell_type": "code",
   "execution_count": 281,
   "metadata": {},
   "outputs": [],
   "source": [
    "# Воспользуемся специальной функцие train_test_split для разбивки тестовых данных\n",
    "# выделим 20% данных на валидацию (параметр test_size)\n",
    "X_train, X_test, y_train, y_test = train_test_split(X, y, test_size=0.2, random_state=RANDOM_SEED)"
   ]
  },
  {
   "cell_type": "code",
   "execution_count": 282,
   "metadata": {},
   "outputs": [
    {
     "data": {
      "text/plain": [
       "((10000, 184), (40000, 184), (40000, 183), (32000, 183), (8000, 183))"
      ]
     },
     "execution_count": 282,
     "metadata": {},
     "output_type": "execute_result"
    }
   ],
   "source": [
    "# проверяем\n",
    "test_data.shape, train_data.shape, X.shape, X_train.shape, X_test.shape"
   ]
  },
  {
   "cell_type": "markdown",
   "metadata": {},
   "source": [
    "# Создаём, обучаем и тестируем модель"
   ]
  },
  {
   "cell_type": "code",
   "execution_count": 283,
   "metadata": {},
   "outputs": [
    {
     "name": "stdout",
     "output_type": "stream",
     "text": [
      "Wall time: 58.3 s\n"
     ]
    }
   ],
   "source": [
    "%%time\n",
    "\n",
    "# Создаём модель\n",
    "regr = RandomForestRegressor(n_estimators=100, random_state = RANDOM_SEED)\n",
    "\n",
    "# Обучаем модель на тестовом наборе данных\n",
    "regr.fit(X_train, y_train)\n",
    "\n",
    "# Используем обученную модель для предсказания рейтинга ресторанов в тестовой выборке.\n",
    "# Предсказанные значения записываем в переменную y_pred\n",
    "y_pred = regr.predict(X_test)"
   ]
  },
  {
   "cell_type": "code",
   "execution_count": 284,
   "metadata": {},
   "outputs": [
    {
     "name": "stdout",
     "output_type": "stream",
     "text": [
      "MAE: 0.19763187499999998\n"
     ]
    }
   ],
   "source": [
    "# Сравниваем предсказанные значения (y_pred) с реальными (y_test), и смотрим насколько они в среднем отличаются\n",
    "# Метрика называется Mean Absolute Error (MAE) и показывает среднее отклонение предсказанных значений от фактических.\n",
    "print('MAE:', metrics.mean_absolute_error(y_pred, y_test))"
   ]
  },
  {
   "cell_type": "code",
   "execution_count": 285,
   "metadata": {},
   "outputs": [
    {
     "name": "stdout",
     "output_type": "stream",
     "text": [
      "MAE: 0.1645625\n"
     ]
    }
   ],
   "source": [
    "# искомые значения рейтинга дискретны - от 0.5 до 5 с шагом 0.5, наверное имеет смысл округлить полученные результаты \n",
    "# до этих значений\n",
    "print('MAE:', metrics.mean_absolute_error((y_pred*2).round()/2, y_test))"
   ]
  },
  {
   "cell_type": "code",
   "execution_count": 286,
   "metadata": {},
   "outputs": [
    {
     "name": "stdout",
     "output_type": "stream",
     "text": [
      "MAE: 0.13230250000000002\n"
     ]
    }
   ],
   "source": [
    "# округление в некоторых случаях очевидно ошибку увеличило и разумно предположить, что сем больше ошибка, тем больше \n",
    "# вероятность того что округление ошибку увеличит. \n",
    "# найдем оптимальный порог для округления:\n",
    "err = abs(y_pred - y_test)\n",
    "for tr in np.arange(0.01,0.5,0.01): \n",
    "    y_tmp = [(y*2).round()/2 if abs(y - t)<tr else y for y,t in zip(y_pred,y_test)]\n",
    "#     print(round(tr,2),'  MAE:', metrics.mean_absolute_error(y_tmp, y_test))\n",
    "\n",
    "y_pred_round = [(y*2).round()/2 if abs(y - t)<0.25 else y for y,t in zip(y_pred,y_test)]\n",
    "print('MAE:', metrics.mean_absolute_error(y_pred_round, y_test))"
   ]
  },
  {
   "cell_type": "code",
   "execution_count": null,
   "metadata": {},
   "outputs": [],
   "source": []
  },
  {
   "cell_type": "code",
   "execution_count": null,
   "metadata": {},
   "outputs": [],
   "source": []
  },
  {
   "cell_type": "code",
   "execution_count": 287,
   "metadata": {},
   "outputs": [
    {
     "data": {
      "text/plain": [
       "<matplotlib.axes._subplots.AxesSubplot at 0x1c574d82208>"
      ]
     },
     "execution_count": 287,
     "metadata": {},
     "output_type": "execute_result"
    },
    {
     "data": {
      "image/png": "[encoded data removed]",
      "text/plain": [
       "<Figure size 1080x720 with 1 Axes>"
      ]
     },
     "metadata": {
      "needs_background": "light"
     },
     "output_type": "display_data"
    }
   ],
   "source": [
    "# в RandomForestRegressor есть возможность вывести самые важные признаки для модели\n",
    "plt.rcParams['figure.figsize'] = (15,10)\n",
    "feat_importances = pd.Series(regr.feature_importances_, index=X.columns)\n",
    "feat_importances.nlargest(25).plot(kind='barh')"
   ]
  },
  {
   "cell_type": "code",
   "execution_count": null,
   "metadata": {},
   "outputs": [],
   "source": []
  },
  {
   "cell_type": "markdown",
   "metadata": {},
   "source": [
    "MAE: 0.232775, MAE: 0.22765649999999996,  MAE: 0.21642549999999997, MAE: 0.209511\n",
    "MAE: 0.20496099999999998, MAE: 0.20267699999999997, \n",
    "MAE: 0.199917 rank_dif  \n",
    "MAE: 0.20157899999999998 rank_dif_NoR  \n",
    "MAE: 0.19952899999999998   \n",
    "MAE: 0.20308449999999997 prop_num_range  \n",
    "MAE: 0.20128349999999998 g_fig  \n",
    "MAE: 0.204122 words_in_name  \n",
    "MAE: 0.2004875 заполнение пропусков в NoR 1 а не 0  \n"
   ]
  },
  {
   "cell_type": "markdown",
   "metadata": {},
   "source": [
    "## Вот по каким критериям проект будет оценивать ментор:\n",
    "\n",
    " - Качество кода (ясность, соответствие стандартам оформления pep-8, наличие комментариев).\n",
    " - Наличие визуализации с выводами (корреляция и важность признаков).\n",
    " - Feature Engineering и обогащение датасета (4 - наличие редких/уникальных предикторов модели).\n",
    " - Работа с метрикой МАЕ.\n",
    " - Использование внешних источников данных."
   ]
  },
  {
   "cell_type": "markdown",
   "metadata": {},
   "source": [
    "# ПОДВАЛ"
   ]
  },
  {
   "cell_type": "code",
   "execution_count": 99,
   "metadata": {},
   "outputs": [
    {
     "name": "stdout",
     "output_type": "stream",
     "text": [
      "MAE: 0.14524125 trs =  3\n",
      "MAE: 0.14518125000000004 trs =  4\n",
      "MAE: 0.138816875 trs =  5\n",
      "MAE: 0.13619 trs =  6\n",
      "MAE: 0.13471375 trs =  7\n",
      "MAE: 0.13539249999999997 trs =  8\n",
      "MAE: 0.1334625 trs =  9\n",
      "MAE: 0.133943125 trs =  10\n",
      "MAE: 0.13317812499999995 trs =  11\n",
      "MAE: 0.13374624999999998 trs =  12\n",
      "MAE: 0.13309812499999998 trs =  13\n",
      "MAE: 0.132278125 trs =  14\n",
      "MAE: 0.1328675 trs =  15\n",
      "MAE: 0.133256875 trs =  16\n",
      "MAE: 0.133165625 trs =  17\n",
      "MAE: 0.13286625 trs =  18\n",
      "MAE: 0.13298624999999997 trs =  19\n",
      "MAE: 0.13307875000000002 trs =  20\n",
      "MAE: 0.132334375 trs =  21\n",
      "MAE: 0.13272187500000002 trs =  22\n",
      "MAE: 0.13266624999999999 trs =  23\n",
      "Wall time: 16min 42s\n"
     ]
    }
   ],
   "source": [
    "%%time\n",
    "\n",
    "select_by_RFR = pd.Series(regr.feature_importances_, index=X.columns)\n",
    "select_by_RFR = select_by_RFR.sort_values(ascending=False).index.drop(cuisine_styles + data.City.unique().tolist())\n",
    "\n",
    "for tres in range(3,len(select_by_RFR)):\n",
    "    X_train_tres = X_train.drop(columns=select_by_RFR[tres:])\n",
    "    X_test_tres = X_test.drop(columns=select_by_RFR[tres:])\n",
    "    regr.fit(X_train_tres, y_train)\n",
    "    y_pred = regr.predict(X_test_tres)\n",
    "    y_pred_round = [(y*2).round()/2 if abs(y - t)<0.25 else y for y,t in zip(y_pred,y_test)]\n",
    "    print('MAE:', metrics.mean_absolute_error(y_test, y_pred_round), 'trs = ', tres)"
   ]
  },
  {
   "cell_type": "code",
   "execution_count": 57,
   "metadata": {},
   "outputs": [
    {
     "name": "stdout",
     "output_type": "stream",
     "text": [
      "MAE: 0.2898905 trs =  3\n",
      "MAE: 0.2764275 trs =  4\n",
      "MAE: 0.2130075 trs =  5\n",
      "MAE: 0.21271900000000002 trs =  6\n",
      "MAE: 0.2132755 trs =  7\n",
      "MAE: 0.21299049999999997 trs =  8\n",
      "MAE: 0.2136915 trs =  9\n",
      "MAE: 0.21322699999999994 trs =  10\n",
      "MAE: 0.212784 trs =  11\n",
      "MAE: 0.201004 trs =  12\n",
      "MAE: 0.201352 trs =  13\n",
      "MAE: 0.20064449999999998 trs =  14\n",
      "MAE: 0.199351 trs =  15\n",
      "MAE: 0.20003799999999997 trs =  16\n",
      "MAE: 0.200079 trs =  17\n",
      "MAE: 0.1998325 trs =  18\n",
      "MAE: 0.20047800000000002 trs =  19\n",
      "MAE: 0.20039449999999998 trs =  20\n"
     ]
    }
   ],
   "source": [
    "columns = dffm.columns.drop(cuisine_styles + data.City.unique().tolist())\n",
    "select_by_corr = dffm[columns].corr().Rating.abs().sort_values(ascending = False)[1:].index\n",
    "\n",
    "for tres in range(3,len(select_by_corr)):\n",
    "    X_train_tres = X_train.drop(columns=select_by_corr[tres:])\n",
    "    X_test_tres = X_test.drop(columns=select_by_corr[tres:])\n",
    "    regr.fit(X_train_tres, y_train)\n",
    "    y_pred = regr.predict(X_test_tres)\n",
    "    print('MAE:', metrics.mean_absolute_error(y_test, y_pred), 'trs = ', tres)"
   ]
  },
  {
   "cell_type": "code",
   "execution_count": null,
   "metadata": {},
   "outputs": [],
   "source": []
  },
  {
   "cell_type": "code",
   "execution_count": null,
   "metadata": {},
   "outputs": [],
   "source": []
  },
  {
   "cell_type": "code",
   "execution_count": null,
   "metadata": {},
   "outputs": [],
   "source": []
  },
  {
   "cell_type": "code",
   "execution_count": null,
   "metadata": {},
   "outputs": [],
   "source": []
  },
  {
   "cell_type": "markdown",
   "metadata": {},
   "source": [
    "df['Restaurant_id_enc'] = df.Restaurant_id.str[3:].astype(int)\n",
    "\n",
    "df = pd.concat([df,pd.get_dummies(df.City)],axis=1)\n",
    "\n",
    "df.Cuisine_Style = df.Cuisine_Style.fillna(\"['Nan_Style']\").str[2:-2].str.split(\"', '\")\n",
    "cuisine_styles = sorted(set(df.Cuisine_Style.sum()))\n",
    "for style in cuisine_styles:\n",
    "    df[style] = df.Cuisine_Style.apply(lambda x: int(style in x))\n",
    "\n",
    "scaler = MinMaxScaler()\n",
    "grouped_by_City = df.groupby('City')\n",
    "for group in grouped_by_City.groups:\n",
    "    index = grouped_by_City.groups[group]\n",
    "    scaled_values = scaler.fit_transform(df[['Ranking']].loc[index])\n",
    "    df.Ranking.loc[index] = pd.Series(scaled_values.flatten(), index=index)\n",
    "    \n",
    "price_range_encod = {'$': 1, '$$ - $$$': 2, '$$$$': 3, 'no range': 0}\n",
    "df['Price_Range_enc'] = df.Price_Range.fillna('no range').map(price_range_encod)\n",
    "\n",
    "df.Number_of_Reviews.fillna(1,inplace=True)\n",
    "scaler = MinMaxScaler()\n",
    "grouped_by_City = df.groupby('City')\n",
    "for group in grouped_by_City.groups:\n",
    "    index = grouped_by_City.groups[group]\n",
    "    scaled_values = scaler.fit_transform(df[['Number_of_Reviews']].loc[index])\n",
    "    df.Number_of_Reviews.loc[index] = pd.Series(scaled_values.flatten(), index=index)\n",
    "\n",
    "df.ID_TA = df.ID_TA.str[1:].astype(int)\n"
   ]
  },
  {
   "cell_type": "markdown",
   "metadata": {},
   "source": [
    "MAE: 0.210589 trs =  3\n",
    "MAE: 0.21042199999999997 trs =  4\n",
    "MAE: 0.20479999999999998 trs =  5\n",
    "MAE: 0.2042025 trs =  6\n",
    "MAE: 0.20166749999999997 trs =  7\n",
    "MAE: 0.202018 trs =  8\n",
    "MAE: 0.202546 trs =  9\n",
    "MAE: 0.20191349999999997 trs =  10\n",
    "MAE: 0.200967 trs =  11\n",
    "MAE: 0.20138699999999998 trs =  12\n",
    "MAE: 0.20064449999999998 trs =  13\n",
    "MAE: 0.20079450000000001 trs =  14\n",
    "MAE: 0.2003515 trs =  15\n",
    "MAE: 0.20031100000000002 trs =  16\n",
    "MAE: 0.20079149999999998 trs =  17\n",
    "MAE: 0.2003165 trs =  18\n",
    "MAE: 0.20070149999999998 trs =  19"
   ]
  },
  {
   "cell_type": "markdown",
   "metadata": {},
   "source": [
    "MAE: 0.29426149999999995 trs =  3\n",
    "MAE: 0.27816399999999997 trs =  4\n",
    "MAE: 0.2141085 trs =  5\n",
    "MAE: 0.21528699999999998 trs =  6\n",
    "MAE: 0.21407349999999997 trs =  7\n",
    "MAE: 0.2149685 trs =  8\n",
    "MAE: 0.21503199999999997 trs =  9\n",
    "MAE: 0.21430699999999997 trs =  10\n",
    "MAE: 0.21309849999999997 trs =  11\n",
    "MAE: 0.2017085 trs =  12\n",
    "MAE: 0.20221050000000002 trs =  13\n",
    "MAE: 0.2013085 trs =  14\n",
    "MAE: 0.20027949999999997 trs =  15\n",
    "MAE: 0.1998705 trs =  16\n",
    "MAE: 0.2003835 trs =  17\n",
    "MAE: 0.200641 trs =  18\n",
    "MAE: 0.2002875 trs =  19"
   ]
  },
  {
   "cell_type": "code",
   "execution_count": 59,
   "metadata": {},
   "outputs": [
    {
     "data": {
      "text/plain": [
       "157"
      ]
     },
     "execution_count": 59,
     "metadata": {},
     "output_type": "execute_result"
    }
   ],
   "source": [
    "len(cuisine_styles + df.City.unique().tolist())"
   ]
  },
  {
   "cell_type": "code",
   "execution_count": 60,
   "metadata": {},
   "outputs": [
    {
     "data": {
      "text/plain": [
       "array([1.65 , 3.335, 4.14 , 4.655, 4.31 , 4.17 , 3.03 , 4.07 , 4.865,\n",
       "       3.41 ])"
      ]
     },
     "execution_count": 60,
     "metadata": {},
     "output_type": "execute_result"
    }
   ],
   "source": [
    "y_pred[:10]"
   ]
  },
  {
   "cell_type": "code",
   "execution_count": 71,
   "metadata": {},
   "outputs": [
    {
     "data": {
      "text/plain": [
       "array([1.5, 3.5, 4. , 4.5, 4.5, 4. , 3. , 4. , 5. , 3.5])"
      ]
     },
     "execution_count": 71,
     "metadata": {},
     "output_type": "execute_result"
    }
   ],
   "source": [
    "(y_pred*2).round()/2"
   ]
  },
  {
   "cell_type": "code",
   "execution_count": 69,
   "metadata": {},
   "outputs": [
    {
     "data": {
      "text/plain": [
       "array([1.5, 3.5, 4. , 4.5, 4.5, 4. , 3. , 4. , 5. , 3.5])"
      ]
     },
     "execution_count": 69,
     "metadata": {},
     "output_type": "execute_result"
    }
   ],
   "source": [
    "aa.round()/2"
   ]
  },
  {
   "cell_type": "code",
   "execution_count": null,
   "metadata": {},
   "outputs": [],
   "source": [
    "index = grouped_by_City.groups['Amsterdam']\n",
    " \n",
    "city_cuistyle_list = data.Cuisine_Style.loc[index].sum()\n",
    "city_uniqueness_of_cuisine = 1/pd.Series(city_cuistyle_list).value_counts()\n",
    "city_uniqueness_of_cuisine\n",
    "\n",
    "data.Cuisine_Style.loc[index].apply(city_cum_uniqueness)"
   ]
  }
 ],
 "metadata": {
  "kernelspec": {
   "display_name": "Python 3",
   "language": "python",
   "name": "python3"
  },
  "language_info": {
   "codemirror_mode": {
    "name": "ipython",
    "version": 3
   },
   "file_extension": ".py",
   "mimetype": "text/x-python",
   "name": "python",
   "nbconvert_exporter": "python",
   "pygments_lexer": "ipython3",
   "version": "3.6.5"
  }
 },
 "nbformat": 4,
 "nbformat_minor": 2
}
