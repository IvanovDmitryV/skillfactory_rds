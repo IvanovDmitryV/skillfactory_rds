{
 "cells": [
  {
   "cell_type": "code",
   "execution_count": 4,
   "metadata": {},
   "outputs": [],
   "source": [
    "import pandas as pd\n",
    "import numpy as np\n",
    "import json  \n",
    "from pprint import pprint  "
   ]
  },
  {
   "cell_type": "code",
   "execution_count": null,
   "metadata": {},
   "outputs": [],
   "source": []
  },
  {
   "cell_type": "code",
   "execution_count": 5,
   "metadata": {},
   "outputs": [],
   "source": [
    "with open('./Unit3_data/recipes.json') as f:\n",
    "   recipes = json.load(f)"
   ]
  },
  {
   "cell_type": "code",
   "execution_count": 4,
   "metadata": {},
   "outputs": [
    {
     "name": "stdout",
     "output_type": "stream",
     "text": [
      "[{'cuisine': 'greek',\n",
      "  'id': 10259,\n",
      "  'ingredients': ['romaine lettuce',\n",
      "                  'black olives',\n",
      "                  'grape tomatoes',\n",
      "                  'garlic',\n",
      "                  'pepper',\n",
      "                  'purple onion',\n",
      "                  'seasoning',\n",
      "                  'garbanzo beans',\n",
      "                  'feta cheese crumbles']},\n",
      " {'cuisine': 'southern_us',\n",
      "  'id': 25693,\n",
      "  'ingredients': ['plain flour',\n",
      "                  'ground pepper',\n",
      "                  'salt',\n",
      "                  'tomatoes',\n",
      "                  'ground black pepper',\n",
      "                  'thyme',\n",
      "                  'eggs',\n",
      "                  'green tomatoes',\n",
      "                  'yellow corn meal',\n",
      "                  'milk',\n",
      "                  'vegetable oil']}]\n"
     ]
    }
   ],
   "source": [
    "pprint(recipes[:2])"
   ]
  },
  {
   "cell_type": "code",
   "execution_count": 5,
   "metadata": {},
   "outputs": [],
   "source": [
    "#*************************************************************************************"
   ]
  },
  {
   "cell_type": "markdown",
   "metadata": {},
   "source": [
    "## 13.1 Формат JSON\n",
    "### Задание 2\n",
    "Рецепты скольких блюд содержатся в recipes?"
   ]
  },
  {
   "cell_type": "code",
   "execution_count": 6,
   "metadata": {},
   "outputs": [
    {
     "data": {
      "text/plain": [
       "500"
      ]
     },
     "execution_count": 6,
     "metadata": {},
     "output_type": "execute_result"
    }
   ],
   "source": [
    "len(recipes)"
   ]
  },
  {
   "cell_type": "markdown",
   "metadata": {},
   "source": [
    "## 13.2 Извлекаем данные из JSON\n",
    "### Задание 1\n",
    "Какую кухню (ключ 'cuisine') представляет последнее блюдо в списке recipes?"
   ]
  },
  {
   "cell_type": "code",
   "execution_count": 8,
   "metadata": {},
   "outputs": [
    {
     "data": {
      "text/plain": [
       "'british'"
      ]
     },
     "execution_count": 8,
     "metadata": {},
     "output_type": "execute_result"
    }
   ],
   "source": [
    "recipes[-1]['cuisine']"
   ]
  },
  {
   "cell_type": "markdown",
   "metadata": {},
   "source": [
    "### Задание 2\n",
    "Сколько ингредиентов входит в состав этого блюда?"
   ]
  },
  {
   "cell_type": "code",
   "execution_count": 12,
   "metadata": {},
   "outputs": [
    {
     "data": {
      "text/plain": [
       "17"
      ]
     },
     "execution_count": 12,
     "metadata": {},
     "output_type": "execute_result"
    }
   ],
   "source": [
    "len(recipes[-1]['ingredients'])"
   ]
  },
  {
   "cell_type": "markdown",
   "metadata": {},
   "source": [
    "### Задание 3\n",
    "Какие из перечисленных ингредиентов присутствуют в блюде с id = 17636?"
   ]
  },
  {
   "cell_type": "code",
   "execution_count": 29,
   "metadata": {},
   "outputs": [
    {
     "name": "stdout",
     "output_type": "stream",
     "text": [
      "['chopped green bell pepper',\n",
      " 'chopped onion',\n",
      " 'english muffins, split and toasted',\n",
      " 'italian seasoning',\n",
      " 'part-skim mozzarella cheese',\n",
      " 'shredded carrots',\n",
      " 'spinach',\n",
      " 'tomato sauce',\n",
      " 'vegetable oil cooking spray']\n"
     ]
    }
   ],
   "source": [
    "ident = 17636\n",
    "\n",
    "for recp in recipes:\n",
    "    if recp['id'] == ident: \n",
    "        pprint(sorted(recp['ingredients']))\n",
    "        break"
   ]
  },
  {
   "cell_type": "markdown",
   "metadata": {},
   "source": [
    "### Задание 4\n",
    "Сколько ингредиентов входит в состав рецепта для приготовления блюда с id = 42013?"
   ]
  },
  {
   "cell_type": "code",
   "execution_count": 19,
   "metadata": {},
   "outputs": [
    {
     "name": "stdout",
     "output_type": "stream",
     "text": [
      "14\n"
     ]
    }
   ],
   "source": [
    "ident = 42013\n",
    "\n",
    "for recp in recipes:\n",
    "    if recp['id'] == ident:\n",
    "        print(len(recp['ingredients']))\n",
    "        break"
   ]
  },
  {
   "cell_type": "markdown",
   "metadata": {},
   "source": [
    "### Задание 5\n",
    "Какие ингредиенты отсутствуют в блюде с id = 23629?\n",
    "\n",
    "eggs  \n",
    "black beans  \n",
    "black olives  \n",
    "dry vermouth  \n",
    "chicken livers  \n",
    "olive oil  "
   ]
  },
  {
   "cell_type": "code",
   "execution_count": 27,
   "metadata": {},
   "outputs": [
    {
     "name": "stdout",
     "output_type": "stream",
     "text": [
      "dry vermouth\n",
      "chicken livers\n",
      "olive oil\n"
     ]
    }
   ],
   "source": [
    "ident = 23629\n",
    "ingr_for_check = ['eggs',\n",
    "                  'black beans',\n",
    "                  'black olives',\n",
    "                  'dry vermouth',\n",
    "                  'chicken livers',\n",
    "                  'olive oil']\n",
    "\n",
    "for recp in recipes:\n",
    "    if recp['id'] == ident: \n",
    "        for ingr in ingr_for_check:\n",
    "            if ingr not in recp['ingredients']:\n",
    "                print(ingr)\n",
    "        break"
   ]
  },
  {
   "cell_type": "markdown",
   "metadata": {},
   "source": [
    "## 13.3 Группировка данных\n",
    "### Задание 1\n",
    "Сколько ингредиентов включено в состав всех блюд, описанных в наборе данных?\n",
    "Подсказка: Обратите внимание, что для добавления в список или множество нового ингредиента вам нужно будет организовать перебор ингредиентов каждого блюда в отдельном вложенном цикле."
   ]
  },
  {
   "cell_type": "code",
   "execution_count": 96,
   "metadata": {},
   "outputs": [
    {
     "data": {
      "text/plain": [
       "1318"
      ]
     },
     "execution_count": 96,
     "metadata": {},
     "output_type": "execute_result"
    }
   ],
   "source": [
    "ingredients = set()\n",
    "\n",
    "for recp in recipes:\n",
    "    ingredients.update(recp['ingredients'])\n",
    "len(ingredients)"
   ]
  },
  {
   "cell_type": "markdown",
   "metadata": {},
   "source": [
    "### Задание 2\n",
    "Сколько ингредиентов встречается в рецептах блюд итальянской кухни ('cuisine' = italian)?"
   ]
  },
  {
   "cell_type": "code",
   "execution_count": 45,
   "metadata": {},
   "outputs": [
    {
     "data": {
      "text/plain": [
       "406"
      ]
     },
     "execution_count": 45,
     "metadata": {},
     "output_type": "execute_result"
    }
   ],
   "source": [
    "ingredients_total = set()\n",
    "\n",
    "for recp in recipes:\n",
    "    if recp['cuisine'] == 'italian': ingredients_total.update(recp['ingredients'])\n",
    "len(ingredients_total)"
   ]
  },
  {
   "cell_type": "markdown",
   "metadata": {},
   "source": [
    "### Задание 3\n",
    "Какие ингредиенты не встречаются в рецептах блюд русской кухни ('cuisine' = 'russian')?  \n",
    "bacon  \n",
    "bread slices  \n",
    "buttermilk  \n",
    "red beets  \n",
    "mozzarella cheese  \n",
    "carrots  "
   ]
  },
  {
   "cell_type": "code",
   "execution_count": 57,
   "metadata": {},
   "outputs": [
    {
     "data": {
      "text/plain": [
       "{'bacon', 'carrots', 'bread slices'}"
      ]
     },
     "execution_count": 57,
     "metadata": {},
     "output_type": "execute_result"
    }
   ],
   "source": [
    "ingr_for_check = set(['bacon',\n",
    "                      'bread slices',\n",
    "                      'buttermilk',\n",
    "                      'red beets',\n",
    "                      'mozzarella cheese',\n",
    "                      'carrots'])\n",
    "\n",
    "russian_ingr = set()\n",
    "for recp in recipes:\n",
    "    if recp['cuisine'] == 'russian': russian_ingr.update(recp['ingredients'])\n",
    "\n",
    "ingr_for_check - russian_ingr\n"
   ]
  },
  {
   "cell_type": "markdown",
   "metadata": {},
   "source": [
    "### Задание 4\n",
    "Какие ингредиенты входят в состав более чем 20% блюд, представленных в наборе данных?\n",
    "\n",
    "Подсказка: Напоминаем, что весь набор данных содержит сведения о 500 блюдах."
   ]
  },
  {
   "cell_type": "code",
   "execution_count": 74,
   "metadata": {},
   "outputs": [
    {
     "name": "stdout",
     "output_type": "stream",
     "text": [
      "garlic\n",
      "salt\n"
     ]
    }
   ],
   "source": [
    "from collections import Counter\n",
    "\n",
    "treshold = 500 * 0.2\n",
    "ingr_counts = Counter()\n",
    "\n",
    "for recp in recipes:\n",
    "    ingr_counts += Counter(recp['ingredients'])\n",
    "    \n",
    "for ingr in ingr_counts: \n",
    "    if ingr_counts[ingr] > treshold:\n",
    "        print(ingr)\n",
    "    "
   ]
  },
  {
   "cell_type": "markdown",
   "metadata": {},
   "source": [
    "### Задание 5\n",
    "Какой ингредиент входит в состав самого большого количества блюд?"
   ]
  },
  {
   "cell_type": "code",
   "execution_count": 79,
   "metadata": {},
   "outputs": [
    {
     "data": {
      "text/plain": [
       "[('salt', 217)]"
      ]
     },
     "execution_count": 79,
     "metadata": {},
     "output_type": "execute_result"
    }
   ],
   "source": [
    "ingr_counts.most_common(1)"
   ]
  },
  {
   "cell_type": "markdown",
   "metadata": {},
   "source": [
    "### Задание 6\n",
    "Сколько ингредиентов входит в состав только одного блюда?"
   ]
  },
  {
   "cell_type": "code",
   "execution_count": 87,
   "metadata": {},
   "outputs": [
    {
     "data": {
      "text/plain": [
       "684"
      ]
     },
     "execution_count": 87,
     "metadata": {},
     "output_type": "execute_result"
    }
   ],
   "source": [
    "only_one = 0\n",
    "\n",
    "for _, count in ingr_counts.most_common(): only_one += count == 1\n",
    "    \n",
    "only_one"
   ]
  },
  {
   "cell_type": "markdown",
   "metadata": {},
   "source": [
    "### 13.4 Создание датафрейма на основе JSON-файла"
   ]
  },
  {
   "cell_type": "code",
   "execution_count": 101,
   "metadata": {},
   "outputs": [],
   "source": [
    "df = pd.DataFrame(recipes)"
   ]
  },
  {
   "cell_type": "code",
   "execution_count": 102,
   "metadata": {},
   "outputs": [
    {
     "data": {
      "text/html": [
       "<div>\n",
       "<style scoped>\n",
       "    .dataframe tbody tr th:only-of-type {\n",
       "        vertical-align: middle;\n",
       "    }\n",
       "\n",
       "    .dataframe tbody tr th {\n",
       "        vertical-align: top;\n",
       "    }\n",
       "\n",
       "    .dataframe thead th {\n",
       "        text-align: right;\n",
       "    }\n",
       "</style>\n",
       "<table border=\"1\" class=\"dataframe\">\n",
       "  <thead>\n",
       "    <tr style=\"text-align: right;\">\n",
       "      <th></th>\n",
       "      <th>cuisine</th>\n",
       "      <th>id</th>\n",
       "      <th>ingredients</th>\n",
       "    </tr>\n",
       "  </thead>\n",
       "  <tbody>\n",
       "    <tr>\n",
       "      <th>0</th>\n",
       "      <td>greek</td>\n",
       "      <td>10259</td>\n",
       "      <td>[romaine lettuce, black olives, grape tomatoes...</td>\n",
       "    </tr>\n",
       "    <tr>\n",
       "      <th>1</th>\n",
       "      <td>southern_us</td>\n",
       "      <td>25693</td>\n",
       "      <td>[plain flour, ground pepper, salt, tomatoes, g...</td>\n",
       "    </tr>\n",
       "    <tr>\n",
       "      <th>2</th>\n",
       "      <td>filipino</td>\n",
       "      <td>20130</td>\n",
       "      <td>[eggs, pepper, salt, mayonaise, cooking oil, g...</td>\n",
       "    </tr>\n",
       "    <tr>\n",
       "      <th>3</th>\n",
       "      <td>indian</td>\n",
       "      <td>22213</td>\n",
       "      <td>[water, vegetable oil, wheat, salt]</td>\n",
       "    </tr>\n",
       "    <tr>\n",
       "      <th>4</th>\n",
       "      <td>indian</td>\n",
       "      <td>13162</td>\n",
       "      <td>[black pepper, shallots, cornflour, cayenne pe...</td>\n",
       "    </tr>\n",
       "  </tbody>\n",
       "</table>\n",
       "</div>"
      ],
      "text/plain": [
       "       cuisine     id                                        ingredients\n",
       "0        greek  10259  [romaine lettuce, black olives, grape tomatoes...\n",
       "1  southern_us  25693  [plain flour, ground pepper, salt, tomatoes, g...\n",
       "2     filipino  20130  [eggs, pepper, salt, mayonaise, cooking oil, g...\n",
       "3       indian  22213                [water, vegetable oil, wheat, salt]\n",
       "4       indian  13162  [black pepper, shallots, cornflour, cayenne pe..."
      ]
     },
     "execution_count": 102,
     "metadata": {},
     "output_type": "execute_result"
    }
   ],
   "source": [
    "df.head()"
   ]
  },
  {
   "cell_type": "markdown",
   "metadata": {},
   "source": [
    "### skillfactory вариант"
   ]
  },
  {
   "cell_type": "code",
   "execution_count": 103,
   "metadata": {},
   "outputs": [],
   "source": [
    "def find_item(cell):\n",
    "    if item in cell:\n",
    "        return 1\n",
    "    return 0"
   ]
  },
  {
   "cell_type": "code",
   "execution_count": 104,
   "metadata": {},
   "outputs": [
    {
     "name": "stdout",
     "output_type": "stream",
     "text": [
      "Wall time: 1.5 s\n"
     ]
    }
   ],
   "source": [
    "%%time\n",
    "\n",
    "for item in ingredients:\n",
    "    df[item] = df['ingredients'].apply(find_item)\n",
    "    \n",
    "df['ingredients'] = df['ingredients'].apply(lambda x: len(x))"
   ]
  },
  {
   "cell_type": "code",
   "execution_count": 105,
   "metadata": {},
   "outputs": [
    {
     "data": {
      "text/html": [
       "<div>\n",
       "<style scoped>\n",
       "    .dataframe tbody tr th:only-of-type {\n",
       "        vertical-align: middle;\n",
       "    }\n",
       "\n",
       "    .dataframe tbody tr th {\n",
       "        vertical-align: top;\n",
       "    }\n",
       "\n",
       "    .dataframe thead th {\n",
       "        text-align: right;\n",
       "    }\n",
       "</style>\n",
       "<table border=\"1\" class=\"dataframe\">\n",
       "  <thead>\n",
       "    <tr style=\"text-align: right;\">\n",
       "      <th></th>\n",
       "      <th>cuisine</th>\n",
       "      <th>id</th>\n",
       "      <th>ingredients</th>\n",
       "      <th>pitted kalamata olives</th>\n",
       "      <th>miso paste</th>\n",
       "      <th>kefalotyri</th>\n",
       "      <th>scallions</th>\n",
       "      <th>hazelnuts</th>\n",
       "      <th>wide rice noodles</th>\n",
       "      <th>chorizo sausage</th>\n",
       "      <th>...</th>\n",
       "      <th>bread slices</th>\n",
       "      <th>goji berries</th>\n",
       "      <th>ground pepper</th>\n",
       "      <th>bertolli vineyard premium collect marinara with burgundi wine sauc</th>\n",
       "      <th>minced ginger</th>\n",
       "      <th>cornflour</th>\n",
       "      <th>crushed garlic</th>\n",
       "      <th>blueberri preserv</th>\n",
       "      <th>yellow peppers</th>\n",
       "      <th>pork ribs</th>\n",
       "    </tr>\n",
       "  </thead>\n",
       "  <tbody>\n",
       "    <tr>\n",
       "      <th>0</th>\n",
       "      <td>greek</td>\n",
       "      <td>10259</td>\n",
       "      <td>9</td>\n",
       "      <td>0</td>\n",
       "      <td>0</td>\n",
       "      <td>0</td>\n",
       "      <td>0</td>\n",
       "      <td>0</td>\n",
       "      <td>0</td>\n",
       "      <td>0</td>\n",
       "      <td>...</td>\n",
       "      <td>0</td>\n",
       "      <td>0</td>\n",
       "      <td>0</td>\n",
       "      <td>0</td>\n",
       "      <td>0</td>\n",
       "      <td>0</td>\n",
       "      <td>0</td>\n",
       "      <td>0</td>\n",
       "      <td>0</td>\n",
       "      <td>0</td>\n",
       "    </tr>\n",
       "    <tr>\n",
       "      <th>1</th>\n",
       "      <td>southern_us</td>\n",
       "      <td>25693</td>\n",
       "      <td>11</td>\n",
       "      <td>0</td>\n",
       "      <td>0</td>\n",
       "      <td>0</td>\n",
       "      <td>0</td>\n",
       "      <td>0</td>\n",
       "      <td>0</td>\n",
       "      <td>0</td>\n",
       "      <td>...</td>\n",
       "      <td>0</td>\n",
       "      <td>0</td>\n",
       "      <td>1</td>\n",
       "      <td>0</td>\n",
       "      <td>0</td>\n",
       "      <td>0</td>\n",
       "      <td>0</td>\n",
       "      <td>0</td>\n",
       "      <td>0</td>\n",
       "      <td>0</td>\n",
       "    </tr>\n",
       "    <tr>\n",
       "      <th>2</th>\n",
       "      <td>filipino</td>\n",
       "      <td>20130</td>\n",
       "      <td>12</td>\n",
       "      <td>0</td>\n",
       "      <td>0</td>\n",
       "      <td>0</td>\n",
       "      <td>0</td>\n",
       "      <td>0</td>\n",
       "      <td>0</td>\n",
       "      <td>0</td>\n",
       "      <td>...</td>\n",
       "      <td>0</td>\n",
       "      <td>0</td>\n",
       "      <td>0</td>\n",
       "      <td>0</td>\n",
       "      <td>0</td>\n",
       "      <td>0</td>\n",
       "      <td>0</td>\n",
       "      <td>0</td>\n",
       "      <td>0</td>\n",
       "      <td>0</td>\n",
       "    </tr>\n",
       "    <tr>\n",
       "      <th>3</th>\n",
       "      <td>indian</td>\n",
       "      <td>22213</td>\n",
       "      <td>4</td>\n",
       "      <td>0</td>\n",
       "      <td>0</td>\n",
       "      <td>0</td>\n",
       "      <td>0</td>\n",
       "      <td>0</td>\n",
       "      <td>0</td>\n",
       "      <td>0</td>\n",
       "      <td>...</td>\n",
       "      <td>0</td>\n",
       "      <td>0</td>\n",
       "      <td>0</td>\n",
       "      <td>0</td>\n",
       "      <td>0</td>\n",
       "      <td>0</td>\n",
       "      <td>0</td>\n",
       "      <td>0</td>\n",
       "      <td>0</td>\n",
       "      <td>0</td>\n",
       "    </tr>\n",
       "    <tr>\n",
       "      <th>4</th>\n",
       "      <td>indian</td>\n",
       "      <td>13162</td>\n",
       "      <td>20</td>\n",
       "      <td>0</td>\n",
       "      <td>0</td>\n",
       "      <td>0</td>\n",
       "      <td>0</td>\n",
       "      <td>0</td>\n",
       "      <td>0</td>\n",
       "      <td>0</td>\n",
       "      <td>...</td>\n",
       "      <td>0</td>\n",
       "      <td>0</td>\n",
       "      <td>0</td>\n",
       "      <td>0</td>\n",
       "      <td>0</td>\n",
       "      <td>1</td>\n",
       "      <td>0</td>\n",
       "      <td>0</td>\n",
       "      <td>0</td>\n",
       "      <td>0</td>\n",
       "    </tr>\n",
       "  </tbody>\n",
       "</table>\n",
       "<p>5 rows × 1321 columns</p>\n",
       "</div>"
      ],
      "text/plain": [
       "       cuisine     id  ingredients  pitted kalamata olives  miso paste  \\\n",
       "0        greek  10259            9                       0           0   \n",
       "1  southern_us  25693           11                       0           0   \n",
       "2     filipino  20130           12                       0           0   \n",
       "3       indian  22213            4                       0           0   \n",
       "4       indian  13162           20                       0           0   \n",
       "\n",
       "   kefalotyri  scallions  hazelnuts  wide rice noodles  chorizo sausage  \\\n",
       "0           0          0          0                  0                0   \n",
       "1           0          0          0                  0                0   \n",
       "2           0          0          0                  0                0   \n",
       "3           0          0          0                  0                0   \n",
       "4           0          0          0                  0                0   \n",
       "\n",
       "     ...      bread slices  goji berries  ground pepper  \\\n",
       "0    ...                 0             0              0   \n",
       "1    ...                 0             0              1   \n",
       "2    ...                 0             0              0   \n",
       "3    ...                 0             0              0   \n",
       "4    ...                 0             0              0   \n",
       "\n",
       "   bertolli vineyard premium collect marinara with burgundi wine sauc  \\\n",
       "0                                                  0                    \n",
       "1                                                  0                    \n",
       "2                                                  0                    \n",
       "3                                                  0                    \n",
       "4                                                  0                    \n",
       "\n",
       "   minced ginger  cornflour  crushed garlic  blueberri preserv  \\\n",
       "0              0          0               0                  0   \n",
       "1              0          0               0                  0   \n",
       "2              0          0               0                  0   \n",
       "3              0          0               0                  0   \n",
       "4              0          1               0                  0   \n",
       "\n",
       "   yellow peppers  pork ribs  \n",
       "0               0          0  \n",
       "1               0          0  \n",
       "2               0          0  \n",
       "3               0          0  \n",
       "4               0          0  \n",
       "\n",
       "[5 rows x 1321 columns]"
      ]
     },
     "execution_count": 105,
     "metadata": {},
     "output_type": "execute_result"
    }
   ],
   "source": [
    "df.head()\n"
   ]
  },
  {
   "cell_type": "markdown",
   "metadata": {},
   "source": [
    "### Задание 6\n",
    "Объедините все действия, начиная с чтения файла в JSON-формате (recipes.json) и заканчивая созданием итогового датафрейма, в единый код. Загрузите весь код в поле для ответа. Импорт библиотек в поле для ответа загружать не нужно.\n",
    "\n",
    "Используйте множество (set) для хранения названий ингредиентов блюд.\n",
    "\n",
    "Полученный в результате работы кода датафрейм должен иметь имя df."
   ]
  },
  {
   "cell_type": "code",
   "execution_count": 118,
   "metadata": {},
   "outputs": [
    {
     "name": "stdout",
     "output_type": "stream",
     "text": [
      "1.56 s ± 74.6 ms per loop (mean ± std. dev. of 7 runs, 1 loop each)\n"
     ]
    }
   ],
   "source": [
    "%%timeit\n",
    "\n",
    "def find_item(cell):\n",
    "    if item in cell:\n",
    "        return 1\n",
    "    return 0\n",
    "\n",
    "with open('./Unit3_data/recipes.json') as f:\n",
    "   recipes = json.load(f)\n",
    "\n",
    "ingredients = set()\n",
    "\n",
    "for recipe in recipes: ingredients.update(recipe['ingredients'])\n",
    "\n",
    "df = pd.DataFrame(recipes)\n",
    "\n",
    "for item in ingredients:\n",
    "    df[item] = df['ingredients'].apply(find_item)\n",
    "    \n",
    "df['ingredients'] = df['ingredients'].apply(lambda x: len(x))"
   ]
  },
  {
   "cell_type": "code",
   "execution_count": 3,
   "metadata": {},
   "outputs": [],
   "source": [
    "with open('./Unit3_data/recipes.json') as f:\n",
    "    recipes = json.load(f)\n",
    "ingredients = set()\n",
    "for recipe in recipes: ingredients.update(recipe['ingredients'])\n",
    "df = pd.DataFrame(recipes)\n",
    "for item in ingredients:\n",
    "    df[item] = df['ingredients'].apply(lambda x: int(item in x))  \n",
    "df['ingredients'] = df['ingredients'].apply(lambda x: len(x))"
   ]
  },
  {
   "cell_type": "code",
   "execution_count": 4,
   "metadata": {},
   "outputs": [
    {
     "data": {
      "text/html": [
       "<div>\n",
       "<style scoped>\n",
       "    .dataframe tbody tr th:only-of-type {\n",
       "        vertical-align: middle;\n",
       "    }\n",
       "\n",
       "    .dataframe tbody tr th {\n",
       "        vertical-align: top;\n",
       "    }\n",
       "\n",
       "    .dataframe thead th {\n",
       "        text-align: right;\n",
       "    }\n",
       "</style>\n",
       "<table border=\"1\" class=\"dataframe\">\n",
       "  <thead>\n",
       "    <tr style=\"text-align: right;\">\n",
       "      <th></th>\n",
       "      <th>cuisine</th>\n",
       "      <th>id</th>\n",
       "      <th>ingredients</th>\n",
       "      <th>monterey jack</th>\n",
       "      <th>orange</th>\n",
       "      <th>basil</th>\n",
       "      <th>blackberries</th>\n",
       "      <th>large egg yolks</th>\n",
       "      <th>beans</th>\n",
       "      <th>beef steak</th>\n",
       "      <th>...</th>\n",
       "      <th>liquorice</th>\n",
       "      <th>tequila</th>\n",
       "      <th>white cornmeal</th>\n",
       "      <th>jeera</th>\n",
       "      <th>chile pepper</th>\n",
       "      <th>extra-lean ground beef</th>\n",
       "      <th>mayonaise</th>\n",
       "      <th>garlic chili sauce</th>\n",
       "      <th>black bean sauce</th>\n",
       "      <th>unsalted dry roast peanuts</th>\n",
       "    </tr>\n",
       "  </thead>\n",
       "  <tbody>\n",
       "    <tr>\n",
       "      <th>0</th>\n",
       "      <td>greek</td>\n",
       "      <td>10259</td>\n",
       "      <td>9</td>\n",
       "      <td>0</td>\n",
       "      <td>0</td>\n",
       "      <td>0</td>\n",
       "      <td>0</td>\n",
       "      <td>0</td>\n",
       "      <td>0</td>\n",
       "      <td>0</td>\n",
       "      <td>...</td>\n",
       "      <td>0</td>\n",
       "      <td>0</td>\n",
       "      <td>0</td>\n",
       "      <td>0</td>\n",
       "      <td>0</td>\n",
       "      <td>0</td>\n",
       "      <td>0</td>\n",
       "      <td>0</td>\n",
       "      <td>0</td>\n",
       "      <td>0</td>\n",
       "    </tr>\n",
       "    <tr>\n",
       "      <th>1</th>\n",
       "      <td>southern_us</td>\n",
       "      <td>25693</td>\n",
       "      <td>11</td>\n",
       "      <td>0</td>\n",
       "      <td>0</td>\n",
       "      <td>0</td>\n",
       "      <td>0</td>\n",
       "      <td>0</td>\n",
       "      <td>0</td>\n",
       "      <td>0</td>\n",
       "      <td>...</td>\n",
       "      <td>0</td>\n",
       "      <td>0</td>\n",
       "      <td>0</td>\n",
       "      <td>0</td>\n",
       "      <td>0</td>\n",
       "      <td>0</td>\n",
       "      <td>0</td>\n",
       "      <td>0</td>\n",
       "      <td>0</td>\n",
       "      <td>0</td>\n",
       "    </tr>\n",
       "    <tr>\n",
       "      <th>2</th>\n",
       "      <td>filipino</td>\n",
       "      <td>20130</td>\n",
       "      <td>12</td>\n",
       "      <td>0</td>\n",
       "      <td>0</td>\n",
       "      <td>0</td>\n",
       "      <td>0</td>\n",
       "      <td>0</td>\n",
       "      <td>0</td>\n",
       "      <td>0</td>\n",
       "      <td>...</td>\n",
       "      <td>0</td>\n",
       "      <td>0</td>\n",
       "      <td>0</td>\n",
       "      <td>0</td>\n",
       "      <td>0</td>\n",
       "      <td>0</td>\n",
       "      <td>1</td>\n",
       "      <td>0</td>\n",
       "      <td>0</td>\n",
       "      <td>0</td>\n",
       "    </tr>\n",
       "    <tr>\n",
       "      <th>3</th>\n",
       "      <td>indian</td>\n",
       "      <td>22213</td>\n",
       "      <td>4</td>\n",
       "      <td>0</td>\n",
       "      <td>0</td>\n",
       "      <td>0</td>\n",
       "      <td>0</td>\n",
       "      <td>0</td>\n",
       "      <td>0</td>\n",
       "      <td>0</td>\n",
       "      <td>...</td>\n",
       "      <td>0</td>\n",
       "      <td>0</td>\n",
       "      <td>0</td>\n",
       "      <td>0</td>\n",
       "      <td>0</td>\n",
       "      <td>0</td>\n",
       "      <td>0</td>\n",
       "      <td>0</td>\n",
       "      <td>0</td>\n",
       "      <td>0</td>\n",
       "    </tr>\n",
       "    <tr>\n",
       "      <th>4</th>\n",
       "      <td>indian</td>\n",
       "      <td>13162</td>\n",
       "      <td>20</td>\n",
       "      <td>0</td>\n",
       "      <td>0</td>\n",
       "      <td>0</td>\n",
       "      <td>0</td>\n",
       "      <td>0</td>\n",
       "      <td>0</td>\n",
       "      <td>0</td>\n",
       "      <td>...</td>\n",
       "      <td>0</td>\n",
       "      <td>0</td>\n",
       "      <td>0</td>\n",
       "      <td>0</td>\n",
       "      <td>0</td>\n",
       "      <td>0</td>\n",
       "      <td>0</td>\n",
       "      <td>0</td>\n",
       "      <td>0</td>\n",
       "      <td>0</td>\n",
       "    </tr>\n",
       "  </tbody>\n",
       "</table>\n",
       "<p>5 rows × 1321 columns</p>\n",
       "</div>"
      ],
      "text/plain": [
       "       cuisine     id  ingredients  monterey jack  orange  basil  \\\n",
       "0        greek  10259            9              0       0      0   \n",
       "1  southern_us  25693           11              0       0      0   \n",
       "2     filipino  20130           12              0       0      0   \n",
       "3       indian  22213            4              0       0      0   \n",
       "4       indian  13162           20              0       0      0   \n",
       "\n",
       "   blackberries  large egg yolks  beans  beef steak  \\\n",
       "0             0                0      0           0   \n",
       "1             0                0      0           0   \n",
       "2             0                0      0           0   \n",
       "3             0                0      0           0   \n",
       "4             0                0      0           0   \n",
       "\n",
       "              ...              liquorice  tequila  white cornmeal  jeera  \\\n",
       "0             ...                      0        0               0      0   \n",
       "1             ...                      0        0               0      0   \n",
       "2             ...                      0        0               0      0   \n",
       "3             ...                      0        0               0      0   \n",
       "4             ...                      0        0               0      0   \n",
       "\n",
       "   chile pepper  extra-lean ground beef  mayonaise  garlic chili sauce  \\\n",
       "0             0                       0          0                   0   \n",
       "1             0                       0          0                   0   \n",
       "2             0                       0          1                   0   \n",
       "3             0                       0          0                   0   \n",
       "4             0                       0          0                   0   \n",
       "\n",
       "   black bean sauce  unsalted dry roast peanuts  \n",
       "0                 0                           0  \n",
       "1                 0                           0  \n",
       "2                 0                           0  \n",
       "3                 0                           0  \n",
       "4                 0                           0  \n",
       "\n",
       "[5 rows x 1321 columns]"
      ]
     },
     "execution_count": 4,
     "metadata": {},
     "output_type": "execute_result"
    }
   ],
   "source": [
    "df.head()"
   ]
  },
  {
   "cell_type": "code",
   "execution_count": 5,
   "metadata": {},
   "outputs": [],
   "source": [
    "df.to_csv('recipes.csv', index = False)"
   ]
  },
  {
   "cell_type": "markdown",
   "metadata": {},
   "source": [
    "## 13.5 Создание JSON-файла"
   ]
  },
  {
   "cell_type": "markdown",
   "metadata": {},
   "source": [
    "В завершающей части этого блока мы решим обратную задачу и создадим JSON-файл из CSV-файла, который получили в конце предыдущего этапа. Итак, давайте начнём с чтения файла и создания датафрейма на его основе:"
   ]
  },
  {
   "cell_type": "code",
   "execution_count": 6,
   "metadata": {},
   "outputs": [],
   "source": [
    "df = pd.read_csv('recipes.csv')"
   ]
  },
  {
   "cell_type": "markdown",
   "metadata": {},
   "source": [
    "Теперь, используя только данные из этого файла, нам нужно в точности воссоздать структуру исходного JSON-файла. Как вы помните,  после десериализации данные представляли собой список, состоящий из словарей. В каждом словаре хранилась информация о рецепте одного блюда. Каждый словарь состоял из трёх пар \"ключ-значение\". Первая пара содержала название кухни, к которой относилось блюдо, вторая — id блюда, и третья — список ингредиентов.\n",
    "\n",
    "Поскольку по условию мы не можем пользоваться предыдущими наработками, давайте начнём с создания списка, содержащего перечень ингредиентов, встречающихся в рецептах, а также списка, содержащего перечень id всех блюд. Эти списки в дальнейшем мы будем использовать для заполнения JSON-структуры."
   ]
  },
  {
   "cell_type": "markdown",
   "metadata": {},
   "source": [
    "### Задание 1\n",
    "Напишите код для создания списка id всех блюд, представленных в датафрейме.\n",
    "\n",
    "Обратите внимание на следующие моменты:\n",
    "\n",
    "1. Тип структуры, в которой должны храниться id блюд - список (list).\n",
    "2. Имя переменной, в которой будет храниьтся список - ids.\n",
    "3. Порядок id в списке не имеет значения.\n",
    "4. Код должен начинаться с чтения файла recipes.csv"
   ]
  },
  {
   "cell_type": "code",
   "execution_count": 14,
   "metadata": {},
   "outputs": [],
   "source": [
    "df = pd.read_csv('recipes.csv')\n",
    "ids = df.id.tolist()"
   ]
  },
  {
   "cell_type": "markdown",
   "metadata": {},
   "source": [
    "### Задание 2\n",
    "Напишите код для создания списка ингредиентов всех блюд, представленных в датафрейме.\n",
    "\n",
    "Обратите внимание на следующие моменты:\n",
    "\n",
    "1. Тип структуры, в которой должны храниться названия ингредиентов блюд, — список (list).\n",
    "2. Имя переменной, в которой будет храниться список, — ingredients.\n",
    "3. Порядок ингредиентов в списке не имеет значения.\n",
    "4. Код должен начинаться с чтения файла recipes.csv\n",
    "\n",
    "Подсказка: поскольку названия ингредиентов используются как названия столбцов датафрейма, вы можете воспользоваться командой df.columns для получения перечня всех названий столбцов, после чего превратить перечень в список и извлечь из него нужные данные."
   ]
  },
  {
   "cell_type": "code",
   "execution_count": 15,
   "metadata": {},
   "outputs": [],
   "source": [
    "df = pd.read_csv('recipes.csv')\n",
    "ingredients = df.columns[3:].tolist()"
   ]
  },
  {
   "cell_type": "markdown",
   "metadata": {},
   "source": [
    "### Сохранение итоговой структуры\n",
    "Разберём основную часть кода (пока без дополнительной функции). Как вы помните, после десериализации JSON-файла мы получили структуру, представляющую собой список, состоящий из словарей. Каждый словарь состоял из трёх пар \"ключ-значение\", при этом в качестве значений выступали целое число (id), строковая величина (тип кухни) и список строковых величин (перечень ингредиентов). Сейчас нам предстоит воссоздать эту структуру, извлекая данные из датафрейма.\n",
    "\n",
    "Для хранения итоговой структуры создадим пустой список new_recipes. Также создадим списки для хранения id всех блюд и названий всех ингредиентов с помощью кода из предыдущих упражнений:"
   ]
  },
  {
   "cell_type": "code",
   "execution_count": 21,
   "metadata": {},
   "outputs": [],
   "source": [
    "new_recipes = []\n",
    "ids = df.id.tolist()\n",
    "ingredients = df.columns[3:].tolist()"
   ]
  },
  {
   "cell_type": "markdown",
   "metadata": {},
   "source": [
    "Стратегия действий:\n",
    "\n",
    " - Организуем цикл с параметром, в котором будем перебирать элементы списка ids. В результате в процессе прохождения цикла параметр постепенно примет значение id каждого блюда.  \n",
    " - На каждом шаге цикла создадим словарь, содержащий три пары \"ключ-значение\". Ключу \"id\" мы присвоим значение параметра цикла, ключу \"cuisine\" — значение соответствующей кухни, которое мы получим, применив фильтр по id к датафрейму df.  \n",
    " - Для заполнения значения (списка) по ключу \"ingredients\" воспользуемся функцией, код которой обсудим чуть позже. Каждый созданный словарь мы будем добавлять к списку new_recipes:  \n",
    "```python\n",
    "for current_id in ids:\n",
    "    cuisine = df[df['id'] == current_id]['cuisine'].iloc[0]\n",
    "    current_ingredients = make_list(df[df['id'] == current_id])\n",
    "    current_recipe = {'cuisine': cuisine, 'id': int(current_id), 'ingredients': current_ingredients}\n",
    "    new_recipes.append(current_recipe)\n",
    "    ```  \n",
    "Итак, всё почти готово. Осталось создать код функции make_list, выполнить сериализацию и записать результат в файл."
   ]
  },
  {
   "cell_type": "markdown",
   "metadata": {},
   "source": [
    "### Задание 3\n",
    "Напишите код функции make_list, которая принимает строку датафрейма df, содержащую данные об одном рецепте, и возвращает перечень ингредиентов этого блюда в виде списка.\n",
    "\n",
    "Обратите внимание на следующие моменты:\n",
    "\n",
    "1. Тип структуры, которую должна вернуть функция в результате работы, — список (list).\n",
    "2. В процессе работы функция должна обращаться к списку, в котором хранятся названия всех ингредиентов. Используйте имя переменной ingredients для списка.\n",
    "3. Добавьте код для чтения файла recipes.csv и создания списка ingredients перед кодом функции.\n",
    "4. Порядок ингредиентов в возвращаемом списке не имеет значения."
   ]
  },
  {
   "cell_type": "code",
   "execution_count": 3,
   "metadata": {},
   "outputs": [],
   "source": [
    "df = pd.read_csv('recipes.csv')\n",
    "ingredients = df.columns[3:].tolist()\n",
    "\n",
    "def make_list (row):\n",
    "    ingredients_dummies = row.loc[0][3:]\n",
    "    return (ingredients_dummies[ingredients_dummies>0]).index.tolist()\n",
    "    "
   ]
  },
  {
   "cell_type": "code",
   "execution_count": 81,
   "metadata": {},
   "outputs": [],
   "source": [
    "def make_list (row):\n",
    "    ing_list = []\n",
    "    for ingr in ingredients:\n",
    "        if row[ingr].iloc[0]>0:\n",
    "            ing_list.append(ingr)\n",
    "    return ing_list"
   ]
  },
  {
   "cell_type": "code",
   "execution_count": null,
   "metadata": {},
   "outputs": [],
   "source": []
  },
  {
   "cell_type": "code",
   "execution_count": null,
   "metadata": {},
   "outputs": [],
   "source": []
  },
  {
   "cell_type": "code",
   "execution_count": null,
   "metadata": {},
   "outputs": [],
   "source": [
    "ва"
   ]
  },
  {
   "cell_type": "code",
   "execution_count": null,
   "metadata": {},
   "outputs": [],
   "source": [
    "new_recipes = json.dumps(new_recipes)\n",
    "with open(\"new_recipes.json\", \"w\") as write_file:\n",
    "    write_file.write(new_recipes)"
   ]
  },
  {
   "cell_type": "markdown",
   "metadata": {},
   "source": [
    "В завершающей части данного блока мы выполним сериализацию списка new_recipes и запишем полученные данные в файл. Для сериализации мы будем использовать функцию dumps(), которой в качестве параметра передадим список new_recipes. Запись в файл осуществляется с помощью метода write(). Предварительно файл нужно будет открыть для записи с помощью функции open и параметра 'w':"
   ]
  },
  {
   "cell_type": "code",
   "execution_count": 86,
   "metadata": {},
   "outputs": [],
   "source": [
    "new_recipes = json.dumps(new_recipes)\n",
    "with open(\"./Unit3_data/new_recipes.json\", \"w\") as write_file:\n",
    "    write_file.write(new_recipes)"
   ]
  },
  {
   "cell_type": "markdown",
   "metadata": {},
   "source": [
    "Оба действия можно совместить, если использовать метод dump():"
   ]
  },
  {
   "cell_type": "code",
   "execution_count": 87,
   "metadata": {},
   "outputs": [],
   "source": [
    "with open(\"./Unit3_data/new_recipes.json\", \"w\") as write_file:\n",
    "    json.dump(new_recipes, write_file)"
   ]
  },
  {
   "cell_type": "markdown",
   "metadata": {},
   "source": [
    "## 13.6 Формат XLS (Excel)"
   ]
  },
  {
   "cell_type": "code",
   "execution_count": 8,
   "metadata": {},
   "outputs": [],
   "source": [
    "pd.set_option('display.max_columns', None)  "
   ]
  },
  {
   "cell_type": "code",
   "execution_count": 9,
   "metadata": {},
   "outputs": [],
   "source": [
    "data = pd.read_excel('./Unit3_data/Fig3-1.xls',header=None)  "
   ]
  },
  {
   "cell_type": "code",
   "execution_count": 10,
   "metadata": {},
   "outputs": [
    {
     "data": {
      "text/html": [
       "<div>\n",
       "<style scoped>\n",
       "    .dataframe tbody tr th:only-of-type {\n",
       "        vertical-align: middle;\n",
       "    }\n",
       "\n",
       "    .dataframe tbody tr th {\n",
       "        vertical-align: top;\n",
       "    }\n",
       "\n",
       "    .dataframe thead th {\n",
       "        text-align: right;\n",
       "    }\n",
       "</style>\n",
       "<table border=\"1\" class=\"dataframe\">\n",
       "  <thead>\n",
       "    <tr style=\"text-align: right;\">\n",
       "      <th></th>\n",
       "      <th>0</th>\n",
       "      <th>1</th>\n",
       "      <th>2</th>\n",
       "      <th>3</th>\n",
       "      <th>4</th>\n",
       "      <th>5</th>\n",
       "      <th>6</th>\n",
       "      <th>7</th>\n",
       "      <th>8</th>\n",
       "      <th>9</th>\n",
       "      <th>10</th>\n",
       "      <th>11</th>\n",
       "      <th>12</th>\n",
       "      <th>13</th>\n",
       "      <th>14</th>\n",
       "      <th>15</th>\n",
       "      <th>16</th>\n",
       "      <th>17</th>\n",
       "      <th>18</th>\n",
       "    </tr>\n",
       "  </thead>\n",
       "  <tbody>\n",
       "    <tr>\n",
       "      <th>0</th>\n",
       "      <td>U.S. Home Price and Related data, for Figure 3...</td>\n",
       "      <td>NaN</td>\n",
       "      <td>NaN</td>\n",
       "      <td>NaN</td>\n",
       "      <td>NaN</td>\n",
       "      <td>NaN</td>\n",
       "      <td>NaN</td>\n",
       "      <td>NaN</td>\n",
       "      <td>NaN</td>\n",
       "      <td>NaN</td>\n",
       "      <td>NaN</td>\n",
       "      <td>NaN</td>\n",
       "      <td>NaN</td>\n",
       "      <td>NaN</td>\n",
       "      <td>NaN</td>\n",
       "      <td>NaN</td>\n",
       "      <td>NaN</td>\n",
       "      <td>NaN</td>\n",
       "      <td>NaN</td>\n",
       "    </tr>\n",
       "    <tr>\n",
       "      <th>1</th>\n",
       "      <td>See the book for description of data.</td>\n",
       "      <td>NaN</td>\n",
       "      <td>NaN</td>\n",
       "      <td>NaN</td>\n",
       "      <td>Update Nominal Home Price Index, Click Additio...</td>\n",
       "      <td>NaN</td>\n",
       "      <td>NaN</td>\n",
       "      <td>NaN</td>\n",
       "      <td>NaN</td>\n",
       "      <td>NaN</td>\n",
       "      <td>NaN</td>\n",
       "      <td>NaN</td>\n",
       "      <td>NaN</td>\n",
       "      <td>NaN</td>\n",
       "      <td>NaN</td>\n",
       "      <td>NaN</td>\n",
       "      <td>NaN</td>\n",
       "      <td>NaN</td>\n",
       "      <td>NaN</td>\n",
       "    </tr>\n",
       "    <tr>\n",
       "      <th>2</th>\n",
       "      <td>Monthly data from January 1953 for prices, all...</td>\n",
       "      <td>NaN</td>\n",
       "      <td>NaN</td>\n",
       "      <td>NaN</td>\n",
       "      <td>NaN</td>\n",
       "      <td>NaN</td>\n",
       "      <td>NaN</td>\n",
       "      <td>NaN</td>\n",
       "      <td>Nominal</td>\n",
       "      <td>NaN</td>\n",
       "      <td>NaN</td>\n",
       "      <td>NaN</td>\n",
       "      <td>NaN</td>\n",
       "      <td>NaN</td>\n",
       "      <td>NaN</td>\n",
       "      <td>NaN</td>\n",
       "      <td>NaN</td>\n",
       "      <td>NaN</td>\n",
       "      <td>NaN</td>\n",
       "    </tr>\n",
       "    <tr>\n",
       "      <th>3</th>\n",
       "      <td>NaN</td>\n",
       "      <td>Real</td>\n",
       "      <td>NaN</td>\n",
       "      <td>Real</td>\n",
       "      <td>NaN</td>\n",
       "      <td>NaN</td>\n",
       "      <td>NaN</td>\n",
       "      <td>NaN</td>\n",
       "      <td>Home</td>\n",
       "      <td>NaN</td>\n",
       "      <td>NaN</td>\n",
       "      <td>Nominal</td>\n",
       "      <td>NaN</td>\n",
       "      <td>NaN</td>\n",
       "      <td>Consumer</td>\n",
       "      <td>NaN</td>\n",
       "      <td>NaN</td>\n",
       "      <td>NaN</td>\n",
       "      <td>NaN</td>\n",
       "    </tr>\n",
       "    <tr>\n",
       "      <th>4</th>\n",
       "      <td>NaN</td>\n",
       "      <td>Home</td>\n",
       "      <td>NaN</td>\n",
       "      <td>Building</td>\n",
       "      <td>U.S.</td>\n",
       "      <td>NaN</td>\n",
       "      <td>NaN</td>\n",
       "      <td>NaN</td>\n",
       "      <td>Price</td>\n",
       "      <td>HPI</td>\n",
       "      <td>NaN</td>\n",
       "      <td>Building</td>\n",
       "      <td>NaN</td>\n",
       "      <td>NaN</td>\n",
       "      <td>Price</td>\n",
       "      <td>CPI Annual&amp;</td>\n",
       "      <td>NaN</td>\n",
       "      <td>NaN</td>\n",
       "      <td>NaN</td>\n",
       "    </tr>\n",
       "  </tbody>\n",
       "</table>\n",
       "</div>"
      ],
      "text/plain": [
       "                                                  0     1    2         3   \\\n",
       "0  U.S. Home Price and Related data, for Figure 3...   NaN  NaN       NaN   \n",
       "1              See the book for description of data.   NaN  NaN       NaN   \n",
       "2  Monthly data from January 1953 for prices, all...   NaN  NaN       NaN   \n",
       "3                                                NaN  Real  NaN      Real   \n",
       "4                                                NaN  Home  NaN  Building   \n",
       "\n",
       "                                                  4    5    6    7        8   \\\n",
       "0                                                NaN  NaN  NaN  NaN      NaN   \n",
       "1  Update Nominal Home Price Index, Click Additio...  NaN  NaN  NaN      NaN   \n",
       "2                                                NaN  NaN  NaN  NaN  Nominal   \n",
       "3                                                NaN  NaN  NaN  NaN     Home   \n",
       "4                                               U.S.  NaN  NaN  NaN    Price   \n",
       "\n",
       "    9    10        11   12   13        14           15  16   17   18  \n",
       "0  NaN  NaN       NaN  NaN  NaN       NaN          NaN NaN  NaN  NaN  \n",
       "1  NaN  NaN       NaN  NaN  NaN       NaN          NaN NaN  NaN  NaN  \n",
       "2  NaN  NaN       NaN  NaN  NaN       NaN          NaN NaN  NaN  NaN  \n",
       "3  NaN  NaN   Nominal  NaN  NaN  Consumer          NaN NaN  NaN  NaN  \n",
       "4  HPI  NaN  Building  NaN  NaN     Price  CPI Annual& NaN  NaN  NaN  "
      ]
     },
     "execution_count": 10,
     "metadata": {},
     "output_type": "execute_result"
    }
   ],
   "source": [
    "data.head()"
   ]
  },
  {
   "cell_type": "markdown",
   "metadata": {},
   "source": [
    "Основные параметры при чтении  \n",
    "Параметры, которые можно передавать методу pandas.read_excel():\n",
    "\n",
    "**io** — первый параметр, в который мы передаём адрес файла, который хотим прочитать. Кроме адреса на диске, можно передавать адрес в интернете или специальный объект ExcelFile, о котором мы поговорим позже.  \n",
    "**sheet_name** — ссылка на лист в Excel-файле. Возможные варианты значения данного параметра:  \n",
    " - 0 — значение по умолчанию, означает, что загружаем первую страницу (первый лист);  \n",
    " - 'Sheet1' — можно передать название листа; обычно страницы называются 'SheetX', где X — номер листа, но могут использоваться и другие названия;   \n",
    " - [0, 1, 'Sheet3'] — список, содержащий номера или названия листов; в таком случае Pandas вернёт словарь, в котором ключами будут номера или названия листов, а значениями — их содержимое в виде DataFrame;  \n",
    " - None — если передать такое значение, то Pandas прочитает все листы и вернёт их в виде словаря, как в предыдущем пункте.\n",
    "\n",
    "**na_values** — список значений, которые будут считаться пропусками. Здесь всё точно так же, как при чтении .csv файла:  \n",
    "‘’, ‘#N/A’, ‘#N/A N/A’, ‘#NA’, ‘-1.#IND’, ‘-1.#QNAN’, ‘-NaN’, ‘-nan’, ‘1.#IND’, ‘1.#QNAN’, ‘N/A’, ‘NA’, ‘NULL’, ‘NaN’, ‘n/a’, ‘nan’, ‘null’"
   ]
  },
  {
   "cell_type": "markdown",
   "metadata": {},
   "source": [
    "### Задание 1\n",
    "Сколько строк содержится в файле, с которым мы будем работать?\n",
    "\n",
    "Для получения ответа на вопрос прочитайте файл Fig3-1.xls. Явно укажите, что у файла нет заголовка (header). Запишите ниже, сколько строк содержится в полученном датафрейме."
   ]
  },
  {
   "cell_type": "code",
   "execution_count": 12,
   "metadata": {},
   "outputs": [
    {
     "data": {
      "text/plain": [
       "864"
      ]
     },
     "execution_count": 12,
     "metadata": {},
     "output_type": "execute_result"
    }
   ],
   "source": [
    "data.shape[0]"
   ]
  },
  {
   "cell_type": "markdown",
   "metadata": {},
   "source": [
    "Чтение с помощью ExcelFile\n",
    "Еще один способ прочитать Excel-файл — использовать pd.ExcelFile. Это специальный объект, которому на вход можно передать путь к файлу. Сначала мы создаем объект ExcelFile и передаём ему путь к файлу, после этого можем работать с файлом, считывая содержимое.\n",
    "\n",
    "```python\n",
    "data_file = pd.ExcelFile('./Fig3-1.xls')  \n",
    "data = pd.read_excel(data_file, header=None)\n",
    "```\n",
    " Когда это может пригодиться? Например, если мы принимаем файл в одном месте программы, а используем в другом. Это может оптимизировать затрачиваемое время, если мы не знаем заранее, когда будем использовать содержимое файла. Ещё один случай:   в файле есть несколько страниц и нам не нужны все эти страницы сразу. Если мы будем читать страницы порознь с помощью read_excel и передавать в этот метод путь к файлу, мы будем каждый раз загружать этот файл в память. Когда данных много, это заполнит вашу оперативную память. В случае с ExcelFile мы прочитаем файл один раз и потом будем только подгружать необходимые страницы.\n",
    "\n",
    "С ExcelFile можно работать с помощью контекстного менеджера:\n",
    "\n",
    "```python\n",
    "with pd.ExcelFile('path_to_file.xls') as xls:  \n",
    "    data['Sheet1'] = pd.read_excel(xls, 'Sheet1', na_values=['NA'])  \n",
    "    data['Sheet2'] = pd.read_excel(xls, 'Sheet2')  \n",
    "```\n",
    "Если на первой странице мы хотим считать пропусками только ячейки со значением 'NA', а на второй  – любые похожие на пропуски значения (они описаны выше), то ExcelFile позволит проявить такую гибкость при чтении данных с разных листов.\n",
    "\n",
    "Если мы просто хотим прочитать два листа из Excel-файла, то этот код:\n",
    "\n",
    "```python\n",
    "with pd.ExcelFile('path_to_file.xls') as xls:  \n",
    "    data['Sheet1'] = pd.read_excel(xls, 'Sheet1')  \n",
    "    data['Sheet2'] = pd.read_excel(xls, 'Sheet2')  \n",
    "```\n",
    "И этот код:\n",
    "\n",
    "```python\n",
    "data = pd.read_excel('path_to_file.xls', ['Sheet1', 'Sheet2'])\n",
    "```\n",
    "Оба кода дадут нам одинаковый результат как по скорости работы, так и по возвращаемому результату."
   ]
  },
  {
   "cell_type": "markdown",
   "metadata": {},
   "source": [
    "### 13.8 Продвинутое чтение Excel-файла"
   ]
  },
  {
   "cell_type": "code",
   "execution_count": 6,
   "metadata": {},
   "outputs": [],
   "source": [
    "data = pd.read_excel('http://www.econ.yale.edu/~shiller/data/Fig3-1.xls', header=None)  "
   ]
  },
  {
   "cell_type": "code",
   "execution_count": 8,
   "metadata": {},
   "outputs": [
    {
     "name": "stdout",
     "output_type": "stream",
     "text": [
      "<class 'pandas.core.frame.DataFrame'>\n",
      "RangeIndex: 871 entries, 0 to 870\n",
      "Data columns (total 19 columns):\n",
      "0     868 non-null object\n",
      "1     868 non-null object\n",
      "2     131 non-null object\n",
      "3     133 non-null object\n",
      "4     133 non-null object\n",
      "5     131 non-null object\n",
      "6     132 non-null object\n",
      "7     865 non-null object\n",
      "8     869 non-null object\n",
      "9     858 non-null object\n",
      "10    130 non-null object\n",
      "11    4 non-null object\n",
      "12    131 non-null object\n",
      "13    865 non-null object\n",
      "14    867 non-null object\n",
      "15    866 non-null object\n",
      "16    0 non-null float64\n",
      "17    131 non-null object\n",
      "18    132 non-null object\n",
      "dtypes: float64(1), object(18)\n",
      "memory usage: 129.4+ KB\n"
     ]
    }
   ],
   "source": [
    "data.info()"
   ]
  },
  {
   "cell_type": "code",
   "execution_count": null,
   "metadata": {},
   "outputs": [],
   "source": [
    "#********************************************************************************************"
   ]
  },
  {
   "cell_type": "code",
   "execution_count": 10,
   "metadata": {},
   "outputs": [],
   "source": [
    "data = pd.read_excel(\"./Unit3_data/nakladnaya.xls\", header=None, skiprows=2)"
   ]
  },
  {
   "cell_type": "markdown",
   "metadata": {},
   "source": [
    "### Задание 2\n",
    "Можно заметить, что многие строки полностью состоят из пропусков. Используйте изученный ранее метод pandas, чтобы убрать все такие строки. Запишите ниже, сколько строк осталось.\n",
    "Чтобы убирать только те строки, в которых все значения являются пропусками, нужно использовать параметр how и передавать в него значение all."
   ]
  },
  {
   "cell_type": "code",
   "execution_count": 15,
   "metadata": {},
   "outputs": [
    {
     "data": {
      "text/plain": [
       "15"
      ]
     },
     "execution_count": 15,
     "metadata": {},
     "output_type": "execute_result"
    }
   ],
   "source": [
    "data.dropna(how='all',inplace=True)\n",
    "data.shape[0]"
   ]
  },
  {
   "cell_type": "code",
   "execution_count": 18,
   "metadata": {},
   "outputs": [
    {
     "data": {
      "text/html": [
       "<div>\n",
       "<style scoped>\n",
       "    .dataframe tbody tr th:only-of-type {\n",
       "        vertical-align: middle;\n",
       "    }\n",
       "\n",
       "    .dataframe tbody tr th {\n",
       "        vertical-align: top;\n",
       "    }\n",
       "\n",
       "    .dataframe thead th {\n",
       "        text-align: right;\n",
       "    }\n",
       "</style>\n",
       "<table border=\"1\" class=\"dataframe\">\n",
       "  <thead>\n",
       "    <tr style=\"text-align: right;\">\n",
       "      <th></th>\n",
       "      <th>0</th>\n",
       "      <th>1</th>\n",
       "      <th>2</th>\n",
       "      <th>3</th>\n",
       "      <th>4</th>\n",
       "      <th>5</th>\n",
       "      <th>6</th>\n",
       "      <th>7</th>\n",
       "      <th>8</th>\n",
       "      <th>9</th>\n",
       "      <th>10</th>\n",
       "      <th>11</th>\n",
       "      <th>12</th>\n",
       "    </tr>\n",
       "  </thead>\n",
       "  <tbody>\n",
       "    <tr>\n",
       "      <th>0</th>\n",
       "      <td>NaN</td>\n",
       "      <td>NaN</td>\n",
       "      <td>NaN</td>\n",
       "      <td>НАКЛАДНАЯ</td>\n",
       "      <td>№ 5764809  от \"08\" апреля 2018 г.</td>\n",
       "      <td>NaN</td>\n",
       "      <td>NaN</td>\n",
       "      <td>NaN</td>\n",
       "      <td>NaN</td>\n",
       "      <td>NaN</td>\n",
       "      <td>NaN</td>\n",
       "      <td>NaN</td>\n",
       "      <td>NaN</td>\n",
       "    </tr>\n",
       "    <tr>\n",
       "      <th>2</th>\n",
       "      <td>NaN</td>\n",
       "      <td>Грузоотправитель:</td>\n",
       "      <td>NaN</td>\n",
       "      <td>ООО \"Первый строитель\"</td>\n",
       "      <td>NaN</td>\n",
       "      <td>NaN</td>\n",
       "      <td>NaN</td>\n",
       "      <td>NaN</td>\n",
       "      <td>NaN</td>\n",
       "      <td>NaN</td>\n",
       "      <td>NaN</td>\n",
       "      <td>NaN</td>\n",
       "      <td>NaN</td>\n",
       "    </tr>\n",
       "    <tr>\n",
       "      <th>4</th>\n",
       "      <td>NaN</td>\n",
       "      <td>Грузополучатель:</td>\n",
       "      <td>NaN</td>\n",
       "      <td>ООО \"Стройка века\"</td>\n",
       "      <td>NaN</td>\n",
       "      <td>NaN</td>\n",
       "      <td>NaN</td>\n",
       "      <td>NaN</td>\n",
       "      <td>NaN</td>\n",
       "      <td>NaN</td>\n",
       "      <td>NaN</td>\n",
       "      <td>NaN</td>\n",
       "      <td>NaN</td>\n",
       "    </tr>\n",
       "    <tr>\n",
       "      <th>6</th>\n",
       "      <td>NaN</td>\n",
       "      <td>Основание для отпуска: Договор №</td>\n",
       "      <td>NaN</td>\n",
       "      <td>NaN</td>\n",
       "      <td>86</td>\n",
       "      <td>от \"02\"апреля 2018 г.</td>\n",
       "      <td>NaN</td>\n",
       "      <td>NaN</td>\n",
       "      <td>NaN</td>\n",
       "      <td>NaN</td>\n",
       "      <td>NaN</td>\n",
       "      <td>NaN</td>\n",
       "      <td>NaN</td>\n",
       "    </tr>\n",
       "    <tr>\n",
       "      <th>9</th>\n",
       "      <td>NaN</td>\n",
       "      <td>№</td>\n",
       "      <td>Наименование товарно-материальных ценностей</td>\n",
       "      <td>NaN</td>\n",
       "      <td>NaN</td>\n",
       "      <td>NaN</td>\n",
       "      <td>Ед. изм.</td>\n",
       "      <td>NaN</td>\n",
       "      <td>NaN</td>\n",
       "      <td>Количество</td>\n",
       "      <td>NaN</td>\n",
       "      <td>Цена,</td>\n",
       "      <td>Сумма,</td>\n",
       "    </tr>\n",
       "    <tr>\n",
       "      <th>10</th>\n",
       "      <td>NaN</td>\n",
       "      <td>п/п</td>\n",
       "      <td>NaN</td>\n",
       "      <td>NaN</td>\n",
       "      <td>NaN</td>\n",
       "      <td>NaN</td>\n",
       "      <td>NaN</td>\n",
       "      <td>NaN</td>\n",
       "      <td>NaN</td>\n",
       "      <td>NaN</td>\n",
       "      <td>NaN</td>\n",
       "      <td>руб. коп.</td>\n",
       "      <td>руб. коп.</td>\n",
       "    </tr>\n",
       "    <tr>\n",
       "      <th>11</th>\n",
       "      <td>NaN</td>\n",
       "      <td>1</td>\n",
       "      <td>Велосипед \"Спринтер\"</td>\n",
       "      <td>NaN</td>\n",
       "      <td>NaN</td>\n",
       "      <td>NaN</td>\n",
       "      <td>шт</td>\n",
       "      <td>NaN</td>\n",
       "      <td>NaN</td>\n",
       "      <td>5</td>\n",
       "      <td>NaN</td>\n",
       "      <td>9000</td>\n",
       "      <td>45000</td>\n",
       "    </tr>\n",
       "    <tr>\n",
       "      <th>12</th>\n",
       "      <td>NaN</td>\n",
       "      <td>2</td>\n",
       "      <td>Велосипед \"Малютка\"</td>\n",
       "      <td>NaN</td>\n",
       "      <td>NaN</td>\n",
       "      <td>NaN</td>\n",
       "      <td>шт</td>\n",
       "      <td>NaN</td>\n",
       "      <td>NaN</td>\n",
       "      <td>10</td>\n",
       "      <td>NaN</td>\n",
       "      <td>3500</td>\n",
       "      <td>35000</td>\n",
       "    </tr>\n",
       "    <tr>\n",
       "      <th>14</th>\n",
       "      <td>NaN</td>\n",
       "      <td>NaN</td>\n",
       "      <td>Всего отпущено</td>\n",
       "      <td>2 (два) наименования</td>\n",
       "      <td>NaN</td>\n",
       "      <td>NaN</td>\n",
       "      <td>NaN</td>\n",
       "      <td>NaN</td>\n",
       "      <td>NaN</td>\n",
       "      <td>NaN</td>\n",
       "      <td>NaN</td>\n",
       "      <td>NaN</td>\n",
       "      <td>NaN</td>\n",
       "    </tr>\n",
       "    <tr>\n",
       "      <th>16</th>\n",
       "      <td>NaN</td>\n",
       "      <td>NaN</td>\n",
       "      <td>На сумму</td>\n",
       "      <td>80 000 (восемьдесят тысяч) рублей</td>\n",
       "      <td>NaN</td>\n",
       "      <td>NaN</td>\n",
       "      <td>NaN</td>\n",
       "      <td>NaN</td>\n",
       "      <td>NaN</td>\n",
       "      <td>NaN</td>\n",
       "      <td>NaN</td>\n",
       "      <td>NaN</td>\n",
       "      <td>NaN</td>\n",
       "    </tr>\n",
       "    <tr>\n",
       "      <th>18</th>\n",
       "      <td>NaN</td>\n",
       "      <td>NaN</td>\n",
       "      <td>Отпуск разрешил</td>\n",
       "      <td>Зам. Директора</td>\n",
       "      <td>NaN</td>\n",
       "      <td>NaN</td>\n",
       "      <td>NaN</td>\n",
       "      <td>NaN</td>\n",
       "      <td>Куликов</td>\n",
       "      <td>NaN</td>\n",
       "      <td>NaN</td>\n",
       "      <td>Куликов П.Д.</td>\n",
       "      <td>NaN</td>\n",
       "    </tr>\n",
       "    <tr>\n",
       "      <th>20</th>\n",
       "      <td>NaN</td>\n",
       "      <td>NaN</td>\n",
       "      <td>М.П.</td>\n",
       "      <td>NaN</td>\n",
       "      <td>NaN</td>\n",
       "      <td>NaN</td>\n",
       "      <td>NaN</td>\n",
       "      <td>NaN</td>\n",
       "      <td>NaN</td>\n",
       "      <td>NaN</td>\n",
       "      <td>NaN</td>\n",
       "      <td>NaN</td>\n",
       "      <td>NaN</td>\n",
       "    </tr>\n",
       "    <tr>\n",
       "      <th>22</th>\n",
       "      <td>NaN</td>\n",
       "      <td>NaN</td>\n",
       "      <td>Отпустил</td>\n",
       "      <td>Кладовщик</td>\n",
       "      <td>NaN</td>\n",
       "      <td>NaN</td>\n",
       "      <td>NaN</td>\n",
       "      <td>NaN</td>\n",
       "      <td>Мазов</td>\n",
       "      <td>NaN</td>\n",
       "      <td>NaN</td>\n",
       "      <td>Мазов Р.К.</td>\n",
       "      <td>NaN</td>\n",
       "    </tr>\n",
       "    <tr>\n",
       "      <th>23</th>\n",
       "      <td>NaN</td>\n",
       "      <td>NaN</td>\n",
       "      <td>Получил</td>\n",
       "      <td>Водитель</td>\n",
       "      <td>NaN</td>\n",
       "      <td>NaN</td>\n",
       "      <td>NaN</td>\n",
       "      <td>NaN</td>\n",
       "      <td>Дроценко</td>\n",
       "      <td>NaN</td>\n",
       "      <td>NaN</td>\n",
       "      <td>Дроценко А.С.</td>\n",
       "      <td>NaN</td>\n",
       "    </tr>\n",
       "    <tr>\n",
       "      <th>25</th>\n",
       "      <td>NaN</td>\n",
       "      <td>NaN</td>\n",
       "      <td>М.П.</td>\n",
       "      <td>NaN</td>\n",
       "      <td>NaN</td>\n",
       "      <td>NaN</td>\n",
       "      <td>NaN</td>\n",
       "      <td>NaN</td>\n",
       "      <td>NaN</td>\n",
       "      <td>NaN</td>\n",
       "      <td>NaN</td>\n",
       "      <td>NaN</td>\n",
       "      <td>NaN</td>\n",
       "    </tr>\n",
       "  </tbody>\n",
       "</table>\n",
       "</div>"
      ],
      "text/plain": [
       "    0                                  1   \\\n",
       "0  NaN                                NaN   \n",
       "2  NaN                  Грузоотправитель:   \n",
       "4  NaN                   Грузополучатель:   \n",
       "6  NaN  Основание для отпуска: Договор №    \n",
       "9  NaN                                  №   \n",
       "10 NaN                                п/п   \n",
       "11 NaN                                  1   \n",
       "12 NaN                                  2   \n",
       "14 NaN                                NaN   \n",
       "16 NaN                                NaN   \n",
       "18 NaN                                NaN   \n",
       "20 NaN                                NaN   \n",
       "22 NaN                                NaN   \n",
       "23 NaN                                NaN   \n",
       "25 NaN                                NaN   \n",
       "\n",
       "                                             2   \\\n",
       "0                                           NaN   \n",
       "2                                           NaN   \n",
       "4                                           NaN   \n",
       "6                                           NaN   \n",
       "9   Наименование товарно-материальных ценностей   \n",
       "10                                          NaN   \n",
       "11                        Велосипед \"Спринтер\"    \n",
       "12                          Велосипед \"Малютка\"   \n",
       "14                              Всего отпущено    \n",
       "16                                   На сумму     \n",
       "18                            Отпуск разрешил     \n",
       "20                                         М.П.   \n",
       "22                                   Отпустил     \n",
       "23                                    Получил     \n",
       "25                                         М.П.   \n",
       "\n",
       "                                   3                                  4   \\\n",
       "0                           НАКЛАДНАЯ  № 5764809  от \"08\" апреля 2018 г.   \n",
       "2              ООО \"Первый строитель\"                                NaN   \n",
       "4                 ООО \"Стройка века\"                                 NaN   \n",
       "6                                 NaN                                 86   \n",
       "9                                 NaN                                NaN   \n",
       "10                                NaN                                NaN   \n",
       "11                                NaN                                NaN   \n",
       "12                                NaN                                NaN   \n",
       "14               2 (два) наименования                                NaN   \n",
       "16  80 000 (восемьдесят тысяч) рублей                                NaN   \n",
       "18                     Зам. Директора                                NaN   \n",
       "20                                NaN                                NaN   \n",
       "22                         Кладовщик                                 NaN   \n",
       "23                          Водитель                                 NaN   \n",
       "25                                NaN                                NaN   \n",
       "\n",
       "                       5         6   7          8           9   10  \\\n",
       "0                     NaN       NaN NaN        NaN         NaN NaN   \n",
       "2                     NaN       NaN NaN        NaN         NaN NaN   \n",
       "4                     NaN       NaN NaN        NaN         NaN NaN   \n",
       "6   от \"02\"апреля 2018 г.       NaN NaN        NaN         NaN NaN   \n",
       "9                     NaN  Ед. изм. NaN        NaN  Количество NaN   \n",
       "10                    NaN       NaN NaN        NaN         NaN NaN   \n",
       "11                    NaN        шт NaN        NaN           5 NaN   \n",
       "12                    NaN        шт NaN        NaN          10 NaN   \n",
       "14                    NaN       NaN NaN        NaN         NaN NaN   \n",
       "16                    NaN       NaN NaN        NaN         NaN NaN   \n",
       "18                    NaN       NaN NaN    Куликов         NaN NaN   \n",
       "20                    NaN       NaN NaN        NaN         NaN NaN   \n",
       "22                    NaN       NaN NaN      Мазов         NaN NaN   \n",
       "23                    NaN       NaN NaN  Дроценко          NaN NaN   \n",
       "25                    NaN       NaN NaN        NaN         NaN NaN   \n",
       "\n",
       "                11         12  \n",
       "0              NaN        NaN  \n",
       "2              NaN        NaN  \n",
       "4              NaN        NaN  \n",
       "6              NaN        NaN  \n",
       "9           Цена,     Сумма,   \n",
       "10       руб. коп.  руб. коп.  \n",
       "11            9000      45000  \n",
       "12            3500      35000  \n",
       "14             NaN        NaN  \n",
       "16             NaN        NaN  \n",
       "18   Куликов П.Д.         NaN  \n",
       "20             NaN        NaN  \n",
       "22      Мазов Р.К.        NaN  \n",
       "23  Дроценко А.С.         NaN  \n",
       "25             NaN        NaN  "
      ]
     },
     "execution_count": 18,
     "metadata": {},
     "output_type": "execute_result"
    }
   ],
   "source": [
    "data"
   ]
  },
  {
   "cell_type": "markdown",
   "metadata": {},
   "source": [
    "### Задание 3\n",
    "Какой код поможет узнать номер накладной?  \n",
    "``` python\n",
    "data.parse_numbers()[0]  \n",
    "data.iloc[0, 4].split('от')[0]  \n",
    "data.iloc[0, 4][2:9]  \n",
    "```"
   ]
  },
  {
   "cell_type": "code",
   "execution_count": 17,
   "metadata": {},
   "outputs": [
    {
     "data": {
      "text/plain": [
       "'5764809'"
      ]
     },
     "execution_count": 17,
     "metadata": {},
     "output_type": "execute_result"
    }
   ],
   "source": [
    "data.iloc[0, 4][2:9] "
   ]
  },
  {
   "cell_type": "markdown",
   "metadata": {},
   "source": [
    "### Задание 4\n",
    "Напишите, сколько столбцов, содержащих значимые данные, содержится в таблице. Например, 23. Не забудьте про столбец с номером товара."
   ]
  },
  {
   "cell_type": "code",
   "execution_count": 22,
   "metadata": {},
   "outputs": [
    {
     "data": {
      "text/html": [
       "<div>\n",
       "<style scoped>\n",
       "    .dataframe tbody tr th:only-of-type {\n",
       "        vertical-align: middle;\n",
       "    }\n",
       "\n",
       "    .dataframe tbody tr th {\n",
       "        vertical-align: top;\n",
       "    }\n",
       "\n",
       "    .dataframe thead th {\n",
       "        text-align: right;\n",
       "    }\n",
       "</style>\n",
       "<table border=\"1\" class=\"dataframe\">\n",
       "  <thead>\n",
       "    <tr style=\"text-align: right;\">\n",
       "      <th></th>\n",
       "      <th>0</th>\n",
       "      <th>1</th>\n",
       "      <th>2</th>\n",
       "      <th>3</th>\n",
       "      <th>4</th>\n",
       "      <th>5</th>\n",
       "      <th>6</th>\n",
       "      <th>7</th>\n",
       "      <th>8</th>\n",
       "      <th>9</th>\n",
       "      <th>10</th>\n",
       "      <th>11</th>\n",
       "      <th>12</th>\n",
       "    </tr>\n",
       "  </thead>\n",
       "  <tbody>\n",
       "    <tr>\n",
       "      <th>0</th>\n",
       "      <td>NaN</td>\n",
       "      <td>NaN</td>\n",
       "      <td>NaN</td>\n",
       "      <td>НАКЛАДНАЯ</td>\n",
       "      <td>№ 5764809  от \"08\" апреля 2018 г.</td>\n",
       "      <td>NaN</td>\n",
       "      <td>NaN</td>\n",
       "      <td>NaN</td>\n",
       "      <td>NaN</td>\n",
       "      <td>NaN</td>\n",
       "      <td>NaN</td>\n",
       "      <td>NaN</td>\n",
       "      <td>NaN</td>\n",
       "    </tr>\n",
       "    <tr>\n",
       "      <th>2</th>\n",
       "      <td>NaN</td>\n",
       "      <td>Грузоотправитель:</td>\n",
       "      <td>NaN</td>\n",
       "      <td>ООО \"Первый строитель\"</td>\n",
       "      <td>NaN</td>\n",
       "      <td>NaN</td>\n",
       "      <td>NaN</td>\n",
       "      <td>NaN</td>\n",
       "      <td>NaN</td>\n",
       "      <td>NaN</td>\n",
       "      <td>NaN</td>\n",
       "      <td>NaN</td>\n",
       "      <td>NaN</td>\n",
       "    </tr>\n",
       "    <tr>\n",
       "      <th>4</th>\n",
       "      <td>NaN</td>\n",
       "      <td>Грузополучатель:</td>\n",
       "      <td>NaN</td>\n",
       "      <td>ООО \"Стройка века\"</td>\n",
       "      <td>NaN</td>\n",
       "      <td>NaN</td>\n",
       "      <td>NaN</td>\n",
       "      <td>NaN</td>\n",
       "      <td>NaN</td>\n",
       "      <td>NaN</td>\n",
       "      <td>NaN</td>\n",
       "      <td>NaN</td>\n",
       "      <td>NaN</td>\n",
       "    </tr>\n",
       "    <tr>\n",
       "      <th>6</th>\n",
       "      <td>NaN</td>\n",
       "      <td>Основание для отпуска: Договор №</td>\n",
       "      <td>NaN</td>\n",
       "      <td>NaN</td>\n",
       "      <td>86</td>\n",
       "      <td>от \"02\"апреля 2018 г.</td>\n",
       "      <td>NaN</td>\n",
       "      <td>NaN</td>\n",
       "      <td>NaN</td>\n",
       "      <td>NaN</td>\n",
       "      <td>NaN</td>\n",
       "      <td>NaN</td>\n",
       "      <td>NaN</td>\n",
       "    </tr>\n",
       "    <tr>\n",
       "      <th>9</th>\n",
       "      <td>NaN</td>\n",
       "      <td>№</td>\n",
       "      <td>Наименование товарно-материальных ценностей</td>\n",
       "      <td>NaN</td>\n",
       "      <td>NaN</td>\n",
       "      <td>NaN</td>\n",
       "      <td>Ед. изм.</td>\n",
       "      <td>NaN</td>\n",
       "      <td>NaN</td>\n",
       "      <td>Количество</td>\n",
       "      <td>NaN</td>\n",
       "      <td>Цена,</td>\n",
       "      <td>Сумма,</td>\n",
       "    </tr>\n",
       "    <tr>\n",
       "      <th>10</th>\n",
       "      <td>NaN</td>\n",
       "      <td>п/п</td>\n",
       "      <td>NaN</td>\n",
       "      <td>NaN</td>\n",
       "      <td>NaN</td>\n",
       "      <td>NaN</td>\n",
       "      <td>NaN</td>\n",
       "      <td>NaN</td>\n",
       "      <td>NaN</td>\n",
       "      <td>NaN</td>\n",
       "      <td>NaN</td>\n",
       "      <td>руб. коп.</td>\n",
       "      <td>руб. коп.</td>\n",
       "    </tr>\n",
       "    <tr>\n",
       "      <th>11</th>\n",
       "      <td>NaN</td>\n",
       "      <td>1</td>\n",
       "      <td>Велосипед \"Спринтер\"</td>\n",
       "      <td>NaN</td>\n",
       "      <td>NaN</td>\n",
       "      <td>NaN</td>\n",
       "      <td>шт</td>\n",
       "      <td>NaN</td>\n",
       "      <td>NaN</td>\n",
       "      <td>5</td>\n",
       "      <td>NaN</td>\n",
       "      <td>9000</td>\n",
       "      <td>45000</td>\n",
       "    </tr>\n",
       "    <tr>\n",
       "      <th>12</th>\n",
       "      <td>NaN</td>\n",
       "      <td>2</td>\n",
       "      <td>Велосипед \"Малютка\"</td>\n",
       "      <td>NaN</td>\n",
       "      <td>NaN</td>\n",
       "      <td>NaN</td>\n",
       "      <td>шт</td>\n",
       "      <td>NaN</td>\n",
       "      <td>NaN</td>\n",
       "      <td>10</td>\n",
       "      <td>NaN</td>\n",
       "      <td>3500</td>\n",
       "      <td>35000</td>\n",
       "    </tr>\n",
       "    <tr>\n",
       "      <th>14</th>\n",
       "      <td>NaN</td>\n",
       "      <td>NaN</td>\n",
       "      <td>Всего отпущено</td>\n",
       "      <td>2 (два) наименования</td>\n",
       "      <td>NaN</td>\n",
       "      <td>NaN</td>\n",
       "      <td>NaN</td>\n",
       "      <td>NaN</td>\n",
       "      <td>NaN</td>\n",
       "      <td>NaN</td>\n",
       "      <td>NaN</td>\n",
       "      <td>NaN</td>\n",
       "      <td>NaN</td>\n",
       "    </tr>\n",
       "    <tr>\n",
       "      <th>16</th>\n",
       "      <td>NaN</td>\n",
       "      <td>NaN</td>\n",
       "      <td>На сумму</td>\n",
       "      <td>80 000 (восемьдесят тысяч) рублей</td>\n",
       "      <td>NaN</td>\n",
       "      <td>NaN</td>\n",
       "      <td>NaN</td>\n",
       "      <td>NaN</td>\n",
       "      <td>NaN</td>\n",
       "      <td>NaN</td>\n",
       "      <td>NaN</td>\n",
       "      <td>NaN</td>\n",
       "      <td>NaN</td>\n",
       "    </tr>\n",
       "    <tr>\n",
       "      <th>18</th>\n",
       "      <td>NaN</td>\n",
       "      <td>NaN</td>\n",
       "      <td>Отпуск разрешил</td>\n",
       "      <td>Зам. Директора</td>\n",
       "      <td>NaN</td>\n",
       "      <td>NaN</td>\n",
       "      <td>NaN</td>\n",
       "      <td>NaN</td>\n",
       "      <td>Куликов</td>\n",
       "      <td>NaN</td>\n",
       "      <td>NaN</td>\n",
       "      <td>Куликов П.Д.</td>\n",
       "      <td>NaN</td>\n",
       "    </tr>\n",
       "    <tr>\n",
       "      <th>20</th>\n",
       "      <td>NaN</td>\n",
       "      <td>NaN</td>\n",
       "      <td>М.П.</td>\n",
       "      <td>NaN</td>\n",
       "      <td>NaN</td>\n",
       "      <td>NaN</td>\n",
       "      <td>NaN</td>\n",
       "      <td>NaN</td>\n",
       "      <td>NaN</td>\n",
       "      <td>NaN</td>\n",
       "      <td>NaN</td>\n",
       "      <td>NaN</td>\n",
       "      <td>NaN</td>\n",
       "    </tr>\n",
       "    <tr>\n",
       "      <th>22</th>\n",
       "      <td>NaN</td>\n",
       "      <td>NaN</td>\n",
       "      <td>Отпустил</td>\n",
       "      <td>Кладовщик</td>\n",
       "      <td>NaN</td>\n",
       "      <td>NaN</td>\n",
       "      <td>NaN</td>\n",
       "      <td>NaN</td>\n",
       "      <td>Мазов</td>\n",
       "      <td>NaN</td>\n",
       "      <td>NaN</td>\n",
       "      <td>Мазов Р.К.</td>\n",
       "      <td>NaN</td>\n",
       "    </tr>\n",
       "    <tr>\n",
       "      <th>23</th>\n",
       "      <td>NaN</td>\n",
       "      <td>NaN</td>\n",
       "      <td>Получил</td>\n",
       "      <td>Водитель</td>\n",
       "      <td>NaN</td>\n",
       "      <td>NaN</td>\n",
       "      <td>NaN</td>\n",
       "      <td>NaN</td>\n",
       "      <td>Дроценко</td>\n",
       "      <td>NaN</td>\n",
       "      <td>NaN</td>\n",
       "      <td>Дроценко А.С.</td>\n",
       "      <td>NaN</td>\n",
       "    </tr>\n",
       "    <tr>\n",
       "      <th>25</th>\n",
       "      <td>NaN</td>\n",
       "      <td>NaN</td>\n",
       "      <td>М.П.</td>\n",
       "      <td>NaN</td>\n",
       "      <td>NaN</td>\n",
       "      <td>NaN</td>\n",
       "      <td>NaN</td>\n",
       "      <td>NaN</td>\n",
       "      <td>NaN</td>\n",
       "      <td>NaN</td>\n",
       "      <td>NaN</td>\n",
       "      <td>NaN</td>\n",
       "      <td>NaN</td>\n",
       "    </tr>\n",
       "  </tbody>\n",
       "</table>\n",
       "</div>"
      ],
      "text/plain": [
       "    0                                  1   \\\n",
       "0  NaN                                NaN   \n",
       "2  NaN                  Грузоотправитель:   \n",
       "4  NaN                   Грузополучатель:   \n",
       "6  NaN  Основание для отпуска: Договор №    \n",
       "9  NaN                                  №   \n",
       "10 NaN                                п/п   \n",
       "11 NaN                                  1   \n",
       "12 NaN                                  2   \n",
       "14 NaN                                NaN   \n",
       "16 NaN                                NaN   \n",
       "18 NaN                                NaN   \n",
       "20 NaN                                NaN   \n",
       "22 NaN                                NaN   \n",
       "23 NaN                                NaN   \n",
       "25 NaN                                NaN   \n",
       "\n",
       "                                             2   \\\n",
       "0                                           NaN   \n",
       "2                                           NaN   \n",
       "4                                           NaN   \n",
       "6                                           NaN   \n",
       "9   Наименование товарно-материальных ценностей   \n",
       "10                                          NaN   \n",
       "11                        Велосипед \"Спринтер\"    \n",
       "12                          Велосипед \"Малютка\"   \n",
       "14                              Всего отпущено    \n",
       "16                                   На сумму     \n",
       "18                            Отпуск разрешил     \n",
       "20                                         М.П.   \n",
       "22                                   Отпустил     \n",
       "23                                    Получил     \n",
       "25                                         М.П.   \n",
       "\n",
       "                                   3                                  4   \\\n",
       "0                           НАКЛАДНАЯ  № 5764809  от \"08\" апреля 2018 г.   \n",
       "2              ООО \"Первый строитель\"                                NaN   \n",
       "4                 ООО \"Стройка века\"                                 NaN   \n",
       "6                                 NaN                                 86   \n",
       "9                                 NaN                                NaN   \n",
       "10                                NaN                                NaN   \n",
       "11                                NaN                                NaN   \n",
       "12                                NaN                                NaN   \n",
       "14               2 (два) наименования                                NaN   \n",
       "16  80 000 (восемьдесят тысяч) рублей                                NaN   \n",
       "18                     Зам. Директора                                NaN   \n",
       "20                                NaN                                NaN   \n",
       "22                         Кладовщик                                 NaN   \n",
       "23                          Водитель                                 NaN   \n",
       "25                                NaN                                NaN   \n",
       "\n",
       "                       5         6   7          8           9   10  \\\n",
       "0                     NaN       NaN NaN        NaN         NaN NaN   \n",
       "2                     NaN       NaN NaN        NaN         NaN NaN   \n",
       "4                     NaN       NaN NaN        NaN         NaN NaN   \n",
       "6   от \"02\"апреля 2018 г.       NaN NaN        NaN         NaN NaN   \n",
       "9                     NaN  Ед. изм. NaN        NaN  Количество NaN   \n",
       "10                    NaN       NaN NaN        NaN         NaN NaN   \n",
       "11                    NaN        шт NaN        NaN           5 NaN   \n",
       "12                    NaN        шт NaN        NaN          10 NaN   \n",
       "14                    NaN       NaN NaN        NaN         NaN NaN   \n",
       "16                    NaN       NaN NaN        NaN         NaN NaN   \n",
       "18                    NaN       NaN NaN    Куликов         NaN NaN   \n",
       "20                    NaN       NaN NaN        NaN         NaN NaN   \n",
       "22                    NaN       NaN NaN      Мазов         NaN NaN   \n",
       "23                    NaN       NaN NaN  Дроценко          NaN NaN   \n",
       "25                    NaN       NaN NaN        NaN         NaN NaN   \n",
       "\n",
       "                11         12  \n",
       "0              NaN        NaN  \n",
       "2              NaN        NaN  \n",
       "4              NaN        NaN  \n",
       "6              NaN        NaN  \n",
       "9           Цена,     Сумма,   \n",
       "10       руб. коп.  руб. коп.  \n",
       "11            9000      45000  \n",
       "12            3500      35000  \n",
       "14             NaN        NaN  \n",
       "16             NaN        NaN  \n",
       "18   Куликов П.Д.         NaN  \n",
       "20             NaN        NaN  \n",
       "22      Мазов Р.К.        NaN  \n",
       "23  Дроценко А.С.         NaN  \n",
       "25             NaN        NaN  "
      ]
     },
     "execution_count": 22,
     "metadata": {},
     "output_type": "execute_result"
    }
   ],
   "source": [
    "data#.dropna(axis=1,how='all')"
   ]
  },
  {
   "cell_type": "markdown",
   "metadata": {},
   "source": [
    "### Задание 5\n",
    "Выберите те варианты, которые позволят нам получить таблицу. Не забудьте избавиться от пропусков. Заголовок таблицы нам тоже не нужен.\n",
    "```python\n",
    "data.iloc[6:8, [1, 2, 6, 9, 11, 12]]\n",
    "data.iloc[6:8, [0, 2, 6, 9, 11, 12]]\n",
    "data.iloc[7:8, :].dropna(axis=1, how='all')\n",
    "data.iloc[6:8, :].dropna(axis=1, how='any')\n",
    "data.iloc[6:8, :].dropna(axis=1, how='all')\n",
    "```"
   ]
  },
  {
   "cell_type": "code",
   "execution_count": 29,
   "metadata": {},
   "outputs": [],
   "source": [
    "data.iloc[6:8, [1, 2, 6, 9, 11, 12]]\n",
    "data.iloc[6:8, :].dropna(axis=1, how='all')\n",
    "data.iloc[6:8, :].dropna(axis=1, how='any');"
   ]
  },
  {
   "cell_type": "code",
   "execution_count": 30,
   "metadata": {},
   "outputs": [],
   "source": [
    "table = data.iloc[6:8, :].dropna(axis=1, how='all')"
   ]
  },
  {
   "cell_type": "markdown",
   "metadata": {},
   "source": [
    "Как сохранить эту таблицу в Excel файл:\n",
    "\n",
    "```python\n",
    "table.to_excel(\"table.xls\")  \n",
    "```\n",
    "Если мы сохраним таблицу именно так, мы сохраним ее индекс, и в данных будет находиться лишний столбец. Чтобы не сохранять индекс, можно в метод to_excel() передать параметр index=False.\n",
    "\n",
    "Ранее вы познакомились с еще одним способом прочитать Excel-файл с помощью ExcelFile. Теперь вы увидите схожий инструмент для записи — ExcelWriter. Вот как записать данные в файл с его помощью:\n",
    "\n",
    "```python\n",
    "writer = pd.ExcelWriter('test.xlsx')  \n",
    "table.to_excel(writer, index=False, sheet_name='Таблица')  \n",
    "writer.save()\n",
    "```\n",
    "Что здесь произошло?\n",
    "\n",
    "Во-первых, мы все равно использовали метод to_excel(), но вместо пути к будущему файлу передали объект типа ExcelWriter, который создали на первой строке. Во-вторых, мы вызвали метод save() у объекта ExcelWriter. До этого момента сохранение не было завершено, и мы могли сделать еще некоторые действия. Какие? Давайте узнаем."
   ]
  },
  {
   "cell_type": "markdown",
   "metadata": {},
   "source": [
    "### Добавим форматирование\n",
    "Как мы узнали в самом начале, Excel-файлы поддерживают форматирование текста. С помощью pandas мы можем добавлять форматирование в Excel-файлы, используя ExcelWriter. Если мы хотим добавить форматирование, нужно выбрать объект workbook, с помощью которого мы будем добавлять, например, выделение текста жирным. Кроме этого, нужно выбрать нужную страницу:\n",
    "\n",
    "```python\n",
    "workbook = writer.book  \n",
    "worksheet = writer.sheets['Таблица'] \n",
    "```\n",
    "Теперь давайте выделим цену и сумму жирным, а наименование – красным цветом:\n",
    "\n",
    "```python\n",
    "money_fmt = workbook.add_format({'bold': True})  \n",
    "name_fmt = workbook.add_format({'color': 'red'})  \n",
    "  \n",
    "worksheet.set_column('E:F', 20, money_fmt)  \n",
    "worksheet.set_column(1, 1, 20, name_fmt)\n",
    "```\n",
    "Что здесь произошло? \n",
    "\n",
    "1. Мы создали два объекта с описанием двух типов форматирования:\n",
    " - для оформления цены и стоимости – полужирное начертание; \n",
    " - для оформления наименований товаров – красный цвет текста.  \n",
    "2. Связали описанные типы форматирования с определёнными ячейками листа \"Таблица\": \n",
    " - для столбцов E-F выбрали форматирование money_fmt (применяется для оформления цены и стоимости); \n",
    " - для столбца 1, который отвечает за наименование, выбрали форматирование name_fmt.  \n",
    "Для выбора нужных столбцов при задании параметров форматирования мы использовали два способа. Один из них — с помощью буквенных обозначений. Это стандартный способ обращаться к столбцам в Excel. Второй — с помощью номера столбца.\n",
    "\n",
    "Важно запомнить, что при работе с Excel при задании диапазона значений значения указываются включительно. Именно поэтому мы выбрали во втором случае применение форматирования от столбца 1 до столбца 1.\n",
    "\n",
    "Ещё одна вещь, на которую нужно обратить внимание: число 20 среди параметров метода set_column(). Этот параметр означает ширину столбца. Например, если мы передадим число 300, столбец получится очень широким, вы можете убедиться в этом сами.\n",
    "#### Какие еще параметры можно попробовать:\n",
    "\n",
    " - **border** отвечает за границы столбца и может быть равен True или False; \n",
    " - **align** отвечает за расположение данных внутри ячеек, например, center для настройки выравнивания по центру; \n",
    " - **fg_color** отвечает за цвет фона, например, 'green', хотя можно передать и шестнадцатиричное значение, например, '#D7E4BC'."
   ]
  },
  {
   "cell_type": "markdown",
   "metadata": {},
   "source": [
    "## 13.10 Формат XML\n",
    "Давайте сначала посмотрим, как выглядит XML-файл:\n",
    "\n"
   ]
  },
  {
   "cell_type": "markdown",
   "metadata": {},
   "source": [
    "<data>      \n",
    "    <items>    \n",
    "        <item name=\"item1\">item1abc</item>    \n",
    "        <item name=\"item2\">item2abc</item>    \n",
    "    </items>    \n",
    "</data>  "
   ]
  },
  {
   "cell_type": "markdown",
   "metadata": {},
   "source": [
    "```xml\n",
    "<data>      \n",
    "    <items>    \n",
    "        <item name=\"item1\">item1abc</item>    \n",
    "        <item name=\"item2\">item2abc</item>    \n",
    "    </items>    \n",
    "</data> \n",
    "```"
   ]
  },
  {
   "cell_type": "markdown",
   "metadata": {},
   "source": [
    "Если вы успели поработать с HTML, то можете заметить, что XML очень похож на него. XML расшифровывается как eXtensible Markup Language — расширяемый язык разметки. Он позволяет описывать документы, используя теги. В отличие от HTML, где теги заранее чётко заданы, в XML мы можем задавать теги сами.\n",
    "\n",
    "Например, если мы хотим описать меню в ресторане, мы можем слегка изменить код выше:"
   ]
  },
  {
   "cell_type": "markdown",
   "metadata": {},
   "source": [
    "<menu>    \n",
    "    <dish name=\"Кура\">  \n",
    "        <price>40</price>  \n",
    "        <weight>300</weight>  \n",
    "        <class>Мясо</class>  \n",
    "    </dish>\n",
    "    <dish name=\"Греча\">  \n",
    "        <price>20</price>  \n",
    "        <weight>200</weight>  \n",
    "        <class>Крупа</class>  \n",
    "    </dish>\n",
    "</menu>  "
   ]
  },
  {
   "cell_type": "markdown",
   "metadata": {},
   "source": [
    "```xml\n",
    "<menu>\n",
    "    <dish name=\"Кура\">  \n",
    "        <price>40</price>  \n",
    "        <weight>300</weight>  \n",
    "        <class>Мясо</class>  \n",
    "    </dish>\n",
    "    <dish name=\"Греча\">  \n",
    "        <price>20</price>  \n",
    "        <weight>200</weight>  \n",
    "        <class>Крупа</class>  \n",
    "    </dish>\n",
    "</menu>\n",
    "```"
   ]
  },
  {
   "cell_type": "markdown",
   "metadata": {},
   "source": [
    "#### Структура XML-файла "
   ]
  },
  {
   "cell_type": "markdown",
   "metadata": {},
   "source": [
    "Как мы увидели выше, данные в формате XML имеют древовидную структуру. Что такое дерево? Это структура, которая имеет узлы и связи между ними. Самый верхнеуровневый узел называется корнем, а всё, что находится в самом низу, называется листьями. В примере выше корнем является `<menu>`, а листьями, например, `<price>` и `<weight>`. \n",
    "\n",
    "У `<menu>` есть дети (потомки) — это два узла `<dish>`, имеющие разный атрибут name.\n",
    "\n",
    "Мы будем пользоваться модулем `ElementTree`, входящим в стандартный пакет `xml`. Этот модуль позволит нам ходить по дереву XML и смотреть, что находится в каждом его узле, начиная с корня и заканчивая листьями. Импортируем модуль:"
   ]
  },
  {
   "cell_type": "code",
   "execution_count": 49,
   "metadata": {},
   "outputs": [],
   "source": [
    "import xml.etree.ElementTree as ET    "
   ]
  },
  {
   "cell_type": "markdown",
   "metadata": {},
   "source": [
    "#### Чтение файла\n",
    "Теперь давайте прочитаем файл menu.xml."
   ]
  },
  {
   "cell_type": "code",
   "execution_count": 54,
   "metadata": {},
   "outputs": [],
   "source": [
    "tree = ET.parse('./Unit3_data/menu.txt')    \n",
    "root = tree.getroot() "
   ]
  },
  {
   "cell_type": "markdown",
   "metadata": {},
   "source": [
    " Здесь в переменной tree мы читаем всё дерево из XML файла. После этого в переменную root записываем корневой узел дерева tree. Давайте посмотрим, как выглядит root."
   ]
  },
  {
   "cell_type": "code",
   "execution_count": 57,
   "metadata": {},
   "outputs": [
    {
     "data": {
      "text/plain": [
       "(<Element 'menu' at 0x0000000008F514F8>, xml.etree.ElementTree.Element)"
      ]
     },
     "execution_count": 57,
     "metadata": {},
     "output_type": "execute_result"
    }
   ],
   "source": [
    "root,type(root)"
   ]
  },
  {
   "cell_type": "code",
   "execution_count": 58,
   "metadata": {},
   "outputs": [
    {
     "data": {
      "text/plain": [
       "[<Element 'dish' at 0x0000000008F513B8>,\n",
       " <Element 'dish' at 0x0000000008F51DB8>]"
      ]
     },
     "execution_count": 58,
     "metadata": {},
     "output_type": "execute_result"
    }
   ],
   "source": [
    "root.getchildren()  "
   ]
  },
  {
   "cell_type": "markdown",
   "metadata": {},
   "source": [
    "На самом деле можно работать с деревом XML как со списком, если мы используем ElementTree. Каждый узел будет являться списком, в котором находятся его узлы-дети. Это значит, что код:`root.getchildren()[0] ` и код: `root[0] ` \n",
    "вернут нам одно и то же."
   ]
  },
  {
   "cell_type": "code",
   "execution_count": 59,
   "metadata": {},
   "outputs": [
    {
     "data": {
      "text/plain": [
       "(<Element 'dish' at 0x0000000008F513B8>,\n",
       " <Element 'dish' at 0x0000000008F513B8>)"
      ]
     },
     "execution_count": 59,
     "metadata": {},
     "output_type": "execute_result"
    }
   ],
   "source": [
    "root.getchildren()[0], root[0] "
   ]
  },
  {
   "cell_type": "code",
   "execution_count": 62,
   "metadata": {},
   "outputs": [
    {
     "data": {
      "text/plain": [
       "{'name': 'Кура'}"
      ]
     },
     "execution_count": 62,
     "metadata": {},
     "output_type": "execute_result"
    }
   ],
   "source": [
    "root[0].attrib"
   ]
  },
  {
   "cell_type": "code",
   "execution_count": 64,
   "metadata": {},
   "outputs": [
    {
     "data": {
      "text/plain": [
       "<Element 'price' at 0x0000000008F515E8>"
      ]
     },
     "execution_count": 64,
     "metadata": {},
     "output_type": "execute_result"
    }
   ],
   "source": [
    "root[0][0]"
   ]
  },
  {
   "cell_type": "code",
   "execution_count": 67,
   "metadata": {},
   "outputs": [
    {
     "data": {
      "text/plain": [
       "'40'"
      ]
     },
     "execution_count": 67,
     "metadata": {},
     "output_type": "execute_result"
    }
   ],
   "source": [
    "root[0][0].text"
   ]
  },
  {
   "cell_type": "code",
   "execution_count": 85,
   "metadata": {},
   "outputs": [
    {
     "name": "stdout",
     "output_type": "stream",
     "text": [
      "dish Кура\n",
      "price 40\n",
      "weight 300\n",
      "class Мясо\n"
     ]
    }
   ],
   "source": [
    "\n",
    "print(root[0].tag, root[0].attrib['name'])\n",
    "print(root[0][0].tag,root[0][0].text)\n",
    "print(root[0][1].tag,root[0][1].text)\n",
    "print(root[0][2].tag,root[0][2].text)"
   ]
  },
  {
   "cell_type": "code",
   "execution_count": 104,
   "metadata": {},
   "outputs": [
    {
     "data": {
      "text/plain": [
       "('Кура', 'Кура')"
      ]
     },
     "execution_count": 104,
     "metadata": {},
     "output_type": "execute_result"
    }
   ],
   "source": [
    "root[0].attrib['name'], root[0].get('name')"
   ]
  },
  {
   "cell_type": "markdown",
   "metadata": {},
   "source": [
    "### Задание 3\n",
    "Какое значение тега у узла root[0][1]?   \n",
    "Введите ответ в поле ниже, без кавычек."
   ]
  },
  {
   "cell_type": "code",
   "execution_count": 86,
   "metadata": {},
   "outputs": [
    {
     "data": {
      "text/plain": [
       "'weight'"
      ]
     },
     "execution_count": 86,
     "metadata": {},
     "output_type": "execute_result"
    }
   ],
   "source": [
    "root[0][1].tag"
   ]
  },
  {
   "cell_type": "markdown",
   "metadata": {},
   "source": [
    "#### Использование циклов\n",
    "Так как к узлам можно обращаться как к спискам, можно использовать циклы для итерации по детям узлов.\n",
    "\n",
    "Например, если мы хотим напечатать все значения в листьях, то есть название блюда, название параметра этого блюда и значение параметра, то поможет следующий код:"
   ]
  },
  {
   "cell_type": "code",
   "execution_count": 87,
   "metadata": {},
   "outputs": [
    {
     "name": "stdout",
     "output_type": "stream",
     "text": [
      "Кура price 40\n",
      "Кура weight 300\n",
      "Кура class Мясо\n",
      "\n",
      "Греча price 20\n",
      "Греча weight 200\n",
      "Греча class Крупа\n",
      "\n"
     ]
    }
   ],
   "source": [
    "for elem in root:  \n",
    "    for subelem in elem:  \n",
    "        print(elem.attrib['name'], subelem.tag, subelem.text)  \n",
    "    print() "
   ]
  },
  {
   "cell_type": "markdown",
   "metadata": {},
   "source": [
    "### Задание 4\n",
    "Посчитайте, сколько детей у первого объекта dish. Для этого используйте метод len(), ответ запишите в поле ниже."
   ]
  },
  {
   "cell_type": "code",
   "execution_count": 99,
   "metadata": {},
   "outputs": [
    {
     "data": {
      "text/plain": [
       "3"
      ]
     },
     "execution_count": 99,
     "metadata": {},
     "output_type": "execute_result"
    }
   ],
   "source": [
    "len(root[0])"
   ]
  },
  {
   "cell_type": "markdown",
   "metadata": {},
   "source": [
    "## 13.12 DataFrame и JSON из XML"
   ]
  },
  {
   "cell_type": "markdown",
   "metadata": {},
   "source": [
    "Превращение XML в pd.DataFrame\n",
    "Давайте посмотрим, как превратить наш XML-файл в pandas DataFrame:\n",
    "\n",
    "```python\n",
    "df_index = ['name', 'price', 'weight', 'class']  \n",
    "df = pd.DataFrame(columns=df_index)  \n",
    "  \n",
    "for elem in root:  \n",
    "    elements = [elem.get('name'), elem[0].text, elem[1].text, elem[2].text]  \n",
    "    df = df.append(pd.Series(elements, index=df_index), ignore_index=True) \n",
    "```\n",
    "Посмотрим на получившийся DataFrame:\n",
    "\n"
   ]
  },
  {
   "cell_type": "code",
   "execution_count": 101,
   "metadata": {},
   "outputs": [
    {
     "data": {
      "text/html": [
       "<div>\n",
       "<style scoped>\n",
       "    .dataframe tbody tr th:only-of-type {\n",
       "        vertical-align: middle;\n",
       "    }\n",
       "\n",
       "    .dataframe tbody tr th {\n",
       "        vertical-align: top;\n",
       "    }\n",
       "\n",
       "    .dataframe thead th {\n",
       "        text-align: right;\n",
       "    }\n",
       "</style>\n",
       "<table border=\"1\" class=\"dataframe\">\n",
       "  <thead>\n",
       "    <tr style=\"text-align: right;\">\n",
       "      <th></th>\n",
       "      <th>name</th>\n",
       "      <th>price</th>\n",
       "      <th>weight</th>\n",
       "      <th>class</th>\n",
       "    </tr>\n",
       "  </thead>\n",
       "  <tbody>\n",
       "    <tr>\n",
       "      <th>0</th>\n",
       "      <td>Кура</td>\n",
       "      <td>40</td>\n",
       "      <td>300</td>\n",
       "      <td>Мясо</td>\n",
       "    </tr>\n",
       "    <tr>\n",
       "      <th>1</th>\n",
       "      <td>Греча</td>\n",
       "      <td>20</td>\n",
       "      <td>200</td>\n",
       "      <td>Крупа</td>\n",
       "    </tr>\n",
       "  </tbody>\n",
       "</table>\n",
       "</div>"
      ],
      "text/plain": [
       "    name price weight  class\n",
       "0   Кура    40    300   Мясо\n",
       "1  Греча    20    200  Крупа"
      ]
     },
     "execution_count": 101,
     "metadata": {},
     "output_type": "execute_result"
    }
   ],
   "source": [
    "df_index = ['name', 'price', 'weight', 'class']  \n",
    "df = pd.DataFrame(columns=df_index)  \n",
    "\n",
    "for elem in root:  \n",
    "    elements = [elem.get('name'), elem[0].text, elem[1].text, elem[2].text]  \n",
    "    df = df.append(pd.Series(elements, index=df_index), ignore_index=True) \n",
    "    \n",
    "df"
   ]
  },
  {
   "cell_type": "code",
   "execution_count": null,
   "metadata": {},
   "outputs": [],
   "source": []
  },
  {
   "cell_type": "code",
   "execution_count": null,
   "metadata": {},
   "outputs": [],
   "source": []
  },
  {
   "cell_type": "markdown",
   "metadata": {},
   "source": [
    "```python\n",
    "import xmljson  \n",
    "xmljson.parker.data(root)  \n",
    "```"
   ]
  },
  {
   "cell_type": "markdown",
   "metadata": {},
   "source": [
    "Превращение XML в JSON\n",
    "Ранее вы могли обратить внимание, что XML похож на JSON. Для Python есть несколько сторонних библиотек, которые позволяют трансформировать XML в JSON. Одна из таких библиотек (пакетов) — xmljson. Есть несколько принятых соглашений (conventions) по превращению XML в JSON. Рассмотрим простой пример (пример был взят отсюда), прежде чем поработать с нашими данными. Допустим, наши данные выглядят так:\n",
    "\n",
    "```xml\n",
    "<p id=\"1\">text</p>\n",
    "```  \n",
    "Тогда для соглашения badgerfish данные будут выглядеть так:\n",
    "\n",
    "\n",
    "{  \n",
    "  'p': {  \n",
    "    '@id': 1,  \n",
    "    '$': 'text'  \n",
    "  }  \n",
    "}\n",
    "\n",
    "Названия атрибутов предваряются символом @, значения помечаются символом $. Соглашение gdata:\n",
    "\n",
    "{  \n",
    "  'p': {  \n",
    "    '$t': 'text'  \n",
    "  }  \n",
    "} \n",
    "\n",
    "Это соглашение не поддерживает атрибуты. Значение помечено как $t. Соглашение parker:\n",
    "\n",
    "{  \n",
    "  'p': 'text'  \n",
    "}  \n",
    "\n",
    "Атрибуты также не поддерживаются. Видно, что это самый простой способ представить XML в виде JSON: значение тега записывается как значение в словаре, где ключ — название тега. Переведем наши данные в JSON с помощью соглашения parker:"
   ]
  },
  {
   "cell_type": "markdown",
   "metadata": {},
   "source": [
    "### Запись в XML-файл\n",
    "Осталось самое последнее — научиться создавать свои XML-файлы. Вероятно, это почти никогда не пригодится вам, но все же такая ситуация может возникнуть. Чтобы создать корень дерева, нужно использовать метод Element() из класса ElementTree:\n",
    "\n",
    "```python\n",
    "new_root = ET.Element('menu')  \n",
    "```\n",
    "Теперь мы можем добавлять новые узлы в наше дерево, используя метод SubElement из того же класса:\n",
    "\n",
    "```python\n",
    "dish_1 = ET.SubElement(new_root, 'dish')  \n",
    "dish_2 = ET.SubElement(new_root, 'dish')  \n",
    "new_root.getchildren() \n",
    "```\n",
    "В метод SubElement мы передали первым аргументом узел, в который добавляем потомка. Вторым аргументом мы передали название нового тега. Точно так же можно добавлять новые узлы к любым существующим узлам, не только к корню."
   ]
  },
  {
   "cell_type": "markdown",
   "metadata": {},
   "source": [
    "Атрибуты можно добавить с помощью метода set(), передав первым параметром название атрибута, а вторым — его значение:\n",
    "\n",
    "```python\n",
    "dish_1.set('name', 'Кура')  \n",
    "```\n",
    "Значение тега можно задать через уже знакомый вам параметр text:\n",
    "\n",
    "```python\n",
    "dish_1.text = 'Белок'\n",
    "```\n",
    "\n",
    "Можно записать файл, используя сам класс ElementTree:\n",
    "\n",
    "```python\n",
    "ET.ElementTree(new_root).write('new_menu_good.xml', encoding=\"utf-8\")  \n",
    "```\n",
    "Для этого, мы передаем в класс ElementTree наше дерево (не его строковое представление) и вызываем метод write(). В метод мы передаем путь к новому файлу и нужную нам кодировку. Посмотрим, что получилось:"
   ]
  },
  {
   "cell_type": "code",
   "execution_count": 111,
   "metadata": {},
   "outputs": [],
   "source": [
    "new_root = ET.Element('menu')\n",
    "\n",
    "dish_1 = ET.SubElement(new_root, 'dish')  \n",
    "dish_2 = ET.SubElement(new_root, 'dish')  \n",
    "\n",
    "dish_1.set('name', 'Кура')\n",
    "dish_1.text = 'Белок'"
   ]
  },
  {
   "cell_type": "code",
   "execution_count": 117,
   "metadata": {},
   "outputs": [],
   "source": [
    "ET.ElementTree(new_root).write('new_menu_good.xml', encoding=\"utf-8\")  "
   ]
  },
  {
   "cell_type": "code",
   "execution_count": null,
   "metadata": {},
   "outputs": [],
   "source": []
  },
  {
   "cell_type": "code",
   "execution_count": null,
   "metadata": {},
   "outputs": [],
   "source": []
  },
  {
   "cell_type": "code",
   "execution_count": null,
   "metadata": {},
   "outputs": [],
   "source": []
  },
  {
   "cell_type": "code",
   "execution_count": 91,
   "metadata": {},
   "outputs": [],
   "source": [
    "#*********************************************ПОДВАЛ************************************************"
   ]
  },
  {
   "cell_type": "code",
   "execution_count": 64,
   "metadata": {},
   "outputs": [
    {
     "data": {
      "text/plain": [
       "['purple onion',\n",
       " 'romaine lettuce',\n",
       " 'feta cheese crumbles',\n",
       " 'seasoning',\n",
       " 'grape tomatoes',\n",
       " 'garlic',\n",
       " 'pepper',\n",
       " 'black olives',\n",
       " 'garbanzo beans']"
      ]
     },
     "execution_count": 64,
     "metadata": {},
     "output_type": "execute_result"
    }
   ],
   "source": [
    "row = df[df['id'] == 10259] \n",
    "\n",
    "ingredients_dummies = row.loc[0][3:]\n",
    "(ingredients_dummies[ingredients_dummies>0]).index.tolist()\n"
   ]
  },
  {
   "cell_type": "code",
   "execution_count": null,
   "metadata": {},
   "outputs": [],
   "source": []
  },
  {
   "cell_type": "code",
   "execution_count": null,
   "metadata": {},
   "outputs": [],
   "source": []
  }
 ],
 "metadata": {
  "kernelspec": {
   "display_name": "Python 3",
   "language": "python",
   "name": "python3"
  },
  "language_info": {
   "codemirror_mode": {
    "name": "ipython",
    "version": 3
   },
   "file_extension": ".py",
   "mimetype": "text/x-python",
   "name": "python",
   "nbconvert_exporter": "python",
   "pygments_lexer": "ipython3",
   "version": "3.6.5"
  }
 },
 "nbformat": 4,
 "nbformat_minor": 2
}
