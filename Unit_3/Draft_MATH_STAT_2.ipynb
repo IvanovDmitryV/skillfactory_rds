{
 "cells": [
  {
   "cell_type": "code",
   "execution_count": 1,
   "metadata": {},
   "outputs": [],
   "source": [
    "import numpy as np"
   ]
  },
  {
   "cell_type": "code",
   "execution_count": null,
   "metadata": {},
   "outputs": [],
   "source": []
  },
  {
   "cell_type": "markdown",
   "metadata": {},
   "source": [
    "### Задание 2.6.3"
   ]
  },
  {
   "cell_type": "code",
   "execution_count": 2,
   "metadata": {},
   "outputs": [],
   "source": [
    "A = np.array([[1,2],[-3,1],[1,2],[1,-1]])\n",
    "b = np.array([1,4,5,0]).reshape((4,1))"
   ]
  },
  {
   "cell_type": "markdown",
   "metadata": {},
   "source": [
    "#### Задание 2.6.3_1\n",
    "a) Вычислите матрицу Грама столбцов $ А : $ $A^{T}A =$"
   ]
  },
  {
   "cell_type": "code",
   "execution_count": 6,
   "metadata": {},
   "outputs": [
    {
     "data": {
      "text/plain": [
       "array([[12,  0],\n",
       "       [ 0, 10]])"
      ]
     },
     "execution_count": 6,
     "metadata": {},
     "output_type": "execute_result"
    }
   ],
   "source": [
    "G = A.T @ A\n",
    "G"
   ]
  },
  {
   "cell_type": "markdown",
   "metadata": {},
   "source": [
    "#### Задание 2.6.3_2\n",
    "b) $(A^{T}A)^{-1}$ имеет вид:"
   ]
  },
  {
   "cell_type": "code",
   "execution_count": 4,
   "metadata": {},
   "outputs": [
    {
     "data": {
      "text/plain": [
       "array([[0.08333333, 0.        ],\n",
       "       [0.        , 0.1       ]])"
      ]
     },
     "execution_count": 4,
     "metadata": {},
     "output_type": "execute_result"
    }
   ],
   "source": [
    "np.linalg.inv(G)"
   ]
  },
  {
   "cell_type": "markdown",
   "metadata": {},
   "source": [
    "#### Задание 2.6.3_3\n",
    "с) $A^{T}\\vec{b} =$ $ ?$  \n",
    "Введите координаты полученного вектора через запятую (без пробела):\n"
   ]
  },
  {
   "cell_type": "code",
   "execution_count": 5,
   "metadata": {},
   "outputs": [
    {
     "data": {
      "text/plain": [
       "array([[-6],\n",
       "       [16]])"
      ]
     },
     "execution_count": 5,
     "metadata": {},
     "output_type": "execute_result"
    }
   ],
   "source": [
    "A.T @ b"
   ]
  },
  {
   "cell_type": "markdown",
   "metadata": {},
   "source": [
    "#### Задание 2.6.3_4\n",
    "d) $\\hat{w}= $  \n",
    "Примечание: для корректого ответа НЕ округляйте $(A^{T}A)^{-1}$\n",
    "\n",
    "Введите координаты полученного вектора через запятую (без пробела):"
   ]
  },
  {
   "cell_type": "code",
   "execution_count": 7,
   "metadata": {},
   "outputs": [
    {
     "data": {
      "text/plain": [
       "array([[-0.5],\n",
       "       [ 1.6]])"
      ]
     },
     "execution_count": 7,
     "metadata": {},
     "output_type": "execute_result"
    }
   ],
   "source": [
    "G = A.T @ A\n",
    "(np.linalg.inv(G)) @ (A.T @ b)"
   ]
  },
  {
   "cell_type": "markdown",
   "metadata": {},
   "source": [
    "## 2.7. Классическая OLS линейная регрессия"
   ]
  },
  {
   "cell_type": "markdown",
   "metadata": {},
   "source": [
    "### Задание 2.7.5\n",
    "Используя данные, полученные нами в модуле ранее (см. таблицу и результат применения OLS к ней) сделайте прогноз типичной стоимости (в тыс. долларов) дома в городке с уровнем преступности $ CRIM = 0.2 $ и средним количеством комнат в доме $ RM = 6 $.\n",
    "\n",
    "Прогноз стоимости:\n",
    "\n",
    "Ответ округлите до тысячных"
   ]
  },
  {
   "cell_type": "code",
   "execution_count": 9,
   "metadata": {},
   "outputs": [
    {
     "data": {
      "text/plain": [
       "21.048"
      ]
     },
     "execution_count": 9,
     "metadata": {},
     "output_type": "execute_result"
    }
   ],
   "source": [
    "crim = 0.2\n",
    "rm = 6\n",
    "\n",
    "round(-29.3 - 0.26*crim + 8.4*rm,3)"
   ]
  },
  {
   "cell_type": "markdown",
   "metadata": {},
   "source": [
    "## 2.9. Стандартизация признаков"
   ]
  },
  {
   "cell_type": "markdown",
   "metadata": {},
   "source": [
    "### Задание 2.9.2\n",
    "\n",
    "Стандартизируйте признак $x_1 = \\left(\\begin{array}{c} \n",
    "      11 \\\\\n",
    "      8\n",
    "    \\end{array}\\right)$ . Ответ округлите до сотых.  \n",
    "Введите координты полученного вектора через запятую (без пробела):"
   ]
  },
  {
   "cell_type": "code",
   "execution_count": 117,
   "metadata": {},
   "outputs": [
    {
     "data": {
      "text/plain": [
       "[0.71, -0.71]"
      ]
     },
     "execution_count": 117,
     "metadata": {},
     "output_type": "execute_result"
    }
   ],
   "source": [
    "x1 = np.array([11,8])\n",
    "ans = (x1-x1.mean()) / np.linalg.norm(x1-x1.mean())\n",
    "    \n",
    "list(map(lambda x: round(x,2),ans))"
   ]
  },
  {
   "cell_type": "code",
   "execution_count": 24,
   "metadata": {},
   "outputs": [
    {
     "data": {
      "text/plain": [
       "array([ 0.70710678, -0.70710678])"
      ]
     },
     "execution_count": 24,
     "metadata": {},
     "output_type": "execute_result"
    }
   ],
   "source": [
    "ans"
   ]
  },
  {
   "cell_type": "markdown",
   "metadata": {},
   "source": [
    "## 2.11. --> Практика. Классический OLS алгоритм"
   ]
  },
  {
   "cell_type": "code",
   "execution_count": 28,
   "metadata": {},
   "outputs": [],
   "source": [
    "# Загрузка библиотек\n",
    "import numpy as np # для работы с массивами\n",
    "import pandas as pd # для работы DataFrame \n",
    "import seaborn as sns # библиотека для визуализации статистических данных\n",
    "import matplotlib.pyplot as plt # для построения графиков\n",
    "\n",
    "%matplotlib inline"
   ]
  },
  {
   "cell_type": "markdown",
   "metadata": {},
   "source": [
    "В датасете Admission_Predict_Ver1.1.csv находятся данные об абитуриентах и вероятности приёма их в магистратуру.\n",
    "\n",
    "Целевой переменной является вероятность приёма в университет — Chance of Admit (ranging from 0 to 1 )\n",
    "\n",
    "Признаки: \n",
    "\n",
    "1. GRE Scores ( out of 340 ) — баллы по GRE тестированию\n",
    "2. TOEFL Scores ( out of 120 ) — баллы по экзамену TOEFL\n",
    "3. University Rating ( out of 5 ) — рейтинг университета \n",
    "4. Statement of Purpose Strength ( out of 5 ) — весомость мотивационного письма\n",
    "5. Letter of Recommendation Strength ( out of 5 ) — весомость рекомендационных писем\n",
    "6. Undergraduate GPA ( out of 10 ) — средний балл в бакалавриате\n",
    "7. Research Experience ( either 0 or 1 ) — наличие опыта исследовательской работы ( нет / есть)"
   ]
  },
  {
   "cell_type": "code",
   "execution_count": 32,
   "metadata": {},
   "outputs": [],
   "source": [
    "df = pd.read_csv('./Unit3_data/Admission_Predict_Ver1.1.csv')"
   ]
  },
  {
   "cell_type": "code",
   "execution_count": 33,
   "metadata": {},
   "outputs": [
    {
     "data": {
      "text/html": [
       "<div>\n",
       "<style scoped>\n",
       "    .dataframe tbody tr th:only-of-type {\n",
       "        vertical-align: middle;\n",
       "    }\n",
       "\n",
       "    .dataframe tbody tr th {\n",
       "        vertical-align: top;\n",
       "    }\n",
       "\n",
       "    .dataframe thead th {\n",
       "        text-align: right;\n",
       "    }\n",
       "</style>\n",
       "<table border=\"1\" class=\"dataframe\">\n",
       "  <thead>\n",
       "    <tr style=\"text-align: right;\">\n",
       "      <th></th>\n",
       "      <th>Serial No.</th>\n",
       "      <th>GRE Score</th>\n",
       "      <th>TOEFL Score</th>\n",
       "      <th>University Rating</th>\n",
       "      <th>SOP</th>\n",
       "      <th>LOR</th>\n",
       "      <th>CGPA</th>\n",
       "      <th>Research</th>\n",
       "      <th>Chance of Admit</th>\n",
       "    </tr>\n",
       "  </thead>\n",
       "  <tbody>\n",
       "    <tr>\n",
       "      <th>0</th>\n",
       "      <td>1</td>\n",
       "      <td>337</td>\n",
       "      <td>118</td>\n",
       "      <td>4</td>\n",
       "      <td>4.5</td>\n",
       "      <td>4.5</td>\n",
       "      <td>9.65</td>\n",
       "      <td>1</td>\n",
       "      <td>0.92</td>\n",
       "    </tr>\n",
       "    <tr>\n",
       "      <th>1</th>\n",
       "      <td>2</td>\n",
       "      <td>324</td>\n",
       "      <td>107</td>\n",
       "      <td>4</td>\n",
       "      <td>4.0</td>\n",
       "      <td>4.5</td>\n",
       "      <td>8.87</td>\n",
       "      <td>1</td>\n",
       "      <td>0.76</td>\n",
       "    </tr>\n",
       "    <tr>\n",
       "      <th>2</th>\n",
       "      <td>3</td>\n",
       "      <td>316</td>\n",
       "      <td>104</td>\n",
       "      <td>3</td>\n",
       "      <td>3.0</td>\n",
       "      <td>3.5</td>\n",
       "      <td>8.00</td>\n",
       "      <td>1</td>\n",
       "      <td>0.72</td>\n",
       "    </tr>\n",
       "    <tr>\n",
       "      <th>3</th>\n",
       "      <td>4</td>\n",
       "      <td>322</td>\n",
       "      <td>110</td>\n",
       "      <td>3</td>\n",
       "      <td>3.5</td>\n",
       "      <td>2.5</td>\n",
       "      <td>8.67</td>\n",
       "      <td>1</td>\n",
       "      <td>0.80</td>\n",
       "    </tr>\n",
       "    <tr>\n",
       "      <th>4</th>\n",
       "      <td>5</td>\n",
       "      <td>314</td>\n",
       "      <td>103</td>\n",
       "      <td>2</td>\n",
       "      <td>2.0</td>\n",
       "      <td>3.0</td>\n",
       "      <td>8.21</td>\n",
       "      <td>0</td>\n",
       "      <td>0.65</td>\n",
       "    </tr>\n",
       "  </tbody>\n",
       "</table>\n",
       "</div>"
      ],
      "text/plain": [
       "   Serial No.  GRE Score  TOEFL Score  University Rating  SOP  LOR   CGPA  \\\n",
       "0           1        337          118                  4  4.5   4.5  9.65   \n",
       "1           2        324          107                  4  4.0   4.5  8.87   \n",
       "2           3        316          104                  3  3.0   3.5  8.00   \n",
       "3           4        322          110                  3  3.5   2.5  8.67   \n",
       "4           5        314          103                  2  2.0   3.0  8.21   \n",
       "\n",
       "   Research  Chance of Admit   \n",
       "0         1              0.92  \n",
       "1         1              0.76  \n",
       "2         1              0.72  \n",
       "3         1              0.80  \n",
       "4         0              0.65  "
      ]
     },
     "execution_count": 33,
     "metadata": {},
     "output_type": "execute_result"
    }
   ],
   "source": [
    "df.head()"
   ]
  },
  {
   "cell_type": "markdown",
   "metadata": {},
   "source": [
    "### Задание 2.11.1\n",
    "Сколько всего абитуриентов в выборке?"
   ]
  },
  {
   "cell_type": "code",
   "execution_count": 36,
   "metadata": {},
   "outputs": [
    {
     "data": {
      "text/plain": [
       "500"
      ]
     },
     "execution_count": 36,
     "metadata": {},
     "output_type": "execute_result"
    }
   ],
   "source": [
    "len(df)"
   ]
  },
  {
   "cell_type": "markdown",
   "metadata": {},
   "source": [
    "### Задание 2.11.2\n",
    "Составьте корреляциюнную матрицу перечисленных признаков вместе с целевой переменной, исключив столбец `Serial No.`\n",
    "\n",
    "В поля для ответа впишите, округлив до двух знаков после точки:\n",
    "корреляцию между `Chance of Admit` и `GRE Scores`"
   ]
  },
  {
   "cell_type": "code",
   "execution_count": 53,
   "metadata": {},
   "outputs": [
    {
     "data": {
      "text/plain": [
       "Index(['GRE Score', 'TOEFL Score', 'University Rating', 'SOP', 'LOR ', 'CGPA',\n",
       "       'Research', 'Chance of Admit '],\n",
       "      dtype='object')"
      ]
     },
     "execution_count": 53,
     "metadata": {},
     "output_type": "execute_result"
    }
   ],
   "source": [
    "corr_matrix.columns"
   ]
  },
  {
   "cell_type": "code",
   "execution_count": 56,
   "metadata": {},
   "outputs": [
    {
     "data": {
      "text/plain": [
       "0.81"
      ]
     },
     "execution_count": 56,
     "metadata": {},
     "output_type": "execute_result"
    }
   ],
   "source": [
    "corr_matrix = round(df.drop(['Serial No.'],axis=1).corr(),2)\n",
    "corr_matrix['Chance of Admit ']['GRE Score']"
   ]
  },
  {
   "cell_type": "markdown",
   "metadata": {},
   "source": [
    "корреляцию между Chance of Admit и Research Experience"
   ]
  },
  {
   "cell_type": "code",
   "execution_count": 58,
   "metadata": {},
   "outputs": [
    {
     "data": {
      "text/plain": [
       "0.55"
      ]
     },
     "execution_count": 58,
     "metadata": {},
     "output_type": "execute_result"
    }
   ],
   "source": [
    "corr_matrix['Chance of Admit ']['Research']"
   ]
  },
  {
   "cell_type": "markdown",
   "metadata": {},
   "source": [
    "корреляцию между GRE Scores и Research Experience"
   ]
  },
  {
   "cell_type": "code",
   "execution_count": 59,
   "metadata": {},
   "outputs": [
    {
     "data": {
      "text/plain": [
       "0.56"
      ]
     },
     "execution_count": 59,
     "metadata": {},
     "output_type": "execute_result"
    }
   ],
   "source": [
    "corr_matrix['GRE Score']['Research']"
   ]
  },
  {
   "cell_type": "markdown",
   "metadata": {},
   "source": [
    "### Задание 2.11.3\n",
    "Какой признак сильнее всех скоррелирован с целевым параметром?\n",
    "\n",
    "В поле для ответа введите название признака, как оно указано в DataFrame"
   ]
  },
  {
   "cell_type": "code",
   "execution_count": 64,
   "metadata": {},
   "outputs": [
    {
     "data": {
      "text/plain": [
       "'CGPA'"
      ]
     },
     "execution_count": 64,
     "metadata": {},
     "output_type": "execute_result"
    }
   ],
   "source": [
    "(corr_matrix - np.eye(len(corr_matrix)))['Chance of Admit '].abs().idxmax()"
   ]
  },
  {
   "cell_type": "markdown",
   "metadata": {},
   "source": [
    "### Задание 2.11.4\n",
    "Постройте отдельно две матрицы корреляций признаков и целевой переменной: для соискателей, делавших исследования (Research=1) и для тех, у кого исследований нет (Research=0).\n",
    "\n",
    "В каком случае признаки сильнее скоррелированы между собой?"
   ]
  },
  {
   "cell_type": "code",
   "execution_count": 72,
   "metadata": {},
   "outputs": [
    {
     "data": {
      "text/html": [
       "<div>\n",
       "<style scoped>\n",
       "    .dataframe tbody tr th:only-of-type {\n",
       "        vertical-align: middle;\n",
       "    }\n",
       "\n",
       "    .dataframe tbody tr th {\n",
       "        vertical-align: top;\n",
       "    }\n",
       "\n",
       "    .dataframe thead th {\n",
       "        text-align: right;\n",
       "    }\n",
       "</style>\n",
       "<table border=\"1\" class=\"dataframe\">\n",
       "  <thead>\n",
       "    <tr style=\"text-align: right;\">\n",
       "      <th></th>\n",
       "      <th>GRE Score</th>\n",
       "      <th>TOEFL Score</th>\n",
       "      <th>University Rating</th>\n",
       "      <th>SOP</th>\n",
       "      <th>LOR</th>\n",
       "      <th>CGPA</th>\n",
       "      <th>Chance of Admit</th>\n",
       "    </tr>\n",
       "  </thead>\n",
       "  <tbody>\n",
       "    <tr>\n",
       "      <th>GRE Score</th>\n",
       "      <td>0.000000</td>\n",
       "      <td>0.143502</td>\n",
       "      <td>0.230024</td>\n",
       "      <td>0.241894</td>\n",
       "      <td>0.077510</td>\n",
       "      <td>0.128244</td>\n",
       "      <td>0.198612</td>\n",
       "    </tr>\n",
       "    <tr>\n",
       "      <th>TOEFL Score</th>\n",
       "      <td>0.143502</td>\n",
       "      <td>0.000000</td>\n",
       "      <td>0.106698</td>\n",
       "      <td>0.152873</td>\n",
       "      <td>-0.034757</td>\n",
       "      <td>0.087399</td>\n",
       "      <td>0.164722</td>\n",
       "    </tr>\n",
       "    <tr>\n",
       "      <th>University Rating</th>\n",
       "      <td>0.230024</td>\n",
       "      <td>0.106698</td>\n",
       "      <td>0.000000</td>\n",
       "      <td>0.115630</td>\n",
       "      <td>0.089619</td>\n",
       "      <td>0.175811</td>\n",
       "      <td>0.284513</td>\n",
       "    </tr>\n",
       "    <tr>\n",
       "      <th>SOP</th>\n",
       "      <td>0.241894</td>\n",
       "      <td>0.152873</td>\n",
       "      <td>0.115630</td>\n",
       "      <td>0.000000</td>\n",
       "      <td>-0.026822</td>\n",
       "      <td>0.170653</td>\n",
       "      <td>0.238050</td>\n",
       "    </tr>\n",
       "    <tr>\n",
       "      <th>LOR</th>\n",
       "      <td>0.077510</td>\n",
       "      <td>-0.034757</td>\n",
       "      <td>0.089619</td>\n",
       "      <td>-0.026822</td>\n",
       "      <td>0.000000</td>\n",
       "      <td>0.002277</td>\n",
       "      <td>0.046030</td>\n",
       "    </tr>\n",
       "    <tr>\n",
       "      <th>CGPA</th>\n",
       "      <td>0.128244</td>\n",
       "      <td>0.087399</td>\n",
       "      <td>0.175811</td>\n",
       "      <td>0.170653</td>\n",
       "      <td>0.002277</td>\n",
       "      <td>0.000000</td>\n",
       "      <td>0.139775</td>\n",
       "    </tr>\n",
       "    <tr>\n",
       "      <th>Chance of Admit</th>\n",
       "      <td>0.198612</td>\n",
       "      <td>0.164722</td>\n",
       "      <td>0.284513</td>\n",
       "      <td>0.238050</td>\n",
       "      <td>0.046030</td>\n",
       "      <td>0.139775</td>\n",
       "      <td>0.000000</td>\n",
       "    </tr>\n",
       "  </tbody>\n",
       "</table>\n",
       "</div>"
      ],
      "text/plain": [
       "                   GRE Score  TOEFL Score  University Rating       SOP  \\\n",
       "GRE Score           0.000000     0.143502           0.230024  0.241894   \n",
       "TOEFL Score         0.143502     0.000000           0.106698  0.152873   \n",
       "University Rating   0.230024     0.106698           0.000000  0.115630   \n",
       "SOP                 0.241894     0.152873           0.115630  0.000000   \n",
       "LOR                 0.077510    -0.034757           0.089619 -0.026822   \n",
       "CGPA                0.128244     0.087399           0.175811  0.170653   \n",
       "Chance of Admit     0.198612     0.164722           0.284513  0.238050   \n",
       "\n",
       "                       LOR       CGPA  Chance of Admit   \n",
       "GRE Score          0.077510  0.128244          0.198612  \n",
       "TOEFL Score       -0.034757  0.087399          0.164722  \n",
       "University Rating  0.089619  0.175811          0.284513  \n",
       "SOP               -0.026822  0.170653          0.238050  \n",
       "LOR                0.000000  0.002277          0.046030  \n",
       "CGPA               0.002277  0.000000          0.139775  \n",
       "Chance of Admit    0.046030  0.139775          0.000000  "
      ]
     },
     "execution_count": 72,
     "metadata": {},
     "output_type": "execute_result"
    }
   ],
   "source": [
    "Research_1 = df.drop(['Serial No.'],axis=1)[df.Research == 1].drop(['Research'],axis=1).corr()\n",
    "Research_0 = df.drop(['Serial No.'],axis=1)[df.Research == 0].drop(['Research'],axis=1).corr()\n",
    "Research_1 - Research_0"
   ]
  },
  {
   "cell_type": "markdown",
   "metadata": {},
   "source": [
    "### Задание 2.11.5\n",
    "В случае, когда корреляции между данными меньше, какие признаки наиболее скоррелированы с целевой переменной?"
   ]
  },
  {
   "cell_type": "code",
   "execution_count": 83,
   "metadata": {},
   "outputs": [
    {
     "data": {
      "text/plain": [
       "Index(['CGPA', 'TOEFL Score'], dtype='object')"
      ]
     },
     "execution_count": 83,
     "metadata": {},
     "output_type": "execute_result"
    }
   ],
   "source": [
    "Research_0['Chance of Admit '].sort_values(ascending = False).index[1:3]"
   ]
  },
  {
   "cell_type": "markdown",
   "metadata": {},
   "source": [
    "### Задание 2.11.6\n",
    "Постройте OLS регрессию `Chance of Admission ` на выбранные в предыдущей задаче признаки без стандартизации. Используйте данные для соискателей, у которых нет исследований (Research == 0). Признаки запишите в матрицу данных в том порядке, в котором они представлены в DataFrame.\n",
    "\n",
    "Ответы округлите до 3 знаков после точки:"
   ]
  },
  {
   "cell_type": "code",
   "execution_count": 140,
   "metadata": {},
   "outputs": [],
   "source": [
    "df_Research_0 = df[df.Research == 0]"
   ]
  },
  {
   "cell_type": "markdown",
   "metadata": {},
   "source": [
    "A= np.column_stack((np.ones(506), CRIM, RM)"
   ]
  },
  {
   "cell_type": "code",
   "execution_count": 126,
   "metadata": {},
   "outputs": [],
   "source": [
    "TOEFL_Score = df_Research_0['TOEFL Score']\n",
    "CGPA = df_Research_0['CGPA']\n",
    "A = np.column_stack((np.ones(len(df_Research_0)), TOEFL_Score, CGPA))\n",
    "y = df_Research_0[['Chance of Admit ']]"
   ]
  },
  {
   "cell_type": "code",
   "execution_count": 136,
   "metadata": {},
   "outputs": [
    {
     "data": {
      "text/plain": [
       "array([[-1.045],\n",
       "       [ 0.004],\n",
       "       [ 0.148]])"
      ]
     },
     "execution_count": 136,
     "metadata": {},
     "output_type": "execute_result"
    }
   ],
   "source": [
    "ans = np.linalg.lstsq(A,y,rcond=None)[0].round(3)\n",
    "ans"
   ]
  },
  {
   "cell_type": "markdown",
   "metadata": {},
   "source": [
    "### Задание 2.11.7\n",
    "Сделайте прогноз шансов поступления в университет для абитуриента с TOEFL Score=107, CGPA=9.1, используя модель, полученную в задаче 2.11.6 (используйте округленные значения признаков).\n",
    "\n",
    "Ответ округлите до 2 знаков после точки:"
   ]
  },
  {
   "cell_type": "code",
   "execution_count": 139,
   "metadata": {},
   "outputs": [
    {
     "data": {
      "text/plain": [
       "array([0.73])"
      ]
     },
     "execution_count": 139,
     "metadata": {},
     "output_type": "execute_result"
    }
   ],
   "source": [
    "Score = 107\n",
    "CGPA = 9.1\n",
    "predict = np.array([1,Score,CGPA]) @ ans\n",
    "predict.round(2)"
   ]
  },
  {
   "cell_type": "markdown",
   "metadata": {},
   "source": [
    "### Задание 2.11.8\n",
    "Аналогично задаче 2.11.6 постройте OLS регрессию Chance of Admission на выбранные в задаче 2.11.5 признаки, однако теперь сперва стандартизируйте эти признаки.\n",
    "\n",
    "Ответы округлите до 2 знаков после точки:"
   ]
  },
  {
   "cell_type": "code",
   "execution_count": 142,
   "metadata": {},
   "outputs": [],
   "source": [
    "Score = df_Research_0['TOEFL Score']\n",
    "CGPA = df_Research_0['CGPA']\n",
    "y = df_Research_0[['Chance of Admit ']]"
   ]
  },
  {
   "cell_type": "code",
   "execution_count": 153,
   "metadata": {},
   "outputs": [],
   "source": [
    "Score_mean = Score.mean()\n",
    "CGPA_mean = CGPA.mean()\n",
    "y_mean = y.mean()\n",
    "\n",
    "Score_c = Score - Score_mean\n",
    "CGPA_c = CGPA - CGPA_mean\n",
    "y_c = y - y_mean\n",
    "\n",
    "Score_norm = np.linalg.norm(Score_c)\n",
    "CGPA_norm = np.linalg.norm(CGPA_c)\n",
    "y_norm = np.linalg.norm(y_c)\n",
    "\n",
    "Score_st = Score_c / Score_norm\n",
    "CGPA_st = CGPA_c / CGPA_norm\n",
    "y_st = y_c / y_norm\n",
    "\n",
    "A_st = np.column_stack((Score_st,CGPA_st))"
   ]
  },
  {
   "cell_type": "code",
   "execution_count": 156,
   "metadata": {},
   "outputs": [
    {
     "data": {
      "text/plain": [
       "array([[0.19],\n",
       "       [0.62]])"
      ]
     },
     "execution_count": 156,
     "metadata": {},
     "output_type": "execute_result"
    }
   ],
   "source": [
    "np.linalg.lstsq(A_st,y_st, rcond=None)[0].round(2)"
   ]
  },
  {
   "cell_type": "markdown",
   "metadata": {},
   "source": [
    "## 2.12. Линейный оператор"
   ]
  },
  {
   "cell_type": "markdown",
   "metadata": {},
   "source": [
    "### Задание 2.12.2\n",
    "рис Результат действия оператора на вектор называют образом вектора.\n",
    "\n",
    "a) Найдите образ вектора $ v $ при действии оператора $ F $, если $ v = \\left(\\begin{array}{c} 1 \\\\ 2 \\\\ 3 \\end{array}\\right) $, а $ F =  \\begin{pmatrix} 1 & 0 & 0 \\\\ 0 & 0 & 1 \\\\ 0 & -1 & 0 \\end{pmatrix} $\n",
    "\n",
    "\t\t\n",
    "Введите координаты полученного вектора через запятую (без пробела):"
   ]
  },
  {
   "cell_type": "code",
   "execution_count": 168,
   "metadata": {},
   "outputs": [
    {
     "data": {
      "text/plain": [
       "array([[ 1],\n",
       "       [ 3],\n",
       "       [-2]])"
      ]
     },
     "execution_count": 168,
     "metadata": {},
     "output_type": "execute_result"
    }
   ],
   "source": [
    "F = np.array([[1,0,0],[0,0,1],[0,-1,0]])\n",
    "v = np.array([1,2,3]).reshape((3,1))\n",
    "\n",
    "F @ v"
   ]
  },
  {
   "cell_type": "markdown",
   "metadata": {},
   "source": [
    "### Задание 2.12.3\n",
    "a) Найдите образы векторов $ u $ и $ v $ при действии оператора $ F $, \n",
    "\n",
    "если $ u = \\left(\\begin{array}{c} 1 \\\\ - 1 \\end{array}\\right) , v = \\left(\\begin{array}{c} 1 \\\\  1 \\end{array}\\right)$, а \n",
    "$F = \\begin{pmatrix} 2 & 1 \\\\ 1 & 2 \\end{pmatrix}$\n",
    "\n",
    "Введите координаты полученных векторов через запятую (без пробела):"
   ]
  },
  {
   "cell_type": "code",
   "execution_count": 173,
   "metadata": {},
   "outputs": [],
   "source": [
    "F = np.array([[2,1],[1,2]])\n",
    "u = np.array([[1],[-1]])\n",
    "v = np.array([[1],[1]])"
   ]
  },
  {
   "cell_type": "code",
   "execution_count": 172,
   "metadata": {},
   "outputs": [
    {
     "data": {
      "text/plain": [
       "array([[ 1],\n",
       "       [-1]])"
      ]
     },
     "metadata": {},
     "output_type": "display_data"
    },
    {
     "data": {
      "text/plain": [
       "array([[3],\n",
       "       [3]])"
      ]
     },
     "metadata": {},
     "output_type": "display_data"
    }
   ],
   "source": [
    "display(F @ u, F @ v)"
   ]
  },
  {
   "cell_type": "markdown",
   "metadata": {},
   "source": [
    "## 2.13. Собственные векторы и числа"
   ]
  },
  {
   "cell_type": "markdown",
   "metadata": {},
   "source": [
    "### Задание 2.13.3\n",
    "\n",
    "Найдите собственные числа и вектора матрицы $ A = \\begin{pmatrix} 5 & 1 \\\\ 1 & 5 \\end{pmatrix} $\n",
    "\n",
    "и ответьте на следующие вопросы:\n",
    "\n",
    "а) Запишите собственные числа (сначала бОльшее по модулю, затем мЕньшее)"
   ]
  },
  {
   "cell_type": "code",
   "execution_count": 177,
   "metadata": {},
   "outputs": [
    {
     "data": {
      "text/plain": [
       "array([6., 4.])"
      ]
     },
     "execution_count": 177,
     "metadata": {},
     "output_type": "execute_result"
    }
   ],
   "source": [
    "A = np.array([[5,1], [1,5]])\n",
    "ans = np.linalg.eig(A)\n",
    "ans[0]"
   ]
  },
  {
   "cell_type": "markdown",
   "metadata": {},
   "source": [
    "b) Какие векторы будут собственными для А?"
   ]
  },
  {
   "cell_type": "code",
   "execution_count": 178,
   "metadata": {},
   "outputs": [
    {
     "data": {
      "text/plain": [
       "array([[ 0.70710678, -0.70710678],\n",
       "       [ 0.70710678,  0.70710678]])"
      ]
     },
     "execution_count": 178,
     "metadata": {},
     "output_type": "execute_result"
    }
   ],
   "source": [
    "ans[1]"
   ]
  },
  {
   "cell_type": "markdown",
   "metadata": {},
   "source": [
    "## 2.16. Метод главных компонент, PCA"
   ]
  },
  {
   "cell_type": "markdown",
   "metadata": {},
   "source": [
    "### Задание 2.16.5\n",
    "Условие:\n",
    "пусть $ x_1 = (1,2,1,1)^T,  x_2 = (70,130,60,65)^T, $ корреляционная матрица $\n",
    "С = \\begin{pmatrix} 1 & 0.9922 \\\\ 0.9922 & 1 \\end{pmatrix} $\n"
   ]
  },
  {
   "cell_type": "markdown",
   "metadata": {},
   "source": [
    "#### Задание 2.16.5_3\n",
    "4) Выберите одну главную компоненту для дальнейшего анализа. Вычислите ее значения.\n",
    "\n",
    "Введите компоненты с округлением до 4 знака после запятой."
   ]
  },
  {
   "cell_type": "code",
   "execution_count": 218,
   "metadata": {},
   "outputs": [
    {
     "data": {
      "text/plain": [
       "array([[1.    , 0.9922],\n",
       "       [0.9922, 1.    ]])"
      ]
     },
     "execution_count": 218,
     "metadata": {},
     "output_type": "execute_result"
    }
   ],
   "source": [
    "C"
   ]
  },
  {
   "cell_type": "code",
   "execution_count": 219,
   "metadata": {},
   "outputs": [
    {
     "data": {
      "text/plain": [
       "(array([1.9922, 0.0078]), array([[ 0.70710678, -0.70710678],\n",
       "        [ 0.70710678,  0.70710678]]))"
      ]
     },
     "execution_count": 219,
     "metadata": {},
     "output_type": "execute_result"
    }
   ],
   "source": [
    "x_1 = np.array([[1,2,1,1]]).T\n",
    "x_2 = np.array([[70,130,65,60]]).T\n",
    "C = np.array([[1,0.9922],[0.9922,1]])\n",
    "\n",
    "np.linalg.eig(C)"
   ]
  },
  {
   "cell_type": "code",
   "execution_count": 228,
   "metadata": {},
   "outputs": [
    {
     "data": {
      "text/plain": [
       "array([[ 0.70710678, -0.70710678],\n",
       "       [ 0.70710678,  0.70710678]])"
      ]
     },
     "execution_count": 228,
     "metadata": {},
     "output_type": "execute_result"
    }
   ],
   "source": [
    "np.linalg.eig(C)[1]"
   ]
  },
  {
   "cell_type": "code",
   "execution_count": 220,
   "metadata": {},
   "outputs": [
    {
     "data": {
      "text/plain": [
       "array([[1],\n",
       "       [2],\n",
       "       [1],\n",
       "       [1]])"
      ]
     },
     "metadata": {},
     "output_type": "display_data"
    },
    {
     "data": {
      "text/plain": [
       "array([[ 70],\n",
       "       [130],\n",
       "       [ 65],\n",
       "       [ 60]])"
      ]
     },
     "metadata": {},
     "output_type": "display_data"
    }
   ],
   "source": [
    "display(x_1,x_2)"
   ]
  },
  {
   "cell_type": "code",
   "execution_count": 221,
   "metadata": {},
   "outputs": [],
   "source": [
    "x_1_st = (x_1 - x_1.mean()) / np.linalg.norm((x_1 - x_1.mean()))\n",
    "x_2_st = (x_2 - x_2.mean()) / np.linalg.norm((x_2 - x_2.mean()))"
   ]
  },
  {
   "cell_type": "code",
   "execution_count": 227,
   "metadata": {},
   "outputs": [
    {
     "data": {
      "text/plain": [
       "array([[-0.244 ],\n",
       "       [ 0.8643],\n",
       "       [-0.2881],\n",
       "       [-0.3323]])"
      ]
     },
     "execution_count": 227,
     "metadata": {},
     "output_type": "execute_result"
    }
   ],
   "source": [
    "x_new_1 = (x_1_st + x_2_st)/np.linalg.norm(x_1_st + x_2_st)\n",
    "(x_new_1).round(4)"
   ]
  },
  {
   "cell_type": "code",
   "execution_count": 198,
   "metadata": {},
   "outputs": [
    {
     "data": {
      "text/plain": [
       "1.4142135623730951"
      ]
     },
     "execution_count": 198,
     "metadata": {},
     "output_type": "execute_result"
    }
   ],
   "source": [
    "np.sqrt(2)"
   ]
  },
  {
   "cell_type": "code",
   "execution_count": null,
   "metadata": {},
   "outputs": [],
   "source": []
  }
 ],
 "metadata": {
  "kernelspec": {
   "display_name": "Python 3",
   "language": "python",
   "name": "python3"
  },
  "language_info": {
   "codemirror_mode": {
    "name": "ipython",
    "version": 3
   },
   "file_extension": ".py",
   "mimetype": "text/x-python",
   "name": "python",
   "nbconvert_exporter": "python",
   "pygments_lexer": "ipython3",
   "version": "3.6.5"
  }
 },
 "nbformat": 4,
 "nbformat_minor": 2
}
