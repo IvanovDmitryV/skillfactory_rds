{
 "cells": [
  {
   "cell_type": "code",
   "execution_count": 197,
   "metadata": {},
   "outputs": [],
   "source": [
    "import pandas as pd\n",
    "from collections import  Counter\n",
    "from itertools import product, combinations"
   ]
  },
  {
   "cell_type": "code",
   "execution_count": 2,
   "metadata": {},
   "outputs": [],
   "source": []
  },
  {
   "cell_type": "code",
   "execution_count": 3,
   "metadata": {},
   "outputs": [
    {
     "data": {
      "text/html": [
       "<div>\n",
       "<style scoped>\n",
       "    .dataframe tbody tr th:only-of-type {\n",
       "        vertical-align: middle;\n",
       "    }\n",
       "\n",
       "    .dataframe tbody tr th {\n",
       "        vertical-align: top;\n",
       "    }\n",
       "\n",
       "    .dataframe thead th {\n",
       "        text-align: right;\n",
       "    }\n",
       "</style>\n",
       "<table border=\"1\" class=\"dataframe\">\n",
       "  <thead>\n",
       "    <tr style=\"text-align: right;\">\n",
       "      <th></th>\n",
       "      <th>imdb_id</th>\n",
       "      <th>popularity</th>\n",
       "      <th>budget</th>\n",
       "      <th>revenue</th>\n",
       "      <th>original_title</th>\n",
       "      <th>cast</th>\n",
       "      <th>director</th>\n",
       "      <th>tagline</th>\n",
       "      <th>overview</th>\n",
       "      <th>runtime</th>\n",
       "      <th>genres</th>\n",
       "      <th>production_companies</th>\n",
       "      <th>release_date</th>\n",
       "      <th>vote_count</th>\n",
       "      <th>vote_average</th>\n",
       "      <th>release_year</th>\n",
       "    </tr>\n",
       "  </thead>\n",
       "  <tbody>\n",
       "    <tr>\n",
       "      <th>0</th>\n",
       "      <td>tt0369610</td>\n",
       "      <td>32.985763</td>\n",
       "      <td>150000000</td>\n",
       "      <td>1513528810</td>\n",
       "      <td>Jurassic World</td>\n",
       "      <td>Chris Pratt|Bryce Dallas Howard|Irrfan Khan|Vi...</td>\n",
       "      <td>Colin Trevorrow</td>\n",
       "      <td>The park is open.</td>\n",
       "      <td>Twenty-two years after the events of Jurassic ...</td>\n",
       "      <td>124</td>\n",
       "      <td>Action|Adventure|Science Fiction|Thriller</td>\n",
       "      <td>Universal Studios|Amblin Entertainment|Legenda...</td>\n",
       "      <td>6/9/2015</td>\n",
       "      <td>5562</td>\n",
       "      <td>6.5</td>\n",
       "      <td>2015</td>\n",
       "    </tr>\n",
       "    <tr>\n",
       "      <th>1</th>\n",
       "      <td>tt1392190</td>\n",
       "      <td>28.419936</td>\n",
       "      <td>150000000</td>\n",
       "      <td>378436354</td>\n",
       "      <td>Mad Max: Fury Road</td>\n",
       "      <td>Tom Hardy|Charlize Theron|Hugh Keays-Byrne|Nic...</td>\n",
       "      <td>George Miller</td>\n",
       "      <td>What a Lovely Day.</td>\n",
       "      <td>An apocalyptic story set in the furthest reach...</td>\n",
       "      <td>120</td>\n",
       "      <td>Action|Adventure|Science Fiction|Thriller</td>\n",
       "      <td>Village Roadshow Pictures|Kennedy Miller Produ...</td>\n",
       "      <td>5/13/2015</td>\n",
       "      <td>6185</td>\n",
       "      <td>7.1</td>\n",
       "      <td>2015</td>\n",
       "    </tr>\n",
       "  </tbody>\n",
       "</table>\n",
       "</div>"
      ],
      "text/plain": [
       "     imdb_id  popularity     budget     revenue      original_title  \\\n",
       "0  tt0369610   32.985763  150000000  1513528810      Jurassic World   \n",
       "1  tt1392190   28.419936  150000000   378436354  Mad Max: Fury Road   \n",
       "\n",
       "                                                cast         director  \\\n",
       "0  Chris Pratt|Bryce Dallas Howard|Irrfan Khan|Vi...  Colin Trevorrow   \n",
       "1  Tom Hardy|Charlize Theron|Hugh Keays-Byrne|Nic...    George Miller   \n",
       "\n",
       "              tagline                                           overview  \\\n",
       "0   The park is open.  Twenty-two years after the events of Jurassic ...   \n",
       "1  What a Lovely Day.  An apocalyptic story set in the furthest reach...   \n",
       "\n",
       "   runtime                                     genres  \\\n",
       "0      124  Action|Adventure|Science Fiction|Thriller   \n",
       "1      120  Action|Adventure|Science Fiction|Thriller   \n",
       "\n",
       "                                production_companies release_date  vote_count  \\\n",
       "0  Universal Studios|Amblin Entertainment|Legenda...     6/9/2015        5562   \n",
       "1  Village Roadshow Pictures|Kennedy Miller Produ...    5/13/2015        6185   \n",
       "\n",
       "   vote_average  release_year  \n",
       "0           6.5          2015  \n",
       "1           7.1          2015  "
      ]
     },
     "execution_count": 3,
     "metadata": {},
     "output_type": "execute_result"
    }
   ],
   "source": [
    "data = pd.read_csv('data.csv')\n",
    "data.head(2)"
   ]
  },
  {
   "cell_type": "code",
   "execution_count": 4,
   "metadata": {},
   "outputs": [
    {
     "data": {
      "text/plain": [
       "Index(['imdb_id', 'popularity', 'budget', 'revenue', 'original_title', 'cast',\n",
       "       'director', 'tagline', 'overview', 'runtime', 'genres',\n",
       "       'production_companies', 'release_date', 'vote_count', 'vote_average',\n",
       "       'release_year'],\n",
       "      dtype='object')"
      ]
     },
     "execution_count": 4,
     "metadata": {},
     "output_type": "execute_result"
    }
   ],
   "source": [
    "data.columns"
   ]
  },
  {
   "cell_type": "markdown",
   "metadata": {},
   "source": [
    "### ПРЕДОБРАБОТКА"
   ]
  },
  {
   "cell_type": "code",
   "execution_count": 5,
   "metadata": {},
   "outputs": [],
   "source": [
    "columns_to_split = data.columns[data.apply(lambda x: x.str.contains('|',regex = False).any())]"
   ]
  },
  {
   "cell_type": "code",
   "execution_count": 20,
   "metadata": {},
   "outputs": [],
   "source": [
    "data[columns_to_split] = data[columns_to_split].applymap(lambda x: x.split('|'))"
   ]
  },
  {
   "cell_type": "markdown",
   "metadata": {},
   "source": [
    "**1. У какого фильма из списка самый большой бюджет?**"
   ]
  },
  {
   "cell_type": "code",
   "execution_count": 21,
   "metadata": {},
   "outputs": [
    {
     "data": {
      "text/plain": [
       "\"The Warrior's Way\""
      ]
     },
     "execution_count": 21,
     "metadata": {},
     "output_type": "execute_result"
    }
   ],
   "source": [
    "data.original_title.loc[data.budget.idxmax()]"
   ]
  },
  {
   "cell_type": "markdown",
   "metadata": {},
   "source": [
    "**2. Какой из фильмов самый длительный (в минутах)**"
   ]
  },
  {
   "cell_type": "code",
   "execution_count": 22,
   "metadata": {},
   "outputs": [
    {
     "data": {
      "text/plain": [
       "'Gods and Generals'"
      ]
     },
     "execution_count": 22,
     "metadata": {},
     "output_type": "execute_result"
    }
   ],
   "source": [
    "data.original_title.loc[data.runtime.idxmax()]"
   ]
  },
  {
   "cell_type": "markdown",
   "metadata": {},
   "source": [
    "**3. Какой из фильмов самый короткий (в минутах)**"
   ]
  },
  {
   "cell_type": "code",
   "execution_count": 23,
   "metadata": {},
   "outputs": [
    {
     "data": {
      "text/plain": [
       "'Winnie the Pooh'"
      ]
     },
     "execution_count": 23,
     "metadata": {},
     "output_type": "execute_result"
    }
   ],
   "source": [
    "data.original_title.loc[data.runtime.idxmin()]"
   ]
  },
  {
   "cell_type": "markdown",
   "metadata": {},
   "source": [
    "**4. Средняя длительность фильма?**"
   ]
  },
  {
   "cell_type": "code",
   "execution_count": 24,
   "metadata": {},
   "outputs": [
    {
     "data": {
      "text/plain": [
       "110"
      ]
     },
     "execution_count": 24,
     "metadata": {},
     "output_type": "execute_result"
    }
   ],
   "source": [
    "round(data.runtime.mean())"
   ]
  },
  {
   "cell_type": "markdown",
   "metadata": {},
   "source": [
    "**5. Средняя длительность фильма по медиане?**"
   ]
  },
  {
   "cell_type": "code",
   "execution_count": 25,
   "metadata": {},
   "outputs": [
    {
     "data": {
      "text/plain": [
       "106"
      ]
     },
     "execution_count": 25,
     "metadata": {},
     "output_type": "execute_result"
    }
   ],
   "source": [
    "round(data.runtime.median())"
   ]
  },
  {
   "cell_type": "markdown",
   "metadata": {},
   "source": [
    "**6. Какой самый прибыльный фильм?**"
   ]
  },
  {
   "cell_type": "code",
   "execution_count": 26,
   "metadata": {},
   "outputs": [],
   "source": [
    "data['profit'] = data.revenue - data.budget"
   ]
  },
  {
   "cell_type": "code",
   "execution_count": 27,
   "metadata": {},
   "outputs": [
    {
     "data": {
      "text/plain": [
       "'Avatar'"
      ]
     },
     "execution_count": 27,
     "metadata": {},
     "output_type": "execute_result"
    }
   ],
   "source": [
    "data.original_title.loc[data.profit.idxmax()]"
   ]
  },
  {
   "cell_type": "markdown",
   "metadata": {},
   "source": [
    "**7. Какой фильм самый убыточный?**"
   ]
  },
  {
   "cell_type": "code",
   "execution_count": 28,
   "metadata": {},
   "outputs": [
    {
     "data": {
      "text/plain": [
       "\"The Warrior's Way\""
      ]
     },
     "execution_count": 28,
     "metadata": {},
     "output_type": "execute_result"
    }
   ],
   "source": [
    "data.original_title.loc[data.profit.idxmin()]"
   ]
  },
  {
   "cell_type": "markdown",
   "metadata": {},
   "source": [
    "**8. Сколько всего фильмов в прибыли?**"
   ]
  },
  {
   "cell_type": "code",
   "execution_count": 29,
   "metadata": {},
   "outputs": [
    {
     "data": {
      "text/plain": [
       "1478"
      ]
     },
     "execution_count": 29,
     "metadata": {},
     "output_type": "execute_result"
    }
   ],
   "source": [
    "len(data.loc[data.profit > 0])"
   ]
  },
  {
   "cell_type": "code",
   "execution_count": 30,
   "metadata": {},
   "outputs": [
    {
     "data": {
      "text/plain": [
       "1478"
      ]
     },
     "execution_count": 30,
     "metadata": {},
     "output_type": "execute_result"
    }
   ],
   "source": [
    "(data.profit>0).sum()"
   ]
  },
  {
   "cell_type": "markdown",
   "metadata": {},
   "source": [
    "**9. Самый прибыльный фильм в 2008 году?**"
   ]
  },
  {
   "cell_type": "code",
   "execution_count": 31,
   "metadata": {},
   "outputs": [
    {
     "data": {
      "text/plain": [
       "'The Dark Knight'"
      ]
     },
     "execution_count": 31,
     "metadata": {},
     "output_type": "execute_result"
    }
   ],
   "source": [
    "#year = pd.to_datetime(data.release_date).dt.year\n",
    "data2008 = data[data.release_year == 2008]\n",
    "data2008.original_title.loc[data2008.profit.idxmax()]"
   ]
  },
  {
   "cell_type": "markdown",
   "metadata": {},
   "source": [
    "**10. Самый убыточный фильм за период с 2012 по 2014 (включительно)?**"
   ]
  },
  {
   "cell_type": "code",
   "execution_count": 32,
   "metadata": {},
   "outputs": [
    {
     "data": {
      "text/plain": [
       "'The Lone Ranger'"
      ]
     },
     "execution_count": 32,
     "metadata": {},
     "output_type": "execute_result"
    }
   ],
   "source": [
    "data2012_2014 = data[data.release_year.isin([2012,2013,2014])]\n",
    "data2012_2014.original_title.loc[data2012_2014.profit.idxmin()]"
   ]
  },
  {
   "cell_type": "markdown",
   "metadata": {},
   "source": [
    "**11. Какого жанра фильмов больше всего?**"
   ]
  },
  {
   "cell_type": "code",
   "execution_count": 33,
   "metadata": {},
   "outputs": [
    {
     "data": {
      "text/plain": [
       "Drama    782\n",
       "dtype: int64"
      ]
     },
     "execution_count": 33,
     "metadata": {},
     "output_type": "execute_result"
    }
   ],
   "source": [
    "total_genres_list = data.genres.sum()\n",
    "pd.Series(total_genres_list).value_counts()[:1]"
   ]
  },
  {
   "cell_type": "code",
   "execution_count": 34,
   "metadata": {},
   "outputs": [
    {
     "data": {
      "text/plain": [
       "[('Drama', 782)]"
      ]
     },
     "execution_count": 34,
     "metadata": {},
     "output_type": "execute_result"
    }
   ],
   "source": [
    "Counter(total_genres_list).most_common(1)"
   ]
  },
  {
   "cell_type": "markdown",
   "metadata": {},
   "source": [
    "**12. Какого жанра среди прибыльных фильмов больше всего?**"
   ]
  },
  {
   "cell_type": "code",
   "execution_count": 35,
   "metadata": {},
   "outputs": [
    {
     "data": {
      "text/plain": [
       "'Drama'"
      ]
     },
     "execution_count": 35,
     "metadata": {},
     "output_type": "execute_result"
    }
   ],
   "source": [
    "profit_movie = data.loc[data.profit> 0]\n",
    "total_genres_list = profit_movie.genres.sum()\n",
    "pd.Series(total_genres_list).value_counts().index[0]"
   ]
  },
  {
   "cell_type": "code",
   "execution_count": 36,
   "metadata": {},
   "outputs": [
    {
     "data": {
      "text/plain": [
       "'Drama'"
      ]
     },
     "execution_count": 36,
     "metadata": {},
     "output_type": "execute_result"
    }
   ],
   "source": [
    "Counter(total_genres_list).most_common(1)[0][0]"
   ]
  },
  {
   "cell_type": "markdown",
   "metadata": {},
   "source": [
    "**13. Кто из режиссеров снял больше всего фильмов?**"
   ]
  },
  {
   "cell_type": "code",
   "execution_count": 37,
   "metadata": {},
   "outputs": [],
   "source": [
    "# data.director.value_counts()[:5] # поверхностное решение !!! после split не работает"
   ]
  },
  {
   "cell_type": "code",
   "execution_count": 38,
   "metadata": {},
   "outputs": [
    {
     "name": "stdout",
     "output_type": "stream",
     "text": [
      "[('Steven Soderbergh', 13)]\n",
      "Wall time: 388 ms\n"
     ]
    }
   ],
   "source": [
    "%%time\n",
    "directors_iter = Counter(data.director.sum())\n",
    "dir_count = Counter()\n",
    "for person, director in product(directors_iter,data.director):\n",
    "    if person in director: dir_count[person] += 1\n",
    "print(dir_count.most_common(1))"
   ]
  },
  {
   "cell_type": "code",
   "execution_count": 39,
   "metadata": {},
   "outputs": [],
   "source": [
    "def groupby_listfeature(df, by):\n",
    "    result = pd.DataFrame(columns=df.columns)\n",
    "    next_index = 0\n",
    "    to_replace = []\n",
    "    for df_ind in df.index:\n",
    "        for list_ind, value in enumerate(df[by][df_ind]):\n",
    "            result.loc[next_index] = df.loc[df_ind]\n",
    "            next_index = result.index.max()+1\n",
    "            to_replace.append(value)\n",
    "    result[by] = to_replace    \n",
    "    return result.groupby(by)"
   ]
  },
  {
   "cell_type": "code",
   "execution_count": 40,
   "metadata": {},
   "outputs": [
    {
     "name": "stdout",
     "output_type": "stream",
     "text": [
      "Wall time: 5 s\n"
     ]
    },
    {
     "data": {
      "text/plain": [
       "'Steven Soderbergh'"
      ]
     },
     "execution_count": 40,
     "metadata": {},
     "output_type": "execute_result"
    }
   ],
   "source": [
    "%%time\n",
    "groupby_listfeature(data[['director','imdb_id']],'director').count().idxmax()[0]\n",
    "# А если после стирки не видно разницы, зачем платить больше? "
   ]
  },
  {
   "cell_type": "markdown",
   "metadata": {},
   "source": [
    "**14. Кто из режиссеров снял больше всего Прибыльных фильмов?**"
   ]
  },
  {
   "cell_type": "code",
   "execution_count": 41,
   "metadata": {},
   "outputs": [],
   "source": [
    "profit_movie =  data.loc[data.profit > 0]\n",
    "\n",
    "\n",
    "\n"
   ]
  },
  {
   "cell_type": "code",
   "execution_count": 42,
   "metadata": {},
   "outputs": [
    {
     "data": {
      "text/plain": [
       "'Ridley Scott'"
      ]
     },
     "execution_count": 42,
     "metadata": {},
     "output_type": "execute_result"
    }
   ],
   "source": [
    "profit_movie =  data[['director','imdb_id']].loc[data.profit > 0]\n",
    "groupby_listfeature(profit_movie,'director').count().idxmax()[0]"
   ]
  },
  {
   "cell_type": "markdown",
   "metadata": {},
   "source": [
    "**15. Кто из режиссеров принес больше всего прибыли?**"
   ]
  },
  {
   "cell_type": "code",
   "execution_count": 43,
   "metadata": {},
   "outputs": [
    {
     "name": "stdout",
     "output_type": "stream",
     "text": [
      "Peter Jackson\n",
      "Wall time: 1.84 s\n"
     ]
    }
   ],
   "source": [
    "%%time\n",
    "directors_iter = Counter(data.director.sum())\n",
    "profit_count = Counter()\n",
    "for person in directors_iter:\n",
    "    profit_per_director = (data.profit.loc[[person in directors for directors in data.director]] / \n",
    "                           data.director.loc[[person in directors for directors in data.director]].apply(len)).sum()\n",
    "    profit_count[person] = profit_per_director\n",
    "    \n",
    "print(profit_count.most_common(1)[0][0])          # А если после стирки не видно разницы, зачем платить больше? "
   ]
  },
  {
   "cell_type": "code",
   "execution_count": 44,
   "metadata": {},
   "outputs": [
    {
     "name": "stdout",
     "output_type": "stream",
     "text": [
      "Peter Jackson\n",
      "Wall time: 4.3 s\n"
     ]
    }
   ],
   "source": [
    "%%time\n",
    "data['profit_per_director'] = data.profit/data.director.apply(len)\n",
    "print(groupby_listfeature(data[['director','profit_per_director']],'director').sum().idxmax()[0])"
   ]
  },
  {
   "cell_type": "markdown",
   "metadata": {},
   "source": [
    "**16. Какой актер принес больше всего прибыли?**"
   ]
  },
  {
   "cell_type": "code",
   "execution_count": 45,
   "metadata": {},
   "outputs": [],
   "source": [
    "actors = pd.Series(data.cast.sum()).unique()"
   ]
  },
  {
   "cell_type": "code",
   "execution_count": 46,
   "metadata": {},
   "outputs": [
    {
     "name": "stdout",
     "output_type": "stream",
     "text": [
      "Emma Watson\n",
      "Wall time: 8.87 s\n"
     ]
    }
   ],
   "source": [
    "%%time\n",
    "actors_profit = pd.Series()\n",
    "for actor in actors:\n",
    "    actors_profit[actor] = data.profit[data.cast.str.contains(actor,regex=False)].sum()\n",
    "print(actors_profit.sort_values(ascending = False).idxmax())"
   ]
  },
  {
   "cell_type": "code",
   "execution_count": 47,
   "metadata": {},
   "outputs": [
    {
     "name": "stdout",
     "output_type": "stream",
     "text": [
      "Emma Watson\n",
      "Wall time: 3.2 s\n"
     ]
    }
   ],
   "source": [
    "%%time\n",
    "actors_profit = Counter()\n",
    "for actor in actors:\n",
    "    actors_profit[actor] = data.profit[[actor in x for x in data.cast]].sum() #data.cast.str.contains(actor,regex=False)\n",
    "print(actors_profit.most_common(1)[0][0])"
   ]
  },
  {
   "cell_type": "code",
   "execution_count": 48,
   "metadata": {},
   "outputs": [
    {
     "name": "stdout",
     "output_type": "stream",
     "text": [
      "Emma Watson\n",
      "Wall time: 22.5 s\n"
     ]
    }
   ],
   "source": [
    "%%time\n",
    "data['profit_per_actor'] = data.profit/data.cast.apply(len)\n",
    "print(groupby_listfeature(data[['cast','profit_per_actor']] ,'cast' ).sum().idxmax()[0])"
   ]
  },
  {
   "cell_type": "markdown",
   "metadata": {},
   "source": [
    "**17. Какой актер принес меньше всего прибыли в 2012 году?**"
   ]
  },
  {
   "cell_type": "code",
   "execution_count": 49,
   "metadata": {},
   "outputs": [
    {
     "name": "stdout",
     "output_type": "stream",
     "text": [
      "Kirsten Dunst\n",
      "Wall time: 201 ms\n"
     ]
    }
   ],
   "source": [
    "%%time\n",
    "data_2012 = data[data.release_year == 2012]\n",
    "actors_2012 = pd.Series(data_2012.cast.sum()).unique()\n",
    "actors_profit_2012 = Counter()\n",
    "for actor in actors_2012:\n",
    "    actors_profit_2012[actor] = data_2012.profit[[actor in x for x in data_2012.cast]].sum()\n",
    "   \n",
    "print(actors_profit_2012.most_common()[-1][0])"
   ]
  },
  {
   "cell_type": "code",
   "execution_count": 50,
   "metadata": {},
   "outputs": [
    {
     "name": "stdout",
     "output_type": "stream",
     "text": [
      "Wall time: 1.26 s\n"
     ]
    },
    {
     "data": {
      "text/plain": [
       "'Kirsten Dunst'"
      ]
     },
     "execution_count": 50,
     "metadata": {},
     "output_type": "execute_result"
    }
   ],
   "source": [
    "%%time\n",
    "groupby_listfeature(data_2012[['cast','profit_per_actor']],'cast').sum().idxmin()[0]"
   ]
  },
  {
   "cell_type": "markdown",
   "metadata": {},
   "source": [
    "**18. Какой актер снялся в большем количестве высокобюджетных фильмов? (в фильмах где бюджет выше среднего по данной выборке)**"
   ]
  },
  {
   "cell_type": "code",
   "execution_count": 51,
   "metadata": {},
   "outputs": [
    {
     "name": "stdout",
     "output_type": "stream",
     "text": [
      "Matt Damon\n",
      "Wall time: 13 ms\n"
     ]
    }
   ],
   "source": [
    "%%time\n",
    "high_budget_data = data[data.budget > data.budget.mean()]\n",
    "total_actors_list = high_budget_data.cast.sum() \n",
    "print(pd.Series(total_actors_list).value_counts().idxmax())"
   ]
  },
  {
   "cell_type": "code",
   "execution_count": 52,
   "metadata": {},
   "outputs": [
    {
     "name": "stdout",
     "output_type": "stream",
     "text": [
      "Matt Damon\n",
      "Wall time: 7.07 s\n"
     ]
    }
   ],
   "source": [
    "%%time\n",
    "print(groupby_listfeature(high_budget_data[['cast','imdb_id']],'cast').count().idxmax()[0])"
   ]
  },
  {
   "cell_type": "markdown",
   "metadata": {},
   "source": [
    "**19. В фильмах какого жанра больше всего снимался Nicolas Cage?**"
   ]
  },
  {
   "cell_type": "code",
   "execution_count": 53,
   "metadata": {},
   "outputs": [
    {
     "name": "stdout",
     "output_type": "stream",
     "text": [
      "Action\n",
      "Wall time: 5 ms\n"
     ]
    }
   ],
   "source": [
    "%%time\n",
    "print(pd.Series(data[['Nicolas Cage' in x for x in data.cast]].genres.sum()).value_counts().idxmax())"
   ]
  },
  {
   "cell_type": "code",
   "execution_count": 54,
   "metadata": {},
   "outputs": [
    {
     "name": "stdout",
     "output_type": "stream",
     "text": [
      "Action\n",
      "Wall time: 259 ms\n"
     ]
    }
   ],
   "source": [
    "%%time\n",
    "data_NicCage = data[['Nicolas Cage' in x for x in data.cast]]\n",
    "print(groupby_listfeature(data_NicCage[['imdb_id','genres']],'genres').count().idxmax()[0])"
   ]
  },
  {
   "cell_type": "markdown",
   "metadata": {},
   "source": [
    "**20. Какая студия сняла больше всего фильмов?**"
   ]
  },
  {
   "cell_type": "code",
   "execution_count": 55,
   "metadata": {},
   "outputs": [
    {
     "name": "stdout",
     "output_type": "stream",
     "text": [
      "Universal Pictures\n",
      "Wall time: 47 ms\n"
     ]
    }
   ],
   "source": [
    "%%time\n",
    "print(pd.Series(data.production_companies.sum()).value_counts().idxmax())"
   ]
  },
  {
   "cell_type": "code",
   "execution_count": 56,
   "metadata": {},
   "outputs": [
    {
     "name": "stdout",
     "output_type": "stream",
     "text": [
      "Universal Pictures\n",
      "Wall time: 57 ms\n"
     ]
    }
   ],
   "source": [
    "%%time\n",
    "print(Counter((data.production_companies.sum())).most_common(1)[0][0])"
   ]
  },
  {
   "cell_type": "markdown",
   "metadata": {},
   "source": [
    "**21. Какая студия сняла больше всего фильмов в 2015 году?**"
   ]
  },
  {
   "cell_type": "code",
   "execution_count": 57,
   "metadata": {},
   "outputs": [
    {
     "name": "stdout",
     "output_type": "stream",
     "text": [
      "Warner Bros.\n"
     ]
    }
   ],
   "source": [
    "data_2015 = data[data.release_year == 2015]\n",
    "print(pd.Series(data_2015.production_companies.sum()).value_counts().idxmax())"
   ]
  },
  {
   "cell_type": "markdown",
   "metadata": {},
   "source": [
    "**22. Какая студия заработала больше всего денег в жанре комедий за все время?**"
   ]
  },
  {
   "cell_type": "code",
   "execution_count": 58,
   "metadata": {},
   "outputs": [],
   "source": [
    "data['profit_per_pc'] = data.profit / data.production_companies.apply(len)\n",
    "comedy = data[['Comedy' in x for x in data.genres]]\n",
    "production_companies_list = pd.Series(comedy.production_companies.sum()).unique()"
   ]
  },
  {
   "cell_type": "code",
   "execution_count": 59,
   "metadata": {},
   "outputs": [
    {
     "data": {
      "text/plain": [
       "'Universal Pictures'"
      ]
     },
     "execution_count": 59,
     "metadata": {},
     "output_type": "execute_result"
    }
   ],
   "source": [
    "prod_comp_profit = pd.Series()\n",
    "for prod_comp in production_companies_list:\n",
    "    prod_comp_profit[prod_comp] = comedy.profit[[prod_comp in x for x in comedy.production_companies]].sum()\n",
    "prod_comp_profit.idxmax()"
   ]
  },
  {
   "cell_type": "code",
   "execution_count": 60,
   "metadata": {},
   "outputs": [
    {
     "data": {
      "text/plain": [
       "'Universal Pictures'"
      ]
     },
     "execution_count": 60,
     "metadata": {},
     "output_type": "execute_result"
    }
   ],
   "source": [
    "groupby_listfeature(comedy[['production_companies','profit']] ,'production_companies').sum().idxmax()[0]"
   ]
  },
  {
   "cell_type": "code",
   "execution_count": 61,
   "metadata": {},
   "outputs": [
    {
     "data": {
      "text/plain": [
       "'Walt Disney Pictures'"
      ]
     },
     "execution_count": 61,
     "metadata": {},
     "output_type": "execute_result"
    }
   ],
   "source": [
    "prod_comp_profit = pd.Series()\n",
    "for prod_comp in production_companies_list:\n",
    "    prod_comp_profit[prod_comp] = comedy.profit_per_pc[[prod_comp in x for x in comedy.production_companies]].sum()\n",
    "prod_comp_profit.idxmax()"
   ]
  },
  {
   "cell_type": "code",
   "execution_count": 62,
   "metadata": {},
   "outputs": [
    {
     "data": {
      "text/plain": [
       "'Walt Disney Pictures'"
      ]
     },
     "execution_count": 62,
     "metadata": {},
     "output_type": "execute_result"
    }
   ],
   "source": [
    "groupby_listfeature(comedy[['production_companies','profit_per_pc']] ,'production_companies').sum().idxmax()[0]"
   ]
  },
  {
   "cell_type": "markdown",
   "metadata": {},
   "source": [
    "**23. Какая студия заработала больше всего денег в 2012 году?**"
   ]
  },
  {
   "cell_type": "code",
   "execution_count": 63,
   "metadata": {},
   "outputs": [],
   "source": [
    "data_2012 = data[data.release_year == 2012]\n",
    "production_companies_list = pd.Series(data_2012.production_companies.sum()).unique()"
   ]
  },
  {
   "cell_type": "code",
   "execution_count": 64,
   "metadata": {},
   "outputs": [
    {
     "data": {
      "text/plain": [
       "'Columbia Pictures'"
      ]
     },
     "execution_count": 64,
     "metadata": {},
     "output_type": "execute_result"
    }
   ],
   "source": [
    "pr_comp_profit = pd.Series()\n",
    "for pr_comp in production_companies_list:\n",
    "    pr_comp_profit[pr_comp] = data_2012.profit[[pr_comp in x for x in data_2012.production_companies]].sum()\n",
    "pr_comp_profit.idxmax()"
   ]
  },
  {
   "cell_type": "code",
   "execution_count": 65,
   "metadata": {},
   "outputs": [
    {
     "data": {
      "text/plain": [
       "'Columbia Pictures'"
      ]
     },
     "execution_count": 65,
     "metadata": {},
     "output_type": "execute_result"
    }
   ],
   "source": [
    "groupby_listfeature(data_2012[['production_companies','profit_per_pc']], 'production_companies').sum().idxmax()[0]"
   ]
  },
  {
   "cell_type": "markdown",
   "metadata": {},
   "source": [
    "**24. Самый убыточный фильм от Paramount Pictures**"
   ]
  },
  {
   "cell_type": "code",
   "execution_count": 66,
   "metadata": {},
   "outputs": [
    {
     "data": {
      "text/plain": [
       "'K-19: The Widowmaker'"
      ]
     },
     "execution_count": 66,
     "metadata": {},
     "output_type": "execute_result"
    }
   ],
   "source": [
    "data_ParPic = data[['Paramount Pictures' in x for x in data.production_companies]]\n",
    "data_ParPic.loc[data_ParPic.profit.idxmin()].original_title"
   ]
  },
  {
   "cell_type": "markdown",
   "metadata": {},
   "source": [
    "**25. Какой Самый прибыльный год (заработали больше всего)?**"
   ]
  },
  {
   "cell_type": "code",
   "execution_count": 67,
   "metadata": {},
   "outputs": [
    {
     "data": {
      "text/plain": [
       "2015"
      ]
     },
     "execution_count": 67,
     "metadata": {},
     "output_type": "execute_result"
    }
   ],
   "source": [
    "data.groupby('release_year').profit.sum().idxmax()"
   ]
  },
  {
   "cell_type": "markdown",
   "metadata": {},
   "source": [
    "**26. Какой Самый прибыльный год для студии Warner Bros?**"
   ]
  },
  {
   "cell_type": "code",
   "execution_count": 68,
   "metadata": {},
   "outputs": [
    {
     "data": {
      "text/plain": [
       "array(['Warner Bros.', 'Warner Bros. Animation',\n",
       "       'Warner Bros. Interactive Entertainment', 'Warner Bros. Pictures',\n",
       "       'Warner Independent Pictures (WIP)'], dtype=object)"
      ]
     },
     "execution_count": 68,
     "metadata": {},
     "output_type": "execute_result"
    }
   ],
   "source": [
    "prod_comp_list = pd.Series(data.production_companies.sum()).unique()\n",
    "prod_comp_list[['Warner' in x for x in prod_comp_list]]"
   ]
  },
  {
   "cell_type": "code",
   "execution_count": 69,
   "metadata": {},
   "outputs": [],
   "source": [
    "data_WarBros = data[['Warner Bros.' in x for x in data.production_companies]]"
   ]
  },
  {
   "cell_type": "code",
   "execution_count": 70,
   "metadata": {},
   "outputs": [
    {
     "data": {
      "text/plain": [
       "2007"
      ]
     },
     "execution_count": 70,
     "metadata": {},
     "output_type": "execute_result"
    }
   ],
   "source": [
    "data_WarBros.groupby('release_year').profit.sum().idxmax()"
   ]
  },
  {
   "cell_type": "code",
   "execution_count": 71,
   "metadata": {},
   "outputs": [
    {
     "data": {
      "text/plain": [
       "2010"
      ]
     },
     "execution_count": 71,
     "metadata": {},
     "output_type": "execute_result"
    }
   ],
   "source": [
    "data_WarBros.groupby('release_year').profit_per_pc.sum().idxmax()"
   ]
  },
  {
   "cell_type": "code",
   "execution_count": 72,
   "metadata": {},
   "outputs": [],
   "source": [
    "data_WarBros = data[[pd.Series(['Warne' in y for y in x]).any() for x in data.production_companies]]"
   ]
  },
  {
   "cell_type": "code",
   "execution_count": 73,
   "metadata": {},
   "outputs": [
    {
     "data": {
      "text/plain": [
       "2014"
      ]
     },
     "execution_count": 73,
     "metadata": {},
     "output_type": "execute_result"
    }
   ],
   "source": [
    "data_WarBros.groupby('release_year').profit.sum().idxmax()"
   ]
  },
  {
   "cell_type": "code",
   "execution_count": 74,
   "metadata": {},
   "outputs": [
    {
     "data": {
      "text/plain": [
       "2010"
      ]
     },
     "execution_count": 74,
     "metadata": {},
     "output_type": "execute_result"
    }
   ],
   "source": [
    "data_WarBros.groupby('release_year').profit_per_pc.sum().idxmax()"
   ]
  },
  {
   "cell_type": "markdown",
   "metadata": {},
   "source": [
    "**27. В каком месяце за все годы суммарно вышло больше всего фильмов?**"
   ]
  },
  {
   "cell_type": "code",
   "execution_count": 75,
   "metadata": {},
   "outputs": [],
   "source": [
    "data['release_month'] = pd.to_datetime(data.release_date).dt.month"
   ]
  },
  {
   "cell_type": "code",
   "execution_count": 76,
   "metadata": {},
   "outputs": [
    {
     "data": {
      "text/plain": [
       "9"
      ]
     },
     "execution_count": 76,
     "metadata": {},
     "output_type": "execute_result"
    }
   ],
   "source": [
    "data.groupby('release_month').imdb_id.count().idxmax()"
   ]
  },
  {
   "cell_type": "code",
   "execution_count": 77,
   "metadata": {},
   "outputs": [
    {
     "data": {
      "text/plain": [
       "(9, 2009)"
      ]
     },
     "execution_count": 77,
     "metadata": {},
     "output_type": "execute_result"
    }
   ],
   "source": [
    "data.groupby(['release_month','release_year']).imdb_id.count().idxmax()"
   ]
  },
  {
   "cell_type": "markdown",
   "metadata": {},
   "source": [
    "**28. Сколько суммарно вышло фильмов летом? (за июнь, июль, август)**"
   ]
  },
  {
   "cell_type": "code",
   "execution_count": 78,
   "metadata": {},
   "outputs": [
    {
     "data": {
      "text/plain": [
       "450"
      ]
     },
     "execution_count": 78,
     "metadata": {},
     "output_type": "execute_result"
    }
   ],
   "source": [
    "data [[x in [6,7,8] for x in data.release_month]].imdb_id.count()"
   ]
  },
  {
   "cell_type": "markdown",
   "metadata": {},
   "source": [
    "**29. Какой режисер выпускает (суммарно по годам) больше всего фильмов зимой?**"
   ]
  },
  {
   "cell_type": "code",
   "execution_count": 79,
   "metadata": {},
   "outputs": [
    {
     "name": "stdout",
     "output_type": "stream",
     "text": [
      "Wall time: 9 ms\n"
     ]
    }
   ],
   "source": [
    "%%time\n",
    "data_winter = data.query('release_month in [1,2,12]')"
   ]
  },
  {
   "cell_type": "code",
   "execution_count": 80,
   "metadata": {},
   "outputs": [
    {
     "name": "stdout",
     "output_type": "stream",
     "text": [
      "Wall time: 2 ms\n"
     ]
    }
   ],
   "source": [
    "%%time\n",
    "data_winter = data [[x in [1,2,12] for x in data.release_month]]"
   ]
  },
  {
   "cell_type": "code",
   "execution_count": 81,
   "metadata": {},
   "outputs": [
    {
     "data": {
      "text/plain": [
       "'Peter Jackson'"
      ]
     },
     "execution_count": 81,
     "metadata": {},
     "output_type": "execute_result"
    }
   ],
   "source": [
    "groupby_listfeature(data_winter[['director','imdb_id']], 'director').count().idxmax()[0]"
   ]
  },
  {
   "cell_type": "markdown",
   "metadata": {},
   "source": [
    "**30. Какой месяц чаще всего по годам самый прибыльный?**"
   ]
  },
  {
   "cell_type": "code",
   "execution_count": 82,
   "metadata": {},
   "outputs": [
    {
     "data": {
      "text/plain": [
       "12"
      ]
     },
     "execution_count": 82,
     "metadata": {},
     "output_type": "execute_result"
    }
   ],
   "source": [
    "pivtab_year_month = data.pivot_table('profit', index= 'release_year', columns= 'release_month', aggfunc= sum)\n",
    "pivtab_year_month.idxmax(axis=1).max()"
   ]
  },
  {
   "cell_type": "markdown",
   "metadata": {},
   "source": [
    "**31. Названия фильмов какой студии в среднем самые длинные по количеству символов?**"
   ]
  },
  {
   "cell_type": "code",
   "execution_count": 83,
   "metadata": {},
   "outputs": [
    {
     "data": {
      "text/plain": [
       "'Four By Two Productions'"
      ]
     },
     "execution_count": 83,
     "metadata": {},
     "output_type": "execute_result"
    }
   ],
   "source": [
    "gruoppedby_pc = groupby_listfeature(data[['production_companies','original_title']],'production_companies')\n",
    "gruoppedby_pc.original_title.apply(lambda x: len(x.sum())/x.count()).idxmax()"
   ]
  },
  {
   "cell_type": "markdown",
   "metadata": {},
   "source": [
    "**32. Названия фильмов какой студии в среднем самые длинные по количеству слов?**"
   ]
  },
  {
   "cell_type": "code",
   "execution_count": 84,
   "metadata": {},
   "outputs": [],
   "source": [
    "#gruoppedby_pc.original_title.apply(lambda x: x.append(x)[1:])"
   ]
  },
  {
   "cell_type": "code",
   "execution_count": 85,
   "metadata": {},
   "outputs": [
    {
     "data": {
      "text/plain": [
       "'Four By Two Productions'"
      ]
     },
     "execution_count": 85,
     "metadata": {},
     "output_type": "execute_result"
    }
   ],
   "source": [
    "gruoppedby_pc.original_title.apply(lambda x: \n",
    "                                   len(((x+\" \").sum()).split(' '))\n",
    "                                   /x.count()).idxmax()"
   ]
  },
  {
   "cell_type": "markdown",
   "metadata": {},
   "source": [
    "**33. Сколько разных слов используется в названиях фильмов?(без учета регистра)**"
   ]
  },
  {
   "cell_type": "code",
   "execution_count": 86,
   "metadata": {},
   "outputs": [],
   "source": [
    "import re"
   ]
  },
  {
   "cell_type": "code",
   "execution_count": 87,
   "metadata": {},
   "outputs": [],
   "source": [
    "total_title_list = data.original_title.apply(lambda x: x+' ').sum().lower()"
   ]
  },
  {
   "cell_type": "code",
   "execution_count": 88,
   "metadata": {},
   "outputs": [],
   "source": [
    "pattern = re.compile('(?![-])\\S*')"
   ]
  },
  {
   "cell_type": "code",
   "execution_count": 90,
   "metadata": {},
   "outputs": [
    {
     "data": {
      "text/plain": [
       "2461"
      ]
     },
     "execution_count": 90,
     "metadata": {},
     "output_type": "execute_result"
    }
   ],
   "source": [
    "len(pd.Series(pattern.findall(total_title_list)).unique())"
   ]
  },
  {
   "cell_type": "markdown",
   "metadata": {},
   "source": [
    "**34. Какие фильмы входят в 1 процент лучших по рейтингу?**"
   ]
  },
  {
   "cell_type": "markdown",
   "metadata": {},
   "source": [
    "Варианты ответа:\n",
    "\n",
    "1. Inside Out, Gone Girl, 12 Years a Slave\n"
   ]
  },
  {
   "cell_type": "code",
   "execution_count": 91,
   "metadata": {},
   "outputs": [
    {
     "data": {
      "text/plain": [
       "9                                          Inside Out\n",
       "28                                          Spotlight\n",
       "34                                               Room\n",
       "118                                      Interstellar\n",
       "119                           Guardians of the Galaxy\n",
       "125                                The Imitation Game\n",
       "128                                         Gone Girl\n",
       "138                          The Grand Budapest Hotel\n",
       "177                            The Fault in Our Stars\n",
       "283                                        Mr. Nobody\n",
       "370                                         Inception\n",
       "600                                   The Dark Knight\n",
       "864             The Lord of the Rings: The Two Towers\n",
       "873                                       The Pianist\n",
       "1082    The Lord of the Rings: The Return of the King\n",
       "1184                          The Wolf of Wall Street\n",
       "1192                                 12 Years a Slave\n",
       "1801                                          Memento\n",
       "Name: original_title, dtype: object"
      ]
     },
     "execution_count": 91,
     "metadata": {},
     "output_type": "execute_result"
    }
   ],
   "source": [
    "data.original_title.loc[data.vote_average.sort_values(ascending = False)[:int(0.01*(len(data)))].index].sort_index()"
   ]
  },
  {
   "cell_type": "code",
   "execution_count": 92,
   "metadata": {},
   "outputs": [
    {
     "data": {
      "text/plain": [
       "9                                          Inside Out\n",
       "34                                               Room\n",
       "118                                      Interstellar\n",
       "119                           Guardians of the Galaxy\n",
       "125                                The Imitation Game\n",
       "128                                         Gone Girl\n",
       "138                          The Grand Budapest Hotel\n",
       "370                                         Inception\n",
       "600                                   The Dark Knight\n",
       "873                                       The Pianist\n",
       "1082    The Lord of the Rings: The Return of the King\n",
       "1184                          The Wolf of Wall Street\n",
       "1192                                 12 Years a Slave\n",
       "1801                                          Memento\n",
       "Name: original_title, dtype: object"
      ]
     },
     "execution_count": 92,
     "metadata": {},
     "output_type": "execute_result"
    }
   ],
   "source": [
    "import numpy as np\n",
    "percent_99 = np.percentile(data.vote_average,99)\n",
    "data.original_title[data.vote_average > percent_99]"
   ]
  },
  {
   "cell_type": "markdown",
   "metadata": {},
   "source": [
    "**35. Какие актеры чаще всего снимаются в одном фильме вместе**"
   ]
  },
  {
   "cell_type": "code",
   "execution_count": 194,
   "metadata": {},
   "outputs": [],
   "source": [
    "from itertools import combinations"
   ]
  },
  {
   "cell_type": "code",
   "execution_count": 195,
   "metadata": {},
   "outputs": [],
   "source": [
    "colleagues_count  = Counter()\n",
    "for cast in data.cast:\n",
    "    for one, another in list(combinations(cast, 2)):\n",
    "        colleagues_count[sorted([one,another])[0] +' + ' + sorted([one,another])[1]] += 1"
   ]
  },
  {
   "cell_type": "code",
   "execution_count": 200,
   "metadata": {},
   "outputs": [
    {
     "data": {
      "text/plain": [
       "[('Daniel Radcliffe + Rupert Grint', 8)]"
      ]
     },
     "execution_count": 200,
     "metadata": {},
     "output_type": "execute_result"
    }
   ],
   "source": [
    "colleagues_count.most_common(1)"
   ]
  },
  {
   "cell_type": "markdown",
   "metadata": {},
   "source": [
    "**36. У какого из режиссеров выше вероятность выпустить фильм в прибыли?  \n",
    "У какого из режиссеров самый высокий процент фильмов со сборами выше бюджета?**"
   ]
  },
  {
   "cell_type": "code",
   "execution_count": 203,
   "metadata": {},
   "outputs": [],
   "source": [
    "grouppedby_director = groupby_listfeature(data[['director','profit']],'director')"
   ]
  },
  {
   "cell_type": "code",
   "execution_count": 225,
   "metadata": {},
   "outputs": [
    {
     "data": {
      "text/plain": [
       "'Christopher Nolan'"
      ]
     },
     "execution_count": 225,
     "metadata": {},
     "output_type": "execute_result"
    }
   ],
   "source": [
    "grouppedby_director.apply(lambda x:(x.profit > 0).sum()/x.profit.count())[\n",
    "['Quentin Tarantino',\n",
    "'Steven Soderbergh',\n",
    "'Robert Rodriguez',\n",
    "'Christopher Nolan',\n",
    "'Clint Eastwood']].idxmax()"
   ]
  },
  {
   "cell_type": "code",
   "execution_count": 187,
   "metadata": {},
   "outputs": [],
   "source": [
    "# -------------------------------ПОДВАЛ-----------------------------------------"
   ]
  },
  {
   "cell_type": "code",
   "execution_count": null,
   "metadata": {},
   "outputs": [],
   "source": []
  },
  {
   "cell_type": "markdown",
   "metadata": {},
   "source": [
    "import itertools\n",
    "\n",
    "lst = [[1, 2, 3], [4], [5, 6, 7]]  \n",
    "list(itertools.chain.from_iterable(lst))\n",
    "\n",
    "[1, 2, 3, 4, 5, 6, 7]\n"
   ]
  },
  {
   "cell_type": "code",
   "execution_count": null,
   "metadata": {},
   "outputs": [],
   "source": [
    "def features_list_splitting(df, feature):\n",
    "    result = pd.DataFrame(columns=df.columns)\n",
    "    feature_column = df.columns.tolist().index(feature)\n",
    "    next_index = 0\n",
    "    \n",
    "    for df_ind in df.index:\n",
    "        for list_ind, feature_value in enumerate(df.loc[df_ind][feature]):\n",
    "            row = df.loc[df_ind].values\n",
    "            row[feature_column] = row[feature_column][list_ind]\n",
    "            result.loc[next_index] = row\n",
    "            next_index = result.index.max()+1\n",
    "    return result"
   ]
  },
  {
   "cell_type": "code",
   "execution_count": null,
   "metadata": {},
   "outputs": [],
   "source": [
    "def groupby_listfeature: (data, by):\n",
    "    result = pd.DataFrame(columns=df.columns)\n",
    "    next_index = 0\n",
    "    to_replace = []\n",
    "    for df_ind in df.index:\n",
    "        for list_ind, value in enumerate(df[by][df_ind]):\n",
    "            result.loc[next_index] = df.loc[df_ind]\n",
    "            next_index = result.index.max()+1\n",
    "            to_replace.append(value)\n",
    "    result[by] = to_replace    \n",
    "    return result.groupby(by)"
   ]
  },
  {
   "cell_type": "code",
   "execution_count": null,
   "metadata": {},
   "outputs": [],
   "source": []
  },
  {
   "cell_type": "code",
   "execution_count": 160,
   "metadata": {},
   "outputs": [],
   "source": [
    "df = data.copy()\n",
    "by = 'director'\n",
    "\n",
    "result = pd.DataFrame(columns=df.columns)\n",
    "\n",
    "next_index = 0\n",
    "to_replace = []\n",
    "for df_ind in df.index:\n",
    "    for list_ind, value in enumerate(df[by][df_ind]):\n",
    "        result.loc[next_index] = df.loc[df_ind]\n",
    "        next_index = result.index.max()+1\n",
    "        to_replace.append(value)\n",
    "result[by] = to_replace"
   ]
  },
  {
   "cell_type": "code",
   "execution_count": 161,
   "metadata": {},
   "outputs": [
    {
     "data": {
      "text/plain": [
       "'Peter Jackson'"
      ]
     },
     "execution_count": 161,
     "metadata": {},
     "output_type": "execute_result"
    }
   ],
   "source": [
    "result.groupby(by)['profit_per_director'].sum().idxmax()"
   ]
  },
  {
   "cell_type": "code",
   "execution_count": null,
   "metadata": {},
   "outputs": [],
   "source": [
    "result.groupby(by)"
   ]
  },
  {
   "cell_type": "code",
   "execution_count": 103,
   "metadata": {},
   "outputs": [],
   "source": []
  },
  {
   "cell_type": "code",
   "execution_count": 104,
   "metadata": {},
   "outputs": [],
   "source": []
  },
  {
   "cell_type": "code",
   "execution_count": 106,
   "metadata": {},
   "outputs": [],
   "source": []
  },
  {
   "cell_type": "code",
   "execution_count": null,
   "metadata": {},
   "outputs": [],
   "source": []
  },
  {
   "cell_type": "code",
   "execution_count": null,
   "metadata": {},
   "outputs": [],
   "source": []
  },
  {
   "cell_type": "code",
   "execution_count": 157,
   "metadata": {},
   "outputs": [],
   "source": [
    "directors_iter = Counter(data.director.sum())"
   ]
  },
  {
   "cell_type": "code",
   "execution_count": 161,
   "metadata": {},
   "outputs": [
    {
     "name": "stdout",
     "output_type": "stream",
     "text": [
      "[('Steven Soderbergh', 13)]\n",
      "Wall time: 372 ms\n"
     ]
    }
   ],
   "source": [
    "%%time\n",
    "dir_count = Counter()\n",
    "for person, director in product(directors_iter,data.director):\n",
    "    if person in director: dir_count[person] += 1\n",
    "print(dir_count.most_common(1))"
   ]
  },
  {
   "cell_type": "code",
   "execution_count": 160,
   "metadata": {},
   "outputs": [
    {
     "name": "stdout",
     "output_type": "stream",
     "text": [
      "Steven Soderbergh    13\n",
      "dtype: int64\n",
      "Wall time: 2.26 s\n"
     ]
    }
   ],
   "source": [
    "%%time\n",
    "directors_count = pd.Series()\n",
    "for director in directors_iter:\n",
    "    directors_count[director] = data.director[data.director.str.contains(director,regex = False)].count()\n",
    "print(directors_count.sort_values(ascending = False)[:1]) #.idxmax()"
   ]
  },
  {
   "cell_type": "code",
   "execution_count": 162,
   "metadata": {},
   "outputs": [
    {
     "name": "stdout",
     "output_type": "stream",
     "text": [
      "Steven Soderbergh    13\n",
      "dtype: int64\n",
      "Wall time: 1.8 s\n"
     ]
    }
   ],
   "source": [
    "%%time\n",
    "directors_count = pd.Series()\n",
    "for person in directors_iter:\n",
    "    directors_count[person] = data.director[[person in director for director in data.director]].count()\n",
    "print(directors_count.sort_values(ascending = False)[:1]) #.idxmax()"
   ]
  },
  {
   "cell_type": "code",
   "execution_count": null,
   "metadata": {},
   "outputs": [],
   "source": []
  },
  {
   "cell_type": "code",
   "execution_count": null,
   "metadata": {},
   "outputs": [],
   "source": [
    "%%time\n",
    "actors_profit = pd.Series()\n",
    "for actor in actors:\n",
    "    actors_profit[actor] = data.profit[data.cast.str.contains(actor,regex=False)].sum()\n",
    "\n",
    "print(actors_profit.sort_values(ascending = False)[:5]) #.idxmax()"
   ]
  },
  {
   "cell_type": "code",
   "execution_count": null,
   "metadata": {},
   "outputs": [],
   "source": []
  },
  {
   "cell_type": "code",
   "execution_count": null,
   "metadata": {},
   "outputs": [],
   "source": []
  },
  {
   "cell_type": "code",
   "execution_count": 72,
   "metadata": {},
   "outputs": [
    {
     "name": "stdout",
     "output_type": "stream",
     "text": [
      "[('Peter Jackson', 5202593685.0)]\n",
      "Wall time: 1.37 s\n"
     ]
    }
   ],
   "source": [
    "%%time\n",
    "directors_iter = Counter(data.director.sum())\n",
    "profit_count = Counter()\n",
    "for person in directors_iter:\n",
    "    profit_per_director = (data.profit.loc[[person in directors for directors in data.director]] / \n",
    "                           data.director.loc[[person in directors for directors in data.director]].apply(len)).sum()\n",
    "    profit_count[person] = profit_per_director\n",
    "print(profit_count.most_common(1))"
   ]
  },
  {
   "cell_type": "code",
   "execution_count": null,
   "metadata": {},
   "outputs": [],
   "source": [
    "\n",
    "    "
   ]
  },
  {
   "cell_type": "code",
   "execution_count": null,
   "metadata": {},
   "outputs": [],
   "source": []
  },
  {
   "cell_type": "code",
   "execution_count": 62,
   "metadata": {},
   "outputs": [
    {
     "data": {
      "text/plain": [
       "432254988.3333334"
      ]
     },
     "execution_count": 62,
     "metadata": {},
     "output_type": "execute_result"
    }
   ],
   "source": [
    "person = 'Lilly Wachowski'\n",
    "(data.profit.loc[[person in directors for directors in data.director]] / \n",
    "data.director.loc[[person in directors for directors in data.director]].apply(len)).sum()"
   ]
  },
  {
   "cell_type": "code",
   "execution_count": 59,
   "metadata": {},
   "outputs": [
    {
     "data": {
      "text/plain": [
       "11      2\n",
       "669     2\n",
       "994     3\n",
       "1086    2\n",
       "1087    2\n",
       "Name: director, dtype: int64"
      ]
     },
     "execution_count": 59,
     "metadata": {},
     "output_type": "execute_result"
    }
   ],
   "source": [
    "data.director.loc[[person in d for d in data.director]].apply(len)"
   ]
  },
  {
   "cell_type": "code",
   "execution_count": 47,
   "metadata": {},
   "outputs": [
    {
     "data": {
      "text/plain": [
       "0                     [Colin Trevorrow]\n",
       "1                       [George Miller]\n",
       "2                    [Robert Schwentke]\n",
       "3                         [J.J. Abrams]\n",
       "4                           [James Wan]\n",
       "5      [Alejandro GonzÃ¡lez IÃ±Ã¡rritu]\n",
       "6                         [Alan Taylor]\n",
       "7                        [Ridley Scott]\n",
       "8           [Kyle Balda, Pierre Coffin]\n",
       "9                         [Pete Docter]\n",
       "10                         [Sam Mendes]\n",
       "11    [Lana Wachowski, Lilly Wachowski]\n",
       "12                       [Alex Garland]\n",
       "Name: director, dtype: object"
      ]
     },
     "execution_count": 47,
     "metadata": {},
     "output_type": "execute_result"
    }
   ],
   "source": [
    "data.director[:13]"
   ]
  },
  {
   "cell_type": "code",
   "execution_count": null,
   "metadata": {},
   "outputs": [],
   "source": []
  },
  {
   "cell_type": "code",
   "execution_count": null,
   "metadata": {},
   "outputs": [],
   "source": []
  },
  {
   "cell_type": "code",
   "execution_count": null,
   "metadata": {},
   "outputs": [],
   "source": []
  },
  {
   "cell_type": "code",
   "execution_count": null,
   "metadata": {},
   "outputs": [],
   "source": []
  },
  {
   "cell_type": "code",
   "execution_count": 139,
   "metadata": {},
   "outputs": [],
   "source": [
    "lst = [[1, 2, 3], [4], [5, 6, 7]]"
   ]
  },
  {
   "cell_type": "code",
   "execution_count": 143,
   "metadata": {},
   "outputs": [
    {
     "data": {
      "text/plain": [
       "[1, 2, 3, 4, 5, 6, 7]"
      ]
     },
     "execution_count": 143,
     "metadata": {},
     "output_type": "execute_result"
    }
   ],
   "source": [
    "pd.Series(lst).sum()"
   ]
  },
  {
   "cell_type": "code",
   "execution_count": 28,
   "metadata": {},
   "outputs": [],
   "source": [
    "import itertools"
   ]
  },
  {
   "cell_type": "code",
   "execution_count": 29,
   "metadata": {},
   "outputs": [
    {
     "data": {
      "text/plain": [
       "[1, 2, 3, 4, 5, 6, 7]"
      ]
     },
     "execution_count": 29,
     "metadata": {},
     "output_type": "execute_result"
    }
   ],
   "source": [
    "lst = [[1, 2, 3], [4], [5, 6, 7]]  \n",
    "list(itertools.chain.from_iterable(lst))"
   ]
  },
  {
   "cell_type": "code",
   "execution_count": 53,
   "metadata": {},
   "outputs": [
    {
     "data": {
      "text/plain": [
       "1889"
      ]
     },
     "execution_count": 53,
     "metadata": {},
     "output_type": "execute_result"
    }
   ],
   "source": [
    "data.index.max()"
   ]
  },
  {
   "cell_type": "code",
   "execution_count": 57,
   "metadata": {},
   "outputs": [],
   "source": [
    "#data[data.director.str.contains('|')]\n",
    "# ord(\"c\")\n",
    "#\n",
    "# chr(99)"
   ]
  },
  {
   "cell_type": "code",
   "execution_count": 81,
   "metadata": {},
   "outputs": [
    {
     "data": {
      "text/plain": [
       "124"
      ]
     },
     "execution_count": 81,
     "metadata": {},
     "output_type": "execute_result"
    }
   ],
   "source": [
    "ord(data.director[8][10])"
   ]
  },
  {
   "cell_type": "code",
   "execution_count": 82,
   "metadata": {},
   "outputs": [
    {
     "data": {
      "text/plain": [
       "'|'"
      ]
     },
     "execution_count": 82,
     "metadata": {},
     "output_type": "execute_result"
    }
   ],
   "source": [
    "chr(124)"
   ]
  },
  {
   "cell_type": "code",
   "execution_count": 84,
   "metadata": {},
   "outputs": [
    {
     "data": {
      "text/plain": [
       "0"
      ]
     },
     "execution_count": 84,
     "metadata": {},
     "output_type": "execute_result"
    }
   ],
   "source": [
    "data.director[8][10].find(chr(124))"
   ]
  },
  {
   "cell_type": "code",
   "execution_count": 86,
   "metadata": {},
   "outputs": [
    {
     "data": {
      "text/plain": [
       "75"
      ]
     },
     "execution_count": 86,
     "metadata": {},
     "output_type": "execute_result"
    }
   ],
   "source": [
    "ord(data.director[8][0])"
   ]
  },
  {
   "cell_type": "code",
   "execution_count": 91,
   "metadata": {},
   "outputs": [
    {
     "data": {
      "text/plain": [
       "0                   [Colin Trevorrow]\n",
       "1                     [George Miller]\n",
       "2                  [Robert Schwentke]\n",
       "3                       [J.J. Abrams]\n",
       "4                         [James Wan]\n",
       "5    [Alejandro GonzÃ¡lez IÃ±Ã¡rritu]\n",
       "6                       [Alan Taylor]\n",
       "7                      [Ridley Scott]\n",
       "8         [Kyle Balda, Pierre Coffin]\n",
       "Name: director, dtype: object"
      ]
     },
     "execution_count": 91,
     "metadata": {},
     "output_type": "execute_result"
    }
   ],
   "source": [
    "data.director.apply(lambda x: x.split('|'))[:9]"
   ]
  },
  {
   "cell_type": "code",
   "execution_count": 272,
   "metadata": {},
   "outputs": [],
   "source": [
    "data2 = data.copy()"
   ]
  },
  {
   "cell_type": "code",
   "execution_count": 273,
   "metadata": {},
   "outputs": [],
   "source": [
    "data2.director = data2.director.apply(lambda x: x.split('|'))"
   ]
  },
  {
   "cell_type": "code",
   "execution_count": 274,
   "metadata": {},
   "outputs": [],
   "source": [
    "data2.cast = data2.cast.apply(lambda x: x.split('|'))"
   ]
  },
  {
   "cell_type": "code",
   "execution_count": 275,
   "metadata": {},
   "outputs": [
    {
     "data": {
      "text/html": [
       "<div>\n",
       "<style scoped>\n",
       "    .dataframe tbody tr th:only-of-type {\n",
       "        vertical-align: middle;\n",
       "    }\n",
       "\n",
       "    .dataframe tbody tr th {\n",
       "        vertical-align: top;\n",
       "    }\n",
       "\n",
       "    .dataframe thead th {\n",
       "        text-align: right;\n",
       "    }\n",
       "</style>\n",
       "<table border=\"1\" class=\"dataframe\">\n",
       "  <thead>\n",
       "    <tr style=\"text-align: right;\">\n",
       "      <th></th>\n",
       "      <th>imdb_id</th>\n",
       "      <th>popularity</th>\n",
       "      <th>budget</th>\n",
       "      <th>revenue</th>\n",
       "      <th>original_title</th>\n",
       "      <th>cast</th>\n",
       "      <th>director</th>\n",
       "      <th>tagline</th>\n",
       "      <th>overview</th>\n",
       "      <th>runtime</th>\n",
       "      <th>genres</th>\n",
       "      <th>production_companies</th>\n",
       "      <th>release_date</th>\n",
       "      <th>vote_count</th>\n",
       "      <th>vote_average</th>\n",
       "      <th>release_year</th>\n",
       "      <th>profit</th>\n",
       "    </tr>\n",
       "  </thead>\n",
       "  <tbody>\n",
       "  </tbody>\n",
       "</table>\n",
       "</div>"
      ],
      "text/plain": [
       "Empty DataFrame\n",
       "Columns: [imdb_id, popularity, budget, revenue, original_title, cast, director, tagline, overview, runtime, genres, production_companies, release_date, vote_count, vote_average, release_year, profit]\n",
       "Index: []"
      ]
     },
     "execution_count": 275,
     "metadata": {},
     "output_type": "execute_result"
    }
   ],
   "source": [
    "ttt = pd.DataFrame(columns=data.columns)\n",
    "ttt"
   ]
  },
  {
   "cell_type": "code",
   "execution_count": 276,
   "metadata": {},
   "outputs": [],
   "source": [
    "ttt = pd.DataFrame(columns=data.columns)\n",
    "\n",
    "\n",
    "director_column = ttt.columns.tolist().index('director')\n",
    "cast_column = ttt.columns.tolist().index('cast')\n",
    "next_index = 0\n",
    "\n",
    "for i in data2.index: #.loc[:12]\n",
    "    for j,director in enumerate(data2.loc[i].director):\n",
    "        row = data2.loc[i].values\n",
    "        row[director_column] = row[director_column][j]\n",
    "        ttt.loc[next_index] = row\n",
    "        next_index = ttt.index.max()+1\n",
    "        \n"
   ]
  },
  {
   "cell_type": "code",
   "execution_count": 277,
   "metadata": {
    "collapsed": true
   },
   "outputs": [
    {
     "data": {
      "text/html": [
       "<div>\n",
       "<style scoped>\n",
       "    .dataframe tbody tr th:only-of-type {\n",
       "        vertical-align: middle;\n",
       "    }\n",
       "\n",
       "    .dataframe tbody tr th {\n",
       "        vertical-align: top;\n",
       "    }\n",
       "\n",
       "    .dataframe thead th {\n",
       "        text-align: right;\n",
       "    }\n",
       "</style>\n",
       "<table border=\"1\" class=\"dataframe\">\n",
       "  <thead>\n",
       "    <tr style=\"text-align: right;\">\n",
       "      <th></th>\n",
       "      <th>imdb_id</th>\n",
       "      <th>popularity</th>\n",
       "      <th>budget</th>\n",
       "      <th>revenue</th>\n",
       "      <th>original_title</th>\n",
       "      <th>cast</th>\n",
       "      <th>director</th>\n",
       "      <th>tagline</th>\n",
       "      <th>overview</th>\n",
       "      <th>runtime</th>\n",
       "      <th>genres</th>\n",
       "      <th>production_companies</th>\n",
       "      <th>release_date</th>\n",
       "      <th>vote_count</th>\n",
       "      <th>vote_average</th>\n",
       "      <th>release_year</th>\n",
       "      <th>profit</th>\n",
       "    </tr>\n",
       "  </thead>\n",
       "  <tbody>\n",
       "    <tr>\n",
       "      <th>0</th>\n",
       "      <td>tt0369610</td>\n",
       "      <td>32.985763</td>\n",
       "      <td>150000000</td>\n",
       "      <td>1513528810</td>\n",
       "      <td>Jurassic World</td>\n",
       "      <td>[Chris Pratt, Bryce Dallas Howard, Irrfan Khan...</td>\n",
       "      <td>Colin Trevorrow</td>\n",
       "      <td>The park is open.</td>\n",
       "      <td>Twenty-two years after the events of Jurassic ...</td>\n",
       "      <td>124</td>\n",
       "      <td>Action|Adventure|Science Fiction|Thriller</td>\n",
       "      <td>Universal Studios|Amblin Entertainment|Legenda...</td>\n",
       "      <td>6/9/2015</td>\n",
       "      <td>5562</td>\n",
       "      <td>6.5</td>\n",
       "      <td>2015</td>\n",
       "      <td>1363528810</td>\n",
       "    </tr>\n",
       "    <tr>\n",
       "      <th>1</th>\n",
       "      <td>tt1392190</td>\n",
       "      <td>28.419936</td>\n",
       "      <td>150000000</td>\n",
       "      <td>378436354</td>\n",
       "      <td>Mad Max: Fury Road</td>\n",
       "      <td>[Tom Hardy, Charlize Theron, Hugh Keays-Byrne,...</td>\n",
       "      <td>George Miller</td>\n",
       "      <td>What a Lovely Day.</td>\n",
       "      <td>An apocalyptic story set in the furthest reach...</td>\n",
       "      <td>120</td>\n",
       "      <td>Action|Adventure|Science Fiction|Thriller</td>\n",
       "      <td>Village Roadshow Pictures|Kennedy Miller Produ...</td>\n",
       "      <td>5/13/2015</td>\n",
       "      <td>6185</td>\n",
       "      <td>7.1</td>\n",
       "      <td>2015</td>\n",
       "      <td>228436354</td>\n",
       "    </tr>\n",
       "    <tr>\n",
       "      <th>2</th>\n",
       "      <td>tt2908446</td>\n",
       "      <td>13.112507</td>\n",
       "      <td>110000000</td>\n",
       "      <td>295238201</td>\n",
       "      <td>Insurgent</td>\n",
       "      <td>[Shailene Woodley, Theo James, Kate Winslet, A...</td>\n",
       "      <td>Robert Schwentke</td>\n",
       "      <td>One Choice Can Destroy You</td>\n",
       "      <td>Beatrice Prior must confront her inner demons ...</td>\n",
       "      <td>119</td>\n",
       "      <td>Adventure|Science Fiction|Thriller</td>\n",
       "      <td>Summit Entertainment|Mandeville Films|Red Wago...</td>\n",
       "      <td>3/18/2015</td>\n",
       "      <td>2480</td>\n",
       "      <td>6.3</td>\n",
       "      <td>2015</td>\n",
       "      <td>185238201</td>\n",
       "    </tr>\n",
       "    <tr>\n",
       "      <th>3</th>\n",
       "      <td>tt2488496</td>\n",
       "      <td>11.173104</td>\n",
       "      <td>200000000</td>\n",
       "      <td>2068178225</td>\n",
       "      <td>Star Wars: The Force Awakens</td>\n",
       "      <td>[Harrison Ford, Mark Hamill, Carrie Fisher, Ad...</td>\n",
       "      <td>J.J. Abrams</td>\n",
       "      <td>Every generation has a story.</td>\n",
       "      <td>Thirty years after defeating the Galactic Empi...</td>\n",
       "      <td>136</td>\n",
       "      <td>Action|Adventure|Science Fiction|Fantasy</td>\n",
       "      <td>Lucasfilm|Truenorth Productions|Bad Robot</td>\n",
       "      <td>12/15/2015</td>\n",
       "      <td>5292</td>\n",
       "      <td>7.5</td>\n",
       "      <td>2015</td>\n",
       "      <td>1868178225</td>\n",
       "    </tr>\n",
       "    <tr>\n",
       "      <th>4</th>\n",
       "      <td>tt2820852</td>\n",
       "      <td>9.335014</td>\n",
       "      <td>190000000</td>\n",
       "      <td>1506249360</td>\n",
       "      <td>Furious 7</td>\n",
       "      <td>[Vin Diesel, Paul Walker, Jason Statham, Miche...</td>\n",
       "      <td>James Wan</td>\n",
       "      <td>Vengeance Hits Home</td>\n",
       "      <td>Deckard Shaw seeks revenge against Dominic Tor...</td>\n",
       "      <td>137</td>\n",
       "      <td>Action|Crime|Thriller</td>\n",
       "      <td>Universal Pictures|Original Film|Media Rights ...</td>\n",
       "      <td>4/1/2015</td>\n",
       "      <td>2947</td>\n",
       "      <td>7.3</td>\n",
       "      <td>2015</td>\n",
       "      <td>1316249360</td>\n",
       "    </tr>\n",
       "    <tr>\n",
       "      <th>5</th>\n",
       "      <td>tt1663202</td>\n",
       "      <td>9.110700</td>\n",
       "      <td>135000000</td>\n",
       "      <td>532950503</td>\n",
       "      <td>The Revenant</td>\n",
       "      <td>[Leonardo DiCaprio, Tom Hardy, Will Poulter, D...</td>\n",
       "      <td>Alejandro GonzÃ¡lez IÃ±Ã¡rritu</td>\n",
       "      <td>(n. One who has returned, as if from the dead.)</td>\n",
       "      <td>In the 1820s, a frontiersman, Hugh Glass, sets...</td>\n",
       "      <td>156</td>\n",
       "      <td>Western|Drama|Adventure|Thriller</td>\n",
       "      <td>Regency Enterprises|Appian Way|CatchPlay|Anony...</td>\n",
       "      <td>12/25/2015</td>\n",
       "      <td>3929</td>\n",
       "      <td>7.2</td>\n",
       "      <td>2015</td>\n",
       "      <td>397950503</td>\n",
       "    </tr>\n",
       "    <tr>\n",
       "      <th>6</th>\n",
       "      <td>tt1340138</td>\n",
       "      <td>8.654359</td>\n",
       "      <td>155000000</td>\n",
       "      <td>440603537</td>\n",
       "      <td>Terminator Genisys</td>\n",
       "      <td>[Arnold Schwarzenegger, Jason Clarke, Emilia C...</td>\n",
       "      <td>Alan Taylor</td>\n",
       "      <td>Reset the future</td>\n",
       "      <td>The year is 2029. John Connor, leader of the r...</td>\n",
       "      <td>125</td>\n",
       "      <td>Science Fiction|Action|Thriller|Adventure</td>\n",
       "      <td>Paramount Pictures|Skydance Productions</td>\n",
       "      <td>6/23/2015</td>\n",
       "      <td>2598</td>\n",
       "      <td>5.8</td>\n",
       "      <td>2015</td>\n",
       "      <td>285603537</td>\n",
       "    </tr>\n",
       "    <tr>\n",
       "      <th>7</th>\n",
       "      <td>tt3659388</td>\n",
       "      <td>7.667400</td>\n",
       "      <td>108000000</td>\n",
       "      <td>595380321</td>\n",
       "      <td>The Martian</td>\n",
       "      <td>[Matt Damon, Jessica Chastain, Kristen Wiig, J...</td>\n",
       "      <td>Ridley Scott</td>\n",
       "      <td>Bring Him Home</td>\n",
       "      <td>During a manned mission to Mars, Astronaut Mar...</td>\n",
       "      <td>141</td>\n",
       "      <td>Drama|Adventure|Science Fiction</td>\n",
       "      <td>Twentieth Century Fox Film Corporation|Scott F...</td>\n",
       "      <td>9/30/2015</td>\n",
       "      <td>4572</td>\n",
       "      <td>7.6</td>\n",
       "      <td>2015</td>\n",
       "      <td>487380321</td>\n",
       "    </tr>\n",
       "    <tr>\n",
       "      <th>8</th>\n",
       "      <td>tt2293640</td>\n",
       "      <td>7.404165</td>\n",
       "      <td>74000000</td>\n",
       "      <td>1156730962</td>\n",
       "      <td>Minions</td>\n",
       "      <td>[Sandra Bullock, Jon Hamm, Michael Keaton, All...</td>\n",
       "      <td>Kyle Balda</td>\n",
       "      <td>Before Gru, they had a history of bad bosses</td>\n",
       "      <td>Minions Stuart, Kevin and Bob are recruited by...</td>\n",
       "      <td>91</td>\n",
       "      <td>Family|Animation|Adventure|Comedy</td>\n",
       "      <td>Universal Pictures|Illumination Entertainment</td>\n",
       "      <td>6/17/2015</td>\n",
       "      <td>2893</td>\n",
       "      <td>6.5</td>\n",
       "      <td>2015</td>\n",
       "      <td>1082730962</td>\n",
       "    </tr>\n",
       "    <tr>\n",
       "      <th>9</th>\n",
       "      <td>tt2293640</td>\n",
       "      <td>7.404165</td>\n",
       "      <td>74000000</td>\n",
       "      <td>1156730962</td>\n",
       "      <td>Minions</td>\n",
       "      <td>[Sandra Bullock, Jon Hamm, Michael Keaton, All...</td>\n",
       "      <td>Pierre Coffin</td>\n",
       "      <td>Before Gru, they had a history of bad bosses</td>\n",
       "      <td>Minions Stuart, Kevin and Bob are recruited by...</td>\n",
       "      <td>91</td>\n",
       "      <td>Family|Animation|Adventure|Comedy</td>\n",
       "      <td>Universal Pictures|Illumination Entertainment</td>\n",
       "      <td>6/17/2015</td>\n",
       "      <td>2893</td>\n",
       "      <td>6.5</td>\n",
       "      <td>2015</td>\n",
       "      <td>1082730962</td>\n",
       "    </tr>\n",
       "    <tr>\n",
       "      <th>10</th>\n",
       "      <td>tt2096673</td>\n",
       "      <td>6.326804</td>\n",
       "      <td>175000000</td>\n",
       "      <td>853708609</td>\n",
       "      <td>Inside Out</td>\n",
       "      <td>[Amy Poehler, Phyllis Smith, Richard Kind, Bil...</td>\n",
       "      <td>Pete Docter</td>\n",
       "      <td>Meet the little voices inside your head.</td>\n",
       "      <td>Growing up can be a bumpy road, and it's no ex...</td>\n",
       "      <td>94</td>\n",
       "      <td>Comedy|Animation|Family</td>\n",
       "      <td>Walt Disney Pictures|Pixar Animation Studios|W...</td>\n",
       "      <td>6/9/2015</td>\n",
       "      <td>3935</td>\n",
       "      <td>8.0</td>\n",
       "      <td>2015</td>\n",
       "      <td>678708609</td>\n",
       "    </tr>\n",
       "    <tr>\n",
       "      <th>11</th>\n",
       "      <td>tt2379713</td>\n",
       "      <td>6.200282</td>\n",
       "      <td>245000000</td>\n",
       "      <td>880674609</td>\n",
       "      <td>Spectre</td>\n",
       "      <td>[Daniel Craig, Christoph Waltz, LÃ©a Seydoux, ...</td>\n",
       "      <td>Sam Mendes</td>\n",
       "      <td>A Plan No One Escapes</td>\n",
       "      <td>A cryptic message from Bondâ€™s past sends him...</td>\n",
       "      <td>148</td>\n",
       "      <td>Action|Adventure|Crime</td>\n",
       "      <td>Columbia Pictures|Danjaq|B24</td>\n",
       "      <td>10/26/2015</td>\n",
       "      <td>3254</td>\n",
       "      <td>6.2</td>\n",
       "      <td>2015</td>\n",
       "      <td>635674609</td>\n",
       "    </tr>\n",
       "    <tr>\n",
       "      <th>12</th>\n",
       "      <td>tt1617661</td>\n",
       "      <td>6.189369</td>\n",
       "      <td>176000003</td>\n",
       "      <td>183987723</td>\n",
       "      <td>Jupiter Ascending</td>\n",
       "      <td>[Mila Kunis, Channing Tatum, Sean Bean, Eddie ...</td>\n",
       "      <td>Lana Wachowski</td>\n",
       "      <td>Expand your universe.</td>\n",
       "      <td>In a universe where human genetic material is ...</td>\n",
       "      <td>124</td>\n",
       "      <td>Science Fiction|Fantasy|Action|Adventure</td>\n",
       "      <td>Village Roadshow Pictures|Dune Entertainment|A...</td>\n",
       "      <td>2/4/2015</td>\n",
       "      <td>1937</td>\n",
       "      <td>5.2</td>\n",
       "      <td>2015</td>\n",
       "      <td>7987720</td>\n",
       "    </tr>\n",
       "    <tr>\n",
       "      <th>13</th>\n",
       "      <td>tt1617661</td>\n",
       "      <td>6.189369</td>\n",
       "      <td>176000003</td>\n",
       "      <td>183987723</td>\n",
       "      <td>Jupiter Ascending</td>\n",
       "      <td>[Mila Kunis, Channing Tatum, Sean Bean, Eddie ...</td>\n",
       "      <td>Lilly Wachowski</td>\n",
       "      <td>Expand your universe.</td>\n",
       "      <td>In a universe where human genetic material is ...</td>\n",
       "      <td>124</td>\n",
       "      <td>Science Fiction|Fantasy|Action|Adventure</td>\n",
       "      <td>Village Roadshow Pictures|Dune Entertainment|A...</td>\n",
       "      <td>2/4/2015</td>\n",
       "      <td>1937</td>\n",
       "      <td>5.2</td>\n",
       "      <td>2015</td>\n",
       "      <td>7987720</td>\n",
       "    </tr>\n",
       "    <tr>\n",
       "      <th>14</th>\n",
       "      <td>tt0470752</td>\n",
       "      <td>6.118847</td>\n",
       "      <td>15000000</td>\n",
       "      <td>36869414</td>\n",
       "      <td>Ex Machina</td>\n",
       "      <td>[Domhnall Gleeson, Alicia Vikander, Oscar Isaa...</td>\n",
       "      <td>Alex Garland</td>\n",
       "      <td>There is nothing more human than the will to s...</td>\n",
       "      <td>Caleb, a 26 year old coder at the world's larg...</td>\n",
       "      <td>108</td>\n",
       "      <td>Drama|Science Fiction</td>\n",
       "      <td>DNA Films|Universal Pictures International (UP...</td>\n",
       "      <td>1/21/2015</td>\n",
       "      <td>2854</td>\n",
       "      <td>7.6</td>\n",
       "      <td>2015</td>\n",
       "      <td>21869414</td>\n",
       "    </tr>\n",
       "    <tr>\n",
       "      <th>15</th>\n",
       "      <td>tt2120120</td>\n",
       "      <td>5.984995</td>\n",
       "      <td>88000000</td>\n",
       "      <td>243637091</td>\n",
       "      <td>Pixels</td>\n",
       "      <td>[Adam Sandler, Michelle Monaghan, Peter Dinkla...</td>\n",
       "      <td>Chris Columbus</td>\n",
       "      <td>Game On.</td>\n",
       "      <td>Video game experts are recruited by the milita...</td>\n",
       "      <td>105</td>\n",
       "      <td>Action|Comedy|Science Fiction</td>\n",
       "      <td>Columbia Pictures|Happy Madison Productions</td>\n",
       "      <td>7/16/2015</td>\n",
       "      <td>1575</td>\n",
       "      <td>5.8</td>\n",
       "      <td>2015</td>\n",
       "      <td>155637091</td>\n",
       "    </tr>\n",
       "    <tr>\n",
       "      <th>16</th>\n",
       "      <td>tt2395427</td>\n",
       "      <td>5.944927</td>\n",
       "      <td>280000000</td>\n",
       "      <td>1405035767</td>\n",
       "      <td>Avengers: Age of Ultron</td>\n",
       "      <td>[Robert Downey Jr., Chris Hemsworth, Mark Ruff...</td>\n",
       "      <td>Joss Whedon</td>\n",
       "      <td>A New Age Has Come.</td>\n",
       "      <td>When Tony Stark tries to jumpstart a dormant p...</td>\n",
       "      <td>141</td>\n",
       "      <td>Action|Adventure|Science Fiction</td>\n",
       "      <td>Marvel Studios|Prime Focus|Revolution Sun Studios</td>\n",
       "      <td>4/22/2015</td>\n",
       "      <td>4304</td>\n",
       "      <td>7.4</td>\n",
       "      <td>2015</td>\n",
       "      <td>1125035767</td>\n",
       "    </tr>\n",
       "    <tr>\n",
       "      <th>17</th>\n",
       "      <td>tt3460252</td>\n",
       "      <td>5.898400</td>\n",
       "      <td>44000000</td>\n",
       "      <td>155760117</td>\n",
       "      <td>The Hateful Eight</td>\n",
       "      <td>[Samuel L. Jackson, Kurt Russell, Jennifer Jas...</td>\n",
       "      <td>Quentin Tarantino</td>\n",
       "      <td>No one comes up here without a damn good reason.</td>\n",
       "      <td>Bounty hunters seek shelter from a raging bliz...</td>\n",
       "      <td>167</td>\n",
       "      <td>Crime|Drama|Mystery|Western</td>\n",
       "      <td>Double Feature Films|The Weinstein Company|Fil...</td>\n",
       "      <td>12/25/2015</td>\n",
       "      <td>2389</td>\n",
       "      <td>7.4</td>\n",
       "      <td>2015</td>\n",
       "      <td>111760117</td>\n",
       "    </tr>\n",
       "    <tr>\n",
       "      <th>18</th>\n",
       "      <td>tt2446042</td>\n",
       "      <td>5.749758</td>\n",
       "      <td>48000000</td>\n",
       "      <td>325771424</td>\n",
       "      <td>Taken 3</td>\n",
       "      <td>[Liam Neeson, Forest Whitaker, Maggie Grace, F...</td>\n",
       "      <td>Olivier Megaton</td>\n",
       "      <td>It Ends Here</td>\n",
       "      <td>Ex-government operative Bryan Mills finds his ...</td>\n",
       "      <td>109</td>\n",
       "      <td>Crime|Action|Thriller</td>\n",
       "      <td>Twentieth Century Fox Film Corporation|M6 Film...</td>\n",
       "      <td>1/1/2015</td>\n",
       "      <td>1578</td>\n",
       "      <td>6.1</td>\n",
       "      <td>2015</td>\n",
       "      <td>277771424</td>\n",
       "    </tr>\n",
       "    <tr>\n",
       "      <th>19</th>\n",
       "      <td>tt0478970</td>\n",
       "      <td>5.573184</td>\n",
       "      <td>130000000</td>\n",
       "      <td>518602163</td>\n",
       "      <td>Ant-Man</td>\n",
       "      <td>[Paul Rudd, Michael Douglas, Evangeline Lilly,...</td>\n",
       "      <td>Peyton Reed</td>\n",
       "      <td>Heroes Don't Get Any Bigger</td>\n",
       "      <td>Armed with the astonishing ability to shrink i...</td>\n",
       "      <td>115</td>\n",
       "      <td>Science Fiction|Action|Adventure</td>\n",
       "      <td>Marvel Studios</td>\n",
       "      <td>7/14/2015</td>\n",
       "      <td>3779</td>\n",
       "      <td>7.0</td>\n",
       "      <td>2015</td>\n",
       "      <td>388602163</td>\n",
       "    </tr>\n",
       "    <tr>\n",
       "      <th>20</th>\n",
       "      <td>tt1661199</td>\n",
       "      <td>5.556818</td>\n",
       "      <td>95000000</td>\n",
       "      <td>542351353</td>\n",
       "      <td>Cinderella</td>\n",
       "      <td>[Lily James, Cate Blanchett, Richard Madden, H...</td>\n",
       "      <td>Kenneth Branagh</td>\n",
       "      <td>Midnight is just the beginning.</td>\n",
       "      <td>When her father unexpectedly passes away, youn...</td>\n",
       "      <td>112</td>\n",
       "      <td>Romance|Fantasy|Family|Drama</td>\n",
       "      <td>Walt Disney Pictures|Genre Films|Beagle Pug Fi...</td>\n",
       "      <td>3/12/2015</td>\n",
       "      <td>1495</td>\n",
       "      <td>6.8</td>\n",
       "      <td>2015</td>\n",
       "      <td>447351353</td>\n",
       "    </tr>\n",
       "    <tr>\n",
       "      <th>21</th>\n",
       "      <td>tt1951266</td>\n",
       "      <td>5.476958</td>\n",
       "      <td>160000000</td>\n",
       "      <td>650523427</td>\n",
       "      <td>The Hunger Games: Mockingjay - Part 2</td>\n",
       "      <td>[Jennifer Lawrence, Josh Hutcherson, Liam Hems...</td>\n",
       "      <td>Francis Lawrence</td>\n",
       "      <td>The fire will burn forever.</td>\n",
       "      <td>With the nation of Panem in a full scale war, ...</td>\n",
       "      <td>136</td>\n",
       "      <td>War|Adventure|Science Fiction</td>\n",
       "      <td>Studio Babelsberg|StudioCanal|Lionsgate|Walt D...</td>\n",
       "      <td>11/18/2015</td>\n",
       "      <td>2380</td>\n",
       "      <td>6.5</td>\n",
       "      <td>2015</td>\n",
       "      <td>490523427</td>\n",
       "    </tr>\n",
       "    <tr>\n",
       "      <th>22</th>\n",
       "      <td>tt1964418</td>\n",
       "      <td>5.462138</td>\n",
       "      <td>190000000</td>\n",
       "      <td>209035668</td>\n",
       "      <td>Tomorrowland</td>\n",
       "      <td>[Britt Robertson, George Clooney, Raffey Cassi...</td>\n",
       "      <td>Brad Bird</td>\n",
       "      <td>Imagine a world where nothing is impossible.</td>\n",
       "      <td>Bound by a shared destiny, a bright, optimisti...</td>\n",
       "      <td>130</td>\n",
       "      <td>Action|Family|Science Fiction|Adventure|Mystery</td>\n",
       "      <td>Walt Disney Pictures|Babieka|A113</td>\n",
       "      <td>5/19/2015</td>\n",
       "      <td>1899</td>\n",
       "      <td>6.2</td>\n",
       "      <td>2015</td>\n",
       "      <td>19035668</td>\n",
       "    </tr>\n",
       "    <tr>\n",
       "      <th>23</th>\n",
       "      <td>tt1798684</td>\n",
       "      <td>5.337064</td>\n",
       "      <td>30000000</td>\n",
       "      <td>91709827</td>\n",
       "      <td>Southpaw</td>\n",
       "      <td>[Jake Gyllenhaal, Rachel McAdams, Forest Whita...</td>\n",
       "      <td>Antoine Fuqua</td>\n",
       "      <td>Believe in Hope.</td>\n",
       "      <td>Billy \"The Great\" Hope, the reigning junior mi...</td>\n",
       "      <td>123</td>\n",
       "      <td>Action|Drama</td>\n",
       "      <td>Escape Artists|Riche-Ludwig Productions</td>\n",
       "      <td>6/15/2015</td>\n",
       "      <td>1386</td>\n",
       "      <td>7.3</td>\n",
       "      <td>2015</td>\n",
       "      <td>61709827</td>\n",
       "    </tr>\n",
       "    <tr>\n",
       "      <th>24</th>\n",
       "      <td>tt2126355</td>\n",
       "      <td>4.907832</td>\n",
       "      <td>110000000</td>\n",
       "      <td>470490832</td>\n",
       "      <td>San Andreas</td>\n",
       "      <td>[Dwayne Johnson, Alexandra Daddario, Carla Gug...</td>\n",
       "      <td>Brad Peyton</td>\n",
       "      <td>A rescue pilot survived an earthquake, this is...</td>\n",
       "      <td>In the aftermath of a massive earthquake in Ca...</td>\n",
       "      <td>114</td>\n",
       "      <td>Action|Drama|Thriller</td>\n",
       "      <td>New Line Cinema|Village Roadshow Pictures|Warn...</td>\n",
       "      <td>5/27/2015</td>\n",
       "      <td>2060</td>\n",
       "      <td>6.1</td>\n",
       "      <td>2015</td>\n",
       "      <td>360490832</td>\n",
       "    </tr>\n",
       "    <tr>\n",
       "      <th>25</th>\n",
       "      <td>tt2322441</td>\n",
       "      <td>4.710402</td>\n",
       "      <td>40000000</td>\n",
       "      <td>569651467</td>\n",
       "      <td>Fifty Shades of Grey</td>\n",
       "      <td>[Dakota Johnson, Jamie Dornan, Jennifer Ehle, ...</td>\n",
       "      <td>Sam Taylor-Johnson</td>\n",
       "      <td>Are you curious?</td>\n",
       "      <td>When college senior Anastasia Steele steps in ...</td>\n",
       "      <td>125</td>\n",
       "      <td>Drama|Romance</td>\n",
       "      <td>Focus Features|Trigger Street Productions|Mich...</td>\n",
       "      <td>2/11/2015</td>\n",
       "      <td>1865</td>\n",
       "      <td>5.3</td>\n",
       "      <td>2015</td>\n",
       "      <td>529651467</td>\n",
       "    </tr>\n",
       "    <tr>\n",
       "      <th>26</th>\n",
       "      <td>tt1596363</td>\n",
       "      <td>4.648046</td>\n",
       "      <td>28000000</td>\n",
       "      <td>133346506</td>\n",
       "      <td>The Big Short</td>\n",
       "      <td>[Christian Bale, Steve Carell, Ryan Gosling, B...</td>\n",
       "      <td>Adam McKay</td>\n",
       "      <td>This is a true story.</td>\n",
       "      <td>The men who made millions from a global econom...</td>\n",
       "      <td>130</td>\n",
       "      <td>Comedy|Drama</td>\n",
       "      <td>Paramount Pictures|Plan B Entertainment|Regenc...</td>\n",
       "      <td>12/11/2015</td>\n",
       "      <td>1545</td>\n",
       "      <td>7.3</td>\n",
       "      <td>2015</td>\n",
       "      <td>105346506</td>\n",
       "    </tr>\n",
       "    <tr>\n",
       "      <th>27</th>\n",
       "      <td>tt2381249</td>\n",
       "      <td>4.566713</td>\n",
       "      <td>150000000</td>\n",
       "      <td>682330139</td>\n",
       "      <td>Mission: Impossible - Rogue Nation</td>\n",
       "      <td>[Tom Cruise, Jeremy Renner, Simon Pegg, Rebecc...</td>\n",
       "      <td>Christopher McQuarrie</td>\n",
       "      <td>Desperate Times. Desperate Measures.</td>\n",
       "      <td>Ethan and team take on their most impossible m...</td>\n",
       "      <td>131</td>\n",
       "      <td>Action</td>\n",
       "      <td>Paramount Pictures|Skydance Productions|China ...</td>\n",
       "      <td>7/23/2015</td>\n",
       "      <td>2349</td>\n",
       "      <td>7.1</td>\n",
       "      <td>2015</td>\n",
       "      <td>532330139</td>\n",
       "    </tr>\n",
       "    <tr>\n",
       "      <th>28</th>\n",
       "      <td>tt2637276</td>\n",
       "      <td>4.564549</td>\n",
       "      <td>68000000</td>\n",
       "      <td>215863606</td>\n",
       "      <td>Ted 2</td>\n",
       "      <td>[Mark Wahlberg, Seth MacFarlane, Amanda Seyfri...</td>\n",
       "      <td>Seth MacFarlane</td>\n",
       "      <td>Ted is Coming, Again.</td>\n",
       "      <td>Newlywed couple Ted and Tami-Lynn want to have...</td>\n",
       "      <td>115</td>\n",
       "      <td>Comedy</td>\n",
       "      <td>Universal Pictures|Media Rights Capital|Fuzzy ...</td>\n",
       "      <td>6/25/2015</td>\n",
       "      <td>1666</td>\n",
       "      <td>6.3</td>\n",
       "      <td>2015</td>\n",
       "      <td>147863606</td>\n",
       "    </tr>\n",
       "    <tr>\n",
       "      <th>29</th>\n",
       "      <td>tt2802144</td>\n",
       "      <td>4.503789</td>\n",
       "      <td>81000000</td>\n",
       "      <td>403802136</td>\n",
       "      <td>Kingsman: The Secret Service</td>\n",
       "      <td>[Taron Egerton, Colin Firth, Samuel L. Jackson...</td>\n",
       "      <td>Matthew Vaughn</td>\n",
       "      <td>Manners maketh man.</td>\n",
       "      <td>The story of a super-secret spy organization t...</td>\n",
       "      <td>130</td>\n",
       "      <td>Crime|Comedy|Action|Adventure</td>\n",
       "      <td>Twentieth Century Fox Film Corporation|Marv Fi...</td>\n",
       "      <td>1/24/2015</td>\n",
       "      <td>3833</td>\n",
       "      <td>7.6</td>\n",
       "      <td>2015</td>\n",
       "      <td>322802136</td>\n",
       "    </tr>\n",
       "    <tr>\n",
       "      <th>...</th>\n",
       "      <td>...</td>\n",
       "      <td>...</td>\n",
       "      <td>...</td>\n",
       "      <td>...</td>\n",
       "      <td>...</td>\n",
       "      <td>...</td>\n",
       "      <td>...</td>\n",
       "      <td>...</td>\n",
       "      <td>...</td>\n",
       "      <td>...</td>\n",
       "      <td>...</td>\n",
       "      <td>...</td>\n",
       "      <td>...</td>\n",
       "      <td>...</td>\n",
       "      <td>...</td>\n",
       "      <td>...</td>\n",
       "      <td>...</td>\n",
       "    </tr>\n",
       "    <tr>\n",
       "      <th>2024</th>\n",
       "      <td>tt0190865</td>\n",
       "      <td>0.530739</td>\n",
       "      <td>75000000</td>\n",
       "      <td>215663859</td>\n",
       "      <td>Vertical Limit</td>\n",
       "      <td>[Chris O'Donnell, Robin Tunney, Bill Paxton, S...</td>\n",
       "      <td>Martin Campbell</td>\n",
       "      <td>The Mountain Will Decide.</td>\n",
       "      <td>Trapped near the summit of K2, the world's sec...</td>\n",
       "      <td>124</td>\n",
       "      <td>Action|Adventure|Thriller</td>\n",
       "      <td>Columbia Pictures Corporation|Global Entertain...</td>\n",
       "      <td>12/8/2000</td>\n",
       "      <td>151</td>\n",
       "      <td>6.0</td>\n",
       "      <td>2000</td>\n",
       "      <td>140663859</td>\n",
       "    </tr>\n",
       "    <tr>\n",
       "      <th>2025</th>\n",
       "      <td>tt0184858</td>\n",
       "      <td>0.525341</td>\n",
       "      <td>42000000</td>\n",
       "      <td>32168970</td>\n",
       "      <td>Reindeer Games</td>\n",
       "      <td>[Ben Affleck, Gary Sinise, Charlize Theron, De...</td>\n",
       "      <td>John Frankenheimer</td>\n",
       "      <td>The trap is set. The game is on.</td>\n",
       "      <td>After assuming his dead cellmate's identity to...</td>\n",
       "      <td>124</td>\n",
       "      <td>Thriller</td>\n",
       "      <td>Dimension Films|Marty Katz Productions</td>\n",
       "      <td>2/25/2000</td>\n",
       "      <td>86</td>\n",
       "      <td>5.2</td>\n",
       "      <td>2000</td>\n",
       "      <td>-9831030</td>\n",
       "    </tr>\n",
       "    <tr>\n",
       "      <th>2026</th>\n",
       "      <td>tt0195945</td>\n",
       "      <td>0.492950</td>\n",
       "      <td>11000000</td>\n",
       "      <td>59827328</td>\n",
       "      <td>Next Friday</td>\n",
       "      <td>[Ice Cube, Mike Epps, Justin Pierce, John With...</td>\n",
       "      <td>Steve Carr</td>\n",
       "      <td>The suburbs make the hood look good.</td>\n",
       "      <td>Ice Cube returns as Craig Jones, a streetwise ...</td>\n",
       "      <td>98</td>\n",
       "      <td>Comedy</td>\n",
       "      <td>New Line Cinema</td>\n",
       "      <td>1/12/2000</td>\n",
       "      <td>70</td>\n",
       "      <td>6.6</td>\n",
       "      <td>2000</td>\n",
       "      <td>48827328</td>\n",
       "    </tr>\n",
       "    <tr>\n",
       "      <th>2027</th>\n",
       "      <td>tt0219653</td>\n",
       "      <td>0.481089</td>\n",
       "      <td>28000000</td>\n",
       "      <td>33000337</td>\n",
       "      <td>Dracula 2000</td>\n",
       "      <td>[Gerard Butler, Christopher Plummer, Jonny Lee...</td>\n",
       "      <td>Patrick Lussier</td>\n",
       "      <td>The Most Seductive Evil of All Time Has Now Be...</td>\n",
       "      <td>In the millenium version of this classic Gothi...</td>\n",
       "      <td>99</td>\n",
       "      <td>Horror|Thriller</td>\n",
       "      <td>Neo Art &amp; Logic|Dimension Films|Wes Craven Films</td>\n",
       "      <td>12/22/2000</td>\n",
       "      <td>73</td>\n",
       "      <td>4.7</td>\n",
       "      <td>2000</td>\n",
       "      <td>5000337</td>\n",
       "    </tr>\n",
       "    <tr>\n",
       "      <th>2028</th>\n",
       "      <td>tt0203019</td>\n",
       "      <td>0.465293</td>\n",
       "      <td>32000000</td>\n",
       "      <td>48814909</td>\n",
       "      <td>Men of Honor</td>\n",
       "      <td>[Robert De Niro, Cuba Gooding Jr., Charlize Th...</td>\n",
       "      <td>George Tillman, Jr.</td>\n",
       "      <td>History is made by those who break the rules.</td>\n",
       "      <td>Against formidable odds -- and an old-school d...</td>\n",
       "      <td>129</td>\n",
       "      <td>Drama</td>\n",
       "      <td>Fox 2000 Pictures</td>\n",
       "      <td>9/13/2000</td>\n",
       "      <td>341</td>\n",
       "      <td>7.0</td>\n",
       "      <td>2000</td>\n",
       "      <td>16814909</td>\n",
       "    </tr>\n",
       "    <tr>\n",
       "      <th>2029</th>\n",
       "      <td>tt0161081</td>\n",
       "      <td>0.464139</td>\n",
       "      <td>100000000</td>\n",
       "      <td>155464351</td>\n",
       "      <td>What Lies Beneath</td>\n",
       "      <td>[Harrison Ford, Michelle Pfeiffer, Diana Scarw...</td>\n",
       "      <td>Robert Zemeckis</td>\n",
       "      <td>He was the perfect husband until his one mista...</td>\n",
       "      <td>When Claire Spencer starts hearing ghostly voi...</td>\n",
       "      <td>130</td>\n",
       "      <td>Drama|Horror|Mystery|Thriller</td>\n",
       "      <td>DreamWorks SKG|Twentieth Century Fox Film Corp...</td>\n",
       "      <td>7/21/2000</td>\n",
       "      <td>234</td>\n",
       "      <td>6.1</td>\n",
       "      <td>2000</td>\n",
       "      <td>55464351</td>\n",
       "    </tr>\n",
       "    <tr>\n",
       "      <th>2030</th>\n",
       "      <td>tt0160797</td>\n",
       "      <td>0.458778</td>\n",
       "      <td>60000000</td>\n",
       "      <td>71000000</td>\n",
       "      <td>Rules of Engagement</td>\n",
       "      <td>[Tommy Lee Jones, Samuel L. Jackson, Guy Pearc...</td>\n",
       "      <td>William Friedkin</td>\n",
       "      <td>A hero should never have to stand alone.</td>\n",
       "      <td>Part war movie, part courtroom thriller, this ...</td>\n",
       "      <td>128</td>\n",
       "      <td>Action|Adventure|Drama|History|War</td>\n",
       "      <td>Paramount Pictures|Seven Arts Pictures|Munich ...</td>\n",
       "      <td>4/7/2000</td>\n",
       "      <td>90</td>\n",
       "      <td>5.8</td>\n",
       "      <td>2000</td>\n",
       "      <td>11000000</td>\n",
       "    </tr>\n",
       "    <tr>\n",
       "      <th>2031</th>\n",
       "      <td>tt0181536</td>\n",
       "      <td>0.449041</td>\n",
       "      <td>43000000</td>\n",
       "      <td>80049764</td>\n",
       "      <td>Finding Forrester</td>\n",
       "      <td>[Sean Connery, Rob Brown, F. Murray Abraham, A...</td>\n",
       "      <td>Gus Van Sant</td>\n",
       "      <td>In an ordinary place, he found the one person ...</td>\n",
       "      <td>Gus van Sant tells the story of a young Africa...</td>\n",
       "      <td>136</td>\n",
       "      <td>Drama</td>\n",
       "      <td>Fountainbridge Films|Laurence Mark Productions...</td>\n",
       "      <td>12/21/2000</td>\n",
       "      <td>161</td>\n",
       "      <td>6.9</td>\n",
       "      <td>2000</td>\n",
       "      <td>37049764</td>\n",
       "    </tr>\n",
       "    <tr>\n",
       "      <th>2032</th>\n",
       "      <td>tt0204175</td>\n",
       "      <td>0.417675</td>\n",
       "      <td>16000000</td>\n",
       "      <td>20627372</td>\n",
       "      <td>Boys and Girls</td>\n",
       "      <td>[Freddie Prinze Jr., Claire Forlani, Jason Big...</td>\n",
       "      <td>Robert Iscove</td>\n",
       "      <td>Warning: Sex Changes Everything</td>\n",
       "      <td>Ryan and Jennifer are opposites who definitely...</td>\n",
       "      <td>94</td>\n",
       "      <td>Comedy|Drama|Romance</td>\n",
       "      <td>Dimension Films</td>\n",
       "      <td>6/16/2000</td>\n",
       "      <td>53</td>\n",
       "      <td>5.3</td>\n",
       "      <td>2000</td>\n",
       "      <td>4627372</td>\n",
       "    </tr>\n",
       "    <tr>\n",
       "      <th>2033</th>\n",
       "      <td>tt0211181</td>\n",
       "      <td>0.410235</td>\n",
       "      <td>85000000</td>\n",
       "      <td>183611771</td>\n",
       "      <td>102 Dalmatians</td>\n",
       "      <td>[Glenn Close, Ioan Gruffudd, Alice Evans, Tim ...</td>\n",
       "      <td>Kevin Lima</td>\n",
       "      <td>Meet Two Unlikely Heroes With A Bone To Pick.</td>\n",
       "      <td>Get ready for a howling good time as an all ne...</td>\n",
       "      <td>100</td>\n",
       "      <td>Comedy|Family</td>\n",
       "      <td>Walt Disney Pictures|Cruella Productions</td>\n",
       "      <td>10/7/2000</td>\n",
       "      <td>150</td>\n",
       "      <td>5.0</td>\n",
       "      <td>2000</td>\n",
       "      <td>98611771</td>\n",
       "    </tr>\n",
       "    <tr>\n",
       "      <th>2034</th>\n",
       "      <td>tt0144528</td>\n",
       "      <td>1.616724</td>\n",
       "      <td>84000000</td>\n",
       "      <td>123307945</td>\n",
       "      <td>Nutty Professor II: The Klumps</td>\n",
       "      <td>[Eddie Murphy, Janet Jackson, Larry Miller, Jo...</td>\n",
       "      <td>Peter Segal</td>\n",
       "      <td>The Klumps are back!</td>\n",
       "      <td>The hilarity begins when professor Sherman Klu...</td>\n",
       "      <td>106</td>\n",
       "      <td>Fantasy|Comedy|Romance|Science Fiction</td>\n",
       "      <td>Imagine Entertainment|Universal Pictures</td>\n",
       "      <td>7/27/2000</td>\n",
       "      <td>168</td>\n",
       "      <td>4.8</td>\n",
       "      <td>2000</td>\n",
       "      <td>39307945</td>\n",
       "    </tr>\n",
       "    <tr>\n",
       "      <th>2035</th>\n",
       "      <td>tt0171433</td>\n",
       "      <td>0.623706</td>\n",
       "      <td>30000000</td>\n",
       "      <td>37036004</td>\n",
       "      <td>Keeping the Faith</td>\n",
       "      <td>[Ben Stiller, Edward Norton, Jenna Elfman, Ann...</td>\n",
       "      <td>Edward Norton</td>\n",
       "      <td>If you have to believe in something, you may a...</td>\n",
       "      <td>Best friends since they were kids, Rabbi Jacob...</td>\n",
       "      <td>127</td>\n",
       "      <td>Comedy</td>\n",
       "      <td>Spyglass Entertainment|Touchstone Pictures|Tri...</td>\n",
       "      <td>4/14/2000</td>\n",
       "      <td>79</td>\n",
       "      <td>5.7</td>\n",
       "      <td>2000</td>\n",
       "      <td>7036004</td>\n",
       "    </tr>\n",
       "    <tr>\n",
       "      <th>2036</th>\n",
       "      <td>tt0134983</td>\n",
       "      <td>0.385350</td>\n",
       "      <td>90000000</td>\n",
       "      <td>14828081</td>\n",
       "      <td>Supernova</td>\n",
       "      <td>[James Spader, Angela Bassett, Robert Forster,...</td>\n",
       "      <td>Walter Hill</td>\n",
       "      <td>In the farthest reaches of space, something ha...</td>\n",
       "      <td>Set in the 22nd century, when a battered salva...</td>\n",
       "      <td>91</td>\n",
       "      <td>Science Fiction</td>\n",
       "      <td>United Artists|Metro-Goldwyn-Mayer (MGM)|Hamme...</td>\n",
       "      <td>1/14/2000</td>\n",
       "      <td>42</td>\n",
       "      <td>4.7</td>\n",
       "      <td>2000</td>\n",
       "      <td>-75171919</td>\n",
       "    </tr>\n",
       "    <tr>\n",
       "      <th>2037</th>\n",
       "      <td>tt0134983</td>\n",
       "      <td>0.385350</td>\n",
       "      <td>90000000</td>\n",
       "      <td>14828081</td>\n",
       "      <td>Supernova</td>\n",
       "      <td>[James Spader, Angela Bassett, Robert Forster,...</td>\n",
       "      <td>Jack Sholder</td>\n",
       "      <td>In the farthest reaches of space, something ha...</td>\n",
       "      <td>Set in the 22nd century, when a battered salva...</td>\n",
       "      <td>91</td>\n",
       "      <td>Science Fiction</td>\n",
       "      <td>United Artists|Metro-Goldwyn-Mayer (MGM)|Hamme...</td>\n",
       "      <td>1/14/2000</td>\n",
       "      <td>42</td>\n",
       "      <td>4.7</td>\n",
       "      <td>2000</td>\n",
       "      <td>-75171919</td>\n",
       "    </tr>\n",
       "    <tr>\n",
       "      <th>2038</th>\n",
       "      <td>tt0160009</td>\n",
       "      <td>0.339608</td>\n",
       "      <td>40000000</td>\n",
       "      <td>30199105</td>\n",
       "      <td>The Art of War</td>\n",
       "      <td>[Wesley Snipes, Donald Sutherland, Maury Chayk...</td>\n",
       "      <td>Christian Duguay</td>\n",
       "      <td>Who is your foe?</td>\n",
       "      <td>When ruthless terrorists threaten to bring dow...</td>\n",
       "      <td>117</td>\n",
       "      <td>Action|Adventure|Thriller</td>\n",
       "      <td>Amen Ra Films|Franchise Pictures|Warner Bros.|...</td>\n",
       "      <td>8/23/2000</td>\n",
       "      <td>67</td>\n",
       "      <td>5.7</td>\n",
       "      <td>2000</td>\n",
       "      <td>-9800895</td>\n",
       "    </tr>\n",
       "    <tr>\n",
       "      <th>2039</th>\n",
       "      <td>tt0202402</td>\n",
       "      <td>0.350814</td>\n",
       "      <td>15000000</td>\n",
       "      <td>9902115</td>\n",
       "      <td>Whatever It Takes</td>\n",
       "      <td>[Jodi Lyn O'Keefe, Shane West, Marla Sokoloff,...</td>\n",
       "      <td>David Raynr</td>\n",
       "      <td>How low will they go to get the girls of their...</td>\n",
       "      <td>A nerdy teen, Ryan Woodman is smitten with the...</td>\n",
       "      <td>94</td>\n",
       "      <td>Drama|Comedy|Romance</td>\n",
       "      <td>Columbia Pictures Corporation</td>\n",
       "      <td>3/31/2000</td>\n",
       "      <td>22</td>\n",
       "      <td>5.0</td>\n",
       "      <td>2000</td>\n",
       "      <td>-5097885</td>\n",
       "    </tr>\n",
       "    <tr>\n",
       "      <th>2040</th>\n",
       "      <td>tt0219854</td>\n",
       "      <td>0.349034</td>\n",
       "      <td>65000000</td>\n",
       "      <td>69700000</td>\n",
       "      <td>The Kid</td>\n",
       "      <td>[Bruce Willis, Spencer Breslin, Emily Mortimer...</td>\n",
       "      <td>Jon Turteltaub</td>\n",
       "      <td>Nobody ever grows up quite like they imagined.</td>\n",
       "      <td>Powerful businessman Russ Duritz is self-absor...</td>\n",
       "      <td>104</td>\n",
       "      <td>Fantasy|Comedy|Family</td>\n",
       "      <td>Walt Disney Pictures</td>\n",
       "      <td>7/7/2000</td>\n",
       "      <td>141</td>\n",
       "      <td>5.9</td>\n",
       "      <td>2000</td>\n",
       "      <td>4700000</td>\n",
       "    </tr>\n",
       "    <tr>\n",
       "      <th>2041</th>\n",
       "      <td>tt0144964</td>\n",
       "      <td>0.332267</td>\n",
       "      <td>25000000</td>\n",
       "      <td>15843608</td>\n",
       "      <td>Highlander: Endgame</td>\n",
       "      <td>[Christopher Lambert, Bruce Payne, Adrian Paul...</td>\n",
       "      <td>Douglas Aarniokoski</td>\n",
       "      <td>It will take two immortals to defeat the ultim...</td>\n",
       "      <td>Immortals Connor and Duncan Macleod join force...</td>\n",
       "      <td>87</td>\n",
       "      <td>Action|Fantasy|Science Fiction</td>\n",
       "      <td>Davis-Panzer Productions|Dimension Films</td>\n",
       "      <td>9/1/2000</td>\n",
       "      <td>49</td>\n",
       "      <td>4.3</td>\n",
       "      <td>2000</td>\n",
       "      <td>-9156392</td>\n",
       "    </tr>\n",
       "    <tr>\n",
       "      <th>2042</th>\n",
       "      <td>tt0199725</td>\n",
       "      <td>0.324003</td>\n",
       "      <td>20000000</td>\n",
       "      <td>27728118</td>\n",
       "      <td>Love &amp; Basketball</td>\n",
       "      <td>[Chris Warren, Jr., Kyla Pratt, Sanaa Lathan, ...</td>\n",
       "      <td>Gina Prince-Bythewood</td>\n",
       "      <td>All's fair in love and basketball.</td>\n",
       "      <td>A young African-American couple navigates the ...</td>\n",
       "      <td>124</td>\n",
       "      <td>Action|Comedy|Drama|Romance</td>\n",
       "      <td>40 Acres &amp; A Mule Filmworks</td>\n",
       "      <td>4/21/2000</td>\n",
       "      <td>54</td>\n",
       "      <td>7.3</td>\n",
       "      <td>2000</td>\n",
       "      <td>7728118</td>\n",
       "    </tr>\n",
       "    <tr>\n",
       "      <th>2043</th>\n",
       "      <td>tt0176783</td>\n",
       "      <td>0.310295</td>\n",
       "      <td>14000000</td>\n",
       "      <td>5108820</td>\n",
       "      <td>Gossip</td>\n",
       "      <td>[Joshua Jackson, James Marsden, Kate Hudson, L...</td>\n",
       "      <td>Davis Guggenheim</td>\n",
       "      <td>It can turn you on, or turn on you.</td>\n",
       "      <td>On a beautiful college campus, something ugly ...</td>\n",
       "      <td>90</td>\n",
       "      <td>Drama|Mystery|Thriller</td>\n",
       "      <td>Warner Bros. Pictures</td>\n",
       "      <td>4/21/2000</td>\n",
       "      <td>34</td>\n",
       "      <td>5.3</td>\n",
       "      <td>2000</td>\n",
       "      <td>-8891180</td>\n",
       "    </tr>\n",
       "    <tr>\n",
       "      <th>2044</th>\n",
       "      <td>tt0180073</td>\n",
       "      <td>0.309754</td>\n",
       "      <td>13500000</td>\n",
       "      <td>7060876</td>\n",
       "      <td>Quills</td>\n",
       "      <td>[Geoffrey Rush, Kate Winslet, Joaquin Phoenix,...</td>\n",
       "      <td>Philip Kaufman</td>\n",
       "      <td>There are no bad words... only bad deeds.</td>\n",
       "      <td>A nobleman with a literary flair, the Marquis ...</td>\n",
       "      <td>124</td>\n",
       "      <td>Drama</td>\n",
       "      <td>Fox Searchlight Pictures|Industry Entertainmen...</td>\n",
       "      <td>11/22/2000</td>\n",
       "      <td>52</td>\n",
       "      <td>6.4</td>\n",
       "      <td>2000</td>\n",
       "      <td>-6439124</td>\n",
       "    </tr>\n",
       "    <tr>\n",
       "      <th>2045</th>\n",
       "      <td>tt0190374</td>\n",
       "      <td>0.284476</td>\n",
       "      <td>35000000</td>\n",
       "      <td>15185241</td>\n",
       "      <td>Dungeons &amp; Dragons</td>\n",
       "      <td>[Justin Whalin, Jeremy Irons, Thora Birch, Bru...</td>\n",
       "      <td>Courtney Solomon</td>\n",
       "      <td>This is no game.</td>\n",
       "      <td>The classic role-playing game comes to life in...</td>\n",
       "      <td>107</td>\n",
       "      <td>Action|Adventure|Fantasy|Science Fiction</td>\n",
       "      <td>New Line Cinema|Silver Pictures|Sweetpea Enter...</td>\n",
       "      <td>12/8/2000</td>\n",
       "      <td>86</td>\n",
       "      <td>3.9</td>\n",
       "      <td>2000</td>\n",
       "      <td>-19814759</td>\n",
       "    </tr>\n",
       "    <tr>\n",
       "      <th>2046</th>\n",
       "      <td>tt0213790</td>\n",
       "      <td>0.279624</td>\n",
       "      <td>24000000</td>\n",
       "      <td>13700000</td>\n",
       "      <td>The Ladies Man</td>\n",
       "      <td>[Tim Meadows, Karyn Parsons, Billy Dee William...</td>\n",
       "      <td>Reginald Hudlin</td>\n",
       "      <td>He's cool. He's clean. He's a love machine.</td>\n",
       "      <td>Because of his salacious language, late-night ...</td>\n",
       "      <td>84</td>\n",
       "      <td>Comedy</td>\n",
       "      <td>SNL Studios</td>\n",
       "      <td>10/13/2000</td>\n",
       "      <td>14</td>\n",
       "      <td>5.4</td>\n",
       "      <td>2000</td>\n",
       "      <td>-10300000</td>\n",
       "    </tr>\n",
       "    <tr>\n",
       "      <th>2047</th>\n",
       "      <td>tt0217756</td>\n",
       "      <td>0.196668</td>\n",
       "      <td>24000000</td>\n",
       "      <td>12372410</td>\n",
       "      <td>Ready to Rumble</td>\n",
       "      <td>[David Arquette, Scott Caan, Oliver Platt, Ros...</td>\n",
       "      <td>Brian Robbins</td>\n",
       "      <td>They're headed to the big time...face first.</td>\n",
       "      <td>Two slacker wrestling fans are devastated by t...</td>\n",
       "      <td>107</td>\n",
       "      <td>Action|Comedy|Drama</td>\n",
       "      <td>Bel Air Entertainment|Warner Bros.</td>\n",
       "      <td>4/7/2000</td>\n",
       "      <td>16</td>\n",
       "      <td>4.4</td>\n",
       "      <td>2000</td>\n",
       "      <td>-11627590</td>\n",
       "    </tr>\n",
       "    <tr>\n",
       "      <th>2048</th>\n",
       "      <td>tt0122459</td>\n",
       "      <td>0.249219</td>\n",
       "      <td>24000000</td>\n",
       "      <td>36609995</td>\n",
       "      <td>Return to Me</td>\n",
       "      <td>[David Duchovny, Minnie Driver, Carroll O'Conn...</td>\n",
       "      <td>Bonnie Hunt</td>\n",
       "      <td>A comedy straight from the heart</td>\n",
       "      <td>It took a lot of cajoling to get Bob (Duchovny...</td>\n",
       "      <td>115</td>\n",
       "      <td>Romance|Comedy|Drama</td>\n",
       "      <td>Metro-Goldwyn-Mayer (MGM)|JLT Productions</td>\n",
       "      <td>4/7/2000</td>\n",
       "      <td>32</td>\n",
       "      <td>5.5</td>\n",
       "      <td>2000</td>\n",
       "      <td>12609995</td>\n",
       "    </tr>\n",
       "    <tr>\n",
       "      <th>2049</th>\n",
       "      <td>tt0120903</td>\n",
       "      <td>0.182246</td>\n",
       "      <td>75000000</td>\n",
       "      <td>157299717</td>\n",
       "      <td>X-Men</td>\n",
       "      <td>[Patrick Stewart, Hugh Jackman, Ian McKellen, ...</td>\n",
       "      <td>Bryan Singer</td>\n",
       "      <td>Evolution Begins</td>\n",
       "      <td>Two mutants, Rogue and Wolverine, come to a pr...</td>\n",
       "      <td>104</td>\n",
       "      <td>Adventure|Action|Science Fiction</td>\n",
       "      <td>Twentieth Century Fox Film Corporation|Donners...</td>\n",
       "      <td>7/13/2000</td>\n",
       "      <td>2766</td>\n",
       "      <td>6.6</td>\n",
       "      <td>2000</td>\n",
       "      <td>82299717</td>\n",
       "    </tr>\n",
       "    <tr>\n",
       "      <th>2050</th>\n",
       "      <td>tt0192255</td>\n",
       "      <td>0.123920</td>\n",
       "      <td>22000000</td>\n",
       "      <td>13555988</td>\n",
       "      <td>The Little Vampire</td>\n",
       "      <td>[Richard E. Grant, Jonathan Lipnicki, Jim Cart...</td>\n",
       "      <td>Uli Edel</td>\n",
       "      <td>They're not just best friends, they're blood b...</td>\n",
       "      <td>Based on the popular books, the story tells of...</td>\n",
       "      <td>95</td>\n",
       "      <td>Horror|Family|Foreign</td>\n",
       "      <td>New Line Cinema</td>\n",
       "      <td>10/27/2000</td>\n",
       "      <td>42</td>\n",
       "      <td>6.4</td>\n",
       "      <td>2000</td>\n",
       "      <td>-8444012</td>\n",
       "    </tr>\n",
       "    <tr>\n",
       "      <th>2051</th>\n",
       "      <td>tt0131704</td>\n",
       "      <td>0.104908</td>\n",
       "      <td>76000000</td>\n",
       "      <td>35134820</td>\n",
       "      <td>The Adventures of Rocky &amp; Bullwinkle</td>\n",
       "      <td>[Rene Russo, Jason Alexander, Piper Perabo, Ra...</td>\n",
       "      <td>Des McAnuff</td>\n",
       "      <td>This summer it's not the same old bull.</td>\n",
       "      <td>Rocky and Bullwinkle have been living off the ...</td>\n",
       "      <td>88</td>\n",
       "      <td>Adventure|Animation|Action|Comedy|Family</td>\n",
       "      <td>Universal Pictures|Capella International|KC Me...</td>\n",
       "      <td>6/30/2000</td>\n",
       "      <td>35</td>\n",
       "      <td>4.0</td>\n",
       "      <td>2000</td>\n",
       "      <td>-40865180</td>\n",
       "    </tr>\n",
       "    <tr>\n",
       "      <th>2052</th>\n",
       "      <td>tt0162983</td>\n",
       "      <td>0.031018</td>\n",
       "      <td>40000000</td>\n",
       "      <td>36037909</td>\n",
       "      <td>Hanging Up</td>\n",
       "      <td>[Meg Ryan, Diane Keaton, Lisa Kudrow, Walter M...</td>\n",
       "      <td>Diane Keaton</td>\n",
       "      <td>Every family has a few hang-ups.</td>\n",
       "      <td>A trio of sisters bond over their ambivalence ...</td>\n",
       "      <td>94</td>\n",
       "      <td>Comedy|Drama</td>\n",
       "      <td>Laurence Mark Productions|Columbia Pictures Co...</td>\n",
       "      <td>2/16/2000</td>\n",
       "      <td>21</td>\n",
       "      <td>5.2</td>\n",
       "      <td>2000</td>\n",
       "      <td>-3962091</td>\n",
       "    </tr>\n",
       "    <tr>\n",
       "      <th>2053</th>\n",
       "      <td>tt0163676</td>\n",
       "      <td>0.015997</td>\n",
       "      <td>15000000</td>\n",
       "      <td>5217498</td>\n",
       "      <td>The In Crowd</td>\n",
       "      <td>[Susan Ward, Lori Heuring, Matthew Settle, Nat...</td>\n",
       "      <td>Mary Lambert</td>\n",
       "      <td>What would you do to get in?</td>\n",
       "      <td>A mentally disturbed young woman takes a job a...</td>\n",
       "      <td>105</td>\n",
       "      <td>Thriller</td>\n",
       "      <td>Warner Bros. Pictures</td>\n",
       "      <td>7/19/2000</td>\n",
       "      <td>12</td>\n",
       "      <td>5.2</td>\n",
       "      <td>2000</td>\n",
       "      <td>-9782502</td>\n",
       "    </tr>\n",
       "  </tbody>\n",
       "</table>\n",
       "<p>2054 rows × 17 columns</p>\n",
       "</div>"
      ],
      "text/plain": [
       "        imdb_id  popularity     budget     revenue  \\\n",
       "0     tt0369610   32.985763  150000000  1513528810   \n",
       "1     tt1392190   28.419936  150000000   378436354   \n",
       "2     tt2908446   13.112507  110000000   295238201   \n",
       "3     tt2488496   11.173104  200000000  2068178225   \n",
       "4     tt2820852    9.335014  190000000  1506249360   \n",
       "5     tt1663202    9.110700  135000000   532950503   \n",
       "6     tt1340138    8.654359  155000000   440603537   \n",
       "7     tt3659388    7.667400  108000000   595380321   \n",
       "8     tt2293640    7.404165   74000000  1156730962   \n",
       "9     tt2293640    7.404165   74000000  1156730962   \n",
       "10    tt2096673    6.326804  175000000   853708609   \n",
       "11    tt2379713    6.200282  245000000   880674609   \n",
       "12    tt1617661    6.189369  176000003   183987723   \n",
       "13    tt1617661    6.189369  176000003   183987723   \n",
       "14    tt0470752    6.118847   15000000    36869414   \n",
       "15    tt2120120    5.984995   88000000   243637091   \n",
       "16    tt2395427    5.944927  280000000  1405035767   \n",
       "17    tt3460252    5.898400   44000000   155760117   \n",
       "18    tt2446042    5.749758   48000000   325771424   \n",
       "19    tt0478970    5.573184  130000000   518602163   \n",
       "20    tt1661199    5.556818   95000000   542351353   \n",
       "21    tt1951266    5.476958  160000000   650523427   \n",
       "22    tt1964418    5.462138  190000000   209035668   \n",
       "23    tt1798684    5.337064   30000000    91709827   \n",
       "24    tt2126355    4.907832  110000000   470490832   \n",
       "25    tt2322441    4.710402   40000000   569651467   \n",
       "26    tt1596363    4.648046   28000000   133346506   \n",
       "27    tt2381249    4.566713  150000000   682330139   \n",
       "28    tt2637276    4.564549   68000000   215863606   \n",
       "29    tt2802144    4.503789   81000000   403802136   \n",
       "...         ...         ...        ...         ...   \n",
       "2024  tt0190865    0.530739   75000000   215663859   \n",
       "2025  tt0184858    0.525341   42000000    32168970   \n",
       "2026  tt0195945    0.492950   11000000    59827328   \n",
       "2027  tt0219653    0.481089   28000000    33000337   \n",
       "2028  tt0203019    0.465293   32000000    48814909   \n",
       "2029  tt0161081    0.464139  100000000   155464351   \n",
       "2030  tt0160797    0.458778   60000000    71000000   \n",
       "2031  tt0181536    0.449041   43000000    80049764   \n",
       "2032  tt0204175    0.417675   16000000    20627372   \n",
       "2033  tt0211181    0.410235   85000000   183611771   \n",
       "2034  tt0144528    1.616724   84000000   123307945   \n",
       "2035  tt0171433    0.623706   30000000    37036004   \n",
       "2036  tt0134983    0.385350   90000000    14828081   \n",
       "2037  tt0134983    0.385350   90000000    14828081   \n",
       "2038  tt0160009    0.339608   40000000    30199105   \n",
       "2039  tt0202402    0.350814   15000000     9902115   \n",
       "2040  tt0219854    0.349034   65000000    69700000   \n",
       "2041  tt0144964    0.332267   25000000    15843608   \n",
       "2042  tt0199725    0.324003   20000000    27728118   \n",
       "2043  tt0176783    0.310295   14000000     5108820   \n",
       "2044  tt0180073    0.309754   13500000     7060876   \n",
       "2045  tt0190374    0.284476   35000000    15185241   \n",
       "2046  tt0213790    0.279624   24000000    13700000   \n",
       "2047  tt0217756    0.196668   24000000    12372410   \n",
       "2048  tt0122459    0.249219   24000000    36609995   \n",
       "2049  tt0120903    0.182246   75000000   157299717   \n",
       "2050  tt0192255    0.123920   22000000    13555988   \n",
       "2051  tt0131704    0.104908   76000000    35134820   \n",
       "2052  tt0162983    0.031018   40000000    36037909   \n",
       "2053  tt0163676    0.015997   15000000     5217498   \n",
       "\n",
       "                             original_title  \\\n",
       "0                            Jurassic World   \n",
       "1                        Mad Max: Fury Road   \n",
       "2                                 Insurgent   \n",
       "3              Star Wars: The Force Awakens   \n",
       "4                                 Furious 7   \n",
       "5                              The Revenant   \n",
       "6                        Terminator Genisys   \n",
       "7                               The Martian   \n",
       "8                                   Minions   \n",
       "9                                   Minions   \n",
       "10                               Inside Out   \n",
       "11                                  Spectre   \n",
       "12                        Jupiter Ascending   \n",
       "13                        Jupiter Ascending   \n",
       "14                               Ex Machina   \n",
       "15                                   Pixels   \n",
       "16                  Avengers: Age of Ultron   \n",
       "17                        The Hateful Eight   \n",
       "18                                  Taken 3   \n",
       "19                                  Ant-Man   \n",
       "20                               Cinderella   \n",
       "21    The Hunger Games: Mockingjay - Part 2   \n",
       "22                             Tomorrowland   \n",
       "23                                 Southpaw   \n",
       "24                              San Andreas   \n",
       "25                     Fifty Shades of Grey   \n",
       "26                            The Big Short   \n",
       "27       Mission: Impossible - Rogue Nation   \n",
       "28                                    Ted 2   \n",
       "29             Kingsman: The Secret Service   \n",
       "...                                     ...   \n",
       "2024                         Vertical Limit   \n",
       "2025                         Reindeer Games   \n",
       "2026                            Next Friday   \n",
       "2027                           Dracula 2000   \n",
       "2028                           Men of Honor   \n",
       "2029                      What Lies Beneath   \n",
       "2030                    Rules of Engagement   \n",
       "2031                      Finding Forrester   \n",
       "2032                         Boys and Girls   \n",
       "2033                         102 Dalmatians   \n",
       "2034         Nutty Professor II: The Klumps   \n",
       "2035                      Keeping the Faith   \n",
       "2036                              Supernova   \n",
       "2037                              Supernova   \n",
       "2038                         The Art of War   \n",
       "2039                      Whatever It Takes   \n",
       "2040                                The Kid   \n",
       "2041                    Highlander: Endgame   \n",
       "2042                      Love & Basketball   \n",
       "2043                                 Gossip   \n",
       "2044                                 Quills   \n",
       "2045                     Dungeons & Dragons   \n",
       "2046                         The Ladies Man   \n",
       "2047                        Ready to Rumble   \n",
       "2048                           Return to Me   \n",
       "2049                                  X-Men   \n",
       "2050                     The Little Vampire   \n",
       "2051   The Adventures of Rocky & Bullwinkle   \n",
       "2052                             Hanging Up   \n",
       "2053                           The In Crowd   \n",
       "\n",
       "                                                   cast  \\\n",
       "0     [Chris Pratt, Bryce Dallas Howard, Irrfan Khan...   \n",
       "1     [Tom Hardy, Charlize Theron, Hugh Keays-Byrne,...   \n",
       "2     [Shailene Woodley, Theo James, Kate Winslet, A...   \n",
       "3     [Harrison Ford, Mark Hamill, Carrie Fisher, Ad...   \n",
       "4     [Vin Diesel, Paul Walker, Jason Statham, Miche...   \n",
       "5     [Leonardo DiCaprio, Tom Hardy, Will Poulter, D...   \n",
       "6     [Arnold Schwarzenegger, Jason Clarke, Emilia C...   \n",
       "7     [Matt Damon, Jessica Chastain, Kristen Wiig, J...   \n",
       "8     [Sandra Bullock, Jon Hamm, Michael Keaton, All...   \n",
       "9     [Sandra Bullock, Jon Hamm, Michael Keaton, All...   \n",
       "10    [Amy Poehler, Phyllis Smith, Richard Kind, Bil...   \n",
       "11    [Daniel Craig, Christoph Waltz, LÃ©a Seydoux, ...   \n",
       "12    [Mila Kunis, Channing Tatum, Sean Bean, Eddie ...   \n",
       "13    [Mila Kunis, Channing Tatum, Sean Bean, Eddie ...   \n",
       "14    [Domhnall Gleeson, Alicia Vikander, Oscar Isaa...   \n",
       "15    [Adam Sandler, Michelle Monaghan, Peter Dinkla...   \n",
       "16    [Robert Downey Jr., Chris Hemsworth, Mark Ruff...   \n",
       "17    [Samuel L. Jackson, Kurt Russell, Jennifer Jas...   \n",
       "18    [Liam Neeson, Forest Whitaker, Maggie Grace, F...   \n",
       "19    [Paul Rudd, Michael Douglas, Evangeline Lilly,...   \n",
       "20    [Lily James, Cate Blanchett, Richard Madden, H...   \n",
       "21    [Jennifer Lawrence, Josh Hutcherson, Liam Hems...   \n",
       "22    [Britt Robertson, George Clooney, Raffey Cassi...   \n",
       "23    [Jake Gyllenhaal, Rachel McAdams, Forest Whita...   \n",
       "24    [Dwayne Johnson, Alexandra Daddario, Carla Gug...   \n",
       "25    [Dakota Johnson, Jamie Dornan, Jennifer Ehle, ...   \n",
       "26    [Christian Bale, Steve Carell, Ryan Gosling, B...   \n",
       "27    [Tom Cruise, Jeremy Renner, Simon Pegg, Rebecc...   \n",
       "28    [Mark Wahlberg, Seth MacFarlane, Amanda Seyfri...   \n",
       "29    [Taron Egerton, Colin Firth, Samuel L. Jackson...   \n",
       "...                                                 ...   \n",
       "2024  [Chris O'Donnell, Robin Tunney, Bill Paxton, S...   \n",
       "2025  [Ben Affleck, Gary Sinise, Charlize Theron, De...   \n",
       "2026  [Ice Cube, Mike Epps, Justin Pierce, John With...   \n",
       "2027  [Gerard Butler, Christopher Plummer, Jonny Lee...   \n",
       "2028  [Robert De Niro, Cuba Gooding Jr., Charlize Th...   \n",
       "2029  [Harrison Ford, Michelle Pfeiffer, Diana Scarw...   \n",
       "2030  [Tommy Lee Jones, Samuel L. Jackson, Guy Pearc...   \n",
       "2031  [Sean Connery, Rob Brown, F. Murray Abraham, A...   \n",
       "2032  [Freddie Prinze Jr., Claire Forlani, Jason Big...   \n",
       "2033  [Glenn Close, Ioan Gruffudd, Alice Evans, Tim ...   \n",
       "2034  [Eddie Murphy, Janet Jackson, Larry Miller, Jo...   \n",
       "2035  [Ben Stiller, Edward Norton, Jenna Elfman, Ann...   \n",
       "2036  [James Spader, Angela Bassett, Robert Forster,...   \n",
       "2037  [James Spader, Angela Bassett, Robert Forster,...   \n",
       "2038  [Wesley Snipes, Donald Sutherland, Maury Chayk...   \n",
       "2039  [Jodi Lyn O'Keefe, Shane West, Marla Sokoloff,...   \n",
       "2040  [Bruce Willis, Spencer Breslin, Emily Mortimer...   \n",
       "2041  [Christopher Lambert, Bruce Payne, Adrian Paul...   \n",
       "2042  [Chris Warren, Jr., Kyla Pratt, Sanaa Lathan, ...   \n",
       "2043  [Joshua Jackson, James Marsden, Kate Hudson, L...   \n",
       "2044  [Geoffrey Rush, Kate Winslet, Joaquin Phoenix,...   \n",
       "2045  [Justin Whalin, Jeremy Irons, Thora Birch, Bru...   \n",
       "2046  [Tim Meadows, Karyn Parsons, Billy Dee William...   \n",
       "2047  [David Arquette, Scott Caan, Oliver Platt, Ros...   \n",
       "2048  [David Duchovny, Minnie Driver, Carroll O'Conn...   \n",
       "2049  [Patrick Stewart, Hugh Jackman, Ian McKellen, ...   \n",
       "2050  [Richard E. Grant, Jonathan Lipnicki, Jim Cart...   \n",
       "2051  [Rene Russo, Jason Alexander, Piper Perabo, Ra...   \n",
       "2052  [Meg Ryan, Diane Keaton, Lisa Kudrow, Walter M...   \n",
       "2053  [Susan Ward, Lori Heuring, Matthew Settle, Nat...   \n",
       "\n",
       "                            director  \\\n",
       "0                    Colin Trevorrow   \n",
       "1                      George Miller   \n",
       "2                   Robert Schwentke   \n",
       "3                        J.J. Abrams   \n",
       "4                          James Wan   \n",
       "5     Alejandro GonzÃ¡lez IÃ±Ã¡rritu   \n",
       "6                        Alan Taylor   \n",
       "7                       Ridley Scott   \n",
       "8                         Kyle Balda   \n",
       "9                      Pierre Coffin   \n",
       "10                       Pete Docter   \n",
       "11                        Sam Mendes   \n",
       "12                    Lana Wachowski   \n",
       "13                   Lilly Wachowski   \n",
       "14                      Alex Garland   \n",
       "15                    Chris Columbus   \n",
       "16                       Joss Whedon   \n",
       "17                 Quentin Tarantino   \n",
       "18                   Olivier Megaton   \n",
       "19                       Peyton Reed   \n",
       "20                   Kenneth Branagh   \n",
       "21                  Francis Lawrence   \n",
       "22                         Brad Bird   \n",
       "23                     Antoine Fuqua   \n",
       "24                       Brad Peyton   \n",
       "25                Sam Taylor-Johnson   \n",
       "26                        Adam McKay   \n",
       "27             Christopher McQuarrie   \n",
       "28                   Seth MacFarlane   \n",
       "29                    Matthew Vaughn   \n",
       "...                              ...   \n",
       "2024                 Martin Campbell   \n",
       "2025              John Frankenheimer   \n",
       "2026                      Steve Carr   \n",
       "2027                 Patrick Lussier   \n",
       "2028             George Tillman, Jr.   \n",
       "2029                 Robert Zemeckis   \n",
       "2030                William Friedkin   \n",
       "2031                    Gus Van Sant   \n",
       "2032                   Robert Iscove   \n",
       "2033                      Kevin Lima   \n",
       "2034                     Peter Segal   \n",
       "2035                   Edward Norton   \n",
       "2036                     Walter Hill   \n",
       "2037                    Jack Sholder   \n",
       "2038                Christian Duguay   \n",
       "2039                     David Raynr   \n",
       "2040                  Jon Turteltaub   \n",
       "2041             Douglas Aarniokoski   \n",
       "2042           Gina Prince-Bythewood   \n",
       "2043                Davis Guggenheim   \n",
       "2044                  Philip Kaufman   \n",
       "2045                Courtney Solomon   \n",
       "2046                 Reginald Hudlin   \n",
       "2047                   Brian Robbins   \n",
       "2048                     Bonnie Hunt   \n",
       "2049                    Bryan Singer   \n",
       "2050                        Uli Edel   \n",
       "2051                     Des McAnuff   \n",
       "2052                    Diane Keaton   \n",
       "2053                    Mary Lambert   \n",
       "\n",
       "                                                tagline  \\\n",
       "0                                     The park is open.   \n",
       "1                                    What a Lovely Day.   \n",
       "2                            One Choice Can Destroy You   \n",
       "3                         Every generation has a story.   \n",
       "4                                   Vengeance Hits Home   \n",
       "5       (n. One who has returned, as if from the dead.)   \n",
       "6                                      Reset the future   \n",
       "7                                        Bring Him Home   \n",
       "8          Before Gru, they had a history of bad bosses   \n",
       "9          Before Gru, they had a history of bad bosses   \n",
       "10             Meet the little voices inside your head.   \n",
       "11                                A Plan No One Escapes   \n",
       "12                                Expand your universe.   \n",
       "13                                Expand your universe.   \n",
       "14    There is nothing more human than the will to s...   \n",
       "15                                             Game On.   \n",
       "16                                  A New Age Has Come.   \n",
       "17     No one comes up here without a damn good reason.   \n",
       "18                                         It Ends Here   \n",
       "19                          Heroes Don't Get Any Bigger   \n",
       "20                      Midnight is just the beginning.   \n",
       "21                          The fire will burn forever.   \n",
       "22         Imagine a world where nothing is impossible.   \n",
       "23                                     Believe in Hope.   \n",
       "24    A rescue pilot survived an earthquake, this is...   \n",
       "25                                     Are you curious?   \n",
       "26                                This is a true story.   \n",
       "27                 Desperate Times. Desperate Measures.   \n",
       "28                                Ted is Coming, Again.   \n",
       "29                                  Manners maketh man.   \n",
       "...                                                 ...   \n",
       "2024                          The Mountain Will Decide.   \n",
       "2025                   The trap is set. The game is on.   \n",
       "2026               The suburbs make the hood look good.   \n",
       "2027  The Most Seductive Evil of All Time Has Now Be...   \n",
       "2028      History is made by those who break the rules.   \n",
       "2029  He was the perfect husband until his one mista...   \n",
       "2030           A hero should never have to stand alone.   \n",
       "2031  In an ordinary place, he found the one person ...   \n",
       "2032                    Warning: Sex Changes Everything   \n",
       "2033      Meet Two Unlikely Heroes With A Bone To Pick.   \n",
       "2034                               The Klumps are back!   \n",
       "2035  If you have to believe in something, you may a...   \n",
       "2036  In the farthest reaches of space, something ha...   \n",
       "2037  In the farthest reaches of space, something ha...   \n",
       "2038                                   Who is your foe?   \n",
       "2039  How low will they go to get the girls of their...   \n",
       "2040     Nobody ever grows up quite like they imagined.   \n",
       "2041  It will take two immortals to defeat the ultim...   \n",
       "2042                 All's fair in love and basketball.   \n",
       "2043                It can turn you on, or turn on you.   \n",
       "2044          There are no bad words... only bad deeds.   \n",
       "2045                                   This is no game.   \n",
       "2046        He's cool. He's clean. He's a love machine.   \n",
       "2047       They're headed to the big time...face first.   \n",
       "2048                   A comedy straight from the heart   \n",
       "2049                                   Evolution Begins   \n",
       "2050  They're not just best friends, they're blood b...   \n",
       "2051            This summer it's not the same old bull.   \n",
       "2052                   Every family has a few hang-ups.   \n",
       "2053                       What would you do to get in?   \n",
       "\n",
       "                                               overview runtime  \\\n",
       "0     Twenty-two years after the events of Jurassic ...     124   \n",
       "1     An apocalyptic story set in the furthest reach...     120   \n",
       "2     Beatrice Prior must confront her inner demons ...     119   \n",
       "3     Thirty years after defeating the Galactic Empi...     136   \n",
       "4     Deckard Shaw seeks revenge against Dominic Tor...     137   \n",
       "5     In the 1820s, a frontiersman, Hugh Glass, sets...     156   \n",
       "6     The year is 2029. John Connor, leader of the r...     125   \n",
       "7     During a manned mission to Mars, Astronaut Mar...     141   \n",
       "8     Minions Stuart, Kevin and Bob are recruited by...      91   \n",
       "9     Minions Stuart, Kevin and Bob are recruited by...      91   \n",
       "10    Growing up can be a bumpy road, and it's no ex...      94   \n",
       "11    A cryptic message from Bondâ€™s past sends him...     148   \n",
       "12    In a universe where human genetic material is ...     124   \n",
       "13    In a universe where human genetic material is ...     124   \n",
       "14    Caleb, a 26 year old coder at the world's larg...     108   \n",
       "15    Video game experts are recruited by the milita...     105   \n",
       "16    When Tony Stark tries to jumpstart a dormant p...     141   \n",
       "17    Bounty hunters seek shelter from a raging bliz...     167   \n",
       "18    Ex-government operative Bryan Mills finds his ...     109   \n",
       "19    Armed with the astonishing ability to shrink i...     115   \n",
       "20    When her father unexpectedly passes away, youn...     112   \n",
       "21    With the nation of Panem in a full scale war, ...     136   \n",
       "22    Bound by a shared destiny, a bright, optimisti...     130   \n",
       "23    Billy \"The Great\" Hope, the reigning junior mi...     123   \n",
       "24    In the aftermath of a massive earthquake in Ca...     114   \n",
       "25    When college senior Anastasia Steele steps in ...     125   \n",
       "26    The men who made millions from a global econom...     130   \n",
       "27    Ethan and team take on their most impossible m...     131   \n",
       "28    Newlywed couple Ted and Tami-Lynn want to have...     115   \n",
       "29    The story of a super-secret spy organization t...     130   \n",
       "...                                                 ...     ...   \n",
       "2024  Trapped near the summit of K2, the world's sec...     124   \n",
       "2025  After assuming his dead cellmate's identity to...     124   \n",
       "2026  Ice Cube returns as Craig Jones, a streetwise ...      98   \n",
       "2027  In the millenium version of this classic Gothi...      99   \n",
       "2028  Against formidable odds -- and an old-school d...     129   \n",
       "2029  When Claire Spencer starts hearing ghostly voi...     130   \n",
       "2030  Part war movie, part courtroom thriller, this ...     128   \n",
       "2031  Gus van Sant tells the story of a young Africa...     136   \n",
       "2032  Ryan and Jennifer are opposites who definitely...      94   \n",
       "2033  Get ready for a howling good time as an all ne...     100   \n",
       "2034  The hilarity begins when professor Sherman Klu...     106   \n",
       "2035  Best friends since they were kids, Rabbi Jacob...     127   \n",
       "2036  Set in the 22nd century, when a battered salva...      91   \n",
       "2037  Set in the 22nd century, when a battered salva...      91   \n",
       "2038  When ruthless terrorists threaten to bring dow...     117   \n",
       "2039  A nerdy teen, Ryan Woodman is smitten with the...      94   \n",
       "2040  Powerful businessman Russ Duritz is self-absor...     104   \n",
       "2041  Immortals Connor and Duncan Macleod join force...      87   \n",
       "2042  A young African-American couple navigates the ...     124   \n",
       "2043  On a beautiful college campus, something ugly ...      90   \n",
       "2044  A nobleman with a literary flair, the Marquis ...     124   \n",
       "2045  The classic role-playing game comes to life in...     107   \n",
       "2046  Because of his salacious language, late-night ...      84   \n",
       "2047  Two slacker wrestling fans are devastated by t...     107   \n",
       "2048  It took a lot of cajoling to get Bob (Duchovny...     115   \n",
       "2049  Two mutants, Rogue and Wolverine, come to a pr...     104   \n",
       "2050  Based on the popular books, the story tells of...      95   \n",
       "2051  Rocky and Bullwinkle have been living off the ...      88   \n",
       "2052  A trio of sisters bond over their ambivalence ...      94   \n",
       "2053  A mentally disturbed young woman takes a job a...     105   \n",
       "\n",
       "                                               genres  \\\n",
       "0           Action|Adventure|Science Fiction|Thriller   \n",
       "1           Action|Adventure|Science Fiction|Thriller   \n",
       "2                  Adventure|Science Fiction|Thriller   \n",
       "3            Action|Adventure|Science Fiction|Fantasy   \n",
       "4                               Action|Crime|Thriller   \n",
       "5                    Western|Drama|Adventure|Thriller   \n",
       "6           Science Fiction|Action|Thriller|Adventure   \n",
       "7                     Drama|Adventure|Science Fiction   \n",
       "8                   Family|Animation|Adventure|Comedy   \n",
       "9                   Family|Animation|Adventure|Comedy   \n",
       "10                            Comedy|Animation|Family   \n",
       "11                             Action|Adventure|Crime   \n",
       "12           Science Fiction|Fantasy|Action|Adventure   \n",
       "13           Science Fiction|Fantasy|Action|Adventure   \n",
       "14                              Drama|Science Fiction   \n",
       "15                      Action|Comedy|Science Fiction   \n",
       "16                   Action|Adventure|Science Fiction   \n",
       "17                        Crime|Drama|Mystery|Western   \n",
       "18                              Crime|Action|Thriller   \n",
       "19                   Science Fiction|Action|Adventure   \n",
       "20                       Romance|Fantasy|Family|Drama   \n",
       "21                      War|Adventure|Science Fiction   \n",
       "22    Action|Family|Science Fiction|Adventure|Mystery   \n",
       "23                                       Action|Drama   \n",
       "24                              Action|Drama|Thriller   \n",
       "25                                      Drama|Romance   \n",
       "26                                       Comedy|Drama   \n",
       "27                                             Action   \n",
       "28                                             Comedy   \n",
       "29                      Crime|Comedy|Action|Adventure   \n",
       "...                                               ...   \n",
       "2024                        Action|Adventure|Thriller   \n",
       "2025                                         Thriller   \n",
       "2026                                           Comedy   \n",
       "2027                                  Horror|Thriller   \n",
       "2028                                            Drama   \n",
       "2029                    Drama|Horror|Mystery|Thriller   \n",
       "2030               Action|Adventure|Drama|History|War   \n",
       "2031                                            Drama   \n",
       "2032                             Comedy|Drama|Romance   \n",
       "2033                                    Comedy|Family   \n",
       "2034           Fantasy|Comedy|Romance|Science Fiction   \n",
       "2035                                           Comedy   \n",
       "2036                                  Science Fiction   \n",
       "2037                                  Science Fiction   \n",
       "2038                        Action|Adventure|Thriller   \n",
       "2039                             Drama|Comedy|Romance   \n",
       "2040                            Fantasy|Comedy|Family   \n",
       "2041                   Action|Fantasy|Science Fiction   \n",
       "2042                      Action|Comedy|Drama|Romance   \n",
       "2043                           Drama|Mystery|Thriller   \n",
       "2044                                            Drama   \n",
       "2045         Action|Adventure|Fantasy|Science Fiction   \n",
       "2046                                           Comedy   \n",
       "2047                              Action|Comedy|Drama   \n",
       "2048                             Romance|Comedy|Drama   \n",
       "2049                 Adventure|Action|Science Fiction   \n",
       "2050                            Horror|Family|Foreign   \n",
       "2051         Adventure|Animation|Action|Comedy|Family   \n",
       "2052                                     Comedy|Drama   \n",
       "2053                                         Thriller   \n",
       "\n",
       "                                   production_companies release_date  \\\n",
       "0     Universal Studios|Amblin Entertainment|Legenda...     6/9/2015   \n",
       "1     Village Roadshow Pictures|Kennedy Miller Produ...    5/13/2015   \n",
       "2     Summit Entertainment|Mandeville Films|Red Wago...    3/18/2015   \n",
       "3             Lucasfilm|Truenorth Productions|Bad Robot   12/15/2015   \n",
       "4     Universal Pictures|Original Film|Media Rights ...     4/1/2015   \n",
       "5     Regency Enterprises|Appian Way|CatchPlay|Anony...   12/25/2015   \n",
       "6               Paramount Pictures|Skydance Productions    6/23/2015   \n",
       "7     Twentieth Century Fox Film Corporation|Scott F...    9/30/2015   \n",
       "8         Universal Pictures|Illumination Entertainment    6/17/2015   \n",
       "9         Universal Pictures|Illumination Entertainment    6/17/2015   \n",
       "10    Walt Disney Pictures|Pixar Animation Studios|W...     6/9/2015   \n",
       "11                         Columbia Pictures|Danjaq|B24   10/26/2015   \n",
       "12    Village Roadshow Pictures|Dune Entertainment|A...     2/4/2015   \n",
       "13    Village Roadshow Pictures|Dune Entertainment|A...     2/4/2015   \n",
       "14    DNA Films|Universal Pictures International (UP...    1/21/2015   \n",
       "15          Columbia Pictures|Happy Madison Productions    7/16/2015   \n",
       "16    Marvel Studios|Prime Focus|Revolution Sun Studios    4/22/2015   \n",
       "17    Double Feature Films|The Weinstein Company|Fil...   12/25/2015   \n",
       "18    Twentieth Century Fox Film Corporation|M6 Film...     1/1/2015   \n",
       "19                                       Marvel Studios    7/14/2015   \n",
       "20    Walt Disney Pictures|Genre Films|Beagle Pug Fi...    3/12/2015   \n",
       "21    Studio Babelsberg|StudioCanal|Lionsgate|Walt D...   11/18/2015   \n",
       "22                    Walt Disney Pictures|Babieka|A113    5/19/2015   \n",
       "23              Escape Artists|Riche-Ludwig Productions    6/15/2015   \n",
       "24    New Line Cinema|Village Roadshow Pictures|Warn...    5/27/2015   \n",
       "25    Focus Features|Trigger Street Productions|Mich...    2/11/2015   \n",
       "26    Paramount Pictures|Plan B Entertainment|Regenc...   12/11/2015   \n",
       "27    Paramount Pictures|Skydance Productions|China ...    7/23/2015   \n",
       "28    Universal Pictures|Media Rights Capital|Fuzzy ...    6/25/2015   \n",
       "29    Twentieth Century Fox Film Corporation|Marv Fi...    1/24/2015   \n",
       "...                                                 ...          ...   \n",
       "2024  Columbia Pictures Corporation|Global Entertain...    12/8/2000   \n",
       "2025             Dimension Films|Marty Katz Productions    2/25/2000   \n",
       "2026                                    New Line Cinema    1/12/2000   \n",
       "2027   Neo Art & Logic|Dimension Films|Wes Craven Films   12/22/2000   \n",
       "2028                                  Fox 2000 Pictures    9/13/2000   \n",
       "2029  DreamWorks SKG|Twentieth Century Fox Film Corp...    7/21/2000   \n",
       "2030  Paramount Pictures|Seven Arts Pictures|Munich ...     4/7/2000   \n",
       "2031  Fountainbridge Films|Laurence Mark Productions...   12/21/2000   \n",
       "2032                                    Dimension Films    6/16/2000   \n",
       "2033           Walt Disney Pictures|Cruella Productions    10/7/2000   \n",
       "2034           Imagine Entertainment|Universal Pictures    7/27/2000   \n",
       "2035  Spyglass Entertainment|Touchstone Pictures|Tri...    4/14/2000   \n",
       "2036  United Artists|Metro-Goldwyn-Mayer (MGM)|Hamme...    1/14/2000   \n",
       "2037  United Artists|Metro-Goldwyn-Mayer (MGM)|Hamme...    1/14/2000   \n",
       "2038  Amen Ra Films|Franchise Pictures|Warner Bros.|...    8/23/2000   \n",
       "2039                      Columbia Pictures Corporation    3/31/2000   \n",
       "2040                               Walt Disney Pictures     7/7/2000   \n",
       "2041           Davis-Panzer Productions|Dimension Films     9/1/2000   \n",
       "2042                        40 Acres & A Mule Filmworks    4/21/2000   \n",
       "2043                              Warner Bros. Pictures    4/21/2000   \n",
       "2044  Fox Searchlight Pictures|Industry Entertainmen...   11/22/2000   \n",
       "2045  New Line Cinema|Silver Pictures|Sweetpea Enter...    12/8/2000   \n",
       "2046                                        SNL Studios   10/13/2000   \n",
       "2047                 Bel Air Entertainment|Warner Bros.     4/7/2000   \n",
       "2048          Metro-Goldwyn-Mayer (MGM)|JLT Productions     4/7/2000   \n",
       "2049  Twentieth Century Fox Film Corporation|Donners...    7/13/2000   \n",
       "2050                                    New Line Cinema   10/27/2000   \n",
       "2051  Universal Pictures|Capella International|KC Me...    6/30/2000   \n",
       "2052  Laurence Mark Productions|Columbia Pictures Co...    2/16/2000   \n",
       "2053                              Warner Bros. Pictures    7/19/2000   \n",
       "\n",
       "     vote_count  vote_average release_year      profit  \n",
       "0          5562           6.5         2015  1363528810  \n",
       "1          6185           7.1         2015   228436354  \n",
       "2          2480           6.3         2015   185238201  \n",
       "3          5292           7.5         2015  1868178225  \n",
       "4          2947           7.3         2015  1316249360  \n",
       "5          3929           7.2         2015   397950503  \n",
       "6          2598           5.8         2015   285603537  \n",
       "7          4572           7.6         2015   487380321  \n",
       "8          2893           6.5         2015  1082730962  \n",
       "9          2893           6.5         2015  1082730962  \n",
       "10         3935           8.0         2015   678708609  \n",
       "11         3254           6.2         2015   635674609  \n",
       "12         1937           5.2         2015     7987720  \n",
       "13         1937           5.2         2015     7987720  \n",
       "14         2854           7.6         2015    21869414  \n",
       "15         1575           5.8         2015   155637091  \n",
       "16         4304           7.4         2015  1125035767  \n",
       "17         2389           7.4         2015   111760117  \n",
       "18         1578           6.1         2015   277771424  \n",
       "19         3779           7.0         2015   388602163  \n",
       "20         1495           6.8         2015   447351353  \n",
       "21         2380           6.5         2015   490523427  \n",
       "22         1899           6.2         2015    19035668  \n",
       "23         1386           7.3         2015    61709827  \n",
       "24         2060           6.1         2015   360490832  \n",
       "25         1865           5.3         2015   529651467  \n",
       "26         1545           7.3         2015   105346506  \n",
       "27         2349           7.1         2015   532330139  \n",
       "28         1666           6.3         2015   147863606  \n",
       "29         3833           7.6         2015   322802136  \n",
       "...         ...           ...          ...         ...  \n",
       "2024        151           6.0         2000   140663859  \n",
       "2025         86           5.2         2000    -9831030  \n",
       "2026         70           6.6         2000    48827328  \n",
       "2027         73           4.7         2000     5000337  \n",
       "2028        341           7.0         2000    16814909  \n",
       "2029        234           6.1         2000    55464351  \n",
       "2030         90           5.8         2000    11000000  \n",
       "2031        161           6.9         2000    37049764  \n",
       "2032         53           5.3         2000     4627372  \n",
       "2033        150           5.0         2000    98611771  \n",
       "2034        168           4.8         2000    39307945  \n",
       "2035         79           5.7         2000     7036004  \n",
       "2036         42           4.7         2000   -75171919  \n",
       "2037         42           4.7         2000   -75171919  \n",
       "2038         67           5.7         2000    -9800895  \n",
       "2039         22           5.0         2000    -5097885  \n",
       "2040        141           5.9         2000     4700000  \n",
       "2041         49           4.3         2000    -9156392  \n",
       "2042         54           7.3         2000     7728118  \n",
       "2043         34           5.3         2000    -8891180  \n",
       "2044         52           6.4         2000    -6439124  \n",
       "2045         86           3.9         2000   -19814759  \n",
       "2046         14           5.4         2000   -10300000  \n",
       "2047         16           4.4         2000   -11627590  \n",
       "2048         32           5.5         2000    12609995  \n",
       "2049       2766           6.6         2000    82299717  \n",
       "2050         42           6.4         2000    -8444012  \n",
       "2051         35           4.0         2000   -40865180  \n",
       "2052         21           5.2         2000    -3962091  \n",
       "2053         12           5.2         2000    -9782502  \n",
       "\n",
       "[2054 rows x 17 columns]"
      ]
     },
     "execution_count": 277,
     "metadata": {},
     "output_type": "execute_result"
    }
   ],
   "source": [
    "ttt"
   ]
  },
  {
   "cell_type": "code",
   "execution_count": 270,
   "metadata": {},
   "outputs": [],
   "source": [
    "# ttt.groupby('director')['profit'].sum().sort_values(ascending = False)"
   ]
  },
  {
   "cell_type": "code",
   "execution_count": 253,
   "metadata": {},
   "outputs": [],
   "source": [
    "def features_list_splitting(df, feature):\n",
    "    \"\"\"\n",
    "    Принимает df в котором колонка feature содержит list значений . \n",
    "    Для каждой строки в df количество элементов в list различно.\n",
    "    \n",
    "    Возвращает pd.DataFrame в котором каждой i-ой строке из df соответсвует \n",
    "    n строк, где n - количество элементов в list у i-ой строки.\n",
    "    При этом колонка feature принимает последовательно значения из list, остальные колонки \n",
    "    совпадают с колонками из i-ой строки df.\n",
    "    \"\"\"\n",
    "    result = pd.DataFrame(columns=df.columns)\n",
    "    feature_column = df.columns.tolist().index(feature)\n",
    "    next_index = 0\n",
    "    \n",
    "    for df_ind in df.index:\n",
    "        for list_ind, feature_value in enumerate(df.loc[df_ind][feature]):\n",
    "            row = df.loc[df_ind].values\n",
    "            row[feature_column] = row[feature_column][list_ind]\n",
    "            result.loc[next_index] = row\n",
    "            next_index = result.index.max()+1\n",
    "    return result"
   ]
  },
  {
   "cell_type": "code",
   "execution_count": 282,
   "metadata": {},
   "outputs": [
    {
     "name": "stdout",
     "output_type": "stream",
     "text": [
      "Wall time: 17.4 s\n"
     ]
    }
   ],
   "source": [
    "%%time\n",
    "data_tr_spl = features_list_splitting(data2, 'director')"
   ]
  },
  {
   "cell_type": "code",
   "execution_count": 284,
   "metadata": {},
   "outputs": [
    {
     "name": "stdout",
     "output_type": "stream",
     "text": [
      "Wall time: 2min 34s\n"
     ]
    }
   ],
   "source": [
    "%%time\n",
    "data_tr_spl = features_list_splitting(data_tr_spl, 'cast')"
   ]
  },
  {
   "cell_type": "code",
   "execution_count": 2,
   "metadata": {},
   "outputs": [
    {
     "data": {
      "text/plain": [
       "[('Chevrolet', 'Cobalt'),\n",
       " ('Dodge', 'Charger'),\n",
       " ('Dodge', 'Durango'),\n",
       " ('Ford', 'F150'),\n",
       " ('Ford', 'GT'),\n",
       " ('Ford', 'Taurus')]"
      ]
     },
     "execution_count": 2,
     "metadata": {},
     "output_type": "execute_result"
    }
   ],
   "source": [
    "vehicles = [('Ford', 'Taurus'), ('Dodge', 'Durango'),\n",
    "            ('Chevrolet', 'Cobalt'), ('Ford', 'F150'),\n",
    "            ('Dodge', 'Charger'), ('Ford', 'GT')]\n",
    " \n",
    "sorted_vehicles = sorted(vehicles)\n",
    "sorted_vehicles"
   ]
  },
  {
   "cell_type": "code",
   "execution_count": null,
   "metadata": {},
   "outputs": [],
   "source": []
  }
 ],
 "metadata": {
  "kernelspec": {
   "display_name": "Python 3",
   "language": "python",
   "name": "python3"
  },
  "language_info": {
   "codemirror_mode": {
    "name": "ipython",
    "version": 3
   },
   "file_extension": ".py",
   "mimetype": "text/x-python",
   "name": "python",
   "nbconvert_exporter": "python",
   "pygments_lexer": "ipython3",
   "version": "3.6.5"
  }
 },
 "nbformat": 4,
 "nbformat_minor": 2
}
